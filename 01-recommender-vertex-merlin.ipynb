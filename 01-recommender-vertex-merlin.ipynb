{
 "cells": [
  {
   "cell_type": "code",
   "execution_count": 3,
   "id": "25c20da6-d8ec-4018-a350-f053884fb185",
   "metadata": {},
   "outputs": [],
   "source": [
    "# !pip install matplotlib"
   ]
  },
  {
   "cell_type": "markdown",
   "id": "c2b13a21",
   "metadata": {
    "jp-MarkdownHeadingCollapsed": true,
    "tags": [],
    "toc-hr-collapsed": true
   },
   "source": [
    "# Environment Setup\n",
    "\n",
    "Push a Nvidia repo to your artifact repository - (create a new repo if not available)\n",
    "\n",
    "### Further instructions on how to build a Merlin container can be found [here](https://github.com/jswortz/merlin-gcp)\n",
    "\n",
    "Guide\n",
    "1. In an notebook instance run from a terminal `git clone https://github.com/jswortz/merlin-gcp`\n",
    "2. Run the notebook - this will build a merlin tensorflow image. You can change the base images from NVidia if you choose - this was tested from the version in the repo\n",
    "3. This will build a container image and save it to artifact registry repository. You may need to enable the artifact repository service\n",
    "4. Create a new custom workbench by clicking \"New Notebook\" > \"Customize\"\n",
    "\n",
    "<img src=\"img/custom_workbench.png\" width=\"500\"/>\n",
    "\n",
    "5. To get to the screen for artifact repository. First select \"Advanced\" then name, select region, then go to \"Environment\"\n",
    "\n",
    "<img src=\"img/workbench-environment.png\" width=\"500\"/>\n",
    "\n",
    "6. Select the your repo and respective image\n",
    "\n",
    "<img src=\"img/image.png\" width=\"500\"/>\n",
    "\n",
    "7. Finally, if you already followed the instructions in notebook 02 setup - make sure the new workbench network is in the VPC peered network used for matching engine\n",
    "\n",
    "# Training with Merlin\n",
    "\n",
    "## Spotify example\n",
    "\n",
    "Our goal is to enable the architecture below with Vertex AI and the Merlin Models framework\n",
    "\n",
    "![](img/arch.png)\n",
    "\n",
    "## Goals\n",
    "\n",
    "The goal of this notebook is to create a simple two tower model with Nvtabular and Merlin Models\n",
    "\n",
    "1. Export data to Parquet for use in Nvtabular\n",
    "2. Create a NVtabular workflow and fit it to the data\n",
    "3. Save the fitted workflow to GCS (contains all dictionary lookups)\n",
    "4. Transform the data into GPU-optimized features from the NVtabular workflow and save to gcs\n",
    "5. Load the data again as a Merlin dataset using the workflow\n",
    "6. Create a two tower model in a few lines of code\n",
    "7. Train a two tower model\n",
    "8. Save the model (for deployment in notebook 03)\n",
    "9. Export the embeddings and save to gcs (for deployment to matching engine)\n",
    "\n",
    "*Based heavily on [this](https://github.com/NVIDIA-Merlin/models/blob/main/examples/05-Retrieval-Model.ipynb) NVIDIA resource\n",
    "\n",
    "\n",
    "Data is loaded from BQ - to parquet using the job configuration below\n",
    "\n",
    "\n",
    "Info on the data\n",
    "\n",
    "* track_uri_seed counts: 2249561\n",
    "* artist_uri_seed counts: 294110\n",
    "* album_uri_seed counts: 730377"
   ]
  },
  {
   "cell_type": "markdown",
   "id": "a3ebae1b-c48f-4f16-a6b3-a49da98c2341",
   "metadata": {
    "tags": [],
    "toc-hr-collapsed": true
   },
   "source": [
    "# Export Data From BigQuery to Parquet on GCS"
   ]
  },
  {
   "cell_type": "code",
   "execution_count": 2,
   "id": "decc6184-2fd8-40d7-9a75-c186adfc24e5",
   "metadata": {},
   "outputs": [],
   "source": [
    "PROJECT = 'hybrid-vertex'  # <--- TODO: CHANGE THIS\n",
    "LOCATION = 'us-central1' \n",
    "# path = 'gs://two-tower-models' #TODO change to your model directory\n",
    "BUCKET = 'gs://spotify-beam-v3'\n",
    "DATASET_ID = 'mdp_eda_test'\n",
    "TABLE = 'train_flatten_last_5'\n",
    "TABLE_VALIDATION = 'train_flatten_valid_last_5'\n",
    "\n",
    "from google.cloud import bigquery\n",
    "client = bigquery.Client()\n",
    "\n",
    "def export_bq_to_parquet(PROJECT, DATASET_ID, TABLE, LOCATION, prefix):\n",
    "    destination_uri = f\"{BUCKET}/{prefix}_data_parquet/*.snappy.parquet\"\n",
    "    dataset_ref = bigquery.DatasetReference(PROJECT, DATASET_ID)\n",
    "    table_ref = dataset_ref.table(TABLE)\n",
    "    job_config = bigquery.job.ExtractJobConfig()\n",
    "    job_config.destination_format = bigquery.DestinationFormat.PARQUET\n",
    "    extract_job = client.extract_table(\n",
    "        table_ref,\n",
    "        destination_uri,\n",
    "        job_config=job_config,\n",
    "        # Location must match that of the source table.\n",
    "        location=LOCATION,\n",
    "    )  # API request\n",
    "    return(extract_job.result())  # Waits for job to complete."
   ]
  },
  {
   "cell_type": "markdown",
   "id": "0d49217e-d2d9-4648-8562-9bfdea67be8b",
   "metadata": {},
   "source": [
    "#### Export the data from Bigquery to Parquet\n",
    "\n",
    "*Run only once* Uncomment to run"
   ]
  },
  {
   "cell_type": "code",
   "execution_count": 2,
   "id": "4d833ce5",
   "metadata": {},
   "outputs": [
    {
     "data": {
      "text/plain": [
       "ExtractJob<project=hybrid-vertex, location=us-central1, id=660f1f65-1d25-43ea-a41f-46d0097aa978>"
      ]
     },
     "execution_count": 2,
     "metadata": {},
     "output_type": "execute_result"
    }
   ],
   "source": [
    "# training\n",
    "export_bq_to_parquet(PROJECT, DATASET_ID, TABLE, LOCATION, prefix='train')\n",
    "\n",
    "# validation\n",
    "export_bq_to_parquet(PROJECT, DATASET_ID, TABLE_VALIDATION, LOCATION, prefix='valid')"
   ]
  },
  {
   "cell_type": "code",
   "execution_count": 3,
   "id": "6cbb0089-cf5b-490b-ad9c-7e904a1dceee",
   "metadata": {},
   "outputs": [
    {
     "data": {
      "text/plain": [
       "ExtractJob<project=hybrid-vertex, location=us-central1, id=7326869f-e98a-4735-98cb-e65887b47211>"
      ]
     },
     "execution_count": 3,
     "metadata": {},
     "output_type": "execute_result"
    }
   ],
   "source": [
    "# ## We also need to extract the candidate dataset\n",
    "export_bq_to_parquet(PROJECT, DATASET_ID, 'candidates', LOCATION, prefix='candidates')"
   ]
  },
  {
   "cell_type": "markdown",
   "id": "aac54435-6c4f-41fa-a8f9-2a947cc0f018",
   "metadata": {
    "tags": [],
    "toc-hr-collapsed": true
   },
   "source": [
    "# Create a nvtabular workflow to preprocess the data"
   ]
  },
  {
   "cell_type": "code",
   "execution_count": 4,
   "id": "2c4a0787",
   "metadata": {},
   "outputs": [
    {
     "name": "stderr",
     "output_type": "stream",
     "text": [
      "2022-10-13 23:42:24.909429: I tensorflow/core/util/util.cc:169] oneDNN custom operations are on. You may see slightly different numerical results due to floating-point round-off errors from different computation orders. To turn them off, set the environment variable `TF_ENABLE_ONEDNN_OPTS=0`.\n",
      "2022-10-13 23:42:26.810405: I tensorflow/core/platform/cpu_feature_guard.cc:194] This TensorFlow binary is optimized with oneAPI Deep Neural Network Library (oneDNN) to use the following CPU instructions in performance-critical operations:  SSE3 SSE4.1 SSE4.2 AVX\n",
      "To enable them in other operations, rebuild TensorFlow with the appropriate compiler flags.\n",
      "2022-10-13 23:42:28.120182: I tensorflow/core/common_runtime/gpu/gpu_device.cc:1532] Created device /job:localhost/replica:0/task:0/device:GPU:0 with 20480 MB memory:  -> device: 0, name: NVIDIA A100-SXM4-40GB, pci bus id: 0000:00:04.0, compute capability: 8.0\n"
     ]
    }
   ],
   "source": [
    "import os\n",
    "import nvtabular as nvt\n",
    "from time import time\n",
    "import pandas as pd\n",
    "# disable INFO and DEBUG logging everywhere\n",
    "import logging\n",
    "import time\n",
    "\n",
    "logging.disable(logging.WARNING)\n",
    "\n",
    "from nvtabular.ops import (\n",
    "    Categorify,\n",
    "    TagAsUserID,\n",
    "    TagAsItemID,\n",
    "    TagAsItemFeatures,\n",
    "    TagAsUserFeatures,\n",
    "    AddMetadata,\n",
    "    ListSlice\n",
    ")\n",
    "import nvtabular.ops as ops\n",
    "\n",
    "from merlin.schema.tags import Tags\n",
    "\n",
    "import merlin.models.tf as mm\n",
    "from merlin.io.dataset import Dataset\n",
    "import tensorflow as tf\n",
    "\n",
    "# for running this example on CPU, comment out the line below\n",
    "os.environ[\"TF_GPU_ALLOCATOR\"] = \"cuda_malloc_async\""
   ]
  },
  {
   "cell_type": "markdown",
   "id": "64962317",
   "metadata": {},
   "source": [
    "### Create NVTabular Dataset\n",
    "This will be our pre-processor to hash strings and other preprocessing"
   ]
  },
  {
   "cell_type": "code",
   "execution_count": null,
   "id": "4c17d5fd",
   "metadata": {},
   "outputs": [],
   "source": [
    "train = nvt.Dataset(f\"{BUCKET}/train_data_parquet/*.snappy.parquet\")\n",
    "valid = nvt.Dataset(f\"{BUCKET}/valid_data_parquet/*.snappy.parquet\")"
   ]
  },
  {
   "cell_type": "markdown",
   "id": "edb299dc",
   "metadata": {},
   "source": [
    "#### Define the NVTabular preprocessing graph\n",
    "\n",
    "Nvtabular takes a tabular dataset and transforms the data into new Parquet files optimized for training. This is equivalent to running a string lookup in tensorflow, and has similar functionality as adpat when a workflow is used\n",
    "\n",
    "The graph is defined as a set of nodes and a node is defined as follows:\n",
    "\n",
    "``` \n",
    "NODE_NAME = LIST_OF_FEATURE_NAMES >> nvt.ops.* >> [NEXT_STEP] >> Tag\n",
    "```\n",
    "\n",
    "Nvt has many ops - one of the most notable is `Categorify` as it is flexible and converts high cardinality text features to indicies\n",
    "\n",
    "Tags are used as a means to label the schema in the metadata and serves as a label for merlin models to interpret for consumption (e.g. which features belong to the query tower and candidate tower have different tags). You will see the tags in the schema in examples below"
   ]
  },
  {
   "cell_type": "code",
   "execution_count": null,
   "id": "9b6833b4",
   "metadata": {
    "scrolled": true,
    "tags": []
   },
   "outputs": [],
   "source": [
    "item_id = [\"track_uri_can\"] >> Categorify(dtype=\"int32\") >> TagAsItemID() \n",
    "playlist_id = [\"pid\"] >> Categorify(dtype=\"int32\") >> TagAsUserID() \n",
    "\n",
    "\n",
    "item_features_cat = ['artist_name_can',\n",
    "        'track_name_can',\n",
    "        'artist_genres_can',\n",
    "    ]\n",
    "\n",
    "item_features_cont = [\n",
    "        'duration_ms_can',\n",
    "        'track_pop_can',\n",
    "        'artist_pop_can',\n",
    "        'artist_followers_can',\n",
    "    ]\n",
    "\n",
    "playlist_features_cat = [\n",
    "        'description_pl',\n",
    "        'name',\n",
    "        'collaborative',\n",
    "    ]\n",
    "\n",
    "playlist_features_cont = [\n",
    "        'duration_ms_seed_pl',\n",
    "        'n_songs_pl',\n",
    "        'num_artists_pl',\n",
    "        'num_albums_pl',\n",
    "    ]\n",
    "\n",
    "seq_feats_cat = [\n",
    "        'artist_name_pl',\n",
    "        'track_uri_pl',\n",
    "        'track_name_pl',\n",
    "        'album_name_pl',\n",
    "        'artist_genres_pl',\n",
    "    ]\n",
    "\n",
    "CAT = playlist_features_cat + item_features_cat\n",
    "CONT = item_features_cont + playlist_features_cont\n",
    "\n",
    "item_feature_cat_node = item_features_cat >> nvt.ops.FillMissing()>> Categorify(dtype=\"int32\") >> TagAsItemFeatures()\n",
    "\n",
    "item_feature_cont_node =  item_features_cont >> nvt.ops.FillMissing() >>  nvt.ops.Normalize() >> TagAsItemFeatures()\n",
    "\n",
    "playlist_feature_cat_node = playlist_features_cat >> nvt.ops.FillMissing() >> Categorify(dtype=\"int32\") >> TagAsUserFeatures() \n",
    "\n",
    "playlist_feature_cont_node = playlist_features_cont >> nvt.ops.FillMissing() >>  nvt.ops.Normalize() >> TagAsUserFeatures()\n",
    "\n",
    "playlist_feature_cat_seq_node = seq_feats_cat >> nvt.ops.FillMissing() >> Categorify(dtype=\"int32\") >> TagAsUserFeatures() "
   ]
  },
  {
   "cell_type": "markdown",
   "id": "17b6d819-38c9-4973-9cc5-a86af987b340",
   "metadata": {},
   "source": [
    "### Define a workflow\n",
    "This is an easy step by adding all nodes that need to run in parallel. A graphviz visualization of the graph is available below"
   ]
  },
  {
   "cell_type": "code",
   "execution_count": null,
   "id": "1744279e",
   "metadata": {},
   "outputs": [],
   "source": [
    "# define a workflow\n",
    "output = playlist_id + item_id \\\n",
    "+ item_feature_cat_node \\\n",
    "+ item_feature_cont_node \\\n",
    "+ playlist_feature_cat_node \\\n",
    "+ playlist_feature_cont_node \\\n",
    "+ playlist_feature_cat_seq_node \n",
    "\n",
    "\n",
    "workflow = nvt.Workflow(output)"
   ]
  },
  {
   "cell_type": "code",
   "execution_count": null,
   "id": "2b842eee",
   "metadata": {},
   "outputs": [],
   "source": [
    "output.graph"
   ]
  },
  {
   "cell_type": "markdown",
   "id": "577993c5-ff3c-4e0d-89ef-e49ed93d7017",
   "metadata": {},
   "source": [
    "### Before we transform the data, let's look at an original record\n",
    "This loads the data into a dask pandas dataframe. `.to_ddf()` converts the dataset into a dask df"
   ]
  },
  {
   "cell_type": "code",
   "execution_count": null,
   "id": "9eea53fc",
   "metadata": {},
   "outputs": [],
   "source": [
    "# Don't truncate text fields in the display\n",
    "pd.set_option(\"display.max_colwidth\", None)\n",
    "\n",
    "valid.to_ddf().head(1)"
   ]
  },
  {
   "cell_type": "markdown",
   "id": "d8966c52",
   "metadata": {},
   "source": [
    "### Now set the output buckets for the validation and training"
   ]
  },
  {
   "cell_type": "code",
   "execution_count": null,
   "id": "a9f65eb2",
   "metadata": {},
   "outputs": [],
   "source": [
    "output_path = os.path.join(BUCKET, \"merlin-processed\")\n",
    "output_train_dir = os.path.join(output_path, 'train/')\n",
    "output_valid_dir = os.path.join(output_path, 'valid/')\n",
    "output_workflow_dir = os.path.join(output_path, 'workflow/')\n",
    "\n",
    "\n",
    "print(f\"Train data dir: {output_train_dir}\\nValid data dir: {output_valid_dir}\")"
   ]
  },
  {
   "cell_type": "markdown",
   "id": "591bc597",
   "metadata": {
    "tags": []
   },
   "source": [
    "## Load and preprocess training data back to Parquet GCS\n",
    "helpful resources https://cloud.google.com/compute/docs/gpus/monitor-gpus\n",
    "\n",
    "## Also, be sure to install `nvtop` the install script is in `utils/install_nvtop.sh`\n",
    "\n",
    "## Fit Transform is called on the workflow to pass over the data\n",
    "The categorical and continuous features must be specified. In this example shuffling is enabled so we only shuflle one time. You can size your output and experiment with number of output files - depending on your use case think of your GPU memory available with respective file sizes\n",
    "\n",
    "## ** This can take some time (about an hour) but is a one-time save to gcs **"
   ]
  },
  {
   "cell_type": "code",
   "execution_count": 28,
   "id": "89ed414f-8513-453b-815d-bda239db9904",
   "metadata": {},
   "outputs": [],
   "source": [
    "import time"
   ]
  },
  {
   "cell_type": "code",
   "execution_count": null,
   "id": "885f3001",
   "metadata": {},
   "outputs": [],
   "source": [
    "%%time\n",
    "\n",
    "time_preproc = 0\n",
    "time_preproc_start = time.time()\n",
    "\n",
    "workflow.fit_transform(train).to_parquet(output_path=output_train_dir, \n",
    "                                         shuffle=nvt.io.Shuffle.PER_PARTITION,\n",
    "                                         cats=CAT,\n",
    "                                         conts=CONT, \n",
    "                                         output_files = 100\n",
    "                                         ) #preserve_files=True keeps the original file sharding\n",
    "\n",
    "\n",
    "time_preproc += time.time()-time_preproc_start"
   ]
  },
  {
   "cell_type": "markdown",
   "id": "1ae9d020-2f13-4c55-8c8b-da07b247c671",
   "metadata": {},
   "source": [
    "### Saving to GCS is simple with GCS Fuse, which is already included in the if you built an image from [here](https://github.com/jswortz/merlin-gcp)"
   ]
  },
  {
   "cell_type": "code",
   "execution_count": null,
   "id": "ab4bd5af",
   "metadata": {},
   "outputs": [],
   "source": [
    "#save the workflow to disk (GCS here via ) after it has been fit\n",
    "workflow.save(os.path.join(output_workflow_dir,'2t-spotify-workflow'))\n",
    "\n",
    "#locally for demo too\n",
    "workflow.save('2t-spotify-workflow')"
   ]
  },
  {
   "cell_type": "markdown",
   "id": "2fe8433d",
   "metadata": {},
   "source": [
    "## Transform validation data using the same workflow\n",
    "\n",
    "This works similarly to a sklearn object where you can fit then transform after"
   ]
  },
  {
   "cell_type": "code",
   "execution_count": null,
   "id": "d6000545",
   "metadata": {},
   "outputs": [],
   "source": [
    "%%time\n",
    "\n",
    "time_preproc_start = time.time()\n",
    "workflow.transform(valid).to_parquet(output_path=output_valid_dir, \n",
    "                                         shuffle=nvt.io.Shuffle.PER_PARTITION,\n",
    "                                         cats=CAT,\n",
    "                                         conts=CONT,\n",
    "                                         output_files=10\n",
    "                                         )\n",
    "\n",
    "\n",
    "time_preproc += time.time()-time_preproc_start"
   ]
  },
  {
   "cell_type": "code",
   "execution_count": null,
   "id": "e8922d66-c947-411b-9442-a34ce34b2752",
   "metadata": {},
   "outputs": [],
   "source": [
    "workflow.input_schema"
   ]
  },
  {
   "cell_type": "markdown",
   "id": "471f8f32",
   "metadata": {},
   "source": [
    "### Examine some of the output data from nvtabular\n",
    "\n",
    "The data is presented as a Dask Pandas DF - so the interface is very familiar if you know Pandas\n",
    "\n",
    "Now the data has encoded the values of the strings with categorify, filled missing values, and normalized continuous variables. Now when you look at categorical data like `track_name_pl`, you will see the data represented as an integer, ready to quickly load to an embedding layer, as opposed to hashing each Epoch like when including stringlookups or hash functions in a tfrs model. This ensures the unven profile caused by cpu/gpu bottlnecks during lookup functions are processed just once and efficiently.\n",
    "\n",
    "#### Example of NVTabular Gpu Consumption Pattern\n",
    "A100 a1-high-gpu\n",
    "![Example of Nvtop](img/nvtop.png)\n",
    "\n",
    "Note that the lookup tables for the various categorified data can be found in the `categories/` folder of the workflow. You also will notice a link in the data schema (more on that below) to the files by each field - this is how you can do reverse lookups later"
   ]
  },
  {
   "cell_type": "code",
   "execution_count": null,
   "id": "7bbdc113",
   "metadata": {},
   "outputs": [],
   "source": [
    "nvtdata = pd.read_parquet(output_train_dir+'part_0.parquet')\n",
    "nvtdata['track_name_pl'].head(3) "
   ]
  },
  {
   "cell_type": "code",
   "execution_count": null,
   "id": "2039bb14",
   "metadata": {},
   "outputs": [],
   "source": [
    "nvtdata = pd.read_parquet(output_train_dir+'part_0.parquet')\n",
    "nvtdata['artist_name_can'].head(10)"
   ]
  },
  {
   "cell_type": "markdown",
   "id": "e2012c18-eda7-49bb-b45c-c3d953ff330f",
   "metadata": {},
   "source": [
    "### Total rows for `part_0.parquet`\n",
    "Total rows x number of partitions (`output_files` in `workflow.to_parquet()`)"
   ]
  },
  {
   "cell_type": "code",
   "execution_count": null,
   "id": "e7ba4f12",
   "metadata": {},
   "outputs": [],
   "source": [
    "len(nvtdata)"
   ]
  },
  {
   "cell_type": "markdown",
   "id": "f2ffee50-6fc4-4628-b057-57fc1e485be0",
   "metadata": {},
   "source": [
    "#### Quick view of the embedding dimensions\n",
    "`(INPUT_CARDINALITY, EMB_DIM)`"
   ]
  },
  {
   "cell_type": "code",
   "execution_count": null,
   "id": "0eb04de9",
   "metadata": {},
   "outputs": [],
   "source": [
    "embeddings = ops.get_embedding_sizes(workflow)\n",
    "embeddings"
   ]
  },
  {
   "cell_type": "code",
   "execution_count": null,
   "id": "f76d024c",
   "metadata": {},
   "outputs": [],
   "source": [
    "print([embeddings[0][x] for x in item_feature_cat_node.output_columns.names])"
   ]
  },
  {
   "cell_type": "code",
   "execution_count": null,
   "id": "92b7addb",
   "metadata": {},
   "outputs": [],
   "source": [
    "playlist_feature_cont_node.output_columns.names"
   ]
  },
  {
   "cell_type": "markdown",
   "id": "bd24b35b",
   "metadata": {
    "toc-hr-collapsed": true
   },
   "source": [
    "# Load the processed data into a Merlin Dataset and Train a Two Tower Model\n",
    "\n",
    "Now that data inspection is over, the workflow is saved and data is processed to the `output_path`\n",
    "\n",
    "The above only needs to be run once as well - the workflow and transformed files can be directly loaded from gcs from now on"
   ]
  },
  {
   "cell_type": "markdown",
   "id": "a0f616eb",
   "metadata": {},
   "source": [
    "### Get the embedding dimensions from the workflow"
   ]
  },
  {
   "cell_type": "code",
   "execution_count": null,
   "id": "c81777c4",
   "metadata": {},
   "outputs": [],
   "source": [
    "# load back the workflow and schema\n",
    "# spotify-builtin-2t/merlin-processed/workflow/2t-spotify-workflow\n",
    "workflow = nvt.Workflow.load(os.path.join(BUCKET, \"merlin-processed/workflow/2t-spotify-workflow\"))\n",
    "schema = workflow.output_schema\n",
    "embeddings = ops.get_embedding_sizes(workflow)\n",
    "embeddings"
   ]
  },
  {
   "cell_type": "code",
   "execution_count": null,
   "id": "feed4018",
   "metadata": {},
   "outputs": [],
   "source": [
    "from merlin.models.utils.example_utils import workflow_fit_transform\n",
    "\n",
    "from merlin.schema.tags import Tags\n",
    "\n",
    "import merlin.models.tf as mm\n",
    "from merlin.io.dataset import Dataset as MerlinDataset\n",
    "\n",
    "train = MerlinDataset(os.path.join(output_train_dir, \"*.parquet\"), schema=schema, part_size=\"1GB\")\n",
    "valid = MerlinDataset(os.path.join(output_valid_dir, \"*.parquet\"), schema=schema, part_size=\"1GB\")"
   ]
  },
  {
   "cell_type": "markdown",
   "id": "d1d6279f",
   "metadata": {},
   "source": [
    "Direct quote from [here](https://github.com/NVIDIA-Merlin/models/blob/main/examples/05-Retrieval-Model.ipynb)\n",
    "\n",
    "Other info on modeling setup\n",
    "\n",
    "### Negative sampling\n",
    "Many datasets for recommender systems contain implicit feedback with logs of user interactions like clicks, add-to-cart, purchases, music listening events, rather than explicit ratings that reflects user preferences over items. To be able to learn from implicit feedback, we use the general (and naive) assumption that the interacted items are more relevant for the user than the non-interacted ones. In Merlin Models we provide some scaleable negative sampling algorithms for the Item Retrieval Task. In particular, we use in this example the in-batch sampling algorithm which uses the items interacted by other users as negatives within the same mini-batch.\n",
    "\n",
    "### Building the Model\n",
    "Now, let's build our Two-Tower model. In a nutshell, we aggregate all user features to feed in user tower and feed the item features to the item tower. Then we compute the positive score by multiplying the user embedding with the item embedding and sample negative items (read more about negative sampling here and here), whose item embeddings are also multiplied by the user embedding. Then we apply the loss function on top of the positive and negative scores.\n",
    "\n",
    "- Other model types can be found on the [Merlin Models API Documentation Page](https://nvidia-merlin.github.io/models/main/api.html#tensorflow-models)\n",
    "\n",
    "### Vertex Experiments\n",
    "\n",
    "We will organize all of our runs with Merlin in one experiment id `spotify-merlin-train-full-data-v1`. Under this experiment, we will have multiple runs that will be tracked in the experiment interface as well as Tensorboard"
   ]
  },
  {
   "cell_type": "code",
   "execution_count": null,
   "id": "f7f4d7c6",
   "metadata": {},
   "outputs": [],
   "source": [
    "# wone_shot_cmd use this to track data in tensorboard\n",
    "from google.cloud import aiplatform as vertex_ai\n",
    "\n",
    "TB_RESOURCE_NAME = 'projects/934903580331/locations/us-central1/tensorboards/7336372589079560192' #fqn - project number then tensorboard id\n",
    "EXPERIMENT_NAME = f'spotify-merlin-train-full-data-v1-3'\n",
    "RUN_NAME = f'run-{EXPERIMENT_NAME}-{time.strftime(\"%Y%m%d-%H%M%S\")}'#be sure to think about run and experiment naming strategies so names don't collide\n",
    "logs_dir = f'{output_path}/tb_logs/{EXPERIMENT_NAME}/{RUN_NAME}'\n",
    "\n",
    "#helper function to get the tb-uploader command\n",
    "\n",
    "def get_upload_logs_to_manged_tb_command(oneshot=\"false\"):\n",
    "    \"\"\"\n",
    "    Run this and copy/paste the command into terminal to have \n",
    "    upload the tensorboard logs from this machine to the managed tb instance\n",
    "    Note that the log dir is at the granularity of the run to help select the proper\n",
    "    timestamped run in Tensorboard\n",
    "    You can also run this in one-shot mode after training is done \n",
    "    to upload all tb objects at once\n",
    "    \"\"\"\n",
    "    return(f\"\"\"tb-gcp-uploader --tensorboard_resource_name={TB_RESOURCE_NAME} \\\n",
    "      --logdir={logs_dir} \\\n",
    "      --experiment_name={EXPERIMENT_NAME} \\\n",
    "      --one_shot={oneshot} \\\n",
    "      --event_file_inactive_secs={60*60*5}\"\"\")\n",
    "\n",
    "print(get_upload_logs_to_manged_tb_command())\n",
    "\n",
    "vertex_ai.init(experiment=EXPERIMENT_NAME)\n",
    "\n",
    "layers = [256, 128]\n",
    "LR = .001\n",
    "BS = 4096 * 2\n",
    "epoch = 30\n",
    "\n",
    "\n",
    "tensorboard_callback = tf.keras.callbacks.TensorBoard(\n",
    "        log_dir=logs_dir,\n",
    "        histogram_freq=0, \n",
    "        write_graph=True, \n",
    "        # profile_batch=(20,50) #run profiler on steps 20-40 - enable this line if you want to run profiler from the utils/ notebook\n",
    "    )\n"
   ]
  },
  {
   "cell_type": "code",
   "execution_count": null,
   "id": "d2ec3d2e-0c20-4a2b-8f59-3ca93d16470c",
   "metadata": {},
   "outputs": [],
   "source": [
    "model = mm.TwoTowerModel(\n",
    "    schema,\n",
    "    query_tower=mm.MLPBlock(layers, no_activation_last_layer=True),\n",
    "    item_tower=mm.MLPBlock(layers, no_activation_last_layer=True),\n",
    "    samplers=[mm.InBatchSampler()],\n",
    "    embedding_options=mm.EmbeddingOptions(infer_embedding_sizes=True),\n",
    ")"
   ]
  },
  {
   "cell_type": "markdown",
   "id": "ea0dff1e",
   "metadata": {},
   "source": [
    "Let's explain the parameters in the TwoTowerModel():\n",
    "\n",
    "* `no_activation_last_layer`: when set True, no activation is used for top hidden layer. Learn more here.\n",
    "* `infer_embedding_sizes`: when set True, automatically defines the embedding dimension from the feature cardinality in the schema\n",
    "\n",
    "**Metrics:**\n",
    "\n",
    "The following information retrieval metrics are used to compute the Top-10 accuracy of recommendation lists containing all items:\n",
    "\n",
    "* **Normalized Discounted Cumulative Gain (NDCG@10)**: NDCG accounts for rank of the relevant item in the recommendation list and is a more fine-grained metric than HR, which only verifies whether the relevant item is among the top-k items.\n",
    "\n",
    "* **Recall@10:** Also known as HitRate@n when there is only one relevant item in the recommendation list. Recall just verifies whether the relevant item is among the top-n items."
   ]
  },
  {
   "cell_type": "code",
   "execution_count": null,
   "id": "f716afa9",
   "metadata": {
    "tags": []
   },
   "outputs": [],
   "source": [
    "# model.set_retrieval_candidates_for_evaluation(train)\n",
    "opt = tf.keras.optimizers.Adagrad(learning_rate=LR)\n",
    "model.compile(optimizer=opt, run_eagerly=False, \n",
    "              metrics=[mm.RecallAt(1), \n",
    "                       mm.RecallAt(10), \n",
    "                       mm.NDCGAt(10)])\n",
    "model.fit(train, \n",
    "          validation_data=valid, \n",
    "          batch_size=BS, \n",
    "          epochs=epoch,\n",
    "          # steps_per_epoch=20, #for dev if need be\n",
    "          callbacks=[tensorboard_callback],)\n",
    "\n",
    "#get the metrics for the experiment run\n",
    "history_keys = model.history.history.keys()\n",
    "\n",
    "#upload everything to  tb only do this if you were not streaming with the above command\n",
    "one_shot_cmd = get_upload_logs_to_manged_tb_command(oneshot=\"true\")\n",
    "! $one_shot_cmd\n",
    "\n",
    "vertex_ai.start_run(RUN_NAME, tensorboard=TB_RESOURCE_NAME)\n",
    "\n",
    "vertex_ai.log_params({\"layers\": str(layers), \n",
    "                      \"learning_rate\": LR,\n",
    "                        \"num_epochs\": epoch,\n",
    "                        \"batch_size\": BS,\n",
    "                     })\n",
    "\n",
    "metrics_dict = {}\n",
    "_ = [metrics_dict.update({key: model.history.history[key][-1]}) for key in history_keys]\n",
    "metrics_dict\n",
    "vertex_ai.log_metrics(metrics_dict)\n",
    "vertex_ai.end_run() #end collecting metrics and the run is complete"
   ]
  },
  {
   "cell_type": "markdown",
   "id": "e2679030-e501-4b45-8cc1-88127c06f35c",
   "metadata": {},
   "source": [
    "- The One-shot command above will download your metrics to tensorboard - and will be avialble in the Experiments tab of Vertex\n",
    " \n",
    "#### Ideally you should be seeing GPU utilization like this - play with batch size to target ~ 70-80% utilization\n",
    "![](img/merlin-training-nvtop.png)"
   ]
  },
  {
   "cell_type": "markdown",
   "id": "d90f1bf8-26e8-44a3-b2f6-dae3852e5589",
   "metadata": {},
   "source": [
    "### Plotting performance of loss and recall"
   ]
  },
  {
   "cell_type": "code",
   "execution_count": 16,
   "id": "00a534cc-fe0a-4c7c-a3d5-22b654154077",
   "metadata": {},
   "outputs": [
    {
     "data": {
      "image/png": "[encoded data removed]",
      "text/plain": [
       "<Figure size 432x288 with 1 Axes>"
      ]
     },
     "metadata": {
      "needs_background": "light"
     },
     "output_type": "display_data"
    }
   ],
   "source": [
    "import matplotlib.pyplot as plt\n",
    "\n",
    "def plot_performance(x, y1, y2, label_1, label_2, label_y):\n",
    "    plt.plot(x, y1, label = label_1)\n",
    "    plt.plot(x, y2, label = label_2)\n",
    "    plt.xlabel('Epoch')\n",
    "    plt.ylabel(label_y)\n",
    "    plt.title(label_y)\n",
    "    plt.legend()\n",
    "    plt.show()\n",
    "\n",
    "    \n",
    "plot_performance(x=range(epoch), \n",
    "                 y1=model.history.history['loss'], \n",
    "                 y2=model.history.history['val_loss'], \n",
    "                 label_1='train-loss', \n",
    "                 label_2='val-los', \n",
    "                 label_y='loss')"
   ]
  },
  {
   "cell_type": "markdown",
   "id": "30920ba2-f595-410c-8d75-97b71c508d27",
   "metadata": {},
   "source": [
    "#### Looking at the recall of predicting the next song by epoch"
   ]
  },
  {
   "cell_type": "code",
   "execution_count": 17,
   "id": "84ee7064-2950-4488-bb93-80a644cfc6f8",
   "metadata": {},
   "outputs": [
    {
     "data": {
      "image/png": "[encoded data removed]",
      "text/plain": [
       "<Figure size 432x288 with 1 Axes>"
      ]
     },
     "metadata": {
      "needs_background": "light"
     },
     "output_type": "display_data"
    }
   ],
   "source": [
    "plot_performance(x=range(epoch), \n",
    "                 y1=model.history.history['recall_at_1'], \n",
    "                 y2=model.history.history['val_recall_at_1'], \n",
    "                 label_1='recall_at_1', \n",
    "                 label_2='recall_at_1_val', \n",
    "                 label_y='recall_at_1')"
   ]
  },
  {
   "cell_type": "markdown",
   "id": "a4a9ec19",
   "metadata": {},
   "source": [
    "#### Save query model"
   ]
  },
  {
   "cell_type": "code",
   "execution_count": 18,
   "id": "5aad64ae-08f1-41b8-b816-cf535df9f171",
   "metadata": {},
   "outputs": [],
   "source": [
    "query_tower = model.retrieval_block.query_block()\n",
    "query_tower.save(os.path.join(output_path, 'query_model_merlin'))"
   ]
  },
  {
   "cell_type": "markdown",
   "id": "ba5b6bc0",
   "metadata": {},
   "source": [
    "### Save embeddings to GCS for each song - this will become our Matching Engine index"
   ]
  },
  {
   "cell_type": "code",
   "execution_count": null,
   "id": "897c7f11",
   "metadata": {},
   "outputs": [],
   "source": [
    "from merlin.models.utils.dataset import unique_rows_by_features\n",
    "\n",
    "item_features = (\n",
    "    unique_rows_by_features(train, Tags.ITEM, Tags.ITEM_ID)\n",
    "    .compute()\n",
    "    .reset_index(drop=True)\n",
    ")\n",
    "\n",
    "item_embs = model.item_embeddings(\n",
    "    MerlinDataset(item_features, schema=schema), batch_size=10000\n",
    ")\n",
    "\n",
    "def format_for_matching_engine(data) -> None:\n",
    "    emb = [float(data[i]) for i in range(layers[-1])] # get the embeddings\n",
    "    formatted_emb = '{\"id\":\"' + str(data['track_uri_can']) + '\",\"embedding\":[' + \",\".join(str(x) for x in list(emb)) + ']}'\n",
    "    return(formatted_emb)\n",
    "    # with open(\"candidate_embeddings.json\", 'a') as f:\n",
    "    #     f.write(formatted_emb)\n",
    "    #     f.write(\"\\n\")\n",
    "        \n",
    "\n",
    "!rm candidate_embeddings.json > /dev/null \n",
    "!touch candidate_embeddings.json\n",
    "\n",
    "item_embs_df = item_embs.map(format_for_matching_engine).compute(scheduler=\"synchronous\")"
   ]
  },
  {
   "cell_type": "code",
   "execution_count": 59,
   "id": "888277b0",
   "metadata": {},
   "outputs": [
    {
     "data": {
      "text/html": [
       "<div>\n",
       "<style scoped>\n",
       "    .dataframe tbody tr th:only-of-type {\n",
       "        vertical-align: middle;\n",
       "    }\n",
       "\n",
       "    .dataframe tbody tr th {\n",
       "        vertical-align: top;\n",
       "    }\n",
       "\n",
       "    .dataframe thead th {\n",
       "        text-align: right;\n",
       "    }\n",
       "</style>\n",
       "<table border=\"1\" class=\"dataframe\">\n",
       "  <thead>\n",
       "    <tr style=\"text-align: right;\">\n",
       "      <th></th>\n",
       "      <th>track_uri_can</th>\n",
       "      <th>artist_name_can</th>\n",
       "      <th>track_name_can</th>\n",
       "      <th>artist_genres_can</th>\n",
       "      <th>duration_ms_can</th>\n",
       "      <th>track_pop_can</th>\n",
       "      <th>artist_pop_can</th>\n",
       "      <th>artist_followers_can</th>\n",
       "      <th>0</th>\n",
       "      <th>1</th>\n",
       "      <th>...</th>\n",
       "      <th>118</th>\n",
       "      <th>119</th>\n",
       "      <th>120</th>\n",
       "      <th>121</th>\n",
       "      <th>122</th>\n",
       "      <th>123</th>\n",
       "      <th>124</th>\n",
       "      <th>125</th>\n",
       "      <th>126</th>\n",
       "      <th>127</th>\n",
       "    </tr>\n",
       "  </thead>\n",
       "  <tbody>\n",
       "    <tr>\n",
       "      <th>0</th>\n",
       "      <td>1</td>\n",
       "      <td>3</td>\n",
       "      <td>3</td>\n",
       "      <td>9</td>\n",
       "      <td>-0.781673</td>\n",
       "      <td>1.586067</td>\n",
       "      <td>1.230248</td>\n",
       "      <td>0.946740</td>\n",
       "      <td>1.027417</td>\n",
       "      <td>-0.165185</td>\n",
       "      <td>...</td>\n",
       "      <td>1.064858</td>\n",
       "      <td>0.564497</td>\n",
       "      <td>0.557188</td>\n",
       "      <td>-0.708082</td>\n",
       "      <td>-0.282518</td>\n",
       "      <td>0.645299</td>\n",
       "      <td>-0.397996</td>\n",
       "      <td>-0.388138</td>\n",
       "      <td>-0.592544</td>\n",
       "      <td>0.313847</td>\n",
       "    </tr>\n",
       "    <tr>\n",
       "      <th>1</th>\n",
       "      <td>2</td>\n",
       "      <td>1</td>\n",
       "      <td>6</td>\n",
       "      <td>3</td>\n",
       "      <td>-0.822475</td>\n",
       "      <td>-1.214718</td>\n",
       "      <td>1.619445</td>\n",
       "      <td>4.136339</td>\n",
       "      <td>0.795340</td>\n",
       "      <td>0.800919</td>\n",
       "      <td>...</td>\n",
       "      <td>1.102685</td>\n",
       "      <td>-0.225948</td>\n",
       "      <td>-0.149084</td>\n",
       "      <td>-1.478371</td>\n",
       "      <td>-0.900720</td>\n",
       "      <td>-0.156477</td>\n",
       "      <td>-0.419396</td>\n",
       "      <td>-0.396499</td>\n",
       "      <td>0.121589</td>\n",
       "      <td>0.650230</td>\n",
       "    </tr>\n",
       "    <tr>\n",
       "      <th>2</th>\n",
       "      <td>3</td>\n",
       "      <td>186</td>\n",
       "      <td>8</td>\n",
       "      <td>194</td>\n",
       "      <td>-0.129093</td>\n",
       "      <td>0.927059</td>\n",
       "      <td>-0.159740</td>\n",
       "      <td>-0.465144</td>\n",
       "      <td>1.612775</td>\n",
       "      <td>0.020441</td>\n",
       "      <td>...</td>\n",
       "      <td>1.070267</td>\n",
       "      <td>0.872961</td>\n",
       "      <td>0.439633</td>\n",
       "      <td>-0.165393</td>\n",
       "      <td>-0.096549</td>\n",
       "      <td>0.499887</td>\n",
       "      <td>-0.183899</td>\n",
       "      <td>-0.373360</td>\n",
       "      <td>-0.128138</td>\n",
       "      <td>0.483752</td>\n",
       "    </tr>\n",
       "    <tr>\n",
       "      <th>3</th>\n",
       "      <td>4</td>\n",
       "      <td>17</td>\n",
       "      <td>5</td>\n",
       "      <td>23</td>\n",
       "      <td>-0.195589</td>\n",
       "      <td>1.520166</td>\n",
       "      <td>1.230248</td>\n",
       "      <td>2.201993</td>\n",
       "      <td>0.832921</td>\n",
       "      <td>-0.290086</td>\n",
       "      <td>...</td>\n",
       "      <td>1.164500</td>\n",
       "      <td>0.043368</td>\n",
       "      <td>0.327917</td>\n",
       "      <td>-1.189103</td>\n",
       "      <td>-0.382874</td>\n",
       "      <td>0.518935</td>\n",
       "      <td>-0.596712</td>\n",
       "      <td>-0.275946</td>\n",
       "      <td>-0.242574</td>\n",
       "      <td>0.571704</td>\n",
       "    </tr>\n",
       "    <tr>\n",
       "      <th>4</th>\n",
       "      <td>5</td>\n",
       "      <td>12</td>\n",
       "      <td>1</td>\n",
       "      <td>19</td>\n",
       "      <td>0.138343</td>\n",
       "      <td>1.619018</td>\n",
       "      <td>0.896651</td>\n",
       "      <td>0.894903</td>\n",
       "      <td>0.840739</td>\n",
       "      <td>-0.427716</td>\n",
       "      <td>...</td>\n",
       "      <td>1.088635</td>\n",
       "      <td>0.293556</td>\n",
       "      <td>0.099311</td>\n",
       "      <td>-0.962879</td>\n",
       "      <td>0.344414</td>\n",
       "      <td>0.880466</td>\n",
       "      <td>-0.628001</td>\n",
       "      <td>-0.117416</td>\n",
       "      <td>0.114614</td>\n",
       "      <td>0.575133</td>\n",
       "    </tr>\n",
       "    <tr>\n",
       "      <th>...</th>\n",
       "      <td>...</td>\n",
       "      <td>...</td>\n",
       "      <td>...</td>\n",
       "      <td>...</td>\n",
       "      <td>...</td>\n",
       "      <td>...</td>\n",
       "      <td>...</td>\n",
       "      <td>...</td>\n",
       "      <td>...</td>\n",
       "      <td>...</td>\n",
       "      <td>...</td>\n",
       "      <td>...</td>\n",
       "      <td>...</td>\n",
       "      <td>...</td>\n",
       "      <td>...</td>\n",
       "      <td>...</td>\n",
       "      <td>...</td>\n",
       "      <td>...</td>\n",
       "      <td>...</td>\n",
       "      <td>...</td>\n",
       "      <td>...</td>\n",
       "    </tr>\n",
       "    <tr>\n",
       "      <th>2183652</th>\n",
       "      <td>2183653</td>\n",
       "      <td>168742</td>\n",
       "      <td>1101982</td>\n",
       "      <td>33697</td>\n",
       "      <td>2.539941</td>\n",
       "      <td>-1.247668</td>\n",
       "      <td>-2.050123</td>\n",
       "      <td>-0.526341</td>\n",
       "      <td>1.349165</td>\n",
       "      <td>0.285046</td>\n",
       "      <td>...</td>\n",
       "      <td>0.204863</td>\n",
       "      <td>0.582871</td>\n",
       "      <td>-0.955833</td>\n",
       "      <td>0.276063</td>\n",
       "      <td>-0.798048</td>\n",
       "      <td>-0.072003</td>\n",
       "      <td>-0.109233</td>\n",
       "      <td>-0.272471</td>\n",
       "      <td>0.187450</td>\n",
       "      <td>0.138160</td>\n",
       "    </tr>\n",
       "    <tr>\n",
       "      <th>2183653</th>\n",
       "      <td>2183654</td>\n",
       "      <td>3483</td>\n",
       "      <td>1378960</td>\n",
       "      <td>3231</td>\n",
       "      <td>1.432538</td>\n",
       "      <td>-1.280619</td>\n",
       "      <td>-0.159740</td>\n",
       "      <td>-0.491750</td>\n",
       "      <td>0.985480</td>\n",
       "      <td>0.737579</td>\n",
       "      <td>...</td>\n",
       "      <td>0.613746</td>\n",
       "      <td>0.188398</td>\n",
       "      <td>-0.644459</td>\n",
       "      <td>0.236232</td>\n",
       "      <td>-0.637199</td>\n",
       "      <td>0.064386</td>\n",
       "      <td>-0.234159</td>\n",
       "      <td>-0.121663</td>\n",
       "      <td>0.102535</td>\n",
       "      <td>0.044723</td>\n",
       "    </tr>\n",
       "    <tr>\n",
       "      <th>2183654</th>\n",
       "      <td>2183655</td>\n",
       "      <td>4155</td>\n",
       "      <td>1073867</td>\n",
       "      <td>7</td>\n",
       "      <td>-0.494134</td>\n",
       "      <td>-1.280619</td>\n",
       "      <td>-0.437737</td>\n",
       "      <td>-0.510225</td>\n",
       "      <td>0.955354</td>\n",
       "      <td>1.133114</td>\n",
       "      <td>...</td>\n",
       "      <td>0.678069</td>\n",
       "      <td>0.342456</td>\n",
       "      <td>-0.408787</td>\n",
       "      <td>0.065800</td>\n",
       "      <td>-0.669738</td>\n",
       "      <td>0.201942</td>\n",
       "      <td>-0.102474</td>\n",
       "      <td>-0.255200</td>\n",
       "      <td>0.261309</td>\n",
       "      <td>0.739034</td>\n",
       "    </tr>\n",
       "    <tr>\n",
       "      <th>2183655</th>\n",
       "      <td>2183656</td>\n",
       "      <td>30656</td>\n",
       "      <td>9333</td>\n",
       "      <td>1</td>\n",
       "      <td>0.107287</td>\n",
       "      <td>-1.181768</td>\n",
       "      <td>-1.327330</td>\n",
       "      <td>-0.526103</td>\n",
       "      <td>1.052967</td>\n",
       "      <td>0.744875</td>\n",
       "      <td>...</td>\n",
       "      <td>0.413408</td>\n",
       "      <td>0.407157</td>\n",
       "      <td>-0.711015</td>\n",
       "      <td>0.052824</td>\n",
       "      <td>-0.943417</td>\n",
       "      <td>-0.031429</td>\n",
       "      <td>-0.030606</td>\n",
       "      <td>-0.342242</td>\n",
       "      <td>0.182637</td>\n",
       "      <td>0.553132</td>\n",
       "    </tr>\n",
       "    <tr>\n",
       "      <th>2183656</th>\n",
       "      <td>2183657</td>\n",
       "      <td>200820</td>\n",
       "      <td>1213181</td>\n",
       "      <td>1</td>\n",
       "      <td>-0.665561</td>\n",
       "      <td>-1.280619</td>\n",
       "      <td>-3.662509</td>\n",
       "      <td>-0.526455</td>\n",
       "      <td>1.158850</td>\n",
       "      <td>0.844027</td>\n",
       "      <td>...</td>\n",
       "      <td>-0.066403</td>\n",
       "      <td>0.686270</td>\n",
       "      <td>-0.746260</td>\n",
       "      <td>-0.224668</td>\n",
       "      <td>-1.170740</td>\n",
       "      <td>-0.403910</td>\n",
       "      <td>0.205262</td>\n",
       "      <td>-0.264375</td>\n",
       "      <td>0.302076</td>\n",
       "      <td>0.868143</td>\n",
       "    </tr>\n",
       "  </tbody>\n",
       "</table>\n",
       "<p>2183657 rows × 136 columns</p>\n",
       "</div>"
      ],
      "text/plain": [
       "         track_uri_can  artist_name_can  track_name_can  artist_genres_can  \\\n",
       "0                    1                3               3                  9   \n",
       "1                    2                1               6                  3   \n",
       "2                    3              186               8                194   \n",
       "3                    4               17               5                 23   \n",
       "4                    5               12               1                 19   \n",
       "...                ...              ...             ...                ...   \n",
       "2183652        2183653           168742         1101982              33697   \n",
       "2183653        2183654             3483         1378960               3231   \n",
       "2183654        2183655             4155         1073867                  7   \n",
       "2183655        2183656            30656            9333                  1   \n",
       "2183656        2183657           200820         1213181                  1   \n",
       "\n",
       "         duration_ms_can  track_pop_can  artist_pop_can  artist_followers_can  \\\n",
       "0              -0.781673       1.586067        1.230248              0.946740   \n",
       "1              -0.822475      -1.214718        1.619445              4.136339   \n",
       "2              -0.129093       0.927059       -0.159740             -0.465144   \n",
       "3              -0.195589       1.520166        1.230248              2.201993   \n",
       "4               0.138343       1.619018        0.896651              0.894903   \n",
       "...                  ...            ...             ...                   ...   \n",
       "2183652         2.539941      -1.247668       -2.050123             -0.526341   \n",
       "2183653         1.432538      -1.280619       -0.159740             -0.491750   \n",
       "2183654        -0.494134      -1.280619       -0.437737             -0.510225   \n",
       "2183655         0.107287      -1.181768       -1.327330             -0.526103   \n",
       "2183656        -0.665561      -1.280619       -3.662509             -0.526455   \n",
       "\n",
       "                0         1  ...       118       119       120       121  \\\n",
       "0        1.027417 -0.165185  ...  1.064858  0.564497  0.557188 -0.708082   \n",
       "1        0.795340  0.800919  ...  1.102685 -0.225948 -0.149084 -1.478371   \n",
       "2        1.612775  0.020441  ...  1.070267  0.872961  0.439633 -0.165393   \n",
       "3        0.832921 -0.290086  ...  1.164500  0.043368  0.327917 -1.189103   \n",
       "4        0.840739 -0.427716  ...  1.088635  0.293556  0.099311 -0.962879   \n",
       "...           ...       ...  ...       ...       ...       ...       ...   \n",
       "2183652  1.349165  0.285046  ...  0.204863  0.582871 -0.955833  0.276063   \n",
       "2183653  0.985480  0.737579  ...  0.613746  0.188398 -0.644459  0.236232   \n",
       "2183654  0.955354  1.133114  ...  0.678069  0.342456 -0.408787  0.065800   \n",
       "2183655  1.052967  0.744875  ...  0.413408  0.407157 -0.711015  0.052824   \n",
       "2183656  1.158850  0.844027  ... -0.066403  0.686270 -0.746260 -0.224668   \n",
       "\n",
       "              122       123       124       125       126       127  \n",
       "0       -0.282518  0.645299 -0.397996 -0.388138 -0.592544  0.313847  \n",
       "1       -0.900720 -0.156477 -0.419396 -0.396499  0.121589  0.650230  \n",
       "2       -0.096549  0.499887 -0.183899 -0.373360 -0.128138  0.483752  \n",
       "3       -0.382874  0.518935 -0.596712 -0.275946 -0.242574  0.571704  \n",
       "4        0.344414  0.880466 -0.628001 -0.117416  0.114614  0.575133  \n",
       "...           ...       ...       ...       ...       ...       ...  \n",
       "2183652 -0.798048 -0.072003 -0.109233 -0.272471  0.187450  0.138160  \n",
       "2183653 -0.637199  0.064386 -0.234159 -0.121663  0.102535  0.044723  \n",
       "2183654 -0.669738  0.201942 -0.102474 -0.255200  0.261309  0.739034  \n",
       "2183655 -0.943417 -0.031429 -0.030606 -0.342242  0.182637  0.553132  \n",
       "2183656 -1.170740 -0.403910  0.205262 -0.264375  0.302076  0.868143  \n",
       "\n",
       "[2183657 rows x 136 columns]"
      ]
     },
     "execution_count": 59,
     "metadata": {},
     "output_type": "execute_result"
    }
   ],
   "source": [
    "item_embs_df"
   ]
  },
  {
   "cell_type": "code",
   "execution_count": 67,
   "id": "e9f33c17-d679-4fca-a840-a17b78b3e3f1",
   "metadata": {},
   "outputs": [],
   "source": [
    "!rm candidate_embeddings.json > /dev/null \n",
    "!touch candidate_embeddings.json\n",
    "\n",
    "def format_for_matching_engine(data) -> None:\n",
    "    emb = [data[i] for i in range(layers[-1])] # get the embeddings\n",
    "    formatted_emb = '{\"id\":\"' + str(data['track_uri_can']) + '\",\"embedding\":[' + \",\".join(str(x) for x in list(emb)) + ']}'\n",
    "    with open(\"candidate_embeddings.json\", 'a') as f:\n",
    "        f.write(formatted_emb)\n",
    "        f.write(\"\\n\")\n",
    "\n",
    "item_emb_pd = item_embs_df.to_pandas().fillna(1e-10)\n",
    "_ = item_emb_pd.apply(format_for_matching_engine, axis=1)"
   ]
  },
  {
   "cell_type": "code",
   "execution_count": null,
   "id": "690eaae6-2059-4c09-84f2-cbde275ccc2e",
   "metadata": {},
   "outputs": [],
   "source": [
    "!wc -l candidate_embeddings.json"
   ]
  },
  {
   "cell_type": "markdown",
   "id": "709feedd-2fc3-44c5-b7aa-1c3d12cffd7e",
   "metadata": {},
   "source": [
    "### BE SURE TO RUN `gsutil config` IN TERMINAL TO LOG IN WITH YOUR CREDS"
   ]
  },
  {
   "cell_type": "code",
   "execution_count": 3,
   "id": "bad520f8-ef7f-4c97-9eb7-6969e56b4a00",
   "metadata": {},
   "outputs": [
    {
     "data": {
      "text/plain": [
       "'gs://spotify-beam-v3/merlin_processed/embeddings/candidate_embeddings.json'"
      ]
     },
     "execution_count": 3,
     "metadata": {},
     "output_type": "execute_result"
    }
   ],
   "source": [
    "# !pip install gsutil\n",
    "import os\n",
    "candidate_path = os.path.join(BUCKET, 'merlin_processed/embeddings/candidate_embeddings.json')\n",
    "\n",
    "candidate_path"
   ]
  },
  {
   "cell_type": "code",
   "execution_count": 6,
   "id": "5ff8d413-1845-4fa3-98d9-2e1162a38316",
   "metadata": {},
   "outputs": [
    {
     "name": "stdout",
     "output_type": "stream",
     "text": [
      "Copying file://candidate_embeddings.json [Content-Type=application/json]...\n",
      "==> NOTE: You are uploading one or more large file(s), which would run          \n",
      "significantly faster if you enable parallel composite uploads. This\n",
      "feature can be enabled by editing the\n",
      "\"parallel_composite_upload_threshold\" value in your .boto\n",
      "configuration file. However, note that if you do this large files will\n",
      "be uploaded as `composite objects\n",
      "<https://cloud.google.com/storage/docs/composite-objects>`_,which\n",
      "means that any user who downloads such objects will need to have a\n",
      "compiled crcmod installed (see \"gsutil help crcmod\"). This is because\n",
      "without a compiled crcmod, computing checksums on composite objects is\n",
      "so slow that gsutil disables downloads of composite objects.\n",
      "\n",
      "\\ [1 files][  5.1 GiB/  5.1 GiB]   84.9 MiB/s                                   \n",
      "Operation completed over 1 objects/5.1 GiB.                                      \n"
     ]
    }
   ],
   "source": [
    "candidate_path = os.path.join(BUCKET, 'merlin-processed/embeddings/candidate_embeddings.json')\n",
    "\n",
    "!gsutil cp candidate_embeddings.json $candidate_path"
   ]
  },
  {
   "cell_type": "markdown",
   "id": "a74a554e-6358-46e3-b614-2872de6858b1",
   "metadata": {},
   "source": [
    "## All set move to the next notebook - your bucket now should look something like this:\n",
    "\n",
    "![](img/merlin-bucket.png)"
   ]
  }
 ],
 "metadata": {
  "kernelspec": {
   "display_name": "Python 3 (ipykernel)",
   "language": "python",
   "name": "python3"
  },
  "language_info": {
   "codemirror_mode": {
    "name": "ipython",
    "version": 3
   },
   "file_extension": ".py",
   "mimetype": "text/x-python",
   "name": "python",
   "nbconvert_exporter": "python",
   "pygments_lexer": "ipython3",
   "version": "3.8.10"
  }
 },
 "nbformat": 4,
 "nbformat_minor": 5
}
