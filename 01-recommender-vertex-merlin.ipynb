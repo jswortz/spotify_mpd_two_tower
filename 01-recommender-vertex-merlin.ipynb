{
 "cells": [
  {
   "cell_type": "code",
   "execution_count": 15,
   "id": "77da09f6-30c0-49ff-a904-f7bdb2750daf",
   "metadata": {},
   "outputs": [],
   "source": [
    "# !pip install git+https://github.com/NVIDIA-Merlin/models.git"
   ]
  },
  {
   "cell_type": "markdown",
   "id": "c2b13a21",
   "metadata": {
    "jp-MarkdownHeadingCollapsed": true,
    "tags": [],
    "toc-hr-collapsed": true
   },
   "source": [
    "# Environment Setup\n",
    "\n",
    "Push a Nvidia repo to your artifact repository - (create a new repo if not available)\n",
    "\n",
    "### Further instructions on how to build a Merlin container can be found [here](https://github.com/jswortz/merlin-gcp)\n",
    "\n",
    "Guide\n",
    "1. In an notebook instance run from a terminal `git clone https://github.com/jswortz/merlin-gcp`\n",
    "2. Run the notebook - this will build a merlin tensorflow image. You can change the base images from NVidia if you choose - this was tested from the version in the repo\n",
    "3. This will build a container image and save it to artifact registry repository. You may need to enable the artifact repository service\n",
    "4. Create a new custom workbench by clicking \"New Notebook\" > \"Customize\"\n",
    "\n",
    "<img src=\"img/custom_workbench.png\" width=\"500\"/>\n",
    "\n",
    "5. To get to the screen for artifact repository. First select \"Advanced\" then name, select region, then go to \"Environment\"\n",
    "\n",
    "<img src=\"img/workbench-environment.png\" width=\"500\"/>\n",
    "\n",
    "6. Select the your repo and respective image\n",
    "\n",
    "<img src=\"img/image.png\" width=\"500\"/>\n",
    "\n",
    "7. Finally, if you already followed the instructions in notebook 02 setup - make sure the new workbench network is in the VPC peered network used for matching engine\n",
    "\n",
    "# Training with Merlin\n",
    "\n",
    "## Spotify example\n",
    "\n",
    "Our goal is to enable the architecture below with Vertex AI and the Merlin Models framework\n",
    "\n",
    "![](img/arch.png)\n",
    "\n",
    "## Goals\n",
    "\n",
    "The goal of this notebook is to create a simple two tower model with Nvtabular and Merlin Models\n",
    "\n",
    "1. Export data to Parquet for use in Nvtabular\n",
    "2. Create a NVtabular workflow and fit it to the data\n",
    "3. Save the fitted workflow to GCS (contains all dictionary lookups)\n",
    "4. Transform the data into GPU-optimized features from the NVtabular workflow and save to gcs\n",
    "5. Load the data again as a Merlin dataset using the workflow\n",
    "6. Create a two tower model in a few lines of code\n",
    "7. Train a two tower model\n",
    "8. Save the model (for deployment in notebook 03)\n",
    "9. Export the embeddings and save to gcs (for deployment to matching engine)\n",
    "\n",
    "*Based heavily on [this](https://github.com/NVIDIA-Merlin/models/blob/main/examples/05-Retrieval-Model.ipynb) NVIDIA resource\n",
    "\n",
    "\n",
    "Data is loaded from BQ - to parquet using the job configuration below\n",
    "\n",
    "\n",
    "Info on the data\n",
    "\n",
    "* track_uri_seed counts: 2249561\n",
    "* artist_uri_seed counts: 294110\n",
    "* album_uri_seed counts: 730377"
   ]
  },
  {
   "cell_type": "markdown",
   "id": "a3ebae1b-c48f-4f16-a6b3-a49da98c2341",
   "metadata": {
    "tags": [],
    "toc-hr-collapsed": true
   },
   "source": [
    "# Export Data From BigQuery to Parquet on GCS"
   ]
  },
  {
   "cell_type": "code",
   "execution_count": 1,
   "id": "decc6184-2fd8-40d7-9a75-c186adfc24e5",
   "metadata": {},
   "outputs": [
    {
     "name": "stderr",
     "output_type": "stream",
     "text": [
      "/usr/lib/python3/dist-packages/requests/__init__.py:89: RequestsDependencyWarning: urllib3 (1.26.12) or chardet (3.0.4) doesn't match a supported version!\n",
      "  warnings.warn(\"urllib3 ({}) or chardet ({}) doesn't match a supported \"\n"
     ]
    }
   ],
   "source": [
    "PROJECT = 'hybrid-vertex'  # <--- TODO: CHANGE THIS\n",
    "LOCATION = 'us-central1' \n",
    "# path = 'gs://two-tower-models' #TODO change to your model directory\n",
    "BUCKET = 'gs://spotify-beam-v3'\n",
    "DATASET_ID = 'mdp_eda_test'\n",
    "TABLE = 'train_flatten_last_5'\n",
    "TABLE_VALIDATION = 'train_flatten_valid_last_5'\n",
    "\n",
    "from google.cloud import bigquery\n",
    "client = bigquery.Client()\n",
    "\n",
    "def export_bq_to_parquet(PROJECT, DATASET_ID, TABLE, LOCATION, prefix):\n",
    "    destination_uri = f\"{BUCKET}/{prefix}_data_parquet/*.snappy.parquet\"\n",
    "    dataset_ref = bigquery.DatasetReference(PROJECT, DATASET_ID)\n",
    "    table_ref = dataset_ref.table(TABLE)\n",
    "    job_config = bigquery.job.ExtractJobConfig()\n",
    "    job_config.destination_format = bigquery.DestinationFormat.PARQUET\n",
    "    extract_job = client.extract_table(\n",
    "        table_ref,\n",
    "        destination_uri,\n",
    "        job_config=job_config,\n",
    "        # Location must match that of the source table.\n",
    "        location=LOCATION,\n",
    "    )  # API request\n",
    "    return(extract_job.result())  # Waits for job to complete."
   ]
  },
  {
   "cell_type": "markdown",
   "id": "0d49217e-d2d9-4648-8562-9bfdea67be8b",
   "metadata": {},
   "source": [
    "#### Export the data from Bigquery to Parquet\n",
    "\n",
    "*Run only once* Uncomment to run"
   ]
  },
  {
   "cell_type": "code",
   "execution_count": 2,
   "id": "4d833ce5",
   "metadata": {},
   "outputs": [],
   "source": [
    "# # training\n",
    "# export_bq_to_parquet(PROJECT, DATASET_ID, TABLE, LOCATION, prefix='train')\n",
    "\n",
    "# # # validation\n",
    "# export_bq_to_parquet(PROJECT, DATASET_ID, TABLE_VALIDATION, LOCATION, prefix='valid')"
   ]
  },
  {
   "cell_type": "markdown",
   "id": "aac54435-6c4f-41fa-a8f9-2a947cc0f018",
   "metadata": {
    "tags": [],
    "toc-hr-collapsed": true
   },
   "source": [
    "# Create a NVTabular W orkflow To Preprocess The Data"
   ]
  },
  {
   "cell_type": "code",
   "execution_count": 3,
   "id": "2c4a0787",
   "metadata": {},
   "outputs": [
    {
     "name": "stderr",
     "output_type": "stream",
     "text": [
      "2022-11-05 17:31:01.288625: I tensorflow/core/util/util.cc:169] oneDNN custom operations are on. You may see slightly different numerical results due to floating-point round-off errors from different computation orders. To turn them off, set the environment variable `TF_ENABLE_ONEDNN_OPTS=0`.\n",
      "2022-11-05 17:31:03.105072: I tensorflow/core/platform/cpu_feature_guard.cc:194] This TensorFlow binary is optimized with oneAPI Deep Neural Network Library (oneDNN) to use the following CPU instructions in performance-critical operations:  SSE3 SSE4.1 SSE4.2 AVX\n",
      "To enable them in other operations, rebuild TensorFlow with the appropriate compiler flags.\n",
      "2022-11-05 17:31:04.430700: I tensorflow/core/common_runtime/gpu/gpu_device.cc:1532] Created device /job:localhost/replica:0/task:0/device:GPU:0 with 20480 MB memory:  -> device: 0, name: NVIDIA A100-SXM4-40GB, pci bus id: 0000:00:04.0, compute capability: 8.0\n",
      "/usr/local/lib/python3.8/dist-packages/tqdm/auto.py:22: TqdmWarning: IProgress not found. Please update jupyter and ipywidgets. See https://ipywidgets.readthedocs.io/en/stable/user_install.html\n",
      "  from .autonotebook import tqdm as notebook_tqdm\n"
     ]
    }
   ],
   "source": [
    "import os\n",
    "import nvtabular as nvt\n",
    "from time import time\n",
    "import pandas as pd\n",
    "# disable INFO and DEBUG logging everywhere\n",
    "import logging\n",
    "import time\n",
    "\n",
    "logging.disable(logging.WARNING)\n",
    "\n",
    "from nvtabular.ops import (\n",
    "    Categorify,\n",
    "    TagAsUserID,\n",
    "    TagAsItemID,\n",
    "    TagAsItemFeatures,\n",
    "    TagAsUserFeatures,\n",
    "    AddMetadata,\n",
    "    ListSlice\n",
    ")\n",
    "import nvtabular.ops as ops\n",
    "\n",
    "from merlin.schema.tags import Tags\n",
    "\n",
    "import merlin.models.tf as mm\n",
    "from merlin.io.dataset import Dataset\n",
    "import tensorflow as tf\n",
    "\n",
    "# for running this example on CPU, comment out the line below\n",
    "os.environ[\"TF_GPU_ALLOCATOR\"] = \"cuda_malloc_async\""
   ]
  },
  {
   "cell_type": "markdown",
   "id": "64962317",
   "metadata": {},
   "source": [
    "### Create NVTabular Dataset\n",
    "This will be our pre-processor to hash strings and other preprocessing"
   ]
  },
  {
   "cell_type": "code",
   "execution_count": 4,
   "id": "4c17d5fd",
   "metadata": {},
   "outputs": [],
   "source": [
    "train = nvt.Dataset(f\"{BUCKET}/train_data_parquet/*.snappy.parquet\")\n",
    "valid = nvt.Dataset(f\"{BUCKET}/valid_data_parquet/*.snappy.parquet\")"
   ]
  },
  {
   "cell_type": "markdown",
   "id": "edb299dc",
   "metadata": {},
   "source": [
    "#### Define the NVTabular preprocessing graph\n",
    "\n",
    "Nvtabular takes a tabular dataset and transforms the data into new Parquet files optimized for training. This is equivalent to running a string lookup in tensorflow, and has similar functionality as adpat when a workflow is used\n",
    "\n",
    "The graph is defined as a set of nodes and a node is defined as follows:\n",
    "\n",
    "``` \n",
    "NODE_NAME = LIST_OF_FEATURE_NAMES >> nvt.ops.* >> [NEXT_STEP] >> Tag\n",
    "```\n",
    "\n",
    "Nvt has many ops - one of the most notable is `Categorify` as it is flexible and converts high cardinality text features to indicies\n",
    "\n",
    "Tags are used as a means to label the schema in the metadata and serves as a label for merlin models to interpret for consumption (e.g. which features belong to the query tower and candidate tower have different tags). You will see the tags in the schema in examples below"
   ]
  },
  {
   "cell_type": "code",
   "execution_count": 5,
   "id": "9b6833b4",
   "metadata": {
    "scrolled": true,
    "tags": []
   },
   "outputs": [],
   "source": [
    "item_id = [\"track_uri_can\"] >> Categorify(dtype=\"int32\") >> TagAsItemID() \n",
    "playlist_id = [\"pid\"] >> Categorify(dtype=\"int32\") >> TagAsUserID() \n",
    "\n",
    "\n",
    "item_features_cat = ['artist_name_can',\n",
    "        'track_name_can',\n",
    "        'artist_genres_can',\n",
    "    ]\n",
    "\n",
    "item_features_cont = [\n",
    "        'duration_ms_can',\n",
    "        'track_pop_can',\n",
    "        'artist_pop_can',\n",
    "        'artist_followers_can',\n",
    "    ]\n",
    "\n",
    "playlist_features_cat = [\n",
    "        'description_pl',\n",
    "        'name',\n",
    "        'collaborative',\n",
    "    ]\n",
    "\n",
    "playlist_features_cont = [\n",
    "        'duration_ms_seed_pl',\n",
    "        'n_songs_pl',\n",
    "        'num_artists_pl',\n",
    "        'num_albums_pl',\n",
    "    ]\n",
    "\n",
    "seq_feats_cat = [\n",
    "        'artist_name_pl',\n",
    "        'track_uri_pl',\n",
    "        'track_name_pl',\n",
    "        'album_name_pl',\n",
    "        'artist_genres_pl',\n",
    "    ]\n",
    "\n",
    "CAT = playlist_features_cat + item_features_cat\n",
    "CONT = item_features_cont + playlist_features_cont\n",
    "\n",
    "item_feature_cat_node = item_features_cat >> nvt.ops.FillMissing()>> Categorify(dtype=\"int32\") >> TagAsItemFeatures()\n",
    "\n",
    "item_feature_cont_node =  item_features_cont >> nvt.ops.FillMissing() >>  nvt.ops.Normalize() >> TagAsItemFeatures()\n",
    "\n",
    "playlist_feature_cat_node = playlist_features_cat >> nvt.ops.FillMissing() >> Categorify(dtype=\"int32\") >> TagAsUserFeatures() \n",
    "\n",
    "playlist_feature_cont_node = playlist_features_cont >> nvt.ops.FillMissing() >>  nvt.ops.Normalize() >> TagAsUserFeatures()\n",
    "\n",
    "playlist_feature_cat_seq_node = seq_feats_cat >> nvt.ops.FillMissing() >> Categorify(dtype=\"int32\") >> TagAsUserFeatures() "
   ]
  },
  {
   "cell_type": "markdown",
   "id": "17b6d819-38c9-4973-9cc5-a86af987b340",
   "metadata": {},
   "source": [
    "### Define a workflow\n",
    "This is an easy step by adding all nodes that need to run in parallel. A graphviz visualization of the graph is available below"
   ]
  },
  {
   "cell_type": "code",
   "execution_count": 6,
   "id": "1744279e",
   "metadata": {},
   "outputs": [],
   "source": [
    "# define a workflow\n",
    "output = playlist_id + item_id \\\n",
    "+ item_feature_cat_node \\\n",
    "+ item_feature_cont_node \\\n",
    "+ playlist_feature_cat_node \\\n",
    "+ playlist_feature_cont_node \\\n",
    "+ playlist_feature_cat_seq_node \n",
    "\n",
    "\n",
    "workflow = nvt.Workflow(output)"
   ]
  },
  {
   "cell_type": "code",
   "execution_count": 7,
   "id": "2b842eee",
   "metadata": {},
   "outputs": [
    {
    }
   ],
   "source": [
    "output.graph"
   ]
  },
  {
   "cell_type": "markdown",
   "id": "577993c5-ff3c-4e0d-89ef-e49ed93d7017",
   "metadata": {},
   "source": [
    "### Before we transform the data, let's look at an original record\n",
    "This loads the data into a dask pandas dataframe. `.to_ddf()` converts the dataset into a dask df"
   ]
  },
  {
   "cell_type": "code",
   "execution_count": 8,
   "id": "9eea53fc",
   "metadata": {},
   "outputs": [
    {
     "data": {
      "text/html": [
       "<div>\n",
       "<style scoped>\n",
       "    .dataframe tbody tr th:only-of-type {\n",
       "        vertical-align: middle;\n",
       "    }\n",
       "\n",
       "    .dataframe tbody tr th {\n",
       "        vertical-align: top;\n",
       "    }\n",
       "\n",
       "    .dataframe thead th {\n",
       "        text-align: right;\n",
       "    }\n",
       "</style>\n",
       "<table border=\"1\" class=\"dataframe\">\n",
       "  <thead>\n",
       "    <tr style=\"text-align: right;\">\n",
       "      <th></th>\n",
       "      <th>name</th>\n",
       "      <th>collaborative</th>\n",
       "      <th>pid</th>\n",
       "      <th>modified_at</th>\n",
       "      <th>pid_pos_id</th>\n",
       "      <th>pos_can</th>\n",
       "      <th>artist_name_can</th>\n",
       "      <th>track_uri_can</th>\n",
       "      <th>album_uri_can</th>\n",
       "      <th>track_name_can</th>\n",
       "      <th>...</th>\n",
       "      <th>pos_pl</th>\n",
       "      <th>artist_name_pl</th>\n",
       "      <th>track_uri_pl</th>\n",
       "      <th>track_name_pl</th>\n",
       "      <th>duration_ms_songs_pl</th>\n",
       "      <th>album_name_pl</th>\n",
       "      <th>artist_pop_pl</th>\n",
       "      <th>artists_followers_pl</th>\n",
       "      <th>track_pop_pl</th>\n",
       "      <th>artist_genres_pl</th>\n",
       "    </tr>\n",
       "  </thead>\n",
       "  <tbody>\n",
       "    <tr>\n",
       "      <th>0</th>\n",
       "      <td>{november '15}</td>\n",
       "      <td>false</td>\n",
       "      <td>914400</td>\n",
       "      <td>1452816000</td>\n",
       "      <td>914400-13</td>\n",
       "      <td>13</td>\n",
       "      <td>Tossing Copper</td>\n",
       "      <td>spotify:track:2BQSlFrFfxHjv2O738IzRm</td>\n",
       "      <td>spotify:album:7Bc9G6iDUH9u6pYj6Q5jr7</td>\n",
       "      <td>Edge of Eden</td>\n",
       "      <td>...</td>\n",
       "      <td>[8, 9, 10, 11, 12]</td>\n",
       "      <td>[Tossing Copper, Tossing Copper, Tossing Copper, Tossing Copper, Tossing Copper]</td>\n",
       "      <td>[spotify:track:4w3eTXloQVxhvc2U3KuuOb, spotify:track:5xdYaI97V4m7pypIhfpkoO, spotify:track:0UDpAmtvdeWJzowyiaE9tI, spotify:track:1sZ2RArZ2F86achracJBBw, spotify:track:7BO96T4UFKUbK96XujhaB2]</td>\n",
       "      <td>[Hello Darling, Silhouettes &amp; Sand, The Bridegroom, Ships of Cortez, Dancing in the Dawn]</td>\n",
       "      <td>[256000.0, 221786.0, 248613.0, 197253.0, 176733.0]</td>\n",
       "      <td>[Silhouettes &amp; Sand, Silhouettes &amp; Sand, Silhouettes &amp; Sand, Silhouettes &amp; Sand, Silhouettes &amp; Sand]</td>\n",
       "      <td>[68.0, 68.0, 68.0, 68.0, 68.0]</td>\n",
       "      <td>[0.0, 0.0, 0.0, 0.0, 0.0]</td>\n",
       "      <td>[36.0, 33.0, 32.0, 40.0, 61.0]</td>\n",
       "      <td>['alt z', 'indiecoustica', 'neo mellow', 'pop', 'pop rock', 'post-teen pop', 'alt z', 'indiecoustica', 'neo mellow', 'pop', 'pop rock', 'post-teen pop', 'alt z', 'indiecoustica', 'neo mellow', 'pop', 'pop rock', 'post-teen pop', 'alt z', 'indiecoustica', 'neo mellow', 'pop', 'pop rock', 'post-teen pop', 'alt z', 'indiecoustica', 'neo mellow', 'pop', 'pop rock', 'post-teen pop']</td>\n",
       "    </tr>\n",
       "  </tbody>\n",
       "</table>\n",
       "<p>1 rows × 44 columns</p>\n",
       "</div>"
      ],
      "text/plain": [
       "             name collaborative     pid  modified_at pid_pos_id  pos_can  \\\n",
       "0  {november '15}         false  914400   1452816000  914400-13       13   \n",
       "\n",
       "  artist_name_can                         track_uri_can  \\\n",
       "0  Tossing Copper  spotify:track:2BQSlFrFfxHjv2O738IzRm   \n",
       "\n",
       "                          album_uri_can track_name_can  ...  \\\n",
       "0  spotify:album:7Bc9G6iDUH9u6pYj6Q5jr7   Edge of Eden  ...   \n",
       "\n",
       "               pos_pl  \\\n",
       "0  [8, 9, 10, 11, 12]   \n",
       "\n",
       "                                                                     artist_name_pl  \\\n",
       "0  [Tossing Copper, Tossing Copper, Tossing Copper, Tossing Copper, Tossing Copper]   \n",
       "\n",
       "                                                                                                                                                                                     track_uri_pl  \\\n",
       "0  [spotify:track:4w3eTXloQVxhvc2U3KuuOb, spotify:track:5xdYaI97V4m7pypIhfpkoO, spotify:track:0UDpAmtvdeWJzowyiaE9tI, spotify:track:1sZ2RArZ2F86achracJBBw, spotify:track:7BO96T4UFKUbK96XujhaB2]   \n",
       "\n",
       "                                                                               track_name_pl  \\\n",
       "0  [Hello Darling, Silhouettes & Sand, The Bridegroom, Ships of Cortez, Dancing in the Dawn]   \n",
       "\n",
       "                                 duration_ms_songs_pl  \\\n",
       "0  [256000.0, 221786.0, 248613.0, 197253.0, 176733.0]   \n",
       "\n",
       "                                                                                          album_name_pl  \\\n",
       "0  [Silhouettes & Sand, Silhouettes & Sand, Silhouettes & Sand, Silhouettes & Sand, Silhouettes & Sand]   \n",
       "\n",
       "                    artist_pop_pl       artists_followers_pl  \\\n",
       "0  [68.0, 68.0, 68.0, 68.0, 68.0]  [0.0, 0.0, 0.0, 0.0, 0.0]   \n",
       "\n",
       "                     track_pop_pl  \\\n",
       "0  [36.0, 33.0, 32.0, 40.0, 61.0]   \n",
       "\n",
       "                                                                                                                                                                                                                                                                                                                                                                               artist_genres_pl  \n",
       "0  ['alt z', 'indiecoustica', 'neo mellow', 'pop', 'pop rock', 'post-teen pop', 'alt z', 'indiecoustica', 'neo mellow', 'pop', 'pop rock', 'post-teen pop', 'alt z', 'indiecoustica', 'neo mellow', 'pop', 'pop rock', 'post-teen pop', 'alt z', 'indiecoustica', 'neo mellow', 'pop', 'pop rock', 'post-teen pop', 'alt z', 'indiecoustica', 'neo mellow', 'pop', 'pop rock', 'post-teen pop']  \n",
       "\n",
       "[1 rows x 44 columns]"
      ]
     },
     "execution_count": 8,
     "metadata": {},
     "output_type": "execute_result"
    }
   ],
   "source": [
    "# Don't truncate text fields in the display\n",
    "pd.set_option(\"display.max_colwidth\", None)\n",
    "\n",
    "valid.to_ddf().head(1)"
   ]
  },
  {
   "cell_type": "markdown",
   "id": "d8966c52",
   "metadata": {},
   "source": [
    "### Now set the output buckets for the validation and training"
   ]
  },
  {
   "cell_type": "code",
   "execution_count": 9,
   "id": "a9f65eb2",
   "metadata": {},
   "outputs": [
    {
     "name": "stdout",
     "output_type": "stream",
     "text": [
      "Train data dir: gs://spotify-beam-v3/merlin-processed/train/\n",
      "Valid data dir: gs://spotify-beam-v3/merlin-processed/valid/\n"
     ]
    }
   ],
   "source": [
    "output_path = os.path.join(BUCKET, \"merlin-processed\")\n",
    "output_train_dir = os.path.join(output_path, 'train/')\n",
    "output_valid_dir = os.path.join(output_path, 'valid/')\n",
    "output_workflow_dir = os.path.join(output_path, 'workflow/')\n",
    "\n",
    "\n",
    "print(f\"Train data dir: {output_train_dir}\\nValid data dir: {output_valid_dir}\")"
   ]
  },
  {
   "cell_type": "markdown",
   "id": "591bc597",
   "metadata": {
    "tags": []
   },
   "source": [
    "## Load and preprocess training data back to Parquet GCS\n",
    "helpful resources https://cloud.google.com/compute/docs/gpus/monitor-gpus\n",
    "\n",
    "## Also, be sure to install `nvtop` the install script is in `utils/install_nvtop.sh`\n",
    "\n",
    "## Fit Transform is called on the workflow to pass over the data\n",
    "The categorical and continuous features must be specified. In this example shuffling is enabled so we only shuflle one time. You can size your output and experiment with number of output files - depending on your use case think of your GPU memory available with respective file sizes\n",
    "\n",
    "## ** This can take some time (about an hour) but is a one-time save to gcs **"
   ]
  },
  {
   "cell_type": "code",
   "execution_count": 10,
   "id": "89ed414f-8513-453b-815d-bda239db9904",
   "metadata": {},
   "outputs": [],
   "source": [
    "import time"
   ]
  },
  {
   "cell_type": "code",
   "execution_count": 13,
   "id": "885f3001",
   "metadata": {},
   "outputs": [
    {
     "name": "stderr",
     "output_type": "stream",
     "text": [
      "/usr/local/lib/python3.8/dist-packages/merlin/schema/tags.py:148: UserWarning: Compound tags like Tags.USER_ID have been deprecated and will be removed in a future version. Please use the atomic versions of these tags, like [<Tags.USER: 'user'>, <Tags.ID: 'id'>].\n",
      "  warnings.warn(\n",
      "/usr/local/lib/python3.8/dist-packages/merlin/schema/tags.py:148: UserWarning: Compound tags like Tags.ITEM_ID have been deprecated and will be removed in a future version. Please use the atomic versions of these tags, like [<Tags.ITEM: 'item'>, <Tags.ID: 'id'>].\n",
      "  warnings.warn(\n"
     ]
    },
    {
     "name": "stdout",
     "output_type": "stream",
     "text": [
      "CPU times: user 24min 3s, sys: 10min 30s, total: 34min 34s\n",
      "Wall time: 49min 18s\n"
     ]
    }
   ],
   "source": [
    "%%time\n",
    "\n",
    "time_preproc = 0\n",
    "time_preproc_start = time.time()\n",
    "\n",
    "workflow.fit_transform(train).to_parquet(output_path=output_train_dir, \n",
    "                                         shuffle=nvt.io.Shuffle.PER_PARTITION,\n",
    "                                         cats=CAT,\n",
    "                                         conts=CONT, \n",
    "                                         output_files = 100\n",
    "                                         ) #preserve_files=True keeps the original file sharding\n",
    "\n",
    "\n",
    "time_preproc += time.time()-time_preproc_start"
   ]
  },
  {
   "cell_type": "markdown",
   "id": "1ae9d020-2f13-4c55-8c8b-da07b247c671",
   "metadata": {},
   "source": [
    "### Saving to GCS is simple with GCS Fuse, which is already included in the if you built an image from [here](https://github.com/jswortz/merlin-gcp)"
   ]
  },
  {
   "cell_type": "code",
   "execution_count": 14,
   "id": "ab4bd5af",
   "metadata": {},
   "outputs": [],
   "source": [
    "#save the workflow to disk (GCS here via ) after it has been fit\n",
    "workflow.save(os.path.join(output_workflow_dir,'2t-spotify-workflow'))\n",
    "\n",
    "#locally for demo too\n",
    "workflow.save('2t-spotify-workflow')"
   ]
  },
  {
   "cell_type": "markdown",
   "id": "2fe8433d",
   "metadata": {},
   "source": [
    "## Transform validation data using the same workflow\n",
    "\n",
    "This works similarly to a sklearn object where you can fit then transform after"
   ]
  },
  {
   "cell_type": "code",
   "execution_count": 15,
   "id": "d6000545",
   "metadata": {},
   "outputs": [
    {
     "name": "stdout",
     "output_type": "stream",
     "text": [
      "CPU times: user 7.25 s, sys: 3.38 s, total: 10.6 s\n",
      "Wall time: 16 s\n"
     ]
    }
   ],
   "source": [
    "%%time\n",
    "\n",
    "time_preproc_start = time.time()\n",
    "workflow.transform(valid).to_parquet(output_path=output_valid_dir, \n",
    "                                         shuffle=nvt.io.Shuffle.PER_PARTITION,\n",
    "                                         cats=CAT,\n",
    "                                         conts=CONT,\n",
    "                                         output_files=10\n",
    "                                         )\n",
    "\n",
    "\n",
    "time_preproc += time.time()-time_preproc_start"
   ]
  },
  {
   "cell_type": "code",
   "execution_count": 16,
   "id": "e8922d66-c947-411b-9442-a34ce34b2752",
   "metadata": {},
   "outputs": [
    {
     "data": {
      "text/html": [
       "<div>\n",
       "<style scoped>\n",
       "    .dataframe tbody tr th:only-of-type {\n",
       "        vertical-align: middle;\n",
       "    }\n",
       "\n",
       "    .dataframe tbody tr th {\n",
       "        vertical-align: top;\n",
       "    }\n",
       "\n",
       "    .dataframe thead th {\n",
       "        text-align: right;\n",
       "    }\n",
       "</style>\n",
       "<table border=\"1\" class=\"dataframe\">\n",
       "  <thead>\n",
       "    <tr style=\"text-align: right;\">\n",
       "      <th></th>\n",
       "      <th>name</th>\n",
       "      <th>tags</th>\n",
       "      <th>dtype</th>\n",
       "      <th>is_list</th>\n",
       "      <th>is_ragged</th>\n",
       "    </tr>\n",
       "  </thead>\n",
       "  <tbody>\n",
       "    <tr>\n",
       "      <th>0</th>\n",
       "      <td>pid</td>\n",
       "      <td>()</td>\n",
       "      <td>int64</td>\n",
       "      <td>False</td>\n",
       "      <td>False</td>\n",
       "    </tr>\n",
       "    <tr>\n",
       "      <th>1</th>\n",
       "      <td>track_uri_can</td>\n",
       "      <td>()</td>\n",
       "      <td>object</td>\n",
       "      <td>False</td>\n",
       "      <td>False</td>\n",
       "    </tr>\n",
       "    <tr>\n",
       "      <th>2</th>\n",
       "      <td>artist_name_can</td>\n",
       "      <td>()</td>\n",
       "      <td>object</td>\n",
       "      <td>False</td>\n",
       "      <td>False</td>\n",
       "    </tr>\n",
       "    <tr>\n",
       "      <th>3</th>\n",
       "      <td>track_name_can</td>\n",
       "      <td>()</td>\n",
       "      <td>object</td>\n",
       "      <td>False</td>\n",
       "      <td>False</td>\n",
       "    </tr>\n",
       "    <tr>\n",
       "      <th>4</th>\n",
       "      <td>artist_genres_can</td>\n",
       "      <td>()</td>\n",
       "      <td>object</td>\n",
       "      <td>False</td>\n",
       "      <td>False</td>\n",
       "    </tr>\n",
       "    <tr>\n",
       "      <th>5</th>\n",
       "      <td>duration_ms_can</td>\n",
       "      <td>()</td>\n",
       "      <td>float64</td>\n",
       "      <td>False</td>\n",
       "      <td>False</td>\n",
       "    </tr>\n",
       "    <tr>\n",
       "      <th>6</th>\n",
       "      <td>track_pop_can</td>\n",
       "      <td>()</td>\n",
       "      <td>float64</td>\n",
       "      <td>False</td>\n",
       "      <td>False</td>\n",
       "    </tr>\n",
       "    <tr>\n",
       "      <th>7</th>\n",
       "      <td>artist_pop_can</td>\n",
       "      <td>()</td>\n",
       "      <td>float64</td>\n",
       "      <td>False</td>\n",
       "      <td>False</td>\n",
       "    </tr>\n",
       "    <tr>\n",
       "      <th>8</th>\n",
       "      <td>artist_followers_can</td>\n",
       "      <td>()</td>\n",
       "      <td>float64</td>\n",
       "      <td>False</td>\n",
       "      <td>False</td>\n",
       "    </tr>\n",
       "    <tr>\n",
       "      <th>9</th>\n",
       "      <td>description_pl</td>\n",
       "      <td>()</td>\n",
       "      <td>object</td>\n",
       "      <td>False</td>\n",
       "      <td>False</td>\n",
       "    </tr>\n",
       "    <tr>\n",
       "      <th>10</th>\n",
       "      <td>name</td>\n",
       "      <td>()</td>\n",
       "      <td>object</td>\n",
       "      <td>False</td>\n",
       "      <td>False</td>\n",
       "    </tr>\n",
       "    <tr>\n",
       "      <th>11</th>\n",
       "      <td>collaborative</td>\n",
       "      <td>()</td>\n",
       "      <td>object</td>\n",
       "      <td>False</td>\n",
       "      <td>False</td>\n",
       "    </tr>\n",
       "    <tr>\n",
       "      <th>12</th>\n",
       "      <td>duration_ms_seed_pl</td>\n",
       "      <td>()</td>\n",
       "      <td>float64</td>\n",
       "      <td>False</td>\n",
       "      <td>False</td>\n",
       "    </tr>\n",
       "    <tr>\n",
       "      <th>13</th>\n",
       "      <td>n_songs_pl</td>\n",
       "      <td>()</td>\n",
       "      <td>float64</td>\n",
       "      <td>False</td>\n",
       "      <td>False</td>\n",
       "    </tr>\n",
       "    <tr>\n",
       "      <th>14</th>\n",
       "      <td>num_artists_pl</td>\n",
       "      <td>()</td>\n",
       "      <td>float64</td>\n",
       "      <td>False</td>\n",
       "      <td>False</td>\n",
       "    </tr>\n",
       "    <tr>\n",
       "      <th>15</th>\n",
       "      <td>num_albums_pl</td>\n",
       "      <td>()</td>\n",
       "      <td>float64</td>\n",
       "      <td>False</td>\n",
       "      <td>False</td>\n",
       "    </tr>\n",
       "    <tr>\n",
       "      <th>16</th>\n",
       "      <td>artist_name_pl</td>\n",
       "      <td>()</td>\n",
       "      <td>object</td>\n",
       "      <td>True</td>\n",
       "      <td>True</td>\n",
       "    </tr>\n",
       "    <tr>\n",
       "      <th>17</th>\n",
       "      <td>track_uri_pl</td>\n",
       "      <td>()</td>\n",
       "      <td>object</td>\n",
       "      <td>True</td>\n",
       "      <td>True</td>\n",
       "    </tr>\n",
       "    <tr>\n",
       "      <th>18</th>\n",
       "      <td>track_name_pl</td>\n",
       "      <td>()</td>\n",
       "      <td>object</td>\n",
       "      <td>True</td>\n",
       "      <td>True</td>\n",
       "    </tr>\n",
       "    <tr>\n",
       "      <th>19</th>\n",
       "      <td>album_name_pl</td>\n",
       "      <td>()</td>\n",
       "      <td>object</td>\n",
       "      <td>True</td>\n",
       "      <td>True</td>\n",
       "    </tr>\n",
       "    <tr>\n",
       "      <th>20</th>\n",
       "      <td>artist_genres_pl</td>\n",
       "      <td>()</td>\n",
       "      <td>object</td>\n",
       "      <td>True</td>\n",
       "      <td>True</td>\n",
       "    </tr>\n",
       "  </tbody>\n",
       "</table>\n",
       "</div>"
      ],
      "text/plain": [
       "[{'name': 'pid', 'tags': set(), 'properties': {}, 'dtype': dtype('int64'), 'is_list': False, 'is_ragged': False}, {'name': 'track_uri_can', 'tags': set(), 'properties': {}, 'dtype': dtype('O'), 'is_list': False, 'is_ragged': False}, {'name': 'artist_name_can', 'tags': set(), 'properties': {}, 'dtype': dtype('O'), 'is_list': False, 'is_ragged': False}, {'name': 'track_name_can', 'tags': set(), 'properties': {}, 'dtype': dtype('O'), 'is_list': False, 'is_ragged': False}, {'name': 'artist_genres_can', 'tags': set(), 'properties': {}, 'dtype': dtype('O'), 'is_list': False, 'is_ragged': False}, {'name': 'duration_ms_can', 'tags': set(), 'properties': {}, 'dtype': dtype('float64'), 'is_list': False, 'is_ragged': False}, {'name': 'track_pop_can', 'tags': set(), 'properties': {}, 'dtype': dtype('float64'), 'is_list': False, 'is_ragged': False}, {'name': 'artist_pop_can', 'tags': set(), 'properties': {}, 'dtype': dtype('float64'), 'is_list': False, 'is_ragged': False}, {'name': 'artist_followers_can', 'tags': set(), 'properties': {}, 'dtype': dtype('float64'), 'is_list': False, 'is_ragged': False}, {'name': 'description_pl', 'tags': set(), 'properties': {}, 'dtype': dtype('O'), 'is_list': False, 'is_ragged': False}, {'name': 'name', 'tags': set(), 'properties': {}, 'dtype': dtype('O'), 'is_list': False, 'is_ragged': False}, {'name': 'collaborative', 'tags': set(), 'properties': {}, 'dtype': dtype('O'), 'is_list': False, 'is_ragged': False}, {'name': 'duration_ms_seed_pl', 'tags': set(), 'properties': {}, 'dtype': dtype('float64'), 'is_list': False, 'is_ragged': False}, {'name': 'n_songs_pl', 'tags': set(), 'properties': {}, 'dtype': dtype('float64'), 'is_list': False, 'is_ragged': False}, {'name': 'num_artists_pl', 'tags': set(), 'properties': {}, 'dtype': dtype('float64'), 'is_list': False, 'is_ragged': False}, {'name': 'num_albums_pl', 'tags': set(), 'properties': {}, 'dtype': dtype('float64'), 'is_list': False, 'is_ragged': False}, {'name': 'artist_name_pl', 'tags': set(), 'properties': {}, 'dtype': dtype('O'), 'is_list': True, 'is_ragged': True}, {'name': 'track_uri_pl', 'tags': set(), 'properties': {}, 'dtype': dtype('O'), 'is_list': True, 'is_ragged': True}, {'name': 'track_name_pl', 'tags': set(), 'properties': {}, 'dtype': dtype('O'), 'is_list': True, 'is_ragged': True}, {'name': 'album_name_pl', 'tags': set(), 'properties': {}, 'dtype': dtype('O'), 'is_list': True, 'is_ragged': True}, {'name': 'artist_genres_pl', 'tags': set(), 'properties': {}, 'dtype': dtype('O'), 'is_list': True, 'is_ragged': True}]"
      ]
     },
     "execution_count": 16,
     "metadata": {},
     "output_type": "execute_result"
    }
   ],
   "source": [
    "workflow.input_schema"
   ]
  },
  {
   "cell_type": "markdown",
   "id": "471f8f32",
   "metadata": {},
   "source": [
    "### Examine some of the output data from nvtabular\n",
    "\n",
    "The data is presented as a Dask Pandas DF - so the interface is very familiar if you know Pandas\n",
    "\n",
    "Now the data has encoded the values of the strings with categorify, filled missing values, and normalized continuous variables. Now when you look at categorical data like `track_name_pl`, you will see the data represented as an integer, ready to quickly load to an embedding layer, as opposed to hashing each Epoch like when including stringlookups or hash functions in a tfrs model. This ensures the unven profile caused by cpu/gpu bottlnecks during lookup functions are processed just once and efficiently.\n",
    "\n",
    "#### Example of NVTabular Gpu Consumption Pattern\n",
    "A100 a1-high-gpu\n",
    "![Example of Nvtop](img/nvtop.png)\n",
    "\n",
    "Note that the lookup tables for the various categorified data can be found in the `categories/` folder of the workflow. You also will notice a link in the data schema (more on that below) to the files by each field - this is how you can do reverse lookups later"
   ]
  },
  {
   "cell_type": "code",
   "execution_count": 17,
   "id": "7bbdc113",
   "metadata": {},
   "outputs": [
    {
     "data": {
      "text/plain": [
       "0    [11535, 7518, 11313, 42462, 151481]\n",
       "1               [613, 60, 83, 4161, 252]\n",
       "2            [4637, 1735, 146, 84, 1886]\n",
       "Name: track_name_pl, dtype: object"
      ]
     },
     "execution_count": 17,
     "metadata": {},
     "output_type": "execute_result"
    }
   ],
   "source": [
    "nvtdata = pd.read_parquet(output_train_dir+'part_0.parquet')\n",
    "nvtdata['track_name_pl'].head(3) "
   ]
  },
  {
   "cell_type": "code",
   "execution_count": 18,
   "id": "2039bb14",
   "metadata": {},
   "outputs": [
    {
     "data": {
      "text/plain": [
       "0    2247\n",
       "1       1\n",
       "2      12\n",
       "3    6271\n",
       "4      54\n",
       "5      18\n",
       "6     212\n",
       "7       3\n",
       "8    2195\n",
       "9    8864\n",
       "Name: artist_name_can, dtype: int32"
      ]
     },
     "execution_count": 18,
     "metadata": {},
     "output_type": "execute_result"
    }
   ],
   "source": [
    "nvtdata = pd.read_parquet(output_train_dir+'part_0.parquet')\n",
    "nvtdata['artist_name_can'].head(10)"
   ]
  },
  {
   "cell_type": "markdown",
   "id": "e2012c18-eda7-49bb-b45c-c3d953ff330f",
   "metadata": {},
   "source": [
    "### Total rows for `part_0.parquet`\n",
    "Total rows x number of partitions (`output_files` in `workflow.to_parquet()`)"
   ]
  },
  {
   "cell_type": "code",
   "execution_count": 19,
   "id": "e7ba4f12",
   "metadata": {},
   "outputs": [
    {
     "data": {
      "text/plain": [
       "608090"
      ]
     },
     "execution_count": 19,
     "metadata": {},
     "output_type": "execute_result"
    }
   ],
   "source": [
    "len(nvtdata)"
   ]
  },
  {
   "cell_type": "markdown",
   "id": "f2ffee50-6fc4-4628-b057-57fc1e485be0",
   "metadata": {},
   "source": [
    "#### Quick view of the embedding dimensions\n",
    "`(INPUT_CARDINALITY, EMB_DIM)`"
   ]
  },
  {
   "cell_type": "code",
   "execution_count": 20,
   "id": "0eb04de9",
   "metadata": {},
   "outputs": [
    {
     "data": {
      "text/plain": [
       "({'pid': (984638, 512),\n",
       "  'track_uri_can': (2183658, 512),\n",
       "  'artist_name_can': (278452, 512),\n",
       "  'track_name_can': (1435485, 512),\n",
       "  'artist_genres_can': (38183, 512),\n",
       "  'description_pl': (17909, 385),\n",
       "  'name': (92266, 512),\n",
       "  'collaborative': (3, 16)},\n",
       " {'artist_name_pl': (283353, 512),\n",
       "  'track_uri_pl': (2231210, 512),\n",
       "  'track_name_pl': (1464629, 512),\n",
       "  'album_name_pl': (563481, 512),\n",
       "  'artist_genres_pl': (38373, 512)})"
      ]
     },
     "execution_count": 20,
     "metadata": {},
     "output_type": "execute_result"
    }
   ],
   "source": [
    "embeddings = ops.get_embedding_sizes(workflow)\n",
    "embeddings"
   ]
  },
  {
   "cell_type": "code",
   "execution_count": 21,
   "id": "f76d024c",
   "metadata": {},
   "outputs": [
    {
     "name": "stdout",
     "output_type": "stream",
     "text": [
      "[(278452, 512), (1435485, 512), (38183, 512)]\n"
     ]
    }
   ],
   "source": [
    "print([embeddings[0][x] for x in item_feature_cat_node.output_columns.names])"
   ]
  },
  {
   "cell_type": "code",
   "execution_count": 22,
   "id": "92b7addb",
   "metadata": {},
   "outputs": [
    {
     "data": {
      "text/plain": [
       "['duration_ms_seed_pl', 'n_songs_pl', 'num_artists_pl', 'num_albums_pl']"
      ]
     },
     "execution_count": 22,
     "metadata": {},
     "output_type": "execute_result"
    }
   ],
   "source": [
    "playlist_feature_cont_node.output_columns.names"
   ]
  },
  {
   "cell_type": "markdown",
   "id": "bd24b35b",
   "metadata": {
    "toc-hr-collapsed": true
   },
   "source": [
    "# Load the processed data into a Merlin Dataset and Train a Two Tower Model\n",
    "\n",
    "Now that data inspection is over, the workflow is saved and data is processed to the `output_path`\n",
    "\n",
    "The above only needs to be run once as well - the workflow and transformed files can be directly loaded from gcs from now on"
   ]
  },
  {
   "cell_type": "markdown",
   "id": "a0f616eb",
   "metadata": {},
   "source": [
    "### Get the embedding dimensions from the workflow"
   ]
  },
  {
   "cell_type": "code",
   "execution_count": 10,
   "id": "c81777c4",
   "metadata": {},
   "outputs": [
    {
     "data": {
      "text/plain": [
       "({'pid': (984638, 512),\n",
       "  'track_uri_can': (2183658, 512),\n",
       "  'artist_name_can': (278452, 512),\n",
       "  'track_name_can': (1435485, 512),\n",
       "  'artist_genres_can': (38183, 512),\n",
       "  'description_pl': (17909, 385),\n",
       "  'name': (92266, 512),\n",
       "  'collaborative': (3, 16)},\n",
       " {'artist_name_pl': (283353, 512),\n",
       "  'track_uri_pl': (2231210, 512),\n",
       "  'track_name_pl': (1464629, 512),\n",
       "  'album_name_pl': (563481, 512),\n",
       "  'artist_genres_pl': (38373, 512)})"
      ]
     },
     "execution_count": 10,
     "metadata": {},
     "output_type": "execute_result"
    }
   ],
   "source": [
    "# load back the workflow and schema\n",
    "# spotify-builtin-2t/merlin-processed/workflow/2t-spotify-workflow\n",
    "workflow = nvt.Workflow.load(os.path.join(BUCKET, \"merlin-processed/workflow/2t-spotify-workflow\"))\n",
    "schema = workflow.output_schema\n",
    "embeddings = ops.get_embedding_sizes(workflow)\n",
    "embeddings"
   ]
  },
  {
   "cell_type": "code",
   "execution_count": 11,
   "id": "feed4018",
   "metadata": {},
   "outputs": [],
   "source": [
    "from merlin.models.utils.example_utils import workflow_fit_transform\n",
    "\n",
    "from merlin.schema.tags import Tags\n",
    "\n",
    "import merlin.models.tf as mm\n",
    "from merlin.io.dataset import Dataset as MerlinDataset\n",
    "\n",
    "train = MerlinDataset(os.path.join(output_train_dir, \"*.parquet\"), schema=schema, part_size=\"1GB\")\n",
    "valid = MerlinDataset(os.path.join(output_valid_dir, \"*.parquet\"), schema=schema, part_size=\"1GB\")"
   ]
  },
  {
   "cell_type": "markdown",
   "id": "d1d6279f",
   "metadata": {},
   "source": [
    "Direct quote from [here](https://github.com/NVIDIA-Merlin/models/blob/main/examples/05-Retrieval-Model.ipynb)\n",
    "\n",
    "Other info on modeling setup\n",
    "\n",
    "### Negative sampling\n",
    "Many datasets for recommender systems contain implicit feedback with logs of user interactions like clicks, add-to-cart, purchases, music listening events, rather than explicit ratings that reflects user preferences over items. To be able to learn from implicit feedback, we use the general (and naive) assumption that the interacted items are more relevant for the user than the non-interacted ones. In Merlin Models we provide some scaleable negative sampling algorithms for the Item Retrieval Task. In particular, we use in this example the in-batch sampling algorithm which uses the items interacted by other users as negatives within the same mini-batch.\n",
    "\n",
    "### Building the Model\n",
    "Now, let's build our Two-Tower model. In a nutshell, we aggregate all user features to feed in user tower and feed the item features to the item tower. Then we compute the positive score by multiplying the user embedding with the item embedding and sample negative items (read more about negative sampling here and here), whose item embeddings are also multiplied by the user embedding. Then we apply the loss function on top of the positive and negative scores.\n",
    "\n",
    "- Other model types can be found on the [Merlin Models API Documentation Page](https://nvidia-merlin.github.io/models/main/api.html#tensorflow-models)\n",
    "\n",
    "### Vertex Experiments\n",
    "\n",
    "We will organize all of our runs with Merlin in one experiment id `spotify-merlin-train-full-data-v1`. Under this experiment, we will have multiple runs that will be tracked in the experiment interface as well as Tensorboard"
   ]
  },
  {
   "cell_type": "code",
   "execution_count": 12,
   "id": "f7f4d7c6",
   "metadata": {},
   "outputs": [
    {
     "name": "stderr",
     "output_type": "stream",
     "text": [
      "2022-11-05 17:31:13.437652: I tensorflow/core/profiler/lib/profiler_session.cc:99] Profiler session initializing.\n",
      "2022-11-05 17:31:13.437690: I tensorflow/core/profiler/lib/profiler_session.cc:114] Profiler session started.\n",
      "2022-11-05 17:31:13.437926: I tensorflow/core/profiler/internal/gpu/cupti_tracer.cc:1665] Profiler found 1 GPUs\n",
      "2022-11-05 17:31:13.741270: I tensorflow/core/profiler/lib/profiler_session.cc:126] Profiler session tear down.\n",
      "2022-11-05 17:31:13.741437: I tensorflow/core/profiler/internal/gpu/cupti_tracer.cc:1799] CUPTI activity buffer flushed\n"
     ]
    }
   ],
   "source": [
    "# wone_shot_cmd use this to track data in tensorboard\n",
    "from google.cloud import aiplatform as vertex_ai\n",
    "\n",
    "TB_RESOURCE_NAME = 'projects/934903580331/locations/us-central1/tensorboards/7336372589079560192' #fqn - project number then tensorboard id\n",
    "EXPERIMENT_NAME = f'spotify-merlin-train-full-data-v7-1'\n",
    "RUN_NAME = f'run-{EXPERIMENT_NAME}-{time.strftime(\"%Y%m%d-%H%M%S\")}'#be sure to think about run and experiment naming strategies so names don't collide\n",
    "logs_dir = f'{output_path}/tb_logs/{EXPERIMENT_NAME}'\n",
    "\n",
    "#helper function to get the tb-uploader command\n",
    "\n",
    "def get_upload_logs_to_manged_tb_command(ttl_hrs, oneshot=\"false\"):\n",
    "    \"\"\"\n",
    "    Run this and copy/paste the command into terminal to have \n",
    "    upload the tensorboard logs from this machine to the managed tb instance\n",
    "    Note that the log dir is at the granularity of the run to help select the proper\n",
    "    timestamped run in Tensorboard\n",
    "    You can also run this in one-shot mode after training is done \n",
    "    to upload all tb objects at once\n",
    "    \"\"\"\n",
    "    return(f\"\"\"tb-gcp-uploader --tensorboard_resource_name={TB_RESOURCE_NAME} \\\n",
    "      --logdir={logs_dir} \\\n",
    "      --experiment_name={EXPERIMENT_NAME} \\\n",
    "      --one_shot={oneshot} \\\n",
    "      --event_file_inactive_secs={60*60*ttl_hrs}\"\"\")\n",
    "\n",
    "vertex_ai.init(experiment=EXPERIMENT_NAME)\n",
    "    \n",
    "\n",
    "# we are going to ecapsulate this one-shot log uploader via a custom callback:\n",
    "\n",
    "class UploadTBLogsBatchEnd(tf.keras.callbacks.Callback):\n",
    "    def on_epoch_end(self, epoch, logs=None):\n",
    "        os.system(get_upload_logs_to_manged_tb_command(ttl_hrs = 5, oneshot=\"true\"))\n",
    "    \n",
    "layers = [512, 256, 128]\n",
    "LR = .001\n",
    "BS = 4096\n",
    "epoch = 120\n",
    "\n",
    "\n",
    "tensorboard_callback = tf.keras.callbacks.TensorBoard(\n",
    "        log_dir=logs_dir,\n",
    "        histogram_freq=0, \n",
    "        write_graph=True, \n",
    "        profile_batch=(20,50) #run profiler on steps 20-40 - enable this line if you want to run profiler from the utils/ notebook\n",
    "    )\n"
   ]
  },
  {
   "cell_type": "code",
   "execution_count": 13,
   "id": "d2ec3d2e-0c20-4a2b-8f59-3ca93d16470c",
   "metadata": {},
   "outputs": [],
   "source": [
    "from merlin.models.tf.outputs.base import DotProduct, MetricsFn, ModelOutput\n",
    "\n",
    "user_schema = schema.select_by_tag(Tags.USER)\n",
    "user_inputs = mm.InputBlockV2(user_schema)\n",
    "\n",
    "query = mm.Encoder(user_inputs, mm.MLPBlock(layers))\n",
    "\n",
    "item_schema = schema.select_by_tag(Tags.ITEM)\n",
    "item_inputs = mm.InputBlockV2(\n",
    "        item_schema,)\n",
    "candidate = mm.Encoder(item_inputs, mm.MLPBlock(layers))\n",
    "\n",
    "model = mm.TwoTowerModelV2(query, candidate)"
   ]
  },
  {
   "cell_type": "markdown",
   "id": "ea0dff1e",
   "metadata": {},
   "source": [
    "**Metrics:**\n",
    "\n",
    "The following information retrieval metrics are used to compute the Top-10 accuracy of recommendation lists containing all items:\n",
    "\n",
    "* **Normalized Discounted Cumulative Gain (NDCG@10)**: NDCG accounts for rank of the relevant item in the recommendation list and is a more fine-grained metric than HR, which only verifies whether the relevant item is among the top-k items.\n",
    "\n",
    "* **Recall@10:** Also known as HitRate@n when there is only one relevant item in the recommendation list. Recall just verifies whether the relevant item is among the top-n items."
   ]
  },
  {
   "cell_type": "code",
   "execution_count": null,
   "id": "f716afa9",
   "metadata": {
    "tags": []
   },
   "outputs": [],
   "source": [
    "# model.set_retrieval_candidates_for_evaluation(train)\n",
    "opt = tf.keras.optimizers.Adagrad(learning_rate=LR)\n",
    "model.compile(optimizer=opt, run_eagerly=False, \n",
    "              metrics=[mm.RecallAt(1), \n",
    "                       mm.RecallAt(10), \n",
    "                       mm.NDCGAt(10)],\n",
    "             )\n",
    "\n",
    "# one_shot_cmd = get_upload_logs_to_manged_tb_command(oneshot=\"true\")\n",
    "# ! $one_shot_cmd\n",
    "\n",
    "model.fit(train, \n",
    "          validation_data=valid, \n",
    "          batch_size=BS, \n",
    "          epochs=epoch,\n",
    "          # steps_per_epoch=20, \n",
    "          callbacks=[tensorboard_callback, \n",
    "                     UploadTBLogsBatchEnd()],)\n",
    "\n",
    "#get the metrics for the experiment run\n",
    "history_keys = model.history.history.keys()\n",
    "\n",
    "#upload everything to  tb only do this if you were not streaming with the above command\n",
    "\n",
    "\n",
    "vertex_ai.start_run(RUN_NAME, tensorboard=TB_RESOURCE_NAME)\n",
    "\n",
    "vertex_ai.log_params({\"layers\": str(layers), \n",
    "                      \"learning_rate\": LR,\n",
    "                        \"num_epochs\": epoch,\n",
    "                        \"batch_size\": BS,\n",
    "                     })\n",
    "\n",
    "metrics_dict = {}\n",
    "_ = [metrics_dict.update({key: model.history.history[key][-1]}) for key in history_keys]\n",
    "metrics_dict\n",
    "vertex_ai.log_metrics(metrics_dict)\n",
    "vertex_ai.end_run() #end collecting metrics and the run is complete"
   ]
  },
  {
   "cell_type": "markdown",
   "id": "e2679030-e501-4b45-8cc1-88127c06f35c",
   "metadata": {},
   "source": [
    "- The One-shot command above will download your metrics to tensorboard - and will be avialble in the Experiments tab of Vertex\n",
    " \n",
    "#### Ideally you should be seeing GPU utilization like this - play with batch size to target ~ 70-80% utilization\n",
    "![](img/merlin-training-nvtop.png)"
   ]
  },
  {
   "cell_type": "markdown",
   "id": "d90f1bf8-26e8-44a3-b2f6-dae3852e5589",
   "metadata": {},
   "source": [
    "### Plotting performance of loss and recall"
   ]
  },
  {
   "cell_type": "code",
   "execution_count": 18,
   "id": "00a534cc-fe0a-4c7c-a3d5-22b654154077",
   "metadata": {},
   "outputs": [
    {
     "data": {
      "image/png": "[encoded data removed]",
      "text/plain": [
       "<Figure size 640x480 with 1 Axes>"
      ]
     },
     "metadata": {},
     "output_type": "display_data"
    }
   ],
   "source": [
    "import matplotlib.pyplot as plt\n",
    "\n",
    "def plot_performance(x, y1, y2, label_1, label_2, label_y):\n",
    "    plt.plot(x, y1, label = label_1)\n",
    "    plt.plot(x, y2, label = label_2)\n",
    "    plt.xlabel('Epoch')\n",
    "    plt.ylabel(label_y)\n",
    "    plt.title(label_y)\n",
    "    plt.legend()\n",
    "    plt.show()\n",
    "\n",
    "    \n",
    "plot_performance(x=range(epoch), \n",
    "                 y1=model.history.history['loss'], \n",
    "                 y2=model.history.history['val_loss'], \n",
    "                 label_1='train-loss', \n",
    "                 label_2='val-los', \n",
    "                 label_y='loss')"
   ]
  },
  {
   "cell_type": "markdown",
   "id": "30920ba2-f595-410c-8d75-97b71c508d27",
   "metadata": {},
   "source": [
    "#### Looking at the recall of predicting the next song by epoch"
   ]
  },
  {
   "cell_type": "code",
   "execution_count": 19,
   "id": "84ee7064-2950-4488-bb93-80a644cfc6f8",
   "metadata": {},
   "outputs": [
    {
     "data": {
      "image/png": "[encoded data removed]",
      "text/plain": [
       "<Figure size 640x480 with 1 Axes>"
      ]
     },
     "metadata": {},
     "output_type": "display_data"
    }
   ],
   "source": [
    "plot_performance(x=range(epoch), \n",
    "                 y1=model.history.history['recall_at_1'], \n",
    "                 y2=model.history.history['val_recall_at_1'], \n",
    "                 label_1='recall_at_1', \n",
    "                 label_2='recall_at_1_val', \n",
    "                 label_y='recall_at_1')"
   ]
  },
  {
   "cell_type": "markdown",
   "id": "a4a9ec19",
   "metadata": {},
   "source": [
    "#### Save the Query Model"
   ]
  },
  {
   "cell_type": "code",
   "execution_count": null,
   "id": "5aad64ae-08f1-41b8-b816-cf535df9f171",
   "metadata": {},
   "outputs": [],
   "source": [
    "query_tower = model.query_encoder\n",
    "query_tower.save(os.path.join(output_path, 'query_model_merlin_v2'))\n"
   ]
  },
  {
   "cell_type": "markdown",
   "id": "ba5b6bc0",
   "metadata": {},
   "source": [
    "### Save embeddings to GCS for each song - this will become our Matching Engine index"
   ]
  },
  {
   "cell_type": "code",
   "execution_count": 24,
   "id": "897c7f11",
   "metadata": {},
   "outputs": [],
   "source": [
    "from merlin.models.utils.dataset import unique_rows_by_features\n",
    "\n",
    "item_features = (\n",
    "    unique_rows_by_features(train, Tags.ITEM, Tags.ID)\n",
    ")\n",
    "\n",
    "item_features_val = (\n",
    "    unique_rows_by_features(valid, Tags.ITEM, Tags.ID)\n",
    ")"
   ]
  },
  {
   "cell_type": "code",
   "execution_count": 25,
   "id": "fcad7ec0-d772-4823-8780-b6567c0a4f14",
   "metadata": {},
   "outputs": [
    {
     "name": "stderr",
     "output_type": "stream",
     "text": [
      "/usr/local/lib/python3.8/dist-packages/merlin/schema/tags.py:148: UserWarning: Compound tags like Tags.ITEM_ID have been deprecated and will be removed in a future version. Please use the atomic versions of these tags, like [<Tags.ITEM: 'item'>, <Tags.ID: 'id'>].\n",
      "  warnings.warn(\n"
     ]
    }
   ],
   "source": [
    "item_embs = model.candidate_embeddings(\n",
    "    item_features, index=item_features.schema['track_uri_can'], batch_size=10000\n",
    ")"
   ]
  },
  {
   "cell_type": "code",
   "execution_count": 26,
   "id": "cb492f4f-7362-4ec0-b2f0-3373ef1d481d",
   "metadata": {},
   "outputs": [
    {
     "name": "stderr",
     "output_type": "stream",
     "text": [
      "/usr/local/lib/python3.8/dist-packages/merlin/schema/tags.py:148: UserWarning: Compound tags like Tags.ITEM_ID have been deprecated and will be removed in a future version. Please use the atomic versions of these tags, like [<Tags.ITEM: 'item'>, <Tags.ID: 'id'>].\n",
      "  warnings.warn(\n"
     ]
    }
   ],
   "source": [
    "item_embs_val = model.candidate_embeddings(\n",
    "    item_features_val, index=item_features_val.schema['track_uri_can'], batch_size=10000\n",
    ")"
   ]
  },
  {
   "cell_type": "code",
   "execution_count": 27,
   "id": "5820048f-d12e-49c4-b574-fefb37f2ad00",
   "metadata": {},
   "outputs": [
    {
     "data": {
      "text/html": [
       "<div>\n",
       "<style scoped>\n",
       "    .dataframe tbody tr th:only-of-type {\n",
       "        vertical-align: middle;\n",
       "    }\n",
       "\n",
       "    .dataframe tbody tr th {\n",
       "        vertical-align: top;\n",
       "    }\n",
       "\n",
       "    .dataframe thead th {\n",
       "        text-align: right;\n",
       "    }\n",
       "</style>\n",
       "<table border=\"1\" class=\"dataframe\">\n",
       "  <thead>\n",
       "    <tr style=\"text-align: right;\">\n",
       "      <th></th>\n",
       "      <th>0</th>\n",
       "      <th>1</th>\n",
       "      <th>2</th>\n",
       "      <th>3</th>\n",
       "      <th>4</th>\n",
       "      <th>5</th>\n",
       "      <th>6</th>\n",
       "      <th>7</th>\n",
       "      <th>8</th>\n",
       "      <th>9</th>\n",
       "      <th>...</th>\n",
       "      <th>118</th>\n",
       "      <th>119</th>\n",
       "      <th>120</th>\n",
       "      <th>121</th>\n",
       "      <th>122</th>\n",
       "      <th>123</th>\n",
       "      <th>124</th>\n",
       "      <th>125</th>\n",
       "      <th>126</th>\n",
       "      <th>127</th>\n",
       "    </tr>\n",
       "    <tr>\n",
       "      <th>track_uri_can</th>\n",
       "      <th></th>\n",
       "      <th></th>\n",
       "      <th></th>\n",
       "      <th></th>\n",
       "      <th></th>\n",
       "      <th></th>\n",
       "      <th></th>\n",
       "      <th></th>\n",
       "      <th></th>\n",
       "      <th></th>\n",
       "      <th></th>\n",
       "      <th></th>\n",
       "      <th></th>\n",
       "      <th></th>\n",
       "      <th></th>\n",
       "      <th></th>\n",
       "      <th></th>\n",
       "      <th></th>\n",
       "      <th></th>\n",
       "      <th></th>\n",
       "      <th></th>\n",
       "    </tr>\n",
       "  </thead>\n",
       "  <tbody>\n",
       "    <tr>\n",
       "      <th>0</th>\n",
       "      <td>1.598981</td>\n",
       "      <td>1.148641</td>\n",
       "      <td>0.000000</td>\n",
       "      <td>0.900171</td>\n",
       "      <td>1.039698</td>\n",
       "      <td>1.268149</td>\n",
       "      <td>1.387079</td>\n",
       "      <td>0.872431</td>\n",
       "      <td>0.0</td>\n",
       "      <td>0.000000</td>\n",
       "      <td>...</td>\n",
       "      <td>1.249992</td>\n",
       "      <td>2.830853</td>\n",
       "      <td>1.806437</td>\n",
       "      <td>0.000000</td>\n",
       "      <td>0.0</td>\n",
       "      <td>0.000000</td>\n",
       "      <td>0.965757</td>\n",
       "      <td>2.482678</td>\n",
       "      <td>0.816776</td>\n",
       "      <td>0.000000</td>\n",
       "    </tr>\n",
       "    <tr>\n",
       "      <th>1</th>\n",
       "      <td>1.985312</td>\n",
       "      <td>0.314724</td>\n",
       "      <td>0.075375</td>\n",
       "      <td>0.557990</td>\n",
       "      <td>0.000000</td>\n",
       "      <td>0.000000</td>\n",
       "      <td>0.885789</td>\n",
       "      <td>0.000000</td>\n",
       "      <td>0.0</td>\n",
       "      <td>0.000000</td>\n",
       "      <td>...</td>\n",
       "      <td>0.764083</td>\n",
       "      <td>0.000000</td>\n",
       "      <td>1.200484</td>\n",
       "      <td>0.000000</td>\n",
       "      <td>0.0</td>\n",
       "      <td>0.504657</td>\n",
       "      <td>0.000000</td>\n",
       "      <td>2.577287</td>\n",
       "      <td>1.154398</td>\n",
       "      <td>0.040066</td>\n",
       "    </tr>\n",
       "    <tr>\n",
       "      <th>2</th>\n",
       "      <td>3.116338</td>\n",
       "      <td>0.000000</td>\n",
       "      <td>0.000000</td>\n",
       "      <td>1.143776</td>\n",
       "      <td>0.000000</td>\n",
       "      <td>0.000000</td>\n",
       "      <td>1.520092</td>\n",
       "      <td>0.000000</td>\n",
       "      <td>0.0</td>\n",
       "      <td>0.000000</td>\n",
       "      <td>...</td>\n",
       "      <td>0.829669</td>\n",
       "      <td>0.000000</td>\n",
       "      <td>0.856309</td>\n",
       "      <td>0.000000</td>\n",
       "      <td>0.0</td>\n",
       "      <td>0.372846</td>\n",
       "      <td>1.147618</td>\n",
       "      <td>2.834061</td>\n",
       "      <td>0.195504</td>\n",
       "      <td>0.000000</td>\n",
       "    </tr>\n",
       "    <tr>\n",
       "      <th>3</th>\n",
       "      <td>1.622658</td>\n",
       "      <td>0.000000</td>\n",
       "      <td>0.000000</td>\n",
       "      <td>0.784024</td>\n",
       "      <td>0.000000</td>\n",
       "      <td>0.000000</td>\n",
       "      <td>0.991706</td>\n",
       "      <td>0.000000</td>\n",
       "      <td>0.0</td>\n",
       "      <td>0.000000</td>\n",
       "      <td>...</td>\n",
       "      <td>0.525229</td>\n",
       "      <td>0.000000</td>\n",
       "      <td>1.279989</td>\n",
       "      <td>0.000000</td>\n",
       "      <td>0.0</td>\n",
       "      <td>0.338904</td>\n",
       "      <td>0.000000</td>\n",
       "      <td>2.650746</td>\n",
       "      <td>0.719306</td>\n",
       "      <td>0.000000</td>\n",
       "    </tr>\n",
       "    <tr>\n",
       "      <th>4</th>\n",
       "      <td>2.894939</td>\n",
       "      <td>0.193081</td>\n",
       "      <td>0.272784</td>\n",
       "      <td>0.000000</td>\n",
       "      <td>0.000000</td>\n",
       "      <td>0.000000</td>\n",
       "      <td>1.223720</td>\n",
       "      <td>0.000000</td>\n",
       "      <td>0.0</td>\n",
       "      <td>0.000000</td>\n",
       "      <td>...</td>\n",
       "      <td>0.842285</td>\n",
       "      <td>0.000000</td>\n",
       "      <td>0.610949</td>\n",
       "      <td>0.000000</td>\n",
       "      <td>0.0</td>\n",
       "      <td>0.308182</td>\n",
       "      <td>0.000000</td>\n",
       "      <td>2.598973</td>\n",
       "      <td>0.882622</td>\n",
       "      <td>0.000000</td>\n",
       "    </tr>\n",
       "    <tr>\n",
       "      <th>...</th>\n",
       "      <td>...</td>\n",
       "      <td>...</td>\n",
       "      <td>...</td>\n",
       "      <td>...</td>\n",
       "      <td>...</td>\n",
       "      <td>...</td>\n",
       "      <td>...</td>\n",
       "      <td>...</td>\n",
       "      <td>...</td>\n",
       "      <td>...</td>\n",
       "      <td>...</td>\n",
       "      <td>...</td>\n",
       "      <td>...</td>\n",
       "      <td>...</td>\n",
       "      <td>...</td>\n",
       "      <td>...</td>\n",
       "      <td>...</td>\n",
       "      <td>...</td>\n",
       "      <td>...</td>\n",
       "      <td>...</td>\n",
       "      <td>...</td>\n",
       "    </tr>\n",
       "    <tr>\n",
       "      <th>2183202</th>\n",
       "      <td>0.798891</td>\n",
       "      <td>0.489036</td>\n",
       "      <td>0.000000</td>\n",
       "      <td>1.514931</td>\n",
       "      <td>0.062603</td>\n",
       "      <td>1.786053</td>\n",
       "      <td>1.154257</td>\n",
       "      <td>0.884001</td>\n",
       "      <td>0.0</td>\n",
       "      <td>0.000000</td>\n",
       "      <td>...</td>\n",
       "      <td>1.442423</td>\n",
       "      <td>0.781222</td>\n",
       "      <td>2.487395</td>\n",
       "      <td>0.174898</td>\n",
       "      <td>0.0</td>\n",
       "      <td>0.000000</td>\n",
       "      <td>1.299228</td>\n",
       "      <td>1.578976</td>\n",
       "      <td>1.499897</td>\n",
       "      <td>0.000000</td>\n",
       "    </tr>\n",
       "    <tr>\n",
       "      <th>2183320</th>\n",
       "      <td>0.900120</td>\n",
       "      <td>1.202526</td>\n",
       "      <td>0.000000</td>\n",
       "      <td>0.000000</td>\n",
       "      <td>0.036876</td>\n",
       "      <td>0.000000</td>\n",
       "      <td>0.867916</td>\n",
       "      <td>0.000000</td>\n",
       "      <td>0.0</td>\n",
       "      <td>1.087528</td>\n",
       "      <td>...</td>\n",
       "      <td>0.499517</td>\n",
       "      <td>0.421696</td>\n",
       "      <td>2.439277</td>\n",
       "      <td>0.591112</td>\n",
       "      <td>0.0</td>\n",
       "      <td>0.000000</td>\n",
       "      <td>0.121303</td>\n",
       "      <td>1.005926</td>\n",
       "      <td>0.971267</td>\n",
       "      <td>0.373826</td>\n",
       "    </tr>\n",
       "    <tr>\n",
       "      <th>2183342</th>\n",
       "      <td>1.155754</td>\n",
       "      <td>0.778916</td>\n",
       "      <td>0.000000</td>\n",
       "      <td>0.000000</td>\n",
       "      <td>0.103660</td>\n",
       "      <td>0.000000</td>\n",
       "      <td>1.022378</td>\n",
       "      <td>0.420565</td>\n",
       "      <td>0.0</td>\n",
       "      <td>0.000000</td>\n",
       "      <td>...</td>\n",
       "      <td>1.135739</td>\n",
       "      <td>0.951849</td>\n",
       "      <td>2.458950</td>\n",
       "      <td>0.969773</td>\n",
       "      <td>0.0</td>\n",
       "      <td>0.066152</td>\n",
       "      <td>0.090780</td>\n",
       "      <td>1.284856</td>\n",
       "      <td>1.820491</td>\n",
       "      <td>0.000000</td>\n",
       "    </tr>\n",
       "    <tr>\n",
       "      <th>2183522</th>\n",
       "      <td>1.399634</td>\n",
       "      <td>0.772430</td>\n",
       "      <td>0.000000</td>\n",
       "      <td>0.000000</td>\n",
       "      <td>0.296366</td>\n",
       "      <td>0.000000</td>\n",
       "      <td>1.038962</td>\n",
       "      <td>0.283466</td>\n",
       "      <td>0.0</td>\n",
       "      <td>0.000000</td>\n",
       "      <td>...</td>\n",
       "      <td>0.963810</td>\n",
       "      <td>1.544312</td>\n",
       "      <td>1.558411</td>\n",
       "      <td>0.882821</td>\n",
       "      <td>0.0</td>\n",
       "      <td>0.000000</td>\n",
       "      <td>0.000000</td>\n",
       "      <td>1.210838</td>\n",
       "      <td>1.651225</td>\n",
       "      <td>0.412865</td>\n",
       "    </tr>\n",
       "    <tr>\n",
       "      <th>2183554</th>\n",
       "      <td>1.057383</td>\n",
       "      <td>0.910539</td>\n",
       "      <td>0.000000</td>\n",
       "      <td>0.337624</td>\n",
       "      <td>0.000000</td>\n",
       "      <td>0.000000</td>\n",
       "      <td>1.284842</td>\n",
       "      <td>0.707361</td>\n",
       "      <td>0.0</td>\n",
       "      <td>0.000000</td>\n",
       "      <td>...</td>\n",
       "      <td>1.161750</td>\n",
       "      <td>0.921533</td>\n",
       "      <td>2.280146</td>\n",
       "      <td>0.469674</td>\n",
       "      <td>0.0</td>\n",
       "      <td>0.118587</td>\n",
       "      <td>0.000000</td>\n",
       "      <td>1.425252</td>\n",
       "      <td>2.399042</td>\n",
       "      <td>0.000000</td>\n",
       "    </tr>\n",
       "  </tbody>\n",
       "</table>\n",
       "<p>151275 rows × 128 columns</p>\n",
       "</div>"
      ],
      "text/plain": [
       "                      0         1         2         3         4         5  \\\n",
       "track_uri_can                                                               \n",
       "0              1.598981  1.148641  0.000000  0.900171  1.039698  1.268149   \n",
       "1              1.985312  0.314724  0.075375  0.557990  0.000000  0.000000   \n",
       "2              3.116338  0.000000  0.000000  1.143776  0.000000  0.000000   \n",
       "3              1.622658  0.000000  0.000000  0.784024  0.000000  0.000000   \n",
       "4              2.894939  0.193081  0.272784  0.000000  0.000000  0.000000   \n",
       "...                 ...       ...       ...       ...       ...       ...   \n",
       "2183202        0.798891  0.489036  0.000000  1.514931  0.062603  1.786053   \n",
       "2183320        0.900120  1.202526  0.000000  0.000000  0.036876  0.000000   \n",
       "2183342        1.155754  0.778916  0.000000  0.000000  0.103660  0.000000   \n",
       "2183522        1.399634  0.772430  0.000000  0.000000  0.296366  0.000000   \n",
       "2183554        1.057383  0.910539  0.000000  0.337624  0.000000  0.000000   \n",
       "\n",
       "                      6         7    8         9  ...       118       119  \\\n",
       "track_uri_can                                     ...                       \n",
       "0              1.387079  0.872431  0.0  0.000000  ...  1.249992  2.830853   \n",
       "1              0.885789  0.000000  0.0  0.000000  ...  0.764083  0.000000   \n",
       "2              1.520092  0.000000  0.0  0.000000  ...  0.829669  0.000000   \n",
       "3              0.991706  0.000000  0.0  0.000000  ...  0.525229  0.000000   \n",
       "4              1.223720  0.000000  0.0  0.000000  ...  0.842285  0.000000   \n",
       "...                 ...       ...  ...       ...  ...       ...       ...   \n",
       "2183202        1.154257  0.884001  0.0  0.000000  ...  1.442423  0.781222   \n",
       "2183320        0.867916  0.000000  0.0  1.087528  ...  0.499517  0.421696   \n",
       "2183342        1.022378  0.420565  0.0  0.000000  ...  1.135739  0.951849   \n",
       "2183522        1.038962  0.283466  0.0  0.000000  ...  0.963810  1.544312   \n",
       "2183554        1.284842  0.707361  0.0  0.000000  ...  1.161750  0.921533   \n",
       "\n",
       "                    120       121  122       123       124       125  \\\n",
       "track_uri_can                                                          \n",
       "0              1.806437  0.000000  0.0  0.000000  0.965757  2.482678   \n",
       "1              1.200484  0.000000  0.0  0.504657  0.000000  2.577287   \n",
       "2              0.856309  0.000000  0.0  0.372846  1.147618  2.834061   \n",
       "3              1.279989  0.000000  0.0  0.338904  0.000000  2.650746   \n",
       "4              0.610949  0.000000  0.0  0.308182  0.000000  2.598973   \n",
       "...                 ...       ...  ...       ...       ...       ...   \n",
       "2183202        2.487395  0.174898  0.0  0.000000  1.299228  1.578976   \n",
       "2183320        2.439277  0.591112  0.0  0.000000  0.121303  1.005926   \n",
       "2183342        2.458950  0.969773  0.0  0.066152  0.090780  1.284856   \n",
       "2183522        1.558411  0.882821  0.0  0.000000  0.000000  1.210838   \n",
       "2183554        2.280146  0.469674  0.0  0.118587  0.000000  1.425252   \n",
       "\n",
       "                    126       127  \n",
       "track_uri_can                      \n",
       "0              0.816776  0.000000  \n",
       "1              1.154398  0.040066  \n",
       "2              0.195504  0.000000  \n",
       "3              0.719306  0.000000  \n",
       "4              0.882622  0.000000  \n",
       "...                 ...       ...  \n",
       "2183202        1.499897  0.000000  \n",
       "2183320        0.971267  0.373826  \n",
       "2183342        1.820491  0.000000  \n",
       "2183522        1.651225  0.412865  \n",
       "2183554        2.399042  0.000000  \n",
       "\n",
       "[151275 rows x 128 columns]"
      ]
     },
     "execution_count": 27,
     "metadata": {},
     "output_type": "execute_result"
    }
   ],
   "source": [
    "# Quick look at the data\n",
    "item_emb_pd = item_embs_val.compute().to_pandas()\n",
    "item_emb_pd"
   ]
  },
  {
   "cell_type": "code",
   "execution_count": 28,
   "id": "e9f33c17-d679-4fca-a840-a17b78b3e3f1",
   "metadata": {},
   "outputs": [
    {
     "name": "stdout",
     "output_type": "stream",
     "text": [
      "rm: cannot remove 'candidate_embeddings.json': No such file or directory\n",
      "CPU times: user 23min 42s, sys: 31.5 s, total: 24min 13s\n",
      "Wall time: 24min 58s\n"
     ]
    }
   ],
   "source": [
    "%%time\n",
    "!rm candidate_embeddings.json > /dev/null \n",
    "!touch candidate_embeddings.json\n",
    "\n",
    "item_data = pd.read_parquet(os.path.join(BUCKET, \"merlin-processed/workflow/2t-spotify-workflow\", 'categories/unique.track_uri_can.parquet'))\n",
    "\n",
    "lookup_dict = dict(item_data['track_uri_can'])\n",
    "\n",
    "def format_for_matching_engine(data) -> None:\n",
    "    cols = [str(i) for i in range(layers[-1])] #ensure we are only pulling 0-EMBEDDING_DIM cols\n",
    "    emb = [data[col] for col in cols]\n",
    "    formatted_emb = '{\"id\":\"' + str(data['track_uri_can']) + '\",\"embedding\":[' + \",\".join(str(x) for x in list(emb)) + ']}'\n",
    "    with open(\"candidate_embeddings.json\", 'a') as f:\n",
    "        f.write(formatted_emb)\n",
    "        f.write(\"\\n\")\n",
    "    f.close()\n",
    "\n",
    "item_emb_pd = item_embs.compute().to_pandas().fillna(1e-10).reset_index() #filling blanks with an epsilon value\n",
    "item_emb_pd['track_uri_can'] = item_emb_pd['track_uri_can'].apply(lambda l: lookup_dict[l])\n",
    "_ = item_emb_pd.apply(format_for_matching_engine, axis=1)\n",
    "\n",
    "item_emb_pd_val = item_embs_val.compute().to_pandas().fillna(1e-10).reset_index() #filling blanks with an epsilon value\n",
    "item_emb_pd_val['track_uri_can'] = item_emb_pd_val['track_uri_can'].apply(lambda l: lookup_dict[l])\n",
    "_ = item_emb_pd_val.apply(format_for_matching_engine, axis=1)\n"
   ]
  },
  {
   "cell_type": "code",
   "execution_count": 29,
   "id": "690eaae6-2059-4c09-84f2-cbde275ccc2e",
   "metadata": {},
   "outputs": [
    {
     "name": "stdout",
     "output_type": "stream",
     "text": [
      "2334932 candidate_embeddings.json\n"
     ]
    }
   ],
   "source": [
    "!wc -l candidate_embeddings.json"
   ]
  },
  {
   "cell_type": "markdown",
   "id": "709feedd-2fc3-44c5-b7aa-1c3d12cffd7e",
   "metadata": {},
   "source": [
    "### BE SURE TO RUN `gsutil config` IN TERMINAL TO LOG IN WITH YOUR CREDS"
   ]
  },
  {
   "cell_type": "code",
   "execution_count": 30,
   "id": "bad520f8-ef7f-4c97-9eb7-6969e56b4a00",
   "metadata": {},
   "outputs": [
    {
     "data": {
      "text/plain": [
       "'gs://spotify-beam-v3/merlin-processed/embeddings/candidate_embeddings.json'"
      ]
     },
     "execution_count": 30,
     "metadata": {},
     "output_type": "execute_result"
    }
   ],
   "source": [
    "# !pip install gsutil\n",
    "import os\n",
    "candidate_path = os.path.join(BUCKET, 'merlin-processed/embeddings/candidate_embeddings.json')\n",
    "\n",
    "candidate_path"
   ]
  },
  {
   "cell_type": "code",
   "execution_count": 32,
   "id": "01e2191c-9350-4106-9ae0-4872196e9c6c",
   "metadata": {},
   "outputs": [],
   "source": [
    "# !head -2 candidate_embeddings.json"
   ]
  },
  {
   "cell_type": "code",
   "execution_count": 34,
   "id": "5ff8d413-1845-4fa3-98d9-2e1162a38316",
   "metadata": {},
   "outputs": [
    {
     "name": "stdout",
     "output_type": "stream",
     "text": [
      "/usr/lib/python3/dist-packages/requests/__init__.py:89: RequestsDependencyWarning: urllib3 (1.26.12) or chardet (3.0.4) doesn't match a supported version!\n",
      "  warnings.warn(\"urllib3 ({}) or chardet ({}) doesn't match a supported \"\n",
      "Copying file://candidate_embeddings.json [Content-Type=application/json]...\n",
      "==> NOTE: You are uploading one or more large file(s), which would run          \n",
      "significantly faster if you enable parallel composite uploads. This\n",
      "feature can be enabled by editing the\n",
      "\"parallel_composite_upload_threshold\" value in your .boto\n",
      "configuration file. However, note that if you do this large files will\n",
      "be uploaded as `composite objects\n",
      "<https://cloud.google.com/storage/docs/composite-objects>`_,which\n",
      "means that any user who downloads such objects will need to have a\n",
      "compiled crcmod installed (see \"gsutil help crcmod\"). This is because\n",
      "without a compiled crcmod, computing checksums on composite objects is\n",
      "so slow that gsutil disables downloads of composite objects.\n",
      "\n",
      "\\ [1 files][  3.9 GiB/  3.9 GiB]   53.3 MiB/s                                   \n",
      "Operation completed over 1 objects/3.9 GiB.                                      \n"
     ]
    }
   ],
   "source": [
    "!gsutil cp candidate_embeddings.json $candidate_path"
   ]
  },
  {
   "cell_type": "markdown",
   "id": "a74a554e-6358-46e3-b614-2872de6858b1",
   "metadata": {},
   "source": [
    "## All set move to the next notebook - your bucket now should look something like this:\n",
    "\n",
    "![](img/merlin-bucket.png)"
   ]
  }
 ],
 "metadata": {
  "environment": {
   "kernel": "python3",
   "name": "tf2-gpu.2-10.m99",
   "type": "gcloud",
   "uri": "gcr.io/deeplearning-platform-release/tf2-gpu.2-10:m99"
  },
  "kernelspec": {
   "display_name": "Python 3 (ipykernel)",
   "language": "python",
   "name": "python3"
  },
  "language_info": {
   "codemirror_mode": {
    "name": "ipython",
    "version": 3
   },
   "file_extension": ".py",
   "mimetype": "text/x-python",
   "name": "python",
   "nbconvert_exporter": "python",
   "pygments_lexer": "ipython3",
   "version": "3.8.10"
  }
 },
 "nbformat": 4,
 "nbformat_minor": 5
}
