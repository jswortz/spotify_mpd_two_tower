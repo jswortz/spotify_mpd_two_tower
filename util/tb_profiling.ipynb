{
 "cells": [
  {
   "cell_type": "markdown",
   "id": "2823e5a0-3fe5-45f9-8ade-5be0e6f6275b",
   "metadata": {},
   "source": [
    "### Utility notebook to run tensorboard profiler\n",
    "This helps profile data pipeline performance and allows for optimizations to be made with `tf.data`"
   ]
  },
  {
   "cell_type": "code",
   "execution_count": 2,
   "id": "0e1b7758-4ed1-48ec-b0ed-992dc6843df5",
   "metadata": {},
   "outputs": [],
   "source": [
    "# !pip install -U tensorboard_plugin_profile --user"
   ]
  },
  {
   "cell_type": "code",
   "execution_count": 1,
   "id": "fb5d34ec-0df5-4d9c-b8e2-a8a4038292fc",
   "metadata": {},
   "outputs": [],
   "source": [
    "PROJECT_ID = 'hybrid-vertex'  # <--- TODO: CHANGE THIS\n",
    "LOCATION = 'us-central1' \n",
    "path = 'gs://two-tower-models/tb-logs/spotify-singe-node-train-full-data-v3-01' #TODO change to your tb directory from notebook 02\n",
    "\n",
    "import tensorflow as tf\n",
    "import datetime, os"
   ]
  },
  {
   "cell_type": "code",
   "execution_count": 2,
   "id": "cdd31a5c-748a-4a67-83c9-4ba10596e34d",
   "metadata": {},
   "outputs": [],
   "source": [
    "%load_ext tensorboard"
   ]
  },
  {
   "cell_type": "code",
   "execution_count": 3,
   "id": "c0609eb8-c25b-470a-b246-f226e1760ce8",
   "metadata": {},
   "outputs": [
    {
     "data": {
      "text/html": [
       "\n",
       "      <iframe id=\"tensorboard-frame-d684f14093b3e9a2\" width=\"100%\" height=\"800\" frameborder=\"0\">\n",
       "      </iframe>\n",
       "      <script>\n",
       "        (function() {\n",
       "          const frame = document.getElementById(\"tensorboard-frame-d684f14093b3e9a2\");\n",
       "          const url = new URL(\"/proxy/6006/\", window.location);\n",
       "          const port = 0;\n",
       "          if (port) {\n",
       "            url.port = port;\n",
       "          }\n",
       "          frame.src = url;\n",
       "        })();\n",
       "      </script>\n",
       "    "
      ],
      "text/plain": [
       "<IPython.core.display.HTML object>"
      ]
     },
     "metadata": {},
     "output_type": "display_data"
    }
   ],
   "source": [
    "%tensorboard --logdir=$path"
   ]
  },
  {
   "cell_type": "code",
   "execution_count": null,
   "id": "8e5ccc8f-fb31-46df-ad79-88c9786c32ad",
   "metadata": {},
   "outputs": [],
   "source": []
  }
 ],
 "metadata": {
  "environment": {
   "kernel": "python3",
   "name": "tf2-gpu.2-8.m98",
   "type": "gcloud",
   "uri": "gcr.io/deeplearning-platform-release/tf2-gpu.2-8:m98"
  },
  "kernelspec": {
   "display_name": "Python 3",
   "language": "python",
   "name": "python3"
  },
  "language_info": {
   "codemirror_mode": {
    "name": "ipython",
    "version": 3
   },
   "file_extension": ".py",
   "mimetype": "text/x-python",
   "name": "python",
   "nbconvert_exporter": "python",
   "pygments_lexer": "ipython3",
   "version": "3.7.12"
  }
 },
 "nbformat": 4,
 "nbformat_minor": 5
}
