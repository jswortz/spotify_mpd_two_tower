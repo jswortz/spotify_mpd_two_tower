{
 "cells": [
  {
   "cell_type": "markdown",
   "id": "f523ce16-b93d-4107-8905-f3e07176174c",
   "metadata": {},
   "source": [
    "# Implementing Recommendation Engines with Matching Engine"
   ]
  },
  {
   "cell_type": "markdown",
   "id": "211c8ed5-f34b-44f8-9028-b8b716165b08",
   "metadata": {},
   "source": [
    "### VPC Network peering\n",
    "Matching engine is a high performance vector matching service that requires a seperate VPC to ensure performance. \n",
    "\n",
    "Below are the one-time instructions to set up a peering network. \n",
    "\n",
    "**Once created, be sure to your notebook instance running this particular notebook is in the subnetwork... https://cloud.google.com/vertex-ai/docs/matching-engine/match-eng-setup**\n",
    "\n",
    "Steps in this notebook:\n",
    "1. Build and deploy a brute force and ANN index\n",
    "2. Test the recall accuracy between BF and ANN\n",
    "Note BF will always be 100% recall but at cost of speed and computational complexity\n",
    "Here's a good benchmark of Matching Engine (ScaNN is the algorithm)\n",
    "\n",
    "![](https://1.bp.blogspot.com/--mbMV8fQY28/XxsvbGL_l-I/AAAAAAAAGQ0/Br9B3XGnBa07barUxC4XTi8hSDxYzwAEgCLcBGAsYHQ/s640/image5.png)"
   ]
  },
  {
   "cell_type": "markdown",
   "id": "a90079d2-402c-4222-92be-2ad8920e5810",
   "metadata": {},
   "source": [
    "## Load env config"
   ]
  },
  {
   "cell_type": "code",
   "execution_count": 1,
   "id": "ed0c55f4-97e4-4b22-9ed2-4b3e0149f5e5",
   "metadata": {},
   "outputs": [],
   "source": [
    "CREATE_NEW_ASSETS = 'True' # 'True' | 'False'"
   ]
  },
  {
   "cell_type": "code",
   "execution_count": 2,
   "id": "ce55ba10-3808-43bc-a83a-632646098a80",
   "metadata": {},
   "outputs": [
    {
     "name": "stdout",
     "output_type": "stream",
     "text": [
      "PREFIX = ndr-v1\n"
     ]
    }
   ],
   "source": [
    "# naming convention for all cloud resources\n",
    "VERSION        = \"v1\"                  # TODO\n",
    "PREFIX         = f'ndr-{VERSION}'      # TODO\n",
    "\n",
    "print(f\"PREFIX = {PREFIX}\")"
   ]
  },
  {
   "cell_type": "code",
   "execution_count": 3,
   "id": "3bccda56-70f1-4e8d-8b3a-3164cd280cbd",
   "metadata": {},
   "outputs": [
    {
     "name": "stdout",
     "output_type": "stream",
     "text": [
      "\n",
      "PROJECT_ID               = \"hybrid-vertex\"\n",
      "PROJECT_NUM              = \"934903580331\"\n",
      "LOCATION                 = \"us-central1\"\n",
      "\n",
      "REGION                   = \"us-central1\"\n",
      "BQ_LOCATION              = \"US\"\n",
      "VPC_NETWORK_NAME         = \"ucaip-haystack-vpc-network\"\n",
      "\n",
      "VERTEX_SA                = \"934903580331-compute@developer.gserviceaccount.com\"\n",
      "\n",
      "PREFIX                   = \"ndr-v1\"\n",
      "VERSION                  = \"v1\"\n",
      "\n",
      "APP                      = \"sp\"\n",
      "MODEL_TYPE               = \"2tower\"\n",
      "FRAMEWORK                = \"tfrs\"\n",
      "DATA_VERSION             = \"v1\"\n",
      "TRACK_HISTORY            = \"5\"\n",
      "\n",
      "BUCKET_NAME              = \"ndr-v1-hybrid-vertex-bucket\"\n",
      "BUCKET_URI               = \"gs://ndr-v1-hybrid-vertex-bucket\"\n",
      "SOURCE_BUCKET            = \"spotify-million-playlist-dataset\"\n",
      "\n",
      "DATA_GCS_PREFIX          = \"data\"\n",
      "DATA_PATH                = \"gs://ndr-v1-hybrid-vertex-bucket/data\"\n",
      "VOCAB_SUBDIR             = \"vocabs\"\n",
      "VOCAB_FILENAME           = \"vocab_dict.pkl\"\n",
      "\n",
      "CANDIDATE_PREFIX         = \"candidates\"\n",
      "TRAIN_DIR_PREFIX         = \"train\"\n",
      "VALID_DIR_PREFIX         = \"valid\"\n",
      "\n",
      "VPC_NETWORK_FULL         = \"projects/934903580331/global/networks/ucaip-haystack-vpc-network\"\n",
      "\n",
      "BQ_DATASET               = \"spotify_e2e_test\"\n",
      "\n",
      "REPO_SRC                 = \"src\"\n",
      "PIPELINES_SUB_DIR        = \"feature_pipes\"\n",
      "\n",
      "REPOSITORY               = \"ndr-v1-spotify\"\n",
      "IMAGE_NAME               = \"train-v1\"\n",
      "REMOTE_IMAGE_NAME        = \"us-central1-docker.pkg.dev/hybrid-vertex/ndr-v1-spotify/train-v1\"\n",
      "DOCKERNAME               = \"tfrs\"\n",
      "\n",
      "SERVING_IMAGE_URI_CPU    = \"us-docker.pkg.dev/vertex-ai/prediction/tf2-cpu.2-11:latest\"\n",
      "SERVING_IMAGE_URI_GPU    = \"us-docker.pkg.dev/vertex-ai/prediction/tf2-gpu.2-11:latest\"\n",
      "\n"
     ]
    }
   ],
   "source": [
    "# staging GCS\n",
    "GCP_PROJECTS             = !gcloud config get-value project\n",
    "PROJECT_ID               = GCP_PROJECTS[0]\n",
    "\n",
    "# GCS bucket and paths\n",
    "BUCKET_NAME              = f'{PREFIX}-{PROJECT_ID}-bucket'\n",
    "BUCKET_URI               = f'gs://{BUCKET_NAME}'\n",
    "\n",
    "config = !gsutil cat {BUCKET_URI}/config/notebook_env.py\n",
    "print(config.n)\n",
    "exec(config.n)"
   ]
  },
  {
   "cell_type": "code",
   "execution_count": 4,
   "id": "5ee35e06-849d-4e52-b5fb-93602211a56c",
   "metadata": {},
   "outputs": [
    {
     "name": "stdout",
     "output_type": "stream",
     "text": [
      "EXPERIMENT_NAME : local-train-v1\n",
      "RUN_NAME        : run-20230919-150451\n",
      "RUN_DIR_PATH    : local-train-v1/run-20230919-150451\n"
     ]
    }
   ],
   "source": [
    "# local-train-v1/run-20230919-150451/candidates/candidate_embeddings.json\n",
    "\n",
    "EXPERIMENT_NAME   = \"local-train-v1\"      # TODO\n",
    "RUN_NAME          = \"run-20230919-150451\" # TODO\n",
    "\n",
    "RUN_DIR_PATH = f'{EXPERIMENT_NAME}/{RUN_NAME}'\n",
    "\n",
    "print(f\"EXPERIMENT_NAME : {EXPERIMENT_NAME}\")\n",
    "print(f\"RUN_NAME        : {RUN_NAME}\")\n",
    "print(f\"RUN_DIR_PATH    : {RUN_DIR_PATH}\")"
   ]
  },
  {
   "cell_type": "code",
   "execution_count": 6,
   "id": "3a487550-df48-49ee-8efd-39fb1dbe7981",
   "metadata": {},
   "outputs": [],
   "source": [
    "# GCP_PROJECTS = !gcloud config get-value project\n",
    "# PROJECT_ID = GCP_PROJECTS[0]\n",
    "\n",
    "# PROJECT_NUM = !gcloud projects list --filter=\"$PROJECT_ID\" --format=\"value(PROJECT_NUMBER)\"\n",
    "# PROJECT_NUM = PROJECT_NUM[0]\n",
    "\n",
    "# LOCATION = 'us-central1'\n",
    "\n",
    "# # gs://jt-tfrs-central/new-50e-full-jtv12/run-20230110-150417/candidates-index-local\n",
    "# RUN_DIR_GCS_PATH = f'{BUCKET_URI}/{RUN_DIR_PATH}'\n",
    "\n",
    "# # VERSION = '50e_65m_demo'\n",
    "\n",
    "# print(f\"PROJECT_ID: {PROJECT_ID}\")\n",
    "# print(f\"PROJECT_NUM: {PROJECT_NUM}\")\n",
    "# print(f\"LOCATION: {LOCATION}\")\n",
    "# print(f\"BUCKET_URI: {BUCKET_URI}\")\n",
    "# print(f\"RUN_DIR_GCS_PATH: {RUN_DIR_GCS_PATH}\")"
   ]
  },
  {
   "cell_type": "code",
   "execution_count": 35,
   "id": "18bc2342-4c0b-43e0-ac8a-da94d007342e",
   "metadata": {},
   "outputs": [],
   "source": [
    "import os\n",
    "import sys\n",
    "from google.cloud import aiplatform as vertex_ai\n",
    "\n",
    "from src.two_tower_jt import test_instances_v2 as test_instances\n",
    "\n",
    "vertex_ai.init(project=PROJECT_ID, location=LOCATION)"
   ]
  },
  {
   "cell_type": "markdown",
   "id": "e0873449-09f4-4fa3-8683-2d413ce84540",
   "metadata": {},
   "source": [
    "### Create a matching engine index\n",
    "\n",
    "The matching engine loads an index from a file of embeddings created from the last notebook. \n",
    "\n",
    "Many of the optimization options for matching engine are found in the ah tree settings and testing is recommended depending on each use case\n",
    "\n",
    "Recall we saved our two tower models and query embeddings (newline json) in a candidate folder"
   ]
  },
  {
   "cell_type": "code",
   "execution_count": 8,
   "id": "b8b770f6-fffe-453d-8cd4-23a968321091",
   "metadata": {},
   "outputs": [
    {
     "name": "stdout",
     "output_type": "stream",
     "text": [
      "EMBEDDINGS_INITIAL_URI: gs://ndr-v1-hybrid-vertex-bucket/local-train-v1/run-20230919-150451/candidates/\n"
     ]
    }
   ],
   "source": [
    "# EMBEDDINGS_INITIAL_URI = f'{BUCKET_URI}/{RUN_DIR_PATH}/candidates-index-local/'\n",
    "EMBEDDINGS_INITIAL_URI = f'{BUCKET_URI}/{RUN_DIR_PATH}/candidates/' # tmp - TODO\n",
    "\n",
    "print(f\"EMBEDDINGS_INITIAL_URI: {EMBEDDINGS_INITIAL_URI}\")"
   ]
  },
  {
   "cell_type": "markdown",
   "id": "faf7ee31-24bd-4157-98c0-b7992411df3a",
   "metadata": {},
   "source": [
    "`EMBEDDINGS_INITIAL_URI` should lead to a folder with just the candidate json file..."
   ]
  },
  {
   "cell_type": "code",
   "execution_count": 9,
   "id": "0a286eae-f5fa-45d9-8765-67dc5b71eb25",
   "metadata": {},
   "outputs": [
    {
     "name": "stdout",
     "output_type": "stream",
     "text": [
      "gs://ndr-v1-hybrid-vertex-bucket/local-train-v1/run-20230919-150451/candidates/candidate_embeddings.json\n"
     ]
    }
   ],
   "source": [
    "! gsutil ls $EMBEDDINGS_INITIAL_URI"
   ]
  },
  {
   "cell_type": "markdown",
   "id": "cbe29a0e-5f1c-4c1d-930a-fec71bbc0ef4",
   "metadata": {},
   "source": [
    "### Create ANN index"
   ]
  },
  {
   "cell_type": "code",
   "execution_count": 10,
   "id": "807058c1-ab1f-4cd1-92e2-90b26cb07790",
   "metadata": {},
   "outputs": [
    {
     "name": "stdout",
     "output_type": "stream",
     "text": [
      "DISPLAY_NAME    : tfrs_128dim_v1\n",
      "BF_DISPLAY_NAME : tfrs_128dim_v1_bf\n"
     ]
    }
   ],
   "source": [
    "# ANN index config\n",
    "APPROX_NEIGHBORS           = 50\n",
    "DISTANCE_MEASURE           = \"DOT_PRODUCT_DISTANCE\"\n",
    "LEAF_NODE_EMB_COUNT        = 500\n",
    "LEAF_NODES_SEARCH_PERCENT  = 7\n",
    "DIMENSIONS                 = 128 # must match output dimensions\n",
    "\n",
    "DISPLAY_NAME               = f\"tfrs_{DIMENSIONS}dim_{VERSION}\"\n",
    "BF_DISPLAY_NAME            = f\"{DISPLAY_NAME}_bf\"\n",
    "\n",
    "# labels\n",
    "DATA_REGIME                = 'full-65m'\n",
    "\n",
    "# =============================== #\n",
    "# included in env-setup.ipynb     #\n",
    "# =============================== #\n",
    "# 'new-50e-full-jtv12/run-20230110-150417'\n",
    "# EXPERIMENT_NAME            = 'new-50e-full-jtv12'\n",
    "# EXPERIMENT_RUN             = 'run-20230110-150417'\n",
    "\n",
    "print(f\"DISPLAY_NAME    : {DISPLAY_NAME}\")\n",
    "print(f\"BF_DISPLAY_NAME : {BF_DISPLAY_NAME}\")"
   ]
  },
  {
   "cell_type": "markdown",
   "id": "cf48b356-6e35-47ce-9fe9-e0ad4a579615",
   "metadata": {},
   "source": [
    "> *Note: setting `sync=False` will allow us to proceed with the notebook while these operations complete*"
   ]
  },
  {
   "cell_type": "code",
   "execution_count": 12,
   "id": "8a872d85-7651-436d-aa33-6ac6049d0ed7",
   "metadata": {},
   "outputs": [
    {
     "name": "stdout",
     "output_type": "stream",
     "text": [
      "Creating MatchingEngineIndex\n",
      "Create MatchingEngineIndex backing LRO: projects/934903580331/locations/us-central1/indexes/5708585206575792128/operations/7455293224119173120\n"
     ]
    }
   ],
   "source": [
    "if CREATE_NEW_ASSETS == 'True':\n",
    "    \n",
    "    tree_ah_index = vertex_ai.MatchingEngineIndex.create_tree_ah_index(\n",
    "        display_name=DISPLAY_NAME,\n",
    "        contents_delta_uri=EMBEDDINGS_INITIAL_URI,\n",
    "        dimensions=DIMENSIONS,\n",
    "        approximate_neighbors_count=APPROX_NEIGHBORS,\n",
    "        distance_measure_type=DISTANCE_MEASURE,\n",
    "        leaf_node_embedding_count=LEAF_NODE_EMB_COUNT,\n",
    "        leaf_nodes_to_search_percent=LEAF_NODES_SEARCH_PERCENT,\n",
    "        description=\"Songs embeddings from the Spotify million playlist dataset\",\n",
    "        sync=False,\n",
    "        labels={\n",
    "            \"experiment_name\": f'{EXPERIMENT_NAME}',\n",
    "            \"experiment_run\": f'{RUN_NAME}',\n",
    "            \"data_regime\": f'{DATA_REGIME}',\n",
    "        },\n",
    "    )"
   ]
  },
  {
   "cell_type": "markdown",
   "id": "32491d2c-bfb1-45cb-bd5e-6eae5c16abcc",
   "metadata": {},
   "source": [
    "### Create Brute Force index\n",
    "\n",
    "used to evaluate ANN retrieval"
   ]
  },
  {
   "cell_type": "code",
   "execution_count": 13,
   "id": "75924a13-1b2b-4de9-84ab-84f9729c1458",
   "metadata": {},
   "outputs": [
    {
     "name": "stdout",
     "output_type": "stream",
     "text": [
      "Creating MatchingEngineIndex\n",
      "Create MatchingEngineIndex backing LRO: projects/934903580331/locations/us-central1/indexes/3648188377053790208/operations/7858365390768832512\n",
      "MatchingEngineIndex created. Resource name: projects/934903580331/locations/us-central1/indexes/3648188377053790208\n",
      "To use this MatchingEngineIndex in another session:\n",
      "index = aiplatform.MatchingEngineIndex('projects/934903580331/locations/us-central1/indexes/3648188377053790208')\n",
      "MatchingEngineIndex created. Resource name: projects/934903580331/locations/us-central1/indexes/5708585206575792128\n",
      "To use this MatchingEngineIndex in another session:\n",
      "index = aiplatform.MatchingEngineIndex('projects/934903580331/locations/us-central1/indexes/5708585206575792128')\n"
     ]
    }
   ],
   "source": [
    "if CREATE_NEW_ASSETS == 'True':\n",
    "    \n",
    "    brute_force_index = vertex_ai.MatchingEngineIndex.create_brute_force_index(\n",
    "        display_name=BF_DISPLAY_NAME,\n",
    "        contents_delta_uri=EMBEDDINGS_INITIAL_URI,\n",
    "        dimensions=DIMENSIONS,\n",
    "        distance_measure_type=DISTANCE_MEASURE,\n",
    "        sync=False,\n",
    "        labels={\n",
    "            \"experiment_name\": f'{EXPERIMENT_NAME}',\n",
    "            \"experiment_run\": f'{RUN_NAME}',\n",
    "            \"data_regime\": f'{DATA_REGIME}',\n",
    "        },\n",
    "    )"
   ]
  },
  {
   "cell_type": "markdown",
   "id": "6b3545b2-6aab-4be7-8551-3b9bf3152c00",
   "metadata": {},
   "source": [
    "### Create Matching Engine endpoint(s)\n",
    "\n",
    "* both the ANN and brute force indices can be deployed to a single endpoint\n",
    "* alternatively, we can create seperate endpoints, one for each index"
   ]
  },
  {
   "cell_type": "markdown",
   "id": "9f9745a8-6411-465c-b880-da8352696d11",
   "metadata": {},
   "source": [
    "#### index endpoint config: "
   ]
  },
  {
   "cell_type": "code",
   "execution_count": 14,
   "id": "6c46a273-11f9-4aa1-898b-a16749364495",
   "metadata": {},
   "outputs": [
    {
     "name": "stdout",
     "output_type": "stream",
     "text": [
      "VPC_NETWORK_FULL: projects/934903580331/global/networks/ucaip-haystack-vpc-network\n",
      "ANN_ENDPOINT_DISPLAY_NAME: tfrs_128dim_v1_endpoint\n",
      "BF_ENDPOINT_DISPLAY_NAME: tfrs_128dim_v1_bf_endpoint\n"
     ]
    }
   ],
   "source": [
    "ANN_ENDPOINT_DISPLAY_NAME = f'{DISPLAY_NAME}_endpoint'\n",
    "BF_ENDPOINT_DISPLAY_NAME  = f'{BF_DISPLAY_NAME}_endpoint'\n",
    "\n",
    "# =============================== #\n",
    "# included in env-setup.ipynb     #\n",
    "# =============================== #\n",
    "# VPC_NETWORK = \"ucaip-haystack-vpc-network\" # TODO: update this\n",
    "# VPC_NETWORK_FULL = f\"projects/{PROJECT_NUM}/global/networks/{VPC_NETWORK}\"\n",
    "\n",
    "print(f\"VPC_NETWORK_FULL: {VPC_NETWORK_FULL}\")\n",
    "print(f\"ANN_ENDPOINT_DISPLAY_NAME: {ANN_ENDPOINT_DISPLAY_NAME}\")\n",
    "print(f\"BF_ENDPOINT_DISPLAY_NAME: {BF_ENDPOINT_DISPLAY_NAME}\")"
   ]
  },
  {
   "cell_type": "markdown",
   "id": "a9c04e57-dcfa-48e4-8fdf-221f6ed55cf5",
   "metadata": {},
   "source": [
    "Then create the indices"
   ]
  },
  {
   "cell_type": "code",
   "execution_count": 15,
   "id": "50510544-1d5c-472c-a048-783da39db303",
   "metadata": {},
   "outputs": [
    {
     "name": "stdout",
     "output_type": "stream",
     "text": [
      "Creating MatchingEngineIndexEndpoint\n",
      "Create MatchingEngineIndexEndpoint backing LRO: projects/934903580331/locations/us-central1/indexEndpoints/3370091100063662080/operations/4489391394518990848\n"
     ]
    }
   ],
   "source": [
    "# create new endpoint\n",
    "if CREATE_NEW_ASSETS == 'True':\n",
    "    \n",
    "    my_ann_index_endpoint = vertex_ai.MatchingEngineIndexEndpoint.create(\n",
    "        display_name=f'{ANN_ENDPOINT_DISPLAY_NAME}',\n",
    "        description=\"index endpoint for ANN index\",\n",
    "        network=VPC_NETWORK_FULL,\n",
    "        sync=False,\n",
    "    )\n",
    "\n",
    "# # to use existing\n",
    "# my_ann_index_endpoint = aiplatform.MatchingEngineIndexEndpoint(\n",
    "#     'projects/934903580331/locations/us-central1/indexEndpoints/8097410557360996352'\n",
    "# )"
   ]
  },
  {
   "cell_type": "code",
   "execution_count": 16,
   "id": "b1e6b5f3-8f53-4f8a-84ee-16790dca6e63",
   "metadata": {},
   "outputs": [
    {
     "name": "stdout",
     "output_type": "stream",
     "text": [
      "Creating MatchingEngineIndexEndpoint\n",
      "Create MatchingEngineIndexEndpoint backing LRO: projects/934903580331/locations/us-central1/indexEndpoints/4346246319296217088/operations/1424691848093368320\n",
      "MatchingEngineIndexEndpoint created. Resource name: projects/934903580331/locations/us-central1/indexEndpoints/3370091100063662080\n",
      "To use this MatchingEngineIndexEndpoint in another session:\n",
      "index_endpoint = aiplatform.MatchingEngineIndexEndpoint('projects/934903580331/locations/us-central1/indexEndpoints/3370091100063662080')\n",
      "MatchingEngineIndexEndpoint created. Resource name: projects/934903580331/locations/us-central1/indexEndpoints/4346246319296217088\n",
      "To use this MatchingEngineIndexEndpoint in another session:\n",
      "index_endpoint = aiplatform.MatchingEngineIndexEndpoint('projects/934903580331/locations/us-central1/indexEndpoints/4346246319296217088')\n"
     ]
    }
   ],
   "source": [
    "# create new endpoint\n",
    "if CREATE_NEW_ASSETS == 'True':\n",
    "    \n",
    "    my_bf_index_endpoint = vertex_ai.MatchingEngineIndexEndpoint.create(\n",
    "        display_name=f'{BF_ENDPOINT_DISPLAY_NAME}',\n",
    "        description=\"index endpoint for ANN index\",\n",
    "        network=VPC_NETWORK_FULL,\n",
    "        sync=False,\n",
    "    )\n",
    "\n",
    "# # to use existing\n",
    "# my_bf_index_endpoint = aiplatform.MatchingEngineIndexEndpoint(\n",
    "#     'projects/934903580331/locations/us-central1/indexEndpoints/1972515064137121792'\n",
    "# )"
   ]
  },
  {
   "cell_type": "code",
   "execution_count": 17,
   "id": "b69ed141-785e-4881-9813-7140aa8af0d7",
   "metadata": {},
   "outputs": [
    {
     "name": "stdout",
     "output_type": "stream",
     "text": [
      "ANN_INDEX_ENDPOINT_NAME: projects/934903580331/locations/us-central1/indexEndpoints/3370091100063662080\n",
      "BF_INDEX_ENDPOINT_NAME: projects/934903580331/locations/us-central1/indexEndpoints/4346246319296217088\n"
     ]
    }
   ],
   "source": [
    "ANN_INDEX_ENDPOINT_NAME = my_ann_index_endpoint.resource_name\n",
    "BF_INDEX_ENDPOINT_NAME = my_bf_index_endpoint.resource_name\n",
    "\n",
    "print(f\"ANN_INDEX_ENDPOINT_NAME: {ANN_INDEX_ENDPOINT_NAME}\")\n",
    "print(f\"BF_INDEX_ENDPOINT_NAME: {BF_INDEX_ENDPOINT_NAME}\")"
   ]
  },
  {
   "cell_type": "markdown",
   "id": "bf60672d-5e9e-46b7-9873-30ff41add344",
   "metadata": {},
   "source": [
    "## Deploy Indexes to endpoints\n",
    "\n",
    "> *Note: wait for indexes to be created (~40 mins) before deploying to endpoint*"
   ]
  },
  {
   "cell_type": "code",
   "execution_count": 18,
   "id": "7a3373ad-a554-4f5e-9f45-e51d9396972c",
   "metadata": {
    "tags": []
   },
   "outputs": [],
   "source": [
    "# !gcloud ai indexes list \\\n",
    "#   --project=$PROJECT_ID \\\n",
    "#   --region=$LOCATION"
   ]
  },
  {
   "cell_type": "code",
   "execution_count": 19,
   "id": "e9ed14d5-087b-4995-a8b8-2d5a84e4d104",
   "metadata": {},
   "outputs": [],
   "source": [
    "# get index resource names\n",
    "if CREATE_NEW_ASSETS == 'True':\n",
    "    \n",
    "    tree_ah_resource_name = tree_ah_index.resource_name\n",
    "    brute_force_index_resource_name = brute_force_index.resource_name\n",
    "\n",
    "# use existing\n",
    "# tree_ah_resource_name = f'projects/{PROJECT_NUM}/locations/{REGION}/indexes/8930963516517515264'           # 65m: 8930963516517515264 | 8m: 2204555998062968832\n",
    "# brute_force_index_resource_name = f'projects/{PROJECT_NUM}/locations/{REGION}/indexes/8006881167976431616' # 65m: 8006881167976431616 | 8m: 4780614984918892544\n",
    "\n",
    "tree_ah_index = vertex_ai.MatchingEngineIndex(index_name=tree_ah_resource_name)\n",
    "brute_force_index = vertex_ai.MatchingEngineIndex(index_name=brute_force_index_resource_name)"
   ]
  },
  {
   "cell_type": "code",
   "execution_count": 20,
   "id": "7534d1b5-0156-4673-8ca7-aa77df0b2cb0",
   "metadata": {},
   "outputs": [
    {
     "data": {
      "text/plain": [
       "'tfrs_128dim_v1'"
      ]
     },
     "execution_count": 20,
     "metadata": {},
     "output_type": "execute_result"
    }
   ],
   "source": [
    "tree_ah_index.display_name"
   ]
  },
  {
   "cell_type": "code",
   "execution_count": 21,
   "id": "6ca771b3-ab13-4661-8f7c-f509db959469",
   "metadata": {},
   "outputs": [
    {
     "name": "stdout",
     "output_type": "stream",
     "text": [
      "ANN_INDEX_NAME: projects/934903580331/locations/us-central1/indexes/5708585206575792128\n",
      "BF_INDEX_NAME: projects/934903580331/locations/us-central1/indexes/3648188377053790208\n",
      "DEPLOYED_ANN_INDEX_ID: deployed_tfrs_128dim_v1\n",
      "DEPLOYED_BF_INDEX_ID: deployed_tfrs_128dim_v1_bf\n"
     ]
    }
   ],
   "source": [
    "ANN_INDEX_NAME = tree_ah_index.resource_name\n",
    "BF_INDEX_NAME = brute_force_index.resource_name\n",
    "\n",
    "print(f\"ANN_INDEX_NAME: {ANN_INDEX_NAME}\")\n",
    "print(f\"BF_INDEX_NAME: {BF_INDEX_NAME}\")\n",
    "\n",
    "DEPLOYED_ANN_INDEX_ID = f\"deployed_{DISPLAY_NAME}\"\n",
    "DEPLOYED_BF_INDEX_ID = f\"deployed_{BF_DISPLAY_NAME}\"\n",
    "\n",
    "print(f\"DEPLOYED_ANN_INDEX_ID: {DEPLOYED_ANN_INDEX_ID}\")\n",
    "print(f\"DEPLOYED_BF_INDEX_ID: {DEPLOYED_BF_INDEX_ID}\")"
   ]
  },
  {
   "cell_type": "markdown",
   "id": "04ce48c9-8907-4fd4-802b-17081d94fdda",
   "metadata": {},
   "source": [
    "#### Deploy ANN index"
   ]
  },
  {
   "cell_type": "code",
   "execution_count": 22,
   "id": "0d8f47dd-de3b-4c63-ab11-a565700bb21e",
   "metadata": {},
   "outputs": [
    {
     "name": "stdout",
     "output_type": "stream",
     "text": [
      "Deploying index MatchingEngineIndexEndpoint index_endpoint: projects/934903580331/locations/us-central1/indexEndpoints/3370091100063662080\n",
      "Deploy index MatchingEngineIndexEndpoint index_endpoint backing LRO: projects/934903580331/locations/us-central1/indexEndpoints/3370091100063662080/operations/7711716927902580736\n",
      "MatchingEngineIndexEndpoint index_endpoint Deployed index. Resource name: projects/934903580331/locations/us-central1/indexEndpoints/3370091100063662080\n"
     ]
    },
    {
     "data": {
      "text/plain": [
       "[id: \"deployed_tfrs_128dim_v1\"\n",
       "index: \"projects/934903580331/locations/us-central1/indexes/5708585206575792128\"\n",
       "create_time {\n",
       "  seconds: 1695142716\n",
       "  nanos: 365064000\n",
       "}\n",
       "private_endpoints {\n",
       "  match_grpc_address: \"10.41.2.5\"\n",
       "}\n",
       "index_sync_time {\n",
       "  seconds: 1695142930\n",
       "  nanos: 704409000\n",
       "}\n",
       "automatic_resources {\n",
       "  min_replica_count: 2\n",
       "  max_replica_count: 2\n",
       "}\n",
       "deployment_group: \"default\"\n",
       "]"
      ]
     },
     "execution_count": 22,
     "metadata": {},
     "output_type": "execute_result"
    }
   ],
   "source": [
    "# create new deployed index\n",
    "if CREATE_NEW_ASSETS == 'True':\n",
    "    deployed_ann_index = my_ann_index_endpoint.deploy_index(\n",
    "        index=tree_ah_index, \n",
    "        deployed_index_id=DEPLOYED_ANN_INDEX_ID\n",
    "    )\n",
    "\n",
    "# use existing\n",
    "# EXISTING_ANN_INDEX_ENDPOINT='projects/934903580331/locations/us-central1/indexEndpoints/8292015319384326144'\n",
    "# deployed_ann_index = vertex_ai.MatchingEngineIndexEndpoint(index_endpoint_name=EXISTING_ANN_INDEX_ENDPOINT)\n",
    "\n",
    "deployed_ann_index.deployed_indexes"
   ]
  },
  {
   "cell_type": "markdown",
   "id": "abc818d6-80dc-4d21-9724-7768bb94ba6e",
   "metadata": {},
   "source": [
    "#### Deploy Brute Force index"
   ]
  },
  {
   "cell_type": "code",
   "execution_count": 23,
   "id": "4811e2e7-9c80-4379-971f-911dc81726d2",
   "metadata": {},
   "outputs": [
    {
     "name": "stdout",
     "output_type": "stream",
     "text": [
      "Deploying index MatchingEngineIndexEndpoint index_endpoint: projects/934903580331/locations/us-central1/indexEndpoints/4346246319296217088\n",
      "Deploy index MatchingEngineIndexEndpoint index_endpoint backing LRO: projects/934903580331/locations/us-central1/indexEndpoints/4346246319296217088/operations/3543635472771186688\n",
      "MatchingEngineIndexEndpoint index_endpoint Deployed index. Resource name: projects/934903580331/locations/us-central1/indexEndpoints/4346246319296217088\n"
     ]
    },
    {
     "data": {
      "text/plain": [
       "[id: \"deployed_tfrs_128dim_v1_bf\"\n",
       "index: \"projects/934903580331/locations/us-central1/indexes/3648188377053790208\"\n",
       "create_time {\n",
       "  seconds: 1695143297\n",
       "  nanos: 696381000\n",
       "}\n",
       "private_endpoints {\n",
       "  match_grpc_address: \"10.41.2.5\"\n",
       "}\n",
       "index_sync_time {\n",
       "  seconds: 1695143511\n",
       "  nanos: 700878000\n",
       "}\n",
       "automatic_resources {\n",
       "  min_replica_count: 2\n",
       "  max_replica_count: 2\n",
       "}\n",
       "deployment_group: \"default\"\n",
       "]"
      ]
     },
     "execution_count": 23,
     "metadata": {},
     "output_type": "execute_result"
    }
   ],
   "source": [
    "# # create new deployed index\n",
    "if CREATE_NEW_ASSETS == 'True':\n",
    "    \n",
    "    deployed_bf_index = my_bf_index_endpoint.deploy_index(\n",
    "        index=brute_force_index, \n",
    "        deployed_index_id=DEPLOYED_BF_INDEX_ID\n",
    "    )\n",
    "\n",
    "# use existing\n",
    "# EXISTING_BF_INDEX_ENDPOINT='projects/934903580331/locations/us-central1/indexEndpoints/553142309701550080'\n",
    "# deployed_bf_index = vertex_ai.MatchingEngineIndexEndpoint(index_endpoint_name=EXISTING_BF_INDEX_ENDPOINT)\n",
    "\n",
    "\n",
    "deployed_bf_index.deployed_indexes"
   ]
  },
  {
   "cell_type": "markdown",
   "id": "b81c9a05-7794-40d7-bff2-0ed3cf5a07d7",
   "metadata": {},
   "source": [
    "# Query Model"
   ]
  },
  {
   "cell_type": "markdown",
   "id": "724761b6-697b-4716-bd60-6e95f0702f3e",
   "metadata": {},
   "source": [
    "### Upload Query Model to Vertex Model Registry"
   ]
  },
  {
   "cell_type": "code",
   "execution_count": 24,
   "id": "42779994-fa65-4469-9d3e-e2edf691fe51",
   "metadata": {},
   "outputs": [
    {
     "name": "stdout",
     "output_type": "stream",
     "text": [
      "QUERY_MODEL_DIR: gs://ndr-v1-hybrid-vertex-bucket/local-train-v1/run-20230919-150451/model-dir/query_model\n"
     ]
    }
   ],
   "source": [
    "QUERY_MODEL_DIR = f\"{BUCKET_URI}/{RUN_DIR_PATH}/model-dir/query_model\"\n",
    "\n",
    "print(f\"QUERY_MODEL_DIR: {QUERY_MODEL_DIR}\")"
   ]
  },
  {
   "cell_type": "code",
   "execution_count": 25,
   "id": "17b220ea-8c86-4349-9d1f-efa83a8cfd15",
   "metadata": {},
   "outputs": [
    {
     "name": "stdout",
     "output_type": "stream",
     "text": [
      "gs://ndr-v1-hybrid-vertex-bucket/local-train-v1/run-20230919-150451/model-dir/query_model/\n",
      "gs://ndr-v1-hybrid-vertex-bucket/local-train-v1/run-20230919-150451/model-dir/query_model/fingerprint.pb\n",
      "gs://ndr-v1-hybrid-vertex-bucket/local-train-v1/run-20230919-150451/model-dir/query_model/saved_model.pb\n",
      "gs://ndr-v1-hybrid-vertex-bucket/local-train-v1/run-20230919-150451/model-dir/query_model/assets/\n",
      "gs://ndr-v1-hybrid-vertex-bucket/local-train-v1/run-20230919-150451/model-dir/query_model/variables/\n"
     ]
    }
   ],
   "source": [
    "! gsutil ls $QUERY_MODEL_DIR"
   ]
  },
  {
   "cell_type": "code",
   "execution_count": 26,
   "id": "3be2fc8e-3679-4f67-9750-b51a7229b8d8",
   "metadata": {},
   "outputs": [],
   "source": [
    "# tf2-gpu.2-12 | tf2-gpu.2-11\n",
    "\n",
    "# SERVING_IMAGE_URI_CPU = 'us-docker.pkg.dev/vertex-ai/prediction/tf2-cpu.2-11:latest'\n",
    "# SERVING_IMAGE_URI_GPU = 'us-docker.pkg.dev/vertex-ai/prediction/tf2-gpu.2-11:latest'"
   ]
  },
  {
   "cell_type": "code",
   "execution_count": 27,
   "id": "12da6c87-988d-47a6-8b87-0644edd5a5c3",
   "metadata": {},
   "outputs": [
    {
     "name": "stdout",
     "output_type": "stream",
     "text": [
      "Creating Model\n",
      "Create Model backing LRO: projects/934903580331/locations/us-central1/models/2404541769992634368/operations/7833314117841584128\n",
      "Model created. Resource name: projects/934903580331/locations/us-central1/models/2404541769992634368@1\n",
      "To use this Model in another session:\n",
      "model = aiplatform.Model('projects/934903580331/locations/us-central1/models/2404541769992634368@1')\n"
     ]
    }
   ],
   "source": [
    "uploaded_query_model = vertex_ai.Model.upload(\n",
    "    display_name=f'query_model_{DISPLAY_NAME}',\n",
    "    artifact_uri=QUERY_MODEL_DIR,\n",
    "    serving_container_image_uri=SERVING_IMAGE_URI_CPU,\n",
    "    description=\"Top of the query tower, meant to return an embedding for each playlist instance\",\n",
    "    sync=True,\n",
    ")"
   ]
  },
  {
   "cell_type": "markdown",
   "id": "e0aa3fc4-2889-4de4-bb95-d7fe2b9905a2",
   "metadata": {},
   "source": [
    "#### Create model endpoint"
   ]
  },
  {
   "cell_type": "code",
   "execution_count": 28,
   "id": "e0af496a-7ebd-4cc9-ae1a-b29e205c15ae",
   "metadata": {},
   "outputs": [
    {
     "name": "stdout",
     "output_type": "stream",
     "text": [
      "Creating Endpoint\n",
      "Create Endpoint backing LRO: projects/934903580331/locations/us-central1/endpoints/7270536031831588864/operations/6810434052475060224\n",
      "Endpoint created. Resource name: projects/934903580331/locations/us-central1/endpoints/7270536031831588864\n",
      "To use this Endpoint in another session:\n",
      "endpoint = aiplatform.Endpoint('projects/934903580331/locations/us-central1/endpoints/7270536031831588864')\n"
     ]
    }
   ],
   "source": [
    "endpoint = vertex_ai.Endpoint.create(\n",
    "    display_name=f'endpoint_{DISPLAY_NAME}',\n",
    "    project=PROJECT_ID,\n",
    "    location=LOCATION,\n",
    "    sync=True,\n",
    ")"
   ]
  },
  {
   "cell_type": "markdown",
   "id": "61e93ad1-b812-491b-8ed2-b2c47fd3a5b9",
   "metadata": {},
   "source": [
    "#### Deploy uploaded model to model endpoint"
   ]
  },
  {
   "cell_type": "code",
   "execution_count": 29,
   "id": "000fe6b3-095c-4473-971f-3e2d71e13f50",
   "metadata": {},
   "outputs": [
    {
     "name": "stdout",
     "output_type": "stream",
     "text": [
      "Deploying model to Endpoint : projects/934903580331/locations/us-central1/endpoints/7270536031831588864\n",
      "Deploy Endpoint model backing LRO: projects/934903580331/locations/us-central1/endpoints/7270536031831588864/operations/8936133076593934336\n",
      "Endpoint model deployed. Resource name: projects/934903580331/locations/us-central1/endpoints/7270536031831588864\n"
     ]
    }
   ],
   "source": [
    "deployed_query_model = uploaded_query_model.deploy(\n",
    "    endpoint=endpoint,\n",
    "    deployed_model_display_name=f'deployed_qmodel_{DISPLAY_NAME}',\n",
    "    machine_type=\"n1-standard-4\",\n",
    "    min_replica_count=1,\n",
    "    max_replica_count=2,\n",
    "    accelerator_type=None,\n",
    "    accelerator_count=0,\n",
    "    sync=True,\n",
    ")"
   ]
  },
  {
   "cell_type": "markdown",
   "id": "413bfbbe-453d-41a5-8c9b-916b08213eb8",
   "metadata": {},
   "source": [
    "# Retrieve nearest neighbors from index\n",
    "\n",
    "* use query_model to convert test instance to embeddings\n",
    "* use embeddings to search for NN in ANN index"
   ]
  },
  {
   "cell_type": "markdown",
   "id": "57b33bf4-1274-4414-a2d4-20cce87c071d",
   "metadata": {},
   "source": [
    "If needing to re initialize the deployed model or indexes, replace the IDs in the resource names below:"
   ]
  },
  {
   "cell_type": "code",
   "execution_count": 53,
   "id": "71853350-5092-4b8d-aa43-ee9dd74711a1",
   "metadata": {},
   "outputs": [],
   "source": [
    "# deployed_query_model = vertex_ai.Endpoint('projects/934903580331/locations/us-central1/endpoints/4002948002778972160')\n",
    "# deployed_ann_index = vertex_ai.MatchingEngineIndexEndpoint('projects/934903580331/locations/us-central1/indexEndpoints/8292015319384326144')\n",
    "# deployed_bf_index = vertex_ai.MatchingEngineIndexEndpoint('projects/934903580331/locations/us-central1/indexEndpoints/553142309701550080')\n",
    "\n",
    "# DEPLOYED_ANN_ID = deployed_ann_index.deployed_indexes[0].id\n",
    "# DEPLOYED_BF_ID = deployed_bf_index.deployed_indexes[0].id\n",
    "\n",
    "# ANN_response = deployed_ann_index.match(\n",
    "#     deployed_index_id=DEPLOYED_ANN_ID,\n",
    "#     queries=playlist_emb.predictions,\n",
    "#     num_neighbors=10\n",
    "# )\n",
    "\n",
    "# BF_response = deployed_bf_index.match(\n",
    "#     deployed_index_id=DEPLOYED_BF_ID,\n",
    "#     queries=playlist_emb.predictions,\n",
    "#     num_neighbors=10\n",
    "# )"
   ]
  },
  {
   "cell_type": "markdown",
   "id": "2d2a51f2-2bcb-4213-bc4a-c126cd458382",
   "metadata": {},
   "source": [
    "## Create Test Instance(s)\n",
    "\n",
    "* We can create a quick example from the train or valid dataset by returning a structured example like:\n",
    "\n",
    "```\n",
    "for tensor_dict in train_dataset.unbatch().skip(12905).take(1):\n",
    "    td_keys = tensor_dict.keys()\n",
    "    list_dict = {}\n",
    "    for k in td_keys:\n",
    "        list_dict.update({k: tensor_dict[k].numpy()})\n",
    "    print(list_dict)\n",
    "```"
   ]
  },
  {
   "cell_type": "code",
   "execution_count": 36,
   "id": "5829790d-2835-4627-860e-4ee5e4f39a22",
   "metadata": {},
   "outputs": [
    {
     "data": {
      "text/plain": [
       "{'album_name_can': 'Capoeira Electronica',\n",
       " 'album_name_pl': ['Odilara',\n",
       "  'Capoeira Electronica',\n",
       "  'Capoeira Ultimate',\n",
       "  'Festa Popular',\n",
       "  'Capoeira Electronica'],\n",
       " 'album_uri_can': 'spotify:album:2FsSSHGt8JM0JgRy6ZX3kR',\n",
       " 'album_uri_pl': ['spotify:album:4Y8RfvZzCiApBCIZswj9Ry',\n",
       "  'spotify:album:2FsSSHGt8JM0JgRy6ZX3kR',\n",
       "  'spotify:album:55HHBqZ2SefPeaENOgWxYK',\n",
       "  'spotify:album:150L1V6UUT7fGUI3PbxpkE',\n",
       "  'spotify:album:2FsSSHGt8JM0JgRy6ZX3kR'],\n",
       " 'artist_followers_can': 5170.0,\n",
       " 'artist_genres_can': 'capoeira',\n",
       " 'artist_genres_pl': ['samba moderno',\n",
       "  'capoeira',\n",
       "  'capoeira',\n",
       "  'NONE',\n",
       "  'capoeira'],\n",
       " 'artist_name_can': 'Capoeira Experience',\n",
       " 'artist_name_pl': ['Odilara',\n",
       "  'Capoeira Experience',\n",
       "  'Denis Porto',\n",
       "  'Zambe',\n",
       "  'Capoeira Experience'],\n",
       " 'artist_pop_can': 24.0,\n",
       " 'artist_pop_pl': [4.0, 24.0, 2.0, 0.0, 24.0],\n",
       " 'artist_uri_can': 'spotify:artist:5SKEXbgzIdRl3gQJ23CnUP',\n",
       " 'artist_uri_pl': ['spotify:artist:72oameojLOPWYB7nB8rl6c',\n",
       "  'spotify:artist:5SKEXbgzIdRl3gQJ23CnUP',\n",
       "  'spotify:artist:67p5GMYQZOgaAfx1YyttQk',\n",
       "  'spotify:artist:4fH3OXCRcPsaHFE5KhgqZS',\n",
       "  'spotify:artist:5SKEXbgzIdRl3gQJ23CnUP'],\n",
       " 'artists_followers_pl': [316.0, 5170.0, 448.0, 19.0, 5170.0],\n",
       " 'duration_ms_can': 192640.0,\n",
       " 'duration_ms_songs_pl': [234612.0, 226826.0, 203480.0, 287946.0, 271920.0],\n",
       " 'num_pl_albums_new': 9.0,\n",
       " 'num_pl_artists_new': 5.0,\n",
       " 'num_pl_songs_new': 85.0,\n",
       " 'pl_collaborative_src': 'false',\n",
       " 'pl_duration_ms_new': 17971314.0,\n",
       " 'pl_name_src': 'Capoeira',\n",
       " 'track_time_signature_can': '4',\n",
       " 'track_time_signature_pl': ['4', '4', '4', '4', '4'],\n",
       " 'track_acousticness_can': 0.478,\n",
       " 'track_acousticness_pl': [0.238, 0.105, 0.0242, 0.125, 0.304],\n",
       " 'track_danceability_can': 0.709,\n",
       " 'track_danceability_pl': [0.703, 0.712, 0.806, 0.529, 0.821],\n",
       " 'track_energy_can': 0.742,\n",
       " 'track_energy_pl': [0.743, 0.41, 0.794, 0.776, 0.947],\n",
       " 'track_instrumentalness_can': 0.00297,\n",
       " 'track_instrumentalness_pl': [4.84e-06, 0.43, 0.000742, 0.401, 0.00507],\n",
       " 'track_key_can': '0',\n",
       " 'track_key_pl': ['5', '0', '1', '10', '10'],\n",
       " 'track_liveness_can': 0.0346,\n",
       " 'track_liveness_pl': [0.128, 0.0725, 0.191, 0.105, 0.0552],\n",
       " 'track_loudness_can': -7.295,\n",
       " 'track_loudness_pl': [-8.638, -8.754, -9.084, -7.04, -6.694],\n",
       " 'track_mode_can': '1',\n",
       " 'track_mode_pl': ['0', '1', '1', '0', '1'],\n",
       " 'track_name_can': 'Bezouro Preto - Studio',\n",
       " 'track_name_pl': ['O Telefone Tocou Novamente',\n",
       "  'Bem Devagar - Studio',\n",
       "  'Angola Dream',\n",
       "  'Janaina',\n",
       "  'Louco Berimbau - Studio'],\n",
       " 'track_pop_can': 3.0,\n",
       " 'track_pop_pl': [5.0, 1.0, 0.0, 0.0, 1.0],\n",
       " 'track_speechiness_can': 0.0802,\n",
       " 'track_speechiness_pl': [0.0367, 0.0272, 0.0407, 0.132, 0.0734],\n",
       " 'track_tempo_can': 172.238,\n",
       " 'track_tempo_pl': [100.039, 89.089, 123.999, 119.963, 119.214],\n",
       " 'track_uri_can': 'spotify:track:0tlhK4OvpHCYpReTABvKFb',\n",
       " 'track_uri_pl': ['spotify:track:1pQkOdcTDfLr84TDCrmGy7',\n",
       "  'spotify:track:39grEDsAHAjmo2QFo4G8D9',\n",
       "  'spotify:track:5vxSLdJXqbKYH487YO8LSL',\n",
       "  'spotify:track:6T9GbmZ6voDM4aTBsG5VDh',\n",
       "  'spotify:track:7ELt9eslVvWo276pX2garN'],\n",
       " 'track_valence_can': 0.844,\n",
       " 'track_valence_pl': [0.966, 0.667, 0.696, 0.876, 0.655]}"
      ]
     },
     "execution_count": 36,
     "metadata": {},
     "output_type": "execute_result"
    }
   ],
   "source": [
    "# # MAX_PLAYLIST_LENGTH --> 5\n",
    "TEST_INSTANCE_5 = test_instances.TEST_INSTANCE_5\n",
    "TEST_INSTANCE_5\n",
    "\n",
    "# # MAX_PLAYLIST_LENGTH --> 15\n",
    "# TEST_INSTANCE_15 = test_instances.TEST_INSTANCE_15\n",
    "# TEST_INSTANCE_15"
   ]
  },
  {
   "cell_type": "markdown",
   "id": "7819287c-bb3e-4ce6-a216-c53407819720",
   "metadata": {},
   "source": [
    "#### If needing to create model and index objects in session..."
   ]
  },
  {
   "cell_type": "code",
   "execution_count": 37,
   "id": "969f1bca-8505-458c-8267-3ea0325d6ba9",
   "metadata": {},
   "outputs": [
    {
     "data": {
      "text/plain": [
       "Prediction(predictions=[[-0.319549441, -0.736324608, -0.999139726, 0.936678231, 0.140084431, -0.413407475, 0.878894806, -0.970329106, -0.659263194, -1.60079765, 1.11298513, 0.534306586, 1.12248015, -0.79353, -0.221303761, 0.214388043, 0.851346672, -1.70991278, -0.428875, -0.796241462, -0.130663425, 0.679144442, 1.57031, -1.71820736, -0.0138283893, -0.696535349, 0.518329501, -1.51568925, -0.54820931, 0.00688769668, -1.16123128, 1.08391941, -0.113285184, 0.457706213, 0.0641227961, 0.416062444, -1.27625763, 0.214524657, -1.79184937, 0.368900865, -0.097617425, -2.05919147, -0.195343286, 0.136424914, -1.31718016, -0.237893417, 1.59560561, -0.966435671, 1.97090781, 0.787532568, -0.221562356, -0.302150905, 1.45196605, 0.0823364705, -1.3538276, 1.40799367, -1.17275703, 2.04082108, -0.43333602, 0.913677335, 0.126593262, -0.656877041, 0.239591926, 0.283293277, 0.875116467, -0.861238241, 0.537754834, 0.748203337, 0.236702815, -0.605949759, -0.857457638, -1.20023417, -1.0099895, -0.0130776241, -0.00597327948, -0.293667614, -0.201426148, 0.173060417, 1.38165593, 0.0985977352, 0.208134055, -0.716558337, 0.490972489, -0.158909678, 1.46330917, 0.303305387, 1.35440958, 0.503082812, 0.763622522, 0.78609848, -0.980907321, 1.18656552, -0.722483218, -0.131771222, 1.12935841, -0.390786767, -0.494330049, -1.45349109, -0.350742966, 0.60110724, 0.487943262, 0.336191267, -0.978412747, -0.0483992472, -0.642347634, 2.32962751, 0.705823898, -0.438072264, -0.999286592, -1.35016441, 0.641670406, 0.318202496, 1.40196693, 1.52482724, 1.30487597, 0.57906872, -1.29293466, 0.380096912, -0.184833914, -2.22611952, -0.370139569, -0.29136616, 0.132395029, -1.49185872, 0.849699259, 1.29289389, 1.93756354, -0.0493374951]], deployed_model_id='3605318418686803968', model_version_id='1', model_resource_name='projects/934903580331/locations/us-central1/models/2404541769992634368', explanations=None)"
      ]
     },
     "execution_count": 37,
     "metadata": {},
     "output_type": "execute_result"
    }
   ],
   "source": [
    "playlist_emb = deployed_query_model.predict([TEST_INSTANCE_5])\n",
    "playlist_emb"
   ]
  },
  {
   "cell_type": "code",
   "execution_count": 44,
   "id": "920e6f4b-d491-4736-9dfb-55f69c2a468a",
   "metadata": {},
   "outputs": [
    {
     "name": "stdout",
     "output_type": "stream",
     "text": [
      "DEPLOYED_ANN_INDEX_ID: deployed_tfrs_128dim_v1\n",
      "DEPLOYED_BF_INDEX_ID: deployed_tfrs_128dim_v1_bf\n"
     ]
    }
   ],
   "source": [
    "import time\n",
    "\n",
    "DEPLOYED_ANN_INDEX_ID = deployed_ann_index.deployed_indexes[0].id\n",
    "DEPLOYED_BF_INDEX_ID = deployed_bf_index.deployed_indexes[0].id\n",
    "\n",
    "print(f\"DEPLOYED_ANN_INDEX_ID: {DEPLOYED_ANN_INDEX_ID}\")\n",
    "print(f\"DEPLOYED_BF_INDEX_ID: {DEPLOYED_BF_INDEX_ID}\")"
   ]
  },
  {
   "cell_type": "code",
   "execution_count": 52,
   "id": "af6d8787-50a3-487d-8767-2cebaad8c580",
   "metadata": {},
   "outputs": [
    {
     "name": "stdout",
     "output_type": "stream",
     "text": [
      "elapsed_time: 0.0001725157101949056\n"
     ]
    }
   ],
   "source": [
    "# %%timeit \n",
    "start_time = time.time()\n",
    "\n",
    "ANN_response = deployed_ann_index.match(\n",
    "    deployed_index_id=DEPLOYED_ANN_INDEX_ID,\n",
    "    queries=playlist_emb.predictions,\n",
    "    num_neighbors=10\n",
    ")\n",
    "\n",
    "end_time = time.time()\n",
    "elapsed_time = (end_time - start_time) / 60\n",
    "print(f\"elapsed_time: {elapsed_time}\")"
   ]
  },
  {
   "cell_type": "code",
   "execution_count": 53,
   "id": "b2ac51b8-125d-475d-a609-1705428cc20d",
   "metadata": {},
   "outputs": [
    {
     "data": {
      "text/plain": [
       "[[MatchNeighbor(id=\"b'spotify:track:7opy2GAu6ni8snJvUUgj4M'\", distance=89.04745483398438),\n",
       "  MatchNeighbor(id=\"b'spotify:track:1evFM5gO5L0aOw2l2wL88D'\", distance=89.03700256347656),\n",
       "  MatchNeighbor(id=\"b'spotify:track:1FvVInbjQUHTnLo3wcEwEh'\", distance=89.02728271484375),\n",
       "  MatchNeighbor(id=\"b'spotify:track:25v6UWpnLnEH5hDdqrbhWE'\", distance=89.02726745605469),\n",
       "  MatchNeighbor(id=\"b'spotify:track:3AEt6lrKnKfc8H1Xq1mN1r'\", distance=89.0172119140625),\n",
       "  MatchNeighbor(id=\"b'spotify:track:5IEZ99PDHnKaAIeJ6EhS2J'\", distance=89.01597595214844),\n",
       "  MatchNeighbor(id=\"b'spotify:track:0IK0ej4joW9OORaJ8GasBn'\", distance=89.01570129394531),\n",
       "  MatchNeighbor(id=\"b'spotify:track:1SejCUMSNYxnVC0vuRKzzy'\", distance=88.99887084960938),\n",
       "  MatchNeighbor(id=\"b'spotify:track:4mhSTVUnzCapQ02xwPXJrg'\", distance=88.99571228027344),\n",
       "  MatchNeighbor(id=\"b'spotify:track:3z9Qm5gfdCr4wklgMxAzFQ'\", distance=88.99554443359375)]]"
      ]
     },
     "execution_count": 53,
     "metadata": {},
     "output_type": "execute_result"
    }
   ],
   "source": [
    "ANN_response"
   ]
  },
  {
   "cell_type": "code",
   "execution_count": 54,
   "id": "d63bf1e5-8893-4c76-9b56-7f557ca2aa91",
   "metadata": {},
   "outputs": [
    {
     "name": "stdout",
     "output_type": "stream",
     "text": [
      "elapsed_time: 0.0020070672035217285\n"
     ]
    }
   ],
   "source": [
    "# %%timeit \n",
    "start_time = time.time()\n",
    "\n",
    "BF_response = deployed_bf_index.match(\n",
    "    deployed_index_id=DEPLOYED_BF_INDEX_ID,\n",
    "    queries=playlist_emb.predictions,\n",
    "    num_neighbors=10\n",
    ")\n",
    "\n",
    "end_time = time.time()\n",
    "elapsed_time = (end_time - start_time) / 60\n",
    "print(f\"elapsed_time: {elapsed_time}\")"
   ]
  },
  {
   "cell_type": "code",
   "execution_count": 55,
   "id": "51ba10f9-f2c6-406c-a75c-81cbf4230da9",
   "metadata": {},
   "outputs": [
    {
     "data": {
      "text/plain": [
       "[[MatchNeighbor(id=\"b'spotify:track:3ePcO8zbu6IznLKD5XBfV6'\", distance=89.0927963256836),\n",
       "  MatchNeighbor(id=\"b'spotify:track:6aYHi4SYZkn91EwrWxgGh3'\", distance=89.0899887084961),\n",
       "  MatchNeighbor(id=\"b'spotify:track:3aNwMNEmpns88B1wjpBGRl'\", distance=89.0806655883789),\n",
       "  MatchNeighbor(id=\"b'spotify:track:258m3BhXGYBk64QgYT1f6W'\", distance=89.06431579589844),\n",
       "  MatchNeighbor(id=\"b'spotify:track:0trwqplZTfQvrHM1FnVL8B'\", distance=89.06390380859375),\n",
       "  MatchNeighbor(id=\"b'spotify:track:11A88zUaDpXiput0IJ8C0P'\", distance=89.06157684326172),\n",
       "  MatchNeighbor(id=\"b'spotify:track:1d5DGnrbtI0ZPhQtM9DQFw'\", distance=89.06036376953125),\n",
       "  MatchNeighbor(id=\"b'spotify:track:7EWX3ycwpuswKaivGITwIX'\", distance=89.06028747558594),\n",
       "  MatchNeighbor(id=\"b'spotify:track:4ohNTFZHEMfcE3DiN3Rh7Y'\", distance=89.05621337890625),\n",
       "  MatchNeighbor(id=\"b'spotify:track:6TukFfoYQmL0LIAP1SgjTX'\", distance=89.0560073852539)]]"
      ]
     },
     "execution_count": 55,
     "metadata": {},
     "output_type": "execute_result"
    }
   ],
   "source": [
    "BF_response"
   ]
  },
  {
   "cell_type": "markdown",
   "id": "2145e14e-2bd3-4a4d-ab2c-d4f26ad60175",
   "metadata": {},
   "source": [
    "## Compute Recall"
   ]
  },
  {
   "cell_type": "code",
   "execution_count": 56,
   "id": "6dcb3c8e-219f-42bd-a6f0-671b903b4f46",
   "metadata": {},
   "outputs": [
    {
     "name": "stdout",
     "output_type": "stream",
     "text": [
      "Recall: 0.0\n"
     ]
    }
   ],
   "source": [
    "# Calculate recall by determining how many neighbors were correctly retrieved as compared to the brute-force option.\n",
    "recalled_neighbors = 0\n",
    "for tree_ah_neighbors, brute_force_neighbors in zip(\n",
    "    ANN_response, BF_response\n",
    "):\n",
    "    tree_ah_neighbor_ids = [neighbor.id for neighbor in tree_ah_neighbors]\n",
    "    brute_force_neighbor_ids = [neighbor.id for neighbor in brute_force_neighbors]\n",
    "\n",
    "    recalled_neighbors += len(\n",
    "        set(tree_ah_neighbor_ids).intersection(brute_force_neighbor_ids)\n",
    "    )\n",
    "\n",
    "recall = recalled_neighbors / len(\n",
    "    [neighbor for neighbors in BF_response for neighbor in neighbors]\n",
    ")\n",
    "\n",
    "print(\"Recall: {}\".format(recall))"
   ]
  },
  {
   "cell_type": "code",
   "execution_count": null,
   "id": "af8ab10f-6f78-4554-9dd4-807a951d64eb",
   "metadata": {},
   "outputs": [],
   "source": []
  }
 ],
 "metadata": {
  "environment": {
   "kernel": "python3",
   "name": "tf2-gpu.2-10.m103",
   "type": "gcloud",
   "uri": "gcr.io/deeplearning-platform-release/tf2-gpu.2-10:m103"
  },
  "kernelspec": {
   "display_name": "Python 3 (ipykernel)",
   "language": "python",
   "name": "python3"
  },
  "language_info": {
   "codemirror_mode": {
    "name": "ipython",
    "version": 3
   },
   "file_extension": ".py",
   "mimetype": "text/x-python",
   "name": "python",
   "nbconvert_exporter": "python",
   "pygments_lexer": "ipython3",
   "version": "3.7.12"
  }
 },
 "nbformat": 4,
 "nbformat_minor": 5
}
