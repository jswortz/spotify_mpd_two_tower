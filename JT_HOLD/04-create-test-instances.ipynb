{
 "cells": [
  {
   "cell_type": "markdown",
   "id": "f744f194-0c6c-4764-93d7-70d995ef8235",
   "metadata": {},
   "source": [
    "# Comparing results"
   ]
  },
  {
   "cell_type": "markdown",
   "id": "1de1fdef-05ae-4987-9bae-0314b9820fb8",
   "metadata": {},
   "source": [
    "> Follow instruction [here](https://towardsdatascience.com/extracting-song-data-from-the-spotify-api-using-python-b1e79388d50) for getting your own Spotify Developer API credentials"
   ]
  },
  {
   "cell_type": "code",
   "execution_count": null,
   "id": "4eb19742-23ad-4679-bac3-fccccec03de7",
   "metadata": {},
   "outputs": [],
   "source": [
    "# !pip install spotipy --user"
   ]
  },
  {
   "cell_type": "code",
   "execution_count": 1,
   "id": "bcef6301-7ce1-4bb2-951d-4e796b95c96a",
   "metadata": {},
   "outputs": [
    {
     "name": "stdout",
     "output_type": "stream",
     "text": [
      "PROJECT_ID: hybrid-vertex\n",
      "PROJECT_NUM: 934903580331\n",
      "LOCATION: us-central1\n"
     ]
    }
   ],
   "source": [
    "GCP_PROJECTS = !gcloud config get-value project\n",
    "PROJECT_ID = GCP_PROJECTS[0]\n",
    "PROJECT_NUM = !gcloud projects list --filter=\"$PROJECT_ID\" --format=\"value(PROJECT_NUMBER)\"\n",
    "PROJECT_NUM = PROJECT_NUM[0]\n",
    "LOCATION = 'us-central1'\n",
    "\n",
    "print(f\"PROJECT_ID: {PROJECT_ID}\")\n",
    "print(f\"PROJECT_NUM: {PROJECT_NUM}\")\n",
    "print(f\"LOCATION: {LOCATION}\")"
   ]
  },
  {
   "cell_type": "code",
   "execution_count": 2,
   "id": "a2d2c4d0-58af-4448-8877-571574134231",
   "metadata": {},
   "outputs": [],
   "source": [
    "import spotipy\n",
    "from spotipy.oauth2 import SpotifyClientCredentials, SpotifyOAuth\n",
    "import re\n",
    "from tqdm import tqdm\n",
    "\n",
    "import pandas as pd\n",
    "import json\n",
    "from io import BytesIO\n",
    "from pprint import pprint\n",
    "import os\n",
    "\n",
    "from google.cloud import storage\n",
    "\n",
    "pd.set_option('display.max_columns', 100)"
   ]
  },
  {
   "cell_type": "markdown",
   "id": "e4fb0355-db9f-4d59-854a-5c6b2302ed18",
   "metadata": {},
   "source": [
    "### Setup clients"
   ]
  },
  {
   "cell_type": "code",
   "execution_count": 7,
   "id": "902cf5fe-d4ed-4128-adb5-bddb9fbfbc19",
   "metadata": {},
   "outputs": [],
   "source": [
    "# CURRENT_PATH = !pwd\n",
    "\n",
    "# os.chdir(f'{CURRENT_PATH}')\n",
    "# os.getcwd()"
   ]
  },
  {
   "cell_type": "markdown",
   "id": "c25292a9-d034-4aee-9f26-57845038c35b",
   "metadata": {},
   "source": [
    "* If you registered credentials with the Spotify Web Developer API, easily query your playlists to create your own test examples\n",
    "* see [spotipy docs](https://spotipy.readthedocs.io/en/2.19.0/#welcome-to-spotipy), [github examples](https://github.com/plamere/spotipy/tree/master/examples), and [source code](https://github.com/plamere/spotipy/blob/master/spotipy/client.py#L20)"
   ]
  },
  {
   "cell_type": "code",
   "execution_count": 6,
   "id": "6456fb4e-5f21-4fec-a6a7-ea337ac3b3ec",
   "metadata": {},
   "outputs": [],
   "source": [
    "import spotipy_secret_creds as creds\n",
    "\n",
    "os.environ['GOOGLE_CLOUD_PROJECT'] = PROJECT_ID\n",
    "os.environ['SPOTIPY_CLIENT_ID'] = creds.SPOTIPY_CLIENT_ID\n",
    "os.environ['SPOTIPY_CLIENT_SECRET'] = creds.SPOTIPY_CLIENT_SECRET\n",
    "os.environ['SPOTIFY_USERNAME'] = creds.SPOTIFY_USERNAME\n",
    "\n",
    "SPOTIPY_CLIENT_ID=creds.SPOTIPY_CLIENT_ID\n",
    "SPOTIPY_CLIENT_SECRET=creds.SPOTIPY_CLIENT_SECRET\n",
    "SPOTIFY_USERNAME=creds.SPOTIFY_USERNAME\n",
    "\n",
    "MAX_SEED_LENGTH = 5"
   ]
  },
  {
   "cell_type": "code",
   "execution_count": 8,
   "id": "62865b3c-55ca-4f89-b073-1fb7abcab320",
   "metadata": {},
   "outputs": [],
   "source": [
    "# Authenticate\n",
    "client_credentials_manager = SpotifyClientCredentials(\n",
    "    client_id=creds.SPOTIPY_CLIENT_ID, \n",
    "    client_secret=creds.SPOTIPY_CLIENT_SECRET\n",
    ")\n",
    "\n",
    "sp = spotipy.Spotify(\n",
    "    client_credentials_manager = client_credentials_manager,\n",
    "\n",
    ")"
   ]
  },
  {
   "cell_type": "markdown",
   "id": "aca4abc6-1770-4811-b546-3aced7b7b259",
   "metadata": {},
   "source": [
    "# Create Test Instances"
   ]
  },
  {
   "cell_type": "markdown",
   "id": "0c1ab5cc-c16f-4eca-b6d0-13046612ed8e",
   "metadata": {},
   "source": [
    "## (1) Use your own Spotify playlists\n",
    "\n",
    "Keep in mind:\n",
    "* it's possible your playlists have tracks that are not present in the Million Playlists Dataset\n",
    "* That's OK - we want the model to generalize to unseen data!\n",
    "* Let's see what the model associates them with..."
   ]
  },
  {
   "cell_type": "markdown",
   "id": "9b20751e-d1b0-4944-9557-e4fac90de0cf",
   "metadata": {},
   "source": [
    "### get user playlists\n",
    "\n",
    "> To connect to you Spotify account, see [Client Credentials Flow](https://spotipy.readthedocs.io/en/2.19.0/#client-credentials-flow) for authentication"
   ]
  },
  {
   "cell_type": "code",
   "execution_count": 12,
   "id": "7072bed7-2bd6-4531-bf82-dbb4195ae4ee",
   "metadata": {},
   "outputs": [],
   "source": [
    "playlists = sp.user_playlists(f'{SPOTIFY_USERNAME}')\n",
    "while playlists:\n",
    "    for i, playlist in enumerate(playlists['items']):\n",
    "        print(\"%4d %s %s\" % (i + 1 + playlists['offset'], playlist['uri'],  playlist['name']))\n",
    "    if playlists['next']:\n",
    "        playlists = sp.next(playlists)\n",
    "    else:\n",
    "        playlists = None"
   ]
  },
  {
   "cell_type": "markdown",
   "id": "e9f61849-10b6-4f18-b027-74872e15dce5",
   "metadata": {},
   "source": [
    "### Test playlist link"
   ]
  },
  {
   "cell_type": "code",
   "execution_count": 13,
   "id": "2764a281-9565-410f-9817-244fa45dbfad",
   "metadata": {},
   "outputs": [
    {
     "name": "stdout",
     "output_type": "stream",
     "text": [
      "playlist_URI: 3GX5FLE0IxHNZtLye0ETgb\n"
     ]
    },
    {
     "data": {
      "text/plain": [
       "['spotify:track:7hqesNgWCx8NZTHl4MXkPF',\n",
       " 'spotify:track:0y2y5zcZr0Ciei8bf41cSS',\n",
       " 'spotify:track:1Hi6XYNirfRidjPo18UUq0',\n",
       " 'spotify:track:5U51nS2N1TDL1HEHEio7mC',\n",
       " 'spotify:track:4euYSSvpQZSAQ4gThyL2QD',\n",
       " 'spotify:track:5CahDIpRZSLStfqNdznMoE',\n",
       " 'spotify:track:6l6ObuVjdZbc900Q2WgO7K',\n",
       " 'spotify:track:3i5m63j2chfkDu3qmcb9m3',\n",
       " 'spotify:track:1MMp1H2Kib2BCDtdL5nL63',\n",
       " 'spotify:track:2l5kuq6JLqCA6Afx8gGh8V',\n",
       " 'spotify:track:1Zxu9r1D4fKGaxBUxmIsWG',\n",
       " 'spotify:track:5n9Ul19Pb8MROfm8eTI7UH',\n",
       " 'spotify:track:1JFdocYRMthec2BNrkOF1b']"
      ]
     },
     "execution_count": 13,
     "metadata": {},
     "output_type": "execute_result"
    }
   ],
   "source": [
    "# muscale shoals\n",
    "playlist_link = 'https://open.spotify.com/playlist/3GX5FLE0IxHNZtLye0ETgb?si=f99fa67315f14bbe'\n",
    "\n",
    "playlist_URI = playlist_link.split(\"/\")[-1].split(\"?\")[0]\n",
    "\n",
    "print(f\"playlist_URI: {playlist_URI}\")\n",
    "\n",
    "track_uris = [x[\"track\"][\"uri\"] for x in sp.playlist_tracks(playlist_URI)[\"items\"]]\n",
    "\n",
    "track_uris"
   ]
  },
  {
   "cell_type": "markdown",
   "id": "e1235b22-459e-46a8-86b2-fbbcd5001ce9",
   "metadata": {},
   "source": [
    "## Loop multiple playlists"
   ]
  },
  {
   "cell_type": "markdown",
   "id": "afb117ef-adb1-41c5-938a-9fce3a94fdf8",
   "metadata": {},
   "source": [
    "### Helper functions"
   ]
  },
  {
   "cell_type": "code",
   "execution_count": 77,
   "id": "67721be1-712a-4f3c-8b56-e2c85789797a",
   "metadata": {},
   "outputs": [],
   "source": [
    "# def get_track_features(track_uri, count, playlist_uri, n_songs_pl):\n",
    "def get_track_features(track_uri, count, playlist_uri):\n",
    "    \n",
    "    feature_dict = {}\n",
    "    \n",
    "    playlist_features = sp.playlist(playlist_uri)\n",
    "    feature_dict['pl_name'] = playlist_features['name']\n",
    "    feature_dict['description_pl'] = playlist_features['description']\n",
    "    feature_dict['collaborative'] = str(playlist_features['collaborative'])\n",
    "    # feature_dict['n_songs_pl'] = n_songs_pl\n",
    "    \n",
    "    track_meta = sp.track(track_uri)\n",
    "    # capture track metadata\n",
    "    feature_dict['track_pos'] = count\n",
    "    feature_dict['track_uri'] = track_uri\n",
    "    feature_dict['track_name'] = track_meta['name']\n",
    "    feature_dict['duration_ms'] = float(track_meta['duration_ms'])\n",
    "    feature_dict['track_pop'] = float(track_meta['popularity'])\n",
    "    feature_dict['album_name'] = track_meta['album']['name']\n",
    "    feature_dict['album_uri'] = track_meta['album']['uri']\n",
    "    feature_dict['album_release_date'] = track_meta['album']['release_date']\n",
    "    feature_dict['artist_name'] = track_meta['album']['artists'][0]['name']\n",
    "    feature_dict['artist_uri'] = track_meta['album']['artists'][0]['uri']\n",
    "\n",
    "    artist_meta = sp.artist(feature_dict['artist_uri'])\n",
    "    # capture artist metadata\n",
    "    feature_dict['artist_followers'] = float(artist_meta['followers']['total'])\n",
    "    feature_dict['artist_popularity'] = float(artist_meta['popularity'])\n",
    "    # artist_genres = artist_meta['genres']\n",
    "    \n",
    "    if artist_meta['genres']:\n",
    "        feature_dict['artist_genres'] = \" \".join([re.sub(' ','_',i) for i in artist_meta['genres']])\n",
    "    else:\n",
    "        feature_dict['artist_genres'] = \"unknown\"\n",
    "    \n",
    "    track_features = sp.audio_features(track_uri)[0]\n",
    "    # capture track audio features\n",
    "    feature_dict['duration'] = float(track_features['duration_ms'])\n",
    "    feature_dict['acousticness'] = track_features['acousticness']\n",
    "    feature_dict['danceability'] = track_features['danceability']\n",
    "    feature_dict['energy'] = track_features['energy']\n",
    "    feature_dict['instrumentalness'] = track_features['instrumentalness']\n",
    "    feature_dict['key'] = track_features['key']\n",
    "    feature_dict['liveness'] = track_features['liveness']\n",
    "    feature_dict['loudness']= track_features['loudness']\n",
    "    feature_dict['mode'] = track_features['mode']\n",
    "    feature_dict['speechiness'] = track_features['speechiness']\n",
    "    feature_dict['tempo'] = track_features['tempo']\n",
    "    feature_dict['time_signature'] = track_features['time_signature']\n",
    "    feature_dict['valence'] = track_features['valence']\n",
    "    \n",
    "    # TODO: print artist names for comparison later\n",
    "    \n",
    "    return feature_dict\n",
    "\n",
    "def get_playlist_queries(playlist_uri):\n",
    "    \n",
    "    track_uris = [x[\"track\"][\"uri\"] for x in sp.playlist_tracks(playlist_uri)[\"items\"]]\n",
    "    \n",
    "    # n_songs_pl = len(track_uris)\n",
    "    playlist_featutre_list = []\n",
    "    \n",
    "    for count, track_uri in enumerate(track_uris):\n",
    "        # results = get_track_features(track_uri, count, playlist_uri, n_songs_pl)\n",
    "        results = get_track_features(track_uri, count, playlist_uri)\n",
    "        playlist_featutre_list.append(results)\n",
    "    \n",
    "    return playlist_featutre_list"
   ]
  },
  {
   "cell_type": "markdown",
   "id": "f732ecff-2529-41b2-9f9b-f492e43f8d18",
   "metadata": {},
   "source": [
    "### Example Playlists"
   ]
  },
  {
   "cell_type": "code",
   "execution_count": 78,
   "id": "b916b009-f86a-41db-a564-d1d520c02017",
   "metadata": {},
   "outputs": [
    {
     "name": "stdout",
     "output_type": "stream",
     "text": [
      "playlist_uris: ['3GX5FLE0IxHNZtLye0ETgb', '0XPJ39OCBhOw5OZa7udYYP', '6imD2IJOyw3MEKdZ4XZqZ4', '1pGfqRD9CzyO9lOn9Fp09V', '3HeHZi8VGEm6ZNHZ2FVRr6']\n"
     ]
    }
   ],
   "source": [
    "playlist_uris = []\n",
    "\n",
    "playlist_links = [\n",
    "    'https://open.spotify.com/playlist/3GX5FLE0IxHNZtLye0ETgb?si=80db2142bb684516', # muscle shoals\n",
    "    'https://open.spotify.com/playlist/0XPJ39OCBhOw5OZa7udYYP?si=92551fefe7c64eb1', # disco\n",
    "    'https://open.spotify.com/playlist/6imD2IJOyw3MEKdZ4XZqZ4?si=b29779098622481f', # space is the place\n",
    "    # 'https://open.spotify.com/playlist/1E1EwxJyzjt6SYyfnp9mE8?si=0f1cda3332c14290', # all panic\n",
    "    'https://open.spotify.com/playlist/1pGfqRD9CzyO9lOn9Fp09V?si=3f6c8067491a4105', # live panic - small\n",
    "    'https://open.spotify.com/playlist/3HeHZi8VGEm6ZNHZ2FVRr6?si=ca0b107a42e84067', # biebs weeknd\n",
    "]\n",
    "\n",
    "for link in playlist_links:\n",
    "    playlist_uri = link.split(\"/\")[-1].split(\"?\")[0]\n",
    "    playlist_uris.append(playlist_uri)\n",
    "\n",
    "print(f\"playlist_uris: {playlist_uris}\")"
   ]
  },
  {
   "cell_type": "code",
   "execution_count": 79,
   "id": "038a3b13-6caa-44b0-b388-dae745c24fb9",
   "metadata": {},
   "outputs": [
    {
     "data": {
      "text/plain": [
       "5"
      ]
     },
     "execution_count": 79,
     "metadata": {},
     "output_type": "execute_result"
    }
   ],
   "source": [
    "featureLIST = [] \n",
    "\n",
    "for uri in playlist_uris:\n",
    "    results = get_playlist_queries(uri)\n",
    "    featureLIST.append(results)\n",
    "\n",
    "len(featureLIST)"
   ]
  },
  {
   "cell_type": "markdown",
   "id": "788269b6-8150-471c-8e0e-4275ac8f4f24",
   "metadata": {},
   "source": [
    "#### Inspect last `N` songs of playlist"
   ]
  },
  {
   "cell_type": "code",
   "execution_count": 39,
   "id": "ef7f299f-138d-42a1-8063-c8a91e97c481",
   "metadata": {
    "tags": []
   },
   "outputs": [],
   "source": [
    "featureLIST[3][-MAX_SEED_LENGTH:]"
   ]
  },
  {
   "cell_type": "code",
   "execution_count": 20,
   "id": "fe511ce9-5e28-449d-890b-a522c53e6409",
   "metadata": {
    "collapsed": true,
    "jupyter": {
     "outputs_hidden": true
    },
    "tags": []
   },
   "outputs": [
    {
     "name": "stdout",
     "output_type": "stream",
     "text": [
      "(65, 29)\n"
     ]
    },
    {
     "data": {
      "text/html": [
       "<div>\n",
       "<style scoped>\n",
       "    .dataframe tbody tr th:only-of-type {\n",
       "        vertical-align: middle;\n",
       "    }\n",
       "\n",
       "    .dataframe tbody tr th {\n",
       "        vertical-align: top;\n",
       "    }\n",
       "\n",
       "    .dataframe thead th {\n",
       "        text-align: right;\n",
       "    }\n",
       "</style>\n",
       "<table border=\"1\" class=\"dataframe\">\n",
       "  <thead>\n",
       "    <tr style=\"text-align: right;\">\n",
       "      <th></th>\n",
       "      <th>pl_name</th>\n",
       "      <th>description_pl</th>\n",
       "      <th>collaborative</th>\n",
       "      <th>track_pos</th>\n",
       "      <th>track_uri</th>\n",
       "      <th>track_name</th>\n",
       "      <th>duration_ms</th>\n",
       "      <th>track_pop</th>\n",
       "      <th>album_name</th>\n",
       "      <th>album_uri</th>\n",
       "      <th>album_release_date</th>\n",
       "      <th>artist_name</th>\n",
       "      <th>artist_uri</th>\n",
       "      <th>artist_followers</th>\n",
       "      <th>artist_popularity</th>\n",
       "      <th>artist_genres</th>\n",
       "      <th>duration</th>\n",
       "      <th>acousticness</th>\n",
       "      <th>danceability</th>\n",
       "      <th>energy</th>\n",
       "      <th>instrumentalness</th>\n",
       "      <th>key</th>\n",
       "      <th>liveness</th>\n",
       "      <th>loudness</th>\n",
       "      <th>mode</th>\n",
       "      <th>speechiness</th>\n",
       "      <th>tempo</th>\n",
       "      <th>time_signature</th>\n",
       "      <th>valence</th>\n",
       "    </tr>\n",
       "  </thead>\n",
       "  <tbody>\n",
       "    <tr>\n",
       "      <th>0</th>\n",
       "      <td>Muscle Shoals</td>\n",
       "      <td>a blend of country, gospel and R &amp;amp; B, alab...</td>\n",
       "      <td>False</td>\n",
       "      <td>0</td>\n",
       "      <td>spotify:track:7hqesNgWCx8NZTHl4MXkPF</td>\n",
       "      <td>Mary, Don't You Weep - Live at New Temple Miss...</td>\n",
       "      <td>446506</td>\n",
       "      <td>36</td>\n",
       "      <td>Amazing Grace (Live at New Temple Missionary B...</td>\n",
       "      <td>spotify:album:5pIUimaQ6XePPXbMUi3te0</td>\n",
       "      <td>1972</td>\n",
       "      <td>Aretha Franklin</td>\n",
       "      <td>spotify:artist:7nwUJBm0HE4ZxD3f5cy5ok</td>\n",
       "      <td>2977459</td>\n",
       "      <td>69</td>\n",
       "      <td>classic_soul jazz_blues memphis_soul soul sout...</td>\n",
       "      <td>446507</td>\n",
       "      <td>0.74400</td>\n",
       "      <td>0.572</td>\n",
       "      <td>0.270</td>\n",
       "      <td>0.000185</td>\n",
       "      <td>1</td>\n",
       "      <td>0.8580</td>\n",
       "      <td>-16.201</td>\n",
       "      <td>1</td>\n",
       "      <td>0.0378</td>\n",
       "      <td>81.720</td>\n",
       "      <td>3</td>\n",
       "      <td>0.610</td>\n",
       "    </tr>\n",
       "    <tr>\n",
       "      <th>1</th>\n",
       "      <td>Muscle Shoals</td>\n",
       "      <td>a blend of country, gospel and R &amp;amp; B, alab...</td>\n",
       "      <td>False</td>\n",
       "      <td>1</td>\n",
       "      <td>spotify:track:0y2y5zcZr0Ciei8bf41cSS</td>\n",
       "      <td>Confessions</td>\n",
       "      <td>324760</td>\n",
       "      <td>45</td>\n",
       "      <td>Carolina Confessions</td>\n",
       "      <td>spotify:album:6RVN0MPUbYBiYm2Otf6Li2</td>\n",
       "      <td>2018-10-05</td>\n",
       "      <td>Marcus King</td>\n",
       "      <td>spotify:artist:0FeWKiZSwBRdGzqeCdlH1a</td>\n",
       "      <td>130831</td>\n",
       "      <td>56</td>\n",
       "      <td>modern_blues_rock</td>\n",
       "      <td>324760</td>\n",
       "      <td>0.26900</td>\n",
       "      <td>0.357</td>\n",
       "      <td>0.437</td>\n",
       "      <td>0.000403</td>\n",
       "      <td>5</td>\n",
       "      <td>0.1510</td>\n",
       "      <td>-9.072</td>\n",
       "      <td>0</td>\n",
       "      <td>0.0312</td>\n",
       "      <td>135.730</td>\n",
       "      <td>3</td>\n",
       "      <td>0.447</td>\n",
       "    </tr>\n",
       "    <tr>\n",
       "      <th>2</th>\n",
       "      <td>Muscle Shoals</td>\n",
       "      <td>a blend of country, gospel and R &amp;amp; B, alab...</td>\n",
       "      <td>False</td>\n",
       "      <td>2</td>\n",
       "      <td>spotify:track:1Hi6XYNirfRidjPo18UUq0</td>\n",
       "      <td>Welcome ’Round Here</td>\n",
       "      <td>261546</td>\n",
       "      <td>49</td>\n",
       "      <td>Carolina Confessions</td>\n",
       "      <td>spotify:album:6RVN0MPUbYBiYm2Otf6Li2</td>\n",
       "      <td>2018-10-05</td>\n",
       "      <td>Marcus King</td>\n",
       "      <td>spotify:artist:0FeWKiZSwBRdGzqeCdlH1a</td>\n",
       "      <td>130831</td>\n",
       "      <td>56</td>\n",
       "      <td>modern_blues_rock</td>\n",
       "      <td>261547</td>\n",
       "      <td>0.00904</td>\n",
       "      <td>0.297</td>\n",
       "      <td>0.734</td>\n",
       "      <td>0.004430</td>\n",
       "      <td>0</td>\n",
       "      <td>0.0959</td>\n",
       "      <td>-7.255</td>\n",
       "      <td>1</td>\n",
       "      <td>0.0443</td>\n",
       "      <td>93.259</td>\n",
       "      <td>4</td>\n",
       "      <td>0.252</td>\n",
       "    </tr>\n",
       "    <tr>\n",
       "      <th>3</th>\n",
       "      <td>Muscle Shoals</td>\n",
       "      <td>a blend of country, gospel and R &amp;amp; B, alab...</td>\n",
       "      <td>False</td>\n",
       "      <td>3</td>\n",
       "      <td>spotify:track:5U51nS2N1TDL1HEHEio7mC</td>\n",
       "      <td>Down In the Flood</td>\n",
       "      <td>302306</td>\n",
       "      <td>45</td>\n",
       "      <td>Already Free</td>\n",
       "      <td>spotify:album:1I4Ydy7hVvINSdRHV7n4fS</td>\n",
       "      <td>2009-01-13</td>\n",
       "      <td>The Derek Trucks Band</td>\n",
       "      <td>spotify:artist:1YwfENKEZrowcmtR1nALZn</td>\n",
       "      <td>193670</td>\n",
       "      <td>44</td>\n",
       "      <td>blues blues_rock country_rock electric_blues j...</td>\n",
       "      <td>302307</td>\n",
       "      <td>0.18100</td>\n",
       "      <td>0.551</td>\n",
       "      <td>0.695</td>\n",
       "      <td>0.000154</td>\n",
       "      <td>0</td>\n",
       "      <td>0.1920</td>\n",
       "      <td>-7.111</td>\n",
       "      <td>1</td>\n",
       "      <td>0.0323</td>\n",
       "      <td>114.135</td>\n",
       "      <td>4</td>\n",
       "      <td>0.207</td>\n",
       "    </tr>\n",
       "    <tr>\n",
       "      <th>4</th>\n",
       "      <td>Muscle Shoals</td>\n",
       "      <td>a blend of country, gospel and R &amp;amp; B, alab...</td>\n",
       "      <td>False</td>\n",
       "      <td>4</td>\n",
       "      <td>spotify:track:4euYSSvpQZSAQ4gThyL2QD</td>\n",
       "      <td>Ain't Wastin' Time No More</td>\n",
       "      <td>221890</td>\n",
       "      <td>59</td>\n",
       "      <td>Eat A Peach</td>\n",
       "      <td>spotify:album:6D9I7GZsqc3pwDg3DFrtjs</td>\n",
       "      <td>1972-02-12</td>\n",
       "      <td>Allman Brothers Band</td>\n",
       "      <td>spotify:artist:4wQ3PyMz3WwJGI5uEqHUVR</td>\n",
       "      <td>1368075</td>\n",
       "      <td>63</td>\n",
       "      <td>album_rock blues_rock classic_rock country_roc...</td>\n",
       "      <td>221891</td>\n",
       "      <td>0.33700</td>\n",
       "      <td>0.453</td>\n",
       "      <td>0.607</td>\n",
       "      <td>0.023700</td>\n",
       "      <td>3</td>\n",
       "      <td>0.0998</td>\n",
       "      <td>-13.400</td>\n",
       "      <td>1</td>\n",
       "      <td>0.0345</td>\n",
       "      <td>91.468</td>\n",
       "      <td>4</td>\n",
       "      <td>0.724</td>\n",
       "    </tr>\n",
       "  </tbody>\n",
       "</table>\n",
       "</div>"
      ],
      "text/plain": [
       "         pl_name                                     description_pl  \\\n",
       "0  Muscle Shoals  a blend of country, gospel and R &amp; B, alab...   \n",
       "1  Muscle Shoals  a blend of country, gospel and R &amp; B, alab...   \n",
       "2  Muscle Shoals  a blend of country, gospel and R &amp; B, alab...   \n",
       "3  Muscle Shoals  a blend of country, gospel and R &amp; B, alab...   \n",
       "4  Muscle Shoals  a blend of country, gospel and R &amp; B, alab...   \n",
       "\n",
       "   collaborative  track_pos                             track_uri  \\\n",
       "0          False          0  spotify:track:7hqesNgWCx8NZTHl4MXkPF   \n",
       "1          False          1  spotify:track:0y2y5zcZr0Ciei8bf41cSS   \n",
       "2          False          2  spotify:track:1Hi6XYNirfRidjPo18UUq0   \n",
       "3          False          3  spotify:track:5U51nS2N1TDL1HEHEio7mC   \n",
       "4          False          4  spotify:track:4euYSSvpQZSAQ4gThyL2QD   \n",
       "\n",
       "                                          track_name  duration_ms  track_pop  \\\n",
       "0  Mary, Don't You Weep - Live at New Temple Miss...       446506         36   \n",
       "1                                        Confessions       324760         45   \n",
       "2                                Welcome ’Round Here       261546         49   \n",
       "3                                  Down In the Flood       302306         45   \n",
       "4                         Ain't Wastin' Time No More       221890         59   \n",
       "\n",
       "                                          album_name  \\\n",
       "0  Amazing Grace (Live at New Temple Missionary B...   \n",
       "1                               Carolina Confessions   \n",
       "2                               Carolina Confessions   \n",
       "3                                       Already Free   \n",
       "4                                        Eat A Peach   \n",
       "\n",
       "                              album_uri album_release_date  \\\n",
       "0  spotify:album:5pIUimaQ6XePPXbMUi3te0               1972   \n",
       "1  spotify:album:6RVN0MPUbYBiYm2Otf6Li2         2018-10-05   \n",
       "2  spotify:album:6RVN0MPUbYBiYm2Otf6Li2         2018-10-05   \n",
       "3  spotify:album:1I4Ydy7hVvINSdRHV7n4fS         2009-01-13   \n",
       "4  spotify:album:6D9I7GZsqc3pwDg3DFrtjs         1972-02-12   \n",
       "\n",
       "             artist_name                             artist_uri  \\\n",
       "0        Aretha Franklin  spotify:artist:7nwUJBm0HE4ZxD3f5cy5ok   \n",
       "1            Marcus King  spotify:artist:0FeWKiZSwBRdGzqeCdlH1a   \n",
       "2            Marcus King  spotify:artist:0FeWKiZSwBRdGzqeCdlH1a   \n",
       "3  The Derek Trucks Band  spotify:artist:1YwfENKEZrowcmtR1nALZn   \n",
       "4   Allman Brothers Band  spotify:artist:4wQ3PyMz3WwJGI5uEqHUVR   \n",
       "\n",
       "   artist_followers  artist_popularity  \\\n",
       "0           2977459                 69   \n",
       "1            130831                 56   \n",
       "2            130831                 56   \n",
       "3            193670                 44   \n",
       "4           1368075                 63   \n",
       "\n",
       "                                       artist_genres  duration  acousticness  \\\n",
       "0  classic_soul jazz_blues memphis_soul soul sout...    446507       0.74400   \n",
       "1                                  modern_blues_rock    324760       0.26900   \n",
       "2                                  modern_blues_rock    261547       0.00904   \n",
       "3  blues blues_rock country_rock electric_blues j...    302307       0.18100   \n",
       "4  album_rock blues_rock classic_rock country_roc...    221891       0.33700   \n",
       "\n",
       "   danceability  energy  instrumentalness  key  liveness  loudness  mode  \\\n",
       "0         0.572   0.270          0.000185    1    0.8580   -16.201     1   \n",
       "1         0.357   0.437          0.000403    5    0.1510    -9.072     0   \n",
       "2         0.297   0.734          0.004430    0    0.0959    -7.255     1   \n",
       "3         0.551   0.695          0.000154    0    0.1920    -7.111     1   \n",
       "4         0.453   0.607          0.023700    3    0.0998   -13.400     1   \n",
       "\n",
       "   speechiness    tempo  time_signature  valence  \n",
       "0       0.0378   81.720               3    0.610  \n",
       "1       0.0312  135.730               3    0.447  \n",
       "2       0.0443   93.259               4    0.252  \n",
       "3       0.0323  114.135               4    0.207  \n",
       "4       0.0345   91.468               4    0.724  "
      ]
     },
     "execution_count": 20,
     "metadata": {},
     "output_type": "execute_result"
    }
   ],
   "source": [
    "from itertools import chain\n",
    "\n",
    "test_df = pd.DataFrame(list(chain.from_iterable(featureLIST)))\n",
    "\n",
    "print(test_df.shape)\n",
    "test_df.head()"
   ]
  },
  {
   "cell_type": "markdown",
   "id": "ee0aaf7a-9130-4997-bc34-b3c9124e3a34",
   "metadata": {},
   "source": [
    "## TODO\n",
    "* `n_songs_pl`\n",
    "* `num_artists_pl`\n",
    "* `num_albums_pl`\n",
    "* format ragged columns (<= 5)\n",
    "* Add section for creating tet instances without Spotify account? e.g., favorite artists, tracks, and genres?"
   ]
  },
  {
   "cell_type": "markdown",
   "id": "549e774c-9924-46ab-ad5f-785c9342acae",
   "metadata": {},
   "source": [
    "### Option 1"
   ]
  },
  {
   "cell_type": "code",
   "execution_count": 21,
   "id": "410f6a16-96f6-4e30-a699-73100de20c0a",
   "metadata": {},
   "outputs": [],
   "source": [
    "# test_df_2 = test_df.copy()"
   ]
  },
  {
   "cell_type": "code",
   "execution_count": 24,
   "id": "1a8ec31e-1939-4cf1-8bfc-06f5d3dd7728",
   "metadata": {},
   "outputs": [
    {
     "data": {
      "text/plain": [
       "pl_name\n",
       "Disco                  5\n",
       "Muscle Shoals         13\n",
       "biebs weeknd          20\n",
       "live panic - small    14\n",
       "space is the place    13\n",
       "Name: track_uri, dtype: int64"
      ]
     },
     "execution_count": 24,
     "metadata": {},
     "output_type": "execute_result"
    }
   ],
   "source": [
    "# test_df_2['n_songs_pl'] = test_df_2[test_df_2['pl_name'] == condition, :].apply(any_fn_you_want)\n",
    "# feature_dict['pl_name'] = playlist_features['name'].str.strip().str.lower().replace('', '_')\n",
    "\n",
    "# # dfd['new_B'] = dfd.groupby('A')['B'].transform('min')\n",
    "\n",
    "# # test_df_2['n_songs_pl'] = test_df_2.groupby('track_uri')['pl_name'].count()\n",
    "# test_df_2['n_songs_pl'] = test_df_2.groupby('pl_name')['ccc'].count()\n",
    "\n",
    "unique_albums = test_df_2.groupby('pl_name')['album_uri'].nunique()\n",
    "unique_artists = test_df_2.groupby('pl_name')['artist_uri'].nunique()\n",
    "n_songs_pl = test_df_2.groupby('pl_name')['track_uri'].count()\n",
    "\n",
    "print(f\"unique_albums {unique_albums}\\n\")\n",
    "print(f\"unique_artists {unique_artists}\\n\")\n",
    "print(f\"n_songs_pl {n_songs_pl}\")"
   ]
  },
  {
   "cell_type": "markdown",
   "id": "a0be87a6-9dfc-40b2-9754-547121778d0b",
   "metadata": {},
   "source": [
    "### Option 2"
   ]
  },
  {
   "cell_type": "code",
   "execution_count": 52,
   "id": "2c4eaaf6-a919-4117-a787-a9c13b9fc3e9",
   "metadata": {
    "tags": []
   },
   "outputs": [
    {
     "name": "stdout",
     "output_type": "stream",
     "text": [
      "Number of playlists 5\n",
      "Number of tracks in a single playlis 14\n",
      "Number of seedtracks during model training: 5\n"
     ]
    }
   ],
   "source": [
    "# featureLIST[3][-MAX_SEED_LENGTH + 1:]\n",
    "\n",
    "print(f\"Number of playlists {len(featureLIST)}\")\n",
    "print(f\"Number of tracks in a single playlis {len(featureLIST[3])}\")\n",
    "print(f\"Number of seedtracks during model training: {MAX_SEED_LENGTH}\")"
   ]
  },
  {
   "cell_type": "code",
   "execution_count": 120,
   "id": "7f978bc3-55c4-42da-bc52-af4759845686",
   "metadata": {},
   "outputs": [],
   "source": [
    "# muscle_shoals_test = featureLIST[0][-MAX_SEED_LENGTH:]\n",
    "# disco_test = featureLIST[1][-MAX_SEED_LENGTH:]\n",
    "# space_place_test = featureLIST[2][-MAX_SEED_LENGTH:]\n",
    "# panic_feat_test = featureLIST[3][-MAX_SEED_LENGTH:]\n",
    "# biebs_wkd_test = featureLIST[4][-MAX_SEED_LENGTH:]"
   ]
  },
  {
   "cell_type": "code",
   "execution_count": 125,
   "id": "9a0d5b88-0fd9-43f5-b952-0966a9853cb8",
   "metadata": {},
   "outputs": [],
   "source": [
    "def get_test_instance(list_dict_test):\n",
    "    '''\n",
    "    create single test instances given a \n",
    "    list of dictionaries representing playlist tracks\n",
    "    '''\n",
    "    \n",
    "    # model serving signature with candidate tower fields\n",
    "    TEST_PL_QUERY = {\n",
    "        'album_name_can': '',\n",
    "        'album_name_pl': [ ], \n",
    "        'album_uri_can': '',\n",
    "        'artist_followers_can': 0, \n",
    "        'artist_genres_can': \"\", \n",
    "        'artist_genres_pl': [ ], \n",
    "        'artist_name_can': '', \n",
    "        'artist_name_pl': [ ], \n",
    "        'artist_pop_can': 0, \n",
    "        'artist_pop_pl': [], \n",
    "        'artist_uri_can': '', \n",
    "        'artists_followers_pl': [ ], \n",
    "        'collaborative': '', \n",
    "        'description_pl': '', \n",
    "        'duration_ms_can': 0, \n",
    "        'duration_ms_songs_pl': [ ], \n",
    "        'n_songs_pl': 0, \n",
    "        'name': '', \n",
    "        'num_albums_pl': 0, \n",
    "        'num_artists_pl': 0, \n",
    "        'track_name_can': '', \n",
    "        'track_name_pl': [ ], \n",
    "        'track_pop_can': 0, \n",
    "        'track_pop_pl': [ ], \n",
    "        'track_uri_can': '', \n",
    "        'track_uri_pl': [ ],\n",
    "    }\n",
    "\n",
    "    counter = 0\n",
    "    for track in list_dict_test:\n",
    "        if counter == 0:\n",
    "            TEST_PL_QUERY['collaborative'] = str(track['collaborative'])\n",
    "            TEST_PL_QUERY['n_songs_pl'] = 14.0 # TODO: paramerterize\n",
    "            TEST_PL_QUERY['num_albums_pl'] = 3.0 # TODO: paramerterize\n",
    "            TEST_PL_QUERY['num_artists_pl'] = 2.0 # TODO: paramerterize\n",
    "            TEST_PL_QUERY['name'] = track['pl_name']\n",
    "            TEST_PL_QUERY['description_pl'] = track['description_pl']\n",
    "        else:\n",
    "            # do these\n",
    "            TEST_PL_QUERY['album_name_pl'].append(track['album_name'])\n",
    "            TEST_PL_QUERY['artist_genres_pl'].append(track['artist_genres'])\n",
    "            TEST_PL_QUERY['artist_name_pl'].append(track['artist_name'])\n",
    "            TEST_PL_QUERY['artist_pop_pl'].append(track['artist_popularity'])\n",
    "            TEST_PL_QUERY['artists_followers_pl'].append(track['artist_followers'])\n",
    "            # TEST_PL_QUERY['collaborative'].append(track['XXXXXX'])\n",
    "            # TEST_PL_QUERY['description_pl'].append(track['XXXXXX'])\n",
    "            TEST_PL_QUERY['duration_ms_songs_pl'].append(track['duration_ms'])\n",
    "            # TEST_PL_QUERY['n_songs_pl'].append(track['XXXXXX'])\n",
    "            # TEST_PL_QUERY['name'].append(track['XXXXXX'])\n",
    "            # TEST_PL_QUERY['num_albums_pl'].append(track['XXXXXX'])\n",
    "            # TEST_PL_QUERY['num_artists_pl'].append(track['XXXXXX'])\n",
    "            TEST_PL_QUERY['track_name_pl'].append(track['track_name'])\n",
    "            TEST_PL_QUERY['track_pop_pl'].append(track['track_pop'])\n",
    "            TEST_PL_QUERY['track_uri_pl'].append(track['track_uri'])\n",
    "\n",
    "        counter=+1\n",
    "        \n",
    "    return TEST_PL_QUERY"
   ]
  },
  {
   "cell_type": "markdown",
   "id": "e81ce729-1a4a-40be-83e8-842eb3555bac",
   "metadata": {},
   "source": [
    "# Query Matching Engine\n",
    "\n",
    "### TODO:\n",
    "* parametrize this section\n",
    "* structure section and notebook for readers"
   ]
  },
  {
   "cell_type": "code",
   "execution_count": 139,
   "id": "3e50282d-f716-437d-a4a9-99300f96a528",
   "metadata": {},
   "outputs": [],
   "source": [
    "from google.cloud import aiplatform as vertex_ai\n",
    "# from google.cloud import aiplatform_v1beta1 #needed for matching engine calls\n",
    "\n",
    "# Vertex SDK \n",
    "vertex_ai.init(project=PROJECT_ID, location=LOCATION)\n",
    "\n",
    "import tensorflow as tf\n",
    "import tensorflow_recommenders as tfrs\n",
    "\n",
    "from two_tower_src import two_tower as tt\n",
    "\n",
    "import time"
   ]
  },
  {
   "cell_type": "markdown",
   "id": "37f6c5b6-c8c9-4256-a612-4949f3c2b885",
   "metadata": {},
   "source": [
    "### Define VPC Network"
   ]
  },
  {
   "cell_type": "code",
   "execution_count": 41,
   "id": "30b63468-3b71-4b7d-b738-3aedab3300dd",
   "metadata": {},
   "outputs": [
    {
     "name": "stdout",
     "output_type": "stream",
     "text": [
      "VPC_NETWORK_RESOURCE_URI: projects/934903580331/global/networks/ucaip-haystack-vpc-network\n"
     ]
    }
   ],
   "source": [
    "VPC_NETWORK_NAME = 'ucaip-haystack-vpc-network' \n",
    "\n",
    "VPC_NETWORK_NAME_URI = f'projects/{PROJECT_NUM}/global/networks/{VPC_NETWORK_NAME}'\n",
    "\n",
    "print(\"VPC_NETWORK_RESOURCE_URI:\", VPC_NETWORK_NAME_URI)"
   ]
  },
  {
   "cell_type": "markdown",
   "id": "b33430d5-790b-4765-8215-e107009f2947",
   "metadata": {},
   "source": [
    "### Define model endpoint"
   ]
  },
  {
   "cell_type": "code",
   "execution_count": null,
   "id": "f68b7e9f-6b9a-4108-9626-ea26474c6bd2",
   "metadata": {},
   "outputs": [],
   "source": [
    "### Deployed Model Endpoints\n",
    "\n",
    "# !gcloud beta ai index-endpoints list --project={PROJECT_ID} --region={LOCATION}"
   ]
  },
  {
   "cell_type": "code",
   "execution_count": 42,
   "id": "67464d47-5898-416a-9b48-c1657da6e59c",
   "metadata": {},
   "outputs": [],
   "source": [
    "query_endpoint_name = \"Spotify Playist Model Endpoint\" "
   ]
  },
  {
   "cell_type": "code",
   "execution_count": 43,
   "id": "a4c8e46d-c088-40b5-a24d-5f30a99c6924",
   "metadata": {},
   "outputs": [
    {
     "name": "stdout",
     "output_type": "stream",
     "text": [
      "query_endpoint_name: Spotify Playist Model Endpoint\n",
      "model_endpoint_uri: projects/934903580331/locations/us-central1/endpoints/1185154787486728192\n",
      "\n",
      "deployed_query_model_endpoint: <google.cloud.aiplatform.models.Endpoint object at 0x7f115d0cfe10> \n",
      "resource name: projects/934903580331/locations/us-central1/endpoints/1185154787486728192\n"
     ]
    }
   ],
   "source": [
    "endpoints = vertex_ai.Endpoint.list(\n",
    "    filter='display_name=\"{}\"'.format(query_endpoint_name),\n",
    "    order_by='create_time desc',\n",
    "    project=PROJECT_ID, \n",
    "    location=LOCATION,\n",
    ")\n",
    "\n",
    "model_endpoint_uri = endpoints[0].resource_name\n",
    "\n",
    "deployed_query_model_endpoint = vertex_ai.Endpoint(model_endpoint_uri)\n",
    "\n",
    "print(f\"query_endpoint_name: {query_endpoint_name}\")\n",
    "print(f\"model_endpoint_uri: {model_endpoint_uri}\\n\")\n",
    "print(f\"deployed_query_model_endpoint: {deployed_query_model_endpoint}\")"
   ]
  },
  {
   "cell_type": "code",
   "execution_count": 45,
   "id": "fff7c75b-39db-45bb-a727-72cb2f10b13e",
   "metadata": {},
   "outputs": [
    {
     "name": "stdout",
     "output_type": "stream",
     "text": [
      "id: \"1391950934438838272\"\n",
      "model: \"projects/934903580331/locations/us-central1/models/8649686451899858944\"\n",
      "display_name: \"Spotify Playlist Query Model\"\n",
      "create_time {\n",
      "  seconds: 1665582682\n",
      "  nanos: 65459000\n",
      "}\n",
      "dedicated_resources {\n",
      "  machine_spec {\n",
      "    machine_type: \"n1-standard-4\"\n",
      "  }\n",
      "  min_replica_count: 1\n",
      "  max_replica_count: 2\n",
      "}\n",
      "model_version_id: \"1\"\n",
      "\n"
     ]
    }
   ],
   "source": [
    "deployed_models = []\n",
    "\n",
    "for model in deployed_query_model_endpoint.list_models():\n",
    "    deployed_models.append(model)\n",
    "    pprint(model)\n",
    "    \n",
    "if len(deployed_models) > 0:\n",
    "    model = deployed_models[0]\n",
    "    deployed_model_id = model.id\n",
    "    deployed_model_uri = model.model\n",
    "else:\n",
    "    print(\"No deployed model \")"
   ]
  },
  {
   "cell_type": "markdown",
   "id": "74d0d46a-dd01-4258-9216-f4d52074f38f",
   "metadata": {},
   "source": [
    "### Define index endpoint"
   ]
  },
  {
   "cell_type": "code",
   "execution_count": null,
   "id": "edee4012-2689-45e6-a3cd-0d731483eb7f",
   "metadata": {},
   "outputs": [],
   "source": [
    "# !gcloud beta ai index-endpoints list --project={PROJECT_ID} --region={LOCATION}"
   ]
  },
  {
   "cell_type": "code",
   "execution_count": 46,
   "id": "5dfb1741-e2d0-4cd2-b940-351fb58f623a",
   "metadata": {},
   "outputs": [],
   "source": [
    "index_endpoint_display_name = \"index_endpoint_for_demo\"\n",
    "deployed_index_id = \"deployed_spotify_v1\"\n",
    "INDEX_ENDPOINT_ID = '259220861364469760'"
   ]
  },
  {
   "cell_type": "code",
   "execution_count": 47,
   "id": "9b8fc0d1-b6a5-455a-af3f-a063906aac41",
   "metadata": {},
   "outputs": [
    {
     "data": {
      "text/plain": [
       "<google.cloud.aiplatform.matching_engine.matching_engine_index_endpoint.MatchingEngineIndexEndpoint object at 0x7f109c0be250> \n",
       "resource name: projects/934903580331/locations/us-central1/indexEndpoints/259220861364469760"
      ]
     },
     "execution_count": 47,
     "metadata": {},
     "output_type": "execute_result"
    }
   ],
   "source": [
    "index_endpoint_uri = f'projects/{PROJECT_NUM}/locations/{LOCATION}/indexEndpoints/{INDEX_ENDPOINT_ID}'\n",
    "\n",
    "# initialize endpoint object\n",
    "deployed_index_endpoint = vertex_ai.MatchingEngineIndexEndpoint(index_endpoint_uri)\n",
    "deployed_index_endpoint"
   ]
  },
  {
   "cell_type": "code",
   "execution_count": 48,
   "id": "24fc5397-c221-44c7-9fd4-77bf2ecd9d65",
   "metadata": {},
   "outputs": [
    {
     "data": {
      "text/plain": [
       "[id: \"deployed_spotify_v1\"\n",
       "index: \"projects/934903580331/locations/us-central1/indexes/7391796771212492800\"\n",
       "display_name: \"deployed_spotify_v1\"\n",
       "create_time {\n",
       "  seconds: 1665582418\n",
       "  nanos: 81384000\n",
       "}\n",
       "private_endpoints {\n",
       "  match_grpc_address: \"10.41.2.5\"\n",
       "}\n",
       "index_sync_time {\n",
       "  seconds: 1665593758\n",
       "  nanos: 876025000\n",
       "}\n",
       "automatic_resources {\n",
       "  min_replica_count: 2\n",
       "  max_replica_count: 2\n",
       "}\n",
       "deployment_group: \"default\"\n",
       "]"
      ]
     },
     "execution_count": 48,
     "metadata": {},
     "output_type": "execute_result"
    }
   ],
   "source": [
    "deployed_index_endpoint.deployed_indexes"
   ]
  },
  {
   "cell_type": "markdown",
   "id": "4e2cad97-00f2-4138-9a99-03180c5fc9d7",
   "metadata": {},
   "source": [
    "## Convert Test Instance embedding vector(s)"
   ]
  },
  {
   "cell_type": "code",
   "execution_count": 136,
   "id": "177ecab4-67cc-44ea-bbf0-3b00e17bd4e6",
   "metadata": {},
   "outputs": [],
   "source": [
    "# MODEL_PATH = 'gs://two-tower-models'\n",
    "# QUERY_MODEL_DIR = f'{MODEL_PATH}/query_model'\n",
    "# loaded_query_model = tf.saved_model.load(QUERY_MODEL_DIR)\n",
    "# loaded_query_model.signatures\n",
    "\n",
    "# Tests\n",
    "# muscle_shoals_test = featureLIST[0][-MAX_SEED_LENGTH:]\n",
    "\n",
    "# TEST_QUERY_mshoals = get_test_instance(muscle_shoals_test)\n",
    "\n",
    "# pprint(TEST_QUERY_mshoals)"
   ]
  },
  {
   "cell_type": "code",
   "execution_count": 127,
   "id": "060226c7-6550-4176-a360-bd03d4094d32",
   "metadata": {},
   "outputs": [
    {
     "name": "stdout",
     "output_type": "stream",
     "text": [
      "Length of playlist embedding vector: 1\n"
     ]
    },
    {
     "data": {
      "text/plain": [
       "Prediction(predictions=[[0.00448607281, 0.0799401, 0.150346503, 0.16323255, -0.0965869948, -0.0266425926, 0.052257821, -0.124586716, 0.110679455, -0.00614864519, -0.0912500396, 0.0200050846, -0.0869326591, 0.138208762, 0.12699759, 0.204420358, -0.0709763244, -0.082770139, 0.0900019258, 0.0547221042, -0.0741926059, -0.12883544, -0.0481014289, 0.10176421, 0.0879789665, -0.0333082, -0.021751957, 0.0639551729, -0.0413546972, 0.0909351856, -0.00764867337, -0.00112683303, -0.0371141247, 0.082656309, 0.0489563122, 0.0472388677, -0.0138592515, -0.0311043, 0.168435723, 0.08697097, 0.120492741, 0.0922107548, 0.0446227379, -0.07278575, 0.0353432596, 0.0687891692, -0.040090017, -0.0239148494, 0.0689484, 0.110485986, 0.0752607733, -0.0382980481, -0.0762647837, 0.0975420401, 0.0483518131, -0.149040759, -0.0422194563, -0.0380143598, 0.0473450534, -0.0395774953, 0.0801844522, -0.0919230878, -0.0736038685, 0.00854421128, 0.0187642556, -0.0902012661, -0.0119783813, -0.0657001063, -0.0394202769, -0.172017276, 0.00516439928, -0.1136958, -0.101537548, -0.0976134539, -0.0310822204, 0.0180027299, 0.0594152659, 0.108830184, 0.194049433, -0.172685385, -0.0375255831, -0.0640330762, -0.0314763971, 0.0188845, -0.026722908, 0.0036435111, 0.0584824868, -0.089359954, -0.0913448557, 0.229581773, -0.126030058, 0.042072244, 0.0139466925, -0.0327152684, -0.173165187, 0.121659987, 0.0964944735, -0.0235520341, 0.080456987, 0.082551688, 0.085677132, 0.076836504, 0.154805914, 0.0761163, 0.0834555104, 0.146990523, 0.0469858907, -0.0167752169, -0.0188257266, 0.0690004677, -0.0260521695, 0.0667801499, 0.0554767661, 0.0101717133, 0.0111984378, -0.106899746, 0.0201284159, 0.120561272, 0.116940185, -0.0497452766, -0.0710768253, 0.126022682, -0.00725856423, -0.0923694298, 0.0902918428, -0.203867108, -0.0582491197, -0.0936957374]], deployed_model_id='1391950934438838272', model_version_id='1', model_resource_name='projects/934903580331/locations/us-central1/models/8649686451899858944', explanations=None)"
      ]
     },
     "execution_count": 127,
     "metadata": {},
     "output_type": "execute_result"
    }
   ],
   "source": [
    "# playlist_emb = deployed_query_model_endpoint.predict([TEST_QUERY_mshoals])\n",
    "\n",
    "# print(f\"Length of playlist embedding vector: {len(playlist_emb.predictions)}\")\n",
    "\n",
    "# playlist_emb"
   ]
  },
  {
   "cell_type": "markdown",
   "id": "142eb2fa-7b28-4987-b7b3-1f3597596adc",
   "metadata": {},
   "source": [
    "## Retrieve nearest neighbors in deployed index"
   ]
  },
  {
   "cell_type": "code",
   "execution_count": 142,
   "id": "5fde0f09-e532-46b2-8b9c-7657e1d8f03e",
   "metadata": {},
   "outputs": [],
   "source": [
    "def candidate_retrieval(query_instance, num_neighbs=10):\n",
    "    '''\n",
    "    TODO: some stuff\n",
    "    '''\n",
    "    # here\n",
    "    playlist_emb = deployed_query_model_endpoint.predict([query_instance])\n",
    "    \n",
    "    candidate_tracks = deployed_index_endpoint.match(\n",
    "        deployed_index_id='deployed_spotify_v1',\n",
    "        queries=playlist_emb.predictions,\n",
    "        num_neighbors=10\n",
    "    )\n",
    "    # pprint(f\"Retrieved candidate tracks: {candidate_tracks}\")\n",
    "    return candidate_tracks"
   ]
  },
  {
   "cell_type": "code",
   "execution_count": 143,
   "id": "04e460b4-e96d-41d8-92ea-7e8a72e21567",
   "metadata": {},
   "outputs": [],
   "source": [
    "def interpret_results(candidate_tracks):\n",
    "    '''\n",
    "    TODO:\n",
    "    '''\n",
    "    # here\n",
    "    results = []\n",
    "\n",
    "    for neighbors in candidate_tracks[0]:\n",
    "        track_dict = {}\n",
    "        track_index_id = str(neighbors.id).lstrip('b').replace(\"'\",\"\")\n",
    "        print(track_index_id)\n",
    "        track_meta = sp.track(track_index_id)\n",
    "        track_dict['track_name'] = track_meta['name']\n",
    "        track_dict['artist_name'] = track_meta['artists'][0]['name']\n",
    "        track_dict['track_preview_url'] = track_meta['preview_url']\n",
    "        track_dict['track_spotify_url'] = track_meta['external_urls']['spotify']\n",
    "        track_dict['track_uri'] = track_index_id\n",
    "        track_dict['neighbor_distance'] = neighbors.distance\n",
    "        results.append(track_dict)\n",
    "\n",
    "    return results"
   ]
  },
  {
   "cell_type": "markdown",
   "id": "b98c4be0-ef5a-4004-8d36-0f617fb7d144",
   "metadata": {},
   "source": [
    "### Muscle Shoals Test"
   ]
  },
  {
   "cell_type": "code",
   "execution_count": 144,
   "id": "6e36ab45-48f6-4283-945f-b7c009e7c991",
   "metadata": {},
   "outputs": [
    {
     "name": "stdout",
     "output_type": "stream",
     "text": [
      "spotify:track:7eUDMQAudTPMUP766rZ90N\n",
      "spotify:track:7sKoHCtHYMqUA7SBwZFGaq\n",
      "spotify:track:1pfNFUzZIhwPx1m9eqOlfX\n",
      "spotify:track:6sjsrOD8fgYg1K4oWrlXH3\n",
      "spotify:track:6Qsk1VAuuOzJNmIJ9GtDk9\n",
      "spotify:track:012GkdJdpax04j6llSlAVY\n",
      "spotify:track:25kXhsMguNGnSVWPxsd34Z\n",
      "spotify:track:0ikhKa5Su4Lq4luc2EQpY3\n",
      "spotify:track:2ugxxlY8ukD5eINjz2Jvti\n",
      "spotify:track:20GlNYgJviItWPirfz7kfx\n",
      "Elapsed Time: 0.63\n"
     ]
    },
    {
     "data": {
      "text/plain": [
       "[{'track_name': 'After Hours',\n",
       "  'artist_name': 'Babyshambles',\n",
       "  'track_preview_url': 'https://p.scdn.co/mp3-preview/3192572c1ad42e7b7a6de3618d70847815c995c1?cid=2dce494e64a74be980138668f4402b97',\n",
       "  'track_spotify_url': 'https://open.spotify.com/track/7eUDMQAudTPMUP766rZ90N',\n",
       "  'track_uri': 'spotify:track:7eUDMQAudTPMUP766rZ90N',\n",
       "  'neighbor_distance': 8.880292892456055},\n",
       " {'track_name': 'Joy Of Nothing',\n",
       "  'artist_name': 'Foy Vance',\n",
       "  'track_preview_url': None,\n",
       "  'track_spotify_url': 'https://open.spotify.com/track/7sKoHCtHYMqUA7SBwZFGaq',\n",
       "  'track_uri': 'spotify:track:7sKoHCtHYMqUA7SBwZFGaq',\n",
       "  'neighbor_distance': 8.57666301727295},\n",
       " {'track_name': 'I Went to Your Wedding (Rerecorded)',\n",
       "  'artist_name': 'Patti Page',\n",
       "  'track_preview_url': None,\n",
       "  'track_spotify_url': 'https://open.spotify.com/track/1pfNFUzZIhwPx1m9eqOlfX',\n",
       "  'track_uri': 'spotify:track:1pfNFUzZIhwPx1m9eqOlfX',\n",
       "  'neighbor_distance': 7.165894031524658},\n",
       " {'track_name': 'Lover',\n",
       "  'artist_name': 'Stan Kenton',\n",
       "  'track_preview_url': None,\n",
       "  'track_spotify_url': 'https://open.spotify.com/track/6sjsrOD8fgYg1K4oWrlXH3',\n",
       "  'track_uri': 'spotify:track:6sjsrOD8fgYg1K4oWrlXH3',\n",
       "  'neighbor_distance': 7.15566349029541},\n",
       " {'track_name': \"Sin Doesn't Live Here Anymore\",\n",
       "  'artist_name': 'Candi Staton',\n",
       "  'track_preview_url': 'https://p.scdn.co/mp3-preview/4092f47f913bc8dedd0206a387a28d17ff55c9f7?cid=2dce494e64a74be980138668f4402b97',\n",
       "  'track_spotify_url': 'https://open.spotify.com/track/6Qsk1VAuuOzJNmIJ9GtDk9',\n",
       "  'track_uri': 'spotify:track:6Qsk1VAuuOzJNmIJ9GtDk9',\n",
       "  'neighbor_distance': 6.855305194854736},\n",
       " {'track_name': 'Fight and Fuss',\n",
       "  'artist_name': 'Josh Heinrichs',\n",
       "  'track_preview_url': 'https://p.scdn.co/mp3-preview/05494b8742aef9304fea869f260e993d90110810?cid=2dce494e64a74be980138668f4402b97',\n",
       "  'track_spotify_url': 'https://open.spotify.com/track/012GkdJdpax04j6llSlAVY',\n",
       "  'track_uri': 'spotify:track:012GkdJdpax04j6llSlAVY',\n",
       "  'neighbor_distance': 6.36189079284668},\n",
       " {'track_name': 'Bella (Acoustic)',\n",
       "  'artist_name': 'Jamie Grace',\n",
       "  'track_preview_url': None,\n",
       "  'track_spotify_url': 'https://open.spotify.com/track/25kXhsMguNGnSVWPxsd34Z',\n",
       "  'track_uri': 'spotify:track:25kXhsMguNGnSVWPxsd34Z',\n",
       "  'neighbor_distance': 6.252022743225098},\n",
       " {'track_name': 'Paper Rock Domino',\n",
       "  'artist_name': 'Sean Hayes',\n",
       "  'track_preview_url': 'https://p.scdn.co/mp3-preview/52d152cb9a5749cf33ef1877f072dc1c3826a2fe?cid=2dce494e64a74be980138668f4402b97',\n",
       "  'track_spotify_url': 'https://open.spotify.com/track/0ikhKa5Su4Lq4luc2EQpY3',\n",
       "  'track_uri': 'spotify:track:0ikhKa5Su4Lq4luc2EQpY3',\n",
       "  'neighbor_distance': 6.202551364898682},\n",
       " {'track_name': 'Action Needs An Audience',\n",
       "  'artist_name': 'Jimmy Eat World',\n",
       "  'track_preview_url': None,\n",
       "  'track_spotify_url': 'https://open.spotify.com/track/2ugxxlY8ukD5eINjz2Jvti',\n",
       "  'track_uri': 'spotify:track:2ugxxlY8ukD5eINjz2Jvti',\n",
       "  'neighbor_distance': 6.200368404388428},\n",
       " {'track_name': \"I'm Not From Here\",\n",
       "  'artist_name': 'James McMurtry',\n",
       "  'track_preview_url': 'https://p.scdn.co/mp3-preview/15fd45b7658c6c11f7ba8b7421ace998f0ffcaec?cid=2dce494e64a74be980138668f4402b97',\n",
       "  'track_spotify_url': 'https://open.spotify.com/track/20GlNYgJviItWPirfz7kfx',\n",
       "  'track_uri': 'spotify:track:20GlNYgJviItWPirfz7kfx',\n",
       "  'neighbor_distance': 6.1102399826049805}]"
      ]
     },
     "execution_count": 144,
     "metadata": {},
     "output_type": "execute_result"
    }
   ],
   "source": [
    "start_time = time.time()\n",
    "\n",
    "candidates_muscle_shoals = candidate_retrieval(TEST_QUERY_mshoals)\n",
    "results_muscle_shoals = interpret_results(candidates_muscle_shoals)\n",
    "\n",
    "end_time = time.time()\n",
    "elapsed_time = end_time - start_time\n",
    "print(f\"Elapsed Time: {round(elapsed_time, 2)}\")\n",
    "\n",
    "results_muscle_shoals"
   ]
  },
  {
   "cell_type": "markdown",
   "id": "4a08651a-9777-48e1-bcb3-4eb759d19495",
   "metadata": {},
   "source": [
    "### Disco Test"
   ]
  },
  {
   "cell_type": "code",
   "execution_count": 147,
   "id": "e061ea21-8fd7-4c87-a99d-09654637fc0f",
   "metadata": {},
   "outputs": [
    {
     "name": "stdout",
     "output_type": "stream",
     "text": [
      "spotify:track:4Cod4nd7e3lOH29SPKrYzl\n",
      "spotify:track:6x5x8DhFw1hiHFKIeGAI2S\n",
      "spotify:track:2BTxbbLJiPd1ySKtvsBgn8\n",
      "spotify:track:25kXhsMguNGnSVWPxsd34Z\n",
      "spotify:track:223oeM6IwwmmIurPkjJSmO\n",
      "spotify:track:4v4dxYXh7O27D4giuuwNhI\n",
      "spotify:track:2w4VFk9C9OvJmj7NqFmtLZ\n",
      "spotify:track:2ugxxlY8ukD5eINjz2Jvti\n",
      "spotify:track:7I29NUhmNYZgLkEq3nnp7W\n",
      "spotify:track:4d1r0CeqWIgdXj2YbFqdr4\n",
      "Elapsed Time: 0.55\n"
     ]
    },
    {
     "data": {
      "text/plain": [
       "[{'track_name': 'Objection Overruled',\n",
       "  'artist_name': 'Don Carlos',\n",
       "  'track_preview_url': None,\n",
       "  'track_spotify_url': 'https://open.spotify.com/track/4Cod4nd7e3lOH29SPKrYzl',\n",
       "  'track_uri': 'spotify:track:4Cod4nd7e3lOH29SPKrYzl',\n",
       "  'neighbor_distance': 3.7719290256500244},\n",
       " {'track_name': 'Ready',\n",
       "  'artist_name': 'Andre Saint-Albin',\n",
       "  'track_preview_url': 'https://p.scdn.co/mp3-preview/af137b9cc09f4f5dbdddd9278ffdcd9d55e590ee?cid=2dce494e64a74be980138668f4402b97',\n",
       "  'track_spotify_url': 'https://open.spotify.com/track/6x5x8DhFw1hiHFKIeGAI2S',\n",
       "  'track_uri': 'spotify:track:6x5x8DhFw1hiHFKIeGAI2S',\n",
       "  'neighbor_distance': 3.610707998275757},\n",
       " {'track_name': 'Gimme Three Steps - Live',\n",
       "  'artist_name': 'Lynyrd Skynyrd',\n",
       "  'track_preview_url': None,\n",
       "  'track_spotify_url': 'https://open.spotify.com/track/2BTxbbLJiPd1ySKtvsBgn8',\n",
       "  'track_uri': 'spotify:track:2BTxbbLJiPd1ySKtvsBgn8',\n",
       "  'neighbor_distance': 3.569955825805664},\n",
       " {'track_name': 'Bella (Acoustic)',\n",
       "  'artist_name': 'Jamie Grace',\n",
       "  'track_preview_url': None,\n",
       "  'track_spotify_url': 'https://open.spotify.com/track/25kXhsMguNGnSVWPxsd34Z',\n",
       "  'track_uri': 'spotify:track:25kXhsMguNGnSVWPxsd34Z',\n",
       "  'neighbor_distance': 3.477647542953491},\n",
       " {'track_name': 'As We Grow Old',\n",
       "  'artist_name': 'Bethesda',\n",
       "  'track_preview_url': 'https://p.scdn.co/mp3-preview/b214dbce9b6b96454821f94b06a7220e9b54173f?cid=2dce494e64a74be980138668f4402b97',\n",
       "  'track_spotify_url': 'https://open.spotify.com/track/223oeM6IwwmmIurPkjJSmO',\n",
       "  'track_uri': 'spotify:track:223oeM6IwwmmIurPkjJSmO',\n",
       "  'neighbor_distance': 3.256491184234619},\n",
       " {'track_name': 'Strike Back (From \"Fairy Tail\")',\n",
       "  'artist_name': 'I am Justice',\n",
       "  'track_preview_url': None,\n",
       "  'track_spotify_url': 'https://open.spotify.com/track/4v4dxYXh7O27D4giuuwNhI',\n",
       "  'track_uri': 'spotify:track:4v4dxYXh7O27D4giuuwNhI',\n",
       "  'neighbor_distance': 3.0845861434936523},\n",
       " {'track_name': 'Red Thread (feat. Reuben Waxwing)',\n",
       "  'artist_name': 'Spark Alaska',\n",
       "  'track_preview_url': 'https://p.scdn.co/mp3-preview/536958b1623cf2f2c64e85c2e14eaf860bfde4fc?cid=2dce494e64a74be980138668f4402b97',\n",
       "  'track_spotify_url': 'https://open.spotify.com/track/2w4VFk9C9OvJmj7NqFmtLZ',\n",
       "  'track_uri': 'spotify:track:2w4VFk9C9OvJmj7NqFmtLZ',\n",
       "  'neighbor_distance': 2.8617167472839355},\n",
       " {'track_name': 'Action Needs An Audience',\n",
       "  'artist_name': 'Jimmy Eat World',\n",
       "  'track_preview_url': None,\n",
       "  'track_spotify_url': 'https://open.spotify.com/track/2ugxxlY8ukD5eINjz2Jvti',\n",
       "  'track_uri': 'spotify:track:2ugxxlY8ukD5eINjz2Jvti',\n",
       "  'neighbor_distance': 2.7927675247192383},\n",
       " {'track_name': 'Embers',\n",
       "  'artist_name': 'Cricket Tell the Weather',\n",
       "  'track_preview_url': 'https://p.scdn.co/mp3-preview/225a2336795293cfad5815035ebe6c901d85f549?cid=2dce494e64a74be980138668f4402b97',\n",
       "  'track_spotify_url': 'https://open.spotify.com/track/7I29NUhmNYZgLkEq3nnp7W',\n",
       "  'track_uri': 'spotify:track:7I29NUhmNYZgLkEq3nnp7W',\n",
       "  'neighbor_distance': 2.7755329608917236},\n",
       " {'track_name': 'Look (Remix)',\n",
       "  'artist_name': 'Muhsinah',\n",
       "  'track_preview_url': None,\n",
       "  'track_spotify_url': 'https://open.spotify.com/track/4d1r0CeqWIgdXj2YbFqdr4',\n",
       "  'track_uri': 'spotify:track:4d1r0CeqWIgdXj2YbFqdr4',\n",
       "  'neighbor_distance': 2.727257490158081}]"
      ]
     },
     "execution_count": 147,
     "metadata": {},
     "output_type": "execute_result"
    }
   ],
   "source": [
    "start_time = time.time()\n",
    "\n",
    "candidates_disco = candidate_retrieval(TEST_QUERY_disco)\n",
    "\n",
    "results_disco = interpret_results(candidates_disco)\n",
    "\n",
    "end_time = time.time()\n",
    "elapsed_time = end_time - start_time\n",
    "print(f\"Elapsed Time: {round(elapsed_time, 2)}\")\n",
    "\n",
    "results_disco"
   ]
  },
  {
   "cell_type": "markdown",
   "id": "4d900f07-9789-4f8f-a1e8-73388c809ee1",
   "metadata": {},
   "source": [
    "### Space is the Place Test"
   ]
  },
  {
   "cell_type": "code",
   "execution_count": 148,
   "id": "d67a9f08-9436-41dc-9a47-d5faa392e291",
   "metadata": {},
   "outputs": [
    {
     "name": "stdout",
     "output_type": "stream",
     "text": [
      "spotify:track:2BTxbbLJiPd1ySKtvsBgn8\n",
      "spotify:track:7sKoHCtHYMqUA7SBwZFGaq\n",
      "spotify:track:14pce69FSX051ZFu1kcJrZ\n",
      "spotify:track:5tLOTZ6xlaPo6RhvCpZYkV\n",
      "spotify:track:1HY2o3VZgIVmJDo0xmH92L\n",
      "spotify:track:7y4f0Zzto8hLBvuIwDhYkR\n",
      "spotify:track:3Gq8CJtuJV1KlAfIJPpSDt\n",
      "spotify:track:4Cod4nd7e3lOH29SPKrYzl\n",
      "spotify:track:2w4VFk9C9OvJmj7NqFmtLZ\n",
      "spotify:track:7MgkyepnUxzlvO4z65athy\n",
      "Elapsed Time: 0.46\n"
     ]
    },
    {
     "data": {
      "text/plain": [
       "[{'track_name': 'Gimme Three Steps - Live',\n",
       "  'artist_name': 'Lynyrd Skynyrd',\n",
       "  'track_preview_url': None,\n",
       "  'track_spotify_url': 'https://open.spotify.com/track/2BTxbbLJiPd1ySKtvsBgn8',\n",
       "  'track_uri': 'spotify:track:2BTxbbLJiPd1ySKtvsBgn8',\n",
       "  'neighbor_distance': 5.380218505859375},\n",
       " {'track_name': 'Joy Of Nothing',\n",
       "  'artist_name': 'Foy Vance',\n",
       "  'track_preview_url': None,\n",
       "  'track_spotify_url': 'https://open.spotify.com/track/7sKoHCtHYMqUA7SBwZFGaq',\n",
       "  'track_uri': 'spotify:track:7sKoHCtHYMqUA7SBwZFGaq',\n",
       "  'neighbor_distance': 4.02401065826416},\n",
       " {'track_name': 'Where Do We Go',\n",
       "  'artist_name': 'Immature',\n",
       "  'track_preview_url': None,\n",
       "  'track_spotify_url': 'https://open.spotify.com/track/14pce69FSX051ZFu1kcJrZ',\n",
       "  'track_uri': 'spotify:track:14pce69FSX051ZFu1kcJrZ',\n",
       "  'neighbor_distance': 3.6826207637786865},\n",
       " {'track_name': 'Creepin (feat. Freddie Gibbs)',\n",
       "  'artist_name': 'Alex Wiley',\n",
       "  'track_preview_url': None,\n",
       "  'track_spotify_url': 'https://open.spotify.com/track/5tLOTZ6xlaPo6RhvCpZYkV',\n",
       "  'track_uri': 'spotify:track:5tLOTZ6xlaPo6RhvCpZYkV',\n",
       "  'neighbor_distance': 3.62174391746521},\n",
       " {'track_name': 'I Vow to Thee My Country',\n",
       "  'artist_name': 'Helena Blackman',\n",
       "  'track_preview_url': 'https://p.scdn.co/mp3-preview/03f4997e6326c80b78f706026f1a4049a84cb0c4?cid=2dce494e64a74be980138668f4402b97',\n",
       "  'track_spotify_url': 'https://open.spotify.com/track/1HY2o3VZgIVmJDo0xmH92L',\n",
       "  'track_uri': 'spotify:track:1HY2o3VZgIVmJDo0xmH92L',\n",
       "  'neighbor_distance': 3.546553134918213},\n",
       " {'track_name': 'The Joy of Stress',\n",
       "  'artist_name': 'Get Cape. Wear Cape. Fly',\n",
       "  'track_preview_url': None,\n",
       "  'track_spotify_url': 'https://open.spotify.com/track/7y4f0Zzto8hLBvuIwDhYkR',\n",
       "  'track_uri': 'spotify:track:7y4f0Zzto8hLBvuIwDhYkR',\n",
       "  'neighbor_distance': 3.496540069580078},\n",
       " {'track_name': 'Lucille',\n",
       "  'artist_name': 'Little Richard',\n",
       "  'track_preview_url': None,\n",
       "  'track_spotify_url': 'https://open.spotify.com/track/3Gq8CJtuJV1KlAfIJPpSDt',\n",
       "  'track_uri': 'spotify:track:3Gq8CJtuJV1KlAfIJPpSDt',\n",
       "  'neighbor_distance': 3.1124532222747803},\n",
       " {'track_name': 'Objection Overruled',\n",
       "  'artist_name': 'Don Carlos',\n",
       "  'track_preview_url': None,\n",
       "  'track_spotify_url': 'https://open.spotify.com/track/4Cod4nd7e3lOH29SPKrYzl',\n",
       "  'track_uri': 'spotify:track:4Cod4nd7e3lOH29SPKrYzl',\n",
       "  'neighbor_distance': 3.07899808883667},\n",
       " {'track_name': 'Red Thread (feat. Reuben Waxwing)',\n",
       "  'artist_name': 'Spark Alaska',\n",
       "  'track_preview_url': 'https://p.scdn.co/mp3-preview/536958b1623cf2f2c64e85c2e14eaf860bfde4fc?cid=2dce494e64a74be980138668f4402b97',\n",
       "  'track_spotify_url': 'https://open.spotify.com/track/2w4VFk9C9OvJmj7NqFmtLZ',\n",
       "  'track_uri': 'spotify:track:2w4VFk9C9OvJmj7NqFmtLZ',\n",
       "  'neighbor_distance': 2.9761922359466553},\n",
       " {'track_name': 'Crawl',\n",
       "  'artist_name': 'Lynyrd Skynyrd',\n",
       "  'track_preview_url': 'https://p.scdn.co/mp3-preview/ac1f4fb5893fa5f475e338884371565a2fe2da06?cid=2dce494e64a74be980138668f4402b97',\n",
       "  'track_spotify_url': 'https://open.spotify.com/track/7MgkyepnUxzlvO4z65athy',\n",
       "  'track_uri': 'spotify:track:7MgkyepnUxzlvO4z65athy',\n",
       "  'neighbor_distance': 2.8706552982330322}]"
      ]
     },
     "execution_count": 148,
     "metadata": {},
     "output_type": "execute_result"
    }
   ],
   "source": [
    "start_time = time.time()\n",
    "\n",
    "candidates_space_place = candidate_retrieval(TEST_QUERY_space)\n",
    "\n",
    "results_space_place = interpret_results(candidates_space_place)\n",
    "\n",
    "end_time = time.time()\n",
    "elapsed_time = end_time - start_time\n",
    "print(f\"Elapsed Time: {round(elapsed_time, 2)}\")\n",
    "\n",
    "results_space_place"
   ]
  },
  {
   "cell_type": "markdown",
   "id": "8090926f-43c5-43c4-b9b8-8428ebcb4c2b",
   "metadata": {},
   "source": [
    "### Biebs Test"
   ]
  },
  {
   "cell_type": "code",
   "execution_count": 149,
   "id": "0ab1e0ae-092a-486d-af1d-5aa4bc304d7c",
   "metadata": {},
   "outputs": [
    {
     "name": "stdout",
     "output_type": "stream",
     "text": [
      "spotify:track:1wGtESc1dV3KhY2xN2zI91\n",
      "spotify:track:2UONUN0rGMFtcOMJPWXHBp\n",
      "spotify:track:234WGrviDDBJhpsf7KzQYE\n",
      "spotify:track:3xvFTqHmlMqKjHgczCGn2C\n",
      "spotify:track:42ueD8Ul16MPyS3Q1uKZKw\n",
      "spotify:track:0d0iKb7tAJKpLZI5U6rb4W\n",
      "spotify:track:1JK3vg465jyEpFqsyKCyFk\n",
      "spotify:track:56wlUHi9IhwZzTjECaRHVd\n",
      "spotify:track:3aKba03EaKaDAtaZq8tB4C\n",
      "spotify:track:5hhk460lT2iG7pLjTDsdXf\n",
      "Elapsed Time: 0.48\n"
     ]
    },
    {
     "data": {
      "text/plain": [
       "[{'track_name': 'What If',\n",
       "  'artist_name': 'Story Untold',\n",
       "  'track_preview_url': None,\n",
       "  'track_spotify_url': 'https://open.spotify.com/track/1wGtESc1dV3KhY2xN2zI91',\n",
       "  'track_uri': 'spotify:track:1wGtESc1dV3KhY2xN2zI91',\n",
       "  'neighbor_distance': 8.3035249710083},\n",
       " {'track_name': 'Rabbit Hole',\n",
       "  'artist_name': 'The Bunny The Bear',\n",
       "  'track_preview_url': 'https://p.scdn.co/mp3-preview/9ac670df4100dddda77c1335b779a30d089e0213?cid=2dce494e64a74be980138668f4402b97',\n",
       "  'track_spotify_url': 'https://open.spotify.com/track/2UONUN0rGMFtcOMJPWXHBp',\n",
       "  'track_uri': 'spotify:track:2UONUN0rGMFtcOMJPWXHBp',\n",
       "  'neighbor_distance': 7.805734157562256},\n",
       " {'track_name': 'El Cocinero',\n",
       "  'artist_name': 'Dinastia Norteña',\n",
       "  'track_preview_url': 'https://p.scdn.co/mp3-preview/afca30a3974fa9281bc9e1506a7a9b42faf3c7ed?cid=2dce494e64a74be980138668f4402b97',\n",
       "  'track_spotify_url': 'https://open.spotify.com/track/234WGrviDDBJhpsf7KzQYE',\n",
       "  'track_uri': 'spotify:track:234WGrviDDBJhpsf7KzQYE',\n",
       "  'neighbor_distance': 7.735651969909668},\n",
       " {'track_name': \"Baby, It's Cold Outside\",\n",
       "  'artist_name': 'Lydia Liza',\n",
       "  'track_preview_url': 'https://p.scdn.co/mp3-preview/5d84b074b0f232b9d15a9f74213dc6ce34bd068d?cid=2dce494e64a74be980138668f4402b97',\n",
       "  'track_spotify_url': 'https://open.spotify.com/track/3xvFTqHmlMqKjHgczCGn2C',\n",
       "  'track_uri': 'spotify:track:3xvFTqHmlMqKjHgczCGn2C',\n",
       "  'neighbor_distance': 7.681671142578125},\n",
       " {'track_name': 'No Way',\n",
       "  'artist_name': 'Adolescents',\n",
       "  'track_preview_url': 'https://p.scdn.co/mp3-preview/7de135eef23be428bd3fdc05a1cf9777e75a965f?cid=2dce494e64a74be980138668f4402b97',\n",
       "  'track_spotify_url': 'https://open.spotify.com/track/42ueD8Ul16MPyS3Q1uKZKw',\n",
       "  'track_uri': 'spotify:track:42ueD8Ul16MPyS3Q1uKZKw',\n",
       "  'neighbor_distance': 7.557042121887207},\n",
       " {'track_name': \"I'll Love You So\",\n",
       "  'artist_name': 'Above The Golden State',\n",
       "  'track_preview_url': None,\n",
       "  'track_spotify_url': 'https://open.spotify.com/track/0d0iKb7tAJKpLZI5U6rb4W',\n",
       "  'track_uri': 'spotify:track:0d0iKb7tAJKpLZI5U6rb4W',\n",
       "  'neighbor_distance': 7.530595302581787},\n",
       " {'track_name': 'Botas Manchadas',\n",
       "  'artist_name': 'Escolta De Guerra',\n",
       "  'track_preview_url': None,\n",
       "  'track_spotify_url': 'https://open.spotify.com/track/1JK3vg465jyEpFqsyKCyFk',\n",
       "  'track_uri': 'spotify:track:1JK3vg465jyEpFqsyKCyFk',\n",
       "  'neighbor_distance': 7.511327743530273},\n",
       " {'track_name': 'The Jura Wedding Reels',\n",
       "  'artist_name': 'Capercaillie',\n",
       "  'track_preview_url': None,\n",
       "  'track_spotify_url': 'https://open.spotify.com/track/56wlUHi9IhwZzTjECaRHVd',\n",
       "  'track_uri': 'spotify:track:56wlUHi9IhwZzTjECaRHVd',\n",
       "  'neighbor_distance': 7.109335422515869},\n",
       " {'track_name': 'We Run The Streets',\n",
       "  'artist_name': 'Richie Rich',\n",
       "  'track_preview_url': None,\n",
       "  'track_spotify_url': 'https://open.spotify.com/track/3aKba03EaKaDAtaZq8tB4C',\n",
       "  'track_uri': 'spotify:track:3aKba03EaKaDAtaZq8tB4C',\n",
       "  'neighbor_distance': 7.061574459075928},\n",
       " {'track_name': 'Piano Mood',\n",
       "  'artist_name': 'Piano Mood',\n",
       "  'track_preview_url': None,\n",
       "  'track_spotify_url': 'https://open.spotify.com/track/5hhk460lT2iG7pLjTDsdXf',\n",
       "  'track_uri': 'spotify:track:5hhk460lT2iG7pLjTDsdXf',\n",
       "  'neighbor_distance': 7.043233871459961}]"
      ]
     },
     "execution_count": 149,
     "metadata": {},
     "output_type": "execute_result"
    }
   ],
   "source": [
    "start_time = time.time()\n",
    "\n",
    "candidates_biebs = candidate_retrieval(TEST_QUERY_biebs)\n",
    "\n",
    "results_biebs = interpret_results(candidates_biebs)\n",
    "\n",
    "end_time = time.time()\n",
    "elapsed_time = end_time - start_time\n",
    "print(f\"Elapsed Time: {round(elapsed_time, 2)}\")\n",
    "\n",
    "results_biebs"
   ]
  },
  {
   "cell_type": "markdown",
   "id": "4a09cb2b-3f45-478e-b910-ec6fbb016e87",
   "metadata": {},
   "source": [
    "### Panic Test"
   ]
  },
  {
   "cell_type": "code",
   "execution_count": 150,
   "id": "a694d3bc-2c13-4bdb-8a2d-c25d9a161121",
   "metadata": {},
   "outputs": [
    {
     "name": "stdout",
     "output_type": "stream",
     "text": [
      "spotify:track:7eUDMQAudTPMUP766rZ90N\n",
      "spotify:track:7sKoHCtHYMqUA7SBwZFGaq\n",
      "spotify:track:2BTxbbLJiPd1ySKtvsBgn8\n",
      "spotify:track:25kXhsMguNGnSVWPxsd34Z\n",
      "spotify:track:2ugxxlY8ukD5eINjz2Jvti\n",
      "spotify:track:7MgkyepnUxzlvO4z65athy\n",
      "spotify:track:5Qo2qbhJZEWE4Go6RNC4Ee\n",
      "spotify:track:2KkqvaYudEQMQXRK8c8VTs\n",
      "spotify:track:553ZNNYDXGnBR3HGceKWNQ\n",
      "spotify:track:3Ij3BciihXLsMIlQIn0Ob2\n",
      "Elapsed Time: 0.55\n"
     ]
    },
    {
     "data": {
      "text/plain": [
       "[{'track_name': 'After Hours',\n",
       "  'artist_name': 'Babyshambles',\n",
       "  'track_preview_url': 'https://p.scdn.co/mp3-preview/3192572c1ad42e7b7a6de3618d70847815c995c1?cid=2dce494e64a74be980138668f4402b97',\n",
       "  'track_spotify_url': 'https://open.spotify.com/track/7eUDMQAudTPMUP766rZ90N',\n",
       "  'track_uri': 'spotify:track:7eUDMQAudTPMUP766rZ90N',\n",
       "  'neighbor_distance': 6.695947170257568},\n",
       " {'track_name': 'Joy Of Nothing',\n",
       "  'artist_name': 'Foy Vance',\n",
       "  'track_preview_url': None,\n",
       "  'track_spotify_url': 'https://open.spotify.com/track/7sKoHCtHYMqUA7SBwZFGaq',\n",
       "  'track_uri': 'spotify:track:7sKoHCtHYMqUA7SBwZFGaq',\n",
       "  'neighbor_distance': 6.478202819824219},\n",
       " {'track_name': 'Gimme Three Steps - Live',\n",
       "  'artist_name': 'Lynyrd Skynyrd',\n",
       "  'track_preview_url': None,\n",
       "  'track_spotify_url': 'https://open.spotify.com/track/2BTxbbLJiPd1ySKtvsBgn8',\n",
       "  'track_uri': 'spotify:track:2BTxbbLJiPd1ySKtvsBgn8',\n",
       "  'neighbor_distance': 5.356612205505371},\n",
       " {'track_name': 'Bella (Acoustic)',\n",
       "  'artist_name': 'Jamie Grace',\n",
       "  'track_preview_url': None,\n",
       "  'track_spotify_url': 'https://open.spotify.com/track/25kXhsMguNGnSVWPxsd34Z',\n",
       "  'track_uri': 'spotify:track:25kXhsMguNGnSVWPxsd34Z',\n",
       "  'neighbor_distance': 5.284612655639648},\n",
       " {'track_name': 'Action Needs An Audience',\n",
       "  'artist_name': 'Jimmy Eat World',\n",
       "  'track_preview_url': None,\n",
       "  'track_spotify_url': 'https://open.spotify.com/track/2ugxxlY8ukD5eINjz2Jvti',\n",
       "  'track_uri': 'spotify:track:2ugxxlY8ukD5eINjz2Jvti',\n",
       "  'neighbor_distance': 4.915682792663574},\n",
       " {'track_name': 'Crawl',\n",
       "  'artist_name': 'Lynyrd Skynyrd',\n",
       "  'track_preview_url': 'https://p.scdn.co/mp3-preview/ac1f4fb5893fa5f475e338884371565a2fe2da06?cid=2dce494e64a74be980138668f4402b97',\n",
       "  'track_spotify_url': 'https://open.spotify.com/track/7MgkyepnUxzlvO4z65athy',\n",
       "  'track_uri': 'spotify:track:7MgkyepnUxzlvO4z65athy',\n",
       "  'neighbor_distance': 4.612241744995117},\n",
       " {'track_name': '30 Days In The Hole - Live',\n",
       "  'artist_name': \"Gov't Mule\",\n",
       "  'track_preview_url': None,\n",
       "  'track_spotify_url': 'https://open.spotify.com/track/5Qo2qbhJZEWE4Go6RNC4Ee',\n",
       "  'track_uri': 'spotify:track:5Qo2qbhJZEWE4Go6RNC4Ee',\n",
       "  'neighbor_distance': 4.596094608306885},\n",
       " {'track_name': 'Então Tá (feat. Faktiss & Dzmnd)',\n",
       "  'artist_name': 'Sango',\n",
       "  'track_preview_url': 'https://p.scdn.co/mp3-preview/8fb48002625e12fa12fd2f3b4db05823a791bc10?cid=2dce494e64a74be980138668f4402b97',\n",
       "  'track_spotify_url': 'https://open.spotify.com/track/2KkqvaYudEQMQXRK8c8VTs',\n",
       "  'track_uri': 'spotify:track:2KkqvaYudEQMQXRK8c8VTs',\n",
       "  'neighbor_distance': 4.524798393249512},\n",
       " {'track_name': 'The Flow (Four Stories) [feat. Kaine]',\n",
       "  'artist_name': 'Jerreau',\n",
       "  'track_preview_url': 'https://p.scdn.co/mp3-preview/d8c4fbaafaa2e19a984ba70e2d8cbcc39ca6f6ca?cid=2dce494e64a74be980138668f4402b97',\n",
       "  'track_spotify_url': 'https://open.spotify.com/track/553ZNNYDXGnBR3HGceKWNQ',\n",
       "  'track_uri': 'spotify:track:553ZNNYDXGnBR3HGceKWNQ',\n",
       "  'neighbor_distance': 4.506330490112305},\n",
       " {'track_name': 'Apollo',\n",
       "  'artist_name': 'tyDi',\n",
       "  'track_preview_url': 'https://p.scdn.co/mp3-preview/c122b7d284a81e4c83232eff5474266acdac8ea8?cid=2dce494e64a74be980138668f4402b97',\n",
       "  'track_spotify_url': 'https://open.spotify.com/track/3Ij3BciihXLsMIlQIn0Ob2',\n",
       "  'track_uri': 'spotify:track:3Ij3BciihXLsMIlQIn0Ob2',\n",
       "  'neighbor_distance': 4.36002779006958}]"
      ]
     },
     "execution_count": 150,
     "metadata": {},
     "output_type": "execute_result"
    }
   ],
   "source": [
    "\n",
    "start_time = time.time()\n",
    "\n",
    "candidates_panic = candidate_retrieval(TEST_QUERY_panic)\n",
    "\n",
    "results_panic = interpret_results(candidates_panic)\n",
    "\n",
    "end_time = time.time()\n",
    "elapsed_time = end_time - start_time\n",
    "print(f\"Elapsed Time: {round(elapsed_time, 2)}\")\n",
    "\n",
    "results_panic"
   ]
  },
  {
   "cell_type": "markdown",
   "id": "59d1e94c-b6a9-45b3-ac80-cd1f9d273dab",
   "metadata": {},
   "source": [
    "## Archive"
   ]
  },
  {
   "cell_type": "code",
   "execution_count": 114,
   "id": "c8937653-64b2-4601-afed-c35b66dd8651",
   "metadata": {
    "tags": []
   },
   "outputs": [
    {
     "name": "stdout",
     "output_type": "stream",
     "text": [
      "spotify:track:7eUDMQAudTPMUP766rZ90N\n",
      "spotify:track:7sKoHCtHYMqUA7SBwZFGaq\n",
      "spotify:track:2BTxbbLJiPd1ySKtvsBgn8\n",
      "spotify:track:25kXhsMguNGnSVWPxsd34Z\n",
      "spotify:track:2ugxxlY8ukD5eINjz2Jvti\n",
      "spotify:track:7MgkyepnUxzlvO4z65athy\n",
      "spotify:track:5Qo2qbhJZEWE4Go6RNC4Ee\n",
      "spotify:track:2KkqvaYudEQMQXRK8c8VTs\n",
      "spotify:track:553ZNNYDXGnBR3HGceKWNQ\n",
      "spotify:track:3Ij3BciihXLsMIlQIn0Ob2\n"
     ]
    },
    {
     "data": {
      "text/plain": [
       "[{'track_name': 'After Hours',\n",
       "  'artist_name': 'Babyshambles',\n",
       "  'track_preview_url': 'https://p.scdn.co/mp3-preview/3192572c1ad42e7b7a6de3618d70847815c995c1?cid=2dce494e64a74be980138668f4402b97',\n",
       "  'track_spotify_url': 'https://open.spotify.com/track/7eUDMQAudTPMUP766rZ90N',\n",
       "  'track_uri': 'spotify:track:7eUDMQAudTPMUP766rZ90N',\n",
       "  'neighbor_distance': 6.695947170257568},\n",
       " {'track_name': 'Joy Of Nothing',\n",
       "  'artist_name': 'Foy Vance',\n",
       "  'track_preview_url': None,\n",
       "  'track_spotify_url': 'https://open.spotify.com/track/7sKoHCtHYMqUA7SBwZFGaq',\n",
       "  'track_uri': 'spotify:track:7sKoHCtHYMqUA7SBwZFGaq',\n",
       "  'neighbor_distance': 6.478202819824219},\n",
       " {'track_name': 'Gimme Three Steps - Live',\n",
       "  'artist_name': 'Lynyrd Skynyrd',\n",
       "  'track_preview_url': None,\n",
       "  'track_spotify_url': 'https://open.spotify.com/track/2BTxbbLJiPd1ySKtvsBgn8',\n",
       "  'track_uri': 'spotify:track:2BTxbbLJiPd1ySKtvsBgn8',\n",
       "  'neighbor_distance': 5.356612205505371},\n",
       " {'track_name': 'Bella (Acoustic)',\n",
       "  'artist_name': 'Jamie Grace',\n",
       "  'track_preview_url': None,\n",
       "  'track_spotify_url': 'https://open.spotify.com/track/25kXhsMguNGnSVWPxsd34Z',\n",
       "  'track_uri': 'spotify:track:25kXhsMguNGnSVWPxsd34Z',\n",
       "  'neighbor_distance': 5.284612655639648},\n",
       " {'track_name': 'Action Needs An Audience',\n",
       "  'artist_name': 'Jimmy Eat World',\n",
       "  'track_preview_url': None,\n",
       "  'track_spotify_url': 'https://open.spotify.com/track/2ugxxlY8ukD5eINjz2Jvti',\n",
       "  'track_uri': 'spotify:track:2ugxxlY8ukD5eINjz2Jvti',\n",
       "  'neighbor_distance': 4.915682792663574},\n",
       " {'track_name': 'Crawl',\n",
       "  'artist_name': 'Lynyrd Skynyrd',\n",
       "  'track_preview_url': 'https://p.scdn.co/mp3-preview/ac1f4fb5893fa5f475e338884371565a2fe2da06?cid=2dce494e64a74be980138668f4402b97',\n",
       "  'track_spotify_url': 'https://open.spotify.com/track/7MgkyepnUxzlvO4z65athy',\n",
       "  'track_uri': 'spotify:track:7MgkyepnUxzlvO4z65athy',\n",
       "  'neighbor_distance': 4.612241744995117},\n",
       " {'track_name': '30 Days In The Hole - Live',\n",
       "  'artist_name': \"Gov't Mule\",\n",
       "  'track_preview_url': None,\n",
       "  'track_spotify_url': 'https://open.spotify.com/track/5Qo2qbhJZEWE4Go6RNC4Ee',\n",
       "  'track_uri': 'spotify:track:5Qo2qbhJZEWE4Go6RNC4Ee',\n",
       "  'neighbor_distance': 4.596094608306885},\n",
       " {'track_name': 'Então Tá (feat. Faktiss & Dzmnd)',\n",
       "  'artist_name': 'Sango',\n",
       "  'track_preview_url': 'https://p.scdn.co/mp3-preview/8fb48002625e12fa12fd2f3b4db05823a791bc10?cid=2dce494e64a74be980138668f4402b97',\n",
       "  'track_spotify_url': 'https://open.spotify.com/track/2KkqvaYudEQMQXRK8c8VTs',\n",
       "  'track_uri': 'spotify:track:2KkqvaYudEQMQXRK8c8VTs',\n",
       "  'neighbor_distance': 4.524798393249512},\n",
       " {'track_name': 'The Flow (Four Stories) [feat. Kaine]',\n",
       "  'artist_name': 'Jerreau',\n",
       "  'track_preview_url': 'https://p.scdn.co/mp3-preview/d8c4fbaafaa2e19a984ba70e2d8cbcc39ca6f6ca?cid=2dce494e64a74be980138668f4402b97',\n",
       "  'track_spotify_url': 'https://open.spotify.com/track/553ZNNYDXGnBR3HGceKWNQ',\n",
       "  'track_uri': 'spotify:track:553ZNNYDXGnBR3HGceKWNQ',\n",
       "  'neighbor_distance': 4.506330490112305},\n",
       " {'track_name': 'Apollo',\n",
       "  'artist_name': 'tyDi',\n",
       "  'track_preview_url': 'https://p.scdn.co/mp3-preview/c122b7d284a81e4c83232eff5474266acdac8ea8?cid=2dce494e64a74be980138668f4402b97',\n",
       "  'track_spotify_url': 'https://open.spotify.com/track/3Ij3BciihXLsMIlQIn0Ob2',\n",
       "  'track_uri': 'spotify:track:3Ij3BciihXLsMIlQIn0Ob2',\n",
       "  'neighbor_distance': 4.36002779006958}]"
      ]
     },
     "execution_count": 114,
     "metadata": {},
     "output_type": "execute_result"
    }
   ],
   "source": [
    "results = []\n",
    "\n",
    "for neighbors in candidate_tracks[0]:\n",
    "    track_dict = {}\n",
    "    track_index_id = str(neighbors.id).lstrip('b').replace(\"'\",\"\")\n",
    "    print(track_index_id)\n",
    "    track_meta = sp.track(track_index_id)\n",
    "    track_dict['track_name'] = track_meta['name']\n",
    "    track_dict['artist_name'] = track_meta['artists'][0]['name']\n",
    "    track_dict['track_preview_url'] = track_meta['preview_url']\n",
    "    track_dict['track_spotify_url'] = track_meta['external_urls']['spotify']\n",
    "    track_dict['track_uri'] = track_index_id\n",
    "    track_dict['neighbor_distance'] = neighbors.distance\n",
    "    results.append(track_dict)\n",
    "    \n",
    "results"
   ]
  },
  {
   "cell_type": "code",
   "execution_count": 109,
   "id": "cbf06284-4c6f-45e8-9f09-b9a00883b681",
   "metadata": {},
   "outputs": [
    {
     "name": "stdout",
     "output_type": "stream",
     "text": [
      "track name: Apollo\n",
      "artists name: tyDi\n",
      "track preview_url: https://p.scdn.co/mp3-preview/c122b7d284a81e4c83232eff5474266acdac8ea8?cid=2dce494e64a74be980138668f4402b97\n",
      "track spotify url: https://open.spotify.com/track/3Ij3BciihXLsMIlQIn0Ob2\n"
     ]
    }
   ],
   "source": [
    "# track_test_ = 'spotify:track:7eUDMQAudTPMUP766rZ90N'\n",
    "# track_test_ = 'spotify:track:7sKoHCtHYMqUA7SBwZFGaq'\n",
    "# track_test_ = 'spotify:track:2BTxbbLJiPd1ySKtvsBgn8'\n",
    "# track_test_ = 'spotify:track:25kXhsMguNGnSVWPxsd34Z'\n",
    "# track_test_ = 'spotify:track:2ugxxlY8ukD5eINjz2Jvti'\n",
    "# track_test_ = 'spotify:track:7MgkyepnUxzlvO4z65athy'\n",
    "# track_test_ = 'spotify:track:5Qo2qbhJZEWE4Go6RNC4Ee'\n",
    "# track_test_ = 'spotify:track:2KkqvaYudEQMQXRK8c8VTs'\n",
    "# track_test_ = 'spotify:track:553ZNNYDXGnBR3HGceKWNQ'\n",
    "track_test_ = 'spotify:track:3Ij3BciihXLsMIlQIn0Ob2'\n",
    "track_meta = sp.track(track_test_)\n",
    "print(f\"track name: {track_meta['name']}\")\n",
    "print(f\"artists name: {track_meta['artists'][0]['name']}\")\n",
    "print(f\"track preview_url: {track_meta['preview_url']}\")\n",
    "print(f\"track spotify url: {track_meta['external_urls']['spotify']}\")"
   ]
  },
  {
   "cell_type": "markdown",
   "id": "ab2199a6-7989-4879-8dfc-170b09dc3403",
   "metadata": {},
   "source": [
    "## Testing trade-offs: latency vs recall"
   ]
  },
  {
   "cell_type": "code",
   "execution_count": null,
   "id": "721a7f68-bb4a-4a2d-a5c2-4b013ae63a8c",
   "metadata": {},
   "outputs": [],
   "source": [
    "# from time import time\n",
    "\n",
    "start_time = time.time()\n",
    "\n",
    "end_time = time.time()\n",
    "elapsed_time = end_time - start_time\n",
    "print(f\"Elapsed Time: {round(elapsed_time, 2)}\")"
   ]
  },
  {
   "cell_type": "code",
   "execution_count": null,
   "id": "d2872889-129b-46af-a5c2-034e4fcc844d",
   "metadata": {},
   "outputs": [],
   "source": []
  },
  {
   "cell_type": "code",
   "execution_count": null,
   "id": "a91298e1-f97b-4437-9eb2-58b4dabedf0c",
   "metadata": {},
   "outputs": [],
   "source": []
  },
  {
   "cell_type": "code",
   "execution_count": null,
   "id": "5cf08a71-3b61-43a0-8d03-07e8f6d71441",
   "metadata": {},
   "outputs": [],
   "source": []
  }
 ],
 "metadata": {
  "environment": {
   "kernel": "python3",
   "name": "tf2-gpu.2-10.m103",
   "type": "gcloud",
   "uri": "gcr.io/deeplearning-platform-release/tf2-gpu.2-10:m103"
  },
  "kernelspec": {
   "display_name": "Python 3 (ipykernel)",
   "language": "python",
   "name": "python3"
  },
  "language_info": {
   "codemirror_mode": {
    "name": "ipython",
    "version": 3
   },
   "file_extension": ".py",
   "mimetype": "text/x-python",
   "name": "python",
   "nbconvert_exporter": "python",
   "pygments_lexer": "ipython3",
   "version": "3.7.12"
  }
 },
 "nbformat": 4,
 "nbformat_minor": 5
}
