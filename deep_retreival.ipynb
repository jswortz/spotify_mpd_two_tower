{
 "cells": [
  {
   "cell_type": "markdown",
   "id": "1d5383b2-071e-45b8-af2c-2421eb4f923a",
   "metadata": {},
   "source": [
    "# Two - Tower Retreival Model\n",
    "\n",
    "### Key resources:\n",
    "* Many pages [here](https://www.tensorflow.org/recommenders/examples/deep_recommenders) include great techniques to build custom TFRS Models\n",
    "\n",
    "### Goals:\n",
    "* Show how to model off of most data types \n",
    "  * (String, Existing Embeddings (vectors), \n",
    "  * Floats (Normalized), \n",
    "  * Categorical with vocab, \n",
    "  * High Dim Categorical (Embed)\n",
    "* Leverage class templates to create custom 2 Tower Models quick/easy"
   ]
  },
  {
   "cell_type": "markdown",
   "id": "92d52e5f-a13b-46a7-849a-dc188b455a86",
   "metadata": {},
   "source": [
    "## SPOTIFY Create the tensorflow.io interface for the event and product table in Bigquery\n",
    "Best practices from Google are in this blog post"
   ]
  },
  {
   "cell_type": "code",
   "execution_count": 402,
   "id": "de3122eb-564b-46f9-9a50-851d19301521",
   "metadata": {},
   "outputs": [],
   "source": [
    "# set variables\n",
    "DROPOUT = False\n",
    "DROPOUT_RATE = 0.2\n",
    "EMBEDDING_DIM = 64\n",
    "MAX_TOKENS = 100_000\n",
    "BATCH_SIZE = 256\n",
    "ARCH = [128, 64]\n",
    "NUM_EPOCHS = 1\n",
    "SEED = 41781897\n",
    "PROJECT_ID = 'jtotten-project'\n",
    "DROP_FIELDS = ['pid', 'track_uri', 'artist_uri', 'album_uri']"
   ]
  },
  {
   "cell_type": "markdown",
   "id": "77c50a06-d69d-4d64-b254-26fb2a249fcf",
   "metadata": {
    "tags": []
   },
   "source": [
    "#### Quick counts on training data\n",
    "\n"
   ]
  },
  {
   "cell_type": "markdown",
   "id": "9c5e1473-4a2d-4778-9f01-e2b76672a9f5",
   "metadata": {},
   "source": [
    "#### Quick counts on the training records for track"
   ]
  },
  {
   "cell_type": "code",
   "execution_count": 403,
   "id": "eaa56927-6722-43f9-88ac-ab638487164e",
   "metadata": {},
   "outputs": [
    {
     "name": "stderr",
     "output_type": "stream",
     "text": [
      "Query complete after 0.00s: 100%|██████████| 1/1 [00:00<00:00, 990.16query/s] \n",
      "Downloading: 100%|██████████| 1/1 [00:00<00:00,  1.17rows/s]\n"
     ]
    },
    {
     "data": {
      "text/html": [
       "<div>\n",
       "<style scoped>\n",
       "    .dataframe tbody tr th:only-of-type {\n",
       "        vertical-align: middle;\n",
       "    }\n",
       "\n",
       "    .dataframe tbody tr th {\n",
       "        vertical-align: top;\n",
       "    }\n",
       "\n",
       "    .dataframe thead th {\n",
       "        text-align: right;\n",
       "    }\n",
       "</style>\n",
       "<table border=\"1\" class=\"dataframe\">\n",
       "  <thead>\n",
       "    <tr style=\"text-align: right;\">\n",
       "      <th></th>\n",
       "      <th>f0_</th>\n",
       "    </tr>\n",
       "  </thead>\n",
       "  <tbody>\n",
       "    <tr>\n",
       "      <th>0</th>\n",
       "      <td>66346428</td>\n",
       "    </tr>\n",
       "  </tbody>\n",
       "</table>\n",
       "</div>"
      ],
      "text/plain": [
       "        f0_\n",
       "0  66346428"
      ]
     },
     "execution_count": 403,
     "metadata": {},
     "output_type": "execute_result"
    }
   ],
   "source": [
    "%%bigquery\n",
    "select count(1) from jtotten-project.spotify_mpd.playlists"
   ]
  },
  {
   "cell_type": "markdown",
   "id": "bd3ee0aa-1c6d-47f0-a3a8-236c7a072ee6",
   "metadata": {
    "tags": []
   },
   "source": [
    "#### Same with playlist"
   ]
  },
  {
   "cell_type": "markdown",
   "id": "031039fa-decd-4396-a9ad-89f300a01f25",
   "metadata": {},
   "source": [
    "#### Quick counts (this time playlists) on the training records for track"
   ]
  },
  {
   "cell_type": "code",
   "execution_count": 404,
   "id": "c56750aa-be5c-4f4f-8b5b-4b8277e2a838",
   "metadata": {},
   "outputs": [
    {
     "name": "stderr",
     "output_type": "stream",
     "text": [
      "Query complete after 0.00s: 100%|██████████| 1/1 [00:00<00:00, 1395.31query/s]\n",
      "Downloading: 100%|██████████| 1/1 [00:00<00:00,  1.31rows/s]\n"
     ]
    },
    {
     "data": {
      "text/html": [
       "<div>\n",
       "<style scoped>\n",
       "    .dataframe tbody tr th:only-of-type {\n",
       "        vertical-align: middle;\n",
       "    }\n",
       "\n",
       "    .dataframe tbody tr th {\n",
       "        vertical-align: top;\n",
       "    }\n",
       "\n",
       "    .dataframe thead th {\n",
       "        text-align: right;\n",
       "    }\n",
       "</style>\n",
       "<table border=\"1\" class=\"dataframe\">\n",
       "  <thead>\n",
       "    <tr style=\"text-align: right;\">\n",
       "      <th></th>\n",
       "      <th>f0_</th>\n",
       "    </tr>\n",
       "  </thead>\n",
       "  <tbody>\n",
       "    <tr>\n",
       "      <th>0</th>\n",
       "      <td>2261490</td>\n",
       "    </tr>\n",
       "  </tbody>\n",
       "</table>\n",
       "</div>"
      ],
      "text/plain": [
       "       f0_\n",
       "0  2261490"
      ]
     },
     "execution_count": 404,
     "metadata": {},
     "output_type": "execute_result"
    }
   ],
   "source": [
    "%%bigquery\n",
    "select count(1) from jtotten-project.spotify_mpd.track_audio"
   ]
  },
  {
   "cell_type": "markdown",
   "id": "f4710f67-de96-401b-8a0c-abb05dd62c40",
   "metadata": {},
   "source": [
    "### Set the tf.io pipelines function from bigquery\n",
    "\n",
    "[Great blog post here on it](https://towardsdatascience.com/how-to-read-bigquery-data-from-tensorflow-2-0-efficiently-9234b69165c8)"
   ]
  },
  {
   "cell_type": "code",
   "execution_count": 405,
   "id": "7db86c9f-5454-4629-80ba-c0273fca117d",
   "metadata": {},
   "outputs": [],
   "source": [
    "import tensorflow as tf\n",
    "from tensorflow.python.framework import dtypes\n",
    "from tensorflow_io.bigquery import BigQueryClient\n",
    "from tensorflow_io.bigquery import BigQueryReadSession\n",
    "import warnings\n",
    "warnings.filterwarnings(\"ignore\") #do this b/c there's an info-level bug that can safely be ignored\n",
    "import json\n",
    "import tensorflow as tf\n",
    "import tensorflow_recommenders as tfrs\n",
    "\n",
    "\n",
    "def bq_to_tfdata(client, row_restriction, table_id, col_names, col_types, dataset, batch_size=BATCH_SIZE):\n",
    "    TABLE_ID = table_id\n",
    "    COL_NAMES = col_names\n",
    "    COL_TYPES = col_types\n",
    "    DATASET = dataset\n",
    "    bqsession = client.read_session(\n",
    "        \"projects/\" + PROJECT_ID,\n",
    "        PROJECT_ID, TABLE_ID, DATASET,\n",
    "        COL_NAMES, COL_TYPES,\n",
    "        requested_streams=2,\n",
    "        row_restriction=row_restriction)\n",
    "    dataset = bqsession.parallel_read_rows()\n",
    "    return dataset.prefetch(1).shuffle(batch_size*10).batch(batch_size)"
   ]
  },
  {
   "cell_type": "markdown",
   "id": "88e45e8d-3113-4528-9d71-8afdfd922d4f",
   "metadata": {},
   "source": [
    "## Get the song metadata\n",
    "\n",
    "To get a pipeline working we need the metadata for the table along with the table information. The following functions are helpers that give us the metadata into the proper types for `tf`\n",
    "\n",
    "\n",
    "For each table id, programatically get\n",
    "* Column names\n",
    "* Column types"
   ]
  },
  {
   "cell_type": "code",
   "execution_count": 406,
   "id": "abcf9098-fd4c-4d00-9e84-8658a620b848",
   "metadata": {},
   "outputs": [
    {
     "name": "stderr",
     "output_type": "stream",
     "text": [
      "Query complete after 0.00s: 100%|██████████| 1/1 [00:00<00:00, 773.57query/s]                          \n",
      "Downloading: 100%|██████████| 2/2 [00:00<00:00,  2.60rows/s]\n"
     ]
    }
   ],
   "source": [
    "%%bigquery schema\n",
    "SELECT * FROM jtotten-project.spotify_mpd.INFORMATION_SCHEMA.TABLES\n",
    "where table_name in ('track_audio', 'playlists_track_string');"
   ]
  },
  {
   "cell_type": "code",
   "execution_count": 407,
   "id": "402d9cd0-a837-418a-aa7d-8ba8350c6940",
   "metadata": {},
   "outputs": [
    {
     "data": {
      "text/html": [
       "<div>\n",
       "<style scoped>\n",
       "    .dataframe tbody tr th:only-of-type {\n",
       "        vertical-align: middle;\n",
       "    }\n",
       "\n",
       "    .dataframe tbody tr th {\n",
       "        vertical-align: top;\n",
       "    }\n",
       "\n",
       "    .dataframe thead th {\n",
       "        text-align: right;\n",
       "    }\n",
       "</style>\n",
       "<table border=\"1\" class=\"dataframe\">\n",
       "  <thead>\n",
       "    <tr style=\"text-align: right;\">\n",
       "      <th></th>\n",
       "      <th>table_catalog</th>\n",
       "      <th>table_schema</th>\n",
       "      <th>table_name</th>\n",
       "      <th>table_type</th>\n",
       "      <th>is_insertable_into</th>\n",
       "      <th>is_typed</th>\n",
       "      <th>creation_time</th>\n",
       "      <th>base_table_catalog</th>\n",
       "      <th>base_table_schema</th>\n",
       "      <th>base_table_name</th>\n",
       "      <th>snapshot_time_ms</th>\n",
       "      <th>ddl</th>\n",
       "    </tr>\n",
       "  </thead>\n",
       "  <tbody>\n",
       "    <tr>\n",
       "      <th>0</th>\n",
       "      <td>jtotten-project</td>\n",
       "      <td>spotify_mpd</td>\n",
       "      <td>track_audio</td>\n",
       "      <td>BASE TABLE</td>\n",
       "      <td>YES</td>\n",
       "      <td>NO</td>\n",
       "      <td>2022-04-06 17:46:25.801000+00:00</td>\n",
       "      <td>None</td>\n",
       "      <td>None</td>\n",
       "      <td>None</td>\n",
       "      <td>NaT</td>\n",
       "      <td>CREATE TABLE `jtotten-project.spotify_mpd.trac...</td>\n",
       "    </tr>\n",
       "    <tr>\n",
       "      <th>1</th>\n",
       "      <td>jtotten-project</td>\n",
       "      <td>spotify_mpd</td>\n",
       "      <td>playlists_track_string</td>\n",
       "      <td>BASE TABLE</td>\n",
       "      <td>YES</td>\n",
       "      <td>NO</td>\n",
       "      <td>2022-04-22 22:50:46.601000+00:00</td>\n",
       "      <td>None</td>\n",
       "      <td>None</td>\n",
       "      <td>None</td>\n",
       "      <td>NaT</td>\n",
       "      <td>CREATE TABLE `jtotten-project.spotify_mpd.play...</td>\n",
       "    </tr>\n",
       "  </tbody>\n",
       "</table>\n",
       "</div>"
      ],
      "text/plain": [
       "     table_catalog table_schema              table_name  table_type  \\\n",
       "0  jtotten-project  spotify_mpd             track_audio  BASE TABLE   \n",
       "1  jtotten-project  spotify_mpd  playlists_track_string  BASE TABLE   \n",
       "\n",
       "  is_insertable_into is_typed                    creation_time  \\\n",
       "0                YES       NO 2022-04-06 17:46:25.801000+00:00   \n",
       "1                YES       NO 2022-04-22 22:50:46.601000+00:00   \n",
       "\n",
       "  base_table_catalog base_table_schema base_table_name snapshot_time_ms  \\\n",
       "0               None              None            None              NaT   \n",
       "1               None              None            None              NaT   \n",
       "\n",
       "                                                 ddl  \n",
       "0  CREATE TABLE `jtotten-project.spotify_mpd.trac...  \n",
       "1  CREATE TABLE `jtotten-project.spotify_mpd.play...  "
      ]
     },
     "execution_count": 407,
     "metadata": {},
     "output_type": "execute_result"
    }
   ],
   "source": [
    "schema # we will get the fields out of the ddl field"
   ]
  },
  {
   "cell_type": "markdown",
   "id": "bd72e820-d1d7-48f9-902d-ad63be9b74fb",
   "metadata": {},
   "source": [
    "## Helper functions to pull metadata from ddl statements"
   ]
  },
  {
   "cell_type": "code",
   "execution_count": 408,
   "id": "09e90599-b0e7-41e6-a6e7-99d6668ead55",
   "metadata": {},
   "outputs": [],
   "source": [
    "# Function to convert string type representation to tf data types\n",
    "\n",
    "def conv_dtype_to_tf(dtype_str):\n",
    "    if dtype_str == 'FLOAT64':\n",
    "        return dtypes.float64\n",
    "    elif dtype_str == 'INT64':\n",
    "        return dtypes.int64\n",
    "    else: \n",
    "        return dtypes.string\n",
    "        \n",
    "def get_metadata_from_ddl(ddl, drop_field=None):\n",
    "    fields = []\n",
    "    types = []\n",
    "    ddl = ddl.values[0]\n",
    "    for line in ddl.splitlines():\n",
    "        if line[:1] == ' ': #only pull indented lines for the fields\n",
    "            # drop the comma\n",
    "            line = line.replace(',','')\n",
    "            space_delim = line.split(' ')\n",
    "            if space_delim[2] in drop_field:\n",
    "                pass\n",
    "            else:\n",
    "                fields.append(space_delim[2])\n",
    "                types.append(conv_dtype_to_tf(space_delim[3]))\n",
    "    return fields, types\n",
    "\n",
    "\n",
    "track_audio_fields, track_audio_types = get_metadata_from_ddl(schema.ddl[schema.table_name == 'track_audio'], DROP_FIELDS)\n",
    "playlist_fields, playlist_types = get_metadata_from_ddl(schema.ddl[schema.table_name == 'playlists_track_string'], DROP_FIELDS) "
   ]
  },
  {
   "cell_type": "code",
   "execution_count": 409,
   "id": "4fd06cfb-66c6-4a18-9e5d-22352317da83",
   "metadata": {},
   "outputs": [
    {
     "name": "stdout",
     "output_type": "stream",
     "text": [
      "name : <dtype: 'string'>\n",
      "collaborative : <dtype: 'string'>\n",
      "modified_at : <dtype: 'int64'>\n",
      "num_tracks : <dtype: 'int64'>\n",
      "num_albums : <dtype: 'int64'>\n",
      "num_followers : <dtype: 'int64'>\n",
      "tracks : <dtype: 'string'>\n",
      "num_edits : <dtype: 'int64'>\n",
      "duration_ms : <dtype: 'int64'>\n",
      "num_artists : <dtype: 'int64'>\n",
      "description : <dtype: 'string'>\n"
     ]
    }
   ],
   "source": [
    "# Quick check on data\n",
    "for a, b in zip(playlist_fields, playlist_types):\n",
    "    print(a +\" : \" + str(b))"
   ]
  },
  {
   "cell_type": "code",
   "execution_count": 410,
   "id": "c4667a86-574c-4484-a331-8c9c7ae6fbf6",
   "metadata": {},
   "outputs": [
    {
     "name": "stdout",
     "output_type": "stream",
     "text": [
      "artist_name : <dtype: 'string'>\n",
      "track_name : <dtype: 'string'>\n",
      "album_name : <dtype: 'string'>\n",
      "name : <dtype: 'string'>\n",
      "danceability : <dtype: 'float64'>\n",
      "energy : <dtype: 'float64'>\n",
      "key : <dtype: 'float64'>\n",
      "loudness : <dtype: 'float64'>\n",
      "mode : <dtype: 'float64'>\n",
      "speechiness : <dtype: 'float64'>\n",
      "acousticness : <dtype: 'float64'>\n",
      "instrumentalness : <dtype: 'float64'>\n",
      "liveness : <dtype: 'float64'>\n",
      "valence : <dtype: 'float64'>\n",
      "tempo : <dtype: 'float64'>\n",
      "type : <dtype: 'string'>\n",
      "id : <dtype: 'string'>\n",
      "uri : <dtype: 'string'>\n",
      "track_href : <dtype: 'string'>\n",
      "analysis_url : <dtype: 'string'>\n",
      "time_signature : <dtype: 'float64'>\n",
      "artist_pop : <dtype: 'int64'>\n",
      "track_pop : <dtype: 'string'>\n",
      "genres : <dtype: 'string'>\n",
      "duration_ms : <dtype: 'int64'>\n"
     ]
    }
   ],
   "source": [
    "# Quick check on data\n",
    "for a, b in zip(track_audio_fields, track_audio_types):\n",
    "    print(a +\" : \" + str(b))\n",
    "    \n",
    "DROP_TRACK_AUDIO_FIELDS = ['pid', 'track_uri', 'artist_uri', 'album_uri']"
   ]
  },
  {
   "cell_type": "markdown",
   "id": "6b94ebf1-0080-4cd5-be46-c72af9d3a0e5",
   "metadata": {},
   "source": [
    "### Now the helper functions are set. Below tf.data pipelines are created from bigquery"
   ]
  },
  {
   "cell_type": "code",
   "execution_count": 411,
   "id": "311dd38e-94c3-4bef-b4b0-e051ba529530",
   "metadata": {},
   "outputs": [],
   "source": [
    "track_train_pipeline = bq_to_tfdata(BigQueryClient(), row_restriction=None, table_id = 'track_audio'\n",
    "                                    , col_names=track_audio_fields, col_types=track_audio_types, dataset='spotify_mpd', batch_size=1) #we will change to BATCH_SIZE after we test "
   ]
  },
  {
   "cell_type": "code",
   "execution_count": 412,
   "id": "e49e5cd5-7f73-419d-9c09-8495e09decab",
   "metadata": {},
   "outputs": [
    {
     "name": "stderr",
     "output_type": "stream",
     "text": [
      "2022-04-23 22:47:52.086736: E tensorflow/core/framework/dataset.cc:577] UNIMPLEMENTED: Cannot compute input sources for dataset of type IO>BigQueryDataset, because the dataset does not implement `InputDatasets`.\n",
      "2022-04-23 22:47:52.086783: E tensorflow/core/framework/dataset.cc:581] UNIMPLEMENTED: Cannot merge options for dataset of type IO>BigQueryDataset, because the dataset does not implement `InputDatasets`.\n",
      "2022-04-23 22:47:52.087160: E tensorflow/core/framework/dataset.cc:577] UNIMPLEMENTED: Cannot compute input sources for dataset of type IO>BigQueryDataset, because the dataset does not implement `InputDatasets`.\n",
      "2022-04-23 22:47:52.087201: E tensorflow/core/framework/dataset.cc:581] UNIMPLEMENTED: Cannot merge options for dataset of type IO>BigQueryDataset, because the dataset does not implement `InputDatasets`.\n"
     ]
    },
    {
     "name": "stdout",
     "output_type": "stream",
     "text": [
      "OrderedDict([('acousticness', <tf.Tensor: shape=(1,), dtype=float64, numpy=array([0.993])>), ('album_name', <tf.Tensor: shape=(1,), dtype=string, numpy=array([b'Fundo Musical'], dtype=object)>), ('analysis_url', <tf.Tensor: shape=(1,), dtype=string, numpy=\n",
      "array([b'https://api.spotify.com/v1/audio-analysis/2V3MAaxLBbS370RqeXpc72'],\n",
      "      dtype=object)>), ('artist_name', <tf.Tensor: shape=(1,), dtype=string, numpy=array([b'Fundo Musical Latino Star'], dtype=object)>), ('artist_pop', <tf.Tensor: shape=(1,), dtype=int64, numpy=array([0])>), ('danceability', <tf.Tensor: shape=(1,), dtype=float64, numpy=array([0.609])>), ('duration_ms', <tf.Tensor: shape=(1,), dtype=int64, numpy=array([337525])>), ('energy', <tf.Tensor: shape=(1,), dtype=float64, numpy=array([0.103])>), ('genres', <tf.Tensor: shape=(1,), dtype=string, numpy=array([b'unknown'], dtype=object)>), ('id', <tf.Tensor: shape=(1,), dtype=string, numpy=array([b'2V3MAaxLBbS370RqeXpc72'], dtype=object)>), ('instrumentalness', <tf.Tensor: shape=(1,), dtype=float64, numpy=array([0.945])>), ('key', <tf.Tensor: shape=(1,), dtype=float64, numpy=array([0.])>), ('liveness', <tf.Tensor: shape=(1,), dtype=float64, numpy=array([0.118])>), ('loudness', <tf.Tensor: shape=(1,), dtype=float64, numpy=array([-19.045])>), ('mode', <tf.Tensor: shape=(1,), dtype=float64, numpy=array([0.])>), ('name', <tf.Tensor: shape=(1,), dtype=string, numpy=array([b'Dinner'], dtype=object)>), ('speechiness', <tf.Tensor: shape=(1,), dtype=float64, numpy=array([0.0473])>), ('tempo', <tf.Tensor: shape=(1,), dtype=float64, numpy=array([139.933])>), ('time_signature', <tf.Tensor: shape=(1,), dtype=float64, numpy=array([4.])>), ('track_href', <tf.Tensor: shape=(1,), dtype=string, numpy=\n",
      "array([b'https://api.spotify.com/v1/tracks/2V3MAaxLBbS370RqeXpc72'],\n",
      "      dtype=object)>), ('track_name', <tf.Tensor: shape=(1,), dtype=string, numpy=array([b'Romantic Background Music'], dtype=object)>), ('track_pop', <tf.Tensor: shape=(1,), dtype=string, numpy=array([b'0'], dtype=object)>), ('type', <tf.Tensor: shape=(1,), dtype=string, numpy=array([b'audio_features'], dtype=object)>), ('uri', <tf.Tensor: shape=(1,), dtype=string, numpy=array([b'spotify:track:2V3MAaxLBbS370RqeXpc72'], dtype=object)>), ('valence', <tf.Tensor: shape=(1,), dtype=float64, numpy=array([0.495])>)])\n"
     ]
    }
   ],
   "source": [
    "### Validate we are getting records\n",
    "\n",
    "for line in track_train_pipeline.take(1):\n",
    "    print(line) #should come out based on batch size"
   ]
  },
  {
   "cell_type": "code",
   "execution_count": 413,
   "id": "4e3c14a9-a269-4bc5-a198-5270ac0faa92",
   "metadata": {},
   "outputs": [],
   "source": [
    "playlist_types[-1] = dtypes.string #try manually setting the dtype for the tracks nested column"
   ]
  },
  {
   "cell_type": "code",
   "execution_count": 516,
   "id": "4fb806df-3f54-4785-a063-9a416e487ec4",
   "metadata": {},
   "outputs": [
    {
     "name": "stderr",
     "output_type": "stream",
     "text": [
      "2022-04-24 01:55:03.612855: E tensorflow/core/framework/dataset.cc:577] UNIMPLEMENTED: Cannot compute input sources for dataset of type IO>BigQueryDataset, because the dataset does not implement `InputDatasets`.\n",
      "2022-04-24 01:55:03.612908: E tensorflow/core/framework/dataset.cc:581] UNIMPLEMENTED: Cannot merge options for dataset of type IO>BigQueryDataset, because the dataset does not implement `InputDatasets`.\n",
      "2022-04-24 01:55:03.613285: E tensorflow/core/framework/dataset.cc:577] UNIMPLEMENTED: Cannot compute input sources for dataset of type IO>BigQueryDataset, because the dataset does not implement `InputDatasets`.\n",
      "2022-04-24 01:55:03.613323: E tensorflow/core/framework/dataset.cc:581] UNIMPLEMENTED: Cannot merge options for dataset of type IO>BigQueryDataset, because the dataset does not implement `InputDatasets`.\n"
     ]
    },
    {
     "name": "stdout",
     "output_type": "stream",
     "text": [
      "OrderedDict([('collaborative', <tf.Tensor: shape=(1,), dtype=string, numpy=array([b'true'], dtype=object)>), ('description', <tf.Tensor: shape=(1,), dtype=string, numpy=array([b''], dtype=object)>), ('duration_ms', <tf.Tensor: shape=(1,), dtype=int64, numpy=array([12300276])>), ('modified_at', <tf.Tensor: shape=(1,), dtype=int64, numpy=array([1418256000])>), ('name', <tf.Tensor: shape=(1,), dtype=string, numpy=array([b'DIVA'], dtype=object)>), ('num_albums', <tf.Tensor: shape=(1,), dtype=int64, numpy=array([34])>), ('num_artists', <tf.Tensor: shape=(1,), dtype=int64, numpy=array([17])>), ('num_edits', <tf.Tensor: shape=(1,), dtype=int64, numpy=array([16])>), ('num_followers', <tf.Tensor: shape=(1,), dtype=int64, numpy=array([1])>), ('num_tracks', <tf.Tensor: shape=(1,), dtype=int64, numpy=array([51])>), ('tracks', <tf.Tensor: shape=(1,), dtype=string, numpy=\n",
      "array([b'[{\\'pos\\': 0, \\'artist_name\\': \\'Lianne La Havas\\', \\'track_uri\\': \\'spotify:track:77fhhezMh8llUQ4ma1RBsr\\', \\'artist_uri\\': \\'spotify:artist:2RP4pPHTXlQpDnO9LvR7Yt\\', \\'track_name\\': \\'Is Your Love Big Enough?\\', \\'album_uri\\': \\'spotify:album:5202ndVOTQnaBapl3YjNme\\', \\'duration_ms\\': 201653, \\'album_name\\': \\'Is Your Love Big Enough?\\'}, {\\'pos\\': 1, \\'artist_name\\': \\'Mariah Carey\\', \\'track_uri\\': \\'spotify:track:3IcIIZMMS7UArJJPtEHXG8\\', \\'artist_uri\\': \\'spotify:artist:4iHNK0tOyZPYnBU7nGAgpQ\\', \\'track_name\\': \\'Obsessed\\', \\'album_uri\\': \\'spotify:album:3RPImDZ7Ihh5YR5iJh1gH1\\', \\'duration_ms\\': 242200, \\'album_name\\': \\'Memoirs of an imperfect Angel\\'}, {\\'pos\\': 2, \\'artist_name\\': \\'Get The Look Project\\', \\'track_uri\\': \\'spotify:track:5BOTyIv8ZLg2UlVKeU1wnp\\', \\'artist_uri\\': \\'spotify:artist:6KQpFhxx1Th6O7bxmkMYad\\', \\'track_name\\': \"Let\\'s Hear It for the Boy\", \\'album_uri\\': \\'spotify:album:5LZcIwf7BLDHOhfmTbRhcZ\\', \\'duration_ms\\': 260000, \\'album_name\\': \\'Great Disco Hits! Best Covers Vol.4\\'}, {\\'pos\\': 3, \\'artist_name\\': \\'Mariah Carey\\', \\'track_uri\\': \\'spotify:track:6lWiUIMSExoXW0wLkznwSo\\', \\'artist_uri\\': \\'spotify:artist:4iHNK0tOyZPYnBU7nGAgpQ\\', \\'track_name\\': \"It\\'s Like That\", \\'album_uri\\': \\'spotify:album:2OFEeb1ruGsR1pARO4oM3C\\', \\'duration_ms\\': 203360, \\'album_name\\': \\'The Emancipation of Mimi\\'}, {\\'pos\\': 4, \\'artist_name\\': \\'Beyonc\\xc3\\xa9\\', \\'track_uri\\': \\'spotify:track:1gNbbWh6nYYw0zKB4LuGUi\\', \\'artist_uri\\': \\'spotify:artist:6vWDO969PvNqNYHIOW5v0m\\', \\'track_name\\': \\'Naughty Girl\\', \\'album_uri\\': \\'spotify:album:25hVFAxTlDvXbx2X2QkUkE\\', \\'duration_ms\\': 208600, \\'album_name\\': \\'Dangerously In Love (Alben f\\xc3\\xbcr die Ewigkeit)\\'}, {\\'pos\\': 5, \\'artist_name\\': \\'Rihanna\\', \\'track_uri\\': \\'spotify:track:57mKcbEq7nMqtJ4gqJvWcp\\', \\'artist_uri\\': \\'spotify:artist:5pKCCKE2ajJHZ9KAiaK11H\\', \\'track_name\\': \\'Talk That Talk\\', \\'album_uri\\': \\'spotify:album:1Kw1bVd07oRqcjrcjQKC8T\\', \\'duration_ms\\': 209600, \\'album_name\\': \\'Talk That Talk\\'}, {\\'pos\\': 6, \\'artist_name\\': \\'Mariah Carey\\', \\'track_uri\\': \\'spotify:track:3LmvfNUQtglbTrydsdIqFU\\', \\'artist_uri\\': \\'spotify:artist:4iHNK0tOyZPYnBU7nGAgpQ\\', \\'track_name\\': \\'We Belong Together\\', \\'album_uri\\': \\'spotify:album:43iBTEWECK7hSnE0p6GgNo\\', \\'duration_ms\\': 201400, \\'album_name\\': \\'The Emancipation of Mimi\\'}, {\\'pos\\': 7, \\'artist_name\\': \\'Whitney Houston\\', \\'track_uri\\': \\'spotify:track:5tdKaKLnC4SgtDZ6RlWeal\\', \\'artist_uri\\': \\'spotify:artist:6XpaIBNiVzIetEPCWDvAFP\\', \\'track_name\\': \\'How Will I Know\\', \\'album_uri\\': \\'spotify:album:2MH37enG6IPvNK5QFLyKes\\', \\'duration_ms\\': 275533, \\'album_name\\': \\'Whitney Houston\\'}, {\\'pos\\': 8, \\'artist_name\\': \\'Beyonc\\xc3\\xa9\\', \\'track_uri\\': \\'spotify:track:3axkNosdVQLZiq1HakuGhc\\', \\'artist_uri\\': \\'spotify:artist:6vWDO969PvNqNYHIOW5v0m\\', \\'track_name\\': \\'Countdown\\', \\'album_uri\\': \\'spotify:album:1gIC63gC3B7o7FfpPACZQJ\\', \\'duration_ms\\': 212146, \\'album_name\\': \\'4\\'}, {\\'pos\\': 9, \\'artist_name\\': \\'Mariah Carey\\', \\'track_uri\\': \\'spotify:track:5qc2OSnuZI3k3KltIHJzWr\\', \\'artist_uri\\': \\'spotify:artist:4iHNK0tOyZPYnBU7nGAgpQ\\', \\'track_name\\': \\'How Much\\', \\'album_uri\\': \\'spotify:album:1iSTXHBhLc9ImaqyvVZGft\\', \\'duration_ms\\': 210106, \\'album_name\\': \\'Rainbow\\'}, {\\'pos\\': 10, \\'artist_name\\': \\'Mariah Carey\\', \\'track_uri\\': \\'spotify:track:5NaOWLOmVjcA3M5spRATN9\\', \\'artist_uri\\': \\'spotify:artist:4iHNK0tOyZPYnBU7nGAgpQ\\', \\'track_name\\': \\'Honey\\', \\'album_uri\\': \\'spotify:album:7aDBFWp72Pz4NZEtVBANi9\\', \\'duration_ms\\': 299826, \\'album_name\\': \\'Butterfly\\'}, {\\'pos\\': 11, \\'artist_name\\': \\'Whitney Houston\\', \\'track_uri\\': \\'spotify:track:2tUBqZG2AbRi7Q0BIrVrEj\\', \\'artist_uri\\': \\'spotify:artist:6XpaIBNiVzIetEPCWDvAFP\\', \\'track_name\\': \\'I Wanna Dance with Somebody (Who Loves Me)\\', \\'album_uri\\': \\'spotify:album:5Vdzprr5cOqXQo44eHeV7t\\', \\'duration_ms\\': 291293, \\'album_name\\': \\'Whitney\\'}, {\\'pos\\': 12, \\'artist_name\\': \\'Beyonc\\xc3\\xa9\\', \\'track_uri\\': \\'spotify:track:1z6WtY7X4HQJvzxC4UgkSf\\', \\'artist_uri\\': \\'spotify:artist:6vWDO969PvNqNYHIOW5v0m\\', \\'track_name\\': \\'Love On Top\\', \\'album_uri\\': \\'spotify:album:1gIC63gC3B7o7FfpPACZQJ\\', \\'duration_ms\\': 267413, \\'album_name\\': \\'4\\'}, {\\'pos\\': 13, \\'artist_name\\': \\'Mariah Carey\\', \\'track_uri\\': \\'spotify:track:4VKnkoNNM6yTb4cXXX3wqD\\', \\'artist_uri\\': \\'spotify:artist:4iHNK0tOyZPYnBU7nGAgpQ\\', \\'track_name\\': \\'Shake It Off\\', \\'album_uri\\': \\'spotify:album:43iBTEWECK7hSnE0p6GgNo\\', \\'duration_ms\\': 232840, \\'album_name\\': \\'The Emancipation of Mimi\\'}, {\\'pos\\': 14, \\'artist_name\\': \\'Beyonc\\xc3\\xa9\\', \\'track_uri\\': \\'spotify:track:3lBRNqXjPp2j3JMTCXDTNO\\', \\'artist_uri\\': \\'spotify:artist:6vWDO969PvNqNYHIOW5v0m\\', \\'track_name\\': \\'Best Thing I Never Had\\', \\'album_uri\\': \\'spotify:album:1gIC63gC3B7o7FfpPACZQJ\\', \\'duration_ms\\': 253746, \\'album_name\\': \\'4\\'}, {\\'pos\\': 15, \\'artist_name\\': \\'Beyonc\\xc3\\xa9\\', \\'track_uri\\': \\'spotify:track:2CvOqDpQIMw69cCzWqr5yr\\', \\'artist_uri\\': \\'spotify:artist:6vWDO969PvNqNYHIOW5v0m\\', \\'track_name\\': \\'Halo\\', \\'album_uri\\': \\'spotify:album:3ROfBX6lJLnCmaw1NrP5K9\\', \\'duration_ms\\': 261160, \\'album_name\\': \\'I AM...SASHA FIERCE - Platinum Edition\\'}, {\\'pos\\': 16, \\'artist_name\\': \\'Mariah Carey\\', \\'track_uri\\': \\'spotify:track:0jsANwwkkHyyeNyuTFq2XO\\', \\'artist_uri\\': \\'spotify:artist:4iHNK0tOyZPYnBU7nGAgpQ\\', \\'track_name\\': \\'Heartbreaker\\', \\'album_uri\\': \\'spotify:album:1iSTXHBhLc9ImaqyvVZGft\\', \\'duration_ms\\': 285706, \\'album_name\\': \\'Rainbow\\'}, {\\'pos\\': 17, \\'artist_name\\': \\'Caro Emerald\\', \\'track_uri\\': \\'spotify:track:75gJSgyAkXjzViIocoJXiY\\', \\'artist_uri\\': \\'spotify:artist:492hDmhPyuIjP3MgTcIqgm\\', \\'track_name\\': \\'A Night Like This\\', \\'album_uri\\': \\'spotify:album:4aTf4bNAGJZkkquw2rah8r\\', \\'duration_ms\\': 225933, \\'album_name\\': \\'Deleted Scenes From The Cutting Room Floor\\'}, {\\'pos\\': 18, \\'artist_name\\': \\'Beyonc\\xc3\\xa9\\', \\'track_uri\\': \\'spotify:track:1uXbwHHfgsXcUKfSZw5ZJ0\\', \\'artist_uri\\': \\'spotify:artist:6vWDO969PvNqNYHIOW5v0m\\', \\'track_name\\': \\'Run the World (Girls)\\', \\'album_uri\\': \\'spotify:album:1gIC63gC3B7o7FfpPACZQJ\\', \\'duration_ms\\': 236093, \\'album_name\\': \\'4\\'}, {\\'pos\\': 19, \\'artist_name\\': \\'Sean Paul\\', \\'track_uri\\': \\'spotify:track:29LHe8kG3PraghUZOZYsw4\\', \\'artist_uri\\': \\'spotify:artist:3Isy6kedDrgPYoTS1dazA9\\', \\'track_name\\': \\'Baby Boy (feat. Beyonce)\\', \\'album_uri\\': \\'spotify:album:3UdSdz4TjW3tjmTZE03Ehv\\', \\'duration_ms\\': 246706, \\'album_name\\': \\'Dutty Rock\\'}, {\\'pos\\': 20, \\'artist_name\\': \\'Caro Emerald\\', \\'track_uri\\': \\'spotify:track:6Fp1KkmoPIGnqCZZQVbgQS\\', \\'artist_uri\\': \\'spotify:artist:492hDmhPyuIjP3MgTcIqgm\\', \\'track_name\\': \\'Back It Up\\', \\'album_uri\\': \\'spotify:album:4aTf4bNAGJZkkquw2rah8r\\', \\'duration_ms\\': 232813, \\'album_name\\': \\'Deleted Scenes From The Cutting Room Floor\\'}, {\\'pos\\': 21, \\'artist_name\\': \\'Mariah Carey\\', \\'track_uri\\': \\'spotify:track:2aBxt229cbLDOvtL7Xbb9x\\', \\'artist_uri\\': \\'spotify:artist:4iHNK0tOyZPYnBU7nGAgpQ\\', \\'track_name\\': \\'Always Be My Baby\\', \\'album_uri\\': \\'spotify:album:1ibYM4abQtSVQFQWvDSo4J\\', \\'duration_ms\\': 258133, \\'album_name\\': \\'Daydream\\'}, {\\'pos\\': 22, \\'artist_name\\': \\'ZZ Ward\\', \\'track_uri\\': \\'spotify:track:63tqSZIWPIbNCcOb9A2gHY\\', \\'artist_uri\\': \\'spotify:artist:7aJSIsbI5wV8aFi2kkFfPi\\', \\'track_name\\': \\'Put the Gun Down\\', \\'album_uri\\': \\'spotify:album:57QGgDgbSf0Ij3QP41jF8D\\', \\'duration_ms\\': 169866, \\'album_name\\': \\'Til the Casket Drops\\'}, {\\'pos\\': 23, \\'artist_name\\': \\'Rihanna\\', \\'track_uri\\': \\'spotify:track:6DkXLzBQT7cwXmTyzAB1DJ\\', \\'artist_uri\\': \\'spotify:artist:5pKCCKE2ajJHZ9KAiaK11H\\', \\'track_name\\': \"What\\'s My Name?\", \\'album_uri\\': \\'spotify:album:5QG3tjE5L9F6O2vCAPph38\\', \\'duration_ms\\': 263173, \\'album_name\\': \\'Loud\\'}, {\\'pos\\': 24, \\'artist_name\\': \\'Caro Emerald\\', \\'track_uri\\': \\'spotify:track:6fnR4r1T8ba3k6Tl8dPpt8\\', \\'artist_uri\\': \\'spotify:artist:492hDmhPyuIjP3MgTcIqgm\\', \\'track_name\\': \\'Riviera Life\\', \\'album_uri\\': \\'spotify:album:4aTf4bNAGJZkkquw2rah8r\\', \\'duration_ms\\': 208626, \\'album_name\\': \\'Deleted Scenes From The Cutting Room Floor\\'}, {\\'pos\\': 25, \\'artist_name\\': \\'Rihanna\\', \\'track_uri\\': \\'spotify:track:4S5b3wwIXpVNvY2jeIQdKu\\', \\'artist_uri\\': \\'spotify:artist:5pKCCKE2ajJHZ9KAiaK11H\\', \\'track_name\\': \\'SOS\\', \\'album_uri\\': \\'spotify:album:1F0HfWg9fdLDdeIfh9CnjU\\', \\'duration_ms\\': 238920, \\'album_name\\': \\'A Girl Like Me\\'}, {\\'pos\\': 26, \\'artist_name\\': \\'Caro Emerald\\', \\'track_uri\\': \\'spotify:track:5HFns0jW3EIRqa8jSQqESn\\', \\'artist_uri\\': \\'spotify:artist:492hDmhPyuIjP3MgTcIqgm\\', \\'track_name\\': \\'That Man\\', \\'album_uri\\': \\'spotify:album:4aTf4bNAGJZkkquw2rah8r\\', \\'duration_ms\\': 230693, \\'album_name\\': \\'Deleted Scenes From The Cutting Room Floor\\'}, {\\'pos\\': 27, \\'artist_name\\': \\'Rihanna\\', \\'track_uri\\': \\'spotify:track:2ENexcMEMsYk0rVJigVD3i\\', \\'artist_uri\\': \\'spotify:artist:5pKCCKE2ajJHZ9KAiaK11H\\', \\'track_name\\': \\'Only Girl (In The World)\\', \\'album_uri\\': \\'spotify:album:5QG3tjE5L9F6O2vCAPph38\\', \\'duration_ms\\': 235493, \\'album_name\\': \\'Loud\\'}, {\\'pos\\': 28, \\'artist_name\\': \\'Caro Emerald\\', \\'track_uri\\': \\'spotify:track:5Pjf5APylu7YQFSEfzsSg4\\', \\'artist_uri\\': \\'spotify:artist:492hDmhPyuIjP3MgTcIqgm\\', \\'track_name\\': \\'Just One Dance\\', \\'album_uri\\': \\'spotify:album:4aTf4bNAGJZkkquw2rah8r\\', \\'duration_ms\\': 240853, \\'album_name\\': \\'Deleted Scenes From The Cutting Room Floor\\'}, {\\'pos\\': 29, \\'artist_name\\': \"Destiny\\'s Child\", \\'track_uri\\': \\'spotify:track:4pmc2AxSEq6g7hPVlJCPyP\\', \\'artist_uri\\': \\'spotify:artist:1Y8cdNmUJH7yBTd9yOvr5i\\', \\'track_name\\': \"Jumpin\\', Jumpin\\'\", \\'album_uri\\': \\'spotify:album:283NWqNsCA9GwVHrJk59CG\\', \\'duration_ms\\': 230200, \\'album_name\\': \"The Writing\\'s On The Wall\"}, {\\'pos\\': 30, \\'artist_name\\': \\'Alicia Keys\\', \\'track_uri\\': \\'spotify:track:3XVBdLihbNbxUwZosxcGuJ\\', \\'artist_uri\\': \\'spotify:artist:3DiDSECUqqY1AuBP8qtaIa\\', \\'track_name\\': \"If I Ain\\'t Got You\", \\'album_uri\\': \\'spotify:album:6TqRKHLjDu5QZuC8u5Woij\\', \\'duration_ms\\': 228706, \\'album_name\\': \\'The Diary Of Alicia Keys\\'}, {\\'pos\\': 31, \\'artist_name\\': \\'ZZ Ward\\', \\'track_uri\\': \\'spotify:track:55ABlzu9QpD20cCcfKLvCL\\', \\'artist_uri\\': \\'spotify:artist:7aJSIsbI5wV8aFi2kkFfPi\\', \\'track_name\\': \\'Til the Casket Drops\\', \\'album_uri\\': \\'spotify:album:57QGgDgbSf0Ij3QP41jF8D\\', \\'duration_ms\\': 185333, \\'album_name\\': \\'Til the Casket Drops\\'}, {\\'pos\\': 32, \\'artist_name\\': \\'Christina Aguilera\\', \\'track_uri\\': \\'spotify:track:5jaOa7ybiQjBdhoouGuNjH\\', \\'artist_uri\\': \\'spotify:artist:1l7ZsJRRS8wlW3WfJfPfNS\\', \\'track_name\\': \\'Fighter\\', \\'album_uri\\': \\'spotify:album:2019iQx5MmA6byqYqdK7zS\\', \\'duration_ms\\': 249013, \\'album_name\\': \"Keeps Gettin\\' Better: A Decade Of Hits\"}, {\\'pos\\': 33, \\'artist_name\\': \\'Rihanna\\', \\'track_uri\\': \\'spotify:track:3U3Ff8ZvL6oEu1r98gCCWW\\', \\'artist_uri\\': \\'spotify:artist:5pKCCKE2ajJHZ9KAiaK11H\\', \\'track_name\\': \\'Pon de Replay\\', \\'album_uri\\': \\'spotify:album:19UbDbyaYRW1U7lBMYO9F2\\', \\'duration_ms\\': 246960, \\'album_name\\': \\'Music Of The Sun\\'}, {\\'pos\\': 34, \\'artist_name\\': \\'Adele\\', \\'track_uri\\': \\'spotify:track:4I3KMa9p00MJwWbT0vi5iX\\', \\'artist_uri\\': \\'spotify:artist:4dpARuHxo51G3z768sgnrY\\', \\'track_name\\': \\'One And Only\\', \\'album_uri\\': \\'spotify:album:1azUkThwd2HfUDdeNeT147\\', \\'duration_ms\\': 346813, \\'album_name\\': \\'21\\'}, {\\'pos\\': 35, \\'artist_name\\': \\'Mary J. Blige\\', \\'track_uri\\': \\'spotify:track:3aw9iWUQ3VrPQltgwvN9Xu\\', \\'artist_uri\\': \\'spotify:artist:1XkoF8ryArs86LZvFOkbyr\\', \\'track_name\\': \\'Family Affair\\', \\'album_uri\\': \\'spotify:album:5QJmKwPveBV4IwLlo4OcG4\\', \\'duration_ms\\': 265866, \\'album_name\\': \\'No More Drama\\'}, {\\'pos\\': 36, \\'artist_name\\': \\'Alicia Keys\\', \\'track_uri\\': \\'spotify:track:4esOae7i4rqTbAu9o5Pxco\\', \\'artist_uri\\': \\'spotify:artist:3DiDSECUqqY1AuBP8qtaIa\\', \\'track_name\\': \\'Girl On Fire\\', \\'album_uri\\': \\'spotify:album:3zZSz5VOYSu0jE4MkPCOvN\\', \\'duration_ms\\': 224920, \\'album_name\\': \\'Girl On Fire\\'}, {\\'pos\\': 37, \\'artist_name\\': \\'Mary J. Blige\\', \\'track_uri\\': \\'spotify:track:2YegxR5As7BeQuVp2U6pek\\', \\'artist_uri\\': \\'spotify:artist:1XkoF8ryArs86LZvFOkbyr\\', \\'track_name\\': \\'Be Without You\\', \\'album_uri\\': \\'spotify:album:5cnNuunPepqlcT0VoFdLOh\\', \\'duration_ms\\': 246333, \\'album_name\\': \\'The Breakthrough\\'}, {\\'pos\\': 38, \\'artist_name\\': \\'Mary J. Blige\\', \\'track_uri\\': \\'spotify:track:3XG801WWhqC753dekEBkMt\\', \\'artist_uri\\': \\'spotify:artist:1XkoF8ryArs86LZvFOkbyr\\', \\'track_name\\': \\'Real Love\\', \\'album_uri\\': \\'spotify:album:5Q3xLiKnY4ShDuQda7qfg2\\', \\'duration_ms\\': 269973, \\'album_name\\': \"What\\'s The 411?\"}, {\\'pos\\': 39, \\'artist_name\\': \\'Adele\\', \\'track_uri\\': \\'spotify:track:76N7FdzCI9OsiUnzJVLY2m\\', \\'artist_uri\\': \\'spotify:artist:4dpARuHxo51G3z768sgnrY\\', \\'track_name\\': \\'Rumour Has It\\', \\'album_uri\\': \\'spotify:album:1azUkThwd2HfUDdeNeT147\\', \\'duration_ms\\': 221426, \\'album_name\\': \\'21\\'}, {\\'pos\\': 40, \\'artist_name\\': \\'Whitney Houston\\', \\'track_uri\\': \\'spotify:track:2tUBqZG2AbRi7Q0BIrVrEj\\', \\'artist_uri\\': \\'spotify:artist:6XpaIBNiVzIetEPCWDvAFP\\', \\'track_name\\': \\'I Wanna Dance with Somebody (Who Loves Me)\\', \\'album_uri\\': \\'spotify:album:5Vdzprr5cOqXQo44eHeV7t\\', \\'duration_ms\\': 291293, \\'album_name\\': \\'Whitney\\'}, {\\'pos\\': 41, \\'artist_name\\': \\'Beyonc\\xc3\\xa9\\', \\'track_uri\\': \\'spotify:track:5xz4NjWqe4bvIqJNzgKKPs\\', \\'artist_uri\\': \\'spotify:artist:6vWDO969PvNqNYHIOW5v0m\\', \\'track_name\\': \\'Upgrade U\\', \\'album_uri\\': \\'spotify:album:3MJHoQUI828kmB6IpjejbW\\', \\'duration_ms\\': 272706, \\'album_name\\': \"B\\'Day\"}, {\\'pos\\': 42, \\'artist_name\\': \\'ZZ Ward\\', \\'track_uri\\': \\'spotify:track:6MUkpG6aGjFo7vGKI7xYuh\\', \\'artist_uri\\': \\'spotify:artist:7aJSIsbI5wV8aFi2kkFfPi\\', \\'track_name\\': \\'Blue Eyes Blind\\', \\'album_uri\\': \\'spotify:album:57QGgDgbSf0Ij3QP41jF8D\\', \\'duration_ms\\': 204853, \\'album_name\\': \\'Til the Casket Drops\\'}, {\\'pos\\': 43, \\'artist_name\\': \\'Beyonc\\xc3\\xa9\\', \\'track_uri\\': \\'spotify:track:7LWbC1x1fd6IPHUu9yzzwE\\', \\'artist_uri\\': \\'spotify:artist:6vWDO969PvNqNYHIOW5v0m\\', \\'track_name\\': \\'Get Me Bodied\\', \\'album_uri\\': \\'spotify:album:3MJHoQUI828kmB6IpjejbW\\', \\'duration_ms\\': 205813, \\'album_name\\': \"B\\'Day\"}, {\\'pos\\': 44, \\'artist_name\\': \\'Ariana Grande\\', \\'track_uri\\': \\'spotify:track:06EL94D0TA27Ik0Ke5usbj\\', \\'artist_uri\\': \\'spotify:artist:66CXWjxzNUsdJxJ2JdwvnR\\', \\'track_name\\': \\'The Way\\', \\'album_uri\\': \\'spotify:album:5xSvNPstcxHtR4ap2vvN8A\\', \\'duration_ms\\': 227026, \\'album_name\\': \\'Yours Truly\\'}, {\\'pos\\': 45, \\'artist_name\\': \\'Ariana Grande\\', \\'track_uri\\': \\'spotify:track:6EIsMa5lbvljYxqCkjZVDi\\', \\'artist_uri\\': \\'spotify:artist:66CXWjxzNUsdJxJ2JdwvnR\\', \\'track_name\\': \\'Baby I\\', \\'album_uri\\': \\'spotify:album:5xSvNPstcxHtR4ap2vvN8A\\', \\'duration_ms\\': 197600, \\'album_name\\': \\'Yours Truly\\'}, {\\'pos\\': 46, \\'artist_name\\': \\'Karmin\\', \\'track_uri\\': \\'spotify:track:6RjW45KHJ6kgI2xQ1aFa52\\', \\'artist_uri\\': \\'spotify:artist:4M0DLz8te9Q1lNIXBBwvfG\\', \\'track_name\\': \\'Acapella\\', \\'album_uri\\': \\'spotify:album:2UvU0egYoXsysWkHqQy4Lc\\', \\'duration_ms\\': 198906, \\'album_name\\': \\'Pulses\\'}, {\\'pos\\': 47, \\'artist_name\\': \\'Rihanna\\', \\'track_uri\\': \\'spotify:track:6DkXLzBQT7cwXmTyzAB1DJ\\', \\'artist_uri\\': \\'spotify:artist:5pKCCKE2ajJHZ9KAiaK11H\\', \\'track_name\\': \"What\\'s My Name?\", \\'album_uri\\': \\'spotify:album:5QG3tjE5L9F6O2vCAPph38\\', \\'duration_ms\\': 263173, \\'album_name\\': \\'Loud\\'}, {\\'pos\\': 48, \\'artist_name\\': \\'Florence + The Machine\\', \\'track_uri\\': \\'spotify:track:1YLJVmuzeM2YSUkCCaTNUB\\', \\'artist_uri\\': \\'spotify:artist:1moxjboGR7GNWYIMWsRjgG\\', \\'track_name\\': \\'Dog Days Are Over\\', \\'album_uri\\': \\'spotify:album:2FgknX5e7fJlriQtxvpLhZ\\', \\'duration_ms\\': 251840, \\'album_name\\': \\'Lungs\\'}, {\\'pos\\': 49, \\'artist_name\\': \\'Beyonc\\xc3\\xa9\\', \\'track_uri\\': \\'spotify:track:5hgnY0mVcVetszbb85qeDg\\', \\'artist_uri\\': \\'spotify:artist:6vWDO969PvNqNYHIOW5v0m\\', \\'track_name\\': \\'Partition\\', \\'album_uri\\': \\'spotify:album:2UJwKSBUz6rtW4QLK74kQu\\', \\'duration_ms\\': 319466, \\'album_name\\': \\'BEYONC\\xc3\\x89 [Platinum Edition]\\'}, {\\'pos\\': 50, \\'artist_name\\': \\'Mary J. Blige\\', \\'track_uri\\': \\'spotify:track:5wfOL9KTrfFg3HA0fr3lej\\', \\'artist_uri\\': \\'spotify:artist:1XkoF8ryArs86LZvFOkbyr\\', \\'track_name\\': \\'Follow\\', \\'album_uri\\': \\'spotify:album:5aKquUGkicYT6NcdPrZWWC\\', \\'duration_ms\\': 248173, \\'album_name\\': \\'The London Sessions\\'}]'],\n",
      "      dtype=object)>)])\n"
     ]
    }
   ],
   "source": [
    "## Validate playlist data\n",
    "playlist_train_pipeline = bq_to_tfdata(BigQueryClient(), row_restriction=None, table_id = 'playlists_track_string'\n",
    "                                    , col_names=playlist_fields\n",
    "                                       , col_types=playlist_types\n",
    "                                       , dataset='spotify_mpd', batch_size=1)\n",
    "for line in playlist_train_pipeline.take(1):\n",
    "    print(line) #should come out based on batch size"
   ]
  },
  {
   "cell_type": "markdown",
   "id": "ae20b3a5-a553-405d-b2f5-d37af35fdc8a",
   "metadata": {},
   "source": [
    "## In pulling one record it looks like it's properly parsing a tf record"
   ]
  },
  {
   "cell_type": "code",
   "execution_count": 49,
   "id": "ed5d012a-868a-4909-9363-d062c031c18a",
   "metadata": {},
   "outputs": [],
   "source": [
    "def _bytes_feature(value):\n",
    "  \"\"\"Returns a bytes_list from a string / byte.\"\"\"\n",
    "  if isinstance(value, type(tf.constant(0))):\n",
    "    value = value.numpy() # BytesList won't unpack a string from an EagerTensor.\n",
    "  return tf.train.Feature(bytes_list=tf.train.BytesList(value=[value]))\n",
    "\n",
    "def _float_feature(value):\n",
    "  \"\"\"Returns a float_list from a float / double.\"\"\"\n",
    "  return tf.train.Feature(float_list=tf.train.FloatList(value=[value]))\n",
    "\n",
    "def _int64_feature(value):\n",
    "  \"\"\"Returns an int64_list from a bool / enum / int / uint.\"\"\"\n",
    "  return tf.train.Feature(int64_list=tf.train.Int64List(value=[value]))"
   ]
  },
  {
   "cell_type": "code",
   "execution_count": 415,
   "id": "8b37b159-34ce-4ef0-88ab-e9cc1ae7d03d",
   "metadata": {},
   "outputs": [],
   "source": [
    "# data[0].keys()#originally got the values from this\n",
    "feature_description = {'pos': tf.io.RaggedFeature(tf.int64), \n",
    "                     'artist_name':  tf.io.RaggedFeature(tf.string), \n",
    "                     'track_uri':  tf.io.RaggedFeature(tf.string), \n",
    "                     'artist_uri': tf.io.RaggedFeature(tf.string), \n",
    "                     'track_name': tf.io.RaggedFeature(tf.string), \n",
    "                     'album_uri': tf.io.RaggedFeature(tf.string),\n",
    "                     'duration_ms': tf.io.RaggedFeature(tf.int64), \n",
    "                     'album_name': tf.io.RaggedFeature(tf.string)\n",
    "                    }\n",
    "context_features = {\"name\" : tf.io.FixedLenFeature(dtype=tf.string, shape=(1)),\n",
    "                    \"collaborative\" : tf.io.FixedLenFeature(dtype=tf.string, shape=(1)),\n",
    "                    \"modified_at\" : tf.io.FixedLenFeature(dtype=tf.int64, shape=(1)),\n",
    "                    \"num_tracks\" : tf.io.FixedLenFeature(dtype=tf.int64, shape=(1)),\n",
    "                    \"num_albums\" : tf.io.FixedLenFeature(dtype=tf.int64, shape=(1)),\n",
    "                    \"num_followers\" :tf.io.FixedLenFeature(dtype=tf.int64, shape=(1)),\n",
    "                    \"num_edits\" :tf.io.FixedLenFeature(dtype=tf.int64, shape=(1)),\n",
    "                    \"duration_ms\" : tf.io.FixedLenFeature(dtype=tf.int64, shape=(1)),\n",
    "                    \"num_artists\" : tf.io.FixedLenFeature(dtype=tf.int64, shape=(1)),\n",
    "                    \"description\" : tf.io.FixedLenFeature(dtype=tf.string, shape=(1))\n",
    "                   }"
   ]
  },
  {
   "cell_type": "code",
   "execution_count": 40,
   "id": "f26af262-01da-4416-bd04-2196ecc9b567",
   "metadata": {},
   "outputs": [],
   "source": [
    "# https://www.tensorflow.org/tutorials/load_data/tfrecord"
   ]
  },
  {
   "cell_type": "code",
   "execution_count": 331,
   "id": "cdd367ae-8273-46a9-b594-543bf693d498",
   "metadata": {},
   "outputs": [],
   "source": [
    "x = []"
   ]
  },
  {
   "cell_type": "code",
   "execution_count": 482,
   "id": "43801106-6dfe-4911-907d-bd09ef3362ea",
   "metadata": {},
   "outputs": [],
   "source": [
    "import json\n",
    "\n",
    "def reader(pipeline):\n",
    "    for record in pipeline:\n",
    "        # record = tf.train.SequenceExample.FromString(record.numpy())\n",
    "        record = record.numpy()\n",
    "        record = eval((record)) #one eval to eval string, second to resolve to list of dicts\n",
    "        # record = tf.io.serialize_tensor(record)\n",
    "        # record_list = record.strip('][').split('}, ')\n",
    "        # for track in record_list:\n",
    "        #     track = track.replace(\"[{\",\"{\").replace('b\"', '').replace('}]','').replace('\\\\','').replace(\"'{\",\"{\").replace(\"}'\",\"}\")+\"}\"\n",
    "        #     try:\n",
    "        #         r = eval(track.replace('b{', '{').replace(\"''\",\"'\"))\n",
    "        #     except json.JSONDecodeError as e:\n",
    "        #         print(e, track)\n",
    "        # r = tf.train.SequenceExample.FromString(record_list)\n",
    "        yield record"
   ]
  },
  {
   "cell_type": "code",
   "execution_count": 483,
   "id": "4bc96609-ec1e-4217-b5b4-403bdbb1481a",
   "metadata": {},
   "outputs": [
    {
     "data": {
      "text/plain": [
       "{'pos': 0,\n",
       " 'artist_name': 'King Crimson',\n",
       " 'track_uri': 'spotify:track:173gp7NIXqk0MEo8K7Av4a',\n",
       " 'artist_uri': 'spotify:artist:7M1FPw29m5FbicYzS2xdpi',\n",
       " 'track_name': '21st Century Schizoid Man',\n",
       " 'album_uri': 'spotify:album:0ga8Q4tTXaFf9q3LvT8hrC',\n",
       " 'duration_ms': 657517,\n",
       " 'album_name': 'Radical Action To Unseat the Hold of Monkey Mind (Live)'}"
      ]
     },
     "execution_count": 483,
     "metadata": {},
     "output_type": "execute_result"
    }
   ],
   "source": [
    "eval(\"{'pos': 0, 'artist_name': 'King Crimson', 'track_uri': 'spotify:track:173gp7NIXqk0MEo8K7Av4a', 'artist_uri': 'spotify:artist:7M1FPw29m5FbicYzS2xdpi', 'track_name': '21st Century Schizoid Man', 'album_uri': 'spotify:album:0ga8Q4tTXaFf9q3LvT8hrC', 'duration_ms': 657517, 'album_name': 'Radical Action To Unseat the Hold of Monkey Mind (Live)'}\")"
   ]
  },
  {
   "cell_type": "code",
   "execution_count": null,
   "id": "090a101c-7882-4d88-b306-3b0c15a2a62c",
   "metadata": {},
   "outputs": [],
   "source": [
    "# data[0].keys()#originally got the values from this\n",
    "feature_description = {'pos': tf.io.RaggedFeature(tf.int64), \n",
    "                     'artist_name':  tf.io.RaggedFeature(tf.string), \n",
    "                     'track_uri':  tf.io.RaggedFeature(tf.string), \n",
    "                     'artist_uri': tf.io.RaggedFeature(tf.string), \n",
    "                     'track_name': tf.io.RaggedFeature(tf.string), \n",
    "                     'album_uri': tf.io.RaggedFeature(tf.string),\n",
    "                     'duration_ms': tf.io.RaggedFeature(tf.int64), \n",
    "                     'album_name': tf.io.RaggedFeature(tf.string)\n",
    "                    }\n",
    "context_features = {\"name\" : tf.io.FixedLenFeature(dtype=tf.string, shape=(1)),\n",
    "                    \"collaborative\" : tf.io.FixedLenFeature(dtype=tf.string, shape=(1)),\n",
    "                    \"modified_at\" : tf.io.FixedLenFeature(dtype=tf.int64, shape=(1)),\n",
    "                    \"num_tracks\" : tf.io.FixedLenFeature(dtype=tf.int64, shape=(1)),\n",
    "                    \"num_albums\" : tf.io.FixedLenFeature(dtype=tf.int64, shape=(1)),\n",
    "                    \"num_followers\" :tf.io.FixedLenFeature(dtype=tf.int64, shape=(1)),\n",
    "                    \"num_edits\" :tf.io.FixedLenFeature(dtype=tf.int64, shape=(1)),\n",
    "                    \"duration_ms\" : tf.io.FixedLenFeature(dtype=tf.int64, shape=(1)),\n",
    "                    \"num_artists\" : tf.io.FixedLenFeature(dtype=tf.int64, shape=(1)),\n",
    "                    \"description\" : tf.io.FixedLenFeature(dtype=tf.string, shape=(1))\n",
    "                   }"
   ]
  },
  {
   "cell_type": "code",
   "execution_count": 790,
   "id": "82765dec-1d18-49b5-9a9f-81cbfff56a29",
   "metadata": {},
   "outputs": [],
   "source": [
    "@tf.function\n",
    "def get_tensor_from_tracks(tensor):\n",
    "    key_list = ['pos', 'artist_name', 'track_uri', 'artist_uri', 'track_name', 'album_uri', 'duration_ms', 'album_name']\n",
    "    y = {}\n",
    "    \n",
    "    \n",
    "    tracks = tensor[\"tracks\"][0]\n",
    "    tracks = tracks.numpy()\n",
    "\n",
    "    tracks = eval(tracks)\n",
    "\n",
    "    for _ in key_list:\n",
    "        y[_] = []\n",
    "\n",
    "    for track in tracks:\n",
    "        y['pos'].append(track['pos'])\n",
    "        y['artist_name'].append(track['artist_name'].encode('utf8'))\n",
    "        y['artist_uri'].append(track['artist_uri'].encode('utf8'))\n",
    "        y['track_name'].append(track['track_name'].encode('utf8'))\n",
    "        y['album_uri'].append(track['album_uri'].encode('utf8'))\n",
    "        y['duration_ms'].append(track['duration_ms'])\n",
    "        y['album_name'].append(track['album_name'].encode('utf8'))\n",
    "        y['track_uri'].append(track['track_uri'].encode('utf8'))\n",
    "        \n",
    "\n",
    "\n",
    "\n",
    "    from tensorflow.train import BytesList, Feature, FeatureList, Int64List\n",
    "\n",
    "    # set list types\n",
    "    pos = Int64List(value=y['pos'])\n",
    "    artist_name = BytesList(value=y['artist_name'])\n",
    "    artist_uri = BytesList(value=y['artist_uri'])\n",
    "    track_name = BytesList(value=y['track_name'])\n",
    "    album_uri = BytesList(value=y['album_uri'])\n",
    "    duration_ms = Int64List(value=y['duration_ms'])\n",
    "    album_name = BytesList(value=y['album_name'])\n",
    "    track_uri = BytesList(value=y['track_uri'])\n",
    "\n",
    "    \n",
    "    sample_dict = {\n",
    "    \"name\" : Feature(bytes_list=BytesList(value=tensor['name'].numpy())),\n",
    "    \"collaborative\" : Feature(bytes_list=BytesList(value=tensor['collaborative'].numpy())),\n",
    "    \"modified_at\" : Feature(int64_list=Int64List(value=tensor['modified_at'].numpy())),\n",
    "    \"num_tracks\" : Feature(int64_list=Int64List(value=tensor['num_tracks'].numpy())),\n",
    "    \"num_albums\" : Feature(int64_list=Int64List(value=tensor['num_albums'].numpy())),\n",
    "    \"num_followers\" : Feature(int64_list=Int64List(value=tensor['num_followers'].numpy())),\n",
    "    \"num_edits\" : Feature(int64_list=Int64List(value=tensor['num_edits'].numpy())),\n",
    "    \"duration_ms\" : Feature(int64_list=Int64List(value=tensor['duration_ms'].numpy())),\n",
    "    \"num_artists\" : Feature(int64_list=Int64List(value=tensor['num_artists'].numpy())),\n",
    "    \"description\" : Feature(bytes_list=BytesList(value=tensor['description'].numpy()))\n",
    "    }\n",
    "\n",
    "    # combine feature list\n",
    "\n",
    "    fl = FeatureList(feature=[Feature(int64_list=pos), \n",
    "                              Feature(bytes_list=artist_name),\n",
    "                              Feature(bytes_list=artist_uri),\n",
    "                              Feature(bytes_list=track_name),\n",
    "                              Feature(bytes_list=album_uri),\n",
    "                              Feature(int64_list=duration_ms),\n",
    "                              Feature(bytes_list=album_name),\n",
    "                              Feature(bytes_list=track_uri)\n",
    "                             ])\n",
    "\n",
    "    from tensorflow.train import SequenceExample, FeatureLists\n",
    "    #create the sequence\n",
    "    seq = SequenceExample(context=tf.train.Features(feature=sample_dict),\n",
    "                          feature_lists=FeatureLists(feature_list={\n",
    "        \"tracks\": fl\n",
    "    }))\n",
    "    \n",
    "    return seq"
   ]
  },
  {
   "cell_type": "code",
   "execution_count": 779,
   "id": "88374067-db4d-48ae-9ca7-db6eb9d41140",
   "metadata": {},
   "outputs": [
    {
     "name": "stdout",
     "output_type": "stream",
     "text": [
      "True\n"
     ]
    }
   ],
   "source": [
    "print(tf.executing_eagerly())"
   ]
  },
  {
   "cell_type": "code",
   "execution_count": 791,
   "id": "0e2a4fc6-cdb7-4e81-abe0-d4df4d890b98",
   "metadata": {},
   "outputs": [
    {
     "name": "stderr",
     "output_type": "stream",
     "text": [
      "2022-04-24 04:33:37.227993: E tensorflow/core/framework/dataset.cc:577] UNIMPLEMENTED: Cannot compute input sources for dataset of type IO>BigQueryDataset, because the dataset does not implement `InputDatasets`.\n",
      "2022-04-24 04:33:37.228044: E tensorflow/core/framework/dataset.cc:581] UNIMPLEMENTED: Cannot merge options for dataset of type IO>BigQueryDataset, because the dataset does not implement `InputDatasets`.\n",
      "2022-04-24 04:33:37.228332: E tensorflow/core/framework/dataset.cc:577] UNIMPLEMENTED: Cannot compute input sources for dataset of type IO>BigQueryDataset, because the dataset does not implement `InputDatasets`.\n",
      "2022-04-24 04:33:37.228357: E tensorflow/core/framework/dataset.cc:581] UNIMPLEMENTED: Cannot merge options for dataset of type IO>BigQueryDataset, because the dataset does not implement `InputDatasets`.\n"
     ]
    }
   ],
   "source": [
    "tf.config.run_functions_eagerly(True)\n",
    "\n",
    "for line in playlist_train_pipeline.take(10):\n",
    "    q = get_tensor_from_tracks(line) #should come out based on batch size"
   ]
  },
  {
   "cell_type": "code",
   "execution_count": 792,
   "id": "c4e50834-d6bf-4884-9b51-5144100fcd11",
   "metadata": {},
   "outputs": [
    {
     "data": {
      "text/plain": [
       "context {\n",
       "  feature {\n",
       "    key: \"collaborative\"\n",
       "    value {\n",
       "      bytes_list {\n",
       "        value: \"false\"\n",
       "      }\n",
       "    }\n",
       "  }\n",
       "  feature {\n",
       "    key: \"description\"\n",
       "    value {\n",
       "      bytes_list {\n",
       "        value: \"\"\n",
       "      }\n",
       "    }\n",
       "  }\n",
       "  feature {\n",
       "    key: \"duration_ms\"\n",
       "    value {\n",
       "      int64_list {\n",
       "        value: 5932935\n",
       "      }\n",
       "    }\n",
       "  }\n",
       "  feature {\n",
       "    key: \"modified_at\"\n",
       "    value {\n",
       "      int64_list {\n",
       "        value: 1476403200\n",
       "      }\n",
       "    }\n",
       "  }\n",
       "  feature {\n",
       "    key: \"name\"\n",
       "    value {\n",
       "      bytes_list {\n",
       "        value: \"da best\"\n",
       "      }\n",
       "    }\n",
       "  }\n",
       "  feature {\n",
       "    key: \"num_albums\"\n",
       "    value {\n",
       "      int64_list {\n",
       "        value: 22\n",
       "      }\n",
       "    }\n",
       "  }\n",
       "  feature {\n",
       "    key: \"num_artists\"\n",
       "    value {\n",
       "      int64_list {\n",
       "        value: 19\n",
       "      }\n",
       "    }\n",
       "  }\n",
       "  feature {\n",
       "    key: \"num_edits\"\n",
       "    value {\n",
       "      int64_list {\n",
       "        value: 6\n",
       "      }\n",
       "    }\n",
       "  }\n",
       "  feature {\n",
       "    key: \"num_followers\"\n",
       "    value {\n",
       "      int64_list {\n",
       "        value: 1\n",
       "      }\n",
       "    }\n",
       "  }\n",
       "  feature {\n",
       "    key: \"num_tracks\"\n",
       "    value {\n",
       "      int64_list {\n",
       "        value: 26\n",
       "      }\n",
       "    }\n",
       "  }\n",
       "}\n",
       "feature_lists {\n",
       "  feature_list {\n",
       "    key: \"tracks\"\n",
       "    value {\n",
       "      feature {\n",
       "        int64_list {\n",
       "          value: 0\n",
       "          value: 1\n",
       "          value: 2\n",
       "          value: 3\n",
       "          value: 4\n",
       "          value: 5\n",
       "          value: 6\n",
       "          value: 7\n",
       "          value: 8\n",
       "          value: 9\n",
       "          value: 10\n",
       "          value: 11\n",
       "          value: 12\n",
       "          value: 13\n",
       "          value: 14\n",
       "          value: 15\n",
       "          value: 16\n",
       "          value: 17\n",
       "          value: 18\n",
       "          value: 19\n",
       "          value: 20\n",
       "          value: 21\n",
       "          value: 22\n",
       "          value: 23\n",
       "          value: 24\n",
       "          value: 25\n",
       "        }\n",
       "      }\n",
       "      feature {\n",
       "        bytes_list {\n",
       "          value: \"Milo Greene\"\n",
       "          value: \"Wolf Alice\"\n",
       "          value: \"The Weeknd\"\n",
       "          value: \"Sia\"\n",
       "          value: \"CHVRCHES\"\n",
       "          value: \"Florence + The Machine\"\n",
       "          value: \"Django Django\"\n",
       "          value: \"Kiesza\"\n",
       "          value: \"Kings of Convenience\"\n",
       "          value: \"Sia\"\n",
       "          value: \"The Magnetic Fields\"\n",
       "          value: \"High Highs\"\n",
       "          value: \"Florence + The Machine\"\n",
       "          value: \"Fruit Bats\"\n",
       "          value: \"Capital Cities\"\n",
       "          value: \"Childish Gambino\"\n",
       "          value: \"David Guetta\"\n",
       "          value: \"Washed Out\"\n",
       "          value: \"The Magnetic Fields\"\n",
       "          value: \"La Roux\"\n",
       "          value: \"The Magnetic Fields\"\n",
       "          value: \"Sia\"\n",
       "          value: \"Arcade Fire\"\n",
       "          value: \"The Magnetic Fields\"\n",
       "          value: \"Fruit Bats\"\n",
       "          value: \"Death Cab for Cutie\"\n",
       "        }\n",
       "      }\n",
       "      feature {\n",
       "        bytes_list {\n",
       "          value: \"spotify:artist:5euJsEvfrlfhYDorMR40OF\"\n",
       "          value: \"spotify:artist:3btzEQD6sugImIHPMRgkwV\"\n",
       "          value: \"spotify:artist:1Xyo4u8uXC1ZmMpatF05PJ\"\n",
       "          value: \"spotify:artist:5WUlDfRSoLAfcVSX1WnrxN\"\n",
       "          value: \"spotify:artist:3CjlHNtplJyTf9npxaPl5w\"\n",
       "          value: \"spotify:artist:1moxjboGR7GNWYIMWsRjgG\"\n",
       "          value: \"spotify:artist:2ARO60gI5do88ho6azmzab\"\n",
       "          value: \"spotify:artist:4zxvC7CRGvggq9EWXOpwAo\"\n",
       "          value: \"spotify:artist:41AbNVba2ccpmcc9QtOJE7\"\n",
       "          value: \"spotify:artist:5WUlDfRSoLAfcVSX1WnrxN\"\n",
       "          value: \"spotify:artist:6RWjTQqILL7a1tQ0VapyLK\"\n",
       "          value: \"spotify:artist:1cXVTtkpqSXVhyD32f9MS4\"\n",
       "          value: \"spotify:artist:1moxjboGR7GNWYIMWsRjgG\"\n",
       "          value: \"spotify:artist:6Qm9stX6XO1a4c7BXQDDgc\"\n",
       "          value: \"spotify:artist:4gwpcMTbLWtBUlOijbVpuu\"\n",
       "          value: \"spotify:artist:73sIBHcqh3Z3NyqHKZ7FOL\"\n",
       "          value: \"spotify:artist:1Cs0zKBU1kc0i8ypK3B9ai\"\n",
       "          value: \"spotify:artist:5juOkIIy18sFw9L30syt1Z\"\n",
       "          value: \"spotify:artist:6RWjTQqILL7a1tQ0VapyLK\"\n",
       "          value: \"spotify:artist:3K2zB87GZv1krx031en5VA\"\n",
       "          value: \"spotify:artist:6RWjTQqILL7a1tQ0VapyLK\"\n",
       "          value: \"spotify:artist:5WUlDfRSoLAfcVSX1WnrxN\"\n",
       "          value: \"spotify:artist:3kjuyTCjPG1WMFCiyc5IuB\"\n",
       "          value: \"spotify:artist:6RWjTQqILL7a1tQ0VapyLK\"\n",
       "          value: \"spotify:artist:6Qm9stX6XO1a4c7BXQDDgc\"\n",
       "          value: \"spotify:artist:0YrtvWJMgSdVrk3SfNjTbx\"\n",
       "        }\n",
       "      }\n",
       "      feature {\n",
       "        bytes_list {\n",
       "          value: \"1957\"\n",
       "          value: \"Bros\"\n",
       "          value: \"Can\\'t Feel My Face\"\n",
       "          value: \"Chandelier\"\n",
       "          value: \"Gun\"\n",
       "          value: \"Ship To Wreck\"\n",
       "          value: \"Hail Bop\"\n",
       "          value: \"Hideaway\"\n",
       "          value: \"I\\'d Rather Dance With You\"\n",
       "          value: \"Elastic Heart\"\n",
       "          value: \"Epitaph for My Heart\"\n",
       "          value: \"Open Season\"\n",
       "          value: \"Queen Of Peace\"\n",
       "          value: \"You\\'re Too Weird\"\n",
       "          value: \"Safe And Sound\"\n",
       "          value: \"Sober\"\n",
       "          value: \"Titanium (feat. Sia) - feat. Sia\"\n",
       "          value: \"Amor Fati\"\n",
       "          value: \"No One Will Ever Love You\"\n",
       "          value: \"I\\'m Not Your Toy\"\n",
       "          value: \"I Don\\'t Believe You\"\n",
       "          value: \"Cheap Thrills\"\n",
       "          value: \"The Suburbs\"\n",
       "          value: \"I Don\\'t Really Love You Anymore\"\n",
       "          value: \"The Ruminant Band\"\n",
       "          value: \"A Movie Script Ending\"\n",
       "        }\n",
       "      }\n",
       "      feature {\n",
       "        bytes_list {\n",
       "          value: \"spotify:album:15wQEsBsbl14I4m1yEuR8w\"\n",
       "          value: \"spotify:album:2x8iM4gT4lxudPFxfYFeL3\"\n",
       "          value: \"spotify:album:28ZKQMoNBB0etKXZ97G2SN\"\n",
       "          value: \"spotify:album:3xFSl9lIRaYXIYkIn3OIl9\"\n",
       "          value: \"spotify:album:54IMJ8S0redmP6krSlKZLD\"\n",
       "          value: \"spotify:album:2jn2n5OkuHliOLKCqHnjXV\"\n",
       "          value: \"spotify:album:2iKuaJUhHIXk8p9xNFM7d9\"\n",
       "          value: \"spotify:album:2esSZWmdzMPyQsszbsX0rr\"\n",
       "          value: \"spotify:album:5QE8eXeN0q8M7atLb1fT6c\"\n",
       "          value: \"spotify:album:3xFSl9lIRaYXIYkIn3OIl9\"\n",
       "          value: \"spotify:album:2js3lkzAjWpD656NK7ZaJX\"\n",
       "          value: \"spotify:album:1BSTw2TM5eqHtqXPZKlVmB\"\n",
       "          value: \"spotify:album:2jn2n5OkuHliOLKCqHnjXV\"\n",
       "          value: \"spotify:album:3K2sY2hmvoNszRzFCEf9fE\"\n",
       "          value: \"spotify:album:3WrufJir7I61NkvkDwxero\"\n",
       "          value: \"spotify:album:5GBcqixIFDPEom7AUNbFiM\"\n",
       "          value: \"spotify:album:1fAn5gw4Q5HN8Wpx2neYd2\"\n",
       "          value: \"spotify:album:3iyXz9aXPDdELa8lgwpJV7\"\n",
       "          value: \"spotify:album:2js3lkzAjWpD656NK7ZaJX\"\n",
       "          value: \"spotify:album:0jBkrUrXIxtaMrfAkHjXoZ\"\n",
       "          value: \"spotify:album:3XcgpvOeOVGKShSAilnoVn\"\n",
       "          value: \"spotify:album:77jAfTh3KH9K2reMOmTgOh\"\n",
       "          value: \"spotify:album:4zJBuQXo92Q7QhA5U4V8kw\"\n",
       "          value: \"spotify:album:3XcgpvOeOVGKShSAilnoVn\"\n",
       "          value: \"spotify:album:43q0uf9xW9n1oxum6FIZ56\"\n",
       "          value: \"spotify:album:7s0wEW4SB7ZJvRS2YBJnvT\"\n",
       "        }\n",
       "      }\n",
       "      feature {\n",
       "        int64_list {\n",
       "          value: 204213\n",
       "          value: 224720\n",
       "          value: 213520\n",
       "          value: 216120\n",
       "          value: 232106\n",
       "          value: 234526\n",
       "          value: 243693\n",
       "          value: 251986\n",
       "          value: 209026\n",
       "          value: 257200\n",
       "          value: 170386\n",
       "          value: 231320\n",
       "          value: 307347\n",
       "          value: 226120\n",
       "          value: 192789\n",
       "          value: 252013\n",
       "          value: 245053\n",
       "          value: 266093\n",
       "          value: 194480\n",
       "          value: 198093\n",
       "          value: 219466\n",
       "          value: 211666\n",
       "          value: 317213\n",
       "          value: 153520\n",
       "          value: 200786\n",
       "          value: 259480\n",
       "        }\n",
       "      }\n",
       "      feature {\n",
       "        bytes_list {\n",
       "          value: \"Milo Greene\"\n",
       "          value: \"My Love Is Cool\"\n",
       "          value: \"Beauty Behind The Madness\"\n",
       "          value: \"1000 Forms Of Fear\"\n",
       "          value: \"The Bones Of What You Believe\"\n",
       "          value: \"How Big, How Blue, How Beautiful\"\n",
       "          value: \"Django Django\"\n",
       "          value: \"Sound Of A Woman\"\n",
       "          value: \"Riot On An Empty Street\"\n",
       "          value: \"1000 Forms Of Fear\"\n",
       "          value: \"69 Love Songs\"\n",
       "          value: \"Open Season\"\n",
       "          value: \"How Big, How Blue, How Beautiful\"\n",
       "          value: \"Tripper\"\n",
       "          value: \"In A Tidal Wave Of Mystery\"\n",
       "          value: \"Kauai\"\n",
       "          value: \"Nothing But the Beat Ultimate\"\n",
       "          value: \"Within and Without\"\n",
       "          value: \"69 Love Songs\"\n",
       "          value: \"La Roux\"\n",
       "          value: \"i\"\n",
       "          value: \"This Is Acting\"\n",
       "          value: \"The Suburbs\"\n",
       "          value: \"i\"\n",
       "          value: \"The Ruminant Band\"\n",
       "          value: \"The Photo Album\"\n",
       "        }\n",
       "      }\n",
       "      feature {\n",
       "        bytes_list {\n",
       "          value: \"spotify:track:08cXy6KUizaAelYXtcew3w\"\n",
       "          value: \"spotify:track:3UxBQHd4uAyeAkaQUiF09q\"\n",
       "          value: \"spotify:track:6RsWqX8zABZLhZydXxEFOm\"\n",
       "          value: \"spotify:track:4VrWlk8IQxevMvERoX08iC\"\n",
       "          value: \"spotify:track:3rvtRXFWpmXJofk5i7Y1Ft\"\n",
       "          value: \"spotify:track:3dEFa9KjOLEZl980ctEEv1\"\n",
       "          value: \"spotify:track:5JnK4kM4w9NVXd9XW8JH8X\"\n",
       "          value: \"spotify:track:51tUT1gHE30GQPhn1agudM\"\n",
       "          value: \"spotify:track:4hGOhC87bn7JBdYykOJJvJ\"\n",
       "          value: \"spotify:track:6kwAbEjseqBob48jCus7Sz\"\n",
       "          value: \"spotify:track:7G969WG9KJsAT5qdc7LzW8\"\n",
       "          value: \"spotify:track:26gqzV9hj9rMBTxanzyB8l\"\n",
       "          value: \"spotify:track:6WRjufZUoxjaUNKOJ6QhWp\"\n",
       "          value: \"spotify:track:33ezCcBwVw2SsAvOsFyJSG\"\n",
       "          value: \"spotify:track:6Z8R6UsFuGXGtiIxiD8ISb\"\n",
       "          value: \"spotify:track:6olUplztLFFfU7fMYmFXOP\"\n",
       "          value: \"spotify:track:2dOTkLZFbpNXrhc24CnTFd\"\n",
       "          value: \"spotify:track:4XYxBgTd33PjJeiXnwVLwL\"\n",
       "          value: \"spotify:track:17nFBxL5ZFNRM6VnPbevxV\"\n",
       "          value: \"spotify:track:0SaJsihXgkqj0xEIbi8bnM\"\n",
       "          value: \"spotify:track:5qDXgWa9Z2HdawFOOKjCh5\"\n",
       "          value: \"spotify:track:27SdWb2rFzO6GWiYDBTD9j\"\n",
       "          value: \"spotify:track:1M5a4uGEeeptMgQB639oja\"\n",
       "          value: \"spotify:track:12K1FLxmvgASDX4Tya2mb8\"\n",
       "          value: \"spotify:track:6alwvn3MZNmCRjyoIlrjcf\"\n",
       "          value: \"spotify:track:0ZixUPF4gB7DRJLhTRL7DP\"\n",
       "        }\n",
       "      }\n",
       "    }\n",
       "  }\n",
       "}"
      ]
     },
     "execution_count": 792,
     "metadata": {},
     "output_type": "execute_result"
    }
   ],
   "source": [
    "q"
   ]
  },
  {
   "cell_type": "code",
   "execution_count": 699,
   "id": "349c0ab9-ab55-4c16-b2fd-ad9cee8f714e",
   "metadata": {},
   "outputs": [
    {
     "ename": "InvalidArgumentError",
     "evalue": "Value for attr 'T' of string is not in the list of allowed values: float, double, int32, uint8, int16, int8, int64, bfloat16, uint16, half, uint32, uint64, complex64, complex128, bool, variant\n\t; NodeDef: {{node AsString}}; Op<name=AsString; signature=input:T -> output:string; attr=T:type,allowed=[DT_FLOAT, DT_DOUBLE, DT_INT32, DT_UINT8, DT_INT16, DT_INT8, DT_INT64, DT_BFLOAT16, DT_UINT16, DT_HALF, DT_UINT32, DT_UINT64, DT_COMPLEX64, DT_COMPLEX128, DT_BOOL, DT_VARIANT]; attr=precision:int,default=-1; attr=scientific:bool,default=false; attr=shortest:bool,default=false; attr=width:int,default=-1; attr=fill:string,default=\"\"> [Op:AsString]",
     "output_type": "error",
     "traceback": [
      "\u001b[0;31m---------------------------------------------------------------------------\u001b[0m",
      "\u001b[0;31mInvalidArgumentError\u001b[0m                      Traceback (most recent call last)",
      "\u001b[0;32m/tmp/ipykernel_32132/455692584.py\u001b[0m in \u001b[0;36m<module>\u001b[0;34m\u001b[0m\n\u001b[1;32m      1\u001b[0m \u001b[0mline\u001b[0m\u001b[0;34m\u001b[0m\u001b[0;34m\u001b[0m\u001b[0m\n\u001b[1;32m      2\u001b[0m \u001b[0msplit_string_tensors\u001b[0m \u001b[0;34m=\u001b[0m \u001b[0mtf\u001b[0m\u001b[0;34m.\u001b[0m\u001b[0mstrings\u001b[0m\u001b[0;34m.\u001b[0m\u001b[0msplit\u001b[0m\u001b[0;34m(\u001b[0m\u001b[0mline\u001b[0m\u001b[0;34m,\u001b[0m \u001b[0msep\u001b[0m\u001b[0;34m=\u001b[0m\u001b[0;34m'},'\u001b[0m\u001b[0;34m)\u001b[0m\u001b[0;34m\u001b[0m\u001b[0;34m\u001b[0m\u001b[0m\n\u001b[0;32m----> 3\u001b[0;31m \u001b[0mfixed_string_tensors\u001b[0m \u001b[0;34m=\u001b[0m \u001b[0mtf\u001b[0m\u001b[0;34m.\u001b[0m\u001b[0mstrings\u001b[0m\u001b[0;34m.\u001b[0m\u001b[0mas_string\u001b[0m\u001b[0;34m(\u001b[0m\u001b[0msplit_string_tensors\u001b[0m\u001b[0;34m)\u001b[0m\u001b[0;34m\u001b[0m\u001b[0;34m\u001b[0m\u001b[0m\n\u001b[0m\u001b[1;32m      4\u001b[0m \u001b[0mfixed_string_tensors\u001b[0m\u001b[0;34m[\u001b[0m\u001b[0;36m0\u001b[0m\u001b[0;34m]\u001b[0m\u001b[0;34m[\u001b[0m\u001b[0;36m0\u001b[0m\u001b[0;34m]\u001b[0m\u001b[0;34m\u001b[0m\u001b[0;34m\u001b[0m\u001b[0m\n",
      "\u001b[0;32m~/.local/lib/python3.7/site-packages/tensorflow/python/ops/gen_string_ops.py\u001b[0m in \u001b[0;36mas_string\u001b[0;34m(input, precision, scientific, shortest, width, fill, name)\u001b[0m\n\u001b[1;32m     78\u001b[0m     \u001b[0;32mtry\u001b[0m\u001b[0;34m:\u001b[0m\u001b[0;34m\u001b[0m\u001b[0;34m\u001b[0m\u001b[0m\n\u001b[1;32m     79\u001b[0m       _result = _dispatcher_for_as_string(\n\u001b[0;32m---> 80\u001b[0;31m           (input, precision, scientific, shortest, width, fill, name,), None)\n\u001b[0m\u001b[1;32m     81\u001b[0m       \u001b[0;32mif\u001b[0m \u001b[0m_result\u001b[0m \u001b[0;32mis\u001b[0m \u001b[0;32mnot\u001b[0m \u001b[0mNotImplemented\u001b[0m\u001b[0;34m:\u001b[0m\u001b[0;34m\u001b[0m\u001b[0;34m\u001b[0m\u001b[0m\n\u001b[1;32m     82\u001b[0m         \u001b[0;32mreturn\u001b[0m \u001b[0m_result\u001b[0m\u001b[0;34m\u001b[0m\u001b[0;34m\u001b[0m\u001b[0m\n",
      "\u001b[0;32m~/.local/lib/python3.7/site-packages/tensorflow/python/util/dispatch.py\u001b[0m in \u001b[0;36mdispatch_target\u001b[0;34m(*args, **kwargs)\u001b[0m\n\u001b[1;32m    914\u001b[0m \u001b[0;34m\u001b[0m\u001b[0m\n\u001b[1;32m    915\u001b[0m     \u001b[0;32mif\u001b[0m \u001b[0mname\u001b[0m \u001b[0;32mis\u001b[0m \u001b[0;32mNone\u001b[0m\u001b[0;34m:\u001b[0m\u001b[0;34m\u001b[0m\u001b[0;34m\u001b[0m\u001b[0m\n\u001b[0;32m--> 916\u001b[0;31m       \u001b[0;32mreturn\u001b[0m \u001b[0melementwise_api_handler\u001b[0m\u001b[0;34m(\u001b[0m\u001b[0mtensor_api\u001b[0m\u001b[0;34m,\u001b[0m \u001b[0mx\u001b[0m\u001b[0;34m)\u001b[0m\u001b[0;34m\u001b[0m\u001b[0;34m\u001b[0m\u001b[0m\n\u001b[0m\u001b[1;32m    917\u001b[0m     \u001b[0;32melse\u001b[0m\u001b[0;34m:\u001b[0m\u001b[0;34m\u001b[0m\u001b[0;34m\u001b[0m\u001b[0m\n\u001b[1;32m    918\u001b[0m       \u001b[0;32mwith\u001b[0m \u001b[0mops\u001b[0m\u001b[0;34m.\u001b[0m\u001b[0mname_scope\u001b[0m\u001b[0;34m(\u001b[0m\u001b[0mname\u001b[0m\u001b[0;34m,\u001b[0m \u001b[0;32mNone\u001b[0m\u001b[0;34m,\u001b[0m \u001b[0;34m[\u001b[0m\u001b[0mx\u001b[0m\u001b[0;34m]\u001b[0m\u001b[0;34m)\u001b[0m\u001b[0;34m:\u001b[0m\u001b[0;34m\u001b[0m\u001b[0;34m\u001b[0m\u001b[0m\n",
      "\u001b[0;32m~/.local/lib/python3.7/site-packages/tensorflow/python/ops/ragged/ragged_dispatch.py\u001b[0m in \u001b[0;36mragged_unary_elementwise_op\u001b[0;34m(op, x)\u001b[0m\n\u001b[1;32m     34\u001b[0m   \u001b[0;34m\"\"\"Unary elementwise api handler for RaggedTensors.\"\"\"\u001b[0m\u001b[0;34m\u001b[0m\u001b[0;34m\u001b[0m\u001b[0m\n\u001b[1;32m     35\u001b[0m   \u001b[0mx\u001b[0m \u001b[0;34m=\u001b[0m \u001b[0mragged_tensor\u001b[0m\u001b[0;34m.\u001b[0m\u001b[0mconvert_to_tensor_or_ragged_tensor\u001b[0m\u001b[0;34m(\u001b[0m\u001b[0mx\u001b[0m\u001b[0;34m)\u001b[0m\u001b[0;34m\u001b[0m\u001b[0;34m\u001b[0m\u001b[0m\n\u001b[0;32m---> 36\u001b[0;31m   \u001b[0;32mreturn\u001b[0m \u001b[0mx\u001b[0m\u001b[0;34m.\u001b[0m\u001b[0mwith_values\u001b[0m\u001b[0;34m(\u001b[0m\u001b[0mop\u001b[0m\u001b[0;34m(\u001b[0m\u001b[0mx\u001b[0m\u001b[0;34m.\u001b[0m\u001b[0mvalues\u001b[0m\u001b[0;34m)\u001b[0m\u001b[0;34m)\u001b[0m\u001b[0;34m\u001b[0m\u001b[0;34m\u001b[0m\u001b[0m\n\u001b[0m\u001b[1;32m     37\u001b[0m \u001b[0;34m\u001b[0m\u001b[0m\n\u001b[1;32m     38\u001b[0m \u001b[0;34m\u001b[0m\u001b[0m\n",
      "\u001b[0;32m~/.local/lib/python3.7/site-packages/tensorflow/python/util/dispatch.py\u001b[0m in \u001b[0;36m<lambda>\u001b[0;34m(v)\u001b[0m\n\u001b[1;32m    909\u001b[0m \u001b[0;34m\u001b[0m\u001b[0m\n\u001b[1;32m    910\u001b[0m     \u001b[0;32mif\u001b[0m \u001b[0mneed_to_bind_api_args\u001b[0m\u001b[0;34m:\u001b[0m\u001b[0;34m\u001b[0m\u001b[0;34m\u001b[0m\u001b[0m\n\u001b[0;32m--> 911\u001b[0;31m       \u001b[0mtensor_api\u001b[0m \u001b[0;34m=\u001b[0m \u001b[0;32mlambda\u001b[0m \u001b[0mv\u001b[0m\u001b[0;34m:\u001b[0m \u001b[0mapi\u001b[0m\u001b[0;34m(\u001b[0m\u001b[0mv\u001b[0m\u001b[0;34m,\u001b[0m \u001b[0;34m*\u001b[0m\u001b[0margs\u001b[0m\u001b[0;34m,\u001b[0m \u001b[0;34m**\u001b[0m\u001b[0mkwargs\u001b[0m\u001b[0;34m)\u001b[0m\u001b[0;34m\u001b[0m\u001b[0;34m\u001b[0m\u001b[0m\n\u001b[0m\u001b[1;32m    912\u001b[0m     \u001b[0;32melse\u001b[0m\u001b[0;34m:\u001b[0m\u001b[0;34m\u001b[0m\u001b[0;34m\u001b[0m\u001b[0m\n\u001b[1;32m    913\u001b[0m       \u001b[0mtensor_api\u001b[0m \u001b[0;34m=\u001b[0m \u001b[0mapi\u001b[0m\u001b[0;34m\u001b[0m\u001b[0;34m\u001b[0m\u001b[0m\n",
      "\u001b[0;32m~/.local/lib/python3.7/site-packages/tensorflow/python/ops/gen_string_ops.py\u001b[0m in \u001b[0;36mas_string\u001b[0;34m(input, precision, scientific, shortest, width, fill, name)\u001b[0m\n\u001b[1;32m     73\u001b[0m       \u001b[0;32mreturn\u001b[0m \u001b[0m_result\u001b[0m\u001b[0;34m\u001b[0m\u001b[0;34m\u001b[0m\u001b[0m\n\u001b[1;32m     74\u001b[0m     \u001b[0;32mexcept\u001b[0m \u001b[0m_core\u001b[0m\u001b[0;34m.\u001b[0m\u001b[0m_NotOkStatusException\u001b[0m \u001b[0;32mas\u001b[0m \u001b[0me\u001b[0m\u001b[0;34m:\u001b[0m\u001b[0;34m\u001b[0m\u001b[0;34m\u001b[0m\u001b[0m\n\u001b[0;32m---> 75\u001b[0;31m       \u001b[0m_ops\u001b[0m\u001b[0;34m.\u001b[0m\u001b[0mraise_from_not_ok_status\u001b[0m\u001b[0;34m(\u001b[0m\u001b[0me\u001b[0m\u001b[0;34m,\u001b[0m \u001b[0mname\u001b[0m\u001b[0;34m)\u001b[0m\u001b[0;34m\u001b[0m\u001b[0;34m\u001b[0m\u001b[0m\n\u001b[0m\u001b[1;32m     76\u001b[0m     \u001b[0;32mexcept\u001b[0m \u001b[0m_core\u001b[0m\u001b[0;34m.\u001b[0m\u001b[0m_FallbackException\u001b[0m\u001b[0;34m:\u001b[0m\u001b[0;34m\u001b[0m\u001b[0;34m\u001b[0m\u001b[0m\n\u001b[1;32m     77\u001b[0m       \u001b[0;32mpass\u001b[0m\u001b[0;34m\u001b[0m\u001b[0;34m\u001b[0m\u001b[0m\n",
      "\u001b[0;32m~/.local/lib/python3.7/site-packages/tensorflow/python/framework/ops.py\u001b[0m in \u001b[0;36mraise_from_not_ok_status\u001b[0;34m(e, name)\u001b[0m\n\u001b[1;32m   7105\u001b[0m \u001b[0;32mdef\u001b[0m \u001b[0mraise_from_not_ok_status\u001b[0m\u001b[0;34m(\u001b[0m\u001b[0me\u001b[0m\u001b[0;34m,\u001b[0m \u001b[0mname\u001b[0m\u001b[0;34m)\u001b[0m\u001b[0;34m:\u001b[0m\u001b[0;34m\u001b[0m\u001b[0;34m\u001b[0m\u001b[0m\n\u001b[1;32m   7106\u001b[0m   \u001b[0me\u001b[0m\u001b[0;34m.\u001b[0m\u001b[0mmessage\u001b[0m \u001b[0;34m+=\u001b[0m \u001b[0;34m(\u001b[0m\u001b[0;34m\" name: \"\u001b[0m \u001b[0;34m+\u001b[0m \u001b[0mname\u001b[0m \u001b[0;32mif\u001b[0m \u001b[0mname\u001b[0m \u001b[0;32mis\u001b[0m \u001b[0;32mnot\u001b[0m \u001b[0;32mNone\u001b[0m \u001b[0;32melse\u001b[0m \u001b[0;34m\"\"\u001b[0m\u001b[0;34m)\u001b[0m\u001b[0;34m\u001b[0m\u001b[0;34m\u001b[0m\u001b[0m\n\u001b[0;32m-> 7107\u001b[0;31m   \u001b[0;32mraise\u001b[0m \u001b[0mcore\u001b[0m\u001b[0;34m.\u001b[0m\u001b[0m_status_to_exception\u001b[0m\u001b[0;34m(\u001b[0m\u001b[0me\u001b[0m\u001b[0;34m)\u001b[0m \u001b[0;32mfrom\u001b[0m \u001b[0;32mNone\u001b[0m  \u001b[0;31m# pylint: disable=protected-access\u001b[0m\u001b[0;34m\u001b[0m\u001b[0;34m\u001b[0m\u001b[0m\n\u001b[0m\u001b[1;32m   7108\u001b[0m \u001b[0;34m\u001b[0m\u001b[0m\n\u001b[1;32m   7109\u001b[0m \u001b[0;34m\u001b[0m\u001b[0m\n",
      "\u001b[0;31mInvalidArgumentError\u001b[0m: Value for attr 'T' of string is not in the list of allowed values: float, double, int32, uint8, int16, int8, int64, bfloat16, uint16, half, uint32, uint64, complex64, complex128, bool, variant\n\t; NodeDef: {{node AsString}}; Op<name=AsString; signature=input:T -> output:string; attr=T:type,allowed=[DT_FLOAT, DT_DOUBLE, DT_INT32, DT_UINT8, DT_INT16, DT_INT8, DT_INT64, DT_BFLOAT16, DT_UINT16, DT_HALF, DT_UINT32, DT_UINT64, DT_COMPLEX64, DT_COMPLEX128, DT_BOOL, DT_VARIANT]; attr=precision:int,default=-1; attr=scientific:bool,default=false; attr=shortest:bool,default=false; attr=width:int,default=-1; attr=fill:string,default=\"\"> [Op:AsString]"
     ]
    }
   ],
   "source": [
    "line\n",
    "split_string_tensors = tf.strings.split(line, sep='},')\n",
    "fixed_string_tensors = tf.strings.as_string(split_string_tensors)\n",
    "fixed_string_tensors[0][0]"
   ]
  },
  {
   "cell_type": "code",
   "execution_count": 538,
   "id": "0c4b81f0-35c2-42cd-a504-cbcf10e7e43a",
   "metadata": {},
   "outputs": [],
   "source": [
    "# data[0].keys()#originally got the values from this\n",
    "feature_description = {'pos': tf.io.RaggedFeature(tf.int64), \n",
    "                     'artist_name':  tf.io.RaggedFeature(tf.string), \n",
    "                     'track_uri':  tf.io.RaggedFeature(tf.string), \n",
    "                     'artist_uri': tf.io.RaggedFeature(tf.string), \n",
    "                     'track_name': tf.io.RaggedFeature(tf.string), \n",
    "                     'album_uri': tf.io.RaggedFeature(tf.string),\n",
    "                     'duration_ms': tf.io.RaggedFeature(tf.int64), \n",
    "                     'album_name': tf.io.RaggedFeature(tf.string)\n",
    "                    }\n",
    "context_features = {\"name\" : tf.io.FixedLenFeature(dtype=tf.string, shape=(1)),\n",
    "                    \"collaborative\" : tf.io.FixedLenFeature(dtype=tf.string, shape=(1)),\n",
    "                    \"modified_at\" : tf.io.FixedLenFeature(dtype=tf.int64, shape=(1)),\n",
    "                    \"num_tracks\" : tf.io.FixedLenFeature(dtype=tf.int64, shape=(1)),\n",
    "                    \"num_albums\" : tf.io.FixedLenFeature(dtype=tf.int64, shape=(1)),\n",
    "                    \"num_followers\" :tf.io.FixedLenFeature(dtype=tf.int64, shape=(1)),\n",
    "                    \"num_edits\" :tf.io.FixedLenFeature(dtype=tf.int64, shape=(1)),\n",
    "                    \"duration_ms\" : tf.io.FixedLenFeature(dtype=tf.int64, shape=(1)),\n",
    "                    \"num_artists\" : tf.io.FixedLenFeature(dtype=tf.int64, shape=(1)),\n",
    "                    \"description\" : tf.io.FixedLenFeature(dtype=tf.string, shape=(1))\n",
    "                   }\n",
    "\n",
    "\n",
    "\n",
    "#  feature_lists: {\n",
    "#     feature_list: {\n",
    "#       key  : \"movie_ratings\"\n",
    "#       value: {\n",
    "#         feature: {\n",
    "#           float_list: {\n",
    "#             value: [ 4.5 ]\n",
    "#           }\n",
    "#         }\n",
    "#         feature: {\n",
    "#           float_list: {\n",
    "#             value: [ 5.0 ]\n",
    "#           }\n",
    "#         }\n",
    "#       }\n",
    "#     }\n",
    "#     feature_list: {\n",
    "#       key  : \"movie_names\"\n",
    "#       value: {\n",
    "#         feature: {\n",
    "#           bytes_list: {\n",
    "#             value: [ \"The Shawshank Redemption\" ]\n",
    "#           }\n",
    "#         }\n",
    "#         feature: {\n",
    "#           bytes_list: {\n",
    "#             value: [ \"Fight Club\" ]\n",
    "#           }\n",
    "#         }\n",
    "#       }\n",
    "#     }\n",
    "#     feature_list: {\n",
    "#       key  : \"actors\"\n",
    "#       value: {\n",
    "#         feature: {\n",
    "#           bytes_list: {\n",
    "#             value: [ \"Tim Robbins\", \"Morgan Freeman\" ]\n",
    "#           }\n",
    "#         }\n",
    "#         feature: {\n",
    "#           bytes_list: {\n",
    "#             value: [ \"Brad Pitt\", \"Edward Norton\", \"Helena Bonham Carter\" ]\n",
    "#           }\n",
    "#         }\n",
    "#       }\n",
    "#     }\n",
    "#   }"
   ]
  },
  {
   "cell_type": "code",
   "execution_count": null,
   "id": "71262ed0-4379-48f9-8005-4262421b4915",
   "metadata": {},
   "outputs": [],
   "source": [
    "#formatting of message to conform to sequence example\n",
    "\n"
   ]
  },
  {
   "cell_type": "code",
   "execution_count": 418,
   "id": "82c5b871-bada-47ee-8a5e-328a2b67440a",
   "metadata": {},
   "outputs": [
    {
     "name": "stderr",
     "output_type": "stream",
     "text": [
      "2022-04-23 22:52:05.953466: W tensorflow/core/framework/op_kernel.cc:1745] OP_REQUIRES failed at example_parsing_ops.cc:480 : INVALID_ARGUMENT: Invalid protocol message input, example id: <unknown>\n"
     ]
    },
    {
     "ename": "InvalidArgumentError",
     "evalue": "Invalid protocol message input, example id: <unknown> [Op:ParseSequenceExampleV2]",
     "output_type": "error",
     "traceback": [
      "\u001b[0;31m---------------------------------------------------------------------------\u001b[0m",
      "\u001b[0;31mInvalidArgumentError\u001b[0m                      Traceback (most recent call last)",
      "\u001b[0;32m/tmp/ipykernel_32132/4261975403.py\u001b[0m in \u001b[0;36m<module>\u001b[0;34m\u001b[0m\n\u001b[0;32m----> 1\u001b[0;31m \u001b[0mtf\u001b[0m\u001b[0;34m.\u001b[0m\u001b[0mio\u001b[0m\u001b[0;34m.\u001b[0m\u001b[0mparse_sequence_example\u001b[0m\u001b[0;34m(\u001b[0m\u001b[0mstr\u001b[0m\u001b[0;34m(\u001b[0m\u001b[0mx\u001b[0m\u001b[0;34m[\u001b[0m\u001b[0;36m0\u001b[0m\u001b[0;34m]\u001b[0m\u001b[0;34m)\u001b[0m\u001b[0;34m,\u001b[0m \u001b[0msequence_features\u001b[0m\u001b[0;34m=\u001b[0m\u001b[0mfeature_description\u001b[0m\u001b[0;34m)\u001b[0m\u001b[0;34m\u001b[0m\u001b[0;34m\u001b[0m\u001b[0m\n\u001b[0m",
      "\u001b[0;32m~/.local/lib/python3.7/site-packages/tensorflow/python/util/traceback_utils.py\u001b[0m in \u001b[0;36merror_handler\u001b[0;34m(*args, **kwargs)\u001b[0m\n\u001b[1;32m    151\u001b[0m     \u001b[0;32mexcept\u001b[0m \u001b[0mException\u001b[0m \u001b[0;32mas\u001b[0m \u001b[0me\u001b[0m\u001b[0;34m:\u001b[0m\u001b[0;34m\u001b[0m\u001b[0;34m\u001b[0m\u001b[0m\n\u001b[1;32m    152\u001b[0m       \u001b[0mfiltered_tb\u001b[0m \u001b[0;34m=\u001b[0m \u001b[0m_process_traceback_frames\u001b[0m\u001b[0;34m(\u001b[0m\u001b[0me\u001b[0m\u001b[0;34m.\u001b[0m\u001b[0m__traceback__\u001b[0m\u001b[0;34m)\u001b[0m\u001b[0;34m\u001b[0m\u001b[0;34m\u001b[0m\u001b[0m\n\u001b[0;32m--> 153\u001b[0;31m       \u001b[0;32mraise\u001b[0m \u001b[0me\u001b[0m\u001b[0;34m.\u001b[0m\u001b[0mwith_traceback\u001b[0m\u001b[0;34m(\u001b[0m\u001b[0mfiltered_tb\u001b[0m\u001b[0;34m)\u001b[0m \u001b[0;32mfrom\u001b[0m \u001b[0;32mNone\u001b[0m\u001b[0;34m\u001b[0m\u001b[0;34m\u001b[0m\u001b[0m\n\u001b[0m\u001b[1;32m    154\u001b[0m     \u001b[0;32mfinally\u001b[0m\u001b[0;34m:\u001b[0m\u001b[0;34m\u001b[0m\u001b[0;34m\u001b[0m\u001b[0m\n\u001b[1;32m    155\u001b[0m       \u001b[0;32mdel\u001b[0m \u001b[0mfiltered_tb\u001b[0m\u001b[0;34m\u001b[0m\u001b[0;34m\u001b[0m\u001b[0m\n",
      "\u001b[0;32m~/.local/lib/python3.7/site-packages/tensorflow/python/eager/execute.py\u001b[0m in \u001b[0;36mquick_execute\u001b[0;34m(op_name, num_outputs, inputs, attrs, ctx, name)\u001b[0m\n\u001b[1;32m     57\u001b[0m     \u001b[0mctx\u001b[0m\u001b[0;34m.\u001b[0m\u001b[0mensure_initialized\u001b[0m\u001b[0;34m(\u001b[0m\u001b[0;34m)\u001b[0m\u001b[0;34m\u001b[0m\u001b[0;34m\u001b[0m\u001b[0m\n\u001b[1;32m     58\u001b[0m     tensors = pywrap_tfe.TFE_Py_Execute(ctx._handle, device_name, op_name,\n\u001b[0;32m---> 59\u001b[0;31m                                         inputs, attrs, num_outputs)\n\u001b[0m\u001b[1;32m     60\u001b[0m   \u001b[0;32mexcept\u001b[0m \u001b[0mcore\u001b[0m\u001b[0;34m.\u001b[0m\u001b[0m_NotOkStatusException\u001b[0m \u001b[0;32mas\u001b[0m \u001b[0me\u001b[0m\u001b[0;34m:\u001b[0m\u001b[0;34m\u001b[0m\u001b[0;34m\u001b[0m\u001b[0m\n\u001b[1;32m     61\u001b[0m     \u001b[0;32mif\u001b[0m \u001b[0mname\u001b[0m \u001b[0;32mis\u001b[0m \u001b[0;32mnot\u001b[0m \u001b[0;32mNone\u001b[0m\u001b[0;34m:\u001b[0m\u001b[0;34m\u001b[0m\u001b[0;34m\u001b[0m\u001b[0m\n",
      "\u001b[0;31mInvalidArgumentError\u001b[0m: Invalid protocol message input, example id: <unknown> [Op:ParseSequenceExampleV2]"
     ]
    }
   ],
   "source": [
    "tf.io.parse_sequence_example(str(x[0]), sequence_features=feature_description)"
   ]
  },
  {
   "cell_type": "markdown",
   "id": "64a3bf5f-d8fa-4014-8373-d741dc97aa09",
   "metadata": {},
   "source": [
    "# do some data wranglging on the text data\n",
    "# tf.train.Example(features=tf.train.Features(feature=feature))\n",
    "for _ in playlist_train_pipeline.map(lambda x: tf.io.parse_sequence_example(tf.io.serialize_tensor(x['tracks'][0]), sequence_features=feature_description, context_features=context_features, name='tracks')).take(1):\n",
    "    tensor = _\n",
    "    print(_)"
   ]
  },
  {
   "cell_type": "code",
   "execution_count": 156,
   "id": "7fcd27a1-fecb-45be-8bf8-6eebe7d7263a",
   "metadata": {},
   "outputs": [
    {
     "ename": "AttributeError",
     "evalue": "'tuple' object has no attribute 'numpy'",
     "output_type": "error",
     "traceback": [
      "\u001b[0;31m---------------------------------------------------------------------------\u001b[0m",
      "\u001b[0;31mAttributeError\u001b[0m                            Traceback (most recent call last)",
      "\u001b[0;32m/tmp/ipykernel_32132/1201079206.py\u001b[0m in \u001b[0;36m<module>\u001b[0;34m\u001b[0m\n\u001b[0;32m----> 1\u001b[0;31m \u001b[0mtensor\u001b[0m\u001b[0;34m.\u001b[0m\u001b[0mnumpy\u001b[0m\u001b[0;34m(\u001b[0m\u001b[0;34m)\u001b[0m\u001b[0;34m[\u001b[0m\u001b[0;36m0\u001b[0m\u001b[0;34m]\u001b[0m\u001b[0;34m\u001b[0m\u001b[0;34m\u001b[0m\u001b[0m\n\u001b[0m",
      "\u001b[0;31mAttributeError\u001b[0m: 'tuple' object has no attribute 'numpy'"
     ]
    }
   ],
   "source": [
    "tensor.numpy()[0]"
   ]
  },
  {
   "cell_type": "code",
   "execution_count": 157,
   "id": "b10cf278-4582-4f93-b7e6-b5518b6a08c2",
   "metadata": {},
   "outputs": [],
   "source": [
    "# for tracks in playlist_train_pipeline.map(lambda x: x['tracks']).take(1):\n",
    "def get_tracks_from_tracks(tracks):\n",
    "    for track in tracks:\n",
    "        track = tf.train.SequenceExample(track)\n",
    "    return track"
   ]
  },
  {
   "cell_type": "code",
   "execution_count": 121,
   "id": "3079aa09-f073-4da6-bf4e-68416eee9c49",
   "metadata": {},
   "outputs": [
    {
     "ename": "AttributeError",
     "evalue": "'tuple' object has no attribute 'numpy'",
     "output_type": "error",
     "traceback": [
      "\u001b[0;31m---------------------------------------------------------------------------\u001b[0m",
      "\u001b[0;31mAttributeError\u001b[0m                            Traceback (most recent call last)",
      "\u001b[0;32m/tmp/ipykernel_32132/800008606.py\u001b[0m in \u001b[0;36m<module>\u001b[0;34m\u001b[0m\n\u001b[1;32m      1\u001b[0m serialized_songs = tf.io.serialize_tensor(\n\u001b[0;32m----> 2\u001b[0;31m     \u001b[0mtensor\u001b[0m\u001b[0;34m.\u001b[0m\u001b[0mnumpy\u001b[0m\u001b[0;34m(\u001b[0m\u001b[0;34m)\u001b[0m\u001b[0;34m[\u001b[0m\u001b[0;36m0\u001b[0m\u001b[0;34m]\u001b[0m\u001b[0;34m\u001b[0m\u001b[0;34m\u001b[0m\u001b[0m\n\u001b[0m\u001b[1;32m      3\u001b[0m )\n\u001b[1;32m      4\u001b[0m \u001b[0mserialized_songs\u001b[0m\u001b[0;34m\u001b[0m\u001b[0;34m\u001b[0m\u001b[0m\n\u001b[1;32m      5\u001b[0m \u001b[0mtf\u001b[0m\u001b[0;34m.\u001b[0m\u001b[0mio\u001b[0m\u001b[0;34m.\u001b[0m\u001b[0mparse_sequence_example\u001b[0m\u001b[0;34m(\u001b[0m\u001b[0mserialized_songs\u001b[0m\u001b[0;34m,\u001b[0m \u001b[0msequence_features\u001b[0m\u001b[0;34m=\u001b[0m\u001b[0mfeature_description\u001b[0m\u001b[0;34m)\u001b[0m\u001b[0;34m\u001b[0m\u001b[0;34m\u001b[0m\u001b[0m\n",
      "\u001b[0;31mAttributeError\u001b[0m: 'tuple' object has no attribute 'numpy'"
     ]
    }
   ],
   "source": [
    "serialized_songs = tf.io.serialize_tensor(\n",
    "    tensor.numpy()[0]\n",
    ")\n",
    "serialized_songs\n",
    "tf.io.parse_sequence_example(serialized_songs, sequence_features=feature_description)"
   ]
  },
  {
   "cell_type": "markdown",
   "id": "6829748a-0347-449b-8301-1b48f53e19f2",
   "metadata": {},
   "source": [
    "tensor.numpy()"
   ]
  },
  {
   "cell_type": "code",
   "execution_count": 141,
   "id": "bfe33f2b-52c1-4ea0-ac70-fb4082e27530",
   "metadata": {},
   "outputs": [
    {
     "name": "stderr",
     "output_type": "stream",
     "text": [
      "2022-04-23 16:31:23.286491: E tensorflow/core/framework/dataset.cc:577] UNIMPLEMENTED: Cannot compute input sources for dataset of type IO>BigQueryDataset, because the dataset does not implement `InputDatasets`.\n",
      "2022-04-23 16:31:23.286540: E tensorflow/core/framework/dataset.cc:581] UNIMPLEMENTED: Cannot merge options for dataset of type IO>BigQueryDataset, because the dataset does not implement `InputDatasets`.\n",
      "2022-04-23 16:31:23.286879: E tensorflow/core/framework/dataset.cc:577] UNIMPLEMENTED: Cannot compute input sources for dataset of type IO>BigQueryDataset, because the dataset does not implement `InputDatasets`.\n",
      "2022-04-23 16:31:23.286921: E tensorflow/core/framework/dataset.cc:581] UNIMPLEMENTED: Cannot merge options for dataset of type IO>BigQueryDataset, because the dataset does not implement `InputDatasets`.\n"
     ]
    },
    {
     "name": "stdout",
     "output_type": "stream",
     "text": [
      "({}, {'album_name': <tf.RaggedTensor []>, 'album_uri': <tf.RaggedTensor []>, 'artist_name': <tf.RaggedTensor []>, 'artist_uri': <tf.RaggedTensor []>, 'duration_ms': <tf.RaggedTensor []>, 'pos': <tf.RaggedTensor []>, 'track_name': <tf.RaggedTensor []>, 'track_uri': <tf.RaggedTensor []>})\n"
     ]
    }
   ],
   "source": [
    "playlist_train_pipeline2 = playlist_train_pipeline.map(lambda x: tf.io.serialize_tensor(x['tracks'][0]))\n",
    "# playlist_train_pipeline3 = playlist_train_pipeline2.map(get_tracks_from_tracks)\n",
    "for _ in playlist_train_pipeline2.map(lambda x: tf.io.parse_single_sequence_example(x, sequence_features=feature_description)).take(1):\n",
    "    tensor = _\n",
    "    print(_)"
   ]
  },
  {
   "cell_type": "code",
   "execution_count": 131,
   "id": "ba1c8eb0-5606-42a5-af13-1931b4b1eccf",
   "metadata": {},
   "outputs": [
    {
     "name": "stderr",
     "output_type": "stream",
     "text": [
      "2022-04-23 16:13:20.572132: E tensorflow/core/framework/dataset.cc:577] UNIMPLEMENTED: Cannot compute input sources for dataset of type IO>BigQueryDataset, because the dataset does not implement `InputDatasets`.\n",
      "2022-04-23 16:13:20.572178: E tensorflow/core/framework/dataset.cc:581] UNIMPLEMENTED: Cannot merge options for dataset of type IO>BigQueryDataset, because the dataset does not implement `InputDatasets`.\n",
      "2022-04-23 16:13:20.572508: E tensorflow/core/framework/dataset.cc:577] UNIMPLEMENTED: Cannot compute input sources for dataset of type IO>BigQueryDataset, because the dataset does not implement `InputDatasets`.\n",
      "2022-04-23 16:13:20.572544: E tensorflow/core/framework/dataset.cc:581] UNIMPLEMENTED: Cannot merge options for dataset of type IO>BigQueryDataset, because the dataset does not implement `InputDatasets`.\n"
     ]
    }
   ],
   "source": [
    "for _ in playlist_train_pipeline2.take(1):\n",
    "    tensor2 = _"
   ]
  },
  {
   "cell_type": "code",
   "execution_count": 136,
   "id": "608410cc-4643-44ea-a11f-87ea69b558dc",
   "metadata": {},
   "outputs": [
    {
     "data": {
      "text/plain": [
       "<tf.Tensor: shape=(), dtype=string, numpy=b\"[{'pos': 0, 'artist_name': 'K CAMP', 'track_uri': 'spotify:track:7hRwwjy1cmwGkzBnJlhtnY', 'artist_uri': 'spotify:artist:5bgfj5zUoWpyeVatGDjn6H', 'track_name': '5 Minutes', 'album_uri': 'spotify:album:2GPRyHEFB2uzrB8aFyAmkP', 'duration_ms': 203080, 'album_name': '5 Minutes'}, {'pos': 1, 'artist_name': 'Post Malone', 'track_uri': 'spotify:track:5yuShbu70mtHXY0yLzCQLQ', 'artist_uri': 'spotify:artist:246dkjvS1zLTtiykXe5h60', 'track_name': 'Go Flex', 'album_uri': 'spotify:album:5s0rmjP8XOPhP6HhqOhuyC', 'duration_ms': 179613, 'album_name': 'Stoney'}, {'pos': 2, 'artist_name': 'Marc E. Bassy', 'track_uri': 'spotify:track:0LFqxv7O10lq49g4wpJ1ht', 'artist_uri': 'spotify:artist:3tQx1LPXbsYjE9VwN1Peaa', 'track_name': 'Relapse (feat. Iamsu!)', 'album_uri': 'spotify:album:2KjK2W2EFrzLF3iTRWnKlJ', 'duration_ms': 184500, 'album_name': 'Only The Poets Mixtape (Vol. 1)'}, {'pos': 3, 'artist_name': 'Kodak Black', 'track_uri': 'spotify:track:5v7kaZNsnyByrSJOfO8gKq', 'artist_uri': 'spotify:artist:46SHBwWsqBkxI7EeeBEQG7', 'track_name': 'Skrt', 'album_uri': 'spotify:album:5pgyZ32nzg48ugJS2QVVuS', 'duration_ms': 224864, 'album_name': 'Skrt'}, {'pos': 4, 'artist_name': 'Tory Lanez', 'track_uri': 'spotify:track:2Gyc6e2cLxA5hoX1NOvYnU', 'artist_uri': 'spotify:artist:2jku7tDXc6XoB6MO2hFuqg', 'track_name': 'Say It', 'album_uri': 'spotify:album:5tBOCi2TekXZ1IbrmlBZO4', 'duration_ms': 237786, 'album_name': 'I Told You'}]\">"
      ]
     },
     "execution_count": 136,
     "metadata": {},
     "output_type": "execute_result"
    }
   ],
   "source": [
    "tensor2"
   ]
  },
  {
   "cell_type": "code",
   "execution_count": 74,
   "id": "19ff7329-ed79-4302-ba94-500c13defda7",
   "metadata": {},
   "outputs": [
    {
     "data": {
      "text/plain": [
       "b'[{\\'pos\\': 0, \\'artist_name\\': \\'George Strait\\', \\'track_uri\\': \\'spotify:track:1TanmIWbaUj5NVwJ3k4XPd\\', \\'artist_uri\\': \\'spotify:artist:5vngPClqofybhPERIqQMYd\\', \\'track_name\\': \\'Write This Down\\', \\'album_uri\\': \\'spotify:album:2Kudx2lMsMx3svYdb2xe2F\\', \\'duration_ms\\': 219600, \\'album_name\\': \\'Always Never The Same\\'}, {\\'pos\\': 1, \\'artist_name\\': \\'Keith Urban\\', \\'track_uri\\': \\'spotify:track:50nzorQ9gi2md8UpFi8aJT\\', \\'artist_uri\\': \\'spotify:artist:0u2FHSq3ln94y5Q57xazwf\\', \\'track_name\\': \\'Somewhere In My Car\\', \\'album_uri\\': \\'spotify:album:5rESCws46ubPJlqOeb30Rv\\', \\'duration_ms\\': 236906, \\'album_name\\': \\'Fuse\\'}, {\\'pos\\': 2, \\'artist_name\\': \\'Blake Shelton\\', \\'track_uri\\': \\'spotify:track:289hx4t6fH2BBe8p6cnXo1\\', \\'artist_uri\\': \\'spotify:artist:1UTPBmNbXNTittyMJrNkvw\\', \\'track_name\\': \\'Neon Light\\', \\'album_uri\\': \\'spotify:album:0daIqjuhsQqXoeII3pBSeT\\', \\'duration_ms\\': 221401, \\'album_name\\': \\'BRINGING BACK THE SUNSHINE\\'}, {\\'pos\\': 3, \\'artist_name\\': \\'Dustin Lynch\\', \\'track_uri\\': \\'spotify:track:4whYDpJ5XVQpmvecbEHP5Q\\', \\'artist_uri\\': \\'spotify:artist:1dID9zgn0OV0Y8ud7Mh2tS\\', \\'track_name\\': \"Where It\\'s At\", \\'album_uri\\': \\'spotify:album:4ZSQEnZOGWEW3XQOAzt477\\', \\'duration_ms\\': 204186, \\'album_name\\': \"Where It\\'s At\"}, {\\'pos\\': 4, \\'artist_name\\': \\'Dustin Lynch\\', \\'track_uri\\': \\'spotify:track:2I0Tnc5117Vkdk78M7vrrf\\', \\'artist_uri\\': \\'spotify:artist:1dID9zgn0OV0Y8ud7Mh2tS\\', \\'track_name\\': \\'Waiting\\', \\'album_uri\\': \\'spotify:album:3lmCslpaoa1acoJ4koOnCY\\', \\'duration_ms\\': 218933, \\'album_name\\': \\'Dustin Lynch\\'}, {\\'pos\\': 5, \\'artist_name\\': \\'Florida Georgia Line\\', \\'track_uri\\': \\'spotify:track:37z5awcsf6MNdobyY2GiLt\\', \\'artist_uri\\': \\'spotify:artist:3b8QkneNDz4JHKKKlLgYZg\\', \\'track_name\\': \\'Tell Me How You Like It\\', \\'album_uri\\': \\'spotify:album:5MH765pytbQasmDxXArTah\\', \\'duration_ms\\': 226160, \\'album_name\\': \"Here\\'s To The Good Times\"}, {\\'pos\\': 6, \\'artist_name\\': \\'Milky Chance\\', \\'track_uri\\': \\'spotify:track:6vECYJHxYmm3Ydt3fF01pE\\', \\'artist_uri\\': \\'spotify:artist:1hzfo8twXdOegF3xireCYs\\', \\'track_name\\': \\'Stolen Dance\\', \\'album_uri\\': \\'spotify:album:5D20ZzsNB377xbshIFP9Nb\\', \\'duration_ms\\': 313684, \\'album_name\\': \\'Sadnecessary\\'}, {\\'pos\\': 7, \\'artist_name\\': \\'Blake Shelton\\', \\'track_uri\\': \\'spotify:track:1j9JbLULlyeUltlcowiEhI\\', \\'artist_uri\\': \\'spotify:artist:1UTPBmNbXNTittyMJrNkvw\\', \\'track_name\\': \"Buzzin\\' (feat. RaeLynn)\", \\'album_uri\\': \\'spotify:album:0daIqjuhsQqXoeII3pBSeT\\', \\'duration_ms\\': 225640, \\'album_name\\': \\'BRINGING BACK THE SUNSHINE\\'}, {\\'pos\\': 8, \\'artist_name\\': \\'Blake Shelton\\', \\'track_uri\\': \\'spotify:track:5Sxfm0RR2y5QHHSk23TORA\\', \\'artist_uri\\': \\'spotify:artist:1UTPBmNbXNTittyMJrNkvw\\', \\'track_name\\': \"Just Gettin\\' Started\", \\'album_uri\\': \\'spotify:album:0daIqjuhsQqXoeII3pBSeT\\', \\'duration_ms\\': 207880, \\'album_name\\': \\'BRINGING BACK THE SUNSHINE\\'}, {\\'pos\\': 9, \\'artist_name\\': \\'Lee Brice\\', \\'track_uri\\': \\'spotify:track:5Kb5utdaR6qXYZ9WpgoKWm\\', \\'artist_uri\\': \\'spotify:artist:5Zq7R5qmi58ByYyBQTlNuk\\', \\'track_name\\': \\'Drinking class\\', \\'album_uri\\': \\'spotify:album:1Ug5qpIXouUHY5hpFj6575\\', \\'duration_ms\\': 207346, \\'album_name\\': \"I Don\\'t Dance\"}, {\\'pos\\': 10, \\'artist_name\\': \\'Tim McGraw\\', \\'track_uri\\': \\'spotify:track:3LbvNFkqDTrE1liGMmZBDL\\', \\'artist_uri\\': \\'spotify:artist:6roFdX1y5BYSbp60OTJWMd\\', \\'track_name\\': \\'Shotgun Rider\\', \\'album_uri\\': \\'spotify:album:39ZUc3Efz2TH8RbPeDTMOB\\', \\'duration_ms\\': 235386, \\'album_name\\': \\'Sundown Heaven Town\\'}, {\\'pos\\': 11, \\'artist_name\\': \\'Chris Young\\', \\'track_uri\\': \\'spotify:track:2j79NtwxoWDmkiH4MGwdLq\\', \\'artist_uri\\': \\'spotify:artist:4BYxqVkZyFjtik7crYLg5Q\\', \\'track_name\\': \\'Lonely Eyes\\', \\'album_uri\\': \\'spotify:album:3cyLH6iUGPjEsZIUFnJfd3\\', \\'duration_ms\\': 217413, \\'album_name\\': \\'A.M.\\'}, {\\'pos\\': 12, \\'artist_name\\': \\'Chris Young\\', \\'track_uri\\': \\'spotify:track:1qjl8UJtWTHrk4SFpwftSN\\', \\'artist_uri\\': \\'spotify:artist:4BYxqVkZyFjtik7crYLg5Q\\', \\'track_name\\': \\'Tomorrow\\', \\'album_uri\\': \\'spotify:album:4yYep1aU3lXRaONTWu2X23\\', \\'duration_ms\\': 220173, \\'album_name\\': \\'Neon\\'}, {\\'pos\\': 13, \\'artist_name\\': \\'Jason Aldean\\', \\'track_uri\\': \\'spotify:track:5Q93FHMA17gHIZeeQAvgaJ\\', \\'artist_uri\\': \\'spotify:artist:3FfvYsEGaIb52QPXhg4DcH\\', \\'track_name\\': \"Sweet Little Somethin\\'\", \\'album_uri\\': \\'spotify:album:2RIu1R2av2tWEu2MloUE6u\\', \\'duration_ms\\': 203093, \\'album_name\\': \\'Old Boots, New Dirt\\'}, {\\'pos\\': 14, \\'artist_name\\': \\'Florida Georgia Line\\', \\'track_uri\\': \\'spotify:track:46ZfPS5VpSQVU5gb82hg3K\\', \\'artist_uri\\': \\'spotify:artist:3b8QkneNDz4JHKKKlLgYZg\\', \\'track_name\\': \\'Anything Goes\\', \\'album_uri\\': \\'spotify:album:5NG7WZaCZZ12M5LJm0JcVc\\', \\'duration_ms\\': 218866, \\'album_name\\': \\'Anything Goes\\'}, {\\'pos\\': 15, \\'artist_name\\': \\'Florida Georgia Line\\', \\'track_uri\\': \\'spotify:track:5ygp81TQpolYKghQjdYZpD\\', \\'artist_uri\\': \\'spotify:artist:3b8QkneNDz4JHKKKlLgYZg\\', \\'track_name\\': \"Bumpin\\' The Night\", \\'album_uri\\': \\'spotify:album:5NG7WZaCZZ12M5LJm0JcVc\\', \\'duration_ms\\': 221080, \\'album_name\\': \\'Anything Goes\\'}]'"
      ]
     },
     "execution_count": 74,
     "metadata": {},
     "output_type": "execute_result"
    }
   ],
   "source": [
    "tensor.numpy()[0]"
   ]
  },
  {
   "cell_type": "code",
   "execution_count": 13,
   "id": "fc57822a-235f-4459-a43c-34762964b823",
   "metadata": {},
   "outputs": [],
   "source": [
    "# %%writefile -a vertex_train/trainer/task.py\n",
    "\n",
    "class PlaylistsModel(tf.keras.Model):\n",
    "    def __init__(self, layer_sizes, adapt_data):\n",
    "        super().__init__()\n",
    "        \n",
    "        #start with lookups on low cardnality categorical items\n",
    "        colab_vocab = tf.constant(['true','false'], name='colab_vocab', dtype='string')\n",
    "        \n",
    "        self.colab = tf.keras.Sequential([\n",
    "            tf.keras.layers.StringLookup(\n",
    "                vocabulary=colab_vocab, mask_token=None, name=\"colab_lookup\", output_mode='count')\n",
    "        ], name=\"colab\")\n",
    "        \n",
    "        #create text vectorizors to be fed to an embedding layer\n",
    "        self.artist_vectorizor = tf.keras.layers.TextVectorization(\n",
    "            max_tokens=MAX_TOKENS, name=\"artist_tv\", ngrams=2)\n",
    "        \n",
    "        self.album_vectorizor = tf.keras.layers.TextVectorization(\n",
    "            max_tokens=MAX_TOKENS, name=\"album_tv\", ngrams=2)\n",
    "        \n",
    "        self.description_vectorizor = tf.keras.layers.TextVectorization(\n",
    "            max_tokens=MAX_TOKENS, name=\"album_tv\", ngrams=2)\n",
    "        \n",
    "        self.query_embedding = tf.keras.Sequential([\n",
    "            self.album_vectorizor,\n",
    "            tf.keras.layers.Embedding(MAX_TOKENS+1, EMBEDDING_DIM , mask_zero=True, name=\"album_emb\"),\n",
    "            tf.keras.layers.GlobalAveragePooling1D()\n",
    "        ], name=\"album_embedding_model\")\n",
    "        \n",
    "        self.artist_embedding = tf.keras.Sequential([\n",
    "            self.artist_vectorizor,\n",
    "            tf.keras.layers.Embedding(MAX_TOKENS+1, EMBEDDING_DIM , mask_zero=True, name=\"artist_emb\"),\n",
    "            tf.keras.layers.GlobalAveragePooling1D()\n",
    "        ], name=\"artist_embedding\")\n",
    "        \n",
    "        ###############\n",
    "        ### adapt stuff\n",
    "        ###############\n",
    "        \n",
    "        self.artist_vectorizor.adapt(adapt_data.map(lambda x: x['artist_name']))\n",
    "        self.album_vectorizor.adapt(adapt_data.map(lambda x: x['album_name'])) \n",
    "        \n",
    "        # Then construct the layers.\n",
    "        self.dense_layers = tf.keras.Sequential(name=\"dense_layers_query\")\n",
    "        \n",
    "        initializer = tf.keras.initializers.GlorotUniform(seed=SEED)\n",
    "        # Use the ReLU activation for all but the last layer.\n",
    "        for layer_size in layer_sizes[:-1]:\n",
    "            self.dense_layers.add(tf.keras.layers.Dense(layer_size, activation=\"relu\", kernel_initializer=initializer))\n",
    "            if DROPOUT:\n",
    "                self.dense_layers.add(tf.keras.layers.Dropout(DROPOUT_RATE))\n",
    "        # No activation for the last layer\n",
    "        for layer_size in layer_sizes[-1:]:\n",
    "            self.dense_layers.add(tf.keras.layers.Dense(layer_size, kernel_initializer=initializer))\n",
    "        ### ADDING L2 NORM AT THE END\n",
    "        self.dense_layers.add(tf.keras.layers.Lambda(lambda x: tf.nn.l2_normalize(x, 1, epsilon=1e-12, name=\"normalize_dense\")))\n",
    "\n",
    "\n",
    "    def call(self, data):    \n",
    "        all_embs = tf.concat(\n",
    "                [\n",
    "                    self.album_embedding(data['album_name']),\n",
    "                    self.artist_embedding(data['artist_name']),\n",
    "                    self.colab(data['collaborative']),\n",
    "                    self.description_embedding(data['description'])\n",
    "                ], axis=1)\n",
    "        return self.dense_layers(all_embs)"
   ]
  },
  {
   "cell_type": "markdown",
   "id": "9821506a-054e-4ad2-8530-bde59fb5e5d6",
   "metadata": {},
   "source": [
    "## Use the example output to think of how you process your features"
   ]
  },
  {
   "cell_type": "markdown",
   "id": "6f83a334-4008-44a8-84f6-f2ef827200db",
   "metadata": {},
   "source": [
    "```\n",
    "OrderedDict([('album_name', <tf.Tensor: shape=(1,), dtype=string, numpy=array([b'The Helm'], dtype=object)>), ('artist_name', <tf.Tensor: shape=(1,), dtype=string, numpy=array([b'Carrot Green'], dtype=object)>), ('collaborative', <tf.Tensor: shape=(1,), dtype=string, numpy=array([b'false'], dtype=object)>), ('description', <tf.Tensor: shape=(1,), dtype=string, numpy=array([b''], dtype=object)>), ('duration_ms', <tf.Tensor: shape=(1,), dtype=string, numpy=array([b'358500'], dtype=object)>), ('modified_at', <tf.Tensor: shape=(1,), dtype=int64, numpy=array([1505692800])>), ('name', <tf.Tensor: shape=(1,), dtype=string, numpy=array([b'FeSTa'], dtype=object)>), ('num_albums', <tf.Tensor: shape=(1,), dtype=int64, numpy=array([82])>), ('num_artists', <tf.Tensor: shape=(1,), dtype=int64, numpy=array([66])>), ('num_edits', <tf.Tensor: shape=(1,), dtype=int64, numpy=array([48])>), ('num_followers', <tf.Tensor: shape=(1,), dtype=int64, numpy=array([1])>), ('num_tracks', <tf.Tensor: shape=(1,), dtype=int64, numpy=array([85])>), ('pos', <tf.Tensor: shape=(1,), dtype=string, numpy=array([b'45'], dtype=object)>), ('track_name', <tf.Tensor: shape=(1,), dtype=string, numpy=array([b'The Helm - Carrot Green Remix'], dtype=object)>)])\n",
    "```"
   ]
  },
  {
   "cell_type": "code",
   "execution_count": 14,
   "id": "6a663c63-58be-43bf-a573-e986cce3e9a3",
   "metadata": {},
   "outputs": [],
   "source": [
    "#### Tests"
   ]
  }
 ],
 "metadata": {
  "environment": {
   "kernel": "python3",
   "name": "tf2-gpu.2-8.m91",
   "type": "gcloud",
   "uri": "gcr.io/deeplearning-platform-release/tf2-gpu.2-8:m91"
  },
  "kernelspec": {
   "display_name": "Python 3",
   "language": "python",
   "name": "python3"
  },
  "language_info": {
   "codemirror_mode": {
    "name": "ipython",
    "version": 3
   },
   "file_extension": ".py",
   "mimetype": "text/x-python",
   "name": "python",
   "nbconvert_exporter": "python",
   "pygments_lexer": "ipython3",
   "version": "3.7.12"
  }
 },
 "nbformat": 4,
 "nbformat_minor": 5
}
