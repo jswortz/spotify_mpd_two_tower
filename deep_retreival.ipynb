{
 "cells": [
  {
   "cell_type": "markdown",
   "id": "1d5383b2-071e-45b8-af2c-2421eb4f923a",
   "metadata": {},
   "source": [
    "# Two - Tower Retreival Model\n",
    "\n",
    "### Key resources:\n",
    "* Many pages [here](https://www.tensorflow.org/recommenders/examples/deep_recommenders) include great techniques to build custom TFRS Models\n",
    "\n",
    "### Goals:\n",
    "* Show how to model off of most data types \n",
    "  * (String, Existing Embeddings (vectors), \n",
    "  * Floats (Normalized), \n",
    "  * Categorical with vocab, \n",
    "  * High Dim Categorical (Embed)\n",
    "* Leverage class templates to create custom 2 Tower Models quick/easy"
   ]
  },
  {
   "cell_type": "markdown",
   "id": "92d52e5f-a13b-46a7-849a-dc188b455a86",
   "metadata": {},
   "source": [
    "## SPOTIFY Create the tensorflow.io interface for the event and product table in Bigquery\n",
    "Best practices from Google are in this blog post"
   ]
  },
  {
   "cell_type": "code",
   "execution_count": 402,
   "id": "de3122eb-564b-46f9-9a50-851d19301521",
   "metadata": {},
   "outputs": [],
   "source": [
    "# set variables\n",
    "DROPOUT = False\n",
    "DROPOUT_RATE = 0.2\n",
    "EMBEDDING_DIM = 64\n",
    "MAX_TOKENS = 100_000\n",
    "BATCH_SIZE = 256\n",
    "ARCH = [128, 64]\n",
    "NUM_EPOCHS = 1\n",
    "SEED = 41781897\n",
    "PROJECT_ID = 'jtotten-project'\n",
    "DROP_FIELDS = ['pid', 'track_uri', 'artist_uri', 'album_uri']"
   ]
  },
  {
   "cell_type": "markdown",
   "id": "77c50a06-d69d-4d64-b254-26fb2a249fcf",
   "metadata": {
    "tags": []
   },
   "source": [
    "#### Quick counts on training data\n",
    "\n"
   ]
  },
  {
   "cell_type": "markdown",
   "id": "9c5e1473-4a2d-4778-9f01-e2b76672a9f5",
   "metadata": {},
   "source": [
    "#### Quick counts on the training records for track"
   ]
  },
  {
   "cell_type": "code",
   "execution_count": 403,
   "id": "eaa56927-6722-43f9-88ac-ab638487164e",
   "metadata": {},
   "outputs": [
    {
     "name": "stderr",
     "output_type": "stream",
     "text": [
      "Query complete after 0.00s: 100%|██████████| 1/1 [00:00<00:00, 990.16query/s] \n",
      "Downloading: 100%|██████████| 1/1 [00:00<00:00,  1.17rows/s]\n"
     ]
    },
    {
     "data": {
      "text/html": [
       "<div>\n",
       "<style scoped>\n",
       "    .dataframe tbody tr th:only-of-type {\n",
       "        vertical-align: middle;\n",
       "    }\n",
       "\n",
       "    .dataframe tbody tr th {\n",
       "        vertical-align: top;\n",
       "    }\n",
       "\n",
       "    .dataframe thead th {\n",
       "        text-align: right;\n",
       "    }\n",
       "</style>\n",
       "<table border=\"1\" class=\"dataframe\">\n",
       "  <thead>\n",
       "    <tr style=\"text-align: right;\">\n",
       "      <th></th>\n",
       "      <th>f0_</th>\n",
       "    </tr>\n",
       "  </thead>\n",
       "  <tbody>\n",
       "    <tr>\n",
       "      <th>0</th>\n",
       "      <td>66346428</td>\n",
       "    </tr>\n",
       "  </tbody>\n",
       "</table>\n",
       "</div>"
      ],
      "text/plain": [
       "        f0_\n",
       "0  66346428"
      ]
     },
     "execution_count": 403,
     "metadata": {},
     "output_type": "execute_result"
    }
   ],
   "source": [
    "%%bigquery\n",
    "select count(1) from jtotten-project.spotify_mpd.playlists"
   ]
  },
  {
   "cell_type": "markdown",
   "id": "bd3ee0aa-1c6d-47f0-a3a8-236c7a072ee6",
   "metadata": {
    "tags": []
   },
   "source": [
    "#### Same with playlist"
   ]
  },
  {
   "cell_type": "markdown",
   "id": "031039fa-decd-4396-a9ad-89f300a01f25",
   "metadata": {},
   "source": [
    "#### Quick counts (this time playlists) on the training records for track"
   ]
  },
  {
   "cell_type": "code",
   "execution_count": 404,
   "id": "c56750aa-be5c-4f4f-8b5b-4b8277e2a838",
   "metadata": {},
   "outputs": [
    {
     "name": "stderr",
     "output_type": "stream",
     "text": [
      "Query complete after 0.00s: 100%|██████████| 1/1 [00:00<00:00, 1395.31query/s]\n",
      "Downloading: 100%|██████████| 1/1 [00:00<00:00,  1.31rows/s]\n"
     ]
    },
    {
     "data": {
      "text/html": [
       "<div>\n",
       "<style scoped>\n",
       "    .dataframe tbody tr th:only-of-type {\n",
       "        vertical-align: middle;\n",
       "    }\n",
       "\n",
       "    .dataframe tbody tr th {\n",
       "        vertical-align: top;\n",
       "    }\n",
       "\n",
       "    .dataframe thead th {\n",
       "        text-align: right;\n",
       "    }\n",
       "</style>\n",
       "<table border=\"1\" class=\"dataframe\">\n",
       "  <thead>\n",
       "    <tr style=\"text-align: right;\">\n",
       "      <th></th>\n",
       "      <th>f0_</th>\n",
       "    </tr>\n",
       "  </thead>\n",
       "  <tbody>\n",
       "    <tr>\n",
       "      <th>0</th>\n",
       "      <td>2261490</td>\n",
       "    </tr>\n",
       "  </tbody>\n",
       "</table>\n",
       "</div>"
      ],
      "text/plain": [
       "       f0_\n",
       "0  2261490"
      ]
     },
     "execution_count": 404,
     "metadata": {},
     "output_type": "execute_result"
    }
   ],
   "source": [
    "%%bigquery\n",
    "select count(1) from jtotten-project.spotify_mpd.track_audio"
   ]
  },
  {
   "cell_type": "markdown",
   "id": "f4710f67-de96-401b-8a0c-abb05dd62c40",
   "metadata": {},
   "source": [
    "### Set the tf.io pipelines function from bigquery\n",
    "\n",
    "[Great blog post here on it](https://towardsdatascience.com/how-to-read-bigquery-data-from-tensorflow-2-0-efficiently-9234b69165c8)"
   ]
  },
  {
   "cell_type": "code",
   "execution_count": 405,
   "id": "7db86c9f-5454-4629-80ba-c0273fca117d",
   "metadata": {},
   "outputs": [],
   "source": [
    "import tensorflow as tf\n",
    "from tensorflow.python.framework import dtypes\n",
    "from tensorflow_io.bigquery import BigQueryClient\n",
    "from tensorflow_io.bigquery import BigQueryReadSession\n",
    "import warnings\n",
    "warnings.filterwarnings(\"ignore\") #do this b/c there's an info-level bug that can safely be ignored\n",
    "import json\n",
    "import tensorflow as tf\n",
    "import tensorflow_recommenders as tfrs\n",
    "\n",
    "\n",
    "def bq_to_tfdata(client, row_restriction, table_id, col_names, col_types, dataset, batch_size=BATCH_SIZE):\n",
    "    TABLE_ID = table_id\n",
    "    COL_NAMES = col_names\n",
    "    COL_TYPES = col_types\n",
    "    DATASET = dataset\n",
    "    bqsession = client.read_session(\n",
    "        \"projects/\" + PROJECT_ID,\n",
    "        PROJECT_ID, TABLE_ID, DATASET,\n",
    "        COL_NAMES, COL_TYPES,\n",
    "        requested_streams=2,\n",
    "        row_restriction=row_restriction)\n",
    "    dataset = bqsession.parallel_read_rows()\n",
    "    return dataset.prefetch(1).shuffle(batch_size*10).batch(batch_size)"
   ]
  },
  {
   "cell_type": "markdown",
   "id": "88e45e8d-3113-4528-9d71-8afdfd922d4f",
   "metadata": {},
   "source": [
    "## Get the song metadata\n",
    "\n",
    "To get a pipeline working we need the metadata for the table along with the table information. The following functions are helpers that give us the metadata into the proper types for `tf`\n",
    "\n",
    "\n",
    "For each table id, programatically get\n",
    "* Column names\n",
    "* Column types"
   ]
  },
  {
   "cell_type": "code",
   "execution_count": 406,
   "id": "abcf9098-fd4c-4d00-9e84-8658a620b848",
   "metadata": {},
   "outputs": [
    {
     "name": "stderr",
     "output_type": "stream",
     "text": [
      "Query complete after 0.00s: 100%|██████████| 1/1 [00:00<00:00, 773.57query/s]                          \n",
      "Downloading: 100%|██████████| 2/2 [00:00<00:00,  2.60rows/s]\n"
     ]
    }
   ],
   "source": [
    "%%bigquery schema\n",
    "SELECT * FROM jtotten-project.spotify_mpd.INFORMATION_SCHEMA.TABLES\n",
    "where table_name in ('track_audio', 'playlists_track_string');"
   ]
  },
  {
   "cell_type": "code",
   "execution_count": 407,
   "id": "402d9cd0-a837-418a-aa7d-8ba8350c6940",
   "metadata": {},
   "outputs": [
    {
     "data": {
      "text/html": [
       "<div>\n",
       "<style scoped>\n",
       "    .dataframe tbody tr th:only-of-type {\n",
       "        vertical-align: middle;\n",
       "    }\n",
       "\n",
       "    .dataframe tbody tr th {\n",
       "        vertical-align: top;\n",
       "    }\n",
       "\n",
       "    .dataframe thead th {\n",
       "        text-align: right;\n",
       "    }\n",
       "</style>\n",
       "<table border=\"1\" class=\"dataframe\">\n",
       "  <thead>\n",
       "    <tr style=\"text-align: right;\">\n",
       "      <th></th>\n",
       "      <th>table_catalog</th>\n",
       "      <th>table_schema</th>\n",
       "      <th>table_name</th>\n",
       "      <th>table_type</th>\n",
       "      <th>is_insertable_into</th>\n",
       "      <th>is_typed</th>\n",
       "      <th>creation_time</th>\n",
       "      <th>base_table_catalog</th>\n",
       "      <th>base_table_schema</th>\n",
       "      <th>base_table_name</th>\n",
       "      <th>snapshot_time_ms</th>\n",
       "      <th>ddl</th>\n",
       "    </tr>\n",
       "  </thead>\n",
       "  <tbody>\n",
       "    <tr>\n",
       "      <th>0</th>\n",
       "      <td>jtotten-project</td>\n",
       "      <td>spotify_mpd</td>\n",
       "      <td>track_audio</td>\n",
       "      <td>BASE TABLE</td>\n",
       "      <td>YES</td>\n",
       "      <td>NO</td>\n",
       "      <td>2022-04-06 17:46:25.801000+00:00</td>\n",
       "      <td>None</td>\n",
       "      <td>None</td>\n",
       "      <td>None</td>\n",
       "      <td>NaT</td>\n",
       "      <td>CREATE TABLE `jtotten-project.spotify_mpd.trac...</td>\n",
       "    </tr>\n",
       "    <tr>\n",
       "      <th>1</th>\n",
       "      <td>jtotten-project</td>\n",
       "      <td>spotify_mpd</td>\n",
       "      <td>playlists_track_string</td>\n",
       "      <td>BASE TABLE</td>\n",
       "      <td>YES</td>\n",
       "      <td>NO</td>\n",
       "      <td>2022-04-22 22:50:46.601000+00:00</td>\n",
       "      <td>None</td>\n",
       "      <td>None</td>\n",
       "      <td>None</td>\n",
       "      <td>NaT</td>\n",
       "      <td>CREATE TABLE `jtotten-project.spotify_mpd.play...</td>\n",
       "    </tr>\n",
       "  </tbody>\n",
       "</table>\n",
       "</div>"
      ],
      "text/plain": [
       "     table_catalog table_schema              table_name  table_type  \\\n",
       "0  jtotten-project  spotify_mpd             track_audio  BASE TABLE   \n",
       "1  jtotten-project  spotify_mpd  playlists_track_string  BASE TABLE   \n",
       "\n",
       "  is_insertable_into is_typed                    creation_time  \\\n",
       "0                YES       NO 2022-04-06 17:46:25.801000+00:00   \n",
       "1                YES       NO 2022-04-22 22:50:46.601000+00:00   \n",
       "\n",
       "  base_table_catalog base_table_schema base_table_name snapshot_time_ms  \\\n",
       "0               None              None            None              NaT   \n",
       "1               None              None            None              NaT   \n",
       "\n",
       "                                                 ddl  \n",
       "0  CREATE TABLE `jtotten-project.spotify_mpd.trac...  \n",
       "1  CREATE TABLE `jtotten-project.spotify_mpd.play...  "
      ]
     },
     "execution_count": 407,
     "metadata": {},
     "output_type": "execute_result"
    }
   ],
   "source": [
    "schema # we will get the fields out of the ddl field"
   ]
  },
  {
   "cell_type": "markdown",
   "id": "bd72e820-d1d7-48f9-902d-ad63be9b74fb",
   "metadata": {},
   "source": [
    "## Helper functions to pull metadata from ddl statements"
   ]
  },
  {
   "cell_type": "code",
   "execution_count": 408,
   "id": "09e90599-b0e7-41e6-a6e7-99d6668ead55",
   "metadata": {},
   "outputs": [],
   "source": [
    "# Function to convert string type representation to tf data types\n",
    "\n",
    "def conv_dtype_to_tf(dtype_str):\n",
    "    if dtype_str == 'FLOAT64':\n",
    "        return dtypes.float64\n",
    "    elif dtype_str == 'INT64':\n",
    "        return dtypes.int64\n",
    "    else: \n",
    "        return dtypes.string\n",
    "        \n",
    "def get_metadata_from_ddl(ddl, drop_field=None):\n",
    "    fields = []\n",
    "    types = []\n",
    "    ddl = ddl.values[0]\n",
    "    for line in ddl.splitlines():\n",
    "        if line[:1] == ' ': #only pull indented lines for the fields\n",
    "            # drop the comma\n",
    "            line = line.replace(',','')\n",
    "            space_delim = line.split(' ')\n",
    "            if space_delim[2] in drop_field:\n",
    "                pass\n",
    "            else:\n",
    "                fields.append(space_delim[2])\n",
    "                types.append(conv_dtype_to_tf(space_delim[3]))\n",
    "    return fields, types\n",
    "\n",
    "\n",
    "track_audio_fields, track_audio_types = get_metadata_from_ddl(schema.ddl[schema.table_name == 'track_audio'], DROP_FIELDS)\n",
    "playlist_fields, playlist_types = get_metadata_from_ddl(schema.ddl[schema.table_name == 'playlists_track_string'], DROP_FIELDS) "
   ]
  },
  {
   "cell_type": "code",
   "execution_count": 409,
   "id": "4fd06cfb-66c6-4a18-9e5d-22352317da83",
   "metadata": {},
   "outputs": [
    {
     "name": "stdout",
     "output_type": "stream",
     "text": [
      "name : <dtype: 'string'>\n",
      "collaborative : <dtype: 'string'>\n",
      "modified_at : <dtype: 'int64'>\n",
      "num_tracks : <dtype: 'int64'>\n",
      "num_albums : <dtype: 'int64'>\n",
      "num_followers : <dtype: 'int64'>\n",
      "tracks : <dtype: 'string'>\n",
      "num_edits : <dtype: 'int64'>\n",
      "duration_ms : <dtype: 'int64'>\n",
      "num_artists : <dtype: 'int64'>\n",
      "description : <dtype: 'string'>\n"
     ]
    }
   ],
   "source": [
    "# Quick check on data\n",
    "for a, b in zip(playlist_fields, playlist_types):\n",
    "    print(a +\" : \" + str(b))"
   ]
  },
  {
   "cell_type": "code",
   "execution_count": 410,
   "id": "c4667a86-574c-4484-a331-8c9c7ae6fbf6",
   "metadata": {},
   "outputs": [
    {
     "name": "stdout",
     "output_type": "stream",
     "text": [
      "artist_name : <dtype: 'string'>\n",
      "track_name : <dtype: 'string'>\n",
      "album_name : <dtype: 'string'>\n",
      "name : <dtype: 'string'>\n",
      "danceability : <dtype: 'float64'>\n",
      "energy : <dtype: 'float64'>\n",
      "key : <dtype: 'float64'>\n",
      "loudness : <dtype: 'float64'>\n",
      "mode : <dtype: 'float64'>\n",
      "speechiness : <dtype: 'float64'>\n",
      "acousticness : <dtype: 'float64'>\n",
      "instrumentalness : <dtype: 'float64'>\n",
      "liveness : <dtype: 'float64'>\n",
      "valence : <dtype: 'float64'>\n",
      "tempo : <dtype: 'float64'>\n",
      "type : <dtype: 'string'>\n",
      "id : <dtype: 'string'>\n",
      "uri : <dtype: 'string'>\n",
      "track_href : <dtype: 'string'>\n",
      "analysis_url : <dtype: 'string'>\n",
      "time_signature : <dtype: 'float64'>\n",
      "artist_pop : <dtype: 'int64'>\n",
      "track_pop : <dtype: 'string'>\n",
      "genres : <dtype: 'string'>\n",
      "duration_ms : <dtype: 'int64'>\n"
     ]
    }
   ],
   "source": [
    "# Quick check on data\n",
    "for a, b in zip(track_audio_fields, track_audio_types):\n",
    "    print(a +\" : \" + str(b))\n",
    "    \n",
    "DROP_TRACK_AUDIO_FIELDS = ['pid', 'track_uri', 'artist_uri', 'album_uri']"
   ]
  },
  {
   "cell_type": "markdown",
   "id": "6b94ebf1-0080-4cd5-be46-c72af9d3a0e5",
   "metadata": {},
   "source": [
    "### Now the helper functions are set. Below tf.data pipelines are created from bigquery"
   ]
  },
  {
   "cell_type": "code",
   "execution_count": 411,
   "id": "311dd38e-94c3-4bef-b4b0-e051ba529530",
   "metadata": {},
   "outputs": [],
   "source": [
    "track_train_pipeline = bq_to_tfdata(BigQueryClient(), row_restriction=None, table_id = 'track_audio'\n",
    "                                    , col_names=track_audio_fields, col_types=track_audio_types, dataset='spotify_mpd', batch_size=1) #we will change to BATCH_SIZE after we test "
   ]
  },
  {
   "cell_type": "code",
   "execution_count": 412,
   "id": "e49e5cd5-7f73-419d-9c09-8495e09decab",
   "metadata": {},
   "outputs": [
    {
     "name": "stderr",
     "output_type": "stream",
     "text": [
      "2022-04-23 22:47:52.086736: E tensorflow/core/framework/dataset.cc:577] UNIMPLEMENTED: Cannot compute input sources for dataset of type IO>BigQueryDataset, because the dataset does not implement `InputDatasets`.\n",
      "2022-04-23 22:47:52.086783: E tensorflow/core/framework/dataset.cc:581] UNIMPLEMENTED: Cannot merge options for dataset of type IO>BigQueryDataset, because the dataset does not implement `InputDatasets`.\n",
      "2022-04-23 22:47:52.087160: E tensorflow/core/framework/dataset.cc:577] UNIMPLEMENTED: Cannot compute input sources for dataset of type IO>BigQueryDataset, because the dataset does not implement `InputDatasets`.\n",
      "2022-04-23 22:47:52.087201: E tensorflow/core/framework/dataset.cc:581] UNIMPLEMENTED: Cannot merge options for dataset of type IO>BigQueryDataset, because the dataset does not implement `InputDatasets`.\n"
     ]
    },
    {
     "name": "stdout",
     "output_type": "stream",
     "text": [
      "OrderedDict([('acousticness', <tf.Tensor: shape=(1,), dtype=float64, numpy=array([0.993])>), ('album_name', <tf.Tensor: shape=(1,), dtype=string, numpy=array([b'Fundo Musical'], dtype=object)>), ('analysis_url', <tf.Tensor: shape=(1,), dtype=string, numpy=\n",
      "array([b'https://api.spotify.com/v1/audio-analysis/2V3MAaxLBbS370RqeXpc72'],\n",
      "      dtype=object)>), ('artist_name', <tf.Tensor: shape=(1,), dtype=string, numpy=array([b'Fundo Musical Latino Star'], dtype=object)>), ('artist_pop', <tf.Tensor: shape=(1,), dtype=int64, numpy=array([0])>), ('danceability', <tf.Tensor: shape=(1,), dtype=float64, numpy=array([0.609])>), ('duration_ms', <tf.Tensor: shape=(1,), dtype=int64, numpy=array([337525])>), ('energy', <tf.Tensor: shape=(1,), dtype=float64, numpy=array([0.103])>), ('genres', <tf.Tensor: shape=(1,), dtype=string, numpy=array([b'unknown'], dtype=object)>), ('id', <tf.Tensor: shape=(1,), dtype=string, numpy=array([b'2V3MAaxLBbS370RqeXpc72'], dtype=object)>), ('instrumentalness', <tf.Tensor: shape=(1,), dtype=float64, numpy=array([0.945])>), ('key', <tf.Tensor: shape=(1,), dtype=float64, numpy=array([0.])>), ('liveness', <tf.Tensor: shape=(1,), dtype=float64, numpy=array([0.118])>), ('loudness', <tf.Tensor: shape=(1,), dtype=float64, numpy=array([-19.045])>), ('mode', <tf.Tensor: shape=(1,), dtype=float64, numpy=array([0.])>), ('name', <tf.Tensor: shape=(1,), dtype=string, numpy=array([b'Dinner'], dtype=object)>), ('speechiness', <tf.Tensor: shape=(1,), dtype=float64, numpy=array([0.0473])>), ('tempo', <tf.Tensor: shape=(1,), dtype=float64, numpy=array([139.933])>), ('time_signature', <tf.Tensor: shape=(1,), dtype=float64, numpy=array([4.])>), ('track_href', <tf.Tensor: shape=(1,), dtype=string, numpy=\n",
      "array([b'https://api.spotify.com/v1/tracks/2V3MAaxLBbS370RqeXpc72'],\n",
      "      dtype=object)>), ('track_name', <tf.Tensor: shape=(1,), dtype=string, numpy=array([b'Romantic Background Music'], dtype=object)>), ('track_pop', <tf.Tensor: shape=(1,), dtype=string, numpy=array([b'0'], dtype=object)>), ('type', <tf.Tensor: shape=(1,), dtype=string, numpy=array([b'audio_features'], dtype=object)>), ('uri', <tf.Tensor: shape=(1,), dtype=string, numpy=array([b'spotify:track:2V3MAaxLBbS370RqeXpc72'], dtype=object)>), ('valence', <tf.Tensor: shape=(1,), dtype=float64, numpy=array([0.495])>)])\n"
     ]
    }
   ],
   "source": [
    "### Validate we are getting records\n",
    "\n",
    "for line in track_train_pipeline.take(1):\n",
    "    print(line) #should come out based on batch size"
   ]
  },
  {
   "cell_type": "code",
   "execution_count": 413,
   "id": "4e3c14a9-a269-4bc5-a198-5270ac0faa92",
   "metadata": {},
   "outputs": [],
   "source": [
    "playlist_types[-1] = dtypes.string #try manually setting the dtype for the tracks nested column"
   ]
  },
  {
   "cell_type": "code",
   "execution_count": 414,
   "id": "4fb806df-3f54-4785-a063-9a416e487ec4",
   "metadata": {},
   "outputs": [
    {
     "name": "stderr",
     "output_type": "stream",
     "text": [
      "2022-04-23 22:47:53.868322: E tensorflow/core/framework/dataset.cc:577] UNIMPLEMENTED: Cannot compute input sources for dataset of type IO>BigQueryDataset, because the dataset does not implement `InputDatasets`.\n",
      "2022-04-23 22:47:53.868378: E tensorflow/core/framework/dataset.cc:581] UNIMPLEMENTED: Cannot merge options for dataset of type IO>BigQueryDataset, because the dataset does not implement `InputDatasets`.\n",
      "2022-04-23 22:47:53.868800: E tensorflow/core/framework/dataset.cc:577] UNIMPLEMENTED: Cannot compute input sources for dataset of type IO>BigQueryDataset, because the dataset does not implement `InputDatasets`.\n",
      "2022-04-23 22:47:53.868830: E tensorflow/core/framework/dataset.cc:581] UNIMPLEMENTED: Cannot merge options for dataset of type IO>BigQueryDataset, because the dataset does not implement `InputDatasets`.\n"
     ]
    },
    {
     "name": "stdout",
     "output_type": "stream",
     "text": [
      "OrderedDict([('collaborative', <tf.Tensor: shape=(1,), dtype=string, numpy=array([b'false'], dtype=object)>), ('description', <tf.Tensor: shape=(1,), dtype=string, numpy=array([b''], dtype=object)>), ('duration_ms', <tf.Tensor: shape=(1,), dtype=int64, numpy=array([5461333])>), ('modified_at', <tf.Tensor: shape=(1,), dtype=int64, numpy=array([1508976000])>), ('name', <tf.Tensor: shape=(1,), dtype=string, numpy=array([b'disney favs'], dtype=object)>), ('num_albums', <tf.Tensor: shape=(1,), dtype=int64, numpy=array([14])>), ('num_artists', <tf.Tensor: shape=(1,), dtype=int64, numpy=array([24])>), ('num_edits', <tf.Tensor: shape=(1,), dtype=int64, numpy=array([12])>), ('num_followers', <tf.Tensor: shape=(1,), dtype=int64, numpy=array([1])>), ('num_tracks', <tf.Tensor: shape=(1,), dtype=int64, numpy=array([28])>), ('tracks', <tf.Tensor: shape=(1,), dtype=string, numpy=\n",
      "array([b'[{\\'pos\\': 0, \\'artist_name\\': \\'Peggy Lee (performer), Oliver Wallace (comductor), Walt Disney Studio Orchestra\\', \\'track_uri\\': \\'spotify:track:7gszEHRkBhgWxz4ehSe0lr\\', \\'artist_uri\\': \\'spotify:artist:3MHlIt9IAlysdZJz2xvkj6\\', \\'track_name\\': \"The Siamese Cat Song / What\\'s Going On Down There\", \\'album_uri\\': \\'spotify:album:2bDCjSVK1wjEaPT5YpgtyR\\', \\'duration_ms\\': 157126, \\'album_name\\': \\'Lady and the Tramp (1955 Film Score)\\'}, {\\'pos\\': 1, \\'artist_name\\': \\'Peggy Lee (performer), Oliver Wallace (comductor), Walt Disney Studio Orchestra\\', \\'track_uri\\': \\'spotify:track:1LBcs9JY4DedNGwQ61Jztv\\', \\'artist_uri\\': \\'spotify:artist:3MHlIt9IAlysdZJz2xvkj6\\', \\'track_name\\': \"What A Dog / He\\'s A Tramp\", \\'album_uri\\': \\'spotify:album:2bDCjSVK1wjEaPT5YpgtyR\\', \\'duration_ms\\': 145684, \\'album_name\\': \\'Lady and the Tramp (1955 Film Score)\\'}, {\\'pos\\': 2, \\'artist_name\\': \\'Angela Lansbury\\', \\'track_uri\\': \\'spotify:track:6btdYzQ8eZFBrOlUKVHuz0\\', \\'artist_uri\\': \\'spotify:artist:0LtVJXnPR8msCJiE2DjHxy\\', \\'track_name\\': \\'Be Our Guest - From \"Beauty and the Beast\"/Soundtrack\\', \\'album_uri\\': \\'spotify:album:3O5p9VNddbwvqWTdYKEqV5\\', \\'duration_ms\\': 224733, \\'album_name\\': \\'Beauty and the Beast\\'}, {\\'pos\\': 3, \\'artist_name\\': \\'Lea Salonga\\', \\'track_uri\\': \\'spotify:track:5VIfacsWytkcgr7aTt8Tql\\', \\'artist_uri\\': \\'spotify:artist:1GlMjIezcLwV3OFlX0uXOv\\', \\'track_name\\': \\'A Whole New World\\', \\'album_uri\\': \\'spotify:album:29EiOQJnxWlX5nVOWQpu3u\\', \\'duration_ms\\': 160800, \\'album_name\\': \\'Aladdin\\'}, {\\'pos\\': 4, \\'artist_name\\': \\'Lillias White\\', \\'track_uri\\': \\'spotify:track:1HSJMLtNeDryJN76Tu5Ahf\\', \\'artist_uri\\': \\'spotify:artist:5TKKPpY9zr2qrz3JM3Vawq\\', \\'track_name\\': \"I Won\\'t Say (I\\'m in Love)\", \\'album_uri\\': \\'spotify:album:79xGkf1594kBEtCIaL6yKj\\', \\'duration_ms\\': 140333, \\'album_name\\': \\'Hercules Original Soundtrack\\'}, {\\'pos\\': 5, \\'artist_name\\': \\'Donny Osmond\\', \\'track_uri\\': \\'spotify:track:28UMEtwyUUy5u0UWOVHwiI\\', \\'artist_uri\\': \\'spotify:artist:5ZEAzHE2TzAwUcOj6jMIgf\\', \\'track_name\\': \\'I\\\\\\'ll Make a Man Out of You - From \"Mulan\"/Soundtrack\\', \\'album_uri\\': \\'spotify:album:3Ohs7Jo6GM6mydUOL0m5aC\\', \\'duration_ms\\': 201680, \\'album_name\\': \\'Mulan\\'}, {\\'pos\\': 6, \\'artist_name\\': \\'Samuel E. Wright\\', \\'track_uri\\': \\'spotify:track:4HGIPyqDxSf863tPOwXiLJ\\', \\'artist_uri\\': \\'spotify:artist:6Id8rcDNyBXPcgKQVfQ8rX\\', \\'track_name\\': \\'Kiss the Girl - From \"The Little Mermaid\"/Soundtrack Version\\', \\'album_uri\\': \\'spotify:album:4aAwvCRNJIqiUGVEjieWv6\\', \\'duration_ms\\': 163400, \\'album_name\\': \\'Little Mermaid\\'}, {\\'pos\\': 7, \\'artist_name\\': \\'Nathan Lane\\', \\'track_uri\\': \\'spotify:track:5k3U0OGYBccHdKJJu3HrUN\\', \\'artist_uri\\': \\'spotify:artist:0P0do9GwiSgweSF6Ui3mrv\\', \\'track_name\\': \\'Hakuna Matata\\', \\'album_uri\\': \\'spotify:album:3YA5DdB3wSz4pdfEXoMyRd\\', \\'duration_ms\\': 213600, \\'album_name\\': \\'The Lion King\\'}, {\\'pos\\': 8, \\'artist_name\\': \\'Bruce Adler\\', \\'track_uri\\': \\'spotify:track:0CKmN3Wwk8W4zjU0pqq2cv\\', \\'artist_uri\\': \\'spotify:artist:66oKiXdIQP7MwN0gPUY0FD\\', \\'track_name\\': \\'Arabian Nights\\', \\'album_uri\\': \\'spotify:album:29EiOQJnxWlX5nVOWQpu3u\\', \\'duration_ms\\': 79293, \\'album_name\\': \\'Aladdin\\'}, {\\'pos\\': 9, \\'artist_name\\': \\'Lea Salonga\\', \\'track_uri\\': \\'spotify:track:2AILbz83cBnrAMAG06rZts\\', \\'artist_uri\\': \\'spotify:artist:1GlMjIezcLwV3OFlX0uXOv\\', \\'track_name\\': \\'Reflection - From \"Mulan\"/Soundtrack Version\\', \\'album_uri\\': \\'spotify:album:3Ohs7Jo6GM6mydUOL0m5aC\\', \\'duration_ms\\': 146760, \\'album_name\\': \\'Mulan\\'}, {\\'pos\\': 10, \\'artist_name\\': \\'Brad Kane\\', \\'track_uri\\': \\'spotify:track:4wN8Ov3kPZdkJ8XcYxYUGz\\', \\'artist_uri\\': \\'spotify:artist:3dAzSJ9lQnJSq5Z0OgDBep\\', \\'track_name\\': \\'One Jump Ahead\\', \\'album_uri\\': \\'spotify:album:29EiOQJnxWlX5nVOWQpu3u\\', \\'duration_ms\\': 142440, \\'album_name\\': \\'Aladdin\\'}, {\\'pos\\': 11, \\'artist_name\\': \\'Jonathan Freeman\\', \\'track_uri\\': \\'spotify:track:5BEItY9of9nR4zj51JO0jU\\', \\'artist_uri\\': \\'spotify:artist:2970T0VJFpIWMA2aZi6Lpi\\', \\'track_name\\': \\'Prince Ali (Reprise)\\', \\'album_uri\\': \\'spotify:album:29EiOQJnxWlX5nVOWQpu3u\\', \\'duration_ms\\': 67653, \\'album_name\\': \\'Aladdin\\'}, {\\'pos\\': 12, \\'artist_name\\': \\'Alan Menken\\', \\'track_uri\\': \\'spotify:track:30J2aUXkTp9vsGWH3tegca\\', \\'artist_uri\\': \\'spotify:artist:5sy77gt4bfsLcSQ8GIe4ZZ\\', \\'track_name\\': \\'To Be Free\\', \\'album_uri\\': \\'spotify:album:29EiOQJnxWlX5nVOWQpu3u\\', \\'duration_ms\\': 99253, \\'album_name\\': \\'Aladdin\\'}, {\\'pos\\': 13, \\'artist_name\\': \\'Anika Noni Rose\\', \\'track_uri\\': \\'spotify:track:2dlxN435ZY9ruxGYND2Hq0\\', \\'artist_uri\\': \\'spotify:artist:4fqk0Vw0VrIY8O2eWtmQO2\\', \\'track_name\\': \\'Almost There\\', \\'album_uri\\': \\'spotify:album:6zgvBxOmfWxrQi4Jxxki0P\\', \\'duration_ms\\': 144426, \\'album_name\\': \\'The Princess and the Frog\\'}, {\\'pos\\': 14, \\'artist_name\\': \\'Riverfront Studio Singers\\', \\'track_uri\\': \\'spotify:track:59oPOJ9bYDhWAKNW3gaSPS\\', \\'artist_uri\\': \\'spotify:artist:1NvMcK0prF4jGBppmI3m0c\\', \\'track_name\\': \\'Prince Ali (From \"Aladdin\")\\', \\'album_uri\\': \\'spotify:album:4jbNxHbNTSlgnPj9rpwKt2\\', \\'duration_ms\\': 170024, \\'album_name\\': \\'Kids Movie Songs Vol.3\\'}, {\\'pos\\': 15, \\'artist_name\\': \\'Mandy Moore\\', \\'track_uri\\': \\'spotify:track:6klpXs2uAjagnZMFkt4qkl\\', \\'artist_uri\\': \\'spotify:artist:2LJxr7Pt3JnP60eLxwbDOu\\', \\'track_name\\': \\'I See the Light - From \"Tangled\"/Soundtrack Version\\', \\'album_uri\\': \\'spotify:album:1l0aFrH24oPrQSqGtfeFyE\\', \\'duration_ms\\': 224240, \\'album_name\\': \\'Tangled\\'}, {\\'pos\\': 16, \\'artist_name\\': \\'Mandy Moore\\', \\'track_uri\\': \\'spotify:track:0TCt7OFRdD8PQ6vTRQxNgQ\\', \\'artist_uri\\': \\'spotify:artist:2LJxr7Pt3JnP60eLxwbDOu\\', \\'track_name\\': \\'I\\\\\\'ve Got a Dream - From \"Tangled\"/Soundtrack Version\\', \\'album_uri\\': \\'spotify:album:1l0aFrH24oPrQSqGtfeFyE\\', \\'duration_ms\\': 191413, \\'album_name\\': \\'Tangled\\'}, {\\'pos\\': 17, \\'artist_name\\': \\'Cheryl Freeman\\', \\'track_uri\\': \\'spotify:track:0I8mZRtlFGOqZayJbEAdxL\\', \\'artist_uri\\': \\'spotify:artist:3E0MPcbZSjfJ1HsnJKXkqd\\', \\'track_name\\': \\'The Gospel Truth I / Main Titles - Hercules\\', \\'album_uri\\': \\'spotify:album:7z46fPkl9344yv05HT1Uoq\\', \\'duration_ms\\': 145639, \\'album_name\\': \\'Hercules\\'}, {\\'pos\\': 18, \\'artist_name\\': \\'Dick Van Dyke\\', \\'track_uri\\': \\'spotify:track:2hKYhft1VITPST4iiAHLGC\\', \\'artist_uri\\': \\'spotify:artist:6XIT5sGHOtxVgqtSnMCYZ6\\', \\'track_name\\': \\'Chim Chim Cher-ee\\', \\'album_uri\\': \\'spotify:album:3PlbEOxE8rE8xf7mDWdpgb\\', \\'duration_ms\\': 166080, \\'album_name\\': \\'The Sherman Brothers Songbook\\'}, {\\'pos\\': 19, \\'artist_name\\': \\'Ilene Woods\\', \\'track_uri\\': \\'spotify:track:3uVkugZz6yCTw5Z8sDI19F\\', \\'artist_uri\\': \\'spotify:artist:4DovRSplr3yJIeE3r0RtHj\\', \\'track_name\\': \\'A Dream Is A Wish Your Heart Makes - Soundtrack\\', \\'album_uri\\': \\'spotify:album:6KSC0FkAhdErc0azFDze0i\\', \\'duration_ms\\': 276306, \\'album_name\\': \"Disney\\'s Greatest Volume 2\"}, {\\'pos\\': 20, \\'artist_name\\': \\'Verna Felton\\', \\'track_uri\\': \\'spotify:track:0rzqBHKWkrZZ7R0e2y3abc\\', \\'artist_uri\\': \\'spotify:artist:7aU90hxXexP47nEeMee6xM\\', \\'track_name\\': \\'Where Did I Put That Thing / Bibbidi-Bobbidi-Boo (The Magic Song)\\', \\'album_uri\\': \\'spotify:album:39OqFVu7klRglGlY9XQUQf\\', \\'duration_ms\\': 287933, \\'album_name\\': \\'Cinderella Special Edition\\'}, {\\'pos\\': 21, \\'artist_name\\': \\'Mack David\\', \\'track_uri\\': \\'spotify:track:3uOsIy3rfPEIRawz1xPO5H\\', \\'artist_uri\\': \\'spotify:artist:4tMrFa88Ah85DwbtjQjohF\\', \\'track_name\\': \\'A Visitor / Caught In A Trap / Lucifer Medley\\', \\'album_uri\\': \\'spotify:album:39OqFVu7klRglGlY9XQUQf\\', \\'duration_ms\\': 130866, \\'album_name\\': \\'Cinderella Special Edition\\'}, {\\'pos\\': 22, \\'artist_name\\': \\'Paul J. Smith\\', \\'track_uri\\': \\'spotify:track:195dIFnht6bpaGslMHxxx7\\', \\'artist_uri\\': \\'spotify:artist:3g6RWqrG0tt6oXPMLP2WE5\\', \\'track_name\\': \"Locked in the Tower / Gus and Jaq to the Rescue / Slipper Fittings / Cinderella\\'s Slipper / Finale\", \\'album_uri\\': \\'spotify:album:39OqFVu7klRglGlY9XQUQf\\', \\'duration_ms\\': 461586, \\'album_name\\': \\'Cinderella Special Edition\\'}, {\\'pos\\': 23, \\'artist_name\\': \\'Rhoda Williams\\', \\'track_uri\\': \\'spotify:track:04fAHzTVDZp4Vkb7o54tkt\\', \\'artist_uri\\': \\'spotify:artist:7C3YSHR8TLh6b73PbQojuk\\', \\'track_name\\': \\'The Music Lesson / Oh, Sing Sweet Nightingale / Bad Boy Lucifer / A Message From His Majesty\\', \\'album_uri\\': \\'spotify:album:39OqFVu7klRglGlY9XQUQf\\', \\'duration_ms\\': 126733, \\'album_name\\': \\'Cinderella Special Edition\\'}, {\\'pos\\': 24, \\'artist_name\\': \\'Mice Chorus\\', \\'track_uri\\': \\'spotify:track:7CtiVQKP9pkr9i7p6wk4gl\\', \\'artist_uri\\': \\'spotify:artist:3gcnVAcMBdtYbril7EqBz6\\', \\'track_name\\': \\'Little Dressmaker / The Work Song / Scavenger Hunt / A Dream Is a Wish Your Heart Makes / The Dress / My Beads / Escape to the Garden\\', \\'album_uri\\': \\'spotify:album:39OqFVu7klRglGlY9XQUQf\\', \\'duration_ms\\': 564400, \\'album_name\\': \\'Cinderella Special Edition\\'}, {\\'pos\\': 25, \\'artist_name\\': \\'Samuel E. Wright\\', \\'track_uri\\': \\'spotify:track:6oYkwjI1TKP9D0Y9II1GT7\\', \\'artist_uri\\': \\'spotify:artist:6Id8rcDNyBXPcgKQVfQ8rX\\', \\'track_name\\': \\'Under the Sea - From \"The Little Mermaid\"/ Soundtrack Version\\', \\'album_uri\\': \\'spotify:album:4aAwvCRNJIqiUGVEjieWv6\\', \\'duration_ms\\': 195146, \\'album_name\\': \\'Little Mermaid\\'}, {\\'pos\\': 26, \\'artist_name\\': \\'Leon-Wooley\\', \\'track_uri\\': \\'spotify:track:0II9l1sI3Mo9XKaszKfizl\\', \\'artist_uri\\': \\'spotify:artist:6KwUkoMqmP6cPhsnkKruLr\\', \\'track_name\\': \"When We\\'re Human (feat. Terence Blanchard)\", \\'album_uri\\': \\'spotify:album:6zgvBxOmfWxrQi4Jxxki0P\\', \\'duration_ms\\': 142093, \\'album_name\\': \\'The Princess and the Frog\\'}, {\\'pos\\': 27, \\'artist_name\\': \\'Pat Carroll\\', \\'track_uri\\': \\'spotify:track:7zsw78LtXUD7JfEwH64HK2\\', \\'artist_uri\\': \\'spotify:artist:0Yy9u86cq66Se2pB9fYaiW\\', \\'track_name\\': \\'Poor Unfortunate Souls - From \"The Little Mermaid\" / Soundtrack Version\\', \\'album_uri\\': \\'spotify:album:4aAwvCRNJIqiUGVEjieWv6\\', \\'duration_ms\\': 291693, \\'album_name\\': \\'Little Mermaid\\'}]'],\n",
      "      dtype=object)>)])\n"
     ]
    }
   ],
   "source": [
    "## Validate playlist data\n",
    "playlist_train_pipeline = bq_to_tfdata(BigQueryClient(), row_restriction=None, table_id = 'playlists_track_string'\n",
    "                                    , col_names=playlist_fields\n",
    "                                       , col_types=playlist_types\n",
    "                                       , dataset='spotify_mpd', batch_size=1)\n",
    "for line in playlist_train_pipeline.take(1):\n",
    "    print(line) #should come out based on batch size"
   ]
  },
  {
   "cell_type": "markdown",
   "id": "ae20b3a5-a553-405d-b2f5-d37af35fdc8a",
   "metadata": {},
   "source": [
    "## In pulling one record it looks like it's properly parsing a tf record"
   ]
  },
  {
   "cell_type": "code",
   "execution_count": 49,
   "id": "ed5d012a-868a-4909-9363-d062c031c18a",
   "metadata": {},
   "outputs": [],
   "source": [
    "def _bytes_feature(value):\n",
    "  \"\"\"Returns a bytes_list from a string / byte.\"\"\"\n",
    "  if isinstance(value, type(tf.constant(0))):\n",
    "    value = value.numpy() # BytesList won't unpack a string from an EagerTensor.\n",
    "  return tf.train.Feature(bytes_list=tf.train.BytesList(value=[value]))\n",
    "\n",
    "def _float_feature(value):\n",
    "  \"\"\"Returns a float_list from a float / double.\"\"\"\n",
    "  return tf.train.Feature(float_list=tf.train.FloatList(value=[value]))\n",
    "\n",
    "def _int64_feature(value):\n",
    "  \"\"\"Returns an int64_list from a bool / enum / int / uint.\"\"\"\n",
    "  return tf.train.Feature(int64_list=tf.train.Int64List(value=[value]))"
   ]
  },
  {
   "cell_type": "code",
   "execution_count": 415,
   "id": "8b37b159-34ce-4ef0-88ab-e9cc1ae7d03d",
   "metadata": {},
   "outputs": [],
   "source": [
    "# data[0].keys()#originally got the values from this\n",
    "feature_description = {'pos': tf.io.RaggedFeature(tf.int64), \n",
    "                     'artist_name':  tf.io.RaggedFeature(tf.string), \n",
    "                     'track_uri':  tf.io.RaggedFeature(tf.string), \n",
    "                     'artist_uri': tf.io.RaggedFeature(tf.string), \n",
    "                     'track_name': tf.io.RaggedFeature(tf.string), \n",
    "                     'album_uri': tf.io.RaggedFeature(tf.string),\n",
    "                     'duration_ms': tf.io.RaggedFeature(tf.int64), \n",
    "                     'album_name': tf.io.RaggedFeature(tf.string)\n",
    "                    }\n",
    "context_features = {\"name\" : tf.io.FixedLenFeature(dtype=tf.string, shape=(1)),\n",
    "                    \"collaborative\" : tf.io.FixedLenFeature(dtype=tf.string, shape=(1)),\n",
    "                    \"modified_at\" : tf.io.FixedLenFeature(dtype=tf.int64, shape=(1)),\n",
    "                    \"num_tracks\" : tf.io.FixedLenFeature(dtype=tf.int64, shape=(1)),\n",
    "                    \"num_albums\" : tf.io.FixedLenFeature(dtype=tf.int64, shape=(1)),\n",
    "                    \"num_followers\" :tf.io.FixedLenFeature(dtype=tf.int64, shape=(1)),\n",
    "                    \"num_edits\" :tf.io.FixedLenFeature(dtype=tf.int64, shape=(1)),\n",
    "                    \"duration_ms\" : tf.io.FixedLenFeature(dtype=tf.int64, shape=(1)),\n",
    "                    \"num_artists\" : tf.io.FixedLenFeature(dtype=tf.int64, shape=(1)),\n",
    "                    \"description\" : tf.io.FixedLenFeature(dtype=tf.string, shape=(1))\n",
    "                   }"
   ]
  },
  {
   "cell_type": "code",
   "execution_count": 40,
   "id": "f26af262-01da-4416-bd04-2196ecc9b567",
   "metadata": {},
   "outputs": [],
   "source": [
    "# https://www.tensorflow.org/tutorials/load_data/tfrecord"
   ]
  },
  {
   "cell_type": "code",
   "execution_count": 331,
   "id": "cdd367ae-8273-46a9-b594-543bf693d498",
   "metadata": {},
   "outputs": [],
   "source": [
    "x = []"
   ]
  },
  {
   "cell_type": "code",
   "execution_count": 482,
   "id": "43801106-6dfe-4911-907d-bd09ef3362ea",
   "metadata": {},
   "outputs": [],
   "source": [
    "import json\n",
    "\n",
    "def reader(pipeline):\n",
    "    for record in pipeline:\n",
    "        # record = tf.train.SequenceExample.FromString(record.numpy())\n",
    "        record = record.numpy()\n",
    "        record = eval((record)) #one eval to eval string, second to resolve to list of dicts\n",
    "        # record = tf.io.serialize_tensor(record)\n",
    "        # record_list = record.strip('][').split('}, ')\n",
    "        # for track in record_list:\n",
    "        #     track = track.replace(\"[{\",\"{\").replace('b\"', '').replace('}]','').replace('\\\\','').replace(\"'{\",\"{\").replace(\"}'\",\"}\")+\"}\"\n",
    "        #     try:\n",
    "        #         r = eval(track.replace('b{', '{').replace(\"''\",\"'\"))\n",
    "        #     except json.JSONDecodeError as e:\n",
    "        #         print(e, track)\n",
    "        # r = tf.train.SequenceExample.FromString(record_list)\n",
    "        yield record"
   ]
  },
  {
   "cell_type": "code",
   "execution_count": 483,
   "id": "4bc96609-ec1e-4217-b5b4-403bdbb1481a",
   "metadata": {},
   "outputs": [
    {
     "data": {
      "text/plain": [
       "{'pos': 0,\n",
       " 'artist_name': 'King Crimson',\n",
       " 'track_uri': 'spotify:track:173gp7NIXqk0MEo8K7Av4a',\n",
       " 'artist_uri': 'spotify:artist:7M1FPw29m5FbicYzS2xdpi',\n",
       " 'track_name': '21st Century Schizoid Man',\n",
       " 'album_uri': 'spotify:album:0ga8Q4tTXaFf9q3LvT8hrC',\n",
       " 'duration_ms': 657517,\n",
       " 'album_name': 'Radical Action To Unseat the Hold of Monkey Mind (Live)'}"
      ]
     },
     "execution_count": 483,
     "metadata": {},
     "output_type": "execute_result"
    }
   ],
   "source": [
    "eval(\"{'pos': 0, 'artist_name': 'King Crimson', 'track_uri': 'spotify:track:173gp7NIXqk0MEo8K7Av4a', 'artist_uri': 'spotify:artist:7M1FPw29m5FbicYzS2xdpi', 'track_name': '21st Century Schizoid Man', 'album_uri': 'spotify:album:0ga8Q4tTXaFf9q3LvT8hrC', 'duration_ms': 657517, 'album_name': 'Radical Action To Unseat the Hold of Monkey Mind (Live)'}\")"
   ]
  },
  {
   "cell_type": "code",
   "execution_count": 484,
   "id": "0f0a9a7a-45ed-4b0b-aeeb-a5356deed77a",
   "metadata": {},
   "outputs": [
    {
     "name": "stderr",
     "output_type": "stream",
     "text": [
      "2022-04-23 23:45:41.140946: E tensorflow/core/framework/dataset.cc:577] UNIMPLEMENTED: Cannot compute input sources for dataset of type IO>BigQueryDataset, because the dataset does not implement `InputDatasets`.\n",
      "2022-04-23 23:45:41.140995: E tensorflow/core/framework/dataset.cc:581] UNIMPLEMENTED: Cannot merge options for dataset of type IO>BigQueryDataset, because the dataset does not implement `InputDatasets`.\n",
      "2022-04-23 23:45:41.141313: E tensorflow/core/framework/dataset.cc:577] UNIMPLEMENTED: Cannot compute input sources for dataset of type IO>BigQueryDataset, because the dataset does not implement `InputDatasets`.\n",
      "2022-04-23 23:45:41.141334: E tensorflow/core/framework/dataset.cc:581] UNIMPLEMENTED: Cannot merge options for dataset of type IO>BigQueryDataset, because the dataset does not implement `InputDatasets`.\n"
     ]
    },
    {
     "name": "stdout",
     "output_type": "stream",
     "text": [
      "[{'pos': 0, 'artist_name': 'Peggy Lee (performer), Oliver Wallace (comductor), Walt Disney Studio Orchestra', 'track_uri': 'spotify:track:7gszEHRkBhgWxz4ehSe0lr', 'artist_uri': 'spotify:artist:3MHlIt9IAlysdZJz2xvkj6', 'track_name': \"The Siamese Cat Song / What's Going On Down There\", 'album_uri': 'spotify:album:2bDCjSVK1wjEaPT5YpgtyR', 'duration_ms': 157126, 'album_name': 'Lady and the Tramp (1955 Film Score)'}, {'pos': 1, 'artist_name': 'Peggy Lee (performer), Oliver Wallace (comductor), Walt Disney Studio Orchestra', 'track_uri': 'spotify:track:1LBcs9JY4DedNGwQ61Jztv', 'artist_uri': 'spotify:artist:3MHlIt9IAlysdZJz2xvkj6', 'track_name': \"What A Dog / He's A Tramp\", 'album_uri': 'spotify:album:2bDCjSVK1wjEaPT5YpgtyR', 'duration_ms': 145684, 'album_name': 'Lady and the Tramp (1955 Film Score)'}, {'pos': 2, 'artist_name': 'Angela Lansbury', 'track_uri': 'spotify:track:6btdYzQ8eZFBrOlUKVHuz0', 'artist_uri': 'spotify:artist:0LtVJXnPR8msCJiE2DjHxy', 'track_name': 'Be Our Guest - From \"Beauty and the Beast\"/Soundtrack', 'album_uri': 'spotify:album:3O5p9VNddbwvqWTdYKEqV5', 'duration_ms': 224733, 'album_name': 'Beauty and the Beast'}, {'pos': 3, 'artist_name': 'Lea Salonga', 'track_uri': 'spotify:track:5VIfacsWytkcgr7aTt8Tql', 'artist_uri': 'spotify:artist:1GlMjIezcLwV3OFlX0uXOv', 'track_name': 'A Whole New World', 'album_uri': 'spotify:album:29EiOQJnxWlX5nVOWQpu3u', 'duration_ms': 160800, 'album_name': 'Aladdin'}, {'pos': 4, 'artist_name': 'Lillias White', 'track_uri': 'spotify:track:1HSJMLtNeDryJN76Tu5Ahf', 'artist_uri': 'spotify:artist:5TKKPpY9zr2qrz3JM3Vawq', 'track_name': \"I Won't Say (I'm in Love)\", 'album_uri': 'spotify:album:79xGkf1594kBEtCIaL6yKj', 'duration_ms': 140333, 'album_name': 'Hercules Original Soundtrack'}, {'pos': 5, 'artist_name': 'Donny Osmond', 'track_uri': 'spotify:track:28UMEtwyUUy5u0UWOVHwiI', 'artist_uri': 'spotify:artist:5ZEAzHE2TzAwUcOj6jMIgf', 'track_name': 'I\\'ll Make a Man Out of You - From \"Mulan\"/Soundtrack', 'album_uri': 'spotify:album:3Ohs7Jo6GM6mydUOL0m5aC', 'duration_ms': 201680, 'album_name': 'Mulan'}, {'pos': 6, 'artist_name': 'Samuel E. Wright', 'track_uri': 'spotify:track:4HGIPyqDxSf863tPOwXiLJ', 'artist_uri': 'spotify:artist:6Id8rcDNyBXPcgKQVfQ8rX', 'track_name': 'Kiss the Girl - From \"The Little Mermaid\"/Soundtrack Version', 'album_uri': 'spotify:album:4aAwvCRNJIqiUGVEjieWv6', 'duration_ms': 163400, 'album_name': 'Little Mermaid'}, {'pos': 7, 'artist_name': 'Nathan Lane', 'track_uri': 'spotify:track:5k3U0OGYBccHdKJJu3HrUN', 'artist_uri': 'spotify:artist:0P0do9GwiSgweSF6Ui3mrv', 'track_name': 'Hakuna Matata', 'album_uri': 'spotify:album:3YA5DdB3wSz4pdfEXoMyRd', 'duration_ms': 213600, 'album_name': 'The Lion King'}, {'pos': 8, 'artist_name': 'Bruce Adler', 'track_uri': 'spotify:track:0CKmN3Wwk8W4zjU0pqq2cv', 'artist_uri': 'spotify:artist:66oKiXdIQP7MwN0gPUY0FD', 'track_name': 'Arabian Nights', 'album_uri': 'spotify:album:29EiOQJnxWlX5nVOWQpu3u', 'duration_ms': 79293, 'album_name': 'Aladdin'}, {'pos': 9, 'artist_name': 'Lea Salonga', 'track_uri': 'spotify:track:2AILbz83cBnrAMAG06rZts', 'artist_uri': 'spotify:artist:1GlMjIezcLwV3OFlX0uXOv', 'track_name': 'Reflection - From \"Mulan\"/Soundtrack Version', 'album_uri': 'spotify:album:3Ohs7Jo6GM6mydUOL0m5aC', 'duration_ms': 146760, 'album_name': 'Mulan'}, {'pos': 10, 'artist_name': 'Brad Kane', 'track_uri': 'spotify:track:4wN8Ov3kPZdkJ8XcYxYUGz', 'artist_uri': 'spotify:artist:3dAzSJ9lQnJSq5Z0OgDBep', 'track_name': 'One Jump Ahead', 'album_uri': 'spotify:album:29EiOQJnxWlX5nVOWQpu3u', 'duration_ms': 142440, 'album_name': 'Aladdin'}, {'pos': 11, 'artist_name': 'Jonathan Freeman', 'track_uri': 'spotify:track:5BEItY9of9nR4zj51JO0jU', 'artist_uri': 'spotify:artist:2970T0VJFpIWMA2aZi6Lpi', 'track_name': 'Prince Ali (Reprise)', 'album_uri': 'spotify:album:29EiOQJnxWlX5nVOWQpu3u', 'duration_ms': 67653, 'album_name': 'Aladdin'}, {'pos': 12, 'artist_name': 'Alan Menken', 'track_uri': 'spotify:track:30J2aUXkTp9vsGWH3tegca', 'artist_uri': 'spotify:artist:5sy77gt4bfsLcSQ8GIe4ZZ', 'track_name': 'To Be Free', 'album_uri': 'spotify:album:29EiOQJnxWlX5nVOWQpu3u', 'duration_ms': 99253, 'album_name': 'Aladdin'}, {'pos': 13, 'artist_name': 'Anika Noni Rose', 'track_uri': 'spotify:track:2dlxN435ZY9ruxGYND2Hq0', 'artist_uri': 'spotify:artist:4fqk0Vw0VrIY8O2eWtmQO2', 'track_name': 'Almost There', 'album_uri': 'spotify:album:6zgvBxOmfWxrQi4Jxxki0P', 'duration_ms': 144426, 'album_name': 'The Princess and the Frog'}, {'pos': 14, 'artist_name': 'Riverfront Studio Singers', 'track_uri': 'spotify:track:59oPOJ9bYDhWAKNW3gaSPS', 'artist_uri': 'spotify:artist:1NvMcK0prF4jGBppmI3m0c', 'track_name': 'Prince Ali (From \"Aladdin\")', 'album_uri': 'spotify:album:4jbNxHbNTSlgnPj9rpwKt2', 'duration_ms': 170024, 'album_name': 'Kids Movie Songs Vol.3'}, {'pos': 15, 'artist_name': 'Mandy Moore', 'track_uri': 'spotify:track:6klpXs2uAjagnZMFkt4qkl', 'artist_uri': 'spotify:artist:2LJxr7Pt3JnP60eLxwbDOu', 'track_name': 'I See the Light - From \"Tangled\"/Soundtrack Version', 'album_uri': 'spotify:album:1l0aFrH24oPrQSqGtfeFyE', 'duration_ms': 224240, 'album_name': 'Tangled'}, {'pos': 16, 'artist_name': 'Mandy Moore', 'track_uri': 'spotify:track:0TCt7OFRdD8PQ6vTRQxNgQ', 'artist_uri': 'spotify:artist:2LJxr7Pt3JnP60eLxwbDOu', 'track_name': 'I\\'ve Got a Dream - From \"Tangled\"/Soundtrack Version', 'album_uri': 'spotify:album:1l0aFrH24oPrQSqGtfeFyE', 'duration_ms': 191413, 'album_name': 'Tangled'}, {'pos': 17, 'artist_name': 'Cheryl Freeman', 'track_uri': 'spotify:track:0I8mZRtlFGOqZayJbEAdxL', 'artist_uri': 'spotify:artist:3E0MPcbZSjfJ1HsnJKXkqd', 'track_name': 'The Gospel Truth I / Main Titles - Hercules', 'album_uri': 'spotify:album:7z46fPkl9344yv05HT1Uoq', 'duration_ms': 145639, 'album_name': 'Hercules'}, {'pos': 18, 'artist_name': 'Dick Van Dyke', 'track_uri': 'spotify:track:2hKYhft1VITPST4iiAHLGC', 'artist_uri': 'spotify:artist:6XIT5sGHOtxVgqtSnMCYZ6', 'track_name': 'Chim Chim Cher-ee', 'album_uri': 'spotify:album:3PlbEOxE8rE8xf7mDWdpgb', 'duration_ms': 166080, 'album_name': 'The Sherman Brothers Songbook'}, {'pos': 19, 'artist_name': 'Ilene Woods', 'track_uri': 'spotify:track:3uVkugZz6yCTw5Z8sDI19F', 'artist_uri': 'spotify:artist:4DovRSplr3yJIeE3r0RtHj', 'track_name': 'A Dream Is A Wish Your Heart Makes - Soundtrack', 'album_uri': 'spotify:album:6KSC0FkAhdErc0azFDze0i', 'duration_ms': 276306, 'album_name': \"Disney's Greatest Volume 2\"}, {'pos': 20, 'artist_name': 'Verna Felton', 'track_uri': 'spotify:track:0rzqBHKWkrZZ7R0e2y3abc', 'artist_uri': 'spotify:artist:7aU90hxXexP47nEeMee6xM', 'track_name': 'Where Did I Put That Thing / Bibbidi-Bobbidi-Boo (The Magic Song)', 'album_uri': 'spotify:album:39OqFVu7klRglGlY9XQUQf', 'duration_ms': 287933, 'album_name': 'Cinderella Special Edition'}, {'pos': 21, 'artist_name': 'Mack David', 'track_uri': 'spotify:track:3uOsIy3rfPEIRawz1xPO5H', 'artist_uri': 'spotify:artist:4tMrFa88Ah85DwbtjQjohF', 'track_name': 'A Visitor / Caught In A Trap / Lucifer Medley', 'album_uri': 'spotify:album:39OqFVu7klRglGlY9XQUQf', 'duration_ms': 130866, 'album_name': 'Cinderella Special Edition'}, {'pos': 22, 'artist_name': 'Paul J. Smith', 'track_uri': 'spotify:track:195dIFnht6bpaGslMHxxx7', 'artist_uri': 'spotify:artist:3g6RWqrG0tt6oXPMLP2WE5', 'track_name': \"Locked in the Tower / Gus and Jaq to the Rescue / Slipper Fittings / Cinderella's Slipper / Finale\", 'album_uri': 'spotify:album:39OqFVu7klRglGlY9XQUQf', 'duration_ms': 461586, 'album_name': 'Cinderella Special Edition'}, {'pos': 23, 'artist_name': 'Rhoda Williams', 'track_uri': 'spotify:track:04fAHzTVDZp4Vkb7o54tkt', 'artist_uri': 'spotify:artist:7C3YSHR8TLh6b73PbQojuk', 'track_name': 'The Music Lesson / Oh, Sing Sweet Nightingale / Bad Boy Lucifer / A Message From His Majesty', 'album_uri': 'spotify:album:39OqFVu7klRglGlY9XQUQf', 'duration_ms': 126733, 'album_name': 'Cinderella Special Edition'}, {'pos': 24, 'artist_name': 'Mice Chorus', 'track_uri': 'spotify:track:7CtiVQKP9pkr9i7p6wk4gl', 'artist_uri': 'spotify:artist:3gcnVAcMBdtYbril7EqBz6', 'track_name': 'Little Dressmaker / The Work Song / Scavenger Hunt / A Dream Is a Wish Your Heart Makes / The Dress / My Beads / Escape to the Garden', 'album_uri': 'spotify:album:39OqFVu7klRglGlY9XQUQf', 'duration_ms': 564400, 'album_name': 'Cinderella Special Edition'}, {'pos': 25, 'artist_name': 'Samuel E. Wright', 'track_uri': 'spotify:track:6oYkwjI1TKP9D0Y9II1GT7', 'artist_uri': 'spotify:artist:6Id8rcDNyBXPcgKQVfQ8rX', 'track_name': 'Under the Sea - From \"The Little Mermaid\"/ Soundtrack Version', 'album_uri': 'spotify:album:4aAwvCRNJIqiUGVEjieWv6', 'duration_ms': 195146, 'album_name': 'Little Mermaid'}, {'pos': 26, 'artist_name': 'Leon-Wooley', 'track_uri': 'spotify:track:0II9l1sI3Mo9XKaszKfizl', 'artist_uri': 'spotify:artist:6KwUkoMqmP6cPhsnkKruLr', 'track_name': \"When We're Human (feat. Terence Blanchard)\", 'album_uri': 'spotify:album:6zgvBxOmfWxrQi4Jxxki0P', 'duration_ms': 142093, 'album_name': 'The Princess and the Frog'}, {'pos': 27, 'artist_name': 'Pat Carroll', 'track_uri': 'spotify:track:7zsw78LtXUD7JfEwH64HK2', 'artist_uri': 'spotify:artist:0Yy9u86cq66Se2pB9fYaiW', 'track_name': 'Poor Unfortunate Souls - From \"The Little Mermaid\" / Soundtrack Version', 'album_uri': 'spotify:album:4aAwvCRNJIqiUGVEjieWv6', 'duration_ms': 291693, 'album_name': 'Little Mermaid'}]\n"
     ]
    }
   ],
   "source": [
    "for x in reader(playlist_train_pipeline.map(lambda x: x['tracks'][0]).take(1)):\n",
    "    print(x)"
   ]
  },
  {
   "cell_type": "code",
   "execution_count": 485,
   "id": "d105c3a0-5a5f-419e-b389-973e61e74f74",
   "metadata": {},
   "outputs": [
    {
     "data": {
      "text/plain": [
       "{'pos': 0,\n",
       " 'artist_name': 'Peggy Lee (performer), Oliver Wallace (comductor), Walt Disney Studio Orchestra',\n",
       " 'track_uri': 'spotify:track:7gszEHRkBhgWxz4ehSe0lr',\n",
       " 'artist_uri': 'spotify:artist:3MHlIt9IAlysdZJz2xvkj6',\n",
       " 'track_name': \"The Siamese Cat Song / What's Going On Down There\",\n",
       " 'album_uri': 'spotify:album:2bDCjSVK1wjEaPT5YpgtyR',\n",
       " 'duration_ms': 157126,\n",
       " 'album_name': 'Lady and the Tramp (1955 Film Score)'}"
      ]
     },
     "execution_count": 485,
     "metadata": {},
     "output_type": "execute_result"
    }
   ],
   "source": [
    "z = x[0]\n",
    "z"
   ]
  },
  {
   "cell_type": "code",
   "execution_count": 463,
   "id": "2bce54b7-a6d2-4218-b869-c6798a2773db",
   "metadata": {},
   "outputs": [
    {
     "data": {
      "text/plain": [
       "dict_keys(['pos', 'artist_name', 'track_uri', 'artist_uri', 'track_name', 'album_uri', 'duration_ms', 'album_name'])"
      ]
     },
     "execution_count": 463,
     "metadata": {},
     "output_type": "execute_result"
    }
   ],
   "source": [
    "x[0].keys()"
   ]
  },
  {
   "cell_type": "code",
   "execution_count": null,
   "id": "090a101c-7882-4d88-b306-3b0c15a2a62c",
   "metadata": {},
   "outputs": [],
   "source": [
    "# data[0].keys()#originally got the values from this\n",
    "feature_description = {'pos': tf.io.RaggedFeature(tf.int64), \n",
    "                     'artist_name':  tf.io.RaggedFeature(tf.string), \n",
    "                     'track_uri':  tf.io.RaggedFeature(tf.string), \n",
    "                     'artist_uri': tf.io.RaggedFeature(tf.string), \n",
    "                     'track_name': tf.io.RaggedFeature(tf.string), \n",
    "                     'album_uri': tf.io.RaggedFeature(tf.string),\n",
    "                     'duration_ms': tf.io.RaggedFeature(tf.int64), \n",
    "                     'album_name': tf.io.RaggedFeature(tf.string)\n",
    "                    }\n",
    "context_features = {\"name\" : tf.io.FixedLenFeature(dtype=tf.string, shape=(1)),\n",
    "                    \"collaborative\" : tf.io.FixedLenFeature(dtype=tf.string, shape=(1)),\n",
    "                    \"modified_at\" : tf.io.FixedLenFeature(dtype=tf.int64, shape=(1)),\n",
    "                    \"num_tracks\" : tf.io.FixedLenFeature(dtype=tf.int64, shape=(1)),\n",
    "                    \"num_albums\" : tf.io.FixedLenFeature(dtype=tf.int64, shape=(1)),\n",
    "                    \"num_followers\" :tf.io.FixedLenFeature(dtype=tf.int64, shape=(1)),\n",
    "                    \"num_edits\" :tf.io.FixedLenFeature(dtype=tf.int64, shape=(1)),\n",
    "                    \"duration_ms\" : tf.io.FixedLenFeature(dtype=tf.int64, shape=(1)),\n",
    "                    \"num_artists\" : tf.io.FixedLenFeature(dtype=tf.int64, shape=(1)),\n",
    "                    \"description\" : tf.io.FixedLenFeature(dtype=tf.string, shape=(1))\n",
    "                   }"
   ]
  },
  {
   "cell_type": "code",
   "execution_count": 511,
   "id": "82765dec-1d18-49b5-9a9f-81cbfff56a29",
   "metadata": {},
   "outputs": [
    {
     "name": "stdout",
     "output_type": "stream",
     "text": [
      "feature_lists {\n",
      "  feature_list {\n",
      "    key: \"tracks\"\n",
      "    value {\n",
      "      feature {\n",
      "        int64_list {\n",
      "          value: 0\n",
      "          value: 1\n",
      "          value: 2\n",
      "          value: 3\n",
      "          value: 4\n",
      "          value: 5\n",
      "          value: 6\n",
      "          value: 7\n",
      "          value: 8\n",
      "          value: 9\n",
      "          value: 10\n",
      "          value: 11\n",
      "          value: 12\n",
      "          value: 13\n",
      "          value: 14\n",
      "          value: 15\n",
      "          value: 16\n",
      "          value: 17\n",
      "          value: 18\n",
      "          value: 19\n",
      "          value: 20\n",
      "          value: 21\n",
      "          value: 22\n",
      "          value: 23\n",
      "          value: 24\n",
      "          value: 25\n",
      "          value: 26\n",
      "          value: 27\n",
      "        }\n",
      "      }\n",
      "      feature {\n",
      "        bytes_list {\n",
      "          value: \"Peggy Lee (performer), Oliver Wallace (comductor), Walt Disney Studio Orchestra\"\n",
      "          value: \"Peggy Lee (performer), Oliver Wallace (comductor), Walt Disney Studio Orchestra\"\n",
      "          value: \"Angela Lansbury\"\n",
      "          value: \"Lea Salonga\"\n",
      "          value: \"Lillias White\"\n",
      "          value: \"Donny Osmond\"\n",
      "          value: \"Samuel E. Wright\"\n",
      "          value: \"Nathan Lane\"\n",
      "          value: \"Bruce Adler\"\n",
      "          value: \"Lea Salonga\"\n",
      "          value: \"Brad Kane\"\n",
      "          value: \"Jonathan Freeman\"\n",
      "          value: \"Alan Menken\"\n",
      "          value: \"Anika Noni Rose\"\n",
      "          value: \"Riverfront Studio Singers\"\n",
      "          value: \"Mandy Moore\"\n",
      "          value: \"Mandy Moore\"\n",
      "          value: \"Cheryl Freeman\"\n",
      "          value: \"Dick Van Dyke\"\n",
      "          value: \"Ilene Woods\"\n",
      "          value: \"Verna Felton\"\n",
      "          value: \"Mack David\"\n",
      "          value: \"Paul J. Smith\"\n",
      "          value: \"Rhoda Williams\"\n",
      "          value: \"Mice Chorus\"\n",
      "          value: \"Samuel E. Wright\"\n",
      "          value: \"Leon-Wooley\"\n",
      "          value: \"Pat Carroll\"\n",
      "        }\n",
      "      }\n",
      "    }\n",
      "  }\n",
      "}\n",
      "\n"
     ]
    }
   ],
   "source": [
    "key_list = ['pos', 'artist_name', 'track_uri', 'artist_uri', 'track_name', 'album_uri', 'duration_ms', 'album_name']\n",
    "y = {}\n",
    "\n",
    "for _ in key_list:\n",
    "    y[_] = []\n",
    "    \n",
    "for track in x:\n",
    "    y['pos'].append(track['pos'])\n",
    "    y['artist_name'].append(track['artist_name'].encode('utf8'))\n",
    "    y['artist_uri'].append(track['artist_uri'].encode('utf8'))\n",
    "    y['track_name'].append(track['track_name'])\n",
    "    y['album_uri'].append(track['album_uri'])\n",
    "    y['duration_ms'].append(track['duration_ms'])\n",
    "    y['album_name'].append(track['album_name'])\n",
    "    y['track_uri'].append(track['track_uri'])\n",
    "\n",
    "y\n",
    "\n",
    "from tensorflow.train import BytesList, Feature, FeatureList, Int64List\n",
    "pos = Int64List(value=y['pos'])\n",
    "artist_name = BytesList(value=y['artist_name'])\n",
    "fl = FeatureList(feature=[Feature(int64_list=pos), \n",
    "                          Feature(bytes_list=artist_name)\n",
    "                         ])\n",
    "\n",
    "from tensorflow.train import SequenceExample, FeatureLists\n",
    "\n",
    "seq = SequenceExample(feature_lists=FeatureLists(feature_list={\n",
    "    \"tracks\": fl\n",
    "}))\n",
    "print(seq)"
   ]
  },
  {
   "cell_type": "code",
   "execution_count": 508,
   "id": "300084c5-cf85-4c99-a338-48d207f7063f",
   "metadata": {},
   "outputs": [
    {
     "data": {
      "text/plain": [
       "\u001b[0;31mInit signature:\u001b[0m \u001b[0mFeature\u001b[0m\u001b[0;34m(\u001b[0m\u001b[0mself\u001b[0m\u001b[0;34m,\u001b[0m \u001b[0;34m/\u001b[0m\u001b[0;34m,\u001b[0m \u001b[0;34m*\u001b[0m\u001b[0margs\u001b[0m\u001b[0;34m,\u001b[0m \u001b[0;34m**\u001b[0m\u001b[0mkwargs\u001b[0m\u001b[0;34m)\u001b[0m\u001b[0;34m\u001b[0m\u001b[0;34m\u001b[0m\u001b[0m\n",
       "\u001b[0;31mDocstring:\u001b[0m     \n",
       "A `Feature` is a list which may hold zero or more values.\n",
       "\n",
       "There are three base `Feature` types:\n",
       "\n",
       "  - `tf.train.BytesList`\n",
       "  - `tf.train.FloatList`\n",
       "  - `tf.train.Int64List`\n",
       "\u001b[0;31mFile:\u001b[0m           ~/.local/lib/python3.7/site-packages/tensorflow/core/example/feature_pb2.py\n",
       "\u001b[0;31mType:\u001b[0m           GeneratedProtocolMessageType\n",
       "\u001b[0;31mSubclasses:\u001b[0m     \n"
      ]
     },
     "metadata": {},
     "output_type": "display_data"
    }
   ],
   "source": [
    "?Feature"
   ]
  },
  {
   "cell_type": "code",
   "execution_count": 466,
   "id": "af7a12d9-77bb-490b-9e69-1a8475bb4425",
   "metadata": {},
   "outputs": [],
   "source": [
    "tf_seq = {}\n",
    "tf_seq['feature_lists'] = {}\n",
    "tf_seq['feature_lists'] ['feature_list'] = {}"
   ]
  },
  {
   "cell_type": "code",
   "execution_count": 467,
   "id": "0c4b81f0-35c2-42cd-a504-cbcf10e7e43a",
   "metadata": {},
   "outputs": [],
   "source": [
    "# data[0].keys()#originally got the values from this\n",
    "feature_description = {'pos': tf.io.RaggedFeature(tf.int64), \n",
    "                     'artist_name':  tf.io.RaggedFeature(tf.string), \n",
    "                     'track_uri':  tf.io.RaggedFeature(tf.string), \n",
    "                     'artist_uri': tf.io.RaggedFeature(tf.string), \n",
    "                     'track_name': tf.io.RaggedFeature(tf.string), \n",
    "                     'album_uri': tf.io.RaggedFeature(tf.string),\n",
    "                     'duration_ms': tf.io.RaggedFeature(tf.int64), \n",
    "                     'album_name': tf.io.RaggedFeature(tf.string)\n",
    "                    }\n",
    "context_features = {\"name\" : tf.io.FixedLenFeature(dtype=tf.string, shape=(1)),\n",
    "                    \"collaborative\" : tf.io.FixedLenFeature(dtype=tf.string, shape=(1)),\n",
    "                    \"modified_at\" : tf.io.FixedLenFeature(dtype=tf.int64, shape=(1)),\n",
    "                    \"num_tracks\" : tf.io.FixedLenFeature(dtype=tf.int64, shape=(1)),\n",
    "                    \"num_albums\" : tf.io.FixedLenFeature(dtype=tf.int64, shape=(1)),\n",
    "                    \"num_followers\" :tf.io.FixedLenFeature(dtype=tf.int64, shape=(1)),\n",
    "                    \"num_edits\" :tf.io.FixedLenFeature(dtype=tf.int64, shape=(1)),\n",
    "                    \"duration_ms\" : tf.io.FixedLenFeature(dtype=tf.int64, shape=(1)),\n",
    "                    \"num_artists\" : tf.io.FixedLenFeature(dtype=tf.int64, shape=(1)),\n",
    "                    \"description\" : tf.io.FixedLenFeature(dtype=tf.string, shape=(1))\n",
    "                   }\n",
    "\n",
    "\n",
    "\n",
    "#  feature_lists: {\n",
    "#     feature_list: {\n",
    "#       key  : \"movie_ratings\"\n",
    "#       value: {\n",
    "#         feature: {\n",
    "#           float_list: {\n",
    "#             value: [ 4.5 ]\n",
    "#           }\n",
    "#         }\n",
    "#         feature: {\n",
    "#           float_list: {\n",
    "#             value: [ 5.0 ]\n",
    "#           }\n",
    "#         }\n",
    "#       }\n",
    "#     }\n",
    "#     feature_list: {\n",
    "#       key  : \"movie_names\"\n",
    "#       value: {\n",
    "#         feature: {\n",
    "#           bytes_list: {\n",
    "#             value: [ \"The Shawshank Redemption\" ]\n",
    "#           }\n",
    "#         }\n",
    "#         feature: {\n",
    "#           bytes_list: {\n",
    "#             value: [ \"Fight Club\" ]\n",
    "#           }\n",
    "#         }\n",
    "#       }\n",
    "#     }\n",
    "#     feature_list: {\n",
    "#       key  : \"actors\"\n",
    "#       value: {\n",
    "#         feature: {\n",
    "#           bytes_list: {\n",
    "#             value: [ \"Tim Robbins\", \"Morgan Freeman\" ]\n",
    "#           }\n",
    "#         }\n",
    "#         feature: {\n",
    "#           bytes_list: {\n",
    "#             value: [ \"Brad Pitt\", \"Edward Norton\", \"Helena Bonham Carter\" ]\n",
    "#           }\n",
    "#         }\n",
    "#       }\n",
    "#     }\n",
    "#   }"
   ]
  },
  {
   "cell_type": "code",
   "execution_count": null,
   "id": "71262ed0-4379-48f9-8005-4262421b4915",
   "metadata": {},
   "outputs": [],
   "source": [
    "#formatting of message to conform to sequence example\n",
    "\n"
   ]
  },
  {
   "cell_type": "code",
   "execution_count": 418,
   "id": "82c5b871-bada-47ee-8a5e-328a2b67440a",
   "metadata": {},
   "outputs": [
    {
     "name": "stderr",
     "output_type": "stream",
     "text": [
      "2022-04-23 22:52:05.953466: W tensorflow/core/framework/op_kernel.cc:1745] OP_REQUIRES failed at example_parsing_ops.cc:480 : INVALID_ARGUMENT: Invalid protocol message input, example id: <unknown>\n"
     ]
    },
    {
     "ename": "InvalidArgumentError",
     "evalue": "Invalid protocol message input, example id: <unknown> [Op:ParseSequenceExampleV2]",
     "output_type": "error",
     "traceback": [
      "\u001b[0;31m---------------------------------------------------------------------------\u001b[0m",
      "\u001b[0;31mInvalidArgumentError\u001b[0m                      Traceback (most recent call last)",
      "\u001b[0;32m/tmp/ipykernel_32132/4261975403.py\u001b[0m in \u001b[0;36m<module>\u001b[0;34m\u001b[0m\n\u001b[0;32m----> 1\u001b[0;31m \u001b[0mtf\u001b[0m\u001b[0;34m.\u001b[0m\u001b[0mio\u001b[0m\u001b[0;34m.\u001b[0m\u001b[0mparse_sequence_example\u001b[0m\u001b[0;34m(\u001b[0m\u001b[0mstr\u001b[0m\u001b[0;34m(\u001b[0m\u001b[0mx\u001b[0m\u001b[0;34m[\u001b[0m\u001b[0;36m0\u001b[0m\u001b[0;34m]\u001b[0m\u001b[0;34m)\u001b[0m\u001b[0;34m,\u001b[0m \u001b[0msequence_features\u001b[0m\u001b[0;34m=\u001b[0m\u001b[0mfeature_description\u001b[0m\u001b[0;34m)\u001b[0m\u001b[0;34m\u001b[0m\u001b[0;34m\u001b[0m\u001b[0m\n\u001b[0m",
      "\u001b[0;32m~/.local/lib/python3.7/site-packages/tensorflow/python/util/traceback_utils.py\u001b[0m in \u001b[0;36merror_handler\u001b[0;34m(*args, **kwargs)\u001b[0m\n\u001b[1;32m    151\u001b[0m     \u001b[0;32mexcept\u001b[0m \u001b[0mException\u001b[0m \u001b[0;32mas\u001b[0m \u001b[0me\u001b[0m\u001b[0;34m:\u001b[0m\u001b[0;34m\u001b[0m\u001b[0;34m\u001b[0m\u001b[0m\n\u001b[1;32m    152\u001b[0m       \u001b[0mfiltered_tb\u001b[0m \u001b[0;34m=\u001b[0m \u001b[0m_process_traceback_frames\u001b[0m\u001b[0;34m(\u001b[0m\u001b[0me\u001b[0m\u001b[0;34m.\u001b[0m\u001b[0m__traceback__\u001b[0m\u001b[0;34m)\u001b[0m\u001b[0;34m\u001b[0m\u001b[0;34m\u001b[0m\u001b[0m\n\u001b[0;32m--> 153\u001b[0;31m       \u001b[0;32mraise\u001b[0m \u001b[0me\u001b[0m\u001b[0;34m.\u001b[0m\u001b[0mwith_traceback\u001b[0m\u001b[0;34m(\u001b[0m\u001b[0mfiltered_tb\u001b[0m\u001b[0;34m)\u001b[0m \u001b[0;32mfrom\u001b[0m \u001b[0;32mNone\u001b[0m\u001b[0;34m\u001b[0m\u001b[0;34m\u001b[0m\u001b[0m\n\u001b[0m\u001b[1;32m    154\u001b[0m     \u001b[0;32mfinally\u001b[0m\u001b[0;34m:\u001b[0m\u001b[0;34m\u001b[0m\u001b[0;34m\u001b[0m\u001b[0m\n\u001b[1;32m    155\u001b[0m       \u001b[0;32mdel\u001b[0m \u001b[0mfiltered_tb\u001b[0m\u001b[0;34m\u001b[0m\u001b[0;34m\u001b[0m\u001b[0m\n",
      "\u001b[0;32m~/.local/lib/python3.7/site-packages/tensorflow/python/eager/execute.py\u001b[0m in \u001b[0;36mquick_execute\u001b[0;34m(op_name, num_outputs, inputs, attrs, ctx, name)\u001b[0m\n\u001b[1;32m     57\u001b[0m     \u001b[0mctx\u001b[0m\u001b[0;34m.\u001b[0m\u001b[0mensure_initialized\u001b[0m\u001b[0;34m(\u001b[0m\u001b[0;34m)\u001b[0m\u001b[0;34m\u001b[0m\u001b[0;34m\u001b[0m\u001b[0m\n\u001b[1;32m     58\u001b[0m     tensors = pywrap_tfe.TFE_Py_Execute(ctx._handle, device_name, op_name,\n\u001b[0;32m---> 59\u001b[0;31m                                         inputs, attrs, num_outputs)\n\u001b[0m\u001b[1;32m     60\u001b[0m   \u001b[0;32mexcept\u001b[0m \u001b[0mcore\u001b[0m\u001b[0;34m.\u001b[0m\u001b[0m_NotOkStatusException\u001b[0m \u001b[0;32mas\u001b[0m \u001b[0me\u001b[0m\u001b[0;34m:\u001b[0m\u001b[0;34m\u001b[0m\u001b[0;34m\u001b[0m\u001b[0m\n\u001b[1;32m     61\u001b[0m     \u001b[0;32mif\u001b[0m \u001b[0mname\u001b[0m \u001b[0;32mis\u001b[0m \u001b[0;32mnot\u001b[0m \u001b[0;32mNone\u001b[0m\u001b[0;34m:\u001b[0m\u001b[0;34m\u001b[0m\u001b[0;34m\u001b[0m\u001b[0m\n",
      "\u001b[0;31mInvalidArgumentError\u001b[0m: Invalid protocol message input, example id: <unknown> [Op:ParseSequenceExampleV2]"
     ]
    }
   ],
   "source": [
    "tf.io.parse_sequence_example(str(x[0]), sequence_features=feature_description)"
   ]
  },
  {
   "cell_type": "markdown",
   "id": "64a3bf5f-d8fa-4014-8373-d741dc97aa09",
   "metadata": {},
   "source": [
    "# do some data wranglging on the text data\n",
    "# tf.train.Example(features=tf.train.Features(feature=feature))\n",
    "for _ in playlist_train_pipeline.map(lambda x: tf.io.parse_sequence_example(tf.io.serialize_tensor(x['tracks'][0]), sequence_features=feature_description, context_features=context_features, name='tracks')).take(1):\n",
    "    tensor = _\n",
    "    print(_)"
   ]
  },
  {
   "cell_type": "code",
   "execution_count": 156,
   "id": "7fcd27a1-fecb-45be-8bf8-6eebe7d7263a",
   "metadata": {},
   "outputs": [
    {
     "ename": "AttributeError",
     "evalue": "'tuple' object has no attribute 'numpy'",
     "output_type": "error",
     "traceback": [
      "\u001b[0;31m---------------------------------------------------------------------------\u001b[0m",
      "\u001b[0;31mAttributeError\u001b[0m                            Traceback (most recent call last)",
      "\u001b[0;32m/tmp/ipykernel_32132/1201079206.py\u001b[0m in \u001b[0;36m<module>\u001b[0;34m\u001b[0m\n\u001b[0;32m----> 1\u001b[0;31m \u001b[0mtensor\u001b[0m\u001b[0;34m.\u001b[0m\u001b[0mnumpy\u001b[0m\u001b[0;34m(\u001b[0m\u001b[0;34m)\u001b[0m\u001b[0;34m[\u001b[0m\u001b[0;36m0\u001b[0m\u001b[0;34m]\u001b[0m\u001b[0;34m\u001b[0m\u001b[0;34m\u001b[0m\u001b[0m\n\u001b[0m",
      "\u001b[0;31mAttributeError\u001b[0m: 'tuple' object has no attribute 'numpy'"
     ]
    }
   ],
   "source": [
    "tensor.numpy()[0]"
   ]
  },
  {
   "cell_type": "code",
   "execution_count": 157,
   "id": "b10cf278-4582-4f93-b7e6-b5518b6a08c2",
   "metadata": {},
   "outputs": [],
   "source": [
    "# for tracks in playlist_train_pipeline.map(lambda x: x['tracks']).take(1):\n",
    "def get_tracks_from_tracks(tracks):\n",
    "    for track in tracks:\n",
    "        track = tf.train.SequenceExample(track)\n",
    "    return track"
   ]
  },
  {
   "cell_type": "code",
   "execution_count": 121,
   "id": "3079aa09-f073-4da6-bf4e-68416eee9c49",
   "metadata": {},
   "outputs": [
    {
     "ename": "AttributeError",
     "evalue": "'tuple' object has no attribute 'numpy'",
     "output_type": "error",
     "traceback": [
      "\u001b[0;31m---------------------------------------------------------------------------\u001b[0m",
      "\u001b[0;31mAttributeError\u001b[0m                            Traceback (most recent call last)",
      "\u001b[0;32m/tmp/ipykernel_32132/800008606.py\u001b[0m in \u001b[0;36m<module>\u001b[0;34m\u001b[0m\n\u001b[1;32m      1\u001b[0m serialized_songs = tf.io.serialize_tensor(\n\u001b[0;32m----> 2\u001b[0;31m     \u001b[0mtensor\u001b[0m\u001b[0;34m.\u001b[0m\u001b[0mnumpy\u001b[0m\u001b[0;34m(\u001b[0m\u001b[0;34m)\u001b[0m\u001b[0;34m[\u001b[0m\u001b[0;36m0\u001b[0m\u001b[0;34m]\u001b[0m\u001b[0;34m\u001b[0m\u001b[0;34m\u001b[0m\u001b[0m\n\u001b[0m\u001b[1;32m      3\u001b[0m )\n\u001b[1;32m      4\u001b[0m \u001b[0mserialized_songs\u001b[0m\u001b[0;34m\u001b[0m\u001b[0;34m\u001b[0m\u001b[0m\n\u001b[1;32m      5\u001b[0m \u001b[0mtf\u001b[0m\u001b[0;34m.\u001b[0m\u001b[0mio\u001b[0m\u001b[0;34m.\u001b[0m\u001b[0mparse_sequence_example\u001b[0m\u001b[0;34m(\u001b[0m\u001b[0mserialized_songs\u001b[0m\u001b[0;34m,\u001b[0m \u001b[0msequence_features\u001b[0m\u001b[0;34m=\u001b[0m\u001b[0mfeature_description\u001b[0m\u001b[0;34m)\u001b[0m\u001b[0;34m\u001b[0m\u001b[0;34m\u001b[0m\u001b[0m\n",
      "\u001b[0;31mAttributeError\u001b[0m: 'tuple' object has no attribute 'numpy'"
     ]
    }
   ],
   "source": [
    "serialized_songs = tf.io.serialize_tensor(\n",
    "    tensor.numpy()[0]\n",
    ")\n",
    "serialized_songs\n",
    "tf.io.parse_sequence_example(serialized_songs, sequence_features=feature_description)"
   ]
  },
  {
   "cell_type": "markdown",
   "id": "6829748a-0347-449b-8301-1b48f53e19f2",
   "metadata": {},
   "source": [
    "tensor.numpy()"
   ]
  },
  {
   "cell_type": "code",
   "execution_count": 141,
   "id": "bfe33f2b-52c1-4ea0-ac70-fb4082e27530",
   "metadata": {},
   "outputs": [
    {
     "name": "stderr",
     "output_type": "stream",
     "text": [
      "2022-04-23 16:31:23.286491: E tensorflow/core/framework/dataset.cc:577] UNIMPLEMENTED: Cannot compute input sources for dataset of type IO>BigQueryDataset, because the dataset does not implement `InputDatasets`.\n",
      "2022-04-23 16:31:23.286540: E tensorflow/core/framework/dataset.cc:581] UNIMPLEMENTED: Cannot merge options for dataset of type IO>BigQueryDataset, because the dataset does not implement `InputDatasets`.\n",
      "2022-04-23 16:31:23.286879: E tensorflow/core/framework/dataset.cc:577] UNIMPLEMENTED: Cannot compute input sources for dataset of type IO>BigQueryDataset, because the dataset does not implement `InputDatasets`.\n",
      "2022-04-23 16:31:23.286921: E tensorflow/core/framework/dataset.cc:581] UNIMPLEMENTED: Cannot merge options for dataset of type IO>BigQueryDataset, because the dataset does not implement `InputDatasets`.\n"
     ]
    },
    {
     "name": "stdout",
     "output_type": "stream",
     "text": [
      "({}, {'album_name': <tf.RaggedTensor []>, 'album_uri': <tf.RaggedTensor []>, 'artist_name': <tf.RaggedTensor []>, 'artist_uri': <tf.RaggedTensor []>, 'duration_ms': <tf.RaggedTensor []>, 'pos': <tf.RaggedTensor []>, 'track_name': <tf.RaggedTensor []>, 'track_uri': <tf.RaggedTensor []>})\n"
     ]
    }
   ],
   "source": [
    "playlist_train_pipeline2 = playlist_train_pipeline.map(lambda x: tf.io.serialize_tensor(x['tracks'][0]))\n",
    "# playlist_train_pipeline3 = playlist_train_pipeline2.map(get_tracks_from_tracks)\n",
    "for _ in playlist_train_pipeline2.map(lambda x: tf.io.parse_single_sequence_example(x, sequence_features=feature_description)).take(1):\n",
    "    tensor = _\n",
    "    print(_)"
   ]
  },
  {
   "cell_type": "code",
   "execution_count": 131,
   "id": "ba1c8eb0-5606-42a5-af13-1931b4b1eccf",
   "metadata": {},
   "outputs": [
    {
     "name": "stderr",
     "output_type": "stream",
     "text": [
      "2022-04-23 16:13:20.572132: E tensorflow/core/framework/dataset.cc:577] UNIMPLEMENTED: Cannot compute input sources for dataset of type IO>BigQueryDataset, because the dataset does not implement `InputDatasets`.\n",
      "2022-04-23 16:13:20.572178: E tensorflow/core/framework/dataset.cc:581] UNIMPLEMENTED: Cannot merge options for dataset of type IO>BigQueryDataset, because the dataset does not implement `InputDatasets`.\n",
      "2022-04-23 16:13:20.572508: E tensorflow/core/framework/dataset.cc:577] UNIMPLEMENTED: Cannot compute input sources for dataset of type IO>BigQueryDataset, because the dataset does not implement `InputDatasets`.\n",
      "2022-04-23 16:13:20.572544: E tensorflow/core/framework/dataset.cc:581] UNIMPLEMENTED: Cannot merge options for dataset of type IO>BigQueryDataset, because the dataset does not implement `InputDatasets`.\n"
     ]
    }
   ],
   "source": [
    "for _ in playlist_train_pipeline2.take(1):\n",
    "    tensor2 = _"
   ]
  },
  {
   "cell_type": "code",
   "execution_count": 136,
   "id": "608410cc-4643-44ea-a11f-87ea69b558dc",
   "metadata": {},
   "outputs": [
    {
     "data": {
      "text/plain": [
       "<tf.Tensor: shape=(), dtype=string, numpy=b\"[{'pos': 0, 'artist_name': 'K CAMP', 'track_uri': 'spotify:track:7hRwwjy1cmwGkzBnJlhtnY', 'artist_uri': 'spotify:artist:5bgfj5zUoWpyeVatGDjn6H', 'track_name': '5 Minutes', 'album_uri': 'spotify:album:2GPRyHEFB2uzrB8aFyAmkP', 'duration_ms': 203080, 'album_name': '5 Minutes'}, {'pos': 1, 'artist_name': 'Post Malone', 'track_uri': 'spotify:track:5yuShbu70mtHXY0yLzCQLQ', 'artist_uri': 'spotify:artist:246dkjvS1zLTtiykXe5h60', 'track_name': 'Go Flex', 'album_uri': 'spotify:album:5s0rmjP8XOPhP6HhqOhuyC', 'duration_ms': 179613, 'album_name': 'Stoney'}, {'pos': 2, 'artist_name': 'Marc E. Bassy', 'track_uri': 'spotify:track:0LFqxv7O10lq49g4wpJ1ht', 'artist_uri': 'spotify:artist:3tQx1LPXbsYjE9VwN1Peaa', 'track_name': 'Relapse (feat. Iamsu!)', 'album_uri': 'spotify:album:2KjK2W2EFrzLF3iTRWnKlJ', 'duration_ms': 184500, 'album_name': 'Only The Poets Mixtape (Vol. 1)'}, {'pos': 3, 'artist_name': 'Kodak Black', 'track_uri': 'spotify:track:5v7kaZNsnyByrSJOfO8gKq', 'artist_uri': 'spotify:artist:46SHBwWsqBkxI7EeeBEQG7', 'track_name': 'Skrt', 'album_uri': 'spotify:album:5pgyZ32nzg48ugJS2QVVuS', 'duration_ms': 224864, 'album_name': 'Skrt'}, {'pos': 4, 'artist_name': 'Tory Lanez', 'track_uri': 'spotify:track:2Gyc6e2cLxA5hoX1NOvYnU', 'artist_uri': 'spotify:artist:2jku7tDXc6XoB6MO2hFuqg', 'track_name': 'Say It', 'album_uri': 'spotify:album:5tBOCi2TekXZ1IbrmlBZO4', 'duration_ms': 237786, 'album_name': 'I Told You'}]\">"
      ]
     },
     "execution_count": 136,
     "metadata": {},
     "output_type": "execute_result"
    }
   ],
   "source": [
    "tensor2"
   ]
  },
  {
   "cell_type": "code",
   "execution_count": 74,
   "id": "19ff7329-ed79-4302-ba94-500c13defda7",
   "metadata": {},
   "outputs": [
    {
     "data": {
      "text/plain": [
       "b'[{\\'pos\\': 0, \\'artist_name\\': \\'George Strait\\', \\'track_uri\\': \\'spotify:track:1TanmIWbaUj5NVwJ3k4XPd\\', \\'artist_uri\\': \\'spotify:artist:5vngPClqofybhPERIqQMYd\\', \\'track_name\\': \\'Write This Down\\', \\'album_uri\\': \\'spotify:album:2Kudx2lMsMx3svYdb2xe2F\\', \\'duration_ms\\': 219600, \\'album_name\\': \\'Always Never The Same\\'}, {\\'pos\\': 1, \\'artist_name\\': \\'Keith Urban\\', \\'track_uri\\': \\'spotify:track:50nzorQ9gi2md8UpFi8aJT\\', \\'artist_uri\\': \\'spotify:artist:0u2FHSq3ln94y5Q57xazwf\\', \\'track_name\\': \\'Somewhere In My Car\\', \\'album_uri\\': \\'spotify:album:5rESCws46ubPJlqOeb30Rv\\', \\'duration_ms\\': 236906, \\'album_name\\': \\'Fuse\\'}, {\\'pos\\': 2, \\'artist_name\\': \\'Blake Shelton\\', \\'track_uri\\': \\'spotify:track:289hx4t6fH2BBe8p6cnXo1\\', \\'artist_uri\\': \\'spotify:artist:1UTPBmNbXNTittyMJrNkvw\\', \\'track_name\\': \\'Neon Light\\', \\'album_uri\\': \\'spotify:album:0daIqjuhsQqXoeII3pBSeT\\', \\'duration_ms\\': 221401, \\'album_name\\': \\'BRINGING BACK THE SUNSHINE\\'}, {\\'pos\\': 3, \\'artist_name\\': \\'Dustin Lynch\\', \\'track_uri\\': \\'spotify:track:4whYDpJ5XVQpmvecbEHP5Q\\', \\'artist_uri\\': \\'spotify:artist:1dID9zgn0OV0Y8ud7Mh2tS\\', \\'track_name\\': \"Where It\\'s At\", \\'album_uri\\': \\'spotify:album:4ZSQEnZOGWEW3XQOAzt477\\', \\'duration_ms\\': 204186, \\'album_name\\': \"Where It\\'s At\"}, {\\'pos\\': 4, \\'artist_name\\': \\'Dustin Lynch\\', \\'track_uri\\': \\'spotify:track:2I0Tnc5117Vkdk78M7vrrf\\', \\'artist_uri\\': \\'spotify:artist:1dID9zgn0OV0Y8ud7Mh2tS\\', \\'track_name\\': \\'Waiting\\', \\'album_uri\\': \\'spotify:album:3lmCslpaoa1acoJ4koOnCY\\', \\'duration_ms\\': 218933, \\'album_name\\': \\'Dustin Lynch\\'}, {\\'pos\\': 5, \\'artist_name\\': \\'Florida Georgia Line\\', \\'track_uri\\': \\'spotify:track:37z5awcsf6MNdobyY2GiLt\\', \\'artist_uri\\': \\'spotify:artist:3b8QkneNDz4JHKKKlLgYZg\\', \\'track_name\\': \\'Tell Me How You Like It\\', \\'album_uri\\': \\'spotify:album:5MH765pytbQasmDxXArTah\\', \\'duration_ms\\': 226160, \\'album_name\\': \"Here\\'s To The Good Times\"}, {\\'pos\\': 6, \\'artist_name\\': \\'Milky Chance\\', \\'track_uri\\': \\'spotify:track:6vECYJHxYmm3Ydt3fF01pE\\', \\'artist_uri\\': \\'spotify:artist:1hzfo8twXdOegF3xireCYs\\', \\'track_name\\': \\'Stolen Dance\\', \\'album_uri\\': \\'spotify:album:5D20ZzsNB377xbshIFP9Nb\\', \\'duration_ms\\': 313684, \\'album_name\\': \\'Sadnecessary\\'}, {\\'pos\\': 7, \\'artist_name\\': \\'Blake Shelton\\', \\'track_uri\\': \\'spotify:track:1j9JbLULlyeUltlcowiEhI\\', \\'artist_uri\\': \\'spotify:artist:1UTPBmNbXNTittyMJrNkvw\\', \\'track_name\\': \"Buzzin\\' (feat. RaeLynn)\", \\'album_uri\\': \\'spotify:album:0daIqjuhsQqXoeII3pBSeT\\', \\'duration_ms\\': 225640, \\'album_name\\': \\'BRINGING BACK THE SUNSHINE\\'}, {\\'pos\\': 8, \\'artist_name\\': \\'Blake Shelton\\', \\'track_uri\\': \\'spotify:track:5Sxfm0RR2y5QHHSk23TORA\\', \\'artist_uri\\': \\'spotify:artist:1UTPBmNbXNTittyMJrNkvw\\', \\'track_name\\': \"Just Gettin\\' Started\", \\'album_uri\\': \\'spotify:album:0daIqjuhsQqXoeII3pBSeT\\', \\'duration_ms\\': 207880, \\'album_name\\': \\'BRINGING BACK THE SUNSHINE\\'}, {\\'pos\\': 9, \\'artist_name\\': \\'Lee Brice\\', \\'track_uri\\': \\'spotify:track:5Kb5utdaR6qXYZ9WpgoKWm\\', \\'artist_uri\\': \\'spotify:artist:5Zq7R5qmi58ByYyBQTlNuk\\', \\'track_name\\': \\'Drinking class\\', \\'album_uri\\': \\'spotify:album:1Ug5qpIXouUHY5hpFj6575\\', \\'duration_ms\\': 207346, \\'album_name\\': \"I Don\\'t Dance\"}, {\\'pos\\': 10, \\'artist_name\\': \\'Tim McGraw\\', \\'track_uri\\': \\'spotify:track:3LbvNFkqDTrE1liGMmZBDL\\', \\'artist_uri\\': \\'spotify:artist:6roFdX1y5BYSbp60OTJWMd\\', \\'track_name\\': \\'Shotgun Rider\\', \\'album_uri\\': \\'spotify:album:39ZUc3Efz2TH8RbPeDTMOB\\', \\'duration_ms\\': 235386, \\'album_name\\': \\'Sundown Heaven Town\\'}, {\\'pos\\': 11, \\'artist_name\\': \\'Chris Young\\', \\'track_uri\\': \\'spotify:track:2j79NtwxoWDmkiH4MGwdLq\\', \\'artist_uri\\': \\'spotify:artist:4BYxqVkZyFjtik7crYLg5Q\\', \\'track_name\\': \\'Lonely Eyes\\', \\'album_uri\\': \\'spotify:album:3cyLH6iUGPjEsZIUFnJfd3\\', \\'duration_ms\\': 217413, \\'album_name\\': \\'A.M.\\'}, {\\'pos\\': 12, \\'artist_name\\': \\'Chris Young\\', \\'track_uri\\': \\'spotify:track:1qjl8UJtWTHrk4SFpwftSN\\', \\'artist_uri\\': \\'spotify:artist:4BYxqVkZyFjtik7crYLg5Q\\', \\'track_name\\': \\'Tomorrow\\', \\'album_uri\\': \\'spotify:album:4yYep1aU3lXRaONTWu2X23\\', \\'duration_ms\\': 220173, \\'album_name\\': \\'Neon\\'}, {\\'pos\\': 13, \\'artist_name\\': \\'Jason Aldean\\', \\'track_uri\\': \\'spotify:track:5Q93FHMA17gHIZeeQAvgaJ\\', \\'artist_uri\\': \\'spotify:artist:3FfvYsEGaIb52QPXhg4DcH\\', \\'track_name\\': \"Sweet Little Somethin\\'\", \\'album_uri\\': \\'spotify:album:2RIu1R2av2tWEu2MloUE6u\\', \\'duration_ms\\': 203093, \\'album_name\\': \\'Old Boots, New Dirt\\'}, {\\'pos\\': 14, \\'artist_name\\': \\'Florida Georgia Line\\', \\'track_uri\\': \\'spotify:track:46ZfPS5VpSQVU5gb82hg3K\\', \\'artist_uri\\': \\'spotify:artist:3b8QkneNDz4JHKKKlLgYZg\\', \\'track_name\\': \\'Anything Goes\\', \\'album_uri\\': \\'spotify:album:5NG7WZaCZZ12M5LJm0JcVc\\', \\'duration_ms\\': 218866, \\'album_name\\': \\'Anything Goes\\'}, {\\'pos\\': 15, \\'artist_name\\': \\'Florida Georgia Line\\', \\'track_uri\\': \\'spotify:track:5ygp81TQpolYKghQjdYZpD\\', \\'artist_uri\\': \\'spotify:artist:3b8QkneNDz4JHKKKlLgYZg\\', \\'track_name\\': \"Bumpin\\' The Night\", \\'album_uri\\': \\'spotify:album:5NG7WZaCZZ12M5LJm0JcVc\\', \\'duration_ms\\': 221080, \\'album_name\\': \\'Anything Goes\\'}]'"
      ]
     },
     "execution_count": 74,
     "metadata": {},
     "output_type": "execute_result"
    }
   ],
   "source": [
    "tensor.numpy()[0]"
   ]
  },
  {
   "cell_type": "code",
   "execution_count": 13,
   "id": "fc57822a-235f-4459-a43c-34762964b823",
   "metadata": {},
   "outputs": [],
   "source": [
    "# %%writefile -a vertex_train/trainer/task.py\n",
    "\n",
    "class PlaylistsModel(tf.keras.Model):\n",
    "    def __init__(self, layer_sizes, adapt_data):\n",
    "        super().__init__()\n",
    "        \n",
    "        #start with lookups on low cardnality categorical items\n",
    "        colab_vocab = tf.constant(['true','false'], name='colab_vocab', dtype='string')\n",
    "        \n",
    "        self.colab = tf.keras.Sequential([\n",
    "            tf.keras.layers.StringLookup(\n",
    "                vocabulary=colab_vocab, mask_token=None, name=\"colab_lookup\", output_mode='count')\n",
    "        ], name=\"colab\")\n",
    "        \n",
    "        #create text vectorizors to be fed to an embedding layer\n",
    "        self.artist_vectorizor = tf.keras.layers.TextVectorization(\n",
    "            max_tokens=MAX_TOKENS, name=\"artist_tv\", ngrams=2)\n",
    "        \n",
    "        self.album_vectorizor = tf.keras.layers.TextVectorization(\n",
    "            max_tokens=MAX_TOKENS, name=\"album_tv\", ngrams=2)\n",
    "        \n",
    "        self.description_vectorizor = tf.keras.layers.TextVectorization(\n",
    "            max_tokens=MAX_TOKENS, name=\"album_tv\", ngrams=2)\n",
    "        \n",
    "        self.query_embedding = tf.keras.Sequential([\n",
    "            self.album_vectorizor,\n",
    "            tf.keras.layers.Embedding(MAX_TOKENS+1, EMBEDDING_DIM , mask_zero=True, name=\"album_emb\"),\n",
    "            tf.keras.layers.GlobalAveragePooling1D()\n",
    "        ], name=\"album_embedding_model\")\n",
    "        \n",
    "        self.artist_embedding = tf.keras.Sequential([\n",
    "            self.artist_vectorizor,\n",
    "            tf.keras.layers.Embedding(MAX_TOKENS+1, EMBEDDING_DIM , mask_zero=True, name=\"artist_emb\"),\n",
    "            tf.keras.layers.GlobalAveragePooling1D()\n",
    "        ], name=\"artist_embedding\")\n",
    "        \n",
    "        ###############\n",
    "        ### adapt stuff\n",
    "        ###############\n",
    "        \n",
    "        self.artist_vectorizor.adapt(adapt_data.map(lambda x: x['artist_name']))\n",
    "        self.album_vectorizor.adapt(adapt_data.map(lambda x: x['album_name'])) \n",
    "        \n",
    "        # Then construct the layers.\n",
    "        self.dense_layers = tf.keras.Sequential(name=\"dense_layers_query\")\n",
    "        \n",
    "        initializer = tf.keras.initializers.GlorotUniform(seed=SEED)\n",
    "        # Use the ReLU activation for all but the last layer.\n",
    "        for layer_size in layer_sizes[:-1]:\n",
    "            self.dense_layers.add(tf.keras.layers.Dense(layer_size, activation=\"relu\", kernel_initializer=initializer))\n",
    "            if DROPOUT:\n",
    "                self.dense_layers.add(tf.keras.layers.Dropout(DROPOUT_RATE))\n",
    "        # No activation for the last layer\n",
    "        for layer_size in layer_sizes[-1:]:\n",
    "            self.dense_layers.add(tf.keras.layers.Dense(layer_size, kernel_initializer=initializer))\n",
    "        ### ADDING L2 NORM AT THE END\n",
    "        self.dense_layers.add(tf.keras.layers.Lambda(lambda x: tf.nn.l2_normalize(x, 1, epsilon=1e-12, name=\"normalize_dense\")))\n",
    "\n",
    "\n",
    "    def call(self, data):    \n",
    "        all_embs = tf.concat(\n",
    "                [\n",
    "                    self.album_embedding(data['album_name']),\n",
    "                    self.artist_embedding(data['artist_name']),\n",
    "                    self.colab(data['collaborative']),\n",
    "                    self.description_embedding(data['description'])\n",
    "                ], axis=1)\n",
    "        return self.dense_layers(all_embs)"
   ]
  },
  {
   "cell_type": "markdown",
   "id": "9821506a-054e-4ad2-8530-bde59fb5e5d6",
   "metadata": {},
   "source": [
    "## Use the example output to think of how you process your features"
   ]
  },
  {
   "cell_type": "markdown",
   "id": "6f83a334-4008-44a8-84f6-f2ef827200db",
   "metadata": {},
   "source": [
    "```\n",
    "OrderedDict([('album_name', <tf.Tensor: shape=(1,), dtype=string, numpy=array([b'The Helm'], dtype=object)>), ('artist_name', <tf.Tensor: shape=(1,), dtype=string, numpy=array([b'Carrot Green'], dtype=object)>), ('collaborative', <tf.Tensor: shape=(1,), dtype=string, numpy=array([b'false'], dtype=object)>), ('description', <tf.Tensor: shape=(1,), dtype=string, numpy=array([b''], dtype=object)>), ('duration_ms', <tf.Tensor: shape=(1,), dtype=string, numpy=array([b'358500'], dtype=object)>), ('modified_at', <tf.Tensor: shape=(1,), dtype=int64, numpy=array([1505692800])>), ('name', <tf.Tensor: shape=(1,), dtype=string, numpy=array([b'FeSTa'], dtype=object)>), ('num_albums', <tf.Tensor: shape=(1,), dtype=int64, numpy=array([82])>), ('num_artists', <tf.Tensor: shape=(1,), dtype=int64, numpy=array([66])>), ('num_edits', <tf.Tensor: shape=(1,), dtype=int64, numpy=array([48])>), ('num_followers', <tf.Tensor: shape=(1,), dtype=int64, numpy=array([1])>), ('num_tracks', <tf.Tensor: shape=(1,), dtype=int64, numpy=array([85])>), ('pos', <tf.Tensor: shape=(1,), dtype=string, numpy=array([b'45'], dtype=object)>), ('track_name', <tf.Tensor: shape=(1,), dtype=string, numpy=array([b'The Helm - Carrot Green Remix'], dtype=object)>)])\n",
    "```"
   ]
  },
  {
   "cell_type": "code",
   "execution_count": 14,
   "id": "6a663c63-58be-43bf-a573-e986cce3e9a3",
   "metadata": {},
   "outputs": [],
   "source": [
    "#### Tests"
   ]
  }
 ],
 "metadata": {
  "environment": {
   "kernel": "python3",
   "name": "tf2-gpu.2-8.m91",
   "type": "gcloud",
   "uri": "gcr.io/deeplearning-platform-release/tf2-gpu.2-8:m91"
  },
  "kernelspec": {
   "display_name": "Python 3",
   "language": "python",
   "name": "python3"
  },
  "language_info": {
   "codemirror_mode": {
    "name": "ipython",
    "version": 3
   },
   "file_extension": ".py",
   "mimetype": "text/x-python",
   "name": "python",
   "nbconvert_exporter": "python",
   "pygments_lexer": "ipython3",
   "version": "3.7.12"
  }
 },
 "nbformat": 4,
 "nbformat_minor": 5
}
