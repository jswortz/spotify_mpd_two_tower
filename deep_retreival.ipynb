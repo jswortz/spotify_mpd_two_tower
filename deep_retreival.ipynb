{
 "cells": [
  {
   "cell_type": "markdown",
   "id": "1d5383b2-071e-45b8-af2c-2421eb4f923a",
   "metadata": {},
   "source": [
    "# Two - Tower Retreival Model\n",
    "\n",
    "### Key resources:\n",
    "* Many pages [here](https://www.tensorflow.org/recommenders/examples/deep_recommenders) include great techniques to build custom TFRS Models\n",
    "\n",
    "### Goals:\n",
    "* Show how to model off of most data types \n",
    "  * (String, Existing Embeddings (vectors), \n",
    "  * Floats (Normalized), \n",
    "  * Categorical with vocab, \n",
    "  * High Dim Categorical (Embed)\n",
    "* Leverage class templates to create custom 2 Tower Models quick/easy"
   ]
  },
  {
   "cell_type": "markdown",
   "id": "92d52e5f-a13b-46a7-849a-dc188b455a86",
   "metadata": {},
   "source": [
    "## SPOTIFY Create the tensorflow.io interface for the event and product table in Bigquery\n",
    "Best practices from Google are in this blog post"
   ]
  },
  {
   "cell_type": "code",
   "execution_count": 1,
   "id": "de3122eb-564b-46f9-9a50-851d19301521",
   "metadata": {},
   "outputs": [],
   "source": [
    "# set variables\n",
    "DROPOUT = False\n",
    "DROPOUT_RATE = 0.2\n",
    "EMBEDDING_DIM = 64\n",
    "MAX_TOKENS = 100_000\n",
    "BATCH_SIZE = 256\n",
    "ARCH = [128, 64]\n",
    "NUM_EPOCHS = 1\n",
    "SEED = 41781897\n",
    "PROJECT_ID = 'jtotten-project'\n",
    "DROP_FIELDS = ['pid', 'track_uri', 'artist_uri', 'album_uri']"
   ]
  },
  {
   "cell_type": "markdown",
   "id": "77c50a06-d69d-4d64-b254-26fb2a249fcf",
   "metadata": {
    "tags": []
   },
   "source": [
    "#### Quick counts on training data\n",
    "\n"
   ]
  },
  {
   "cell_type": "markdown",
   "id": "9c5e1473-4a2d-4778-9f01-e2b76672a9f5",
   "metadata": {},
   "source": [
    "#### Quick counts on the training records for track"
   ]
  },
  {
   "cell_type": "code",
   "execution_count": 2,
   "id": "eaa56927-6722-43f9-88ac-ab638487164e",
   "metadata": {},
   "outputs": [
    {
     "name": "stderr",
     "output_type": "stream",
     "text": [
      "Query complete after 0.00s: 100%|██████████| 1/1 [00:00<00:00, 1405.60query/s]\n",
      "Downloading: 100%|██████████| 1/1 [00:00<00:00,  1.06rows/s]\n"
     ]
    },
    {
     "data": {
      "text/html": [
       "<div>\n",
       "<style scoped>\n",
       "    .dataframe tbody tr th:only-of-type {\n",
       "        vertical-align: middle;\n",
       "    }\n",
       "\n",
       "    .dataframe tbody tr th {\n",
       "        vertical-align: top;\n",
       "    }\n",
       "\n",
       "    .dataframe thead th {\n",
       "        text-align: right;\n",
       "    }\n",
       "</style>\n",
       "<table border=\"1\" class=\"dataframe\">\n",
       "  <thead>\n",
       "    <tr style=\"text-align: right;\">\n",
       "      <th></th>\n",
       "      <th>f0_</th>\n",
       "    </tr>\n",
       "  </thead>\n",
       "  <tbody>\n",
       "    <tr>\n",
       "      <th>0</th>\n",
       "      <td>66346428</td>\n",
       "    </tr>\n",
       "  </tbody>\n",
       "</table>\n",
       "</div>"
      ],
      "text/plain": [
       "        f0_\n",
       "0  66346428"
      ]
     },
     "execution_count": 2,
     "metadata": {},
     "output_type": "execute_result"
    }
   ],
   "source": [
    "%%bigquery\n",
    "select count(1) from jtotten-project.spotify_mpd.playlists"
   ]
  },
  {
   "cell_type": "markdown",
   "id": "bd3ee0aa-1c6d-47f0-a3a8-236c7a072ee6",
   "metadata": {
    "tags": []
   },
   "source": [
    "#### Same with playlist"
   ]
  },
  {
   "cell_type": "markdown",
   "id": "031039fa-decd-4396-a9ad-89f300a01f25",
   "metadata": {},
   "source": [
    "#### Quick counts (this time playlists) on the training records for track"
   ]
  },
  {
   "cell_type": "code",
   "execution_count": 3,
   "id": "c56750aa-be5c-4f4f-8b5b-4b8277e2a838",
   "metadata": {},
   "outputs": [
    {
     "name": "stderr",
     "output_type": "stream",
     "text": [
      "Query complete after 0.00s: 100%|██████████| 1/1 [00:00<00:00, 1402.31query/s]\n",
      "Downloading: 100%|██████████| 1/1 [00:00<00:00,  1.09rows/s]\n"
     ]
    },
    {
     "data": {
      "text/html": [
       "<div>\n",
       "<style scoped>\n",
       "    .dataframe tbody tr th:only-of-type {\n",
       "        vertical-align: middle;\n",
       "    }\n",
       "\n",
       "    .dataframe tbody tr th {\n",
       "        vertical-align: top;\n",
       "    }\n",
       "\n",
       "    .dataframe thead th {\n",
       "        text-align: right;\n",
       "    }\n",
       "</style>\n",
       "<table border=\"1\" class=\"dataframe\">\n",
       "  <thead>\n",
       "    <tr style=\"text-align: right;\">\n",
       "      <th></th>\n",
       "      <th>f0_</th>\n",
       "    </tr>\n",
       "  </thead>\n",
       "  <tbody>\n",
       "    <tr>\n",
       "      <th>0</th>\n",
       "      <td>2261490</td>\n",
       "    </tr>\n",
       "  </tbody>\n",
       "</table>\n",
       "</div>"
      ],
      "text/plain": [
       "       f0_\n",
       "0  2261490"
      ]
     },
     "execution_count": 3,
     "metadata": {},
     "output_type": "execute_result"
    }
   ],
   "source": [
    "%%bigquery\n",
    "select count(1) from jtotten-project.spotify_mpd.track_audio"
   ]
  },
  {
   "cell_type": "markdown",
   "id": "f4710f67-de96-401b-8a0c-abb05dd62c40",
   "metadata": {},
   "source": [
    "### Set the tf.io pipelines function from bigquery\n",
    "\n",
    "[Great blog post here on it](https://towardsdatascience.com/how-to-read-bigquery-data-from-tensorflow-2-0-efficiently-9234b69165c8)"
   ]
  },
  {
   "cell_type": "code",
   "execution_count": 4,
   "id": "7db86c9f-5454-4629-80ba-c0273fca117d",
   "metadata": {},
   "outputs": [],
   "source": [
    "import tensorflow as tf\n",
    "from tensorflow.python.framework import dtypes\n",
    "from tensorflow_io.bigquery import BigQueryClient\n",
    "from tensorflow_io.bigquery import BigQueryReadSession\n",
    "import warnings\n",
    "warnings.filterwarnings(\"ignore\") #do this b/c there's an info-level bug that can safely be ignored\n",
    "import json\n",
    "import tensorflow as tf\n",
    "import tensorflow_recommenders as tfrs\n",
    "\n",
    "\n",
    "def bq_to_tfdata(client, row_restriction, table_id, col_names, col_types, dataset, batch_size=BATCH_SIZE):\n",
    "    TABLE_ID = table_id\n",
    "    COL_NAMES = col_names\n",
    "    COL_TYPES = col_types\n",
    "    DATASET = dataset\n",
    "    bqsession = client.read_session(\n",
    "        \"projects/\" + PROJECT_ID,\n",
    "        PROJECT_ID, TABLE_ID, DATASET,\n",
    "        COL_NAMES, COL_TYPES,\n",
    "        requested_streams=2,\n",
    "        row_restriction=row_restriction)\n",
    "    dataset = bqsession.parallel_read_rows()\n",
    "    return dataset.prefetch(1).shuffle(batch_size*10).batch(batch_size)"
   ]
  },
  {
   "cell_type": "markdown",
   "id": "88e45e8d-3113-4528-9d71-8afdfd922d4f",
   "metadata": {},
   "source": [
    "## Get the song metadata\n",
    "\n",
    "To get a pipeline working we need the metadata for the table along with the table information. The following functions are helpers that give us the metadata into the proper types for `tf`\n",
    "\n",
    "\n",
    "For each table id, programatically get\n",
    "* Column names\n",
    "* Column types"
   ]
  },
  {
   "cell_type": "code",
   "execution_count": 7,
   "id": "abcf9098-fd4c-4d00-9e84-8658a620b848",
   "metadata": {},
   "outputs": [
    {
     "name": "stderr",
     "output_type": "stream",
     "text": [
      "Query complete after 0.00s: 100%|██████████| 1/1 [00:00<00:00, 796.03query/s]                          \n",
      "Downloading: 100%|██████████| 2/2 [00:00<00:00,  2.43rows/s]\n"
     ]
    }
   ],
   "source": [
    "%%bigquery schema\n",
    "SELECT * FROM jtotten-project.spotify_mpd.INFORMATION_SCHEMA.TABLES\n",
    "where table_name in ('track_audio', 'playlists_track_string');"
   ]
  },
  {
   "cell_type": "code",
   "execution_count": 8,
   "id": "402d9cd0-a837-418a-aa7d-8ba8350c6940",
   "metadata": {},
   "outputs": [
    {
     "data": {
      "text/html": [
       "<div>\n",
       "<style scoped>\n",
       "    .dataframe tbody tr th:only-of-type {\n",
       "        vertical-align: middle;\n",
       "    }\n",
       "\n",
       "    .dataframe tbody tr th {\n",
       "        vertical-align: top;\n",
       "    }\n",
       "\n",
       "    .dataframe thead th {\n",
       "        text-align: right;\n",
       "    }\n",
       "</style>\n",
       "<table border=\"1\" class=\"dataframe\">\n",
       "  <thead>\n",
       "    <tr style=\"text-align: right;\">\n",
       "      <th></th>\n",
       "      <th>table_catalog</th>\n",
       "      <th>table_schema</th>\n",
       "      <th>table_name</th>\n",
       "      <th>table_type</th>\n",
       "      <th>is_insertable_into</th>\n",
       "      <th>is_typed</th>\n",
       "      <th>creation_time</th>\n",
       "      <th>base_table_catalog</th>\n",
       "      <th>base_table_schema</th>\n",
       "      <th>base_table_name</th>\n",
       "      <th>snapshot_time_ms</th>\n",
       "      <th>ddl</th>\n",
       "    </tr>\n",
       "  </thead>\n",
       "  <tbody>\n",
       "    <tr>\n",
       "      <th>0</th>\n",
       "      <td>jtotten-project</td>\n",
       "      <td>spotify_mpd</td>\n",
       "      <td>track_audio</td>\n",
       "      <td>BASE TABLE</td>\n",
       "      <td>YES</td>\n",
       "      <td>NO</td>\n",
       "      <td>2022-04-06 17:46:25.801000+00:00</td>\n",
       "      <td>None</td>\n",
       "      <td>None</td>\n",
       "      <td>None</td>\n",
       "      <td>NaT</td>\n",
       "      <td>CREATE TABLE `jtotten-project.spotify_mpd.trac...</td>\n",
       "    </tr>\n",
       "    <tr>\n",
       "      <th>1</th>\n",
       "      <td>jtotten-project</td>\n",
       "      <td>spotify_mpd</td>\n",
       "      <td>playlists_track_string</td>\n",
       "      <td>BASE TABLE</td>\n",
       "      <td>YES</td>\n",
       "      <td>NO</td>\n",
       "      <td>2022-04-22 21:11:46.231000+00:00</td>\n",
       "      <td>None</td>\n",
       "      <td>None</td>\n",
       "      <td>None</td>\n",
       "      <td>NaT</td>\n",
       "      <td>CREATE TABLE `jtotten-project.spotify_mpd.play...</td>\n",
       "    </tr>\n",
       "  </tbody>\n",
       "</table>\n",
       "</div>"
      ],
      "text/plain": [
       "     table_catalog table_schema              table_name  table_type  \\\n",
       "0  jtotten-project  spotify_mpd             track_audio  BASE TABLE   \n",
       "1  jtotten-project  spotify_mpd  playlists_track_string  BASE TABLE   \n",
       "\n",
       "  is_insertable_into is_typed                    creation_time  \\\n",
       "0                YES       NO 2022-04-06 17:46:25.801000+00:00   \n",
       "1                YES       NO 2022-04-22 21:11:46.231000+00:00   \n",
       "\n",
       "  base_table_catalog base_table_schema base_table_name snapshot_time_ms  \\\n",
       "0               None              None            None              NaT   \n",
       "1               None              None            None              NaT   \n",
       "\n",
       "                                                 ddl  \n",
       "0  CREATE TABLE `jtotten-project.spotify_mpd.trac...  \n",
       "1  CREATE TABLE `jtotten-project.spotify_mpd.play...  "
      ]
     },
     "execution_count": 8,
     "metadata": {},
     "output_type": "execute_result"
    }
   ],
   "source": [
    "schema # we will get the fields out of the ddl field"
   ]
  },
  {
   "cell_type": "markdown",
   "id": "bd72e820-d1d7-48f9-902d-ad63be9b74fb",
   "metadata": {},
   "source": [
    "## Helper functions to pull metadata from ddl statements"
   ]
  },
  {
   "cell_type": "code",
   "execution_count": 9,
   "id": "09e90599-b0e7-41e6-a6e7-99d6668ead55",
   "metadata": {},
   "outputs": [],
   "source": [
    "# Function to convert string type representation to tf data types\n",
    "\n",
    "def conv_dtype_to_tf(dtype_str):\n",
    "    if dtype_str == 'FLOAT64':\n",
    "        return dtypes.float64\n",
    "    elif dtype_str == 'INT64':\n",
    "        return dtypes.int64\n",
    "    else: \n",
    "        return dtypes.string\n",
    "        \n",
    "def get_metadata_from_ddl(ddl, drop_field=None):\n",
    "    fields = []\n",
    "    types = []\n",
    "    ddl = ddl.values[0]\n",
    "    for line in ddl.splitlines():\n",
    "        if line[:1] == ' ': #only pull indented lines for the fields\n",
    "            # drop the comma\n",
    "            line = line.replace(',','')\n",
    "            space_delim = line.split(' ')\n",
    "            if space_delim[2] in drop_field:\n",
    "                pass\n",
    "            else:\n",
    "                fields.append(space_delim[2])\n",
    "                types.append(conv_dtype_to_tf(space_delim[3]))\n",
    "    return fields, types\n",
    "\n",
    "\n",
    "track_audio_fields, track_audio_types = get_metadata_from_ddl(schema.ddl[schema.table_name == 'track_audio'], DROP_FIELDS)\n",
    "playlist_fields, playlist_types = get_metadata_from_ddl(schema.ddl[schema.table_name == 'playlists_track_string'], DROP_FIELDS) "
   ]
  },
  {
   "cell_type": "code",
   "execution_count": 10,
   "id": "4fd06cfb-66c6-4a18-9e5d-22352317da83",
   "metadata": {},
   "outputs": [
    {
     "name": "stdout",
     "output_type": "stream",
     "text": [
      "name : <dtype: 'string'>\n",
      "collaborative : <dtype: 'string'>\n",
      "modified_at : <dtype: 'int64'>\n",
      "num_tracks : <dtype: 'int64'>\n",
      "num_albums : <dtype: 'int64'>\n",
      "num_followers : <dtype: 'int64'>\n",
      "num_edits : <dtype: 'int64'>\n",
      "duration_ms : <dtype: 'int64'>\n",
      "num_artists : <dtype: 'int64'>\n",
      "description : <dtype: 'string'>\n",
      "tracks : <dtype: 'string'>\n"
     ]
    }
   ],
   "source": [
    "# Quick check on data\n",
    "for a, b in zip(playlist_fields, playlist_types):\n",
    "    print(a +\" : \" + str(b))"
   ]
  },
  {
   "cell_type": "code",
   "execution_count": 11,
   "id": "c4667a86-574c-4484-a331-8c9c7ae6fbf6",
   "metadata": {},
   "outputs": [
    {
     "name": "stdout",
     "output_type": "stream",
     "text": [
      "artist_name : <dtype: 'string'>\n",
      "track_name : <dtype: 'string'>\n",
      "album_name : <dtype: 'string'>\n",
      "name : <dtype: 'string'>\n",
      "danceability : <dtype: 'float64'>\n",
      "energy : <dtype: 'float64'>\n",
      "key : <dtype: 'float64'>\n",
      "loudness : <dtype: 'float64'>\n",
      "mode : <dtype: 'float64'>\n",
      "speechiness : <dtype: 'float64'>\n",
      "acousticness : <dtype: 'float64'>\n",
      "instrumentalness : <dtype: 'float64'>\n",
      "liveness : <dtype: 'float64'>\n",
      "valence : <dtype: 'float64'>\n",
      "tempo : <dtype: 'float64'>\n",
      "type : <dtype: 'string'>\n",
      "id : <dtype: 'string'>\n",
      "uri : <dtype: 'string'>\n",
      "track_href : <dtype: 'string'>\n",
      "analysis_url : <dtype: 'string'>\n",
      "time_signature : <dtype: 'float64'>\n",
      "artist_pop : <dtype: 'int64'>\n",
      "track_pop : <dtype: 'string'>\n",
      "genres : <dtype: 'string'>\n",
      "duration_ms : <dtype: 'int64'>\n"
     ]
    }
   ],
   "source": [
    "# Quick check on data\n",
    "for a, b in zip(track_audio_fields, track_audio_types):\n",
    "    print(a +\" : \" + str(b))\n",
    "    \n",
    "DROP_TRACK_AUDIO_FIELDS = ['pid', 'track_uri', 'artist_uri', 'album_uri']"
   ]
  },
  {
   "cell_type": "markdown",
   "id": "6b94ebf1-0080-4cd5-be46-c72af9d3a0e5",
   "metadata": {},
   "source": [
    "### Now the helper functions are set. Below tf.data pipelines are created from bigquery"
   ]
  },
  {
   "cell_type": "code",
   "execution_count": 12,
   "id": "311dd38e-94c3-4bef-b4b0-e051ba529530",
   "metadata": {},
   "outputs": [
    {
     "name": "stderr",
     "output_type": "stream",
     "text": [
      "2022-04-22 22:46:01.798875: W tensorflow_io/core/kernels/audio_video_mp3_kernels.cc:271] libmp3lame.so.0 or lame functions are not available\n",
      "2022-04-22 22:46:01.802888: I tensorflow_io/core/kernels/cpu_check.cc:128] Your CPU supports instructions that this TensorFlow IO binary was not compiled to use: AVX2 FMA\n",
      "2022-04-22 22:46:03.382214: I tensorflow/stream_executor/cuda/cuda_gpu_executor.cc:939] successful NUMA node read from SysFS had negative value (-1), but there must be at least one NUMA node, so returning NUMA node zero\n",
      "2022-04-22 22:46:03.383017: I tensorflow/stream_executor/cuda/cuda_gpu_executor.cc:939] successful NUMA node read from SysFS had negative value (-1), but there must be at least one NUMA node, so returning NUMA node zero\n",
      "2022-04-22 22:46:03.480827: I tensorflow/stream_executor/cuda/cuda_gpu_executor.cc:939] successful NUMA node read from SysFS had negative value (-1), but there must be at least one NUMA node, so returning NUMA node zero\n",
      "2022-04-22 22:46:03.481558: I tensorflow/stream_executor/cuda/cuda_gpu_executor.cc:939] successful NUMA node read from SysFS had negative value (-1), but there must be at least one NUMA node, so returning NUMA node zero\n",
      "2022-04-22 22:46:03.482236: I tensorflow/stream_executor/cuda/cuda_gpu_executor.cc:939] successful NUMA node read from SysFS had negative value (-1), but there must be at least one NUMA node, so returning NUMA node zero\n",
      "2022-04-22 22:46:03.483841: I tensorflow/stream_executor/cuda/cuda_gpu_executor.cc:939] successful NUMA node read from SysFS had negative value (-1), but there must be at least one NUMA node, so returning NUMA node zero\n",
      "2022-04-22 22:46:03.505917: I tensorflow/core/platform/cpu_feature_guard.cc:151] This TensorFlow binary is optimized with oneAPI Deep Neural Network Library (oneDNN) to use the following CPU instructions in performance-critical operations:  AVX2 FMA\n",
      "To enable them in other operations, rebuild TensorFlow with the appropriate compiler flags.\n",
      "2022-04-22 22:46:03.844499: I tensorflow/stream_executor/cuda/cuda_gpu_executor.cc:939] successful NUMA node read from SysFS had negative value (-1), but there must be at least one NUMA node, so returning NUMA node zero\n",
      "2022-04-22 22:46:03.845518: I tensorflow/stream_executor/cuda/cuda_gpu_executor.cc:939] successful NUMA node read from SysFS had negative value (-1), but there must be at least one NUMA node, so returning NUMA node zero\n",
      "2022-04-22 22:46:03.846275: I tensorflow/stream_executor/cuda/cuda_gpu_executor.cc:939] successful NUMA node read from SysFS had negative value (-1), but there must be at least one NUMA node, so returning NUMA node zero\n",
      "2022-04-22 22:46:03.846953: I tensorflow/stream_executor/cuda/cuda_gpu_executor.cc:939] successful NUMA node read from SysFS had negative value (-1), but there must be at least one NUMA node, so returning NUMA node zero\n",
      "2022-04-22 22:46:03.847643: I tensorflow/stream_executor/cuda/cuda_gpu_executor.cc:939] successful NUMA node read from SysFS had negative value (-1), but there must be at least one NUMA node, so returning NUMA node zero\n",
      "2022-04-22 22:46:03.848370: I tensorflow/stream_executor/cuda/cuda_gpu_executor.cc:939] successful NUMA node read from SysFS had negative value (-1), but there must be at least one NUMA node, so returning NUMA node zero\n",
      "2022-04-22 22:46:11.595797: I tensorflow/stream_executor/cuda/cuda_gpu_executor.cc:939] successful NUMA node read from SysFS had negative value (-1), but there must be at least one NUMA node, so returning NUMA node zero\n",
      "2022-04-22 22:46:11.596581: I tensorflow/stream_executor/cuda/cuda_gpu_executor.cc:939] successful NUMA node read from SysFS had negative value (-1), but there must be at least one NUMA node, so returning NUMA node zero\n",
      "2022-04-22 22:46:11.597239: I tensorflow/stream_executor/cuda/cuda_gpu_executor.cc:939] successful NUMA node read from SysFS had negative value (-1), but there must be at least one NUMA node, so returning NUMA node zero\n",
      "2022-04-22 22:46:11.597882: I tensorflow/stream_executor/cuda/cuda_gpu_executor.cc:939] successful NUMA node read from SysFS had negative value (-1), but there must be at least one NUMA node, so returning NUMA node zero\n",
      "2022-04-22 22:46:11.598676: I tensorflow/stream_executor/cuda/cuda_gpu_executor.cc:939] successful NUMA node read from SysFS had negative value (-1), but there must be at least one NUMA node, so returning NUMA node zero\n",
      "2022-04-22 22:46:11.616932: I tensorflow/core/common_runtime/gpu/gpu_device.cc:1525] Created device /job:localhost/replica:0/task:0/device:GPU:0 with 13793 MB memory:  -> device: 0, name: Tesla T4, pci bus id: 0000:00:04.0, compute capability: 7.5\n",
      "2022-04-22 22:46:11.655924: I tensorflow/stream_executor/cuda/cuda_gpu_executor.cc:939] successful NUMA node read from SysFS had negative value (-1), but there must be at least one NUMA node, so returning NUMA node zero\n",
      "2022-04-22 22:46:11.656644: I tensorflow/core/common_runtime/gpu/gpu_device.cc:1525] Created device /job:localhost/replica:0/task:0/device:GPU:1 with 13793 MB memory:  -> device: 1, name: Tesla T4, pci bus id: 0000:00:05.0, compute capability: 7.5\n"
     ]
    }
   ],
   "source": [
    "track_train_pipeline = bq_to_tfdata(BigQueryClient(), row_restriction=None, table_id = 'track_audio'\n",
    "                                    , col_names=track_audio_fields, col_types=track_audio_types, dataset='spotify_mpd', batch_size=1) #we will change to BATCH_SIZE after we test "
   ]
  },
  {
   "cell_type": "code",
   "execution_count": 13,
   "id": "e49e5cd5-7f73-419d-9c09-8495e09decab",
   "metadata": {},
   "outputs": [
    {
     "name": "stderr",
     "output_type": "stream",
     "text": [
      "2022-04-22 22:46:15.667871: E tensorflow/core/framework/dataset.cc:577] UNIMPLEMENTED: Cannot compute input sources for dataset of type IO>BigQueryDataset, because the dataset does not implement `InputDatasets`.\n",
      "2022-04-22 22:46:15.667923: E tensorflow/core/framework/dataset.cc:581] UNIMPLEMENTED: Cannot merge options for dataset of type IO>BigQueryDataset, because the dataset does not implement `InputDatasets`.\n",
      "2022-04-22 22:46:15.682663: E tensorflow/core/framework/dataset.cc:577] UNIMPLEMENTED: Cannot compute input sources for dataset of type IO>BigQueryDataset, because the dataset does not implement `InputDatasets`.\n",
      "2022-04-22 22:46:15.682701: E tensorflow/core/framework/dataset.cc:581] UNIMPLEMENTED: Cannot merge options for dataset of type IO>BigQueryDataset, because the dataset does not implement `InputDatasets`.\n"
     ]
    },
    {
     "name": "stdout",
     "output_type": "stream",
     "text": [
      "OrderedDict([('acousticness', <tf.Tensor: shape=(1,), dtype=float64, numpy=array([0.0324])>), ('album_name', <tf.Tensor: shape=(1,), dtype=string, numpy=array([b'We Are'], dtype=object)>), ('analysis_url', <tf.Tensor: shape=(1,), dtype=string, numpy=\n",
      "array([b'https://api.spotify.com/v1/audio-analysis/2kd12A8vO7RYiRUGXDzRLL'],\n",
      "      dtype=object)>), ('artist_name', <tf.Tensor: shape=(1,), dtype=string, numpy=array([b'Clon'], dtype=object)>), ('artist_pop', <tf.Tensor: shape=(1,), dtype=int64, numpy=array([0])>), ('danceability', <tf.Tensor: shape=(1,), dtype=float64, numpy=array([0.604])>), ('duration_ms', <tf.Tensor: shape=(1,), dtype=int64, numpy=array([172727])>), ('energy', <tf.Tensor: shape=(1,), dtype=float64, numpy=array([0.982])>), ('genres', <tf.Tensor: shape=(1,), dtype=string, numpy=array([b'unknown'], dtype=object)>), ('id', <tf.Tensor: shape=(1,), dtype=string, numpy=array([b'2kd12A8vO7RYiRUGXDzRLL'], dtype=object)>), ('instrumentalness', <tf.Tensor: shape=(1,), dtype=float64, numpy=array([0.000821])>), ('key', <tf.Tensor: shape=(1,), dtype=float64, numpy=array([0.])>), ('liveness', <tf.Tensor: shape=(1,), dtype=float64, numpy=array([0.338])>), ('loudness', <tf.Tensor: shape=(1,), dtype=float64, numpy=array([-2.399])>), ('mode', <tf.Tensor: shape=(1,), dtype=float64, numpy=array([0.])>), ('name', <tf.Tensor: shape=(1,), dtype=string, numpy=array([b'K Pop'], dtype=object)>), ('speechiness', <tf.Tensor: shape=(1,), dtype=float64, numpy=array([0.237])>), ('tempo', <tf.Tensor: shape=(1,), dtype=float64, numpy=array([128.028])>), ('time_signature', <tf.Tensor: shape=(1,), dtype=float64, numpy=array([4.])>), ('track_href', <tf.Tensor: shape=(1,), dtype=string, numpy=\n",
      "array([b'https://api.spotify.com/v1/tracks/2kd12A8vO7RYiRUGXDzRLL'],\n",
      "      dtype=object)>), ('track_name', <tf.Tensor: shape=(1,), dtype=string, numpy=array([b'Everybody'], dtype=object)>), ('track_pop', <tf.Tensor: shape=(1,), dtype=string, numpy=array([b'0'], dtype=object)>), ('type', <tf.Tensor: shape=(1,), dtype=string, numpy=array([b'audio_features'], dtype=object)>), ('uri', <tf.Tensor: shape=(1,), dtype=string, numpy=array([b'spotify:track:2kd12A8vO7RYiRUGXDzRLL'], dtype=object)>), ('valence', <tf.Tensor: shape=(1,), dtype=float64, numpy=array([0.422])>)])\n"
     ]
    }
   ],
   "source": [
    "### Validate we are getting records\n",
    "\n",
    "for line in track_train_pipeline.take(1):\n",
    "    print(line) #should come out based on batch size"
   ]
  },
  {
   "cell_type": "code",
   "execution_count": 14,
   "id": "4e3c14a9-a269-4bc5-a198-5270ac0faa92",
   "metadata": {},
   "outputs": [],
   "source": [
    "playlist_types[-1] = dtypes.string #try manually setting the dtype for the tracks nested column"
   ]
  },
  {
   "cell_type": "code",
   "execution_count": 18,
   "id": "4fb806df-3f54-4785-a063-9a416e487ec4",
   "metadata": {},
   "outputs": [
    {
     "name": "stderr",
     "output_type": "stream",
     "text": [
      "2022-04-22 22:51:36.497831: E tensorflow/core/framework/dataset.cc:577] UNIMPLEMENTED: Cannot compute input sources for dataset of type IO>BigQueryDataset, because the dataset does not implement `InputDatasets`.\n",
      "2022-04-22 22:51:36.497885: E tensorflow/core/framework/dataset.cc:581] UNIMPLEMENTED: Cannot merge options for dataset of type IO>BigQueryDataset, because the dataset does not implement `InputDatasets`.\n",
      "2022-04-22 22:51:36.498207: E tensorflow/core/framework/dataset.cc:577] UNIMPLEMENTED: Cannot compute input sources for dataset of type IO>BigQueryDataset, because the dataset does not implement `InputDatasets`.\n",
      "2022-04-22 22:51:36.498234: E tensorflow/core/framework/dataset.cc:581] UNIMPLEMENTED: Cannot merge options for dataset of type IO>BigQueryDataset, because the dataset does not implement `InputDatasets`.\n"
     ]
    },
    {
     "name": "stdout",
     "output_type": "stream",
     "text": [
      "OrderedDict([('collaborative', <tf.Tensor: shape=(1,), dtype=string, numpy=array([b'false'], dtype=object)>), ('description', <tf.Tensor: shape=(1,), dtype=string, numpy=array([b''], dtype=object)>), ('duration_ms', <tf.Tensor: shape=(1,), dtype=int64, numpy=array([3597747])>), ('modified_at', <tf.Tensor: shape=(1,), dtype=int64, numpy=array([1413244800])>), ('name', <tf.Tensor: shape=(1,), dtype=string, numpy=array([b'music'], dtype=object)>), ('num_albums', <tf.Tensor: shape=(1,), dtype=int64, numpy=array([13])>), ('num_artists', <tf.Tensor: shape=(1,), dtype=int64, numpy=array([10])>), ('num_edits', <tf.Tensor: shape=(1,), dtype=int64, numpy=array([12])>), ('num_followers', <tf.Tensor: shape=(1,), dtype=int64, numpy=array([1])>), ('num_tracks', <tf.Tensor: shape=(1,), dtype=int64, numpy=array([16])>), ('tracks', <tf.Tensor: shape=(1,), dtype=string, numpy=\n",
      "array([b'[{\\'pos\\': 0, \\'artist_name\\': \\'George Strait\\', \\'track_uri\\': \\'spotify:track:1TanmIWbaUj5NVwJ3k4XPd\\', \\'artist_uri\\': \\'spotify:artist:5vngPClqofybhPERIqQMYd\\', \\'track_name\\': \\'Write This Down\\', \\'album_uri\\': \\'spotify:album:2Kudx2lMsMx3svYdb2xe2F\\', \\'duration_ms\\': 219600, \\'album_name\\': \\'Always Never The Same\\'}, {\\'pos\\': 1, \\'artist_name\\': \\'Keith Urban\\', \\'track_uri\\': \\'spotify:track:50nzorQ9gi2md8UpFi8aJT\\', \\'artist_uri\\': \\'spotify:artist:0u2FHSq3ln94y5Q57xazwf\\', \\'track_name\\': \\'Somewhere In My Car\\', \\'album_uri\\': \\'spotify:album:5rESCws46ubPJlqOeb30Rv\\', \\'duration_ms\\': 236906, \\'album_name\\': \\'Fuse\\'}, {\\'pos\\': 2, \\'artist_name\\': \\'Blake Shelton\\', \\'track_uri\\': \\'spotify:track:289hx4t6fH2BBe8p6cnXo1\\', \\'artist_uri\\': \\'spotify:artist:1UTPBmNbXNTittyMJrNkvw\\', \\'track_name\\': \\'Neon Light\\', \\'album_uri\\': \\'spotify:album:0daIqjuhsQqXoeII3pBSeT\\', \\'duration_ms\\': 221401, \\'album_name\\': \\'BRINGING BACK THE SUNSHINE\\'}, {\\'pos\\': 3, \\'artist_name\\': \\'Dustin Lynch\\', \\'track_uri\\': \\'spotify:track:4whYDpJ5XVQpmvecbEHP5Q\\', \\'artist_uri\\': \\'spotify:artist:1dID9zgn0OV0Y8ud7Mh2tS\\', \\'track_name\\': \"Where It\\'s At\", \\'album_uri\\': \\'spotify:album:4ZSQEnZOGWEW3XQOAzt477\\', \\'duration_ms\\': 204186, \\'album_name\\': \"Where It\\'s At\"}, {\\'pos\\': 4, \\'artist_name\\': \\'Dustin Lynch\\', \\'track_uri\\': \\'spotify:track:2I0Tnc5117Vkdk78M7vrrf\\', \\'artist_uri\\': \\'spotify:artist:1dID9zgn0OV0Y8ud7Mh2tS\\', \\'track_name\\': \\'Waiting\\', \\'album_uri\\': \\'spotify:album:3lmCslpaoa1acoJ4koOnCY\\', \\'duration_ms\\': 218933, \\'album_name\\': \\'Dustin Lynch\\'}, {\\'pos\\': 5, \\'artist_name\\': \\'Florida Georgia Line\\', \\'track_uri\\': \\'spotify:track:37z5awcsf6MNdobyY2GiLt\\', \\'artist_uri\\': \\'spotify:artist:3b8QkneNDz4JHKKKlLgYZg\\', \\'track_name\\': \\'Tell Me How You Like It\\', \\'album_uri\\': \\'spotify:album:5MH765pytbQasmDxXArTah\\', \\'duration_ms\\': 226160, \\'album_name\\': \"Here\\'s To The Good Times\"}, {\\'pos\\': 6, \\'artist_name\\': \\'Milky Chance\\', \\'track_uri\\': \\'spotify:track:6vECYJHxYmm3Ydt3fF01pE\\', \\'artist_uri\\': \\'spotify:artist:1hzfo8twXdOegF3xireCYs\\', \\'track_name\\': \\'Stolen Dance\\', \\'album_uri\\': \\'spotify:album:5D20ZzsNB377xbshIFP9Nb\\', \\'duration_ms\\': 313684, \\'album_name\\': \\'Sadnecessary\\'}, {\\'pos\\': 7, \\'artist_name\\': \\'Blake Shelton\\', \\'track_uri\\': \\'spotify:track:1j9JbLULlyeUltlcowiEhI\\', \\'artist_uri\\': \\'spotify:artist:1UTPBmNbXNTittyMJrNkvw\\', \\'track_name\\': \"Buzzin\\' (feat. RaeLynn)\", \\'album_uri\\': \\'spotify:album:0daIqjuhsQqXoeII3pBSeT\\', \\'duration_ms\\': 225640, \\'album_name\\': \\'BRINGING BACK THE SUNSHINE\\'}, {\\'pos\\': 8, \\'artist_name\\': \\'Blake Shelton\\', \\'track_uri\\': \\'spotify:track:5Sxfm0RR2y5QHHSk23TORA\\', \\'artist_uri\\': \\'spotify:artist:1UTPBmNbXNTittyMJrNkvw\\', \\'track_name\\': \"Just Gettin\\' Started\", \\'album_uri\\': \\'spotify:album:0daIqjuhsQqXoeII3pBSeT\\', \\'duration_ms\\': 207880, \\'album_name\\': \\'BRINGING BACK THE SUNSHINE\\'}, {\\'pos\\': 9, \\'artist_name\\': \\'Lee Brice\\', \\'track_uri\\': \\'spotify:track:5Kb5utdaR6qXYZ9WpgoKWm\\', \\'artist_uri\\': \\'spotify:artist:5Zq7R5qmi58ByYyBQTlNuk\\', \\'track_name\\': \\'Drinking class\\', \\'album_uri\\': \\'spotify:album:1Ug5qpIXouUHY5hpFj6575\\', \\'duration_ms\\': 207346, \\'album_name\\': \"I Don\\'t Dance\"}, {\\'pos\\': 10, \\'artist_name\\': \\'Tim McGraw\\', \\'track_uri\\': \\'spotify:track:3LbvNFkqDTrE1liGMmZBDL\\', \\'artist_uri\\': \\'spotify:artist:6roFdX1y5BYSbp60OTJWMd\\', \\'track_name\\': \\'Shotgun Rider\\', \\'album_uri\\': \\'spotify:album:39ZUc3Efz2TH8RbPeDTMOB\\', \\'duration_ms\\': 235386, \\'album_name\\': \\'Sundown Heaven Town\\'}, {\\'pos\\': 11, \\'artist_name\\': \\'Chris Young\\', \\'track_uri\\': \\'spotify:track:2j79NtwxoWDmkiH4MGwdLq\\', \\'artist_uri\\': \\'spotify:artist:4BYxqVkZyFjtik7crYLg5Q\\', \\'track_name\\': \\'Lonely Eyes\\', \\'album_uri\\': \\'spotify:album:3cyLH6iUGPjEsZIUFnJfd3\\', \\'duration_ms\\': 217413, \\'album_name\\': \\'A.M.\\'}, {\\'pos\\': 12, \\'artist_name\\': \\'Chris Young\\', \\'track_uri\\': \\'spotify:track:1qjl8UJtWTHrk4SFpwftSN\\', \\'artist_uri\\': \\'spotify:artist:4BYxqVkZyFjtik7crYLg5Q\\', \\'track_name\\': \\'Tomorrow\\', \\'album_uri\\': \\'spotify:album:4yYep1aU3lXRaONTWu2X23\\', \\'duration_ms\\': 220173, \\'album_name\\': \\'Neon\\'}, {\\'pos\\': 13, \\'artist_name\\': \\'Jason Aldean\\', \\'track_uri\\': \\'spotify:track:5Q93FHMA17gHIZeeQAvgaJ\\', \\'artist_uri\\': \\'spotify:artist:3FfvYsEGaIb52QPXhg4DcH\\', \\'track_name\\': \"Sweet Little Somethin\\'\", \\'album_uri\\': \\'spotify:album:2RIu1R2av2tWEu2MloUE6u\\', \\'duration_ms\\': 203093, \\'album_name\\': \\'Old Boots, New Dirt\\'}, {\\'pos\\': 14, \\'artist_name\\': \\'Florida Georgia Line\\', \\'track_uri\\': \\'spotify:track:46ZfPS5VpSQVU5gb82hg3K\\', \\'artist_uri\\': \\'spotify:artist:3b8QkneNDz4JHKKKlLgYZg\\', \\'track_name\\': \\'Anything Goes\\', \\'album_uri\\': \\'spotify:album:5NG7WZaCZZ12M5LJm0JcVc\\', \\'duration_ms\\': 218866, \\'album_name\\': \\'Anything Goes\\'}, {\\'pos\\': 15, \\'artist_name\\': \\'Florida Georgia Line\\', \\'track_uri\\': \\'spotify:track:5ygp81TQpolYKghQjdYZpD\\', \\'artist_uri\\': \\'spotify:artist:3b8QkneNDz4JHKKKlLgYZg\\', \\'track_name\\': \"Bumpin\\' The Night\", \\'album_uri\\': \\'spotify:album:5NG7WZaCZZ12M5LJm0JcVc\\', \\'duration_ms\\': 221080, \\'album_name\\': \\'Anything Goes\\'}]'],\n",
      "      dtype=object)>)])\n"
     ]
    }
   ],
   "source": [
    "## Validate playlist data\n",
    "playlist_train_pipeline = bq_to_tfdata(BigQueryClient(), row_restriction=None, table_id = 'playlists_track_string'\n",
    "                                    , col_names=playlist_fields\n",
    "                                       , col_types=playlist_types\n",
    "                                       , dataset='spotify_mpd', batch_size=1)\n",
    "for line in playlist_train_pipeline.take(1):\n",
    "    print(line) #should come out based on batch size"
   ]
  },
  {
   "cell_type": "code",
   "execution_count": 22,
   "id": "47a834a3-f0e2-4257-89b6-04abd363cd0f",
   "metadata": {},
   "outputs": [],
   "source": [
    "## In pulling one record it looks like it's properly parsing a tf record"
   ]
  },
  {
   "cell_type": "code",
   "execution_count": 23,
   "id": "363c49b8-f4cf-418b-9f7a-0d81345b5186",
   "metadata": {},
   "outputs": [
    {
     "name": "stderr",
     "output_type": "stream",
     "text": [
      "2022-04-22 22:55:34.412855: E tensorflow/core/framework/dataset.cc:577] UNIMPLEMENTED: Cannot compute input sources for dataset of type IO>BigQueryDataset, because the dataset does not implement `InputDatasets`.\n",
      "2022-04-22 22:55:34.412906: E tensorflow/core/framework/dataset.cc:581] UNIMPLEMENTED: Cannot merge options for dataset of type IO>BigQueryDataset, because the dataset does not implement `InputDatasets`.\n",
      "2022-04-22 22:55:34.413288: E tensorflow/core/framework/dataset.cc:577] UNIMPLEMENTED: Cannot compute input sources for dataset of type IO>BigQueryDataset, because the dataset does not implement `InputDatasets`.\n",
      "2022-04-22 22:55:34.413329: E tensorflow/core/framework/dataset.cc:581] UNIMPLEMENTED: Cannot merge options for dataset of type IO>BigQueryDataset, because the dataset does not implement `InputDatasets`.\n"
     ]
    },
    {
     "name": "stdout",
     "output_type": "stream",
     "text": [
      "tf.Tensor([b'[{\\'pos\\': 0, \\'artist_name\\': \\'John Grant\\', \\'track_uri\\': \\'spotify:track:1fCSSXalgNdB6h8Y6Hf9f2\\', \\'artist_uri\\': \\'spotify:artist:3TScZ6zJkavDy0tqoGqiCf\\', \\'track_name\\': \"It Doesn\\'t Matter to Him\", \\'album_uri\\': \\'spotify:album:7JzIz5uW3p6IUPOtAzOIyw\\', \\'duration_ms\\': 386586, \\'album_name\\': \\'Pale Green Ghosts\\'}, {\\'pos\\': 1, \\'artist_name\\': \\'Tindersticks\\', \\'track_uri\\': \\'spotify:track:2cu3TKdwjCIFuEmYfGbrst\\', \\'artist_uri\\': \\'spotify:artist:3dmSPhg0tdao8ePj4pySJ5\\', \\'track_name\\': \\'People Keep Comin\\xe2\\x80\\x99 Around\\', \\'album_uri\\': \\'spotify:album:6OM9QoXRRJRRXvPfxs2vXw\\', \\'duration_ms\\': 431973, \\'album_name\\': \\'Can Our Love...\\'}, {\\'pos\\': 2, \\'artist_name\\': \\'Elvis Presley\\', \\'track_uri\\': \\'spotify:track:73m8WuJlhzVusTVzJCGaDZ\\', \\'artist_uri\\': \\'spotify:artist:43ZHCT0cAZBISjO8DG9PnE\\', \\'track_name\\': \\'Fever\\', \\'album_uri\\': \\'spotify:album:2SBAAtgdyjgfTO1UMHnza1\\', \\'duration_ms\\': 212893, \\'album_name\\': \\'Elvis Is Back\\'}, {\\'pos\\': 3, \\'artist_name\\': \\'Bee Gees\\', \\'track_uri\\': \\'spotify:track:16B9VafGXnmZy9hPzNjeMr\\', \\'artist_uri\\': \\'spotify:artist:1LZEQNv7sE11VDY3SdxQeN\\', \\'track_name\\': \"You\\'ll Never See My Face Again\", \\'album_uri\\': \\'spotify:album:2d39u1iJ7lw4XcH5RDRU3p\\', \\'duration_ms\\': 259000, \\'album_name\\': \\'Odessa\\'}, {\\'pos\\': 4, \\'artist_name\\': \\'Yusuf / Cat Stevens\\', \\'track_uri\\': \\'spotify:track:2xb3gkBO0IIyICYC743oWI\\', \\'artist_uri\\': \\'spotify:artist:08F3Y3SctIlsOEmKd6dnH8\\', \\'track_name\\': \\'Bitterblue\\', \\'album_uri\\': \\'spotify:album:2B719vL1xtPTwYs0j5BuAo\\', \\'duration_ms\\': 192293, \\'album_name\\': \\'Teaser And The Firecat\\'}, {\\'pos\\': 5, \\'artist_name\\': \\'Ian Gomm\\', \\'track_uri\\': \\'spotify:track:5IjKLh01upJs2TcQnP7oCV\\', \\'artist_uri\\': \\'spotify:artist:7fmugt9MKV9lcPgBjEzVdm\\', \\'track_name\\': \\'Hold On\\', \\'album_uri\\': \\'spotify:album:2W6gjkWTnXGRwQIA9lZfcI\\', \\'duration_ms\\': 184053, \\'album_name\\': \\'Summer Holiday\\'}, {\\'pos\\': 6, \\'artist_name\\': \\'Teleman\\', \\'track_uri\\': \\'spotify:track:1Mooou2Pv9Yl6eCtEZdWJr\\', \\'artist_uri\\': \\'spotify:artist:3wrtQM9ICPPeHwoc1GWiyV\\', \\'track_name\\': \\'Glory Hallelujah\\', \\'album_uri\\': \\'spotify:album:4Bif5km1gUjTlmhU6TemgW\\', \\'duration_ms\\': 209053, \\'album_name\\': \\'Brilliant Sanity\\'}, {\\'pos\\': 7, \\'artist_name\\': \\'Isaac Hayes\\', \\'track_uri\\': \\'spotify:track:2OCdNTtbNnHUrWYO13uyMo\\', \\'artist_uri\\': \\'spotify:artist:3IKV7o6WPphDB7cCWXaG3E\\', \\'track_name\\': \\'Never Can Say Goodbye\\', \\'album_uri\\': \\'spotify:album:6lNZfFXjy00SYu3w0HLMx0\\', \\'duration_ms\\': 216533, \\'album_name\\': \\'Greatest Hits Singles\\'}, {\\'pos\\': 8, \\'artist_name\\': \\'Steve Mason\\', \\'track_uri\\': \\'spotify:track:3ztQkPbhQq9Yonr3zxOLxF\\', \\'artist_uri\\': \\'spotify:artist:4ieS1hHc74D9RXhkyoriDU\\', \\'track_name\\': \\'Am I Just A Man\\', \\'album_uri\\': \\'spotify:album:0fS3R5KXFgSxu9T1Yae077\\', \\'duration_ms\\': 195453, \\'album_name\\': \\'Boys Outside\\'}, {\\'pos\\': 9, \\'artist_name\\': \\'Ezra Furman\\', \\'track_uri\\': \\'spotify:track:7g9tBiyl5WCRI1M1sNTjA6\\', \\'artist_uri\\': \\'spotify:artist:1uR7zoLrSRI8bSL43OZ0GY\\', \\'track_name\\': \\'Watch You Go By\\', \\'album_uri\\': \\'spotify:album:61XS79kjAgVvWxyyVnqZyW\\', \\'duration_ms\\': 249000, \\'album_name\\': \\'Perpetual Motion People\\'}, {\\'pos\\': 10, \\'artist_name\\': \\'Z.Z. Hill\\', \\'track_uri\\': \\'spotify:track:5ZBnVHVp7PyuQzlAJXoHQ9\\', \\'artist_uri\\': \\'spotify:artist:1gdaEBrH99AfhsiQNbaSBp\\', \\'track_name\\': \\'Down Home Blues\\', \\'album_uri\\': \\'spotify:album:3sWLOiyB61FDd5PIGxHGe6\\', \\'duration_ms\\': 315093, \\'album_name\\': \\'Down Home\\'}, {\\'pos\\': 11, \\'artist_name\\': \\'Foxygen\\', \\'track_uri\\': \\'spotify:track:2aYvXJhIBrxcEnk7uCJCjN\\', \\'artist_uri\\': \\'spotify:artist:55LHFEtIplWhsfyWZUwkf4\\', \\'track_name\\': \\'No Destruction\\', \\'album_uri\\': \\'spotify:album:1iQNqvcWTFwfUYnsGgMYBw\\', \\'duration_ms\\': 296573, \\'album_name\\': \\'We Are the 21st Century Ambassadors of Peace & Magic\\'}, {\\'pos\\': 12, \\'artist_name\\': \\'Nick Cave & The Bad Seeds\\', \\'track_uri\\': \\'spotify:track:5x5QQJ491MxL4cEnwq8U9r\\', \\'artist_uri\\': \\'spotify:artist:4UXJsSlnKd7ltsrHebV79Q\\', \\'track_name\\': \\'More News from Nowhere\\', \\'album_uri\\': \\'spotify:album:6Ctfs0lQ8K44Q0EfSCeYuy\\', \\'duration_ms\\': 478280, \\'album_name\\': \\'Dig, Lazarus, Dig!!!\\'}, {\\'pos\\': 13, \\'artist_name\\': \\'Steve Mason\\', \\'track_uri\\': \\'spotify:track:7dRECSzjcvTmyWyCM13RoB\\', \\'artist_uri\\': \\'spotify:artist:4ieS1hHc74D9RXhkyoriDU\\', \\'track_name\\': \\'Like Water\\', \\'album_uri\\': \\'spotify:album:0xxkjY9Rgql6yX8eaiFxGI\\', \\'duration_ms\\': 242160, \\'album_name\\': \\'Meet The Humans\\'}, {\\'pos\\': 14, \\'artist_name\\': \\'Ezra Furman\\', \\'track_uri\\': \\'spotify:track:0VN0kXO6AgWD5hLc6g7rHD\\', \\'artist_uri\\': \\'spotify:artist:1uR7zoLrSRI8bSL43OZ0GY\\', \\'track_name\\': \\'Been So Strange\\', \\'album_uri\\': \\'spotify:album:5eyXOmHY5sA1wB8EAoGfGG\\', \\'duration_ms\\': 206000, \\'album_name\\': \\'Day Of The Dog\\'}, {\\'pos\\': 15, \\'artist_name\\': \\'The Marvelettes\\', \\'track_uri\\': \\'spotify:track:4n3lxwEFtasPj2FLRMBLYK\\', \\'artist_uri\\': \\'spotify:artist:0MponVSpW81oLvJZ53vYZH\\', \\'track_name\\': \\'The Hunter Gets Captured By The Game\\', \\'album_uri\\': \\'spotify:album:1YQo94jUMiqGnsMmphJUhN\\', \\'duration_ms\\': 170946, \\'album_name\\': \\'The Marvelettes\\'}, {\\'pos\\': 16, \\'artist_name\\': \\'Richard Hawley\\', \\'track_uri\\': \\'spotify:track:2yT7HjDXV9ni3MN5s1Z3G2\\', \\'artist_uri\\': \\'spotify:artist:1ZsnHGOLYFg8CAHQQBc1ut\\', \\'track_name\\': \\'For Your Lover Give Some Time\\', \\'album_uri\\': \\'spotify:album:0zVtspcd49i55XA3LY1SSX\\', \\'duration_ms\\': 338893, \\'album_name\\': \"Truelove\\'s Gutter\"}, {\\'pos\\': 17, \\'artist_name\\': \\'BC Camplight\\', \\'track_uri\\': \\'spotify:track:6NwhtPGZxclyxzEAvyZyYn\\', \\'artist_uri\\': \\'spotify:artist:3cePP77CX6XY9b0aigzrqh\\', \\'track_name\\': \"You Should\\'ve Gone To School\", \\'album_uri\\': \\'spotify:album:58Ebu0Ics8Tgk1VSqykGXu\\', \\'duration_ms\\': 269326, \\'album_name\\': \\'How To Die In The North\\'}, {\\'pos\\': 18, \\'artist_name\\': \\'John Grant\\', \\'track_uri\\': \\'spotify:track:4XluehCQCnhhYD4cAd9Wfu\\', \\'artist_uri\\': \\'spotify:artist:3TScZ6zJkavDy0tqoGqiCf\\', \\'track_name\\': \\'GMF\\', \\'album_uri\\': \\'spotify:album:7JzIz5uW3p6IUPOtAzOIyw\\', \\'duration_ms\\': 313986, \\'album_name\\': \\'Pale Green Ghosts\\'}, {\\'pos\\': 19, \\'artist_name\\': \\'Jim Noir\\', \\'track_uri\\': \\'spotify:track:2NtCyAe3VnE962CxUh42K2\\', \\'artist_uri\\': \\'spotify:artist:4Qk5Rvoyk2vPhbaJyAP1uL\\', \\'track_name\\': \\'Eanie Meany\\', \\'album_uri\\': \\'spotify:album:2b3T3VGZC6gt4FlQHL0vPD\\', \\'duration_ms\\': 160893, \\'album_name\\': \\'Tower Of Love\\'}, {\\'pos\\': 20, \\'artist_name\\': \\'Steve Mason\\', \\'track_uri\\': \\'spotify:track:3GiF6WudLalXZ9Ke9daheR\\', \\'artist_uri\\': \\'spotify:artist:4ieS1hHc74D9RXhkyoriDU\\', \\'track_name\\': \\'Alive\\', \\'album_uri\\': \\'spotify:album:0xxkjY9Rgql6yX8eaiFxGI\\', \\'duration_ms\\': 257146, \\'album_name\\': \\'Meet The Humans\\'}, {\\'pos\\': 21, \\'artist_name\\': \\'British Sea Power\\', \\'track_uri\\': \\'spotify:track:6zBwtZtCfZE3SCzwetWPA4\\', \\'artist_uri\\': \\'spotify:artist:5zhn89Em2jWUUWdpcLO3YL\\', \\'track_name\\': \\'Living Is So Easy\\', \\'album_uri\\': \\'spotify:album:30v7ves6lmxqFRRonwRWTr\\', \\'duration_ms\\': 241466, \\'album_name\\': \\'Valhalla Dancehall\\'}, {\\'pos\\': 22, \\'artist_name\\': \\'Steve Mason\\', \\'track_uri\\': \\'spotify:track:2QiOyM1WlS2o92ryexc2fA\\', \\'artist_uri\\': \\'spotify:artist:4ieS1hHc74D9RXhkyoriDU\\', \\'track_name\\': \\'Another Day\\', \\'album_uri\\': \\'spotify:album:0xxkjY9Rgql6yX8eaiFxGI\\', \\'duration_ms\\': 226000, \\'album_name\\': \\'Meet The Humans\\'}, {\\'pos\\': 23, \\'artist_name\\': \\'Charles Bradley\\', \\'track_uri\\': \\'spotify:track:7mjLumO3CFUCh8dqJDJaBQ\\', \\'artist_uri\\': \\'spotify:artist:462T0buQ5ScBUQCRpodDRf\\', \\'track_name\\': \"Ain\\'t It a Sin\", \\'album_uri\\': \\'spotify:album:4TiJdmV0Oh7GauOdmfrXNe\\', \\'duration_ms\\': 229110, \\'album_name\\': \\'Changes\\'}, {\\'pos\\': 24, \\'artist_name\\': \\'Ezra Furman\\', \\'track_uri\\': \\'spotify:track:3uDSPcjiNzcYaBhES4xrZS\\', \\'artist_uri\\': \\'spotify:artist:1uR7zoLrSRI8bSL43OZ0GY\\', \\'track_name\\': \\'My Zero\\', \\'album_uri\\': \\'spotify:album:5eyXOmHY5sA1wB8EAoGfGG\\', \\'duration_ms\\': 235000, \\'album_name\\': \\'Day Of The Dog\\'}, {\\'pos\\': 25, \\'artist_name\\': \\'Steve Mason\\', \\'track_uri\\': \\'spotify:track:4sfLh2PMFJ71KxRt4xn9ZL\\', \\'artist_uri\\': \\'spotify:artist:4ieS1hHc74D9RXhkyoriDU\\', \\'track_name\\': \\'To a Door\\', \\'album_uri\\': \\'spotify:album:0xxkjY9Rgql6yX8eaiFxGI\\', \\'duration_ms\\': 254546, \\'album_name\\': \\'Meet The Humans\\'}, {\\'pos\\': 26, \\'artist_name\\': \\'Jamie T\\', \\'track_uri\\': \\'spotify:track:5tbZBnWJAw72ZRjmMsrh0D\\', \\'artist_uri\\': \\'spotify:artist:3Rsr4Z96O6U3lToOiV3zBh\\', \\'track_name\\': \\'Zombie\\', \\'album_uri\\': \\'spotify:album:3dvHXz1aCtrPvvpIMDJFfs\\', \\'duration_ms\\': 246186, \\'album_name\\': \\'Carry On The Grudge\\'}, {\\'pos\\': 27, \\'artist_name\\': \\'The Mighty Jones\\', \\'track_uri\\': \\'spotify:track:73szCrMwM8yNsMpqQN2pV6\\', \\'artist_uri\\': \\'spotify:artist:5kkZZXnurCxfnuarRI47GX\\', \\'track_name\\': \\'The Mighty\\', \\'album_uri\\': \\'spotify:album:0kFkv2OJfBsUYZqlW6Ft6j\\', \\'duration_ms\\': 228218, \\'album_name\\': \\'Gone Long\\'}, {\\'pos\\': 28, \\'artist_name\\': \\'Melvin Van Peebles\\', \\'track_uri\\': \\'spotify:track:2AVlxiZDmlSGAkL6yyzThC\\', \\'artist_uri\\': \\'spotify:artist:2345ph01cCmnDPQPbWhwrF\\', \\'track_name\\': \"Sweetback\\'s Theme\", \\'album_uri\\': \\'spotify:album:6eMS4GbqIxaqySMv2zYKOd\\', \\'duration_ms\\': 205040, \\'album_name\\': \\'Stax-Volt Chartbusters Vol 5\\'}, {\\'pos\\': 29, \\'artist_name\\': \\'Stevie Wonder\\', \\'track_uri\\': \\'spotify:track:7l4kR42G12B5AahzN3DL5E\\', \\'artist_uri\\': \\'spotify:artist:7guDJrEfX3qb6FEbdPA5qi\\', \\'track_name\\': \\'Superwoman (Where Were You When I Needed You)\\', \\'album_uri\\': \\'spotify:album:2MCX7reL7JSe8OqBoIWssA\\', \\'duration_ms\\': 487666, \\'album_name\\': \\'Music Of My Mind\\'}, {\\'pos\\': 30, \\'artist_name\\': \\'The Temptations\\', \\'track_uri\\': \\'spotify:track:6N3qWKVTqM7BvpBp9JVd7i\\', \\'artist_uri\\': \\'spotify:artist:3RwQ26hR2tJtA8F9p2n7jG\\', \\'track_name\\': \"Papa Was A Rollin\\' Stone - Full Version\", \\'album_uri\\': \\'spotify:album:5zPOHYH3syqB7vMfo6hs6G\\', \\'duration_ms\\': 721733, \\'album_name\\': \\'Psychedelic Soul\\'}, {\\'pos\\': 31, \\'artist_name\\': \\'The Rutles\\', \\'track_uri\\': \\'spotify:track:3ev5MeMb1I8zzngTMozmvZ\\', \\'artist_uri\\': \\'spotify:artist:2KJa0Dc4Srr2uVSaKmRuMp\\', \\'track_name\\': \\'Piggy in the Middle - 2006 Remastered Version\\', \\'album_uri\\': \\'spotify:album:7v3WqMOc9yY0Aj0dKwS2aC\\', \\'duration_ms\\': 246399, \\'album_name\\': \\'The Rutles\\'}, {\\'pos\\': 32, \\'artist_name\\': \\'Serge Gainsbourg\\', \\'track_uri\\': \\'spotify:track:2qYSkwAePpWuIKtck2PXOi\\', \\'artist_uri\\': \\'spotify:artist:01C9OoXDvCKkGcf735Tcfo\\', \\'track_name\\': \\'Ballade de Melody Nelson\\', \\'album_uri\\': \\'spotify:album:4VZCGhGLvnxq3RjYygqGym\\', \\'duration_ms\\': 120573, \\'album_name\\': \\'Histoire De Melody Nelson - 40\\xc3\\xa8me Anniversaire\\'}, {\\'pos\\': 33, \\'artist_name\\': \\'Tindersticks\\', \\'track_uri\\': \\'spotify:track:11KgLnL3MChc8GW5wT7JXq\\', \\'artist_uri\\': \\'spotify:artist:3dmSPhg0tdao8ePj4pySJ5\\', \\'track_name\\': \\'Show Me Everything\\', \\'album_uri\\': \\'spotify:album:48OeSxeCxPM1eIyBC0F8Ca\\', \\'duration_ms\\': 329320, \\'album_name\\': \\'The Something Rain\\'}, {\\'pos\\': 34, \\'artist_name\\': \\'The Antlers\\', \\'track_uri\\': \\'spotify:track:6OMsUjzrHNYxzwuiSV8dHg\\', \\'artist_uri\\': \\'spotify:artist:5o8Wylae9k23IEJMIiwd8s\\', \\'track_name\\': \\'No Widows\\', \\'album_uri\\': \\'spotify:album:1VQq6vAHE5jKzvrRpizdx2\\', \\'duration_ms\\': 317851, \\'album_name\\': \\'Burst Apart\\'}, {\\'pos\\': 35, \\'artist_name\\': \\'Kevin Morby\\', \\'track_uri\\': \\'spotify:track:1aujyZFGM8qNRAIafYP4Kk\\', \\'artist_uri\\': \\'spotify:artist:6fxk3UXHTFYET8qCT9WlBF\\', \\'track_name\\': \\'I Have Been to the Mountain\\', \\'album_uri\\': \\'spotify:album:3jHJ7tUv8AL92Xf9iwyGoo\\', \\'duration_ms\\': 194186, \\'album_name\\': \\'Singing Saw\\'}, {\\'pos\\': 36, \\'artist_name\\': \\'Fran\\xc3\\xa7oise Hardy\\', \\'track_uri\\': \\'spotify:track:29GuoJqjg7aMxUmEO3XLEp\\', \\'artist_uri\\': \\'spotify:artist:7x3f7c0fBanNlQwpx1255g\\', \\'track_name\\': \\'Comment te dire adieu - It Hurts To Say Goodbye\\', \\'album_uri\\': \\'spotify:album:5lX198dectE8fpkow4UXrf\\', \\'duration_ms\\': 146333, \\'album_name\\': \\'Comment te dire adieu ?\\'}, {\\'pos\\': 37, \\'artist_name\\': \\'Teenage Fanclub\\', \\'track_uri\\': \\'spotify:track:0fqnB142oD5o7BvegV1ZNg\\', \\'artist_uri\\': \\'spotify:artist:2Sp19cOHSqAUlE64hekARW\\', \\'track_name\\': \\'Baby Lee\\', \\'album_uri\\': \\'spotify:album:7JKeLUaOaKppWbSlEEc6HF\\', \\'duration_ms\\': 263560, \\'album_name\\': \\'Shadows\\'}, {\\'pos\\': 38, \\'artist_name\\': \\'King Biscuit Time\\', \\'track_uri\\': \\'spotify:track:6YcSXiMGKEgGTHKAD2ASPE\\', \\'artist_uri\\': \\'spotify:artist:74kyIR6ktOvX1Pu1v66AAj\\', \\'track_name\\': \\'I Walk The Earth\\', \\'album_uri\\': \\'spotify:album:4qBxbnF42kxsxWf9xchNdv\\', \\'duration_ms\\': 352000, \\'album_name\\': \\'No Style\\'}, {\\'pos\\': 39, \\'artist_name\\': \\'Astrud Gilberto\\', \\'track_uri\\': \\'spotify:track:13ZzTL4ycsFXZ9nxjPHIrM\\', \\'artist_uri\\': \\'spotify:artist:5rX2c1zow6hCph8PnnU3kF\\', \\'track_name\\': \\'Agua De Beber\\', \\'album_uri\\': \\'spotify:album:1wVvwwtIUJ35wawfSWcusY\\', \\'duration_ms\\': 140240, \\'album_name\\': \\'The Silver Collection - Astrud Gilberto\\'}, {\\'pos\\': 40, \\'artist_name\\': \\'The Staple Singers\\', \\'track_uri\\': \\'spotify:track:053qsngYsdeulLj4PsECR9\\', \\'artist_uri\\': \\'spotify:artist:7xGGqA85UIWX1GoTVM4itC\\', \\'track_name\\': \"A Hard Rain\\'s Gonna Fall\", \\'album_uri\\': \\'spotify:album:2esqhZPjs8Xy8j4s2F20A9\\', \\'duration_ms\\': 451013, \\'album_name\\': \\'Faith And Grace: A Family Journey 1953-1976\\'}, {\\'pos\\': 41, \\'artist_name\\': \\'Mick Jagger\\', \\'track_uri\\': \\'spotify:track:2qQoh3FQnJSfOzmNkS6dum\\', \\'artist_uri\\': \\'spotify:artist:3d2pb1dHTm8b61zAGVUVvO\\', \\'track_name\\': \\'Memo From Turner - \"Mick Jagger\" Version\\', \\'album_uri\\': \\'spotify:album:6FT5HGyjHqTOuZGvNSbEqX\\', \\'duration_ms\\': 246360, \\'album_name\\': \\'The Rolling Stones Singles Collection * The London Years\\'}, {\\'pos\\': 42, \\'artist_name\\': \\'The Normalites\\', \\'track_uri\\': \\'spotify:track:7l2HQ16o4MBmJWqlQH8bgt\\', \\'artist_uri\\': \\'spotify:artist:0P5iDE2hQQ4bEZ7QILyuBo\\', \\'track_name\\': \\'More to Come\\', \\'album_uri\\': \\'spotify:album:3uKnyIKOWvWFSvtNaAHmYi\\', \\'duration_ms\\': 278039, \\'album_name\\': \\'The Normalites\\'}, {\\'pos\\': 43, \\'artist_name\\': \\'Steve Mason\\', \\'track_uri\\': \\'spotify:track:4SvNwP1nd7UM2BtzmnMJTO\\', \\'artist_uri\\': \\'spotify:artist:4ieS1hHc74D9RXhkyoriDU\\', \\'track_name\\': \\'Oh My Lord\\', \\'album_uri\\': \\'spotify:album:398lRhxeE2fTRBo7LVaLSc\\', \\'duration_ms\\': 206000, \\'album_name\\': \"Monkey Minds In the Devil\\'s Time\"}, {\\'pos\\': 44, \\'artist_name\\': \\'Echo & the Bunnymen\\', \\'track_uri\\': \\'spotify:track:68E6WLRuFUoI29iln6JrRA\\', \\'artist_uri\\': \\'spotify:artist:0fgYKF9Avljex0L9Wt5b8Z\\', \\'track_name\\': \\'I Want to Be There - When You Come\\', \\'album_uri\\': \\'spotify:album:1lTiwbyfohQwx46m1nNJw6\\', \\'duration_ms\\': 218999, \\'album_name\\': \\'Evergreen\\'}, {\\'pos\\': 45, \\'artist_name\\': \\'Got A Girl\\', \\'track_uri\\': \\'spotify:track:6bEbUCtTbxUpV5zJpc7NPw\\', \\'artist_uri\\': \\'spotify:artist:0ixurZXKMOd2fOLYzkO9dT\\', \\'track_name\\': \\'Did We Live Too Fast\\', \\'album_uri\\': \\'spotify:album:5aAdih4zcvOyeb9UdeNBMV\\', \\'duration_ms\\': 230280, \\'album_name\\': \\'I Love You But I Must Drive Off This Cliff Now (Deluxe Edition)\\'}, {\\'pos\\': 46, \\'artist_name\\': \\'Led Zeppelin\\', \\'track_uri\\': \\'spotify:track:5NnZ4JJxWiqqhYNu3rwmFj\\', \\'artist_uri\\': \\'spotify:artist:36QJpDe2go2KgaRleHCDTp\\', \\'track_name\\': \\'Misty Mountain Hop\\', \\'album_uri\\': \\'spotify:album:44Ig8dzqOkvkGDzaUof9lK\\', \\'duration_ms\\': 278907, \\'album_name\\': \\'Led Zeppelin IV\\'}, {\\'pos\\': 47, \\'artist_name\\': \\'Richard Hawley\\', \\'track_uri\\': \\'spotify:track:1lthx4u7UapEtyXXV9K3ST\\', \\'artist_uri\\': \\'spotify:artist:1ZsnHGOLYFg8CAHQQBc1ut\\', \\'track_name\\': \\'Heart Of Oak\\', \\'album_uri\\': \\'spotify:album:5iKMakkf6viZ3UkaV0YNOd\\', \\'duration_ms\\': 266546, \\'album_name\\': \\'Hollow Meadows\\'}, {\\'pos\\': 48, \\'artist_name\\': \\'British Sea Power\\', \\'track_uri\\': \\'spotify:track:3GOzgqucofJmhKng2siKxX\\', \\'artist_uri\\': \\'spotify:artist:5zhn89Em2jWUUWdpcLO3YL\\', \\'track_name\\': \\'Open the Door\\', \\'album_uri\\': \\'spotify:album:5v1z55eH6ZcvSR0mOPgsnx\\', \\'duration_ms\\': 296600, \\'album_name\\': \\'Do You Like Rock Music\\'}, {\\'pos\\': 49, \\'artist_name\\': \\'Arctic Monkeys\\', \\'track_uri\\': \\'spotify:track:5bsnLiT00hG37qd8p2jdVl\\', \\'artist_uri\\': \\'spotify:artist:7Ln80lUS6He07XvHI8qqHH\\', \\'track_name\\': \\'Cornerstone\\', \\'album_uri\\': \\'spotify:album:5IEoiwkThhRmSMBANhpxl2\\', \\'duration_ms\\': 197973, \\'album_name\\': \\'Humbug\\'}, {\\'pos\\': 50, \\'artist_name\\': \\'Mexrrissey\\', \\'track_uri\\': \\'spotify:track:5egwrOgsy65GbdUSFDMOtG\\', \\'artist_uri\\': \\'spotify:artist:6xVh4gx33bnPqDGzmY6lW5\\', \\'track_name\\': \\'Estuvo Bien (Suedehead)\\', \\'album_uri\\': \\'spotify:album:5PAKU1ihKoUZE73zKJxrBW\\', \\'duration_ms\\': 224493, \\'album_name\\': \\'No Manchester\\'}, {\\'pos\\': 51, \\'artist_name\\': \\'Ghostpoet\\', \\'track_uri\\': \\'spotify:track:4Re4daB6wQ03Lpy7i6UFc1\\', \\'artist_uri\\': \\'spotify:artist:69lEbRQRe29JdyLrewNAvD\\', \\'track_name\\': \\'Off Peak Dreams\\', \\'album_uri\\': \\'spotify:album:7pmp7mopLSAChGiAlgQs2D\\', \\'duration_ms\\': 198206, \\'album_name\\': \\'Shedding Skin\\'}, {\\'pos\\': 52, \\'artist_name\\': \\'The Supremes\\', \\'track_uri\\': \\'spotify:track:62AZbHWJfvZ3nUUfWZ3GTe\\', \\'artist_uri\\': \\'spotify:artist:57bUPid8xztkieZfS7OlEV\\', \\'track_name\\': \\'Stoned Love - Single Version\\', \\'album_uri\\': \\'spotify:album:3nfOhRo12D73mZBUTQ7SMI\\', \\'duration_ms\\': 177746, \\'album_name\\': \\'The Ultimate Collection\\'}, {\\'pos\\': 53, \\'artist_name\\': \\'Wire\\', \\'track_uri\\': \\'spotify:track:2iBoTA4N3ZpHFomNfZIfhC\\', \\'artist_uri\\': \\'spotify:artist:2i8ynmFv4qgRksyDlBgi6d\\', \\'track_name\\': \\'Burning Bridges\\', \\'album_uri\\': \\'spotify:album:3bLwfwMXq9zCEfZZ06VHGk\\', \\'duration_ms\\': 197280, \\'album_name\\': \\'Wire\\'}, {\\'pos\\': 54, \\'artist_name\\': \\'TOY\\', \\'track_uri\\': \\'spotify:track:3ogkMyKoE2358FowGlJbiA\\', \\'artist_uri\\': \\'spotify:artist:0b0uhvUEeiD6y0XHVw3mRA\\', \\'track_name\\': \\'Lose My Way\\', \\'album_uri\\': \\'spotify:album:60ADaSIrU8N8qblajqoCQ0\\', \\'duration_ms\\': 266093, \\'album_name\\': \\'Toy\\'}, {\\'pos\\': 55, \\'artist_name\\': \"Sergio Mendes & Brasil \\'66\", \\'track_uri\\': \\'spotify:track:1CVa57j9K1bj3EF1ww17Nw\\', \\'artist_uri\\': \\'spotify:artist:6hCsqVHnBo1BVQWuIjRMkL\\', \\'track_name\\': \"For What It\\'s Worth\", \\'album_uri\\': \\'spotify:album:5MvLVtjfXL7QrbcCoUu1th\\', \\'duration_ms\\': 223173, \\'album_name\\': \\'Stillness\\'}, {\\'pos\\': 56, \\'artist_name\\': \\'Richard Swift\\', \\'track_uri\\': \\'spotify:track:35OEKTlc4Yi5b8ltIWaavs\\', \\'artist_uri\\': \\'spotify:artist:7fSjnDr8tBO37Xbb2UXuYr\\', \\'track_name\\': \\'Lady Luck\\', \\'album_uri\\': \\'spotify:album:2gtWAL5hxlFsnpGLe7G4d6\\', \\'duration_ms\\': 256706, \\'album_name\\': \\'Ground Trouble Jaw\\'}, {\\'pos\\': 57, \\'artist_name\\': \\'Mavis Staples\\', \\'track_uri\\': \\'spotify:track:3Mc3GTTm9MaTRDkBolbDHQ\\', \\'artist_uri\\': \\'spotify:artist:0cTSCsVx04SSht9V6cpKN0\\', \\'track_name\\': \\'Down In Mississippi\\', \\'album_uri\\': \\'spotify:album:0Q46RnNXqFQ2dTdBD1qcv7\\', \\'duration_ms\\': 297560, \\'album_name\\': \"We\\'ll Never Turn Back\"}, {\\'pos\\': 58, \\'artist_name\\': \\'Horace Andy\\', \\'track_uri\\': \\'spotify:track:62dKCUHYY2ZqLfgEBSrm9b\\', \\'artist_uri\\': \\'spotify:artist:2ieAXAuLe6qQ3RJsqCxpoC\\', \\'track_name\\': \\'Something On My Mind\\', \\'album_uri\\': \\'spotify:album:2b1uCB1hztNqgYtI19MPFo\\', \\'duration_ms\\': 120333, \\'album_name\\': \\'Wicked Dem A Burn\\'}, {\\'pos\\': 59, \\'artist_name\\': \\'Merry Clayton\\', \\'track_uri\\': \\'spotify:track:2Yt4WlPH2czWxGs8V9c94y\\', \\'artist_uri\\': \\'spotify:artist:71cyZ6pH0KrM2MdtO8RGmy\\', \\'track_name\\': \\'Gimme Shelter\\', \\'album_uri\\': \\'spotify:album:2qfp3gblgD9Fq0gco9chZ7\\', \\'duration_ms\\': 207266, \\'album_name\\': \\'Gimme Shelter\\'}, {\\'pos\\': 60, \\'artist_name\\': \\'Richard Hawley\\', \\'track_uri\\': \\'spotify:track:68UGKNGREtwsO7fDRwftZ2\\', \\'artist_uri\\': \\'spotify:artist:1ZsnHGOLYFg8CAHQQBc1ut\\', \\'track_name\\': \\'Tonight The Streets Are Ours\\', \\'album_uri\\': \\'spotify:album:5hlcLAkhlCrV6j8NxEptXl\\', \\'duration_ms\\': 222506, \\'album_name\\': \"Lady\\'s Bridge\"}, {\\'pos\\': 61, \\'artist_name\\': \\'Mike Scott\\', \\'track_uri\\': \\'spotify:track:4LONn6sGK8JO5KBALp7aHg\\', \\'artist_uri\\': \\'spotify:artist:16jnz1GU2KwCtBMc7zmClK\\', \\'track_name\\': \\'City Full of Ghosts (Dublin)\\', \\'album_uri\\': \\'spotify:album:2aKcQzIhb4GUbPuRdLU3Te\\', \\'duration_ms\\': 167306, \\'album_name\\': \"Bring \\'Em All In\"}, {\\'pos\\': 62, \\'artist_name\\': \\'Nick Cave & The Bad Seeds\\', \\'track_uri\\': \\'spotify:track:3iSLPTiGh58OlXc3WbDSFf\\', \\'artist_uri\\': \\'spotify:artist:4UXJsSlnKd7ltsrHebV79Q\\', \\'track_name\\': \\'Deanna - Acoustic Version\\', \\'album_uri\\': \\'spotify:album:2Bsy1Jgzx6SwGtah8SQzx5\\', \\'duration_ms\\': 173346, \\'album_name\\': \\'B-Sides and Rarities\\'}, {\\'pos\\': 63, \\'artist_name\\': \\'Nick Gilder\\', \\'track_uri\\': \\'spotify:track:69eihm0ByPDKtOnZ2B9mA7\\', \\'artist_uri\\': \\'spotify:artist:2kzcxYyQIRbwtkwVtj48mG\\', \\'track_name\\': \\'Hot Child In The City - Single Version\\', \\'album_uri\\': \\'spotify:album:6ndJxKyXX7qUDW0c5p4d1o\\', \\'duration_ms\\': 214960, \\'album_name\\': \\'Hot Child In The City\\'}, {\\'pos\\': 64, \\'artist_name\\': \\'Teleman\\', \\'track_uri\\': \\'spotify:track:0cpvnAok24r2r9b6uONUX1\\', \\'artist_uri\\': \\'spotify:artist:3wrtQM9ICPPeHwoc1GWiyV\\', \\'track_name\\': \\'In Your Fur\\', \\'album_uri\\': \\'spotify:album:5VDsTDc2i3eN0ThtwDcbaj\\', \\'duration_ms\\': 244440, \\'album_name\\': \\'Breakfast\\'}, {\\'pos\\': 65, \\'artist_name\\': \\'The Fall\\', \\'track_uri\\': \\'spotify:track:6ZoS1qJvSPD8bpTuffmb54\\', \\'artist_uri\\': \\'spotify:artist:6WoTvA9qinpHtSRJuldYh6\\', \\'track_name\\': \\'Feeling Numb\\', \\'album_uri\\': \\'spotify:album:6Ng6yHMNlGR2DxmDuthOuW\\', \\'duration_ms\\': 165706, \\'album_name\\': \\'Cerebral Caustic\\'}, {\\'pos\\': 66, \\'artist_name\\': \\'The Quik\\', \\'track_uri\\': \\'spotify:track:29ptc9qtZy301MKKBa1fFs\\', \\'artist_uri\\': \\'spotify:artist:2YOkUYXwptFAh0wM6i1s7A\\', \\'track_name\\': \\'Berts Apple Crumble\\', \\'album_uri\\': \\'spotify:album:4HJhkccVXPlS3qx3v2i07C\\', \\'duration_ms\\': 133600, \\'album_name\\': \\'Berts Apple Crumble\\'}, {\\'pos\\': 67, \\'artist_name\\': \\'Ezra Furman\\', \\'track_uri\\': \\'spotify:track:5pDrHGMPYS6gCsvTB9CX0D\\', \\'artist_uri\\': \\'spotify:artist:1uR7zoLrSRI8bSL43OZ0GY\\', \\'track_name\\': \\'Lousy Connection\\', \\'album_uri\\': \\'spotify:album:5rbSPwr12A5dafXQUzNjKU\\', \\'duration_ms\\': 229017, \\'album_name\\': \\'Lousy Connection\\'}, {\\'pos\\': 68, \\'artist_name\\': \\'Courtney Barnett\\', \\'track_uri\\': \\'spotify:track:4xuiROAX4zVVNW9onuNCpD\\', \\'artist_uri\\': \\'spotify:artist:4OOlG5eBXSkSAAEeKjJb5Y\\', \\'track_name\\': \\'Avant Gardener\\', \\'album_uri\\': \\'spotify:album:75j1aBB5fEOxfrGcQTNkhs\\', \\'duration_ms\\': 312226, \\'album_name\\': \\'The Double EP : A Sea Of Split Peas\\'}, {\\'pos\\': 69, \\'artist_name\\': \\'The National\\', \\'track_uri\\': \\'spotify:track:6gf7WF9nXNON9HdNtrdEDq\\', \\'artist_uri\\': \\'spotify:artist:2cCUtGK9sDU2EoElnk0GNB\\', \\'track_name\\': \\'I Should Live in Salt\\', \\'album_uri\\': \\'spotify:album:2JhR4tjuc3MIKa8v2JaKze\\', \\'duration_ms\\': 248043, \\'album_name\\': \\'Trouble Will Find Me\\'}, {\\'pos\\': 70, \\'artist_name\\': \\'Andy Cato\\', \\'track_uri\\': \\'spotify:track:6HIUiOXsUJSVnouiQQ4FcW\\', \\'artist_uri\\': \\'spotify:artist:1YBgstxr2DTYKgnzIszT62\\', \\'track_name\\': \\'Abbey Road Jam\\', \\'album_uri\\': \\'spotify:album:3Fi3WdHpIc7onkGv9s0u7I\\', \\'duration_ms\\': 195363, \\'album_name\\': \\'Times and Places\\'}, {\\'pos\\': 71, \\'artist_name\\': \\'The Polyphonic Spree\\', \\'track_uri\\': \\'spotify:track:5DJhHFisQOSwIBqoymZHzE\\', \\'artist_uri\\': \\'spotify:artist:0inqWv3OS4VpWt691ki8yk\\', \\'track_name\\': \"You\\'re Golden\", \\'album_uri\\': \\'spotify:album:2RTDenavtWqv6ZER4ToIB7\\', \\'duration_ms\\': 248000, \\'album_name\\': \"Yes, It\\'s True\"}, {\\'pos\\': 72, \\'artist_name\\': \\'Cheap Trick\\', \\'track_uri\\': \\'spotify:track:4Ieu0MN7hzehIsjbtxclBz\\', \\'artist_uri\\': \\'spotify:artist:1LB8qB5BPb3MHQrfkvifXU\\', \\'track_name\\': \\'Heaven Tonight\\', \\'album_uri\\': \\'spotify:album:5w20U3G3GyWiPvvDeVzkhN\\', \\'duration_ms\\': 325200, \\'album_name\\': \\'Heaven Tonight\\'}, {\\'pos\\': 73, \\'artist_name\\': \\'Kurt Vile\\', \\'track_uri\\': \\'spotify:track:3cSlU4ZH4wzb5pM7wI1k3f\\', \\'artist_uri\\': \\'spotify:artist:5gspAQIAH8nJUrMYgXjCJ2\\', \\'track_name\\': \\'Wakin on a Pretty Day\\', \\'album_uri\\': \\'spotify:album:2imxOfDIDk2voAYCZP88u2\\', \\'duration_ms\\': 570733, \\'album_name\\': \\'Wakin On A Pretty Daze\\'}, {\\'pos\\': 74, \\'artist_name\\': \\'Foxygen\\', \\'track_uri\\': \\'spotify:track:2SOT09giYc28fUo9ppjCpw\\', \\'artist_uri\\': \\'spotify:artist:55LHFEtIplWhsfyWZUwkf4\\', \\'track_name\\': \\'San Francisco\\', \\'album_uri\\': \\'spotify:album:1iQNqvcWTFwfUYnsGgMYBw\\', \\'duration_ms\\': 227906, \\'album_name\\': \\'We Are the 21st Century Ambassadors of Peace & Magic\\'}, {\\'pos\\': 75, \\'artist_name\\': \\'British Sea Power\\', \\'track_uri\\': \\'spotify:track:6uHt2La1DhwvSffY9qOTe6\\', \\'artist_uri\\': \\'spotify:artist:5zhn89Em2jWUUWdpcLO3YL\\', \\'track_name\\': \\'Heavy Water\\', \\'album_uri\\': \\'spotify:album:30v7ves6lmxqFRRonwRWTr\\', \\'duration_ms\\': 219933, \\'album_name\\': \\'Valhalla Dancehall\\'}, {\\'pos\\': 76, \\'artist_name\\': \\'Mavis Staples\\', \\'track_uri\\': \\'spotify:track:34UvuxhWK25PbatjbTzlkP\\', \\'artist_uri\\': \\'spotify:artist:0cTSCsVx04SSht9V6cpKN0\\', \\'track_name\\': \\'Far Celestial Shore\\', \\'album_uri\\': \\'spotify:album:5qQVchgnojRZQbAtLfoq5N\\', \\'duration_ms\\': 175546, \\'album_name\\': \\'One True Vine\\'}, {\\'pos\\': 77, \\'artist_name\\': \\'Bill Ryder-Jones\\', \\'track_uri\\': \\'spotify:track:793NICl6EwdDLEw5ye1qWc\\', \\'artist_uri\\': \\'spotify:artist:2E70ENJNHoACgzTkJ3QnO4\\', \\'track_name\\': \\'Two To Birkenhead\\', \\'album_uri\\': \\'spotify:album:6Fdrnfx5pic8LlSGkmlVx9\\', \\'duration_ms\\': 262213, \\'album_name\\': \\'West Kirby County Primary\\'}, {\\'pos\\': 78, \\'artist_name\\': \\'Fat White Family\\', \\'track_uri\\': \\'spotify:track:1xSWi06VE4opoSzgihM0Gq\\', \\'artist_uri\\': \\'spotify:artist:5ztBFCBEL7OtjdAt98RnD4\\', \\'track_name\\': \\'Is It Raining in Your Mouth?\\', \\'album_uri\\': \\'spotify:album:2bvJY49iTus41uimHz06VV\\', \\'duration_ms\\': 232000, \\'album_name\\': \\'Champagne Holocaust\\'}, {\\'pos\\': 79, \\'artist_name\\': \\'The Monkees\\', \\'track_uri\\': \\'spotify:track:02tiurLpJcKS0aFVsyvKz3\\', \\'artist_uri\\': \\'spotify:artist:320EPCSEezHt1rtbfwH6Ck\\', \\'track_name\\': \\'Porpoise Song - Theme From \"Head\"\\', \\'album_uri\\': \\'spotify:album:3xru9aQ0OwyBa4JxfziloH\\', \\'duration_ms\\': 160319, \\'album_name\\': \\'Head\\'}, {\\'pos\\': 80, \\'artist_name\\': \\'Temples\\', \\'track_uri\\': \\'spotify:track:35YaJZZZuIkGGJApAY8XXm\\', \\'artist_uri\\': \\'spotify:artist:4ogwGU9VPWrnVBs1GEwZVV\\', \\'track_name\\': \\'Keep In The Dark\\', \\'album_uri\\': \\'spotify:album:68s925XDeazeF8kk6pypRK\\', \\'duration_ms\\': 218337, \\'album_name\\': \\'Keep In The Dark\\'}, {\\'pos\\': 81, \\'artist_name\\': \\'Ezra Furman\\', \\'track_uri\\': \\'spotify:track:2RQOkoYnQoCGYu3kTqQ91g\\', \\'artist_uri\\': \\'spotify:artist:1uR7zoLrSRI8bSL43OZ0GY\\', \\'track_name\\': \\'Anything Can Happen\\', \\'album_uri\\': \\'spotify:album:5eyXOmHY5sA1wB8EAoGfGG\\', \\'duration_ms\\': 146000, \\'album_name\\': \\'Day Of The Dog\\'}, {\\'pos\\': 82, \\'artist_name\\': \\'Teleman\\', \\'track_uri\\': \\'spotify:track:38wgvxvf1ByjJmZKCV3PB7\\', \\'artist_uri\\': \\'spotify:artist:3wrtQM9ICPPeHwoc1GWiyV\\', \\'track_name\\': \\'Steam Train Girl\\', \\'album_uri\\': \\'spotify:album:5VDsTDc2i3eN0ThtwDcbaj\\', \\'duration_ms\\': 222146, \\'album_name\\': \\'Breakfast\\'}, {\\'pos\\': 83, \\'artist_name\\': \\'Eddie Harris\\', \\'track_uri\\': \\'spotify:track:2uydRlPZMHwiXwLOwxtyja\\', \\'artist_uri\\': \\'spotify:artist:0bcDOCWIbvWApEIB7l1uZ4\\', \\'track_name\\': \"It\\'s All Right Now\", \\'album_uri\\': \\'spotify:album:5zbUxqwVvKx8JUpoPncWA9\\', \\'duration_ms\\': 236520, \\'album_name\\': \"That Is Why You\\'re Overweight\"}, {\\'pos\\': 84, \\'artist_name\\': \\'Grandaddy\\', \\'track_uri\\': \\'spotify:track:5uIHdMiO0X7spUYmRnv0cf\\', \\'artist_uri\\': \\'spotify:artist:3W4xM5XYtUp4ifYYPVKVdk\\', \\'track_name\\': \"Now It\\'s On\", \\'album_uri\\': \\'spotify:album:3fArCV5Pc1Y8fHZwsja3Ih\\', \\'duration_ms\\': 248066, \\'album_name\\': \\'Sumday\\'}, {\\'pos\\': 85, \\'artist_name\\': \\'The Rutles\\', \\'track_uri\\': \\'spotify:track:4hX6r59EodHfwM2iA9mLUr\\', \\'artist_uri\\': \\'spotify:artist:2KJa0Dc4Srr2uVSaKmRuMp\\', \\'track_name\\': \\'I Must Be In Love - 2006 Remastered Version\\', \\'album_uri\\': \\'spotify:album:7v3WqMOc9yY0Aj0dKwS2aC\\', \\'duration_ms\\': 124946, \\'album_name\\': \\'The Rutles\\'}, {\\'pos\\': 86, \\'artist_name\\': \\'Commodores\\', \\'track_uri\\': \\'spotify:track:2wOPAr1xP4BWcpicZrHgwb\\', \\'artist_uri\\': \\'spotify:artist:6twIAGnYuIT1pncMAsXnEm\\', \\'track_name\\': \\'Gimme My Mule\\', \\'album_uri\\': \\'spotify:album:6VkPcXitZQpLTtZphpaPXC\\', \\'duration_ms\\': 313119, \\'album_name\\': \"Movin\\' On\"}, {\\'pos\\': 87, \\'artist_name\\': \\'Rodr\\xc3\\xadguez\\', \\'track_uri\\': \\'spotify:track:5XLLcnfznZicerhPdTVE5z\\', \\'artist_uri\\': \\'spotify:artist:5PrHzxc3kFm4hIrGNmelpX\\', \\'track_name\\': \\'Inner City Blues\\', \\'album_uri\\': \\'spotify:album:4s7qz6sSmn1gzphGM9P5dK\\', \\'duration_ms\\': 205560, \\'album_name\\': \\'Searching For Sugar Man\\'}, {\\'pos\\': 88, \\'artist_name\\': \\'Amy Winehouse\\', \\'track_uri\\': \\'spotify:track:4SyowQi18ym4zJGJDBnsTj\\', \\'artist_uri\\': \\'spotify:artist:6Q192DXotxtaysaqNPy5yR\\', \\'track_name\\': \"You Know I\\'m No Good\", \\'album_uri\\': \\'spotify:album:6GJCGWfI95aeRsdtVB52vc\\', \\'duration_ms\\': 256946, \\'album_name\\': \\'Back To Black\\'}, {\\'pos\\': 89, \\'artist_name\\': \\'Steve Mason\\', \\'track_uri\\': \\'spotify:track:2HCQ0aIr2GZczJKYAcEWr7\\', \\'artist_uri\\': \\'spotify:artist:4ieS1hHc74D9RXhkyoriDU\\', \\'track_name\\': \\'Come To Me\\', \\'album_uri\\': \\'spotify:album:398lRhxeE2fTRBo7LVaLSc\\', \\'duration_ms\\': 334333, \\'album_name\\': \"Monkey Minds In the Devil\\'s Time\"}, {\\'pos\\': 90, \\'artist_name\\': \\'Richard Hawley\\', \\'track_uri\\': \\'spotify:track:0oB7tpt5Nm4uiaUbIBX4AZ\\', \\'artist_uri\\': \\'spotify:artist:1ZsnHGOLYFg8CAHQQBc1ut\\', \\'track_name\\': \\'Which Way\\', \\'album_uri\\': \\'spotify:album:5iKMakkf6viZ3UkaV0YNOd\\', \\'duration_ms\\': 178240, \\'album_name\\': \\'Hollow Meadows\\'}, {\\'pos\\': 91, \\'artist_name\\': \\'Fat White Family\\', \\'track_uri\\': \\'spotify:track:0o8EmPcnXLuhVIM106sIYL\\', \\'artist_uri\\': \\'spotify:artist:5ztBFCBEL7OtjdAt98RnD4\\', \\'track_name\\': \\'Whitest Boy on the Beach\\', \\'album_uri\\': \\'spotify:album:7jMNBKH5wRMxqXj6bMAdmy\\', \\'duration_ms\\': 293160, \\'album_name\\': \\'Songs for Our Mothers\\'}, {\\'pos\\': 92, \\'artist_name\\': \\'Chet Faker\\', \\'track_uri\\': \\'spotify:track:2xD7RvKFJl52xyds3wQFXQ\\', \\'artist_uri\\': \\'spotify:artist:2Q0MyH5YMI5HPQjFjlq5g3\\', \\'track_name\\': \\'No Diggity\\', \\'album_uri\\': \\'spotify:album:1lqdYmOceSVAulxV7YuD7L\\', \\'duration_ms\\': 221533, \\'album_name\\': \\'Thinking In Textures\\'}, {\\'pos\\': 93, \\'artist_name\\': \\'The Isley Brothers\\', \\'track_uri\\': \\'spotify:track:3ED1bJFd5g9jwHa8N97BuN\\', \\'artist_uri\\': \\'spotify:artist:53QzNeFpzAaXYnrDBbDrIp\\', \\'track_name\\': \\'Ohio / Machine Gun\\', \\'album_uri\\': \\'spotify:album:3ccXyL5HD9DzGCWv3cIMIs\\', \\'duration_ms\\': 552226, \\'album_name\\': \"Givin\\' It Back\"}, {\\'pos\\': 94, \\'artist_name\\': \\'De Lux\\', \\'track_uri\\': \\'spotify:track:7EEiBOplJvMnQNbEcu54Ot\\', \\'artist_uri\\': \\'spotify:artist:6go0iwCisHtnyywarV5OEZ\\', \\'track_name\\': \\'LA Threshold\\', \\'album_uri\\': \\'spotify:album:2lvTV2qnzm28wiRBMS0efC\\', \\'duration_ms\\': 343152, \\'album_name\\': \\'Generation\\'}, {\\'pos\\': 95, \\'artist_name\\': \\'Brakes\\', \\'track_uri\\': \\'spotify:track:2amqtFbXfiAy0VtjbeD1Ik\\', \\'artist_uri\\': \\'spotify:artist:69Ea1LntkRXcDIG71LHvbq\\', \\'track_name\\': \"You\\'re So Pretty\", \\'album_uri\\': \\'spotify:album:5rRqcNZygwG6X5qB2mxbLf\\', \\'duration_ms\\': 180200, \\'album_name\\': \\'Give Blood\\'}, {\\'pos\\': 96, \\'artist_name\\': \\'Steve Mason\\', \\'track_uri\\': \\'spotify:track:7Bu0ar97CAcjEQxmewJN1i\\', \\'artist_uri\\': \\'spotify:artist:4ieS1hHc74D9RXhkyoriDU\\', \\'track_name\\': \\'Water Bored\\', \\'album_uri\\': \\'spotify:album:0xxkjY9Rgql6yX8eaiFxGI\\', \\'duration_ms\\': 227973, \\'album_name\\': \\'Meet The Humans\\'}, {\\'pos\\': 97, \\'artist_name\\': \\'Mogwai\\', \\'track_uri\\': \\'spotify:track:4l8YjajX9NRBWoefDIAjLx\\', \\'artist_uri\\': \\'spotify:artist:34UhPkLbtFKRq3nmfFgejG\\', \\'track_name\\': \\'Teenage Exorcists\\', \\'album_uri\\': \\'spotify:album:4Rq2gXF3OozhlJHvwuXMeS\\', \\'duration_ms\\': 209843, \\'album_name\\': \\'Music Industry 3. Fitness Industry 1.\\'}, {\\'pos\\': 98, \\'artist_name\\': \\'John Grant\\', \\'track_uri\\': \\'spotify:track:250ntz5yzw9r2i1Opva1ea\\', \\'artist_uri\\': \\'spotify:artist:3TScZ6zJkavDy0tqoGqiCf\\', \\'track_name\\': \\'I Hate This Town\\', \\'album_uri\\': \\'spotify:album:7JzIz5uW3p6IUPOtAzOIyw\\', \\'duration_ms\\': 243720, \\'album_name\\': \\'Pale Green Ghosts\\'}, {\\'pos\\': 99, \\'artist_name\\': \\'Grinderman\\', \\'track_uri\\': \\'spotify:track:33qCADPKZvNLx5uBvVrwfd\\', \\'artist_uri\\': \\'spotify:artist:0IpDaO9A1OW1h0YChKzVaX\\', \\'track_name\\': \\'Palaces Of Montezuma\\', \\'album_uri\\': \\'spotify:album:13v92RQAMAswi6KpZPWTuY\\', \\'duration_ms\\': 212226, \\'album_name\\': \\'Grinderman 2\\'}, {\\'pos\\': 100, \\'artist_name\\': \\'Loyle Carner\\', \\'track_uri\\': \\'spotify:track:2f9ZC75ny97PooFTU9U968\\', \\'artist_uri\\': \\'spotify:artist:4oDjh8wNW5vDHyFRrDYC4k\\', \\'track_name\\': \"Ain\\'t Nothing Changed\", \\'album_uri\\': \\'spotify:album:0tgsACxUMuBElueq2YRe1K\\', \\'duration_ms\\': 194426, \\'album_name\\': \"Yesterday\\'s Gone\"}, {\\'pos\\': 101, \\'artist_name\\': \\'Steve Mason\\', \\'track_uri\\': \\'spotify:track:1PFhZ5YviddhB7VV3BdTBk\\', \\'artist_uri\\': \\'spotify:artist:4ieS1hHc74D9RXhkyoriDU\\', \\'track_name\\': \\'Seen It All Before\\', \\'album_uri\\': \\'spotify:album:398lRhxeE2fTRBo7LVaLSc\\', \\'duration_ms\\': 280200, \\'album_name\\': \"Monkey Minds In the Devil\\'s Time\"}, {\\'pos\\': 102, \\'artist_name\\': \\'The Chemical Brothers\\', \\'track_uri\\': \\'spotify:track:2U5rN7uL5771qyOwErJCY8\\', \\'artist_uri\\': \\'spotify:artist:1GhPHrq36VKCY3ucVaZCfo\\', \\'track_name\\': \\'Wide Open\\', \\'album_uri\\': \\'spotify:album:3XUVUh6hisN43r2eZAOJRD\\', \\'duration_ms\\': 354603, \\'album_name\\': \\'Born In The Echoes\\'}, {\\'pos\\': 103, \\'artist_name\\': \\'Psychic TV\\', \\'track_uri\\': \\'spotify:track:08tbzjZdsNLOyHfboGJKUQ\\', \\'artist_uri\\': \\'spotify:artist:3oi0s3WIuxBU5oh87n7za2\\', \\'track_name\\': \\'Godstar\\', \\'album_uri\\': \\'spotify:album:1ZTbROmvhjNLZnnAsbLloq\\', \\'duration_ms\\': 218747, \\'album_name\\': \\'Allegory & Self\\'}, {\\'pos\\': 104, \\'artist_name\\': \\'Steve Mason\\', \\'track_uri\\': \\'spotify:track:4SvNwP1nd7UM2BtzmnMJTO\\', \\'artist_uri\\': \\'spotify:artist:4ieS1hHc74D9RXhkyoriDU\\', \\'track_name\\': \\'Oh My Lord\\', \\'album_uri\\': \\'spotify:album:398lRhxeE2fTRBo7LVaLSc\\', \\'duration_ms\\': 206000, \\'album_name\\': \"Monkey Minds In the Devil\\'s Time\"}, {\\'pos\\': 105, \\'artist_name\\': \\'Boozoo Bajou\\', \\'track_uri\\': \\'spotify:track:2myjJr3pvDam6zPvScSIlF\\', \\'artist_uri\\': \\'spotify:artist:2I36EjIVz3vDfROgj1MfZ3\\', \\'track_name\\': \\'Night Over Manaus\\', \\'album_uri\\': \\'spotify:album:6ab1m9DWCeKksSAySOa39x\\', \\'duration_ms\\': 379360, \\'album_name\\': \\'Satta\\'}, {\\'pos\\': 106, \\'artist_name\\': \\'Brakes\\', \\'track_uri\\': \\'spotify:track:1YkPWo9w06UWoPcO9TQwCl\\', \\'artist_uri\\': \\'spotify:artist:69Ea1LntkRXcDIG71LHvbq\\', \\'track_name\\': \\'Crush On You\\', \\'album_uri\\': \\'spotify:album:0ttPprAIfMC0PTTgeGEsvT\\', \\'duration_ms\\': 194040, \\'album_name\\': \\'Touchdown\\'}, {\\'pos\\': 107, \\'artist_name\\': \\'Radiohead\\', \\'track_uri\\': \\'spotify:track:3pcCifdPTc2BbqmWpEhtUd\\', \\'artist_uri\\': \\'spotify:artist:4Z8W4fKeB5YxbusRsdQVPb\\', \\'track_name\\': \\'Burn the Witch\\', \\'album_uri\\': \\'spotify:album:6vuykQgDLUCiZ7YggIpLM9\\', \\'duration_ms\\': 220609, \\'album_name\\': \\'A Moon Shaped Pool\\'}, {\\'pos\\': 108, \\'artist_name\\': \\'Echo & the Bunnymen\\', \\'track_uri\\': \\'spotify:track:1uAjwJF7OguL1vZUH8YwE9\\', \\'artist_uri\\': \\'spotify:artist:0fgYKF9Avljex0L9Wt5b8Z\\', \\'track_name\\': \\'All Because of You Days\\', \\'album_uri\\': \\'spotify:album:24hzMzh45TA7WRpqQCtjb7\\', \\'duration_ms\\': 344960, \\'album_name\\': \\'Siberia\\'}, {\\'pos\\': 109, \\'artist_name\\': \\'Leon Russell\\', \\'track_uri\\': \\'spotify:track:5JMVWtrPX8Dl6HAo4HxD6Q\\', \\'artist_uri\\': \\'spotify:artist:6r1Xmz7YUD4z0VRUoGm8XN\\', \\'track_name\\': \\'The Ballad of Mad Dogs and Englishmen\\', \\'album_uri\\': \\'spotify:album:3zkbaJQr8tQl8qdwN9v53k\\', \\'duration_ms\\': 241766, \\'album_name\\': \\'Leon Russell And The Shelter People\\'}]'], shape=(1,), dtype=string)\n"
     ]
    }
   ],
   "source": [
    "#do some data wranglging on the text data\n",
    "for _ in playlist_train_pipeline.map(lambda x: x['tracks']).take(1):\n",
    "    tensor = _\n",
    "    print(_)"
   ]
  },
  {
   "cell_type": "code",
   "execution_count": 13,
   "id": "fc57822a-235f-4459-a43c-34762964b823",
   "metadata": {},
   "outputs": [],
   "source": [
    "# %%writefile -a vertex_train/trainer/task.py\n",
    "\n",
    "class PlaylistsModel(tf.keras.Model):\n",
    "    def __init__(self, layer_sizes, adapt_data):\n",
    "        super().__init__()\n",
    "        \n",
    "        #start with lookups on low cardnality categorical items\n",
    "        colab_vocab = tf.constant(['true','false'], name='colab_vocab', dtype='string')\n",
    "        \n",
    "        self.colab = tf.keras.Sequential([\n",
    "            tf.keras.layers.StringLookup(\n",
    "                vocabulary=colab_vocab, mask_token=None, name=\"colab_lookup\", output_mode='count')\n",
    "        ], name=\"colab\")\n",
    "        \n",
    "        #create text vectorizors to be fed to an embedding layer\n",
    "        self.artist_vectorizor = tf.keras.layers.TextVectorization(\n",
    "            max_tokens=MAX_TOKENS, name=\"artist_tv\", ngrams=2)\n",
    "        \n",
    "        self.album_vectorizor = tf.keras.layers.TextVectorization(\n",
    "            max_tokens=MAX_TOKENS, name=\"album_tv\", ngrams=2)\n",
    "        \n",
    "        self.description_vectorizor = tf.keras.layers.TextVectorization(\n",
    "            max_tokens=MAX_TOKENS, name=\"album_tv\", ngrams=2)\n",
    "        \n",
    "        self.query_embedding = tf.keras.Sequential([\n",
    "            self.album_vectorizor,\n",
    "            tf.keras.layers.Embedding(MAX_TOKENS+1, EMBEDDING_DIM , mask_zero=True, name=\"album_emb\"),\n",
    "            tf.keras.layers.GlobalAveragePooling1D()\n",
    "        ], name=\"album_embedding_model\")\n",
    "        \n",
    "        self.artist_embedding = tf.keras.Sequential([\n",
    "            self.artist_vectorizor,\n",
    "            tf.keras.layers.Embedding(MAX_TOKENS+1, EMBEDDING_DIM , mask_zero=True, name=\"artist_emb\"),\n",
    "            tf.keras.layers.GlobalAveragePooling1D()\n",
    "        ], name=\"artist_embedding\")\n",
    "        \n",
    "        ###############\n",
    "        ### adapt stuff\n",
    "        ###############\n",
    "        \n",
    "        self.artist_vectorizor.adapt(adapt_data.map(lambda x: x['artist_name']))\n",
    "        self.album_vectorizor.adapt(adapt_data.map(lambda x: x['album_name'])) \n",
    "        \n",
    "        # Then construct the layers.\n",
    "        self.dense_layers = tf.keras.Sequential(name=\"dense_layers_query\")\n",
    "        \n",
    "        initializer = tf.keras.initializers.GlorotUniform(seed=SEED)\n",
    "        # Use the ReLU activation for all but the last layer.\n",
    "        for layer_size in layer_sizes[:-1]:\n",
    "            self.dense_layers.add(tf.keras.layers.Dense(layer_size, activation=\"relu\", kernel_initializer=initializer))\n",
    "            if DROPOUT:\n",
    "                self.dense_layers.add(tf.keras.layers.Dropout(DROPOUT_RATE))\n",
    "        # No activation for the last layer\n",
    "        for layer_size in layer_sizes[-1:]:\n",
    "            self.dense_layers.add(tf.keras.layers.Dense(layer_size, kernel_initializer=initializer))\n",
    "        ### ADDING L2 NORM AT THE END\n",
    "        self.dense_layers.add(tf.keras.layers.Lambda(lambda x: tf.nn.l2_normalize(x, 1, epsilon=1e-12, name=\"normalize_dense\")))\n",
    "\n",
    "\n",
    "    def call(self, data):    \n",
    "        all_embs = tf.concat(\n",
    "                [\n",
    "                    self.album_embedding(data['album_name']),\n",
    "                    self.artist_embedding(data['artist_name']),\n",
    "                    self.colab(data['collaborative']),\n",
    "                    self.description_embedding(data['description'])\n",
    "                ], axis=1)\n",
    "        return self.dense_layers(all_embs)"
   ]
  },
  {
   "cell_type": "markdown",
   "id": "9821506a-054e-4ad2-8530-bde59fb5e5d6",
   "metadata": {},
   "source": [
    "## Use the example output to think of how you process your features"
   ]
  },
  {
   "cell_type": "markdown",
   "id": "6f83a334-4008-44a8-84f6-f2ef827200db",
   "metadata": {},
   "source": [
    "```\n",
    "OrderedDict([('album_name', <tf.Tensor: shape=(1,), dtype=string, numpy=array([b'The Helm'], dtype=object)>), ('artist_name', <tf.Tensor: shape=(1,), dtype=string, numpy=array([b'Carrot Green'], dtype=object)>), ('collaborative', <tf.Tensor: shape=(1,), dtype=string, numpy=array([b'false'], dtype=object)>), ('description', <tf.Tensor: shape=(1,), dtype=string, numpy=array([b''], dtype=object)>), ('duration_ms', <tf.Tensor: shape=(1,), dtype=string, numpy=array([b'358500'], dtype=object)>), ('modified_at', <tf.Tensor: shape=(1,), dtype=int64, numpy=array([1505692800])>), ('name', <tf.Tensor: shape=(1,), dtype=string, numpy=array([b'FeSTa'], dtype=object)>), ('num_albums', <tf.Tensor: shape=(1,), dtype=int64, numpy=array([82])>), ('num_artists', <tf.Tensor: shape=(1,), dtype=int64, numpy=array([66])>), ('num_edits', <tf.Tensor: shape=(1,), dtype=int64, numpy=array([48])>), ('num_followers', <tf.Tensor: shape=(1,), dtype=int64, numpy=array([1])>), ('num_tracks', <tf.Tensor: shape=(1,), dtype=int64, numpy=array([85])>), ('pos', <tf.Tensor: shape=(1,), dtype=string, numpy=array([b'45'], dtype=object)>), ('track_name', <tf.Tensor: shape=(1,), dtype=string, numpy=array([b'The Helm - Carrot Green Remix'], dtype=object)>)])\n",
    "```"
   ]
  },
  {
   "cell_type": "code",
   "execution_count": 14,
   "id": "6a663c63-58be-43bf-a573-e986cce3e9a3",
   "metadata": {},
   "outputs": [],
   "source": [
    "#### Tests"
   ]
  }
 ],
 "metadata": {
  "environment": {
   "kernel": "python3",
   "name": "tf2-gpu.2-8.m91",
   "type": "gcloud",
   "uri": "gcr.io/deeplearning-platform-release/tf2-gpu.2-8:m91"
  },
  "kernelspec": {
   "display_name": "Python 3",
   "language": "python",
   "name": "python3"
  },
  "language_info": {
   "codemirror_mode": {
    "name": "ipython",
    "version": 3
   },
   "file_extension": ".py",
   "mimetype": "text/x-python",
   "name": "python",
   "nbconvert_exporter": "python",
   "pygments_lexer": "ipython3",
   "version": "3.7.12"
  }
 },
 "nbformat": 4,
 "nbformat_minor": 5
}
