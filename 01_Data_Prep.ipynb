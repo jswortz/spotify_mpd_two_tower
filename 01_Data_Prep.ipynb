{
 "cells": [
  {
   "cell_type": "markdown",
   "id": "0141e1bc-9a0a-42d4-a5fc-a2b3cf6bd967",
   "metadata": {},
   "source": [
    "## Data Prep and Loading\n",
    "0. Download the audo features from the `00_Audio_API_Extract.ipynb`\n",
    "1. Load playlists from zip\n",
    "2. Create `playlists_track_string` where tracks are a string to be parsed by tfrecords\n",
    "3. Join the audio data"
   ]
  },
  {
   "cell_type": "code",
   "execution_count": null,
   "id": "2f160cd0-afdd-4925-9847-608b5a662efb",
   "metadata": {},
   "outputs": [],
   "source": [
    "# !gsutil cp gs://matching-engine-content/spotify-million-playlist/spotify_million_playlist_dataset.zip .\n",
    "# !unzip spotify_million_playlist_dataset.zip"
   ]
  },
  {
   "cell_type": "code",
   "execution_count": null,
   "id": "b2042f76-7740-4286-9eb8-c36c0f14d760",
   "metadata": {},
   "outputs": [],
   "source": [
    "# import os\n",
    "# import json\n",
    "\n",
    "# data_files = os.listdir('data')\n",
    "# # PROJECT_ID = 'jtotten-project'\n",
    "# bq_dataset = 'mdp_eda'\n",
    "\n",
    "# for filename in data_files:\n",
    "#   with open(f'data/{filename}') as f:\n",
    "#     print(f)\n",
    "#     json_dict = json.load(f)\n",
    "#     df = pd.DataFrame(json_dict['playlists'])\n",
    "#     df.to_gbq(\n",
    "#     destination_table=f'{bq_dataset}.playlists', \n",
    "#     project_id=f'{PROJECT_ID}', # TODO: param\n",
    "#     location='us-central1', \n",
    "#     progress_bar=True, \n",
    "#     reauth=True, \n",
    "#     if_exists='append'\n",
    "#     ) "
   ]
  },
  {
   "cell_type": "code",
   "execution_count": 2,
   "id": "1a5dd5af-5a97-460b-bf2c-2364825d80f2",
   "metadata": {},
   "outputs": [
    {
     "name": "stderr",
     "output_type": "stream",
     "text": [
      "Query complete after 0.01s: 100%|██████████| 3/3 [00:00<00:00, 1462.28query/s]                        \n"
     ]
    },
    {
     "data": {
      "text/html": [
       "<div>\n",
       "<style scoped>\n",
       "    .dataframe tbody tr th:only-of-type {\n",
       "        vertical-align: middle;\n",
       "    }\n",
       "\n",
       "    .dataframe tbody tr th {\n",
       "        vertical-align: top;\n",
       "    }\n",
       "\n",
       "    .dataframe thead th {\n",
       "        text-align: right;\n",
       "    }\n",
       "</style>\n",
       "<table border=\"1\" class=\"dataframe\">\n",
       "  <thead>\n",
       "    <tr style=\"text-align: right;\">\n",
       "      <th></th>\n",
       "    </tr>\n",
       "  </thead>\n",
       "  <tbody>\n",
       "  </tbody>\n",
       "</table>\n",
       "</div>"
      ],
      "text/plain": [
       "Empty DataFrame\n",
       "Columns: []\n",
       "Index: []"
      ]
     },
     "execution_count": 2,
     "metadata": {},
     "output_type": "execute_result"
    }
   ],
   "source": [
    "%%bigquery\n",
    "create or replace table jtotten-project.spotify_mpd.playlists_track_string as \n",
    "(\n",
    "SELECT * FROM `jtotten-project.mdp_eda.playlists`)"
   ]
  },
  {
   "cell_type": "markdown",
   "id": "1425e3b1-f92a-4d93-9b6d-d04bbbe29af1",
   "metadata": {},
   "source": [
    "## Need a cross-join with songs in playlist for training tuple\n",
    "\n",
    "`playlist_train` is the cross - joined - done (need to find code)\n",
    "\n",
    "next, join tracks to `track_audio`\n",
    "\n",
    "finally, join the `tracks` string field from above `spotify_mpd.playlists_track_string`"
   ]
  },
  {
   "cell_type": "code",
   "execution_count": null,
   "id": "a9e0c73c-4b68-4738-8b43-d5f9a2c2ffca",
   "metadata": {},
   "outputs": [],
   "source": [
    "%%bigquery\n",
    "create or replace table jtotten-project.spotify_mpd.playlists as (\n",
    "with json_parsed as (SELECT *, JSON_EXTRACT_ARRAY(tracks) as json_data FROM `jtotten-project.mdp_eda.playlists` )\n",
    "\n",
    "select json_parsed.* except(tracks, duration_ms, json_data),\n",
    "JSON_EXTRACT(jsn_line, \"$.pos\") as pos, \n",
    "JSON_EXTRACT(jsn_line, \"$.artist_name\") as artist_name,\n",
    "JSON_EXTRACT(jsn_line, \"$.track_uri\") as track_uri,\n",
    "JSON_EXTRACT(jsn_line, \"$.artist_uri\") as artist_uri,\n",
    "JSON_EXTRACT(jsn_line, \"$.track_name\") as track_name,\n",
    "JSON_EXTRACT(jsn_line, \"$.album_uri\") as album_uri,\n",
    "JSON_EXTRACT(jsn_line, \"$.duration_ms\") as duration_ms,\n",
    "JSON_EXTRACT(jsn_line, \"$.album_name\") as album_name,\n",
    "\n",
    "from json_parsed CROSS JOIN UNNEST(json_parsed.json_data) as jsn_line\n",
    ")"
   ]
  },
  {
   "cell_type": "markdown",
   "id": "846272fd-08e2-4683-b8d2-3eae832eba8d",
   "metadata": {},
   "source": [
    "### Join Audio Data (see Audio Api Extraction)"
   ]
  },
  {
   "cell_type": "code",
   "execution_count": 7,
   "id": "8349e185-06c4-4835-b6e6-ed23a443966a",
   "metadata": {},
   "outputs": [
    {
     "name": "stderr",
     "output_type": "stream",
     "text": [
      "Query complete after 0.00s: 100%|██████████| 4/4 [00:00<00:00, 4059.33query/s]                        \n"
     ]
    },
    {
     "data": {
      "text/html": [
       "<div>\n",
       "<style scoped>\n",
       "    .dataframe tbody tr th:only-of-type {\n",
       "        vertical-align: middle;\n",
       "    }\n",
       "\n",
       "    .dataframe tbody tr th {\n",
       "        vertical-align: top;\n",
       "    }\n",
       "\n",
       "    .dataframe thead th {\n",
       "        text-align: right;\n",
       "    }\n",
       "</style>\n",
       "<table border=\"1\" class=\"dataframe\">\n",
       "  <thead>\n",
       "    <tr style=\"text-align: right;\">\n",
       "      <th></th>\n",
       "    </tr>\n",
       "  </thead>\n",
       "  <tbody>\n",
       "  </tbody>\n",
       "</table>\n",
       "</div>"
      ],
      "text/plain": [
       "Empty DataFrame\n",
       "Columns: []\n",
       "Index: []"
      ]
     },
     "execution_count": 7,
     "metadata": {},
     "output_type": "execute_result"
    }
   ],
   "source": [
    "%%bigquery\n",
    "create or replace table `jtotten-project.spotify_mpd.audio_stage` as (\n",
    "    SELECT \n",
    "    a.pid,\n",
    "    b.* \n",
    "FROM `jtotten-project.spotify_mpd.playlists` a\n",
    "inner join `jtotten-project.spotify_mpd.track_audio` b\n",
    "on a.track_uri = b.uri\n",
    ")"
   ]
  },
  {
   "cell_type": "markdown",
   "id": "da7a0ea3-b337-43e5-b895-f563b62a8347",
   "metadata": {},
   "source": [
    "### Incorporate playlist string data along with playlist metadata"
   ]
  },
  {
   "cell_type": "code",
   "execution_count": 8,
   "id": "99d0fe14-df02-48d1-8d0d-f420c258fe4f",
   "metadata": {},
   "outputs": [
    {
     "name": "stderr",
     "output_type": "stream",
     "text": [
      "Query complete after 0.00s: 100%|██████████| 14/14 [00:00<00:00, 10938.94query/s]                      \n"
     ]
    },
    {
     "data": {
      "text/html": [
       "<div>\n",
       "<style scoped>\n",
       "    .dataframe tbody tr th:only-of-type {\n",
       "        vertical-align: middle;\n",
       "    }\n",
       "\n",
       "    .dataframe tbody tr th {\n",
       "        vertical-align: top;\n",
       "    }\n",
       "\n",
       "    .dataframe thead th {\n",
       "        text-align: right;\n",
       "    }\n",
       "</style>\n",
       "<table border=\"1\" class=\"dataframe\">\n",
       "  <thead>\n",
       "    <tr style=\"text-align: right;\">\n",
       "      <th></th>\n",
       "    </tr>\n",
       "  </thead>\n",
       "  <tbody>\n",
       "  </tbody>\n",
       "</table>\n",
       "</div>"
      ],
      "text/plain": [
       "Empty DataFrame\n",
       "Columns: []\n",
       "Index: []"
      ]
     },
     "execution_count": 8,
     "metadata": {},
     "output_type": "execute_result"
    }
   ],
   "source": [
    "%%bigquery\n",
    "create or replace table `jtotten-project.spotify_mpd.spotify_2tdata` as (\n",
    "    SELECT\n",
    "    a.*,\n",
    "    c.tracks, \n",
    "    c.name as pl_name, \n",
    "    c.collaborative, \n",
    "    c.modified_at as modified_at_playlist, \n",
    "    c.num_tracks, \n",
    "    c.num_albums, \n",
    "    c.num_followers, \n",
    "    c.num_edits, \n",
    "    c.num_artists, \n",
    "    c.description\n",
    "FROM `jtotten-project.spotify_mpd.audio_stage` a\n",
    "inner join `jtotten-project.spotify_mpd.playlists_track_string` c\n",
    "on a.pid = c.pid\n",
    ")"
   ]
  },
  {
   "cell_type": "code",
   "execution_count": null,
   "id": "4039bcab-b27d-412e-af7b-663bc1ba8a6d",
   "metadata": {},
   "outputs": [],
   "source": []
  }
 ],
 "metadata": {
  "environment": {
   "kernel": "python3",
   "name": "tf2-gpu.2-8.m91",
   "type": "gcloud",
   "uri": "gcr.io/deeplearning-platform-release/tf2-gpu.2-8:m91"
  },
  "kernelspec": {
   "display_name": "Python 3",
   "language": "python",
   "name": "python3"
  },
  "language_info": {
   "codemirror_mode": {
    "name": "ipython",
    "version": 3
   },
   "file_extension": ".py",
   "mimetype": "text/x-python",
   "name": "python",
   "nbconvert_exporter": "python",
   "pygments_lexer": "ipython3",
   "version": "3.7.12"
  }
 },
 "nbformat": 4,
 "nbformat_minor": 5
}
