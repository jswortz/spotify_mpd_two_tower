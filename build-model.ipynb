{
 "cells": [
  {
   "cell_type": "markdown",
   "id": "2804db33-2adb-4845-a6bb-087f168eb6a5",
   "metadata": {
    "tags": []
   },
   "source": [
    "# Build baseline tfrs model \n",
    "\n",
    "Look inside of `./two_tower_src/` for the source code and model code"
   ]
  },
  {
   "cell_type": "code",
   "execution_count": 1,
   "id": "9289ca69-cd66-4161-88b2-db58e9218b91",
   "metadata": {},
   "outputs": [],
   "source": [
    "PROJECT_ID = 'hybrid-vertex'  # <--- TODO: CHANGE THIS\n",
    "LOCATION = 'us-central1' "
   ]
  },
  {
   "cell_type": "code",
   "execution_count": 2,
   "id": "059c0d02-8de1-446e-9b2c-7366dfff042d",
   "metadata": {},
   "outputs": [],
   "source": [
    "# !pip install tensorflow-recommenders==0.6.0 --user"
   ]
  },
  {
   "cell_type": "code",
   "execution_count": 3,
   "id": "ef3417e6-72a8-48e2-ba9d-8fd207ab6229",
   "metadata": {
    "tags": []
   },
   "outputs": [
    {
     "name": "stderr",
     "output_type": "stream",
     "text": [
      "2022-09-26 00:00:55.675504: I tensorflow/core/platform/cpu_feature_guard.cc:151] This TensorFlow binary is optimized with oneAPI Deep Neural Network Library (oneDNN) to use the following CPU instructions in performance-critical operations:  AVX2 AVX512F FMA\n",
      "To enable them in other operations, rebuild TensorFlow with the appropriate compiler flags.\n",
      "2022-09-26 00:00:56.305055: I tensorflow/core/common_runtime/gpu/gpu_device.cc:1525] Created device /job:localhost/replica:0/task:0/device:GPU:0 with 38238 MB memory:  -> device: 0, name: NVIDIA A100-SXM4-40GB, pci bus id: 0000:00:04.0, compute capability: 8.0\n"
     ]
    }
   ],
   "source": [
    "import json\n",
    "import tensorflow as tf\n",
    "import tensorflow_recommenders as tfrs\n",
    "\n",
    "from google.cloud import storage\n",
    "\n",
    "import numpy as np\n",
    "import pickle as pkl\n",
    "from pprint import pprint\n",
    "\n",
    "from two_tower_src import two_tower as tt"
   ]
  },
  {
   "cell_type": "markdown",
   "id": "5015b9c5-f6f8-46b3-998c-9ceb0ca65962",
   "metadata": {},
   "source": [
    "## Create Dataset for local training and testing"
   ]
  },
  {
   "cell_type": "markdown",
   "id": "984676ac-e3bc-4c34-9875-3113130e418b",
   "metadata": {
    "tags": []
   },
   "source": [
    "### Playlist dataset"
   ]
  },
  {
   "cell_type": "code",
   "execution_count": 4,
   "id": "10c78641-4f19-4033-af80-cd841b4f009b",
   "metadata": {},
   "outputs": [],
   "source": [
    "#get the feature dictionaries from the src module\n",
    "cont_feats = tt.cont_feats\n",
    "seq_feats = tt.seq_feats\n",
    "candidate_features = tt.candidate_features\n",
    "\n",
    "client = storage.Client()\n",
    "# # gs://spotify-beam-v3/v3/candidates/*.tfrecords\n",
    "\n",
    "BUCKET = 'spotify-beam-v3'\n",
    "CANDIDATE_PREFIX = 'v3/train/'\n",
    "\n",
    "valid_files = []\n",
    "for blob in client.list_blobs(f\"{BUCKET}\", prefix=f'{CANDIDATE_PREFIX}', delimiter=\"/\"):\n",
    "    valid_files.append(blob.public_url.replace(\"https://storage.googleapis.com/\", \"gs://\"))\n",
    "    \n",
    "raw_dataset = tf.data.TFRecordDataset(valid_files)\n",
    "\n",
    "BUCKET = 'spotify-beam-v3'\n",
    "CANDIDATE_PREFIX = 'v3/valid/'\n",
    "\n",
    "valid_files = []\n",
    "for blob in client.list_blobs(f\"{BUCKET}\", prefix=f'{CANDIDATE_PREFIX}', delimiter=\"/\"):\n",
    "    valid_files.append(blob.public_url.replace(\"https://storage.googleapis.com/\", \"gs://\"))\n",
    "    \n",
    "raw_dataset_valid = tf.data.TFRecordDataset(valid_files)"
   ]
  },
  {
   "cell_type": "code",
   "execution_count": 5,
   "id": "5023e7e2-b25f-4fa0-94db-af4901925d2f",
   "metadata": {},
   "outputs": [],
   "source": [
    "#parse the features\n",
    "parsed_dataset = raw_dataset.map(tt.parse_tfrecord)\n",
    "parsed_dataset_valid = raw_dataset_valid.map(tt.parse_tfrecord)\n",
    "\n",
    "#pad the ragged tensors to MAX_PLAYLIST_LENTGH\n",
    "parsed_dataset_padded = parsed_dataset.map(tt.return_padded_tensors)   \n",
    "parsed_dataset_padded_valid = parsed_dataset_valid.map(tt.return_padded_tensors)   "
   ]
  },
  {
   "cell_type": "code",
   "execution_count": 6,
   "id": "2b420022-53c8-464e-8306-53b0faccbb20",
   "metadata": {
    "tags": []
   },
   "outputs": [],
   "source": [
    "# for features in parsed_dataset_padded_valid.skip(3).take(1):\n",
    "#     pprint(features)\n",
    "#     print(\"_______________\")"
   ]
  },
  {
   "cell_type": "markdown",
   "id": "7ea17604-e4e9-45fe-9a6d-804b24c72acd",
   "metadata": {},
   "source": [
    "### Candidate Track dataset"
   ]
  },
  {
   "cell_type": "code",
   "execution_count": 7,
   "id": "f78a3917-06e5-4b9b-b6e8-62ce10ea2826",
   "metadata": {
    "tags": []
   },
   "outputs": [
    {
     "name": "stdout",
     "output_type": "stream",
     "text": [
      "{'album_name_can': <tf.Tensor: shape=(), dtype=string, numpy=b'The Sound of Everything Rmx'>,\n",
      " 'album_uri_can': <tf.Tensor: shape=(), dtype=string, numpy=b'spotify:album:4a8tMD6qq6GUuUwNae38VI'>,\n",
      " 'artist_followers_can': <tf.Tensor: shape=(), dtype=float32, numpy=277649.0>,\n",
      " 'artist_genres_can': <tf.Tensor: shape=(), dtype=string, numpy=b\"'downtempo', 'electronica', 'funk', 'latin alternative', 'nu jazz', 'nu-cumbia', 'trip hop', 'world'\">,\n",
      " 'artist_name_can': <tf.Tensor: shape=(), dtype=string, numpy=b'Quantic'>,\n",
      " 'artist_pop_can': <tf.Tensor: shape=(), dtype=float32, numpy=64.0>,\n",
      " 'artist_uri_can': <tf.Tensor: shape=(), dtype=string, numpy=b'spotify:artist:5ZMwoAjeDtLJ0XRwRTgaK8'>,\n",
      " 'duration_ms_can': <tf.Tensor: shape=(), dtype=float32, numpy=267130.0>,\n",
      " 'track_name_can': <tf.Tensor: shape=(), dtype=string, numpy=b'The Sound of Everything - Watch TV & Se\\xc3\\xb1orlobo Remix'>,\n",
      " 'track_pop_can': <tf.Tensor: shape=(), dtype=float32, numpy=53.0>,\n",
      " 'track_uri_can': <tf.Tensor: shape=(), dtype=string, numpy=b'spotify:track:27CDzo2P7Mf3dKoa76tNxb'>}\n",
      "_______________\n"
     ]
    }
   ],
   "source": [
    "for features in tt.parsed_candidate_dataset.take(1):\n",
    "    pprint(features)\n",
    "    print(\"_______________\")"
   ]
  },
  {
   "cell_type": "markdown",
   "id": "52a87c3d-e54f-4e2e-93aa-b2d84c4d619f",
   "metadata": {
    "tags": []
   },
   "source": [
    "# Two-Tower Model Testing and Demonstration"
   ]
  },
  {
   "cell_type": "markdown",
   "id": "b0387f3f-98be-464c-b080-ff08a8b6430e",
   "metadata": {},
   "source": [
    "## Playlist (query) Tower"
   ]
  },
  {
   "cell_type": "markdown",
   "id": "35bdd6e7-9b24-4093-86b0-a98f83b58eca",
   "metadata": {},
   "source": [
    "### Test playlist tower"
   ]
  },
  {
   "cell_type": "code",
   "execution_count": 7,
   "id": "1893e877-873c-4c2b-813e-ea924b096b06",
   "metadata": {},
   "outputs": [],
   "source": [
    "layer_sizes=[64,32]\n",
    "\n",
    "test_playlist_model = tt.Playlist_Model(layer_sizes,tt.vocab_dict_load)\n",
    "\n",
    "# test_playlist_model.pl_name_text_embedding.layers[0].adapt(parsed_dataset_padded.map(lambda x: x['name']).batch(1000))\n",
    "\n",
    "# print(\"Adapts complete for name\")"
   ]
  },
  {
   "cell_type": "markdown",
   "id": "084e66fa-c949-4d66-ba28-b941fd6efcc2",
   "metadata": {
    "tags": []
   },
   "source": [
    "#### Some examples below of how to access an adapted vocabulary and set to a new key in the vocab_dict"
   ]
  },
  {
   "cell_type": "code",
   "execution_count": 8,
   "id": "d020d381-738b-4d7e-80ff-3d56c5bb701b",
   "metadata": {},
   "outputs": [],
   "source": [
    "# test_playlist_model.pl_name_text_embedding.layers[0].get_vocabulary()\n",
    "# vocab_dict_load['name_voacb'] = test_playlist_model.pl_name_text_embedding.layers[0].get_vocabulary()"
   ]
  },
  {
   "cell_type": "code",
   "execution_count": 9,
   "id": "b87363d4-64d9-4cca-9290-b26efdfe9090",
   "metadata": {},
   "outputs": [
    {
     "name": "stdout",
     "output_type": "stream",
     "text": [
      "tf.Tensor(\n",
      "[[-0.24514134 -0.28178468 -0.14416333 -0.4173075  -0.20545025  0.03124828\n",
      "  -0.01103428  0.17916968  0.12727895  0.20036177 -0.0101915  -0.01609189\n",
      "   0.10526141  0.24144886  0.07728486 -0.32014552 -0.0897892  -0.06304988\n",
      "   0.2856185  -0.12049487 -0.22993435  0.15289545  0.08797454 -0.20615126\n",
      "  -0.0870543  -0.19611506 -0.1266518  -0.06482445 -0.12822834 -0.09181462\n",
      "   0.13239121 -0.11096024]\n",
      " [-0.14029537  0.06033436  0.09287861 -0.28724906 -0.09712798  0.5612625\n",
      "   0.20269902  0.06799392 -0.00701721 -0.10050222  0.19178475  0.0269598\n",
      "  -0.04040827  0.10064789 -0.080539   -0.40841147 -0.05291994 -0.25351888\n",
      "   0.12378392  0.08894099 -0.25947258  0.05428258 -0.23103    -0.13233204\n",
      "  -0.0062121  -0.01586104  0.00975485  0.0135821  -0.01611765  0.13543643\n",
      "  -0.1688953   0.05923532]], shape=(2, 32), dtype=float32)\n"
     ]
    },
    {
     "name": "stderr",
     "output_type": "stream",
     "text": [
      "2022-09-25 23:43:54.131216: I tensorflow/stream_executor/cuda/cuda_blas.cc:1786] TensorFloat-32 will be used for the matrix multiplication. This will only be logged once.\n"
     ]
    }
   ],
   "source": [
    "#test with the source batched datset\n",
    "batched_dataset = parsed_dataset_padded.batch(2)\n",
    "for x in batched_dataset.take(1):\n",
    "    print(test_playlist_model(x))"
   ]
  },
  {
   "cell_type": "code",
   "execution_count": 11,
   "id": "b8a93d46-603b-4507-bcf8-86133ff8d375",
   "metadata": {},
   "outputs": [],
   "source": [
    "del test_playlist_model"
   ]
  },
  {
   "cell_type": "code",
   "execution_count": 27,
   "id": "9f0be2a2-af20-47e0-8759-94a48fa6d996",
   "metadata": {
    "collapsed": true,
    "jupyter": {
     "outputs_hidden": true
    },
    "tags": []
   },
   "outputs": [
    {
     "name": "stdout",
     "output_type": "stream",
     "text": [
      "Model: \"playlist__model\"\n",
      "_________________________________________________________________\n",
      " Layer (type)                Output Shape              Param #   \n",
      "=================================================================\n",
      " pl_name_emb_model (Sequenti  (None, 32)               2368928   \n",
      " al)                                                             \n",
      "|¯¯¯¯¯¯¯¯¯¯¯¯¯¯¯¯¯¯¯¯¯¯¯¯¯¯¯¯¯¯¯¯¯¯¯¯¯¯¯¯¯¯¯¯¯¯¯¯¯¯¯¯¯¯¯¯¯¯¯¯¯¯¯|\n",
      "| pl_name_txt_vectorizer (Tex  (None, None)           0         |\n",
      "| tVectorization)                                               |\n",
      "|                                                               |\n",
      "| pl_name_emb_layer (Embeddin  (None, None, 32)       2368928   |\n",
      "| g)                                                            |\n",
      "|                                                               |\n",
      "| pl_name_pooling (GlobalAver  (None, 32)             0         |\n",
      "| agePooling1D)                                                 |\n",
      "¯¯¯¯¯¯¯¯¯¯¯¯¯¯¯¯¯¯¯¯¯¯¯¯¯¯¯¯¯¯¯¯¯¯¯¯¯¯¯¯¯¯¯¯¯¯¯¯¯¯¯¯¯¯¯¯¯¯¯¯¯¯¯¯¯\n",
      " pl_collaborative_emb_model   (10, 32)                 96        \n",
      " (Sequential)                                                    \n",
      "|¯¯¯¯¯¯¯¯¯¯¯¯¯¯¯¯¯¯¯¯¯¯¯¯¯¯¯¯¯¯¯¯¯¯¯¯¯¯¯¯¯¯¯¯¯¯¯¯¯¯¯¯¯¯¯¯¯¯¯¯¯¯¯|\n",
      "| pl_collaborative_lookup (St  (10,)                  0         |\n",
      "| ringLookup)                                                   |\n",
      "|                                                               |\n",
      "| pl_collaborative_emb_layer   (10, 32)               96        |\n",
      "| (Embedding)                                                   |\n",
      "¯¯¯¯¯¯¯¯¯¯¯¯¯¯¯¯¯¯¯¯¯¯¯¯¯¯¯¯¯¯¯¯¯¯¯¯¯¯¯¯¯¯¯¯¯¯¯¯¯¯¯¯¯¯¯¯¯¯¯¯¯¯¯¯¯\n",
      " pl_track_uri_emb_model (Seq  (10, 32)                 72393376  \n",
      " uential)                                                        \n",
      "|¯¯¯¯¯¯¯¯¯¯¯¯¯¯¯¯¯¯¯¯¯¯¯¯¯¯¯¯¯¯¯¯¯¯¯¯¯¯¯¯¯¯¯¯¯¯¯¯¯¯¯¯¯¯¯¯¯¯¯¯¯¯¯|\n",
      "| pl_track_uri_lookup (String  (10,)                  0         |\n",
      "| Lookup)                                                       |\n",
      "|                                                               |\n",
      "| pl_track_uri_layer (Embeddi  (10, 32)               72393376  |\n",
      "| ng)                                                           |\n",
      "¯¯¯¯¯¯¯¯¯¯¯¯¯¯¯¯¯¯¯¯¯¯¯¯¯¯¯¯¯¯¯¯¯¯¯¯¯¯¯¯¯¯¯¯¯¯¯¯¯¯¯¯¯¯¯¯¯¯¯¯¯¯¯¯¯\n",
      " n_songs_pl_emb_model (Seque  (10, 32)                 3232      \n",
      " ntial)                                                          \n",
      "|¯¯¯¯¯¯¯¯¯¯¯¯¯¯¯¯¯¯¯¯¯¯¯¯¯¯¯¯¯¯¯¯¯¯¯¯¯¯¯¯¯¯¯¯¯¯¯¯¯¯¯¯¯¯¯¯¯¯¯¯¯¯¯|\n",
      "| discretization (Discretizat  (10,)                  0         |\n",
      "| ion)                                                          |\n",
      "|                                                               |\n",
      "| n_songs_pl_emb_layer (Embed  (10, 32)               3232      |\n",
      "| ding)                                                         |\n",
      "¯¯¯¯¯¯¯¯¯¯¯¯¯¯¯¯¯¯¯¯¯¯¯¯¯¯¯¯¯¯¯¯¯¯¯¯¯¯¯¯¯¯¯¯¯¯¯¯¯¯¯¯¯¯¯¯¯¯¯¯¯¯¯¯¯\n",
      " n_artists_pl_emb_model (Seq  (10, 32)                 3232      \n",
      " uential)                                                        \n",
      "|¯¯¯¯¯¯¯¯¯¯¯¯¯¯¯¯¯¯¯¯¯¯¯¯¯¯¯¯¯¯¯¯¯¯¯¯¯¯¯¯¯¯¯¯¯¯¯¯¯¯¯¯¯¯¯¯¯¯¯¯¯¯¯|\n",
      "| discretization_1 (Discretiz  (10,)                  0         |\n",
      "| ation)                                                        |\n",
      "|                                                               |\n",
      "| n_artists_pl_emb_layer (Emb  (10, 32)               3232      |\n",
      "| edding)                                                       |\n",
      "¯¯¯¯¯¯¯¯¯¯¯¯¯¯¯¯¯¯¯¯¯¯¯¯¯¯¯¯¯¯¯¯¯¯¯¯¯¯¯¯¯¯¯¯¯¯¯¯¯¯¯¯¯¯¯¯¯¯¯¯¯¯¯¯¯\n",
      " n_albums_pl_emb_model (Sequ  (10, 32)                 3232      \n",
      " ential)                                                         \n",
      "|¯¯¯¯¯¯¯¯¯¯¯¯¯¯¯¯¯¯¯¯¯¯¯¯¯¯¯¯¯¯¯¯¯¯¯¯¯¯¯¯¯¯¯¯¯¯¯¯¯¯¯¯¯¯¯¯¯¯¯¯¯¯¯|\n",
      "| discretization_2 (Discretiz  (10,)                  0         |\n",
      "| ation)                                                        |\n",
      "|                                                               |\n",
      "| n_albums_pl_emb_layer (Embe  (10, 32)               3232      |\n",
      "| dding)                                                        |\n",
      "¯¯¯¯¯¯¯¯¯¯¯¯¯¯¯¯¯¯¯¯¯¯¯¯¯¯¯¯¯¯¯¯¯¯¯¯¯¯¯¯¯¯¯¯¯¯¯¯¯¯¯¯¯¯¯¯¯¯¯¯¯¯¯¯¯\n",
      " artist_name_pl_emb_model (S  (10, 32)                 9206752   \n",
      " equential)                                                      \n",
      "|¯¯¯¯¯¯¯¯¯¯¯¯¯¯¯¯¯¯¯¯¯¯¯¯¯¯¯¯¯¯¯¯¯¯¯¯¯¯¯¯¯¯¯¯¯¯¯¯¯¯¯¯¯¯¯¯¯¯¯¯¯¯¯|\n",
      "| string_lookup_1 (StringLook  (10, 375)              0         |\n",
      "| up)                                                           |\n",
      "|                                                               |\n",
      "| artist_name_pl_emb_layer (E  (10, 375, 32)          9206752   |\n",
      "| mbedding)                                                     |\n",
      "|                                                               |\n",
      "| artist_name_pl_1d (GlobalAv  (10, 32)               0         |\n",
      "| eragePooling1D)                                               |\n",
      "¯¯¯¯¯¯¯¯¯¯¯¯¯¯¯¯¯¯¯¯¯¯¯¯¯¯¯¯¯¯¯¯¯¯¯¯¯¯¯¯¯¯¯¯¯¯¯¯¯¯¯¯¯¯¯¯¯¯¯¯¯¯¯¯¯\n",
      " track_uri_pl_emb_model (Seq  (10, 32)                 72393376  \n",
      " uential)                                                        \n",
      "|¯¯¯¯¯¯¯¯¯¯¯¯¯¯¯¯¯¯¯¯¯¯¯¯¯¯¯¯¯¯¯¯¯¯¯¯¯¯¯¯¯¯¯¯¯¯¯¯¯¯¯¯¯¯¯¯¯¯¯¯¯¯¯|\n",
      "| string_lookup_2 (StringLook  (10, 375)              0         |\n",
      "| up)                                                           |\n",
      "|                                                               |\n",
      "| track_uri_pl_emb_layer (Emb  (10, 375, 32)          72393376  |\n",
      "| edding)                                                       |\n",
      "|                                                               |\n",
      "| track_uri_1d (GlobalAverage  (10, 32)               0         |\n",
      "| Pooling1D)                                                    |\n",
      "¯¯¯¯¯¯¯¯¯¯¯¯¯¯¯¯¯¯¯¯¯¯¯¯¯¯¯¯¯¯¯¯¯¯¯¯¯¯¯¯¯¯¯¯¯¯¯¯¯¯¯¯¯¯¯¯¯¯¯¯¯¯¯¯¯\n",
      " track_name_pl_emb_model (Se  (10, 32)                 47480160  \n",
      " quential)                                                       \n",
      "|¯¯¯¯¯¯¯¯¯¯¯¯¯¯¯¯¯¯¯¯¯¯¯¯¯¯¯¯¯¯¯¯¯¯¯¯¯¯¯¯¯¯¯¯¯¯¯¯¯¯¯¯¯¯¯¯¯¯¯¯¯¯¯|\n",
      "| track_name_pl_lookup (Strin  (10, 375)              0         |\n",
      "| gLookup)                                                      |\n",
      "|                                                               |\n",
      "| track_name_pl_emb_layer (Em  (10, 375, 32)          47480160  |\n",
      "| bedding)                                                      |\n",
      "|                                                               |\n",
      "| track_name_pl_1d (GlobalAve  (10, 32)               0         |\n",
      "| ragePooling1D)                                                |\n",
      "¯¯¯¯¯¯¯¯¯¯¯¯¯¯¯¯¯¯¯¯¯¯¯¯¯¯¯¯¯¯¯¯¯¯¯¯¯¯¯¯¯¯¯¯¯¯¯¯¯¯¯¯¯¯¯¯¯¯¯¯¯¯¯¯¯\n",
      " duration_ms_songs_pl_emb_mo  (10, 32)                 3232      \n",
      " del (Sequential)                                                \n",
      "|¯¯¯¯¯¯¯¯¯¯¯¯¯¯¯¯¯¯¯¯¯¯¯¯¯¯¯¯¯¯¯¯¯¯¯¯¯¯¯¯¯¯¯¯¯¯¯¯¯¯¯¯¯¯¯¯¯¯¯¯¯¯¯|\n",
      "| discretization_3 (Discretiz  (10, 375)              0         |\n",
      "| ation)                                                        |\n",
      "|                                                               |\n",
      "| duration_ms_songs_pl_emb_la  (10, 375, 32)          3232      |\n",
      "| yer (Embedding)                                               |\n",
      "|                                                               |\n",
      "| duration_ms_songs_pl_emb_la  (10, 32)               0         |\n",
      "| yer_pl_1d (GlobalAveragePoo                                   |\n",
      "| ling1D)                                                       |\n",
      "¯¯¯¯¯¯¯¯¯¯¯¯¯¯¯¯¯¯¯¯¯¯¯¯¯¯¯¯¯¯¯¯¯¯¯¯¯¯¯¯¯¯¯¯¯¯¯¯¯¯¯¯¯¯¯¯¯¯¯¯¯¯¯¯¯\n",
      " album_name_pl_emb_model (Se  (10, 32)                 18292032  \n",
      " quential)                                                       \n",
      "|¯¯¯¯¯¯¯¯¯¯¯¯¯¯¯¯¯¯¯¯¯¯¯¯¯¯¯¯¯¯¯¯¯¯¯¯¯¯¯¯¯¯¯¯¯¯¯¯¯¯¯¯¯¯¯¯¯¯¯¯¯¯¯|\n",
      "| album_name_pl_lookup (Strin  (10, 375)              0         |\n",
      "| gLookup)                                                      |\n",
      "|                                                               |\n",
      "| album_name_pl_emb_layer (Em  (10, 375, 32)          18292032  |\n",
      "| bedding)                                                      |\n",
      "|                                                               |\n",
      "| album_name_pl_emb_layer_1d   (10, 32)               0         |\n",
      "| (GlobalAveragePooling1D)                                      |\n",
      "¯¯¯¯¯¯¯¯¯¯¯¯¯¯¯¯¯¯¯¯¯¯¯¯¯¯¯¯¯¯¯¯¯¯¯¯¯¯¯¯¯¯¯¯¯¯¯¯¯¯¯¯¯¯¯¯¯¯¯¯¯¯¯¯¯\n",
      " artist_pop_pl_emb_model (Se  (10, 32)                 352       \n",
      " quential)                                                       \n",
      "|¯¯¯¯¯¯¯¯¯¯¯¯¯¯¯¯¯¯¯¯¯¯¯¯¯¯¯¯¯¯¯¯¯¯¯¯¯¯¯¯¯¯¯¯¯¯¯¯¯¯¯¯¯¯¯¯¯¯¯¯¯¯¯|\n",
      "| discretization_4 (Discretiz  (10, 375)              0         |\n",
      "| ation)                                                        |\n",
      "|                                                               |\n",
      "| artist_pop_pl_emb_layer (Em  (10, 375, 32)          352       |\n",
      "| bedding)                                                      |\n",
      "|                                                               |\n",
      "| artist_pop_1d (GlobalAverag  (10, 32)               0         |\n",
      "| ePooling1D)                                                   |\n",
      "¯¯¯¯¯¯¯¯¯¯¯¯¯¯¯¯¯¯¯¯¯¯¯¯¯¯¯¯¯¯¯¯¯¯¯¯¯¯¯¯¯¯¯¯¯¯¯¯¯¯¯¯¯¯¯¯¯¯¯¯¯¯¯¯¯\n",
      " artists_followers_pl_emb_mo  (10, 32)                 352       \n",
      " del (Sequential)                                                \n",
      "|¯¯¯¯¯¯¯¯¯¯¯¯¯¯¯¯¯¯¯¯¯¯¯¯¯¯¯¯¯¯¯¯¯¯¯¯¯¯¯¯¯¯¯¯¯¯¯¯¯¯¯¯¯¯¯¯¯¯¯¯¯¯¯|\n",
      "| discretization_5 (Discretiz  (10, 375)              0         |\n",
      "| ation)                                                        |\n",
      "|                                                               |\n",
      "| artists_followers_pl_emb_la  (10, 375, 32)          352       |\n",
      "| yer (Embedding)                                               |\n",
      "|                                                               |\n",
      "| artists_followers_pl_1d (Gl  (10, 32)               0         |\n",
      "| obalAveragePooling1D)                                         |\n",
      "¯¯¯¯¯¯¯¯¯¯¯¯¯¯¯¯¯¯¯¯¯¯¯¯¯¯¯¯¯¯¯¯¯¯¯¯¯¯¯¯¯¯¯¯¯¯¯¯¯¯¯¯¯¯¯¯¯¯¯¯¯¯¯¯¯\n",
      " track_pop_pl_emb_model (Seq  (10, 32)                 352       \n",
      " uential)                                                        \n",
      "|¯¯¯¯¯¯¯¯¯¯¯¯¯¯¯¯¯¯¯¯¯¯¯¯¯¯¯¯¯¯¯¯¯¯¯¯¯¯¯¯¯¯¯¯¯¯¯¯¯¯¯¯¯¯¯¯¯¯¯¯¯¯¯|\n",
      "| discretization_6 (Discretiz  (10, 375)              0         |\n",
      "| ation)                                                        |\n",
      "|                                                               |\n",
      "| track_pop_pl_emb_layer (Emb  (10, 375, 32)          352       |\n",
      "| edding)                                                       |\n",
      "|                                                               |\n",
      "| track_pop_pl_1d (GlobalAver  (10, 32)               0         |\n",
      "| agePooling1D)                                                 |\n",
      "¯¯¯¯¯¯¯¯¯¯¯¯¯¯¯¯¯¯¯¯¯¯¯¯¯¯¯¯¯¯¯¯¯¯¯¯¯¯¯¯¯¯¯¯¯¯¯¯¯¯¯¯¯¯¯¯¯¯¯¯¯¯¯¯¯\n",
      " artist_genres_pl_emb_model   (10, 32)                 1260768   \n",
      " (Sequential)                                                    \n",
      "|¯¯¯¯¯¯¯¯¯¯¯¯¯¯¯¯¯¯¯¯¯¯¯¯¯¯¯¯¯¯¯¯¯¯¯¯¯¯¯¯¯¯¯¯¯¯¯¯¯¯¯¯¯¯¯¯¯¯¯¯¯¯¯|\n",
      "| flatten (Flatten)         (10, 375)                 0         |\n",
      "|                                                               |\n",
      "| string_lookup_3 (StringLook  (10, 375)              0         |\n",
      "| up)                                                           |\n",
      "|                                                               |\n",
      "| artist_genres_pl_emb_layer   (10, 375, 32)          1260768   |\n",
      "| (Embedding)                                                   |\n",
      "|                                                               |\n",
      "| artist_genres_pl_1d (Global  (10, 32)               0         |\n",
      "| AveragePooling1D)                                             |\n",
      "¯¯¯¯¯¯¯¯¯¯¯¯¯¯¯¯¯¯¯¯¯¯¯¯¯¯¯¯¯¯¯¯¯¯¯¯¯¯¯¯¯¯¯¯¯¯¯¯¯¯¯¯¯¯¯¯¯¯¯¯¯¯¯¯¯\n",
      " pl_cross_layer (Cross)      multiple                  5280      \n",
      "                                                                 \n",
      " pl_dense_layers (Sequential  (10, 32)                 32864     \n",
      " )                                                               \n",
      "|¯¯¯¯¯¯¯¯¯¯¯¯¯¯¯¯¯¯¯¯¯¯¯¯¯¯¯¯¯¯¯¯¯¯¯¯¯¯¯¯¯¯¯¯¯¯¯¯¯¯¯¯¯¯¯¯¯¯¯¯¯¯¯|\n",
      "| dense (Dense)             (10, 64)                  30784     |\n",
      "|                                                               |\n",
      "| dropout (Dropout)         (10, 64)                  0         |\n",
      "|                                                               |\n",
      "| dense_1 (Dense)           (10, 32)                  2080      |\n",
      "|                                                               |\n",
      "| lambda (Lambda)           (10, 32)                  0         |\n",
      "¯¯¯¯¯¯¯¯¯¯¯¯¯¯¯¯¯¯¯¯¯¯¯¯¯¯¯¯¯¯¯¯¯¯¯¯¯¯¯¯¯¯¯¯¯¯¯¯¯¯¯¯¯¯¯¯¯¯¯¯¯¯¯¯¯\n",
      "=================================================================\n",
      "Total params: 223,447,616\n",
      "Trainable params: 223,447,616\n",
      "Non-trainable params: 0\n",
      "_________________________________________________________________\n"
     ]
    }
   ],
   "source": [
    "test_playlist_model.summary(expand_nested=True)"
   ]
  },
  {
   "cell_type": "markdown",
   "id": "ede145f9-1973-4261-8d98-c2429857b125",
   "metadata": {},
   "source": [
    "## Track (candidate) Tower "
   ]
  },
  {
   "cell_type": "markdown",
   "id": "2545f0aa-ffe7-4f7b-85fd-890aa596aae8",
   "metadata": {},
   "source": [
    "### Candidate model test\n",
    "Note adapts are done on the unique candidate dataset to save time"
   ]
  },
  {
   "cell_type": "code",
   "execution_count": 13,
   "id": "01b52944-7db2-4a41-95ff-602b97f35345",
   "metadata": {},
   "outputs": [],
   "source": [
    "layer_sizes=[64,32]\n",
    "\n",
    "test_can_track_model = tt.Candidate_Track_Model(layer_sizes, tt.vocab_dict_load)\n",
    "\n",
    "#adapts\n",
    "# test_can_track_model.artist_name_can_text_embedding.layers[0].adapt(parsed_candidate_dataset.map(lambda x: x['artist_name_can']).batch(1000))\n",
    "# test_can_track_model.track_name_can_text_embedding.layers[0].adapt(parsed_candidate_dataset.map(lambda x: x['track_name_can']).batch(1000))\n",
    "# test_can_track_model.album_name_can_text_embedding.layers[0].adapt(parsed_candidate_dataset.map(lambda x: x['album_name_can']).batch(1000))\n",
    "# test_can_track_model.artist_genres_can_text_embedding.layers[0].adapt(parsed_candidate_dataset.map(lambda x: x['artist_genres_can']).batch(1000))\n",
    "\n",
    "# can_result = test_can_track_model([candidate_test_instance])\n",
    "\n",
    "# print(f\"Shape of can_result: {can_result.shape}\")\n",
    "# can_result"
   ]
  },
  {
   "cell_type": "markdown",
   "id": "7295b620-60aa-42e5-a46d-fc497e15c5c6",
   "metadata": {},
   "source": [
    "## Validate the output in a small batch "
   ]
  },
  {
   "cell_type": "code",
   "execution_count": 15,
   "id": "02d1c46d-a143-4269-828d-04df1f9d1cc5",
   "metadata": {},
   "outputs": [
    {
     "name": "stdout",
     "output_type": "stream",
     "text": [
      "tf.Tensor(\n",
      "[[-0.11201185 -0.206755   -0.18045759  0.07737618  0.03264336 -0.33545116\n",
      "  -0.1591977   0.19581121 -0.06903844  0.01181059  0.4259455   0.15603209\n",
      "  -0.18393841 -0.16382658 -0.18161613 -0.21947345  0.48698536 -0.02518937\n",
      "   0.12081616 -0.4297281   0.2016943  -0.52300894  0.04528558  0.40296668\n",
      "  -0.42080963  0.01119863  0.11597577  0.05094406  0.05474314  0.18036497\n",
      "   0.07655917 -0.1995453 ]\n",
      " [ 0.08474436 -0.2626423  -0.15325345  0.02726585  0.07601295  0.00363033\n",
      "   0.14329386  0.07862413 -0.00256308  0.21880352  0.32578433 -0.07587124\n",
      "  -0.09890726  0.00391698  0.05119768 -0.20095554 -0.04316837 -0.05883677\n",
      "   0.14658357 -0.17711747 -0.39837694 -0.44184572 -0.26477706  0.19551444\n",
      "  -0.27569064 -0.00155214 -0.30036432  0.03524041 -0.19633287  0.24641578\n",
      "   0.7029978   0.04300903]], shape=(2, 32), dtype=float32)\n"
     ]
    }
   ],
   "source": [
    "#test with the source batched datset and candidate dataset\n",
    "batched_dataset = tt.parsed_candidate_dataset.batch(2)\n",
    "for x in batched_dataset.take(1):\n",
    "    print(test_can_track_model(x))"
   ]
  },
  {
   "cell_type": "code",
   "execution_count": null,
   "id": "13a7e41a-88f2-4fd5-9d14-910f3f611dc1",
   "metadata": {
    "tags": []
   },
   "outputs": [],
   "source": [
    "# test_can_track_model.summary(expand_nested=True)"
   ]
  },
  {
   "cell_type": "markdown",
   "id": "da4634b4-5fc8-4bb2-9257-6ab6d5651359",
   "metadata": {},
   "source": [
    "## Combined Model"
   ]
  },
  {
   "cell_type": "markdown",
   "id": "faa2e448-f833-421f-977d-f52b0db198c2",
   "metadata": {},
   "source": [
    "# Local Training"
   ]
  },
  {
   "cell_type": "code",
   "execution_count": 8,
   "id": "9ec5d0c8-a4ae-451c-9056-fe5d9a8e4964",
   "metadata": {},
   "outputs": [],
   "source": [
    "layer_sizes=[64,32]\n",
    "\n",
    "model = tt.TheTwoTowers(layer_sizes)\n",
    "\n",
    "model.compile(optimizer=tf.keras.optimizers.Adagrad(0.01))"
   ]
  },
  {
   "cell_type": "code",
   "execution_count": 9,
   "id": "11401be6-0f5f-4454-997a-862a58df2a81",
   "metadata": {},
   "outputs": [
    {
     "name": "stdout",
     "output_type": "stream",
     "text": [
      "Playlist (query) Tower:\n",
      "0 pl_name_emb_model\n",
      "1 pl_collaborative_emb_model\n",
      "2 pl_track_uri_emb_model\n",
      "3 n_songs_pl_emb_model\n",
      "4 n_artists_pl_emb_model\n",
      "5 n_albums_pl_emb_model\n",
      "6 artist_name_pl_emb_model\n",
      "7 track_uri_pl_emb_model\n",
      "8 track_name_pl_emb_model\n",
      "9 duration_ms_songs_pl_emb_model\n",
      "10 album_name_pl_emb_model\n",
      "11 artist_pop_pl_emb_model\n",
      "12 artists_followers_pl_emb_model\n",
      "13 track_pop_pl_emb_model\n",
      "14 artist_genres_pl_emb_model\n",
      "15 pl_cross_layer\n",
      "16 pl_dense_layers\n"
     ]
    }
   ],
   "source": [
    "## Quick look at the layers\n",
    "print(\"Playlist (query) Tower:\")\n",
    "\n",
    "for i, l in enumerate(model.query_tower.layers):\n",
    "    print(i, l.name)"
   ]
  },
  {
   "cell_type": "code",
   "execution_count": 10,
   "id": "0d4fb669-7c98-448a-a2bf-1559b0a4d67e",
   "metadata": {},
   "outputs": [
    {
     "name": "stdout",
     "output_type": "stream",
     "text": [
      "Track (candidate) Tower:\n",
      "0 artist_name_can_emb_model\n",
      "1 track_name_can_emb_model\n",
      "2 album_name_can_emb_model\n",
      "3 artist_uri_can_emb_model\n",
      "4 track_uri_can_emb_model\n",
      "5 album_uri_can_emb_model\n",
      "6 normalization\n",
      "7 normalization_1\n",
      "8 normalization_2\n",
      "9 normalization_3\n",
      "10 artist_genres_can_emb_model\n",
      "11 can_cross_layer\n",
      "12 candidate_dense_layers\n"
     ]
    }
   ],
   "source": [
    "print(\"Track (candidate) Tower:\")\n",
    "for i, l in enumerate(model.candidate_tower.layers):\n",
    "    print(i, l.name)"
   ]
  },
  {
   "cell_type": "markdown",
   "id": "425a17df-2e2a-41e5-a0c6-ac2abc2ad135",
   "metadata": {},
   "source": [
    "### Set the shuffle buffer and batch size for train and validate\n",
    "Split occured in BQ via random digit - see BQ notebook for details"
   ]
  },
  {
   "cell_type": "code",
   "execution_count": 64,
   "id": "864281ee-f760-4b20-aacc-0b6f0e0ea5ac",
   "metadata": {},
   "outputs": [],
   "source": [
    "tf.random.set_seed(42)\n",
    "shuffle_train = parsed_dataset_padded.shuffle(10_000, seed=42, reshuffle_each_iteration=False)\n",
    "\n",
    "TRAIN = shuffle_train.batch(2048)\n",
    "VALID = parsed_dataset_padded_valid.batch(2048)"
   ]
  },
  {
   "cell_type": "code",
   "execution_count": 66,
   "id": "5d9f592c-913c-45a9-a9eb-3ae1becefddc",
   "metadata": {},
   "outputs": [
    {
     "name": "stdout",
     "output_type": "stream",
     "text": [
      "   8230/Unknown - 5542s 673ms/step - factorized_top_k/top_1_categorical_accuracy: 0.0000e+00 - factorized_top_k/top_5_categorical_accuracy: 0.0000e+00 - factorized_top_k/top_10_categorical_accuracy: 0.0000e+00 - factorized_top_k/top_50_categorical_accuracy: 0.0000e+00 - factorized_top_k/top_100_categorical_accuracy: 0.0000e+00 - loss: 1990.2237 - regularization_loss: 0.0000e+00 - total_loss: 1990.2237"
     ]
    },
    {
     "name": "stderr",
     "output_type": "stream",
     "text": [
      "IOPub data rate exceeded.\n",
      "The Jupyter server will temporarily stop sending output\n",
      "to the client in order to avoid crashing it.\n",
      "To change this limit, set the config variable\n",
      "`--ServerApp.iopub_data_rate_limit`.\n",
      "\n",
      "Current values:\n",
      "ServerApp.iopub_data_rate_limit=1000000.0 (bytes/sec)\n",
      "ServerApp.rate_limit_window=3.0 (secs)\n",
      "\n"
     ]
    },
    {
     "name": "stdout",
     "output_type": "stream",
     "text": [
      "  10669/Unknown - 7236s 678ms/step - factorized_top_k/top_1_categorical_accuracy: 0.0000e+00 - factorized_top_k/top_5_categorical_accuracy: 0.0000e+00 - factorized_top_k/top_10_categorical_accuracy: 0.0000e+00 - factorized_top_k/top_50_categorical_accuracy: 0.0000e+00 - factorized_top_k/top_100_categorical_accuracy: 0.0000e+00 - loss: 1798.4900 - regularization_loss: 0.0000e+00 - total_loss: 1798.4900"
     ]
    },
    {
     "name": "stderr",
     "output_type": "stream",
     "text": [
      "IOPub data rate exceeded.\n",
      "The Jupyter server will temporarily stop sending output\n",
      "to the client in order to avoid crashing it.\n",
      "To change this limit, set the config variable\n",
      "`--ServerApp.iopub_data_rate_limit`.\n",
      "\n",
      "Current values:\n",
      "ServerApp.iopub_data_rate_limit=1000000.0 (bytes/sec)\n",
      "ServerApp.rate_limit_window=3.0 (secs)\n",
      "\n"
     ]
    },
    {
     "name": "stdout",
     "output_type": "stream",
     "text": [
      "  16400/Unknown - 11026s 672ms/step - factorized_top_k/top_1_categorical_accuracy: 0.0000e+00 - factorized_top_k/top_5_categorical_accuracy: 0.0000e+00 - factorized_top_k/top_10_categorical_accuracy: 0.0000e+00 - factorized_top_k/top_50_categorical_accuracy: 0.0000e+00 - factorized_top_k/top_100_categorical_accuracy: 0.0000e+00 - loss: 1512.1358 - regularization_loss: 0.0000e+00 - total_loss: 1512.1358"
     ]
    },
    {
     "name": "stderr",
     "output_type": "stream",
     "text": [
      "IOPub data rate exceeded.\n",
      "The Jupyter server will temporarily stop sending output\n",
      "to the client in order to avoid crashing it.\n",
      "To change this limit, set the config variable\n",
      "`--ServerApp.iopub_data_rate_limit`.\n",
      "\n",
      "Current values:\n",
      "ServerApp.iopub_data_rate_limit=1000000.0 (bytes/sec)\n",
      "ServerApp.rate_limit_window=3.0 (secs)\n",
      "\n"
     ]
    },
    {
     "name": "stdout",
     "output_type": "stream",
     "text": [
      "  21107/Unknown - 14224s 674ms/step - factorized_top_k/top_1_categorical_accuracy: 0.0000e+00 - factorized_top_k/top_5_categorical_accuracy: 0.0000e+00 - factorized_top_k/top_10_categorical_accuracy: 0.0000e+00 - factorized_top_k/top_50_categorical_accuracy: 0.0000e+00 - factorized_top_k/top_100_categorical_accuracy: 0.0000e+00 - loss: 1361.3310 - regularization_loss: 0.0000e+00 - total_loss: 1361.3310"
     ]
    },
    {
     "ename": "NotFoundError",
     "evalue": "Graph execution error:\n\nDetected at node 'IteratorGetNext' defined at (most recent call last):\n    File \"/opt/conda/lib/python3.7/runpy.py\", line 193, in _run_module_as_main\n      \"__main__\", mod_spec)\n    File \"/opt/conda/lib/python3.7/runpy.py\", line 85, in _run_code\n      exec(code, run_globals)\n    File \"/opt/conda/lib/python3.7/site-packages/ipykernel_launcher.py\", line 17, in <module>\n      app.launch_new_instance()\n    File \"/opt/conda/lib/python3.7/site-packages/traitlets/config/application.py\", line 978, in launch_instance\n      app.start()\n    File \"/opt/conda/lib/python3.7/site-packages/ipykernel/kernelapp.py\", line 712, in start\n      self.io_loop.start()\n    File \"/opt/conda/lib/python3.7/site-packages/tornado/platform/asyncio.py\", line 215, in start\n      self.asyncio_loop.run_forever()\n    File \"/opt/conda/lib/python3.7/asyncio/base_events.py\", line 541, in run_forever\n      self._run_once()\n    File \"/opt/conda/lib/python3.7/asyncio/base_events.py\", line 1786, in _run_once\n      handle._run()\n    File \"/opt/conda/lib/python3.7/asyncio/events.py\", line 88, in _run\n      self._context.run(self._callback, *self._args)\n    File \"/opt/conda/lib/python3.7/site-packages/ipykernel/kernelbase.py\", line 510, in dispatch_queue\n      await self.process_one()\n    File \"/opt/conda/lib/python3.7/site-packages/ipykernel/kernelbase.py\", line 499, in process_one\n      await dispatch(*args)\n    File \"/opt/conda/lib/python3.7/site-packages/ipykernel/kernelbase.py\", line 406, in dispatch_shell\n      await result\n    File \"/opt/conda/lib/python3.7/site-packages/ipykernel/kernelbase.py\", line 730, in execute_request\n      reply_content = await reply_content\n    File \"/opt/conda/lib/python3.7/site-packages/ipykernel/ipkernel.py\", line 387, in do_execute\n      cell_id=cell_id,\n    File \"/opt/conda/lib/python3.7/site-packages/ipykernel/zmqshell.py\", line 528, in run_cell\n      return super().run_cell(*args, **kwargs)\n    File \"/opt/conda/lib/python3.7/site-packages/IPython/core/interactiveshell.py\", line 2975, in run_cell\n      raw_cell, store_history, silent, shell_futures, cell_id\n    File \"/opt/conda/lib/python3.7/site-packages/IPython/core/interactiveshell.py\", line 3029, in _run_cell\n      return runner(coro)\n    File \"/opt/conda/lib/python3.7/site-packages/IPython/core/async_helpers.py\", line 78, in _pseudo_sync_runner\n      coro.send(None)\n    File \"/opt/conda/lib/python3.7/site-packages/IPython/core/interactiveshell.py\", line 3257, in run_cell_async\n      interactivity=interactivity, compiler=compiler, result=result)\n    File \"/opt/conda/lib/python3.7/site-packages/IPython/core/interactiveshell.py\", line 3472, in run_ast_nodes\n      if (await self.run_code(code, result,  async_=asy)):\n    File \"/opt/conda/lib/python3.7/site-packages/IPython/core/interactiveshell.py\", line 3552, in run_code\n      exec(code_obj, self.user_global_ns, self.user_ns)\n    File \"/tmp/ipykernel_28514/124030209.py\", line 1, in <module>\n      get_ipython().run_cell_magic('timeit', '', '\\nNUM_EPOCHS = 1\\nlayer_history = model.fit(\\n    TRAIN,\\n    validation_data=VALID,\\n    # validation_freq=5,\\n    epochs=NUM_EPOCHS,\\n    steps_per_epoch=30,\\n    # callbacks=tensorboard_cb,\\n    # verbose=1\\n)\\n\\nprint(f\"Training for {NUM_EPOCHS} epoch\")\\naccuracy = layer_history.history[\"factorized_top_k/top_100_categorical_accuracy\"][-1]\\nprint(f\"Top 100 categorical accuracy: {accuracy}\")\\n')\n    File \"/opt/conda/lib/python3.7/site-packages/IPython/core/interactiveshell.py\", line 2472, in run_cell_magic\n      result = fn(*args, **kwargs)\n    File \"/opt/conda/lib/python3.7/site-packages/decorator.py\", line 232, in fun\n      return caller(func, *(extras + args), **kw)\n    File \"/opt/conda/lib/python3.7/site-packages/IPython/core/magic.py\", line 187, in <lambda>\n      call = lambda f, *a, **k: f(*a, **k)\n    File \"/opt/conda/lib/python3.7/site-packages/IPython/core/magics/execution.py\", line 1180, in timeit\n      time_number = timer.timeit(number)\n    File \"/opt/conda/lib/python3.7/site-packages/IPython/core/magics/execution.py\", line 169, in timeit\n      timing = self.inner(it, self.timer)\n    File \"<magic-timeit>\", line 7, in inner\n    File \"/opt/conda/lib/python3.7/site-packages/keras/utils/traceback_utils.py\", line 64, in error_handler\n      return fn(*args, **kwargs)\n    File \"/opt/conda/lib/python3.7/site-packages/keras/engine/training.py\", line 1431, in fit\n      _use_cached_eval_dataset=True)\n    File \"/opt/conda/lib/python3.7/site-packages/keras/utils/traceback_utils.py\", line 64, in error_handler\n      return fn(*args, **kwargs)\n    File \"/opt/conda/lib/python3.7/site-packages/keras/engine/training.py\", line 1716, in evaluate\n      tmp_logs = self.test_function(iterator)\n    File \"/opt/conda/lib/python3.7/site-packages/keras/engine/training.py\", line 1525, in test_function\n      return step_function(self, iterator)\n    File \"/opt/conda/lib/python3.7/site-packages/keras/engine/training.py\", line 1513, in step_function\n      data = next(iterator)\nNode: 'IteratorGetNext'\nDetected at node 'IteratorGetNext' defined at (most recent call last):\n    File \"/opt/conda/lib/python3.7/runpy.py\", line 193, in _run_module_as_main\n      \"__main__\", mod_spec)\n    File \"/opt/conda/lib/python3.7/runpy.py\", line 85, in _run_code\n      exec(code, run_globals)\n    File \"/opt/conda/lib/python3.7/site-packages/ipykernel_launcher.py\", line 17, in <module>\n      app.launch_new_instance()\n    File \"/opt/conda/lib/python3.7/site-packages/traitlets/config/application.py\", line 978, in launch_instance\n      app.start()\n    File \"/opt/conda/lib/python3.7/site-packages/ipykernel/kernelapp.py\", line 712, in start\n      self.io_loop.start()\n    File \"/opt/conda/lib/python3.7/site-packages/tornado/platform/asyncio.py\", line 215, in start\n      self.asyncio_loop.run_forever()\n    File \"/opt/conda/lib/python3.7/asyncio/base_events.py\", line 541, in run_forever\n      self._run_once()\n    File \"/opt/conda/lib/python3.7/asyncio/base_events.py\", line 1786, in _run_once\n      handle._run()\n    File \"/opt/conda/lib/python3.7/asyncio/events.py\", line 88, in _run\n      self._context.run(self._callback, *self._args)\n    File \"/opt/conda/lib/python3.7/site-packages/ipykernel/kernelbase.py\", line 510, in dispatch_queue\n      await self.process_one()\n    File \"/opt/conda/lib/python3.7/site-packages/ipykernel/kernelbase.py\", line 499, in process_one\n      await dispatch(*args)\n    File \"/opt/conda/lib/python3.7/site-packages/ipykernel/kernelbase.py\", line 406, in dispatch_shell\n      await result\n    File \"/opt/conda/lib/python3.7/site-packages/ipykernel/kernelbase.py\", line 730, in execute_request\n      reply_content = await reply_content\n    File \"/opt/conda/lib/python3.7/site-packages/ipykernel/ipkernel.py\", line 387, in do_execute\n      cell_id=cell_id,\n    File \"/opt/conda/lib/python3.7/site-packages/ipykernel/zmqshell.py\", line 528, in run_cell\n      return super().run_cell(*args, **kwargs)\n    File \"/opt/conda/lib/python3.7/site-packages/IPython/core/interactiveshell.py\", line 2975, in run_cell\n      raw_cell, store_history, silent, shell_futures, cell_id\n    File \"/opt/conda/lib/python3.7/site-packages/IPython/core/interactiveshell.py\", line 3029, in _run_cell\n      return runner(coro)\n    File \"/opt/conda/lib/python3.7/site-packages/IPython/core/async_helpers.py\", line 78, in _pseudo_sync_runner\n      coro.send(None)\n    File \"/opt/conda/lib/python3.7/site-packages/IPython/core/interactiveshell.py\", line 3257, in run_cell_async\n      interactivity=interactivity, compiler=compiler, result=result)\n    File \"/opt/conda/lib/python3.7/site-packages/IPython/core/interactiveshell.py\", line 3472, in run_ast_nodes\n      if (await self.run_code(code, result,  async_=asy)):\n    File \"/opt/conda/lib/python3.7/site-packages/IPython/core/interactiveshell.py\", line 3552, in run_code\n      exec(code_obj, self.user_global_ns, self.user_ns)\n    File \"/tmp/ipykernel_28514/124030209.py\", line 1, in <module>\n      get_ipython().run_cell_magic('timeit', '', '\\nNUM_EPOCHS = 1\\nlayer_history = model.fit(\\n    TRAIN,\\n    validation_data=VALID,\\n    # validation_freq=5,\\n    epochs=NUM_EPOCHS,\\n    steps_per_epoch=30,\\n    # callbacks=tensorboard_cb,\\n    # verbose=1\\n)\\n\\nprint(f\"Training for {NUM_EPOCHS} epoch\")\\naccuracy = layer_history.history[\"factorized_top_k/top_100_categorical_accuracy\"][-1]\\nprint(f\"Top 100 categorical accuracy: {accuracy}\")\\n')\n    File \"/opt/conda/lib/python3.7/site-packages/IPython/core/interactiveshell.py\", line 2472, in run_cell_magic\n      result = fn(*args, **kwargs)\n    File \"/opt/conda/lib/python3.7/site-packages/decorator.py\", line 232, in fun\n      return caller(func, *(extras + args), **kw)\n    File \"/opt/conda/lib/python3.7/site-packages/IPython/core/magic.py\", line 187, in <lambda>\n      call = lambda f, *a, **k: f(*a, **k)\n    File \"/opt/conda/lib/python3.7/site-packages/IPython/core/magics/execution.py\", line 1180, in timeit\n      time_number = timer.timeit(number)\n    File \"/opt/conda/lib/python3.7/site-packages/IPython/core/magics/execution.py\", line 169, in timeit\n      timing = self.inner(it, self.timer)\n    File \"<magic-timeit>\", line 7, in inner\n    File \"/opt/conda/lib/python3.7/site-packages/keras/utils/traceback_utils.py\", line 64, in error_handler\n      return fn(*args, **kwargs)\n    File \"/opt/conda/lib/python3.7/site-packages/keras/engine/training.py\", line 1431, in fit\n      _use_cached_eval_dataset=True)\n    File \"/opt/conda/lib/python3.7/site-packages/keras/utils/traceback_utils.py\", line 64, in error_handler\n      return fn(*args, **kwargs)\n    File \"/opt/conda/lib/python3.7/site-packages/keras/engine/training.py\", line 1716, in evaluate\n      tmp_logs = self.test_function(iterator)\n    File \"/opt/conda/lib/python3.7/site-packages/keras/engine/training.py\", line 1525, in test_function\n      return step_function(self, iterator)\n    File \"/opt/conda/lib/python3.7/site-packages/keras/engine/training.py\", line 1513, in step_function\n      data = next(iterator)\nNode: 'IteratorGetNext'\n2 root error(s) found.\n  (0) NOT_FOUND:  Error executing an HTTP request: HTTP response code 404 with body '<?xml version='1.0' encoding='UTF-8'?><Error><Code>NoSuchKey</Code><Message>The specified key does not exist.</Message><Details>No such object: spotify-beam-v3/v3/valid/-01793-of-05106.tfrecords</Details></Error>'\n\t when reading gs://spotify-beam-v3/v3/valid/-01793-of-05106.tfrecords\n\t [[{{node IteratorGetNext}}]]\n\t [[candidate__track__model/album_name_can_emb_model/hashing_9/hash/_22]]\n  (1) NOT_FOUND:  Error executing an HTTP request: HTTP response code 404 with body '<?xml version='1.0' encoding='UTF-8'?><Error><Code>NoSuchKey</Code><Message>The specified key does not exist.</Message><Details>No such object: spotify-beam-v3/v3/valid/-01793-of-05106.tfrecords</Details></Error>'\n\t when reading gs://spotify-beam-v3/v3/valid/-01793-of-05106.tfrecords\n\t [[{{node IteratorGetNext}}]]\n0 successful operations.\n0 derived errors ignored. [Op:__inference_test_function_79310]",
     "output_type": "error",
     "traceback": [
      "\u001b[0;31m---------------------------------------------------------------------------\u001b[0m",
      "\u001b[0;31mNotFoundError\u001b[0m                             Traceback (most recent call last)",
      "\u001b[0;32m/tmp/ipykernel_28514/2292725459.py\u001b[0m in \u001b[0;36m<module>\u001b[0;34m\u001b[0m\n\u001b[0;32m----> 1\u001b[0;31m \u001b[0mget_ipython\u001b[0m\u001b[0;34m(\u001b[0m\u001b[0;34m)\u001b[0m\u001b[0;34m.\u001b[0m\u001b[0mrun_cell_magic\u001b[0m\u001b[0;34m(\u001b[0m\u001b[0;34m'timeit'\u001b[0m\u001b[0;34m,\u001b[0m \u001b[0;34m'-n 1 -r 1'\u001b[0m\u001b[0;34m,\u001b[0m \u001b[0;34m'\\n\\nNUM_EPOCHS = 1\\nstart_time = time.time()\\nlayer_history = model.fit(\\n    TRAIN,\\n    validation_data=VALID,\\n    # validation_freq=5,\\n    epochs=NUM_EPOCHS,\\n    # callbacks=tensorboard_cb,\\n    # verbose=0\\n)\\n\\nprint(f\"Training for {NUM_EPOCHS} epoch\")\\naccuracy = layer_history.history[\"factorized_top_k/top_100_categorical_accuracy\"][-1]\\nprint(f\"Top 100 categorical accuracy: {accuracy}\")\\n'\u001b[0m\u001b[0;34m)\u001b[0m\u001b[0;34m\u001b[0m\u001b[0;34m\u001b[0m\u001b[0m\n\u001b[0m",
      "\u001b[0;32m/opt/conda/lib/python3.7/site-packages/IPython/core/interactiveshell.py\u001b[0m in \u001b[0;36mrun_cell_magic\u001b[0;34m(self, magic_name, line, cell)\u001b[0m\n\u001b[1;32m   2470\u001b[0m             \u001b[0;32mwith\u001b[0m \u001b[0mself\u001b[0m\u001b[0;34m.\u001b[0m\u001b[0mbuiltin_trap\u001b[0m\u001b[0;34m:\u001b[0m\u001b[0;34m\u001b[0m\u001b[0;34m\u001b[0m\u001b[0m\n\u001b[1;32m   2471\u001b[0m                 \u001b[0margs\u001b[0m \u001b[0;34m=\u001b[0m \u001b[0;34m(\u001b[0m\u001b[0mmagic_arg_s\u001b[0m\u001b[0;34m,\u001b[0m \u001b[0mcell\u001b[0m\u001b[0;34m)\u001b[0m\u001b[0;34m\u001b[0m\u001b[0;34m\u001b[0m\u001b[0m\n\u001b[0;32m-> 2472\u001b[0;31m                 \u001b[0mresult\u001b[0m \u001b[0;34m=\u001b[0m \u001b[0mfn\u001b[0m\u001b[0;34m(\u001b[0m\u001b[0;34m*\u001b[0m\u001b[0margs\u001b[0m\u001b[0;34m,\u001b[0m \u001b[0;34m**\u001b[0m\u001b[0mkwargs\u001b[0m\u001b[0;34m)\u001b[0m\u001b[0;34m\u001b[0m\u001b[0;34m\u001b[0m\u001b[0m\n\u001b[0m\u001b[1;32m   2473\u001b[0m             \u001b[0;32mreturn\u001b[0m \u001b[0mresult\u001b[0m\u001b[0;34m\u001b[0m\u001b[0;34m\u001b[0m\u001b[0m\n\u001b[1;32m   2474\u001b[0m \u001b[0;34m\u001b[0m\u001b[0m\n",
      "\u001b[0;32m/opt/conda/lib/python3.7/site-packages/decorator.py\u001b[0m in \u001b[0;36mfun\u001b[0;34m(*args, **kw)\u001b[0m\n\u001b[1;32m    230\u001b[0m             \u001b[0;32mif\u001b[0m \u001b[0;32mnot\u001b[0m \u001b[0mkwsyntax\u001b[0m\u001b[0;34m:\u001b[0m\u001b[0;34m\u001b[0m\u001b[0;34m\u001b[0m\u001b[0m\n\u001b[1;32m    231\u001b[0m                 \u001b[0margs\u001b[0m\u001b[0;34m,\u001b[0m \u001b[0mkw\u001b[0m \u001b[0;34m=\u001b[0m \u001b[0mfix\u001b[0m\u001b[0;34m(\u001b[0m\u001b[0margs\u001b[0m\u001b[0;34m,\u001b[0m \u001b[0mkw\u001b[0m\u001b[0;34m,\u001b[0m \u001b[0msig\u001b[0m\u001b[0;34m)\u001b[0m\u001b[0;34m\u001b[0m\u001b[0;34m\u001b[0m\u001b[0m\n\u001b[0;32m--> 232\u001b[0;31m             \u001b[0;32mreturn\u001b[0m \u001b[0mcaller\u001b[0m\u001b[0;34m(\u001b[0m\u001b[0mfunc\u001b[0m\u001b[0;34m,\u001b[0m \u001b[0;34m*\u001b[0m\u001b[0;34m(\u001b[0m\u001b[0mextras\u001b[0m \u001b[0;34m+\u001b[0m \u001b[0margs\u001b[0m\u001b[0;34m)\u001b[0m\u001b[0;34m,\u001b[0m \u001b[0;34m**\u001b[0m\u001b[0mkw\u001b[0m\u001b[0;34m)\u001b[0m\u001b[0;34m\u001b[0m\u001b[0;34m\u001b[0m\u001b[0m\n\u001b[0m\u001b[1;32m    233\u001b[0m     \u001b[0mfun\u001b[0m\u001b[0;34m.\u001b[0m\u001b[0m__name__\u001b[0m \u001b[0;34m=\u001b[0m \u001b[0mfunc\u001b[0m\u001b[0;34m.\u001b[0m\u001b[0m__name__\u001b[0m\u001b[0;34m\u001b[0m\u001b[0;34m\u001b[0m\u001b[0m\n\u001b[1;32m    234\u001b[0m     \u001b[0mfun\u001b[0m\u001b[0;34m.\u001b[0m\u001b[0m__doc__\u001b[0m \u001b[0;34m=\u001b[0m \u001b[0mfunc\u001b[0m\u001b[0;34m.\u001b[0m\u001b[0m__doc__\u001b[0m\u001b[0;34m\u001b[0m\u001b[0;34m\u001b[0m\u001b[0m\n",
      "\u001b[0;32m/opt/conda/lib/python3.7/site-packages/IPython/core/magic.py\u001b[0m in \u001b[0;36m<lambda>\u001b[0;34m(f, *a, **k)\u001b[0m\n\u001b[1;32m    185\u001b[0m     \u001b[0;31m# but it's overkill for just that one bit of state.\u001b[0m\u001b[0;34m\u001b[0m\u001b[0;34m\u001b[0m\u001b[0;34m\u001b[0m\u001b[0m\n\u001b[1;32m    186\u001b[0m     \u001b[0;32mdef\u001b[0m \u001b[0mmagic_deco\u001b[0m\u001b[0;34m(\u001b[0m\u001b[0marg\u001b[0m\u001b[0;34m)\u001b[0m\u001b[0;34m:\u001b[0m\u001b[0;34m\u001b[0m\u001b[0;34m\u001b[0m\u001b[0m\n\u001b[0;32m--> 187\u001b[0;31m         \u001b[0mcall\u001b[0m \u001b[0;34m=\u001b[0m \u001b[0;32mlambda\u001b[0m \u001b[0mf\u001b[0m\u001b[0;34m,\u001b[0m \u001b[0;34m*\u001b[0m\u001b[0ma\u001b[0m\u001b[0;34m,\u001b[0m \u001b[0;34m**\u001b[0m\u001b[0mk\u001b[0m\u001b[0;34m:\u001b[0m \u001b[0mf\u001b[0m\u001b[0;34m(\u001b[0m\u001b[0;34m*\u001b[0m\u001b[0ma\u001b[0m\u001b[0;34m,\u001b[0m \u001b[0;34m**\u001b[0m\u001b[0mk\u001b[0m\u001b[0;34m)\u001b[0m\u001b[0;34m\u001b[0m\u001b[0;34m\u001b[0m\u001b[0m\n\u001b[0m\u001b[1;32m    188\u001b[0m \u001b[0;34m\u001b[0m\u001b[0m\n\u001b[1;32m    189\u001b[0m         \u001b[0;32mif\u001b[0m \u001b[0mcallable\u001b[0m\u001b[0;34m(\u001b[0m\u001b[0marg\u001b[0m\u001b[0;34m)\u001b[0m\u001b[0;34m:\u001b[0m\u001b[0;34m\u001b[0m\u001b[0;34m\u001b[0m\u001b[0m\n",
      "\u001b[0;32m/opt/conda/lib/python3.7/site-packages/IPython/core/magics/execution.py\u001b[0m in \u001b[0;36mtimeit\u001b[0;34m(self, line, cell, local_ns)\u001b[0m\n\u001b[1;32m   1182\u001b[0m                     \u001b[0;32mbreak\u001b[0m\u001b[0;34m\u001b[0m\u001b[0;34m\u001b[0m\u001b[0m\n\u001b[1;32m   1183\u001b[0m \u001b[0;34m\u001b[0m\u001b[0m\n\u001b[0;32m-> 1184\u001b[0;31m         \u001b[0mall_runs\u001b[0m \u001b[0;34m=\u001b[0m \u001b[0mtimer\u001b[0m\u001b[0;34m.\u001b[0m\u001b[0mrepeat\u001b[0m\u001b[0;34m(\u001b[0m\u001b[0mrepeat\u001b[0m\u001b[0;34m,\u001b[0m \u001b[0mnumber\u001b[0m\u001b[0;34m)\u001b[0m\u001b[0;34m\u001b[0m\u001b[0;34m\u001b[0m\u001b[0m\n\u001b[0m\u001b[1;32m   1185\u001b[0m         \u001b[0mbest\u001b[0m \u001b[0;34m=\u001b[0m \u001b[0mmin\u001b[0m\u001b[0;34m(\u001b[0m\u001b[0mall_runs\u001b[0m\u001b[0;34m)\u001b[0m \u001b[0;34m/\u001b[0m \u001b[0mnumber\u001b[0m\u001b[0;34m\u001b[0m\u001b[0;34m\u001b[0m\u001b[0m\n\u001b[1;32m   1186\u001b[0m         \u001b[0mworst\u001b[0m \u001b[0;34m=\u001b[0m \u001b[0mmax\u001b[0m\u001b[0;34m(\u001b[0m\u001b[0mall_runs\u001b[0m\u001b[0;34m)\u001b[0m \u001b[0;34m/\u001b[0m \u001b[0mnumber\u001b[0m\u001b[0;34m\u001b[0m\u001b[0;34m\u001b[0m\u001b[0m\n",
      "\u001b[0;32m/opt/conda/lib/python3.7/timeit.py\u001b[0m in \u001b[0;36mrepeat\u001b[0;34m(self, repeat, number)\u001b[0m\n\u001b[1;32m    203\u001b[0m         \u001b[0mr\u001b[0m \u001b[0;34m=\u001b[0m \u001b[0;34m[\u001b[0m\u001b[0;34m]\u001b[0m\u001b[0;34m\u001b[0m\u001b[0;34m\u001b[0m\u001b[0m\n\u001b[1;32m    204\u001b[0m         \u001b[0;32mfor\u001b[0m \u001b[0mi\u001b[0m \u001b[0;32min\u001b[0m \u001b[0mrange\u001b[0m\u001b[0;34m(\u001b[0m\u001b[0mrepeat\u001b[0m\u001b[0;34m)\u001b[0m\u001b[0;34m:\u001b[0m\u001b[0;34m\u001b[0m\u001b[0;34m\u001b[0m\u001b[0m\n\u001b[0;32m--> 205\u001b[0;31m             \u001b[0mt\u001b[0m \u001b[0;34m=\u001b[0m \u001b[0mself\u001b[0m\u001b[0;34m.\u001b[0m\u001b[0mtimeit\u001b[0m\u001b[0;34m(\u001b[0m\u001b[0mnumber\u001b[0m\u001b[0;34m)\u001b[0m\u001b[0;34m\u001b[0m\u001b[0;34m\u001b[0m\u001b[0m\n\u001b[0m\u001b[1;32m    206\u001b[0m             \u001b[0mr\u001b[0m\u001b[0;34m.\u001b[0m\u001b[0mappend\u001b[0m\u001b[0;34m(\u001b[0m\u001b[0mt\u001b[0m\u001b[0;34m)\u001b[0m\u001b[0;34m\u001b[0m\u001b[0;34m\u001b[0m\u001b[0m\n\u001b[1;32m    207\u001b[0m         \u001b[0;32mreturn\u001b[0m \u001b[0mr\u001b[0m\u001b[0;34m\u001b[0m\u001b[0;34m\u001b[0m\u001b[0m\n",
      "\u001b[0;32m/opt/conda/lib/python3.7/site-packages/IPython/core/magics/execution.py\u001b[0m in \u001b[0;36mtimeit\u001b[0;34m(self, number)\u001b[0m\n\u001b[1;32m    167\u001b[0m         \u001b[0mgc\u001b[0m\u001b[0;34m.\u001b[0m\u001b[0mdisable\u001b[0m\u001b[0;34m(\u001b[0m\u001b[0;34m)\u001b[0m\u001b[0;34m\u001b[0m\u001b[0;34m\u001b[0m\u001b[0m\n\u001b[1;32m    168\u001b[0m         \u001b[0;32mtry\u001b[0m\u001b[0;34m:\u001b[0m\u001b[0;34m\u001b[0m\u001b[0;34m\u001b[0m\u001b[0m\n\u001b[0;32m--> 169\u001b[0;31m             \u001b[0mtiming\u001b[0m \u001b[0;34m=\u001b[0m \u001b[0mself\u001b[0m\u001b[0;34m.\u001b[0m\u001b[0minner\u001b[0m\u001b[0;34m(\u001b[0m\u001b[0mit\u001b[0m\u001b[0;34m,\u001b[0m \u001b[0mself\u001b[0m\u001b[0;34m.\u001b[0m\u001b[0mtimer\u001b[0m\u001b[0;34m)\u001b[0m\u001b[0;34m\u001b[0m\u001b[0;34m\u001b[0m\u001b[0m\n\u001b[0m\u001b[1;32m    170\u001b[0m         \u001b[0;32mfinally\u001b[0m\u001b[0;34m:\u001b[0m\u001b[0;34m\u001b[0m\u001b[0;34m\u001b[0m\u001b[0m\n\u001b[1;32m    171\u001b[0m             \u001b[0;32mif\u001b[0m \u001b[0mgcold\u001b[0m\u001b[0;34m:\u001b[0m\u001b[0;34m\u001b[0m\u001b[0;34m\u001b[0m\u001b[0m\n",
      "\u001b[0;32m<magic-timeit>\u001b[0m in \u001b[0;36minner\u001b[0;34m(_it, _timer)\u001b[0m\n",
      "\u001b[0;32m/opt/conda/lib/python3.7/site-packages/keras/utils/traceback_utils.py\u001b[0m in \u001b[0;36merror_handler\u001b[0;34m(*args, **kwargs)\u001b[0m\n\u001b[1;32m     65\u001b[0m     \u001b[0;32mexcept\u001b[0m \u001b[0mException\u001b[0m \u001b[0;32mas\u001b[0m \u001b[0me\u001b[0m\u001b[0;34m:\u001b[0m  \u001b[0;31m# pylint: disable=broad-except\u001b[0m\u001b[0;34m\u001b[0m\u001b[0;34m\u001b[0m\u001b[0m\n\u001b[1;32m     66\u001b[0m       \u001b[0mfiltered_tb\u001b[0m \u001b[0;34m=\u001b[0m \u001b[0m_process_traceback_frames\u001b[0m\u001b[0;34m(\u001b[0m\u001b[0me\u001b[0m\u001b[0;34m.\u001b[0m\u001b[0m__traceback__\u001b[0m\u001b[0;34m)\u001b[0m\u001b[0;34m\u001b[0m\u001b[0;34m\u001b[0m\u001b[0m\n\u001b[0;32m---> 67\u001b[0;31m       \u001b[0;32mraise\u001b[0m \u001b[0me\u001b[0m\u001b[0;34m.\u001b[0m\u001b[0mwith_traceback\u001b[0m\u001b[0;34m(\u001b[0m\u001b[0mfiltered_tb\u001b[0m\u001b[0;34m)\u001b[0m \u001b[0;32mfrom\u001b[0m \u001b[0;32mNone\u001b[0m\u001b[0;34m\u001b[0m\u001b[0;34m\u001b[0m\u001b[0m\n\u001b[0m\u001b[1;32m     68\u001b[0m     \u001b[0;32mfinally\u001b[0m\u001b[0;34m:\u001b[0m\u001b[0;34m\u001b[0m\u001b[0;34m\u001b[0m\u001b[0m\n\u001b[1;32m     69\u001b[0m       \u001b[0;32mdel\u001b[0m \u001b[0mfiltered_tb\u001b[0m\u001b[0;34m\u001b[0m\u001b[0;34m\u001b[0m\u001b[0m\n",
      "\u001b[0;32m/opt/conda/lib/python3.7/site-packages/tensorflow/python/eager/execute.py\u001b[0m in \u001b[0;36mquick_execute\u001b[0;34m(op_name, num_outputs, inputs, attrs, ctx, name)\u001b[0m\n\u001b[1;32m     53\u001b[0m     \u001b[0mctx\u001b[0m\u001b[0;34m.\u001b[0m\u001b[0mensure_initialized\u001b[0m\u001b[0;34m(\u001b[0m\u001b[0;34m)\u001b[0m\u001b[0;34m\u001b[0m\u001b[0;34m\u001b[0m\u001b[0m\n\u001b[1;32m     54\u001b[0m     tensors = pywrap_tfe.TFE_Py_Execute(ctx._handle, device_name, op_name,\n\u001b[0;32m---> 55\u001b[0;31m                                         inputs, attrs, num_outputs)\n\u001b[0m\u001b[1;32m     56\u001b[0m   \u001b[0;32mexcept\u001b[0m \u001b[0mcore\u001b[0m\u001b[0;34m.\u001b[0m\u001b[0m_NotOkStatusException\u001b[0m \u001b[0;32mas\u001b[0m \u001b[0me\u001b[0m\u001b[0;34m:\u001b[0m\u001b[0;34m\u001b[0m\u001b[0;34m\u001b[0m\u001b[0m\n\u001b[1;32m     57\u001b[0m     \u001b[0;32mif\u001b[0m \u001b[0mname\u001b[0m \u001b[0;32mis\u001b[0m \u001b[0;32mnot\u001b[0m \u001b[0;32mNone\u001b[0m\u001b[0;34m:\u001b[0m\u001b[0;34m\u001b[0m\u001b[0;34m\u001b[0m\u001b[0m\n",
      "\u001b[0;31mNotFoundError\u001b[0m: Graph execution error:\n\nDetected at node 'IteratorGetNext' defined at (most recent call last):\n    File \"/opt/conda/lib/python3.7/runpy.py\", line 193, in _run_module_as_main\n      \"__main__\", mod_spec)\n    File \"/opt/conda/lib/python3.7/runpy.py\", line 85, in _run_code\n      exec(code, run_globals)\n    File \"/opt/conda/lib/python3.7/site-packages/ipykernel_launcher.py\", line 17, in <module>\n      app.launch_new_instance()\n    File \"/opt/conda/lib/python3.7/site-packages/traitlets/config/application.py\", line 978, in launch_instance\n      app.start()\n    File \"/opt/conda/lib/python3.7/site-packages/ipykernel/kernelapp.py\", line 712, in start\n      self.io_loop.start()\n    File \"/opt/conda/lib/python3.7/site-packages/tornado/platform/asyncio.py\", line 215, in start\n      self.asyncio_loop.run_forever()\n    File \"/opt/conda/lib/python3.7/asyncio/base_events.py\", line 541, in run_forever\n      self._run_once()\n    File \"/opt/conda/lib/python3.7/asyncio/base_events.py\", line 1786, in _run_once\n      handle._run()\n    File \"/opt/conda/lib/python3.7/asyncio/events.py\", line 88, in _run\n      self._context.run(self._callback, *self._args)\n    File \"/opt/conda/lib/python3.7/site-packages/ipykernel/kernelbase.py\", line 510, in dispatch_queue\n      await self.process_one()\n    File \"/opt/conda/lib/python3.7/site-packages/ipykernel/kernelbase.py\", line 499, in process_one\n      await dispatch(*args)\n    File \"/opt/conda/lib/python3.7/site-packages/ipykernel/kernelbase.py\", line 406, in dispatch_shell\n      await result\n    File \"/opt/conda/lib/python3.7/site-packages/ipykernel/kernelbase.py\", line 730, in execute_request\n      reply_content = await reply_content\n    File \"/opt/conda/lib/python3.7/site-packages/ipykernel/ipkernel.py\", line 387, in do_execute\n      cell_id=cell_id,\n    File \"/opt/conda/lib/python3.7/site-packages/ipykernel/zmqshell.py\", line 528, in run_cell\n      return super().run_cell(*args, **kwargs)\n    File \"/opt/conda/lib/python3.7/site-packages/IPython/core/interactiveshell.py\", line 2975, in run_cell\n      raw_cell, store_history, silent, shell_futures, cell_id\n    File \"/opt/conda/lib/python3.7/site-packages/IPython/core/interactiveshell.py\", line 3029, in _run_cell\n      return runner(coro)\n    File \"/opt/conda/lib/python3.7/site-packages/IPython/core/async_helpers.py\", line 78, in _pseudo_sync_runner\n      coro.send(None)\n    File \"/opt/conda/lib/python3.7/site-packages/IPython/core/interactiveshell.py\", line 3257, in run_cell_async\n      interactivity=interactivity, compiler=compiler, result=result)\n    File \"/opt/conda/lib/python3.7/site-packages/IPython/core/interactiveshell.py\", line 3472, in run_ast_nodes\n      if (await self.run_code(code, result,  async_=asy)):\n    File \"/opt/conda/lib/python3.7/site-packages/IPython/core/interactiveshell.py\", line 3552, in run_code\n      exec(code_obj, self.user_global_ns, self.user_ns)\n    File \"/tmp/ipykernel_28514/124030209.py\", line 1, in <module>\n      get_ipython().run_cell_magic('timeit', '', '\\nNUM_EPOCHS = 1\\nlayer_history = model.fit(\\n    TRAIN,\\n    validation_data=VALID,\\n    # validation_freq=5,\\n    epochs=NUM_EPOCHS,\\n    steps_per_epoch=30,\\n    # callbacks=tensorboard_cb,\\n    # verbose=1\\n)\\n\\nprint(f\"Training for {NUM_EPOCHS} epoch\")\\naccuracy = layer_history.history[\"factorized_top_k/top_100_categorical_accuracy\"][-1]\\nprint(f\"Top 100 categorical accuracy: {accuracy}\")\\n')\n    File \"/opt/conda/lib/python3.7/site-packages/IPython/core/interactiveshell.py\", line 2472, in run_cell_magic\n      result = fn(*args, **kwargs)\n    File \"/opt/conda/lib/python3.7/site-packages/decorator.py\", line 232, in fun\n      return caller(func, *(extras + args), **kw)\n    File \"/opt/conda/lib/python3.7/site-packages/IPython/core/magic.py\", line 187, in <lambda>\n      call = lambda f, *a, **k: f(*a, **k)\n    File \"/opt/conda/lib/python3.7/site-packages/IPython/core/magics/execution.py\", line 1180, in timeit\n      time_number = timer.timeit(number)\n    File \"/opt/conda/lib/python3.7/site-packages/IPython/core/magics/execution.py\", line 169, in timeit\n      timing = self.inner(it, self.timer)\n    File \"<magic-timeit>\", line 7, in inner\n    File \"/opt/conda/lib/python3.7/site-packages/keras/utils/traceback_utils.py\", line 64, in error_handler\n      return fn(*args, **kwargs)\n    File \"/opt/conda/lib/python3.7/site-packages/keras/engine/training.py\", line 1431, in fit\n      _use_cached_eval_dataset=True)\n    File \"/opt/conda/lib/python3.7/site-packages/keras/utils/traceback_utils.py\", line 64, in error_handler\n      return fn(*args, **kwargs)\n    File \"/opt/conda/lib/python3.7/site-packages/keras/engine/training.py\", line 1716, in evaluate\n      tmp_logs = self.test_function(iterator)\n    File \"/opt/conda/lib/python3.7/site-packages/keras/engine/training.py\", line 1525, in test_function\n      return step_function(self, iterator)\n    File \"/opt/conda/lib/python3.7/site-packages/keras/engine/training.py\", line 1513, in step_function\n      data = next(iterator)\nNode: 'IteratorGetNext'\nDetected at node 'IteratorGetNext' defined at (most recent call last):\n    File \"/opt/conda/lib/python3.7/runpy.py\", line 193, in _run_module_as_main\n      \"__main__\", mod_spec)\n    File \"/opt/conda/lib/python3.7/runpy.py\", line 85, in _run_code\n      exec(code, run_globals)\n    File \"/opt/conda/lib/python3.7/site-packages/ipykernel_launcher.py\", line 17, in <module>\n      app.launch_new_instance()\n    File \"/opt/conda/lib/python3.7/site-packages/traitlets/config/application.py\", line 978, in launch_instance\n      app.start()\n    File \"/opt/conda/lib/python3.7/site-packages/ipykernel/kernelapp.py\", line 712, in start\n      self.io_loop.start()\n    File \"/opt/conda/lib/python3.7/site-packages/tornado/platform/asyncio.py\", line 215, in start\n      self.asyncio_loop.run_forever()\n    File \"/opt/conda/lib/python3.7/asyncio/base_events.py\", line 541, in run_forever\n      self._run_once()\n    File \"/opt/conda/lib/python3.7/asyncio/base_events.py\", line 1786, in _run_once\n      handle._run()\n    File \"/opt/conda/lib/python3.7/asyncio/events.py\", line 88, in _run\n      self._context.run(self._callback, *self._args)\n    File \"/opt/conda/lib/python3.7/site-packages/ipykernel/kernelbase.py\", line 510, in dispatch_queue\n      await self.process_one()\n    File \"/opt/conda/lib/python3.7/site-packages/ipykernel/kernelbase.py\", line 499, in process_one\n      await dispatch(*args)\n    File \"/opt/conda/lib/python3.7/site-packages/ipykernel/kernelbase.py\", line 406, in dispatch_shell\n      await result\n    File \"/opt/conda/lib/python3.7/site-packages/ipykernel/kernelbase.py\", line 730, in execute_request\n      reply_content = await reply_content\n    File \"/opt/conda/lib/python3.7/site-packages/ipykernel/ipkernel.py\", line 387, in do_execute\n      cell_id=cell_id,\n    File \"/opt/conda/lib/python3.7/site-packages/ipykernel/zmqshell.py\", line 528, in run_cell\n      return super().run_cell(*args, **kwargs)\n    File \"/opt/conda/lib/python3.7/site-packages/IPython/core/interactiveshell.py\", line 2975, in run_cell\n      raw_cell, store_history, silent, shell_futures, cell_id\n    File \"/opt/conda/lib/python3.7/site-packages/IPython/core/interactiveshell.py\", line 3029, in _run_cell\n      return runner(coro)\n    File \"/opt/conda/lib/python3.7/site-packages/IPython/core/async_helpers.py\", line 78, in _pseudo_sync_runner\n      coro.send(None)\n    File \"/opt/conda/lib/python3.7/site-packages/IPython/core/interactiveshell.py\", line 3257, in run_cell_async\n      interactivity=interactivity, compiler=compiler, result=result)\n    File \"/opt/conda/lib/python3.7/site-packages/IPython/core/interactiveshell.py\", line 3472, in run_ast_nodes\n      if (await self.run_code(code, result,  async_=asy)):\n    File \"/opt/conda/lib/python3.7/site-packages/IPython/core/interactiveshell.py\", line 3552, in run_code\n      exec(code_obj, self.user_global_ns, self.user_ns)\n    File \"/tmp/ipykernel_28514/124030209.py\", line 1, in <module>\n      get_ipython().run_cell_magic('timeit', '', '\\nNUM_EPOCHS = 1\\nlayer_history = model.fit(\\n    TRAIN,\\n    validation_data=VALID,\\n    # validation_freq=5,\\n    epochs=NUM_EPOCHS,\\n    steps_per_epoch=30,\\n    # callbacks=tensorboard_cb,\\n    # verbose=1\\n)\\n\\nprint(f\"Training for {NUM_EPOCHS} epoch\")\\naccuracy = layer_history.history[\"factorized_top_k/top_100_categorical_accuracy\"][-1]\\nprint(f\"Top 100 categorical accuracy: {accuracy}\")\\n')\n    File \"/opt/conda/lib/python3.7/site-packages/IPython/core/interactiveshell.py\", line 2472, in run_cell_magic\n      result = fn(*args, **kwargs)\n    File \"/opt/conda/lib/python3.7/site-packages/decorator.py\", line 232, in fun\n      return caller(func, *(extras + args), **kw)\n    File \"/opt/conda/lib/python3.7/site-packages/IPython/core/magic.py\", line 187, in <lambda>\n      call = lambda f, *a, **k: f(*a, **k)\n    File \"/opt/conda/lib/python3.7/site-packages/IPython/core/magics/execution.py\", line 1180, in timeit\n      time_number = timer.timeit(number)\n    File \"/opt/conda/lib/python3.7/site-packages/IPython/core/magics/execution.py\", line 169, in timeit\n      timing = self.inner(it, self.timer)\n    File \"<magic-timeit>\", line 7, in inner\n    File \"/opt/conda/lib/python3.7/site-packages/keras/utils/traceback_utils.py\", line 64, in error_handler\n      return fn(*args, **kwargs)\n    File \"/opt/conda/lib/python3.7/site-packages/keras/engine/training.py\", line 1431, in fit\n      _use_cached_eval_dataset=True)\n    File \"/opt/conda/lib/python3.7/site-packages/keras/utils/traceback_utils.py\", line 64, in error_handler\n      return fn(*args, **kwargs)\n    File \"/opt/conda/lib/python3.7/site-packages/keras/engine/training.py\", line 1716, in evaluate\n      tmp_logs = self.test_function(iterator)\n    File \"/opt/conda/lib/python3.7/site-packages/keras/engine/training.py\", line 1525, in test_function\n      return step_function(self, iterator)\n    File \"/opt/conda/lib/python3.7/site-packages/keras/engine/training.py\", line 1513, in step_function\n      data = next(iterator)\nNode: 'IteratorGetNext'\n2 root error(s) found.\n  (0) NOT_FOUND:  Error executing an HTTP request: HTTP response code 404 with body '<?xml version='1.0' encoding='UTF-8'?><Error><Code>NoSuchKey</Code><Message>The specified key does not exist.</Message><Details>No such object: spotify-beam-v3/v3/valid/-01793-of-05106.tfrecords</Details></Error>'\n\t when reading gs://spotify-beam-v3/v3/valid/-01793-of-05106.tfrecords\n\t [[{{node IteratorGetNext}}]]\n\t [[candidate__track__model/album_name_can_emb_model/hashing_9/hash/_22]]\n  (1) NOT_FOUND:  Error executing an HTTP request: HTTP response code 404 with body '<?xml version='1.0' encoding='UTF-8'?><Error><Code>NoSuchKey</Code><Message>The specified key does not exist.</Message><Details>No such object: spotify-beam-v3/v3/valid/-01793-of-05106.tfrecords</Details></Error>'\n\t when reading gs://spotify-beam-v3/v3/valid/-01793-of-05106.tfrecords\n\t [[{{node IteratorGetNext}}]]\n0 successful operations.\n0 derived errors ignored. [Op:__inference_test_function_79310]"
     ]
    }
   ],
   "source": [
    "%%timeit -n 1 -r 1\n",
    "\n",
    "\n",
    "NUM_EPOCHS = 1\n",
    "start_time = time.time()\n",
    "layer_history = model.fit(\n",
    "    TRAIN,\n",
    "    validation_data=VALID,\n",
    "    # validation_freq=5,\n",
    "    epochs=NUM_EPOCHS,\n",
    "    # callbacks=tensorboard_cb,\n",
    "    # verbose=0\n",
    ")\n",
    "\n",
    "print(f\"Training for {NUM_EPOCHS} epoch\")\n",
    "accuracy = layer_history.history[\"factorized_top_k/top_100_categorical_accuracy\"][-1]\n",
    "print(f\"Top 100 categorical accuracy: {accuracy}\")"
   ]
  },
  {
   "cell_type": "markdown",
   "id": "b5084975-849c-4715-bee5-94677551d214",
   "metadata": {},
   "source": [
    "### Testing on finding the optimal batch size"
   ]
  },
  {
   "cell_type": "code",
   "execution_count": 51,
   "id": "9b5d2320-28ac-4292-83fd-503191830179",
   "metadata": {
    "tags": []
   },
   "outputs": [],
   "source": [
    "import time\n",
    "\n",
    "def time_steps(model, train_data, n_steps=10) -> float:\n",
    "    \n",
    "    NUM_EPOCHS = 1\n",
    "    start_time = time.time()\n",
    "    layer_history = model.fit(\n",
    "        train_data,\n",
    "        # validation_data=VALID,\n",
    "        # validation_freq=5,\n",
    "        epochs=NUM_EPOCHS,\n",
    "        steps_per_epoch=n_steps,\n",
    "        # callbacks=tensorboard_cb,\n",
    "        verbose=0\n",
    "    )\n",
    "    return(time.time() - start_time)"
   ]
  },
  {
   "cell_type": "code",
   "execution_count": 52,
   "id": "7e2ad1ec-3feb-4f48-9ea4-b0484d4f38fb",
   "metadata": {},
   "outputs": [],
   "source": [
    "# time a step to find optimal time / record for gpu\n",
    "def get_run_times_by_batch_size(model, batch_size, n_steps=10):\n",
    "    train = shuffle_train.batch(batch_size)\n",
    "    run_times = [time_steps(model, train, n_steps) for _ in range(10)] #do it over 10 times\n",
    "    avg_time = np.average(run_times)\n",
    "    ms_per_record = avg_time/n_steps/batch_size * 1000\n",
    "    return(ms_per_record)"
   ]
  },
  {
   "cell_type": "code",
   "execution_count": 61,
   "id": "47e66182-2611-4ba9-88b7-9d34e70ebe94",
   "metadata": {},
   "outputs": [
    {
     "name": "stdout",
     "output_type": "stream",
     "text": [
      "16 39.10556336243947\n",
      "32 19.96664231022199\n",
      "64 10.527420168121656\n",
      "128 5.5340541526675215\n",
      "256 3.3056994279225664\n",
      "512 1.9949027802795174\n",
      "1024 1.49439366068691\n",
      "2048 1.1579723019773762\n",
      "4096 1.112759350022922\n",
      "8192 1.0598300247996424\n"
     ]
    }
   ],
   "source": [
    "batch_sizes = [16, 32, 64, 128, 256, 512, 1024, 2048, 4096, 8192]\n",
    "\n",
    "run_time_data = {}\n",
    "\n",
    "for b in batch_sizes:\n",
    "    avg_ms_per_rec = get_run_times_by_batch_size(model, b, 3)\n",
    "    run_time_data[b] = avg_ms_per_rec\n",
    "    print(b, avg_ms_per_rec)\n",
    "\n",
    "### Running on a100 40gb\n",
    "# pprint(run_time_data)"
   ]
  },
  {
   "cell_type": "code",
   "execution_count": 62,
   "id": "04a11892-b9d9-4836-ad95-8bb8092579a7",
   "metadata": {},
   "outputs": [
    {
     "name": "stdout",
     "output_type": "stream",
     "text": [
      "16384 0.9729407339667281\n",
      "32768 0.9885529014961016\n"
     ]
    }
   ],
   "source": [
    "batch_sizes = [ 8192*2, 8192*4]\n",
    "\n",
    "# run_time_data = {}\n",
    "\n",
    "for b in batch_sizes:\n",
    "    avg_ms_per_rec = get_run_times_by_batch_size(model, b, 3)\n",
    "    run_time_data[b] = avg_ms_per_rec\n",
    "    print(b, avg_ms_per_rec)\n",
    "\n",
    "### Running on a100 40gb\n",
    "# pprint(run_time_data)"
   ]
  },
  {
   "cell_type": "markdown",
   "id": "fc373045-9632-4139-a0b7-89a8d2007c8e",
   "metadata": {},
   "source": [
    "### End section on finding optional batch size"
   ]
  },
  {
   "cell_type": "markdown",
   "id": "ef86789b-1a89-4944-8075-3c08eae90def",
   "metadata": {},
   "source": [
    "## Loading SavedModels"
   ]
  },
  {
   "cell_type": "code",
   "execution_count": 526,
   "id": "2d344efa-cf6f-42dc-a336-34d6f36c740c",
   "metadata": {},
   "outputs": [],
   "source": [
    "candidate_tower_uri = 'gs://spotify-tfrs-dir/v2/run-20220920-210334/candidate_tower'\n",
    "loaded_candidate_model = tf.saved_model.load(candidate_tower_uri)"
   ]
  },
  {
   "cell_type": "markdown",
   "id": "6412c459-2203-42f3-b2e4-8da74ba01e64",
   "metadata": {},
   "source": [
    "### Candidate Model"
   ]
  },
  {
   "cell_type": "code",
   "execution_count": 527,
   "id": "c50049b0-5c34-49ff-8e94-d8569b0c5bc5",
   "metadata": {},
   "outputs": [
    {
     "name": "stdout",
     "output_type": "stream",
     "text": [
      "['serving_default']\n"
     ]
    }
   ],
   "source": [
    "print(list(loaded_candidate_model.signatures.keys()))"
   ]
  },
  {
   "cell_type": "code",
   "execution_count": 528,
   "id": "3a667320-922d-4120-bdbf-9bec2c84ad43",
   "metadata": {},
   "outputs": [
    {
     "name": "stdout",
     "output_type": "stream",
     "text": [
      "{'output_1': TensorSpec(shape=(None, 32), dtype=tf.float32, name='output_1')}\n"
     ]
    }
   ],
   "source": [
    "infer = loaded_candidate_model.signatures[\"serving_default\"]\n",
    "print(infer.structured_outputs)"
   ]
  },
  {
   "cell_type": "code",
   "execution_count": 530,
   "id": "39c74e86-8f4b-46f5-8309-30861a824975",
   "metadata": {},
   "outputs": [
    {
     "name": "stdout",
     "output_type": "stream",
     "text": [
      "_SignatureMap({'serving_default': <ConcreteFunction signature_wrapper(*, album_name_can, album_uri_can, artist_followers_can, artist_genres_can, artist_name_can, artist_pop_can, artist_uri_can, duration_ms_can, track_name_can, track_pop_can, track_uri_can) at 0x7F1A85BA2C10>})\n"
     ]
    }
   ],
   "source": [
    "loaded_candidate_model.signatures"
   ]
  },
  {
   "cell_type": "code",
   "execution_count": 531,
   "id": "8e58f5f2-4c8a-4d51-8651-1d3956f13825",
   "metadata": {},
   "outputs": [
    {
     "data": {
      "text/plain": [
       "{'output_1': TensorShape([None, 32])}"
      ]
     },
     "execution_count": 531,
     "metadata": {},
     "output_type": "execute_result"
    }
   ],
   "source": [
    "predict2 = loaded_candidate_model.signatures['serving_default']\n",
    "predict2.output_shapes"
   ]
  },
  {
   "cell_type": "code",
   "execution_count": 533,
   "id": "953a9df6-39c6-4399-832e-2b629371f8c5",
   "metadata": {},
   "outputs": [
    {
     "data": {
      "text/plain": [
       "<MapDataset element_spec={'album_name_can': TensorSpec(shape=(), dtype=tf.string, name=None), 'album_uri_can': TensorSpec(shape=(), dtype=tf.string, name=None), 'artist_followers_can': TensorSpec(shape=(), dtype=tf.float32, name=None), 'artist_genres_can': TensorSpec(shape=(), dtype=tf.string, name=None), 'artist_name_can': TensorSpec(shape=(), dtype=tf.string, name=None), 'artist_pop_can': TensorSpec(shape=(), dtype=tf.float32, name=None), 'artist_uri_can': TensorSpec(shape=(), dtype=tf.string, name=None), 'duration_ms_can': TensorSpec(shape=(), dtype=tf.float32, name=None), 'track_name_can': TensorSpec(shape=(), dtype=tf.string, name=None), 'track_pop_can': TensorSpec(shape=(), dtype=tf.float32, name=None), 'track_uri_can': TensorSpec(shape=(), dtype=tf.string, name=None)}>"
      ]
     },
     "execution_count": 533,
     "metadata": {},
     "output_type": "execute_result"
    }
   ],
   "source": [
    "parsed_candidate_dataset"
   ]
  },
  {
   "cell_type": "code",
   "execution_count": 534,
   "id": "2680e5fd-63f4-4b44-8004-6a5020d28120",
   "metadata": {},
   "outputs": [],
   "source": [
    "embs_iter = parsed_candidate_dataset.batch(1).map(\n",
    "    lambda data: predict2(\n",
    "        artist_name_can = data[\"artist_name_can\"],\n",
    "        track_name_can = data['track_name_can'],\n",
    "        album_name_can = data['album_name_can'],\n",
    "        track_uri_can = data['track_uri_can'],\n",
    "        artist_uri_can = data['artist_uri_can'],\n",
    "        album_uri_can = data['album_uri_can'],\n",
    "        duration_ms_can = data['duration_ms_can'],\n",
    "        track_pop_can = data['track_pop_can'],\n",
    "        artist_pop_can = data['artist_pop_can'],\n",
    "        artist_followers_can = data['artist_followers_can'],\n",
    "        artist_genres_can = data['artist_genres_can']\n",
    "    )\n",
    ")\n",
    "\n",
    "embs = []\n",
    "for emb in embs_iter:\n",
    "    embs.append(emb)"
   ]
  },
  {
   "cell_type": "code",
   "execution_count": 540,
   "id": "9094ab59-3c1c-4d7b-8a27-6f4bf1964816",
   "metadata": {
    "tags": []
   },
   "outputs": [
    {
     "name": "stdout",
     "output_type": "stream",
     "text": [
      "Length of embs: 166827\n"
     ]
    },
    {
     "data": {
      "text/plain": [
       "{'output_1': <tf.Tensor: shape=(1, 32), dtype=float32, numpy=\n",
       " array([[ 0.32745814,  0.15835902, -0.62232316, -0.18282643,  0.05425396,\n",
       "          0.08093273, -0.36878368, -0.6777717 , -0.28926852, -0.44578883,\n",
       "          0.03769037,  0.2013096 ,  0.01650199, -0.38547963, -0.2734376 ,\n",
       "          0.16123655,  0.12652676, -0.09455037,  0.3709236 , -0.04336764,\n",
       "         -0.20310198,  0.21418957, -0.44912496, -0.16798183, -0.21492694,\n",
       "          0.04033846,  0.14083184,  0.25597924,  0.20490994,  0.18837534,\n",
       "         -0.15261272,  0.06471566]], dtype=float32)>}"
      ]
     },
     "execution_count": 540,
     "metadata": {},
     "output_type": "execute_result"
    }
   ],
   "source": [
    "print(f\"Length of embs: {len(embs)}\")\n",
    "embs[0]"
   ]
  },
  {
   "cell_type": "code",
   "execution_count": 541,
   "id": "48a0b07d-182b-46f6-af30-649a40930d94",
   "metadata": {},
   "outputs": [
    {
     "name": "stdout",
     "output_type": "stream",
     "text": [
      "Length of cleaned_embs: 166827\n"
     ]
    },
    {
     "data": {
      "text/plain": [
       "array([ 0.32745814,  0.15835902, -0.62232316, -0.18282643,  0.05425396,\n",
       "        0.08093273, -0.36878368, -0.6777717 , -0.28926852, -0.44578883,\n",
       "        0.03769037,  0.2013096 ,  0.01650199, -0.38547963, -0.2734376 ,\n",
       "        0.16123655,  0.12652676, -0.09455037,  0.3709236 , -0.04336764,\n",
       "       -0.20310198,  0.21418957, -0.44912496, -0.16798183, -0.21492694,\n",
       "        0.04033846,  0.14083184,  0.25597924,  0.20490994,  0.18837534,\n",
       "       -0.15261272,  0.06471566], dtype=float32)"
      ]
     },
     "execution_count": 541,
     "metadata": {},
     "output_type": "execute_result"
    }
   ],
   "source": [
    "cleaned_embs = [x['output_1'].numpy()[0] for x in embs] #clean up the output\n",
    "\n",
    "print(f\"Length of cleaned_embs: {len(cleaned_embs)}\")\n",
    "cleaned_embs[0]"
   ]
  },
  {
   "cell_type": "code",
   "execution_count": 553,
   "id": "27178db5-2a2c-4e86-9be2-97b2265ac114",
   "metadata": {},
   "outputs": [
    {
     "data": {
      "text/plain": [
       "b'spotify:track:6KhJeYLg1AimCQjH6ii1Al'"
      ]
     },
     "execution_count": 553,
     "metadata": {},
     "output_type": "execute_result"
    }
   ],
   "source": [
    "# clean product IDs\n",
    "track_uris = [x['track_uri_can'].numpy() for x in parsed_candidate_dataset]\n",
    "track_uris[0]"
   ]
  },
  {
   "cell_type": "code",
   "execution_count": 554,
   "id": "1df48335-27d6-4c6a-969a-2df1412ac466",
   "metadata": {},
   "outputs": [
    {
     "data": {
      "text/plain": [
       "b'spotify:track:6KhJeYLg1AimCQjH6ii1Al'"
      ]
     },
     "execution_count": 554,
     "metadata": {},
     "output_type": "execute_result"
    }
   ],
   "source": [
    "track_uris[0]"
   ]
  },
  {
   "cell_type": "code",
   "execution_count": 557,
   "id": "5b43b165-8992-4e9e-96a3-5753d860d661",
   "metadata": {
    "tags": []
   },
   "outputs": [
    {
     "data": {
      "text/plain": [
       "'spotify:track:6KhJeYLg1AimCQjH6ii1Al'"
      ]
     },
     "execution_count": 557,
     "metadata": {},
     "output_type": "execute_result"
    }
   ],
   "source": [
    "track_uris_cleaned = [str(z).replace(\"b'\",\"\").replace(\"'\",\"\") for z in track_uris]\n",
    "track_uris_cleaned[0]"
   ]
  },
  {
   "cell_type": "code",
   "execution_count": 558,
   "id": "3b6d3cf5-4a4d-4295-a371-d34bc0fef9e3",
   "metadata": {},
   "outputs": [
    {
     "name": "stdout",
     "output_type": "stream",
     "text": [
      "Length of track_uris: 166827\n",
      "Length of track_uris_cleaned: 166827\n"
     ]
    }
   ],
   "source": [
    "print(f\"Length of track_uris: {len(track_uris)}\")\n",
    "print(f\"Length of track_uris_cleaned: {len(track_uris_cleaned)}\")"
   ]
  },
  {
   "cell_type": "markdown",
   "id": "a677bd2b-d8d6-4697-a1b0-62c68749f63d",
   "metadata": {},
   "source": [
    "### Write Index Json File"
   ]
  },
  {
   "cell_type": "code",
   "execution_count": 559,
   "id": "61178306-29e1-4d70-90b9-669e0a7a476a",
   "metadata": {},
   "outputs": [],
   "source": [
    "VERSION = 'local-v1'\n",
    "TIMESTAMP = '092022'\n",
    "\n",
    "embeddings_index_filename = f'candidate_embeddings_{VERSION}_{TIMESTAMP}.json'\n",
    "\n",
    "with open(f'{embeddings_index_filename}', 'w') as f:\n",
    "    for prod, emb in zip(track_uris_cleaned, cleaned_embs):\n",
    "        f.write('{\"id\":\"' + str(prod) + '\",')\n",
    "        f.write('\"embedding\":[' + \",\".join(str(x) for x in list(emb)) + \"]}\")\n",
    "        f.write(\"\\n\")"
   ]
  },
  {
   "cell_type": "code",
   "execution_count": 564,
   "id": "1a772d6a-000b-468a-a7ad-5cacebf31889",
   "metadata": {},
   "outputs": [],
   "source": [
    "# import json\n",
    "\n",
    "# with open('candidate_embeddings_local-v1_092022.json', 'r') as f:\n",
    "#     data = json.load(f)"
   ]
  },
  {
   "cell_type": "markdown",
   "id": "4ee5e34d-8bdf-46af-b39f-63f6d5caa695",
   "metadata": {},
   "source": [
    "### Query Model"
   ]
  },
  {
   "cell_type": "code",
   "execution_count": 565,
   "id": "b3eb27dd-a85f-4970-be5b-2971607afdd6",
   "metadata": {},
   "outputs": [],
   "source": [
    "query_tower_uri = 'gs://spotify-tfrs-dir/v2/run-20220920-210334/query_tower'\n",
    "loaded_query_model = tf.saved_model.load(query_tower_uri)"
   ]
  },
  {
   "cell_type": "code",
   "execution_count": 566,
   "id": "4c85d98c-cb52-48e8-8c72-69d46a1b0c74",
   "metadata": {},
   "outputs": [
    {
     "data": {
      "text/plain": [
       "_SignatureMap({'serving_default': <ConcreteFunction signature_wrapper(*, album_name_can, album_name_pl, album_name_seed_track, album_uri_can, album_uri_seed_track, artist_followers_can, artist_followers_seed_track, artist_genres_can, artist_genres_pl, artist_genres_seed_track, artist_name_can, artist_name_pl, artist_name_seed_track, artist_pop_can, artist_pop_pl, artist_pop_seed_track, artist_uri_can, artist_uri_seed_track, artists_followers_pl, collaborative, description_pl, duration_ms_can, duration_ms_seed_pl, duration_ms_songs_pl, duration_seed_track, n_songs_pl, name, num_albums_pl, num_artists_pl, pid, pos_seed_track, track_name_can, track_name_pl, track_name_seed_track, track_pop_can, track_pop_pl, track_pop_seed_track, track_uri_can, track_uri_pl, track_uri_seed_track) at 0x7F1935582D50>})"
      ]
     },
     "execution_count": 566,
     "metadata": {},
     "output_type": "execute_result"
    }
   ],
   "source": [
    "loaded_query_model.signatures"
   ]
  }
 ],
 "metadata": {
  "environment": {
   "kernel": "python3",
   "name": "tf2-gpu.2-8.m96",
   "type": "gcloud",
   "uri": "gcr.io/deeplearning-platform-release/tf2-gpu.2-8:m96"
  },
  "kernelspec": {
   "display_name": "Python 3",
   "language": "python",
   "name": "python3"
  },
  "language_info": {
   "codemirror_mode": {
    "name": "ipython",
    "version": 3
   },
   "file_extension": ".py",
   "mimetype": "text/x-python",
   "name": "python",
   "nbconvert_exporter": "python",
   "pygments_lexer": "ipython3",
   "version": "3.7.12"
  }
 },
 "nbformat": 4,
 "nbformat_minor": 5
}
