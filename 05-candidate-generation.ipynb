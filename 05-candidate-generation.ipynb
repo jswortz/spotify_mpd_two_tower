{
 "cells": [
  {
   "cell_type": "markdown",
   "id": "23dce37d-64a0-4acd-9601-7ddcf6c25c8f",
   "metadata": {},
   "source": [
    "# Candidate Generation\n",
    "\n",
    "After Two-Tower training, the `candidate_tower` is used to convert all candidate items into embeddings.\n",
    "\n",
    "The embeddings are indexed and deployed to an index endpoint for serving.\n",
    "\n",
    "Steps performed in this notebook:\n",
    "\n",
    "* Load trained candidate tower\n",
    "* Generate candidate track embeddings\n",
    "* Create brute-force (BF) and ANN indexes\n",
    "* Deploy indexes to index endpoints\n",
    "* Test model deployment endpoint (e.g., prediction requests)\n",
    "* Test index deployment endpoint (e.g., recall accuracy between BF and ANN indices)\n",
    "\n",
    "> * Note BF will always be 100% recall but at cost of speed and computational complexity"
   ]
  },
  {
   "cell_type": "markdown",
   "id": "ff350dca-064b-45c2-a0ba-d3cbb7d67284",
   "metadata": {},
   "source": [
    "## Load env config"
   ]
  },
  {
   "cell_type": "code",
   "execution_count": 1,
   "id": "35127644-ba21-44e1-a535-309f3aa733da",
   "metadata": {},
   "outputs": [
    {
     "name": "stdout",
     "output_type": "stream",
     "text": [
      "PREFIX = ndr-v1\n"
     ]
    }
   ],
   "source": [
    "# naming convention for all cloud resources\n",
    "VERSION        = \"v1\"                  # TODO\n",
    "PREFIX         = f'ndr-{VERSION}'      # TODO\n",
    "\n",
    "print(f\"PREFIX = {PREFIX}\")"
   ]
  },
  {
   "cell_type": "code",
   "execution_count": 2,
   "id": "336fdab8-9523-419c-85e5-f52ea8c9eb11",
   "metadata": {},
   "outputs": [
    {
     "name": "stdout",
     "output_type": "stream",
     "text": [
      "\n",
      "PROJECT_ID               = \"hybrid-vertex\"\n",
      "PROJECT_NUM              = \"934903580331\"\n",
      "LOCATION                 = \"us-central1\"\n",
      "\n",
      "REGION                   = \"us-central1\"\n",
      "BQ_LOCATION              = \"US\"\n",
      "VPC_NETWORK_NAME         = \"ucaip-haystack-vpc-network\"\n",
      "\n",
      "VERTEX_SA                = \"934903580331-compute@developer.gserviceaccount.com\"\n",
      "\n",
      "PREFIX                   = \"ndr-v1\"\n",
      "VERSION                  = \"v1\"\n",
      "\n",
      "APP                      = \"sp\"\n",
      "MODEL_TYPE               = \"2tower\"\n",
      "FRAMEWORK                = \"tfrs\"\n",
      "DATA_VERSION             = \"v1\"\n",
      "TRACK_HISTORY            = \"5\"\n",
      "\n",
      "BUCKET_NAME              = \"ndr-v1-hybrid-vertex-bucket\"\n",
      "BUCKET_URI               = \"gs://ndr-v1-hybrid-vertex-bucket\"\n",
      "SOURCE_BUCKET            = \"spotify-million-playlist-dataset\"\n",
      "\n",
      "DATA_GCS_PREFIX          = \"data\"\n",
      "DATA_PATH                = \"gs://ndr-v1-hybrid-vertex-bucket/data\"\n",
      "VOCAB_SUBDIR             = \"vocabs\"\n",
      "VOCAB_FILENAME           = \"vocab_dict.pkl\"\n",
      "\n",
      "CANDIDATE_PREFIX         = \"candidates\"\n",
      "TRAIN_DIR_PREFIX         = \"train\"\n",
      "VALID_DIR_PREFIX         = \"valid\"\n",
      "\n",
      "VPC_NETWORK_FULL         = \"projects/934903580331/global/networks/ucaip-haystack-vpc-network\"\n",
      "\n",
      "BQ_DATASET               = \"spotify_e2e_test\"\n",
      "BQ_TABLE_TRAIN           = \"train_flatten_last_5\"\n",
      "BQ_TABLE_VALID           = \"train_flatten_valid_last_5\"\n",
      "BQ_TABLE_CANDIDATES      = \"candidates\"\n",
      "\n",
      "REPO_SRC                 = \"src\"\n",
      "PIPELINES_SUB_DIR        = \"feature_pipes\"\n",
      "\n",
      "REPOSITORY               = \"ndr-v1-spotify\"\n",
      "IMAGE_NAME               = \"train-v1\"\n",
      "REMOTE_IMAGE_NAME        = \"us-central1-docker.pkg.dev/hybrid-vertex/ndr-v1-spotify/train-v1\"\n",
      "DOCKERNAME               = \"tfrs\"\n",
      "\n",
      "SERVING_IMAGE_URI_CPU    = \"us-docker.pkg.dev/vertex-ai/prediction/tf2-cpu.2-11:latest\"\n",
      "SERVING_IMAGE_URI_GPU    = \"us-docker.pkg.dev/vertex-ai/prediction/tf2-gpu.2-11:latest\"\n",
      "\n"
     ]
    }
   ],
   "source": [
    "# staging GCS\n",
    "GCP_PROJECTS             = !gcloud config get-value project\n",
    "PROJECT_ID               = GCP_PROJECTS[0]\n",
    "\n",
    "# GCS bucket and paths\n",
    "BUCKET_NAME              = f'{PREFIX}-{PROJECT_ID}-bucket'\n",
    "BUCKET_URI               = f'gs://{BUCKET_NAME}'\n",
    "\n",
    "config = !gsutil cat {BUCKET_URI}/config/notebook_env.py\n",
    "print(config.n)\n",
    "exec(config.n)"
   ]
  },
  {
   "cell_type": "markdown",
   "id": "5c5602db-904a-4f38-8463-7120e84a9437",
   "metadata": {},
   "source": [
    "### imports"
   ]
  },
  {
   "cell_type": "code",
   "execution_count": 3,
   "id": "48ef9b81-a1ea-49d1-979f-d8ba3e55adc6",
   "metadata": {},
   "outputs": [],
   "source": [
    "import json\n",
    "import numpy as np\n",
    "import pickle as pkl\n",
    "from pprint import pprint\n",
    "import time\n",
    "\n",
    "import os\n",
    "\n",
    "os.environ['TF_CPP_MIN_LOG_LEVEL'] = '2'\n",
    "\n",
    "# GPU\n",
    "import gc\n",
    "from numba import cuda\n",
    "\n",
    "import tensorflow as tf\n",
    "import tensorflow_recommenders as tfrs\n",
    "import tensorflow_io as tfio\n",
    "\n",
    "from google.cloud import storage\n",
    "from google.cloud.storage.bucket import Bucket\n",
    "from google.cloud.storage.blob import Blob\n",
    "\n",
    "import google.cloud.aiplatform as vertex_ai\n",
    "\n",
    "from src.two_tower_jt import two_tower as tt\n",
    "from src.two_tower_jt import train_utils\n",
    "from src.two_tower_jt import feature_sets\n",
    "\n",
    "import warnings\n",
    "warnings.filterwarnings('ignore')"
   ]
  },
  {
   "cell_type": "code",
   "execution_count": 4,
   "id": "f9e62214-3ee4-47f3-9469-a28965eefaee",
   "metadata": {},
   "outputs": [
    {
     "name": "stdout",
     "output_type": "stream",
     "text": [
      "Num GPUs Available:  2\n"
     ]
    }
   ],
   "source": [
    "# gpus = tf.config.experimental.list_physical_devices('GPU')\n",
    "# for gpu in gpus:\n",
    "#     tf.config.experimental.set_memory_growth(gpu, True)\n",
    "    \n",
    "print(\"Num GPUs Available: \", len(tf.config.list_physical_devices('GPU')))"
   ]
  },
  {
   "cell_type": "code",
   "execution_count": 6,
   "id": "5f692228-502d-4a6b-97c7-a83aa8b20649",
   "metadata": {},
   "outputs": [
    {
     "data": {
      "text/plain": [
       "37"
      ]
     },
     "execution_count": 6,
     "metadata": {},
     "output_type": "execute_result"
    }
   ],
   "source": [
    "device = cuda.get_current_device()\n",
    "device.reset()\n",
    "gc.collect()"
   ]
  },
  {
   "cell_type": "markdown",
   "id": "ba3cea8b-fa51-48f8-9757-7b22f5032857",
   "metadata": {},
   "source": [
    "## Trained Candidate model path"
   ]
  },
  {
   "cell_type": "markdown",
   "id": "dc7b39ce-cc89-457e-b4bf-2c68e7929b1b",
   "metadata": {},
   "source": [
    "### Edit these"
   ]
  },
  {
   "cell_type": "code",
   "execution_count": 11,
   "id": "9d57f6ae-14bd-4183-a1df-3a7c56c473ca",
   "metadata": {},
   "outputs": [
    {
     "name": "stdout",
     "output_type": "stream",
     "text": [
      "PATH_TO_ARTIFACT_DIR: tfrs-pipe-v1/run-20230919-173845\n"
     ]
    }
   ],
   "source": [
    "# TODO - grab from saved candiate_embedding.json URI\n",
    "# local-train-v1/run-20230919-135222/candidates/candidate_embeddings.json\n",
    "\n",
    "EXPERIMENT_NAME   = \"tfrs-pipe-v1\"        # TODO\n",
    "RUN_NAME          = \"run-20230919-173845\" # TODO\n",
    "\n",
    "PATH_TO_ARTIFACT_DIR = f'{EXPERIMENT_NAME}/{RUN_NAME}'\n",
    "print(f\"PATH_TO_ARTIFACT_DIR: {PATH_TO_ARTIFACT_DIR}\")"
   ]
  },
  {
   "cell_type": "code",
   "execution_count": 12,
   "id": "6d905d16-b1c5-4d66-add2-dadd541a38fe",
   "metadata": {},
   "outputs": [
    {
     "name": "stdout",
     "output_type": "stream",
     "text": [
      "gs://ndr-v1-hybrid-vertex-bucket/tfrs-pipe-v1/run-20230919-173845/test_instances_5.pkl\n",
      "gs://ndr-v1-hybrid-vertex-bucket/tfrs-pipe-v1/run-20230919-173845/train_job_dict.pkl\n",
      "gs://ndr-v1-hybrid-vertex-bucket/tfrs-pipe-v1/run-20230919-173845/vocab_dict.pkl\n",
      "gs://ndr-v1-hybrid-vertex-bucket/tfrs-pipe-v1/run-20230919-173845/candidate-embeddings-v1/\n",
      "gs://ndr-v1-hybrid-vertex-bucket/tfrs-pipe-v1/run-20230919-173845/checkpoints/\n",
      "gs://ndr-v1-hybrid-vertex-bucket/tfrs-pipe-v1/run-20230919-173845/features/\n",
      "gs://ndr-v1-hybrid-vertex-bucket/tfrs-pipe-v1/run-20230919-173845/logs/\n",
      "gs://ndr-v1-hybrid-vertex-bucket/tfrs-pipe-v1/run-20230919-173845/model-dir/\n",
      "gs://ndr-v1-hybrid-vertex-bucket/tfrs-pipe-v1/run-20230919-173845/pipeline_root/\n"
     ]
    }
   ],
   "source": [
    "! gsutil ls $BUCKET_URI/$EXPERIMENT_NAME/$RUN_NAME"
   ]
  },
  {
   "cell_type": "code",
   "execution_count": 13,
   "id": "485028ff-e7a1-463a-ae3a-9ea72c39ed07",
   "metadata": {},
   "outputs": [
    {
     "name": "stdout",
     "output_type": "stream",
     "text": [
      "CANDIDATE_MODEL_DIR: gs://ndr-v1-hybrid-vertex-bucket/tfrs-pipe-v1/run-20230919-173845/model-dir/candidate_model\n"
     ]
    }
   ],
   "source": [
    "# full gcs path\n",
    "CANDIDATE_MODEL_GCS_PATH = f'{PATH_TO_ARTIFACT_DIR}/model-dir/candidate_model'\n",
    "# CANDIDATE_MODEL_GCS_PATH = f'{PATH_TO_ARTIFACT_DIR}/candidate_model' # tmp - TODO\n",
    "\n",
    "CANDIDATE_MODEL_DIR = f'{BUCKET_URI}/{CANDIDATE_MODEL_GCS_PATH}'\n",
    "print(f\"CANDIDATE_MODEL_DIR: {CANDIDATE_MODEL_DIR}\")"
   ]
  },
  {
   "cell_type": "code",
   "execution_count": 14,
   "id": "4761374c-ec81-4be2-aa38-ba5751609aa5",
   "metadata": {},
   "outputs": [
    {
     "name": "stdout",
     "output_type": "stream",
     "text": [
      "gs://ndr-v1-hybrid-vertex-bucket/tfrs-pipe-v1/run-20230919-173845/model-dir/candidate_model/\n",
      "gs://ndr-v1-hybrid-vertex-bucket/tfrs-pipe-v1/run-20230919-173845/model-dir/candidate_model/fingerprint.pb\n",
      "gs://ndr-v1-hybrid-vertex-bucket/tfrs-pipe-v1/run-20230919-173845/model-dir/candidate_model/saved_model.pb\n",
      "gs://ndr-v1-hybrid-vertex-bucket/tfrs-pipe-v1/run-20230919-173845/model-dir/candidate_model/assets/\n",
      "gs://ndr-v1-hybrid-vertex-bucket/tfrs-pipe-v1/run-20230919-173845/model-dir/candidate_model/variables/\n"
     ]
    }
   ],
   "source": [
    "! gsutil ls $CANDIDATE_MODEL_DIR"
   ]
  },
  {
   "cell_type": "markdown",
   "id": "40dc2140-f27d-4eca-8164-63af2294f56f",
   "metadata": {},
   "source": [
    "### Load Candidate `SavedModel`"
   ]
  },
  {
   "cell_type": "code",
   "execution_count": 15,
   "id": "3886b062-b146-4be1-8884-7621de96e02d",
   "metadata": {},
   "outputs": [
    {
     "data": {
      "text/plain": [
       "_SignatureMap({'serving_default': <ConcreteFunction signature_wrapper(*, track_speechiness_can, track_mode_can, track_energy_can, track_key_can, track_valence_can, album_name_can, album_uri_can, duration_ms_can, artist_name_can, artist_uri_can, track_liveness_can, track_uri_can, track_acousticness_can, artist_pop_can, track_instrumentalness_can, artist_genres_can, track_time_signature_can, track_tempo_can, track_pop_can, track_loudness_can, artist_followers_can, track_danceability_can, track_name_can) at 0x7F158C14CFD0>})"
      ]
     },
     "execution_count": 15,
     "metadata": {},
     "output_type": "execute_result"
    }
   ],
   "source": [
    "candidate_tower_uri = f'{CANDIDATE_MODEL_DIR}' # vertex trained\n",
    "loaded_candidate_model = tf.saved_model.load(candidate_tower_uri)\n",
    "\n",
    "loaded_candidate_model.signatures"
   ]
  },
  {
   "cell_type": "code",
   "execution_count": 16,
   "id": "bef25c58-eb42-4f4b-a4d2-5304d371aa1b",
   "metadata": {},
   "outputs": [
    {
     "name": "stdout",
     "output_type": "stream",
     "text": [
      "['serving_default']\n"
     ]
    }
   ],
   "source": [
    "print(list(loaded_candidate_model.signatures.keys()))"
   ]
  },
  {
   "cell_type": "code",
   "execution_count": 17,
   "id": "a416aead-8da1-4845-bff9-56f5dedf93ad",
   "metadata": {},
   "outputs": [
    {
     "name": "stdout",
     "output_type": "stream",
     "text": [
      "{'output_1': TensorSpec(shape=(None, 128), dtype=tf.float32, name='output_1')}\n"
     ]
    }
   ],
   "source": [
    "candidate_predictor = loaded_candidate_model.signatures[\"serving_default\"]\n",
    "print(candidate_predictor.structured_outputs)"
   ]
  },
  {
   "cell_type": "code",
   "execution_count": 18,
   "id": "e2de03c0-4fea-448e-822e-be686ca53617",
   "metadata": {},
   "outputs": [
    {
     "data": {
      "text/plain": [
       "{'output_1': TensorShape([None, 128])}"
      ]
     },
     "execution_count": 18,
     "metadata": {},
     "output_type": "execute_result"
    }
   ],
   "source": [
    "candidate_predictor.output_shapes"
   ]
  },
  {
   "cell_type": "markdown",
   "id": "33f25833-95b6-48b2-bb4e-0f44870ac6de",
   "metadata": {},
   "source": [
    "## Candidate Dataset"
   ]
  },
  {
   "cell_type": "markdown",
   "id": "9b0f764b-2661-4bf3-8d8a-73e95252b7fc",
   "metadata": {},
   "source": [
    "### helper functions"
   ]
  },
  {
   "cell_type": "code",
   "execution_count": 19,
   "id": "302f2b08-86e4-4519-a267-9b9783142b83",
   "metadata": {},
   "outputs": [],
   "source": [
    "storage_client = storage.Client(project=PROJECT_ID)\n",
    "\n",
    "options = tf.data.Options()\n",
    "options.experimental_distribute.auto_shard_policy = tf.data.experimental.AutoShardPolicy.DATA"
   ]
  },
  {
   "cell_type": "code",
   "execution_count": 20,
   "id": "40a571dd-c26c-4d06-81ca-6eea6713b3bf",
   "metadata": {},
   "outputs": [
    {
     "data": {
      "text/plain": [
       "{'track_uri_can': FixedLenFeature(shape=(), dtype=tf.string, default_value=None),\n",
       " 'track_name_can': FixedLenFeature(shape=(), dtype=tf.string, default_value=None),\n",
       " 'artist_uri_can': FixedLenFeature(shape=(), dtype=tf.string, default_value=None),\n",
       " 'artist_name_can': FixedLenFeature(shape=(), dtype=tf.string, default_value=None),\n",
       " 'album_uri_can': FixedLenFeature(shape=(), dtype=tf.string, default_value=None),\n",
       " 'album_name_can': FixedLenFeature(shape=(), dtype=tf.string, default_value=None),\n",
       " 'duration_ms_can': FixedLenFeature(shape=(), dtype=tf.float32, default_value=None),\n",
       " 'track_pop_can': FixedLenFeature(shape=(), dtype=tf.float32, default_value=None),\n",
       " 'artist_pop_can': FixedLenFeature(shape=(), dtype=tf.float32, default_value=None),\n",
       " 'artist_genres_can': FixedLenFeature(shape=(), dtype=tf.string, default_value=None),\n",
       " 'artist_followers_can': FixedLenFeature(shape=(), dtype=tf.float32, default_value=None),\n",
       " 'track_danceability_can': FixedLenFeature(shape=(), dtype=tf.float32, default_value=None),\n",
       " 'track_energy_can': FixedLenFeature(shape=(), dtype=tf.float32, default_value=None),\n",
       " 'track_key_can': FixedLenFeature(shape=(), dtype=tf.string, default_value=None),\n",
       " 'track_loudness_can': FixedLenFeature(shape=(), dtype=tf.float32, default_value=None),\n",
       " 'track_mode_can': FixedLenFeature(shape=(), dtype=tf.string, default_value=None),\n",
       " 'track_speechiness_can': FixedLenFeature(shape=(), dtype=tf.float32, default_value=None),\n",
       " 'track_acousticness_can': FixedLenFeature(shape=(), dtype=tf.float32, default_value=None),\n",
       " 'track_instrumentalness_can': FixedLenFeature(shape=(), dtype=tf.float32, default_value=None),\n",
       " 'track_liveness_can': FixedLenFeature(shape=(), dtype=tf.float32, default_value=None),\n",
       " 'track_valence_can': FixedLenFeature(shape=(), dtype=tf.float32, default_value=None),\n",
       " 'track_tempo_can': FixedLenFeature(shape=(), dtype=tf.float32, default_value=None),\n",
       " 'track_time_signature_can': FixedLenFeature(shape=(), dtype=tf.string, default_value=None)}"
      ]
     },
     "execution_count": 20,
     "metadata": {},
     "output_type": "execute_result"
    }
   ],
   "source": [
    "candidate_features = feature_sets.get_candidate_features()\n",
    "candidate_features"
   ]
  },
  {
   "cell_type": "markdown",
   "id": "f9122a86-1659-434d-8f88-a46dbdcc1623",
   "metadata": {},
   "source": [
    "### Candidate Records"
   ]
  },
  {
   "cell_type": "code",
   "execution_count": 21,
   "id": "b6fd698b-f06e-40f1-81c8-7b1f266ce297",
   "metadata": {},
   "outputs": [],
   "source": [
    "# CANDIDATE_PREFIX = f'candidates' "
   ]
  },
  {
   "cell_type": "code",
   "execution_count": 22,
   "id": "871fdb33-cdd7-490d-91f0-2fcd33819b43",
   "metadata": {},
   "outputs": [],
   "source": [
    "candidate_files = []\n",
    "\n",
    "for blob in storage_client.list_blobs(f\"{BUCKET_NAME}\", prefix=f'data/{DATA_VERSION}/{CANDIDATE_PREFIX}'):\n",
    "    candidate_files.append(blob.public_url.replace(\"https://storage.googleapis.com/\", \"gs://\"))\n",
    "\n",
    "candidate_dataset = tf.data.Dataset.from_tensor_slices(candidate_files)\n",
    "\n",
    "parsed_candidate_dataset = candidate_dataset.interleave(\n",
    "    # lambda x: tf.data.TFRecordDataset(x),\n",
    "    train_utils.full_parse,\n",
    "    cycle_length=tf.data.AUTOTUNE, \n",
    "    num_parallel_calls=tf.data.AUTOTUNE,\n",
    "    deterministic=False\n",
    ").map(\n",
    "    feature_sets.parse_candidate_tfrecord_fn, \n",
    "    num_parallel_calls=tf.data.AUTOTUNE\n",
    ").with_options(\n",
    "    options\n",
    ")\n",
    "\n",
    "# parsed_candidate_dataset = parsed_candidate_dataset.cache() #400 MB on machine mem"
   ]
  },
  {
   "cell_type": "code",
   "execution_count": 23,
   "id": "4948d822-f53b-4d7b-806a-716f092ea220",
   "metadata": {},
   "outputs": [
    {
     "name": "stdout",
     "output_type": "stream",
     "text": [
      "{'album_name_can': <tf.Tensor: shape=(), dtype=string, numpy=b'Thanatophobia'>,\n",
      " 'album_uri_can': <tf.Tensor: shape=(), dtype=string, numpy=b'spotify:album:5GBUYg5EqeDI0CuszAvDzj'>,\n",
      " 'artist_followers_can': <tf.Tensor: shape=(), dtype=float32, numpy=27438.0>,\n",
      " 'artist_genres_can': <tf.Tensor: shape=(), dtype=string, numpy=b\"'indie garage rock'\">,\n",
      " 'artist_name_can': <tf.Tensor: shape=(), dtype=string, numpy=b'Worn-Tin'>,\n",
      " 'artist_pop_can': <tf.Tensor: shape=(), dtype=float32, numpy=40.0>,\n",
      " 'artist_uri_can': <tf.Tensor: shape=(), dtype=string, numpy=b'spotify:artist:7j8ds7BnqaEKuz1a1GN0J9'>,\n",
      " 'duration_ms_can': <tf.Tensor: shape=(), dtype=float32, numpy=216923.0>,\n",
      " 'track_acousticness_can': <tf.Tensor: shape=(), dtype=float32, numpy=0.655>,\n",
      " 'track_danceability_can': <tf.Tensor: shape=(), dtype=float32, numpy=0.321>,\n",
      " 'track_energy_can': <tf.Tensor: shape=(), dtype=float32, numpy=0.555>,\n",
      " 'track_instrumentalness_can': <tf.Tensor: shape=(), dtype=float32, numpy=0.752>,\n",
      " 'track_key_can': <tf.Tensor: shape=(), dtype=string, numpy=b'4.0'>,\n",
      " 'track_liveness_can': <tf.Tensor: shape=(), dtype=float32, numpy=0.117>,\n",
      " 'track_loudness_can': <tf.Tensor: shape=(), dtype=float32, numpy=-9.589>,\n",
      " 'track_mode_can': <tf.Tensor: shape=(), dtype=string, numpy=b'1'>,\n",
      " 'track_name_can': <tf.Tensor: shape=(), dtype=string, numpy=b'Doug'>,\n",
      " 'track_pop_can': <tf.Tensor: shape=(), dtype=float32, numpy=14.0>,\n",
      " 'track_speechiness_can': <tf.Tensor: shape=(), dtype=float32, numpy=0.0323>,\n",
      " 'track_tempo_can': <tf.Tensor: shape=(), dtype=float32, numpy=129.537>,\n",
      " 'track_time_signature_can': <tf.Tensor: shape=(), dtype=string, numpy=b'4'>,\n",
      " 'track_uri_can': <tf.Tensor: shape=(), dtype=string, numpy=b'spotify:track:2XZ3bL3ROk605SPpy6Dn9C'>,\n",
      " 'track_valence_can': <tf.Tensor: shape=(), dtype=float32, numpy=0.21>}\n",
      "_______________\n"
     ]
    }
   ],
   "source": [
    "for features in parsed_candidate_dataset.take(1):\n",
    "    pprint(features)\n",
    "    print(\"_______________\")"
   ]
  },
  {
   "cell_type": "code",
   "execution_count": 24,
   "id": "699ca0eb-efe5-42fd-9190-a9ce644f06eb",
   "metadata": {},
   "outputs": [
    {
     "data": {
      "text/plain": [
       "<_OptionsDataset element_spec={'album_name_can': TensorSpec(shape=(), dtype=tf.string, name=None), 'album_uri_can': TensorSpec(shape=(), dtype=tf.string, name=None), 'artist_followers_can': TensorSpec(shape=(), dtype=tf.float32, name=None), 'artist_genres_can': TensorSpec(shape=(), dtype=tf.string, name=None), 'artist_name_can': TensorSpec(shape=(), dtype=tf.string, name=None), 'artist_pop_can': TensorSpec(shape=(), dtype=tf.float32, name=None), 'artist_uri_can': TensorSpec(shape=(), dtype=tf.string, name=None), 'duration_ms_can': TensorSpec(shape=(), dtype=tf.float32, name=None), 'track_acousticness_can': TensorSpec(shape=(), dtype=tf.float32, name=None), 'track_danceability_can': TensorSpec(shape=(), dtype=tf.float32, name=None), 'track_energy_can': TensorSpec(shape=(), dtype=tf.float32, name=None), 'track_instrumentalness_can': TensorSpec(shape=(), dtype=tf.float32, name=None), 'track_key_can': TensorSpec(shape=(), dtype=tf.string, name=None), 'track_liveness_can': TensorSpec(shape=(), dtype=tf.float32, name=None), 'track_loudness_can': TensorSpec(shape=(), dtype=tf.float32, name=None), 'track_mode_can': TensorSpec(shape=(), dtype=tf.string, name=None), 'track_name_can': TensorSpec(shape=(), dtype=tf.string, name=None), 'track_pop_can': TensorSpec(shape=(), dtype=tf.float32, name=None), 'track_speechiness_can': TensorSpec(shape=(), dtype=tf.float32, name=None), 'track_tempo_can': TensorSpec(shape=(), dtype=tf.float32, name=None), 'track_time_signature_can': TensorSpec(shape=(), dtype=tf.string, name=None), 'track_uri_can': TensorSpec(shape=(), dtype=tf.string, name=None), 'track_valence_can': TensorSpec(shape=(), dtype=tf.float32, name=None)}>"
      ]
     },
     "execution_count": 24,
     "metadata": {},
     "output_type": "execute_result"
    }
   ],
   "source": [
    "parsed_candidate_dataset"
   ]
  },
  {
   "cell_type": "markdown",
   "id": "f16012fa-f9e0-433f-9b2c-ff0affbb9a15",
   "metadata": {},
   "source": [
    "# Generate Candidate Track Embeddings\n",
    "\n",
    "* use candidate_predictor to produce embeddings for each candidate item\n",
    "* store embeddings in list\n",
    "* zip candidate embeddings and candidate IDs together\n",
    "* write json or csv file for ANN Index"
   ]
  },
  {
   "cell_type": "code",
   "execution_count": 25,
   "id": "328b63a3-ddf5-4c31-9fc5-25137c3270f3",
   "metadata": {},
   "outputs": [],
   "source": [
    "# previously created embedding output\n",
    "# !gsutil cp gs://jt-tfrs-central/pipe-dev-2tower-tfrs-jtv10/run-20221228-210041/candidates/candidate_embeddings.json candidate_embs_20221228_210041.json"
   ]
  },
  {
   "cell_type": "markdown",
   "id": "96c5d1b5-cac0-4261-8974-eed5d576b4fc",
   "metadata": {},
   "source": [
    "### candidate embedding vectors"
   ]
  },
  {
   "cell_type": "code",
   "execution_count": 26,
   "id": "52540283-930f-4d04-b26b-abba3df5184e",
   "metadata": {
    "tags": []
   },
   "outputs": [
    {
     "name": "stdout",
     "output_type": "stream",
     "text": [
      "WARNING:tensorflow:From /home/jupyter/.local/lib/python3.7/site-packages/tensorflow/python/autograph/pyct/static_analysis/liveness.py:83: Analyzer.lamba_check (from tensorflow.python.autograph.pyct.static_analysis.liveness) is deprecated and will be removed after 2023-09-23.\n",
      "Instructions for updating:\n",
      "Lambda fuctions will be no more assumed to be used in the statement where they are used, or at least in the same block. https://github.com/tensorflow/tensorflow/issues/56089\n",
      "elapsed_time: 4\n",
      "Length of embs: 225\n"
     ]
    }
   ],
   "source": [
    "start_time = time.time()\n",
    "\n",
    "embs_iter = parsed_candidate_dataset.batch(10000).map(\n",
    "    lambda data: (\n",
    "        data[\"track_uri_can\"],\n",
    "        loaded_candidate_model(data)\n",
    "    )\n",
    ")\n",
    "\n",
    "embs = []\n",
    "for emb in embs_iter:\n",
    "    embs.append(emb)\n",
    "\n",
    "end_time = time.time()\n",
    "elapsed_time = int((end_time - start_time) / 60)\n",
    "print(f\"elapsed_time: {elapsed_time}\")\n",
    "\n",
    "print(f\"Length of embs: {len(embs)}\")"
   ]
  },
  {
   "cell_type": "markdown",
   "id": "140400e7-8252-4120-8411-8152a88180c0",
   "metadata": {},
   "source": [
    "### clean embedding output..."
   ]
  },
  {
   "cell_type": "code",
   "execution_count": 27,
   "id": "99d25704-b99e-4af1-bb7b-aa41cd2835d7",
   "metadata": {},
   "outputs": [
    {
     "data": {
      "text/plain": [
       "<tf.Tensor: shape=(10000, 128), dtype=float32, numpy=\n",
       "array([[-0.2958832 ,  1.3680464 , -1.0969739 , ..., -0.4091584 ,\n",
       "        -0.29286286,  0.05274126],\n",
       "       [-0.1878705 ,  1.4427985 , -0.43994805, ...,  0.8956098 ,\n",
       "        -0.64344513,  0.2103799 ],\n",
       "       [-0.7545898 , -1.5391797 ,  1.3635055 , ...,  1.0590885 ,\n",
       "        -0.15870447,  0.56919026],\n",
       "       ...,\n",
       "       [ 1.1976322 ,  0.9469893 ,  1.6760215 , ...,  1.0664071 ,\n",
       "        -0.50861025, -1.01303   ],\n",
       "       [-1.3623376 ,  0.17555963, -0.04761489, ...,  0.6235434 ,\n",
       "         0.07053979,  0.2961999 ],\n",
       "       [-1.0530623 ,  0.98027635,  1.1150482 , ...,  0.9307209 ,\n",
       "         0.07073139,  0.06994925]], dtype=float32)>"
      ]
     },
     "execution_count": 27,
     "metadata": {},
     "output_type": "execute_result"
    }
   ],
   "source": [
    "x,y = embs[0]\n",
    "\n",
    "y"
   ]
  },
  {
   "cell_type": "code",
   "execution_count": 28,
   "id": "b6969996-dcb3-4db0-ab51-915b6b985e7c",
   "metadata": {},
   "outputs": [
    {
     "name": "stdout",
     "output_type": "stream",
     "text": [
      "elapsed_time: 0\n"
     ]
    }
   ],
   "source": [
    "start_time = time.time()\n",
    "\n",
    "cleaned_embs = [] #clean up the output\n",
    "track_uris = []\n",
    "for ids , embedding in embs:\n",
    "    cleaned_embs.extend(embedding.numpy())\n",
    "    track_uris.extend(ids.numpy())\n",
    "\n",
    "end_time = time.time()\n",
    "elapsed_time = int((end_time - start_time) / 60)\n",
    "print(f\"elapsed_time: {elapsed_time}\")"
   ]
  },
  {
   "cell_type": "code",
   "execution_count": 29,
   "id": "0dc79e64-aca5-4058-8656-99eb11477854",
   "metadata": {},
   "outputs": [
    {
     "name": "stdout",
     "output_type": "stream",
     "text": [
      "Length of cleaned_embs: 2243885\n"
     ]
    },
    {
     "data": {
      "text/plain": [
       "array([-0.2958832 ,  1.3680464 , -1.0969739 , -1.1368335 , -0.4342838 ,\n",
       "        0.39283156,  0.27632928,  0.03127032, -0.58364165, -0.7053537 ,\n",
       "        0.02434574,  0.44454443,  0.36360395,  0.5888878 ,  0.46440738,\n",
       "        0.6275927 ,  1.6786953 ,  0.02449422, -0.6262758 ,  0.9112112 ,\n",
       "       -0.9261704 , -1.2875332 ,  1.3164775 ,  0.98420537, -0.7581321 ,\n",
       "       -1.1962838 ,  0.554428  , -0.24542667, -0.01585706,  2.6407895 ,\n",
       "        0.92781043, -0.7784559 ,  2.3831542 , -0.09137036, -0.71217793,\n",
       "        1.7602313 , -1.7687172 , -0.99954164, -1.0950288 ,  0.33157885,\n",
       "        0.3068544 , -1.4212629 , -0.5321212 , -0.6750946 ,  0.43817887,\n",
       "        0.4380906 ,  1.5712899 ,  0.6998104 ,  0.22836557,  0.07564595,\n",
       "        0.77435833,  0.352889  ,  0.31121057, -0.6935091 , -0.7743054 ,\n",
       "       -0.42792314, -0.11159866,  1.5658025 , -0.59310645, -0.44968712,\n",
       "       -0.6262101 , -1.0050645 ,  0.13244593, -0.2033531 , -0.21466011,\n",
       "       -0.32916766, -0.8308483 , -1.0437603 , -0.80158645, -0.345111  ,\n",
       "       -1.3249803 ,  2.1824708 , -1.7990437 ,  0.39545736, -2.1390529 ,\n",
       "        1.3957163 , -0.25591433,  0.42533696,  0.7505568 ,  0.9285241 ,\n",
       "       -2.1381545 , -1.9476197 , -1.1408098 ,  0.36032408, -0.946678  ,\n",
       "        0.21809477,  0.38603702,  0.54216707,  2.517832  ,  2.1037345 ,\n",
       "       -1.8026109 ,  1.5827171 ,  0.6374402 ,  0.9044869 , -0.6173227 ,\n",
       "        1.2091283 ,  0.58720136, -0.09497476, -0.32472208, -0.5490729 ,\n",
       "       -0.6468645 ,  0.19923826,  0.36994377, -0.99530554,  0.5929701 ,\n",
       "        1.5294845 ,  0.9247553 ,  0.23577365, -1.7703238 ,  0.34932616,\n",
       "       -1.8733872 ,  0.08197797, -0.59053105,  1.2234493 , -1.9997753 ,\n",
       "        0.27483425,  0.9146135 ,  1.4249407 , -0.5170829 ,  0.6279184 ,\n",
       "       -1.1466217 ,  0.65218234,  0.3307079 , -1.0875478 , -0.14978501,\n",
       "       -0.4091584 , -0.29286286,  0.05274126], dtype=float32)"
      ]
     },
     "execution_count": 29,
     "metadata": {},
     "output_type": "execute_result"
    }
   ],
   "source": [
    "print(f\"Length of cleaned_embs: {len(cleaned_embs)}\")\n",
    "cleaned_embs[0]"
   ]
  },
  {
   "cell_type": "markdown",
   "id": "3e15ee93-725a-49df-a056-9392799282bd",
   "metadata": {},
   "source": [
    "#### candidate IDs"
   ]
  },
  {
   "cell_type": "code",
   "execution_count": 30,
   "id": "2fde9926-d898-49a9-bcde-1a1854c8fbd0",
   "metadata": {},
   "outputs": [
    {
     "name": "stdout",
     "output_type": "stream",
     "text": [
      "Length of track_uris: 2243885\n"
     ]
    }
   ],
   "source": [
    "# clean product IDs\n",
    "# track_uris = [ids.numpy() for ids , _ in embs]\n",
    "\n",
    "print(f\"Length of track_uris: {len(track_uris)}\")"
   ]
  },
  {
   "cell_type": "code",
   "execution_count": 31,
   "id": "fb203cb7-1254-4257-b6be-3624885eb19d",
   "metadata": {},
   "outputs": [
    {
     "name": "stdout",
     "output_type": "stream",
     "text": [
      "Length of track_uris_decoded: 2243885\n"
     ]
    },
    {
     "data": {
      "text/plain": [
       "'spotify:track:2XZ3bL3ROk605SPpy6Dn9C'"
      ]
     },
     "execution_count": 31,
     "metadata": {},
     "output_type": "execute_result"
    }
   ],
   "source": [
    "# track_uris_cleaned = [str(z).replace(\"b'\",\"\").replace(\"'\",\"\") for z in track_uris]\n",
    "track_uris_decoded = [z.decode(\"utf-8\") for z in track_uris]\n",
    "\n",
    "print(f\"Length of track_uris_decoded: {len(track_uris_decoded)}\")\n",
    "track_uris_decoded[0]"
   ]
  },
  {
   "cell_type": "code",
   "execution_count": 32,
   "id": "36a10d13-4a0a-4550-a78d-d92489be78ef",
   "metadata": {},
   "outputs": [
    {
     "name": "stdout",
     "output_type": "stream",
     "text": [
      "Length of track_uris: 2243885\n",
      "Length of track_uris_cleaned: 2243885\n"
     ]
    }
   ],
   "source": [
    "print(f\"Length of track_uris: {len(track_uris)}\")\n",
    "print(f\"Length of track_uris_cleaned: {len(track_uris_decoded)}\")"
   ]
  },
  {
   "cell_type": "markdown",
   "id": "270376ce-3d4a-452d-97d6-d54592aebe05",
   "metadata": {},
   "source": [
    "#### Check for bad records"
   ]
  },
  {
   "cell_type": "code",
   "execution_count": 33,
   "id": "758258ee-6a11-4fbd-8a48-b0fffc7b6b3d",
   "metadata": {},
   "outputs": [
    {
     "data": {
      "text/plain": [
       "array([-0.2958832 ,  1.3680464 , -1.0969739 , -1.1368335 , -0.4342838 ,\n",
       "        0.39283156,  0.27632928,  0.03127032, -0.58364165, -0.7053537 ,\n",
       "        0.02434574,  0.44454443,  0.36360395,  0.5888878 ,  0.46440738,\n",
       "        0.6275927 ,  1.6786953 ,  0.02449422, -0.6262758 ,  0.9112112 ,\n",
       "       -0.9261704 , -1.2875332 ,  1.3164775 ,  0.98420537, -0.7581321 ,\n",
       "       -1.1962838 ,  0.554428  , -0.24542667, -0.01585706,  2.6407895 ,\n",
       "        0.92781043, -0.7784559 ,  2.3831542 , -0.09137036, -0.71217793,\n",
       "        1.7602313 , -1.7687172 , -0.99954164, -1.0950288 ,  0.33157885,\n",
       "        0.3068544 , -1.4212629 , -0.5321212 , -0.6750946 ,  0.43817887,\n",
       "        0.4380906 ,  1.5712899 ,  0.6998104 ,  0.22836557,  0.07564595,\n",
       "        0.77435833,  0.352889  ,  0.31121057, -0.6935091 , -0.7743054 ,\n",
       "       -0.42792314, -0.11159866,  1.5658025 , -0.59310645, -0.44968712,\n",
       "       -0.6262101 , -1.0050645 ,  0.13244593, -0.2033531 , -0.21466011,\n",
       "       -0.32916766, -0.8308483 , -1.0437603 , -0.80158645, -0.345111  ,\n",
       "       -1.3249803 ,  2.1824708 , -1.7990437 ,  0.39545736, -2.1390529 ,\n",
       "        1.3957163 , -0.25591433,  0.42533696,  0.7505568 ,  0.9285241 ,\n",
       "       -2.1381545 , -1.9476197 , -1.1408098 ,  0.36032408, -0.946678  ,\n",
       "        0.21809477,  0.38603702,  0.54216707,  2.517832  ,  2.1037345 ,\n",
       "       -1.8026109 ,  1.5827171 ,  0.6374402 ,  0.9044869 , -0.6173227 ,\n",
       "        1.2091283 ,  0.58720136, -0.09497476, -0.32472208, -0.5490729 ,\n",
       "       -0.6468645 ,  0.19923826,  0.36994377, -0.99530554,  0.5929701 ,\n",
       "        1.5294845 ,  0.9247553 ,  0.23577365, -1.7703238 ,  0.34932616,\n",
       "       -1.8733872 ,  0.08197797, -0.59053105,  1.2234493 , -1.9997753 ,\n",
       "        0.27483425,  0.9146135 ,  1.4249407 , -0.5170829 ,  0.6279184 ,\n",
       "       -1.1466217 ,  0.65218234,  0.3307079 , -1.0875478 , -0.14978501,\n",
       "       -0.4091584 , -0.29286286,  0.05274126], dtype=float32)"
      ]
     },
     "execution_count": 33,
     "metadata": {},
     "output_type": "execute_result"
    }
   ],
   "source": [
    "cleaned_embs[0]"
   ]
  },
  {
   "cell_type": "code",
   "execution_count": 35,
   "id": "5fe1f6f2-d35e-4823-b4cd-035805c30ad0",
   "metadata": {},
   "outputs": [
    {
     "name": "stdout",
     "output_type": "stream",
     "text": [
      "elapsed_time: 0\n",
      "bad_records: 0\n",
      "bad_record_filter: 0\n"
     ]
    }
   ],
   "source": [
    "start_time = time.time()\n",
    "\n",
    "bad_records = []\n",
    "\n",
    "for i, emb in enumerate(cleaned_embs):\n",
    "    bool_emb = np.isnan(emb)\n",
    "    for val in bool_emb:\n",
    "        if val:\n",
    "            bad_records.append(i)\n",
    "\n",
    "end_time = time.time()\n",
    "elapsed_time = int((end_time - start_time) / 60)\n",
    "print(f\"elapsed_time: {elapsed_time}\")\n",
    "\n",
    "bad_record_filter = np.unique(bad_records)\n",
    "\n",
    "print(f\"bad_records: {len(bad_records)}\")\n",
    "print(f\"bad_record_filter: {len(bad_record_filter)}\")"
   ]
  },
  {
   "cell_type": "code",
   "execution_count": 89,
   "id": "21e81ff0-7ce5-45d6-a197-5f7f4cccb2a2",
   "metadata": {},
   "outputs": [],
   "source": [
    "# bad_record_filter[0]"
   ]
  },
  {
   "cell_type": "code",
   "execution_count": 36,
   "id": "5f44d09d-09a7-4acf-a0e2-3cca80e49c9d",
   "metadata": {},
   "outputs": [
    {
     "name": "stdout",
     "output_type": "stream",
     "text": [
      "elapsed_time: 0\n"
     ]
    }
   ],
   "source": [
    "start_time = time.time()\n",
    "\n",
    "track_uris_valid = []\n",
    "emb_valid = []\n",
    "\n",
    "for i, pair in enumerate(zip(track_uris_decoded, cleaned_embs)):\n",
    "    if i in bad_record_filter:\n",
    "        pass\n",
    "    else:\n",
    "        t_uri, embed = pair\n",
    "        track_uris_valid.append(t_uri)\n",
    "        emb_valid.append(embed)\n",
    "        \n",
    "end_time = time.time()\n",
    "elapsed_time = int((end_time - start_time) / 60)\n",
    "print(f\"elapsed_time: {elapsed_time}\")"
   ]
  },
  {
   "cell_type": "code",
   "execution_count": 37,
   "id": "d0536b04-8337-49e2-8489-0463a3b95896",
   "metadata": {},
   "outputs": [
    {
     "data": {
      "text/plain": [
       "array([-0.2958832 ,  1.3680464 , -1.0969739 , -1.1368335 , -0.4342838 ,\n",
       "        0.39283156,  0.27632928,  0.03127032, -0.58364165, -0.7053537 ,\n",
       "        0.02434574,  0.44454443,  0.36360395,  0.5888878 ,  0.46440738,\n",
       "        0.6275927 ,  1.6786953 ,  0.02449422, -0.6262758 ,  0.9112112 ,\n",
       "       -0.9261704 , -1.2875332 ,  1.3164775 ,  0.98420537, -0.7581321 ,\n",
       "       -1.1962838 ,  0.554428  , -0.24542667, -0.01585706,  2.6407895 ,\n",
       "        0.92781043, -0.7784559 ,  2.3831542 , -0.09137036, -0.71217793,\n",
       "        1.7602313 , -1.7687172 , -0.99954164, -1.0950288 ,  0.33157885,\n",
       "        0.3068544 , -1.4212629 , -0.5321212 , -0.6750946 ,  0.43817887,\n",
       "        0.4380906 ,  1.5712899 ,  0.6998104 ,  0.22836557,  0.07564595,\n",
       "        0.77435833,  0.352889  ,  0.31121057, -0.6935091 , -0.7743054 ,\n",
       "       -0.42792314, -0.11159866,  1.5658025 , -0.59310645, -0.44968712,\n",
       "       -0.6262101 , -1.0050645 ,  0.13244593, -0.2033531 , -0.21466011,\n",
       "       -0.32916766, -0.8308483 , -1.0437603 , -0.80158645, -0.345111  ,\n",
       "       -1.3249803 ,  2.1824708 , -1.7990437 ,  0.39545736, -2.1390529 ,\n",
       "        1.3957163 , -0.25591433,  0.42533696,  0.7505568 ,  0.9285241 ,\n",
       "       -2.1381545 , -1.9476197 , -1.1408098 ,  0.36032408, -0.946678  ,\n",
       "        0.21809477,  0.38603702,  0.54216707,  2.517832  ,  2.1037345 ,\n",
       "       -1.8026109 ,  1.5827171 ,  0.6374402 ,  0.9044869 , -0.6173227 ,\n",
       "        1.2091283 ,  0.58720136, -0.09497476, -0.32472208, -0.5490729 ,\n",
       "       -0.6468645 ,  0.19923826,  0.36994377, -0.99530554,  0.5929701 ,\n",
       "        1.5294845 ,  0.9247553 ,  0.23577365, -1.7703238 ,  0.34932616,\n",
       "       -1.8733872 ,  0.08197797, -0.59053105,  1.2234493 , -1.9997753 ,\n",
       "        0.27483425,  0.9146135 ,  1.4249407 , -0.5170829 ,  0.6279184 ,\n",
       "       -1.1466217 ,  0.65218234,  0.3307079 , -1.0875478 , -0.14978501,\n",
       "       -0.4091584 , -0.29286286,  0.05274126], dtype=float32)"
      ]
     },
     "execution_count": 37,
     "metadata": {},
     "output_type": "execute_result"
    }
   ],
   "source": [
    "emb_valid[0]"
   ]
  },
  {
   "cell_type": "code",
   "execution_count": 38,
   "id": "ed856315-b86b-48e1-a72b-2f0c812b891c",
   "metadata": {},
   "outputs": [
    {
     "data": {
      "text/plain": [
       "2243885"
      ]
     },
     "execution_count": 38,
     "metadata": {},
     "output_type": "execute_result"
    }
   ],
   "source": [
    "len(emb_valid)"
   ]
  },
  {
   "cell_type": "code",
   "execution_count": 39,
   "id": "d75969dd-b96c-4c3e-9e7d-ee793dcd4a14",
   "metadata": {},
   "outputs": [
    {
     "data": {
      "text/plain": [
       "'spotify:track:2XZ3bL3ROk605SPpy6Dn9C'"
      ]
     },
     "execution_count": 39,
     "metadata": {},
     "output_type": "execute_result"
    }
   ],
   "source": [
    "track_uris_valid[0]"
   ]
  },
  {
   "cell_type": "code",
   "execution_count": 40,
   "id": "1ded397c-197d-42ad-873c-8ad452f09cb2",
   "metadata": {},
   "outputs": [
    {
     "data": {
      "text/plain": [
       "2243885"
      ]
     },
     "execution_count": 40,
     "metadata": {},
     "output_type": "execute_result"
    }
   ],
   "source": [
    "len(track_uris_valid)"
   ]
  },
  {
   "cell_type": "markdown",
   "id": "effc903e-674f-4610-ac30-985ecd7dfacb",
   "metadata": {},
   "source": [
    "## Write embedding vectors to json file"
   ]
  },
  {
   "cell_type": "code",
   "execution_count": 41,
   "id": "692c6aa5-5e50-4283-bea5-924120c7ca84",
   "metadata": {},
   "outputs": [],
   "source": [
    "VERSION = 'local'\n",
    "# TIMESTAMP = time.strftime(\"%Y%m%d-%H%M%S\")\n",
    "\n",
    "embeddings_index_filename = f'candidate_embs_{VERSION}.json'\n",
    "\n",
    "with open(f'{embeddings_index_filename}', 'w') as f:\n",
    "    for prod, emb in zip(track_uris_valid, emb_valid):\n",
    "        f.write('{\"id\":\"' + str(prod) + '\",')\n",
    "        f.write('\"embedding\":[' + \",\".join(str(x) for x in list(emb)) + \"]}\")\n",
    "        f.write(\"\\n\")"
   ]
  },
  {
   "cell_type": "markdown",
   "id": "61c575e5-21c9-4244-a4b6-92c353f1c9f7",
   "metadata": {},
   "source": [
    "### Upload json to GCS"
   ]
  },
  {
   "cell_type": "code",
   "execution_count": 46,
   "id": "173ec51a-a6c2-4a30-848e-788a854e484c",
   "metadata": {},
   "outputs": [
    {
     "name": "stdout",
     "output_type": "stream",
     "text": [
      "INDEX_GCS_URI         : gs://ndr-v1-hybrid-vertex-bucket/tfrs-pipe-v1/run-20230919-173845/candidates-local\n",
      "DESTINATION_BLOB_NAME : candidate_embs_local.json\n",
      "SOURCE_FILE_NAME      : candidate_embs_local.json\n"
     ]
    }
   ],
   "source": [
    "INDEX_GCS_URI = f'gs://{BUCKET_NAME}/{PATH_TO_ARTIFACT_DIR}/candidates-{VERSION}'\n",
    "\n",
    "DESTINATION_BLOB_NAME = embeddings_index_filename\n",
    "SOURCE_FILE_NAME = embeddings_index_filename\n",
    "\n",
    "print(f\"INDEX_GCS_URI         : {INDEX_GCS_URI}\")\n",
    "print(f\"DESTINATION_BLOB_NAME : {DESTINATION_BLOB_NAME}\")\n",
    "print(f\"SOURCE_FILE_NAME      : {SOURCE_FILE_NAME}\")"
   ]
  },
  {
   "cell_type": "code",
   "execution_count": 47,
   "id": "0340e8e7-c29f-4d91-b1d2-6a42e57f0c14",
   "metadata": {},
   "outputs": [],
   "source": [
    "blob = Blob.from_string(os.path.join(INDEX_GCS_URI, DESTINATION_BLOB_NAME))\n",
    "blob.bucket._client = storage_client\n",
    "blob.upload_from_filename(SOURCE_FILE_NAME)"
   ]
  },
  {
   "cell_type": "markdown",
   "id": "18e7a174-af0b-4b9e-bcec-98540f3b8edb",
   "metadata": {},
   "source": [
    "# Matching Engine Index: \n",
    "*initialize existing or create a new one*\n",
    "\n",
    "> Deploy candidate index to Matching Engine Index Endpoint\n",
    "\n",
    "* **TODO**"
   ]
  },
  {
   "cell_type": "markdown",
   "id": "b5522acc-de96-450e-995b-906c12fdff1d",
   "metadata": {},
   "source": [
    "#### Edit these"
   ]
  },
  {
   "cell_type": "code",
   "execution_count": 48,
   "id": "17cc361a-6599-4069-a13e-24d435d0ec16",
   "metadata": {},
   "outputs": [
    {
     "name": "stdout",
     "output_type": "stream",
     "text": [
      "ANN_INDEX_DISPLAY_NAME   : tfrs_128dim_local\n",
      "BF_DISPLAY_NAME          : tfrs_128dim_local_bf\n"
     ]
    }
   ],
   "source": [
    "CREATE_NEW_ASSETS          = False # True | False\n",
    "\n",
    "# ANN index config\n",
    "APPROX_NEIGHBORS           = 50\n",
    "DISTANCE_MEASURE           = \"DOT_PRODUCT_DISTANCE\"\n",
    "LEAF_NODE_EMB_COUNT        = 500\n",
    "LEAF_NODES_SEARCH_PERCENT  = 7\n",
    "DIMENSIONS                 = 128 # must match output dimensions\n",
    "\n",
    "# matching engine (vector search)\n",
    "ANN_INDEX_DISPLAY_NAME    = f\"tfrs_{DIMENSIONS}dim_{VERSION}\"\n",
    "ANN_ENDPOINT_DISPLAY_NAME = f'{ANN_INDEX_DISPLAY_NAME}_endpoint'\n",
    "\n",
    "BF_DISPLAY_NAME           = f\"{ANN_INDEX_DISPLAY_NAME}_bf\"\n",
    "BF_ENDPOINT_DISPLAY_NAME  = f'{BF_DISPLAY_NAME}_endpoint'\n",
    "\n",
    "# labels\n",
    "DATA_REGIME               = 'full-65m'\n",
    "\n",
    "print(f\"ANN_INDEX_DISPLAY_NAME   : {ANN_INDEX_DISPLAY_NAME}\")\n",
    "print(f\"BF_DISPLAY_NAME          : {BF_DISPLAY_NAME}\")"
   ]
  },
  {
   "cell_type": "markdown",
   "id": "f29ad702-8c66-4a50-8916-8e66b2d8f2e8",
   "metadata": {},
   "source": [
    "## Create a Matching Engine Index\n",
    "\n",
    "The matching engine loads an index from a file of embeddings created earlier in this notebook \n",
    "\n",
    "Many of the optimization options for matching engine are found in the ah tree settings and testing is recommended depending on each use case\n",
    "\n",
    "Recall we saved our two tower models and query embeddings (newline json) in a candidate folder"
   ]
  },
  {
   "cell_type": "markdown",
   "id": "fdd30b41-30eb-41de-9d8c-dceb78f4ced7",
   "metadata": {},
   "source": [
    "### Create ANN index"
   ]
  },
  {
   "cell_type": "code",
   "execution_count": 49,
   "id": "34be8487-100b-4ac0-b3c3-698520c5f3d8",
   "metadata": {},
   "outputs": [
    {
     "name": "stdout",
     "output_type": "stream",
     "text": [
      "display_name  : ann_index_v1-v1\n",
      "\n",
      "tree_ah_index : <google.cloud.aiplatform.matching_engine.matching_engine_index.MatchingEngineIndex object at 0x7f14d448c110> \n",
      "resource name: projects/934903580331/locations/us-central1/indexes/1713892337098162176\n"
     ]
    }
   ],
   "source": [
    "if CREATE_NEW_ASSETS == True:\n",
    "    \n",
    "    tree_ah_index = vertex_ai.MatchingEngineIndex.create_tree_ah_index(\n",
    "        display_name=ANN_INDEX_DISPLAY_NAME,\n",
    "        contents_delta_uri=EMBEDDINGS_INITIAL_URI,\n",
    "        dimensions=DIMENSIONS,\n",
    "        approximate_neighbors_count=APPROX_NEIGHBORS,\n",
    "        distance_measure_type=DISTANCE_MEASURE,\n",
    "        leaf_node_embedding_count=LEAF_NODE_EMB_COUNT,\n",
    "        leaf_nodes_to_search_percent=LEAF_NODES_SEARCH_PERCENT,\n",
    "        description=\"Songs embeddings from MPD\",\n",
    "        sync=False,\n",
    "        labels={\n",
    "            \"experiment_name\": f'{EXPERIMENT_NAME}',\n",
    "            \"experiment_run\": f'{RUN_NAME}',\n",
    "            \"data_regime\": f'{DATA_REGIME}',\n",
    "        },\n",
    "    )\n",
    "else:\n",
    "    \n",
    "    EXISTING_INDEX_NAME = f'projects/{PROJECT_NUM}/locations/{REGION}/indexes/1713892337098162176'\n",
    "    tree_ah_index = vertex_ai.MatchingEngineIndex(EXISTING_INDEX_NAME)\n",
    "    \n",
    "\n",
    "print(f\"display_name  : {tree_ah_index.display_name}\\n\")\n",
    "print(f\"tree_ah_index : {tree_ah_index}\")"
   ]
  },
  {
   "cell_type": "markdown",
   "id": "19e10536-7ffc-4ef9-8042-a7e41578ccfc",
   "metadata": {},
   "source": [
    "### Create Brute Force index\n",
    "\n",
    "used to evaluate ANN retrieval"
   ]
  },
  {
   "cell_type": "code",
   "execution_count": 50,
   "id": "697e17ca-7d78-4a01-a33c-61189312cf57",
   "metadata": {},
   "outputs": [
    {
     "name": "stdout",
     "output_type": "stream",
     "text": [
      "display_name      : bf_index_v1_v1\n",
      "\n",
      "brute_force_index : <google.cloud.aiplatform.matching_engine.matching_engine_index.MatchingEngineIndex object at 0x7f1500710490> \n",
      "resource name: projects/934903580331/locations/us-central1/indexes/1095773288241561600\n"
     ]
    }
   ],
   "source": [
    "if CREATE_NEW_ASSETS == True:\n",
    "    \n",
    "    brute_force_index = vertex_ai.MatchingEngineIndex.create_brute_force_index(\n",
    "        display_name=BF_DISPLAY_NAME,\n",
    "        contents_delta_uri=EMBEDDINGS_INITIAL_URI,\n",
    "        dimensions=DIMENSIONS,\n",
    "        distance_measure_type=DISTANCE_MEASURE,\n",
    "        sync=False,\n",
    "        labels={\n",
    "            \"experiment_name\": f'{EXPERIMENT_NAME}',\n",
    "            \"experiment_run\": f'{RUN_NAME}',\n",
    "            \"data_regime\": f'{DATA_REGIME}',\n",
    "        },\n",
    "    )\n",
    "else: #6250846749208870912 | 5708585206575792128\n",
    "    EXISTING_INDEX_NAME = f'projects/{PROJECT_NUM}/locations/{REGION}/indexes/1095773288241561600'\n",
    "    brute_force_index = vertex_ai.MatchingEngineIndex(EXISTING_INDEX_NAME)\n",
    "    \n",
    "print(f\"display_name      : {brute_force_index.display_name}\\n\")\n",
    "print(f\"brute_force_index : {brute_force_index}\")"
   ]
  },
  {
   "cell_type": "markdown",
   "id": "4771618a-0919-49e8-92ad-b56254a87d92",
   "metadata": {},
   "source": [
    "#### list all indexes"
   ]
  },
  {
   "cell_type": "code",
   "execution_count": 60,
   "id": "b53323de-56bd-4b59-93ad-1dd0f01db9fc",
   "metadata": {},
   "outputs": [],
   "source": [
    "# list_of_indices = tree_ah_index.list()\n",
    "# list_of_indices[:5]"
   ]
  },
  {
   "cell_type": "markdown",
   "id": "f2a2d478-563f-47ee-b065-786240060c37",
   "metadata": {},
   "source": [
    "## Create Matching Engine endpoint(s)\n",
    "\n",
    "* both the ANN and brute force indices can be deployed to a single endpoint\n",
    "* alternatively, we can create seperate endpoints, one for each index"
   ]
  },
  {
   "cell_type": "markdown",
   "id": "f987210b-a648-4b11-b467-afaee6ca63e4",
   "metadata": {},
   "source": [
    "**index endpoint config:** "
   ]
  },
  {
   "cell_type": "code",
   "execution_count": 53,
   "id": "0c504ca5-f427-41d0-a9a3-63a6b9846199",
   "metadata": {},
   "outputs": [
    {
     "name": "stdout",
     "output_type": "stream",
     "text": [
      "VPC_NETWORK_FULL          : projects/934903580331/global/networks/ucaip-haystack-vpc-network\n",
      "ANN_ENDPOINT_DISPLAY_NAME : tfrs_128dim_local_endpoint\n",
      "BF_ENDPOINT_DISPLAY_NAME  : tfrs_128dim_local_bf_endpoint\n"
     ]
    }
   ],
   "source": [
    "print(f\"VPC_NETWORK_FULL          : {VPC_NETWORK_FULL}\")\n",
    "print(f\"ANN_ENDPOINT_DISPLAY_NAME : {ANN_ENDPOINT_DISPLAY_NAME}\")\n",
    "print(f\"BF_ENDPOINT_DISPLAY_NAME  : {BF_ENDPOINT_DISPLAY_NAME}\")"
   ]
  },
  {
   "cell_type": "markdown",
   "id": "74c53ec0-d1e1-4079-bdce-d79d44cdb9f7",
   "metadata": {},
   "source": [
    "### ANN index endpoint"
   ]
  },
  {
   "cell_type": "code",
   "execution_count": 54,
   "id": "97fd3dbc-7c1f-43d6-8004-1370302140bf",
   "metadata": {},
   "outputs": [
    {
     "name": "stdout",
     "output_type": "stream",
     "text": [
      "display_name         : ann_index_endpoint_v1\n",
      "\n",
      "my_ann_index_endpoint: <google.cloud.aiplatform.matching_engine.matching_engine_index_endpoint.MatchingEngineIndexEndpoint object at 0x7f0eecc7f990> \n",
      "resource name: projects/934903580331/locations/us-central1/indexEndpoints/7571386602446913536\n"
     ]
    }
   ],
   "source": [
    "if CREATE_NEW_ASSETS == True:\n",
    "    \n",
    "    my_ann_index_endpoint = vertex_ai.MatchingEngineIndexEndpoint.create(\n",
    "        display_name=f'{ANN_ENDPOINT_DISPLAY_NAME}',\n",
    "        description=\"index endpoint for ANN index\",\n",
    "        network=VPC_NETWORK_FULL,\n",
    "        sync=False,\n",
    "    )\n",
    "    \n",
    "else:\n",
    "    EXISTING_INDEX_ENDPOINT = f'projects/{PROJECT_NUM}/locations/{REGION}/indexEndpoints/7571386602446913536'\n",
    "    my_ann_index_endpoint = vertex_ai.MatchingEngineIndexEndpoint(EXISTING_INDEX_ENDPOINT)\n",
    "    \n",
    "print(f\"display_name         : {my_ann_index_endpoint.display_name}\\n\")\n",
    "print(f\"my_ann_index_endpoint: {my_ann_index_endpoint}\")"
   ]
  },
  {
   "cell_type": "code",
   "execution_count": 55,
   "id": "ceb8755b-039d-4a29-ad7b-ea4e3be28a9b",
   "metadata": {},
   "outputs": [
    {
     "name": "stdout",
     "output_type": "stream",
     "text": [
      "Deployed indexes on the index endpoint:\n",
      "    deployedann_v1\n"
     ]
    }
   ],
   "source": [
    "print(f\"Deployed indexes on the index endpoint:\")\n",
    "for d in my_ann_index_endpoint.deployed_indexes:\n",
    "    print(f\"    {d.id}\")"
   ]
  },
  {
   "cell_type": "markdown",
   "id": "8eedb015-77c1-47bb-ba25-a3889d265e83",
   "metadata": {},
   "source": [
    "### brute-force index endpoint"
   ]
  },
  {
   "cell_type": "code",
   "execution_count": 56,
   "id": "df28cc75-2436-4228-beae-39da55cdf239",
   "metadata": {},
   "outputs": [
    {
     "name": "stdout",
     "output_type": "stream",
     "text": [
      "display_name         : bf_index_endpoint_v1\n",
      "\n",
      "my_bf_index_endpoint : <google.cloud.aiplatform.matching_engine.matching_engine_index_endpoint.MatchingEngineIndexEndpoint object at 0x7f14d4314450> \n",
      "resource name: projects/934903580331/locations/us-central1/indexEndpoints/7850046829390462976\n"
     ]
    }
   ],
   "source": [
    "if CREATE_NEW_ASSETS == True:\n",
    "    \n",
    "    my_bf_index_endpoint = vertex_ai.MatchingEngineIndexEndpoint.create(\n",
    "        display_name=f'{BF_ENDPOINT_DISPLAY_NAME}',\n",
    "        description=\"index endpoint for ANN index\",\n",
    "        network=VPC_NETWORK_FULL,\n",
    "        sync=False,\n",
    "    )\n",
    "    \n",
    "else:\n",
    "    EXISTING_INDEX_ENDPOINT = f'projects/{PROJECT_NUM}/locations/{REGION}/indexEndpoints/7850046829390462976'\n",
    "    my_bf_index_endpoint = vertex_ai.MatchingEngineIndexEndpoint(EXISTING_INDEX_ENDPOINT)\n",
    "    \n",
    "print(f\"display_name         : {my_bf_index_endpoint.display_name}\\n\")\n",
    "print(f\"my_bf_index_endpoint : {my_bf_index_endpoint}\")"
   ]
  },
  {
   "cell_type": "code",
   "execution_count": 57,
   "id": "1c5b6dad-c464-4d62-989d-235033cd6ab9",
   "metadata": {},
   "outputs": [
    {
     "name": "stdout",
     "output_type": "stream",
     "text": [
      "Deployed indexes on the index endpoint:\n",
      "    deployedbf_v1\n"
     ]
    }
   ],
   "source": [
    "print(f\"Deployed indexes on the index endpoint:\")\n",
    "for d in my_bf_index_endpoint.deployed_indexes:\n",
    "    print(f\"    {d.id}\")"
   ]
  },
  {
   "cell_type": "markdown",
   "id": "00ec6f16-3b8c-49f0-988e-3e90713cdbfc",
   "metadata": {},
   "source": [
    "#### list all index endpoints"
   ]
  },
  {
   "cell_type": "code",
   "execution_count": 59,
   "id": "b260ea21-22b0-40a1-a1b5-bf03d6a2e5f7",
   "metadata": {},
   "outputs": [],
   "source": [
    "# list_of_index_endpoints = my_ann_index_endpoint.list()\n",
    "# list_of_index_endpoints[:5]"
   ]
  },
  {
   "cell_type": "markdown",
   "id": "29da104d-4eb2-4cad-bc34-9e3445b8e864",
   "metadata": {},
   "source": [
    "## Deploy Indexes to endpoints\n",
    "\n",
    "> *Note: wait for indexes to be created (~40 mins) before deploying to endpoint*"
   ]
  },
  {
   "cell_type": "code",
   "execution_count": 61,
   "id": "8449a047-959b-4e10-a10f-6bfb0d9c21e6",
   "metadata": {},
   "outputs": [],
   "source": [
    "# !gcloud ai indexes list \\\n",
    "#   --project=$PROJECT_ID \\\n",
    "#   --region=$LOCATION"
   ]
  },
  {
   "cell_type": "markdown",
   "id": "cf35207a-f5b9-4320-a071-6f6d2b8c531d",
   "metadata": {},
   "source": [
    "**Get resource names:**"
   ]
  },
  {
   "cell_type": "code",
   "execution_count": 62,
   "id": "bae10718-ac86-4782-92b9-12633c6be296",
   "metadata": {},
   "outputs": [
    {
     "name": "stdout",
     "output_type": "stream",
     "text": [
      "ANN_INDEX_NAME          : ann_index_v1-v1\n",
      "BF_INDEX_NAME           : bf_index_v1_v1\n",
      "ANN_INDEX_ENDPOINT_NAME : ann_index_endpoint_v1\n",
      "BF_INDEX_ENDPOINT_NAME  : bf_index_endpoint_v1\n",
      "DEPLOYED_ANN_INDEX_ID   : deployed_ann_index_v1-v1\n",
      "DEPLOYED_BF_INDEX_ID    : deployed_bf_index_v1_v1\n"
     ]
    }
   ],
   "source": [
    "ANN_INDEX_NAME = tree_ah_index.display_name\n",
    "BF_INDEX_NAME = brute_force_index.display_name\n",
    "\n",
    "ANN_INDEX_ENDPOINT_NAME = my_ann_index_endpoint.display_name\n",
    "BF_INDEX_ENDPOINT_NAME = my_bf_index_endpoint.display_name\n",
    "\n",
    "DEPLOYED_ANN_INDEX_ID = f\"deployed_{ANN_INDEX_NAME}\"\n",
    "DEPLOYED_BF_INDEX_ID = f\"deployed_{BF_INDEX_NAME}\"\n",
    "\n",
    "print(f\"ANN_INDEX_NAME          : {ANN_INDEX_NAME}\")\n",
    "print(f\"BF_INDEX_NAME           : {BF_INDEX_NAME}\")\n",
    "print(f\"ANN_INDEX_ENDPOINT_NAME : {ANN_INDEX_ENDPOINT_NAME}\")\n",
    "print(f\"BF_INDEX_ENDPOINT_NAME  : {BF_INDEX_ENDPOINT_NAME}\")\n",
    "print(f\"DEPLOYED_ANN_INDEX_ID   : {DEPLOYED_ANN_INDEX_ID}\")\n",
    "print(f\"DEPLOYED_BF_INDEX_ID    : {DEPLOYED_BF_INDEX_ID}\")"
   ]
  },
  {
   "cell_type": "markdown",
   "id": "f6aa67b7-0b77-4b66-ad0b-5cf901b8b11e",
   "metadata": {},
   "source": [
    "### Deploy ANN index"
   ]
  },
  {
   "cell_type": "code",
   "execution_count": 63,
   "id": "153d6c9e-1818-4848-b759-485be31444eb",
   "metadata": {},
   "outputs": [
    {
     "name": "stdout",
     "output_type": "stream",
     "text": [
      "display_name       : ann_index_endpoint_v1\n",
      "\n",
      "deployed_ann_index : <google.cloud.aiplatform.matching_engine.matching_engine_index_endpoint.MatchingEngineIndexEndpoint object at 0x7f0eec411e10> \n",
      "resource name: projects/934903580331/locations/us-central1/indexEndpoints/7571386602446913536\n"
     ]
    }
   ],
   "source": [
    "if CREATE_NEW_ASSETS == True:\n",
    "    \n",
    "    deployed_ann_index = my_ann_index_endpoint.deploy_index(\n",
    "        index=tree_ah_index, \n",
    "        deployed_index_id=DEPLOYED_ANN_INDEX_ID\n",
    "    )\n",
    "    \n",
    "else: # 5661297410488401920 | 3370091100063662080\n",
    "    EXISTING_DEPLOYED_ENDPOINT = f'projects/{PROJECT_NUM}/locations/{REGION}/indexEndpoints/7571386602446913536'\n",
    "    deployed_ann_index = vertex_ai.MatchingEngineIndexEndpoint(EXISTING_DEPLOYED_ENDPOINT)\n",
    "\n",
    "print(f\"display_name       : {deployed_ann_index.display_name}\\n\")\n",
    "print(f\"deployed_ann_index : {deployed_ann_index}\")"
   ]
  },
  {
   "cell_type": "code",
   "execution_count": 64,
   "id": "35d6fbc7-3d1c-42bd-b6f6-19dbb48bfd1a",
   "metadata": {},
   "outputs": [
    {
     "name": "stdout",
     "output_type": "stream",
     "text": [
      "Deployed indexes on the index endpoint:\n",
      "    deployedann_v1\n"
     ]
    }
   ],
   "source": [
    "print(f\"Deployed indexes on the index endpoint:\")\n",
    "for d in deployed_ann_index.deployed_indexes:\n",
    "    print(f\"    {d.id}\")"
   ]
  },
  {
   "cell_type": "markdown",
   "id": "6f5033c2-065e-48e5-8b66-012cf2afeaf2",
   "metadata": {},
   "source": [
    "### Deploy brute-force index"
   ]
  },
  {
   "cell_type": "code",
   "execution_count": 65,
   "id": "1f1c045f-e2f7-4aca-aaa2-e2d7e5501073",
   "metadata": {},
   "outputs": [
    {
     "name": "stdout",
     "output_type": "stream",
     "text": [
      "display_name         : bf_index_endpoint_v1\n",
      "\n",
      "my_bf_index_endpoint : <google.cloud.aiplatform.matching_engine.matching_engine_index_endpoint.MatchingEngineIndexEndpoint object at 0x7f14d4314450> \n",
      "resource name: projects/934903580331/locations/us-central1/indexEndpoints/7850046829390462976\n"
     ]
    }
   ],
   "source": [
    "if CREATE_NEW_ASSETS == True:\n",
    "    \n",
    "    deployed_bf_index = my_bf_index_endpoint.deploy_index(\n",
    "        index=brute_force_index, \n",
    "        deployed_index_id=DEPLOYED_BF_INDEX_ID\n",
    "    )\n",
    "else: # 4346246319296217088 | 1049611392061014016\n",
    "    EXISTING_DEPLOYED_ENDPOINT = f'projects/{PROJECT_NUM}/locations/{REGION}/indexEndpoints/7850046829390462976'\n",
    "    deployed_bf_index = vertex_ai.MatchingEngineIndexEndpoint(EXISTING_DEPLOYED_ENDPOINT)\n",
    "    \n",
    "print(f\"display_name         : {my_bf_index_endpoint.display_name}\\n\")\n",
    "print(f\"my_bf_index_endpoint : {my_bf_index_endpoint}\")"
   ]
  },
  {
   "cell_type": "code",
   "execution_count": 66,
   "id": "631992f5-18ed-4a52-ab65-d6f0ae036b5f",
   "metadata": {},
   "outputs": [
    {
     "name": "stdout",
     "output_type": "stream",
     "text": [
      "Deployed indexes on the index endpoint:\n",
      "    deployedbf_v1\n"
     ]
    }
   ],
   "source": [
    "print(f\"Deployed indexes on the index endpoint:\")\n",
    "for d in deployed_bf_index.deployed_indexes:\n",
    "    print(f\"    {d.id}\")"
   ]
  },
  {
   "cell_type": "markdown",
   "id": "43c98bf6-09f0-4881-ac1a-8aba97aea64d",
   "metadata": {},
   "source": [
    "# Test Index Recall\n",
    "\n",
    "* use query_model to convert test instance to embeddings\n",
    "* use embeddings to search for NN in ANN index"
   ]
  },
  {
   "cell_type": "code",
   "execution_count": 67,
   "id": "55f3933d-a1fe-44ba-887c-c2eb5cc8e608",
   "metadata": {},
   "outputs": [
    {
     "name": "stdout",
     "output_type": "stream",
     "text": [
      "DEPLOYED_ANN_INDEX_ID: deployedann_v1\n",
      "DEPLOYED_BF_INDEX_ID: deployedbf_v1\n"
     ]
    }
   ],
   "source": [
    "DEPLOYED_ANN_INDEX_ID = deployed_ann_index.deployed_indexes[0].id\n",
    "DEPLOYED_BF_INDEX_ID = deployed_bf_index.deployed_indexes[0].id\n",
    "\n",
    "print(f\"DEPLOYED_ANN_INDEX_ID: {DEPLOYED_ANN_INDEX_ID}\")\n",
    "print(f\"DEPLOYED_BF_INDEX_ID: {DEPLOYED_BF_INDEX_ID}\")"
   ]
  },
  {
   "cell_type": "code",
   "execution_count": 70,
   "id": "8bc9cb92-e5ff-42ab-ba6f-d4d70fce0ed0",
   "metadata": {},
   "outputs": [
    {
     "name": "stdout",
     "output_type": "stream",
     "text": [
      "Length of TEST_EMBEDDING: 128\n"
     ]
    },
    {
     "data": {
      "text/plain": [
       "array([-0.2958832 ,  1.3680464 , -1.0969739 , -1.1368335 , -0.4342838 ,\n",
       "        0.39283156,  0.27632928,  0.03127032, -0.58364165, -0.7053537 ,\n",
       "        0.02434574,  0.44454443,  0.36360395,  0.5888878 ,  0.46440738,\n",
       "        0.6275927 ,  1.6786953 ,  0.02449422, -0.6262758 ,  0.9112112 ,\n",
       "       -0.9261704 , -1.2875332 ,  1.3164775 ,  0.98420537, -0.7581321 ,\n",
       "       -1.1962838 ,  0.554428  , -0.24542667, -0.01585706,  2.6407895 ,\n",
       "        0.92781043, -0.7784559 ,  2.3831542 , -0.09137036, -0.71217793,\n",
       "        1.7602313 , -1.7687172 , -0.99954164, -1.0950288 ,  0.33157885,\n",
       "        0.3068544 , -1.4212629 , -0.5321212 , -0.6750946 ,  0.43817887,\n",
       "        0.4380906 ,  1.5712899 ,  0.6998104 ,  0.22836557,  0.07564595,\n",
       "        0.77435833,  0.352889  ,  0.31121057, -0.6935091 , -0.7743054 ,\n",
       "       -0.42792314, -0.11159866,  1.5658025 , -0.59310645, -0.44968712,\n",
       "       -0.6262101 , -1.0050645 ,  0.13244593, -0.2033531 , -0.21466011,\n",
       "       -0.32916766, -0.8308483 , -1.0437603 , -0.80158645, -0.345111  ,\n",
       "       -1.3249803 ,  2.1824708 , -1.7990437 ,  0.39545736, -2.1390529 ,\n",
       "        1.3957163 , -0.25591433,  0.42533696,  0.7505568 ,  0.9285241 ,\n",
       "       -2.1381545 , -1.9476197 , -1.1408098 ,  0.36032408, -0.946678  ,\n",
       "        0.21809477,  0.38603702,  0.54216707,  2.517832  ,  2.1037345 ,\n",
       "       -1.8026109 ,  1.5827171 ,  0.6374402 ,  0.9044869 , -0.6173227 ,\n",
       "        1.2091283 ,  0.58720136, -0.09497476, -0.32472208, -0.5490729 ,\n",
       "       -0.6468645 ,  0.19923826,  0.36994377, -0.99530554,  0.5929701 ,\n",
       "        1.5294845 ,  0.9247553 ,  0.23577365, -1.7703238 ,  0.34932616,\n",
       "       -1.8733872 ,  0.08197797, -0.59053105,  1.2234493 , -1.9997753 ,\n",
       "        0.27483425,  0.9146135 ,  1.4249407 , -0.5170829 ,  0.6279184 ,\n",
       "       -1.1466217 ,  0.65218234,  0.3307079 , -1.0875478 , -0.14978501,\n",
       "       -0.4091584 , -0.29286286,  0.05274126], dtype=float32)"
      ]
     },
     "execution_count": 70,
     "metadata": {},
     "output_type": "execute_result"
    }
   ],
   "source": [
    "TEST_EMBEDDING = emb_valid[0]\n",
    "\n",
    "print(f\"Length of TEST_EMBEDDING: {len(TEST_EMBEDDING)}\")\n",
    "TEST_EMBEDDING"
   ]
  },
  {
   "cell_type": "markdown",
   "id": "8d4c7e6d-c27c-478c-a0d7-a46aff1b30f0",
   "metadata": {},
   "source": [
    "### ANN search"
   ]
  },
  {
   "cell_type": "code",
   "execution_count": 72,
   "id": "07a0bd82-d938-4cae-b805-aed355e1fc64",
   "metadata": {},
   "outputs": [
    {
     "name": "stdout",
     "output_type": "stream",
     "text": [
      "ANN latency: 0.011 seconds\n"
     ]
    }
   ],
   "source": [
    "# %%timeit \n",
    "start = time.time()\n",
    "\n",
    "ANN_response = deployed_ann_index.match(\n",
    "    deployed_index_id=DEPLOYED_ANN_INDEX_ID,\n",
    "    queries=[TEST_EMBEDDING],\n",
    "    num_neighbors=20\n",
    ")\n",
    "\n",
    "# end_time = time.time()\n",
    "# elapsed_ann_time = (end_time - start_time) / 60\n",
    "# print(f\"elapsed_ann_time: {elapsed_ann_time}\")\n",
    "elapsed_ann_time = time.time() - start\n",
    "elapsed_ann_time = round(elapsed_ann_time, 4)\n",
    "print(f'ANN latency: {elapsed_ann_time} seconds')"
   ]
  },
  {
   "cell_type": "code",
   "execution_count": 73,
   "id": "a7ec7d40-8dc6-4577-9ecf-fc9ee393acea",
   "metadata": {},
   "outputs": [
    {
     "data": {
      "text/plain": [
       "[[MatchNeighbor(id='spotify:track:4PqIj0WOfPAq4QAvisjgpd', distance=60.644474029541016),\n",
       "  MatchNeighbor(id='spotify:track:46P6IXXFACigzFF4BLtrRS', distance=60.076210021972656),\n",
       "  MatchNeighbor(id='spotify:track:3YfjqbdBNgvhO0FrLfe3r2', distance=59.810176849365234),\n",
       "  MatchNeighbor(id='spotify:track:0xWuZbSZWD5NLczQlFAzw8', distance=59.684112548828125),\n",
       "  MatchNeighbor(id='spotify:track:0xUgMJKVoTt1NgyCou7k6Q', distance=58.92349624633789),\n",
       "  MatchNeighbor(id='spotify:track:2yxxAoyWkss8hz5OBsICRy', distance=58.070220947265625),\n",
       "  MatchNeighbor(id='spotify:track:789fcu6AQuBkUEHMZtSE3l', distance=57.790321350097656),\n",
       "  MatchNeighbor(id='spotify:track:64uzhdVg9iYlwHn14MqrSF', distance=57.411468505859375),\n",
       "  MatchNeighbor(id='spotify:track:3fv313UzOGEVoSTJ6s06B6', distance=57.38988494873047),\n",
       "  MatchNeighbor(id='spotify:track:415EcxgjNwCzaqWuBwc2EU', distance=57.115089416503906),\n",
       "  MatchNeighbor(id='spotify:track:1cVSpj4cx1jltOCZdIKAzB', distance=56.294979095458984),\n",
       "  MatchNeighbor(id='spotify:track:3G5woJgXr2aw6NBek3S3Oa', distance=56.047908782958984),\n",
       "  MatchNeighbor(id='spotify:track:57YdMPc7dJ6bqGPZmOAwFU', distance=56.00032043457031),\n",
       "  MatchNeighbor(id='spotify:track:5iB84jjNkwxhSrV7GBqX5a', distance=55.73326873779297),\n",
       "  MatchNeighbor(id='spotify:track:5DL2dqf6PK5o2AV6tyTHoG', distance=55.652976989746094),\n",
       "  MatchNeighbor(id='spotify:track:2G76iRK1fzO5MiDvcTYkET', distance=55.51910400390625),\n",
       "  MatchNeighbor(id='spotify:track:0A9OcAWjCnkmFiiQvw2rJ1', distance=55.16680908203125),\n",
       "  MatchNeighbor(id='spotify:track:1kVUDwjVtO86TkrtTcY6ls', distance=54.851654052734375),\n",
       "  MatchNeighbor(id='spotify:track:3ykLTsgEYPitQvky44VvID', distance=54.73146438598633),\n",
       "  MatchNeighbor(id='spotify:track:6Ovr6YBdwur4iT5i4BHzZ9', distance=54.42633819580078)]]"
      ]
     },
     "execution_count": 73,
     "metadata": {},
     "output_type": "execute_result"
    }
   ],
   "source": [
    "ANN_response"
   ]
  },
  {
   "cell_type": "markdown",
   "id": "8849e1a9-cced-45c0-99ab-fca42fed7aef",
   "metadata": {},
   "source": [
    "### Brute-force search"
   ]
  },
  {
   "cell_type": "code",
   "execution_count": 74,
   "id": "c9d04895-0921-4bad-b0ec-1d5e9e69f734",
   "metadata": {},
   "outputs": [
    {
     "name": "stdout",
     "output_type": "stream",
     "text": [
      "Bruteforce latency: 0.2811 seconds\n"
     ]
    }
   ],
   "source": [
    "# %%timeit \n",
    "start = time.time()\n",
    "\n",
    "BF_response = deployed_bf_index.match(\n",
    "    deployed_index_id=DEPLOYED_BF_INDEX_ID,\n",
    "    queries=[TEST_EMBEDDING],\n",
    "    num_neighbors=20\n",
    ")\n",
    "\n",
    "# end_time = time.time()\n",
    "# elapsed_bf_time = (end_time - start_time) / 60\n",
    "# print(f\"elapsed_bf_time: {elapsed_bf_time}\")\n",
    "elapsed_bf_time = time.time() - start\n",
    "elapsed_bf_time = round(elapsed_bf_time, 4)\n",
    "print(f'Bruteforce latency: {elapsed_bf_time} seconds')"
   ]
  },
  {
   "cell_type": "code",
   "execution_count": 75,
   "id": "3a07be38-1cd1-4380-a496-400ce9c3bcc0",
   "metadata": {},
   "outputs": [
    {
     "data": {
      "text/plain": [
       "[[MatchNeighbor(id='spotify:track:4PqIj0WOfPAq4QAvisjgpd', distance=60.644474029541016),\n",
       "  MatchNeighbor(id='spotify:track:46P6IXXFACigzFF4BLtrRS', distance=60.076210021972656),\n",
       "  MatchNeighbor(id='spotify:track:3YfjqbdBNgvhO0FrLfe3r2', distance=59.810176849365234),\n",
       "  MatchNeighbor(id='spotify:track:0xWuZbSZWD5NLczQlFAzw8', distance=59.684112548828125),\n",
       "  MatchNeighbor(id='spotify:track:0xUgMJKVoTt1NgyCou7k6Q', distance=58.92349624633789),\n",
       "  MatchNeighbor(id='spotify:track:1cadVY6jZWZeEAPumXsRut', distance=58.49407196044922),\n",
       "  MatchNeighbor(id='spotify:track:2yxxAoyWkss8hz5OBsICRy', distance=58.070220947265625),\n",
       "  MatchNeighbor(id='spotify:track:789fcu6AQuBkUEHMZtSE3l', distance=57.790321350097656),\n",
       "  MatchNeighbor(id='spotify:track:64uzhdVg9iYlwHn14MqrSF', distance=57.411468505859375),\n",
       "  MatchNeighbor(id='spotify:track:3fv313UzOGEVoSTJ6s06B6', distance=57.38988494873047),\n",
       "  MatchNeighbor(id='spotify:track:415EcxgjNwCzaqWuBwc2EU', distance=57.115089416503906),\n",
       "  MatchNeighbor(id='spotify:track:1n8OQH91s2hfEMt1abreCe', distance=56.902099609375),\n",
       "  MatchNeighbor(id='spotify:track:6IFDy0imCdhDpHj98GczEX', distance=56.61302185058594),\n",
       "  MatchNeighbor(id='spotify:track:4BhjI4urPoNXe8Xmq8sfyX', distance=56.43864822387695),\n",
       "  MatchNeighbor(id='spotify:track:1cVSpj4cx1jltOCZdIKAzB', distance=56.294979095458984),\n",
       "  MatchNeighbor(id='spotify:track:3G5woJgXr2aw6NBek3S3Oa', distance=56.047908782958984),\n",
       "  MatchNeighbor(id='spotify:track:57YdMPc7dJ6bqGPZmOAwFU', distance=56.00032043457031),\n",
       "  MatchNeighbor(id='spotify:track:5iB84jjNkwxhSrV7GBqX5a', distance=55.73326873779297),\n",
       "  MatchNeighbor(id='spotify:track:13VDHbpoKlRhtgUaWTE2Ld', distance=55.721710205078125),\n",
       "  MatchNeighbor(id='spotify:track:5DL2dqf6PK5o2AV6tyTHoG', distance=55.652976989746094)]]"
      ]
     },
     "execution_count": 75,
     "metadata": {},
     "output_type": "execute_result"
    }
   ],
   "source": [
    "BF_response"
   ]
  },
  {
   "cell_type": "markdown",
   "id": "fbddc952-0edb-4081-a29c-3993a9b47645",
   "metadata": {},
   "source": [
    "## Compute Recall"
   ]
  },
  {
   "cell_type": "code",
   "execution_count": 76,
   "id": "af9f0b46-8f8c-4627-9956-0de552394bdf",
   "metadata": {},
   "outputs": [
    {
     "name": "stdout",
     "output_type": "stream",
     "text": [
      "Recall: 0.75\n"
     ]
    }
   ],
   "source": [
    "# Calculate recall by determining how many neighbors were correctly retrieved as compared to the brute-force option.\n",
    "recalled_neighbors = 0\n",
    "for tree_ah_neighbors, brute_force_neighbors in zip(\n",
    "    ANN_response, BF_response\n",
    "):\n",
    "    tree_ah_neighbor_ids = [neighbor.id for neighbor in tree_ah_neighbors]\n",
    "    brute_force_neighbor_ids = [neighbor.id for neighbor in brute_force_neighbors]\n",
    "\n",
    "    recalled_neighbors += len(\n",
    "        set(tree_ah_neighbor_ids).intersection(brute_force_neighbor_ids)\n",
    "    )\n",
    "\n",
    "recall = recalled_neighbors / len(\n",
    "    [neighbor for neighbors in BF_response for neighbor in neighbors]\n",
    ")\n",
    "\n",
    "print(\"Recall: {}\".format(recall))"
   ]
  },
  {
   "cell_type": "code",
   "execution_count": 77,
   "id": "ac931f37-77bc-4976-a28d-600d230d1426",
   "metadata": {},
   "outputs": [
    {
     "name": "stdout",
     "output_type": "stream",
     "text": [
      "reduction in time         : 96.087%\n",
      "% increase in performance : 2455.455%\n",
      "how many times faster     : 25.555x faster\n"
     ]
    }
   ],
   "source": [
    "reduction = (elapsed_bf_time - elapsed_ann_time) / elapsed_bf_time*100.00\n",
    "increase  = (elapsed_bf_time - elapsed_ann_time)/elapsed_ann_time*100.00\n",
    "faster    = elapsed_bf_time / elapsed_ann_time\n",
    "\n",
    "print(f\"reduction in time         : {round(reduction, 3)}%\")\n",
    "print(f\"% increase in performance : {round(increase, 3)}%\")\n",
    "print(f\"how many times faster     : {round(faster, 3)}x faster\")"
   ]
  },
  {
   "cell_type": "markdown",
   "id": "8b9fe9a4-dd4e-4b53-9282-0bf682f261fc",
   "metadata": {},
   "source": [
    "**Finished**"
   ]
  }
 ],
 "metadata": {
  "environment": {
   "kernel": "python3",
   "name": "tf2-gpu.2-10.m103",
   "type": "gcloud",
   "uri": "gcr.io/deeplearning-platform-release/tf2-gpu.2-10:m103"
  },
  "kernelspec": {
   "display_name": "Python 3 (ipykernel)",
   "language": "python",
   "name": "python3"
  },
  "language_info": {
   "codemirror_mode": {
    "name": "ipython",
    "version": 3
   },
   "file_extension": ".py",
   "mimetype": "text/x-python",
   "name": "python",
   "nbconvert_exporter": "python",
   "pygments_lexer": "ipython3",
   "version": "3.7.12"
  }
 },
 "nbformat": 4,
 "nbformat_minor": 5
}
