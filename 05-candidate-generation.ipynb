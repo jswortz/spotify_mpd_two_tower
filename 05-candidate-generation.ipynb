{
 "cells": [
  {
   "cell_type": "markdown",
   "id": "23dce37d-64a0-4acd-9601-7ddcf6c25c8f",
   "metadata": {},
   "source": [
    "# Candidate Generation\n",
    "\n",
    "After Two-Tower training, the `candidate_tower` is used to convert all candidate items into embeddings.\n",
    "\n",
    "The embeddings are indexed and deployed to an endpoint for serving.\n",
    "\n",
    "Steps performed in this notebook:\n",
    "\n",
    "1. Create a test dataset to send to the query endpoint \n",
    "2. Submit the `endpoint.predict()` calls to get the query vector representation\n",
    "3. Inspect the records and familiarize, check for data quality\n"
   ]
  },
  {
   "cell_type": "markdown",
   "id": "ff350dca-064b-45c2-a0ba-d3cbb7d67284",
   "metadata": {},
   "source": [
    "## Load env config"
   ]
  },
  {
   "cell_type": "code",
   "execution_count": 1,
   "id": "35127644-ba21-44e1-a535-309f3aa733da",
   "metadata": {},
   "outputs": [
    {
     "name": "stdout",
     "output_type": "stream",
     "text": [
      "PREFIX = ndr-v1\n"
     ]
    }
   ],
   "source": [
    "# naming convention for all cloud resources\n",
    "VERSION        = \"v1\"                  # TODO\n",
    "PREFIX         = f'ndr-{VERSION}'      # TODO\n",
    "\n",
    "print(f\"PREFIX = {PREFIX}\")"
   ]
  },
  {
   "cell_type": "code",
   "execution_count": 2,
   "id": "336fdab8-9523-419c-85e5-f52ea8c9eb11",
   "metadata": {},
   "outputs": [
    {
     "name": "stdout",
     "output_type": "stream",
     "text": [
      "\n",
      "PROJECT_ID               = \"hybrid-vertex\"\n",
      "PROJECT_NUM              = \"934903580331\"\n",
      "LOCATION                 = \"us-central1\"\n",
      "\n",
      "REGION                   = \"us-central1\"\n",
      "BQ_LOCATION              = \"US\"\n",
      "VPC_NETWORK_NAME         = \"ucaip-haystack-vpc-network\"\n",
      "\n",
      "VERTEX_SA                = \"934903580331-compute@developer.gserviceaccount.com\"\n",
      "\n",
      "PREFIX                   = \"ndr-v1\"\n",
      "VERSION                  = \"v1\"\n",
      "\n",
      "APP                      = \"sp\"\n",
      "MODEL_TYPE               = \"2tower\"\n",
      "FRAMEWORK                = \"tfrs\"\n",
      "DATA_VERSION             = \"v1\"\n",
      "TRACK_HISTORY            = \"5\"\n",
      "\n",
      "BUCKET_NAME              = \"ndr-v1-hybrid-vertex-bucket\"\n",
      "BUCKET_URI               = \"gs://ndr-v1-hybrid-vertex-bucket\"\n",
      "SOURCE_BUCKET            = \"spotify-million-playlist-dataset\"\n",
      "\n",
      "DATA_GCS_PREFIX          = \"data\"\n",
      "DATA_PATH                = \"gs://ndr-v1-hybrid-vertex-bucket/data\"\n",
      "VOCAB_SUBDIR             = \"vocabs\"\n",
      "VOCAB_FILENAME           = \"vocab_dict.pkl\"\n",
      "\n",
      "CANDIDATE_PREFIX         = \"candidates\"\n",
      "TRAIN_DIR_PREFIX         = \"train\"\n",
      "VALID_DIR_PREFIX         = \"valid\"\n",
      "\n",
      "VPC_NETWORK_FULL         = \"projects/934903580331/global/networks/ucaip-haystack-vpc-network\"\n",
      "\n",
      "BQ_DATASET               = \"spotify_e2e_test\"\n",
      "\n",
      "REPO_SRC                 = \"src\"\n",
      "PIPELINES_SUB_DIR        = \"feature_pipes\"\n",
      "\n",
      "REPOSITORY               = \"ndr-v1-spotify\"\n",
      "IMAGE_NAME               = \"train-v1\"\n",
      "REMOTE_IMAGE_NAME        = \"us-central1-docker.pkg.dev/hybrid-vertex/ndr-v1-spotify/train-v1\"\n",
      "DOCKERNAME               = \"tfrs\"\n",
      "\n",
      "SERVING_IMAGE_URI_CPU    = \"us-docker.pkg.dev/vertex-ai/prediction/tf2-cpu.2-11:latest\"\n",
      "SERVING_IMAGE_URI_GPU    = \"us-docker.pkg.dev/vertex-ai/prediction/tf2-gpu.2-11:latest\"\n",
      "\n"
     ]
    }
   ],
   "source": [
    "# staging GCS\n",
    "GCP_PROJECTS             = !gcloud config get-value project\n",
    "PROJECT_ID               = GCP_PROJECTS[0]\n",
    "\n",
    "# GCS bucket and paths\n",
    "BUCKET_NAME              = f'{PREFIX}-{PROJECT_ID}-bucket'\n",
    "BUCKET_URI               = f'gs://{BUCKET_NAME}'\n",
    "\n",
    "config = !gsutil cat {BUCKET_URI}/config/notebook_env.py\n",
    "print(config.n)\n",
    "exec(config.n)"
   ]
  },
  {
   "cell_type": "markdown",
   "id": "5c5602db-904a-4f38-8463-7120e84a9437",
   "metadata": {},
   "source": [
    "### imports"
   ]
  },
  {
   "cell_type": "code",
   "execution_count": 3,
   "id": "48ef9b81-a1ea-49d1-979f-d8ba3e55adc6",
   "metadata": {},
   "outputs": [],
   "source": [
    "import json\n",
    "import numpy as np\n",
    "import pickle as pkl\n",
    "from pprint import pprint\n",
    "import time\n",
    "\n",
    "import os\n",
    "\n",
    "os.environ['TF_CPP_MIN_LOG_LEVEL'] = '2' \n",
    "\n",
    "import tensorflow as tf\n",
    "import tensorflow_recommenders as tfrs\n",
    "import tensorflow_io as tfio\n",
    "\n",
    "from google.cloud import storage\n",
    "from google.cloud.storage.bucket import Bucket\n",
    "from google.cloud.storage.blob import Blob\n",
    "\n",
    "import google.cloud.aiplatform as vertex_ai\n",
    "\n",
    "from src.two_tower_jt import two_tower as tt\n",
    "from src.two_tower_jt import train_utils\n",
    "from src.two_tower_jt import feature_sets"
   ]
  },
  {
   "cell_type": "code",
   "execution_count": 4,
   "id": "f9e62214-3ee4-47f3-9469-a28965eefaee",
   "metadata": {},
   "outputs": [
    {
     "data": {
      "text/plain": [
       "[PhysicalDevice(name='/physical_device:GPU:0', device_type='GPU'),\n",
       " PhysicalDevice(name='/physical_device:GPU:1', device_type='GPU')]"
      ]
     },
     "execution_count": 4,
     "metadata": {},
     "output_type": "execute_result"
    }
   ],
   "source": [
    "gpus = tf.config.experimental.list_physical_devices('GPU')\n",
    "for gpu in gpus:\n",
    "    tf.config.experimental.set_memory_growth(gpu, True)\n",
    "    \n",
    "gpus"
   ]
  },
  {
   "cell_type": "markdown",
   "id": "ba3cea8b-fa51-48f8-9757-7b22f5032857",
   "metadata": {},
   "source": [
    "## Embedding index path"
   ]
  },
  {
   "cell_type": "code",
   "execution_count": 6,
   "id": "9d57f6ae-14bd-4183-a1df-3a7c56c473ca",
   "metadata": {},
   "outputs": [
    {
     "name": "stdout",
     "output_type": "stream",
     "text": [
      "PATH_TO_INDEX_DIR: local-train-v1/run-20230919-135222\n"
     ]
    }
   ],
   "source": [
    "# TODO - grab from saved candiate_embedding.json URI\n",
    "# local-train-v1/run-20230919-135222/candidates/candidate_embeddings.json\n",
    "\n",
    "EXPERIMENT_NAME   = \"local-train-v1\"      # TODO\n",
    "RUN_NAME          = \"run-20230919-135222\" # TODO\n",
    "\n",
    "PATH_TO_INDEX_DIR = f'{EXPERIMENT_NAME}/{RUN_NAME}'\n",
    "print(f\"PATH_TO_INDEX_DIR: {PATH_TO_INDEX_DIR}\")"
   ]
  },
  {
   "cell_type": "code",
   "execution_count": 8,
   "id": "06f7cf93-0810-458c-ae3f-af07d162604a",
   "metadata": {},
   "outputs": [
    {
     "data": {
      "text/plain": [
       "'gs://ndr-v1-hybrid-vertex-bucket'"
      ]
     },
     "execution_count": 8,
     "metadata": {},
     "output_type": "execute_result"
    }
   ],
   "source": [
    "BUCKET_URI"
   ]
  },
  {
   "cell_type": "code",
   "execution_count": 14,
   "id": "6d905d16-b1c5-4d66-add2-dadd541a38fe",
   "metadata": {},
   "outputs": [
    {
     "name": "stdout",
     "output_type": "stream",
     "text": [
      "gs://ndr-v1-hybrid-vertex-bucket/local-train-v1/run-20230919-135222/\n",
      "gs://ndr-v1-hybrid-vertex-bucket/local-train-v1/run-20230919-135222/candidate_model/\n",
      "gs://ndr-v1-hybrid-vertex-bucket/local-train-v1/run-20230919-135222/candidates/\n",
      "gs://ndr-v1-hybrid-vertex-bucket/local-train-v1/run-20230919-135222/query_model/\n",
      "gs://ndr-v1-hybrid-vertex-bucket/local-train-v1/run-20230919-135222/tb-logs/\n"
     ]
    }
   ],
   "source": [
    "! gsutil ls $BUCKET_URI/$EXPERIMENT_NAME/$RUN_NAME\n",
    "\n",
    "# ====================================================== #\n",
    "\n",
    "# PATH_TO_INDEX_DIR = 'customtest5-trainerv3/run-20230321-005425' # 50e-8m-128d\n",
    "# PATH_TO_INDEX_DIR = 'test-e2e-v1-trainerv4/run-20230410-232135' #/model-dir/candidate_model'\n",
    "# PATH_TO_INDEX_DIR = '8m-tfrs-v100-jtv15/run-20230125-205451' # 50e-8m-128d\n",
    "# PATH_TO_INDEX_DIR = 'customtest5-trainerv3/run-20230321-005425' # 50e-8m-128d\n",
    "\n",
    "# ====================================================== #"
   ]
  },
  {
   "cell_type": "code",
   "execution_count": 15,
   "id": "485028ff-e7a1-463a-ae3a-9ea72c39ed07",
   "metadata": {},
   "outputs": [
    {
     "name": "stdout",
     "output_type": "stream",
     "text": [
      "CANDIDATE_MODEL_DIR: gs://ndr-v1-hybrid-vertex-bucket/local-train-v1/run-20230919-135222/candidate_model\n"
     ]
    }
   ],
   "source": [
    "# full gcs path\n",
    "CANDIDATE_MODEL_GCS_PATH = f'{PATH_TO_INDEX_DIR}/model-dir/candidate_model'\n",
    "# CANDIDATE_MODEL_GCS_PATH = f'{PATH_TO_INDEX_DIR}/candidate_model' # tmp - TODO\n",
    "\n",
    "CANDIDATE_MODEL_DIR = f'{BUCKET_URI}/{CANDIDATE_MODEL_GCS_PATH}'\n",
    "print(f\"CANDIDATE_MODEL_DIR: {CANDIDATE_MODEL_DIR}\")"
   ]
  },
  {
   "cell_type": "code",
   "execution_count": 16,
   "id": "4761374c-ec81-4be2-aa38-ba5751609aa5",
   "metadata": {},
   "outputs": [
    {
     "name": "stdout",
     "output_type": "stream",
     "text": [
      "gs://ndr-v1-hybrid-vertex-bucket/local-train-v1/run-20230919-135222/candidate_model/\n",
      "gs://ndr-v1-hybrid-vertex-bucket/local-train-v1/run-20230919-135222/candidate_model/fingerprint.pb\n",
      "gs://ndr-v1-hybrid-vertex-bucket/local-train-v1/run-20230919-135222/candidate_model/saved_model.pb\n",
      "gs://ndr-v1-hybrid-vertex-bucket/local-train-v1/run-20230919-135222/candidate_model/assets/\n",
      "gs://ndr-v1-hybrid-vertex-bucket/local-train-v1/run-20230919-135222/candidate_model/variables/\n"
     ]
    }
   ],
   "source": [
    "! gsutil ls $CANDIDATE_MODEL_DIR"
   ]
  },
  {
   "cell_type": "markdown",
   "id": "40dc2140-f27d-4eca-8164-63af2294f56f",
   "metadata": {},
   "source": [
    "## Load Candidate `SavedModel`"
   ]
  },
  {
   "cell_type": "code",
   "execution_count": 17,
   "id": "3886b062-b146-4be1-8884-7621de96e02d",
   "metadata": {},
   "outputs": [
    {
     "data": {
      "text/plain": [
       "_SignatureMap({'serving_default': <ConcreteFunction signature_wrapper(*, artist_genres_can, track_uri_can, track_time_signature_can, artist_name_can, track_valence_can, track_loudness_can, track_tempo_can, track_liveness_can, album_uri_can, track_name_can, track_instrumentalness_can, duration_ms_can, artist_followers_can, album_name_can, track_mode_can, track_speechiness_can, artist_uri_can, track_key_can, track_pop_can, track_acousticness_can, track_energy_can, track_danceability_can, artist_pop_can) at 0x7FD987B08510>})"
      ]
     },
     "execution_count": 17,
     "metadata": {},
     "output_type": "execute_result"
    }
   ],
   "source": [
    "candidate_tower_uri = f'{CANDIDATE_MODEL_DIR}' # vertex trained\n",
    "loaded_candidate_model = tf.saved_model.load(candidate_tower_uri)\n",
    "loaded_candidate_model.signatures"
   ]
  },
  {
   "cell_type": "code",
   "execution_count": 18,
   "id": "bef25c58-eb42-4f4b-a4d2-5304d371aa1b",
   "metadata": {},
   "outputs": [
    {
     "name": "stdout",
     "output_type": "stream",
     "text": [
      "['serving_default']\n"
     ]
    }
   ],
   "source": [
    "print(list(loaded_candidate_model.signatures.keys()))"
   ]
  },
  {
   "cell_type": "code",
   "execution_count": 19,
   "id": "a416aead-8da1-4845-bff9-56f5dedf93ad",
   "metadata": {},
   "outputs": [
    {
     "name": "stdout",
     "output_type": "stream",
     "text": [
      "{'output_1': TensorSpec(shape=(None, 128), dtype=tf.float32, name='output_1')}\n"
     ]
    }
   ],
   "source": [
    "candidate_predictor = loaded_candidate_model.signatures[\"serving_default\"]\n",
    "print(candidate_predictor.structured_outputs)"
   ]
  },
  {
   "cell_type": "code",
   "execution_count": 20,
   "id": "e2de03c0-4fea-448e-822e-be686ca53617",
   "metadata": {},
   "outputs": [
    {
     "data": {
      "text/plain": [
       "{'output_1': TensorShape([None, 128])}"
      ]
     },
     "execution_count": 20,
     "metadata": {},
     "output_type": "execute_result"
    }
   ],
   "source": [
    "candidate_predictor.output_shapes"
   ]
  },
  {
   "cell_type": "markdown",
   "id": "33f25833-95b6-48b2-bb4e-0f44870ac6de",
   "metadata": {},
   "source": [
    "## Candidate Dataset"
   ]
  },
  {
   "cell_type": "markdown",
   "id": "9b0f764b-2661-4bf3-8d8a-73e95252b7fc",
   "metadata": {},
   "source": [
    "### helper functions"
   ]
  },
  {
   "cell_type": "code",
   "execution_count": 21,
   "id": "302f2b08-86e4-4519-a267-9b9783142b83",
   "metadata": {},
   "outputs": [],
   "source": [
    "storage_client = storage.Client(project=PROJECT_ID)\n",
    "\n",
    "options = tf.data.Options()\n",
    "options.experimental_distribute.auto_shard_policy = tf.data.experimental.AutoShardPolicy.DATA"
   ]
  },
  {
   "cell_type": "code",
   "execution_count": 22,
   "id": "40a571dd-c26c-4d06-81ca-6eea6713b3bf",
   "metadata": {},
   "outputs": [
    {
     "data": {
      "text/plain": [
       "{'track_uri_can': FixedLenFeature(shape=(), dtype=tf.string, default_value=None),\n",
       " 'track_name_can': FixedLenFeature(shape=(), dtype=tf.string, default_value=None),\n",
       " 'artist_uri_can': FixedLenFeature(shape=(), dtype=tf.string, default_value=None),\n",
       " 'artist_name_can': FixedLenFeature(shape=(), dtype=tf.string, default_value=None),\n",
       " 'album_uri_can': FixedLenFeature(shape=(), dtype=tf.string, default_value=None),\n",
       " 'album_name_can': FixedLenFeature(shape=(), dtype=tf.string, default_value=None),\n",
       " 'duration_ms_can': FixedLenFeature(shape=(), dtype=tf.float32, default_value=None),\n",
       " 'track_pop_can': FixedLenFeature(shape=(), dtype=tf.float32, default_value=None),\n",
       " 'artist_pop_can': FixedLenFeature(shape=(), dtype=tf.float32, default_value=None),\n",
       " 'artist_genres_can': FixedLenFeature(shape=(), dtype=tf.string, default_value=None),\n",
       " 'artist_followers_can': FixedLenFeature(shape=(), dtype=tf.float32, default_value=None),\n",
       " 'track_danceability_can': FixedLenFeature(shape=(), dtype=tf.float32, default_value=None),\n",
       " 'track_energy_can': FixedLenFeature(shape=(), dtype=tf.float32, default_value=None),\n",
       " 'track_key_can': FixedLenFeature(shape=(), dtype=tf.string, default_value=None),\n",
       " 'track_loudness_can': FixedLenFeature(shape=(), dtype=tf.float32, default_value=None),\n",
       " 'track_mode_can': FixedLenFeature(shape=(), dtype=tf.string, default_value=None),\n",
       " 'track_speechiness_can': FixedLenFeature(shape=(), dtype=tf.float32, default_value=None),\n",
       " 'track_acousticness_can': FixedLenFeature(shape=(), dtype=tf.float32, default_value=None),\n",
       " 'track_instrumentalness_can': FixedLenFeature(shape=(), dtype=tf.float32, default_value=None),\n",
       " 'track_liveness_can': FixedLenFeature(shape=(), dtype=tf.float32, default_value=None),\n",
       " 'track_valence_can': FixedLenFeature(shape=(), dtype=tf.float32, default_value=None),\n",
       " 'track_tempo_can': FixedLenFeature(shape=(), dtype=tf.float32, default_value=None),\n",
       " 'track_time_signature_can': FixedLenFeature(shape=(), dtype=tf.string, default_value=None)}"
      ]
     },
     "execution_count": 22,
     "metadata": {},
     "output_type": "execute_result"
    }
   ],
   "source": [
    "candidate_features = feature_sets.get_candidate_features()\n",
    "candidate_features"
   ]
  },
  {
   "cell_type": "markdown",
   "id": "f9122a86-1659-434d-8f88-a46dbdcc1623",
   "metadata": {},
   "source": [
    "## Candidate Records"
   ]
  },
  {
   "cell_type": "code",
   "execution_count": 23,
   "id": "b6fd698b-f06e-40f1-81c8-7b1f266ce297",
   "metadata": {},
   "outputs": [],
   "source": [
    "CANDIDATE_PREFIX = f'data/{DATA_VERSION}/candidates' "
   ]
  },
  {
   "cell_type": "code",
   "execution_count": 24,
   "id": "871fdb33-cdd7-490d-91f0-2fcd33819b43",
   "metadata": {},
   "outputs": [],
   "source": [
    "candidate_files = []\n",
    "for blob in storage_client.list_blobs(f\"{BUCKET_NAME}\", prefix=f'{CANDIDATE_PREFIX}/'):\n",
    "    if '.tfrecords' in blob.name:\n",
    "        candidate_files.append(blob.public_url.replace(\"https://storage.googleapis.com/\", \"gs://\"))\n",
    "\n",
    "candidate_dataset = tf.data.Dataset.from_tensor_slices(candidate_files)\n",
    "\n",
    "parsed_candidate_dataset = candidate_dataset.interleave(\n",
    "    # lambda x: tf.data.TFRecordDataset(x),\n",
    "    train_utils.full_parse,\n",
    "    cycle_length=tf.data.AUTOTUNE, \n",
    "    num_parallel_calls=tf.data.AUTOTUNE,\n",
    "    deterministic=False\n",
    ").map(\n",
    "    feature_sets.parse_candidate_tfrecord_fn, \n",
    "    num_parallel_calls=tf.data.AUTOTUNE\n",
    ").with_options(\n",
    "    options\n",
    ")\n",
    "\n",
    "parsed_candidate_dataset = parsed_candidate_dataset.cache() #400 MB on machine mem"
   ]
  },
  {
   "cell_type": "code",
   "execution_count": 25,
   "id": "4948d822-f53b-4d7b-806a-716f092ea220",
   "metadata": {},
   "outputs": [
    {
     "name": "stdout",
     "output_type": "stream",
     "text": [
      "{'album_name_can': <tf.Tensor: shape=(), dtype=string, numpy=b'Thanatophobia'>,\n",
      " 'album_uri_can': <tf.Tensor: shape=(), dtype=string, numpy=b'spotify:album:5GBUYg5EqeDI0CuszAvDzj'>,\n",
      " 'artist_followers_can': <tf.Tensor: shape=(), dtype=float32, numpy=27438.0>,\n",
      " 'artist_genres_can': <tf.Tensor: shape=(), dtype=string, numpy=b\"'indie garage rock'\">,\n",
      " 'artist_name_can': <tf.Tensor: shape=(), dtype=string, numpy=b'Worn-Tin'>,\n",
      " 'artist_pop_can': <tf.Tensor: shape=(), dtype=float32, numpy=40.0>,\n",
      " 'artist_uri_can': <tf.Tensor: shape=(), dtype=string, numpy=b'spotify:artist:7j8ds7BnqaEKuz1a1GN0J9'>,\n",
      " 'duration_ms_can': <tf.Tensor: shape=(), dtype=float32, numpy=216923.0>,\n",
      " 'track_acousticness_can': <tf.Tensor: shape=(), dtype=float32, numpy=0.655>,\n",
      " 'track_danceability_can': <tf.Tensor: shape=(), dtype=float32, numpy=0.321>,\n",
      " 'track_energy_can': <tf.Tensor: shape=(), dtype=float32, numpy=0.555>,\n",
      " 'track_instrumentalness_can': <tf.Tensor: shape=(), dtype=float32, numpy=0.752>,\n",
      " 'track_key_can': <tf.Tensor: shape=(), dtype=string, numpy=b'4.0'>,\n",
      " 'track_liveness_can': <tf.Tensor: shape=(), dtype=float32, numpy=0.117>,\n",
      " 'track_loudness_can': <tf.Tensor: shape=(), dtype=float32, numpy=-9.589>,\n",
      " 'track_mode_can': <tf.Tensor: shape=(), dtype=string, numpy=b'1'>,\n",
      " 'track_name_can': <tf.Tensor: shape=(), dtype=string, numpy=b'Doug'>,\n",
      " 'track_pop_can': <tf.Tensor: shape=(), dtype=float32, numpy=14.0>,\n",
      " 'track_speechiness_can': <tf.Tensor: shape=(), dtype=float32, numpy=0.0323>,\n",
      " 'track_tempo_can': <tf.Tensor: shape=(), dtype=float32, numpy=129.537>,\n",
      " 'track_time_signature_can': <tf.Tensor: shape=(), dtype=string, numpy=b'4'>,\n",
      " 'track_uri_can': <tf.Tensor: shape=(), dtype=string, numpy=b'spotify:track:2XZ3bL3ROk605SPpy6Dn9C'>,\n",
      " 'track_valence_can': <tf.Tensor: shape=(), dtype=float32, numpy=0.21>}\n",
      "_______________\n"
     ]
    }
   ],
   "source": [
    "for features in parsed_candidate_dataset.take(1):\n",
    "    pprint(features)\n",
    "    print(\"_______________\")"
   ]
  },
  {
   "cell_type": "code",
   "execution_count": 26,
   "id": "699ca0eb-efe5-42fd-9190-a9ce644f06eb",
   "metadata": {},
   "outputs": [
    {
     "data": {
      "text/plain": [
       "<CacheDataset element_spec={'album_name_can': TensorSpec(shape=(), dtype=tf.string, name=None), 'album_uri_can': TensorSpec(shape=(), dtype=tf.string, name=None), 'artist_followers_can': TensorSpec(shape=(), dtype=tf.float32, name=None), 'artist_genres_can': TensorSpec(shape=(), dtype=tf.string, name=None), 'artist_name_can': TensorSpec(shape=(), dtype=tf.string, name=None), 'artist_pop_can': TensorSpec(shape=(), dtype=tf.float32, name=None), 'artist_uri_can': TensorSpec(shape=(), dtype=tf.string, name=None), 'duration_ms_can': TensorSpec(shape=(), dtype=tf.float32, name=None), 'track_acousticness_can': TensorSpec(shape=(), dtype=tf.float32, name=None), 'track_danceability_can': TensorSpec(shape=(), dtype=tf.float32, name=None), 'track_energy_can': TensorSpec(shape=(), dtype=tf.float32, name=None), 'track_instrumentalness_can': TensorSpec(shape=(), dtype=tf.float32, name=None), 'track_key_can': TensorSpec(shape=(), dtype=tf.string, name=None), 'track_liveness_can': TensorSpec(shape=(), dtype=tf.float32, name=None), 'track_loudness_can': TensorSpec(shape=(), dtype=tf.float32, name=None), 'track_mode_can': TensorSpec(shape=(), dtype=tf.string, name=None), 'track_name_can': TensorSpec(shape=(), dtype=tf.string, name=None), 'track_pop_can': TensorSpec(shape=(), dtype=tf.float32, name=None), 'track_speechiness_can': TensorSpec(shape=(), dtype=tf.float32, name=None), 'track_tempo_can': TensorSpec(shape=(), dtype=tf.float32, name=None), 'track_time_signature_can': TensorSpec(shape=(), dtype=tf.string, name=None), 'track_uri_can': TensorSpec(shape=(), dtype=tf.string, name=None), 'track_valence_can': TensorSpec(shape=(), dtype=tf.float32, name=None)}>"
      ]
     },
     "execution_count": 26,
     "metadata": {},
     "output_type": "execute_result"
    }
   ],
   "source": [
    "parsed_candidate_dataset"
   ]
  },
  {
   "cell_type": "markdown",
   "id": "f16012fa-f9e0-433f-9b2c-ff0affbb9a15",
   "metadata": {},
   "source": [
    "## Generate Embeddings\n",
    "\n",
    "* use candidate_predictor to produce embeddings for each candidate item\n",
    "* store embeddings in list\n",
    "* zip candidate embeddings and candidate IDs together\n",
    "* write json or csv file for ANN Index"
   ]
  },
  {
   "cell_type": "code",
   "execution_count": 20,
   "id": "328b63a3-ddf5-4c31-9fc5-25137c3270f3",
   "metadata": {},
   "outputs": [
    {
     "name": "stdout",
     "output_type": "stream",
     "text": [
      "Copying gs://jt-tfrs-central/pipe-dev-2tower-tfrs-jtv10/run-20221228-210041/candidates/candidate_embeddings.json...\n",
      "- [1 files][882.4 MiB/882.4 MiB]   68.6 MiB/s                                   \n",
      "Operation completed over 1 objects/882.4 MiB.                                    \n"
     ]
    }
   ],
   "source": [
    "# previously created embedding output\n",
    "# !gsutil cp gs://jt-tfrs-central/pipe-dev-2tower-tfrs-jtv10/run-20221228-210041/candidates/candidate_embeddings.json candidate_embs_20221228_210041.json"
   ]
  },
  {
   "cell_type": "markdown",
   "id": "96c5d1b5-cac0-4261-8974-eed5d576b4fc",
   "metadata": {},
   "source": [
    "### candidate embedding vectors"
   ]
  },
  {
   "cell_type": "code",
   "execution_count": null,
   "id": "52540283-930f-4d04-b26b-abba3df5184e",
   "metadata": {},
   "outputs": [
    {
     "name": "stdout",
     "output_type": "stream",
     "text": [
      "WARNING:tensorflow:From /home/jupyter/.local/lib/python3.7/site-packages/tensorflow/python/autograph/pyct/static_analysis/liveness.py:83: Analyzer.lamba_check (from tensorflow.python.autograph.pyct.static_analysis.liveness) is deprecated and will be removed after 2023-09-23.\n",
      "Instructions for updating:\n",
      "Lambda fuctions will be no more assumed to be used in the statement where they are used, or at least in the same block. https://github.com/tensorflow/tensorflow/issues/56089\n"
     ]
    }
   ],
   "source": [
    "start_time = time.time()\n",
    "\n",
    "embs_iter = parsed_candidate_dataset.batch(1).map(\n",
    "    lambda data: candidate_predictor(\n",
    "        track_uri_can = data[\"track_uri_can\"],\n",
    "        track_name_can = data['track_name_can'],\n",
    "        artist_uri_can = data['artist_uri_can'],\n",
    "        artist_name_can = data['artist_name_can'],\n",
    "        album_uri_can = data['album_uri_can'],\n",
    "        album_name_can = data['album_name_can'],\n",
    "        duration_ms_can = data['duration_ms_can'],\n",
    "        track_pop_can = data['track_pop_can'],\n",
    "        artist_pop_can = data['artist_pop_can'],\n",
    "        artist_genres_can = data['artist_genres_can'],\n",
    "        artist_followers_can = data['artist_followers_can'],\n",
    "        track_danceability_can = data['track_danceability_can'],\n",
    "        track_energy_can = data['track_energy_can'],\n",
    "        track_key_can = data['track_key_can'],\n",
    "        track_loudness_can = data['track_loudness_can'],\n",
    "        track_mode_can = data['track_mode_can'],\n",
    "        track_speechiness_can = data['track_speechiness_can'],\n",
    "        track_acousticness_can = data['track_acousticness_can'],\n",
    "        track_instrumentalness_can = data['track_instrumentalness_can'],\n",
    "        track_liveness_can = data['track_liveness_can'],\n",
    "        track_valence_can = data['track_valence_can'],\n",
    "        track_tempo_can = data['track_tempo_can'],\n",
    "        track_time_signature_can = data['track_time_signature_can']\n",
    "    )\n",
    ")\n",
    "\n",
    "embs = []\n",
    "for emb in embs_iter:\n",
    "    embs.append(emb)\n",
    "\n",
    "end_time = time.time()\n",
    "elapsed_time = int((end_time - start_time) / 60)\n",
    "print(f\"elapsed_time: {elapsed_time}\")\n",
    "\n",
    "print(f\"Length of embs: {len(embs)}\")\n",
    "embs[0]"
   ]
  },
  {
   "cell_type": "code",
   "execution_count": 18,
   "id": "c7d2a511-25bb-4a8d-8406-6cdb5e3c7e1b",
   "metadata": {},
   "outputs": [
    {
     "data": {
      "text/plain": [
       "22439"
      ]
     },
     "execution_count": 18,
     "metadata": {},
     "output_type": "execute_result"
    }
   ],
   "source": [
    "len(embs)"
   ]
  },
  {
   "cell_type": "markdown",
   "id": "140400e7-8252-4120-8411-8152a88180c0",
   "metadata": {},
   "source": [
    "Clean embedding output..."
   ]
  },
  {
   "cell_type": "code",
   "execution_count": 19,
   "id": "b6969996-dcb3-4db0-ab51-915b6b985e7c",
   "metadata": {},
   "outputs": [
    {
     "name": "stdout",
     "output_type": "stream",
     "text": [
      "elapsed_time: 0\n"
     ]
    }
   ],
   "source": [
    "start_time = time.time()\n",
    "\n",
    "cleaned_embs = [x['output_1'].numpy()[0] for x in embs] #clean up the output\n",
    "\n",
    "end_time = time.time()\n",
    "elapsed_time = int((end_time - start_time) / 60)\n",
    "print(f\"elapsed_time: {elapsed_time}\")"
   ]
  },
  {
   "cell_type": "code",
   "execution_count": 20,
   "id": "0dc79e64-aca5-4058-8656-99eb11477854",
   "metadata": {},
   "outputs": [
    {
     "name": "stdout",
     "output_type": "stream",
     "text": [
      "Length of cleaned_embs: 22439\n"
     ]
    },
    {
     "data": {
      "text/plain": [
       "array([-3.9028122 ,  1.9181476 ,  1.9243963 ,  2.9426317 ,  1.0984983 ,\n",
       "       -1.6019711 ,  1.8864298 , -1.8084981 , -1.3143858 , -0.90205085,\n",
       "        1.2199564 , -0.2638863 ,  1.1716616 ,  1.0106726 , -2.5441952 ,\n",
       "        0.09541601,  3.948473  , -1.9981352 ,  3.3929877 , -2.525893  ,\n",
       "        2.6863084 , -0.41343668, -2.2722197 , -1.634059  , -1.1666859 ,\n",
       "       -0.1565485 , -0.83394927, -2.0283368 ,  2.9164486 ,  2.6524365 ,\n",
       "        2.6827588 , -2.8102674 , -1.2629974 , -1.4486234 ,  0.3337267 ,\n",
       "       -0.48273367,  1.0239648 ,  1.824542  ,  0.67638993,  0.3069105 ,\n",
       "       -0.07360408, -3.9400222 , -2.5889518 , -2.4068131 , -2.4706016 ,\n",
       "        3.552813  ,  1.1203581 ,  1.776078  ,  2.845992  , -2.5003004 ,\n",
       "       -3.3703184 ,  1.3982787 ,  1.7066772 ,  3.3853254 , -1.1815181 ,\n",
       "       -3.0160904 ,  3.0032191 ,  2.1965175 ,  0.38071454, -1.4573872 ,\n",
       "       -2.5126364 , -2.5437741 , -2.1613216 , -2.3365564 , -0.29526812,\n",
       "       -2.5087624 , -0.6401027 , -3.3160193 , -1.2088568 ,  0.8280394 ,\n",
       "       -3.0306158 , -1.9933449 , -2.9911666 , -2.925807  , -0.9568784 ,\n",
       "       -3.3922958 , -3.1095893 ,  2.2853506 ,  2.1455579 ,  2.2749848 ,\n",
       "       -1.2486749 ,  1.5113906 , -2.4982545 ,  2.7788687 , -0.651787  ,\n",
       "        0.5320851 ,  2.3862655 ,  1.0111299 ,  2.0335064 ,  0.06489563,\n",
       "       -1.4752872 , -1.9727595 , -1.7274103 ,  2.3248734 , -1.5334082 ,\n",
       "       -0.89421296, -0.92344695, -2.925054  ,  1.0302747 , -2.1442842 ,\n",
       "        2.4509377 ,  3.0343313 ,  1.7424767 , -0.35944504,  1.9482095 ,\n",
       "        3.150366  , -1.5089457 , -1.9360683 ,  2.290617  ,  1.2554106 ,\n",
       "        1.8055823 ,  2.6175294 ,  3.3882642 ,  3.688267  , -0.4131698 ,\n",
       "       -0.25886214, -2.9059029 , -3.5990677 , -3.0428686 , -2.587315  ,\n",
       "        0.15341528,  0.2886206 ,  2.9957376 ,  2.2252057 ,  1.7377553 ,\n",
       "        2.445345  ,  0.06223404,  3.1558518 ], dtype=float32)"
      ]
     },
     "execution_count": 20,
     "metadata": {},
     "output_type": "execute_result"
    }
   ],
   "source": [
    "print(f\"Length of cleaned_embs: {len(cleaned_embs)}\")\n",
    "cleaned_embs[0]"
   ]
  },
  {
   "cell_type": "markdown",
   "id": "3e15ee93-725a-49df-a056-9392799282bd",
   "metadata": {},
   "source": [
    "### candidate IDs"
   ]
  },
  {
   "cell_type": "code",
   "execution_count": null,
   "id": "2fde9926-d898-49a9-bcde-1a1854c8fbd0",
   "metadata": {},
   "outputs": [],
   "source": [
    "# clean product IDs\n",
    "track_uris = [x['track_uri_can'].numpy() for x in parsed_candidate_dataset]\n",
    "\n",
    "print(f\"Length of track_uris: {len(track_uris)}\")\n",
    "\n",
    "track_uris[0]"
   ]
  },
  {
   "cell_type": "code",
   "execution_count": 23,
   "id": "fb203cb7-1254-4257-b6be-3624885eb19d",
   "metadata": {},
   "outputs": [
    {
     "name": "stdout",
     "output_type": "stream",
     "text": [
      "Length of track_uris_decoded: 2262292\n"
     ]
    },
    {
     "data": {
      "text/plain": [
       "'spotify:track:6Nx4UYbpHuU4x5mozUDaQQ'"
      ]
     },
     "execution_count": 23,
     "metadata": {},
     "output_type": "execute_result"
    }
   ],
   "source": [
    "# track_uris_cleaned = [str(z).replace(\"b'\",\"\").replace(\"'\",\"\") for z in track_uris]\n",
    "track_uris_decoded = [z.decode(\"utf-8\") for z in track_uris]\n",
    "\n",
    "print(f\"Length of track_uris_decoded: {len(track_uris_decoded)}\")\n",
    "\n",
    "track_uris_decoded[0]"
   ]
  },
  {
   "cell_type": "code",
   "execution_count": 24,
   "id": "36a10d13-4a0a-4550-a78d-d92489be78ef",
   "metadata": {},
   "outputs": [
    {
     "name": "stdout",
     "output_type": "stream",
     "text": [
      "Length of track_uris: 2262292\n",
      "Length of track_uris_cleaned: 2262292\n"
     ]
    }
   ],
   "source": [
    "print(f\"Length of track_uris: {len(track_uris)}\")\n",
    "print(f\"Length of track_uris_cleaned: {len(track_uris_decoded)}\")"
   ]
  },
  {
   "cell_type": "markdown",
   "id": "270376ce-3d4a-452d-97d6-d54592aebe05",
   "metadata": {},
   "source": [
    "### Check for bad records"
   ]
  },
  {
   "cell_type": "code",
   "execution_count": 25,
   "id": "758258ee-6a11-4fbd-8a48-b0fffc7b6b3d",
   "metadata": {},
   "outputs": [
    {
     "data": {
      "text/plain": [
       "array([-0.4443766 , -2.9618957 , -1.6283664 ,  3.8264632 , -1.1912026 ,\n",
       "       -2.0853355 ,  1.4044247 , -3.3095267 , -2.1489854 , -1.8763275 ,\n",
       "        2.509281  , -2.967039  , -2.9918072 ,  4.151778  ,  2.2562225 ,\n",
       "       -2.998717  ,  2.729978  , -0.5180515 ,  0.20021534, -5.291335  ,\n",
       "        2.078448  , -0.43222326,  2.6752548 ,  1.6742964 ,  3.208346  ,\n",
       "       -2.3055122 ,  1.1319474 , -1.9209781 ,  1.4808187 ,  2.0377028 ,\n",
       "        2.4703784 , -3.1968822 ,  3.2770886 , -0.78494287, -1.2607541 ,\n",
       "       -4.416418  ,  2.2357628 ,  2.8092124 , -2.0393417 ,  1.6224779 ,\n",
       "       -1.8457481 ,  0.3112812 , -1.6624097 ,  1.9860845 , -3.3870966 ,\n",
       "        2.5134103 , -5.2180195 , -2.193615  ,  2.3267477 , -2.2696674 ,\n",
       "       -2.087286  ,  3.44712   ,  2.760911  ,  0.84106797,  0.9023529 ,\n",
       "       -0.24549764,  0.30034775, -0.00608075, -3.5383887 , -0.17121124,\n",
       "       -2.4288304 , -1.5979798 , -0.31901774, -4.903339  , -1.9036381 ,\n",
       "        0.30285656, -4.713433  , -2.3357277 ,  1.9909285 ,  3.1928313 ,\n",
       "        3.640758  ,  2.9117026 ,  5.2358637 , -2.0328205 ,  1.6522455 ,\n",
       "       -0.94465196, -0.257382  ,  4.5634418 ,  2.9396315 ,  0.0461185 ,\n",
       "        2.5074856 ,  3.1374032 , -1.5463455 ,  1.3700105 ,  2.772467  ,\n",
       "       -0.22371602, -1.7650496 ,  2.1896446 , -4.582112  , -2.6467829 ,\n",
       "        2.7259464 , -3.2532868 ,  1.1346602 ,  2.7444477 ,  2.2299857 ,\n",
       "       -4.238215  , -2.0912435 , -2.9078488 , -3.2827487 ,  0.89573205,\n",
       "        0.95955926,  0.01109695,  3.5596066 ,  3.746084  , -4.253272  ,\n",
       "        0.69972146,  1.5912337 , -0.5679357 ,  0.4046573 , -2.4739428 ,\n",
       "        2.7773342 , -0.6534447 , -0.7703515 ,  2.1857173 ,  3.4498205 ,\n",
       "        1.9396657 , -2.0781085 , -1.2211455 ,  4.8867598 , -1.3086077 ,\n",
       "        1.9493332 , -1.9022253 ,  3.9243355 ,  0.83682585,  2.1606498 ,\n",
       "        0.96668184,  2.8452506 , -4.6753945 ], dtype=float32)"
      ]
     },
     "execution_count": 25,
     "metadata": {},
     "output_type": "execute_result"
    }
   ],
   "source": [
    "cleaned_embs[0]"
   ]
  },
  {
   "cell_type": "code",
   "execution_count": 26,
   "id": "5fe1f6f2-d35e-4823-b4cd-035805c30ad0",
   "metadata": {},
   "outputs": [
    {
     "name": "stdout",
     "output_type": "stream",
     "text": [
      "bad_records: 0\n",
      "bad_record_filter: 0\n"
     ]
    }
   ],
   "source": [
    "bad_records = []\n",
    "\n",
    "for i, emb in enumerate(cleaned_embs):\n",
    "    bool_emb = np.isnan(emb)\n",
    "    for val in bool_emb:\n",
    "        if val:\n",
    "            bad_records.append(i)\n",
    "            \n",
    "bad_record_filter = np.unique(bad_records)\n",
    "\n",
    "print(f\"bad_records: {len(bad_records)}\")\n",
    "print(f\"bad_record_filter: {len(bad_record_filter)}\")"
   ]
  },
  {
   "cell_type": "code",
   "execution_count": 27,
   "id": "21e81ff0-7ce5-45d6-a197-5f7f4cccb2a2",
   "metadata": {},
   "outputs": [],
   "source": [
    "# bad_record_filter[0]"
   ]
  },
  {
   "cell_type": "code",
   "execution_count": 28,
   "id": "5f44d09d-09a7-4acf-a0e2-3cca80e49c9d",
   "metadata": {},
   "outputs": [],
   "source": [
    "track_uris_valid = []\n",
    "emb_valid = []\n",
    "\n",
    "for i, pair in enumerate(zip(track_uris_decoded, cleaned_embs)):\n",
    "    if i in bad_record_filter:\n",
    "        pass\n",
    "    else:\n",
    "        t_uri, embed = pair\n",
    "        track_uris_valid.append(t_uri)\n",
    "        emb_valid.append(embed)"
   ]
  },
  {
   "cell_type": "code",
   "execution_count": 29,
   "id": "d0536b04-8337-49e2-8489-0463a3b95896",
   "metadata": {},
   "outputs": [
    {
     "data": {
      "text/plain": [
       "array([-0.4443766 , -2.9618957 , -1.6283664 ,  3.8264632 , -1.1912026 ,\n",
       "       -2.0853355 ,  1.4044247 , -3.3095267 , -2.1489854 , -1.8763275 ,\n",
       "        2.509281  , -2.967039  , -2.9918072 ,  4.151778  ,  2.2562225 ,\n",
       "       -2.998717  ,  2.729978  , -0.5180515 ,  0.20021534, -5.291335  ,\n",
       "        2.078448  , -0.43222326,  2.6752548 ,  1.6742964 ,  3.208346  ,\n",
       "       -2.3055122 ,  1.1319474 , -1.9209781 ,  1.4808187 ,  2.0377028 ,\n",
       "        2.4703784 , -3.1968822 ,  3.2770886 , -0.78494287, -1.2607541 ,\n",
       "       -4.416418  ,  2.2357628 ,  2.8092124 , -2.0393417 ,  1.6224779 ,\n",
       "       -1.8457481 ,  0.3112812 , -1.6624097 ,  1.9860845 , -3.3870966 ,\n",
       "        2.5134103 , -5.2180195 , -2.193615  ,  2.3267477 , -2.2696674 ,\n",
       "       -2.087286  ,  3.44712   ,  2.760911  ,  0.84106797,  0.9023529 ,\n",
       "       -0.24549764,  0.30034775, -0.00608075, -3.5383887 , -0.17121124,\n",
       "       -2.4288304 , -1.5979798 , -0.31901774, -4.903339  , -1.9036381 ,\n",
       "        0.30285656, -4.713433  , -2.3357277 ,  1.9909285 ,  3.1928313 ,\n",
       "        3.640758  ,  2.9117026 ,  5.2358637 , -2.0328205 ,  1.6522455 ,\n",
       "       -0.94465196, -0.257382  ,  4.5634418 ,  2.9396315 ,  0.0461185 ,\n",
       "        2.5074856 ,  3.1374032 , -1.5463455 ,  1.3700105 ,  2.772467  ,\n",
       "       -0.22371602, -1.7650496 ,  2.1896446 , -4.582112  , -2.6467829 ,\n",
       "        2.7259464 , -3.2532868 ,  1.1346602 ,  2.7444477 ,  2.2299857 ,\n",
       "       -4.238215  , -2.0912435 , -2.9078488 , -3.2827487 ,  0.89573205,\n",
       "        0.95955926,  0.01109695,  3.5596066 ,  3.746084  , -4.253272  ,\n",
       "        0.69972146,  1.5912337 , -0.5679357 ,  0.4046573 , -2.4739428 ,\n",
       "        2.7773342 , -0.6534447 , -0.7703515 ,  2.1857173 ,  3.4498205 ,\n",
       "        1.9396657 , -2.0781085 , -1.2211455 ,  4.8867598 , -1.3086077 ,\n",
       "        1.9493332 , -1.9022253 ,  3.9243355 ,  0.83682585,  2.1606498 ,\n",
       "        0.96668184,  2.8452506 , -4.6753945 ], dtype=float32)"
      ]
     },
     "execution_count": 29,
     "metadata": {},
     "output_type": "execute_result"
    }
   ],
   "source": [
    "emb_valid[0]"
   ]
  },
  {
   "cell_type": "code",
   "execution_count": 30,
   "id": "ed856315-b86b-48e1-a72b-2f0c812b891c",
   "metadata": {},
   "outputs": [
    {
     "data": {
      "text/plain": [
       "2262292"
      ]
     },
     "execution_count": 30,
     "metadata": {},
     "output_type": "execute_result"
    }
   ],
   "source": [
    "len(emb_valid)"
   ]
  },
  {
   "cell_type": "code",
   "execution_count": 31,
   "id": "d75969dd-b96c-4c3e-9e7d-ee793dcd4a14",
   "metadata": {},
   "outputs": [
    {
     "data": {
      "text/plain": [
       "'spotify:track:6Nx4UYbpHuU4x5mozUDaQQ'"
      ]
     },
     "execution_count": 31,
     "metadata": {},
     "output_type": "execute_result"
    }
   ],
   "source": [
    "track_uris_valid[0]"
   ]
  },
  {
   "cell_type": "code",
   "execution_count": 32,
   "id": "1ded397c-197d-42ad-873c-8ad452f09cb2",
   "metadata": {},
   "outputs": [
    {
     "data": {
      "text/plain": [
       "2262292"
      ]
     },
     "execution_count": 32,
     "metadata": {},
     "output_type": "execute_result"
    }
   ],
   "source": [
    "len(track_uris_valid)"
   ]
  },
  {
   "cell_type": "markdown",
   "id": "16f184b1-9f0c-4594-924b-45a4370c3c14",
   "metadata": {},
   "source": [
    "### tmp - dealing with bad track uris"
   ]
  },
  {
   "cell_type": "markdown",
   "id": "effc903e-674f-4610-ac30-985ecd7dfacb",
   "metadata": {},
   "source": [
    "## Write embedding vectors to json file"
   ]
  },
  {
   "cell_type": "code",
   "execution_count": 33,
   "id": "692c6aa5-5e50-4283-bea5-924120c7ca84",
   "metadata": {},
   "outputs": [],
   "source": [
    "VERSION = 'local'\n",
    "TIMESTAMP = time.strftime(\"%Y%m%d-%H%M%S\")\n",
    "\n",
    "embeddings_index_filename = f'candidate_embs_{VERSION}_{TIMESTAMP}.json'\n",
    "\n",
    "with open(f'{embeddings_index_filename}', 'w') as f:\n",
    "    for prod, emb in zip(track_uris_valid, emb_valid):\n",
    "        f.write('{\"id\":\"' + str(prod) + '\",')\n",
    "        f.write('\"embedding\":[' + \",\".join(str(x) for x in list(emb)) + \"]}\")\n",
    "        f.write(\"\\n\")"
   ]
  },
  {
   "cell_type": "markdown",
   "id": "61c575e5-21c9-4244-a4b6-92c353f1c9f7",
   "metadata": {},
   "source": [
    "## Upload json to GCS"
   ]
  },
  {
   "cell_type": "code",
   "execution_count": 34,
   "id": "173ec51a-a6c2-4a30-848e-788a854e484c",
   "metadata": {},
   "outputs": [
    {
     "name": "stdout",
     "output_type": "stream",
     "text": [
      "INDEX_GCS_URI: gs://jt-tfrs-central-v2/8m-tfrs-v100-jtv15/run-20230125-205451/candidates-index-local\n",
      "DESTINATION_BLOB_NAME: candidate_embs_local_20230130-180710.json\n",
      "SOURCE_FILE_NAME: candidate_embs_local_20230130-180710.json\n"
     ]
    }
   ],
   "source": [
    "INDEX_GCS_URI = f'gs://{BUCKET_NAME}/{PATH_TO_INDEX_DIR}/candidates-index-{VERSION}'\n",
    "print(f\"INDEX_GCS_URI: {INDEX_GCS_URI}\")\n",
    "\n",
    "DESTINATION_BLOB_NAME = embeddings_index_filename\n",
    "SOURCE_FILE_NAME = embeddings_index_filename\n",
    "\n",
    "print(f\"DESTINATION_BLOB_NAME: {DESTINATION_BLOB_NAME}\")\n",
    "print(f\"SOURCE_FILE_NAME: {SOURCE_FILE_NAME}\")"
   ]
  },
  {
   "cell_type": "code",
   "execution_count": 35,
   "id": "0340e8e7-c29f-4d91-b1d2-6a42e57f0c14",
   "metadata": {},
   "outputs": [],
   "source": [
    "blob = Blob.from_string(os.path.join(INDEX_GCS_URI, DESTINATION_BLOB_NAME))\n",
    "blob.bucket._client = storage_client\n",
    "blob.upload_from_filename(SOURCE_FILE_NAME)"
   ]
  },
  {
   "cell_type": "markdown",
   "id": "18e7a174-af0b-4b9e-bcec-98540f3b8edb",
   "metadata": {},
   "source": [
    "# Inspect track_uris\n",
    "\n",
    "* id in the track_uri should be 22 characters (total of 36 characters including `spotify:track:`)\n",
    "* some track_uris have an id that is 21 characters long\n",
    "* these are not present in the source data (BigQuery)"
   ]
  },
  {
   "cell_type": "code",
   "execution_count": 36,
   "id": "4eab8276-512d-4d93-93e7-dd160106548e",
   "metadata": {},
   "outputs": [
    {
     "name": "stdout",
     "output_type": "stream",
     "text": [
      "count of track_uris_valid: 2262292\n",
      "\n",
      "ex: track_uris_valid[0]: spotify:track:6Nx4UYbpHuU4x5mozUDaQQ\n",
      "\n",
      "length of a track_uris_valid: 36\n",
      "\n"
     ]
    }
   ],
   "source": [
    "len(track_uris_valid)\n",
    "\n",
    "print(f\"count of track_uris_valid: {len(track_uris_valid)}\\n\")\n",
    "print(f\"ex: track_uris_valid[0]: {track_uris_valid[0]}\\n\")\n",
    "print(f\"length of a track_uris_valid: {len(track_uris_valid[0])}\\n\")"
   ]
  },
  {
   "cell_type": "code",
   "execution_count": 39,
   "id": "98deb670-cc10-418c-b77a-08ea5548bc7d",
   "metadata": {},
   "outputs": [
    {
     "name": "stdout",
     "output_type": "stream",
     "text": [
      "short: 0\n",
      "normal: 2262292\n",
      "long: 0\n"
     ]
    }
   ],
   "source": [
    "short = []\n",
    "normal = []\n",
    "long = []\n",
    "\n",
    "for track_id in track_uris_valid:\n",
    "    if len(track_id)==36:\n",
    "        normal.append(track_id)\n",
    "    if len(track_id)<36:\n",
    "        short.append(track_id)\n",
    "    if len(track_id)>36:\n",
    "        long.append(track_id)\n",
    "        \n",
    "print(f\"short: {len(short)}\")\n",
    "print(f\"normal: {len(normal)}\")\n",
    "print(f\"long: {len(long)}\")"
   ]
  },
  {
   "cell_type": "markdown",
   "id": "8b9fe9a4-dd4e-4b53-9282-0bf682f261fc",
   "metadata": {},
   "source": [
    "**Finished**"
   ]
  }
 ],
 "metadata": {
  "environment": {
   "kernel": "python3",
   "name": "tf2-gpu.2-10.m103",
   "type": "gcloud",
   "uri": "gcr.io/deeplearning-platform-release/tf2-gpu.2-10:m103"
  },
  "kernelspec": {
   "display_name": "Python 3 (ipykernel)",
   "language": "python",
   "name": "python3"
  },
  "language_info": {
   "codemirror_mode": {
    "name": "ipython",
    "version": 3
   },
   "file_extension": ".py",
   "mimetype": "text/x-python",
   "name": "python",
   "nbconvert_exporter": "python",
   "pygments_lexer": "ipython3",
   "version": "3.7.12"
  }
 },
 "nbformat": 4,
 "nbformat_minor": 5
}
