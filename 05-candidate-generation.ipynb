{
 "cells": [
  {
   "cell_type": "markdown",
   "id": "23dce37d-64a0-4acd-9601-7ddcf6c25c8f",
   "metadata": {},
   "source": [
    "# Candidate Generation\n",
    "\n",
    "After Two-Tower training, the `candidate_tower` is used to convert all candidate items into embeddings.\n",
    "\n",
    "The embeddings are indexed and deployed to an index endpoint for serving.\n",
    "\n",
    "Steps performed in this notebook:\n",
    "\n",
    "1. Create a test dataset to send to the query endpoint \n",
    "2. Submit the `endpoint.predict()` calls to get the query vector representation\n",
    "3. Inspect the records and familiarize, check for data quality\n"
   ]
  },
  {
   "cell_type": "markdown",
   "id": "ff350dca-064b-45c2-a0ba-d3cbb7d67284",
   "metadata": {},
   "source": [
    "## Load env config"
   ]
  },
  {
   "cell_type": "code",
   "execution_count": 1,
   "id": "35127644-ba21-44e1-a535-309f3aa733da",
   "metadata": {},
   "outputs": [
    {
     "name": "stdout",
     "output_type": "stream",
     "text": [
      "PREFIX = ndr-v1\n"
     ]
    }
   ],
   "source": [
    "# naming convention for all cloud resources\n",
    "VERSION        = \"v1\"                  # TODO\n",
    "PREFIX         = f'ndr-{VERSION}'      # TODO\n",
    "\n",
    "print(f\"PREFIX = {PREFIX}\")"
   ]
  },
  {
   "cell_type": "code",
   "execution_count": 2,
   "id": "336fdab8-9523-419c-85e5-f52ea8c9eb11",
   "metadata": {},
   "outputs": [
    {
     "name": "stdout",
     "output_type": "stream",
     "text": [
      "\n",
      "PROJECT_ID               = \"cpg-cdp\"\n",
      "PROJECT_NUM              = \"939655404703\"\n",
      "LOCATION                 = \"us-central1\"\n",
      "\n",
      "REGION                   = \"us-central1\"\n",
      "BQ_LOCATION              = \"US\"\n",
      "VPC_NETWORK_NAME         = \"genai-haystack-vpc\"\n",
      "\n",
      "VERTEX_SA                = \"939655404703-compute@developer.gserviceaccount.com\"\n",
      "\n",
      "PREFIX                   = \"ndr-v1\"\n",
      "VERSION                  = \"v1\"\n",
      "\n",
      "APP                      = \"sp\"\n",
      "MODEL_TYPE               = \"2tower\"\n",
      "FRAMEWORK                = \"tfrs\"\n",
      "DATA_VERSION             = \"v1\"\n",
      "TRACK_HISTORY            = \"5\"\n",
      "\n",
      "BUCKET_NAME              = \"ndr-v1-cpg-cdp-bucket\"\n",
      "BUCKET_URI               = \"gs://ndr-v1-cpg-cdp-bucket\"\n",
      "SOURCE_BUCKET            = \"spotify-million-playlist-dataset\"\n",
      "\n",
      "DATA_GCS_PREFIX          = \"data\"\n",
      "DATA_PATH                = \"gs://ndr-v1-cpg-cdp-bucket/data\"\n",
      "VOCAB_SUBDIR             = \"vocabs\"\n",
      "VOCAB_FILENAME           = \"vocab_dict.pkl\"\n",
      "\n",
      "CANDIDATE_PREFIX         = \"candidates\"\n",
      "TRAIN_DIR_PREFIX         = \"train\"\n",
      "VALID_DIR_PREFIX         = \"valid\"\n",
      "\n",
      "VPC_NETWORK_FULL         = \"projects/939655404703/global/networks/genai-haystack-vpc\"\n",
      "\n",
      "BQ_DATASET               = \"spotify_e2e_test\"\n",
      "BQ_TABLE_TRAIN           = \"train_flatten_last_5\"\n",
      "BQ_TABLE_VALID           = \"train_flatten_valid_last_5\"\n",
      "BQ_TABLE_CANDIDATES      = \"candidates\"\n",
      "\n",
      "REPO_SRC                 = \"src\"\n",
      "PIPELINES_SUB_DIR        = \"feature_pipes\"\n",
      "\n",
      "REPOSITORY               = \"ndr-v1-spotify\"\n",
      "IMAGE_NAME               = \"train-v1\"\n",
      "REMOTE_IMAGE_NAME        = \"us-central1-docker.pkg.dev/cpg-cdp/ndr-v1-spotify/train-v1\"\n",
      "DOCKERNAME               = \"tfrs\"\n",
      "\n",
      "SERVING_IMAGE_URI_CPU    = \"us-docker.pkg.dev/vertex-ai/prediction/tf2-cpu.2-11:latest\"\n",
      "SERVING_IMAGE_URI_GPU    = \"us-docker.pkg.dev/vertex-ai/prediction/tf2-gpu.2-11:latest\"\n",
      "\n"
     ]
    }
   ],
   "source": [
    "# staging GCS\n",
    "GCP_PROJECTS             = !gcloud config get-value project\n",
    "PROJECT_ID               = GCP_PROJECTS[0]\n",
    "\n",
    "# GCS bucket and paths\n",
    "BUCKET_NAME              = f'{PREFIX}-{PROJECT_ID}-bucket'\n",
    "BUCKET_URI               = f'gs://{BUCKET_NAME}'\n",
    "\n",
    "config = !gsutil cat {BUCKET_URI}/config/notebook_env.py\n",
    "print(config.n)\n",
    "exec(config.n)"
   ]
  },
  {
   "cell_type": "markdown",
   "id": "5c5602db-904a-4f38-8463-7120e84a9437",
   "metadata": {},
   "source": [
    "### imports"
   ]
  },
  {
   "cell_type": "code",
   "execution_count": 3,
   "id": "48ef9b81-a1ea-49d1-979f-d8ba3e55adc6",
   "metadata": {},
   "outputs": [],
   "source": [
    "import json\n",
    "import numpy as np\n",
    "import pickle as pkl\n",
    "from pprint import pprint\n",
    "import time\n",
    "\n",
    "import os\n",
    "\n",
    "os.environ['TF_CPP_MIN_LOG_LEVEL'] = '2'\n",
    "\n",
    "# GPU\n",
    "import gc\n",
    "from numba import cuda\n",
    "\n",
    "import tensorflow as tf\n",
    "import tensorflow_recommenders as tfrs\n",
    "import tensorflow_io as tfio\n",
    "\n",
    "from google.cloud import storage\n",
    "from google.cloud.storage.bucket import Bucket\n",
    "from google.cloud.storage.blob import Blob\n",
    "\n",
    "import google.cloud.aiplatform as vertex_ai\n",
    "\n",
    "from src.two_tower_jt import two_tower as tt\n",
    "from src.two_tower_jt import train_utils\n",
    "from src.two_tower_jt import feature_sets"
   ]
  },
  {
   "cell_type": "code",
   "execution_count": 4,
   "id": "f9e62214-3ee4-47f3-9469-a28965eefaee",
   "metadata": {},
   "outputs": [
    {
     "name": "stdout",
     "output_type": "stream",
     "text": [
      "Num GPUs Available:  1\n"
     ]
    }
   ],
   "source": [
    "# gpus = tf.config.experimental.list_physical_devices('GPU')\n",
    "# for gpu in gpus:\n",
    "#     tf.config.experimental.set_memory_growth(gpu, True)\n",
    "    \n",
    "print(\"Num GPUs Available: \", len(tf.config.list_physical_devices('GPU')))"
   ]
  },
  {
   "cell_type": "code",
   "execution_count": 5,
   "id": "5f692228-502d-4a6b-97c7-a83aa8b20649",
   "metadata": {},
   "outputs": [
    {
     "data": {
      "text/plain": [
       "22"
      ]
     },
     "execution_count": 5,
     "metadata": {},
     "output_type": "execute_result"
    }
   ],
   "source": [
    "device = cuda.get_current_device()\n",
    "device.reset()\n",
    "gc.collect()"
   ]
  },
  {
   "cell_type": "markdown",
   "id": "ba3cea8b-fa51-48f8-9757-7b22f5032857",
   "metadata": {},
   "source": [
    "## Embedding index path"
   ]
  },
  {
   "cell_type": "code",
   "execution_count": 6,
   "id": "9d57f6ae-14bd-4183-a1df-3a7c56c473ca",
   "metadata": {},
   "outputs": [
    {
     "name": "stdout",
     "output_type": "stream",
     "text": [
      "PATH_TO_INDEX_DIR: local-train-v2/run-20230925-234505\n"
     ]
    }
   ],
   "source": [
    "# TODO - grab from saved candiate_embedding.json URI\n",
    "# local-train-v1/run-20230919-135222/candidates/candidate_embeddings.json\n",
    "\n",
    "EXPERIMENT_NAME   = \"local-train-v2\"      # TODO\n",
    "RUN_NAME          = \"run-20230925-234505\" # TODO\n",
    "\n",
    "PATH_TO_INDEX_DIR = f'{EXPERIMENT_NAME}/{RUN_NAME}'\n",
    "print(f\"PATH_TO_INDEX_DIR: {PATH_TO_INDEX_DIR}\")"
   ]
  },
  {
   "cell_type": "code",
   "execution_count": 7,
   "id": "6d905d16-b1c5-4d66-add2-dadd541a38fe",
   "metadata": {},
   "outputs": [
    {
     "name": "stdout",
     "output_type": "stream",
     "text": [
      "gs://ndr-v1-cpg-cdp-bucket/local-train-v2/run-20230925-234505/\n",
      "gs://ndr-v1-cpg-cdp-bucket/local-train-v2/run-20230925-234505/model-dir/\n"
     ]
    }
   ],
   "source": [
    "! gsutil ls $BUCKET_URI/$EXPERIMENT_NAME/$RUN_NAME"
   ]
  },
  {
   "cell_type": "code",
   "execution_count": 8,
   "id": "485028ff-e7a1-463a-ae3a-9ea72c39ed07",
   "metadata": {},
   "outputs": [
    {
     "name": "stdout",
     "output_type": "stream",
     "text": [
      "CANDIDATE_MODEL_DIR: gs://ndr-v1-cpg-cdp-bucket/local-train-v2/run-20230925-234505/model-dir/candidate_model\n"
     ]
    }
   ],
   "source": [
    "# full gcs path\n",
    "CANDIDATE_MODEL_GCS_PATH = f'{PATH_TO_INDEX_DIR}/model-dir/candidate_model'\n",
    "# CANDIDATE_MODEL_GCS_PATH = f'{PATH_TO_INDEX_DIR}/candidate_model' # tmp - TODO\n",
    "\n",
    "CANDIDATE_MODEL_DIR = f'{BUCKET_URI}/{CANDIDATE_MODEL_GCS_PATH}'\n",
    "print(f\"CANDIDATE_MODEL_DIR: {CANDIDATE_MODEL_DIR}\")"
   ]
  },
  {
   "cell_type": "code",
   "execution_count": 9,
   "id": "4761374c-ec81-4be2-aa38-ba5751609aa5",
   "metadata": {},
   "outputs": [
    {
     "name": "stdout",
     "output_type": "stream",
     "text": [
      "gs://ndr-v1-cpg-cdp-bucket/local-train-v2/run-20230925-234505/model-dir/candidate_model/\n",
      "gs://ndr-v1-cpg-cdp-bucket/local-train-v2/run-20230925-234505/model-dir/candidate_model/fingerprint.pb\n",
      "gs://ndr-v1-cpg-cdp-bucket/local-train-v2/run-20230925-234505/model-dir/candidate_model/saved_model.pb\n",
      "gs://ndr-v1-cpg-cdp-bucket/local-train-v2/run-20230925-234505/model-dir/candidate_model/assets/\n",
      "gs://ndr-v1-cpg-cdp-bucket/local-train-v2/run-20230925-234505/model-dir/candidate_model/variables/\n"
     ]
    }
   ],
   "source": [
    "! gsutil ls $CANDIDATE_MODEL_DIR"
   ]
  },
  {
   "cell_type": "markdown",
   "id": "40dc2140-f27d-4eca-8164-63af2294f56f",
   "metadata": {},
   "source": [
    "## Load Candidate `SavedModel`"
   ]
  },
  {
   "cell_type": "code",
   "execution_count": 10,
   "id": "3886b062-b146-4be1-8884-7621de96e02d",
   "metadata": {},
   "outputs": [
    {
     "data": {
      "text/plain": [
       "_SignatureMap({'serving_default': <ConcreteFunction signature_wrapper(*, track_speechiness_can, track_valence_can, album_name_can, track_mode_can, album_uri_can, track_time_signature_can, track_uri_can, track_name_can, artist_pop_can, track_danceability_can, artist_genres_can, track_instrumentalness_can, track_key_can, artist_name_can, artist_uri_can, track_liveness_can, track_energy_can, duration_ms_can, artist_followers_can, track_acousticness_can, track_loudness_can, track_pop_can, track_tempo_can) at 0x7F67E80B8A00>})"
      ]
     },
     "execution_count": 10,
     "metadata": {},
     "output_type": "execute_result"
    }
   ],
   "source": [
    "candidate_tower_uri = f'{CANDIDATE_MODEL_DIR}' # vertex trained\n",
    "loaded_candidate_model = tf.saved_model.load(candidate_tower_uri)\n",
    "\n",
    "loaded_candidate_model.signatures"
   ]
  },
  {
   "cell_type": "code",
   "execution_count": 11,
   "id": "bef25c58-eb42-4f4b-a4d2-5304d371aa1b",
   "metadata": {},
   "outputs": [
    {
     "name": "stdout",
     "output_type": "stream",
     "text": [
      "['serving_default']\n"
     ]
    }
   ],
   "source": [
    "print(list(loaded_candidate_model.signatures.keys()))"
   ]
  },
  {
   "cell_type": "code",
   "execution_count": 12,
   "id": "a416aead-8da1-4845-bff9-56f5dedf93ad",
   "metadata": {},
   "outputs": [
    {
     "name": "stdout",
     "output_type": "stream",
     "text": [
      "{'output_1': TensorSpec(shape=(None, 128), dtype=tf.float32, name='output_1')}\n"
     ]
    }
   ],
   "source": [
    "candidate_predictor = loaded_candidate_model.signatures[\"serving_default\"]\n",
    "print(candidate_predictor.structured_outputs)"
   ]
  },
  {
   "cell_type": "code",
   "execution_count": 13,
   "id": "e2de03c0-4fea-448e-822e-be686ca53617",
   "metadata": {},
   "outputs": [
    {
     "data": {
      "text/plain": [
       "{'output_1': TensorShape([None, 128])}"
      ]
     },
     "execution_count": 13,
     "metadata": {},
     "output_type": "execute_result"
    }
   ],
   "source": [
    "candidate_predictor.output_shapes"
   ]
  },
  {
   "cell_type": "markdown",
   "id": "33f25833-95b6-48b2-bb4e-0f44870ac6de",
   "metadata": {},
   "source": [
    "## Candidate Dataset"
   ]
  },
  {
   "cell_type": "markdown",
   "id": "9b0f764b-2661-4bf3-8d8a-73e95252b7fc",
   "metadata": {},
   "source": [
    "### helper functions"
   ]
  },
  {
   "cell_type": "code",
   "execution_count": 14,
   "id": "302f2b08-86e4-4519-a267-9b9783142b83",
   "metadata": {},
   "outputs": [],
   "source": [
    "storage_client = storage.Client(project=PROJECT_ID)\n",
    "\n",
    "options = tf.data.Options()\n",
    "options.experimental_distribute.auto_shard_policy = tf.data.experimental.AutoShardPolicy.DATA"
   ]
  },
  {
   "cell_type": "code",
   "execution_count": 15,
   "id": "40a571dd-c26c-4d06-81ca-6eea6713b3bf",
   "metadata": {},
   "outputs": [
    {
     "data": {
      "text/plain": [
       "{'track_uri_can': FixedLenFeature(shape=(), dtype=tf.string, default_value=None),\n",
       " 'track_name_can': FixedLenFeature(shape=(), dtype=tf.string, default_value=None),\n",
       " 'artist_uri_can': FixedLenFeature(shape=(), dtype=tf.string, default_value=None),\n",
       " 'artist_name_can': FixedLenFeature(shape=(), dtype=tf.string, default_value=None),\n",
       " 'album_uri_can': FixedLenFeature(shape=(), dtype=tf.string, default_value=None),\n",
       " 'album_name_can': FixedLenFeature(shape=(), dtype=tf.string, default_value=None),\n",
       " 'duration_ms_can': FixedLenFeature(shape=(), dtype=tf.float32, default_value=None),\n",
       " 'track_pop_can': FixedLenFeature(shape=(), dtype=tf.float32, default_value=None),\n",
       " 'artist_pop_can': FixedLenFeature(shape=(), dtype=tf.float32, default_value=None),\n",
       " 'artist_genres_can': FixedLenFeature(shape=(), dtype=tf.string, default_value=None),\n",
       " 'artist_followers_can': FixedLenFeature(shape=(), dtype=tf.float32, default_value=None),\n",
       " 'track_danceability_can': FixedLenFeature(shape=(), dtype=tf.float32, default_value=None),\n",
       " 'track_energy_can': FixedLenFeature(shape=(), dtype=tf.float32, default_value=None),\n",
       " 'track_key_can': FixedLenFeature(shape=(), dtype=tf.string, default_value=None),\n",
       " 'track_loudness_can': FixedLenFeature(shape=(), dtype=tf.float32, default_value=None),\n",
       " 'track_mode_can': FixedLenFeature(shape=(), dtype=tf.string, default_value=None),\n",
       " 'track_speechiness_can': FixedLenFeature(shape=(), dtype=tf.float32, default_value=None),\n",
       " 'track_acousticness_can': FixedLenFeature(shape=(), dtype=tf.float32, default_value=None),\n",
       " 'track_instrumentalness_can': FixedLenFeature(shape=(), dtype=tf.float32, default_value=None),\n",
       " 'track_liveness_can': FixedLenFeature(shape=(), dtype=tf.float32, default_value=None),\n",
       " 'track_valence_can': FixedLenFeature(shape=(), dtype=tf.float32, default_value=None),\n",
       " 'track_tempo_can': FixedLenFeature(shape=(), dtype=tf.float32, default_value=None),\n",
       " 'track_time_signature_can': FixedLenFeature(shape=(), dtype=tf.string, default_value=None)}"
      ]
     },
     "execution_count": 15,
     "metadata": {},
     "output_type": "execute_result"
    }
   ],
   "source": [
    "candidate_features = feature_sets.get_candidate_features()\n",
    "candidate_features"
   ]
  },
  {
   "cell_type": "markdown",
   "id": "f9122a86-1659-434d-8f88-a46dbdcc1623",
   "metadata": {},
   "source": [
    "## Candidate Records"
   ]
  },
  {
   "cell_type": "code",
   "execution_count": 16,
   "id": "b6fd698b-f06e-40f1-81c8-7b1f266ce297",
   "metadata": {},
   "outputs": [],
   "source": [
    "CANDIDATE_PREFIX = f'candidates' "
   ]
  },
  {
   "cell_type": "code",
   "execution_count": 17,
   "id": "871fdb33-cdd7-490d-91f0-2fcd33819b43",
   "metadata": {},
   "outputs": [],
   "source": [
    "candidate_files = []\n",
    "\n",
    "for blob in storage_client.list_blobs(f\"{BUCKET_NAME}\", prefix=f'data/{DATA_VERSION}/{CANDIDATE_PREFIX}'):\n",
    "    candidate_files.append(blob.public_url.replace(\"https://storage.googleapis.com/\", \"gs://\"))\n",
    "\n",
    "candidate_dataset = tf.data.Dataset.from_tensor_slices(candidate_files)\n",
    "\n",
    "parsed_candidate_dataset = candidate_dataset.interleave(\n",
    "    # lambda x: tf.data.TFRecordDataset(x),\n",
    "    train_utils.full_parse,\n",
    "    cycle_length=tf.data.AUTOTUNE, \n",
    "    num_parallel_calls=tf.data.AUTOTUNE,\n",
    "    deterministic=False\n",
    ").map(\n",
    "    feature_sets.parse_candidate_tfrecord_fn, \n",
    "    num_parallel_calls=tf.data.AUTOTUNE\n",
    ").with_options(\n",
    "    options\n",
    ")\n",
    "\n",
    "# parsed_candidate_dataset = parsed_candidate_dataset.cache() #400 MB on machine mem"
   ]
  },
  {
   "cell_type": "code",
   "execution_count": 18,
   "id": "4948d822-f53b-4d7b-806a-716f092ea220",
   "metadata": {},
   "outputs": [
    {
     "name": "stdout",
     "output_type": "stream",
     "text": [
      "{'album_name_can': <tf.Tensor: shape=(), dtype=string, numpy=b'Umrika (Original Motion Picture Soundtrack)'>,\n",
      " 'album_uri_can': <tf.Tensor: shape=(), dtype=string, numpy=b'spotify:album:1hu9GSsmHdixMdQMcmg59m'>,\n",
      " 'artist_followers_can': <tf.Tensor: shape=(), dtype=float32, numpy=165156.0>,\n",
      " 'artist_genres_can': <tf.Tensor: shape=(), dtype=string, numpy=b\"'compositional ambient', 'neo-classical'\">,\n",
      " 'artist_name_can': <tf.Tensor: shape=(), dtype=string, numpy=b\"Dustin O'Halloran\">,\n",
      " 'artist_pop_can': <tf.Tensor: shape=(), dtype=float32, numpy=62.0>,\n",
      " 'artist_uri_can': <tf.Tensor: shape=(), dtype=string, numpy=b'spotify:artist:6UEYawMcp2M4JFoXVOtZEq'>,\n",
      " 'duration_ms_can': <tf.Tensor: shape=(), dtype=float32, numpy=126640.0>,\n",
      " 'track_acousticness_can': <tf.Tensor: shape=(), dtype=float32, numpy=0.958>,\n",
      " 'track_danceability_can': <tf.Tensor: shape=(), dtype=float32, numpy=0.107>,\n",
      " 'track_energy_can': <tf.Tensor: shape=(), dtype=float32, numpy=0.00108>,\n",
      " 'track_instrumentalness_can': <tf.Tensor: shape=(), dtype=float32, numpy=0.855>,\n",
      " 'track_key_can': <tf.Tensor: shape=(), dtype=string, numpy=b'1.0'>,\n",
      " 'track_liveness_can': <tf.Tensor: shape=(), dtype=float32, numpy=0.0697>,\n",
      " 'track_loudness_can': <tf.Tensor: shape=(), dtype=float32, numpy=-41.959>,\n",
      " 'track_mode_can': <tf.Tensor: shape=(), dtype=string, numpy=b'1'>,\n",
      " 'track_name_can': <tf.Tensor: shape=(), dtype=string, numpy=b'Farewell My Brother'>,\n",
      " 'track_pop_can': <tf.Tensor: shape=(), dtype=float32, numpy=19.0>,\n",
      " 'track_speechiness_can': <tf.Tensor: shape=(), dtype=float32, numpy=0.0455>,\n",
      " 'track_tempo_can': <tf.Tensor: shape=(), dtype=float32, numpy=64.411>,\n",
      " 'track_time_signature_can': <tf.Tensor: shape=(), dtype=string, numpy=b'4'>,\n",
      " 'track_uri_can': <tf.Tensor: shape=(), dtype=string, numpy=b'spotify:track:4yHc5LZQBLi0H3PpvcM0S8'>,\n",
      " 'track_valence_can': <tf.Tensor: shape=(), dtype=float32, numpy=0.0459>}\n",
      "_______________\n"
     ]
    }
   ],
   "source": [
    "for features in parsed_candidate_dataset.take(1):\n",
    "    pprint(features)\n",
    "    print(\"_______________\")"
   ]
  },
  {
   "cell_type": "code",
   "execution_count": 19,
   "id": "699ca0eb-efe5-42fd-9190-a9ce644f06eb",
   "metadata": {},
   "outputs": [
    {
     "data": {
      "text/plain": [
       "<_OptionsDataset element_spec={'album_name_can': TensorSpec(shape=(), dtype=tf.string, name=None), 'album_uri_can': TensorSpec(shape=(), dtype=tf.string, name=None), 'artist_followers_can': TensorSpec(shape=(), dtype=tf.float32, name=None), 'artist_genres_can': TensorSpec(shape=(), dtype=tf.string, name=None), 'artist_name_can': TensorSpec(shape=(), dtype=tf.string, name=None), 'artist_pop_can': TensorSpec(shape=(), dtype=tf.float32, name=None), 'artist_uri_can': TensorSpec(shape=(), dtype=tf.string, name=None), 'duration_ms_can': TensorSpec(shape=(), dtype=tf.float32, name=None), 'track_acousticness_can': TensorSpec(shape=(), dtype=tf.float32, name=None), 'track_danceability_can': TensorSpec(shape=(), dtype=tf.float32, name=None), 'track_energy_can': TensorSpec(shape=(), dtype=tf.float32, name=None), 'track_instrumentalness_can': TensorSpec(shape=(), dtype=tf.float32, name=None), 'track_key_can': TensorSpec(shape=(), dtype=tf.string, name=None), 'track_liveness_can': TensorSpec(shape=(), dtype=tf.float32, name=None), 'track_loudness_can': TensorSpec(shape=(), dtype=tf.float32, name=None), 'track_mode_can': TensorSpec(shape=(), dtype=tf.string, name=None), 'track_name_can': TensorSpec(shape=(), dtype=tf.string, name=None), 'track_pop_can': TensorSpec(shape=(), dtype=tf.float32, name=None), 'track_speechiness_can': TensorSpec(shape=(), dtype=tf.float32, name=None), 'track_tempo_can': TensorSpec(shape=(), dtype=tf.float32, name=None), 'track_time_signature_can': TensorSpec(shape=(), dtype=tf.string, name=None), 'track_uri_can': TensorSpec(shape=(), dtype=tf.string, name=None), 'track_valence_can': TensorSpec(shape=(), dtype=tf.float32, name=None)}>"
      ]
     },
     "execution_count": 19,
     "metadata": {},
     "output_type": "execute_result"
    }
   ],
   "source": [
    "parsed_candidate_dataset"
   ]
  },
  {
   "cell_type": "markdown",
   "id": "f16012fa-f9e0-433f-9b2c-ff0affbb9a15",
   "metadata": {},
   "source": [
    "## Generate Embeddings\n",
    "\n",
    "* use candidate_predictor to produce embeddings for each candidate item\n",
    "* store embeddings in list\n",
    "* zip candidate embeddings and candidate IDs together\n",
    "* write json or csv file for ANN Index"
   ]
  },
  {
   "cell_type": "code",
   "execution_count": 26,
   "id": "328b63a3-ddf5-4c31-9fc5-25137c3270f3",
   "metadata": {},
   "outputs": [],
   "source": [
    "# previously created embedding output\n",
    "# !gsutil cp gs://jt-tfrs-central/pipe-dev-2tower-tfrs-jtv10/run-20221228-210041/candidates/candidate_embeddings.json candidate_embs_20221228_210041.json"
   ]
  },
  {
   "cell_type": "markdown",
   "id": "96c5d1b5-cac0-4261-8974-eed5d576b4fc",
   "metadata": {},
   "source": [
    "### candidate embedding vectors"
   ]
  },
  {
   "cell_type": "code",
   "execution_count": 64,
   "id": "52540283-930f-4d04-b26b-abba3df5184e",
   "metadata": {
    "tags": []
   },
   "outputs": [
    {
     "name": "stdout",
     "output_type": "stream",
     "text": [
      "elapsed_time: 4\n",
      "Length of embs: 225\n"
     ]
    }
   ],
   "source": [
    "start_time = time.time()\n",
    "\n",
    "embs_iter = parsed_candidate_dataset.batch(10000).map(\n",
    "    lambda data: ( data[\"track_uri_can\"]\n",
    "                  ,loaded_candidate_model(data)\n",
    "                 )\n",
    ")\n",
    "\n",
    "embs = []\n",
    "for emb in embs_iter:\n",
    "    embs.append(emb)\n",
    "\n",
    "end_time = time.time()\n",
    "elapsed_time = int((end_time - start_time) / 60)\n",
    "print(f\"elapsed_time: {elapsed_time}\")\n",
    "\n",
    "print(f\"Length of embs: {len(embs)}\")"
   ]
  },
  {
   "cell_type": "code",
   "execution_count": 65,
   "id": "c7d2a511-25bb-4a8d-8406-6cdb5e3c7e1b",
   "metadata": {},
   "outputs": [
    {
     "data": {
      "text/plain": [
       "225"
      ]
     },
     "execution_count": 65,
     "metadata": {},
     "output_type": "execute_result"
    }
   ],
   "source": [
    "len(embs)"
   ]
  },
  {
   "cell_type": "markdown",
   "id": "140400e7-8252-4120-8411-8152a88180c0",
   "metadata": {},
   "source": [
    "Clean embedding output..."
   ]
  },
  {
   "cell_type": "code",
   "execution_count": 67,
   "id": "56e9ff30-4b80-497e-ad2c-dc37e6aa5217",
   "metadata": {},
   "outputs": [],
   "source": [
    "x,y = embs[0]"
   ]
  },
  {
   "cell_type": "code",
   "execution_count": 68,
   "id": "99d25704-b99e-4af1-bb7b-aa41cd2835d7",
   "metadata": {},
   "outputs": [
    {
     "data": {
      "text/plain": [
       "<tf.Tensor: shape=(10000, 128), dtype=float32, numpy=\n",
       "array([[-8.7547451e-03,  4.2965940e-01, -1.0579184e+00, ...,\n",
       "         1.6157944e+00,  4.3617558e-01, -2.7654117e-01],\n",
       "       [-1.9227499e-02,  4.5463973e-01, -1.0684842e+00, ...,\n",
       "         1.6337469e+00,  4.2655101e-01, -2.8603643e-01],\n",
       "       [-9.2109451e-03,  4.4887713e-01, -1.0705423e+00, ...,\n",
       "         1.6187896e+00,  4.5349970e-01, -2.6657170e-01],\n",
       "       ...,\n",
       "       [-1.3473387e-02,  4.3278840e-01, -1.0706969e+00, ...,\n",
       "         1.6102661e+00,  4.4447958e-01, -2.7042493e-01],\n",
       "       [-4.3208394e-03,  4.6292099e-01, -1.0493214e+00, ...,\n",
       "         1.6673964e+00,  4.1343227e-01, -2.9339111e-01],\n",
       "       [ 9.2331978e-04,  4.6530294e-01, -1.0548621e+00, ...,\n",
       "         1.6409998e+00,  4.2484501e-01, -2.6843005e-01]], dtype=float32)>"
      ]
     },
     "execution_count": 68,
     "metadata": {},
     "output_type": "execute_result"
    }
   ],
   "source": [
    "y"
   ]
  },
  {
   "cell_type": "code",
   "execution_count": 79,
   "id": "b6969996-dcb3-4db0-ab51-915b6b985e7c",
   "metadata": {},
   "outputs": [
    {
     "name": "stdout",
     "output_type": "stream",
     "text": [
      "elapsed_time: 0\n"
     ]
    }
   ],
   "source": [
    "start_time = time.time()\n",
    "\n",
    "cleaned_embs = [] #clean up the output\n",
    "track_uris = []\n",
    "for ids , embedding in embs:\n",
    "    cleaned_embs.extend(embedding.numpy())\n",
    "    track_uris.extend(ids.numpy())\n",
    "\n",
    "end_time = time.time()\n",
    "elapsed_time = int((end_time - start_time) / 60)\n",
    "print(f\"elapsed_time: {elapsed_time}\")"
   ]
  },
  {
   "cell_type": "code",
   "execution_count": 82,
   "id": "0dc79e64-aca5-4058-8656-99eb11477854",
   "metadata": {},
   "outputs": [
    {
     "name": "stdout",
     "output_type": "stream",
     "text": [
      "Length of cleaned_embs: 2243885\n"
     ]
    },
    {
     "data": {
      "text/plain": [
       "array([-0.00875475,  0.4296594 , -1.0579184 ,  0.33055162,  0.75509065,\n",
       "       -1.2682275 ,  0.40074062,  1.2643234 ,  1.4407821 , -0.81765157,\n",
       "        1.0556922 , -0.38197348, -0.50490004,  0.16666569, -0.8488423 ,\n",
       "        0.6206088 ,  1.0948801 , -1.4514679 ,  1.6594619 ,  1.393434  ,\n",
       "        1.3103865 ,  0.5871945 , -0.77169776, -0.77867335,  0.30685037,\n",
       "       -1.091643  , -0.02446085, -0.44908383,  0.5722308 ,  1.1759523 ,\n",
       "       -0.8426078 ,  0.14493963,  0.90350306, -0.5260758 , -0.45274788,\n",
       "       -0.93923473,  0.75078434, -1.1178484 ,  0.5522108 ,  0.16904452,\n",
       "       -0.47102752, -1.2308649 , -0.39195207,  1.0723114 , -0.15880573,\n",
       "        0.36832523, -1.0887698 , -1.3357592 ,  0.8934939 , -0.79218334,\n",
       "       -0.21843508,  0.17024872,  1.3688272 ,  0.8668576 , -0.1617419 ,\n",
       "       -0.48149663,  0.46772346,  0.99565965, -0.7618725 ,  0.1475042 ,\n",
       "       -0.6342002 ,  0.33067462,  0.15164517, -1.3497765 , -1.3240782 ,\n",
       "        0.76521456, -1.2219937 , -0.7931432 ,  0.97855496,  0.7467413 ,\n",
       "       -0.02284818, -1.7751491 ,  0.56792647, -0.12896144, -0.0579375 ,\n",
       "       -0.5185563 , -0.7565005 , -0.80555063, -1.1301348 , -0.11285232,\n",
       "        0.3331379 ,  0.14850451, -0.83839   ,  1.4484423 ,  0.28467232,\n",
       "        0.9029052 , -0.7156413 ,  0.93304956, -0.7816973 , -1.4596479 ,\n",
       "        1.1668905 , -0.6932967 , -0.12366682,  0.7515199 ,  0.35072482,\n",
       "       -0.8035156 , -0.19282989, -1.4523159 ,  0.5372954 , -0.8343574 ,\n",
       "        0.6229277 , -0.91178715,  1.2217942 ,  0.09963001,  0.10299594,\n",
       "        0.6492107 , -0.36633113, -1.0306698 ,  1.1886839 ,  0.43315023,\n",
       "        0.8821403 ,  1.0549035 ,  0.78654313,  0.4184367 ,  1.3331281 ,\n",
       "        1.3401752 , -0.62402946, -0.45836085, -0.8325017 , -1.1248122 ,\n",
       "       -0.8744741 , -0.8500382 ,  1.6569259 , -0.35547775,  0.10615328,\n",
       "        1.6157944 ,  0.43617558, -0.27654117], dtype=float32)"
      ]
     },
     "execution_count": 82,
     "metadata": {},
     "output_type": "execute_result"
    }
   ],
   "source": [
    "print(f\"Length of cleaned_embs: {len(cleaned_embs)}\")\n",
    "cleaned_embs[0]"
   ]
  },
  {
   "cell_type": "markdown",
   "id": "3e15ee93-725a-49df-a056-9392799282bd",
   "metadata": {},
   "source": [
    "### candidate IDs"
   ]
  },
  {
   "cell_type": "code",
   "execution_count": 83,
   "id": "2fde9926-d898-49a9-bcde-1a1854c8fbd0",
   "metadata": {},
   "outputs": [],
   "source": [
    "# clean product IDs\n",
    "# track_uris = [ids.numpy() for ids , _ in embs]\n",
    "\n",
    "# print(f\"Length of track_uris: {len(track_uris)}\")"
   ]
  },
  {
   "cell_type": "code",
   "execution_count": 84,
   "id": "fb203cb7-1254-4257-b6be-3624885eb19d",
   "metadata": {},
   "outputs": [
    {
     "name": "stdout",
     "output_type": "stream",
     "text": [
      "Length of track_uris_decoded: 2243885\n"
     ]
    },
    {
     "data": {
      "text/plain": [
       "'spotify:track:4yHc5LZQBLi0H3PpvcM0S8'"
      ]
     },
     "execution_count": 84,
     "metadata": {},
     "output_type": "execute_result"
    }
   ],
   "source": [
    "# track_uris_cleaned = [str(z).replace(\"b'\",\"\").replace(\"'\",\"\") for z in track_uris]\n",
    "track_uris_decoded = [z.decode(\"utf-8\") for z in track_uris]\n",
    "\n",
    "print(f\"Length of track_uris_decoded: {len(track_uris_decoded)}\")\n",
    "\n",
    "track_uris_decoded[0]"
   ]
  },
  {
   "cell_type": "code",
   "execution_count": 85,
   "id": "36a10d13-4a0a-4550-a78d-d92489be78ef",
   "metadata": {},
   "outputs": [
    {
     "name": "stdout",
     "output_type": "stream",
     "text": [
      "Length of track_uris: 2243885\n",
      "Length of track_uris_cleaned: 2243885\n"
     ]
    }
   ],
   "source": [
    "print(f\"Length of track_uris: {len(track_uris)}\")\n",
    "print(f\"Length of track_uris_cleaned: {len(track_uris_decoded)}\")"
   ]
  },
  {
   "cell_type": "code",
   "execution_count": 86,
   "id": "42e2db67-7b96-4f31-8056-b3f3fa4876b7",
   "metadata": {},
   "outputs": [],
   "source": [
    "# Length of track_uris_cleaned: 2243885\n"
   ]
  },
  {
   "cell_type": "markdown",
   "id": "270376ce-3d4a-452d-97d6-d54592aebe05",
   "metadata": {},
   "source": [
    "### Check for bad records"
   ]
  },
  {
   "cell_type": "code",
   "execution_count": 87,
   "id": "758258ee-6a11-4fbd-8a48-b0fffc7b6b3d",
   "metadata": {},
   "outputs": [
    {
     "data": {
      "text/plain": [
       "array([-0.00875475,  0.4296594 , -1.0579184 ,  0.33055162,  0.75509065,\n",
       "       -1.2682275 ,  0.40074062,  1.2643234 ,  1.4407821 , -0.81765157,\n",
       "        1.0556922 , -0.38197348, -0.50490004,  0.16666569, -0.8488423 ,\n",
       "        0.6206088 ,  1.0948801 , -1.4514679 ,  1.6594619 ,  1.393434  ,\n",
       "        1.3103865 ,  0.5871945 , -0.77169776, -0.77867335,  0.30685037,\n",
       "       -1.091643  , -0.02446085, -0.44908383,  0.5722308 ,  1.1759523 ,\n",
       "       -0.8426078 ,  0.14493963,  0.90350306, -0.5260758 , -0.45274788,\n",
       "       -0.93923473,  0.75078434, -1.1178484 ,  0.5522108 ,  0.16904452,\n",
       "       -0.47102752, -1.2308649 , -0.39195207,  1.0723114 , -0.15880573,\n",
       "        0.36832523, -1.0887698 , -1.3357592 ,  0.8934939 , -0.79218334,\n",
       "       -0.21843508,  0.17024872,  1.3688272 ,  0.8668576 , -0.1617419 ,\n",
       "       -0.48149663,  0.46772346,  0.99565965, -0.7618725 ,  0.1475042 ,\n",
       "       -0.6342002 ,  0.33067462,  0.15164517, -1.3497765 , -1.3240782 ,\n",
       "        0.76521456, -1.2219937 , -0.7931432 ,  0.97855496,  0.7467413 ,\n",
       "       -0.02284818, -1.7751491 ,  0.56792647, -0.12896144, -0.0579375 ,\n",
       "       -0.5185563 , -0.7565005 , -0.80555063, -1.1301348 , -0.11285232,\n",
       "        0.3331379 ,  0.14850451, -0.83839   ,  1.4484423 ,  0.28467232,\n",
       "        0.9029052 , -0.7156413 ,  0.93304956, -0.7816973 , -1.4596479 ,\n",
       "        1.1668905 , -0.6932967 , -0.12366682,  0.7515199 ,  0.35072482,\n",
       "       -0.8035156 , -0.19282989, -1.4523159 ,  0.5372954 , -0.8343574 ,\n",
       "        0.6229277 , -0.91178715,  1.2217942 ,  0.09963001,  0.10299594,\n",
       "        0.6492107 , -0.36633113, -1.0306698 ,  1.1886839 ,  0.43315023,\n",
       "        0.8821403 ,  1.0549035 ,  0.78654313,  0.4184367 ,  1.3331281 ,\n",
       "        1.3401752 , -0.62402946, -0.45836085, -0.8325017 , -1.1248122 ,\n",
       "       -0.8744741 , -0.8500382 ,  1.6569259 , -0.35547775,  0.10615328,\n",
       "        1.6157944 ,  0.43617558, -0.27654117], dtype=float32)"
      ]
     },
     "execution_count": 87,
     "metadata": {},
     "output_type": "execute_result"
    }
   ],
   "source": [
    "cleaned_embs[0]"
   ]
  },
  {
   "cell_type": "code",
   "execution_count": 88,
   "id": "5fe1f6f2-d35e-4823-b4cd-035805c30ad0",
   "metadata": {},
   "outputs": [
    {
     "name": "stdout",
     "output_type": "stream",
     "text": [
      "bad_records: 0\n",
      "bad_record_filter: 0\n"
     ]
    }
   ],
   "source": [
    "bad_records = []\n",
    "\n",
    "for i, emb in enumerate(cleaned_embs):\n",
    "    bool_emb = np.isnan(emb)\n",
    "    for val in bool_emb:\n",
    "        if val:\n",
    "            bad_records.append(i)\n",
    "            \n",
    "bad_record_filter = np.unique(bad_records)\n",
    "\n",
    "print(f\"bad_records: {len(bad_records)}\")\n",
    "print(f\"bad_record_filter: {len(bad_record_filter)}\")"
   ]
  },
  {
   "cell_type": "code",
   "execution_count": 89,
   "id": "21e81ff0-7ce5-45d6-a197-5f7f4cccb2a2",
   "metadata": {},
   "outputs": [],
   "source": [
    "# bad_record_filter[0]"
   ]
  },
  {
   "cell_type": "code",
   "execution_count": 90,
   "id": "5f44d09d-09a7-4acf-a0e2-3cca80e49c9d",
   "metadata": {},
   "outputs": [],
   "source": [
    "track_uris_valid = []\n",
    "emb_valid = []\n",
    "\n",
    "for i, pair in enumerate(zip(track_uris_decoded, cleaned_embs)):\n",
    "    if i in bad_record_filter:\n",
    "        pass\n",
    "    else:\n",
    "        t_uri, embed = pair\n",
    "        track_uris_valid.append(t_uri)\n",
    "        emb_valid.append(embed)"
   ]
  },
  {
   "cell_type": "code",
   "execution_count": 91,
   "id": "d0536b04-8337-49e2-8489-0463a3b95896",
   "metadata": {},
   "outputs": [
    {
     "data": {
      "text/plain": [
       "array([-0.00875475,  0.4296594 , -1.0579184 ,  0.33055162,  0.75509065,\n",
       "       -1.2682275 ,  0.40074062,  1.2643234 ,  1.4407821 , -0.81765157,\n",
       "        1.0556922 , -0.38197348, -0.50490004,  0.16666569, -0.8488423 ,\n",
       "        0.6206088 ,  1.0948801 , -1.4514679 ,  1.6594619 ,  1.393434  ,\n",
       "        1.3103865 ,  0.5871945 , -0.77169776, -0.77867335,  0.30685037,\n",
       "       -1.091643  , -0.02446085, -0.44908383,  0.5722308 ,  1.1759523 ,\n",
       "       -0.8426078 ,  0.14493963,  0.90350306, -0.5260758 , -0.45274788,\n",
       "       -0.93923473,  0.75078434, -1.1178484 ,  0.5522108 ,  0.16904452,\n",
       "       -0.47102752, -1.2308649 , -0.39195207,  1.0723114 , -0.15880573,\n",
       "        0.36832523, -1.0887698 , -1.3357592 ,  0.8934939 , -0.79218334,\n",
       "       -0.21843508,  0.17024872,  1.3688272 ,  0.8668576 , -0.1617419 ,\n",
       "       -0.48149663,  0.46772346,  0.99565965, -0.7618725 ,  0.1475042 ,\n",
       "       -0.6342002 ,  0.33067462,  0.15164517, -1.3497765 , -1.3240782 ,\n",
       "        0.76521456, -1.2219937 , -0.7931432 ,  0.97855496,  0.7467413 ,\n",
       "       -0.02284818, -1.7751491 ,  0.56792647, -0.12896144, -0.0579375 ,\n",
       "       -0.5185563 , -0.7565005 , -0.80555063, -1.1301348 , -0.11285232,\n",
       "        0.3331379 ,  0.14850451, -0.83839   ,  1.4484423 ,  0.28467232,\n",
       "        0.9029052 , -0.7156413 ,  0.93304956, -0.7816973 , -1.4596479 ,\n",
       "        1.1668905 , -0.6932967 , -0.12366682,  0.7515199 ,  0.35072482,\n",
       "       -0.8035156 , -0.19282989, -1.4523159 ,  0.5372954 , -0.8343574 ,\n",
       "        0.6229277 , -0.91178715,  1.2217942 ,  0.09963001,  0.10299594,\n",
       "        0.6492107 , -0.36633113, -1.0306698 ,  1.1886839 ,  0.43315023,\n",
       "        0.8821403 ,  1.0549035 ,  0.78654313,  0.4184367 ,  1.3331281 ,\n",
       "        1.3401752 , -0.62402946, -0.45836085, -0.8325017 , -1.1248122 ,\n",
       "       -0.8744741 , -0.8500382 ,  1.6569259 , -0.35547775,  0.10615328,\n",
       "        1.6157944 ,  0.43617558, -0.27654117], dtype=float32)"
      ]
     },
     "execution_count": 91,
     "metadata": {},
     "output_type": "execute_result"
    }
   ],
   "source": [
    "emb_valid[0]"
   ]
  },
  {
   "cell_type": "code",
   "execution_count": 92,
   "id": "ed856315-b86b-48e1-a72b-2f0c812b891c",
   "metadata": {},
   "outputs": [
    {
     "data": {
      "text/plain": [
       "2243885"
      ]
     },
     "execution_count": 92,
     "metadata": {},
     "output_type": "execute_result"
    }
   ],
   "source": [
    "len(emb_valid)"
   ]
  },
  {
   "cell_type": "code",
   "execution_count": 93,
   "id": "d75969dd-b96c-4c3e-9e7d-ee793dcd4a14",
   "metadata": {},
   "outputs": [
    {
     "data": {
      "text/plain": [
       "'spotify:track:4yHc5LZQBLi0H3PpvcM0S8'"
      ]
     },
     "execution_count": 93,
     "metadata": {},
     "output_type": "execute_result"
    }
   ],
   "source": [
    "track_uris_valid[0]"
   ]
  },
  {
   "cell_type": "code",
   "execution_count": 94,
   "id": "1ded397c-197d-42ad-873c-8ad452f09cb2",
   "metadata": {},
   "outputs": [
    {
     "data": {
      "text/plain": [
       "2243885"
      ]
     },
     "execution_count": 94,
     "metadata": {},
     "output_type": "execute_result"
    }
   ],
   "source": [
    "len(track_uris_valid)"
   ]
  },
  {
   "cell_type": "markdown",
   "id": "16f184b1-9f0c-4594-924b-45a4370c3c14",
   "metadata": {},
   "source": [
    "### tmp - dealing with bad track uris"
   ]
  },
  {
   "cell_type": "markdown",
   "id": "effc903e-674f-4610-ac30-985ecd7dfacb",
   "metadata": {},
   "source": [
    "## Write embedding vectors to json file"
   ]
  },
  {
   "cell_type": "code",
   "execution_count": 95,
   "id": "692c6aa5-5e50-4283-bea5-924120c7ca84",
   "metadata": {},
   "outputs": [],
   "source": [
    "VERSION = 'local'\n",
    "TIMESTAMP = time.strftime(\"%Y%m%d-%H%M%S\")\n",
    "\n",
    "embeddings_index_filename = f'candidate_embs_{VERSION}_{TIMESTAMP}.json'\n",
    "\n",
    "with open(f'{embeddings_index_filename}', 'w') as f:\n",
    "    for prod, emb in zip(track_uris_valid, emb_valid):\n",
    "        f.write('{\"id\":\"' + str(prod) + '\",')\n",
    "        f.write('\"embedding\":[' + \",\".join(str(x) for x in list(emb)) + \"]}\")\n",
    "        f.write(\"\\n\")"
   ]
  },
  {
   "cell_type": "markdown",
   "id": "61c575e5-21c9-4244-a4b6-92c353f1c9f7",
   "metadata": {},
   "source": [
    "## Upload json to GCS"
   ]
  },
  {
   "cell_type": "code",
   "execution_count": 96,
   "id": "173ec51a-a6c2-4a30-848e-788a854e484c",
   "metadata": {},
   "outputs": [
    {
     "name": "stdout",
     "output_type": "stream",
     "text": [
      "INDEX_GCS_URI: gs://ndr-v1-cpg-cdp-bucket/local-train-v2/run-20230925-234505/candidates-index-local\n",
      "DESTINATION_BLOB_NAME: candidate_embs_local_20230926-021921.json\n",
      "SOURCE_FILE_NAME: candidate_embs_local_20230926-021921.json\n"
     ]
    }
   ],
   "source": [
    "INDEX_GCS_URI = f'gs://{BUCKET_NAME}/{PATH_TO_INDEX_DIR}/candidates-index-{VERSION}'\n",
    "print(f\"INDEX_GCS_URI: {INDEX_GCS_URI}\")\n",
    "\n",
    "DESTINATION_BLOB_NAME = embeddings_index_filename\n",
    "SOURCE_FILE_NAME = embeddings_index_filename\n",
    "\n",
    "print(f\"DESTINATION_BLOB_NAME: {DESTINATION_BLOB_NAME}\")\n",
    "print(f\"SOURCE_FILE_NAME: {SOURCE_FILE_NAME}\")"
   ]
  },
  {
   "cell_type": "code",
   "execution_count": 97,
   "id": "0340e8e7-c29f-4d91-b1d2-6a42e57f0c14",
   "metadata": {},
   "outputs": [],
   "source": [
    "blob = Blob.from_string(os.path.join(INDEX_GCS_URI, DESTINATION_BLOB_NAME))\n",
    "blob.bucket._client = storage_client\n",
    "blob.upload_from_filename(SOURCE_FILE_NAME)"
   ]
  },
  {
   "cell_type": "markdown",
   "id": "18e7a174-af0b-4b9e-bcec-98540f3b8edb",
   "metadata": {},
   "source": [
    "# Inspect track_uris\n",
    "\n",
    "* id in the track_uri should be 22 characters (total of 36 characters including `spotify:track:`)\n",
    "* some track_uris have an id that is 21 characters long\n",
    "* these are not present in the source data (BigQuery)"
   ]
  },
  {
   "cell_type": "code",
   "execution_count": 98,
   "id": "4eab8276-512d-4d93-93e7-dd160106548e",
   "metadata": {},
   "outputs": [
    {
     "name": "stdout",
     "output_type": "stream",
     "text": [
      "count of track_uris_valid: 2243885\n",
      "\n",
      "ex: track_uris_valid[0]: spotify:track:4yHc5LZQBLi0H3PpvcM0S8\n",
      "\n",
      "length of a track_uris_valid: 36\n",
      "\n"
     ]
    }
   ],
   "source": [
    "len(track_uris_valid)\n",
    "\n",
    "print(f\"count of track_uris_valid: {len(track_uris_valid)}\\n\")\n",
    "print(f\"ex: track_uris_valid[0]: {track_uris_valid[0]}\\n\")\n",
    "print(f\"length of a track_uris_valid: {len(track_uris_valid[0])}\\n\")"
   ]
  },
  {
   "cell_type": "code",
   "execution_count": 99,
   "id": "98deb670-cc10-418c-b77a-08ea5548bc7d",
   "metadata": {},
   "outputs": [
    {
     "name": "stdout",
     "output_type": "stream",
     "text": [
      "short: 0\n",
      "normal: 2243885\n",
      "long: 0\n"
     ]
    }
   ],
   "source": [
    "short = []\n",
    "normal = []\n",
    "long = []\n",
    "\n",
    "for track_id in track_uris_valid:\n",
    "    if len(track_id)==36:\n",
    "        normal.append(track_id)\n",
    "    if len(track_id)<36:\n",
    "        short.append(track_id)\n",
    "    if len(track_id)>36:\n",
    "        long.append(track_id)\n",
    "        \n",
    "print(f\"short: {len(short)}\")\n",
    "print(f\"normal: {len(normal)}\")\n",
    "print(f\"long: {len(long)}\")"
   ]
  },
  {
   "cell_type": "markdown",
   "id": "8b9fe9a4-dd4e-4b53-9282-0bf682f261fc",
   "metadata": {},
   "source": [
    "**Finished**"
   ]
  }
 ],
 "metadata": {
  "environment": {
   "kernel": "conda-env-tensorflow-tensorflow",
   "name": "workbench-notebooks.m111",
   "type": "gcloud",
   "uri": "gcr.io/deeplearning-platform-release/workbench-notebooks:m111"
  },
  "kernelspec": {
   "display_name": "TensorFlow 2-11",
   "language": "python",
   "name": "conda-env-tensorflow-tensorflow"
  },
  "language_info": {
   "codemirror_mode": {
    "name": "ipython",
    "version": 3
   },
   "file_extension": ".py",
   "mimetype": "text/x-python",
   "name": "python",
   "nbconvert_exporter": "python",
   "pygments_lexer": "ipython3",
   "version": "3.10.12"
  }
 },
 "nbformat": 4,
 "nbformat_minor": 5
}
