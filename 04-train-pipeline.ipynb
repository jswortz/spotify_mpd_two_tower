{
 "cells": [
  {
   "cell_type": "markdown",
   "id": "152d43dc-e7c4-4085-b214-b576e1b4a94e",
   "metadata": {},
   "source": [
    "# Training pipeline for TFRS  2tower model "
   ]
  },
  {
   "cell_type": "markdown",
   "id": "58440717-f517-42f4-bfb1-d22676d04044",
   "metadata": {},
   "source": [
    "```\n",
    "tensorflow==2.10.1\n",
    "tensorflow-cloud==0.1.16\n",
    "tensorflow-datasets==4.6.0\n",
    "tensorflow-estimator==2.10.0\n",
    "tensorflow-hub==0.12.0\n",
    "tensorflow-io==0.27.0\n",
    "tensorflow-io-gcs-filesystem==0.27.0\n",
    "tensorflow-metadata==1.8.0\n",
    "tensorflow-probability==0.18.0\n",
    "tensorflow-recommenders==0.7.2\n",
    "tensorflow-serving-api==2.8.3\n",
    "tensorflow-transform==1.8.0\n",
    "```"
   ]
  },
  {
   "cell_type": "code",
   "execution_count": null,
   "id": "3e6a2a17-2a69-447f-a050-4e5ec3d261fd",
   "metadata": {},
   "outputs": [],
   "source": [
    "# !pip install kfp==1.8.18 --user\n",
    "# !pip install google-cloud-pipeline-components==1.0.32"
   ]
  },
  {
   "cell_type": "code",
   "execution_count": null,
   "id": "43201bb1-8b40-4ae4-a415-b15eee0323cb",
   "metadata": {},
   "outputs": [],
   "source": [
    "# ! python3 -c \"import kfp; print('KFP SDK version: {}'.format(kfp.__version__))\"\n",
    "# ! python3 -c \"import google_cloud_pipeline_components; print('google_cloud_pipeline_components version: {}'.format(google_cloud_pipeline_components.__version__))\"\n",
    "# ! python3 -c \"import google.cloud.aiplatform; print('aiplatform SDK version: {}'.format(google.cloud.aiplatform.__version__))\""
   ]
  },
  {
   "cell_type": "code",
   "execution_count": 1,
   "id": "4e3d319c-84e1-4cd2-8882-0f390bc21e2a",
   "metadata": {},
   "outputs": [
    {
     "name": "stdout",
     "output_type": "stream",
     "text": [
      "PROJECT_ID: hybrid-vertex\n",
      "PROJECT_NUM: 934903580331\n",
      "REGION: us-central1\n"
     ]
    }
   ],
   "source": [
    "GCP_PROJECTS = !gcloud config get-value project\n",
    "PROJECT_ID = GCP_PROJECTS[0]\n",
    "PROJECT_NUM = !gcloud projects list --filter=\"$PROJECT_ID\" --format=\"value(PROJECT_NUMBER)\"\n",
    "PROJECT_NUM = PROJECT_NUM[0]\n",
    "REGION = 'us-central1'\n",
    "\n",
    "print(f\"PROJECT_ID: {PROJECT_ID}\")\n",
    "print(f\"PROJECT_NUM: {PROJECT_NUM}\")\n",
    "print(f\"REGION: {REGION}\")\n",
    "\n",
    "VERTEX_SA = '934903580331-compute@developer.gserviceaccount.com'"
   ]
  },
  {
   "cell_type": "code",
   "execution_count": 2,
   "id": "68a4fb97-bed6-4533-92d3-dbc79e134f5c",
   "metadata": {},
   "outputs": [],
   "source": [
    "import os\n",
    "import json\n",
    "from datetime import datetime\n",
    "from time import time\n",
    "import pandas as pd\n",
    "# disable INFO and DEBUG logging everywhere\n",
    "import logging\n",
    "import time\n",
    "from pprint import pprint\n",
    "\n",
    "logging.disable(logging.WARNING)\n",
    "\n",
    "from google.cloud import aiplatform as vertex_ai\n",
    "from google.cloud import storage\n",
    "\n",
    "# Pipelines\n",
    "from typing import Any, Callable, Dict, NamedTuple, Optional, List\n",
    "from google_cloud_pipeline_components import aiplatform as gcc_aip\n",
    "from google_cloud_pipeline_components.types import artifact_types\n",
    "\n",
    "# Kubeflow SDK\n",
    "# TODO: fix these\n",
    "from kfp.v2 import dsl\n",
    "import kfp\n",
    "import kfp.v2.dsl\n",
    "from kfp.v2.google import client as pipelines_client\n",
    "from kfp.v2.dsl import (Artifact, Dataset, Input, InputPath, Model, Output,\n",
    "                        OutputPath, component)\n",
    "\n",
    "storage_client = storage.Client(project=PROJECT_ID)\n",
    "\n",
    "vertex_ai.init(project=PROJECT_ID,location=REGION)"
   ]
  },
  {
   "cell_type": "code",
   "execution_count": 3,
   "id": "5b3d61c4-83ba-42d8-9b7f-e7aacea5e684",
   "metadata": {},
   "outputs": [],
   "source": [
    "VERSION= \"jtv15-8m\"\n",
    "\n",
    "# TODO: update\n",
    "# BUCKET_DATA_DIR = 'spotify-data-regimes'\n",
    "# TRAIN_DIR_PREFIX = f'{VERSION}/train'                 # subset: valid_v9 | train_v9\n",
    "# VALID_DIR_PREFIX = f'{VERSION}/valid'                 # valid_v9 | train_v9\n",
    "# CANDIDATE_PREFIX = f'{VERSION}/candidates' "
   ]
  },
  {
   "cell_type": "code",
   "execution_count": 4,
   "id": "fd32b85b-b44a-4e17-9c23-98fad8efe064",
   "metadata": {},
   "outputs": [
    {
     "name": "stdout",
     "output_type": "stream",
     "text": [
      "MODEL_ROOT_NAME: sp-2tower-tfrs-jtv15-8m-pipev1\n"
     ]
    }
   ],
   "source": [
    "# PREFIX = 'spotify-2tower'\n",
    "APP='sp'\n",
    "MODEL_TYPE='2tower'\n",
    "FRAMEWORK = 'tfrs'\n",
    "PIPELINE_VERSION = 'pipev1'\n",
    "MODEL_ROOT_NAME = f'{APP}-{MODEL_TYPE}-{FRAMEWORK}-{VERSION}-{PIPELINE_VERSION}'\n",
    "\n",
    "print(f\"MODEL_ROOT_NAME: {MODEL_ROOT_NAME}\")"
   ]
  },
  {
   "cell_type": "markdown",
   "id": "e816a896-4015-4d0b-8a39-04d9a5a5b924",
   "metadata": {},
   "source": [
    "## Write Train files"
   ]
  },
  {
   "cell_type": "code",
   "execution_count": 5,
   "id": "022ba9e5-95fb-47b2-8718-76687ad0dcc5",
   "metadata": {},
   "outputs": [],
   "source": [
    "REPO_DOCKER_PATH_PREFIX = 'src'"
   ]
  },
  {
   "cell_type": "code",
   "execution_count": 6,
   "id": "c02857dd-731b-40ba-ac58-74286774fbf3",
   "metadata": {},
   "outputs": [
    {
     "name": "stdout",
     "output_type": "stream",
     "text": [
      "IMAGE_URI: gcr.io/hybrid-vertex/sp-2tower-tfrs-jtv15-8m-pipev1-training\n"
     ]
    }
   ],
   "source": [
    "# Docker definitions for training\n",
    "IMAGE_NAME = f'{MODEL_ROOT_NAME}-training'\n",
    "IMAGE_URI = f'gcr.io/{PROJECT_ID}/{IMAGE_NAME}'\n",
    "\n",
    "DOCKERNAME = 'tfrs'\n",
    "REPO_DOCKER_PATH_PREFIX = 'src'\n",
    "MACHINE_TYPE ='e2-highcpu-32'\n",
    "FILE_LOCATION = './src'\n",
    "\n",
    "print(f\"IMAGE_URI: {IMAGE_URI}\")"
   ]
  },
  {
   "cell_type": "code",
   "execution_count": 7,
   "id": "46e4a95f-40f2-47b4-af3f-2d49cccd82d1",
   "metadata": {},
   "outputs": [
    {
     "name": "stdout",
     "output_type": "stream",
     "text": [
      "Overwriting src/cloudbuild.yaml\n"
     ]
    }
   ],
   "source": [
    "%%writefile {REPO_DOCKER_PATH_PREFIX}/cloudbuild.yaml\n",
    "\n",
    "steps:\n",
    "- name: 'gcr.io/cloud-builders/docker'\n",
    "  args: ['build', '-t', '$_IMAGE_URI', '$_FILE_LOCATION', '-f', '$_FILE_LOCATION/Dockerfile.$_DOCKERNAME']\n",
    "images:\n",
    "- '$_IMAGE_URI'"
   ]
  },
  {
   "cell_type": "code",
   "execution_count": 8,
   "id": "ad807fb4-b7a4-4ce0-967c-deb73f32536b",
   "metadata": {},
   "outputs": [
    {
     "name": "stdout",
     "output_type": "stream",
     "text": [
      "Overwriting src/two_tower_jt/train_config.py\n"
     ]
    }
   ],
   "source": [
    "%%writefile {REPO_DOCKER_PATH_PREFIX}/two_tower_jt/train_config.py\n",
    "\n",
    "# PROJECT_ID = 'hybrid-vertex'\n",
    "# NEW_ADAPTS = 'True'\n",
    "# USE_CROSS_LAYER = True\n",
    "# USE_DROPOUT = 'True'\n",
    "# SEED = 1234\n",
    "MAX_PLAYLIST_LENGTH = 15\n",
    "# EMBEDDING_DIM = 128   \n",
    "# PROJECTION_DIM = 25  \n",
    "# SEED = 1234\n",
    "# DROPOUT_RATE = 0.33\n",
    "# MAX_TOKENS = 20000"
   ]
  },
  {
   "cell_type": "code",
   "execution_count": 9,
   "id": "1d80ee63-a858-4ffe-9f6d-39e17afb486c",
   "metadata": {},
   "outputs": [
    {
     "name": "stdout",
     "output_type": "stream",
     "text": [
      "Overwriting src/two_tower_jt/requirements.txt\n"
     ]
    }
   ],
   "source": [
    "%%writefile {REPO_DOCKER_PATH_PREFIX}/two_tower_jt/requirements.txt\n",
    "google-cloud-aiplatform>=1.21.0\n",
    "tensorflow-recommenders==0.7.2\n",
    "tensorboard==2.10.1\n",
    "tensorboard-data-server==0.6.1\n",
    "tensorboard-plugin-profile==2.11.1\n",
    "tensorflow-io==0.27.0\n",
    "google-cloud-aiplatform[cloud_profiler]>=1.20.0"
   ]
  },
  {
   "cell_type": "code",
   "execution_count": 10,
   "id": "2b81e499-9dd2-42c6-a2af-91f6849a5b6a",
   "metadata": {},
   "outputs": [
    {
     "name": "stdout",
     "output_type": "stream",
     "text": [
      "Overwriting src/Dockerfile.tfrs\n"
     ]
    }
   ],
   "source": [
    "%%writefile {REPO_DOCKER_PATH_PREFIX}/Dockerfile.{DOCKERNAME}\n",
    "\n",
    "# FROM tensorflow/tensorflow:2.10.1-gpu\n",
    "FROM gcr.io/deeplearning-platform-release/tf-gpu.2-10\n",
    "\n",
    "WORKDIR /src\n",
    "\n",
    "# Copies the trainer code to the docker image.\n",
    "COPY two_tower_jt/* two_tower_jt/ \n",
    "\n",
    "RUN pip install -r two_tower_jt/requirements.txt\n",
    "\n",
    "RUN apt update && apt -y install nvtop\n",
    "\n",
    "# # Sets up the entry point to invoke the trainer.\n",
    "# # ENTRYPOINT [\"python\", \"-m\", \"two_tower_jt.task\"]"
   ]
  },
  {
   "cell_type": "markdown",
   "id": "85623af4-764f-4316-bde2-d4ae8cbbdf60",
   "metadata": {},
   "source": [
    "## Build Custom Train Image"
   ]
  },
  {
   "cell_type": "code",
   "execution_count": 11,
   "id": "c76bfb28-6fd5-4d96-8d17-ba5e8212a43b",
   "metadata": {},
   "outputs": [
    {
     "name": "stdout",
     "output_type": "stream",
     "text": [
      "DOCKERNAME: tfrs\n",
      "IMAGE_URI: gcr.io/hybrid-vertex/sp-2tower-tfrs-jtv15-8m-pipev1-training\n",
      "FILE_LOCATION: ./src\n",
      "MACHINE_TYPE: e2-highcpu-32\n"
     ]
    }
   ],
   "source": [
    "print(f\"DOCKERNAME: {DOCKERNAME}\")\n",
    "print(f\"IMAGE_URI: {IMAGE_URI}\")\n",
    "print(f\"FILE_LOCATION: {FILE_LOCATION}\")\n",
    "print(f\"MACHINE_TYPE: {MACHINE_TYPE}\")"
   ]
  },
  {
   "cell_type": "code",
   "execution_count": 12,
   "id": "6b85202c-6495-4ff4-82d0-f0ffcc709725",
   "metadata": {},
   "outputs": [
    {
     "name": "stdout",
     "output_type": "stream",
     "text": [
      "/home/jupyter/jw-repo/spotify_mpd_two_tower\n"
     ]
    }
   ],
   "source": [
    "!pwd"
   ]
  },
  {
   "cell_type": "code",
   "execution_count": 13,
   "id": "351cbc55-3efc-48c1-ac1b-5917d10faaf4",
   "metadata": {},
   "outputs": [
    {
     "name": "stdout",
     "output_type": "stream",
     "text": [
      "\u001b[01;34m/home/jupyter/jw-repo/spotify_mpd_two_tower/src\u001b[00m\n",
      "├── Dockerfile.tfrs\n",
      "├── cloudbuild.yaml\n",
      "├── \u001b[01;34mtrain_pipes\u001b[00m\n",
      "│   ├── build_custom_image.py\n",
      "│   └── train_custom_model.py\n",
      "├── \u001b[01;34mtwo_tower_jt\u001b[00m\n",
      "│   ├── __init__.py\n",
      "│   ├── \u001b[01;34m__pycache__\u001b[00m\n",
      "│   │   ├── __init__.cpython-37.pyc\n",
      "│   │   ├── train_config.cpython-37.pyc\n",
      "│   │   └── two_tower.cpython-37.pyc\n",
      "│   ├── data-pipeline.py\n",
      "│   ├── interactive_train.py\n",
      "│   ├── requirements.txt\n",
      "│   ├── task.py\n",
      "│   ├── train_config.py\n",
      "│   ├── two_tower.py\n",
      "│   └── two_tower_lite.py\n",
      "└── \u001b[01;34mvocab_pipes\u001b[00m\n",
      "    ├── adapt_fixed_text_layer_vocab.py\n",
      "    ├── adapt_ragged_text_layer_vocab.py\n",
      "    ├── config.py\n",
      "    └── create_master_vocab.py\n",
      "\n",
      "4 directories, 19 files\n"
     ]
    }
   ],
   "source": [
    "!tree /home/jupyter/jw-repo/spotify_mpd_two_tower/src"
   ]
  },
  {
   "cell_type": "markdown",
   "id": "5fcdae75-a4cb-476f-8d15-89c2f69ea417",
   "metadata": {},
   "source": [
    "### Optionally include a `.gcloudignore` file \n",
    "\n",
    "* limits the files submitted to Cloud Build\n",
    "* see [gcloudignore](https://cloud.google.com/sdk/gcloud/reference/topic/gcloudignore) for details"
   ]
  },
  {
   "cell_type": "code",
   "execution_count": 14,
   "id": "1433a749-df25-4862-8f27-b9c84442b1ec",
   "metadata": {},
   "outputs": [
    {
     "name": "stdout",
     "output_type": "stream",
     "text": [
      "Updated property [gcloudignore/enabled].\n"
     ]
    }
   ],
   "source": [
    "! gcloud config set gcloudignore/enabled true"
   ]
  },
  {
   "cell_type": "code",
   "execution_count": 15,
   "id": "2c430b9f-556f-40ec-bb68-1ff8d2d9bd9a",
   "metadata": {},
   "outputs": [
    {
     "name": "stdout",
     "output_type": "stream",
     "text": [
      "Overwriting .gcloudignore\n"
     ]
    }
   ],
   "source": [
    "%%writefile .gcloudignore\n",
    ".gcloudignore\n",
    "/local_files/\n",
    "/img/\n",
    "*.pkl\n",
    "*.png\n",
    ".git\n",
    ".github\n",
    ".ipynb_checkpoints/*\n",
    "*__pycache__\n",
    "spotipy_secret_creds.py"
   ]
  },
  {
   "cell_type": "code",
   "execution_count": 16,
   "id": "d6c3cd53-5595-4524-88cd-a2f6b4c31c7e",
   "metadata": {
    "tags": []
   },
   "outputs": [],
   "source": [
    "# !gcloud meta list-files-for-upload\n",
    "# !ls"
   ]
  },
  {
   "cell_type": "code",
   "execution_count": 17,
   "id": "94546ac1-8b61-4fff-981a-9dae7f976fdb",
   "metadata": {
    "collapsed": true,
    "jupyter": {
     "outputs_hidden": true
    },
    "tags": []
   },
   "outputs": [
    {
     "name": "stdout",
     "output_type": "stream",
     "text": [
      "Creating temporary tarball archive of 73 file(s) totalling 1.8 MiB before compression.\n",
      "Uploading tarball of [.] to [gs://hybrid-vertex_cloudbuild/source/1674849421.15857-9f023067fae843bdaa969f37fb5122fb.tgz]\n",
      "Created [https://cloudbuild.googleapis.com/v1/projects/hybrid-vertex/locations/global/builds/f9bce459-eb88-49e7-9303-650565431c5b].\n",
      "Logs are available at [ https://console.cloud.google.com/cloud-build/builds/f9bce459-eb88-49e7-9303-650565431c5b?project=934903580331 ].\n",
      "----------------------------- REMOTE BUILD OUTPUT ------------------------------\n",
      "starting build \"f9bce459-eb88-49e7-9303-650565431c5b\"\n",
      "\n",
      "FETCHSOURCE\n",
      "Fetching storage object: gs://hybrid-vertex_cloudbuild/source/1674849421.15857-9f023067fae843bdaa969f37fb5122fb.tgz#1674849421844666\n",
      "Copying gs://hybrid-vertex_cloudbuild/source/1674849421.15857-9f023067fae843bdaa969f37fb5122fb.tgz#1674849421844666...\n",
      "/ [1 files][335.8 KiB/335.8 KiB]                                                \n",
      "Operation completed over 1 objects/335.8 KiB.\n",
      "BUILD\n",
      "Already have image (with digest): gcr.io/cloud-builders/docker\n",
      "Sending build context to Docker daemon  182.3kB\n",
      "Step 1/5 : FROM gcr.io/deeplearning-platform-release/tf-gpu.2-10\n",
      "latest: Pulling from deeplearning-platform-release/tf-gpu.2-10\n",
      "846c0b181fff: Pulling fs layer\n",
      "6fc9dd88827c: Pulling fs layer\n",
      "0b311d7060d0: Pulling fs layer\n",
      "326d76058f67: Pulling fs layer\n",
      "ed7e4c52c661: Pulling fs layer\n",
      "4f05f5570c7a: Pulling fs layer\n",
      "ab264e292103: Pulling fs layer\n",
      "527d1d5ab821: Pulling fs layer\n",
      "fc46d4e99009: Pulling fs layer\n",
      "9ccf692754fa: Pulling fs layer\n",
      "c6611ece70c4: Pulling fs layer\n",
      "fe6ff819b45f: Pulling fs layer\n",
      "c942e9416e07: Pulling fs layer\n",
      "139c62f03172: Pulling fs layer\n",
      "4f4fb700ef54: Pulling fs layer\n",
      "ac84182603c1: Pulling fs layer\n",
      "3860e93641d8: Pulling fs layer\n",
      "085441b54e3f: Pulling fs layer\n",
      "33b479b9d085: Pulling fs layer\n",
      "5ca4c4a165b6: Pulling fs layer\n",
      "86bfd6c69c42: Pulling fs layer\n",
      "a98f2a818740: Pulling fs layer\n",
      "e170e0655ccf: Pulling fs layer\n",
      "bd4c2b6fe3ff: Pulling fs layer\n",
      "dda86b68803d: Pulling fs layer\n",
      "7764511c6da3: Pulling fs layer\n",
      "56a69db5aee5: Pulling fs layer\n",
      "53bc18ba1883: Pulling fs layer\n",
      "ee4e8980b6be: Pulling fs layer\n",
      "50a6a9c26a84: Pulling fs layer\n",
      "4f0d87a457ad: Pulling fs layer\n",
      "6aa8aa286e6a: Pulling fs layer\n",
      "f37201cfff33: Pulling fs layer\n",
      "aee1ac3070bc: Pulling fs layer\n",
      "b78a76760f85: Pulling fs layer\n",
      "326d76058f67: Waiting\n",
      "cbed8fa1c874: Pulling fs layer\n",
      "4ac3af8b3692: Pulling fs layer\n",
      "ed7e4c52c661: Waiting\n",
      "cdb012978bbb: Pulling fs layer\n",
      "4f05f5570c7a: Waiting\n",
      "33b479b9d085: Waiting\n",
      "ab264e292103: Waiting\n",
      "5ca4c4a165b6: Waiting\n",
      "527d1d5ab821: Waiting\n",
      "fc46d4e99009: Waiting\n",
      "86bfd6c69c42: Waiting\n",
      "9ccf692754fa: Waiting\n",
      "a98f2a818740: Waiting\n",
      "c6611ece70c4: Waiting\n",
      "e170e0655ccf: Waiting\n",
      "fe6ff819b45f: Waiting\n",
      "bd4c2b6fe3ff: Waiting\n",
      "dda86b68803d: Waiting\n",
      "c942e9416e07: Waiting\n",
      "f37201cfff33: Waiting\n",
      "139c62f03172: Waiting\n",
      "aee1ac3070bc: Waiting\n",
      "4f4fb700ef54: Waiting\n",
      "b78a76760f85: Waiting\n",
      "ac84182603c1: Waiting\n",
      "cbed8fa1c874: Waiting\n",
      "4ac3af8b3692: Waiting\n",
      "3860e93641d8: Waiting\n",
      "085441b54e3f: Waiting\n",
      "cdb012978bbb: Waiting\n",
      "56a69db5aee5: Waiting\n",
      "53bc18ba1883: Waiting\n",
      "50a6a9c26a84: Waiting\n",
      "ee4e8980b6be: Waiting\n",
      "4f0d87a457ad: Waiting\n",
      "6aa8aa286e6a: Waiting\n",
      "6fc9dd88827c: Verifying Checksum\n",
      "6fc9dd88827c: Download complete\n",
      "0b311d7060d0: Verifying Checksum\n",
      "0b311d7060d0: Download complete\n",
      "326d76058f67: Verifying Checksum\n",
      "326d76058f67: Download complete\n",
      "ed7e4c52c661: Verifying Checksum\n",
      "ed7e4c52c661: Download complete\n",
      "ab264e292103: Verifying Checksum\n",
      "ab264e292103: Download complete\n",
      "846c0b181fff: Verifying Checksum\n",
      "846c0b181fff: Download complete\n",
      "527d1d5ab821: Download complete\n",
      "fc46d4e99009: Verifying Checksum\n",
      "fc46d4e99009: Download complete\n",
      "c6611ece70c4: Verifying Checksum\n",
      "c6611ece70c4: Download complete\n",
      "846c0b181fff: Pull complete\n",
      "6fc9dd88827c: Pull complete\n",
      "0b311d7060d0: Pull complete\n",
      "326d76058f67: Pull complete\n",
      "ed7e4c52c661: Pull complete\n",
      "4f05f5570c7a: Verifying Checksum\n",
      "4f05f5570c7a: Download complete\n",
      "c942e9416e07: Verifying Checksum\n",
      "c942e9416e07: Download complete\n",
      "139c62f03172: Verifying Checksum\n",
      "139c62f03172: Download complete\n",
      "4f4fb700ef54: Verifying Checksum\n",
      "4f4fb700ef54: Download complete\n",
      "9ccf692754fa: Verifying Checksum\n",
      "9ccf692754fa: Download complete\n",
      "ac84182603c1: Verifying Checksum\n",
      "ac84182603c1: Download complete\n",
      "085441b54e3f: Verifying Checksum\n",
      "085441b54e3f: Download complete\n",
      "33b479b9d085: Verifying Checksum\n",
      "33b479b9d085: Download complete\n",
      "5ca4c4a165b6: Verifying Checksum\n",
      "5ca4c4a165b6: Download complete\n",
      "86bfd6c69c42: Verifying Checksum\n",
      "86bfd6c69c42: Download complete\n",
      "3860e93641d8: Verifying Checksum\n",
      "3860e93641d8: Download complete\n",
      "e170e0655ccf: Verifying Checksum\n",
      "e170e0655ccf: Download complete\n",
      "bd4c2b6fe3ff: Verifying Checksum\n",
      "bd4c2b6fe3ff: Download complete\n",
      "dda86b68803d: Verifying Checksum\n",
      "dda86b68803d: Download complete\n",
      "7764511c6da3: Download complete\n",
      "56a69db5aee5: Verifying Checksum\n",
      "56a69db5aee5: Download complete\n",
      "53bc18ba1883: Verifying Checksum\n",
      "53bc18ba1883: Download complete\n",
      "ee4e8980b6be: Download complete\n",
      "50a6a9c26a84: Verifying Checksum\n",
      "50a6a9c26a84: Download complete\n",
      "4f0d87a457ad: Verifying Checksum\n",
      "4f0d87a457ad: Download complete\n",
      "6aa8aa286e6a: Download complete\n",
      "f37201cfff33: Verifying Checksum\n",
      "f37201cfff33: Download complete\n",
      "a98f2a818740: Verifying Checksum\n",
      "a98f2a818740: Download complete\n",
      "fe6ff819b45f: Verifying Checksum\n",
      "fe6ff819b45f: Download complete\n",
      "cbed8fa1c874: Verifying Checksum\n",
      "cbed8fa1c874: Download complete\n",
      "4ac3af8b3692: Download complete\n",
      "cdb012978bbb: Verifying Checksum\n",
      "cdb012978bbb: Download complete\n",
      "aee1ac3070bc: Verifying Checksum\n",
      "aee1ac3070bc: Download complete\n",
      "4f05f5570c7a: Pull complete\n",
      "ab264e292103: Pull complete\n",
      "b78a76760f85: Verifying Checksum\n",
      "b78a76760f85: Download complete\n",
      "527d1d5ab821: Pull complete\n",
      "fc46d4e99009: Pull complete\n",
      "9ccf692754fa: Pull complete\n",
      "c6611ece70c4: Pull complete\n",
      "fe6ff819b45f: Pull complete\n",
      "c942e9416e07: Pull complete\n",
      "139c62f03172: Pull complete\n",
      "4f4fb700ef54: Pull complete\n",
      "ac84182603c1: Pull complete\n",
      "3860e93641d8: Pull complete\n",
      "085441b54e3f: Pull complete\n",
      "33b479b9d085: Pull complete\n",
      "5ca4c4a165b6: Pull complete\n",
      "86bfd6c69c42: Pull complete\n",
      "a98f2a818740: Pull complete\n",
      "e170e0655ccf: Pull complete\n",
      "bd4c2b6fe3ff: Pull complete\n",
      "dda86b68803d: Pull complete\n",
      "7764511c6da3: Pull complete\n",
      "56a69db5aee5: Pull complete\n",
      "53bc18ba1883: Pull complete\n",
      "ee4e8980b6be: Pull complete\n",
      "50a6a9c26a84: Pull complete\n",
      "4f0d87a457ad: Pull complete\n",
      "6aa8aa286e6a: Pull complete\n",
      "f37201cfff33: Pull complete\n",
      "aee1ac3070bc: Pull complete\n",
      "b78a76760f85: Pull complete\n",
      "cbed8fa1c874: Pull complete\n",
      "4ac3af8b3692: Pull complete\n",
      "cdb012978bbb: Pull complete\n",
      "Digest: sha256:29efd2853c37262f10d57e69228a6bed170a4ed78227c96f33586b31c3878c11\n",
      "Status: Downloaded newer image for gcr.io/deeplearning-platform-release/tf-gpu.2-10:latest\n",
      " ---> 9d3c2d44f624\n",
      "Step 2/5 : WORKDIR /src\n",
      " ---> Running in dca38431d18b\n",
      "Removing intermediate container dca38431d18b\n",
      " ---> ff2257e3bdcd\n",
      "Step 3/5 : COPY two_tower_jt/* two_tower_jt/\n",
      " ---> 7129ccba011d\n",
      "Step 4/5 : RUN pip install -r two_tower_jt/requirements.txt\n",
      " ---> Running in fda21b5abc32\n",
      "Requirement already satisfied: google-cloud-aiplatform>=1.21.0 in /opt/conda/lib/python3.7/site-packages (from -r two_tower_jt/requirements.txt (line 1)) (1.21.0)\n",
      "Collecting tensorflow-recommenders==0.7.2\n",
      "  Downloading tensorflow_recommenders-0.7.2-py3-none-any.whl (89 kB)\n",
      "     ━━━━━━━━━━━━━━━━━━━━━━━━━━━━━━━━━━━━━━━━ 89.3/89.3 kB 3.9 MB/s eta 0:00:00\n",
      "Requirement already satisfied: tensorboard==2.10.1 in /opt/conda/lib/python3.7/site-packages (from -r two_tower_jt/requirements.txt (line 3)) (2.10.1)\n",
      "Requirement already satisfied: tensorboard-data-server==0.6.1 in /opt/conda/lib/python3.7/site-packages (from -r two_tower_jt/requirements.txt (line 4)) (0.6.1)\n",
      "Requirement already satisfied: tensorboard-plugin-profile==2.11.1 in /opt/conda/lib/python3.7/site-packages (from -r two_tower_jt/requirements.txt (line 5)) (2.11.1)\n",
      "Requirement already satisfied: tensorflow-io==0.27.0 in /opt/conda/lib/python3.7/site-packages (from -r two_tower_jt/requirements.txt (line 6)) (0.27.0)\n",
      "Requirement already satisfied: absl-py>=0.1.6 in /opt/conda/lib/python3.7/site-packages (from tensorflow-recommenders==0.7.2->-r two_tower_jt/requirements.txt (line 2)) (1.4.0)\n",
      "Requirement already satisfied: tensorflow>=2.9.0 in /opt/conda/lib/python3.7/site-packages (from tensorflow-recommenders==0.7.2->-r two_tower_jt/requirements.txt (line 2)) (2.10.1)\n",
      "Requirement already satisfied: grpcio>=1.24.3 in /opt/conda/lib/python3.7/site-packages (from tensorboard==2.10.1->-r two_tower_jt/requirements.txt (line 3)) (1.51.1)\n",
      "Requirement already satisfied: google-auth-oauthlib<0.5,>=0.4.1 in /opt/conda/lib/python3.7/site-packages (from tensorboard==2.10.1->-r two_tower_jt/requirements.txt (line 3)) (0.4.6)\n",
      "Requirement already satisfied: setuptools>=41.0.0 in /opt/conda/lib/python3.7/site-packages (from tensorboard==2.10.1->-r two_tower_jt/requirements.txt (line 3)) (66.1.1)\n",
      "Requirement already satisfied: wheel>=0.26 in /opt/conda/lib/python3.7/site-packages (from tensorboard==2.10.1->-r two_tower_jt/requirements.txt (line 3)) (0.38.4)\n",
      "Requirement already satisfied: markdown>=2.6.8 in /opt/conda/lib/python3.7/site-packages (from tensorboard==2.10.1->-r two_tower_jt/requirements.txt (line 3)) (3.4.1)\n",
      "Requirement already satisfied: google-auth<3,>=1.6.3 in /opt/conda/lib/python3.7/site-packages (from tensorboard==2.10.1->-r two_tower_jt/requirements.txt (line 3)) (2.16.0)\n",
      "Requirement already satisfied: tensorboard-plugin-wit>=1.6.0 in /opt/conda/lib/python3.7/site-packages (from tensorboard==2.10.1->-r two_tower_jt/requirements.txt (line 3)) (1.8.1)\n",
      "Requirement already satisfied: numpy>=1.12.0 in /opt/conda/lib/python3.7/site-packages (from tensorboard==2.10.1->-r two_tower_jt/requirements.txt (line 3)) (1.21.6)\n",
      "Requirement already satisfied: requests<3,>=2.21.0 in /opt/conda/lib/python3.7/site-packages (from tensorboard==2.10.1->-r two_tower_jt/requirements.txt (line 3)) (2.28.2)\n",
      "Collecting protobuf<3.20,>=3.9.2\n",
      "  Downloading protobuf-3.19.6-cp37-cp37m-manylinux_2_17_x86_64.manylinux2014_x86_64.whl (1.1 MB)\n",
      "     ━━━━━━━━━━━━━━━━━━━━━━━━━━━━━━━━━━━━━━━━ 1.1/1.1 MB 33.3 MB/s eta 0:00:00\n",
      "Requirement already satisfied: werkzeug>=1.0.1 in /opt/conda/lib/python3.7/site-packages (from tensorboard==2.10.1->-r two_tower_jt/requirements.txt (line 3)) (2.1.2)\n",
      "Requirement already satisfied: six>=1.10.0 in /opt/conda/lib/python3.7/site-packages (from tensorboard-plugin-profile==2.11.1->-r two_tower_jt/requirements.txt (line 5)) (1.16.0)\n",
      "Requirement already satisfied: gviz-api>=1.9.0 in /opt/conda/lib/python3.7/site-packages (from tensorboard-plugin-profile==2.11.1->-r two_tower_jt/requirements.txt (line 5)) (1.10.0)\n",
      "Requirement already satisfied: tensorflow-io-gcs-filesystem==0.27.0 in /opt/conda/lib/python3.7/site-packages (from tensorflow-io==0.27.0->-r two_tower_jt/requirements.txt (line 6)) (0.27.0)\n",
      "Requirement already satisfied: shapely<2.0.0 in /opt/conda/lib/python3.7/site-packages (from google-cloud-aiplatform>=1.21.0->-r two_tower_jt/requirements.txt (line 1)) (1.8.5.post1)\n",
      "Requirement already satisfied: google-cloud-bigquery<4.0.0dev,>=1.15.0 in /opt/conda/lib/python3.7/site-packages (from google-cloud-aiplatform>=1.21.0->-r two_tower_jt/requirements.txt (line 1)) (3.4.2)\n",
      "Requirement already satisfied: google-cloud-resource-manager<3.0.0dev,>=1.3.3 in /opt/conda/lib/python3.7/site-packages (from google-cloud-aiplatform>=1.21.0->-r two_tower_jt/requirements.txt (line 1)) (1.8.1)\n",
      "Requirement already satisfied: google-api-core[grpc]!=2.0.*,!=2.1.*,!=2.2.*,!=2.3.*,!=2.4.*,!=2.5.*,!=2.6.*,!=2.7.*,<3.0.0dev,>=1.32.0 in /opt/conda/lib/python3.7/site-packages (from google-cloud-aiplatform>=1.21.0->-r two_tower_jt/requirements.txt (line 1)) (2.10.1)\n",
      "Collecting packaging<22.0.0dev,>=14.3\n",
      "  Downloading packaging-21.3-py3-none-any.whl (40 kB)\n",
      "     ━━━━━━━━━━━━━━━━━━━━━━━━━━━━━━━━━━━━━━━━ 40.8/40.8 kB 6.7 MB/s eta 0:00:00\n",
      "Requirement already satisfied: google-cloud-storage<3.0.0dev,>=1.32.0 in /opt/conda/lib/python3.7/site-packages (from google-cloud-aiplatform>=1.21.0->-r two_tower_jt/requirements.txt (line 1)) (2.7.0)\n",
      "Requirement already satisfied: proto-plus<2.0.0dev,>=1.22.0 in /opt/conda/lib/python3.7/site-packages (from google-cloud-aiplatform>=1.21.0->-r two_tower_jt/requirements.txt (line 1)) (1.22.2)\n",
      "Collecting werkzeug>=1.0.1\n",
      "  Downloading Werkzeug-2.0.3-py3-none-any.whl (289 kB)\n",
      "     ━━━━━━━━━━━━━━━━━━━━━━━━━━━━━━━━━━━━━━ 289.2/289.2 kB 34.8 MB/s eta 0:00:00\n",
      "Collecting google-api-core[grpc]!=2.0.*,!=2.1.*,!=2.2.*,!=2.3.*,!=2.4.*,!=2.5.*,!=2.6.*,!=2.7.*,<3.0.0dev,>=1.32.0\n",
      "  Downloading google_api_core-2.11.0-py3-none-any.whl (120 kB)\n",
      "     ━━━━━━━━━━━━━━━━━━━━━━━━━━━━━━━━━━━━━━ 120.3/120.3 kB 20.1 MB/s eta 0:00:00\n",
      "Requirement already satisfied: googleapis-common-protos<2.0dev,>=1.56.2 in /opt/conda/lib/python3.7/site-packages (from google-api-core[grpc]!=2.0.*,!=2.1.*,!=2.2.*,!=2.3.*,!=2.4.*,!=2.5.*,!=2.6.*,!=2.7.*,<3.0.0dev,>=1.32.0->google-cloud-aiplatform>=1.21.0->-r two_tower_jt/requirements.txt (line 1)) (1.58.0)\n",
      "Requirement already satisfied: grpcio-status<2.0dev,>=1.33.2 in /opt/conda/lib/python3.7/site-packages (from google-api-core[grpc]!=2.0.*,!=2.1.*,!=2.2.*,!=2.3.*,!=2.4.*,!=2.5.*,!=2.6.*,!=2.7.*,<3.0.0dev,>=1.32.0->google-cloud-aiplatform>=1.21.0->-r two_tower_jt/requirements.txt (line 1)) (1.48.2)\n",
      "Requirement already satisfied: pyasn1-modules>=0.2.1 in /opt/conda/lib/python3.7/site-packages (from google-auth<3,>=1.6.3->tensorboard==2.10.1->-r two_tower_jt/requirements.txt (line 3)) (0.2.8)\n",
      "Requirement already satisfied: cachetools<6.0,>=2.0.0 in /opt/conda/lib/python3.7/site-packages (from google-auth<3,>=1.6.3->tensorboard==2.10.1->-r two_tower_jt/requirements.txt (line 3)) (5.3.0)\n",
      "Requirement already satisfied: rsa<5,>=3.1.4 in /opt/conda/lib/python3.7/site-packages (from google-auth<3,>=1.6.3->tensorboard==2.10.1->-r two_tower_jt/requirements.txt (line 3)) (4.9)\n",
      "Requirement already satisfied: requests-oauthlib>=0.7.0 in /opt/conda/lib/python3.7/site-packages (from google-auth-oauthlib<0.5,>=0.4.1->tensorboard==2.10.1->-r two_tower_jt/requirements.txt (line 3)) (1.3.1)\n",
      "Requirement already satisfied: google-resumable-media<3.0dev,>=0.6.0 in /opt/conda/lib/python3.7/site-packages (from google-cloud-bigquery<4.0.0dev,>=1.15.0->google-cloud-aiplatform>=1.21.0->-r two_tower_jt/requirements.txt (line 1)) (2.4.1)\n",
      "Requirement already satisfied: google-cloud-core<3.0.0dev,>=1.4.1 in /opt/conda/lib/python3.7/site-packages (from google-cloud-bigquery<4.0.0dev,>=1.15.0->google-cloud-aiplatform>=1.21.0->-r two_tower_jt/requirements.txt (line 1)) (2.3.2)\n",
      "Requirement already satisfied: python-dateutil<3.0dev,>=2.7.2 in /opt/conda/lib/python3.7/site-packages (from google-cloud-bigquery<4.0.0dev,>=1.15.0->google-cloud-aiplatform>=1.21.0->-r two_tower_jt/requirements.txt (line 1)) (2.8.2)\n",
      "Requirement already satisfied: grpc-google-iam-v1<1.0.0dev,>=0.12.4 in /opt/conda/lib/python3.7/site-packages (from google-cloud-resource-manager<3.0.0dev,>=1.3.3->google-cloud-aiplatform>=1.21.0->-r two_tower_jt/requirements.txt (line 1)) (0.12.6)\n",
      "Requirement already satisfied: importlib-metadata>=4.4 in /opt/conda/lib/python3.7/site-packages (from markdown>=2.6.8->tensorboard==2.10.1->-r two_tower_jt/requirements.txt (line 3)) (6.0.0)\n",
      "Requirement already satisfied: pyparsing!=3.0.5,>=2.0.2 in /opt/conda/lib/python3.7/site-packages (from packaging<22.0.0dev,>=14.3->google-cloud-aiplatform>=1.21.0->-r two_tower_jt/requirements.txt (line 1)) (3.0.9)\n",
      "Requirement already satisfied: urllib3<1.27,>=1.21.1 in /opt/conda/lib/python3.7/site-packages (from requests<3,>=2.21.0->tensorboard==2.10.1->-r two_tower_jt/requirements.txt (line 3)) (1.26.14)\n",
      "Requirement already satisfied: charset-normalizer<4,>=2 in /opt/conda/lib/python3.7/site-packages (from requests<3,>=2.21.0->tensorboard==2.10.1->-r two_tower_jt/requirements.txt (line 3)) (2.1.1)\n",
      "Requirement already satisfied: certifi>=2017.4.17 in /opt/conda/lib/python3.7/site-packages (from requests<3,>=2.21.0->tensorboard==2.10.1->-r two_tower_jt/requirements.txt (line 3)) (2022.12.7)\n",
      "Requirement already satisfied: idna<4,>=2.5 in /opt/conda/lib/python3.7/site-packages (from requests<3,>=2.21.0->tensorboard==2.10.1->-r two_tower_jt/requirements.txt (line 3)) (3.4)\n",
      "Requirement already satisfied: wrapt>=1.11.0 in /opt/conda/lib/python3.7/site-packages (from tensorflow>=2.9.0->tensorflow-recommenders==0.7.2->-r two_tower_jt/requirements.txt (line 2)) (1.14.1)\n",
      "Requirement already satisfied: typing-extensions>=3.6.6 in /opt/conda/lib/python3.7/site-packages (from tensorflow>=2.9.0->tensorflow-recommenders==0.7.2->-r two_tower_jt/requirements.txt (line 2)) (4.4.0)\n",
      "Requirement already satisfied: termcolor>=1.1.0 in /opt/conda/lib/python3.7/site-packages (from tensorflow>=2.9.0->tensorflow-recommenders==0.7.2->-r two_tower_jt/requirements.txt (line 2)) (2.2.0)\n",
      "Requirement already satisfied: h5py>=2.9.0 in /opt/conda/lib/python3.7/site-packages (from tensorflow>=2.9.0->tensorflow-recommenders==0.7.2->-r two_tower_jt/requirements.txt (line 2)) (3.8.0)\n",
      "Requirement already satisfied: astunparse>=1.6.0 in /opt/conda/lib/python3.7/site-packages (from tensorflow>=2.9.0->tensorflow-recommenders==0.7.2->-r two_tower_jt/requirements.txt (line 2)) (1.6.3)\n",
      "Requirement already satisfied: libclang>=13.0.0 in /opt/conda/lib/python3.7/site-packages (from tensorflow>=2.9.0->tensorflow-recommenders==0.7.2->-r two_tower_jt/requirements.txt (line 2)) (15.0.6.1)\n",
      "Requirement already satisfied: keras<2.11,>=2.10.0 in /opt/conda/lib/python3.7/site-packages (from tensorflow>=2.9.0->tensorflow-recommenders==0.7.2->-r two_tower_jt/requirements.txt (line 2)) (2.10.0)\n",
      "Requirement already satisfied: flatbuffers>=2.0 in /opt/conda/lib/python3.7/site-packages (from tensorflow>=2.9.0->tensorflow-recommenders==0.7.2->-r two_tower_jt/requirements.txt (line 2)) (23.1.21)\n",
      "Requirement already satisfied: tensorflow-estimator<2.11,>=2.10.0 in /opt/conda/lib/python3.7/site-packages (from tensorflow>=2.9.0->tensorflow-recommenders==0.7.2->-r two_tower_jt/requirements.txt (line 2)) (2.10.0)\n",
      "Requirement already satisfied: google-pasta>=0.1.1 in /opt/conda/lib/python3.7/site-packages (from tensorflow>=2.9.0->tensorflow-recommenders==0.7.2->-r two_tower_jt/requirements.txt (line 2)) (0.2.0)\n",
      "Requirement already satisfied: gast<=0.4.0,>=0.2.1 in /opt/conda/lib/python3.7/site-packages (from tensorflow>=2.9.0->tensorflow-recommenders==0.7.2->-r two_tower_jt/requirements.txt (line 2)) (0.4.0)\n",
      "Requirement already satisfied: opt-einsum>=2.3.2 in /opt/conda/lib/python3.7/site-packages (from tensorflow>=2.9.0->tensorflow-recommenders==0.7.2->-r two_tower_jt/requirements.txt (line 2)) (3.3.0)\n",
      "Requirement already satisfied: keras-preprocessing>=1.1.1 in /opt/conda/lib/python3.7/site-packages (from tensorflow>=2.9.0->tensorflow-recommenders==0.7.2->-r two_tower_jt/requirements.txt (line 2)) (1.1.2)\n",
      "Requirement already satisfied: google-crc32c<2.0dev,>=1.0 in /opt/conda/lib/python3.7/site-packages (from google-resumable-media<3.0dev,>=0.6.0->google-cloud-bigquery<4.0.0dev,>=1.15.0->google-cloud-aiplatform>=1.21.0->-r two_tower_jt/requirements.txt (line 1)) (1.5.0)\n",
      "Requirement already satisfied: zipp>=0.5 in /opt/conda/lib/python3.7/site-packages (from importlib-metadata>=4.4->markdown>=2.6.8->tensorboard==2.10.1->-r two_tower_jt/requirements.txt (line 3)) (3.11.0)\n",
      "Requirement already satisfied: pyasn1<0.5.0,>=0.4.6 in /opt/conda/lib/python3.7/site-packages (from pyasn1-modules>=0.2.1->google-auth<3,>=1.6.3->tensorboard==2.10.1->-r two_tower_jt/requirements.txt (line 3)) (0.4.8)\n",
      "Requirement already satisfied: oauthlib>=3.0.0 in /opt/conda/lib/python3.7/site-packages (from requests-oauthlib>=0.7.0->google-auth-oauthlib<0.5,>=0.4.1->tensorboard==2.10.1->-r two_tower_jt/requirements.txt (line 3)) (3.2.2)\n",
      "Installing collected packages: werkzeug, protobuf, packaging, google-api-core, tensorflow-recommenders\n",
      "  Attempting uninstall: werkzeug\n",
      "    Found existing installation: Werkzeug 2.1.2\n",
      "    Uninstalling Werkzeug-2.1.2:\n",
      "      Successfully uninstalled Werkzeug-2.1.2\n",
      "  Attempting uninstall: protobuf\n",
      "    Found existing installation: protobuf 3.20.1\n",
      "    Uninstalling protobuf-3.20.1:\n",
      "      Successfully uninstalled protobuf-3.20.1\n",
      "  Attempting uninstall: packaging\n",
      "    Found existing installation: packaging 23.0\n",
      "    Uninstalling packaging-23.0:\n",
      "      Successfully uninstalled packaging-23.0\n",
      "  Attempting uninstall: google-api-core\n",
      "    Found existing installation: google-api-core 2.10.1\n",
      "    Uninstalling google-api-core-2.10.1:\n",
      "      Successfully uninstalled google-api-core-2.10.1\n",
      "\u001b[91mERROR: pip's dependency resolver does not currently take into account all the packages that are installed. This behaviour is the source of the following dependency conflicts.\n",
      "google-api-python-client 1.8.0 requires google-api-core<2dev,>=1.13.0, but you have google-api-core 2.11.0 which is incompatible.\n",
      "\u001b[0mSuccessfully installed google-api-core-2.11.0 packaging-21.3 protobuf-3.19.6 tensorflow-recommenders-0.7.2 werkzeug-2.0.3\n",
      "\u001b[91mWARNING: Running pip as the 'root' user can result in broken permissions and conflicting behaviour with the system package manager. It is recommended to use a virtual environment instead: https://pip.pypa.io/warnings/venv\n",
      "\u001b[0mRemoving intermediate container fda21b5abc32\n",
      " ---> 513ffed3152b\n",
      "Step 5/5 : RUN apt update && apt -y install nvtop\n",
      " ---> Running in e6f5e525d95c\n",
      "\u001b[91m\n",
      "WARNING: apt does not have a stable CLI interface. Use with caution in scripts.\n",
      "\n",
      "\u001b[0mGet:1 https://packages.cloud.google.com/apt cloud-sdk InRelease [6361 B]\n",
      "Get:2 https://developer.download.nvidia.com/compute/cuda/repos/ubuntu2004/x86_64  InRelease [1581 B]\n",
      "Get:3 http://archive.ubuntu.com/ubuntu focal InRelease [265 kB]\n",
      "Get:4 http://security.ubuntu.com/ubuntu focal-security InRelease [114 kB]\n",
      "Get:5 http://packages.cloud.google.com/apt gcsfuse-focal InRelease [5002 B]\n",
      "Get:6 https://packages.cloud.google.com/apt google-fast-socket InRelease [5015 B]\n",
      "Get:7 https://packages.cloud.google.com/apt cloud-sdk/main amd64 Packages [379 kB]\n",
      "Get:8 https://developer.download.nvidia.com/compute/cuda/repos/ubuntu2004/x86_64  Packages [831 kB]\n",
      "Get:9 http://packages.cloud.google.com/apt gcsfuse-focal/main amd64 Packages [1871 B]\n",
      "Get:10 https://packages.cloud.google.com/apt google-fast-socket/main amd64 Packages [428 B]\n",
      "Get:11 http://archive.ubuntu.com/ubuntu focal-updates InRelease [114 kB]\n",
      "Get:12 http://archive.ubuntu.com/ubuntu focal-backports InRelease [108 kB]\n",
      "Get:13 http://security.ubuntu.com/ubuntu focal-security/main amd64 Packages [2442 kB]\n",
      "Get:14 http://archive.ubuntu.com/ubuntu focal/universe amd64 Packages [11.3 MB]\n",
      "Get:15 http://security.ubuntu.com/ubuntu focal-security/universe amd64 Packages [988 kB]\n",
      "Get:16 http://security.ubuntu.com/ubuntu focal-security/multiverse amd64 Packages [27.7 kB]\n",
      "Get:17 http://security.ubuntu.com/ubuntu focal-security/restricted amd64 Packages [1882 kB]\n",
      "Get:18 http://archive.ubuntu.com/ubuntu focal/multiverse amd64 Packages [177 kB]\n",
      "Get:19 http://archive.ubuntu.com/ubuntu focal/restricted amd64 Packages [33.4 kB]\n",
      "Get:20 http://archive.ubuntu.com/ubuntu focal/main amd64 Packages [1275 kB]\n",
      "Get:21 http://archive.ubuntu.com/ubuntu focal-updates/universe amd64 Packages [1290 kB]\n",
      "Get:22 http://archive.ubuntu.com/ubuntu focal-updates/main amd64 Packages [2920 kB]\n",
      "Get:23 http://archive.ubuntu.com/ubuntu focal-updates/restricted amd64 Packages [2009 kB]\n",
      "Get:24 http://archive.ubuntu.com/ubuntu focal-updates/multiverse amd64 Packages [31.2 kB]\n",
      "Get:25 http://archive.ubuntu.com/ubuntu focal-backports/main amd64 Packages [55.2 kB]\n",
      "Get:26 http://archive.ubuntu.com/ubuntu focal-backports/universe amd64 Packages [28.6 kB]\n",
      "Fetched 26.3 MB in 3s (10.3 MB/s)\n",
      "Reading package lists...\n",
      "Building dependency tree...\n",
      "Reading state information...\n",
      "20 packages can be upgraded. Run 'apt list --upgradable' to see them.\n",
      "\u001b[91m\n",
      "WARNING: apt does not have a stable CLI interface. Use with caution in scripts.\n",
      "\u001b[0mReading package lists...\n",
      "Building dependency tree...\n",
      "Reading state information...\n",
      "The following additional packages will be installed:\n",
      "  libnvidia-compute-418 libnvidia-compute-430 libnvidia-compute-525\n",
      "The following NEW packages will be installed:\n",
      "  libnvidia-compute-418 libnvidia-compute-430 libnvidia-compute-525 nvtop\n",
      "0 upgraded, 4 newly installed, 0 to remove and 20 not upgraded.\n",
      "Need to get 50.4 MB of archives.\n",
      "After this operation, 234 MB of additional disk space will be used.\n",
      "Get:1 https://developer.download.nvidia.com/compute/cuda/repos/ubuntu2004/x86_64  libnvidia-compute-430 525.60.13-0ubuntu1 [6912 B]\n",
      "Get:2 http://archive.ubuntu.com/ubuntu focal-updates/restricted amd64 libnvidia-compute-525 amd64 525.78.01-0ubuntu0.20.04.1 [50.3 MB]\n",
      "Get:3 http://archive.ubuntu.com/ubuntu focal/restricted amd64 libnvidia-compute-418 amd64 430.50-0ubuntu3 [6936 B]\n",
      "Get:4 http://archive.ubuntu.com/ubuntu focal/multiverse amd64 nvtop amd64 1.0.0-1ubuntu2 [26.8 kB]\n",
      "\u001b[91mdebconf: unable to initialize frontend: Dialog\n",
      "debconf: (TERM is not set, so the dialog frontend is not usable.)\n",
      "debconf: falling back to frontend: Readline\n",
      "\u001b[0m\u001b[91mdebconf: unable to initialize frontend: Readline\n",
      "debconf: (This frontend requires a controlling tty.)\n",
      "\u001b[0m\u001b[91mdebconf: falling back to frontend: Teletype\n",
      "\u001b[0m\u001b[91mdpkg-preconfigure: unable to re-open stdin: \n",
      "\u001b[0mFetched 50.4 MB in 2s (26.3 MB/s)\n",
      "Selecting previously unselected package libnvidia-compute-525:amd64.\n",
      "(Reading database ... 91209 files and directories currently installed.)\n",
      "Preparing to unpack .../libnvidia-compute-525_525.78.01-0ubuntu0.20.04.1_amd64.deb ...\n",
      "Unpacking libnvidia-compute-525:amd64 (525.78.01-0ubuntu0.20.04.1) ...\n",
      "Selecting previously unselected package libnvidia-compute-430:amd64.\n",
      "Preparing to unpack .../libnvidia-compute-430_525.60.13-0ubuntu1_amd64.deb ...\n",
      "Unpacking libnvidia-compute-430:amd64 (525.60.13-0ubuntu1) ...\n",
      "Selecting previously unselected package libnvidia-compute-418:amd64.\n",
      "Preparing to unpack .../libnvidia-compute-418_430.50-0ubuntu3_amd64.deb ...\n",
      "Unpacking libnvidia-compute-418:amd64 (430.50-0ubuntu3) ...\n",
      "Selecting previously unselected package nvtop.\n",
      "Preparing to unpack .../nvtop_1.0.0-1ubuntu2_amd64.deb ...\n",
      "Unpacking nvtop (1.0.0-1ubuntu2) ...\n",
      "Setting up libnvidia-compute-525:amd64 (525.78.01-0ubuntu0.20.04.1) ...\n",
      "Setting up libnvidia-compute-430:amd64 (525.60.13-0ubuntu1) ...\n",
      "Setting up libnvidia-compute-418:amd64 (430.50-0ubuntu3) ...\n",
      "Setting up nvtop (1.0.0-1ubuntu2) ...\n",
      "Processing triggers for man-db (2.9.1-1) ...\n",
      "Processing triggers for libc-bin (2.31-0ubuntu9.9) ...\n",
      "Removing intermediate container e6f5e525d95c\n",
      " ---> 70867b5504dc\n",
      "Successfully built 70867b5504dc\n",
      "Successfully tagged gcr.io/hybrid-vertex/sp-2tower-tfrs-jtv15-8m-pipev1-training:latest\n",
      "PUSH\n",
      "Pushing gcr.io/hybrid-vertex/sp-2tower-tfrs-jtv15-8m-pipev1-training\n",
      "The push refers to repository [gcr.io/hybrid-vertex/sp-2tower-tfrs-jtv15-8m-pipev1-training]\n",
      "80574e282aad: Preparing\n",
      "9de89d1b8513: Preparing\n",
      "fea2b6c75354: Preparing\n",
      "9333080a826d: Preparing\n",
      "361b970e2e5d: Preparing\n",
      "35a78a3c4be2: Preparing\n",
      "d8e0010a550b: Preparing\n",
      "619508e8ee99: Preparing\n",
      "bb988af2b984: Preparing\n",
      "4636fe01e0b5: Preparing\n",
      "f857cc25e56d: Preparing\n",
      "82471d6461d7: Preparing\n",
      "5ac9d337aafc: Preparing\n",
      "a735f6dad37e: Preparing\n",
      "bc6af4d104d8: Preparing\n",
      "aa25d86089a5: Preparing\n",
      "4cbfec24b842: Preparing\n",
      "8d2278f0bee2: Preparing\n",
      "2814e52cd888: Preparing\n",
      "ee9a177ae05b: Preparing\n",
      "339bec97e3ba: Preparing\n",
      "55df74fa2018: Preparing\n",
      "89c3a55cc66f: Preparing\n",
      "532c075aae0f: Preparing\n",
      "af18a29a82ba: Preparing\n",
      "d8f3347e3ae5: Preparing\n",
      "3663689faddd: Preparing\n",
      "5f70bf18a086: Preparing\n",
      "bb988af2b984: Waiting\n",
      "3bec1a9c1f4d: Preparing\n",
      "60766204fa42: Preparing\n",
      "b3936e4c67d2: Preparing\n",
      "82471d6461d7: Waiting\n",
      "07d37209b7a9: Preparing\n",
      "fed0e8aa65b5: Preparing\n",
      "5ac9d337aafc: Waiting\n",
      "ad8fec0b36f1: Preparing\n",
      "4636fe01e0b5: Waiting\n",
      "3a217af3edf9: Preparing\n",
      "a735f6dad37e: Waiting\n",
      "3297f5de02be: Preparing\n",
      "35a78a3c4be2: Waiting\n",
      "f3717d7fdfb7: Preparing\n",
      "f857cc25e56d: Waiting\n",
      "e1eace4c0976: Preparing\n",
      "959a7375cb04: Preparing\n",
      "d8e0010a550b: Waiting\n",
      "d79c672e1e8b: Preparing\n",
      "619508e8ee99: Waiting\n",
      "7b7c9e761223: Preparing\n",
      "0002c93bdb37: Preparing\n",
      "bc6af4d104d8: Waiting\n",
      "aa25d86089a5: Waiting\n",
      "4cbfec24b842: Waiting\n",
      "8d2278f0bee2: Waiting\n",
      "2814e52cd888: Waiting\n",
      "ee9a177ae05b: Waiting\n",
      "339bec97e3ba: Waiting\n",
      "fed0e8aa65b5: Waiting\n",
      "959a7375cb04: Waiting\n",
      "ad8fec0b36f1: Waiting\n",
      "55df74fa2018: Waiting\n",
      "d79c672e1e8b: Waiting\n",
      "3a217af3edf9: Waiting\n",
      "89c3a55cc66f: Waiting\n",
      "7b7c9e761223: Waiting\n",
      "3297f5de02be: Waiting\n",
      "0002c93bdb37: Waiting\n",
      "532c075aae0f: Waiting\n",
      "f3717d7fdfb7: Waiting\n",
      "e1eace4c0976: Waiting\n",
      "af18a29a82ba: Waiting\n",
      "d8f3347e3ae5: Waiting\n",
      "3663689faddd: Waiting\n",
      "5f70bf18a086: Waiting\n",
      "3bec1a9c1f4d: Waiting\n",
      "60766204fa42: Waiting\n",
      "b3936e4c67d2: Waiting\n",
      "07d37209b7a9: Waiting\n",
      "361b970e2e5d: Mounted from deeplearning-platform-release/tf-gpu.2-10\n",
      "fea2b6c75354: Pushed\n",
      "9333080a826d: Pushed\n",
      "35a78a3c4be2: Mounted from deeplearning-platform-release/tf-gpu.2-10\n",
      "9de89d1b8513: Pushed\n",
      "d8e0010a550b: Mounted from deeplearning-platform-release/tf-gpu.2-10\n",
      "619508e8ee99: Mounted from deeplearning-platform-release/tf-gpu.2-10\n",
      "bb988af2b984: Mounted from deeplearning-platform-release/tf-gpu.2-10\n",
      "f857cc25e56d: Mounted from deeplearning-platform-release/tf-gpu.2-10\n",
      "4636fe01e0b5: Mounted from deeplearning-platform-release/tf-gpu.2-10\n",
      "82471d6461d7: Mounted from deeplearning-platform-release/tf-gpu.2-10\n",
      "5ac9d337aafc: Mounted from deeplearning-platform-release/tf-gpu.2-10\n",
      "a735f6dad37e: Mounted from deeplearning-platform-release/tf-gpu.2-10\n",
      "bc6af4d104d8: Mounted from deeplearning-platform-release/tf-gpu.2-10\n",
      "aa25d86089a5: Mounted from deeplearning-platform-release/tf-gpu.2-10\n",
      "4cbfec24b842: Mounted from deeplearning-platform-release/tf-gpu.2-10\n",
      "8d2278f0bee2: Mounted from deeplearning-platform-release/tf-gpu.2-10\n",
      "2814e52cd888: Mounted from deeplearning-platform-release/tf-gpu.2-10\n",
      "ee9a177ae05b: Mounted from deeplearning-platform-release/tf-gpu.2-10\n",
      "339bec97e3ba: Mounted from deeplearning-platform-release/tf-gpu.2-10\n",
      "55df74fa2018: Mounted from deeplearning-platform-release/tf-gpu.2-10\n",
      "89c3a55cc66f: Mounted from deeplearning-platform-release/tf-gpu.2-10\n",
      "532c075aae0f: Mounted from deeplearning-platform-release/tf-gpu.2-10\n",
      "5f70bf18a086: Layer already exists\n",
      "af18a29a82ba: Mounted from deeplearning-platform-release/tf-gpu.2-10\n",
      "d8f3347e3ae5: Mounted from deeplearning-platform-release/tf-gpu.2-10\n",
      "3663689faddd: Mounted from deeplearning-platform-release/tf-gpu.2-10\n",
      "b3936e4c67d2: Layer already exists\n",
      "07d37209b7a9: Layer already exists\n",
      "fed0e8aa65b5: Layer already exists\n",
      "3bec1a9c1f4d: Mounted from deeplearning-platform-release/tf-gpu.2-10\n",
      "3a217af3edf9: Layer already exists\n",
      "3297f5de02be: Layer already exists\n",
      "f3717d7fdfb7: Layer already exists\n",
      "60766204fa42: Mounted from deeplearning-platform-release/tf-gpu.2-10\n",
      "e1eace4c0976: Layer already exists\n",
      "959a7375cb04: Layer already exists\n",
      "d79c672e1e8b: Layer already exists\n",
      "7b7c9e761223: Layer already exists\n",
      "0002c93bdb37: Layer already exists\n",
      "ad8fec0b36f1: Layer already exists\n",
      "80574e282aad: Pushed\n",
      "latest: digest: sha256:408881aa9100fa71bfc56cd8258513e666993dbdd3719da7a317b1733b904526 size: 9133\n",
      "DONE\n",
      "--------------------------------------------------------------------------------\n",
      "ID                                    CREATE_TIME                DURATION  SOURCE                                                                                      IMAGES                                                                  STATUS\n",
      "f9bce459-eb88-49e7-9303-650565431c5b  2023-01-27T19:57:02+00:00  3M44S     gs://hybrid-vertex_cloudbuild/source/1674849421.15857-9f023067fae843bdaa969f37fb5122fb.tgz  gcr.io/hybrid-vertex/sp-2tower-tfrs-jtv15-8m-pipev1-training (+1 more)  SUCCESS\n"
     ]
    }
   ],
   "source": [
    "! gcloud builds submit --config src/cloudbuild.yaml \\\n",
    "    --substitutions _DOCKERNAME=$DOCKERNAME,_IMAGE_URI=$IMAGE_URI,_FILE_LOCATION=$FILE_LOCATION \\\n",
    "    --timeout=2h \\\n",
    "    --machine-type=$MACHINE_TYPE"
   ]
  },
  {
   "cell_type": "markdown",
   "id": "8c889eb1-b663-4491-8bbf-4247d87b1762",
   "metadata": {},
   "source": [
    "# Pipeline Components"
   ]
  },
  {
   "cell_type": "code",
   "execution_count": 18,
   "id": "3868029b-b1ce-45a9-aade-ebdfec8f110f",
   "metadata": {},
   "outputs": [
    {
     "data": {
      "text/plain": [
       "'/home/jupyter/jw-repo/spotify_mpd_two_tower'"
      ]
     },
     "execution_count": 18,
     "metadata": {},
     "output_type": "execute_result"
    }
   ],
   "source": [
    "os.getcwd()"
   ]
  },
  {
   "cell_type": "code",
   "execution_count": 19,
   "id": "aa1292ae-b51d-42bc-83c5-996e827c2633",
   "metadata": {},
   "outputs": [],
   "source": [
    "REPO_DOCKER_PATH_PREFIX = 'src'\n",
    "PIPELINES_SUB_DIR = 'train_pipes'"
   ]
  },
  {
   "cell_type": "code",
   "execution_count": 20,
   "id": "6893f359-64de-458e-a964-d42ce581fd86",
   "metadata": {},
   "outputs": [],
   "source": [
    "! rm -rf {REPO_DOCKER_PATH_PREFIX}/{PIPELINES_SUB_DIR}\n",
    "! mkdir {REPO_DOCKER_PATH_PREFIX}/{PIPELINES_SUB_DIR}"
   ]
  },
  {
   "cell_type": "markdown",
   "id": "9b3fedd1-0897-4e32-bbd5-1dd6bbc12158",
   "metadata": {
    "tags": []
   },
   "source": [
    "## Build Custom Image"
   ]
  },
  {
   "cell_type": "code",
   "execution_count": 21,
   "id": "335711ed-4425-409f-aebc-5fbdcbfedea4",
   "metadata": {},
   "outputs": [
    {
     "name": "stdout",
     "output_type": "stream",
     "text": [
      "Writing src/train_pipes/build_custom_image.py\n"
     ]
    }
   ],
   "source": [
    "%%writefile {REPO_DOCKER_PATH_PREFIX}/{PIPELINES_SUB_DIR}/build_custom_image.py\n",
    "\n",
    "import kfp\n",
    "from typing import Any, Callable, Dict, NamedTuple, Optional, List\n",
    "from kfp.v2.dsl import (Artifact, Dataset, Input, InputPath, Model, Output,\n",
    "                        OutputPath, component, Metrics)\n",
    "@kfp.v2.dsl.component(\n",
    "    base_image=\"gcr.io/google.com/cloudsdktool/cloud-sdk:latest\",\n",
    "    packages_to_install=[\n",
    "        \"google-cloud-build\"\n",
    "    ],\n",
    ")\n",
    "def build_custom_image(\n",
    "    project: str,\n",
    "    artifact_gcs_path: str,\n",
    "    docker_name: str,\n",
    "    app_dir_name: str,\n",
    "    custom_image_uri: str,\n",
    ") -> NamedTuple('Outputs', [\n",
    "    ('custom_image_uri', str),\n",
    "]):\n",
    "    # TODO: make output Artifact for image_uri\n",
    "    \"\"\"\n",
    "    custom pipeline component to build custom image using\n",
    "    Cloud Build, the training/serving application code, and dependencies\n",
    "    defined in the Dockerfile\n",
    "    \"\"\"\n",
    "    \n",
    "    import logging\n",
    "    import os\n",
    "\n",
    "    from google.cloud.devtools import cloudbuild_v1 as cloudbuild\n",
    "    from google.protobuf.duration_pb2 import Duration\n",
    "\n",
    "    # initialize client for cloud build\n",
    "    logging.getLogger().setLevel(logging.INFO)\n",
    "    build_client = cloudbuild.services.cloud_build.CloudBuildClient()\n",
    "    \n",
    "    # parse step inputs to get path to Dockerfile and training application code\n",
    "    _gcs_dockerfile_path = os.path.join(artifact_gcs_path, f\"{docker_name}\") # Dockerfile.XXXXX\n",
    "    _gcs_script_dir_path = os.path.join(artifact_gcs_path, f\"{app_dir_name}/\") # \"trainer/\"\n",
    "    \n",
    "    logging.info(f\"_gcs_dockerfile_path: {_gcs_dockerfile_path}\")\n",
    "    logging.info(f\"_gcs_script_dir_path: {_gcs_script_dir_path}\")\n",
    "    \n",
    "    # define build steps to pull the training code and Dockerfile\n",
    "    # and build/push the custom training container image\n",
    "    build = cloudbuild.Build()\n",
    "    build.steps = [\n",
    "        {\n",
    "            \"name\": \"gcr.io/cloud-builders/gsutil\",\n",
    "            \"args\": [\"cp\", \"-r\", _gcs_script_dir_path, \".\"],\n",
    "        },\n",
    "        {\n",
    "            \"name\": \"gcr.io/cloud-builders/gsutil\",\n",
    "            \"args\": [\"cp\", _gcs_dockerfile_path, \"Dockerfile\"],\n",
    "        },\n",
    "        # enabling Kaniko cache in a Docker build that caches intermediate\n",
    "        # layers and pushes image automatically to Container Registry\n",
    "        # https://cloud.google.com/build/docs/kaniko-cache\n",
    "        # {\n",
    "        #     \"name\": \"gcr.io/kaniko-project/executor:latest\",\n",
    "        #     # \"name\": \"gcr.io/kaniko-project/executor:v1.8.0\",        # TODO; downgraded to avoid error in build\n",
    "        #     # \"args\": [f\"--destination={training_image_uri}\", \"--cache=true\"],\n",
    "        #     \"args\": [f\"--destination={training_image_uri}\", \"--cache=false\"],\n",
    "        # },\n",
    "        {\n",
    "            \"name\": \"gcr.io/cloud-builders/docker\",\n",
    "            \"args\": ['build','-t', f'{custom_image_uri}', '.'],\n",
    "        },\n",
    "        {\n",
    "            \"name\": \"gcr.io/cloud-builders/docker\",\n",
    "            \"args\": ['push', f'{custom_image_uri}'], \n",
    "        },\n",
    "    ]\n",
    "    # override default timeout of 10min\n",
    "    timeout = Duration()\n",
    "    timeout.seconds = 7200\n",
    "    build.timeout = timeout\n",
    "\n",
    "    # create build\n",
    "    operation = build_client.create_build(project_id=project, build=build)\n",
    "    logging.info(\"IN PROGRESS:\")\n",
    "    logging.info(operation.metadata)\n",
    "\n",
    "    # get build status\n",
    "    result = operation.result()\n",
    "    logging.info(\"RESULT:\", result.status)\n",
    "\n",
    "    # return step outputs\n",
    "    return (\n",
    "        custom_image_uri,\n",
    "    )"
   ]
  },
  {
   "cell_type": "markdown",
   "id": "f8843984-b680-4c46-a456-b55291643e14",
   "metadata": {},
   "source": [
    "## Custom train job"
   ]
  },
  {
   "cell_type": "code",
   "execution_count": 22,
   "id": "bc26d281-a72f-4825-a5f8-33ff35d2fb03",
   "metadata": {},
   "outputs": [
    {
     "name": "stdout",
     "output_type": "stream",
     "text": [
      "Writing src/train_pipes/train_custom_model.py\n"
     ]
    }
   ],
   "source": [
    "%%writefile {REPO_DOCKER_PATH_PREFIX}/{PIPELINES_SUB_DIR}/train_custom_model.py\n",
    "\n",
    "import kfp\n",
    "from typing import Any, Callable, Dict, NamedTuple, Optional, List\n",
    "from kfp.v2.dsl import (Artifact, Dataset, Input, InputPath, Model, Output,\n",
    "                        OutputPath, component, Metrics)\n",
    "@kfp.v2.dsl.component(\n",
    "    base_image='python:3.9',\n",
    "    packages_to_install=[\n",
    "        'google-cloud-aiplatform==1.20.0',\n",
    "        # 'tensorflow==2.9.2',\n",
    "        # 'tensorflow-recommenders==0.7.0',\n",
    "        'numpy',\n",
    "        'google-cloud-storage',\n",
    "    ],\n",
    "    # output_component_file=\"./pipelines/train_custom_model.yaml\",\n",
    ")\n",
    "def train_custom_model(\n",
    "    project: str,\n",
    "    location: str,\n",
    "    model_version: str,\n",
    "    pipeline_version: str,\n",
    "    model_name: str, \n",
    "    worker_pool_specs: dict,\n",
    "    # vocab_dict_uri: str, \n",
    "    train_output_gcs_bucket: str,                         # change to workdir?\n",
    "    training_image_uri: str,\n",
    "    tensorboard_resource_name: str,\n",
    "    service_account: str,\n",
    "    experiment_name: str,\n",
    "    experiment_run: str,\n",
    ") -> NamedTuple('Outputs', [\n",
    "    ('job_dict_uri', str),\n",
    "    ('query_tower_dir_uri', str),\n",
    "    ('candidate_tower_dir_uri', str),\n",
    "    # ('candidate_index_dir_uri', str),\n",
    "]):\n",
    "    \n",
    "    import logging\n",
    "    import numpy as np\n",
    "    import pickle as pkl\n",
    "    \n",
    "    from google.cloud import aiplatform as vertex_ai\n",
    "    import google.cloud.aiplatform_v1beta1 as aip_beta\n",
    "    from google.cloud import storage\n",
    "    \n",
    "    vertex_ai.init(\n",
    "        project=project,\n",
    "        location=location,\n",
    "        experiment=experiment_name,\n",
    "    )\n",
    "    \n",
    "    storage_client = storage.Client(project=project)\n",
    "    \n",
    "    JOB_NAME = f'train-{model_name}'\n",
    "    logging.info(f'JOB_NAME: {JOB_NAME}')\n",
    "    \n",
    "    BASE_OUTPUT_DIR = f'gs://{train_output_gcs_bucket}/{experiment_name}/{experiment_run}'\n",
    "    logging.info(f'BASE_OUTPUT_DIR: {BASE_OUTPUT_DIR}')\n",
    "    \n",
    "    # logging.info(f'vocab_dict_uri: {vocab_dict_uri}')\n",
    "    \n",
    "    logging.info(f'tensorboard_resource_name: {tensorboard_resource_name}')\n",
    "    logging.info(f'service_account: {service_account}')\n",
    "    logging.info(f'worker_pool_specs: {worker_pool_specs}')\n",
    "    \n",
    "    # ====================================================\n",
    "    # Launch Vertex job\n",
    "    # ====================================================\n",
    "  \n",
    "    job = vertex_ai.CustomJob(\n",
    "        display_name=JOB_NAME,\n",
    "        worker_pool_specs=worker_pool_specs,\n",
    "        base_output_dir=BASE_OUTPUT_DIR,\n",
    "        staging_bucket=f\"{BASE_OUTPUT_DIR}/staging\",\n",
    "    )\n",
    "    \n",
    "    logging.info(f'Submitting train job to Vertex AI...')\n",
    "    \n",
    "    job.run(\n",
    "        tensorboard=tensorboard_resource_name,\n",
    "        service_account=f'{service_account}',\n",
    "        restart_job_on_worker_restart=False,\n",
    "        enable_web_access=True,\n",
    "        sync=False,\n",
    "    )\n",
    "        \n",
    "    # wait for job to complete\n",
    "    job.wait()\n",
    "    \n",
    "    # ====================================================\n",
    "    # Save job details\n",
    "    # ====================================================\n",
    "    \n",
    "    train_job_dict = job.to_dict()\n",
    "    logging.info(f'train_job_dict: {train_job_dict}')\n",
    "    \n",
    "    # pkl dict to GCS\n",
    "    logging.info(f\"Write pickled dict to GCS...\")\n",
    "    TRAIN_DICT_LOCAL = f'train_job_dict.pkl'\n",
    "    TRAIN_DICT_GCS_OBJ = f'{experiment_name}/{experiment_run}/{TRAIN_DICT_LOCAL}' # destination folder prefix and blob name\n",
    "    \n",
    "    logging.info(f\"TRAIN_DICT_LOCAL: {TRAIN_DICT_LOCAL}\")\n",
    "    logging.info(f\"TRAIN_DICT_GCS_OBJ: {TRAIN_DICT_GCS_OBJ}\")\n",
    "\n",
    "    # pickle\n",
    "    filehandler = open(f'{TRAIN_DICT_LOCAL}', 'wb')\n",
    "    pkl.dump(train_job_dict, filehandler)\n",
    "    filehandler.close()\n",
    "    \n",
    "    # upload to GCS\n",
    "    bucket_client = storage_client.bucket(train_output_gcs_bucket)\n",
    "    blob = bucket_client.blob(TRAIN_DICT_GCS_OBJ)\n",
    "    blob.upload_from_filename(TRAIN_DICT_LOCAL)\n",
    "    \n",
    "    job_dict_uri = f'gs://{train_output_gcs_bucket}/{TRAIN_DICT_GCS_OBJ}'\n",
    "    logging.info(f\"{TRAIN_DICT_LOCAL} uploaded to {job_dict_uri}\")\n",
    "    \n",
    "    # ====================================================\n",
    "    # Model and index artifact uris\n",
    "    # ====================================================\n",
    "    \n",
    "    query_tower_dir_uri = f\"gs://{train_output_gcs_bucket}/{experiment_name}/{experiment_run}/model-dir/query_model\" \n",
    "    candidate_tower_dir_uri = f\"gs://{train_output_gcs_bucket}/{experiment_name}/{experiment_run}/model-dir/candidate_model\"\n",
    "    # candidate_index_dir_uri = f\"gs://{output_dir_gcs_bucket_name}/{experiment_name}/{experiment_run}/candidate_model\"\n",
    "    \n",
    "    logging.info(f'query_tower_dir_uri: {query_tower_dir_uri}')\n",
    "    logging.info(f'candidate_tower_dir_uri: {candidate_tower_dir_uri}')\n",
    "    # logging.info(f'candidate_index_dir_uri: {candidate_index_dir_uri}')\n",
    "    \n",
    "    return (\n",
    "        f'{job_dict_uri}',\n",
    "        f'{query_tower_dir_uri}',\n",
    "        f'{candidate_tower_dir_uri}',\n",
    "        # f'{candidate_index_dir_uri}',\n",
    "    )"
   ]
  },
  {
   "cell_type": "markdown",
   "id": "4fa3eea5-05b5-46a7-ab2e-6ef4b826fcae",
   "metadata": {},
   "source": [
    "# Prepare Job Specs"
   ]
  },
  {
   "cell_type": "markdown",
   "id": "0e1cfa03-1db5-44ac-9e19-b855a5c63975",
   "metadata": {},
   "source": [
    "## Vertex Train: workerpool specs"
   ]
  },
  {
   "cell_type": "code",
   "execution_count": 23,
   "id": "2286562e-ff21-46e2-bfa4-14e732ddadef",
   "metadata": {},
   "outputs": [],
   "source": [
    "def prepare_worker_pool_specs(\n",
    "    image_uri,\n",
    "    args,\n",
    "    cmd,\n",
    "    replica_count=1,\n",
    "    machine_type=\"n1-standard-16\",\n",
    "    accelerator_count=1,\n",
    "    accelerator_type=\"ACCELERATOR_TYPE_UNSPECIFIED\",\n",
    "    reduction_server_count=0,\n",
    "    reduction_server_machine_type=\"n1-highcpu-16\",\n",
    "    reduction_server_image_uri=\"us-docker.pkg.dev/vertex-ai-restricted/training/reductionserver:latest\",\n",
    "):\n",
    "\n",
    "    if accelerator_count > 0:\n",
    "        machine_spec = {\n",
    "            \"machine_type\": machine_type,\n",
    "            \"accelerator_type\": accelerator_type,\n",
    "            \"accelerator_count\": accelerator_count,\n",
    "        }\n",
    "    else:\n",
    "        machine_spec = {\"machine_type\": machine_type}\n",
    "\n",
    "    container_spec = {\n",
    "        \"image_uri\": image_uri,\n",
    "        \"args\": args,\n",
    "        \"command\": cmd,\n",
    "    }\n",
    "\n",
    "    chief_spec = {\n",
    "        \"replica_count\": 1,\n",
    "        \"machine_spec\": machine_spec,\n",
    "        \"container_spec\": container_spec,\n",
    "    }\n",
    "\n",
    "    worker_pool_specs = [chief_spec]\n",
    "    if replica_count > 1:\n",
    "        workers_spec = {\n",
    "            \"replica_count\": replica_count - 1,\n",
    "            \"machine_spec\": machine_spec,\n",
    "            \"container_spec\": container_spec,\n",
    "        }\n",
    "        worker_pool_specs.append(workers_spec)\n",
    "    if reduction_server_count > 1:\n",
    "        workers_spec = {\n",
    "            \"replica_count\": reduction_server_count,\n",
    "            \"machine_spec\": {\n",
    "                \"machine_type\": reduction_server_machine_type,\n",
    "            },\n",
    "            \"container_spec\": {\"image_uri\": reduction_server_image_uri},\n",
    "        }\n",
    "        worker_pool_specs.append(workers_spec)\n",
    "\n",
    "    return worker_pool_specs"
   ]
  },
  {
   "cell_type": "markdown",
   "id": "045adff3-74fc-4e86-ac19-8e2feee61766",
   "metadata": {},
   "source": [
    "## Accelerators and Device Strategy"
   ]
  },
  {
   "cell_type": "code",
   "execution_count": 24,
   "id": "a8a47f70-c364-4122-a9c6-abda876a0068",
   "metadata": {},
   "outputs": [],
   "source": [
    "# # # # Single machine, single GPU\n",
    "WORKER_MACHINE_TYPE = 'a2-highgpu-1g'\n",
    "REPLICA_COUNT = 1\n",
    "ACCELERATOR_TYPE = 'NVIDIA_TESLA_A100'\n",
    "PER_MACHINE_ACCELERATOR_COUNT = 1\n",
    "REDUCTION_SERVER_COUNT = 0                                                      \n",
    "REDUCTION_SERVER_MACHINE_TYPE = \"n1-highcpu-16\"\n",
    "DISTRIBUTE_STRATEGY = 'single'\n",
    "\n",
    "# Single machine, single GPU, 80 GB 'NVIDIA_A100_80GB'\n",
    "# WORKER_MACHINE_TYPE = 'a2-ultragpu-1g' # 80 GB\n",
    "# REPLICA_COUNT = 1\n",
    "# ACCELERATOR_TYPE = 'NVIDIA_A100_80GB'\n",
    "# PER_MACHINE_ACCELERATOR_COUNT = 1\n",
    "# REDUCTION_SERVER_COUNT = 0                                                      \n",
    "# REDUCTION_SERVER_MACHINE_TYPE = \"n1-highcpu-16\"\n",
    "# DISTRIBUTE_STRATEGY = 'single'\n",
    "\n",
    "# # # Single Machine; multiple GPU\n",
    "# WORKER_MACHINE_TYPE = 'a2-highgpu-4g' # a2-ultragpu-4g\n",
    "# REPLICA_COUNT = 1\n",
    "# ACCELERATOR_TYPE = 'NVIDIA_TESLA_A100'\n",
    "# PER_MACHINE_ACCELERATOR_COUNT = 4\n",
    "# REDUCTION_SERVER_COUNT = 0                                                      \n",
    "# REDUCTION_SERVER_MACHINE_TYPE = \"n1-highcpu-16\"\n",
    "# DISTRIBUTE_STRATEGY = 'mirrored'\n",
    "\n",
    "# # # # Multiple Machine; 1 GPU per machine\n",
    "# WORKER_MACHINE_TYPE = 'a2-highgpu-2g' # a2-ultragpu-4g\n",
    "# REPLICA_COUNT = 2\n",
    "# ACCELERATOR_TYPE = 'NVIDIA_TESLA_A100'\n",
    "# PER_MACHINE_ACCELERATOR_COUNT = 2\n",
    "# REDUCTION_SERVER_COUNT = 4                                                      \n",
    "# REDUCTION_SERVER_MACHINE_TYPE = \"n1-highcpu-16\"\n",
    "# DISTRIBUTE_STRATEGY = 'multiworker'\n",
    "\n",
    "# # # Multiple Machines, 1 GPU per Machine\n",
    "# WORKER_MACHINE_TYPE = 'n1-standard-16'\n",
    "# REPLICA_COUNT = 9\n",
    "# ACCELERATOR_TYPE = 'NVIDIA_TESLA_T4'\n",
    "# PER_MACHINE_ACCELERATOR_COUNT = 1\n",
    "# REDUCTION_SERVER_COUNT = 10                                                      \n",
    "# REDUCTION_SERVER_MACHINE_TYPE = \"n1-highcpu-16\"\n",
    "# DISTRIBUTE_STRATEGY = 'multiworker'"
   ]
  },
  {
   "cell_type": "markdown",
   "id": "e83f96f0-3b01-4622-88e9-cb646b3f873a",
   "metadata": {},
   "source": [
    "## Vertex AI Experiments"
   ]
  },
  {
   "cell_type": "code",
   "execution_count": 63,
   "id": "28d8b91d-9772-49da-b7a4-4ab33a12c0c4",
   "metadata": {},
   "outputs": [
    {
     "name": "stdout",
     "output_type": "stream",
     "text": [
      "EXPERIMENT_NAME: 8m-tfrs-big-layers-jtv15-8m\n",
      "RUN_NAME: run-20230127-221018\n"
     ]
    }
   ],
   "source": [
    "EXPERIMENT_PREFIX = '8m-tfrs-big-layers'                     # custom identifier for organizing experiments\n",
    "EXPERIMENT_NAME=f'{EXPERIMENT_PREFIX}-{VERSION}'\n",
    "RUN_NAME = f'run-{time.strftime(\"%Y%m%d-%H%M%S\")}'\n",
    "\n",
    "print(f\"EXPERIMENT_NAME: {EXPERIMENT_NAME}\")\n",
    "print(f\"RUN_NAME: {RUN_NAME}\")"
   ]
  },
  {
   "cell_type": "markdown",
   "id": "e8f2fed1-9d86-41cf-add4-4e25f6d93030",
   "metadata": {},
   "source": [
    "## Managed Tensorboard"
   ]
  },
  {
   "cell_type": "code",
   "execution_count": 64,
   "id": "e7a56de9-f390-4c3f-9aad-24c09145afff",
   "metadata": {},
   "outputs": [
    {
     "name": "stdout",
     "output_type": "stream",
     "text": [
      "TB_RESOURCE_NAME: projects/934903580331/locations/us-central1/tensorboards/8757997143328817152\n",
      "TB display name: 8m-tfrs-big-layers-v1\n"
     ]
    }
   ],
   "source": [
    "# use existing TB instance\n",
    "# TB_RESOURCE_NAME = 'projects/934903580331/locations/us-central1/tensorboards/6924469145035603968'\n",
    "\n",
    "# # create new TB instance\n",
    "TENSORBOARD_DISPLAY_NAME=f\"{EXPERIMENT_PREFIX}-v1\"\n",
    "tensorboard = vertex_ai.Tensorboard.create(display_name=TENSORBOARD_DISPLAY_NAME, project=PROJECT_ID, location=REGION)\n",
    "TB_RESOURCE_NAME = tensorboard.resource_name\n",
    "\n",
    "\n",
    "print(f\"TB_RESOURCE_NAME: {TB_RESOURCE_NAME}\")\n",
    "print(f\"TB display name: {tensorboard.display_name}\")"
   ]
  },
  {
   "cell_type": "markdown",
   "id": "66142882-0f35-4e7d-ab5a-c0d6b49d3f44",
   "metadata": {
    "tags": []
   },
   "source": [
    "## Training Config\n",
    "\n",
    "* see [src code](https://github.com/googleapis/python-aiplatform/blob/e7bf0d83d8bb0849a9bce886c958d13f5cbe5fab/google/cloud/aiplatform/utils/worker_spec_utils.py#L153) for worker_pool_spec"
   ]
  },
  {
   "cell_type": "markdown",
   "id": "c95b92ba-10f2-4f8c-80fe-9446da2dbd6b",
   "metadata": {},
   "source": [
    "### train image"
   ]
  },
  {
   "cell_type": "code",
   "execution_count": 65,
   "id": "8bc940d1-aecb-480b-9b00-cb5c3afcda81",
   "metadata": {},
   "outputs": [
    {
     "name": "stdout",
     "output_type": "stream",
     "text": [
      "IMAGE_URI: gcr.io/hybrid-vertex/sp-2tower-tfrs-jtv15-8m-pipev1-training\n"
     ]
    }
   ],
   "source": [
    "# =================================================\n",
    "# train image\n",
    "# =================================================\n",
    "# Existing image URI or name for image to create\n",
    "IMAGE_URI = f\"{IMAGE_URI}\"\n",
    "print(f\"IMAGE_URI: {IMAGE_URI}\")"
   ]
  },
  {
   "cell_type": "markdown",
   "id": "5b1c38a4-7207-43a2-92c4-33d821abc448",
   "metadata": {},
   "source": [
    "### train params"
   ]
  },
  {
   "cell_type": "code",
   "execution_count": 66,
   "id": "aef27ee8-e094-4293-a14d-23e87f687a75",
   "metadata": {},
   "outputs": [],
   "source": [
    "SEED = 1234\n",
    "\n",
    "# =================================================\n",
    "# trainconfig: GPU related\n",
    "# =================================================\n",
    "TF_GPU_THREAD_COUNT='8'      # '1' | '4' | '8'\n",
    "\n",
    "# =================================================\n",
    "# trainconfig: data input pipeline\n",
    "# =================================================\n",
    "BLOCK_LENGTH = 64            # 1, 8, 16, 32, 64\n",
    "NUM_DATA_SHARDS = 4          # 2, 4, 8, 16, 32, 64\n",
    "# TRAIN_PREFETCH=3\n",
    "\n",
    "# =================================================\n",
    "# trainconfig: training hparams\n",
    "# =================================================\n",
    "NUM_EPOCHS = 2\n",
    "LEARNING_RATE = 0.01\n",
    "BATCH_SIZE = 8192           # 4096, 2048, 1024, 512 \n",
    "\n",
    "# dropout\n",
    "DROPOUT_RATE = 0.33\n",
    "\n",
    "# model size\n",
    "EMBEDDING_DIM = 128\n",
    "PROJECTION_DIM = 50\n",
    "LAYER_SIZES = '[512,256]'\n",
    "MAX_TOKENS = 20000     # vocab\n",
    "\n",
    "# =================================================\n",
    "# trainconfig: tensorboard\n",
    "# =================================================\n",
    "EMBED_FREQUENCY=0\n",
    "HISTOGRAM_FREQUENCY=0\n",
    "CHECKPOINT_FREQ='epoch'"
   ]
  },
  {
   "cell_type": "markdown",
   "id": "016185c2-7285-414f-8a22-84bfa02fd91c",
   "metadata": {},
   "source": [
    "### train & valid epoch steps"
   ]
  },
  {
   "cell_type": "code",
   "execution_count": 67,
   "id": "1d2ee483-5376-49d5-a743-303e7f90d587",
   "metadata": {},
   "outputs": [
    {
     "name": "stdout",
     "output_type": "stream",
     "text": [
      "VALID_STEPS: 10\n",
      "EPOCH_STEPS: 1001\n"
     ]
    }
   ],
   "source": [
    "# =================================================\n",
    "# trainconfig: train & valid steps\n",
    "# =================================================\n",
    "train_sample_cnt = 8_205_265\n",
    "valid_samples_cnt = 82_959\n",
    "\n",
    "# validation & evaluation\n",
    "VALID_FREQUENCY = 50\n",
    "VALID_STEPS = valid_samples_cnt // BATCH_SIZE # 100\n",
    "EPOCH_STEPS = train_sample_cnt // BATCH_SIZE\n",
    "\n",
    "print(f\"VALID_STEPS: {VALID_STEPS}\")\n",
    "print(f\"EPOCH_STEPS: {EPOCH_STEPS}\")"
   ]
  },
  {
   "cell_type": "markdown",
   "id": "85669e4e-da9c-438b-accd-6e8a64973efc",
   "metadata": {},
   "source": [
    "### data source"
   ]
  },
  {
   "cell_type": "code",
   "execution_count": 68,
   "id": "c29169fd-6a15-48a4-99f1-c4bdfb754f89",
   "metadata": {},
   "outputs": [
    {
     "name": "stdout",
     "output_type": "stream",
     "text": [
      "PIPELINE_ROOT_PATH: gs://jt-tfrs-central-v2/8m-tfrs-big-layers-jtv15-8m/run-20230127-221018/pipeline_root\n"
     ]
    }
   ],
   "source": [
    "# =================================================\n",
    "# trainconfig: gcs locations\n",
    "# =================================================\n",
    "OUTPUT_BUCKET = 'jt-tfrs-central-v2'\n",
    "OUTPUT_GCS_URI =f'gs://{OUTPUT_BUCKET}'\n",
    "\n",
    "# Stores pipeline executions for each run\n",
    "PIPELINE_ROOT_PATH = f'gs://{OUTPUT_BUCKET}/{EXPERIMENT_NAME}/{RUN_NAME}/pipeline_root'\n",
    "print('PIPELINE_ROOT_PATH: {}'.format(PIPELINE_ROOT_PATH))\n",
    "\n",
    "# =================================================\n",
    "# trainconfig: Data sources\n",
    "# =================================================\n",
    "BUCKET_DATA_DIR = 'spotify-data-regimes' \n",
    "\n",
    "# data strategy: 65m\n",
    "# CANDIDATE_PREFIX = 'jtv10/candidates'\n",
    "# TRAIN_DIR_PREFIX = 'jtv10/train_v9'\n",
    "# VALID_DIR_PREFIX = 'jtv10/valid_v9'\n",
    "\n",
    "# data strategy: 08m\n",
    "CANDIDATE_PREFIX = 'jtv15-8m/candidates'\n",
    "TRAIN_DIR_PREFIX = 'jtv15-8m/train'     # train_v14\n",
    "VALID_DIR_PREFIX = 'jtv15-8m/valid'     # valid_v14"
   ]
  },
  {
   "cell_type": "code",
   "execution_count": 69,
   "id": "d8fa7a02-6d4d-43ba-bce4-5289f86db2ce",
   "metadata": {},
   "outputs": [
    {
     "name": "stdout",
     "output_type": "stream",
     "text": [
      "[{'container_spec': {'args': ['--project=hybrid-vertex',\n",
      "                              '--train_output_gcs_bucket=jt-tfrs-central-v2',\n",
      "                              '--train_dir=spotify-data-regimes',\n",
      "                              '--train_dir_prefix=jtv15-8m/train',\n",
      "                              '--valid_dir=spotify-data-regimes',\n",
      "                              '--valid_dir_prefix=jtv15-8m/valid',\n",
      "                              '--candidate_file_dir=spotify-data-regimes',\n",
      "                              '--candidate_files_prefix=jtv15-8m/candidates',\n",
      "                              '--experiment_name=8m-tfrs-big-layers-jtv15-8m',\n",
      "                              '--experiment_run=run-20230127-221018',\n",
      "                              '--num_epochs=2',\n",
      "                              '--batch_size=8192',\n",
      "                              '--embedding_dim=128',\n",
      "                              '--projection_dim=50',\n",
      "                              '--layer_sizes=[512,256]',\n",
      "                              '--learning_rate=0.01',\n",
      "                              '--valid_frequency=50',\n",
      "                              '--valid_steps=10',\n",
      "                              '--epoch_steps=1001',\n",
      "                              '--distribute=single',\n",
      "                              '--model_version=jtv15-8m',\n",
      "                              '--pipeline_version=pipev1',\n",
      "                              '--seed=1234',\n",
      "                              '--max_tokens=20000',\n",
      "                              '--tb_resource_name=projects/934903580331/locations/us-central1/tensorboards/8757997143328817152',\n",
      "                              '--embed_frequency=0',\n",
      "                              '--hist_frequency=0',\n",
      "                              '--tf_gpu_thread_count=8',\n",
      "                              '--block_length=64',\n",
      "                              '--num_data_shards=4',\n",
      "                              '--chkpt_freq=epoch',\n",
      "                              '--dropout_rate=0.33',\n",
      "                              '--cache_train',\n",
      "                              '--profiler',\n",
      "                              '--compute_batch_metrics',\n",
      "                              '--use_cross_layer',\n",
      "                              '--use_dropout'],\n",
      "                     'command': ['python', 'two_tower_jt/task.py'],\n",
      "                     'image_uri': 'gcr.io/hybrid-vertex/sp-2tower-tfrs-jtv15-8m-pipev1-training'},\n",
      "  'machine_spec': {'accelerator_count': 1,\n",
      "                   'accelerator_type': 'NVIDIA_TESLA_A100',\n",
      "                   'machine_type': 'a2-highgpu-1g'},\n",
      "  'replica_count': 1}]\n"
     ]
    }
   ],
   "source": [
    "WORKER_CMD = [\"python\", \"two_tower_jt/task.py\"]\n",
    "# WORKER_CMD [\"python\", \"-m\", \"trainer.task\"]\n",
    "\n",
    "WORKER_ARGS = [\n",
    "    f'--project={PROJECT_ID}',\n",
    "    f'--train_output_gcs_bucket={OUTPUT_BUCKET}',\n",
    "    f'--train_dir={BUCKET_DATA_DIR}',\n",
    "    f'--train_dir_prefix={TRAIN_DIR_PREFIX}',\n",
    "    f'--valid_dir={BUCKET_DATA_DIR}',\n",
    "    f'--valid_dir_prefix={VALID_DIR_PREFIX}',\n",
    "    f'--candidate_file_dir={BUCKET_DATA_DIR}',\n",
    "    f'--candidate_files_prefix={CANDIDATE_PREFIX}',\n",
    "    f'--experiment_name={EXPERIMENT_NAME}',\n",
    "    f'--experiment_run={RUN_NAME}',\n",
    "    f'--num_epochs={NUM_EPOCHS}',\n",
    "    f'--batch_size={BATCH_SIZE}',\n",
    "    f'--embedding_dim={EMBEDDING_DIM}',\n",
    "    f'--projection_dim={PROJECTION_DIM}',\n",
    "    f'--layer_sizes={LAYER_SIZES}',\n",
    "    f'--learning_rate={LEARNING_RATE}',\n",
    "    f'--valid_frequency={VALID_FREQUENCY}',\n",
    "    f'--valid_steps={VALID_STEPS}',\n",
    "    f'--epoch_steps={EPOCH_STEPS}',\n",
    "    f'--distribute={DISTRIBUTE_STRATEGY}',\n",
    "    f'--model_version={VERSION}',\n",
    "    f'--pipeline_version={PIPELINE_VERSION}',\n",
    "    f'--seed={SEED}',\n",
    "    f'--max_tokens={MAX_TOKENS}',\n",
    "    f'--tb_resource_name={TB_RESOURCE_NAME}',\n",
    "    f'--embed_frequency={EMBED_FREQUENCY}',\n",
    "    f'--hist_frequency={HISTOGRAM_FREQUENCY}',\n",
    "    f'--tf_gpu_thread_count={TF_GPU_THREAD_COUNT}',\n",
    "    f'--block_length={BLOCK_LENGTH}',\n",
    "    f'--num_data_shards={NUM_DATA_SHARDS}',\n",
    "    f'--chkpt_freq={CHECKPOINT_FREQ}',\n",
    "    f'--dropout_rate={DROPOUT_RATE}',\n",
    "    # uncomment these to pass value of True (bool)\n",
    "    f'--cache_train',                                # caches train_dataset\n",
    "    # f'--evaluate_model',                           # runs model.eval()\n",
    "    # f'--write_embeddings',                         # writes embeddings index in train job\n",
    "    f'--profiler',                                   # runs TB profiler\n",
    "    # f'--set_jit',                                  # enables XLA\n",
    "    f'--compute_batch_metrics',\n",
    "    f'--use_cross_layer',\n",
    "    f'--use_dropout',\n",
    "]\n",
    "\n",
    "WORKER_POOL_SPECS = prepare_worker_pool_specs(\n",
    "    image_uri=IMAGE_URI,\n",
    "    args=WORKER_ARGS,\n",
    "    cmd=WORKER_CMD,\n",
    "    replica_count=REPLICA_COUNT,\n",
    "    machine_type=WORKER_MACHINE_TYPE,\n",
    "    accelerator_count=PER_MACHINE_ACCELERATOR_COUNT,\n",
    "    accelerator_type=ACCELERATOR_TYPE,\n",
    "    reduction_server_count=REDUCTION_SERVER_COUNT,\n",
    "    reduction_server_machine_type=REDUCTION_SERVER_MACHINE_TYPE,\n",
    ")\n",
    "\n",
    "from pprint import pprint\n",
    "pprint(WORKER_POOL_SPECS)"
   ]
  },
  {
   "cell_type": "code",
   "execution_count": 70,
   "id": "e4d826dc-0dfc-44de-99f1-79d68ecd559d",
   "metadata": {},
   "outputs": [
    {
     "name": "stdout",
     "output_type": "stream",
     "text": [
      "/home/jupyter/jw-repo/spotify_mpd_two_tower\n",
      "gs://jt-tfrs-central-v2/8m-tfrs-big-layers-jtv15-8m/run-20230127-221018/pipeline_root\n",
      "src\n"
     ]
    }
   ],
   "source": [
    "!export PWD=pwd\n",
    "!export PIPELINE_ROOT_PATH=PIPELINE_ROOT_PATH\n",
    "!export REPO_DOCKER_PATH_PREFIX=REPO_DOCKER_PATH_PREFIX\n",
    "\n",
    "! echo $PWD\n",
    "! echo $PIPELINE_ROOT_PATH\n",
    "! echo $REPO_DOCKER_PATH_PREFIX"
   ]
  },
  {
   "cell_type": "markdown",
   "id": "caff7b07-e1ad-4dcf-845a-7d2661cc63cd",
   "metadata": {},
   "source": [
    "### copy train package to GCS"
   ]
  },
  {
   "cell_type": "code",
   "execution_count": 71,
   "id": "913e0f5d-abc0-4d78-915e-7a28489e3d23",
   "metadata": {},
   "outputs": [
    {
     "name": "stdout",
     "output_type": "stream",
     "text": [
      "Copying file://src/cloudbuild.yaml [Content-Type=application/octet-stream]...\n",
      "/ [1 files][  178.0 B/  178.0 B]                                                \n",
      "Operation completed over 1 objects/178.0 B.                                      \n",
      "Copying file://src/Dockerfile.tfrs [Content-Type=application/octet-stream]...\n",
      "/ [1 files][  387.0 B/  387.0 B]                                                \n",
      "Operation completed over 1 objects/387.0 B.                                      \n",
      "Copying file://src/two_tower_jt/__init__.py [Content-Type=text/x-python]...\n",
      "Copying file://src/two_tower_jt/__pycache__/__init__.cpython-37.pyc [Content-Type=application/x-python-code]...\n",
      "Copying file://src/two_tower_jt/__pycache__/two_tower.cpython-37.pyc [Content-Type=application/x-python-code]...\n",
      "Copying file://src/two_tower_jt/two_tower_lite.py [Content-Type=text/x-python]...\n",
      "Copying file://src/two_tower_jt/__pycache__/train_config.cpython-37.pyc [Content-Type=application/x-python-code]...\n",
      "Copying file://src/two_tower_jt/interactive_train.py [Content-Type=text/x-python]...\n",
      "Copying file://src/two_tower_jt/data-pipeline.py [Content-Type=text/x-python]...\n",
      "Copying file://src/two_tower_jt/requirements.txt [Content-Type=text/plain]...\n",
      "Copying file://src/two_tower_jt/train_config.py [Content-Type=text/x-python]... \n",
      "Copying file://src/two_tower_jt/task.py [Content-Type=text/x-python]...\n",
      "Copying file://src/two_tower_jt/two_tower.py [Content-Type=text/x-python]...    \n",
      "/ [11/11 files][147.8 KiB/147.8 KiB] 100% Done                                  \n",
      "Operation completed over 11 objects/147.8 KiB.                                   \n",
      "\n",
      " Copied training package and Dockerfile to gs://jt-tfrs-central-v2/8m-tfrs-big-layers-jtv15-8m/run-20230127-221018/pipeline_root\n",
      "\n"
     ]
    }
   ],
   "source": [
    "# copy training Dockerfile\n",
    "!gsutil cp $REPO_DOCKER_PATH_PREFIX/cloudbuild.yaml $PIPELINE_ROOT_PATH/cloudbuild.yaml\n",
    "!gsutil cp $REPO_DOCKER_PATH_PREFIX/Dockerfile.tfrs $PIPELINE_ROOT_PATH/Dockerfile.tfrs\n",
    "\n",
    "# # # copy training application code\n",
    "! gsutil -m cp -r $REPO_DOCKER_PATH_PREFIX/two_tower_jt/* $PIPELINE_ROOT_PATH/trainer\n",
    "\n",
    "print(f\"\\n Copied training package and Dockerfile to {PIPELINE_ROOT_PATH}\\n\")"
   ]
  },
  {
   "cell_type": "code",
   "execution_count": 72,
   "id": "f94fccbf-ca7f-4326-b22d-e119fcee168c",
   "metadata": {},
   "outputs": [
    {
     "name": "stdout",
     "output_type": "stream",
     "text": [
      "gs://jt-tfrs-central-v2/8m-tfrs-big-layers-jtv15-8m/run-20230127-221018/pipeline_root/trainer/:\n",
      "         0  2023-01-27T22:10:36Z  gs://jt-tfrs-central-v2/8m-tfrs-big-layers-jtv15-8m/run-20230127-221018/pipeline_root/trainer/__init__.py\n",
      "       835  2023-01-27T22:10:36Z  gs://jt-tfrs-central-v2/8m-tfrs-big-layers-jtv15-8m/run-20230127-221018/pipeline_root/trainer/data-pipeline.py\n",
      "        44  2023-01-27T22:10:36Z  gs://jt-tfrs-central-v2/8m-tfrs-big-layers-jtv15-8m/run-20230127-221018/pipeline_root/trainer/interactive_train.py\n",
      "       219  2023-01-27T22:10:36Z  gs://jt-tfrs-central-v2/8m-tfrs-big-layers-jtv15-8m/run-20230127-221018/pipeline_root/trainer/requirements.txt\n",
      "     26750  2023-01-27T22:10:36Z  gs://jt-tfrs-central-v2/8m-tfrs-big-layers-jtv15-8m/run-20230127-221018/pipeline_root/trainer/task.py\n",
      "       247  2023-01-27T22:10:36Z  gs://jt-tfrs-central-v2/8m-tfrs-big-layers-jtv15-8m/run-20230127-221018/pipeline_root/trainer/train_config.py\n",
      "     58003  2023-01-27T22:10:36Z  gs://jt-tfrs-central-v2/8m-tfrs-big-layers-jtv15-8m/run-20230127-221018/pipeline_root/trainer/two_tower.py\n",
      "     44861  2023-01-27T22:10:36Z  gs://jt-tfrs-central-v2/8m-tfrs-big-layers-jtv15-8m/run-20230127-221018/pipeline_root/trainer/two_tower_lite.py\n",
      "\n",
      "gs://jt-tfrs-central-v2/8m-tfrs-big-layers-jtv15-8m/run-20230127-221018/pipeline_root/trainer/__pycache__/:\n",
      "       159  2023-01-27T22:10:36Z  gs://jt-tfrs-central-v2/8m-tfrs-big-layers-jtv15-8m/run-20230127-221018/pipeline_root/trainer/__pycache__/__init__.cpython-37.pyc\n",
      "       385  2023-01-27T22:10:36Z  gs://jt-tfrs-central-v2/8m-tfrs-big-layers-jtv15-8m/run-20230127-221018/pipeline_root/trainer/__pycache__/train_config.cpython-37.pyc\n",
      "     19876  2023-01-27T22:10:36Z  gs://jt-tfrs-central-v2/8m-tfrs-big-layers-jtv15-8m/run-20230127-221018/pipeline_root/trainer/__pycache__/two_tower.cpython-37.pyc\n",
      "TOTAL: 11 objects, 151379 bytes (147.83 KiB)\n"
     ]
    }
   ],
   "source": [
    "! gsutil ls -Rl $PIPELINE_ROOT_PATH/trainer"
   ]
  },
  {
   "cell_type": "markdown",
   "id": "19d64bb5-3128-44f6-b652-468a7a325c15",
   "metadata": {},
   "source": [
    "# Build & Submit Pipeline"
   ]
  },
  {
   "cell_type": "code",
   "execution_count": 73,
   "id": "f1eb197b-ea56-4b83-aa92-8198a75711ee",
   "metadata": {},
   "outputs": [
    {
     "name": "stdout",
     "output_type": "stream",
     "text": [
      "PIPELINE_TAG: 2tower-pipev1\n",
      "PIPELINE_NAME: trainer-jtv15-8m-2tower-pipev1\n"
     ]
    }
   ],
   "source": [
    "PIPELINE_TAG = f'2tower-{PIPELINE_VERSION}'\n",
    "print(\"PIPELINE_TAG:\", PIPELINE_TAG)\n",
    "\n",
    "PIPELINE_NAME = f'trainer-{VERSION}-{PIPELINE_TAG}'.replace('_', '-')\n",
    "print(\"PIPELINE_NAME:\", PIPELINE_NAME)"
   ]
  },
  {
   "cell_type": "markdown",
   "id": "b89d7d94-7e15-42d6-b38c-f3eab2affb1a",
   "metadata": {},
   "source": [
    "## Create pipeline"
   ]
  },
  {
   "cell_type": "code",
   "execution_count": 74,
   "id": "5e6f5b61-ab53-4619-b854-8c5a4da210e4",
   "metadata": {},
   "outputs": [],
   "source": [
    "from src.train_pipes import build_custom_image, train_custom_model\n",
    "\n",
    "@kfp.v2.dsl.pipeline(\n",
    "    name=f'{PIPELINE_NAME}'.replace('_', '-')\n",
    ")\n",
    "def pipeline(\n",
    "    project: str,\n",
    "    project_number: str,\n",
    "    location: str,\n",
    "    service_account: str,\n",
    "    model_version: str,\n",
    "    pipeline_version: str,\n",
    "    train_image_uri: str,\n",
    "    train_output_gcs_bucket: str,\n",
    "    gcs_train_script_path: str,\n",
    "    model_display_name: str,\n",
    "    train_dockerfile_name: str,\n",
    "    train_dir: str,\n",
    "    train_dir_prefix: str,\n",
    "    valid_dir: str,\n",
    "    valid_dir_prefix: str,\n",
    "    candidate_file_dir: str,\n",
    "    candidate_files_prefix: str,\n",
    "    tensorboard_resource_name: str,\n",
    "    experiment_name: str,\n",
    "    experiment_run: str,\n",
    "    register_model: bool,\n",
    "):\n",
    "    \n",
    "    from kfp.v2.components import importer_node\n",
    "    from google_cloud_pipeline_components.types import artifact_types\n",
    "    \n",
    "    # ========================================================================\n",
    "    # Build Custom Train Image\n",
    "    # ========================================================================\n",
    "    \n",
    "    # build_custom_train_image_op = (\n",
    "    #     build_custom_train_image.build_custom_train_image(\n",
    "    #         project=project,\n",
    "    #         gcs_train_script_path=gcs_train_script_path,\n",
    "    #         training_image_uri=train_image_uri,\n",
    "    #         train_dockerfile_name=train_dockerfile_name,\n",
    "    #     )\n",
    "    #     .set_display_name(\"Build custom train image\")\n",
    "    #     .set_caching_options(False)\n",
    "    # )\n",
    "\n",
    "\n",
    "    run_train_task_op = (\n",
    "        train_custom_model.train_custom_model(\n",
    "            project=project,\n",
    "            location=location,\n",
    "            model_version=model_version,\n",
    "            pipeline_version=pipeline_version,\n",
    "            model_name=model_display_name,\n",
    "            worker_pool_specs=WORKER_POOL_SPECS, \n",
    "            train_output_gcs_bucket=train_output_gcs_bucket,\n",
    "            # vocab_dict_uri=build_vocabs_string_lookups_op.outputs['vocab_gcs_uri'],\n",
    "            experiment_name=experiment_name,\n",
    "            experiment_run=experiment_run,\n",
    "            training_image_uri=train_image_uri,\n",
    "            tensorboard_resource_name=tensorboard_resource_name, \n",
    "            service_account=service_account,\n",
    "        )\n",
    "        .set_display_name(\"2Tower Training\")\n",
    "        .set_caching_options(True)\n",
    "        # .after(build_custom_train_image_op)\n",
    "    )\n",
    "    \n",
    "    # ========================================================================\n",
    "    # Import trained Query and Candidate Towers to this DAG (metadata)\n",
    "    # ========================================================================\n",
    "    \n",
    "    import_unmanaged_query_model_task = (\n",
    "        importer_node.importer(\n",
    "            artifact_uri=run_train_task_op.outputs['query_tower_dir_uri'],\n",
    "            artifact_class=artifact_types.UnmanagedContainerModel,\n",
    "            metadata={\n",
    "                'containerSpec': {\n",
    "                    'imageUri': 'us-docker.pkg.dev/vertex-ai/prediction/tf2-gpu.2-10:latest',\n",
    "                },\n",
    "            },\n",
    "        )\n",
    "        .set_display_name(\"Import Query Tower\")\n",
    "        .after(run_train_task_op)\n",
    "        .set_caching_options(True)\n",
    "    )\n",
    "    \n",
    "    import_unmanaged_candidate_model_task = (\n",
    "        importer_node.importer(\n",
    "            artifact_uri=run_train_task_op.outputs['candidate_tower_dir_uri'],\n",
    "            artifact_class=artifact_types.UnmanagedContainerModel,\n",
    "            metadata={\n",
    "                'containerSpec': {\n",
    "                    'imageUri': 'us-docker.pkg.dev/vertex-ai/prediction/tf2-gpu.2-10:latest',\n",
    "                },\n",
    "            },\n",
    "        )\n",
    "        .set_display_name(\"Import Candidate Tower\")\n",
    "        .after(run_train_task_op)\n",
    "        .set_caching_options(True)\n",
    "    )\n",
    "    \n",
    "    # ========================================================================\n",
    "    # Conditional: Upload models to Vertex model registry\n",
    "    # ========================================================================\n",
    "    with kfp.v2.dsl.Condition(register_model == \"True\", name=\"Create New Endpoint\"):\n",
    "        \n",
    "        query_model_upload_op = (\n",
    "            gcc_aip.ModelUploadOp(\n",
    "                project=project,\n",
    "                location=location,\n",
    "                display_name=f'query-tower-{model_display_name}',\n",
    "                unmanaged_container_model=import_unmanaged_query_model_task.outputs[\"artifact\"],\n",
    "                labels={\"tower\": \"query\"},\n",
    "            )\n",
    "            .set_display_name(\"Upload Query Tower\")\n",
    "            .set_caching_options(True)\n",
    "        )\n",
    "        \n",
    "        candidate_model_upload_op = (\n",
    "            gcc_aip.ModelUploadOp(\n",
    "                project=project,\n",
    "                location=location,\n",
    "                display_name=f'candidate-tower-{model_display_name}',\n",
    "                unmanaged_container_model=import_unmanaged_candidate_model_task.outputs[\"artifact\"],\n",
    "                labels={\"tower\": \"candidate\"},\n",
    "            )\n",
    "            .set_display_name(\"Upload Query Tower to Vertex\")\n",
    "            .set_caching_options(True)\n",
    "        )\n",
    "        \n",
    "        "
   ]
  },
  {
   "cell_type": "code",
   "execution_count": 75,
   "id": "65c65526-e42c-459c-a3a2-db8c84b6cc43",
   "metadata": {},
   "outputs": [],
   "source": [
    "# ! rm -f custom_container_pipeline_spec.json\n",
    "\n",
    "PIPELINE_JSON_SPEC_LOCAL = \"custom_pipeline_spec.json\"\n",
    "\n",
    "! rm -f $PIPELINE_JSON_SPEC_LOCAL\n",
    "\n",
    "kfp.v2.compiler.Compiler().compile(\n",
    "    pipeline_func=pipeline, package_path=PIPELINE_JSON_SPEC_LOCAL,\n",
    ")"
   ]
  },
  {
   "cell_type": "markdown",
   "id": "fd8d598e-9456-452f-bb41-6c80feb288a7",
   "metadata": {},
   "source": [
    "### save pipeline spec json"
   ]
  },
  {
   "cell_type": "code",
   "execution_count": 76,
   "id": "b3c4df38-23c9-449c-bbd2-bb6432d6e6a6",
   "metadata": {},
   "outputs": [
    {
     "name": "stdout",
     "output_type": "stream",
     "text": [
      "PIPELINES_FILEPATH: gs://jt-tfrs-central-v2/8m-tfrs-big-layers-jtv15-8m/run-20230127-221018/pipeline_root/pipeline_spec.json\n",
      "Copying file://custom_pipeline_spec.json [Content-Type=application/json]...\n",
      "/ [1 files][ 36.4 KiB/ 36.4 KiB]                                                \n",
      "Operation completed over 1 objects/36.4 KiB.                                     \n"
     ]
    }
   ],
   "source": [
    "# !gsutil cp custom_container_pipeline_spec.json $PIPELINE_ROOT_PATH/pipeline_spec.json\n",
    "\n",
    "PIPELINES_FILEPATH = f'{PIPELINE_ROOT_PATH}/pipeline_spec.json'\n",
    "print(\"PIPELINES_FILEPATH:\", PIPELINES_FILEPATH)\n",
    "\n",
    "!gsutil cp $PIPELINE_JSON_SPEC_LOCAL $PIPELINES_FILEPATH"
   ]
  },
  {
   "cell_type": "code",
   "execution_count": 77,
   "id": "c6dba00a-d42b-40f5-8135-777caaae79a2",
   "metadata": {},
   "outputs": [
    {
     "name": "stdout",
     "output_type": "stream",
     "text": [
      "gs://jt-tfrs-central-v2/8m-tfrs-big-layers-jtv15-8m/run-20230127-221018/pipeline_root/Dockerfile.tfrs\n",
      "gs://jt-tfrs-central-v2/8m-tfrs-big-layers-jtv15-8m/run-20230127-221018/pipeline_root/cloudbuild.yaml\n",
      "gs://jt-tfrs-central-v2/8m-tfrs-big-layers-jtv15-8m/run-20230127-221018/pipeline_root/pipeline_spec.json\n",
      "gs://jt-tfrs-central-v2/8m-tfrs-big-layers-jtv15-8m/run-20230127-221018/pipeline_root/trainer/\n"
     ]
    }
   ],
   "source": [
    "!gsutil ls $PIPELINE_ROOT_PATH"
   ]
  },
  {
   "cell_type": "markdown",
   "id": "7fa01119-431a-49ce-bd7d-0acc1ca37e6c",
   "metadata": {},
   "source": [
    "## Submit pipeline to Vertex"
   ]
  },
  {
   "cell_type": "code",
   "execution_count": 78,
   "id": "9e110b33-7f68-4575-a1a6-e0515727505e",
   "metadata": {},
   "outputs": [
    {
     "data": {
      "text/plain": [
       "'trainer-jtv15-8m-2tower-pipev1'"
      ]
     },
     "execution_count": 78,
     "metadata": {},
     "output_type": "execute_result"
    }
   ],
   "source": [
    "PIPELINE_NAME"
   ]
  },
  {
   "cell_type": "code",
   "execution_count": 79,
   "id": "db63e2ee-ab3e-4e08-bc95-91e9b194d469",
   "metadata": {},
   "outputs": [],
   "source": [
    "PROJECT_NUMBER='934903580331'\n",
    "vpc_network_name = 'ucaip-haystack-vpc-network'\n",
    "# SERVICE_ACCOUNT = '934903580331-compute@developer.gserviceaccount.com'\n",
    "SERVICE_ACCOUNT = 'notebooksa@hybrid-vertex.iam.gserviceaccount.com'\n",
    "\n",
    "TRAIN_APP_CODE_PATH = f'{PIPELINE_ROOT_PATH}/trainer'\n",
    "\n",
    "job = vertex_ai.PipelineJob(\n",
    "    display_name=PIPELINE_NAME,\n",
    "    template_path=PIPELINES_FILEPATH,\n",
    "    pipeline_root=f'{PIPELINE_ROOT_PATH}',\n",
    "    failure_policy='fast', # slow | fast\n",
    "    # enable_caching=False,\n",
    "    parameter_values={\n",
    "        'project': PROJECT_ID,\n",
    "        'project_number': PROJECT_NUMBER,\n",
    "        'location': REGION,\n",
    "        'model_version': VERSION,\n",
    "        'pipeline_version': PIPELINE_VERSION,\n",
    "        'model_display_name': MODEL_ROOT_NAME,\n",
    "        # 'pipeline_tag': PIPELINE_TAG,\n",
    "        'gcs_train_script_path': TRAIN_APP_CODE_PATH,\n",
    "        'train_image_uri': f\"{IMAGE_URI}\",\n",
    "        'train_output_gcs_bucket': OUTPUT_BUCKET,\n",
    "        'train_dir': BUCKET_DATA_DIR,\n",
    "        'train_dir_prefix': TRAIN_DIR_PREFIX,\n",
    "        'valid_dir': BUCKET_DATA_DIR,\n",
    "        'valid_dir_prefix': VALID_DIR_PREFIX,\n",
    "        'candidate_file_dir': BUCKET_DATA_DIR,\n",
    "        'candidate_files_prefix': CANDIDATE_PREFIX,\n",
    "        'tensorboard_resource_name': TB_RESOURCE_NAME,\n",
    "        'train_dockerfile_name': DOCKERNAME,\n",
    "        'experiment_name': EXPERIMENT_NAME,\n",
    "        'experiment_run': RUN_NAME,\n",
    "        'service_account': SERVICE_ACCOUNT,\n",
    "        'register_model': False,\n",
    "    },\n",
    ")\n",
    "\n",
    "job.run(\n",
    "    sync=False,\n",
    "    service_account=SERVICE_ACCOUNT,\n",
    "    network=f'projects/{PROJECT_NUMBER}/global/networks/{vpc_network_name}'\n",
    ")"
   ]
  },
  {
   "cell_type": "markdown",
   "id": "ceb75704-0393-48c1-8281-de18bd55fd71",
   "metadata": {},
   "source": [
    "#### clean up"
   ]
  },
  {
   "cell_type": "code",
   "execution_count": 32,
   "id": "deea05b0-4a31-4b8c-941b-e0dd79979f1e",
   "metadata": {},
   "outputs": [],
   "source": [
    "# ! rm -rf custom_pipeline_spec.json"
   ]
  }
 ],
 "metadata": {
  "environment": {
   "kernel": "python3",
   "name": "tf2-gpu.2-10.m103",
   "type": "gcloud",
   "uri": "gcr.io/deeplearning-platform-release/tf2-gpu.2-10:m103"
  },
  "kernelspec": {
   "display_name": "Python 3 (ipykernel)",
   "language": "python",
   "name": "python3"
  },
  "language_info": {
   "codemirror_mode": {
    "name": "ipython",
    "version": 3
   },
   "file_extension": ".py",
   "mimetype": "text/x-python",
   "name": "python",
   "nbconvert_exporter": "python",
   "pygments_lexer": "ipython3",
   "version": "3.7.12"
  }
 },
 "nbformat": 4,
 "nbformat_minor": 5
}
