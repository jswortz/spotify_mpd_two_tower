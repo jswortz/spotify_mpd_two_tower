{
 "cells": [
  {
   "cell_type": "code",
   "execution_count": 1,
   "id": "77c44945-a86b-4a11-9f14-7d6d908b0674",
   "metadata": {},
   "outputs": [],
   "source": [
    "TEST_INSTANCE = {'album_name_can': 'We Just Havent Met Yet', \n",
    "                 'album_name_pl': [\"There's Really A Wolf\", 'Late Nights: The Album',\n",
    "                       'American Teen', 'Crazy In Love', 'Pony'], \n",
    "                 'album_uri_can': 'spotify:album:5l83t3mbVgCrIe1VU9uJZR', \n",
    "                 'artist_followers_can': 4339757.0, \n",
    "                 'artist_genres_can': \"'hawaiian hip hop', 'rap'\", \n",
    "                 'artist_genres_pl': [\"'hawaiian hip hop', 'rap'\",\n",
    "                       \"'chicago rap', 'dance pop', 'pop', 'pop rap', 'r&b', 'southern hip hop', 'trap', 'urban contemporary'\",\n",
    "                       \"'pop', 'pop r&b'\", \"'dance pop', 'pop', 'r&b'\",\n",
    "                       \"'chill r&b', 'pop', 'pop r&b', 'r&b', 'urban contemporary'\"], \n",
    "                 'artist_name_can': 'Russ', \n",
    "                 'artist_name_pl': ['Russ', 'Jeremih', 'Khalid', 'Beyonc\\xc3\\xa9',\n",
    "                       'William Singe'], \n",
    "                 'artist_pop_can': 82.0, \n",
    "                 #'artist_pop_pl': [82., 80., 90., 87., 65.], \n",
    "                 'artist_uri_can': 'spotify:artist:1z7b1Pr1rSlvWRzsW3HOrS', \n",
    "                 #'artists_followers_pl': [ 4339757.,  5611842., 15046756., 30713126.,   603837.], \n",
    "                 'collaborative': 'false', \n",
    "                 'description_pl': '', \n",
    "                 'duration_ms_can': 237322.0, \n",
    "                 #'duration_ms_songs_pl': [237506., 217200., 219080., 226400., 121739.], \n",
    "                 'n_songs_pl': 8.0, \n",
    "                 'name': 'Lit Tunes ', \n",
    "                 'num_albums_pl': 8.0, \n",
    "                 'num_artists_pl': 8.0, \n",
    "                 'track_name_can': 'We Just Havent Met Yet', \n",
    "                 'track_name_pl': ['Losin Control', 'Paradise', 'Location',\n",
    "                       'Crazy In Love - Remix', 'Pony'], \n",
    "                 'track_pop_can': 57.0, \n",
    "                 #'track_pop_pl': [79., 58., 83., 71., 57.],\n",
    "                 'duration_ms_seed_pl': 51023.1,\n",
    "                 'pid': 1,\n",
    "                 'track_uri_can': 'spotify:track:0VzDv4wiuZsLsNOmfaUy2W', \n",
    "                 'track_uri_pl': ['spotify:track:4cxMGhkinTocPSVVKWIw0d',\n",
    "                       'spotify:track:1wNEBPo3nsbGCZRryI832I',\n",
    "                       'spotify:track:152lZdxL1OR0ZMW6KquMif',\n",
    "                       'spotify:track:2f4IuijXLxYOeBncS60GUD',\n",
    "                       'spotify:track:4Lj8paMFwyKTGfILLELVxt']\n",
    "                     }"
   ]
  },
  {
   "cell_type": "code",
   "execution_count": 11,
   "id": "681a57c3-0b85-4f21-884b-18a4611b4529",
   "metadata": {},
   "outputs": [
    {
     "data": {
      "text/plain": [
       "['album_name_can',\n",
       " 'album_name_pl',\n",
       " 'album_uri_can',\n",
       " 'artist_followers_can',\n",
       " 'artist_genres_can',\n",
       " 'artist_genres_pl',\n",
       " 'artist_name_can',\n",
       " 'artist_name_pl',\n",
       " 'artist_pop_can',\n",
       " 'artist_uri_can',\n",
       " 'collaborative',\n",
       " 'description_pl',\n",
       " 'duration_ms_can',\n",
       " 'n_songs_pl',\n",
       " 'name',\n",
       " 'num_albums_pl',\n",
       " 'num_artists_pl',\n",
       " 'track_name_can',\n",
       " 'track_name_pl',\n",
       " 'track_pop_can',\n",
       " 'duration_ms_seed_pl',\n",
       " 'pid',\n",
       " 'track_uri_can',\n",
       " 'track_uri_pl']"
      ]
     },
     "execution_count": 11,
     "metadata": {},
     "output_type": "execute_result"
    }
   ],
   "source": [
    "list(TEST_INSTANCE.keys())"
   ]
  },
  {
   "cell_type": "code",
   "execution_count": 3,
   "id": "439a8b49-eff6-4919-b2b9-2d9b2559679d",
   "metadata": {},
   "outputs": [
    {
     "data": {
      "text/html": [
       "<div>\n",
       "<style scoped>\n",
       "    .dataframe tbody tr th:only-of-type {\n",
       "        vertical-align: middle;\n",
       "    }\n",
       "\n",
       "    .dataframe tbody tr th {\n",
       "        vertical-align: top;\n",
       "    }\n",
       "\n",
       "    .dataframe thead th {\n",
       "        text-align: right;\n",
       "    }\n",
       "</style>\n",
       "<table border=\"1\" class=\"dataframe\">\n",
       "  <thead>\n",
       "    <tr style=\"text-align: right;\">\n",
       "      <th></th>\n",
       "      <th>album_name_can</th>\n",
       "      <th>album_name_pl</th>\n",
       "      <th>album_uri_can</th>\n",
       "      <th>artist_followers_can</th>\n",
       "      <th>artist_genres_can</th>\n",
       "      <th>artist_genres_pl</th>\n",
       "      <th>artist_name_can</th>\n",
       "      <th>artist_name_pl</th>\n",
       "      <th>artist_pop_can</th>\n",
       "      <th>artist_uri_can</th>\n",
       "      <th>...</th>\n",
       "      <th>name</th>\n",
       "      <th>num_albums_pl</th>\n",
       "      <th>num_artists_pl</th>\n",
       "      <th>track_name_can</th>\n",
       "      <th>track_name_pl</th>\n",
       "      <th>track_pop_can</th>\n",
       "      <th>duration_ms_seed_pl</th>\n",
       "      <th>pid</th>\n",
       "      <th>track_uri_can</th>\n",
       "      <th>track_uri_pl</th>\n",
       "    </tr>\n",
       "  </thead>\n",
       "  <tbody>\n",
       "    <tr>\n",
       "      <th>0</th>\n",
       "      <td>We Just Havent Met Yet</td>\n",
       "      <td>[There's Really A Wolf, Late Nights: The Album...</td>\n",
       "      <td>spotify:album:5l83t3mbVgCrIe1VU9uJZR</td>\n",
       "      <td>4339757.0</td>\n",
       "      <td>'hawaiian hip hop', 'rap'</td>\n",
       "      <td>['hawaiian hip hop', 'rap', 'chicago rap', 'da...</td>\n",
       "      <td>Russ</td>\n",
       "      <td>[Russ, Jeremih, Khalid, BeyoncÃ©, William Singe]</td>\n",
       "      <td>82.0</td>\n",
       "      <td>spotify:artist:1z7b1Pr1rSlvWRzsW3HOrS</td>\n",
       "      <td>...</td>\n",
       "      <td>Lit Tunes</td>\n",
       "      <td>8.0</td>\n",
       "      <td>8.0</td>\n",
       "      <td>We Just Havent Met Yet</td>\n",
       "      <td>[Losin Control, Paradise, Location, Crazy In L...</td>\n",
       "      <td>57.0</td>\n",
       "      <td>51023.1</td>\n",
       "      <td>1</td>\n",
       "      <td>spotify:track:0VzDv4wiuZsLsNOmfaUy2W</td>\n",
       "      <td>[spotify:track:4cxMGhkinTocPSVVKWIw0d, spotify...</td>\n",
       "    </tr>\n",
       "  </tbody>\n",
       "</table>\n",
       "<p>1 rows × 24 columns</p>\n",
       "</div>"
      ],
      "text/plain": [
       "           album_name_can                                      album_name_pl  \\\n",
       "0  We Just Havent Met Yet  [There's Really A Wolf, Late Nights: The Album...   \n",
       "\n",
       "                          album_uri_can artist_followers_can  \\\n",
       "0  spotify:album:5l83t3mbVgCrIe1VU9uJZR            4339757.0   \n",
       "\n",
       "           artist_genres_can  \\\n",
       "0  'hawaiian hip hop', 'rap'   \n",
       "\n",
       "                                    artist_genres_pl artist_name_can  \\\n",
       "0  ['hawaiian hip hop', 'rap', 'chicago rap', 'da...            Russ   \n",
       "\n",
       "                                     artist_name_pl artist_pop_can  \\\n",
       "0  [Russ, Jeremih, Khalid, BeyoncÃ©, William Singe]           82.0   \n",
       "\n",
       "                          artist_uri_can  ...        name num_albums_pl  \\\n",
       "0  spotify:artist:1z7b1Pr1rSlvWRzsW3HOrS  ...  Lit Tunes            8.0   \n",
       "\n",
       "  num_artists_pl          track_name_can  \\\n",
       "0            8.0  We Just Havent Met Yet   \n",
       "\n",
       "                                       track_name_pl track_pop_can  \\\n",
       "0  [Losin Control, Paradise, Location, Crazy In L...          57.0   \n",
       "\n",
       "  duration_ms_seed_pl pid                         track_uri_can  \\\n",
       "0             51023.1   1  spotify:track:0VzDv4wiuZsLsNOmfaUy2W   \n",
       "\n",
       "                                        track_uri_pl  \n",
       "0  [spotify:track:4cxMGhkinTocPSVVKWIw0d, spotify...  \n",
       "\n",
       "[1 rows x 24 columns]"
      ]
     },
     "execution_count": 3,
     "metadata": {},
     "output_type": "execute_result"
    }
   ],
   "source": [
    "import pandas as pd\n",
    "pandas_instance = pd.DataFrame.from_dict(TEST_INSTANCE, orient='index').T\n",
    "pandas_instance"
   ]
  },
  {
   "cell_type": "code",
   "execution_count": 26,
   "id": "5c92c806-8c41-471d-9a2c-8cfca3750018",
   "metadata": {},
   "outputs": [
    {
     "name": "stdout",
     "output_type": "stream",
     "text": [
      "WARNING:tensorflow:No training configuration found in save file, so the model was *not* compiled. Compile it manually.\n"
     ]
    }
   ],
   "source": [
    "import tensorflow as tf\n",
    "model = tf.keras.models.load_model('gs://spotify-beam-v3/merlin-processed/query_model_merlin')"
   ]
  },
  {
   "cell_type": "code",
   "execution_count": 4,
   "id": "d771351f-1d33-490f-9ace-f71e8d8b65f5",
   "metadata": {},
   "outputs": [],
   "source": [
    "import nvtabular as nvt\n",
    "import dask.dataframe as dd\n",
    "import pandas as pd\n",
    "import os\n",
    "BUCKET = 'gs://spotify-beam-v3'\n",
    "\n",
    "\n",
    "workflow = nvt.Workflow.load(os.path.join(BUCKET, \"merlin-processed/workflow/2t-spotify-workflow\"))\n",
    "# input_schema = workflow.input_schema #need to drop the sequential features\n",
    "# input_schema = input_schema.select_by_name(features)\n",
    "\n",
    "# df = pd.DataFrame.from_dict(TEST_INSTANCE)\n",
    "# ddf = dd.from_pandas(df, npartitions=1)\n",
    "TI = nvt.Dataset(pandas_instance)\n",
    "TRANSORMED_TEST_INSTANCE = workflow.transform(TI)\n"
   ]
  },
  {
   "cell_type": "code",
   "execution_count": 5,
   "id": "2039437a-59ec-4aee-9d72-2e05a1cacb88",
   "metadata": {},
   "outputs": [
    {
     "name": "stderr",
     "output_type": "stream",
     "text": [
      "2022-10-14 17:00:26.657361: I tensorflow/core/util/util.cc:169] oneDNN custom operations are on. You may see slightly different numerical results due to floating-point round-off errors from different computation orders. To turn them off, set the environment variable `TF_ENABLE_ONEDNN_OPTS=0`.\n"
     ]
    },
    {
     "data": {
      "text/plain": [
       "<function tensorflow.python.dlpack.dlpack.from_dlpack(dlcapsule)>"
      ]
     },
     "execution_count": 5,
     "metadata": {},
     "output_type": "execute_result"
    }
   ],
   "source": [
    "from merlin.models.loader.tf_utils import configure_tensorflow\n",
    "\n",
    "configure_tensorflow()"
   ]
  },
  {
   "cell_type": "code",
   "execution_count": 117,
   "id": "db76b38f-cb02-44c2-8e8f-51aff2e8a38b",
   "metadata": {},
   "outputs": [
    {
     "data": {
      "text/html": [
       "<div>\n",
       "<style scoped>\n",
       "    .dataframe tbody tr th:only-of-type {\n",
       "        vertical-align: middle;\n",
       "    }\n",
       "\n",
       "    .dataframe tbody tr th {\n",
       "        vertical-align: top;\n",
       "    }\n",
       "\n",
       "    .dataframe thead th {\n",
       "        text-align: right;\n",
       "    }\n",
       "</style>\n",
       "<table border=\"1\" class=\"dataframe\">\n",
       "  <thead>\n",
       "    <tr style=\"text-align: right;\">\n",
       "      <th></th>\n",
       "      <th>pid</th>\n",
       "      <th>track_uri_can</th>\n",
       "      <th>artist_name_can</th>\n",
       "      <th>track_name_can</th>\n",
       "      <th>artist_genres_can</th>\n",
       "      <th>duration_ms_can</th>\n",
       "      <th>track_pop_can</th>\n",
       "      <th>artist_pop_can</th>\n",
       "      <th>artist_followers_can</th>\n",
       "      <th>description_pl</th>\n",
       "      <th>...</th>\n",
       "      <th>collaborative</th>\n",
       "      <th>duration_ms_seed_pl</th>\n",
       "      <th>n_songs_pl</th>\n",
       "      <th>num_artists_pl</th>\n",
       "      <th>num_albums_pl</th>\n",
       "      <th>artist_name_pl</th>\n",
       "      <th>track_uri_pl</th>\n",
       "      <th>track_name_pl</th>\n",
       "      <th>album_name_pl</th>\n",
       "      <th>artist_genres_pl</th>\n",
       "    </tr>\n",
       "  </thead>\n",
       "  <tbody>\n",
       "    <tr>\n",
       "      <th>0</th>\n",
       "      <td>585141</td>\n",
       "      <td>10530</td>\n",
       "      <td>88</td>\n",
       "      <td>11150</td>\n",
       "      <td>104</td>\n",
       "      <td>0.034943</td>\n",
       "      <td>0.597555</td>\n",
       "      <td>0.729853</td>\n",
       "      <td>-0.200199</td>\n",
       "      <td>1</td>\n",
       "      <td>...</td>\n",
       "      <td>1</td>\n",
       "      <td>-1.201752</td>\n",
       "      <td>-1.061753</td>\n",
       "      <td>-0.883958</td>\n",
       "      <td>-0.966815</td>\n",
       "      <td>[91, 70, 52, 0, 1319]</td>\n",
       "      <td>[279, 10324, 11, 5440, 10002]</td>\n",
       "      <td>[388, 140, 16, 6027, 344]</td>\n",
       "      <td>[58, 50, 9, 4322, 7873]</td>\n",
       "      <td>[110, 90, 64, 17, 1304]</td>\n",
       "    </tr>\n",
       "  </tbody>\n",
       "</table>\n",
       "<p>1 rows × 21 columns</p>\n",
       "</div>"
      ],
      "text/plain": [
       "      pid  track_uri_can  artist_name_can  track_name_can  artist_genres_can  \\\n",
       "0  585141          10530               88           11150                104   \n",
       "\n",
       "   duration_ms_can  track_pop_can  artist_pop_can  artist_followers_can  \\\n",
       "0         0.034943       0.597555        0.729853             -0.200199   \n",
       "\n",
       "   description_pl  ...  collaborative  duration_ms_seed_pl  n_songs_pl  \\\n",
       "0               1  ...              1            -1.201752   -1.061753   \n",
       "\n",
       "   num_artists_pl  num_albums_pl         artist_name_pl  \\\n",
       "0       -0.883958      -0.966815  [91, 70, 52, 0, 1319]   \n",
       "\n",
       "                    track_uri_pl              track_name_pl  \\\n",
       "0  [279, 10324, 11, 5440, 10002]  [388, 140, 16, 6027, 344]   \n",
       "\n",
       "             album_name_pl         artist_genres_pl  \n",
       "0  [58, 50, 9, 4322, 7873]  [110, 90, 64, 17, 1304]  \n",
       "\n",
       "[1 rows x 21 columns]"
      ]
     },
     "execution_count": 117,
     "metadata": {},
     "output_type": "execute_result"
    }
   ],
   "source": [
    "for x in TRANSORMED_TEST_INSTANCE.to_iter():\n",
    "    z = x.to_pandas()\n",
    "    # z = x.to_pandas().to_dict('records')\n",
    "\n",
    "z\n",
    "# ds = tf.data.Dataset.from_tensor_slices(dict(z))\n",
    "# keys = z.keys()\n",
    "# new_instance = {}\n",
    "# _ = [new_instance.update({k: z[k]}) for k in keys]\n",
    "\n",
    "# new_instance"
   ]
  },
  {
   "cell_type": "code",
   "execution_count": 137,
   "id": "99f9e7dd-ebaf-422f-b971-71e57760799e",
   "metadata": {},
   "outputs": [
    {
     "data": {
      "text/plain": [
       "{0: array([  279, 10324,    11,  5440, 10002], dtype=int32)}"
      ]
     },
     "execution_count": 137,
     "metadata": {},
     "output_type": "execute_result"
    }
   ],
   "source": [
    "dict(z['track_uri_pl'])"
   ]
  },
  {
   "cell_type": "code",
   "execution_count": 141,
   "id": "f0477d68-14a7-4a07-bbd0-b460df1f19f5",
   "metadata": {},
   "outputs": [
    {
     "data": {
      "text/plain": [
       "<tf.Tensor: shape=(5,), dtype=int32, numpy=array([  279, 10324,    11,  5440, 10002], dtype=int32)>"
      ]
     },
     "execution_count": 141,
     "metadata": {},
     "output_type": "execute_result"
    }
   ],
   "source": [
    "object_cols = [x for x in z.columns if z[x].dtype == object]\n",
    "object_cols\n",
    "\n",
    "\n",
    "tf.stack(dict(z['track_uri_pl'])[0])"
   ]
  },
  {
   "cell_type": "code",
   "execution_count": 124,
   "id": "bbbd9037-a33b-4b1c-a20e-844e88e2cb4e",
   "metadata": {},
   "outputs": [
    {
     "data": {
      "text/plain": [
       "{0: 585141}"
      ]
     },
     "execution_count": 124,
     "metadata": {},
     "output_type": "execute_result"
    }
   ],
   "source": [
    "tf.stack(data_list)dict(z['pid'])"
   ]
  },
  {
   "cell_type": "code",
   "execution_count": 158,
   "id": "51b59529-d8e0-4314-8a5c-e40405040633",
   "metadata": {},
   "outputs": [
    {
     "data": {
      "text/plain": [
       "585141"
      ]
     },
     "execution_count": 158,
     "metadata": {},
     "output_type": "execute_result"
    }
   ],
   "source": [
    "z[col][0]"
   ]
  },
  {
   "cell_type": "code",
   "execution_count": 170,
   "id": "01ef0b2f-86fb-45b7-9ce5-607b9b501414",
   "metadata": {},
   "outputs": [],
   "source": [
    "for col in z.columns:\n",
    "    # if col in object_cols:\n",
    "    #     z_dict.update({col: tf.stack(dict(z[col])[0])})\n",
    "    # else:\n",
    "    z_dict.update({col: tf.constant(dict(z[col])[0])})"
   ]
  },
  {
   "cell_type": "code",
   "execution_count": 171,
   "id": "f5ea7f39-0dca-4255-8c91-e11c0c51358e",
   "metadata": {},
   "outputs": [
    {
     "data": {
      "text/plain": [
       "{'pid': <tf.Tensor: shape=(), dtype=int32, numpy=585141>,\n",
       " 'track_uri_can': <tf.Tensor: shape=(), dtype=int32, numpy=10530>,\n",
       " 'artist_name_can': <tf.Tensor: shape=(), dtype=int32, numpy=88>,\n",
       " 'track_name_can': <tf.Tensor: shape=(), dtype=int32, numpy=11150>,\n",
       " 'artist_genres_can': <tf.Tensor: shape=(), dtype=int32, numpy=104>,\n",
       " 'duration_ms_can': <tf.Tensor: shape=(), dtype=float64, numpy=0.03494252033502457>,\n",
       " 'track_pop_can': <tf.Tensor: shape=(), dtype=float64, numpy=0.5975547714521412>,\n",
       " 'artist_pop_can': <tf.Tensor: shape=(), dtype=float64, numpy=0.7298526364123492>,\n",
       " 'artist_followers_can': <tf.Tensor: shape=(), dtype=float64, numpy=-0.20019871071064566>,\n",
       " 'description_pl': <tf.Tensor: shape=(), dtype=int32, numpy=1>,\n",
       " 'name': <tf.Tensor: shape=(), dtype=int32, numpy=89014>,\n",
       " 'collaborative': <tf.Tensor: shape=(), dtype=int32, numpy=1>,\n",
       " 'duration_ms_seed_pl': <tf.Tensor: shape=(), dtype=float64, numpy=-1.2017519459105102>,\n",
       " 'n_songs_pl': <tf.Tensor: shape=(), dtype=float64, numpy=-1.0617534873375711>,\n",
       " 'num_artists_pl': <tf.Tensor: shape=(), dtype=float64, numpy=-0.883957718987033>,\n",
       " 'num_albums_pl': <tf.Tensor: shape=(), dtype=float64, numpy=-0.9668154125174182>,\n",
       " 'artist_name_pl': <tf.Tensor: shape=(5,), dtype=int32, numpy=array([  91,   70,   52,    0, 1319], dtype=int32)>,\n",
       " 'track_uri_pl': <tf.Tensor: shape=(5,), dtype=int32, numpy=array([  279, 10324,    11,  5440, 10002], dtype=int32)>,\n",
       " 'track_name_pl': <tf.Tensor: shape=(5,), dtype=int32, numpy=array([ 388,  140,   16, 6027,  344], dtype=int32)>,\n",
       " 'album_name_pl': <tf.Tensor: shape=(5,), dtype=int32, numpy=array([  58,   50,    9, 4322, 7873], dtype=int32)>,\n",
       " 'artist_genres_pl': <tf.Tensor: shape=(5,), dtype=int32, numpy=array([ 110,   90,   64,   17, 1304], dtype=int32)>}"
      ]
     },
     "execution_count": 171,
     "metadata": {},
     "output_type": "execute_result"
    }
   ],
   "source": [
    "z_dict"
   ]
  },
  {
   "cell_type": "code",
   "execution_count": 108,
   "id": "3003c0ae-1b3a-4e2d-9fb0-13b2336b18be",
   "metadata": {},
   "outputs": [
    {
     "data": {
      "text/plain": [
       "array([  58,   50,    9, 4322, 7873], dtype=int32)"
      ]
     },
     "execution_count": 108,
     "metadata": {},
     "output_type": "execute_result"
    }
   ],
   "source": [
    "z['album_name_pl'][0]"
   ]
  },
  {
   "cell_type": "code",
   "execution_count": null,
   "id": "323ed650-7b06-4536-b103-1ae4d3240fda",
   "metadata": {},
   "outputs": [
    {
     "ename": "ValueError",
     "evalue": "setting an array element with a sequence.",
     "output_type": "error",
     "traceback": [
      "\u001b[0;31m---------------------------------------------------------------------------\u001b[0m",
      "\u001b[0;31mTypeError\u001b[0m                                 Traceback (most recent call last)",
      "\u001b[0;31mTypeError\u001b[0m: only size-1 arrays can be converted to Python scalars",
      "\nThe above exception was the direct cause of the following exception:\n",
      "\u001b[0;31mValueError\u001b[0m                                Traceback (most recent call last)",
      "Input \u001b[0;32mIn [89]\u001b[0m, in \u001b[0;36m<cell line: 1>\u001b[0;34m()\u001b[0m\n\u001b[0;32m----> 1\u001b[0m \u001b[43mnp\u001b[49m\u001b[38;5;241;43m.\u001b[39;49m\u001b[43masarray\u001b[49m\u001b[43m(\u001b[49m\u001b[43mz\u001b[49m\u001b[43m[\u001b[49m\u001b[38;5;124;43m'\u001b[39;49m\u001b[38;5;124;43malbum_name_pl\u001b[39;49m\u001b[38;5;124;43m'\u001b[39;49m\u001b[43m]\u001b[49m\u001b[38;5;241;43m.\u001b[39;49m\u001b[43mvalues\u001b[49m\u001b[43m)\u001b[49m\u001b[38;5;241;43m.\u001b[39;49m\u001b[43mastype\u001b[49m\u001b[43m(\u001b[49m\u001b[38;5;124;43m'\u001b[39;49m\u001b[38;5;124;43mint32\u001b[39;49m\u001b[38;5;124;43m'\u001b[39;49m\u001b[43m)\u001b[49m\n",
      "\u001b[0;31mValueError\u001b[0m: setting an array element with a sequence."
     ]
    }
   ],
   "source": [
    "np.asarray(z['album_name_pl']).astype('int32')"
   ]
  },
  {
   "cell_type": "code",
   "execution_count": null,
   "id": "b2f81875-e21c-4992-808d-5daffa6f576a",
   "metadata": {},
   "outputs": [],
   "source": [
    "\n",
    "converted_df = pd.DataFrame()\n",
    "\n",
    "import numpy as np\n",
    "cols = z.columns\n",
    "for c in cols:\n",
    "    col_dtype = z[c].dtypes\n",
    "    if c in object_cols:\n",
    "        converted_df[c] = z[c]\n",
    "    else:\n",
    "        converted_df[c] = z[c]"
   ]
  },
  {
   "cell_type": "code",
   "execution_count": 113,
   "id": "7d4cd6e3-7944-4161-bfc0-9dd4b543a046",
   "metadata": {},
   "outputs": [
    {
     "data": {
      "text/plain": [
       "{'pid': 0    585141\n",
       " Name: pid, dtype: int32,\n",
       " 'track_uri_can': 0    10530\n",
       " Name: track_uri_can, dtype: int32,\n",
       " 'artist_name_can': 0    88\n",
       " Name: artist_name_can, dtype: int32,\n",
       " 'track_name_can': 0    11150\n",
       " Name: track_name_can, dtype: int32,\n",
       " 'artist_genres_can': 0    104\n",
       " Name: artist_genres_can, dtype: int32,\n",
       " 'duration_ms_can': 0    0.034943\n",
       " Name: duration_ms_can, dtype: float64,\n",
       " 'track_pop_can': 0    0.597555\n",
       " Name: track_pop_can, dtype: float64,\n",
       " 'artist_pop_can': 0    0.729853\n",
       " Name: artist_pop_can, dtype: float64,\n",
       " 'artist_followers_can': 0   -0.200199\n",
       " Name: artist_followers_can, dtype: float64,\n",
       " 'description_pl': 0    1\n",
       " Name: description_pl, dtype: int32,\n",
       " 'name': 0    89014\n",
       " Name: name, dtype: int32,\n",
       " 'collaborative': 0    1\n",
       " Name: collaborative, dtype: int32,\n",
       " 'duration_ms_seed_pl': 0   -1.201752\n",
       " Name: duration_ms_seed_pl, dtype: float64,\n",
       " 'n_songs_pl': 0   -1.061753\n",
       " Name: n_songs_pl, dtype: float64,\n",
       " 'num_artists_pl': 0   -0.883958\n",
       " Name: num_artists_pl, dtype: float64,\n",
       " 'num_albums_pl': 0   -0.966815\n",
       " Name: num_albums_pl, dtype: float64,\n",
       " 'artist_name_pl': 0    [91, 70, 52, 0, 1319]\n",
       " Name: artist_name_pl, dtype: object,\n",
       " 'track_uri_pl': 0    [279, 10324, 11, 5440, 10002]\n",
       " Name: track_uri_pl, dtype: object,\n",
       " 'track_name_pl': 0    [388, 140, 16, 6027, 344]\n",
       " Name: track_name_pl, dtype: object,\n",
       " 'album_name_pl': 0    [58, 50, 9, 4322, 7873]\n",
       " Name: album_name_pl, dtype: object,\n",
       " 'artist_genres_pl': 0    [110, 90, 64, 17, 1304]\n",
       " Name: artist_genres_pl, dtype: object}"
      ]
     },
     "execution_count": 113,
     "metadata": {},
     "output_type": "execute_result"
    }
   ],
   "source": [
    "dict(z)"
   ]
  },
  {
   "cell_type": "code",
   "execution_count": 169,
   "id": "cf3b8305-c326-4871-ba0a-a44fb2d2e8e5",
   "metadata": {},
   "outputs": [
    {
     "data": {
      "text/plain": [
       "{'pid': <tf.Tensor: shape=(), dtype=int32, numpy=585141>,\n",
       " 'track_uri_can': <tf.Tensor: shape=(), dtype=int32, numpy=10530>,\n",
       " 'artist_name_can': <tf.Tensor: shape=(), dtype=int32, numpy=88>,\n",
       " 'track_name_can': <tf.Tensor: shape=(), dtype=int32, numpy=11150>,\n",
       " 'artist_genres_can': <tf.Tensor: shape=(), dtype=int32, numpy=104>,\n",
       " 'duration_ms_can': <tf.Tensor: shape=(), dtype=float64, numpy=0.03494252033502457>,\n",
       " 'track_pop_can': <tf.Tensor: shape=(), dtype=float64, numpy=0.5975547714521412>,\n",
       " 'artist_pop_can': <tf.Tensor: shape=(), dtype=float64, numpy=0.7298526364123492>,\n",
       " 'artist_followers_can': <tf.Tensor: shape=(), dtype=float64, numpy=-0.20019871071064566>,\n",
       " 'description_pl': <tf.Tensor: shape=(), dtype=int32, numpy=1>,\n",
       " 'name': <tf.Tensor: shape=(), dtype=int32, numpy=89014>,\n",
       " 'collaborative': <tf.Tensor: shape=(), dtype=int32, numpy=1>,\n",
       " 'duration_ms_seed_pl': <tf.Tensor: shape=(), dtype=float64, numpy=-1.2017519459105102>,\n",
       " 'n_songs_pl': <tf.Tensor: shape=(), dtype=float64, numpy=-1.0617534873375711>,\n",
       " 'num_artists_pl': <tf.Tensor: shape=(), dtype=float64, numpy=-0.883957718987033>,\n",
       " 'num_albums_pl': <tf.Tensor: shape=(), dtype=float64, numpy=-0.9668154125174182>,\n",
       " 'artist_name_pl': <tf.Tensor: shape=(5,), dtype=int32, numpy=array([  91,   70,   52,    0, 1319], dtype=int32)>,\n",
       " 'track_uri_pl': <tf.Tensor: shape=(5,), dtype=int32, numpy=array([  279, 10324,    11,  5440, 10002], dtype=int32)>,\n",
       " 'track_name_pl': <tf.Tensor: shape=(5,), dtype=int32, numpy=array([ 388,  140,   16, 6027,  344], dtype=int32)>,\n",
       " 'album_name_pl': <tf.Tensor: shape=(5,), dtype=int32, numpy=array([  58,   50,    9, 4322, 7873], dtype=int32)>,\n",
       " 'artist_genres_pl': <tf.Tensor: shape=(5,), dtype=int32, numpy=array([ 110,   90,   64,   17, 1304], dtype=int32)>}"
      ]
     },
     "execution_count": 169,
     "metadata": {},
     "output_type": "execute_result"
    }
   ],
   "source": [
    "z_dict"
   ]
  },
  {
   "cell_type": "code",
   "execution_count": 174,
   "id": "447b70f2-0d81-4396-acf6-baf4cb0335dd",
   "metadata": {},
   "outputs": [
    {
     "ename": "IndexError",
     "evalue": "tuple index out of range",
     "output_type": "error",
     "traceback": [
      "\u001b[0;31m---------------------------------------------------------------------------\u001b[0m",
      "\u001b[0;31mIndexError\u001b[0m                                Traceback (most recent call last)",
      "Input \u001b[0;32mIn [174]\u001b[0m, in \u001b[0;36m<cell line: 1>\u001b[0;34m()\u001b[0m\n\u001b[0;32m----> 1\u001b[0m \u001b[43mmodel\u001b[49m\u001b[38;5;241;43m.\u001b[39;49m\u001b[43mpredict\u001b[49m\u001b[43m(\u001b[49m\u001b[43mz_dict\u001b[49m\u001b[43m)\u001b[49m\n",
      "File \u001b[0;32m/usr/local/lib/python3.8/dist-packages/keras/utils/traceback_utils.py:67\u001b[0m, in \u001b[0;36mfilter_traceback.<locals>.error_handler\u001b[0;34m(*args, **kwargs)\u001b[0m\n\u001b[1;32m     65\u001b[0m \u001b[38;5;28;01mexcept\u001b[39;00m \u001b[38;5;167;01mException\u001b[39;00m \u001b[38;5;28;01mas\u001b[39;00m e:  \u001b[38;5;66;03m# pylint: disable=broad-except\u001b[39;00m\n\u001b[1;32m     66\u001b[0m   filtered_tb \u001b[38;5;241m=\u001b[39m _process_traceback_frames(e\u001b[38;5;241m.\u001b[39m__traceback__)\n\u001b[0;32m---> 67\u001b[0m   \u001b[38;5;28;01mraise\u001b[39;00m e\u001b[38;5;241m.\u001b[39mwith_traceback(filtered_tb) \u001b[38;5;28;01mfrom\u001b[39;00m \u001b[38;5;28mNone\u001b[39m\n\u001b[1;32m     68\u001b[0m \u001b[38;5;28;01mfinally\u001b[39;00m:\n\u001b[1;32m     69\u001b[0m   \u001b[38;5;28;01mdel\u001b[39;00m filtered_tb\n",
      "File \u001b[0;32m/usr/local/lib/python3.8/dist-packages/tensorflow/python/framework/tensor_shape.py:909\u001b[0m, in \u001b[0;36mTensorShape.__getitem__\u001b[0;34m(self, key)\u001b[0m\n\u001b[1;32m    907\u001b[0m \u001b[38;5;28;01melse\u001b[39;00m:\n\u001b[1;32m    908\u001b[0m   \u001b[38;5;28;01mif\u001b[39;00m \u001b[38;5;28mself\u001b[39m\u001b[38;5;241m.\u001b[39m_v2_behavior:\n\u001b[0;32m--> 909\u001b[0m     \u001b[38;5;28;01mreturn\u001b[39;00m \u001b[38;5;28;43mself\u001b[39;49m\u001b[38;5;241;43m.\u001b[39;49m\u001b[43m_dims\u001b[49m\u001b[43m[\u001b[49m\u001b[43mkey\u001b[49m\u001b[43m]\u001b[49m\n\u001b[1;32m    910\u001b[0m   \u001b[38;5;28;01melse\u001b[39;00m:\n\u001b[1;32m    911\u001b[0m     \u001b[38;5;28;01mreturn\u001b[39;00m \u001b[38;5;28mself\u001b[39m\u001b[38;5;241m.\u001b[39mdims[key]\n",
      "\u001b[0;31mIndexError\u001b[0m: tuple index out of range"
     ]
    }
   ],
   "source": [
    "model.predict(z_dict)"
   ]
  },
  {
   "cell_type": "code",
   "execution_count": 45,
   "id": "9fa1084a-28a7-414e-83c6-86f95a30df04",
   "metadata": {},
   "outputs": [
    {
     "data": {
      "text/html": [
       "<div>\n",
       "<style scoped>\n",
       "    .dataframe tbody tr th:only-of-type {\n",
       "        vertical-align: middle;\n",
       "    }\n",
       "\n",
       "    .dataframe tbody tr th {\n",
       "        vertical-align: top;\n",
       "    }\n",
       "\n",
       "    .dataframe thead th {\n",
       "        text-align: right;\n",
       "    }\n",
       "</style>\n",
       "<table border=\"1\" class=\"dataframe\">\n",
       "  <thead>\n",
       "    <tr style=\"text-align: right;\">\n",
       "      <th></th>\n",
       "      <th>album_name_can</th>\n",
       "      <th>album_name_pl</th>\n",
       "      <th>album_uri_can</th>\n",
       "      <th>artist_followers_can</th>\n",
       "      <th>artist_genres_can</th>\n",
       "      <th>artist_genres_pl</th>\n",
       "      <th>artist_name_can</th>\n",
       "      <th>artist_name_pl</th>\n",
       "      <th>artist_pop_can</th>\n",
       "      <th>artist_uri_can</th>\n",
       "      <th>...</th>\n",
       "      <th>name</th>\n",
       "      <th>num_albums_pl</th>\n",
       "      <th>num_artists_pl</th>\n",
       "      <th>track_name_can</th>\n",
       "      <th>track_name_pl</th>\n",
       "      <th>track_pop_can</th>\n",
       "      <th>duration_ms_seed_pl</th>\n",
       "      <th>pid</th>\n",
       "      <th>track_uri_can</th>\n",
       "      <th>track_uri_pl</th>\n",
       "    </tr>\n",
       "  </thead>\n",
       "  <tbody>\n",
       "    <tr>\n",
       "      <th>0</th>\n",
       "      <td>We Just Havent Met Yet</td>\n",
       "      <td>[There's Really A Wolf, Late Nights: The Album...</td>\n",
       "      <td>spotify:album:5l83t3mbVgCrIe1VU9uJZR</td>\n",
       "      <td>4339757.0</td>\n",
       "      <td>'hawaiian hip hop', 'rap'</td>\n",
       "      <td>['hawaiian hip hop', 'rap', 'chicago rap', 'da...</td>\n",
       "      <td>Russ</td>\n",
       "      <td>[Russ, Jeremih, Khalid, BeyoncÃ©, William Singe]</td>\n",
       "      <td>82.0</td>\n",
       "      <td>spotify:artist:1z7b1Pr1rSlvWRzsW3HOrS</td>\n",
       "      <td>...</td>\n",
       "      <td>Lit Tunes</td>\n",
       "      <td>8.0</td>\n",
       "      <td>8.0</td>\n",
       "      <td>We Just Havent Met Yet</td>\n",
       "      <td>[Losin Control, Paradise, Location, Crazy In L...</td>\n",
       "      <td>57.0</td>\n",
       "      <td>51023.1</td>\n",
       "      <td>1</td>\n",
       "      <td>spotify:track:0VzDv4wiuZsLsNOmfaUy2W</td>\n",
       "      <td>[spotify:track:4cxMGhkinTocPSVVKWIw0d, spotify...</td>\n",
       "    </tr>\n",
       "  </tbody>\n",
       "</table>\n",
       "<p>1 rows × 24 columns</p>\n",
       "</div>"
      ],
      "text/plain": [
       "           album_name_can                                      album_name_pl  \\\n",
       "0  We Just Havent Met Yet  [There's Really A Wolf, Late Nights: The Album...   \n",
       "\n",
       "                          album_uri_can  artist_followers_can  \\\n",
       "0  spotify:album:5l83t3mbVgCrIe1VU9uJZR             4339757.0   \n",
       "\n",
       "           artist_genres_can  \\\n",
       "0  'hawaiian hip hop', 'rap'   \n",
       "\n",
       "                                    artist_genres_pl artist_name_can  \\\n",
       "0  ['hawaiian hip hop', 'rap', 'chicago rap', 'da...            Russ   \n",
       "\n",
       "                                     artist_name_pl  artist_pop_can  \\\n",
       "0  [Russ, Jeremih, Khalid, BeyoncÃ©, William Singe]            82.0   \n",
       "\n",
       "                          artist_uri_can  ...        name num_albums_pl  \\\n",
       "0  spotify:artist:1z7b1Pr1rSlvWRzsW3HOrS  ...  Lit Tunes            8.0   \n",
       "\n",
       "   num_artists_pl          track_name_can  \\\n",
       "0             8.0  We Just Havent Met Yet   \n",
       "\n",
       "                                       track_name_pl track_pop_can  \\\n",
       "0  [Losin Control, Paradise, Location, Crazy In L...          57.0   \n",
       "\n",
       "   duration_ms_seed_pl  pid                         track_uri_can  \\\n",
       "0              51023.1    1  spotify:track:0VzDv4wiuZsLsNOmfaUy2W   \n",
       "\n",
       "                                        track_uri_pl  \n",
       "0  [spotify:track:4cxMGhkinTocPSVVKWIw0d, spotify...  \n",
       "\n",
       "[1 rows x 24 columns]"
      ]
     },
     "execution_count": 45,
     "metadata": {},
     "output_type": "execute_result"
    }
   ],
   "source": [
    "TI.compute()"
   ]
  },
  {
   "cell_type": "code",
   "execution_count": 46,
   "id": "46be733d-12c5-48ef-9214-e01be68ac1aa",
   "metadata": {},
   "outputs": [
    {
     "data": {
      "text/html": [
       "<div>\n",
       "<style scoped>\n",
       "    .dataframe tbody tr th:only-of-type {\n",
       "        vertical-align: middle;\n",
       "    }\n",
       "\n",
       "    .dataframe tbody tr th {\n",
       "        vertical-align: top;\n",
       "    }\n",
       "\n",
       "    .dataframe thead th {\n",
       "        text-align: right;\n",
       "    }\n",
       "</style>\n",
       "<table border=\"1\" class=\"dataframe\">\n",
       "  <thead>\n",
       "    <tr style=\"text-align: right;\">\n",
       "      <th></th>\n",
       "      <th>pid</th>\n",
       "      <th>track_uri_can</th>\n",
       "      <th>artist_name_can</th>\n",
       "      <th>track_name_can</th>\n",
       "      <th>artist_genres_can</th>\n",
       "      <th>duration_ms_can</th>\n",
       "      <th>track_pop_can</th>\n",
       "      <th>artist_pop_can</th>\n",
       "      <th>artist_followers_can</th>\n",
       "      <th>description_pl</th>\n",
       "      <th>...</th>\n",
       "      <th>collaborative</th>\n",
       "      <th>duration_ms_seed_pl</th>\n",
       "      <th>n_songs_pl</th>\n",
       "      <th>num_artists_pl</th>\n",
       "      <th>num_albums_pl</th>\n",
       "      <th>artist_name_pl</th>\n",
       "      <th>track_uri_pl</th>\n",
       "      <th>track_name_pl</th>\n",
       "      <th>album_name_pl</th>\n",
       "      <th>artist_genres_pl</th>\n",
       "    </tr>\n",
       "  </thead>\n",
       "  <tbody>\n",
       "    <tr>\n",
       "      <th>0</th>\n",
       "      <td>585141</td>\n",
       "      <td>10530</td>\n",
       "      <td>88</td>\n",
       "      <td>11150</td>\n",
       "      <td>104</td>\n",
       "      <td>0.034943</td>\n",
       "      <td>0.597555</td>\n",
       "      <td>0.729853</td>\n",
       "      <td>-0.200199</td>\n",
       "      <td>1</td>\n",
       "      <td>...</td>\n",
       "      <td>1</td>\n",
       "      <td>-1.201752</td>\n",
       "      <td>-1.061753</td>\n",
       "      <td>-0.883958</td>\n",
       "      <td>-0.966815</td>\n",
       "      <td>[91, 70, 52, 0, 1319]</td>\n",
       "      <td>[279, 10324, 11, 5440, 10002]</td>\n",
       "      <td>[388, 140, 16, 6027, 344]</td>\n",
       "      <td>[58, 50, 9, 4322, 7873]</td>\n",
       "      <td>[110, 90, 64, 17, 1304]</td>\n",
       "    </tr>\n",
       "  </tbody>\n",
       "</table>\n",
       "<p>1 rows × 21 columns</p>\n",
       "</div>"
      ],
      "text/plain": [
       "      pid  track_uri_can  artist_name_can  track_name_can  artist_genres_can  \\\n",
       "0  585141          10530               88           11150                104   \n",
       "\n",
       "   duration_ms_can  track_pop_can  artist_pop_can  artist_followers_can  \\\n",
       "0         0.034943       0.597555        0.729853             -0.200199   \n",
       "\n",
       "   description_pl  ...  collaborative  duration_ms_seed_pl  n_songs_pl  \\\n",
       "0               1  ...              1            -1.201752   -1.061753   \n",
       "\n",
       "   num_artists_pl  num_albums_pl         artist_name_pl  \\\n",
       "0       -0.883958      -0.966815  [91, 70, 52, 0, 1319]   \n",
       "\n",
       "                    track_uri_pl              track_name_pl  \\\n",
       "0  [279, 10324, 11, 5440, 10002]  [388, 140, 16, 6027, 344]   \n",
       "\n",
       "             album_name_pl         artist_genres_pl  \n",
       "0  [58, 50, 9, 4322, 7873]  [110, 90, 64, 17, 1304]  \n",
       "\n",
       "[1 rows x 21 columns]"
      ]
     },
     "execution_count": 46,
     "metadata": {},
     "output_type": "execute_result"
    }
   ],
   "source": [
    "TRANSORMED_TEST_INSTANCE.compute()"
   ]
  },
  {
   "cell_type": "code",
   "execution_count": 173,
   "id": "f24f3161-c862-4488-a8ff-b24f06917824",
   "metadata": {},
   "outputs": [
    {
     "name": "stdout",
     "output_type": "stream",
     "text": [
      "Object `merlin.systems.dag` not found.\n"
     ]
    }
   ],
   "source": [
    "?merlin.systems.dag"
   ]
  },
  {
   "cell_type": "code",
   "execution_count": 177,
   "id": "f505bfd7-5c0c-4707-8227-2334586eb6ca",
   "metadata": {},
   "outputs": [
    {
     "name": "stdout",
     "output_type": "stream",
     "text": [
      "Object `msys.dag` not found.\n"
     ]
    }
   ],
   "source": []
  },
  {
   "cell_type": "code",
   "execution_count": 7,
   "id": "7290761c-ab53-4606-8ce5-4aa598814ae4",
   "metadata": {},
   "outputs": [],
   "source": [
    "from merlin.systems.dag.ops.tensorflow import PredictTensorflow\n"
   ]
  },
  {
   "cell_type": "code",
   "execution_count": 179,
   "id": "ca58baa6-f136-4031-bf85-facd593576b4",
   "metadata": {},
   "outputs": [
    {
     "data": {
      "text/plain": [
       "\u001b[0;31mInit signature:\u001b[0m \u001b[0mPredictTensorflow\u001b[0m\u001b[0;34m(\u001b[0m\u001b[0mmodel_or_path\u001b[0m\u001b[0;34m,\u001b[0m \u001b[0mcustom_objects\u001b[0m\u001b[0;34m:\u001b[0m \u001b[0mdict\u001b[0m \u001b[0;34m=\u001b[0m \u001b[0;32mNone\u001b[0m\u001b[0;34m)\u001b[0m\u001b[0;34m\u001b[0m\u001b[0;34m\u001b[0m\u001b[0m\n",
       "\u001b[0;31mDocstring:\u001b[0m     \n",
       "This operator takes a tensorflow model and packages it correctly for tritonserver\n",
       "to run, on the tensorflow backend.\n",
       "\u001b[0;31mInit docstring:\u001b[0m\n",
       "Instantiate a PredictTensorflow inference operator.\n",
       "\n",
       "Parameters\n",
       "----------\n",
       "model_or_path : Tensorflow model or string\n",
       "    This can be a tensorflow model or a path to a tensorflow model.\n",
       "custom_objects : dict, optional\n",
       "    Any custom objects that need to be loaded with the model, by default None.\n",
       "\u001b[0;31mFile:\u001b[0m           /usr/local/lib/python3.8/dist-packages/merlin/systems/dag/ops/tensorflow.py\n",
       "\u001b[0;31mType:\u001b[0m           type\n",
       "\u001b[0;31mSubclasses:\u001b[0m     \n"
      ]
     },
     "metadata": {},
     "output_type": "display_data"
    }
   ],
   "source": [
    "?PredictTensorflow"
   ]
  },
  {
   "cell_type": "code",
   "execution_count": null,
   "id": "3c139e76-752d-476a-bd77-76dd75fcb4fb",
   "metadata": {},
   "outputs": [],
   "source": []
  }
 ],
 "metadata": {
  "kernelspec": {
   "display_name": "Python 3 (ipykernel)",
   "language": "python",
   "name": "python3"
  },
  "language_info": {
   "codemirror_mode": {
    "name": "ipython",
    "version": 3
   },
   "file_extension": ".py",
   "mimetype": "text/x-python",
   "name": "python",
   "nbconvert_exporter": "python",
   "pygments_lexer": "ipython3",
   "version": "3.8.10"
  }
 },
 "nbformat": 4,
 "nbformat_minor": 5
}
