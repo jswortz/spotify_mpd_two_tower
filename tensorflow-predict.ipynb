{
 "cells": [
  {
   "cell_type": "markdown",
   "id": "bd0fe025-af3d-4900-9404-59c3b7e6d368",
   "metadata": {},
   "source": [
    "# Testing dict -> query embedding funcitons in merlin\n",
    "This will be used to create a custom container for the query tower"
   ]
  },
  {
   "cell_type": "code",
   "execution_count": 12,
   "id": "77c44945-a86b-4a11-9f14-7d6d908b0674",
   "metadata": {},
   "outputs": [],
   "source": [
    "import json \n",
    "\n",
    "TEST_INSTANCE = {'collaborative': 'false',\n",
    "                 'album_name_pl': [\"There's Really A Wolf\", 'Late Nights: The Album',\n",
    "                       'American Teen', 'Crazy In Love', 'Pony'], \n",
    "                 'album_uri_can': 'spotify:album:5l83t3mbVgCrIe1VU9uJZR', \n",
    "                 'artist_followers_can': 4339757.0, \n",
    "                 'artist_genres_can': \"'hawaiian hip hop', 'rap'\", \n",
    "                 'artist_genres_pl': [\"'hawaiian hip hop', 'rap'\",\n",
    "                       \"'chicago rap', 'dance pop', 'pop', 'pop rap', 'r&b', 'southern hip hop', 'trap', 'urban contemporary'\",\n",
    "                       \"'pop', 'pop r&b'\", \"'dance pop', 'pop', 'r&b'\",\n",
    "                       \"'chill r&b', 'pop', 'pop r&b', 'r&b', 'urban contemporary'\"], \n",
    "                 'artist_name_can': 'Russ', \n",
    "                 'artist_name_pl': ['Russ', 'Jeremih', 'Khalid', 'Beyonc\\xc3\\xa9',\n",
    "                       'William Singe'], \n",
    "                 'artist_pop_can': 82.0, \n",
    "                 'artist_pop_pl': [82., 80., 90., 87., 65.], \n",
    "                 'artist_uri_can': 'spotify:artist:1z7b1Pr1rSlvWRzsW3HOrS', \n",
    "                 'artists_followers_pl': [ 4339757.,  5611842., 15046756., 30713126.,   603837.],  \n",
    "                 'description_pl': '', \n",
    "                 'duration_ms_can': 237322.0, \n",
    "                 'duration_ms_songs_pl': [237506., 217200., 219080., 226400., 121739.], \n",
    "                 'n_songs_pl': 8.0, \n",
    "                 'name': 'Lit Tunes ', \n",
    "                 'num_albums_pl': 8.0, \n",
    "                 'num_artists_pl': 8.0, \n",
    "                 'track_name_can': 'We Just Havent Met Yet', \n",
    "                 'track_name_pl': ['Losin Control', 'Paradise', 'Location',\n",
    "                       'Crazy In Love - Remix', 'Pony'], \n",
    "                 'track_pop_can': 57.0, \n",
    "                 'track_pop_pl': [79., 58., 83., 71., 57.],\n",
    "                 'duration_ms_seed_pl': 51023.1,\n",
    "                 'pid': 1,\n",
    "                 'track_uri_can': 'spotify:track:0VzDv4wiuZsLsNOmfaUy2W', \n",
    "                 'track_uri_pl': ['spotify:track:4cxMGhkinTocPSVVKWIw0d',\n",
    "                       'spotify:track:1wNEBPo3nsbGCZRryI832I',\n",
    "                       'spotify:track:152lZdxL1OR0ZMW6KquMif',\n",
    "                       'spotify:track:2f4IuijXLxYOeBncS60GUD',\n",
    "                       'spotify:track:4Lj8paMFwyKTGfILLELVxt']\n",
    "                     }"
   ]
  },
  {
   "cell_type": "markdown",
   "id": "5530ebba-6c29-45d0-a70a-efd7f1a945ae",
   "metadata": {},
   "source": [
    "### Create the prediction scripts - we will use this in our Custom Prediction Routine in 01-z notebook"
   ]
  },
  {
   "cell_type": "code",
   "execution_count": 14,
   "id": "c224483d-b8ab-4e80-8627-da1ae5bd0ba9",
   "metadata": {},
   "outputs": [],
   "source": [
    "import nvtabular as nvt\n",
    "import dask.dataframe as dd\n",
    "import pandas as pd\n",
    "import os\n",
    "BUCKET = 'gs://spotify-beam-v3'\n",
    "import merlin.models.tf as mm\n",
    "from nvtabular.loader.tf_utils import configure_tensorflow\n",
    "import json\n",
    "configure_tensorflow()\n",
    "\n",
    "import tensorflow as tf\n",
    "\n",
    "def load(artifacts_uri):\n",
    "        \"\"\"Loads the model artifact.\n",
    "        Args:\n",
    "            artifacts_uri (str):\n",
    "                Required. The value of the environment variable AIP_STORAGE_URI.\n",
    "        \"\"\"\n",
    "        \n",
    "        model = tf.keras.models.load_model(os.path.join(artifacts_uri, \"query_model_merlin\" ))\n",
    "        workflow = nvt.Workflow.load(os.path.join(artifacts_uri, \"workflow/2t-spotify-workflow\"))\n",
    "        # workflow.remove_inputs(['track_pop_can', 'track_uri_can', \n",
    "        #                     'duration_ms_can', 'track_name_can', \n",
    "        #                     'artist_name_can','album_name_can',\n",
    "        #                     'album_uri_can','artist_followers_can',\n",
    "        #                     'artist_genres_can','artist_name_can',\n",
    "        #                     'artist_pop_can','artist_pop_pl','artist_uri_can',\n",
    "        #                     'artists_followers_pl',])\n",
    "        return(model, workflow)\n",
    "\n",
    "def preprocess(prediction_input, model, workflow):\n",
    "    \"\"\"Preprocesses the prediction input before doing the prediction.\n",
    "    Args:\n",
    "        prediction_input (Any):\n",
    "            Required. The prediction input that needs to be preprocessed.\n",
    "    Returns:\n",
    "        The preprocessed prediction input.\n",
    "    \"\"\"\n",
    "\n",
    "    TEST_INSTANCE = prediction_input\n",
    "    if type(TEST_INSTANCE) == list:\n",
    "        pandas_instance = pd.DataFrame.from_dict(TEST_INSTANCE[0], orient='index').T\n",
    "        if len(TEST_INSTANCE) > 1:\n",
    "            for ti in TEST_INSTANCE[0:]:\n",
    "                pandas_instance = pandas_instance.append(pd.DataFrame.from_dict(ti, orient='index').T)\n",
    "    else:\n",
    "        pandas_instance = pd.DataFrame.from_dict(TEST_INSTANCE, orient='index').T\n",
    "        transformed_inputs = nvt.Dataset(pandas_instance)\n",
    "        transformed_instance = workflow.transform(transformed_inputs)\n",
    "        return transformed_instance\n",
    "\n",
    "def predict(instances, model):\n",
    "    \"\"\"Performs prediction.\n",
    "    Args:\n",
    "        instances (Any):\n",
    "            Required. The instance(s) used for performing prediction.\n",
    "    Returns:\n",
    "        Prediction results.\n",
    "    \"\"\"  \n",
    "\n",
    "    loader = mm.Loader(instances, batch_size=instances.num_rows, shuffle=False)\n",
    "    batch =next(iter(loader))\n",
    "    return model(batch[0])"
   ]
  },
  {
   "cell_type": "code",
   "execution_count": 15,
   "id": "ede65bbb-c2b9-4d8e-bdc3-b854121d994b",
   "metadata": {
    "tags": []
   },
   "outputs": [
    {
     "name": "stderr",
     "output_type": "stream",
     "text": [
      "/usr/local/lib/python3.8/dist-packages/merlin/schema/tags.py:148: UserWarning: Compound tags like Tags.USER_ID have been deprecated and will be removed in a future version. Please use the atomic versions of these tags, like [<Tags.USER: 'user'>, <Tags.ID: 'id'>].\n",
      "  warnings.warn(\n"
     ]
    },
    {
     "name": "stdout",
     "output_type": "stream",
     "text": [
      "WARNING:tensorflow:No training configuration found in save file, so the model was *not* compiled. Compile it manually.\n"
     ]
    }
   ],
   "source": [
    "BUCKET = 'gs://spotify-beam-v3'\n",
    "ARTIFACT_URI = f'{BUCKET}/merlin-processed'\n",
    "\n",
    "model, workflow = load(ARTIFACT_URI)\n",
    "preprocessed_instance = preprocess(TEST_INSTANCE, model, workflow)"
   ]
  },
  {
   "cell_type": "code",
   "execution_count": 21,
   "id": "35c6ceb0-3d2b-4a13-abe5-d5c015c8d34e",
   "metadata": {
    "tags": []
   },
   "outputs": [],
   "source": [
    "output =predict(preprocessed_instance, model)"
   ]
  },
  {
   "cell_type": "code",
   "execution_count": 20,
   "id": "49e87f40-d6ae-4d0f-a354-eb5367d12c86",
   "metadata": {},
   "outputs": [],
   "source": [
    "pandas_instance = pd.DataFrame.from_dict(TEST_INSTANCE, orient='index').T\n",
    "assert list(pandas_instance.columns) == ['collaborative', 'album_name_pl', \n",
    "                                       'album_uri_can', 'artist_followers_can', \n",
    "                                       'artist_genres_can', 'artist_genres_pl', \n",
    "                                       'artist_name_can', 'artist_name_pl', \n",
    "                                       'artist_pop_can', 'artist_pop_pl', \n",
    "                                       'artist_uri_can', 'artists_followers_pl', \n",
    "                                       'description_pl', 'duration_ms_can', \n",
    "                                       'duration_ms_songs_pl', 'n_songs_pl', \n",
    "                                       'name', 'num_albums_pl', 'num_artists_pl', \n",
    "                                       'track_name_can', 'track_name_pl', 'track_pop_can', \n",
    "                                       'track_pop_pl', 'duration_ms_seed_pl', 'pid', \n",
    "                                       'track_uri_can', 'track_uri_pl']"
   ]
  },
  {
   "cell_type": "code",
   "execution_count": null,
   "id": "37b73bd5-7244-4d01-a3da-0b99f5cd61fd",
   "metadata": {},
   "outputs": [],
   "source": []
  },
  {
   "cell_type": "code",
   "execution_count": 37,
   "id": "3a1daa64-fcdb-40bf-9001-3f142eb0329d",
   "metadata": {},
   "outputs": [
    {
     "data": {
      "text/plain": [
       "[array([0.5919172 , 1.1092439 , 0.        , 0.5321709 , 0.        ,\n",
       "        0.        , 0.        , 0.735139  , 0.        , 0.4420092 ,\n",
       "        0.        , 0.09786917, 0.11914105, 0.        , 0.        ,\n",
       "        0.        , 0.        , 0.        , 2.2194886 , 0.        ,\n",
       "        0.3245813 , 1.4900053 , 0.        , 1.171333  , 0.86790633,\n",
       "        0.        , 1.0103585 , 1.0915064 , 0.60654855, 0.        ,\n",
       "        1.2675612 , 0.        , 0.        , 0.        , 0.        ,\n",
       "        3.352057  , 0.        , 0.        , 0.        , 0.9523361 ,\n",
       "        0.7877382 , 0.06262603, 0.08143564, 0.8745516 , 2.8739028 ,\n",
       "        1.5691849 , 0.6309144 , 0.5168806 , 0.        , 0.7615354 ,\n",
       "        1.1100037 , 0.20900783, 0.        , 1.1483462 , 0.        ,\n",
       "        0.        , 0.        , 0.93039554, 0.        , 0.        ,\n",
       "        0.28554222, 0.26085716, 0.        , 0.456077  , 0.79878116,\n",
       "        1.0072622 , 0.        , 1.4150219 , 0.11576442, 0.        ,\n",
       "        3.5614173 , 0.        , 0.        , 1.4880272 , 0.        ,\n",
       "        0.        , 0.        , 0.        , 0.        , 0.        ,\n",
       "        1.0274289 , 0.        , 1.6470528 , 0.        , 1.2647913 ,\n",
       "        0.45633438, 0.2748669 , 0.        , 0.        , 1.1476339 ,\n",
       "        0.        , 0.        , 3.0344248 , 0.99047166, 0.45293114,\n",
       "        3.8916712 , 3.413294  , 0.9972117 , 0.60696316, 0.82256705,\n",
       "        0.        , 0.        , 1.0468056 , 0.        , 0.8828971 ,\n",
       "        0.        , 0.        , 1.6712911 , 0.        , 0.        ,\n",
       "        0.        , 0.92177725, 0.        , 0.68886524, 0.        ,\n",
       "        0.22257261, 1.146008  , 0.59715897, 0.        , 0.        ,\n",
       "        0.09641062, 1.19942   , 0.32188323, 0.        , 1.5526038 ,\n",
       "        0.        , 1.127319  , 0.        ], dtype=float32)]"
      ]
     },
     "execution_count": 37,
     "metadata": {},
     "output_type": "execute_result"
    }
   ],
   "source": [
    "np_array = output.numpy()\n",
    "list(np_array)\n",
    "# [list(x) for x in list(np_array)]"
   ]
  },
  {
   "cell_type": "code",
   "execution_count": 51,
   "id": "c9843f76-0e85-405e-a59a-c5d109e37689",
   "metadata": {},
   "outputs": [],
   "source": [
    "d = {\"predictions\": output.numpy().tolist()}"
   ]
  },
  {
   "cell_type": "code",
   "execution_count": 52,
   "id": "795f9627-467b-43fe-b667-8a5b675bb272",
   "metadata": {},
   "outputs": [
    {
     "data": {
      "text/plain": [
       "{'predictions': [[0.5919172167778015,\n",
       "   1.1092438697814941,\n",
       "   0.0,\n",
       "   0.5321708917617798,\n",
       "   0.0,\n",
       "   0.0,\n",
       "   0.0,\n",
       "   0.735139012336731,\n",
       "   0.0,\n",
       "   0.44200921058654785,\n",
       "   0.0,\n",
       "   0.09786917269229889,\n",
       "   0.11914104968309402,\n",
       "   0.0,\n",
       "   0.0,\n",
       "   0.0,\n",
       "   0.0,\n",
       "   0.0,\n",
       "   2.2194886207580566,\n",
       "   0.0,\n",
       "   0.3245812952518463,\n",
       "   1.4900052547454834,\n",
       "   0.0,\n",
       "   1.1713329553604126,\n",
       "   0.8679063320159912,\n",
       "   0.0,\n",
       "   1.010358452796936,\n",
       "   1.0915063619613647,\n",
       "   0.606548547744751,\n",
       "   0.0,\n",
       "   1.2675611972808838,\n",
       "   0.0,\n",
       "   0.0,\n",
       "   0.0,\n",
       "   0.0,\n",
       "   3.3520569801330566,\n",
       "   0.0,\n",
       "   0.0,\n",
       "   0.0,\n",
       "   0.9523360729217529,\n",
       "   0.7877382040023804,\n",
       "   0.06262602657079697,\n",
       "   0.08143564313650131,\n",
       "   0.8745515942573547,\n",
       "   2.8739027976989746,\n",
       "   1.5691848993301392,\n",
       "   0.6309143900871277,\n",
       "   0.5168805718421936,\n",
       "   0.0,\n",
       "   0.7615354061126709,\n",
       "   1.1100037097930908,\n",
       "   0.20900782942771912,\n",
       "   0.0,\n",
       "   1.148346185684204,\n",
       "   0.0,\n",
       "   0.0,\n",
       "   0.0,\n",
       "   0.9303955435752869,\n",
       "   0.0,\n",
       "   0.0,\n",
       "   0.28554221987724304,\n",
       "   0.26085716485977173,\n",
       "   0.0,\n",
       "   0.4560770094394684,\n",
       "   0.798781156539917,\n",
       "   1.0072622299194336,\n",
       "   0.0,\n",
       "   1.4150218963623047,\n",
       "   0.11576442420482635,\n",
       "   0.0,\n",
       "   3.5614173412323,\n",
       "   0.0,\n",
       "   0.0,\n",
       "   1.4880272150039673,\n",
       "   0.0,\n",
       "   0.0,\n",
       "   0.0,\n",
       "   0.0,\n",
       "   0.0,\n",
       "   0.0,\n",
       "   1.0274288654327393,\n",
       "   0.0,\n",
       "   1.6470527648925781,\n",
       "   0.0,\n",
       "   1.2647912502288818,\n",
       "   0.4563343822956085,\n",
       "   0.27486690878868103,\n",
       "   0.0,\n",
       "   0.0,\n",
       "   1.1476339101791382,\n",
       "   0.0,\n",
       "   0.0,\n",
       "   3.0344247817993164,\n",
       "   0.9904716610908508,\n",
       "   0.45293113589286804,\n",
       "   3.8916711807250977,\n",
       "   3.4132940769195557,\n",
       "   0.9972116947174072,\n",
       "   0.6069631576538086,\n",
       "   0.8225670456886292,\n",
       "   0.0,\n",
       "   0.0,\n",
       "   1.0468056201934814,\n",
       "   0.0,\n",
       "   0.8828970789909363,\n",
       "   0.0,\n",
       "   0.0,\n",
       "   1.6712911128997803,\n",
       "   0.0,\n",
       "   0.0,\n",
       "   0.0,\n",
       "   0.9217772483825684,\n",
       "   0.0,\n",
       "   0.6888652443885803,\n",
       "   0.0,\n",
       "   0.22257260978221893,\n",
       "   1.146008014678955,\n",
       "   0.5971589684486389,\n",
       "   0.0,\n",
       "   0.0,\n",
       "   0.09641062468290329,\n",
       "   1.1994199752807617,\n",
       "   0.3218832314014435,\n",
       "   0.0,\n",
       "   1.552603840827942,\n",
       "   0.0,\n",
       "   1.1273189783096313,\n",
       "   0.0]]}"
      ]
     },
     "execution_count": 52,
     "metadata": {},
     "output_type": "execute_result"
    }
   ],
   "source": [
    "d"
   ]
  },
  {
   "cell_type": "code",
   "execution_count": 53,
   "id": "2e73b856-23cb-4407-b5bd-ba5c6af72c3a",
   "metadata": {},
   "outputs": [
    {
     "data": {
      "text/plain": [
       "'{\"predictions\": [[0.5919172167778015, 1.1092438697814941, 0.0, 0.5321708917617798, 0.0, 0.0, 0.0, 0.735139012336731, 0.0, 0.44200921058654785, 0.0, 0.09786917269229889, 0.11914104968309402, 0.0, 0.0, 0.0, 0.0, 0.0, 2.2194886207580566, 0.0, 0.3245812952518463, 1.4900052547454834, 0.0, 1.1713329553604126, 0.8679063320159912, 0.0, 1.010358452796936, 1.0915063619613647, 0.606548547744751, 0.0, 1.2675611972808838, 0.0, 0.0, 0.0, 0.0, 3.3520569801330566, 0.0, 0.0, 0.0, 0.9523360729217529, 0.7877382040023804, 0.06262602657079697, 0.08143564313650131, 0.8745515942573547, 2.8739027976989746, 1.5691848993301392, 0.6309143900871277, 0.5168805718421936, 0.0, 0.7615354061126709, 1.1100037097930908, 0.20900782942771912, 0.0, 1.148346185684204, 0.0, 0.0, 0.0, 0.9303955435752869, 0.0, 0.0, 0.28554221987724304, 0.26085716485977173, 0.0, 0.4560770094394684, 0.798781156539917, 1.0072622299194336, 0.0, 1.4150218963623047, 0.11576442420482635, 0.0, 3.5614173412323, 0.0, 0.0, 1.4880272150039673, 0.0, 0.0, 0.0, 0.0, 0.0, 0.0, 1.0274288654327393, 0.0, 1.6470527648925781, 0.0, 1.2647912502288818, 0.4563343822956085, 0.27486690878868103, 0.0, 0.0, 1.1476339101791382, 0.0, 0.0, 3.0344247817993164, 0.9904716610908508, 0.45293113589286804, 3.8916711807250977, 3.4132940769195557, 0.9972116947174072, 0.6069631576538086, 0.8225670456886292, 0.0, 0.0, 1.0468056201934814, 0.0, 0.8828970789909363, 0.0, 0.0, 1.6712911128997803, 0.0, 0.0, 0.0, 0.9217772483825684, 0.0, 0.6888652443885803, 0.0, 0.22257260978221893, 1.146008014678955, 0.5971589684486389, 0.0, 0.0, 0.09641062468290329, 1.1994199752807617, 0.3218832314014435, 0.0, 1.552603840827942, 0.0, 1.1273189783096313, 0.0]]}'"
      ]
     },
     "execution_count": 53,
     "metadata": {},
     "output_type": "execute_result"
    }
   ],
   "source": [
    "json.dumps(d)"
   ]
  },
  {
   "cell_type": "code",
   "execution_count": null,
   "id": "70d6b135-49e6-4ed4-a598-9c3199c26d3f",
   "metadata": {},
   "outputs": [],
   "source": []
  }
 ],
 "metadata": {
  "environment": {
   "kernel": "python3",
   "name": "tf2-gpu.2-8.m98",
   "type": "gcloud",
   "uri": "gcr.io/deeplearning-platform-release/tf2-gpu.2-8:m98"
  },
  "kernelspec": {
   "display_name": "Python 3 (ipykernel)",
   "language": "python",
   "name": "python3"
  },
  "language_info": {
   "codemirror_mode": {
    "name": "ipython",
    "version": 3
   },
   "file_extension": ".py",
   "mimetype": "text/x-python",
   "name": "python",
   "nbconvert_exporter": "python",
   "pygments_lexer": "ipython3",
   "version": "3.8.10"
  }
 },
 "nbformat": 4,
 "nbformat_minor": 5
}
