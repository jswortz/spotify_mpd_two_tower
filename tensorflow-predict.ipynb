{
 "cells": [
  {
   "cell_type": "markdown",
   "id": "bd0fe025-af3d-4900-9404-59c3b7e6d368",
   "metadata": {},
   "source": [
    "# Testing dict -> query embedding funcitons in merlin\n",
    "This will be used to create a custom container for the query tower"
   ]
  },
  {
   "cell_type": "code",
   "execution_count": 1,
   "id": "77c44945-a86b-4a11-9f14-7d6d908b0674",
   "metadata": {},
   "outputs": [],
   "source": [
    "import json \n",
    "\n",
    "TEST_INSTANCE = json.dumps({'collaborative': 'false',\n",
    "                 'album_name_pl': [\"There's Really A Wolf\", 'Late Nights: The Album',\n",
    "                       'American Teen', 'Crazy In Love', 'Pony'], \n",
    "                 # 'album_uri_can': 'spotify:album:5l83t3mbVgCrIe1VU9uJZR', \n",
    "                 # 'artist_followers_can': 4339757.0, \n",
    "                 # 'artist_genres_can': \"'hawaiian hip hop', 'rap'\", \n",
    "                 'artist_genres_pl': [\"'hawaiian hip hop', 'rap'\",\n",
    "                       \"'chicago rap', 'dance pop', 'pop', 'pop rap', 'r&b', 'southern hip hop', 'trap', 'urban contemporary'\",\n",
    "                       \"'pop', 'pop r&b'\", \"'dance pop', 'pop', 'r&b'\",\n",
    "                       \"'chill r&b', 'pop', 'pop r&b', 'r&b', 'urban contemporary'\"], \n",
    "                 # 'artist_name_can': 'Russ', \n",
    "                 'artist_name_pl': ['Russ', 'Jeremih', 'Khalid', 'Beyonc\\xc3\\xa9',\n",
    "                       'William Singe'], \n",
    "                 # 'artist_pop_can': 82.0, \n",
    "                 # 'artist_pop_pl': [82., 80., 90., 87., 65.], \n",
    "                 # 'artist_uri_can': 'spotify:artist:1z7b1Pr1rSlvWRzsW3HOrS', \n",
    "                 # 'artists_followers_pl': [ 4339757.,  5611842., 15046756., 30713126.,   603837.],  \n",
    "                 'description_pl': '', \n",
    "                 # 'duration_ms_can': 237322.0, \n",
    "                 #'duration_ms_songs_pl': [237506., 217200., 219080., 226400., 121739.], \n",
    "                 'n_songs_pl': 8.0, \n",
    "                 'name': 'Lit Tunes ', \n",
    "                 'num_albums_pl': 8.0, \n",
    "                 'num_artists_pl': 8.0, \n",
    "                 # 'track_name_can': 'We Just Havent Met Yet', \n",
    "                 'track_name_pl': ['Losin Control', 'Paradise', 'Location',\n",
    "                       'Crazy In Love - Remix', 'Pony'], \n",
    "                 # 'track_pop_can': 57.0, \n",
    "                 #'track_pop_pl': [79., 58., 83., 71., 57.],\n",
    "                 'duration_ms_seed_pl': 51023.1,\n",
    "                 'pid': 1,\n",
    "                 # 'track_uri_can': 'spotify:track:0VzDv4wiuZsLsNOmfaUy2W', \n",
    "                 'track_uri_pl': ['spotify:track:4cxMGhkinTocPSVVKWIw0d',\n",
    "                       'spotify:track:1wNEBPo3nsbGCZRryI832I',\n",
    "                       'spotify:track:152lZdxL1OR0ZMW6KquMif',\n",
    "                       'spotify:track:2f4IuijXLxYOeBncS60GUD',\n",
    "                       'spotify:track:4Lj8paMFwyKTGfILLELVxt']\n",
    "                     })"
   ]
  },
  {
   "cell_type": "code",
   "execution_count": 2,
   "id": "fa8e0985-79bf-4c50-a6db-c79efdf1648c",
   "metadata": {},
   "outputs": [
    {
     "data": {
      "text/plain": [
       "'{\"collaborative\": \"false\", \"album_name_pl\": [\"There\\'s Really A Wolf\", \"Late Nights: The Album\", \"American Teen\", \"Crazy In Love\", \"Pony\"], \"artist_genres_pl\": [\"\\'hawaiian hip hop\\', \\'rap\\'\", \"\\'chicago rap\\', \\'dance pop\\', \\'pop\\', \\'pop rap\\', \\'r&b\\', \\'southern hip hop\\', \\'trap\\', \\'urban contemporary\\'\", \"\\'pop\\', \\'pop r&b\\'\", \"\\'dance pop\\', \\'pop\\', \\'r&b\\'\", \"\\'chill r&b\\', \\'pop\\', \\'pop r&b\\', \\'r&b\\', \\'urban contemporary\\'\"], \"artist_name_pl\": [\"Russ\", \"Jeremih\", \"Khalid\", \"Beyonc\\\\u00c3\\\\u00a9\", \"William Singe\"], \"description_pl\": \"\", \"n_songs_pl\": 8.0, \"name\": \"Lit Tunes \", \"num_albums_pl\": 8.0, \"num_artists_pl\": 8.0, \"track_name_pl\": [\"Losin Control\", \"Paradise\", \"Location\", \"Crazy In Love - Remix\", \"Pony\"], \"duration_ms_seed_pl\": 51023.1, \"pid\": 1, \"track_uri_pl\": [\"spotify:track:4cxMGhkinTocPSVVKWIw0d\", \"spotify:track:1wNEBPo3nsbGCZRryI832I\", \"spotify:track:152lZdxL1OR0ZMW6KquMif\", \"spotify:track:2f4IuijXLxYOeBncS60GUD\", \"spotify:track:4Lj8paMFwyKTGfILLELVxt\"]}'"
      ]
     },
     "execution_count": 2,
     "metadata": {},
     "output_type": "execute_result"
    }
   ],
   "source": [
    "TEST_INSTANCE"
   ]
  },
  {
   "cell_type": "markdown",
   "id": "5530ebba-6c29-45d0-a70a-efd7f1a945ae",
   "metadata": {},
   "source": [
    "### Create the prediction scripts - we will use this in our Custom Prediction Routine in 01-z notebook"
   ]
  },
  {
   "cell_type": "code",
   "execution_count": 12,
   "id": "c224483d-b8ab-4e80-8627-da1ae5bd0ba9",
   "metadata": {},
   "outputs": [],
   "source": [
    "import nvtabular as nvt\n",
    "import dask.dataframe as dd\n",
    "import pandas as pd\n",
    "import os\n",
    "BUCKET = 'gs://spotify-beam-v3'\n",
    "import merlin.models.tf as mm\n",
    "from nvtabular.loader.tf_utils import configure_tensorflow\n",
    "import json\n",
    "configure_tensorflow()\n",
    "\n",
    "import tensorflow as tf\n",
    "\n",
    "def load(artifacts_uri):\n",
    "        \"\"\"Loads the model artifact.\n",
    "        Args:\n",
    "            artifacts_uri (str):\n",
    "                Required. The value of the environment variable AIP_STORAGE_URI.\n",
    "        \"\"\"\n",
    "        \n",
    "        model = tf.keras.models.load_model(os.path.join(artifacts_uri, \"query_model_merlin\" ))\n",
    "        workflow = nvt.Workflow.load(os.path.join(artifacts_uri, \"workflow/2t-spotify-workflow\"))\n",
    "        workflow.remove_inputs(['track_pop_can', 'track_uri_can', \n",
    "                            'duration_ms_can', 'track_name_can', \n",
    "                            'artist_name_can','album_name_can',\n",
    "                            'album_uri_can','artist_followers_can',\n",
    "                            'artist_genres_can','artist_name_can',\n",
    "                            'artist_pop_can','artist_pop_pl','artist_uri_can',\n",
    "                            'artists_followers_pl',])\n",
    "        return(model, workflow)\n",
    "\n",
    "def preprocess(prediction_input, model, workflow):\n",
    "    \"\"\"Preprocesses the prediction input before doing the prediction.\n",
    "    Args:\n",
    "        prediction_input (Any):\n",
    "            Required. The prediction input that needs to be preprocessed.\n",
    "    Returns:\n",
    "        The preprocessed prediction input.\n",
    "    \"\"\"\n",
    "\n",
    "    TEST_INSTANCE = json.loads(prediction_input)\n",
    "    if type(TEST_INSTANCE) == list:\n",
    "        pandas_instance = pd.DataFrame.from_dict(TEST_INSTANCE[0], orient='index').T\n",
    "        if len(TEST_INSTANCE) > 1:\n",
    "            for ti in TEST_INSTANCE[0:]:\n",
    "                pandas_instance = pandas_instance.append(pd.DataFrame.from_dict(ti, orient='index').T)\n",
    "    else:\n",
    "        pandas_instance = pd.DataFrame.from_dict(TEST_INSTANCE, orient='index').T\n",
    "\n",
    "        transformed_inputs = nvt.Dataset(pandas_instance)\n",
    "        transformed_instance = workflow.transform(transformed_inputs)\n",
    "        transformed_instance = workflow.transform(transformed_inputs)\n",
    "        return transformed_instance\n",
    "\n",
    "def predict(instances, model):\n",
    "    \"\"\"Performs prediction.\n",
    "    Args:\n",
    "        instances (Any):\n",
    "            Required. The instance(s) used for performing prediction.\n",
    "    Returns:\n",
    "        Prediction results.\n",
    "    \"\"\"  \n",
    "\n",
    "    loader = mm.Loader(instances, batch_size=instances.num_rows, shuffle=False)\n",
    "    batch =next(iter(loader))\n",
    "    return model(batch[0])"
   ]
  },
  {
   "cell_type": "code",
   "execution_count": 13,
   "id": "ede65bbb-c2b9-4d8e-bdc3-b854121d994b",
   "metadata": {},
   "outputs": [
    {
     "name": "stderr",
     "output_type": "stream",
     "text": [
      "/usr/local/lib/python3.8/dist-packages/merlin/schema/tags.py:148: UserWarning: Compound tags like Tags.USER_ID have been deprecated and will be removed in a future version. Please use the atomic versions of these tags, like [<Tags.USER: 'user'>, <Tags.ID: 'id'>].\n",
      "  warnings.warn(\n"
     ]
    },
    {
     "name": "stdout",
     "output_type": "stream",
     "text": [
      "WARNING:tensorflow:No training configuration found in save file, so the model was *not* compiled. Compile it manually.\n"
     ]
    },
    {
     "data": {
      "text/plain": [
       "<merlin.io.dataset.Dataset at 0x7efd464bc460>"
      ]
     },
     "execution_count": 13,
     "metadata": {},
     "output_type": "execute_result"
    }
   ],
   "source": [
    "BUCKET = 'gs://spotify-beam-v3'\n",
    "ARTIFACT_URI = f'{BUCKET}/merlin-processed'\n",
    "\n",
    "model, workflow = load(ARTIFACT_URI)\n",
    "preprocess(TEST_INSTANCE, model, workflow)"
   ]
  },
  {
   "cell_type": "code",
   "execution_count": 14,
   "id": "35c6ceb0-3d2b-4a13-abe5-d5c015c8d34e",
   "metadata": {},
   "outputs": [
    {
     "name": "stderr",
     "output_type": "stream",
     "text": [
      "2022-10-25 16:31:00.937327: I tensorflow/stream_executor/cuda/cuda_blas.cc:1804] TensorFloat-32 will be used for the matrix multiplication. This will only be logged once.\n"
     ]
    },
    {
     "data": {
      "text/plain": [
       "<tf.Tensor: shape=(1, 128), dtype=float32, numpy=\n",
       "array([[0.        , 1.3902382 , 0.        , 0.80721396, 0.        ,\n",
       "        1.9545745 , 0.30705923, 0.        , 0.17957701, 0.        ,\n",
       "        0.26982757, 0.25452083, 0.        , 0.        , 0.        ,\n",
       "        0.        , 0.        , 0.        , 0.12495878, 0.        ,\n",
       "        0.        , 0.        , 0.5252586 , 2.9494824 , 0.39721262,\n",
       "        0.38796806, 3.0500214 , 0.04730328, 0.00824441, 2.7156544 ,\n",
       "        0.        , 0.23971452, 0.42105   , 0.03697225, 0.        ,\n",
       "        0.38635764, 0.42292225, 0.        , 0.01205922, 0.        ,\n",
       "        0.05082626, 1.1877276 , 0.45590556, 0.        , 0.        ,\n",
       "        0.        , 0.        , 0.10745351, 0.        , 1.678911  ,\n",
       "        0.73041373, 0.        , 0.        , 0.595633  , 0.        ,\n",
       "        0.8371577 , 0.12576766, 0.        , 0.        , 0.        ,\n",
       "        0.        , 0.01579591, 0.        , 1.7686138 , 0.        ,\n",
       "        0.        , 0.        , 2.8495035 , 0.        , 0.09833664,\n",
       "        0.        , 0.        , 0.31775245, 0.        , 0.        ,\n",
       "        0.21574247, 0.        , 0.17336053, 0.5748651 , 2.6328456 ,\n",
       "        1.2931522 , 1.8165044 , 0.        , 0.7110453 , 0.60983837,\n",
       "        1.6838281 , 0.20093939, 0.35993582, 1.6484977 , 4.2137046 ,\n",
       "        0.62089   , 1.5365882 , 1.3726535 , 0.3148612 , 3.2608519 ,\n",
       "        0.        , 3.1440773 , 0.5958012 , 0.        , 1.1208698 ,\n",
       "        1.6934593 , 0.10697886, 0.6716285 , 2.1498356 , 0.        ,\n",
       "        0.72162944, 0.        , 0.65015113, 0.        , 0.13612163,\n",
       "        0.        , 0.        , 1.3202621 , 0.4202918 , 2.2301478 ,\n",
       "        0.26786745, 0.        , 0.3809035 , 0.        , 0.8942721 ,\n",
       "        0.6201558 , 0.75527287, 0.        , 1.0262085 , 0.        ,\n",
       "        0.523845  , 1.6044736 , 0.        ]], dtype=float32)>"
      ]
     },
     "execution_count": 14,
     "metadata": {},
     "output_type": "execute_result"
    }
   ],
   "source": [
    "predict(preprocess(TEST_INSTANCE, model, workflow), model)"
   ]
  }
 ],
 "metadata": {
  "environment": {
   "kernel": "python3",
   "name": "tf2-gpu.2-8.m98",
   "type": "gcloud",
   "uri": "gcr.io/deeplearning-platform-release/tf2-gpu.2-8:m98"
  },
  "kernelspec": {
   "display_name": "Python 3 (ipykernel)",
   "language": "python",
   "name": "python3"
  },
  "language_info": {
   "codemirror_mode": {
    "name": "ipython",
    "version": 3
   },
   "file_extension": ".py",
   "mimetype": "text/x-python",
   "name": "python",
   "nbconvert_exporter": "python",
   "pygments_lexer": "ipython3",
   "version": "3.8.10"
  }
 },
 "nbformat": 4,
 "nbformat_minor": 5
}
