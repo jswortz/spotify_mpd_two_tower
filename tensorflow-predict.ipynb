{
 "cells": [
  {
   "cell_type": "markdown",
   "id": "bd0fe025-af3d-4900-9404-59c3b7e6d368",
   "metadata": {},
   "source": [
    "# Testing dict -> query embedding funcitons in merlin\n",
    "This will be used to create a custom prediciton routine for the query tower"
   ]
  },
  {
   "cell_type": "code",
   "execution_count": 7,
   "id": "77c44945-a86b-4a11-9f14-7d6d908b0674",
   "metadata": {},
   "outputs": [],
   "source": [
    "import json \n",
    "\n",
    "TEST_INSTANCE = json.dumps({'collaborative': 'false',\n",
    "                 'album_name_pl': [\"There's Really A Wolf\", 'Late Nights: The Album',\n",
    "                       'American Teen', 'Crazy In Love', 'Pony'], \n",
    "                 # 'album_uri_can': 'spotify:album:5l83t3mbVgCrIe1VU9uJZR', \n",
    "                 # 'artist_followers_can': 4339757.0, \n",
    "                 # 'artist_genres_can': \"'hawaiian hip hop', 'rap'\", \n",
    "                 'artist_genres_pl': [\"'hawaiian hip hop', 'rap'\",\n",
    "                       \"'chicago rap', 'dance pop', 'pop', 'pop rap', 'r&b', 'southern hip hop', 'trap', 'urban contemporary'\",\n",
    "                       \"'pop', 'pop r&b'\", \"'dance pop', 'pop', 'r&b'\",\n",
    "                       \"'chill r&b', 'pop', 'pop r&b', 'r&b', 'urban contemporary'\"], \n",
    "                 # 'artist_name_can': 'Russ', \n",
    "                 'artist_name_pl': ['Russ', 'Jeremih', 'Khalid', 'Beyonc\\xc3\\xa9',\n",
    "                       'William Singe'], \n",
    "                 # 'artist_pop_can': 82.0, \n",
    "                 # 'artist_pop_pl': [82., 80., 90., 87., 65.], \n",
    "                 # 'artist_uri_can': 'spotify:artist:1z7b1Pr1rSlvWRzsW3HOrS', \n",
    "                 # 'artists_followers_pl': [ 4339757.,  5611842., 15046756., 30713126.,   603837.],  \n",
    "                 'description_pl': '', \n",
    "                 # 'duration_ms_can': 237322.0, \n",
    "                 #'duration_ms_songs_pl': [237506., 217200., 219080., 226400., 121739.], \n",
    "                 'n_songs_pl': 8.0, \n",
    "                 'name': 'Lit Tunes ', \n",
    "                 'num_albums_pl': 8.0, \n",
    "                 'num_artists_pl': 8.0, \n",
    "                 # 'track_name_can': 'We Just Havent Met Yet', \n",
    "                 'track_name_pl': ['Losin Control', 'Paradise', 'Location',\n",
    "                       'Crazy In Love - Remix', 'Pony'], \n",
    "                 # 'track_pop_can': 57.0, \n",
    "                 #'track_pop_pl': [79., 58., 83., 71., 57.],\n",
    "                 'duration_ms_seed_pl': 51023.1,\n",
    "                 'pid': 1,\n",
    "                 # 'track_uri_can': 'spotify:track:0VzDv4wiuZsLsNOmfaUy2W', \n",
    "                 'track_uri_pl': ['spotify:track:4cxMGhkinTocPSVVKWIw0d',\n",
    "                       'spotify:track:1wNEBPo3nsbGCZRryI832I',\n",
    "                       'spotify:track:152lZdxL1OR0ZMW6KquMif',\n",
    "                       'spotify:track:2f4IuijXLxYOeBncS60GUD',\n",
    "                       'spotify:track:4Lj8paMFwyKTGfILLELVxt']\n",
    "                     })"
   ]
  },
  {
   "cell_type": "code",
   "execution_count": 8,
   "id": "fa8e0985-79bf-4c50-a6db-c79efdf1648c",
   "metadata": {},
   "outputs": [
    {
     "data": {
      "text/plain": [
       "'{\"collaborative\": \"false\", \"album_name_pl\": [\"There\\'s Really A Wolf\", \"Late Nights: The Album\", \"American Teen\", \"Crazy In Love\", \"Pony\"], \"artist_genres_pl\": [\"\\'hawaiian hip hop\\', \\'rap\\'\", \"\\'chicago rap\\', \\'dance pop\\', \\'pop\\', \\'pop rap\\', \\'r&b\\', \\'southern hip hop\\', \\'trap\\', \\'urban contemporary\\'\", \"\\'pop\\', \\'pop r&b\\'\", \"\\'dance pop\\', \\'pop\\', \\'r&b\\'\", \"\\'chill r&b\\', \\'pop\\', \\'pop r&b\\', \\'r&b\\', \\'urban contemporary\\'\"], \"artist_name_pl\": [\"Russ\", \"Jeremih\", \"Khalid\", \"Beyonc\\\\u00c3\\\\u00a9\", \"William Singe\"], \"description_pl\": \"\", \"n_songs_pl\": 8.0, \"name\": \"Lit Tunes \", \"num_albums_pl\": 8.0, \"num_artists_pl\": 8.0, \"track_name_pl\": [\"Losin Control\", \"Paradise\", \"Location\", \"Crazy In Love - Remix\", \"Pony\"], \"duration_ms_seed_pl\": 51023.1, \"pid\": 1, \"track_uri_pl\": [\"spotify:track:4cxMGhkinTocPSVVKWIw0d\", \"spotify:track:1wNEBPo3nsbGCZRryI832I\", \"spotify:track:152lZdxL1OR0ZMW6KquMif\", \"spotify:track:2f4IuijXLxYOeBncS60GUD\", \"spotify:track:4Lj8paMFwyKTGfILLELVxt\"]}'"
      ]
     },
     "execution_count": 8,
     "metadata": {},
     "output_type": "execute_result"
    }
   ],
   "source": [
    "TEST_INSTANCE"
   ]
  },
  {
   "cell_type": "markdown",
   "id": "5530ebba-6c29-45d0-a70a-efd7f1a945ae",
   "metadata": {},
   "source": [
    "### Create the prediction scripts - we will use this in our Custom Prediction Routine in 01-z notebook"
   ]
  },
  {
   "cell_type": "code",
   "execution_count": 10,
   "id": "c224483d-b8ab-4e80-8627-da1ae5bd0ba9",
   "metadata": {},
   "outputs": [],
   "source": [
    "import nvtabular as nvt\n",
    "import dask.dataframe as dd\n",
    "import pandas as pd\n",
    "import os\n",
    "BUCKET = 'gs://spotify-beam-v3'\n",
    "import merlin.models.tf as mm\n",
    "from nvtabular.loader.tf_utils import configure_tensorflow\n",
    "import json\n",
    "configure_tensorflow()\n",
    "\n",
    "import tensorflow as tf\n",
    "\n",
    "def load(artifacts_uri):\n",
    "        \"\"\"Loads the model artifact.\n",
    "        Args:\n",
    "            artifacts_uri (str):\n",
    "                Required. The value of the environment variable AIP_STORAGE_URI.\n",
    "        \"\"\"\n",
    "        \n",
    "        model = tf.keras.models.load_model(os.path.join(artifacts_uri, \"query_model_merlin\" ))\n",
    "        workflow = nvt.Workflow.load(os.path.join(artifacts_uri, \"workflow/2t-spotify-workflow\"))\n",
    "        workflow.remove_inputs(['track_pop_can', 'track_uri_can', \n",
    "                            'duration_ms_can', 'track_name_can', \n",
    "                            'artist_name_can','album_name_can',\n",
    "                            'album_uri_can','artist_followers_can',\n",
    "                            'artist_genres_can','artist_name_can',\n",
    "                            'artist_pop_can','artist_pop_pl','artist_uri_can',\n",
    "                            'artists_followers_pl',])\n",
    "        return(model, workflow)\n",
    "\n",
    "def preprocess(prediction_input, model, workflow):\n",
    "    \"\"\"Preprocesses the prediction input before doing the prediction.\n",
    "    Args:\n",
    "        prediction_input (Any):\n",
    "            Required. The prediction input that needs to be preprocessed.\n",
    "    Returns:\n",
    "        The preprocessed prediction input.\n",
    "    \"\"\"\n",
    "\n",
    "    TEST_INSTANCE = json.loads(prediction_input)\n",
    "    if type(TEST_INSTANCE) == list:\n",
    "        pandas_instance = pd.DataFrame.from_dict(TEST_INSTANCE[0], orient='index').T\n",
    "        if len(TEST_INSTANCE) > 1:\n",
    "            for ti in TEST_INSTANCE[0:]:\n",
    "                pandas_instance = pandas_instance.append(pd.DataFrame.from_dict(ti, orient='index').T)\n",
    "    else:\n",
    "        pandas_instance = pd.DataFrame.from_dict(TEST_INSTANCE, orient='index').T\n",
    "\n",
    "    transformed_inputs = nvt.Dataset(pandas_instance)\n",
    "    transformed_instance = workflow.transform(transformed_inputs)\n",
    "    batch = mm.sample_batch(transformed_instance, batch_size=len(TEST_INSTANCE), include_targets=False)\n",
    "\n",
    "    return model(batch)"
   ]
  },
  {
   "cell_type": "code",
   "execution_count": 11,
   "id": "ede65bbb-c2b9-4d8e-bdc3-b854121d994b",
   "metadata": {},
   "outputs": [
    {
     "name": "stderr",
     "output_type": "stream",
     "text": [
      "/usr/local/lib/python3.8/dist-packages/merlin/schema/tags.py:148: UserWarning: Compound tags like Tags.USER_ID have been deprecated and will be removed in a future version. Please use the atomic versions of these tags, like [<Tags.USER: 'user'>, <Tags.ID: 'id'>].\n",
      "  warnings.warn(\n"
     ]
    },
    {
     "name": "stdout",
     "output_type": "stream",
     "text": [
      "WARNING:tensorflow:No training configuration found in save file, so the model was *not* compiled. Compile it manually.\n"
     ]
    },
    {
     "name": "stderr",
     "output_type": "stream",
     "text": [
      "2022-10-20 20:11:31.773060: I tensorflow/stream_executor/cuda/cuda_blas.cc:1804] TensorFloat-32 will be used for the matrix multiplication. This will only be logged once.\n"
     ]
    },
    {
     "data": {
      "text/plain": [
       "<tf.Tensor: shape=(1, 128), dtype=float32, numpy=\n",
       "array([[1.76715367e-02, 3.14773098e-02, 0.00000000e+00, 1.25602563e-03,\n",
       "        8.14599246e-02, 0.00000000e+00, 2.13340390e-02, 0.00000000e+00,\n",
       "        2.67350562e-02, 0.00000000e+00, 2.60866545e-02, 7.85914585e-02,\n",
       "        0.00000000e+00, 0.00000000e+00, 0.00000000e+00, 1.08987670e-02,\n",
       "        0.00000000e+00, 0.00000000e+00, 0.00000000e+00, 7.32983183e-03,\n",
       "        5.98119311e-02, 0.00000000e+00, 0.00000000e+00, 0.00000000e+00,\n",
       "        5.98613583e-02, 6.45721406e-02, 0.00000000e+00, 9.54043586e-03,\n",
       "        5.09024113e-02, 0.00000000e+00, 2.21211519e-02, 9.38368728e-04,\n",
       "        2.03566179e-02, 0.00000000e+00, 5.71851293e-03, 6.91074878e-04,\n",
       "        6.85477280e-05, 9.55524296e-03, 2.24500149e-02, 0.00000000e+00,\n",
       "        0.00000000e+00, 0.00000000e+00, 0.00000000e+00, 0.00000000e+00,\n",
       "        0.00000000e+00, 0.00000000e+00, 6.75486550e-02, 0.00000000e+00,\n",
       "        2.35534720e-02, 5.03459610e-02, 2.95396671e-02, 7.63033004e-03,\n",
       "        0.00000000e+00, 0.00000000e+00, 0.00000000e+00, 6.10300601e-02,\n",
       "        0.00000000e+00, 0.00000000e+00, 2.00183894e-02, 2.27780417e-02,\n",
       "        0.00000000e+00, 0.00000000e+00, 0.00000000e+00, 2.29518395e-02,\n",
       "        1.31916450e-02, 0.00000000e+00, 8.10902752e-03, 0.00000000e+00,\n",
       "        0.00000000e+00, 3.85946222e-02, 0.00000000e+00, 3.47024351e-02,\n",
       "        0.00000000e+00, 0.00000000e+00, 9.27364081e-02, 2.40979921e-02,\n",
       "        1.17749255e-02, 2.18805745e-02, 0.00000000e+00, 0.00000000e+00,\n",
       "        3.63365076e-02, 0.00000000e+00, 0.00000000e+00, 1.88089292e-02,\n",
       "        0.00000000e+00, 6.03699870e-02, 0.00000000e+00, 4.59144264e-02,\n",
       "        1.13251181e-02, 9.37990099e-02, 1.67678278e-02, 0.00000000e+00,\n",
       "        0.00000000e+00, 1.97925549e-02, 8.93623009e-02, 3.05224839e-03,\n",
       "        0.00000000e+00, 8.43412057e-02, 0.00000000e+00, 5.83567321e-02,\n",
       "        8.26435536e-03, 1.69389285e-02, 1.18685830e-02, 0.00000000e+00,\n",
       "        8.48837122e-02, 2.00149417e-02, 0.00000000e+00, 4.15774360e-02,\n",
       "        0.00000000e+00, 0.00000000e+00, 1.73255447e-02, 0.00000000e+00,\n",
       "        6.60424232e-02, 0.00000000e+00, 0.00000000e+00, 3.18430364e-03,\n",
       "        0.00000000e+00, 0.00000000e+00, 7.82183036e-02, 0.00000000e+00,\n",
       "        5.47724776e-04, 5.39739849e-03, 0.00000000e+00, 1.46821856e-01,\n",
       "        0.00000000e+00, 9.26852040e-03, 1.69139653e-02, 0.00000000e+00]],\n",
       "      dtype=float32)>"
      ]
     },
     "execution_count": 11,
     "metadata": {},
     "output_type": "execute_result"
    }
   ],
   "source": [
    "BUCKET = 'gs://spotify-beam-v3'\n",
    "ARTIFACT_URI = f'{BUCKET}/merlin-processed'\n",
    "\n",
    "model, workflow = load(ARTIFACT_URI)\n",
    "preprocess(TEST_INSTANCE, model, workflow)"
   ]
  },
  {
   "cell_type": "code",
   "execution_count": null,
   "id": "35c6ceb0-3d2b-4a13-abe5-d5c015c8d34e",
   "metadata": {},
   "outputs": [],
   "source": []
  }
 ],
 "metadata": {
  "kernelspec": {
   "display_name": "Python 3 (ipykernel)",
   "language": "python",
   "name": "python3"
  },
  "language_info": {
   "codemirror_mode": {
    "name": "ipython",
    "version": 3
   },
   "file_extension": ".py",
   "mimetype": "text/x-python",
   "name": "python",
   "nbconvert_exporter": "python",
   "pygments_lexer": "ipython3",
   "version": "3.8.10"
  }
 },
 "nbformat": 4,
 "nbformat_minor": 5
}
