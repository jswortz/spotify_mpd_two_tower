{
 "cells": [
  {
   "cell_type": "code",
   "execution_count": null,
   "id": "91ad4be0-c4f8-4a7f-8574-6a906bf1a47c",
   "metadata": {},
   "outputs": [],
   "source": [
    "from google.cloud import aiplatform_v1beta1 as vertex_v1beta1"
   ]
  },
  {
   "cell_type": "code",
   "execution_count": null,
   "id": "b6e0515a-85af-4ae8-aea3-cc7ac50592a5",
   "metadata": {},
   "outputs": [],
   "source": [
    "# from google.cloud import aiplatform_v1beta1\n",
    "\n",
    "# def sample_create_custom_job():\n",
    "#     # Create a client\n",
    "#     client = aiplatform_v1beta1.JobServiceClient()\n",
    "#     # Initialize request argument(s)\n",
    "#     custom_job = aiplatform_v1beta1.CustomJob()\n",
    "#     custom_job.display_name = \"display_name_value\"\n",
    "#     custom_job.job_spec.worker_pool_specs.container_spec.image_uri = \"image_uri_value\"\n",
    "#     request = aiplatform_v1beta1.CreateCustomJobRequest(\n",
    "#         parent=\"parent_value\",\n",
    "#         custom_job=custom_job,\n",
    "#     )\n",
    "#     # Make the request\n",
    "#     response = client.create_custom_job(request=request)\n",
    "#     # Handle the response\n",
    "#     print(response)"
   ]
  },
  {
   "cell_type": "code",
   "execution_count": null,
   "id": "c5acdde1-a97a-4af1-aece-41e6b756b627",
   "metadata": {},
   "outputs": [],
   "source": [
    "def sample_create_custom_job():\n",
    "    # Create a client\n",
    "    client = vertex_v1beta1.JobServiceClient()\n",
    "    # Initialize request argument(s)\n",
    "    custom_job = vertex_v1beta1.CustomJob()\n",
    "    custom_job.display_name = \"testing-v1betav1\"\n",
    "    custom_job.job_spec.worker_pool_specs.container_spec.image_uri = \"image_uri_value\"\n",
    "    request = aiplatform_v1beta1.CreateCustomJobRequest(\n",
    "        parent=\"parent_value\",\n",
    "        custom_job=custom_job,\n",
    "    )\n",
    "    # Make the request\n",
    "    response = client.create_custom_job(request=request)\n",
    "    # Handle the response\n",
    "    print(response)"
   ]
  },
  {
   "cell_type": "code",
   "execution_count": null,
   "id": "67fcfcce-71d7-43eb-8b27-0947a1ff4fa8",
   "metadata": {},
   "outputs": [],
   "source": [
    "job = vertex_ai.CustomJob(\n",
    "    display_name=JOB_NAME,\n",
    "    worker_pool_specs=worker_pool_specs,\n",
    "    base_output_dir=BASE_OUTPUT_DIR,\n",
    "    staging_bucket=f\"{BASE_OUTPUT_DIR}/staging\",\n",
    ")\n",
    "\n",
    "logging.info(f'Submitting train job to Vertex AI...')\n",
    "\n",
    "# try:\n",
    "#     job.run(\n",
    "#         tensorboard=tensorboard_resource_name,\n",
    "#         service_account=f'{service_account}',\n",
    "#         restart_job_on_worker_restart=False,\n",
    "#         enable_web_access=True,\n",
    "#         sync=False,\n",
    "#     )\n",
    "# except Exception as e:\n",
    "#     # may fail in multi-worker to find startup script\n",
    "#     logging.info(e)\n",
    "\n",
    "job.run(\n",
    "    tensorboard=tensorboard_resource_name,\n",
    "    service_account=f'{service_account}',\n",
    "    restart_job_on_worker_restart=False,\n",
    "    enable_web_access=True,\n",
    "    sync=False,\n",
    ")"
   ]
  }
 ],
 "metadata": {
  "environment": {
   "kernel": "python3",
   "name": "tf2-gpu.2-8.m97",
   "type": "gcloud",
   "uri": "gcr.io/deeplearning-platform-release/tf2-gpu.2-8:m97"
  },
  "kernelspec": {
   "display_name": "Python 3",
   "language": "python",
   "name": "python3"
  },
  "language_info": {
   "codemirror_mode": {
    "name": "ipython",
    "version": 3
   },
   "file_extension": ".py",
   "mimetype": "text/x-python",
   "name": "python",
   "nbconvert_exporter": "python",
   "pygments_lexer": "ipython3",
   "version": "3.7.12"
  }
 },
 "nbformat": 4,
 "nbformat_minor": 5
}
