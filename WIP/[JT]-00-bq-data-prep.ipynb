{
 "cells": [
  {
   "cell_type": "markdown",
   "id": "94a6068d-cfbe-4b93-9255-243c7eb935ac",
   "metadata": {},
   "source": [
    "# TODOs\n",
    "* clean up notebook\n",
    "* parameterize\n",
    "* offer large and small options for producing dataset (create optionals)"
   ]
  },
  {
   "cell_type": "markdown",
   "id": "24f0eb21",
   "metadata": {},
   "source": [
    "#### Step 0: Dependencies\n",
    "\n",
    "Run this one time when starting, then restart the kernel"
   ]
  },
  {
   "cell_type": "code",
   "execution_count": 1,
   "id": "5cbb59bc",
   "metadata": {},
   "outputs": [],
   "source": [
    "# !pip install pandas pandas-gbq==0.12.0 --user"
   ]
  },
  {
   "cell_type": "markdown",
   "id": "68da0ab1",
   "metadata": {},
   "source": [
    "# Data prep\n",
    "\n",
    "## In this notebook we will load the songs from the zip file, and perform transformations to prepare the data for two-tower training\n",
    "Steps\n",
    "1. Extract from the zip file\n",
    "2. Upload to BQ\n",
    "3. Enrich features for the playlist songs\n",
    "4. Cross-join songs with features (expected rows = n_songs x n_playlists)\n",
    "5. Remove after-the-fact (later position songs) from the newly generated samples\n",
    "6. Create a clean train table, and flatten structs or use arrays"
   ]
  },
  {
   "cell_type": "markdown",
   "id": "8e04cd08",
   "metadata": {},
   "source": [
    "#### Unzip the file and upload to BQ\n",
    "Source of data if you want to download zip: gs://spotify-million-playlist-dataset"
   ]
  },
  {
   "cell_type": "code",
   "execution_count": 15,
   "id": "77d08efb",
   "metadata": {},
   "outputs": [
    {
     "data": {
      "text/plain": [
       "'us-central1'"
      ]
     },
     "execution_count": 15,
     "metadata": {},
     "output_type": "execute_result"
    }
   ],
   "source": [
    "# Set your variables for your project, region, and dataset name\n",
    "SOURCE_BUCKET = 'gs://spotify-million-playlist-dataset'\n",
    "PROJECT_ID = 'hybrid-vertex'\n",
    "REGION = 'us-central1'\n",
    "bq_dataset = 'a_spotify_ds'\n",
    "\n",
    "import time\n",
    "from google.cloud import bigquery\n",
    "\n",
    "bigquery_client = bigquery.Client(project=PROJECT_ID, location=REGION)\n",
    "bigquery_client.location"
   ]
  },
  {
   "cell_type": "code",
   "execution_count": 16,
   "id": "92c0e0b6-0bd4-42bd-bd42-b722c0d871d5",
   "metadata": {},
   "outputs": [
    {
     "name": "stdout",
     "output_type": "stream",
     "text": [
      "Created dataset hybrid-vertex.a_spotify_ds in location: us-central1\n"
     ]
    }
   ],
   "source": [
    "\n",
    "dataset = bigquery_client.create_dataset(bq_dataset, timeout=30)  # Make an API request.\n",
    "\n",
    "print(f\"Created dataset {bigquery_client.project}.{dataset.dataset_id} in location: {dataset.location}\")"
   ]
  },
  {
   "cell_type": "markdown",
   "id": "409cabe2-16c1-4131-b298-82c7078b53ba",
   "metadata": {
    "tags": []
   },
   "source": [
    "## Next create unique artist and song tables\n",
    "These tables contain features obtained via the public Spotify API. Features such as track and artist popularity are in this data. For more detail on loading json data to Bigquery, [see here](https://cloud.google.com/bigquery/docs/loading-data-cloud-storage-json)\n",
    "\n",
    "![](img/unique-songs.png)"
   ]
  },
  {
   "cell_type": "code",
   "execution_count": 19,
   "id": "f6a2839d-276b-47f1-b73d-4a1e860ca8be",
   "metadata": {},
   "outputs": [
    {
     "name": "stdout",
     "output_type": "stream",
     "text": [
      "Loaded 4524584 rows.\n"
     ]
    }
   ],
   "source": [
    "table_id = f\"{PROJECT_ID}.{bq_dataset}.unique_track_features\"\n",
    "\n",
    "job_config = bigquery.LoadJobConfig(\n",
    "    schema=[\n",
    "        bigquery.SchemaField(\"track_pop\", \"INTEGER\"),\n",
    "        bigquery.SchemaField(\"tracks_playlist_titles\", \"STRING\"),\n",
    "        bigquery.SchemaField(\"track_uri\", \"STRING\"),\n",
    "    ],\n",
    "    source_format=bigquery.SourceFormat.NEWLINE_DELIMITED_JSON,\n",
    ")\n",
    "uri = f\"{SOURCE_BUCKET}/unique_track_features.gzip\"\n",
    "\n",
    "load_job = bigquery_client.load_table_from_uri(\n",
    "    uri,\n",
    "    table_id,\n",
    "    location=f\"{REGION}\",  # Must match the destination dataset location\n",
    "    job_config=job_config,\n",
    ")  # Make an API request.\n",
    "\n",
    "load_job.result()  # Waits for the job to complete.\n",
    "\n",
    "destination_table = bigquery_client.get_table(table_id)\n",
    "print(\"Loaded {} rows.\".format(destination_table.num_rows))"
   ]
  },
  {
   "cell_type": "markdown",
   "id": "e866e7b6-0b6c-4d1e-9d7f-73c99c3a3a0b",
   "metadata": {},
   "source": [
    "### Unique artists\n",
    "\n",
    "![](img/unique-artists.png)"
   ]
  },
  {
   "cell_type": "code",
   "execution_count": 21,
   "id": "cb911024-e624-43be-818c-8dc8ea129f77",
   "metadata": {},
   "outputs": [
    {
     "name": "stdout",
     "output_type": "stream",
     "text": [
      "Loaded 295860 rows.\n",
      "elapsed time (mins): 0\n"
     ]
    }
   ],
   "source": [
    "start_time = time.time()\n",
    "\n",
    "table_id = f\"{PROJECT_ID}.{bq_dataset}.unique_artist_features\"\n",
    "\n",
    "job_config = bigquery.LoadJobConfig(\n",
    "    schema=[\n",
    "        bigquery.SchemaField(\"artist_genres\", \"STRING\", \"REPEATED\"),\n",
    "        bigquery.SchemaField(\"artist_pop\", \"INTEGER\"),\n",
    "        bigquery.SchemaField(\"artist_followers\", \"INTEGER\"),\n",
    "        bigquery.SchemaField(\"artist_uri\", \"STRING\"),\n",
    "        bigquery.SchemaField(\"artist_name\", \"STRING\"),\n",
    "    ],\n",
    "    source_format=bigquery.SourceFormat.NEWLINE_DELIMITED_JSON,\n",
    ")\n",
    "uri = f\"{SOURCE_BUCKET}/unique_artist_features.gzip\"\n",
    "\n",
    "load_job = bigquery_client.load_table_from_uri(\n",
    "    uri,\n",
    "    table_id,\n",
    "    location=f\"{REGION}\",  # Must match the destination dataset location\n",
    "    job_config=job_config,\n",
    ")  # Make an API request.\n",
    "\n",
    "load_job.result()  # Waits for the job to complete.\n",
    "\n",
    "end_time = time.time()\n",
    "runtime_mins = int((end_time - start_time) / 60)\n",
    "print(f\"elapsed time (mins): {runtime_mins}\")\n",
    "\n",
    "destination_table = bigquery_client.get_table(table_id)\n",
    "print(\"Loaded {} rows.\".format(destination_table.num_rows))"
   ]
  },
  {
   "cell_type": "markdown",
   "id": "46ebb86d-01e6-44c2-add1-7654fb8b6be6",
   "metadata": {},
   "source": [
    "### Track `audio_features`\n",
    "\n",
    "* remove `nulls`; replace with `-1` etc."
   ]
  },
  {
   "cell_type": "code",
   "execution_count": null,
   "id": "4f62cb8b-a8cb-4c90-91a4-48d76b1c1d65",
   "metadata": {},
   "outputs": [],
   "source": [
    "# CREATE OR REPLACE TABLE `hybrid-vertex.a_spotify_ds.unique_track_features_plus` AS (\n",
    "#   SELECT \n",
    "#     unis.track_pop as track_pop,\n",
    "#     unis.tracks_playlist_titles as tracks_playlist_titles,\n",
    "#     unis.track_uri as track_uri,\n",
    "#     auds.danceability as danceability,\n",
    "#     auds.energy as energy,\n",
    "#     auds.key as key,\n",
    "#     auds.loudness as loudness,\n",
    "#     auds.mode as mode,\n",
    "#     auds.speechiness as speechiness,\n",
    "#     auds.acousticness as acousticness,\n",
    "#     auds.instrumentalness as instrumentalness,\n",
    "#     auds.liveness as liveness,\n",
    "#     auds.valence as valence,\n",
    "#     auds.tempo as tempo,\n",
    "#     auds.time_signature as time_signature,\n",
    "#   -- uri,\n",
    "#   FROM \n",
    "#     `hybrid-vertex.a_spotify_ds.unique_track_features` as unis\n",
    "#   LEFT JOIN  \n",
    "#     `hybrid-vertex.spotify_mpd.track_audio` as auds\n",
    "#   ON\n",
    "#     unis.track_uri = auds.uri\n",
    "# );"
   ]
  },
  {
   "cell_type": "markdown",
   "id": "3d200df4-7a80-40b0-a8f3-1108824433cf",
   "metadata": {},
   "source": [
    "converting track key, mode, and time signature to string..."
   ]
  },
  {
   "cell_type": "code",
   "execution_count": null,
   "id": "e639f1af-1fb4-4236-8cf3-3d63fb42556f",
   "metadata": {},
   "outputs": [],
   "source": [
    "CREATE OR REPLACE TABLE `hybrid-vertex.a_spotify_ds.unique_track_features_plus_v3` AS (\n",
    "  SELECT \n",
    "    unis.track_pop as track_pop,\n",
    "    unis.tracks_playlist_titles as tracks_playlist_titles,\n",
    "    unis.track_uri as track_uri,\n",
    "    auds.track_name as track_name,\n",
    "    auds.danceability as danceability,\n",
    "    auds.energy as energy,\n",
    "    CAST(auds.key AS STRING) as key,\n",
    "    auds.loudness as loudness,\n",
    "    CAST(auds.mode AS STRING) as mode,\n",
    "    auds.speechiness as speechiness,\n",
    "    auds.acousticness as acousticness,\n",
    "    auds.instrumentalness as instrumentalness,\n",
    "    auds.liveness as liveness,\n",
    "    auds.valence as valence,\n",
    "    auds.tempo as tempo,\n",
    "    CAST(auds.time_signature AS STRING) as time_signature,\n",
    "  -- uri,\n",
    "  FROM \n",
    "    `hybrid-vertex.a_spotify_ds.unique_track_features` as unis\n",
    "  LEFT JOIN  \n",
    "    `hybrid-vertex.spotify_mpd.track_audio` as auds\n",
    "  ON\n",
    "    unis.track_uri = auds.uri\n",
    ");"
   ]
  },
  {
   "cell_type": "markdown",
   "id": "5550756a-7a9e-4ce7-ada5-6f109ac09839",
   "metadata": {},
   "source": [
    "##### The data is now in BQ"
   ]
  },
  {
   "cell_type": "markdown",
   "id": "8f0bc92a-b54b-4600-8bf9-a289e098a6b9",
   "metadata": {},
   "source": [
    "## The tables are set for feature enrichment\n",
    "We will visit these tables later, now let's load the Million Playlist dataset locally and push bq using `pandas-gbq` (see requirements installation at the top)"
   ]
  },
  {
   "cell_type": "code",
   "execution_count": 22,
   "id": "a8e10066-32e9-4dd3-b82a-5e65e4b325e3",
   "metadata": {},
   "outputs": [
    {
     "name": "stdout",
     "output_type": "stream",
     "text": [
      "/home/jupyter/jw-repo/spotify_mpd_two_tower\n"
     ]
    }
   ],
   "source": [
    "!pwd\n",
    "# gsutil cp gs://spotify-million-playlist-dataset/spotify_million_playlist_dataset.zip ."
   ]
  },
  {
   "cell_type": "code",
   "execution_count": 24,
   "id": "8fd3725a",
   "metadata": {},
   "outputs": [],
   "source": [
    "# start_time = time.time()\n",
    "\n",
    "# !gsutil cp {SOURCE_BUCKET}/spotify_million_playlist_dataset.zip .\n",
    "# !unzip spotify_million_playlist_dataset.zip\n",
    "\n",
    "# end_time = time.time()\n",
    "# runtime_mins = int((end_time - start_time) / 60)\n",
    "# print(f\"elapsed time (mins): {runtime_mins}\")"
   ]
  },
  {
   "cell_type": "markdown",
   "id": "420750c4",
   "metadata": {},
   "source": [
    "#### This step can take up to 30 minutes"
   ]
  },
  {
   "cell_type": "code",
   "execution_count": 28,
   "id": "34dbcf73-d27c-4855-888d-ba1cdc1ee589",
   "metadata": {},
   "outputs": [
    {
     "data": {
      "text/plain": [
       "['mpd.slice.906000-906999.json', 'mpd.slice.253000-253999.json']"
      ]
     },
     "execution_count": 28,
     "metadata": {},
     "output_type": "execute_result"
    }
   ],
   "source": [
    "import os\n",
    "\n",
    "data_files = os.listdir('data/data')\n",
    "data_files[0:2]"
   ]
  },
  {
   "cell_type": "code",
   "execution_count": 29,
   "id": "0888f988",
   "metadata": {},
   "outputs": [
    {
     "name": "stdout",
     "output_type": "stream",
     "text": [
      "CPU times: user 13min 10s, sys: 36.4 s, total: 13min 46s\n",
      "Wall time: 1h 52min 19s\n"
     ]
    }
   ],
   "source": [
    "%%time\n",
    "import os\n",
    "import json\n",
    "import pandas as pd\n",
    "data_files = os.listdir('data/data')\n",
    "\n",
    "#make sure there is not already existing data in the playlists table\n",
    "#loops over json files - converts to pandas then upload/appends\n",
    "for filename in data_files:\n",
    "    with open(f'data/data/{filename}') as f:\n",
    "        json_dict = json.load(f)\n",
    "        df = pd.DataFrame(json_dict['playlists'])\n",
    "        df.to_gbq(\n",
    "        destination_table=f'{bq_dataset}.playlists', \n",
    "        project_id=PROJECT_ID, # TODO: param\n",
    "        location=REGION, \n",
    "        progress_bar=False, \n",
    "        reauth=True, \n",
    "        if_exists='append'\n",
    "        ) "
   ]
  },
  {
   "cell_type": "markdown",
   "id": "74a96366-cab1-408f-af19-4539ba1a890e",
   "metadata": {},
   "source": [
    "Now the data is loaded but the playlists are nested as one large string that needs to be parsed - we will use json compatible functionality with BigQuery to address\n",
    "\n",
    "![](img/tracks-string.png)"
   ]
  },
  {
   "cell_type": "markdown",
   "id": "338b113f",
   "metadata": {},
   "source": [
    "### Import bigquery and run parameterized queries to shape the data\n",
    "\n",
    "This query formats the json strings to be read as Bigquery structs, to be manipulated in subsequent queries"
   ]
  },
  {
   "cell_type": "code",
   "execution_count": null,
   "id": "53e9b7e8",
   "metadata": {},
   "outputs": [],
   "source": [
    "%%time\n",
    "\n",
    "json_extract_query = f\"\"\"create or replace table `{PROJECT_ID}.{bq_dataset}.playlists_nested` as (\n",
    "with json_parsed as (SELECT * except(tracks), JSON_EXTRACT_ARRAY(tracks) as json_data FROM `{PROJECT_ID}.{bq_dataset}.playlists` )\n",
    "\n",
    "select json_parsed.* except(json_data),\n",
    "ARRAY(SELECT AS STRUCT\n",
    "JSON_EXTRACT_SCALAR(json_data, \"$.pos\") as pos, \n",
    "JSON_EXTRACT_SCALAR(json_data, \"$.artist_name\") as artist_name,\n",
    "JSON_EXTRACT_SCALAR(json_data, \"$.track_uri\") as track_uri,\n",
    "JSON_EXTRACT_SCALAR(json_data, \"$.artist_uri\") as artist_uri,\n",
    "JSON_EXTRACT_SCALAR(json_data, \"$.track_name\") as track_name,\n",
    "JSON_EXTRACT_SCALAR(json_data, \"$.album_uri\") as album_uri,\n",
    "JSON_EXTRACT_SCALAR(json_data, \"$.duration_ms\") as duration_ms,\n",
    "JSON_EXTRACT_SCALAR(json_data, \"$.album_name\") as album_name\n",
    "from json_parsed.json_data\n",
    ") as tracks,\n",
    "from json_parsed) \"\"\"\n",
    "\n",
    "bigquery_client.query(json_extract_query).result()"
   ]
  },
  {
   "cell_type": "markdown",
   "id": "9f3f27fb-b56d-4759-ab10-e28c0d2c186f",
   "metadata": {},
   "source": [
    "Now `playlists_nested` has parsed the string data to a struct with arrays that will allow us to process the data much more easily\n",
    "\n",
    "![](img/playlists-nested.png)"
   ]
  },
  {
   "cell_type": "markdown",
   "id": "e2890a40",
   "metadata": {},
   "source": [
    "## Now enrich the playlist songs with the new features\n",
    "\n",
    "`unique_track_features` - created from file above\n",
    "\n",
    "+\n",
    "\n",
    "`unique_artist_features` - created from file above\n",
    "\n",
    "These are additional tables where features were added in the beginning of the notebook"
   ]
  },
  {
   "cell_type": "code",
   "execution_count": 37,
   "id": "b3066d45",
   "metadata": {},
   "outputs": [
    {
     "name": "stdout",
     "output_type": "stream",
     "text": [
      "CPU times: user 31.1 ms, sys: 221 µs, total: 31.3 ms\n",
      "Wall time: 48.6 s\n"
     ]
    },
    {
     "data": {
      "text/plain": [
       "<google.cloud.bigquery.table._EmptyRowIterator at 0x7f47581f7430>"
      ]
     },
     "execution_count": 37,
     "metadata": {},
     "output_type": "execute_result"
    }
   ],
   "source": [
    "%%time\n",
    "enrich_query = f\"\"\"CREATE OR REPLACE TABLE\n",
    "  `{PROJECT_ID}.{bq_dataset}.enriched_data` AS (\n",
    "    SELECT\n",
    "    a.* except(tracks),\n",
    "      ARRAY(\n",
    "    SELECT\n",
    "      AS STRUCT CAST(track.pos AS int64) AS pos_can,\n",
    "      case when track.artist_name = '' then 'NONE' else track.artist_name end AS artist_name_can,\n",
    "      case when track.track_uri = '' then 'NONE' else track.track_uri  end AS track_uri_can,\n",
    "      case when track.album_uri = '' then 'NONE' else track.album_uri  end AS album_uri_can,\n",
    "      case when track.artist_uri = '' then 'NONE' else track.artist_uri  end AS artist_uri_can,\n",
    "      CAST(track.duration_ms AS float64) / 1.0 AS duration_ms_can,\n",
    "      case when track.album_name = '' then 'NONE' else track.album_name end AS album_name_can,\n",
    "      CAST(IFNULL(tf.track_pop, 0.0) as float64) / 1.0 AS track_pop_can,\n",
    "      CAST(IFNULL(af.artist_pop, 0.0) as float64) / 1.0  AS artist_pop_can,\n",
    "      case when af.artist_genres[OFFSET(0)] = '' then ['NONE'] else af.artist_genres end AS artist_genres_can,\n",
    "      CAST(IFNULL(af.artist_followers, 0.0) as float64) / 1.0 AS artist_followers_can\n",
    "    FROM\n",
    "      UNNEST(tracks) as track\n",
    "    INNER JOIN\n",
    "      `{PROJECT_ID}.{bq_dataset}.unique_track_features` AS tf --track features\n",
    "    ON\n",
    "      (track.track_uri = tf.track_uri)\n",
    "    INNER JOIN\n",
    "      `{PROJECT_ID}.{bq_dataset}.unique_artists_features` AS af --artist features\n",
    "      ON\n",
    "      (track.artist_uri = af.artist_uri)\n",
    "      ) AS tracks\n",
    "  FROM \n",
    "  `{PROJECT_ID}.{bq_dataset}.playlists_nested` as a)\"\"\"\n",
    "\n",
    "bigquery_client.query(enrich_query).result()"
   ]
  },
  {
   "cell_type": "markdown",
   "id": "1d26e960-1b1d-4e07-9a60-84f860bb9aab",
   "metadata": {},
   "source": [
    "### JT -adding audio features"
   ]
  },
  {
   "cell_type": "code",
   "execution_count": null,
   "id": "a67f01ed-c95b-41d0-93ee-a73ee34b1d71",
   "metadata": {},
   "outputs": [],
   "source": [
    "\n",
    "# CREATE OR REPLACE TABLE `hybrid-vertex.a_spotify_ds.enriched_data_jt` AS (\n",
    "#   SELECT\n",
    "#   a.* except(tracks),\n",
    "#       ARRAY(\n",
    "#     SELECT\n",
    "#       AS STRUCT CAST(track.pos AS int64) AS pos_can,\n",
    "#       case when track.artist_name = '' then 'NONE' else track.artist_name end AS artist_name_can,\n",
    "#       case when track.track_uri = '' then 'NONE' else track.track_uri  end AS track_uri_can,\n",
    "#       case when track.album_uri = '' then 'NONE' else track.album_uri  end AS album_uri_can,\n",
    "#       case when track.artist_uri = '' then 'NONE' else track.artist_uri  end AS artist_uri_can,\n",
    "#       CAST(track.duration_ms AS float64) / 1.0 AS duration_ms_can,\n",
    "#       case when track.album_name = '' then 'NONE' else track.album_name end AS album_name_can,\n",
    "#       CAST(IFNULL(tf.track_pop, 0.0) as float64) / 1.0 AS track_pop_can,\n",
    "\n",
    "#       CASE WHEN tf.tracks_playlist_titles = '' then 'NONE' ELSE tf.tracks_playlist_titles END AS tracks_playlist_titles,\n",
    "#       CAST(IFNULL(tf.danceability, 0.0) as float64) / 1.0 AS track_danceability,\n",
    "#       CAST(IFNULL(tf.energy, 0.0) as float64) / 1.0 AS track_energy,\n",
    "#       CAST(IFNULL(tf.key, 0.0) as float64) / 1.0 AS track_key,\n",
    "#       CAST(IFNULL(tf.loudness, 0.0) as float64) / 1.0 AS track_loudness,\n",
    "#       CAST(IFNULL(tf.mode, 0.0) as float64) / 1.0 AS track_mode,\n",
    "#       CAST(IFNULL(tf.speechiness, 0.0) as float64) / 1.0 AS track_speechiness,\n",
    "#       CAST(IFNULL(tf.acousticness, 0.0) as float64) / 1.0 AS track_acousticness,\n",
    "#       CAST(IFNULL(tf.instrumentalness, 0.0) as float64) / 1.0 AS track_instrumentalness,\n",
    "#       CAST(IFNULL(tf.liveness, 0.0) as float64) / 1.0 AS track_liveness,\n",
    "#       CAST(IFNULL(tf.valence, 0.0) as float64) / 1.0 AS track_valence,\n",
    "#       CAST(IFNULL(tf.tempo, 0.0) as float64) / 1.0 AS track_tempo,\n",
    "#       CAST(IFNULL(tf.time_signature, 0.0) as float64) / 1.0 AS time_signature,\n",
    "\n",
    "#       CAST(IFNULL(af.artist_pop, 0.0) as float64) / 1.0  AS artist_pop_can,\n",
    "#       case when af.artist_genres[OFFSET(0)] = '' then ['NONE'] else af.artist_genres end AS artist_genres_can,\n",
    "#       CAST(IFNULL(af.artist_followers, 0.0) as float64) / 1.0 AS artist_followers_can\n",
    "#     FROM\n",
    "#       UNNEST(tracks) as track\n",
    "#     INNER JOIN\n",
    "#       `hybrid-vertex.a_spotify_ds.unique_track_features_plus` AS tf --track features\n",
    "#     ON\n",
    "#       (track.track_uri = tf.track_uri)\n",
    "#     INNER JOIN\n",
    "#       `hybrid-vertex.a_spotify_ds.unique_artist_features` AS af --artist features\n",
    "#       ON\n",
    "#       (track.artist_uri = af.artist_uri)\n",
    "#       ) AS tracks\n",
    "#   FROM \n",
    "#   `hybrid-vertex.mdp_eda_test.playlists_nested` as a)"
   ]
  },
  {
   "cell_type": "markdown",
   "id": "cc6075d7-d466-4ecd-9885-6f1e20c58cf8",
   "metadata": {},
   "source": [
    "Converting mode, key, and time_signatrue to categorical/string"
   ]
  },
  {
   "cell_type": "code",
   "execution_count": null,
   "id": "e3938b26-50d1-48bc-8fd2-996f2935ef3c",
   "metadata": {},
   "outputs": [],
   "source": [
    "CREATE OR REPLACE TABLE `hybrid-vertex.a_spotify_ds.enriched_data_jt_v3` AS (\n",
    "  SELECT\n",
    "  a.* except(tracks),\n",
    "      ARRAY(\n",
    "    SELECT\n",
    "      AS STRUCT CAST(track.pos AS int64) AS pos_can,\n",
    "      case when track.artist_name = '' then 'NONE' else track.artist_name end AS artist_name_can,\n",
    "      case when track.track_uri = '' then 'NONE' else track.track_uri  end AS track_uri_can,\n",
    "      case when track.track_name = '' then 'NONE' else track.track_name  end AS track_name_can,\n",
    "      case when track.album_uri = '' then 'NONE' else track.album_uri  end AS album_uri_can,\n",
    "      case when track.artist_uri = '' then 'NONE' else track.artist_uri  end AS artist_uri_can,\n",
    "      CAST(track.duration_ms AS float64) / 1.0 AS duration_ms_can,\n",
    "      case when track.album_name = '' then 'NONE' else track.album_name end AS album_name_can,\n",
    "      CAST(IFNULL(tf.track_pop, 0.0) as float64) / 1.0 AS track_pop_can,\n",
    "\n",
    "      CASE WHEN tf.tracks_playlist_titles = '' then 'NONE' ELSE tf.tracks_playlist_titles END AS tracks_playlist_titles,\n",
    "      CAST(IFNULL(tf.danceability, 0.0) as float64) / 1.0 AS track_danceability,\n",
    "      CAST(IFNULL(tf.energy, 0.0) as float64) / 1.0 AS track_energy,\n",
    "      -- CAST(IFNULL(tf.key, 0.0) as float64) / 1.0 AS track_key,\n",
    "      CASE WHEN tf.key IS NULL THEN 'NONE' ELSE tf.key END AS track_key,\n",
    "      CAST(IFNULL(tf.loudness, 0.0) as float64) / 1.0 AS track_loudness,\n",
    "      -- CAST(IFNULL(tf.mode, 0.0) as float64) / 1.0 AS track_mode,\n",
    "      CASE WHEN tf.mode IS NULL THEN 'NONE' ELSE tf.mode END AS track_mode,\n",
    "      CAST(IFNULL(tf.speechiness, 0.0) as float64) / 1.0 AS track_speechiness,\n",
    "      CAST(IFNULL(tf.acousticness, 0.0) as float64) / 1.0 AS track_acousticness,\n",
    "      CAST(IFNULL(tf.instrumentalness, 0.0) as float64) / 1.0 AS track_instrumentalness,\n",
    "      CAST(IFNULL(tf.liveness, 0.0) as float64) / 1.0 AS track_liveness,\n",
    "      CAST(IFNULL(tf.valence, 0.0) as float64) / 1.0 AS track_valence,\n",
    "      CAST(IFNULL(tf.tempo, 0.0) as float64) / 1.0 AS track_tempo,\n",
    "      -- CAST(IFNULL(tf.time_signature, 0.0) as float64) / 1.0 AS time_signature,\n",
    "      CASE WHEN tf.time_signature IS NULL THEN 'NONE' ELSE tf.time_signature END AS time_signature,\n",
    "\n",
    "      CAST(IFNULL(af.artist_pop, 0.0) as float64) / 1.0  AS artist_pop_can,\n",
    "      case when af.artist_genres[OFFSET(0)] = '' then ['NONE'] else af.artist_genres end AS artist_genres_can,\n",
    "      CAST(IFNULL(af.artist_followers, 0.0) as float64) / 1.0 AS artist_followers_can\n",
    "    FROM\n",
    "      UNNEST(tracks) as track\n",
    "    INNER JOIN\n",
    "      `hybrid-vertex.a_spotify_ds.unique_track_features_plus_v3` AS tf --track features\n",
    "    ON\n",
    "      (track.track_uri = tf.track_uri)\n",
    "    INNER JOIN\n",
    "      `hybrid-vertex.a_spotify_ds.unique_artist_features` AS af --artist features\n",
    "      ON\n",
    "      (track.artist_uri = af.artist_uri)\n",
    "      ) AS tracks\n",
    "  FROM \n",
    "  `hybrid-vertex.mdp_eda_test.playlists_nested` as a)"
   ]
  },
  {
   "cell_type": "markdown",
   "id": "d933a3b9",
   "metadata": {},
   "source": [
    "## Cross join + get rid of after-the-fact `pos` data in playlist\n",
    "\n",
    "cross_join_songxplaylist_struct_query\n",
    "\n",
    "`hybrid-vertex.spotify_train_3.ordered_position_training`\n",
    "\n",
    "We create a data structure that creates unique song-playlist combos (every possible via cross-join). There is also a portion of pulling the last song in the playlist as the \"seed track\"\n",
    "________\n",
    "### Note on the approach\n",
    "\n",
    "Semantic matching requires pairs, triplets (tuples generally) of co-occurrences between pairs. This is a very broad definition, and with this newer approach many new use cases are being explored. A simple example are finding pairs of user queries and purchases. The training example pair are: (the features we know from the user query, the features we know on the product they ultimately purchased).\n",
    "\n",
    "There are other approaches where triples are considered, and there are advanced techniques on negative sampling, finding “bad” examples of query, product pairs, which we will not cover here.\n",
    "\n",
    "Note there are other sampling techniques we highlight below (different artist/album)\n",
    "\n",
    "The chosen task was predicting the next song on a playlist, given the playlist existing order. The approach taken was to create pairs for all children songs and their parent playlists. We did leveraging BigQuery’s `UNNEST` and `CROSS JOIN`. \n",
    "\n",
    "We also had rich features for playlists, albums and songs in another table that was later used to enrich post `CROSS JOIN`. This was done to optimize the computation since the cross-joining is expensive and it was subsequently much quicker to enrich after this step.\n",
    "\n",
    "Now that we completed this step, we had all combinations of child song, playlist pairs. The song was the candidate label but the playlist still contained the candidate label and all songs after. Additional criteria was added to remove the candidate song and all songs that occur after the candidate in the playlist. For the sake of performance we also only considered the last 5 played songs. Other sampling configurations are available in the example notebook as well (only predicting when there are album and artist switches).\n",
    "\n",
    "What this results in is a training dataset that has all possible child song candidates joined with the full playlist data, and the playlist data is properly censored as to only contain songs up to before the candidate song.\n",
    "\n",
    "![](img/semantic-pair.png)"
   ]
  },
  {
   "cell_type": "code",
   "execution_count": 3,
   "id": "e0e136cb",
   "metadata": {},
   "outputs": [
    {
     "name": "stdout",
     "output_type": "stream",
     "text": [
      "CPU times: user 71.8 ms, sys: 15.7 ms, total: 87.5 ms\n",
      "Wall time: 8min 12s\n"
     ]
    },
    {
     "data": {
      "text/plain": [
       "<google.cloud.bigquery.table._EmptyRowIterator at 0x7fc8861f7b10>"
      ]
     },
     "execution_count": 3,
     "metadata": {},
     "output_type": "execute_result"
    }
   ],
   "source": [
    "# %%time\n",
    "# cross_join_query = f\"\"\"\n",
    "#   CREATE OR REPLACE TABLE\n",
    "#   `{PROJECT_ID}.{bq_dataset}.ordered_position_training` AS (\n",
    "#   WITH\n",
    "#     -- get every combination of song and its parent playlist\n",
    "#     unnest_cross AS(\n",
    "#     SELECT\n",
    "#       b.*,\n",
    "#       CONCAT(b.pid,\"-\",track.pos_can) AS pid_pos_id,\n",
    "#       CAST(track.pos_can AS int64) AS pos_can,\n",
    "#       IFNULL(track.artist_name_can, \"NONE\") as artist_name_can ,\n",
    "#       track.track_uri_can ,\n",
    "#       track.album_uri_can,\n",
    "#       IFNULL(track.track_name_can, \"NONE\") as track_name_can ,\n",
    "#       track.artist_uri_can ,\n",
    "#       CAST(track.duration_ms_can AS float64) AS duration_ms_can,\n",
    "#       track.album_name_can ,\n",
    "#       track.track_pop_can ,\n",
    "#       track.artist_pop_can,\n",
    "#       track.artist_genres_can ,\n",
    "#       track.artist_followers_can \n",
    "#     FROM (\n",
    "#       SELECT\n",
    "#         * EXCEPT(duration_ms)\n",
    "#       FROM\n",
    "#         `{PROJECT_ID}.{bq_dataset}.enriched_data`) AS b\n",
    "#     CROSS JOIN\n",
    "#       UNNEST(tracks) AS track)\n",
    "#   SELECT\n",
    "#     a.* EXCEPT(tracks,\n",
    "#       num_tracks,\n",
    "#       num_artists,\n",
    "#       num_albums,\n",
    "#       num_followers,\n",
    "#       num_edits),\n",
    "#     ARRAY(\n",
    "#     SELECT\n",
    "#       AS STRUCT CAST(track.pos_can AS int64) AS pos_pl,\n",
    "#       track.artist_name_can AS artist_name_pl,\n",
    "#       track.track_uri_can AS track_uri_pl,\n",
    "#       track.track_name_can AS track_name_pl,\n",
    "#       track.album_uri_can AS album_uri_pl,\n",
    "#       track.artist_uri_can AS artist_uri_pl,\n",
    "#       CAST(track.duration_ms_can AS float64) AS duration_ms_pl,\n",
    "#       track.album_name_can AS album_name_pl,\n",
    "#       track.track_pop_can AS track_pop_pl,\n",
    "#       track.artist_pop_can AS artist_pop_pl,\n",
    "#       track.artist_genres_can AS artist_genres_pl,\n",
    "#       track.artist_followers_can AS artist_followers_pl,\n",
    "#     FROM\n",
    "#       UNNEST(tracks) AS track\n",
    "#     WHERE\n",
    "#       CAST(track.pos_can AS int64) < a.pos_can ORDER BY CAST(track.pos_can AS int64)) AS seed_playlist_tracks,\n",
    "#     ----- seed track part\n",
    "#     trx.pos_can AS pos_seed_track,\n",
    "#     trx.artist_name_can AS artist_name_seed_track,\n",
    "#     trx.artist_uri_can AS artist_uri_seed_track,\n",
    "#     trx.track_name_can AS track_name_seed_track,\n",
    "#     trx.track_uri_can AS track_uri_seed_track,\n",
    "#     trx.album_name_can AS album_name_seed_track,\n",
    "#     trx.album_uri_can AS album_uri_seed_track,\n",
    "#     trx.duration_ms_can AS duration_seed_track,\n",
    "#     trx.track_pop_can AS track_pop_seed_track,\n",
    "#     trx.artist_pop_can AS artist_pop_seed_track,\n",
    "#     trx.artist_genres_can as artist_genres_seed_track,\n",
    "#     trx.artist_followers_can as artist_followers_seed_track\n",
    "#   FROM\n",
    "#     unnest_cross AS a -- with statement\n",
    "#     ,\n",
    "#     UNNEST(a.tracks) AS trx\n",
    "#   WHERE\n",
    "#     CAST(trx.pos_can AS int64) = a.pos_can-1);\n",
    "#     \"\"\"\n",
    "\n",
    "# bigquery_client.query(cross_join_query).result()"
   ]
  },
  {
   "cell_type": "code",
   "execution_count": null,
   "id": "1d7e18bf-7fe2-42ee-8117-c92001c8cdcd",
   "metadata": {},
   "outputs": [],
   "source": [
    "# CREATE OR REPLACE TABLE\n",
    "# `hybrid-vertex.a_spotify_ds_1m.all_seed_can_pl_tracks` AS (\n",
    "#   SELECT \n",
    "#     left_pls.pid AS pid_src,\n",
    "#     left_pls.name AS pl_name_src,\n",
    "#     left_pls.collaborative AS pl_collaborative_src,\n",
    "#     left_pls.num_tracks AS num_pl_tracks_src,\n",
    "#     left_pls.num_albums AS num_pl_albums_src,\n",
    "#     left_pls.num_artists AS num_pl_artists_src,\n",
    "#     left_pls.num_followers AS num_pl_followers_src,\n",
    "#     left_pls.duration_ms AS pl_duration_ms_src,\n",
    "#     IFNULL(left_pls.description, \"NONE\") AS pl_description_src,\n",
    "#     -- nested tracks\n",
    "#     ARRAY(\n",
    "#       SELECT\n",
    "#         AS STRUCT CAST(un_tracks.pos_can AS int64) AS pos_pl,\n",
    "#         un_tracks.artist_name_can AS artist_name_pl,\n",
    "#         un_tracks.track_uri_can AS track_uri_pl,\n",
    "#         un_tracks.track_name AS track_name_pl,\n",
    "#         un_tracks.album_uri_can AS album_uri_pl,\n",
    "#         un_tracks.artist_uri_can AS artist_uri_pl,\n",
    "#         CAST(un_tracks.duration_ms_can AS float64) AS duration_ms_pl,\n",
    "#         un_tracks.album_name_can AS album_name_pl,\n",
    "#         IFNULL(un_tracks.track_pop_can, 0.0) / 1.0 AS track_pop_pl,\n",
    "#         IFNULL(un_tracks.artist_pop_can, 0.0) / 1.0 AS artist_pop_pl,\n",
    "#         IFNULL(un_tracks.artist_genres_can[OFFSET(0)], \"NONE\") AS artist_genres_pl,\n",
    "#         IFNULL(un_tracks.artist_followers_can, 0.0) / 1.0 AS artist_followers_pl,\n",
    "#         un_tracks.tracks_playlist_titles AS tracks_playlist_titles_pl,\n",
    "#         IFNULL(un_tracks.track_danceability, 0.0) / 1.0 AS track_danceability_pl,\n",
    "#         IFNULL(un_tracks.track_energy, 0.0) / 1.0 as track_enrgy_pl,\n",
    "#         IFNULL(un_tracks.track_key, 0.0) / 1.0 as track_key_pl,\n",
    "#         IFNULL(un_tracks.track_loudness, 0.0) / 1.0 as track_loudness_pl,\n",
    "#         IFNULL(un_tracks.track_mode, 0.0) / 1.0 as track_mode_pl,\n",
    "#         IFNULL(un_tracks.track_speechiness, 0.0) / 1.0 as track_speechiness_pl,\n",
    "#         IFNULL(un_tracks.track_acousticness, 0.0) / 1.0 as track_acousticness_pl,\n",
    "#         IFNULL(un_tracks.track_liveness, 0.0) / 1.0 as track_liveness_pl,\n",
    "#         IFNULL(un_tracks.track_valence, 0.0) / 1.0 as track_valence_pl,\n",
    "#         IFNULL(un_tracks.track_tempo, 0.0) / 1.0 as track_tempo_pl,\n",
    "#         IFNULL(un_tracks.time_signature, 0.0) / 1.0 as time_signature_pl,\n",
    "#       FROM\n",
    "#         UNNEST(left_pls.tracks) AS un_tracks\n",
    "#     ) AS seed_playlist_tracks,\n",
    "#     -- candidate track\n",
    "#     seeds_and_cans.pid_pos_id,\n",
    "#     seeds_and_cans.pos_can,\n",
    "#     seeds_and_cans.track_uri_can,\n",
    "#     seeds_and_cans.track_name_can,\n",
    "#     seeds_and_cans.artist_uri_can,\n",
    "#     seeds_and_cans.artist_name_can,\n",
    "#     seeds_and_cans.album_uri_can,\n",
    "#     seeds_and_cans.album_name_can,\n",
    "#     IFNULL(seeds_and_cans.duration_ms_can, 0.0) / 1.0 AS duration_ms_can,\n",
    "#     IFNULL(seeds_and_cans.track_pop_can, 0.0) / 1.0 AS track_pop_can,\n",
    "#     IFNULL(seeds_and_cans.artist_pop_can, 0.0) / 1.0 AS artist_pop_can,\n",
    "#     IFNULL(seeds_and_cans.artist_genres_can[OFFSET(0)], \"NONE\") AS artist_genres_can,\n",
    "#     IFNULL(seeds_and_cans.artist_followers_can, 0.0) / 1.0 AS artist_followers_can,\n",
    "#     IFNULL(can_feat_plus.tracks_playlist_titles, \"NONE\") AS track_pl_titles_can,\n",
    "#     IFNULL(can_feat_plus.danceability, 0.0) / 1.0 AS track_danceability_can,\n",
    "#     IFNULL(can_feat_plus.energy, 0.0) / 1.0 AS track_energy_can,\n",
    "#     IFNULL(can_feat_plus.key, 0.0) / 1.0 AS track_key_can,\n",
    "#     IFNULL(can_feat_plus.loudness, 0.0) / 1.0 AS track_loudness_can,\n",
    "#     IFNULL(can_feat_plus.mode, 0.0) / 1.0 AS track_mode_can,\n",
    "#     IFNULL(can_feat_plus.speechiness, 0.0) / 1.0 AS track_speechiness_can,\n",
    "#     IFNULL(can_feat_plus.acousticness, 0.0) / 1.0 AS track_acousticness_can,\n",
    "#     IFNULL(can_feat_plus.instrumentalness, 0.0) / 1.0 AS track_instrumentalness_can,\n",
    "#     IFNULL(can_feat_plus.liveness, 0.0) / 1.0 AS track_liveness_can,\n",
    "#     IFNULL(can_feat_plus.valence, 0.0) / 1.0 AS track_valence_can,\n",
    "#     IFNULL(can_feat_plus.tempo, 0.0) / 1.0 AS track_tempo_can,\n",
    "#     IFNULL(can_feat_plus.time_signature, 0.0) / 1.0 AS track_time_signature_can,\n",
    "#     -- seed tracks\n",
    "#     seeds_and_cans.pos_seed_track,\n",
    "#     seeds_and_cans.track_uri_seed_track,\n",
    "#     seeds_and_cans.track_name_seed_track,\n",
    "#     seeds_and_cans.artist_uri_seed_track,\n",
    "#     seeds_and_cans.artist_name_seed_track,\n",
    "#     seeds_and_cans.album_uri_seed_track,\n",
    "#     seeds_and_cans.album_name_seed_track,\n",
    "#     IFNULL(seeds_and_cans.duration_seed_track, 0.0) / 1.0 AS duration_seed_track,\n",
    "#     IFNULL(seeds_and_cans.track_pop_seed_track, 0.0) / 1.0 AS track_pop_seed_track,\n",
    "#     IFNULL(seeds_and_cans.artist_pop_seed_track, 0.0) / 1.0 AS artist_pop_seed_track,\n",
    "#     IFNULL(seeds_and_cans.artist_genres_seed_track[OFFSET(0)], \"NONE\") AS artist_genres_seed_track,\n",
    "#     IFNULL(seeds_and_cans.artist_followers_seed_track, 0.0) / 1.0 AS artist_followers_seed_track,\n",
    "#     IFNULL(seed_feat_plus.tracks_playlist_titles, \"NONE\") AS track_pl_titles_seed_track,\n",
    "#     IFNULL(seed_feat_plus.danceability, 0.0) / 1.0 AS danceability_seed_track,\n",
    "#     IFNULL(seed_feat_plus.energy, 0.0) / 1.0 AS energy_seed_track,\n",
    "#     IFNULL(seed_feat_plus.key, 0.0) / 1.0 AS key_seed_track,\n",
    "#     IFNULL(seed_feat_plus.loudness, 0.0) / 1.0 AS loudness_seed_track,\n",
    "#     IFNULL(seed_feat_plus.mode, 0.0) / 1.0 AS mode_seed_track,\n",
    "#     IFNULL(seed_feat_plus.speechiness, 0.0) / 1.0 AS speechiness_seed_track,\n",
    "#     IFNULL(seed_feat_plus.acousticness, 0.0) / 1.0 AS acousticness_seed_track,\n",
    "#     IFNULL(seed_feat_plus.instrumentalness, 0.0) / 1.0 AS instrumentalness_seed_track,\n",
    "#     IFNULL(seed_feat_plus.liveness, 0.0) / 1.0 AS liveness_seed_track,\n",
    "#     IFNULL(seed_feat_plus.valence, 0.0) / 1.0 AS valence_seed_track,\n",
    "#     IFNULL(seed_feat_plus.tempo, 0.0) / 1.0 AS tempo_seed_track,\n",
    "#     IFNULL(seed_feat_plus.time_signature, 0.0) / 1.0 AS time_signature_seed_track,\n",
    "#   FROM \n",
    "#     -- `hybrid-vertex.mdp_eda_test.playlists` as left_pls\n",
    "#     `hybrid-vertex.a_spotify_ds.enriched_data_jt` as left_pls\n",
    "#   LEFT JOIN \n",
    "#     `hybrid-vertex.mdp_eda_test.ordered_position_training` AS seeds_and_cans\n",
    "#   ON \n",
    "#     left_pls.pid = seeds_and_cans.pid \n",
    "#     AND left_pls.num_tracks = (seeds_and_cans.pos_can + 1)\n",
    "#   LEFT JOIN \n",
    "#     `hybrid-vertex.a_spotify_ds.unique_track_features_plus` AS can_feat_plus\n",
    "#   ON\n",
    "#    seeds_and_cans.track_uri_can = can_feat_plus.track_uri\n",
    "#   LEFT JOIN \n",
    "#     `hybrid-vertex.a_spotify_ds.unique_track_features_plus` AS seed_feat_plus\n",
    "#   ON\n",
    "#    seeds_and_cans.track_uri_can = seed_feat_plus.track_uri\n",
    "\n",
    "#     );"
   ]
  },
  {
   "cell_type": "markdown",
   "id": "6cce1772-cdce-425e-9dc3-accfde6d521d",
   "metadata": {},
   "source": [
    "converting data types..."
   ]
  },
  {
   "cell_type": "code",
   "execution_count": null,
   "id": "fd334362-b133-4dca-846c-57f0673db022",
   "metadata": {},
   "outputs": [],
   "source": [
    "# CREATE OR REPLACE TABLE\n",
    "# `hybrid-vertex.a_spotify_ds_1m.all_seed_can_pl_tracks_v3` AS (\n",
    "#   SELECT \n",
    "#     left_pls.pid AS pid_src,\n",
    "#     left_pls.name AS pl_name_src,\n",
    "#     left_pls.collaborative AS pl_collaborative_src,\n",
    "#     left_pls.num_tracks AS num_pl_tracks_src,\n",
    "#     left_pls.num_albums AS num_pl_albums_src,\n",
    "#     left_pls.num_artists AS num_pl_artists_src,\n",
    "#     left_pls.num_followers AS num_pl_followers_src,\n",
    "#     left_pls.duration_ms AS pl_duration_ms_src,\n",
    "#     IFNULL(left_pls.description, \"NONE\") AS pl_description_src,\n",
    "#     -- nested tracks\n",
    "#     ARRAY(\n",
    "#       SELECT\n",
    "#         AS STRUCT CAST(un_tracks.pos_can AS int64) AS pos_pl,\n",
    "#         un_tracks.artist_name_can AS artist_name_pl,\n",
    "#         un_tracks.track_uri_can AS track_uri_pl,\n",
    "#         un_tracks.track_name_can AS track_name_pl,\n",
    "#         un_tracks.album_uri_can AS album_uri_pl,\n",
    "#         un_tracks.artist_uri_can AS artist_uri_pl,\n",
    "#         CAST(un_tracks.duration_ms_can AS float64) AS duration_ms_pl,\n",
    "#         un_tracks.album_name_can AS album_name_pl,\n",
    "#         IFNULL(un_tracks.track_pop_can, 0.0) / 1.0 AS track_pop_pl,\n",
    "#         IFNULL(un_tracks.artist_pop_can, 0.0) / 1.0 AS artist_pop_pl,\n",
    "#         IFNULL(un_tracks.artist_genres_can[OFFSET(0)], \"NONE\") AS artist_genres_pl,\n",
    "#         IFNULL(un_tracks.artist_followers_can, 0.0) / 1.0 AS artist_followers_pl,\n",
    "#         un_tracks.tracks_playlist_titles AS tracks_playlist_titles_pl,\n",
    "#         IFNULL(un_tracks.track_danceability, 0.0) / 1.0 AS track_danceability_pl,\n",
    "#         IFNULL(un_tracks.track_energy, 0.0) / 1.0 as track_energy_pl,\n",
    "#         IFNULL(un_tracks.track_key, \"NONE\") as track_key_pl,\n",
    "#         IFNULL(un_tracks.track_loudness, 0.0) / 1.0 as track_loudness_pl,\n",
    "#         IFNULL(un_tracks.track_mode, \"NONE\") as track_mode_pl,\n",
    "#         IFNULL(un_tracks.track_speechiness, 0.0) / 1.0 as track_speechiness_pl,\n",
    "#         IFNULL(un_tracks.track_acousticness, 0.0) / 1.0 as track_acousticness_pl,\n",
    "#         IFNULL(un_tracks.track_liveness, 0.0) / 1.0 as track_liveness_pl,\n",
    "#         IFNULL(un_tracks.track_valence, 0.0) / 1.0 as track_valence_pl,\n",
    "#         IFNULL(un_tracks.track_tempo, 0.0) / 1.0 as track_tempo_pl,\n",
    "#         IFNULL(un_tracks.time_signature, \"NONE\") as time_signature_pl,\n",
    "#       FROM\n",
    "#         UNNEST(left_pls.tracks) AS un_tracks\n",
    "#     ) AS seed_playlist_tracks,\n",
    "#     -- candidate track\n",
    "#     seeds_and_cans.pid_pos_id,\n",
    "#     seeds_and_cans.pos_can,\n",
    "#     seeds_and_cans.track_uri_can,\n",
    "#     seeds_and_cans.track_name_can,\n",
    "#     seeds_and_cans.artist_uri_can,\n",
    "#     seeds_and_cans.artist_name_can,\n",
    "#     seeds_and_cans.album_uri_can,\n",
    "#     seeds_and_cans.album_name_can,\n",
    "#     IFNULL(seeds_and_cans.duration_ms_can, 0.0) / 1.0 AS duration_ms_can,\n",
    "#     IFNULL(seeds_and_cans.track_pop_can, 0.0) / 1.0 AS track_pop_can,\n",
    "#     IFNULL(seeds_and_cans.artist_pop_can, 0.0) / 1.0 AS artist_pop_can,\n",
    "#     IFNULL(seeds_and_cans.artist_genres_can[OFFSET(0)], \"NONE\") AS artist_genres_can,\n",
    "#     IFNULL(seeds_and_cans.artist_followers_can, 0.0) / 1.0 AS artist_followers_can,\n",
    "#     IFNULL(can_feat_plus.tracks_playlist_titles, \"NONE\") AS track_pl_titles_can,\n",
    "#     IFNULL(can_feat_plus.danceability, 0.0) / 1.0 AS track_danceability_can,\n",
    "#     IFNULL(can_feat_plus.energy, 0.0) / 1.0 AS track_energy_can,\n",
    "#     IFNULL(can_feat_plus.key, \"NONE\") AS track_key_can,\n",
    "#     IFNULL(can_feat_plus.loudness, 0.0) / 1.0 AS track_loudness_can,\n",
    "#     IFNULL(can_feat_plus.mode, \"NONE\") AS track_mode_can,\n",
    "#     IFNULL(can_feat_plus.speechiness, 0.0) / 1.0 AS track_speechiness_can,\n",
    "#     IFNULL(can_feat_plus.acousticness, 0.0) / 1.0 AS track_acousticness_can,\n",
    "#     IFNULL(can_feat_plus.instrumentalness, 0.0) / 1.0 AS track_instrumentalness_can,\n",
    "#     IFNULL(can_feat_plus.liveness, 0.0) / 1.0 AS track_liveness_can,\n",
    "#     IFNULL(can_feat_plus.valence, 0.0) / 1.0 AS track_valence_can,\n",
    "#     IFNULL(can_feat_plus.tempo, 0.0) / 1.0 AS track_tempo_can,\n",
    "#     IFNULL(can_feat_plus.time_signature, \"NONE\") AS track_time_signature_can,\n",
    "#     -- seed tracks\n",
    "#     seeds_and_cans.pos_seed_track,\n",
    "#     seeds_and_cans.track_uri_seed_track,\n",
    "#     seeds_and_cans.track_name_seed_track,\n",
    "#     seeds_and_cans.artist_uri_seed_track,\n",
    "#     seeds_and_cans.artist_name_seed_track,\n",
    "#     seeds_and_cans.album_uri_seed_track,\n",
    "#     seeds_and_cans.album_name_seed_track,\n",
    "#     IFNULL(seeds_and_cans.duration_seed_track, 0.0) / 1.0 AS duration_seed_track,\n",
    "#     IFNULL(seeds_and_cans.track_pop_seed_track, 0.0) / 1.0 AS track_pop_seed_track,\n",
    "#     IFNULL(seeds_and_cans.artist_pop_seed_track, 0.0) / 1.0 AS artist_pop_seed_track,\n",
    "#     IFNULL(seeds_and_cans.artist_genres_seed_track[OFFSET(0)], \"NONE\") AS artist_genres_seed_track,\n",
    "#     IFNULL(seeds_and_cans.artist_followers_seed_track, 0.0) / 1.0 AS artist_followers_seed_track,\n",
    "#     IFNULL(seed_feat_plus.tracks_playlist_titles, \"NONE\") AS track_pl_titles_seed_track,\n",
    "#     IFNULL(seed_feat_plus.danceability, 0.0) / 1.0 AS danceability_seed_track,\n",
    "#     IFNULL(seed_feat_plus.energy, 0.0) / 1.0 AS energy_seed_track,\n",
    "#     IFNULL(seed_feat_plus.key, \"NONE\") AS key_seed_track,\n",
    "#     IFNULL(seed_feat_plus.loudness, 0.0) / 1.0 AS loudness_seed_track,\n",
    "#     IFNULL(seed_feat_plus.mode, \"NONE\") AS mode_seed_track,\n",
    "#     IFNULL(seed_feat_plus.speechiness, 0.0) / 1.0 AS speechiness_seed_track,\n",
    "#     IFNULL(seed_feat_plus.acousticness, 0.0) / 1.0 AS acousticness_seed_track,\n",
    "#     IFNULL(seed_feat_plus.instrumentalness, 0.0) / 1.0 AS instrumentalness_seed_track,\n",
    "#     IFNULL(seed_feat_plus.liveness, 0.0) / 1.0 AS liveness_seed_track,\n",
    "#     IFNULL(seed_feat_plus.valence, 0.0) / 1.0 AS valence_seed_track,\n",
    "#     IFNULL(seed_feat_plus.tempo, 0.0) / 1.0 AS tempo_seed_track,\n",
    "#     IFNULL(seed_feat_plus.time_signature,\"NONE\") AS time_signature_seed_track,\n",
    "#   FROM \n",
    "#     -- `hybrid-vertex.mdp_eda_test.playlists` as left_pls\n",
    "#     `hybrid-vertex.a_spotify_ds.enriched_data_jt_v3` as left_pls\n",
    "#   LEFT JOIN \n",
    "#     `hybrid-vertex.mdp_eda_test.ordered_position_training` AS seeds_and_cans\n",
    "#   ON \n",
    "#     left_pls.pid = seeds_and_cans.pid \n",
    "#     AND left_pls.num_tracks = (seeds_and_cans.pos_can + 1)\n",
    "#   LEFT JOIN \n",
    "#     `hybrid-vertex.a_spotify_ds.unique_track_features_plus_v3` AS can_feat_plus\n",
    "#   ON\n",
    "#    seeds_and_cans.track_uri_can = can_feat_plus.track_uri\n",
    "#   LEFT JOIN \n",
    "#     `hybrid-vertex.a_spotify_ds.unique_track_features_plus_v3` AS seed_feat_plus\n",
    "#   ON\n",
    "#    seeds_and_cans.track_uri_can = seed_feat_plus.track_uri\n",
    "\n",
    "#     );"
   ]
  },
  {
   "cell_type": "code",
   "execution_count": null,
   "id": "b6d029c3-3b7e-4c4a-ae1b-078ea36622a4",
   "metadata": {},
   "outputs": [],
   "source": [
    "# CREATE OR REPLACE TABLE\n",
    "# `hybrid-vertex.a_spotify_ds.ordered_position_training_jt` AS (\n",
    "# WITH\n",
    "#   -- get every combination of song and its parent playlist\n",
    "#   unnest_cross AS(\n",
    "#   SELECT\n",
    "#     b.*,\n",
    "#     CONCAT(b.pid,\"-\",track.pos_can) AS pid_pos_id,\n",
    "#     CAST(track.pos_can AS int64) AS pos_can,\n",
    "#     IFNULL(track.artist_name_can, \"NONE\") as artist_name_can,\n",
    "#     track.track_uri_can,\n",
    "#     track.album_uri_can,\n",
    "#     IFNULL(track.track_name, \"NONE\") as track_name_can,\n",
    "#     track.artist_uri_can,\n",
    "#     CAST(track.duration_ms_can AS float64) AS duration_ms_can,\n",
    "#     track.album_name_can,\n",
    "#     track.track_pop_can,\n",
    "#     track.artist_pop_can,\n",
    "#     track.artist_genres_can,\n",
    "#     track.artist_followers_can,\n",
    "\n",
    "#   FROM (\n",
    "#     SELECT\n",
    "#       * EXCEPT(duration_ms)\n",
    "#     FROM\n",
    "#       `hybrid-vertex.a_spotify_ds.enriched_data_jt`) AS b\n",
    "#   CROSS JOIN\n",
    "#     UNNEST(tracks) AS track)\n",
    "# SELECT\n",
    "#   a.* EXCEPT(tracks,\n",
    "#     num_tracks,\n",
    "#     num_artists,\n",
    "#     num_albums,\n",
    "#     num_followers,\n",
    "#     num_edits),\n",
    "#   ARRAY(\n",
    "#   SELECT\n",
    "#     AS STRUCT CAST(track.pos_can AS int64) AS pos_pl,\n",
    "#     track.artist_name_can AS artist_name_pl,\n",
    "#     track.track_uri_can AS track_uri_pl,\n",
    "#     track.track_name AS track_name_pl,\n",
    "#     track.album_uri_can AS album_uri_pl,\n",
    "#     track.artist_uri_can AS artist_uri_pl,\n",
    "#     CAST(track.duration_ms_can AS float64) AS duration_ms_pl,\n",
    "#     track.album_name_can AS album_name_pl,\n",
    "#     track.track_pop_can AS track_pop_pl,\n",
    "#     track.artist_pop_can AS artist_pop_pl,\n",
    "#     track.artist_genres_can AS artist_genres_pl,\n",
    "#     track.artist_followers_can AS artist_followers_pl,\n",
    "#     track.tracks_playlist_titles as tracks_playlist_titles,\n",
    "#     track.track_danceability as track_danceability,\n",
    "#     track.track_energy as track_enrgy,\n",
    "#     track.track_key as track_key,\n",
    "#     track.track_loudness as track_loudness,\n",
    "#     track.track_mode as track_mode,\n",
    "#     track.track_speechiness as track_speechiness,\n",
    "#     track.track_acousticness as track_acousticness,\n",
    "#     track.track_liveness as track_liveness,\n",
    "#     track.track_valence as track_valence,\n",
    "#     track.track_tempo as track_tempo,\n",
    "#     track.time_signature as time_signature,\n",
    "#   FROM\n",
    "#     UNNEST(tracks) AS track\n",
    "#   WHERE\n",
    "#     CAST(track.pos_can AS int64) < a.pos_can ORDER BY CAST(track.pos_can AS int64)) AS seed_playlist_tracks,\n",
    "#   ----- seed track part\n",
    "#   trx.pos_can AS pos_seed_track,\n",
    "#   trx.artist_name_can AS artist_name_seed_track,\n",
    "#   trx.artist_uri_can AS artist_uri_seed_track,\n",
    "#   trx.track_name AS track_name_seed_track,\n",
    "#   trx.track_uri_can AS track_uri_seed_track,\n",
    "#   trx.album_name_can AS album_name_seed_track,\n",
    "#   trx.album_uri_can AS album_uri_seed_track,\n",
    "#   trx.duration_ms_can AS duration_seed_track,\n",
    "#   trx.track_pop_can AS track_pop_seed_track,\n",
    "#   trx.artist_pop_can AS artist_pop_seed_track,\n",
    "#   trx.artist_genres_can as artist_genres_seed_track,\n",
    "#   trx.artist_followers_can as artist_followers_seed_track,\n",
    "#   trx.tracks_playlist_titles as tracks_playlist_titles,\n",
    "#   trx.track_danceability as track_danceability,\n",
    "#   trx.track_energy as track_enrgy,\n",
    "#   trx.track_key as track_key,\n",
    "#   trx.track_loudness as track_loudness,\n",
    "#   trx.track_mode as track_mode,\n",
    "#   trx.track_speechiness as track_speechiness,\n",
    "#   trx.track_acousticness as track_acousticness,\n",
    "#   trx.track_liveness as track_liveness,\n",
    "#   trx.track_valence as track_valence,\n",
    "#   trx.track_tempo as track_tempo,\n",
    "#   trx.time_signature as time_signature,\n",
    "# FROM\n",
    "#   unnest_cross AS a -- with statement\n",
    "#   ,\n",
    "#   UNNEST(a.tracks) AS trx\n",
    "# WHERE\n",
    "#   CAST(trx.pos_can AS int64) = a.pos_can-1);"
   ]
  },
  {
   "cell_type": "markdown",
   "id": "e48a1393",
   "metadata": {},
   "source": [
    "## Update the playlist metadata with the new samples created above\n",
    "\n",
    "Trainv3-clean-track-features\n",
    "\n",
    "Get new metadata for the tracks now that there are updated track counts, durations, etc...\n",
    "\n",
    "`hybrid-vertex.spotify_train_3.train`\n"
   ]
  },
  {
   "cell_type": "code",
   "execution_count": 4,
   "id": "e7985b2a",
   "metadata": {},
   "outputs": [
    {
     "name": "stdout",
     "output_type": "stream",
     "text": [
      "CPU times: user 35.3 ms, sys: 1.54 ms, total: 36.8 ms\n",
      "Wall time: 2min 57s\n"
     ]
    },
    {
     "data": {
      "text/plain": [
       "<google.cloud.bigquery.table._EmptyRowIterator at 0x7fc885937950>"
      ]
     },
     "execution_count": 4,
     "metadata": {},
     "output_type": "execute_result"
    }
   ],
   "source": [
    "%%time\n",
    "get_new_metadata_query = f\"\"\"\n",
    "create or replace table `{PROJECT_ID}.{bq_dataset}.train` as (\n",
    "WITH\n",
    "  playlist_features_clean AS (\n",
    "  SELECT\n",
    "    pid_pos_id,\n",
    "    SUM(trx.duration_ms_pl) / 1.0 AS duration_ms_seed_pl,\n",
    "    COUNT(1) / 1.0 AS n_songs_pl,\n",
    "    COUNT(DISTINCT trx.artist_name_pl) / 1.0 AS num_artists_pl,\n",
    "    COUNT(DISTINCT trx.album_uri_pl) /1.0 AS num_albums_pl,\n",
    "  FROM\n",
    "    `{PROJECT_ID}.{bq_dataset}.ordered_position_training`,\n",
    "    UNNEST(seed_playlist_tracks) AS trx\n",
    "  GROUP BY\n",
    "    pid_pos_id)\n",
    "    \n",
    "SELECT\n",
    "  a.* except(artist_genres_can, artist_genres_seed_track, track_pop_can, artist_pop_can, artist_followers_can,\n",
    "            track_pop_seed_track, artist_pop_seed_track),\n",
    "  b.* except(pid_pos_id),\n",
    "  IFNULL(a.artist_genres_can[OFFSET(0)], \"NONE\") as artist_genres_can,\n",
    "  IFNULL(a.artist_genres_seed_track[OFFSET(0)], \"NONE\") as artist_genres_seed_track,\n",
    "  IFNULL(a.track_pop_can, 0.0) / 1.0 as  track_pop_can, \n",
    "  IFNULL(a.artist_pop_can, 0.0) / 1.0 as artist_pop_can,\n",
    "  IFNULL(a.artist_followers_can, 0.0) / 1.0 as artist_followers_can,\n",
    "  IFNULL(a.track_pop_seed_track, 0.0) / 1.0 as track_pop_seed_track,\n",
    "  IFNULL(a.artist_pop_seed_track, 0.0) / 1.0 as artist_pop_seed_track,\n",
    "  \n",
    "FROM\n",
    "  `{PROJECT_ID}.{bq_dataset}.ordered_position_training` a\n",
    "INNER JOIN\n",
    "  playlist_features_clean b\n",
    "ON\n",
    "  a.pid_pos_id = b.pid_pos_id )\n",
    "  \"\"\"\n",
    "\n",
    "bigquery_client.query(get_new_metadata_query).result()"
   ]
  },
  {
   "cell_type": "code",
   "execution_count": 5,
   "id": "19113617-7da4-4c9d-a18e-a54b414abe79",
   "metadata": {},
   "outputs": [
    {
     "name": "stdout",
     "output_type": "stream",
     "text": [
      "CPU times: user 14.1 ms, sys: 0 ns, total: 14.1 ms\n",
      "Wall time: 12 s\n"
     ]
    },
    {
     "data": {
      "text/plain": [
       "<google.cloud.bigquery.table._EmptyRowIterator at 0x7fc88d7e7d10>"
      ]
     },
     "execution_count": 5,
     "metadata": {},
     "output_type": "execute_result"
    }
   ],
   "source": [
    "%%time\n",
    "### Get candidates\n",
    "\n",
    "get_unique_candidates = f\"\"\"\n",
    "create or replace table `{PROJECT_ID}.{bq_dataset}.candidates` as (\n",
    "SELECT DISTINCT\n",
    "  track_name_can,\n",
    "  artist_name_can,\n",
    "  album_name_can,\n",
    "  track_uri_can,\n",
    "  album_uri_can,\n",
    "  artist_uri_can,\n",
    "  track_pop_can,\n",
    "  artist_genres_can,\n",
    "  artist_followers_can,\n",
    "  duration_ms_can,\n",
    "  artist_pop_can\n",
    "FROM\n",
    "  `{PROJECT_ID}.{bq_dataset}.train`\n",
    "  )\n",
    "  \"\"\"\n",
    "\n",
    "bigquery_client.query(get_unique_candidates).result()"
   ]
  },
  {
   "cell_type": "code",
   "execution_count": null,
   "id": "2aea3434-e0a5-4c64-aa59-01ce83d48a6c",
   "metadata": {},
   "outputs": [],
   "source": [
    "# JT candidates v8\n",
    "CREATE OR REPLACE TABLE `hybrid-vertex.a_spotify_hack.candidates_v8` AS (\n",
    "SELECT DISTINCT\n",
    "    track_uri_can,\n",
    "    IFNULL(track_name, \"NONE\") AS track_name_can,\n",
    "    IFNULL(artist_uri_can, \"NONE\") AS artist_uri_can,\n",
    "    IFNULL(artist_name_can, \"NONE\") AS artist_name_can,\n",
    "    IFNULL(album_uri_can, \"NONE\") AS album_uri_can,\n",
    "    IFNULL(album_name_can, \"NONE\") AS album_name_can,\n",
    "    IFNULL(duration_ms_can, 0.0) / 1.0 AS duration_ms_can,\n",
    "    IFNULL(track_pop, 0.0) / 1.0 AS track_pop_can,\n",
    "    IFNULL(artist_pop_can, 0.0) / 1.0 AS artist_pop_can,\n",
    "    IFNULL(artist_genres_can, \"NONE\") AS artist_genres_can,\n",
    "    IFNULL(artist_followers_can, 0.0) / 1.0 AS artist_followers_can,\n",
    "    IFNULL(tracks_playlist_titles, \"NONE\") AS track_pl_titles_can,\n",
    "    IFNULL(danceability, 0.0) / 1.0 AS track_danceability_can,\n",
    "    IFNULL(energy, 0.0) / 1.0 AS track_energy_can,\n",
    "    IFNULL(key, \"NONE\") AS track_key_can,\n",
    "    IFNULL(loudness, 0.0) / 1.0 AS track_loudness_can,\n",
    "    IFNULL(mode, \"NONE\") AS track_mode_can,\n",
    "    IFNULL(speechiness, 0.0) / 1.0 AS track_speechiness_can,\n",
    "    IFNULL(acousticness, 0.0) / 1.0 AS track_acousticness_can,\n",
    "    IFNULL(instrumentalness, 0.0) / 1.0 AS track_instrumentalness_can,\n",
    "    IFNULL(liveness, 0.0) / 1.0 AS track_liveness_can,\n",
    "    IFNULL(valence, 0.0) / 1.0 AS track_valence_can,\n",
    "    IFNULL(tempo, 0.0) / 1.0 AS track_tempo_can,\n",
    "    IFNULL(time_signature, \"NONE\") AS track_time_signature_can,\n",
    "  -- track_uri_can,\n",
    "  -- track_name_can,\n",
    "  -- artist_uri_can,\n",
    "  -- artist_name_can,\n",
    "  -- album_uri_can,\n",
    "  -- album_name_can,\n",
    "  \n",
    "  -- track_pop_can,\n",
    "  -- artist_genres_can,\n",
    "  -- artist_followers_can,\n",
    "  -- duration_ms_can,\n",
    "  -- artist_pop_can\n",
    "FROM\n",
    "  `hybrid-vertex.a_spotify_hack.full_train_pre_split`\n",
    "  )"
   ]
  },
  {
   "cell_type": "markdown",
   "id": "444f4460-24a9-48e6-925d-0f181b94056c",
   "metadata": {},
   "source": [
    "### JT adapt"
   ]
  },
  {
   "cell_type": "code",
   "execution_count": null,
   "id": "c8016ed5-4dc5-4a11-adb8-21f48cd2e165",
   "metadata": {},
   "outputs": [],
   "source": [
    "# -- feats to summarize playlist's tracks/artists\n",
    "# --     > avg popularity\n",
    "# --     > avg duration, acousticness, danceability, loudness, energy, speechiness\n",
    "# -- playlist-track homogeneity \n",
    "# --     > artist/genre/album\n",
    "# --     > key, mode\n",
    "\n",
    "# CREATE OR REPLACE TABLE\n",
    "# `hybrid-vertex.a_spotify_ds_1m.feats_1_all_seed_can_pl_track` AS (\n",
    "# WITH\n",
    "#   playlist_features_clean AS (\n",
    "#   SELECT\n",
    "#     pid_src,\n",
    "#     SUM(trx.duration_ms_pl) / 1.0 AS pl_duration_ms_new,\n",
    "#     COUNT(1) / 1.0 AS n_songs_pl_new,\n",
    "#     COUNT(DISTINCT trx.artist_uri_pl) / 1.0 AS num_pl_artists_new,\n",
    "#     COUNT(DISTINCT trx.album_uri_pl) / 1.0 AS num_pl_albums_new,\n",
    "#     AVG(trx.track_pop_pl) AS avg_track_pop_pl_new,\n",
    "#     AVG(trx.artist_pop_pl) AS avg_artist_pop_pl_new,\n",
    "#     AVG(trx.artist_followers_pl) AS avg_art_followers_pl_new,\n",
    "#   FROM\n",
    "#     `hybrid-vertex.a_spotify_ds_1m.all_seed_can_pl_tracks`,\n",
    "#     UNNEST(seed_playlist_tracks) AS trx\n",
    "#   GROUP BY\n",
    "#     pid_src)\n",
    "#   SELECT\n",
    "#     a.* \n",
    "#     ,\n",
    "#     b.* EXCEPT(pid_src),\n",
    "#   FROM\n",
    "#     `hybrid-vertex.a_spotify_ds_1m.all_seed_can_pl_tracks` a\n",
    "#   INNER JOIN\n",
    "#     playlist_features_clean b\n",
    "#   ON  \n",
    "#     a.pid_src = b.pid_src \n",
    "# );"
   ]
  },
  {
   "cell_type": "code",
   "execution_count": null,
   "id": "53b81c2d-4391-45be-9b30-28a1ccf7e0a9",
   "metadata": {},
   "outputs": [],
   "source": [
    "CREATE OR REPLACE TABLE\n",
    "`hybrid-vertex.a_spotify_ds_1m.feats_1_all_seed_can_pl_track_v3` AS (\n",
    "WITH\n",
    "  playlist_features_clean AS (\n",
    "  SELECT\n",
    "    pid_src,\n",
    "    SUM(trx.duration_ms_pl) / 1.0 AS pl_duration_ms_new,\n",
    "    COUNT(1) / 1.0 AS n_songs_pl_new,\n",
    "    COUNT(DISTINCT trx.artist_uri_pl) / 1.0 AS num_pl_artists_new,\n",
    "    COUNT(DISTINCT trx.album_uri_pl) / 1.0 AS num_pl_albums_new,\n",
    "    AVG(trx.track_pop_pl) AS avg_track_pop_pl_new,\n",
    "    AVG(trx.artist_pop_pl) AS avg_artist_pop_pl_new,\n",
    "    AVG(trx.artist_followers_pl) AS avg_art_followers_pl_new,\n",
    "  FROM\n",
    "    `hybrid-vertex.a_spotify_ds_1m.all_seed_can_pl_tracks_v3`,\n",
    "    UNNEST(seed_playlist_tracks) AS trx\n",
    "  GROUP BY\n",
    "    pid_src)\n",
    "  SELECT\n",
    "    a.* \n",
    "    ,\n",
    "    b.* EXCEPT(pid_src),\n",
    "  FROM\n",
    "    `hybrid-vertex.a_spotify_ds_1m.all_seed_can_pl_tracks_v3` a\n",
    "  INNER JOIN\n",
    "    playlist_features_clean b\n",
    "  ON  \n",
    "    a.pid_src = b.pid_src \n",
    ");"
   ]
  },
  {
   "cell_type": "markdown",
   "id": "4a04512c-6ed3-450f-9061-eb0e6afe22cd",
   "metadata": {},
   "source": [
    "### train_flatten pre-split"
   ]
  },
  {
   "cell_type": "code",
   "execution_count": null,
   "id": "42d047a1-4005-48ab-b0ce-fecaae44cd86",
   "metadata": {},
   "outputs": [],
   "source": [
    "# CREATE OR REPLACE TABLE `hybrid-vertex.a_spotify_ds_1m.train_flatten_pre_split_last_5_feats_v1` as (\n",
    "#   SELECT a.* EXCEPT(\n",
    "#     seed_playlist_tracks, \n",
    "#     pl_description_src,\n",
    "#     num_pl_tracks_src,\n",
    "#     num_pl_albums_src,\n",
    "#     num_pl_artists_src,\n",
    "#     pl_duration_ms_src\n",
    "#   ),\n",
    "#   ARRAY(select t.pos_pl FROM UNNEST(seed_playlist_tracks) t where pos_pl >= pos_can - 5) as pos_pl,\n",
    "#   ARRAY(select t.track_uri_pl from UNNEST(seed_playlist_tracks) t where pos_pl >= pos_can - 5) as track_uri_pl,\n",
    "#   ARRAY(select CASE WHEN \n",
    "#                     t.track_name_pl IS NULL THEN 'NONE' \n",
    "#                     ELSE t.track_name_pl \n",
    "#                     END \n",
    "#                     FROM UNNEST(seed_playlist_tracks) t where pos_pl >= pos_can - 5) as track_name_pl,\n",
    "#   ARRAY(select t.artist_uri_pl from UNNEST(seed_playlist_tracks) t where pos_pl >= pos_can - 5) as artist_uri_pl,\n",
    "#   ARRAY(select t.artist_name_pl from UNNEST(seed_playlist_tracks) t where pos_pl >= pos_can - 5) as artist_name_pl,\n",
    "#   ARRAY(select t.album_uri_pl from UNNEST(seed_playlist_tracks) t where pos_pl >= pos_can - 5) as album_uri_pl,\n",
    "#   ARRAY(select t.album_name_pl from UNNEST(seed_playlist_tracks) t where pos_pl >= pos_can - 5) as album_name_pl,\n",
    "#   ARRAY(select t.duration_ms_pl from UNNEST(seed_playlist_tracks) t where pos_pl >= pos_can - 5) as duration_ms_songs_pl,\n",
    "  \n",
    "#   ARRAY(select t.track_pop_pl from UNNEST(seed_playlist_tracks) t where pos_pl >= pos_can - 5) as track_pop_pl,\n",
    "#   ARRAY(select CAST(t.artist_pop_pl as FLOAT64) from UNNEST(seed_playlist_tracks) t where pos_pl >= pos_can - 5) as artist_pop_pl,\n",
    "#   ARRAY(select t.artist_genres_pl from UNNEST(seed_playlist_tracks) t where pos_pl >= pos_can - 5) as artist_genres_pl,\n",
    "#   ARRAY(select t.artist_followers_pl from UNNEST(seed_playlist_tracks) t where pos_pl >= pos_can - 5) as artists_followers_pl,\n",
    "#   ARRAY(select t.tracks_playlist_titles_pl from UNNEST(seed_playlist_tracks) t where pos_pl >= pos_can - 5) as tracks_playlist_titles_pl,\n",
    "\n",
    "#   ARRAY(select t.track_danceability_pl from UNNEST(seed_playlist_tracks) t where pos_pl >= pos_can - 5) as track_danceability_pl,\n",
    "#   ARRAY(select t.track_key_pl from UNNEST(seed_playlist_tracks) t where pos_pl >= pos_can - 5) as track_key_pl,\n",
    "#   ARRAY(select t.track_loudness_pl from UNNEST(seed_playlist_tracks) t where pos_pl >= pos_can - 5) as track_loudness_pl,\n",
    "#   ARRAY(select t.track_mode_pl from UNNEST(seed_playlist_tracks) t where pos_pl >= pos_can - 5) as track_mode_pl,\n",
    "#   ARRAY(select t.track_speechiness_pl from UNNEST(seed_playlist_tracks) t where pos_pl >= pos_can - 5) as track_speechiness_pl,\n",
    "#   ARRAY(select t.track_acousticness_pl from UNNEST(seed_playlist_tracks) t where pos_pl >= pos_can - 5) as track_acousticness_pl,\n",
    "#   ARRAY(select t.track_liveness_pl from UNNEST(seed_playlist_tracks) t where pos_pl >= pos_can - 5) as track_liveness_pl,\n",
    "#   ARRAY(select t.track_valence_pl from UNNEST(seed_playlist_tracks) t where pos_pl >= pos_can - 5) as track_valence_pl,\n",
    "#   ARRAY(select t.track_tempo_pl from UNNEST(seed_playlist_tracks) t where pos_pl >= pos_can - 5) as track_tempo_pl,\n",
    "#   ARRAY(select t.time_signature_pl from UNNEST(seed_playlist_tracks) t where pos_pl >= pos_can - 5) as time_signature_pl,\n",
    "# FROM \n",
    "#   `hybrid-vertex.a_spotify_ds_1m.feats_1_all_seed_can_pl_track` a\n",
    "# )"
   ]
  },
  {
   "cell_type": "markdown",
   "id": "d34f09be-54ef-484e-b226-7aa3d176a8b9",
   "metadata": {},
   "source": [
    "remove seed_tracks and use converted data types..."
   ]
  },
  {
   "cell_type": "code",
   "execution_count": null,
   "id": "6fac3249-02cf-42fb-bebb-c775b7b34248",
   "metadata": {},
   "outputs": [],
   "source": [
    "# CREATE OR REPLACE TABLE `hybrid-vertex.a_spotify_ds_1m.train_flatten_pre_split_last_5_feats_v3` as (\n",
    "#   SELECT a.* EXCEPT(\n",
    "#     seed_playlist_tracks, \n",
    "#     pl_description_src,\n",
    "#     num_pl_tracks_src,\n",
    "#     num_pl_albums_src,\n",
    "#     num_pl_artists_src,\n",
    "#     pl_duration_ms_src,\n",
    "#     track_uri_seed_track,\n",
    "#     track_name_seed_track,\n",
    "#     artist_uri_seed_track,\n",
    "#     artist_name_seed_track,\n",
    "#     album_uri_seed_track,\n",
    "#     album_name_seed_track,\n",
    "#     artist_genres_seed_track,\n",
    "#     track_pl_titles_seed_track,\n",
    "#     duration_seed_track,\n",
    "#     track_pop_seed_track,\n",
    "#     artist_pop_seed_track,\n",
    "#     artist_followers_seed_track,\n",
    "#     danceability_seed_track,\n",
    "#     key_seed_track,\n",
    "#     loudness_seed_track,\n",
    "#     mode_seed_track,\n",
    "#     speechiness_seed_track,\n",
    "#     acousticness_seed_track,\n",
    "#     liveness_seed_track,\n",
    "#     valence_seed_track,\n",
    "#     tempo_seed_track,\n",
    "#     time_signature_seed_track,\n",
    "#     pos_seed_track,\n",
    "#     energy_seed_track,\n",
    "#     instrumentalness_seed_track\n",
    "#   ),\n",
    "#   ARRAY(select t.pos_pl FROM UNNEST(seed_playlist_tracks) t where pos_pl >= pos_can - 5) as pos_pl,\n",
    "#   ARRAY(select t.track_uri_pl from UNNEST(seed_playlist_tracks) t where pos_pl >= pos_can - 5) as track_uri_pl,\n",
    "#   ARRAY(select CASE WHEN \n",
    "#                     t.track_name_pl IS NULL THEN 'NONE' \n",
    "#                     ELSE t.track_name_pl \n",
    "#                     END \n",
    "#                     FROM UNNEST(seed_playlist_tracks) t where pos_pl >= pos_can - 5) as track_name_pl,\n",
    "#   ARRAY(select t.artist_uri_pl from UNNEST(seed_playlist_tracks) t where pos_pl >= pos_can - 5) as artist_uri_pl,\n",
    "#   ARRAY(select t.artist_name_pl from UNNEST(seed_playlist_tracks) t where pos_pl >= pos_can - 5) as artist_name_pl,\n",
    "#   ARRAY(select t.album_uri_pl from UNNEST(seed_playlist_tracks) t where pos_pl >= pos_can - 5) as album_uri_pl,\n",
    "#   ARRAY(select t.album_name_pl from UNNEST(seed_playlist_tracks) t where pos_pl >= pos_can - 5) as album_name_pl,\n",
    "#   ARRAY(select t.duration_ms_pl from UNNEST(seed_playlist_tracks) t where pos_pl >= pos_can - 5) as duration_ms_songs_pl,\n",
    "  \n",
    "#   ARRAY(select t.track_pop_pl from UNNEST(seed_playlist_tracks) t where pos_pl >= pos_can - 5) as track_pop_pl,\n",
    "#   ARRAY(select CAST(t.artist_pop_pl as FLOAT64) from UNNEST(seed_playlist_tracks) t where pos_pl >= pos_can - 5) as artist_pop_pl,\n",
    "#   ARRAY(select t.artist_genres_pl from UNNEST(seed_playlist_tracks) t where pos_pl >= pos_can - 5) as artist_genres_pl,\n",
    "#   ARRAY(select t.artist_followers_pl from UNNEST(seed_playlist_tracks) t where pos_pl >= pos_can - 5) as artists_followers_pl,\n",
    "#   ARRAY(select t.tracks_playlist_titles_pl from UNNEST(seed_playlist_tracks) t where pos_pl >= pos_can - 5) as tracks_playlist_titles_pl,\n",
    "\n",
    "#   ARRAY(select t.track_danceability_pl from UNNEST(seed_playlist_tracks) t where pos_pl >= pos_can - 5) as track_danceability_pl,\n",
    "#   ARRAY(select t.track_energy_pl from UNNEST(seed_playlist_tracks) t where pos_pl >= pos_can - 5) as track_energy_pl,\n",
    "#   ARRAY(select t.track_key_pl from UNNEST(seed_playlist_tracks) t where pos_pl >= pos_can - 5) as track_key_pl,\n",
    "#   ARRAY(select t.track_loudness_pl from UNNEST(seed_playlist_tracks) t where pos_pl >= pos_can - 5) as track_loudness_pl,\n",
    "#   ARRAY(select t.track_mode_pl from UNNEST(seed_playlist_tracks) t where pos_pl >= pos_can - 5) as track_mode_pl,\n",
    "#   ARRAY(select t.track_speechiness_pl from UNNEST(seed_playlist_tracks) t where pos_pl >= pos_can - 5) as track_speechiness_pl,\n",
    "#   ARRAY(select t.track_acousticness_pl from UNNEST(seed_playlist_tracks) t where pos_pl >= pos_can - 5) as track_acousticness_pl,\n",
    "#   ARRAY(select t.track_liveness_pl from UNNEST(seed_playlist_tracks) t where pos_pl >= pos_can - 5) as track_liveness_pl,\n",
    "#   ARRAY(select t.track_valence_pl from UNNEST(seed_playlist_tracks) t where pos_pl >= pos_can - 5) as track_valence_pl,\n",
    "#   ARRAY(select t.track_tempo_pl from UNNEST(seed_playlist_tracks) t where pos_pl >= pos_can - 5) as track_tempo_pl,\n",
    "#   ARRAY(select t.time_signature_pl from UNNEST(seed_playlist_tracks) t where pos_pl >= pos_can - 5) as time_signature_pl,\n",
    "# FROM \n",
    "#   `hybrid-vertex.a_spotify_ds_1m.feats_1_all_seed_can_pl_track_v3` a\n",
    "# )"
   ]
  },
  {
   "cell_type": "code",
   "execution_count": null,
   "id": "599d0670-a681-4d89-9a0b-9bd2f92ededf",
   "metadata": {},
   "outputs": [],
   "source": [
    "# CREATE OR REPLACE TABLE `hybrid-vertex.a_spotify_ds_1m.candidates` AS (\n",
    "# SELECT\n",
    "#     a.track_uri_can AS track_uri_can,\n",
    "#     a.track_name_can AS track_name_can,\n",
    "#     a.artist_uri_can AS artist_uri_can,\n",
    "#     a.artist_name_can AS artist_name_can,\n",
    "#     a.album_uri_can AS album_uri_can,\n",
    "#     a.album_name_can AS album_name_can,\n",
    "#     IFNULL(a.duration_ms_can, 0.0) / 1.0 AS duration_ms_can,\n",
    "#     IFNULL(a.track_pop_can, 0.0) / 1.0 AS track_pop_can,\n",
    "#     IFNULL(a.artist_pop_can, 0.0) / 1.0 AS artist_pop_can,\n",
    "#     IFNULL(a.artist_genres_can, \"NONE\") AS artist_genres_can,\n",
    "#     IFNULL(a.artist_followers_can, 0.0) / 1.0 AS artist_followers_can,\n",
    "#     IFNULL(b.tracks_playlist_titles, \"NONE\") AS track_pl_titles_can,\n",
    "#     IFNULL(b.danceability, 0.0) / 1.0 AS track_danceability_can,\n",
    "#     IFNULL(b.energy, 0.0) / 1.0 AS track_energy_can,\n",
    "#     IFNULL(b.key, 0.0) / 1.0 AS track_key_can,\n",
    "#     IFNULL(b.loudness, 0.0) / 1.0 AS track_loudness_can,\n",
    "#     IFNULL(b.mode, 0.0) / 1.0 AS track_mode_can,\n",
    "#     IFNULL(b.speechiness, 0.0) / 1.0 AS track_speechiness_can,\n",
    "#     IFNULL(b.acousticness, 0.0) / 1.0 AS track_acousticness_can,\n",
    "#     IFNULL(b.instrumentalness, 0.0) / 1.0 AS track_instrumentalness_can,\n",
    "#     IFNULL(b.liveness, 0.0) / 1.0 AS track_liveness_can,\n",
    "#     IFNULL(b.valence, 0.0) / 1.0 AS track_valence_can,\n",
    "#     IFNULL(b.tempo, 0.0) / 1.0 AS track_tempo_can,\n",
    "#     IFNULL(b.time_signature, 0.0) / 1.0 AS track_time_signature_can,\n",
    "# FROM\n",
    "#   `hybrid-vertex.mdp_eda_test.candidates` as a\n",
    "# LEFT JOIN\n",
    "#   `hybrid-vertex.a_spotify_ds.unique_track_features_plus` as b\n",
    "# ON a.track_uri_can = b.track_uri\n",
    "# )"
   ]
  },
  {
   "cell_type": "markdown",
   "id": "4517477d",
   "metadata": {},
   "source": [
    "## For TFRecords\n",
    "Get rid of structs by creating new table with arrays from playlist_seed\n"
   ]
  },
  {
   "cell_type": "markdown",
   "id": "65bcaf70-5e96-435e-a888-ae832dc297aa",
   "metadata": {},
   "source": [
    "# Only selecting last 5 songs\n",
    "\n",
    "song_history is settable but it will impact `MAX_PLAYLIST_LENGTH` in `src/two_tower.py`"
   ]
  },
  {
   "cell_type": "code",
   "execution_count": 6,
   "id": "83c31ae6-1126-4970-bf30-cbe40065d808",
   "metadata": {},
   "outputs": [
    {
     "name": "stdout",
     "output_type": "stream",
     "text": [
      "CPU times: user 14.1 ms, sys: 375 µs, total: 14.5 ms\n",
      "Wall time: 19.2 s\n"
     ]
    },
    {
     "data": {
      "text/plain": [
       "<google.cloud.bigquery.table._EmptyRowIterator at 0x7fc88583b7d0>"
      ]
     },
     "execution_count": 6,
     "metadata": {},
     "output_type": "execute_result"
    }
   ],
   "source": [
    "%%time\n",
    "song_history=5\n",
    "train_flatten_query = f\"\"\"\n",
    "create or replace table `{PROJECT_ID}.{bq_dataset}.train_flatten_pre_split_last_5` as (\n",
    "SELECT a.* except(seed_playlist_tracks, description),\n",
    "    IFNULL(a.description, \"\") as description_pl,\n",
    "    ARRAY(select t.pos_pl from UNNEST(seed_playlist_tracks) t where pos_pl >= pos_can - {song_history}) as pos_pl,\n",
    "    ARRAY(select t.artist_name_pl from UNNEST(seed_playlist_tracks) t where pos_pl >= pos_can - {song_history}) as artist_name_pl,\n",
    "    ARRAY(select t.track_uri_pl from UNNEST(seed_playlist_tracks) t where pos_pl >= pos_can - {song_history}) as track_uri_pl,\n",
    "    ARRAY(select t.track_name_pl from UNNEST(seed_playlist_tracks) t where pos_pl >= pos_can - {song_history}) as track_name_pl,\n",
    "    ARRAY(select t.duration_ms_pl from UNNEST(seed_playlist_tracks) t where pos_pl >= pos_can - {song_history}) as duration_ms_songs_pl,\n",
    "    ARRAY(select t.album_name_pl from UNNEST(seed_playlist_tracks) t where pos_pl >= pos_can - {song_history}) as album_name_pl,\n",
    "    ARRAY(select cast(t.artist_pop_pl as FLOAT64) from UNNEST(seed_playlist_tracks) t where pos_pl >= pos_can - {song_history}) as artist_pop_pl,\n",
    "    ARRAY(select t.artist_followers_pl from UNNEST(seed_playlist_tracks) t where pos_pl >= pos_can - {song_history}) as artists_followers_pl,\n",
    "    ARRAY(select case when t.track_pop_pl is null then 0. else t.track_pop_pl end from UNNEST(seed_playlist_tracks) t where pos_pl >= pos_can - {song_history}) as track_pop_pl,\n",
    "    ARRAY(select t.artist_genres_pl[OFFSET(0)] from UNNEST(seed_playlist_tracks) t where pos_pl >= pos_can - {song_history}) as artist_genres_pl\n",
    "    from `{PROJECT_ID}.{bq_dataset}.train` a\n",
    ")\n",
    "\"\"\"\n",
    "\n",
    "bigquery_client.query(train_flatten_query).result()"
   ]
  },
  {
   "cell_type": "markdown",
   "id": "93e60b42-a773-4d44-9bbb-708eb0362d31",
   "metadata": {},
   "source": [
    "### JT adapts"
   ]
  },
  {
   "cell_type": "code",
   "execution_count": null,
   "id": "5f3f3334-723d-4c30-a512-695e99bbd2b3",
   "metadata": {},
   "outputs": [],
   "source": [
    "seed_histories = [5, 10, 25, 30, 50, 75, 100]\n",
    "SUFFIX='feats_1'"
   ]
  },
  {
   "cell_type": "code",
   "execution_count": null,
   "id": "fe5f01a2-aee2-481c-9e1d-9c623085d127",
   "metadata": {},
   "outputs": [],
   "source": [
    "## TODO\n",
    "\n",
    "# for seed_length in playlist_histories:\n",
    "#     train_flatten_query = f'''\n",
    "#     CREATE OR REPLACE TABLE `hybrid-vertex.a_spotify_ds_1m.train_flatten_pre_split_last_5_feats_v1` as (\n",
    "#       SELECT a.* EXCEPT(\n",
    "#         seed_playlist_tracks, \n",
    "#         pl_description_src,\n",
    "#         num_pl_tracks_src,\n",
    "#         num_pl_albums_src,\n",
    "#         num_pl_artists_src,\n",
    "#         pl_duration_ms_src\n",
    "#       ),\n",
    "#       ARRAY(select t.pos_pl FROM UNNEST(seed_playlist_tracks) t where pos_pl >= pos_can - 5) as pos_pl,\n",
    "#       ARRAY(select t.track_uri_pl from UNNEST(seed_playlist_tracks) t where pos_pl >= pos_can - 5) as track_uri_pl,\n",
    "#       ARRAY(select CASE WHEN \n",
    "#                         t.track_name_pl IS NULL THEN 'NONE' \n",
    "#                         ELSE t.track_name_pl \n",
    "#                         END \n",
    "#                         FROM UNNEST(seed_playlist_tracks) t where pos_pl >= pos_can - 5) as track_name_pl,\n",
    "#       ARRAY(select t.artist_uri_pl from UNNEST(seed_playlist_tracks) t where pos_pl >= pos_can - 5) as artist_uri_pl,\n",
    "#       ARRAY(select t.artist_name_pl from UNNEST(seed_playlist_tracks) t where pos_pl >= pos_can - 5) as artist_name_pl,\n",
    "#       ARRAY(select t.album_uri_pl from UNNEST(seed_playlist_tracks) t where pos_pl >= pos_can - 5) as album_uri_pl,\n",
    "#       ARRAY(select t.album_name_pl from UNNEST(seed_playlist_tracks) t where pos_pl >= pos_can - 5) as album_name_pl,\n",
    "#       ARRAY(select t.duration_ms_pl from UNNEST(seed_playlist_tracks) t where pos_pl >= pos_can - 5) as duration_ms_songs_pl,\n",
    "\n",
    "#       ARRAY(select t.track_pop_pl from UNNEST(seed_playlist_tracks) t where pos_pl >= pos_can - 5) as track_pop_pl,\n",
    "#       ARRAY(select CAST(t.artist_pop_pl as FLOAT64) from UNNEST(seed_playlist_tracks) t where pos_pl >= pos_can - 5) as artist_pop_pl,\n",
    "#       ARRAY(select t.artist_genres_pl from UNNEST(seed_playlist_tracks) t where pos_pl >= pos_can - 5) as artist_genres_pl,\n",
    "#       ARRAY(select t.artist_followers_pl from UNNEST(seed_playlist_tracks) t where pos_pl >= pos_can - 5) as artists_followers_pl,\n",
    "#       ARRAY(select t.tracks_playlist_titles_pl from UNNEST(seed_playlist_tracks) t where pos_pl >= pos_can - 5) as tracks_playlist_titles_pl,\n",
    "\n",
    "#       ARRAY(select t.track_danceability_pl from UNNEST(seed_playlist_tracks) t where pos_pl >= pos_can - 5) as track_danceability_pl,\n",
    "#       ARRAY(select t.track_key_pl from UNNEST(seed_playlist_tracks) t where pos_pl >= pos_can - 5) as track_key_pl,\n",
    "#       ARRAY(select t.track_loudness_pl from UNNEST(seed_playlist_tracks) t where pos_pl >= pos_can - 5) as track_loudness_pl,\n",
    "#       ARRAY(select t.track_mode_pl from UNNEST(seed_playlist_tracks) t where pos_pl >= pos_can - 5) as track_mode_pl,\n",
    "#       ARRAY(select t.track_speechiness_pl from UNNEST(seed_playlist_tracks) t where pos_pl >= pos_can - 5) as track_speechiness_pl,\n",
    "#       ARRAY(select t.track_acousticness_pl from UNNEST(seed_playlist_tracks) t where pos_pl >= pos_can - 5) as track_acousticness_pl,\n",
    "#       ARRAY(select t.track_liveness_pl from UNNEST(seed_playlist_tracks) t where pos_pl >= pos_can - 5) as track_liveness_pl,\n",
    "#       ARRAY(select t.track_valence_pl from UNNEST(seed_playlist_tracks) t where pos_pl >= pos_can - 5) as track_valence_pl,\n",
    "#       ARRAY(select t.track_tempo_pl from UNNEST(seed_playlist_tracks) t where pos_pl >= pos_can - 5) as track_tempo_pl,\n",
    "#       ARRAY(select t.time_signature_pl from UNNEST(seed_playlist_tracks) t where pos_pl >= pos_can - 5) as time_signature_pl,\n",
    "#     FROM \n",
    "#       `hybrid-vertex.a_spotify_ds_1m.feats_1_all_seed_can_pl_track` a\n",
    "#     )\n",
    "#     '''"
   ]
  },
  {
   "cell_type": "markdown",
   "id": "793b5571-175c-44ac-b8bf-1df0ce8c5160",
   "metadata": {},
   "source": [
    "## Important for validation strategy\n",
    "Different playlist ids were selected for validation to prevent cross-contamination with the sampling approach."
   ]
  },
  {
   "cell_type": "code",
   "execution_count": 7,
   "id": "0a08d4f1-ea60-46b5-b520-1d61ec0e38ef",
   "metadata": {},
   "outputs": [
    {
     "name": "stdout",
     "output_type": "stream",
     "text": [
      "CPU times: user 10.3 ms, sys: 3.57 ms, total: 13.9 ms\n",
      "Wall time: 13 s\n"
     ]
    },
    {
     "data": {
      "text/plain": [
       "<google.cloud.bigquery.table._EmptyRowIterator at 0x7fc8857e8d10>"
      ]
     },
     "execution_count": 7,
     "metadata": {},
     "output_type": "execute_result"
    }
   ],
   "source": [
    "%%time\n",
    "VALIDATION_P = 0.01\n",
    "song_history=5\n",
    "\n",
    "validation_creation = f\"\"\"\n",
    "CREATE OR REPLACE TABLE\n",
    "  `{PROJECT_ID}.{bq_dataset}.train_flatten_valid_last_5` AS (\n",
    "    SELECT * \n",
    "  FROM\n",
    "    `{PROJECT_ID}.{bq_dataset}.train_flatten_pre_split_last_5` where MOD(pid, 100) = 0\n",
    "    AND ARRAY_LENGTH(pos_pl) = {song_history})\"\"\" #complete examples only\n",
    "\n",
    "bigquery_client.query(validation_creation).result()"
   ]
  },
  {
   "cell_type": "code",
   "execution_count": 8,
   "id": "c5db82a0-253c-4f84-bab3-d087888ab30b",
   "metadata": {},
   "outputs": [
    {
     "name": "stdout",
     "output_type": "stream",
     "text": [
      "CPU times: user 13.5 ms, sys: 0 ns, total: 13.5 ms\n",
      "Wall time: 17.8 s\n"
     ]
    },
    {
     "data": {
      "text/plain": [
       "<google.cloud.bigquery.table._EmptyRowIterator at 0x7fc88621cc10>"
      ]
     },
     "execution_count": 8,
     "metadata": {},
     "output_type": "execute_result"
    }
   ],
   "source": [
    "%%time\n",
    "VALIDATION_P = 0.01\n",
    "\n",
    "validation_creation = f\"\"\"\n",
    "CREATE OR REPLACE TABLE\n",
    "  `{PROJECT_ID}.{bq_dataset}.train_flatten_last_5` AS (\n",
    "    SELECT * \n",
    "  FROM\n",
    "    `{PROJECT_ID}.{bq_dataset}.train_flatten_pre_split_last_5` where MOD(pid, 100) != 0\n",
    "    AND ARRAY_LENGTH(pos_pl) = {song_history})\"\"\" #complete examples only\"\"\"\n",
    "\n",
    "bigquery_client.query(validation_creation).result()"
   ]
  },
  {
   "cell_type": "markdown",
   "id": "74b86f07-688b-4255-bfaa-63c5f55e87ce",
   "metadata": {},
   "source": [
    "### JT Adapts"
   ]
  },
  {
   "cell_type": "code",
   "execution_count": null,
   "id": "57e5d13e-e3f1-4360-86df-d28681620eb0",
   "metadata": {},
   "outputs": [],
   "source": [
    "# CREATE OR REPLACE TABLE\n",
    "#   `hybrid-vertex.a_spotify_ds_1m.train_flatten_valid_last_5_feats_v1` AS (\n",
    "#     SELECT * \n",
    "#   FROM\n",
    "#     `hybrid-vertex.a_spotify_ds_1m.train_flatten_pre_split_last_5_feats_v1` where MOD(pid_src, 100) = 0\n",
    "#     AND ARRAY_LENGTH(pos_pl) = 5\n",
    "#   )"
   ]
  },
  {
   "cell_type": "code",
   "execution_count": null,
   "id": "8b297928-3296-43bd-bfa9-d66f3747067c",
   "metadata": {},
   "outputs": [],
   "source": [
    "# CREATE OR REPLACE TABLE\n",
    "#   `hybrid-vertex.a_spotify_ds_1m.train_flatten_last_5_feats_v1` AS (\n",
    "#     SELECT * \n",
    "#   FROM\n",
    "#     `hybrid-vertex.a_spotify_ds_1m.train_flatten_pre_split_last_5_feats_v1` where MOD(pid_src, 100) != 0\n",
    "#     -- AND ARRAY_LENGTH(pos_pl) = 5\n",
    "#   )"
   ]
  },
  {
   "cell_type": "markdown",
   "id": "ac9bc3ad-35a2-4e14-b946-5faf7e14dca1",
   "metadata": {},
   "source": [
    "## Done - you can move on to the [next notebook](01-tfrecord-beam-pipeline.ipynb) unless you want to do the optional sampling strategy. "
   ]
  },
  {
   "cell_type": "markdown",
   "id": "28115ae6-bbc4-4f0d-b18c-e7f8e0151bd0",
   "metadata": {},
   "source": [
    "___________\n",
    "\n",
    "# Optional different artist sampling strategy\n",
    "\n",
    "In this section, you could create another dataset that only considers the cases when artist switch. This avoids training on cases where an album may be played in it's end to end."
   ]
  },
  {
   "cell_type": "code",
   "execution_count": 6,
   "id": "5cd5a1f7-58be-4143-9382-13364cf5ffa6",
   "metadata": {},
   "outputs": [
    {
     "name": "stdout",
     "output_type": "stream",
     "text": [
      "CPU times: user 52.1 ms, sys: 7.18 ms, total: 59.3 ms\n",
      "Wall time: 3min 4s\n"
     ]
    },
    {
     "data": {
      "text/plain": [
       "<google.cloud.bigquery.table._EmptyRowIterator at 0x7fdb52da8850>"
      ]
     },
     "execution_count": 6,
     "metadata": {},
     "output_type": "execute_result"
    }
   ],
   "source": [
    "%%time\n",
    "get_new_metadata_query = f\"\"\"\n",
    "create or replace table `{PROJECT_ID}.{bq_dataset}.train_dif_artist` as (\n",
    "WITH\n",
    "  playlist_features_clean AS (\n",
    "  SELECT\n",
    "    pid_pos_id,\n",
    "    SUM(trx.duration_ms_pl) / 1.0 AS duration_ms_seed_pl,\n",
    "    COUNT(1) / 1.0 AS n_songs_pl,\n",
    "    COUNT(DISTINCT trx.artist_name_pl) / 1.0 AS num_artists_pl,\n",
    "    COUNT(DISTINCT trx.album_uri_pl) /1.0 AS num_albums_pl,\n",
    "  FROM\n",
    "    `{PROJECT_ID}.{bq_dataset}.ordered_position_training`,\n",
    "    UNNEST(seed_playlist_tracks) AS trx\n",
    "  GROUP BY\n",
    "    pid_pos_id)\n",
    "    \n",
    "SELECT\n",
    "  a.* except(artist_genres_can, artist_geexcpectedres_seed_track, track_pop_can, artist_pop_can, artist_followers_can,\n",
    "            track_pop_seed_track, artist_pop_seed_track),\n",
    "  b.* except(pid_pos_id),\n",
    "  IFNULL(a.artist_genres_can[OFFSET(0)], \"NONE\") as artist_genres_can,\n",
    "  IFNULL(a.artist_genres_seed_track[OFFSET(0)], \"NONE\") as artist_genres_seed_track,\n",
    "  IFNULL(a.track_pop_can, 0.0) / 1.0 as  track_pop_can, \n",
    "  IFNULL(a.artist_pop_can, 0.0) / 1.0 as artist_pop_can,\n",
    "  IFNULL(a.artist_followers_can, 0.0) / 1.0 as artist_followers_can,\n",
    "  IFNULL(a.track_pop_seed_track, 0.0) / 1.0 as track_pop_seed_track,\n",
    "  IFNULL(a.artist_pop_seed_track, 0.0) / 1.0 as artist_pop_seed_track,\n",
    "  \n",
    "FROM\n",
    "  `{PROJECT_ID}.{bq_dataset}.ordered_position_training` a\n",
    "INNER JOIN\n",
    "  playlist_features_clean b\n",
    "ON\n",
    "  a.pid_pos_id = b.pid_pos_id \n",
    "  WHERE album_uri_can != album_uri_seed_track and artist_uri_seed_track != artist_uri_can)\n",
    "  \"\"\"\n",
    "\n",
    "bigquery_client.query(get_new_metadata_query).result()"
   ]
  },
  {
   "cell_type": "markdown",
   "id": "e32f6a3a-085e-42c7-8a66-888ef7b56e63",
   "metadata": {},
   "source": [
    "## For TFRecords\n",
    "Get rid of structs by creating new table with arrays from playlist_seed\n"
   ]
  },
  {
   "cell_type": "code",
   "execution_count": 17,
   "id": "3a78803c-9fd2-481b-bc20-a63a82df4313",
   "metadata": {},
   "outputs": [
    {
     "name": "stdout",
     "output_type": "stream",
     "text": [
      "CPU times: user 39 ms, sys: 0 ns, total: 39 ms\n",
      "Wall time: 32.3 s\n"
     ]
    },
    {
     "data": {
      "text/plain": [
       "<google.cloud.bigquery.table._EmptyRowIterator at 0x7f81200ea410>"
      ]
     },
     "execution_count": 17,
     "metadata": {},
     "output_type": "execute_result"
    }
   ],
   "source": [
    "%%time\n",
    "train_flatten_query = f\"\"\"\n",
    "create or replace table `{PROJECT_ID}.{bq_dataset}.train_flatten_pre_split_dif_artist` as (\n",
    "SELECT a.* except(seed_playlist_tracks, description),\n",
    "    IFNULL(a.description, \"\") as description_pl,\n",
    "    ARRAY(select t.pos_pl from UNNEST(seed_playlist_tracks) t) as pos_pl,\n",
    "    ARRAY(select t.artist_name_pl from UNNEST(seed_playlist_tracks) t) as artist_name_pl,\n",
    "    ARRAY(select t.track_uri_pl from UNNEST(seed_playlist_tracks) t) as track_uri_pl,\n",
    "    ARRAY(select t.track_name_pl from UNNEST(seed_playlist_tracks) t) as track_name_pl,\n",
    "    ARRAY(select t.duration_ms_pl from UNNEST(seed_playlist_tracks) t) as duration_ms_songs_pl,\n",
    "    ARRAY(select t.album_name_pl from UNNEST(seed_playlist_tracks) t) as album_name_pl,\n",
    "    ARRAY(select cast(t.artist_pop_pl as FLOAT64) from UNNEST(seed_playlist_tracks) t) as artist_pop_pl,\n",
    "    ARRAY(select t.artist_followers_pl from UNNEST(seed_playlist_tracks) t) as artists_followers_pl,\n",
    "    ARRAY(select case when t.track_pop_pl is null then 0. else t.track_pop_pl end from UNNEST(seed_playlist_tracks) t) as track_pop_pl,\n",
    "    ARRAY(select t.artist_genres_pl[OFFSET(0)] from UNNEST(seed_playlist_tracks) t) as artist_genres_pl\n",
    "    from `{PROJECT_ID}.{bq_dataset}.train_dif_artist` a\n",
    ")\n",
    "\"\"\"\n",
    "\n",
    "bigquery_client.query(train_flatten_query).result()"
   ]
  },
  {
   "cell_type": "code",
   "execution_count": 19,
   "id": "2fb5eee9-6de1-4eec-96cc-699c03f6c0d0",
   "metadata": {},
   "outputs": [
    {
     "name": "stdout",
     "output_type": "stream",
     "text": [
      "CPU times: user 17.3 ms, sys: 285 µs, total: 17.5 ms\n",
      "Wall time: 16 s\n"
     ]
    },
    {
     "data": {
      "text/plain": [
       "<google.cloud.bigquery.table._EmptyRowIterator at 0x7f8120095410>"
      ]
     },
     "execution_count": 19,
     "metadata": {},
     "output_type": "execute_result"
    }
   ],
   "source": [
    "%%time\n",
    "VALIDATION_P = 0.1\n",
    "\n",
    "validation_creation = f\"\"\"\n",
    "CREATE OR REPLACE TABLE\n",
    "  `{PROJECT_ID}.{bq_dataset}.train_flatten_dif_artist_valid` AS (\n",
    "    SELECT * \n",
    "  FROM\n",
    "    `{PROJECT_ID}.{bq_dataset}.train_flatten_pre_split_dif_artist` where MOD(pid, 100) = 0)\"\"\"\n",
    "\n",
    "bigquery_client.query(validation_creation).result()"
   ]
  },
  {
   "cell_type": "code",
   "execution_count": 21,
   "id": "0f8252d2-b169-49fb-a2c8-5886fad0da06",
   "metadata": {},
   "outputs": [
    {
     "name": "stdout",
     "output_type": "stream",
     "text": [
      "CPU times: user 26.1 ms, sys: 741 µs, total: 26.9 ms\n",
      "Wall time: 38.6 s\n"
     ]
    },
    {
     "data": {
      "text/plain": [
       "<google.cloud.bigquery.table._EmptyRowIterator at 0x7f812007c590>"
      ]
     },
     "execution_count": 21,
     "metadata": {},
     "output_type": "execute_result"
    }
   ],
   "source": [
    "%%time\n",
    "VALIDATION_P = 0.1\n",
    "\n",
    "validation_creation = f\"\"\"\n",
    "CREATE OR REPLACE TABLE\n",
    "  `{PROJECT_ID}.{bq_dataset}.train_flatten_dif_artist_train` AS (\n",
    "    SELECT * \n",
    "  FROM\n",
    "    `{PROJECT_ID}.{bq_dataset}.train_flatten_pre_split_dif_artist` where MOD(pid, 100) != 0)\"\"\"\n",
    "\n",
    "bigquery_client.query(validation_creation).result()"
   ]
  },
  {
   "cell_type": "markdown",
   "id": "167b4c0c-9368-49c8-9b33-2fdac81cd579",
   "metadata": {},
   "source": [
    "### Fin\n",
    "You are all set - go on to [`01-tfrecord-beam-pipeline.ipynb`](01-tfrecord-beam-pipeline.ipynb)"
   ]
  }
 ],
 "metadata": {
  "environment": {
   "kernel": "python3",
   "name": "tf2-gpu.2-8.m97",
   "type": "gcloud",
   "uri": "gcr.io/deeplearning-platform-release/tf2-gpu.2-8:m97"
  },
  "kernelspec": {
   "display_name": "Python 3",
   "language": "python",
   "name": "python3"
  },
  "language_info": {
   "codemirror_mode": {
    "name": "ipython",
    "version": 3
   },
   "file_extension": ".py",
   "mimetype": "text/x-python",
   "name": "python",
   "nbconvert_exporter": "python",
   "pygments_lexer": "ipython3",
   "version": "3.7.12"
  }
 },
 "nbformat": 4,
 "nbformat_minor": 5
}
