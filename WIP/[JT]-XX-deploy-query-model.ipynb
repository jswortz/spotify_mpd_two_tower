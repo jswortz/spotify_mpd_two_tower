{
 "cells": [
  {
   "cell_type": "markdown",
   "id": "c60bf3b0-8eb7-4599-97d7-102110fdbabd",
   "metadata": {},
   "source": [
    "# Deploying the query model\n",
    "\n",
    "This notebook comes after we train (distributed) and use the saved query_model to utilize a prediction endpoint. This will allow embeddings to be created from the session data. The notebook does the following:\n",
    "\n",
    "* Registers the query model on Vertex\n",
    "* Deploys the model to Vertex\n",
    "* Tests query results, returning vectors for matching engine"
   ]
  },
  {
   "cell_type": "code",
   "execution_count": null,
   "id": "d9e5ca5f-a8de-49ce-9e28-71ec19f98d82",
   "metadata": {},
   "outputs": [],
   "source": [
    "# Deploy the endpoint\n",
    "MODEL_PATH = 'gs://jt-tfrs-central/a50-epoch/run-20221230-160518/model-dir/query_model' #TODO change to your model directory\n",
    "MODEL_NAME = 'query_model-50e'\n",
    "REGION = 'us-central1'\n",
    "PROJECT = 'hybrid-vertex'\n",
    "ENDPOINT = 'query-endpoint-50e'"
   ]
  }
 ],
 "metadata": {
  "environment": {
   "kernel": "python3",
   "name": "tf2-gpu.2-8.m97",
   "type": "gcloud",
   "uri": "gcr.io/deeplearning-platform-release/tf2-gpu.2-8:m97"
  },
  "kernelspec": {
   "display_name": "Python 3",
   "language": "python",
   "name": "python3"
  },
  "language_info": {
   "codemirror_mode": {
    "name": "ipython",
    "version": 3
   },
   "file_extension": ".py",
   "mimetype": "text/x-python",
   "name": "python",
   "nbconvert_exporter": "python",
   "pygments_lexer": "ipython3",
   "version": "3.7.12"
  }
 },
 "nbformat": 4,
 "nbformat_minor": 5
}
