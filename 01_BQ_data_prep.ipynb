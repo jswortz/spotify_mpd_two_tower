{
 "cells": [
  {
   "cell_type": "markdown",
   "id": "377024b9-dc5c-4636-b270-3d8227a6ab9d",
   "metadata": {},
   "source": [
    "# Data prep\n",
    "\n",
    "## In this notebook we will load the songs from the zip file, and perform transoformations to prepare the data for two-tower training\n",
    "Steps\n",
    "1. Extract from the zip file\n",
    "2. Upload to BQ\n",
    "3. Enrich features for the playlist songs\n",
    "4. Cross-join songs with features (excpected rows = n_songs x n_playlists)\n",
    "5. Remove after-the-fact (later position songs) from the newly generated samples\n",
    "6. Create a clean train table, and flatten structs or use arrays"
   ]
  },
  {
   "cell_type": "markdown",
   "id": "26206aa0-8e2d-433e-a63f-6180c7fc4a41",
   "metadata": {},
   "source": [
    "#### Unzip the file and uplaod to BQ"
   ]
  },
  {
   "cell_type": "code",
   "execution_count": null,
   "id": "4a46fc7b-c232-418a-9d6d-159f519366e3",
   "metadata": {},
   "outputs": [],
   "source": [
    "# !gsutil cp gs://matching-engine-content/spotify-million-playlist/spotify_million_playlist_dataset.zip .\n",
    "# !unzip spotify_million_playlist_dataset.zip"
   ]
  },
  {
   "cell_type": "code",
   "execution_count": null,
   "id": "8b3289ba-c301-4b1f-8bf1-f8b887d5ef1b",
   "metadata": {},
   "outputs": [],
   "source": [
    "# import os\n",
    "# import json\n",
    "\n",
    "# data_files = os.listdir('data')\n",
    "# # PROJECT_ID = 'jtotten-project'\n",
    "# bq_dataset = 'mdp_eda'\n",
    "\n",
    "# for filename in data_files:\n",
    "#   with open(f'data/{filename}') as f:\n",
    "#     print(f)\n",
    "#     json_dict = json.load(f)\n",
    "#     df = pd.DataFrame(json_dict['playlists'])\n",
    "#     df.to_gbq(\n",
    "#     destination_table=f'{bq_dataset}.playlists', \n",
    "#     project_id=f'{PROJECT_ID}', # TODO: param\n",
    "#     location='us-central1', \n",
    "#     progress_bar=True, \n",
    "#     reauth=True, \n",
    "#     if_exists='append'\n",
    "#     ) "
   ]
  },
  {
   "cell_type": "markdown",
   "id": "25081d27-efd2-4729-8fcc-a65b9419c876",
   "metadata": {},
   "source": [
    "### Need to find playlist_nested lineage\n",
    "\n",
    "Here's the ddl from the schema - could be created from playlists table below\n",
    "\n",
    "```\n",
    "'CREATE TABLE `hybrid-vertex.spotify_mpd.playlists_nested`\\n(\\n  name STRING,\\n  collaborative STRING,\\n  pid INT64,\\n  modified_at INT64,\\n  num_tracks INT64,\\n  num_albums INT64,\\n  num_followers INT64,\\n  num_edits INT64,\\n  duration_ms INT64,\\n  num_artists INT64,\\n  description STRING,\\n  tracks ARRAY<STRUCT<pos STRING, artist_name STRING, track_uri STRING, artist_uri STRING, track_name STRING, album_uri STRING, duration_ms STRING, album_name STRING>>,\\n  row_number INT64\\n);'\n",
    "```"
   ]
  },
  {
   "cell_type": "code",
   "execution_count": null,
   "id": "a1208ed1-fee9-47f1-916e-d11bd0a68ea5",
   "metadata": {},
   "outputs": [],
   "source": [
    "# %%bigquery\n",
    "# create or replace table jtotten-project.spotify_mpd.playlists as (\n",
    "# with json_parsed as (SELECT *, JSON_EXTRACT_ARRAY(tracks) as json_data FROM `jtotten-project.mdp_eda.playlists` )\n",
    "\n",
    "# select json_parsed.* except(tracks, duration_ms, json_data),\n",
    "# JSON_EXTRACT(jsn_line, \"$.pos\") as pos, \n",
    "# JSON_EXTRACT(jsn_line, \"$.artist_name\") as artist_name,\n",
    "# JSON_EXTRACT(jsn_line, \"$.track_uri\") as track_uri,\n",
    "# JSON_EXTRACT(jsn_line, \"$.artist_uri\") as artist_uri,\n",
    "# JSON_EXTRACT(jsn_line, \"$.track_name\") as track_name,\n",
    "# JSON_EXTRACT(jsn_line, \"$.album_uri\") as album_uri,\n",
    "# JSON_EXTRACT(jsn_line, \"$.duration_ms\") as duration_ms,\n",
    "# JSON_EXTRACT(jsn_line, \"$.album_name\") as album_name,\n",
    "\n",
    "# from json_parsed CROSS JOIN UNNEST(json_parsed.json_data) as jsn_line\n",
    "# )"
   ]
  },
  {
   "cell_type": "markdown",
   "id": "467de159-4f4b-415b-8481-32105b9a6b1c",
   "metadata": {},
   "source": [
    "## Now enrich the playlist songs with the new features\n",
    "\n",
    "`hybrid-vertex.spotify_train_3.unique_track_features` # need code\n",
    "\n",
    "+\n",
    "\n",
    "`hybrid-vertex.spotify_train_3.unique_artist_features` # need code\n",
    "\n",
    "+\n",
    "\n",
    "`hybrid-vertex.spotify_mpd.playlists_nested`\n",
    "\n",
    "Trainv3-create-enriched-data\n",
    "Fill missing"
   ]
  },
  {
   "cell_type": "code",
   "execution_count": 175,
   "id": "6bae3e7a-6f8f-461e-ba61-a24361843def",
   "metadata": {},
   "outputs": [
    {
     "name": "stderr",
     "output_type": "stream",
     "text": [
      "Query complete after 0.00s: 100%|██████████| 37/37 [00:00<00:00, 18138.06query/s]                      \n"
     ]
    },
    {
     "data": {
      "text/html": [
       "<div>\n",
       "<style scoped>\n",
       "    .dataframe tbody tr th:only-of-type {\n",
       "        vertical-align: middle;\n",
       "    }\n",
       "\n",
       "    .dataframe tbody tr th {\n",
       "        vertical-align: top;\n",
       "    }\n",
       "\n",
       "    .dataframe thead th {\n",
       "        text-align: right;\n",
       "    }\n",
       "</style>\n",
       "<table border=\"1\" class=\"dataframe\">\n",
       "  <thead>\n",
       "    <tr style=\"text-align: right;\">\n",
       "      <th></th>\n",
       "    </tr>\n",
       "  </thead>\n",
       "  <tbody>\n",
       "  </tbody>\n",
       "</table>\n",
       "</div>"
      ],
      "text/plain": [
       "Empty DataFrame\n",
       "Columns: []\n",
       "Index: []"
      ]
     },
     "execution_count": 175,
     "metadata": {},
     "output_type": "execute_result"
    }
   ],
   "source": [
    "%%bigquery\n",
    "CREATE OR REPLACE TABLE\n",
    "  `hybrid-vertex.spotify_train_3.enriched_data` AS (\n",
    "    SELECT\n",
    "    a.* except(tracks),\n",
    "      ARRAY(\n",
    "    SELECT\n",
    "      AS STRUCT CAST(track.pos AS int64) AS pos_can,\n",
    "      case when track.artist_name = '' then 'NONE' else track.artist_name end AS artist_name_can,\n",
    "      case when track.track_uri = '' then 'NONE' else track.track_uri  end AS track_uri_can,\n",
    "      case when track.track_name = '' then 'NONE' else track.track_name  end AS track_name_can,\n",
    "      case when track.album_uri = '' then 'NONE' else track.album_uri  end AS album_uri_can,\n",
    "      case when track.artist_uri = '' then 'NONE' else track.artist_uri  end AS artist_uri_can,\n",
    "      CAST(track.duration_ms AS float64) / 1.0 AS duration_ms_can,\n",
    "      case when track.album_name = '' then 'NONE' else track.album_name end AS album_name_can,\n",
    "      CAST(IFNULL(tf.track_pop, 0.0) as float64) / 1.0 AS track_pop_can,\n",
    "      CAST(IFNULL(af.artist_pop, 0.0) as float64) / 1.0  AS artist_pop_can,\n",
    "      case when af.artist_genres[OFFSET(0)] = '' then ['NONE'] else af.artist_genres end AS artist_genres_can,\n",
    "      CAST(IFNULL(af.artist_followers, 0.0) as float64) / 1.0 AS artist_followers_can\n",
    "    FROM\n",
    "      UNNEST(tracks) as track\n",
    "    INNER JOIN\n",
    "      `hybrid-vertex.spotify_train_3.unique_track_features` AS tf --track features\n",
    "    ON\n",
    "      (track.track_uri = tf.track_uri)\n",
    "    INNER JOIN\n",
    "      `hybrid-vertex.spotify_train_3.unique_artist_features` AS af --artist features\n",
    "      ON\n",
    "      (track.artist_uri = af.artist_uri)\n",
    "      ) AS tracks\n",
    "  FROM \n",
    "  `hybrid-vertex.spotify_mpd.playlists_nested` as a)"
   ]
  },
  {
   "cell_type": "markdown",
   "id": "99200310-a64b-46dc-9d91-b6c99db83a77",
   "metadata": {},
   "source": [
    "## Cross join + get rid of after-the-fact pos data in playlist\n",
    "\n",
    "cross_join_songxplaylist_struct_query\n",
    "\n",
    "`hybrid-vertex.spotify_train_3.ordered_position_training`\n",
    "\n",
    "We create a data structure that creates unique song-playlist combos (every possible via cross-join). There is also a portion of pulling the last song in the playlist as the \"seed track\""
   ]
  },
  {
   "cell_type": "code",
   "execution_count": 176,
   "id": "0787c3fa-0972-4fcd-995c-dd5e8b7726f5",
   "metadata": {},
   "outputs": [
    {
     "name": "stderr",
     "output_type": "stream",
     "text": [
      "Query complete after 0.00s: 100%|██████████| 4/4 [00:00<00:00, 2018.43query/s]                        \n"
     ]
    },
    {
     "data": {
      "text/html": [
       "<div>\n",
       "<style scoped>\n",
       "    .dataframe tbody tr th:only-of-type {\n",
       "        vertical-align: middle;\n",
       "    }\n",
       "\n",
       "    .dataframe tbody tr th {\n",
       "        vertical-align: top;\n",
       "    }\n",
       "\n",
       "    .dataframe thead th {\n",
       "        text-align: right;\n",
       "    }\n",
       "</style>\n",
       "<table border=\"1\" class=\"dataframe\">\n",
       "  <thead>\n",
       "    <tr style=\"text-align: right;\">\n",
       "      <th></th>\n",
       "    </tr>\n",
       "  </thead>\n",
       "  <tbody>\n",
       "  </tbody>\n",
       "</table>\n",
       "</div>"
      ],
      "text/plain": [
       "Empty DataFrame\n",
       "Columns: []\n",
       "Index: []"
      ]
     },
     "execution_count": 176,
     "metadata": {},
     "output_type": "execute_result"
    }
   ],
   "source": [
    "%%bigquery\n",
    "CREATE OR REPLACE TABLE\n",
    "  `hybrid-vertex.spotify_train_3.ordered_position_training` AS (\n",
    "  WITH\n",
    "    -- get every combination of song and its parent playlist\n",
    "    unnest_cross AS(\n",
    "    SELECT\n",
    "      b.*,\n",
    "      CONCAT(b.pid,\"-\",track.pos_can) AS pid_pos_id,\n",
    "      CAST(track.pos_can AS int64) AS pos_can,\n",
    "      track.artist_name_can ,\n",
    "      track.track_uri_can ,\n",
    "      track.album_uri_can,\n",
    "      track.track_name_can ,\n",
    "      track.artist_uri_can ,\n",
    "      CAST(track.duration_ms_can AS float64) AS duration_ms_can,\n",
    "      track.album_name_can ,\n",
    "      track.track_pop_can ,\n",
    "      track.artist_pop_can,\n",
    "      track.artist_genres_can ,\n",
    "      track.artist_followers_can \n",
    "    FROM (\n",
    "      SELECT\n",
    "        * EXCEPT(duration_ms)\n",
    "      FROM\n",
    "        `hybrid-vertex.spotify_train_3.enriched_data`) AS b\n",
    "    CROSS JOIN\n",
    "      UNNEST(tracks) AS track)\n",
    "  SELECT\n",
    "    a.* EXCEPT(tracks,\n",
    "      num_tracks,\n",
    "      num_artists,\n",
    "      num_albums,\n",
    "      num_followers,\n",
    "      num_edits),\n",
    "    ARRAY(\n",
    "    SELECT\n",
    "      AS STRUCT CAST(track.pos_can AS int64) AS pos_pl,\n",
    "      track.artist_name_can AS artist_name_pl,\n",
    "      track.track_uri_can AS track_uri_pl,\n",
    "      track.track_name_can AS track_name_pl,\n",
    "      track.album_uri_can AS album_uri_pl,\n",
    "      track.artist_uri_can AS artist_uri_pl,\n",
    "      CAST(track.duration_ms_can AS float64) AS duration_ms_pl,\n",
    "      track.album_name_can AS album_name_pl,\n",
    "      track.track_pop_can AS track_pop_pl,\n",
    "      track.artist_pop_can AS artist_pop_pl,\n",
    "      track.artist_genres_can AS artist_genres_pl,\n",
    "      track.artist_followers_can AS artist_followers_pl,\n",
    "    FROM\n",
    "      UNNEST(tracks) AS track\n",
    "    WHERE\n",
    "      CAST(track.pos_can AS int64) < a.pos_can ORDER BY CAST(track.pos_can AS int64)) AS seed_playlist_tracks,\n",
    "    ----- seed track part\n",
    "    trx.pos_can AS pos_seed_track,\n",
    "    trx.artist_name_can AS artist_name_seed_track,\n",
    "    trx.artist_uri_can AS artist_uri_seed_track,\n",
    "    trx.track_name_can AS track_name_seed_track,\n",
    "    trx.track_uri_can AS track_uri_seed_track,\n",
    "    trx.album_name_can AS album_name_seed_track,\n",
    "    trx.album_uri_can AS album_uri_seed_track,\n",
    "    trx.duration_ms_can AS duration_seed_track,\n",
    "    trx.track_pop_can AS track_pop_seed_track,\n",
    "    trx.artist_pop_can AS artist_pop_seed_track,\n",
    "    trx.artist_genres_can as artist_genres_seed_track,\n",
    "    trx.artist_followers_can as artist_followers_seed_track\n",
    "  FROM\n",
    "    unnest_cross AS a -- with statement\n",
    "    ,\n",
    "    UNNEST(a.tracks) AS trx\n",
    "  WHERE\n",
    "    CAST(trx.pos_can AS int64) = a.pos_can-1);"
   ]
  },
  {
   "cell_type": "markdown",
   "id": "7521dda2-b698-437f-bf17-99b075b43280",
   "metadata": {},
   "source": [
    "## Update the playlist metadata with the new samples created above\n",
    "\n",
    "Trainv3-clean-track-features\n",
    "\n",
    "Get new metadata for the tracks now that there are updated track counts, durations, etc...\n",
    "\n",
    "`hybrid-vertex.spotify_train_3.train`\n"
   ]
  },
  {
   "cell_type": "code",
   "execution_count": 177,
   "id": "25d1f2a1-cd4f-41d6-aaf4-b2a5da9a8ebc",
   "metadata": {},
   "outputs": [
    {
     "name": "stdout",
     "output_type": "stream",
     "text": [
      "1.000000000001\n"
     ]
    }
   ],
   "source": [
    "from pprint import pprint\n",
    "EPSILON = 1e-12\n",
    "pprint(1+float(EPSILON))"
   ]
  },
  {
   "cell_type": "code",
   "execution_count": 184,
   "id": "8701e549-bbf8-4686-97fe-df49d74ca47c",
   "metadata": {},
   "outputs": [
    {
     "name": "stderr",
     "output_type": "stream",
     "text": [
      "Query complete after 0.00s: 100%|██████████| 33/33 [00:00<00:00, 15764.47query/s]                      \n"
     ]
    },
    {
     "data": {
      "text/html": [
       "<div>\n",
       "<style scoped>\n",
       "    .dataframe tbody tr th:only-of-type {\n",
       "        vertical-align: middle;\n",
       "    }\n",
       "\n",
       "    .dataframe tbody tr th {\n",
       "        vertical-align: top;\n",
       "    }\n",
       "\n",
       "    .dataframe thead th {\n",
       "        text-align: right;\n",
       "    }\n",
       "</style>\n",
       "<table border=\"1\" class=\"dataframe\">\n",
       "  <thead>\n",
       "    <tr style=\"text-align: right;\">\n",
       "      <th></th>\n",
       "    </tr>\n",
       "  </thead>\n",
       "  <tbody>\n",
       "  </tbody>\n",
       "</table>\n",
       "</div>"
      ],
      "text/plain": [
       "Empty DataFrame\n",
       "Columns: []\n",
       "Index: []"
      ]
     },
     "execution_count": 184,
     "metadata": {},
     "output_type": "execute_result"
    }
   ],
   "source": [
    "%%bigquery\n",
    "create or replace table `hybrid-vertex.spotify_train_3.train` as (\n",
    "WITH\n",
    "  playlist_features_clean AS (\n",
    "  SELECT\n",
    "    pid_pos_id,\n",
    "    SUM(trx.duration_ms_pl) / 1.0 AS duration_ms_seed_pl,\n",
    "    COUNT(1) / 1.0 AS n_songs_pl,\n",
    "    COUNT(DISTINCT trx.artist_name_pl) / 1.0 AS num_artists_pl,\n",
    "    COUNT(DISTINCT trx.album_uri_pl) /1.0 AS num_albums_pl,\n",
    "  FROM\n",
    "    `hybrid-vertex.spotify_train_3.ordered_position_training`,\n",
    "    UNNEST(seed_playlist_tracks) AS trx\n",
    "  GROUP BY\n",
    "    pid_pos_id)\n",
    "    \n",
    "SELECT\n",
    "  a.* except(artist_genres_can, artist_genres_seed_track, track_pop_can, artist_pop_can, artist_followers_can,\n",
    "            track_pop_seed_track, artist_pop_seed_track),\n",
    "  b.* except(pid_pos_id),\n",
    "  IFNULL(a.artist_genres_can[OFFSET(0)], \"NONE\") as artist_genres_can,\n",
    "  IFNULL(a.artist_genres_seed_track[OFFSET(0)], \"NONE\") as artist_genres_seed_track,\n",
    "  IFNULL(a.track_pop_can, 0.0) / 1.0 as  track_pop_can, \n",
    "  IFNULL(a.artist_pop_can, 0.0) / 1.0 as artist_pop_can,\n",
    "  IFNULL(a.artist_followers_can, 0.0) / 1.0 as artist_followers_can,\n",
    "  IFNULL(a.track_pop_seed_track, 0.0) / 1.0 as track_pop_seed_track,\n",
    "  IFNULL(a.artist_pop_seed_track, 0.0) / 1.0 as artist_pop_seed_track,\n",
    "  \n",
    "FROM\n",
    "  `hybrid-vertex.spotify_train_3.ordered_position_training` a\n",
    "INNER JOIN\n",
    "  playlist_features_clean b\n",
    "ON\n",
    "  a.pid_pos_id = b.pid_pos_id )"
   ]
  },
  {
   "cell_type": "markdown",
   "id": "fed1be08-1417-48c4-a43a-4955f7975428",
   "metadata": {},
   "source": [
    "## For TFRecords\n",
    "Get rid of structs by creating new table with arrays from playlist_seed\n"
   ]
  },
  {
   "cell_type": "code",
   "execution_count": 185,
   "id": "4fd23106-391c-4152-8810-54a8a4ceb0f0",
   "metadata": {},
   "outputs": [
    {
     "name": "stderr",
     "output_type": "stream",
     "text": [
      "Query complete after 0.00s: 100%|██████████| 3/3 [00:00<00:00, 1818.87query/s]                        \n"
     ]
    },
    {
     "data": {
      "text/html": [
       "<div>\n",
       "<style scoped>\n",
       "    .dataframe tbody tr th:only-of-type {\n",
       "        vertical-align: middle;\n",
       "    }\n",
       "\n",
       "    .dataframe tbody tr th {\n",
       "        vertical-align: top;\n",
       "    }\n",
       "\n",
       "    .dataframe thead th {\n",
       "        text-align: right;\n",
       "    }\n",
       "</style>\n",
       "<table border=\"1\" class=\"dataframe\">\n",
       "  <thead>\n",
       "    <tr style=\"text-align: right;\">\n",
       "      <th></th>\n",
       "    </tr>\n",
       "  </thead>\n",
       "  <tbody>\n",
       "  </tbody>\n",
       "</table>\n",
       "</div>"
      ],
      "text/plain": [
       "Empty DataFrame\n",
       "Columns: []\n",
       "Index: []"
      ]
     },
     "execution_count": 185,
     "metadata": {},
     "output_type": "execute_result"
    }
   ],
   "source": [
    "%%bigquery\n",
    "create or replace table `hybrid-vertex.spotify_train_3.train_flatten` as (\n",
    "SELECT a.* except(seed_playlist_tracks, description),\n",
    "    IFNULL(a.description, \"\") as description_pl,\n",
    "    ARRAY(select t.pos_pl from UNNEST(seed_playlist_tracks) t) as pos_pl,\n",
    "    ARRAY(select t.artist_name_pl from UNNEST(seed_playlist_tracks) t) as artist_name_pl,\n",
    "    ARRAY(select t.track_uri_pl from UNNEST(seed_playlist_tracks) t) as track_uri_pl,\n",
    "    ARRAY(select t.track_name_pl from UNNEST(seed_playlist_tracks) t) as track_name_pl,\n",
    "    ARRAY(select t.duration_ms_pl from UNNEST(seed_playlist_tracks) t) as duration_ms_songs_pl,\n",
    "    ARRAY(select t.album_name_pl from UNNEST(seed_playlist_tracks) t) as album_name_pl,\n",
    "    ARRAY(select cast(t.artist_pop_pl as FLOAT64) from UNNEST(seed_playlist_tracks) t) as artist_pop_pl,\n",
    "    ARRAY(select t.artist_followers_pl from UNNEST(seed_playlist_tracks) t) as artists_followers_pl,\n",
    "    ARRAY(select case when t.track_pop_pl is null then 0. else t.track_pop_pl end from UNNEST(seed_playlist_tracks) t) as track_pop_pl,\n",
    "    ARRAY(select t.artist_genres_pl[OFFSET(0)] from UNNEST(seed_playlist_tracks) t) as artist_genres_pl\n",
    "    from `hybrid-vertex.spotify_train_3.train` a\n",
    ")"
   ]
  },
  {
   "cell_type": "markdown",
   "id": "027faaf1-4c4b-4852-8168-99046e08bb15",
   "metadata": {},
   "source": [
    "## We will use this table to export jsonl in the next notebook\n",
    "\n",
    "Links on built in two tower and data [requriements](https://cloud.google.com/vertex-ai/docs/matching-engine/train-embeddings-two-tower#training_data)"
   ]
  },
  {
   "cell_type": "code",
   "execution_count": 186,
   "id": "3209c2c3-3014-45ac-bba8-75488caf8a14",
   "metadata": {},
   "outputs": [
    {
     "name": "stderr",
     "output_type": "stream",
     "text": [
      "Query complete after 0.00s: 100%|██████████| 3/3 [00:00<00:00, 1620.26query/s]                        \n"
     ]
    },
    {
     "data": {
      "text/html": [
       "<div>\n",
       "<style scoped>\n",
       "    .dataframe tbody tr th:only-of-type {\n",
       "        vertical-align: middle;\n",
       "    }\n",
       "\n",
       "    .dataframe tbody tr th {\n",
       "        vertical-align: top;\n",
       "    }\n",
       "\n",
       "    .dataframe thead th {\n",
       "        text-align: right;\n",
       "    }\n",
       "</style>\n",
       "<table border=\"1\" class=\"dataframe\">\n",
       "  <thead>\n",
       "    <tr style=\"text-align: right;\">\n",
       "      <th></th>\n",
       "    </tr>\n",
       "  </thead>\n",
       "  <tbody>\n",
       "  </tbody>\n",
       "</table>\n",
       "</div>"
      ],
      "text/plain": [
       "Empty DataFrame\n",
       "Columns: []\n",
       "Index: []"
      ]
     },
     "execution_count": 186,
     "metadata": {},
     "output_type": "execute_result"
    }
   ],
   "source": [
    "%%bigquery\n",
    "CREATE OR REPLACE TABLE\n",
    "  `hybrid-vertex.spotify_train_3.train_json_export_table` AS (\n",
    "  SELECT\n",
    "    STRUCT(\n",
    "        ARRAY(select artist_name_can) as artist_name_can,\n",
    "        ARRAY(select track_uri_can) as track_uri_can,\n",
    "        # album_uri_can,\n",
    "        ARRAY(select track_name_can) as track_name_can,\n",
    "        # artist_uri_can,\n",
    "        ARRAY(select duration_ms_can) as duration_ms_can,\n",
    "        ARRAY(select album_name_can) as album_name_can,\n",
    "        ARRAY(select track_pop_can) as track_pop_can,\n",
    "        ARRAY(select artist_pop_can) as artist_pop_can,\n",
    "        ARRAY(select artist_followers_can) as artist_followers_can,\n",
    "        ARRAY(select artist_genres_can) as artist_genres_can) AS candidate,\n",
    "    STRUCT(\n",
    "        # ARRAY(select pid_pos_id) as id_pl,\n",
    "        ARRAY(select name) as name,\n",
    "        ARRAY(select collaborative) as collaborative,\n",
    "        ARRAY(select artist_name_seed_track) as artist_name_seed_track,\n",
    "        # artist_uri_seed_track,\n",
    "        ARRAY(select track_name_seed_track) as track_name_seed_track,\n",
    "        # track_uri_seed_track,\n",
    "        ARRAY(select album_name_seed_track) as album_name_seed_track,\n",
    "        # album_uri_seed_track,\n",
    "        ARRAY(select duration_seed_track) as duration_seed_track,\n",
    "        ARRAY(select track_pop_seed_track) as track_pop_seed_track,\n",
    "        ARRAY(select artist_pop_seed_track) as artist_pop_seed_track,\n",
    "        ARRAY(select artist_followers_seed_track) as artist_followers_seed_track,\n",
    "        ARRAY(select duration_ms_seed_pl) as duration_ms_seed_pl,\n",
    "        ARRAY(select n_songs_pl) as n_songs_pl,\n",
    "        ARRAY(select num_artists_pl) as num_artists_pl,\n",
    "        ARRAY(select num_albums_pl) as num_albums_pl,\n",
    "        ARRAY(select artist_genres_seed_track) as artist_genres_seed_track,\n",
    "        ARRAY(select case when description_pl = '' then \"NONE\" else description_pl end) as description_pl,\n",
    "        artist_name_pl,\n",
    "        # track_uri_pl,\n",
    "        track_name_pl,\n",
    "        duration_ms_songs_pl,\n",
    "        album_name_pl,\n",
    "        artist_pop_pl as artist_pop_pl,\n",
    "        artists_followers_pl as artists_followers_pl,\n",
    "        track_pop_pl,\n",
    "        artist_genres_pl\n",
    "        ) AS query\n",
    "  FROM\n",
    "    `hybrid-vertex.spotify_train_3.train_flatten`)"
   ]
  },
  {
   "cell_type": "markdown",
   "id": "31a6810b-b0b9-4c28-adff-71f9303422ae",
   "metadata": {
    "tags": []
   },
   "source": [
    "## create a smaller table for intital training"
   ]
  },
  {
   "cell_type": "code",
   "execution_count": 187,
   "id": "08028e1d-d310-4000-b01c-a07f7a0b5e8c",
   "metadata": {},
   "outputs": [
    {
     "name": "stderr",
     "output_type": "stream",
     "text": [
      "Query complete after 0.00s: 100%|██████████| 2/2 [00:00<00:00, 1013.85query/s]                        \n"
     ]
    },
    {
     "data": {
      "text/html": [
       "<div>\n",
       "<style scoped>\n",
       "    .dataframe tbody tr th:only-of-type {\n",
       "        vertical-align: middle;\n",
       "    }\n",
       "\n",
       "    .dataframe tbody tr th {\n",
       "        vertical-align: top;\n",
       "    }\n",
       "\n",
       "    .dataframe thead th {\n",
       "        text-align: right;\n",
       "    }\n",
       "</style>\n",
       "<table border=\"1\" class=\"dataframe\">\n",
       "  <thead>\n",
       "    <tr style=\"text-align: right;\">\n",
       "      <th></th>\n",
       "    </tr>\n",
       "  </thead>\n",
       "  <tbody>\n",
       "  </tbody>\n",
       "</table>\n",
       "</div>"
      ],
      "text/plain": [
       "Empty DataFrame\n",
       "Columns: []\n",
       "Index: []"
      ]
     },
     "execution_count": 187,
     "metadata": {},
     "output_type": "execute_result"
    }
   ],
   "source": [
    "%%bigquery\n",
    "CREATE OR REPLACE TABLE\n",
    "  `hybrid-vertex.spotify_train_3.train_json_export_table_small` AS (\n",
    "  SELECT\n",
    "    STRUCT(\n",
    "        ARRAY(select artist_name_can) as artist_name_can,\n",
    "        ARRAY(select track_uri_can) as track_uri_can,\n",
    "        # album_uri_can,\n",
    "        ARRAY(select track_name_can) as track_name_can,\n",
    "        # artist_uri_can,\n",
    "        ARRAY(select duration_ms_can) as duration_ms_can,\n",
    "        ARRAY(select album_name_can) as album_name_can,\n",
    "        ARRAY(select track_pop_can) as track_pop_can,\n",
    "        ARRAY(select artist_pop_can) as artist_pop_can,\n",
    "        ARRAY(select artist_followers_can) as artist_followers_can,\n",
    "        ARRAY(select artist_genres_can) as artist_genres_can) AS candidate,\n",
    "    STRUCT(\n",
    "        # ARRAY(select pid_pos_id) as id_pl,\n",
    "        ARRAY(select name) as name,\n",
    "        ARRAY(select collaborative) as collaborative,\n",
    "        ARRAY(select artist_name_seed_track) as artist_name_seed_track,\n",
    "        # artist_uri_seed_track,\n",
    "        ARRAY(select track_name_seed_track) as track_name_seed_track,\n",
    "        # track_uri_seed_track,\n",
    "        ARRAY(select album_name_seed_track) as album_name_seed_track,\n",
    "        # album_uri_seed_track,\n",
    "        ARRAY(select duration_seed_track) as duration_seed_track,\n",
    "        ARRAY(select track_pop_seed_track) as track_pop_seed_track,\n",
    "        ARRAY(select artist_pop_seed_track) as artist_pop_seed_track,\n",
    "        ARRAY(select artist_followers_seed_track) as artist_followers_seed_track,\n",
    "        ARRAY(select duration_ms_seed_pl) as duration_ms_seed_pl,\n",
    "        ARRAY(select n_songs_pl) as n_songs_pl,\n",
    "        ARRAY(select num_artists_pl) as num_artists_pl,\n",
    "        ARRAY(select num_albums_pl) as num_albums_pl,\n",
    "        ARRAY(select artist_genres_seed_track) as artist_genres_seed_track,\n",
    "        ARRAY(select case when description_pl = '' then \"NONE\" else description_pl end) as description_pl,\n",
    "        artist_name_pl,\n",
    "        # track_uri_pl,\n",
    "        track_name_pl,\n",
    "        duration_ms_songs_pl,\n",
    "        album_name_pl,\n",
    "        artist_pop_pl as artist_pop_pl,\n",
    "        artists_followers_pl as artists_followers_pl,\n",
    "        track_pop_pl,\n",
    "        artist_genres_pl\n",
    "        ) AS query\n",
    "  FROM\n",
    "    `hybrid-vertex.spotify_train_3.train_flatten` TABLESAMPLE SYSTEM (25 PERCENT))"
   ]
  },
  {
   "cell_type": "markdown",
   "id": "7ebd6acf-ec0e-42e4-a534-72384706aa43",
   "metadata": {},
   "source": [
    "## Add unique song candidates for metric calcs later"
   ]
  },
  {
   "cell_type": "code",
   "execution_count": null,
   "id": "f6450664-cdfa-481a-8031-146ebd164cf5",
   "metadata": {},
   "outputs": [],
   "source": [
    "%%bigquery\n",
    "CREATE OR REPLACE TABLE\n",
    "  `hybrid-vertex.spotify_train_3.candidates_json` AS (\n",
    "  select STRUCT(\n",
    "        ARRAY(select artist_name_can) as artist_name_can,\n",
    "        ARRAY(select track_uri_can) as track_uri_can,\n",
    "        # album_uri_can,\n",
    "        ARRAY(select track_name_can) as track_name_can,\n",
    "        # artist_uri_can,\n",
    "        ARRAY(select duration_ms_can) as duration_ms_can,\n",
    "        ARRAY(select album_name_can) as album_name_can,\n",
    "        ARRAY(select track_pop_can) as track_pop_can,\n",
    "        ARRAY(select artist_pop_can) as artist_pop_can,\n",
    "        ARRAY(select artist_followers_can) as artist_followers_can,\n",
    "        ARRAY(select artist_genres_can) as artist_genres_can) as candidate\n",
    "      from(\n",
    "  SELECT DISTINCT\n",
    "        artist_name_can,\n",
    "        track_uri_can,\n",
    "        # album_uri_can,\n",
    "        track_name_can,\n",
    "        # artist_uri_can,\n",
    "        duration_ms_can,\n",
    "        album_name_can,\n",
    "        track_pop_can,\n",
    "        artist_pop_can,\n",
    "        artist_followers_can,\n",
    "        artist_genres_can,\n",
    "FROM\n",
    "    `hybrid-vertex.spotify_train_3.train_flatten`))"
   ]
  },
  {
   "cell_type": "code",
   "execution_count": null,
   "id": "8ff3c3c3-bd3f-4b82-a9d4-aeef65811e53",
   "metadata": {},
   "outputs": [],
   "source": []
  }
 ],
 "metadata": {
  "environment": {
   "kernel": "python3",
   "name": "tf2-gpu.2-9.m93",
   "type": "gcloud",
   "uri": "gcr.io/deeplearning-platform-release/tf2-gpu.2-9:m93"
  },
  "kernelspec": {
   "display_name": "Python 3",
   "language": "python",
   "name": "python3"
  },
  "language_info": {
   "codemirror_mode": {
    "name": "ipython",
    "version": 3
   },
   "file_extension": ".py",
   "mimetype": "text/x-python",
   "name": "python",
   "nbconvert_exporter": "python",
   "pygments_lexer": "ipython3",
   "version": "3.7.12"
  }
 },
 "nbformat": 4,
 "nbformat_minor": 5
}
