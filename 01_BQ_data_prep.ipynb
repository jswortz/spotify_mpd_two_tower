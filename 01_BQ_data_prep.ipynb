{
 "cells": [
  {
   "cell_type": "markdown",
   "id": "377024b9-dc5c-4636-b270-3d8227a6ab9d",
   "metadata": {},
   "source": [
    "# Data prep\n",
    "\n",
    "## In this notebook we will load the songs from the zip file, and perform transoformations to prepare the data for two-tower training\n",
    "Steps\n",
    "1. Extract from the zip file\n",
    "2. Upload to BQ\n",
    "3. Enrich features for the playlist songs\n",
    "4. Cross-join songs with features (excpected rows = n_songs x n_playlists)\n",
    "5. Remove after-the-fact (later position songs) from the newly generated samples\n",
    "6. Create a clean train table, and flatten structs or use arrays"
   ]
  },
  {
   "cell_type": "markdown",
   "id": "26206aa0-8e2d-433e-a63f-6180c7fc4a41",
   "metadata": {},
   "source": [
    "#### Unzip the file and uplaod to BQ"
   ]
  },
  {
   "cell_type": "code",
   "execution_count": null,
   "id": "4a46fc7b-c232-418a-9d6d-159f519366e3",
   "metadata": {},
   "outputs": [],
   "source": [
    "# !gsutil cp gs://matching-engine-content/spotify-million-playlist/spotify_million_playlist_dataset.zip .\n",
    "# !unzip spotify_million_playlist_dataset.zip"
   ]
  },
  {
   "cell_type": "code",
   "execution_count": null,
   "id": "8b3289ba-c301-4b1f-8bf1-f8b887d5ef1b",
   "metadata": {},
   "outputs": [],
   "source": [
    "# import os\n",
    "# import json\n",
    "\n",
    "# data_files = os.listdir('data')\n",
    "# # PROJECT_ID = 'jtotten-project'\n",
    "# bq_dataset = 'mdp_eda'\n",
    "\n",
    "# for filename in data_files:\n",
    "#   with open(f'data/{filename}') as f:\n",
    "#     print(f)\n",
    "#     json_dict = json.load(f)\n",
    "#     df = pd.DataFrame(json_dict['playlists'])\n",
    "#     df.to_gbq(\n",
    "#     destination_table=f'{bq_dataset}.playlists', \n",
    "#     project_id=f'{PROJECT_ID}', # TODO: param\n",
    "#     location='us-central1', \n",
    "#     progress_bar=True, \n",
    "#     reauth=True, \n",
    "#     if_exists='append'\n",
    "#     ) "
   ]
  },
  {
   "cell_type": "markdown",
   "id": "25081d27-efd2-4729-8fcc-a65b9419c876",
   "metadata": {},
   "source": [
    "### Need to find playlist_nested lineage\n",
    "\n",
    "Here's the ddl from the schema - could be created from playlists table below\n",
    "\n",
    "```\n",
    "'CREATE TABLE `hybrid-vertex.spotify_mpd.playlists_nested`\\n(\\n  name STRING,\\n  collaborative STRING,\\n  pid INT64,\\n  modified_at INT64,\\n  num_tracks INT64,\\n  num_albums INT64,\\n  num_followers INT64,\\n  num_edits INT64,\\n  duration_ms INT64,\\n  num_artists INT64,\\n  description STRING,\\n  tracks ARRAY<STRUCT<pos STRING, artist_name STRING, track_uri STRING, artist_uri STRING, track_name STRING, album_uri STRING, duration_ms STRING, album_name STRING>>,\\n  row_number INT64\\n);'\n",
    "```"
   ]
  },
  {
   "cell_type": "code",
   "execution_count": null,
   "id": "a1208ed1-fee9-47f1-916e-d11bd0a68ea5",
   "metadata": {},
   "outputs": [],
   "source": [
    "# %%bigquery\n",
    "# create or replace table jtotten-project.spotify_mpd.playlists as (\n",
    "# with json_parsed as (SELECT *, JSON_EXTRACT_ARRAY(tracks) as json_data FROM `jtotten-project.mdp_eda.playlists` )\n",
    "\n",
    "# select json_parsed.* except(tracks, duration_ms, json_data),\n",
    "# JSON_EXTRACT(jsn_line, \"$.pos\") as pos, \n",
    "# JSON_EXTRACT(jsn_line, \"$.artist_name\") as artist_name,\n",
    "# JSON_EXTRACT(jsn_line, \"$.track_uri\") as track_uri,\n",
    "# JSON_EXTRACT(jsn_line, \"$.artist_uri\") as artist_uri,\n",
    "# JSON_EXTRACT(jsn_line, \"$.track_name\") as track_name,\n",
    "# JSON_EXTRACT(jsn_line, \"$.album_uri\") as album_uri,\n",
    "# JSON_EXTRACT(jsn_line, \"$.duration_ms\") as duration_ms,\n",
    "# JSON_EXTRACT(jsn_line, \"$.album_name\") as album_name,\n",
    "\n",
    "# from json_parsed CROSS JOIN UNNEST(json_parsed.json_data) as jsn_line\n",
    "# )"
   ]
  },
  {
   "cell_type": "markdown",
   "id": "467de159-4f4b-415b-8481-32105b9a6b1c",
   "metadata": {},
   "source": [
    "## Now enrich the playlist songs with the new features\n",
    "\n",
    "`hybrid-vertex.spotify_train_3.unique_track_features` # need code\n",
    "\n",
    "+\n",
    "\n",
    "`hybrid-vertex.spotify_train_3.unique_artist_features` # need code\n",
    "\n",
    "+\n",
    "\n",
    "`hybrid-vertex.spotify_mpd.playlists_nested`\n",
    "\n",
    "Trainv3-create-enriched-data\n"
   ]
  },
  {
   "cell_type": "code",
   "execution_count": 5,
   "id": "6bae3e7a-6f8f-461e-ba61-a24361843def",
   "metadata": {},
   "outputs": [
    {
     "name": "stderr",
     "output_type": "stream",
     "text": [
      "Query complete after 0.00s: 100%|██████████| 38/38 [00:00<00:00, 21353.64query/s]                      \n"
     ]
    },
    {
     "data": {
      "text/html": [
       "<div>\n",
       "<style scoped>\n",
       "    .dataframe tbody tr th:only-of-type {\n",
       "        vertical-align: middle;\n",
       "    }\n",
       "\n",
       "    .dataframe tbody tr th {\n",
       "        vertical-align: top;\n",
       "    }\n",
       "\n",
       "    .dataframe thead th {\n",
       "        text-align: right;\n",
       "    }\n",
       "</style>\n",
       "<table border=\"1\" class=\"dataframe\">\n",
       "  <thead>\n",
       "    <tr style=\"text-align: right;\">\n",
       "      <th></th>\n",
       "    </tr>\n",
       "  </thead>\n",
       "  <tbody>\n",
       "  </tbody>\n",
       "</table>\n",
       "</div>"
      ],
      "text/plain": [
       "Empty DataFrame\n",
       "Columns: []\n",
       "Index: []"
      ]
     },
     "execution_count": 5,
     "metadata": {},
     "output_type": "execute_result"
    }
   ],
   "source": [
    "%%bigquery\n",
    "CREATE OR REPLACE TABLE\n",
    "  `hybrid-vertex.spotify_train_3.enriched_data` AS (\n",
    "    SELECT\n",
    "    a.* except(tracks),\n",
    "      ARRAY(\n",
    "    SELECT\n",
    "      AS STRUCT CAST(track.pos AS int64) AS pos_can,\n",
    "      track.artist_name AS artist_name_can,\n",
    "      track.track_uri AS track_uri_can,\n",
    "      track.track_name AS track_name_can,\n",
    "      track.album_uri AS album_uri_can,\n",
    "      track.artist_uri AS artist_uri_can,\n",
    "      CAST(track.duration_ms AS float64) AS duration_ms_can,\n",
    "      track.album_name AS album_name_can,\n",
    "      tf.track_pop AS track_pop_can,\n",
    "      af.artist_pop AS artist_pop_can,\n",
    "      af.artist_genres AS artist_genres_can,\n",
    "      af.artist_followers AS artist_followers_can\n",
    "    FROM\n",
    "      UNNEST(tracks) as track\n",
    "    INNER JOIN\n",
    "      `hybrid-vertex.spotify_train_3.unique_track_features` AS tf --track features\n",
    "    ON\n",
    "      (track.track_uri = tf.track_uri)\n",
    "    INNER JOIN\n",
    "      `hybrid-vertex.spotify_train_3.unique_artist_features` AS af --artist features\n",
    "      ON\n",
    "      (track.artist_uri = af.artist_uri)\n",
    "      ) AS tracks\n",
    "  FROM \n",
    "  `hybrid-vertex.spotify_mpd.playlists_nested` as a)"
   ]
  },
  {
   "cell_type": "markdown",
   "id": "99200310-a64b-46dc-9d91-b6c99db83a77",
   "metadata": {},
   "source": [
    "## Cross join + get rid of after-the-fact pos data in playlist\n",
    "\n",
    "cross_join_songxplaylist_struct_query\n",
    "\n",
    "`hybrid-vertex.spotify_train_3.ordered_position_training`\n",
    "\n"
   ]
  },
  {
   "cell_type": "code",
   "execution_count": null,
   "id": "8ae3e2b3-8363-4903-a738-dfbb02883906",
   "metadata": {},
   "outputs": [],
   "source": [
    "pos_seed\n",
    "artist_name_can\n",
    "track_uri_can\n",
    "track_name_can\n",
    "album_uri_can\n",
    "artist_uri_can\n",
    "duration_ms_can\n",
    "album_name_can\n",
    "track_pop_can\n",
    "artist_pop_can\n",
    "artist_genres_can\n",
    "artist_followers_can"
   ]
  },
  {
   "cell_type": "code",
   "execution_count": 37,
   "id": "0787c3fa-0972-4fcd-995c-dd5e8b7726f5",
   "metadata": {},
   "outputs": [
    {
     "name": "stderr",
     "output_type": "stream",
     "text": [
      "Query complete after 0.00s: 100%|██████████| 4/4 [00:00<00:00, 1804.00query/s]                        \n"
     ]
    },
    {
     "data": {
      "text/html": [
       "<div>\n",
       "<style scoped>\n",
       "    .dataframe tbody tr th:only-of-type {\n",
       "        vertical-align: middle;\n",
       "    }\n",
       "\n",
       "    .dataframe tbody tr th {\n",
       "        vertical-align: top;\n",
       "    }\n",
       "\n",
       "    .dataframe thead th {\n",
       "        text-align: right;\n",
       "    }\n",
       "</style>\n",
       "<table border=\"1\" class=\"dataframe\">\n",
       "  <thead>\n",
       "    <tr style=\"text-align: right;\">\n",
       "      <th></th>\n",
       "    </tr>\n",
       "  </thead>\n",
       "  <tbody>\n",
       "  </tbody>\n",
       "</table>\n",
       "</div>"
      ],
      "text/plain": [
       "Empty DataFrame\n",
       "Columns: []\n",
       "Index: []"
      ]
     },
     "execution_count": 37,
     "metadata": {},
     "output_type": "execute_result"
    }
   ],
   "source": [
    "%%bigquery\n",
    "CREATE OR REPLACE TABLE\n",
    "  `hybrid-vertex.spotify_train_3.ordered_position_training` AS (\n",
    "  WITH\n",
    "    -- get every combination of song and its parent playlist\n",
    "    unnest_cross AS(\n",
    "    SELECT\n",
    "      b.*,\n",
    "      CONCAT(b.pid,\"-\",track.pos_can) AS pid_pos_id,\n",
    "      CAST(track.pos_can AS int64) AS pos_can,\n",
    "      track.artist_name_can ,\n",
    "      track.track_uri_can ,\n",
    "      track.album_uri_can,\n",
    "      track.track_name_can ,\n",
    "      track.artist_uri_can ,\n",
    "      CAST(track.duration_ms_can AS float64) AS duration_ms_can,\n",
    "      track.album_name_can ,\n",
    "      track.track_pop_can ,\n",
    "      track.artist_pop_can,\n",
    "      track.artist_genres_can ,\n",
    "      track.artist_followers_can \n",
    "    FROM (\n",
    "      SELECT\n",
    "        * EXCEPT(duration_ms),\n",
    "        duration_ms AS duration_ms_playlist\n",
    "      FROM\n",
    "        `hybrid-vertex.spotify_train_3.enriched_data`) AS b\n",
    "    CROSS JOIN\n",
    "      UNNEST(tracks) AS track)\n",
    "  SELECT\n",
    "    a.* EXCEPT(tracks,\n",
    "      num_tracks,\n",
    "      num_artists,\n",
    "      num_albums,\n",
    "      num_followers,\n",
    "      num_edits),\n",
    "    ARRAY(\n",
    "    SELECT\n",
    "      AS STRUCT CAST(track.pos_can AS int64) AS pos_pl,\n",
    "      track.artist_name_can AS artist_name_pl,\n",
    "      track.track_uri_can AS track_uri_pl,\n",
    "      track.track_name_can AS track_name_pl,\n",
    "      track.album_uri_can AS album_uri_pl,\n",
    "      track.artist_uri_can AS artist_uri_pl,\n",
    "      CAST(track.duration_ms_can AS float64) AS duration_ms_pl,\n",
    "      track.album_name_can AS album_name_pl,\n",
    "      track.track_pop_can AS track_pop_pl,\n",
    "      track.artist_pop_can AS artist_pop_pl,\n",
    "      track.artist_genres_can AS artist_genres_pl,\n",
    "      track.artist_followers_can AS artist_followers_pl,\n",
    "      # track_pop_can AS track_pop_pl,\n",
    "      # artist_pop_can AS artist_pop_pl,\n",
    "      # artist_genres_can AS artist_genres_pl,\n",
    "      # artist_followers_can AS artist_followers_pl\n",
    "    FROM\n",
    "      UNNEST(tracks) AS track\n",
    "    WHERE\n",
    "      CAST(track.pos_can AS int64) < a.pos_can ORDER BY CAST(track.pos_can AS int64)) AS seed_playlist_tracks,\n",
    "    ----- seed track part\n",
    "    trx.pos_can AS pos_seed_track,\n",
    "    trx.artist_name_can AS artist_name_seed_track,\n",
    "    trx.artist_uri_can AS artist_uri_seed_track,\n",
    "    trx.track_name_can AS track_name_seed_track,\n",
    "    trx.track_uri_can AS track_uri_seed_track,\n",
    "    trx.album_name_can AS album_name_seed_track,\n",
    "    trx.album_uri_can AS album_uri_seed_track,\n",
    "    trx.duration_ms_can AS duration_seed_track,\n",
    "    trx.track_pop_can AS track_pop_seed_track,\n",
    "    trx.artist_pop_can AS artist_pop_seed_track,\n",
    "    trx.artist_genres_can as artist_genres_seed_track,\n",
    "    trx.artist_followers_can as artist_followers_seed_track\n",
    "  FROM\n",
    "    unnest_cross AS a -- with statement\n",
    "    ,\n",
    "    UNNEST(a.tracks) AS trx\n",
    "  WHERE\n",
    "    CAST(trx.pos_can AS int64) = a.pos_can-1);\n",
    "  -- LIMIT\n",
    "  -- 100;"
   ]
  },
  {
   "cell_type": "markdown",
   "id": "7521dda2-b698-437f-bf17-99b075b43280",
   "metadata": {},
   "source": [
    "## Update the playlist metadata with the new samples created above\n",
    "\n",
    "Trainv3-clean-track-features\n",
    "\n",
    "Get new metadata for the tracks now that there are updated track counts, durations, etc...\n",
    "\n",
    "`hybrid-vertex.spotify_train_3.train`\n"
   ]
  },
  {
   "cell_type": "code",
   "execution_count": 38,
   "id": "8701e549-bbf8-4686-97fe-df49d74ca47c",
   "metadata": {},
   "outputs": [
    {
     "name": "stderr",
     "output_type": "stream",
     "text": [
      "Query complete after 0.00s: 100%|██████████| 34/34 [00:00<00:00, 14828.57query/s]                      \n"
     ]
    },
    {
     "data": {
      "text/html": [
       "<div>\n",
       "<style scoped>\n",
       "    .dataframe tbody tr th:only-of-type {\n",
       "        vertical-align: middle;\n",
       "    }\n",
       "\n",
       "    .dataframe tbody tr th {\n",
       "        vertical-align: top;\n",
       "    }\n",
       "\n",
       "    .dataframe thead th {\n",
       "        text-align: right;\n",
       "    }\n",
       "</style>\n",
       "<table border=\"1\" class=\"dataframe\">\n",
       "  <thead>\n",
       "    <tr style=\"text-align: right;\">\n",
       "      <th></th>\n",
       "    </tr>\n",
       "  </thead>\n",
       "  <tbody>\n",
       "  </tbody>\n",
       "</table>\n",
       "</div>"
      ],
      "text/plain": [
       "Empty DataFrame\n",
       "Columns: []\n",
       "Index: []"
      ]
     },
     "execution_count": 38,
     "metadata": {},
     "output_type": "execute_result"
    }
   ],
   "source": [
    "%%bigquery\n",
    "create or replace table `hybrid-vertex.spotify_train_3.train` as (\n",
    "WITH\n",
    "  playlist_features_clean AS (\n",
    "  SELECT\n",
    "    pid_pos_id,\n",
    "    SUM(trx.duration_ms_pl) AS duration_ms_seed_pl,\n",
    "    COUNT(1) AS n_songs_pl,\n",
    "    COUNT(DISTINCT trx.artist_name_pl) AS num_artists_pl,\n",
    "    COUNT(DISTINCT trx.album_uri_pl) AS num_albums_pl,\n",
    "  FROM\n",
    "    `hybrid-vertex.spotify_train_3.ordered_position_training`,\n",
    "    UNNEST(seed_playlist_tracks) AS trx\n",
    "  GROUP BY\n",
    "    pid_pos_id)\n",
    "SELECT\n",
    "  a.* except(artist_genres_can, artist_genres_seed_track),\n",
    "  b.* except(pid_pos_id),\n",
    "  a.artist_genres_can[OFFSET(0)] as artist_genres_can,\n",
    "  a.artist_genres_seed_track[OFFSET(0)] as artist_genres_seed_track,\n",
    "  # unnested.artist_genres_pl[OFFSET(0)] as artist_genres_pl\n",
    "FROM\n",
    "  `hybrid-vertex.spotify_train_3.ordered_position_training` a\n",
    "INNER JOIN\n",
    "  playlist_features_clean b\n",
    "ON\n",
    "  a.pid_pos_id = b.pid_pos_id )#, UNNEST(seed_playlist_tracks) as unnested)"
   ]
  },
  {
   "cell_type": "markdown",
   "id": "fed1be08-1417-48c4-a43a-4955f7975428",
   "metadata": {},
   "source": [
    "## get rid of structs by createing new table with arrays from playlist_seed\n"
   ]
  },
  {
   "cell_type": "code",
   "execution_count": 39,
   "id": "4fd23106-391c-4152-8810-54a8a4ceb0f0",
   "metadata": {},
   "outputs": [
    {
     "name": "stderr",
     "output_type": "stream",
     "text": [
      "Query complete after 0.00s: 100%|██████████| 3/3 [00:00<00:00, 1637.33query/s]                        \n"
     ]
    },
    {
     "data": {
      "text/html": [
       "<div>\n",
       "<style scoped>\n",
       "    .dataframe tbody tr th:only-of-type {\n",
       "        vertical-align: middle;\n",
       "    }\n",
       "\n",
       "    .dataframe tbody tr th {\n",
       "        vertical-align: top;\n",
       "    }\n",
       "\n",
       "    .dataframe thead th {\n",
       "        text-align: right;\n",
       "    }\n",
       "</style>\n",
       "<table border=\"1\" class=\"dataframe\">\n",
       "  <thead>\n",
       "    <tr style=\"text-align: right;\">\n",
       "      <th></th>\n",
       "    </tr>\n",
       "  </thead>\n",
       "  <tbody>\n",
       "  </tbody>\n",
       "</table>\n",
       "</div>"
      ],
      "text/plain": [
       "Empty DataFrame\n",
       "Columns: []\n",
       "Index: []"
      ]
     },
     "execution_count": 39,
     "metadata": {},
     "output_type": "execute_result"
    }
   ],
   "source": [
    "%%bigquery\n",
    "create or replace table `hybrid-vertex.spotify_train_3.train_flatten` as (\n",
    "SELECT a.* except(seed_playlist_tracks, description),\n",
    "    IFNULL(a.description, \"\") as description_pl,\n",
    "    ARRAY(select t.pos_pl from UNNEST(seed_playlist_tracks) t) as pos_pl,\n",
    "    ARRAY(select t.artist_name_pl from UNNEST(seed_playlist_tracks) t) as artist_name_pl,\n",
    "    ARRAY(select t.track_uri_pl from UNNEST(seed_playlist_tracks) t) as track_uri_pl,\n",
    "    ARRAY(select t.track_name_pl from UNNEST(seed_playlist_tracks) t) as track_name_pl,\n",
    "    ARRAY(select t.duration_ms_pl from UNNEST(seed_playlist_tracks) t) as duration_ms_songs_pl,\n",
    "    ARRAY(select t.album_name_pl from UNNEST(seed_playlist_tracks) t) as album_name_pl,\n",
    "    ARRAY(select t.artist_pop_pl from UNNEST(seed_playlist_tracks) t) as artist_pop_pl,\n",
    "    ARRAY(select t.artist_followers_pl from UNNEST(seed_playlist_tracks) t) as artists_followers_pl,\n",
    "    ARRAY(select case when t.track_pop_pl is null then 0 else t.track_pop_pl end from UNNEST(seed_playlist_tracks) t) as track_pop_pl,\n",
    "    ARRAY(select t.artist_genres_pl[OFFSET(0)] from UNNEST(seed_playlist_tracks) t) as artist_genres_pl\n",
    "    from `hybrid-vertex.spotify_train_3.train` a\n",
    ")"
   ]
  },
  {
   "cell_type": "markdown",
   "id": "027faaf1-4c4b-4852-8168-99046e08bb15",
   "metadata": {},
   "source": [
    "## We will use this table to export jsonl in the next notebook"
   ]
  },
  {
   "cell_type": "code",
   "execution_count": null,
   "id": "e5a4b2e6-9bfb-4c56-8819-7fc01a60c9b7",
   "metadata": {},
   "outputs": [],
   "source": [
    "#tryin this bc  (1) Invalid argument: no value for /query/duration_ms_playlist"
   ]
  },
  {
   "cell_type": "code",
   "execution_count": 53,
   "id": "3209c2c3-3014-45ac-bba8-75488caf8a14",
   "metadata": {},
   "outputs": [
    {
     "name": "stderr",
     "output_type": "stream",
     "text": [
      "Query complete after 0.00s: 100%|██████████| 3/3 [00:00<00:00, 1543.35query/s]                        \n"
     ]
    },
    {
     "data": {
      "text/html": [
       "<div>\n",
       "<style scoped>\n",
       "    .dataframe tbody tr th:only-of-type {\n",
       "        vertical-align: middle;\n",
       "    }\n",
       "\n",
       "    .dataframe tbody tr th {\n",
       "        vertical-align: top;\n",
       "    }\n",
       "\n",
       "    .dataframe thead th {\n",
       "        text-align: right;\n",
       "    }\n",
       "</style>\n",
       "<table border=\"1\" class=\"dataframe\">\n",
       "  <thead>\n",
       "    <tr style=\"text-align: right;\">\n",
       "      <th></th>\n",
       "    </tr>\n",
       "  </thead>\n",
       "  <tbody>\n",
       "  </tbody>\n",
       "</table>\n",
       "</div>"
      ],
      "text/plain": [
       "Empty DataFrame\n",
       "Columns: []\n",
       "Index: []"
      ]
     },
     "execution_count": 53,
     "metadata": {},
     "output_type": "execute_result"
    }
   ],
   "source": [
    "%%bigquery\n",
    "CREATE OR REPLACE TABLE\n",
    "  `hybrid-vertex.spotify_train_3.train_json_export_table` AS (\n",
    "  SELECT\n",
    "    STRUCT(\n",
    "        ARRAY(select artist_name_can) as artist_name_can,\n",
    "        ARRAY(select track_uri_can) as track_uri_can,\n",
    "        # album_uri_can,\n",
    "        ARRAY(select track_name_can) as track_name_can,\n",
    "        # artist_uri_can,\n",
    "        ARRAY(select duration_ms_can) as duration_ms_can,\n",
    "        ARRAY(select album_name_can) as album_name_can,\n",
    "        ARRAY(select case when track_pop_can is null then 0. else cast(track_pop_can as FLOAT64) end) as track_pop_can,\n",
    "        ARRAY(select case when artist_pop_can is null then 0. else artist_pop_can end) as artist_pop_can,\n",
    "        ARRAY(select case when artist_followers_can is null then 0. else artist_followers_can end) as artist_followers_can,\n",
    "        ARRAY(select artist_genres_can) as artist_genres_can) AS candidate,\n",
    "    STRUCT(ARRAY(select pid_pos_id) as id_pl,\n",
    "        ARRAY(select name) as name,\n",
    "        ARRAY(select collaborative) as collaborative,\n",
    "        ARRAY(select artist_name_seed_track) as artist_name_seed_track,\n",
    "        # artist_uri_seed_track,\n",
    "        ARRAY(select track_name_seed_track) as track_name_seed_track,\n",
    "        # track_uri_seed_track,\n",
    "        ARRAY(select album_name_seed_track) as album_name_seed_track,\n",
    "        # album_uri_seed_track,\n",
    "        ARRAY(select duration_seed_track) as duration_seed_track,\n",
    "        ARRAY(select case when track_pop_seed_track is null then 0.0 else cast(track_pop_seed_track as FLOAT64) end) as track_pop_seed_track,\n",
    "        ARRAY(select case when artist_pop_seed_track is null then 0.0 else artist_pop_seed_track end) as artist_pop_seed_track,\n",
    "        ARRAY(select artist_followers_seed_track) as artist_followers_seed_track,\n",
    "        ARRAY(select duration_ms_seed_pl) as duration_ms_seed_pl,\n",
    "        ARRAY(select cast(n_songs_pl as FLOAT64)) as n_songs_pl,\n",
    "        ARRAY(select cast(num_artists_pl as FLOAT64)) as num_artists_pl,\n",
    "        ARRAY(select cast(num_albums_pl as FLOAT64)) as num_albums_pl,\n",
    "        ARRAY(select artist_genres_seed_track) as artist_genres_seed_track,\n",
    "        ARRAY(select description_pl) as description_pl,\n",
    "        artist_name_pl,\n",
    "        # track_uri_pl,\n",
    "        track_name_pl,\n",
    "        duration_ms_songs_pl,\n",
    "        album_name_pl,\n",
    "        cast(artist_pop_pl as ARRAY<FLOAT64>) as artist_pop_pl,\n",
    "        artists_followers_pl,\n",
    "        track_pop_pl,\n",
    "        artist_genres_pl,\n",
    "        duration_ms_playlist) AS query\n",
    "  FROM\n",
    "    `hybrid-vertex.spotify_train_3.train_flatten`)"
   ]
  },
  {
   "cell_type": "code",
   "execution_count": null,
   "id": "bfc75493-322f-4d67-a5c2-594be7b29a9c",
   "metadata": {},
   "outputs": [],
   "source": []
  }
 ],
 "metadata": {
  "environment": {
   "kernel": "python3",
   "name": "tf2-gpu.2-9.m93",
   "type": "gcloud",
   "uri": "gcr.io/deeplearning-platform-release/tf2-gpu.2-9:m93"
  },
  "kernelspec": {
   "display_name": "Python 3",
   "language": "python",
   "name": "python3"
  },
  "language_info": {
   "codemirror_mode": {
    "name": "ipython",
    "version": 3
   },
   "file_extension": ".py",
   "mimetype": "text/x-python",
   "name": "python",
   "nbconvert_exporter": "python",
   "pygments_lexer": "ipython3",
   "version": "3.7.12"
  }
 },
 "nbformat": 4,
 "nbformat_minor": 5
}
