{
 "cells": [
  {
   "cell_type": "markdown",
   "id": "5a7ef552-9756-457e-8734-fcb8899d035f",
   "metadata": {},
   "source": [
    "# Scaling Two-Tower training with Vertex AI"
   ]
  },
  {
   "cell_type": "code",
   "execution_count": 1,
   "id": "7956da31-55a5-41de-a9c6-cb29c7da766c",
   "metadata": {},
   "outputs": [
    {
     "name": "stdout",
     "output_type": "stream",
     "text": [
      "PROJECT_ID: hybrid-vertex\n",
      "PROJECT_NUM: 934903580331\n",
      "REGION: us-central1\n"
     ]
    }
   ],
   "source": [
    "GCP_PROJECTS = !gcloud config get-value project\n",
    "PROJECT_ID = GCP_PROJECTS[0]\n",
    "PROJECT_NUM = !gcloud projects list --filter=\"$PROJECT_ID\" --format=\"value(PROJECT_NUMBER)\"\n",
    "PROJECT_NUM = PROJECT_NUM[0]\n",
    "REGION = 'us-central1'\n",
    "\n",
    "print(f\"PROJECT_ID: {PROJECT_ID}\")\n",
    "print(f\"PROJECT_NUM: {PROJECT_NUM}\")\n",
    "print(f\"REGION: {REGION}\")\n",
    "\n",
    "VERTEX_SA = '934903580331-compute@developer.gserviceaccount.com'"
   ]
  },
  {
   "cell_type": "code",
   "execution_count": 2,
   "id": "319b0b73-d1bc-4a90-a4aa-864d2215d646",
   "metadata": {},
   "outputs": [],
   "source": [
    "import os\n",
    "import json\n",
    "from datetime import datetime\n",
    "from time import time\n",
    "import pandas as pd\n",
    "# disable INFO and DEBUG logging everywhere\n",
    "import logging\n",
    "import time\n",
    "from pprint import pprint\n",
    "import pickle as pkl\n",
    "\n",
    "logging.disable(logging.WARNING)\n",
    "\n",
    "from google.cloud import aiplatform as vertex_ai\n",
    "from google.cloud import storage"
   ]
  },
  {
   "cell_type": "code",
   "execution_count": 3,
   "id": "2e4b6da8-8246-410c-8718-6a0dea4ea269",
   "metadata": {},
   "outputs": [],
   "source": [
    "storage_client = storage.Client(project=PROJECT_ID)\n",
    "\n",
    "vertex_ai.init(project=PROJECT_ID,location=REGION)"
   ]
  },
  {
   "cell_type": "markdown",
   "id": "45bf1920-60e3-409b-af57-19aef0c492c5",
   "metadata": {},
   "source": [
    "### update vars"
   ]
  },
  {
   "cell_type": "code",
   "execution_count": 4,
   "id": "5e79c199-7f18-4f12-b6f1-c759caa56930",
   "metadata": {},
   "outputs": [
    {
     "name": "stdout",
     "output_type": "stream",
     "text": [
      "MODEL_ROOT_NAME: sp-2tower-tfrs-trainerv3\n"
     ]
    }
   ],
   "source": [
    "VERSION= \"trainerv3\"\n",
    "APP='sp'\n",
    "MODEL_TYPE='2tower'\n",
    "FRAMEWORK = 'tfrs'\n",
    "MODEL_ROOT_NAME = f'{APP}-{MODEL_TYPE}-{FRAMEWORK}-{VERSION}'\n",
    "\n",
    "print(f\"MODEL_ROOT_NAME: {MODEL_ROOT_NAME}\")"
   ]
  },
  {
   "cell_type": "markdown",
   "id": "349297e0-8d40-4ca2-bf63-b1b4a8c3af12",
   "metadata": {},
   "source": [
    "## Create training package"
   ]
  },
  {
   "cell_type": "code",
   "execution_count": 5,
   "id": "60d17843-5aec-4f58-b8c9-2734ccc69eb4",
   "metadata": {},
   "outputs": [],
   "source": [
    "REPO_DOCKER_PATH_PREFIX = 'src'"
   ]
  },
  {
   "cell_type": "code",
   "execution_count": 6,
   "id": "1c1ad2cd-bb52-42e7-8693-f271f26fb014",
   "metadata": {},
   "outputs": [
    {
     "name": "stdout",
     "output_type": "stream",
     "text": [
      "IMAGE_URI: gcr.io/hybrid-vertex/sp-2tower-tfrs-trainerv3-tr\n"
     ]
    }
   ],
   "source": [
    "# Docker definitions for training\n",
    "IMAGE_NAME = f'{MODEL_ROOT_NAME}-tr'\n",
    "IMAGE_URI = f'gcr.io/{PROJECT_ID}/{IMAGE_NAME}'\n",
    "\n",
    "DOCKERNAME = 'tfrs'\n",
    "REPO_DOCKER_PATH_PREFIX = 'src'\n",
    "MACHINE_TYPE ='e2-highcpu-32'\n",
    "FILE_LOCATION = './src'\n",
    "\n",
    "print(f\"IMAGE_URI: {IMAGE_URI}\")"
   ]
  },
  {
   "cell_type": "code",
   "execution_count": 7,
   "id": "719ee528-33b3-429d-a1ab-898bf069d157",
   "metadata": {},
   "outputs": [
    {
     "name": "stdout",
     "output_type": "stream",
     "text": [
      "Overwriting src/cloudbuild.yaml\n"
     ]
    }
   ],
   "source": [
    "%%writefile {REPO_DOCKER_PATH_PREFIX}/cloudbuild.yaml\n",
    "\n",
    "steps:\n",
    "- name: 'gcr.io/cloud-builders/docker'\n",
    "  args: ['build', '-t', '$_IMAGE_URI', '$_FILE_LOCATION', '-f', '$_FILE_LOCATION/Dockerfile.$_DOCKERNAME']\n",
    "images:\n",
    "- '$_IMAGE_URI'"
   ]
  },
  {
   "cell_type": "code",
   "execution_count": 8,
   "id": "aae79238-4e73-4b33-92b6-9d784c4a02cf",
   "metadata": {},
   "outputs": [
    {
     "name": "stdout",
     "output_type": "stream",
     "text": [
      "Overwriting src/two_tower_jt/train_config.py\n"
     ]
    }
   ],
   "source": [
    "%%writefile {REPO_DOCKER_PATH_PREFIX}/two_tower_jt/train_config.py\n",
    "MAX_PLAYLIST_LENGTH = 5"
   ]
  },
  {
   "cell_type": "code",
   "execution_count": 9,
   "id": "f24c3c05-e92c-417e-a4c0-901b91886c5e",
   "metadata": {},
   "outputs": [
    {
     "name": "stdout",
     "output_type": "stream",
     "text": [
      "Overwriting src/two_tower_jt/requirements.txt\n"
     ]
    }
   ],
   "source": [
    "%%writefile {REPO_DOCKER_PATH_PREFIX}/two_tower_jt/requirements.txt\n",
    "google-cloud-aiplatform>=1.20.0\n",
    "tensorflow-recommenders==0.7.2\n",
    "tensorboard==2.10.1\n",
    "tensorboard-data-server==0.6.1\n",
    "tensorboard-plugin-profile==2.11.1\n",
    "tensorflow-io==0.27.0\n",
    "google-cloud-aiplatform[cloud_profiler]>=1.20.0"
   ]
  },
  {
   "cell_type": "code",
   "execution_count": 10,
   "id": "cc5822fd-0cef-41da-a2bb-3af326a94f1d",
   "metadata": {},
   "outputs": [
    {
     "name": "stdout",
     "output_type": "stream",
     "text": [
      "Overwriting src/Dockerfile.tfrs\n"
     ]
    }
   ],
   "source": [
    "%%writefile {REPO_DOCKER_PATH_PREFIX}/Dockerfile.{DOCKERNAME}\n",
    "\n",
    "# FROM tensorflow/tensorflow:2.10.1-gpu\n",
    "FROM gcr.io/deeplearning-platform-release/tf-gpu.2-10\n",
    "\n",
    "WORKDIR /src\n",
    "\n",
    "# Copies the trainer code to the docker image.\n",
    "COPY two_tower_jt/* two_tower_jt/ \n",
    "\n",
    "RUN pip install -r two_tower_jt/requirements.txt\n",
    "\n",
    "RUN apt update && apt -y install nvtop"
   ]
  },
  {
   "cell_type": "markdown",
   "id": "3856eb73-d4dc-4ca2-b2be-2224cc51ba2a",
   "metadata": {},
   "source": [
    "### Build Training image with Cloud Build"
   ]
  },
  {
   "cell_type": "code",
   "execution_count": 11,
   "id": "9469cdf9-e9d5-4d7a-a850-a436ff8383ba",
   "metadata": {},
   "outputs": [
    {
     "name": "stdout",
     "output_type": "stream",
     "text": [
      "DOCKERNAME: tfrs\n",
      "IMAGE_URI: gcr.io/hybrid-vertex/sp-2tower-tfrs-trainerv3-tr\n",
      "FILE_LOCATION: ./src\n",
      "MACHINE_TYPE: e2-highcpu-32\n"
     ]
    }
   ],
   "source": [
    "print(f\"DOCKERNAME: {DOCKERNAME}\")\n",
    "print(f\"IMAGE_URI: {IMAGE_URI}\")\n",
    "print(f\"FILE_LOCATION: {FILE_LOCATION}\")\n",
    "print(f\"MACHINE_TYPE: {MACHINE_TYPE}\")"
   ]
  },
  {
   "cell_type": "code",
   "execution_count": 12,
   "id": "eebb9ac8-5c5a-44f6-b95f-b0c392099a67",
   "metadata": {},
   "outputs": [
    {
     "name": "stdout",
     "output_type": "stream",
     "text": [
      "Updated property [gcloudignore/enabled].\n"
     ]
    }
   ],
   "source": [
    "! gcloud config set gcloudignore/enabled true"
   ]
  },
  {
   "cell_type": "code",
   "execution_count": 13,
   "id": "0e434002-cea0-43a6-bb63-f6d1a3c7e2d3",
   "metadata": {},
   "outputs": [
    {
     "name": "stdout",
     "output_type": "stream",
     "text": [
      "Overwriting .gcloudignore\n"
     ]
    }
   ],
   "source": [
    "%%writefile .gcloudignore\n",
    ".gcloudignore\n",
    "/local_files/\n",
    "/img/\n",
    "*.pkl\n",
    "*.png\n",
    "*.ipynb\n",
    ".git\n",
    ".github\n",
    ".ipynb_checkpoints/*\n",
    "*__pycache__\n",
    "*cpython-37.pyc\n",
    "spotipy_secret_creds.py\n",
    "custom_pipeline_spec.json\n",
    "/WIP/*\n",
    "beam_candidates/*\n",
    "beam_training/*"
   ]
  },
  {
   "cell_type": "code",
   "execution_count": 14,
   "id": "1e54839e-207c-4c89-bcf6-c5a104d227ee",
   "metadata": {},
   "outputs": [],
   "source": [
    "# !gcloud meta list-files-for-upload\n",
    "# !ls"
   ]
  },
  {
   "cell_type": "code",
   "execution_count": 15,
   "id": "f74d1342-796e-4fff-af1f-eb9196cdb1ec",
   "metadata": {
    "collapsed": true,
    "jupyter": {
     "outputs_hidden": true
    },
    "tags": []
   },
   "outputs": [
    {
     "name": "stdout",
     "output_type": "stream",
     "text": [
      "Creating temporary tarball archive of 40 file(s) totalling 291.6 KiB before compression.\n",
      "Uploading tarball of [.] to [gs://hybrid-vertex_cloudbuild/source/1679359364.149285-55e263160e954ed1aaf66a81d137dffd.tgz]\n",
      "Created [https://cloudbuild.googleapis.com/v1/projects/hybrid-vertex/locations/global/builds/21e6788f-1db5-4c9b-ad5c-ee317b42e6bc].\n",
      "Logs are available at [ https://console.cloud.google.com/cloud-build/builds/21e6788f-1db5-4c9b-ad5c-ee317b42e6bc?project=934903580331 ].\n",
      "----------------------------- REMOTE BUILD OUTPUT ------------------------------\n",
      "starting build \"21e6788f-1db5-4c9b-ad5c-ee317b42e6bc\"\n",
      "\n",
      "FETCHSOURCE\n",
      "Fetching storage object: gs://hybrid-vertex_cloudbuild/source/1679359364.149285-55e263160e954ed1aaf66a81d137dffd.tgz#1679359364533979\n",
      "Copying gs://hybrid-vertex_cloudbuild/source/1679359364.149285-55e263160e954ed1aaf66a81d137dffd.tgz#1679359364533979...\n",
      "/ [1 files][ 53.2 KiB/ 53.2 KiB]                                                \n",
      "Operation completed over 1 objects/53.2 KiB.\n",
      "BUILD\n",
      "Already have image (with digest): gcr.io/cloud-builders/docker\n",
      "Sending build context to Docker daemon  229.4kB\n",
      "Step 1/5 : FROM gcr.io/deeplearning-platform-release/tf-gpu.2-10\n",
      "latest: Pulling from deeplearning-platform-release/tf-gpu.2-10\n",
      "846c0b181fff: Pulling fs layer\n",
      "6fc9dd88827c: Pulling fs layer\n",
      "0b311d7060d0: Pulling fs layer\n",
      "326d76058f67: Pulling fs layer\n",
      "ed7e4c52c661: Pulling fs layer\n",
      "4f05f5570c7a: Pulling fs layer\n",
      "ab264e292103: Pulling fs layer\n",
      "527d1d5ab821: Pulling fs layer\n",
      "fc46d4e99009: Pulling fs layer\n",
      "9ccf692754fa: Pulling fs layer\n",
      "c6611ece70c4: Pulling fs layer\n",
      "fe6ff819b45f: Pulling fs layer\n",
      "ed7e4c52c661: Waiting\n",
      "9184090e0dd5: Pulling fs layer\n",
      "be61e05cbc85: Pulling fs layer\n",
      "4f4fb700ef54: Pulling fs layer\n",
      "e40e177d8029: Pulling fs layer\n",
      "a0dadd11f5a2: Pulling fs layer\n",
      "4c472283b8d9: Pulling fs layer\n",
      "543a355857b8: Pulling fs layer\n",
      "4f05f5570c7a: Waiting\n",
      "7e3abb0523c6: Pulling fs layer\n",
      "ab264e292103: Waiting\n",
      "527d1d5ab821: Waiting\n",
      "fe6ff819b45f: Waiting\n",
      "fc46d4e99009: Waiting\n",
      "9184090e0dd5: Waiting\n",
      "9ccf692754fa: Waiting\n",
      "be61e05cbc85: Waiting\n",
      "f23750648678: Pulling fs layer\n",
      "c6611ece70c4: Waiting\n",
      "e40e177d8029: Waiting\n",
      "4f4fb700ef54: Waiting\n",
      "c35d42703408: Pulling fs layer\n",
      "7dc69594be62: Pulling fs layer\n",
      "0c63232e03cc: Pulling fs layer\n",
      "b26ac09c4b43: Pulling fs layer\n",
      "4c472283b8d9: Waiting\n",
      "a52e29d8420d: Pulling fs layer\n",
      "543a355857b8: Waiting\n",
      "7e3abb0523c6: Waiting\n",
      "f23750648678: Waiting\n",
      "b49b9b9d451a: Pulling fs layer\n",
      "c35d42703408: Waiting\n",
      "16d3b3484dd5: Pulling fs layer\n",
      "7dc69594be62: Waiting\n",
      "d887ad56755a: Pulling fs layer\n",
      "2c8f62b71b0c: Pulling fs layer\n",
      "326d76058f67: Waiting\n",
      "291ffd9617e9: Pulling fs layer\n",
      "0c63232e03cc: Waiting\n",
      "3c3a4ad788d8: Pulling fs layer\n",
      "9c3607d35929: Pulling fs layer\n",
      "b26ac09c4b43: Waiting\n",
      "98208db390ce: Pulling fs layer\n",
      "a52e29d8420d: Waiting\n",
      "b49b9b9d451a: Waiting\n",
      "6b621fae7277: Pulling fs layer\n",
      "b6f7910d62f3: Pulling fs layer\n",
      "16d3b3484dd5: Waiting\n",
      "26aba11ea661: Pulling fs layer\n",
      "0426d7d793ce: Pulling fs layer\n",
      "d887ad56755a: Waiting\n",
      "291ffd9617e9: Waiting\n",
      "2c8f62b71b0c: Waiting\n",
      "9c3607d35929: Waiting\n",
      "0426d7d793ce: Waiting\n",
      "26aba11ea661: Waiting\n",
      "6b621fae7277: Waiting\n",
      "b6f7910d62f3: Waiting\n",
      "98208db390ce: Waiting\n",
      "a0dadd11f5a2: Waiting\n",
      "6fc9dd88827c: Verifying Checksum\n",
      "6fc9dd88827c: Download complete\n",
      "0b311d7060d0: Verifying Checksum\n",
      "0b311d7060d0: Download complete\n",
      "326d76058f67: Verifying Checksum\n",
      "326d76058f67: Download complete\n",
      "ed7e4c52c661: Download complete\n",
      "846c0b181fff: Verifying Checksum\n",
      "846c0b181fff: Download complete\n",
      "ab264e292103: Verifying Checksum\n",
      "ab264e292103: Download complete\n",
      "527d1d5ab821: Verifying Checksum\n",
      "527d1d5ab821: Download complete\n",
      "fc46d4e99009: Download complete\n",
      "c6611ece70c4: Verifying Checksum\n",
      "c6611ece70c4: Download complete\n",
      "846c0b181fff: Pull complete\n",
      "6fc9dd88827c: Pull complete\n",
      "0b311d7060d0: Pull complete\n",
      "326d76058f67: Pull complete\n",
      "ed7e4c52c661: Pull complete\n",
      "4f05f5570c7a: Verifying Checksum\n",
      "4f05f5570c7a: Download complete\n",
      "9184090e0dd5: Verifying Checksum\n",
      "9184090e0dd5: Download complete\n",
      "be61e05cbc85: Verifying Checksum\n",
      "be61e05cbc85: Download complete\n",
      "4f4fb700ef54: Verifying Checksum\n",
      "4f4fb700ef54: Download complete\n",
      "9ccf692754fa: Verifying Checksum\n",
      "9ccf692754fa: Download complete\n",
      "e40e177d8029: Verifying Checksum\n",
      "e40e177d8029: Download complete\n",
      "4c472283b8d9: Verifying Checksum\n",
      "4c472283b8d9: Download complete\n",
      "543a355857b8: Verifying Checksum\n",
      "543a355857b8: Download complete\n",
      "a0dadd11f5a2: Verifying Checksum\n",
      "a0dadd11f5a2: Download complete\n",
      "7e3abb0523c6: Verifying Checksum\n",
      "7e3abb0523c6: Download complete\n",
      "f23750648678: Verifying Checksum\n",
      "f23750648678: Download complete\n",
      "7dc69594be62: Verifying Checksum\n",
      "7dc69594be62: Download complete\n",
      "0c63232e03cc: Verifying Checksum\n",
      "0c63232e03cc: Download complete\n",
      "b26ac09c4b43: Verifying Checksum\n",
      "b26ac09c4b43: Download complete\n",
      "a52e29d8420d: Verifying Checksum\n",
      "a52e29d8420d: Download complete\n",
      "b49b9b9d451a: Verifying Checksum\n",
      "b49b9b9d451a: Download complete\n",
      "16d3b3484dd5: Verifying Checksum\n",
      "16d3b3484dd5: Download complete\n",
      "d887ad56755a: Verifying Checksum\n",
      "d887ad56755a: Download complete\n",
      "2c8f62b71b0c: Verifying Checksum\n",
      "2c8f62b71b0c: Download complete\n",
      "291ffd9617e9: Download complete\n",
      "3c3a4ad788d8: Verifying Checksum\n",
      "3c3a4ad788d8: Download complete\n",
      "9c3607d35929: Verifying Checksum\n",
      "9c3607d35929: Download complete\n",
      "c35d42703408: Verifying Checksum\n",
      "c35d42703408: Download complete\n",
      "fe6ff819b45f: Verifying Checksum\n",
      "fe6ff819b45f: Download complete\n",
      "b6f7910d62f3: Verifying Checksum\n",
      "b6f7910d62f3: Download complete\n",
      "26aba11ea661: Verifying Checksum\n",
      "26aba11ea661: Download complete\n",
      "0426d7d793ce: Verifying Checksum\n",
      "0426d7d793ce: Download complete\n",
      "98208db390ce: Verifying Checksum\n",
      "98208db390ce: Download complete\n",
      "6b621fae7277: Verifying Checksum\n",
      "6b621fae7277: Download complete\n",
      "4f05f5570c7a: Pull complete\n",
      "ab264e292103: Pull complete\n",
      "527d1d5ab821: Pull complete\n",
      "fc46d4e99009: Pull complete\n",
      "9ccf692754fa: Pull complete\n",
      "c6611ece70c4: Pull complete\n",
      "fe6ff819b45f: Pull complete\n",
      "9184090e0dd5: Pull complete\n",
      "be61e05cbc85: Pull complete\n",
      "4f4fb700ef54: Pull complete\n",
      "e40e177d8029: Pull complete\n",
      "a0dadd11f5a2: Pull complete\n",
      "4c472283b8d9: Pull complete\n",
      "543a355857b8: Pull complete\n",
      "7e3abb0523c6: Pull complete\n",
      "f23750648678: Pull complete\n",
      "c35d42703408: Pull complete\n",
      "7dc69594be62: Pull complete\n",
      "0c63232e03cc: Pull complete\n",
      "b26ac09c4b43: Pull complete\n",
      "a52e29d8420d: Pull complete\n",
      "b49b9b9d451a: Pull complete\n",
      "16d3b3484dd5: Pull complete\n",
      "d887ad56755a: Pull complete\n",
      "2c8f62b71b0c: Pull complete\n",
      "291ffd9617e9: Pull complete\n",
      "3c3a4ad788d8: Pull complete\n",
      "9c3607d35929: Pull complete\n",
      "98208db390ce: Pull complete\n",
      "6b621fae7277: Pull complete\n",
      "b6f7910d62f3: Pull complete\n",
      "26aba11ea661: Pull complete\n",
      "0426d7d793ce: Pull complete\n",
      "Digest: sha256:9406742aaa3d136cec0944ea1abf6f9ce3a29ce333fd66cd66e1a934675d1460\n",
      "Status: Downloaded newer image for gcr.io/deeplearning-platform-release/tf-gpu.2-10:latest\n",
      " ---> c36192a5c2f4\n",
      "Step 2/5 : WORKDIR /src\n",
      " ---> Running in 882521137f38\n",
      "Removing intermediate container 882521137f38\n",
      " ---> 567e018bad2a\n",
      "Step 3/5 : COPY two_tower_jt/* two_tower_jt/\n",
      " ---> 9171a1dfd8e0\n",
      "Step 4/5 : RUN pip install -r two_tower_jt/requirements.txt\n",
      " ---> Running in 86d6d400a05f\n",
      "Requirement already satisfied: google-cloud-aiplatform>=1.20.0 in /opt/conda/lib/python3.7/site-packages (from -r two_tower_jt/requirements.txt (line 1)) (1.22.1)\n",
      "Collecting tensorflow-recommenders==0.7.2\n",
      "  Downloading tensorflow_recommenders-0.7.2-py3-none-any.whl (89 kB)\n",
      "     ━━━━━━━━━━━━━━━━━━━━━━━━━━━━━━━━━━━━━━━━ 89.3/89.3 kB 4.0 MB/s eta 0:00:00\n",
      "Requirement already satisfied: tensorboard==2.10.1 in /opt/conda/lib/python3.7/site-packages (from -r two_tower_jt/requirements.txt (line 3)) (2.10.1)\n",
      "Requirement already satisfied: tensorboard-data-server==0.6.1 in /opt/conda/lib/python3.7/site-packages (from -r two_tower_jt/requirements.txt (line 4)) (0.6.1)\n",
      "Requirement already satisfied: tensorboard-plugin-profile==2.11.1 in /opt/conda/lib/python3.7/site-packages (from -r two_tower_jt/requirements.txt (line 5)) (2.11.1)\n",
      "Requirement already satisfied: tensorflow-io==0.27.0 in /opt/conda/lib/python3.7/site-packages (from -r two_tower_jt/requirements.txt (line 6)) (0.27.0)\n",
      "Requirement already satisfied: tensorflow>=2.9.0 in /opt/conda/lib/python3.7/site-packages (from tensorflow-recommenders==0.7.2->-r two_tower_jt/requirements.txt (line 2)) (2.10.1)\n",
      "Requirement already satisfied: absl-py>=0.1.6 in /opt/conda/lib/python3.7/site-packages (from tensorflow-recommenders==0.7.2->-r two_tower_jt/requirements.txt (line 2)) (1.4.0)\n",
      "Requirement already satisfied: markdown>=2.6.8 in /opt/conda/lib/python3.7/site-packages (from tensorboard==2.10.1->-r two_tower_jt/requirements.txt (line 3)) (3.4.1)\n",
      "Requirement already satisfied: requests<3,>=2.21.0 in /opt/conda/lib/python3.7/site-packages (from tensorboard==2.10.1->-r two_tower_jt/requirements.txt (line 3)) (2.28.2)\n",
      "Requirement already satisfied: werkzeug>=1.0.1 in /opt/conda/lib/python3.7/site-packages (from tensorboard==2.10.1->-r two_tower_jt/requirements.txt (line 3)) (2.1.2)\n",
      "Requirement already satisfied: setuptools>=41.0.0 in /opt/conda/lib/python3.7/site-packages (from tensorboard==2.10.1->-r two_tower_jt/requirements.txt (line 3)) (67.6.0)\n",
      "Requirement already satisfied: tensorboard-plugin-wit>=1.6.0 in /opt/conda/lib/python3.7/site-packages (from tensorboard==2.10.1->-r two_tower_jt/requirements.txt (line 3)) (1.8.1)\n",
      "Requirement already satisfied: google-auth<3,>=1.6.3 in /opt/conda/lib/python3.7/site-packages (from tensorboard==2.10.1->-r two_tower_jt/requirements.txt (line 3)) (2.16.2)\n",
      "Requirement already satisfied: numpy>=1.12.0 in /opt/conda/lib/python3.7/site-packages (from tensorboard==2.10.1->-r two_tower_jt/requirements.txt (line 3)) (1.21.6)\n",
      "Requirement already satisfied: wheel>=0.26 in /opt/conda/lib/python3.7/site-packages (from tensorboard==2.10.1->-r two_tower_jt/requirements.txt (line 3)) (0.38.4)\n",
      "Requirement already satisfied: google-auth-oauthlib<0.5,>=0.4.1 in /opt/conda/lib/python3.7/site-packages (from tensorboard==2.10.1->-r two_tower_jt/requirements.txt (line 3)) (0.4.6)\n",
      "Requirement already satisfied: grpcio>=1.24.3 in /opt/conda/lib/python3.7/site-packages (from tensorboard==2.10.1->-r two_tower_jt/requirements.txt (line 3)) (1.51.3)\n",
      "Collecting protobuf<3.20,>=3.9.2\n",
      "  Downloading protobuf-3.19.6-cp37-cp37m-manylinux_2_17_x86_64.manylinux2014_x86_64.whl (1.1 MB)\n",
      "     ━━━━━━━━━━━━━━━━━━━━━━━━━━━━━━━━━━━━━━━━ 1.1/1.1 MB 17.0 MB/s eta 0:00:00\n",
      "Requirement already satisfied: six>=1.10.0 in /opt/conda/lib/python3.7/site-packages (from tensorboard-plugin-profile==2.11.1->-r two_tower_jt/requirements.txt (line 5)) (1.16.0)\n",
      "Requirement already satisfied: gviz-api>=1.9.0 in /opt/conda/lib/python3.7/site-packages (from tensorboard-plugin-profile==2.11.1->-r two_tower_jt/requirements.txt (line 5)) (1.10.0)\n",
      "Requirement already satisfied: tensorflow-io-gcs-filesystem==0.27.0 in /opt/conda/lib/python3.7/site-packages (from tensorflow-io==0.27.0->-r two_tower_jt/requirements.txt (line 6)) (0.27.0)\n",
      "Requirement already satisfied: google-cloud-resource-manager<3.0.0dev,>=1.3.3 in /opt/conda/lib/python3.7/site-packages (from google-cloud-aiplatform>=1.20.0->-r two_tower_jt/requirements.txt (line 1)) (1.9.0)\n",
      "Collecting packaging<22.0.0dev,>=14.3\n",
      "  Downloading packaging-21.3-py3-none-any.whl (40 kB)\n",
      "     ━━━━━━━━━━━━━━━━━━━━━━━━━━━━━━━━━━━━━━━━ 40.8/40.8 kB 7.1 MB/s eta 0:00:00\n",
      "Requirement already satisfied: google-cloud-storage<3.0.0dev,>=1.32.0 in /opt/conda/lib/python3.7/site-packages (from google-cloud-aiplatform>=1.20.0->-r two_tower_jt/requirements.txt (line 1)) (2.7.0)\n",
      "Requirement already satisfied: proto-plus<2.0.0dev,>=1.22.0 in /opt/conda/lib/python3.7/site-packages (from google-cloud-aiplatform>=1.20.0->-r two_tower_jt/requirements.txt (line 1)) (1.22.2)\n",
      "Requirement already satisfied: google-api-core[grpc]!=2.0.*,!=2.1.*,!=2.2.*,!=2.3.*,!=2.4.*,!=2.5.*,!=2.6.*,!=2.7.*,<3.0.0dev,>=1.32.0 in /opt/conda/lib/python3.7/site-packages (from google-cloud-aiplatform>=1.20.0->-r two_tower_jt/requirements.txt (line 1)) (2.10.1)\n",
      "Requirement already satisfied: shapely<2.0.0 in /opt/conda/lib/python3.7/site-packages (from google-cloud-aiplatform>=1.20.0->-r two_tower_jt/requirements.txt (line 1)) (1.8.5.post1)\n",
      "Requirement already satisfied: google-cloud-bigquery<4.0.0dev,>=1.15.0 in /opt/conda/lib/python3.7/site-packages (from google-cloud-aiplatform>=1.20.0->-r two_tower_jt/requirements.txt (line 1)) (3.6.0)\n",
      "Collecting werkzeug>=1.0.1\n",
      "  Downloading Werkzeug-2.0.3-py3-none-any.whl (289 kB)\n",
      "     ━━━━━━━━━━━━━━━━━━━━━━━━━━━━━━━━━━━━━━ 289.2/289.2 kB 19.6 MB/s eta 0:00:00\n",
      "Requirement already satisfied: googleapis-common-protos<2.0dev,>=1.56.2 in /opt/conda/lib/python3.7/site-packages (from google-api-core[grpc]!=2.0.*,!=2.1.*,!=2.2.*,!=2.3.*,!=2.4.*,!=2.5.*,!=2.6.*,!=2.7.*,<3.0.0dev,>=1.32.0->google-cloud-aiplatform>=1.20.0->-r two_tower_jt/requirements.txt (line 1)) (1.58.0)\n",
      "Collecting google-api-core[grpc]!=2.0.*,!=2.1.*,!=2.2.*,!=2.3.*,!=2.4.*,!=2.5.*,!=2.6.*,!=2.7.*,<3.0.0dev,>=1.32.0\n",
      "  Downloading google_api_core-2.11.0-py3-none-any.whl (120 kB)\n",
      "     ━━━━━━━━━━━━━━━━━━━━━━━━━━━━━━━━━━━━━━ 120.3/120.3 kB 19.4 MB/s eta 0:00:00\n",
      "Requirement already satisfied: grpcio-status<2.0dev,>=1.33.2 in /opt/conda/lib/python3.7/site-packages (from google-api-core[grpc]!=2.0.*,!=2.1.*,!=2.2.*,!=2.3.*,!=2.4.*,!=2.5.*,!=2.6.*,!=2.7.*,<3.0.0dev,>=1.32.0->google-cloud-aiplatform>=1.20.0->-r two_tower_jt/requirements.txt (line 1)) (1.48.2)\n",
      "Requirement already satisfied: rsa<5,>=3.1.4 in /opt/conda/lib/python3.7/site-packages (from google-auth<3,>=1.6.3->tensorboard==2.10.1->-r two_tower_jt/requirements.txt (line 3)) (4.9)\n",
      "Requirement already satisfied: pyasn1-modules>=0.2.1 in /opt/conda/lib/python3.7/site-packages (from google-auth<3,>=1.6.3->tensorboard==2.10.1->-r two_tower_jt/requirements.txt (line 3)) (0.2.8)\n",
      "Requirement already satisfied: cachetools<6.0,>=2.0.0 in /opt/conda/lib/python3.7/site-packages (from google-auth<3,>=1.6.3->tensorboard==2.10.1->-r two_tower_jt/requirements.txt (line 3)) (5.3.0)\n",
      "Requirement already satisfied: requests-oauthlib>=0.7.0 in /opt/conda/lib/python3.7/site-packages (from google-auth-oauthlib<0.5,>=0.4.1->tensorboard==2.10.1->-r two_tower_jt/requirements.txt (line 3)) (1.3.1)\n",
      "Requirement already satisfied: google-resumable-media<3.0dev,>=0.6.0 in /opt/conda/lib/python3.7/site-packages (from google-cloud-bigquery<4.0.0dev,>=1.15.0->google-cloud-aiplatform>=1.20.0->-r two_tower_jt/requirements.txt (line 1)) (2.4.1)\n",
      "Requirement already satisfied: python-dateutil<3.0dev,>=2.7.2 in /opt/conda/lib/python3.7/site-packages (from google-cloud-bigquery<4.0.0dev,>=1.15.0->google-cloud-aiplatform>=1.20.0->-r two_tower_jt/requirements.txt (line 1)) (2.8.2)\n",
      "Requirement already satisfied: google-cloud-core<3.0.0dev,>=1.6.0 in /opt/conda/lib/python3.7/site-packages (from google-cloud-bigquery<4.0.0dev,>=1.15.0->google-cloud-aiplatform>=1.20.0->-r two_tower_jt/requirements.txt (line 1)) (2.3.2)\n",
      "Requirement already satisfied: grpc-google-iam-v1<1.0.0dev,>=0.12.4 in /opt/conda/lib/python3.7/site-packages (from google-cloud-resource-manager<3.0.0dev,>=1.3.3->google-cloud-aiplatform>=1.20.0->-r two_tower_jt/requirements.txt (line 1)) (0.12.6)\n",
      "Requirement already satisfied: importlib-metadata>=4.4 in /opt/conda/lib/python3.7/site-packages (from markdown>=2.6.8->tensorboard==2.10.1->-r two_tower_jt/requirements.txt (line 3)) (6.0.0)\n",
      "Requirement already satisfied: pyparsing!=3.0.5,>=2.0.2 in /opt/conda/lib/python3.7/site-packages (from packaging<22.0.0dev,>=14.3->google-cloud-aiplatform>=1.20.0->-r two_tower_jt/requirements.txt (line 1)) (3.0.9)\n",
      "Requirement already satisfied: certifi>=2017.4.17 in /opt/conda/lib/python3.7/site-packages (from requests<3,>=2.21.0->tensorboard==2.10.1->-r two_tower_jt/requirements.txt (line 3)) (2022.12.7)\n",
      "Requirement already satisfied: urllib3<1.27,>=1.21.1 in /opt/conda/lib/python3.7/site-packages (from requests<3,>=2.21.0->tensorboard==2.10.1->-r two_tower_jt/requirements.txt (line 3)) (1.26.14)\n",
      "Requirement already satisfied: idna<4,>=2.5 in /opt/conda/lib/python3.7/site-packages (from requests<3,>=2.21.0->tensorboard==2.10.1->-r two_tower_jt/requirements.txt (line 3)) (3.4)\n",
      "Requirement already satisfied: charset-normalizer<4,>=2 in /opt/conda/lib/python3.7/site-packages (from requests<3,>=2.21.0->tensorboard==2.10.1->-r two_tower_jt/requirements.txt (line 3)) (2.1.1)\n",
      "Requirement already satisfied: gast<=0.4.0,>=0.2.1 in /opt/conda/lib/python3.7/site-packages (from tensorflow>=2.9.0->tensorflow-recommenders==0.7.2->-r two_tower_jt/requirements.txt (line 2)) (0.4.0)\n",
      "Requirement already satisfied: keras-preprocessing>=1.1.1 in /opt/conda/lib/python3.7/site-packages (from tensorflow>=2.9.0->tensorflow-recommenders==0.7.2->-r two_tower_jt/requirements.txt (line 2)) (1.1.2)\n",
      "Requirement already satisfied: tensorflow-estimator<2.11,>=2.10.0 in /opt/conda/lib/python3.7/site-packages (from tensorflow>=2.9.0->tensorflow-recommenders==0.7.2->-r two_tower_jt/requirements.txt (line 2)) (2.10.0)\n",
      "Requirement already satisfied: google-pasta>=0.1.1 in /opt/conda/lib/python3.7/site-packages (from tensorflow>=2.9.0->tensorflow-recommenders==0.7.2->-r two_tower_jt/requirements.txt (line 2)) (0.2.0)\n",
      "Requirement already satisfied: opt-einsum>=2.3.2 in /opt/conda/lib/python3.7/site-packages (from tensorflow>=2.9.0->tensorflow-recommenders==0.7.2->-r two_tower_jt/requirements.txt (line 2)) (3.3.0)\n",
      "Requirement already satisfied: flatbuffers>=2.0 in /opt/conda/lib/python3.7/site-packages (from tensorflow>=2.9.0->tensorflow-recommenders==0.7.2->-r two_tower_jt/requirements.txt (line 2)) (23.3.3)\n",
      "Requirement already satisfied: libclang>=13.0.0 in /opt/conda/lib/python3.7/site-packages (from tensorflow>=2.9.0->tensorflow-recommenders==0.7.2->-r two_tower_jt/requirements.txt (line 2)) (15.0.6.1)\n",
      "Requirement already satisfied: typing-extensions>=3.6.6 in /opt/conda/lib/python3.7/site-packages (from tensorflow>=2.9.0->tensorflow-recommenders==0.7.2->-r two_tower_jt/requirements.txt (line 2)) (4.5.0)\n",
      "Requirement already satisfied: keras<2.11,>=2.10.0 in /opt/conda/lib/python3.7/site-packages (from tensorflow>=2.9.0->tensorflow-recommenders==0.7.2->-r two_tower_jt/requirements.txt (line 2)) (2.10.0)\n",
      "Requirement already satisfied: h5py>=2.9.0 in /opt/conda/lib/python3.7/site-packages (from tensorflow>=2.9.0->tensorflow-recommenders==0.7.2->-r two_tower_jt/requirements.txt (line 2)) (3.8.0)\n",
      "Requirement already satisfied: termcolor>=1.1.0 in /opt/conda/lib/python3.7/site-packages (from tensorflow>=2.9.0->tensorflow-recommenders==0.7.2->-r two_tower_jt/requirements.txt (line 2)) (2.2.0)\n",
      "Requirement already satisfied: astunparse>=1.6.0 in /opt/conda/lib/python3.7/site-packages (from tensorflow>=2.9.0->tensorflow-recommenders==0.7.2->-r two_tower_jt/requirements.txt (line 2)) (1.6.3)\n",
      "Requirement already satisfied: wrapt>=1.11.0 in /opt/conda/lib/python3.7/site-packages (from tensorflow>=2.9.0->tensorflow-recommenders==0.7.2->-r two_tower_jt/requirements.txt (line 2)) (1.15.0)\n",
      "Requirement already satisfied: google-crc32c<2.0dev,>=1.0 in /opt/conda/lib/python3.7/site-packages (from google-resumable-media<3.0dev,>=0.6.0->google-cloud-bigquery<4.0.0dev,>=1.15.0->google-cloud-aiplatform>=1.20.0->-r two_tower_jt/requirements.txt (line 1)) (1.5.0)\n",
      "Requirement already satisfied: zipp>=0.5 in /opt/conda/lib/python3.7/site-packages (from importlib-metadata>=4.4->markdown>=2.6.8->tensorboard==2.10.1->-r two_tower_jt/requirements.txt (line 3)) (3.15.0)\n",
      "Requirement already satisfied: pyasn1<0.5.0,>=0.4.6 in /opt/conda/lib/python3.7/site-packages (from pyasn1-modules>=0.2.1->google-auth<3,>=1.6.3->tensorboard==2.10.1->-r two_tower_jt/requirements.txt (line 3)) (0.4.8)\n",
      "Requirement already satisfied: oauthlib>=3.0.0 in /opt/conda/lib/python3.7/site-packages (from requests-oauthlib>=0.7.0->google-auth-oauthlib<0.5,>=0.4.1->tensorboard==2.10.1->-r two_tower_jt/requirements.txt (line 3)) (3.2.2)\n",
      "Installing collected packages: werkzeug, protobuf, packaging, google-api-core, tensorflow-recommenders\n",
      "  Attempting uninstall: werkzeug\n",
      "    Found existing installation: Werkzeug 2.1.2\n",
      "    Uninstalling Werkzeug-2.1.2:\n",
      "      Successfully uninstalled Werkzeug-2.1.2\n",
      "  Attempting uninstall: protobuf\n",
      "    Found existing installation: protobuf 3.20.1\n",
      "    Uninstalling protobuf-3.20.1:\n",
      "      Successfully uninstalled protobuf-3.20.1\n",
      "  Attempting uninstall: packaging\n",
      "    Found existing installation: packaging 23.0\n",
      "    Uninstalling packaging-23.0:\n",
      "      Successfully uninstalled packaging-23.0\n",
      "  Attempting uninstall: google-api-core\n",
      "    Found existing installation: google-api-core 2.10.1\n",
      "    Uninstalling google-api-core-2.10.1:\n",
      "      Successfully uninstalled google-api-core-2.10.1\n",
      "\u001b[91mERROR: pip's dependency resolver does not currently take into account all the packages that are installed. This behaviour is the source of the following dependency conflicts.\n",
      "google-api-python-client 1.8.0 requires google-api-core<2dev,>=1.13.0, but you have google-api-core 2.11.0 which is incompatible.\n",
      "\u001b[0mSuccessfully installed google-api-core-2.11.0 packaging-21.3 protobuf-3.19.6 tensorflow-recommenders-0.7.2 werkzeug-2.0.3\n",
      "\u001b[91mWARNING: Running pip as the 'root' user can result in broken permissions and conflicting behaviour with the system package manager. It is recommended to use a virtual environment instead: https://pip.pypa.io/warnings/venv\n",
      "\u001b[0mRemoving intermediate container 86d6d400a05f\n",
      " ---> b06328a0dcc7\n",
      "Step 5/5 : RUN apt update && apt -y install nvtop\n",
      " ---> Running in 801f3db086c5\n",
      "\u001b[91m\n",
      "WARNING: apt does not have a stable CLI interface. Use with caution in scripts.\n",
      "\n",
      "\u001b[0mGet:1 https://packages.cloud.google.com/apt cloud-sdk InRelease [6361 B]\n",
      "Get:2 https://developer.download.nvidia.com/compute/cuda/repos/ubuntu2004/x86_64  InRelease [1581 B]\n",
      "Get:3 http://packages.cloud.google.com/apt gcsfuse-focal InRelease [5002 B]\n",
      "Get:4 https://packages.cloud.google.com/apt google-fast-socket InRelease [5015 B]\n",
      "Get:5 https://packages.cloud.google.com/apt cloud-sdk/main amd64 Packages [408 kB]\n",
      "Get:6 https://developer.download.nvidia.com/compute/cuda/repos/ubuntu2004/x86_64  Packages [923 kB]\n",
      "Get:7 http://archive.ubuntu.com/ubuntu focal InRelease [265 kB]\n",
      "Get:8 http://security.ubuntu.com/ubuntu focal-security InRelease [114 kB]\n",
      "Get:9 http://packages.cloud.google.com/apt gcsfuse-focal/main amd64 Packages [2084 B]\n",
      "Get:10 https://packages.cloud.google.com/apt google-fast-socket/main amd64 Packages [429 B]\n",
      "Get:11 http://security.ubuntu.com/ubuntu focal-security/universe amd64 Packages [1017 kB]\n",
      "Get:12 http://archive.ubuntu.com/ubuntu focal-updates InRelease [114 kB]\n",
      "Get:13 http://archive.ubuntu.com/ubuntu focal-backports InRelease [108 kB]\n",
      "Get:14 http://archive.ubuntu.com/ubuntu focal/universe amd64 Packages [11.3 MB]\n",
      "Get:15 http://security.ubuntu.com/ubuntu focal-security/main amd64 Packages [2544 kB]\n",
      "Get:16 http://security.ubuntu.com/ubuntu focal-security/restricted amd64 Packages [1998 kB]\n",
      "Get:17 http://security.ubuntu.com/ubuntu focal-security/multiverse amd64 Packages [28.5 kB]\n",
      "Get:18 http://archive.ubuntu.com/ubuntu focal/main amd64 Packages [1275 kB]\n",
      "Get:19 http://archive.ubuntu.com/ubuntu focal/multiverse amd64 Packages [177 kB]\n",
      "Get:20 http://archive.ubuntu.com/ubuntu focal/restricted amd64 Packages [33.4 kB]\n",
      "Get:21 http://archive.ubuntu.com/ubuntu focal-updates/main amd64 Packages [3024 kB]\n",
      "Get:22 http://archive.ubuntu.com/ubuntu focal-updates/restricted amd64 Packages [2141 kB]\n",
      "Get:23 http://archive.ubuntu.com/ubuntu focal-updates/multiverse amd64 Packages [31.2 kB]\n",
      "Get:24 http://archive.ubuntu.com/ubuntu focal-updates/universe amd64 Packages [1313 kB]\n",
      "Get:25 http://archive.ubuntu.com/ubuntu focal-backports/universe amd64 Packages [28.6 kB]\n",
      "Get:26 http://archive.ubuntu.com/ubuntu focal-backports/main amd64 Packages [55.2 kB]\n",
      "Fetched 27.0 MB in 4s (7536 kB/s)\n",
      "Reading package lists...\n",
      "Building dependency tree...\n",
      "Reading state information...\n",
      "37 packages can be upgraded. Run 'apt list --upgradable' to see them.\n",
      "\u001b[91m\n",
      "WARNING: apt does not have a stable CLI interface. Use with caution in scripts.\n",
      "\u001b[0mReading package lists...\n",
      "Building dependency tree...\n",
      "Reading state information...\n",
      "The following additional packages will be installed:\n",
      "  libnvidia-compute-418 libnvidia-compute-430 libnvidia-compute-530\n",
      "The following NEW packages will be installed:\n",
      "  libnvidia-compute-418 libnvidia-compute-430 libnvidia-compute-530 nvtop\n",
      "0 upgraded, 4 newly installed, 0 to remove and 37 not upgraded.\n",
      "Need to get 50.7 MB of archives.\n",
      "After this operation, 231 MB of additional disk space will be used.\n",
      "Get:1 https://developer.download.nvidia.com/compute/cuda/repos/ubuntu2004/x86_64  libnvidia-compute-530 530.30.02-0ubuntu1 [50.6 MB]\n",
      "Get:2 http://archive.ubuntu.com/ubuntu focal/restricted amd64 libnvidia-compute-418 amd64 430.50-0ubuntu3 [6936 B]\n",
      "Get:3 http://archive.ubuntu.com/ubuntu focal/multiverse amd64 nvtop amd64 1.0.0-1ubuntu2 [26.8 kB]\n",
      "Get:4 https://developer.download.nvidia.com/compute/cuda/repos/ubuntu2004/x86_64  libnvidia-compute-430 530.30.02-0ubuntu1 [6900 B]\n",
      "\u001b[91mdebconf: unable to initialize frontend: Dialog\n",
      "debconf: (TERM is not set, so the dialog frontend is not usable.)\n",
      "debconf: falling back to frontend: Readline\n",
      "\u001b[0m\u001b[91mdebconf: unable to initialize frontend: Readline\n",
      "debconf: (This frontend requires a controlling tty.)\n",
      "debconf: falling back to frontend: Teletype\n",
      "\u001b[0m\u001b[91mdpkg-preconfigure: unable to re-open stdin: \n",
      "\u001b[0mFetched 50.7 MB in 1s (63.2 MB/s)\n",
      "Selecting previously unselected package libnvidia-compute-530:amd64.\n",
      "(Reading database ... 91711 files and directories currently installed.)\n",
      "Preparing to unpack .../libnvidia-compute-530_530.30.02-0ubuntu1_amd64.deb ...\n",
      "Unpacking libnvidia-compute-530:amd64 (530.30.02-0ubuntu1) ...\n",
      "Selecting previously unselected package libnvidia-compute-430:amd64.\n",
      "Preparing to unpack .../libnvidia-compute-430_530.30.02-0ubuntu1_amd64.deb ...\n",
      "Unpacking libnvidia-compute-430:amd64 (530.30.02-0ubuntu1) ...\n",
      "Selecting previously unselected package libnvidia-compute-418:amd64.\n",
      "Preparing to unpack .../libnvidia-compute-418_430.50-0ubuntu3_amd64.deb ...\n",
      "Unpacking libnvidia-compute-418:amd64 (430.50-0ubuntu3) ...\n",
      "Selecting previously unselected package nvtop.\n",
      "Preparing to unpack .../nvtop_1.0.0-1ubuntu2_amd64.deb ...\n",
      "Unpacking nvtop (1.0.0-1ubuntu2) ...\n",
      "Setting up libnvidia-compute-530:amd64 (530.30.02-0ubuntu1) ...\n",
      "Setting up libnvidia-compute-430:amd64 (530.30.02-0ubuntu1) ...\n",
      "Setting up libnvidia-compute-418:amd64 (430.50-0ubuntu3) ...\n",
      "Setting up nvtop (1.0.0-1ubuntu2) ...\n",
      "Processing triggers for man-db (2.9.1-1) ...\n",
      "Processing triggers for libc-bin (2.31-0ubuntu9.9) ...\n",
      "Removing intermediate container 801f3db086c5\n",
      " ---> cd99382ec7d4\n",
      "Successfully built cd99382ec7d4\n",
      "Successfully tagged gcr.io/hybrid-vertex/sp-2tower-tfrs-trainerv3-tr:latest\n",
      "PUSH\n",
      "Pushing gcr.io/hybrid-vertex/sp-2tower-tfrs-trainerv3-tr\n",
      "The push refers to repository [gcr.io/hybrid-vertex/sp-2tower-tfrs-trainerv3-tr]\n",
      "ca4ec0d98455: Preparing\n",
      "83400457aee2: Preparing\n",
      "330d1a332714: Preparing\n",
      "6596d96ffb4c: Preparing\n",
      "2b373cee48c1: Preparing\n",
      "a74ffbf88bba: Preparing\n",
      "f0a1d02c47b9: Preparing\n",
      "749406961ae6: Preparing\n",
      "0fad693521a9: Preparing\n",
      "486a26921314: Preparing\n",
      "01693e705a0a: Preparing\n",
      "f35619b9d1c2: Preparing\n",
      "681824453a16: Preparing\n",
      "3e360ac34e30: Preparing\n",
      "71d2bc7ae6e0: Preparing\n",
      "6ea20af76cb3: Preparing\n",
      "ccf6ba7be883: Preparing\n",
      "38657ad77bd3: Preparing\n",
      "63d902d21034: Preparing\n",
      "330a73ca3617: Preparing\n",
      "04d67e262c77: Preparing\n",
      "7611685eda9b: Preparing\n",
      "1ff207077b4a: Preparing\n",
      "45a171197a5b: Preparing\n",
      "b4ef3fe96873: Preparing\n",
      "3abd3da6f80b: Preparing\n",
      "56bed34deb65: Preparing\n",
      "5f70bf18a086: Preparing\n",
      "e539c79eec89: Preparing\n",
      "ff8a40fc828e: Preparing\n",
      "b3936e4c67d2: Preparing\n",
      "07d37209b7a9: Preparing\n",
      "fed0e8aa65b5: Preparing\n",
      "ad8fec0b36f1: Preparing\n",
      "3a217af3edf9: Preparing\n",
      "3297f5de02be: Preparing\n",
      "f3717d7fdfb7: Preparing\n",
      "e1eace4c0976: Preparing\n",
      "959a7375cb04: Preparing\n",
      "d79c672e1e8b: Preparing\n",
      "7b7c9e761223: Preparing\n",
      "0002c93bdb37: Preparing\n",
      "01693e705a0a: Waiting\n",
      "f0a1d02c47b9: Waiting\n",
      "f35619b9d1c2: Waiting\n",
      "749406961ae6: Waiting\n",
      "681824453a16: Waiting\n",
      "0fad693521a9: Waiting\n",
      "3e360ac34e30: Waiting\n",
      "486a26921314: Waiting\n",
      "71d2bc7ae6e0: Waiting\n",
      "ff8a40fc828e: Waiting\n",
      "6ea20af76cb3: Waiting\n",
      "b3936e4c67d2: Waiting\n",
      "ccf6ba7be883: Waiting\n",
      "07d37209b7a9: Waiting\n",
      "fed0e8aa65b5: Waiting\n",
      "45a171197a5b: Waiting\n",
      "38657ad77bd3: Waiting\n",
      "b4ef3fe96873: Waiting\n",
      "63d902d21034: Waiting\n",
      "3abd3da6f80b: Waiting\n",
      "330a73ca3617: Waiting\n",
      "04d67e262c77: Waiting\n",
      "56bed34deb65: Waiting\n",
      "7611685eda9b: Waiting\n",
      "5f70bf18a086: Waiting\n",
      "1ff207077b4a: Waiting\n",
      "a74ffbf88bba: Waiting\n",
      "0002c93bdb37: Waiting\n",
      "d79c672e1e8b: Waiting\n",
      "3a217af3edf9: Waiting\n",
      "959a7375cb04: Waiting\n",
      "7b7c9e761223: Waiting\n",
      "ad8fec0b36f1: Waiting\n",
      "3297f5de02be: Waiting\n",
      "f3717d7fdfb7: Waiting\n",
      "2b373cee48c1: Layer already exists\n",
      "a74ffbf88bba: Layer already exists\n",
      "f0a1d02c47b9: Layer already exists\n",
      "749406961ae6: Layer already exists\n",
      "0fad693521a9: Layer already exists\n",
      "486a26921314: Layer already exists\n",
      "01693e705a0a: Layer already exists\n",
      "f35619b9d1c2: Layer already exists\n",
      "330d1a332714: Pushed\n",
      "681824453a16: Layer already exists\n",
      "3e360ac34e30: Layer already exists\n",
      "71d2bc7ae6e0: Layer already exists\n",
      "6596d96ffb4c: Pushed\n",
      "6ea20af76cb3: Layer already exists\n",
      "ccf6ba7be883: Layer already exists\n",
      "38657ad77bd3: Layer already exists\n",
      "63d902d21034: Layer already exists\n",
      "83400457aee2: Pushed\n",
      "330a73ca3617: Layer already exists\n",
      "04d67e262c77: Layer already exists\n",
      "7611685eda9b: Layer already exists\n",
      "1ff207077b4a: Layer already exists\n",
      "45a171197a5b: Layer already exists\n",
      "b4ef3fe96873: Layer already exists\n",
      "3abd3da6f80b: Layer already exists\n",
      "56bed34deb65: Layer already exists\n",
      "e539c79eec89: Layer already exists\n",
      "ff8a40fc828e: Layer already exists\n",
      "5f70bf18a086: Layer already exists\n",
      "b3936e4c67d2: Layer already exists\n",
      "fed0e8aa65b5: Layer already exists\n",
      "ad8fec0b36f1: Layer already exists\n",
      "07d37209b7a9: Layer already exists\n",
      "3a217af3edf9: Layer already exists\n",
      "f3717d7fdfb7: Layer already exists\n",
      "3297f5de02be: Layer already exists\n",
      "e1eace4c0976: Layer already exists\n",
      "959a7375cb04: Layer already exists\n",
      "d79c672e1e8b: Layer already exists\n",
      "7b7c9e761223: Layer already exists\n",
      "0002c93bdb37: Layer already exists\n",
      "ca4ec0d98455: Pushed\n",
      "latest: digest: sha256:02b2c22adde2550b1cde39065638c7479557506e099c6db46d28a4de876f8ad1 size: 9133\n",
      "DONE\n",
      "--------------------------------------------------------------------------------\n",
      "ID                                    CREATE_TIME                DURATION  SOURCE                                                                                       IMAGES                                                      STATUS\n",
      "21e6788f-1db5-4c9b-ad5c-ee317b42e6bc  2023-03-21T00:42:44+00:00  3M45S     gs://hybrid-vertex_cloudbuild/source/1679359364.149285-55e263160e954ed1aaf66a81d137dffd.tgz  gcr.io/hybrid-vertex/sp-2tower-tfrs-trainerv3-tr (+1 more)  SUCCESS\n"
     ]
    }
   ],
   "source": [
    "! gcloud builds submit --config src/cloudbuild.yaml \\\n",
    "    --substitutions _DOCKERNAME=$DOCKERNAME,_IMAGE_URI=$IMAGE_URI,_FILE_LOCATION=$FILE_LOCATION \\\n",
    "    --timeout=2h \\\n",
    "    --machine-type=$MACHINE_TYPE"
   ]
  },
  {
   "cell_type": "markdown",
   "id": "0c45c7a0-c35e-4d60-9b70-e020e82402ab",
   "metadata": {},
   "source": [
    "## Prepare Train Job Specs"
   ]
  },
  {
   "cell_type": "code",
   "execution_count": 25,
   "id": "2de1584f-70a0-46d4-be98-c97efda389ef",
   "metadata": {},
   "outputs": [
    {
     "name": "stdout",
     "output_type": "stream",
     "text": [
      "Copying gs://jt-tfrs-central-v3/customjob-test-trainerv2/run-20230222-225502/vocab_dict.pkl...\n",
      "/ [1 files][ 18.5 MiB/ 18.5 MiB]                                                \n",
      "Operation completed over 1 objects/18.5 MiB.                                     \n"
     ]
    }
   ],
   "source": [
    "VOCAB_GCS ='gs://jt-tfrs-central-v3/customjob-test-trainerv2/run-20230222-225502/vocab_dict.pkl'\n",
    "!gsutil cp $VOCAB_GCS vocab_dict_jt.pkl"
   ]
  },
  {
   "cell_type": "code",
   "execution_count": 26,
   "id": "03bbe4be-68ed-4084-b4cd-eee9a311da58",
   "metadata": {},
   "outputs": [],
   "source": [
    "filehandler = open('vocab_dict_jt.pkl', 'rb')\n",
    "vocab_dict = pkl.load(filehandler)\n",
    "filehandler.close()"
   ]
  },
  {
   "cell_type": "code",
   "execution_count": 27,
   "id": "d9dfaf03-9b67-438d-bcd6-131a75d9d51d",
   "metadata": {},
   "outputs": [
    {
     "name": "stdout",
     "output_type": "stream",
     "text": [
      "pl_name_src\n",
      "track_name_pl\n",
      "artist_name_pl\n",
      "album_name_pl\n",
      "artist_genres_pl\n",
      "tracks_playlist_titles_pl\n",
      "track_name_can\n",
      "artist_name_can\n",
      "album_name_can\n",
      "artist_genres_can\n",
      "track_pl_titles_can\n"
     ]
    }
   ],
   "source": [
    "for keys in vocab_dict:\n",
    "    print(keys)"
   ]
  },
  {
   "cell_type": "markdown",
   "id": "aa482a72-54a8-4ef0-9fbc-de576b18443e",
   "metadata": {},
   "source": [
    "### Training Accelerators"
   ]
  },
  {
   "cell_type": "code",
   "execution_count": 28,
   "id": "7e0ce8e9-6f25-49ec-a1ae-a287dfd0b58d",
   "metadata": {},
   "outputs": [],
   "source": [
    "WORKER_MACHINE_TYPE = 'a2-highgpu-1g'\n",
    "REPLICA_COUNT = 1\n",
    "ACCELERATOR_TYPE = 'NVIDIA_TESLA_A100'\n",
    "PER_MACHINE_ACCELERATOR_COUNT = 1\n",
    "REDUCTION_SERVER_COUNT = 0                                                      \n",
    "REDUCTION_SERVER_MACHINE_TYPE = \"n1-highcpu-16\"\n",
    "DISTRIBUTE_STRATEGY = 'single'"
   ]
  },
  {
   "cell_type": "markdown",
   "id": "d0d132c8-c958-4b3c-a4df-ae56f24ecefc",
   "metadata": {},
   "source": [
    "## Vertex Experiments"
   ]
  },
  {
   "cell_type": "markdown",
   "id": "18fa718a-1d12-4921-b1ca-9dae7b7cb661",
   "metadata": {},
   "source": [
    "### Create an experiemnt and experiment run"
   ]
  },
  {
   "cell_type": "code",
   "execution_count": 29,
   "id": "b87a2c89-08c9-4b52-8f25-bfa60a92b82e",
   "metadata": {},
   "outputs": [
    {
     "name": "stdout",
     "output_type": "stream",
     "text": [
      "EXPERIMENT_NAME: customtest5-trainerv3\n",
      "RUN_NAME: run-20230321-005425\n"
     ]
    }
   ],
   "source": [
    "EXPERIMENT_PREFIX = 'customtest5'                     # custom identifier for organizing experiments\n",
    "EXPERIMENT_NAME=f'{EXPERIMENT_PREFIX}-{VERSION}'\n",
    "RUN_NAME = f'run-{time.strftime(\"%Y%m%d-%H%M%S\")}'\n",
    "\n",
    "print(f\"EXPERIMENT_NAME: {EXPERIMENT_NAME}\")\n",
    "print(f\"RUN_NAME: {RUN_NAME}\")"
   ]
  },
  {
   "cell_type": "markdown",
   "id": "e934b4be-dd2a-48ff-84de-be9525b741ac",
   "metadata": {},
   "source": [
    "### Create Managed TensorBoard"
   ]
  },
  {
   "cell_type": "code",
   "execution_count": 30,
   "id": "e6952007-ed86-4e41-bffb-59b27107dcc6",
   "metadata": {},
   "outputs": [
    {
     "name": "stdout",
     "output_type": "stream",
     "text": [
      "TB_RESOURCE_NAME: projects/934903580331/locations/us-central1/tensorboards/1365127248767614976\n",
      "TB display name: customtest5-trainerv3-v1\n"
     ]
    }
   ],
   "source": [
    "# use existing TB instance\n",
    "# TB_RESOURCE_NAME = 'projects/934903580331/locations/us-central1/tensorboards/6924469145035603968'\n",
    "\n",
    "# # create new TB instance\n",
    "TENSORBOARD_DISPLAY_NAME=f\"{EXPERIMENT_NAME}-v1\"\n",
    "tensorboard = vertex_ai.Tensorboard.create(display_name=TENSORBOARD_DISPLAY_NAME, project=PROJECT_ID, location=REGION)\n",
    "TB_RESOURCE_NAME = tensorboard.resource_name\n",
    "\n",
    "\n",
    "print(f\"TB_RESOURCE_NAME: {TB_RESOURCE_NAME}\")\n",
    "print(f\"TB display name: {tensorboard.display_name}\")"
   ]
  },
  {
   "cell_type": "markdown",
   "id": "c5a4cf3b-0e59-4604-96fa-8b658057bc04",
   "metadata": {},
   "source": [
    "## Training config"
   ]
  },
  {
   "cell_type": "code",
   "execution_count": 31,
   "id": "3cb06e80-175e-45df-8f33-89f85987e766",
   "metadata": {},
   "outputs": [],
   "source": [
    "SEED = 1234\n",
    "\n",
    "# =================================================\n",
    "# trainconfig: GPU related\n",
    "# =================================================\n",
    "TF_GPU_THREAD_COUNT='8'      # '1' | '4' | '8'\n",
    "\n",
    "# =================================================\n",
    "# trainconfig: data input pipeline\n",
    "# =================================================\n",
    "BLOCK_LENGTH = 64            # 1, 8, 16, 32, 64\n",
    "NUM_DATA_SHARDS = 4          # 2, 4, 8, 16, 32, 64\n",
    "# TRAIN_PREFETCH=3\n",
    "\n",
    "# =================================================\n",
    "# trainconfig: training hparams\n",
    "# =================================================\n",
    "NUM_EPOCHS = 8\n",
    "LEARNING_RATE = 0.01\n",
    "BATCH_SIZE = 8192           # 4096, 2048, 1024, 512 \n",
    "\n",
    "# dropout\n",
    "DROPOUT_RATE = 0.33\n",
    "\n",
    "# model size\n",
    "EMBEDDING_DIM = 128\n",
    "PROJECTION_DIM = 50\n",
    "LAYER_SIZES = '[512,256,128]'\n",
    "MAX_TOKENS = 20000     # vocab\n",
    "\n",
    "# =================================================\n",
    "# trainconfig: tensorboard\n",
    "# =================================================\n",
    "EMBED_FREQUENCY=0\n",
    "HISTOGRAM_FREQUENCY=0\n",
    "CHECKPOINT_FREQ='epoch'"
   ]
  },
  {
   "cell_type": "code",
   "execution_count": 32,
   "id": "9e0a3d78-0570-49fd-a2ae-018375f82ce1",
   "metadata": {},
   "outputs": [
    {
     "name": "stdout",
     "output_type": "stream",
     "text": [
      "VALID_STEPS: 10\n",
      "EPOCH_STEPS: 1001\n"
     ]
    }
   ],
   "source": [
    "# =================================================\n",
    "# trainconfig: train & valid steps\n",
    "# =================================================\n",
    "train_sample_cnt = 8_205_265 # 8_205_265\n",
    "valid_samples_cnt = 82_959\n",
    "\n",
    "# validation & evaluation\n",
    "VALID_FREQUENCY = 20\n",
    "VALID_STEPS = valid_samples_cnt // BATCH_SIZE # 100\n",
    "EPOCH_STEPS = train_sample_cnt // BATCH_SIZE\n",
    "\n",
    "print(f\"VALID_STEPS: {VALID_STEPS}\")\n",
    "print(f\"EPOCH_STEPS: {EPOCH_STEPS}\")"
   ]
  },
  {
   "cell_type": "markdown",
   "id": "c01dd24f-3005-4fa2-ac03-65d97cb3d001",
   "metadata": {},
   "source": [
    "### data sources"
   ]
  },
  {
   "cell_type": "code",
   "execution_count": 33,
   "id": "f39edd30-6c16-4dc6-9381-9a2cdbf14c23",
   "metadata": {},
   "outputs": [],
   "source": [
    "# =================================================\n",
    "# trainconfig: gcs locations\n",
    "# =================================================\n",
    "OUTPUT_BUCKET = 'jt-tfrs-central-v3' # TODO: change this\n",
    "OUTPUT_GCS_URI =f'gs://{OUTPUT_BUCKET}'\n",
    "\n",
    "# =================================================\n",
    "# trainconfig: Data sources\n",
    "# =================================================\n",
    "# BUCKET_DATA_DIR = 'spotify-data-regimes' \n",
    "\n",
    "# # data strategy: 08m\n",
    "# CANDIDATE_PREFIX = 'jtv15-8m/candidates'\n",
    "# TRAIN_DIR_PREFIX = 'jtv15-8m/train'     # train | train_v14\n",
    "# VALID_DIR_PREFIX = 'jtv15-8m/valid'     # valid_v14\n",
    "\n",
    "BUCKET_DATA_DIR = 'matching-engine-content'\n",
    "DATA_VERSION = 'v1-0-0'\n",
    "\n",
    "TRAIN_DIR_PREFIX = f'{DATA_VERSION}/train' # subset: valid_v9 | train_v9\n",
    "VALID_DIR_PREFIX = f'{DATA_VERSION}/valid' # valid_v9 | train_v9\n",
    "CANDIDATE_PREFIX = f'{DATA_VERSION}/candidates' "
   ]
  },
  {
   "cell_type": "markdown",
   "id": "2862f6a6-11f5-44be-ac64-a3cd0e8a6ed1",
   "metadata": {},
   "source": [
    "### training args"
   ]
  },
  {
   "cell_type": "code",
   "execution_count": 34,
   "id": "651cc211-4660-406d-a586-5e60ebfeb805",
   "metadata": {},
   "outputs": [],
   "source": [
    "WORKER_CMD = [\"python\", \"two_tower_jt/task.py\"]\n",
    "# WORKER_CMD [\"python\", \"-m\", \"trainer.task\"]\n",
    "\n",
    "WORKER_ARGS = [\n",
    "    f'--project={PROJECT_ID}',\n",
    "    f'--train_output_gcs_bucket={OUTPUT_BUCKET}',\n",
    "    f'--train_dir={BUCKET_DATA_DIR}',\n",
    "    f'--train_dir_prefix={TRAIN_DIR_PREFIX}',\n",
    "    f'--valid_dir={BUCKET_DATA_DIR}',\n",
    "    f'--valid_dir_prefix={VALID_DIR_PREFIX}',\n",
    "    f'--candidate_file_dir={BUCKET_DATA_DIR}',\n",
    "    f'--candidate_files_prefix={CANDIDATE_PREFIX}',\n",
    "    f'--experiment_name={EXPERIMENT_NAME}',\n",
    "    f'--experiment_run={RUN_NAME}',\n",
    "    f'--num_epochs={NUM_EPOCHS}',\n",
    "    f'--batch_size={BATCH_SIZE}',\n",
    "    f'--embedding_dim={EMBEDDING_DIM}',\n",
    "    f'--projection_dim={PROJECTION_DIM}',\n",
    "    f'--layer_sizes={LAYER_SIZES}',\n",
    "    f'--learning_rate={LEARNING_RATE}',\n",
    "    f'--valid_frequency={VALID_FREQUENCY}',\n",
    "    f'--valid_steps={VALID_STEPS}',\n",
    "    f'--epoch_steps={EPOCH_STEPS}',\n",
    "    f'--distribute={DISTRIBUTE_STRATEGY}',\n",
    "    f'--model_version={VERSION}',\n",
    "    f'--pipeline_version={VERSION}',\n",
    "    f'--seed={SEED}',\n",
    "    f'--max_tokens={MAX_TOKENS}',\n",
    "    f'--tb_resource_name={TB_RESOURCE_NAME}',\n",
    "    f'--embed_frequency={EMBED_FREQUENCY}',\n",
    "    f'--hist_frequency={HISTOGRAM_FREQUENCY}',\n",
    "    f'--tf_gpu_thread_count={TF_GPU_THREAD_COUNT}',\n",
    "    f'--block_length={BLOCK_LENGTH}',\n",
    "    f'--num_data_shards={NUM_DATA_SHARDS}',\n",
    "    f'--chkpt_freq={CHECKPOINT_FREQ}',\n",
    "    f'--dropout_rate={DROPOUT_RATE}',\n",
    "    # uncomment these to pass value of True (bool)\n",
    "    f'--cache_train',                                # caches train_dataset\n",
    "    # f'--evaluate_model',                           # runs model.eval()\n",
    "    # f'--write_embeddings',                         # writes embeddings index in train job\n",
    "    f'--profiler',                                   # runs TB profiler\n",
    "    # f'--set_jit',                                  # enables XLA\n",
    "    f'--compute_batch_metrics',\n",
    "    f'--use_cross_layer',\n",
    "    f'--use_dropout',\n",
    "]\n"
   ]
  },
  {
   "cell_type": "code",
   "execution_count": 35,
   "id": "354feb4e-43c7-4238-9d4c-8a37b6278a62",
   "metadata": {},
   "outputs": [
    {
     "name": "stdout",
     "output_type": "stream",
     "text": [
      "[{'container_spec': {'args': ['--project=hybrid-vertex',\n",
      "                              '--train_output_gcs_bucket=jt-tfrs-central-v3',\n",
      "                              '--train_dir=matching-engine-content',\n",
      "                              '--train_dir_prefix=v1-0-0/train',\n",
      "                              '--valid_dir=matching-engine-content',\n",
      "                              '--valid_dir_prefix=v1-0-0/valid',\n",
      "                              '--candidate_file_dir=matching-engine-content',\n",
      "                              '--candidate_files_prefix=v1-0-0/candidates',\n",
      "                              '--experiment_name=customtest5-trainerv3',\n",
      "                              '--experiment_run=run-20230321-005425',\n",
      "                              '--num_epochs=8',\n",
      "                              '--batch_size=8192',\n",
      "                              '--embedding_dim=128',\n",
      "                              '--projection_dim=50',\n",
      "                              '--layer_sizes=[512,256,128]',\n",
      "                              '--learning_rate=0.01',\n",
      "                              '--valid_frequency=20',\n",
      "                              '--valid_steps=10',\n",
      "                              '--epoch_steps=1001',\n",
      "                              '--distribute=single',\n",
      "                              '--model_version=trainerv3',\n",
      "                              '--pipeline_version=trainerv3',\n",
      "                              '--seed=1234',\n",
      "                              '--max_tokens=20000',\n",
      "                              '--tb_resource_name=projects/934903580331/locations/us-central1/tensorboards/1365127248767614976',\n",
      "                              '--embed_frequency=0',\n",
      "                              '--hist_frequency=0',\n",
      "                              '--tf_gpu_thread_count=8',\n",
      "                              '--block_length=64',\n",
      "                              '--num_data_shards=4',\n",
      "                              '--chkpt_freq=epoch',\n",
      "                              '--dropout_rate=0.33',\n",
      "                              '--cache_train',\n",
      "                              '--profiler',\n",
      "                              '--compute_batch_metrics',\n",
      "                              '--use_cross_layer',\n",
      "                              '--use_dropout'],\n",
      "                     'command': ['python', 'two_tower_jt/task.py'],\n",
      "                     'image_uri': 'gcr.io/hybrid-vertex/sp-2tower-tfrs-trainerv3-tr'},\n",
      "  'machine_spec': {'accelerator_count': 1,\n",
      "                   'accelerator_type': 'NVIDIA_TESLA_A100',\n",
      "                   'machine_type': 'a2-highgpu-1g'},\n",
      "  'replica_count': 1}]\n"
     ]
    }
   ],
   "source": [
    "from util import workerpool_specs\n",
    "\n",
    "WORKER_POOL_SPECS = workerpool_specs.prepare_worker_pool_specs(\n",
    "    image_uri=IMAGE_URI,\n",
    "    args=WORKER_ARGS,\n",
    "    cmd=WORKER_CMD,\n",
    "    replica_count=REPLICA_COUNT,\n",
    "    machine_type=WORKER_MACHINE_TYPE,\n",
    "    accelerator_count=PER_MACHINE_ACCELERATOR_COUNT,\n",
    "    accelerator_type=ACCELERATOR_TYPE,\n",
    "    reduction_server_count=REDUCTION_SERVER_COUNT,\n",
    "    reduction_server_machine_type=REDUCTION_SERVER_MACHINE_TYPE,\n",
    ")\n",
    "\n",
    "from pprint import pprint\n",
    "pprint(WORKER_POOL_SPECS)"
   ]
  },
  {
   "cell_type": "markdown",
   "id": "d79957d8-b9f4-4c64-86df-908ad5a03bbd",
   "metadata": {},
   "source": [
    "### copy training package to GCS"
   ]
  },
  {
   "cell_type": "code",
   "execution_count": 36,
   "id": "5f034f37-89cc-41aa-ba3d-f648f924db07",
   "metadata": {},
   "outputs": [
    {
     "name": "stdout",
     "output_type": "stream",
     "text": [
      "Copying file://src/cloudbuild.yaml [Content-Type=application/octet-stream]...\n",
      "/ [1 files][  178.0 B/  178.0 B]                                                \n",
      "Operation completed over 1 objects/178.0 B.                                      \n",
      "Copying file://src/Dockerfile.tfrs [Content-Type=application/octet-stream]...\n",
      "/ [1 files][  282.0 B/  282.0 B]                                                \n",
      "Operation completed over 1 objects/282.0 B.                                      \n",
      "Copying file://vocab_dict.pkl [Content-Type=application/octet-stream]...\n",
      "/ [1 files][ 18.5 MiB/ 18.5 MiB]                                                \n",
      "Operation completed over 1 objects/18.5 MiB.                                     \n",
      "Copying file://src/two_tower_jt/__init__.py [Content-Type=text/x-python]...\n",
      "Copying file://src/two_tower_jt/data-pipeline.py [Content-Type=text/x-python]...\n",
      "Copying file://src/two_tower_jt/interactive_train.py [Content-Type=text/x-python]...\n",
      "Copying file://src/two_tower_jt/requirements.txt [Content-Type=text/plain]...   \n",
      "Copying file://src/two_tower_jt/task.py [Content-Type=text/x-python]...         \n",
      "Copying file://src/two_tower_jt/test_instances.py [Content-Type=text/x-python]...\n",
      "Copying file://src/two_tower_jt/train_config.py [Content-Type=text/x-python]...\n",
      "Copying file://src/two_tower_jt/two_tower.py [Content-Type=text/x-python]...    \n",
      "Copying file://src/two_tower_jt/two_tower_lite.py [Content-Type=text/x-python]...\n",
      "/ [9/9 files][138.5 KiB/138.5 KiB] 100% Done                                    \n",
      "Operation completed over 9 objects/138.5 KiB.                                    \n",
      "\n",
      " Copied training package and Dockerfile to gs://jt-tfrs-central-v3/customtest5-trainerv3/run-20230321-005425\n",
      "\n"
     ]
    }
   ],
   "source": [
    "BASE_OUTPUT_DIR = f'gs://{OUTPUT_BUCKET}/{EXPERIMENT_NAME}/{RUN_NAME}'\n",
    "\n",
    "# copy training Dockerfile\n",
    "!gsutil cp $REPO_DOCKER_PATH_PREFIX/cloudbuild.yaml $BASE_OUTPUT_DIR/cloudbuild.yaml\n",
    "!gsutil cp $REPO_DOCKER_PATH_PREFIX/Dockerfile.tfrs $BASE_OUTPUT_DIR/Dockerfile.tfrs\n",
    "!gsutil cp vocab_dict.pkl $BASE_OUTPUT_DIR/vocab_dict.pkl\n",
    "\n",
    "# # # copy training application code\n",
    "! gsutil -m cp -r $REPO_DOCKER_PATH_PREFIX/two_tower_jt/* $BASE_OUTPUT_DIR/trainer\n",
    "\n",
    "print(f\"\\n Copied training package and Dockerfile to {BASE_OUTPUT_DIR}\\n\")"
   ]
  },
  {
   "cell_type": "markdown",
   "id": "556feb75-b1df-4a8d-a852-9e9be89f15fa",
   "metadata": {},
   "source": [
    "# submit Training job to Vertex AI"
   ]
  },
  {
   "cell_type": "code",
   "execution_count": 37,
   "id": "93b8a038-15b4-4a11-a458-e854f246d0e6",
   "metadata": {},
   "outputs": [],
   "source": [
    "vertex_ai.init(\n",
    "    project=PROJECT_ID,\n",
    "    location=REGION,\n",
    "    experiment=EXPERIMENT_NAME,\n",
    ")\n",
    "\n",
    "JOB_NAME = f'train-{VERSION}'"
   ]
  },
  {
   "cell_type": "code",
   "execution_count": 38,
   "id": "36104f63-a11c-44f5-8f4c-6ff87b6784e7",
   "metadata": {},
   "outputs": [],
   "source": [
    "job = vertex_ai.CustomJob(\n",
    "    display_name=JOB_NAME,\n",
    "    worker_pool_specs=WORKER_POOL_SPECS,\n",
    "    base_output_dir=BASE_OUTPUT_DIR,\n",
    "    staging_bucket=f\"{BASE_OUTPUT_DIR}/staging\",\n",
    ")"
   ]
  },
  {
   "cell_type": "code",
   "execution_count": 39,
   "id": "1132d226-6862-4458-87a1-972c8b6deeb6",
   "metadata": {},
   "outputs": [],
   "source": [
    "job.run(\n",
    "    tensorboard=TB_RESOURCE_NAME,\n",
    "    service_account=VERTEX_SA,\n",
    "    restart_job_on_worker_restart=False,\n",
    "    enable_web_access=True,\n",
    "    sync=False,\n",
    ")"
   ]
  },
  {
   "cell_type": "markdown",
   "id": "56675ff9-158e-486b-ad94-76a9c0fc0b0a",
   "metadata": {},
   "source": [
    "## TensorBoard Profiler"
   ]
  },
  {
   "cell_type": "markdown",
   "id": "d5fd5533-d364-45a6-b1de-2db034d6df6f",
   "metadata": {},
   "source": [
    "Once the profiler has uploaded trace logs to `BASE_OUTPUT_DIR/logs`, we can use the in-notebook tensoborad extension to view the profiler"
   ]
  },
  {
   "cell_type": "code",
   "execution_count": 34,
   "id": "33a58184-e0c4-4403-ad80-da5fdb7dbaed",
   "metadata": {},
   "outputs": [],
   "source": [
    "os.environ['TF_CPP_MIN_LOG_LEVEL'] = '2'\n",
    "\n",
    "import tensorflow as tf\n",
    "\n",
    "TB_LOGS_PATH = f'{BASE_OUTPUT_DIR}/logs' # "
   ]
  },
  {
   "cell_type": "code",
   "execution_count": 35,
   "id": "d432d552-4416-4f4c-964f-bcca57b60a07",
   "metadata": {},
   "outputs": [],
   "source": [
    "%load_ext tensorboard\n",
    "# %reload_ext tensorboard"
   ]
  },
  {
   "cell_type": "code",
   "execution_count": 36,
   "id": "171227db-d5f9-47e4-8b67-a528950233ab",
   "metadata": {},
   "outputs": [
    {
     "data": {
      "text/html": [
       "\n",
       "      <iframe id=\"tensorboard-frame-535181dc4fb6663b\" width=\"100%\" height=\"800\" frameborder=\"0\">\n",
       "      </iframe>\n",
       "      <script>\n",
       "        (function() {\n",
       "          const frame = document.getElementById(\"tensorboard-frame-535181dc4fb6663b\");\n",
       "          const url = new URL(\"/proxy/6006/\", window.location);\n",
       "          const port = 0;\n",
       "          if (port) {\n",
       "            url.port = port;\n",
       "          }\n",
       "          frame.src = url;\n",
       "        })();\n",
       "      </script>\n",
       "    "
      ],
      "text/plain": [
       "<IPython.core.display.HTML object>"
      ]
     },
     "metadata": {},
     "output_type": "display_data"
    }
   ],
   "source": [
    "%tensorboard --logdir=$TB_LOGS_PATH"
   ]
  },
  {
   "cell_type": "markdown",
   "id": "8341545a-cadf-448a-b746-c5f74e33e58c",
   "metadata": {},
   "source": [
    "# Notes"
   ]
  },
  {
   "cell_type": "code",
   "execution_count": null,
   "id": "48e2fe35-7abe-4d76-9189-c58c4b5c1026",
   "metadata": {},
   "outputs": [
    {
     "data": {
      "text/plain": [
       "\u001b[0;31mSignature:\u001b[0m\n",
       "\u001b[0mjob\u001b[0m\u001b[0;34m.\u001b[0m\u001b[0mrun\u001b[0m\u001b[0;34m(\u001b[0m\u001b[0;34m\u001b[0m\n",
       "\u001b[0;34m\u001b[0m    \u001b[0mservice_account\u001b[0m\u001b[0;34m:\u001b[0m \u001b[0mUnion\u001b[0m\u001b[0;34m[\u001b[0m\u001b[0mstr\u001b[0m\u001b[0;34m,\u001b[0m \u001b[0mNoneType\u001b[0m\u001b[0;34m]\u001b[0m \u001b[0;34m=\u001b[0m \u001b[0;32mNone\u001b[0m\u001b[0;34m,\u001b[0m\u001b[0;34m\u001b[0m\n",
       "\u001b[0;34m\u001b[0m    \u001b[0mnetwork\u001b[0m\u001b[0;34m:\u001b[0m \u001b[0mUnion\u001b[0m\u001b[0;34m[\u001b[0m\u001b[0mstr\u001b[0m\u001b[0;34m,\u001b[0m \u001b[0mNoneType\u001b[0m\u001b[0;34m]\u001b[0m \u001b[0;34m=\u001b[0m \u001b[0;32mNone\u001b[0m\u001b[0;34m,\u001b[0m\u001b[0;34m\u001b[0m\n",
       "\u001b[0;34m\u001b[0m    \u001b[0mtimeout\u001b[0m\u001b[0;34m:\u001b[0m \u001b[0mUnion\u001b[0m\u001b[0;34m[\u001b[0m\u001b[0mint\u001b[0m\u001b[0;34m,\u001b[0m \u001b[0mNoneType\u001b[0m\u001b[0;34m]\u001b[0m \u001b[0;34m=\u001b[0m \u001b[0;32mNone\u001b[0m\u001b[0;34m,\u001b[0m\u001b[0;34m\u001b[0m\n",
       "\u001b[0;34m\u001b[0m    \u001b[0mrestart_job_on_worker_restart\u001b[0m\u001b[0;34m:\u001b[0m \u001b[0mbool\u001b[0m \u001b[0;34m=\u001b[0m \u001b[0;32mFalse\u001b[0m\u001b[0;34m,\u001b[0m\u001b[0;34m\u001b[0m\n",
       "\u001b[0;34m\u001b[0m    \u001b[0menable_web_access\u001b[0m\u001b[0;34m:\u001b[0m \u001b[0mbool\u001b[0m \u001b[0;34m=\u001b[0m \u001b[0;32mFalse\u001b[0m\u001b[0;34m,\u001b[0m\u001b[0;34m\u001b[0m\n",
       "\u001b[0;34m\u001b[0m    \u001b[0mtensorboard\u001b[0m\u001b[0;34m:\u001b[0m \u001b[0mUnion\u001b[0m\u001b[0;34m[\u001b[0m\u001b[0mstr\u001b[0m\u001b[0;34m,\u001b[0m \u001b[0mNoneType\u001b[0m\u001b[0;34m]\u001b[0m \u001b[0;34m=\u001b[0m \u001b[0;32mNone\u001b[0m\u001b[0;34m,\u001b[0m\u001b[0;34m\u001b[0m\n",
       "\u001b[0;34m\u001b[0m    \u001b[0msync\u001b[0m\u001b[0;34m:\u001b[0m \u001b[0mbool\u001b[0m \u001b[0;34m=\u001b[0m \u001b[0;32mTrue\u001b[0m\u001b[0;34m,\u001b[0m\u001b[0;34m\u001b[0m\n",
       "\u001b[0;34m\u001b[0m    \u001b[0mcreate_request_timeout\u001b[0m\u001b[0;34m:\u001b[0m \u001b[0mUnion\u001b[0m\u001b[0;34m[\u001b[0m\u001b[0mfloat\u001b[0m\u001b[0;34m,\u001b[0m \u001b[0mNoneType\u001b[0m\u001b[0;34m]\u001b[0m \u001b[0;34m=\u001b[0m \u001b[0;32mNone\u001b[0m\u001b[0;34m,\u001b[0m\u001b[0;34m\u001b[0m\n",
       "\u001b[0;34m\u001b[0m\u001b[0;34m)\u001b[0m \u001b[0;34m->\u001b[0m \u001b[0;32mNone\u001b[0m\u001b[0;34m\u001b[0m\u001b[0;34m\u001b[0m\u001b[0m\n",
       "\u001b[0;31mDocstring:\u001b[0m\n",
       "Run this configured CustomJob.\n",
       "\n",
       "Args:\n",
       "    service_account (str):\n",
       "        Optional. Specifies the service account for workload run-as account.\n",
       "        Users submitting jobs must have act-as permission on this run-as account.\n",
       "    network (str):\n",
       "        Optional. The full name of the Compute Engine network to which the job\n",
       "        should be peered. For example, projects/12345/global/networks/myVPC.\n",
       "        Private services access must already be configured for the network.\n",
       "        If left unspecified, the job is not peered with any network.\n",
       "    timeout (int):\n",
       "        The maximum job running time in seconds. The default is 7 days.\n",
       "    restart_job_on_worker_restart (bool):\n",
       "        Restarts the entire CustomJob if a worker\n",
       "        gets restarted. This feature can be used by\n",
       "        distributed training jobs that are not resilient\n",
       "        to workers leaving and joining a job.\n",
       "    enable_web_access (bool):\n",
       "        Whether you want Vertex AI to enable interactive shell access\n",
       "        to training containers.\n",
       "        https://cloud.google.com/vertex-ai/docs/training/monitor-debug-interactive-shell\n",
       "    tensorboard (str):\n",
       "        Optional. The name of a Vertex AI\n",
       "        [Tensorboard][google.cloud.aiplatform.v1beta1.Tensorboard]\n",
       "        resource to which this CustomJob will upload Tensorboard\n",
       "        logs. Format:\n",
       "        ``projects/{project}/locations/{location}/tensorboards/{tensorboard}``\n",
       "\n",
       "        The training script should write Tensorboard to following Vertex AI environment\n",
       "        variable:\n",
       "\n",
       "        AIP_TENSORBOARD_LOG_DIR\n",
       "\n",
       "        `service_account` is required with provided `tensorboard`.\n",
       "        For more information on configuring your service account please visit:\n",
       "        https://cloud.google.com/vertex-ai/docs/experiments/tensorboard-training\n",
       "    sync (bool):\n",
       "        Whether to execute this method synchronously. If False, this method\n",
       "        will unblock and it will be executed in a concurrent Future.\n",
       "    create_request_timeout (float):\n",
       "        Optional. The timeout for the create request in seconds.\n",
       "\u001b[0;31mFile:\u001b[0m      /opt/conda/lib/python3.7/site-packages/google/cloud/aiplatform/jobs.py\n",
       "\u001b[0;31mType:\u001b[0m      method\n"
      ]
     },
     "metadata": {},
     "output_type": "display_data"
    }
   ],
   "source": [
    "?job.run"
   ]
  },
  {
   "cell_type": "code",
   "execution_count": null,
   "id": "24e0ce91-a30a-474c-9f85-07a4ce6dde6a",
   "metadata": {},
   "outputs": [],
   "source": []
  }
 ],
 "metadata": {
  "environment": {
   "kernel": "python3",
   "name": "tf2-gpu.2-10.m103",
   "type": "gcloud",
   "uri": "gcr.io/deeplearning-platform-release/tf2-gpu.2-10:m103"
  },
  "kernelspec": {
   "display_name": "Python 3 (ipykernel)",
   "language": "python",
   "name": "python3"
  },
  "language_info": {
   "codemirror_mode": {
    "name": "ipython",
    "version": 3
   },
   "file_extension": ".py",
   "mimetype": "text/x-python",
   "name": "python",
   "nbconvert_exporter": "python",
   "pygments_lexer": "ipython3",
   "version": "3.7.12"
  }
 },
 "nbformat": 4,
 "nbformat_minor": 5
}
