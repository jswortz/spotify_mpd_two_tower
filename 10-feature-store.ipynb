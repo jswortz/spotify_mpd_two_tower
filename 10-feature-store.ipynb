{
 "cells": [
  {
   "cell_type": "markdown",
   "id": "e11d179e-aed9-4830-9ab6-e1b57bdfff53",
   "metadata": {},
   "source": [
    "# Feature store for feature management and online serving"
   ]
  },
  {
   "cell_type": "markdown",
   "id": "6025d25e-2432-484e-88bc-69d07b4721f6",
   "metadata": {},
   "source": [
    "What is a feature store?\n",
    "The features generated are great examples of features that we can store the Vertex AI Feature Store. This is because:\n",
    "\n",
    "* The features are needed for real-time prediction\n",
    "* feature values in a feature store can be used for both training and serving\n",
    "* if needed, features can be shared with other use cases beyond fraud detection\n",
    "\n",
    "[Vertex AI Feature Store](https://cloud.google.com/vertex-ai/docs/featurestore) provides a centralized repository for organizing, storing, and serving ML features. Using a central featurestore enables an organization to efficiently share, discover, and re-use ML features at scale, which can increase the velocity of developing and deploying new ML applications."
   ]
  },
  {
   "cell_type": "markdown",
   "id": "df410059-bdb5-4858-b1bf-103aee27b413",
   "metadata": {},
   "source": [
    "## Load env config"
   ]
  },
  {
   "cell_type": "code",
   "execution_count": 1,
   "id": "1a5d72b6-0d46-4b2f-9ea5-db7c37e8c0e8",
   "metadata": {},
   "outputs": [
    {
     "name": "stdout",
     "output_type": "stream",
     "text": [
      "PREFIX = ndr-v1\n"
     ]
    }
   ],
   "source": [
    "# naming convention for all cloud resources\n",
    "VERSION        = \"v1\"                  # TODO\n",
    "PREFIX         = f'ndr-{VERSION}'      # TODO\n",
    "\n",
    "print(f\"PREFIX = {PREFIX}\")"
   ]
  },
  {
   "cell_type": "code",
   "execution_count": 2,
   "id": "5c2ea5a1-7349-41dc-be58-5ccd17a8efe4",
   "metadata": {},
   "outputs": [
    {
     "name": "stdout",
     "output_type": "stream",
     "text": [
      "\n",
      "PROJECT_ID               = \"hybrid-vertex\"\n",
      "PROJECT_NUM              = \"934903580331\"\n",
      "LOCATION                 = \"us-central1\"\n",
      "\n",
      "REGION                   = \"us-central1\"\n",
      "BQ_LOCATION              = \"US\"\n",
      "VPC_NETWORK_NAME         = \"ucaip-haystack-vpc-network\"\n",
      "\n",
      "VERTEX_SA                = \"934903580331-compute@developer.gserviceaccount.com\"\n",
      "\n",
      "PREFIX                   = \"ndr-v1\"\n",
      "VERSION                  = \"v1\"\n",
      "\n",
      "APP                      = \"sp\"\n",
      "MODEL_TYPE               = \"2tower\"\n",
      "FRAMEWORK                = \"tfrs\"\n",
      "DATA_VERSION             = \"v1\"\n",
      "TRACK_HISTORY            = \"5\"\n",
      "\n",
      "BUCKET_NAME              = \"ndr-v1-hybrid-vertex-bucket\"\n",
      "BUCKET_URI               = \"gs://ndr-v1-hybrid-vertex-bucket\"\n",
      "SOURCE_BUCKET            = \"spotify-million-playlist-dataset\"\n",
      "\n",
      "DATA_GCS_PREFIX          = \"data\"\n",
      "DATA_PATH                = \"gs://ndr-v1-hybrid-vertex-bucket/data\"\n",
      "VOCAB_SUBDIR             = \"vocabs\"\n",
      "VOCAB_FILENAME           = \"vocab_dict.pkl\"\n",
      "\n",
      "CANDIDATE_PREFIX         = \"candidates\"\n",
      "TRAIN_DIR_PREFIX         = \"train\"\n",
      "VALID_DIR_PREFIX         = \"valid\"\n",
      "\n",
      "VPC_NETWORK_FULL         = \"projects/934903580331/global/networks/ucaip-haystack-vpc-network\"\n",
      "\n",
      "BQ_DATASET               = \"spotify_e2e_test\"\n",
      "\n",
      "REPO_SRC                 = \"src\"\n",
      "PIPELINES_SUB_DIR        = \"feature_pipes\"\n",
      "\n",
      "REPOSITORY               = \"ndr-v1-spotify\"\n",
      "IMAGE_NAME               = \"train-v1\"\n",
      "REMOTE_IMAGE_NAME        = \"us-central1-docker.pkg.dev/hybrid-vertex/ndr-v1-spotify/train-v1\"\n",
      "DOCKERNAME               = \"tfrs\"\n",
      "\n",
      "SERVING_IMAGE_URI_CPU    = \"us-docker.pkg.dev/vertex-ai/prediction/tf2-cpu.2-11:latest\"\n",
      "SERVING_IMAGE_URI_GPU    = \"us-docker.pkg.dev/vertex-ai/prediction/tf2-gpu.2-11:latest\"\n",
      "\n"
     ]
    }
   ],
   "source": [
    "# staging GCS\n",
    "GCP_PROJECTS             = !gcloud config get-value project\n",
    "PROJECT_ID               = GCP_PROJECTS[0]\n",
    "\n",
    "# GCS bucket and paths\n",
    "BUCKET_NAME              = f'{PREFIX}-{PROJECT_ID}-bucket'\n",
    "BUCKET_URI               = f'gs://{BUCKET_NAME}'\n",
    "\n",
    "config = !gsutil cat {BUCKET_URI}/config/notebook_env.py\n",
    "print(config.n)\n",
    "exec(config.n)"
   ]
  },
  {
   "cell_type": "markdown",
   "id": "98e0d88c-4163-47ad-949f-3ac283b43d6e",
   "metadata": {},
   "source": [
    "## Imports"
   ]
  },
  {
   "cell_type": "code",
   "execution_count": 3,
   "id": "aa8d7e47-9163-4b90-90a0-9e4e882356ee",
   "metadata": {},
   "outputs": [],
   "source": [
    "import os\n",
    "\n",
    "os.environ['TF_CPP_MIN_LOG_LEVEL'] = '2' "
   ]
  },
  {
   "cell_type": "code",
   "execution_count": 4,
   "id": "b09ca1f5-3ce4-4543-bf83-308e16c2ea60",
   "metadata": {},
   "outputs": [],
   "source": [
    "import json\n",
    "import time\n",
    "import logging\n",
    "import pandas as pd\n",
    "import pickle as pkl\n",
    "from pprint import pprint\n",
    "from typing import List, Union\n",
    "from datetime import datetime, timedelta\n",
    "\n",
    "logging.disable(logging.WARNING)\n",
    "\n",
    "# tensorflow\n",
    "import tensorflow as tf\n",
    "import tensorflow_recommenders as tfrs\n",
    "\n",
    "# google cloud SDKs\n",
    "from google.cloud import storage\n",
    "from google.cloud import bigquery\n",
    "from google.cloud import aiplatform as vertex_ai\n",
    "from google.cloud.aiplatform import EntityType, Feature, Featurestore\n",
    "\n",
    "# this repo\n",
    "from util import feature_set_utils as feature_utils"
   ]
  },
  {
   "cell_type": "code",
   "execution_count": 5,
   "id": "5f1be514-97b9-4524-ba24-fe922caea35f",
   "metadata": {},
   "outputs": [],
   "source": [
    "vertex_ai.init(project=PROJECT_ID, location=REGION, staging_bucket=BUCKET_NAME)\n",
    "\n",
    "storage_client = storage.Client(project=PROJECT_ID)\n",
    "\n",
    "bq_client = bigquery.Client(project=PROJECT_ID, location=BQ_LOCATION)"
   ]
  },
  {
   "cell_type": "markdown",
   "id": "3bc81907-d15e-480f-86d4-964108bbfb8e",
   "metadata": {},
   "source": [
    "## Helper Function"
   ]
  },
  {
   "cell_type": "code",
   "execution_count": 6,
   "id": "e5b69b5f-6641-4d60-a74d-11e882fd5a0a",
   "metadata": {},
   "outputs": [],
   "source": [
    "def run_bq_query(sql: str, show=False) -> Union[str, pd.DataFrame]:\n",
    "    \"\"\"\n",
    "    Run a BigQuery query and return the job ID or result as a DataFrame\n",
    "    Args:\n",
    "        sql: SQL query, as a string, to execute in BigQuery\n",
    "        show: A flag to show query result in a Pandas Dataframe\n",
    "    Returns:\n",
    "        df: DataFrame of results from query,  or error, if any\n",
    "    \"\"\"\n",
    "\n",
    "    # bq_client = bigquery.Client()\n",
    "\n",
    "    # Try dry run before executing query to catch any errors\n",
    "    job_config = bigquery.QueryJobConfig(dry_run=True, use_query_cache=False)\n",
    "    bq_client.query(sql, job_config=job_config)\n",
    "\n",
    "    # If dry run succeeds without errors, proceed to run query\n",
    "    job_config = bigquery.QueryJobConfig()\n",
    "    client_result = bq_client.query(sql, job_config=job_config)\n",
    "\n",
    "    job_id = client_result.job_id\n",
    "\n",
    "    # Wait for query/job to finish running. then get & return data frame\n",
    "    result = client_result.result()\n",
    "    print(f\"Finished job_id: {job_id}\")\n",
    "    \n",
    "    if show:\n",
    "        df = result.to_arrow().to_pandas()\n",
    "        return df"
   ]
  },
  {
   "cell_type": "markdown",
   "id": "004f9869-0640-4f20-9a47-689ed10332e0",
   "metadata": {},
   "source": [
    "## Create Candidate Track Feature table in BigQuery"
   ]
  },
  {
   "cell_type": "markdown",
   "id": "7ff88a39-7263-4fdb-8731-4b6bffeb6a0a",
   "metadata": {},
   "source": [
    "For batch ingestions, Vertex AI Feature Store requires user-provided timestamps for the ingested feature values. You can specify a particular timestamp for each value or specify the same timestamp for all values:\n",
    "\n",
    "* If the timestamps for feature values are different, specify the timestamps in a column in your source data. Each row must have its own timestamp indicating when the feature value was generated. In your ingestion request, you specify the column name to identify the timestamp column.\n",
    "* If the timestamp for all feature values is the same, you can specify it as a parameter in your ingestion request. You can also specify the timestamp in a column in your source data, where each row has the same timestamp."
   ]
  },
  {
   "cell_type": "code",
   "execution_count": 7,
   "id": "5d06d932-f59d-42fa-8c15-207282d9bd71",
   "metadata": {},
   "outputs": [],
   "source": [
    "candidate_files = []\n",
    "\n",
    "for blob in storage_client.list_blobs(f\"{BUCKET_NAME}\", prefix=f'data/{DATA_VERSION}/{CANDIDATE_PREFIX}'):\n",
    "    candidate_files.append(blob.public_url.replace(\"https://storage.googleapis.com/\", \"gs://\"))\n",
    "\n",
    "candidate_dataset = tf.data.TFRecordDataset(candidate_files)\n",
    "\n",
    "parsed_candidate_dataset = candidate_dataset.map(feature_utils.parse_candidate_tfrecord_fn)\n",
    "\n",
    "# for x in parsed_candidate_dataset.batch(1).take(1):\n",
    "#     pprint(x)"
   ]
  },
  {
   "cell_type": "code",
   "execution_count": 8,
   "id": "aeb5aaa8-b375-42b4-a173-2a4a84f68d0d",
   "metadata": {},
   "outputs": [
    {
     "data": {
      "text/plain": [
       "{'track_uri_can': FixedLenFeature(shape=(), dtype=tf.string, default_value=None),\n",
       " 'track_name_can': FixedLenFeature(shape=(), dtype=tf.string, default_value=None),\n",
       " 'artist_uri_can': FixedLenFeature(shape=(), dtype=tf.string, default_value=None),\n",
       " 'artist_name_can': FixedLenFeature(shape=(), dtype=tf.string, default_value=None),\n",
       " 'album_uri_can': FixedLenFeature(shape=(), dtype=tf.string, default_value=None),\n",
       " 'album_name_can': FixedLenFeature(shape=(), dtype=tf.string, default_value=None),\n",
       " 'duration_ms_can': FixedLenFeature(shape=(), dtype=tf.float32, default_value=None),\n",
       " 'track_pop_can': FixedLenFeature(shape=(), dtype=tf.float32, default_value=None),\n",
       " 'artist_pop_can': FixedLenFeature(shape=(), dtype=tf.float32, default_value=None),\n",
       " 'artist_genres_can': FixedLenFeature(shape=(), dtype=tf.string, default_value=None),\n",
       " 'artist_followers_can': FixedLenFeature(shape=(), dtype=tf.float32, default_value=None),\n",
       " 'track_danceability_can': FixedLenFeature(shape=(), dtype=tf.float32, default_value=None),\n",
       " 'track_energy_can': FixedLenFeature(shape=(), dtype=tf.float32, default_value=None),\n",
       " 'track_key_can': FixedLenFeature(shape=(), dtype=tf.string, default_value=None),\n",
       " 'track_loudness_can': FixedLenFeature(shape=(), dtype=tf.float32, default_value=None),\n",
       " 'track_mode_can': FixedLenFeature(shape=(), dtype=tf.string, default_value=None),\n",
       " 'track_speechiness_can': FixedLenFeature(shape=(), dtype=tf.float32, default_value=None),\n",
       " 'track_acousticness_can': FixedLenFeature(shape=(), dtype=tf.float32, default_value=None),\n",
       " 'track_instrumentalness_can': FixedLenFeature(shape=(), dtype=tf.float32, default_value=None),\n",
       " 'track_liveness_can': FixedLenFeature(shape=(), dtype=tf.float32, default_value=None),\n",
       " 'track_valence_can': FixedLenFeature(shape=(), dtype=tf.float32, default_value=None),\n",
       " 'track_tempo_can': FixedLenFeature(shape=(), dtype=tf.float32, default_value=None),\n",
       " 'track_time_signature_can': FixedLenFeature(shape=(), dtype=tf.string, default_value=None)}"
      ]
     },
     "execution_count": 8,
     "metadata": {},
     "output_type": "execute_result"
    }
   ],
   "source": [
    "track_feature_dict = feature_utils.get_candidate_features()\n",
    "track_feature_dict"
   ]
  },
  {
   "cell_type": "code",
   "execution_count": 9,
   "id": "3e2a4f07-59c3-4fb7-82c4-5d8fa6092af5",
   "metadata": {},
   "outputs": [
    {
     "data": {
      "text/plain": [
       "['track_uri_can',\n",
       " 'track_name_can',\n",
       " 'artist_uri_can',\n",
       " 'artist_name_can',\n",
       " 'album_uri_can',\n",
       " 'album_name_can',\n",
       " 'duration_ms_can',\n",
       " 'track_pop_can',\n",
       " 'artist_pop_can',\n",
       " 'artist_genres_can',\n",
       " 'artist_followers_can',\n",
       " 'track_danceability_can',\n",
       " 'track_energy_can',\n",
       " 'track_key_can',\n",
       " 'track_loudness_can',\n",
       " 'track_mode_can',\n",
       " 'track_speechiness_can',\n",
       " 'track_acousticness_can',\n",
       " 'track_instrumentalness_can',\n",
       " 'track_liveness_can',\n",
       " 'track_valence_can',\n",
       " 'track_tempo_can',\n",
       " 'track_time_signature_can']"
      ]
     },
     "execution_count": 9,
     "metadata": {},
     "output_type": "execute_result"
    }
   ],
   "source": [
    "track_feature_names = list(track_feature_dict.keys())\n",
    "track_feature_names"
   ]
  },
  {
   "cell_type": "markdown",
   "id": "63c39fd6-d80d-435e-874d-bf5b276942bb",
   "metadata": {},
   "source": [
    "## Create query to create batch features (source BQ table)"
   ]
  },
  {
   "cell_type": "markdown",
   "id": "06c890a0-9a98-45dd-8d21-1338d3b28718",
   "metadata": {},
   "source": [
    "### tracks features"
   ]
  },
  {
   "cell_type": "code",
   "execution_count": 10,
   "id": "614b970e-1d42-48bb-be89-6fc513b9d909",
   "metadata": {},
   "outputs": [
    {
     "name": "stdout",
     "output_type": "stream",
     "text": [
      "TRACKS_SRC_BQ_TABLE_URI : hybrid-vertex.spotify_e2e_test.candidates\n",
      "TRACKS_FS_BQ_TABLE_URI  : hybrid-vertex.spotify_e2e_test.candidate_tracks_fs\n"
     ]
    }
   ],
   "source": [
    "# name of timestamp column\n",
    "TRACK_FEATURE_TIMESTAMP = \"feature_ts\"\n",
    "\n",
    "TRACKS_SRC_TABLE_NAME = \"candidates\"\n",
    "TRACKS_FS_TABLE_NAME  = \"candidate_tracks_fs\"\n",
    "\n",
    "TRACKS_SRC_BQ_TABLE_URI = f\"{PROJECT_ID}.{BQ_DATASET}.{TRACKS_SRC_TABLE_NAME}\"\n",
    "TRACKS_FS_BQ_TABLE_URI = f\"{PROJECT_ID}.{BQ_DATASET}.{TRACKS_FS_TABLE_NAME}\"\n",
    "\n",
    "print(f\"TRACKS_SRC_BQ_TABLE_URI : {TRACKS_SRC_BQ_TABLE_URI}\")\n",
    "print(f\"TRACKS_FS_BQ_TABLE_URI  : {TRACKS_FS_BQ_TABLE_URI}\")"
   ]
  },
  {
   "cell_type": "code",
   "execution_count": 31,
   "id": "9f020bc7-b752-41ac-8fe8-e216c06f40e3",
   "metadata": {},
   "outputs": [
    {
     "name": "stdout",
     "output_type": "stream",
     "text": [
      "\n",
      "CREATE OR REPLACE TABLE\n",
      "  `hybrid-vertex.spotify_e2e_test.candidate_tracks_fs` AS (\n",
      "  SELECT\n",
      "    * EXCEPT(time_signature_can,\n",
      "      track_mode_can,\n",
      "      track_key_can),\n",
      "    CAST(track_mode_can AS STRING) AS track_mode_can,\n",
      "    CAST(time_signature_can AS STRING) AS track_time_signature_can,\n",
      "    CAST(track_key_can AS STRING) AS track_key_can,\n",
      "    CURRENT_TIMESTAMP() AS feature_ts\n",
      "  FROM\n",
      "    `hybrid-vertex.spotify_e2e_test.candidates` \n",
      "  )\n",
      "\n"
     ]
    }
   ],
   "source": [
    "query = f\"\"\"\n",
    "CREATE OR REPLACE TABLE\n",
    "  `{TRACKS_FS_BQ_TABLE_URI}` AS (\n",
    "  SELECT\n",
    "    * EXCEPT(time_signature_can,\n",
    "      track_mode_can,\n",
    "      track_key_can),\n",
    "    CAST(track_mode_can AS STRING) AS track_mode_can,\n",
    "    CAST(time_signature_can AS STRING) AS track_time_signature_can,\n",
    "    CAST(track_key_can AS STRING) AS track_key_can,\n",
    "    CURRENT_TIMESTAMP() AS {TRACK_FEATURE_TIMESTAMP}\n",
    "  FROM\n",
    "    `{TRACKS_SRC_BQ_TABLE_URI}` \n",
    "  )\n",
    "\"\"\"\n",
    "print(query)"
   ]
  },
  {
   "cell_type": "code",
   "execution_count": 32,
   "id": "de2def2c-fc6d-4c02-a238-c4eac74041e6",
   "metadata": {},
   "outputs": [
    {
     "name": "stdout",
     "output_type": "stream",
     "text": [
      "Finished job_id: 6a5f7d83-54e1-4c6d-b1e9-7b86e2cd6101\n"
     ]
    }
   ],
   "source": [
    "run_bq_query(query)"
   ]
  },
  {
   "cell_type": "code",
   "execution_count": 33,
   "id": "66c9c996-9199-4b65-89fa-6652d6b2f359",
   "metadata": {},
   "outputs": [
    {
     "name": "stdout",
     "output_type": "stream",
     "text": [
      "Finished job_id: 3cb3d114-7a6c-4f47-bc92-2ed3fba9857b\n"
     ]
    },
    {
     "data": {
      "text/html": [
       "<div>\n",
       "<style scoped>\n",
       "    .dataframe tbody tr th:only-of-type {\n",
       "        vertical-align: middle;\n",
       "    }\n",
       "\n",
       "    .dataframe tbody tr th {\n",
       "        vertical-align: top;\n",
       "    }\n",
       "\n",
       "    .dataframe thead th {\n",
       "        text-align: right;\n",
       "    }\n",
       "</style>\n",
       "<table border=\"1\" class=\"dataframe\">\n",
       "  <thead>\n",
       "    <tr style=\"text-align: right;\">\n",
       "      <th></th>\n",
       "      <th>track_uri_can</th>\n",
       "      <th>track_name_can</th>\n",
       "      <th>artist_uri_can</th>\n",
       "      <th>artist_name_can</th>\n",
       "      <th>album_uri_can</th>\n",
       "      <th>album_name_can</th>\n",
       "      <th>duration_ms_can</th>\n",
       "      <th>track_pop_can</th>\n",
       "      <th>artist_pop_can</th>\n",
       "      <th>artist_genres_can</th>\n",
       "      <th>...</th>\n",
       "      <th>track_speechiness_can</th>\n",
       "      <th>track_acousticness_can</th>\n",
       "      <th>track_instrumentalness_can</th>\n",
       "      <th>track_liveness_can</th>\n",
       "      <th>track_valence_can</th>\n",
       "      <th>track_tempo_can</th>\n",
       "      <th>track_mode_can</th>\n",
       "      <th>track_time_signature_can</th>\n",
       "      <th>track_key_can</th>\n",
       "      <th>feature_ts</th>\n",
       "    </tr>\n",
       "  </thead>\n",
       "  <tbody>\n",
       "    <tr>\n",
       "      <th>0</th>\n",
       "      <td>spotify:track:5gjUCy9z0FtGCyQ3K4Z36X</td>\n",
       "      <td>Psalm 4: Hear me when I call, O God</td>\n",
       "      <td>spotify:artist:5VrWNJZIS9ccA9VYTj3Nwb</td>\n",
       "      <td>E S Carter</td>\n",
       "      <td>spotify:album:1jXlGOuj0kpP1X4Hw1nCZY</td>\n",
       "      <td>Psalms of David Vol 9: \"Hear My Voice, O God\"</td>\n",
       "      <td>211266.0</td>\n",
       "      <td>0.0</td>\n",
       "      <td>0.0</td>\n",
       "      <td>NONE</td>\n",
       "      <td>...</td>\n",
       "      <td>0.0423</td>\n",
       "      <td>0.940000</td>\n",
       "      <td>0.069900</td>\n",
       "      <td>0.0964</td>\n",
       "      <td>0.0558</td>\n",
       "      <td>75.948</td>\n",
       "      <td>1</td>\n",
       "      <td>4</td>\n",
       "      <td>8</td>\n",
       "      <td>2023-09-20 14:40:37.489429+00:00</td>\n",
       "    </tr>\n",
       "    <tr>\n",
       "      <th>1</th>\n",
       "      <td>spotify:track:09VNkkAjaR3VPZVjdihQLB</td>\n",
       "      <td>Wings - DJ Shocker Remix</td>\n",
       "      <td>spotify:artist:3rM4PU8NuaJT4tyXOtk12r</td>\n",
       "      <td>Frigne</td>\n",
       "      <td>spotify:album:0XQAsty7v0hcmIDwqDbB32</td>\n",
       "      <td>Top 40 Hits Remixed, Vol. 21 (60 Minute Non-St...</td>\n",
       "      <td>232500.0</td>\n",
       "      <td>0.0</td>\n",
       "      <td>0.0</td>\n",
       "      <td>NONE</td>\n",
       "      <td>...</td>\n",
       "      <td>0.2870</td>\n",
       "      <td>0.000065</td>\n",
       "      <td>0.012800</td>\n",
       "      <td>0.3170</td>\n",
       "      <td>0.4020</td>\n",
       "      <td>127.964</td>\n",
       "      <td>0</td>\n",
       "      <td>4</td>\n",
       "      <td>4</td>\n",
       "      <td>2023-09-20 14:40:37.489429+00:00</td>\n",
       "    </tr>\n",
       "    <tr>\n",
       "      <th>2</th>\n",
       "      <td>spotify:track:7151jkggbG0oT7E7dCDWzd</td>\n",
       "      <td>Glarnerkäse</td>\n",
       "      <td>spotify:artist:053cIzbtqJdIaobrIJXJOH</td>\n",
       "      <td>Buon</td>\n",
       "      <td>spotify:album:5Z6vie3D9LZdLvnjQauXkq</td>\n",
       "      <td>Wood Floors and Quiet Moments</td>\n",
       "      <td>37172.0</td>\n",
       "      <td>0.0</td>\n",
       "      <td>0.0</td>\n",
       "      <td>NONE</td>\n",
       "      <td>...</td>\n",
       "      <td>0.0439</td>\n",
       "      <td>0.880000</td>\n",
       "      <td>0.870000</td>\n",
       "      <td>0.1230</td>\n",
       "      <td>0.0398</td>\n",
       "      <td>130.946</td>\n",
       "      <td>1</td>\n",
       "      <td>1</td>\n",
       "      <td>0</td>\n",
       "      <td>2023-09-20 14:40:37.489429+00:00</td>\n",
       "    </tr>\n",
       "    <tr>\n",
       "      <th>3</th>\n",
       "      <td>spotify:track:401CSE0BWsMAXQo6mDq4tz</td>\n",
       "      <td>Ok Fred</td>\n",
       "      <td>spotify:artist:3FlmiaToyAFlr5ZnN5ojEt</td>\n",
       "      <td>Errol Duknley</td>\n",
       "      <td>spotify:album:2Ji21MeSRY3kr9yUTDoGHL</td>\n",
       "      <td>Pass Hits Reggae Music Vol. 1</td>\n",
       "      <td>179733.0</td>\n",
       "      <td>0.0</td>\n",
       "      <td>0.0</td>\n",
       "      <td>NONE</td>\n",
       "      <td>...</td>\n",
       "      <td>0.0412</td>\n",
       "      <td>0.021500</td>\n",
       "      <td>0.000195</td>\n",
       "      <td>0.0530</td>\n",
       "      <td>0.7890</td>\n",
       "      <td>93.486</td>\n",
       "      <td>1</td>\n",
       "      <td>4</td>\n",
       "      <td>7</td>\n",
       "      <td>2023-09-20 14:40:37.489429+00:00</td>\n",
       "    </tr>\n",
       "    <tr>\n",
       "      <th>4</th>\n",
       "      <td>spotify:track:5LY89ZDwRlNvkDWTZC3i3U</td>\n",
       "      <td>Walking Around in Women's Underwear</td>\n",
       "      <td>spotify:artist:6fqUYtHidLkfnClRrtXFIg</td>\n",
       "      <td>The Picker</td>\n",
       "      <td>spotify:album:6R7hitIrX6JlinHnPa8q6G</td>\n",
       "      <td>It's A Cold, Cold Christmas: Ice And Easy</td>\n",
       "      <td>115160.0</td>\n",
       "      <td>0.0</td>\n",
       "      <td>0.0</td>\n",
       "      <td>NONE</td>\n",
       "      <td>...</td>\n",
       "      <td>0.0307</td>\n",
       "      <td>0.326000</td>\n",
       "      <td>0.000000</td>\n",
       "      <td>0.3880</td>\n",
       "      <td>0.5960</td>\n",
       "      <td>85.218</td>\n",
       "      <td>1</td>\n",
       "      <td>3</td>\n",
       "      <td>1</td>\n",
       "      <td>2023-09-20 14:40:37.489429+00:00</td>\n",
       "    </tr>\n",
       "  </tbody>\n",
       "</table>\n",
       "<p>5 rows × 24 columns</p>\n",
       "</div>"
      ],
      "text/plain": [
       "                          track_uri_can                       track_name_can  \\\n",
       "0  spotify:track:5gjUCy9z0FtGCyQ3K4Z36X  Psalm 4: Hear me when I call, O God   \n",
       "1  spotify:track:09VNkkAjaR3VPZVjdihQLB             Wings - DJ Shocker Remix   \n",
       "2  spotify:track:7151jkggbG0oT7E7dCDWzd                          Glarnerkäse   \n",
       "3  spotify:track:401CSE0BWsMAXQo6mDq4tz                              Ok Fred   \n",
       "4  spotify:track:5LY89ZDwRlNvkDWTZC3i3U  Walking Around in Women's Underwear   \n",
       "\n",
       "                          artist_uri_can artist_name_can  \\\n",
       "0  spotify:artist:5VrWNJZIS9ccA9VYTj3Nwb      E S Carter   \n",
       "1  spotify:artist:3rM4PU8NuaJT4tyXOtk12r          Frigne   \n",
       "2  spotify:artist:053cIzbtqJdIaobrIJXJOH            Buon   \n",
       "3  spotify:artist:3FlmiaToyAFlr5ZnN5ojEt   Errol Duknley   \n",
       "4  spotify:artist:6fqUYtHidLkfnClRrtXFIg      The Picker   \n",
       "\n",
       "                          album_uri_can  \\\n",
       "0  spotify:album:1jXlGOuj0kpP1X4Hw1nCZY   \n",
       "1  spotify:album:0XQAsty7v0hcmIDwqDbB32   \n",
       "2  spotify:album:5Z6vie3D9LZdLvnjQauXkq   \n",
       "3  spotify:album:2Ji21MeSRY3kr9yUTDoGHL   \n",
       "4  spotify:album:6R7hitIrX6JlinHnPa8q6G   \n",
       "\n",
       "                                      album_name_can  duration_ms_can  \\\n",
       "0      Psalms of David Vol 9: \"Hear My Voice, O God\"         211266.0   \n",
       "1  Top 40 Hits Remixed, Vol. 21 (60 Minute Non-St...         232500.0   \n",
       "2                      Wood Floors and Quiet Moments          37172.0   \n",
       "3                      Pass Hits Reggae Music Vol. 1         179733.0   \n",
       "4          It's A Cold, Cold Christmas: Ice And Easy         115160.0   \n",
       "\n",
       "   track_pop_can  artist_pop_can artist_genres_can  ...  \\\n",
       "0            0.0             0.0              NONE  ...   \n",
       "1            0.0             0.0              NONE  ...   \n",
       "2            0.0             0.0              NONE  ...   \n",
       "3            0.0             0.0              NONE  ...   \n",
       "4            0.0             0.0              NONE  ...   \n",
       "\n",
       "   track_speechiness_can  track_acousticness_can  track_instrumentalness_can  \\\n",
       "0                 0.0423                0.940000                    0.069900   \n",
       "1                 0.2870                0.000065                    0.012800   \n",
       "2                 0.0439                0.880000                    0.870000   \n",
       "3                 0.0412                0.021500                    0.000195   \n",
       "4                 0.0307                0.326000                    0.000000   \n",
       "\n",
       "   track_liveness_can  track_valence_can  track_tempo_can  track_mode_can  \\\n",
       "0              0.0964             0.0558           75.948               1   \n",
       "1              0.3170             0.4020          127.964               0   \n",
       "2              0.1230             0.0398          130.946               1   \n",
       "3              0.0530             0.7890           93.486               1   \n",
       "4              0.3880             0.5960           85.218               1   \n",
       "\n",
       "   track_time_signature_can  track_key_can                       feature_ts  \n",
       "0                         4              8 2023-09-20 14:40:37.489429+00:00  \n",
       "1                         4              4 2023-09-20 14:40:37.489429+00:00  \n",
       "2                         1              0 2023-09-20 14:40:37.489429+00:00  \n",
       "3                         4              7 2023-09-20 14:40:37.489429+00:00  \n",
       "4                         3              1 2023-09-20 14:40:37.489429+00:00  \n",
       "\n",
       "[5 rows x 24 columns]"
      ]
     },
     "execution_count": 33,
     "metadata": {},
     "output_type": "execute_result"
    }
   ],
   "source": [
    "run_bq_query(\n",
    "    f\"SELECT * FROM `{TRACKS_FS_BQ_TABLE_URI}` LIMIT 5\",\n",
    "    show=True\n",
    ")"
   ]
  },
  {
   "cell_type": "markdown",
   "id": "2600ab51-f1b1-495d-bef1-28f52a178dbf",
   "metadata": {},
   "source": [
    "### playlist features"
   ]
  },
  {
   "cell_type": "code",
   "execution_count": null,
   "id": "fa27e392-364b-4f4a-a52a-8d060e8f1e4e",
   "metadata": {},
   "outputs": [],
   "source": [
    "# # name of timestamp column\n",
    "# PLAYLIST_FEATURE_TIMESTAMP = \"feature_ts\"\n",
    "\n",
    "# # test with smaller dataset (val); TODO - ingest train dataset\n",
    "# PLAYLIST_SRC_TABLE_NAME = \"v2_train_flatten_valid_last_5\" # v2_train_flatten_last_5\n",
    "# PLAYLIST_FS_TABLE_NAME  = \"playlist_features_fs\"\n",
    "\n",
    "# PLAYLIST_SRC_BQ_TABLE_URI = f\"{PROJECT_ID}.{BQ_DATASET}.{PLAYLIST_SRC_TABLE_NAME}\"\n",
    "# PLAYLIST_FS_BQ_TABLE_URI = f\"{PROJECT_ID}.{BQ_DATASET}.{PLAYLIST_FS_TABLE_NAME}\"\n",
    "\n",
    "# print(f\"PLAYLIST_SRC_BQ_TABLE_URI : {PLAYLIST_SRC_BQ_TABLE_URI}\")\n",
    "# print(f\"PLAYLIST_FS_BQ_TABLE_URI  : {PLAYLIST_FS_BQ_TABLE_URI}\")"
   ]
  },
  {
   "cell_type": "code",
   "execution_count": null,
   "id": "0c9661d2-958f-435f-8cf3-bae957cbd25b",
   "metadata": {},
   "outputs": [],
   "source": [
    "# query = f\"\"\"\n",
    "# CREATE OR REPLACE TABLE\n",
    "#   `{PLAYLIST_FS_BQ_TABLE_URI}` AS (\n",
    "#   SELECT\n",
    "#     * EXCEPT(time_signature_can,\n",
    "#       track_mode_can,\n",
    "#       track_key_can),\n",
    "#     CAST(track_mode_can AS STRING) AS track_mode_can,\n",
    "#     CAST(time_signature_can AS STRING) AS track_time_signature_can,\n",
    "#     CAST(track_key_can AS STRING) AS track_key_can,\n",
    "#     CURRENT_TIMESTAMP() AS {PLAYLIST_FEATURE_TIMESTAMP}\n",
    "#   FROM\n",
    "#     `{PLAYLIST_SRC_BQ_TABLE_URI}` \n",
    "#   )\n",
    "# \"\"\"\n",
    "# print(query)"
   ]
  },
  {
   "cell_type": "markdown",
   "id": "1ea05309-d7d0-4126-a921-f4ea1952404a",
   "metadata": {},
   "source": [
    "## Create Feature Store"
   ]
  },
  {
   "cell_type": "markdown",
   "id": "b1b83e05-0928-43a7-bbf6-6f060f2d00a2",
   "metadata": {},
   "source": [
    "> A featurestore is the top-level container for entity types, features, and feature values. Typically, an organization creates one shared featurestore for feature ingestion, serving, and sharing across all teams in the organization.\n",
    "\n",
    "Below you create a `featurestore` resource for `candidate tracks`. This will hold track features (e.g., audio features, "
   ]
  },
  {
   "cell_type": "code",
   "execution_count": 11,
   "id": "b5ccd4e4-0315-4776-9e86-1476dc478ec6",
   "metadata": {},
   "outputs": [
    {
     "name": "stdout",
     "output_type": "stream",
     "text": [
      "FEATURESTORE_ID: v2_sp_mpd_candidate_tracks_ndr_v1\n"
     ]
    }
   ],
   "source": [
    "ONLINE_STORAGE_NODES = 1\n",
    "\n",
    "DEV_VERSION = \"v2\"\n",
    "\n",
    "FEATURESTORE_ID = f\"{DEV_VERSION}_{APP}_mpd_candidate_tracks_{PREFIX}\".replace(\"-\", \"_\")\n",
    "\n",
    "print(f\"FEATURESTORE_ID: {FEATURESTORE_ID}\")"
   ]
  },
  {
   "cell_type": "code",
   "execution_count": null,
   "id": "93fb8e8b-4637-49d6-abb8-ac4a1e9d49be",
   "metadata": {},
   "outputs": [],
   "source": [
    "# Creating new feature store sp_mpd_candidate_tracks_ndr_v1. # tmp"
   ]
  },
  {
   "cell_type": "code",
   "execution_count": 12,
   "id": "95b5ab4a-804a-452c-ab00-f79408427e3c",
   "metadata": {},
   "outputs": [
    {
     "name": "stdout",
     "output_type": "stream",
     "text": [
      "Creating new feature store v2_sp_mpd_candidate_tracks_ndr_v1.\n"
     ]
    }
   ],
   "source": [
    "try:\n",
    "    # Checks if there is already a Featurestore\n",
    "    ff_feature_store = vertex_ai.Featurestore(f\"{FEATURESTORE_ID}\")\n",
    "    print(f\"\"\"The feature store {FEATURESTORE_ID} already exists.\"\"\")\n",
    "except:\n",
    "    # Creates a Featurestore\n",
    "    print(f\"\"\"Creating new feature store {FEATURESTORE_ID}.\"\"\")\n",
    "    ff_feature_store = Featurestore.create(\n",
    "        featurestore_id=f\"{FEATURESTORE_ID}\",\n",
    "        online_store_fixed_node_count=ONLINE_STORAGE_NODES,\n",
    "        labels={\"prefix\": f\"{PREFIX}\", \"app\": f\"{APP}\"},\n",
    "        sync=True,\n",
    "    )"
   ]
  },
  {
   "cell_type": "code",
   "execution_count": 13,
   "id": "89168c59-9b23-436b-b735-5a663e102fe2",
   "metadata": {},
   "outputs": [
    {
     "data": {
      "text/plain": [
       "'us-central1'"
      ]
     },
     "execution_count": 13,
     "metadata": {},
     "output_type": "execute_result"
    }
   ],
   "source": [
    "ff_feature_store.location"
   ]
  },
  {
   "cell_type": "code",
   "execution_count": 14,
   "id": "060d2dbb-0c7b-4f66-b5a7-e21ec946d68f",
   "metadata": {},
   "outputs": [],
   "source": [
    "# ff_feature_store."
   ]
  },
  {
   "cell_type": "markdown",
   "id": "1f83630c-8222-4e7e-8dca-73490f072a1a",
   "metadata": {},
   "source": [
    "## Create the main entity types and their features"
   ]
  },
  {
   "cell_type": "markdown",
   "id": "0f6b6874-d7d9-43e0-90f4-c84e90db5d69",
   "metadata": {},
   "source": [
    "> An entity type is a collection of semantically related features. You define your own entity types, based on the concepts that are relevant to your use case.\n",
    "\n",
    "Let's create `track` and `playlist` entity types:"
   ]
  },
  {
   "cell_type": "markdown",
   "id": "db03cfad-0b4c-4eaf-b153-1d244047e5e2",
   "metadata": {},
   "source": [
    "**track entity**"
   ]
  },
  {
   "cell_type": "code",
   "execution_count": 16,
   "id": "7a55ffad-4aac-45ef-a18a-732b9f6923a5",
   "metadata": {},
   "outputs": [
    {
     "name": "stdout",
     "output_type": "stream",
     "text": [
      "TRACK_ENTITY_ID: tracks\n"
     ]
    }
   ],
   "source": [
    "TRACK_ENTITY_ID = \"tracks\"\n",
    "print(f\"TRACK_ENTITY_ID: {TRACK_ENTITY_ID}\")"
   ]
  },
  {
   "cell_type": "code",
   "execution_count": 17,
   "id": "5db5cc3a-7c79-4af3-9e51-1be09d5c7cce",
   "metadata": {},
   "outputs": [
    {
     "name": "stdout",
     "output_type": "stream",
     "text": [
      "Entity type name is projects/934903580331/locations/us-central1/featurestores/v2_sp_mpd_candidate_tracks_ndr_v1/entityTypes/tracks\n"
     ]
    }
   ],
   "source": [
    "try:\n",
    "    # get entity type, if it already exists\n",
    "    track_entity_type = ff_feature_store.get_entity_type(entity_type_id=TRACK_ENTITY_ID)\n",
    "except:\n",
    "    # else, create entity type\n",
    "    track_entity_type = ff_feature_store.create_entity_type(\n",
    "        entity_type_id=TRACK_ENTITY_ID, description=\"Candidate Track Entity\", sync=True\n",
    "    )\n",
    "    \n",
    "TRACK_ENTITY_RESOURCE_NAME = track_entity_type.resource_name\n",
    "print(\"Entity type name is\", TRACK_ENTITY_RESOURCE_NAME)"
   ]
  },
  {
   "cell_type": "code",
   "execution_count": 19,
   "id": "f2ce01a8-9e51-46eb-924d-cd49f07b1f6f",
   "metadata": {},
   "outputs": [
    {
     "data": {
      "text/plain": [
       "[]"
      ]
     },
     "execution_count": 19,
     "metadata": {},
     "output_type": "execute_result"
    }
   ],
   "source": [
    "track_entity_type.list_features()"
   ]
  },
  {
   "cell_type": "code",
   "execution_count": null,
   "id": "fdc948ef-fe95-445b-a3de-18bd0db0b360",
   "metadata": {},
   "outputs": [],
   "source": [
    "# ENTITY_ID_FIELD = \"track_uri_can\""
   ]
  },
  {
   "cell_type": "code",
   "execution_count": 20,
   "id": "eadbba94-0288-4799-8d45-7d4d27a894c2",
   "metadata": {},
   "outputs": [
    {
     "data": {
      "text/plain": [
       "<google.cloud.aiplatform.featurestore.entity_type.EntityType object at 0x7fd9602eaa50> \n",
       "resource name: projects/934903580331/locations/us-central1/featurestores/v2_sp_mpd_candidate_tracks_ndr_v1/entityTypes/tracks"
      ]
     },
     "execution_count": 20,
     "metadata": {},
     "output_type": "execute_result"
    }
   ],
   "source": [
    "track_entity_type"
   ]
  },
  {
   "cell_type": "markdown",
   "id": "40a6f47c-d035-4864-9ed4-cacbdeaee978",
   "metadata": {},
   "source": [
    "**playlist entity**"
   ]
  },
  {
   "cell_type": "code",
   "execution_count": 21,
   "id": "a97cdc0b-bf36-486c-b7d3-32c6888320be",
   "metadata": {},
   "outputs": [],
   "source": [
    "# PLAYLIST_ENTITY_ID = \"playlist\"\n",
    "# print(f\"PLAYLIST_ENTITY_ID: {PLAYLIST_ENTITY_ID}\")"
   ]
  },
  {
   "cell_type": "code",
   "execution_count": 22,
   "id": "ad72842c-f205-4351-9782-29ad0eb5b21b",
   "metadata": {},
   "outputs": [],
   "source": [
    "# try:\n",
    "#     # get entity type, if it already exists\n",
    "#     pl_entity_type = ff_feature_store.get_entity_type(entity_type_id=PLAYLIST_ENTITY_ID)\n",
    "# except:\n",
    "#     # else, create entity type\n",
    "#     pl_entity_type = ff_feature_store.create_entity_type(\n",
    "#         entity_type_id=PLAYLIST_ENTITY_ID, description=\"Playlist Entity\", sync=True\n",
    "#     )"
   ]
  },
  {
   "cell_type": "code",
   "execution_count": 23,
   "id": "3fa92b61-2282-4388-a9a6-a2bcc2be81ce",
   "metadata": {},
   "outputs": [],
   "source": [
    "# pl_entity_type"
   ]
  },
  {
   "cell_type": "markdown",
   "id": "75e1286b-ebdd-4853-bde0-6a73d6e6f611",
   "metadata": {
    "tags": []
   },
   "source": [
    "## Create features for each entity type\n",
    "\n",
    "* see available Feature Store data types in the [API reference](https://cloud.google.com/vertex-ai/docs/reference/rest/v1/projects.locations.featurestores.entityTypes.features#valuetype)\n",
    "* See the [Spotify Developer API](https://developer.spotify.com/documentation/web-api/reference/get-several-audio-features) docs for more details on the candidate track audio features"
   ]
  },
  {
   "cell_type": "markdown",
   "id": "50d5e4aa-17d5-4e8b-aa7c-6c96494cda21",
   "metadata": {},
   "source": [
    "In a featurestore, each entity must have a unique ID and must be of type `STRING`"
   ]
  },
  {
   "cell_type": "markdown",
   "id": "e993f676-a0bc-49b8-b454-b9fa28037066",
   "metadata": {},
   "source": [
    "### create features for `track` entity"
   ]
  },
  {
   "cell_type": "code",
   "execution_count": 51,
   "id": "07ee4b38-92d1-4a00-8980-3f5cc8d36f2a",
   "metadata": {},
   "outputs": [],
   "source": [
    "import src.features.feature_store_configs as fs_configs\n",
    "\n",
    "TRACK_ENTITY_ID_FIELD = \"track_uri_can\""
   ]
  },
  {
   "cell_type": "code",
   "execution_count": 52,
   "id": "69b42946-b16b-496e-a574-64e85748af24",
   "metadata": {},
   "outputs": [
    {
     "data": {
      "text/plain": [
       "{'track_uri_can': {'value_type': 'STRING',\n",
       "  'description': 'unique track ID; also uri',\n",
       "  'labels': {'status': 'passed'}},\n",
       " 'track_name_can': {'value_type': 'STRING',\n",
       "  'description': 'name (text) of track',\n",
       "  'labels': {'status': 'passed'}},\n",
       " 'artist_uri_can': {'value_type': 'STRING',\n",
       "  'description': \"track's artist uri\",\n",
       "  'labels': {'status': 'passed'}},\n",
       " 'artist_name_can': {'value_type': 'STRING',\n",
       "  'description': \"track's artist name (text)\",\n",
       "  'labels': {'status': 'passed'}},\n",
       " 'album_uri_can': {'value_type': 'STRING',\n",
       "  'description': \"track's album uri\",\n",
       "  'labels': {'status': 'passed'}},\n",
       " 'album_name_can': {'value_type': 'STRING',\n",
       "  'description': \"track's album name (text)\",\n",
       "  'labels': {'status': 'passed'}},\n",
       " 'duration_ms_can': {'value_type': 'DOUBLE',\n",
       "  'description': \"track's duration in ms\",\n",
       "  'labels': {'status': 'passed'}},\n",
       " 'track_pop_can': {'value_type': 'DOUBLE',\n",
       "  'description': \"track's popularity\",\n",
       "  'labels': {'status': 'passed'}},\n",
       " 'artist_pop_can': {'value_type': 'DOUBLE',\n",
       "  'description': \"popularity of track's artist\",\n",
       "  'labels': {'status': 'passed'}},\n",
       " 'artist_genres_can': {'value_type': 'STRING',\n",
       "  'description': \"list of the genres associated with the track's artist\",\n",
       "  'labels': {'status': 'passed'}},\n",
       " 'artist_followers_can': {'value_type': 'DOUBLE',\n",
       "  'description': \"number of followers for the track's artist\",\n",
       "  'labels': {'status': 'passed'}},\n",
       " 'track_danceability_can': {'value_type': 'DOUBLE',\n",
       "  'description': 'describes how suitable a track is for dancing',\n",
       "  'labels': {'status': 'passed'}},\n",
       " 'track_energy_can': {'value_type': 'DOUBLE',\n",
       "  'description': 'represents the perceptual measure of intensity and activity',\n",
       "  'labels': {'status': 'passed'}},\n",
       " 'track_key_can': {'value_type': 'STRING',\n",
       "  'description': 'the key the track is in. Integers map to pitches using standard pitch class notation',\n",
       "  'labels': {'status': 'passed'}},\n",
       " 'track_loudness_can': {'value_type': 'DOUBLE',\n",
       "  'description': 'overall loudness of track in decibels; averaged across entire track',\n",
       "  'labels': {'status': 'passed'}},\n",
       " 'track_mode_can': {'value_type': 'STRING',\n",
       "  'description': 'the modality (major or minor) of a track (Major = 1; minor = 0)',\n",
       "  'labels': {'status': 'passed'}},\n",
       " 'track_speechiness_can': {'value_type': 'DOUBLE',\n",
       "  'description': 'detects the presence of spoken words ',\n",
       "  'labels': {'status': 'passed'}},\n",
       " 'track_acousticness_can': {'value_type': 'DOUBLE',\n",
       "  'description': 'a confidence measure from 0.0 to 1.0 whether the track is acoustic',\n",
       "  'labels': {'status': 'passed'}},\n",
       " 'track_instrumentalness_can': {'value_type': 'DOUBLE',\n",
       "  'description': 'predicts whether a track contains vocals',\n",
       "  'labels': {'status': 'passed'}},\n",
       " 'track_liveness_can': {'value_type': 'DOUBLE',\n",
       "  'description': 'detects the presence of an audience in the recording',\n",
       "  'labels': {'status': 'passed'}},\n",
       " 'track_valence_can': {'value_type': 'DOUBLE',\n",
       "  'description': 'measure describing the musical positiveness in a track',\n",
       "  'labels': {'status': 'passed'}},\n",
       " 'track_tempo_can': {'value_type': 'DOUBLE',\n",
       "  'description': 'the overall estimated tempo of a track in beats per minute (BPM)',\n",
       "  'labels': {'status': 'passed'}},\n",
       " 'track_time_signature_can': {'value_type': 'STRING',\n",
       "  'description': 'an estimated time signature (meter) describing how many beats per bar (e.g., 3/4 - 7/4)',\n",
       "  'labels': {'status': 'passed'}}}"
      ]
     },
     "execution_count": 52,
     "metadata": {},
     "output_type": "execute_result"
    }
   ],
   "source": [
    "fs_configs.TRACK_FEATURE_CONFIGS"
   ]
  },
  {
   "cell_type": "markdown",
   "id": "5a831dd4-d399-4588-8c78-ab46184adc5e",
   "metadata": {},
   "source": [
    "### create features for `playlist` entity\n",
    "\n",
    "**TODO**"
   ]
  },
  {
   "cell_type": "code",
   "execution_count": 49,
   "id": "6db7b20b-89de-4486-aaa6-0d7114e27611",
   "metadata": {
    "collapsed": true,
    "jupyter": {
     "outputs_hidden": true
    },
    "tags": []
   },
   "outputs": [
    {
     "data": {
      "text/plain": [
       "{'pl_name_src': {'value_type': 'STRING',\n",
       "  'description': 'name (text) of playlist',\n",
       "  'labels': {'status': 'passed'}},\n",
       " 'pl_collaborative_src': {'value_type': 'STRING',\n",
       "  'description': 'defines if multiple users can contribute to playlist',\n",
       "  'labels': {'status': 'passed'}},\n",
       " 'pl_duration_ms_new': {'value_type': 'DOUBLE',\n",
       "  'description': 'total duration of all the tracks in the playlist (in milliseconds)',\n",
       "  'labels': {'status': 'passed'}},\n",
       " 'num_pl_songs_new': {'value_type': 'DOUBLE',\n",
       "  'description': 'total duration of all the tracks in the playlist (in milliseconds)',\n",
       "  'labels': {'status': 'passed'}},\n",
       " 'num_pl_artists_new': {'value_type': 'DOUBLE',\n",
       "  'description': 'total duration of all the tracks in the playlist (in milliseconds)',\n",
       "  'labels': {'status': 'passed'}},\n",
       " 'num_pl_albums_new': {'value_type': 'DOUBLE',\n",
       "  'description': 'total duration of all the tracks in the playlist (in milliseconds)',\n",
       "  'labels': {'status': 'passed'}},\n",
       " 'duration_ms_songs_pl': {'value_type': 'DOUBLE_ARRAY',\n",
       "  'description': \"track's duration in ms, for the last N tracks\",\n",
       "  'labels': {'status': 'passed'}},\n",
       " 'track_pop_pl': {'value_type': 'DOUBLE_ARRAY',\n",
       "  'description': \"track's popularity, for the last N tracks\",\n",
       "  'labels': {'status': 'passed'}},\n",
       " 'artist_pop_pl': {'value_type': 'DOUBLE_ARRAY',\n",
       "  'description': \"popularity of track's artist, for the last N tracks\",\n",
       "  'labels': {'status': 'passed'}},\n",
       " 'artist_genres_pl': {'value_type': 'STRING_ARRAY',\n",
       "  'description': \"list of the genres associated with the track's artist, for the last N tracks\",\n",
       "  'labels': {'status': 'passed'}},\n",
       " 'artist_followers_pl': {'value_type': 'DOUBLE_ARRAY',\n",
       "  'description': \"number of followers for the track's artist, for the last N tracks\",\n",
       "  'labels': {'status': 'passed'}},\n",
       " 'track_danceability_pl': {'value_type': 'DOUBLE_ARRAY',\n",
       "  'description': 'describes how suitable a track is for dancing, for the last N tracks',\n",
       "  'labels': {'status': 'passed'}},\n",
       " 'track_energy_pl': {'value_type': 'DOUBLE_ARRAY',\n",
       "  'description': 'represents the perceptual measure of intensity and activity, for the last N tracks',\n",
       "  'labels': {'status': 'passed'}},\n",
       " 'track_key_pl': {'value_type': 'STRING_ARRAY',\n",
       "  'description': 'the key the track is in. Integers map to pitches using standard pitch class notation, for the last N tracks',\n",
       "  'labels': {'status': 'passed'}},\n",
       " 'track_loudness_pl': {'value_type': 'DOUBLE_ARRAY',\n",
       "  'description': 'overall loudness of track in decibels; averaged across entire track, for the last N tracks',\n",
       "  'labels': {'status': 'passed'}},\n",
       " 'track_mode_pl': {'value_type': 'STRING_ARRAY',\n",
       "  'description': 'the modality (major or minor) of a track (Major = 1; minor = 0), for the last N tracks',\n",
       "  'labels': {'status': 'passed'}},\n",
       " 'track_speechiness_pl': {'value_type': 'DOUBLE_ARRAY',\n",
       "  'description': 'detects the presence of spoken words, for the last N tracks ',\n",
       "  'labels': {'status': 'passed'}},\n",
       " 'track_acousticness_pl': {'value_type': 'DOUBLE_ARRAY',\n",
       "  'description': 'a confidence measure from 0.0 to 1.0 whether the track is acoustic, for the last N tracks',\n",
       "  'labels': {'status': 'passed'}},\n",
       " 'track_instrumentalness_pl': {'value_type': 'DOUBLE_ARRAY',\n",
       "  'description': 'predicts whether a track contains vocals, for the last N tracks',\n",
       "  'labels': {'status': 'passed'}},\n",
       " 'track_liveness_pl': {'value_type': 'DOUBLE_ARRAY',\n",
       "  'description': 'detects the presence of an audience in the recording, for the last N tracks',\n",
       "  'labels': {'status': 'passed'}},\n",
       " 'track_valence_pl': {'value_type': 'DOUBLE_ARRAY',\n",
       "  'description': 'measure describing the musical positiveness in a track, for the last N tracks',\n",
       "  'labels': {'status': 'passed'}},\n",
       " 'track_tempo_pl': {'value_type': 'DOUBLE_ARRAY',\n",
       "  'description': 'the overall estimated tempo of a track in beats per minute (BPM), for the last N tracks',\n",
       "  'labels': {'status': 'passed'}},\n",
       " 'track_time_signature_pl': {'value_type': 'STRING_ARRAY',\n",
       "  'description': 'an estimated time signature (meter) describing how many beats per bar, for the last N tracks',\n",
       "  'labels': {'status': 'passed'}}}"
      ]
     },
     "execution_count": 49,
     "metadata": {},
     "output_type": "execute_result"
    }
   ],
   "source": [
    "# PLAYLIST_ENTITY_ID_FIELD = \"pid\" # TODO\n",
    "fs_configs.PLAYLIST_FEATURE_CONFIGS"
   ]
  },
  {
   "cell_type": "markdown",
   "id": "b4a99225-13b4-45ce-a7f6-a2ca6cec440d",
   "metadata": {},
   "source": [
    "## Ingest feature values in Vertex AI Feature Store"
   ]
  },
  {
   "cell_type": "code",
   "execution_count": 28,
   "id": "c3097852-404e-484f-9289-07ca8795bff6",
   "metadata": {},
   "outputs": [],
   "source": [
    "# TIMESTAMP = datetime.now().strftime(\"%Y%m%d%H%M%S\")\n",
    "# print(f\"TIMESTAMP            : {TIMESTAMP}\")"
   ]
  },
  {
   "cell_type": "markdown",
   "id": "feb69d22-0b99-45a1-b2d2-7dfe5da44a98",
   "metadata": {},
   "source": [
    "### Ingest `track` features"
   ]
  },
  {
   "cell_type": "code",
   "execution_count": 29,
   "id": "47edc730-909d-43e8-8754-f45ee39adb39",
   "metadata": {},
   "outputs": [
    {
     "name": "stdout",
     "output_type": "stream",
     "text": [
      "(\"TRACKS_FEATURES_IDS: ['track_danceability_can', 'track_acousticness_can', \"\n",
      " \"'artist_name_can', 'track_tempo_can', 'track_pop_can', 'track_key_can', \"\n",
      " \"'track_liveness_can', 'album_name_can', 'track_name_can', \"\n",
      " \"'artist_genres_can', 'track_mode_can', 'track_instrumentalness_can', \"\n",
      " \"'album_uri_can', 'track_uri_can', 'track_time_signature_can', \"\n",
      " \"'artist_pop_can', 'track_loudness_can', 'track_valence_can', \"\n",
      " \"'duration_ms_can', 'track_energy_can', 'artist_uri_can', \"\n",
      " \"'artist_followers_can', 'track_speechiness_can']\")\n"
     ]
    }
   ],
   "source": [
    "track_feature_ids = track_entity_type.batch_create_features(\n",
    "    feature_configs=TRACK_FEATURE_CONFIGS, sync=True\n",
    ")\n",
    "\n",
    "TRACKS_FEATURES_IDS = [\n",
    "    feature.name for feature in track_feature_ids.list_features()\n",
    "]\n",
    "pprint(f\"TRACKS_FEATURES_IDS: {TRACKS_FEATURES_IDS}\")"
   ]
  },
  {
   "cell_type": "code",
   "execution_count": 30,
   "id": "d3927783-eed3-4c4f-8d61-01a696395d37",
   "metadata": {},
   "outputs": [
    {
     "name": "stdout",
     "output_type": "stream",
     "text": [
      "TRACKS_BQ_SOURCE_URI : bq://hybrid-vertex.spotify_e2e_test.candidate_tracks_fs\n"
     ]
    }
   ],
   "source": [
    "TRACKS_FS_BQ_URI = f\"bq://{TRACKS_FS_BQ_TABLE_URI}\"\n",
    "print(f\"TRACKS_BQ_SOURCE_URI : {TRACKS_FS_BQ_URI}\")"
   ]
  },
  {
   "cell_type": "code",
   "execution_count": 37,
   "id": "4e2e1001-010b-4563-8eb8-0da7206eb659",
   "metadata": {},
   "outputs": [
    {
     "name": "stdout",
     "output_type": "stream",
     "text": [
      "elapsed_ingest_mins: 7\n"
     ]
    }
   ],
   "source": [
    "start_time = time.time()\n",
    "\n",
    "track_entity_type.ingest_from_bq(\n",
    "    feature_ids=TRACKS_FEATURES_IDS,\n",
    "    feature_time=TRACK_FEATURE_TIMESTAMP,\n",
    "    bq_source_uri=TRACKS_FS_BQ_URI,\n",
    "    entity_id_field=TRACK_ENTITY_ID_FIELD,\n",
    "    disable_online_serving=False,\n",
    "    worker_count=10,\n",
    "    sync=True,\n",
    ")\n",
    "\n",
    "elapsed_ingest_mins = int((time.time() - start_time) / 60)\n",
    "print(f\"elapsed_ingest_mins: {elapsed_ingest_mins}\")"
   ]
  },
  {
   "cell_type": "code",
   "execution_count": 38,
   "id": "98141340-ffc1-40e1-b91a-16f0e2a62570",
   "metadata": {},
   "outputs": [
    {
     "data": {
      "text/plain": [
       "'projects/934903580331/locations/us-central1/featurestores/v2_sp_mpd_candidate_tracks_ndr_v1/entityTypes/tracks'"
      ]
     },
     "execution_count": 38,
     "metadata": {},
     "output_type": "execute_result"
    }
   ],
   "source": [
    "track_entity_type.resource_name"
   ]
  },
  {
   "cell_type": "markdown",
   "id": "e3bcf367-37d4-4f73-9e80-c3aa63b1648a",
   "metadata": {},
   "source": [
    "### Ingest `playlist` features\n",
    "\n",
    "**TODO**"
   ]
  },
  {
   "cell_type": "code",
   "execution_count": 39,
   "id": "21a35568-b3de-4ba4-94ed-9248154424e5",
   "metadata": {},
   "outputs": [],
   "source": [
    "# pl_feature_ids = track_entity_type.batch_create_features(\n",
    "#     feature_configs=playlist_feature_configs, sync=True\n",
    "# )\n",
    "\n",
    "# PL_FEATURES_IDS = [\n",
    "#     feature.name for feature in pl_feature_ids.list_features()\n",
    "# ]\n",
    "# print(f\"PL_FEATURES_IDS: {PL_FEATURES_IDS}\")"
   ]
  },
  {
   "cell_type": "code",
   "execution_count": 40,
   "id": "a0e08895-8179-473a-90fd-64d92bce9618",
   "metadata": {},
   "outputs": [],
   "source": [
    "# PLAYLIST_FS_BQ_URI = f\"bq://{TRACKS_FS_BQ_TABLE_URI}\"\n",
    "# print(f\"PLAYLIST_FS_BQ_URI : {PLAYLIST_FS_BQ_URI}\")"
   ]
  },
  {
   "cell_type": "code",
   "execution_count": 41,
   "id": "fdd7da6d-35b9-4e5d-a541-dafb0e22ebfa",
   "metadata": {},
   "outputs": [],
   "source": [
    "# start_time = time.time()\n",
    "\n",
    "# track_entity_type.ingest_from_bq(\n",
    "#     feature_ids=TRACKS_FEATURES_IDS,\n",
    "#     feature_time=TRACK_FEATURE_TIMESTAMP,\n",
    "#     bq_source_uri=TRACKS_FS_BQ_URI,\n",
    "#     entity_id_field=TRACK_ENTITY_ID_FIELD,\n",
    "#     disable_online_serving=False,\n",
    "#     worker_count=10,\n",
    "#     sync=True,\n",
    "# )\n",
    "\n",
    "# elapsed_ingest_mins = int((time.time() - start_time) / 60)\n",
    "# print(f\"elapsed_ingest_mins: {elapsed_ingest_mins}\")"
   ]
  },
  {
   "cell_type": "markdown",
   "id": "3953387b-fcc7-4dab-a6dc-fb8cd2e7e70c",
   "metadata": {},
   "source": [
    "track_entity_type**Monitor ingestion job in the console.**\n",
    "\n",
    "> The ingestion jobs you just created run asynchronously and they should take several minutes to complete. Please monitoring them in the [console](https://console.cloud.google.com/vertex-ai/ingestion-jobs)."
   ]
  },
  {
   "cell_type": "code",
   "execution_count": 59,
   "id": "6b86bb99-6d7d-40c1-8f69-de36dfad7d0d",
   "metadata": {},
   "outputs": [],
   "source": [
    "# track_entity_type.to_dict()"
   ]
  },
  {
   "cell_type": "code",
   "execution_count": 56,
   "id": "9a2adc6a-de02-4c00-b1b9-eec81c24a19c",
   "metadata": {
    "collapsed": true,
    "jupyter": {
     "outputs_hidden": true
    },
    "tags": []
   },
   "outputs": [
    {
     "data": {
      "text/plain": [
       "[<google.cloud.aiplatform.featurestore.feature.Feature object at 0x7fd8fc31b850> \n",
       " resource name: projects/934903580331/locations/us-central1/featurestores/v2_sp_mpd_candidate_tracks_ndr_v1/entityTypes/tracks/features/track_danceability_can,\n",
       " <google.cloud.aiplatform.featurestore.feature.Feature object at 0x7fd8fc040c10> \n",
       " resource name: projects/934903580331/locations/us-central1/featurestores/v2_sp_mpd_candidate_tracks_ndr_v1/entityTypes/tracks/features/track_acousticness_can,\n",
       " <google.cloud.aiplatform.featurestore.feature.Feature object at 0x7fd8fc0538d0> \n",
       " resource name: projects/934903580331/locations/us-central1/featurestores/v2_sp_mpd_candidate_tracks_ndr_v1/entityTypes/tracks/features/artist_name_can,\n",
       " <google.cloud.aiplatform.featurestore.feature.Feature object at 0x7fd8f476da90> \n",
       " resource name: projects/934903580331/locations/us-central1/featurestores/v2_sp_mpd_candidate_tracks_ndr_v1/entityTypes/tracks/features/track_tempo_can,\n",
       " <google.cloud.aiplatform.featurestore.feature.Feature object at 0x7fd8f477a0d0> \n",
       " resource name: projects/934903580331/locations/us-central1/featurestores/v2_sp_mpd_candidate_tracks_ndr_v1/entityTypes/tracks/features/track_pop_can,\n",
       " <google.cloud.aiplatform.featurestore.feature.Feature object at 0x7fd8fc0746d0> \n",
       " resource name: projects/934903580331/locations/us-central1/featurestores/v2_sp_mpd_candidate_tracks_ndr_v1/entityTypes/tracks/features/track_key_can,\n",
       " <google.cloud.aiplatform.featurestore.feature.Feature object at 0x7fd8fc040d10> \n",
       " resource name: projects/934903580331/locations/us-central1/featurestores/v2_sp_mpd_candidate_tracks_ndr_v1/entityTypes/tracks/features/track_liveness_can,\n",
       " <google.cloud.aiplatform.featurestore.feature.Feature object at 0x7fd8f477a790> \n",
       " resource name: projects/934903580331/locations/us-central1/featurestores/v2_sp_mpd_candidate_tracks_ndr_v1/entityTypes/tracks/features/album_name_can,\n",
       " <google.cloud.aiplatform.featurestore.feature.Feature object at 0x7fd8f477a590> \n",
       " resource name: projects/934903580331/locations/us-central1/featurestores/v2_sp_mpd_candidate_tracks_ndr_v1/entityTypes/tracks/features/track_name_can,\n",
       " <google.cloud.aiplatform.featurestore.feature.Feature object at 0x7fd8f478a090> \n",
       " resource name: projects/934903580331/locations/us-central1/featurestores/v2_sp_mpd_candidate_tracks_ndr_v1/entityTypes/tracks/features/artist_genres_can,\n",
       " <google.cloud.aiplatform.featurestore.feature.Feature object at 0x7fd8f477a490> \n",
       " resource name: projects/934903580331/locations/us-central1/featurestores/v2_sp_mpd_candidate_tracks_ndr_v1/entityTypes/tracks/features/track_mode_can,\n",
       " <google.cloud.aiplatform.featurestore.feature.Feature object at 0x7fd8fc040d90> \n",
       " resource name: projects/934903580331/locations/us-central1/featurestores/v2_sp_mpd_candidate_tracks_ndr_v1/entityTypes/tracks/features/track_instrumentalness_can,\n",
       " <google.cloud.aiplatform.featurestore.feature.Feature object at 0x7fd8f478a6d0> \n",
       " resource name: projects/934903580331/locations/us-central1/featurestores/v2_sp_mpd_candidate_tracks_ndr_v1/entityTypes/tracks/features/album_uri_can,\n",
       " <google.cloud.aiplatform.featurestore.feature.Feature object at 0x7fd8f478a210> \n",
       " resource name: projects/934903580331/locations/us-central1/featurestores/v2_sp_mpd_candidate_tracks_ndr_v1/entityTypes/tracks/features/track_uri_can,\n",
       " <google.cloud.aiplatform.featurestore.feature.Feature object at 0x7fd8f47992d0> \n",
       " resource name: projects/934903580331/locations/us-central1/featurestores/v2_sp_mpd_candidate_tracks_ndr_v1/entityTypes/tracks/features/track_time_signature_can,\n",
       " <google.cloud.aiplatform.featurestore.feature.Feature object at 0x7fd8f478a9d0> \n",
       " resource name: projects/934903580331/locations/us-central1/featurestores/v2_sp_mpd_candidate_tracks_ndr_v1/entityTypes/tracks/features/artist_pop_can,\n",
       " <google.cloud.aiplatform.featurestore.feature.Feature object at 0x7fd8f477aed0> \n",
       " resource name: projects/934903580331/locations/us-central1/featurestores/v2_sp_mpd_candidate_tracks_ndr_v1/entityTypes/tracks/features/track_loudness_can,\n",
       " <google.cloud.aiplatform.featurestore.feature.Feature object at 0x7fd8fc040310> \n",
       " resource name: projects/934903580331/locations/us-central1/featurestores/v2_sp_mpd_candidate_tracks_ndr_v1/entityTypes/tracks/features/track_valence_can,\n",
       " <google.cloud.aiplatform.featurestore.feature.Feature object at 0x7fd8fc053f50> \n",
       " resource name: projects/934903580331/locations/us-central1/featurestores/v2_sp_mpd_candidate_tracks_ndr_v1/entityTypes/tracks/features/duration_ms_can,\n",
       " <google.cloud.aiplatform.featurestore.feature.Feature object at 0x7fd8fc2b3110> \n",
       " resource name: projects/934903580331/locations/us-central1/featurestores/v2_sp_mpd_candidate_tracks_ndr_v1/entityTypes/tracks/features/track_energy_can,\n",
       " <google.cloud.aiplatform.featurestore.feature.Feature object at 0x7fd8f476db90> \n",
       " resource name: projects/934903580331/locations/us-central1/featurestores/v2_sp_mpd_candidate_tracks_ndr_v1/entityTypes/tracks/features/artist_uri_can,\n",
       " <google.cloud.aiplatform.featurestore.feature.Feature object at 0x7fd8f478a350> \n",
       " resource name: projects/934903580331/locations/us-central1/featurestores/v2_sp_mpd_candidate_tracks_ndr_v1/entityTypes/tracks/features/artist_followers_can,\n",
       " <google.cloud.aiplatform.featurestore.feature.Feature object at 0x7fd8fc2b31d0> \n",
       " resource name: projects/934903580331/locations/us-central1/featurestores/v2_sp_mpd_candidate_tracks_ndr_v1/entityTypes/tracks/features/track_speechiness_can]"
      ]
     },
     "execution_count": 56,
     "metadata": {},
     "output_type": "execute_result"
    }
   ],
   "source": [
    "feature_names = track_entity_type.list_features()\n",
    "list_of_names = []\n",
    "for ele in feature_names:\n",
    "    list_of_names.append(ele)\n",
    "    \n",
    "list_of_names"
   ]
  },
  {
   "cell_type": "code",
   "execution_count": 57,
   "id": "dd45cdbb-ad91-4f18-a66e-8f8fa30e6bd4",
   "metadata": {},
   "outputs": [
    {
     "data": {
      "text/plain": [
       "<google.cloud.aiplatform.featurestore.feature.Feature object at 0x7fd8fc31b850> \n",
       "resource name: projects/934903580331/locations/us-central1/featurestores/v2_sp_mpd_candidate_tracks_ndr_v1/entityTypes/tracks/features/track_danceability_can"
      ]
     },
     "execution_count": 57,
     "metadata": {},
     "output_type": "execute_result"
    }
   ],
   "source": [
    "list_of_names[0]"
   ]
  },
  {
   "cell_type": "markdown",
   "id": "41f5eed1-1c2d-459c-a7d5-ac96bb87a506",
   "metadata": {},
   "source": [
    "### Search for feature values\n",
    "\n",
    "> Run a search query on your feature store to validate that some data was ingested as expected."
   ]
  },
  {
   "cell_type": "markdown",
   "id": "67637506-d466-46fb-925b-d74cf87d4c0f",
   "metadata": {},
   "source": [
    "#### search `track` features"
   ]
  },
  {
   "cell_type": "code",
   "execution_count": 42,
   "id": "d6c8ab48-2962-48a2-92f9-3b9583cd718f",
   "metadata": {},
   "outputs": [
    {
     "data": {
      "text/html": [
       "<div>\n",
       "<style scoped>\n",
       "    .dataframe tbody tr th:only-of-type {\n",
       "        vertical-align: middle;\n",
       "    }\n",
       "\n",
       "    .dataframe tbody tr th {\n",
       "        vertical-align: top;\n",
       "    }\n",
       "\n",
       "    .dataframe thead th {\n",
       "        text-align: right;\n",
       "    }\n",
       "</style>\n",
       "<table border=\"1\" class=\"dataframe\">\n",
       "  <thead>\n",
       "    <tr style=\"text-align: right;\">\n",
       "      <th></th>\n",
       "      <th>entity_id</th>\n",
       "      <th>track_danceability_can</th>\n",
       "      <th>track_acousticness_can</th>\n",
       "      <th>artist_name_can</th>\n",
       "      <th>track_tempo_can</th>\n",
       "      <th>track_pop_can</th>\n",
       "      <th>track_key_can</th>\n",
       "      <th>track_liveness_can</th>\n",
       "      <th>album_name_can</th>\n",
       "      <th>track_name_can</th>\n",
       "      <th>...</th>\n",
       "      <th>track_uri_can</th>\n",
       "      <th>track_time_signature_can</th>\n",
       "      <th>artist_pop_can</th>\n",
       "      <th>track_loudness_can</th>\n",
       "      <th>track_valence_can</th>\n",
       "      <th>duration_ms_can</th>\n",
       "      <th>track_energy_can</th>\n",
       "      <th>artist_uri_can</th>\n",
       "      <th>artist_followers_can</th>\n",
       "      <th>track_speechiness_can</th>\n",
       "    </tr>\n",
       "  </thead>\n",
       "  <tbody>\n",
       "    <tr>\n",
       "      <th>0</th>\n",
       "      <td>spotify:track:2JozsL1ayPPjrZsOlQwHuk</td>\n",
       "      <td>0.276</td>\n",
       "      <td>0.594000</td>\n",
       "      <td>Phish</td>\n",
       "      <td>96.060</td>\n",
       "      <td>10.0</td>\n",
       "      <td>7</td>\n",
       "      <td>0.829</td>\n",
       "      <td>LivePhish 04/03/98</td>\n",
       "      <td>Tweezer Reprise</td>\n",
       "      <td>...</td>\n",
       "      <td>spotify:track:2JozsL1ayPPjrZsOlQwHuk</td>\n",
       "      <td>4</td>\n",
       "      <td>57.0</td>\n",
       "      <td>-5.030</td>\n",
       "      <td>0.585</td>\n",
       "      <td>204826.0</td>\n",
       "      <td>0.944</td>\n",
       "      <td>spotify:artist:5wbIWUzTPuTxTyG6ouQKqz</td>\n",
       "      <td>473873.0</td>\n",
       "      <td>0.0502</td>\n",
       "    </tr>\n",
       "    <tr>\n",
       "      <th>1</th>\n",
       "      <td>spotify:track:44FKqeyePqfAcWfJKJkpGy</td>\n",
       "      <td>0.369</td>\n",
       "      <td>0.484000</td>\n",
       "      <td>Grateful Dead</td>\n",
       "      <td>106.184</td>\n",
       "      <td>8.0</td>\n",
       "      <td>2</td>\n",
       "      <td>0.367</td>\n",
       "      <td>So Many Roads [1965-1995]</td>\n",
       "      <td>That's It For The Other One [Live in San Franc...</td>\n",
       "      <td>...</td>\n",
       "      <td>spotify:track:44FKqeyePqfAcWfJKJkpGy</td>\n",
       "      <td>4</td>\n",
       "      <td>68.0</td>\n",
       "      <td>-13.969</td>\n",
       "      <td>0.627</td>\n",
       "      <td>1253226.0</td>\n",
       "      <td>0.449</td>\n",
       "      <td>spotify:artist:4TMHGUX5WI7OOm53PqSDAT</td>\n",
       "      <td>1626328.0</td>\n",
       "      <td>0.0405</td>\n",
       "    </tr>\n",
       "    <tr>\n",
       "      <th>2</th>\n",
       "      <td>spotify:track:5VGz4dSlyNwcPgokpwHKtr</td>\n",
       "      <td>0.179</td>\n",
       "      <td>0.000859</td>\n",
       "      <td>Widespread Panic</td>\n",
       "      <td>184.642</td>\n",
       "      <td>16.0</td>\n",
       "      <td>2</td>\n",
       "      <td>0.164</td>\n",
       "      <td>Ain't Life Grand</td>\n",
       "      <td>Junior</td>\n",
       "      <td>...</td>\n",
       "      <td>spotify:track:5VGz4dSlyNwcPgokpwHKtr</td>\n",
       "      <td>4</td>\n",
       "      <td>52.0</td>\n",
       "      <td>-7.973</td>\n",
       "      <td>0.883</td>\n",
       "      <td>273640.0</td>\n",
       "      <td>0.796</td>\n",
       "      <td>spotify:artist:54SHZF2YS3W87xuJKSvOVf</td>\n",
       "      <td>256044.0</td>\n",
       "      <td>0.0373</td>\n",
       "    </tr>\n",
       "  </tbody>\n",
       "</table>\n",
       "<p>3 rows × 24 columns</p>\n",
       "</div>"
      ],
      "text/plain": [
       "                              entity_id  track_danceability_can  \\\n",
       "0  spotify:track:2JozsL1ayPPjrZsOlQwHuk                   0.276   \n",
       "1  spotify:track:44FKqeyePqfAcWfJKJkpGy                   0.369   \n",
       "2  spotify:track:5VGz4dSlyNwcPgokpwHKtr                   0.179   \n",
       "\n",
       "   track_acousticness_can   artist_name_can  track_tempo_can  track_pop_can  \\\n",
       "0                0.594000             Phish           96.060           10.0   \n",
       "1                0.484000     Grateful Dead          106.184            8.0   \n",
       "2                0.000859  Widespread Panic          184.642           16.0   \n",
       "\n",
       "  track_key_can  track_liveness_can             album_name_can  \\\n",
       "0             7               0.829         LivePhish 04/03/98   \n",
       "1             2               0.367  So Many Roads [1965-1995]   \n",
       "2             2               0.164           Ain't Life Grand   \n",
       "\n",
       "                                      track_name_can  ...  \\\n",
       "0                                    Tweezer Reprise  ...   \n",
       "1  That's It For The Other One [Live in San Franc...  ...   \n",
       "2                                             Junior  ...   \n",
       "\n",
       "                          track_uri_can track_time_signature_can  \\\n",
       "0  spotify:track:2JozsL1ayPPjrZsOlQwHuk                        4   \n",
       "1  spotify:track:44FKqeyePqfAcWfJKJkpGy                        4   \n",
       "2  spotify:track:5VGz4dSlyNwcPgokpwHKtr                        4   \n",
       "\n",
       "   artist_pop_can track_loudness_can track_valence_can duration_ms_can  \\\n",
       "0            57.0             -5.030             0.585        204826.0   \n",
       "1            68.0            -13.969             0.627       1253226.0   \n",
       "2            52.0             -7.973             0.883        273640.0   \n",
       "\n",
       "   track_energy_can                         artist_uri_can  \\\n",
       "0             0.944  spotify:artist:5wbIWUzTPuTxTyG6ouQKqz   \n",
       "1             0.449  spotify:artist:4TMHGUX5WI7OOm53PqSDAT   \n",
       "2             0.796  spotify:artist:54SHZF2YS3W87xuJKSvOVf   \n",
       "\n",
       "   artist_followers_can  track_speechiness_can  \n",
       "0              473873.0                 0.0502  \n",
       "1             1626328.0                 0.0405  \n",
       "2              256044.0                 0.0373  \n",
       "\n",
       "[3 rows x 24 columns]"
      ]
     },
     "execution_count": 42,
     "metadata": {},
     "output_type": "execute_result"
    }
   ],
   "source": [
    "# return all feature fields for an Entity\n",
    "track_aggregated_features = track_entity_type.read(\n",
    "    entity_ids=[\n",
    "        \"spotify:track:44FKqeyePqfAcWfJKJkpGy\", \n",
    "        \"spotify:track:2JozsL1ayPPjrZsOlQwHuk\", \n",
    "        \"spotify:track:5VGz4dSlyNwcPgokpwHKtr\",\n",
    "    ],\n",
    "    feature_ids=TRACKS_FEATURES_IDS,\n",
    ")\n",
    "\n",
    "track_aggregated_features"
   ]
  },
  {
   "cell_type": "code",
   "execution_count": 60,
   "id": "f3d6fe47-8c8c-4c5d-917b-d5f2985e8a4b",
   "metadata": {},
   "outputs": [
    {
     "data": {
      "text/plain": [
       "Index(['entity_id', 'track_danceability_can', 'track_acousticness_can',\n",
       "       'artist_name_can', 'track_tempo_can', 'track_pop_can', 'track_key_can',\n",
       "       'track_liveness_can', 'album_name_can', 'track_name_can',\n",
       "       'artist_genres_can', 'track_mode_can', 'track_instrumentalness_can',\n",
       "       'album_uri_can', 'track_uri_can', 'track_time_signature_can',\n",
       "       'artist_pop_can', 'track_loudness_can', 'track_valence_can',\n",
       "       'duration_ms_can', 'track_energy_can', 'artist_uri_can',\n",
       "       'artist_followers_can', 'track_speechiness_can'],\n",
       "      dtype='object')"
      ]
     },
     "execution_count": 60,
     "metadata": {},
     "output_type": "execute_result"
    }
   ],
   "source": [
    "track_aggregated_features.keys()"
   ]
  },
  {
   "cell_type": "code",
   "execution_count": 53,
   "id": "ff3b215a-56b6-4f03-90dc-96136be9355b",
   "metadata": {},
   "outputs": [
    {
     "data": {
      "text/plain": [
       "Index(['entity_id', 'track_danceability_can', 'track_acousticness_can',\n",
       "       'artist_name_can', 'track_tempo_can', 'track_pop_can', 'track_key_can',\n",
       "       'track_liveness_can', 'album_name_can', 'track_name_can',\n",
       "       'artist_genres_can', 'track_mode_can', 'track_instrumentalness_can',\n",
       "       'album_uri_can', 'track_uri_can', 'track_time_signature_can',\n",
       "       'artist_pop_can', 'track_loudness_can', 'track_valence_can',\n",
       "       'duration_ms_can', 'track_energy_can', 'artist_uri_can',\n",
       "       'artist_followers_can', 'track_speechiness_can'],\n",
       "      dtype='object')"
      ]
     },
     "execution_count": 53,
     "metadata": {},
     "output_type": "execute_result"
    }
   ],
   "source": [
    "track_aggregated_features.columns"
   ]
  },
  {
   "cell_type": "code",
   "execution_count": 43,
   "id": "be9bc8a3-0d7d-4531-9fea-dd2c38d34307",
   "metadata": {},
   "outputs": [
    {
     "data": {
      "text/html": [
       "<div>\n",
       "<style scoped>\n",
       "    .dataframe tbody tr th:only-of-type {\n",
       "        vertical-align: middle;\n",
       "    }\n",
       "\n",
       "    .dataframe tbody tr th {\n",
       "        vertical-align: top;\n",
       "    }\n",
       "\n",
       "    .dataframe thead th {\n",
       "        text-align: right;\n",
       "    }\n",
       "</style>\n",
       "<table border=\"1\" class=\"dataframe\">\n",
       "  <thead>\n",
       "    <tr style=\"text-align: right;\">\n",
       "      <th></th>\n",
       "      <th>entity_id</th>\n",
       "      <th>track_name_can</th>\n",
       "      <th>artist_name_can</th>\n",
       "      <th>artist_genres_can</th>\n",
       "    </tr>\n",
       "  </thead>\n",
       "  <tbody>\n",
       "    <tr>\n",
       "      <th>0</th>\n",
       "      <td>spotify:track:2JozsL1ayPPjrZsOlQwHuk</td>\n",
       "      <td>Tweezer Reprise</td>\n",
       "      <td>Phish</td>\n",
       "      <td>'blues rock', 'jam band'</td>\n",
       "    </tr>\n",
       "    <tr>\n",
       "      <th>1</th>\n",
       "      <td>spotify:track:44FKqeyePqfAcWfJKJkpGy</td>\n",
       "      <td>That's It For The Other One [Live in San Franc...</td>\n",
       "      <td>Grateful Dead</td>\n",
       "      <td>'classic rock', 'cosmic american', 'country ro...</td>\n",
       "    </tr>\n",
       "    <tr>\n",
       "      <th>2</th>\n",
       "      <td>spotify:track:5VGz4dSlyNwcPgokpwHKtr</td>\n",
       "      <td>Junior</td>\n",
       "      <td>Widespread Panic</td>\n",
       "      <td>'athens indie', 'jam band', 'roots rock', 'sou...</td>\n",
       "    </tr>\n",
       "  </tbody>\n",
       "</table>\n",
       "</div>"
      ],
      "text/plain": [
       "                              entity_id  \\\n",
       "0  spotify:track:2JozsL1ayPPjrZsOlQwHuk   \n",
       "1  spotify:track:44FKqeyePqfAcWfJKJkpGy   \n",
       "2  spotify:track:5VGz4dSlyNwcPgokpwHKtr   \n",
       "\n",
       "                                      track_name_can   artist_name_can  \\\n",
       "0                                    Tweezer Reprise             Phish   \n",
       "1  That's It For The Other One [Live in San Franc...     Grateful Dead   \n",
       "2                                             Junior  Widespread Panic   \n",
       "\n",
       "                                   artist_genres_can  \n",
       "0                           'blues rock', 'jam band'  \n",
       "1  'classic rock', 'cosmic american', 'country ro...  \n",
       "2  'athens indie', 'jam band', 'roots rock', 'sou...  "
      ]
     },
     "execution_count": 43,
     "metadata": {},
     "output_type": "execute_result"
    }
   ],
   "source": [
    "# return a subset of feature fields for an Entity\n",
    "read_track_feats_test = track_entity_type.read(\n",
    "    entity_ids=[\n",
    "        \"spotify:track:44FKqeyePqfAcWfJKJkpGy\", \n",
    "        \"spotify:track:2JozsL1ayPPjrZsOlQwHuk\", \n",
    "        \"spotify:track:5VGz4dSlyNwcPgokpwHKtr\",\n",
    "    ],\n",
    "    feature_ids=[\"track_name_can\", \"artist_name_can\", \"artist_genres_can\"],\n",
    ")\n",
    "# display the dataframe\n",
    "read_track_feats_test.head()"
   ]
  },
  {
   "cell_type": "markdown",
   "id": "4340c676-0189-4cd3-8071-8c748ded84f6",
   "metadata": {},
   "source": [
    "#### search `playlist` features"
   ]
  },
  {
   "cell_type": "code",
   "execution_count": 44,
   "id": "9810f5fe-25f7-42e4-91fd-74326f74fb3a",
   "metadata": {},
   "outputs": [],
   "source": [
    "# pl_aggregated_features = pl_entity_type.read(\n",
    "#     entity_ids=[\n",
    "#         \"XXXXX\", \n",
    "#         \"XXXXX\", \n",
    "#         \"XXXXX\"\n",
    "#     ],\n",
    "#     feature_ids=PL_FEATURES_IDS,\n",
    "# )"
   ]
  },
  {
   "cell_type": "code",
   "execution_count": 45,
   "id": "1adec9ee-fae1-4908-8a86-80b959a01f82",
   "metadata": {},
   "outputs": [],
   "source": [
    "# pl_aggregated_features"
   ]
  },
  {
   "cell_type": "code",
   "execution_count": null,
   "id": "cab0f090-0b25-4a6b-9b76-b2cefa151208",
   "metadata": {},
   "outputs": [],
   "source": [
    "# pl_aggregated_features.columns"
   ]
  },
  {
   "cell_type": "markdown",
   "id": "743f08db-025e-474d-9536-9805f29a3113",
   "metadata": {},
   "source": [
    "## Debugging"
   ]
  },
  {
   "cell_type": "code",
   "execution_count": 46,
   "id": "4af1f810-154e-4106-bf8f-0599c6aa85b3",
   "metadata": {},
   "outputs": [
    {
     "data": {
      "text/plain": [
       "[<google.cloud.aiplatform.featurestore.entity_type.EntityType object at 0x7fd960410610> \n",
       " resource name: projects/934903580331/locations/us-central1/featurestores/v2_sp_mpd_candidate_tracks_ndr_v1/entityTypes/tracks]"
      ]
     },
     "execution_count": 46,
     "metadata": {},
     "output_type": "execute_result"
    }
   ],
   "source": [
    "ff_feature_store.list_entity_types()"
   ]
  },
  {
   "cell_type": "code",
   "execution_count": 48,
   "id": "7f7a7a5a-28ee-4511-b1aa-76e049ce3763",
   "metadata": {},
   "outputs": [],
   "source": [
    "# ff_feature_store. "
   ]
  },
  {
   "cell_type": "markdown",
   "id": "c3c6a676-381e-484a-9bdd-02f1ce27dc6a",
   "metadata": {},
   "source": [
    "# Clean up\n",
    "\n",
    "> run the following command to delete the FS"
   ]
  },
  {
   "cell_type": "code",
   "execution_count": null,
   "id": "9517c42f-fe55-420c-82b9-4067882ef89d",
   "metadata": {},
   "outputs": [],
   "source": [
    "# ff_feature_store.delete(sync=True, force=True)"
   ]
  },
  {
   "cell_type": "markdown",
   "id": "3a5f4831-47ce-4c28-9a8f-da8ae1dd5267",
   "metadata": {},
   "source": [
    "**Finished**"
   ]
  }
 ],
 "metadata": {
  "environment": {
   "kernel": "python3",
   "name": "tf2-gpu.2-10.m103",
   "type": "gcloud",
   "uri": "gcr.io/deeplearning-platform-release/tf2-gpu.2-10:m103"
  },
  "kernelspec": {
   "display_name": "Python 3 (ipykernel)",
   "language": "python",
   "name": "python3"
  },
  "language_info": {
   "codemirror_mode": {
    "name": "ipython",
    "version": 3
   },
   "file_extension": ".py",
   "mimetype": "text/x-python",
   "name": "python",
   "nbconvert_exporter": "python",
   "pygments_lexer": "ipython3",
   "version": "3.7.12"
  }
 },
 "nbformat": 4,
 "nbformat_minor": 5
}
