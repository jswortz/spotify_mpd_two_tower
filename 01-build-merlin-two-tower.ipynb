{
 "cells": [
  {
   "cell_type": "code",
   "execution_count": null,
   "id": "uxyPOZzxBCUq",
   "metadata": {
    "id": "uxyPOZzxBCUq"
   },
   "outputs": [],
   "source": [
    "# !pip install git+https://github.com/NVIDIA-Merlin/models.git"
   ]
  },
  {
   "cell_type": "markdown",
   "id": "VUh3VmQFBCUr",
   "metadata": {
    "id": "VUh3VmQFBCUr",
    "jp-MarkdownHeadingCollapsed": true,
    "tags": [],
    "toc-hr-collapsed": true
   },
   "source": [
    "# Environment Setup\n",
    "\n",
    "Push a Nvidia repo to your artifact repository - (create a new repo if not available)\n",
    "\n",
    "### Further instructions on how to build a Merlin container can be found [here](https://github.com/jswortz/merlin-gcp)\n",
    "\n",
    "Guide\n",
    "1. In an notebook instance run from a terminal `git clone https://github.com/jswortz/merlin-gcp`\n",
    "2. Run the notebook - this will build a merlin tensorflow image. You can change the base images from NVidia if you choose - this was tested from the version in the repo\n",
    "3. This will build a container image and save it to artifact registry repository. You may need to enable the artifact repository service\n",
    "4. Create a new custom workbench by clicking \"New Notebook\" > \"Customize\"\n",
    "\n",
    "<img src=\"img/custom_workbench.png\" width=\"500\"/>\n",
    "\n",
    "5. To get to the screen for artifact repository. First select \"Advanced\" then name, select region, then go to \"Environment\"\n",
    "\n",
    "<img src=\"img/workbench-environment.png\" width=\"500\"/>\n",
    "\n",
    "6. Select the your repo and respective image\n",
    "\n",
    "<img src=\"img/image.png\" width=\"500\"/>\n",
    "\n",
    "7. Finally, if you already followed the instructions in notebook 02 setup - make sure the new workbench network is in the VPC peered network used for matching engine\n",
    "\n",
    "# Training with Merlin\n",
    "\n",
    "## Spotify example\n",
    "\n",
    "Our goal is to enable the architecture below with Vertex AI and the Merlin Models framework\n",
    "\n",
    "![](img/arch.png)\n",
    "\n",
    "## Goals\n",
    "\n",
    "The goal of this notebook is to create a simple two tower model with Nvtabular and Merlin Models\n",
    "\n",
    "1. Export data to Parquet for use in Nvtabular\n",
    "2. Create a NVtabular workflow and fit it to the data\n",
    "3. Save the fitted workflow to GCS (contains all dictionary lookups)\n",
    "4. Transform the data into GPU-optimized features from the NVtabular workflow and save to gcs\n",
    "5. Load the data again as a Merlin dataset using the workflow\n",
    "6. Create a two tower model in a few lines of code\n",
    "7. Train a two tower model\n",
    "8. Save the model (for deployment in notebook 03)\n",
    "9. Export the embeddings and save to gcs (for deployment to matching engine)\n",
    "\n",
    "*Based heavily on [this](https://github.com/NVIDIA-Merlin/models/blob/main/examples/05-Retrieval-Model.ipynb) NVIDIA resource\n",
    "\n",
    "\n",
    "Data is loaded from BQ - to parquet using the job configuration below\n",
    "\n",
    "\n",
    "Info on the data\n",
    "\n",
    "* track_uri_seed counts: 2249561\n",
    "* artist_uri_seed counts: 294110\n",
    "* album_uri_seed counts: 730377"
   ]
  },
  {
   "cell_type": "markdown",
   "id": "PuaFkpO7BCUt",
   "metadata": {
    "id": "PuaFkpO7BCUt",
    "tags": [],
    "toc-hr-collapsed": true
   },
   "source": [
    "# Export Data From BigQuery to Parquet on GCS"
   ]
  },
  {
   "cell_type": "code",
   "execution_count": 1,
   "id": "q6luptPoBCUt",
   "metadata": {
    "id": "q6luptPoBCUt",
    "outputId": "1d7a6df0-c9d2-488a-96ea-71be4635c931",
    "tags": []
   },
   "outputs": [],
   "source": [
    "PROJECT = 'wortz-project-352116'  # <--- TODO: CHANGE THIS\n",
    "LOCATION = 'us-central1'\n",
    "# path = 'gs://two-tower-models' #TODO change to your model directory\n",
    "BUCKET = 'gs://spotify-jsw-mpd-2023'\n",
    "DATASET_ID = 'spotify_e2e_test'\n",
    "TABLE = 'train_flatten_last_5'\n",
    "TABLE_VALIDATION = 'train_flatten_valid_last_5'\n",
    "\n",
    "\n",
    "import os\n",
    "os.environ[\"TF_GPU_ALLOCATOR\"] = \"cuda_malloc_async\"\n",
    "\n",
    "from google.cloud import bigquery\n",
    "client = bigquery.Client()\n",
    "\n",
    "\n",
    "\n",
    "def export_bq_to_parquet(PROJECT, DATASET_ID, TABLE, LOCATION, prefix):\n",
    "    destination_uri = f\"{BUCKET}/{prefix}_data_parquet/*.snappy.parquet\"\n",
    "    dataset_ref = bigquery.DatasetReference(PROJECT, DATASET_ID)\n",
    "    table_ref = dataset_ref.table(TABLE)\n",
    "    job_config = bigquery.job.ExtractJobConfig()\n",
    "    job_config.destination_format = bigquery.DestinationFormat.PARQUET\n",
    "    extract_job = client.extract_table(\n",
    "        table_ref,\n",
    "        destination_uri,\n",
    "        job_config=job_config,\n",
    "        # Location must match that of the source table.\n",
    "        location='US',\n",
    "    )  # API request\n",
    "    return(extract_job.result())  # Waits for job to complete."
   ]
  },
  {
   "cell_type": "markdown",
   "id": "sTIG8tqgBCUu",
   "metadata": {
    "id": "sTIG8tqgBCUu"
   },
   "source": [
    "#### Export the data from Bigquery to Parquet\n",
    "\n",
    "*Run only once* Uncomment to run"
   ]
  },
  {
   "cell_type": "code",
   "execution_count": 5,
   "id": "mcUPY-w8BCUu",
   "metadata": {
    "id": "mcUPY-w8BCUu",
    "tags": []
   },
   "outputs": [],
   "source": [
    "# # training\n",
    "# export_bq_to_parquet(PROJECT, DATASET_ID, TABLE, LOCATION, prefix='train')\n",
    "\n",
    "# # # validation\n",
    "# export_bq_to_parquet(PROJECT, DATASET_ID, TABLE_VALIDATION, LOCATION, prefix='valid')"
   ]
  },
  {
   "cell_type": "markdown",
   "id": "yWMyLniwBCUu",
   "metadata": {
    "id": "yWMyLniwBCUu",
    "tags": [],
    "toc-hr-collapsed": true
   },
   "source": [
    "# Create a NVTabular Workflow To Preprocess The Data"
   ]
  },
  {
   "cell_type": "code",
   "execution_count": 4,
   "id": "NNycFca4BCUv",
   "metadata": {
    "id": "NNycFca4BCUv",
    "outputId": "e9e3d697-855c-4f45-e33d-db032a327190",
    "tags": []
   },
   "outputs": [
    {
     "name": "stderr",
     "output_type": "stream",
     "text": [
      "2023-05-25 19:43:32.861358: I tensorflow/core/platform/cpu_feature_guard.cc:194] This TensorFlow binary is optimized with oneAPI Deep Neural Network Library (oneDNN) to use the following CPU instructions in performance-critical operations:  SSE3 SSE4.1 SSE4.2 AVX\n",
      "To enable them in other operations, rebuild TensorFlow with the appropriate compiler flags.\n",
      "2023-05-25 19:43:33.000271: I tensorflow/core/util/port.cc:104] oneDNN custom operations are on. You may see slightly different numerical results due to floating-point round-off errors from different computation orders. To turn them off, set the environment variable `TF_ENABLE_ONEDNN_OPTS=0`.\n",
      "/usr/local/lib/python3.8/dist-packages/merlin/dtypes/mappings/torch.py:43: UserWarning: PyTorch dtype mappings did not load successfully due to an error: No module named 'torch'\n",
      "  warn(f\"PyTorch dtype mappings did not load successfully due to an error: {exc.msg}\")\n"
     ]
    }
   ],
   "source": [
    "from time import time\n",
    "import pandas as pd\n",
    "# disable INFO and DEBUG logging everywhere\n",
    "import logging\n",
    "import time\n",
    "from dask.distributed import Client\n",
    "from dask_cuda import LocalCUDACluster\n",
    "import fsspec\n",
    "import numpy as np\n",
    "\n",
    "import nvtabular as nvt\n",
    "from merlin.io.shuffle import Shuffle\n",
    "from nvtabular.ops import (\n",
    "    Categorify,\n",
    "    TagAsUserID,\n",
    "    TagAsItemID,\n",
    "    TagAsItemFeatures,\n",
    "    TagAsUserFeatures,\n",
    "    AddMetadata,\n",
    "    ListSlice\n",
    ")\n",
    "import nvtabular.ops as ops\n",
    "from nvtabular.utils import device_mem_size\n",
    "\n",
    "from merlin.schema.tags import Tags\n",
    "# import merlin.models.tf as mm\n",
    "from merlin.io.dataset import Dataset\n",
    "import tensorflow as tf\n",
    "\n",
    "\n",
    "logging.disable(logging.WARNING)\n",
    "\n",
    "\n",
    "# for running this example on CPU, comment out the line below\n"
   ]
  },
  {
   "cell_type": "markdown",
   "id": "IhXdqwNsBCUv",
   "metadata": {
    "id": "IhXdqwNsBCUv",
    "tags": []
   },
   "source": [
    "### Create NVTabular Dataset\n",
    "This will be our pre-processor to hash strings and other preprocessing"
   ]
  },
  {
   "cell_type": "code",
   "execution_count": 3,
   "id": "5vANLF9gBCUv",
   "metadata": {
    "id": "5vANLF9gBCUv",
    "tags": []
   },
   "outputs": [],
   "source": [
    "train = nvt.Dataset(f\"{BUCKET}/train_data_parquet/*.snappy.parquet\")\n",
    "valid = nvt.Dataset(f\"{BUCKET}/valid_data_parquet/*.snappy.parquet\")"
   ]
  },
  {
   "cell_type": "markdown",
   "id": "pwCh2sKhBCUv",
   "metadata": {
    "id": "pwCh2sKhBCUv"
   },
   "source": [
    "#### Define the NVTabular preprocessing graph\n",
    "\n",
    "Nvtabular takes a tabular dataset and transforms the data into new Parquet files optimized for training. This is equivalent to running a string lookup in tensorflow, and has similar functionality as adpat when a workflow is used\n",
    "\n",
    "The graph is defined as a set of nodes and a node is defined as follows:\n",
    "\n",
    "```\n",
    "NODE_NAME = LIST_OF_FEATURE_NAMES >> nvt.ops.* >> [NEXT_STEP] >> Tag\n",
    "```\n",
    "\n",
    "Nvt has many ops - one of the most notable is `Categorify` as it is flexible and converts high cardinality text features to indicies\n",
    "\n",
    "Tags are used as a means to label the schema in the metadata and serves as a label for merlin models to interpret for consumption (e.g. which features belong to the query tower and candidate tower have different tags). You will see the tags in the schema in examples below"
   ]
  },
  {
   "cell_type": "markdown",
   "id": "dYMTGn22BCUw",
   "metadata": {
    "id": "dYMTGn22BCUw"
   },
   "source": [
    "### Define a workflow\n",
    "This is an easy step by adding all nodes that need to run in parallel. A graphviz visualization of the graph is available below"
   ]
  },
  {
   "cell_type": "markdown",
   "id": "2I8dVGeHBCUx",
   "metadata": {
    "id": "2I8dVGeHBCUx"
   },
   "source": [
    "### Before we transform the data, let's look at an original record\n",
    "This loads the data into a dask pandas dataframe. `.to_ddf()` converts the dataset into a dask df"
   ]
  },
  {
   "cell_type": "code",
   "execution_count": 14,
   "id": "7PwjEYOjBCUw",
   "metadata": {
    "id": "7PwjEYOjBCUw",
    "tags": []
   },
   "outputs": [],
   "source": [
    "# =============================================\n",
    "# featutres\n",
    "# =============================================\n",
    "item_id = [\"track_uri_can\"] >> Categorify(dtype=\"int32\") >> TagAsItemID() \n",
    "playlist_id = [\"pid\"] >> Categorify(dtype=\"int32\") >> TagAsUserID() \n",
    "\n",
    "\n",
    "item_features_cat = [\n",
    "    'artist_name_can',\n",
    "    'track_name_can',\n",
    "    'artist_genres_can',\n",
    "]\n",
    "\n",
    "item_features_cont = [\n",
    "    'duration_ms_can',\n",
    "    'track_pop_can',\n",
    "    'artist_pop_can',\n",
    "    'artist_followers_can',\n",
    "]\n",
    "\n",
    "playlist_features_cat = [\n",
    "    'pl_name_src',\n",
    "    'pl_collaborative_src',\n",
    "]\n",
    "\n",
    "playlist_features_cont = [\n",
    "    'pl_duration_ms_new',\n",
    "    'num_pl_songs_new',\n",
    "    'num_pl_artists_new',\n",
    "    'num_pl_albums_new',\n",
    "]\n",
    "\n",
    "seq_feats_cat = [\n",
    "    'artist_name_pl',\n",
    "    'track_uri_pl',\n",
    "    'track_name_pl',\n",
    "    'album_name_pl',\n",
    "    'artist_genres_pl',\n",
    "]\n",
    "\n",
    "CAT = playlist_features_cat + item_features_cat\n",
    "CONT = item_features_cont + playlist_features_cont\n",
    "\n",
    "# item_feature_cat_node = item_features_cat >> nvt.ops.FillMissing()>> Categorify(dtype=\"int32\") >> TagAsItemFeatures()\n",
    "\n",
    "# item_feature_cont_node =  item_features_cont >> nvt.ops.FillMissing() >>  nvt.ops.Normalize() >> TagAsItemFeatures()\n",
    "\n",
    "# playlist_feature_cat_node = playlist_features_cat >> nvt.ops.FillMissing() >> Categorify(dtype=\"int32\") >> TagAsUserFeatures() \n",
    "\n",
    "# playlist_feature_cont_node = playlist_features_cont >> nvt.ops.FillMissing() >>  nvt.ops.Normalize() >> TagAsUserFeatures()\n",
    "\n",
    "# playlist_feature_cat_seq_node = seq_feats_cat >> nvt.ops.FillMissing() >> Categorify(dtype=\"int32\") >> TagAsUserFeatures() \n",
    "\n",
    "# =============================================\n",
    "# create cluster\n",
    "# =============================================\n",
    "# def create_cluster(\n",
    "#     n_workers,\n",
    "#     device_limit_frac,\n",
    "#     device_pool_frac,\n",
    "#     memory_limit\n",
    "# ):\n",
    "#     \"\"\"Create a Dask cluster to apply the transformations steps to the Dataset.\"\"\"\n",
    "#     device_size = device_mem_size()\n",
    "#     device_limit = int(device_limit_frac * device_size)\n",
    "#     device_pool_size = int(device_pool_frac * device_size)\n",
    "#     rmm_pool_size = (device_pool_size // 256) * 256\n",
    "\n",
    "#     cluster = LocalCUDACluster(\n",
    "#         n_workers=n_workers,\n",
    "#         device_memory_limit=device_limit,\n",
    "#         rmm_pool_size=rmm_pool_size,\n",
    "#         memory_limit=memory_limit\n",
    "#     )\n",
    "\n",
    "#     return Client(cluster)\n",
    "\n",
    "# =============================================\n",
    "#            Create & Save dataset\n",
    "# =============================================\n",
    "\n",
    "def create_parquet_nvt_dataset(\n",
    "    # data_path,\n",
    "    frac_size,\n",
    "    file_pattern=None,\n",
    "):\n",
    "    \"\"\"Create a nvt.Dataset definition for the parquet files.\"\"\"\n",
    "    \n",
    "    #DATA_PATH = f\"gs://{bucket_name}/{data_prefix}/{file_pattern}\" #0000000000**.snappy.parquet\"\n",
    "\n",
    "        # os.path.join(data_path, '*.parquet')\n",
    "    # )\n",
    "\n",
    "#     if not file_list:\n",
    "#         raise FileNotFoundError('Parquet file(s) not found')\n",
    "\n",
    "#     file_list = [os.path.join('gs://', i) for i in file_list]\n",
    "\n",
    "    # return nvt.Dataset(f\"{bucket_name}/{data_prefix}/0000000000**.snappy.parquet\", part_mem_fraction=frac_size)\n",
    "    \n",
    "    file_list = os.path.join(file_pattern, \"train\", \"*.snappy.parquet\")\n",
    "    \n",
    "    print(file_list)\n",
    "    return nvt.Dataset(\n",
    "        file_list,\n",
    "        engine='parquet',\n",
    "        part_mem_fraction=frac_size\n",
    "  )\n",
    "\n",
    "def save_dataset(\n",
    "    dataset,\n",
    "    output_path,\n",
    "    output_files,\n",
    "    # categorical_cols,\n",
    "    # continuous_cols,\n",
    "    shuffle=None,\n",
    "):\n",
    "    \"\"\"Save dataset to parquet files to path.\"\"\"\n",
    "    categorical_cols=CAT\n",
    "    continuous_cols=CONT\n",
    "\n",
    "    dict_dtypes = {}\n",
    "    for col in categorical_cols:\n",
    "        dict_dtypes[col] = np.int32\n",
    "\n",
    "    for col in continuous_cols:\n",
    "        dict_dtypes[col] = np.float64\n",
    "\n",
    "    dataset.to_parquet(\n",
    "        output_path=output_path,\n",
    "        shuffle=shuffle,\n",
    "        output_files=output_files,\n",
    "        dtypes=dict_dtypes,\n",
    "        cats=categorical_cols,\n",
    "        conts=continuous_cols,\n",
    "    )\n",
    "\n",
    "# =============================================\n",
    "#            Workflow\n",
    "# =============================================\n",
    "def create_nvt_workflow():\n",
    "    '''\n",
    "    Create a nvt.Workflow definition with transformation all the steps\n",
    "    '''\n",
    "    item_id = [\"track_uri_can\"] >> Categorify(dtype=\"int32\") >> TagAsItemID() \n",
    "    playlist_id = [\"pid\"] >> Categorify(dtype=\"int32\") >> TagAsUserID() \n",
    "\n",
    "\n",
    "    item_features_cat = ['artist_name_can',\n",
    "            'track_name_can',\n",
    "            'artist_genres_can',\n",
    "        ]\n",
    "\n",
    "    item_features_cont = [\n",
    "            'duration_ms_can',\n",
    "            'track_pop_can',\n",
    "            'artist_pop_can',\n",
    "            'artist_followers_can',\n",
    "        ]\n",
    "\n",
    "    playlist_features_cat = [\n",
    "            'pl_name_src',\n",
    "            'pl_collaborative_src',\n",
    "        ]\n",
    "\n",
    "    playlist_features_cont = [\n",
    "            'pl_duration_ms_new',\n",
    "            'num_pl_songs_new',\n",
    "            'num_pl_artists_new',\n",
    "            'num_pl_albums_new',\n",
    "        ]\n",
    "\n",
    "    seq_feats_cat = [\n",
    "            'artist_name_pl',\n",
    "            'track_uri_pl',\n",
    "            'track_name_pl',\n",
    "            'album_name_pl',\n",
    "            'artist_genres_pl',\n",
    "        ]\n",
    "\n",
    "    CAT = playlist_features_cat + item_features_cat\n",
    "    CONT = item_features_cont + playlist_features_cont\n",
    "\n",
    "    item_feature_cat_node = item_features_cat >> Categorify(dtype=\"int32\") >> TagAsItemFeatures()\n",
    "\n",
    "    item_feature_cont_node =  (\n",
    "        item_features_cont \n",
    "        >> nvt.ops.FillMedian() \n",
    "        >>  nvt.ops.Normalize() \n",
    "        >> nvt.ops.LambdaOp(lambda col: col.astype(\"float32\"))\n",
    "        >> TagAsItemFeatures()\n",
    "    )\n",
    "\n",
    "    playlist_feature_cat_node = playlist_features_cat >> Categorify(dtype=\"int32\") >> TagAsUserFeatures() \n",
    "\n",
    "    playlist_feature_cont_node = (\n",
    "        playlist_features_cont \n",
    "        >> nvt.ops.FillMedian() \n",
    "        >>  nvt.ops.Normalize() \n",
    "        >> nvt.ops.LambdaOp(lambda col: col.astype(\"float32\"))\n",
    "        >> TagAsUserFeatures()\n",
    "    )\n",
    "\n",
    "    playlist_feature_cat_seq_node = seq_feats_cat >> Categorify(dtype=\"int32\") >> TagAsUserFeatures()\n",
    "    \n",
    "    # define a workflow\n",
    "    output = playlist_id + item_id \\\n",
    "    + item_feature_cat_node \\\n",
    "    + item_feature_cont_node \\\n",
    "    + playlist_feature_cat_node \\\n",
    "    + playlist_feature_cont_node \\\n",
    "    + playlist_feature_cat_seq_node \n",
    "\n",
    "    workflow = nvt.Workflow(output)\n",
    "    \n",
    "    return workflow\n",
    "\n",
    "# =============================================\n",
    "#            Create Parquet Dataset \n",
    "# =============================================\n",
    "\n",
    "def create_parquet_dataset_definition(\n",
    "    # data_paths,\n",
    "    # recursive,\n",
    "    # col_dtypes,\n",
    "    frac_size=0.1,\n",
    "    file_pattern='/workspace/google/raw_data/train/',\n",
    "    # sep='\\t'\n",
    "):\n",
    " \n",
    "    \n",
    "    return nvt.Dataset(f\"{file_pattern}\", engine='parquet', part_mem_fraction=frac_size)\n",
    "\n",
    "\n",
    "\n",
    "### WHY IS THIS FUNC REQUIRED?\n",
    "def convert_definition_to_parquet(\n",
    "    dataset,\n",
    "    output_path='/workspace/google/processed/',\n",
    "    output_files=1,\n",
    "    shuffle=None\n",
    "):\n",
    "    \"\"\"Convert Parquet files to parquet and write to GCS.\"\"\"\n",
    "    if shuffle == 'None':\n",
    "        shuffle = None\n",
    "    else:\n",
    "        try:\n",
    "            shuffle = getattr(Shuffle, shuffle)\n",
    "        except:\n",
    "            print('Shuffle method not available. Using default.')\n",
    "            shuffle = None\n",
    "\n",
    "    dataset.to_parquet(\n",
    "        output_path,\n",
    "        shuffle=shuffle,\n",
    "        output_files=output_files\n",
    "    )\n",
    "    \n",
    "# =============================================\n",
    "#            Create nv-tabular definition\n",
    "# ============================================="
   ]
  },
  {
   "cell_type": "markdown",
   "id": "f2ee9523-15ea-44ff-81cc-6b4488c2e91f",
   "metadata": {
    "id": "CwJkgU2ZBCUx"
   },
   "source": [
    "### Now set the output buckets for the validation and training"
   ]
  },
  {
   "cell_type": "code",
   "execution_count": 2,
   "id": "nKW3AZAHBCUx",
   "metadata": {
    "id": "nKW3AZAHBCUx",
    "outputId": "7daf22f9-13b9-4f0f-82f2-5f5b3872483f",
    "tags": []
   },
   "outputs": [
    {
     "name": "stdout",
     "output_type": "stream",
     "text": [
      "Train data dir: gs://spotify-jsw-mpd-2023/train_nvt_processed\n",
      "Valid data dir: gs://spotify-jsw-mpd-2023/valid_nvt_processed\n"
     ]
    }
   ],
   "source": [
    "output_train_dir = os.path.join(BUCKET, 'train_nvt_processed')\n",
    "output_valid_dir = os.path.join(BUCKET, 'valid_nvt_processed')\n",
    "output_workflow_dir = os.path.join(BUCKET, 'workflow', '2t-spotify-workflow')\n",
    "workflow_path = 'workflow/2t-spotify-workflow'\n",
    "\n",
    "print(f\"Train data dir: {output_train_dir}\\nValid data dir: {output_valid_dir}\")"
   ]
  },
  {
   "cell_type": "markdown",
   "id": "83828516-93a7-4f37-a943-75d78f7e3ed8",
   "metadata": {
    "id": "AR8iY3BvBCUx",
    "tags": []
   },
   "source": [
    "## Load and preprocess training data back to Parquet GCS\n",
    "helpful resources https://cloud.google.com/compute/docs/gpus/monitor-gpus\n",
    "\n",
    "## Also, be sure to install `nvtop` the install script is in `utils/install_nvtop.sh`\n",
    "\n",
    "## Fit Transform is called on the workflow to pass over the data\n",
    "The categorical and continuous features must be specified. In this example shuffling is enabled so we only shuflle one time. You can size your output and experiment with number of output files - depending on your use case think of your GPU memory available with respective file sizes\n",
    "\n",
    "## ** This can take some time (about an hour) but is a one-time save to gcs **"
   ]
  },
  {
   "cell_type": "code",
   "execution_count": null,
   "id": "7ef0a398-c2bc-4609-8e08-2f71539c41d2",
   "metadata": {
    "tags": []
   },
   "outputs": [],
   "source": [
    "# Create Workflow\n",
    "nvt_workflow = create_nvt_workflow()\n",
    "\n",
    "logging.info('Analyzing dataset')\n",
    "nvt_workflow.fit_transform(train).to_parquet(output_path=output_train_dir,\n",
    "                                         shuffle=nvt.io.Shuffle.PER_PARTITION,\n",
    "                                         cats=CAT,\n",
    "                                         conts=CONT,\n",
    "                                         output_files = 100\n",
    "                                         )"
   ]
  },
  {
   "cell_type": "markdown",
   "id": "4eb6d387-ccf3-4bc5-bd56-78613b4a392f",
   "metadata": {
    "id": "5urE7g6gBCUy",
    "tags": []
   },
   "source": [
    "### Saving to GCS is simple with GCS Fuse, which is already included in the if you built an image from [here](https://github.com/jswortz/merlin-gcp)"
   ]
  },
  {
   "cell_type": "code",
   "execution_count": null,
   "id": "b69728d2-d5f7-431b-8a0d-3ddb76cb36b0",
   "metadata": {
    "tags": []
   },
   "outputs": [],
   "source": [
    "#save the workflow to disk (GCS here via ) after it has been fit\n",
    "\n",
    "nvt_workflow.save(output_workflow_dir)\n",
    "#locally for training too\n",
    "nvt_workflow.save(workflow_path)"
   ]
  },
  {
   "cell_type": "markdown",
   "id": "16ed9bc5-57a7-4705-9ac0-a803b97805c0",
   "metadata": {
    "id": "HFSPCmozBCUy"
   },
   "source": [
    "## Transform validation data using the same workflow\n",
    "\n",
    "This works similarly to a sklearn object where you can fit then transform after"
   ]
  },
  {
   "cell_type": "code",
   "execution_count": null,
   "id": "ad7f5eb4-e2a4-44cf-a3fe-20e18b82dd66",
   "metadata": {
    "tags": []
   },
   "outputs": [],
   "source": [
    "nvt_workflow.transform(valid).to_parquet(output_path=output_valid_dir,\n",
    "                                         shuffle=nvt.io.Shuffle.PER_PARTITION,\n",
    "                                         cats=CAT,\n",
    "                                         conts=CONT,\n",
    "                                         output_files=10\n",
    "                                         )"
   ]
  },
  {
   "cell_type": "code",
   "execution_count": 19,
   "id": "-kzoYO2EBCUx",
   "metadata": {
    "id": "-kzoYO2EBCUx",
    "outputId": "c668d1b3-53f7-40bc-e89d-8fe3f7d12cd3",
    "tags": []
   },
   "outputs": [
    {
     "data": {
      "text/html": [
       "<div>\n",
       "<style scoped>\n",
       "    .dataframe tbody tr th:only-of-type {\n",
       "        vertical-align: middle;\n",
       "    }\n",
       "\n",
       "    .dataframe tbody tr th {\n",
       "        vertical-align: top;\n",
       "    }\n",
       "\n",
       "    .dataframe thead th {\n",
       "        text-align: right;\n",
       "    }\n",
       "</style>\n",
       "<table border=\"1\" class=\"dataframe\">\n",
       "  <thead>\n",
       "    <tr style=\"text-align: right;\">\n",
       "      <th></th>\n",
       "      <th>pid</th>\n",
       "      <th>pl_name_src</th>\n",
       "      <th>pl_collaborative_src</th>\n",
       "      <th>pl_duration_ms_new</th>\n",
       "      <th>num_pl_songs_new</th>\n",
       "      <th>num_pl_artists_new</th>\n",
       "      <th>num_pl_albums_new</th>\n",
       "      <th>track_uri_can</th>\n",
       "      <th>track_name_can</th>\n",
       "      <th>artist_uri_can</th>\n",
       "      <th>...</th>\n",
       "      <th>track_key_pl</th>\n",
       "      <th>track_loudness_pl</th>\n",
       "      <th>track_mode_pl</th>\n",
       "      <th>track_acousticness_pl</th>\n",
       "      <th>track_instrumentalness_pl</th>\n",
       "      <th>track_liveness_pl</th>\n",
       "      <th>track_valence_pl</th>\n",
       "      <th>track_tempo_pl</th>\n",
       "      <th>track_time_signature_pl</th>\n",
       "      <th>track_speechiness_pl</th>\n",
       "    </tr>\n",
       "  </thead>\n",
       "  <tbody>\n",
       "    <tr>\n",
       "      <th>0</th>\n",
       "      <td>194900</td>\n",
       "      <td>Seattle</td>\n",
       "      <td>false</td>\n",
       "      <td>15479804.0</td>\n",
       "      <td>64.0</td>\n",
       "      <td>60.0</td>\n",
       "      <td>61.0</td>\n",
       "      <td>spotify:track:2RDsxaqpsVk440egMQFgpL</td>\n",
       "      <td>To the Stars</td>\n",
       "      <td>spotify:artist:5xiJf2d42qdsVyYvLo4AfN</td>\n",
       "      <td>...</td>\n",
       "      <td>[0.0, 6.0, 0.0, 2.0, 10.0]</td>\n",
       "      <td>[-16.677, -11.94, -9.251, -9.603, -27.724]</td>\n",
       "      <td>[1, 1, 1, 1, 1]</td>\n",
       "      <td>[0.77, 0.918, 0.104, 0.816, 0.355]</td>\n",
       "      <td>[0.0, 0.848, 5.59e-05, 2.01e-06, 0.0]</td>\n",
       "      <td>[0.0966, 0.12, 0.131, 0.681, 0.0862]</td>\n",
       "      <td>[0.216, 0.143, 0.206, 0.284, 0.336]</td>\n",
       "      <td>[106.415, 97.884, 113.978, 91.964, 117.882]</td>\n",
       "      <td>[4, 4, 3, 4, 5]</td>\n",
       "      <td>[0.0497, 0.0304, 0.0403, 0.0502, 0.0341]</td>\n",
       "    </tr>\n",
       "  </tbody>\n",
       "</table>\n",
       "<p>1 rows × 53 columns</p>\n",
       "</div>"
      ],
      "text/plain": [
       "      pid pl_name_src pl_collaborative_src  pl_duration_ms_new  \\\n",
       "0  194900     Seattle                false          15479804.0   \n",
       "\n",
       "   num_pl_songs_new  num_pl_artists_new  num_pl_albums_new  \\\n",
       "0              64.0                60.0               61.0   \n",
       "\n",
       "                          track_uri_can track_name_can  \\\n",
       "0  spotify:track:2RDsxaqpsVk440egMQFgpL   To the Stars   \n",
       "\n",
       "                          artist_uri_can  ...                track_key_pl  \\\n",
       "0  spotify:artist:5xiJf2d42qdsVyYvLo4AfN  ...  [0.0, 6.0, 0.0, 2.0, 10.0]   \n",
       "\n",
       "                            track_loudness_pl    track_mode_pl  \\\n",
       "0  [-16.677, -11.94, -9.251, -9.603, -27.724]  [1, 1, 1, 1, 1]   \n",
       "\n",
       "                track_acousticness_pl              track_instrumentalness_pl  \\\n",
       "0  [0.77, 0.918, 0.104, 0.816, 0.355]  [0.0, 0.848, 5.59e-05, 2.01e-06, 0.0]   \n",
       "\n",
       "                      track_liveness_pl                     track_valence_pl  \\\n",
       "0  [0.0966, 0.12, 0.131, 0.681, 0.0862]  [0.216, 0.143, 0.206, 0.284, 0.336]   \n",
       "\n",
       "                                track_tempo_pl track_time_signature_pl  \\\n",
       "0  [106.415, 97.884, 113.978, 91.964, 117.882]         [4, 4, 3, 4, 5]   \n",
       "\n",
       "                       track_speechiness_pl  \n",
       "0  [0.0497, 0.0304, 0.0403, 0.0502, 0.0341]  \n",
       "\n",
       "[1 rows x 53 columns]"
      ]
     },
     "execution_count": 19,
     "metadata": {},
     "output_type": "execute_result"
    }
   ],
   "source": [
    "# Don't truncate text fields in the display\n",
    "pd.set_option(\"display.max_colwidth\", None)\n",
    "\n",
    "valid.to_ddf().head(1)"
   ]
  },
  {
   "cell_type": "code",
   "execution_count": 21,
   "id": "zHKHvsunBCUz",
   "metadata": {
    "id": "zHKHvsunBCUz",
    "outputId": "f709d222-2bfb-476b-e1fd-533a41ccb518",
    "tags": []
   },
   "outputs": [
    {
     "data": {
      "text/html": [
       "<div>\n",
       "<style scoped>\n",
       "    .dataframe tbody tr th:only-of-type {\n",
       "        vertical-align: middle;\n",
       "    }\n",
       "\n",
       "    .dataframe tbody tr th {\n",
       "        vertical-align: top;\n",
       "    }\n",
       "\n",
       "    .dataframe thead th {\n",
       "        text-align: right;\n",
       "    }\n",
       "</style>\n",
       "<table border=\"1\" class=\"dataframe\">\n",
       "  <thead>\n",
       "    <tr style=\"text-align: right;\">\n",
       "      <th></th>\n",
       "      <th>name</th>\n",
       "      <th>tags</th>\n",
       "      <th>dtype</th>\n",
       "      <th>is_list</th>\n",
       "      <th>is_ragged</th>\n",
       "      <th>properties.value_count.min</th>\n",
       "      <th>properties.value_count.max</th>\n",
       "    </tr>\n",
       "  </thead>\n",
       "  <tbody>\n",
       "    <tr>\n",
       "      <th>0</th>\n",
       "      <td>pid</td>\n",
       "      <td>()</td>\n",
       "      <td>DType(name='int64', element_type=&lt;ElementType.Int: 'int'&gt;, element_size=64, element_unit=None, signed=True, shape=Shape(dims=(Dimension(min=0, max=None),)))</td>\n",
       "      <td>False</td>\n",
       "      <td>False</td>\n",
       "      <td>NaN</td>\n",
       "      <td>NaN</td>\n",
       "    </tr>\n",
       "    <tr>\n",
       "      <th>1</th>\n",
       "      <td>track_uri_can</td>\n",
       "      <td>()</td>\n",
       "      <td>DType(name='object', element_type=&lt;ElementType.Object: 'object'&gt;, element_size=None, element_unit=None, signed=None, shape=Shape(dims=(Dimension(min=0, max=None),)))</td>\n",
       "      <td>False</td>\n",
       "      <td>False</td>\n",
       "      <td>NaN</td>\n",
       "      <td>NaN</td>\n",
       "    </tr>\n",
       "    <tr>\n",
       "      <th>2</th>\n",
       "      <td>artist_name_can</td>\n",
       "      <td>()</td>\n",
       "      <td>DType(name='object', element_type=&lt;ElementType.Object: 'object'&gt;, element_size=None, element_unit=None, signed=None, shape=Shape(dims=(Dimension(min=0, max=None),)))</td>\n",
       "      <td>False</td>\n",
       "      <td>False</td>\n",
       "      <td>NaN</td>\n",
       "      <td>NaN</td>\n",
       "    </tr>\n",
       "    <tr>\n",
       "      <th>3</th>\n",
       "      <td>track_name_can</td>\n",
       "      <td>()</td>\n",
       "      <td>DType(name='object', element_type=&lt;ElementType.Object: 'object'&gt;, element_size=None, element_unit=None, signed=None, shape=Shape(dims=(Dimension(min=0, max=None),)))</td>\n",
       "      <td>False</td>\n",
       "      <td>False</td>\n",
       "      <td>NaN</td>\n",
       "      <td>NaN</td>\n",
       "    </tr>\n",
       "    <tr>\n",
       "      <th>4</th>\n",
       "      <td>artist_genres_can</td>\n",
       "      <td>()</td>\n",
       "      <td>DType(name='object', element_type=&lt;ElementType.Object: 'object'&gt;, element_size=None, element_unit=None, signed=None, shape=Shape(dims=(Dimension(min=0, max=None),)))</td>\n",
       "      <td>False</td>\n",
       "      <td>False</td>\n",
       "      <td>NaN</td>\n",
       "      <td>NaN</td>\n",
       "    </tr>\n",
       "    <tr>\n",
       "      <th>5</th>\n",
       "      <td>duration_ms_can</td>\n",
       "      <td>()</td>\n",
       "      <td>DType(name='float64', element_type=&lt;ElementType.Float: 'float'&gt;, element_size=64, element_unit=None, signed=True, shape=Shape(dims=(Dimension(min=0, max=None),)))</td>\n",
       "      <td>False</td>\n",
       "      <td>False</td>\n",
       "      <td>NaN</td>\n",
       "      <td>NaN</td>\n",
       "    </tr>\n",
       "    <tr>\n",
       "      <th>6</th>\n",
       "      <td>track_pop_can</td>\n",
       "      <td>()</td>\n",
       "      <td>DType(name='float64', element_type=&lt;ElementType.Float: 'float'&gt;, element_size=64, element_unit=None, signed=True, shape=Shape(dims=(Dimension(min=0, max=None),)))</td>\n",
       "      <td>False</td>\n",
       "      <td>False</td>\n",
       "      <td>NaN</td>\n",
       "      <td>NaN</td>\n",
       "    </tr>\n",
       "    <tr>\n",
       "      <th>7</th>\n",
       "      <td>artist_pop_can</td>\n",
       "      <td>()</td>\n",
       "      <td>DType(name='float64', element_type=&lt;ElementType.Float: 'float'&gt;, element_size=64, element_unit=None, signed=True, shape=Shape(dims=(Dimension(min=0, max=None),)))</td>\n",
       "      <td>False</td>\n",
       "      <td>False</td>\n",
       "      <td>NaN</td>\n",
       "      <td>NaN</td>\n",
       "    </tr>\n",
       "    <tr>\n",
       "      <th>8</th>\n",
       "      <td>artist_followers_can</td>\n",
       "      <td>()</td>\n",
       "      <td>DType(name='float64', element_type=&lt;ElementType.Float: 'float'&gt;, element_size=64, element_unit=None, signed=True, shape=Shape(dims=(Dimension(min=0, max=None),)))</td>\n",
       "      <td>False</td>\n",
       "      <td>False</td>\n",
       "      <td>NaN</td>\n",
       "      <td>NaN</td>\n",
       "    </tr>\n",
       "    <tr>\n",
       "      <th>9</th>\n",
       "      <td>pl_name_src</td>\n",
       "      <td>()</td>\n",
       "      <td>DType(name='object', element_type=&lt;ElementType.Object: 'object'&gt;, element_size=None, element_unit=None, signed=None, shape=Shape(dims=(Dimension(min=0, max=None),)))</td>\n",
       "      <td>False</td>\n",
       "      <td>False</td>\n",
       "      <td>NaN</td>\n",
       "      <td>NaN</td>\n",
       "    </tr>\n",
       "    <tr>\n",
       "      <th>10</th>\n",
       "      <td>pl_collaborative_src</td>\n",
       "      <td>()</td>\n",
       "      <td>DType(name='object', element_type=&lt;ElementType.Object: 'object'&gt;, element_size=None, element_unit=None, signed=None, shape=Shape(dims=(Dimension(min=0, max=None),)))</td>\n",
       "      <td>False</td>\n",
       "      <td>False</td>\n",
       "      <td>NaN</td>\n",
       "      <td>NaN</td>\n",
       "    </tr>\n",
       "    <tr>\n",
       "      <th>11</th>\n",
       "      <td>pl_duration_ms_new</td>\n",
       "      <td>()</td>\n",
       "      <td>DType(name='float64', element_type=&lt;ElementType.Float: 'float'&gt;, element_size=64, element_unit=None, signed=True, shape=Shape(dims=(Dimension(min=0, max=None),)))</td>\n",
       "      <td>False</td>\n",
       "      <td>False</td>\n",
       "      <td>NaN</td>\n",
       "      <td>NaN</td>\n",
       "    </tr>\n",
       "    <tr>\n",
       "      <th>12</th>\n",
       "      <td>num_pl_songs_new</td>\n",
       "      <td>()</td>\n",
       "      <td>DType(name='float64', element_type=&lt;ElementType.Float: 'float'&gt;, element_size=64, element_unit=None, signed=True, shape=Shape(dims=(Dimension(min=0, max=None),)))</td>\n",
       "      <td>False</td>\n",
       "      <td>False</td>\n",
       "      <td>NaN</td>\n",
       "      <td>NaN</td>\n",
       "    </tr>\n",
       "    <tr>\n",
       "      <th>13</th>\n",
       "      <td>num_pl_artists_new</td>\n",
       "      <td>()</td>\n",
       "      <td>DType(name='float64', element_type=&lt;ElementType.Float: 'float'&gt;, element_size=64, element_unit=None, signed=True, shape=Shape(dims=(Dimension(min=0, max=None),)))</td>\n",
       "      <td>False</td>\n",
       "      <td>False</td>\n",
       "      <td>NaN</td>\n",
       "      <td>NaN</td>\n",
       "    </tr>\n",
       "    <tr>\n",
       "      <th>14</th>\n",
       "      <td>num_pl_albums_new</td>\n",
       "      <td>()</td>\n",
       "      <td>DType(name='float64', element_type=&lt;ElementType.Float: 'float'&gt;, element_size=64, element_unit=None, signed=True, shape=Shape(dims=(Dimension(min=0, max=None),)))</td>\n",
       "      <td>False</td>\n",
       "      <td>False</td>\n",
       "      <td>NaN</td>\n",
       "      <td>NaN</td>\n",
       "    </tr>\n",
       "    <tr>\n",
       "      <th>15</th>\n",
       "      <td>artist_name_pl</td>\n",
       "      <td>()</td>\n",
       "      <td>DType(name='object', element_type=&lt;ElementType.Object: 'object'&gt;, element_size=None, element_unit=None, signed=None, shape=Shape(dims=(Dimension(min=0, max=None), Dimension(min=0, max=None))))</td>\n",
       "      <td>True</td>\n",
       "      <td>True</td>\n",
       "      <td>0.0</td>\n",
       "      <td>NaN</td>\n",
       "    </tr>\n",
       "    <tr>\n",
       "      <th>16</th>\n",
       "      <td>track_uri_pl</td>\n",
       "      <td>()</td>\n",
       "      <td>DType(name='object', element_type=&lt;ElementType.Object: 'object'&gt;, element_size=None, element_unit=None, signed=None, shape=Shape(dims=(Dimension(min=0, max=None), Dimension(min=0, max=None))))</td>\n",
       "      <td>True</td>\n",
       "      <td>True</td>\n",
       "      <td>0.0</td>\n",
       "      <td>NaN</td>\n",
       "    </tr>\n",
       "    <tr>\n",
       "      <th>17</th>\n",
       "      <td>track_name_pl</td>\n",
       "      <td>()</td>\n",
       "      <td>DType(name='object', element_type=&lt;ElementType.Object: 'object'&gt;, element_size=None, element_unit=None, signed=None, shape=Shape(dims=(Dimension(min=0, max=None), Dimension(min=0, max=None))))</td>\n",
       "      <td>True</td>\n",
       "      <td>True</td>\n",
       "      <td>0.0</td>\n",
       "      <td>NaN</td>\n",
       "    </tr>\n",
       "    <tr>\n",
       "      <th>18</th>\n",
       "      <td>album_name_pl</td>\n",
       "      <td>()</td>\n",
       "      <td>DType(name='object', element_type=&lt;ElementType.Object: 'object'&gt;, element_size=None, element_unit=None, signed=None, shape=Shape(dims=(Dimension(min=0, max=None), Dimension(min=0, max=None))))</td>\n",
       "      <td>True</td>\n",
       "      <td>True</td>\n",
       "      <td>0.0</td>\n",
       "      <td>NaN</td>\n",
       "    </tr>\n",
       "    <tr>\n",
       "      <th>19</th>\n",
       "      <td>artist_genres_pl</td>\n",
       "      <td>()</td>\n",
       "      <td>DType(name='object', element_type=&lt;ElementType.Object: 'object'&gt;, element_size=None, element_unit=None, signed=None, shape=Shape(dims=(Dimension(min=0, max=None), Dimension(min=0, max=None))))</td>\n",
       "      <td>True</td>\n",
       "      <td>True</td>\n",
       "      <td>0.0</td>\n",
       "      <td>NaN</td>\n",
       "    </tr>\n",
       "  </tbody>\n",
       "</table>\n",
       "</div>"
      ],
      "text/plain": [
       "[{'name': 'pid', 'tags': set(), 'properties': {}, 'dtype': DType(name='int64', element_type=<ElementType.Int: 'int'>, element_size=64, element_unit=None, signed=True, shape=Shape(dims=(Dimension(min=0, max=None),))), 'is_list': False, 'is_ragged': False}, {'name': 'track_uri_can', 'tags': set(), 'properties': {}, 'dtype': DType(name='object', element_type=<ElementType.Object: 'object'>, element_size=None, element_unit=None, signed=None, shape=Shape(dims=(Dimension(min=0, max=None),))), 'is_list': False, 'is_ragged': False}, {'name': 'artist_name_can', 'tags': set(), 'properties': {}, 'dtype': DType(name='object', element_type=<ElementType.Object: 'object'>, element_size=None, element_unit=None, signed=None, shape=Shape(dims=(Dimension(min=0, max=None),))), 'is_list': False, 'is_ragged': False}, {'name': 'track_name_can', 'tags': set(), 'properties': {}, 'dtype': DType(name='object', element_type=<ElementType.Object: 'object'>, element_size=None, element_unit=None, signed=None, shape=Shape(dims=(Dimension(min=0, max=None),))), 'is_list': False, 'is_ragged': False}, {'name': 'artist_genres_can', 'tags': set(), 'properties': {}, 'dtype': DType(name='object', element_type=<ElementType.Object: 'object'>, element_size=None, element_unit=None, signed=None, shape=Shape(dims=(Dimension(min=0, max=None),))), 'is_list': False, 'is_ragged': False}, {'name': 'duration_ms_can', 'tags': set(), 'properties': {}, 'dtype': DType(name='float64', element_type=<ElementType.Float: 'float'>, element_size=64, element_unit=None, signed=True, shape=Shape(dims=(Dimension(min=0, max=None),))), 'is_list': False, 'is_ragged': False}, {'name': 'track_pop_can', 'tags': set(), 'properties': {}, 'dtype': DType(name='float64', element_type=<ElementType.Float: 'float'>, element_size=64, element_unit=None, signed=True, shape=Shape(dims=(Dimension(min=0, max=None),))), 'is_list': False, 'is_ragged': False}, {'name': 'artist_pop_can', 'tags': set(), 'properties': {}, 'dtype': DType(name='float64', element_type=<ElementType.Float: 'float'>, element_size=64, element_unit=None, signed=True, shape=Shape(dims=(Dimension(min=0, max=None),))), 'is_list': False, 'is_ragged': False}, {'name': 'artist_followers_can', 'tags': set(), 'properties': {}, 'dtype': DType(name='float64', element_type=<ElementType.Float: 'float'>, element_size=64, element_unit=None, signed=True, shape=Shape(dims=(Dimension(min=0, max=None),))), 'is_list': False, 'is_ragged': False}, {'name': 'pl_name_src', 'tags': set(), 'properties': {}, 'dtype': DType(name='object', element_type=<ElementType.Object: 'object'>, element_size=None, element_unit=None, signed=None, shape=Shape(dims=(Dimension(min=0, max=None),))), 'is_list': False, 'is_ragged': False}, {'name': 'pl_collaborative_src', 'tags': set(), 'properties': {}, 'dtype': DType(name='object', element_type=<ElementType.Object: 'object'>, element_size=None, element_unit=None, signed=None, shape=Shape(dims=(Dimension(min=0, max=None),))), 'is_list': False, 'is_ragged': False}, {'name': 'pl_duration_ms_new', 'tags': set(), 'properties': {}, 'dtype': DType(name='float64', element_type=<ElementType.Float: 'float'>, element_size=64, element_unit=None, signed=True, shape=Shape(dims=(Dimension(min=0, max=None),))), 'is_list': False, 'is_ragged': False}, {'name': 'num_pl_songs_new', 'tags': set(), 'properties': {}, 'dtype': DType(name='float64', element_type=<ElementType.Float: 'float'>, element_size=64, element_unit=None, signed=True, shape=Shape(dims=(Dimension(min=0, max=None),))), 'is_list': False, 'is_ragged': False}, {'name': 'num_pl_artists_new', 'tags': set(), 'properties': {}, 'dtype': DType(name='float64', element_type=<ElementType.Float: 'float'>, element_size=64, element_unit=None, signed=True, shape=Shape(dims=(Dimension(min=0, max=None),))), 'is_list': False, 'is_ragged': False}, {'name': 'num_pl_albums_new', 'tags': set(), 'properties': {}, 'dtype': DType(name='float64', element_type=<ElementType.Float: 'float'>, element_size=64, element_unit=None, signed=True, shape=Shape(dims=(Dimension(min=0, max=None),))), 'is_list': False, 'is_ragged': False}, {'name': 'artist_name_pl', 'tags': set(), 'properties': {'value_count': {'min': 0, 'max': None}}, 'dtype': DType(name='object', element_type=<ElementType.Object: 'object'>, element_size=None, element_unit=None, signed=None, shape=Shape(dims=(Dimension(min=0, max=None), Dimension(min=0, max=None)))), 'is_list': True, 'is_ragged': True}, {'name': 'track_uri_pl', 'tags': set(), 'properties': {'value_count': {'min': 0, 'max': None}}, 'dtype': DType(name='object', element_type=<ElementType.Object: 'object'>, element_size=None, element_unit=None, signed=None, shape=Shape(dims=(Dimension(min=0, max=None), Dimension(min=0, max=None)))), 'is_list': True, 'is_ragged': True}, {'name': 'track_name_pl', 'tags': set(), 'properties': {'value_count': {'min': 0, 'max': None}}, 'dtype': DType(name='object', element_type=<ElementType.Object: 'object'>, element_size=None, element_unit=None, signed=None, shape=Shape(dims=(Dimension(min=0, max=None), Dimension(min=0, max=None)))), 'is_list': True, 'is_ragged': True}, {'name': 'album_name_pl', 'tags': set(), 'properties': {'value_count': {'min': 0, 'max': None}}, 'dtype': DType(name='object', element_type=<ElementType.Object: 'object'>, element_size=None, element_unit=None, signed=None, shape=Shape(dims=(Dimension(min=0, max=None), Dimension(min=0, max=None)))), 'is_list': True, 'is_ragged': True}, {'name': 'artist_genres_pl', 'tags': set(), 'properties': {'value_count': {'min': 0, 'max': None}}, 'dtype': DType(name='object', element_type=<ElementType.Object: 'object'>, element_size=None, element_unit=None, signed=None, shape=Shape(dims=(Dimension(min=0, max=None), Dimension(min=0, max=None)))), 'is_list': True, 'is_ragged': True}]"
      ]
     },
     "execution_count": 21,
     "metadata": {},
     "output_type": "execute_result"
    }
   ],
   "source": [
    "nvt_workflow.input_schema"
   ]
  },
  {
   "cell_type": "markdown",
   "id": "kcipKnLTBCUz",
   "metadata": {
    "id": "kcipKnLTBCUz"
   },
   "source": [
    "### Examine some of the output data from nvtabular\n",
    "\n",
    "The data is presented as a Dask Pandas DF - so the interface is very familiar if you know Pandas\n",
    "\n",
    "Now the data has encoded the values of the strings with categorify, filled missing values, and normalized continuous variables. Now when you look at categorical data like `track_name_pl`, you will see the data represented as an integer, ready to quickly load to an embedding layer, as opposed to hashing each Epoch like when including stringlookups or hash functions in a tfrs model. This ensures the unven profile caused by cpu/gpu bottlnecks during lookup functions are processed just once and efficiently.\n",
    "\n",
    "#### Example of NVTabular Gpu Consumption Pattern\n",
    "A100 a1-high-gpu\n",
    "![Example of Nvtop](img/nvtop.png)\n",
    "\n",
    "Note that the lookup tables for the various categorified data can be found in the `categories/` folder of the workflow. You also will notice a link in the data schema (more on that below) to the files by each field - this is how you can do reverse lookups later"
   ]
  },
  {
   "cell_type": "code",
   "execution_count": 27,
   "id": "w6Ope6G-BCUz",
   "metadata": {
    "id": "w6Ope6G-BCUz",
    "outputId": "2cab7a49-6d4d-49f9-f6a2-adabb8014eee",
    "tags": []
   },
   "outputs": [
    {
     "data": {
      "text/plain": [
       "0    [171943, 87952, 28714, 32506, 19554]\n",
       "1      [61743, 22062, 5642, 23710, 71252]\n",
       "2      [9180, 15761, 364032, 26851, 8324]\n",
       "Name: track_name_pl, dtype: object"
      ]
     },
     "execution_count": 27,
     "metadata": {},
     "output_type": "execute_result"
    }
   ],
   "source": [
    "nvtdata = pd.read_parquet(output_train_dir+'/part_0.parquet')\n",
    "nvtdata['track_name_pl'].head(3)"
   ]
  },
  {
   "cell_type": "code",
   "execution_count": 28,
   "id": "CXaok1lkBCUz",
   "metadata": {
    "id": "CXaok1lkBCUz",
    "outputId": "c7433f3b-73d5-424c-eb0b-f8aac328e98a",
    "tags": []
   },
   "outputs": [
    {
     "data": {
      "text/plain": [
       "0     848\n",
       "1    1797\n",
       "2    2338\n",
       "3    1669\n",
       "4     525\n",
       "5    9647\n",
       "6    4332\n",
       "7      52\n",
       "8     625\n",
       "9    1564\n",
       "Name: artist_name_can, dtype: int32"
      ]
     },
     "execution_count": 28,
     "metadata": {},
     "output_type": "execute_result"
    }
   ],
   "source": [
    "nvtdata = pd.read_parquet(output_train_dir+'/part_0.parquet')\n",
    "nvtdata['artist_name_can'].head(10)"
   ]
  },
  {
   "cell_type": "markdown",
   "id": "EvkRGUfvBCUz",
   "metadata": {
    "id": "EvkRGUfvBCUz"
   },
   "source": [
    "### Total rows for `part_0.parquet`\n",
    "Total rows x number of partitions (`output_files` in `workflow.to_parquet()`)"
   ]
  },
  {
   "cell_type": "code",
   "execution_count": null,
   "id": "1MPlgNNABCU0",
   "metadata": {
    "id": "1MPlgNNABCU0",
    "outputId": "d91adcbc-6820-4d45-8223-5d41013b0cb1",
    "tags": []
   },
   "outputs": [],
   "source": [
    "len(nvtdata)"
   ]
  },
  {
   "cell_type": "markdown",
   "id": "3sQhxCWJBCU1",
   "metadata": {
    "id": "3sQhxCWJBCU1",
    "toc-hr-collapsed": true
   },
   "source": [
    "# Load the processed data into a Merlin Dataset and Train a Two Tower Model\n",
    "\n",
    "Now that data inspection is over, the workflow is saved and data is processed to the `output_path`\n",
    "\n",
    "The above only needs to be run once as well - the workflow and transformed files can be directly loaded from gcs from now on"
   ]
  },
  {
   "cell_type": "markdown",
   "id": "WrJ0tRiJBCU1",
   "metadata": {
    "id": "WrJ0tRiJBCU1"
   },
   "source": [
    "### Two Tower Modeling"
   ]
  },
  {
   "cell_type": "code",
   "execution_count": 5,
   "id": "7nBwI338BCU1",
   "metadata": {
    "id": "7nBwI338BCU1",
    "outputId": "c14fcff1-9613-4788-c4b8-47f9941597ae",
    "tags": []
   },
   "outputs": [],
   "source": [
    "from typing import List, Any\n",
    "\n",
    "# output_path = os.path.join(BUCKET, \"merlin-processed/workflow/2t-spotify-workflow\")\n",
    "workflow = nvt.Workflow.load(output_workflow_dir)\n",
    "\n",
    "schema = workflow.output_schema\n",
    "\n",
    "\n",
    "def create_two_tower(\n",
    "    workflow_dir: str,\n",
    "    layer_sizes: List[Any] = [512, 256, 128],\n",
    "):\n",
    "    \n",
    "    #=========================================\n",
    "    # get workflow details\n",
    "    #=========================================\n",
    "    workflow = nvt.Workflow.load(workflow_dir) # gs://spotify-merlin-v1/nvt-preprocessing-spotify-v24/nvt-analyzed\n",
    "    \n",
    "    schema = workflow.output_schema\n",
    "    \n",
    "    # embeddings = ops.get_embedding_sizes(workflow)\n",
    "    \n",
    "    #=========================================\n",
    "    # build towers\n",
    "    #=========================================\n",
    "    \n",
    "    user_schema = schema.select_by_tag(Tags.USER)\n",
    "    user_inputs = mm.InputBlockV2(user_schema)\n",
    "    \n",
    "    query = mm.Encoder(user_inputs, mm.MLPBlock(layer_sizes))\n",
    "    \n",
    "    item_schema = schema.select_by_tag(Tags.ITEM)\n",
    "    item_inputs = mm.InputBlockV2(item_schema)\n",
    "    candidate = mm.Encoder(item_inputs, mm.MLPBlock(layer_sizes))\n",
    "    \n",
    "    model = mm.RetrievalModelV2(\n",
    "        query=query,\n",
    "        candidate=candidate,\n",
    "        output=mm.ContrastiveOutput(\n",
    "            to_call=DotProduct(),\n",
    "            negative_samplers=\"in-batch\",\n",
    "            schema=item_schema.select_by_tag(Tags.ITEM_ID),\n",
    "        )\n",
    "    )\n",
    "    \n",
    "    #model = mm.TwoTowerModelV2(query, candidate)\n",
    "    \n",
    "    return model"
   ]
  },
  {
   "cell_type": "code",
   "execution_count": 6,
   "id": "-Z97gkRLBCU1",
   "metadata": {
    "id": "-Z97gkRLBCU1",
    "tags": []
   },
   "outputs": [
    {
     "name": "stdout",
     "output_type": "stream",
     "text": [
      "[INFO]: sparse_operation_kit is imported\n",
      "[SOK INFO] Import /usr/local/lib/python3.8/dist-packages/merlin_sok-1.1.4-py3.8-linux-x86_64.egg/sparse_operation_kit/lib/libsok_experiment.so\n",
      "[SOK INFO] Import /usr/local/lib/python3.8/dist-packages/merlin_sok-1.1.4-py3.8-linux-x86_64.egg/sparse_operation_kit/lib/libsok_experiment.so\n"
     ]
    },
    {
     "name": "stderr",
     "output_type": "stream",
     "text": [
      "2023-05-25 19:43:54.944704: I tensorflow/core/platform/cpu_feature_guard.cc:194] This TensorFlow binary is optimized with oneAPI Deep Neural Network Library (oneDNN) to use the following CPU instructions in performance-critical operations:  SSE3 SSE4.1 SSE4.2 AVX\n",
      "To enable them in other operations, rebuild TensorFlow with the appropriate compiler flags.\n",
      "2023-05-25 19:43:55.082238: W tensorflow/core/common_runtime/gpu/gpu_bfc_allocator.cc:42] Overriding orig_value setting because the TF_FORCE_GPU_ALLOW_GROWTH environment variable is set. Original config value was 0.\n",
      "2023-05-25 19:43:55.082271: I tensorflow/core/common_runtime/gpu/gpu_process_state.cc:222] Using CUDA malloc Async allocator for GPU: 0\n",
      "2023-05-25 19:43:55.082459: I tensorflow/core/common_runtime/gpu/gpu_device.cc:1621] Created device /job:localhost/replica:0/task:0/device:GPU:0 with 20480 MB memory:  -> device: 0, name: NVIDIA A100-SXM4-40GB, pci bus id: 0000:00:04.0, compute capability: 8.0\n",
      "/usr/local/lib/python3.8/dist-packages/tqdm/auto.py:21: TqdmWarning: IProgress not found. Please update jupyter and ipywidgets. See https://ipywidgets.readthedocs.io/en/stable/user_install.html\n",
      "  from .autonotebook import tqdm as notebook_tqdm\n"
     ]
    },
    {
     "name": "stdout",
     "output_type": "stream",
     "text": [
      "[SOK INFO] Initialize finished, communication tool: horovod\n"
     ]
    }
   ],
   "source": [
    "from merlin.models.utils.example_utils import workflow_fit_transform\n",
    "\n",
    "from merlin.schema.tags import Tags\n",
    "\n",
    "import merlin.models.tf as mm\n",
    "from merlin.io.dataset import Dataset as MerlinDataset\n",
    "\n",
    "train = MerlinDataset(os.path.join(output_train_dir, \"*.parquet\"), schema=schema, part_size=\"256MB\")\n",
    "valid = MerlinDataset(os.path.join(output_valid_dir, \"*.parquet\"), schema=schema, part_size=\"256MB\")\n",
    "\n",
    "item_schema = schema.select_by_tag(Tags.ITEM)\n",
    "user_schema = schema.select_by_tag(Tags.USER)\n"
   ]
  },
  {
   "cell_type": "markdown",
   "id": "me3j81lJBCU1",
   "metadata": {
    "id": "me3j81lJBCU1"
   },
   "source": [
    "Direct quote from [here](https://github.com/NVIDIA-Merlin/models/blob/main/examples/05-Retrieval-Model.ipynb)\n",
    "\n",
    "Other info on modeling setup\n",
    "\n",
    "### Negative sampling\n",
    "Many datasets for recommender systems contain implicit feedback with logs of user interactions like clicks, add-to-cart, purchases, music listening events, rather than explicit ratings that reflects user preferences over items. To be able to learn from implicit feedback, we use the general (and naive) assumption that the interacted items are more relevant for the user than the non-interacted ones. In Merlin Models we provide some scaleable negative sampling algorithms for the Item Retrieval Task. In particular, we use in this example the in-batch sampling algorithm which uses the items interacted by other users as negatives within the same mini-batch.\n",
    "\n",
    "### Building the Model\n",
    "Now, let's build our Two-Tower model. In a nutshell, we aggregate all user features to feed in user tower and feed the item features to the item tower. Then we compute the positive score by multiplying the user embedding with the item embedding and sample negative items (read more about negative sampling here and here), whose item embeddings are also multiplied by the user embedding. Then we apply the loss function on top of the positive and negative scores.\n",
    "\n",
    "- Other model types can be found on the [Merlin Models API Documentation Page](https://nvidia-merlin.github.io/models/main/api.html#tensorflow-models)\n",
    "\n",
    "### Vertex Experiments\n",
    "\n",
    "We will organize all of our runs with Merlin in one experiment id `spotify-merlin-train-full-data-v1`. Under this experiment, we will have multiple runs that will be tracked in the experiment interface as well as Tensorboard"
   ]
  },
  {
   "cell_type": "code",
   "execution_count": 7,
   "id": "tYuTmtwNBCU2",
   "metadata": {
    "id": "tYuTmtwNBCU2",
    "outputId": "58c4bdf1-2842-4762-c3c3-c0fc1d456a56",
    "tags": []
   },
   "outputs": [],
   "source": [
    "# wone_shot_cmd use this to track data in tensorboard\n",
    "from google.cloud import aiplatform as vertex_ai\n",
    "from datetime import datetime\n",
    "\n",
    "TIMESTAMP = datetime.utcnow().strftime('%y%m%d-%H%M%S')\n",
    "TB_RESOURCE_NAME = 'projects/679926387543/locations/us-central1/tensorboards/5683516341462499328' #fqn - project number then tensorboard id\n",
    "EXPERIMENT_NAME = f'spotify-merlin-train-full-data-b10'\n",
    "RUN_NAME = EXPERIMENT_NAME + \"-\" + TIMESTAMP\n",
    "logs_dir = f'{BUCKET}/{EXPERIMENT_NAME}/{RUN_NAME}'\n",
    "\n",
    "#helper function to get the tb-uploader command\n",
    "\n",
    "def get_upload_logs_to_manged_tb_command(ttl_hrs, oneshot=\"true\"):\n",
    "    \"\"\"\n",
    "    Run this and copy/paste the command into terminal to have\n",
    "    upload the tensorboard logs from this machine to the managed tb instance\n",
    "    Note that the log dir is at the granularity of the run to help select the proper\n",
    "    timestamped run in Tensorboard\n",
    "    You can also run this in one-shot mode after training is done\n",
    "    to upload all tb objects at once\n",
    "    \"\"\"\n",
    "    return(f\"\"\"tb-gcp-uploader --tensorboard_resource_name={TB_RESOURCE_NAME} \\\n",
    "      --logdir={logs_dir} \\\n",
    "      --experiment_name={EXPERIMENT_NAME} \\\n",
    "      --one_shot={oneshot} \\\n",
    "      --event_file_inactive_secs={60*60*ttl_hrs}\"\"\")\n",
    "\n",
    "vertex_ai.init(project=PROJECT, \n",
    "               location=LOCATION, \n",
    "               experiment=EXPERIMENT_NAME, \n",
    "               experiment_tensorboard=TB_RESOURCE_NAME, \n",
    "               staging_bucket=BUCKET)\n",
    "\n",
    "\n",
    "# # we are going to ecapsulate this one-shot log uploader via a custom callback:\n",
    "\n",
    "class UploadTBLogsBatchEnd(tf.keras.callbacks.Callback):\n",
    "    def on_epoch_end(self, epoch, logs=None):\n",
    "        os.system(get_upload_logs_to_manged_tb_command(ttl_hrs = 5, oneshot=\"true\"))\n",
    "\n",
    "\n",
    "# tensorboard_callback = tf.keras.callbacks.TensorBoard(\n",
    "#         log_dir=logs_dir,\n",
    "#         histogram_freq=0,\n",
    "#         write_graph=True,\n",
    "#         profile_batch=(20,50) #run profiler on steps 20-40 - enable this line if you want to run profiler from the utils/ notebook\n",
    "#     )\n"
   ]
  },
  {
   "cell_type": "code",
   "execution_count": 8,
   "id": "bNvr-ethBCU2",
   "metadata": {
    "id": "bNvr-ethBCU2",
    "tags": []
   },
   "outputs": [],
   "source": [
    "# with strategy.scope():\n",
    "from merlin.schema.tags import Tags\n",
    "import merlin.models.tf as mm\n",
    "from merlin.models.tf.outputs.base import DotProduct, MetricsFn, ModelOutput"
   ]
  },
  {
   "cell_type": "markdown",
   "id": "6AiAkVZxBCU2",
   "metadata": {
    "id": "6AiAkVZxBCU2"
   },
   "source": [
    "**Metrics:**\n",
    "\n",
    "The following information retrieval metrics are used to compute the Top-10 accuracy of recommendation lists containing all items:\n",
    "\n",
    "* **Normalized Discounted Cumulative Gain (NDCG@10)**: NDCG accounts for rank of the relevant item in the recommendation list and is a more fine-grained metric than HR, which only verifies whether the relevant item is among the top-k items.\n",
    "\n",
    "* **Recall@10:** Also known as HitRate@n when there is only one relevant item in the recommendation list. Recall just verifies whether the relevant item is among the top-n items."
   ]
  },
  {
   "cell_type": "code",
   "execution_count": null,
   "id": "wMxQenMBBCU2",
   "metadata": {
    "id": "wMxQenMBBCU2",
    "tags": []
   },
   "outputs": [
    {
     "name": "stderr",
     "output_type": "stream",
     "text": [
      "2023-05-25 19:44:36.506958: I tensorflow/core/profiler/lib/profiler_session.cc:101] Profiler session initializing.\n",
      "2023-05-25 19:44:36.507001: I tensorflow/core/profiler/lib/profiler_session.cc:116] Profiler session started.\n",
      "2023-05-25 19:44:36.507041: I tensorflow/core/profiler/backends/gpu/cupti_tracer.cc:1664] Profiler found 1 GPUs\n",
      "2023-05-25 19:44:36.541613: I tensorflow/core/profiler/lib/profiler_session.cc:128] Profiler session tear down.\n",
      "2023-05-25 19:44:36.541839: I tensorflow/core/profiler/backends/gpu/cupti_tracer.cc:1798] CUPTI activity buffer flushed\n",
      "/usr/local/lib/python3.8/dist-packages/merlin/schema/tags.py:149: UserWarning: Compound tags like Tags.USER_ID have been deprecated and will be removed in a future version. Please use the atomic versions of these tags, like [<Tags.USER: 'user'>, <Tags.ID: 'id'>].\n",
      "  warnings.warn(\n",
      "/usr/local/lib/python3.8/dist-packages/merlin/schema/tags.py:149: UserWarning: Compound tags like Tags.ITEM_ID have been deprecated and will be removed in a future version. Please use the atomic versions of these tags, like [<Tags.ITEM: 'item'>, <Tags.ID: 'id'>].\n",
      "  warnings.warn(\n",
      "2023-05-25 19:45:44.541704: I tensorflow/compiler/xla/stream_executor/cuda/cuda_blas.cc:648] TensorFloat-32 will be used for the matrix multiplication. This will only be logged once.\n"
     ]
    },
    {
     "name": "stdout",
     "output_type": "stream",
     "text": [
      "Epoch 1/10\n",
      "    4/16185 [..............................] - ETA: 14:09 - loss: 8.3188 - recall_at_1: 2.4414e-04 - recall_at_10: 0.0027 - ndcg_at_10: 0.0012 - regularization_loss: 0.0000e+00 - loss_batch: 8.3188  "
     ]
    },
    {
     "name": "stderr",
     "output_type": "stream",
     "text": [
      "2023-05-25 19:45:59.331453: I tensorflow/core/profiler/lib/profiler_session.cc:101] Profiler session initializing.\n",
      "2023-05-25 19:45:59.331498: I tensorflow/core/profiler/lib/profiler_session.cc:116] Profiler session started.\n"
     ]
    },
    {
     "name": "stdout",
     "output_type": "stream",
     "text": [
      "    9/16185 [..............................] - ETA: 13:26 - loss: 8.3184 - recall_at_1: 2.4414e-04 - recall_at_10: 0.0027 - ndcg_at_10: 0.0012 - regularization_loss: 0.0000e+00 - loss_batch: 8.3184"
     ]
    },
    {
     "name": "stderr",
     "output_type": "stream",
     "text": [
      "2023-05-25 19:45:59.951119: I tensorflow/core/profiler/lib/profiler_session.cc:67] Profiler session collecting data.\n",
      "2023-05-25 19:45:59.952107: I tensorflow/core/profiler/backends/gpu/cupti_tracer.cc:1798] CUPTI activity buffer flushed\n",
      "2023-05-25 19:45:59.991046: I tensorflow/core/profiler/backends/gpu/cupti_collector.cc:522]  GpuTracer has collected 10021 callback api events and 9331 activity events. \n",
      "2023-05-25 19:46:00.073923: I tensorflow/core/profiler/lib/profiler_session.cc:128] Profiler session tear down.\n"
     ]
    },
    {
     "name": "stdout",
     "output_type": "stream",
     "text": [
      "   10/16185 [..............................] - ETA: 59:56 - loss: 8.3184 - recall_at_1: 2.4414e-04 - recall_at_10: 0.0027 - ndcg_at_10: 0.0012 - regularization_loss: 0.0000e+00 - loss_batch: 8.3184"
     ]
    },
    {
     "name": "stderr",
     "output_type": "stream",
     "text": [
      "2023-05-25 19:46:01.143737: I tensorflow/core/profiler/rpc/client/save_profile.cc:164] Collecting XSpace to repository: gs://spotify-jsw-mpd-2023/spotify-merlin-train-full-data-b10/spotify-merlin-train-full-data-b10-230525-194409/plugins/profile/2023_05_25_19_46_00/b783d61a48d8.xplane.pb\n"
     ]
    },
    {
     "name": "stdout",
     "output_type": "stream",
     "text": [
      "16185/16185 [==============================] - ETA: 0s - loss: 8.3151 - recall_at_1: 2.6978e-04 - recall_at_10: 0.0026 - ndcg_at_10: 0.0012 - regularization_loss: 0.0000e+00 - loss_batch: 8.3163"
     ]
    },
    {
     "name": "stderr",
     "output_type": "stream",
     "text": [
      "2023-05-25 19:56:10.407355: I tensorflow/core/platform/cpu_feature_guard.cc:194] This TensorFlow binary is optimized with oneAPI Deep Neural Network Library (oneDNN) to use the following CPU instructions in performance-critical operations:  SSE3 SSE4.1 SSE4.2 AVX\n",
      "To enable them in other operations, rebuild TensorFlow with the appropriate compiler flags.\n",
      "2023-05-25 19:56:10.544771: I tensorflow/core/util/port.cc:104] oneDNN custom operations are on. You may see slightly different numerical results due to floating-point round-off errors from different computation orders. To turn them off, set the environment variable `TF_ENABLE_ONEDNN_OPTS=0`.\n",
      "W0525 19:56:12.699266 139902074157952 uploader.py:388] Please consider uploading to a new experiment instead of an existing one, as the former allows for better upload performance.\n"
     ]
    },
    {
     "name": "stdout",
     "output_type": "stream",
     "text": [
      "View your Tensorboard at https://us-central1.tensorboard.googleusercontent.com/experiment/projects+679926387543+locations+us-central1+tensorboards+5683516341462499328+experiments+spotify-merlin-train-full-data-b10\n",
      "\u001b[1m[2023-05-25T19:56:12]\u001b[0m Started scanning logdir.\n",
      "\u001b[1m[2023-05-25T19:56:21]\u001b[0m Total uploaded: 18 scalars, 0 tensors, 1 binary objects (528.8 kB)\n",
      "16185/16185 [==============================] - 636s 38ms/step - loss: 8.3151 - recall_at_1: 2.6978e-04 - recall_at_10: 0.0026 - ndcg_at_10: 0.0012 - regularization_loss: 0.0000e+00 - loss_batch: 8.3163 - val_loss: 8.3116 - val_recall_at_1: 3.7803e-04 - val_recall_at_10: 0.0035 - val_ndcg_at_10: 0.0016 - val_regularization_loss: 0.0000e+00 - val_loss_batch: 7.3886\n",
      "Epoch 2/10\n",
      "16185/16185 [==============================] - ETA: 0s - loss: 8.3093 - recall_at_1: 3.7116e-04 - recall_at_10: 0.0033 - ndcg_at_10: 0.0015 - regularization_loss: 0.0000e+00 - loss_batch: 8.3093"
     ]
    },
    {
     "name": "stderr",
     "output_type": "stream",
     "text": [
      "2023-05-25 20:06:30.659814: I tensorflow/core/platform/cpu_feature_guard.cc:194] This TensorFlow binary is optimized with oneAPI Deep Neural Network Library (oneDNN) to use the following CPU instructions in performance-critical operations:  SSE3 SSE4.1 SSE4.2 AVX\n",
      "To enable them in other operations, rebuild TensorFlow with the appropriate compiler flags.\n",
      "2023-05-25 20:06:30.795914: I tensorflow/core/util/port.cc:104] oneDNN custom operations are on. You may see slightly different numerical results due to floating-point round-off errors from different computation orders. To turn them off, set the environment variable `TF_ENABLE_ONEDNN_OPTS=0`.\n",
      "W0525 20:06:43.941282 139935106489216 uploader.py:388] Please consider uploading to a new experiment instead of an existing one, as the former allows for better upload performance.\n"
     ]
    },
    {
     "name": "stdout",
     "output_type": "stream",
     "text": [
      "View your Tensorboard at https://us-central1.tensorboard.googleusercontent.com/experiment/projects+679926387543+locations+us-central1+tensorboards+5683516341462499328+experiments+spotify-merlin-train-full-data-b10\n",
      "\u001b[1m[2023-05-25T20:06:44]\u001b[0m Started scanning logdir.\n",
      "\u001b[1m[2023-05-25T20:09:49]\u001b[0m Total uploaded: 36 scalars, 0 tensors, 1 binary objects (528.8 kB)\n",
      "16185/16185 [==============================] - 808s 50ms/step - loss: 8.3093 - recall_at_1: 3.7116e-04 - recall_at_10: 0.0033 - ndcg_at_10: 0.0015 - regularization_loss: 0.0000e+00 - loss_batch: 8.3093 - val_loss: 8.3006 - val_recall_at_1: 5.2445e-04 - val_recall_at_10: 0.0041 - val_ndcg_at_10: 0.0020 - val_regularization_loss: 0.0000e+00 - val_loss_batch: 7.3853\n",
      "Epoch 3/10\n",
      "16185/16185 [==============================] - ETA: 0s - loss: 8.2678 - recall_at_1: 5.0302e-04 - recall_at_10: 0.0043 - ndcg_at_10: 0.0020 - regularization_loss: 0.0000e+00 - loss_batch: 8.2678"
     ]
    },
    {
     "name": "stderr",
     "output_type": "stream",
     "text": [
      "2023-05-25 20:20:00.369959: I tensorflow/core/platform/cpu_feature_guard.cc:194] This TensorFlow binary is optimized with oneAPI Deep Neural Network Library (oneDNN) to use the following CPU instructions in performance-critical operations:  SSE3 SSE4.1 SSE4.2 AVX\n",
      "To enable them in other operations, rebuild TensorFlow with the appropriate compiler flags.\n",
      "2023-05-25 20:20:00.505787: I tensorflow/core/util/port.cc:104] oneDNN custom operations are on. You may see slightly different numerical results due to floating-point round-off errors from different computation orders. To turn them off, set the environment variable `TF_ENABLE_ONEDNN_OPTS=0`.\n",
      "W0525 20:20:02.690845 139943905401728 uploader.py:388] Please consider uploading to a new experiment instead of an existing one, as the former allows for better upload performance.\n"
     ]
    },
    {
     "name": "stdout",
     "output_type": "stream",
     "text": [
      "View your Tensorboard at https://us-central1.tensorboard.googleusercontent.com/experiment/projects+679926387543+locations+us-central1+tensorboards+5683516341462499328+experiments+spotify-merlin-train-full-data-b10\n",
      "\u001b[1m[2023-05-25T20:20:02]\u001b[0m Started scanning logdir.\n",
      "\u001b[1m[2023-05-25T20:20:10]\u001b[0m Total uploaded: 54 scalars, 0 tensors, 1 binary objects (528.8 kB)\n",
      "16185/16185 [==============================] - 621s 38ms/step - loss: 8.2678 - recall_at_1: 5.0303e-04 - recall_at_10: 0.0043 - ndcg_at_10: 0.0020 - regularization_loss: 0.0000e+00 - loss_batch: 8.2678 - val_loss: 8.2388 - val_recall_at_1: 8.3524e-04 - val_recall_at_10: 0.0062 - val_ndcg_at_10: 0.0030 - val_regularization_loss: 0.0000e+00 - val_loss_batch: 7.3566\n",
      "Epoch 4/10\n",
      "16185/16185 [==============================] - ETA: 0s - loss: 8.1212 - recall_at_1: 7.3358e-04 - recall_at_10: 0.0064 - ndcg_at_10: 0.0030 - regularization_loss: 0.0000e+00 - loss_batch: 8.1212"
     ]
    },
    {
     "name": "stderr",
     "output_type": "stream",
     "text": [
      "2023-05-25 20:30:15.720353: I tensorflow/core/platform/cpu_feature_guard.cc:194] This TensorFlow binary is optimized with oneAPI Deep Neural Network Library (oneDNN) to use the following CPU instructions in performance-critical operations:  SSE3 SSE4.1 SSE4.2 AVX\n",
      "To enable them in other operations, rebuild TensorFlow with the appropriate compiler flags.\n",
      "2023-05-25 20:30:15.855427: I tensorflow/core/util/port.cc:104] oneDNN custom operations are on. You may see slightly different numerical results due to floating-point round-off errors from different computation orders. To turn them off, set the environment variable `TF_ENABLE_ONEDNN_OPTS=0`.\n",
      "W0525 20:30:20.801305 140340028132224 uploader.py:388] Please consider uploading to a new experiment instead of an existing one, as the former allows for better upload performance.\n"
     ]
    },
    {
     "name": "stdout",
     "output_type": "stream",
     "text": [
      "View your Tensorboard at https://us-central1.tensorboard.googleusercontent.com/experiment/projects+679926387543+locations+us-central1+tensorboards+5683516341462499328+experiments+spotify-merlin-train-full-data-b10\n",
      "\u001b[1m[2023-05-25T20:30:21]\u001b[0m Started scanning logdir.\n",
      "\u001b[1m[2023-05-25T20:31:31]\u001b[0m Total uploaded: 72 scalars, 0 tensors, 1 binary objects (528.8 kB)\n",
      "16185/16185 [==============================] - 681s 42ms/step - loss: 8.1212 - recall_at_1: 7.3359e-04 - recall_at_10: 0.0064 - ndcg_at_10: 0.0030 - regularization_loss: 0.0000e+00 - loss_batch: 8.1212 - val_loss: 8.1165 - val_recall_at_1: 0.0010 - val_recall_at_10: 0.0082 - val_ndcg_at_10: 0.0039 - val_regularization_loss: 0.0000e+00 - val_loss_batch: 7.2711\n",
      "Epoch 5/10\n",
      " 4943/16185 [========>.....................] - ETA: 6:28 - loss: 8.0512 - recall_at_1: 9.2143e-04 - recall_at_10: 0.0086 - ndcg_at_10: 0.0040 - regularization_loss: 0.0000e+00 - loss_batch: 8.0512"
     ]
    },
    {
     "name": "stderr",
     "output_type": "stream",
     "text": [
      "IOPub data rate exceeded.\n",
      "The Jupyter server will temporarily stop sending output\n",
      "to the client in order to avoid crashing it.\n",
      "To change this limit, set the config variable\n",
      "`--ServerApp.iopub_data_rate_limit`.\n",
      "\n",
      "Current values:\n",
      "ServerApp.iopub_data_rate_limit=1000000.0 (bytes/sec)\n",
      "ServerApp.rate_limit_window=3.0 (secs)\n",
      "\n"
     ]
    },
    {
     "name": "stdout",
     "output_type": "stream",
     "text": [
      "16185/16185 [==============================] - ETA: 0s - loss: 8.0330 - recall_at_1: 9.6319e-04 - recall_at_10: 0.0090 - ndcg_at_10: 0.0042 - regularization_loss: 0.0000e+00 - loss_batch: 8.0330"
     ]
    },
    {
     "name": "stderr",
     "output_type": "stream",
     "text": [
      "2023-05-25 20:41:34.103071: I tensorflow/core/platform/cpu_feature_guard.cc:194] This TensorFlow binary is optimized with oneAPI Deep Neural Network Library (oneDNN) to use the following CPU instructions in performance-critical operations:  SSE3 SSE4.1 SSE4.2 AVX\n",
      "To enable them in other operations, rebuild TensorFlow with the appropriate compiler flags.\n",
      "2023-05-25 20:41:34.238889: I tensorflow/core/util/port.cc:104] oneDNN custom operations are on. You may see slightly different numerical results due to floating-point round-off errors from different computation orders. To turn them off, set the environment variable `TF_ENABLE_ONEDNN_OPTS=0`.\n",
      "W0525 20:41:37.588215 140024262118272 uploader.py:388] Please consider uploading to a new experiment instead of an existing one, as the former allows for better upload performance.\n"
     ]
    },
    {
     "name": "stdout",
     "output_type": "stream",
     "text": [
      "View your Tensorboard at https://us-central1.tensorboard.googleusercontent.com/experiment/projects+679926387543+locations+us-central1+tensorboards+5683516341462499328+experiments+spotify-merlin-train-full-data-b10\n",
      "\u001b[1m[2023-05-25T20:41:37]\u001b[0m Started scanning logdir.\n",
      "\u001b[1m[2023-05-25T20:42:27]\u001b[0m Total uploaded: 90 scalars, 0 tensors, 1 binary objects (528.8 kB)\n",
      "16185/16185 [==============================] - 656s 41ms/step - loss: 8.0330 - recall_at_1: 9.6319e-04 - recall_at_10: 0.0090 - ndcg_at_10: 0.0042 - regularization_loss: 0.0000e+00 - loss_batch: 8.0330 - val_loss: 8.0714 - val_recall_at_1: 0.0012 - val_recall_at_10: 0.0101 - val_ndcg_at_10: 0.0047 - val_regularization_loss: 0.0000e+00 - val_loss_batch: 7.2425\n",
      "Epoch 6/10\n",
      "16185/16185 [==============================] - ETA: 0s - loss: 7.9895 - recall_at_1: 0.0012 - recall_at_10: 0.0113 - ndcg_at_10: 0.0052 - regularization_loss: 0.0000e+00 - loss_batch: 7.9895"
     ]
    },
    {
     "name": "stderr",
     "output_type": "stream",
     "text": [
      "2023-05-25 20:52:39.979856: I tensorflow/core/platform/cpu_feature_guard.cc:194] This TensorFlow binary is optimized with oneAPI Deep Neural Network Library (oneDNN) to use the following CPU instructions in performance-critical operations:  SSE3 SSE4.1 SSE4.2 AVX\n",
      "To enable them in other operations, rebuild TensorFlow with the appropriate compiler flags.\n",
      "2023-05-25 20:52:40.114894: I tensorflow/core/util/port.cc:104] oneDNN custom operations are on. You may see slightly different numerical results due to floating-point round-off errors from different computation orders. To turn them off, set the environment variable `TF_ENABLE_ONEDNN_OPTS=0`.\n",
      "W0525 20:52:42.299576 140598655511424 uploader.py:388] Please consider uploading to a new experiment instead of an existing one, as the former allows for better upload performance.\n"
     ]
    },
    {
     "name": "stdout",
     "output_type": "stream",
     "text": [
      "View your Tensorboard at https://us-central1.tensorboard.googleusercontent.com/experiment/projects+679926387543+locations+us-central1+tensorboards+5683516341462499328+experiments+spotify-merlin-train-full-data-b10\n",
      "\u001b[1m[2023-05-25T20:52:42]\u001b[0m Started scanning logdir.\n",
      "\u001b[1m[2023-05-25T20:53:23]\u001b[0m Total uploaded: 108 scalars, 0 tensors, 1 binary objects (528.8 kB)\n",
      "16185/16185 [==============================] - 656s 41ms/step - loss: 7.9895 - recall_at_1: 0.0012 - recall_at_10: 0.0113 - ndcg_at_10: 0.0052 - regularization_loss: 0.0000e+00 - loss_batch: 7.9895 - val_loss: 8.0297 - val_recall_at_1: 0.0014 - val_recall_at_10: 0.0126 - val_ndcg_at_10: 0.0058 - val_regularization_loss: 0.0000e+00 - val_loss_batch: 7.2038\n",
      "Epoch 7/10\n",
      "16185/16185 [==============================] - ETA: 0s - loss: 7.9203 - recall_at_1: 0.0015 - recall_at_10: 0.0145 - ndcg_at_10: 0.0067 - regularization_loss: 0.0000e+00 - loss_batch: 7.9203"
     ]
    },
    {
     "name": "stderr",
     "output_type": "stream",
     "text": [
      "2023-05-25 21:03:39.280227: I tensorflow/core/platform/cpu_feature_guard.cc:194] This TensorFlow binary is optimized with oneAPI Deep Neural Network Library (oneDNN) to use the following CPU instructions in performance-critical operations:  SSE3 SSE4.1 SSE4.2 AVX\n",
      "To enable them in other operations, rebuild TensorFlow with the appropriate compiler flags.\n",
      "2023-05-25 21:03:39.415196: I tensorflow/core/util/port.cc:104] oneDNN custom operations are on. You may see slightly different numerical results due to floating-point round-off errors from different computation orders. To turn them off, set the environment variable `TF_ENABLE_ONEDNN_OPTS=0`.\n",
      "W0525 21:03:42.195657 140461852867456 uploader.py:388] Please consider uploading to a new experiment instead of an existing one, as the former allows for better upload performance.\n"
     ]
    },
    {
     "name": "stdout",
     "output_type": "stream",
     "text": [
      "View your Tensorboard at https://us-central1.tensorboard.googleusercontent.com/experiment/projects+679926387543+locations+us-central1+tensorboards+5683516341462499328+experiments+spotify-merlin-train-full-data-b10\n",
      "\u001b[1m[2023-05-25T21:03:42]\u001b[0m Started scanning logdir.\n",
      "\u001b[1m[2023-05-25T21:03:50]\u001b[0m Total uploaded: 126 scalars, 0 tensors, 1 binary objects (528.8 kB)\n",
      "16185/16185 [==============================] - 626s 39ms/step - loss: 7.9203 - recall_at_1: 0.0015 - recall_at_10: 0.0145 - ndcg_at_10: 0.0067 - regularization_loss: 0.0000e+00 - loss_batch: 7.9203 - val_loss: 7.9077 - val_recall_at_1: 0.0021 - val_recall_at_10: 0.0160 - val_ndcg_at_10: 0.0076 - val_regularization_loss: 0.0000e+00 - val_loss_batch: 7.0453\n",
      "Epoch 8/10\n",
      "16185/16185 [==============================] - ETA: 0s - loss: 7.7329 - recall_at_1: 0.0024 - recall_at_10: 0.0203 - ndcg_at_10: 0.0095 - regularization_loss: 0.0000e+00 - loss_batch: 7.7329"
     ]
    },
    {
     "name": "stderr",
     "output_type": "stream",
     "text": [
      "2023-05-25 21:14:01.093349: I tensorflow/core/platform/cpu_feature_guard.cc:194] This TensorFlow binary is optimized with oneAPI Deep Neural Network Library (oneDNN) to use the following CPU instructions in performance-critical operations:  SSE3 SSE4.1 SSE4.2 AVX\n",
      "To enable them in other operations, rebuild TensorFlow with the appropriate compiler flags.\n",
      "2023-05-25 21:14:01.232577: I tensorflow/core/util/port.cc:104] oneDNN custom operations are on. You may see slightly different numerical results due to floating-point round-off errors from different computation orders. To turn them off, set the environment variable `TF_ENABLE_ONEDNN_OPTS=0`.\n",
      "W0525 21:14:03.473897 139633834978176 uploader.py:388] Please consider uploading to a new experiment instead of an existing one, as the former allows for better upload performance.\n"
     ]
    },
    {
     "name": "stdout",
     "output_type": "stream",
     "text": [
      "View your Tensorboard at https://us-central1.tensorboard.googleusercontent.com/experiment/projects+679926387543+locations+us-central1+tensorboards+5683516341462499328+experiments+spotify-merlin-train-full-data-b10\n",
      "\u001b[1m[2023-05-25T21:14:03]\u001b[0m Started scanning logdir.\n",
      "\u001b[1m[2023-05-25T21:14:22]\u001b[0m Total uploaded: 144 scalars, 0 tensors, 1 binary objects (528.8 kB)\n",
      "16185/16185 [==============================] - 632s 39ms/step - loss: 7.7329 - recall_at_1: 0.0024 - recall_at_10: 0.0203 - ndcg_at_10: 0.0095 - regularization_loss: 0.0000e+00 - loss_batch: 7.7329 - val_loss: 7.6686 - val_recall_at_1: 0.0035 - val_recall_at_10: 0.0262 - val_ndcg_at_10: 0.0126 - val_regularization_loss: 0.0000e+00 - val_loss_batch: 6.7454\n",
      "Epoch 9/10\n",
      " 3846/16185 [======>.......................] - ETA: 7:06 - loss: 7.5836 - recall_at_1: 0.0038 - recall_at_10: 0.0303 - ndcg_at_10: 0.0145 - regularization_loss: 0.0000e+00 - loss_batch: 7.5836"
     ]
    },
    {
     "name": "stderr",
     "output_type": "stream",
     "text": [
      "IOPub data rate exceeded.\n",
      "The Jupyter server will temporarily stop sending output\n",
      "to the client in order to avoid crashing it.\n",
      "To change this limit, set the config variable\n",
      "`--ServerApp.iopub_data_rate_limit`.\n",
      "\n",
      "Current values:\n",
      "ServerApp.iopub_data_rate_limit=1000000.0 (bytes/sec)\n",
      "ServerApp.rate_limit_window=3.0 (secs)\n",
      "\n"
     ]
    },
    {
     "name": "stdout",
     "output_type": "stream",
     "text": [
      "15730/16185 [============================>.] - ETA: 15s - loss: 7.4974 - recall_at_1: 0.0044 - recall_at_10: 0.0337 - ndcg_at_10: 0.0162 - regularization_loss: 0.0000e+00 - loss_batch: 7.4974"
     ]
    }
   ],
   "source": [
    "# model.set_retrieval_candidates_for_evaluation(train)\n",
    "\n",
    "\n",
    "# one_shot_cmd = get_upload_logs_to_manged_tb_command(oneshot=\"true\")\n",
    "# ! $one_shot_cmd\n",
    "\n",
    "\n",
    "\n",
    "#upload everything to  tb only do this if you were not streaming with the above command\n",
    "\n",
    "layers = [512, 256, 128]\n",
    "LR = .001\n",
    "BS = 4096\n",
    "epoch = 10\n",
    "\n",
    "model = create_two_tower(\n",
    "    workflow_dir=output_workflow_dir,\n",
    "    layer_sizes=layers\n",
    ")\n",
    "\n",
    "opt = tf.keras.optimizers.legacy.Adagrad(LR)\n",
    "\n",
    "model.compile(optimizer=opt, run_eagerly=False,\n",
    "              metrics=[mm.RecallAt(1),\n",
    "                       mm.RecallAt(10),\n",
    "                       mm.NDCGAt(10)],\n",
    "             )\n",
    "\n",
    "RUN_NAME = f'run-{EXPERIMENT_NAME}-{time.strftime(\"%Y%m%d-%H%M%S\")}'#be sure to think about run and experiment naming strategies so names don't collide\n",
    "\n",
    "tensorboard_callback = tf.keras.callbacks.TensorBoard(\n",
    "    log_dir=logs_dir,\n",
    "    histogram_freq=0,\n",
    "    write_graph=True,\n",
    "    embeddings_freq=1,\n",
    "    profile_batch=(2, 10),\n",
    "    update_freq='epoch', \n",
    "  )\n",
    "\n",
    "vertex_ai.start_run(RUN_NAME, tensorboard=TB_RESOURCE_NAME)\n",
    "\n",
    "\n",
    "vertex_ai.log_params({\"layers\": str(layers),\n",
    "                      \"learning_rate\": LR,\n",
    "                        \"num_epochs\": epoch,\n",
    "                        \"batch_size\": BS,\n",
    "                     })\n",
    "\n",
    "model.fit(train,\n",
    "          validation_data=valid,\n",
    "          batch_size=BS,\n",
    "          epochs=epoch,\n",
    "          # steps_per_epoch=20,\n",
    "          callbacks=[tensorboard_callback, \n",
    "                     UploadTBLogsBatchEnd()\n",
    "                    ]\n",
    "         )\n",
    "\n",
    "#get the metrics for the experiment run\n",
    "history_keys = model.history.history.keys()\n",
    "\n",
    "metrics_dict = {}\n",
    "_ = [metrics_dict.update({key: model.history.history[key][-1]}) for key in history_keys]\n",
    "metrics_dict\n",
    "vertex_ai.log_metrics(metrics_dict)\n",
    "vertex_ai.end_run() #end collecting metrics and the run is complete"
   ]
  },
  {
   "cell_type": "markdown",
   "id": "sSzIilEUBCU2",
   "metadata": {
    "id": "sSzIilEUBCU2"
   },
   "source": [
    "- The One-shot command above will download your metrics to tensorboard - and will be avialble in the Experiments tab of Vertex\n",
    "\n",
    "#### Ideally you should be seeing GPU utilization like this - play with batch size to target ~ 70-80% utilization\n",
    "![](img/merlin-training-nvtop.png)"
   ]
  },
  {
   "cell_type": "markdown",
   "id": "U8_ea6jgBCU3",
   "metadata": {
    "id": "U8_ea6jgBCU3"
   },
   "source": [
    "### Plotting performance of loss and recall"
   ]
  },
  {
   "cell_type": "code",
   "execution_count": 11,
   "id": "W3-3fmSLBCU3",
   "metadata": {
    "id": "W3-3fmSLBCU3",
    "tags": []
   },
   "outputs": [
    {
     "data": {
      "image/png": "[encoded data removed]",
      "text/plain": [
       "<Figure size 640x480 with 1 Axes>"
      ]
     },
     "metadata": {},
     "output_type": "display_data"
    }
   ],
   "source": [
    "import matplotlib.pyplot as plt\n",
    "\n",
    "def plot_performance(x, y1, y2, label_1, label_2, label_y):\n",
    "    plt.plot(x, y1, label = label_1)\n",
    "    plt.plot(x, y2, label = label_2)\n",
    "    plt.xlabel('Epoch')\n",
    "    plt.ylabel(label_y)\n",
    "    plt.title(label_y)\n",
    "    plt.legend()\n",
    "    plt.show()\n",
    "\n",
    "\n",
    "plot_performance(x=range(epoch),\n",
    "                 y1=model.history.history['loss'],\n",
    "                 y2=model.history.history['val_loss'],\n",
    "                 label_1='train-loss',\n",
    "                 label_2='val-los',\n",
    "                 label_y='loss')"
   ]
  },
  {
   "cell_type": "markdown",
   "id": "zUEKDWpQBCU3",
   "metadata": {
    "id": "zUEKDWpQBCU3"
   },
   "source": [
    "#### Looking at the recall of predicting the next song by epoch"
   ]
  },
  {
   "cell_type": "code",
   "execution_count": 12,
   "id": "QtjNOv74BCU3",
   "metadata": {
    "id": "QtjNOv74BCU3",
    "tags": []
   },
   "outputs": [
    {
     "data": {
      "image/png": "[encoded data removed]",
      "text/plain": [
       "<Figure size 640x480 with 1 Axes>"
      ]
     },
     "metadata": {},
     "output_type": "display_data"
    }
   ],
   "source": [
    "plot_performance(x=range(epoch),\n",
    "                 y1=model.history.history['recall_at_1'],\n",
    "                 y2=model.history.history['val_recall_at_1'],\n",
    "                 label_1='recall_at_1',\n",
    "                 label_2='recall_at_1_val',\n",
    "                 label_y='recall_at_1')"
   ]
  },
  {
   "cell_type": "markdown",
   "id": "XbZCKwD3BCU3",
   "metadata": {
    "id": "XbZCKwD3BCU3"
   },
   "source": [
    "#### Save the Query Model"
   ]
  },
  {
   "cell_type": "code",
   "execution_count": 13,
   "id": "0cec944c-a0c0-45b5-acb6-ff0f0aedae4f",
   "metadata": {
    "tags": []
   },
   "outputs": [
    {
     "name": "stderr",
     "output_type": "stream",
     "text": [
      "/usr/local/lib/python3.8/dist-packages/merlin/schema/tags.py:149: UserWarning: Compound tags like Tags.USER_ID have been deprecated and will be removed in a future version. Please use the atomic versions of these tags, like [<Tags.USER: 'user'>, <Tags.ID: 'id'>].\n",
      "  warnings.warn(\n"
     ]
    }
   ],
   "source": [
    "query_tower = model.query_encoder\n",
    "\n",
    "query_tower.save('query_model/')"
   ]
  },
  {
   "cell_type": "code",
   "execution_count": 14,
   "id": "517dd992-4cbd-420d-860c-20e429dd0275",
   "metadata": {
    "tags": []
   },
   "outputs": [],
   "source": [
    "from google.cloud import storage\n",
    "import glob\n",
    "\n",
    "import glob\n",
    "import os \n",
    "from google.cloud import storage\n",
    "\n",
    "GCS_CLIENT = storage.Client()\n",
    "def upload_from_directory(directory_path: str, dest_bucket_name: str, dest_blob_name: str):\n",
    "    rel_paths = glob.glob(directory_path + '/**', recursive=True)\n",
    "    bucket = GCS_CLIENT.get_bucket(dest_bucket_name)\n",
    "    for local_file in rel_paths:\n",
    "        remote_path = f'{dest_blob_name}/{\"/\".join(local_file.split(os.sep)[1:])}'\n",
    "        if os.path.isfile(local_file):\n",
    "            blob = bucket.blob(remote_path)\n",
    "            blob.upload_from_filename(local_file)\n",
    "\n",
    "dest_blob = 'query_model_merlin'\n",
    "upload_from_directory('query_model', BUCKET.replace('gs://',''), dest_blob)"
   ]
  },
  {
   "cell_type": "code",
   "execution_count": 15,
   "id": "91173f25-dc5e-4e96-8129-1c6883478f13",
   "metadata": {
    "tags": []
   },
   "outputs": [
    {
     "data": {
      "text/plain": [
       "'gs://spotify-jsw-mpd-2023/workflow/2t-spotify-workflow'"
      ]
     },
     "execution_count": 15,
     "metadata": {},
     "output_type": "execute_result"
    }
   ],
   "source": [
    "output_workflow_dir"
   ]
  },
  {
   "cell_type": "markdown",
   "id": "0ANbgj0TBCU4",
   "metadata": {
    "id": "0ANbgj0TBCU4"
   },
   "source": [
    "### Save embeddings to GCS for each song - this will become our Matching Engine index"
   ]
  },
  {
   "cell_type": "code",
   "execution_count": 30,
   "id": "qEiU2xFJBCU4",
   "metadata": {
    "id": "qEiU2xFJBCU4",
    "tags": []
   },
   "outputs": [],
   "source": [
    "from merlin.models.utils.dataset import unique_rows_by_features\n",
    "\n",
    "item_features = (\n",
    "    unique_rows_by_features(train, Tags.ITEM, Tags.ID)\n",
    ")\n",
    "\n",
    "item_features_val = (\n",
    "    unique_rows_by_features(valid, Tags.ITEM, Tags.ID)\n",
    ")"
   ]
  },
  {
   "cell_type": "code",
   "execution_count": 31,
   "id": "hh_DbVpkBCU4",
   "metadata": {
    "id": "hh_DbVpkBCU4",
    "outputId": "4c28c2e6-8472-456c-ea17-64dffe9f57ff",
    "tags": []
   },
   "outputs": [
    {
     "name": "stderr",
     "output_type": "stream",
     "text": [
      "/usr/local/lib/python3.8/dist-packages/merlin/schema/tags.py:148: UserWarning: Compound tags like Tags.ITEM_ID have been deprecated and will be removed in a future version. Please use the atomic versions of these tags, like [<Tags.ITEM: 'item'>, <Tags.ID: 'id'>].\n",
      "  warnings.warn(\n",
      "/usr/local/lib/python3.8/dist-packages/merlin/schema/tags.py:148: UserWarning: Compound tags like Tags.ITEM_ID have been deprecated and will be removed in a future version. Please use the atomic versions of these tags, like [<Tags.ITEM: 'item'>, <Tags.ID: 'id'>].\n",
      "  warnings.warn(\n"
     ]
    }
   ],
   "source": [
    "item_embs = model.candidate_embeddings(\n",
    "    item_features, index=item_features.schema['track_uri_can'], batch_size=10000\n",
    ")"
   ]
  },
  {
   "cell_type": "code",
   "execution_count": 32,
   "id": "7OUlX_34BCU4",
   "metadata": {
    "id": "7OUlX_34BCU4",
    "outputId": "80e711db-363c-4cbe-e0e4-d1177a1b22b7",
    "tags": []
   },
   "outputs": [
    {
     "name": "stderr",
     "output_type": "stream",
     "text": [
      "/usr/local/lib/python3.8/dist-packages/merlin/schema/tags.py:148: UserWarning: Compound tags like Tags.ITEM_ID have been deprecated and will be removed in a future version. Please use the atomic versions of these tags, like [<Tags.ITEM: 'item'>, <Tags.ID: 'id'>].\n",
      "  warnings.warn(\n",
      "/usr/local/lib/python3.8/dist-packages/merlin/schema/tags.py:148: UserWarning: Compound tags like Tags.ITEM_ID have been deprecated and will be removed in a future version. Please use the atomic versions of these tags, like [<Tags.ITEM: 'item'>, <Tags.ID: 'id'>].\n",
      "  warnings.warn(\n"
     ]
    }
   ],
   "source": [
    "item_embs_val = model.candidate_embeddings(\n",
    "    item_features_val, index=item_features_val.schema['track_uri_can'], batch_size=10000\n",
    ")"
   ]
  },
  {
   "cell_type": "code",
   "execution_count": 33,
   "id": "NJTrOVFPBCU4",
   "metadata": {
    "id": "NJTrOVFPBCU4",
    "outputId": "b8f94d33-c02f-419b-b2a8-8b3e4976ee27",
    "tags": []
   },
   "outputs": [
    {
     "data": {
      "text/html": [
       "<div>\n",
       "<style scoped>\n",
       "    .dataframe tbody tr th:only-of-type {\n",
       "        vertical-align: middle;\n",
       "    }\n",
       "\n",
       "    .dataframe tbody tr th {\n",
       "        vertical-align: top;\n",
       "    }\n",
       "\n",
       "    .dataframe thead th {\n",
       "        text-align: right;\n",
       "    }\n",
       "</style>\n",
       "<table border=\"1\" class=\"dataframe\">\n",
       "  <thead>\n",
       "    <tr style=\"text-align: right;\">\n",
       "      <th></th>\n",
       "      <th>0</th>\n",
       "      <th>1</th>\n",
       "      <th>2</th>\n",
       "      <th>3</th>\n",
       "      <th>4</th>\n",
       "      <th>5</th>\n",
       "      <th>6</th>\n",
       "      <th>7</th>\n",
       "      <th>8</th>\n",
       "      <th>9</th>\n",
       "      <th>...</th>\n",
       "      <th>118</th>\n",
       "      <th>119</th>\n",
       "      <th>120</th>\n",
       "      <th>121</th>\n",
       "      <th>122</th>\n",
       "      <th>123</th>\n",
       "      <th>124</th>\n",
       "      <th>125</th>\n",
       "      <th>126</th>\n",
       "      <th>127</th>\n",
       "    </tr>\n",
       "    <tr>\n",
       "      <th>track_uri_can</th>\n",
       "      <th></th>\n",
       "      <th></th>\n",
       "      <th></th>\n",
       "      <th></th>\n",
       "      <th></th>\n",
       "      <th></th>\n",
       "      <th></th>\n",
       "      <th></th>\n",
       "      <th></th>\n",
       "      <th></th>\n",
       "      <th></th>\n",
       "      <th></th>\n",
       "      <th></th>\n",
       "      <th></th>\n",
       "      <th></th>\n",
       "      <th></th>\n",
       "      <th></th>\n",
       "      <th></th>\n",
       "      <th></th>\n",
       "      <th></th>\n",
       "      <th></th>\n",
       "    </tr>\n",
       "  </thead>\n",
       "  <tbody>\n",
       "    <tr>\n",
       "      <th>0</th>\n",
       "      <td>0.156597</td>\n",
       "      <td>0.0</td>\n",
       "      <td>0.358118</td>\n",
       "      <td>1.253559</td>\n",
       "      <td>0.000000</td>\n",
       "      <td>0.563500</td>\n",
       "      <td>0.350794</td>\n",
       "      <td>0.000000</td>\n",
       "      <td>0.764257</td>\n",
       "      <td>0.000000</td>\n",
       "      <td>...</td>\n",
       "      <td>0.468885</td>\n",
       "      <td>0.812787</td>\n",
       "      <td>0.346340</td>\n",
       "      <td>0.000000</td>\n",
       "      <td>0.000000</td>\n",
       "      <td>0.0</td>\n",
       "      <td>0.832264</td>\n",
       "      <td>0.000000</td>\n",
       "      <td>1.049172</td>\n",
       "      <td>3.594275</td>\n",
       "    </tr>\n",
       "    <tr>\n",
       "      <th>1</th>\n",
       "      <td>0.036967</td>\n",
       "      <td>0.0</td>\n",
       "      <td>1.574395</td>\n",
       "      <td>0.000000</td>\n",
       "      <td>0.000000</td>\n",
       "      <td>1.719074</td>\n",
       "      <td>0.000000</td>\n",
       "      <td>0.000000</td>\n",
       "      <td>0.433207</td>\n",
       "      <td>1.295662</td>\n",
       "      <td>...</td>\n",
       "      <td>0.696981</td>\n",
       "      <td>0.000000</td>\n",
       "      <td>0.066725</td>\n",
       "      <td>0.000000</td>\n",
       "      <td>0.000000</td>\n",
       "      <td>0.0</td>\n",
       "      <td>0.526635</td>\n",
       "      <td>0.000000</td>\n",
       "      <td>1.764096</td>\n",
       "      <td>2.150635</td>\n",
       "    </tr>\n",
       "    <tr>\n",
       "      <th>2</th>\n",
       "      <td>0.173762</td>\n",
       "      <td>0.0</td>\n",
       "      <td>1.335858</td>\n",
       "      <td>0.000000</td>\n",
       "      <td>0.000000</td>\n",
       "      <td>1.981306</td>\n",
       "      <td>0.000000</td>\n",
       "      <td>0.000000</td>\n",
       "      <td>0.000000</td>\n",
       "      <td>2.701558</td>\n",
       "      <td>...</td>\n",
       "      <td>0.831433</td>\n",
       "      <td>0.000000</td>\n",
       "      <td>0.000000</td>\n",
       "      <td>0.077321</td>\n",
       "      <td>0.000000</td>\n",
       "      <td>0.0</td>\n",
       "      <td>0.580433</td>\n",
       "      <td>0.000000</td>\n",
       "      <td>1.358305</td>\n",
       "      <td>2.091223</td>\n",
       "    </tr>\n",
       "    <tr>\n",
       "      <th>3</th>\n",
       "      <td>0.155802</td>\n",
       "      <td>0.0</td>\n",
       "      <td>1.136039</td>\n",
       "      <td>0.296108</td>\n",
       "      <td>0.000000</td>\n",
       "      <td>1.328819</td>\n",
       "      <td>0.000000</td>\n",
       "      <td>0.000000</td>\n",
       "      <td>0.673788</td>\n",
       "      <td>0.458259</td>\n",
       "      <td>...</td>\n",
       "      <td>0.325813</td>\n",
       "      <td>0.000000</td>\n",
       "      <td>0.222266</td>\n",
       "      <td>0.000000</td>\n",
       "      <td>0.029706</td>\n",
       "      <td>0.0</td>\n",
       "      <td>0.534872</td>\n",
       "      <td>0.000000</td>\n",
       "      <td>1.343344</td>\n",
       "      <td>2.570790</td>\n",
       "    </tr>\n",
       "    <tr>\n",
       "      <th>4</th>\n",
       "      <td>0.032092</td>\n",
       "      <td>0.0</td>\n",
       "      <td>1.363372</td>\n",
       "      <td>0.000000</td>\n",
       "      <td>0.000000</td>\n",
       "      <td>1.906085</td>\n",
       "      <td>0.000000</td>\n",
       "      <td>0.000000</td>\n",
       "      <td>0.072069</td>\n",
       "      <td>1.709810</td>\n",
       "      <td>...</td>\n",
       "      <td>0.704574</td>\n",
       "      <td>0.000000</td>\n",
       "      <td>0.000000</td>\n",
       "      <td>0.000000</td>\n",
       "      <td>0.000000</td>\n",
       "      <td>0.0</td>\n",
       "      <td>0.764728</td>\n",
       "      <td>0.000000</td>\n",
       "      <td>1.710742</td>\n",
       "      <td>1.659744</td>\n",
       "    </tr>\n",
       "    <tr>\n",
       "      <th>...</th>\n",
       "      <td>...</td>\n",
       "      <td>...</td>\n",
       "      <td>...</td>\n",
       "      <td>...</td>\n",
       "      <td>...</td>\n",
       "      <td>...</td>\n",
       "      <td>...</td>\n",
       "      <td>...</td>\n",
       "      <td>...</td>\n",
       "      <td>...</td>\n",
       "      <td>...</td>\n",
       "      <td>...</td>\n",
       "      <td>...</td>\n",
       "      <td>...</td>\n",
       "      <td>...</td>\n",
       "      <td>...</td>\n",
       "      <td>...</td>\n",
       "      <td>...</td>\n",
       "      <td>...</td>\n",
       "      <td>...</td>\n",
       "      <td>...</td>\n",
       "    </tr>\n",
       "    <tr>\n",
       "      <th>2178051</th>\n",
       "      <td>0.000000</td>\n",
       "      <td>0.0</td>\n",
       "      <td>0.300949</td>\n",
       "      <td>1.978246</td>\n",
       "      <td>0.165137</td>\n",
       "      <td>0.753515</td>\n",
       "      <td>0.000000</td>\n",
       "      <td>0.000000</td>\n",
       "      <td>0.669513</td>\n",
       "      <td>0.010681</td>\n",
       "      <td>...</td>\n",
       "      <td>0.351132</td>\n",
       "      <td>1.749218</td>\n",
       "      <td>0.451024</td>\n",
       "      <td>0.000000</td>\n",
       "      <td>0.000000</td>\n",
       "      <td>0.0</td>\n",
       "      <td>0.486183</td>\n",
       "      <td>0.062873</td>\n",
       "      <td>1.117377</td>\n",
       "      <td>2.645921</td>\n",
       "    </tr>\n",
       "    <tr>\n",
       "      <th>2178157</th>\n",
       "      <td>0.000000</td>\n",
       "      <td>0.0</td>\n",
       "      <td>0.217063</td>\n",
       "      <td>1.510675</td>\n",
       "      <td>1.545421</td>\n",
       "      <td>1.476855</td>\n",
       "      <td>0.051679</td>\n",
       "      <td>0.017275</td>\n",
       "      <td>1.573452</td>\n",
       "      <td>0.018097</td>\n",
       "      <td>...</td>\n",
       "      <td>0.327482</td>\n",
       "      <td>0.490127</td>\n",
       "      <td>0.106996</td>\n",
       "      <td>0.000000</td>\n",
       "      <td>0.000000</td>\n",
       "      <td>0.0</td>\n",
       "      <td>0.467018</td>\n",
       "      <td>0.000000</td>\n",
       "      <td>0.682899</td>\n",
       "      <td>0.944211</td>\n",
       "    </tr>\n",
       "    <tr>\n",
       "      <th>2178177</th>\n",
       "      <td>0.102678</td>\n",
       "      <td>0.0</td>\n",
       "      <td>0.464801</td>\n",
       "      <td>1.111067</td>\n",
       "      <td>0.000000</td>\n",
       "      <td>0.921787</td>\n",
       "      <td>0.091268</td>\n",
       "      <td>0.000000</td>\n",
       "      <td>0.768683</td>\n",
       "      <td>0.000000</td>\n",
       "      <td>...</td>\n",
       "      <td>0.269072</td>\n",
       "      <td>0.644362</td>\n",
       "      <td>0.640857</td>\n",
       "      <td>0.025221</td>\n",
       "      <td>0.000000</td>\n",
       "      <td>0.0</td>\n",
       "      <td>0.504872</td>\n",
       "      <td>0.074776</td>\n",
       "      <td>0.875016</td>\n",
       "      <td>3.188169</td>\n",
       "    </tr>\n",
       "    <tr>\n",
       "      <th>2178335</th>\n",
       "      <td>0.248626</td>\n",
       "      <td>0.0</td>\n",
       "      <td>0.432699</td>\n",
       "      <td>1.021710</td>\n",
       "      <td>0.000000</td>\n",
       "      <td>0.979517</td>\n",
       "      <td>0.090384</td>\n",
       "      <td>0.000000</td>\n",
       "      <td>0.579329</td>\n",
       "      <td>0.000000</td>\n",
       "      <td>...</td>\n",
       "      <td>0.401553</td>\n",
       "      <td>0.746640</td>\n",
       "      <td>0.637097</td>\n",
       "      <td>0.067559</td>\n",
       "      <td>0.000000</td>\n",
       "      <td>0.0</td>\n",
       "      <td>0.815122</td>\n",
       "      <td>0.044305</td>\n",
       "      <td>0.818699</td>\n",
       "      <td>2.672405</td>\n",
       "    </tr>\n",
       "    <tr>\n",
       "      <th>2178364</th>\n",
       "      <td>0.009497</td>\n",
       "      <td>0.0</td>\n",
       "      <td>0.384839</td>\n",
       "      <td>1.388306</td>\n",
       "      <td>0.000000</td>\n",
       "      <td>0.807894</td>\n",
       "      <td>0.077098</td>\n",
       "      <td>0.000000</td>\n",
       "      <td>0.679132</td>\n",
       "      <td>0.000000</td>\n",
       "      <td>...</td>\n",
       "      <td>0.209715</td>\n",
       "      <td>1.292633</td>\n",
       "      <td>0.754348</td>\n",
       "      <td>0.035543</td>\n",
       "      <td>0.000000</td>\n",
       "      <td>0.0</td>\n",
       "      <td>0.442212</td>\n",
       "      <td>0.208403</td>\n",
       "      <td>0.873659</td>\n",
       "      <td>3.223229</td>\n",
       "    </tr>\n",
       "  </tbody>\n",
       "</table>\n",
       "<p>150639 rows × 128 columns</p>\n",
       "</div>"
      ],
      "text/plain": [
       "                      0    1         2         3         4         5  \\\n",
       "track_uri_can                                                          \n",
       "0              0.156597  0.0  0.358118  1.253559  0.000000  0.563500   \n",
       "1              0.036967  0.0  1.574395  0.000000  0.000000  1.719074   \n",
       "2              0.173762  0.0  1.335858  0.000000  0.000000  1.981306   \n",
       "3              0.155802  0.0  1.136039  0.296108  0.000000  1.328819   \n",
       "4              0.032092  0.0  1.363372  0.000000  0.000000  1.906085   \n",
       "...                 ...  ...       ...       ...       ...       ...   \n",
       "2178051        0.000000  0.0  0.300949  1.978246  0.165137  0.753515   \n",
       "2178157        0.000000  0.0  0.217063  1.510675  1.545421  1.476855   \n",
       "2178177        0.102678  0.0  0.464801  1.111067  0.000000  0.921787   \n",
       "2178335        0.248626  0.0  0.432699  1.021710  0.000000  0.979517   \n",
       "2178364        0.009497  0.0  0.384839  1.388306  0.000000  0.807894   \n",
       "\n",
       "                      6         7         8         9  ...       118  \\\n",
       "track_uri_can                                          ...             \n",
       "0              0.350794  0.000000  0.764257  0.000000  ...  0.468885   \n",
       "1              0.000000  0.000000  0.433207  1.295662  ...  0.696981   \n",
       "2              0.000000  0.000000  0.000000  2.701558  ...  0.831433   \n",
       "3              0.000000  0.000000  0.673788  0.458259  ...  0.325813   \n",
       "4              0.000000  0.000000  0.072069  1.709810  ...  0.704574   \n",
       "...                 ...       ...       ...       ...  ...       ...   \n",
       "2178051        0.000000  0.000000  0.669513  0.010681  ...  0.351132   \n",
       "2178157        0.051679  0.017275  1.573452  0.018097  ...  0.327482   \n",
       "2178177        0.091268  0.000000  0.768683  0.000000  ...  0.269072   \n",
       "2178335        0.090384  0.000000  0.579329  0.000000  ...  0.401553   \n",
       "2178364        0.077098  0.000000  0.679132  0.000000  ...  0.209715   \n",
       "\n",
       "                    119       120       121       122  123       124  \\\n",
       "track_uri_can                                                          \n",
       "0              0.812787  0.346340  0.000000  0.000000  0.0  0.832264   \n",
       "1              0.000000  0.066725  0.000000  0.000000  0.0  0.526635   \n",
       "2              0.000000  0.000000  0.077321  0.000000  0.0  0.580433   \n",
       "3              0.000000  0.222266  0.000000  0.029706  0.0  0.534872   \n",
       "4              0.000000  0.000000  0.000000  0.000000  0.0  0.764728   \n",
       "...                 ...       ...       ...       ...  ...       ...   \n",
       "2178051        1.749218  0.451024  0.000000  0.000000  0.0  0.486183   \n",
       "2178157        0.490127  0.106996  0.000000  0.000000  0.0  0.467018   \n",
       "2178177        0.644362  0.640857  0.025221  0.000000  0.0  0.504872   \n",
       "2178335        0.746640  0.637097  0.067559  0.000000  0.0  0.815122   \n",
       "2178364        1.292633  0.754348  0.035543  0.000000  0.0  0.442212   \n",
       "\n",
       "                    125       126       127  \n",
       "track_uri_can                                \n",
       "0              0.000000  1.049172  3.594275  \n",
       "1              0.000000  1.764096  2.150635  \n",
       "2              0.000000  1.358305  2.091223  \n",
       "3              0.000000  1.343344  2.570790  \n",
       "4              0.000000  1.710742  1.659744  \n",
       "...                 ...       ...       ...  \n",
       "2178051        0.062873  1.117377  2.645921  \n",
       "2178157        0.000000  0.682899  0.944211  \n",
       "2178177        0.074776  0.875016  3.188169  \n",
       "2178335        0.044305  0.818699  2.672405  \n",
       "2178364        0.208403  0.873659  3.223229  \n",
       "\n",
       "[150639 rows x 128 columns]"
      ]
     },
     "execution_count": 33,
     "metadata": {},
     "output_type": "execute_result"
    }
   ],
   "source": [
    "# Quick look at the data\n",
    "item_emb_pd = item_embs_val.compute().to_pandas()\n",
    "item_emb_pd"
   ]
  },
  {
   "cell_type": "code",
   "execution_count": 38,
   "id": "f3ee603e-fad8-4e4b-b7a2-c5ae9b9b2aca",
   "metadata": {
    "tags": []
   },
   "outputs": [
    {
     "name": "stdout",
     "output_type": "stream",
     "text": [
      "E0404 16:17:51.015818392    8113 backup_poller.cc:134]       Run client channel backup poller: {\"created\":\"@1680625071.015672808\",\"description\":\"pollset_work\",\"file\":\"src/core/lib/iomgr/ev_epollex_linux.cc\",\"file_line\":320,\"referenced_errors\":[{\"created\":\"@1680625071.015669695\",\"description\":\"Bad file descriptor\",\"errno\":9,\"file\":\"src/core/lib/iomgr/ev_epollex_linux.cc\",\"file_line\":950,\"os_error\":\"Bad file descriptor\",\"syscall\":\"epoll_wait\"}]}\n",
      "rm: cannot remove 'candidate_embeddings.json': No such file or directory\n"
     ]
    }
   ],
   "source": [
    "!rm candidate_embeddings.json > /dev/null\n",
    "!touch candidate_embeddings.json"
   ]
  },
  {
   "cell_type": "code",
   "execution_count": 41,
   "id": "lgnrFlsqBCU4",
   "metadata": {
    "id": "lgnrFlsqBCU4",
    "outputId": "b2c62aaf-a8e8-425d-d777-6d1b4896b4b6",
    "tags": []
   },
   "outputs": [
    {
     "name": "stdout",
     "output_type": "stream",
     "text": [
      "CPU times: user 26min 41s, sys: 2min 5s, total: 28min 47s\n",
      "Wall time: 27min\n"
     ]
    }
   ],
   "source": [
    "%%time\n",
    "\n",
    "item_data = pd.read_parquet(os.path.join(BUCKET, \"workflow/2t-spotify-workflow\", 'categories/unique.track_uri_can.parquet'))\n",
    "\n",
    "lookup_dict = dict(item_data['track_uri_can'])\n",
    "\n",
    "def format_for_matching_engine(data) -> None:\n",
    "    cols = [str(i) for i in range(layers[-1])] #ensure we are only pulling 0-EMBEDDING_DIM cols\n",
    "    emb = [data[col] for col in cols]\n",
    "    formatted_emb = '{\"id\":\"' + str(data['track_uri_can']) + '\",\"embedding\":[' + \",\".join(str(x) for x in list(emb)) + ']}'\n",
    "    with open(\"candidate_embeddings.json\", 'a') as f:\n",
    "        f.write(formatted_emb)\n",
    "        f.write(\"\\n\")\n",
    "    f.close()\n",
    "\n",
    "item_emb_pd = item_embs.compute().to_pandas().fillna(1e-10).reset_index() #filling blanks with an epsilon value\n",
    "item_emb_pd['track_uri_can'] = item_emb_pd['track_uri_can'].apply(lambda l: lookup_dict[l])\n",
    "_ = item_emb_pd.apply(format_for_matching_engine, axis=1)\n",
    "\n",
    "item_emb_pd_val = item_embs_val.compute().to_pandas().fillna(1e-10).reset_index() #filling blanks with an epsilon value\n",
    "item_emb_pd_val['track_uri_can'] = item_emb_pd_val['track_uri_can'].apply(lambda l: lookup_dict[l])\n",
    "_ = item_emb_pd_val.apply(format_for_matching_engine, axis=1)\n"
   ]
  },
  {
   "cell_type": "code",
   "execution_count": 42,
   "id": "Pc9LslA5BCU5",
   "metadata": {
    "id": "Pc9LslA5BCU5",
    "outputId": "e41ded6d-4378-4d22-fe29-0dce9a9ff3e0",
    "tags": []
   },
   "outputs": [
    {
     "name": "stdout",
     "output_type": "stream",
     "text": [
      "2329097 candidate_embeddings.json\n"
     ]
    }
   ],
   "source": [
    "!wc -l candidate_embeddings.json"
   ]
  },
  {
   "cell_type": "code",
   "execution_count": 43,
   "id": "2666f552-3e53-4af6-9c90-677f20717e53",
   "metadata": {
    "tags": []
   },
   "outputs": [],
   "source": [
    "!mkdir embeddings\n",
    "!mv candidate_embeddings.json embeddings\n",
    "dest_blob = 'merlin-embeddings'\n",
    "upload_from_directory('embeddings', BUCKET.replace('gs://',''), dest_blob)"
   ]
  },
  {
   "cell_type": "markdown",
   "id": "uTTyZoBpBCU5",
   "metadata": {
    "id": "uTTyZoBpBCU5"
   },
   "source": [
    "## All set move to the next notebook - your bucket now should look something like this:\n",
    "\n",
    "![](img/merlin-bucket.png)"
   ]
  }
 ],
 "metadata": {
  "colab": {
   "provenance": []
  },
  "environment": {
   "kernel": "python3",
   "name": "tf2-gpu.2-11.m108",
   "type": "gcloud",
   "uri": "gcr.io/deeplearning-platform-release/tf2-gpu.2-11:m108"
  },
  "interpreter": {
   "hash": "31f2aee4e71d21fbe5cf8b01ff0e069b9275f58929596ceb00d14d90e3e16cd6"
  },
  "kernelspec": {
   "display_name": "Python 3 (ipykernel)",
   "language": "python",
   "name": "python3"
  },
  "language_info": {
   "codemirror_mode": {
    "name": "ipython",
    "version": 3
   },
   "file_extension": ".py",
   "mimetype": "text/x-python",
   "name": "python",
   "nbconvert_exporter": "python",
   "pygments_lexer": "ipython3",
   "version": "3.10.10"
  }
 },
 "nbformat": 4,
 "nbformat_minor": 5
}
