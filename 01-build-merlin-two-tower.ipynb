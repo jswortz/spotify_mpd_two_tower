{
 "cells": [
  {
   "cell_type": "code",
   "execution_count": null,
   "id": "uxyPOZzxBCUq",
   "metadata": {
    "id": "uxyPOZzxBCUq"
   },
   "outputs": [],
   "source": [
    "# !pip install git+https://github.com/NVIDIA-Merlin/models.git"
   ]
  },
  {
   "cell_type": "markdown",
   "id": "VUh3VmQFBCUr",
   "metadata": {
    "id": "VUh3VmQFBCUr",
    "jp-MarkdownHeadingCollapsed": true,
    "tags": [],
    "toc-hr-collapsed": true
   },
   "source": [
    "# Environment Setup\n",
    "\n",
    "Push a Nvidia repo to your artifact repository - (create a new repo if not available)\n",
    "\n",
    "### Further instructions on how to build a Merlin container can be found [here](https://github.com/jswortz/merlin-gcp)\n",
    "\n",
    "Guide\n",
    "1. In an notebook instance run from a terminal `git clone https://github.com/jswortz/merlin-gcp`\n",
    "2. Run the notebook - this will build a merlin tensorflow image. You can change the base images from NVidia if you choose - this was tested from the version in the repo\n",
    "3. This will build a container image and save it to artifact registry repository. You may need to enable the artifact repository service\n",
    "4. Create a new custom workbench by clicking \"New Notebook\" > \"Customize\"\n",
    "\n",
    "<img src=\"img/custom_workbench.png\" width=\"500\"/>\n",
    "\n",
    "5. To get to the screen for artifact repository. First select \"Advanced\" then name, select region, then go to \"Environment\"\n",
    "\n",
    "<img src=\"img/workbench-environment.png\" width=\"500\"/>\n",
    "\n",
    "6. Select the your repo and respective image\n",
    "\n",
    "<img src=\"img/image.png\" width=\"500\"/>\n",
    "\n",
    "7. Finally, if you already followed the instructions in notebook 02 setup - make sure the new workbench network is in the VPC peered network used for matching engine\n",
    "\n",
    "# Training with Merlin\n",
    "\n",
    "## Spotify example\n",
    "\n",
    "Our goal is to enable the architecture below with Vertex AI and the Merlin Models framework\n",
    "\n",
    "![](img/arch.png)\n",
    "\n",
    "## Goals\n",
    "\n",
    "The goal of this notebook is to create a simple two tower model with Nvtabular and Merlin Models\n",
    "\n",
    "1. Export data to Parquet for use in Nvtabular\n",
    "2. Create a NVtabular workflow and fit it to the data\n",
    "3. Save the fitted workflow to GCS (contains all dictionary lookups)\n",
    "4. Transform the data into GPU-optimized features from the NVtabular workflow and save to gcs\n",
    "5. Load the data again as a Merlin dataset using the workflow\n",
    "6. Create a two tower model in a few lines of code\n",
    "7. Train a two tower model\n",
    "8. Save the model (for deployment in notebook 03)\n",
    "9. Export the embeddings and save to gcs (for deployment to matching engine)\n",
    "\n",
    "*Based heavily on [this](https://github.com/NVIDIA-Merlin/models/blob/main/examples/05-Retrieval-Model.ipynb) NVIDIA resource\n",
    "\n",
    "\n",
    "Data is loaded from BQ - to parquet using the job configuration below\n",
    "\n",
    "\n",
    "Info on the data\n",
    "\n",
    "* track_uri_seed counts: 2249561\n",
    "* artist_uri_seed counts: 294110\n",
    "* album_uri_seed counts: 730377"
   ]
  },
  {
   "cell_type": "markdown",
   "id": "PuaFkpO7BCUt",
   "metadata": {
    "id": "PuaFkpO7BCUt",
    "tags": [],
    "toc-hr-collapsed": true
   },
   "source": [
    "# Export Data From BigQuery to Parquet on GCS"
   ]
  },
  {
   "cell_type": "code",
   "execution_count": 2,
   "id": "q6luptPoBCUt",
   "metadata": {
    "id": "q6luptPoBCUt",
    "outputId": "1d7a6df0-c9d2-488a-96ea-71be4635c931"
   },
   "outputs": [],
   "source": [
    "PROJECT = 'hybrid-vertex'  # <--- TODO: CHANGE THIS\n",
    "LOCATION = 'us-central1'\n",
    "# path = 'gs://two-tower-models' #TODO change to your model directory\n",
    "BUCKET = 'gs://spotify-beam-v3'\n",
    "DATASET_ID = 'mdp_eda_test'\n",
    "TABLE = 'train_flatten_last_5'\n",
    "TABLE_VALIDATION = 'train_flatten_valid_last_5'\n",
    "\n",
    "\n",
    "import os\n",
    "\n",
    "from google.cloud import bigquery\n",
    "client = bigquery.Client()\n",
    "\n",
    "os.environ[\"CUDA_VISIBLE_DEVICES\"]=\"0\"\n",
    "\n",
    "\n",
    "def export_bq_to_parquet(PROJECT, DATASET_ID, TABLE, LOCATION, prefix):\n",
    "    destination_uri = f\"{BUCKET}/{prefix}_data_parquet/*.snappy.parquet\"\n",
    "    dataset_ref = bigquery.DatasetReference(PROJECT, DATASET_ID)\n",
    "    table_ref = dataset_ref.table(TABLE)\n",
    "    job_config = bigquery.job.ExtractJobConfig()\n",
    "    job_config.destination_format = bigquery.DestinationFormat.PARQUET\n",
    "    extract_job = client.extract_table(\n",
    "        table_ref,\n",
    "        destination_uri,\n",
    "        job_config=job_config,\n",
    "        # Location must match that of the source table.\n",
    "        location=LOCATION,\n",
    "    )  # API request\n",
    "    return(extract_job.result())  # Waits for job to complete."
   ]
  },
  {
   "cell_type": "markdown",
   "id": "sTIG8tqgBCUu",
   "metadata": {
    "id": "sTIG8tqgBCUu"
   },
   "source": [
    "#### Export the data from Bigquery to Parquet\n",
    "\n",
    "*Run only once* Uncomment to run"
   ]
  },
  {
   "cell_type": "code",
   "execution_count": 3,
   "id": "mcUPY-w8BCUu",
   "metadata": {
    "id": "mcUPY-w8BCUu"
   },
   "outputs": [],
   "source": [
    "# # training\n",
    "# export_bq_to_parquet(PROJECT, DATASET_ID, TABLE, LOCATION, prefix='train')\n",
    "\n",
    "# # # validation\n",
    "# export_bq_to_parquet(PROJECT, DATASET_ID, TABLE_VALIDATION, LOCATION, prefix='valid')"
   ]
  },
  {
   "cell_type": "markdown",
   "id": "yWMyLniwBCUu",
   "metadata": {
    "id": "yWMyLniwBCUu",
    "tags": [],
    "toc-hr-collapsed": true
   },
   "source": [
    "# Create a NVTabular W orkflow To Preprocess The Data"
   ]
  },
  {
   "cell_type": "code",
   "execution_count": 3,
   "id": "NNycFca4BCUv",
   "metadata": {
    "id": "NNycFca4BCUv",
    "outputId": "e9e3d697-855c-4f45-e33d-db032a327190"
   },
   "outputs": [
    {
     "name": "stderr",
     "output_type": "stream",
     "text": [
      "2023-02-23 17:32:00.609406: I tensorflow/core/platform/cpu_feature_guard.cc:194] This TensorFlow binary is optimized with oneAPI Deep Neural Network Library (oneDNN) to use the following CPU instructions in performance-critical operations:  SSE3 SSE4.1 SSE4.2 AVX\n",
      "To enable them in other operations, rebuild TensorFlow with the appropriate compiler flags.\n",
      "2023-02-23 17:32:00.754653: I tensorflow/core/util/util.cc:169] oneDNN custom operations are on. You may see slightly different numerical results due to floating-point round-off errors from different computation orders. To turn them off, set the environment variable `TF_ENABLE_ONEDNN_OPTS=0`.\n"
     ]
    }
   ],
   "source": [
    "from time import time\n",
    "import pandas as pd\n",
    "# disable INFO and DEBUG logging everywhere\n",
    "import logging\n",
    "import time\n",
    "from dask.distributed import Client\n",
    "from dask_cuda import LocalCUDACluster\n",
    "import fsspec\n",
    "\n",
    "import nvtabular as nvt\n",
    "from merlin.io.shuffle import Shuffle\n",
    "from nvtabular.ops import (\n",
    "    Categorify,\n",
    "    TagAsUserID,\n",
    "    TagAsItemID,\n",
    "    TagAsItemFeatures,\n",
    "    TagAsUserFeatures,\n",
    "    AddMetadata,\n",
    "    ListSlice\n",
    ")\n",
    "import nvtabular.ops as ops\n",
    "from nvtabular.utils import device_mem_size\n",
    "\n",
    "from merlin.schema.tags import Tags\n",
    "# import merlin.models.tf as mm\n",
    "from merlin.io.dataset import Dataset\n",
    "import tensorflow as tf\n",
    "\n",
    "\n",
    "logging.disable(logging.WARNING)\n",
    "\n",
    "\n",
    "# for running this example on CPU, comment out the line below\n",
    "os.environ[\"TF_GPU_ALLOCATOR\"] = \"cuda_malloc_async\""
   ]
  },
  {
   "cell_type": "markdown",
   "id": "IhXdqwNsBCUv",
   "metadata": {
    "id": "IhXdqwNsBCUv"
   },
   "source": [
    "### Create NVTabular Dataset\n",
    "This will be our pre-processor to hash strings and other preprocessing"
   ]
  },
  {
   "cell_type": "code",
   "execution_count": 6,
   "id": "5vANLF9gBCUv",
   "metadata": {
    "id": "5vANLF9gBCUv"
   },
   "outputs": [],
   "source": [
    "train = nvt.Dataset(f\"{BUCKET}/train_data_parquet/*.snappy.parquet\")\n",
    "valid = nvt.Dataset(f\"{BUCKET}/valid_data_parquet/*.snappy.parquet\")"
   ]
  },
  {
   "cell_type": "markdown",
   "id": "pwCh2sKhBCUv",
   "metadata": {
    "id": "pwCh2sKhBCUv"
   },
   "source": [
    "#### Define the NVTabular preprocessing graph\n",
    "\n",
    "Nvtabular takes a tabular dataset and transforms the data into new Parquet files optimized for training. This is equivalent to running a string lookup in tensorflow, and has similar functionality as adpat when a workflow is used\n",
    "\n",
    "The graph is defined as a set of nodes and a node is defined as follows:\n",
    "\n",
    "```\n",
    "NODE_NAME = LIST_OF_FEATURE_NAMES >> nvt.ops.* >> [NEXT_STEP] >> Tag\n",
    "```\n",
    "\n",
    "Nvt has many ops - one of the most notable is `Categorify` as it is flexible and converts high cardinality text features to indicies\n",
    "\n",
    "Tags are used as a means to label the schema in the metadata and serves as a label for merlin models to interpret for consumption (e.g. which features belong to the query tower and candidate tower have different tags). You will see the tags in the schema in examples below"
   ]
  },
  {
   "cell_type": "code",
   "execution_count": 8,
   "id": "jLnxwpHPBCUw",
   "metadata": {
    "id": "jLnxwpHPBCUw",
    "scrolled": true,
    "tags": []
   },
   "outputs": [],
   "source": [
    "# =============================================\n",
    "# featutres\n",
    "# =============================================\n",
    "item_id = [\"track_uri_can\"] >> Categorify(dtype=\"int32\") >> TagAsItemID() \n",
    "playlist_id = [\"pid\"] >> Categorify(dtype=\"int32\") >> TagAsUserID() \n",
    "\n",
    "\n",
    "item_features_cat = [\n",
    "    'artist_name_can',\n",
    "    'track_name_can',\n",
    "    'artist_genres_can',\n",
    "]\n",
    "\n",
    "item_features_cont = [\n",
    "    'duration_ms_can',\n",
    "    'track_pop_can',\n",
    "    'artist_pop_can',\n",
    "    'artist_followers_can',\n",
    "]\n",
    "\n",
    "playlist_features_cat = [\n",
    "    'description_pl',\n",
    "    'name',\n",
    "    'collaborative',\n",
    "]\n",
    "\n",
    "playlist_features_cont = [\n",
    "    'duration_ms_seed_pl',\n",
    "    'n_songs_pl',\n",
    "    'num_artists_pl',\n",
    "    'num_albums_pl',\n",
    "]\n",
    "\n",
    "seq_feats_cat = [\n",
    "    'artist_name_pl',\n",
    "    'track_uri_pl',\n",
    "    'track_name_pl',\n",
    "    'album_name_pl',\n",
    "    'artist_genres_pl',\n",
    "]\n",
    "\n",
    "CAT = playlist_features_cat + item_features_cat\n",
    "CONT = item_features_cont + playlist_features_cont"
   ]
  },
  {
   "cell_type": "code",
   "execution_count": 7,
   "id": "99f0ad65-e754-4e94-af1f-f60a1d2b8def",
   "metadata": {},
   "outputs": [],
   "source": [
    "def create_parquet_nvt_dataset(\n",
    "    # data_path,\n",
    "    frac_size,\n",
    "    file_pattern=None,\n",
    "):\n",
    "    \"\"\"Create a nvt.Dataset definition for the parquet files.\"\"\"\n",
    "    file_list = os.path.join(file_pattern, \"train\", \"*.snappy.parquet\")\n",
    "    \n",
    "    print(file_list)\n",
    "    return nvt.Dataset(\n",
    "        file_list,\n",
    "        engine='parquet',\n",
    "        part_mem_fraction=frac_size\n",
    "  )\n",
    "\n",
    "def save_dataset(\n",
    "    dataset,\n",
    "    output_path,\n",
    "    output_files,\n",
    "    shuffle=None,\n",
    "):\n",
    "    \"\"\"Save dataset to parquet files to path.\"\"\"\n",
    "    categorical_cols=CAT\n",
    "    continuous_cols=CONT\n",
    "\n",
    "    dict_dtypes = {}\n",
    "    for col in categorical_cols:\n",
    "        dict_dtypes[col] = np.int32\n",
    "\n",
    "    for col in continuous_cols:\n",
    "        dict_dtypes[col] = np.float64\n",
    "\n",
    "    dataset.to_parquet(\n",
    "        output_path=output_path,\n",
    "        shuffle=shuffle,\n",
    "        output_files=output_files,\n",
    "        dtypes=dict_dtypes,\n",
    "        cats=categorical_cols,\n",
    "        conts=continuous_cols,\n",
    "    )"
   ]
  },
  {
   "cell_type": "markdown",
   "id": "dYMTGn22BCUw",
   "metadata": {
    "id": "dYMTGn22BCUw"
   },
   "source": [
    "### Define a workflow\n",
    "This is an easy step by adding all nodes that need to run in parallel. A graphviz visualization of the graph is available below"
   ]
  },
  {
   "cell_type": "markdown",
   "id": "2I8dVGeHBCUx",
   "metadata": {
    "id": "2I8dVGeHBCUx"
   },
   "source": [
    "### Before we transform the data, let's look at an original record\n",
    "This loads the data into a dask pandas dataframe. `.to_ddf()` converts the dataset into a dask df"
   ]
  },
  {
   "cell_type": "code",
   "execution_count": 10,
   "id": "7PwjEYOjBCUw",
   "metadata": {
    "id": "7PwjEYOjBCUw"
   },
   "outputs": [],
   "source": [
    "# =============================================\n",
    "#            Workflow\n",
    "# =============================================\n",
    "def create_nvt_workflow():\n",
    "    '''\n",
    "    Create a nvt.Workflow definition with transformation all the steps\n",
    "    '''\n",
    "    item_id = [\"track_uri_can\"] >> Categorify(dtype=\"int32\") >> TagAsItemID() \n",
    "    playlist_id = [\"pid\"] >> Categorify(dtype=\"int32\") >> TagAsUserID() \n",
    "\n",
    "\n",
    "    item_features_cat = ['artist_name_can',\n",
    "            'track_name_can',\n",
    "            'artist_genres_can',\n",
    "        ]\n",
    "\n",
    "    item_features_cont = [\n",
    "            'duration_ms_can',\n",
    "            'track_pop_can',\n",
    "            'artist_pop_can',\n",
    "            'artist_followers_can',\n",
    "        ]\n",
    "\n",
    "    playlist_features_cat = [\n",
    "            'description_pl',\n",
    "            'name',\n",
    "            'collaborative',\n",
    "        ]\n",
    "\n",
    "    playlist_features_cont = [\n",
    "            'duration_ms_seed_pl',\n",
    "            'n_songs_pl',\n",
    "            'num_artists_pl',\n",
    "            'num_albums_pl',\n",
    "        ]\n",
    "\n",
    "    seq_feats_cat = [\n",
    "            'artist_name_pl',\n",
    "            'track_uri_pl',\n",
    "            'track_name_pl',\n",
    "            'album_name_pl',\n",
    "            'artist_genres_pl',\n",
    "        ]\n",
    "\n",
    "    CAT = playlist_features_cat + item_features_cat\n",
    "    CONT = item_features_cont + playlist_features_cont\n",
    "\n",
    "    item_feature_cat_node = item_features_cat >> nvt.ops.FillMissing()>> Categorify(dtype=\"int32\") >> TagAsItemFeatures()\n",
    "\n",
    "    item_feature_cont_node =  item_features_cont >> nvt.ops.FillMissing() >>  nvt.ops.Normalize() >> TagAsItemFeatures()\n",
    "\n",
    "    playlist_feature_cat_node = playlist_features_cat >> nvt.ops.FillMissing() >> Categorify(dtype=\"int32\") >> TagAsUserFeatures() \n",
    "\n",
    "    playlist_feature_cont_node = playlist_features_cont >> nvt.ops.FillMissing() >>  nvt.ops.Normalize() >> TagAsUserFeatures()\n",
    "\n",
    "    playlist_feature_cat_seq_node = seq_feats_cat >> nvt.ops.FillMissing() >> Categorify(dtype=\"int32\") >> TagAsUserFeatures()\n",
    "    \n",
    "    # define a workflow\n",
    "    output = playlist_id + item_id \\\n",
    "    + item_feature_cat_node \\\n",
    "    + item_feature_cont_node \\\n",
    "    + playlist_feature_cat_node \\\n",
    "    + playlist_feature_cont_node \\\n",
    "    + playlist_feature_cat_seq_node \n",
    "\n",
    "    workflow = nvt.Workflow(output)\n",
    "    \n",
    "    return workflow\n"
   ]
  },
  {
   "cell_type": "markdown",
   "id": "f2ee9523-15ea-44ff-81cc-6b4488c2e91f",
   "metadata": {
    "id": "CwJkgU2ZBCUx"
   },
   "source": [
    "### Now set the output buckets for the validation and training"
   ]
  },
  {
   "cell_type": "code",
   "execution_count": 4,
   "id": "nKW3AZAHBCUx",
   "metadata": {
    "id": "nKW3AZAHBCUx",
    "outputId": "7daf22f9-13b9-4f0f-82f2-5f5b3872483f"
   },
   "outputs": [
    {
     "name": "stdout",
     "output_type": "stream",
     "text": [
      "Train data dir: gs://spotify-beam-v3/merlin-processed/train/\n",
      "Valid data dir: gs://spotify-beam-v3/merlin-processed/valid/\n"
     ]
    }
   ],
   "source": [
    "output_path = os.path.join(BUCKET, \"merlin-processed\")\n",
    "output_train_dir = os.path.join(output_path, 'train/')\n",
    "output_valid_dir = os.path.join(output_path, 'valid/')\n",
    "output_workflow_dir = os.path.join(output_path, 'workflow/')\n",
    "\n",
    "\n",
    "print(f\"Train data dir: {output_train_dir}\\nValid data dir: {output_valid_dir}\")"
   ]
  },
  {
   "cell_type": "markdown",
   "id": "83828516-93a7-4f37-a943-75d78f7e3ed8",
   "metadata": {
    "id": "AR8iY3BvBCUx",
    "tags": []
   },
   "source": [
    "## Load and preprocess training data back to Parquet GCS\n",
    "helpful resources https://cloud.google.com/compute/docs/gpus/monitor-gpus\n",
    "\n",
    "## Also, be sure to install `nvtop` the install script is in `utils/install_nvtop.sh`\n",
    "\n",
    "## Fit Transform is called on the workflow to pass over the data\n",
    "The categorical and continuous features must be specified. In this example shuffling is enabled so we only shuflle one time. You can size your output and experiment with number of output files - depending on your use case think of your GPU memory available with respective file sizes\n",
    "\n",
    "## ** This can take some time (about an hour) but is a one-time save to gcs **"
   ]
  },
  {
   "cell_type": "code",
   "execution_count": 16,
   "id": "7ef0a398-c2bc-4609-8e08-2f71539c41d2",
   "metadata": {},
   "outputs": [],
   "source": [
    "# Create Workflow\n",
    "nvt_workflow = create_nvt_workflow()\n",
    "\n",
    "logging.info('Analyzing dataset')\n",
    "nvt_workflow.fit_transform(train).to_parquet(output_path=output_train_dir,\n",
    "                                         shuffle=nvt.io.Shuffle.PER_PARTITION,\n",
    "                                         cats=CAT,\n",
    "                                         conts=CONT,\n",
    "                                         output_files = 100\n",
    "                                         )"
   ]
  },
  {
   "cell_type": "markdown",
   "id": "4eb6d387-ccf3-4bc5-bd56-78613b4a392f",
   "metadata": {
    "id": "5urE7g6gBCUy",
    "tags": []
   },
   "source": [
    "### Saving to GCS is simple with GCS Fuse, which is already included in the if you built an image from [here](https://github.com/jswortz/merlin-gcp)"
   ]
  },
  {
   "cell_type": "code",
   "execution_count": 18,
   "id": "b69728d2-d5f7-431b-8a0d-3ddb76cb36b0",
   "metadata": {},
   "outputs": [],
   "source": [
    "    #save the workflow to disk (GCS here via ) after it has been fit\n",
    "    nvt_workflow.save(os.path.join(output_workflow_dir,'2t-spotify-workflow'))\n",
    "\n",
    "    #locally for demo too\n",
    "    nvt_workflow.save('2t-spotify-workflow')"
   ]
  },
  {
   "cell_type": "markdown",
   "id": "16ed9bc5-57a7-4705-9ac0-a803b97805c0",
   "metadata": {
    "id": "HFSPCmozBCUy"
   },
   "source": [
    "## Transform validation data using the same workflow\n",
    "\n",
    "This works similarly to a sklearn object where you can fit then transform after"
   ]
  },
  {
   "cell_type": "code",
   "execution_count": 19,
   "id": "ad7f5eb4-e2a4-44cf-a3fe-20e18b82dd66",
   "metadata": {},
   "outputs": [
    {
     "name": "stderr",
     "output_type": "stream",
     "text": [
      "/usr/local/lib/python3.8/dist-packages/merlin/schema/tags.py:148: UserWarning: Compound tags like Tags.USER_ID have been deprecated and will be removed in a future version. Please use the atomic versions of these tags, like [<Tags.USER: 'user'>, <Tags.ID: 'id'>].\n",
      "  warnings.warn(\n",
      "/usr/local/lib/python3.8/dist-packages/merlin/schema/tags.py:148: UserWarning: Compound tags like Tags.ITEM_ID have been deprecated and will be removed in a future version. Please use the atomic versions of these tags, like [<Tags.ITEM: 'item'>, <Tags.ID: 'id'>].\n",
      "  warnings.warn(\n"
     ]
    }
   ],
   "source": [
    "nvt_workflow.transform(valid).to_parquet(output_path=output_valid_dir,\n",
    "                                         shuffle=nvt.io.Shuffle.PER_PARTITION,\n",
    "                                         cats=CAT,\n",
    "                                         conts=CONT,\n",
    "                                         output_files=10\n",
    "                                         )"
   ]
  },
  {
   "cell_type": "code",
   "execution_count": 20,
   "id": "-kzoYO2EBCUx",
   "metadata": {
    "id": "-kzoYO2EBCUx",
    "outputId": "c668d1b3-53f7-40bc-e89d-8fe3f7d12cd3"
   },
   "outputs": [
    {
     "data": {
      "text/html": [
       "<div>\n",
       "<style scoped>\n",
       "    .dataframe tbody tr th:only-of-type {\n",
       "        vertical-align: middle;\n",
       "    }\n",
       "\n",
       "    .dataframe tbody tr th {\n",
       "        vertical-align: top;\n",
       "    }\n",
       "\n",
       "    .dataframe thead th {\n",
       "        text-align: right;\n",
       "    }\n",
       "</style>\n",
       "<table border=\"1\" class=\"dataframe\">\n",
       "  <thead>\n",
       "    <tr style=\"text-align: right;\">\n",
       "      <th></th>\n",
       "      <th>name</th>\n",
       "      <th>collaborative</th>\n",
       "      <th>pid</th>\n",
       "      <th>modified_at</th>\n",
       "      <th>pid_pos_id</th>\n",
       "      <th>pos_can</th>\n",
       "      <th>artist_name_can</th>\n",
       "      <th>track_uri_can</th>\n",
       "      <th>album_uri_can</th>\n",
       "      <th>track_name_can</th>\n",
       "      <th>...</th>\n",
       "      <th>pos_pl</th>\n",
       "      <th>artist_name_pl</th>\n",
       "      <th>track_uri_pl</th>\n",
       "      <th>track_name_pl</th>\n",
       "      <th>duration_ms_songs_pl</th>\n",
       "      <th>album_name_pl</th>\n",
       "      <th>artist_pop_pl</th>\n",
       "      <th>artists_followers_pl</th>\n",
       "      <th>track_pop_pl</th>\n",
       "      <th>artist_genres_pl</th>\n",
       "    </tr>\n",
       "  </thead>\n",
       "  <tbody>\n",
       "    <tr>\n",
       "      <th>0</th>\n",
       "      <td>{november '15}</td>\n",
       "      <td>false</td>\n",
       "      <td>914400</td>\n",
       "      <td>1452816000</td>\n",
       "      <td>914400-13</td>\n",
       "      <td>13</td>\n",
       "      <td>Tossing Copper</td>\n",
       "      <td>spotify:track:2BQSlFrFfxHjv2O738IzRm</td>\n",
       "      <td>spotify:album:7Bc9G6iDUH9u6pYj6Q5jr7</td>\n",
       "      <td>Edge of Eden</td>\n",
       "      <td>...</td>\n",
       "      <td>[8, 9, 10, 11, 12]</td>\n",
       "      <td>[Tossing Copper, Tossing Copper, Tossing Copper, Tossing Copper, Tossing Copper]</td>\n",
       "      <td>[spotify:track:4w3eTXloQVxhvc2U3KuuOb, spotify:track:5xdYaI97V4m7pypIhfpkoO, spotify:track:0UDpAmtvdeWJzowyiaE9tI, spotify:track:1sZ2RArZ2F86achracJBBw, spotify:track:7BO96T4UFKUbK96XujhaB2]</td>\n",
       "      <td>[Hello Darling, Silhouettes &amp; Sand, The Bridegroom, Ships of Cortez, Dancing in the Dawn]</td>\n",
       "      <td>[256000.0, 221786.0, 248613.0, 197253.0, 176733.0]</td>\n",
       "      <td>[Silhouettes &amp; Sand, Silhouettes &amp; Sand, Silhouettes &amp; Sand, Silhouettes &amp; Sand, Silhouettes &amp; Sand]</td>\n",
       "      <td>[68.0, 68.0, 68.0, 68.0, 68.0]</td>\n",
       "      <td>[0.0, 0.0, 0.0, 0.0, 0.0]</td>\n",
       "      <td>[36.0, 33.0, 32.0, 40.0, 61.0]</td>\n",
       "      <td>['alt z', 'indiecoustica', 'neo mellow', 'pop', 'pop rock', 'post-teen pop', 'alt z', 'indiecoustica', 'neo mellow', 'pop', 'pop rock', 'post-teen pop', 'alt z', 'indiecoustica', 'neo mellow', 'pop', 'pop rock', 'post-teen pop', 'alt z', 'indiecoustica', 'neo mellow', 'pop', 'pop rock', 'post-teen pop', 'alt z', 'indiecoustica', 'neo mellow', 'pop', 'pop rock', 'post-teen pop']</td>\n",
       "    </tr>\n",
       "  </tbody>\n",
       "</table>\n",
       "<p>1 rows × 44 columns</p>\n",
       "</div>"
      ],
      "text/plain": [
       "             name collaborative     pid  modified_at pid_pos_id  pos_can  \\\n",
       "0  {november '15}         false  914400   1452816000  914400-13       13   \n",
       "\n",
       "  artist_name_can                         track_uri_can  \\\n",
       "0  Tossing Copper  spotify:track:2BQSlFrFfxHjv2O738IzRm   \n",
       "\n",
       "                          album_uri_can track_name_can  ...  \\\n",
       "0  spotify:album:7Bc9G6iDUH9u6pYj6Q5jr7   Edge of Eden  ...   \n",
       "\n",
       "               pos_pl  \\\n",
       "0  [8, 9, 10, 11, 12]   \n",
       "\n",
       "                                                                     artist_name_pl  \\\n",
       "0  [Tossing Copper, Tossing Copper, Tossing Copper, Tossing Copper, Tossing Copper]   \n",
       "\n",
       "                                                                                                                                                                                     track_uri_pl  \\\n",
       "0  [spotify:track:4w3eTXloQVxhvc2U3KuuOb, spotify:track:5xdYaI97V4m7pypIhfpkoO, spotify:track:0UDpAmtvdeWJzowyiaE9tI, spotify:track:1sZ2RArZ2F86achracJBBw, spotify:track:7BO96T4UFKUbK96XujhaB2]   \n",
       "\n",
       "                                                                               track_name_pl  \\\n",
       "0  [Hello Darling, Silhouettes & Sand, The Bridegroom, Ships of Cortez, Dancing in the Dawn]   \n",
       "\n",
       "                                 duration_ms_songs_pl  \\\n",
       "0  [256000.0, 221786.0, 248613.0, 197253.0, 176733.0]   \n",
       "\n",
       "                                                                                          album_name_pl  \\\n",
       "0  [Silhouettes & Sand, Silhouettes & Sand, Silhouettes & Sand, Silhouettes & Sand, Silhouettes & Sand]   \n",
       "\n",
       "                    artist_pop_pl       artists_followers_pl  \\\n",
       "0  [68.0, 68.0, 68.0, 68.0, 68.0]  [0.0, 0.0, 0.0, 0.0, 0.0]   \n",
       "\n",
       "                     track_pop_pl  \\\n",
       "0  [36.0, 33.0, 32.0, 40.0, 61.0]   \n",
       "\n",
       "                                                                                                                                                                                                                                                                                                                                                                               artist_genres_pl  \n",
       "0  ['alt z', 'indiecoustica', 'neo mellow', 'pop', 'pop rock', 'post-teen pop', 'alt z', 'indiecoustica', 'neo mellow', 'pop', 'pop rock', 'post-teen pop', 'alt z', 'indiecoustica', 'neo mellow', 'pop', 'pop rock', 'post-teen pop', 'alt z', 'indiecoustica', 'neo mellow', 'pop', 'pop rock', 'post-teen pop', 'alt z', 'indiecoustica', 'neo mellow', 'pop', 'pop rock', 'post-teen pop']  \n",
       "\n",
       "[1 rows x 44 columns]"
      ]
     },
     "execution_count": 20,
     "metadata": {},
     "output_type": "execute_result"
    }
   ],
   "source": [
    "# Don't truncate text fields in the display\n",
    "pd.set_option(\"display.max_colwidth\", None)\n",
    "\n",
    "valid.to_ddf().head(1)"
   ]
  },
  {
   "cell_type": "code",
   "execution_count": 21,
   "id": "zHKHvsunBCUz",
   "metadata": {
    "id": "zHKHvsunBCUz",
    "outputId": "f709d222-2bfb-476b-e1fd-533a41ccb518"
   },
   "outputs": [
    {
     "data": {
      "text/html": [
       "<div>\n",
       "<style scoped>\n",
       "    .dataframe tbody tr th:only-of-type {\n",
       "        vertical-align: middle;\n",
       "    }\n",
       "\n",
       "    .dataframe tbody tr th {\n",
       "        vertical-align: top;\n",
       "    }\n",
       "\n",
       "    .dataframe thead th {\n",
       "        text-align: right;\n",
       "    }\n",
       "</style>\n",
       "<table border=\"1\" class=\"dataframe\">\n",
       "  <thead>\n",
       "    <tr style=\"text-align: right;\">\n",
       "      <th></th>\n",
       "      <th>name</th>\n",
       "      <th>tags</th>\n",
       "      <th>dtype</th>\n",
       "      <th>is_list</th>\n",
       "      <th>is_ragged</th>\n",
       "    </tr>\n",
       "  </thead>\n",
       "  <tbody>\n",
       "    <tr>\n",
       "      <th>0</th>\n",
       "      <td>pid</td>\n",
       "      <td>()</td>\n",
       "      <td>int64</td>\n",
       "      <td>False</td>\n",
       "      <td>False</td>\n",
       "    </tr>\n",
       "    <tr>\n",
       "      <th>1</th>\n",
       "      <td>track_uri_can</td>\n",
       "      <td>()</td>\n",
       "      <td>object</td>\n",
       "      <td>False</td>\n",
       "      <td>False</td>\n",
       "    </tr>\n",
       "    <tr>\n",
       "      <th>2</th>\n",
       "      <td>artist_name_can</td>\n",
       "      <td>()</td>\n",
       "      <td>object</td>\n",
       "      <td>False</td>\n",
       "      <td>False</td>\n",
       "    </tr>\n",
       "    <tr>\n",
       "      <th>3</th>\n",
       "      <td>track_name_can</td>\n",
       "      <td>()</td>\n",
       "      <td>object</td>\n",
       "      <td>False</td>\n",
       "      <td>False</td>\n",
       "    </tr>\n",
       "    <tr>\n",
       "      <th>4</th>\n",
       "      <td>artist_genres_can</td>\n",
       "      <td>()</td>\n",
       "      <td>object</td>\n",
       "      <td>False</td>\n",
       "      <td>False</td>\n",
       "    </tr>\n",
       "    <tr>\n",
       "      <th>5</th>\n",
       "      <td>duration_ms_can</td>\n",
       "      <td>()</td>\n",
       "      <td>float64</td>\n",
       "      <td>False</td>\n",
       "      <td>False</td>\n",
       "    </tr>\n",
       "    <tr>\n",
       "      <th>6</th>\n",
       "      <td>track_pop_can</td>\n",
       "      <td>()</td>\n",
       "      <td>float64</td>\n",
       "      <td>False</td>\n",
       "      <td>False</td>\n",
       "    </tr>\n",
       "    <tr>\n",
       "      <th>7</th>\n",
       "      <td>artist_pop_can</td>\n",
       "      <td>()</td>\n",
       "      <td>float64</td>\n",
       "      <td>False</td>\n",
       "      <td>False</td>\n",
       "    </tr>\n",
       "    <tr>\n",
       "      <th>8</th>\n",
       "      <td>artist_followers_can</td>\n",
       "      <td>()</td>\n",
       "      <td>float64</td>\n",
       "      <td>False</td>\n",
       "      <td>False</td>\n",
       "    </tr>\n",
       "    <tr>\n",
       "      <th>9</th>\n",
       "      <td>description_pl</td>\n",
       "      <td>()</td>\n",
       "      <td>object</td>\n",
       "      <td>False</td>\n",
       "      <td>False</td>\n",
       "    </tr>\n",
       "    <tr>\n",
       "      <th>10</th>\n",
       "      <td>name</td>\n",
       "      <td>()</td>\n",
       "      <td>object</td>\n",
       "      <td>False</td>\n",
       "      <td>False</td>\n",
       "    </tr>\n",
       "    <tr>\n",
       "      <th>11</th>\n",
       "      <td>collaborative</td>\n",
       "      <td>()</td>\n",
       "      <td>object</td>\n",
       "      <td>False</td>\n",
       "      <td>False</td>\n",
       "    </tr>\n",
       "    <tr>\n",
       "      <th>12</th>\n",
       "      <td>duration_ms_seed_pl</td>\n",
       "      <td>()</td>\n",
       "      <td>float64</td>\n",
       "      <td>False</td>\n",
       "      <td>False</td>\n",
       "    </tr>\n",
       "    <tr>\n",
       "      <th>13</th>\n",
       "      <td>n_songs_pl</td>\n",
       "      <td>()</td>\n",
       "      <td>float64</td>\n",
       "      <td>False</td>\n",
       "      <td>False</td>\n",
       "    </tr>\n",
       "    <tr>\n",
       "      <th>14</th>\n",
       "      <td>num_artists_pl</td>\n",
       "      <td>()</td>\n",
       "      <td>float64</td>\n",
       "      <td>False</td>\n",
       "      <td>False</td>\n",
       "    </tr>\n",
       "    <tr>\n",
       "      <th>15</th>\n",
       "      <td>num_albums_pl</td>\n",
       "      <td>()</td>\n",
       "      <td>float64</td>\n",
       "      <td>False</td>\n",
       "      <td>False</td>\n",
       "    </tr>\n",
       "    <tr>\n",
       "      <th>16</th>\n",
       "      <td>artist_name_pl</td>\n",
       "      <td>()</td>\n",
       "      <td>object</td>\n",
       "      <td>True</td>\n",
       "      <td>True</td>\n",
       "    </tr>\n",
       "    <tr>\n",
       "      <th>17</th>\n",
       "      <td>track_uri_pl</td>\n",
       "      <td>()</td>\n",
       "      <td>object</td>\n",
       "      <td>True</td>\n",
       "      <td>True</td>\n",
       "    </tr>\n",
       "    <tr>\n",
       "      <th>18</th>\n",
       "      <td>track_name_pl</td>\n",
       "      <td>()</td>\n",
       "      <td>object</td>\n",
       "      <td>True</td>\n",
       "      <td>True</td>\n",
       "    </tr>\n",
       "    <tr>\n",
       "      <th>19</th>\n",
       "      <td>album_name_pl</td>\n",
       "      <td>()</td>\n",
       "      <td>object</td>\n",
       "      <td>True</td>\n",
       "      <td>True</td>\n",
       "    </tr>\n",
       "    <tr>\n",
       "      <th>20</th>\n",
       "      <td>artist_genres_pl</td>\n",
       "      <td>()</td>\n",
       "      <td>object</td>\n",
       "      <td>True</td>\n",
       "      <td>True</td>\n",
       "    </tr>\n",
       "  </tbody>\n",
       "</table>\n",
       "</div>"
      ],
      "text/plain": [
       "[{'name': 'pid', 'tags': set(), 'properties': {}, 'dtype': dtype('int64'), 'is_list': False, 'is_ragged': False}, {'name': 'track_uri_can', 'tags': set(), 'properties': {}, 'dtype': dtype('O'), 'is_list': False, 'is_ragged': False}, {'name': 'artist_name_can', 'tags': set(), 'properties': {}, 'dtype': dtype('O'), 'is_list': False, 'is_ragged': False}, {'name': 'track_name_can', 'tags': set(), 'properties': {}, 'dtype': dtype('O'), 'is_list': False, 'is_ragged': False}, {'name': 'artist_genres_can', 'tags': set(), 'properties': {}, 'dtype': dtype('O'), 'is_list': False, 'is_ragged': False}, {'name': 'duration_ms_can', 'tags': set(), 'properties': {}, 'dtype': dtype('float64'), 'is_list': False, 'is_ragged': False}, {'name': 'track_pop_can', 'tags': set(), 'properties': {}, 'dtype': dtype('float64'), 'is_list': False, 'is_ragged': False}, {'name': 'artist_pop_can', 'tags': set(), 'properties': {}, 'dtype': dtype('float64'), 'is_list': False, 'is_ragged': False}, {'name': 'artist_followers_can', 'tags': set(), 'properties': {}, 'dtype': dtype('float64'), 'is_list': False, 'is_ragged': False}, {'name': 'description_pl', 'tags': set(), 'properties': {}, 'dtype': dtype('O'), 'is_list': False, 'is_ragged': False}, {'name': 'name', 'tags': set(), 'properties': {}, 'dtype': dtype('O'), 'is_list': False, 'is_ragged': False}, {'name': 'collaborative', 'tags': set(), 'properties': {}, 'dtype': dtype('O'), 'is_list': False, 'is_ragged': False}, {'name': 'duration_ms_seed_pl', 'tags': set(), 'properties': {}, 'dtype': dtype('float64'), 'is_list': False, 'is_ragged': False}, {'name': 'n_songs_pl', 'tags': set(), 'properties': {}, 'dtype': dtype('float64'), 'is_list': False, 'is_ragged': False}, {'name': 'num_artists_pl', 'tags': set(), 'properties': {}, 'dtype': dtype('float64'), 'is_list': False, 'is_ragged': False}, {'name': 'num_albums_pl', 'tags': set(), 'properties': {}, 'dtype': dtype('float64'), 'is_list': False, 'is_ragged': False}, {'name': 'artist_name_pl', 'tags': set(), 'properties': {}, 'dtype': dtype('O'), 'is_list': True, 'is_ragged': True}, {'name': 'track_uri_pl', 'tags': set(), 'properties': {}, 'dtype': dtype('O'), 'is_list': True, 'is_ragged': True}, {'name': 'track_name_pl', 'tags': set(), 'properties': {}, 'dtype': dtype('O'), 'is_list': True, 'is_ragged': True}, {'name': 'album_name_pl', 'tags': set(), 'properties': {}, 'dtype': dtype('O'), 'is_list': True, 'is_ragged': True}, {'name': 'artist_genres_pl', 'tags': set(), 'properties': {}, 'dtype': dtype('O'), 'is_list': True, 'is_ragged': True}]"
      ]
     },
     "execution_count": 21,
     "metadata": {},
     "output_type": "execute_result"
    }
   ],
   "source": [
    "nvt_workflow.input_schema"
   ]
  },
  {
   "cell_type": "markdown",
   "id": "kcipKnLTBCUz",
   "metadata": {
    "id": "kcipKnLTBCUz"
   },
   "source": [
    "### Examine some of the output data from nvtabular\n",
    "\n",
    "The data is presented as a Dask Pandas DF - so the interface is very familiar if you know Pandas\n",
    "\n",
    "Now the data has encoded the values of the strings with categorify, filled missing values, and normalized continuous variables. Now when you look at categorical data like `track_name_pl`, you will see the data represented as an integer, ready to quickly load to an embedding layer, as opposed to hashing each Epoch like when including stringlookups or hash functions in a tfrs model. This ensures the unven profile caused by cpu/gpu bottlnecks during lookup functions are processed just once and efficiently.\n",
    "\n",
    "#### Example of NVTabular Gpu Consumption Pattern\n",
    "A100 a1-high-gpu\n",
    "![Example of Nvtop](img/nvtop.png)\n",
    "\n",
    "Note that the lookup tables for the various categorified data can be found in the `categories/` folder of the workflow. You also will notice a link in the data schema (more on that below) to the files by each field - this is how you can do reverse lookups later"
   ]
  },
  {
   "cell_type": "code",
   "execution_count": 22,
   "id": "w6Ope6G-BCUz",
   "metadata": {
    "id": "w6Ope6G-BCUz",
    "outputId": "2cab7a49-6d4d-49f9-f6a2-adabb8014eee"
   },
   "outputs": [
    {
     "data": {
      "text/plain": [
       "0       [1087, 1672, 9482, 412, 188]\n",
       "1    [9156, 2695, 9232, 6255, 46502]\n",
       "2         [236, 659, 215, 849, 3445]\n",
       "Name: track_name_pl, dtype: object"
      ]
     },
     "execution_count": 22,
     "metadata": {},
     "output_type": "execute_result"
    }
   ],
   "source": [
    "nvtdata = pd.read_parquet(output_train_dir+'part_0.parquet')\n",
    "nvtdata['track_name_pl'].head(3)"
   ]
  },
  {
   "cell_type": "code",
   "execution_count": 23,
   "id": "CXaok1lkBCUz",
   "metadata": {
    "id": "CXaok1lkBCUz",
    "outputId": "c7433f3b-73d5-424c-eb0b-f8aac328e98a"
   },
   "outputs": [
    {
     "data": {
      "text/plain": [
       "0      959\n",
       "1      962\n",
       "2      544\n",
       "3       17\n",
       "4     2917\n",
       "5    14753\n",
       "6      128\n",
       "7      197\n",
       "8     9192\n",
       "9      905\n",
       "Name: artist_name_can, dtype: int32"
      ]
     },
     "execution_count": 23,
     "metadata": {},
     "output_type": "execute_result"
    }
   ],
   "source": [
    "nvtdata = pd.read_parquet(output_train_dir+'part_0.parquet')\n",
    "nvtdata['artist_name_can'].head(10)"
   ]
  },
  {
   "cell_type": "markdown",
   "id": "EvkRGUfvBCUz",
   "metadata": {
    "id": "EvkRGUfvBCUz"
   },
   "source": [
    "### Total rows for `part_0.parquet`\n",
    "Total rows x number of partitions (`output_files` in `workflow.to_parquet()`)"
   ]
  },
  {
   "cell_type": "code",
   "execution_count": 24,
   "id": "1MPlgNNABCU0",
   "metadata": {
    "id": "1MPlgNNABCU0",
    "outputId": "d91adcbc-6820-4d45-8223-5d41013b0cb1"
   },
   "outputs": [
    {
     "data": {
      "text/plain": [
       "607054"
      ]
     },
     "execution_count": 24,
     "metadata": {},
     "output_type": "execute_result"
    }
   ],
   "source": [
    "len(nvtdata)"
   ]
  },
  {
   "cell_type": "markdown",
   "id": "5WaKJQMTBCU0",
   "metadata": {
    "id": "5WaKJQMTBCU0"
   },
   "source": [
    "#### Quick view of the embedding dimensions\n",
    "`(INPUT_CARDINALITY, EMB_DIM)`"
   ]
  },
  {
   "cell_type": "code",
   "execution_count": 26,
   "id": "LI7NZ8xxBCU0",
   "metadata": {
    "id": "LI7NZ8xxBCU0",
    "outputId": "afc5563d-657d-422b-bd86-833140a9f71f"
   },
   "outputs": [
    {
     "data": {
      "text/plain": [
       "({'pid': (984638, 512),\n",
       "  'track_uri_can': (2183658, 512),\n",
       "  'artist_name_can': (278452, 512),\n",
       "  'track_name_can': (1435485, 512),\n",
       "  'artist_genres_can': (38183, 512),\n",
       "  'description_pl': (17909, 385),\n",
       "  'name': (92266, 512),\n",
       "  'collaborative': (3, 16)},\n",
       " {'artist_name_pl': (283353, 512),\n",
       "  'track_uri_pl': (2231210, 512),\n",
       "  'track_name_pl': (1464629, 512),\n",
       "  'album_name_pl': (563481, 512),\n",
       "  'artist_genres_pl': (38373, 512)})"
      ]
     },
     "execution_count": 26,
     "metadata": {},
     "output_type": "execute_result"
    }
   ],
   "source": [
    "embeddings = ops.get_embedding_sizes(nvt_workflow)\n",
    "embeddings"
   ]
  },
  {
   "cell_type": "markdown",
   "id": "3sQhxCWJBCU1",
   "metadata": {
    "id": "3sQhxCWJBCU1",
    "toc-hr-collapsed": true
   },
   "source": [
    "# Load the processed data into a Merlin Dataset and Train a Two Tower Model\n",
    "\n",
    "Now that data inspection is over, the workflow is saved and data is processed to the `output_path`\n",
    "\n",
    "The above only needs to be run once as well - the workflow and transformed files can be directly loaded from gcs from now on"
   ]
  },
  {
   "cell_type": "markdown",
   "id": "WrJ0tRiJBCU1",
   "metadata": {
    "id": "WrJ0tRiJBCU1"
   },
   "source": [
    "### Two Tower Modeling"
   ]
  },
  {
   "cell_type": "code",
   "execution_count": 13,
   "id": "7nBwI338BCU1",
   "metadata": {
    "id": "7nBwI338BCU1",
    "outputId": "c14fcff1-9613-4788-c4b8-47f9941597ae"
   },
   "outputs": [],
   "source": [
    "from typing import List, Any\n",
    "\n",
    "output_path = os.path.join(BUCKET, \"merlin-processed/workflow/2t-spotify-workflow\")\n",
    "workflow = nvt.Workflow.load(workflow_path)\n",
    "\n",
    "schema = workflow.output_schema\n",
    "\n",
    "\n",
    "def create_two_tower(\n",
    "    workflow_dir: str,\n",
    "    layer_sizes: List[Any] = [512, 256, 128],\n",
    "):\n",
    "    \n",
    "    #=========================================\n",
    "    # get workflow details\n",
    "    #=========================================\n",
    "    workflow = nvt.Workflow.load(workflow_dir) # gs://spotify-merlin-v1/nvt-preprocessing-spotify-v24/nvt-analyzed\n",
    "    \n",
    "    schema = workflow.output_schema\n",
    "    \n",
    "    # embeddings = ops.get_embedding_sizes(workflow)\n",
    "    \n",
    "    #=========================================\n",
    "    # build towers\n",
    "    #=========================================\n",
    "    \n",
    "    user_schema = schema.select_by_tag(Tags.USER)\n",
    "    user_inputs = mm.InputBlockV2(user_schema)\n",
    "    \n",
    "    query = mm.Encoder(user_inputs, mm.MLPBlock(layer_sizes))\n",
    "    \n",
    "    item_schema = schema.select_by_tag(Tags.ITEM)\n",
    "    item_inputs = mm.InputBlockV2(item_schema)\n",
    "    candidate = mm.Encoder(item_inputs, mm.MLPBlock(layer_sizes))\n",
    "    \n",
    "    model = mm.RetrievalModelV2(\n",
    "        query=query,\n",
    "        candidate=candidate,\n",
    "        output=mm.ContrastiveOutput(\n",
    "            to_call=DotProduct(),\n",
    "            negative_samplers=\"in-batch\",\n",
    "            schema=item_schema.select_by_tag(Tags.ITEM_ID),\n",
    "        )\n",
    "    )\n",
    "    \n",
    "    #model = mm.TwoTowerModelV2(query, candidate)\n",
    "    \n",
    "    return model"
   ]
  },
  {
   "cell_type": "code",
   "execution_count": 14,
   "id": "-Z97gkRLBCU1",
   "metadata": {
    "id": "-Z97gkRLBCU1"
   },
   "outputs": [],
   "source": [
    "from merlin.models.utils.example_utils import workflow_fit_transform\n",
    "\n",
    "from merlin.schema.tags import Tags\n",
    "\n",
    "import merlin.models.tf as mm\n",
    "from merlin.io.dataset import Dataset as MerlinDataset\n",
    "\n",
    "train = MerlinDataset(os.path.join(output_train_dir, \"*.parquet\"), schema=schema, part_size=\"1GB\")\n",
    "valid = MerlinDataset(os.path.join(output_valid_dir, \"*.parquet\"), schema=schema, part_size=\"1GB\")\n",
    "\n",
    "item_schema = schema.select_by_tag(Tags.ITEM)\n",
    "user_schema = schema.select_by_tag(Tags.USER)\n"
   ]
  },
  {
   "cell_type": "markdown",
   "id": "me3j81lJBCU1",
   "metadata": {
    "id": "me3j81lJBCU1"
   },
   "source": [
    "Direct quote from [here](https://github.com/NVIDIA-Merlin/models/blob/main/examples/05-Retrieval-Model.ipynb)\n",
    "\n",
    "Other info on modeling setup\n",
    "\n",
    "### Negative sampling\n",
    "Many datasets for recommender systems contain implicit feedback with logs of user interactions like clicks, add-to-cart, purchases, music listening events, rather than explicit ratings that reflects user preferences over items. To be able to learn from implicit feedback, we use the general (and naive) assumption that the interacted items are more relevant for the user than the non-interacted ones. In Merlin Models we provide some scaleable negative sampling algorithms for the Item Retrieval Task. In particular, we use in this example the in-batch sampling algorithm which uses the items interacted by other users as negatives within the same mini-batch.\n",
    "\n",
    "### Building the Model\n",
    "Now, let's build our Two-Tower model. In a nutshell, we aggregate all user features to feed in user tower and feed the item features to the item tower. Then we compute the positive score by multiplying the user embedding with the item embedding and sample negative items (read more about negative sampling here and here), whose item embeddings are also multiplied by the user embedding. Then we apply the loss function on top of the positive and negative scores.\n",
    "\n",
    "- Other model types can be found on the [Merlin Models API Documentation Page](https://nvidia-merlin.github.io/models/main/api.html#tensorflow-models)\n",
    "\n",
    "### Vertex Experiments\n",
    "\n",
    "We will organize all of our runs with Merlin in one experiment id `spotify-merlin-train-full-data-v1`. Under this experiment, we will have multiple runs that will be tracked in the experiment interface as well as Tensorboard"
   ]
  },
  {
   "cell_type": "code",
   "execution_count": 18,
   "id": "tYuTmtwNBCU2",
   "metadata": {
    "id": "tYuTmtwNBCU2",
    "outputId": "58c4bdf1-2842-4762-c3c3-c0fc1d456a56"
   },
   "outputs": [
    {
     "name": "stderr",
     "output_type": "stream",
     "text": [
      "2023-02-23 17:34:43.456658: I tensorflow/core/profiler/lib/profiler_session.cc:101] Profiler session initializing.\n",
      "2023-02-23 17:34:43.456708: I tensorflow/core/profiler/lib/profiler_session.cc:116] Profiler session started.\n",
      "2023-02-23 17:34:43.586802: I tensorflow/core/profiler/lib/profiler_session.cc:128] Profiler session tear down.\n",
      "2023-02-23 17:34:43.586979: I tensorflow/core/profiler/backends/gpu/cupti_tracer.cc:1798] CUPTI activity buffer flushed\n"
     ]
    }
   ],
   "source": [
    "# wone_shot_cmd use this to track data in tensorboard\n",
    "from google.cloud import aiplatform as vertex_ai\n",
    "import datetime\n",
    "\n",
    "TIMESTAMP = datetime.utcnow().strftime('%y%m%d-%H%M%S')\n",
    "TB_RESOURCE_NAME = 'projects/934903580331/locations/us-central1/tensorboards/7336372589079560192' #fqn - project number then tensorboard id\n",
    "EXPERIMENT_NAME = f'spotify-merlin-train-full-data-v7-1-{TIMESTAMP}'\n",
    "RUN_NAME = f'run-{EXPERIMENT_NAME}-{time.strftime(\"%Y%m%d-%H%M%S\")}'#be sure to think about run and experiment naming strategies so names don't collide\n",
    "logs_dir = f'{output_path}/tb_logs/{EXPERIMENT_NAME}'\n",
    "\n",
    "#helper function to get the tb-uploader command\n",
    "\n",
    "def get_upload_logs_to_manged_tb_command(ttl_hrs, oneshot=\"false\"):\n",
    "    \"\"\"\n",
    "    Run this and copy/paste the command into terminal to have\n",
    "    upload the tensorboard logs from this machine to the managed tb instance\n",
    "    Note that the log dir is at the granularity of the run to help select the proper\n",
    "    timestamped run in Tensorboard\n",
    "    You can also run this in one-shot mode after training is done\n",
    "    to upload all tb objects at once\n",
    "    \"\"\"\n",
    "    return(f\"\"\"tb-gcp-uploader --tensorboard_resource_name={TB_RESOURCE_NAME} \\\n",
    "      --logdir={logs_dir} \\\n",
    "      --experiment_name={EXPERIMENT_NAME} \\\n",
    "      --one_shot={oneshot} \\\n",
    "      --event_file_inactive_secs={60*60*ttl_hrs}\"\"\")\n",
    "\n",
    "vertex_ai.init(experiment=EXPERIMENT_NAME)\n",
    "\n",
    "\n",
    "# we are going to ecapsulate this one-shot log uploader via a custom callback:\n",
    "\n",
    "class UploadTBLogsBatchEnd(tf.keras.callbacks.Callback):\n",
    "    def on_epoch_end(self, epoch, logs=None):\n",
    "        os.system(get_upload_logs_to_manged_tb_command(ttl_hrs = 5, oneshot=\"true\"))\n",
    "\n",
    "layers = [512, 256, 128]\n",
    "LR = .001\n",
    "BS = 4096\n",
    "epoch = 10\n",
    "\n",
    "\n",
    "tensorboard_callback = tf.keras.callbacks.TensorBoard(\n",
    "        log_dir=logs_dir,\n",
    "        histogram_freq=0,\n",
    "        write_graph=True,\n",
    "        profile_batch=(20,50) #run profiler on steps 20-40 - enable this line if you want to run profiler from the utils/ notebook\n",
    "    )\n"
   ]
  },
  {
   "cell_type": "code",
   "execution_count": 19,
   "id": "bNvr-ethBCU2",
   "metadata": {
    "id": "bNvr-ethBCU2"
   },
   "outputs": [],
   "source": [
    "# with strategy.scope():\n",
    "from merlin.schema.tags import Tags\n",
    "import merlin.models.tf as mm\n",
    "from merlin.models.tf.outputs.base import DotProduct, MetricsFn, ModelOutput\n",
    "\n",
    "model = create_two_tower(\n",
    "    workflow_dir=output_path,\n",
    ")\n",
    "\n",
    "learning_rate= 0.01\n",
    "model.compile(\n",
    "    optimizer=tf.keras.optimizers.Adagrad(learning_rate),\n",
    "    run_eagerly=False,\n",
    "    metrics=[mm.RecallAt(1), mm.RecallAt(10), mm.NDCGAt(10)],\n",
    ")"
   ]
  },
  {
   "cell_type": "markdown",
   "id": "6AiAkVZxBCU2",
   "metadata": {
    "id": "6AiAkVZxBCU2"
   },
   "source": [
    "**Metrics:**\n",
    "\n",
    "The following information retrieval metrics are used to compute the Top-10 accuracy of recommendation lists containing all items:\n",
    "\n",
    "* **Normalized Discounted Cumulative Gain (NDCG@10)**: NDCG accounts for rank of the relevant item in the recommendation list and is a more fine-grained metric than HR, which only verifies whether the relevant item is among the top-k items.\n",
    "\n",
    "* **Recall@10:** Also known as HitRate@n when there is only one relevant item in the recommendation list. Recall just verifies whether the relevant item is among the top-n items."
   ]
  },
  {
   "cell_type": "code",
   "execution_count": 20,
   "id": "wMxQenMBBCU2",
   "metadata": {
    "id": "wMxQenMBBCU2",
    "tags": []
   },
   "outputs": [
    {
     "name": "stderr",
     "output_type": "stream",
     "text": [
      "/usr/local/lib/python3.8/dist-packages/merlin/schema/tags.py:148: UserWarning: Compound tags like Tags.USER_ID have been deprecated and will be removed in a future version. Please use the atomic versions of these tags, like [<Tags.USER: 'user'>, <Tags.ID: 'id'>].\n",
      "  warnings.warn(\n",
      "/usr/local/lib/python3.8/dist-packages/merlin/schema/tags.py:148: UserWarning: Compound tags like Tags.ITEM_ID have been deprecated and will be removed in a future version. Please use the atomic versions of these tags, like [<Tags.ITEM: 'item'>, <Tags.ID: 'id'>].\n",
      "  warnings.warn(\n",
      "2023-02-23 17:35:07.654255: I tensorflow/stream_executor/cuda/cuda_blas.cc:1633] TensorFloat-32 will be used for the matrix multiplication. This will only be logged once.\n"
     ]
    },
    {
     "name": "stdout",
     "output_type": "stream",
     "text": [
      "Epoch 1/10\n",
      "   18/14828 [..............................] - ETA: 10:32 - loss: 8.3189 - recall_at_1: 2.3519e-04 - recall_at_10: 0.0026 - ndcg_at_10: 0.0011 - regularization_loss: 0.0000e+00 - loss_batch: 8.3189"
     ]
    },
    {
     "name": "stderr",
     "output_type": "stream",
     "text": [
      "2023-02-23 17:35:21.639106: I tensorflow/core/profiler/lib/profiler_session.cc:101] Profiler session initializing.\n",
      "2023-02-23 17:35:21.639168: I tensorflow/core/profiler/lib/profiler_session.cc:116] Profiler session started.\n"
     ]
    },
    {
     "name": "stdout",
     "output_type": "stream",
     "text": [
      "   48/14828 [..............................] - ETA: 14:00 - loss: 8.3191 - recall_at_1: 2.3961e-04 - recall_at_10: 0.0025 - ndcg_at_10: 0.0011 - regularization_loss: 0.0000e+00 - loss_batch: 8.3191"
     ]
    },
    {
     "name": "stderr",
     "output_type": "stream",
     "text": [
      "2023-02-23 17:35:23.783378: I tensorflow/core/profiler/lib/profiler_session.cc:67] Profiler session collecting data.\n",
      "2023-02-23 17:35:23.787819: I tensorflow/core/profiler/backends/gpu/cupti_tracer.cc:1798] CUPTI activity buffer flushed\n",
      "2023-02-23 17:35:23.923568: I tensorflow/core/profiler/backends/gpu/cupti_collector.cc:521]  GpuTracer has collected 33794 callback api events and 31709 activity events. \n",
      "2023-02-23 17:35:24.442899: I tensorflow/core/profiler/lib/profiler_session.cc:128] Profiler session tear down.\n",
      "2023-02-23 17:35:26.214730: I tensorflow/core/profiler/rpc/client/save_profile.cc:136] Creating directory: gs://spotify-beam-v3/merlin-processed/workflow/2t-spotify-workflow/tb_logs/spotify-merlin-train-full-data-v7-1/plugins/profile/2023_02_23_17_35_24\n",
      "\n",
      "2023-02-23 17:35:27.397711: I tensorflow/core/profiler/rpc/client/save_profile.cc:142] Dumped gzipped tool data for trace.json.gz to gs://spotify-beam-v3/merlin-processed/workflow/2t-spotify-workflow/tb_logs/spotify-merlin-train-full-data-v7-1/plugins/profile/2023_02_23_17_35_24/8446cd8af582.trace.json.gz\n",
      "2023-02-23 17:35:28.035305: I tensorflow/core/profiler/rpc/client/save_profile.cc:136] Creating directory: gs://spotify-beam-v3/merlin-processed/workflow/2t-spotify-workflow/tb_logs/spotify-merlin-train-full-data-v7-1/plugins/profile/2023_02_23_17_35_24\n",
      "\n",
      "2023-02-23 17:35:28.226082: I tensorflow/core/profiler/rpc/client/save_profile.cc:142] Dumped gzipped tool data for memory_profile.json.gz to gs://spotify-beam-v3/merlin-processed/workflow/2t-spotify-workflow/tb_logs/spotify-merlin-train-full-data-v7-1/plugins/profile/2023_02_23_17_35_24/8446cd8af582.memory_profile.json.gz\n"
     ]
    },
    {
     "name": "stdout",
     "output_type": "stream",
     "text": [
      "   52/14828 [..............................] - ETA: 40:17 - loss: 8.3190 - recall_at_1: 2.3959e-04 - recall_at_10: 0.0025 - ndcg_at_10: 0.0011 - regularization_loss: 0.0000e+00 - loss_batch: 8.3190"
     ]
    },
    {
     "name": "stderr",
     "output_type": "stream",
     "text": [
      "2023-02-23 17:35:29.074334: I tensorflow/core/profiler/rpc/client/capture_profile.cc:251] Creating directory: gs://spotify-beam-v3/merlin-processed/workflow/2t-spotify-workflow/tb_logs/spotify-merlin-train-full-data-v7-1/plugins/profile/2023_02_23_17_35_24\n",
      "Dumped tool data for xplane.pb to gs://spotify-beam-v3/merlin-processed/workflow/2t-spotify-workflow/tb_logs/spotify-merlin-train-full-data-v7-1/plugins/profile/2023_02_23_17_35_24/8446cd8af582.xplane.pb\n",
      "Dumped tool data for overview_page.pb to gs://spotify-beam-v3/merlin-processed/workflow/2t-spotify-workflow/tb_logs/spotify-merlin-train-full-data-v7-1/plugins/profile/2023_02_23_17_35_24/8446cd8af582.overview_page.pb\n",
      "Dumped tool data for input_pipeline.pb to gs://spotify-beam-v3/merlin-processed/workflow/2t-spotify-workflow/tb_logs/spotify-merlin-train-full-data-v7-1/plugins/profile/2023_02_23_17_35_24/8446cd8af582.input_pipeline.pb\n",
      "Dumped tool data for tensorflow_stats.pb to gs://spotify-beam-v3/merlin-processed/workflow/2t-spotify-workflow/tb_logs/spotify-merlin-train-full-data-v7-1/plugins/profile/2023_02_23_17_35_24/8446cd8af582.tensorflow_stats.pb\n",
      "Dumped tool data for kernel_stats.pb to gs://spotify-beam-v3/merlin-processed/workflow/2t-spotify-workflow/tb_logs/spotify-merlin-train-full-data-v7-1/plugins/profile/2023_02_23_17_35_24/8446cd8af582.kernel_stats.pb\n",
      "\n"
     ]
    },
    {
     "name": "stdout",
     "output_type": "stream",
     "text": [
      "14828/14828 [==============================] - ETA: 0s - loss: 8.3149 - recall_at_1: 2.8401e-04 - recall_at_10: 0.0029 - ndcg_at_10: 0.0013 - regularization_loss: 0.0000e+00 - loss_batch: 8.3158"
     ]
    },
    {
     "name": "stderr",
     "output_type": "stream",
     "text": [
      "2023-02-23 17:44:31.726758: I tensorflow/core/platform/cpu_feature_guard.cc:194] This TensorFlow binary is optimized with oneAPI Deep Neural Network Library (oneDNN) to use the following CPU instructions in performance-critical operations:  SSE3 SSE4.1 SSE4.2 AVX\n",
      "To enable them in other operations, rebuild TensorFlow with the appropriate compiler flags.\n",
      "2023-02-23 17:44:31.865367: I tensorflow/core/util/util.cc:169] oneDNN custom operations are on. You may see slightly different numerical results due to floating-point round-off errors from different computation orders. To turn them off, set the environment variable `TF_ENABLE_ONEDNN_OPTS=0`.\n",
      "W0223 17:44:33.772062 140682241038144 uploader.py:385] Please consider uploading to a new experiment instead of an existing one, as the former allows for better upload performance.\n"
     ]
    },
    {
     "name": "stdout",
     "output_type": "stream",
     "text": [
      "View your Tensorboard at https://us-central1.tensorboard.googleusercontent.com/experiment/projects+934903580331+locations+us-central1+tensorboards+7336372589079560192+experiments+spotify-merlin-train-full-data-v7-1\n",
      "\u001b[1m[2023-02-23T17:44:34]\u001b[0m Started scanning logdir.\n",
      "\u001b[1m[2023-02-23T17:44:41]\u001b[0m Total uploaded: 18 scalars, 0 tensors, 1 binary objects (452.4 kB)\n",
      "14828/14828 [==============================] - 573s 38ms/step - loss: 8.3149 - recall_at_1: 2.8401e-04 - recall_at_10: 0.0029 - ndcg_at_10: 0.0013 - regularization_loss: 0.0000e+00 - loss_batch: 8.3158 - val_loss: 8.3111 - val_recall_at_1: 3.5236e-04 - val_recall_at_10: 0.0035 - val_ndcg_at_10: 0.0016 - val_regularization_loss: 0.0000e+00 - val_loss_batch: 7.8985\n",
      "Epoch 2/10\n",
      "14828/14828 [==============================] - ETA: 0s - loss: 8.3069 - recall_at_1: 3.8183e-04 - recall_at_10: 0.0034 - ndcg_at_10: 0.0016 - regularization_loss: 0.0000e+00 - loss_batch: 8.3070"
     ]
    },
    {
     "name": "stderr",
     "output_type": "stream",
     "text": [
      "2023-02-23 17:53:45.793977: I tensorflow/core/platform/cpu_feature_guard.cc:194] This TensorFlow binary is optimized with oneAPI Deep Neural Network Library (oneDNN) to use the following CPU instructions in performance-critical operations:  SSE3 SSE4.1 SSE4.2 AVX\n",
      "To enable them in other operations, rebuild TensorFlow with the appropriate compiler flags.\n",
      "2023-02-23 17:53:45.932517: I tensorflow/core/util/util.cc:169] oneDNN custom operations are on. You may see slightly different numerical results due to floating-point round-off errors from different computation orders. To turn them off, set the environment variable `TF_ENABLE_ONEDNN_OPTS=0`.\n",
      "W0223 17:53:47.848528 140122268325696 uploader.py:385] Please consider uploading to a new experiment instead of an existing one, as the former allows for better upload performance.\n"
     ]
    },
    {
     "name": "stdout",
     "output_type": "stream",
     "text": [
      "View your Tensorboard at https://us-central1.tensorboard.googleusercontent.com/experiment/projects+934903580331+locations+us-central1+tensorboards+7336372589079560192+experiments+spotify-merlin-train-full-data-v7-1\n",
      "\u001b[1m[2023-02-23T17:53:48]\u001b[0m Started scanning logdir.\n",
      "\u001b[1m[2023-02-23T17:54:00]\u001b[0m Total uploaded: 36 scalars, 0 tensors, 1 binary objects (452.4 kB)\n",
      "14828/14828 [==============================] - 559s 38ms/step - loss: 8.3069 - recall_at_1: 3.8183e-04 - recall_at_10: 0.0034 - ndcg_at_10: 0.0016 - regularization_loss: 0.0000e+00 - loss_batch: 8.3069 - val_loss: 8.2997 - val_recall_at_1: 5.0897e-04 - val_recall_at_10: 0.0038 - val_ndcg_at_10: 0.0018 - val_regularization_loss: 0.0000e+00 - val_loss_batch: 7.8973\n",
      "Epoch 3/10\n",
      "14827/14828 [============================>.] - ETA: 0s - loss: 8.2734 - recall_at_1: 4.4037e-04 - recall_at_10: 0.0040 - ndcg_at_10: 0.0019 - regularization_loss: 0.0000e+00 - loss_batch: 8.2734"
     ]
    },
    {
     "name": "stderr",
     "output_type": "stream",
     "text": [
      "2023-02-23 18:03:09.280745: I tensorflow/core/platform/cpu_feature_guard.cc:194] This TensorFlow binary is optimized with oneAPI Deep Neural Network Library (oneDNN) to use the following CPU instructions in performance-critical operations:  SSE3 SSE4.1 SSE4.2 AVX\n",
      "To enable them in other operations, rebuild TensorFlow with the appropriate compiler flags.\n",
      "2023-02-23 18:03:09.419577: I tensorflow/core/util/util.cc:169] oneDNN custom operations are on. You may see slightly different numerical results due to floating-point round-off errors from different computation orders. To turn them off, set the environment variable `TF_ENABLE_ONEDNN_OPTS=0`.\n",
      "W0223 18:03:11.304686 140650963162944 uploader.py:385] Please consider uploading to a new experiment instead of an existing one, as the former allows for better upload performance.\n"
     ]
    },
    {
     "name": "stdout",
     "output_type": "stream",
     "text": [
      "View your Tensorboard at https://us-central1.tensorboard.googleusercontent.com/experiment/projects+934903580331+locations+us-central1+tensorboards+7336372589079560192+experiments+spotify-merlin-train-full-data-v7-1\n",
      "\u001b[1m[2023-02-23T18:03:11]\u001b[0m Started scanning logdir.\n",
      "\u001b[1m[2023-02-23T18:03:18]\u001b[0m Total uploaded: 54 scalars, 0 tensors, 1 binary objects (452.4 kB)\n",
      "14828/14828 [==============================] - 558s 37ms/step - loss: 8.2734 - recall_at_1: 4.4038e-04 - recall_at_10: 0.0040 - ndcg_at_10: 0.0019 - regularization_loss: 0.0000e+00 - loss_batch: 8.2733 - val_loss: 8.2529 - val_recall_at_1: 7.8140e-04 - val_recall_at_10: 0.0055 - val_ndcg_at_10: 0.0027 - val_regularization_loss: 0.0000e+00 - val_loss_batch: 7.8820\n",
      "Epoch 4/10\n",
      "14827/14828 [============================>.] - ETA: 0s - loss: 8.1413 - recall_at_1: 6.7631e-04 - recall_at_10: 0.0060 - ndcg_at_10: 0.0028 - regularization_loss: 0.0000e+00 - loss_batch: 8.1413"
     ]
    },
    {
     "name": "stderr",
     "output_type": "stream",
     "text": [
      "2023-02-23 18:12:24.126010: I tensorflow/core/platform/cpu_feature_guard.cc:194] This TensorFlow binary is optimized with oneAPI Deep Neural Network Library (oneDNN) to use the following CPU instructions in performance-critical operations:  SSE3 SSE4.1 SSE4.2 AVX\n",
      "To enable them in other operations, rebuild TensorFlow with the appropriate compiler flags.\n",
      "2023-02-23 18:12:24.264157: I tensorflow/core/util/util.cc:169] oneDNN custom operations are on. You may see slightly different numerical results due to floating-point round-off errors from different computation orders. To turn them off, set the environment variable `TF_ENABLE_ONEDNN_OPTS=0`.\n",
      "W0223 18:12:26.188065 140619777816384 uploader.py:385] Please consider uploading to a new experiment instead of an existing one, as the former allows for better upload performance.\n"
     ]
    },
    {
     "name": "stdout",
     "output_type": "stream",
     "text": [
      "View your Tensorboard at https://us-central1.tensorboard.googleusercontent.com/experiment/projects+934903580331+locations+us-central1+tensorboards+7336372589079560192+experiments+spotify-merlin-train-full-data-v7-1\n",
      "\u001b[1m[2023-02-23T18:12:26]\u001b[0m Started scanning logdir.\n",
      "\u001b[1m[2023-02-23T18:12:33]\u001b[0m Total uploaded: 72 scalars, 0 tensors, 1 binary objects (452.4 kB)\n",
      "14828/14828 [==============================] - 555s 37ms/step - loss: 8.1413 - recall_at_1: 6.7632e-04 - recall_at_10: 0.0060 - ndcg_at_10: 0.0028 - regularization_loss: 0.0000e+00 - loss_batch: 8.1412 - val_loss: 8.1340 - val_recall_at_1: 0.0011 - val_recall_at_10: 0.0082 - val_ndcg_at_10: 0.0039 - val_regularization_loss: 0.0000e+00 - val_loss_batch: 7.7786\n",
      "Epoch 5/10\n",
      "14828/14828 [==============================] - ETA: 0s - loss: 8.0321 - recall_at_1: 9.1699e-04 - recall_at_10: 0.0089 - ndcg_at_10: 0.0041 - regularization_loss: 0.0000e+00 - loss_batch: 8.0321"
     ]
    },
    {
     "name": "stderr",
     "output_type": "stream",
     "text": [
      "2023-02-23 18:21:35.461829: I tensorflow/core/platform/cpu_feature_guard.cc:194] This TensorFlow binary is optimized with oneAPI Deep Neural Network Library (oneDNN) to use the following CPU instructions in performance-critical operations:  SSE3 SSE4.1 SSE4.2 AVX\n",
      "To enable them in other operations, rebuild TensorFlow with the appropriate compiler flags.\n",
      "2023-02-23 18:21:35.600917: I tensorflow/core/util/util.cc:169] oneDNN custom operations are on. You may see slightly different numerical results due to floating-point round-off errors from different computation orders. To turn them off, set the environment variable `TF_ENABLE_ONEDNN_OPTS=0`.\n",
      "W0223 18:21:37.526384 140624203855680 uploader.py:385] Please consider uploading to a new experiment instead of an existing one, as the former allows for better upload performance.\n"
     ]
    },
    {
     "name": "stdout",
     "output_type": "stream",
     "text": [
      "View your Tensorboard at https://us-central1.tensorboard.googleusercontent.com/experiment/projects+934903580331+locations+us-central1+tensorboards+7336372589079560192+experiments+spotify-merlin-train-full-data-v7-1\n",
      "\u001b[1m[2023-02-23T18:21:37]\u001b[0m Started scanning logdir.\n",
      "\u001b[1m[2023-02-23T18:21:45]\u001b[0m Total uploaded: 90 scalars, 0 tensors, 1 binary objects (452.4 kB)\n",
      "14828/14828 [==============================] - 551s 37ms/step - loss: 8.0321 - recall_at_1: 9.1699e-04 - recall_at_10: 0.0089 - ndcg_at_10: 0.0041 - regularization_loss: 0.0000e+00 - loss_batch: 8.0320 - val_loss: 8.0873 - val_recall_at_1: 0.0013 - val_recall_at_10: 0.0101 - val_ndcg_at_10: 0.0048 - val_regularization_loss: 0.0000e+00 - val_loss_batch: 7.7444\n",
      "Epoch 6/10\n",
      "14828/14828 [==============================] - ETA: 0s - loss: 7.9875 - recall_at_1: 0.0012 - recall_at_10: 0.0113 - ndcg_at_10: 0.0052 - regularization_loss: 0.0000e+00 - loss_batch: 7.9875"
     ]
    },
    {
     "name": "stderr",
     "output_type": "stream",
     "text": [
      "2023-02-23 18:30:45.551087: I tensorflow/core/platform/cpu_feature_guard.cc:194] This TensorFlow binary is optimized with oneAPI Deep Neural Network Library (oneDNN) to use the following CPU instructions in performance-critical operations:  SSE3 SSE4.1 SSE4.2 AVX\n",
      "To enable them in other operations, rebuild TensorFlow with the appropriate compiler flags.\n",
      "2023-02-23 18:30:45.693017: I tensorflow/core/util/util.cc:169] oneDNN custom operations are on. You may see slightly different numerical results due to floating-point round-off errors from different computation orders. To turn them off, set the environment variable `TF_ENABLE_ONEDNN_OPTS=0`.\n",
      "W0223 18:30:47.605356 140307916715840 uploader.py:385] Please consider uploading to a new experiment instead of an existing one, as the former allows for better upload performance.\n"
     ]
    },
    {
     "name": "stdout",
     "output_type": "stream",
     "text": [
      "View your Tensorboard at https://us-central1.tensorboard.googleusercontent.com/experiment/projects+934903580331+locations+us-central1+tensorboards+7336372589079560192+experiments+spotify-merlin-train-full-data-v7-1\n",
      "\u001b[1m[2023-02-23T18:30:47]\u001b[0m Started scanning logdir.\n",
      "\u001b[1m[2023-02-23T18:30:55]\u001b[0m Total uploaded: 108 scalars, 0 tensors, 1 binary objects (452.4 kB)\n",
      "14828/14828 [==============================] - 550s 37ms/step - loss: 7.9875 - recall_at_1: 0.0012 - recall_at_10: 0.0113 - ndcg_at_10: 0.0052 - regularization_loss: 0.0000e+00 - loss_batch: 7.9874 - val_loss: 8.0507 - val_recall_at_1: 0.0016 - val_recall_at_10: 0.0121 - val_ndcg_at_10: 0.0057 - val_regularization_loss: 0.0000e+00 - val_loss_batch: 7.7123\n",
      "Epoch 7/10\n",
      "14827/14828 [============================>.] - ETA: 0s - loss: 7.9359 - recall_at_1: 0.0015 - recall_at_10: 0.0136 - ndcg_at_10: 0.0063 - regularization_loss: 0.0000e+00 - loss_batch: 7.9358"
     ]
    },
    {
     "name": "stderr",
     "output_type": "stream",
     "text": [
      "2023-02-23 18:39:54.272427: I tensorflow/core/platform/cpu_feature_guard.cc:194] This TensorFlow binary is optimized with oneAPI Deep Neural Network Library (oneDNN) to use the following CPU instructions in performance-critical operations:  SSE3 SSE4.1 SSE4.2 AVX\n",
      "To enable them in other operations, rebuild TensorFlow with the appropriate compiler flags.\n",
      "2023-02-23 18:39:54.412146: I tensorflow/core/util/util.cc:169] oneDNN custom operations are on. You may see slightly different numerical results due to floating-point round-off errors from different computation orders. To turn them off, set the environment variable `TF_ENABLE_ONEDNN_OPTS=0`.\n",
      "W0223 18:39:56.302295 140085815732032 uploader.py:385] Please consider uploading to a new experiment instead of an existing one, as the former allows for better upload performance.\n"
     ]
    },
    {
     "name": "stdout",
     "output_type": "stream",
     "text": [
      "View your Tensorboard at https://us-central1.tensorboard.googleusercontent.com/experiment/projects+934903580331+locations+us-central1+tensorboards+7336372589079560192+experiments+spotify-merlin-train-full-data-v7-1\n",
      "\u001b[1m[2023-02-23T18:39:56]\u001b[0m Started scanning logdir.\n",
      "\u001b[1m[2023-02-23T18:40:03]\u001b[0m Total uploaded: 126 scalars, 0 tensors, 1 binary objects (452.4 kB)\n",
      "14828/14828 [==============================] - 549s 37ms/step - loss: 7.9358 - recall_at_1: 0.0015 - recall_at_10: 0.0136 - ndcg_at_10: 0.0063 - regularization_loss: 0.0000e+00 - loss_batch: 7.9358 - val_loss: 7.9747 - val_recall_at_1: 0.0019 - val_recall_at_10: 0.0145 - val_ndcg_at_10: 0.0069 - val_regularization_loss: 0.0000e+00 - val_loss_batch: 7.6222\n",
      "Epoch 8/10\n",
      "14827/14828 [============================>.] - ETA: 0s - loss: 7.8034 - recall_at_1: 0.0021 - recall_at_10: 0.0176 - ndcg_at_10: 0.0083 - regularization_loss: 0.0000e+00 - loss_batch: 7.8034"
     ]
    },
    {
     "name": "stderr",
     "output_type": "stream",
     "text": [
      "2023-02-23 18:49:01.620969: I tensorflow/core/platform/cpu_feature_guard.cc:194] This TensorFlow binary is optimized with oneAPI Deep Neural Network Library (oneDNN) to use the following CPU instructions in performance-critical operations:  SSE3 SSE4.1 SSE4.2 AVX\n",
      "To enable them in other operations, rebuild TensorFlow with the appropriate compiler flags.\n",
      "2023-02-23 18:49:01.770620: I tensorflow/core/util/util.cc:169] oneDNN custom operations are on. You may see slightly different numerical results due to floating-point round-off errors from different computation orders. To turn them off, set the environment variable `TF_ENABLE_ONEDNN_OPTS=0`.\n",
      "W0223 18:49:03.764452 139875296196416 uploader.py:385] Please consider uploading to a new experiment instead of an existing one, as the former allows for better upload performance.\n"
     ]
    },
    {
     "name": "stdout",
     "output_type": "stream",
     "text": [
      "View your Tensorboard at https://us-central1.tensorboard.googleusercontent.com/experiment/projects+934903580331+locations+us-central1+tensorboards+7336372589079560192+experiments+spotify-merlin-train-full-data-v7-1\n",
      "\u001b[1m[2023-02-23T18:49:04]\u001b[0m Started scanning logdir.\n",
      "\u001b[1m[2023-02-23T18:49:10]\u001b[0m Total uploaded: 144 scalars, 0 tensors, 1 binary objects (452.4 kB)\n",
      "14828/14828 [==============================] - 547s 37ms/step - loss: 7.8034 - recall_at_1: 0.0021 - recall_at_10: 0.0176 - ndcg_at_10: 0.0083 - regularization_loss: 0.0000e+00 - loss_batch: 7.8033 - val_loss: 7.7822 - val_recall_at_1: 0.0024 - val_recall_at_10: 0.0198 - val_ndcg_at_10: 0.0094 - val_regularization_loss: 0.0000e+00 - val_loss_batch: 7.3722\n",
      "Epoch 9/10\n",
      "14828/14828 [==============================] - ETA: 0s - loss: 7.5910 - recall_at_1: 0.0032 - recall_at_10: 0.0266 - ndcg_at_10: 0.0126 - regularization_loss: 0.0000e+00 - loss_batch: 7.5910"
     ]
    },
    {
     "name": "stderr",
     "output_type": "stream",
     "text": [
      "2023-02-23 18:58:09.660506: I tensorflow/core/platform/cpu_feature_guard.cc:194] This TensorFlow binary is optimized with oneAPI Deep Neural Network Library (oneDNN) to use the following CPU instructions in performance-critical operations:  SSE3 SSE4.1 SSE4.2 AVX\n",
      "To enable them in other operations, rebuild TensorFlow with the appropriate compiler flags.\n",
      "2023-02-23 18:58:09.798801: I tensorflow/core/util/util.cc:169] oneDNN custom operations are on. You may see slightly different numerical results due to floating-point round-off errors from different computation orders. To turn them off, set the environment variable `TF_ENABLE_ONEDNN_OPTS=0`.\n",
      "W0223 18:58:15.853887 139762212239168 uploader.py:385] Please consider uploading to a new experiment instead of an existing one, as the former allows for better upload performance.\n"
     ]
    },
    {
     "name": "stdout",
     "output_type": "stream",
     "text": [
      "View your Tensorboard at https://us-central1.tensorboard.googleusercontent.com/experiment/projects+934903580331+locations+us-central1+tensorboards+7336372589079560192+experiments+spotify-merlin-train-full-data-v7-1\n",
      "\u001b[1m[2023-02-23T18:58:16]\u001b[0m Started scanning logdir.\n",
      "\u001b[1m[2023-02-23T18:58:26]\u001b[0m Total uploaded: 162 scalars, 0 tensors, 1 binary objects (452.4 kB)\n",
      "14828/14828 [==============================] - 555s 37ms/step - loss: 7.5910 - recall_at_1: 0.0032 - recall_at_10: 0.0266 - ndcg_at_10: 0.0126 - regularization_loss: 0.0000e+00 - loss_batch: 7.5909 - val_loss: 7.5760 - val_recall_at_1: 0.0043 - val_recall_at_10: 0.0328 - val_ndcg_at_10: 0.0157 - val_regularization_loss: 0.0000e+00 - val_loss_batch: 7.1418\n",
      "Epoch 10/10\n",
      "14827/14828 [============================>.] - ETA: 0s - loss: 7.4106 - recall_at_1: 0.0055 - recall_at_10: 0.0414 - ndcg_at_10: 0.0200 - regularization_loss: 0.0000e+00 - loss_batch: 7.4106"
     ]
    },
    {
     "name": "stderr",
     "output_type": "stream",
     "text": [
      "2023-02-23 19:07:24.947392: I tensorflow/core/platform/cpu_feature_guard.cc:194] This TensorFlow binary is optimized with oneAPI Deep Neural Network Library (oneDNN) to use the following CPU instructions in performance-critical operations:  SSE3 SSE4.1 SSE4.2 AVX\n",
      "To enable them in other operations, rebuild TensorFlow with the appropriate compiler flags.\n",
      "2023-02-23 19:07:25.090282: I tensorflow/core/util/util.cc:169] oneDNN custom operations are on. You may see slightly different numerical results due to floating-point round-off errors from different computation orders. To turn them off, set the environment variable `TF_ENABLE_ONEDNN_OPTS=0`.\n",
      "W0223 19:07:27.051163 140550578210624 uploader.py:385] Please consider uploading to a new experiment instead of an existing one, as the former allows for better upload performance.\n"
     ]
    },
    {
     "name": "stdout",
     "output_type": "stream",
     "text": [
      "View your Tensorboard at https://us-central1.tensorboard.googleusercontent.com/experiment/projects+934903580331+locations+us-central1+tensorboards+7336372589079560192+experiments+spotify-merlin-train-full-data-v7-1\n",
      "\u001b[1m[2023-02-23T19:07:27]\u001b[0m Started scanning logdir.\n",
      "\u001b[1m[2023-02-23T19:07:34]\u001b[0m Total uploaded: 180 scalars, 0 tensors, 1 binary objects (452.4 kB)\n",
      "14828/14828 [==============================] - 548s 37ms/step - loss: 7.4106 - recall_at_1: 0.0055 - recall_at_10: 0.0414 - ndcg_at_10: 0.0200 - regularization_loss: 0.0000e+00 - loss_batch: 7.4105 - val_loss: 7.4193 - val_recall_at_1: 0.0064 - val_recall_at_10: 0.0446 - val_ndcg_at_10: 0.0218 - val_regularization_loss: 0.0000e+00 - val_loss_batch: 6.9810\n"
     ]
    }
   ],
   "source": [
    "# model.set_retrieval_candidates_for_evaluation(train)\n",
    "opt = tf.keras.optimizers.Adagrad(learning_rate=LR)\n",
    "model.compile(optimizer=opt, run_eagerly=False,\n",
    "              metrics=[mm.RecallAt(1),\n",
    "                       mm.RecallAt(10),\n",
    "                       mm.NDCGAt(10)],\n",
    "             )\n",
    "\n",
    "# one_shot_cmd = get_upload_logs_to_manged_tb_command(oneshot=\"true\")\n",
    "# ! $one_shot_cmd\n",
    "\n",
    "model.fit(train,\n",
    "          validation_data=valid,\n",
    "          batch_size=BS,\n",
    "          epochs=epoch,\n",
    "          # steps_per_epoch=20,\n",
    "          callbacks=[tensorboard_callback,\n",
    "                     UploadTBLogsBatchEnd()],)\n",
    "\n",
    "#get the metrics for the experiment run\n",
    "history_keys = model.history.history.keys()\n",
    "\n",
    "#upload everything to  tb only do this if you were not streaming with the above command\n",
    "\n",
    "\n",
    "vertex_ai.start_run(RUN_NAME, tensorboard=TB_RESOURCE_NAME)\n",
    "\n",
    "vertex_ai.log_params({\"layers\": str(layers),\n",
    "                      \"learning_rate\": LR,\n",
    "                        \"num_epochs\": epoch,\n",
    "                        \"batch_size\": BS,\n",
    "                     })\n",
    "\n",
    "metrics_dict = {}\n",
    "_ = [metrics_dict.update({key: model.history.history[key][-1]}) for key in history_keys]\n",
    "metrics_dict\n",
    "vertex_ai.log_metrics(metrics_dict)\n",
    "vertex_ai.end_run() #end collecting metrics and the run is complete"
   ]
  },
  {
   "cell_type": "markdown",
   "id": "sSzIilEUBCU2",
   "metadata": {
    "id": "sSzIilEUBCU2"
   },
   "source": [
    "- The One-shot command above will download your metrics to tensorboard - and will be avialble in the Experiments tab of Vertex\n",
    "\n",
    "#### Ideally you should be seeing GPU utilization like this - play with batch size to target ~ 70-80% utilization\n",
    "![](img/merlin-training-nvtop.png)"
   ]
  },
  {
   "cell_type": "markdown",
   "id": "U8_ea6jgBCU3",
   "metadata": {
    "id": "U8_ea6jgBCU3"
   },
   "source": [
    "### Plotting performance of loss and recall"
   ]
  },
  {
   "cell_type": "code",
   "execution_count": 21,
   "id": "W3-3fmSLBCU3",
   "metadata": {
    "id": "W3-3fmSLBCU3"
   },
   "outputs": [
    {
     "data": {
      "image/png": "[encoded data removed]",
      "text/plain": [
       "<Figure size 640x480 with 1 Axes>"
      ]
     },
     "metadata": {},
     "output_type": "display_data"
    }
   ],
   "source": [
    "import matplotlib.pyplot as plt\n",
    "\n",
    "def plot_performance(x, y1, y2, label_1, label_2, label_y):\n",
    "    plt.plot(x, y1, label = label_1)\n",
    "    plt.plot(x, y2, label = label_2)\n",
    "    plt.xlabel('Epoch')\n",
    "    plt.ylabel(label_y)\n",
    "    plt.title(label_y)\n",
    "    plt.legend()\n",
    "    plt.show()\n",
    "\n",
    "\n",
    "plot_performance(x=range(epoch),\n",
    "                 y1=model.history.history['loss'],\n",
    "                 y2=model.history.history['val_loss'],\n",
    "                 label_1='train-loss',\n",
    "                 label_2='val-los',\n",
    "                 label_y='loss')"
   ]
  },
  {
   "cell_type": "markdown",
   "id": "zUEKDWpQBCU3",
   "metadata": {
    "id": "zUEKDWpQBCU3"
   },
   "source": [
    "#### Looking at the recall of predicting the next song by epoch"
   ]
  },
  {
   "cell_type": "code",
   "execution_count": 22,
   "id": "QtjNOv74BCU3",
   "metadata": {
    "id": "QtjNOv74BCU3"
   },
   "outputs": [
    {
     "data": {
      "image/png": "[encoded data removed]",
      "text/plain": [
       "<Figure size 640x480 with 1 Axes>"
      ]
     },
     "metadata": {},
     "output_type": "display_data"
    }
   ],
   "source": [
    "plot_performance(x=range(epoch),\n",
    "                 y1=model.history.history['recall_at_1'],\n",
    "                 y2=model.history.history['val_recall_at_1'],\n",
    "                 label_1='recall_at_1',\n",
    "                 label_2='recall_at_1_val',\n",
    "                 label_y='recall_at_1')"
   ]
  },
  {
   "cell_type": "markdown",
   "id": "XbZCKwD3BCU3",
   "metadata": {
    "id": "XbZCKwD3BCU3"
   },
   "source": [
    "#### Save the Query Model"
   ]
  },
  {
   "cell_type": "code",
   "execution_count": 26,
   "id": "0cec944c-a0c0-45b5-acb6-ff0f0aedae4f",
   "metadata": {},
   "outputs": [
    {
     "name": "stderr",
     "output_type": "stream",
     "text": [
      "/usr/local/lib/python3.8/dist-packages/merlin/schema/tags.py:148: UserWarning: Compound tags like Tags.USER_ID have been deprecated and will be removed in a future version. Please use the atomic versions of these tags, like [<Tags.USER: 'user'>, <Tags.ID: 'id'>].\n",
      "  warnings.warn(\n"
     ]
    }
   ],
   "source": [
    "query_tower = model.query_encoder\n",
    "\n",
    "query_tower.save('query_model/')"
   ]
  },
  {
   "cell_type": "code",
   "execution_count": 41,
   "id": "fe7be571-b080-4608-a6f5-92f4cee9b290",
   "metadata": {},
   "outputs": [
    {
     "data": {
      "text/plain": [
       "'spotify-beam-v3'"
      ]
     },
     "execution_count": 41,
     "metadata": {},
     "output_type": "execute_result"
    }
   ],
   "source": [
    "BUCKET.replace('gs://','')"
   ]
  },
  {
   "cell_type": "code",
   "execution_count": 42,
   "id": "517dd992-4cbd-420d-860c-20e429dd0275",
   "metadata": {},
   "outputs": [],
   "source": [
    "from google.cloud import storage\n",
    "import glob\n",
    "\n",
    "import glob\n",
    "import os \n",
    "from google.cloud import storage\n",
    "\n",
    "GCS_CLIENT = storage.Client()\n",
    "def upload_from_directory(directory_path: str, dest_bucket_name: str, dest_blob_name: str):\n",
    "    rel_paths = glob.glob(directory_path + '/**', recursive=True)\n",
    "    bucket = GCS_CLIENT.get_bucket(dest_bucket_name)\n",
    "    for local_file in rel_paths:\n",
    "        remote_path = f'{dest_blob_name}/{\"/\".join(local_file.split(os.sep)[1:])}'\n",
    "        if os.path.isfile(local_file):\n",
    "            blob = bucket.blob(remote_path)\n",
    "            blob.upload_from_filename(local_file)\n",
    "\n",
    "dest_blob = 'merlin-processed/workflow/2t-spotify-workflow/query_model_merlin_v2'\n",
    "upload_from_directory('query_model', BUCKET.replace('gs://',''), dest_blob)"
   ]
  },
  {
   "cell_type": "code",
   "execution_count": 47,
   "id": "91173f25-dc5e-4e96-8129-1c6883478f13",
   "metadata": {},
   "outputs": [
    {
     "data": {
      "text/plain": [
       "'gs://spotify-beam-v3/merlin-processed/workflow/'"
      ]
     },
     "execution_count": 47,
     "metadata": {},
     "output_type": "execute_result"
    }
   ],
   "source": [
    "output_workflow_dir"
   ]
  },
  {
   "cell_type": "code",
   "execution_count": 46,
   "id": "KkpALiGsBCU3",
   "metadata": {
    "id": "KkpALiGsBCU3"
   },
   "outputs": [
    {
     "name": "stderr",
     "output_type": "stream",
     "text": [
      "/usr/local/lib/python3.8/dist-packages/merlin/schema/tags.py:148: UserWarning: Compound tags like Tags.USER_ID have been deprecated and will be removed in a future version. Please use the atomic versions of these tags, like [<Tags.USER: 'user'>, <Tags.ID: 'id'>].\n",
      "  warnings.warn(\n"
     ]
    },
    {
     "ename": "FileNotFoundError",
     "evalue": "[Errno 2] No such file or directory: 'gs:/spotify-beam-v3/merlin-processed/workflow/query-tower-model-22-12/.merlin'",
     "output_type": "error",
     "traceback": [
      "\u001b[0;31m---------------------------------------------------------------------------\u001b[0m",
      "\u001b[0;31mFileNotFoundError\u001b[0m                         Traceback (most recent call last)",
      "Cell \u001b[0;32mIn[46], line 2\u001b[0m\n\u001b[1;32m      1\u001b[0m query_tower \u001b[38;5;241m=\u001b[39m model\u001b[38;5;241m.\u001b[39mquery_encoder\n\u001b[0;32m----> 2\u001b[0m \u001b[43mquery_tower\u001b[49m\u001b[38;5;241;43m.\u001b[39;49m\u001b[43msave\u001b[49m\u001b[43m(\u001b[49m\u001b[43mos\u001b[49m\u001b[38;5;241;43m.\u001b[39;49m\u001b[43mpath\u001b[49m\u001b[38;5;241;43m.\u001b[39;49m\u001b[43mjoin\u001b[49m\u001b[43m(\u001b[49m\u001b[43moutput_workflow_dir\u001b[49m\u001b[43m,\u001b[49m\u001b[38;5;124;43m'\u001b[39;49m\u001b[38;5;124;43mquery-tower-model-22-12\u001b[39;49m\u001b[38;5;124;43m'\u001b[39;49m\u001b[43m)\u001b[49m\u001b[43m)\u001b[49m\n\u001b[1;32m      5\u001b[0m candidate_tower \u001b[38;5;241m=\u001b[39m model\u001b[38;5;241m.\u001b[39mcandidate_encoder\n\u001b[1;32m      6\u001b[0m \u001b[38;5;66;03m# candidate_tower.save(os.path.join(output_path, 'candidate_model_merlin'))\u001b[39;00m\n",
      "File \u001b[0;32m/usr/local/lib/python3.8/dist-packages/merlin/models/tf/core/encoder.py:239\u001b[0m, in \u001b[0;36mEncoder.save\u001b[0;34m(self, export_path, include_optimizer, save_traces)\u001b[0m\n\u001b[1;32m    237\u001b[0m input_schema \u001b[38;5;241m=\u001b[39m \u001b[38;5;28mself\u001b[39m\u001b[38;5;241m.\u001b[39mschema\n\u001b[1;32m    238\u001b[0m output_schema \u001b[38;5;241m=\u001b[39m get_output_schema(export_path)\n\u001b[0;32m--> 239\u001b[0m \u001b[43msave_merlin_metadata\u001b[49m\u001b[43m(\u001b[49m\u001b[43mexport_path\u001b[49m\u001b[43m,\u001b[49m\u001b[43m \u001b[49m\u001b[38;5;28;43mself\u001b[39;49m\u001b[43m,\u001b[49m\u001b[43m \u001b[49m\u001b[43minput_schema\u001b[49m\u001b[43m,\u001b[49m\u001b[43m \u001b[49m\u001b[43moutput_schema\u001b[49m\u001b[43m)\u001b[49m\n",
      "File \u001b[0;32m/usr/local/lib/python3.8/dist-packages/merlin/models/io.py:36\u001b[0m, in \u001b[0;36msave_merlin_metadata\u001b[0;34m(export_path, model, input_schema, output_schema)\u001b[0m\n\u001b[1;32m     34\u001b[0m export_path \u001b[38;5;241m=\u001b[39m pathlib\u001b[38;5;241m.\u001b[39mPath(export_path)\n\u001b[1;32m     35\u001b[0m merlin_metadata_dir \u001b[38;5;241m=\u001b[39m export_path \u001b[38;5;241m/\u001b[39m _MERLIN_METADATA_DIR_NAME\n\u001b[0;32m---> 36\u001b[0m \u001b[43mmerlin_metadata_dir\u001b[49m\u001b[38;5;241;43m.\u001b[39;49m\u001b[43mmkdir\u001b[49m\u001b[43m(\u001b[49m\u001b[43mexist_ok\u001b[49m\u001b[38;5;241;43m=\u001b[39;49m\u001b[38;5;28;43;01mTrue\u001b[39;49;00m\u001b[43m)\u001b[49m\n\u001b[1;32m     38\u001b[0m \u001b[38;5;28;01mif\u001b[39;00m input_schema \u001b[38;5;129;01mis\u001b[39;00m \u001b[38;5;129;01mnot\u001b[39;00m \u001b[38;5;28;01mNone\u001b[39;00m:\n\u001b[1;32m     39\u001b[0m     schema_to_tensorflow_metadata_json(\n\u001b[1;32m     40\u001b[0m         input_schema,\n\u001b[1;32m     41\u001b[0m         merlin_metadata_dir \u001b[38;5;241m/\u001b[39m \u001b[38;5;124m\"\u001b[39m\u001b[38;5;124minput_schema.json\u001b[39m\u001b[38;5;124m\"\u001b[39m,\n\u001b[1;32m     42\u001b[0m     )\n",
      "File \u001b[0;32m/usr/lib/python3.8/pathlib.py:1288\u001b[0m, in \u001b[0;36mPath.mkdir\u001b[0;34m(self, mode, parents, exist_ok)\u001b[0m\n\u001b[1;32m   1286\u001b[0m     \u001b[38;5;28mself\u001b[39m\u001b[38;5;241m.\u001b[39m_raise_closed()\n\u001b[1;32m   1287\u001b[0m \u001b[38;5;28;01mtry\u001b[39;00m:\n\u001b[0;32m-> 1288\u001b[0m     \u001b[38;5;28;43mself\u001b[39;49m\u001b[38;5;241;43m.\u001b[39;49m\u001b[43m_accessor\u001b[49m\u001b[38;5;241;43m.\u001b[39;49m\u001b[43mmkdir\u001b[49m\u001b[43m(\u001b[49m\u001b[38;5;28;43mself\u001b[39;49m\u001b[43m,\u001b[49m\u001b[43m \u001b[49m\u001b[43mmode\u001b[49m\u001b[43m)\u001b[49m\n\u001b[1;32m   1289\u001b[0m \u001b[38;5;28;01mexcept\u001b[39;00m \u001b[38;5;167;01mFileNotFoundError\u001b[39;00m:\n\u001b[1;32m   1290\u001b[0m     \u001b[38;5;28;01mif\u001b[39;00m \u001b[38;5;129;01mnot\u001b[39;00m parents \u001b[38;5;129;01mor\u001b[39;00m \u001b[38;5;28mself\u001b[39m\u001b[38;5;241m.\u001b[39mparent \u001b[38;5;241m==\u001b[39m \u001b[38;5;28mself\u001b[39m:\n",
      "\u001b[0;31mFileNotFoundError\u001b[0m: [Errno 2] No such file or directory: 'gs:/spotify-beam-v3/merlin-processed/workflow/query-tower-model-22-12/.merlin'"
     ]
    }
   ],
   "source": [
    "query_tower = model.query_encoder\n",
    "query_tower.save(os.path.join(output_workflow_dir,'query-tower-model-22-12'))\n",
    "\n",
    "\n",
    "candidate_tower = model.candidate_encoder\n",
    "# candidate_tower.save(os.path.join(output_path, 'candidate_model_merlin'))\n"
   ]
  },
  {
   "cell_type": "markdown",
   "id": "0ANbgj0TBCU4",
   "metadata": {
    "id": "0ANbgj0TBCU4"
   },
   "source": [
    "### Save embeddings to GCS for each song - this will become our Matching Engine index"
   ]
  },
  {
   "cell_type": "code",
   "execution_count": null,
   "id": "qEiU2xFJBCU4",
   "metadata": {
    "id": "qEiU2xFJBCU4"
   },
   "outputs": [],
   "source": [
    "from merlin.models.utils.dataset import unique_rows_by_features\n",
    "\n",
    "item_features = (\n",
    "    unique_rows_by_features(train, Tags.ITEM, Tags.ID)\n",
    ")\n",
    "\n",
    "item_features_val = (\n",
    "    unique_rows_by_features(valid, Tags.ITEM, Tags.ID)\n",
    ")"
   ]
  },
  {
   "cell_type": "code",
   "execution_count": null,
   "id": "hh_DbVpkBCU4",
   "metadata": {
    "id": "hh_DbVpkBCU4",
    "outputId": "4c28c2e6-8472-456c-ea17-64dffe9f57ff"
   },
   "outputs": [],
   "source": [
    "item_embs = model.candidate_embeddings(\n",
    "    item_features, index=item_features.schema['track_uri_can'], batch_size=10000\n",
    ")"
   ]
  },
  {
   "cell_type": "code",
   "execution_count": null,
   "id": "7OUlX_34BCU4",
   "metadata": {
    "id": "7OUlX_34BCU4",
    "outputId": "80e711db-363c-4cbe-e0e4-d1177a1b22b7"
   },
   "outputs": [],
   "source": [
    "item_embs_val = model.candidate_embeddings(\n",
    "    item_features_val, index=item_features_val.schema['track_uri_can'], batch_size=10000\n",
    ")"
   ]
  },
  {
   "cell_type": "code",
   "execution_count": null,
   "id": "NJTrOVFPBCU4",
   "metadata": {
    "id": "NJTrOVFPBCU4",
    "outputId": "b8f94d33-c02f-419b-b2a8-8b3e4976ee27"
   },
   "outputs": [],
   "source": [
    "# Quick look at the data\n",
    "item_emb_pd = item_embs_val.compute().to_pandas()\n",
    "item_emb_pd"
   ]
  },
  {
   "cell_type": "code",
   "execution_count": null,
   "id": "lgnrFlsqBCU4",
   "metadata": {
    "id": "lgnrFlsqBCU4",
    "outputId": "b2c62aaf-a8e8-425d-d777-6d1b4896b4b6"
   },
   "outputs": [],
   "source": [
    "%%time\n",
    "!rm candidate_embeddings.json > /dev/null\n",
    "!touch candidate_embeddings.json\n",
    "\n",
    "item_data = pd.read_parquet(os.path.join(BUCKET, \"merlin-processed/workflow/2t-spotify-workflow\", 'categories/unique.track_uri_can.parquet'))\n",
    "\n",
    "lookup_dict = dict(item_data['track_uri_can'])\n",
    "\n",
    "def format_for_matching_engine(data) -> None:\n",
    "    cols = [str(i) for i in range(layers[-1])] #ensure we are only pulling 0-EMBEDDING_DIM cols\n",
    "    emb = [data[col] for col in cols]\n",
    "    formatted_emb = '{\"id\":\"' + str(data['track_uri_can']) + '\",\"embedding\":[' + \",\".join(str(x) for x in list(emb)) + ']}'\n",
    "    with open(\"candidate_embeddings.json\", 'a') as f:\n",
    "        f.write(formatted_emb)\n",
    "        f.write(\"\\n\")\n",
    "    f.close()\n",
    "\n",
    "item_emb_pd = item_embs.compute().to_pandas().fillna(1e-10).reset_index() #filling blanks with an epsilon value\n",
    "item_emb_pd['track_uri_can'] = item_emb_pd['track_uri_can'].apply(lambda l: lookup_dict[l])\n",
    "_ = item_emb_pd.apply(format_for_matching_engine, axis=1)\n",
    "\n",
    "item_emb_pd_val = item_embs_val.compute().to_pandas().fillna(1e-10).reset_index() #filling blanks with an epsilon value\n",
    "item_emb_pd_val['track_uri_can'] = item_emb_pd_val['track_uri_can'].apply(lambda l: lookup_dict[l])\n",
    "_ = item_emb_pd_val.apply(format_for_matching_engine, axis=1)\n"
   ]
  },
  {
   "cell_type": "code",
   "execution_count": null,
   "id": "Pc9LslA5BCU5",
   "metadata": {
    "id": "Pc9LslA5BCU5",
    "outputId": "e41ded6d-4378-4d22-fe29-0dce9a9ff3e0"
   },
   "outputs": [],
   "source": [
    "!wc -l candidate_embeddings.json"
   ]
  },
  {
   "cell_type": "markdown",
   "id": "aI-s38LgBCU5",
   "metadata": {
    "id": "aI-s38LgBCU5"
   },
   "source": [
    "### BE SURE TO RUN `gsutil config` IN TERMINAL TO LOG IN WITH YOUR CREDS"
   ]
  },
  {
   "cell_type": "code",
   "execution_count": null,
   "id": "QrLVmjkrBCU5",
   "metadata": {
    "id": "QrLVmjkrBCU5",
    "outputId": "d26da2db-e209-4deb-9d0f-c6f1d07b4cc9"
   },
   "outputs": [
    {
     "data": {
      "text/plain": [
       "'gs://spotify-beam-v3/merlin-processed/embeddings/candidate_embeddings.json'"
      ]
     },
     "execution_count": 30,
     "metadata": {},
     "output_type": "execute_result"
    }
   ],
   "source": [
    "# !pip install gsutil\n",
    "import os\n",
    "candidate_path = os.path.join(BUCKET, 'merlin-processed/embeddings/candidate_embeddings.json')\n",
    "\n",
    "candidate_path"
   ]
  },
  {
   "cell_type": "code",
   "execution_count": null,
   "id": "iZCGih8WBCU5",
   "metadata": {
    "id": "iZCGih8WBCU5"
   },
   "outputs": [],
   "source": [
    "# !head -2 candidate_embeddings.json"
   ]
  },
  {
   "cell_type": "code",
   "execution_count": null,
   "id": "HVRRz26ZBCU5",
   "metadata": {
    "id": "HVRRz26ZBCU5",
    "outputId": "2ae8b818-701e-4a94-a42f-b46a4b8986fe"
   },
   "outputs": [
    {
     "name": "stdout",
     "output_type": "stream",
     "text": [
      "/usr/lib/python3/dist-packages/requests/__init__.py:89: RequestsDependencyWarning: urllib3 (1.26.12) or chardet (3.0.4) doesn't match a supported version!\n",
      "  warnings.warn(\"urllib3 ({}) or chardet ({}) doesn't match a supported \"\n",
      "Copying file://candidate_embeddings.json [Content-Type=application/json]...\n",
      "==> NOTE: You are uploading one or more large file(s), which would run          \n",
      "significantly faster if you enable parallel composite uploads. This\n",
      "feature can be enabled by editing the\n",
      "\"parallel_composite_upload_threshold\" value in your .boto\n",
      "configuration file. However, note that if you do this large files will\n",
      "be uploaded as `composite objects\n",
      "<https://cloud.google.com/storage/docs/composite-objects>`_,which\n",
      "means that any user who downloads such objects will need to have a\n",
      "compiled crcmod installed (see \"gsutil help crcmod\"). This is because\n",
      "without a compiled crcmod, computing checksums on composite objects is\n",
      "so slow that gsutil disables downloads of composite objects.\n",
      "\n",
      "\\ [1 files][  3.9 GiB/  3.9 GiB]   53.3 MiB/s                                   \n",
      "Operation completed over 1 objects/3.9 GiB.                                      \n"
     ]
    }
   ],
   "source": [
    "!gsutil cp candidate_embeddings.json $candidate_path"
   ]
  },
  {
   "cell_type": "markdown",
   "id": "uTTyZoBpBCU5",
   "metadata": {
    "id": "uTTyZoBpBCU5"
   },
   "source": [
    "## All set move to the next notebook - your bucket now should look something like this:\n",
    "\n",
    "![](img/merlin-bucket.png)"
   ]
  }
 ],
 "metadata": {
  "colab": {
   "provenance": []
  },
  "environment": {
   "kernel": "python3",
   "name": "tf2-gpu.2-10.m99",
   "type": "gcloud",
   "uri": "gcr.io/deeplearning-platform-release/tf2-gpu.2-10:m99"
  },
  "interpreter": {
   "hash": "31f2aee4e71d21fbe5cf8b01ff0e069b9275f58929596ceb00d14d90e3e16cd6"
  },
  "kernelspec": {
   "display_name": "Python 3 (ipykernel)",
   "language": "python",
   "name": "python3"
  },
  "language_info": {
   "codemirror_mode": {
    "name": "ipython",
    "version": 3
   },
   "file_extension": ".py",
   "mimetype": "text/x-python",
   "name": "python",
   "nbconvert_exporter": "python",
   "pygments_lexer": "ipython3",
   "version": "3.8.10"
  }
 },
 "nbformat": 4,
 "nbformat_minor": 5
}
