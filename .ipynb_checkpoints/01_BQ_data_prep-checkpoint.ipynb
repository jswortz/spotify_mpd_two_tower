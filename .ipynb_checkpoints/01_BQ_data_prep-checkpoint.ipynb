{
 "cells": [
  {
   "cell_type": "markdown",
   "id": "377024b9-dc5c-4636-b270-3d8227a6ab9d",
   "metadata": {},
   "source": [
    "# Data prep\n",
    "\n",
    "## In this notebook we will load the songs from the zip file, and perform transoformations to prepare the data for two-tower training\n",
    "Steps\n",
    "1. Extract from the zip file\n",
    "2. Upload to BQ\n",
    "3. Enrich features for the playlist songs\n",
    "4. Cross-join songs with features (excpected rows = n_songs x n_playlists)\n",
    "5. Remove after-the-fact (later position songs) from the newly generated samples\n",
    "6. Create a clean train table, and flatten structs or use arrays"
   ]
  },
  {
   "cell_type": "markdown",
   "id": "26206aa0-8e2d-433e-a63f-6180c7fc4a41",
   "metadata": {},
   "source": [
    "#### Unzip the file and uplaod to BQ"
   ]
  },
  {
   "cell_type": "code",
   "execution_count": null,
   "id": "4a46fc7b-c232-418a-9d6d-159f519366e3",
   "metadata": {},
   "outputs": [],
   "source": [
    "# !gsutil cp gs://matching-engine-content/spotify-million-playlist/spotify_million_playlist_dataset.zip .\n",
    "# !unzip spotify_million_playlist_dataset.zip"
   ]
  },
  {
   "cell_type": "code",
   "execution_count": null,
   "id": "8b3289ba-c301-4b1f-8bf1-f8b887d5ef1b",
   "metadata": {},
   "outputs": [],
   "source": [
    "# import os\n",
    "# import json\n",
    "\n",
    "# data_files = os.listdir('data')\n",
    "# # PROJECT_ID = 'jtotten-project'\n",
    "# bq_dataset = 'mdp_eda'\n",
    "\n",
    "# for filename in data_files:\n",
    "#   with open(f'data/{filename}') as f:\n",
    "#     print(f)\n",
    "#     json_dict = json.load(f)\n",
    "#     df = pd.DataFrame(json_dict['playlists'])\n",
    "#     df.to_gbq(\n",
    "#     destination_table=f'{bq_dataset}.playlists', \n",
    "#     project_id=f'{PROJECT_ID}', # TODO: param\n",
    "#     location='us-central1', \n",
    "#     progress_bar=True, \n",
    "#     reauth=True, \n",
    "#     if_exists='append'\n",
    "#     ) "
   ]
  },
  {
   "cell_type": "markdown",
   "id": "467de159-4f4b-415b-8481-32105b9a6b1c",
   "metadata": {},
   "source": [
    "## Prep queries for \n",
    "\n",
    "`hybrid-vertex.spotify_train_3.unique_track_features`\n",
    "\n",
    "+\n",
    "\n",
    "`hybrid-vertex.spotify_train_3.unique_artist_features`\n",
    "\n",
    "+\n",
    "\n",
    "`hybrid-vertex.spotify_mpd.playlists_nested`\n",
    "\n",
    "Trainv3-create-enriched-data\n"
   ]
  },
  {
   "cell_type": "code",
   "execution_count": null,
   "id": "6bae3e7a-6f8f-461e-ba61-a24361843def",
   "metadata": {},
   "outputs": [],
   "source": [
    "%%bigquery\n",
    "CREATE OR REPLACE TABLE\n",
    "  `hybrid-vertex.spotify_train_3.enriched_data` AS (\n",
    "    SELECT\n",
    "    a.* except(tracks),\n",
    "      ARRAY(\n",
    "    SELECT\n",
    "      AS STRUCT CAST(track.pos AS int64) AS pos_seed,\n",
    "      track.artist_name AS artist_name_seed,\n",
    "      track.track_uri AS track_uri_seed,\n",
    "      track.track_name AS track_name_seed,\n",
    "      track.album_uri AS album_uri_seed,\n",
    "      track.artist_uri AS artist_uri_seed,\n",
    "      CAST(track.duration_ms AS float64) AS duration_ms_seed,\n",
    "      track.album_name AS album_name_seed,\n",
    "      tf.tracks_playlist_titles AS tracks_playlist_titles,\n",
    "      tf.track_pop AS track_pop,\n",
    "      af.artist_pop AS artist_pop,\n",
    "      af.artist_genres AS artist_genres,\n",
    "      af.artist_followers AS artist_followers\n",
    "    FROM\n",
    "      UNNEST(tracks) as track\n",
    "    INNER JOIN\n",
    "      `hybrid-vertex.spotify_train_3.unique_track_features` AS tf --track features\n",
    "    ON\n",
    "      (track.track_uri = tf.track_uri)\n",
    "    INNER JOIN\n",
    "      `hybrid-vertex.spotify_train_3.unique_artist_features` AS af --artist features\n",
    "      ON\n",
    "      (track.artist_uri = af.artist_uri)\n",
    "      ) AS tracks\n",
    "  FROM \n",
    "  `hybrid-vertex.spotify_mpd.playlists_nested` as a)"
   ]
  },
  {
   "cell_type": "markdown",
   "id": "99200310-a64b-46dc-9d91-b6c99db83a77",
   "metadata": {},
   "source": [
    "\n",
    "cross_join_songxplaylist_struct_query\n",
    "\n",
    "`hybrid-vertex.spotify_train_3.ordered_position_training`\n",
    "\n"
   ]
  },
  {
   "cell_type": "code",
   "execution_count": null,
   "id": "0787c3fa-0972-4fcd-995c-dd5e8b7726f5",
   "metadata": {},
   "outputs": [],
   "source": [
    "%%bigquery\n",
    "CREATE OR REPLACE TABLE\n",
    "  `hybrid-vertex.spotify_train_3.ordered_position_training` AS (\n",
    "  WITH\n",
    "    -- get every combination of song and its parent playlist\n",
    "    unnest_cross AS(\n",
    "    SELECT\n",
    "      b.*,\n",
    "      CONCAT(b.pid,\"-\",track.pos_seed) AS pid_pos_id,\n",
    "      CAST(track.pos_seed AS int64) AS pos,\n",
    "      track.artist_name_seed,\n",
    "      track.track_uri_seed,\n",
    "      track.artist_uri_seed,\n",
    "      track.track_name_seed,\n",
    "      track.album_uri_seed,\n",
    "      CAST(track.duration_ms_seed AS float64) AS duration_ms_seed,\n",
    "      track.album_name_seed,\n",
    "      tracks_playlist_titles AS tracks_playlist_titles,\n",
    "      track_pop AS track_pop_seed,\n",
    "      artist_pop AS artist_pop_seed,\n",
    "      artist_genres AS artist_genres_seed,\n",
    "      artist_followers AS artist_followers_seed\n",
    "    FROM (\n",
    "      SELECT\n",
    "        * EXCEPT(duration_ms),\n",
    "        duration_ms AS duration_ms_playlist\n",
    "      FROM\n",
    "        `hybrid-vertex.spotify_train_3.enriched_data`) AS b\n",
    "    CROSS JOIN\n",
    "      UNNEST(tracks) AS track)\n",
    "  SELECT\n",
    "    a.* EXCEPT(tracks,\n",
    "      num_tracks,\n",
    "      num_artists,\n",
    "      num_albums,\n",
    "      num_followers,\n",
    "      num_edits),\n",
    "    ARRAY(\n",
    "    SELECT\n",
    "      AS STRUCT CAST(track.pos_seed AS int64) AS pos_seed,\n",
    "      track.artist_name_seed AS artist_name_seed,\n",
    "      track.track_uri_seed AS track_uri_seed,\n",
    "      track.track_name_seed AS track_name_seed,\n",
    "      track.album_uri_seed AS album_uri_seed,\n",
    "      track.artist_uri_seed AS artist_uri_seed,\n",
    "      CAST(track.duration_ms_seed AS float64) AS duration_ms_seed,\n",
    "      track.album_name_seed AS album_name_seed,\n",
    "      tracks_playlist_titles AS tracks_playlist_titles,\n",
    "      track_pop AS track_pop_seed,\n",
    "      artist_pop AS artist_pop_seed,\n",
    "      artist_genres AS artist_genres_seed,\n",
    "      artist_followers AS artist_followers_seed\n",
    "    FROM\n",
    "      UNNEST(tracks) AS track\n",
    "    WHERE\n",
    "      CAST(track.pos_seed AS int64) < a.pos ) AS seed_playlist_tracks,\n",
    "    ----- seed track part\n",
    "    trx.pos_seed AS pos_seed_track,\n",
    "    trx.artist_name_seed AS artist_name_seed_track,\n",
    "    trx.artist_uri_seed AS artist_uri_seed_track,\n",
    "    trx.track_name_seed AS track_name_seed_track,\n",
    "    trx.track_uri_seed AS track_uri_seed_track,\n",
    "    trx.album_name_seed AS album_name_seed_track,\n",
    "    trx.album_uri_seed AS album_uri_seed_track,\n",
    "    trx.duration_ms_seed AS duration_seed_track\n",
    "  FROM\n",
    "    unnest_cross AS a -- with statement\n",
    "    ,\n",
    "    UNNEST(a.tracks) AS trx\n",
    "  WHERE\n",
    "    CAST(trx.pos_seed AS int64) = a.pos-1 );\n",
    "  -- LIMIT\n",
    "  -- 100;"
   ]
  },
  {
   "cell_type": "markdown",
   "id": "7521dda2-b698-437f-bf17-99b075b43280",
   "metadata": {},
   "source": [
    "Trainv3-clean-track-features\n",
    "\n",
    "Get new metadata for the tracks now that there are updated track counts, durations, etc...\n",
    "\n",
    "`hybrid-vertex.spotify_train_3.train`\n"
   ]
  },
  {
   "cell_type": "code",
   "execution_count": null,
   "id": "8701e549-bbf8-4686-97fe-df49d74ca47c",
   "metadata": {},
   "outputs": [],
   "source": [
    "%%bigquery\n",
    "create or replace table `hybrid-vertex.spotify_train_3.train` as (\n",
    "WITH\n",
    "  playlist_features_clean AS (\n",
    "  SELECT\n",
    "    pid_pos_id as pid_pos_id,\n",
    "    SUM(trx.duration_ms_seed) AS duration_ms_seed_pl,\n",
    "    COUNT(1) AS n_songs,\n",
    "    COUNT(DISTINCT trx.artist_name_seed) AS num_artists,\n",
    "    COUNT(DISTINCT trx.album_uri_seed) AS num_albums,\n",
    "  FROM\n",
    "    `hybrid-vertex.spotify_train_3.ordered_position_training`,\n",
    "    UNNEST(seed_playlist_tracks) AS trx\n",
    "  GROUP BY\n",
    "    pid_pos_id)\n",
    "SELECT\n",
    "  a.*,\n",
    "  b.* except(pid_pos_id)\n",
    "FROM\n",
    "  `hybrid-vertex.spotify_train_3.ordered_position_training` a\n",
    "INNER JOIN\n",
    "  playlist_features_clean b\n",
    "ON\n",
    "  a.pid_pos_id = b.pid_pos_id)"
   ]
  },
  {
   "cell_type": "markdown",
   "id": "fed1be08-1417-48c4-a43a-4955f7975428",
   "metadata": {},
   "source": [
    "## get rid of structs by createing new table with arrays from playlist_seed\n"
   ]
  },
  {
   "cell_type": "code",
   "execution_count": 10,
   "id": "4fd23106-391c-4152-8810-54a8a4ceb0f0",
   "metadata": {},
   "outputs": [
    {
     "name": "stderr",
     "output_type": "stream",
     "text": [
      "Query complete after 0.00s: 100%|██████████| 3/3 [00:00<00:00, 1596.21query/s]                        \n"
     ]
    },
    {
     "data": {
      "text/html": [
       "<div>\n",
       "<style scoped>\n",
       "    .dataframe tbody tr th:only-of-type {\n",
       "        vertical-align: middle;\n",
       "    }\n",
       "\n",
       "    .dataframe tbody tr th {\n",
       "        vertical-align: top;\n",
       "    }\n",
       "\n",
       "    .dataframe thead th {\n",
       "        text-align: right;\n",
       "    }\n",
       "</style>\n",
       "<table border=\"1\" class=\"dataframe\">\n",
       "  <thead>\n",
       "    <tr style=\"text-align: right;\">\n",
       "      <th></th>\n",
       "    </tr>\n",
       "  </thead>\n",
       "  <tbody>\n",
       "  </tbody>\n",
       "</table>\n",
       "</div>"
      ],
      "text/plain": [
       "Empty DataFrame\n",
       "Columns: []\n",
       "Index: []"
      ]
     },
     "execution_count": 10,
     "metadata": {},
     "output_type": "execute_result"
    }
   ],
   "source": [
    "%%bigquery\n",
    "create or replace table `hybrid-vertex.spotify_train_3.train_flatten` as (\n",
    "SELECT a.* except(seed_playlist_tracks),\n",
    "    ARRAY(select t.pos_seed from UNNEST(seed_playlist_tracks) t) as pos_seed_pl,\n",
    "    ARRAY(select t.artist_name_seed from UNNEST(seed_playlist_tracks) t) as artist_name_seed_pl,\n",
    "    ARRAY(select t.track_uri_seed from UNNEST(seed_playlist_tracks) t) as track_uri_seed_pl,\n",
    "    ARRAY(select t.track_name_seed from UNNEST(seed_playlist_tracks) t) as track_name_seed_pl,\n",
    "    ARRAY(select t.duration_ms_seed from UNNEST(seed_playlist_tracks) t) as duration_ms_seed_songs_pl,\n",
    "    ARRAY(select t.album_name_seed from UNNEST(seed_playlist_tracks) t) as album_name_seed_pl,\n",
    "    ARRAY(select t.artist_pop_seed from UNNEST(seed_playlist_tracks) t) as artist_pop_seed_pl,\n",
    "    ARRAY(select t.artist_followers_seed from UNNEST(seed_playlist_tracks) t) as artists_followers_seed_pl,\n",
    "    ARRAY(select case when t.track_pop_seed is null then 0 else t.track_pop_seed end from UNNEST(seed_playlist_tracks) t) as track_pop_seed_pl,\n",
    "    --- skip nested artist_genres_seed\n",
    "    from `hybrid-vertex.spotify_train_3.train` a\n",
    ")"
   ]
  },
  {
   "cell_type": "code",
   "execution_count": null,
   "id": "3209c2c3-3014-45ac-bba8-75488caf8a14",
   "metadata": {},
   "outputs": [],
   "source": []
  }
 ],
 "metadata": {
  "environment": {
   "kernel": "python3",
   "name": "tf2-gpu.2-3.m93",
   "type": "gcloud",
   "uri": "gcr.io/deeplearning-platform-release/tf2-gpu.2-3:m93"
  },
  "kernelspec": {
   "display_name": "Python 3",
   "language": "python",
   "name": "python3"
  },
  "language_info": {
   "codemirror_mode": {
    "name": "ipython",
    "version": 3
   },
   "file_extension": ".py",
   "mimetype": "text/x-python",
   "name": "python",
   "nbconvert_exporter": "python",
   "pygments_lexer": "ipython3",
   "version": "3.7.12"
  }
 },
 "nbformat": 4,
 "nbformat_minor": 5
}
