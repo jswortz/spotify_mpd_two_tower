{
 "cells": [
  {
   "cell_type": "markdown",
   "id": "1d5383b2-071e-45b8-af2c-2421eb4f923a",
   "metadata": {
    "tags": []
   },
   "source": [
    "# Two - Tower Retreival Model\n",
    "\n",
    "### Key resources:\n",
    "* Many pages [here](https://www.tensorflow.org/recommenders/examples/deep_recommenders) include great techniques to build custom TFRS Models\n",
    "\n",
    "### Goals:\n",
    "* Show how to model off of most data types \n",
    "  * (String, Existing Embeddings (vectors), \n",
    "  * Floats (Normalized), \n",
    "  * Categorical with vocab, \n",
    "  * High Dim Categorical (Embed)\n",
    "* Leverage class templates to create custom 2 Tower Models quick/easy"
   ]
  },
  {
   "cell_type": "markdown",
   "id": "92d52e5f-a13b-46a7-849a-dc188b455a86",
   "metadata": {},
   "source": [
    "## SPOTIFY Create the tensorflow.io interface for the event and product table in Bigquery\n",
    "Best practices from Google are in this blog post"
   ]
  },
  {
   "cell_type": "code",
   "execution_count": 1,
   "id": "312070aa-00ae-467b-8747-0fefac329474",
   "metadata": {},
   "outputs": [],
   "source": [
    "# !gsutil mb -l us-central1 gs://spotify-tfrecords-blog"
   ]
  },
  {
   "cell_type": "code",
   "execution_count": 17,
   "id": "de3122eb-564b-46f9-9a50-851d19301521",
   "metadata": {},
   "outputs": [],
   "source": [
    "# set variables\n",
    "SEED = 41781897\n",
    "PROJECT_ID = 'hybrid-vertex'\n",
    "DROP_FIELDS = ['modified_at', 'row_number', 'seed_playlist_tracks']\n",
    "TF_RECORDS_DIR = 'gs://spotify-tfrecords-blog'"
   ]
  },
  {
   "cell_type": "markdown",
   "id": "77c50a06-d69d-4d64-b254-26fb2a249fcf",
   "metadata": {
    "tags": []
   },
   "source": [
    "#### Quick counts on training data\n",
    "\n"
   ]
  },
  {
   "cell_type": "markdown",
   "id": "9c5e1473-4a2d-4778-9f01-e2b76672a9f5",
   "metadata": {},
   "source": [
    "#### Quick counts on the training records for track"
   ]
  },
  {
   "cell_type": "code",
   "execution_count": 18,
   "id": "eaa56927-6722-43f9-88ac-ab638487164e",
   "metadata": {},
   "outputs": [
    {
     "name": "stderr",
     "output_type": "stream",
     "text": [
      "Query complete after 0.00s: 100%|██████████| 1/1 [00:00<00:00, 992.97query/s] \n",
      "Downloading: 100%|██████████| 1/1 [00:00<00:00,  1.00rows/s]\n"
     ]
    }
   ],
   "source": [
    "%%bigquery TOTAL_PLAYLISTS\n",
    "select count(1) from hybrid-vertex.spotify_train_3.train"
   ]
  },
  {
   "cell_type": "code",
   "execution_count": 19,
   "id": "418e5d8d-5410-4bca-a168-002d27ed95ca",
   "metadata": {},
   "outputs": [
    {
     "data": {
      "text/plain": [
       "65346428"
      ]
     },
     "execution_count": 19,
     "metadata": {},
     "output_type": "execute_result"
    }
   ],
   "source": [
    "TOTAL_PLAYLISTS = TOTAL_PLAYLISTS.values[0][0]\n",
    "TOTAL_PLAYLISTS"
   ]
  },
  {
   "cell_type": "markdown",
   "id": "f4710f67-de96-401b-8a0c-abb05dd62c40",
   "metadata": {},
   "source": [
    "### Set the tf.io pipelines function from bigquery\n",
    "\n",
    "[Great blog post here on it](https://towardsdatascience.com/how-to-read-bigquery-data-from-tensorflow-2-0-efficiently-9234b69165c8)"
   ]
  },
  {
   "cell_type": "code",
   "execution_count": 20,
   "id": "e985c505-1712-4d63-bc25-75df479fc70d",
   "metadata": {},
   "outputs": [],
   "source": [
    "# !pip install tensorflow-recommenders -q --user"
   ]
  },
  {
   "cell_type": "code",
   "execution_count": 22,
   "id": "7db86c9f-5454-4629-80ba-c0273fca117d",
   "metadata": {},
   "outputs": [],
   "source": [
    "import tensorflow as tf\n",
    "from tensorflow.python.framework import dtypes\n",
    "from tensorflow_io.bigquery import BigQueryClient\n",
    "from tensorflow_io.bigquery import BigQueryReadSession\n",
    "import warnings\n",
    "warnings.filterwarnings(\"ignore\") #do this b/c there's an info-level bug that can safely be ignored\n",
    "import json\n",
    "import tensorflow as tf\n",
    "# import tensorflow_recommenders as tfrs\n",
    "import datetime\n",
    "from tensorflow.python.lib.io import file_io\n",
    "from tensorflow.train import BytesList, Feature, FeatureList, Int64List, FloatList\n",
    "from tensorflow.train import SequenceExample, FeatureLists\n",
    "\n",
    "\n",
    "\n",
    "def bq_to_tfdata(client, row_restriction, table_id, col_names, dataset, batch_size=BATCH_SIZE):\n",
    "    TABLE_ID = table_id\n",
    "    COL_NAMES = col_names\n",
    "    DATASET = dataset\n",
    "    bqsession = client.read_session(\n",
    "        \"projects/\" + PROJECT_ID,\n",
    "        PROJECT_ID, TABLE_ID, DATASET,\n",
    "        COL_NAMES,\n",
    "        requested_streams=2,\n",
    "        row_restriction=row_restriction)\n",
    "    dataset = bqsession.parallel_read_rows()\n",
    "    return dataset.prefetch(1).shuffle(batch_size*10).batch(batch_size)"
   ]
  },
  {
   "cell_type": "markdown",
   "id": "88e45e8d-3113-4528-9d71-8afdfd922d4f",
   "metadata": {},
   "source": [
    "## Get the song metadata\n",
    "\n",
    "To get a pipeline working we need the metadata for the table along with the table information. The following functions are helpers that give us the metadata into the proper types for `tf`\n",
    "\n",
    "\n",
    "For each table id, programatically get\n",
    "* Column names\n",
    "* Column types"
   ]
  },
  {
   "cell_type": "markdown",
   "id": "bd72e820-d1d7-48f9-902d-ad63be9b74fb",
   "metadata": {},
   "source": [
    "## Metadata dictionary to translate from BQ to tensorflow\n",
    "\n",
    "From the DDL we are going to get the types for use in a  to create a `BigQueryReadSession` from `tensorflow_io.bigquery` "
   ]
  },
  {
   "cell_type": "code",
   "execution_count": 32,
   "id": "80b2013c-7896-4738-a174-79d9f2fbc188",
   "metadata": {},
   "outputs": [],
   "source": [
    "bq_2_tf_dict = {'name': {'mode': BigQueryClient.FieldMode.NULLABLE, 'output_type': dtypes.string},\n",
    " 'collaborative': {'mode': BigQueryClient.FieldMode.NULLABLE,\n",
    "  'output_type': dtypes.string},\n",
    " 'pid': {'mode': BigQueryClient.FieldMode.NULLABLE, 'output_type': dtypes.int64},\n",
    " 'description': {'mode': BigQueryClient.FieldMode.NULLABLE,\n",
    "  'output_type': dtypes.string},\n",
    " 'duration_ms_playlist': {'mode': BigQueryClient.FieldMode.NULLABLE,\n",
    "  'output_type': dtypes.int64},\n",
    " 'pid_pos_id': {'mode':BigQueryClient.FieldMode.NULLABLE,\n",
    "  'output_type': dtypes.string},\n",
    " 'pos': {'mode':BigQueryClient.FieldMode.NULLABLE, 'output_type': dtypes.int64},\n",
    " 'artist_name_seed': {'mode':BigQueryClient.FieldMode.NULLABLE,\n",
    "  'output_type': dtypes.string},\n",
    " 'track_uri_seed': {'mode':BigQueryClient.FieldMode.NULLABLE,\n",
    "  'output_type': dtypes.string},\n",
    " 'artist_uri_seed': {'mode':BigQueryClient.FieldMode.NULLABLE,\n",
    "  'output_type': dtypes.string},\n",
    " 'track_name_seed': {'mode':BigQueryClient.FieldMode.NULLABLE,\n",
    "  'output_type': dtypes.string},\n",
    " 'album_uri_seed': {'mode':BigQueryClient.FieldMode.NULLABLE,\n",
    "  'output_type': dtypes.string},\n",
    " 'duration_ms_seed': {'mode':BigQueryClient.FieldMode.NULLABLE,\n",
    "  'output_type': dtypes.float64},\n",
    " 'album_name_seed': {'mode':BigQueryClient.FieldMode.NULLABLE,\n",
    "  'output_type': dtypes.string},\n",
    " 'track_pop_seed': {'mode':BigQueryClient.FieldMode.NULLABLE,\n",
    "  'output_type': dtypes.int64},\n",
    " 'artist_pop_seed': {'mode':BigQueryClient.FieldMode.NULLABLE,\n",
    "  'output_type': dtypes.float64},\n",
    " 'artist_genres_seed': {'mode': BigQueryClient.FieldMode.REPEATED,\n",
    "  'output_type': dtypes.string},\n",
    " 'artist_followers_seed': {'mode':BigQueryClient.FieldMode.NULLABLE,\n",
    "  'output_type': dtypes.float64},\n",
    " 'pos_seed_track': {'mode':BigQueryClient.FieldMode.NULLABLE,\n",
    "  'output_type': dtypes.int64},\n",
    " 'artist_name_seed_track': {'mode':BigQueryClient.FieldMode.NULLABLE,\n",
    "  'output_type': dtypes.string},\n",
    " 'artist_uri_seed_track': {'mode':BigQueryClient.FieldMode.NULLABLE,\n",
    "  'output_type': dtypes.string},\n",
    " 'track_name_seed_track': {'mode': BigQueryClient.FieldMode.NULLABLE,\n",
    "  'output_type': dtypes.string},\n",
    " 'track_uri_seed_track': {'mode': BigQueryClient.FieldMode.NULLABLE,\n",
    "  'output_type': dtypes.string},\n",
    " 'album_name_seed_track': {'mode': BigQueryClient.FieldMode.NULLABLE,\n",
    "  'output_type': dtypes.string},\n",
    " 'album_uri_seed_track': {'mode': BigQueryClient.FieldMode.NULLABLE,\n",
    "  'output_type': dtypes.string},\n",
    " 'duration_seed_track': {'mode': BigQueryClient.FieldMode.NULLABLE,\n",
    "  'output_type': dtypes.float64},\n",
    " 'duration_ms_seed_pl': {'mode': BigQueryClient.FieldMode.NULLABLE,\n",
    "  'output_type': dtypes.float64},\n",
    " 'n_songs': {'mode': BigQueryClient.FieldMode.NULLABLE,\n",
    "  'output_type': dtypes.int64},\n",
    " 'num_artists': {'mode': BigQueryClient.FieldMode.NULLABLE,\n",
    "  'output_type': dtypes.int64},\n",
    " 'num_albums': {'mode': BigQueryClient.FieldMode.NULLABLE,\n",
    "  'output_type': dtypes.int64},\n",
    "'pos_seed_pl': {'mode': BigQueryClient.FieldMode.REPEATED,\n",
    "  'output_type': dtypes.int64},\n",
    "'track_uri_seed_pl': {'mode': BigQueryClient.FieldMode.REPEATED,\n",
    "  'output_type': dtypes.string},\n",
    "'track_name_seed_pl': {'mode': BigQueryClient.FieldMode.REPEATED,\n",
    "  'output_type': dtypes.string},\n",
    "'duration_ms_seed_songs_pl': {'mode': BigQueryClient.FieldMode.REPEATED,\n",
    "  'output_type': dtypes.float64},\n",
    "'album_name_seed_pl': {'mode': BigQueryClient.FieldMode.REPEATED,\n",
    "  'output_type': dtypes.string},\n",
    "'artist_pop_seed_pl': {'mode': BigQueryClient.FieldMode.REPEATED,\n",
    "  'output_type': dtypes.float64},\n",
    "'artists_followers_seed_pl': {'mode': BigQueryClient.FieldMode.REPEATED,\n",
    "  'output_type': dtypes.float64},              \n",
    "'track_pop_seed_pl': {'mode': BigQueryClient.FieldMode.REPEATED,\n",
    "  'output_type': dtypes.int64},  \n",
    "               \n",
    "               }"
   ]
  },
  {
   "cell_type": "code",
   "execution_count": 39,
   "id": "fa17d16d-a645-43af-bab2-950085f90ab3",
   "metadata": {},
   "outputs": [],
   "source": [
    "client = BigQueryClient()\n",
    "batch_size = 1\n",
    "bqsession = client.read_session(\n",
    "        \"projects/\" + PROJECT_ID,\n",
    "        PROJECT_ID, 'train_flatten', 'spotify_train_3',\n",
    "        bq_2_tf_dict,\n",
    "        requested_streams=2,)\n",
    "dataset = bqsession.parallel_read_rows()\n",
    "dataset = dataset.prefetch(1).shuffle(batch_size*10).batch(batch_size)"
   ]
  },
  {
   "cell_type": "code",
   "execution_count": 40,
   "id": "13d812a6-9d55-4c4a-b687-896e2ae54caa",
   "metadata": {},
   "outputs": [
    {
     "name": "stdout",
     "output_type": "stream",
     "text": [
      "OrderedDict([('album_name_seed', <tf.Tensor: shape=(1,), dtype=string, numpy=array([b'What Was I Thinking Of'], dtype=object)>), ('album_name_seed_pl', <tf.Tensor: shape=(1, 10), dtype=string, numpy=\n",
      "array([[b'Use Your Illusion II', b'80s Songs from the Big Screen',\n",
      "        b'Different Light', b\"She's So Unusual\", b\"Surfin' USA\",\n",
      "        b'50 Big Ones: Greatest Hits',\n",
      "        b'Summer Days (And Summer Nights)',\n",
      "        b'Nursery Rhymes & Bible Songs for Kids - Childrens Music & Hymns & Sunday School Songs for Praise & Christian Worship',\n",
      "        b'Songs with the Greatest Piano Riffs in the World!',\n",
      "        b'The Savage Young Beatles Feat. Tony Sheridan']], dtype=object)>), ('album_name_seed_track', <tf.Tensor: shape=(1,), dtype=string, numpy=array([b'The Savage Young Beatles Feat. Tony Sheridan'], dtype=object)>), ('album_uri_seed', <tf.Tensor: shape=(1,), dtype=string, numpy=array([b'spotify:album:5UvwZF8MTWOpirUaZx6px9'], dtype=object)>), ('album_uri_seed_track', <tf.Tensor: shape=(1,), dtype=string, numpy=array([b'spotify:album:58Wthvmg2qEJT6sADb9sY1'], dtype=object)>), ('artist_followers_seed', <tf.Tensor: shape=(1,), dtype=float64, numpy=array([9.])>), ('artist_genres_seed', <tf.Tensor: shape=(1, 1), dtype=string, numpy=array([[b'']], dtype=object)>), ('artist_name_seed', <tf.Tensor: shape=(1,), dtype=string, numpy=array([b'J.D.Beard'], dtype=object)>), ('artist_name_seed_track', <tf.Tensor: shape=(1,), dtype=string, numpy=array([b'Tony Sheridan'], dtype=object)>), ('artist_pop_seed', <tf.Tensor: shape=(1,), dtype=float64, numpy=array([0.])>), ('artist_pop_seed_pl', <tf.Tensor: shape=(1, 10), dtype=float64, numpy=array([[82.,  0., 65., 73., 75., 75., 75., 19., 35., 28.]])>), ('artist_uri_seed', <tf.Tensor: shape=(1,), dtype=string, numpy=array([b'spotify:artist:6kOygcX15nEaQ8P0c62YXO'], dtype=object)>), ('artist_uri_seed_track', <tf.Tensor: shape=(1,), dtype=string, numpy=array([b'spotify:artist:3muGwkg7cEbK52vzp76J38'], dtype=object)>), ('artists_followers_seed_pl', <tf.Tensor: shape=(1, 10), dtype=float64, numpy=\n",
      "array([[2.387000e+07, 2.800000e+01, 1.042487e+06, 1.918828e+06,\n",
      "        3.559951e+06, 3.559951e+06, 3.559951e+06, 6.550000e+02,\n",
      "        4.103000e+03, 4.964000e+03]])>), ('collaborative', <tf.Tensor: shape=(1,), dtype=string, numpy=array([b'false'], dtype=object)>), ('description', <tf.Tensor: shape=(1,), dtype=string, numpy=array([b''], dtype=object)>), ('duration_ms_playlist', <tf.Tensor: shape=(1,), dtype=int64, numpy=array([15350704])>), ('duration_ms_seed', <tf.Tensor: shape=(1,), dtype=float64, numpy=array([170626.])>), ('duration_ms_seed_pl', <tf.Tensor: shape=(1,), dtype=float64, numpy=array([2052879.])>), ('duration_ms_seed_songs_pl', <tf.Tensor: shape=(1, 10), dtype=float64, numpy=\n",
      "array([[336000., 237089., 204560., 238266., 149373., 217093., 160360.,\n",
      "        156000., 226605., 127533.]])>), ('duration_seed_track', <tf.Tensor: shape=(1,), dtype=float64, numpy=array([127533.])>), ('n_songs', <tf.Tensor: shape=(1,), dtype=int64, numpy=array([10])>), ('name', <tf.Tensor: shape=(1,), dtype=string, numpy=array([b'Throwback'], dtype=object)>), ('num_albums', <tf.Tensor: shape=(1,), dtype=int64, numpy=array([10])>), ('num_artists', <tf.Tensor: shape=(1,), dtype=int64, numpy=array([8])>), ('pid', <tf.Tensor: shape=(1,), dtype=int64, numpy=array([11834])>), ('pid_pos_id', <tf.Tensor: shape=(1,), dtype=string, numpy=array([b'11834-10'], dtype=object)>), ('pos', <tf.Tensor: shape=(1,), dtype=int64, numpy=array([10])>), ('pos_seed_pl', <tf.Tensor: shape=(1, 10), dtype=int64, numpy=array([[0, 1, 2, 3, 4, 5, 6, 7, 8, 9]])>), ('pos_seed_track', <tf.Tensor: shape=(1,), dtype=int64, numpy=array([9])>), ('track_name_seed', <tf.Tensor: shape=(1,), dtype=string, numpy=array([b'Johny and Janie'], dtype=object)>), ('track_name_seed_pl', <tf.Tensor: shape=(1, 10), dtype=string, numpy=\n",
      "array([[b\"Knockin' On Heaven's Door\",\n",
      "        b'Karma Chameleon (from \"The Call\")', b'Walk Like an Egyptian',\n",
      "        b'Girls Just Want to Have Fun', b\"Surfin' U.S.A.\", b'Kokomo',\n",
      "        b'California Girls', b'Yellow Submarine', b'Let It Be',\n",
      "        b'Sweet Georgia Brown']], dtype=object)>), ('track_name_seed_track', <tf.Tensor: shape=(1,), dtype=string, numpy=array([b'Sweet Georgia Brown'], dtype=object)>), ('track_pop_seed', <tf.Tensor: shape=(1,), dtype=int64, numpy=array([0])>), ('track_pop_seed_pl', <tf.Tensor: shape=(1, 10), dtype=int64, numpy=array([[ 0,  0, 64, 81, 75,  0, 61,  8, 19,  0]])>), ('track_uri_seed', <tf.Tensor: shape=(1,), dtype=string, numpy=array([b'spotify:track:38zXwDM7r29fRYV761VtL1'], dtype=object)>), ('track_uri_seed_pl', <tf.Tensor: shape=(1, 10), dtype=string, numpy=\n",
      "array([[b'spotify:track:7gXdAqJLCa5aYUeLVxosOz',\n",
      "        b'spotify:track:69qyiqGK60HLck0U5IlqGC',\n",
      "        b'spotify:track:3BGbqEDio3ocx1v4egIYr6',\n",
      "        b'spotify:track:4y1LsJpmMti1PfRQV9AWWe',\n",
      "        b'spotify:track:0wz1LjDb9ZNEYwOmDJ3Q4b',\n",
      "        b'spotify:track:0NqQmmLEN9rlnkh2JW0UIs',\n",
      "        b'spotify:track:6bJuuCtXYiwOcKT9s8uRh8',\n",
      "        b'spotify:track:4RYKhakKvfaawjX3HSqFAW',\n",
      "        b'spotify:track:6Hxg0aWE86cU1io3mibhT6',\n",
      "        b'spotify:track:3KQUZplafflXBkikZZKpWp']], dtype=object)>), ('track_uri_seed_track', <tf.Tensor: shape=(1,), dtype=string, numpy=array([b'spotify:track:3KQUZplafflXBkikZZKpWp'], dtype=object)>)])\n"
     ]
    }
   ],
   "source": [
    "for x in dataset.take(1):\n",
    "    print(x)"
   ]
  },
  {
   "cell_type": "markdown",
   "id": "4aae928c-beeb-4704-8b18-cd31bcb16d24",
   "metadata": {},
   "source": [
    "### Serialize the data to disk after we run a pipeline thru our tr"
   ]
  },
  {
   "cell_type": "markdown",
   "id": "7132c7a5-5f76-429b-a1aa-47663f20080b",
   "metadata": {},
   "source": [
    "Since the data is stored in a text dictionary we will eagerly execute, grab the values and do a string `eval`\n",
    "`eval(\"{'pos': 0, 'artist_name': 'King Crimson', 'track_uri': 'spotify:track:173gp7NIXqk0MEo8K7Av4a', 'artist_uri': 'spotify:artist:7M1FPw29m5FbicYzS2xdpi', 'track_name': '21st Century Schizoid Man', 'album_uri': 'spotify:album:0ga8Q4tTXaFf9q3LvT8hrC', 'duration_ms': 657517, 'album_name': 'Radical Action To Unseat the Hold of Monkey Mind (Live)'}\")`"
   ]
  },
  {
   "cell_type": "markdown",
   "id": "9821506a-054e-4ad2-8530-bde59fb5e5d6",
   "metadata": {},
   "source": [
    "## Use the example output to think of how you process your features"
   ]
  },
  {
   "cell_type": "markdown",
   "id": "6f83a334-4008-44a8-84f6-f2ef827200db",
   "metadata": {},
   "source": [
    "```\n",
    "OrderedDict([('album_name', <tf.Tensor: shape=(1,), dtype=string, numpy=array([b'The Helm'], dtype=object)>), ('artist_name', <tf.Tensor: shape=(1,), dtype=string, numpy=array([b'Carrot Green'], dtype=object)>), ('collaborative', <tf.Tensor: shape=(1,), dtype=string, numpy=array([b'false'], dtype=object)>), ('description', <tf.Tensor: shape=(1,), dtype=string, numpy=array([b''], dtype=object)>), ('duration_ms', <tf.Tensor: shape=(1,), dtype=string, numpy=array([b'358500'], dtype=object)>), ('modified_at', <tf.Tensor: shape=(1,), dtype=int64, numpy=array([1505692800])>), ('name', <tf.Tensor: shape=(1,), dtype=string, numpy=array([b'FeSTa'], dtype=object)>), ('num_albums', <tf.Tensor: shape=(1,), dtype=int64, numpy=array([82])>), ('num_artists', <tf.Tensor: shape=(1,), dtype=int64, numpy=array([66])>), ('num_edits', <tf.Tensor: shape=(1,), dtype=int64, numpy=array([48])>), ('num_followers', <tf.Tensor: shape=(1,), dtype=int64, numpy=array([1])>), ('num_tracks', <tf.Tensor: shape=(1,), dtype=int64, numpy=array([85])>), ('pos', <tf.Tensor: shape=(1,), dtype=string, numpy=array([b'45'], dtype=object)>), ('track_name', <tf.Tensor: shape=(1,), dtype=string, numpy=array([b'The Helm - Carrot Green Remix'], dtype=object)>)])\n",
    "```"
   ]
  }
 ],
 "metadata": {
  "environment": {
   "kernel": "python3",
   "name": "tf2-gpu.2-3.m93",
   "type": "gcloud",
   "uri": "gcr.io/deeplearning-platform-release/tf2-gpu.2-3:m93"
  },
  "kernelspec": {
   "display_name": "Python 3",
   "language": "python",
   "name": "python3"
  },
  "language_info": {
   "codemirror_mode": {
    "name": "ipython",
    "version": 3
   },
   "file_extension": ".py",
   "mimetype": "text/x-python",
   "name": "python",
   "nbconvert_exporter": "python",
   "pygments_lexer": "ipython3",
   "version": "3.7.12"
  }
 },
 "nbformat": 4,
 "nbformat_minor": 5
}
