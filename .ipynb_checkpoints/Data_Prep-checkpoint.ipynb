{
 "cells": [
  {
   "cell_type": "code",
   "execution_count": null,
   "id": "b164df2d-3bb4-4ce2-a8a6-f72e262cc1e8",
   "metadata": {},
   "outputs": [],
   "source": [
    "%%bigquery\n",
    "create or replace table jtotten-project.spotify_mpd.playlists_nested_staging as \n",
    "(\n",
    "SELECT * EXCEPT(tracks), JSON_EXTRACT_ARRAY(tracks) as tracks FROM `jtotten-project.mdp_eda.playlists`)"
   ]
  },
  {
   "cell_type": "code",
   "execution_count": null,
   "id": "4039bcab-b27d-412e-af7b-663bc1ba8a6d",
   "metadata": {},
   "outputs": [],
   "source": [
    "%%bigquery\n",
    "SELECT * EXCEPT(tracks),\n",
    "    ARRAY(\n",
    "        SELECT STRUCT(\n",
    "        JSON_EXTRACT_SCALAR(jsn_ln, \"$.pos\") as pos, \n",
    "        JSON_EXTRACT_SCALAR(jsn_ln, \"$.artist_name\") as artist_name,\n",
    "        JSON_EXTRACT_SCALAR(jsn_ln, \"$.track_uri\") as track_uri,\n",
    "        JSON_EXTRACT_SCALAR(jsn_ln, \"$.artist_uri\") as artist_uri,\n",
    "        JSON_EXTRACT_SCALAR(jsn_ln, \"$.track_name\") as track_name,\n",
    "        JSON_EXTRACT_SCALAR(jsn_ln, \"$.album_uri\") as album_uri,\n",
    "        JSON_EXTRACT_SCALAR(jsn_ln, \"$.duration_ms\") as duration_ms,\n",
    "        JSON_EXTRACT_SCALAR(jsn_ln, \"$.album_name\") as album_name\n",
    " ) as tracks\n",
    "        from UNNEST(playlists_nested_staging.tracks) as jsn_ln)\n",
    " FROM jtotten-project.spotify_mpd.playlists_nested_staging"
   ]
  }
 ],
 "metadata": {
  "environment": {
   "kernel": "python3",
   "name": "tf2-gpu.2-8.m91",
   "type": "gcloud",
   "uri": "gcr.io/deeplearning-platform-release/tf2-gpu.2-8:m91"
  },
  "kernelspec": {
   "display_name": "Python 3",
   "language": "python",
   "name": "python3"
  },
  "language_info": {
   "codemirror_mode": {
    "name": "ipython",
    "version": 3
   },
   "file_extension": ".py",
   "mimetype": "text/x-python",
   "name": "python",
   "nbconvert_exporter": "python",
   "pygments_lexer": "ipython3",
   "version": "3.7.12"
  }
 },
 "nbformat": 4,
 "nbformat_minor": 5
}
