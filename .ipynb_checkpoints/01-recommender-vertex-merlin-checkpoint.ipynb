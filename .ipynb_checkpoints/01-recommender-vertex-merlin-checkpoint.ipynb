{
 "cells": [
  {
   "cell_type": "code",
   "execution_count": 1,
   "id": "25c20da6-d8ec-4018-a350-f053884fb185",
   "metadata": {},
   "outputs": [],
   "source": [
    "# !pip install matplotlib"
   ]
  },
  {
   "cell_type": "code",
   "execution_count": 2,
   "id": "8d747c47-2ded-4890-98b6-982884b701c6",
   "metadata": {},
   "outputs": [],
   "source": [
    "# !echo Y | pip uninstall merlin-models"
   ]
  },
  {
   "cell_type": "code",
   "execution_count": 3,
   "id": "67bf31e4-20ea-4f3d-8b42-970f05de31b2",
   "metadata": {},
   "outputs": [],
   "source": [
    "# !pip install git+https://github.com/NVIDIA-Merlin/models.git"
   ]
  },
  {
   "cell_type": "markdown",
   "id": "c2b13a21",
   "metadata": {
    "jp-MarkdownHeadingCollapsed": true,
    "tags": [],
    "toc-hr-collapsed": true
   },
   "source": [
    "# Environment Setup\n",
    "\n",
    "Push a Nvidia repo to your artifact repository - (create a new repo if not available)\n",
    "\n",
    "### Further instructions on how to build a Merlin container can be found [here](https://github.com/jswortz/merlin-gcp)\n",
    "\n",
    "Guide\n",
    "1. In an notebook instance run from a terminal `git clone https://github.com/jswortz/merlin-gcp`\n",
    "2. Run the notebook - this will build a merlin tensorflow image. You can change the base images from NVidia if you choose - this was tested from the version in the repo\n",
    "3. This will build a container image and save it to artifact registry repository. You may need to enable the artifact repository service\n",
    "4. Create a new custom workbench by clicking \"New Notebook\" > \"Customize\"\n",
    "\n",
    "<img src=\"img/custom_workbench.png\" width=\"500\"/>\n",
    "\n",
    "5. To get to the screen for artifact repository. First select \"Advanced\" then name, select region, then go to \"Environment\"\n",
    "\n",
    "<img src=\"img/workbench-environment.png\" width=\"500\"/>\n",
    "\n",
    "6. Select the your repo and respective image\n",
    "\n",
    "<img src=\"img/image.png\" width=\"500\"/>\n",
    "\n",
    "7. Finally, if you already followed the instructions in notebook 02 setup - make sure the new workbench network is in the VPC peered network used for matching engine\n",
    "\n",
    "# Training with Merlin\n",
    "\n",
    "## Spotify example\n",
    "\n",
    "Our goal is to enable the architecture below with Vertex AI and the Merlin Models framework\n",
    "\n",
    "![](img/arch.png)\n",
    "\n",
    "## Goals\n",
    "\n",
    "The goal of this notebook is to create a simple two tower model with Nvtabular and Merlin Models\n",
    "\n",
    "1. Export data to Parquet for use in Nvtabular\n",
    "2. Create a NVtabular workflow and fit it to the data\n",
    "3. Save the fitted workflow to GCS (contains all dictionary lookups)\n",
    "4. Transform the data into GPU-optimized features from the NVtabular workflow and save to gcs\n",
    "5. Load the data again as a Merlin dataset using the workflow\n",
    "6. Create a two tower model in a few lines of code\n",
    "7. Train a two tower model\n",
    "8. Save the model (for deployment in notebook 03)\n",
    "9. Export the embeddings and save to gcs (for deployment to matching engine)\n",
    "\n",
    "*Based heavily on [this](https://github.com/NVIDIA-Merlin/models/blob/main/examples/05-Retrieval-Model.ipynb) NVIDIA resource\n",
    "\n",
    "\n",
    "Data is loaded from BQ - to parquet using the job configuration below\n",
    "\n",
    "\n",
    "Info on the data\n",
    "\n",
    "* track_uri_seed counts: 2249561\n",
    "* artist_uri_seed counts: 294110\n",
    "* album_uri_seed counts: 730377"
   ]
  },
  {
   "cell_type": "markdown",
   "id": "a3ebae1b-c48f-4f16-a6b3-a49da98c2341",
   "metadata": {
    "tags": [],
    "toc-hr-collapsed": true
   },
   "source": [
    "# Export Data From BigQuery to Parquet on GCS"
   ]
  },
  {
   "cell_type": "code",
   "execution_count": 1,
   "id": "decc6184-2fd8-40d7-9a75-c186adfc24e5",
   "metadata": {},
   "outputs": [
    {
     "name": "stderr",
     "output_type": "stream",
     "text": [
      "/usr/lib/python3/dist-packages/requests/__init__.py:89: RequestsDependencyWarning: urllib3 (1.26.12) or chardet (3.0.4) doesn't match a supported version!\n",
      "  warnings.warn(\"urllib3 ({}) or chardet ({}) doesn't match a supported \"\n"
     ]
    }
   ],
   "source": [
    "PROJECT = 'hybrid-vertex'  # <--- TODO: CHANGE THIS\n",
    "LOCATION = 'us-central1' \n",
    "# path = 'gs://two-tower-models' #TODO change to your model directory\n",
    "BUCKET = 'gs://spotify-beam-v3'\n",
    "DATASET_ID = 'mdp_eda_test'\n",
    "TABLE = 'train_flatten_last_5'\n",
    "TABLE_VALIDATION = 'train_flatten_valid_last_5'\n",
    "\n",
    "from google.cloud import bigquery\n",
    "client = bigquery.Client()\n",
    "\n",
    "def export_bq_to_parquet(PROJECT, DATASET_ID, TABLE, LOCATION, prefix):\n",
    "    destination_uri = f\"{BUCKET}/{prefix}_data_parquet/*.snappy.parquet\"\n",
    "    dataset_ref = bigquery.DatasetReference(PROJECT, DATASET_ID)\n",
    "    table_ref = dataset_ref.table(TABLE)\n",
    "    job_config = bigquery.job.ExtractJobConfig()\n",
    "    job_config.destination_format = bigquery.DestinationFormat.PARQUET\n",
    "    extract_job = client.extract_table(\n",
    "        table_ref,\n",
    "        destination_uri,\n",
    "        job_config=job_config,\n",
    "        # Location must match that of the source table.\n",
    "        location=LOCATION,\n",
    "    )  # API request\n",
    "    return(extract_job.result())  # Waits for job to complete."
   ]
  },
  {
   "cell_type": "markdown",
   "id": "0d49217e-d2d9-4648-8562-9bfdea67be8b",
   "metadata": {},
   "source": [
    "#### Export the data from Bigquery to Parquet\n",
    "\n",
    "*Run only once* Uncomment to run"
   ]
  },
  {
   "cell_type": "code",
   "execution_count": 2,
   "id": "4d833ce5",
   "metadata": {},
   "outputs": [],
   "source": [
    "# # training\n",
    "# export_bq_to_parquet(PROJECT, DATASET_ID, TABLE, LOCATION, prefix='train')\n",
    "\n",
    "# # # validation\n",
    "# export_bq_to_parquet(PROJECT, DATASET_ID, TABLE_VALIDATION, LOCATION, prefix='valid')"
   ]
  },
  {
   "cell_type": "markdown",
   "id": "aac54435-6c4f-41fa-a8f9-2a947cc0f018",
   "metadata": {
    "tags": [],
    "toc-hr-collapsed": true
   },
   "source": [
    "# Create a NVTabular W orkflow To Preprocess The Data"
   ]
  },
  {
   "cell_type": "code",
   "execution_count": 3,
   "id": "2c4a0787",
   "metadata": {},
   "outputs": [
    {
     "name": "stderr",
     "output_type": "stream",
     "text": [
      "2022-10-26 18:34:33.583571: I tensorflow/core/util/util.cc:169] oneDNN custom operations are on. You may see slightly different numerical results due to floating-point round-off errors from different computation orders. To turn them off, set the environment variable `TF_ENABLE_ONEDNN_OPTS=0`.\n",
      "2022-10-26 18:34:35.445073: I tensorflow/core/platform/cpu_feature_guard.cc:194] This TensorFlow binary is optimized with oneAPI Deep Neural Network Library (oneDNN) to use the following CPU instructions in performance-critical operations:  SSE3 SSE4.1 SSE4.2 AVX\n",
      "To enable them in other operations, rebuild TensorFlow with the appropriate compiler flags.\n",
      "2022-10-26 18:34:36.856015: I tensorflow/core/common_runtime/gpu/gpu_device.cc:1532] Created device /job:localhost/replica:0/task:0/device:GPU:0 with 20480 MB memory:  -> device: 0, name: NVIDIA A100-SXM4-40GB, pci bus id: 0000:00:04.0, compute capability: 8.0\n",
      "2022-10-26 18:34:36.863628: I tensorflow/stream_executor/cuda/cuda_driver.cc:739] failed to allocate 20.00G (21474836480 bytes) from device: CUDA_ERROR_OUT_OF_MEMORY: out of memory\n",
      "2022-10-26 18:34:36.867035: I tensorflow/stream_executor/cuda/cuda_driver.cc:739] failed to allocate 18.00G (19327352832 bytes) from device: CUDA_ERROR_OUT_OF_MEMORY: out of memory\n",
      "/usr/local/lib/python3.8/dist-packages/tqdm/auto.py:22: TqdmWarning: IProgress not found. Please update jupyter and ipywidgets. See https://ipywidgets.readthedocs.io/en/stable/user_install.html\n",
      "  from .autonotebook import tqdm as notebook_tqdm\n"
     ]
    }
   ],
   "source": [
    "import os\n",
    "import nvtabular as nvt\n",
    "from time import time\n",
    "import pandas as pd\n",
    "# disable INFO and DEBUG logging everywhere\n",
    "import logging\n",
    "import time\n",
    "\n",
    "logging.disable(logging.WARNING)\n",
    "\n",
    "from nvtabular.ops import (\n",
    "    Categorify,\n",
    "    TagAsUserID,\n",
    "    TagAsItemID,\n",
    "    TagAsItemFeatures,\n",
    "    TagAsUserFeatures,\n",
    "    AddMetadata,\n",
    "    ListSlice\n",
    ")\n",
    "import nvtabular.ops as ops\n",
    "\n",
    "from merlin.schema.tags import Tags\n",
    "\n",
    "import merlin.models.tf as mm\n",
    "from merlin.io.dataset import Dataset\n",
    "import tensorflow as tf\n",
    "\n",
    "# for running this example on CPU, comment out the line below\n",
    "os.environ[\"TF_GPU_ALLOCATOR\"] = \"cuda_malloc_async\""
   ]
  },
  {
   "cell_type": "markdown",
   "id": "64962317",
   "metadata": {},
   "source": [
    "### Create NVTabular Dataset\n",
    "This will be our pre-processor to hash strings and other preprocessing"
   ]
  },
  {
   "cell_type": "code",
   "execution_count": 4,
   "id": "4c17d5fd",
   "metadata": {},
   "outputs": [],
   "source": [
    "train = nvt.Dataset(f\"{BUCKET}/train_data_parquet/*.snappy.parquet\")\n",
    "valid = nvt.Dataset(f\"{BUCKET}/valid_data_parquet/*.snappy.parquet\")"
   ]
  },
  {
   "cell_type": "markdown",
   "id": "edb299dc",
   "metadata": {},
   "source": [
    "#### Define the NVTabular preprocessing graph\n",
    "\n",
    "Nvtabular takes a tabular dataset and transforms the data into new Parquet files optimized for training. This is equivalent to running a string lookup in tensorflow, and has similar functionality as adpat when a workflow is used\n",
    "\n",
    "The graph is defined as a set of nodes and a node is defined as follows:\n",
    "\n",
    "``` \n",
    "NODE_NAME = LIST_OF_FEATURE_NAMES >> nvt.ops.* >> [NEXT_STEP] >> Tag\n",
    "```\n",
    "\n",
    "Nvt has many ops - one of the most notable is `Categorify` as it is flexible and converts high cardinality text features to indicies\n",
    "\n",
    "Tags are used as a means to label the schema in the metadata and serves as a label for merlin models to interpret for consumption (e.g. which features belong to the query tower and candidate tower have different tags). You will see the tags in the schema in examples below"
   ]
  },
  {
   "cell_type": "code",
   "execution_count": 5,
   "id": "9b6833b4",
   "metadata": {
    "scrolled": true,
    "tags": []
   },
   "outputs": [],
   "source": [
    "item_id = [\"track_uri_can\"] >> Categorify(dtype=\"int32\") >> TagAsItemID() \n",
    "playlist_id = [\"pid\"] >> Categorify(dtype=\"int32\") >> TagAsUserID() \n",
    "\n",
    "\n",
    "item_features_cat = ['artist_name_can',\n",
    "        'track_name_can',\n",
    "        'artist_genres_can',\n",
    "    ]\n",
    "\n",
    "item_features_cont = [\n",
    "        'duration_ms_can',\n",
    "        'track_pop_can',\n",
    "        'artist_pop_can',\n",
    "        'artist_followers_can',\n",
    "    ]\n",
    "\n",
    "playlist_features_cat = [\n",
    "        'description_pl',\n",
    "        'name',\n",
    "        'collaborative',\n",
    "    ]\n",
    "\n",
    "playlist_features_cont = [\n",
    "        'duration_ms_seed_pl',\n",
    "        'n_songs_pl',\n",
    "        'num_artists_pl',\n",
    "        'num_albums_pl',\n",
    "    ]\n",
    "\n",
    "seq_feats_cat = [\n",
    "        'artist_name_pl',\n",
    "        'track_uri_pl',\n",
    "        'track_name_pl',\n",
    "        'album_name_pl',\n",
    "        'artist_genres_pl',\n",
    "    ]\n",
    "\n",
    "CAT = playlist_features_cat + item_features_cat\n",
    "CONT = item_features_cont + playlist_features_cont\n",
    "\n",
    "item_feature_cat_node = item_features_cat >> nvt.ops.FillMissing()>> Categorify(dtype=\"int32\") >> TagAsItemFeatures()\n",
    "\n",
    "item_feature_cont_node =  item_features_cont >> nvt.ops.FillMissing() >>  nvt.ops.Normalize() >> TagAsItemFeatures()\n",
    "\n",
    "playlist_feature_cat_node = playlist_features_cat >> nvt.ops.FillMissing() >> Categorify(dtype=\"int32\") >> TagAsUserFeatures() \n",
    "\n",
    "playlist_feature_cont_node = playlist_features_cont >> nvt.ops.FillMissing() >>  nvt.ops.Normalize() >> TagAsUserFeatures()\n",
    "\n",
    "playlist_feature_cat_seq_node = seq_feats_cat >> nvt.ops.FillMissing() >> Categorify(dtype=\"int32\") >> TagAsUserFeatures() "
   ]
  },
  {
   "cell_type": "markdown",
   "id": "17b6d819-38c9-4973-9cc5-a86af987b340",
   "metadata": {},
   "source": [
    "### Define a workflow\n",
    "This is an easy step by adding all nodes that need to run in parallel. A graphviz visualization of the graph is available below"
   ]
  },
  {
   "cell_type": "code",
   "execution_count": 6,
   "id": "1744279e",
   "metadata": {},
   "outputs": [],
   "source": [
    "# define a workflow\n",
    "output = playlist_id + item_id \\\n",
    "+ item_feature_cat_node \\\n",
    "+ item_feature_cont_node \\\n",
    "+ playlist_feature_cat_node \\\n",
    "+ playlist_feature_cont_node \\\n",
    "+ playlist_feature_cat_seq_node \n",
    "\n",
    "\n",
    "workflow = nvt.Workflow(output)"
   ]
  },
  {
   "cell_type": "code",
   "execution_count": 7,
   "id": "2b842eee",
   "metadata": {},
   "outputs": [
    {
     "data": {
      "image/svg+xml": [
       "<?xml version=\"1.0\" encoding=\"UTF-8\" standalone=\"no\"?>\n",
       "<!DOCTYPE svg PUBLIC \"-//W3C//DTD SVG 1.1//EN\"\n",
       " \"http://www.w3.org/Graphics/SVG/1.1/DTD/svg11.dtd\">\n",
       "<!-- Generated by graphviz version 2.43.0 (0)\n",
       " -->\n",
       "<!-- Title: %3 Pages: 1 -->\n",
       "<svg width=\"3221pt\" height=\"476pt\"\n",
       " viewBox=\"0.00 0.00 3221.45 476.00\" xmlns=\"http://www.w3.org/2000/svg\" xmlns:xlink=\"http://www.w3.org/1999/xlink\">\n",
       "<g id=\"graph0\" class=\"graph\" transform=\"scale(1 1) rotate(0) translate(4 472)\">\n",
       "<title>%3</title>\n",
       "<polygon fill=\"white\" stroke=\"transparent\" points=\"-4,4 -4,-472 3217.45,-472 3217.45,4 -4,4\"/>\n",
       "<!-- 0 -->\n",
       "<g id=\"node1\" class=\"node\">\n",
       "<title>0</title>\n",
       "<ellipse fill=\"none\" stroke=\"black\" cx=\"2175.33\" cy=\"-162\" rx=\"71.49\" ry=\"18\"/>\n",
       "<text text-anchor=\"middle\" x=\"2175.33\" y=\"-158.3\" font-family=\"Times,serif\" font-size=\"14.00\">TagAsUserID</text>\n",
       "</g>\n",
       "<!-- 22 -->\n",
       "<g id=\"node31\" class=\"node\">\n",
       "<title>22</title>\n",
       "<ellipse fill=\"none\" stroke=\"black\" cx=\"1604.33\" cy=\"-90\" rx=\"27\" ry=\"18\"/>\n",
       "<text text-anchor=\"middle\" x=\"1604.33\" y=\"-86.3\" font-family=\"Times,serif\" font-size=\"14.00\">+</text>\n",
       "</g>\n",
       "<!-- 0&#45;&gt;22 -->\n",
       "<g id=\"edge23\" class=\"edge\">\n",
       "<title>0&#45;&gt;22</title>\n",
       "<path fill=\"none\" stroke=\"black\" d=\"M2124.26,-149.34C2114.68,-147.38 2104.73,-145.5 2095.33,-144 1926.63,-117.04 1723.07,-99.94 1641.13,-93.68\"/>\n",
       "<polygon fill=\"black\" stroke=\"black\" points=\"1641.31,-90.19 1631.07,-92.92 1640.78,-97.17 1641.31,-90.19\"/>\n",
       "</g>\n",
       "<!-- 26 -->\n",
       "<g id=\"node2\" class=\"node\">\n",
       "<title>26</title>\n",
       "<ellipse fill=\"none\" stroke=\"black\" cx=\"2175.33\" cy=\"-234\" rx=\"59.59\" ry=\"18\"/>\n",
       "<text text-anchor=\"middle\" x=\"2175.33\" y=\"-230.3\" font-family=\"Times,serif\" font-size=\"14.00\">Categorify</text>\n",
       "</g>\n",
       "<!-- 26&#45;&gt;0 -->\n",
       "<g id=\"edge1\" class=\"edge\">\n",
       "<title>26&#45;&gt;0</title>\n",
       "<path fill=\"none\" stroke=\"black\" d=\"M2175.33,-215.7C2175.33,-207.98 2175.33,-198.71 2175.33,-190.11\"/>\n",
       "<polygon fill=\"black\" stroke=\"black\" points=\"2178.83,-190.1 2175.33,-180.1 2171.83,-190.1 2178.83,-190.1\"/>\n",
       "</g>\n",
       "<!-- 1 -->\n",
       "<g id=\"node3\" class=\"node\">\n",
       "<title>1</title>\n",
       "<ellipse fill=\"none\" stroke=\"black\" cx=\"655.33\" cy=\"-162\" rx=\"102.08\" ry=\"18\"/>\n",
       "<text text-anchor=\"middle\" x=\"655.33\" y=\"-158.3\" font-family=\"Times,serif\" font-size=\"14.00\">TagAsUserFeatures</text>\n",
       "</g>\n",
       "<!-- 1&#45;&gt;22 -->\n",
       "<g id=\"edge27\" class=\"edge\">\n",
       "<title>1&#45;&gt;22</title>\n",
       "<path fill=\"none\" stroke=\"black\" d=\"M747.62,-154.19C950.99,-139.19 1430.53,-103.82 1567.32,-93.73\"/>\n",
       "<polygon fill=\"black\" stroke=\"black\" points=\"1567.59,-97.22 1577.3,-92.99 1567.07,-90.24 1567.59,-97.22\"/>\n",
       "</g>\n",
       "<!-- 25 -->\n",
       "<g id=\"node4\" class=\"node\">\n",
       "<title>25</title>\n",
       "<ellipse fill=\"none\" stroke=\"black\" cx=\"559.33\" cy=\"-234\" rx=\"59.59\" ry=\"18\"/>\n",
       "<text text-anchor=\"middle\" x=\"559.33\" y=\"-230.3\" font-family=\"Times,serif\" font-size=\"14.00\">Categorify</text>\n",
       "</g>\n",
       "<!-- 25&#45;&gt;1 -->\n",
       "<g id=\"edge2\" class=\"edge\">\n",
       "<title>25&#45;&gt;1</title>\n",
       "<path fill=\"none\" stroke=\"black\" d=\"M581.12,-217.12C593.85,-207.83 610.14,-195.95 624.21,-185.69\"/>\n",
       "<polygon fill=\"black\" stroke=\"black\" points=\"626.62,-188.27 632.63,-179.55 622.49,-182.62 626.62,-188.27\"/>\n",
       "</g>\n",
       "<!-- 2 -->\n",
       "<g id=\"node5\" class=\"node\">\n",
       "<title>2</title>\n",
       "<ellipse fill=\"none\" stroke=\"black\" cx=\"788.33\" cy=\"-378\" rx=\"66.89\" ry=\"18\"/>\n",
       "<text text-anchor=\"middle\" x=\"788.33\" y=\"-374.3\" font-family=\"Times,serif\" font-size=\"14.00\">SelectionOp</text>\n",
       "</g>\n",
       "<!-- 4 -->\n",
       "<g id=\"node9\" class=\"node\">\n",
       "<title>4</title>\n",
       "<ellipse fill=\"none\" stroke=\"black\" cx=\"868.33\" cy=\"-306\" rx=\"62.29\" ry=\"18\"/>\n",
       "<text text-anchor=\"middle\" x=\"868.33\" y=\"-302.3\" font-family=\"Times,serif\" font-size=\"14.00\">FillMissing</text>\n",
       "</g>\n",
       "<!-- 2&#45;&gt;4 -->\n",
       "<g id=\"edge5\" class=\"edge\">\n",
       "<title>2&#45;&gt;4</title>\n",
       "<path fill=\"none\" stroke=\"black\" d=\"M807.29,-360.41C817.73,-351.28 830.84,-339.81 842.23,-329.84\"/>\n",
       "<polygon fill=\"black\" stroke=\"black\" points=\"844.56,-332.45 849.79,-323.23 839.96,-327.18 844.56,-332.45\"/>\n",
       "</g>\n",
       "<!-- 2_selector -->\n",
       "<g id=\"node6\" class=\"node\">\n",
       "<title>2_selector</title>\n",
       "<ellipse fill=\"none\" stroke=\"black\" cx=\"748.33\" cy=\"-450\" rx=\"341.44\" ry=\"18\"/>\n",
       "<text text-anchor=\"middle\" x=\"748.33\" y=\"-446.3\" font-family=\"Times,serif\" font-size=\"14.00\">[&#39;duration_ms_seed_pl&#39;, &#39;n_songs_pl&#39;, &#39;num_artists_pl&#39;, &#39;num_albums_pl&#39;]</text>\n",
       "</g>\n",
       "<!-- 2_selector&#45;&gt;2 -->\n",
       "<g id=\"edge3\" class=\"edge\">\n",
       "<title>2_selector&#45;&gt;2</title>\n",
       "<path fill=\"none\" stroke=\"black\" d=\"M758.22,-431.7C762.82,-423.64 768.39,-413.89 773.49,-404.98\"/>\n",
       "<polygon fill=\"black\" stroke=\"black\" points=\"776.64,-406.52 778.56,-396.1 770.56,-403.05 776.64,-406.52\"/>\n",
       "</g>\n",
       "<!-- 3 -->\n",
       "<g id=\"node7\" class=\"node\">\n",
       "<title>3</title>\n",
       "<ellipse fill=\"none\" stroke=\"black\" cx=\"1383.33\" cy=\"-378\" rx=\"66.89\" ry=\"18\"/>\n",
       "<text text-anchor=\"middle\" x=\"1383.33\" y=\"-374.3\" font-family=\"Times,serif\" font-size=\"14.00\">SelectionOp</text>\n",
       "</g>\n",
       "<!-- 5 -->\n",
       "<g id=\"node10\" class=\"node\">\n",
       "<title>5</title>\n",
       "<ellipse fill=\"none\" stroke=\"black\" cx=\"1383.33\" cy=\"-306\" rx=\"62.29\" ry=\"18\"/>\n",
       "<text text-anchor=\"middle\" x=\"1383.33\" y=\"-302.3\" font-family=\"Times,serif\" font-size=\"14.00\">FillMissing</text>\n",
       "</g>\n",
       "<!-- 3&#45;&gt;5 -->\n",
       "<g id=\"edge6\" class=\"edge\">\n",
       "<title>3&#45;&gt;5</title>\n",
       "<path fill=\"none\" stroke=\"black\" d=\"M1383.33,-359.7C1383.33,-351.98 1383.33,-342.71 1383.33,-334.11\"/>\n",
       "<polygon fill=\"black\" stroke=\"black\" points=\"1386.83,-334.1 1383.33,-324.1 1379.83,-334.1 1386.83,-334.1\"/>\n",
       "</g>\n",
       "<!-- 3_selector -->\n",
       "<g id=\"node8\" class=\"node\">\n",
       "<title>3_selector</title>\n",
       "<ellipse fill=\"none\" stroke=\"black\" cx=\"1383.33\" cy=\"-450\" rx=\"275.65\" ry=\"18\"/>\n",
       "<text text-anchor=\"middle\" x=\"1383.33\" y=\"-446.3\" font-family=\"Times,serif\" font-size=\"14.00\">[&#39;artist_name_can&#39;, &#39;track_name_can&#39;, &#39;artist_genres_can&#39;]</text>\n",
       "</g>\n",
       "<!-- 3_selector&#45;&gt;3 -->\n",
       "<g id=\"edge4\" class=\"edge\">\n",
       "<title>3_selector&#45;&gt;3</title>\n",
       "<path fill=\"none\" stroke=\"black\" d=\"M1383.33,-431.7C1383.33,-423.98 1383.33,-414.71 1383.33,-406.11\"/>\n",
       "<polygon fill=\"black\" stroke=\"black\" points=\"1386.83,-406.1 1383.33,-396.1 1379.83,-406.1 1386.83,-406.1\"/>\n",
       "</g>\n",
       "<!-- 6 -->\n",
       "<g id=\"node11\" class=\"node\">\n",
       "<title>6</title>\n",
       "<ellipse fill=\"none\" stroke=\"black\" cx=\"1027.33\" cy=\"-234\" rx=\"58.49\" ry=\"18\"/>\n",
       "<text text-anchor=\"middle\" x=\"1027.33\" y=\"-230.3\" font-family=\"Times,serif\" font-size=\"14.00\">Normalize</text>\n",
       "</g>\n",
       "<!-- 4&#45;&gt;6 -->\n",
       "<g id=\"edge7\" class=\"edge\">\n",
       "<title>4&#45;&gt;6</title>\n",
       "<path fill=\"none\" stroke=\"black\" d=\"M901.28,-290.5C925.82,-279.69 959.51,-264.86 985.89,-253.25\"/>\n",
       "<polygon fill=\"black\" stroke=\"black\" points=\"987.5,-256.36 995.24,-249.13 984.68,-249.95 987.5,-256.36\"/>\n",
       "</g>\n",
       "<!-- 7 -->\n",
       "<g id=\"node12\" class=\"node\">\n",
       "<title>7</title>\n",
       "<ellipse fill=\"none\" stroke=\"black\" cx=\"1383.33\" cy=\"-234\" rx=\"59.59\" ry=\"18\"/>\n",
       "<text text-anchor=\"middle\" x=\"1383.33\" y=\"-230.3\" font-family=\"Times,serif\" font-size=\"14.00\">Categorify</text>\n",
       "</g>\n",
       "<!-- 5&#45;&gt;7 -->\n",
       "<g id=\"edge8\" class=\"edge\">\n",
       "<title>5&#45;&gt;7</title>\n",
       "<path fill=\"none\" stroke=\"black\" d=\"M1383.33,-287.7C1383.33,-279.98 1383.33,-270.71 1383.33,-262.11\"/>\n",
       "<polygon fill=\"black\" stroke=\"black\" points=\"1386.83,-262.1 1383.33,-252.1 1379.83,-262.1 1386.83,-262.1\"/>\n",
       "</g>\n",
       "<!-- 8 -->\n",
       "<g id=\"node13\" class=\"node\">\n",
       "<title>8</title>\n",
       "<ellipse fill=\"none\" stroke=\"black\" cx=\"1067.33\" cy=\"-162\" rx=\"102.08\" ry=\"18\"/>\n",
       "<text text-anchor=\"middle\" x=\"1067.33\" y=\"-158.3\" font-family=\"Times,serif\" font-size=\"14.00\">TagAsUserFeatures</text>\n",
       "</g>\n",
       "<!-- 6&#45;&gt;8 -->\n",
       "<g id=\"edge9\" class=\"edge\">\n",
       "<title>6&#45;&gt;8</title>\n",
       "<path fill=\"none\" stroke=\"black\" d=\"M1037.02,-216.05C1041.61,-208.01 1047.22,-198.2 1052.35,-189.23\"/>\n",
       "<polygon fill=\"black\" stroke=\"black\" points=\"1055.54,-190.69 1057.46,-180.28 1049.46,-187.22 1055.54,-190.69\"/>\n",
       "</g>\n",
       "<!-- 9 -->\n",
       "<g id=\"node14\" class=\"node\">\n",
       "<title>9</title>\n",
       "<ellipse fill=\"none\" stroke=\"black\" cx=\"1383.33\" cy=\"-162\" rx=\"100.98\" ry=\"18\"/>\n",
       "<text text-anchor=\"middle\" x=\"1383.33\" y=\"-158.3\" font-family=\"Times,serif\" font-size=\"14.00\">TagAsItemFeatures</text>\n",
       "</g>\n",
       "<!-- 7&#45;&gt;9 -->\n",
       "<g id=\"edge10\" class=\"edge\">\n",
       "<title>7&#45;&gt;9</title>\n",
       "<path fill=\"none\" stroke=\"black\" d=\"M1383.33,-215.7C1383.33,-207.98 1383.33,-198.71 1383.33,-190.11\"/>\n",
       "<polygon fill=\"black\" stroke=\"black\" points=\"1386.83,-190.1 1383.33,-180.1 1379.83,-190.1 1386.83,-190.1\"/>\n",
       "</g>\n",
       "<!-- 8&#45;&gt;22 -->\n",
       "<g id=\"edge28\" class=\"edge\">\n",
       "<title>8&#45;&gt;22</title>\n",
       "<path fill=\"none\" stroke=\"black\" d=\"M1146.86,-150.63C1264.99,-135.23 1482.12,-106.93 1568,-95.74\"/>\n",
       "<polygon fill=\"black\" stroke=\"black\" points=\"1568.58,-99.19 1578.04,-94.43 1567.67,-92.25 1568.58,-99.19\"/>\n",
       "</g>\n",
       "<!-- 9&#45;&gt;22 -->\n",
       "<g id=\"edge25\" class=\"edge\">\n",
       "<title>9&#45;&gt;22</title>\n",
       "<path fill=\"none\" stroke=\"black\" d=\"M1430.47,-146.07C1472.53,-132.75 1533.1,-113.56 1570.52,-101.71\"/>\n",
       "<polygon fill=\"black\" stroke=\"black\" points=\"1571.95,-104.93 1580.42,-98.57 1569.83,-98.26 1571.95,-104.93\"/>\n",
       "</g>\n",
       "<!-- 10 -->\n",
       "<g id=\"node15\" class=\"node\">\n",
       "<title>10</title>\n",
       "<ellipse fill=\"none\" stroke=\"black\" cx=\"1674.33\" cy=\"-378\" rx=\"66.89\" ry=\"18\"/>\n",
       "<text text-anchor=\"middle\" x=\"1674.33\" y=\"-374.3\" font-family=\"Times,serif\" font-size=\"14.00\">SelectionOp</text>\n",
       "</g>\n",
       "<!-- 12 -->\n",
       "<g id=\"node19\" class=\"node\">\n",
       "<title>12</title>\n",
       "<ellipse fill=\"none\" stroke=\"black\" cx=\"1640.33\" cy=\"-306\" rx=\"62.29\" ry=\"18\"/>\n",
       "<text text-anchor=\"middle\" x=\"1640.33\" y=\"-302.3\" font-family=\"Times,serif\" font-size=\"14.00\">FillMissing</text>\n",
       "</g>\n",
       "<!-- 10&#45;&gt;12 -->\n",
       "<g id=\"edge13\" class=\"edge\">\n",
       "<title>10&#45;&gt;12</title>\n",
       "<path fill=\"none\" stroke=\"black\" d=\"M1666.1,-360.05C1662.23,-352.09 1657.53,-342.41 1653.21,-333.51\"/>\n",
       "<polygon fill=\"black\" stroke=\"black\" points=\"1656.24,-331.74 1648.72,-324.28 1649.94,-334.8 1656.24,-331.74\"/>\n",
       "</g>\n",
       "<!-- 10_selector -->\n",
       "<g id=\"node16\" class=\"node\">\n",
       "<title>10_selector</title>\n",
       "<ellipse fill=\"none\" stroke=\"black\" cx=\"2078.33\" cy=\"-450\" rx=\"401.03\" ry=\"18\"/>\n",
       "<text text-anchor=\"middle\" x=\"2078.33\" y=\"-446.3\" font-family=\"Times,serif\" font-size=\"14.00\">[&#39;artist_name_pl&#39;, &#39;track_uri_pl&#39;, &#39;track_name_pl&#39;, &#39;album_name_pl&#39;, &#39;artist_genres_pl&#39;]</text>\n",
       "</g>\n",
       "<!-- 10_selector&#45;&gt;10 -->\n",
       "<g id=\"edge11\" class=\"edge\">\n",
       "<title>10_selector&#45;&gt;10</title>\n",
       "<path fill=\"none\" stroke=\"black\" d=\"M1979.88,-432.53C1918.69,-422.22 1838.39,-408.55 1767.33,-396 1757.86,-394.33 1747.84,-392.53 1738.03,-390.75\"/>\n",
       "<polygon fill=\"black\" stroke=\"black\" points=\"1738.38,-387.25 1727.92,-388.91 1737.13,-394.14 1738.38,-387.25\"/>\n",
       "</g>\n",
       "<!-- 11 -->\n",
       "<g id=\"node17\" class=\"node\">\n",
       "<title>11</title>\n",
       "<ellipse fill=\"none\" stroke=\"black\" cx=\"1843.33\" cy=\"-378\" rx=\"66.89\" ry=\"18\"/>\n",
       "<text text-anchor=\"middle\" x=\"1843.33\" y=\"-374.3\" font-family=\"Times,serif\" font-size=\"14.00\">SelectionOp</text>\n",
       "</g>\n",
       "<!-- 13 -->\n",
       "<g id=\"node20\" class=\"node\">\n",
       "<title>13</title>\n",
       "<ellipse fill=\"none\" stroke=\"black\" cx=\"1833.33\" cy=\"-306\" rx=\"62.29\" ry=\"18\"/>\n",
       "<text text-anchor=\"middle\" x=\"1833.33\" y=\"-302.3\" font-family=\"Times,serif\" font-size=\"14.00\">FillMissing</text>\n",
       "</g>\n",
       "<!-- 11&#45;&gt;13 -->\n",
       "<g id=\"edge14\" class=\"edge\">\n",
       "<title>11&#45;&gt;13</title>\n",
       "<path fill=\"none\" stroke=\"black\" d=\"M1840.86,-359.7C1839.76,-351.98 1838.43,-342.71 1837.21,-334.11\"/>\n",
       "<polygon fill=\"black\" stroke=\"black\" points=\"1840.66,-333.51 1835.78,-324.1 1833.73,-334.5 1840.66,-333.51\"/>\n",
       "</g>\n",
       "<!-- 11_selector -->\n",
       "<g id=\"node18\" class=\"node\">\n",
       "<title>11_selector</title>\n",
       "<ellipse fill=\"none\" stroke=\"black\" cx=\"2855.33\" cy=\"-450\" rx=\"358.24\" ry=\"18\"/>\n",
       "<text text-anchor=\"middle\" x=\"2855.33\" y=\"-446.3\" font-family=\"Times,serif\" font-size=\"14.00\">[&#39;duration_ms_can&#39;, &#39;track_pop_can&#39;, &#39;artist_pop_can&#39;, &#39;artist_followers_can&#39;]</text>\n",
       "</g>\n",
       "<!-- 11_selector&#45;&gt;11 -->\n",
       "<g id=\"edge12\" class=\"edge\">\n",
       "<title>11_selector&#45;&gt;11</title>\n",
       "<path fill=\"none\" stroke=\"black\" d=\"M2608.3,-436.95C2354.84,-424.27 1988.45,-404.94 1922.33,-396 1915.61,-395.09 1908.6,-393.92 1901.66,-392.61\"/>\n",
       "<polygon fill=\"black\" stroke=\"black\" points=\"1902.08,-389.13 1891.59,-390.63 1900.72,-396 1902.08,-389.13\"/>\n",
       "</g>\n",
       "<!-- 14 -->\n",
       "<g id=\"node21\" class=\"node\">\n",
       "<title>14</title>\n",
       "<ellipse fill=\"none\" stroke=\"black\" cx=\"1618.33\" cy=\"-234\" rx=\"59.59\" ry=\"18\"/>\n",
       "<text text-anchor=\"middle\" x=\"1618.33\" y=\"-230.3\" font-family=\"Times,serif\" font-size=\"14.00\">Categorify</text>\n",
       "</g>\n",
       "<!-- 12&#45;&gt;14 -->\n",
       "<g id=\"edge15\" class=\"edge\">\n",
       "<title>12&#45;&gt;14</title>\n",
       "<path fill=\"none\" stroke=\"black\" d=\"M1635.01,-288.05C1632.56,-280.26 1629.59,-270.82 1626.84,-262.08\"/>\n",
       "<polygon fill=\"black\" stroke=\"black\" points=\"1630.1,-260.77 1623.76,-252.28 1623.42,-262.86 1630.1,-260.77\"/>\n",
       "</g>\n",
       "<!-- 16 -->\n",
       "<g id=\"node24\" class=\"node\">\n",
       "<title>16</title>\n",
       "<ellipse fill=\"none\" stroke=\"black\" cx=\"1828.33\" cy=\"-234\" rx=\"58.49\" ry=\"18\"/>\n",
       "<text text-anchor=\"middle\" x=\"1828.33\" y=\"-230.3\" font-family=\"Times,serif\" font-size=\"14.00\">Normalize</text>\n",
       "</g>\n",
       "<!-- 13&#45;&gt;16 -->\n",
       "<g id=\"edge17\" class=\"edge\">\n",
       "<title>13&#45;&gt;16</title>\n",
       "<path fill=\"none\" stroke=\"black\" d=\"M1832.1,-287.7C1831.55,-279.98 1830.88,-270.71 1830.27,-262.11\"/>\n",
       "<polygon fill=\"black\" stroke=\"black\" points=\"1833.76,-261.83 1829.55,-252.1 1826.78,-262.33 1833.76,-261.83\"/>\n",
       "</g>\n",
       "<!-- 17 -->\n",
       "<g id=\"node25\" class=\"node\">\n",
       "<title>17</title>\n",
       "<ellipse fill=\"none\" stroke=\"black\" cx=\"1604.33\" cy=\"-162\" rx=\"102.08\" ry=\"18\"/>\n",
       "<text text-anchor=\"middle\" x=\"1604.33\" y=\"-158.3\" font-family=\"Times,serif\" font-size=\"14.00\">TagAsUserFeatures</text>\n",
       "</g>\n",
       "<!-- 14&#45;&gt;17 -->\n",
       "<g id=\"edge18\" class=\"edge\">\n",
       "<title>14&#45;&gt;17</title>\n",
       "<path fill=\"none\" stroke=\"black\" d=\"M1614.87,-215.7C1613.33,-207.98 1611.48,-198.71 1609.76,-190.11\"/>\n",
       "<polygon fill=\"black\" stroke=\"black\" points=\"1613.15,-189.22 1607.75,-180.1 1606.28,-190.6 1613.15,-189.22\"/>\n",
       "</g>\n",
       "<!-- 15 -->\n",
       "<g id=\"node22\" class=\"node\">\n",
       "<title>15</title>\n",
       "<ellipse fill=\"none\" stroke=\"black\" cx=\"2015.33\" cy=\"-306\" rx=\"66.89\" ry=\"18\"/>\n",
       "<text text-anchor=\"middle\" x=\"2015.33\" y=\"-302.3\" font-family=\"Times,serif\" font-size=\"14.00\">SelectionOp</text>\n",
       "</g>\n",
       "<!-- 18 -->\n",
       "<g id=\"node26\" class=\"node\">\n",
       "<title>18</title>\n",
       "<ellipse fill=\"none\" stroke=\"black\" cx=\"2015.33\" cy=\"-234\" rx=\"59.59\" ry=\"18\"/>\n",
       "<text text-anchor=\"middle\" x=\"2015.33\" y=\"-230.3\" font-family=\"Times,serif\" font-size=\"14.00\">Categorify</text>\n",
       "</g>\n",
       "<!-- 15&#45;&gt;18 -->\n",
       "<g id=\"edge19\" class=\"edge\">\n",
       "<title>15&#45;&gt;18</title>\n",
       "<path fill=\"none\" stroke=\"black\" d=\"M2015.33,-287.7C2015.33,-279.98 2015.33,-270.71 2015.33,-262.11\"/>\n",
       "<polygon fill=\"black\" stroke=\"black\" points=\"2018.83,-262.1 2015.33,-252.1 2011.83,-262.1 2018.83,-262.1\"/>\n",
       "</g>\n",
       "<!-- 15_selector -->\n",
       "<g id=\"node23\" class=\"node\">\n",
       "<title>15_selector</title>\n",
       "<ellipse fill=\"none\" stroke=\"black\" cx=\"2015.33\" cy=\"-378\" rx=\"84.49\" ry=\"18\"/>\n",
       "<text text-anchor=\"middle\" x=\"2015.33\" y=\"-374.3\" font-family=\"Times,serif\" font-size=\"14.00\">[&#39;track_uri_can&#39;]</text>\n",
       "</g>\n",
       "<!-- 15_selector&#45;&gt;15 -->\n",
       "<g id=\"edge16\" class=\"edge\">\n",
       "<title>15_selector&#45;&gt;15</title>\n",
       "<path fill=\"none\" stroke=\"black\" d=\"M2015.33,-359.7C2015.33,-351.98 2015.33,-342.71 2015.33,-334.11\"/>\n",
       "<polygon fill=\"black\" stroke=\"black\" points=\"2018.83,-334.1 2015.33,-324.1 2011.83,-334.1 2018.83,-334.1\"/>\n",
       "</g>\n",
       "<!-- 19 -->\n",
       "<g id=\"node27\" class=\"node\">\n",
       "<title>19</title>\n",
       "<ellipse fill=\"none\" stroke=\"black\" cx=\"1825.33\" cy=\"-162\" rx=\"100.98\" ry=\"18\"/>\n",
       "<text text-anchor=\"middle\" x=\"1825.33\" y=\"-158.3\" font-family=\"Times,serif\" font-size=\"14.00\">TagAsItemFeatures</text>\n",
       "</g>\n",
       "<!-- 16&#45;&gt;19 -->\n",
       "<g id=\"edge20\" class=\"edge\">\n",
       "<title>16&#45;&gt;19</title>\n",
       "<path fill=\"none\" stroke=\"black\" d=\"M1827.59,-215.7C1827.26,-207.98 1826.86,-198.71 1826.49,-190.11\"/>\n",
       "<polygon fill=\"black\" stroke=\"black\" points=\"1829.99,-189.95 1826.07,-180.1 1823,-190.25 1829.99,-189.95\"/>\n",
       "</g>\n",
       "<!-- 17&#45;&gt;22 -->\n",
       "<g id=\"edge29\" class=\"edge\">\n",
       "<title>17&#45;&gt;22</title>\n",
       "<path fill=\"none\" stroke=\"black\" d=\"M1604.33,-143.7C1604.33,-135.98 1604.33,-126.71 1604.33,-118.11\"/>\n",
       "<polygon fill=\"black\" stroke=\"black\" points=\"1607.83,-118.1 1604.33,-108.1 1600.83,-118.1 1607.83,-118.1\"/>\n",
       "</g>\n",
       "<!-- 20 -->\n",
       "<g id=\"node28\" class=\"node\">\n",
       "<title>20</title>\n",
       "<ellipse fill=\"none\" stroke=\"black\" cx=\"2015.33\" cy=\"-162\" rx=\"70.69\" ry=\"18\"/>\n",
       "<text text-anchor=\"middle\" x=\"2015.33\" y=\"-158.3\" font-family=\"Times,serif\" font-size=\"14.00\">TagAsItemID</text>\n",
       "</g>\n",
       "<!-- 18&#45;&gt;20 -->\n",
       "<g id=\"edge21\" class=\"edge\">\n",
       "<title>18&#45;&gt;20</title>\n",
       "<path fill=\"none\" stroke=\"black\" d=\"M2015.33,-215.7C2015.33,-207.98 2015.33,-198.71 2015.33,-190.11\"/>\n",
       "<polygon fill=\"black\" stroke=\"black\" points=\"2018.83,-190.1 2015.33,-180.1 2011.83,-190.1 2018.83,-190.1\"/>\n",
       "</g>\n",
       "<!-- 19&#45;&gt;22 -->\n",
       "<g id=\"edge26\" class=\"edge\">\n",
       "<title>19&#45;&gt;22</title>\n",
       "<path fill=\"none\" stroke=\"black\" d=\"M1778.19,-146.07C1736.13,-132.75 1675.57,-113.56 1638.15,-101.71\"/>\n",
       "<polygon fill=\"black\" stroke=\"black\" points=\"1638.83,-98.26 1628.24,-98.57 1636.72,-104.93 1638.83,-98.26\"/>\n",
       "</g>\n",
       "<!-- 20&#45;&gt;22 -->\n",
       "<g id=\"edge24\" class=\"edge\">\n",
       "<title>20&#45;&gt;22</title>\n",
       "<path fill=\"none\" stroke=\"black\" d=\"M1963.77,-149.64C1954.33,-147.68 1944.55,-145.72 1935.33,-144 1828.51,-124.11 1701.45,-105.04 1640.49,-96.18\"/>\n",
       "<polygon fill=\"black\" stroke=\"black\" points=\"1640.98,-92.71 1630.58,-94.74 1639.98,-99.64 1640.98,-92.71\"/>\n",
       "</g>\n",
       "<!-- 21 -->\n",
       "<g id=\"node29\" class=\"node\">\n",
       "<title>21</title>\n",
       "<ellipse fill=\"none\" stroke=\"black\" cx=\"246.33\" cy=\"-378\" rx=\"66.89\" ry=\"18\"/>\n",
       "<text text-anchor=\"middle\" x=\"246.33\" y=\"-374.3\" font-family=\"Times,serif\" font-size=\"14.00\">SelectionOp</text>\n",
       "</g>\n",
       "<!-- 24 -->\n",
       "<g id=\"node34\" class=\"node\">\n",
       "<title>24</title>\n",
       "<ellipse fill=\"none\" stroke=\"black\" cx=\"350.33\" cy=\"-306\" rx=\"62.29\" ry=\"18\"/>\n",
       "<text text-anchor=\"middle\" x=\"350.33\" y=\"-302.3\" font-family=\"Times,serif\" font-size=\"14.00\">FillMissing</text>\n",
       "</g>\n",
       "<!-- 21&#45;&gt;24 -->\n",
       "<g id=\"edge31\" class=\"edge\">\n",
       "<title>21&#45;&gt;24</title>\n",
       "<path fill=\"none\" stroke=\"black\" d=\"M269.93,-361.12C284.29,-351.45 302.82,-338.98 318.47,-328.44\"/>\n",
       "<polygon fill=\"black\" stroke=\"black\" points=\"320.49,-331.31 326.83,-322.82 316.58,-325.5 320.49,-331.31\"/>\n",
       "</g>\n",
       "<!-- 21_selector -->\n",
       "<g id=\"node30\" class=\"node\">\n",
       "<title>21_selector</title>\n",
       "<ellipse fill=\"none\" stroke=\"black\" cx=\"194.33\" cy=\"-450\" rx=\"194.17\" ry=\"18\"/>\n",
       "<text text-anchor=\"middle\" x=\"194.33\" y=\"-446.3\" font-family=\"Times,serif\" font-size=\"14.00\">[&#39;description_pl&#39;, &#39;name&#39;, &#39;collaborative&#39;]</text>\n",
       "</g>\n",
       "<!-- 21_selector&#45;&gt;21 -->\n",
       "<g id=\"edge22\" class=\"edge\">\n",
       "<title>21_selector&#45;&gt;21</title>\n",
       "<path fill=\"none\" stroke=\"black\" d=\"M207.19,-431.7C213.36,-423.39 220.87,-413.28 227.66,-404.14\"/>\n",
       "<polygon fill=\"black\" stroke=\"black\" points=\"230.47,-406.22 233.63,-396.1 224.85,-402.04 230.47,-406.22\"/>\n",
       "</g>\n",
       "<!-- 27 -->\n",
       "<g id=\"node35\" class=\"node\">\n",
       "<title>27</title>\n",
       "<ellipse fill=\"none\" stroke=\"black\" cx=\"1604.33\" cy=\"-18\" rx=\"62.29\" ry=\"18\"/>\n",
       "<text text-anchor=\"middle\" x=\"1604.33\" y=\"-14.3\" font-family=\"Times,serif\" font-size=\"14.00\">output cols</text>\n",
       "</g>\n",
       "<!-- 22&#45;&gt;27 -->\n",
       "<g id=\"edge34\" class=\"edge\">\n",
       "<title>22&#45;&gt;27</title>\n",
       "<path fill=\"none\" stroke=\"black\" d=\"M1604.33,-71.7C1604.33,-63.98 1604.33,-54.71 1604.33,-46.11\"/>\n",
       "<polygon fill=\"black\" stroke=\"black\" points=\"1607.83,-46.1 1604.33,-36.1 1600.83,-46.1 1607.83,-46.1\"/>\n",
       "</g>\n",
       "<!-- 23 -->\n",
       "<g id=\"node32\" class=\"node\">\n",
       "<title>23</title>\n",
       "<ellipse fill=\"none\" stroke=\"black\" cx=\"2175.33\" cy=\"-306\" rx=\"66.89\" ry=\"18\"/>\n",
       "<text text-anchor=\"middle\" x=\"2175.33\" y=\"-302.3\" font-family=\"Times,serif\" font-size=\"14.00\">SelectionOp</text>\n",
       "</g>\n",
       "<!-- 23&#45;&gt;26 -->\n",
       "<g id=\"edge33\" class=\"edge\">\n",
       "<title>23&#45;&gt;26</title>\n",
       "<path fill=\"none\" stroke=\"black\" d=\"M2175.33,-287.7C2175.33,-279.98 2175.33,-270.71 2175.33,-262.11\"/>\n",
       "<polygon fill=\"black\" stroke=\"black\" points=\"2178.83,-262.1 2175.33,-252.1 2171.83,-262.1 2178.83,-262.1\"/>\n",
       "</g>\n",
       "<!-- 23_selector -->\n",
       "<g id=\"node33\" class=\"node\">\n",
       "<title>23_selector</title>\n",
       "<ellipse fill=\"none\" stroke=\"black\" cx=\"2175.33\" cy=\"-378\" rx=\"37.09\" ry=\"18\"/>\n",
       "<text text-anchor=\"middle\" x=\"2175.33\" y=\"-374.3\" font-family=\"Times,serif\" font-size=\"14.00\">[&#39;pid&#39;]</text>\n",
       "</g>\n",
       "<!-- 23_selector&#45;&gt;23 -->\n",
       "<g id=\"edge30\" class=\"edge\">\n",
       "<title>23_selector&#45;&gt;23</title>\n",
       "<path fill=\"none\" stroke=\"black\" d=\"M2175.33,-359.7C2175.33,-351.98 2175.33,-342.71 2175.33,-334.11\"/>\n",
       "<polygon fill=\"black\" stroke=\"black\" points=\"2178.83,-334.1 2175.33,-324.1 2171.83,-334.1 2178.83,-334.1\"/>\n",
       "</g>\n",
       "<!-- 24&#45;&gt;25 -->\n",
       "<g id=\"edge32\" class=\"edge\">\n",
       "<title>24&#45;&gt;25</title>\n",
       "<path fill=\"none\" stroke=\"black\" d=\"M389.64,-291.83C424.16,-280.27 474.48,-263.42 511.36,-251.07\"/>\n",
       "<polygon fill=\"black\" stroke=\"black\" points=\"512.53,-254.37 520.9,-247.87 510.31,-247.73 512.53,-254.37\"/>\n",
       "</g>\n",
       "</g>\n",
       "</svg>\n"
      ],
      "text/plain": [
       "<graphviz.graphs.Digraph at 0x7f3fdd543730>"
      ]
     },
     "execution_count": 7,
     "metadata": {},
     "output_type": "execute_result"
    }
   ],
   "source": [
    "output.graph"
   ]
  },
  {
   "cell_type": "markdown",
   "id": "577993c5-ff3c-4e0d-89ef-e49ed93d7017",
   "metadata": {},
   "source": [
    "### Before we transform the data, let's look at an original record\n",
    "This loads the data into a dask pandas dataframe. `.to_ddf()` converts the dataset into a dask df"
   ]
  },
  {
   "cell_type": "code",
   "execution_count": 8,
   "id": "9eea53fc",
   "metadata": {},
   "outputs": [
    {
     "data": {
      "text/html": [
       "<div>\n",
       "<style scoped>\n",
       "    .dataframe tbody tr th:only-of-type {\n",
       "        vertical-align: middle;\n",
       "    }\n",
       "\n",
       "    .dataframe tbody tr th {\n",
       "        vertical-align: top;\n",
       "    }\n",
       "\n",
       "    .dataframe thead th {\n",
       "        text-align: right;\n",
       "    }\n",
       "</style>\n",
       "<table border=\"1\" class=\"dataframe\">\n",
       "  <thead>\n",
       "    <tr style=\"text-align: right;\">\n",
       "      <th></th>\n",
       "      <th>name</th>\n",
       "      <th>collaborative</th>\n",
       "      <th>pid</th>\n",
       "      <th>modified_at</th>\n",
       "      <th>pid_pos_id</th>\n",
       "      <th>pos_can</th>\n",
       "      <th>artist_name_can</th>\n",
       "      <th>track_uri_can</th>\n",
       "      <th>album_uri_can</th>\n",
       "      <th>track_name_can</th>\n",
       "      <th>...</th>\n",
       "      <th>pos_pl</th>\n",
       "      <th>artist_name_pl</th>\n",
       "      <th>track_uri_pl</th>\n",
       "      <th>track_name_pl</th>\n",
       "      <th>duration_ms_songs_pl</th>\n",
       "      <th>album_name_pl</th>\n",
       "      <th>artist_pop_pl</th>\n",
       "      <th>artists_followers_pl</th>\n",
       "      <th>track_pop_pl</th>\n",
       "      <th>artist_genres_pl</th>\n",
       "    </tr>\n",
       "  </thead>\n",
       "  <tbody>\n",
       "    <tr>\n",
       "      <th>0</th>\n",
       "      <td>{november '15}</td>\n",
       "      <td>false</td>\n",
       "      <td>914400</td>\n",
       "      <td>1452816000</td>\n",
       "      <td>914400-13</td>\n",
       "      <td>13</td>\n",
       "      <td>Tossing Copper</td>\n",
       "      <td>spotify:track:2BQSlFrFfxHjv2O738IzRm</td>\n",
       "      <td>spotify:album:7Bc9G6iDUH9u6pYj6Q5jr7</td>\n",
       "      <td>Edge of Eden</td>\n",
       "      <td>...</td>\n",
       "      <td>[8, 9, 10, 11, 12]</td>\n",
       "      <td>[Tossing Copper, Tossing Copper, Tossing Copper, Tossing Copper, Tossing Copper]</td>\n",
       "      <td>[spotify:track:4w3eTXloQVxhvc2U3KuuOb, spotify:track:5xdYaI97V4m7pypIhfpkoO, spotify:track:0UDpAmtvdeWJzowyiaE9tI, spotify:track:1sZ2RArZ2F86achracJBBw, spotify:track:7BO96T4UFKUbK96XujhaB2]</td>\n",
       "      <td>[Hello Darling, Silhouettes &amp; Sand, The Bridegroom, Ships of Cortez, Dancing in the Dawn]</td>\n",
       "      <td>[256000.0, 221786.0, 248613.0, 197253.0, 176733.0]</td>\n",
       "      <td>[Silhouettes &amp; Sand, Silhouettes &amp; Sand, Silhouettes &amp; Sand, Silhouettes &amp; Sand, Silhouettes &amp; Sand]</td>\n",
       "      <td>[68.0, 68.0, 68.0, 68.0, 68.0]</td>\n",
       "      <td>[0.0, 0.0, 0.0, 0.0, 0.0]</td>\n",
       "      <td>[36.0, 33.0, 32.0, 40.0, 61.0]</td>\n",
       "      <td>['alt z', 'indiecoustica', 'neo mellow', 'pop', 'pop rock', 'post-teen pop', 'alt z', 'indiecoustica', 'neo mellow', 'pop', 'pop rock', 'post-teen pop', 'alt z', 'indiecoustica', 'neo mellow', 'pop', 'pop rock', 'post-teen pop', 'alt z', 'indiecoustica', 'neo mellow', 'pop', 'pop rock', 'post-teen pop', 'alt z', 'indiecoustica', 'neo mellow', 'pop', 'pop rock', 'post-teen pop']</td>\n",
       "    </tr>\n",
       "  </tbody>\n",
       "</table>\n",
       "<p>1 rows × 44 columns</p>\n",
       "</div>"
      ],
      "text/plain": [
       "             name collaborative     pid  modified_at pid_pos_id  pos_can  \\\n",
       "0  {november '15}         false  914400   1452816000  914400-13       13   \n",
       "\n",
       "  artist_name_can                         track_uri_can  \\\n",
       "0  Tossing Copper  spotify:track:2BQSlFrFfxHjv2O738IzRm   \n",
       "\n",
       "                          album_uri_can track_name_can  ...  \\\n",
       "0  spotify:album:7Bc9G6iDUH9u6pYj6Q5jr7   Edge of Eden  ...   \n",
       "\n",
       "               pos_pl  \\\n",
       "0  [8, 9, 10, 11, 12]   \n",
       "\n",
       "                                                                     artist_name_pl  \\\n",
       "0  [Tossing Copper, Tossing Copper, Tossing Copper, Tossing Copper, Tossing Copper]   \n",
       "\n",
       "                                                                                                                                                                                     track_uri_pl  \\\n",
       "0  [spotify:track:4w3eTXloQVxhvc2U3KuuOb, spotify:track:5xdYaI97V4m7pypIhfpkoO, spotify:track:0UDpAmtvdeWJzowyiaE9tI, spotify:track:1sZ2RArZ2F86achracJBBw, spotify:track:7BO96T4UFKUbK96XujhaB2]   \n",
       "\n",
       "                                                                               track_name_pl  \\\n",
       "0  [Hello Darling, Silhouettes & Sand, The Bridegroom, Ships of Cortez, Dancing in the Dawn]   \n",
       "\n",
       "                                 duration_ms_songs_pl  \\\n",
       "0  [256000.0, 221786.0, 248613.0, 197253.0, 176733.0]   \n",
       "\n",
       "                                                                                          album_name_pl  \\\n",
       "0  [Silhouettes & Sand, Silhouettes & Sand, Silhouettes & Sand, Silhouettes & Sand, Silhouettes & Sand]   \n",
       "\n",
       "                    artist_pop_pl       artists_followers_pl  \\\n",
       "0  [68.0, 68.0, 68.0, 68.0, 68.0]  [0.0, 0.0, 0.0, 0.0, 0.0]   \n",
       "\n",
       "                     track_pop_pl  \\\n",
       "0  [36.0, 33.0, 32.0, 40.0, 61.0]   \n",
       "\n",
       "                                                                                                                                                                                                                                                                                                                                                                               artist_genres_pl  \n",
       "0  ['alt z', 'indiecoustica', 'neo mellow', 'pop', 'pop rock', 'post-teen pop', 'alt z', 'indiecoustica', 'neo mellow', 'pop', 'pop rock', 'post-teen pop', 'alt z', 'indiecoustica', 'neo mellow', 'pop', 'pop rock', 'post-teen pop', 'alt z', 'indiecoustica', 'neo mellow', 'pop', 'pop rock', 'post-teen pop', 'alt z', 'indiecoustica', 'neo mellow', 'pop', 'pop rock', 'post-teen pop']  \n",
       "\n",
       "[1 rows x 44 columns]"
      ]
     },
     "execution_count": 8,
     "metadata": {},
     "output_type": "execute_result"
    }
   ],
   "source": [
    "# Don't truncate text fields in the display\n",
    "pd.set_option(\"display.max_colwidth\", None)\n",
    "\n",
    "valid.to_ddf().head(1)"
   ]
  },
  {
   "cell_type": "markdown",
   "id": "d8966c52",
   "metadata": {},
   "source": [
    "### Now set the output buckets for the validation and training"
   ]
  },
  {
   "cell_type": "code",
   "execution_count": 9,
   "id": "a9f65eb2",
   "metadata": {},
   "outputs": [
    {
     "name": "stdout",
     "output_type": "stream",
     "text": [
      "Train data dir: gs://spotify-beam-v3/merlin-processed/train/\n",
      "Valid data dir: gs://spotify-beam-v3/merlin-processed/valid/\n"
     ]
    }
   ],
   "source": [
    "output_path = os.path.join(BUCKET, \"merlin-processed\")\n",
    "output_train_dir = os.path.join(output_path, 'train/')\n",
    "output_valid_dir = os.path.join(output_path, 'valid/')\n",
    "output_workflow_dir = os.path.join(output_path, 'workflow/')\n",
    "\n",
    "\n",
    "print(f\"Train data dir: {output_train_dir}\\nValid data dir: {output_valid_dir}\")"
   ]
  },
  {
   "cell_type": "markdown",
   "id": "591bc597",
   "metadata": {
    "tags": []
   },
   "source": [
    "## Load and preprocess training data back to Parquet GCS\n",
    "helpful resources https://cloud.google.com/compute/docs/gpus/monitor-gpus\n",
    "\n",
    "## Also, be sure to install `nvtop` the install script is in `utils/install_nvtop.sh`\n",
    "\n",
    "## Fit Transform is called on the workflow to pass over the data\n",
    "The categorical and continuous features must be specified. In this example shuffling is enabled so we only shuflle one time. You can size your output and experiment with number of output files - depending on your use case think of your GPU memory available with respective file sizes\n",
    "\n",
    "## ** This can take some time (about an hour) but is a one-time save to gcs **"
   ]
  },
  {
   "cell_type": "code",
   "execution_count": 13,
   "id": "89ed414f-8513-453b-815d-bda239db9904",
   "metadata": {},
   "outputs": [],
   "source": [
    "import time"
   ]
  },
  {
   "cell_type": "code",
   "execution_count": 13,
   "id": "885f3001",
   "metadata": {},
   "outputs": [
    {
     "name": "stderr",
     "output_type": "stream",
     "text": [
      "/usr/local/lib/python3.8/dist-packages/merlin/schema/tags.py:148: UserWarning: Compound tags like Tags.USER_ID have been deprecated and will be removed in a future version. Please use the atomic versions of these tags, like [<Tags.USER: 'user'>, <Tags.ID: 'id'>].\n",
      "  warnings.warn(\n",
      "/usr/local/lib/python3.8/dist-packages/merlin/schema/tags.py:148: UserWarning: Compound tags like Tags.ITEM_ID have been deprecated and will be removed in a future version. Please use the atomic versions of these tags, like [<Tags.ITEM: 'item'>, <Tags.ID: 'id'>].\n",
      "  warnings.warn(\n"
     ]
    },
    {
     "name": "stdout",
     "output_type": "stream",
     "text": [
      "CPU times: user 24min 3s, sys: 10min 30s, total: 34min 34s\n",
      "Wall time: 49min 18s\n"
     ]
    }
   ],
   "source": [
    "%%time\n",
    "\n",
    "time_preproc = 0\n",
    "time_preproc_start = time.time()\n",
    "\n",
    "workflow.fit_transform(train).to_parquet(output_path=output_train_dir, \n",
    "                                         shuffle=nvt.io.Shuffle.PER_PARTITION,\n",
    "                                         cats=CAT,\n",
    "                                         conts=CONT, \n",
    "                                         output_files = 100\n",
    "                                         ) #preserve_files=True keeps the original file sharding\n",
    "\n",
    "\n",
    "time_preproc += time.time()-time_preproc_start"
   ]
  },
  {
   "cell_type": "markdown",
   "id": "1ae9d020-2f13-4c55-8c8b-da07b247c671",
   "metadata": {},
   "source": [
    "### Saving to GCS is simple with GCS Fuse, which is already included in the if you built an image from [here](https://github.com/jswortz/merlin-gcp)"
   ]
  },
  {
   "cell_type": "code",
   "execution_count": 14,
   "id": "ab4bd5af",
   "metadata": {},
   "outputs": [],
   "source": [
    "#save the workflow to disk (GCS here via ) after it has been fit\n",
    "workflow.save(os.path.join(output_workflow_dir,'2t-spotify-workflow'))\n",
    "\n",
    "#locally for demo too\n",
    "workflow.save('2t-spotify-workflow')"
   ]
  },
  {
   "cell_type": "markdown",
   "id": "2fe8433d",
   "metadata": {},
   "source": [
    "## Transform validation data using the same workflow\n",
    "\n",
    "This works similarly to a sklearn object where you can fit then transform after"
   ]
  },
  {
   "cell_type": "code",
   "execution_count": 15,
   "id": "d6000545",
   "metadata": {},
   "outputs": [
    {
     "name": "stdout",
     "output_type": "stream",
     "text": [
      "CPU times: user 7.25 s, sys: 3.38 s, total: 10.6 s\n",
      "Wall time: 16 s\n"
     ]
    }
   ],
   "source": [
    "%%time\n",
    "\n",
    "time_preproc_start = time.time()\n",
    "workflow.transform(valid).to_parquet(output_path=output_valid_dir, \n",
    "                                         shuffle=nvt.io.Shuffle.PER_PARTITION,\n",
    "                                         cats=CAT,\n",
    "                                         conts=CONT,\n",
    "                                         output_files=10\n",
    "                                         )\n",
    "\n",
    "\n",
    "time_preproc += time.time()-time_preproc_start"
   ]
  },
  {
   "cell_type": "code",
   "execution_count": 16,
   "id": "e8922d66-c947-411b-9442-a34ce34b2752",
   "metadata": {},
   "outputs": [
    {
     "data": {
      "text/html": [
       "<div>\n",
       "<style scoped>\n",
       "    .dataframe tbody tr th:only-of-type {\n",
       "        vertical-align: middle;\n",
       "    }\n",
       "\n",
       "    .dataframe tbody tr th {\n",
       "        vertical-align: top;\n",
       "    }\n",
       "\n",
       "    .dataframe thead th {\n",
       "        text-align: right;\n",
       "    }\n",
       "</style>\n",
       "<table border=\"1\" class=\"dataframe\">\n",
       "  <thead>\n",
       "    <tr style=\"text-align: right;\">\n",
       "      <th></th>\n",
       "      <th>name</th>\n",
       "      <th>tags</th>\n",
       "      <th>dtype</th>\n",
       "      <th>is_list</th>\n",
       "      <th>is_ragged</th>\n",
       "    </tr>\n",
       "  </thead>\n",
       "  <tbody>\n",
       "    <tr>\n",
       "      <th>0</th>\n",
       "      <td>pid</td>\n",
       "      <td>()</td>\n",
       "      <td>int64</td>\n",
       "      <td>False</td>\n",
       "      <td>False</td>\n",
       "    </tr>\n",
       "    <tr>\n",
       "      <th>1</th>\n",
       "      <td>track_uri_can</td>\n",
       "      <td>()</td>\n",
       "      <td>object</td>\n",
       "      <td>False</td>\n",
       "      <td>False</td>\n",
       "    </tr>\n",
       "    <tr>\n",
       "      <th>2</th>\n",
       "      <td>artist_name_can</td>\n",
       "      <td>()</td>\n",
       "      <td>object</td>\n",
       "      <td>False</td>\n",
       "      <td>False</td>\n",
       "    </tr>\n",
       "    <tr>\n",
       "      <th>3</th>\n",
       "      <td>track_name_can</td>\n",
       "      <td>()</td>\n",
       "      <td>object</td>\n",
       "      <td>False</td>\n",
       "      <td>False</td>\n",
       "    </tr>\n",
       "    <tr>\n",
       "      <th>4</th>\n",
       "      <td>artist_genres_can</td>\n",
       "      <td>()</td>\n",
       "      <td>object</td>\n",
       "      <td>False</td>\n",
       "      <td>False</td>\n",
       "    </tr>\n",
       "    <tr>\n",
       "      <th>5</th>\n",
       "      <td>duration_ms_can</td>\n",
       "      <td>()</td>\n",
       "      <td>float64</td>\n",
       "      <td>False</td>\n",
       "      <td>False</td>\n",
       "    </tr>\n",
       "    <tr>\n",
       "      <th>6</th>\n",
       "      <td>track_pop_can</td>\n",
       "      <td>()</td>\n",
       "      <td>float64</td>\n",
       "      <td>False</td>\n",
       "      <td>False</td>\n",
       "    </tr>\n",
       "    <tr>\n",
       "      <th>7</th>\n",
       "      <td>artist_pop_can</td>\n",
       "      <td>()</td>\n",
       "      <td>float64</td>\n",
       "      <td>False</td>\n",
       "      <td>False</td>\n",
       "    </tr>\n",
       "    <tr>\n",
       "      <th>8</th>\n",
       "      <td>artist_followers_can</td>\n",
       "      <td>()</td>\n",
       "      <td>float64</td>\n",
       "      <td>False</td>\n",
       "      <td>False</td>\n",
       "    </tr>\n",
       "    <tr>\n",
       "      <th>9</th>\n",
       "      <td>description_pl</td>\n",
       "      <td>()</td>\n",
       "      <td>object</td>\n",
       "      <td>False</td>\n",
       "      <td>False</td>\n",
       "    </tr>\n",
       "    <tr>\n",
       "      <th>10</th>\n",
       "      <td>name</td>\n",
       "      <td>()</td>\n",
       "      <td>object</td>\n",
       "      <td>False</td>\n",
       "      <td>False</td>\n",
       "    </tr>\n",
       "    <tr>\n",
       "      <th>11</th>\n",
       "      <td>collaborative</td>\n",
       "      <td>()</td>\n",
       "      <td>object</td>\n",
       "      <td>False</td>\n",
       "      <td>False</td>\n",
       "    </tr>\n",
       "    <tr>\n",
       "      <th>12</th>\n",
       "      <td>duration_ms_seed_pl</td>\n",
       "      <td>()</td>\n",
       "      <td>float64</td>\n",
       "      <td>False</td>\n",
       "      <td>False</td>\n",
       "    </tr>\n",
       "    <tr>\n",
       "      <th>13</th>\n",
       "      <td>n_songs_pl</td>\n",
       "      <td>()</td>\n",
       "      <td>float64</td>\n",
       "      <td>False</td>\n",
       "      <td>False</td>\n",
       "    </tr>\n",
       "    <tr>\n",
       "      <th>14</th>\n",
       "      <td>num_artists_pl</td>\n",
       "      <td>()</td>\n",
       "      <td>float64</td>\n",
       "      <td>False</td>\n",
       "      <td>False</td>\n",
       "    </tr>\n",
       "    <tr>\n",
       "      <th>15</th>\n",
       "      <td>num_albums_pl</td>\n",
       "      <td>()</td>\n",
       "      <td>float64</td>\n",
       "      <td>False</td>\n",
       "      <td>False</td>\n",
       "    </tr>\n",
       "    <tr>\n",
       "      <th>16</th>\n",
       "      <td>artist_name_pl</td>\n",
       "      <td>()</td>\n",
       "      <td>object</td>\n",
       "      <td>True</td>\n",
       "      <td>True</td>\n",
       "    </tr>\n",
       "    <tr>\n",
       "      <th>17</th>\n",
       "      <td>track_uri_pl</td>\n",
       "      <td>()</td>\n",
       "      <td>object</td>\n",
       "      <td>True</td>\n",
       "      <td>True</td>\n",
       "    </tr>\n",
       "    <tr>\n",
       "      <th>18</th>\n",
       "      <td>track_name_pl</td>\n",
       "      <td>()</td>\n",
       "      <td>object</td>\n",
       "      <td>True</td>\n",
       "      <td>True</td>\n",
       "    </tr>\n",
       "    <tr>\n",
       "      <th>19</th>\n",
       "      <td>album_name_pl</td>\n",
       "      <td>()</td>\n",
       "      <td>object</td>\n",
       "      <td>True</td>\n",
       "      <td>True</td>\n",
       "    </tr>\n",
       "    <tr>\n",
       "      <th>20</th>\n",
       "      <td>artist_genres_pl</td>\n",
       "      <td>()</td>\n",
       "      <td>object</td>\n",
       "      <td>True</td>\n",
       "      <td>True</td>\n",
       "    </tr>\n",
       "  </tbody>\n",
       "</table>\n",
       "</div>"
      ],
      "text/plain": [
       "[{'name': 'pid', 'tags': set(), 'properties': {}, 'dtype': dtype('int64'), 'is_list': False, 'is_ragged': False}, {'name': 'track_uri_can', 'tags': set(), 'properties': {}, 'dtype': dtype('O'), 'is_list': False, 'is_ragged': False}, {'name': 'artist_name_can', 'tags': set(), 'properties': {}, 'dtype': dtype('O'), 'is_list': False, 'is_ragged': False}, {'name': 'track_name_can', 'tags': set(), 'properties': {}, 'dtype': dtype('O'), 'is_list': False, 'is_ragged': False}, {'name': 'artist_genres_can', 'tags': set(), 'properties': {}, 'dtype': dtype('O'), 'is_list': False, 'is_ragged': False}, {'name': 'duration_ms_can', 'tags': set(), 'properties': {}, 'dtype': dtype('float64'), 'is_list': False, 'is_ragged': False}, {'name': 'track_pop_can', 'tags': set(), 'properties': {}, 'dtype': dtype('float64'), 'is_list': False, 'is_ragged': False}, {'name': 'artist_pop_can', 'tags': set(), 'properties': {}, 'dtype': dtype('float64'), 'is_list': False, 'is_ragged': False}, {'name': 'artist_followers_can', 'tags': set(), 'properties': {}, 'dtype': dtype('float64'), 'is_list': False, 'is_ragged': False}, {'name': 'description_pl', 'tags': set(), 'properties': {}, 'dtype': dtype('O'), 'is_list': False, 'is_ragged': False}, {'name': 'name', 'tags': set(), 'properties': {}, 'dtype': dtype('O'), 'is_list': False, 'is_ragged': False}, {'name': 'collaborative', 'tags': set(), 'properties': {}, 'dtype': dtype('O'), 'is_list': False, 'is_ragged': False}, {'name': 'duration_ms_seed_pl', 'tags': set(), 'properties': {}, 'dtype': dtype('float64'), 'is_list': False, 'is_ragged': False}, {'name': 'n_songs_pl', 'tags': set(), 'properties': {}, 'dtype': dtype('float64'), 'is_list': False, 'is_ragged': False}, {'name': 'num_artists_pl', 'tags': set(), 'properties': {}, 'dtype': dtype('float64'), 'is_list': False, 'is_ragged': False}, {'name': 'num_albums_pl', 'tags': set(), 'properties': {}, 'dtype': dtype('float64'), 'is_list': False, 'is_ragged': False}, {'name': 'artist_name_pl', 'tags': set(), 'properties': {}, 'dtype': dtype('O'), 'is_list': True, 'is_ragged': True}, {'name': 'track_uri_pl', 'tags': set(), 'properties': {}, 'dtype': dtype('O'), 'is_list': True, 'is_ragged': True}, {'name': 'track_name_pl', 'tags': set(), 'properties': {}, 'dtype': dtype('O'), 'is_list': True, 'is_ragged': True}, {'name': 'album_name_pl', 'tags': set(), 'properties': {}, 'dtype': dtype('O'), 'is_list': True, 'is_ragged': True}, {'name': 'artist_genres_pl', 'tags': set(), 'properties': {}, 'dtype': dtype('O'), 'is_list': True, 'is_ragged': True}]"
      ]
     },
     "execution_count": 16,
     "metadata": {},
     "output_type": "execute_result"
    }
   ],
   "source": [
    "workflow.input_schema"
   ]
  },
  {
   "cell_type": "markdown",
   "id": "471f8f32",
   "metadata": {},
   "source": [
    "### Examine some of the output data from nvtabular\n",
    "\n",
    "The data is presented as a Dask Pandas DF - so the interface is very familiar if you know Pandas\n",
    "\n",
    "Now the data has encoded the values of the strings with categorify, filled missing values, and normalized continuous variables. Now when you look at categorical data like `track_name_pl`, you will see the data represented as an integer, ready to quickly load to an embedding layer, as opposed to hashing each Epoch like when including stringlookups or hash functions in a tfrs model. This ensures the unven profile caused by cpu/gpu bottlnecks during lookup functions are processed just once and efficiently.\n",
    "\n",
    "#### Example of NVTabular Gpu Consumption Pattern\n",
    "A100 a1-high-gpu\n",
    "![Example of Nvtop](img/nvtop.png)\n",
    "\n",
    "Note that the lookup tables for the various categorified data can be found in the `categories/` folder of the workflow. You also will notice a link in the data schema (more on that below) to the files by each field - this is how you can do reverse lookups later"
   ]
  },
  {
   "cell_type": "code",
   "execution_count": 17,
   "id": "7bbdc113",
   "metadata": {},
   "outputs": [
    {
     "data": {
      "text/plain": [
       "0    [11535, 7518, 11313, 42462, 151481]\n",
       "1               [613, 60, 83, 4161, 252]\n",
       "2            [4637, 1735, 146, 84, 1886]\n",
       "Name: track_name_pl, dtype: object"
      ]
     },
     "execution_count": 17,
     "metadata": {},
     "output_type": "execute_result"
    }
   ],
   "source": [
    "nvtdata = pd.read_parquet(output_train_dir+'part_0.parquet')\n",
    "nvtdata['track_name_pl'].head(3) "
   ]
  },
  {
   "cell_type": "code",
   "execution_count": 18,
   "id": "2039bb14",
   "metadata": {},
   "outputs": [
    {
     "data": {
      "text/plain": [
       "0    2247\n",
       "1       1\n",
       "2      12\n",
       "3    6271\n",
       "4      54\n",
       "5      18\n",
       "6     212\n",
       "7       3\n",
       "8    2195\n",
       "9    8864\n",
       "Name: artist_name_can, dtype: int32"
      ]
     },
     "execution_count": 18,
     "metadata": {},
     "output_type": "execute_result"
    }
   ],
   "source": [
    "nvtdata = pd.read_parquet(output_train_dir+'part_0.parquet')\n",
    "nvtdata['artist_name_can'].head(10)"
   ]
  },
  {
   "cell_type": "markdown",
   "id": "e2012c18-eda7-49bb-b45c-c3d953ff330f",
   "metadata": {},
   "source": [
    "### Total rows for `part_0.parquet`\n",
    "Total rows x number of partitions (`output_files` in `workflow.to_parquet()`)"
   ]
  },
  {
   "cell_type": "code",
   "execution_count": 19,
   "id": "e7ba4f12",
   "metadata": {},
   "outputs": [
    {
     "data": {
      "text/plain": [
       "608090"
      ]
     },
     "execution_count": 19,
     "metadata": {},
     "output_type": "execute_result"
    }
   ],
   "source": [
    "len(nvtdata)"
   ]
  },
  {
   "cell_type": "markdown",
   "id": "f2ffee50-6fc4-4628-b057-57fc1e485be0",
   "metadata": {},
   "source": [
    "#### Quick view of the embedding dimensions\n",
    "`(INPUT_CARDINALITY, EMB_DIM)`"
   ]
  },
  {
   "cell_type": "code",
   "execution_count": 20,
   "id": "0eb04de9",
   "metadata": {},
   "outputs": [
    {
     "data": {
      "text/plain": [
       "({'pid': (984638, 512),\n",
       "  'track_uri_can': (2183658, 512),\n",
       "  'artist_name_can': (278452, 512),\n",
       "  'track_name_can': (1435485, 512),\n",
       "  'artist_genres_can': (38183, 512),\n",
       "  'description_pl': (17909, 385),\n",
       "  'name': (92266, 512),\n",
       "  'collaborative': (3, 16)},\n",
       " {'artist_name_pl': (283353, 512),\n",
       "  'track_uri_pl': (2231210, 512),\n",
       "  'track_name_pl': (1464629, 512),\n",
       "  'album_name_pl': (563481, 512),\n",
       "  'artist_genres_pl': (38373, 512)})"
      ]
     },
     "execution_count": 20,
     "metadata": {},
     "output_type": "execute_result"
    }
   ],
   "source": [
    "embeddings = ops.get_embedding_sizes(workflow)\n",
    "embeddings"
   ]
  },
  {
   "cell_type": "code",
   "execution_count": 21,
   "id": "f76d024c",
   "metadata": {},
   "outputs": [
    {
     "name": "stdout",
     "output_type": "stream",
     "text": [
      "[(278452, 512), (1435485, 512), (38183, 512)]\n"
     ]
    }
   ],
   "source": [
    "print([embeddings[0][x] for x in item_feature_cat_node.output_columns.names])"
   ]
  },
  {
   "cell_type": "code",
   "execution_count": 22,
   "id": "92b7addb",
   "metadata": {},
   "outputs": [
    {
     "data": {
      "text/plain": [
       "['duration_ms_seed_pl', 'n_songs_pl', 'num_artists_pl', 'num_albums_pl']"
      ]
     },
     "execution_count": 22,
     "metadata": {},
     "output_type": "execute_result"
    }
   ],
   "source": [
    "playlist_feature_cont_node.output_columns.names"
   ]
  },
  {
   "cell_type": "markdown",
   "id": "bd24b35b",
   "metadata": {
    "toc-hr-collapsed": true
   },
   "source": [
    "# Load the processed data into a Merlin Dataset and Train a Two Tower Model\n",
    "\n",
    "Now that data inspection is over, the workflow is saved and data is processed to the `output_path`\n",
    "\n",
    "The above only needs to be run once as well - the workflow and transformed files can be directly loaded from gcs from now on"
   ]
  },
  {
   "cell_type": "markdown",
   "id": "a0f616eb",
   "metadata": {},
   "source": [
    "### Get the embedding dimensions from the workflow"
   ]
  },
  {
   "cell_type": "code",
   "execution_count": 10,
   "id": "c81777c4",
   "metadata": {},
   "outputs": [
    {
     "data": {
      "text/plain": [
       "({'pid': (984638, 512),\n",
       "  'track_uri_can': (2183658, 512),\n",
       "  'artist_name_can': (278452, 512),\n",
       "  'track_name_can': (1435485, 512),\n",
       "  'artist_genres_can': (38183, 512),\n",
       "  'description_pl': (17909, 385),\n",
       "  'name': (92266, 512),\n",
       "  'collaborative': (3, 16)},\n",
       " {'artist_name_pl': (283353, 512),\n",
       "  'track_uri_pl': (2231210, 512),\n",
       "  'track_name_pl': (1464629, 512),\n",
       "  'album_name_pl': (563481, 512),\n",
       "  'artist_genres_pl': (38373, 512)})"
      ]
     },
     "execution_count": 10,
     "metadata": {},
     "output_type": "execute_result"
    }
   ],
   "source": [
    "# load back the workflow and schema\n",
    "# spotify-builtin-2t/merlin-processed/workflow/2t-spotify-workflow\n",
    "workflow = nvt.Workflow.load(os.path.join(BUCKET, \"merlin-processed/workflow/2t-spotify-workflow\"))\n",
    "schema = workflow.output_schema\n",
    "embeddings = ops.get_embedding_sizes(workflow)\n",
    "embeddings"
   ]
  },
  {
   "cell_type": "code",
   "execution_count": 11,
   "id": "feed4018",
   "metadata": {},
   "outputs": [],
   "source": [
    "from merlin.models.utils.example_utils import workflow_fit_transform\n",
    "\n",
    "from merlin.schema.tags import Tags\n",
    "\n",
    "import merlin.models.tf as mm\n",
    "from merlin.io.dataset import Dataset as MerlinDataset\n",
    "\n",
    "train = MerlinDataset(os.path.join(output_train_dir, \"*.parquet\"), schema=schema, part_size=\"1GB\")\n",
    "valid = MerlinDataset(os.path.join(output_valid_dir, \"*.parquet\"), schema=schema, part_size=\"1GB\")"
   ]
  },
  {
   "cell_type": "markdown",
   "id": "d1d6279f",
   "metadata": {},
   "source": [
    "Direct quote from [here](https://github.com/NVIDIA-Merlin/models/blob/main/examples/05-Retrieval-Model.ipynb)\n",
    "\n",
    "Other info on modeling setup\n",
    "\n",
    "### Negative sampling\n",
    "Many datasets for recommender systems contain implicit feedback with logs of user interactions like clicks, add-to-cart, purchases, music listening events, rather than explicit ratings that reflects user preferences over items. To be able to learn from implicit feedback, we use the general (and naive) assumption that the interacted items are more relevant for the user than the non-interacted ones. In Merlin Models we provide some scaleable negative sampling algorithms for the Item Retrieval Task. In particular, we use in this example the in-batch sampling algorithm which uses the items interacted by other users as negatives within the same mini-batch.\n",
    "\n",
    "### Building the Model\n",
    "Now, let's build our Two-Tower model. In a nutshell, we aggregate all user features to feed in user tower and feed the item features to the item tower. Then we compute the positive score by multiplying the user embedding with the item embedding and sample negative items (read more about negative sampling here and here), whose item embeddings are also multiplied by the user embedding. Then we apply the loss function on top of the positive and negative scores.\n",
    "\n",
    "- Other model types can be found on the [Merlin Models API Documentation Page](https://nvidia-merlin.github.io/models/main/api.html#tensorflow-models)\n",
    "\n",
    "### Vertex Experiments\n",
    "\n",
    "We will organize all of our runs with Merlin in one experiment id `spotify-merlin-train-full-data-v1`. Under this experiment, we will have multiple runs that will be tracked in the experiment interface as well as Tensorboard"
   ]
  },
  {
   "cell_type": "code",
   "execution_count": 12,
   "id": "f7f4d7c6",
   "metadata": {},
   "outputs": [
    {
     "name": "stderr",
     "output_type": "stream",
     "text": [
      "2022-10-25 22:37:38.434943: I tensorflow/core/profiler/lib/profiler_session.cc:99] Profiler session initializing.\n",
      "2022-10-25 22:37:38.435005: I tensorflow/core/profiler/lib/profiler_session.cc:114] Profiler session started.\n",
      "2022-10-25 22:37:38.435225: I tensorflow/core/profiler/internal/gpu/cupti_tracer.cc:1665] Profiler found 1 GPUs\n",
      "2022-10-25 22:37:38.740742: I tensorflow/core/profiler/lib/profiler_session.cc:126] Profiler session tear down.\n",
      "2022-10-25 22:37:38.740909: I tensorflow/core/profiler/internal/gpu/cupti_tracer.cc:1799] CUPTI activity buffer flushed\n"
     ]
    }
   ],
   "source": [
    "# wone_shot_cmd use this to track data in tensorboard\n",
    "from google.cloud import aiplatform as vertex_ai\n",
    "\n",
    "TB_RESOURCE_NAME = 'projects/934903580331/locations/us-central1/tensorboards/7336372589079560192' #fqn - project number then tensorboard id\n",
    "EXPERIMENT_NAME = f'spotify-merlin-train-full-data-v6-2'\n",
    "RUN_NAME = f'run-{EXPERIMENT_NAME}-{time.strftime(\"%Y%m%d-%H%M%S\")}'#be sure to think about run and experiment naming strategies so names don't collide\n",
    "logs_dir = f'{output_path}/tb_logs/{EXPERIMENT_NAME}'\n",
    "\n",
    "#helper function to get the tb-uploader command\n",
    "\n",
    "def get_upload_logs_to_manged_tb_command(ttl_hrs, oneshot=\"false\"):\n",
    "    \"\"\"\n",
    "    Run this and copy/paste the command into terminal to have \n",
    "    upload the tensorboard logs from this machine to the managed tb instance\n",
    "    Note that the log dir is at the granularity of the run to help select the proper\n",
    "    timestamped run in Tensorboard\n",
    "    You can also run this in one-shot mode after training is done \n",
    "    to upload all tb objects at once\n",
    "    \"\"\"\n",
    "    return(f\"\"\"tb-gcp-uploader --tensorboard_resource_name={TB_RESOURCE_NAME} \\\n",
    "      --logdir={logs_dir} \\\n",
    "      --experiment_name={EXPERIMENT_NAME} \\\n",
    "      --one_shot={oneshot} \\\n",
    "      --event_file_inactive_secs={60*60*ttl_hrs}\"\"\")\n",
    "\n",
    "vertex_ai.init(experiment=EXPERIMENT_NAME)\n",
    "    \n",
    "\n",
    "# we are going to ecapsulate this one-shot log uploader via a custom callback:\n",
    "\n",
    "class UploadTBLogsBatchEnd(tf.keras.callbacks.Callback):\n",
    "    def on_epoch_end(self, epoch, logs=None):\n",
    "        os.system(get_upload_logs_to_manged_tb_command(ttl_hrs = 5, oneshot=\"true\"))\n",
    "    \n",
    "layers = [512, 256, 128]\n",
    "LR = .001\n",
    "BS = 4096\n",
    "epoch = 100\n",
    "\n",
    "\n",
    "tensorboard_callback = tf.keras.callbacks.TensorBoard(\n",
    "        log_dir=logs_dir,\n",
    "        histogram_freq=0, \n",
    "        write_graph=True, \n",
    "        profile_batch=(20,50) #run profiler on steps 20-40 - enable this line if you want to run profiler from the utils/ notebook\n",
    "    )\n"
   ]
  },
  {
   "cell_type": "code",
   "execution_count": 13,
   "id": "d2ec3d2e-0c20-4a2b-8f59-3ca93d16470c",
   "metadata": {},
   "outputs": [],
   "source": [
    "from merlin.models.tf.outputs.base import DotProduct, MetricsFn, ModelOutput\n",
    "\n",
    "user_schema = schema.select_by_tag(Tags.USER)\n",
    "user_inputs = mm.InputBlockV2(user_schema)\n",
    "\n",
    "query = mm.Encoder(user_inputs, mm.MLPBlock(layers))\n",
    "\n",
    "item_schema = schema.select_by_tag(Tags.ITEM)\n",
    "item_inputs = mm.InputBlockV2(\n",
    "        item_schema,)\n",
    "candidate = mm.Encoder(item_inputs, mm.MLPBlock(layers))\n",
    "\n",
    "model = mm.RetrievalModelV2(\n",
    "        query=query,\n",
    "        candidate=candidate,\n",
    "        output=mm.ContrastiveOutput(\n",
    "            to_call=DotProduct(),\n",
    "            negative_samplers=\"in-batch\",\n",
    "            schema=item_schema.select_by_tag(Tags.ITEM_ID),\n",
    "            candidate_name=\"item\",\n",
    "        )\n",
    ")"
   ]
  },
  {
   "cell_type": "markdown",
   "id": "ea0dff1e",
   "metadata": {},
   "source": [
    "**Metrics:**\n",
    "\n",
    "The following information retrieval metrics are used to compute the Top-10 accuracy of recommendation lists containing all items:\n",
    "\n",
    "* **Normalized Discounted Cumulative Gain (NDCG@10)**: NDCG accounts for rank of the relevant item in the recommendation list and is a more fine-grained metric than HR, which only verifies whether the relevant item is among the top-k items.\n",
    "\n",
    "* **Recall@10:** Also known as HitRate@n when there is only one relevant item in the recommendation list. Recall just verifies whether the relevant item is among the top-n items."
   ]
  },
  {
   "cell_type": "code",
   "execution_count": null,
   "id": "f716afa9",
   "metadata": {
    "tags": []
   },
   "outputs": [
    {
     "name": "stderr",
     "output_type": "stream",
     "text": [
      "2022-10-25 22:38:17.117746: I tensorflow/stream_executor/cuda/cuda_blas.cc:1804] TensorFloat-32 will be used for the matrix multiplication. This will only be logged once.\n"
     ]
    },
    {
     "name": "stdout",
     "output_type": "stream",
     "text": [
      "Epoch 1/100\n",
      "   19/14828 [..............................] - ETA: 9:51 - loss: 8.3342 - recall_at_1: 2.3758e-04 - recall_at_10: 0.0026 - ndcg_at_10: 0.0012 - regularization_loss: 0.0000e+00 "
     ]
    },
    {
     "name": "stderr",
     "output_type": "stream",
     "text": [
      "2022-10-25 22:38:33.499008: I tensorflow/core/profiler/lib/profiler_session.cc:99] Profiler session initializing.\n",
      "2022-10-25 22:38:33.499057: I tensorflow/core/profiler/lib/profiler_session.cc:114] Profiler session started.\n"
     ]
    },
    {
     "name": "stdout",
     "output_type": "stream",
     "text": [
      "   48/14828 [..............................] - ETA: 13:11 - loss: 8.3247 - recall_at_1: 2.4267e-04 - recall_at_10: 0.0025 - ndcg_at_10: 0.0012 - regularization_loss: 0.0000e+00"
     ]
    },
    {
     "name": "stderr",
     "output_type": "stream",
     "text": [
      "2022-10-25 22:38:35.510769: I tensorflow/core/profiler/lib/profiler_session.cc:66] Profiler session collecting data.\n",
      "2022-10-25 22:38:35.517158: I tensorflow/core/profiler/internal/gpu/cupti_tracer.cc:1799] CUPTI activity buffer flushed\n",
      "2022-10-25 22:38:35.800854: I tensorflow/core/profiler/internal/gpu/cupti_collector.cc:521]  GpuTracer has collected 33053 callback api events and 30979 activity events. \n",
      "2022-10-25 22:38:36.430037: I tensorflow/core/profiler/lib/profiler_session.cc:126] Profiler session tear down.\n",
      "2022-10-25 22:38:38.161904: I tensorflow/core/profiler/rpc/client/save_profile.cc:136] Creating directory: gs://spotify-beam-v3/merlin-processed/tb_logs/spotify-merlin-train-full-data-v6-2/plugins/profile/2022_10_25_22_38_36\n",
      "\n",
      "2022-10-25 22:38:39.417421: I tensorflow/core/profiler/rpc/client/save_profile.cc:142] Dumped gzipped tool data for trace.json.gz to gs://spotify-beam-v3/merlin-processed/tb_logs/spotify-merlin-train-full-data-v6-2/plugins/profile/2022_10_25_22_38_36/3181246f6f60.trace.json.gz\n",
      "2022-10-25 22:38:40.126974: I tensorflow/core/profiler/rpc/client/save_profile.cc:136] Creating directory: gs://spotify-beam-v3/merlin-processed/tb_logs/spotify-merlin-train-full-data-v6-2/plugins/profile/2022_10_25_22_38_36\n",
      "\n",
      "2022-10-25 22:38:40.292905: I tensorflow/core/profiler/rpc/client/save_profile.cc:142] Dumped gzipped tool data for memory_profile.json.gz to gs://spotify-beam-v3/merlin-processed/tb_logs/spotify-merlin-train-full-data-v6-2/plugins/profile/2022_10_25_22_38_36/3181246f6f60.memory_profile.json.gz\n"
     ]
    },
    {
     "name": "stdout",
     "output_type": "stream",
     "text": [
      "   52/14828 [..............................] - ETA: 41:33 - loss: 8.3243 - recall_at_1: 2.4482e-04 - recall_at_10: 0.0025 - ndcg_at_10: 0.0012 - regularization_loss: 0.0000e+00"
     ]
    },
    {
     "name": "stderr",
     "output_type": "stream",
     "text": [
      "2022-10-25 22:38:41.211976: I tensorflow/core/profiler/rpc/client/capture_profile.cc:251] Creating directory: gs://spotify-beam-v3/merlin-processed/tb_logs/spotify-merlin-train-full-data-v6-2/plugins/profile/2022_10_25_22_38_36\n",
      "Dumped tool data for xplane.pb to gs://spotify-beam-v3/merlin-processed/tb_logs/spotify-merlin-train-full-data-v6-2/plugins/profile/2022_10_25_22_38_36/3181246f6f60.xplane.pb\n",
      "Dumped tool data for overview_page.pb to gs://spotify-beam-v3/merlin-processed/tb_logs/spotify-merlin-train-full-data-v6-2/plugins/profile/2022_10_25_22_38_36/3181246f6f60.overview_page.pb\n",
      "Dumped tool data for input_pipeline.pb to gs://spotify-beam-v3/merlin-processed/tb_logs/spotify-merlin-train-full-data-v6-2/plugins/profile/2022_10_25_22_38_36/3181246f6f60.input_pipeline.pb\n",
      "Dumped tool data for tensorflow_stats.pb to gs://spotify-beam-v3/merlin-processed/tb_logs/spotify-merlin-train-full-data-v6-2/plugins/profile/2022_10_25_22_38_36/3181246f6f60.tensorflow_stats.pb\n",
      "Dumped tool data for kernel_stats.pb to gs://spotify-beam-v3/merlin-processed/tb_logs/spotify-merlin-train-full-data-v6-2/plugins/profile/2022_10_25_22_38_36/3181246f6f60.kernel_stats.pb\n",
      "\n"
     ]
    },
    {
     "name": "stdout",
     "output_type": "stream",
     "text": [
      "14828/14828 [==============================] - ETA: 0s - loss: 8.3148 - recall_at_1: 2.8098e-04 - recall_at_10: 0.0029 - ndcg_at_10: 0.0013 - regularization_loss: 0.0000e+00"
     ]
    },
    {
     "name": "stderr",
     "output_type": "stream",
     "text": [
      "2022-10-25 22:46:38.268654: I tensorflow/core/util/util.cc:169] oneDNN custom operations are on. You may see slightly different numerical results due to floating-point round-off errors from different computation orders. To turn them off, set the environment variable `TF_ENABLE_ONEDNN_OPTS=0`.\n",
      "/usr/lib/python3/dist-packages/requests/__init__.py:89: RequestsDependencyWarning: urllib3 (1.26.12) or chardet (3.0.4) doesn't match a supported version!\n",
      "  warnings.warn(\"urllib3 ({}) or chardet ({}) doesn't match a supported \"\n"
     ]
    },
    {
     "name": "stdout",
     "output_type": "stream",
     "text": [
      "View your Tensorboard at https://us-central1.tensorboard.googleusercontent.com/experiment/projects+934903580331+locations+us-central1+tensorboards+7336372589079560192+experiments+spotify-merlin-train-full-data-v6-2\n",
      "\u001b[1m[2022-10-25T22:46:44]\u001b[0m Started scanning logdir.\n",
      "\u001b[1m[2022-10-25T22:46:49]\u001b[0m Total uploaded: 15 scalars, 0 tensors, 1 binary objects (602.6 kB)\n",
      "14828/14828 [==============================] - 512s 34ms/step - loss: 8.3148 - recall_at_1: 2.8099e-04 - recall_at_10: 0.0029 - ndcg_at_10: 0.0013 - regularization_loss: 0.0000e+00 - val_loss: 8.3100 - val_recall_at_1: 3.4095e-04 - val_recall_at_10: 0.0034 - val_ndcg_at_10: 0.0015 - val_regularization_loss: 0.0000e+00\n",
      "Epoch 2/100\n",
      "14827/14828 [============================>.] - ETA: 0s - loss: 8.3042 - recall_at_1: 3.4409e-04 - recall_at_10: 0.0034 - ndcg_at_10: 0.0016 - regularization_loss: 0.0000e+00"
     ]
    },
    {
     "name": "stderr",
     "output_type": "stream",
     "text": [
      "2022-10-25 22:54:46.171932: I tensorflow/core/util/util.cc:169] oneDNN custom operations are on. You may see slightly different numerical results due to floating-point round-off errors from different computation orders. To turn them off, set the environment variable `TF_ENABLE_ONEDNN_OPTS=0`.\n",
      "/usr/lib/python3/dist-packages/requests/__init__.py:89: RequestsDependencyWarning: urllib3 (1.26.12) or chardet (3.0.4) doesn't match a supported version!\n",
      "  warnings.warn(\"urllib3 ({}) or chardet ({}) doesn't match a supported \"\n",
      "W1025 22:54:50.000442 140683868694336 uploader.py:378] Please consider uploading to a new experiment instead of an existing one, as the former allows for better upload performance.\n"
     ]
    },
    {
     "name": "stdout",
     "output_type": "stream",
     "text": [
      "View your Tensorboard at https://us-central1.tensorboard.googleusercontent.com/experiment/projects+934903580331+locations+us-central1+tensorboards+7336372589079560192+experiments+spotify-merlin-train-full-data-v6-2\n",
      "\u001b[1m[2022-10-25T22:54:50]\u001b[0m Started scanning logdir.\n",
      "\u001b[1m[2022-10-25T22:54:57]\u001b[0m Total uploaded: 30 scalars, 0 tensors, 1 binary objects (602.6 kB)\n",
      "14828/14828 [==============================] - 488s 33ms/step - loss: 8.3041 - recall_at_1: 3.4409e-04 - recall_at_10: 0.0034 - ndcg_at_10: 0.0016 - regularization_loss: 0.0000e+00 - val_loss: 8.2932 - val_recall_at_1: 6.1338e-04 - val_recall_at_10: 0.0047 - val_ndcg_at_10: 0.0022 - val_regularization_loss: 0.0000e+00\n",
      "Epoch 3/100\n",
      "14828/14828 [==============================] - ETA: 0s - loss: 8.2504 - recall_at_1: 4.9995e-04 - recall_at_10: 0.0049 - ndcg_at_10: 0.0022 - regularization_loss: 0.0000e+00"
     ]
    },
    {
     "name": "stderr",
     "output_type": "stream",
     "text": [
      "2022-10-25 23:02:52.581614: I tensorflow/core/util/util.cc:169] oneDNN custom operations are on. You may see slightly different numerical results due to floating-point round-off errors from different computation orders. To turn them off, set the environment variable `TF_ENABLE_ONEDNN_OPTS=0`.\n",
      "/usr/lib/python3/dist-packages/requests/__init__.py:89: RequestsDependencyWarning: urllib3 (1.26.12) or chardet (3.0.4) doesn't match a supported version!\n",
      "  warnings.warn(\"urllib3 ({}) or chardet ({}) doesn't match a supported \"\n",
      "W1025 23:02:54.681810 140037506479936 uploader.py:378] Please consider uploading to a new experiment instead of an existing one, as the former allows for better upload performance.\n"
     ]
    },
    {
     "name": "stdout",
     "output_type": "stream",
     "text": [
      "View your Tensorboard at https://us-central1.tensorboard.googleusercontent.com/experiment/projects+934903580331+locations+us-central1+tensorboards+7336372589079560192+experiments+spotify-merlin-train-full-data-v6-2\n",
      "\u001b[1m[2022-10-25T23:02:54]\u001b[0m Started scanning logdir.\n",
      "\u001b[1m[2022-10-25T23:03:00]\u001b[0m Total uploaded: 45 scalars, 0 tensors, 1 binary objects (602.6 kB)\n",
      "14828/14828 [==============================] - 483s 32ms/step - loss: 8.2504 - recall_at_1: 4.9996e-04 - recall_at_10: 0.0049 - ndcg_at_10: 0.0022 - regularization_loss: 0.0000e+00 - val_loss: 8.2099 - val_recall_at_1: 8.7928e-04 - val_recall_at_10: 0.0068 - val_ndcg_at_10: 0.0033 - val_regularization_loss: 0.0000e+00\n",
      "Epoch 4/100\n",
      "14828/14828 [==============================] - ETA: 0s - loss: 8.0934 - recall_at_1: 8.1526e-04 - recall_at_10: 0.0073 - ndcg_at_10: 0.0034 - regularization_loss: 0.0000e+00"
     ]
    },
    {
     "name": "stderr",
     "output_type": "stream",
     "text": [
      "2022-10-25 23:10:52.029198: I tensorflow/core/util/util.cc:169] oneDNN custom operations are on. You may see slightly different numerical results due to floating-point round-off errors from different computation orders. To turn them off, set the environment variable `TF_ENABLE_ONEDNN_OPTS=0`.\n",
      "/usr/lib/python3/dist-packages/requests/__init__.py:89: RequestsDependencyWarning: urllib3 (1.26.12) or chardet (3.0.4) doesn't match a supported version!\n",
      "  warnings.warn(\"urllib3 ({}) or chardet ({}) doesn't match a supported \"\n",
      "W1025 23:10:54.127631 140128627980096 uploader.py:378] Please consider uploading to a new experiment instead of an existing one, as the former allows for better upload performance.\n"
     ]
    },
    {
     "name": "stdout",
     "output_type": "stream",
     "text": [
      "View your Tensorboard at https://us-central1.tensorboard.googleusercontent.com/experiment/projects+934903580331+locations+us-central1+tensorboards+7336372589079560192+experiments+spotify-merlin-train-full-data-v6-2\n",
      "\u001b[1m[2022-10-25T23:10:54]\u001b[0m Started scanning logdir.\n",
      "\u001b[1m[2022-10-25T23:11:00]\u001b[0m Total uploaded: 60 scalars, 0 tensors, 1 binary objects (602.6 kB)\n",
      "14828/14828 [==============================] - 479s 32ms/step - loss: 8.0934 - recall_at_1: 8.1526e-04 - recall_at_10: 0.0073 - ndcg_at_10: 0.0034 - regularization_loss: 0.0000e+00 - val_loss: 8.1093 - val_recall_at_1: 0.0014 - val_recall_at_10: 0.0095 - val_ndcg_at_10: 0.0046 - val_regularization_loss: 0.0000e+00\n",
      "Epoch 5/100\n",
      "13286/14828 [=========================>....] - ETA: 47s - loss: 8.0143 - recall_at_1: 0.0011 - recall_at_10: 0.0100 - ndcg_at_10: 0.0046 - regularization_loss: 0.0000e+00"
     ]
    }
   ],
   "source": [
    "# model.set_retrieval_candidates_for_evaluation(train)\n",
    "opt = tf.keras.optimizers.Adagrad(learning_rate=LR)\n",
    "model.compile(optimizer=opt, run_eagerly=False, \n",
    "              metrics=[mm.RecallAt(1), \n",
    "                       mm.RecallAt(10), \n",
    "                       mm.NDCGAt(10)],\n",
    "             )\n",
    "\n",
    "# one_shot_cmd = get_upload_logs_to_manged_tb_command(oneshot=\"true\")\n",
    "# ! $one_shot_cmd\n",
    "\n",
    "model.fit(train, \n",
    "          validation_data=valid, \n",
    "          batch_size=BS, \n",
    "          epochs=epoch,\n",
    "          # steps_per_epoch=20, \n",
    "          callbacks=[tensorboard_callback, \n",
    "                     UploadTBLogsBatchEnd()],)\n",
    "\n",
    "#get the metrics for the experiment run\n",
    "history_keys = model.history.history.keys()\n",
    "\n",
    "#upload everything to  tb only do this if you were not streaming with the above command\n",
    "\n",
    "\n",
    "vertex_ai.start_run(RUN_NAME, tensorboard=TB_RESOURCE_NAME)\n",
    "\n",
    "vertex_ai.log_params({\"layers\": str(layers), \n",
    "                      \"learning_rate\": LR,\n",
    "                        \"num_epochs\": epoch,\n",
    "                        \"batch_size\": BS,\n",
    "                     })\n",
    "\n",
    "metrics_dict = {}\n",
    "_ = [metrics_dict.update({key: model.history.history[key][-1]}) for key in history_keys]\n",
    "metrics_dict\n",
    "vertex_ai.log_metrics(metrics_dict)\n",
    "vertex_ai.end_run() #end collecting metrics and the run is complete"
   ]
  },
  {
   "cell_type": "markdown",
   "id": "e2679030-e501-4b45-8cc1-88127c06f35c",
   "metadata": {},
   "source": [
    "- The One-shot command above will download your metrics to tensorboard - and will be avialble in the Experiments tab of Vertex\n",
    " \n",
    "#### Ideally you should be seeing GPU utilization like this - play with batch size to target ~ 70-80% utilization\n",
    "![](img/merlin-training-nvtop.png)"
   ]
  },
  {
   "cell_type": "markdown",
   "id": "d90f1bf8-26e8-44a3-b2f6-dae3852e5589",
   "metadata": {},
   "source": [
    "### Plotting performance of loss and recall"
   ]
  },
  {
   "cell_type": "code",
   "execution_count": 27,
   "id": "00a534cc-fe0a-4c7c-a3d5-22b654154077",
   "metadata": {},
   "outputs": [
    {
     "data": {
      "image/png": "[encoded data removed]",
      "text/plain": [
       "<Figure size 640x480 with 1 Axes>"
      ]
     },
     "metadata": {},
     "output_type": "display_data"
    }
   ],
   "source": [
    "import matplotlib.pyplot as plt\n",
    "\n",
    "def plot_performance(x, y1, y2, label_1, label_2, label_y):\n",
    "    plt.plot(x, y1, label = label_1)\n",
    "    plt.plot(x, y2, label = label_2)\n",
    "    plt.xlabel('Epoch')\n",
    "    plt.ylabel(label_y)\n",
    "    plt.title(label_y)\n",
    "    plt.legend()\n",
    "    plt.show()\n",
    "\n",
    "    \n",
    "plot_performance(x=range(epoch), \n",
    "                 y1=model.history.history['loss'], \n",
    "                 y2=model.history.history['val_loss'], \n",
    "                 label_1='train-loss', \n",
    "                 label_2='val-los', \n",
    "                 label_y='loss')"
   ]
  },
  {
   "cell_type": "markdown",
   "id": "30920ba2-f595-410c-8d75-97b71c508d27",
   "metadata": {},
   "source": [
    "#### Looking at the recall of predicting the next song by epoch"
   ]
  },
  {
   "cell_type": "code",
   "execution_count": 28,
   "id": "84ee7064-2950-4488-bb93-80a644cfc6f8",
   "metadata": {},
   "outputs": [
    {
     "data": {
      "image/png": "[encoded data removed]",
      "text/plain": [
       "<Figure size 640x480 with 1 Axes>"
      ]
     },
     "metadata": {},
     "output_type": "display_data"
    }
   ],
   "source": [
    "plot_performance(x=range(epoch), \n",
    "                 y1=model.history.history['recall_at_1'], \n",
    "                 y2=model.history.history['val_recall_at_1'], \n",
    "                 label_1='recall_at_1', \n",
    "                 label_2='recall_at_1_val', \n",
    "                 label_y='recall_at_1')"
   ]
  },
  {
   "cell_type": "markdown",
   "id": "a4a9ec19",
   "metadata": {},
   "source": [
    "#### Save the Query Model"
   ]
  },
  {
   "cell_type": "code",
   "execution_count": 29,
   "id": "5aad64ae-08f1-41b8-b816-cf535df9f171",
   "metadata": {},
   "outputs": [],
   "source": [
    "query_tower = model.query_encoder\n",
    "query_tower.save(os.path.join(output_path, 'query_model_merlin'))\n",
    "model.save(os.path.join(output_path, 'full_two_tower_model_merlin'))"
   ]
  },
  {
   "cell_type": "markdown",
   "id": "ba5b6bc0",
   "metadata": {},
   "source": [
    "### Save embeddings to GCS for each song - this will become our Matching Engine index"
   ]
  },
  {
   "cell_type": "code",
   "execution_count": null,
   "id": "897c7f11",
   "metadata": {},
   "outputs": [],
   "source": [
    "from merlin.models.utils.dataset import unique_rows_by_features\n",
    "\n",
    "item_features = (\n",
    "    unique_rows_by_features(train, Tags.ITEM, Tags.ID)\n",
    ")\n",
    "\n",
    "item_features_val = (\n",
    "    unique_rows_by_features(valid, Tags.ITEM, Tags.ID)\n",
    ")"
   ]
  },
  {
   "cell_type": "code",
   "execution_count": null,
   "id": "fcad7ec0-d772-4823-8780-b6567c0a4f14",
   "metadata": {},
   "outputs": [],
   "source": [
    "item_embs = model.candidate_embeddings(\n",
    "    item_features, index=item_features.schema['track_uri_can'], batch_size=10000\n",
    ")"
   ]
  },
  {
   "cell_type": "code",
   "execution_count": null,
   "id": "cb492f4f-7362-4ec0-b2f0-3373ef1d481d",
   "metadata": {},
   "outputs": [],
   "source": [
    "item_embs_val = model.candidate_embeddings(\n",
    "    item_features_val, index=item_features_val.schema['track_uri_can'], batch_size=10000\n",
    ")"
   ]
  },
  {
   "cell_type": "code",
   "execution_count": null,
   "id": "5820048f-d12e-49c4-b574-fefb37f2ad00",
   "metadata": {},
   "outputs": [],
   "source": [
    "# Quick look at the data\n",
    "item_emb_pd = item_embs_val.compute().to_pandas()\n",
    "item_emb_pd"
   ]
  },
  {
   "cell_type": "code",
   "execution_count": null,
   "id": "e9f33c17-d679-4fca-a840-a17b78b3e3f1",
   "metadata": {},
   "outputs": [],
   "source": [
    "%%time\n",
    "!rm candidate_embeddings.json > /dev/null \n",
    "!touch candidate_embeddings.json\n",
    "\n",
    "item_data = pd.read_parquet(os.path.join(BUCKET, \"merlin-processed/workflow/2t-spotify-workflow\", 'categories/unique.track_uri_can.parquet'))\n",
    "\n",
    "lookup_dict = dict(item_data['track_uri_can'])\n",
    "\n",
    "def format_for_matching_engine(data) -> None:\n",
    "    cols = [str(i) for i in range(layers[-1])] #ensure we are only pulling 0-EMBEDDING_DIM cols\n",
    "    emb = [data[col] for col in cols]\n",
    "    formatted_emb = '{\"id\":\"' + str(data['track_uri_can']) + '\",\"embedding\":[' + \",\".join(str(x) for x in list(emb)) + ']}'\n",
    "    with open(\"candidate_embeddings.json\", 'a') as f:\n",
    "        f.write(formatted_emb)\n",
    "        f.write(\"\\n\")\n",
    "    f.close()\n",
    "\n",
    "item_emb_pd = item_embs.compute().to_pandas().fillna(1e-10).reset_index() #filling blanks with an epsilon value\n",
    "item_emb_pd['track_uri_can'] = item_emb_pd['track_uri_can'].apply(lambda l: lookup_dict[l])\n",
    "_ = item_emb_pd.apply(format_for_matching_engine, axis=1)\n",
    "\n",
    "item_emb_pd_val = item_embs_val.compute().to_pandas().fillna(1e-10).reset_index() #filling blanks with an epsilon value\n",
    "item_emb_pd_val['track_uri_can'] = item_emb_pd_val['track_uri_can'].apply(lambda l: lookup_dict[l])\n",
    "_ = item_emb_pd_val.apply(format_for_matching_engine, axis=1)\n"
   ]
  },
  {
   "cell_type": "code",
   "execution_count": 77,
   "id": "690eaae6-2059-4c09-84f2-cbde275ccc2e",
   "metadata": {},
   "outputs": [
    {
     "name": "stdout",
     "output_type": "stream",
     "text": [
      "2334932 candidate_embeddings.json\n"
     ]
    }
   ],
   "source": [
    "!wc -l candidate_embeddings.json"
   ]
  },
  {
   "cell_type": "markdown",
   "id": "709feedd-2fc3-44c5-b7aa-1c3d12cffd7e",
   "metadata": {},
   "source": [
    "### BE SURE TO RUN `gsutil config` IN TERMINAL TO LOG IN WITH YOUR CREDS"
   ]
  },
  {
   "cell_type": "code",
   "execution_count": 79,
   "id": "bad520f8-ef7f-4c97-9eb7-6969e56b4a00",
   "metadata": {},
   "outputs": [
    {
     "data": {
      "text/plain": [
       "'gs://spotify-beam-v3/merlin-processed/embeddings/candidate_embeddings.json'"
      ]
     },
     "execution_count": 79,
     "metadata": {},
     "output_type": "execute_result"
    }
   ],
   "source": [
    "# !pip install gsutil\n",
    "import os\n",
    "candidate_path = os.path.join(BUCKET, 'merlin-processed/embeddings/candidate_embeddings.json')\n",
    "\n",
    "candidate_path"
   ]
  },
  {
   "cell_type": "code",
   "execution_count": 76,
   "id": "01e2191c-9350-4106-9ae0-4872196e9c6c",
   "metadata": {},
   "outputs": [
    {
     "name": "stdout",
     "output_type": "stream",
     "text": [
      "{\"id\":\"spotify:track:7KXjTSCq5nL1LoYtL7XAwS\",\"embedding\":[0.0,1.299404263496399,0.0,1.9626023769378662,0.9899280071258545,0.0,0.0,1.463235855102539,0.0,0.0,0.0,1.191096544265747,0.917570173740387,0.0,0.8868483901023865,0.0,0.10310716181993484,0.0,1.8541319370269775,0.5499535202980042,0.0,1.6987088918685913,0.0,0.9349961280822754,0.0,3.116037368774414,0.6033315062522888,2.030458450317383,2.298565626144409,0.04743406921625137,2.6146557331085205,0.0,0.0,0.0,0.0,1.0460923910140991,0.0,0.0,1.0246585607528687,0.987559974193573,0.33046475052833557,0.0,0.2792878746986389,1.6591477394104004,1.3622632026672363,2.053957462310791,1.8277980089187622,0.0,0.0,1.980850338935852,1.4652233123779297,0.543260931968689,0.0,2.1410279273986816,0.0,0.7686691284179688,0.0,0.653235912322998,0.0,0.0,0.0,1.534237265586853,0.25231462717056274,1.375752329826355,0.9623284935951233,1.588895559310913,0.7613391876220703,0.0,0.9915654063224792,0.0,1.0850870609283447,0.0,0.0,1.0584837198257446,0.0,1.9508161544799805,0.0,0.0,0.46234509348869324,0.6606160402297974,1.463007926940918,4.194817066192627,1.5320892333984375,0.0,2.0219361782073975,1.777625560760498,0.6930645704269409,0.0,0.0,0.0,0.31710922718048096,0.0,0.4059966802597046,1.3402867317199707,0.0,0.9143898487091064,1.2046153545379639,0.0,3.108894109725952,1.6829891204833984,2.0608952045440674,0.4313822090625763,0.8403422236442566,0.0,2.4764389991760254,0.0,0.0,0.961064338684082,0.31132468581199646,0.0,0.0,1.5489422082901,0.7841956615447998,0.40106216073036194,0.0,0.0,0.9409736394882202,1.302547812461853,0.0,0.0,0.0,0.7281315922737122,0.3805948793888092,0.0,1.06965970993042,0.0,3.415005683898926,0.0]}\n",
      "{\"id\":\"spotify:track:1xznGGDReH1oQq0xzbwXa3\",\"embedding\":[0.9995646476745605,1.7811143398284912,0.0,1.7896002531051636,0.7504148483276367,0.0,0.0,1.5283255577087402,0.0,0.0,1.035609483718872,1.3683730363845825,0.8457133173942566,0.0,1.0744885206222534,0.0,0.0,0.0,2.151643753051758,0.2017843872308731,0.0,1.2001069784164429,0.0,1.649909496307373,0.0,3.3702945709228516,0.8796635866165161,2.9526398181915283,2.0931236743927,0.1431918442249298,2.4909873008728027,0.0,0.0,0.34186649322509766,0.0,0.47980672121047974,0.0,0.0,0.957670271396637,2.36616849899292,0.3380201458930969,0.0,0.8466600775718689,1.5443158149719238,2.090778112411499,1.2243748903274536,2.655024528503418,0.0,0.0,1.6032803058624268,1.9022765159606934,1.2018276453018188,0.0,1.9394804239273071,0.0,0.647617518901825,0.0,0.6652411222457886,0.0,0.0,0.0,2.4707961082458496,0.22493486106395721,1.4388794898986816,1.083550214767456,1.872432827949524,0.8108397126197815,0.0,1.1370316743850708,0.0,1.0291796922683716,0.0,0.07563090324401855,0.9198043346405029,0.0,0.16728408634662628,0.13390101492404938,0.0,1.1082122325897217,0.9383465647697449,2.2043938636779785,4.044826984405518,2.3335282802581787,0.0,1.094409465789795,1.6022932529449463,1.0820859670639038,0.0,0.0,0.0,0.0,0.0,0.9471457004547119,1.2293412685394287,0.0,0.8260366916656494,0.9561638832092285,0.0,2.829737424850464,0.8663649559020996,1.5754586458206177,0.11132601648569107,0.2734403610229492,0.0,0.0,0.0,0.6378945708274841,1.98056161403656,1.0449848175048828,0.0,0.062003299593925476,0.9529706239700317,1.082441806793213,0.0,0.0,0.0,0.0,1.6711986064910889,0.0,0.060626234859228134,0.0,0.3581693768501282,0.4323219060897827,0.0,0.455685019493103,0.0,2.393761396408081,0.4764196276664734]}\n"
     ]
    }
   ],
   "source": [
    "!head -2 candidate_embeddings.json"
   ]
  },
  {
   "cell_type": "code",
   "execution_count": 80,
   "id": "5ff8d413-1845-4fa3-98d9-2e1162a38316",
   "metadata": {},
   "outputs": [
    {
     "name": "stdout",
     "output_type": "stream",
     "text": [
      "/usr/lib/python3/dist-packages/requests/__init__.py:89: RequestsDependencyWarning: urllib3 (1.26.12) or chardet (3.0.4) doesn't match a supported version!\n",
      "  warnings.warn(\"urllib3 ({}) or chardet ({}) doesn't match a supported \"\n",
      "Copying file://candidate_embeddings.json [Content-Type=application/json]...\n",
      "==> NOTE: You are uploading one or more large file(s), which would run          \n",
      "significantly faster if you enable parallel composite uploads. This\n",
      "feature can be enabled by editing the\n",
      "\"parallel_composite_upload_threshold\" value in your .boto\n",
      "configuration file. However, note that if you do this large files will\n",
      "be uploaded as `composite objects\n",
      "<https://cloud.google.com/storage/docs/composite-objects>`_,which\n",
      "means that any user who downloads such objects will need to have a\n",
      "compiled crcmod installed (see \"gsutil help crcmod\"). This is because\n",
      "without a compiled crcmod, computing checksums on composite objects is\n",
      "so slow that gsutil disables downloads of composite objects.\n",
      "\n",
      "\\ [1 files][  4.1 GiB/  4.1 GiB]   67.3 MiB/s                                   \n",
      "Operation completed over 1 objects/4.1 GiB.                                      \n"
     ]
    }
   ],
   "source": [
    "!gsutil cp candidate_embeddings.json $candidate_path"
   ]
  },
  {
   "cell_type": "markdown",
   "id": "a74a554e-6358-46e3-b614-2872de6858b1",
   "metadata": {},
   "source": [
    "## All set move to the next notebook - your bucket now should look something like this:\n",
    "\n",
    "![](img/merlin-bucket.png)"
   ]
  }
 ],
 "metadata": {
  "environment": {
   "kernel": "python3",
   "name": "tf2-gpu.2-8.m98",
   "type": "gcloud",
   "uri": "gcr.io/deeplearning-platform-release/tf2-gpu.2-8:m98"
  },
  "kernelspec": {
   "display_name": "Python 3 (ipykernel)",
   "language": "python",
   "name": "python3"
  },
  "language_info": {
   "codemirror_mode": {
    "name": "ipython",
    "version": 3
   },
   "file_extension": ".py",
   "mimetype": "text/x-python",
   "name": "python",
   "nbconvert_exporter": "python",
   "pygments_lexer": "ipython3",
   "version": "3.8.10"
  }
 },
 "nbformat": 4,
 "nbformat_minor": 5
}
