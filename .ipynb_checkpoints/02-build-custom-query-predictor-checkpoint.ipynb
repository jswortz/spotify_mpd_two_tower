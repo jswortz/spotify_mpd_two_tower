{
 "cells": [
  {
   "cell_type": "code",
   "execution_count": null,
   "id": "9d8757f6-8f36-4b0d-8c37-ba31a1773f94",
   "metadata": {},
   "outputs": [],
   "source": [
    "# !pip install google-cloud-aiplatform[prediction]>=1.16.0 fastapi nvtabular git+https://github.com/NVIDIA-Merlin/models.git --user"
   ]
  },
  {
   "cell_type": "markdown",
   "id": "201e92f9-980b-43e9-8c76-b2aa02260e96",
   "metadata": {
    "tags": []
   },
   "source": [
    "# Sklearn with Pandas - Custom Prediction Routine to get Merlin Model predictions\n",
    "\n",
    "Your output should look like this - you are going to use the query model endpoint to create a CPR Endpoing\n",
    "\n",
    "![](img/merlin-bucket.png)\n",
    "\n",
    "This is similar to [the other notebook](https://github.com/GoogleCloudPlatform/vertex-ai-samples/blob/main/notebooks/community/ml_ops/stage6/get_started_with_cpr.ipynb) except we will be using pandas and bigquery\n",
    "\n",
    "Topics covered\n",
    "* Training sklearn locally, deploying to endpoint\n",
    "* Saving data as CSV and doing batch predict from GCS\n",
    "* Loading data to BQ, using BQ magics\n",
    "* Running a batch prediction from BQ to BQ"
   ]
  },
  {
   "cell_type": "code",
   "execution_count": 1,
   "id": "7b65e26b-31d7-459e-8f80-92e2c206fc7f",
   "metadata": {},
   "outputs": [],
   "source": [
    "# !gsutil mb -l us-central1 gs://wortz-project-bucket"
   ]
  },
  {
   "cell_type": "code",
   "execution_count": 2,
   "id": "5075f2f7-c075-4e56-a188-4adfee578a2a",
   "metadata": {
    "tags": []
   },
   "outputs": [],
   "source": [
    "# !echo y | docker container prune\n",
    "# !echo y | docker image prune"
   ]
  },
  {
   "cell_type": "markdown",
   "id": "d045aab2-d485-4bf1-9319-b7afc5cccb34",
   "metadata": {},
   "source": [
    "### Set up repo and configure Docker (one-time)"
   ]
  },
  {
   "cell_type": "code",
   "execution_count": 3,
   "id": "e72acda9-ae76-4ce9-8600-71238d545f57",
   "metadata": {},
   "outputs": [
    {
     "name": "stdout",
     "output_type": "stream",
     "text": [
      "\u001b[1;31mERROR:\u001b[0m (gcloud.beta.artifacts.repositories.create) Error parsing [repository].\n",
      "The [repository] resource is not properly specified.\n",
      "Failed to find attribute [location]. The attribute can be set in the following ways: \n",
      "- provide the argument `--location` on the command line\n",
      "- set the property `artifacts/location`\n"
     ]
    }
   ],
   "source": [
    "# Create the repo if needed for the artifacts\n",
    "\n",
    "! gcloud beta artifacts repositories create {REPOSITORY} \\\n",
    "    --repository-format=docker \\\n",
    "    --location=$REGION"
   ]
  },
  {
   "cell_type": "code",
   "execution_count": 6,
   "id": "1858a130-739b-4752-bf02-d0e8356a0829",
   "metadata": {},
   "outputs": [
    {
     "name": "stdout",
     "output_type": "stream",
     "text": [
      "\u001b[1;33mWARNING:\u001b[0m Your config file at [/home/jupyter/.docker/config.json] contains these credential helper entries:\n",
      "\n",
      "{\n",
      "  \"credHelpers\": {\n",
      "    \"gcr.io\": \"gcloud\",\n",
      "    \"us.gcr.io\": \"gcloud\",\n",
      "    \"eu.gcr.io\": \"gcloud\",\n",
      "    \"asia.gcr.io\": \"gcloud\",\n",
      "    \"staging-k8s.gcr.io\": \"gcloud\",\n",
      "    \"marketplace.gcr.io\": \"gcloud\"\n",
      "  }\n",
      "}\n",
      "Adding credentials for: us-central1-docker.pkg.dev\n",
      "Docker configuration file updated.\n"
     ]
    }
   ],
   "source": [
    "! gcloud auth configure-docker {REGION}-docker.pkg.dev --quiet"
   ]
  },
  {
   "cell_type": "code",
   "execution_count": 5,
   "id": "9cbe8a06-ed15-40ac-bc2f-d387bb406301",
   "metadata": {},
   "outputs": [],
   "source": [
    "from datetime import datetime\n",
    "\n",
    "\n",
    "PROJECT = 'hybrid-vertex'  # <--- TODO: CHANGE THIS\n",
    "REGION = 'us-central1' \n",
    "BUCKET = 'gs://spotify-beam-v3'\n",
    "REPOSITORY = 'merlin-spotify-cpr'\n",
    "ARTIFACT_URI = f'{BUCKET}/merlin-processed'\n",
    "MODEL_DIR = f'{BUCKET}/merlin-processed/query_model_merlin'\n",
    "PREFIX = 'merlin-spotify'"
   ]
  },
  {
   "cell_type": "markdown",
   "id": "2831cdd6-8d18-40aa-88ba-50889c3624a0",
   "metadata": {
    "tags": []
   },
   "source": [
    "# New section - preprocessor creation.\n",
    "\n",
    "In this section we will create a pipeline object that stores a standard scaler \n",
    "using the `PipeLine` class is important as it provides a lot of flexibility and conforms to sklearn's framework"
   ]
  },
  {
   "cell_type": "markdown",
   "id": "89c749d4-18ca-46a0-91f9-432dbf1220e3",
   "metadata": {
    "tags": []
   },
   "source": [
    "appapp## Create a generic sklearn container that returns instances\n",
    "\n",
    "https://github.com/GoogleCloudPlatform/vertex-ai-samples/blob/main/notebooks/community/ml_ops/stage6/get_started_with_cpr.ipynb\n",
    "\n",
    "**highly recommend reviewing this notebook first as it breaks down the custom predictor interface**"
   ]
  },
  {
   "cell_type": "code",
   "execution_count": 7,
   "id": "7bf429ed-e23c-47ac-93da-8a70c4e3e92a",
   "metadata": {
    "tags": []
   },
   "outputs": [],
   "source": [
    "! rm -rf app\n",
    "! mkdir app"
   ]
  },
  {
   "cell_type": "code",
   "execution_count": 8,
   "id": "4af962a7-3196-4b9a-9c36-3f35fd525b5b",
   "metadata": {},
   "outputs": [
    {
     "name": "stdout",
     "output_type": "stream",
     "text": [
      "Writing app/requirements.txt\n"
     ]
    }
   ],
   "source": [
    "%%writefile app/requirements.txt\n",
    "uvicorn[standard]==0.15.0\n",
    "gunicorn==20.1.0\n",
    "fastapi==0.68.1\n",
    "git+https://github.com/NVIDIA-Merlin/models.git\n",
    "nvtabular\n",
    "gcsfs\n",
    "google-cloud-storage"
   ]
  },
  {
   "cell_type": "markdown",
   "id": "5b0c1627-edf8-4879-b1eb-10f28e19cb7a",
   "metadata": {},
   "source": [
    "### CPR Template from here https://cloud.google.com/vertex-ai/docs/predictions/custom-prediction-routines"
   ]
  },
  {
   "cell_type": "code",
   "execution_count": 9,
   "id": "3d80c477-d403-4d39-9220-98d90511a180",
   "metadata": {},
   "outputs": [
    {
     "name": "stdout",
     "output_type": "stream",
     "text": [
      "Writing app/predictor.py\n"
     ]
    }
   ],
   "source": [
    "%%writefile app/predictor.py\n",
    "\n",
    "import nvtabular as nvt\n",
    "import pandas as pd\n",
    "import os\n",
    "import json\n",
    "import merlin.models.tf as mm\n",
    "from nvtabular.loader.tf_utils import configure_tensorflow\n",
    "configure_tensorflow()\n",
    "import tensorflow as tf\n",
    "\n",
    "class Predictor():\n",
    "    \"\"\"Interface of the Predictor class for Custom Prediction Routines.\n",
    "    The Predictor is responsible for the ML logic for processing a prediction request.\n",
    "    Specifically, the Predictor must define:\n",
    "    (1) How to load all model artifacts used during prediction into memory.\n",
    "    (2) The logic that should be executed at predict time.\n",
    "    When using the default PredictionHandler, the Predictor will be invoked as follows:\n",
    "      predictor.postprocess(predictor.predict(predictor.preprocess(prediction_input)))\n",
    "    \"\"\"\n",
    "    def __init__(self):\n",
    "        return\n",
    "    \n",
    "    def load(self, artifacts_uri):\n",
    "        \"\"\"Loads the model artifact.\n",
    "        Args:\n",
    "            artifacts_uri (str):\n",
    "                Required. The value of the environment variable AIP_STORAGE_URI.\n",
    "        \"\"\"\n",
    "        self._model = tf.keras.models.load_model(os.path.join(artifacts_uri, \"query_model_merlin\" ))\n",
    "        self._workflow = nvt.Workflow.load(os.path.join(artifacts_uri, \"workflow/2t-spotify-workflow\"))\n",
    "        self._workflow.remove_inputs(['track_pop_can', 'track_uri_can', 'duration_ms_can', \n",
    "                                      'track_name_can', 'artist_name_can','album_name_can',\n",
    "                                      'album_uri_can','artist_followers_can', 'artist_genres_can',\n",
    "                                      'artist_name_can', 'artist_pop_can','artist_pop_pl','artist_uri_can', \n",
    "                                      'artists_followers_pl'])  \n",
    "        return self\n",
    "        \n",
    "    def preprocess(self, prediction_input):\n",
    "        \"\"\"Preprocesses the prediction input before doing the prediction.\n",
    "        Args:\n",
    "            prediction_input (Any):\n",
    "                Required. The prediction input that needs to be preprocessed.\n",
    "        Returns:\n",
    "            The preprocessed prediction input.\n",
    "        \"\"\"\n",
    "        #handle different input types, can take a dict or list of dicts\n",
    "        if type(prediction_input) == list:\n",
    "            pandas_instance = pd.DataFrame.from_dict(prediction_input[0], orient='index').T\n",
    "            if len(prediction_input) > 1:\n",
    "                for ti in prediction_input[0:]:\n",
    "                    pandas_instance = pandas_instance.append(pd.DataFrame.from_dict(ti, orient='index').T)\n",
    "        if type(prediction_input) == dict:\n",
    "            pandas_instance = pd.DataFrame.from_dict(prediction_input, orient='index').T\n",
    "        else:\n",
    "            raise Exception(\"Data must be provided as a dict or list of dicts\")\n",
    "\n",
    "        transformed_inputs = nvt.Dataset(pandas_instance)\n",
    "        transformed_instance = self._workflow.transform(transformed_inputs)\n",
    "        return transformed_instance\n",
    "\n",
    "    def predict(self, instances):\n",
    "        \"\"\"Performs prediction.\n",
    "        Args:\n",
    "            instances (Any):\n",
    "                Required. The instance(s) used for performing prediction.\n",
    "        Returns:\n",
    "            Prediction results.\n",
    "        \"\"\"  \n",
    "        \n",
    "        loader = mm.Loader(instances, batch_size=instances.num_rows, shuffle=False)\n",
    "        batch =next(iter(loader))\n",
    "        return self._model(batch[0])"
   ]
  },
  {
   "cell_type": "code",
   "execution_count": 10,
   "id": "2b9a8771-cae3-494d-a56b-060616889463",
   "metadata": {},
   "outputs": [
    {
     "name": "stdout",
     "output_type": "stream",
     "text": [
      "Writing app/main.py\n"
     ]
    }
   ],
   "source": [
    "%%writefile app/main.py\n",
    "from fastapi import FastAPI, Request\n",
    "\n",
    "import json\n",
    "import numpy as np\n",
    "import os\n",
    "\n",
    "from google.cloud import storage\n",
    "from predictor import Predictor\n",
    "\n",
    "app = FastAPI()\n",
    "\n",
    "predictor_instance = Predictor()\n",
    "loaded_predictor = predictor_instance.load(artifacts_uri = os.environ['AIP_STORAGE_URI'])\n",
    "\n",
    "@app.get(os.environ['AIP_HEALTH_ROUTE'], status_code=200)\n",
    "def health():\n",
    "    return {}\n",
    "\n",
    "\n",
    "@app.post(os.environ['AIP_PREDICT_ROUTE'])\n",
    "async def predict(request: Request):\n",
    "    body = await request.json()\n",
    "\n",
    "    instances = body[\"instances\"]\n",
    "    # inputs = np.asarray(instances)\n",
    "    preprocessed_inputs = loaded_predictor.preprocess(instances)\n",
    "    outputs = loaded_predictor.predict(preprocessed_inputs)\n",
    "\n",
    "    return {\"predictions\": outputs}"
   ]
  },
  {
   "cell_type": "code",
   "execution_count": 11,
   "id": "2dfde697-cec3-470c-9c6d-3be275ce6b55",
   "metadata": {},
   "outputs": [
    {
     "name": "stdout",
     "output_type": "stream",
     "text": [
      "Writing app/prestart.sh\n"
     ]
    }
   ],
   "source": [
    "%%writefile app/prestart.sh\n",
    "#!/bin/bash\n",
    "export PORT=$AIP_HTTP_PORT"
   ]
  },
  {
   "cell_type": "code",
   "execution_count": 12,
   "id": "970ed68e-37f6-406c-9615-3aab9570daeb",
   "metadata": {},
   "outputs": [],
   "source": [
    "#make it a package\n",
    "!touch app/__init__.py"
   ]
  },
  {
   "cell_type": "code",
   "execution_count": 13,
   "id": "0cb65bef-d269-4f80-a40b-e0b43f844c2a",
   "metadata": {},
   "outputs": [
    {
     "name": "stdout",
     "output_type": "stream",
     "text": [
      "Writing Dockerfile\n"
     ]
    }
   ],
   "source": [
    "%%writefile Dockerfile\n",
    "\n",
    "FROM nvcr.io/nvidia/merlin/merlin-tensorflow:nightly\n",
    "WORKDIR /app \n",
    "\n",
    "\n",
    "COPY ./app/requirements.txt /requirements.txt\n",
    "RUN pip install -r /requirements.txt\n",
    "\n",
    "COPY ./app /app\n",
    "EXPOSE 80\n",
    "\n",
    "CMD [\"uvicorn\", \"main:app\", \"--host\", \"0.0.0.0\", \"--port\", \"8080\"]"
   ]
  },
  {
   "cell_type": "code",
   "execution_count": null,
   "id": "22af2064-0460-4dd5-b352-180f33fbdd1c",
   "metadata": {
    "tags": []
   },
   "outputs": [
    {
     "name": "stdout",
     "output_type": "stream",
     "text": [
      "Sending build context to Docker daemon  82.78MB\n",
      "Step 1/7 : FROM nvcr.io/nvidia/merlin/merlin-tensorflow:nightly\n",
      "nightly: Pulling from nvidia/merlin/merlin-tensorflow\n",
      "\n",
      "\u001b[1Bec22a9e9: Pulling fs layer \n",
      "\u001b[1Bd866e8b2: Pulling fs layer \n",
      "\u001b[1Bca75fd6d: Pulling fs layer \n",
      "\u001b[1B31d03623: Pulling fs layer \n",
      "\u001b[1Bc2e0251f: Pulling fs layer \n",
      "\u001b[1Bf40d02d9: Pulling fs layer \n",
      "\u001b[1Be9b94123: Pulling fs layer \n",
      "\u001b[1Bdcdda788: Pulling fs layer \n",
      "\u001b[1B2ec5e515: Pulling fs layer \n",
      "\u001b[1B1a475a23: Pulling fs layer \n",
      "\u001b[1B0cf31c9a: Pulling fs layer \n",
      "\u001b[9B31d03623: Waiting fs layer \n",
      "\u001b[1B76abf1e5: Pulling fs layer \n",
      "\u001b[1Bb700ef54: Pulling fs layer \n",
      "\u001b[1B34e8ae41: Pulling fs layer \n",
      "\u001b[10B9b94123: Waiting fs layer \n",
      "\u001b[10Bcdda788: Waiting fs layer \n",
      "\u001b[1B02344d54: Pulling fs layer \n",
      "\u001b[11Bec5e515: Waiting fs layer \n",
      "\u001b[1B19bf01a3: Pulling fs layer \n",
      "\u001b[1Ba0202c3e: Pulling fs layer \n",
      "\u001b[1B1ae5c43c: Pulling fs layer \n",
      "\u001b[1B4d7d14fc: Pulling fs layer \n",
      "\u001b[1B3042aa5b: Pulling fs layer \n",
      "\u001b[1Bedae70e4: Pulling fs layer \n",
      "\u001b[1Bf69ae45e: Pulling fs layer \n",
      "\u001b[1B0aadff15: Pulling fs layer \n",
      "\u001b[1B1a3db8f4: Pulling fs layer \n",
      "\u001b[1B2ed19884: Pulling fs layer \n",
      "\u001b[1B9b7f92bf: Pulling fs layer \n",
      "\u001b[1Bc827023e: Pulling fs layer \n",
      "\u001b[23Ba475a23: Waiting fs layer \n",
      "\u001b[23Bcf31c9a: Waiting fs layer \n",
      "\u001b[1B6c40305a: Pulling fs layer \n",
      "\u001b[24B799e2ed: Waiting fs layer \n",
      "\u001b[24B6abf1e5: Waiting fs layer \n",
      "\u001b[1Be9bed120: Pulling fs layer \n",
      "\u001b[25B700ef54: Waiting fs layer \n",
      "\u001b[1B6b46296d: Pulling fs layer \n",
      "\u001b[1Bf71d1192: Pulling fs layer \n",
      "\u001b[1B095979e4: Pulling fs layer \n",
      "\u001b[1B3f2cef86: Pulling fs layer \n",
      "\u001b[1B41a4d35e: Pulling fs layer \n",
      "\u001b[1B625ed7a9: Pulling fs layer \n",
      "\u001b[1B17efdb72: Pulling fs layer \n",
      "\u001b[1B4c914da8: Pulling fs layer \n",
      "\u001b[1B5507c38b: Pulling fs layer \n",
      "\u001b[1B4c09b5b2: Pulling fs layer \n",
      "\u001b[1Bf52c2620: Pulling fs layer \n",
      "\u001b[1Bbf4a9eaf: Pulling fs layer \n",
      "\u001b[1B13ef1555: Pulling fs layer \n",
      "\u001b[1Bf8740c02: Pulling fs layer \n",
      "\u001b[1B3688e521: Pulling fs layer \n",
      "\u001b[1Bba95a219: Pulling fs layer \n",
      "\u001b[1B5c3c80f1: Pulling fs layer \n",
      "\u001b[1B353b82b9: Pulling fs layer \n",
      "\u001b[1B73b7f712: Pulling fs layer \n",
      "\u001b[1B8b41183d: Pulling fs layer \n",
      "\u001b[1B23245f36: Pulling fs layer \n",
      "\u001b[1B903e4b94: Pulling fs layer \n",
      "\u001b[1B7b0ec1be: Pulling fs layer \n",
      "\u001b[1B45fff76f: Pulling fs layer \n",
      "\u001b[1Bc9b8f156: Pulling fs layer \n",
      "\u001b[1B41bf3ac5: Pulling fs layer \n",
      "\u001b[1B883f669e: Pulling fs layer \n",
      "\u001b[52B4e8ae41: Waiting fs layer \n",
      "\u001b[1B82d76a43: Pulling fs layer \n",
      "\u001b[53B778b5bf: Waiting fs layer \n",
      "\u001b[1B1e50cfe8: Pulling fs layer \n",
      "\u001b[1B8dce5a13: Pulling fs layer \n",
      "\u001b[1Ba988dcae: Pulling fs layer \n",
      "\u001b[1B740f4b37: Pulling fs layer \n",
      "\u001b[1B066e3737: Pulling fs layer \n",
      "\u001b[56Bfcde68c: Waiting fs layer \n",
      "\u001b[1B4ee12082: Pulling fs layer \n",
      "\u001b[1Bc4c24c54: Pulling fs layer \n",
      "\u001b[8B8dce5a13: Extracting  779.3MB/1.68GBBB\u001b[75A\u001b[2K\u001b[77A\u001b[2K\u001b[76A\u001b[2K\u001b[77A\u001b[2K\u001b[76A\u001b[2K\u001b[77A\u001b[2K\u001b[76A\u001b[2K\u001b[77A\u001b[2K\u001b[76A\u001b[2K\u001b[77A\u001b[2K\u001b[76A\u001b[2K\u001b[77A\u001b[2K\u001b[76A\u001b[2K\u001b[76A\u001b[2K\u001b[77A\u001b[2K\u001b[76A\u001b[2K\u001b[77A\u001b[2K\u001b[76A\u001b[2K\u001b[77A\u001b[2K\u001b[76A\u001b[2K\u001b[77A\u001b[2K\u001b[76A\u001b[2K\u001b[73A\u001b[2K\u001b[75A\u001b[2K\u001b[73A\u001b[2K\u001b[73A\u001b[2K\u001b[72A\u001b[2K\u001b[73A\u001b[2K\u001b[71A\u001b[2K\u001b[73A\u001b[2K\u001b[77A\u001b[2K\u001b[73A\u001b[2K\u001b[73A\u001b[2K\u001b[73A\u001b[2K\u001b[73A\u001b[2K\u001b[73A\u001b[2K\u001b[67A\u001b[2K\u001b[73A\u001b[2K\u001b[67A\u001b[2K\u001b[73A\u001b[2K\u001b[67A\u001b[2K\u001b[73A\u001b[2K\u001b[67A\u001b[2K\u001b[76A\u001b[2K\u001b[67A\u001b[2K\u001b[68A\u001b[2K\u001b[76A\u001b[2K\u001b[73A\u001b[2K\u001b[67A\u001b[2K\u001b[73A\u001b[2K\u001b[66A\u001b[2K\u001b[76A\u001b[2K\u001b[67A\u001b[2K\u001b[76A\u001b[2K\u001b[67A\u001b[2K\u001b[73A\u001b[2K\u001b[67A\u001b[2K\u001b[65A\u001b[2K\u001b[67A\u001b[2K\u001b[73A\u001b[2K\u001b[73A\u001b[2K\u001b[76A\u001b[2K\u001b[73A\u001b[2K\u001b[76A\u001b[2K\u001b[73A\u001b[2K\u001b[76A\u001b[2K\u001b[73A\u001b[2K\u001b[76A\u001b[2K\u001b[73A\u001b[2K\u001b[65A\u001b[2K\u001b[73A\u001b[2K\u001b[76A\u001b[2K\u001b[65A\u001b[2K\u001b[76A\u001b[2K\u001b[76A\u001b[2K\u001b[73A\u001b[2K\u001b[73A\u001b[2K\u001b[76A\u001b[2K\u001b[73A\u001b[2K\u001b[76A\u001b[2K\u001b[73A\u001b[2K\u001b[76A\u001b[2K\u001b[73A\u001b[2KDownloading  143.1MB/343.6MB\u001b[73A\u001b[2K\u001b[73A\u001b[2K\u001b[61A\u001b[2K\u001b[73A\u001b[2K\u001b[76A\u001b[2K\u001b[73A\u001b[2K\u001b[61A\u001b[2K\u001b[73A\u001b[2K\u001b[65A\u001b[2K\u001b[76A\u001b[2K\u001b[61A\u001b[2K\u001b[61A\u001b[2K\u001b[61A\u001b[2K\u001b[61A\u001b[2K\u001b[61A\u001b[2K\u001b[73A\u001b[2K\u001b[61A\u001b[2K\u001b[73A\u001b[2K\u001b[65A\u001b[2K\u001b[73A\u001b[2K\u001b[73A\u001b[2K\u001b[73A\u001b[2K\u001b[65A\u001b[2K\u001b[73A\u001b[2K\u001b[73A\u001b[2K\u001b[60A\u001b[2K\u001b[73A\u001b[2K\u001b[60A\u001b[2K\u001b[59A\u001b[2K\u001b[60A\u001b[2K\u001b[73A\u001b[2K\u001b[73A\u001b[2K\u001b[60A\u001b[2K\u001b[73A\u001b[2K\u001b[60A\u001b[2K\u001b[73A\u001b[2K\u001b[60A\u001b[2K\u001b[73A\u001b[2K\u001b[60A\u001b[2K\u001b[73A\u001b[2K\u001b[60A\u001b[2K\u001b[73A\u001b[2K\u001b[58A\u001b[2K\u001b[60A\u001b[2K\u001b[73A\u001b[2K\u001b[73A\u001b[2K\u001b[75A\u001b[2K\u001b[75A\u001b[2K\u001b[58A\u001b[2K\u001b[75A\u001b[2K\u001b[58A\u001b[2K\u001b[60A\u001b[2K\u001b[73A\u001b[2K\u001b[60A\u001b[2K\u001b[73A\u001b[2K\u001b[75A\u001b[2K\u001b[73A\u001b[2K\u001b[75A\u001b[2K\u001b[73A\u001b[2K\u001b[75A\u001b[2K\u001b[73A\u001b[2K\u001b[75A\u001b[2K\u001b[60A\u001b[2K\u001b[75A\u001b[2K\u001b[60A\u001b[2K\u001b[57A\u001b[2K\u001b[60A\u001b[2K\u001b[75A\u001b[2K\u001b[75A\u001b[2K\u001b[75A\u001b[2K\u001b[75A\u001b[2K\u001b[75A\u001b[2K\u001b[60A\u001b[2K\u001b[75A\u001b[2K\u001b[60A\u001b[2K\u001b[75A\u001b[2K\u001b[60A\u001b[2K\u001b[56A\u001b[2K\u001b[75A\u001b[2K\u001b[56A\u001b[2K\u001b[75A\u001b[2K\u001b[73A\u001b[2K\u001b[75A\u001b[2K\u001b[73A\u001b[2K\u001b[56A\u001b[2K\u001b[60A\u001b[2K\u001b[56A\u001b[2K\u001b[60A\u001b[2K\u001b[56A\u001b[2K\u001b[75A\u001b[2K\u001b[56A\u001b[2K\u001b[60A\u001b[2K\u001b[56A\u001b[2K\u001b[73A\u001b[2K\u001b[56A\u001b[2K\u001b[73A\u001b[2K\u001b[56A\u001b[2K\u001b[73A\u001b[2K\u001b[73A\u001b[2K\u001b[73A\u001b[2K\u001b[75A\u001b[2K\u001b[73A\u001b[2K\u001b[75A\u001b[2K\u001b[73A\u001b[2K\u001b[75A\u001b[2K\u001b[73A\u001b[2K\u001b[75A\u001b[2K\u001b[73A\u001b[2K\u001b[60A\u001b[2K\u001b[75A\u001b[2K\u001b[56A\u001b[2K\u001b[73A\u001b[2K\u001b[56A\u001b[2K\u001b[73A\u001b[2K\u001b[56A\u001b[2K\u001b[73A\u001b[2K\u001b[56A\u001b[2K\u001b[73A\u001b[2K\u001b[56A\u001b[2K\u001b[73A\u001b[2K\u001b[56A\u001b[2K\u001b[60A\u001b[2K\u001b[56A\u001b[2K\u001b[73A\u001b[2K\u001b[60A\u001b[2K\u001b[73A\u001b[2K\u001b[60A\u001b[2K\u001b[73A\u001b[2K\u001b[60A\u001b[2K\u001b[73A\u001b[2K\u001b[60A\u001b[2K\u001b[56A\u001b[2K\u001b[73A\u001b[2K\u001b[60A\u001b[2K\u001b[73A\u001b[2K\u001b[56A\u001b[2K\u001b[73A\u001b[2K\u001b[73A\u001b[2K\u001b[73A\u001b[2KDownloading  476.7MB/637.8MB\u001b[73A\u001b[2K\u001b[75A\u001b[2K\u001b[73A\u001b[2K\u001b[60A\u001b[2K\u001b[73A\u001b[2K\u001b[60A\u001b[2K\u001b[56A\u001b[2K\u001b[60A\u001b[2K\u001b[56A\u001b[2K\u001b[60A\u001b[2K\u001b[74A\u001b[2K\u001b[60A\u001b[2K\u001b[73A\u001b[2K\u001b[73A\u001b[2K\u001b[73A\u001b[2K\u001b[56A\u001b[2K\u001b[73A\u001b[2K\u001b[56A\u001b[2K\u001b[73A\u001b[2K\u001b[56A\u001b[2K\u001b[73A\u001b[2K\u001b[56A\u001b[2K\u001b[73A\u001b[2K\u001b[56A\u001b[2K\u001b[73A\u001b[2K\u001b[56A\u001b[2K\u001b[73A\u001b[2K\u001b[56A\u001b[2K\u001b[60A\u001b[2K\u001b[73A\u001b[2K\u001b[60A\u001b[2K\u001b[73A\u001b[2K\u001b[60A\u001b[2K\u001b[73A\u001b[2K\u001b[74A\u001b[2K\u001b[73A\u001b[2K\u001b[56A\u001b[2K\u001b[73A\u001b[2K\u001b[56A\u001b[2K\u001b[60A\u001b[2K\u001b[56A\u001b[2K\u001b[73A\u001b[2K\u001b[56A\u001b[2K\u001b[60A\u001b[2K\u001b[56A\u001b[2K\u001b[60A\u001b[2K\u001b[56A\u001b[2K\u001b[73A\u001b[2K\u001b[56A\u001b[2K\u001b[56A\u001b[2K\u001b[56A\u001b[2K\u001b[73A\u001b[2K\u001b[56A\u001b[2K\u001b[73A\u001b[2K\u001b[56A\u001b[2K\u001b[55A\u001b[2K\u001b[56A\u001b[2K\u001b[55A\u001b[2K\u001b[55A\u001b[2K\u001b[56A\u001b[2K\u001b[55A\u001b[2K\u001b[56A\u001b[2K\u001b[55A\u001b[2K\u001b[56A\u001b[2K\u001b[73A\u001b[2K\u001b[73A\u001b[2K\u001b[56A\u001b[2K\u001b[73A\u001b[2K\u001b[73A\u001b[2K\u001b[73A\u001b[2K\u001b[55A\u001b[2K\u001b[73A\u001b[2K\u001b[55A\u001b[2K\u001b[73A\u001b[2K\u001b[56A\u001b[2K\u001b[73A\u001b[2K\u001b[55A\u001b[2K\u001b[56A\u001b[2K\u001b[55A\u001b[2K\u001b[56A\u001b[2K\u001b[55A\u001b[2K\u001b[73A\u001b[2K\u001b[55A\u001b[2K\u001b[73A\u001b[2K\u001b[55A\u001b[2K\u001b[73A\u001b[2K\u001b[56A\u001b[2K\u001b[55A\u001b[2K\u001b[56A\u001b[2K\u001b[73A\u001b[2K\u001b[56A\u001b[2K\u001b[73A\u001b[2K\u001b[56A\u001b[2K\u001b[55A\u001b[2K\u001b[56A\u001b[2K\u001b[56A\u001b[2K\u001b[55A\u001b[2K\u001b[73A\u001b[2K\u001b[55A\u001b[2K\u001b[56A\u001b[2K\u001b[73A\u001b[2K\u001b[56A\u001b[2K\u001b[55A\u001b[2K\u001b[56A\u001b[2K\u001b[55A\u001b[2K\u001b[56A\u001b[2K\u001b[73A\u001b[2K\u001b[55A\u001b[2K\u001b[56A\u001b[2K\u001b[55A\u001b[2K\u001b[56A\u001b[2K\u001b[55A\u001b[2K\u001b[56A\u001b[2K\u001b[73A\u001b[2K\u001b[55A\u001b[2K\u001b[73A\u001b[2K\u001b[55A\u001b[2K\u001b[73A\u001b[2K\u001b[55A\u001b[2K\u001b[55A\u001b[2K\u001b[55A\u001b[2K\u001b[55A\u001b[2K\u001b[73A\u001b[2K\u001b[55A\u001b[2K\u001b[73A\u001b[2K\u001b[55A\u001b[2K\u001b[56A\u001b[2K\u001b[55A\u001b[2K\u001b[56A\u001b[2K\u001b[55A\u001b[2K\u001b[56A\u001b[2K\u001b[55A\u001b[2K\u001b[73A\u001b[2K\u001b[55A\u001b[2K\u001b[73A\u001b[2K\u001b[73A\u001b[2K\u001b[55A\u001b[2K\u001b[73A\u001b[2K\u001b[55A\u001b[2K\u001b[56A\u001b[2K\u001b[56A\u001b[2K\u001b[56A\u001b[2K\u001b[73A\u001b[2K\u001b[56A\u001b[2K\u001b[55A\u001b[2K\u001b[73A\u001b[2K\u001b[55A\u001b[2K\u001b[73A\u001b[2K\u001b[56A\u001b[2K\u001b[73A\u001b[2K\u001b[56A\u001b[2K\u001b[73A\u001b[2K\u001b[56A\u001b[2K\u001b[73A\u001b[2K\u001b[73A\u001b[2K\u001b[55A\u001b[2K\u001b[73A\u001b[2K\u001b[56A\u001b[2K\u001b[73A\u001b[2K\u001b[55A\u001b[2K\u001b[56A\u001b[2K\u001b[55A\u001b[2K\u001b[73A\u001b[2K\u001b[56A\u001b[2K\u001b[73A\u001b[2K\u001b[73A\u001b[2K\u001b[73A\u001b[2K\u001b[55A\u001b[2K\u001b[73A\u001b[2K\u001b[55A\u001b[2K\u001b[56A\u001b[2K\u001b[55A\u001b[2K\u001b[56A\u001b[2K\u001b[55A\u001b[2K\u001b[56A\u001b[2K\u001b[73A\u001b[2K\u001b[56A\u001b[2K\u001b[73A\u001b[2K\u001b[56A\u001b[2K\u001b[55A\u001b[2K\u001b[56A\u001b[2K\u001b[73A\u001b[2K\u001b[55A\u001b[2K\u001b[73A\u001b[2K\u001b[73A\u001b[2K\u001b[56A\u001b[2K\u001b[73A\u001b[2K\u001b[55A\u001b[2K\u001b[73A\u001b[2K\u001b[55A\u001b[2K\u001b[73A\u001b[2K\u001b[55A\u001b[2K\u001b[73A\u001b[2K\u001b[56A\u001b[2K\u001b[73A\u001b[2K\u001b[55A\u001b[2K\u001b[73A\u001b[2K\u001b[55A\u001b[2K\u001b[73A\u001b[2K\u001b[55A\u001b[2K\u001b[73A\u001b[2K\u001b[55A\u001b[2K\u001b[73A\u001b[2K\u001b[55A\u001b[2K\u001b[73A\u001b[2K\u001b[56A\u001b[2K\u001b[55A\u001b[2K\u001b[56A\u001b[2K\u001b[55A\u001b[2K\u001b[56A\u001b[2K\u001b[55A\u001b[2K\u001b[73A\u001b[2K\u001b[55A\u001b[2K\u001b[73A\u001b[2K\u001b[55A\u001b[2K\u001b[73A\u001b[2K\u001b[56A\u001b[2K\u001b[56A\u001b[2K\u001b[56A\u001b[2K\u001b[73A\u001b[2K\u001b[56A\u001b[2K\u001b[54A\u001b[2K\u001b[73A\u001b[2K\u001b[56A\u001b[2K\u001b[73A\u001b[2K\u001b[56A\u001b[2K\u001b[55A\u001b[2K\u001b[73A\u001b[2K\u001b[55A\u001b[2K\u001b[73A\u001b[2K\u001b[56A\u001b[2K\u001b[73A\u001b[2K\u001b[56A\u001b[2K\u001b[54A\u001b[2K\u001b[55A\u001b[2K\u001b[54A\u001b[2K\u001b[73A\u001b[2K\u001b[56A\u001b[2K\u001b[56A\u001b[2K\u001b[73A\u001b[2K\u001b[56A\u001b[2K\u001b[55A\u001b[2K\u001b[56A\u001b[2K\u001b[55A\u001b[2K\u001b[56A\u001b[2K\u001b[73A\u001b[2K\u001b[55A\u001b[2K\u001b[73A\u001b[2K\u001b[56A\u001b[2K\u001b[55A\u001b[2K\u001b[73A\u001b[2K\u001b[56A\u001b[2K\u001b[73A\u001b[2K\u001b[56A\u001b[2K\u001b[73A\u001b[2K\u001b[55A\u001b[2K\u001b[56A\u001b[2K\u001b[52A\u001b[2K\u001b[56A\u001b[2K\u001b[55A\u001b[2K\u001b[55A\u001b[2K\u001b[73A\u001b[2K\u001b[55A\u001b[2K\u001b[56A\u001b[2K\u001b[55A\u001b[2K\u001b[56A\u001b[2K\u001b[55A\u001b[2K\u001b[56A\u001b[2K\u001b[55A\u001b[2K\u001b[73A\u001b[2K\u001b[55A\u001b[2K\u001b[73A\u001b[2K\u001b[55A\u001b[2K\u001b[73A\u001b[2K\u001b[55A\u001b[2K\u001b[55A\u001b[2K\u001b[56A\u001b[2K\u001b[50A\u001b[2K\u001b[73A\u001b[2K\u001b[50A\u001b[2K\u001b[55A\u001b[2K\u001b[50A\u001b[2K\u001b[73A\u001b[2K\u001b[56A\u001b[2K\u001b[73A\u001b[2K\u001b[56A\u001b[2K\u001b[73A\u001b[2K\u001b[56A\u001b[2K\u001b[56A\u001b[2K\u001b[55A\u001b[2K\u001b[56A\u001b[2K\u001b[55A\u001b[2K\u001b[56A\u001b[2K\u001b[55A\u001b[2K\u001b[56A\u001b[2K\u001b[55A\u001b[2K\u001b[56A\u001b[2K\u001b[55A\u001b[2K\u001b[73A\u001b[2K\u001b[55A\u001b[2K\u001b[55A\u001b[2K\u001b[56A\u001b[2K\u001b[55A\u001b[2K\u001b[56A\u001b[2K\u001b[73A\u001b[2K\u001b[56A\u001b[2K\u001b[73A\u001b[2K\u001b[55A\u001b[2K\u001b[55A\u001b[2K\u001b[56A\u001b[2K\u001b[73A\u001b[2K\u001b[55A\u001b[2K\u001b[48A\u001b[2K\u001b[55A\u001b[2K\u001b[56A\u001b[2K\u001b[73A\u001b[2K\u001b[56A\u001b[2K\u001b[55A\u001b[2K\u001b[56A\u001b[2K\u001b[55A\u001b[2K\u001b[56A\u001b[2K\u001b[55A\u001b[2K\u001b[56A\u001b[2K\u001b[73A\u001b[2K\u001b[55A\u001b[2K\u001b[56A\u001b[2K\u001b[55A\u001b[2K\u001b[56A\u001b[2K\u001b[73A\u001b[2K\u001b[56A\u001b[2K\u001b[55A\u001b[2K\u001b[73A\u001b[2K\u001b[55A\u001b[2K\u001b[73A\u001b[2K\u001b[56A\u001b[2K\u001b[73A\u001b[2K\u001b[56A\u001b[2K\u001b[55A\u001b[2K\u001b[46A\u001b[2K\u001b[55A\u001b[2K\u001b[55A\u001b[2K\u001b[55A\u001b[2K\u001b[56A\u001b[2K\u001b[55A\u001b[2K\u001b[73A\u001b[2K\u001b[55A\u001b[2K\u001b[73A\u001b[2K\u001b[55A\u001b[2K\u001b[45A\u001b[2K\u001b[55A\u001b[2K\u001b[73A\u001b[2K\u001b[55A\u001b[2K\u001b[73A\u001b[2K\u001b[56A\u001b[2K\u001b[73A\u001b[2K\u001b[56A\u001b[2K\u001b[73A\u001b[2K\u001b[56A\u001b[2K\u001b[56A\u001b[2K\u001b[56A\u001b[2K\u001b[73A\u001b[2K\u001b[56A\u001b[2K\u001b[44A\u001b[2K\u001b[56A\u001b[2K\u001b[44A\u001b[2K\u001b[56A\u001b[2K\u001b[42A\u001b[2K\u001b[56A\u001b[2K\u001b[42A\u001b[2K\u001b[56A\u001b[2K\u001b[42A\u001b[2K\u001b[56A\u001b[2K\u001b[42A\u001b[2K\u001b[44A\u001b[2K\u001b[73A\u001b[2K\u001b[56A\u001b[2K\u001b[73A\u001b[2K\u001b[56A\u001b[2K\u001b[56A\u001b[2K\u001b[41A\u001b[2K\u001b[56A\u001b[2K\u001b[41A\u001b[2K\u001b[41A\u001b[2K\u001b[56A\u001b[2K\u001b[56A\u001b[2K\u001b[73A\u001b[2K\u001b[56A\u001b[2K\u001b[73A\u001b[2K\u001b[56A\u001b[2K\u001b[40A\u001b[2K\u001b[73A\u001b[2K\u001b[40A\u001b[2K\u001b[73A\u001b[2K\u001b[40A\u001b[2K\u001b[73A\u001b[2K\u001b[39A\u001b[2K\u001b[40A\u001b[2K\u001b[56A\u001b[2K\u001b[40A\u001b[2K\u001b[56A\u001b[2K\u001b[39A\u001b[2K\u001b[73A\u001b[2K\u001b[39A\u001b[2K\u001b[40A\u001b[2K\u001b[73A\u001b[2K\u001b[40A\u001b[2K\u001b[56A\u001b[2K\u001b[40A\u001b[2K\u001b[39A\u001b[2K\u001b[73A\u001b[2K\u001b[39A\u001b[2K\u001b[73A\u001b[2K\u001b[39A\u001b[2K\u001b[73A\u001b[2K\u001b[39A\u001b[2K\u001b[73A\u001b[2K\u001b[39A\u001b[2K\u001b[56A\u001b[2K\u001b[73A\u001b[2K\u001b[56A\u001b[2K\u001b[56A\u001b[2K\u001b[39A\u001b[2K\u001b[56A\u001b[2K\u001b[39A\u001b[2K\u001b[56A\u001b[2K\u001b[39A\u001b[2K\u001b[56A\u001b[2K\u001b[40A\u001b[2K\u001b[56A\u001b[2K\u001b[39A\u001b[2K\u001b[56A\u001b[2K\u001b[39A\u001b[2K\u001b[56A\u001b[2K\u001b[39A\u001b[2K\u001b[56A\u001b[2K\u001b[73A\u001b[2K\u001b[56A\u001b[2K\u001b[73A\u001b[2K\u001b[40A\u001b[2K\u001b[39A\u001b[2K\u001b[40A\u001b[2K\u001b[56A\u001b[2K\u001b[73A\u001b[2K\u001b[39A\u001b[2K\u001b[40A\u001b[2K\u001b[39A\u001b[2K\u001b[40A\u001b[2K\u001b[56A\u001b[2K\u001b[39A\u001b[2K\u001b[73A\u001b[2K\u001b[56A\u001b[2K\u001b[40A\u001b[2K\u001b[73A\u001b[2K\u001b[39A\u001b[2K\u001b[73A\u001b[2K\u001b[39A\u001b[2K\u001b[39A\u001b[2K\u001b[40A\u001b[2K\u001b[56A\u001b[2K\u001b[40A\u001b[2K\u001b[56A\u001b[2K\u001b[40A\u001b[2K\u001b[56A\u001b[2K\u001b[39A\u001b[2K\u001b[56A\u001b[2K\u001b[73A\u001b[2K\u001b[40A\u001b[2K\u001b[39A\u001b[2K\u001b[40A\u001b[2K\u001b[56A\u001b[2K\u001b[39A\u001b[2K\u001b[73A\u001b[2K\u001b[39A\u001b[2K\u001b[73A\u001b[2K\u001b[56A\u001b[2K\u001b[40A\u001b[2K\u001b[56A\u001b[2K\u001b[40A\u001b[2K\u001b[56A\u001b[2K\u001b[39A\u001b[2K\u001b[56A\u001b[2K\u001b[39A\u001b[2K\u001b[56A\u001b[2K\u001b[39A\u001b[2K\u001b[73A\u001b[2K\u001b[39A\u001b[2K\u001b[56A\u001b[2K\u001b[40A\u001b[2K\u001b[56A\u001b[2K\u001b[39A\u001b[2K\u001b[40A\u001b[2K\u001b[39A\u001b[2K\u001b[40A\u001b[2K\u001b[73A\u001b[2K\u001b[40A\u001b[2K\u001b[73A\u001b[2K\u001b[56A\u001b[2K\u001b[40A\u001b[2K\u001b[73A\u001b[2K\u001b[56A\u001b[2K\u001b[40A\u001b[2K\u001b[56A\u001b[2K\u001b[40A\u001b[2K\u001b[56A\u001b[2K\u001b[40A\u001b[2K\u001b[73A\u001b[2K\u001b[40A\u001b[2K\u001b[56A\u001b[2K\u001b[40A\u001b[2K\u001b[56A\u001b[2K\u001b[40A\u001b[2K\u001b[56A\u001b[2K\u001b[40A\u001b[2K\u001b[56A\u001b[2K\u001b[73A\u001b[2K\u001b[56A\u001b[2K\u001b[39A\u001b[2K\u001b[56A\u001b[2K\u001b[39A\u001b[2K\u001b[56A\u001b[2K\u001b[40A\u001b[2K\u001b[39A\u001b[2K\u001b[73A\u001b[2K\u001b[39A\u001b[2K\u001b[73A\u001b[2K\u001b[39A\u001b[2K\u001b[73A\u001b[2K\u001b[56A\u001b[2K\u001b[73A\u001b[2K\u001b[56A\u001b[2K\u001b[73A\u001b[2K\u001b[39A\u001b[2K\u001b[40A\u001b[2K\u001b[39A\u001b[2K\u001b[56A\u001b[2K\u001b[73A\u001b[2K\u001b[39A\u001b[2K\u001b[40A\u001b[2K\u001b[73A\u001b[2K\u001b[40A\u001b[2K\u001b[39A\u001b[2K\u001b[40A\u001b[2K\u001b[56A\u001b[2K\u001b[73A\u001b[2K\u001b[40A\u001b[2K\u001b[73A\u001b[2K\u001b[40A\u001b[2K\u001b[39A\u001b[2K\u001b[40A\u001b[2K\u001b[73A\u001b[2K\u001b[40A\u001b[2K\u001b[73A\u001b[2K\u001b[56A\u001b[2K\u001b[73A\u001b[2K\u001b[56A\u001b[2K\u001b[39A\u001b[2K\u001b[40A\u001b[2K\u001b[73A\u001b[2K\u001b[40A\u001b[2K\u001b[40A\u001b[2K\u001b[56A\u001b[2K\u001b[40A\u001b[2K\u001b[56A\u001b[2K\u001b[73A\u001b[2K\u001b[56A\u001b[2K\u001b[38A\u001b[2K\u001b[40A\u001b[2K\u001b[73A\u001b[2K\u001b[40A\u001b[2K\u001b[73A\u001b[2K\u001b[40A\u001b[2K\u001b[38A\u001b[2K\u001b[40A\u001b[2K\u001b[73A\u001b[2K\u001b[40A\u001b[2K\u001b[73A\u001b[2K\u001b[56A\u001b[2K\u001b[73A\u001b[2K\u001b[40A\u001b[2K\u001b[73A\u001b[2K\u001b[73A\u001b[2K\u001b[56A\u001b[2K\u001b[40A\u001b[2K\u001b[56A\u001b[2K\u001b[73A\u001b[2K\u001b[56A\u001b[2K\u001b[73A\u001b[2K\u001b[56A\u001b[2K\u001b[73A\u001b[2K\u001b[40A\u001b[2K\u001b[56A\u001b[2K\u001b[37A\u001b[2KDownloading   1.85GB/1.875GB\u001b[37A\u001b[2K\u001b[56A\u001b[2K\u001b[37A\u001b[2K\u001b[40A\u001b[2K\u001b[73A\u001b[2K\u001b[56A\u001b[2KDownloading  460.3MB/728.7MB\u001b[73A\u001b[2K\u001b[40A\u001b[2K\u001b[73A\u001b[2K\u001b[37A\u001b[2K\u001b[56A\u001b[2K\u001b[40A\u001b[2K\u001b[73A\u001b[2K\u001b[40A\u001b[2K\u001b[73A\u001b[2K\u001b[73A\u001b[2K\u001b[36A\u001b[2K\u001b[40A\u001b[2K\u001b[36A\u001b[2K\u001b[73A\u001b[2K\u001b[36A\u001b[2K\u001b[40A\u001b[2K\u001b[40A\u001b[2K\u001b[40A\u001b[2K\u001b[40A\u001b[2K\u001b[34A\u001b[2K\u001b[34A\u001b[2K\u001b[34A\u001b[2K\u001b[40A\u001b[2K\u001b[73A\u001b[2K\u001b[33A\u001b[2K\u001b[33A\u001b[2K\u001b[33A\u001b[2K\u001b[40A\u001b[2K\u001b[33A\u001b[2K\u001b[73A\u001b[2K\u001b[33A\u001b[2K\u001b[40A\u001b[2K\u001b[73A\u001b[2K\u001b[40A\u001b[2K\u001b[32A\u001b[2K\u001b[40A\u001b[2K\u001b[40A\u001b[2K\u001b[40A\u001b[2K\u001b[32A\u001b[2K\u001b[31A\u001b[2K\u001b[32A\u001b[2K\u001b[31A\u001b[2K\u001b[31A\u001b[2K\u001b[32A\u001b[2K\u001b[40A\u001b[2K\u001b[40A\u001b[2K\u001b[40A\u001b[2K\u001b[73A\u001b[2K\u001b[40A\u001b[2K\u001b[30A\u001b[2K\u001b[40A\u001b[2K\u001b[30A\u001b[2K\u001b[30A\u001b[2K\u001b[40A\u001b[2K\u001b[29A\u001b[2K\u001b[73A\u001b[2K\u001b[29A\u001b[2K\u001b[40A\u001b[2K\u001b[29A\u001b[2K\u001b[73A\u001b[2K\u001b[29A\u001b[2K\u001b[29A\u001b[2K\u001b[73A\u001b[2K\u001b[29A\u001b[2K\u001b[73A\u001b[2K\u001b[29A\u001b[2K\u001b[28A\u001b[2K\u001b[29A\u001b[2K\u001b[29A\u001b[2K\u001b[28A\u001b[2K\u001b[73A\u001b[2K\u001b[28A\u001b[2K\u001b[73A\u001b[2K\u001b[28A\u001b[2K\u001b[73A\u001b[2K\u001b[28A\u001b[2K\u001b[28A\u001b[2K\u001b[28A\u001b[2K\u001b[73A\u001b[2K\u001b[27A\u001b[2K\u001b[26A\u001b[2K\u001b[26A\u001b[2K\u001b[73A\u001b[2K\u001b[26A\u001b[2K\u001b[73A\u001b[2K\u001b[73A\u001b[2K\u001b[26A\u001b[2K\u001b[73A\u001b[2K\u001b[73A\u001b[2K\u001b[27A\u001b[2K\u001b[25A\u001b[2K\u001b[27A\u001b[2K\u001b[25A\u001b[2K\u001b[26A\u001b[2K\u001b[25A\u001b[2K\u001b[73A\u001b[2K\u001b[26A\u001b[2K\u001b[25A\u001b[2K\u001b[26A\u001b[2K\u001b[73A\u001b[2K\u001b[27A\u001b[2K\u001b[73A\u001b[2K\u001b[27A\u001b[2K\u001b[25A\u001b[2K\u001b[73A\u001b[2K\u001b[27A\u001b[2K\u001b[73A\u001b[2K\u001b[25A\u001b[2K\u001b[26A\u001b[2K\u001b[25A\u001b[2K\u001b[26A\u001b[2K\u001b[25A\u001b[2K\u001b[26A\u001b[2K\u001b[73A\u001b[2K\u001b[25A\u001b[2K\u001b[73A\u001b[2K\u001b[25A\u001b[2K\u001b[26A\u001b[2K\u001b[25A\u001b[2K\u001b[26A\u001b[2K\u001b[73A\u001b[2K\u001b[26A\u001b[2K\u001b[25A\u001b[2K\u001b[26A\u001b[2K\u001b[73A\u001b[2K\u001b[25A\u001b[2K\u001b[73A\u001b[2K\u001b[26A\u001b[2K\u001b[25A\u001b[2K\u001b[26A\u001b[2K\u001b[25A\u001b[2K\u001b[26A\u001b[2K\u001b[25A\u001b[2K\u001b[73A\u001b[2K\u001b[24A\u001b[2K\u001b[73A\u001b[2K\u001b[24A\u001b[2K\u001b[24A\u001b[2K\u001b[26A\u001b[2K\u001b[73A\u001b[2K\u001b[26A\u001b[2K\u001b[73A\u001b[2K\u001b[26A\u001b[2K\u001b[26A\u001b[2K\u001b[24A\u001b[2K\u001b[26A\u001b[2K\u001b[73A\u001b[2K\u001b[26A\u001b[2K\u001b[24A\u001b[2K\u001b[26A\u001b[2K\u001b[25A\u001b[2K\u001b[73A\u001b[2K\u001b[25A\u001b[2K\u001b[73A\u001b[2K\u001b[26A\u001b[2K\u001b[24A\u001b[2K\u001b[26A\u001b[2K\u001b[24A\u001b[2K\u001b[73A\u001b[2K\u001b[24A\u001b[2K\u001b[26A\u001b[2K\u001b[24A\u001b[2K\u001b[25A\u001b[2K\u001b[24A\u001b[2K\u001b[26A\u001b[2K\u001b[24A\u001b[2K\u001b[25A\u001b[2K\u001b[73A\u001b[2K\u001b[25A\u001b[2K\u001b[73A\u001b[2K\u001b[24A\u001b[2K\u001b[25A\u001b[2K\u001b[73A\u001b[2K\u001b[25A\u001b[2K\u001b[24A\u001b[2K\u001b[26A\u001b[2K\u001b[24A\u001b[2K\u001b[73A\u001b[2K\u001b[25A\u001b[2K\u001b[73A\u001b[2K\u001b[25A\u001b[2K\u001b[26A\u001b[2K\u001b[24A\u001b[2K\u001b[26A\u001b[2K\u001b[25A\u001b[2K\u001b[24A\u001b[2K\u001b[25A\u001b[2K\u001b[24A\u001b[2K\u001b[26A\u001b[2K\u001b[73A\u001b[2K\u001b[24A\u001b[2K\u001b[25A\u001b[2K\u001b[24A\u001b[2K\u001b[73A\u001b[2K\u001b[73A\u001b[2K\u001b[26A\u001b[2K\u001b[25A\u001b[2K\u001b[73A\u001b[2K\u001b[24A\u001b[2K\u001b[24A\u001b[2K\u001b[73A\u001b[2K\u001b[26A\u001b[2K\u001b[73A\u001b[2K\u001b[26A\u001b[2K\u001b[73A\u001b[2K\u001b[26A\u001b[2K\u001b[73A\u001b[2K\u001b[26A\u001b[2K\u001b[24A\u001b[2K\u001b[73A\u001b[2K\u001b[24A\u001b[2K\u001b[73A\u001b[2K\u001b[24A\u001b[2K\u001b[25A\u001b[2K\u001b[24A\u001b[2K\u001b[73A\u001b[2K\u001b[25A\u001b[2K\u001b[73A\u001b[2K\u001b[25A\u001b[2K\u001b[73A\u001b[2K\u001b[24A\u001b[2K\u001b[73A\u001b[2K\u001b[24A\u001b[2K\u001b[73A\u001b[2K\u001b[24A\u001b[2K\u001b[26A\u001b[2K\u001b[24A\u001b[2K\u001b[26A\u001b[2K\u001b[24A\u001b[2K\u001b[26A\u001b[2K\u001b[24A\u001b[2K\u001b[73A\u001b[2K\u001b[73A\u001b[2K\u001b[26A\u001b[2K\u001b[73A\u001b[2K\u001b[24A\u001b[2K\u001b[73A\u001b[2K\u001b[24A\u001b[2K\u001b[23A\u001b[2K\u001b[73A\u001b[2K\u001b[26A\u001b[2K\u001b[73A\u001b[2K\u001b[26A\u001b[2K\u001b[26A\u001b[2K\u001b[23A\u001b[2K\u001b[26A\u001b[2K\u001b[23A\u001b[2K\u001b[26A\u001b[2K\u001b[73A\u001b[2K\u001b[26A\u001b[2K\u001b[73A\u001b[2K\u001b[26A\u001b[2K\u001b[23A\u001b[2K\u001b[26A\u001b[2K\u001b[73A\u001b[2K\u001b[26A\u001b[2K\u001b[73A\u001b[2K\u001b[24A\u001b[2K\u001b[26A\u001b[2K\u001b[26A\u001b[2K\u001b[73A\u001b[2K\u001b[24A\u001b[2K\u001b[73A\u001b[2K\u001b[26A\u001b[2K\u001b[23A\u001b[2K\u001b[26A\u001b[2K\u001b[24A\u001b[2K\u001b[26A\u001b[2K\u001b[24A\u001b[2K\u001b[23A\u001b[2K\u001b[73A\u001b[2K\u001b[23A\u001b[2K\u001b[24A\u001b[2K\u001b[26A\u001b[2K\u001b[24A\u001b[2K\u001b[26A\u001b[2K\u001b[73A\u001b[2K\u001b[23A\u001b[2K\u001b[24A\u001b[2K\u001b[24A\u001b[2K\u001b[23A\u001b[2K\u001b[24A\u001b[2K\u001b[26A\u001b[2K\u001b[73A\u001b[2K\u001b[24A\u001b[2K\u001b[73A\u001b[2K\u001b[23A\u001b[2K\u001b[73A\u001b[2K\u001b[24A\u001b[2K\u001b[73A\u001b[2K\u001b[24A\u001b[2K\u001b[23A\u001b[2K\u001b[73A\u001b[2K\u001b[24A\u001b[2K\u001b[73A\u001b[2K\u001b[24A\u001b[2K\u001b[24A\u001b[2K\u001b[26A\u001b[2K\u001b[26A\u001b[2K\u001b[23A\u001b[2K\u001b[24A\u001b[2K\u001b[23A\u001b[2K\u001b[73A\u001b[2K\u001b[23A\u001b[2K\u001b[73A\u001b[2K\u001b[23A\u001b[2K\u001b[73A\u001b[2K\u001b[24A\u001b[2K\u001b[23A\u001b[2K\u001b[73A\u001b[2K\u001b[23A\u001b[2K\u001b[24A\u001b[2K\u001b[23A\u001b[2K\u001b[24A\u001b[2K\u001b[22A\u001b[2K\u001b[24A\u001b[2K\u001b[23A\u001b[2K\u001b[22A\u001b[2K\u001b[73A\u001b[2K\u001b[22A\u001b[2K\u001b[23A\u001b[2K\u001b[24A\u001b[2K\u001b[73A\u001b[2K\u001b[24A\u001b[2K\u001b[22A\u001b[2K\u001b[23A\u001b[2K\u001b[24A\u001b[2K\u001b[23A\u001b[2K\u001b[73A\u001b[2K\u001b[23A\u001b[2K\u001b[73A\u001b[2K\u001b[23A\u001b[2K\u001b[73A\u001b[2K\u001b[23A\u001b[2K\u001b[73A\u001b[2K\u001b[23A\u001b[2K\u001b[22A\u001b[2K\u001b[23A\u001b[2K\u001b[24A\u001b[2K\u001b[23A\u001b[2K\u001b[24A\u001b[2K\u001b[23A\u001b[2K\u001b[73A\u001b[2K\u001b[24A\u001b[2K\u001b[73A\u001b[2K\u001b[24A\u001b[2K\u001b[73A\u001b[2K\u001b[22A\u001b[2K\u001b[23A\u001b[2K\u001b[22A\u001b[2K\u001b[73A\u001b[2K\u001b[24A\u001b[2K\u001b[22A\u001b[2K\u001b[24A\u001b[2K\u001b[22A\u001b[2K\u001b[23A\u001b[2K\u001b[73A\u001b[2K\u001b[23A\u001b[2K\u001b[22A\u001b[2K\u001b[23A\u001b[2K\u001b[24A\u001b[2K\u001b[23A\u001b[2K\u001b[22A\u001b[2K\u001b[23A\u001b[2K\u001b[22A\u001b[2K\u001b[73A\u001b[2K\u001b[22A\u001b[2K\u001b[23A\u001b[2K\u001b[73A\u001b[2K\u001b[23A\u001b[2K\u001b[22A\u001b[2K\u001b[73A\u001b[2K\u001b[22A\u001b[2K\u001b[23A\u001b[2K\u001b[21A\u001b[2K\u001b[23A\u001b[2K\u001b[22A\u001b[2K\u001b[23A\u001b[2K\u001b[22A\u001b[2K\u001b[73A\u001b[2K\u001b[22A\u001b[2K\u001b[21A\u001b[2K\u001b[23A\u001b[2K\u001b[21A\u001b[2K\u001b[23A\u001b[2K\u001b[73A\u001b[2K\u001b[23A\u001b[2K\u001b[22A\u001b[2K\u001b[23A\u001b[2K\u001b[21A\u001b[2K\u001b[23A\u001b[2K\u001b[21A\u001b[2K\u001b[23A\u001b[2K\u001b[22A\u001b[2K\u001b[23A\u001b[2K\u001b[73A\u001b[2K\u001b[21A\u001b[2K\u001b[23A\u001b[2K\u001b[73A\u001b[2K\u001b[23A\u001b[2K\u001b[73A\u001b[2K\u001b[23A\u001b[2K\u001b[21A\u001b[2K\u001b[23A\u001b[2K\u001b[21A\u001b[2K\u001b[73A\u001b[2K\u001b[23A\u001b[2K\u001b[22A\u001b[2K\u001b[21A\u001b[2K\u001b[22A\u001b[2K\u001b[21A\u001b[2K\u001b[23A\u001b[2K\u001b[73A\u001b[2K\u001b[21A\u001b[2K\u001b[73A\u001b[2K\u001b[23A\u001b[2K\u001b[21A\u001b[2K\u001b[21A\u001b[2K\u001b[23A\u001b[2K\u001b[21A\u001b[2K\u001b[22A\u001b[2K\u001b[21A\u001b[2K\u001b[23A\u001b[2K\u001b[73A\u001b[2K\u001b[23A\u001b[2K\u001b[23A\u001b[2K\u001b[73A\u001b[2K\u001b[21A\u001b[2K\u001b[23A\u001b[2K\u001b[22A\u001b[2K\u001b[23A\u001b[2K\u001b[22A\u001b[2K\u001b[21A\u001b[2K\u001b[22A\u001b[2K\u001b[23A\u001b[2K\u001b[22A\u001b[2K\u001b[23A\u001b[2K\u001b[21A\u001b[2K\u001b[23A\u001b[2K\u001b[21A\u001b[2K\u001b[23A\u001b[2K\u001b[22A\u001b[2K\u001b[21A\u001b[2K\u001b[73A\u001b[2K\u001b[22A\u001b[2K\u001b[73A\u001b[2K\u001b[73A\u001b[2K\u001b[73A\u001b[2K\u001b[23A\u001b[2K\u001b[22A\u001b[2K\u001b[21A\u001b[2K\u001b[21A\u001b[2K\u001b[22A\u001b[2K\u001b[21A\u001b[2K\u001b[22A\u001b[2K\u001b[22A\u001b[2K\u001b[73A\u001b[2K\u001b[21A\u001b[2K\u001b[73A\u001b[2K\u001b[22A\u001b[2K\u001b[21A\u001b[2K\u001b[22A\u001b[2K\u001b[73A\u001b[2K\u001b[23A\u001b[2K\u001b[73A\u001b[2K\u001b[22A\u001b[2K\u001b[73A\u001b[2K\u001b[23A\u001b[2K\u001b[73A\u001b[2K\u001b[23A\u001b[2K\u001b[73A\u001b[2K\u001b[22A\u001b[2K\u001b[23A\u001b[2K\u001b[73A\u001b[2K\u001b[23A\u001b[2K\u001b[73A\u001b[2K\u001b[23A\u001b[2K\u001b[22A\u001b[2K\u001b[21A\u001b[2K\u001b[22A\u001b[2K\u001b[21A\u001b[2K\u001b[23A\u001b[2K\u001b[22A\u001b[2K\u001b[23A\u001b[2K\u001b[22A\u001b[2K\u001b[73A\u001b[2K\u001b[22A\u001b[2K\u001b[21A\u001b[2K\u001b[22A\u001b[2K\u001b[21A\u001b[2K\u001b[22A\u001b[2K\u001b[21A\u001b[2K\u001b[23A\u001b[2K\u001b[73A\u001b[2K\u001b[23A\u001b[2K\u001b[73A\u001b[2K\u001b[21A\u001b[2K\u001b[73A\u001b[2K\u001b[21A\u001b[2K\u001b[73A\u001b[2K\u001b[73A\u001b[2K\u001b[73A\u001b[2K\u001b[21A\u001b[2K\u001b[73A\u001b[2K\u001b[23A\u001b[2K\u001b[73A\u001b[2K\u001b[20A\u001b[2K\u001b[73A\u001b[2K\u001b[20A\u001b[2K\u001b[23A\u001b[2K\u001b[73A\u001b[2K\u001b[23A\u001b[2K\u001b[20A\u001b[2K\u001b[23A\u001b[2K\u001b[73A\u001b[2K\u001b[23A\u001b[2K\u001b[73A\u001b[2K\u001b[23A\u001b[2K\u001b[20A\u001b[2K\u001b[23A\u001b[2K\u001b[20A\u001b[2K\u001b[23A\u001b[2K\u001b[20A\u001b[2K\u001b[73A\u001b[2K\u001b[20A\u001b[2K\u001b[73A\u001b[2K\u001b[20A\u001b[2K\u001b[73A\u001b[2K\u001b[20A\u001b[2K\u001b[23A\u001b[2K\u001b[20A\u001b[2K\u001b[23A\u001b[2K\u001b[73A\u001b[2K\u001b[21A\u001b[2K\u001b[20A\u001b[2K\u001b[21A\u001b[2K\u001b[20A\u001b[2K\u001b[20A\u001b[2K\u001b[21A\u001b[2K\u001b[20A\u001b[2K\u001b[20A\u001b[2K\u001b[73A\u001b[2K\u001b[20A\u001b[2K\u001b[23A\u001b[2K\u001b[20A\u001b[2K\u001b[21A\u001b[2K\u001b[20A\u001b[2K\u001b[73A\u001b[2K\u001b[21A\u001b[2K\u001b[21A\u001b[2K\u001b[23A\u001b[2K\u001b[23A\u001b[2K\u001b[73A\u001b[2K\u001b[21A\u001b[2K\u001b[20A\u001b[2K\u001b[21A\u001b[2K\u001b[73A\u001b[2K\u001b[23A\u001b[2K\u001b[73A\u001b[2K\u001b[20A\u001b[2K\u001b[20A\u001b[2K\u001b[21A\u001b[2K\u001b[20A\u001b[2K\u001b[73A\u001b[2K\u001b[21A\u001b[2K\u001b[19A\u001b[2K\u001b[20A\u001b[2K\u001b[21A\u001b[2K\u001b[20A\u001b[2K\u001b[19A\u001b[2K\u001b[21A\u001b[2K\u001b[21A\u001b[2K\u001b[20A\u001b[2K\u001b[21A\u001b[2K\u001b[20A\u001b[2K\u001b[20A\u001b[2K\u001b[73A\u001b[2K\u001b[21A\u001b[2K\u001b[73A\u001b[2K\u001b[21A\u001b[2K\u001b[20A\u001b[2K\u001b[21A\u001b[2K\u001b[18A\u001b[2K\u001b[21A\u001b[2K\u001b[18A\u001b[2K\u001b[20A\u001b[2K\u001b[18A\u001b[2K\u001b[20A\u001b[2K\u001b[73A\u001b[2K\u001b[20A\u001b[2K\u001b[20A\u001b[2K\u001b[21A\u001b[2K\u001b[20A\u001b[2K\u001b[21A\u001b[2K\u001b[17A\u001b[2K\u001b[17A\u001b[2K\u001b[21A\u001b[2K\u001b[21A\u001b[2K\u001b[21A\u001b[2K\u001b[21A\u001b[2K\u001b[16A\u001b[2K\u001b[21A\u001b[2K\u001b[21A\u001b[2K\u001b[21A\u001b[2K\u001b[73A\u001b[2K\u001b[21A\u001b[2K\u001b[20A\u001b[2K\u001b[73A\u001b[2K\u001b[21A\u001b[2K\u001b[73A\u001b[2K\u001b[21A\u001b[2K\u001b[21A\u001b[2K\u001b[73A\u001b[2K\u001b[21A\u001b[2K\u001b[73A\u001b[2K\u001b[21A\u001b[2K\u001b[21A\u001b[2K\u001b[21A\u001b[2K\u001b[21A\u001b[2K\u001b[20A\u001b[2K\u001b[14A\u001b[2K\u001b[20A\u001b[2K\u001b[73A\u001b[2K\u001b[20A\u001b[2K\u001b[14A\u001b[2K\u001b[73A\u001b[2K\u001b[20A\u001b[2K\u001b[14A\u001b[2K\u001b[20A\u001b[2K\u001b[73A\u001b[2K\u001b[20A\u001b[2K\u001b[13A\u001b[2K\u001b[20A\u001b[2K\u001b[14A\u001b[2K\u001b[73A\u001b[2K\u001b[14A\u001b[2K\u001b[73A\u001b[2K\u001b[14A\u001b[2K\u001b[14A\u001b[2K\u001b[12A\u001b[2K\u001b[14A\u001b[2K\u001b[14A\u001b[2K\u001b[14A\u001b[2K\u001b[20A\u001b[2K\u001b[20A\u001b[2K\u001b[20A\u001b[2K\u001b[73A\u001b[2K\u001b[20A\u001b[2K\u001b[11A\u001b[2K\u001b[73A\u001b[2K\u001b[11A\u001b[2K\u001b[20A\u001b[2K\u001b[11A\u001b[2K\u001b[20A\u001b[2K\u001b[73A\u001b[2K\u001b[20A\u001b[2K\u001b[20A\u001b[2K\u001b[20A\u001b[2K\u001b[9A\u001b[2K\u001b[73A\u001b[2K\u001b[73A\u001b[2K\u001b[73A\u001b[2K\u001b[8A\u001b[2K\u001b[73A\u001b[2K\u001b[8A\u001b[2K\u001b[6A\u001b[2K\u001b[8A\u001b[2K\u001b[73A\u001b[2K\u001b[7A\u001b[2K\u001b[73A\u001b[2K\u001b[8A\u001b[2K\u001b[7A\u001b[2K\u001b[8A\u001b[2K\u001b[7A\u001b[2K\u001b[8A\u001b[2K\u001b[7A\u001b[2K\u001b[5A\u001b[2K\u001b[5A\u001b[2K\u001b[8A\u001b[2K\u001b[73A\u001b[2K\u001b[8A\u001b[2K\u001b[73A\u001b[2K\u001b[8A\u001b[2K\u001b[8A\u001b[2K\u001b[73A\u001b[2K\u001b[3A\u001b[2K\u001b[73A\u001b[2K\u001b[8A\u001b[2K\u001b[73A\u001b[2K\u001b[8A\u001b[2K\u001b[8A\u001b[2K\u001b[8A\u001b[2K\u001b[73A\u001b[2K\u001b[8A\u001b[2K\u001b[73A\u001b[2K\u001b[1A\u001b[2K\u001b[2A\u001b[2K\u001b[1A\u001b[2K\u001b[2A\u001b[2K\u001b[2A\u001b[2K\u001b[73A\u001b[2K\u001b[8A\u001b[2K\u001b[8A\u001b[2K\u001b[8A\u001b[2K\u001b[8A\u001b[2K\u001b[73A\u001b[2K\u001b[8A\u001b[2K\u001b[8A\u001b[2K\u001b[8A\u001b[2K\u001b[8A\u001b[2K\u001b[73A\u001b[2K\u001b[8A\u001b[2K\u001b[73A\u001b[2K\u001b[8A\u001b[2K\u001b[8A\u001b[2K\u001b[73A\u001b[2K\u001b[8A\u001b[2K\u001b[8A\u001b[2K\u001b[73A\u001b[2K\u001b[73A\u001b[2K\u001b[8A\u001b[2K\u001b[8A\u001b[2K\u001b[73A\u001b[2K\u001b[8A\u001b[2K\u001b[8A\u001b[2K\u001b[8A\u001b[2K\u001b[73A\u001b[2KDownloading  340.9MB/1.68GB\u001b[73A\u001b[2K\u001b[8A\u001b[2K\u001b[73A\u001b[2K\u001b[8A\u001b[2K\u001b[8A\u001b[2K\u001b[8A\u001b[2K\u001b[73A\u001b[2K\u001b[8A\u001b[2K\u001b[73A\u001b[2K\u001b[8A\u001b[2K\u001b[8A\u001b[2K\u001b[8A\u001b[2K\u001b[73A\u001b[2K\u001b[73A\u001b[2K\u001b[8A\u001b[2K\u001b[8A\u001b[2K\u001b[8A\u001b[2K\u001b[8A\u001b[2K\u001b[8A\u001b[2K\u001b[73A\u001b[2K\u001b[8A\u001b[2K\u001b[73A\u001b[2K\u001b[8A\u001b[2K\u001b[8A\u001b[2K\u001b[73A\u001b[2K\u001b[8A\u001b[2K\u001b[73A\u001b[2K\u001b[8A\u001b[2K\u001b[8A\u001b[2K\u001b[73A\u001b[2K\u001b[8A\u001b[2K\u001b[8A\u001b[2K\u001b[73A\u001b[2K\u001b[8A\u001b[2K\u001b[73A\u001b[2K\u001b[8A\u001b[2K\u001b[73A\u001b[2K\u001b[8A\u001b[2K\u001b[73A\u001b[2K\u001b[8A\u001b[2K\u001b[8A\u001b[2K\u001b[8A\u001b[2K\u001b[73A\u001b[2K\u001b[8A\u001b[2K\u001b[73A\u001b[2K\u001b[8A\u001b[2K\u001b[8A\u001b[2K\u001b[73A\u001b[2K\u001b[8A\u001b[2K\u001b[73A\u001b[2K\u001b[8A\u001b[2K\u001b[73A\u001b[2K\u001b[8A\u001b[2K\u001b[73A\u001b[2K\u001b[8A\u001b[2K\u001b[73A\u001b[2K\u001b[8A\u001b[2K\u001b[8A\u001b[2K\u001b[73A\u001b[2K\u001b[8A\u001b[2K\u001b[73A\u001b[2K\u001b[8A\u001b[2K\u001b[73A\u001b[2K\u001b[8A\u001b[2K\u001b[8A\u001b[2K\u001b[8A\u001b[2K\u001b[73A\u001b[2K\u001b[73A\u001b[2K\u001b[73A\u001b[2K\u001b[73A\u001b[2K\u001b[8A\u001b[2K\u001b[73A\u001b[2K\u001b[8A\u001b[2K\u001b[73A\u001b[2K\u001b[8A\u001b[2K\u001b[73A\u001b[2K\u001b[8A\u001b[2K\u001b[8A\u001b[2K\u001b[73A\u001b[2K\u001b[8A\u001b[2K\u001b[73A\u001b[2K\u001b[8A\u001b[2K\u001b[73A\u001b[2K\u001b[8A\u001b[2K\u001b[73A\u001b[2K\u001b[8A\u001b[2K\u001b[8A\u001b[2K\u001b[8A\u001b[2K\u001b[73A\u001b[2K\u001b[8A\u001b[2K\u001b[8A\u001b[2K\u001b[73A\u001b[2K\u001b[8A\u001b[2K\u001b[73A\u001b[2K\u001b[8A\u001b[2K\u001b[73A\u001b[2K\u001b[8A\u001b[2K\u001b[73A\u001b[2K\u001b[8A\u001b[2K\u001b[8A\u001b[2K\u001b[8A\u001b[2K\u001b[73A\u001b[2K\u001b[8A\u001b[2K\u001b[8A\u001b[2K\u001b[73A\u001b[2K\u001b[8A\u001b[2K\u001b[8A\u001b[2K\u001b[8A\u001b[2K\u001b[73A\u001b[2K\u001b[8A\u001b[2K\u001b[73A\u001b[2K\u001b[8A\u001b[2K\u001b[73A\u001b[2K\u001b[73A\u001b[2K\u001b[8A\u001b[2K\u001b[73A\u001b[2K\u001b[8A\u001b[2K\u001b[73A\u001b[2K\u001b[8A\u001b[2K\u001b[8A\u001b[2K\u001b[73A\u001b[2K\u001b[8A\u001b[2K\u001b[73A\u001b[2K\u001b[8A\u001b[2K\u001b[73A\u001b[2K\u001b[8A\u001b[2K\u001b[8A\u001b[2K\u001b[8A\u001b[2K\u001b[73A\u001b[2K\u001b[8A\u001b[2K\u001b[8A\u001b[2K\u001b[73A\u001b[2K\u001b[8A\u001b[2K\u001b[73A\u001b[2K\u001b[8A\u001b[2K\u001b[73A\u001b[2K\u001b[73A\u001b[2K\u001b[8A\u001b[2K\u001b[8A\u001b[2K\u001b[8A\u001b[2K\u001b[8A\u001b[2K\u001b[73A\u001b[2K\u001b[73A\u001b[2K\u001b[73A\u001b[2K\u001b[73A\u001b[2K\u001b[8A\u001b[2K\u001b[8A\u001b[2K\u001b[8A\u001b[2K\u001b[8A\u001b[2K\u001b[8A\u001b[2K\u001b[8A\u001b[2K\u001b[8A\u001b[2K\u001b[8A\u001b[2K\u001b[73A\u001b[2K\u001b[8A\u001b[2K\u001b[73A\u001b[2K\u001b[8A\u001b[2K\u001b[73A\u001b[2K\u001b[8A\u001b[2K\u001b[8A\u001b[2K\u001b[8A\u001b[2K\u001b[8A\u001b[2K\u001b[8A\u001b[2K\u001b[73A\u001b[2K\u001b[8A\u001b[2K\u001b[73A\u001b[2K\u001b[8A\u001b[2K\u001b[73A\u001b[2K\u001b[8A\u001b[2K\u001b[73A\u001b[2K\u001b[8A\u001b[2K\u001b[8A\u001b[2K\u001b[8A\u001b[2K\u001b[73A\u001b[2K\u001b[8A\u001b[2K\u001b[73A\u001b[2K\u001b[8A\u001b[2K\u001b[8A\u001b[2K\u001b[73A\u001b[2K\u001b[8A\u001b[2K\u001b[73A\u001b[2K\u001b[8A\u001b[2K\u001b[73A\u001b[2K\u001b[8A\u001b[2K\u001b[73A\u001b[2K\u001b[73A\u001b[2K\u001b[8A\u001b[2K\u001b[8A\u001b[2K\u001b[73A\u001b[2K\u001b[8A\u001b[2K\u001b[8A\u001b[2K\u001b[73A\u001b[2K\u001b[8A\u001b[2K\u001b[73A\u001b[2K\u001b[8A\u001b[2K\u001b[73A\u001b[2K\u001b[8A\u001b[2K\u001b[8A\u001b[2K\u001b[8A\u001b[2K\u001b[73A\u001b[2K\u001b[8A\u001b[2K\u001b[73A\u001b[2K\u001b[8A\u001b[2K\u001b[73A\u001b[2K\u001b[8A\u001b[2K\u001b[73A\u001b[2K\u001b[8A\u001b[2K\u001b[73A\u001b[2K\u001b[8A\u001b[2K\u001b[8A\u001b[2K\u001b[73A\u001b[2K\u001b[8A\u001b[2K\u001b[8A\u001b[2K\u001b[8A\u001b[2K\u001b[8A\u001b[2K\u001b[8A\u001b[2K\u001b[8A\u001b[2K\u001b[73A\u001b[2K\u001b[8A\u001b[2K\u001b[73A\u001b[2K\u001b[8A\u001b[2K\u001b[73A\u001b[2K\u001b[8A\u001b[2K\u001b[73A\u001b[2K\u001b[73A\u001b[2K\u001b[8A\u001b[2K\u001b[73A\u001b[2K\u001b[8A\u001b[2K\u001b[8A\u001b[2K\u001b[73A\u001b[2K\u001b[73A\u001b[2K\u001b[73A\u001b[2K\u001b[73A\u001b[2K\u001b[73A\u001b[2K\u001b[73A\u001b[2K\u001b[73A\u001b[2K\u001b[73A\u001b[2K\u001b[73A\u001b[2K\u001b[73A\u001b[2K\u001b[73A\u001b[2K\u001b[73A\u001b[2K\u001b[73A\u001b[2K\u001b[73A\u001b[2K\u001b[73A\u001b[2K\u001b[73A\u001b[2K\u001b[73A\u001b[2K\u001b[73A\u001b[2K\u001b[73A\u001b[2K\u001b[73A\u001b[2K\u001b[73A\u001b[2K\u001b[73A\u001b[2K\u001b[73A\u001b[2K\u001b[73A\u001b[2K\u001b[73A\u001b[2K\u001b[73A\u001b[2K\u001b[73A\u001b[2K\u001b[73A\u001b[2K\u001b[73A\u001b[2K\u001b[73A\u001b[2K\u001b[73A\u001b[2K\u001b[73A\u001b[2K\u001b[73A\u001b[2K\u001b[73A\u001b[2K\u001b[73A\u001b[2K\u001b[73A\u001b[2K\u001b[73A\u001b[2K\u001b[73A\u001b[2K\u001b[73A\u001b[2K\u001b[73A\u001b[2K\u001b[73A\u001b[2K\u001b[73A\u001b[2K\u001b[73A\u001b[2K\u001b[73A\u001b[2K\u001b[73A\u001b[2K\u001b[73A\u001b[2K\u001b[73A\u001b[2K\u001b[73A\u001b[2K\u001b[73A\u001b[2K\u001b[73A\u001b[2K\u001b[73A\u001b[2K\u001b[73A\u001b[2K\u001b[73A\u001b[2K\u001b[73A\u001b[2K\u001b[73A\u001b[2K\u001b[73A\u001b[2K\u001b[73A\u001b[2K\u001b[73A\u001b[2K\u001b[73A\u001b[2K\u001b[73A\u001b[2K\u001b[73A\u001b[2K\u001b[73A\u001b[2K\u001b[73A\u001b[2K\u001b[73A\u001b[2K\u001b[73A\u001b[2K\u001b[73A\u001b[2K\u001b[73A\u001b[2K\u001b[73A\u001b[2K\u001b[73A\u001b[2K\u001b[73A\u001b[2K\u001b[73A\u001b[2K\u001b[73A\u001b[2K\u001b[73A\u001b[2K\u001b[73A\u001b[2K\u001b[73A\u001b[2K\u001b[73A\u001b[2K\u001b[73A\u001b[2K\u001b[73A\u001b[2K\u001b[73A\u001b[2K\u001b[73A\u001b[2K\u001b[73A\u001b[2K\u001b[73A\u001b[2K\u001b[73A\u001b[2K\u001b[73A\u001b[2K\u001b[73A\u001b[2K\u001b[73A\u001b[2K\u001b[73A\u001b[2K\u001b[73A\u001b[2K\u001b[73A\u001b[2K\u001b[73A\u001b[2K\u001b[73A\u001b[2K\u001b[73A\u001b[2K\u001b[73A\u001b[2K\u001b[73A\u001b[2K\u001b[73A\u001b[2K\u001b[73A\u001b[2K\u001b[73A\u001b[2K\u001b[73A\u001b[2K\u001b[73A\u001b[2K\u001b[73A\u001b[2K\u001b[73A\u001b[2K\u001b[73A\u001b[2K\u001b[73A\u001b[2K\u001b[73A\u001b[2K\u001b[73A\u001b[2K\u001b[73A\u001b[2K\u001b[73A\u001b[2K\u001b[73A\u001b[2K\u001b[73A\u001b[2K\u001b[73A\u001b[2K\u001b[73A\u001b[2K\u001b[73A\u001b[2K\u001b[73A\u001b[2K\u001b[73A\u001b[2K\u001b[73A\u001b[2K\u001b[73A\u001b[2K\u001b[73A\u001b[2K\u001b[73A\u001b[2K\u001b[73A\u001b[2K\u001b[73A\u001b[2K\u001b[73A\u001b[2K\u001b[73A\u001b[2K\u001b[73A\u001b[2K\u001b[73A\u001b[2K\u001b[73A\u001b[2K\u001b[73A\u001b[2K\u001b[73A\u001b[2K\u001b[73A\u001b[2K\u001b[73A\u001b[2K\u001b[73A\u001b[2K\u001b[73A\u001b[2K\u001b[73A\u001b[2K\u001b[73A\u001b[2K\u001b[73A\u001b[2K\u001b[73A\u001b[2K\u001b[73A\u001b[2K\u001b[73A\u001b[2K\u001b[73A\u001b[2K\u001b[73A\u001b[2K\u001b[73A\u001b[2K\u001b[73A\u001b[2K\u001b[73A\u001b[2K\u001b[73A\u001b[2K\u001b[73A\u001b[2K\u001b[73A\u001b[2K\u001b[73A\u001b[2K\u001b[73A\u001b[2K\u001b[73A\u001b[2K\u001b[73A\u001b[2K\u001b[73A\u001b[2K\u001b[73A\u001b[2K\u001b[73A\u001b[2K\u001b[73A\u001b[2K\u001b[73A\u001b[2K\u001b[73A\u001b[2K\u001b[73A\u001b[2K\u001b[73A\u001b[2K\u001b[73A\u001b[2K\u001b[73A\u001b[2K\u001b[73A\u001b[2K\u001b[73A\u001b[2K\u001b[73A\u001b[2K\u001b[73A\u001b[2K\u001b[73A\u001b[2K\u001b[73A\u001b[2K\u001b[73A\u001b[2K\u001b[73A\u001b[2K\u001b[73A\u001b[2K\u001b[73A\u001b[2K\u001b[73A\u001b[2K\u001b[73A\u001b[2K\u001b[73A\u001b[2K\u001b[73A\u001b[2K\u001b[73A\u001b[2K\u001b[73A\u001b[2K\u001b[73A\u001b[2K\u001b[73A\u001b[2K\u001b[73A\u001b[2K\u001b[73A\u001b[2K\u001b[73A\u001b[2K\u001b[73A\u001b[2K\u001b[73A\u001b[2K\u001b[73A\u001b[2K\u001b[73A\u001b[2K\u001b[73A\u001b[2K\u001b[73A\u001b[2K\u001b[73A\u001b[2K\u001b[73A\u001b[2K\u001b[73A\u001b[2K\u001b[73A\u001b[2K\u001b[73A\u001b[2K\u001b[73A\u001b[2K\u001b[73A\u001b[2K\u001b[73A\u001b[2K\u001b[73A\u001b[2K\u001b[73A\u001b[2K\u001b[73A\u001b[2K\u001b[73A\u001b[2K\u001b[73A\u001b[2K\u001b[73A\u001b[2K\u001b[73A\u001b[2K\u001b[73A\u001b[2K\u001b[73A\u001b[2K\u001b[73A\u001b[2K\u001b[73A\u001b[2K\u001b[73A\u001b[2K\u001b[73A\u001b[2K\u001b[73A\u001b[2K\u001b[73A\u001b[2K\u001b[73A\u001b[2K\u001b[73A\u001b[2K\u001b[73A\u001b[2K\u001b[73A\u001b[2K\u001b[73A\u001b[2K\u001b[73A\u001b[2K\u001b[73A\u001b[2K\u001b[73A\u001b[2K\u001b[73A\u001b[2K\u001b[73A\u001b[2K\u001b[73A\u001b[2K\u001b[73A\u001b[2K\u001b[73A\u001b[2K\u001b[73A\u001b[2K\u001b[73A\u001b[2K\u001b[73A\u001b[2K\u001b[73A\u001b[2K\u001b[73A\u001b[2K\u001b[73A\u001b[2K\u001b[73A\u001b[2K\u001b[73A\u001b[2K\u001b[73A\u001b[2K\u001b[73A\u001b[2K\u001b[73A\u001b[2K\u001b[73A\u001b[2K\u001b[73A\u001b[2K\u001b[73A\u001b[2K\u001b[73A\u001b[2K\u001b[73A\u001b[2K\u001b[73A\u001b[2K\u001b[73A\u001b[2K\u001b[73A\u001b[2K\u001b[73A\u001b[2K\u001b[73A\u001b[2K\u001b[73A\u001b[2K\u001b[73A\u001b[2K\u001b[73A\u001b[2K\u001b[73A\u001b[2K\u001b[73A\u001b[2K\u001b[73A\u001b[2K\u001b[73A\u001b[2K\u001b[73A\u001b[2K\u001b[73A\u001b[2K\u001b[73A\u001b[2K\u001b[73A\u001b[2K\u001b[73A\u001b[2K\u001b[73A\u001b[2K\u001b[73A\u001b[2K\u001b[73A\u001b[2K\u001b[73A\u001b[2K\u001b[73A\u001b[2K\u001b[73A\u001b[2K\u001b[73A\u001b[2K\u001b[73A\u001b[2K\u001b[73A\u001b[2K\u001b[73A\u001b[2K\u001b[73A\u001b[2K\u001b[73A\u001b[2K\u001b[73A\u001b[2K\u001b[73A\u001b[2K\u001b[73A\u001b[2K\u001b[73A\u001b[2K\u001b[73A\u001b[2K\u001b[73A\u001b[2K\u001b[73A\u001b[2K\u001b[73A\u001b[2K\u001b[73A\u001b[2K\u001b[73A\u001b[2K\u001b[73A\u001b[2K\u001b[73A\u001b[2K\u001b[73A\u001b[2K\u001b[73A\u001b[2K\u001b[73A\u001b[2K\u001b[73A\u001b[2K\u001b[73A\u001b[2K\u001b[73A\u001b[2K\u001b[73A\u001b[2K\u001b[73A\u001b[2K\u001b[73A\u001b[2K\u001b[73A\u001b[2K\u001b[73A\u001b[2K\u001b[73A\u001b[2K\u001b[73A\u001b[2K\u001b[73A\u001b[2K\u001b[73A\u001b[2K\u001b[73A\u001b[2K\u001b[73A\u001b[2K\u001b[73A\u001b[2K\u001b[73A\u001b[2K\u001b[73A\u001b[2K\u001b[73A\u001b[2K\u001b[73A\u001b[2K\u001b[73A\u001b[2K\u001b[73A\u001b[2K\u001b[73A\u001b[2K\u001b[73A\u001b[2K\u001b[73A\u001b[2K\u001b[73A\u001b[2K\u001b[73A\u001b[2K\u001b[73A\u001b[2K\u001b[73A\u001b[2K\u001b[73A\u001b[2K\u001b[73A\u001b[2K\u001b[73A\u001b[2K\u001b[73A\u001b[2K\u001b[73A\u001b[2K\u001b[73A\u001b[2K\u001b[73A\u001b[2K\u001b[73A\u001b[2K\u001b[73A\u001b[2K\u001b[73A\u001b[2K\u001b[73A\u001b[2K\u001b[73A\u001b[2K\u001b[73A\u001b[2K\u001b[73A\u001b[2K\u001b[73A\u001b[2K\u001b[73A\u001b[2K\u001b[73A\u001b[2K\u001b[73A\u001b[2K\u001b[73A\u001b[2K\u001b[73A\u001b[2K\u001b[73A\u001b[2K\u001b[73A\u001b[2K\u001b[73A\u001b[2K\u001b[73A\u001b[2K\u001b[73A\u001b[2K\u001b[73A\u001b[2K\u001b[73A\u001b[2K\u001b[73A\u001b[2K\u001b[73A\u001b[2K\u001b[73A\u001b[2K\u001b[73A\u001b[2K\u001b[73A\u001b[2K\u001b[73A\u001b[2K\u001b[73A\u001b[2K\u001b[73A\u001b[2K\u001b[73A\u001b[2K\u001b[73A\u001b[2K\u001b[73A\u001b[2K\u001b[73A\u001b[2K\u001b[73A\u001b[2K\u001b[73A\u001b[2K\u001b[73A\u001b[2K\u001b[73A\u001b[2K\u001b[73A\u001b[2K\u001b[73A\u001b[2K\u001b[73A\u001b[2K\u001b[73A\u001b[2K\u001b[73A\u001b[2K\u001b[73A\u001b[2K\u001b[73A\u001b[2K\u001b[73A\u001b[2K\u001b[73A\u001b[2K\u001b[73A\u001b[2K\u001b[73A\u001b[2K\u001b[73A\u001b[2K\u001b[73A\u001b[2K\u001b[73A\u001b[2K\u001b[73A\u001b[2K\u001b[73A\u001b[2K\u001b[73A\u001b[2K\u001b[73A\u001b[2K\u001b[73A\u001b[2K\u001b[73A\u001b[2K\u001b[73A\u001b[2K\u001b[73A\u001b[2K\u001b[73A\u001b[2K\u001b[73A\u001b[2K\u001b[73A\u001b[2K\u001b[73A\u001b[2K\u001b[73A\u001b[2K\u001b[73A\u001b[2K\u001b[73A\u001b[2K\u001b[73A\u001b[2K\u001b[73A\u001b[2K\u001b[73A\u001b[2K\u001b[73A\u001b[2K\u001b[73A\u001b[2K\u001b[73A\u001b[2K\u001b[72A\u001b[2K\u001b[72A\u001b[2K\u001b[71A\u001b[2K\u001b[70A\u001b[2K\u001b[69A\u001b[2K\u001b[68A\u001b[2K\u001b[68A\u001b[2K\u001b[68A\u001b[2K\u001b[68A\u001b[2K\u001b[68A\u001b[2K\u001b[68A\u001b[2K\u001b[68A\u001b[2K\u001b[68A\u001b[2K\u001b[68A\u001b[2K\u001b[68A\u001b[2K\u001b[68A\u001b[2K\u001b[68A\u001b[2K\u001b[68A\u001b[2K\u001b[67A\u001b[2K\u001b[67A\u001b[2K\u001b[67A\u001b[2K\u001b[67A\u001b[2K\u001b[67A\u001b[2K\u001b[67A\u001b[2K\u001b[67A\u001b[2K\u001b[67A\u001b[2K\u001b[67A\u001b[2K\u001b[67A\u001b[2K\u001b[67A\u001b[2K\u001b[67A\u001b[2K\u001b[67A\u001b[2K\u001b[67A\u001b[2K\u001b[67A\u001b[2K\u001b[67A\u001b[2K\u001b[67A\u001b[2K\u001b[67A\u001b[2K\u001b[67A\u001b[2K\u001b[66A\u001b[2K\u001b[65A\u001b[2K\u001b[65A\u001b[2K\u001b[65A\u001b[2K\u001b[65A\u001b[2K\u001b[65A\u001b[2K\u001b[65A\u001b[2K\u001b[65A\u001b[2K\u001b[65A\u001b[2K\u001b[65A\u001b[2K\u001b[65A\u001b[2K\u001b[65A\u001b[2K\u001b[65A\u001b[2K\u001b[65A\u001b[2K\u001b[65A\u001b[2K\u001b[65A\u001b[2K\u001b[65A\u001b[2K\u001b[65A\u001b[2K\u001b[65A\u001b[2K\u001b[65A\u001b[2K\u001b[65A\u001b[2K\u001b[65A\u001b[2K\u001b[65A\u001b[2K\u001b[65A\u001b[2K\u001b[65A\u001b[2K\u001b[65A\u001b[2K\u001b[65A\u001b[2K\u001b[65A\u001b[2K\u001b[65A\u001b[2K\u001b[65A\u001b[2K\u001b[65A\u001b[2K\u001b[65A\u001b[2K\u001b[65A\u001b[2K\u001b[65A\u001b[2K\u001b[65A\u001b[2K\u001b[65A\u001b[2K\u001b[65A\u001b[2K\u001b[65A\u001b[2K\u001b[65A\u001b[2K\u001b[65A\u001b[2K\u001b[65A\u001b[2K\u001b[65A\u001b[2K\u001b[65A\u001b[2K\u001b[65A\u001b[2K\u001b[65A\u001b[2K\u001b[65A\u001b[2K\u001b[65A\u001b[2K\u001b[65A\u001b[2K\u001b[65A\u001b[2K\u001b[65A\u001b[2K\u001b[65A\u001b[2K\u001b[65A\u001b[2K\u001b[65A\u001b[2K\u001b[65A\u001b[2K\u001b[65A\u001b[2K\u001b[65A\u001b[2K\u001b[65A\u001b[2K\u001b[65A\u001b[2K\u001b[65A\u001b[2K\u001b[64A\u001b[2K\u001b[64A\u001b[2K\u001b[63A\u001b[2K\u001b[63A\u001b[2K\u001b[62A\u001b[2K\u001b[62A\u001b[2K\u001b[61A\u001b[2K\u001b[61A\u001b[2K\u001b[61A\u001b[2K\u001b[61A\u001b[2K\u001b[61A\u001b[2K\u001b[61A\u001b[2K\u001b[61A\u001b[2K\u001b[61A\u001b[2K\u001b[61A\u001b[2K\u001b[61A\u001b[2K\u001b[61A\u001b[2K\u001b[61A\u001b[2K\u001b[61A\u001b[2K\u001b[61A\u001b[2K\u001b[61A\u001b[2K\u001b[61A\u001b[2K\u001b[61A\u001b[2K\u001b[61A\u001b[2K\u001b[61A\u001b[2K\u001b[61A\u001b[2K\u001b[60A\u001b[2K\u001b[60A\u001b[2K\u001b[60A\u001b[2K\u001b[60A\u001b[2K\u001b[60A\u001b[2K\u001b[60A\u001b[2K\u001b[60A\u001b[2K\u001b[60A\u001b[2K\u001b[60A\u001b[2K\u001b[60A\u001b[2K\u001b[60A\u001b[2K\u001b[60A\u001b[2K\u001b[60A\u001b[2K\u001b[60A\u001b[2K\u001b[60A\u001b[2K\u001b[60A\u001b[2K\u001b[60A\u001b[2K\u001b[60A\u001b[2K\u001b[60A\u001b[2K\u001b[60A\u001b[2K\u001b[60A\u001b[2K\u001b[60A\u001b[2K\u001b[60A\u001b[2K\u001b[60A\u001b[2K\u001b[60A\u001b[2K\u001b[60A\u001b[2K\u001b[60A\u001b[2K\u001b[60A\u001b[2K\u001b[60A\u001b[2K\u001b[60A\u001b[2K\u001b[60A\u001b[2K\u001b[60A\u001b[2K\u001b[60A\u001b[2K\u001b[60A\u001b[2K\u001b[60A\u001b[2K\u001b[60A\u001b[2K\u001b[60A\u001b[2K\u001b[60A\u001b[2K\u001b[60A\u001b[2K\u001b[60A\u001b[2K\u001b[60A\u001b[2K\u001b[60A\u001b[2K\u001b[60A\u001b[2K\u001b[60A\u001b[2K\u001b[60A\u001b[2K\u001b[60A\u001b[2K\u001b[60A\u001b[2K\u001b[60A\u001b[2K\u001b[60A\u001b[2K\u001b[60A\u001b[2K\u001b[60A\u001b[2K\u001b[60A\u001b[2K\u001b[60A\u001b[2K\u001b[60A\u001b[2K\u001b[60A\u001b[2K\u001b[60A\u001b[2K\u001b[60A\u001b[2K\u001b[60A\u001b[2K\u001b[60A\u001b[2K\u001b[60A\u001b[2K\u001b[60A\u001b[2K\u001b[60A\u001b[2K\u001b[60A\u001b[2K\u001b[60A\u001b[2K\u001b[60A\u001b[2K\u001b[60A\u001b[2K\u001b[60A\u001b[2K\u001b[60A\u001b[2K\u001b[60A\u001b[2K\u001b[60A\u001b[2K\u001b[60A\u001b[2K\u001b[60A\u001b[2K\u001b[60A\u001b[2K\u001b[60A\u001b[2K\u001b[60A\u001b[2K\u001b[60A\u001b[2K\u001b[60A\u001b[2K\u001b[60A\u001b[2K\u001b[60A\u001b[2K\u001b[60A\u001b[2K\u001b[60A\u001b[2K\u001b[60A\u001b[2K\u001b[60A\u001b[2K\u001b[60A\u001b[2K\u001b[60A\u001b[2K\u001b[60A\u001b[2K\u001b[60A\u001b[2K\u001b[60A\u001b[2K\u001b[60A\u001b[2K\u001b[60A\u001b[2K\u001b[60A\u001b[2K\u001b[60A\u001b[2K\u001b[60A\u001b[2K\u001b[60A\u001b[2K\u001b[60A\u001b[2K\u001b[60A\u001b[2K\u001b[60A\u001b[2K\u001b[60A\u001b[2K\u001b[60A\u001b[2K\u001b[60A\u001b[2K\u001b[60A\u001b[2K\u001b[60A\u001b[2K\u001b[60A\u001b[2K\u001b[60A\u001b[2K\u001b[60A\u001b[2K\u001b[60A\u001b[2K\u001b[60A\u001b[2K\u001b[60A\u001b[2K\u001b[60A\u001b[2K\u001b[60A\u001b[2K\u001b[60A\u001b[2K\u001b[60A\u001b[2K\u001b[60A\u001b[2K\u001b[60A\u001b[2K\u001b[60A\u001b[2K\u001b[60A\u001b[2K\u001b[60A\u001b[2K\u001b[60A\u001b[2K\u001b[60A\u001b[2K\u001b[60A\u001b[2K\u001b[60A\u001b[2K\u001b[60A\u001b[2K\u001b[60A\u001b[2K\u001b[60A\u001b[2K\u001b[60A\u001b[2K\u001b[60A\u001b[2K\u001b[60A\u001b[2K\u001b[60A\u001b[2K\u001b[60A\u001b[2K\u001b[60A\u001b[2K\u001b[60A\u001b[2K\u001b[60A\u001b[2K\u001b[60A\u001b[2K\u001b[60A\u001b[2K\u001b[60A\u001b[2K\u001b[60A\u001b[2K\u001b[60A\u001b[2K\u001b[60A\u001b[2K\u001b[60A\u001b[2K\u001b[60A\u001b[2K\u001b[60A\u001b[2K\u001b[60A\u001b[2K\u001b[60A\u001b[2K\u001b[60A\u001b[2K\u001b[60A\u001b[2K\u001b[60A\u001b[2K\u001b[60A\u001b[2K\u001b[60A\u001b[2K\u001b[60A\u001b[2K\u001b[60A\u001b[2K\u001b[60A\u001b[2K\u001b[60A\u001b[2K\u001b[60A\u001b[2K\u001b[60A\u001b[2K\u001b[60A\u001b[2K\u001b[60A\u001b[2K\u001b[60A\u001b[2K\u001b[60A\u001b[2K\u001b[60A\u001b[2K\u001b[60A\u001b[2K\u001b[60A\u001b[2K\u001b[60A\u001b[2K\u001b[60A\u001b[2K\u001b[60A\u001b[2K\u001b[60A\u001b[2K\u001b[60A\u001b[2K\u001b[60A\u001b[2K\u001b[60A\u001b[2K\u001b[60A\u001b[2K\u001b[60A\u001b[2K\u001b[60A\u001b[2K\u001b[60A\u001b[2K\u001b[60A\u001b[2K\u001b[60A\u001b[2K\u001b[60A\u001b[2K\u001b[60A\u001b[2K\u001b[60A\u001b[2K\u001b[60A\u001b[2K\u001b[60A\u001b[2K\u001b[60A\u001b[2K\u001b[60A\u001b[2K\u001b[60A\u001b[2K\u001b[60A\u001b[2K\u001b[60A\u001b[2K\u001b[60A\u001b[2K\u001b[60A\u001b[2K\u001b[60A\u001b[2K\u001b[60A\u001b[2K\u001b[60A\u001b[2K\u001b[60A\u001b[2K\u001b[60A\u001b[2K\u001b[60A\u001b[2K\u001b[60A\u001b[2K\u001b[60A\u001b[2K\u001b[60A\u001b[2K\u001b[60A\u001b[2K\u001b[60A\u001b[2K\u001b[60A\u001b[2K\u001b[60A\u001b[2K\u001b[60A\u001b[2K\u001b[60A\u001b[2K\u001b[60A\u001b[2K\u001b[60A\u001b[2K\u001b[60A\u001b[2K\u001b[60A\u001b[2K\u001b[60A\u001b[2K\u001b[60A\u001b[2K\u001b[60A\u001b[2K\u001b[60A\u001b[2K\u001b[60A\u001b[2K\u001b[60A\u001b[2K\u001b[60A\u001b[2K\u001b[60A\u001b[2K\u001b[60A\u001b[2K\u001b[60A\u001b[2K\u001b[59A\u001b[2K\u001b[58A\u001b[2K\u001b[58A\u001b[2K\u001b[58A\u001b[2K\u001b[58A\u001b[2K\u001b[58A\u001b[2K\u001b[58A\u001b[2K\u001b[58A\u001b[2K\u001b[58A\u001b[2K\u001b[58A\u001b[2K\u001b[58A\u001b[2K\u001b[58A\u001b[2K\u001b[58A\u001b[2K\u001b[58A\u001b[2K\u001b[58A\u001b[2K\u001b[58A\u001b[2K\u001b[58A\u001b[2K\u001b[58A\u001b[2K\u001b[58A\u001b[2K\u001b[58A\u001b[2K\u001b[58A\u001b[2K\u001b[58A\u001b[2K\u001b[58A\u001b[2K\u001b[58A\u001b[2K\u001b[57A\u001b[2K\u001b[57A\u001b[2K\u001b[56A\u001b[2K\u001b[56A\u001b[2K\u001b[56A\u001b[2K\u001b[56A\u001b[2K\u001b[56A\u001b[2K\u001b[56A\u001b[2K\u001b[56A\u001b[2K\u001b[56A\u001b[2K\u001b[56A\u001b[2K\u001b[56A\u001b[2K\u001b[56A\u001b[2K\u001b[56A\u001b[2K\u001b[56A\u001b[2K\u001b[56A\u001b[2K\u001b[56A\u001b[2K\u001b[56A\u001b[2K\u001b[56A\u001b[2K\u001b[56A\u001b[2K\u001b[56A\u001b[2K\u001b[56A\u001b[2K\u001b[56A\u001b[2K\u001b[56A\u001b[2K\u001b[56A\u001b[2K\u001b[56A\u001b[2K\u001b[56A\u001b[2K\u001b[56A\u001b[2K\u001b[56A\u001b[2K\u001b[56A\u001b[2K\u001b[56A\u001b[2K\u001b[56A\u001b[2K\u001b[56A\u001b[2K\u001b[56A\u001b[2K\u001b[56A\u001b[2K\u001b[56A\u001b[2K\u001b[56A\u001b[2K\u001b[56A\u001b[2K\u001b[56A\u001b[2K\u001b[56A\u001b[2K\u001b[56A\u001b[2K\u001b[56A\u001b[2K\u001b[56A\u001b[2K\u001b[56A\u001b[2K\u001b[56A\u001b[2K\u001b[56A\u001b[2K\u001b[56A\u001b[2K\u001b[56A\u001b[2K\u001b[56A\u001b[2K\u001b[56A\u001b[2K\u001b[56A\u001b[2K\u001b[56A\u001b[2K\u001b[56A\u001b[2K\u001b[56A\u001b[2K\u001b[56A\u001b[2K\u001b[56A\u001b[2K\u001b[56A\u001b[2K\u001b[56A\u001b[2K\u001b[56A\u001b[2K\u001b[56A\u001b[2K\u001b[56A\u001b[2K\u001b[56A\u001b[2K\u001b[56A\u001b[2K\u001b[56A\u001b[2K\u001b[56A\u001b[2K\u001b[56A\u001b[2K\u001b[56A\u001b[2K\u001b[56A\u001b[2K\u001b[56A\u001b[2K\u001b[56A\u001b[2K\u001b[56A\u001b[2K\u001b[56A\u001b[2K\u001b[56A\u001b[2K\u001b[56A\u001b[2K\u001b[56A\u001b[2K\u001b[56A\u001b[2K\u001b[56A\u001b[2K\u001b[56A\u001b[2K\u001b[56A\u001b[2K\u001b[56A\u001b[2K\u001b[56A\u001b[2K\u001b[56A\u001b[2K\u001b[56A\u001b[2K\u001b[56A\u001b[2K\u001b[56A\u001b[2K\u001b[56A\u001b[2K\u001b[56A\u001b[2K\u001b[56A\u001b[2K\u001b[56A\u001b[2K\u001b[56A\u001b[2K\u001b[56A\u001b[2K\u001b[56A\u001b[2K\u001b[56A\u001b[2K\u001b[56A\u001b[2K\u001b[56A\u001b[2K\u001b[56A\u001b[2K\u001b[56A\u001b[2K\u001b[56A\u001b[2K\u001b[56A\u001b[2K\u001b[56A\u001b[2K\u001b[56A\u001b[2K\u001b[56A\u001b[2K\u001b[56A\u001b[2K\u001b[56A\u001b[2K\u001b[56A\u001b[2K\u001b[56A\u001b[2K\u001b[56A\u001b[2K\u001b[56A\u001b[2K\u001b[56A\u001b[2K\u001b[56A\u001b[2K\u001b[56A\u001b[2K\u001b[56A\u001b[2K\u001b[56A\u001b[2K\u001b[56A\u001b[2K\u001b[56A\u001b[2K\u001b[56A\u001b[2K\u001b[56A\u001b[2K\u001b[56A\u001b[2K\u001b[56A\u001b[2K\u001b[56A\u001b[2K\u001b[56A\u001b[2K\u001b[56A\u001b[2K\u001b[56A\u001b[2K\u001b[56A\u001b[2K\u001b[56A\u001b[2K\u001b[56A\u001b[2K\u001b[56A\u001b[2K\u001b[56A\u001b[2K\u001b[56A\u001b[2K\u001b[56A\u001b[2K\u001b[56A\u001b[2K\u001b[56A\u001b[2K\u001b[56A\u001b[2K\u001b[56A\u001b[2K\u001b[56A\u001b[2K\u001b[56A\u001b[2K\u001b[56A\u001b[2K\u001b[56A\u001b[2K\u001b[56A\u001b[2K\u001b[56A\u001b[2K\u001b[56A\u001b[2K\u001b[56A\u001b[2K\u001b[56A\u001b[2K\u001b[56A\u001b[2K\u001b[56A\u001b[2K\u001b[56A\u001b[2K\u001b[56A\u001b[2K\u001b[56A\u001b[2K\u001b[56A\u001b[2K\u001b[56A\u001b[2K\u001b[56A\u001b[2K\u001b[56A\u001b[2K\u001b[56A\u001b[2K\u001b[56A\u001b[2K\u001b[56A\u001b[2K\u001b[56A\u001b[2K\u001b[56A\u001b[2K\u001b[56A\u001b[2K\u001b[56A\u001b[2K\u001b[56A\u001b[2K\u001b[56A\u001b[2K\u001b[56A\u001b[2K\u001b[56A\u001b[2K\u001b[56A\u001b[2K\u001b[56A\u001b[2K\u001b[56A\u001b[2K\u001b[56A\u001b[2K\u001b[56A\u001b[2K\u001b[56A\u001b[2K\u001b[56A\u001b[2K\u001b[56A\u001b[2K\u001b[56A\u001b[2K\u001b[56A\u001b[2K\u001b[56A\u001b[2K\u001b[56A\u001b[2K\u001b[56A\u001b[2K\u001b[56A\u001b[2K\u001b[56A\u001b[2K\u001b[56A\u001b[2K\u001b[56A\u001b[2K\u001b[56A\u001b[2K\u001b[56A\u001b[2K\u001b[56A\u001b[2K\u001b[56A\u001b[2K\u001b[56A\u001b[2K\u001b[56A\u001b[2K\u001b[56A\u001b[2K\u001b[56A\u001b[2K\u001b[56A\u001b[2K\u001b[56A\u001b[2K\u001b[56A\u001b[2K\u001b[56A\u001b[2K\u001b[56A\u001b[2K\u001b[56A\u001b[2K\u001b[56A\u001b[2K\u001b[56A\u001b[2K\u001b[56A\u001b[2K\u001b[56A\u001b[2K\u001b[56A\u001b[2K\u001b[56A\u001b[2K\u001b[56A\u001b[2K\u001b[56A\u001b[2K\u001b[56A\u001b[2K\u001b[56A\u001b[2K\u001b[56A\u001b[2K\u001b[56A\u001b[2K\u001b[56A\u001b[2K\u001b[56A\u001b[2K\u001b[56A\u001b[2K\u001b[56A\u001b[2K\u001b[56A\u001b[2K\u001b[56A\u001b[2K\u001b[56A\u001b[2K\u001b[56A\u001b[2K\u001b[56A\u001b[2K\u001b[56A\u001b[2K\u001b[56A\u001b[2K\u001b[56A\u001b[2K\u001b[56A\u001b[2K\u001b[56A\u001b[2K\u001b[56A\u001b[2K\u001b[56A\u001b[2K\u001b[56A\u001b[2K\u001b[56A\u001b[2K\u001b[56A\u001b[2K\u001b[56A\u001b[2K\u001b[56A\u001b[2K\u001b[56A\u001b[2K\u001b[56A\u001b[2K\u001b[56A\u001b[2K\u001b[56A\u001b[2K\u001b[56A\u001b[2K\u001b[56A\u001b[2K\u001b[56A\u001b[2K\u001b[56A\u001b[2K\u001b[56A\u001b[2K\u001b[56A\u001b[2K\u001b[56A\u001b[2K\u001b[56A\u001b[2K\u001b[56A\u001b[2K\u001b[56A\u001b[2K\u001b[56A\u001b[2K\u001b[56A\u001b[2K\u001b[56A\u001b[2K\u001b[56A\u001b[2K\u001b[56A\u001b[2K\u001b[56A\u001b[2K\u001b[56A\u001b[2K\u001b[56A\u001b[2K\u001b[56A\u001b[2K\u001b[56A\u001b[2K\u001b[56A\u001b[2K\u001b[56A\u001b[2K\u001b[56A\u001b[2K\u001b[56A\u001b[2K\u001b[56A\u001b[2K\u001b[56A\u001b[2K\u001b[56A\u001b[2K\u001b[56A\u001b[2K\u001b[56A\u001b[2K\u001b[56A\u001b[2K\u001b[56A\u001b[2K\u001b[56A\u001b[2K\u001b[56A\u001b[2K\u001b[56A\u001b[2K\u001b[56A\u001b[2K\u001b[56A\u001b[2K\u001b[56A\u001b[2K\u001b[56A\u001b[2K\u001b[56A\u001b[2K\u001b[56A\u001b[2K\u001b[56A\u001b[2K\u001b[56A\u001b[2K\u001b[56A\u001b[2K\u001b[56A\u001b[2K\u001b[56A\u001b[2K\u001b[56A\u001b[2K\u001b[56A\u001b[2K\u001b[56A\u001b[2K\u001b[56A\u001b[2K\u001b[56A\u001b[2K\u001b[56A\u001b[2K\u001b[56A\u001b[2K\u001b[56A\u001b[2K\u001b[56A\u001b[2K\u001b[56A\u001b[2K\u001b[56A\u001b[2K\u001b[56A\u001b[2K\u001b[56A\u001b[2K\u001b[56A\u001b[2K\u001b[56A\u001b[2K\u001b[56A\u001b[2K\u001b[56A\u001b[2K\u001b[56A\u001b[2K\u001b[56A\u001b[2K\u001b[56A\u001b[2K\u001b[56A\u001b[2K\u001b[56A\u001b[2K\u001b[56A\u001b[2K\u001b[56A\u001b[2K\u001b[56A\u001b[2K\u001b[56A\u001b[2K\u001b[56A\u001b[2K\u001b[56A\u001b[2K\u001b[56A\u001b[2K\u001b[56A\u001b[2K\u001b[56A\u001b[2K\u001b[56A\u001b[2K\u001b[56A\u001b[2K\u001b[56A\u001b[2K\u001b[56A\u001b[2K\u001b[56A\u001b[2K\u001b[56A\u001b[2K\u001b[56A\u001b[2K\u001b[56A\u001b[2K\u001b[56A\u001b[2K\u001b[56A\u001b[2K\u001b[56A\u001b[2K\u001b[56A\u001b[2K\u001b[56A\u001b[2K\u001b[56A\u001b[2K\u001b[56A\u001b[2K\u001b[56A\u001b[2K\u001b[56A\u001b[2K\u001b[56A\u001b[2K\u001b[56A\u001b[2K\u001b[56A\u001b[2K\u001b[56A\u001b[2K\u001b[56A\u001b[2K\u001b[56A\u001b[2K\u001b[56A\u001b[2K\u001b[56A\u001b[2K\u001b[56A\u001b[2K\u001b[56A\u001b[2K\u001b[56A\u001b[2K\u001b[56A\u001b[2K\u001b[56A\u001b[2K\u001b[56A\u001b[2K\u001b[56A\u001b[2K\u001b[56A\u001b[2K\u001b[56A\u001b[2K\u001b[56A\u001b[2K\u001b[56A\u001b[2K\u001b[56A\u001b[2K\u001b[56A\u001b[2K\u001b[56A\u001b[2K\u001b[56A\u001b[2K\u001b[56A\u001b[2K\u001b[56A\u001b[2K\u001b[56A\u001b[2K\u001b[56A\u001b[2K\u001b[56A\u001b[2K\u001b[56A\u001b[2K\u001b[56A\u001b[2K\u001b[56A\u001b[2K\u001b[56A\u001b[2K\u001b[56A\u001b[2K\u001b[56A\u001b[2K\u001b[56A\u001b[2K\u001b[56A\u001b[2K\u001b[56A\u001b[2K\u001b[56A\u001b[2K\u001b[56A\u001b[2K\u001b[56A\u001b[2K\u001b[56A\u001b[2K\u001b[56A\u001b[2K\u001b[56A\u001b[2K\u001b[56A\u001b[2K\u001b[56A\u001b[2K\u001b[56A\u001b[2K\u001b[56A\u001b[2K\u001b[56A\u001b[2K\u001b[56A\u001b[2K\u001b[56A\u001b[2K\u001b[56A\u001b[2K\u001b[56A\u001b[2K\u001b[56A\u001b[2K\u001b[56A\u001b[2K\u001b[56A\u001b[2K\u001b[56A\u001b[2K\u001b[56A\u001b[2K\u001b[56A\u001b[2K\u001b[56A\u001b[2K\u001b[56A\u001b[2K\u001b[56A\u001b[2K\u001b[56A\u001b[2K\u001b[56A\u001b[2K\u001b[56A\u001b[2K\u001b[56A\u001b[2K\u001b[56A\u001b[2K\u001b[56A\u001b[2K\u001b[56A\u001b[2K\u001b[56A\u001b[2K\u001b[56A\u001b[2K\u001b[56A\u001b[2K\u001b[56A\u001b[2K\u001b[56A\u001b[2K\u001b[56A\u001b[2K\u001b[56A\u001b[2K\u001b[56A\u001b[2K\u001b[56A\u001b[2K\u001b[56A\u001b[2K\u001b[56A\u001b[2K\u001b[56A\u001b[2K\u001b[56A\u001b[2K\u001b[56A\u001b[2K\u001b[56A\u001b[2K\u001b[56A\u001b[2K\u001b[56A\u001b[2K\u001b[56A\u001b[2K\u001b[56A\u001b[2K\u001b[56A\u001b[2K\u001b[56A\u001b[2K\u001b[56A\u001b[2K\u001b[56A\u001b[2K\u001b[56A\u001b[2K\u001b[56A\u001b[2K\u001b[56A\u001b[2K\u001b[56A\u001b[2K\u001b[56A\u001b[2K\u001b[56A\u001b[2K\u001b[56A\u001b[2K\u001b[56A\u001b[2K\u001b[56A\u001b[2K\u001b[56A\u001b[2K\u001b[56A\u001b[2K\u001b[56A\u001b[2K\u001b[56A\u001b[2K\u001b[56A\u001b[2K\u001b[56A\u001b[2K\u001b[56A\u001b[2K\u001b[56A\u001b[2K\u001b[56A\u001b[2K\u001b[56A\u001b[2K\u001b[56A\u001b[2K\u001b[56A\u001b[2K\u001b[56A\u001b[2K\u001b[56A\u001b[2K\u001b[56A\u001b[2K\u001b[56A\u001b[2K\u001b[56A\u001b[2K\u001b[56A\u001b[2K\u001b[56A\u001b[2K\u001b[56A\u001b[2K\u001b[56A\u001b[2K\u001b[56A\u001b[2K\u001b[56A\u001b[2K\u001b[56A\u001b[2K\u001b[56A\u001b[2K\u001b[56A\u001b[2K\u001b[56A\u001b[2K\u001b[56A\u001b[2K\u001b[56A\u001b[2K\u001b[56A\u001b[2K\u001b[56A\u001b[2K\u001b[56A\u001b[2K\u001b[56A\u001b[2K\u001b[56A\u001b[2K\u001b[56A\u001b[2K\u001b[56A\u001b[2K\u001b[56A\u001b[2K\u001b[56A\u001b[2K\u001b[55A\u001b[2K\u001b[55A\u001b[2K\u001b[55A\u001b[2K\u001b[55A\u001b[2K\u001b[55A\u001b[2K\u001b[55A\u001b[2K\u001b[55A\u001b[2K\u001b[55A\u001b[2K\u001b[55A\u001b[2K\u001b[55A\u001b[2K\u001b[55A\u001b[2K\u001b[55A\u001b[2K\u001b[55A\u001b[2K\u001b[55A\u001b[2K\u001b[55A\u001b[2K\u001b[55A\u001b[2K\u001b[55A\u001b[2K\u001b[55A\u001b[2K\u001b[55A\u001b[2K\u001b[55A\u001b[2K\u001b[55A\u001b[2K\u001b[55A\u001b[2K\u001b[55A\u001b[2K\u001b[55A\u001b[2K\u001b[55A\u001b[2K\u001b[55A\u001b[2K\u001b[55A\u001b[2K\u001b[55A\u001b[2K\u001b[55A\u001b[2K\u001b[55A\u001b[2K\u001b[55A\u001b[2K\u001b[55A\u001b[2K\u001b[55A\u001b[2K\u001b[55A\u001b[2K\u001b[55A\u001b[2K\u001b[55A\u001b[2K\u001b[55A\u001b[2K\u001b[55A\u001b[2K\u001b[55A\u001b[2K\u001b[55A\u001b[2K\u001b[55A\u001b[2K\u001b[55A\u001b[2K\u001b[55A\u001b[2K\u001b[55A\u001b[2K\u001b[55A\u001b[2K\u001b[55A\u001b[2K\u001b[55A\u001b[2K\u001b[55A\u001b[2K\u001b[55A\u001b[2K\u001b[55A\u001b[2K\u001b[55A\u001b[2K\u001b[55A\u001b[2K\u001b[55A\u001b[2K\u001b[55A\u001b[2K\u001b[55A\u001b[2K\u001b[55A\u001b[2K\u001b[55A\u001b[2K\u001b[55A\u001b[2K\u001b[55A\u001b[2K\u001b[55A\u001b[2K\u001b[55A\u001b[2K\u001b[55A\u001b[2K\u001b[55A\u001b[2K\u001b[55A\u001b[2K\u001b[55A\u001b[2K\u001b[55A\u001b[2K\u001b[55A\u001b[2K\u001b[55A\u001b[2K\u001b[55A\u001b[2K\u001b[55A\u001b[2K\u001b[55A\u001b[2K\u001b[55A\u001b[2K\u001b[55A\u001b[2K\u001b[55A\u001b[2K\u001b[55A\u001b[2K\u001b[55A\u001b[2K\u001b[55A\u001b[2K\u001b[55A\u001b[2K\u001b[55A\u001b[2K\u001b[55A\u001b[2K\u001b[55A\u001b[2K\u001b[55A\u001b[2K\u001b[55A\u001b[2K\u001b[55A\u001b[2K\u001b[55A\u001b[2K\u001b[55A\u001b[2K\u001b[55A\u001b[2K\u001b[55A\u001b[2K\u001b[55A\u001b[2K\u001b[55A\u001b[2K\u001b[55A\u001b[2K\u001b[55A\u001b[2K\u001b[55A\u001b[2K\u001b[55A\u001b[2K\u001b[55A\u001b[2K\u001b[55A\u001b[2K\u001b[55A\u001b[2K\u001b[55A\u001b[2K\u001b[55A\u001b[2K\u001b[55A\u001b[2K\u001b[55A\u001b[2K\u001b[55A\u001b[2K\u001b[55A\u001b[2K\u001b[55A\u001b[2K\u001b[55A\u001b[2K\u001b[55A\u001b[2K\u001b[55A\u001b[2K\u001b[55A\u001b[2K\u001b[55A\u001b[2K\u001b[55A\u001b[2K\u001b[55A\u001b[2K\u001b[55A\u001b[2K\u001b[55A\u001b[2K\u001b[55A\u001b[2K\u001b[55A\u001b[2K\u001b[55A\u001b[2K\u001b[55A\u001b[2K\u001b[55A\u001b[2K\u001b[55A\u001b[2K\u001b[55A\u001b[2K\u001b[55A\u001b[2K\u001b[55A\u001b[2K\u001b[55A\u001b[2K\u001b[55A\u001b[2K\u001b[55A\u001b[2K\u001b[55A\u001b[2K\u001b[55A\u001b[2K\u001b[55A\u001b[2K\u001b[55A\u001b[2K\u001b[55A\u001b[2K\u001b[55A\u001b[2K\u001b[55A\u001b[2K\u001b[55A\u001b[2K\u001b[55A\u001b[2K\u001b[55A\u001b[2K\u001b[55A\u001b[2K\u001b[55A\u001b[2K\u001b[55A\u001b[2K\u001b[55A\u001b[2K\u001b[55A\u001b[2K\u001b[55A\u001b[2K\u001b[55A\u001b[2K\u001b[55A\u001b[2K\u001b[55A\u001b[2K\u001b[55A\u001b[2K\u001b[55A\u001b[2K\u001b[55A\u001b[2K\u001b[55A\u001b[2K\u001b[55A\u001b[2K\u001b[55A\u001b[2K\u001b[55A\u001b[2K\u001b[55A\u001b[2K\u001b[55A\u001b[2K\u001b[55A\u001b[2K\u001b[55A\u001b[2K\u001b[55A\u001b[2K\u001b[55A\u001b[2K\u001b[55A\u001b[2K\u001b[55A\u001b[2K\u001b[55A\u001b[2K\u001b[55A\u001b[2K\u001b[55A\u001b[2K\u001b[55A\u001b[2K\u001b[55A\u001b[2K\u001b[55A\u001b[2K\u001b[55A\u001b[2K\u001b[55A\u001b[2K\u001b[55A\u001b[2K\u001b[55A\u001b[2K\u001b[55A\u001b[2K\u001b[55A\u001b[2K\u001b[55A\u001b[2K\u001b[55A\u001b[2K\u001b[55A\u001b[2K\u001b[55A\u001b[2K\u001b[55A\u001b[2K\u001b[55A\u001b[2K\u001b[55A\u001b[2K\u001b[55A\u001b[2K\u001b[55A\u001b[2K\u001b[55A\u001b[2K\u001b[55A\u001b[2K\u001b[55A\u001b[2K\u001b[55A\u001b[2K\u001b[55A\u001b[2K\u001b[55A\u001b[2K\u001b[55A\u001b[2K\u001b[55A\u001b[2K\u001b[55A\u001b[2K\u001b[55A\u001b[2K\u001b[55A\u001b[2K\u001b[55A\u001b[2K\u001b[55A\u001b[2K\u001b[55A\u001b[2K\u001b[55A\u001b[2K\u001b[55A\u001b[2K\u001b[55A\u001b[2K\u001b[55A\u001b[2K\u001b[55A\u001b[2K\u001b[55A\u001b[2K\u001b[55A\u001b[2K\u001b[55A\u001b[2K\u001b[55A\u001b[2K\u001b[55A\u001b[2K\u001b[55A\u001b[2K\u001b[55A\u001b[2K\u001b[55A\u001b[2K\u001b[55A\u001b[2K\u001b[55A\u001b[2K\u001b[54A\u001b[2K\u001b[54A\u001b[2K\u001b[54A\u001b[2K\u001b[54A\u001b[2K\u001b[54A\u001b[2K\u001b[54A\u001b[2K\u001b[54A\u001b[2K\u001b[54A\u001b[2K\u001b[54A\u001b[2K\u001b[53A\u001b[2K\u001b[53A\u001b[2K\u001b[52A\u001b[2K\u001b[51A\u001b[2K\u001b[50A\u001b[2K\u001b[50A\u001b[2K\u001b[50A\u001b[2K\u001b[49A\u001b[2K\u001b[49A\u001b[2K\u001b[49A\u001b[2K\u001b[49A\u001b[2K\u001b[49A\u001b[2K\u001b[49A\u001b[2K\u001b[49A\u001b[2K\u001b[49A\u001b[2K\u001b[49A\u001b[2K\u001b[48A\u001b[2K\u001b[48A\u001b[2K\u001b[48A\u001b[2K\u001b[48A\u001b[2K\u001b[48A\u001b[2K\u001b[48A\u001b[2K\u001b[48A\u001b[2K\u001b[48A\u001b[2K\u001b[48A\u001b[2K\u001b[47A\u001b[2K\u001b[47A\u001b[2K\u001b[46A\u001b[2K\u001b[46A\u001b[2K\u001b[45A\u001b[2K\u001b[45A\u001b[2K\u001b[45A\u001b[2K\u001b[45A\u001b[2K\u001b[44A\u001b[2K\u001b[44A\u001b[2K\u001b[44A\u001b[2K\u001b[44A\u001b[2K\u001b[44A\u001b[2K\u001b[44A\u001b[2K\u001b[44A\u001b[2K\u001b[44A\u001b[2K\u001b[44A\u001b[2K\u001b[44A\u001b[2K\u001b[44A\u001b[2K\u001b[43A\u001b[2K\u001b[42A\u001b[2K\u001b[42A\u001b[2K\u001b[42A\u001b[2K\u001b[41A\u001b[2K\u001b[40A\u001b[2K\u001b[40A\u001b[2K\u001b[40A\u001b[2K\u001b[40A\u001b[2K\u001b[40A\u001b[2K\u001b[40A\u001b[2K\u001b[40A\u001b[2K\u001b[40A\u001b[2K\u001b[40A\u001b[2K\u001b[40A\u001b[2K\u001b[40A\u001b[2K\u001b[40A\u001b[2K\u001b[40A\u001b[2K\u001b[40A\u001b[2K\u001b[40A\u001b[2K\u001b[40A\u001b[2K\u001b[40A\u001b[2K\u001b[40A\u001b[2K\u001b[40A\u001b[2K\u001b[40A\u001b[2K\u001b[40A\u001b[2K\u001b[40A\u001b[2K\u001b[40A\u001b[2K\u001b[40A\u001b[2K\u001b[40A\u001b[2K\u001b[40A\u001b[2K\u001b[40A\u001b[2K\u001b[40A\u001b[2K\u001b[40A\u001b[2K\u001b[40A\u001b[2K\u001b[40A\u001b[2K\u001b[40A\u001b[2K\u001b[40A\u001b[2K\u001b[40A\u001b[2K\u001b[40A\u001b[2K\u001b[40A\u001b[2K\u001b[40A\u001b[2K\u001b[40A\u001b[2K\u001b[40A\u001b[2K\u001b[40A\u001b[2K\u001b[40A\u001b[2K\u001b[40A\u001b[2K\u001b[40A\u001b[2K\u001b[40A\u001b[2K\u001b[40A\u001b[2K\u001b[40A\u001b[2K\u001b[40A\u001b[2K\u001b[40A\u001b[2K\u001b[40A\u001b[2K\u001b[40A\u001b[2K\u001b[40A\u001b[2K\u001b[40A\u001b[2K\u001b[40A\u001b[2K\u001b[40A\u001b[2K\u001b[40A\u001b[2K\u001b[40A\u001b[2K\u001b[40A\u001b[2K\u001b[40A\u001b[2K\u001b[40A\u001b[2K\u001b[40A\u001b[2K\u001b[40A\u001b[2K\u001b[40A\u001b[2K\u001b[40A\u001b[2K\u001b[40A\u001b[2K\u001b[40A\u001b[2K\u001b[40A\u001b[2K\u001b[40A\u001b[2K\u001b[40A\u001b[2K\u001b[40A\u001b[2K\u001b[40A\u001b[2K\u001b[40A\u001b[2K\u001b[40A\u001b[2K\u001b[40A\u001b[2K\u001b[40A\u001b[2K\u001b[40A\u001b[2K\u001b[40A\u001b[2K\u001b[40A\u001b[2K\u001b[40A\u001b[2K\u001b[40A\u001b[2K\u001b[40A\u001b[2K\u001b[40A\u001b[2K\u001b[40A\u001b[2K\u001b[40A\u001b[2K\u001b[40A\u001b[2K\u001b[40A\u001b[2K\u001b[40A\u001b[2K\u001b[40A\u001b[2K\u001b[40A\u001b[2K\u001b[40A\u001b[2K\u001b[40A\u001b[2K\u001b[40A\u001b[2K\u001b[40A\u001b[2K\u001b[40A\u001b[2K\u001b[40A\u001b[2K\u001b[40A\u001b[2K\u001b[40A\u001b[2K\u001b[40A\u001b[2K\u001b[40A\u001b[2K\u001b[40A\u001b[2K\u001b[40A\u001b[2K\u001b[40A\u001b[2K\u001b[40A\u001b[2K\u001b[40A\u001b[2K\u001b[40A\u001b[2K\u001b[40A\u001b[2K\u001b[40A\u001b[2K\u001b[40A\u001b[2K\u001b[40A\u001b[2K\u001b[40A\u001b[2K\u001b[40A\u001b[2K\u001b[40A\u001b[2K\u001b[40A\u001b[2K\u001b[40A\u001b[2K\u001b[40A\u001b[2K\u001b[40A\u001b[2K\u001b[40A\u001b[2K\u001b[40A\u001b[2K\u001b[40A\u001b[2K\u001b[40A\u001b[2K\u001b[40A\u001b[2K\u001b[40A\u001b[2K\u001b[40A\u001b[2K\u001b[40A\u001b[2K\u001b[40A\u001b[2K\u001b[40A\u001b[2K\u001b[40A\u001b[2K\u001b[40A\u001b[2K\u001b[40A\u001b[2K\u001b[40A\u001b[2K\u001b[40A\u001b[2K\u001b[40A\u001b[2K\u001b[40A\u001b[2K\u001b[40A\u001b[2K\u001b[40A\u001b[2K\u001b[40A\u001b[2K\u001b[40A\u001b[2K\u001b[40A\u001b[2K\u001b[40A\u001b[2K\u001b[40A\u001b[2K\u001b[40A\u001b[2K\u001b[40A\u001b[2K\u001b[40A\u001b[2K\u001b[40A\u001b[2K\u001b[40A\u001b[2K\u001b[40A\u001b[2K\u001b[40A\u001b[2K\u001b[40A\u001b[2K\u001b[40A\u001b[2K\u001b[40A\u001b[2K\u001b[40A\u001b[2K\u001b[40A\u001b[2K\u001b[40A\u001b[2K\u001b[40A\u001b[2K\u001b[40A\u001b[2K\u001b[40A\u001b[2K\u001b[40A\u001b[2K\u001b[40A\u001b[2K\u001b[40A\u001b[2K\u001b[40A\u001b[2K\u001b[40A\u001b[2K\u001b[40A\u001b[2K\u001b[40A\u001b[2K\u001b[40A\u001b[2K\u001b[40A\u001b[2K\u001b[40A\u001b[2K\u001b[40A\u001b[2K\u001b[40A\u001b[2K\u001b[40A\u001b[2K\u001b[40A\u001b[2K\u001b[40A\u001b[2K\u001b[40A\u001b[2K\u001b[40A\u001b[2K\u001b[40A\u001b[2K\u001b[40A\u001b[2K\u001b[40A\u001b[2K\u001b[40A\u001b[2K\u001b[40A\u001b[2K\u001b[40A\u001b[2K\u001b[40A\u001b[2K\u001b[40A\u001b[2K\u001b[40A\u001b[2K\u001b[40A\u001b[2K\u001b[40A\u001b[2K\u001b[40A\u001b[2K\u001b[40A\u001b[2K\u001b[40A\u001b[2K\u001b[40A\u001b[2K\u001b[40A\u001b[2K\u001b[40A\u001b[2K\u001b[40A\u001b[2K\u001b[40A\u001b[2K\u001b[40A\u001b[2K\u001b[40A\u001b[2K\u001b[40A\u001b[2K\u001b[40A\u001b[2K\u001b[40A\u001b[2K\u001b[40A\u001b[2K\u001b[40A\u001b[2K\u001b[40A\u001b[2K\u001b[40A\u001b[2K\u001b[40A\u001b[2K\u001b[40A\u001b[2K\u001b[40A\u001b[2K\u001b[40A\u001b[2K\u001b[40A\u001b[2K\u001b[40A\u001b[2K\u001b[40A\u001b[2K\u001b[40A\u001b[2K\u001b[40A\u001b[2K\u001b[40A\u001b[2K\u001b[40A\u001b[2K\u001b[40A\u001b[2K\u001b[40A\u001b[2K\u001b[40A\u001b[2K\u001b[39A\u001b[2K\u001b[39A\u001b[2K\u001b[39A\u001b[2K\u001b[39A\u001b[2K\u001b[39A\u001b[2K\u001b[39A\u001b[2K\u001b[39A\u001b[2K\u001b[39A\u001b[2K\u001b[39A\u001b[2K\u001b[39A\u001b[2K\u001b[39A\u001b[2K\u001b[39A\u001b[2K\u001b[39A\u001b[2K\u001b[39A\u001b[2K\u001b[39A\u001b[2K\u001b[39A\u001b[2K\u001b[39A\u001b[2K\u001b[39A\u001b[2K\u001b[39A\u001b[2K\u001b[39A\u001b[2K\u001b[39A\u001b[2K\u001b[39A\u001b[2K\u001b[39A\u001b[2K\u001b[39A\u001b[2K\u001b[39A\u001b[2K\u001b[39A\u001b[2K\u001b[39A\u001b[2K\u001b[39A\u001b[2K\u001b[39A\u001b[2K\u001b[39A\u001b[2K\u001b[39A\u001b[2K\u001b[39A\u001b[2K\u001b[39A\u001b[2K\u001b[39A\u001b[2K\u001b[39A\u001b[2K\u001b[39A\u001b[2K\u001b[39A\u001b[2K\u001b[39A\u001b[2K\u001b[39A\u001b[2K\u001b[39A\u001b[2K\u001b[39A\u001b[2K\u001b[39A\u001b[2K\u001b[39A\u001b[2K\u001b[39A\u001b[2K\u001b[39A\u001b[2K\u001b[39A\u001b[2K\u001b[39A\u001b[2K\u001b[39A\u001b[2K\u001b[38A\u001b[2K\u001b[38A\u001b[2K\u001b[38A\u001b[2K\u001b[38A\u001b[2K\u001b[38A\u001b[2K\u001b[37A\u001b[2K\u001b[37A\u001b[2K\u001b[37A\u001b[2K\u001b[37A\u001b[2K\u001b[37A\u001b[2K\u001b[37A\u001b[2K\u001b[37A\u001b[2K\u001b[37A\u001b[2K\u001b[37A\u001b[2K\u001b[37A\u001b[2K\u001b[36A\u001b[2K\u001b[36A\u001b[2K\u001b[35A\u001b[2K\u001b[34A\u001b[2K\u001b[34A\u001b[2K\u001b[33A\u001b[2K\u001b[33A\u001b[2K\u001b[33A\u001b[2K\u001b[33A\u001b[2K\u001b[33A\u001b[2K\u001b[33A\u001b[2K\u001b[33A\u001b[2K\u001b[33A\u001b[2K\u001b[33A\u001b[2K\u001b[32A\u001b[2K\u001b[32A\u001b[2K\u001b[32A\u001b[2K\u001b[32A\u001b[2K\u001b[32A\u001b[2K\u001b[32A\u001b[2K\u001b[31A\u001b[2K\u001b[30A\u001b[2K\u001b[30A\u001b[2K\u001b[29A\u001b[2K\u001b[29A\u001b[2K\u001b[29A\u001b[2K\u001b[29A\u001b[2K\u001b[29A\u001b[2K\u001b[29A\u001b[2K\u001b[29A\u001b[2K\u001b[29A\u001b[2K\u001b[29A\u001b[2K\u001b[29A\u001b[2K\u001b[29A\u001b[2K\u001b[29A\u001b[2K\u001b[29A\u001b[2K\u001b[29A\u001b[2K\u001b[29A\u001b[2K\u001b[29A\u001b[2K\u001b[29A\u001b[2K\u001b[29A\u001b[2K\u001b[29A\u001b[2K\u001b[29A\u001b[2K\u001b[29A\u001b[2K\u001b[29A\u001b[2K\u001b[29A\u001b[2K\u001b[29A\u001b[2K\u001b[29A\u001b[2K\u001b[29A\u001b[2K\u001b[29A\u001b[2K\u001b[29A\u001b[2K\u001b[29A\u001b[2K\u001b[29A\u001b[2K\u001b[28A\u001b[2K\u001b[28A\u001b[2K\u001b[28A\u001b[2K\u001b[28A\u001b[2K\u001b[28A\u001b[2K\u001b[28A\u001b[2K\u001b[28A\u001b[2K\u001b[28A\u001b[2K\u001b[28A\u001b[2K\u001b[28A\u001b[2K\u001b[28A\u001b[2K\u001b[27A\u001b[2K\u001b[27A\u001b[2K\u001b[27A\u001b[2K\u001b[27A\u001b[2K\u001b[27A\u001b[2K\u001b[27A\u001b[2K\u001b[27A\u001b[2K\u001b[27A\u001b[2K\u001b[27A\u001b[2K\u001b[27A\u001b[2K\u001b[27A\u001b[2K\u001b[27A\u001b[2K\u001b[27A\u001b[2K\u001b[27A\u001b[2K\u001b[27A\u001b[2K\u001b[27A\u001b[2K\u001b[27A\u001b[2K\u001b[27A\u001b[2K\u001b[27A\u001b[2K\u001b[27A\u001b[2K\u001b[27A\u001b[2K\u001b[27A\u001b[2K\u001b[27A\u001b[2K\u001b[27A\u001b[2K\u001b[27A\u001b[2K\u001b[27A\u001b[2K\u001b[27A\u001b[2K\u001b[27A\u001b[2K\u001b[27A\u001b[2K\u001b[27A\u001b[2K\u001b[27A\u001b[2K\u001b[27A\u001b[2K\u001b[27A\u001b[2K\u001b[27A\u001b[2K\u001b[27A\u001b[2K\u001b[27A\u001b[2K\u001b[27A\u001b[2K\u001b[27A\u001b[2K\u001b[27A\u001b[2K\u001b[27A\u001b[2K\u001b[27A\u001b[2K\u001b[27A\u001b[2K\u001b[27A\u001b[2K\u001b[27A\u001b[2K\u001b[27A\u001b[2K\u001b[27A\u001b[2K\u001b[27A\u001b[2K\u001b[27A\u001b[2K\u001b[27A\u001b[2K\u001b[27A\u001b[2K\u001b[27A\u001b[2K\u001b[26A\u001b[2K\u001b[26A\u001b[2K\u001b[26A\u001b[2K\u001b[26A\u001b[2K\u001b[26A\u001b[2K\u001b[26A\u001b[2K\u001b[26A\u001b[2K\u001b[26A\u001b[2K\u001b[26A\u001b[2K\u001b[26A\u001b[2K\u001b[26A\u001b[2K\u001b[26A\u001b[2K\u001b[26A\u001b[2K\u001b[26A\u001b[2K\u001b[26A\u001b[2K\u001b[26A\u001b[2K\u001b[26A\u001b[2K\u001b[26A\u001b[2K\u001b[26A\u001b[2K\u001b[26A\u001b[2K\u001b[26A\u001b[2K\u001b[26A\u001b[2K\u001b[26A\u001b[2K\u001b[26A\u001b[2K\u001b[26A\u001b[2K\u001b[26A\u001b[2K\u001b[26A\u001b[2K\u001b[26A\u001b[2K\u001b[26A\u001b[2K\u001b[26A\u001b[2K\u001b[26A\u001b[2K\u001b[26A\u001b[2K\u001b[26A\u001b[2K\u001b[26A\u001b[2K\u001b[26A\u001b[2K\u001b[26A\u001b[2K\u001b[26A\u001b[2K\u001b[26A\u001b[2K\u001b[26A\u001b[2K\u001b[26A\u001b[2K\u001b[26A\u001b[2K\u001b[26A\u001b[2K\u001b[26A\u001b[2K\u001b[26A\u001b[2K\u001b[26A\u001b[2K\u001b[26A\u001b[2K\u001b[26A\u001b[2K\u001b[26A\u001b[2K\u001b[26A\u001b[2K\u001b[26A\u001b[2K\u001b[26A\u001b[2K\u001b[26A\u001b[2K\u001b[26A\u001b[2K\u001b[26A\u001b[2K\u001b[26A\u001b[2K\u001b[25A\u001b[2K\u001b[25A\u001b[2K\u001b[25A\u001b[2K\u001b[25A\u001b[2K\u001b[25A\u001b[2K\u001b[25A\u001b[2K\u001b[25A\u001b[2K\u001b[25A\u001b[2K\u001b[25A\u001b[2K\u001b[25A\u001b[2K\u001b[25A\u001b[2K\u001b[25A\u001b[2K\u001b[25A\u001b[2K\u001b[25A\u001b[2K\u001b[25A\u001b[2K\u001b[25A\u001b[2K\u001b[25A\u001b[2K\u001b[25A\u001b[2K\u001b[25A\u001b[2K\u001b[25A\u001b[2K\u001b[25A\u001b[2K\u001b[25A\u001b[2K\u001b[25A\u001b[2K\u001b[25A\u001b[2K\u001b[25A\u001b[2K\u001b[25A\u001b[2K\u001b[25A\u001b[2K\u001b[25A\u001b[2K\u001b[24A\u001b[2K\u001b[24A\u001b[2K\u001b[24A\u001b[2K\u001b[24A\u001b[2K\u001b[24A\u001b[2K\u001b[24A\u001b[2K\u001b[24A\u001b[2K\u001b[24A\u001b[2K\u001b[24A\u001b[2K\u001b[24A\u001b[2K\u001b[24A\u001b[2K\u001b[24A\u001b[2K\u001b[24A\u001b[2K\u001b[24A\u001b[2K\u001b[24A\u001b[2K\u001b[24A\u001b[2K\u001b[24A\u001b[2K\u001b[24A\u001b[2K\u001b[24A\u001b[2K\u001b[24A\u001b[2K\u001b[24A\u001b[2K\u001b[24A\u001b[2K\u001b[24A\u001b[2K\u001b[24A\u001b[2K\u001b[24A\u001b[2K\u001b[24A\u001b[2K\u001b[24A\u001b[2K\u001b[24A\u001b[2K\u001b[24A\u001b[2K\u001b[24A\u001b[2K\u001b[24A\u001b[2K\u001b[24A\u001b[2K\u001b[24A\u001b[2K\u001b[24A\u001b[2K\u001b[24A\u001b[2K\u001b[24A\u001b[2K\u001b[24A\u001b[2K\u001b[24A\u001b[2K\u001b[24A\u001b[2K\u001b[24A\u001b[2K\u001b[24A\u001b[2K\u001b[24A\u001b[2K\u001b[24A\u001b[2K\u001b[24A\u001b[2K\u001b[24A\u001b[2K\u001b[24A\u001b[2K\u001b[24A\u001b[2K\u001b[24A\u001b[2K\u001b[24A\u001b[2K\u001b[24A\u001b[2K\u001b[24A\u001b[2K\u001b[24A\u001b[2K\u001b[24A\u001b[2K\u001b[24A\u001b[2K\u001b[24A\u001b[2K\u001b[24A\u001b[2K\u001b[24A\u001b[2K\u001b[24A\u001b[2K\u001b[24A\u001b[2K\u001b[24A\u001b[2K\u001b[24A\u001b[2K\u001b[24A\u001b[2K\u001b[24A\u001b[2K\u001b[24A\u001b[2K\u001b[24A\u001b[2K\u001b[24A\u001b[2K\u001b[24A\u001b[2K\u001b[24A\u001b[2K\u001b[24A\u001b[2K\u001b[24A\u001b[2K\u001b[24A\u001b[2K\u001b[24A\u001b[2K\u001b[24A\u001b[2K\u001b[24A\u001b[2K\u001b[24A\u001b[2K\u001b[24A\u001b[2K\u001b[24A\u001b[2K\u001b[24A\u001b[2K\u001b[24A\u001b[2K\u001b[24A\u001b[2K\u001b[24A\u001b[2K\u001b[24A\u001b[2K\u001b[24A\u001b[2K\u001b[24A\u001b[2K\u001b[24A\u001b[2K\u001b[24A\u001b[2K\u001b[24A\u001b[2K\u001b[24A\u001b[2K\u001b[24A\u001b[2K\u001b[24A\u001b[2K\u001b[24A\u001b[2K\u001b[24A\u001b[2K\u001b[24A\u001b[2K\u001b[24A\u001b[2K\u001b[24A\u001b[2K\u001b[24A\u001b[2K\u001b[24A\u001b[2K\u001b[24A\u001b[2K\u001b[24A\u001b[2K\u001b[24A\u001b[2K\u001b[24A\u001b[2K\u001b[24A\u001b[2K\u001b[24A\u001b[2K\u001b[24A\u001b[2K\u001b[24A\u001b[2K\u001b[24A\u001b[2K\u001b[24A\u001b[2K\u001b[24A\u001b[2K\u001b[24A\u001b[2K\u001b[24A\u001b[2K\u001b[24A\u001b[2K\u001b[24A\u001b[2K\u001b[24A\u001b[2K\u001b[24A\u001b[2K\u001b[24A\u001b[2K\u001b[24A\u001b[2K\u001b[24A\u001b[2K\u001b[24A\u001b[2K\u001b[24A\u001b[2K\u001b[24A\u001b[2K\u001b[24A\u001b[2K\u001b[24A\u001b[2K\u001b[24A\u001b[2K\u001b[24A\u001b[2K\u001b[24A\u001b[2K\u001b[24A\u001b[2K\u001b[24A\u001b[2K\u001b[24A\u001b[2K\u001b[24A\u001b[2K\u001b[24A\u001b[2K\u001b[24A\u001b[2K\u001b[24A\u001b[2K\u001b[24A\u001b[2K\u001b[24A\u001b[2K\u001b[24A\u001b[2K\u001b[23A\u001b[2K\u001b[23A\u001b[2K\u001b[23A\u001b[2K\u001b[23A\u001b[2K\u001b[23A\u001b[2K\u001b[23A\u001b[2K\u001b[23A\u001b[2K\u001b[23A\u001b[2K\u001b[23A\u001b[2K\u001b[23A\u001b[2K\u001b[23A\u001b[2K\u001b[23A\u001b[2K\u001b[23A\u001b[2K\u001b[23A\u001b[2K\u001b[23A\u001b[2K\u001b[23A\u001b[2K\u001b[23A\u001b[2K\u001b[23A\u001b[2K\u001b[23A\u001b[2K\u001b[23A\u001b[2K\u001b[23A\u001b[2K\u001b[23A\u001b[2K\u001b[23A\u001b[2K\u001b[23A\u001b[2K\u001b[23A\u001b[2K\u001b[23A\u001b[2K\u001b[23A\u001b[2K\u001b[23A\u001b[2K\u001b[23A\u001b[2K\u001b[23A\u001b[2K\u001b[23A\u001b[2K\u001b[23A\u001b[2K\u001b[23A\u001b[2K\u001b[23A\u001b[2K\u001b[23A\u001b[2K\u001b[23A\u001b[2K\u001b[23A\u001b[2K\u001b[23A\u001b[2K\u001b[23A\u001b[2K\u001b[23A\u001b[2K\u001b[23A\u001b[2K\u001b[23A\u001b[2K\u001b[23A\u001b[2K\u001b[23A\u001b[2K\u001b[23A\u001b[2K\u001b[23A\u001b[2K\u001b[23A\u001b[2K\u001b[23A\u001b[2K\u001b[23A\u001b[2K\u001b[23A\u001b[2K\u001b[23A\u001b[2KExtracting  576.6MB/732.6MB\u001b[23A\u001b[2K\u001b[23A\u001b[2K\u001b[23A\u001b[2K\u001b[23A\u001b[2K\u001b[23A\u001b[2K\u001b[23A\u001b[2K\u001b[23A\u001b[2K\u001b[23A\u001b[2K\u001b[23A\u001b[2K\u001b[23A\u001b[2K\u001b[23A\u001b[2K\u001b[23A\u001b[2K\u001b[23A\u001b[2K\u001b[23A\u001b[2K\u001b[23A\u001b[2K\u001b[23A\u001b[2K\u001b[23A\u001b[2K\u001b[23A\u001b[2K\u001b[22A\u001b[2KExtracting  557.1kB/394MB\u001b[22A\u001b[2K\u001b[22A\u001b[2K\u001b[22A\u001b[2K\u001b[22A\u001b[2K\u001b[22A\u001b[2K\u001b[22A\u001b[2K\u001b[22A\u001b[2K\u001b[22A\u001b[2K\u001b[22A\u001b[2K\u001b[22A\u001b[2K\u001b[22A\u001b[2K\u001b[22A\u001b[2K\u001b[22A\u001b[2K\u001b[22A\u001b[2K\u001b[22A\u001b[2K\u001b[22A\u001b[2K\u001b[22A\u001b[2K\u001b[22A\u001b[2K\u001b[22A\u001b[2K\u001b[22A\u001b[2K\u001b[22A\u001b[2K\u001b[22A\u001b[2K\u001b[22A\u001b[2K\u001b[22A\u001b[2K\u001b[22A\u001b[2K\u001b[22A\u001b[2K\u001b[22A\u001b[2K\u001b[22A\u001b[2K\u001b[22A\u001b[2K\u001b[22A\u001b[2K\u001b[22A\u001b[2K\u001b[22A\u001b[2K\u001b[22A\u001b[2K\u001b[22A\u001b[2K\u001b[22A\u001b[2K\u001b[22A\u001b[2K\u001b[22A\u001b[2K\u001b[22A\u001b[2K\u001b[22A\u001b[2K\u001b[22A\u001b[2K\u001b[22A\u001b[2K\u001b[22A\u001b[2K\u001b[22A\u001b[2K\u001b[22A\u001b[2K\u001b[22A\u001b[2K\u001b[22A\u001b[2K\u001b[22A\u001b[2K\u001b[22A\u001b[2K\u001b[22A\u001b[2K\u001b[22A\u001b[2K\u001b[22A\u001b[2K\u001b[22A\u001b[2K\u001b[22A\u001b[2K\u001b[22A\u001b[2K\u001b[22A\u001b[2K\u001b[22A\u001b[2K\u001b[22A\u001b[2K\u001b[22A\u001b[2K\u001b[22A\u001b[2K\u001b[22A\u001b[2K\u001b[22A\u001b[2K\u001b[22A\u001b[2K\u001b[22A\u001b[2K\u001b[22A\u001b[2K\u001b[22A\u001b[2K\u001b[22A\u001b[2K\u001b[22A\u001b[2K\u001b[22A\u001b[2K\u001b[22A\u001b[2K\u001b[22A\u001b[2K\u001b[22A\u001b[2K\u001b[22A\u001b[2K\u001b[22A\u001b[2K\u001b[22A\u001b[2K\u001b[22A\u001b[2K\u001b[22A\u001b[2K\u001b[22A\u001b[2K\u001b[22A\u001b[2K\u001b[22A\u001b[2K\u001b[22A\u001b[2K\u001b[22A\u001b[2K\u001b[22A\u001b[2K\u001b[22A\u001b[2K\u001b[22A\u001b[2K\u001b[22A\u001b[2K\u001b[22A\u001b[2K\u001b[22A\u001b[2K\u001b[22A\u001b[2K\u001b[22A\u001b[2K\u001b[22A\u001b[2K\u001b[22A\u001b[2K\u001b[22A\u001b[2K\u001b[22A\u001b[2K\u001b[22A\u001b[2K\u001b[22A\u001b[2K\u001b[22A\u001b[2K\u001b[22A\u001b[2K\u001b[22A\u001b[2K\u001b[22A\u001b[2K\u001b[22A\u001b[2K\u001b[22A\u001b[2K\u001b[22A\u001b[2K\u001b[22A\u001b[2K\u001b[22A\u001b[2K\u001b[22A\u001b[2K\u001b[22A\u001b[2K\u001b[22A\u001b[2K\u001b[22A\u001b[2K\u001b[22A\u001b[2K\u001b[22A\u001b[2K\u001b[22A\u001b[2K\u001b[22A\u001b[2K\u001b[22A\u001b[2K\u001b[22A\u001b[2K\u001b[22A\u001b[2K\u001b[22A\u001b[2K\u001b[22A\u001b[2K\u001b[22A\u001b[2K\u001b[22A\u001b[2K\u001b[22A\u001b[2K\u001b[22A\u001b[2K\u001b[22A\u001b[2K\u001b[22A\u001b[2K\u001b[22A\u001b[2K\u001b[22A\u001b[2K\u001b[22A\u001b[2K\u001b[22A\u001b[2K\u001b[22A\u001b[2K\u001b[22A\u001b[2K\u001b[22A\u001b[2K\u001b[22A\u001b[2K\u001b[22A\u001b[2K\u001b[22A\u001b[2K\u001b[22A\u001b[2K\u001b[22A\u001b[2K\u001b[22A\u001b[2K\u001b[22A\u001b[2K\u001b[22A\u001b[2K\u001b[22A\u001b[2K\u001b[22A\u001b[2K\u001b[22A\u001b[2K\u001b[22A\u001b[2K\u001b[22A\u001b[2K\u001b[22A\u001b[2K\u001b[22A\u001b[2K\u001b[22A\u001b[2K\u001b[22A\u001b[2K\u001b[22A\u001b[2K\u001b[22A\u001b[2K\u001b[22A\u001b[2K\u001b[22A\u001b[2K\u001b[22A\u001b[2K\u001b[22A\u001b[2K\u001b[22A\u001b[2K\u001b[22A\u001b[2K\u001b[22A\u001b[2K\u001b[22A\u001b[2K\u001b[22A\u001b[2K\u001b[22A\u001b[2K\u001b[22A\u001b[2K\u001b[22A\u001b[2K\u001b[22A\u001b[2K\u001b[22A\u001b[2K\u001b[22A\u001b[2K\u001b[22A\u001b[2K\u001b[22A\u001b[2K\u001b[22A\u001b[2K\u001b[22A\u001b[2K\u001b[22A\u001b[2K\u001b[22A\u001b[2K\u001b[22A\u001b[2K\u001b[22A\u001b[2K\u001b[22A\u001b[2K\u001b[22A\u001b[2K\u001b[22A\u001b[2K\u001b[22A\u001b[2K\u001b[22A\u001b[2K\u001b[22A\u001b[2K\u001b[22A\u001b[2K\u001b[22A\u001b[2K\u001b[22A\u001b[2K\u001b[22A\u001b[2K\u001b[22A\u001b[2K\u001b[22A\u001b[2K\u001b[22A\u001b[2K\u001b[22A\u001b[2K\u001b[22A\u001b[2K\u001b[22A\u001b[2K\u001b[22A\u001b[2K\u001b[22A\u001b[2K\u001b[22A\u001b[2K\u001b[22A\u001b[2K\u001b[22A\u001b[2K\u001b[22A\u001b[2K\u001b[22A\u001b[2K\u001b[22A\u001b[2K\u001b[22A\u001b[2K\u001b[22A\u001b[2K\u001b[22A\u001b[2K\u001b[22A\u001b[2K\u001b[22A\u001b[2K\u001b[22A\u001b[2K\u001b[22A\u001b[2K\u001b[22A\u001b[2K\u001b[22A\u001b[2K\u001b[22A\u001b[2K\u001b[22A\u001b[2K\u001b[22A\u001b[2K\u001b[22A\u001b[2K\u001b[22A\u001b[2K\u001b[22A\u001b[2K\u001b[22A\u001b[2K\u001b[22A\u001b[2K\u001b[22A\u001b[2K\u001b[22A\u001b[2K\u001b[22A\u001b[2K\u001b[22A\u001b[2K\u001b[22A\u001b[2K\u001b[22A\u001b[2K\u001b[22A\u001b[2K\u001b[22A\u001b[2K\u001b[22A\u001b[2K\u001b[22A\u001b[2K\u001b[22A\u001b[2K\u001b[22A\u001b[2K\u001b[22A\u001b[2K\u001b[22A\u001b[2K\u001b[22A\u001b[2K\u001b[22A\u001b[2K\u001b[22A\u001b[2K\u001b[22A\u001b[2K\u001b[22A\u001b[2K\u001b[22A\u001b[2K\u001b[22A\u001b[2K\u001b[22A\u001b[2K\u001b[22A\u001b[2K\u001b[22A\u001b[2K\u001b[22A\u001b[2K\u001b[22A\u001b[2K\u001b[22A\u001b[2K\u001b[22A\u001b[2K\u001b[22A\u001b[2K\u001b[22A\u001b[2K\u001b[22A\u001b[2K\u001b[22A\u001b[2K\u001b[22A\u001b[2K\u001b[22A\u001b[2K\u001b[22A\u001b[2K\u001b[22A\u001b[2K\u001b[22A\u001b[2K\u001b[22A\u001b[2K\u001b[22A\u001b[2K\u001b[22A\u001b[2K\u001b[22A\u001b[2K\u001b[22A\u001b[2K\u001b[22A\u001b[2K\u001b[22A\u001b[2K\u001b[22A\u001b[2K\u001b[22A\u001b[2K\u001b[22A\u001b[2K\u001b[22A\u001b[2K\u001b[22A\u001b[2K\u001b[22A\u001b[2K\u001b[22A\u001b[2K\u001b[22A\u001b[2K\u001b[22A\u001b[2K\u001b[22A\u001b[2K\u001b[22A\u001b[2K\u001b[22A\u001b[2K\u001b[22A\u001b[2K\u001b[22A\u001b[2K\u001b[22A\u001b[2K\u001b[22A\u001b[2K\u001b[22A\u001b[2K\u001b[22A\u001b[2K\u001b[22A\u001b[2K\u001b[22A\u001b[2K\u001b[22A\u001b[2K\u001b[22A\u001b[2K\u001b[22A\u001b[2K\u001b[22A\u001b[2K\u001b[22A\u001b[2K\u001b[22A\u001b[2K\u001b[22A\u001b[2K\u001b[22A\u001b[2K\u001b[22A\u001b[2K\u001b[22A\u001b[2K\u001b[22A\u001b[2K\u001b[22A\u001b[2K\u001b[22A\u001b[2K\u001b[22A\u001b[2K\u001b[22A\u001b[2K\u001b[22A\u001b[2K\u001b[22A\u001b[2K\u001b[22A\u001b[2K\u001b[22A\u001b[2K\u001b[22A\u001b[2K\u001b[22A\u001b[2K\u001b[22A\u001b[2K\u001b[22A\u001b[2K\u001b[22A\u001b[2K\u001b[22A\u001b[2K\u001b[22A\u001b[2K\u001b[22A\u001b[2K\u001b[22A\u001b[2K\u001b[22A\u001b[2K\u001b[22A\u001b[2K\u001b[22A\u001b[2K\u001b[22A\u001b[2K\u001b[22A\u001b[2K\u001b[22A\u001b[2K\u001b[22A\u001b[2K\u001b[22A\u001b[2K\u001b[22A\u001b[2K\u001b[22A\u001b[2K\u001b[22A\u001b[2K\u001b[22A\u001b[2K\u001b[22A\u001b[2K\u001b[22A\u001b[2K\u001b[22A\u001b[2K\u001b[22A\u001b[2K\u001b[22A\u001b[2K\u001b[22A\u001b[2K\u001b[22A\u001b[2K\u001b[22A\u001b[2K\u001b[22A\u001b[2K\u001b[22A\u001b[2K\u001b[22A\u001b[2K\u001b[22A\u001b[2K\u001b[22A\u001b[2K\u001b[22A\u001b[2K\u001b[22A\u001b[2K\u001b[22A\u001b[2K\u001b[22A\u001b[2K\u001b[22A\u001b[2K\u001b[22A\u001b[2K\u001b[22A\u001b[2K\u001b[22A\u001b[2K\u001b[22A\u001b[2K\u001b[22A\u001b[2K\u001b[22A\u001b[2K\u001b[22A\u001b[2K\u001b[22A\u001b[2K\u001b[22A\u001b[2K\u001b[22A\u001b[2K\u001b[22A\u001b[2K\u001b[22A\u001b[2K\u001b[22A\u001b[2K\u001b[22A\u001b[2K\u001b[22A\u001b[2K\u001b[22A\u001b[2K\u001b[22A\u001b[2K\u001b[22A\u001b[2K\u001b[22A\u001b[2K\u001b[22A\u001b[2K\u001b[22A\u001b[2K\u001b[22A\u001b[2K\u001b[22A\u001b[2K\u001b[22A\u001b[2K\u001b[22A\u001b[2K\u001b[22A\u001b[2K\u001b[22A\u001b[2K\u001b[22A\u001b[2K\u001b[22A\u001b[2K\u001b[22A\u001b[2K\u001b[22A\u001b[2K\u001b[22A\u001b[2K\u001b[22A\u001b[2K\u001b[22A\u001b[2K\u001b[22A\u001b[2K\u001b[22A\u001b[2K\u001b[22A\u001b[2K\u001b[22A\u001b[2K\u001b[22A\u001b[2K\u001b[22A\u001b[2K\u001b[22A\u001b[2K\u001b[22A\u001b[2K\u001b[22A\u001b[2K\u001b[22A\u001b[2K\u001b[22A\u001b[2K\u001b[22A\u001b[2K\u001b[22A\u001b[2K\u001b[22A\u001b[2K\u001b[22A\u001b[2K\u001b[22A\u001b[2K\u001b[22A\u001b[2K\u001b[22A\u001b[2K\u001b[22A\u001b[2K\u001b[22A\u001b[2K\u001b[22A\u001b[2K\u001b[22A\u001b[2K\u001b[22A\u001b[2K\u001b[22A\u001b[2K\u001b[22A\u001b[2K\u001b[22A\u001b[2K\u001b[22A\u001b[2K\u001b[22A\u001b[2K\u001b[22A\u001b[2K\u001b[22A\u001b[2K\u001b[22A\u001b[2K\u001b[22A\u001b[2K\u001b[22A\u001b[2K\u001b[22A\u001b[2K\u001b[22A\u001b[2K\u001b[22A\u001b[2K\u001b[22A\u001b[2K\u001b[22A\u001b[2K\u001b[22A\u001b[2K\u001b[22A\u001b[2K\u001b[22A\u001b[2K\u001b[22A\u001b[2K\u001b[22A\u001b[2K\u001b[22A\u001b[2K\u001b[22A\u001b[2K\u001b[22A\u001b[2K\u001b[22A\u001b[2K\u001b[22A\u001b[2K\u001b[22A\u001b[2K\u001b[22A\u001b[2K\u001b[22A\u001b[2K\u001b[22A\u001b[2K\u001b[22A\u001b[2K\u001b[22A\u001b[2K\u001b[22A\u001b[2K\u001b[22A\u001b[2K\u001b[22A\u001b[2K\u001b[22A\u001b[2K\u001b[22A\u001b[2K\u001b[22A\u001b[2K\u001b[22A\u001b[2K\u001b[21A\u001b[2K\u001b[21A\u001b[2K\u001b[21A\u001b[2K\u001b[21A\u001b[2K\u001b[21A\u001b[2K\u001b[21A\u001b[2K\u001b[21A\u001b[2K\u001b[21A\u001b[2K\u001b[21A\u001b[2K\u001b[21A\u001b[2K\u001b[21A\u001b[2K\u001b[21A\u001b[2K\u001b[21A\u001b[2K\u001b[21A\u001b[2K\u001b[21A\u001b[2K\u001b[21A\u001b[2K\u001b[21A\u001b[2K\u001b[21A\u001b[2K\u001b[21A\u001b[2K\u001b[21A\u001b[2K\u001b[21A\u001b[2K\u001b[21A\u001b[2K\u001b[21A\u001b[2K\u001b[21A\u001b[2K\u001b[21A\u001b[2K\u001b[21A\u001b[2K\u001b[21A\u001b[2K\u001b[21A\u001b[2K\u001b[21A\u001b[2K\u001b[21A\u001b[2K\u001b[21A\u001b[2K\u001b[21A\u001b[2K\u001b[21A\u001b[2K\u001b[21A\u001b[2K\u001b[21A\u001b[2K\u001b[21A\u001b[2K\u001b[21A\u001b[2K\u001b[21A\u001b[2K\u001b[21A\u001b[2K\u001b[21A\u001b[2K\u001b[21A\u001b[2K\u001b[21A\u001b[2K\u001b[21A\u001b[2K\u001b[21A\u001b[2K\u001b[21A\u001b[2K\u001b[21A\u001b[2K\u001b[21A\u001b[2K\u001b[21A\u001b[2K\u001b[21A\u001b[2K\u001b[21A\u001b[2K\u001b[21A\u001b[2K\u001b[21A\u001b[2K\u001b[21A\u001b[2K\u001b[21A\u001b[2K\u001b[21A\u001b[2K\u001b[21A\u001b[2K\u001b[21A\u001b[2K\u001b[21A\u001b[2K\u001b[21A\u001b[2K\u001b[21A\u001b[2K\u001b[21A\u001b[2K\u001b[21A\u001b[2K\u001b[21A\u001b[2K\u001b[21A\u001b[2K\u001b[21A\u001b[2K\u001b[21A\u001b[2K\u001b[21A\u001b[2K\u001b[21A\u001b[2K\u001b[21A\u001b[2K\u001b[21A\u001b[2K\u001b[21A\u001b[2K\u001b[21A\u001b[2K\u001b[21A\u001b[2K\u001b[21A\u001b[2K\u001b[21A\u001b[2K\u001b[21A\u001b[2K\u001b[21A\u001b[2K\u001b[21A\u001b[2K\u001b[21A\u001b[2K\u001b[21A\u001b[2K\u001b[21A\u001b[2K\u001b[21A\u001b[2K\u001b[21A\u001b[2K\u001b[21A\u001b[2K\u001b[21A\u001b[2K\u001b[21A\u001b[2K\u001b[21A\u001b[2K\u001b[21A\u001b[2K\u001b[21A\u001b[2K\u001b[21A\u001b[2K\u001b[21A\u001b[2K\u001b[21A\u001b[2K\u001b[21A\u001b[2K\u001b[21A\u001b[2K\u001b[21A\u001b[2K\u001b[21A\u001b[2K\u001b[21A\u001b[2K\u001b[21A\u001b[2K\u001b[21A\u001b[2K\u001b[21A\u001b[2K\u001b[21A\u001b[2K\u001b[21A\u001b[2K\u001b[21A\u001b[2K\u001b[21A\u001b[2K\u001b[21A\u001b[2K\u001b[21A\u001b[2K\u001b[21A\u001b[2K\u001b[21A\u001b[2K\u001b[21A\u001b[2K\u001b[21A\u001b[2K\u001b[21A\u001b[2K\u001b[21A\u001b[2K\u001b[21A\u001b[2K\u001b[21A\u001b[2K\u001b[21A\u001b[2K\u001b[21A\u001b[2K\u001b[21A\u001b[2K\u001b[21A\u001b[2K\u001b[21A\u001b[2K\u001b[21A\u001b[2K\u001b[21A\u001b[2K\u001b[21A\u001b[2K\u001b[21A\u001b[2K\u001b[21A\u001b[2K\u001b[21A\u001b[2K\u001b[21A\u001b[2K\u001b[21A\u001b[2K\u001b[21A\u001b[2K\u001b[21A\u001b[2K\u001b[21A\u001b[2K\u001b[21A\u001b[2K\u001b[21A\u001b[2K\u001b[21A\u001b[2K\u001b[21A\u001b[2K\u001b[21A\u001b[2K\u001b[21A\u001b[2K\u001b[21A\u001b[2K\u001b[21A\u001b[2K\u001b[21A\u001b[2K\u001b[21A\u001b[2K\u001b[21A\u001b[2K\u001b[21A\u001b[2K\u001b[21A\u001b[2K\u001b[21A\u001b[2K\u001b[21A\u001b[2K\u001b[21A\u001b[2K\u001b[21A\u001b[2K\u001b[21A\u001b[2K\u001b[21A\u001b[2K\u001b[21A\u001b[2K\u001b[21A\u001b[2K\u001b[21A\u001b[2K\u001b[21A\u001b[2K\u001b[21A\u001b[2K\u001b[21A\u001b[2K\u001b[21A\u001b[2K\u001b[21A\u001b[2K\u001b[21A\u001b[2K\u001b[21A\u001b[2K\u001b[21A\u001b[2K\u001b[21A\u001b[2K\u001b[21A\u001b[2K\u001b[21A\u001b[2K\u001b[21A\u001b[2K\u001b[21A\u001b[2K\u001b[21A\u001b[2K\u001b[21A\u001b[2K\u001b[21A\u001b[2K\u001b[21A\u001b[2K\u001b[21A\u001b[2K\u001b[21A\u001b[2K\u001b[21A\u001b[2K\u001b[21A\u001b[2K\u001b[21A\u001b[2K\u001b[21A\u001b[2K\u001b[21A\u001b[2K\u001b[21A\u001b[2K\u001b[21A\u001b[2K\u001b[21A\u001b[2K\u001b[21A\u001b[2K\u001b[21A\u001b[2K\u001b[21A\u001b[2K\u001b[21A\u001b[2K\u001b[21A\u001b[2K\u001b[21A\u001b[2K\u001b[21A\u001b[2K\u001b[21A\u001b[2K\u001b[21A\u001b[2K\u001b[21A\u001b[2K\u001b[21A\u001b[2K\u001b[21A\u001b[2K\u001b[21A\u001b[2K\u001b[21A\u001b[2K\u001b[21A\u001b[2K\u001b[21A\u001b[2K\u001b[21A\u001b[2K\u001b[21A\u001b[2K\u001b[21A\u001b[2K\u001b[21A\u001b[2K\u001b[21A\u001b[2K\u001b[21A\u001b[2K\u001b[21A\u001b[2K\u001b[21A\u001b[2K\u001b[21A\u001b[2K\u001b[21A\u001b[2K\u001b[21A\u001b[2K\u001b[21A\u001b[2K\u001b[21A\u001b[2K\u001b[21A\u001b[2K\u001b[21A\u001b[2K\u001b[21A\u001b[2K\u001b[21A\u001b[2K\u001b[21A\u001b[2K\u001b[21A\u001b[2K\u001b[21A\u001b[2K\u001b[21A\u001b[2K\u001b[21A\u001b[2K\u001b[21A\u001b[2K\u001b[21A\u001b[2K\u001b[21A\u001b[2K\u001b[21A\u001b[2K\u001b[21A\u001b[2K\u001b[21A\u001b[2K\u001b[21A\u001b[2K\u001b[21A\u001b[2K\u001b[21A\u001b[2K\u001b[21A\u001b[2K\u001b[21A\u001b[2K\u001b[21A\u001b[2K\u001b[21A\u001b[2K\u001b[21A\u001b[2K\u001b[21A\u001b[2K\u001b[21A\u001b[2K\u001b[21A\u001b[2K\u001b[21A\u001b[2K\u001b[21A\u001b[2K\u001b[21A\u001b[2K\u001b[21A\u001b[2K\u001b[21A\u001b[2K\u001b[21A\u001b[2K\u001b[21A\u001b[2K\u001b[21A\u001b[2K\u001b[21A\u001b[2K\u001b[21A\u001b[2K\u001b[21A\u001b[2K\u001b[21A\u001b[2K\u001b[21A\u001b[2K\u001b[21A\u001b[2K\u001b[21A\u001b[2K\u001b[21A\u001b[2K\u001b[21A\u001b[2K\u001b[21A\u001b[2K\u001b[21A\u001b[2K\u001b[21A\u001b[2K\u001b[21A\u001b[2K\u001b[21A\u001b[2K\u001b[21A\u001b[2K\u001b[21A\u001b[2K\u001b[21A\u001b[2K\u001b[21A\u001b[2K\u001b[21A\u001b[2K\u001b[21A\u001b[2K\u001b[21A\u001b[2K\u001b[21A\u001b[2K\u001b[21A\u001b[2K\u001b[21A\u001b[2K\u001b[21A\u001b[2K\u001b[21A\u001b[2K\u001b[21A\u001b[2K\u001b[21A\u001b[2K\u001b[21A\u001b[2K\u001b[21A\u001b[2K\u001b[21A\u001b[2K\u001b[21A\u001b[2K\u001b[21A\u001b[2K\u001b[21A\u001b[2K\u001b[21A\u001b[2K\u001b[21A\u001b[2K\u001b[21A\u001b[2K\u001b[21A\u001b[2K\u001b[21A\u001b[2K\u001b[21A\u001b[2K\u001b[21A\u001b[2K\u001b[21A\u001b[2K\u001b[21A\u001b[2K\u001b[21A\u001b[2K\u001b[21A\u001b[2K\u001b[21A\u001b[2K\u001b[21A\u001b[2K\u001b[21A\u001b[2K\u001b[21A\u001b[2K\u001b[21A\u001b[2K\u001b[21A\u001b[2K\u001b[21A\u001b[2K\u001b[21A\u001b[2K\u001b[21A\u001b[2K\u001b[21A\u001b[2K\u001b[21A\u001b[2K\u001b[21A\u001b[2K\u001b[21A\u001b[2K\u001b[21A\u001b[2K\u001b[21A\u001b[2K\u001b[21A\u001b[2K\u001b[21A\u001b[2K\u001b[21A\u001b[2K\u001b[21A\u001b[2K\u001b[21A\u001b[2K\u001b[21A\u001b[2K\u001b[21A\u001b[2K\u001b[21A\u001b[2K\u001b[21A\u001b[2K\u001b[21A\u001b[2K\u001b[21A\u001b[2K\u001b[21A\u001b[2K\u001b[21A\u001b[2K\u001b[21A\u001b[2K\u001b[21A\u001b[2K\u001b[21A\u001b[2KExtracting  419.5MB/611.9MB\u001b[21A\u001b[2K\u001b[21A\u001b[2K\u001b[21A\u001b[2K\u001b[21A\u001b[2K\u001b[21A\u001b[2K\u001b[21A\u001b[2K\u001b[21A\u001b[2K\u001b[21A\u001b[2K\u001b[21A\u001b[2K\u001b[21A\u001b[2K\u001b[21A\u001b[2K\u001b[21A\u001b[2K\u001b[21A\u001b[2K\u001b[21A\u001b[2K\u001b[21A\u001b[2K\u001b[21A\u001b[2K\u001b[21A\u001b[2K\u001b[21A\u001b[2K\u001b[21A\u001b[2K\u001b[21A\u001b[2K\u001b[21A\u001b[2K\u001b[21A\u001b[2K\u001b[21A\u001b[2K\u001b[21A\u001b[2K\u001b[21A\u001b[2K\u001b[21A\u001b[2K\u001b[21A\u001b[2K\u001b[21A\u001b[2K\u001b[21A\u001b[2K\u001b[21A\u001b[2K\u001b[21A\u001b[2K\u001b[21A\u001b[2K\u001b[21A\u001b[2K\u001b[21A\u001b[2K\u001b[21A\u001b[2K\u001b[21A\u001b[2K\u001b[21A\u001b[2K\u001b[21A\u001b[2K\u001b[21A\u001b[2K\u001b[21A\u001b[2K\u001b[21A\u001b[2K\u001b[21A\u001b[2K\u001b[21A\u001b[2K\u001b[21A\u001b[2K\u001b[21A\u001b[2K\u001b[21A\u001b[2K\u001b[21A\u001b[2K\u001b[21A\u001b[2K\u001b[21A\u001b[2K\u001b[21A\u001b[2K\u001b[21A\u001b[2K\u001b[21A\u001b[2K\u001b[21A\u001b[2K\u001b[21A\u001b[2K\u001b[21A\u001b[2K\u001b[21A\u001b[2K\u001b[21A\u001b[2K\u001b[21A\u001b[2K\u001b[21A\u001b[2K\u001b[21A\u001b[2K\u001b[21A\u001b[2K\u001b[21A\u001b[2K\u001b[21A\u001b[2K\u001b[21A\u001b[2K\u001b[21A\u001b[2K\u001b[21A\u001b[2K\u001b[21A\u001b[2K\u001b[21A\u001b[2K\u001b[21A\u001b[2K\u001b[21A\u001b[2K\u001b[21A\u001b[2K\u001b[21A\u001b[2K\u001b[21A\u001b[2K\u001b[21A\u001b[2K\u001b[21A\u001b[2K\u001b[21A\u001b[2K\u001b[21A\u001b[2K\u001b[21A\u001b[2K\u001b[21A\u001b[2K\u001b[21A\u001b[2K\u001b[21A\u001b[2K\u001b[21A\u001b[2K\u001b[21A\u001b[2K\u001b[21A\u001b[2K\u001b[21A\u001b[2K\u001b[20A\u001b[2K\u001b[20A\u001b[2K\u001b[20A\u001b[2K\u001b[20A\u001b[2K\u001b[20A\u001b[2K\u001b[20A\u001b[2K\u001b[20A\u001b[2K\u001b[20A\u001b[2K\u001b[20A\u001b[2K\u001b[20A\u001b[2K\u001b[20A\u001b[2K\u001b[20A\u001b[2K\u001b[20A\u001b[2K\u001b[20A\u001b[2K\u001b[20A\u001b[2K\u001b[20A\u001b[2K\u001b[20A\u001b[2K\u001b[20A\u001b[2K\u001b[20A\u001b[2K\u001b[20A\u001b[2K\u001b[20A\u001b[2K\u001b[20A\u001b[2K\u001b[20A\u001b[2K\u001b[20A\u001b[2K\u001b[20A\u001b[2K\u001b[20A\u001b[2K\u001b[20A\u001b[2K\u001b[20A\u001b[2K\u001b[20A\u001b[2K\u001b[20A\u001b[2K\u001b[20A\u001b[2K\u001b[20A\u001b[2K\u001b[20A\u001b[2K\u001b[20A\u001b[2K\u001b[20A\u001b[2K\u001b[20A\u001b[2K\u001b[20A\u001b[2K\u001b[20A\u001b[2K\u001b[20A\u001b[2K\u001b[20A\u001b[2K\u001b[20A\u001b[2K\u001b[20A\u001b[2K\u001b[20A\u001b[2K\u001b[20A\u001b[2K\u001b[20A\u001b[2K\u001b[20A\u001b[2K\u001b[20A\u001b[2K\u001b[20A\u001b[2K\u001b[20A\u001b[2K\u001b[20A\u001b[2K\u001b[20A\u001b[2K\u001b[20A\u001b[2K\u001b[20A\u001b[2K\u001b[20A\u001b[2K\u001b[20A\u001b[2K\u001b[20A\u001b[2K\u001b[20A\u001b[2K\u001b[20A\u001b[2K\u001b[20A\u001b[2K\u001b[20A\u001b[2K\u001b[20A\u001b[2K\u001b[20A\u001b[2K\u001b[20A\u001b[2K\u001b[20A\u001b[2K\u001b[20A\u001b[2K\u001b[20A\u001b[2K\u001b[20A\u001b[2K\u001b[20A\u001b[2K\u001b[20A\u001b[2K\u001b[20A\u001b[2K\u001b[20A\u001b[2K\u001b[20A\u001b[2K\u001b[20A\u001b[2K\u001b[20A\u001b[2K\u001b[20A\u001b[2K\u001b[20A\u001b[2K\u001b[20A\u001b[2K\u001b[20A\u001b[2K\u001b[20A\u001b[2K\u001b[20A\u001b[2K\u001b[20A\u001b[2K\u001b[20A\u001b[2K\u001b[20A\u001b[2K\u001b[20A\u001b[2K\u001b[20A\u001b[2K\u001b[20A\u001b[2K\u001b[20A\u001b[2K\u001b[20A\u001b[2K\u001b[20A\u001b[2K\u001b[20A\u001b[2K\u001b[20A\u001b[2K\u001b[20A\u001b[2K\u001b[20A\u001b[2K\u001b[20A\u001b[2K\u001b[20A\u001b[2K\u001b[20A\u001b[2K\u001b[20A\u001b[2K\u001b[20A\u001b[2K\u001b[20A\u001b[2K\u001b[20A\u001b[2K\u001b[20A\u001b[2K\u001b[20A\u001b[2K\u001b[20A\u001b[2K\u001b[20A\u001b[2K\u001b[20A\u001b[2K\u001b[20A\u001b[2K\u001b[20A\u001b[2K\u001b[20A\u001b[2K\u001b[20A\u001b[2K\u001b[20A\u001b[2K\u001b[20A\u001b[2K\u001b[20A\u001b[2K\u001b[20A\u001b[2K\u001b[20A\u001b[2K\u001b[20A\u001b[2K\u001b[20A\u001b[2K\u001b[20A\u001b[2K\u001b[20A\u001b[2K\u001b[20A\u001b[2K\u001b[20A\u001b[2K\u001b[20A\u001b[2K\u001b[20A\u001b[2K\u001b[20A\u001b[2K\u001b[20A\u001b[2K\u001b[20A\u001b[2K\u001b[20A\u001b[2K\u001b[20A\u001b[2K\u001b[20A\u001b[2K\u001b[20A\u001b[2K\u001b[20A\u001b[2K\u001b[20A\u001b[2K\u001b[20A\u001b[2K\u001b[20A\u001b[2K\u001b[20A\u001b[2K\u001b[20A\u001b[2K\u001b[20A\u001b[2K\u001b[20A\u001b[2K\u001b[20A\u001b[2K\u001b[20A\u001b[2K\u001b[20A\u001b[2K\u001b[20A\u001b[2K\u001b[20A\u001b[2K\u001b[20A\u001b[2K\u001b[20A\u001b[2K\u001b[20A\u001b[2K\u001b[20A\u001b[2K\u001b[20A\u001b[2K\u001b[20A\u001b[2K\u001b[20A\u001b[2K\u001b[20A\u001b[2K\u001b[20A\u001b[2K\u001b[20A\u001b[2K\u001b[20A\u001b[2K\u001b[20A\u001b[2K\u001b[20A\u001b[2K\u001b[20A\u001b[2K\u001b[20A\u001b[2K\u001b[20A\u001b[2K\u001b[20A\u001b[2K\u001b[20A\u001b[2K\u001b[20A\u001b[2K\u001b[20A\u001b[2K\u001b[20A\u001b[2K\u001b[20A\u001b[2K\u001b[20A\u001b[2K\u001b[20A\u001b[2K\u001b[20A\u001b[2K\u001b[20A\u001b[2K\u001b[20A\u001b[2K\u001b[20A\u001b[2K\u001b[20A\u001b[2K\u001b[20A\u001b[2K\u001b[20A\u001b[2K\u001b[20A\u001b[2K\u001b[20A\u001b[2K\u001b[20A\u001b[2K\u001b[20A\u001b[2K\u001b[20A\u001b[2K\u001b[20A\u001b[2K\u001b[20A\u001b[2K\u001b[20A\u001b[2K\u001b[20A\u001b[2K\u001b[20A\u001b[2K\u001b[20A\u001b[2K\u001b[20A\u001b[2K\u001b[20A\u001b[2K\u001b[20A\u001b[2K\u001b[20A\u001b[2K\u001b[20A\u001b[2K\u001b[20A\u001b[2K\u001b[20A\u001b[2K\u001b[20A\u001b[2K\u001b[20A\u001b[2K\u001b[20A\u001b[2K\u001b[20A\u001b[2K\u001b[20A\u001b[2K\u001b[20A\u001b[2K\u001b[20A\u001b[2K\u001b[20A\u001b[2K\u001b[20A\u001b[2K\u001b[20A\u001b[2K\u001b[20A\u001b[2K\u001b[20A\u001b[2K\u001b[20A\u001b[2K\u001b[20A\u001b[2K\u001b[20A\u001b[2K\u001b[20A\u001b[2K\u001b[20A\u001b[2K\u001b[20A\u001b[2K\u001b[20A\u001b[2K\u001b[20A\u001b[2K\u001b[20A\u001b[2K\u001b[20A\u001b[2K\u001b[19A\u001b[2K\u001b[19A\u001b[2K\u001b[19A\u001b[2K\u001b[18A\u001b[2K\u001b[18A\u001b[2K\u001b[18A\u001b[2K\u001b[18A\u001b[2K\u001b[18A\u001b[2K\u001b[18A\u001b[2K\u001b[17A\u001b[2K\u001b[17A\u001b[2K\u001b[16A\u001b[2K\u001b[16A\u001b[2K\u001b[15A\u001b[2K\u001b[15A\u001b[2K\u001b[14A\u001b[2K\u001b[14A\u001b[2K\u001b[14A\u001b[2K\u001b[14A\u001b[2K\u001b[14A\u001b[2K\u001b[14A\u001b[2K\u001b[14A\u001b[2K\u001b[14A\u001b[2K\u001b[13A\u001b[2K\u001b[12A\u001b[2K\u001b[11A\u001b[2K\u001b[11A\u001b[2K\u001b[11A\u001b[2K\u001b[11A\u001b[2K\u001b[10A\u001b[2K\u001b[9A\u001b[2K\u001b[8A\u001b[2K\u001b[8A\u001b[2K\u001b[8A\u001b[2K\u001b[8A\u001b[2K\u001b[8A\u001b[2K\u001b[8A\u001b[2K\u001b[8A\u001b[2K\u001b[8A\u001b[2K\u001b[8A\u001b[2K\u001b[8A\u001b[2K\u001b[8A\u001b[2K\u001b[8A\u001b[2K\u001b[8A\u001b[2K\u001b[8A\u001b[2K\u001b[8A\u001b[2K\u001b[8A\u001b[2K\u001b[8A\u001b[2K\u001b[8A\u001b[2K\u001b[8A\u001b[2K\u001b[8A\u001b[2K\u001b[8A\u001b[2K\u001b[8A\u001b[2K\u001b[8A\u001b[2K\u001b[8A\u001b[2K\u001b[8A\u001b[2K\u001b[8A\u001b[2K\u001b[8A\u001b[2K\u001b[8A\u001b[2K\u001b[8A\u001b[2K\u001b[8A\u001b[2K\u001b[8A\u001b[2K\u001b[8A\u001b[2K\u001b[8A\u001b[2K\u001b[8A\u001b[2K\u001b[8A\u001b[2K\u001b[8A\u001b[2K\u001b[8A\u001b[2K\u001b[8A\u001b[2K\u001b[8A\u001b[2K\u001b[8A\u001b[2K\u001b[8A\u001b[2K\u001b[8A\u001b[2K\u001b[8A\u001b[2K\u001b[8A\u001b[2K\u001b[8A\u001b[2K\u001b[8A\u001b[2K\u001b[8A\u001b[2K\u001b[8A\u001b[2K\u001b[8A\u001b[2K\u001b[8A\u001b[2K\u001b[8A\u001b[2K\u001b[8A\u001b[2K\u001b[8A\u001b[2K\u001b[8A\u001b[2K\u001b[8A\u001b[2K\u001b[8A\u001b[2K\u001b[8A\u001b[2K\u001b[8A\u001b[2K\u001b[8A\u001b[2K\u001b[8A\u001b[2K\u001b[8A\u001b[2K\u001b[8A\u001b[2K\u001b[8A\u001b[2K\u001b[8A\u001b[2K\u001b[8A\u001b[2K\u001b[8A\u001b[2K\u001b[8A\u001b[2K\u001b[8A\u001b[2K\u001b[8A\u001b[2K\u001b[8A\u001b[2K\u001b[8A\u001b[2K\u001b[8A\u001b[2K\u001b[8A\u001b[2K\u001b[8A\u001b[2K\u001b[8A\u001b[2K\u001b[8A\u001b[2K\u001b[8A\u001b[2K\u001b[8A\u001b[2K\u001b[8A\u001b[2K\u001b[8A\u001b[2K\u001b[8A\u001b[2K\u001b[8A\u001b[2K\u001b[8A\u001b[2K\u001b[8A\u001b[2K\u001b[8A\u001b[2K\u001b[8A\u001b[2K\u001b[8A\u001b[2K\u001b[8A\u001b[2K\u001b[8A\u001b[2K\u001b[8A\u001b[2K\u001b[8A\u001b[2K\u001b[8A\u001b[2K\u001b[8A\u001b[2K\u001b[8A\u001b[2K\u001b[8A\u001b[2K\u001b[8A\u001b[2K\u001b[8A\u001b[2K\u001b[8A\u001b[2K\u001b[8A\u001b[2K\u001b[8A\u001b[2K\u001b[8A\u001b[2K\u001b[8A\u001b[2K\u001b[8A\u001b[2K\u001b[8A\u001b[2K\u001b[8A\u001b[2K\u001b[8A\u001b[2K\u001b[8A\u001b[2K\u001b[8A\u001b[2K\u001b[8A\u001b[2K\u001b[8A\u001b[2K\u001b[8A\u001b[2K\u001b[8A\u001b[2K\u001b[8A\u001b[2K\u001b[8A\u001b[2K\u001b[8A\u001b[2K\u001b[8A\u001b[2K\u001b[8A\u001b[2K\u001b[8A\u001b[2K\u001b[8A\u001b[2K\u001b[8A\u001b[2K\u001b[8A\u001b[2K\u001b[8A\u001b[2K\u001b[8A\u001b[2K\u001b[8A\u001b[2K\u001b[8A\u001b[2K\u001b[8A\u001b[2K\u001b[8A\u001b[2K\u001b[8A\u001b[2K\u001b[8A\u001b[2K\u001b[8A\u001b[2K\u001b[8A\u001b[2K\u001b[8A\u001b[2K\u001b[8A\u001b[2K\u001b[8A\u001b[2K\u001b[8A\u001b[2K\u001b[8A\u001b[2K\u001b[8A\u001b[2K\u001b[8A\u001b[2K\u001b[8A\u001b[2K\u001b[8A\u001b[2K\u001b[8A\u001b[2K\u001b[8A\u001b[2K\u001b[8A\u001b[2K\u001b[8A\u001b[2K\u001b[8A\u001b[2K\u001b[8A\u001b[2K\u001b[8A\u001b[2K\u001b[8A\u001b[2K\u001b[8A\u001b[2K\u001b[8A\u001b[2K\u001b[8A\u001b[2K\u001b[8A\u001b[2K\u001b[8A\u001b[2K\u001b[8A\u001b[2K\u001b[8A\u001b[2K\u001b[8A\u001b[2K\u001b[8A\u001b[2K\u001b[8A\u001b[2K\u001b[8A\u001b[2K\u001b[8A\u001b[2K\u001b[8A\u001b[2K\u001b[8A\u001b[2K\u001b[8A\u001b[2K\u001b[8A\u001b[2K\u001b[8A\u001b[2K\u001b[8A\u001b[2K\u001b[8A\u001b[2K\u001b[8A\u001b[2K\u001b[8A\u001b[2K\u001b[8A\u001b[2K\u001b[8A\u001b[2K\u001b[8A\u001b[2K\u001b[8A\u001b[2K\u001b[8A\u001b[2K\u001b[8A\u001b[2K\u001b[8A\u001b[2K\u001b[8A\u001b[2K\u001b[8A\u001b[2K\u001b[8A\u001b[2K\u001b[8A\u001b[2K\u001b[8A\u001b[2K\u001b[8A\u001b[2K\u001b[8A\u001b[2K\u001b[8A\u001b[2K\u001b[8A\u001b[2K\u001b[8A\u001b[2K\u001b[8A\u001b[2K\u001b[8A\u001b[2K\u001b[8A\u001b[2K\u001b[8A\u001b[2K\u001b[8A\u001b[2K\u001b[8A\u001b[2K\u001b[8A\u001b[2K\u001b[8A\u001b[2K\u001b[8A\u001b[2K\u001b[8A\u001b[2K\u001b[8A\u001b[2K\u001b[8A\u001b[2K\u001b[8A\u001b[2K\u001b[8A\u001b[2K\u001b[8A\u001b[2K\u001b[8A\u001b[2K\u001b[8A\u001b[2K\u001b[8A\u001b[2K\u001b[8A\u001b[2K\u001b[8A\u001b[2K\u001b[8A\u001b[2K\u001b[8A\u001b[2K\u001b[8A\u001b[2K\u001b[8A\u001b[2K\u001b[8A\u001b[2K\u001b[8A\u001b[2K\u001b[8A\u001b[2K\u001b[8A\u001b[2K\u001b[8A\u001b[2K\u001b[8A\u001b[2K\u001b[8A\u001b[2K\u001b[8A\u001b[2K\u001b[8A\u001b[2K\u001b[8A\u001b[2K\u001b[8A\u001b[2K\u001b[8A\u001b[2K\u001b[8A\u001b[2K\u001b[8A\u001b[2K\u001b[8A\u001b[2K\u001b[8A\u001b[2K\u001b[8A\u001b[2K\u001b[8A\u001b[2K\u001b[8A\u001b[2K\u001b[8A\u001b[2K\u001b[8A\u001b[2K\u001b[8A\u001b[2K\u001b[8A\u001b[2K\u001b[8A\u001b[2K\u001b[8A\u001b[2K\u001b[8A\u001b[2K\u001b[8A\u001b[2K\u001b[8A\u001b[2K\u001b[8A\u001b[2K\u001b[8A\u001b[2K\u001b[8A\u001b[2K\u001b[8A\u001b[2K\u001b[8A\u001b[2K\u001b[8A\u001b[2K\u001b[8A\u001b[2K\u001b[8A\u001b[2K\u001b[8A\u001b[2K\u001b[8A\u001b[2K\u001b[8A\u001b[2K\u001b[8A\u001b[2K\u001b[8A\u001b[2K\u001b[8A\u001b[2K\u001b[8A\u001b[2K\u001b[8A\u001b[2K\u001b[8A\u001b[2K\u001b[8A\u001b[2K\u001b[8A\u001b[2K\u001b[8A\u001b[2K\u001b[8A\u001b[2K\u001b[8A\u001b[2K\u001b[8A\u001b[2K\u001b[8A\u001b[2K\u001b[8A\u001b[2K\u001b[8A\u001b[2K\u001b[8A\u001b[2K\u001b[8A\u001b[2K\u001b[8A\u001b[2K\u001b[8A\u001b[2K\u001b[8A\u001b[2K\u001b[8A\u001b[2K\u001b[8A\u001b[2K\u001b[8A\u001b[2K\u001b[8A\u001b[2K\u001b[8A\u001b[2K\u001b[8A\u001b[2K\u001b[8A\u001b[2K\u001b[8A\u001b[2K\u001b[8A\u001b[2K\u001b[8A\u001b[2K\u001b[8A\u001b[2K\u001b[8A\u001b[2K\u001b[8A\u001b[2K\u001b[8A\u001b[2K\u001b[8A\u001b[2K\u001b[8A\u001b[2K\u001b[8A\u001b[2K\u001b[8A\u001b[2K\u001b[8A\u001b[2K\u001b[8A\u001b[2K\u001b[8A\u001b[2K\u001b[8A\u001b[2K\u001b[8A\u001b[2K\u001b[8A\u001b[2K\u001b[8A\u001b[2K\u001b[8A\u001b[2K\u001b[8A\u001b[2K\u001b[8A\u001b[2K\u001b[8A\u001b[2K\u001b[8A\u001b[2K\u001b[8A\u001b[2K\u001b[8A\u001b[2K\u001b[8A\u001b[2K\u001b[8A\u001b[2K\u001b[8A\u001b[2K\u001b[8A\u001b[2K\u001b[8A\u001b[2K\u001b[8A\u001b[2K\u001b[8A\u001b[2K\u001b[8A\u001b[2K\u001b[8A\u001b[2K\u001b[8A\u001b[2K"
     ]
    }
   ],
   "source": [
    "SERVER_IMAGE = \"merlin-prediction-cpr\"  # @param {type:\"string\"} \n",
    "REMOTE_IMAGE_NAME=f\"{REGION}-docker.pkg.dev/{PROJECT}/{REPOSITORY}/{SERVER_IMAGE}\"\n",
    "\n",
    "!docker build -t $REMOTE_IMAGE_NAME ."
   ]
  },
  {
   "cell_type": "markdown",
   "id": "a3db156d-4675-43cc-ac8f-305d5fc79230",
   "metadata": {},
   "source": [
    "#### If you are debugging, be sure to set `-d` detached flag off"
   ]
  },
  {
   "cell_type": "code",
   "execution_count": null,
   "id": "3f67e5fc-51f0-4d45-80d5-9bc441b11d64",
   "metadata": {},
   "outputs": [],
   "source": [
    "print(SERVER_IMAGE, REMOTE_IMAGE_NAME, ARTIFACT_URI)"
   ]
  },
  {
   "cell_type": "markdown",
   "id": "ca4b2c6d-add5-4753-9069-8499b09ba5c6",
   "metadata": {},
   "source": [
    "### Copy/paste if you want to run from console for testing\n",
    "```python\n",
    "docker run -p 80:8080 \\\n",
    "            --name=merlin-prediction-cpr \\\n",
    "            -e AIP_HTTP_PORT=8080 \\\n",
    "            -e AIP_HEALTH_ROUTE=/health \\\n",
    "            -e AIP_PREDICT_ROUTE=/predict \\\n",
    "            -e AIP_STORAGE_URI=gs://spotify-beam-v3/merlin-processed \\\n",
    "            us-central1-docker.pkg.dev/hybrid-vertex/merlin-spotify-cpr/merlin-prediction-cpr\n",
    "```"
   ]
  },
  {
   "cell_type": "code",
   "execution_count": null,
   "id": "e52cf577-dcb3-4534-87a1-5acb460d9302",
   "metadata": {},
   "outputs": [],
   "source": [
    "! docker stop $SERVER_IMAGE\n",
    "! docker rm $SERVER_IMAGE\n",
    "# ! docker run -d -p 80:8080 \\\n",
    "#             --name=$SERVER_IMAGE \\\n",
    "#             -e AIP_HTTP_PORT=8080 \\\n",
    "#             -e AIP_HEALTH_ROUTE=/health \\\n",
    "#             -e AIP_PREDICT_ROUTE=/predict \\\n",
    "#             -e AIP_STORAGE_URI=$ARTIFACT_URI \\\n",
    "#             $REMOTE_IMAGE_NAME"
   ]
  },
  {
   "cell_type": "code",
   "execution_count": null,
   "id": "ae9f6a29-7e69-4bf6-bb22-926578ff1181",
   "metadata": {
    "tags": []
   },
   "outputs": [],
   "source": [
    "! curl localhost/health"
   ]
  },
  {
   "cell_type": "code",
   "execution_count": null,
   "id": "fae134d5-92da-48b5-afdb-7a330c88ace0",
   "metadata": {},
   "outputs": [],
   "source": [
    "## Ground truth candidate:\n",
    "    # 'album_uri_can': 'spotify:album:5l83t3mbVgCrIe1VU9uJZR', \n",
    "    # 'artist_name_can': 'Russ', \n",
    "    # 'track_name_can': 'We Just Havent Met Yet', \n",
    "\n",
    "TEST_INSTANCE = {'collaborative': 'false',\n",
    "                 'album_name_pl': [\"There's Really A Wolf\", 'Late Nights: The Album',\n",
    "                       'American Teen', 'Crazy In Love', 'Pony'], \n",
    "                 'artist_genres_pl': [\"'hawaiian hip hop', 'rap'\",\n",
    "                       \"'chicago rap', 'dance pop', 'pop', 'pop rap', 'r&b', 'southern hip hop', 'trap', 'urban contemporary'\",\n",
    "                       \"'pop', 'pop r&b'\", \"'dance pop', 'pop', 'r&b'\",\n",
    "                       \"'chill r&b', 'pop', 'pop r&b', 'r&b', 'urban contemporary'\"], \n",
    "                 'artist_name_pl': ['Russ', 'Jeremih', 'Khalid', 'Beyonc\\xc3\\xa9',\n",
    "                       'William Singe'], \n",
    "                 'description_pl': '', \n",
    "                 'n_songs_pl': 8.0, \n",
    "                 'name': 'Lit Tunes ', \n",
    "                 'num_albums_pl': 8.0, \n",
    "                 'num_artists_pl': 8.0, \n",
    "                 'track_name_pl': ['Losin Control', 'Paradise', 'Location',\n",
    "                       'Crazy In Love - Remix', 'Pony'], \n",
    "                 'duration_ms_seed_pl': 51023.1,\n",
    "                 'pid': 1,\n",
    "                 'track_uri_pl': ['spotify:track:4cxMGhkinTocPSVVKWIw0d',\n",
    "                       'spotify:track:1wNEBPo3nsbGCZRryI832I',\n",
    "                       'spotify:track:152lZdxL1OR0ZMW6KquMif',\n",
    "                       'spotify:track:2f4IuijXLxYOeBncS60GUD',\n",
    "                       'spotify:track:4Lj8paMFwyKTGfILLELVxt']\n",
    "                     }"
   ]
  },
  {
   "cell_type": "code",
   "execution_count": null,
   "id": "acde41b9-5025-4d57-80a9-b9f0213c2e96",
   "metadata": {},
   "outputs": [],
   "source": [
    "import json\n",
    "json_instance = json.dumps({\"instances\": TEST_INSTANCE})\n",
    "print(json_instance)"
   ]
  },
  {
   "cell_type": "code",
   "execution_count": null,
   "id": "5c9659cb-5e93-4ecf-8553-9058934e090e",
   "metadata": {},
   "outputs": [],
   "source": [
    "%%writefile instances.json\n",
    "{\"instances\": {\"collaborative\": \"false\", \"album_name_pl\": [\"There's Really A Wolf\", \"Late Nights: The Album\", \"American Teen\", \"Crazy In Love\", \"Pony\"], \"artist_genres_pl\": [\"'hawaiian hip hop', 'rap'\", \"'chicago rap', 'dance pop', 'pop', 'pop rap', 'r&b', 'southern hip hop', 'trap', 'urban contemporary'\", \"'pop', 'pop r&b'\", \"'dance pop', 'pop', 'r&b'\", \"'chill r&b', 'pop', 'pop r&b', 'r&b', 'urban contemporary'\"], \"artist_name_pl\": [\"Russ\", \"Jeremih\", \"Khalid\", \"Beyonc\\u00c3\\u00a9\", \"William Singe\"], \"description_pl\": \"\", \"n_songs_pl\": 8.0, \"name\": \"Lit Tunes \", \"num_albums_pl\": 8.0, \"num_artists_pl\": 8.0, \"track_name_pl\": [\"Losin Control\", \"Paradise\", \"Location\", \"Crazy In Love - Remix\", \"Pony\"], \"duration_ms_seed_pl\": 51023.1, \"pid\": 1, \"track_uri_pl\": [\"spotify:track:4cxMGhkinTocPSVVKWIw0d\", \"spotify:track:1wNEBPo3nsbGCZRryI832I\", \"spotify:track:152lZdxL1OR0ZMW6KquMif\", \"spotify:track:2f4IuijXLxYOeBncS60GUD\", \"spotify:track:4Lj8paMFwyKTGfILLELVxt\"]}}"
   ]
  },
  {
   "cell_type": "code",
   "execution_count": null,
   "id": "9ae4376b-01af-4ad9-a649-254a777ba186",
   "metadata": {},
   "outputs": [],
   "source": [
    "! echo $json_instance > json_instance.json"
   ]
  },
  {
   "cell_type": "code",
   "execution_count": null,
   "id": "18ca1d02-548d-4d5d-a09e-9a5a6ddf7f45",
   "metadata": {},
   "outputs": [],
   "source": [
    "! curl -X POST \\\n",
    "      -d @instances.json \\\n",
    "      -H \"Content-Type: application/json; charset=utf-8\" \\\n",
    "      localhost/predict"
   ]
  },
  {
   "cell_type": "markdown",
   "id": "9bd45707-2c87-4148-bf69-25feb40a74a3",
   "metadata": {},
   "source": [
    "### Cloud build"
   ]
  },
  {
   "cell_type": "code",
   "execution_count": null,
   "id": "9efda6bd-b348-455d-807c-c3a8c6ba3082",
   "metadata": {
    "tags": []
   },
   "outputs": [],
   "source": [
    "!gcloud builds submit --region={REGION} --tag=$REMOTE_IMAGE_NAME"
   ]
  },
  {
   "cell_type": "markdown",
   "id": "ff6f4d47-b610-45d7-a916-282efe2fe315",
   "metadata": {},
   "source": [
    "### Create test instances \n",
    "Random selection from BQ validation table"
   ]
  },
  {
   "cell_type": "code",
   "execution_count": null,
   "id": "b9cf27ed-0c42-4cee-8116-44962bb57c13",
   "metadata": {
    "tags": []
   },
   "outputs": [],
   "source": [
    "# ### push the container to registry\n",
    "# !docker push $REMOTE_IMAGE_NAME"
   ]
  },
  {
   "cell_type": "markdown",
   "id": "50a9a707-6965-4b6f-a3fe-7312dfddbf24",
   "metadata": {
    "tags": []
   },
   "source": [
    "### Deploy to Vertex AI"
   ]
  },
  {
   "cell_type": "code",
   "execution_count": null,
   "id": "b166b499-b407-4e3e-99f3-da3f3031a147",
   "metadata": {},
   "outputs": [],
   "source": [
    "MODEL_DISPLAY_NAME = \"Merlin Spotify Query Tower Model\"\n",
    "from google.cloud import aiplatform\n",
    "\n",
    "model = aiplatform.Model.upload(\n",
    "    display_name=MODEL_DISPLAY_NAME,\n",
    "    artifact_uri=ARTIFACT_URI,\n",
    "    serving_container_image_uri=REMOTE_IMAGE_NAME\n",
    ")"
   ]
  },
  {
   "cell_type": "code",
   "execution_count": null,
   "id": "9e80231d-0430-478e-989a-4802adca17ab",
   "metadata": {},
   "outputs": [],
   "source": [
    "endpoint = model.deploy(machine_type=\"n1-standard-4\")"
   ]
  },
  {
   "cell_type": "code",
   "execution_count": null,
   "id": "b8b8fa58-c587-4b5d-9958-8ed904e0c162",
   "metadata": {},
   "outputs": [],
   "source": [
    "endpoint.predict(instances=[TEST_INSTANCE])"
   ]
  },
  {
   "cell_type": "code",
   "execution_count": null,
   "id": "8450d789-86ba-499e-8ff6-de88fc0797d1",
   "metadata": {},
   "outputs": [],
   "source": []
  }
 ],
 "metadata": {
  "environment": {
   "kernel": "python3",
   "name": "tf2-gpu.2-8.m98",
   "type": "gcloud",
   "uri": "gcr.io/deeplearning-platform-release/tf2-gpu.2-8:m98"
  },
  "kernelspec": {
   "display_name": "Python 3",
   "language": "python",
   "name": "python3"
  },
  "language_info": {
   "codemirror_mode": {
    "name": "ipython",
    "version": 3
   },
   "file_extension": ".py",
   "mimetype": "text/x-python",
   "name": "python",
   "nbconvert_exporter": "python",
   "pygments_lexer": "ipython3",
   "version": "3.7.12"
  }
 },
 "nbformat": 4,
 "nbformat_minor": 5
}
