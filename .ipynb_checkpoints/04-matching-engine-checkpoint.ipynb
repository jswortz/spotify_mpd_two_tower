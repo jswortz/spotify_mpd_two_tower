{
 "cells": [
  {
   "cell_type": "markdown",
   "id": "dcccb56a-9f1b-4306-a7f0-acdb6fd30a03",
   "metadata": {},
   "source": [
    "# Implementing Recommendation Engines with Matching Engine\n",
    "\n",
    "![](img/arch.png)"
   ]
  },
  {
   "cell_type": "markdown",
   "id": "56f6ae7c-76c0-4590-863a-e8dc99761bff",
   "metadata": {},
   "source": [
    "#### VPC Network peering\n",
    "Matching engine is a high performance vector matching service that requires a seperate VPC to ensure performance. \n",
    "\n",
    "Below are the one-time instructions to set up a peering network. Once created, be sure to your notebook instance running this particular notebook is in the subnetwork... https://cloud.google.com/vertex-ai/docs/matching-engine/match-eng-setup\n",
    "\n",
    "![](img/subnetwork2.png) \n",
    "Then select the network from advanced options\n",
    "![](img/subnetwork.png)"
   ]
  },
  {
   "cell_type": "code",
   "execution_count": null,
   "id": "5bcd1ed2-a152-4c29-8b94-574f916ce854",
   "metadata": {},
   "outputs": [],
   "source": [
    "# PROJECT_ID = \"hybrid-vertex\" \n",
    "# NETWORK_NAME = \"ucaip-haystack-vpc-network\"  \n",
    "# PEERING_RANGE_NAME = \"ucaip-haystack-range\"\n",
    "\n",
    "# # Create a VPC network\n",
    "# ! gcloud compute networks create {NETWORK_NAME} --bgp-routing-mode=regional --subnet-mode=auto --project={PROJECT_ID}\n",
    "\n",
    "# # Add necessary firewall rules\n",
    "# ! gcloud compute firewall-rules create {NETWORK_NAME}-allow-icmp --network {NETWORK_NAME} --priority 65534 --project {PROJECT_ID} --allow icmp\n",
    "\n",
    "# ! gcloud compute firewall-rules create {NETWORK_NAME}-allow-internal --network {NETWORK_NAME} --priority 65534 --project {PROJECT_ID} --allow all --source-ranges 10.128.0.0/9\n",
    "\n",
    "# ! gcloud compute firewall-rules create {NETWORK_NAME}-allow-rdp --network {NETWORK_NAME} --priority 65534 --project {PROJECT_ID} --allow tcp:3389\n",
    "\n",
    "# ! gcloud compute firewall-rules create {NETWORK_NAME}-allow-ssh --network {NETWORK_NAME} --priority 65534 --project {PROJECT_ID} --allow tcp:22\n",
    "\n",
    "# # Reserve IP range\n",
    "# ! gcloud compute addresses create {PEERING_RANGE_NAME} --global --prefix-length=16 --network={NETWORK_NAME} --purpose=VPC_PEERING --project={PROJECT_ID} --description=\"peering range for uCAIP Haystack.\"\n",
    "\n",
    "# Set up peering with service networking\n",
    "# ! gcloud services vpc-peerings connect --service=servicenetworking.googleapis.com --network=${NETWORK_NAME} --ranges=${PEERING_RANGE_NAME} --project=${PROJECT_ID}"
   ]
  }
 ],
 "metadata": {
  "environment": {
   "kernel": "python3",
   "name": "tf2-gpu.2-8.m96",
   "type": "gcloud",
   "uri": "gcr.io/deeplearning-platform-release/tf2-gpu.2-8:m96"
  },
  "kernelspec": {
   "display_name": "Python 3",
   "language": "python",
   "name": "python3"
  },
  "language_info": {
   "codemirror_mode": {
    "name": "ipython",
    "version": 3
   },
   "file_extension": ".py",
   "mimetype": "text/x-python",
   "name": "python",
   "nbconvert_exporter": "python",
   "pygments_lexer": "ipython3",
   "version": "3.7.12"
  }
 },
 "nbformat": 4,
 "nbformat_minor": 5
}
