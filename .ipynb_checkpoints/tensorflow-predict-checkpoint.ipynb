{
 "cells": [
  {
   "cell_type": "markdown",
   "id": "bd0fe025-af3d-4900-9404-59c3b7e6d368",
   "metadata": {},
   "source": [
    "# Testing dict -> query embedding funcitons in merlin\n",
    "This will be used to create a custom container for the query tower"
   ]
  },
  {
   "cell_type": "code",
   "execution_count": 1,
   "id": "77c44945-a86b-4a11-9f14-7d6d908b0674",
   "metadata": {},
   "outputs": [],
   "source": [
    "import json \n",
    "\n",
    "TEST_INSTANCE = json.dumps({'collaborative': 'false',\n",
    "                 'album_name_pl': [\"There's Really A Wolf\", 'Late Nights: The Album',\n",
    "                       'American Teen', 'Crazy In Love', 'Pony'], \n",
    "                 'album_uri_can': 'spotify:album:5l83t3mbVgCrIe1VU9uJZR', \n",
    "                 'artist_followers_can': 4339757.0, \n",
    "                 'artist_genres_can': \"'hawaiian hip hop', 'rap'\", \n",
    "                 'artist_genres_pl': [\"'hawaiian hip hop', 'rap'\",\n",
    "                       \"'chicago rap', 'dance pop', 'pop', 'pop rap', 'r&b', 'southern hip hop', 'trap', 'urban contemporary'\",\n",
    "                       \"'pop', 'pop r&b'\", \"'dance pop', 'pop', 'r&b'\",\n",
    "                       \"'chill r&b', 'pop', 'pop r&b', 'r&b', 'urban contemporary'\"], \n",
    "                 'artist_name_can': 'Russ', \n",
    "                 'artist_name_pl': ['Russ', 'Jeremih', 'Khalid', 'Beyonc\\xc3\\xa9',\n",
    "                       'William Singe'], \n",
    "                 'artist_pop_can': 82.0, \n",
    "                 'artist_pop_pl': [82., 80., 90., 87., 65.], \n",
    "                 'artist_uri_can': 'spotify:artist:1z7b1Pr1rSlvWRzsW3HOrS', \n",
    "                 'artists_followers_pl': [ 4339757.,  5611842., 15046756., 30713126.,   603837.],  \n",
    "                 'description_pl': '', \n",
    "                 'duration_ms_can': 237322.0, \n",
    "                 'duration_ms_songs_pl': [237506., 217200., 219080., 226400., 121739.], \n",
    "                 'n_songs_pl': 8.0, \n",
    "                 'name': 'Lit Tunes ', \n",
    "                 'num_albums_pl': 8.0, \n",
    "                 'num_artists_pl': 8.0, \n",
    "                 'track_name_can': 'We Just Havent Met Yet', \n",
    "                 'track_name_pl': ['Losin Control', 'Paradise', 'Location',\n",
    "                       'Crazy In Love - Remix', 'Pony'], \n",
    "                 'track_pop_can': 57.0, \n",
    "                 'track_pop_pl': [79., 58., 83., 71., 57.],\n",
    "                 'duration_ms_seed_pl': 51023.1,\n",
    "                 'pid': 1,\n",
    "                 'track_uri_can': 'spotify:track:0VzDv4wiuZsLsNOmfaUy2W', \n",
    "                 'track_uri_pl': ['spotify:track:4cxMGhkinTocPSVVKWIw0d',\n",
    "                       'spotify:track:1wNEBPo3nsbGCZRryI832I',\n",
    "                       'spotify:track:152lZdxL1OR0ZMW6KquMif',\n",
    "                       'spotify:track:2f4IuijXLxYOeBncS60GUD',\n",
    "                       'spotify:track:4Lj8paMFwyKTGfILLELVxt']\n",
    "                     })"
   ]
  },
  {
   "cell_type": "code",
   "execution_count": 2,
   "id": "fa8e0985-79bf-4c50-a6db-c79efdf1648c",
   "metadata": {},
   "outputs": [
    {
     "data": {
      "text/plain": [
       "'{\"collaborative\": \"false\", \"album_name_pl\": [\"There\\'s Really A Wolf\", \"Late Nights: The Album\", \"American Teen\", \"Crazy In Love\", \"Pony\"], \"album_uri_can\": \"spotify:album:5l83t3mbVgCrIe1VU9uJZR\", \"artist_followers_can\": 4339757.0, \"artist_genres_can\": \"\\'hawaiian hip hop\\', \\'rap\\'\", \"artist_genres_pl\": [\"\\'hawaiian hip hop\\', \\'rap\\'\", \"\\'chicago rap\\', \\'dance pop\\', \\'pop\\', \\'pop rap\\', \\'r&b\\', \\'southern hip hop\\', \\'trap\\', \\'urban contemporary\\'\", \"\\'pop\\', \\'pop r&b\\'\", \"\\'dance pop\\', \\'pop\\', \\'r&b\\'\", \"\\'chill r&b\\', \\'pop\\', \\'pop r&b\\', \\'r&b\\', \\'urban contemporary\\'\"], \"artist_name_can\": \"Russ\", \"artist_name_pl\": [\"Russ\", \"Jeremih\", \"Khalid\", \"Beyonc\\\\u00c3\\\\u00a9\", \"William Singe\"], \"artist_pop_can\": 82.0, \"artist_pop_pl\": [82.0, 80.0, 90.0, 87.0, 65.0], \"artist_uri_can\": \"spotify:artist:1z7b1Pr1rSlvWRzsW3HOrS\", \"artists_followers_pl\": [4339757.0, 5611842.0, 15046756.0, 30713126.0, 603837.0], \"description_pl\": \"\", \"duration_ms_can\": 237322.0, \"duration_ms_songs_pl\": [237506.0, 217200.0, 219080.0, 226400.0, 121739.0], \"n_songs_pl\": 8.0, \"name\": \"Lit Tunes \", \"num_albums_pl\": 8.0, \"num_artists_pl\": 8.0, \"track_name_can\": \"We Just Havent Met Yet\", \"track_name_pl\": [\"Losin Control\", \"Paradise\", \"Location\", \"Crazy In Love - Remix\", \"Pony\"], \"track_pop_can\": 57.0, \"track_pop_pl\": [79.0, 58.0, 83.0, 71.0, 57.0], \"duration_ms_seed_pl\": 51023.1, \"pid\": 1, \"track_uri_can\": \"spotify:track:0VzDv4wiuZsLsNOmfaUy2W\", \"track_uri_pl\": [\"spotify:track:4cxMGhkinTocPSVVKWIw0d\", \"spotify:track:1wNEBPo3nsbGCZRryI832I\", \"spotify:track:152lZdxL1OR0ZMW6KquMif\", \"spotify:track:2f4IuijXLxYOeBncS60GUD\", \"spotify:track:4Lj8paMFwyKTGfILLELVxt\"]}'"
      ]
     },
     "execution_count": 2,
     "metadata": {},
     "output_type": "execute_result"
    }
   ],
   "source": [
    "TEST_INSTANCE"
   ]
  },
  {
   "cell_type": "markdown",
   "id": "5530ebba-6c29-45d0-a70a-efd7f1a945ae",
   "metadata": {},
   "source": [
    "### Create the prediction scripts - we will use this in our Custom Prediction Routine in 01-z notebook"
   ]
  },
  {
   "cell_type": "code",
   "execution_count": 3,
   "id": "c224483d-b8ab-4e80-8627-da1ae5bd0ba9",
   "metadata": {},
   "outputs": [
    {
     "name": "stderr",
     "output_type": "stream",
     "text": [
      "2022-10-25 19:42:25.613483: I tensorflow/core/util/util.cc:169] oneDNN custom operations are on. You may see slightly different numerical results due to floating-point round-off errors from different computation orders. To turn them off, set the environment variable `TF_ENABLE_ONEDNN_OPTS=0`.\n",
      "/usr/lib/python3/dist-packages/requests/__init__.py:89: RequestsDependencyWarning: urllib3 (1.26.12) or chardet (3.0.4) doesn't match a supported version!\n",
      "  warnings.warn(\"urllib3 ({}) or chardet ({}) doesn't match a supported \"\n",
      "2022-10-25 19:42:27.935316: I tensorflow/core/platform/cpu_feature_guard.cc:194] This TensorFlow binary is optimized with oneAPI Deep Neural Network Library (oneDNN) to use the following CPU instructions in performance-critical operations:  SSE3 SSE4.1 SSE4.2 AVX\n",
      "To enable them in other operations, rebuild TensorFlow with the appropriate compiler flags.\n",
      "2022-10-25 19:42:29.750534: I tensorflow/core/common_runtime/gpu/gpu_device.cc:1532] Created device /job:localhost/replica:0/task:0/device:GPU:0 with 20480 MB memory:  -> device: 0, name: NVIDIA A100-SXM4-40GB, pci bus id: 0000:00:04.0, compute capability: 8.0\n",
      "2022-10-25 19:42:29.760685: I tensorflow/stream_executor/cuda/cuda_driver.cc:739] failed to allocate 20.00G (21474836480 bytes) from device: CUDA_ERROR_OUT_OF_MEMORY: out of memory\n",
      "2022-10-25 19:42:29.764490: I tensorflow/stream_executor/cuda/cuda_driver.cc:739] failed to allocate 18.00G (19327352832 bytes) from device: CUDA_ERROR_OUT_OF_MEMORY: out of memory\n",
      "/usr/local/lib/python3.8/dist-packages/tqdm/auto.py:22: TqdmWarning: IProgress not found. Please update jupyter and ipywidgets. See https://ipywidgets.readthedocs.io/en/stable/user_install.html\n",
      "  from .autonotebook import tqdm as notebook_tqdm\n",
      "None of PyTorch, TensorFlow >= 2.0, or Flax have been found. Models won't be available and only tokenizers, configuration and file/data utilities can be used.\n"
     ]
    }
   ],
   "source": [
    "import nvtabular as nvt\n",
    "import dask.dataframe as dd\n",
    "import pandas as pd\n",
    "import os\n",
    "BUCKET = 'gs://spotify-beam-v3'\n",
    "import merlin.models.tf as mm\n",
    "from nvtabular.loader.tf_utils import configure_tensorflow\n",
    "import json\n",
    "configure_tensorflow()\n",
    "\n",
    "import tensorflow as tf\n",
    "\n",
    "def load(artifacts_uri):\n",
    "        \"\"\"Loads the model artifact.\n",
    "        Args:\n",
    "            artifacts_uri (str):\n",
    "                Required. The value of the environment variable AIP_STORAGE_URI.\n",
    "        \"\"\"\n",
    "        \n",
    "        model = tf.keras.models.load_model(os.path.join(artifacts_uri, \"query_model_merlin\" ))\n",
    "        workflow = nvt.Workflow.load(os.path.join(artifacts_uri, \"workflow/2t-spotify-workflow\"))\n",
    "        # workflow.remove_inputs(['track_pop_can', 'track_uri_can', \n",
    "        #                     'duration_ms_can', 'track_name_can', \n",
    "        #                     'artist_name_can','album_name_can',\n",
    "        #                     'album_uri_can','artist_followers_can',\n",
    "        #                     'artist_genres_can','artist_name_can',\n",
    "        #                     'artist_pop_can','artist_pop_pl','artist_uri_can',\n",
    "        #                     'artists_followers_pl',])\n",
    "        return(model, workflow)\n",
    "\n",
    "def preprocess(prediction_input, model, workflow):\n",
    "    \"\"\"Preprocesses the prediction input before doing the prediction.\n",
    "    Args:\n",
    "        prediction_input (Any):\n",
    "            Required. The prediction input that needs to be preprocessed.\n",
    "    Returns:\n",
    "        The preprocessed prediction input.\n",
    "    \"\"\"\n",
    "\n",
    "    TEST_INSTANCE = json.loads(prediction_input)\n",
    "    if type(TEST_INSTANCE) == list:\n",
    "        pandas_instance = pd.DataFrame.from_dict(TEST_INSTANCE[0], orient='index').T\n",
    "        if len(TEST_INSTANCE) > 1:\n",
    "            for ti in TEST_INSTANCE[0:]:\n",
    "                pandas_instance = pandas_instance.append(pd.DataFrame.from_dict(ti, orient='index').T)\n",
    "    else:\n",
    "        pandas_instance = pd.DataFrame.from_dict(TEST_INSTANCE, orient='index').T\n",
    "        transformed_inputs = nvt.Dataset(pandas_instance)\n",
    "        transformed_instance = workflow.transform(transformed_inputs)\n",
    "        return transformed_instance\n",
    "\n",
    "def predict(instances, model):\n",
    "    \"\"\"Performs prediction.\n",
    "    Args:\n",
    "        instances (Any):\n",
    "            Required. The instance(s) used for performing prediction.\n",
    "    Returns:\n",
    "        Prediction results.\n",
    "    \"\"\"  \n",
    "\n",
    "    loader = mm.Loader(instances, batch_size=instances.num_rows, shuffle=False)\n",
    "    batch =next(iter(loader))\n",
    "    return model(batch[0])"
   ]
  },
  {
   "cell_type": "code",
   "execution_count": 4,
   "id": "ede65bbb-c2b9-4d8e-bdc3-b854121d994b",
   "metadata": {
    "tags": []
   },
   "outputs": [
    {
     "name": "stderr",
     "output_type": "stream",
     "text": [
      "/usr/local/lib/python3.8/dist-packages/merlin/schema/tags.py:148: UserWarning: Compound tags like Tags.USER_ID have been deprecated and will be removed in a future version. Please use the atomic versions of these tags, like [<Tags.USER: 'user'>, <Tags.ID: 'id'>].\n",
      "  warnings.warn(\n"
     ]
    },
    {
     "name": "stdout",
     "output_type": "stream",
     "text": [
      "WARNING:tensorflow:No training configuration found in save file, so the model was *not* compiled. Compile it manually.\n"
     ]
    },
    {
     "data": {
      "text/plain": [
       "<merlin.io.dataset.Dataset at 0x7f10953ab3d0>"
      ]
     },
     "execution_count": 4,
     "metadata": {},
     "output_type": "execute_result"
    }
   ],
   "source": [
    "BUCKET = 'gs://spotify-beam-v3'\n",
    "ARTIFACT_URI = f'{BUCKET}/merlin-processed'\n",
    "\n",
    "model, workflow = load(ARTIFACT_URI)\n",
    "preprocess(TEST_INSTANCE, model, workflow)"
   ]
  },
  {
   "cell_type": "code",
   "execution_count": 5,
   "id": "35c6ceb0-3d2b-4a13-abe5-d5c015c8d34e",
   "metadata": {
    "tags": []
   },
   "outputs": [
    {
     "name": "stderr",
     "output_type": "stream",
     "text": [
      "/usr/local/lib/python3.8/dist-packages/merlin/schema/tags.py:148: UserWarning: Compound tags like Tags.ITEM_ID have been deprecated and will be removed in a future version. Please use the atomic versions of these tags, like [<Tags.ITEM: 'item'>, <Tags.ID: 'id'>].\n",
      "  warnings.warn(\n",
      "2022-10-25 19:42:58.745831: I tensorflow/stream_executor/cuda/cuda_blas.cc:1804] TensorFloat-32 will be used for the matrix multiplication. This will only be logged once.\n"
     ]
    },
    {
     "data": {
      "text/plain": [
       "<tf.Tensor: shape=(1, 128), dtype=float32, numpy=\n",
       "array([[0.15263352, 0.        , 0.        , 0.        , 0.02353548,\n",
       "        0.        , 0.        , 0.        , 0.00205901, 0.        ,\n",
       "        0.        , 0.        , 0.07392506, 0.        , 0.        ,\n",
       "        0.        , 0.        , 0.        , 0.00084471, 0.        ,\n",
       "        0.01920758, 0.        , 0.05852018, 0.07206493, 0.        ,\n",
       "        0.        , 0.        , 0.        , 0.0238607 , 0.01459057,\n",
       "        0.        , 0.        , 0.06495419, 0.03169129, 0.        ,\n",
       "        0.        , 0.02613383, 0.0674267 , 0.        , 0.01994274,\n",
       "        0.        , 0.        , 0.04045154, 0.        , 0.        ,\n",
       "        0.10970411, 0.        , 0.06672961, 0.03771982, 0.05934781,\n",
       "        0.09782815, 0.        , 0.        , 0.0313582 , 0.        ,\n",
       "        0.        , 0.        , 0.        , 0.        , 0.        ,\n",
       "        0.        , 0.        , 0.        , 0.        , 0.        ,\n",
       "        0.00516027, 0.00352811, 0.        , 0.06148433, 0.        ,\n",
       "        0.        , 0.03600778, 0.        , 0.08144249, 0.03147922,\n",
       "        0.        , 0.        , 0.08374368, 0.        , 0.08868401,\n",
       "        0.08882266, 0.        , 0.        , 0.10499696, 0.03427079,\n",
       "        0.        , 0.        , 0.        , 0.        , 0.0343753 ,\n",
       "        0.        , 0.        , 0.03212883, 0.00946845, 0.02523909,\n",
       "        0.        , 0.        , 0.03320019, 0.        , 0.        ,\n",
       "        0.01300019, 0.        , 0.06959443, 0.        , 0.        ,\n",
       "        0.        , 0.        , 0.        , 0.        , 0.03379766,\n",
       "        0.03120983, 0.        , 0.        , 0.        , 0.        ,\n",
       "        0.1203336 , 0.00864073, 0.01191763, 0.        , 0.        ,\n",
       "        0.        , 0.        , 0.06753224, 0.        , 0.        ,\n",
       "        0.01067838, 0.01193121, 0.        ]], dtype=float32)>"
      ]
     },
     "execution_count": 5,
     "metadata": {},
     "output_type": "execute_result"
    }
   ],
   "source": [
    "predict(preprocess(TEST_INSTANCE, model, workflow), model)"
   ]
  },
  {
   "cell_type": "code",
   "execution_count": null,
   "id": "49e87f40-d6ae-4d0f-a354-eb5367d12c86",
   "metadata": {},
   "outputs": [],
   "source": []
  }
 ],
 "metadata": {
  "environment": {
   "kernel": "python3",
   "name": "tf2-gpu.2-8.m98",
   "type": "gcloud",
   "uri": "gcr.io/deeplearning-platform-release/tf2-gpu.2-8:m98"
  },
  "kernelspec": {
   "display_name": "Python 3 (ipykernel)",
   "language": "python",
   "name": "python3"
  },
  "language_info": {
   "codemirror_mode": {
    "name": "ipython",
    "version": 3
   },
   "file_extension": ".py",
   "mimetype": "text/x-python",
   "name": "python",
   "nbconvert_exporter": "python",
   "pygments_lexer": "ipython3",
   "version": "3.8.10"
  }
 },
 "nbformat": 4,
 "nbformat_minor": 5
}
