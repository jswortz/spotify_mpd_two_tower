{
 "cells": [
  {
   "cell_type": "code",
   "execution_count": 8,
   "id": "690b1465-afc9-41ce-bbcf-07cd8a1b1a7e",
   "metadata": {},
   "outputs": [],
   "source": [
    "import tensorflow as tf\n",
    "\n",
    "sequence_features = {'pos': tf.io.RaggedFeature(tf.int64), \n",
    "                     'artist_name':  tf.io.RaggedFeature(tf.string), \n",
    "                     'track_uri':  tf.io.RaggedFeature(tf.string), \n",
    "                     'artist_uri': tf.io.RaggedFeature(tf.string), \n",
    "                     'track_name': tf.io.RaggedFeature(tf.string), \n",
    "                     'album_uri': tf.io.RaggedFeature(tf.string),\n",
    "                     'duration_ms': tf.io.RaggedFeature(tf.int64), \n",
    "                     'album_name': tf.io.RaggedFeature(tf.string)\n",
    "                    }\n",
    "context_features = {\"pl_name\" : tf.io.FixedLenFeature(dtype=tf.string, shape=(1)),\n",
    "                    \"collaborative\" : tf.io.FixedLenFeature(dtype=tf.string, shape=(1)),\n",
    "                    \"modified_at_playlist\" : tf.io.FixedLenFeature(dtype=tf.int64, shape=(1)),\n",
    "                    \"num_tracks\" : tf.io.FixedLenFeature(dtype=tf.int64, shape=(1)),\n",
    "                    \"num_albums\" : tf.io.FixedLenFeature(dtype=tf.int64, shape=(1)),\n",
    "                    \"num_followers\" :tf.io.FixedLenFeature(dtype=tf.int64, shape=(1)),\n",
    "                    \"num_edits\" :tf.io.FixedLenFeature(dtype=tf.int64, shape=(1)),\n",
    "                    \"duration_ms\" : tf.io.FixedLenFeature(dtype=tf.int64, shape=(1)),\n",
    "                    \"num_artists\" : tf.io.FixedLenFeature(dtype=tf.int64, shape=(1)),\n",
    "                    \"description\" : tf.io.FixedLenFeature(dtype=tf.string, shape=(1)),\n",
    "                    \"genres\" : tf.io.FixedLenFeature(dtype=tf.string, shape=(1)),\n",
    "                    \"time_signature\" : tf.io.FixedLenFeature(dtype=tf.float32, shape=(1)),\n",
    "                    \"uri\" : tf.io.FixedLenFeature(dtype=tf.string, shape=(1)),\n",
    "                    \"tempo\" : tf.io.FixedLenFeature(dtype=tf.float32, shape=(1)),\n",
    "                    \"valence\" : tf.io.FixedLenFeature(dtype=tf.float32, shape=(1)),\n",
    "                    \"liveness\" : tf.io.FixedLenFeature(dtype=tf.float32, shape=(1)),\n",
    "                    \"instrumentalness\" : tf.io.FixedLenFeature(dtype=tf.float32, shape=(1)),\n",
    "                    \"acousticness\" : tf.io.FixedLenFeature(dtype=tf.float32, shape=(1)),\n",
    "                    \"speechiness\" : tf.io.FixedLenFeature(dtype=tf.float32, shape=(1)),\n",
    "                    \"mode\" : tf.io.FixedLenFeature(dtype=tf.float32, shape=(1)),\n",
    "                    \"loudness\" : tf.io.FixedLenFeature(dtype=tf.float32, shape=(1)),\n",
    "                    \"key\" : tf.io.FixedLenFeature(dtype=tf.float32, shape=(1)),\n",
    "                    \"energy\" : tf.io.FixedLenFeature(dtype=tf.float32, shape=(1)),\n",
    "                    \"danceability\" : tf.io.FixedLenFeature(dtype=tf.float32, shape=(1)),\n",
    "                    \"speechiness\" : tf.io.FixedLenFeature(dtype=tf.float32, shape=(1)),\n",
    "                    \"artist_name\" : tf.io.FixedLenFeature(dtype=tf.string, shape=(1)),\n",
    "                    \"track_name\" : tf.io.FixedLenFeature(dtype=tf.string, shape=(1)),\n",
    "                    \"album_name\" : tf.io.FixedLenFeature(dtype=tf.string, shape=(1))    \n",
    "                   }\n",
    "\n",
    "def parse_tfrecord_fn(example):\n",
    "    example = tf.io.parse_single_sequence_example(example, sequence_features=sequence_features, context_features=context_features)\n",
    "    return example"
   ]
  },
  {
   "cell_type": "code",
   "execution_count": 10,
   "id": "cd8b6210-6165-4294-a173-2e8c8d949880",
   "metadata": {},
   "outputs": [
    {
     "name": "stdout",
     "output_type": "stream",
     "text": [
      "({'acousticness': <tf.Tensor: shape=(1,), dtype=float32, numpy=array([0.811], dtype=float32)>,\n",
      "  'album_name': <tf.Tensor: shape=(1,), dtype=string, numpy=array([b'Born To Die - The Paradise Edition'], dtype=object)>,\n",
      "  'artist_name': <tf.Tensor: shape=(1,), dtype=string, numpy=array([b'Lana Del Rey'], dtype=object)>,\n",
      "  'collaborative': <tf.Tensor: shape=(1,), dtype=string, numpy=array([b'false'], dtype=object)>,\n",
      "  'danceability': <tf.Tensor: shape=(1,), dtype=float32, numpy=array([0.236], dtype=float32)>,\n",
      "  'description': <tf.Tensor: shape=(1,), dtype=string, numpy=array([b'Born To Die - The Paradise Edition'], dtype=object)>,\n",
      "  'duration_ms': <tf.Tensor: shape=(1,), dtype=int64, numpy=array([281960])>,\n",
      "  'energy': <tf.Tensor: shape=(1,), dtype=float32, numpy=array([0.249], dtype=float32)>,\n",
      "  'genres': <tf.Tensor: shape=(1,), dtype=string, numpy=array([b'unknown'], dtype=object)>,\n",
      "  'instrumentalness': <tf.Tensor: shape=(1,), dtype=float32, numpy=array([1.e-06], dtype=float32)>,\n",
      "  'key': <tf.Tensor: shape=(1,), dtype=float32, numpy=array([6.], dtype=float32)>,\n",
      "  'liveness': <tf.Tensor: shape=(1,), dtype=float32, numpy=array([0.087], dtype=float32)>,\n",
      "  'loudness': <tf.Tensor: shape=(1,), dtype=float32, numpy=array([-9.595], dtype=float32)>,\n",
      "  'mode': <tf.Tensor: shape=(1,), dtype=float32, numpy=array([0.], dtype=float32)>,\n",
      "  'modified_at_playlist': <tf.Tensor: shape=(1,), dtype=int64, numpy=array([1416960000])>,\n",
      "  'num_albums': <tf.Tensor: shape=(1,), dtype=int64, numpy=array([59])>,\n",
      "  'num_artists': <tf.Tensor: shape=(1,), dtype=int64, numpy=array([39])>,\n",
      "  'num_edits': <tf.Tensor: shape=(1,), dtype=int64, numpy=array([16])>,\n",
      "  'num_followers': <tf.Tensor: shape=(1,), dtype=int64, numpy=array([1])>,\n",
      "  'num_tracks': <tf.Tensor: shape=(1,), dtype=int64, numpy=array([103])>,\n",
      "  'pl_name': <tf.Tensor: shape=(1,), dtype=string, numpy=array([b'November 2014'], dtype=object)>,\n",
      "  'speechiness': <tf.Tensor: shape=(1,), dtype=float32, numpy=array([0.0348], dtype=float32)>,\n",
      "  'tempo': <tf.Tensor: shape=(1,), dtype=float32, numpy=array([72.847], dtype=float32)>,\n",
      "  'time_signature': <tf.Tensor: shape=(1,), dtype=float32, numpy=array([5.], dtype=float32)>,\n",
      "  'track_name': <tf.Tensor: shape=(1,), dtype=string, numpy=array([b'Video Games'], dtype=object)>,\n",
      "  'uri': <tf.Tensor: shape=(1,), dtype=string, numpy=array([b'spotify:track:0fBSs3fRoh1yJcne77fdu9'], dtype=object)>,\n",
      "  'valence': <tf.Tensor: shape=(1,), dtype=float32, numpy=array([0.181], dtype=float32)>},\n",
      " {'album_name': <tf.RaggedTensor [[b'Queen Of The Clouds', b'Queen Of The Clouds', b'Feel', b'With Ears To See And Eyes To Hear', b'With Ears To See And Eyes To Hear', b\"Let's Cheers To This\", b\"Let's Cheers To This\", b'My Own Lane', b'A Lesson In Romantics', b'A Lesson In Romantics', b'A Lesson In Romantics', b'Mayday Parade (Deluxe Edition)', b'Mayday Parade (Deluxe Edition)', b'Mayday Parade (Deluxe Edition)', b'Monsters In The Closet', b'Monsters In The Closet', b'Monsters In The Closet', b'A Lesson In Romantics', b'Tales Told By Dead Friends', b'Tales Told By Dead Friends', b'Ultraviolence', b'Ultraviolence', b'Ultraviolence', b'Born To Die - The Paradise Edition', b'Born To Die - The Paradise Edition', b'Tales Told By Dead Friends', b'Siren Song Of The Counter-Culture', b'Is There Anybody Out There? - Track by Track Commentary', b'VS. Redux', b'We Sing. We Dance. We Steal Things.', b'We Sing. We Dance. We Steal Things.', b'YES!', b'Life Left To Go', b'These Times', b'Juturna', b'On Letting Go', b'Dance Gavin Dance', b'Emarosa', b'Beauty Behind The Madness', b'Trilogy', b'Trilogy', b'Trilogy', b'Kiss Land', b'Kiss Land', b'Trilogy', b'Trilogy', b'Trilogy', b'Trilogy', b'PARTYNEXTDOOR TWO', b'Oak Island', b'Oak Island', b'We Will All Evolve', b'We Will All Evolve', b'Heart Flip', b'Clouded', b'Clouded', b'Rain In July', b'Clouded', b'Clouded', b'Holly', b'Unimagine', b'Ground Dweller', b'Unimagine', b'Unimagine', b'Unimagine', b'The Hearts of Lonely People', b'The Hearts of Lonely People', b'Matty Mullins', b'Matty Mullins', b'Matty Mullins', b'Matty Mullins', b'Matty Mullins', b'Find What You Love and Let It Kill You', b'Find What You Love and Let It Kill You', b'Clouded', b'Clouded', b'Clouded', b'Puppy Love', b'Ultraviolence', b'Born To Die - The Paradise Edition', b'Vessel', b'Twenty One Pilots', b'Vessel', b'Vessel', b'These Things Happen', b'lowborn', b'High', b'Hotel Cabana', b'Sirens', b'This Is... Icona Pop', b'Love In The Future', b'The Long Road', b'Lucy', b'Red // Blue', b'Red // Blue', b'Rise & Fall (feat. Krewella)', b'Reflections Remixes', b'In Return', b'X (Deluxe Version)', b'Big Ones', b'Once Upon a Dream', b'Once Upon a Dream (from \"Maleficent\")', b'Break The Cycle']]>,\n",
      "  'album_uri': <tf.RaggedTensor [[b'spotify:album:47C7w4o1resDhr7jvYEpxE', b'spotify:album:5Z5O36p7BivXzkucc0PAfw', b'spotify:album:7r9KxOTTsh4tjOaMLfRyUk', b'spotify:album:0AMC1Y0J0a5yN7lkOSWrJr', b'spotify:album:0AMC1Y0J0a5yN7lkOSWrJr', b'spotify:album:4TuNgoALZ10zEOHgfkxs8T', b'spotify:album:4TuNgoALZ10zEOHgfkxs8T', b'spotify:album:4gx8XdiMsraOXGli7x5MS6', b'spotify:album:0UtenXp3qVbWedKEaNRAp9', b'spotify:album:0UtenXp3qVbWedKEaNRAp9', b'spotify:album:0UtenXp3qVbWedKEaNRAp9', b'spotify:album:5ioUIvpedCZXXXPE1zvsoV', b'spotify:album:5ioUIvpedCZXXXPE1zvsoV', b'spotify:album:5ioUIvpedCZXXXPE1zvsoV', b'spotify:album:0z4nD6xjZlQEq4BDF8GRFu', b'spotify:album:0z4nD6xjZlQEq4BDF8GRFu', b'spotify:album:0z4nD6xjZlQEq4BDF8GRFu', b'spotify:album:0UtenXp3qVbWedKEaNRAp9', b'spotify:album:2f0BEvtJfkhYIp3k1bDUo4', b'spotify:album:2f0BEvtJfkhYIp3k1bDUo4', b'spotify:album:1ORxRsK3MrSLvh7VQTF01F', b'spotify:album:1ORxRsK3MrSLvh7VQTF01F', b'spotify:album:1ORxRsK3MrSLvh7VQTF01F', b'spotify:album:5VoeRuTrGhTbKelUfwymwu', b'spotify:album:5VoeRuTrGhTbKelUfwymwu', b'spotify:album:2f0BEvtJfkhYIp3k1bDUo4', b'spotify:album:1vHYkIhnwbpzrC3hGguDN6', b'spotify:album:3kwbwO3wtwyNo7zCFzWkcW', b'spotify:album:0sf58fd9cOtyZEQgnE531s', b'spotify:album:1UwzOp5hn3lAbOqsAfXBw8', b'spotify:album:1UwzOp5hn3lAbOqsAfXBw8', b'spotify:album:2bqksLEQxw80lhxXp6Xtcz', b'spotify:album:3FEsTTc84Bgqjl5gsV7Fxt', b'spotify:album:0upZqIWVaxLpkCKppSYuOw', b'spotify:album:0huXZPw7bhK5vTv7CMYOmP', b'spotify:album:4Chn7XF8fzngf9GPfTMXLz', b'spotify:album:12mJ1euri9hLMgGTT6RdQL', b'spotify:album:1OlewCHNhDBcQBqzXhNws5', b'spotify:album:28ZKQMoNBB0etKXZ97G2SN', b'spotify:album:5EbpxRwbbpCJUepbqVTZ1U', b'spotify:album:5EbpxRwbbpCJUepbqVTZ1U', b'spotify:album:5EbpxRwbbpCJUepbqVTZ1U', b'spotify:album:3hhDpPtCFuQbppwYgsVhMO', b'spotify:album:3hhDpPtCFuQbppwYgsVhMO', b'spotify:album:5EbpxRwbbpCJUepbqVTZ1U', b'spotify:album:5EbpxRwbbpCJUepbqVTZ1U', b'spotify:album:5EbpxRwbbpCJUepbqVTZ1U', b'spotify:album:5EbpxRwbbpCJUepbqVTZ1U', b'spotify:album:6s2isojT7rGZUgJyymjjKU', b'spotify:album:3ehLGNSwGiGMz5AZAbfL4M', b'spotify:album:3ehLGNSwGiGMz5AZAbfL4M', b'spotify:album:0Pyss3R7EdVHINOBoJaiGH', b'spotify:album:0Pyss3R7EdVHINOBoJaiGH', b'spotify:album:0B7MrduhjgCx3l8bAKgWFY', b'spotify:album:2jsRZyf5SBAxia698jrAR6', b'spotify:album:2jsRZyf5SBAxia698jrAR6', b'spotify:album:4XrUXSDGsVloKs1OyasizF', b'spotify:album:2jsRZyf5SBAxia698jrAR6', b'spotify:album:2jsRZyf5SBAxia698jrAR6', b'spotify:album:25fIzw6ywy5feNdYNkdrh6', b'spotify:album:3JMwITCPEvMFFkNYtcIAzG', b'spotify:album:0Jx0uUf0KWCYIMiKkXvHJB', b'spotify:album:3JMwITCPEvMFFkNYtcIAzG', b'spotify:album:3JMwITCPEvMFFkNYtcIAzG', b'spotify:album:3JMwITCPEvMFFkNYtcIAzG', b'spotify:album:0NMxCRPdsRGiwxHc8Ly0vR', b'spotify:album:0NMxCRPdsRGiwxHc8Ly0vR', b'spotify:album:44ZRraY7vbaJwtINWSLhp6', b'spotify:album:44ZRraY7vbaJwtINWSLhp6', b'spotify:album:44ZRraY7vbaJwtINWSLhp6', b'spotify:album:44ZRraY7vbaJwtINWSLhp6', b'spotify:album:44ZRraY7vbaJwtINWSLhp6', b'spotify:album:0BDBshaZB6t3oEO9uqozwu', b'spotify:album:0BDBshaZB6t3oEO9uqozwu', b'spotify:album:2jsRZyf5SBAxia698jrAR6', b'spotify:album:2jsRZyf5SBAxia698jrAR6', b'spotify:album:2jsRZyf5SBAxia698jrAR6', b'spotify:album:3Gd5dh9sGluGrYOi7r8Eyy', b'spotify:album:1ORxRsK3MrSLvh7VQTF01F', b'spotify:album:5VoeRuTrGhTbKelUfwymwu', b'spotify:album:2r2r78NE05YjyHyVbVgqFn', b'spotify:album:1Fexc96V24RL17Ko9VXUOM', b'spotify:album:2r2r78NE05YjyHyVbVgqFn', b'spotify:album:2r2r78NE05YjyHyVbVgqFn', b'spotify:album:6wDc63NhKy2PyXdbhkRmrl', b'spotify:album:364D5IdckL1e7NJ3wqeNfk', b'spotify:album:743OdX8tEleANbq4TrHjgI', b'spotify:album:6ubgnzYckmWTNuCpc5Di5i', b'spotify:album:7MQaCAAj19jwc9WKNZTcJG', b'spotify:album:0BMMKboeB89ifvQ9GUUxNJ', b'spotify:album:1rPBcCACCx9lxTib5s2Mqc', b'spotify:album:4fygErqiNgFUic5hU42Z3E', b'spotify:album:6UtNEeCzwbvAdnNS9gPBMC', b'spotify:album:45hTiiH7JpJx1P5TN6iDDG', b'spotify:album:45hTiiH7JpJx1P5TN6iDDG', b'spotify:album:5xkfX4DNx7hZYrGy8H1YUJ', b'spotify:album:2uqRlZ7NncNqwYNBIlc87V', b'spotify:album:7eq7Um3f3NMlHuNQSpicsz', b'spotify:album:4yOWnTrCkOOpl4IiVnpj3H', b'spotify:album:2uT123xlHuqvz14JR0KQSs', b'spotify:album:0BeZnMAHzbklVlde4eRpMm', b'spotify:album:40QkxxGePg8cpnau3rz9XM', b'spotify:album:0HogGfosAvj4tF3GTv2KIE']]>,\n",
      "  'artist_name': <tf.RaggedTensor [[b'Tove Lo', b'Tove Lo', b'Sleeping With Sirens', b'Sleeping With Sirens', b'Sleeping With Sirens', b'Sleeping With Sirens', b'Sleeping With Sirens', b'Kid Ink', b'Mayday Parade', b'Mayday Parade', b'Mayday Parade', b'Mayday Parade', b'Mayday Parade', b'Mayday Parade', b'Mayday Parade', b'Mayday Parade', b'Mayday Parade', b'Mayday Parade', b'Mayday Parade', b'Mayday Parade', b'Lana Del Rey', b'Lana Del Rey', b'Lana Del Rey', b'Lana Del Rey', b'Lana Del Rey', b'Mayday Parade', b'Rise Against', b'A Great Big World', b'Macklemore & Ryan Lewis', b'Jason Mraz', b'Jason Mraz', b'Jason Mraz', b'SafetySuit', b'SafetySuit', b'Circa Survive', b'Circa Survive', b'Dance Gavin Dance', b'Emarosa', b'The Weeknd', b'The Weeknd', b'The Weeknd', b'The Weeknd', b'The Weeknd', b'The Weeknd', b'The Weeknd', b'The Weeknd', b'The Weeknd', b'The Weeknd', b'PARTYNEXTDOOR', b'Our Last Night', b'Our Last Night', b'Our Last Night', b'Our Last Night', b'This Wild Life', b'This Wild Life', b'This Wild Life', b'Neck Deep', b'This Wild Life', b'This Wild Life', b'Justin Nozuka', b'Hands Like Houses', b'Hands Like Houses', b'Hands Like Houses', b'Hands Like Houses', b'Hands Like Houses', b'Isles & Glaciers', b'Isles & Glaciers', b'Matty Mullins', b'Matty Mullins', b'Matty Mullins', b'Matty Mullins', b'Matty Mullins', b'Jonny Craig', b'Jonny Craig', b'This Wild Life', b'This Wild Life', b'This Wild Life', b'This Wild Life', b'Lana Del Rey', b'Lana Del Rey', b'Twenty One Pilots', b'Twenty One Pilots', b'Twenty One Pilots', b'Twenty One Pilots', b'G-Eazy', b'Anberlin', b'Peking Duk', b'Naughty Boy', b'Gorgon City', b'Icona Pop', b'John Legend', b'Nickelback', b'Seven Lions', b'Adventure Club', b'Adventure Club', b'Adventure Club', b'MisterWives', b'ODESZA', b'Chris Brown', b'Aerosmith', b'Lana Del Rey', b'Lana Del Rey', b'Staind']]>,\n",
      "  'artist_uri': <tf.RaggedTensor [[b'spotify:artist:4NHQUGzhtTLFvgF5SZesLK', b'spotify:artist:4NHQUGzhtTLFvgF5SZesLK', b'spotify:artist:3N8Hy6xQnQv1F1XCiyGQqA', b'spotify:artist:3N8Hy6xQnQv1F1XCiyGQqA', b'spotify:artist:3N8Hy6xQnQv1F1XCiyGQqA', b'spotify:artist:3N8Hy6xQnQv1F1XCiyGQqA', b'spotify:artist:3N8Hy6xQnQv1F1XCiyGQqA', b'spotify:artist:6KZDXtSj0SzGOV705nNeh3', b'spotify:artist:3WfJ1OtrWI7RViX9DMyEGy', b'spotify:artist:3WfJ1OtrWI7RViX9DMyEGy', b'spotify:artist:3WfJ1OtrWI7RViX9DMyEGy', b'spotify:artist:3WfJ1OtrWI7RViX9DMyEGy', b'spotify:artist:3WfJ1OtrWI7RViX9DMyEGy', b'spotify:artist:3WfJ1OtrWI7RViX9DMyEGy', b'spotify:artist:3WfJ1OtrWI7RViX9DMyEGy', b'spotify:artist:3WfJ1OtrWI7RViX9DMyEGy', b'spotify:artist:3WfJ1OtrWI7RViX9DMyEGy', b'spotify:artist:3WfJ1OtrWI7RViX9DMyEGy', b'spotify:artist:3WfJ1OtrWI7RViX9DMyEGy', b'spotify:artist:3WfJ1OtrWI7RViX9DMyEGy', b'spotify:artist:00FQb4jTyendYWaN8pK0wa', b'spotify:artist:00FQb4jTyendYWaN8pK0wa', b'spotify:artist:00FQb4jTyendYWaN8pK0wa', b'spotify:artist:00FQb4jTyendYWaN8pK0wa', b'spotify:artist:00FQb4jTyendYWaN8pK0wa', b'spotify:artist:3WfJ1OtrWI7RViX9DMyEGy', b'spotify:artist:6Wr3hh341P84m3EI8qdn9O', b'spotify:artist:5xKp3UyavIBUsGy3DQdXeF', b'spotify:artist:5BcAKTbp20cv7tC5VqPFoC', b'spotify:artist:4phGZZrJZRo4ElhRtViYdl', b'spotify:artist:4phGZZrJZRo4ElhRtViYdl', b'spotify:artist:4phGZZrJZRo4ElhRtViYdl', b'spotify:artist:3V8Gdws52TzoL8WLZHvpzc', b'spotify:artist:3V8Gdws52TzoL8WLZHvpzc', b'spotify:artist:11FY888Qctoy6YueCpFkXT', b'spotify:artist:11FY888Qctoy6YueCpFkXT', b'spotify:artist:6guC9FqvlVboSKTI77NG2k', b'spotify:artist:68tKVjVvcqUfKFFLr2j0Ek', b'spotify:artist:1Xyo4u8uXC1ZmMpatF05PJ', b'spotify:artist:1Xyo4u8uXC1ZmMpatF05PJ', b'spotify:artist:1Xyo4u8uXC1ZmMpatF05PJ', b'spotify:artist:1Xyo4u8uXC1ZmMpatF05PJ', b'spotify:artist:1Xyo4u8uXC1ZmMpatF05PJ', b'spotify:artist:1Xyo4u8uXC1ZmMpatF05PJ', b'spotify:artist:1Xyo4u8uXC1ZmMpatF05PJ', b'spotify:artist:1Xyo4u8uXC1ZmMpatF05PJ', b'spotify:artist:1Xyo4u8uXC1ZmMpatF05PJ', b'spotify:artist:1Xyo4u8uXC1ZmMpatF05PJ', b'spotify:artist:2HPaUgqeutzr3jx5a9WyDV', b'spotify:artist:00YTqRClk82aMchQQpYMd5', b'spotify:artist:00YTqRClk82aMchQQpYMd5', b'spotify:artist:00YTqRClk82aMchQQpYMd5', b'spotify:artist:00YTqRClk82aMchQQpYMd5', b'spotify:artist:3eoazmwspxeKFenMP1PQva', b'spotify:artist:3eoazmwspxeKFenMP1PQva', b'spotify:artist:3eoazmwspxeKFenMP1PQva', b'spotify:artist:2TM0qnbJH4QPhGMCdPt7fH', b'spotify:artist:3eoazmwspxeKFenMP1PQva', b'spotify:artist:3eoazmwspxeKFenMP1PQva', b'spotify:artist:1uquUYtkdKei0zuhBY9P0t', b'spotify:artist:0u3d5PM2FuEuG5QuUdt8mT', b'spotify:artist:0u3d5PM2FuEuG5QuUdt8mT', b'spotify:artist:0u3d5PM2FuEuG5QuUdt8mT', b'spotify:artist:0u3d5PM2FuEuG5QuUdt8mT', b'spotify:artist:0u3d5PM2FuEuG5QuUdt8mT', b'spotify:artist:6dHr8Y0nPrnHiBOuJzuu8F', b'spotify:artist:6dHr8Y0nPrnHiBOuJzuu8F', b'spotify:artist:2X6VbP5vxuup0exzZ8vhot', b'spotify:artist:2X6VbP5vxuup0exzZ8vhot', b'spotify:artist:2X6VbP5vxuup0exzZ8vhot', b'spotify:artist:2X6VbP5vxuup0exzZ8vhot', b'spotify:artist:2X6VbP5vxuup0exzZ8vhot', b'spotify:artist:46MmlFKM8ivDsUnGOejvSM', b'spotify:artist:46MmlFKM8ivDsUnGOejvSM', b'spotify:artist:3eoazmwspxeKFenMP1PQva', b'spotify:artist:3eoazmwspxeKFenMP1PQva', b'spotify:artist:3eoazmwspxeKFenMP1PQva', b'spotify:artist:3eoazmwspxeKFenMP1PQva', b'spotify:artist:00FQb4jTyendYWaN8pK0wa', b'spotify:artist:00FQb4jTyendYWaN8pK0wa', b'spotify:artist:3YQKmKGau1PzlVlkL1iodx', b'spotify:artist:3YQKmKGau1PzlVlkL1iodx', b'spotify:artist:3YQKmKGau1PzlVlkL1iodx', b'spotify:artist:3YQKmKGau1PzlVlkL1iodx', b'spotify:artist:02kJSzxNuaWGqwubyUba0Z', b'spotify:artist:5v61OSg53KaQxGMpErkBNp', b'spotify:artist:0UZ1nu3kcdNlCoiKRjmSSY', b'spotify:artist:1bT7m67vi78r2oqvxrP3X5', b'spotify:artist:4VNQWV2y1E97Eqo2D5UTjx', b'spotify:artist:1VBflYyxBhnDc9uVib98rw', b'spotify:artist:5y2Xq6xcjJb2jVM54GHK3t', b'spotify:artist:6deZN1bslXzeGvOLaLMOIF', b'spotify:artist:6fcTRFpz0yH79qSKfof7lp', b'spotify:artist:5CdJjUi9f0cVgo9nFuJrFa', b'spotify:artist:5CdJjUi9f0cVgo9nFuJrFa', b'spotify:artist:5CdJjUi9f0cVgo9nFuJrFa', b'spotify:artist:5ivCbtrcD5N4rD337xIb2z', b'spotify:artist:21mKp7DqtSNHhCAU2ugvUw', b'spotify:artist:7bXgB6jMjp9ATFy66eO08Z', b'spotify:artist:7Ey4PD4MYsKc5I2dolUwbH', b'spotify:artist:00FQb4jTyendYWaN8pK0wa', b'spotify:artist:00FQb4jTyendYWaN8pK0wa', b'spotify:artist:5KDIH2gF0VpelTqyQS7udb']]>,\n",
      "  'duration_ms': <tf.RaggedTensor [[228960, 238426, 227600, 219106, 222493, 250240, 279293, 276906, 244973, 316986, 276173, 214586, 207906, 212160, 298360, 204440, 195866, 209453, 210173, 237560, 251480, 342093, 234146, 281960, 243187, 279466, 200066, 229400, 346164, 242186, 191360, 256973, 225240, 191346, 215640, 257693, 218453, 228986, 249040, 312426, 323746, 247226, 306773, 267920, 459386, 405213, 486773, 312053, 311197, 229250, 220816, 229226, 209813, 227214, 218222, 232193, 189413, 216183, 243075, 240440, 244426, 259306, 219440, 217133, 221013, 420213, 285600, 264625, 207885, 218613, 278400, 255940, 241000, 241000, 232769, 288639, 232624, 160497, 270640, 299933, 273335, 182000, 267720, 263733, 240680, 282373, 228000, 222200, 198880, 187026, 251613, 207466, 252440, 207743, 207743, 361875, 225000, 262956, 260733, 330533, 224693, 203080, 264706]]>,\n",
      "  'pos': <tf.RaggedTensor [[0, 1, 2, 3, 4, 5, 6, 7, 8, 9, 10, 11, 12, 13, 14, 15, 16, 17, 18, 19, 20, 21, 22, 23, 24, 25, 26, 27, 28, 29, 30, 31, 32, 33, 34, 35, 36, 37, 38, 39, 40, 41, 42, 43, 44, 45, 46, 47, 48, 49, 50, 51, 52, 53, 54, 55, 56, 57, 58, 59, 60, 61, 62, 63, 64, 65, 66, 67, 68, 69, 70, 71, 72, 73, 74, 75, 76, 77, 78, 79, 80, 81, 82, 83, 84, 85, 86, 87, 88, 89, 90, 91, 92, 93, 94, 95, 96, 97, 98, 99, 100, 101, 102]]>,\n",
      "  'track_name': <tf.RaggedTensor [[b'Got Love', b'Talking Body', b'Alone (feat. MGK)', b\"If I'm James Dean, You're Audrey Hepburn\", b'Let Love Bleed Red', b\"If You Can't Hang\", b'All My Heart', b'No Miracles', b'If You Wanted A Song Written About You, All You Had To Do Was Ask', b'Miserable At Best', b\"You Be The Anchor That Keeps My Feet On The Ground, I'll Be The Wings That Keep Your Heart In The Clouds\", b'Stay', b\"Everything's An Illusion\", b\"Without The Bitter The Sweet Isn't As Sweet\", b'12 Through 15', b'Even Robots Need Blankets', b'Hold Onto Me', b'Jersey', b\"When I Get Home, You're So Dead\", b'Your Song', b'Ultraviolence', b'Shades Of Cool', b'Pretty When You Cry', b'Video Games', b'Dark Paradise', b'One Man Drinking Games', b'Swing Life Away', b'Say Something', b'Otherside (feat. Fences) [Ryan Lewis Remix]', b\"I'm Yours\", b'Lucky', b'Love Someone', b'Something I Said', b'Stranger', b'In Fear and Faith', b'The Difference Between Medicine And Poison Is In The Dose', b'Uneasy Hearts Weigh The Most', b'A Toast to the future kids!', b'Often', b'The Morning', b'Wicked Games', b'High For This', b'Wanderlust', b'Love In The Sky', b'The Party & The After Party', b'House Of Balloons / Glass Table Girls', b'Gone', b'Same Old Song', b'Recognize (feat. Drake)', b'Sunrise', b'Reality Without You', b'The Devil Inside You', b'Elephants', b'Ripped Away (feat. Nilu Madadi)', b'Roots and Branches (Meant To Be Alone)', b'History', b'A Part of Me (ft. Laura Whiteside)', b'No More Bad Days', b'Concrete', b'After Tonight', b'Introduced Species', b'Lion Skin - feat. Jonny Craig and Tyler Carter', b'Developments', b'No Parallels', b'Oceandust', b'Cemetery Weather', b'Viola Lion', b'My Dear', b'See You In Everything', b'By My Side', b'Glory', b'Speak To Me', b'I Still Feel Her, Pt. 5', b'I Still Feel Her, Pt. 5', b'Bound to Break', b'Better With You', b\"Don't Say\", b'Puppy Love', b'Guns And Roses', b'Off To The Races', b'Guns For Hands', b'Fall Away', b'Car Radio', b'Holding On To You', b\"Let's Get Lost\", b'Stranger Ways', b'High - Original Mix', b'La La La', b'Ready For Your Love', b'All Night', b\"All of Me (Ti\\xc3\\xabsto's Birthday Treatment Remix) - Radio Edit\", b'Someday', b'Lucy', b'Fade (feat. Zak Waters)', b'Fade (feat. Zak Waters)', b'Rise & Fall (feat. Krewella)', b'Reflections - Milkman Remix', b'Say My Name', b'X', b\"Janie's Got A Gun\", b'Once Upon a Dream - From \\xe2\\x80\\x9cMaleficent\\xe2\\x80\\x9d/Young Ruffian Remix', b'Once Upon a Dream - From \"Maleficent\" / Pop Version', b\"It's Been Awhile - Explicit LP Version\"]]>,\n",
      "  'track_uri': <tf.RaggedTensor [[b'spotify:track:1FFBktslggsYJ3NUvcwVJ6', b'spotify:track:7cgu4JBW3hq1GwTM1ilkKQ', b'spotify:track:2KxgTDM5DTz1uO4rOhlkzR', b'spotify:track:1wFRkVclQWfMQQcaVLjmBE', b'spotify:track:3WEeRNUP6pjzoWmpYuNTpI', b'spotify:track:3ouugfdFz6exFXUxu7wRvD', b'spotify:track:3UNpuMVr2aSWu3Fzj2846p', b'spotify:track:7rhO2w41GB4GiyEgKQr6fB', b'spotify:track:1wVriKkwEG9veA5lhphOZE', b'spotify:track:1ONoPkp5XIuw3tZ1GzrNKZ', b'spotify:track:5B7xzzpqgWY6sdiebvEVJA', b'spotify:track:5qFmtU2b7EvbhFG8NZOffH', b'spotify:track:440xG6NJUNhha53kmvOL1U', b'spotify:track:1bOoGwUyHrkG1DqQm5GPMa', b'spotify:track:5AUs5AhzesAk96EmYO8oNQ', b'spotify:track:1NivdSEUqwvnC6MzO8VZiG', b'spotify:track:66PmO1K6RXjj6ouXzMeodH', b'spotify:track:6gxupt6imt0qIdbE8e356n', b'spotify:track:3VkpryHEb1TVzwVSdsQa4W', b'spotify:track:700sr83AbsfGPQ6pCHxxqR', b'spotify:track:1y3r6RXiJZNBV1EI0NggpS', b'spotify:track:4VSg5K1hnbmIg4PwRdY6wV', b'spotify:track:6PnluwP0fjGnpIBsqTdUTq', b'spotify:track:0fBSs3fRoh1yJcne77fdu9', b'spotify:track:6qqdFWe7C4LsBjWbXQdsHA', b'spotify:track:2T3jhGPjiNI5DPJMnb7NKN', b'spotify:track:6GrrkiCRO3HYdgRpO4eKEL', b'spotify:track:5TvE3pk05pyFIGdSY9j4DJ', b'spotify:track:3JIqogHHQIQW1uJ5Yivb88', b'spotify:track:3S0OXQeoh0w6AY8WQVckRW', b'spotify:track:2qLMf6TuEC3ruGJg4SMMN6', b'spotify:track:4Bo6FwC7Oe9zywSZc6q7hO', b'spotify:track:5NDAQeLBQf8FBzQ3fGLBOO', b'spotify:track:0NgqQ0rapvGzqM0T5GUEQj', b'spotify:track:5ZE4NzQgNCeCWtcOMWMVc5', b'spotify:track:3SizB9Beb0HZHww3PjoXbQ', b'spotify:track:5oC0AAgJ7RoWOT3HznLMe1', b'spotify:track:7jDZIM59S1utHXZcmYSEYx', b'spotify:track:5SqSckut3FcoQKmGkMWgp1', b'spotify:track:6u0dQik0aif7FQlrhycG1L', b'spotify:track:6VwBbL8CzPiC4QV66ay7oR', b'spotify:track:5fohLPNqO6TqwrZ7BoUWUT', b'spotify:track:6V9TlCdwLeQes4FX5zxz3f', b'spotify:track:3WKYPmiPpJas9j5Aari5iK', b'spotify:track:0dcf0L6F1LUA1nE2zWH4J2', b'spotify:track:50iiDJGpAPdr2VTrz999XA', b'spotify:track:3vFj4xuQTXHOuo6L0qGafv', b'spotify:track:3Dt75NjLThmoBTp5wQC7g7', b'spotify:track:5wUUWVRvrciJqFitZF8R0P', b'spotify:track:3le4ECmJTUNXYLsGjQYSXi', b'spotify:track:4eNMtxicsJHrc28ydkX2rW', b'spotify:track:7j5KwpD6F6XDZGMbACz1m3', b'spotify:track:2xSAPCG8gfXo3bpG8i1LPi', b'spotify:track:0fJZmiYSn8CaPwqktEkipX', b'spotify:track:54C1hl7WmNWV8rB1RYzHz7', b'spotify:track:52AtInlpQrAQ3KsMoGlxsv', b'spotify:track:6DTC7IOW4QWVIjIa0UHEhP', b'spotify:track:6P5aQRuHdeQqqfFOU74JsB', b'spotify:track:0RFg5I6j5KNzeokK6yWBlC', b'spotify:track:5sbs0qh9EIOsAVa3DmFFd4', b'spotify:track:3p8C2MNIdbRfewXzGwdMOw', b'spotify:track:5BstAjdNVezGQ5b66FYF9D', b'spotify:track:596uoOiPqMKJTHyasCFZPW', b'spotify:track:1L5xqXPNTA7s1nkzgJX0xU', b'spotify:track:2VqhtcC3YZWtZcgxjDxwdw', b'spotify:track:18O3a7KOYuFMqD5ASFQCTa', b'spotify:track:7AT8Sv5d4KMk7WLqd53ME6', b'spotify:track:1MDcQnYRod8hp8uDBIhwcX', b'spotify:track:5gBfgsVFMvAcanswUzrywB', b'spotify:track:4rM6Itqt28pbAanMSaucPr', b'spotify:track:40C2bHD8eKiUOZdNVA8r23', b'spotify:track:5EwvoXGGwENbNT2SMeAfnj', b'spotify:track:3JENPJJGLoAqe6q0BXFtWD', b'spotify:track:3JENPJJGLoAqe6q0BXFtWD', b'spotify:track:1N4SV6gla9vv3MfWOOkTJE', b'spotify:track:6ldAuXp2GTrTW2JKojTOhW', b'spotify:track:6cjz9RbAbkJZGDYOhhL98H', b'spotify:track:54hQppUC4QP1SNPJTohpRx', b'spotify:track:0vfPEfQk0ZCHExTZ007Ryr', b'spotify:track:3uUCgL0cbSd0isnqhHCm1f', b'spotify:track:4RdRa3qq0GBSKjomxrkh5K', b'spotify:track:77vDHmiANW3JS2gNN5q7pI', b'spotify:track:5cbpoIu3YjoOwbBDGUEp3P', b'spotify:track:3C3cr2JQwXIhqAHqOardVO', b'spotify:track:5DSr1NMci58MEgS20vivSL', b'spotify:track:6gcuPrdA3JSQe5teOHesOX', b'spotify:track:48ByhmhBjgyWIRzdHDuQMD', b'spotify:track:3wPPWcVuinAU7dXcJXtCID', b'spotify:track:5wGLQvq6JoxYZX7V3ymPS5', b'spotify:track:00fNdIFKoMxxt8Hnm2kAKL', b'spotify:track:5Us7iwmlvNH2IvulEet69z', b'spotify:track:4PkJ7c9y1CwpuVOiJODnCZ', b'spotify:track:672Afy9nlWUKOfrYVbZuW7', b'spotify:track:1isSMDfLOEX8srnP6cDans', b'spotify:track:1isSMDfLOEX8srnP6cDans', b'spotify:track:5yQmKyKEdjtxFDPIK9mFLn', b'spotify:track:4snpob3sQRnwYkLxxwkYYF', b'spotify:track:4auZhbHhgbiSMeh0kiHCRk', b'spotify:track:40iqc94M52SdqnifRSqRWh', b'spotify:track:5fMwvrqujbQjUxcNPcYrUF', b'spotify:track:0YNJrxyZXfHstBF1Hshk6l', b'spotify:track:6swBtLlqbXVbtVFeHZnI5X', b'spotify:track:1BExV8JprNJLvLeDE9qdEW']]>})\n"
     ]
    }
   ],
   "source": [
    "from pprint import pprint\n",
    "raw_dataset = tf.data.TFRecordDataset(\"gs://spotify-tfrecords/2022-04-25:13:30:01.339691/file_15000-0.tfrec\")\n",
    "\n",
    "tf_record_pipeline = raw_dataset.map(parse_tfrecord_fn)\n",
    "\n",
    "for _ in tf_record_pipeline.take(1):\n",
    "    pprint(_)"
   ]
  },
  {
   "cell_type": "code",
   "execution_count": null,
   "id": "1b5494bc-eabf-4f83-a5d1-f1bd16f40582",
   "metadata": {},
   "outputs": [],
   "source": []
  }
 ],
 "metadata": {
  "environment": {
   "kernel": "python3",
   "name": "tf2-gpu.2-8.m91",
   "type": "gcloud",
   "uri": "gcr.io/deeplearning-platform-release/tf2-gpu.2-8:m91"
  },
  "kernelspec": {
   "display_name": "Python 3",
   "language": "python",
   "name": "python3"
  },
  "language_info": {
   "codemirror_mode": {
    "name": "ipython",
    "version": 3
   },
   "file_extension": ".py",
   "mimetype": "text/x-python",
   "name": "python",
   "nbconvert_exporter": "python",
   "pygments_lexer": "ipython3",
   "version": "3.7.12"
  }
 },
 "nbformat": 4,
 "nbformat_minor": 5
}
