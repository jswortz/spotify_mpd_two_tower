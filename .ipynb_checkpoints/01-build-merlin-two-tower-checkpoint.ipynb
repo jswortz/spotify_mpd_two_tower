{
 "cells": [
  {
   "cell_type": "code",
   "execution_count": null,
   "id": "uxyPOZzxBCUq",
   "metadata": {
    "id": "uxyPOZzxBCUq"
   },
   "outputs": [],
   "source": [
    "# !pip install git+https://github.com/NVIDIA-Merlin/models.git"
   ]
  },
  {
   "cell_type": "markdown",
   "id": "VUh3VmQFBCUr",
   "metadata": {
    "id": "VUh3VmQFBCUr",
    "jp-MarkdownHeadingCollapsed": true,
    "tags": [],
    "toc-hr-collapsed": true
   },
   "source": [
    "# Environment Setup\n",
    "\n",
    "Push a Nvidia repo to your artifact repository - (create a new repo if not available)\n",
    "\n",
    "### Further instructions on how to build a Merlin container can be found [here](https://github.com/jswortz/merlin-gcp)\n",
    "\n",
    "Guide\n",
    "1. In an notebook instance run from a terminal `git clone https://github.com/jswortz/merlin-gcp`\n",
    "2. Run the notebook - this will build a merlin tensorflow image. You can change the base images from NVidia if you choose - this was tested from the version in the repo\n",
    "3. This will build a container image and save it to artifact registry repository. You may need to enable the artifact repository service\n",
    "4. Create a new custom workbench by clicking \"New Notebook\" > \"Customize\"\n",
    "\n",
    "<img src=\"img/custom_workbench.png\" width=\"500\"/>\n",
    "\n",
    "5. To get to the screen for artifact repository. First select \"Advanced\" then name, select region, then go to \"Environment\"\n",
    "\n",
    "<img src=\"img/workbench-environment.png\" width=\"500\"/>\n",
    "\n",
    "6. Select the your repo and respective image\n",
    "\n",
    "<img src=\"img/image.png\" width=\"500\"/>\n",
    "\n",
    "7. Finally, if you already followed the instructions in notebook 02 setup - make sure the new workbench network is in the VPC peered network used for matching engine\n",
    "\n",
    "# Training with Merlin\n",
    "\n",
    "## Spotify example\n",
    "\n",
    "Our goal is to enable the architecture below with Vertex AI and the Merlin Models framework\n",
    "\n",
    "![](img/arch.png)\n",
    "\n",
    "## Goals\n",
    "\n",
    "The goal of this notebook is to create a simple two tower model with Nvtabular and Merlin Models\n",
    "\n",
    "1. Export data to Parquet for use in Nvtabular\n",
    "2. Create a NVtabular workflow and fit it to the data\n",
    "3. Save the fitted workflow to GCS (contains all dictionary lookups)\n",
    "4. Transform the data into GPU-optimized features from the NVtabular workflow and save to gcs\n",
    "5. Load the data again as a Merlin dataset using the workflow\n",
    "6. Create a two tower model in a few lines of code\n",
    "7. Train a two tower model\n",
    "8. Save the model (for deployment in notebook 03)\n",
    "9. Export the embeddings and save to gcs (for deployment to matching engine)\n",
    "\n",
    "*Based heavily on [this](https://github.com/NVIDIA-Merlin/models/blob/main/examples/05-Retrieval-Model.ipynb) NVIDIA resource\n",
    "\n",
    "\n",
    "Data is loaded from BQ - to parquet using the job configuration below\n",
    "\n",
    "\n",
    "Info on the data\n",
    "\n",
    "* track_uri_seed counts: 2249561\n",
    "* artist_uri_seed counts: 294110\n",
    "* album_uri_seed counts: 730377"
   ]
  },
  {
   "cell_type": "markdown",
   "id": "PuaFkpO7BCUt",
   "metadata": {
    "id": "PuaFkpO7BCUt",
    "tags": [],
    "toc-hr-collapsed": true
   },
   "source": [
    "# Export Data From BigQuery to Parquet on GCS"
   ]
  },
  {
   "cell_type": "code",
   "execution_count": 2,
   "id": "q6luptPoBCUt",
   "metadata": {
    "id": "q6luptPoBCUt",
    "outputId": "1d7a6df0-c9d2-488a-96ea-71be4635c931"
   },
   "outputs": [],
   "source": [
    "PROJECT = 'hybrid-vertex'  # <--- TODO: CHANGE THIS\n",
    "LOCATION = 'us-central1'\n",
    "# path = 'gs://two-tower-models' #TODO change to your model directory\n",
    "BUCKET = 'gs://spotify-million-playlist-dataset'\n",
    "DATASET_ID = 'spotify_e2e_test'\n",
    "TABLE = 'train_flatten_last_5'\n",
    "TABLE_VALIDATION = 'train_flatten_valid_last_5'\n",
    "\n",
    "\n",
    "import os\n",
    "\n",
    "from google.cloud import bigquery\n",
    "client = bigquery.Client()\n",
    "\n",
    "os.environ[\"CUDA_VISIBLE_DEVICES\"]=\"0\"\n",
    "\n",
    "\n",
    "def export_bq_to_parquet(PROJECT, DATASET_ID, TABLE, LOCATION, prefix):\n",
    "    destination_uri = f\"{BUCKET}/{prefix}_data_parquet/*.snappy.parquet\"\n",
    "    dataset_ref = bigquery.DatasetReference(PROJECT, DATASET_ID)\n",
    "    table_ref = dataset_ref.table(TABLE)\n",
    "    job_config = bigquery.job.ExtractJobConfig()\n",
    "    job_config.destination_format = bigquery.DestinationFormat.PARQUET\n",
    "    extract_job = client.extract_table(\n",
    "        table_ref,\n",
    "        destination_uri,\n",
    "        job_config=job_config,\n",
    "        # Location must match that of the source table.\n",
    "        location='US',\n",
    "    )  # API request\n",
    "    return(extract_job.result())  # Waits for job to complete."
   ]
  },
  {
   "cell_type": "markdown",
   "id": "sTIG8tqgBCUu",
   "metadata": {
    "id": "sTIG8tqgBCUu"
   },
   "source": [
    "#### Export the data from Bigquery to Parquet\n",
    "\n",
    "*Run only once* Uncomment to run"
   ]
  },
  {
   "cell_type": "code",
   "execution_count": 4,
   "id": "mcUPY-w8BCUu",
   "metadata": {
    "id": "mcUPY-w8BCUu"
   },
   "outputs": [
    {
     "data": {
      "text/plain": [
       "ExtractJob<project=hybrid-vertex, location=US, id=27ade7e4-d775-4077-b903-64ea723bb711>"
      ]
     },
     "execution_count": 4,
     "metadata": {},
     "output_type": "execute_result"
    }
   ],
   "source": [
    "# # training\n",
    "# export_bq_to_parquet(PROJECT, DATASET_ID, TABLE, LOCATION, prefix='train')\n",
    "\n",
    "# # # validation\n",
    "# export_bq_to_parquet(PROJECT, DATASET_ID, TABLE_VALIDATION, LOCATION, prefix='valid')"
   ]
  },
  {
   "cell_type": "markdown",
   "id": "yWMyLniwBCUu",
   "metadata": {
    "id": "yWMyLniwBCUu",
    "tags": [],
    "toc-hr-collapsed": true
   },
   "source": [
    "# Create a NVTabular Workflow To Preprocess The Data"
   ]
  },
  {
   "cell_type": "code",
   "execution_count": 3,
   "id": "NNycFca4BCUv",
   "metadata": {
    "id": "NNycFca4BCUv",
    "outputId": "e9e3d697-855c-4f45-e33d-db032a327190"
   },
   "outputs": [],
   "source": [
    "from time import time\n",
    "import pandas as pd\n",
    "# disable INFO and DEBUG logging everywhere\n",
    "import logging\n",
    "import time\n",
    "from dask.distributed import Client\n",
    "from dask_cuda import LocalCUDACluster\n",
    "import fsspec\n",
    "\n",
    "import nvtabular as nvt\n",
    "from merlin.io.shuffle import Shuffle\n",
    "from nvtabular.ops import (\n",
    "    Categorify,\n",
    "    TagAsUserID,\n",
    "    TagAsItemID,\n",
    "    TagAsItemFeatures,\n",
    "    TagAsUserFeatures,\n",
    "    AddMetadata,\n",
    "    ListSlice\n",
    ")\n",
    "import nvtabular.ops as ops\n",
    "from nvtabular.utils import device_mem_size\n",
    "\n",
    "from merlin.schema.tags import Tags\n",
    "# import merlin.models.tf as mm\n",
    "from merlin.io.dataset import Dataset\n",
    "import tensorflow as tf\n",
    "\n",
    "\n",
    "logging.disable(logging.WARNING)\n",
    "\n",
    "\n",
    "# for running this example on CPU, comment out the line below\n",
    "os.environ[\"TF_GPU_ALLOCATOR\"] = \"cuda_malloc_async\""
   ]
  },
  {
   "cell_type": "markdown",
   "id": "IhXdqwNsBCUv",
   "metadata": {
    "id": "IhXdqwNsBCUv"
   },
   "source": [
    "### Create NVTabular Dataset\n",
    "This will be our pre-processor to hash strings and other preprocessing"
   ]
  },
  {
   "cell_type": "code",
   "execution_count": 6,
   "id": "5vANLF9gBCUv",
   "metadata": {
    "id": "5vANLF9gBCUv"
   },
   "outputs": [],
   "source": [
    "train = nvt.Dataset(f\"{BUCKET}/train_data_parquet/*.snappy.parquet\")\n",
    "valid = nvt.Dataset(f\"{BUCKET}/valid_data_parquet/*.snappy.parquet\")"
   ]
  },
  {
   "cell_type": "markdown",
   "id": "pwCh2sKhBCUv",
   "metadata": {
    "id": "pwCh2sKhBCUv"
   },
   "source": [
    "#### Define the NVTabular preprocessing graph\n",
    "\n",
    "Nvtabular takes a tabular dataset and transforms the data into new Parquet files optimized for training. This is equivalent to running a string lookup in tensorflow, and has similar functionality as adpat when a workflow is used\n",
    "\n",
    "The graph is defined as a set of nodes and a node is defined as follows:\n",
    "\n",
    "```\n",
    "NODE_NAME = LIST_OF_FEATURE_NAMES >> nvt.ops.* >> [NEXT_STEP] >> Tag\n",
    "```\n",
    "\n",
    "Nvt has many ops - one of the most notable is `Categorify` as it is flexible and converts high cardinality text features to indicies\n",
    "\n",
    "Tags are used as a means to label the schema in the metadata and serves as a label for merlin models to interpret for consumption (e.g. which features belong to the query tower and candidate tower have different tags). You will see the tags in the schema in examples below"
   ]
  },
  {
   "cell_type": "code",
   "execution_count": 28,
   "id": "jLnxwpHPBCUw",
   "metadata": {
    "id": "jLnxwpHPBCUw",
    "scrolled": true,
    "tags": []
   },
   "outputs": [],
   "source": [
    "# =============================================\n",
    "# featutres\n",
    "# =============================================\n",
    "item_id = [\"track_uri_can\"] >> Categorify(dtype=\"int32\") >> TagAsItemID() \n",
    "playlist_id = [\"pid\"] >> Categorify(dtype=\"int32\") >> TagAsUserID() \n",
    "\n",
    "\n",
    "item_features_cat = [\n",
    "    'artist_name_can',\n",
    "    'track_name_can',\n",
    "    'artist_genres_can',\n",
    "]\n",
    "\n",
    "item_features_cont = [\n",
    "    'duration_ms_can',\n",
    "    'track_pop_can',\n",
    "    'artist_pop_can',\n",
    "    'artist_followers_can',\n",
    "]\n",
    "\n",
    "playlist_features_cat = [\n",
    "    # 'description_pl',\n",
    "    'pl_name_src',\n",
    "    'pl_collaborative_src',\n",
    "]\n",
    "\n",
    "playlist_features_cont = [\n",
    "    'pl_duration_ms_new',\n",
    "    # 'n_songs_pl',\n",
    "    # 'num_artists_pl',\n",
    "    # 'num_albums_pl',\n",
    "]\n",
    "\n",
    "seq_feats_cat = [\n",
    "    'artist_name_pl',\n",
    "    'track_uri_pl',\n",
    "    'track_name_pl',\n",
    "    'album_name_pl',\n",
    "    'artist_genres_pl',\n",
    "    'track_danceability_pl',\n",
    "    'track_energy_pl',\n",
    "    'track_loudness_pl',\n",
    "    'track_mode_pl',\n",
    "]\n",
    "\n",
    "CAT = playlist_features_cat + item_features_cat\n",
    "CONT = item_features_cont + playlist_features_cont"
   ]
  },
  {
   "cell_type": "code",
   "execution_count": 29,
   "id": "99f0ad65-e754-4e94-af1f-f60a1d2b8def",
   "metadata": {},
   "outputs": [],
   "source": [
    "def create_parquet_nvt_dataset(\n",
    "    # data_path,\n",
    "    frac_size,\n",
    "    file_pattern=None,\n",
    "):\n",
    "    \"\"\"Create a nvt.Dataset definition for the parquet files.\"\"\"\n",
    "    file_list = os.path.join(file_pattern, \"train\", \"*.snappy.parquet\")\n",
    "    \n",
    "    print(file_list)\n",
    "    return nvt.Dataset(\n",
    "        file_list,\n",
    "        engine='parquet',\n",
    "        part_mem_fraction=frac_size\n",
    "  )\n",
    "\n",
    "def save_dataset(\n",
    "    dataset,\n",
    "    output_path,\n",
    "    output_files,\n",
    "    shuffle=None,\n",
    "):\n",
    "    \"\"\"Save dataset to parquet files to path.\"\"\"\n",
    "    categorical_cols=CAT\n",
    "    continuous_cols=CONT\n",
    "\n",
    "    dict_dtypes = {}\n",
    "    for col in categorical_cols:\n",
    "        dict_dtypes[col] = np.int32\n",
    "\n",
    "    for col in continuous_cols:\n",
    "        dict_dtypes[col] = np.float64\n",
    "\n",
    "    dataset.to_parquet(\n",
    "        output_path=output_path,\n",
    "        shuffle=shuffle,\n",
    "        output_files=output_files,\n",
    "        dtypes=dict_dtypes,\n",
    "        cats=categorical_cols,\n",
    "        conts=continuous_cols,\n",
    "    )"
   ]
  },
  {
   "cell_type": "markdown",
   "id": "dYMTGn22BCUw",
   "metadata": {
    "id": "dYMTGn22BCUw"
   },
   "source": [
    "### Define a workflow\n",
    "This is an easy step by adding all nodes that need to run in parallel. A graphviz visualization of the graph is available below"
   ]
  },
  {
   "cell_type": "markdown",
   "id": "2I8dVGeHBCUx",
   "metadata": {
    "id": "2I8dVGeHBCUx"
   },
   "source": [
    "### Before we transform the data, let's look at an original record\n",
    "This loads the data into a dask pandas dataframe. `.to_ddf()` converts the dataset into a dask df"
   ]
  },
  {
   "cell_type": "code",
   "execution_count": 33,
   "id": "7PwjEYOjBCUw",
   "metadata": {
    "id": "7PwjEYOjBCUw"
   },
   "outputs": [],
   "source": [
    "# =============================================\n",
    "#            Workflow\n",
    "# =============================================\n",
    "def create_nvt_workflow():\n",
    "    '''\n",
    "    Create a nvt.Workflow definition with transformation all the steps\n",
    "    '''\n",
    "    item_id = [\"track_uri_can\"] >> Categorify(dtype=\"int32\") >> TagAsItemID() \n",
    "    playlist_id = [\"pid\"] >> Categorify(dtype=\"int32\") >> TagAsUserID() \n",
    "\n",
    "\n",
    "    item_features_cat = ['artist_name_can',\n",
    "            'track_name_can',\n",
    "            'artist_genres_can',\n",
    "        ]\n",
    "\n",
    "    item_features_cont = [\n",
    "            'duration_ms_can',\n",
    "            'track_pop_can',\n",
    "            'artist_pop_can',\n",
    "            'artist_followers_can',\n",
    "        ]\n",
    "\n",
    "    playlist_features_cat = [\n",
    "            # 'description_pl',\n",
    "            'pl_name_src',\n",
    "            'pl_collaborative_src',\n",
    "        ]\n",
    "\n",
    "    playlist_features_cont = [\n",
    "            'pl_duration_ms_new',\n",
    "            # 'n_songs_pl',\n",
    "            # 'num_artists_pl',\n",
    "            # 'num_albums_pl',\n",
    "        ]\n",
    "\n",
    "    seq_feats_cat = [\n",
    "            'artist_name_pl',\n",
    "            'track_uri_pl',\n",
    "            'track_name_pl',\n",
    "            'album_name_pl',\n",
    "            'artist_genres_pl',\n",
    "            'track_danceability_pl',\n",
    "            'track_energy_pl',\n",
    "            'track_loudness_pl',\n",
    "            'track_mode_pl',\n",
    "        ]\n",
    "\n",
    "    CAT = playlist_features_cat + item_features_cat\n",
    "    CONT = item_features_cont + playlist_features_cont\n",
    "\n",
    "    item_feature_cat_node = item_features_cat >> nvt.ops.FillMissing()>> Categorify(dtype=\"int32\") >> TagAsItemFeatures()\n",
    "\n",
    "    item_feature_cont_node =  item_features_cont >> nvt.ops.FillMissing() >>  nvt.ops.Normalize() >> TagAsItemFeatures()\n",
    "\n",
    "    playlist_feature_cat_node = playlist_features_cat >> nvt.ops.FillMissing() >> Categorify(dtype=\"int32\") >> TagAsUserFeatures() \n",
    "\n",
    "    playlist_feature_cont_node = playlist_features_cont >> nvt.ops.FillMissing() >>  nvt.ops.Normalize() >> TagAsUserFeatures()\n",
    "\n",
    "    playlist_feature_cat_seq_node = seq_feats_cat >> nvt.ops.FillMissing() >> Categorify(dtype=\"int32\") >> TagAsUserFeatures()\n",
    "    \n",
    "    # define a workflow\n",
    "    output = playlist_id + item_id \\\n",
    "    + item_feature_cat_node \\\n",
    "    + item_feature_cont_node \\\n",
    "    + playlist_feature_cat_node \\\n",
    "    + playlist_feature_cont_node \\\n",
    "    + playlist_feature_cat_seq_node \n",
    "\n",
    "    workflow = nvt.Workflow(output)\n",
    "    \n",
    "    return workflow\n"
   ]
  },
  {
   "cell_type": "markdown",
   "id": "f2ee9523-15ea-44ff-81cc-6b4488c2e91f",
   "metadata": {
    "id": "CwJkgU2ZBCUx"
   },
   "source": [
    "### Now set the output buckets for the validation and training"
   ]
  },
  {
   "cell_type": "code",
   "execution_count": 4,
   "id": "nKW3AZAHBCUx",
   "metadata": {
    "id": "nKW3AZAHBCUx",
    "outputId": "7daf22f9-13b9-4f0f-82f2-5f5b3872483f"
   },
   "outputs": [
    {
     "name": "stdout",
     "output_type": "stream",
     "text": [
      "Train data dir: gs://spotify-million-playlist-dataset/merlin-processed/train/\n",
      "Valid data dir: gs://spotify-million-playlist-dataset/merlin-processed/valid/\n"
     ]
    }
   ],
   "source": [
    "output_path = os.path.join(BUCKET, \"merlin-processed\")\n",
    "output_train_dir = os.path.join(output_path, 'train/')\n",
    "output_valid_dir = os.path.join(output_path, 'valid/')\n",
    "output_workflow_dir = os.path.join(output_path, 'workflow/')\n",
    "workflow_path = '2t-spotify-workflow'\n",
    "\n",
    "print(f\"Train data dir: {output_train_dir}\\nValid data dir: {output_valid_dir}\")"
   ]
  },
  {
   "cell_type": "markdown",
   "id": "83828516-93a7-4f37-a943-75d78f7e3ed8",
   "metadata": {
    "id": "AR8iY3BvBCUx",
    "tags": []
   },
   "source": [
    "## Load and preprocess training data back to Parquet GCS\n",
    "helpful resources https://cloud.google.com/compute/docs/gpus/monitor-gpus\n",
    "\n",
    "## Also, be sure to install `nvtop` the install script is in `utils/install_nvtop.sh`\n",
    "\n",
    "## Fit Transform is called on the workflow to pass over the data\n",
    "The categorical and continuous features must be specified. In this example shuffling is enabled so we only shuflle one time. You can size your output and experiment with number of output files - depending on your use case think of your GPU memory available with respective file sizes\n",
    "\n",
    "## ** This can take some time (about an hour) but is a one-time save to gcs **"
   ]
  },
  {
   "cell_type": "code",
   "execution_count": null,
   "id": "7ef0a398-c2bc-4609-8e08-2f71539c41d2",
   "metadata": {},
   "outputs": [],
   "source": [
    "# Create Workflow\n",
    "nvt_workflow = create_nvt_workflow()\n",
    "\n",
    "logging.info('Analyzing dataset')\n",
    "nvt_workflow.fit_transform(train).to_parquet(output_path=output_train_dir,\n",
    "                                         shuffle=nvt.io.Shuffle.PER_PARTITION,\n",
    "                                         cats=CAT,\n",
    "                                         conts=CONT,\n",
    "                                         output_files = 100\n",
    "                                         )"
   ]
  },
  {
   "cell_type": "markdown",
   "id": "4eb6d387-ccf3-4bc5-bd56-78613b4a392f",
   "metadata": {
    "id": "5urE7g6gBCUy",
    "tags": []
   },
   "source": [
    "### Saving to GCS is simple with GCS Fuse, which is already included in the if you built an image from [here](https://github.com/jswortz/merlin-gcp)"
   ]
  },
  {
   "cell_type": "code",
   "execution_count": 52,
   "id": "b69728d2-d5f7-431b-8a0d-3ddb76cb36b0",
   "metadata": {},
   "outputs": [],
   "source": [
    "#save the workflow to disk (GCS here via ) after it has been fit\n",
    "nvt_workflow.save(os.path.join(output_workflow_dir,'2t-spotify-workflow'))\n",
    "workflow_path = '2t-spotify-workflow'\n",
    "#locally for demo too\n",
    "nvt_workflow.save(workflow_path)"
   ]
  },
  {
   "cell_type": "markdown",
   "id": "16ed9bc5-57a7-4705-9ac0-a803b97805c0",
   "metadata": {
    "id": "HFSPCmozBCUy"
   },
   "source": [
    "## Transform validation data using the same workflow\n",
    "\n",
    "This works similarly to a sklearn object where you can fit then transform after"
   ]
  },
  {
   "cell_type": "code",
   "execution_count": 44,
   "id": "ad7f5eb4-e2a4-44cf-a3fe-20e18b82dd66",
   "metadata": {},
   "outputs": [
    {
     "name": "stderr",
     "output_type": "stream",
     "text": [
      "/usr/local/lib/python3.8/dist-packages/merlin/schema/tags.py:148: UserWarning: Compound tags like Tags.USER_ID have been deprecated and will be removed in a future version. Please use the atomic versions of these tags, like [<Tags.USER: 'user'>, <Tags.ID: 'id'>].\n",
      "  warnings.warn(\n",
      "/usr/local/lib/python3.8/dist-packages/merlin/schema/tags.py:148: UserWarning: Compound tags like Tags.ITEM_ID have been deprecated and will be removed in a future version. Please use the atomic versions of these tags, like [<Tags.ITEM: 'item'>, <Tags.ID: 'id'>].\n",
      "  warnings.warn(\n"
     ]
    }
   ],
   "source": [
    "nvt_workflow.transform(valid).to_parquet(output_path=output_valid_dir,\n",
    "                                         shuffle=nvt.io.Shuffle.PER_PARTITION,\n",
    "                                         cats=CAT,\n",
    "                                         conts=CONT,\n",
    "                                         output_files=10\n",
    "                                         )"
   ]
  },
  {
   "cell_type": "code",
   "execution_count": 45,
   "id": "-kzoYO2EBCUx",
   "metadata": {
    "id": "-kzoYO2EBCUx",
    "outputId": "c668d1b3-53f7-40bc-e89d-8fe3f7d12cd3"
   },
   "outputs": [
    {
     "data": {
      "text/html": [
       "<div>\n",
       "<style scoped>\n",
       "    .dataframe tbody tr th:only-of-type {\n",
       "        vertical-align: middle;\n",
       "    }\n",
       "\n",
       "    .dataframe tbody tr th {\n",
       "        vertical-align: top;\n",
       "    }\n",
       "\n",
       "    .dataframe thead th {\n",
       "        text-align: right;\n",
       "    }\n",
       "</style>\n",
       "<table border=\"1\" class=\"dataframe\">\n",
       "  <thead>\n",
       "    <tr style=\"text-align: right;\">\n",
       "      <th></th>\n",
       "      <th>pid</th>\n",
       "      <th>pl_name_src</th>\n",
       "      <th>pl_collaborative_src</th>\n",
       "      <th>pl_duration_ms_new</th>\n",
       "      <th>num_pl_songs_new</th>\n",
       "      <th>num_pl_artists_new</th>\n",
       "      <th>num_pl_albums_new</th>\n",
       "      <th>track_uri_can</th>\n",
       "      <th>track_name_can</th>\n",
       "      <th>artist_uri_can</th>\n",
       "      <th>...</th>\n",
       "      <th>track_key_pl</th>\n",
       "      <th>track_loudness_pl</th>\n",
       "      <th>track_mode_pl</th>\n",
       "      <th>track_acousticness_pl</th>\n",
       "      <th>track_instrumentalness_pl</th>\n",
       "      <th>track_liveness_pl</th>\n",
       "      <th>track_valence_pl</th>\n",
       "      <th>track_tempo_pl</th>\n",
       "      <th>track_time_signature_pl</th>\n",
       "      <th>track_speechiness_pl</th>\n",
       "    </tr>\n",
       "  </thead>\n",
       "  <tbody>\n",
       "    <tr>\n",
       "      <th>0</th>\n",
       "      <td>139400</td>\n",
       "      <td>jamz</td>\n",
       "      <td>false</td>\n",
       "      <td>22183552.0</td>\n",
       "      <td>93.0</td>\n",
       "      <td>46.0</td>\n",
       "      <td>64.0</td>\n",
       "      <td>spotify:track:0HoimIevP015OpVBROD9vq</td>\n",
       "      <td>Chnam oun Dop-Pram Muy (I'm 16)</td>\n",
       "      <td>spotify:artist:2hvojsCYy1EHShM9njaiL6</td>\n",
       "      <td>...</td>\n",
       "      <td>[7.0, 2.0, 2.0, 2.0, 7.0]</td>\n",
       "      <td>[-5.315, -15.889, -3.398, -11.573, -5.857]</td>\n",
       "      <td>[1, 0, 1, 1, 1]</td>\n",
       "      <td>[6.2e-06, 0.514, 0.0416, 0.536, 0.854]</td>\n",
       "      <td>[0.0, 0.00379, 0.0709, 5.72e-05, 0.0]</td>\n",
       "      <td>[0.104, 0.0441, 0.149, 0.411, 0.117]</td>\n",
       "      <td>[0.54, 0.245, 0.47, 0.635, 0.305]</td>\n",
       "      <td>[87.105, 138.686, 134.257, 113.547, 149.954]</td>\n",
       "      <td>[4, 3, 4, 4, 4]</td>\n",
       "      <td>[0.0847, 0.0545, 0.0291, 0.0343, 0.132]</td>\n",
       "    </tr>\n",
       "  </tbody>\n",
       "</table>\n",
       "<p>1 rows × 53 columns</p>\n",
       "</div>"
      ],
      "text/plain": [
       "      pid pl_name_src pl_collaborative_src  pl_duration_ms_new  \\\n",
       "0  139400        jamz                false          22183552.0   \n",
       "\n",
       "   num_pl_songs_new  num_pl_artists_new  num_pl_albums_new  \\\n",
       "0              93.0                46.0               64.0   \n",
       "\n",
       "                          track_uri_can                   track_name_can  \\\n",
       "0  spotify:track:0HoimIevP015OpVBROD9vq  Chnam oun Dop-Pram Muy (I'm 16)   \n",
       "\n",
       "                          artist_uri_can  ...               track_key_pl  \\\n",
       "0  spotify:artist:2hvojsCYy1EHShM9njaiL6  ...  [7.0, 2.0, 2.0, 2.0, 7.0]   \n",
       "\n",
       "                            track_loudness_pl    track_mode_pl  \\\n",
       "0  [-5.315, -15.889, -3.398, -11.573, -5.857]  [1, 0, 1, 1, 1]   \n",
       "\n",
       "                    track_acousticness_pl  \\\n",
       "0  [6.2e-06, 0.514, 0.0416, 0.536, 0.854]   \n",
       "\n",
       "               track_instrumentalness_pl  \\\n",
       "0  [0.0, 0.00379, 0.0709, 5.72e-05, 0.0]   \n",
       "\n",
       "                      track_liveness_pl                   track_valence_pl  \\\n",
       "0  [0.104, 0.0441, 0.149, 0.411, 0.117]  [0.54, 0.245, 0.47, 0.635, 0.305]   \n",
       "\n",
       "                                 track_tempo_pl track_time_signature_pl  \\\n",
       "0  [87.105, 138.686, 134.257, 113.547, 149.954]         [4, 3, 4, 4, 4]   \n",
       "\n",
       "                      track_speechiness_pl  \n",
       "0  [0.0847, 0.0545, 0.0291, 0.0343, 0.132]  \n",
       "\n",
       "[1 rows x 53 columns]"
      ]
     },
     "execution_count": 45,
     "metadata": {},
     "output_type": "execute_result"
    }
   ],
   "source": [
    "# Don't truncate text fields in the display\n",
    "pd.set_option(\"display.max_colwidth\", None)\n",
    "\n",
    "valid.to_ddf().head(1)"
   ]
  },
  {
   "cell_type": "code",
   "execution_count": 46,
   "id": "zHKHvsunBCUz",
   "metadata": {
    "id": "zHKHvsunBCUz",
    "outputId": "f709d222-2bfb-476b-e1fd-533a41ccb518"
   },
   "outputs": [
    {
     "data": {
      "text/html": [
       "<div>\n",
       "<style scoped>\n",
       "    .dataframe tbody tr th:only-of-type {\n",
       "        vertical-align: middle;\n",
       "    }\n",
       "\n",
       "    .dataframe tbody tr th {\n",
       "        vertical-align: top;\n",
       "    }\n",
       "\n",
       "    .dataframe thead th {\n",
       "        text-align: right;\n",
       "    }\n",
       "</style>\n",
       "<table border=\"1\" class=\"dataframe\">\n",
       "  <thead>\n",
       "    <tr style=\"text-align: right;\">\n",
       "      <th></th>\n",
       "      <th>name</th>\n",
       "      <th>tags</th>\n",
       "      <th>dtype</th>\n",
       "      <th>is_list</th>\n",
       "      <th>is_ragged</th>\n",
       "    </tr>\n",
       "  </thead>\n",
       "  <tbody>\n",
       "    <tr>\n",
       "      <th>0</th>\n",
       "      <td>pid</td>\n",
       "      <td>()</td>\n",
       "      <td>int64</td>\n",
       "      <td>False</td>\n",
       "      <td>False</td>\n",
       "    </tr>\n",
       "    <tr>\n",
       "      <th>1</th>\n",
       "      <td>track_uri_can</td>\n",
       "      <td>()</td>\n",
       "      <td>object</td>\n",
       "      <td>False</td>\n",
       "      <td>False</td>\n",
       "    </tr>\n",
       "    <tr>\n",
       "      <th>2</th>\n",
       "      <td>artist_name_can</td>\n",
       "      <td>()</td>\n",
       "      <td>object</td>\n",
       "      <td>False</td>\n",
       "      <td>False</td>\n",
       "    </tr>\n",
       "    <tr>\n",
       "      <th>3</th>\n",
       "      <td>track_name_can</td>\n",
       "      <td>()</td>\n",
       "      <td>object</td>\n",
       "      <td>False</td>\n",
       "      <td>False</td>\n",
       "    </tr>\n",
       "    <tr>\n",
       "      <th>4</th>\n",
       "      <td>artist_genres_can</td>\n",
       "      <td>()</td>\n",
       "      <td>object</td>\n",
       "      <td>False</td>\n",
       "      <td>False</td>\n",
       "    </tr>\n",
       "    <tr>\n",
       "      <th>5</th>\n",
       "      <td>duration_ms_can</td>\n",
       "      <td>()</td>\n",
       "      <td>float64</td>\n",
       "      <td>False</td>\n",
       "      <td>False</td>\n",
       "    </tr>\n",
       "    <tr>\n",
       "      <th>6</th>\n",
       "      <td>track_pop_can</td>\n",
       "      <td>()</td>\n",
       "      <td>float64</td>\n",
       "      <td>False</td>\n",
       "      <td>False</td>\n",
       "    </tr>\n",
       "    <tr>\n",
       "      <th>7</th>\n",
       "      <td>artist_pop_can</td>\n",
       "      <td>()</td>\n",
       "      <td>float64</td>\n",
       "      <td>False</td>\n",
       "      <td>False</td>\n",
       "    </tr>\n",
       "    <tr>\n",
       "      <th>8</th>\n",
       "      <td>artist_followers_can</td>\n",
       "      <td>()</td>\n",
       "      <td>float64</td>\n",
       "      <td>False</td>\n",
       "      <td>False</td>\n",
       "    </tr>\n",
       "    <tr>\n",
       "      <th>9</th>\n",
       "      <td>pl_name_src</td>\n",
       "      <td>()</td>\n",
       "      <td>object</td>\n",
       "      <td>False</td>\n",
       "      <td>False</td>\n",
       "    </tr>\n",
       "    <tr>\n",
       "      <th>10</th>\n",
       "      <td>pl_collaborative_src</td>\n",
       "      <td>()</td>\n",
       "      <td>object</td>\n",
       "      <td>False</td>\n",
       "      <td>False</td>\n",
       "    </tr>\n",
       "    <tr>\n",
       "      <th>11</th>\n",
       "      <td>pl_duration_ms_new</td>\n",
       "      <td>()</td>\n",
       "      <td>float64</td>\n",
       "      <td>False</td>\n",
       "      <td>False</td>\n",
       "    </tr>\n",
       "    <tr>\n",
       "      <th>12</th>\n",
       "      <td>artist_name_pl</td>\n",
       "      <td>()</td>\n",
       "      <td>object</td>\n",
       "      <td>True</td>\n",
       "      <td>True</td>\n",
       "    </tr>\n",
       "    <tr>\n",
       "      <th>13</th>\n",
       "      <td>track_uri_pl</td>\n",
       "      <td>()</td>\n",
       "      <td>object</td>\n",
       "      <td>True</td>\n",
       "      <td>True</td>\n",
       "    </tr>\n",
       "    <tr>\n",
       "      <th>14</th>\n",
       "      <td>track_name_pl</td>\n",
       "      <td>()</td>\n",
       "      <td>object</td>\n",
       "      <td>True</td>\n",
       "      <td>True</td>\n",
       "    </tr>\n",
       "    <tr>\n",
       "      <th>15</th>\n",
       "      <td>album_name_pl</td>\n",
       "      <td>()</td>\n",
       "      <td>object</td>\n",
       "      <td>True</td>\n",
       "      <td>True</td>\n",
       "    </tr>\n",
       "    <tr>\n",
       "      <th>16</th>\n",
       "      <td>artist_genres_pl</td>\n",
       "      <td>()</td>\n",
       "      <td>object</td>\n",
       "      <td>True</td>\n",
       "      <td>True</td>\n",
       "    </tr>\n",
       "    <tr>\n",
       "      <th>17</th>\n",
       "      <td>track_danceability_pl</td>\n",
       "      <td>()</td>\n",
       "      <td>float64</td>\n",
       "      <td>True</td>\n",
       "      <td>True</td>\n",
       "    </tr>\n",
       "    <tr>\n",
       "      <th>18</th>\n",
       "      <td>track_energy_pl</td>\n",
       "      <td>()</td>\n",
       "      <td>float64</td>\n",
       "      <td>True</td>\n",
       "      <td>True</td>\n",
       "    </tr>\n",
       "    <tr>\n",
       "      <th>19</th>\n",
       "      <td>track_loudness_pl</td>\n",
       "      <td>()</td>\n",
       "      <td>float64</td>\n",
       "      <td>True</td>\n",
       "      <td>True</td>\n",
       "    </tr>\n",
       "    <tr>\n",
       "      <th>20</th>\n",
       "      <td>track_mode_pl</td>\n",
       "      <td>()</td>\n",
       "      <td>int64</td>\n",
       "      <td>True</td>\n",
       "      <td>True</td>\n",
       "    </tr>\n",
       "  </tbody>\n",
       "</table>\n",
       "</div>"
      ],
      "text/plain": [
       "[{'name': 'pid', 'tags': set(), 'properties': {}, 'dtype': dtype('int64'), 'is_list': False, 'is_ragged': False}, {'name': 'track_uri_can', 'tags': set(), 'properties': {}, 'dtype': dtype('O'), 'is_list': False, 'is_ragged': False}, {'name': 'artist_name_can', 'tags': set(), 'properties': {}, 'dtype': dtype('O'), 'is_list': False, 'is_ragged': False}, {'name': 'track_name_can', 'tags': set(), 'properties': {}, 'dtype': dtype('O'), 'is_list': False, 'is_ragged': False}, {'name': 'artist_genres_can', 'tags': set(), 'properties': {}, 'dtype': dtype('O'), 'is_list': False, 'is_ragged': False}, {'name': 'duration_ms_can', 'tags': set(), 'properties': {}, 'dtype': dtype('float64'), 'is_list': False, 'is_ragged': False}, {'name': 'track_pop_can', 'tags': set(), 'properties': {}, 'dtype': dtype('float64'), 'is_list': False, 'is_ragged': False}, {'name': 'artist_pop_can', 'tags': set(), 'properties': {}, 'dtype': dtype('float64'), 'is_list': False, 'is_ragged': False}, {'name': 'artist_followers_can', 'tags': set(), 'properties': {}, 'dtype': dtype('float64'), 'is_list': False, 'is_ragged': False}, {'name': 'pl_name_src', 'tags': set(), 'properties': {}, 'dtype': dtype('O'), 'is_list': False, 'is_ragged': False}, {'name': 'pl_collaborative_src', 'tags': set(), 'properties': {}, 'dtype': dtype('O'), 'is_list': False, 'is_ragged': False}, {'name': 'pl_duration_ms_new', 'tags': set(), 'properties': {}, 'dtype': dtype('float64'), 'is_list': False, 'is_ragged': False}, {'name': 'artist_name_pl', 'tags': set(), 'properties': {}, 'dtype': dtype('O'), 'is_list': True, 'is_ragged': True}, {'name': 'track_uri_pl', 'tags': set(), 'properties': {}, 'dtype': dtype('O'), 'is_list': True, 'is_ragged': True}, {'name': 'track_name_pl', 'tags': set(), 'properties': {}, 'dtype': dtype('O'), 'is_list': True, 'is_ragged': True}, {'name': 'album_name_pl', 'tags': set(), 'properties': {}, 'dtype': dtype('O'), 'is_list': True, 'is_ragged': True}, {'name': 'artist_genres_pl', 'tags': set(), 'properties': {}, 'dtype': dtype('O'), 'is_list': True, 'is_ragged': True}, {'name': 'track_danceability_pl', 'tags': set(), 'properties': {}, 'dtype': dtype('float64'), 'is_list': True, 'is_ragged': True}, {'name': 'track_energy_pl', 'tags': set(), 'properties': {}, 'dtype': dtype('float64'), 'is_list': True, 'is_ragged': True}, {'name': 'track_loudness_pl', 'tags': set(), 'properties': {}, 'dtype': dtype('float64'), 'is_list': True, 'is_ragged': True}, {'name': 'track_mode_pl', 'tags': set(), 'properties': {}, 'dtype': dtype('int64'), 'is_list': True, 'is_ragged': True}]"
      ]
     },
     "execution_count": 46,
     "metadata": {},
     "output_type": "execute_result"
    }
   ],
   "source": [
    "nvt_workflow.input_schema"
   ]
  },
  {
   "cell_type": "markdown",
   "id": "kcipKnLTBCUz",
   "metadata": {
    "id": "kcipKnLTBCUz"
   },
   "source": [
    "### Examine some of the output data from nvtabular\n",
    "\n",
    "The data is presented as a Dask Pandas DF - so the interface is very familiar if you know Pandas\n",
    "\n",
    "Now the data has encoded the values of the strings with categorify, filled missing values, and normalized continuous variables. Now when you look at categorical data like `track_name_pl`, you will see the data represented as an integer, ready to quickly load to an embedding layer, as opposed to hashing each Epoch like when including stringlookups or hash functions in a tfrs model. This ensures the unven profile caused by cpu/gpu bottlnecks during lookup functions are processed just once and efficiently.\n",
    "\n",
    "#### Example of NVTabular Gpu Consumption Pattern\n",
    "A100 a1-high-gpu\n",
    "![Example of Nvtop](img/nvtop.png)\n",
    "\n",
    "Note that the lookup tables for the various categorified data can be found in the `categories/` folder of the workflow. You also will notice a link in the data schema (more on that below) to the files by each field - this is how you can do reverse lookups later"
   ]
  },
  {
   "cell_type": "code",
   "execution_count": 47,
   "id": "w6Ope6G-BCUz",
   "metadata": {
    "id": "w6Ope6G-BCUz",
    "outputId": "2cab7a49-6d4d-49f9-f6a2-adabb8014eee"
   },
   "outputs": [
    {
     "data": {
      "text/plain": [
       "0          [2686, 3611, 7219, 36114, 6856]\n",
       "1    [175448, 25251, 79095, 46580, 374021]\n",
       "2         [9043, 9805, 10932, 46044, 1637]\n",
       "Name: track_name_pl, dtype: object"
      ]
     },
     "execution_count": 47,
     "metadata": {},
     "output_type": "execute_result"
    }
   ],
   "source": [
    "nvtdata = pd.read_parquet(output_train_dir+'part_0.parquet')\n",
    "nvtdata['track_name_pl'].head(3)"
   ]
  },
  {
   "cell_type": "code",
   "execution_count": 48,
   "id": "CXaok1lkBCUz",
   "metadata": {
    "id": "CXaok1lkBCUz",
    "outputId": "c7433f3b-73d5-424c-eb0b-f8aac328e98a"
   },
   "outputs": [
    {
     "data": {
      "text/plain": [
       "0     4035\n",
       "1    21710\n",
       "2     1848\n",
       "3      849\n",
       "4     1255\n",
       "5      153\n",
       "6       50\n",
       "7    30773\n",
       "8      968\n",
       "9       72\n",
       "Name: artist_name_can, dtype: int32"
      ]
     },
     "execution_count": 48,
     "metadata": {},
     "output_type": "execute_result"
    }
   ],
   "source": [
    "nvtdata = pd.read_parquet(output_train_dir+'part_0.parquet')\n",
    "nvtdata['artist_name_can'].head(10)"
   ]
  },
  {
   "cell_type": "markdown",
   "id": "EvkRGUfvBCUz",
   "metadata": {
    "id": "EvkRGUfvBCUz"
   },
   "source": [
    "### Total rows for `part_0.parquet`\n",
    "Total rows x number of partitions (`output_files` in `workflow.to_parquet()`)"
   ]
  },
  {
   "cell_type": "code",
   "execution_count": 40,
   "id": "1MPlgNNABCU0",
   "metadata": {
    "id": "1MPlgNNABCU0",
    "outputId": "d91adcbc-6820-4d45-8223-5d41013b0cb1"
   },
   "outputs": [
    {
     "data": {
      "text/plain": [
       "652906"
      ]
     },
     "execution_count": 40,
     "metadata": {},
     "output_type": "execute_result"
    }
   ],
   "source": [
    "len(nvtdata)"
   ]
  },
  {
   "cell_type": "markdown",
   "id": "5WaKJQMTBCU0",
   "metadata": {
    "id": "5WaKJQMTBCU0"
   },
   "source": [
    "#### Quick view of the embedding dimensions\n",
    "`(INPUT_CARDINALITY, EMB_DIM)`"
   ]
  },
  {
   "cell_type": "code",
   "execution_count": 41,
   "id": "LI7NZ8xxBCU0",
   "metadata": {
    "id": "LI7NZ8xxBCU0",
    "outputId": "afc5563d-657d-422b-bd86-833140a9f71f"
   },
   "outputs": [
    {
     "data": {
      "text/plain": [
       "({'pid': (979709, 512),\n",
       "  'track_uri_can': (2177104, 512),\n",
       "  'artist_name_can': (277791, 512),\n",
       "  'track_name_can': (1431508, 512),\n",
       "  'artist_genres_can': (38411, 512),\n",
       "  'pl_name_src': (92043, 512),\n",
       "  'pl_collaborative_src': (3, 16)},\n",
       " {'artist_name_pl': (282662, 512),\n",
       "  'track_uri_pl': (2224861, 512),\n",
       "  'track_name_pl': (1460829, 512),\n",
       "  'album_name_pl': (562275, 512),\n",
       "  'artist_genres_pl': (38613, 512),\n",
       "  'track_danceability_pl': (1368, 91),\n",
       "  'track_energy_pl': (3332, 150),\n",
       "  'track_loudness_pl': (38964, 512),\n",
       "  'track_mode_pl': (3, 16)})"
      ]
     },
     "execution_count": 41,
     "metadata": {},
     "output_type": "execute_result"
    }
   ],
   "source": [
    "embeddings = ops.get_embedding_sizes(nvt_workflow)\n",
    "embeddings"
   ]
  },
  {
   "cell_type": "markdown",
   "id": "3sQhxCWJBCU1",
   "metadata": {
    "id": "3sQhxCWJBCU1",
    "toc-hr-collapsed": true
   },
   "source": [
    "# Load the processed data into a Merlin Dataset and Train a Two Tower Model\n",
    "\n",
    "Now that data inspection is over, the workflow is saved and data is processed to the `output_path`\n",
    "\n",
    "The above only needs to be run once as well - the workflow and transformed files can be directly loaded from gcs from now on"
   ]
  },
  {
   "cell_type": "markdown",
   "id": "WrJ0tRiJBCU1",
   "metadata": {
    "id": "WrJ0tRiJBCU1"
   },
   "source": [
    "### Two Tower Modeling"
   ]
  },
  {
   "cell_type": "code",
   "execution_count": 5,
   "id": "7nBwI338BCU1",
   "metadata": {
    "id": "7nBwI338BCU1",
    "outputId": "c14fcff1-9613-4788-c4b8-47f9941597ae"
   },
   "outputs": [],
   "source": [
    "from typing import List, Any\n",
    "\n",
    "output_path = os.path.join(BUCKET, \"merlin-processed/workflow/2t-spotify-workflow\")\n",
    "workflow = nvt.Workflow.load(workflow_path)\n",
    "\n",
    "schema = workflow.output_schema\n",
    "\n",
    "\n",
    "def create_two_tower(\n",
    "    workflow_dir: str,\n",
    "    layer_sizes: List[Any] = [512, 256, 128],\n",
    "):\n",
    "    \n",
    "    #=========================================\n",
    "    # get workflow details\n",
    "    #=========================================\n",
    "    workflow = nvt.Workflow.load(workflow_dir) # gs://spotify-merlin-v1/nvt-preprocessing-spotify-v24/nvt-analyzed\n",
    "    \n",
    "    schema = workflow.output_schema\n",
    "    \n",
    "    # embeddings = ops.get_embedding_sizes(workflow)\n",
    "    \n",
    "    #=========================================\n",
    "    # build towers\n",
    "    #=========================================\n",
    "    \n",
    "    user_schema = schema.select_by_tag(Tags.USER)\n",
    "    user_inputs = mm.InputBlockV2(user_schema)\n",
    "    \n",
    "    query = mm.Encoder(user_inputs, mm.MLPBlock(layer_sizes))\n",
    "    \n",
    "    item_schema = schema.select_by_tag(Tags.ITEM)\n",
    "    item_inputs = mm.InputBlockV2(item_schema)\n",
    "    candidate = mm.Encoder(item_inputs, mm.MLPBlock(layer_sizes))\n",
    "    \n",
    "    model = mm.RetrievalModelV2(\n",
    "        query=query,\n",
    "        candidate=candidate,\n",
    "        output=mm.ContrastiveOutput(\n",
    "            to_call=DotProduct(),\n",
    "            negative_samplers=\"in-batch\",\n",
    "            schema=item_schema.select_by_tag(Tags.ITEM_ID),\n",
    "        )\n",
    "    )\n",
    "    \n",
    "    #model = mm.TwoTowerModelV2(query, candidate)\n",
    "    \n",
    "    return model"
   ]
  },
  {
   "cell_type": "code",
   "execution_count": 6,
   "id": "-Z97gkRLBCU1",
   "metadata": {
    "id": "-Z97gkRLBCU1"
   },
   "outputs": [],
   "source": [
    "from merlin.models.utils.example_utils import workflow_fit_transform\n",
    "\n",
    "from merlin.schema.tags import Tags\n",
    "\n",
    "import merlin.models.tf as mm\n",
    "from merlin.io.dataset import Dataset as MerlinDataset\n",
    "\n",
    "train = MerlinDataset(os.path.join(output_train_dir, \"*.parquet\"), schema=schema, part_size=\"1GB\")\n",
    "valid = MerlinDataset(os.path.join(output_valid_dir, \"*.parquet\"), schema=schema, part_size=\"1GB\")\n",
    "\n",
    "item_schema = schema.select_by_tag(Tags.ITEM)\n",
    "user_schema = schema.select_by_tag(Tags.USER)\n"
   ]
  },
  {
   "cell_type": "markdown",
   "id": "me3j81lJBCU1",
   "metadata": {
    "id": "me3j81lJBCU1"
   },
   "source": [
    "Direct quote from [here](https://github.com/NVIDIA-Merlin/models/blob/main/examples/05-Retrieval-Model.ipynb)\n",
    "\n",
    "Other info on modeling setup\n",
    "\n",
    "### Negative sampling\n",
    "Many datasets for recommender systems contain implicit feedback with logs of user interactions like clicks, add-to-cart, purchases, music listening events, rather than explicit ratings that reflects user preferences over items. To be able to learn from implicit feedback, we use the general (and naive) assumption that the interacted items are more relevant for the user than the non-interacted ones. In Merlin Models we provide some scaleable negative sampling algorithms for the Item Retrieval Task. In particular, we use in this example the in-batch sampling algorithm which uses the items interacted by other users as negatives within the same mini-batch.\n",
    "\n",
    "### Building the Model\n",
    "Now, let's build our Two-Tower model. In a nutshell, we aggregate all user features to feed in user tower and feed the item features to the item tower. Then we compute the positive score by multiplying the user embedding with the item embedding and sample negative items (read more about negative sampling here and here), whose item embeddings are also multiplied by the user embedding. Then we apply the loss function on top of the positive and negative scores.\n",
    "\n",
    "- Other model types can be found on the [Merlin Models API Documentation Page](https://nvidia-merlin.github.io/models/main/api.html#tensorflow-models)\n",
    "\n",
    "### Vertex Experiments\n",
    "\n",
    "We will organize all of our runs with Merlin in one experiment id `spotify-merlin-train-full-data-v1`. Under this experiment, we will have multiple runs that will be tracked in the experiment interface as well as Tensorboard"
   ]
  },
  {
   "cell_type": "code",
   "execution_count": 8,
   "id": "tYuTmtwNBCU2",
   "metadata": {
    "id": "tYuTmtwNBCU2",
    "outputId": "58c4bdf1-2842-4762-c3c3-c0fc1d456a56"
   },
   "outputs": [
    {
     "name": "stderr",
     "output_type": "stream",
     "text": [
      "2023-03-09 19:05:11.934560: I tensorflow/core/profiler/lib/profiler_session.cc:101] Profiler session initializing.\n",
      "2023-03-09 19:05:11.934602: I tensorflow/core/profiler/lib/profiler_session.cc:116] Profiler session started.\n",
      "2023-03-09 19:05:11.934762: I tensorflow/core/profiler/backends/gpu/cupti_tracer.cc:1664] Profiler found 1 GPUs\n",
      "2023-03-09 19:05:12.230492: I tensorflow/core/profiler/lib/profiler_session.cc:128] Profiler session tear down.\n",
      "2023-03-09 19:05:12.230681: I tensorflow/core/profiler/backends/gpu/cupti_tracer.cc:1798] CUPTI activity buffer flushed\n"
     ]
    }
   ],
   "source": [
    "# wone_shot_cmd use this to track data in tensorboard\n",
    "from google.cloud import aiplatform as vertex_ai\n",
    "from datetime import datetime\n",
    "\n",
    "TIMESTAMP = datetime.utcnow().strftime('%y%m%d-%H%M%S')\n",
    "TB_RESOURCE_NAME = 'projects/934903580331/locations/us-central1/tensorboards/7336372589079560192' #fqn - project number then tensorboard id\n",
    "EXPERIMENT_NAME = f'spotify-merlin-train-full-data-v10-1'\n",
    "RUN_NAME = f'run-{EXPERIMENT_NAME}-{time.strftime(\"%Y%m%d-%H%M%S\")}'#be sure to think about run and experiment naming strategies so names don't collide\n",
    "logs_dir = f'{output_path}/tb_logs/{EXPERIMENT_NAME}'\n",
    "\n",
    "#helper function to get the tb-uploader command\n",
    "\n",
    "def get_upload_logs_to_manged_tb_command(ttl_hrs, oneshot=\"false\"):\n",
    "    \"\"\"\n",
    "    Run this and copy/paste the command into terminal to have\n",
    "    upload the tensorboard logs from this machine to the managed tb instance\n",
    "    Note that the log dir is at the granularity of the run to help select the proper\n",
    "    timestamped run in Tensorboard\n",
    "    You can also run this in one-shot mode after training is done\n",
    "    to upload all tb objects at once\n",
    "    \"\"\"\n",
    "    return(f\"\"\"tb-gcp-uploader --tensorboard_resource_name={TB_RESOURCE_NAME} \\\n",
    "      --logdir={logs_dir} \\\n",
    "      --experiment_name={EXPERIMENT_NAME} \\\n",
    "      --one_shot={oneshot} \\\n",
    "      --event_file_inactive_secs={60*60*ttl_hrs}\"\"\")\n",
    "\n",
    "vertex_ai.init(experiment=EXPERIMENT_NAME)\n",
    "\n",
    "\n",
    "# we are going to ecapsulate this one-shot log uploader via a custom callback:\n",
    "\n",
    "class UploadTBLogsBatchEnd(tf.keras.callbacks.Callback):\n",
    "    def on_epoch_end(self, epoch, logs=None):\n",
    "        os.system(get_upload_logs_to_manged_tb_command(ttl_hrs = 5, oneshot=\"true\"))\n",
    "\n",
    "layers = [512, 256, 128]\n",
    "LR = .001\n",
    "BS = 4096\n",
    "epoch = 10\n",
    "\n",
    "\n",
    "tensorboard_callback = tf.keras.callbacks.TensorBoard(\n",
    "        log_dir=logs_dir,\n",
    "        histogram_freq=0,\n",
    "        write_graph=True,\n",
    "        profile_batch=(20,50) #run profiler on steps 20-40 - enable this line if you want to run profiler from the utils/ notebook\n",
    "    )\n"
   ]
  },
  {
   "cell_type": "code",
   "execution_count": 9,
   "id": "bNvr-ethBCU2",
   "metadata": {
    "id": "bNvr-ethBCU2"
   },
   "outputs": [],
   "source": [
    "# with strategy.scope():\n",
    "from merlin.schema.tags import Tags\n",
    "import merlin.models.tf as mm\n",
    "from merlin.models.tf.outputs.base import DotProduct, MetricsFn, ModelOutput\n",
    "\n",
    "model = create_two_tower(\n",
    "    workflow_dir=output_path,\n",
    ")\n",
    "\n",
    "learning_rate= 0.01\n",
    "model.compile(\n",
    "    optimizer=tf.keras.optimizers.Adagrad(learning_rate),\n",
    "    run_eagerly=False,\n",
    "    metrics=[mm.RecallAt(1), mm.RecallAt(10), mm.NDCGAt(10)],\n",
    ")"
   ]
  },
  {
   "cell_type": "markdown",
   "id": "6AiAkVZxBCU2",
   "metadata": {
    "id": "6AiAkVZxBCU2"
   },
   "source": [
    "**Metrics:**\n",
    "\n",
    "The following information retrieval metrics are used to compute the Top-10 accuracy of recommendation lists containing all items:\n",
    "\n",
    "* **Normalized Discounted Cumulative Gain (NDCG@10)**: NDCG accounts for rank of the relevant item in the recommendation list and is a more fine-grained metric than HR, which only verifies whether the relevant item is among the top-k items.\n",
    "\n",
    "* **Recall@10:** Also known as HitRate@n when there is only one relevant item in the recommendation list. Recall just verifies whether the relevant item is among the top-n items."
   ]
  },
  {
   "cell_type": "code",
   "execution_count": 10,
   "id": "wMxQenMBBCU2",
   "metadata": {
    "id": "wMxQenMBBCU2",
    "tags": []
   },
   "outputs": [
    {
     "name": "stderr",
     "output_type": "stream",
     "text": [
      "/usr/local/lib/python3.8/dist-packages/merlin/schema/tags.py:148: UserWarning: Compound tags like Tags.USER_ID have been deprecated and will be removed in a future version. Please use the atomic versions of these tags, like [<Tags.USER: 'user'>, <Tags.ID: 'id'>].\n",
      "  warnings.warn(\n",
      "/usr/local/lib/python3.8/dist-packages/merlin/schema/tags.py:148: UserWarning: Compound tags like Tags.ITEM_ID have been deprecated and will be removed in a future version. Please use the atomic versions of these tags, like [<Tags.ITEM: 'item'>, <Tags.ID: 'id'>].\n",
      "  warnings.warn(\n",
      "2023-03-09 19:05:36.522429: I tensorflow/stream_executor/cuda/cuda_blas.cc:1633] TensorFloat-32 will be used for the matrix multiplication. This will only be logged once.\n"
     ]
    },
    {
     "name": "stdout",
     "output_type": "stream",
     "text": [
      "Epoch 1/10\n",
      "   19/15956 [..............................] - ETA: 11:24 - loss: 8.3180 - recall_at_1: 2.1288e-04 - recall_at_10: 0.0026 - ndcg_at_10: 0.0011 - regularization_loss: 0.0000e+00 - loss_batch: 8.3180"
     ]
    },
    {
     "name": "stderr",
     "output_type": "stream",
     "text": [
      "2023-03-09 19:05:55.895951: I tensorflow/core/profiler/lib/profiler_session.cc:101] Profiler session initializing.\n",
      "2023-03-09 19:05:55.896003: I tensorflow/core/profiler/lib/profiler_session.cc:116] Profiler session started.\n"
     ]
    },
    {
     "name": "stdout",
     "output_type": "stream",
     "text": [
      "   49/15956 [..............................] - ETA: 17:20 - loss: 8.3181 - recall_at_1: 2.3152e-04 - recall_at_10: 0.0025 - ndcg_at_10: 0.0011 - regularization_loss: 0.0000e+00 - loss_batch: 8.3181"
     ]
    },
    {
     "name": "stderr",
     "output_type": "stream",
     "text": [
      "2023-03-09 19:05:58.676365: I tensorflow/core/profiler/lib/profiler_session.cc:67] Profiler session collecting data.\n",
      "2023-03-09 19:05:58.683083: I tensorflow/core/profiler/backends/gpu/cupti_tracer.cc:1798] CUPTI activity buffer flushed\n",
      "2023-03-09 19:05:59.097925: I tensorflow/core/profiler/backends/gpu/cupti_collector.cc:521]  GpuTracer has collected 48165 callback api events and 45117 activity events. \n",
      "2023-03-09 19:05:59.928758: I tensorflow/core/profiler/lib/profiler_session.cc:128] Profiler session tear down.\n",
      "2023-03-09 19:06:02.077828: I tensorflow/core/profiler/rpc/client/save_profile.cc:136] Creating directory: gs://spotify-million-playlist-dataset/merlin-processed/workflow/2t-spotify-workflow/tb_logs/spotify-merlin-train-full-data-v10-1/plugins/profile/2023_03_09_19_06_00\n",
      "\n",
      "2023-03-09 19:06:03.627828: I tensorflow/core/profiler/rpc/client/save_profile.cc:142] Dumped gzipped tool data for trace.json.gz to gs://spotify-million-playlist-dataset/merlin-processed/workflow/2t-spotify-workflow/tb_logs/spotify-merlin-train-full-data-v10-1/plugins/profile/2023_03_09_19_06_00/935b6c487453.trace.json.gz\n",
      "2023-03-09 19:06:04.650005: I tensorflow/core/profiler/rpc/client/save_profile.cc:136] Creating directory: gs://spotify-million-playlist-dataset/merlin-processed/workflow/2t-spotify-workflow/tb_logs/spotify-merlin-train-full-data-v10-1/plugins/profile/2023_03_09_19_06_00\n",
      "\n",
      "2023-03-09 19:06:04.835243: I tensorflow/core/profiler/rpc/client/save_profile.cc:142] Dumped gzipped tool data for memory_profile.json.gz to gs://spotify-million-playlist-dataset/merlin-processed/workflow/2t-spotify-workflow/tb_logs/spotify-merlin-train-full-data-v10-1/plugins/profile/2023_03_09_19_06_00/935b6c487453.memory_profile.json.gz\n"
     ]
    },
    {
     "name": "stdout",
     "output_type": "stream",
     "text": [
      "   50/15956 [..............................] - ETA: 59:20 - loss: 8.3181 - recall_at_1: 2.3187e-04 - recall_at_10: 0.0025 - ndcg_at_10: 0.0011 - regularization_loss: 0.0000e+00 - loss_batch: 8.3181"
     ]
    },
    {
     "name": "stderr",
     "output_type": "stream",
     "text": [
      "2023-03-09 19:06:05.936679: I tensorflow/core/profiler/rpc/client/capture_profile.cc:251] Creating directory: gs://spotify-million-playlist-dataset/merlin-processed/workflow/2t-spotify-workflow/tb_logs/spotify-merlin-train-full-data-v10-1/plugins/profile/2023_03_09_19_06_00\n",
      "Dumped tool data for xplane.pb to gs://spotify-million-playlist-dataset/merlin-processed/workflow/2t-spotify-workflow/tb_logs/spotify-merlin-train-full-data-v10-1/plugins/profile/2023_03_09_19_06_00/935b6c487453.xplane.pb\n",
      "Dumped tool data for overview_page.pb to gs://spotify-million-playlist-dataset/merlin-processed/workflow/2t-spotify-workflow/tb_logs/spotify-merlin-train-full-data-v10-1/plugins/profile/2023_03_09_19_06_00/935b6c487453.overview_page.pb\n",
      "Dumped tool data for input_pipeline.pb to gs://spotify-million-playlist-dataset/merlin-processed/workflow/2t-spotify-workflow/tb_logs/spotify-merlin-train-full-data-v10-1/plugins/profile/2023_03_09_19_06_00/935b6c487453.input_pipeline.pb\n",
      "Dumped tool data for tensorflow_stats.pb to gs://spotify-million-playlist-dataset/merlin-processed/workflow/2t-spotify-workflow/tb_logs/spotify-merlin-train-full-data-v10-1/plugins/profile/2023_03_09_19_06_00/935b6c487453.tensorflow_stats.pb\n",
      "Dumped tool data for kernel_stats.pb to gs://spotify-million-playlist-dataset/merlin-processed/workflow/2t-spotify-workflow/tb_logs/spotify-merlin-train-full-data-v10-1/plugins/profile/2023_03_09_19_06_00/935b6c487453.kernel_stats.pb\n",
      "\n"
     ]
    },
    {
     "name": "stdout",
     "output_type": "stream",
     "text": [
      "15956/15956 [==============================] - ETA: 0s - loss: 8.3186 - recall_at_1: 2.5495e-04 - recall_at_10: 0.0025 - ndcg_at_10: 0.0011 - regularization_loss: 0.0000e+00 - loss_batch: 8.3174"
     ]
    },
    {
     "name": "stderr",
     "output_type": "stream",
     "text": [
      "2023-03-09 19:17:40.875320: I tensorflow/core/platform/cpu_feature_guard.cc:194] This TensorFlow binary is optimized with oneAPI Deep Neural Network Library (oneDNN) to use the following CPU instructions in performance-critical operations:  SSE3 SSE4.1 SSE4.2 AVX\n",
      "To enable them in other operations, rebuild TensorFlow with the appropriate compiler flags.\n",
      "2023-03-09 19:17:41.015560: I tensorflow/core/util/util.cc:169] oneDNN custom operations are on. You may see slightly different numerical results due to floating-point round-off errors from different computation orders. To turn them off, set the environment variable `TF_ENABLE_ONEDNN_OPTS=0`.\n"
     ]
    },
    {
     "name": "stdout",
     "output_type": "stream",
     "text": [
      "View your Tensorboard at https://us-central1.tensorboard.googleusercontent.com/experiment/projects+934903580331+locations+us-central1+tensorboards+7336372589079560192+experiments+spotify-merlin-train-full-data-v10-1\n",
      "\u001b[1m[2023-03-09T19:17:45]\u001b[0m Started scanning logdir.\n",
      "\u001b[1m[2023-03-09T19:17:47]\u001b[0m Total uploaded: 18 scalars, 0 tensors, 1 binary objects (580.1 kB)\n",
      "15956/15956 [==============================] - 729s 45ms/step - loss: 8.3186 - recall_at_1: 2.5495e-04 - recall_at_10: 0.0025 - ndcg_at_10: 0.0011 - regularization_loss: 0.0000e+00 - loss_batch: 8.3174 - val_loss: 8.3148 - val_recall_at_1: 3.2169e-04 - val_recall_at_10: 0.0029 - val_ndcg_at_10: 0.0013 - val_regularization_loss: 0.0000e+00 - val_loss_batch: 7.8881\n",
      "Epoch 2/10\n",
      "15956/15956 [==============================] - ETA: 0s - loss: 8.3166 - recall_at_1: 2.9973e-04 - recall_at_10: 0.0028 - ndcg_at_10: 0.0013 - regularization_loss: 0.0000e+00 - loss_batch: 8.3166"
     ]
    },
    {
     "name": "stderr",
     "output_type": "stream",
     "text": [
      "2023-03-09 19:29:16.971124: I tensorflow/core/platform/cpu_feature_guard.cc:194] This TensorFlow binary is optimized with oneAPI Deep Neural Network Library (oneDNN) to use the following CPU instructions in performance-critical operations:  SSE3 SSE4.1 SSE4.2 AVX\n",
      "To enable them in other operations, rebuild TensorFlow with the appropriate compiler flags.\n",
      "2023-03-09 19:29:17.116569: I tensorflow/core/util/util.cc:169] oneDNN custom operations are on. You may see slightly different numerical results due to floating-point round-off errors from different computation orders. To turn them off, set the environment variable `TF_ENABLE_ONEDNN_OPTS=0`.\n",
      "W0309 19:29:19.020559 140711737796416 uploader.py:385] Please consider uploading to a new experiment instead of an existing one, as the former allows for better upload performance.\n"
     ]
    },
    {
     "name": "stdout",
     "output_type": "stream",
     "text": [
      "View your Tensorboard at https://us-central1.tensorboard.googleusercontent.com/experiment/projects+934903580331+locations+us-central1+tensorboards+7336372589079560192+experiments+spotify-merlin-train-full-data-v10-1\n",
      "\u001b[1m[2023-03-09T19:29:19]\u001b[0m Started scanning logdir.\n",
      "\u001b[1m[2023-03-09T19:29:26]\u001b[0m Total uploaded: 36 scalars, 0 tensors, 1 binary objects (580.1 kB)\n",
      "15956/15956 [==============================] - 699s 44ms/step - loss: 8.3166 - recall_at_1: 2.9973e-04 - recall_at_10: 0.0028 - ndcg_at_10: 0.0013 - regularization_loss: 0.0000e+00 - loss_batch: 8.3166 - val_loss: 8.3143 - val_recall_at_1: 3.4586e-04 - val_recall_at_10: 0.0031 - val_ndcg_at_10: 0.0014 - val_regularization_loss: 0.0000e+00 - val_loss_batch: 7.8875\n",
      "Epoch 3/10\n",
      "15955/15956 [============================>.] - ETA: 0s - loss: 8.3149 - recall_at_1: 3.1716e-04 - recall_at_10: 0.0029 - ndcg_at_10: 0.0013 - regularization_loss: 0.0000e+00 - loss_batch: 8.3158"
     ]
    },
    {
     "name": "stderr",
     "output_type": "stream",
     "text": [
      "2023-03-09 19:40:50.097904: I tensorflow/core/platform/cpu_feature_guard.cc:194] This TensorFlow binary is optimized with oneAPI Deep Neural Network Library (oneDNN) to use the following CPU instructions in performance-critical operations:  SSE3 SSE4.1 SSE4.2 AVX\n",
      "To enable them in other operations, rebuild TensorFlow with the appropriate compiler flags.\n",
      "2023-03-09 19:40:50.235296: I tensorflow/core/util/util.cc:169] oneDNN custom operations are on. You may see slightly different numerical results due to floating-point round-off errors from different computation orders. To turn them off, set the environment variable `TF_ENABLE_ONEDNN_OPTS=0`.\n",
      "W0309 19:40:52.105258 140234010523456 uploader.py:385] Please consider uploading to a new experiment instead of an existing one, as the former allows for better upload performance.\n"
     ]
    },
    {
     "name": "stdout",
     "output_type": "stream",
     "text": [
      "View your Tensorboard at https://us-central1.tensorboard.googleusercontent.com/experiment/projects+934903580331+locations+us-central1+tensorboards+7336372589079560192+experiments+spotify-merlin-train-full-data-v10-1\n",
      "\u001b[1m[2023-03-09T19:40:52]\u001b[0m Started scanning logdir.\n",
      "\u001b[1m[2023-03-09T19:40:58]\u001b[0m Total uploaded: 54 scalars, 0 tensors, 1 binary objects (580.1 kB)\n",
      "15956/15956 [==============================] - 692s 43ms/step - loss: 8.3149 - recall_at_1: 3.1716e-04 - recall_at_10: 0.0029 - ndcg_at_10: 0.0013 - regularization_loss: 0.0000e+00 - loss_batch: 8.3158 - val_loss: 8.3135 - val_recall_at_1: 3.5945e-04 - val_recall_at_10: 0.0031 - val_ndcg_at_10: 0.0015 - val_regularization_loss: 0.0000e+00 - val_loss_batch: 7.8863\n",
      "Epoch 4/10\n",
      "15956/15956 [==============================] - ETA: 0s - loss: 8.3125 - recall_at_1: 3.3207e-04 - recall_at_10: 0.0030 - ndcg_at_10: 0.0014 - regularization_loss: 0.0000e+00 - loss_batch: 8.3126"
     ]
    },
    {
     "name": "stderr",
     "output_type": "stream",
     "text": [
      "2023-03-09 19:52:21.947033: I tensorflow/core/platform/cpu_feature_guard.cc:194] This TensorFlow binary is optimized with oneAPI Deep Neural Network Library (oneDNN) to use the following CPU instructions in performance-critical operations:  SSE3 SSE4.1 SSE4.2 AVX\n",
      "To enable them in other operations, rebuild TensorFlow with the appropriate compiler flags.\n",
      "2023-03-09 19:52:22.084211: I tensorflow/core/util/util.cc:169] oneDNN custom operations are on. You may see slightly different numerical results due to floating-point round-off errors from different computation orders. To turn them off, set the environment variable `TF_ENABLE_ONEDNN_OPTS=0`.\n",
      "W0309 19:52:24.013774 139854344197952 uploader.py:385] Please consider uploading to a new experiment instead of an existing one, as the former allows for better upload performance.\n"
     ]
    },
    {
     "name": "stdout",
     "output_type": "stream",
     "text": [
      "View your Tensorboard at https://us-central1.tensorboard.googleusercontent.com/experiment/projects+934903580331+locations+us-central1+tensorboards+7336372589079560192+experiments+spotify-merlin-train-full-data-v10-1\n",
      "\u001b[1m[2023-03-09T19:52:24]\u001b[0m Started scanning logdir.\n",
      "\u001b[1m[2023-03-09T19:52:31]\u001b[0m Total uploaded: 72 scalars, 0 tensors, 1 binary objects (580.1 kB)\n",
      "15956/15956 [==============================] - 693s 43ms/step - loss: 8.3125 - recall_at_1: 3.3207e-04 - recall_at_10: 0.0030 - ndcg_at_10: 0.0014 - regularization_loss: 0.0000e+00 - loss_batch: 8.3125 - val_loss: 8.3057 - val_recall_at_1: 5.3766e-04 - val_recall_at_10: 0.0038 - val_ndcg_at_10: 0.0018 - val_regularization_loss: 0.0000e+00 - val_loss_batch: 7.8713\n",
      "Epoch 5/10\n",
      "15956/15956 [==============================] - ETA: 0s - loss: 8.2358 - recall_at_1: 4.8095e-04 - recall_at_10: 0.0039 - ndcg_at_10: 0.0018 - regularization_loss: 0.0000e+00 - loss_batch: 8.2358"
     ]
    },
    {
     "name": "stderr",
     "output_type": "stream",
     "text": [
      "2023-03-09 20:03:55.909682: I tensorflow/core/platform/cpu_feature_guard.cc:194] This TensorFlow binary is optimized with oneAPI Deep Neural Network Library (oneDNN) to use the following CPU instructions in performance-critical operations:  SSE3 SSE4.1 SSE4.2 AVX\n",
      "To enable them in other operations, rebuild TensorFlow with the appropriate compiler flags.\n",
      "2023-03-09 20:03:56.048011: I tensorflow/core/util/util.cc:169] oneDNN custom operations are on. You may see slightly different numerical results due to floating-point round-off errors from different computation orders. To turn them off, set the environment variable `TF_ENABLE_ONEDNN_OPTS=0`.\n",
      "W0309 20:03:57.947895 139621077890880 uploader.py:385] Please consider uploading to a new experiment instead of an existing one, as the former allows for better upload performance.\n"
     ]
    },
    {
     "name": "stdout",
     "output_type": "stream",
     "text": [
      "View your Tensorboard at https://us-central1.tensorboard.googleusercontent.com/experiment/projects+934903580331+locations+us-central1+tensorboards+7336372589079560192+experiments+spotify-merlin-train-full-data-v10-1\n",
      "\u001b[1m[2023-03-09T20:03:58]\u001b[0m Started scanning logdir.\n",
      "\u001b[1m[2023-03-09T20:04:06]\u001b[0m Total uploaded: 90 scalars, 0 tensors, 1 binary objects (580.1 kB)\n",
      "15956/15956 [==============================] - 694s 43ms/step - loss: 8.2358 - recall_at_1: 4.8095e-04 - recall_at_10: 0.0039 - ndcg_at_10: 0.0018 - regularization_loss: 0.0000e+00 - loss_batch: 8.2358 - val_loss: 8.2106 - val_recall_at_1: 7.0380e-04 - val_recall_at_10: 0.0055 - val_ndcg_at_10: 0.0026 - val_regularization_loss: 0.0000e+00 - val_loss_batch: 7.7878\n",
      "Epoch 6/10\n",
      "15956/15956 [==============================] - ETA: 0s - loss: 8.1293 - recall_at_1: 6.1879e-04 - recall_at_10: 0.0055 - ndcg_at_10: 0.0026 - regularization_loss: 0.0000e+00 - loss_batch: 8.1293"
     ]
    },
    {
     "name": "stderr",
     "output_type": "stream",
     "text": [
      "2023-03-09 20:15:25.702778: I tensorflow/core/platform/cpu_feature_guard.cc:194] This TensorFlow binary is optimized with oneAPI Deep Neural Network Library (oneDNN) to use the following CPU instructions in performance-critical operations:  SSE3 SSE4.1 SSE4.2 AVX\n",
      "To enable them in other operations, rebuild TensorFlow with the appropriate compiler flags.\n",
      "2023-03-09 20:15:25.842142: I tensorflow/core/util/util.cc:169] oneDNN custom operations are on. You may see slightly different numerical results due to floating-point round-off errors from different computation orders. To turn them off, set the environment variable `TF_ENABLE_ONEDNN_OPTS=0`.\n",
      "W0309 20:15:27.786303 140025967200064 uploader.py:385] Please consider uploading to a new experiment instead of an existing one, as the former allows for better upload performance.\n"
     ]
    },
    {
     "name": "stdout",
     "output_type": "stream",
     "text": [
      "View your Tensorboard at https://us-central1.tensorboard.googleusercontent.com/experiment/projects+934903580331+locations+us-central1+tensorboards+7336372589079560192+experiments+spotify-merlin-train-full-data-v10-1\n",
      "\u001b[1m[2023-03-09T20:15:28]\u001b[0m Started scanning logdir.\n",
      "\u001b[1m[2023-03-09T20:15:35]\u001b[0m Total uploaded: 108 scalars, 0 tensors, 1 binary objects (580.1 kB)\n",
      "15956/15956 [==============================] - 689s 43ms/step - loss: 8.1293 - recall_at_1: 6.1880e-04 - recall_at_10: 0.0055 - ndcg_at_10: 0.0026 - regularization_loss: 0.0000e+00 - loss_batch: 8.1293 - val_loss: 8.1681 - val_recall_at_1: 8.0499e-04 - val_recall_at_10: 0.0061 - val_ndcg_at_10: 0.0029 - val_regularization_loss: 0.0000e+00 - val_loss_batch: 7.7673\n",
      "Epoch 7/10\n",
      "15956/15956 [==============================] - ETA: 0s - loss: 8.0906 - recall_at_1: 6.8988e-04 - recall_at_10: 0.0060 - ndcg_at_10: 0.0028 - regularization_loss: 0.0000e+00 - loss_batch: 8.0906"
     ]
    },
    {
     "name": "stderr",
     "output_type": "stream",
     "text": [
      "2023-03-09 20:26:56.277917: I tensorflow/core/platform/cpu_feature_guard.cc:194] This TensorFlow binary is optimized with oneAPI Deep Neural Network Library (oneDNN) to use the following CPU instructions in performance-critical operations:  SSE3 SSE4.1 SSE4.2 AVX\n",
      "To enable them in other operations, rebuild TensorFlow with the appropriate compiler flags.\n",
      "2023-03-09 20:26:56.416049: I tensorflow/core/util/util.cc:169] oneDNN custom operations are on. You may see slightly different numerical results due to floating-point round-off errors from different computation orders. To turn them off, set the environment variable `TF_ENABLE_ONEDNN_OPTS=0`.\n",
      "W0309 20:26:58.322442 140450758887232 uploader.py:385] Please consider uploading to a new experiment instead of an existing one, as the former allows for better upload performance.\n"
     ]
    },
    {
     "name": "stdout",
     "output_type": "stream",
     "text": [
      "View your Tensorboard at https://us-central1.tensorboard.googleusercontent.com/experiment/projects+934903580331+locations+us-central1+tensorboards+7336372589079560192+experiments+spotify-merlin-train-full-data-v10-1\n",
      "\u001b[1m[2023-03-09T20:26:58]\u001b[0m Started scanning logdir.\n",
      "\u001b[1m[2023-03-09T20:27:05]\u001b[0m Total uploaded: 126 scalars, 0 tensors, 1 binary objects (580.1 kB)\n",
      "15956/15956 [==============================] - 691s 43ms/step - loss: 8.0906 - recall_at_1: 6.8988e-04 - recall_at_10: 0.0060 - ndcg_at_10: 0.0028 - regularization_loss: 0.0000e+00 - loss_batch: 8.0906 - val_loss: 8.1419 - val_recall_at_1: 8.4878e-04 - val_recall_at_10: 0.0066 - val_ndcg_at_10: 0.0031 - val_regularization_loss: 0.0000e+00 - val_loss_batch: 7.7442\n",
      "Epoch 8/10\n",
      "15955/15956 [============================>.] - ETA: 0s - loss: 8.0559 - recall_at_1: 7.4441e-04 - recall_at_10: 0.0068 - ndcg_at_10: 0.0031 - regularization_loss: 0.0000e+00 - loss_batch: 8.0559"
     ]
    },
    {
     "name": "stderr",
     "output_type": "stream",
     "text": [
      "2023-03-09 20:38:26.861290: I tensorflow/core/platform/cpu_feature_guard.cc:194] This TensorFlow binary is optimized with oneAPI Deep Neural Network Library (oneDNN) to use the following CPU instructions in performance-critical operations:  SSE3 SSE4.1 SSE4.2 AVX\n",
      "To enable them in other operations, rebuild TensorFlow with the appropriate compiler flags.\n",
      "2023-03-09 20:38:26.999779: I tensorflow/core/util/util.cc:169] oneDNN custom operations are on. You may see slightly different numerical results due to floating-point round-off errors from different computation orders. To turn them off, set the environment variable `TF_ENABLE_ONEDNN_OPTS=0`.\n",
      "W0309 20:38:28.875708 139648721307456 uploader.py:385] Please consider uploading to a new experiment instead of an existing one, as the former allows for better upload performance.\n"
     ]
    },
    {
     "name": "stdout",
     "output_type": "stream",
     "text": [
      "View your Tensorboard at https://us-central1.tensorboard.googleusercontent.com/experiment/projects+934903580331+locations+us-central1+tensorboards+7336372589079560192+experiments+spotify-merlin-train-full-data-v10-1\n",
      "\u001b[1m[2023-03-09T20:38:29]\u001b[0m Started scanning logdir.\n",
      "\u001b[1m[2023-03-09T20:38:36]\u001b[0m Total uploaded: 144 scalars, 0 tensors, 1 binary objects (580.1 kB)\n",
      "15956/15956 [==============================] - 690s 43ms/step - loss: 8.0559 - recall_at_1: 7.4443e-04 - recall_at_10: 0.0068 - ndcg_at_10: 0.0031 - regularization_loss: 0.0000e+00 - loss_batch: 8.0559 - val_loss: 8.0984 - val_recall_at_1: 0.0013 - val_recall_at_10: 0.0089 - val_ndcg_at_10: 0.0043 - val_regularization_loss: 0.0000e+00 - val_loss_batch: 7.6861\n",
      "Epoch 9/10\n",
      "15956/15956 [==============================] - ETA: 0s - loss: 7.9460 - recall_at_1: 0.0011 - recall_at_10: 0.0098 - ndcg_at_10: 0.0046 - regularization_loss: 0.0000e+00 - loss_batch: 7.9460"
     ]
    },
    {
     "name": "stderr",
     "output_type": "stream",
     "text": [
      "2023-03-09 20:49:55.953468: I tensorflow/core/platform/cpu_feature_guard.cc:194] This TensorFlow binary is optimized with oneAPI Deep Neural Network Library (oneDNN) to use the following CPU instructions in performance-critical operations:  SSE3 SSE4.1 SSE4.2 AVX\n",
      "To enable them in other operations, rebuild TensorFlow with the appropriate compiler flags.\n",
      "2023-03-09 20:49:56.091667: I tensorflow/core/util/util.cc:169] oneDNN custom operations are on. You may see slightly different numerical results due to floating-point round-off errors from different computation orders. To turn them off, set the environment variable `TF_ENABLE_ONEDNN_OPTS=0`.\n",
      "W0309 20:49:57.958860 139737163654976 uploader.py:385] Please consider uploading to a new experiment instead of an existing one, as the former allows for better upload performance.\n"
     ]
    },
    {
     "name": "stdout",
     "output_type": "stream",
     "text": [
      "View your Tensorboard at https://us-central1.tensorboard.googleusercontent.com/experiment/projects+934903580331+locations+us-central1+tensorboards+7336372589079560192+experiments+spotify-merlin-train-full-data-v10-1\n",
      "\u001b[1m[2023-03-09T20:49:58]\u001b[0m Started scanning logdir.\n",
      "\u001b[1m[2023-03-09T20:50:05]\u001b[0m Total uploaded: 162 scalars, 0 tensors, 1 binary objects (580.1 kB)\n",
      "15956/15956 [==============================] - 689s 43ms/step - loss: 7.9460 - recall_at_1: 0.0011 - recall_at_10: 0.0098 - ndcg_at_10: 0.0046 - regularization_loss: 0.0000e+00 - loss_batch: 7.9460 - val_loss: 7.8924 - val_recall_at_1: 0.0016 - val_recall_at_10: 0.0132 - val_ndcg_at_10: 0.0062 - val_regularization_loss: 0.0000e+00 - val_loss_batch: 7.3995\n",
      "Epoch 10/10\n",
      " 2615/15956 [===>..........................] - ETA: 9:13 - loss: 7.8027 - recall_at_1: 0.0017 - recall_at_10: 0.0150 - ndcg_at_10: 0.0070 - regularization_loss: 0.0000e+00 - loss_batch: 7.8027"
     ]
    },
    {
     "name": "stderr",
     "output_type": "stream",
     "text": [
      "IOPub data rate exceeded.\n",
      "The Jupyter server will temporarily stop sending output\n",
      "to the client in order to avoid crashing it.\n",
      "To change this limit, set the config variable\n",
      "`--ServerApp.iopub_data_rate_limit`.\n",
      "\n",
      "Current values:\n",
      "ServerApp.iopub_data_rate_limit=1000000.0 (bytes/sec)\n",
      "ServerApp.rate_limit_window=3.0 (secs)\n",
      "\n"
     ]
    },
    {
     "name": "stdout",
     "output_type": "stream",
     "text": [
      "15956/15956 [==============================] - ETA: 0s - loss: 7.7038 - recall_at_1: 0.0018 - recall_at_10: 0.0163 - ndcg_at_10: 0.0075 - regularization_loss: 0.0000e+00 - loss_batch: 7.7038"
     ]
    },
    {
     "name": "stderr",
     "output_type": "stream",
     "text": [
      "2023-03-09 21:01:21.061870: I tensorflow/core/platform/cpu_feature_guard.cc:194] This TensorFlow binary is optimized with oneAPI Deep Neural Network Library (oneDNN) to use the following CPU instructions in performance-critical operations:  SSE3 SSE4.1 SSE4.2 AVX\n",
      "To enable them in other operations, rebuild TensorFlow with the appropriate compiler flags.\n",
      "2023-03-09 21:01:21.199655: I tensorflow/core/util/util.cc:169] oneDNN custom operations are on. You may see slightly different numerical results due to floating-point round-off errors from different computation orders. To turn them off, set the environment variable `TF_ENABLE_ONEDNN_OPTS=0`.\n",
      "W0309 21:01:23.112980 140400593688384 uploader.py:385] Please consider uploading to a new experiment instead of an existing one, as the former allows for better upload performance.\n"
     ]
    },
    {
     "name": "stdout",
     "output_type": "stream",
     "text": [
      "View your Tensorboard at https://us-central1.tensorboard.googleusercontent.com/experiment/projects+934903580331+locations+us-central1+tensorboards+7336372589079560192+experiments+spotify-merlin-train-full-data-v10-1\n",
      "\u001b[1m[2023-03-09T21:01:23]\u001b[0m Started scanning logdir.\n",
      "\u001b[1m[2023-03-09T21:01:30]\u001b[0m Total uploaded: 180 scalars, 0 tensors, 1 binary objects (580.1 kB)\n",
      "15956/15956 [==============================] - 686s 43ms/step - loss: 7.7038 - recall_at_1: 0.0018 - recall_at_10: 0.0163 - ndcg_at_10: 0.0075 - regularization_loss: 0.0000e+00 - loss_batch: 7.7038 - val_loss: 7.6681 - val_recall_at_1: 0.0023 - val_recall_at_10: 0.0195 - val_ndcg_at_10: 0.0092 - val_regularization_loss: 0.0000e+00 - val_loss_batch: 7.2053\n"
     ]
    }
   ],
   "source": [
    "# model.set_retrieval_candidates_for_evaluation(train)\n",
    "opt = tf.keras.optimizers.Adagrad(learning_rate=LR)\n",
    "model.compile(optimizer=opt, run_eagerly=False,\n",
    "              metrics=[mm.RecallAt(1),\n",
    "                       mm.RecallAt(10),\n",
    "                       mm.NDCGAt(10)],\n",
    "             )\n",
    "\n",
    "# one_shot_cmd = get_upload_logs_to_manged_tb_command(oneshot=\"true\")\n",
    "# ! $one_shot_cmd\n",
    "\n",
    "model.fit(train,\n",
    "          validation_data=valid,\n",
    "          batch_size=BS,\n",
    "          epochs=epoch,\n",
    "          # steps_per_epoch=20,\n",
    "          callbacks=[tensorboard_callback,\n",
    "                     UploadTBLogsBatchEnd()],)\n",
    "\n",
    "#get the metrics for the experiment run\n",
    "history_keys = model.history.history.keys()\n",
    "\n",
    "#upload everything to  tb only do this if you were not streaming with the above command\n",
    "\n",
    "\n",
    "vertex_ai.start_run(RUN_NAME, tensorboard=TB_RESOURCE_NAME)\n",
    "\n",
    "vertex_ai.log_params({\"layers\": str(layers),\n",
    "                      \"learning_rate\": LR,\n",
    "                        \"num_epochs\": epoch,\n",
    "                        \"batch_size\": BS,\n",
    "                     })\n",
    "\n",
    "metrics_dict = {}\n",
    "_ = [metrics_dict.update({key: model.history.history[key][-1]}) for key in history_keys]\n",
    "metrics_dict\n",
    "vertex_ai.log_metrics(metrics_dict)\n",
    "vertex_ai.end_run() #end collecting metrics and the run is complete"
   ]
  },
  {
   "cell_type": "markdown",
   "id": "sSzIilEUBCU2",
   "metadata": {
    "id": "sSzIilEUBCU2"
   },
   "source": [
    "- The One-shot command above will download your metrics to tensorboard - and will be avialble in the Experiments tab of Vertex\n",
    "\n",
    "#### Ideally you should be seeing GPU utilization like this - play with batch size to target ~ 70-80% utilization\n",
    "![](img/merlin-training-nvtop.png)"
   ]
  },
  {
   "cell_type": "markdown",
   "id": "U8_ea6jgBCU3",
   "metadata": {
    "id": "U8_ea6jgBCU3"
   },
   "source": [
    "### Plotting performance of loss and recall"
   ]
  },
  {
   "cell_type": "code",
   "execution_count": 11,
   "id": "W3-3fmSLBCU3",
   "metadata": {
    "id": "W3-3fmSLBCU3"
   },
   "outputs": [
    {
     "data": {
      "image/png": "[encoded data removed]",
      "text/plain": [
       "<Figure size 640x480 with 1 Axes>"
      ]
     },
     "metadata": {},
     "output_type": "display_data"
    }
   ],
   "source": [
    "import matplotlib.pyplot as plt\n",
    "\n",
    "def plot_performance(x, y1, y2, label_1, label_2, label_y):\n",
    "    plt.plot(x, y1, label = label_1)\n",
    "    plt.plot(x, y2, label = label_2)\n",
    "    plt.xlabel('Epoch')\n",
    "    plt.ylabel(label_y)\n",
    "    plt.title(label_y)\n",
    "    plt.legend()\n",
    "    plt.show()\n",
    "\n",
    "\n",
    "plot_performance(x=range(epoch),\n",
    "                 y1=model.history.history['loss'],\n",
    "                 y2=model.history.history['val_loss'],\n",
    "                 label_1='train-loss',\n",
    "                 label_2='val-los',\n",
    "                 label_y='loss')"
   ]
  },
  {
   "cell_type": "markdown",
   "id": "zUEKDWpQBCU3",
   "metadata": {
    "id": "zUEKDWpQBCU3"
   },
   "source": [
    "#### Looking at the recall of predicting the next song by epoch"
   ]
  },
  {
   "cell_type": "code",
   "execution_count": 12,
   "id": "QtjNOv74BCU3",
   "metadata": {
    "id": "QtjNOv74BCU3"
   },
   "outputs": [
    {
     "data": {
      "image/png": "[encoded data removed]",
      "text/plain": [
       "<Figure size 640x480 with 1 Axes>"
      ]
     },
     "metadata": {},
     "output_type": "display_data"
    }
   ],
   "source": [
    "plot_performance(x=range(epoch),\n",
    "                 y1=model.history.history['recall_at_1'],\n",
    "                 y2=model.history.history['val_recall_at_1'],\n",
    "                 label_1='recall_at_1',\n",
    "                 label_2='recall_at_1_val',\n",
    "                 label_y='recall_at_1')"
   ]
  },
  {
   "cell_type": "markdown",
   "id": "XbZCKwD3BCU3",
   "metadata": {
    "id": "XbZCKwD3BCU3"
   },
   "source": [
    "#### Save the Query Model"
   ]
  },
  {
   "cell_type": "code",
   "execution_count": 13,
   "id": "0cec944c-a0c0-45b5-acb6-ff0f0aedae4f",
   "metadata": {},
   "outputs": [
    {
     "name": "stderr",
     "output_type": "stream",
     "text": [
      "/usr/local/lib/python3.8/dist-packages/merlin/schema/tags.py:148: UserWarning: Compound tags like Tags.USER_ID have been deprecated and will be removed in a future version. Please use the atomic versions of these tags, like [<Tags.USER: 'user'>, <Tags.ID: 'id'>].\n",
      "  warnings.warn(\n"
     ]
    }
   ],
   "source": [
    "query_tower = model.query_encoder\n",
    "\n",
    "query_tower.save('query_model/')"
   ]
  },
  {
   "cell_type": "code",
   "execution_count": 14,
   "id": "fe7be571-b080-4608-a6f5-92f4cee9b290",
   "metadata": {},
   "outputs": [
    {
     "data": {
      "text/plain": [
       "'spotify-million-playlist-dataset'"
      ]
     },
     "execution_count": 14,
     "metadata": {},
     "output_type": "execute_result"
    }
   ],
   "source": [
    "BUCKET.replace('gs://','')"
   ]
  },
  {
   "cell_type": "code",
   "execution_count": 16,
   "id": "517dd992-4cbd-420d-860c-20e429dd0275",
   "metadata": {},
   "outputs": [],
   "source": [
    "from google.cloud import storage\n",
    "import glob\n",
    "\n",
    "import glob\n",
    "import os \n",
    "from google.cloud import storage\n",
    "\n",
    "GCS_CLIENT = storage.Client()\n",
    "def upload_from_directory(directory_path: str, dest_bucket_name: str, dest_blob_name: str):\n",
    "    rel_paths = glob.glob(directory_path + '/**', recursive=True)\n",
    "    bucket = GCS_CLIENT.get_bucket(dest_bucket_name)\n",
    "    for local_file in rel_paths:\n",
    "        remote_path = f'{dest_blob_name}/{\"/\".join(local_file.split(os.sep)[1:])}'\n",
    "        if os.path.isfile(local_file):\n",
    "            blob = bucket.blob(remote_path)\n",
    "            blob.upload_from_filename(local_file)\n",
    "\n",
    "dest_blob = 'merlin-processed/query_model_merlin'\n",
    "upload_from_directory('query_model', BUCKET.replace('gs://',''), dest_blob)"
   ]
  },
  {
   "cell_type": "code",
   "execution_count": 15,
   "id": "91173f25-dc5e-4e96-8129-1c6883478f13",
   "metadata": {},
   "outputs": [
    {
     "data": {
      "text/plain": [
       "'gs://spotify-million-playlist-dataset/merlin-processed/workflow/'"
      ]
     },
     "execution_count": 15,
     "metadata": {},
     "output_type": "execute_result"
    }
   ],
   "source": [
    "output_workflow_dir"
   ]
  },
  {
   "cell_type": "markdown",
   "id": "0ANbgj0TBCU4",
   "metadata": {
    "id": "0ANbgj0TBCU4"
   },
   "source": [
    "### Save embeddings to GCS for each song - this will become our Matching Engine index"
   ]
  },
  {
   "cell_type": "code",
   "execution_count": 17,
   "id": "qEiU2xFJBCU4",
   "metadata": {
    "id": "qEiU2xFJBCU4"
   },
   "outputs": [],
   "source": [
    "from merlin.models.utils.dataset import unique_rows_by_features\n",
    "\n",
    "item_features = (\n",
    "    unique_rows_by_features(train, Tags.ITEM, Tags.ID)\n",
    ")\n",
    "\n",
    "item_features_val = (\n",
    "    unique_rows_by_features(valid, Tags.ITEM, Tags.ID)\n",
    ")"
   ]
  },
  {
   "cell_type": "code",
   "execution_count": 18,
   "id": "hh_DbVpkBCU4",
   "metadata": {
    "id": "hh_DbVpkBCU4",
    "outputId": "4c28c2e6-8472-456c-ea17-64dffe9f57ff"
   },
   "outputs": [
    {
     "name": "stderr",
     "output_type": "stream",
     "text": [
      "/usr/local/lib/python3.8/dist-packages/merlin/schema/tags.py:148: UserWarning: Compound tags like Tags.ITEM_ID have been deprecated and will be removed in a future version. Please use the atomic versions of these tags, like [<Tags.ITEM: 'item'>, <Tags.ID: 'id'>].\n",
      "  warnings.warn(\n",
      "/usr/local/lib/python3.8/dist-packages/merlin/schema/tags.py:148: UserWarning: Compound tags like Tags.ITEM_ID have been deprecated and will be removed in a future version. Please use the atomic versions of these tags, like [<Tags.ITEM: 'item'>, <Tags.ID: 'id'>].\n",
      "  warnings.warn(\n"
     ]
    }
   ],
   "source": [
    "item_embs = model.candidate_embeddings(\n",
    "    item_features, index=item_features.schema['track_uri_can'], batch_size=10000\n",
    ")"
   ]
  },
  {
   "cell_type": "code",
   "execution_count": 19,
   "id": "7OUlX_34BCU4",
   "metadata": {
    "id": "7OUlX_34BCU4",
    "outputId": "80e711db-363c-4cbe-e0e4-d1177a1b22b7"
   },
   "outputs": [
    {
     "name": "stderr",
     "output_type": "stream",
     "text": [
      "/usr/local/lib/python3.8/dist-packages/merlin/schema/tags.py:148: UserWarning: Compound tags like Tags.ITEM_ID have been deprecated and will be removed in a future version. Please use the atomic versions of these tags, like [<Tags.ITEM: 'item'>, <Tags.ID: 'id'>].\n",
      "  warnings.warn(\n",
      "/usr/local/lib/python3.8/dist-packages/merlin/schema/tags.py:148: UserWarning: Compound tags like Tags.ITEM_ID have been deprecated and will be removed in a future version. Please use the atomic versions of these tags, like [<Tags.ITEM: 'item'>, <Tags.ID: 'id'>].\n",
      "  warnings.warn(\n"
     ]
    }
   ],
   "source": [
    "item_embs_val = model.candidate_embeddings(\n",
    "    item_features_val, index=item_features_val.schema['track_uri_can'], batch_size=10000\n",
    ")"
   ]
  },
  {
   "cell_type": "code",
   "execution_count": 20,
   "id": "NJTrOVFPBCU4",
   "metadata": {
    "id": "NJTrOVFPBCU4",
    "outputId": "b8f94d33-c02f-419b-b2a8-8b3e4976ee27"
   },
   "outputs": [
    {
     "data": {
      "text/html": [
       "<div>\n",
       "<style scoped>\n",
       "    .dataframe tbody tr th:only-of-type {\n",
       "        vertical-align: middle;\n",
       "    }\n",
       "\n",
       "    .dataframe tbody tr th {\n",
       "        vertical-align: top;\n",
       "    }\n",
       "\n",
       "    .dataframe thead th {\n",
       "        text-align: right;\n",
       "    }\n",
       "</style>\n",
       "<table border=\"1\" class=\"dataframe\">\n",
       "  <thead>\n",
       "    <tr style=\"text-align: right;\">\n",
       "      <th></th>\n",
       "      <th>0</th>\n",
       "      <th>1</th>\n",
       "      <th>2</th>\n",
       "      <th>3</th>\n",
       "      <th>4</th>\n",
       "      <th>5</th>\n",
       "      <th>6</th>\n",
       "      <th>7</th>\n",
       "      <th>8</th>\n",
       "      <th>9</th>\n",
       "      <th>...</th>\n",
       "      <th>118</th>\n",
       "      <th>119</th>\n",
       "      <th>120</th>\n",
       "      <th>121</th>\n",
       "      <th>122</th>\n",
       "      <th>123</th>\n",
       "      <th>124</th>\n",
       "      <th>125</th>\n",
       "      <th>126</th>\n",
       "      <th>127</th>\n",
       "    </tr>\n",
       "    <tr>\n",
       "      <th>track_uri_can</th>\n",
       "      <th></th>\n",
       "      <th></th>\n",
       "      <th></th>\n",
       "      <th></th>\n",
       "      <th></th>\n",
       "      <th></th>\n",
       "      <th></th>\n",
       "      <th></th>\n",
       "      <th></th>\n",
       "      <th></th>\n",
       "      <th></th>\n",
       "      <th></th>\n",
       "      <th></th>\n",
       "      <th></th>\n",
       "      <th></th>\n",
       "      <th></th>\n",
       "      <th></th>\n",
       "      <th></th>\n",
       "      <th></th>\n",
       "      <th></th>\n",
       "      <th></th>\n",
       "    </tr>\n",
       "  </thead>\n",
       "  <tbody>\n",
       "    <tr>\n",
       "      <th>0</th>\n",
       "      <td>0.386831</td>\n",
       "      <td>0.000000</td>\n",
       "      <td>0.291807</td>\n",
       "      <td>1.395877</td>\n",
       "      <td>0.969491</td>\n",
       "      <td>0.880086</td>\n",
       "      <td>0.123622</td>\n",
       "      <td>0.068165</td>\n",
       "      <td>0.207112</td>\n",
       "      <td>0.303164</td>\n",
       "      <td>...</td>\n",
       "      <td>0.000000</td>\n",
       "      <td>0.077208</td>\n",
       "      <td>2.800620</td>\n",
       "      <td>0.0</td>\n",
       "      <td>0.000000</td>\n",
       "      <td>2.507491</td>\n",
       "      <td>0.0</td>\n",
       "      <td>0.0</td>\n",
       "      <td>1.193418</td>\n",
       "      <td>0.183100</td>\n",
       "    </tr>\n",
       "    <tr>\n",
       "      <th>1</th>\n",
       "      <td>0.217688</td>\n",
       "      <td>0.039090</td>\n",
       "      <td>0.075315</td>\n",
       "      <td>0.000000</td>\n",
       "      <td>0.348324</td>\n",
       "      <td>0.643289</td>\n",
       "      <td>0.197036</td>\n",
       "      <td>0.168014</td>\n",
       "      <td>0.018657</td>\n",
       "      <td>0.510608</td>\n",
       "      <td>...</td>\n",
       "      <td>0.000000</td>\n",
       "      <td>0.398278</td>\n",
       "      <td>0.000000</td>\n",
       "      <td>0.0</td>\n",
       "      <td>0.305815</td>\n",
       "      <td>0.000000</td>\n",
       "      <td>0.0</td>\n",
       "      <td>0.0</td>\n",
       "      <td>0.000000</td>\n",
       "      <td>0.152398</td>\n",
       "    </tr>\n",
       "    <tr>\n",
       "      <th>2</th>\n",
       "      <td>0.392541</td>\n",
       "      <td>0.951321</td>\n",
       "      <td>0.000000</td>\n",
       "      <td>0.000000</td>\n",
       "      <td>0.590594</td>\n",
       "      <td>0.164379</td>\n",
       "      <td>0.174118</td>\n",
       "      <td>0.412876</td>\n",
       "      <td>0.000000</td>\n",
       "      <td>0.000000</td>\n",
       "      <td>...</td>\n",
       "      <td>0.209218</td>\n",
       "      <td>0.252147</td>\n",
       "      <td>0.000000</td>\n",
       "      <td>0.0</td>\n",
       "      <td>0.417026</td>\n",
       "      <td>0.000000</td>\n",
       "      <td>0.0</td>\n",
       "      <td>0.0</td>\n",
       "      <td>0.000000</td>\n",
       "      <td>0.167105</td>\n",
       "    </tr>\n",
       "    <tr>\n",
       "      <th>3</th>\n",
       "      <td>0.247805</td>\n",
       "      <td>0.299283</td>\n",
       "      <td>0.000000</td>\n",
       "      <td>0.000000</td>\n",
       "      <td>0.405375</td>\n",
       "      <td>0.513006</td>\n",
       "      <td>0.236269</td>\n",
       "      <td>0.237929</td>\n",
       "      <td>0.000000</td>\n",
       "      <td>0.373645</td>\n",
       "      <td>...</td>\n",
       "      <td>0.000000</td>\n",
       "      <td>0.315743</td>\n",
       "      <td>0.000000</td>\n",
       "      <td>0.0</td>\n",
       "      <td>0.298990</td>\n",
       "      <td>0.000000</td>\n",
       "      <td>0.0</td>\n",
       "      <td>0.0</td>\n",
       "      <td>0.000000</td>\n",
       "      <td>0.136691</td>\n",
       "    </tr>\n",
       "    <tr>\n",
       "      <th>4</th>\n",
       "      <td>0.132861</td>\n",
       "      <td>0.000000</td>\n",
       "      <td>0.147620</td>\n",
       "      <td>0.263061</td>\n",
       "      <td>0.511410</td>\n",
       "      <td>0.958700</td>\n",
       "      <td>0.126751</td>\n",
       "      <td>0.077214</td>\n",
       "      <td>0.084681</td>\n",
       "      <td>0.498494</td>\n",
       "      <td>...</td>\n",
       "      <td>0.000000</td>\n",
       "      <td>0.286586</td>\n",
       "      <td>0.492636</td>\n",
       "      <td>0.0</td>\n",
       "      <td>0.091007</td>\n",
       "      <td>0.918272</td>\n",
       "      <td>0.0</td>\n",
       "      <td>0.0</td>\n",
       "      <td>0.552747</td>\n",
       "      <td>0.063454</td>\n",
       "    </tr>\n",
       "    <tr>\n",
       "      <th>...</th>\n",
       "      <td>...</td>\n",
       "      <td>...</td>\n",
       "      <td>...</td>\n",
       "      <td>...</td>\n",
       "      <td>...</td>\n",
       "      <td>...</td>\n",
       "      <td>...</td>\n",
       "      <td>...</td>\n",
       "      <td>...</td>\n",
       "      <td>...</td>\n",
       "      <td>...</td>\n",
       "      <td>...</td>\n",
       "      <td>...</td>\n",
       "      <td>...</td>\n",
       "      <td>...</td>\n",
       "      <td>...</td>\n",
       "      <td>...</td>\n",
       "      <td>...</td>\n",
       "      <td>...</td>\n",
       "      <td>...</td>\n",
       "      <td>...</td>\n",
       "    </tr>\n",
       "    <tr>\n",
       "      <th>2176683</th>\n",
       "      <td>0.000000</td>\n",
       "      <td>0.000000</td>\n",
       "      <td>0.191066</td>\n",
       "      <td>1.263582</td>\n",
       "      <td>0.635999</td>\n",
       "      <td>0.620588</td>\n",
       "      <td>0.164690</td>\n",
       "      <td>0.209504</td>\n",
       "      <td>0.110629</td>\n",
       "      <td>0.132837</td>\n",
       "      <td>...</td>\n",
       "      <td>0.000000</td>\n",
       "      <td>0.030733</td>\n",
       "      <td>2.307123</td>\n",
       "      <td>0.0</td>\n",
       "      <td>0.030140</td>\n",
       "      <td>2.088751</td>\n",
       "      <td>0.0</td>\n",
       "      <td>0.0</td>\n",
       "      <td>1.135281</td>\n",
       "      <td>0.187343</td>\n",
       "    </tr>\n",
       "    <tr>\n",
       "      <th>2176796</th>\n",
       "      <td>0.000000</td>\n",
       "      <td>0.000000</td>\n",
       "      <td>0.216706</td>\n",
       "      <td>1.183236</td>\n",
       "      <td>0.312713</td>\n",
       "      <td>0.456104</td>\n",
       "      <td>0.209792</td>\n",
       "      <td>0.280414</td>\n",
       "      <td>0.063878</td>\n",
       "      <td>0.074547</td>\n",
       "      <td>...</td>\n",
       "      <td>0.000000</td>\n",
       "      <td>0.000000</td>\n",
       "      <td>1.780361</td>\n",
       "      <td>0.0</td>\n",
       "      <td>0.178146</td>\n",
       "      <td>1.690233</td>\n",
       "      <td>0.0</td>\n",
       "      <td>0.0</td>\n",
       "      <td>0.798487</td>\n",
       "      <td>0.149461</td>\n",
       "    </tr>\n",
       "    <tr>\n",
       "      <th>2176816</th>\n",
       "      <td>0.242435</td>\n",
       "      <td>0.000000</td>\n",
       "      <td>0.387737</td>\n",
       "      <td>1.367530</td>\n",
       "      <td>0.898928</td>\n",
       "      <td>0.841842</td>\n",
       "      <td>0.164866</td>\n",
       "      <td>0.166726</td>\n",
       "      <td>0.124898</td>\n",
       "      <td>0.402353</td>\n",
       "      <td>...</td>\n",
       "      <td>0.000000</td>\n",
       "      <td>0.085471</td>\n",
       "      <td>2.623087</td>\n",
       "      <td>0.0</td>\n",
       "      <td>0.000000</td>\n",
       "      <td>2.259526</td>\n",
       "      <td>0.0</td>\n",
       "      <td>0.0</td>\n",
       "      <td>1.136483</td>\n",
       "      <td>0.218455</td>\n",
       "    </tr>\n",
       "    <tr>\n",
       "      <th>2176982</th>\n",
       "      <td>0.120506</td>\n",
       "      <td>0.000000</td>\n",
       "      <td>0.348827</td>\n",
       "      <td>1.208838</td>\n",
       "      <td>0.896415</td>\n",
       "      <td>0.884695</td>\n",
       "      <td>0.227220</td>\n",
       "      <td>0.215599</td>\n",
       "      <td>0.072561</td>\n",
       "      <td>0.402769</td>\n",
       "      <td>...</td>\n",
       "      <td>0.000000</td>\n",
       "      <td>0.184171</td>\n",
       "      <td>2.452159</td>\n",
       "      <td>0.0</td>\n",
       "      <td>0.000000</td>\n",
       "      <td>2.114573</td>\n",
       "      <td>0.0</td>\n",
       "      <td>0.0</td>\n",
       "      <td>1.208151</td>\n",
       "      <td>0.283553</td>\n",
       "    </tr>\n",
       "    <tr>\n",
       "      <th>2177009</th>\n",
       "      <td>0.270069</td>\n",
       "      <td>0.000000</td>\n",
       "      <td>0.289505</td>\n",
       "      <td>1.215475</td>\n",
       "      <td>1.021567</td>\n",
       "      <td>0.916207</td>\n",
       "      <td>0.140942</td>\n",
       "      <td>0.143999</td>\n",
       "      <td>0.161803</td>\n",
       "      <td>0.387673</td>\n",
       "      <td>...</td>\n",
       "      <td>0.000000</td>\n",
       "      <td>0.156781</td>\n",
       "      <td>2.555016</td>\n",
       "      <td>0.0</td>\n",
       "      <td>0.000000</td>\n",
       "      <td>2.240440</td>\n",
       "      <td>0.0</td>\n",
       "      <td>0.0</td>\n",
       "      <td>1.106812</td>\n",
       "      <td>0.255721</td>\n",
       "    </tr>\n",
       "  </tbody>\n",
       "</table>\n",
       "<p>150728 rows × 128 columns</p>\n",
       "</div>"
      ],
      "text/plain": [
       "                      0         1         2         3         4         5  \\\n",
       "track_uri_can                                                               \n",
       "0              0.386831  0.000000  0.291807  1.395877  0.969491  0.880086   \n",
       "1              0.217688  0.039090  0.075315  0.000000  0.348324  0.643289   \n",
       "2              0.392541  0.951321  0.000000  0.000000  0.590594  0.164379   \n",
       "3              0.247805  0.299283  0.000000  0.000000  0.405375  0.513006   \n",
       "4              0.132861  0.000000  0.147620  0.263061  0.511410  0.958700   \n",
       "...                 ...       ...       ...       ...       ...       ...   \n",
       "2176683        0.000000  0.000000  0.191066  1.263582  0.635999  0.620588   \n",
       "2176796        0.000000  0.000000  0.216706  1.183236  0.312713  0.456104   \n",
       "2176816        0.242435  0.000000  0.387737  1.367530  0.898928  0.841842   \n",
       "2176982        0.120506  0.000000  0.348827  1.208838  0.896415  0.884695   \n",
       "2177009        0.270069  0.000000  0.289505  1.215475  1.021567  0.916207   \n",
       "\n",
       "                      6         7         8         9  ...       118  \\\n",
       "track_uri_can                                          ...             \n",
       "0              0.123622  0.068165  0.207112  0.303164  ...  0.000000   \n",
       "1              0.197036  0.168014  0.018657  0.510608  ...  0.000000   \n",
       "2              0.174118  0.412876  0.000000  0.000000  ...  0.209218   \n",
       "3              0.236269  0.237929  0.000000  0.373645  ...  0.000000   \n",
       "4              0.126751  0.077214  0.084681  0.498494  ...  0.000000   \n",
       "...                 ...       ...       ...       ...  ...       ...   \n",
       "2176683        0.164690  0.209504  0.110629  0.132837  ...  0.000000   \n",
       "2176796        0.209792  0.280414  0.063878  0.074547  ...  0.000000   \n",
       "2176816        0.164866  0.166726  0.124898  0.402353  ...  0.000000   \n",
       "2176982        0.227220  0.215599  0.072561  0.402769  ...  0.000000   \n",
       "2177009        0.140942  0.143999  0.161803  0.387673  ...  0.000000   \n",
       "\n",
       "                    119       120  121       122       123  124  125  \\\n",
       "track_uri_can                                                          \n",
       "0              0.077208  2.800620  0.0  0.000000  2.507491  0.0  0.0   \n",
       "1              0.398278  0.000000  0.0  0.305815  0.000000  0.0  0.0   \n",
       "2              0.252147  0.000000  0.0  0.417026  0.000000  0.0  0.0   \n",
       "3              0.315743  0.000000  0.0  0.298990  0.000000  0.0  0.0   \n",
       "4              0.286586  0.492636  0.0  0.091007  0.918272  0.0  0.0   \n",
       "...                 ...       ...  ...       ...       ...  ...  ...   \n",
       "2176683        0.030733  2.307123  0.0  0.030140  2.088751  0.0  0.0   \n",
       "2176796        0.000000  1.780361  0.0  0.178146  1.690233  0.0  0.0   \n",
       "2176816        0.085471  2.623087  0.0  0.000000  2.259526  0.0  0.0   \n",
       "2176982        0.184171  2.452159  0.0  0.000000  2.114573  0.0  0.0   \n",
       "2177009        0.156781  2.555016  0.0  0.000000  2.240440  0.0  0.0   \n",
       "\n",
       "                    126       127  \n",
       "track_uri_can                      \n",
       "0              1.193418  0.183100  \n",
       "1              0.000000  0.152398  \n",
       "2              0.000000  0.167105  \n",
       "3              0.000000  0.136691  \n",
       "4              0.552747  0.063454  \n",
       "...                 ...       ...  \n",
       "2176683        1.135281  0.187343  \n",
       "2176796        0.798487  0.149461  \n",
       "2176816        1.136483  0.218455  \n",
       "2176982        1.208151  0.283553  \n",
       "2177009        1.106812  0.255721  \n",
       "\n",
       "[150728 rows x 128 columns]"
      ]
     },
     "execution_count": 20,
     "metadata": {},
     "output_type": "execute_result"
    }
   ],
   "source": [
    "# Quick look at the data\n",
    "item_emb_pd = item_embs_val.compute().to_pandas()\n",
    "item_emb_pd"
   ]
  },
  {
   "cell_type": "code",
   "execution_count": 21,
   "id": "lgnrFlsqBCU4",
   "metadata": {
    "id": "lgnrFlsqBCU4",
    "outputId": "b2c62aaf-a8e8-425d-d777-6d1b4896b4b6"
   },
   "outputs": [
    {
     "name": "stdout",
     "output_type": "stream",
     "text": [
      "rm: cannot remove 'candidate_embeddings.json': No such file or directory\n",
      "CPU times: user 24min 39s, sys: 33.7 s, total: 25min 12s\n",
      "Wall time: 25min 33s\n"
     ]
    }
   ],
   "source": [
    "%%time\n",
    "!rm candidate_embeddings.json > /dev/null\n",
    "!touch candidate_embeddings.json\n",
    "\n",
    "item_data = pd.read_parquet(os.path.join(BUCKET, \"merlin-processed/workflow/2t-spotify-workflow\", 'categories/unique.track_uri_can.parquet'))\n",
    "\n",
    "lookup_dict = dict(item_data['track_uri_can'])\n",
    "\n",
    "def format_for_matching_engine(data) -> None:\n",
    "    cols = [str(i) for i in range(layers[-1])] #ensure we are only pulling 0-EMBEDDING_DIM cols\n",
    "    emb = [data[col] for col in cols]\n",
    "    formatted_emb = '{\"id\":\"' + str(data['track_uri_can']) + '\",\"embedding\":[' + \",\".join(str(x) for x in list(emb)) + ']}'\n",
    "    with open(\"candidate_embeddings.json\", 'a') as f:\n",
    "        f.write(formatted_emb)\n",
    "        f.write(\"\\n\")\n",
    "    f.close()\n",
    "\n",
    "item_emb_pd = item_embs.compute().to_pandas().fillna(1e-10).reset_index() #filling blanks with an epsilon value\n",
    "item_emb_pd['track_uri_can'] = item_emb_pd['track_uri_can'].apply(lambda l: lookup_dict[l])\n",
    "_ = item_emb_pd.apply(format_for_matching_engine, axis=1)\n",
    "\n",
    "item_emb_pd_val = item_embs_val.compute().to_pandas().fillna(1e-10).reset_index() #filling blanks with an epsilon value\n",
    "item_emb_pd_val['track_uri_can'] = item_emb_pd_val['track_uri_can'].apply(lambda l: lookup_dict[l])\n",
    "_ = item_emb_pd_val.apply(format_for_matching_engine, axis=1)\n"
   ]
  },
  {
   "cell_type": "code",
   "execution_count": 22,
   "id": "Pc9LslA5BCU5",
   "metadata": {
    "id": "Pc9LslA5BCU5",
    "outputId": "e41ded6d-4378-4d22-fe29-0dce9a9ff3e0"
   },
   "outputs": [
    {
     "name": "stdout",
     "output_type": "stream",
     "text": [
      "2327831 candidate_embeddings.json\n"
     ]
    }
   ],
   "source": [
    "!wc -l candidate_embeddings.json"
   ]
  },
  {
   "cell_type": "markdown",
   "id": "aI-s38LgBCU5",
   "metadata": {
    "id": "aI-s38LgBCU5"
   },
   "source": [
    "### BE SURE TO RUN `gsutil config` IN TERMINAL TO LOG IN WITH YOUR CREDS"
   ]
  },
  {
   "cell_type": "code",
   "execution_count": null,
   "id": "QrLVmjkrBCU5",
   "metadata": {
    "id": "QrLVmjkrBCU5",
    "outputId": "d26da2db-e209-4deb-9d0f-c6f1d07b4cc9"
   },
   "outputs": [
    {
     "data": {
      "text/plain": [
       "'gs://spotify-beam-v3/merlin-processed/embeddings/candidate_embeddings.json'"
      ]
     },
     "execution_count": 30,
     "metadata": {},
     "output_type": "execute_result"
    }
   ],
   "source": [
    "# !pip install gsutil\n",
    "import os\n",
    "candidate_path = os.path.join(BUCKET, 'merlin-processed/embeddings/candidate_embeddings.json')\n",
    "\n",
    "candidate_path"
   ]
  },
  {
   "cell_type": "code",
   "execution_count": null,
   "id": "iZCGih8WBCU5",
   "metadata": {
    "id": "iZCGih8WBCU5"
   },
   "outputs": [],
   "source": [
    "# !head -2 candidate_embeddings.json"
   ]
  },
  {
   "cell_type": "code",
   "execution_count": null,
   "id": "2666f552-3e53-4af6-9c90-677f20717e53",
   "metadata": {},
   "outputs": [],
   "source": [
    "!mkdir embeddings\n",
    "!mv candidate_embeddings.json embeddings\n",
    "dest_blob = 'merlin-processed/embeddings'\n",
    "upload_from_directory('embeddings', BUCKET.replace('gs://',''), dest_blob)"
   ]
  },
  {
   "cell_type": "markdown",
   "id": "uTTyZoBpBCU5",
   "metadata": {
    "id": "uTTyZoBpBCU5"
   },
   "source": [
    "## All set move to the next notebook - your bucket now should look something like this:\n",
    "\n",
    "![](img/merlin-bucket.png)"
   ]
  }
 ],
 "metadata": {
  "colab": {
   "provenance": []
  },
  "environment": {
   "kernel": "python3",
   "name": "tf2-gpu.2-11.m103",
   "type": "gcloud",
   "uri": "gcr.io/deeplearning-platform-release/tf2-gpu.2-11:m103"
  },
  "interpreter": {
   "hash": "31f2aee4e71d21fbe5cf8b01ff0e069b9275f58929596ceb00d14d90e3e16cd6"
  },
  "kernelspec": {
   "display_name": "Python 3 (ipykernel)",
   "language": "python",
   "name": "python3"
  },
  "language_info": {
   "codemirror_mode": {
    "name": "ipython",
    "version": 3
   },
   "file_extension": ".py",
   "mimetype": "text/x-python",
   "name": "python",
   "nbconvert_exporter": "python",
   "pygments_lexer": "ipython3",
   "version": "3.8.10"
  }
 },
 "nbformat": 4,
 "nbformat_minor": 5
}
