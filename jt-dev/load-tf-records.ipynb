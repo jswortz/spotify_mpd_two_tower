{
 "cells": [
  {
   "cell_type": "code",
   "execution_count": 3,
   "id": "1dbb8a93-a772-4d91-9032-bc76a9b893d9",
   "metadata": {},
   "outputs": [
    {
     "name": "stdout",
     "output_type": "stream",
     "text": [
      "Updated property [core/project].\n"
     ]
    }
   ],
   "source": [
    "PROJECT_ID = 'hybrid-vertex'  # <--- TODO: CHANGE THIS\n",
    "LOCATION = 'us-central1' \n",
    "!gcloud config set project {PROJECT_ID}"
   ]
  },
  {
   "cell_type": "markdown",
   "id": "f6c3840a-cf95-4d6e-8b85-718ffb70f472",
   "metadata": {},
   "source": [
    "### pip"
   ]
  },
  {
   "cell_type": "code",
   "execution_count": 4,
   "id": "d5905a34-ca29-43b6-81cd-c2232741c672",
   "metadata": {},
   "outputs": [],
   "source": [
    "# !pip install tensorflow-recommenders --user -q\n",
    "# !pip -q install google-cloud-storage\n",
    "\n",
    "# import IPython\n",
    "# app = IPython.Application.instance()\n",
    "# app.kernel.do_shutdown(True)"
   ]
  },
  {
   "cell_type": "code",
   "execution_count": 5,
   "id": "e2b0fd82-e228-4f8f-8f9a-3b7edda0aec2",
   "metadata": {},
   "outputs": [
    {
     "name": "stdout",
     "output_type": "stream",
     "text": [
      "Updated property [core/project].\n"
     ]
    }
   ],
   "source": [
    "PROJECT_ID = 'hybrid-vertex'  # <--- TODO: CHANGE THIS\n",
    "LOCATION = 'us-central1' \n",
    "!gcloud config set project {PROJECT_ID}"
   ]
  },
  {
   "cell_type": "code",
   "execution_count": 6,
   "id": "dbc755c7-6cdb-4dc7-9dd2-0e36e098f281",
   "metadata": {},
   "outputs": [],
   "source": [
    "import json\n",
    "import tensorflow as tf\n",
    "import tensorflow_recommenders as tfrs\n",
    "\n",
    "from google.cloud import storage\n",
    "\n",
    "import numpy as np\n",
    "import pickle as pkl"
   ]
  },
  {
   "cell_type": "code",
   "execution_count": null,
   "id": "68ed175d-ad27-401e-bc40-5cbd39334a76",
   "metadata": {},
   "outputs": [],
   "source": [
    "candidate_features = {\n",
    "    'track_name_can': tf.io.FixedLenFeature(dtype=tf.string, shape=(1)),\n",
    "    'artist_name_can': tf.io.FixedLenFeature(dtype=tf.string, shape=(1)),\n",
    "    'album_name_can': tf.io.FixedLenFeature(dtype=tf.string, shape=(1)),\n",
    "    'track_uri_can': tf.io.FixedLenFeature(dtype=tf.string, shape=(1)),\n",
    "    'artist_uri_can': tf.io.FixedLenFeature(dtype=tf.string, shape=(1)),\n",
    "    'album_uri_can': tf.io.FixedLenFeature(dtype=tf.string, shape=(1)),\n",
    "    'duration_ms_can': tf.io.FixedLenFeature(dtype=tf.float32, shape=(1)),\n",
    "    'track_pop_can': tf.io.FixedLenFeature(dtype=tf.float32, shape=(1)),\n",
    "    'artist_pop_can': tf.io.FixedLenFeature(dtype=tf.float32, shape=(1)),\n",
    "    'artist_genres_can': tf.io.FixedLenFeature(dtype=tf.string, shape=(1)),\n",
    "    'artist_followers_can': tf.io.FixedLenFeature(dtype=tf.float32, shape=(1)),\n",
    "}\n",
    "\n",
    "seed_track_features = {\n",
    "    'pos_seed_track': tf.io.FixedLenFeature(dtype=tf.int64, shape=(1)),\n",
    "    'track_name_seed_track': tf.io.FixedLenFeature(dtype=tf.string, shape=(1)),\n",
    "    'artist_name_seed_track': tf.io.FixedLenFeature(dtype=tf.string, shape=(1)),\n",
    "    'album_name_seed_track': tf.io.FixedLenFeature(dtype=tf.string, shape=(1)),\n",
    "    'track_uri_seed_track': tf.io.FixedLenFeature(dtype=tf.string, shape=(1)),\n",
    "    'artist_uri_seed_track': tf.io.FixedLenFeature(dtype=tf.string, shape=(1)),\n",
    "    'album_uri_seed_track': tf.io.FixedLenFeature(dtype=tf.string, shape=(1)),\n",
    "    'duration_seed_track': tf.io.FixedLenFeature(dtype=tf.float32, shape=(1)),\n",
    "    'track_pop_seed_track': tf.io.FixedLenFeature(dtype=tf.float32, shape=(1)),\n",
    "    'artist_pop_seed_track': tf.io.FixedLenFeature(dtype=tf.float32, shape=(1)),\n",
    "    'artist_genres_seed_track': tf.io.FixedLenFeature(dtype=tf.string, shape=(1)),\n",
    "    'artist_followers_seed_track': tf.io.FixedLenFeature(dtype=tf.float32, shape=(1)),\n",
    "}\n",
    "\n",
    "playlist_context_features = {\n",
    "    'pid': tf.io.FixedLenFeature(dtype=tf.int64, shape=(1)),\n",
    "    'name': tf.io.FixedLenFeature(dtype=tf.string, shape=(1)),\n",
    "    'collaborative': tf.io.FixedLenFeature(dtype=tf.string, shape=(1)),\n",
    "    'duration_ms_seed_pl': tf.io.FixedLenFeature(dtype=tf.float32, shape=(1)),\n",
    "    'n_songs_pl': tf.io.FixedLenFeature(dtype=tf.float32, shape=(1)),\n",
    "    'num_artists_pl': tf.io.FixedLenFeature(dtype=tf.float32, shape=(1)),\n",
    "    'num_albums_pl': tf.io.FixedLenFeature(dtype=tf.float32, shape=(1)),\n",
    "    'description_pl': tf.io.FixedLenFeature(dtype=tf.string, shape=(1)),\n",
    "}\n",
    "\n",
    "playlist_sequence_features = {\n",
    "    'track_name_pl': tf.io.RaggedFeature(tf.string),\n",
    "    'artist_name_pl': tf.io.RaggedFeature(tf.string),\n",
    "    'album_name_pl': tf.io.RaggedFeature(tf.string),\n",
    "    'track_uri_pl': tf.io.RaggedFeature(tf.string),\n",
    "    'duration_ms_songs_pl': tf.io.RaggedFeature(tf.float32),\n",
    "    'artist_pop_pl': tf.io.RaggedFeature(tf.float32),\n",
    "    'artists_followers_pl': tf.io.RaggedFeature(tf.float32),\n",
    "    'track_pop_pl': tf.io.RaggedFeature(tf.int64),\n",
    "    'artist_genres_pl': tf.io.RaggedFeature(tf.string),\n",
    "}\n",
    "\n",
    "def parse_playlist_tfrecord_fn(example):\n",
    "    example = tf.io.parse_single_sequence_example(\n",
    "        example, \n",
    "        sequence_features=playlist_sequence_features, \n",
    "        context_features=playlist_context_features\n",
    "    )\n",
    "    return example\n",
    "\n",
    "def parse_seed_track_tfrecord_fn(example):\n",
    "    example = tf.io.parse_single_example(\n",
    "        example, \n",
    "        features=seed_track_features,\n",
    "    )\n",
    "    return example\n",
    "\n",
    "def parse_candidate_tfrecord_fn(example):\n",
    "    example = tf.io.parse_single_example(\n",
    "        example, \n",
    "        features=candidate_features,\n",
    "    )\n",
    "    return example"
   ]
  },
  {
   "cell_type": "code",
   "execution_count": 2,
   "id": "6ea77a6f-4a3d-4df1-b0ef-2a5ce5fde81c",
   "metadata": {},
   "outputs": [
    {
     "name": "stderr",
     "output_type": "stream",
     "text": [
      "2022-07-07 09:50:50.822109: I tensorflow/core/common_runtime/process_util.cc:146] Creating new thread pool with default inter op setting: 2. Tune using inter_op_parallelism_threads for best performance.\n"
     ]
    }
   ],
   "source": [
    "SAMPLE_FILE = \"gs://spotify-tfrecords-blog/tfrecords_v1/train/output-00000-of-00796.tfrecord\"\n",
    "raw_dataset = tf.data.TFRecordDataset(SAMPLE_FILE)\n",
    "\n",
    "# for raw_record in raw_dataset.take(1):\n",
    "#     example = tf.train.Example()\n",
    "#     example.ParseFromString(raw_record.numpy())\n",
    "#     print(example)"
   ]
  },
  {
   "cell_type": "code",
   "execution_count": 3,
   "id": "09f9e8f3-30e6-4387-b901-35eebe24a099",
   "metadata": {},
   "outputs": [
    {
     "name": "stdout",
     "output_type": "stream",
     "text": [
      "tensorflow @ file:///opt/conda/conda-bld/dlenv-tf-2-9-cpu_1656643241567/work/tensorflow-2.9.0rc2-cp37-cp37m-linux_x86_64.whl\n",
      "tensorflow-cloud==0.1.16\n",
      "tensorflow-datasets==4.4.0\n",
      "tensorflow-estimator==2.9.0\n",
      "tensorflow-hub==0.12.0\n",
      "tensorflow-io==0.23.1\n",
      "tensorflow-io-gcs-filesystem==0.26.0\n",
      "tensorflow-metadata==1.9.0\n",
      "tensorflow-probability==0.14.1\n",
      "tensorflow-serving-api==2.9.0\n",
      "tensorflow-transform==1.9.0\n"
     ]
    }
   ],
   "source": [
    "!pip freeze | grep tensorflow"
   ]
  },
  {
   "cell_type": "code",
   "execution_count": null,
   "id": "5bb4f564-936a-4012-9a18-852baf997dcc",
   "metadata": {},
   "outputs": [],
   "source": []
  }
 ],
 "metadata": {
  "environment": {
   "kernel": "python3",
   "name": "tf2-gpu.2-9.m94",
   "type": "gcloud",
   "uri": "gcr.io/deeplearning-platform-release/tf2-gpu.2-9:m94"
  },
  "kernelspec": {
   "display_name": "Python 3",
   "language": "python",
   "name": "python3"
  },
  "language_info": {
   "codemirror_mode": {
    "name": "ipython",
    "version": 3
   },
   "file_extension": ".py",
   "mimetype": "text/x-python",
   "name": "python",
   "nbconvert_exporter": "python",
   "pygments_lexer": "ipython3",
   "version": "3.7.12"
  }
 },
 "nbformat": 4,
 "nbformat_minor": 5
}
