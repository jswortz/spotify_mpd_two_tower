{
 "cells": [
  {
   "cell_type": "markdown",
   "id": "3ce759d9-31b5-45af-89d9-5bbca2fbae2c",
   "metadata": {},
   "source": [
    "#### Example\n",
    "\n",
    "```\n",
    "{\"query\": {\"user_id\": [\"1\"], \"bucketized_user_age\": [18.0], \"raw_user_age\": [24.0], \"timestamp\": [0.012986151007588376], \"user_gender\": [\"Male\"], \"user_occupation_label\": [18], \"user_occupation_text\": [\"technician\"], \"user_zip_code\": [\"85711\"]}, \"candidate\": {\"movie_id\": [\"1\"], \"movie_title\": [\"Toy Story\"], \"year\": [1995], \"movie_genres\": [\"2\", \"3\", \"4\"]}}\n",
    "```"
   ]
  },
  {
   "cell_type": "code",
   "execution_count": 172,
   "id": "24a56cbe-878e-4988-8d33-de5eb87cef13",
   "metadata": {},
   "outputs": [],
   "source": [
    "BUCKET = 'gs://spotify-builtin-2t'\n",
    "PROJECT = 'hybrid-vertex'\n",
    "DATASET_ID = 'spotify_train_3'\n",
    "TABLE = 'train_json_export_table'\n",
    "TABLE_SMALL = 'train_json_export_table_small'\n",
    "LOCATION = 'us-central1'"
   ]
  },
  {
   "cell_type": "code",
   "execution_count": 154,
   "id": "4cf4dd20-8100-496c-b65d-0cbadd8abff5",
   "metadata": {},
   "outputs": [
    {
     "name": "stdout",
     "output_type": "stream",
     "text": [
      "Creating gs://spotify-builtin-2t/...\n",
      "ServiceException: 409 A Cloud Storage bucket named 'spotify-builtin-2t' already exists. Try another name. Bucket names must be globally unique across all Google Cloud projects, including those outside of your organization.\n"
     ]
    }
   ],
   "source": [
    "# !gsutil mb -l us-central1 $BUCKET"
   ]
  },
  {
   "cell_type": "markdown",
   "id": "a433f63e-ffc8-45ae-9907-57c2cd89e17d",
   "metadata": {},
   "source": [
    "### More info from [here](https://cloud.google.com/bigquery/docs/samples/bigquery-extract-table-json)"
   ]
  },
  {
   "cell_type": "code",
   "execution_count": 171,
   "id": "f993d52f-9f6b-4d51-9040-3daa2c694ebd",
   "metadata": {},
   "outputs": [],
   "source": [
    "# !gsutil -m rm -r $BUCKET/train_data/* #cleanup if needed"
   ]
  },
  {
   "cell_type": "code",
   "execution_count": 173,
   "id": "4b929bc9-b782-460b-b767-7d9f25ed640f",
   "metadata": {},
   "outputs": [
    {
     "data": {
      "text/plain": [
       "ExtractJob<project=hybrid-vertex, location=us-central1, id=b175d8cd-a50e-4805-a398-bcddcf3b31a9>"
      ]
     },
     "execution_count": 173,
     "metadata": {},
     "output_type": "execute_result"
    }
   ],
   "source": [
    "from google.cloud import bigquery\n",
    "client = bigquery.Client()\n",
    "\n",
    "destination_uri = f\"{BUCKET}/train_data/*.jsonl\"\n",
    "dataset_ref = bigquery.DatasetReference(PROJECT, DATASET_ID)\n",
    "table_ref = dataset_ref.table(TABLE)\n",
    "job_config = bigquery.job.ExtractJobConfig()\n",
    "job_config.destination_format = bigquery.DestinationFormat.NEWLINE_DELIMITED_JSON\n",
    "extract_job = client.extract_table(\n",
    "    table_ref,\n",
    "    destination_uri,\n",
    "    job_config=job_config,\n",
    "    # Location must match that of the source table.\n",
    "    location=LOCATION,\n",
    ")  # API request\n",
    "extract_job.result()  # Waits for job to complete."
   ]
  },
  {
   "cell_type": "markdown",
   "id": "0304947f-0ead-436e-a6b8-0a1a47b85fa3",
   "metadata": {},
   "source": [
    "### small job"
   ]
  },
  {
   "cell_type": "code",
   "execution_count": 174,
   "id": "2594c684-0454-4ab5-9751-5f6fdb8ab8d0",
   "metadata": {},
   "outputs": [
    {
     "data": {
      "text/plain": [
       "ExtractJob<project=hybrid-vertex, location=us-central1, id=03e53423-0676-4830-beb7-349c15117911>"
      ]
     },
     "execution_count": 174,
     "metadata": {},
     "output_type": "execute_result"
    }
   ],
   "source": [
    "from google.cloud import bigquery\n",
    "client = bigquery.Client()\n",
    "\n",
    "destination_uri = f\"{BUCKET}/train_data_small/*.jsonl\"\n",
    "dataset_ref = bigquery.DatasetReference(PROJECT, DATASET_ID)\n",
    "table_ref = dataset_ref.table(TABLE_SMALL)\n",
    "job_config = bigquery.job.ExtractJobConfig()\n",
    "job_config.destination_format = bigquery.DestinationFormat.NEWLINE_DELIMITED_JSON\n",
    "extract_job = client.extract_table(\n",
    "    table_ref,\n",
    "    destination_uri,\n",
    "    job_config=job_config,\n",
    "    # Location must match that of the source table.\n",
    "    location=LOCATION,\n",
    ")  # API request\n",
    "extract_job.result()  # Waits for job to complete."
   ]
  },
  {
   "cell_type": "code",
   "execution_count": null,
   "id": "ffc5a122-8508-428b-9051-389fea53fd69",
   "metadata": {},
   "outputs": [],
   "source": [
    "## Candidate generation"
   ]
  },
  {
   "cell_type": "code",
   "execution_count": 147,
   "id": "5970a9e3-db9e-40ec-9aa3-93b82ae07468",
   "metadata": {},
   "outputs": [],
   "source": [
    "BUCKET = 'gs://spotify-builtin-2t'\n",
    "PROJECT = 'hybrid-vertex'\n",
    "DATASET_ID = 'spotify_train_3'\n",
    "TABLE = 'candidates_json'\n",
    "LOCATION = 'us-central1'"
   ]
  },
  {
   "cell_type": "code",
   "execution_count": 124,
   "id": "a227ae0d-ec4c-479f-91d0-a302155801a2",
   "metadata": {},
   "outputs": [],
   "source": [
    "# !gsutil -m rm -r $BUCKET/candidates_json/* #cleanup if needed"
   ]
  },
  {
   "cell_type": "code",
   "execution_count": 148,
   "id": "f1140569-c575-4f31-9fc6-662e13a16289",
   "metadata": {},
   "outputs": [
    {
     "data": {
      "text/plain": [
       "ExtractJob<project=hybrid-vertex, location=us-central1, id=cbce5b10-a733-4bd2-89bd-ae21924d4b26>"
      ]
     },
     "execution_count": 148,
     "metadata": {},
     "output_type": "execute_result"
    }
   ],
   "source": [
    "# candidate data\n",
    "from google.cloud import bigquery\n",
    "client = bigquery.Client()\n",
    "\n",
    "destination_uri = f\"{BUCKET}/candidate_songs/*.jsonl\"\n",
    "dataset_ref = bigquery.DatasetReference(PROJECT, DATASET_ID)\n",
    "table_ref = dataset_ref.table(TABLE)\n",
    "job_config = bigquery.job.ExtractJobConfig()\n",
    "job_config.destination_format = bigquery.DestinationFormat.NEWLINE_DELIMITED_JSON\n",
    "extract_job = client.extract_table(\n",
    "    table_ref,\n",
    "    destination_uri,\n",
    "    job_config=job_config,\n",
    "    # Location must match that of the source table.\n",
    "    location=LOCATION,\n",
    ")  # API request\n",
    "extract_job.result()  # Waits for job to complete."
   ]
  },
  {
   "cell_type": "markdown",
   "id": "6c249cff-5e17-4520-818c-a6fefc49a24d",
   "metadata": {},
   "source": [
    "## define schema for 2t training\n",
    "\n",
    "Consider using this [BERT Expert](https://tfhub.dev/google/collections/experts/bert/1)"
   ]
  },
  {
   "cell_type": "code",
   "execution_count": 187,
   "id": "7ff339ea-b3b1-4f7c-81a9-ca16e4bc4617",
   "metadata": {},
   "outputs": [],
   "source": [
    "# track_uri_seed counts: 2249561\n",
    "# artist_uri_seed counts: 294110\n",
    "# album_uri_seed counts: 730377\n",
    "\n",
    "# Define albert embedding modules with custom vocab sizes\n",
    "EMBED_MODULE_TRACK = {\"config\": \n",
    "                      {\"embedding_module\": \"@albert-base\" \n",
    "                       # ,\"vocab_size\": 2_000_000\n",
    "                      }\n",
    "                     }\n",
    "EMBED_MODULE_ARTIST = {\"config\": \n",
    "                      {\"embedding_module\": \"@albert-base\"\n",
    "                       # ,\"vocab_size\": 200_000\n",
    "                      }\n",
    "                      }\n",
    "EMBED_MODULE_ALBUM = {\"config\": \n",
    "                      {\"embedding_module\": \"@albert-base\" \n",
    "                       # ,\"vocab_size\": 500_000\n",
    "                      }\n",
    "                     }\n",
    "\n",
    "candidate_types = [('artist_name_can', 'Text'),\n",
    "('track_uri_can', 'Id', {\"config\": {\"num_buckets\": 100}}),\n",
    "# ('album_uri_can', 'Id', 1000),\n",
    "('track_name_can', 'Text'),\n",
    "# ('artist_uri_can', 'Id', 1000),\n",
    "('duration_ms_can', 'Numeric'),\n",
    "('album_name_can', 'Text'),\n",
    "('track_pop_can', 'Numeric'),\n",
    "('artist_pop_can', 'Numeric'),\n",
    "('artist_followers_can', 'Numeric'),\n",
    "('artist_genres_can', 'Text'),\n",
    "]\n",
    "\n",
    "query_types = [('name', 'Text'),\n",
    "('collaborative', 'Categorical', {\"config\": {\"vocab\":[\"true\",\"false\"]}}),\n",
    "('artist_name_seed_track', 'Text'),\n",
    "# ('artist_uri_seed_track', 'Id', 1000),\n",
    "('track_name_seed_track', 'Text'),\n",
    "# ('track_uri_seed_track', 'Id', 10000),\n",
    "('album_name_seed_track', 'Text'),\n",
    "# ('album_uri_seed_track', 'Id', 1000),\n",
    "('duration_seed_track', 'Numeric'),\n",
    "('track_pop_seed_track', 'Numeric'),\n",
    "('artist_pop_seed_track', 'Numeric'),\n",
    "('artist_followers_seed_track', 'Numeric'),\n",
    "('duration_ms_seed_pl', 'Numeric'),\n",
    "('n_songs_pl', 'Numeric'),\n",
    "('num_artists_pl', 'Numeric'),\n",
    "('num_albums_pl', 'Numeric'),\n",
    "('artist_genres_seed_track', 'Text'),\n",
    "('description_pl', 'Text'),\n",
    "('artist_name_pl', 'Text'),\n",
    "# ('track_uri_pl', 'Id', {\"num_buckets\": 10_000}),\n",
    "('track_name_pl', 'Text'),\n",
    "('duration_ms_songs_pl', 'Numeric'),\n",
    "('album_name_pl', 'Text'),\n",
    "('artist_pop_pl', 'Numeric'),\n",
    "('artists_followers_pl', 'Numeric'),\n",
    "('track_pop_pl', 'Numeric'),\n",
    "('artist_genres_pl', 'Text'),\n",
    "              ]"
   ]
  },
  {
   "cell_type": "code",
   "execution_count": 188,
   "id": "04e14613-3381-4934-afc0-8dd296a7538d",
   "metadata": {},
   "outputs": [],
   "source": [
    "#iterate over the bq rows and update corresponding data jsonl data\n",
    "import json\n",
    "\n",
    "with open('train_schema.json', 'w') as file:\n",
    "    line = {\"query\" : {},\n",
    "           \"candidate\" : {}}\n",
    "    for field in query_types:\n",
    "        line[\"query\"].update({field[0]: {\"feature_type\": field[1]}})\n",
    "        if len(field) == 3:\n",
    "            line[\"query\"][field[0]].update(field[2])\n",
    "    for field in candidate_types:\n",
    "        line[\"candidate\"].update({field[0]: {\"feature_type\": field[1]}})\n",
    "        if len(field) == 3:\n",
    "            line[\"candidate\"][field[0]].update(field[2])\n",
    "    file.write(json.dumps(line))\n",
    "        \n",
    "file.close()"
   ]
  },
  {
   "cell_type": "code",
   "execution_count": 189,
   "id": "5280bc6c-98fe-4ff3-aaac-d17e495dee73",
   "metadata": {},
   "outputs": [
    {
     "name": "stdout",
     "output_type": "stream",
     "text": [
      "Removing gs://spotify-builtin-2t/schema.json...\n",
      "/ [1 objects]                                                                   \n",
      "Operation completed over 1 objects.                                              \n"
     ]
    }
   ],
   "source": [
    "!gsutil rm $BUCKET/schema.json"
   ]
  },
  {
   "cell_type": "code",
   "execution_count": 190,
   "id": "beb2be17-67ab-4e35-b0f8-186a71e38c17",
   "metadata": {},
   "outputs": [
    {
     "name": "stdout",
     "output_type": "stream",
     "text": [
      "Copying file://train_schema.json [Content-Type=application/json]...\n",
      "/ [1 files][  1.6 KiB/  1.6 KiB]                                                \n",
      "Operation completed over 1 objects/1.6 KiB.                                      \n"
     ]
    }
   ],
   "source": [
    "!gsutil cp train_schema.json $BUCKET/schema.json"
   ]
  },
  {
   "cell_type": "markdown",
   "id": "077538e6-5b29-4f8c-9889-baaad92d3f10",
   "metadata": {},
   "source": [
    "# Small table schema"
   ]
  },
  {
   "cell_type": "code",
   "execution_count": 71,
   "id": "9ca90348-fcb7-43dd-91aa-e990e08d4f68",
   "metadata": {},
   "outputs": [],
   "source": [
    "# track_uri_seed counts: 2249561\n",
    "# artist_uri_seed counts: 294110\n",
    "# album_uri_seed counts: 730377\n",
    "\n",
    "candidate_types = [('artist_name_can', 'Text'),\n",
    "('track_uri_can', 'Id', {\"config\": {\"num_buckets\": 10000}}),\n",
    "# ('album_uri_can', 'Id', 1000),\n",
    "('track_name_can', 'Text'),\n",
    "# ('artist_uri_can', 'Id', 1000),\n",
    "('duration_ms_can', 'Numeric'),\n",
    "('album_name_can', 'Text'),\n",
    "('track_pop_can', 'Numeric'),\n",
    "('artist_pop_can', 'Numeric'),\n",
    "('artist_followers_can', 'Numeric'),\n",
    "('artist_genres_can', 'Text'),\n",
    "]\n",
    "\n",
    "query_types = [('name', 'Text'),\n",
    "('collaborative', 'Categorical', {\"config\": {\"vocab\":[\"true\",\"false\"]}}),\n",
    "# ('duration_ms_playlist', 'Numeric'),\n",
    "# ('artist_name_seed_track', 'Text'),\n",
    "# ('artist_uri_seed_track', 'Id', 1000),\n",
    "# ('track_name_seed_track', 'Text'),\n",
    "# ('track_uri_seed_track', 'Id', 10000),\n",
    "# ('album_name_seed_track', 'Text'),\n",
    "# ('album_uri_seed_track', 'Id', 1000),\n",
    "# ('duration_seed_track', 'Numeric'),\n",
    "# ('track_pop_seed_track', 'Numeric'),\n",
    "# ('artist_pop_seed_track', 'Numeric'),\n",
    "# ('artist_followers_seed_track', 'Numeric'),\n",
    "# ('duration_ms_seed_pl', 'Numeric'),\n",
    "('n_songs_pl', 'Numeric'),\n",
    "('num_artists_pl', 'Numeric'),\n",
    "('num_albums_pl', 'Numeric'),\n",
    "# ('artist_genres_seed_track', 'Text'),\n",
    "('description_pl', 'Text'),\n",
    "('artist_name_pl', 'Text'),\n",
    "# ('track_uri_pl', 'Id', 10000),\n",
    "('track_name_pl', 'Text'),\n",
    "('duration_ms_songs_pl', 'Numeric'),\n",
    "('album_name_pl', 'Text'),\n",
    "('artist_pop_pl', 'Numeric'),\n",
    "('artists_followers_pl', 'Numeric'),\n",
    "('track_pop_pl', 'Numeric'),\n",
    "('artist_genres_pl', 'Text'),\n",
    "              ]"
   ]
  },
  {
   "cell_type": "code",
   "execution_count": 72,
   "id": "444c545b-4664-441d-bdb1-51bf27e14b3a",
   "metadata": {},
   "outputs": [],
   "source": [
    "#iterate over the bq rows and update corresponding data jsonl data\n",
    "import json\n",
    "\n",
    "with open('train_schema.json', 'w') as file:\n",
    "    line = {\"query\" : {},\n",
    "           \"candidate\" : {}}\n",
    "    for field in query_types:\n",
    "        line[\"query\"].update({field[0]: {\"feature_type\": field[1]}})\n",
    "        if len(field) == 3:\n",
    "            line[\"query\"][field[0]].update(field[2])\n",
    "    for field in candidate_types:\n",
    "        line[\"candidate\"].update({field[0]: {\"feature_type\": field[1]}})\n",
    "        if len(field) == 3:\n",
    "            line[\"candidate\"][field[0]].update(field[2])\n",
    "    file.write(json.dumps(line))\n",
    "        \n",
    "file.close()"
   ]
  },
  {
   "cell_type": "code",
   "execution_count": 73,
   "id": "63453a0a-c051-4d71-b672-1a4fe7ca6ac0",
   "metadata": {},
   "outputs": [
    {
     "name": "stdout",
     "output_type": "stream",
     "text": [
      "Removing gs://spotify-builtin-2t/schema_small.json...\n",
      "/ [1 objects]                                                                   \n",
      "Operation completed over 1 objects.                                              \n"
     ]
    }
   ],
   "source": [
    "!gsutil rm $BUCKET/schema_small.json"
   ]
  },
  {
   "cell_type": "code",
   "execution_count": 74,
   "id": "b2754c10-6844-4374-9fff-cb6a6948d92e",
   "metadata": {},
   "outputs": [
    {
     "name": "stdout",
     "output_type": "stream",
     "text": [
      "Copying file://train_schema.json [Content-Type=application/json]...\n",
      "/ [1 files][  1.1 KiB/  1.1 KiB]                                                \n",
      "Operation completed over 1 objects/1.1 KiB.                                      \n"
     ]
    }
   ],
   "source": [
    "!gsutil cp train_schema.json $BUCKET/schema_small.json"
   ]
  },
  {
   "cell_type": "markdown",
   "id": "cf394e5c-2182-4c06-ba80-1923b06e7ea9",
   "metadata": {},
   "source": [
    "## Old single-threaded approach"
   ]
  },
  {
   "cell_type": "code",
   "execution_count": null,
   "id": "7ad53716-3475-430a-b65b-999dbcbe7b30",
   "metadata": {},
   "outputs": [],
   "source": [
    "# import json\n",
    "\n",
    "\n",
    "# from google.cloud import bigquery\n",
    "\n",
    "# # Construct a BigQuery client object.\n",
    "# client = bigquery.Client()\n",
    "\n",
    "# query = \"select * from `hybrid-vertex.spotify_train_3.train_flatten`\"\n",
    "# # data = client.query(query)\n",
    "# # data.allow_large_results = True\n",
    "# data = client.list_rows(\"hybrid-vertex.spotify_train_3.train_flatten\")#, max_results=100)\n",
    "\n",
    "# query_fields = [\n",
    "#     'name',\n",
    "#     'collaborative',\n",
    "#     'description',\n",
    "#     'duration_ms_playlist',\n",
    "#     'artist_name_seed_track',\n",
    "#     'artist_uri_seed_track',\n",
    "#     'track_name_seed_track',\n",
    "#     'track_uri_seed_track',\n",
    "#     'album_name_seed_track',\n",
    "#     'album_uri_seed_track',\n",
    "#     'duration_seed_track',\n",
    "#     'duration_ms_seed_pl',\n",
    "#     'n_songs',\n",
    "#     'num_artists',\n",
    "#     'num_albums',\n",
    "#     'artist_name_seed_pl',\n",
    "#     'track_uri_seed_pl',\n",
    "#     'track_name_seed_pl',\n",
    "#     'duration_ms_seed_songs_pl',\n",
    "#     'album_name_seed_pl',\n",
    "#     'artist_pop_seed_pl',\n",
    "#     'artists_followers_seed_pl',\n",
    "#     'track_pop_seed_pl',\n",
    "# ]\n",
    "\n",
    "# candidate_fields = [\n",
    "#     'artist_name_seed',\n",
    "#     'track_uri_seed',\n",
    "#     'artist_uri_seed',\n",
    "#     'track_name_seed',\n",
    "#     'album_uri_seed',\n",
    "#     'duration_ms_seed',\n",
    "#     'album_name_seed',\n",
    "#     'track_pop_seed',\n",
    "#     'artist_pop_seed',\n",
    "#     'artist_genres_seed',\n",
    "#     'artist_followers_seed',\n",
    "# ]\n",
    "# !rm train_data.jsonl #remove the file if needed\n",
    "# import multiprocessing\n",
    "# p = multiprocessing.Pool(2) # use all available CPUs\n",
    "\n",
    "# #iterate over the bq rows and update corresponding data jsonl data\n",
    "# def format_data(data, filename='train_data.jsonl'):\n",
    "#     for row in data:\n",
    "#         line = {\"query\" : {},\n",
    "#                \"candidate\" : {}}\n",
    "#         for field in query_fields:\n",
    "#             if type(row[field]) == list:\n",
    "#                 line[\"query\"].update({field: row[field]})\n",
    "#             else:\n",
    "#                 line[\"query\"].update({field: [row[field]]}) #if not a list, put variable in list\n",
    "#         for field in candidate_fields:\n",
    "#             if type(row[field]) == list:\n",
    "#                 line[\"candidate\"].update({field: row[field]})\n",
    "#             else:\n",
    "#                 line[\"candidate\"].update({field: [row[field]]})\n",
    "#     with open(filename, 'w') as file:\n",
    "#         file.write(json.dumps(line) + \",\\n\")\n",
    "#     file.close()\n",
    "\n",
    "# #run multithreaded \n",
    "# format_data(data)\n",
    "# # p.imap(write_jsonl, lines)"
   ]
  }
 ],
 "metadata": {
  "environment": {
   "kernel": "python3",
   "name": "tf2-gpu.2-9.m93",
   "type": "gcloud",
   "uri": "gcr.io/deeplearning-platform-release/tf2-gpu.2-9:m93"
  },
  "kernelspec": {
   "display_name": "Python 3",
   "language": "python",
   "name": "python3"
  },
  "language_info": {
   "codemirror_mode": {
    "name": "ipython",
    "version": 3
   },
   "file_extension": ".py",
   "mimetype": "text/x-python",
   "name": "python",
   "nbconvert_exporter": "python",
   "pygments_lexer": "ipython3",
   "version": "3.7.12"
  }
 },
 "nbformat": 4,
 "nbformat_minor": 5
}
