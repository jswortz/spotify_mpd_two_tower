{
 "cells": [
  {
   "cell_type": "code",
   "execution_count": null,
   "id": "e486dd60-1034-47a7-bd11-aa00c3840063",
   "metadata": {},
   "outputs": [],
   "source": [
    "    \"pl_name\" : Feature(bytes_list=BytesList(value=tensor['pl_name'].numpy())),\n",
    "    \"collaborative\" : Feature(bytes_list=BytesList(value=tensor['collaborative'].numpy())),\n",
    "    \"modified_at_playlist\" : Feature(int64_list=Int64List(value=tensor['modified_at_playlist'].numpy())),\n",
    "    \"num_tracks\" : Feature(int64_list=Int64List(value=tensor['num_tracks'].numpy())),\n",
    "    \"num_albums\" : Feature(int64_list=Int64List(value=tensor['num_albums'].numpy())),\n",
    "    \"num_followers\" : Feature(int64_list=Int64List(value=tensor['num_followers'].numpy())),\n",
    "    \"num_edits\" : Feature(int64_list=Int64List(value=tensor['num_edits'].numpy())),\n",
    "    \"duration_ms\" : Feature(int64_list=Int64List(value=tensor['duration_ms'].numpy())),\n",
    "    \"num_artists\" : Feature(int64_list=Int64List(value=tensor['num_artists'].numpy())),\n",
    "    \"genres\" : Feature(bytes_list=BytesList(value=tensor['genres'].numpy())),\n",
    "    #\"track_pop\" : Feature(int64_list=Int64List(value=tensor['track_pop'].numpy())),\n",
    "    \"time_signature\" : Feature(float_list=FloatList(value=tensor['time_signature'].numpy())),\n",
    "    \"uri\" : Feature(bytes_list=BytesList(value=tensor['uri'].numpy())),\n",
    "    \"tempo\" : Feature(float_list=FloatList(value=tensor['tempo'].numpy())),\n",
    "    \"valence\" : Feature(float_list=FloatList(value=tensor['valence'].numpy())),\n",
    "    \"liveness\" : Feature(float_list=FloatList(value=tensor['liveness'].numpy())),\n",
    "    \"instrumentalness\" : Feature(float_list=FloatList(value=tensor['instrumentalness'].numpy())),\n",
    "    \"acousticness\" : Feature(float_list=FloatList(value=tensor['acousticness'].numpy())),\n",
    "    \"speechiness\" : Feature(float_list=FloatList(value=tensor['speechiness'].numpy())),\n",
    "    \"mode\" : Feature(float_list=FloatList(value=tensor['mode'].numpy())),\n",
    "    \"loudness\" : Feature(float_list=FloatList(value=tensor['loudness'].numpy())),\n",
    "    \"key\" : Feature(float_list=FloatList(value=tensor['key'].numpy())),\n",
    "    \"energy\" : Feature(float_list=FloatList(value=tensor['energy'].numpy())),\n",
    "    \"danceability\" : Feature(float_list=FloatList(value=tensor['danceability'].numpy())),\n",
    "    \"speechiness\" : Feature(float_list=FloatList(value=tensor['speechiness'].numpy())),\n",
    "    \"artist_name\" : Feature(bytes_list=BytesList(value=tensor['artist_name'].numpy())),\n",
    "    \"track_name\" : Feature(bytes_list=BytesList(value=tensor['track_name'].numpy())),\n",
    "    \"track_name\" : Feature(bytes_list=BytesList(value=tensor['album_name'].numpy()))"
   ]
  }
 ],
 "metadata": {
  "environment": {
   "kernel": "python3",
   "name": "tf2-gpu.2-8.m91",
   "type": "gcloud",
   "uri": "gcr.io/deeplearning-platform-release/tf2-gpu.2-8:m91"
  },
  "kernelspec": {
   "display_name": "Python 3",
   "language": "python",
   "name": "python3"
  },
  "language_info": {
   "codemirror_mode": {
    "name": "ipython",
    "version": 3
   },
   "file_extension": ".py",
   "mimetype": "text/x-python",
   "name": "python",
   "nbconvert_exporter": "python",
   "pygments_lexer": "ipython3",
   "version": "3.7.12"
  }
 },
 "nbformat": 4,
 "nbformat_minor": 5
}
