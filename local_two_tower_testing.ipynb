{
 "cells": [
  {
   "cell_type": "code",
   "execution_count": null,
   "id": "111f88c7-f173-4212-ab30-3c7f558db668",
   "metadata": {},
   "outputs": [],
   "source": [
    "# Testing Two Tower Notebook"
   ]
  },
  {
   "cell_type": "markdown",
   "id": "9f27a577-07f0-4f24-95f0-265ebdaec533",
   "metadata": {
    "tags": []
   },
   "source": [
    "# Two-Tower Model Testing and Demonstration"
   ]
  },
  {
   "cell_type": "markdown",
   "id": "1e16637a-f53d-4773-b7c5-757c0cd93090",
   "metadata": {
    "jp-MarkdownHeadingCollapsed": true,
    "tags": []
   },
   "source": [
    "## Playlist (query) Tower"
   ]
  },
  {
   "cell_type": "markdown",
   "id": "bc753194-9d8a-401f-8e2c-08c0f36e70a1",
   "metadata": {
    "jp-MarkdownHeadingCollapsed": true,
    "tags": []
   },
   "source": [
    "### Test playlist tower"
   ]
  },
  {
   "cell_type": "code",
   "execution_count": 6,
   "id": "0a73a11b-7029-4663-a7b5-30dbbb0c92f4",
   "metadata": {},
   "outputs": [],
   "source": [
    "layer_sizes=[64,32]\n",
    "\n",
    "test_playlist_model = tt.Playlist_Model(layer_sizes,tt.vocab_dict_load)\n",
    "\n",
    "# test_playlist_model.pl_name_text_embedding.layers[0].adapt(parsed_dataset_padded.map(lambda x: x['name']).batch(1000))\n",
    "\n",
    "# print(\"Adapts complete for name\")"
   ]
  },
  {
   "cell_type": "markdown",
   "id": "3cfb02e0-ff7f-4020-b6af-6dbf29672d17",
   "metadata": {
    "tags": []
   },
   "source": [
    "#### Some examples below of how to access an adapted vocabulary and set to a new key in the vocab_dict"
   ]
  },
  {
   "cell_type": "code",
   "execution_count": 7,
   "id": "c2750b7b-9cee-4709-ad83-eef846193a0a",
   "metadata": {},
   "outputs": [],
   "source": [
    "# test_playlist_model.pl_name_text_embedding.layers[0].get_vocabulary()\n",
    "# vocab_dict_load['name_voacb'] = test_playlist_model.pl_name_text_embedding.layers[0].get_vocabulary()"
   ]
  },
  {
   "cell_type": "code",
   "execution_count": 8,
   "id": "ef0b73db-db75-4ee1-9464-52cdf473ba05",
   "metadata": {},
   "outputs": [
    {
     "ename": "NameError",
     "evalue": "name 'parsed_dataset_padded' is not defined",
     "output_type": "error",
     "traceback": [
      "\u001b[0;31m---------------------------------------------------------------------------\u001b[0m",
      "\u001b[0;31mNameError\u001b[0m                                 Traceback (most recent call last)",
      "\u001b[0;32m/tmp/ipykernel_4600/3751154484.py\u001b[0m in \u001b[0;36m<module>\u001b[0;34m\u001b[0m\n\u001b[1;32m      1\u001b[0m \u001b[0;31m#test with the source batched datset\u001b[0m\u001b[0;34m\u001b[0m\u001b[0;34m\u001b[0m\u001b[0;34m\u001b[0m\u001b[0m\n\u001b[0;32m----> 2\u001b[0;31m \u001b[0mbatched_dataset\u001b[0m \u001b[0;34m=\u001b[0m \u001b[0mparsed_dataset_padded\u001b[0m\u001b[0;34m.\u001b[0m\u001b[0mbatch\u001b[0m\u001b[0;34m(\u001b[0m\u001b[0;36m2\u001b[0m\u001b[0;34m)\u001b[0m\u001b[0;34m\u001b[0m\u001b[0;34m\u001b[0m\u001b[0m\n\u001b[0m\u001b[1;32m      3\u001b[0m \u001b[0;32mfor\u001b[0m \u001b[0mx\u001b[0m \u001b[0;32min\u001b[0m \u001b[0mbatched_dataset\u001b[0m\u001b[0;34m.\u001b[0m\u001b[0mtake\u001b[0m\u001b[0;34m(\u001b[0m\u001b[0;36m1\u001b[0m\u001b[0;34m)\u001b[0m\u001b[0;34m:\u001b[0m\u001b[0;34m\u001b[0m\u001b[0;34m\u001b[0m\u001b[0m\n\u001b[1;32m      4\u001b[0m     \u001b[0mprint\u001b[0m\u001b[0;34m(\u001b[0m\u001b[0mtest_playlist_model\u001b[0m\u001b[0;34m(\u001b[0m\u001b[0mx\u001b[0m\u001b[0;34m)\u001b[0m\u001b[0;34m)\u001b[0m\u001b[0;34m\u001b[0m\u001b[0;34m\u001b[0m\u001b[0m\n",
      "\u001b[0;31mNameError\u001b[0m: name 'parsed_dataset_padded' is not defined"
     ]
    }
   ],
   "source": [
    "#test with the source batched datset\n",
    "batched_dataset = parsed_dataset_padded.batch(2)\n",
    "for x in batched_dataset.take(1):\n",
    "    print(test_playlist_model(x))"
   ]
  },
  {
   "cell_type": "code",
   "execution_count": 11,
   "id": "51265e68-a269-42d0-9a71-d19fd0df3c04",
   "metadata": {},
   "outputs": [],
   "source": [
    "del test_playlist_model"
   ]
  },
  {
   "cell_type": "code",
   "execution_count": 27,
   "id": "964dcbe6-e4be-4f39-a3ad-35be1b00bccd",
   "metadata": {
    "collapsed": true,
    "jupyter": {
     "outputs_hidden": true
    },
    "tags": []
   },
   "outputs": [
    {
     "name": "stdout",
     "output_type": "stream",
     "text": [
      "Model: \"playlist__model\"\n",
      "_________________________________________________________________\n",
      " Layer (type)                Output Shape              Param #   \n",
      "=================================================================\n",
      " pl_name_emb_model (Sequenti  (None, 32)               2368928   \n",
      " al)                                                             \n",
      "|¯¯¯¯¯¯¯¯¯¯¯¯¯¯¯¯¯¯¯¯¯¯¯¯¯¯¯¯¯¯¯¯¯¯¯¯¯¯¯¯¯¯¯¯¯¯¯¯¯¯¯¯¯¯¯¯¯¯¯¯¯¯¯|\n",
      "| pl_name_txt_vectorizer (Tex  (None, None)           0         |\n",
      "| tVectorization)                                               |\n",
      "|                                                               |\n",
      "| pl_name_emb_layer (Embeddin  (None, None, 32)       2368928   |\n",
      "| g)                                                            |\n",
      "|                                                               |\n",
      "| pl_name_pooling (GlobalAver  (None, 32)             0         |\n",
      "| agePooling1D)                                                 |\n",
      "¯¯¯¯¯¯¯¯¯¯¯¯¯¯¯¯¯¯¯¯¯¯¯¯¯¯¯¯¯¯¯¯¯¯¯¯¯¯¯¯¯¯¯¯¯¯¯¯¯¯¯¯¯¯¯¯¯¯¯¯¯¯¯¯¯\n",
      " pl_collaborative_emb_model   (10, 32)                 96        \n",
      " (Sequential)                                                    \n",
      "|¯¯¯¯¯¯¯¯¯¯¯¯¯¯¯¯¯¯¯¯¯¯¯¯¯¯¯¯¯¯¯¯¯¯¯¯¯¯¯¯¯¯¯¯¯¯¯¯¯¯¯¯¯¯¯¯¯¯¯¯¯¯¯|\n",
      "| pl_collaborative_lookup (St  (10,)                  0         |\n",
      "| ringLookup)                                                   |\n",
      "|                                                               |\n",
      "| pl_collaborative_emb_layer   (10, 32)               96        |\n",
      "| (Embedding)                                                   |\n",
      "¯¯¯¯¯¯¯¯¯¯¯¯¯¯¯¯¯¯¯¯¯¯¯¯¯¯¯¯¯¯¯¯¯¯¯¯¯¯¯¯¯¯¯¯¯¯¯¯¯¯¯¯¯¯¯¯¯¯¯¯¯¯¯¯¯\n",
      " pl_track_uri_emb_model (Seq  (10, 32)                 72393376  \n",
      " uential)                                                        \n",
      "|¯¯¯¯¯¯¯¯¯¯¯¯¯¯¯¯¯¯¯¯¯¯¯¯¯¯¯¯¯¯¯¯¯¯¯¯¯¯¯¯¯¯¯¯¯¯¯¯¯¯¯¯¯¯¯¯¯¯¯¯¯¯¯|\n",
      "| pl_track_uri_lookup (String  (10,)                  0         |\n",
      "| Lookup)                                                       |\n",
      "|                                                               |\n",
      "| pl_track_uri_layer (Embeddi  (10, 32)               72393376  |\n",
      "| ng)                                                           |\n",
      "¯¯¯¯¯¯¯¯¯¯¯¯¯¯¯¯¯¯¯¯¯¯¯¯¯¯¯¯¯¯¯¯¯¯¯¯¯¯¯¯¯¯¯¯¯¯¯¯¯¯¯¯¯¯¯¯¯¯¯¯¯¯¯¯¯\n",
      " n_songs_pl_emb_model (Seque  (10, 32)                 3232      \n",
      " ntial)                                                          \n",
      "|¯¯¯¯¯¯¯¯¯¯¯¯¯¯¯¯¯¯¯¯¯¯¯¯¯¯¯¯¯¯¯¯¯¯¯¯¯¯¯¯¯¯¯¯¯¯¯¯¯¯¯¯¯¯¯¯¯¯¯¯¯¯¯|\n",
      "| discretization (Discretizat  (10,)                  0         |\n",
      "| ion)                                                          |\n",
      "|                                                               |\n",
      "| n_songs_pl_emb_layer (Embed  (10, 32)               3232      |\n",
      "| ding)                                                         |\n",
      "¯¯¯¯¯¯¯¯¯¯¯¯¯¯¯¯¯¯¯¯¯¯¯¯¯¯¯¯¯¯¯¯¯¯¯¯¯¯¯¯¯¯¯¯¯¯¯¯¯¯¯¯¯¯¯¯¯¯¯¯¯¯¯¯¯\n",
      " n_artists_pl_emb_model (Seq  (10, 32)                 3232      \n",
      " uential)                                                        \n",
      "|¯¯¯¯¯¯¯¯¯¯¯¯¯¯¯¯¯¯¯¯¯¯¯¯¯¯¯¯¯¯¯¯¯¯¯¯¯¯¯¯¯¯¯¯¯¯¯¯¯¯¯¯¯¯¯¯¯¯¯¯¯¯¯|\n",
      "| discretization_1 (Discretiz  (10,)                  0         |\n",
      "| ation)                                                        |\n",
      "|                                                               |\n",
      "| n_artists_pl_emb_layer (Emb  (10, 32)               3232      |\n",
      "| edding)                                                       |\n",
      "¯¯¯¯¯¯¯¯¯¯¯¯¯¯¯¯¯¯¯¯¯¯¯¯¯¯¯¯¯¯¯¯¯¯¯¯¯¯¯¯¯¯¯¯¯¯¯¯¯¯¯¯¯¯¯¯¯¯¯¯¯¯¯¯¯\n",
      " n_albums_pl_emb_model (Sequ  (10, 32)                 3232      \n",
      " ential)                                                         \n",
      "|¯¯¯¯¯¯¯¯¯¯¯¯¯¯¯¯¯¯¯¯¯¯¯¯¯¯¯¯¯¯¯¯¯¯¯¯¯¯¯¯¯¯¯¯¯¯¯¯¯¯¯¯¯¯¯¯¯¯¯¯¯¯¯|\n",
      "| discretization_2 (Discretiz  (10,)                  0         |\n",
      "| ation)                                                        |\n",
      "|                                                               |\n",
      "| n_albums_pl_emb_layer (Embe  (10, 32)               3232      |\n",
      "| dding)                                                        |\n",
      "¯¯¯¯¯¯¯¯¯¯¯¯¯¯¯¯¯¯¯¯¯¯¯¯¯¯¯¯¯¯¯¯¯¯¯¯¯¯¯¯¯¯¯¯¯¯¯¯¯¯¯¯¯¯¯¯¯¯¯¯¯¯¯¯¯\n",
      " artist_name_pl_emb_model (S  (10, 32)                 9206752   \n",
      " equential)                                                      \n",
      "|¯¯¯¯¯¯¯¯¯¯¯¯¯¯¯¯¯¯¯¯¯¯¯¯¯¯¯¯¯¯¯¯¯¯¯¯¯¯¯¯¯¯¯¯¯¯¯¯¯¯¯¯¯¯¯¯¯¯¯¯¯¯¯|\n",
      "| string_lookup_1 (StringLook  (10, 375)              0         |\n",
      "| up)                                                           |\n",
      "|                                                               |\n",
      "| artist_name_pl_emb_layer (E  (10, 375, 32)          9206752   |\n",
      "| mbedding)                                                     |\n",
      "|                                                               |\n",
      "| artist_name_pl_1d (GlobalAv  (10, 32)               0         |\n",
      "| eragePooling1D)                                               |\n",
      "¯¯¯¯¯¯¯¯¯¯¯¯¯¯¯¯¯¯¯¯¯¯¯¯¯¯¯¯¯¯¯¯¯¯¯¯¯¯¯¯¯¯¯¯¯¯¯¯¯¯¯¯¯¯¯¯¯¯¯¯¯¯¯¯¯\n",
      " track_uri_pl_emb_model (Seq  (10, 32)                 72393376  \n",
      " uential)                                                        \n",
      "|¯¯¯¯¯¯¯¯¯¯¯¯¯¯¯¯¯¯¯¯¯¯¯¯¯¯¯¯¯¯¯¯¯¯¯¯¯¯¯¯¯¯¯¯¯¯¯¯¯¯¯¯¯¯¯¯¯¯¯¯¯¯¯|\n",
      "| string_lookup_2 (StringLook  (10, 375)              0         |\n",
      "| up)                                                           |\n",
      "|                                                               |\n",
      "| track_uri_pl_emb_layer (Emb  (10, 375, 32)          72393376  |\n",
      "| edding)                                                       |\n",
      "|                                                               |\n",
      "| track_uri_1d (GlobalAverage  (10, 32)               0         |\n",
      "| Pooling1D)                                                    |\n",
      "¯¯¯¯¯¯¯¯¯¯¯¯¯¯¯¯¯¯¯¯¯¯¯¯¯¯¯¯¯¯¯¯¯¯¯¯¯¯¯¯¯¯¯¯¯¯¯¯¯¯¯¯¯¯¯¯¯¯¯¯¯¯¯¯¯\n",
      " track_name_pl_emb_model (Se  (10, 32)                 47480160  \n",
      " quential)                                                       \n",
      "|¯¯¯¯¯¯¯¯¯¯¯¯¯¯¯¯¯¯¯¯¯¯¯¯¯¯¯¯¯¯¯¯¯¯¯¯¯¯¯¯¯¯¯¯¯¯¯¯¯¯¯¯¯¯¯¯¯¯¯¯¯¯¯|\n",
      "| track_name_pl_lookup (Strin  (10, 375)              0         |\n",
      "| gLookup)                                                      |\n",
      "|                                                               |\n",
      "| track_name_pl_emb_layer (Em  (10, 375, 32)          47480160  |\n",
      "| bedding)                                                      |\n",
      "|                                                               |\n",
      "| track_name_pl_1d (GlobalAve  (10, 32)               0         |\n",
      "| ragePooling1D)                                                |\n",
      "¯¯¯¯¯¯¯¯¯¯¯¯¯¯¯¯¯¯¯¯¯¯¯¯¯¯¯¯¯¯¯¯¯¯¯¯¯¯¯¯¯¯¯¯¯¯¯¯¯¯¯¯¯¯¯¯¯¯¯¯¯¯¯¯¯\n",
      " duration_ms_songs_pl_emb_mo  (10, 32)                 3232      \n",
      " del (Sequential)                                                \n",
      "|¯¯¯¯¯¯¯¯¯¯¯¯¯¯¯¯¯¯¯¯¯¯¯¯¯¯¯¯¯¯¯¯¯¯¯¯¯¯¯¯¯¯¯¯¯¯¯¯¯¯¯¯¯¯¯¯¯¯¯¯¯¯¯|\n",
      "| discretization_3 (Discretiz  (10, 375)              0         |\n",
      "| ation)                                                        |\n",
      "|                                                               |\n",
      "| duration_ms_songs_pl_emb_la  (10, 375, 32)          3232      |\n",
      "| yer (Embedding)                                               |\n",
      "|                                                               |\n",
      "| duration_ms_songs_pl_emb_la  (10, 32)               0         |\n",
      "| yer_pl_1d (GlobalAveragePoo                                   |\n",
      "| ling1D)                                                       |\n",
      "¯¯¯¯¯¯¯¯¯¯¯¯¯¯¯¯¯¯¯¯¯¯¯¯¯¯¯¯¯¯¯¯¯¯¯¯¯¯¯¯¯¯¯¯¯¯¯¯¯¯¯¯¯¯¯¯¯¯¯¯¯¯¯¯¯\n",
      " album_name_pl_emb_model (Se  (10, 32)                 18292032  \n",
      " quential)                                                       \n",
      "|¯¯¯¯¯¯¯¯¯¯¯¯¯¯¯¯¯¯¯¯¯¯¯¯¯¯¯¯¯¯¯¯¯¯¯¯¯¯¯¯¯¯¯¯¯¯¯¯¯¯¯¯¯¯¯¯¯¯¯¯¯¯¯|\n",
      "| album_name_pl_lookup (Strin  (10, 375)              0         |\n",
      "| gLookup)                                                      |\n",
      "|                                                               |\n",
      "| album_name_pl_emb_layer (Em  (10, 375, 32)          18292032  |\n",
      "| bedding)                                                      |\n",
      "|                                                               |\n",
      "| album_name_pl_emb_layer_1d   (10, 32)               0         |\n",
      "| (GlobalAveragePooling1D)                                      |\n",
      "¯¯¯¯¯¯¯¯¯¯¯¯¯¯¯¯¯¯¯¯¯¯¯¯¯¯¯¯¯¯¯¯¯¯¯¯¯¯¯¯¯¯¯¯¯¯¯¯¯¯¯¯¯¯¯¯¯¯¯¯¯¯¯¯¯\n",
      " artist_pop_pl_emb_model (Se  (10, 32)                 352       \n",
      " quential)                                                       \n",
      "|¯¯¯¯¯¯¯¯¯¯¯¯¯¯¯¯¯¯¯¯¯¯¯¯¯¯¯¯¯¯¯¯¯¯¯¯¯¯¯¯¯¯¯¯¯¯¯¯¯¯¯¯¯¯¯¯¯¯¯¯¯¯¯|\n",
      "| discretization_4 (Discretiz  (10, 375)              0         |\n",
      "| ation)                                                        |\n",
      "|                                                               |\n",
      "| artist_pop_pl_emb_layer (Em  (10, 375, 32)          352       |\n",
      "| bedding)                                                      |\n",
      "|                                                               |\n",
      "| artist_pop_1d (GlobalAverag  (10, 32)               0         |\n",
      "| ePooling1D)                                                   |\n",
      "¯¯¯¯¯¯¯¯¯¯¯¯¯¯¯¯¯¯¯¯¯¯¯¯¯¯¯¯¯¯¯¯¯¯¯¯¯¯¯¯¯¯¯¯¯¯¯¯¯¯¯¯¯¯¯¯¯¯¯¯¯¯¯¯¯\n",
      " artists_followers_pl_emb_mo  (10, 32)                 352       \n",
      " del (Sequential)                                                \n",
      "|¯¯¯¯¯¯¯¯¯¯¯¯¯¯¯¯¯¯¯¯¯¯¯¯¯¯¯¯¯¯¯¯¯¯¯¯¯¯¯¯¯¯¯¯¯¯¯¯¯¯¯¯¯¯¯¯¯¯¯¯¯¯¯|\n",
      "| discretization_5 (Discretiz  (10, 375)              0         |\n",
      "| ation)                                                        |\n",
      "|                                                               |\n",
      "| artists_followers_pl_emb_la  (10, 375, 32)          352       |\n",
      "| yer (Embedding)                                               |\n",
      "|                                                               |\n",
      "| artists_followers_pl_1d (Gl  (10, 32)               0         |\n",
      "| obalAveragePooling1D)                                         |\n",
      "¯¯¯¯¯¯¯¯¯¯¯¯¯¯¯¯¯¯¯¯¯¯¯¯¯¯¯¯¯¯¯¯¯¯¯¯¯¯¯¯¯¯¯¯¯¯¯¯¯¯¯¯¯¯¯¯¯¯¯¯¯¯¯¯¯\n",
      " track_pop_pl_emb_model (Seq  (10, 32)                 352       \n",
      " uential)                                                        \n",
      "|¯¯¯¯¯¯¯¯¯¯¯¯¯¯¯¯¯¯¯¯¯¯¯¯¯¯¯¯¯¯¯¯¯¯¯¯¯¯¯¯¯¯¯¯¯¯¯¯¯¯¯¯¯¯¯¯¯¯¯¯¯¯¯|\n",
      "| discretization_6 (Discretiz  (10, 375)              0         |\n",
      "| ation)                                                        |\n",
      "|                                                               |\n",
      "| track_pop_pl_emb_layer (Emb  (10, 375, 32)          352       |\n",
      "| edding)                                                       |\n",
      "|                                                               |\n",
      "| track_pop_pl_1d (GlobalAver  (10, 32)               0         |\n",
      "| agePooling1D)                                                 |\n",
      "¯¯¯¯¯¯¯¯¯¯¯¯¯¯¯¯¯¯¯¯¯¯¯¯¯¯¯¯¯¯¯¯¯¯¯¯¯¯¯¯¯¯¯¯¯¯¯¯¯¯¯¯¯¯¯¯¯¯¯¯¯¯¯¯¯\n",
      " artist_genres_pl_emb_model   (10, 32)                 1260768   \n",
      " (Sequential)                                                    \n",
      "|¯¯¯¯¯¯¯¯¯¯¯¯¯¯¯¯¯¯¯¯¯¯¯¯¯¯¯¯¯¯¯¯¯¯¯¯¯¯¯¯¯¯¯¯¯¯¯¯¯¯¯¯¯¯¯¯¯¯¯¯¯¯¯|\n",
      "| flatten (Flatten)         (10, 375)                 0         |\n",
      "|                                                               |\n",
      "| string_lookup_3 (StringLook  (10, 375)              0         |\n",
      "| up)                                                           |\n",
      "|                                                               |\n",
      "| artist_genres_pl_emb_layer   (10, 375, 32)          1260768   |\n",
      "| (Embedding)                                                   |\n",
      "|                                                               |\n",
      "| artist_genres_pl_1d (Global  (10, 32)               0         |\n",
      "| AveragePooling1D)                                             |\n",
      "¯¯¯¯¯¯¯¯¯¯¯¯¯¯¯¯¯¯¯¯¯¯¯¯¯¯¯¯¯¯¯¯¯¯¯¯¯¯¯¯¯¯¯¯¯¯¯¯¯¯¯¯¯¯¯¯¯¯¯¯¯¯¯¯¯\n",
      " pl_cross_layer (Cross)      multiple                  5280      \n",
      "                                                                 \n",
      " pl_dense_layers (Sequential  (10, 32)                 32864     \n",
      " )                                                               \n",
      "|¯¯¯¯¯¯¯¯¯¯¯¯¯¯¯¯¯¯¯¯¯¯¯¯¯¯¯¯¯¯¯¯¯¯¯¯¯¯¯¯¯¯¯¯¯¯¯¯¯¯¯¯¯¯¯¯¯¯¯¯¯¯¯|\n",
      "| dense (Dense)             (10, 64)                  30784     |\n",
      "|                                                               |\n",
      "| dropout (Dropout)         (10, 64)                  0         |\n",
      "|                                                               |\n",
      "| dense_1 (Dense)           (10, 32)                  2080      |\n",
      "|                                                               |\n",
      "| lambda (Lambda)           (10, 32)                  0         |\n",
      "¯¯¯¯¯¯¯¯¯¯¯¯¯¯¯¯¯¯¯¯¯¯¯¯¯¯¯¯¯¯¯¯¯¯¯¯¯¯¯¯¯¯¯¯¯¯¯¯¯¯¯¯¯¯¯¯¯¯¯¯¯¯¯¯¯\n",
      "=================================================================\n",
      "Total params: 223,447,616\n",
      "Trainable params: 223,447,616\n",
      "Non-trainable params: 0\n",
      "_________________________________________________________________\n"
     ]
    }
   ],
   "source": [
    "test_playlist_model.summary(expand_nested=True)"
   ]
  },
  {
   "cell_type": "markdown",
   "id": "6a654728-407c-4881-9e05-e46c86404f58",
   "metadata": {},
   "source": [
    "## Track (candidate) Tower "
   ]
  },
  {
   "cell_type": "markdown",
   "id": "7fee4d61-e258-4148-b2df-cdfccac9b4dc",
   "metadata": {},
   "source": [
    "### Candidate model test\n",
    "Note adapts are done on the unique candidate dataset to save time"
   ]
  },
  {
   "cell_type": "code",
   "execution_count": 13,
   "id": "306d7048-a3a7-4247-babe-ae53b857e4c1",
   "metadata": {},
   "outputs": [],
   "source": [
    "layer_sizes=[64,32]\n",
    "\n",
    "test_can_track_model = tt.Candidate_Track_Model(layer_sizes, tt.vocab_dict_load)\n",
    "\n",
    "#adapts\n",
    "# test_can_track_model.artist_name_can_text_embedding.layers[0].adapt(parsed_candidate_dataset.map(lambda x: x['artist_name_can']).batch(1000))\n",
    "# test_can_track_model.track_name_can_text_embedding.layers[0].adapt(parsed_candidate_dataset.map(lambda x: x['track_name_can']).batch(1000))\n",
    "# test_can_track_model.album_name_can_text_embedding.layers[0].adapt(parsed_candidate_dataset.map(lambda x: x['album_name_can']).batch(1000))\n",
    "# test_can_track_model.artist_genres_can_text_embedding.layers[0].adapt(parsed_candidate_dataset.map(lambda x: x['artist_genres_can']).batch(1000))\n",
    "\n",
    "# can_result = test_can_track_model([candidate_test_instance])\n",
    "\n",
    "# print(f\"Shape of can_result: {can_result.shape}\")\n",
    "# can_result"
   ]
  },
  {
   "cell_type": "markdown",
   "id": "7d25b50f-d833-4051-99e8-1ddc04b920da",
   "metadata": {},
   "source": [
    "## Validate the output in a small batch "
   ]
  },
  {
   "cell_type": "code",
   "execution_count": 15,
   "id": "ad0dd11b-cad9-49d4-a390-29502ba75a0e",
   "metadata": {},
   "outputs": [
    {
     "name": "stdout",
     "output_type": "stream",
     "text": [
      "tf.Tensor(\n",
      "[[-0.11201185 -0.206755   -0.18045759  0.07737618  0.03264336 -0.33545116\n",
      "  -0.1591977   0.19581121 -0.06903844  0.01181059  0.4259455   0.15603209\n",
      "  -0.18393841 -0.16382658 -0.18161613 -0.21947345  0.48698536 -0.02518937\n",
      "   0.12081616 -0.4297281   0.2016943  -0.52300894  0.04528558  0.40296668\n",
      "  -0.42080963  0.01119863  0.11597577  0.05094406  0.05474314  0.18036497\n",
      "   0.07655917 -0.1995453 ]\n",
      " [ 0.08474436 -0.2626423  -0.15325345  0.02726585  0.07601295  0.00363033\n",
      "   0.14329386  0.07862413 -0.00256308  0.21880352  0.32578433 -0.07587124\n",
      "  -0.09890726  0.00391698  0.05119768 -0.20095554 -0.04316837 -0.05883677\n",
      "   0.14658357 -0.17711747 -0.39837694 -0.44184572 -0.26477706  0.19551444\n",
      "  -0.27569064 -0.00155214 -0.30036432  0.03524041 -0.19633287  0.24641578\n",
      "   0.7029978   0.04300903]], shape=(2, 32), dtype=float32)\n"
     ]
    }
   ],
   "source": [
    "#test with the source batched datset and candidate dataset\n",
    "batched_dataset = tt.parsed_candidate_dataset.batch(2)\n",
    "for x in batched_dataset.take(1):\n",
    "    print(test_can_track_model(x))"
   ]
  },
  {
   "cell_type": "code",
   "execution_count": null,
   "id": "8e556e83-4603-4038-97a7-9a55ae73d7bc",
   "metadata": {
    "tags": []
   },
   "outputs": [],
   "source": [
    "# test_can_track_model.summary(expand_nested=True)"
   ]
  }
 ],
 "metadata": {
  "environment": {
   "kernel": "python3",
   "name": "tf2-gpu.2-8.m96",
   "type": "gcloud",
   "uri": "gcr.io/deeplearning-platform-release/tf2-gpu.2-8:m96"
  },
  "kernelspec": {
   "display_name": "Python 3",
   "language": "python",
   "name": "python3"
  },
  "language_info": {
   "codemirror_mode": {
    "name": "ipython",
    "version": 3
   },
   "file_extension": ".py",
   "mimetype": "text/x-python",
   "name": "python",
   "nbconvert_exporter": "python",
   "pygments_lexer": "ipython3",
   "version": "3.7.12"
  }
 },
 "nbformat": 4,
 "nbformat_minor": 5
}
