{
 "cells": [
  {
   "cell_type": "markdown",
   "id": "2848d121-f105-4f62-8e72-5b46f739405e",
   "metadata": {},
   "source": [
    "# Clean-up Vector Search (formerly Matching Engine) Indexes and Index Endpoints"
   ]
  },
  {
   "cell_type": "code",
   "execution_count": 13,
   "id": "ae3fcb84-1f5a-492b-aced-f62e336f3b2b",
   "metadata": {},
   "outputs": [
    {
     "name": "stdout",
     "output_type": "stream",
     "text": [
      "PREFIX = ndr-v1\n"
     ]
    }
   ],
   "source": [
    "# naming convention for all cloud resources\n",
    "VERSION        = \"v1\"                  # TODO\n",
    "PREFIX         = f'ndr-{VERSION}'      # TODO\n",
    "\n",
    "print(f\"PREFIX = {PREFIX}\")"
   ]
  },
  {
   "cell_type": "code",
   "execution_count": 14,
   "id": "b7465551-247c-4484-aebb-9eebed10dfb2",
   "metadata": {},
   "outputs": [
    {
     "name": "stdout",
     "output_type": "stream",
     "text": [
      "\n",
      "PROJECT_ID               = \"hybrid-vertex\"\n",
      "PROJECT_NUM              = \"934903580331\"\n",
      "LOCATION                 = \"us-central1\"\n",
      "\n",
      "REGION                   = \"us-central1\"\n",
      "BQ_LOCATION              = \"US\"\n",
      "VPC_NETWORK_NAME         = \"ucaip-haystack-vpc-network\"\n",
      "\n",
      "VERTEX_SA                = \"934903580331-compute@developer.gserviceaccount.com\"\n",
      "\n",
      "PREFIX                   = \"ndr-v1\"\n",
      "VERSION                  = \"v1\"\n",
      "\n",
      "APP                      = \"sp\"\n",
      "MODEL_TYPE               = \"2tower\"\n",
      "FRAMEWORK                = \"tfrs\"\n",
      "DATA_VERSION             = \"v1\"\n",
      "TRACK_HISTORY            = \"5\"\n",
      "\n",
      "BUCKET_NAME              = \"ndr-v1-hybrid-vertex-bucket\"\n",
      "BUCKET_URI               = \"gs://ndr-v1-hybrid-vertex-bucket\"\n",
      "SOURCE_BUCKET            = \"spotify-million-playlist-dataset\"\n",
      "\n",
      "DATA_GCS_PREFIX          = \"data\"\n",
      "DATA_PATH                = \"gs://ndr-v1-hybrid-vertex-bucket/data\"\n",
      "VOCAB_SUBDIR             = \"vocabs\"\n",
      "VOCAB_FILENAME           = \"vocab_dict.pkl\"\n",
      "\n",
      "CANDIDATE_PREFIX         = \"candidates\"\n",
      "TRAIN_DIR_PREFIX         = \"train\"\n",
      "VALID_DIR_PREFIX         = \"valid\"\n",
      "\n",
      "VPC_NETWORK_FULL         = \"projects/934903580331/global/networks/ucaip-haystack-vpc-network\"\n",
      "\n",
      "BQ_DATASET               = \"spotify_e2e_test\"\n",
      "BQ_TABLE_TRAIN           = \"train_flatten_last_5\"\n",
      "BQ_TABLE_VALID           = \"train_flatten_valid_last_5\"\n",
      "BQ_TABLE_CANDIDATES      = \"candidates\"\n",
      "\n",
      "REPO_SRC                 = \"src\"\n",
      "PIPELINES_SUB_DIR        = \"feature_pipes\"\n",
      "\n",
      "REPOSITORY               = \"ndr-v1-spotify\"\n",
      "IMAGE_NAME               = \"train-v1\"\n",
      "REMOTE_IMAGE_NAME        = \"us-central1-docker.pkg.dev/hybrid-vertex/ndr-v1-spotify/train-v1\"\n",
      "DOCKERNAME               = \"tfrs\"\n",
      "\n",
      "SERVING_IMAGE_URI_CPU    = \"us-docker.pkg.dev/vertex-ai/prediction/tf2-cpu.2-11:latest\"\n",
      "SERVING_IMAGE_URI_GPU    = \"us-docker.pkg.dev/vertex-ai/prediction/tf2-gpu.2-11:latest\"\n",
      "\n"
     ]
    }
   ],
   "source": [
    "# staging GCS\n",
    "GCP_PROJECTS             = !gcloud config get-value project\n",
    "PROJECT_ID               = GCP_PROJECTS[0]\n",
    "\n",
    "# GCS bucket and paths\n",
    "BUCKET_NAME              = f'{PREFIX}-{PROJECT_ID}-bucket'\n",
    "BUCKET_URI               = f'gs://{BUCKET_NAME}'\n",
    "\n",
    "config = !gsutil cat {BUCKET_URI}/config/notebook_env.py\n",
    "print(config.n)\n",
    "exec(config.n)"
   ]
  },
  {
   "cell_type": "code",
   "execution_count": 15,
   "id": "3d8597b7-23fb-4ac6-aab9-e1c11239a345",
   "metadata": {},
   "outputs": [],
   "source": [
    "import os\n",
    "import sys\n",
    "import time\n",
    "import numpy as np\n",
    "\n",
    "# os.environ['TF_CPP_MIN_LOG_LEVEL'] = '2' \n",
    "\n",
    "# google cloud SDKs\n",
    "from google.cloud import storage\n",
    "from google.cloud import aiplatform as vertex_ai"
   ]
  },
  {
   "cell_type": "code",
   "execution_count": 16,
   "id": "14786996-636d-43f9-b7a6-9a552874a982",
   "metadata": {},
   "outputs": [],
   "source": [
    "vertex_ai.init(project=PROJECT_ID, location=LOCATION)\n",
    "\n",
    "storage_client = storage.Client(project=PROJECT_ID)"
   ]
  },
  {
   "cell_type": "markdown",
   "id": "a2988769-60e1-4877-b6d2-0a4773ed48b5",
   "metadata": {},
   "source": [
    "## Index Endpoints"
   ]
  },
  {
   "cell_type": "code",
   "execution_count": 42,
   "id": "9939a0f5-69d5-4846-ad02-51bb65b5fa3c",
   "metadata": {
    "tags": []
   },
   "outputs": [
    {
     "name": "stdout",
     "output_type": "stream",
     "text": [
      "Using endpoint [https://us-central1-aiplatform.googleapis.com/]\n",
      "---\n",
      "createTime: '2023-09-25T18:17:22.236805Z'\n",
      "description: endpoint for ann index\n",
      "displayName: ann_index_endpoint_v1\n",
      "encryptionSpec: {}\n",
      "etag: AMEw9yOtL9anSeZQNxojWASyBixy13kG2ZWcexe13udTtSsCl6k6XRSfcBGWkDhJw6UT\n",
      "name: projects/934903580331/locations/us-central1/indexEndpoints/7571386602446913536\n",
      "network: projects/934903580331/global/networks/ucaip-haystack-vpc-network\n",
      "updateTime: '2023-09-25T18:17:22.946019Z'\n",
      "---\n",
      "createTime: '2023-09-25T17:53:18.383235Z'\n",
      "deployedIndexes:\n",
      "- automaticResources:\n",
      "    maxReplicaCount: 2\n",
      "    minReplicaCount: 2\n",
      "  createTime: '2023-09-25T18:29:41.235899Z'\n",
      "  deploymentGroup: default\n",
      "  id: deployedbf_v1\n",
      "  index: projects/934903580331/locations/us-central1/indexes/1095773288241561600\n",
      "  indexSyncTime: '2023-09-25T18:32:44.848032Z'\n",
      "  privateEndpoints:\n",
      "    matchGrpcAddress: 10.41.2.5\n",
      "description: endpoint for brute force index\n",
      "displayName: bf_index_endpoint_v1\n",
      "encryptionSpec: {}\n",
      "etag: AMEw9yMCvj1fMxOMel9a_YhMpWPMf4ePV8zWtKcuEmbyrSgj6zscGDFZvF4IOyjurDm4\n",
      "name: projects/934903580331/locations/us-central1/indexEndpoints/7850046829390462976\n",
      "network: projects/934903580331/global/networks/ucaip-haystack-vpc-network\n",
      "updateTime: '2023-09-25T17:53:18.968009Z'\n",
      "---\n",
      "createTime: '2023-09-19T16:57:46.998462Z'\n",
      "deployedIndexes:\n",
      "- automaticResources:\n",
      "    maxReplicaCount: 2\n",
      "    minReplicaCount: 2\n",
      "  createTime: '2023-09-19T17:08:17.696381Z'\n",
      "  deploymentGroup: default\n",
      "  id: deployed_tfrs_128dim_v1_bf\n",
      "  index: projects/934903580331/locations/us-central1/indexes/3648188377053790208\n",
      "  indexSyncTime: '2023-09-25T18:31:42.817873Z'\n",
      "  privateEndpoints:\n",
      "    matchGrpcAddress: 10.41.2.5\n",
      "description: index endpoint for ANN index\n",
      "displayName: tfrs_128dim_v1_bf_endpoint\n",
      "encryptionSpec: {}\n",
      "etag: AMEw9yM96M7W9_UYvx5aN7CwvQjVw3hQGbB8T3NMbBsdZ8ieg9g6DhFP0IQSrEVqzUQh\n",
      "name: projects/934903580331/locations/us-central1/indexEndpoints/4346246319296217088\n",
      "network: projects/934903580331/global/networks/ucaip-haystack-vpc-network\n",
      "updateTime: '2023-09-19T16:57:47.872281Z'\n",
      "---\n",
      "createTime: '2023-09-19T16:57:44.979546Z'\n",
      "deployedIndexes:\n",
      "- createTime: '2023-09-21T20:29:10.215717Z'\n",
      "  dedicatedResources:\n",
      "    machineSpec:\n",
      "      machineType: n1-standard-16\n",
      "    maxReplicaCount: 2\n",
      "    minReplicaCount: 2\n",
      "  deploymentGroup: default\n",
      "  displayName: tfrs_128dim_v1_20230921202909\n",
      "  id: tfrs_128dim_v1_20230921202909\n",
      "  index: projects/934903580331/locations/us-central1/indexes/5708585206575792128\n",
      "  indexSyncTime: '2023-09-25T18:32:15.250458Z'\n",
      "  privateEndpoints:\n",
      "    matchGrpcAddress: 10.41.2.5\n",
      "- automaticResources:\n",
      "    maxReplicaCount: 2\n",
      "    minReplicaCount: 2\n",
      "  createTime: '2023-09-19T16:58:36.365064Z'\n",
      "  deploymentGroup: default\n",
      "  id: deployed_tfrs_128dim_v1\n",
      "  index: projects/934903580331/locations/us-central1/indexes/5708585206575792128\n",
      "  indexSyncTime: '2023-09-25T18:31:18.804552Z'\n",
      "  privateEndpoints:\n",
      "    matchGrpcAddress: 10.41.2.5\n",
      "description: index endpoint for ANN index\n",
      "displayName: tfrs_128dim_v1_endpoint\n",
      "encryptionSpec: {}\n",
      "etag: AMEw9yNgNunc2-opszyvVrKy6pltmyT4PhXYlf_ilpL-ywMMBIeIHB4RmZFyPbzRteny\n",
      "name: projects/934903580331/locations/us-central1/indexEndpoints/3370091100063662080\n",
      "network: projects/934903580331/global/networks/ucaip-haystack-vpc-network\n",
      "updateTime: '2023-09-19T16:57:45.700215Z'\n",
      "---\n",
      "createTime: '2023-06-13T14:36:42.281866Z'\n",
      "deployedIndexes:\n",
      "- automaticResources:\n",
      "    maxReplicaCount: 2\n",
      "    minReplicaCount: 2\n",
      "  createTime: '2023-06-13T14:37:34.911923Z'\n",
      "  deploymentGroup: default\n",
      "  id: deployed_ann_v14\n",
      "  index: projects/934903580331/locations/us-central1/indexes/256942673271717888\n",
      "  indexSyncTime: '2023-09-25T18:32:09.816888Z'\n",
      "  privateEndpoints:\n",
      "    matchGrpcAddress: 10.41.2.5\n",
      "description: endpoint for ann index\n",
      "displayName: ann_endpoint_v14\n",
      "etag: AMEw9yPkY7v52zvPqGB4AcTF7UMORbsnrBafY9BVTLlb5hk0lBfHfpD2_PAkEvwysVax\n",
      "name: projects/934903580331/locations/us-central1/indexEndpoints/2896615004864249856\n",
      "network: projects/934903580331/global/networks/ucaip-haystack-vpc-network\n",
      "updateTime: '2023-06-13T14:36:42.861036Z'\n",
      "---\n",
      "createTime: '2023-06-13T14:21:09.047560Z'\n",
      "deployedIndexes:\n",
      "- automaticResources:\n",
      "    maxReplicaCount: 2\n",
      "    minReplicaCount: 2\n",
      "  createTime: '2023-06-13T14:22:00.671866Z'\n",
      "  deploymentGroup: default\n",
      "  id: deployed_bf_v14\n",
      "  index: projects/934903580331/locations/us-central1/indexes/7746428853588852736\n",
      "  indexSyncTime: '2023-09-25T18:33:29.602105Z'\n",
      "  privateEndpoints:\n",
      "    matchGrpcAddress: 10.41.2.5\n",
      "description: endpoint for brute force index\n",
      "displayName: bf_endpoint_v14\n",
      "etag: AMEw9yM2xFw43YucCnCuPBM9nvVQyEHWJOg6O8dWvK7Gd6nnwmjHvVE5cAGRpS_7dcIO\n",
      "name: projects/934903580331/locations/us-central1/indexEndpoints/7369252384796573696\n",
      "network: projects/934903580331/global/networks/ucaip-haystack-vpc-network\n",
      "updateTime: '2023-06-13T14:21:09.714484Z'\n",
      "---\n",
      "createTime: '2023-06-09T12:36:08.543508Z'\n",
      "deployedIndexes:\n",
      "- createTime: '2023-06-09T12:40:05.888834Z'\n",
      "  dedicatedResources:\n",
      "    machineSpec:\n",
      "      machineType: e2-standard-2\n",
      "    maxReplicaCount: 2\n",
      "    minReplicaCount: 2\n",
      "  deploymentGroup: default\n",
      "  displayName: vectorstore_fly_v1_20230609124005\n",
      "  id: vectorstore_fly_v1_20230609124005\n",
      "  index: projects/934903580331/locations/us-central1/indexes/1999413516599033856\n",
      "  indexSyncTime: '2023-09-25T18:33:30.344373Z'\n",
      "  privateEndpoints:\n",
      "    matchGrpcAddress: 10.41.2.5\n",
      "displayName: vectorstore_fly_v1_endpoint\n",
      "etag: AMEw9yOuoGhok7FbUNV0dRLLHx5pXUKH6Q_BzilLI0DRy5ryqF0VluaKjKkhK0n6LhI=\n",
      "name: projects/934903580331/locations/us-central1/indexEndpoints/8716954573287194624\n",
      "network: projects/934903580331/global/networks/ucaip-haystack-vpc-network\n",
      "updateTime: '2023-06-09T12:36:09.211415Z'\n",
      "---\n",
      "createTime: '2023-06-06T13:58:46.511059Z'\n",
      "deployedIndexes:\n",
      "- createTime: '2023-06-06T14:01:37.094693Z'\n",
      "  dedicatedResources:\n",
      "    machineSpec:\n",
      "      machineType: e2-standard-2\n",
      "    maxReplicaCount: 2\n",
      "    minReplicaCount: 2\n",
      "  deploymentGroup: default\n",
      "  displayName: vectorstore_thd_v1_20230606140136\n",
      "  id: vectorstore_thd_v1_20230606140136\n",
      "  index: projects/934903580331/locations/us-central1/indexes/5271278645883699200\n",
      "  indexSyncTime: '2023-09-25T18:31:20.908395Z'\n",
      "  privateEndpoints:\n",
      "    matchGrpcAddress: 10.41.2.5\n",
      "- createTime: '2023-06-06T14:32:29.647636Z'\n",
      "  dedicatedResources:\n",
      "    machineSpec:\n",
      "      machineType: e2-standard-2\n",
      "    maxReplicaCount: 2\n",
      "    minReplicaCount: 2\n",
      "  deploymentGroup: default\n",
      "  displayName: vectorstore_thd_v1_20230606143229\n",
      "  id: vectorstore_thd_v1_20230606143229\n",
      "  index: projects/934903580331/locations/us-central1/indexes/5271278645883699200\n",
      "  indexSyncTime: '2023-09-25T18:32:44.353340Z'\n",
      "  privateEndpoints:\n",
      "    matchGrpcAddress: 10.41.2.5\n",
      "displayName: vectorstore_thd_v1_endpoint\n",
      "etag: AMEw9yP0Pj1vIDXmpFOdRuHxM6xgJHP2pi52uIPM68zsJuU7wCA0YQX1sc4LNdIJfxSO\n",
      "name: projects/934903580331/locations/us-central1/indexEndpoints/3260843624727838720\n",
      "network: projects/934903580331/global/networks/ucaip-haystack-vpc-network\n",
      "updateTime: '2023-06-06T13:58:47.490810Z'\n"
     ]
    }
   ],
   "source": [
    "!gcloud beta ai index-endpoints list --project=$PROJECT_ID --region=us-central1"
   ]
  },
  {
   "cell_type": "code",
   "execution_count": 36,
   "id": "7acf220d-a3d8-4b15-b807-de130457458c",
   "metadata": {},
   "outputs": [
    {
     "data": {
      "text/plain": [
       "<google.cloud.aiplatform.matching_engine.matching_engine_index_endpoint.MatchingEngineIndexEndpoint object at 0x7f6e0ae3a7d0> \n",
       "resource name: projects/934903580331/locations/us-central1/indexEndpoints/1049611392061014016"
      ]
     },
     "execution_count": 36,
     "metadata": {},
     "output_type": "execute_result"
    }
   ],
   "source": [
    "TO_DELETE = \"projects/934903580331/locations/us-central1/indexEndpoints/1049611392061014016\" # XXX\n",
    "\n",
    "my_index_endpoint = vertex_ai.MatchingEngineIndexEndpoint(index_endpoint_name=TO_DELETE)\n",
    "\n",
    "my_index_endpoint"
   ]
  },
  {
   "cell_type": "code",
   "execution_count": 37,
   "id": "328c1bb2-7f4d-4cf3-99ac-d2a0211445fa",
   "metadata": {},
   "outputs": [
    {
     "data": {
      "text/plain": [
       "[]"
      ]
     },
     "execution_count": 37,
     "metadata": {},
     "output_type": "execute_result"
    }
   ],
   "source": [
    "my_index_endpoint.deployed_indexes"
   ]
  },
  {
   "cell_type": "code",
   "execution_count": 38,
   "id": "98cb06c8-ccce-4cf3-9405-63625053bf4e",
   "metadata": {},
   "outputs": [
    {
     "data": {
      "text/plain": [
       "<google.cloud.aiplatform.matching_engine.matching_engine_index_endpoint.MatchingEngineIndexEndpoint object at 0x7f6e0ae3a7d0> \n",
       "resource name: projects/934903580331/locations/us-central1/indexEndpoints/1049611392061014016"
      ]
     },
     "execution_count": 38,
     "metadata": {},
     "output_type": "execute_result"
    }
   ],
   "source": [
    "my_index_endpoint.undeploy_all()"
   ]
  },
  {
   "cell_type": "code",
   "execution_count": 39,
   "id": "06b2998c-f496-47d0-807a-9e917ab0b5b7",
   "metadata": {},
   "outputs": [
    {
     "name": "stdout",
     "output_type": "stream",
     "text": [
      "Deleting MatchingEngineIndexEndpoint : projects/934903580331/locations/us-central1/indexEndpoints/1049611392061014016\n",
      "Delete MatchingEngineIndexEndpoint  backing LRO: projects/934903580331/locations/us-central1/operations/7749232264642297856\n",
      "MatchingEngineIndexEndpoint deleted. . Resource name: projects/934903580331/locations/us-central1/indexEndpoints/1049611392061014016\n"
     ]
    }
   ],
   "source": [
    "my_index_endpoint.delete(force=True)"
   ]
  },
  {
   "cell_type": "markdown",
   "id": "73f50fb5-bca8-446e-8388-97a2097279cb",
   "metadata": {},
   "source": [
    "## Vector Search (Matching Engine) Indexes"
   ]
  },
  {
   "cell_type": "code",
   "execution_count": 6,
   "id": "bdbf4581-73dc-49a7-aa2f-081843feec3e",
   "metadata": {
    "tags": []
   },
   "outputs": [],
   "source": [
    "# !gcloud beta ai index-endpoints list --project=$PROJECT_ID --region=us-central1"
   ]
  },
  {
   "cell_type": "code",
   "execution_count": 25,
   "id": "da7a15b5-cb4e-49ab-ad80-ee3f0ae720e5",
   "metadata": {},
   "outputs": [
    {
     "data": {
      "text/plain": [
       "<google.cloud.aiplatform.matching_engine.matching_engine_index.MatchingEngineIndex object at 0x7f6daf451190> \n",
       "resource name: projects/934903580331/locations/us-central1/indexes/6250846749208870912"
      ]
     },
     "execution_count": 25,
     "metadata": {},
     "output_type": "execute_result"
    }
   ],
   "source": [
    "INDEX_TO_DELETE = \"projects/934903580331/locations/us-central1/indexes/6250846749208870912\" # 6283920058972372992\n",
    "\n",
    "my_index = vertex_ai.MatchingEngineIndex(index_name=INDEX_TO_DELETE)\n",
    "\n",
    "my_index"
   ]
  },
  {
   "cell_type": "code",
   "execution_count": 26,
   "id": "f78f143e-4233-48a0-a730-b560d0c5f429",
   "metadata": {},
   "outputs": [
    {
     "name": "stdout",
     "output_type": "stream",
     "text": [
      "Deleting MatchingEngineIndex : projects/934903580331/locations/us-central1/indexes/6250846749208870912\n",
      "Delete MatchingEngineIndex  backing LRO: projects/934903580331/locations/us-central1/indexes/6250846749208870912/operations/2732785229704986624\n",
      "MatchingEngineIndex deleted. . Resource name: projects/934903580331/locations/us-central1/indexes/6250846749208870912\n"
     ]
    }
   ],
   "source": [
    "# Delete indexes\n",
    "my_index.delete()"
   ]
  },
  {
   "cell_type": "code",
   "execution_count": 41,
   "id": "33ea78a0-2d65-49d6-8141-6db680aa79ff",
   "metadata": {},
   "outputs": [
    {
     "name": "stdout",
     "output_type": "stream",
     "text": [
      "Using endpoint [https://us-central1-aiplatform.googleapis.com/]\n",
      "---\n",
      "createTime: '2023-09-25T18:17:22.236805Z'\n",
      "description: endpoint for ann index\n",
      "displayName: ann_index_endpoint_v1\n",
      "encryptionSpec: {}\n",
      "etag: AMEw9yNCsIxFg47Orv4AU4D2CbGrrPZNiNgGcn60WEwbX5iaB-QI4fg4kEGfzfkyuweV\n",
      "name: projects/934903580331/locations/us-central1/indexEndpoints/7571386602446913536\n",
      "network: projects/934903580331/global/networks/ucaip-haystack-vpc-network\n",
      "updateTime: '2023-09-25T18:17:22.946019Z'\n",
      "---\n",
      "createTime: '2023-09-25T17:53:18.383235Z'\n",
      "description: endpoint for brute force index\n",
      "displayName: bf_index_endpoint_v1\n",
      "encryptionSpec: {}\n",
      "etag: AMEw9yMsnxqyX37gZCDgD-u4FqDlnA6T_-J9FsBfjhDNyanNpKB8tJ20X_36wAmvoFL4\n",
      "name: projects/934903580331/locations/us-central1/indexEndpoints/7850046829390462976\n",
      "network: projects/934903580331/global/networks/ucaip-haystack-vpc-network\n",
      "updateTime: '2023-09-25T17:53:18.968009Z'\n",
      "---\n",
      "createTime: '2023-09-19T16:57:46.998462Z'\n",
      "deployedIndexes:\n",
      "- automaticResources:\n",
      "    maxReplicaCount: 2\n",
      "    minReplicaCount: 2\n",
      "  createTime: '2023-09-19T17:08:17.696381Z'\n",
      "  deploymentGroup: default\n",
      "  id: deployed_tfrs_128dim_v1_bf\n",
      "  index: projects/934903580331/locations/us-central1/indexes/3648188377053790208\n",
      "  indexSyncTime: '2023-09-25T18:26:42.681296Z'\n",
      "  privateEndpoints:\n",
      "    matchGrpcAddress: 10.41.2.5\n",
      "description: index endpoint for ANN index\n",
      "displayName: tfrs_128dim_v1_bf_endpoint\n",
      "encryptionSpec: {}\n",
      "etag: AMEw9yNFb7Z3L-owafrco96rXfDalhuhfmHoZRuyFoD3iihfprtuJFOXUYvQElZ57z0W\n",
      "name: projects/934903580331/locations/us-central1/indexEndpoints/4346246319296217088\n",
      "network: projects/934903580331/global/networks/ucaip-haystack-vpc-network\n",
      "updateTime: '2023-09-19T16:57:47.872281Z'\n",
      "---\n",
      "createTime: '2023-09-19T16:57:44.979546Z'\n",
      "deployedIndexes:\n",
      "- createTime: '2023-09-21T20:29:10.215717Z'\n",
      "  dedicatedResources:\n",
      "    machineSpec:\n",
      "      machineType: n1-standard-16\n",
      "    maxReplicaCount: 2\n",
      "    minReplicaCount: 2\n",
      "  deploymentGroup: default\n",
      "  displayName: tfrs_128dim_v1_20230921202909\n",
      "  id: tfrs_128dim_v1_20230921202909\n",
      "  index: projects/934903580331/locations/us-central1/indexes/5708585206575792128\n",
      "  indexSyncTime: '2023-09-25T18:27:15.117386Z'\n",
      "  privateEndpoints:\n",
      "    matchGrpcAddress: 10.41.2.5\n",
      "- automaticResources:\n",
      "    maxReplicaCount: 2\n",
      "    minReplicaCount: 2\n",
      "  createTime: '2023-09-19T16:58:36.365064Z'\n",
      "  deploymentGroup: default\n",
      "  id: deployed_tfrs_128dim_v1\n",
      "  index: projects/934903580331/locations/us-central1/indexes/5708585206575792128\n",
      "  indexSyncTime: '2023-09-25T18:26:18.667891Z'\n",
      "  privateEndpoints:\n",
      "    matchGrpcAddress: 10.41.2.5\n",
      "description: index endpoint for ANN index\n",
      "displayName: tfrs_128dim_v1_endpoint\n",
      "encryptionSpec: {}\n",
      "etag: AMEw9yP5GUu9KlIE18jsAH7pRybG4DmeHPCPJ6G4CEwwP9wFHIp_jGiKahiqVUjebTDW\n",
      "name: projects/934903580331/locations/us-central1/indexEndpoints/3370091100063662080\n",
      "network: projects/934903580331/global/networks/ucaip-haystack-vpc-network\n",
      "updateTime: '2023-09-19T16:57:45.700215Z'\n",
      "---\n",
      "createTime: '2023-06-13T14:36:42.281866Z'\n",
      "deployedIndexes:\n",
      "- automaticResources:\n",
      "    maxReplicaCount: 2\n",
      "    minReplicaCount: 2\n",
      "  createTime: '2023-06-13T14:37:34.911923Z'\n",
      "  deploymentGroup: default\n",
      "  id: deployed_ann_v14\n",
      "  index: projects/934903580331/locations/us-central1/indexes/256942673271717888\n",
      "  indexSyncTime: '2023-09-25T18:27:09.746388Z'\n",
      "  privateEndpoints:\n",
      "    matchGrpcAddress: 10.41.2.5\n",
      "description: endpoint for ann index\n",
      "displayName: ann_endpoint_v14\n",
      "etag: AMEw9yMGkdiA0-PsMcLQVxXcLeZJcNVZrfGqLRO3C_654n2lgPTQQXupSj2NvegF0Yrj\n",
      "name: projects/934903580331/locations/us-central1/indexEndpoints/2896615004864249856\n",
      "network: projects/934903580331/global/networks/ucaip-haystack-vpc-network\n",
      "updateTime: '2023-06-13T14:36:42.861036Z'\n",
      "---\n",
      "createTime: '2023-06-13T14:21:09.047560Z'\n",
      "deployedIndexes:\n",
      "- automaticResources:\n",
      "    maxReplicaCount: 2\n",
      "    minReplicaCount: 2\n",
      "  createTime: '2023-06-13T14:22:00.671866Z'\n",
      "  deploymentGroup: default\n",
      "  id: deployed_bf_v14\n",
      "  index: projects/934903580331/locations/us-central1/indexes/7746428853588852736\n",
      "  indexSyncTime: '2023-09-25T18:28:29.542045Z'\n",
      "  privateEndpoints:\n",
      "    matchGrpcAddress: 10.41.2.5\n",
      "description: endpoint for brute force index\n",
      "displayName: bf_endpoint_v14\n",
      "etag: AMEw9yMs1r22zFJLqWXiOOy_C5ZOiZ6voE6Hz1ietBvXFMdzO4GQXsGAkSMbP7tQp08h\n",
      "name: projects/934903580331/locations/us-central1/indexEndpoints/7369252384796573696\n",
      "network: projects/934903580331/global/networks/ucaip-haystack-vpc-network\n",
      "updateTime: '2023-06-13T14:21:09.714484Z'\n",
      "---\n",
      "createTime: '2023-06-09T12:36:08.543508Z'\n",
      "deployedIndexes:\n",
      "- createTime: '2023-06-09T12:40:05.888834Z'\n",
      "  dedicatedResources:\n",
      "    machineSpec:\n",
      "      machineType: e2-standard-2\n",
      "    maxReplicaCount: 2\n",
      "    minReplicaCount: 2\n",
      "  deploymentGroup: default\n",
      "  displayName: vectorstore_fly_v1_20230609124005\n",
      "  id: vectorstore_fly_v1_20230609124005\n",
      "  index: projects/934903580331/locations/us-central1/indexes/1999413516599033856\n",
      "  indexSyncTime: '2023-09-25T18:28:30.214430Z'\n",
      "  privateEndpoints:\n",
      "    matchGrpcAddress: 10.41.2.5\n",
      "displayName: vectorstore_fly_v1_endpoint\n",
      "etag: AMEw9yPwHFAj7v2Ar_h6AOm9q4lWnQnAYYV2ElXc3UK7-3-Ei8Nfd22A8HD89yD1NSU=\n",
      "name: projects/934903580331/locations/us-central1/indexEndpoints/8716954573287194624\n",
      "network: projects/934903580331/global/networks/ucaip-haystack-vpc-network\n",
      "updateTime: '2023-06-09T12:36:09.211415Z'\n",
      "---\n",
      "createTime: '2023-06-06T13:58:46.511059Z'\n",
      "deployedIndexes:\n",
      "- createTime: '2023-06-06T14:01:37.094693Z'\n",
      "  dedicatedResources:\n",
      "    machineSpec:\n",
      "      machineType: e2-standard-2\n",
      "    maxReplicaCount: 2\n",
      "    minReplicaCount: 2\n",
      "  deploymentGroup: default\n",
      "  displayName: vectorstore_thd_v1_20230606140136\n",
      "  id: vectorstore_thd_v1_20230606140136\n",
      "  index: projects/934903580331/locations/us-central1/indexes/5271278645883699200\n",
      "  indexSyncTime: '2023-09-25T18:26:20.773264Z'\n",
      "  privateEndpoints:\n",
      "    matchGrpcAddress: 10.41.2.5\n",
      "- createTime: '2023-06-06T14:32:29.647636Z'\n",
      "  dedicatedResources:\n",
      "    machineSpec:\n",
      "      machineType: e2-standard-2\n",
      "    maxReplicaCount: 2\n",
      "    minReplicaCount: 2\n",
      "  deploymentGroup: default\n",
      "  displayName: vectorstore_thd_v1_20230606143229\n",
      "  id: vectorstore_thd_v1_20230606143229\n",
      "  index: projects/934903580331/locations/us-central1/indexes/5271278645883699200\n",
      "  indexSyncTime: '2023-09-25T18:27:44.220888Z'\n",
      "  privateEndpoints:\n",
      "    matchGrpcAddress: 10.41.2.5\n",
      "displayName: vectorstore_thd_v1_endpoint\n",
      "etag: AMEw9yP0AIFErB72Cv55nXaC72R68cOkfdbmr5SilGDAcEvsHMzBzVTgDS-f9qhxXIUO\n",
      "name: projects/934903580331/locations/us-central1/indexEndpoints/3260843624727838720\n",
      "network: projects/934903580331/global/networks/ucaip-haystack-vpc-network\n",
      "updateTime: '2023-06-06T13:58:47.490810Z'\n"
     ]
    }
   ],
   "source": [
    "!gcloud beta ai index-endpoints list --project=$PROJECT_ID --region=us-central1"
   ]
  },
  {
   "cell_type": "code",
   "execution_count": null,
   "id": "f4419dd2-696b-445f-99c3-de1d3afe5241",
   "metadata": {},
   "outputs": [],
   "source": []
  },
  {
   "cell_type": "code",
   "execution_count": null,
   "id": "7568366b-835c-49c7-8b48-453979da1bd0",
   "metadata": {},
   "outputs": [],
   "source": []
  }
 ],
 "metadata": {
  "environment": {
   "kernel": "python3",
   "name": "tf2-gpu.2-10.m103",
   "type": "gcloud",
   "uri": "gcr.io/deeplearning-platform-release/tf2-gpu.2-10:m103"
  },
  "kernelspec": {
   "display_name": "Python 3 (ipykernel)",
   "language": "python",
   "name": "python3"
  },
  "language_info": {
   "codemirror_mode": {
    "name": "ipython",
    "version": 3
   },
   "file_extension": ".py",
   "mimetype": "text/x-python",
   "name": "python",
   "nbconvert_exporter": "python",
   "pygments_lexer": "ipython3",
   "version": "3.7.12"
  }
 },
 "nbformat": 4,
 "nbformat_minor": 5
}
