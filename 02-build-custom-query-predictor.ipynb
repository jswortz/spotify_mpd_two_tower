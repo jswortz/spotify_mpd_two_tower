{
 "cells": [
  {
   "cell_type": "code",
   "execution_count": null,
   "id": "9d8757f6-8f36-4b0d-8c37-ba31a1773f94",
   "metadata": {},
   "outputs": [],
   "source": [
    "# !pip install google-cloud-aiplatform[prediction]>=1.16.0 fastapi nvtabular git+https://github.com/NVIDIA-Merlin/models.git --user"
   ]
  },
  {
   "cell_type": "markdown",
   "id": "201e92f9-980b-43e9-8c76-b2aa02260e96",
   "metadata": {
    "tags": []
   },
   "source": [
    "# Buidling a custom Vertex AI endpoint for Merlin Query Tower\n",
    "\n",
    "**IMPORTANT** Make sure you are running this notebook in a DLVM (e.g. tensorflow enterprise 2.8) to build the image\n",
    "\n",
    "________\n",
    "**This will not work in the training container**\n",
    "________\n",
    "\n",
    "Your output should look like this - you are going to use the query model endpoint to create a custom container\n",
    "\n",
    "![](img/merlin-bucket.png)\n"
   ]
  },
  {
   "cell_type": "code",
   "execution_count": null,
   "id": "dab54b25-8a22-43d4-a4ef-f85020547df3",
   "metadata": {},
   "outputs": [],
   "source": []
  },
  {
   "cell_type": "code",
   "execution_count": 1,
   "id": "ac4e0f4c-ed8f-4ee5-9019-97c750bbef73",
   "metadata": {},
   "outputs": [],
   "source": [
    "# !gsutil cp -r $workflow_uri local_workflow"
   ]
  },
  {
   "cell_type": "code",
   "execution_count": 2,
   "id": "d2fe439a-395b-4ba9-9eb8-c21f60b9cfbc",
   "metadata": {},
   "outputs": [],
   "source": [
    "# !gsutil cp -r gs://spotify-beam-v3/merlin-processed/workflow/query-tower-model-22-12 local_model"
   ]
  },
  {
   "cell_type": "markdown",
   "id": "a59d3d11-9718-4301-928e-3a3b38de202e",
   "metadata": {},
   "source": [
    "#### END DEBUG"
   ]
  },
  {
   "cell_type": "code",
   "execution_count": 1,
   "id": "9cbe8a06-ed15-40ac-bc2f-d387bb406301",
   "metadata": {
    "tags": []
   },
   "outputs": [],
   "source": [
    "from datetime import datetime\n",
    "\n",
    "\n",
    "PROJECT = 'wortz-project-352116'  # <--- TODO: CHANGE THIS\n",
    "LOCATION = 'us-central1'\n",
    "REGION = 'us-central1'\n",
    "# path = 'gs://two-tower-models' #TODO change to your model directory\n",
    "BUCKET = 'gs://spotify-jsw-mpd-2023'\n",
    "REPOSITORY = 'merlin-spotify-cpr'\n",
    "ARTIFACT_URI = f'{BUCKET}'\n",
    "MODEL_DIR = f'{BUCKET}/query_model_merlin'\n",
    "PREFIX = 'merlin-spotify'"
   ]
  },
  {
   "cell_type": "markdown",
   "id": "b0da3551-62ee-4216-86b0-6b0289b709dd",
   "metadata": {},
   "source": [
    "### Run one time to locally copy the workflow for the image"
   ]
  },
  {
   "cell_type": "code",
   "execution_count": 2,
   "id": "0d89e9cd-654d-44e4-a076-739d95c8cd93",
   "metadata": {},
   "outputs": [],
   "source": [
    "# !mkdir workflow\n",
    "# !gsutil cp -r $BUCKET/workflow workflow"
   ]
  },
  {
   "cell_type": "code",
   "execution_count": 3,
   "id": "7b65e26b-31d7-459e-8f80-92e2c206fc7f",
   "metadata": {},
   "outputs": [],
   "source": [
    "# !gsutil mb -l us-central1 gs://wortz-project-bucket"
   ]
  },
  {
   "cell_type": "code",
   "execution_count": 4,
   "id": "5075f2f7-c075-4e56-a188-4adfee578a2a",
   "metadata": {
    "tags": []
   },
   "outputs": [],
   "source": [
    "# !echo y | docker container prune\n",
    "# !echo y | docker image prune"
   ]
  },
  {
   "cell_type": "markdown",
   "id": "d045aab2-d485-4bf1-9319-b7afc5cccb34",
   "metadata": {},
   "source": [
    "### Set up repo and configure Docker (one-time)"
   ]
  },
  {
   "cell_type": "code",
   "execution_count": 5,
   "id": "e72acda9-ae76-4ce9-8600-71238d545f57",
   "metadata": {
    "tags": []
   },
   "outputs": [
    {
     "name": "stdout",
     "output_type": "stream",
     "text": [
      "\u001b[1;31mERROR:\u001b[0m (gcloud.beta.artifacts.repositories.create) ALREADY_EXISTS: the repository already exists\n"
     ]
    }
   ],
   "source": [
    "# Create the repo if needed for the artifacts\n",
    "\n",
    "! gcloud beta artifacts repositories create {REPOSITORY} \\\n",
    "    --repository-format=docker \\\n",
    "    --location=$REGION"
   ]
  },
  {
   "cell_type": "code",
   "execution_count": 6,
   "id": "1858a130-739b-4752-bf02-d0e8356a0829",
   "metadata": {
    "tags": []
   },
   "outputs": [
    {
     "name": "stdout",
     "output_type": "stream",
     "text": [
      "\u001b[1;33mWARNING:\u001b[0m Your config file at [/home/jupyter/.docker/config.json] contains these credential helper entries:\n",
      "\n",
      "{\n",
      "  \"credHelpers\": {\n",
      "    \"gcr.io\": \"gcloud\",\n",
      "    \"us.gcr.io\": \"gcloud\",\n",
      "    \"eu.gcr.io\": \"gcloud\",\n",
      "    \"asia.gcr.io\": \"gcloud\",\n",
      "    \"staging-k8s.gcr.io\": \"gcloud\",\n",
      "    \"marketplace.gcr.io\": \"gcloud\",\n",
      "    \"us-central1-docker.pkg.dev\": \"gcloud\"\n",
      "  }\n",
      "}\n",
      "Adding credentials for: us-central1-docker.pkg.dev\n",
      "gcloud credential helpers already registered correctly.\n"
     ]
    }
   ],
   "source": [
    "! gcloud auth configure-docker {REGION}-docker.pkg.dev --quiet"
   ]
  },
  {
   "cell_type": "code",
   "execution_count": 7,
   "id": "7bf429ed-e23c-47ac-93da-8a70c4e3e92a",
   "metadata": {
    "tags": []
   },
   "outputs": [],
   "source": [
    "! rm -rf app\n",
    "! mkdir app"
   ]
  },
  {
   "cell_type": "markdown",
   "id": "bd404ace-87cc-4614-9bd0-cdd8f060ba51",
   "metadata": {},
   "source": [
    "### Dependency file\n",
    "The first few are for the server handling traffic\n",
    "Nvtabular was downgraded for this example, it may not be necessary in future versions"
   ]
  },
  {
   "cell_type": "code",
   "execution_count": 8,
   "id": "4af962a7-3196-4b9a-9c36-3f35fd525b5b",
   "metadata": {
    "tags": []
   },
   "outputs": [
    {
     "name": "stdout",
     "output_type": "stream",
     "text": [
      "Writing app/requirements.txt\n"
     ]
    }
   ],
   "source": [
    "%%writefile app/requirements.txt\n",
    "uvicorn[standard]==0.15.0\n",
    "gunicorn==20.1.0\n",
    "fastapi==0.68.1\n",
    "google-cloud-aiplatform\n",
    "merlin-models\n",
    "nvtabular\n",
    "gcsfs\n",
    "google-cloud-storage"
   ]
  },
  {
   "cell_type": "markdown",
   "id": "e608f690-037f-4607-87cd-5ba72bd3dd16",
   "metadata": {},
   "source": [
    "### Predictor module and class\n",
    "This is an adaptation of the CPR examples\n",
    "\n",
    "This was locally tested and created shortly after model creation in the [tensorflow-predict](tensorflow-predict.ipynb) notebook"
   ]
  },
  {
   "cell_type": "code",
   "execution_count": 9,
   "id": "e53bfc90-6ab4-40f0-9c06-53a8620eea07",
   "metadata": {
    "tags": []
   },
   "outputs": [
    {
     "name": "stdout",
     "output_type": "stream",
     "text": [
      "Writing app/dataset_to_tensors.py\n"
     ]
    }
   ],
   "source": [
    "%%writefile app/dataset_to_tensors.py\n",
    "\n",
    "try:\n",
    "    import cudf\n",
    "except ImportError:\n",
    "    cudf = None\n",
    "import pandas as pd\n",
    "import tensorflow as tf\n",
    "from typing import Dict\n",
    "from merlin.io import Dataset\n",
    "import itertools\n",
    "\n",
    "\n",
    "def cupy_array_to_tensor(array):\n",
    "    return tf.experimental.dlpack.from_dlpack(array.reshape(-1, 1).toDlpack())\n",
    "\n",
    "def numpy_array_to_tensor(array):\n",
    "    return tf.convert_to_tensor(array.reshape(-1, 1))\n",
    "\n",
    "def cudf_series_to_tensor(col) -> tf.Tensor:\n",
    "    \"Convert a cudf.Series to a TensorFlow Tensor with DLPack\"\n",
    "    if isinstance(col.dtype, cudf.ListDtype):\n",
    "        values = col.list.leaves.values\n",
    "        offsets = col.list._column.offsets.values\n",
    "        row_lengths = offsets[1:] - offsets[:-1]\n",
    "        return cupy_array_to_tensor(values), cupy_array_to_tensor(row_lengths)\n",
    "    else:\n",
    "        return cupy_array_to_tensor(col.values)\n",
    "\n",
    "def pandas_series_to_tensor(col) -> tf.Tensor:\n",
    "    if len(col) and pd.api.types.is_list_like(col.values[0]):\n",
    "        values = pd.Series(itertools.chain(*col)).values\n",
    "        row_lengths = col.map(len).values\n",
    "        return numpy_array_to_tensor(values), numpy_array_to_tensor(row_lengths)\n",
    "    else:\n",
    "        return numpy_array_to_tensor(col.values)\n",
    "        \n",
    "    \n",
    "def dataset_to_tensors(dataset: Dataset) -> Dict[str, tf.Tensor]:\n",
    "    \"\"\"Convert a DataFrame to Dict of Tensors\"\"\"\n",
    "    df = dataset.to_ddf().compute()\n",
    "    if isinstance(df, pd.DataFrame):\n",
    "        col_to_tensor = pandas_series_to_tensor\n",
    "    else:\n",
    "        col_to_tensor = cudf_series_to_tensor\n",
    "    return {\n",
    "        column: col_to_tensor(df[column])\n",
    "        for column in df.columns\n",
    "    }"
   ]
  },
  {
   "cell_type": "code",
   "execution_count": 309,
   "id": "3d80c477-d403-4d39-9220-98d90511a180",
   "metadata": {
    "tags": []
   },
   "outputs": [
    {
     "name": "stdout",
     "output_type": "stream",
     "text": [
      "Overwriting app/predictor.py\n"
     ]
    }
   ],
   "source": [
    "%%writefile app/predictor.py\n",
    "\n",
    "import nvtabular as nvt\n",
    "import pandas as pd\n",
    "import os\n",
    "import json\n",
    "import merlin.models.tf as mm\n",
    "from nvtabular.loader.tf_utils import configure_tensorflow\n",
    "configure_tensorflow()\n",
    "import tensorflow as tf\n",
    "import logging\n",
    "from dataset_to_tensors import *\n",
    "import time\n",
    "\n",
    "\n",
    "# These are helper functions that ensure the dictionary input is in a certain order and types are preserved\n",
    "# this is to get scalar values to appear first in the dict to not confuse pandas with lists https://github.com/pandas-dev/pandas/issues/46092\n",
    "reordered_keys = ['pid',\n",
    "                 'pl_name_src',\n",
    "                 'pl_collaborative_src',\n",
    "                 'pl_duration_ms_new',\n",
    "                 'artist_name_pl',\n",
    "                 'track_uri_pl',\n",
    "                 'track_name_pl',\n",
    "                 'album_name_pl']\n",
    "\n",
    "# float_num_fix = None #['n_songs_pl','num_albums_pl','num_artists_pl','duration_ms_seed_pl']\n",
    "# float_list_fix = ['pl_duration_ms_new']\n",
    "    \n",
    "# def fix_list_num_dtypes(num_list):\n",
    "#     \"this fixes lists of ints to list of floats converted in json input\"\n",
    "#     return [float(x) for x in num_list]\n",
    "\n",
    "# def fix_num_dtypes(num):\n",
    "#     \"this fixes ints and casts to floats\"\n",
    "#     return float(num)\n",
    "\n",
    "# def fix_types(k, v):\n",
    "#     return v\n",
    "    # if k in float_num_fix:\n",
    "    #     return fix_num_dtypes(v)\n",
    "    # if k in float_list_fix:\n",
    "    #     return fix_list_num_dtypes(v)\n",
    "    # else:\n",
    "    #     return v\n",
    "\n",
    "def create_pandas_instance(inputs):\n",
    "    \"\"\"\n",
    "    Helper function to reorder the input to have a sclar first for pandas\n",
    "    And fix the types converted when data is imported by fastAPI\n",
    "    \"\"\"\n",
    "    if type(inputs[0]) == dict:\n",
    "        header = inputs[0]\n",
    "        reordered_header_dict = {k: header[k] for k in reordered_keys}\n",
    "        pandas_instance = pd.DataFrame.from_dict(reordered_header_dict, orient='index').T\n",
    "\n",
    "        if len(inputs) > 1:\n",
    "            for ti in inputs[1:]:\n",
    "                reordered_dict = {k: ti[k] for k in reordered_keys}\n",
    "                pandas_instance = pandas_instance.append(pd.DataFrame.from_dict(reordered_dict, orient='index').T)\n",
    "    else:\n",
    "        for imps in inputs:\n",
    "            input_dict = {'pid': imps[0],\n",
    "                     'pl_name_src': imps[1],\n",
    "                     'pl_collaborative_src': imps[2],\n",
    "                     'pl_duration_ms_new': imps[3],\n",
    "                     'artist_name_pl': imps[4],\n",
    "                     'track_uri_pl': imps[5],\n",
    "                     'track_name_pl': imps[6],\n",
    "                     'album_name_pl': imps[7]}\n",
    "            try: \n",
    "                pandas_instance.append(pd.DataFrame.from_dict(input_dict, orient='index').T)\n",
    "            except NameError:\n",
    "                pandas_instance = pd.DataFrame.from_dict(input_dict, orient='index').T\n",
    "                \n",
    "        \n",
    "    return pandas_instance\n",
    "\n",
    "class Predictor():\n",
    "    \"\"\"Interface of the Predictor class for Custom Prediction Routines.\n",
    "    The Predictor is responsible for the ML logic for processing a prediction request.\n",
    "    Specifically, the Predictor must define:\n",
    "    (1) How to load all model artifacts used during prediction into memory.\n",
    "    (2) The logic that should be executed at predict time.\n",
    "    When using the default PredictionHandler, the Predictor will be invoked as follows:\n",
    "      predictor.postprocess(predictor.predict(predictor.preprocess(prediction_input)))\n",
    "    \"\"\"\n",
    "    def __init__(self):\n",
    "        return\n",
    "    \n",
    "    def load(self, artifacts_uri):\n",
    "        \"\"\"Loads the model artifact.\n",
    "        Args:\n",
    "            artifacts_uri (str):\n",
    "                Required. The value of the environment variable AIP_STORAGE_URI.\n",
    "        \"\"\"\n",
    "        logging.info(\"loading model and workflow\")\n",
    "        start_init = time.process_time()\n",
    "        \n",
    "        self.model = tf.keras.models.load_model(f\"{artifacts_uri}/query_model_merlin\")\n",
    "        self.workflow = nvt.Workflow.load(\"/workflow/workflow/2t-spotify-workflow\")\n",
    "        self.workflow = self.workflow.remove_inputs(\n",
    "            [\n",
    "                'track_pop_can', \n",
    "                'track_uri_can', \n",
    "                'duration_ms_can', \n",
    "                'track_name_can', \n",
    "                'artist_name_can',\n",
    "                'album_name_can',\n",
    "                'album_uri_can',\n",
    "                'artist_followers_can', \n",
    "                'artist_genres_can',\n",
    "                'artist_name_can', \n",
    "                'artist_pop_can',\n",
    "                'artist_pop_pl',\n",
    "                'artist_uri_can', \n",
    "                'artists_followers_pl',\n",
    "            ]\n",
    "        )\n",
    "        return self\n",
    "        \n",
    "    def predict(self, prediction_input):\n",
    "        \"\"\"Preprocesses the prediction input before doing the prediction.\n",
    "        Args:\n",
    "            prediction_input (Any):\n",
    "                Required. The prediction input that needs to be preprocessed.\n",
    "        Returns:\n",
    "            The preprocessed prediction input.\n",
    "        \"\"\"\n",
    "        # handle different input types, can take a dict or list of dicts\n",
    "        self.n_rows = len(prediction_input)\n",
    "        start = time.process_time()\n",
    "        pandas_instance = create_pandas_instance(prediction_input)\n",
    "        #logging.info(f\"Pandas conversion took {time.process_time() - start} seconds\")\n",
    "        print(f\"Pandas conversion took {time.process_time() - start} seconds\")\n",
    "        start = time.process_time()\n",
    "        transformed_inputs = nvt.Dataset(pandas_instance)\n",
    "        #logging.info(f\"NVT data loading took {time.process_time() - start} seconds\")\n",
    "        print(f\"NVT data loading took {time.process_time() - start} seconds\")\n",
    "        start = time.process_time()\n",
    "        transformed_instance = self.workflow.transform(transformed_inputs)\n",
    "        print(f\"Workflow transformation took {time.process_time() - start} seconds\")\n",
    "\n",
    "        # def predict(self, instances):\n",
    "        start = time.process_time()\n",
    "        \n",
    "        batch = dataset_to_tensors(transformed_instance)\n",
    "        print(f\"converting to dict_tensors took {time.process_time() - start} seconds\")\n",
    "        start = time.process_time()\n",
    "        output = self.model(batch)\n",
    "        print(f\"Generating query embeddings took {time.process_time() - start} seconds\")\n",
    "        return transformed_instance, output, batch"
   ]
  },
  {
   "cell_type": "code",
   "execution_count": 310,
   "id": "2b9a8771-cae3-494d-a56b-060616889463",
   "metadata": {
    "tags": []
   },
   "outputs": [
    {
     "name": "stdout",
     "output_type": "stream",
     "text": [
      "Overwriting app/main.py\n"
     ]
    }
   ],
   "source": [
    "%%writefile app/main.py\n",
    "from fastapi import FastAPI, Request\n",
    "\n",
    "import json\n",
    "import numpy as np\n",
    "import os\n",
    "import logging\n",
    "\n",
    "\n",
    "from google.cloud import storage\n",
    "from predictor import Predictor\n",
    "\n",
    "app = FastAPI()\n",
    "\n",
    "predictor_instance = Predictor()\n",
    "loaded_predictor = predictor_instance.load(artifacts_uri = os.environ['AIP_STORAGE_URI'])\n",
    "\n",
    "@app.get(os.environ['AIP_HEALTH_ROUTE'], status_code=200)\n",
    "def health():\n",
    "    return {}\n",
    "\n",
    "\n",
    "@app.post(os.environ['AIP_PREDICT_ROUTE'])\n",
    "async def predict(request: Request):\n",
    "    body = await request.json()\n",
    "    instances = body[\"instances\"]\n",
    "    outputs = loaded_predictor.predict(instances)\n",
    "\n",
    "    return {\"predictions\": outputs[1].numpy().tolist()}"
   ]
  },
  {
   "cell_type": "code",
   "execution_count": 311,
   "id": "2dfde697-cec3-470c-9c6d-3be275ce6b55",
   "metadata": {
    "tags": []
   },
   "outputs": [
    {
     "name": "stdout",
     "output_type": "stream",
     "text": [
      "Overwriting app/prestart.sh\n"
     ]
    }
   ],
   "source": [
    "%%writefile app/prestart.sh\n",
    "#!/bin/bash\n",
    "export PORT=$AIP_HTTP_PORT"
   ]
  },
  {
   "cell_type": "code",
   "execution_count": 312,
   "id": "486a3c72-75d0-45be-98e3-b8451ea7f8cc",
   "metadata": {
    "tags": []
   },
   "outputs": [
    {
     "name": "stdout",
     "output_type": "stream",
     "text": [
      "Overwriting app/instances.json\n"
     ]
    }
   ],
   "source": [
    "%%writefile app/instances.json\n",
    "{\"instances\": {\"collaborative\": \"false\", \"album_name_pl\": [\"There's Really A Wolf\", \"Late Nights: The Album\", \"American Teen\", \"Crazy In Love\", \"Pony\"], \"album_uri_can\": \"spotify:album:5l83t3mbVgCrIe1VU9uJZR\", \"artist_followers_can\": 4339757.0, \"artist_genres_can\": \"'hawaiian hip hop', 'rap'\", \"artist_genres_pl\": [\"'hawaiian hip hop', 'rap'\", \"'chicago rap', 'dance pop', 'pop', 'pop rap', 'r&b', 'southern hip hop', 'trap', 'urban contemporary'\", \"'pop', 'pop r&b'\", \"'dance pop', 'pop', 'r&b'\", \"'chill r&b', 'pop', 'pop r&b', 'r&b', 'urban contemporary'\"], \"artist_name_can\": \"Russ\", \"artist_name_pl\": [\"Russ\", \"Jeremih\", \"Khalid\", \"Beyonc\\u00c3\\u00a9\", \"William Singe\"], \"artist_pop_can\": 82.0, \"artist_pop_pl\": [82.0, 80.0, 90.0, 87.0, 65.0], \"artist_uri_can\": \"spotify:artist:1z7b1Pr1rSlvWRzsW3HOrS\", \"artists_followers_pl\": [4339757.0, 5611842.0, 15046756.0, 30713126.0, 603837.0], \"description_pl\": \"\", \"duration_ms_can\": 237322.0, \"duration_ms_songs_pl\": [237506.0, 217200.0, 219080.0, 226400.0, 121739.0], \"n_songs_pl\": 8.0, \"name\": \"Lit Tunes \", \"num_albums_pl\": 8.0, \"num_artists_pl\": 8.0, \"track_name_can\": \"We Just Havent Met Yet\", \"track_name_pl\": [\"Losin Control\", \"Paradise\", \"Location\", \"Crazy In Love - Remix\", \"Pony\"], \"track_pop_can\": 57.0, \"track_pop_pl\": [79.0, 58.0, 83.0, 71.0, 57.0], \"duration_ms_seed_pl\": 51023.1, \"pid\": 1, \"track_uri_can\": \"spotify:track:0VzDv4wiuZsLsNOmfaUy2W\", \"track_uri_pl\": [\"spotify:track:4cxMGhkinTocPSVVKWIw0d\", \"spotify:track:1wNEBPo3nsbGCZRryI832I\", \"spotify:track:152lZdxL1OR0ZMW6KquMif\", \"spotify:track:2f4IuijXLxYOeBncS60GUD\", \"spotify:track:4Lj8paMFwyKTGfILLELVxt\"]}}"
   ]
  },
  {
   "cell_type": "code",
   "execution_count": 313,
   "id": "970ed68e-37f6-406c-9615-3aab9570daeb",
   "metadata": {
    "tags": []
   },
   "outputs": [],
   "source": [
    "#make it a package\n",
    "!touch app/__init__.py"
   ]
  },
  {
   "cell_type": "code",
   "execution_count": 314,
   "id": "0cb65bef-d269-4f80-a40b-e0b43f844c2a",
   "metadata": {
    "tags": []
   },
   "outputs": [
    {
     "name": "stdout",
     "output_type": "stream",
     "text": [
      "Overwriting Dockerfile\n"
     ]
    }
   ],
   "source": [
    "%%writefile Dockerfile\n",
    "\n",
    "FROM nvcr.io/nvidia/merlin/merlin-tensorflow:23.02\n",
    "WORKDIR /app \n",
    "\n",
    "COPY ./app/requirements.txt /requirements.txt\n",
    "RUN pip install -r /requirements.txt\n",
    "#DEBUG CHANGES!!\n",
    "RUN mkdir /workflow\n",
    "# RUN mkdir /docker_model\n",
    "# ADD local_model /docker_model\n",
    "ADD workflow /workflow\n",
    "#END DEBUG!\n",
    "\n",
    "\n",
    "COPY ./app /app\n",
    "EXPOSE 80\n",
    "    \n",
    "CMD [\"sh\", \"-c\", \"uvicorn main:app --host 0.0.0.0 --port $AIP_HTTP_PORT\"]"
   ]
  },
  {
   "cell_type": "code",
   "execution_count": 315,
   "id": "22af2064-0460-4dd5-b352-180f33fbdd1c",
   "metadata": {
    "tags": []
   },
   "outputs": [
    {
     "name": "stdout",
     "output_type": "stream",
     "text": [
      "Sending build context to Docker daemon  403.1MB\n",
      "Step 1/9 : FROM nvcr.io/nvidia/merlin/merlin-tensorflow:23.02\n",
      " ---> 7f446a9c1777\n",
      "Step 2/9 : WORKDIR /app\n",
      " ---> Using cache\n",
      " ---> 59dd9dc6e016\n",
      "Step 3/9 : COPY ./app/requirements.txt /requirements.txt\n",
      " ---> Using cache\n",
      " ---> ec60427e1bff\n",
      "Step 4/9 : RUN pip install -r /requirements.txt\n",
      " ---> Using cache\n",
      " ---> 8831dddd9dee\n",
      "Step 5/9 : RUN mkdir /workflow\n",
      " ---> Using cache\n",
      " ---> e65ff4dd97c9\n",
      "Step 6/9 : ADD workflow /workflow\n",
      " ---> Using cache\n",
      " ---> a5aeeaff2858\n",
      "Step 7/9 : COPY ./app /app\n",
      " ---> e205efaab906\n",
      "Step 8/9 : EXPOSE 80\n",
      " ---> Running in b377851ef3ff\n",
      "Removing intermediate container b377851ef3ff\n",
      " ---> 65b2778ea4a6\n",
      "Step 9/9 : CMD [\"sh\", \"-c\", \"uvicorn main:app --host 0.0.0.0 --port $AIP_HTTP_PORT\"]\n",
      " ---> Running in 5dcbaebdcd5e\n",
      "Removing intermediate container 5dcbaebdcd5e\n",
      " ---> df272a52a995\n",
      "Successfully built df272a52a995\n",
      "Successfully tagged us-central1-docker.pkg.dev/wortz-project-352116/merlin-spotify-cpr/merlin-prediction-cpr:latest\n"
     ]
    }
   ],
   "source": [
    "SERVER_IMAGE = \"merlin-prediction-cpr\"  # @param {type:\"string\"} \n",
    "REMOTE_IMAGE_NAME=f\"{REGION}-docker.pkg.dev/{PROJECT}/{REPOSITORY}/{SERVER_IMAGE}\"\n",
    "\n",
    "!docker build -t $REMOTE_IMAGE_NAME .\n",
    "# !gcloud builds submit -t $REMOTE_IMAGE_NAME ."
   ]
  },
  {
   "cell_type": "markdown",
   "id": "a3db156d-4675-43cc-ac8f-305d5fc79230",
   "metadata": {},
   "source": [
    "#### If you are debugging, be sure to set `-d` detached flag off and run the commands in console"
   ]
  },
  {
   "cell_type": "markdown",
   "id": "ca4b2c6d-add5-4753-9069-8499b09ba5c6",
   "metadata": {},
   "source": [
    "us-central1-docker.pkg.dev/wortz-project-352116/merlin-spotify-cpr/merlin-prediction-cp### Copy/paste if you want to run from console for testing\n",
    "```python\n",
    "docker run --gpus all -p 80:8080 \\\n",
    "            --name=merlin-prediction-cpr \\\n",
    "            -e AIP_HTTP_PORT=8080 \\\n",
    "            -e AIP_HEALTH_ROUTE=/health \\\n",
    "            -e AIP_PREDICT_ROUTE=/predict \\\n",
    "            -e AIP_STORAGE_URI=gs://spotify-jsw-mpd-2023 \\\n",
    "            us-central1-docker.pkg.dev/wortz-project-352116/merlin-spotify-cpr/merlin-prediction-cpr\n",
    "```\n",
    "\n",
    "##### No GPU:\n",
    "```python\n",
    "docker run -p 80:8080 \\\n",
    "            --name=merlin-prediction-cpr \\\n",
    "            -e AIP_HTTP_PORT=8080 \\\n",
    "            -e AIP_HEALTH_ROUTE=/health \\\n",
    "            -e AIP_PREDICT_ROUTE=/predict \\\n",
    "            -e AIP_STORAGE_URI=gs://spotify-jsw-mpd-2023 \\\n",
    "            us-central1-docker.pkg.dev/wortz-project-352116/merlin-spotify-cpr/merlin-prediction-cpr\n",
    "```"
   ]
  },
  {
   "cell_type": "markdown",
   "id": "2c53532f-5b5a-4f70-9172-27347571c812",
   "metadata": {},
   "source": [
    "#### Test the health route"
   ]
  },
  {
   "cell_type": "code",
   "execution_count": 316,
   "id": "ee770509-65a7-45cb-b860-faa73142cefc",
   "metadata": {},
   "outputs": [
    {
     "name": "stdout",
     "output_type": "stream",
     "text": [
      "merlin-prediction-cpr\n",
      "E0408 03:51:54.023935357   21953 backup_poller.cc:136]                 Run client channel backup poller: UNKNOWN:pollset_work {created_time:\"2023-04-08T03:51:54.023777446+00:00\", children:[UNKNOWN:Bad file descriptor {created_time:\"2023-04-08T03:51:54.023675071+00:00\", errno:9, os_error:\"Bad file descriptor\", syscall:\"epoll_wait\"}]}\n",
      "merlin-prediction-cpr\n"
     ]
    }
   ],
   "source": [
    "!docker kill merlin-prediction-cpr\n",
    "!docker rm merlin-prediction-cpr"
   ]
  },
  {
   "cell_type": "code",
   "execution_count": 307,
   "id": "ae9f6a29-7e69-4bf6-bb22-926578ff1181",
   "metadata": {
    "tags": []
   },
   "outputs": [
    {
     "name": "stdout",
     "output_type": "stream",
     "text": [
      "{}"
     ]
    }
   ],
   "source": [
    "! curl localhost/health"
   ]
  },
  {
   "cell_type": "code",
   "execution_count": 289,
   "id": "fae134d5-92da-48b5-afdb-7a330c88ace0",
   "metadata": {},
   "outputs": [],
   "source": [
    "## Ground truth candidate:\n",
    "    # 'album_uri_can': 'spotify:album:5l83t3mbVgCrIe1VU9uJZR', \n",
    "    # 'artist_name_can': 'Russ', \n",
    "    # 'track_name_can': 'We Just Havent Met Yet', \n",
    "## TODO - we have to overload with candidate data because of the workflow transform, add overloaded values in the predictor\n",
    "TEST_INSTANCE = { 'pid': 1,\n",
    "                 'pl_name_src': 'Lit Tunes ', \n",
    "                 'pl_collaborative_src': 'false',\n",
    "                 'pl_duration_ms_new': 237506.0, \n",
    "                  'artist_name_pl': ['Russ', 'Jeremih', 'Khalid', 'Beyonc\\xc3\\xa9',\n",
    "                       'William Singe'], \n",
    "                 'track_uri_pl': ['spotify:track:4cxMGhkinTocPSVVKWIw0d',\n",
    "                       'spotify:track:1wNEBPo3nsbGCZRryI832I',\n",
    "                       'spotify:track:152lZdxL1OR0ZMW6KquMif',\n",
    "                       'spotify:track:2f4IuijXLxYOeBncS60GUD',\n",
    "                       'spotify:track:4Lj8paMFwyKTGfILLELVxt'],\n",
    "                 'track_name_pl': ['Losin Control', 'Paradise', 'Location',\n",
    "                       'Crazy In Love - Remix', 'Pony'], \n",
    "                 'album_name_pl': [\"There's Really A Wolf\", 'Late Nights: The Album',\n",
    "                       'American Teen', 'Crazy In Love', 'Pony'], \n",
    "                 # 'artist_genres_pl': [\"'hawaiian hip hop', 'rap'\",\n",
    "                 #       \"'chicago rap', 'dance pop', 'pop', 'pop rap', 'r&b', 'southern hip hop', 'trap', 'urban contemporary'\",\n",
    "                 #       \"'pop', 'pop r&b'\", \"'dance pop', 'pop', 'r&b'\",\n",
    "                 #       \"'chill r&b', 'pop', 'pop r&b', 'r&b', 'urban contemporary'\"], \n",
    "                 # 'artist_pop_can': 82.0, \n",
    "                 # 'description_pl': '', \n",
    "                 # 'n_songs_pl': 8.0, \n",
    "                 \n",
    "                 # 'num_albums_pl': 8.0, \n",
    "                 # 'num_artists_pl': 8.0, \n",
    "                 # 'track_pop_pl': [79, 58, 83, 71, 57],\n",
    "                 # 'duration_ms_seed_pl': 51023.1,\n",
    "                 \n",
    "                 \n",
    "                     }"
   ]
  },
  {
   "cell_type": "code",
   "execution_count": 275,
   "id": "4002745d-cbcc-469a-91a2-f4ec14d41e45",
   "metadata": {},
   "outputs": [
    {
     "data": {
      "text/plain": [
       "[1,\n",
       " 'Lit Tunes ',\n",
       " 'false',\n",
       " 237506.0,\n",
       " ['Russ', 'Jeremih', 'Khalid', 'BeyoncÃ©', 'William Singe'],\n",
       " ['spotify:track:4cxMGhkinTocPSVVKWIw0d',\n",
       "  'spotify:track:1wNEBPo3nsbGCZRryI832I',\n",
       "  'spotify:track:152lZdxL1OR0ZMW6KquMif',\n",
       "  'spotify:track:2f4IuijXLxYOeBncS60GUD',\n",
       "  'spotify:track:4Lj8paMFwyKTGfILLELVxt'],\n",
       " ['Losin Control', 'Paradise', 'Location', 'Crazy In Love - Remix', 'Pony'],\n",
       " [\"There's Really A Wolf\",\n",
       "  'Late Nights: The Album',\n",
       "  'American Teen',\n",
       "  'Crazy In Love',\n",
       "  'Pony']]"
      ]
     },
     "execution_count": 275,
     "metadata": {},
     "output_type": "execute_result"
    }
   ],
   "source": [
    "# Test with an ordered list input (no dictionary)\n",
    "\n",
    "TEST_INSTANCE_LIST = [TEST_INSTANCE[k] for k in TEST_INSTANCE.keys()]\n",
    "TEST_INSTANCE_LIST"
   ]
  },
  {
   "cell_type": "code",
   "execution_count": 323,
   "id": "acde41b9-5025-4d57-80a9-b9f0213c2e96",
   "metadata": {},
   "outputs": [
    {
     "name": "stdout",
     "output_type": "stream",
     "text": [
      "{\"instances\": [{\"pid\": 1, \"pl_name_src\": \"Lit Tunes \", \"pl_collaborative_src\": \"false\", \"pl_duration_ms_new\": 237506.0, \"artist_name_pl\": [\"Russ\", \"Jeremih\", \"Khalid\", \"Beyonc\\u00c3\\u00a9\", \"William Singe\"], \"track_uri_pl\": [\"spotify:track:4cxMGhkinTocPSVVKWIw0d\", \"spotify:track:1wNEBPo3nsbGCZRryI832I\", \"spotify:track:152lZdxL1OR0ZMW6KquMif\", \"spotify:track:2f4IuijXLxYOeBncS60GUD\", \"spotify:track:4Lj8paMFwyKTGfILLELVxt\"], \"track_name_pl\": [\"Losin Control\", \"Paradise\", \"Location\", \"Crazy In Love - Remix\", \"Pony\"], \"album_name_pl\": [\"There's Really A Wolf\", \"Late Nights: The Album\", \"American Teen\", \"Crazy In Love\", \"Pony\"]}]}\n"
     ]
    }
   ],
   "source": [
    "import json\n",
    "import requests\n",
    "\n",
    "json_instance = json.dumps({\"instances\": [TEST_INSTANCE]})\n",
    "print(json_instance)"
   ]
  },
  {
   "cell_type": "markdown",
   "id": "caea4b39-7a0c-4417-afc9-72681f24a910",
   "metadata": {},
   "source": [
    "### Test the predict route"
   ]
  },
  {
   "cell_type": "code",
   "execution_count": 324,
   "id": "68c98f55-2f05-497d-b129-86b3c33a935c",
   "metadata": {
    "tags": []
   },
   "outputs": [
    {
     "name": "stdout",
     "output_type": "stream",
     "text": [
      "CPU times: user 2.94 ms, sys: 2.24 ms, total: 5.18 ms\n",
      "Wall time: 427 ms\n"
     ]
    },
    {
     "data": {
      "text/plain": [
       "{'predictions': [[0.0,\n",
       "   0.0,\n",
       "   0.0,\n",
       "   2.197338342666626,\n",
       "   0.0,\n",
       "   0.6343151926994324,\n",
       "   0.0,\n",
       "   0.0,\n",
       "   0.8681452870368958,\n",
       "   0.082596555352211,\n",
       "   0.06858403980731964,\n",
       "   0.8690858483314514,\n",
       "   0.6754541397094727,\n",
       "   0.04301293566823006,\n",
       "   0.0,\n",
       "   0.0,\n",
       "   0.0,\n",
       "   0.11446070671081543,\n",
       "   3.286738872528076,\n",
       "   0.0,\n",
       "   0.0,\n",
       "   2.3397533893585205,\n",
       "   0.0,\n",
       "   1.9221959114074707,\n",
       "   0.0,\n",
       "   0.0,\n",
       "   0.4394824206829071,\n",
       "   0.0,\n",
       "   0.8329581618309021,\n",
       "   0.0,\n",
       "   0.4763728380203247,\n",
       "   0.0,\n",
       "   0.0,\n",
       "   1.2817498445510864,\n",
       "   0.0,\n",
       "   0.0,\n",
       "   2.144164800643921,\n",
       "   0.0,\n",
       "   0.715079665184021,\n",
       "   0.0,\n",
       "   0.0,\n",
       "   0.4205787777900696,\n",
       "   0.0,\n",
       "   0.9302131533622742,\n",
       "   1.045517086982727,\n",
       "   0.0,\n",
       "   0.4166524410247803,\n",
       "   0.0,\n",
       "   1.2028098106384277,\n",
       "   0.0,\n",
       "   0.03395405411720276,\n",
       "   0.4649958908557892,\n",
       "   2.633600950241089,\n",
       "   0.8353680372238159,\n",
       "   0.0,\n",
       "   0.6172369122505188,\n",
       "   0.014025628566741943,\n",
       "   0.04429948329925537,\n",
       "   0.0,\n",
       "   0.0,\n",
       "   2.771533966064453,\n",
       "   0.0,\n",
       "   0.0,\n",
       "   0.0,\n",
       "   0.0,\n",
       "   1.7489553689956665,\n",
       "   0.0,\n",
       "   1.3139915466308594,\n",
       "   0.0,\n",
       "   0.0,\n",
       "   0.0,\n",
       "   0.37883666157722473,\n",
       "   0.31884539127349854,\n",
       "   0.0,\n",
       "   0.0,\n",
       "   0.041849423199892044,\n",
       "   1.2340717315673828,\n",
       "   0.8302457332611084,\n",
       "   0.45156005024909973,\n",
       "   0.36637669801712036,\n",
       "   0.18876822292804718,\n",
       "   1.4170316457748413,\n",
       "   0.5635349154472351,\n",
       "   1.227432370185852,\n",
       "   0.0,\n",
       "   1.833836555480957,\n",
       "   0.6638538241386414,\n",
       "   0.4477311670780182,\n",
       "   0.0,\n",
       "   2.194976329803467,\n",
       "   0.8841541409492493,\n",
       "   2.037673234939575,\n",
       "   3.3430445194244385,\n",
       "   3.2102982997894287,\n",
       "   0.0,\n",
       "   1.2679942846298218,\n",
       "   2.5830116271972656,\n",
       "   0.6817995309829712,\n",
       "   1.1135557889938354,\n",
       "   0.0,\n",
       "   0.5490128397941589,\n",
       "   0.878645658493042,\n",
       "   0.9193580746650696,\n",
       "   0.042682550847530365,\n",
       "   0.0,\n",
       "   1.2845640182495117,\n",
       "   0.16097167134284973,\n",
       "   0.0,\n",
       "   0.0,\n",
       "   1.092848300933838,\n",
       "   0.32491201162338257,\n",
       "   0.0,\n",
       "   0.9054877758026123,\n",
       "   0.7531888484954834,\n",
       "   1.8477554321289062,\n",
       "   0.0,\n",
       "   0.0,\n",
       "   0.0,\n",
       "   0.0,\n",
       "   0.0,\n",
       "   0.0,\n",
       "   0.0,\n",
       "   0.0,\n",
       "   0.5464975833892822,\n",
       "   2.130723714828491,\n",
       "   0.627360463142395,\n",
       "   1.4092442989349365,\n",
       "   1.9500364065170288]]}"
      ]
     },
     "execution_count": 324,
     "metadata": {},
     "output_type": "execute_result"
    }
   ],
   "source": [
    "%%time\n",
    "requests.post('http://localhost/predict', data=json_instance).json()"
   ]
  },
  {
   "cell_type": "markdown",
   "id": "34b95e4a-2bf2-4659-9dbe-435571bd6b13",
   "metadata": {},
   "source": [
    "## Stop the images if they are running"
   ]
  },
  {
   "cell_type": "code",
   "execution_count": 325,
   "id": "e52cf577-dcb3-4534-87a1-5acb460d9302",
   "metadata": {
    "tags": []
   },
   "outputs": [
    {
     "name": "stdout",
     "output_type": "stream",
     "text": [
      "merlin-prediction-cpr\n",
      "merlin-prediction-cpr\n"
     ]
    }
   ],
   "source": [
    "! docker stop $SERVER_IMAGE\n",
    "! docker rm $SERVER_IMAGE"
   ]
  },
  {
   "cell_type": "markdown",
   "id": "9bd45707-2c87-4148-bf69-25feb40a74a3",
   "metadata": {},
   "source": [
    "### Push the container once ready and testing is complete"
   ]
  },
  {
   "cell_type": "code",
   "execution_count": 326,
   "id": "b9cf27ed-0c42-4cee-8116-44962bb57c13",
   "metadata": {
    "collapsed": true,
    "jupyter": {
     "outputs_hidden": true
    },
    "tags": []
   },
   "outputs": [
    {
     "name": "stdout",
     "output_type": "stream",
     "text": [
      "Using default tag: latest\n",
      "The push refers to repository [us-central1-docker.pkg.dev/wortz-project-352116/merlin-spotify-cpr/merlin-prediction-cpr]\n",
      "\n",
      "\u001b[1B444dc233: Preparing \n",
      "\u001b[1B018f1149: Preparing \n",
      "\u001b[1B0f3c1a79: Preparing \n",
      "\u001b[1B0a88f4b4: Preparing \n",
      "\u001b[1B625d9539: Preparing \n",
      "\u001b[1Bbd45f47a: Preparing \n",
      "\u001b[1B959e4900: Preparing \n",
      "\u001b[1Bed4c0b88: Preparing \n",
      "\u001b[1B435e7569: Preparing \n",
      "\u001b[1B6c9c8a80: Preparing \n",
      "\u001b[1B7ee6b1e6: Preparing \n",
      "\u001b[7Bbd45f47a: Waiting g \n",
      "\u001b[7B959e4900: Waiting g \n",
      "\u001b[1Bf1d8a22e: Preparing \n",
      "\u001b[1B7f811af3: Preparing \n",
      "\u001b[1Bfa2a6f77: Preparing \n",
      "\u001b[1B99f75613: Preparing \n",
      "\u001b[1Bf314ccd3: Preparing \n",
      "\u001b[1Bbe9e41cc: Preparing \n",
      "\u001b[1B042e77d8: Preparing \n",
      "\u001b[1Bb1adf810: Preparing \n",
      "\u001b[1B5d6e3dc6: Preparing \n",
      "\u001b[1B5dfe406a: Preparing \n",
      "\u001b[1B3f5c8bb1: Preparing \n",
      "\u001b[1B24cd08b1: Preparing \n",
      "\u001b[1Bf287408a: Preparing \n",
      "\u001b[1B5fc4d7d6: Preparing \n",
      "\u001b[1Ba50a1b1f: Preparing \n",
      "\u001b[1B13e97a8a: Preparing \n",
      "\u001b[1Bad3d21ac: Preparing \n",
      "\u001b[1B09a62824: Preparing \n",
      "\u001b[1B9a9dae8e: Preparing \n",
      "\u001b[1Bb713171c: Preparing \n",
      "\u001b[1B1bd92e98: Preparing \n",
      "\u001b[1B3a6772a2: Preparing \n",
      "\u001b[1Bce57a041: Preparing \n",
      "\u001b[1Bd4b0d7a5: Preparing \n",
      "\u001b[1Bed92250c: Preparing \n",
      "\u001b[1B2ec9aaf4: Preparing \n",
      "\u001b[1B48aaa07e: Preparing \n",
      "\u001b[1B84509167: Preparing \n",
      "\u001b[1B0670a88a: Preparing \n",
      "\u001b[1Bc734a213: Preparing \n",
      "\u001b[1Be719fe00: Preparing \n",
      "\u001b[1B048a0911: Preparing \n",
      "\u001b[1Bfdfc83c2: Preparing \n",
      "\u001b[1B1162b441: Preparing \n",
      "\u001b[1Ba32f1f3c: Preparing \n",
      "\u001b[1B2f0c2802: Preparing \n",
      "\u001b[1B7799d634: Preparing \n",
      "\u001b[1B387ed9ce: Preparing \n",
      "\u001b[1B81f9e517: Preparing \n",
      "\u001b[1B9c031281: Preparing \n",
      "\u001b[1Bf2ae7d57: Preparing \n",
      "\u001b[1B79223f79: Preparing \n",
      "\u001b[1B26769195: Preparing \n",
      "\u001b[1B95e6a4e6: Preparing \n",
      "\u001b[1B2751e562: Preparing \n",
      "\u001b[1Bb668fb00: Preparing \n",
      "\u001b[1B84c167ec: Preparing \n",
      "\u001b[1B28b673ab: Preparing \n",
      "\u001b[1B368f37a7: Preparing \n",
      "\u001b[1Bbe6b8dce: Preparing \n",
      "\u001b[1Be1d9367b: Preparing \n",
      "\u001b[1B623b45fe: Preparing \n",
      "\u001b[57Bc9c8a80: Waiting g \n",
      "\u001b[1B1ea45f33: Preparing \n",
      "\u001b[1Ba581cc22: Preparing \n",
      "\u001b[59Bee6b1e6: Waiting g \n",
      "\u001b[59B4522996: Waiting g \n",
      "\u001b[59B2fe8fdf: Waiting g \n",
      "\u001b[1B7d065996: Preparing \n",
      "\u001b[1B668371c7: Preparing \n",
      "\u001b[1B956d63ad: Preparing \n",
      "\u001b[1Bbf18a086: Preparing \n",
      "\u001b[63B1d8a22e: Waiting g \n",
      "\u001b[1B71e1a97b: Preparing \n",
      "\u001b[53B287408a: Waiting g \n",
      "\u001b[65Bf811af3: Waiting g \n",
      "\u001b[65Ba2a6f77: Waiting g \n",
      "\u001b[55Bfc4d7d6: Waiting g \n",
      "\u001b[1B662a799d: Preparing \n",
      "\u001b[1B43a0c0a6: Preparing \n",
      "\u001b[1B365b2088: Preparing \n",
      "\u001b[1Ba552b9cc: Preparing \n",
      "\u001b[1B510b97a5: Preparing \n",
      "\u001b[1B3182f917: Preparing \n",
      "\u001b[1Bc93bdb37: Layer already exists 3kB4A\u001b[2K\u001b[83A\u001b[2K\u001b[81A\u001b[2K\u001b[74A\u001b[2K\u001b[68A\u001b[2K\u001b[65A\u001b[2K\u001b[62A\u001b[2K\u001b[53A\u001b[2K\u001b[48A\u001b[2K\u001b[43A\u001b[2K\u001b[36A\u001b[2K\u001b[28A\u001b[2K\u001b[21A\u001b[2K\u001b[15A\u001b[2K\u001b[10A\u001b[2K\u001b[4A\u001b[2Klatest: digest: sha256:efeb6d8abddb27ec1b28fd2040e4cd774fb0e707d697775b4049ec42a5da4589 size: 18792\n"
     ]
    }
   ],
   "source": [
    "# ### push the container to registry\n",
    "!docker push $REMOTE_IMAGE_NAME"
   ]
  },
  {
   "cell_type": "markdown",
   "id": "50a9a707-6965-4b6f-a3fe-7312dfddbf24",
   "metadata": {
    "tags": []
   },
   "source": [
    "### Deploy to Vertex AI\n",
    "\n",
    "After the serving metadata is set below, the model is properly abstracted for use on Vertex"
   ]
  },
  {
   "cell_type": "code",
   "execution_count": 327,
   "id": "b166b499-b407-4e3e-99f3-da3f3031a147",
   "metadata": {},
   "outputs": [
    {
     "name": "stdout",
     "output_type": "stream",
     "text": [
      "Creating Model\n",
      "Create Model backing LRO: projects/679926387543/locations/us-central1/models/1860842066150424576/operations/701826861944012800\n",
      "Model created. Resource name: projects/679926387543/locations/us-central1/models/1860842066150424576@1\n",
      "To use this Model in another session:\n",
      "model = aiplatform.Model('projects/679926387543/locations/us-central1/models/1860842066150424576@1')\n"
     ]
    }
   ],
   "source": [
    "MODEL_DISPLAY_NAME = \"Merlin Spotify Query Tower Model - Workflow Local V2\"\n",
    "from google.cloud import aiplatform\n",
    "\n",
    "ARTIFACT_URI = BUCKET\n",
    "\n",
    "model = aiplatform.Model.upload(\n",
    "        display_name=MODEL_DISPLAY_NAME,\n",
    "        artifact_uri=ARTIFACT_URI,\n",
    "        serving_container_image_uri=REMOTE_IMAGE_NAME,\n",
    "        serving_container_predict_route='/predict',\n",
    "        serving_container_health_route='/health',\n",
    "        serving_container_command=[\"sh\", \"-c\", \"uvicorn main:app --host 0.0.0.0 --port $AIP_HTTP_PORT\"],\n",
    "        serving_container_args=[\"--gpus all\"],\n",
    "        sync=True,\n",
    "    )"
   ]
  },
  {
   "cell_type": "code",
   "execution_count": null,
   "id": "9e80231d-0430-478e-989a-4802adca17ab",
   "metadata": {},
   "outputs": [
    {
     "name": "stdout",
     "output_type": "stream",
     "text": [
      "Creating Endpoint\n",
      "Create Endpoint backing LRO: projects/679926387543/locations/us-central1/endpoints/5440396728375181312/operations/5586543607780737024\n",
      "Endpoint created. Resource name: projects/679926387543/locations/us-central1/endpoints/5440396728375181312\n",
      "To use this Endpoint in another session:\n",
      "endpoint = aiplatform.Endpoint('projects/679926387543/locations/us-central1/endpoints/5440396728375181312')\n",
      "Deploying model to Endpoint : projects/679926387543/locations/us-central1/endpoints/5440396728375181312\n",
      "Deploy Endpoint model backing LRO: projects/679926387543/locations/us-central1/endpoints/5440396728375181312/operations/9153394512658169856\n"
     ]
    }
   ],
   "source": [
    "endpoint = model.deploy(machine_type=\"n1-standard-8\",\n",
    "                        accelerator_type=\"NVIDIA_TESLA_T4\",\n",
    "                        accelerator_count=1)"
   ]
  },
  {
   "cell_type": "code",
   "execution_count": null,
   "id": "b8b8fa58-c587-4b5d-9958-8ed904e0c162",
   "metadata": {},
   "outputs": [],
   "source": [
    "#make a prediction\n",
    "\n",
    "endpoint.predict(instances=[TEST_INSTANCE])"
   ]
  },
  {
   "cell_type": "markdown",
   "id": "856c6edc-5687-47ea-871b-ac0b4bee1339",
   "metadata": {
    "tags": []
   },
   "source": [
    "## Finished - now go on to the next notebook to create a [matching engine notebook](03-matching-engine.ipynb) and test out the first end to end recommendation\n",
    "\n",
    "Be sure to use the output of the endpoint logs above to save the endpoint for use in the matching engine notebook\n",
    "\n",
    "e.g.:\n",
    "\n",
    "```python\n",
    "INFO:google.cloud.aiplatform.models:To use this Endpoint in another session:\n",
    "endpoint = aiplatform.Endpoint('projects/934903580331/locations/us-central1/endpoints/494907775848022016')\n",
    "```"
   ]
  },
  {
   "cell_type": "markdown",
   "id": "0dc8835a-6d97-4458-9922-6dc8a7611939",
   "metadata": {},
   "source": [
    "### Timing analysis"
   ]
  },
  {
   "cell_type": "code",
   "execution_count": 125,
   "id": "d09216e2-08fa-4519-b1f2-d2b9c04149ba",
   "metadata": {},
   "outputs": [
    {
     "name": "stdout",
     "output_type": "stream",
     "text": [
      "561 ms ± 95.6 ms per loop (mean ± std. dev. of 7 runs, 1 loop each)\n"
     ]
    }
   ],
   "source": [
    "%%timeit\n",
    "endpoint.predict(instances=[[TEST_INSTANCE, TEST_INSTANCE]])"
   ]
  },
  {
   "cell_type": "code",
   "execution_count": 126,
   "id": "79cd6b35-6b3d-492b-9b8e-9f378098a60b",
   "metadata": {},
   "outputs": [
    {
     "name": "stdout",
     "output_type": "stream",
     "text": [
      "499 ms ± 9.76 ms per loop (mean ± std. dev. of 7 runs, 1 loop each)\n"
     ]
    }
   ],
   "source": [
    "%%timeit\n",
    "endpoint.predict(instances=[[TEST_INSTANCE]])"
   ]
  },
  {
   "cell_type": "code",
   "execution_count": 76,
   "id": "f9cca042-9d79-4b66-835b-05935101babf",
   "metadata": {},
   "outputs": [
    {
     "name": "stdout",
     "output_type": "stream",
     "text": [
      "Undeploying Endpoint model: projects/934903580331/locations/us-central1/endpoints/4736674102226452480\n",
      "Undeploy Endpoint model backing LRO: projects/934903580331/locations/us-central1/endpoints/4736674102226452480/operations/6606761755496415232\n",
      "Endpoint model undeployed. Resource name: projects/934903580331/locations/us-central1/endpoints/4736674102226452480\n"
     ]
    },
    {
     "data": {
      "text/plain": [
       "<google.cloud.aiplatform.models.Endpoint object at 0x7f0d1434ad10> \n",
       "resource name: projects/934903580331/locations/us-central1/endpoints/4736674102226452480"
      ]
     },
     "execution_count": 76,
     "metadata": {},
     "output_type": "execute_result"
    }
   ],
   "source": [
    "endpoint.undeploy_all()"
   ]
  }
 ],
 "metadata": {
  "environment": {
   "kernel": "python3",
   "name": "tf2-gpu.2-11.m106",
   "type": "gcloud",
   "uri": "gcr.io/deeplearning-platform-release/tf2-gpu.2-11:m106"
  },
  "kernelspec": {
   "display_name": "Python 3 (ipykernel)",
   "language": "python",
   "name": "python3"
  },
  "language_info": {
   "codemirror_mode": {
    "name": "ipython",
    "version": 3
   },
   "file_extension": ".py",
   "mimetype": "text/x-python",
   "name": "python",
   "nbconvert_exporter": "python",
   "pygments_lexer": "ipython3",
   "version": "3.7.12"
  }
 },
 "nbformat": 4,
 "nbformat_minor": 5
}
