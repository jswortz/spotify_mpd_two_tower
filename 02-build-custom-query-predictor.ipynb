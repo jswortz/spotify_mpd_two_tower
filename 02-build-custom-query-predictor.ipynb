{
 "cells": [
  {
   "cell_type": "code",
   "execution_count": null,
   "id": "9d8757f6-8f36-4b0d-8c37-ba31a1773f94",
   "metadata": {},
   "outputs": [],
   "source": [
    "# !pip install google-cloud-aiplatform[prediction]>=1.16.0 fastapi nvtabular git+https://github.com/NVIDIA-Merlin/models.git --user"
   ]
  },
  {
   "cell_type": "markdown",
   "id": "201e92f9-980b-43e9-8c76-b2aa02260e96",
   "metadata": {
    "tags": []
   },
   "source": [
    "# Sklearn with Pandas - Custom Prediction Routine to get Merlin Model predictions\n",
    "\n",
    "Your output should look like this - you are going to use the query model endpoint to create a CPR Endpoing\n",
    "\n",
    "![](img/merlin-bucket.png)\n",
    "\n",
    "This is similar to [the other notebook](https://github.com/GoogleCloudPlatform/vertex-ai-samples/blob/main/notebooks/community/ml_ops/stage6/get_started_with_cpr.ipynb) except we will be using pandas and bigquery\n",
    "\n",
    "Topics covered\n",
    "* Training sklearn locally, deploying to endpoint\n",
    "* Saving data as CSV and doing batch predict from GCS\n",
    "* Loading data to BQ, using BQ magics\n",
    "* Running a batch prediction from BQ to BQ"
   ]
  },
  {
   "cell_type": "code",
   "execution_count": 1,
   "id": "7b65e26b-31d7-459e-8f80-92e2c206fc7f",
   "metadata": {},
   "outputs": [],
   "source": [
    "# !gsutil mb -l us-central1 gs://wortz-project-bucket"
   ]
  },
  {
   "cell_type": "code",
   "execution_count": 2,
   "id": "5075f2f7-c075-4e56-a188-4adfee578a2a",
   "metadata": {
    "tags": []
   },
   "outputs": [],
   "source": [
    "# !echo y | docker container prune\n",
    "# !echo y | docker image prune"
   ]
  },
  {
   "cell_type": "markdown",
   "id": "d045aab2-d485-4bf1-9319-b7afc5cccb34",
   "metadata": {},
   "source": [
    "### Set up repo and configure Docker (one-time)"
   ]
  },
  {
   "cell_type": "code",
   "execution_count": 3,
   "id": "e72acda9-ae76-4ce9-8600-71238d545f57",
   "metadata": {},
   "outputs": [
    {
     "name": "stdout",
     "output_type": "stream",
     "text": [
      "\u001b[1;31mERROR:\u001b[0m (gcloud.beta.artifacts.repositories.create) Error parsing [repository].\n",
      "The [repository] resource is not properly specified.\n",
      "Failed to find attribute [location]. The attribute can be set in the following ways: \n",
      "- provide the argument `--location` on the command line\n",
      "- set the property `artifacts/location`\n"
     ]
    }
   ],
   "source": [
    "# Create the repo if needed for the artifacts\n",
    "\n",
    "! gcloud beta artifacts repositories create {REPOSITORY} \\\n",
    "    --repository-format=docker \\\n",
    "    --location=$REGION"
   ]
  },
  {
   "cell_type": "code",
   "execution_count": 6,
   "id": "1858a130-739b-4752-bf02-d0e8356a0829",
   "metadata": {},
   "outputs": [
    {
     "name": "stdout",
     "output_type": "stream",
     "text": [
      "\u001b[1;33mWARNING:\u001b[0m Your config file at [/home/jupyter/.docker/config.json] contains these credential helper entries:\n",
      "\n",
      "{\n",
      "  \"credHelpers\": {\n",
      "    \"gcr.io\": \"gcloud\",\n",
      "    \"us.gcr.io\": \"gcloud\",\n",
      "    \"eu.gcr.io\": \"gcloud\",\n",
      "    \"asia.gcr.io\": \"gcloud\",\n",
      "    \"staging-k8s.gcr.io\": \"gcloud\",\n",
      "    \"marketplace.gcr.io\": \"gcloud\"\n",
      "  }\n",
      "}\n",
      "Adding credentials for: us-central1-docker.pkg.dev\n",
      "Docker configuration file updated.\n"
     ]
    }
   ],
   "source": [
    "! gcloud auth configure-docker {REGION}-docker.pkg.dev --quiet"
   ]
  },
  {
   "cell_type": "code",
   "execution_count": 5,
   "id": "9cbe8a06-ed15-40ac-bc2f-d387bb406301",
   "metadata": {},
   "outputs": [],
   "source": [
    "from datetime import datetime\n",
    "\n",
    "\n",
    "PROJECT = 'hybrid-vertex'  # <--- TODO: CHANGE THIS\n",
    "REGION = 'us-central1' \n",
    "BUCKET = 'gs://spotify-beam-v3'\n",
    "REPOSITORY = 'merlin-spotify-cpr'\n",
    "ARTIFACT_URI = f'{BUCKET}/merlin-processed'\n",
    "MODEL_DIR = f'{BUCKET}/merlin-processed/query_model_merlin'\n",
    "PREFIX = 'merlin-spotify'"
   ]
  },
  {
   "cell_type": "markdown",
   "id": "2831cdd6-8d18-40aa-88ba-50889c3624a0",
   "metadata": {
    "tags": []
   },
   "source": [
    "# New section - preprocessor creation.\n",
    "\n",
    "In this section we will create a pipeline object that stores a standard scaler \n",
    "using the `PipeLine` class is important as it provides a lot of flexibility and conforms to sklearn's framework"
   ]
  },
  {
   "cell_type": "markdown",
   "id": "89c749d4-18ca-46a0-91f9-432dbf1220e3",
   "metadata": {
    "tags": []
   },
   "source": [
    "appapp## Create a generic sklearn container that returns instances\n",
    "\n",
    "https://github.com/GoogleCloudPlatform/vertex-ai-samples/blob/main/notebooks/community/ml_ops/stage6/get_started_with_cpr.ipynb\n",
    "\n",
    "**highly recommend reviewing this notebook first as it breaks down the custom predictor interface**"
   ]
  },
  {
   "cell_type": "code",
   "execution_count": 7,
   "id": "7bf429ed-e23c-47ac-93da-8a70c4e3e92a",
   "metadata": {
    "tags": []
   },
   "outputs": [],
   "source": [
    "! rm -rf app\n",
    "! mkdir app"
   ]
  },
  {
   "cell_type": "code",
   "execution_count": 8,
   "id": "4af962a7-3196-4b9a-9c36-3f35fd525b5b",
   "metadata": {},
   "outputs": [
    {
     "name": "stdout",
     "output_type": "stream",
     "text": [
      "Writing app/requirements.txt\n"
     ]
    }
   ],
   "source": [
    "%%writefile app/requirements.txt\n",
    "uvicorn[standard]==0.15.0\n",
    "gunicorn==20.1.0\n",
    "fastapi==0.68.1\n",
    "git+https://github.com/NVIDIA-Merlin/models.git\n",
    "nvtabular\n",
    "gcsfs\n",
    "google-cloud-storage"
   ]
  },
  {
   "cell_type": "markdown",
   "id": "5b0c1627-edf8-4879-b1eb-10f28e19cb7a",
   "metadata": {},
   "source": [
    "### CPR Template from here https://cloud.google.com/vertex-ai/docs/predictions/custom-prediction-routines"
   ]
  },
  {
   "cell_type": "code",
   "execution_count": 9,
   "id": "3d80c477-d403-4d39-9220-98d90511a180",
   "metadata": {},
   "outputs": [
    {
     "name": "stdout",
     "output_type": "stream",
     "text": [
      "Writing app/predictor.py\n"
     ]
    }
   ],
   "source": [
    "%%writefile app/predictor.py\n",
    "\n",
    "import nvtabular as nvt\n",
    "import pandas as pd\n",
    "import os\n",
    "import json\n",
    "import merlin.models.tf as mm\n",
    "from nvtabular.loader.tf_utils import configure_tensorflow\n",
    "configure_tensorflow()\n",
    "import tensorflow as tf\n",
    "\n",
    "class Predictor():\n",
    "    \"\"\"Interface of the Predictor class for Custom Prediction Routines.\n",
    "    The Predictor is responsible for the ML logic for processing a prediction request.\n",
    "    Specifically, the Predictor must define:\n",
    "    (1) How to load all model artifacts used during prediction into memory.\n",
    "    (2) The logic that should be executed at predict time.\n",
    "    When using the default PredictionHandler, the Predictor will be invoked as follows:\n",
    "      predictor.postprocess(predictor.predict(predictor.preprocess(prediction_input)))\n",
    "    \"\"\"\n",
    "    def __init__(self):\n",
    "        return\n",
    "    \n",
    "    def load(self, artifacts_uri):\n",
    "        \"\"\"Loads the model artifact.\n",
    "        Args:\n",
    "            artifacts_uri (str):\n",
    "                Required. The value of the environment variable AIP_STORAGE_URI.\n",
    "        \"\"\"\n",
    "        self._model = tf.keras.models.load_model(os.path.join(artifacts_uri, \"query_model_merlin\" ))\n",
    "        self._workflow = nvt.Workflow.load(os.path.join(artifacts_uri, \"workflow/2t-spotify-workflow\"))\n",
    "        self._workflow.remove_inputs(['track_pop_can', 'track_uri_can', 'duration_ms_can', \n",
    "                                      'track_name_can', 'artist_name_can','album_name_can',\n",
    "                                      'album_uri_can','artist_followers_can', 'artist_genres_can',\n",
    "                                      'artist_name_can', 'artist_pop_can','artist_pop_pl','artist_uri_can', \n",
    "                                      'artists_followers_pl'])  \n",
    "        return self\n",
    "        \n",
    "    def preprocess(self, prediction_input):\n",
    "        \"\"\"Preprocesses the prediction input before doing the prediction.\n",
    "        Args:\n",
    "            prediction_input (Any):\n",
    "                Required. The prediction input that needs to be preprocessed.\n",
    "        Returns:\n",
    "            The preprocessed prediction input.\n",
    "        \"\"\"\n",
    "        #handle different input types, can take a dict or list of dicts\n",
    "        if type(prediction_input) == list:\n",
    "            pandas_instance = pd.DataFrame.from_dict(prediction_input[0], orient='index').T\n",
    "            if len(prediction_input) > 1:\n",
    "                for ti in prediction_input[0:]:\n",
    "                    pandas_instance = pandas_instance.append(pd.DataFrame.from_dict(ti, orient='index').T)\n",
    "        if type(prediction_input) == dict:\n",
    "            pandas_instance = pd.DataFrame.from_dict(prediction_input, orient='index').T\n",
    "        else:\n",
    "            raise Exception(\"Data must be provided as a dict or list of dicts\")\n",
    "\n",
    "        transformed_inputs = nvt.Dataset(pandas_instance)\n",
    "        transformed_instance = self._workflow.transform(transformed_inputs)\n",
    "        return transformed_instance\n",
    "\n",
    "    def predict(self, instances):\n",
    "        \"\"\"Performs prediction.\n",
    "        Args:\n",
    "            instances (Any):\n",
    "                Required. The instance(s) used for performing prediction.\n",
    "        Returns:\n",
    "            Prediction results.\n",
    "        \"\"\"  \n",
    "        \n",
    "        loader = mm.Loader(instances, batch_size=instances.num_rows, shuffle=False)\n",
    "        batch =next(iter(loader))\n",
    "        return self._model(batch[0])"
   ]
  },
  {
   "cell_type": "code",
   "execution_count": 10,
   "id": "2b9a8771-cae3-494d-a56b-060616889463",
   "metadata": {},
   "outputs": [
    {
     "name": "stdout",
     "output_type": "stream",
     "text": [
      "Writing app/main.py\n"
     ]
    }
   ],
   "source": [
    "%%writefile app/main.py\n",
    "from fastapi import FastAPI, Request\n",
    "\n",
    "import json\n",
    "import numpy as np\n",
    "import os\n",
    "\n",
    "from google.cloud import storage\n",
    "from predictor import Predictor\n",
    "\n",
    "app = FastAPI()\n",
    "\n",
    "predictor_instance = Predictor()\n",
    "loaded_predictor = predictor_instance.load(artifacts_uri = os.environ['AIP_STORAGE_URI'])\n",
    "\n",
    "@app.get(os.environ['AIP_HEALTH_ROUTE'], status_code=200)\n",
    "def health():\n",
    "    return {}\n",
    "\n",
    "\n",
    "@app.post(os.environ['AIP_PREDICT_ROUTE'])\n",
    "async def predict(request: Request):\n",
    "    body = await request.json()\n",
    "\n",
    "    instances = body[\"instances\"]\n",
    "    # inputs = np.asarray(instances)\n",
    "    preprocessed_inputs = loaded_predictor.preprocess(instances)\n",
    "    outputs = loaded_predictor.predict(preprocessed_inputs)\n",
    "\n",
    "    return {\"predictions\": outputs}"
   ]
  },
  {
   "cell_type": "code",
   "execution_count": 11,
   "id": "2dfde697-cec3-470c-9c6d-3be275ce6b55",
   "metadata": {},
   "outputs": [
    {
     "name": "stdout",
     "output_type": "stream",
     "text": [
      "Writing app/prestart.sh\n"
     ]
    }
   ],
   "source": [
    "%%writefile app/prestart.sh\n",
    "#!/bin/bash\n",
    "export PORT=$AIP_HTTP_PORT"
   ]
  },
  {
   "cell_type": "code",
   "execution_count": 12,
   "id": "970ed68e-37f6-406c-9615-3aab9570daeb",
   "metadata": {},
   "outputs": [],
   "source": [
    "#make it a package\n",
    "!touch app/__init__.py"
   ]
  },
  {
   "cell_type": "code",
   "execution_count": 13,
   "id": "0cb65bef-d269-4f80-a40b-e0b43f844c2a",
   "metadata": {},
   "outputs": [
    {
     "name": "stdout",
     "output_type": "stream",
     "text": [
      "Writing Dockerfile\n"
     ]
    }
   ],
   "source": [
    "%%writefile Dockerfile\n",
    "\n",
    "FROM nvcr.io/nvidia/merlin/merlin-tensorflow:nightly\n",
    "WORKDIR /app \n",
    "\n",
    "\n",
    "COPY ./app/requirements.txt /requirements.txt\n",
    "RUN pip install -r /requirements.txt\n",
    "\n",
    "COPY ./app /app\n",
    "EXPOSE 80\n",
    "\n",
    "CMD [\"uvicorn\", \"main:app\", \"--host\", \"0.0.0.0\", \"--port\", \"8080\"]"
   ]
  },
  {
   "cell_type": "code",
   "execution_count": 14,
   "id": "22af2064-0460-4dd5-b352-180f33fbdd1c",
   "metadata": {
    "collapsed": true,
    "jupyter": {
     "outputs_hidden": true
    },
    "tags": []
   },
   "outputs": [
    {
     "name": "stdout",
     "output_type": "stream",
     "text": [
      "Sending build context to Docker daemon  82.78MB\n",
      "Step 1/7 : FROM nvcr.io/nvidia/merlin/merlin-tensorflow:nightly\n",
      "nightly: Pulling from nvidia/merlin/merlin-tensorflow\n",
      "\n",
      "\u001b[1Bec22a9e9: Pulling fs layer \n",
      "\u001b[1Bd866e8b2: Pulling fs layer \n",
      "\u001b[1Bca75fd6d: Pulling fs layer \n",
      "\u001b[1B31d03623: Pulling fs layer \n",
      "\u001b[1Bc2e0251f: Pulling fs layer \n",
      "\u001b[1Bf40d02d9: Pulling fs layer \n",
      "\u001b[1Be9b94123: Pulling fs layer \n",
      "\u001b[1Bdcdda788: Pulling fs layer \n",
      "\u001b[1B2ec5e515: Pulling fs layer \n",
      "\u001b[1B1a475a23: Pulling fs layer \n",
      "\u001b[1B0cf31c9a: Pulling fs layer \n",
      "\u001b[9B31d03623: Waiting fs layer \n",
      "\u001b[1B76abf1e5: Pulling fs layer \n",
      "\u001b[1Bb700ef54: Pulling fs layer \n",
      "\u001b[1B34e8ae41: Pulling fs layer \n",
      "\u001b[10B9b94123: Waiting fs layer \n",
      "\u001b[10Bcdda788: Waiting fs layer \n",
      "\u001b[1B02344d54: Pulling fs layer \n",
      "\u001b[11Bec5e515: Waiting fs layer \n",
      "\u001b[1B19bf01a3: Pulling fs layer \n",
      "\u001b[1Ba0202c3e: Pulling fs layer \n",
      "\u001b[1B1ae5c43c: Pulling fs layer \n",
      "\u001b[1B4d7d14fc: Pulling fs layer \n",
      "\u001b[1B3042aa5b: Pulling fs layer \n",
      "\u001b[1Bedae70e4: Pulling fs layer \n",
      "\u001b[1Bf69ae45e: Pulling fs layer \n",
      "\u001b[1B0aadff15: Pulling fs layer \n",
      "\u001b[1B1a3db8f4: Pulling fs layer \n",
      "\u001b[1B2ed19884: Pulling fs layer \n",
      "\u001b[1B9b7f92bf: Pulling fs layer \n",
      "\u001b[1Bc827023e: Pulling fs layer \n",
      "\u001b[23Ba475a23: Waiting fs layer \n",
      "\u001b[23Bcf31c9a: Waiting fs layer \n",
      "\u001b[1B6c40305a: Pulling fs layer \n",
      "\u001b[24B799e2ed: Waiting fs layer \n",
      "\u001b[24B6abf1e5: Waiting fs layer \n",
      "\u001b[1Be9bed120: Pulling fs layer \n",
      "\u001b[25B700ef54: Waiting fs layer \n",
      "\u001b[1B6b46296d: Pulling fs layer \n",
      "\u001b[1Bf71d1192: Pulling fs layer \n",
      "\u001b[1B095979e4: Pulling fs layer \n",
      "\u001b[1B3f2cef86: Pulling fs layer \n",
      "\u001b[1B41a4d35e: Pulling fs layer \n",
      "\u001b[1B625ed7a9: Pulling fs layer \n",
      "\u001b[1B17efdb72: Pulling fs layer \n",
      "\u001b[1B4c914da8: Pulling fs layer \n",
      "\u001b[1B5507c38b: Pulling fs layer \n",
      "\u001b[1B4c09b5b2: Pulling fs layer \n",
      "\u001b[1Bf52c2620: Pulling fs layer \n",
      "\u001b[1Bbf4a9eaf: Pulling fs layer \n",
      "\u001b[1B13ef1555: Pulling fs layer \n",
      "\u001b[1Bf8740c02: Pulling fs layer \n",
      "\u001b[1B3688e521: Pulling fs layer \n",
      "\u001b[1Bba95a219: Pulling fs layer \n",
      "\u001b[1B5c3c80f1: Pulling fs layer \n",
      "\u001b[1B353b82b9: Pulling fs layer \n",
      "\u001b[1B73b7f712: Pulling fs layer \n",
      "\u001b[1B8b41183d: Pulling fs layer \n",
      "\u001b[1B23245f36: Pulling fs layer \n",
      "\u001b[1B903e4b94: Pulling fs layer \n",
      "\u001b[1B7b0ec1be: Pulling fs layer \n",
      "\u001b[1B45fff76f: Pulling fs layer \n",
      "\u001b[1Bc9b8f156: Pulling fs layer \n",
      "\u001b[1B41bf3ac5: Pulling fs layer \n",
      "\u001b[1B883f669e: Pulling fs layer \n",
      "\u001b[52B4e8ae41: Waiting fs layer \n",
      "\u001b[1B82d76a43: Pulling fs layer \n",
      "\u001b[53B778b5bf: Waiting fs layer \n",
      "\u001b[1B1e50cfe8: Pulling fs layer \n",
      "\u001b[1B8dce5a13: Pulling fs layer \n",
      "\u001b[1Ba988dcae: Pulling fs layer \n",
      "\u001b[1B740f4b37: Pulling fs layer \n",
      "\u001b[1B066e3737: Pulling fs layer \n",
      "\u001b[56Bfcde68c: Waiting fs layer \n",
      "\u001b[1B4ee12082: Pulling fs layer \n",
      "\u001b[1Bc4c24c54: Pulling fs layer \n",
      "\u001b[1B125e4a87: Pull complete 590kB/590kBkBB\u001b[75A\u001b[2K\u001b[77A\u001b[2K\u001b[76A\u001b[2K\u001b[77A\u001b[2K\u001b[76A\u001b[2K\u001b[77A\u001b[2K\u001b[76A\u001b[2K\u001b[77A\u001b[2K\u001b[76A\u001b[2K\u001b[77A\u001b[2K\u001b[76A\u001b[2K\u001b[77A\u001b[2K\u001b[76A\u001b[2K\u001b[76A\u001b[2K\u001b[77A\u001b[2K\u001b[76A\u001b[2K\u001b[77A\u001b[2K\u001b[76A\u001b[2K\u001b[77A\u001b[2K\u001b[76A\u001b[2K\u001b[77A\u001b[2K\u001b[76A\u001b[2K\u001b[73A\u001b[2K\u001b[75A\u001b[2K\u001b[73A\u001b[2K\u001b[73A\u001b[2K\u001b[72A\u001b[2K\u001b[73A\u001b[2K\u001b[71A\u001b[2K\u001b[73A\u001b[2K\u001b[77A\u001b[2K\u001b[73A\u001b[2K\u001b[73A\u001b[2K\u001b[73A\u001b[2K\u001b[73A\u001b[2K\u001b[73A\u001b[2K\u001b[67A\u001b[2K\u001b[73A\u001b[2K\u001b[67A\u001b[2K\u001b[73A\u001b[2K\u001b[67A\u001b[2K\u001b[73A\u001b[2K\u001b[67A\u001b[2K\u001b[76A\u001b[2K\u001b[67A\u001b[2K\u001b[68A\u001b[2K\u001b[76A\u001b[2K\u001b[73A\u001b[2K\u001b[67A\u001b[2K\u001b[73A\u001b[2K\u001b[66A\u001b[2K\u001b[76A\u001b[2K\u001b[67A\u001b[2K\u001b[76A\u001b[2K\u001b[67A\u001b[2K\u001b[73A\u001b[2K\u001b[67A\u001b[2K\u001b[65A\u001b[2K\u001b[67A\u001b[2K\u001b[73A\u001b[2K\u001b[73A\u001b[2K\u001b[76A\u001b[2K\u001b[73A\u001b[2K\u001b[76A\u001b[2K\u001b[73A\u001b[2K\u001b[76A\u001b[2K\u001b[73A\u001b[2K\u001b[76A\u001b[2K\u001b[73A\u001b[2K\u001b[65A\u001b[2K\u001b[73A\u001b[2K\u001b[76A\u001b[2K\u001b[65A\u001b[2K\u001b[76A\u001b[2K\u001b[76A\u001b[2K\u001b[73A\u001b[2K\u001b[73A\u001b[2K\u001b[76A\u001b[2K\u001b[73A\u001b[2K\u001b[76A\u001b[2K\u001b[73A\u001b[2K\u001b[76A\u001b[2K\u001b[73A\u001b[2KDownloading  143.1MB/343.6MB\u001b[73A\u001b[2K\u001b[73A\u001b[2K\u001b[61A\u001b[2K\u001b[73A\u001b[2K\u001b[76A\u001b[2K\u001b[73A\u001b[2K\u001b[61A\u001b[2K\u001b[73A\u001b[2K\u001b[65A\u001b[2K\u001b[76A\u001b[2K\u001b[61A\u001b[2K\u001b[61A\u001b[2K\u001b[61A\u001b[2K\u001b[61A\u001b[2K\u001b[61A\u001b[2K\u001b[73A\u001b[2K\u001b[61A\u001b[2K\u001b[73A\u001b[2K\u001b[65A\u001b[2K\u001b[73A\u001b[2K\u001b[73A\u001b[2K\u001b[73A\u001b[2K\u001b[65A\u001b[2K\u001b[73A\u001b[2K\u001b[73A\u001b[2K\u001b[60A\u001b[2K\u001b[73A\u001b[2K\u001b[60A\u001b[2K\u001b[59A\u001b[2K\u001b[60A\u001b[2K\u001b[73A\u001b[2K\u001b[73A\u001b[2K\u001b[60A\u001b[2K\u001b[73A\u001b[2K\u001b[60A\u001b[2K\u001b[73A\u001b[2K\u001b[60A\u001b[2K\u001b[73A\u001b[2K\u001b[60A\u001b[2K\u001b[73A\u001b[2K\u001b[60A\u001b[2K\u001b[73A\u001b[2K\u001b[58A\u001b[2K\u001b[60A\u001b[2K\u001b[73A\u001b[2K\u001b[73A\u001b[2K\u001b[75A\u001b[2K\u001b[75A\u001b[2K\u001b[58A\u001b[2K\u001b[75A\u001b[2K\u001b[58A\u001b[2K\u001b[60A\u001b[2K\u001b[73A\u001b[2K\u001b[60A\u001b[2K\u001b[73A\u001b[2K\u001b[75A\u001b[2K\u001b[73A\u001b[2K\u001b[75A\u001b[2K\u001b[73A\u001b[2K\u001b[75A\u001b[2K\u001b[73A\u001b[2K\u001b[75A\u001b[2K\u001b[60A\u001b[2K\u001b[75A\u001b[2K\u001b[60A\u001b[2K\u001b[57A\u001b[2K\u001b[60A\u001b[2K\u001b[75A\u001b[2K\u001b[75A\u001b[2K\u001b[75A\u001b[2K\u001b[75A\u001b[2K\u001b[75A\u001b[2K\u001b[60A\u001b[2K\u001b[75A\u001b[2K\u001b[60A\u001b[2K\u001b[75A\u001b[2K\u001b[60A\u001b[2K\u001b[56A\u001b[2K\u001b[75A\u001b[2K\u001b[56A\u001b[2K\u001b[75A\u001b[2K\u001b[73A\u001b[2K\u001b[75A\u001b[2K\u001b[73A\u001b[2K\u001b[56A\u001b[2K\u001b[60A\u001b[2K\u001b[56A\u001b[2K\u001b[60A\u001b[2K\u001b[56A\u001b[2K\u001b[75A\u001b[2K\u001b[56A\u001b[2K\u001b[60A\u001b[2K\u001b[56A\u001b[2K\u001b[73A\u001b[2K\u001b[56A\u001b[2K\u001b[73A\u001b[2K\u001b[56A\u001b[2K\u001b[73A\u001b[2K\u001b[73A\u001b[2K\u001b[73A\u001b[2K\u001b[75A\u001b[2K\u001b[73A\u001b[2K\u001b[75A\u001b[2K\u001b[73A\u001b[2K\u001b[75A\u001b[2K\u001b[73A\u001b[2K\u001b[75A\u001b[2K\u001b[73A\u001b[2K\u001b[60A\u001b[2K\u001b[75A\u001b[2K\u001b[56A\u001b[2K\u001b[73A\u001b[2K\u001b[56A\u001b[2K\u001b[73A\u001b[2K\u001b[56A\u001b[2K\u001b[73A\u001b[2K\u001b[56A\u001b[2K\u001b[73A\u001b[2K\u001b[56A\u001b[2K\u001b[73A\u001b[2K\u001b[56A\u001b[2K\u001b[60A\u001b[2K\u001b[56A\u001b[2K\u001b[73A\u001b[2K\u001b[60A\u001b[2K\u001b[73A\u001b[2K\u001b[60A\u001b[2K\u001b[73A\u001b[2K\u001b[60A\u001b[2K\u001b[73A\u001b[2K\u001b[60A\u001b[2K\u001b[56A\u001b[2K\u001b[73A\u001b[2K\u001b[60A\u001b[2K\u001b[73A\u001b[2K\u001b[56A\u001b[2K\u001b[73A\u001b[2K\u001b[73A\u001b[2K\u001b[73A\u001b[2KDownloading  476.7MB/637.8MB\u001b[73A\u001b[2K\u001b[75A\u001b[2K\u001b[73A\u001b[2K\u001b[60A\u001b[2K\u001b[73A\u001b[2K\u001b[60A\u001b[2K\u001b[56A\u001b[2K\u001b[60A\u001b[2K\u001b[56A\u001b[2K\u001b[60A\u001b[2K\u001b[74A\u001b[2K\u001b[60A\u001b[2K\u001b[73A\u001b[2K\u001b[73A\u001b[2K\u001b[73A\u001b[2K\u001b[56A\u001b[2K\u001b[73A\u001b[2K\u001b[56A\u001b[2K\u001b[73A\u001b[2K\u001b[56A\u001b[2K\u001b[73A\u001b[2K\u001b[56A\u001b[2K\u001b[73A\u001b[2K\u001b[56A\u001b[2K\u001b[73A\u001b[2K\u001b[56A\u001b[2K\u001b[73A\u001b[2K\u001b[56A\u001b[2K\u001b[60A\u001b[2K\u001b[73A\u001b[2K\u001b[60A\u001b[2K\u001b[73A\u001b[2K\u001b[60A\u001b[2K\u001b[73A\u001b[2K\u001b[74A\u001b[2K\u001b[73A\u001b[2K\u001b[56A\u001b[2K\u001b[73A\u001b[2K\u001b[56A\u001b[2K\u001b[60A\u001b[2K\u001b[56A\u001b[2K\u001b[73A\u001b[2K\u001b[56A\u001b[2K\u001b[60A\u001b[2K\u001b[56A\u001b[2K\u001b[60A\u001b[2K\u001b[56A\u001b[2K\u001b[73A\u001b[2K\u001b[56A\u001b[2K\u001b[56A\u001b[2K\u001b[56A\u001b[2K\u001b[73A\u001b[2K\u001b[56A\u001b[2K\u001b[73A\u001b[2K\u001b[56A\u001b[2K\u001b[55A\u001b[2K\u001b[56A\u001b[2K\u001b[55A\u001b[2K\u001b[55A\u001b[2K\u001b[56A\u001b[2K\u001b[55A\u001b[2K\u001b[56A\u001b[2K\u001b[55A\u001b[2K\u001b[56A\u001b[2K\u001b[73A\u001b[2K\u001b[73A\u001b[2K\u001b[56A\u001b[2K\u001b[73A\u001b[2K\u001b[73A\u001b[2K\u001b[73A\u001b[2K\u001b[55A\u001b[2K\u001b[73A\u001b[2K\u001b[55A\u001b[2K\u001b[73A\u001b[2K\u001b[56A\u001b[2K\u001b[73A\u001b[2K\u001b[55A\u001b[2K\u001b[56A\u001b[2K\u001b[55A\u001b[2K\u001b[56A\u001b[2K\u001b[55A\u001b[2K\u001b[73A\u001b[2K\u001b[55A\u001b[2K\u001b[73A\u001b[2K\u001b[55A\u001b[2K\u001b[73A\u001b[2K\u001b[56A\u001b[2K\u001b[55A\u001b[2K\u001b[56A\u001b[2K\u001b[73A\u001b[2K\u001b[56A\u001b[2K\u001b[73A\u001b[2K\u001b[56A\u001b[2K\u001b[55A\u001b[2K\u001b[56A\u001b[2K\u001b[56A\u001b[2K\u001b[55A\u001b[2K\u001b[73A\u001b[2K\u001b[55A\u001b[2K\u001b[56A\u001b[2K\u001b[73A\u001b[2K\u001b[56A\u001b[2K\u001b[55A\u001b[2K\u001b[56A\u001b[2K\u001b[55A\u001b[2K\u001b[56A\u001b[2K\u001b[73A\u001b[2K\u001b[55A\u001b[2K\u001b[56A\u001b[2K\u001b[55A\u001b[2K\u001b[56A\u001b[2K\u001b[55A\u001b[2K\u001b[56A\u001b[2K\u001b[73A\u001b[2K\u001b[55A\u001b[2K\u001b[73A\u001b[2K\u001b[55A\u001b[2K\u001b[73A\u001b[2K\u001b[55A\u001b[2K\u001b[55A\u001b[2K\u001b[55A\u001b[2K\u001b[55A\u001b[2K\u001b[73A\u001b[2K\u001b[55A\u001b[2K\u001b[73A\u001b[2K\u001b[55A\u001b[2K\u001b[56A\u001b[2K\u001b[55A\u001b[2K\u001b[56A\u001b[2K\u001b[55A\u001b[2K\u001b[56A\u001b[2K\u001b[55A\u001b[2K\u001b[73A\u001b[2K\u001b[55A\u001b[2K\u001b[73A\u001b[2K\u001b[73A\u001b[2K\u001b[55A\u001b[2K\u001b[73A\u001b[2K\u001b[55A\u001b[2K\u001b[56A\u001b[2K\u001b[56A\u001b[2K\u001b[56A\u001b[2K\u001b[73A\u001b[2K\u001b[56A\u001b[2K\u001b[55A\u001b[2K\u001b[73A\u001b[2K\u001b[55A\u001b[2K\u001b[73A\u001b[2K\u001b[56A\u001b[2K\u001b[73A\u001b[2K\u001b[56A\u001b[2K\u001b[73A\u001b[2K\u001b[56A\u001b[2K\u001b[73A\u001b[2K\u001b[73A\u001b[2K\u001b[55A\u001b[2K\u001b[73A\u001b[2K\u001b[56A\u001b[2K\u001b[73A\u001b[2K\u001b[55A\u001b[2K\u001b[56A\u001b[2K\u001b[55A\u001b[2K\u001b[73A\u001b[2K\u001b[56A\u001b[2K\u001b[73A\u001b[2K\u001b[73A\u001b[2K\u001b[73A\u001b[2K\u001b[55A\u001b[2K\u001b[73A\u001b[2K\u001b[55A\u001b[2K\u001b[56A\u001b[2K\u001b[55A\u001b[2K\u001b[56A\u001b[2K\u001b[55A\u001b[2K\u001b[56A\u001b[2K\u001b[73A\u001b[2K\u001b[56A\u001b[2K\u001b[73A\u001b[2K\u001b[56A\u001b[2K\u001b[55A\u001b[2K\u001b[56A\u001b[2K\u001b[73A\u001b[2K\u001b[55A\u001b[2K\u001b[73A\u001b[2K\u001b[73A\u001b[2K\u001b[56A\u001b[2K\u001b[73A\u001b[2K\u001b[55A\u001b[2K\u001b[73A\u001b[2K\u001b[55A\u001b[2K\u001b[73A\u001b[2K\u001b[55A\u001b[2K\u001b[73A\u001b[2K\u001b[56A\u001b[2K\u001b[73A\u001b[2K\u001b[55A\u001b[2K\u001b[73A\u001b[2K\u001b[55A\u001b[2K\u001b[73A\u001b[2K\u001b[55A\u001b[2K\u001b[73A\u001b[2K\u001b[55A\u001b[2K\u001b[73A\u001b[2K\u001b[55A\u001b[2K\u001b[73A\u001b[2K\u001b[56A\u001b[2K\u001b[55A\u001b[2K\u001b[56A\u001b[2K\u001b[55A\u001b[2K\u001b[56A\u001b[2K\u001b[55A\u001b[2K\u001b[73A\u001b[2K\u001b[55A\u001b[2K\u001b[73A\u001b[2K\u001b[55A\u001b[2K\u001b[73A\u001b[2K\u001b[56A\u001b[2K\u001b[56A\u001b[2K\u001b[56A\u001b[2K\u001b[73A\u001b[2K\u001b[56A\u001b[2K\u001b[54A\u001b[2K\u001b[73A\u001b[2K\u001b[56A\u001b[2K\u001b[73A\u001b[2K\u001b[56A\u001b[2K\u001b[55A\u001b[2K\u001b[73A\u001b[2K\u001b[55A\u001b[2K\u001b[73A\u001b[2K\u001b[56A\u001b[2K\u001b[73A\u001b[2K\u001b[56A\u001b[2K\u001b[54A\u001b[2K\u001b[55A\u001b[2K\u001b[54A\u001b[2K\u001b[73A\u001b[2K\u001b[56A\u001b[2K\u001b[56A\u001b[2K\u001b[73A\u001b[2K\u001b[56A\u001b[2K\u001b[55A\u001b[2K\u001b[56A\u001b[2K\u001b[55A\u001b[2K\u001b[56A\u001b[2K\u001b[73A\u001b[2K\u001b[55A\u001b[2K\u001b[73A\u001b[2K\u001b[56A\u001b[2K\u001b[55A\u001b[2K\u001b[73A\u001b[2K\u001b[56A\u001b[2K\u001b[73A\u001b[2K\u001b[56A\u001b[2K\u001b[73A\u001b[2K\u001b[55A\u001b[2K\u001b[56A\u001b[2K\u001b[52A\u001b[2K\u001b[56A\u001b[2K\u001b[55A\u001b[2K\u001b[55A\u001b[2K\u001b[73A\u001b[2K\u001b[55A\u001b[2K\u001b[56A\u001b[2K\u001b[55A\u001b[2K\u001b[56A\u001b[2K\u001b[55A\u001b[2K\u001b[56A\u001b[2K\u001b[55A\u001b[2K\u001b[73A\u001b[2K\u001b[55A\u001b[2K\u001b[73A\u001b[2K\u001b[55A\u001b[2K\u001b[73A\u001b[2K\u001b[55A\u001b[2K\u001b[55A\u001b[2K\u001b[56A\u001b[2K\u001b[50A\u001b[2K\u001b[73A\u001b[2K\u001b[50A\u001b[2K\u001b[55A\u001b[2K\u001b[50A\u001b[2K\u001b[73A\u001b[2K\u001b[56A\u001b[2K\u001b[73A\u001b[2K\u001b[56A\u001b[2K\u001b[73A\u001b[2K\u001b[56A\u001b[2K\u001b[56A\u001b[2K\u001b[55A\u001b[2K\u001b[56A\u001b[2K\u001b[55A\u001b[2K\u001b[56A\u001b[2K\u001b[55A\u001b[2K\u001b[56A\u001b[2K\u001b[55A\u001b[2K\u001b[56A\u001b[2K\u001b[55A\u001b[2K\u001b[73A\u001b[2K\u001b[55A\u001b[2K\u001b[55A\u001b[2K\u001b[56A\u001b[2K\u001b[55A\u001b[2K\u001b[56A\u001b[2K\u001b[73A\u001b[2K\u001b[56A\u001b[2K\u001b[73A\u001b[2K\u001b[55A\u001b[2K\u001b[55A\u001b[2K\u001b[56A\u001b[2K\u001b[73A\u001b[2K\u001b[55A\u001b[2K\u001b[48A\u001b[2K\u001b[55A\u001b[2K\u001b[56A\u001b[2K\u001b[73A\u001b[2K\u001b[56A\u001b[2K\u001b[55A\u001b[2K\u001b[56A\u001b[2K\u001b[55A\u001b[2K\u001b[56A\u001b[2K\u001b[55A\u001b[2K\u001b[56A\u001b[2K\u001b[73A\u001b[2K\u001b[55A\u001b[2K\u001b[56A\u001b[2K\u001b[55A\u001b[2K\u001b[56A\u001b[2K\u001b[73A\u001b[2K\u001b[56A\u001b[2K\u001b[55A\u001b[2K\u001b[73A\u001b[2K\u001b[55A\u001b[2K\u001b[73A\u001b[2K\u001b[56A\u001b[2K\u001b[73A\u001b[2K\u001b[56A\u001b[2K\u001b[55A\u001b[2K\u001b[46A\u001b[2K\u001b[55A\u001b[2K\u001b[55A\u001b[2K\u001b[55A\u001b[2K\u001b[56A\u001b[2K\u001b[55A\u001b[2K\u001b[73A\u001b[2K\u001b[55A\u001b[2K\u001b[73A\u001b[2K\u001b[55A\u001b[2K\u001b[45A\u001b[2K\u001b[55A\u001b[2K\u001b[73A\u001b[2K\u001b[55A\u001b[2K\u001b[73A\u001b[2K\u001b[56A\u001b[2K\u001b[73A\u001b[2K\u001b[56A\u001b[2K\u001b[73A\u001b[2K\u001b[56A\u001b[2K\u001b[56A\u001b[2K\u001b[56A\u001b[2K\u001b[73A\u001b[2K\u001b[56A\u001b[2K\u001b[44A\u001b[2K\u001b[56A\u001b[2K\u001b[44A\u001b[2K\u001b[56A\u001b[2K\u001b[42A\u001b[2K\u001b[56A\u001b[2K\u001b[42A\u001b[2K\u001b[56A\u001b[2K\u001b[42A\u001b[2K\u001b[56A\u001b[2K\u001b[42A\u001b[2K\u001b[44A\u001b[2K\u001b[73A\u001b[2K\u001b[56A\u001b[2K\u001b[73A\u001b[2K\u001b[56A\u001b[2K\u001b[56A\u001b[2K\u001b[41A\u001b[2K\u001b[56A\u001b[2K\u001b[41A\u001b[2K\u001b[41A\u001b[2K\u001b[56A\u001b[2K\u001b[56A\u001b[2K\u001b[73A\u001b[2K\u001b[56A\u001b[2K\u001b[73A\u001b[2K\u001b[56A\u001b[2K\u001b[40A\u001b[2K\u001b[73A\u001b[2K\u001b[40A\u001b[2K\u001b[73A\u001b[2K\u001b[40A\u001b[2K\u001b[73A\u001b[2K\u001b[39A\u001b[2K\u001b[40A\u001b[2K\u001b[56A\u001b[2K\u001b[40A\u001b[2K\u001b[56A\u001b[2K\u001b[39A\u001b[2K\u001b[73A\u001b[2K\u001b[39A\u001b[2K\u001b[40A\u001b[2K\u001b[73A\u001b[2K\u001b[40A\u001b[2K\u001b[56A\u001b[2K\u001b[40A\u001b[2K\u001b[39A\u001b[2K\u001b[73A\u001b[2K\u001b[39A\u001b[2K\u001b[73A\u001b[2K\u001b[39A\u001b[2K\u001b[73A\u001b[2K\u001b[39A\u001b[2K\u001b[73A\u001b[2K\u001b[39A\u001b[2K\u001b[56A\u001b[2K\u001b[73A\u001b[2K\u001b[56A\u001b[2K\u001b[56A\u001b[2K\u001b[39A\u001b[2K\u001b[56A\u001b[2K\u001b[39A\u001b[2K\u001b[56A\u001b[2K\u001b[39A\u001b[2K\u001b[56A\u001b[2K\u001b[40A\u001b[2K\u001b[56A\u001b[2K\u001b[39A\u001b[2K\u001b[56A\u001b[2K\u001b[39A\u001b[2K\u001b[56A\u001b[2K\u001b[39A\u001b[2K\u001b[56A\u001b[2K\u001b[73A\u001b[2K\u001b[56A\u001b[2K\u001b[73A\u001b[2K\u001b[40A\u001b[2K\u001b[39A\u001b[2K\u001b[40A\u001b[2K\u001b[56A\u001b[2K\u001b[73A\u001b[2K\u001b[39A\u001b[2K\u001b[40A\u001b[2K\u001b[39A\u001b[2K\u001b[40A\u001b[2K\u001b[56A\u001b[2K\u001b[39A\u001b[2K\u001b[73A\u001b[2K\u001b[56A\u001b[2K\u001b[40A\u001b[2K\u001b[73A\u001b[2K\u001b[39A\u001b[2K\u001b[73A\u001b[2K\u001b[39A\u001b[2K\u001b[39A\u001b[2K\u001b[40A\u001b[2K\u001b[56A\u001b[2K\u001b[40A\u001b[2K\u001b[56A\u001b[2K\u001b[40A\u001b[2K\u001b[56A\u001b[2K\u001b[39A\u001b[2K\u001b[56A\u001b[2K\u001b[73A\u001b[2K\u001b[40A\u001b[2K\u001b[39A\u001b[2K\u001b[40A\u001b[2K\u001b[56A\u001b[2K\u001b[39A\u001b[2K\u001b[73A\u001b[2K\u001b[39A\u001b[2K\u001b[73A\u001b[2K\u001b[56A\u001b[2K\u001b[40A\u001b[2K\u001b[56A\u001b[2K\u001b[40A\u001b[2K\u001b[56A\u001b[2K\u001b[39A\u001b[2K\u001b[56A\u001b[2K\u001b[39A\u001b[2K\u001b[56A\u001b[2K\u001b[39A\u001b[2K\u001b[73A\u001b[2K\u001b[39A\u001b[2K\u001b[56A\u001b[2K\u001b[40A\u001b[2K\u001b[56A\u001b[2K\u001b[39A\u001b[2K\u001b[40A\u001b[2K\u001b[39A\u001b[2K\u001b[40A\u001b[2K\u001b[73A\u001b[2K\u001b[40A\u001b[2K\u001b[73A\u001b[2K\u001b[56A\u001b[2K\u001b[40A\u001b[2K\u001b[73A\u001b[2K\u001b[56A\u001b[2K\u001b[40A\u001b[2K\u001b[56A\u001b[2K\u001b[40A\u001b[2K\u001b[56A\u001b[2K\u001b[40A\u001b[2K\u001b[73A\u001b[2K\u001b[40A\u001b[2K\u001b[56A\u001b[2K\u001b[40A\u001b[2K\u001b[56A\u001b[2K\u001b[40A\u001b[2K\u001b[56A\u001b[2K\u001b[40A\u001b[2K\u001b[56A\u001b[2K\u001b[73A\u001b[2K\u001b[56A\u001b[2K\u001b[39A\u001b[2K\u001b[56A\u001b[2K\u001b[39A\u001b[2K\u001b[56A\u001b[2K\u001b[40A\u001b[2K\u001b[39A\u001b[2K\u001b[73A\u001b[2K\u001b[39A\u001b[2K\u001b[73A\u001b[2K\u001b[39A\u001b[2K\u001b[73A\u001b[2K\u001b[56A\u001b[2K\u001b[73A\u001b[2K\u001b[56A\u001b[2K\u001b[73A\u001b[2K\u001b[39A\u001b[2K\u001b[40A\u001b[2K\u001b[39A\u001b[2K\u001b[56A\u001b[2K\u001b[73A\u001b[2K\u001b[39A\u001b[2K\u001b[40A\u001b[2K\u001b[73A\u001b[2K\u001b[40A\u001b[2K\u001b[39A\u001b[2K\u001b[40A\u001b[2K\u001b[56A\u001b[2K\u001b[73A\u001b[2K\u001b[40A\u001b[2K\u001b[73A\u001b[2K\u001b[40A\u001b[2K\u001b[39A\u001b[2K\u001b[40A\u001b[2K\u001b[73A\u001b[2K\u001b[40A\u001b[2K\u001b[73A\u001b[2K\u001b[56A\u001b[2K\u001b[73A\u001b[2K\u001b[56A\u001b[2K\u001b[39A\u001b[2K\u001b[40A\u001b[2K\u001b[73A\u001b[2K\u001b[40A\u001b[2K\u001b[40A\u001b[2K\u001b[56A\u001b[2K\u001b[40A\u001b[2K\u001b[56A\u001b[2K\u001b[73A\u001b[2K\u001b[56A\u001b[2K\u001b[38A\u001b[2K\u001b[40A\u001b[2K\u001b[73A\u001b[2K\u001b[40A\u001b[2K\u001b[73A\u001b[2K\u001b[40A\u001b[2K\u001b[38A\u001b[2K\u001b[40A\u001b[2K\u001b[73A\u001b[2K\u001b[40A\u001b[2K\u001b[73A\u001b[2K\u001b[56A\u001b[2K\u001b[73A\u001b[2K\u001b[40A\u001b[2K\u001b[73A\u001b[2K\u001b[73A\u001b[2K\u001b[56A\u001b[2K\u001b[40A\u001b[2K\u001b[56A\u001b[2K\u001b[73A\u001b[2K\u001b[56A\u001b[2K\u001b[73A\u001b[2K\u001b[56A\u001b[2K\u001b[73A\u001b[2K\u001b[40A\u001b[2K\u001b[56A\u001b[2K\u001b[37A\u001b[2KDownloading   1.85GB/1.875GB\u001b[37A\u001b[2K\u001b[56A\u001b[2K\u001b[37A\u001b[2K\u001b[40A\u001b[2K\u001b[73A\u001b[2K\u001b[56A\u001b[2KDownloading  460.3MB/728.7MB\u001b[73A\u001b[2K\u001b[40A\u001b[2K\u001b[73A\u001b[2K\u001b[37A\u001b[2K\u001b[56A\u001b[2K\u001b[40A\u001b[2K\u001b[73A\u001b[2K\u001b[40A\u001b[2K\u001b[73A\u001b[2K\u001b[73A\u001b[2K\u001b[36A\u001b[2K\u001b[40A\u001b[2K\u001b[36A\u001b[2K\u001b[73A\u001b[2K\u001b[36A\u001b[2K\u001b[40A\u001b[2K\u001b[40A\u001b[2K\u001b[40A\u001b[2K\u001b[40A\u001b[2K\u001b[34A\u001b[2K\u001b[34A\u001b[2K\u001b[34A\u001b[2K\u001b[40A\u001b[2K\u001b[73A\u001b[2K\u001b[33A\u001b[2K\u001b[33A\u001b[2K\u001b[33A\u001b[2K\u001b[40A\u001b[2K\u001b[33A\u001b[2K\u001b[73A\u001b[2K\u001b[33A\u001b[2K\u001b[40A\u001b[2K\u001b[73A\u001b[2K\u001b[40A\u001b[2K\u001b[32A\u001b[2K\u001b[40A\u001b[2K\u001b[40A\u001b[2K\u001b[40A\u001b[2K\u001b[32A\u001b[2K\u001b[31A\u001b[2K\u001b[32A\u001b[2K\u001b[31A\u001b[2K\u001b[31A\u001b[2K\u001b[32A\u001b[2K\u001b[40A\u001b[2K\u001b[40A\u001b[2K\u001b[40A\u001b[2K\u001b[73A\u001b[2K\u001b[40A\u001b[2K\u001b[30A\u001b[2K\u001b[40A\u001b[2K\u001b[30A\u001b[2K\u001b[30A\u001b[2K\u001b[40A\u001b[2K\u001b[29A\u001b[2K\u001b[73A\u001b[2K\u001b[29A\u001b[2K\u001b[40A\u001b[2K\u001b[29A\u001b[2K\u001b[73A\u001b[2K\u001b[29A\u001b[2K\u001b[29A\u001b[2K\u001b[73A\u001b[2K\u001b[29A\u001b[2K\u001b[73A\u001b[2K\u001b[29A\u001b[2K\u001b[28A\u001b[2K\u001b[29A\u001b[2K\u001b[29A\u001b[2K\u001b[28A\u001b[2K\u001b[73A\u001b[2K\u001b[28A\u001b[2K\u001b[73A\u001b[2K\u001b[28A\u001b[2K\u001b[73A\u001b[2K\u001b[28A\u001b[2K\u001b[28A\u001b[2K\u001b[28A\u001b[2K\u001b[73A\u001b[2K\u001b[27A\u001b[2K\u001b[26A\u001b[2K\u001b[26A\u001b[2K\u001b[73A\u001b[2K\u001b[26A\u001b[2K\u001b[73A\u001b[2K\u001b[73A\u001b[2K\u001b[26A\u001b[2K\u001b[73A\u001b[2K\u001b[73A\u001b[2K\u001b[27A\u001b[2K\u001b[25A\u001b[2K\u001b[27A\u001b[2K\u001b[25A\u001b[2K\u001b[26A\u001b[2K\u001b[25A\u001b[2K\u001b[73A\u001b[2K\u001b[26A\u001b[2K\u001b[25A\u001b[2K\u001b[26A\u001b[2K\u001b[73A\u001b[2K\u001b[27A\u001b[2K\u001b[73A\u001b[2K\u001b[27A\u001b[2K\u001b[25A\u001b[2K\u001b[73A\u001b[2K\u001b[27A\u001b[2K\u001b[73A\u001b[2K\u001b[25A\u001b[2K\u001b[26A\u001b[2K\u001b[25A\u001b[2K\u001b[26A\u001b[2K\u001b[25A\u001b[2K\u001b[26A\u001b[2K\u001b[73A\u001b[2K\u001b[25A\u001b[2K\u001b[73A\u001b[2K\u001b[25A\u001b[2K\u001b[26A\u001b[2K\u001b[25A\u001b[2K\u001b[26A\u001b[2K\u001b[73A\u001b[2K\u001b[26A\u001b[2K\u001b[25A\u001b[2K\u001b[26A\u001b[2K\u001b[73A\u001b[2K\u001b[25A\u001b[2K\u001b[73A\u001b[2K\u001b[26A\u001b[2K\u001b[25A\u001b[2K\u001b[26A\u001b[2K\u001b[25A\u001b[2K\u001b[26A\u001b[2K\u001b[25A\u001b[2K\u001b[73A\u001b[2K\u001b[24A\u001b[2K\u001b[73A\u001b[2K\u001b[24A\u001b[2K\u001b[24A\u001b[2K\u001b[26A\u001b[2K\u001b[73A\u001b[2K\u001b[26A\u001b[2K\u001b[73A\u001b[2K\u001b[26A\u001b[2K\u001b[26A\u001b[2K\u001b[24A\u001b[2K\u001b[26A\u001b[2K\u001b[73A\u001b[2K\u001b[26A\u001b[2K\u001b[24A\u001b[2K\u001b[26A\u001b[2K\u001b[25A\u001b[2K\u001b[73A\u001b[2K\u001b[25A\u001b[2K\u001b[73A\u001b[2K\u001b[26A\u001b[2K\u001b[24A\u001b[2K\u001b[26A\u001b[2K\u001b[24A\u001b[2K\u001b[73A\u001b[2K\u001b[24A\u001b[2K\u001b[26A\u001b[2K\u001b[24A\u001b[2K\u001b[25A\u001b[2K\u001b[24A\u001b[2K\u001b[26A\u001b[2K\u001b[24A\u001b[2K\u001b[25A\u001b[2K\u001b[73A\u001b[2K\u001b[25A\u001b[2K\u001b[73A\u001b[2K\u001b[24A\u001b[2K\u001b[25A\u001b[2K\u001b[73A\u001b[2K\u001b[25A\u001b[2K\u001b[24A\u001b[2K\u001b[26A\u001b[2K\u001b[24A\u001b[2K\u001b[73A\u001b[2K\u001b[25A\u001b[2K\u001b[73A\u001b[2K\u001b[25A\u001b[2K\u001b[26A\u001b[2K\u001b[24A\u001b[2K\u001b[26A\u001b[2K\u001b[25A\u001b[2K\u001b[24A\u001b[2K\u001b[25A\u001b[2K\u001b[24A\u001b[2K\u001b[26A\u001b[2K\u001b[73A\u001b[2K\u001b[24A\u001b[2K\u001b[25A\u001b[2K\u001b[24A\u001b[2K\u001b[73A\u001b[2K\u001b[73A\u001b[2K\u001b[26A\u001b[2K\u001b[25A\u001b[2K\u001b[73A\u001b[2K\u001b[24A\u001b[2K\u001b[24A\u001b[2K\u001b[73A\u001b[2K\u001b[26A\u001b[2K\u001b[73A\u001b[2K\u001b[26A\u001b[2K\u001b[73A\u001b[2K\u001b[26A\u001b[2K\u001b[73A\u001b[2K\u001b[26A\u001b[2K\u001b[24A\u001b[2K\u001b[73A\u001b[2K\u001b[24A\u001b[2K\u001b[73A\u001b[2K\u001b[24A\u001b[2K\u001b[25A\u001b[2K\u001b[24A\u001b[2K\u001b[73A\u001b[2K\u001b[25A\u001b[2K\u001b[73A\u001b[2K\u001b[25A\u001b[2K\u001b[73A\u001b[2K\u001b[24A\u001b[2K\u001b[73A\u001b[2K\u001b[24A\u001b[2K\u001b[73A\u001b[2K\u001b[24A\u001b[2K\u001b[26A\u001b[2K\u001b[24A\u001b[2K\u001b[26A\u001b[2K\u001b[24A\u001b[2K\u001b[26A\u001b[2K\u001b[24A\u001b[2K\u001b[73A\u001b[2K\u001b[73A\u001b[2K\u001b[26A\u001b[2K\u001b[73A\u001b[2K\u001b[24A\u001b[2K\u001b[73A\u001b[2K\u001b[24A\u001b[2K\u001b[23A\u001b[2K\u001b[73A\u001b[2K\u001b[26A\u001b[2K\u001b[73A\u001b[2K\u001b[26A\u001b[2K\u001b[26A\u001b[2K\u001b[23A\u001b[2K\u001b[26A\u001b[2K\u001b[23A\u001b[2K\u001b[26A\u001b[2K\u001b[73A\u001b[2K\u001b[26A\u001b[2K\u001b[73A\u001b[2K\u001b[26A\u001b[2K\u001b[23A\u001b[2K\u001b[26A\u001b[2K\u001b[73A\u001b[2K\u001b[26A\u001b[2K\u001b[73A\u001b[2K\u001b[24A\u001b[2K\u001b[26A\u001b[2K\u001b[26A\u001b[2K\u001b[73A\u001b[2K\u001b[24A\u001b[2K\u001b[73A\u001b[2K\u001b[26A\u001b[2K\u001b[23A\u001b[2K\u001b[26A\u001b[2K\u001b[24A\u001b[2K\u001b[26A\u001b[2K\u001b[24A\u001b[2K\u001b[23A\u001b[2K\u001b[73A\u001b[2K\u001b[23A\u001b[2K\u001b[24A\u001b[2K\u001b[26A\u001b[2K\u001b[24A\u001b[2K\u001b[26A\u001b[2K\u001b[73A\u001b[2K\u001b[23A\u001b[2K\u001b[24A\u001b[2K\u001b[24A\u001b[2K\u001b[23A\u001b[2K\u001b[24A\u001b[2K\u001b[26A\u001b[2K\u001b[73A\u001b[2K\u001b[24A\u001b[2K\u001b[73A\u001b[2K\u001b[23A\u001b[2K\u001b[73A\u001b[2K\u001b[24A\u001b[2K\u001b[73A\u001b[2K\u001b[24A\u001b[2K\u001b[23A\u001b[2K\u001b[73A\u001b[2K\u001b[24A\u001b[2K\u001b[73A\u001b[2K\u001b[24A\u001b[2K\u001b[24A\u001b[2K\u001b[26A\u001b[2K\u001b[26A\u001b[2K\u001b[23A\u001b[2K\u001b[24A\u001b[2K\u001b[23A\u001b[2K\u001b[73A\u001b[2K\u001b[23A\u001b[2K\u001b[73A\u001b[2K\u001b[23A\u001b[2K\u001b[73A\u001b[2K\u001b[24A\u001b[2K\u001b[23A\u001b[2K\u001b[73A\u001b[2K\u001b[23A\u001b[2K\u001b[24A\u001b[2K\u001b[23A\u001b[2K\u001b[24A\u001b[2K\u001b[22A\u001b[2K\u001b[24A\u001b[2K\u001b[23A\u001b[2K\u001b[22A\u001b[2K\u001b[73A\u001b[2K\u001b[22A\u001b[2K\u001b[23A\u001b[2K\u001b[24A\u001b[2K\u001b[73A\u001b[2K\u001b[24A\u001b[2K\u001b[22A\u001b[2K\u001b[23A\u001b[2K\u001b[24A\u001b[2K\u001b[23A\u001b[2K\u001b[73A\u001b[2K\u001b[23A\u001b[2K\u001b[73A\u001b[2K\u001b[23A\u001b[2K\u001b[73A\u001b[2K\u001b[23A\u001b[2K\u001b[73A\u001b[2K\u001b[23A\u001b[2K\u001b[22A\u001b[2K\u001b[23A\u001b[2K\u001b[24A\u001b[2K\u001b[23A\u001b[2K\u001b[24A\u001b[2K\u001b[23A\u001b[2K\u001b[73A\u001b[2K\u001b[24A\u001b[2K\u001b[73A\u001b[2K\u001b[24A\u001b[2K\u001b[73A\u001b[2K\u001b[22A\u001b[2K\u001b[23A\u001b[2K\u001b[22A\u001b[2K\u001b[73A\u001b[2K\u001b[24A\u001b[2K\u001b[22A\u001b[2K\u001b[24A\u001b[2K\u001b[22A\u001b[2K\u001b[23A\u001b[2K\u001b[73A\u001b[2K\u001b[23A\u001b[2K\u001b[22A\u001b[2K\u001b[23A\u001b[2K\u001b[24A\u001b[2K\u001b[23A\u001b[2K\u001b[22A\u001b[2K\u001b[23A\u001b[2K\u001b[22A\u001b[2K\u001b[73A\u001b[2K\u001b[22A\u001b[2K\u001b[23A\u001b[2K\u001b[73A\u001b[2K\u001b[23A\u001b[2K\u001b[22A\u001b[2K\u001b[73A\u001b[2K\u001b[22A\u001b[2K\u001b[23A\u001b[2K\u001b[21A\u001b[2K\u001b[23A\u001b[2K\u001b[22A\u001b[2K\u001b[23A\u001b[2K\u001b[22A\u001b[2K\u001b[73A\u001b[2K\u001b[22A\u001b[2K\u001b[21A\u001b[2K\u001b[23A\u001b[2K\u001b[21A\u001b[2K\u001b[23A\u001b[2K\u001b[73A\u001b[2K\u001b[23A\u001b[2K\u001b[22A\u001b[2K\u001b[23A\u001b[2K\u001b[21A\u001b[2K\u001b[23A\u001b[2K\u001b[21A\u001b[2K\u001b[23A\u001b[2K\u001b[22A\u001b[2K\u001b[23A\u001b[2K\u001b[73A\u001b[2K\u001b[21A\u001b[2K\u001b[23A\u001b[2K\u001b[73A\u001b[2K\u001b[23A\u001b[2K\u001b[73A\u001b[2K\u001b[23A\u001b[2K\u001b[21A\u001b[2K\u001b[23A\u001b[2K\u001b[21A\u001b[2K\u001b[73A\u001b[2K\u001b[23A\u001b[2K\u001b[22A\u001b[2K\u001b[21A\u001b[2K\u001b[22A\u001b[2K\u001b[21A\u001b[2K\u001b[23A\u001b[2K\u001b[73A\u001b[2K\u001b[21A\u001b[2K\u001b[73A\u001b[2K\u001b[23A\u001b[2K\u001b[21A\u001b[2K\u001b[21A\u001b[2K\u001b[23A\u001b[2K\u001b[21A\u001b[2K\u001b[22A\u001b[2K\u001b[21A\u001b[2K\u001b[23A\u001b[2K\u001b[73A\u001b[2K\u001b[23A\u001b[2K\u001b[23A\u001b[2K\u001b[73A\u001b[2K\u001b[21A\u001b[2K\u001b[23A\u001b[2K\u001b[22A\u001b[2K\u001b[23A\u001b[2K\u001b[22A\u001b[2K\u001b[21A\u001b[2K\u001b[22A\u001b[2K\u001b[23A\u001b[2K\u001b[22A\u001b[2K\u001b[23A\u001b[2K\u001b[21A\u001b[2K\u001b[23A\u001b[2K\u001b[21A\u001b[2K\u001b[23A\u001b[2K\u001b[22A\u001b[2K\u001b[21A\u001b[2K\u001b[73A\u001b[2K\u001b[22A\u001b[2K\u001b[73A\u001b[2K\u001b[73A\u001b[2K\u001b[73A\u001b[2K\u001b[23A\u001b[2K\u001b[22A\u001b[2K\u001b[21A\u001b[2K\u001b[21A\u001b[2K\u001b[22A\u001b[2K\u001b[21A\u001b[2K\u001b[22A\u001b[2K\u001b[22A\u001b[2K\u001b[73A\u001b[2K\u001b[21A\u001b[2K\u001b[73A\u001b[2K\u001b[22A\u001b[2K\u001b[21A\u001b[2K\u001b[22A\u001b[2K\u001b[73A\u001b[2K\u001b[23A\u001b[2K\u001b[73A\u001b[2K\u001b[22A\u001b[2K\u001b[73A\u001b[2K\u001b[23A\u001b[2K\u001b[73A\u001b[2K\u001b[23A\u001b[2K\u001b[73A\u001b[2K\u001b[22A\u001b[2K\u001b[23A\u001b[2K\u001b[73A\u001b[2K\u001b[23A\u001b[2K\u001b[73A\u001b[2K\u001b[23A\u001b[2K\u001b[22A\u001b[2K\u001b[21A\u001b[2K\u001b[22A\u001b[2K\u001b[21A\u001b[2K\u001b[23A\u001b[2K\u001b[22A\u001b[2K\u001b[23A\u001b[2K\u001b[22A\u001b[2K\u001b[73A\u001b[2K\u001b[22A\u001b[2K\u001b[21A\u001b[2K\u001b[22A\u001b[2K\u001b[21A\u001b[2K\u001b[22A\u001b[2K\u001b[21A\u001b[2K\u001b[23A\u001b[2K\u001b[73A\u001b[2K\u001b[23A\u001b[2K\u001b[73A\u001b[2K\u001b[21A\u001b[2K\u001b[73A\u001b[2K\u001b[21A\u001b[2K\u001b[73A\u001b[2K\u001b[73A\u001b[2K\u001b[73A\u001b[2K\u001b[21A\u001b[2K\u001b[73A\u001b[2K\u001b[23A\u001b[2K\u001b[73A\u001b[2K\u001b[20A\u001b[2K\u001b[73A\u001b[2K\u001b[20A\u001b[2K\u001b[23A\u001b[2K\u001b[73A\u001b[2K\u001b[23A\u001b[2K\u001b[20A\u001b[2K\u001b[23A\u001b[2K\u001b[73A\u001b[2K\u001b[23A\u001b[2K\u001b[73A\u001b[2K\u001b[23A\u001b[2K\u001b[20A\u001b[2K\u001b[23A\u001b[2K\u001b[20A\u001b[2K\u001b[23A\u001b[2K\u001b[20A\u001b[2K\u001b[73A\u001b[2K\u001b[20A\u001b[2K\u001b[73A\u001b[2K\u001b[20A\u001b[2K\u001b[73A\u001b[2K\u001b[20A\u001b[2K\u001b[23A\u001b[2K\u001b[20A\u001b[2K\u001b[23A\u001b[2K\u001b[73A\u001b[2K\u001b[21A\u001b[2K\u001b[20A\u001b[2K\u001b[21A\u001b[2K\u001b[20A\u001b[2K\u001b[20A\u001b[2K\u001b[21A\u001b[2K\u001b[20A\u001b[2K\u001b[20A\u001b[2K\u001b[73A\u001b[2K\u001b[20A\u001b[2K\u001b[23A\u001b[2K\u001b[20A\u001b[2K\u001b[21A\u001b[2K\u001b[20A\u001b[2K\u001b[73A\u001b[2K\u001b[21A\u001b[2K\u001b[21A\u001b[2K\u001b[23A\u001b[2K\u001b[23A\u001b[2K\u001b[73A\u001b[2K\u001b[21A\u001b[2K\u001b[20A\u001b[2K\u001b[21A\u001b[2K\u001b[73A\u001b[2K\u001b[23A\u001b[2K\u001b[73A\u001b[2K\u001b[20A\u001b[2K\u001b[20A\u001b[2K\u001b[21A\u001b[2K\u001b[20A\u001b[2K\u001b[73A\u001b[2K\u001b[21A\u001b[2K\u001b[19A\u001b[2K\u001b[20A\u001b[2K\u001b[21A\u001b[2K\u001b[20A\u001b[2K\u001b[19A\u001b[2K\u001b[21A\u001b[2K\u001b[21A\u001b[2K\u001b[20A\u001b[2K\u001b[21A\u001b[2K\u001b[20A\u001b[2K\u001b[20A\u001b[2K\u001b[73A\u001b[2K\u001b[21A\u001b[2K\u001b[73A\u001b[2K\u001b[21A\u001b[2K\u001b[20A\u001b[2K\u001b[21A\u001b[2K\u001b[18A\u001b[2K\u001b[21A\u001b[2K\u001b[18A\u001b[2K\u001b[20A\u001b[2K\u001b[18A\u001b[2K\u001b[20A\u001b[2K\u001b[73A\u001b[2K\u001b[20A\u001b[2K\u001b[20A\u001b[2K\u001b[21A\u001b[2K\u001b[20A\u001b[2K\u001b[21A\u001b[2K\u001b[17A\u001b[2K\u001b[17A\u001b[2K\u001b[21A\u001b[2K\u001b[21A\u001b[2K\u001b[21A\u001b[2K\u001b[21A\u001b[2K\u001b[16A\u001b[2K\u001b[21A\u001b[2K\u001b[21A\u001b[2K\u001b[21A\u001b[2K\u001b[73A\u001b[2K\u001b[21A\u001b[2K\u001b[20A\u001b[2K\u001b[73A\u001b[2K\u001b[21A\u001b[2K\u001b[73A\u001b[2K\u001b[21A\u001b[2K\u001b[21A\u001b[2K\u001b[73A\u001b[2K\u001b[21A\u001b[2K\u001b[73A\u001b[2K\u001b[21A\u001b[2K\u001b[21A\u001b[2K\u001b[21A\u001b[2K\u001b[21A\u001b[2K\u001b[20A\u001b[2K\u001b[14A\u001b[2K\u001b[20A\u001b[2K\u001b[73A\u001b[2K\u001b[20A\u001b[2K\u001b[14A\u001b[2K\u001b[73A\u001b[2K\u001b[20A\u001b[2K\u001b[14A\u001b[2K\u001b[20A\u001b[2K\u001b[73A\u001b[2K\u001b[20A\u001b[2K\u001b[13A\u001b[2K\u001b[20A\u001b[2K\u001b[14A\u001b[2K\u001b[73A\u001b[2K\u001b[14A\u001b[2K\u001b[73A\u001b[2K\u001b[14A\u001b[2K\u001b[14A\u001b[2K\u001b[12A\u001b[2K\u001b[14A\u001b[2K\u001b[14A\u001b[2K\u001b[14A\u001b[2K\u001b[20A\u001b[2K\u001b[20A\u001b[2K\u001b[20A\u001b[2K\u001b[73A\u001b[2K\u001b[20A\u001b[2K\u001b[11A\u001b[2K\u001b[73A\u001b[2K\u001b[11A\u001b[2K\u001b[20A\u001b[2K\u001b[11A\u001b[2K\u001b[20A\u001b[2K\u001b[73A\u001b[2K\u001b[20A\u001b[2K\u001b[20A\u001b[2K\u001b[20A\u001b[2K\u001b[9A\u001b[2K\u001b[73A\u001b[2K\u001b[73A\u001b[2K\u001b[73A\u001b[2K\u001b[8A\u001b[2K\u001b[73A\u001b[2K\u001b[8A\u001b[2K\u001b[6A\u001b[2K\u001b[8A\u001b[2K\u001b[73A\u001b[2K\u001b[7A\u001b[2K\u001b[73A\u001b[2K\u001b[8A\u001b[2K\u001b[7A\u001b[2K\u001b[8A\u001b[2K\u001b[7A\u001b[2K\u001b[8A\u001b[2K\u001b[7A\u001b[2K\u001b[5A\u001b[2K\u001b[5A\u001b[2K\u001b[8A\u001b[2K\u001b[73A\u001b[2K\u001b[8A\u001b[2K\u001b[73A\u001b[2K\u001b[8A\u001b[2K\u001b[8A\u001b[2K\u001b[73A\u001b[2K\u001b[3A\u001b[2K\u001b[73A\u001b[2K\u001b[8A\u001b[2K\u001b[73A\u001b[2K\u001b[8A\u001b[2K\u001b[8A\u001b[2K\u001b[8A\u001b[2K\u001b[73A\u001b[2K\u001b[8A\u001b[2K\u001b[73A\u001b[2K\u001b[1A\u001b[2K\u001b[2A\u001b[2K\u001b[1A\u001b[2K\u001b[2A\u001b[2K\u001b[2A\u001b[2K\u001b[73A\u001b[2K\u001b[8A\u001b[2K\u001b[8A\u001b[2K\u001b[8A\u001b[2K\u001b[8A\u001b[2K\u001b[73A\u001b[2K\u001b[8A\u001b[2K\u001b[8A\u001b[2K\u001b[8A\u001b[2K\u001b[8A\u001b[2K\u001b[73A\u001b[2K\u001b[8A\u001b[2K\u001b[73A\u001b[2K\u001b[8A\u001b[2K\u001b[8A\u001b[2K\u001b[73A\u001b[2K\u001b[8A\u001b[2K\u001b[8A\u001b[2K\u001b[73A\u001b[2K\u001b[73A\u001b[2K\u001b[8A\u001b[2K\u001b[8A\u001b[2K\u001b[73A\u001b[2K\u001b[8A\u001b[2K\u001b[8A\u001b[2K\u001b[8A\u001b[2K\u001b[73A\u001b[2KDownloading  340.9MB/1.68GB\u001b[73A\u001b[2K\u001b[8A\u001b[2K\u001b[73A\u001b[2K\u001b[8A\u001b[2K\u001b[8A\u001b[2K\u001b[8A\u001b[2K\u001b[73A\u001b[2K\u001b[8A\u001b[2K\u001b[73A\u001b[2K\u001b[8A\u001b[2K\u001b[8A\u001b[2K\u001b[8A\u001b[2K\u001b[73A\u001b[2K\u001b[73A\u001b[2K\u001b[8A\u001b[2K\u001b[8A\u001b[2K\u001b[8A\u001b[2K\u001b[8A\u001b[2K\u001b[8A\u001b[2K\u001b[73A\u001b[2K\u001b[8A\u001b[2K\u001b[73A\u001b[2K\u001b[8A\u001b[2K\u001b[8A\u001b[2K\u001b[73A\u001b[2K\u001b[8A\u001b[2K\u001b[73A\u001b[2K\u001b[8A\u001b[2K\u001b[8A\u001b[2K\u001b[73A\u001b[2K\u001b[8A\u001b[2K\u001b[8A\u001b[2K\u001b[73A\u001b[2K\u001b[8A\u001b[2K\u001b[73A\u001b[2K\u001b[8A\u001b[2K\u001b[73A\u001b[2K\u001b[8A\u001b[2K\u001b[73A\u001b[2K\u001b[8A\u001b[2K\u001b[8A\u001b[2K\u001b[8A\u001b[2K\u001b[73A\u001b[2K\u001b[8A\u001b[2K\u001b[73A\u001b[2K\u001b[8A\u001b[2K\u001b[8A\u001b[2K\u001b[73A\u001b[2K\u001b[8A\u001b[2K\u001b[73A\u001b[2K\u001b[8A\u001b[2K\u001b[73A\u001b[2K\u001b[8A\u001b[2K\u001b[73A\u001b[2K\u001b[8A\u001b[2K\u001b[73A\u001b[2K\u001b[8A\u001b[2K\u001b[8A\u001b[2K\u001b[73A\u001b[2K\u001b[8A\u001b[2K\u001b[73A\u001b[2K\u001b[8A\u001b[2K\u001b[73A\u001b[2K\u001b[8A\u001b[2K\u001b[8A\u001b[2K\u001b[8A\u001b[2K\u001b[73A\u001b[2K\u001b[73A\u001b[2K\u001b[73A\u001b[2K\u001b[73A\u001b[2K\u001b[8A\u001b[2K\u001b[73A\u001b[2K\u001b[8A\u001b[2K\u001b[73A\u001b[2K\u001b[8A\u001b[2K\u001b[73A\u001b[2K\u001b[8A\u001b[2K\u001b[8A\u001b[2K\u001b[73A\u001b[2K\u001b[8A\u001b[2K\u001b[73A\u001b[2K\u001b[8A\u001b[2K\u001b[73A\u001b[2K\u001b[8A\u001b[2K\u001b[73A\u001b[2K\u001b[8A\u001b[2K\u001b[8A\u001b[2K\u001b[8A\u001b[2K\u001b[73A\u001b[2K\u001b[8A\u001b[2K\u001b[8A\u001b[2K\u001b[73A\u001b[2K\u001b[8A\u001b[2K\u001b[73A\u001b[2K\u001b[8A\u001b[2K\u001b[73A\u001b[2K\u001b[8A\u001b[2K\u001b[73A\u001b[2K\u001b[8A\u001b[2K\u001b[8A\u001b[2K\u001b[8A\u001b[2K\u001b[73A\u001b[2K\u001b[8A\u001b[2K\u001b[8A\u001b[2K\u001b[73A\u001b[2K\u001b[8A\u001b[2K\u001b[8A\u001b[2K\u001b[8A\u001b[2K\u001b[73A\u001b[2K\u001b[8A\u001b[2K\u001b[73A\u001b[2K\u001b[8A\u001b[2K\u001b[73A\u001b[2K\u001b[73A\u001b[2K\u001b[8A\u001b[2K\u001b[73A\u001b[2K\u001b[8A\u001b[2K\u001b[73A\u001b[2K\u001b[8A\u001b[2K\u001b[8A\u001b[2K\u001b[73A\u001b[2K\u001b[8A\u001b[2K\u001b[73A\u001b[2K\u001b[8A\u001b[2K\u001b[73A\u001b[2K\u001b[8A\u001b[2K\u001b[8A\u001b[2K\u001b[8A\u001b[2K\u001b[73A\u001b[2K\u001b[8A\u001b[2K\u001b[8A\u001b[2K\u001b[73A\u001b[2K\u001b[8A\u001b[2K\u001b[73A\u001b[2K\u001b[8A\u001b[2K\u001b[73A\u001b[2K\u001b[73A\u001b[2K\u001b[8A\u001b[2K\u001b[8A\u001b[2K\u001b[8A\u001b[2K\u001b[8A\u001b[2K\u001b[73A\u001b[2K\u001b[73A\u001b[2K\u001b[73A\u001b[2K\u001b[73A\u001b[2K\u001b[8A\u001b[2K\u001b[8A\u001b[2K\u001b[8A\u001b[2K\u001b[8A\u001b[2K\u001b[8A\u001b[2K\u001b[8A\u001b[2K\u001b[8A\u001b[2K\u001b[8A\u001b[2K\u001b[73A\u001b[2K\u001b[8A\u001b[2K\u001b[73A\u001b[2K\u001b[8A\u001b[2K\u001b[73A\u001b[2K\u001b[8A\u001b[2K\u001b[8A\u001b[2K\u001b[8A\u001b[2K\u001b[8A\u001b[2K\u001b[8A\u001b[2K\u001b[73A\u001b[2K\u001b[8A\u001b[2K\u001b[73A\u001b[2K\u001b[8A\u001b[2K\u001b[73A\u001b[2K\u001b[8A\u001b[2K\u001b[73A\u001b[2K\u001b[8A\u001b[2K\u001b[8A\u001b[2K\u001b[8A\u001b[2K\u001b[73A\u001b[2K\u001b[8A\u001b[2K\u001b[73A\u001b[2K\u001b[8A\u001b[2K\u001b[8A\u001b[2K\u001b[73A\u001b[2K\u001b[8A\u001b[2K\u001b[73A\u001b[2K\u001b[8A\u001b[2K\u001b[73A\u001b[2K\u001b[8A\u001b[2K\u001b[73A\u001b[2K\u001b[73A\u001b[2K\u001b[8A\u001b[2K\u001b[8A\u001b[2K\u001b[73A\u001b[2K\u001b[8A\u001b[2K\u001b[8A\u001b[2K\u001b[73A\u001b[2K\u001b[8A\u001b[2K\u001b[73A\u001b[2K\u001b[8A\u001b[2K\u001b[73A\u001b[2K\u001b[8A\u001b[2K\u001b[8A\u001b[2K\u001b[8A\u001b[2K\u001b[73A\u001b[2K\u001b[8A\u001b[2K\u001b[73A\u001b[2K\u001b[8A\u001b[2K\u001b[73A\u001b[2K\u001b[8A\u001b[2K\u001b[73A\u001b[2K\u001b[8A\u001b[2K\u001b[73A\u001b[2K\u001b[8A\u001b[2K\u001b[8A\u001b[2K\u001b[73A\u001b[2K\u001b[8A\u001b[2K\u001b[8A\u001b[2K\u001b[8A\u001b[2K\u001b[8A\u001b[2K\u001b[8A\u001b[2K\u001b[8A\u001b[2K\u001b[73A\u001b[2K\u001b[8A\u001b[2K\u001b[73A\u001b[2K\u001b[8A\u001b[2K\u001b[73A\u001b[2K\u001b[8A\u001b[2K\u001b[73A\u001b[2K\u001b[73A\u001b[2K\u001b[8A\u001b[2K\u001b[73A\u001b[2K\u001b[8A\u001b[2K\u001b[8A\u001b[2K\u001b[73A\u001b[2K\u001b[73A\u001b[2K\u001b[73A\u001b[2K\u001b[73A\u001b[2K\u001b[73A\u001b[2K\u001b[73A\u001b[2K\u001b[73A\u001b[2K\u001b[73A\u001b[2K\u001b[73A\u001b[2K\u001b[73A\u001b[2K\u001b[73A\u001b[2K\u001b[73A\u001b[2K\u001b[73A\u001b[2K\u001b[73A\u001b[2K\u001b[73A\u001b[2K\u001b[73A\u001b[2K\u001b[73A\u001b[2K\u001b[73A\u001b[2K\u001b[73A\u001b[2K\u001b[73A\u001b[2K\u001b[73A\u001b[2K\u001b[73A\u001b[2K\u001b[73A\u001b[2K\u001b[73A\u001b[2K\u001b[73A\u001b[2K\u001b[73A\u001b[2K\u001b[73A\u001b[2K\u001b[73A\u001b[2K\u001b[73A\u001b[2K\u001b[73A\u001b[2K\u001b[73A\u001b[2K\u001b[73A\u001b[2K\u001b[73A\u001b[2K\u001b[73A\u001b[2K\u001b[73A\u001b[2K\u001b[73A\u001b[2K\u001b[73A\u001b[2K\u001b[73A\u001b[2K\u001b[73A\u001b[2K\u001b[73A\u001b[2K\u001b[73A\u001b[2K\u001b[73A\u001b[2K\u001b[73A\u001b[2K\u001b[73A\u001b[2K\u001b[73A\u001b[2K\u001b[73A\u001b[2K\u001b[73A\u001b[2K\u001b[73A\u001b[2K\u001b[73A\u001b[2K\u001b[73A\u001b[2K\u001b[73A\u001b[2K\u001b[73A\u001b[2K\u001b[73A\u001b[2K\u001b[73A\u001b[2K\u001b[73A\u001b[2K\u001b[73A\u001b[2K\u001b[73A\u001b[2K\u001b[73A\u001b[2K\u001b[73A\u001b[2K\u001b[73A\u001b[2K\u001b[73A\u001b[2K\u001b[73A\u001b[2K\u001b[73A\u001b[2K\u001b[73A\u001b[2K\u001b[73A\u001b[2K\u001b[73A\u001b[2K\u001b[73A\u001b[2K\u001b[73A\u001b[2K\u001b[73A\u001b[2K\u001b[73A\u001b[2K\u001b[73A\u001b[2K\u001b[73A\u001b[2K\u001b[73A\u001b[2K\u001b[73A\u001b[2K\u001b[73A\u001b[2K\u001b[73A\u001b[2K\u001b[73A\u001b[2K\u001b[73A\u001b[2K\u001b[73A\u001b[2K\u001b[73A\u001b[2K\u001b[73A\u001b[2K\u001b[73A\u001b[2K\u001b[73A\u001b[2K\u001b[73A\u001b[2K\u001b[73A\u001b[2K\u001b[73A\u001b[2K\u001b[73A\u001b[2K\u001b[73A\u001b[2K\u001b[73A\u001b[2K\u001b[73A\u001b[2K\u001b[73A\u001b[2K\u001b[73A\u001b[2K\u001b[73A\u001b[2K\u001b[73A\u001b[2K\u001b[73A\u001b[2K\u001b[73A\u001b[2K\u001b[73A\u001b[2K\u001b[73A\u001b[2K\u001b[73A\u001b[2K\u001b[73A\u001b[2K\u001b[73A\u001b[2K\u001b[73A\u001b[2K\u001b[73A\u001b[2K\u001b[73A\u001b[2K\u001b[73A\u001b[2K\u001b[73A\u001b[2K\u001b[73A\u001b[2K\u001b[73A\u001b[2K\u001b[73A\u001b[2K\u001b[73A\u001b[2K\u001b[73A\u001b[2K\u001b[73A\u001b[2K\u001b[73A\u001b[2K\u001b[73A\u001b[2K\u001b[73A\u001b[2K\u001b[73A\u001b[2K\u001b[73A\u001b[2K\u001b[73A\u001b[2K\u001b[73A\u001b[2K\u001b[73A\u001b[2K\u001b[73A\u001b[2K\u001b[73A\u001b[2K\u001b[73A\u001b[2K\u001b[73A\u001b[2K\u001b[73A\u001b[2K\u001b[73A\u001b[2K\u001b[73A\u001b[2K\u001b[73A\u001b[2K\u001b[73A\u001b[2K\u001b[73A\u001b[2K\u001b[73A\u001b[2K\u001b[73A\u001b[2K\u001b[73A\u001b[2K\u001b[73A\u001b[2K\u001b[73A\u001b[2K\u001b[73A\u001b[2K\u001b[73A\u001b[2K\u001b[73A\u001b[2K\u001b[73A\u001b[2K\u001b[73A\u001b[2K\u001b[73A\u001b[2K\u001b[73A\u001b[2K\u001b[73A\u001b[2K\u001b[73A\u001b[2K\u001b[73A\u001b[2K\u001b[73A\u001b[2K\u001b[73A\u001b[2K\u001b[73A\u001b[2K\u001b[73A\u001b[2K\u001b[73A\u001b[2K\u001b[73A\u001b[2K\u001b[73A\u001b[2K\u001b[73A\u001b[2K\u001b[73A\u001b[2K\u001b[73A\u001b[2K\u001b[73A\u001b[2K\u001b[73A\u001b[2K\u001b[73A\u001b[2K\u001b[73A\u001b[2K\u001b[73A\u001b[2K\u001b[73A\u001b[2K\u001b[73A\u001b[2K\u001b[73A\u001b[2K\u001b[73A\u001b[2K\u001b[73A\u001b[2K\u001b[73A\u001b[2K\u001b[73A\u001b[2K\u001b[73A\u001b[2K\u001b[73A\u001b[2K\u001b[73A\u001b[2K\u001b[73A\u001b[2K\u001b[73A\u001b[2K\u001b[73A\u001b[2K\u001b[73A\u001b[2K\u001b[73A\u001b[2K\u001b[73A\u001b[2K\u001b[73A\u001b[2K\u001b[73A\u001b[2K\u001b[73A\u001b[2K\u001b[73A\u001b[2K\u001b[73A\u001b[2K\u001b[73A\u001b[2K\u001b[73A\u001b[2K\u001b[73A\u001b[2K\u001b[73A\u001b[2K\u001b[73A\u001b[2K\u001b[73A\u001b[2K\u001b[73A\u001b[2K\u001b[73A\u001b[2K\u001b[73A\u001b[2K\u001b[73A\u001b[2K\u001b[73A\u001b[2K\u001b[73A\u001b[2K\u001b[73A\u001b[2K\u001b[73A\u001b[2K\u001b[73A\u001b[2K\u001b[73A\u001b[2K\u001b[73A\u001b[2K\u001b[73A\u001b[2K\u001b[73A\u001b[2K\u001b[73A\u001b[2K\u001b[73A\u001b[2K\u001b[73A\u001b[2K\u001b[73A\u001b[2K\u001b[73A\u001b[2K\u001b[73A\u001b[2K\u001b[73A\u001b[2K\u001b[73A\u001b[2K\u001b[73A\u001b[2K\u001b[73A\u001b[2K\u001b[73A\u001b[2K\u001b[73A\u001b[2K\u001b[73A\u001b[2K\u001b[73A\u001b[2K\u001b[73A\u001b[2K\u001b[73A\u001b[2K\u001b[73A\u001b[2K\u001b[73A\u001b[2K\u001b[73A\u001b[2K\u001b[73A\u001b[2K\u001b[73A\u001b[2K\u001b[73A\u001b[2K\u001b[73A\u001b[2K\u001b[73A\u001b[2K\u001b[73A\u001b[2K\u001b[73A\u001b[2K\u001b[73A\u001b[2K\u001b[73A\u001b[2K\u001b[73A\u001b[2K\u001b[73A\u001b[2K\u001b[73A\u001b[2K\u001b[73A\u001b[2K\u001b[73A\u001b[2K\u001b[73A\u001b[2K\u001b[73A\u001b[2K\u001b[73A\u001b[2K\u001b[73A\u001b[2K\u001b[73A\u001b[2K\u001b[73A\u001b[2K\u001b[73A\u001b[2K\u001b[73A\u001b[2K\u001b[73A\u001b[2K\u001b[73A\u001b[2K\u001b[73A\u001b[2K\u001b[73A\u001b[2K\u001b[73A\u001b[2K\u001b[73A\u001b[2K\u001b[73A\u001b[2K\u001b[73A\u001b[2K\u001b[73A\u001b[2K\u001b[73A\u001b[2K\u001b[73A\u001b[2K\u001b[73A\u001b[2K\u001b[73A\u001b[2K\u001b[73A\u001b[2K\u001b[73A\u001b[2K\u001b[73A\u001b[2K\u001b[73A\u001b[2K\u001b[73A\u001b[2K\u001b[73A\u001b[2K\u001b[73A\u001b[2K\u001b[73A\u001b[2K\u001b[73A\u001b[2K\u001b[73A\u001b[2K\u001b[73A\u001b[2K\u001b[73A\u001b[2K\u001b[73A\u001b[2K\u001b[73A\u001b[2K\u001b[73A\u001b[2K\u001b[73A\u001b[2K\u001b[73A\u001b[2K\u001b[73A\u001b[2K\u001b[73A\u001b[2K\u001b[73A\u001b[2K\u001b[73A\u001b[2K\u001b[73A\u001b[2K\u001b[73A\u001b[2K\u001b[73A\u001b[2K\u001b[73A\u001b[2K\u001b[73A\u001b[2K\u001b[73A\u001b[2K\u001b[73A\u001b[2K\u001b[73A\u001b[2K\u001b[73A\u001b[2K\u001b[73A\u001b[2K\u001b[73A\u001b[2K\u001b[73A\u001b[2K\u001b[73A\u001b[2K\u001b[73A\u001b[2K\u001b[73A\u001b[2K\u001b[73A\u001b[2K\u001b[73A\u001b[2K\u001b[73A\u001b[2K\u001b[73A\u001b[2K\u001b[73A\u001b[2K\u001b[73A\u001b[2K\u001b[73A\u001b[2K\u001b[73A\u001b[2K\u001b[73A\u001b[2K\u001b[73A\u001b[2K\u001b[73A\u001b[2K\u001b[73A\u001b[2K\u001b[73A\u001b[2K\u001b[73A\u001b[2K\u001b[73A\u001b[2K\u001b[73A\u001b[2K\u001b[73A\u001b[2K\u001b[73A\u001b[2K\u001b[73A\u001b[2K\u001b[73A\u001b[2K\u001b[73A\u001b[2K\u001b[73A\u001b[2K\u001b[73A\u001b[2K\u001b[73A\u001b[2K\u001b[73A\u001b[2K\u001b[73A\u001b[2K\u001b[73A\u001b[2K\u001b[73A\u001b[2K\u001b[73A\u001b[2K\u001b[73A\u001b[2K\u001b[73A\u001b[2K\u001b[73A\u001b[2K\u001b[73A\u001b[2K\u001b[73A\u001b[2K\u001b[73A\u001b[2K\u001b[73A\u001b[2K\u001b[73A\u001b[2K\u001b[73A\u001b[2K\u001b[73A\u001b[2K\u001b[73A\u001b[2K\u001b[73A\u001b[2K\u001b[73A\u001b[2K\u001b[73A\u001b[2K\u001b[73A\u001b[2K\u001b[73A\u001b[2K\u001b[73A\u001b[2K\u001b[73A\u001b[2K\u001b[73A\u001b[2K\u001b[73A\u001b[2K\u001b[73A\u001b[2K\u001b[73A\u001b[2K\u001b[73A\u001b[2K\u001b[73A\u001b[2K\u001b[73A\u001b[2K\u001b[73A\u001b[2K\u001b[73A\u001b[2K\u001b[73A\u001b[2K\u001b[73A\u001b[2K\u001b[73A\u001b[2K\u001b[73A\u001b[2K\u001b[73A\u001b[2K\u001b[73A\u001b[2K\u001b[73A\u001b[2K\u001b[73A\u001b[2K\u001b[73A\u001b[2K\u001b[73A\u001b[2K\u001b[73A\u001b[2K\u001b[73A\u001b[2K\u001b[73A\u001b[2K\u001b[73A\u001b[2K\u001b[73A\u001b[2K\u001b[73A\u001b[2K\u001b[73A\u001b[2K\u001b[73A\u001b[2K\u001b[73A\u001b[2K\u001b[73A\u001b[2K\u001b[73A\u001b[2K\u001b[73A\u001b[2K\u001b[73A\u001b[2K\u001b[73A\u001b[2K\u001b[73A\u001b[2K\u001b[73A\u001b[2K\u001b[73A\u001b[2K\u001b[73A\u001b[2K\u001b[73A\u001b[2K\u001b[73A\u001b[2K\u001b[73A\u001b[2K\u001b[73A\u001b[2K\u001b[73A\u001b[2K\u001b[73A\u001b[2K\u001b[73A\u001b[2K\u001b[73A\u001b[2K\u001b[73A\u001b[2K\u001b[73A\u001b[2K\u001b[73A\u001b[2K\u001b[73A\u001b[2K\u001b[73A\u001b[2K\u001b[73A\u001b[2K\u001b[72A\u001b[2K\u001b[72A\u001b[2K\u001b[71A\u001b[2K\u001b[70A\u001b[2K\u001b[69A\u001b[2K\u001b[68A\u001b[2K\u001b[68A\u001b[2K\u001b[68A\u001b[2K\u001b[68A\u001b[2K\u001b[68A\u001b[2K\u001b[68A\u001b[2K\u001b[68A\u001b[2K\u001b[68A\u001b[2K\u001b[68A\u001b[2K\u001b[68A\u001b[2K\u001b[68A\u001b[2K\u001b[68A\u001b[2K\u001b[68A\u001b[2K\u001b[67A\u001b[2K\u001b[67A\u001b[2K\u001b[67A\u001b[2K\u001b[67A\u001b[2K\u001b[67A\u001b[2K\u001b[67A\u001b[2K\u001b[67A\u001b[2K\u001b[67A\u001b[2K\u001b[67A\u001b[2K\u001b[67A\u001b[2K\u001b[67A\u001b[2K\u001b[67A\u001b[2K\u001b[67A\u001b[2K\u001b[67A\u001b[2K\u001b[67A\u001b[2K\u001b[67A\u001b[2K\u001b[67A\u001b[2K\u001b[67A\u001b[2K\u001b[67A\u001b[2K\u001b[66A\u001b[2K\u001b[65A\u001b[2K\u001b[65A\u001b[2K\u001b[65A\u001b[2K\u001b[65A\u001b[2K\u001b[65A\u001b[2K\u001b[65A\u001b[2K\u001b[65A\u001b[2K\u001b[65A\u001b[2K\u001b[65A\u001b[2K\u001b[65A\u001b[2K\u001b[65A\u001b[2K\u001b[65A\u001b[2K\u001b[65A\u001b[2K\u001b[65A\u001b[2K\u001b[65A\u001b[2K\u001b[65A\u001b[2K\u001b[65A\u001b[2K\u001b[65A\u001b[2K\u001b[65A\u001b[2K\u001b[65A\u001b[2K\u001b[65A\u001b[2K\u001b[65A\u001b[2K\u001b[65A\u001b[2K\u001b[65A\u001b[2K\u001b[65A\u001b[2K\u001b[65A\u001b[2K\u001b[65A\u001b[2K\u001b[65A\u001b[2K\u001b[65A\u001b[2K\u001b[65A\u001b[2K\u001b[65A\u001b[2K\u001b[65A\u001b[2K\u001b[65A\u001b[2K\u001b[65A\u001b[2K\u001b[65A\u001b[2K\u001b[65A\u001b[2K\u001b[65A\u001b[2K\u001b[65A\u001b[2K\u001b[65A\u001b[2K\u001b[65A\u001b[2K\u001b[65A\u001b[2K\u001b[65A\u001b[2K\u001b[65A\u001b[2K\u001b[65A\u001b[2K\u001b[65A\u001b[2K\u001b[65A\u001b[2K\u001b[65A\u001b[2K\u001b[65A\u001b[2K\u001b[65A\u001b[2K\u001b[65A\u001b[2K\u001b[65A\u001b[2K\u001b[65A\u001b[2K\u001b[65A\u001b[2K\u001b[65A\u001b[2K\u001b[65A\u001b[2K\u001b[65A\u001b[2K\u001b[65A\u001b[2K\u001b[65A\u001b[2K\u001b[64A\u001b[2K\u001b[64A\u001b[2K\u001b[63A\u001b[2K\u001b[63A\u001b[2K\u001b[62A\u001b[2K\u001b[62A\u001b[2K\u001b[61A\u001b[2K\u001b[61A\u001b[2K\u001b[61A\u001b[2K\u001b[61A\u001b[2K\u001b[61A\u001b[2K\u001b[61A\u001b[2K\u001b[61A\u001b[2K\u001b[61A\u001b[2K\u001b[61A\u001b[2K\u001b[61A\u001b[2K\u001b[61A\u001b[2K\u001b[61A\u001b[2K\u001b[61A\u001b[2K\u001b[61A\u001b[2K\u001b[61A\u001b[2K\u001b[61A\u001b[2K\u001b[61A\u001b[2K\u001b[61A\u001b[2K\u001b[61A\u001b[2K\u001b[61A\u001b[2K\u001b[60A\u001b[2K\u001b[60A\u001b[2K\u001b[60A\u001b[2K\u001b[60A\u001b[2K\u001b[60A\u001b[2K\u001b[60A\u001b[2K\u001b[60A\u001b[2K\u001b[60A\u001b[2K\u001b[60A\u001b[2K\u001b[60A\u001b[2K\u001b[60A\u001b[2K\u001b[60A\u001b[2K\u001b[60A\u001b[2K\u001b[60A\u001b[2K\u001b[60A\u001b[2K\u001b[60A\u001b[2K\u001b[60A\u001b[2K\u001b[60A\u001b[2K\u001b[60A\u001b[2K\u001b[60A\u001b[2K\u001b[60A\u001b[2K\u001b[60A\u001b[2K\u001b[60A\u001b[2K\u001b[60A\u001b[2K\u001b[60A\u001b[2K\u001b[60A\u001b[2K\u001b[60A\u001b[2K\u001b[60A\u001b[2K\u001b[60A\u001b[2K\u001b[60A\u001b[2K\u001b[60A\u001b[2K\u001b[60A\u001b[2K\u001b[60A\u001b[2K\u001b[60A\u001b[2K\u001b[60A\u001b[2K\u001b[60A\u001b[2K\u001b[60A\u001b[2K\u001b[60A\u001b[2K\u001b[60A\u001b[2K\u001b[60A\u001b[2K\u001b[60A\u001b[2K\u001b[60A\u001b[2K\u001b[60A\u001b[2K\u001b[60A\u001b[2K\u001b[60A\u001b[2K\u001b[60A\u001b[2K\u001b[60A\u001b[2K\u001b[60A\u001b[2K\u001b[60A\u001b[2K\u001b[60A\u001b[2K\u001b[60A\u001b[2K\u001b[60A\u001b[2K\u001b[60A\u001b[2K\u001b[60A\u001b[2K\u001b[60A\u001b[2K\u001b[60A\u001b[2K\u001b[60A\u001b[2K\u001b[60A\u001b[2K\u001b[60A\u001b[2K\u001b[60A\u001b[2K\u001b[60A\u001b[2K\u001b[60A\u001b[2K\u001b[60A\u001b[2K\u001b[60A\u001b[2K\u001b[60A\u001b[2K\u001b[60A\u001b[2K\u001b[60A\u001b[2K\u001b[60A\u001b[2K\u001b[60A\u001b[2K\u001b[60A\u001b[2K\u001b[60A\u001b[2K\u001b[60A\u001b[2K\u001b[60A\u001b[2K\u001b[60A\u001b[2K\u001b[60A\u001b[2K\u001b[60A\u001b[2K\u001b[60A\u001b[2K\u001b[60A\u001b[2K\u001b[60A\u001b[2K\u001b[60A\u001b[2K\u001b[60A\u001b[2K\u001b[60A\u001b[2K\u001b[60A\u001b[2K\u001b[60A\u001b[2K\u001b[60A\u001b[2K\u001b[60A\u001b[2K\u001b[60A\u001b[2K\u001b[60A\u001b[2K\u001b[60A\u001b[2K\u001b[60A\u001b[2K\u001b[60A\u001b[2K\u001b[60A\u001b[2K\u001b[60A\u001b[2K\u001b[60A\u001b[2K\u001b[60A\u001b[2K\u001b[60A\u001b[2K\u001b[60A\u001b[2K\u001b[60A\u001b[2K\u001b[60A\u001b[2K\u001b[60A\u001b[2K\u001b[60A\u001b[2K\u001b[60A\u001b[2K\u001b[60A\u001b[2K\u001b[60A\u001b[2K\u001b[60A\u001b[2K\u001b[60A\u001b[2K\u001b[60A\u001b[2K\u001b[60A\u001b[2K\u001b[60A\u001b[2K\u001b[60A\u001b[2K\u001b[60A\u001b[2K\u001b[60A\u001b[2K\u001b[60A\u001b[2K\u001b[60A\u001b[2K\u001b[60A\u001b[2K\u001b[60A\u001b[2K\u001b[60A\u001b[2K\u001b[60A\u001b[2K\u001b[60A\u001b[2K\u001b[60A\u001b[2K\u001b[60A\u001b[2K\u001b[60A\u001b[2K\u001b[60A\u001b[2K\u001b[60A\u001b[2K\u001b[60A\u001b[2K\u001b[60A\u001b[2K\u001b[60A\u001b[2K\u001b[60A\u001b[2K\u001b[60A\u001b[2K\u001b[60A\u001b[2K\u001b[60A\u001b[2K\u001b[60A\u001b[2K\u001b[60A\u001b[2K\u001b[60A\u001b[2K\u001b[60A\u001b[2K\u001b[60A\u001b[2K\u001b[60A\u001b[2K\u001b[60A\u001b[2K\u001b[60A\u001b[2K\u001b[60A\u001b[2K\u001b[60A\u001b[2K\u001b[60A\u001b[2K\u001b[60A\u001b[2K\u001b[60A\u001b[2K\u001b[60A\u001b[2K\u001b[60A\u001b[2K\u001b[60A\u001b[2K\u001b[60A\u001b[2K\u001b[60A\u001b[2K\u001b[60A\u001b[2K\u001b[60A\u001b[2K\u001b[60A\u001b[2K\u001b[60A\u001b[2K\u001b[60A\u001b[2K\u001b[60A\u001b[2K\u001b[60A\u001b[2K\u001b[60A\u001b[2K\u001b[60A\u001b[2K\u001b[60A\u001b[2K\u001b[60A\u001b[2K\u001b[60A\u001b[2K\u001b[60A\u001b[2K\u001b[60A\u001b[2K\u001b[60A\u001b[2K\u001b[60A\u001b[2K\u001b[60A\u001b[2K\u001b[60A\u001b[2K\u001b[60A\u001b[2K\u001b[60A\u001b[2K\u001b[60A\u001b[2K\u001b[60A\u001b[2K\u001b[60A\u001b[2K\u001b[60A\u001b[2K\u001b[60A\u001b[2K\u001b[60A\u001b[2K\u001b[60A\u001b[2K\u001b[60A\u001b[2K\u001b[60A\u001b[2K\u001b[60A\u001b[2K\u001b[60A\u001b[2K\u001b[60A\u001b[2K\u001b[60A\u001b[2K\u001b[60A\u001b[2K\u001b[60A\u001b[2K\u001b[60A\u001b[2K\u001b[60A\u001b[2K\u001b[60A\u001b[2K\u001b[60A\u001b[2K\u001b[60A\u001b[2K\u001b[60A\u001b[2K\u001b[60A\u001b[2K\u001b[60A\u001b[2K\u001b[60A\u001b[2K\u001b[60A\u001b[2K\u001b[60A\u001b[2K\u001b[60A\u001b[2K\u001b[60A\u001b[2K\u001b[60A\u001b[2K\u001b[60A\u001b[2K\u001b[60A\u001b[2K\u001b[60A\u001b[2K\u001b[60A\u001b[2K\u001b[60A\u001b[2K\u001b[60A\u001b[2K\u001b[60A\u001b[2K\u001b[60A\u001b[2K\u001b[60A\u001b[2K\u001b[60A\u001b[2K\u001b[60A\u001b[2K\u001b[60A\u001b[2K\u001b[60A\u001b[2K\u001b[60A\u001b[2K\u001b[60A\u001b[2K\u001b[60A\u001b[2K\u001b[60A\u001b[2K\u001b[59A\u001b[2K\u001b[58A\u001b[2K\u001b[58A\u001b[2K\u001b[58A\u001b[2K\u001b[58A\u001b[2K\u001b[58A\u001b[2K\u001b[58A\u001b[2K\u001b[58A\u001b[2K\u001b[58A\u001b[2K\u001b[58A\u001b[2K\u001b[58A\u001b[2K\u001b[58A\u001b[2K\u001b[58A\u001b[2K\u001b[58A\u001b[2K\u001b[58A\u001b[2K\u001b[58A\u001b[2K\u001b[58A\u001b[2K\u001b[58A\u001b[2K\u001b[58A\u001b[2K\u001b[58A\u001b[2K\u001b[58A\u001b[2K\u001b[58A\u001b[2K\u001b[58A\u001b[2K\u001b[58A\u001b[2K\u001b[57A\u001b[2K\u001b[57A\u001b[2K\u001b[56A\u001b[2K\u001b[56A\u001b[2K\u001b[56A\u001b[2K\u001b[56A\u001b[2K\u001b[56A\u001b[2K\u001b[56A\u001b[2K\u001b[56A\u001b[2K\u001b[56A\u001b[2K\u001b[56A\u001b[2K\u001b[56A\u001b[2K\u001b[56A\u001b[2K\u001b[56A\u001b[2K\u001b[56A\u001b[2K\u001b[56A\u001b[2K\u001b[56A\u001b[2K\u001b[56A\u001b[2K\u001b[56A\u001b[2K\u001b[56A\u001b[2K\u001b[56A\u001b[2K\u001b[56A\u001b[2K\u001b[56A\u001b[2K\u001b[56A\u001b[2K\u001b[56A\u001b[2K\u001b[56A\u001b[2K\u001b[56A\u001b[2K\u001b[56A\u001b[2K\u001b[56A\u001b[2K\u001b[56A\u001b[2K\u001b[56A\u001b[2K\u001b[56A\u001b[2K\u001b[56A\u001b[2K\u001b[56A\u001b[2K\u001b[56A\u001b[2K\u001b[56A\u001b[2K\u001b[56A\u001b[2K\u001b[56A\u001b[2K\u001b[56A\u001b[2K\u001b[56A\u001b[2K\u001b[56A\u001b[2K\u001b[56A\u001b[2K\u001b[56A\u001b[2K\u001b[56A\u001b[2K\u001b[56A\u001b[2K\u001b[56A\u001b[2K\u001b[56A\u001b[2K\u001b[56A\u001b[2K\u001b[56A\u001b[2K\u001b[56A\u001b[2K\u001b[56A\u001b[2K\u001b[56A\u001b[2K\u001b[56A\u001b[2K\u001b[56A\u001b[2K\u001b[56A\u001b[2K\u001b[56A\u001b[2K\u001b[56A\u001b[2K\u001b[56A\u001b[2K\u001b[56A\u001b[2K\u001b[56A\u001b[2K\u001b[56A\u001b[2K\u001b[56A\u001b[2K\u001b[56A\u001b[2K\u001b[56A\u001b[2K\u001b[56A\u001b[2K\u001b[56A\u001b[2K\u001b[56A\u001b[2K\u001b[56A\u001b[2K\u001b[56A\u001b[2K\u001b[56A\u001b[2K\u001b[56A\u001b[2K\u001b[56A\u001b[2K\u001b[56A\u001b[2K\u001b[56A\u001b[2K\u001b[56A\u001b[2K\u001b[56A\u001b[2K\u001b[56A\u001b[2K\u001b[56A\u001b[2K\u001b[56A\u001b[2K\u001b[56A\u001b[2K\u001b[56A\u001b[2K\u001b[56A\u001b[2K\u001b[56A\u001b[2K\u001b[56A\u001b[2K\u001b[56A\u001b[2K\u001b[56A\u001b[2K\u001b[56A\u001b[2K\u001b[56A\u001b[2K\u001b[56A\u001b[2K\u001b[56A\u001b[2K\u001b[56A\u001b[2K\u001b[56A\u001b[2K\u001b[56A\u001b[2K\u001b[56A\u001b[2K\u001b[56A\u001b[2K\u001b[56A\u001b[2K\u001b[56A\u001b[2K\u001b[56A\u001b[2K\u001b[56A\u001b[2K\u001b[56A\u001b[2K\u001b[56A\u001b[2K\u001b[56A\u001b[2K\u001b[56A\u001b[2K\u001b[56A\u001b[2K\u001b[56A\u001b[2K\u001b[56A\u001b[2K\u001b[56A\u001b[2K\u001b[56A\u001b[2K\u001b[56A\u001b[2K\u001b[56A\u001b[2K\u001b[56A\u001b[2K\u001b[56A\u001b[2K\u001b[56A\u001b[2K\u001b[56A\u001b[2K\u001b[56A\u001b[2K\u001b[56A\u001b[2K\u001b[56A\u001b[2K\u001b[56A\u001b[2K\u001b[56A\u001b[2K\u001b[56A\u001b[2K\u001b[56A\u001b[2K\u001b[56A\u001b[2K\u001b[56A\u001b[2K\u001b[56A\u001b[2K\u001b[56A\u001b[2K\u001b[56A\u001b[2K\u001b[56A\u001b[2K\u001b[56A\u001b[2K\u001b[56A\u001b[2K\u001b[56A\u001b[2K\u001b[56A\u001b[2K\u001b[56A\u001b[2K\u001b[56A\u001b[2K\u001b[56A\u001b[2K\u001b[56A\u001b[2K\u001b[56A\u001b[2K\u001b[56A\u001b[2K\u001b[56A\u001b[2K\u001b[56A\u001b[2K\u001b[56A\u001b[2K\u001b[56A\u001b[2K\u001b[56A\u001b[2K\u001b[56A\u001b[2K\u001b[56A\u001b[2K\u001b[56A\u001b[2K\u001b[56A\u001b[2K\u001b[56A\u001b[2K\u001b[56A\u001b[2K\u001b[56A\u001b[2K\u001b[56A\u001b[2K\u001b[56A\u001b[2K\u001b[56A\u001b[2K\u001b[56A\u001b[2K\u001b[56A\u001b[2K\u001b[56A\u001b[2K\u001b[56A\u001b[2K\u001b[56A\u001b[2K\u001b[56A\u001b[2K\u001b[56A\u001b[2K\u001b[56A\u001b[2K\u001b[56A\u001b[2K\u001b[56A\u001b[2K\u001b[56A\u001b[2K\u001b[56A\u001b[2K\u001b[56A\u001b[2K\u001b[56A\u001b[2K\u001b[56A\u001b[2K\u001b[56A\u001b[2K\u001b[56A\u001b[2K\u001b[56A\u001b[2K\u001b[56A\u001b[2K\u001b[56A\u001b[2K\u001b[56A\u001b[2K\u001b[56A\u001b[2K\u001b[56A\u001b[2K\u001b[56A\u001b[2K\u001b[56A\u001b[2K\u001b[56A\u001b[2K\u001b[56A\u001b[2K\u001b[56A\u001b[2K\u001b[56A\u001b[2K\u001b[56A\u001b[2K\u001b[56A\u001b[2K\u001b[56A\u001b[2K\u001b[56A\u001b[2K\u001b[56A\u001b[2K\u001b[56A\u001b[2K\u001b[56A\u001b[2K\u001b[56A\u001b[2K\u001b[56A\u001b[2K\u001b[56A\u001b[2K\u001b[56A\u001b[2K\u001b[56A\u001b[2K\u001b[56A\u001b[2K\u001b[56A\u001b[2K\u001b[56A\u001b[2K\u001b[56A\u001b[2K\u001b[56A\u001b[2K\u001b[56A\u001b[2K\u001b[56A\u001b[2K\u001b[56A\u001b[2K\u001b[56A\u001b[2K\u001b[56A\u001b[2K\u001b[56A\u001b[2K\u001b[56A\u001b[2K\u001b[56A\u001b[2K\u001b[56A\u001b[2K\u001b[56A\u001b[2K\u001b[56A\u001b[2K\u001b[56A\u001b[2K\u001b[56A\u001b[2K\u001b[56A\u001b[2K\u001b[56A\u001b[2K\u001b[56A\u001b[2K\u001b[56A\u001b[2K\u001b[56A\u001b[2K\u001b[56A\u001b[2K\u001b[56A\u001b[2K\u001b[56A\u001b[2K\u001b[56A\u001b[2K\u001b[56A\u001b[2K\u001b[56A\u001b[2K\u001b[56A\u001b[2K\u001b[56A\u001b[2K\u001b[56A\u001b[2K\u001b[56A\u001b[2K\u001b[56A\u001b[2K\u001b[56A\u001b[2K\u001b[56A\u001b[2K\u001b[56A\u001b[2K\u001b[56A\u001b[2K\u001b[56A\u001b[2K\u001b[56A\u001b[2K\u001b[56A\u001b[2K\u001b[56A\u001b[2K\u001b[56A\u001b[2K\u001b[56A\u001b[2K\u001b[56A\u001b[2K\u001b[56A\u001b[2K\u001b[56A\u001b[2K\u001b[56A\u001b[2K\u001b[56A\u001b[2K\u001b[56A\u001b[2K\u001b[56A\u001b[2K\u001b[56A\u001b[2K\u001b[56A\u001b[2K\u001b[56A\u001b[2K\u001b[56A\u001b[2K\u001b[56A\u001b[2K\u001b[56A\u001b[2K\u001b[56A\u001b[2K\u001b[56A\u001b[2K\u001b[56A\u001b[2K\u001b[56A\u001b[2K\u001b[56A\u001b[2K\u001b[56A\u001b[2K\u001b[56A\u001b[2K\u001b[56A\u001b[2K\u001b[56A\u001b[2K\u001b[56A\u001b[2K\u001b[56A\u001b[2K\u001b[56A\u001b[2K\u001b[56A\u001b[2K\u001b[56A\u001b[2K\u001b[56A\u001b[2K\u001b[56A\u001b[2K\u001b[56A\u001b[2K\u001b[56A\u001b[2K\u001b[56A\u001b[2K\u001b[56A\u001b[2K\u001b[56A\u001b[2K\u001b[56A\u001b[2K\u001b[56A\u001b[2K\u001b[56A\u001b[2K\u001b[56A\u001b[2K\u001b[56A\u001b[2K\u001b[56A\u001b[2K\u001b[56A\u001b[2K\u001b[56A\u001b[2K\u001b[56A\u001b[2K\u001b[56A\u001b[2K\u001b[56A\u001b[2K\u001b[56A\u001b[2K\u001b[56A\u001b[2K\u001b[56A\u001b[2K\u001b[56A\u001b[2K\u001b[56A\u001b[2K\u001b[56A\u001b[2K\u001b[56A\u001b[2K\u001b[56A\u001b[2K\u001b[56A\u001b[2K\u001b[56A\u001b[2K\u001b[56A\u001b[2K\u001b[56A\u001b[2K\u001b[56A\u001b[2K\u001b[56A\u001b[2K\u001b[56A\u001b[2K\u001b[56A\u001b[2K\u001b[56A\u001b[2K\u001b[56A\u001b[2K\u001b[56A\u001b[2K\u001b[56A\u001b[2K\u001b[56A\u001b[2K\u001b[56A\u001b[2K\u001b[56A\u001b[2K\u001b[56A\u001b[2K\u001b[56A\u001b[2K\u001b[56A\u001b[2K\u001b[56A\u001b[2K\u001b[56A\u001b[2K\u001b[56A\u001b[2K\u001b[56A\u001b[2K\u001b[56A\u001b[2K\u001b[56A\u001b[2K\u001b[56A\u001b[2K\u001b[56A\u001b[2K\u001b[56A\u001b[2K\u001b[56A\u001b[2K\u001b[56A\u001b[2K\u001b[56A\u001b[2K\u001b[56A\u001b[2K\u001b[56A\u001b[2K\u001b[56A\u001b[2K\u001b[56A\u001b[2K\u001b[56A\u001b[2K\u001b[56A\u001b[2K\u001b[56A\u001b[2K\u001b[56A\u001b[2K\u001b[56A\u001b[2K\u001b[56A\u001b[2K\u001b[56A\u001b[2K\u001b[56A\u001b[2K\u001b[56A\u001b[2K\u001b[56A\u001b[2K\u001b[56A\u001b[2K\u001b[56A\u001b[2K\u001b[56A\u001b[2K\u001b[56A\u001b[2K\u001b[56A\u001b[2K\u001b[56A\u001b[2K\u001b[56A\u001b[2K\u001b[56A\u001b[2K\u001b[56A\u001b[2K\u001b[56A\u001b[2K\u001b[56A\u001b[2K\u001b[56A\u001b[2K\u001b[56A\u001b[2K\u001b[56A\u001b[2K\u001b[56A\u001b[2K\u001b[56A\u001b[2K\u001b[56A\u001b[2K\u001b[56A\u001b[2K\u001b[56A\u001b[2K\u001b[56A\u001b[2K\u001b[56A\u001b[2K\u001b[56A\u001b[2K\u001b[56A\u001b[2K\u001b[56A\u001b[2K\u001b[56A\u001b[2K\u001b[56A\u001b[2K\u001b[56A\u001b[2K\u001b[56A\u001b[2K\u001b[56A\u001b[2K\u001b[56A\u001b[2K\u001b[56A\u001b[2K\u001b[56A\u001b[2K\u001b[56A\u001b[2K\u001b[56A\u001b[2K\u001b[56A\u001b[2K\u001b[56A\u001b[2K\u001b[56A\u001b[2K\u001b[56A\u001b[2K\u001b[56A\u001b[2K\u001b[56A\u001b[2K\u001b[56A\u001b[2K\u001b[56A\u001b[2K\u001b[56A\u001b[2K\u001b[56A\u001b[2K\u001b[56A\u001b[2K\u001b[56A\u001b[2K\u001b[56A\u001b[2K\u001b[56A\u001b[2K\u001b[56A\u001b[2K\u001b[56A\u001b[2K\u001b[56A\u001b[2K\u001b[56A\u001b[2K\u001b[56A\u001b[2K\u001b[56A\u001b[2K\u001b[56A\u001b[2K\u001b[56A\u001b[2K\u001b[56A\u001b[2K\u001b[56A\u001b[2K\u001b[56A\u001b[2K\u001b[56A\u001b[2K\u001b[56A\u001b[2K\u001b[56A\u001b[2K\u001b[56A\u001b[2K\u001b[56A\u001b[2K\u001b[56A\u001b[2K\u001b[56A\u001b[2K\u001b[56A\u001b[2K\u001b[56A\u001b[2K\u001b[56A\u001b[2K\u001b[56A\u001b[2K\u001b[56A\u001b[2K\u001b[56A\u001b[2K\u001b[56A\u001b[2K\u001b[56A\u001b[2K\u001b[56A\u001b[2K\u001b[56A\u001b[2K\u001b[56A\u001b[2K\u001b[56A\u001b[2K\u001b[56A\u001b[2K\u001b[56A\u001b[2K\u001b[56A\u001b[2K\u001b[56A\u001b[2K\u001b[56A\u001b[2K\u001b[56A\u001b[2K\u001b[56A\u001b[2K\u001b[56A\u001b[2K\u001b[56A\u001b[2K\u001b[56A\u001b[2K\u001b[56A\u001b[2K\u001b[56A\u001b[2K\u001b[56A\u001b[2K\u001b[56A\u001b[2K\u001b[56A\u001b[2K\u001b[56A\u001b[2K\u001b[56A\u001b[2K\u001b[56A\u001b[2K\u001b[56A\u001b[2K\u001b[56A\u001b[2K\u001b[56A\u001b[2K\u001b[56A\u001b[2K\u001b[56A\u001b[2K\u001b[56A\u001b[2K\u001b[56A\u001b[2K\u001b[56A\u001b[2K\u001b[56A\u001b[2K\u001b[56A\u001b[2K\u001b[56A\u001b[2K\u001b[56A\u001b[2K\u001b[56A\u001b[2K\u001b[56A\u001b[2K\u001b[56A\u001b[2K\u001b[56A\u001b[2K\u001b[56A\u001b[2K\u001b[56A\u001b[2K\u001b[56A\u001b[2K\u001b[56A\u001b[2K\u001b[56A\u001b[2K\u001b[56A\u001b[2K\u001b[56A\u001b[2K\u001b[56A\u001b[2K\u001b[56A\u001b[2K\u001b[56A\u001b[2K\u001b[56A\u001b[2K\u001b[56A\u001b[2K\u001b[56A\u001b[2K\u001b[56A\u001b[2K\u001b[56A\u001b[2K\u001b[56A\u001b[2K\u001b[55A\u001b[2K\u001b[55A\u001b[2K\u001b[55A\u001b[2K\u001b[55A\u001b[2K\u001b[55A\u001b[2K\u001b[55A\u001b[2K\u001b[55A\u001b[2K\u001b[55A\u001b[2K\u001b[55A\u001b[2K\u001b[55A\u001b[2K\u001b[55A\u001b[2K\u001b[55A\u001b[2K\u001b[55A\u001b[2K\u001b[55A\u001b[2K\u001b[55A\u001b[2K\u001b[55A\u001b[2K\u001b[55A\u001b[2K\u001b[55A\u001b[2K\u001b[55A\u001b[2K\u001b[55A\u001b[2K\u001b[55A\u001b[2K\u001b[55A\u001b[2K\u001b[55A\u001b[2K\u001b[55A\u001b[2K\u001b[55A\u001b[2K\u001b[55A\u001b[2K\u001b[55A\u001b[2K\u001b[55A\u001b[2K\u001b[55A\u001b[2K\u001b[55A\u001b[2K\u001b[55A\u001b[2K\u001b[55A\u001b[2K\u001b[55A\u001b[2K\u001b[55A\u001b[2K\u001b[55A\u001b[2K\u001b[55A\u001b[2K\u001b[55A\u001b[2K\u001b[55A\u001b[2K\u001b[55A\u001b[2K\u001b[55A\u001b[2K\u001b[55A\u001b[2K\u001b[55A\u001b[2K\u001b[55A\u001b[2K\u001b[55A\u001b[2K\u001b[55A\u001b[2K\u001b[55A\u001b[2K\u001b[55A\u001b[2K\u001b[55A\u001b[2K\u001b[55A\u001b[2K\u001b[55A\u001b[2K\u001b[55A\u001b[2K\u001b[55A\u001b[2K\u001b[55A\u001b[2K\u001b[55A\u001b[2K\u001b[55A\u001b[2K\u001b[55A\u001b[2K\u001b[55A\u001b[2K\u001b[55A\u001b[2K\u001b[55A\u001b[2K\u001b[55A\u001b[2K\u001b[55A\u001b[2K\u001b[55A\u001b[2K\u001b[55A\u001b[2K\u001b[55A\u001b[2K\u001b[55A\u001b[2K\u001b[55A\u001b[2K\u001b[55A\u001b[2K\u001b[55A\u001b[2K\u001b[55A\u001b[2K\u001b[55A\u001b[2K\u001b[55A\u001b[2K\u001b[55A\u001b[2K\u001b[55A\u001b[2K\u001b[55A\u001b[2K\u001b[55A\u001b[2K\u001b[55A\u001b[2K\u001b[55A\u001b[2K\u001b[55A\u001b[2K\u001b[55A\u001b[2K\u001b[55A\u001b[2K\u001b[55A\u001b[2K\u001b[55A\u001b[2K\u001b[55A\u001b[2K\u001b[55A\u001b[2K\u001b[55A\u001b[2K\u001b[55A\u001b[2K\u001b[55A\u001b[2K\u001b[55A\u001b[2K\u001b[55A\u001b[2K\u001b[55A\u001b[2K\u001b[55A\u001b[2K\u001b[55A\u001b[2K\u001b[55A\u001b[2K\u001b[55A\u001b[2K\u001b[55A\u001b[2K\u001b[55A\u001b[2K\u001b[55A\u001b[2K\u001b[55A\u001b[2K\u001b[55A\u001b[2K\u001b[55A\u001b[2K\u001b[55A\u001b[2K\u001b[55A\u001b[2K\u001b[55A\u001b[2K\u001b[55A\u001b[2K\u001b[55A\u001b[2K\u001b[55A\u001b[2K\u001b[55A\u001b[2K\u001b[55A\u001b[2K\u001b[55A\u001b[2K\u001b[55A\u001b[2K\u001b[55A\u001b[2K\u001b[55A\u001b[2K\u001b[55A\u001b[2K\u001b[55A\u001b[2K\u001b[55A\u001b[2K\u001b[55A\u001b[2K\u001b[55A\u001b[2K\u001b[55A\u001b[2K\u001b[55A\u001b[2K\u001b[55A\u001b[2K\u001b[55A\u001b[2K\u001b[55A\u001b[2K\u001b[55A\u001b[2K\u001b[55A\u001b[2K\u001b[55A\u001b[2K\u001b[55A\u001b[2K\u001b[55A\u001b[2K\u001b[55A\u001b[2K\u001b[55A\u001b[2K\u001b[55A\u001b[2K\u001b[55A\u001b[2K\u001b[55A\u001b[2K\u001b[55A\u001b[2K\u001b[55A\u001b[2K\u001b[55A\u001b[2K\u001b[55A\u001b[2K\u001b[55A\u001b[2K\u001b[55A\u001b[2K\u001b[55A\u001b[2K\u001b[55A\u001b[2K\u001b[55A\u001b[2K\u001b[55A\u001b[2K\u001b[55A\u001b[2K\u001b[55A\u001b[2K\u001b[55A\u001b[2K\u001b[55A\u001b[2K\u001b[55A\u001b[2K\u001b[55A\u001b[2K\u001b[55A\u001b[2K\u001b[55A\u001b[2K\u001b[55A\u001b[2K\u001b[55A\u001b[2K\u001b[55A\u001b[2K\u001b[55A\u001b[2K\u001b[55A\u001b[2K\u001b[55A\u001b[2K\u001b[55A\u001b[2K\u001b[55A\u001b[2K\u001b[55A\u001b[2K\u001b[55A\u001b[2K\u001b[55A\u001b[2K\u001b[55A\u001b[2K\u001b[55A\u001b[2K\u001b[55A\u001b[2K\u001b[55A\u001b[2K\u001b[55A\u001b[2K\u001b[55A\u001b[2K\u001b[55A\u001b[2K\u001b[55A\u001b[2K\u001b[55A\u001b[2K\u001b[55A\u001b[2K\u001b[55A\u001b[2K\u001b[55A\u001b[2K\u001b[55A\u001b[2K\u001b[55A\u001b[2K\u001b[55A\u001b[2K\u001b[55A\u001b[2K\u001b[55A\u001b[2K\u001b[55A\u001b[2K\u001b[55A\u001b[2K\u001b[55A\u001b[2K\u001b[55A\u001b[2K\u001b[55A\u001b[2K\u001b[55A\u001b[2K\u001b[55A\u001b[2K\u001b[55A\u001b[2K\u001b[55A\u001b[2K\u001b[55A\u001b[2K\u001b[55A\u001b[2K\u001b[55A\u001b[2K\u001b[55A\u001b[2K\u001b[55A\u001b[2K\u001b[55A\u001b[2K\u001b[55A\u001b[2K\u001b[55A\u001b[2K\u001b[55A\u001b[2K\u001b[55A\u001b[2K\u001b[55A\u001b[2K\u001b[55A\u001b[2K\u001b[55A\u001b[2K\u001b[55A\u001b[2K\u001b[55A\u001b[2K\u001b[55A\u001b[2K\u001b[55A\u001b[2K\u001b[55A\u001b[2K\u001b[55A\u001b[2K\u001b[55A\u001b[2K\u001b[55A\u001b[2K\u001b[55A\u001b[2K\u001b[54A\u001b[2K\u001b[54A\u001b[2K\u001b[54A\u001b[2K\u001b[54A\u001b[2K\u001b[54A\u001b[2K\u001b[54A\u001b[2K\u001b[54A\u001b[2K\u001b[54A\u001b[2K\u001b[54A\u001b[2K\u001b[53A\u001b[2K\u001b[53A\u001b[2K\u001b[52A\u001b[2K\u001b[51A\u001b[2K\u001b[50A\u001b[2K\u001b[50A\u001b[2K\u001b[50A\u001b[2K\u001b[49A\u001b[2K\u001b[49A\u001b[2K\u001b[49A\u001b[2K\u001b[49A\u001b[2K\u001b[49A\u001b[2K\u001b[49A\u001b[2K\u001b[49A\u001b[2K\u001b[49A\u001b[2K\u001b[49A\u001b[2K\u001b[48A\u001b[2K\u001b[48A\u001b[2K\u001b[48A\u001b[2K\u001b[48A\u001b[2K\u001b[48A\u001b[2K\u001b[48A\u001b[2K\u001b[48A\u001b[2K\u001b[48A\u001b[2K\u001b[48A\u001b[2K\u001b[47A\u001b[2K\u001b[47A\u001b[2K\u001b[46A\u001b[2K\u001b[46A\u001b[2K\u001b[45A\u001b[2K\u001b[45A\u001b[2K\u001b[45A\u001b[2K\u001b[45A\u001b[2K\u001b[44A\u001b[2K\u001b[44A\u001b[2K\u001b[44A\u001b[2K\u001b[44A\u001b[2K\u001b[44A\u001b[2K\u001b[44A\u001b[2K\u001b[44A\u001b[2K\u001b[44A\u001b[2K\u001b[44A\u001b[2K\u001b[44A\u001b[2K\u001b[44A\u001b[2K\u001b[43A\u001b[2K\u001b[42A\u001b[2K\u001b[42A\u001b[2K\u001b[42A\u001b[2K\u001b[41A\u001b[2K\u001b[40A\u001b[2K\u001b[40A\u001b[2K\u001b[40A\u001b[2K\u001b[40A\u001b[2K\u001b[40A\u001b[2K\u001b[40A\u001b[2K\u001b[40A\u001b[2K\u001b[40A\u001b[2K\u001b[40A\u001b[2K\u001b[40A\u001b[2K\u001b[40A\u001b[2K\u001b[40A\u001b[2K\u001b[40A\u001b[2K\u001b[40A\u001b[2K\u001b[40A\u001b[2K\u001b[40A\u001b[2K\u001b[40A\u001b[2K\u001b[40A\u001b[2K\u001b[40A\u001b[2K\u001b[40A\u001b[2K\u001b[40A\u001b[2K\u001b[40A\u001b[2K\u001b[40A\u001b[2K\u001b[40A\u001b[2K\u001b[40A\u001b[2K\u001b[40A\u001b[2K\u001b[40A\u001b[2K\u001b[40A\u001b[2K\u001b[40A\u001b[2K\u001b[40A\u001b[2K\u001b[40A\u001b[2K\u001b[40A\u001b[2K\u001b[40A\u001b[2K\u001b[40A\u001b[2K\u001b[40A\u001b[2K\u001b[40A\u001b[2K\u001b[40A\u001b[2K\u001b[40A\u001b[2K\u001b[40A\u001b[2K\u001b[40A\u001b[2K\u001b[40A\u001b[2K\u001b[40A\u001b[2K\u001b[40A\u001b[2K\u001b[40A\u001b[2K\u001b[40A\u001b[2K\u001b[40A\u001b[2K\u001b[40A\u001b[2K\u001b[40A\u001b[2K\u001b[40A\u001b[2K\u001b[40A\u001b[2K\u001b[40A\u001b[2K\u001b[40A\u001b[2K\u001b[40A\u001b[2K\u001b[40A\u001b[2K\u001b[40A\u001b[2K\u001b[40A\u001b[2K\u001b[40A\u001b[2K\u001b[40A\u001b[2K\u001b[40A\u001b[2K\u001b[40A\u001b[2K\u001b[40A\u001b[2K\u001b[40A\u001b[2K\u001b[40A\u001b[2K\u001b[40A\u001b[2K\u001b[40A\u001b[2K\u001b[40A\u001b[2K\u001b[40A\u001b[2K\u001b[40A\u001b[2K\u001b[40A\u001b[2K\u001b[40A\u001b[2K\u001b[40A\u001b[2K\u001b[40A\u001b[2K\u001b[40A\u001b[2K\u001b[40A\u001b[2K\u001b[40A\u001b[2K\u001b[40A\u001b[2K\u001b[40A\u001b[2K\u001b[40A\u001b[2K\u001b[40A\u001b[2K\u001b[40A\u001b[2K\u001b[40A\u001b[2K\u001b[40A\u001b[2K\u001b[40A\u001b[2K\u001b[40A\u001b[2K\u001b[40A\u001b[2K\u001b[40A\u001b[2K\u001b[40A\u001b[2K\u001b[40A\u001b[2K\u001b[40A\u001b[2K\u001b[40A\u001b[2K\u001b[40A\u001b[2K\u001b[40A\u001b[2K\u001b[40A\u001b[2K\u001b[40A\u001b[2K\u001b[40A\u001b[2K\u001b[40A\u001b[2K\u001b[40A\u001b[2K\u001b[40A\u001b[2K\u001b[40A\u001b[2K\u001b[40A\u001b[2K\u001b[40A\u001b[2K\u001b[40A\u001b[2K\u001b[40A\u001b[2K\u001b[40A\u001b[2K\u001b[40A\u001b[2K\u001b[40A\u001b[2K\u001b[40A\u001b[2K\u001b[40A\u001b[2K\u001b[40A\u001b[2K\u001b[40A\u001b[2K\u001b[40A\u001b[2K\u001b[40A\u001b[2K\u001b[40A\u001b[2K\u001b[40A\u001b[2K\u001b[40A\u001b[2K\u001b[40A\u001b[2K\u001b[40A\u001b[2K\u001b[40A\u001b[2K\u001b[40A\u001b[2K\u001b[40A\u001b[2K\u001b[40A\u001b[2K\u001b[40A\u001b[2K\u001b[40A\u001b[2K\u001b[40A\u001b[2K\u001b[40A\u001b[2K\u001b[40A\u001b[2K\u001b[40A\u001b[2K\u001b[40A\u001b[2K\u001b[40A\u001b[2K\u001b[40A\u001b[2K\u001b[40A\u001b[2K\u001b[40A\u001b[2K\u001b[40A\u001b[2K\u001b[40A\u001b[2K\u001b[40A\u001b[2K\u001b[40A\u001b[2K\u001b[40A\u001b[2K\u001b[40A\u001b[2K\u001b[40A\u001b[2K\u001b[40A\u001b[2K\u001b[40A\u001b[2K\u001b[40A\u001b[2K\u001b[40A\u001b[2K\u001b[40A\u001b[2K\u001b[40A\u001b[2K\u001b[40A\u001b[2K\u001b[40A\u001b[2K\u001b[40A\u001b[2K\u001b[40A\u001b[2K\u001b[40A\u001b[2K\u001b[40A\u001b[2K\u001b[40A\u001b[2K\u001b[40A\u001b[2K\u001b[40A\u001b[2K\u001b[40A\u001b[2K\u001b[40A\u001b[2K\u001b[40A\u001b[2K\u001b[40A\u001b[2K\u001b[40A\u001b[2K\u001b[40A\u001b[2K\u001b[40A\u001b[2K\u001b[40A\u001b[2K\u001b[40A\u001b[2K\u001b[40A\u001b[2K\u001b[40A\u001b[2K\u001b[40A\u001b[2K\u001b[40A\u001b[2K\u001b[40A\u001b[2K\u001b[40A\u001b[2K\u001b[40A\u001b[2K\u001b[40A\u001b[2K\u001b[40A\u001b[2K\u001b[40A\u001b[2K\u001b[40A\u001b[2K\u001b[40A\u001b[2K\u001b[40A\u001b[2K\u001b[40A\u001b[2K\u001b[40A\u001b[2K\u001b[40A\u001b[2K\u001b[40A\u001b[2K\u001b[40A\u001b[2K\u001b[40A\u001b[2K\u001b[40A\u001b[2K\u001b[40A\u001b[2K\u001b[40A\u001b[2K\u001b[40A\u001b[2K\u001b[40A\u001b[2K\u001b[40A\u001b[2K\u001b[40A\u001b[2K\u001b[40A\u001b[2K\u001b[40A\u001b[2K\u001b[40A\u001b[2K\u001b[40A\u001b[2K\u001b[40A\u001b[2K\u001b[40A\u001b[2K\u001b[40A\u001b[2K\u001b[40A\u001b[2K\u001b[40A\u001b[2K\u001b[40A\u001b[2K\u001b[40A\u001b[2K\u001b[40A\u001b[2K\u001b[40A\u001b[2K\u001b[40A\u001b[2K\u001b[40A\u001b[2K\u001b[40A\u001b[2K\u001b[40A\u001b[2K\u001b[40A\u001b[2K\u001b[40A\u001b[2K\u001b[40A\u001b[2K\u001b[40A\u001b[2K\u001b[40A\u001b[2K\u001b[40A\u001b[2K\u001b[40A\u001b[2K\u001b[40A\u001b[2K\u001b[39A\u001b[2K\u001b[39A\u001b[2K\u001b[39A\u001b[2K\u001b[39A\u001b[2K\u001b[39A\u001b[2K\u001b[39A\u001b[2K\u001b[39A\u001b[2K\u001b[39A\u001b[2K\u001b[39A\u001b[2K\u001b[39A\u001b[2K\u001b[39A\u001b[2K\u001b[39A\u001b[2K\u001b[39A\u001b[2K\u001b[39A\u001b[2K\u001b[39A\u001b[2K\u001b[39A\u001b[2K\u001b[39A\u001b[2K\u001b[39A\u001b[2K\u001b[39A\u001b[2K\u001b[39A\u001b[2K\u001b[39A\u001b[2K\u001b[39A\u001b[2K\u001b[39A\u001b[2K\u001b[39A\u001b[2K\u001b[39A\u001b[2K\u001b[39A\u001b[2K\u001b[39A\u001b[2K\u001b[39A\u001b[2K\u001b[39A\u001b[2K\u001b[39A\u001b[2K\u001b[39A\u001b[2K\u001b[39A\u001b[2K\u001b[39A\u001b[2K\u001b[39A\u001b[2K\u001b[39A\u001b[2K\u001b[39A\u001b[2K\u001b[39A\u001b[2K\u001b[39A\u001b[2K\u001b[39A\u001b[2K\u001b[39A\u001b[2K\u001b[39A\u001b[2K\u001b[39A\u001b[2K\u001b[39A\u001b[2K\u001b[39A\u001b[2K\u001b[39A\u001b[2K\u001b[39A\u001b[2K\u001b[39A\u001b[2K\u001b[39A\u001b[2K\u001b[38A\u001b[2K\u001b[38A\u001b[2K\u001b[38A\u001b[2K\u001b[38A\u001b[2K\u001b[38A\u001b[2K\u001b[37A\u001b[2K\u001b[37A\u001b[2K\u001b[37A\u001b[2K\u001b[37A\u001b[2K\u001b[37A\u001b[2K\u001b[37A\u001b[2K\u001b[37A\u001b[2K\u001b[37A\u001b[2K\u001b[37A\u001b[2K\u001b[37A\u001b[2K\u001b[36A\u001b[2K\u001b[36A\u001b[2K\u001b[35A\u001b[2K\u001b[34A\u001b[2K\u001b[34A\u001b[2K\u001b[33A\u001b[2K\u001b[33A\u001b[2K\u001b[33A\u001b[2K\u001b[33A\u001b[2K\u001b[33A\u001b[2K\u001b[33A\u001b[2K\u001b[33A\u001b[2K\u001b[33A\u001b[2K\u001b[33A\u001b[2K\u001b[32A\u001b[2K\u001b[32A\u001b[2K\u001b[32A\u001b[2K\u001b[32A\u001b[2K\u001b[32A\u001b[2K\u001b[32A\u001b[2K\u001b[31A\u001b[2K\u001b[30A\u001b[2K\u001b[30A\u001b[2K\u001b[29A\u001b[2K\u001b[29A\u001b[2K\u001b[29A\u001b[2K\u001b[29A\u001b[2K\u001b[29A\u001b[2K\u001b[29A\u001b[2K\u001b[29A\u001b[2K\u001b[29A\u001b[2K\u001b[29A\u001b[2K\u001b[29A\u001b[2K\u001b[29A\u001b[2K\u001b[29A\u001b[2K\u001b[29A\u001b[2K\u001b[29A\u001b[2K\u001b[29A\u001b[2K\u001b[29A\u001b[2K\u001b[29A\u001b[2K\u001b[29A\u001b[2K\u001b[29A\u001b[2K\u001b[29A\u001b[2K\u001b[29A\u001b[2K\u001b[29A\u001b[2K\u001b[29A\u001b[2K\u001b[29A\u001b[2K\u001b[29A\u001b[2K\u001b[29A\u001b[2K\u001b[29A\u001b[2K\u001b[29A\u001b[2K\u001b[29A\u001b[2K\u001b[29A\u001b[2K\u001b[28A\u001b[2K\u001b[28A\u001b[2K\u001b[28A\u001b[2K\u001b[28A\u001b[2K\u001b[28A\u001b[2K\u001b[28A\u001b[2K\u001b[28A\u001b[2K\u001b[28A\u001b[2K\u001b[28A\u001b[2K\u001b[28A\u001b[2K\u001b[28A\u001b[2K\u001b[27A\u001b[2K\u001b[27A\u001b[2K\u001b[27A\u001b[2K\u001b[27A\u001b[2K\u001b[27A\u001b[2K\u001b[27A\u001b[2K\u001b[27A\u001b[2K\u001b[27A\u001b[2K\u001b[27A\u001b[2K\u001b[27A\u001b[2K\u001b[27A\u001b[2K\u001b[27A\u001b[2K\u001b[27A\u001b[2K\u001b[27A\u001b[2K\u001b[27A\u001b[2K\u001b[27A\u001b[2K\u001b[27A\u001b[2K\u001b[27A\u001b[2K\u001b[27A\u001b[2K\u001b[27A\u001b[2K\u001b[27A\u001b[2K\u001b[27A\u001b[2K\u001b[27A\u001b[2K\u001b[27A\u001b[2K\u001b[27A\u001b[2K\u001b[27A\u001b[2K\u001b[27A\u001b[2K\u001b[27A\u001b[2K\u001b[27A\u001b[2K\u001b[27A\u001b[2K\u001b[27A\u001b[2K\u001b[27A\u001b[2K\u001b[27A\u001b[2K\u001b[27A\u001b[2K\u001b[27A\u001b[2K\u001b[27A\u001b[2K\u001b[27A\u001b[2K\u001b[27A\u001b[2K\u001b[27A\u001b[2K\u001b[27A\u001b[2K\u001b[27A\u001b[2K\u001b[27A\u001b[2K\u001b[27A\u001b[2K\u001b[27A\u001b[2K\u001b[27A\u001b[2K\u001b[27A\u001b[2K\u001b[27A\u001b[2K\u001b[27A\u001b[2K\u001b[27A\u001b[2K\u001b[27A\u001b[2K\u001b[27A\u001b[2K\u001b[26A\u001b[2K\u001b[26A\u001b[2K\u001b[26A\u001b[2K\u001b[26A\u001b[2K\u001b[26A\u001b[2K\u001b[26A\u001b[2K\u001b[26A\u001b[2K\u001b[26A\u001b[2K\u001b[26A\u001b[2K\u001b[26A\u001b[2K\u001b[26A\u001b[2K\u001b[26A\u001b[2K\u001b[26A\u001b[2K\u001b[26A\u001b[2K\u001b[26A\u001b[2K\u001b[26A\u001b[2K\u001b[26A\u001b[2K\u001b[26A\u001b[2K\u001b[26A\u001b[2K\u001b[26A\u001b[2K\u001b[26A\u001b[2K\u001b[26A\u001b[2K\u001b[26A\u001b[2K\u001b[26A\u001b[2K\u001b[26A\u001b[2K\u001b[26A\u001b[2K\u001b[26A\u001b[2K\u001b[26A\u001b[2K\u001b[26A\u001b[2K\u001b[26A\u001b[2K\u001b[26A\u001b[2K\u001b[26A\u001b[2K\u001b[26A\u001b[2K\u001b[26A\u001b[2K\u001b[26A\u001b[2K\u001b[26A\u001b[2K\u001b[26A\u001b[2K\u001b[26A\u001b[2K\u001b[26A\u001b[2K\u001b[26A\u001b[2K\u001b[26A\u001b[2K\u001b[26A\u001b[2K\u001b[26A\u001b[2K\u001b[26A\u001b[2K\u001b[26A\u001b[2K\u001b[26A\u001b[2K\u001b[26A\u001b[2K\u001b[26A\u001b[2K\u001b[26A\u001b[2K\u001b[26A\u001b[2K\u001b[26A\u001b[2K\u001b[26A\u001b[2K\u001b[26A\u001b[2K\u001b[26A\u001b[2K\u001b[26A\u001b[2K\u001b[25A\u001b[2K\u001b[25A\u001b[2K\u001b[25A\u001b[2K\u001b[25A\u001b[2K\u001b[25A\u001b[2K\u001b[25A\u001b[2K\u001b[25A\u001b[2K\u001b[25A\u001b[2K\u001b[25A\u001b[2K\u001b[25A\u001b[2K\u001b[25A\u001b[2K\u001b[25A\u001b[2K\u001b[25A\u001b[2K\u001b[25A\u001b[2K\u001b[25A\u001b[2K\u001b[25A\u001b[2K\u001b[25A\u001b[2K\u001b[25A\u001b[2K\u001b[25A\u001b[2K\u001b[25A\u001b[2K\u001b[25A\u001b[2K\u001b[25A\u001b[2K\u001b[25A\u001b[2K\u001b[25A\u001b[2K\u001b[25A\u001b[2K\u001b[25A\u001b[2K\u001b[25A\u001b[2K\u001b[25A\u001b[2K\u001b[24A\u001b[2K\u001b[24A\u001b[2K\u001b[24A\u001b[2K\u001b[24A\u001b[2K\u001b[24A\u001b[2K\u001b[24A\u001b[2K\u001b[24A\u001b[2K\u001b[24A\u001b[2K\u001b[24A\u001b[2K\u001b[24A\u001b[2K\u001b[24A\u001b[2K\u001b[24A\u001b[2K\u001b[24A\u001b[2K\u001b[24A\u001b[2K\u001b[24A\u001b[2K\u001b[24A\u001b[2K\u001b[24A\u001b[2K\u001b[24A\u001b[2K\u001b[24A\u001b[2K\u001b[24A\u001b[2K\u001b[24A\u001b[2K\u001b[24A\u001b[2K\u001b[24A\u001b[2K\u001b[24A\u001b[2K\u001b[24A\u001b[2K\u001b[24A\u001b[2K\u001b[24A\u001b[2K\u001b[24A\u001b[2K\u001b[24A\u001b[2K\u001b[24A\u001b[2K\u001b[24A\u001b[2K\u001b[24A\u001b[2K\u001b[24A\u001b[2K\u001b[24A\u001b[2K\u001b[24A\u001b[2K\u001b[24A\u001b[2K\u001b[24A\u001b[2K\u001b[24A\u001b[2K\u001b[24A\u001b[2K\u001b[24A\u001b[2K\u001b[24A\u001b[2K\u001b[24A\u001b[2K\u001b[24A\u001b[2K\u001b[24A\u001b[2K\u001b[24A\u001b[2K\u001b[24A\u001b[2K\u001b[24A\u001b[2K\u001b[24A\u001b[2K\u001b[24A\u001b[2K\u001b[24A\u001b[2K\u001b[24A\u001b[2K\u001b[24A\u001b[2K\u001b[24A\u001b[2K\u001b[24A\u001b[2K\u001b[24A\u001b[2K\u001b[24A\u001b[2K\u001b[24A\u001b[2K\u001b[24A\u001b[2K\u001b[24A\u001b[2K\u001b[24A\u001b[2K\u001b[24A\u001b[2K\u001b[24A\u001b[2K\u001b[24A\u001b[2K\u001b[24A\u001b[2K\u001b[24A\u001b[2K\u001b[24A\u001b[2K\u001b[24A\u001b[2K\u001b[24A\u001b[2K\u001b[24A\u001b[2K\u001b[24A\u001b[2K\u001b[24A\u001b[2K\u001b[24A\u001b[2K\u001b[24A\u001b[2K\u001b[24A\u001b[2K\u001b[24A\u001b[2K\u001b[24A\u001b[2K\u001b[24A\u001b[2K\u001b[24A\u001b[2K\u001b[24A\u001b[2K\u001b[24A\u001b[2K\u001b[24A\u001b[2K\u001b[24A\u001b[2K\u001b[24A\u001b[2K\u001b[24A\u001b[2K\u001b[24A\u001b[2K\u001b[24A\u001b[2K\u001b[24A\u001b[2K\u001b[24A\u001b[2K\u001b[24A\u001b[2K\u001b[24A\u001b[2K\u001b[24A\u001b[2K\u001b[24A\u001b[2K\u001b[24A\u001b[2K\u001b[24A\u001b[2K\u001b[24A\u001b[2K\u001b[24A\u001b[2K\u001b[24A\u001b[2K\u001b[24A\u001b[2K\u001b[24A\u001b[2K\u001b[24A\u001b[2K\u001b[24A\u001b[2K\u001b[24A\u001b[2K\u001b[24A\u001b[2K\u001b[24A\u001b[2K\u001b[24A\u001b[2K\u001b[24A\u001b[2K\u001b[24A\u001b[2K\u001b[24A\u001b[2K\u001b[24A\u001b[2K\u001b[24A\u001b[2K\u001b[24A\u001b[2K\u001b[24A\u001b[2K\u001b[24A\u001b[2K\u001b[24A\u001b[2K\u001b[24A\u001b[2K\u001b[24A\u001b[2K\u001b[24A\u001b[2K\u001b[24A\u001b[2K\u001b[24A\u001b[2K\u001b[24A\u001b[2K\u001b[24A\u001b[2K\u001b[24A\u001b[2K\u001b[24A\u001b[2K\u001b[24A\u001b[2K\u001b[24A\u001b[2K\u001b[24A\u001b[2K\u001b[24A\u001b[2K\u001b[24A\u001b[2K\u001b[24A\u001b[2K\u001b[24A\u001b[2K\u001b[24A\u001b[2K\u001b[24A\u001b[2K\u001b[24A\u001b[2K\u001b[24A\u001b[2K\u001b[24A\u001b[2K\u001b[23A\u001b[2K\u001b[23A\u001b[2K\u001b[23A\u001b[2K\u001b[23A\u001b[2K\u001b[23A\u001b[2K\u001b[23A\u001b[2K\u001b[23A\u001b[2K\u001b[23A\u001b[2K\u001b[23A\u001b[2K\u001b[23A\u001b[2K\u001b[23A\u001b[2K\u001b[23A\u001b[2K\u001b[23A\u001b[2K\u001b[23A\u001b[2K\u001b[23A\u001b[2K\u001b[23A\u001b[2K\u001b[23A\u001b[2K\u001b[23A\u001b[2K\u001b[23A\u001b[2K\u001b[23A\u001b[2K\u001b[23A\u001b[2K\u001b[23A\u001b[2K\u001b[23A\u001b[2K\u001b[23A\u001b[2K\u001b[23A\u001b[2K\u001b[23A\u001b[2K\u001b[23A\u001b[2K\u001b[23A\u001b[2K\u001b[23A\u001b[2K\u001b[23A\u001b[2K\u001b[23A\u001b[2K\u001b[23A\u001b[2K\u001b[23A\u001b[2K\u001b[23A\u001b[2K\u001b[23A\u001b[2K\u001b[23A\u001b[2K\u001b[23A\u001b[2K\u001b[23A\u001b[2K\u001b[23A\u001b[2K\u001b[23A\u001b[2K\u001b[23A\u001b[2K\u001b[23A\u001b[2K\u001b[23A\u001b[2K\u001b[23A\u001b[2K\u001b[23A\u001b[2K\u001b[23A\u001b[2K\u001b[23A\u001b[2K\u001b[23A\u001b[2K\u001b[23A\u001b[2K\u001b[23A\u001b[2K\u001b[23A\u001b[2KExtracting  576.6MB/732.6MB\u001b[23A\u001b[2K\u001b[23A\u001b[2K\u001b[23A\u001b[2K\u001b[23A\u001b[2K\u001b[23A\u001b[2K\u001b[23A\u001b[2K\u001b[23A\u001b[2K\u001b[23A\u001b[2K\u001b[23A\u001b[2K\u001b[23A\u001b[2K\u001b[23A\u001b[2K\u001b[23A\u001b[2K\u001b[23A\u001b[2K\u001b[23A\u001b[2K\u001b[23A\u001b[2K\u001b[23A\u001b[2K\u001b[23A\u001b[2K\u001b[23A\u001b[2K\u001b[22A\u001b[2KExtracting  557.1kB/394MB\u001b[22A\u001b[2K\u001b[22A\u001b[2K\u001b[22A\u001b[2K\u001b[22A\u001b[2K\u001b[22A\u001b[2K\u001b[22A\u001b[2K\u001b[22A\u001b[2K\u001b[22A\u001b[2K\u001b[22A\u001b[2K\u001b[22A\u001b[2K\u001b[22A\u001b[2K\u001b[22A\u001b[2K\u001b[22A\u001b[2K\u001b[22A\u001b[2K\u001b[22A\u001b[2K\u001b[22A\u001b[2K\u001b[22A\u001b[2K\u001b[22A\u001b[2K\u001b[22A\u001b[2K\u001b[22A\u001b[2K\u001b[22A\u001b[2K\u001b[22A\u001b[2K\u001b[22A\u001b[2K\u001b[22A\u001b[2K\u001b[22A\u001b[2K\u001b[22A\u001b[2K\u001b[22A\u001b[2K\u001b[22A\u001b[2K\u001b[22A\u001b[2K\u001b[22A\u001b[2K\u001b[22A\u001b[2K\u001b[22A\u001b[2K\u001b[22A\u001b[2K\u001b[22A\u001b[2K\u001b[22A\u001b[2K\u001b[22A\u001b[2K\u001b[22A\u001b[2K\u001b[22A\u001b[2K\u001b[22A\u001b[2K\u001b[22A\u001b[2K\u001b[22A\u001b[2K\u001b[22A\u001b[2K\u001b[22A\u001b[2K\u001b[22A\u001b[2K\u001b[22A\u001b[2K\u001b[22A\u001b[2K\u001b[22A\u001b[2K\u001b[22A\u001b[2K\u001b[22A\u001b[2K\u001b[22A\u001b[2K\u001b[22A\u001b[2K\u001b[22A\u001b[2K\u001b[22A\u001b[2K\u001b[22A\u001b[2K\u001b[22A\u001b[2K\u001b[22A\u001b[2K\u001b[22A\u001b[2K\u001b[22A\u001b[2K\u001b[22A\u001b[2K\u001b[22A\u001b[2K\u001b[22A\u001b[2K\u001b[22A\u001b[2K\u001b[22A\u001b[2K\u001b[22A\u001b[2K\u001b[22A\u001b[2K\u001b[22A\u001b[2K\u001b[22A\u001b[2K\u001b[22A\u001b[2K\u001b[22A\u001b[2K\u001b[22A\u001b[2K\u001b[22A\u001b[2K\u001b[22A\u001b[2K\u001b[22A\u001b[2K\u001b[22A\u001b[2K\u001b[22A\u001b[2K\u001b[22A\u001b[2K\u001b[22A\u001b[2K\u001b[22A\u001b[2K\u001b[22A\u001b[2K\u001b[22A\u001b[2K\u001b[22A\u001b[2K\u001b[22A\u001b[2K\u001b[22A\u001b[2K\u001b[22A\u001b[2K\u001b[22A\u001b[2K\u001b[22A\u001b[2K\u001b[22A\u001b[2K\u001b[22A\u001b[2K\u001b[22A\u001b[2K\u001b[22A\u001b[2K\u001b[22A\u001b[2K\u001b[22A\u001b[2K\u001b[22A\u001b[2K\u001b[22A\u001b[2K\u001b[22A\u001b[2K\u001b[22A\u001b[2K\u001b[22A\u001b[2K\u001b[22A\u001b[2K\u001b[22A\u001b[2K\u001b[22A\u001b[2K\u001b[22A\u001b[2K\u001b[22A\u001b[2K\u001b[22A\u001b[2K\u001b[22A\u001b[2K\u001b[22A\u001b[2K\u001b[22A\u001b[2K\u001b[22A\u001b[2K\u001b[22A\u001b[2K\u001b[22A\u001b[2K\u001b[22A\u001b[2K\u001b[22A\u001b[2K\u001b[22A\u001b[2K\u001b[22A\u001b[2K\u001b[22A\u001b[2K\u001b[22A\u001b[2K\u001b[22A\u001b[2K\u001b[22A\u001b[2K\u001b[22A\u001b[2K\u001b[22A\u001b[2K\u001b[22A\u001b[2K\u001b[22A\u001b[2K\u001b[22A\u001b[2K\u001b[22A\u001b[2K\u001b[22A\u001b[2K\u001b[22A\u001b[2K\u001b[22A\u001b[2K\u001b[22A\u001b[2K\u001b[22A\u001b[2K\u001b[22A\u001b[2K\u001b[22A\u001b[2K\u001b[22A\u001b[2K\u001b[22A\u001b[2K\u001b[22A\u001b[2K\u001b[22A\u001b[2K\u001b[22A\u001b[2K\u001b[22A\u001b[2K\u001b[22A\u001b[2K\u001b[22A\u001b[2K\u001b[22A\u001b[2K\u001b[22A\u001b[2K\u001b[22A\u001b[2K\u001b[22A\u001b[2K\u001b[22A\u001b[2K\u001b[22A\u001b[2K\u001b[22A\u001b[2K\u001b[22A\u001b[2K\u001b[22A\u001b[2K\u001b[22A\u001b[2K\u001b[22A\u001b[2K\u001b[22A\u001b[2K\u001b[22A\u001b[2K\u001b[22A\u001b[2K\u001b[22A\u001b[2K\u001b[22A\u001b[2K\u001b[22A\u001b[2K\u001b[22A\u001b[2K\u001b[22A\u001b[2K\u001b[22A\u001b[2K\u001b[22A\u001b[2K\u001b[22A\u001b[2K\u001b[22A\u001b[2K\u001b[22A\u001b[2K\u001b[22A\u001b[2K\u001b[22A\u001b[2K\u001b[22A\u001b[2K\u001b[22A\u001b[2K\u001b[22A\u001b[2K\u001b[22A\u001b[2K\u001b[22A\u001b[2K\u001b[22A\u001b[2K\u001b[22A\u001b[2K\u001b[22A\u001b[2K\u001b[22A\u001b[2K\u001b[22A\u001b[2K\u001b[22A\u001b[2K\u001b[22A\u001b[2K\u001b[22A\u001b[2K\u001b[22A\u001b[2K\u001b[22A\u001b[2K\u001b[22A\u001b[2K\u001b[22A\u001b[2K\u001b[22A\u001b[2K\u001b[22A\u001b[2K\u001b[22A\u001b[2K\u001b[22A\u001b[2K\u001b[22A\u001b[2K\u001b[22A\u001b[2K\u001b[22A\u001b[2K\u001b[22A\u001b[2K\u001b[22A\u001b[2K\u001b[22A\u001b[2K\u001b[22A\u001b[2K\u001b[22A\u001b[2K\u001b[22A\u001b[2K\u001b[22A\u001b[2K\u001b[22A\u001b[2K\u001b[22A\u001b[2K\u001b[22A\u001b[2K\u001b[22A\u001b[2K\u001b[22A\u001b[2K\u001b[22A\u001b[2K\u001b[22A\u001b[2K\u001b[22A\u001b[2K\u001b[22A\u001b[2K\u001b[22A\u001b[2K\u001b[22A\u001b[2K\u001b[22A\u001b[2K\u001b[22A\u001b[2K\u001b[22A\u001b[2K\u001b[22A\u001b[2K\u001b[22A\u001b[2K\u001b[22A\u001b[2K\u001b[22A\u001b[2K\u001b[22A\u001b[2K\u001b[22A\u001b[2K\u001b[22A\u001b[2K\u001b[22A\u001b[2K\u001b[22A\u001b[2K\u001b[22A\u001b[2K\u001b[22A\u001b[2K\u001b[22A\u001b[2K\u001b[22A\u001b[2K\u001b[22A\u001b[2K\u001b[22A\u001b[2K\u001b[22A\u001b[2K\u001b[22A\u001b[2K\u001b[22A\u001b[2K\u001b[22A\u001b[2K\u001b[22A\u001b[2K\u001b[22A\u001b[2K\u001b[22A\u001b[2K\u001b[22A\u001b[2K\u001b[22A\u001b[2K\u001b[22A\u001b[2K\u001b[22A\u001b[2K\u001b[22A\u001b[2K\u001b[22A\u001b[2K\u001b[22A\u001b[2K\u001b[22A\u001b[2K\u001b[22A\u001b[2K\u001b[22A\u001b[2K\u001b[22A\u001b[2K\u001b[22A\u001b[2K\u001b[22A\u001b[2K\u001b[22A\u001b[2K\u001b[22A\u001b[2K\u001b[22A\u001b[2K\u001b[22A\u001b[2K\u001b[22A\u001b[2K\u001b[22A\u001b[2K\u001b[22A\u001b[2K\u001b[22A\u001b[2K\u001b[22A\u001b[2K\u001b[22A\u001b[2K\u001b[22A\u001b[2K\u001b[22A\u001b[2K\u001b[22A\u001b[2K\u001b[22A\u001b[2K\u001b[22A\u001b[2K\u001b[22A\u001b[2K\u001b[22A\u001b[2K\u001b[22A\u001b[2K\u001b[22A\u001b[2K\u001b[22A\u001b[2K\u001b[22A\u001b[2K\u001b[22A\u001b[2K\u001b[22A\u001b[2K\u001b[22A\u001b[2K\u001b[22A\u001b[2K\u001b[22A\u001b[2K\u001b[22A\u001b[2K\u001b[22A\u001b[2K\u001b[22A\u001b[2K\u001b[22A\u001b[2K\u001b[22A\u001b[2K\u001b[22A\u001b[2K\u001b[22A\u001b[2K\u001b[22A\u001b[2K\u001b[22A\u001b[2K\u001b[22A\u001b[2K\u001b[22A\u001b[2K\u001b[22A\u001b[2K\u001b[22A\u001b[2K\u001b[22A\u001b[2K\u001b[22A\u001b[2K\u001b[22A\u001b[2K\u001b[22A\u001b[2K\u001b[22A\u001b[2K\u001b[22A\u001b[2K\u001b[22A\u001b[2K\u001b[22A\u001b[2K\u001b[22A\u001b[2K\u001b[22A\u001b[2K\u001b[22A\u001b[2K\u001b[22A\u001b[2K\u001b[22A\u001b[2K\u001b[22A\u001b[2K\u001b[22A\u001b[2K\u001b[22A\u001b[2K\u001b[22A\u001b[2K\u001b[22A\u001b[2K\u001b[22A\u001b[2K\u001b[22A\u001b[2K\u001b[22A\u001b[2K\u001b[22A\u001b[2K\u001b[22A\u001b[2K\u001b[22A\u001b[2K\u001b[22A\u001b[2K\u001b[22A\u001b[2K\u001b[22A\u001b[2K\u001b[22A\u001b[2K\u001b[22A\u001b[2K\u001b[22A\u001b[2K\u001b[22A\u001b[2K\u001b[22A\u001b[2K\u001b[22A\u001b[2K\u001b[22A\u001b[2K\u001b[22A\u001b[2K\u001b[22A\u001b[2K\u001b[22A\u001b[2K\u001b[22A\u001b[2K\u001b[22A\u001b[2K\u001b[22A\u001b[2K\u001b[22A\u001b[2K\u001b[22A\u001b[2K\u001b[22A\u001b[2K\u001b[22A\u001b[2K\u001b[22A\u001b[2K\u001b[22A\u001b[2K\u001b[22A\u001b[2K\u001b[22A\u001b[2K\u001b[22A\u001b[2K\u001b[22A\u001b[2K\u001b[22A\u001b[2K\u001b[22A\u001b[2K\u001b[22A\u001b[2K\u001b[22A\u001b[2K\u001b[22A\u001b[2K\u001b[22A\u001b[2K\u001b[22A\u001b[2K\u001b[22A\u001b[2K\u001b[22A\u001b[2K\u001b[22A\u001b[2K\u001b[22A\u001b[2K\u001b[22A\u001b[2K\u001b[22A\u001b[2K\u001b[22A\u001b[2K\u001b[22A\u001b[2K\u001b[22A\u001b[2K\u001b[22A\u001b[2K\u001b[22A\u001b[2K\u001b[22A\u001b[2K\u001b[22A\u001b[2K\u001b[22A\u001b[2K\u001b[22A\u001b[2K\u001b[22A\u001b[2K\u001b[22A\u001b[2K\u001b[22A\u001b[2K\u001b[22A\u001b[2K\u001b[22A\u001b[2K\u001b[22A\u001b[2K\u001b[22A\u001b[2K\u001b[22A\u001b[2K\u001b[22A\u001b[2K\u001b[22A\u001b[2K\u001b[22A\u001b[2K\u001b[22A\u001b[2K\u001b[22A\u001b[2K\u001b[22A\u001b[2K\u001b[22A\u001b[2K\u001b[22A\u001b[2K\u001b[22A\u001b[2K\u001b[22A\u001b[2K\u001b[22A\u001b[2K\u001b[22A\u001b[2K\u001b[22A\u001b[2K\u001b[22A\u001b[2K\u001b[22A\u001b[2K\u001b[22A\u001b[2K\u001b[22A\u001b[2K\u001b[22A\u001b[2K\u001b[22A\u001b[2K\u001b[22A\u001b[2K\u001b[22A\u001b[2K\u001b[22A\u001b[2K\u001b[22A\u001b[2K\u001b[22A\u001b[2K\u001b[22A\u001b[2K\u001b[22A\u001b[2K\u001b[22A\u001b[2K\u001b[22A\u001b[2K\u001b[22A\u001b[2K\u001b[22A\u001b[2K\u001b[22A\u001b[2K\u001b[22A\u001b[2K\u001b[22A\u001b[2K\u001b[22A\u001b[2K\u001b[22A\u001b[2K\u001b[22A\u001b[2K\u001b[22A\u001b[2K\u001b[22A\u001b[2K\u001b[22A\u001b[2K\u001b[22A\u001b[2K\u001b[22A\u001b[2K\u001b[22A\u001b[2K\u001b[22A\u001b[2K\u001b[22A\u001b[2K\u001b[22A\u001b[2K\u001b[22A\u001b[2K\u001b[22A\u001b[2K\u001b[22A\u001b[2K\u001b[22A\u001b[2K\u001b[22A\u001b[2K\u001b[22A\u001b[2K\u001b[22A\u001b[2K\u001b[22A\u001b[2K\u001b[22A\u001b[2K\u001b[22A\u001b[2K\u001b[22A\u001b[2K\u001b[22A\u001b[2K\u001b[22A\u001b[2K\u001b[22A\u001b[2K\u001b[22A\u001b[2K\u001b[22A\u001b[2K\u001b[22A\u001b[2K\u001b[22A\u001b[2K\u001b[22A\u001b[2K\u001b[22A\u001b[2K\u001b[22A\u001b[2K\u001b[22A\u001b[2K\u001b[21A\u001b[2K\u001b[21A\u001b[2K\u001b[21A\u001b[2K\u001b[21A\u001b[2K\u001b[21A\u001b[2K\u001b[21A\u001b[2K\u001b[21A\u001b[2K\u001b[21A\u001b[2K\u001b[21A\u001b[2K\u001b[21A\u001b[2K\u001b[21A\u001b[2K\u001b[21A\u001b[2K\u001b[21A\u001b[2K\u001b[21A\u001b[2K\u001b[21A\u001b[2K\u001b[21A\u001b[2K\u001b[21A\u001b[2K\u001b[21A\u001b[2K\u001b[21A\u001b[2K\u001b[21A\u001b[2K\u001b[21A\u001b[2K\u001b[21A\u001b[2K\u001b[21A\u001b[2K\u001b[21A\u001b[2K\u001b[21A\u001b[2K\u001b[21A\u001b[2K\u001b[21A\u001b[2K\u001b[21A\u001b[2K\u001b[21A\u001b[2K\u001b[21A\u001b[2K\u001b[21A\u001b[2K\u001b[21A\u001b[2K\u001b[21A\u001b[2K\u001b[21A\u001b[2K\u001b[21A\u001b[2K\u001b[21A\u001b[2K\u001b[21A\u001b[2K\u001b[21A\u001b[2K\u001b[21A\u001b[2K\u001b[21A\u001b[2K\u001b[21A\u001b[2K\u001b[21A\u001b[2K\u001b[21A\u001b[2K\u001b[21A\u001b[2K\u001b[21A\u001b[2K\u001b[21A\u001b[2K\u001b[21A\u001b[2K\u001b[21A\u001b[2K\u001b[21A\u001b[2K\u001b[21A\u001b[2K\u001b[21A\u001b[2K\u001b[21A\u001b[2K\u001b[21A\u001b[2K\u001b[21A\u001b[2K\u001b[21A\u001b[2K\u001b[21A\u001b[2K\u001b[21A\u001b[2K\u001b[21A\u001b[2K\u001b[21A\u001b[2K\u001b[21A\u001b[2K\u001b[21A\u001b[2K\u001b[21A\u001b[2K\u001b[21A\u001b[2K\u001b[21A\u001b[2K\u001b[21A\u001b[2K\u001b[21A\u001b[2K\u001b[21A\u001b[2K\u001b[21A\u001b[2K\u001b[21A\u001b[2K\u001b[21A\u001b[2K\u001b[21A\u001b[2K\u001b[21A\u001b[2K\u001b[21A\u001b[2K\u001b[21A\u001b[2K\u001b[21A\u001b[2K\u001b[21A\u001b[2K\u001b[21A\u001b[2K\u001b[21A\u001b[2K\u001b[21A\u001b[2K\u001b[21A\u001b[2K\u001b[21A\u001b[2K\u001b[21A\u001b[2K\u001b[21A\u001b[2K\u001b[21A\u001b[2K\u001b[21A\u001b[2K\u001b[21A\u001b[2K\u001b[21A\u001b[2K\u001b[21A\u001b[2K\u001b[21A\u001b[2K\u001b[21A\u001b[2K\u001b[21A\u001b[2K\u001b[21A\u001b[2K\u001b[21A\u001b[2K\u001b[21A\u001b[2K\u001b[21A\u001b[2K\u001b[21A\u001b[2K\u001b[21A\u001b[2K\u001b[21A\u001b[2K\u001b[21A\u001b[2K\u001b[21A\u001b[2K\u001b[21A\u001b[2K\u001b[21A\u001b[2K\u001b[21A\u001b[2K\u001b[21A\u001b[2K\u001b[21A\u001b[2K\u001b[21A\u001b[2K\u001b[21A\u001b[2K\u001b[21A\u001b[2K\u001b[21A\u001b[2K\u001b[21A\u001b[2K\u001b[21A\u001b[2K\u001b[21A\u001b[2K\u001b[21A\u001b[2K\u001b[21A\u001b[2K\u001b[21A\u001b[2K\u001b[21A\u001b[2K\u001b[21A\u001b[2K\u001b[21A\u001b[2K\u001b[21A\u001b[2K\u001b[21A\u001b[2K\u001b[21A\u001b[2K\u001b[21A\u001b[2K\u001b[21A\u001b[2K\u001b[21A\u001b[2K\u001b[21A\u001b[2K\u001b[21A\u001b[2K\u001b[21A\u001b[2K\u001b[21A\u001b[2K\u001b[21A\u001b[2K\u001b[21A\u001b[2K\u001b[21A\u001b[2K\u001b[21A\u001b[2K\u001b[21A\u001b[2K\u001b[21A\u001b[2K\u001b[21A\u001b[2K\u001b[21A\u001b[2K\u001b[21A\u001b[2K\u001b[21A\u001b[2K\u001b[21A\u001b[2K\u001b[21A\u001b[2K\u001b[21A\u001b[2K\u001b[21A\u001b[2K\u001b[21A\u001b[2K\u001b[21A\u001b[2K\u001b[21A\u001b[2K\u001b[21A\u001b[2K\u001b[21A\u001b[2K\u001b[21A\u001b[2K\u001b[21A\u001b[2K\u001b[21A\u001b[2K\u001b[21A\u001b[2K\u001b[21A\u001b[2K\u001b[21A\u001b[2K\u001b[21A\u001b[2K\u001b[21A\u001b[2K\u001b[21A\u001b[2K\u001b[21A\u001b[2K\u001b[21A\u001b[2K\u001b[21A\u001b[2K\u001b[21A\u001b[2K\u001b[21A\u001b[2K\u001b[21A\u001b[2K\u001b[21A\u001b[2K\u001b[21A\u001b[2K\u001b[21A\u001b[2K\u001b[21A\u001b[2K\u001b[21A\u001b[2K\u001b[21A\u001b[2K\u001b[21A\u001b[2K\u001b[21A\u001b[2K\u001b[21A\u001b[2K\u001b[21A\u001b[2K\u001b[21A\u001b[2K\u001b[21A\u001b[2K\u001b[21A\u001b[2K\u001b[21A\u001b[2K\u001b[21A\u001b[2K\u001b[21A\u001b[2K\u001b[21A\u001b[2K\u001b[21A\u001b[2K\u001b[21A\u001b[2K\u001b[21A\u001b[2K\u001b[21A\u001b[2K\u001b[21A\u001b[2K\u001b[21A\u001b[2K\u001b[21A\u001b[2K\u001b[21A\u001b[2K\u001b[21A\u001b[2K\u001b[21A\u001b[2K\u001b[21A\u001b[2K\u001b[21A\u001b[2K\u001b[21A\u001b[2K\u001b[21A\u001b[2K\u001b[21A\u001b[2K\u001b[21A\u001b[2K\u001b[21A\u001b[2K\u001b[21A\u001b[2K\u001b[21A\u001b[2K\u001b[21A\u001b[2K\u001b[21A\u001b[2K\u001b[21A\u001b[2K\u001b[21A\u001b[2K\u001b[21A\u001b[2K\u001b[21A\u001b[2K\u001b[21A\u001b[2K\u001b[21A\u001b[2K\u001b[21A\u001b[2K\u001b[21A\u001b[2K\u001b[21A\u001b[2K\u001b[21A\u001b[2K\u001b[21A\u001b[2K\u001b[21A\u001b[2K\u001b[21A\u001b[2K\u001b[21A\u001b[2K\u001b[21A\u001b[2K\u001b[21A\u001b[2K\u001b[21A\u001b[2K\u001b[21A\u001b[2K\u001b[21A\u001b[2K\u001b[21A\u001b[2K\u001b[21A\u001b[2K\u001b[21A\u001b[2K\u001b[21A\u001b[2K\u001b[21A\u001b[2K\u001b[21A\u001b[2K\u001b[21A\u001b[2K\u001b[21A\u001b[2K\u001b[21A\u001b[2K\u001b[21A\u001b[2K\u001b[21A\u001b[2K\u001b[21A\u001b[2K\u001b[21A\u001b[2K\u001b[21A\u001b[2K\u001b[21A\u001b[2K\u001b[21A\u001b[2K\u001b[21A\u001b[2K\u001b[21A\u001b[2K\u001b[21A\u001b[2K\u001b[21A\u001b[2K\u001b[21A\u001b[2K\u001b[21A\u001b[2K\u001b[21A\u001b[2K\u001b[21A\u001b[2K\u001b[21A\u001b[2K\u001b[21A\u001b[2K\u001b[21A\u001b[2K\u001b[21A\u001b[2K\u001b[21A\u001b[2K\u001b[21A\u001b[2K\u001b[21A\u001b[2K\u001b[21A\u001b[2K\u001b[21A\u001b[2K\u001b[21A\u001b[2K\u001b[21A\u001b[2K\u001b[21A\u001b[2K\u001b[21A\u001b[2K\u001b[21A\u001b[2K\u001b[21A\u001b[2K\u001b[21A\u001b[2K\u001b[21A\u001b[2K\u001b[21A\u001b[2K\u001b[21A\u001b[2K\u001b[21A\u001b[2K\u001b[21A\u001b[2K\u001b[21A\u001b[2K\u001b[21A\u001b[2K\u001b[21A\u001b[2K\u001b[21A\u001b[2K\u001b[21A\u001b[2K\u001b[21A\u001b[2K\u001b[21A\u001b[2K\u001b[21A\u001b[2K\u001b[21A\u001b[2K\u001b[21A\u001b[2K\u001b[21A\u001b[2K\u001b[21A\u001b[2K\u001b[21A\u001b[2K\u001b[21A\u001b[2K\u001b[21A\u001b[2K\u001b[21A\u001b[2K\u001b[21A\u001b[2K\u001b[21A\u001b[2K\u001b[21A\u001b[2K\u001b[21A\u001b[2K\u001b[21A\u001b[2K\u001b[21A\u001b[2K\u001b[21A\u001b[2K\u001b[21A\u001b[2K\u001b[21A\u001b[2K\u001b[21A\u001b[2K\u001b[21A\u001b[2K\u001b[21A\u001b[2K\u001b[21A\u001b[2K\u001b[21A\u001b[2K\u001b[21A\u001b[2K\u001b[21A\u001b[2K\u001b[21A\u001b[2K\u001b[21A\u001b[2K\u001b[21A\u001b[2K\u001b[21A\u001b[2K\u001b[21A\u001b[2K\u001b[21A\u001b[2K\u001b[21A\u001b[2K\u001b[21A\u001b[2K\u001b[21A\u001b[2K\u001b[21A\u001b[2K\u001b[21A\u001b[2K\u001b[21A\u001b[2K\u001b[21A\u001b[2K\u001b[21A\u001b[2K\u001b[21A\u001b[2K\u001b[21A\u001b[2K\u001b[21A\u001b[2K\u001b[21A\u001b[2K\u001b[21A\u001b[2K\u001b[21A\u001b[2K\u001b[21A\u001b[2K\u001b[21A\u001b[2KExtracting  419.5MB/611.9MB\u001b[21A\u001b[2K\u001b[21A\u001b[2K\u001b[21A\u001b[2K\u001b[21A\u001b[2K\u001b[21A\u001b[2K\u001b[21A\u001b[2K\u001b[21A\u001b[2K\u001b[21A\u001b[2K\u001b[21A\u001b[2K\u001b[21A\u001b[2K\u001b[21A\u001b[2K\u001b[21A\u001b[2K\u001b[21A\u001b[2K\u001b[21A\u001b[2K\u001b[21A\u001b[2K\u001b[21A\u001b[2K\u001b[21A\u001b[2K\u001b[21A\u001b[2K\u001b[21A\u001b[2K\u001b[21A\u001b[2K\u001b[21A\u001b[2K\u001b[21A\u001b[2K\u001b[21A\u001b[2K\u001b[21A\u001b[2K\u001b[21A\u001b[2K\u001b[21A\u001b[2K\u001b[21A\u001b[2K\u001b[21A\u001b[2K\u001b[21A\u001b[2K\u001b[21A\u001b[2K\u001b[21A\u001b[2K\u001b[21A\u001b[2K\u001b[21A\u001b[2K\u001b[21A\u001b[2K\u001b[21A\u001b[2K\u001b[21A\u001b[2K\u001b[21A\u001b[2K\u001b[21A\u001b[2K\u001b[21A\u001b[2K\u001b[21A\u001b[2K\u001b[21A\u001b[2K\u001b[21A\u001b[2K\u001b[21A\u001b[2K\u001b[21A\u001b[2K\u001b[21A\u001b[2K\u001b[21A\u001b[2K\u001b[21A\u001b[2K\u001b[21A\u001b[2K\u001b[21A\u001b[2K\u001b[21A\u001b[2K\u001b[21A\u001b[2K\u001b[21A\u001b[2K\u001b[21A\u001b[2K\u001b[21A\u001b[2K\u001b[21A\u001b[2K\u001b[21A\u001b[2K\u001b[21A\u001b[2K\u001b[21A\u001b[2K\u001b[21A\u001b[2K\u001b[21A\u001b[2K\u001b[21A\u001b[2K\u001b[21A\u001b[2K\u001b[21A\u001b[2K\u001b[21A\u001b[2K\u001b[21A\u001b[2K\u001b[21A\u001b[2K\u001b[21A\u001b[2K\u001b[21A\u001b[2K\u001b[21A\u001b[2K\u001b[21A\u001b[2K\u001b[21A\u001b[2K\u001b[21A\u001b[2K\u001b[21A\u001b[2K\u001b[21A\u001b[2K\u001b[21A\u001b[2K\u001b[21A\u001b[2K\u001b[21A\u001b[2K\u001b[21A\u001b[2K\u001b[21A\u001b[2K\u001b[21A\u001b[2K\u001b[21A\u001b[2K\u001b[21A\u001b[2K\u001b[21A\u001b[2K\u001b[21A\u001b[2K\u001b[21A\u001b[2K\u001b[20A\u001b[2K\u001b[20A\u001b[2K\u001b[20A\u001b[2K\u001b[20A\u001b[2K\u001b[20A\u001b[2K\u001b[20A\u001b[2K\u001b[20A\u001b[2K\u001b[20A\u001b[2K\u001b[20A\u001b[2K\u001b[20A\u001b[2K\u001b[20A\u001b[2K\u001b[20A\u001b[2K\u001b[20A\u001b[2K\u001b[20A\u001b[2K\u001b[20A\u001b[2K\u001b[20A\u001b[2K\u001b[20A\u001b[2K\u001b[20A\u001b[2K\u001b[20A\u001b[2K\u001b[20A\u001b[2K\u001b[20A\u001b[2K\u001b[20A\u001b[2K\u001b[20A\u001b[2K\u001b[20A\u001b[2K\u001b[20A\u001b[2K\u001b[20A\u001b[2K\u001b[20A\u001b[2K\u001b[20A\u001b[2K\u001b[20A\u001b[2K\u001b[20A\u001b[2K\u001b[20A\u001b[2K\u001b[20A\u001b[2K\u001b[20A\u001b[2K\u001b[20A\u001b[2K\u001b[20A\u001b[2K\u001b[20A\u001b[2K\u001b[20A\u001b[2K\u001b[20A\u001b[2K\u001b[20A\u001b[2K\u001b[20A\u001b[2K\u001b[20A\u001b[2K\u001b[20A\u001b[2K\u001b[20A\u001b[2K\u001b[20A\u001b[2K\u001b[20A\u001b[2K\u001b[20A\u001b[2K\u001b[20A\u001b[2K\u001b[20A\u001b[2K\u001b[20A\u001b[2K\u001b[20A\u001b[2K\u001b[20A\u001b[2K\u001b[20A\u001b[2K\u001b[20A\u001b[2K\u001b[20A\u001b[2K\u001b[20A\u001b[2K\u001b[20A\u001b[2K\u001b[20A\u001b[2K\u001b[20A\u001b[2K\u001b[20A\u001b[2K\u001b[20A\u001b[2K\u001b[20A\u001b[2K\u001b[20A\u001b[2K\u001b[20A\u001b[2K\u001b[20A\u001b[2K\u001b[20A\u001b[2K\u001b[20A\u001b[2K\u001b[20A\u001b[2K\u001b[20A\u001b[2K\u001b[20A\u001b[2K\u001b[20A\u001b[2K\u001b[20A\u001b[2K\u001b[20A\u001b[2K\u001b[20A\u001b[2K\u001b[20A\u001b[2K\u001b[20A\u001b[2K\u001b[20A\u001b[2K\u001b[20A\u001b[2K\u001b[20A\u001b[2K\u001b[20A\u001b[2K\u001b[20A\u001b[2K\u001b[20A\u001b[2K\u001b[20A\u001b[2K\u001b[20A\u001b[2K\u001b[20A\u001b[2K\u001b[20A\u001b[2K\u001b[20A\u001b[2K\u001b[20A\u001b[2K\u001b[20A\u001b[2K\u001b[20A\u001b[2K\u001b[20A\u001b[2K\u001b[20A\u001b[2K\u001b[20A\u001b[2K\u001b[20A\u001b[2K\u001b[20A\u001b[2K\u001b[20A\u001b[2K\u001b[20A\u001b[2K\u001b[20A\u001b[2K\u001b[20A\u001b[2K\u001b[20A\u001b[2K\u001b[20A\u001b[2K\u001b[20A\u001b[2K\u001b[20A\u001b[2K\u001b[20A\u001b[2K\u001b[20A\u001b[2K\u001b[20A\u001b[2K\u001b[20A\u001b[2K\u001b[20A\u001b[2K\u001b[20A\u001b[2K\u001b[20A\u001b[2K\u001b[20A\u001b[2K\u001b[20A\u001b[2K\u001b[20A\u001b[2K\u001b[20A\u001b[2K\u001b[20A\u001b[2K\u001b[20A\u001b[2K\u001b[20A\u001b[2K\u001b[20A\u001b[2K\u001b[20A\u001b[2K\u001b[20A\u001b[2K\u001b[20A\u001b[2K\u001b[20A\u001b[2K\u001b[20A\u001b[2K\u001b[20A\u001b[2K\u001b[20A\u001b[2K\u001b[20A\u001b[2K\u001b[20A\u001b[2K\u001b[20A\u001b[2K\u001b[20A\u001b[2K\u001b[20A\u001b[2K\u001b[20A\u001b[2K\u001b[20A\u001b[2K\u001b[20A\u001b[2K\u001b[20A\u001b[2K\u001b[20A\u001b[2K\u001b[20A\u001b[2K\u001b[20A\u001b[2K\u001b[20A\u001b[2K\u001b[20A\u001b[2K\u001b[20A\u001b[2K\u001b[20A\u001b[2K\u001b[20A\u001b[2K\u001b[20A\u001b[2K\u001b[20A\u001b[2K\u001b[20A\u001b[2K\u001b[20A\u001b[2K\u001b[20A\u001b[2K\u001b[20A\u001b[2K\u001b[20A\u001b[2K\u001b[20A\u001b[2K\u001b[20A\u001b[2K\u001b[20A\u001b[2K\u001b[20A\u001b[2K\u001b[20A\u001b[2K\u001b[20A\u001b[2K\u001b[20A\u001b[2K\u001b[20A\u001b[2K\u001b[20A\u001b[2K\u001b[20A\u001b[2K\u001b[20A\u001b[2K\u001b[20A\u001b[2K\u001b[20A\u001b[2K\u001b[20A\u001b[2K\u001b[20A\u001b[2K\u001b[20A\u001b[2K\u001b[20A\u001b[2K\u001b[20A\u001b[2K\u001b[20A\u001b[2K\u001b[20A\u001b[2K\u001b[20A\u001b[2K\u001b[20A\u001b[2K\u001b[20A\u001b[2K\u001b[20A\u001b[2K\u001b[20A\u001b[2K\u001b[20A\u001b[2K\u001b[20A\u001b[2K\u001b[20A\u001b[2K\u001b[20A\u001b[2K\u001b[20A\u001b[2K\u001b[20A\u001b[2K\u001b[20A\u001b[2K\u001b[20A\u001b[2K\u001b[20A\u001b[2K\u001b[20A\u001b[2K\u001b[20A\u001b[2K\u001b[20A\u001b[2K\u001b[20A\u001b[2K\u001b[20A\u001b[2K\u001b[20A\u001b[2K\u001b[20A\u001b[2K\u001b[20A\u001b[2K\u001b[20A\u001b[2K\u001b[20A\u001b[2K\u001b[20A\u001b[2K\u001b[20A\u001b[2K\u001b[20A\u001b[2K\u001b[20A\u001b[2K\u001b[20A\u001b[2K\u001b[20A\u001b[2K\u001b[20A\u001b[2K\u001b[20A\u001b[2K\u001b[20A\u001b[2K\u001b[20A\u001b[2K\u001b[20A\u001b[2K\u001b[20A\u001b[2K\u001b[20A\u001b[2K\u001b[20A\u001b[2K\u001b[20A\u001b[2K\u001b[20A\u001b[2K\u001b[20A\u001b[2K\u001b[20A\u001b[2K\u001b[20A\u001b[2K\u001b[20A\u001b[2K\u001b[20A\u001b[2K\u001b[19A\u001b[2K\u001b[19A\u001b[2K\u001b[19A\u001b[2K\u001b[18A\u001b[2K\u001b[18A\u001b[2K\u001b[18A\u001b[2K\u001b[18A\u001b[2K\u001b[18A\u001b[2K\u001b[18A\u001b[2K\u001b[17A\u001b[2K\u001b[17A\u001b[2K\u001b[16A\u001b[2K\u001b[16A\u001b[2K\u001b[15A\u001b[2K\u001b[15A\u001b[2K\u001b[14A\u001b[2K\u001b[14A\u001b[2K\u001b[14A\u001b[2K\u001b[14A\u001b[2K\u001b[14A\u001b[2K\u001b[14A\u001b[2K\u001b[14A\u001b[2K\u001b[14A\u001b[2K\u001b[13A\u001b[2K\u001b[12A\u001b[2K\u001b[11A\u001b[2K\u001b[11A\u001b[2K\u001b[11A\u001b[2K\u001b[11A\u001b[2K\u001b[10A\u001b[2K\u001b[9A\u001b[2K\u001b[8A\u001b[2K\u001b[8A\u001b[2K\u001b[8A\u001b[2K\u001b[8A\u001b[2K\u001b[8A\u001b[2K\u001b[8A\u001b[2K\u001b[8A\u001b[2K\u001b[8A\u001b[2K\u001b[8A\u001b[2K\u001b[8A\u001b[2K\u001b[8A\u001b[2K\u001b[8A\u001b[2K\u001b[8A\u001b[2K\u001b[8A\u001b[2K\u001b[8A\u001b[2K\u001b[8A\u001b[2K\u001b[8A\u001b[2K\u001b[8A\u001b[2K\u001b[8A\u001b[2K\u001b[8A\u001b[2K\u001b[8A\u001b[2K\u001b[8A\u001b[2K\u001b[8A\u001b[2K\u001b[8A\u001b[2K\u001b[8A\u001b[2K\u001b[8A\u001b[2K\u001b[8A\u001b[2K\u001b[8A\u001b[2K\u001b[8A\u001b[2K\u001b[8A\u001b[2K\u001b[8A\u001b[2K\u001b[8A\u001b[2K\u001b[8A\u001b[2K\u001b[8A\u001b[2K\u001b[8A\u001b[2K\u001b[8A\u001b[2K\u001b[8A\u001b[2K\u001b[8A\u001b[2K\u001b[8A\u001b[2K\u001b[8A\u001b[2K\u001b[8A\u001b[2K\u001b[8A\u001b[2K\u001b[8A\u001b[2K\u001b[8A\u001b[2K\u001b[8A\u001b[2K\u001b[8A\u001b[2K\u001b[8A\u001b[2K\u001b[8A\u001b[2K\u001b[8A\u001b[2K\u001b[8A\u001b[2K\u001b[8A\u001b[2K\u001b[8A\u001b[2K\u001b[8A\u001b[2K\u001b[8A\u001b[2K\u001b[8A\u001b[2K\u001b[8A\u001b[2K\u001b[8A\u001b[2K\u001b[8A\u001b[2K\u001b[8A\u001b[2K\u001b[8A\u001b[2K\u001b[8A\u001b[2K\u001b[8A\u001b[2K\u001b[8A\u001b[2K\u001b[8A\u001b[2K\u001b[8A\u001b[2K\u001b[8A\u001b[2K\u001b[8A\u001b[2K\u001b[8A\u001b[2K\u001b[8A\u001b[2K\u001b[8A\u001b[2K\u001b[8A\u001b[2K\u001b[8A\u001b[2K\u001b[8A\u001b[2K\u001b[8A\u001b[2K\u001b[8A\u001b[2K\u001b[8A\u001b[2K\u001b[8A\u001b[2K\u001b[8A\u001b[2K\u001b[8A\u001b[2K\u001b[8A\u001b[2K\u001b[8A\u001b[2K\u001b[8A\u001b[2K\u001b[8A\u001b[2K\u001b[8A\u001b[2K\u001b[8A\u001b[2K\u001b[8A\u001b[2K\u001b[8A\u001b[2K\u001b[8A\u001b[2K\u001b[8A\u001b[2K\u001b[8A\u001b[2K\u001b[8A\u001b[2K\u001b[8A\u001b[2K\u001b[8A\u001b[2K\u001b[8A\u001b[2K\u001b[8A\u001b[2K\u001b[8A\u001b[2K\u001b[8A\u001b[2K\u001b[8A\u001b[2K\u001b[8A\u001b[2K\u001b[8A\u001b[2K\u001b[8A\u001b[2K\u001b[8A\u001b[2K\u001b[8A\u001b[2K\u001b[8A\u001b[2K\u001b[8A\u001b[2K\u001b[8A\u001b[2K\u001b[8A\u001b[2K\u001b[8A\u001b[2K\u001b[8A\u001b[2K\u001b[8A\u001b[2K\u001b[8A\u001b[2K\u001b[8A\u001b[2K\u001b[8A\u001b[2K\u001b[8A\u001b[2K\u001b[8A\u001b[2K\u001b[8A\u001b[2K\u001b[8A\u001b[2K\u001b[8A\u001b[2K\u001b[8A\u001b[2K\u001b[8A\u001b[2K\u001b[8A\u001b[2K\u001b[8A\u001b[2K\u001b[8A\u001b[2K\u001b[8A\u001b[2K\u001b[8A\u001b[2K\u001b[8A\u001b[2K\u001b[8A\u001b[2K\u001b[8A\u001b[2K\u001b[8A\u001b[2K\u001b[8A\u001b[2K\u001b[8A\u001b[2K\u001b[8A\u001b[2K\u001b[8A\u001b[2K\u001b[8A\u001b[2K\u001b[8A\u001b[2K\u001b[8A\u001b[2K\u001b[8A\u001b[2K\u001b[8A\u001b[2K\u001b[8A\u001b[2K\u001b[8A\u001b[2K\u001b[8A\u001b[2K\u001b[8A\u001b[2K\u001b[8A\u001b[2K\u001b[8A\u001b[2K\u001b[8A\u001b[2K\u001b[8A\u001b[2K\u001b[8A\u001b[2K\u001b[8A\u001b[2K\u001b[8A\u001b[2K\u001b[8A\u001b[2K\u001b[8A\u001b[2K\u001b[8A\u001b[2K\u001b[8A\u001b[2K\u001b[8A\u001b[2K\u001b[8A\u001b[2K\u001b[8A\u001b[2K\u001b[8A\u001b[2K\u001b[8A\u001b[2K\u001b[8A\u001b[2K\u001b[8A\u001b[2K\u001b[8A\u001b[2K\u001b[8A\u001b[2K\u001b[8A\u001b[2K\u001b[8A\u001b[2K\u001b[8A\u001b[2K\u001b[8A\u001b[2K\u001b[8A\u001b[2K\u001b[8A\u001b[2K\u001b[8A\u001b[2K\u001b[8A\u001b[2K\u001b[8A\u001b[2K\u001b[8A\u001b[2K\u001b[8A\u001b[2K\u001b[8A\u001b[2K\u001b[8A\u001b[2K\u001b[8A\u001b[2K\u001b[8A\u001b[2K\u001b[8A\u001b[2K\u001b[8A\u001b[2K\u001b[8A\u001b[2K\u001b[8A\u001b[2K\u001b[8A\u001b[2K\u001b[8A\u001b[2K\u001b[8A\u001b[2K\u001b[8A\u001b[2K\u001b[8A\u001b[2K\u001b[8A\u001b[2K\u001b[8A\u001b[2K\u001b[8A\u001b[2K\u001b[8A\u001b[2K\u001b[8A\u001b[2K\u001b[8A\u001b[2K\u001b[8A\u001b[2K\u001b[8A\u001b[2K\u001b[8A\u001b[2K\u001b[8A\u001b[2K\u001b[8A\u001b[2K\u001b[8A\u001b[2K\u001b[8A\u001b[2K\u001b[8A\u001b[2K\u001b[8A\u001b[2K\u001b[8A\u001b[2K\u001b[8A\u001b[2K\u001b[8A\u001b[2K\u001b[8A\u001b[2K\u001b[8A\u001b[2K\u001b[8A\u001b[2K\u001b[8A\u001b[2K\u001b[8A\u001b[2K\u001b[8A\u001b[2K\u001b[8A\u001b[2K\u001b[8A\u001b[2K\u001b[8A\u001b[2K\u001b[8A\u001b[2K\u001b[8A\u001b[2K\u001b[8A\u001b[2K\u001b[8A\u001b[2K\u001b[8A\u001b[2K\u001b[8A\u001b[2K\u001b[8A\u001b[2K\u001b[8A\u001b[2K\u001b[8A\u001b[2K\u001b[8A\u001b[2K\u001b[8A\u001b[2K\u001b[8A\u001b[2K\u001b[8A\u001b[2K\u001b[8A\u001b[2K\u001b[8A\u001b[2K\u001b[8A\u001b[2K\u001b[8A\u001b[2K\u001b[8A\u001b[2K\u001b[8A\u001b[2K\u001b[8A\u001b[2K\u001b[8A\u001b[2K\u001b[8A\u001b[2K\u001b[8A\u001b[2K\u001b[8A\u001b[2K\u001b[8A\u001b[2K\u001b[8A\u001b[2K\u001b[8A\u001b[2K\u001b[8A\u001b[2K\u001b[8A\u001b[2K\u001b[8A\u001b[2K\u001b[8A\u001b[2K\u001b[8A\u001b[2K\u001b[8A\u001b[2K\u001b[8A\u001b[2K\u001b[8A\u001b[2K\u001b[8A\u001b[2K\u001b[8A\u001b[2K\u001b[8A\u001b[2K\u001b[8A\u001b[2K\u001b[8A\u001b[2K\u001b[8A\u001b[2K\u001b[8A\u001b[2K\u001b[8A\u001b[2K\u001b[8A\u001b[2K\u001b[8A\u001b[2K\u001b[8A\u001b[2K\u001b[8A\u001b[2K\u001b[8A\u001b[2K\u001b[8A\u001b[2K\u001b[8A\u001b[2K\u001b[8A\u001b[2K\u001b[8A\u001b[2K\u001b[8A\u001b[2K\u001b[8A\u001b[2K\u001b[8A\u001b[2K\u001b[8A\u001b[2K\u001b[8A\u001b[2K\u001b[8A\u001b[2K\u001b[8A\u001b[2K\u001b[8A\u001b[2K\u001b[8A\u001b[2K\u001b[8A\u001b[2K\u001b[8A\u001b[2K\u001b[8A\u001b[2K\u001b[8A\u001b[2K\u001b[8A\u001b[2K\u001b[8A\u001b[2K\u001b[8A\u001b[2K\u001b[8A\u001b[2K\u001b[8A\u001b[2K\u001b[8A\u001b[2K\u001b[8A\u001b[2K\u001b[8A\u001b[2K\u001b[8A\u001b[2K\u001b[8A\u001b[2K\u001b[8A\u001b[2K\u001b[8A\u001b[2K\u001b[8A\u001b[2K\u001b[8A\u001b[2K\u001b[8A\u001b[2K\u001b[8A\u001b[2K\u001b[8A\u001b[2K\u001b[8A\u001b[2K\u001b[8A\u001b[2K\u001b[8A\u001b[2K\u001b[8A\u001b[2K\u001b[8A\u001b[2K\u001b[8A\u001b[2K\u001b[8A\u001b[2K\u001b[8A\u001b[2K\u001b[8A\u001b[2K\u001b[8A\u001b[2K\u001b[8A\u001b[2K\u001b[8A\u001b[2K\u001b[8A\u001b[2K\u001b[8A\u001b[2K\u001b[8A\u001b[2K\u001b[8A\u001b[2K\u001b[8A\u001b[2K\u001b[8A\u001b[2K\u001b[8A\u001b[2K\u001b[8A\u001b[2K\u001b[8A\u001b[2K\u001b[8A\u001b[2K\u001b[8A\u001b[2K\u001b[8A\u001b[2K\u001b[8A\u001b[2K\u001b[8A\u001b[2K\u001b[8A\u001b[2K\u001b[8A\u001b[2K\u001b[8A\u001b[2K\u001b[8A\u001b[2K\u001b[8A\u001b[2K\u001b[8A\u001b[2K\u001b[8A\u001b[2K\u001b[8A\u001b[2K\u001b[8A\u001b[2K\u001b[8A\u001b[2K\u001b[8A\u001b[2K\u001b[8A\u001b[2K\u001b[8A\u001b[2K\u001b[8A\u001b[2K\u001b[8A\u001b[2K\u001b[8A\u001b[2K\u001b[8A\u001b[2K\u001b[8A\u001b[2K\u001b[8A\u001b[2K\u001b[8A\u001b[2K\u001b[8A\u001b[2K\u001b[8A\u001b[2K\u001b[8A\u001b[2K\u001b[8A\u001b[2K\u001b[8A\u001b[2K\u001b[8A\u001b[2K\u001b[8A\u001b[2K\u001b[8A\u001b[2K\u001b[8A\u001b[2K\u001b[8A\u001b[2K\u001b[8A\u001b[2K\u001b[8A\u001b[2K\u001b[8A\u001b[2K\u001b[8A\u001b[2K\u001b[8A\u001b[2K\u001b[8A\u001b[2K\u001b[8A\u001b[2K\u001b[8A\u001b[2K\u001b[8A\u001b[2K\u001b[8A\u001b[2K\u001b[8A\u001b[2K\u001b[8A\u001b[2K\u001b[8A\u001b[2K\u001b[8A\u001b[2K\u001b[8A\u001b[2K\u001b[8A\u001b[2K\u001b[8A\u001b[2K\u001b[8A\u001b[2K\u001b[8A\u001b[2K\u001b[8A\u001b[2K\u001b[8A\u001b[2K\u001b[8A\u001b[2K\u001b[8A\u001b[2K\u001b[8A\u001b[2K\u001b[8A\u001b[2K\u001b[8A\u001b[2K\u001b[8A\u001b[2K\u001b[8A\u001b[2K\u001b[8A\u001b[2K\u001b[8A\u001b[2K\u001b[8A\u001b[2K\u001b[8A\u001b[2K\u001b[8A\u001b[2K\u001b[8A\u001b[2K\u001b[8A\u001b[2K\u001b[8A\u001b[2K\u001b[8A\u001b[2K\u001b[8A\u001b[2K\u001b[8A\u001b[2K\u001b[8A\u001b[2K\u001b[8A\u001b[2K\u001b[8A\u001b[2K\u001b[8A\u001b[2K\u001b[8A\u001b[2K\u001b[8A\u001b[2K\u001b[8A\u001b[2K\u001b[8A\u001b[2K\u001b[8A\u001b[2K\u001b[8A\u001b[2K\u001b[8A\u001b[2K\u001b[8A\u001b[2K\u001b[8A\u001b[2K\u001b[8A\u001b[2K\u001b[8A\u001b[2K\u001b[8A\u001b[2K\u001b[8A\u001b[2K\u001b[8A\u001b[2K\u001b[8A\u001b[2K\u001b[8A\u001b[2K\u001b[8A\u001b[2K\u001b[8A\u001b[2K\u001b[8A\u001b[2K\u001b[8A\u001b[2K\u001b[8A\u001b[2K\u001b[8A\u001b[2K\u001b[8A\u001b[2K\u001b[8A\u001b[2K\u001b[8A\u001b[2K\u001b[8A\u001b[2K\u001b[8A\u001b[2K\u001b[8A\u001b[2K\u001b[8A\u001b[2K\u001b[8A\u001b[2K\u001b[8A\u001b[2K\u001b[8A\u001b[2K\u001b[8A\u001b[2K\u001b[8A\u001b[2K\u001b[8A\u001b[2K\u001b[8A\u001b[2K\u001b[8A\u001b[2K\u001b[8A\u001b[2K\u001b[8A\u001b[2K\u001b[8A\u001b[2K\u001b[8A\u001b[2K\u001b[8A\u001b[2K\u001b[8A\u001b[2K\u001b[8A\u001b[2K\u001b[8A\u001b[2K\u001b[8A\u001b[2K\u001b[8A\u001b[2K\u001b[8A\u001b[2K\u001b[8A\u001b[2K\u001b[8A\u001b[2K\u001b[8A\u001b[2K\u001b[8A\u001b[2K\u001b[8A\u001b[2K\u001b[8A\u001b[2K\u001b[8A\u001b[2K\u001b[8A\u001b[2K\u001b[8A\u001b[2K\u001b[8A\u001b[2K\u001b[8A\u001b[2K\u001b[8A\u001b[2K\u001b[8A\u001b[2K\u001b[8A\u001b[2K\u001b[8A\u001b[2K\u001b[8A\u001b[2K\u001b[8A\u001b[2K\u001b[8A\u001b[2K\u001b[8A\u001b[2K\u001b[8A\u001b[2K\u001b[8A\u001b[2K\u001b[8A\u001b[2K\u001b[8A\u001b[2K\u001b[8A\u001b[2K\u001b[8A\u001b[2K\u001b[8A\u001b[2K\u001b[8A\u001b[2K\u001b[8A\u001b[2K\u001b[8A\u001b[2K\u001b[8A\u001b[2K\u001b[8A\u001b[2K\u001b[8A\u001b[2K\u001b[8A\u001b[2K\u001b[8A\u001b[2K\u001b[8A\u001b[2K\u001b[8A\u001b[2K\u001b[8A\u001b[2K\u001b[8A\u001b[2K\u001b[8A\u001b[2K\u001b[8A\u001b[2K\u001b[8A\u001b[2K\u001b[8A\u001b[2K\u001b[8A\u001b[2K\u001b[8A\u001b[2K\u001b[8A\u001b[2K\u001b[8A\u001b[2K\u001b[8A\u001b[2K\u001b[8A\u001b[2K\u001b[8A\u001b[2K\u001b[8A\u001b[2K\u001b[8A\u001b[2K\u001b[8A\u001b[2K\u001b[8A\u001b[2K\u001b[8A\u001b[2K\u001b[8A\u001b[2K\u001b[8A\u001b[2K\u001b[8A\u001b[2K\u001b[8A\u001b[2K\u001b[8A\u001b[2K\u001b[8A\u001b[2K\u001b[8A\u001b[2K\u001b[8A\u001b[2K\u001b[8A\u001b[2K\u001b[8A\u001b[2K\u001b[8A\u001b[2K\u001b[8A\u001b[2K\u001b[8A\u001b[2K\u001b[8A\u001b[2K\u001b[8A\u001b[2K\u001b[8A\u001b[2K\u001b[8A\u001b[2K\u001b[8A\u001b[2K\u001b[8A\u001b[2K\u001b[8A\u001b[2K\u001b[8A\u001b[2K\u001b[8A\u001b[2K\u001b[8A\u001b[2K\u001b[8A\u001b[2K\u001b[8A\u001b[2K\u001b[8A\u001b[2K\u001b[8A\u001b[2K\u001b[8A\u001b[2K\u001b[8A\u001b[2K\u001b[8A\u001b[2K\u001b[8A\u001b[2K\u001b[8A\u001b[2K\u001b[8A\u001b[2K\u001b[8A\u001b[2K\u001b[8A\u001b[2K\u001b[8A\u001b[2K\u001b[8A\u001b[2K\u001b[8A\u001b[2K\u001b[8A\u001b[2K\u001b[8A\u001b[2K\u001b[8A\u001b[2K\u001b[8A\u001b[2K\u001b[8A\u001b[2K\u001b[8A\u001b[2K\u001b[8A\u001b[2K\u001b[8A\u001b[2K\u001b[8A\u001b[2K\u001b[8A\u001b[2K\u001b[8A\u001b[2K\u001b[8A\u001b[2K\u001b[8A\u001b[2K\u001b[8A\u001b[2K\u001b[8A\u001b[2K\u001b[8A\u001b[2K\u001b[8A\u001b[2K\u001b[8A\u001b[2K\u001b[8A\u001b[2K\u001b[8A\u001b[2K\u001b[8A\u001b[2K\u001b[8A\u001b[2K\u001b[8A\u001b[2K\u001b[8A\u001b[2K\u001b[8A\u001b[2K\u001b[8A\u001b[2K\u001b[8A\u001b[2K\u001b[8A\u001b[2K\u001b[8A\u001b[2K\u001b[8A\u001b[2K\u001b[8A\u001b[2K\u001b[8A\u001b[2K\u001b[8A\u001b[2K\u001b[8A\u001b[2K\u001b[8A\u001b[2K\u001b[8A\u001b[2K\u001b[8A\u001b[2K\u001b[8A\u001b[2K\u001b[8A\u001b[2K\u001b[8A\u001b[2K\u001b[8A\u001b[2K\u001b[8A\u001b[2K\u001b[8A\u001b[2K\u001b[8A\u001b[2K\u001b[8A\u001b[2K\u001b[8A\u001b[2K\u001b[8A\u001b[2K\u001b[8A\u001b[2K\u001b[8A\u001b[2K\u001b[8A\u001b[2K\u001b[8A\u001b[2K\u001b[8A\u001b[2K\u001b[8A\u001b[2K\u001b[8A\u001b[2K\u001b[8A\u001b[2K\u001b[8A\u001b[2K\u001b[8A\u001b[2K\u001b[8A\u001b[2K\u001b[8A\u001b[2K\u001b[8A\u001b[2K\u001b[8A\u001b[2K\u001b[8A\u001b[2K\u001b[8A\u001b[2K\u001b[8A\u001b[2K\u001b[8A\u001b[2K\u001b[8A\u001b[2K\u001b[8A\u001b[2K\u001b[8A\u001b[2K\u001b[8A\u001b[2K\u001b[8A\u001b[2K\u001b[8A\u001b[2K\u001b[8A\u001b[2K\u001b[8A\u001b[2K\u001b[8A\u001b[2K\u001b[8A\u001b[2K\u001b[8A\u001b[2K\u001b[8A\u001b[2K\u001b[8A\u001b[2K\u001b[8A\u001b[2K\u001b[8A\u001b[2K\u001b[8A\u001b[2K\u001b[8A\u001b[2K\u001b[8A\u001b[2K\u001b[8A\u001b[2K\u001b[8A\u001b[2K\u001b[8A\u001b[2K\u001b[8A\u001b[2K\u001b[8A\u001b[2K\u001b[8A\u001b[2K\u001b[8A\u001b[2K\u001b[8A\u001b[2K\u001b[8A\u001b[2K\u001b[8A\u001b[2K\u001b[8A\u001b[2K\u001b[8A\u001b[2K\u001b[8A\u001b[2K\u001b[8A\u001b[2K\u001b[8A\u001b[2K\u001b[8A\u001b[2K\u001b[8A\u001b[2K\u001b[8A\u001b[2K\u001b[8A\u001b[2K\u001b[8A\u001b[2K\u001b[8A\u001b[2K\u001b[8A\u001b[2K\u001b[8A\u001b[2K\u001b[8A\u001b[2K\u001b[8A\u001b[2K\u001b[8A\u001b[2K\u001b[8A\u001b[2K\u001b[8A\u001b[2K\u001b[8A\u001b[2K\u001b[8A\u001b[2K\u001b[8A\u001b[2K\u001b[8A\u001b[2K\u001b[8A\u001b[2K\u001b[8A\u001b[2K\u001b[8A\u001b[2K\u001b[8A\u001b[2K\u001b[8A\u001b[2K\u001b[8A\u001b[2K\u001b[8A\u001b[2K\u001b[8A\u001b[2K\u001b[8A\u001b[2K\u001b[8A\u001b[2K\u001b[8A\u001b[2K\u001b[8A\u001b[2K\u001b[8A\u001b[2K\u001b[8A\u001b[2K\u001b[8A\u001b[2K\u001b[8A\u001b[2K\u001b[8A\u001b[2K\u001b[8A\u001b[2K\u001b[8A\u001b[2K\u001b[8A\u001b[2K\u001b[8A\u001b[2K\u001b[8A\u001b[2K\u001b[8A\u001b[2K\u001b[8A\u001b[2K\u001b[8A\u001b[2K\u001b[8A\u001b[2K\u001b[8A\u001b[2K\u001b[8A\u001b[2K\u001b[8A\u001b[2K\u001b[8A\u001b[2K\u001b[8A\u001b[2K\u001b[8A\u001b[2K\u001b[8A\u001b[2K\u001b[8A\u001b[2K\u001b[8A\u001b[2K\u001b[8A\u001b[2K\u001b[8A\u001b[2K\u001b[8A\u001b[2K\u001b[8A\u001b[2K\u001b[8A\u001b[2K\u001b[8A\u001b[2K\u001b[8A\u001b[2K\u001b[8A\u001b[2K\u001b[8A\u001b[2K\u001b[8A\u001b[2K\u001b[8A\u001b[2K\u001b[8A\u001b[2K\u001b[8A\u001b[2K\u001b[8A\u001b[2K\u001b[8A\u001b[2K\u001b[8A\u001b[2K\u001b[8A\u001b[2K\u001b[8A\u001b[2K\u001b[8A\u001b[2K\u001b[8A\u001b[2K\u001b[8A\u001b[2K\u001b[8A\u001b[2K\u001b[8A\u001b[2K\u001b[8A\u001b[2K\u001b[8A\u001b[2K\u001b[8A\u001b[2K\u001b[8A\u001b[2K\u001b[8A\u001b[2K\u001b[8A\u001b[2K\u001b[8A\u001b[2K\u001b[8A\u001b[2K\u001b[8A\u001b[2K\u001b[8A\u001b[2K\u001b[8A\u001b[2K\u001b[8A\u001b[2K\u001b[8A\u001b[2K\u001b[8A\u001b[2K\u001b[8A\u001b[2K\u001b[8A\u001b[2K\u001b[8A\u001b[2K\u001b[8A\u001b[2K\u001b[8A\u001b[2K\u001b[8A\u001b[2K\u001b[8A\u001b[2K\u001b[8A\u001b[2K\u001b[8A\u001b[2K\u001b[8A\u001b[2K\u001b[8A\u001b[2K\u001b[8A\u001b[2K\u001b[8A\u001b[2K\u001b[8A\u001b[2K\u001b[8A\u001b[2K\u001b[8A\u001b[2K\u001b[8A\u001b[2K\u001b[8A\u001b[2K\u001b[8A\u001b[2K\u001b[8A\u001b[2K\u001b[8A\u001b[2K\u001b[8A\u001b[2K\u001b[8A\u001b[2K\u001b[8A\u001b[2K\u001b[8A\u001b[2K\u001b[8A\u001b[2K\u001b[8A\u001b[2K\u001b[8A\u001b[2K\u001b[8A\u001b[2K\u001b[8A\u001b[2K\u001b[8A\u001b[2K\u001b[8A\u001b[2K\u001b[8A\u001b[2K\u001b[8A\u001b[2K\u001b[8A\u001b[2K\u001b[8A\u001b[2K\u001b[8A\u001b[2K\u001b[8A\u001b[2K\u001b[8A\u001b[2K\u001b[8A\u001b[2K\u001b[8A\u001b[2K\u001b[8A\u001b[2K\u001b[8A\u001b[2K\u001b[8A\u001b[2K\u001b[8A\u001b[2K\u001b[8A\u001b[2K\u001b[8A\u001b[2K\u001b[8A\u001b[2K\u001b[8A\u001b[2K\u001b[8A\u001b[2K\u001b[8A\u001b[2K\u001b[8A\u001b[2K\u001b[8A\u001b[2K\u001b[8A\u001b[2K\u001b[8A\u001b[2K\u001b[8A\u001b[2K\u001b[8A\u001b[2K\u001b[8A\u001b[2K\u001b[8A\u001b[2K\u001b[8A\u001b[2K\u001b[8A\u001b[2K\u001b[8A\u001b[2K\u001b[8A\u001b[2K\u001b[8A\u001b[2K\u001b[8A\u001b[2K\u001b[8A\u001b[2K\u001b[8A\u001b[2K\u001b[8A\u001b[2K\u001b[8A\u001b[2K\u001b[8A\u001b[2K\u001b[8A\u001b[2K\u001b[8A\u001b[2K\u001b[8A\u001b[2K\u001b[8A\u001b[2K\u001b[8A\u001b[2K\u001b[8A\u001b[2K\u001b[8A\u001b[2K\u001b[8A\u001b[2K\u001b[8A\u001b[2K\u001b[8A\u001b[2K\u001b[8A\u001b[2K\u001b[8A\u001b[2K\u001b[8A\u001b[2K\u001b[8A\u001b[2K\u001b[8A\u001b[2K\u001b[8A\u001b[2K\u001b[8A\u001b[2K\u001b[8A\u001b[2K\u001b[8A\u001b[2K\u001b[8A\u001b[2K\u001b[8A\u001b[2K\u001b[8A\u001b[2K\u001b[8A\u001b[2K\u001b[8A\u001b[2K\u001b[8A\u001b[2K\u001b[8A\u001b[2K\u001b[8A\u001b[2K\u001b[8A\u001b[2K\u001b[8A\u001b[2K\u001b[8A\u001b[2K\u001b[8A\u001b[2K\u001b[8A\u001b[2K\u001b[8A\u001b[2K\u001b[8A\u001b[2K\u001b[8A\u001b[2K\u001b[8A\u001b[2K\u001b[8A\u001b[2K\u001b[8A\u001b[2K\u001b[8A\u001b[2K\u001b[8A\u001b[2K\u001b[8A\u001b[2K\u001b[8A\u001b[2K\u001b[8A\u001b[2K\u001b[8A\u001b[2K\u001b[8A\u001b[2K\u001b[8A\u001b[2K\u001b[8A\u001b[2K\u001b[8A\u001b[2K\u001b[8A\u001b[2K\u001b[8A\u001b[2K\u001b[8A\u001b[2K\u001b[8A\u001b[2K\u001b[8A\u001b[2K\u001b[8A\u001b[2K\u001b[8A\u001b[2K\u001b[8A\u001b[2K\u001b[8A\u001b[2K\u001b[8A\u001b[2K\u001b[7A\u001b[2K\u001b[7A\u001b[2K\u001b[7A\u001b[2K\u001b[7A\u001b[2K\u001b[7A\u001b[2K\u001b[7A\u001b[2K\u001b[7A\u001b[2K\u001b[7A\u001b[2K\u001b[7A\u001b[2K\u001b[7A\u001b[2K\u001b[7A\u001b[2K\u001b[7A\u001b[2K\u001b[7A\u001b[2K\u001b[7A\u001b[2K\u001b[7A\u001b[2K\u001b[7A\u001b[2K\u001b[7A\u001b[2K\u001b[7A\u001b[2K\u001b[7A\u001b[2K\u001b[7A\u001b[2K\u001b[7A\u001b[2K\u001b[7A\u001b[2K\u001b[7A\u001b[2K\u001b[7A\u001b[2K\u001b[7A\u001b[2K\u001b[7A\u001b[2K\u001b[7A\u001b[2K\u001b[7A\u001b[2K\u001b[7A\u001b[2K\u001b[7A\u001b[2K\u001b[7A\u001b[2K\u001b[7A\u001b[2K\u001b[7A\u001b[2K\u001b[7A\u001b[2K\u001b[7A\u001b[2K\u001b[7A\u001b[2K\u001b[7A\u001b[2K\u001b[7A\u001b[2K\u001b[7A\u001b[2K\u001b[6A\u001b[2K\u001b[6A\u001b[2K\u001b[5A\u001b[2K\u001b[5A\u001b[2K\u001b[5A\u001b[2K\u001b[4A\u001b[2K\u001b[4A\u001b[2K\u001b[4A\u001b[2K\u001b[4A\u001b[2K\u001b[4A\u001b[2K\u001b[3A\u001b[2K\u001b[3A\u001b[2K\u001b[3A\u001b[2K\u001b[2A\u001b[2K\u001b[2A\u001b[2K\u001b[2A\u001b[2K\u001b[1A\u001b[2K\u001b[1A\u001b[2K\u001b[1A\u001b[2KDigest: sha256:85997ddc6873300bf063392090aa815648dd02d4e45c88336d306415093791a4\n",
      "Status: Downloaded newer image for nvcr.io/nvidia/merlin/merlin-tensorflow:nightly\n",
      " ---> 66128dfca180\n",
      "Step 2/7 : WORKDIR /app\n",
      " ---> Running in 289d73ad0b13\n",
      "Removing intermediate container 289d73ad0b13\n",
      " ---> 2c3e54e5056f\n",
      "Step 3/7 : COPY ./app/requirements.txt /requirements.txt\n",
      " ---> e595cf07bd80\n",
      "Step 4/7 : RUN pip install -r /requirements.txt\n",
      " ---> Running in a8399ab3a852\n",
      "Collecting git+https://github.com/NVIDIA-Merlin/models.git (from -r /requirements.txt (line 4))\n",
      "  Cloning https://github.com/NVIDIA-Merlin/models.git to /tmp/pip-req-build-3z0nyd5o\n",
      "\u001b[91m  Running command git clone -q https://github.com/NVIDIA-Merlin/models.git /tmp/pip-req-build-3z0nyd5o\n",
      "\u001b[0m  Installing build dependencies: started\n",
      "  Installing build dependencies: finished with status 'done'\n",
      "  Getting requirements to build wheel: started\n",
      "  Getting requirements to build wheel: finished with status 'done'\n",
      "    Preparing wheel metadata: started\n",
      "    Preparing wheel metadata: finished with status 'done'\n",
      "Collecting uvicorn[standard]==0.15.0\n",
      "  Downloading uvicorn-0.15.0-py3-none-any.whl (54 kB)\n",
      "Collecting gunicorn==20.1.0\n",
      "  Downloading gunicorn-20.1.0-py3-none-any.whl (79 kB)\n",
      "Collecting fastapi==0.68.1\n",
      "  Downloading fastapi-0.68.1-py3-none-any.whl (52 kB)\n",
      "Requirement already satisfied: nvtabular in /usr/local/lib/python3.8/dist-packages (from -r /requirements.txt (line 5)) (1.6.0+1.gc0636dead)\n",
      "Collecting gcsfs\n",
      "  Downloading gcsfs-2022.10.0-py2.py3-none-any.whl (25 kB)\n",
      "Collecting google-cloud-storage\n",
      "  Downloading google_cloud_storage-2.5.0-py2.py3-none-any.whl (106 kB)\n",
      "Requirement already satisfied: merlin-core>=0.2.0 in /usr/local/lib/python3.8/dist-packages (from merlin-models==0.9.0+9.g9f7ae4e79->-r /requirements.txt (line 4)) (0.8.0+3.g2c621a2)\n",
      "Collecting h11>=0.8\n",
      "  Downloading h11-0.14.0-py3-none-any.whl (58 kB)\n",
      "Collecting asgiref>=3.4.0\n",
      "  Downloading asgiref-3.5.2-py3-none-any.whl (22 kB)\n",
      "Requirement already satisfied: click>=7.0 in /usr/local/lib/python3.8/dist-packages (from uvicorn[standard]==0.15.0->-r /requirements.txt (line 1)) (8.1.3)\n",
      "Collecting httptools==0.2.*; extra == \"standard\"\n",
      "  Downloading httptools-0.2.0-cp38-cp38-manylinux1_x86_64.whl (354 kB)\n",
      "Requirement already satisfied: PyYAML>=5.1; extra == \"standard\" in /usr/local/lib/python3.8/dist-packages (from uvicorn[standard]==0.15.0->-r /requirements.txt (line 1)) (6.0)\n",
      "Collecting python-dotenv>=0.13; extra == \"standard\"\n",
      "  Downloading python_dotenv-0.21.0-py3-none-any.whl (18 kB)\n",
      "Collecting uvloop!=0.15.0,!=0.15.1,>=0.14.0; (sys_platform != \"win32\" and (sys_platform != \"cygwin\" and platform_python_implementation != \"PyPy\")) and extra == \"standard\"\n",
      "  Downloading uvloop-0.17.0-cp38-cp38-manylinux_2_17_x86_64.manylinux2014_x86_64.whl (4.6 MB)\n",
      "Collecting watchgod>=0.6; extra == \"standard\"\n",
      "  Downloading watchgod-0.8.2-py3-none-any.whl (12 kB)\n",
      "Collecting websockets>=9.1; extra == \"standard\"\n",
      "  Downloading websockets-10.3-cp38-cp38-manylinux_2_5_x86_64.manylinux1_x86_64.manylinux_2_12_x86_64.manylinux2010_x86_64.whl (111 kB)\n",
      "Requirement already satisfied: setuptools>=3.0 in /usr/lib/python3/dist-packages (from gunicorn==20.1.0->-r /requirements.txt (line 2)) (45.2.0)\n",
      "Collecting pydantic!=1.7,!=1.7.1,!=1.7.2,!=1.7.3,!=1.8,!=1.8.1,<2.0.0,>=1.6.2\n",
      "  Downloading pydantic-1.10.2-cp38-cp38-manylinux_2_17_x86_64.manylinux2014_x86_64.whl (13.6 MB)\n",
      "Collecting starlette==0.14.2\n",
      "  Downloading starlette-0.14.2-py3-none-any.whl (60 kB)\n",
      "Requirement already satisfied: scipy in /usr/local/lib/python3.8/dist-packages (from nvtabular->-r /requirements.txt (line 5)) (1.9.3)\n",
      "Requirement already satisfied: google-auth-oauthlib in /usr/local/lib/python3.8/dist-packages (from gcsfs->-r /requirements.txt (line 6)) (0.4.6)\n",
      "Collecting fsspec==2022.10.0\n",
      "  Downloading fsspec-2022.10.0-py3-none-any.whl (138 kB)\n",
      "Requirement already satisfied: requests in /usr/lib/python3/dist-packages (from gcsfs->-r /requirements.txt (line 6)) (2.22.0)\n",
      "Requirement already satisfied: google-auth>=1.2 in /usr/local/lib/python3.8/dist-packages (from gcsfs->-r /requirements.txt (line 6)) (2.13.0)\n",
      "Requirement already satisfied: decorator>4.1.2 in /usr/local/lib/python3.8/dist-packages (from gcsfs->-r /requirements.txt (line 6)) (5.1.1)\n",
      "Requirement already satisfied: aiohttp!=4.0.0a0,!=4.0.0a1 in /usr/local/lib/python3.8/dist-packages (from gcsfs->-r /requirements.txt (line 6)) (3.8.3)\n",
      "Collecting google-api-core!=2.0.*,!=2.1.*,!=2.2.*,!=2.3.0,<3.0.0dev,>=1.31.5\n",
      "  Downloading google_api_core-2.10.2-py3-none-any.whl (115 kB)\n",
      "Collecting google-resumable-media>=2.3.2\n",
      "  Downloading google_resumable_media-2.4.0-py2.py3-none-any.whl (77 kB)\n",
      "Collecting google-cloud-core<3.0dev,>=2.3.0\n",
      "  Downloading google_cloud_core-2.3.2-py2.py3-none-any.whl (29 kB)\n",
      "Requirement already satisfied: pyarrow>=5.0.0 in /usr/local/lib/python3.8/dist-packages (from merlin-core>=0.2.0->merlin-models==0.9.0+9.g9f7ae4e79->-r /requirements.txt (line 4)) (7.0.0)\n",
      "Requirement already satisfied: distributed>=2022.3.0 in /usr/local/lib/python3.8/dist-packages (from merlin-core>=0.2.0->merlin-models==0.9.0+9.g9f7ae4e79->-r /requirements.txt (line 4)) (2022.5.1)\n",
      "Requirement already satisfied: tqdm>=4.0 in /usr/local/lib/python3.8/dist-packages (from merlin-core>=0.2.0->merlin-models==0.9.0+9.g9f7ae4e79->-r /requirements.txt (line 4)) (4.64.1)\n",
      "Requirement already satisfied: betterproto<2.0.0 in /usr/local/lib/python3.8/dist-packages (from merlin-core>=0.2.0->merlin-models==0.9.0+9.g9f7ae4e79->-r /requirements.txt (line 4)) (1.2.5)\n",
      "Requirement already satisfied: dask>=2022.3.0 in /usr/local/lib/python3.8/dist-packages (from merlin-core>=0.2.0->merlin-models==0.9.0+9.g9f7ae4e79->-r /requirements.txt (line 4)) (2022.5.1)\n",
      "Requirement already satisfied: pandas<1.4.0dev0,>=1.2.0 in /usr/local/lib/python3.8/dist-packages (from merlin-core>=0.2.0->merlin-models==0.9.0+9.g9f7ae4e79->-r /requirements.txt (line 4)) (1.3.5)\n",
      "Requirement already satisfied: numba>=0.54 in /usr/local/lib/python3.8/dist-packages (from merlin-core>=0.2.0->merlin-models==0.9.0+9.g9f7ae4e79->-r /requirements.txt (line 4)) (0.56.3)\n",
      "Requirement already satisfied: tensorflow-metadata>=1.2.0 in /usr/local/lib/python3.8/dist-packages (from merlin-core>=0.2.0->merlin-models==0.9.0+9.g9f7ae4e79->-r /requirements.txt (line 4)) (1.10.0)\n",
      "Requirement already satisfied: packaging in /usr/local/lib/python3.8/dist-packages (from merlin-core>=0.2.0->merlin-models==0.9.0+9.g9f7ae4e79->-r /requirements.txt (line 4)) (21.3)\n",
      "Requirement already satisfied: protobuf>=3.0.0 in /usr/local/lib/python3.8/dist-packages (from merlin-core>=0.2.0->merlin-models==0.9.0+9.g9f7ae4e79->-r /requirements.txt (line 4)) (3.19.6)\n",
      "Requirement already satisfied: anyio<4,>=3.0.0 in /usr/local/lib/python3.8/dist-packages (from watchgod>=0.6; extra == \"standard\"->uvicorn[standard]==0.15.0->-r /requirements.txt (line 1)) (3.6.2)\n",
      "Requirement already satisfied: typing-extensions>=4.1.0 in /usr/local/lib/python3.8/dist-packages (from pydantic!=1.7,!=1.7.1,!=1.7.2,!=1.7.3,!=1.8,!=1.8.1,<2.0.0,>=1.6.2->fastapi==0.68.1->-r /requirements.txt (line 3)) (4.4.0)\n",
      "Requirement already satisfied: numpy<1.26.0,>=1.18.5 in /usr/local/lib/python3.8/dist-packages (from scipy->nvtabular->-r /requirements.txt (line 5)) (1.22.4)\n",
      "Requirement already satisfied: requests-oauthlib>=0.7.0 in /usr/local/lib/python3.8/dist-packages (from google-auth-oauthlib->gcsfs->-r /requirements.txt (line 6)) (1.3.1)\n",
      "Requirement already satisfied: cachetools<6.0,>=2.0.0 in /usr/local/lib/python3.8/dist-packages (from google-auth>=1.2->gcsfs->-r /requirements.txt (line 6)) (5.2.0)\n",
      "Requirement already satisfied: pyasn1-modules>=0.2.1 in /usr/local/lib/python3.8/dist-packages (from google-auth>=1.2->gcsfs->-r /requirements.txt (line 6)) (0.2.8)\n",
      "Requirement already satisfied: six>=1.9.0 in /usr/lib/python3/dist-packages (from google-auth>=1.2->gcsfs->-r /requirements.txt (line 6)) (1.14.0)\n",
      "Requirement already satisfied: rsa<5,>=3.1.4; python_version >= \"3.6\" in /usr/local/lib/python3.8/dist-packages (from google-auth>=1.2->gcsfs->-r /requirements.txt (line 6)) (4.9)\n",
      "Requirement already satisfied: aiosignal>=1.1.2 in /usr/local/lib/python3.8/dist-packages (from aiohttp!=4.0.0a0,!=4.0.0a1->gcsfs->-r /requirements.txt (line 6)) (1.2.0)\n",
      "Requirement already satisfied: yarl<2.0,>=1.0 in /usr/local/lib/python3.8/dist-packages (from aiohttp!=4.0.0a0,!=4.0.0a1->gcsfs->-r /requirements.txt (line 6)) (1.8.1)\n",
      "Requirement already satisfied: attrs>=17.3.0 in /usr/local/lib/python3.8/dist-packages (from aiohttp!=4.0.0a0,!=4.0.0a1->gcsfs->-r /requirements.txt (line 6)) (22.1.0)\n",
      "Requirement already satisfied: frozenlist>=1.1.1 in /usr/local/lib/python3.8/dist-packages (from aiohttp!=4.0.0a0,!=4.0.0a1->gcsfs->-r /requirements.txt (line 6)) (1.3.1)\n",
      "Requirement already satisfied: multidict<7.0,>=4.5 in /usr/local/lib/python3.8/dist-packages (from aiohttp!=4.0.0a0,!=4.0.0a1->gcsfs->-r /requirements.txt (line 6)) (6.0.2)\n",
      "Requirement already satisfied: charset-normalizer<3.0,>=2.0 in /usr/local/lib/python3.8/dist-packages (from aiohttp!=4.0.0a0,!=4.0.0a1->gcsfs->-r /requirements.txt (line 6)) (2.1.1)\n",
      "Requirement already satisfied: async-timeout<5.0,>=4.0.0a3 in /usr/local/lib/python3.8/dist-packages (from aiohttp!=4.0.0a0,!=4.0.0a1->gcsfs->-r /requirements.txt (line 6)) (4.0.2)\n",
      "Requirement already satisfied: googleapis-common-protos<2.0dev,>=1.56.2 in /usr/local/lib/python3.8/dist-packages (from google-api-core!=2.0.*,!=2.1.*,!=2.2.*,!=2.3.0,<3.0.0dev,>=1.31.5->google-cloud-storage->-r /requirements.txt (line 7)) (1.56.4)\n",
      "Collecting google-crc32c<2.0dev,>=1.0\n",
      "  Downloading google_crc32c-1.5.0-cp38-cp38-manylinux_2_17_x86_64.manylinux2014_x86_64.whl (32 kB)\n",
      "Requirement already satisfied: sortedcontainers!=2.0.0,!=2.0.1 in /usr/local/lib/python3.8/dist-packages (from distributed>=2022.3.0->merlin-core>=0.2.0->merlin-models==0.9.0+9.g9f7ae4e79->-r /requirements.txt (line 4)) (2.4.0)\n",
      "Requirement already satisfied: psutil>=5.0 in /usr/local/lib/python3.8/dist-packages (from distributed>=2022.3.0->merlin-core>=0.2.0->merlin-models==0.9.0+9.g9f7ae4e79->-r /requirements.txt (line 4)) (5.9.3)\n",
      "Requirement already satisfied: jinja2 in /usr/local/lib/python3.8/dist-packages (from distributed>=2022.3.0->merlin-core>=0.2.0->merlin-models==0.9.0+9.g9f7ae4e79->-r /requirements.txt (line 4)) (3.1.2)\n",
      "Requirement already satisfied: locket>=1.0.0 in /usr/local/lib/python3.8/dist-packages (from distributed>=2022.3.0->merlin-core>=0.2.0->merlin-models==0.9.0+9.g9f7ae4e79->-r /requirements.txt (line 4)) (1.0.0)\n",
      "Requirement already satisfied: toolz>=0.8.2 in /usr/local/lib/python3.8/dist-packages (from distributed>=2022.3.0->merlin-core>=0.2.0->merlin-models==0.9.0+9.g9f7ae4e79->-r /requirements.txt (line 4)) (0.12.0)\n",
      "Requirement already satisfied: msgpack>=0.6.0 in /usr/local/lib/python3.8/dist-packages (from distributed>=2022.3.0->merlin-core>=0.2.0->merlin-models==0.9.0+9.g9f7ae4e79->-r /requirements.txt (line 4)) (1.0.4)\n",
      "Requirement already satisfied: cloudpickle>=1.5.0 in /usr/local/lib/python3.8/dist-packages (from distributed>=2022.3.0->merlin-core>=0.2.0->merlin-models==0.9.0+9.g9f7ae4e79->-r /requirements.txt (line 4)) (2.2.0)\n",
      "Requirement already satisfied: tornado>=6.0.3 in /usr/local/lib/python3.8/dist-packages (from distributed>=2022.3.0->merlin-core>=0.2.0->merlin-models==0.9.0+9.g9f7ae4e79->-r /requirements.txt (line 4)) (6.2)\n",
      "Requirement already satisfied: tblib>=1.6.0 in /usr/local/lib/python3.8/dist-packages (from distributed>=2022.3.0->merlin-core>=0.2.0->merlin-models==0.9.0+9.g9f7ae4e79->-r /requirements.txt (line 4)) (1.7.0)\n",
      "Requirement already satisfied: zict>=0.1.3 in /usr/local/lib/python3.8/dist-packages (from distributed>=2022.3.0->merlin-core>=0.2.0->merlin-models==0.9.0+9.g9f7ae4e79->-r /requirements.txt (line 4)) (2.2.0)\n",
      "Requirement already satisfied: urllib3 in /usr/local/lib/python3.8/dist-packages (from distributed>=2022.3.0->merlin-core>=0.2.0->merlin-models==0.9.0+9.g9f7ae4e79->-r /requirements.txt (line 4)) (1.26.12)\n",
      "Requirement already satisfied: grpclib in /usr/local/lib/python3.8/dist-packages (from betterproto<2.0.0->merlin-core>=0.2.0->merlin-models==0.9.0+9.g9f7ae4e79->-r /requirements.txt (line 4)) (0.4.3)\n",
      "Requirement already satisfied: stringcase in /usr/local/lib/python3.8/dist-packages (from betterproto<2.0.0->merlin-core>=0.2.0->merlin-models==0.9.0+9.g9f7ae4e79->-r /requirements.txt (line 4)) (1.2.0)\n",
      "Requirement already satisfied: partd>=0.3.10 in /usr/local/lib/python3.8/dist-packages (from dask>=2022.3.0->merlin-core>=0.2.0->merlin-models==0.9.0+9.g9f7ae4e79->-r /requirements.txt (line 4)) (1.3.0)\n",
      "Requirement already satisfied: python-dateutil>=2.7.3 in /usr/local/lib/python3.8/dist-packages (from pandas<1.4.0dev0,>=1.2.0->merlin-core>=0.2.0->merlin-models==0.9.0+9.g9f7ae4e79->-r /requirements.txt (line 4)) (2.8.2)\n",
      "Requirement already satisfied: pytz>=2017.3 in /usr/local/lib/python3.8/dist-packages (from pandas<1.4.0dev0,>=1.2.0->merlin-core>=0.2.0->merlin-models==0.9.0+9.g9f7ae4e79->-r /requirements.txt (line 4)) (2022.5)\n",
      "Requirement already satisfied: importlib-metadata; python_version < \"3.9\" in /usr/local/lib/python3.8/dist-packages (from numba>=0.54->merlin-core>=0.2.0->merlin-models==0.9.0+9.g9f7ae4e79->-r /requirements.txt (line 4)) (5.0.0)\n",
      "Requirement already satisfied: llvmlite<0.40,>=0.39.0dev0 in /usr/local/lib/python3.8/dist-packages (from numba>=0.54->merlin-core>=0.2.0->merlin-models==0.9.0+9.g9f7ae4e79->-r /requirements.txt (line 4)) (0.39.1)\n",
      "Requirement already satisfied: absl-py<2.0.0,>=0.9 in /usr/local/lib/python3.8/dist-packages (from tensorflow-metadata>=1.2.0->merlin-core>=0.2.0->merlin-models==0.9.0+9.g9f7ae4e79->-r /requirements.txt (line 4)) (1.3.0)\n",
      "Requirement already satisfied: pyparsing!=3.0.5,>=2.0.2 in /usr/local/lib/python3.8/dist-packages (from packaging->merlin-core>=0.2.0->merlin-models==0.9.0+9.g9f7ae4e79->-r /requirements.txt (line 4)) (3.0.9)\n",
      "Requirement already satisfied: sniffio>=1.1 in /usr/local/lib/python3.8/dist-packages (from anyio<4,>=3.0.0->watchgod>=0.6; extra == \"standard\"->uvicorn[standard]==0.15.0->-r /requirements.txt (line 1)) (1.3.0)\n",
      "Requirement already satisfied: idna>=2.8 in /usr/lib/python3/dist-packages (from anyio<4,>=3.0.0->watchgod>=0.6; extra == \"standard\"->uvicorn[standard]==0.15.0->-r /requirements.txt (line 1)) (2.8)\n",
      "Requirement already satisfied: oauthlib>=3.0.0 in /usr/local/lib/python3.8/dist-packages (from requests-oauthlib>=0.7.0->google-auth-oauthlib->gcsfs->-r /requirements.txt (line 6)) (3.2.2)\n",
      "Requirement already satisfied: pyasn1<0.5.0,>=0.4.6 in /usr/local/lib/python3.8/dist-packages (from pyasn1-modules>=0.2.1->google-auth>=1.2->gcsfs->-r /requirements.txt (line 6)) (0.4.8)\n",
      "Requirement already satisfied: MarkupSafe>=2.0 in /usr/local/lib/python3.8/dist-packages (from jinja2->distributed>=2022.3.0->merlin-core>=0.2.0->merlin-models==0.9.0+9.g9f7ae4e79->-r /requirements.txt (line 4)) (2.1.1)\n",
      "Requirement already satisfied: heapdict in /usr/local/lib/python3.8/dist-packages (from zict>=0.1.3->distributed>=2022.3.0->merlin-core>=0.2.0->merlin-models==0.9.0+9.g9f7ae4e79->-r /requirements.txt (line 4)) (1.0.1)\n",
      "Requirement already satisfied: h2<5,>=3.1.0 in /usr/local/lib/python3.8/dist-packages (from grpclib->betterproto<2.0.0->merlin-core>=0.2.0->merlin-models==0.9.0+9.g9f7ae4e79->-r /requirements.txt (line 4)) (4.1.0)\n",
      "Requirement already satisfied: zipp>=0.5 in /usr/local/lib/python3.8/dist-packages (from importlib-metadata; python_version < \"3.9\"->numba>=0.54->merlin-core>=0.2.0->merlin-models==0.9.0+9.g9f7ae4e79->-r /requirements.txt (line 4)) (3.10.0)\n",
      "Requirement already satisfied: hpack<5,>=4.0 in /usr/local/lib/python3.8/dist-packages (from h2<5,>=3.1.0->grpclib->betterproto<2.0.0->merlin-core>=0.2.0->merlin-models==0.9.0+9.g9f7ae4e79->-r /requirements.txt (line 4)) (4.0.0)\n",
      "Requirement already satisfied: hyperframe<7,>=6.0 in /usr/local/lib/python3.8/dist-packages (from h2<5,>=3.1.0->grpclib->betterproto<2.0.0->merlin-core>=0.2.0->merlin-models==0.9.0+9.g9f7ae4e79->-r /requirements.txt (line 4)) (6.0.1)\n",
      "Building wheels for collected packages: merlin-models\n",
      "  Building wheel for merlin-models (PEP 517): started\n",
      "  Building wheel for merlin-models (PEP 517): finished with status 'done'\n",
      "  Created wheel for merlin-models: filename=merlin_models-0.9.0+9.g9f7ae4e79-py3-none-any.whl size=349793 sha256=bf5a39f3973b59a276b3aa27ec9bc2d5a7a6b31159960cc81984f8dd3716aec8\n",
      "  Stored in directory: /tmp/pip-ephem-wheel-cache-5psh4f_e/wheels/5a/43/99/d50fe2c33b4f4686db73207ce3865e0d6be6609ffb03abade5\n",
      "Successfully built merlin-models\n",
      "\u001b[91mERROR: merlin-core 0.8.0+3.g2c621a2 has requirement fsspec==2022.5.0, but you'll have fsspec 2022.10.0 which is incompatible.\n",
      "\u001b[0mInstalling collected packages: h11, asgiref, httptools, python-dotenv, uvloop, watchgod, websockets, uvicorn, gunicorn, pydantic, starlette, fastapi, fsspec, google-api-core, google-crc32c, google-resumable-media, google-cloud-core, google-cloud-storage, gcsfs, merlin-models\n",
      "  Attempting uninstall: fsspec\n",
      "    Found existing installation: fsspec 2022.5.0\n",
      "    Uninstalling fsspec-2022.5.0:\n",
      "      Successfully uninstalled fsspec-2022.5.0\n",
      "  Attempting uninstall: merlin-models\n",
      "    Found existing installation: merlin-models 0.9.0+8.g584f99e6c\n",
      "    Uninstalling merlin-models-0.9.0+8.g584f99e6c:\n",
      "      Successfully uninstalled merlin-models-0.9.0+8.g584f99e6c\n",
      "Successfully installed asgiref-3.5.2 fastapi-0.68.1 fsspec-2022.10.0 gcsfs-2022.10.0 google-api-core-2.10.2 google-cloud-core-2.3.2 google-cloud-storage-2.5.0 google-crc32c-1.5.0 google-resumable-media-2.4.0 gunicorn-20.1.0 h11-0.14.0 httptools-0.2.0 merlin-models-0.9.0+9.g9f7ae4e79 pydantic-1.10.2 python-dotenv-0.21.0 starlette-0.14.2 uvicorn-0.15.0 uvloop-0.17.0 watchgod-0.8.2 websockets-10.3\n",
      "Removing intermediate container a8399ab3a852\n",
      " ---> 376c8574a5fb\n",
      "Step 5/7 : COPY ./app /app\n",
      " ---> 797ee42cf360\n",
      "Step 6/7 : EXPOSE 80\n",
      " ---> Running in 213f1419dd53\n",
      "Removing intermediate container 213f1419dd53\n",
      " ---> a10feaa67118\n",
      "Step 7/7 : CMD [\"uvicorn\", \"main:app\", \"--host\", \"0.0.0.0\", \"--port\", \"8080\"]\n",
      " ---> Running in 2b43da252773\n",
      "Removing intermediate container 2b43da252773\n",
      " ---> 1607a8bef82c\n",
      "Successfully built 1607a8bef82c\n",
      "Successfully tagged us-central1-docker.pkg.dev/hybrid-vertex/merlin-spotify-cpr/merlin-prediction-cpr:latest\n"
     ]
    }
   ],
   "source": [
    "SERVER_IMAGE = \"merlin-prediction-cpr\"  # @param {type:\"string\"} \n",
    "REMOTE_IMAGE_NAME=f\"{REGION}-docker.pkg.dev/{PROJECT}/{REPOSITORY}/{SERVER_IMAGE}\"\n",
    "\n",
    "!docker build -t $REMOTE_IMAGE_NAME ."
   ]
  },
  {
   "cell_type": "markdown",
   "id": "a3db156d-4675-43cc-ac8f-305d5fc79230",
   "metadata": {},
   "source": [
    "#### If you are debugging, be sure to set `-d` detached flag off"
   ]
  },
  {
   "cell_type": "code",
   "execution_count": null,
   "id": "3f67e5fc-51f0-4d45-80d5-9bc441b11d64",
   "metadata": {},
   "outputs": [],
   "source": [
    "print(SERVER_IMAGE, REMOTE_IMAGE_NAME, ARTIFACT_URI)"
   ]
  },
  {
   "cell_type": "markdown",
   "id": "ca4b2c6d-add5-4753-9069-8499b09ba5c6",
   "metadata": {},
   "source": [
    "### Copy/paste if you want to run from console for testing\n",
    "```python\n",
    "docker run -p 80:8080 \\\n",
    "            --name=merlin-prediction-cpr \\\n",
    "            -e AIP_HTTP_PORT=8080 \\\n",
    "            -e AIP_HEALTH_ROUTE=/health \\\n",
    "            -e AIP_PREDICT_ROUTE=/predict \\\n",
    "            -e AIP_STORAGE_URI=gs://spotify-beam-v3/merlin-processed \\\n",
    "            us-central1-docker.pkg.dev/hybrid-vertex/merlin-spotify-cpr/merlin-prediction-cpr\n",
    "```"
   ]
  },
  {
   "cell_type": "code",
   "execution_count": 17,
   "id": "e52cf577-dcb3-4534-87a1-5acb460d9302",
   "metadata": {},
   "outputs": [
    {
     "name": "stdout",
     "output_type": "stream",
     "text": [
      "merlin-prediction-cpr\n",
      "merlin-prediction-cpr\n",
      "\n",
      "==================================\n",
      "== Triton Inference Server Base ==\n",
      "==================================\n",
      "\n",
      "NVIDIA Release 22.08 (build 42766143)\n",
      "\n",
      "Copyright (c) 2018-2022, NVIDIA CORPORATION & AFFILIATES.  All rights reserved.\n",
      "\n",
      "Various files include modifications (c) NVIDIA CORPORATION & AFFILIATES.  All rights reserved.\n",
      "\n",
      "This container image and its contents are governed by the NVIDIA Deep Learning Container License.\n",
      "By pulling and using the container, you accept the terms and conditions of this license:\n",
      "https://developer.nvidia.com/ngc/nvidia-deep-learning-container-license\n",
      "\n",
      "WARNING: The NVIDIA Driver was not detected.  GPU functionality will not be available.\n",
      "   Use the NVIDIA Container Toolkit to start this container with GPU support; see\n",
      "   https://docs.nvidia.com/datacenter/cloud-native/ .\n",
      "\n",
      "/usr/lib/python3/dist-packages/requests/__init__.py:89: RequestsDependencyWarning: urllib3 (1.26.12) or chardet (3.0.4) doesn't match a supported version!\n",
      "  warnings.warn(\"urllib3 ({}) or chardet ({}) doesn't match a supported \"\n",
      "Traceback (most recent call last):\n",
      "  File \"cuda/_cuda/ccuda.pyx\", line 3553, in cuda._cuda.ccuda._cuInit\n",
      "  File \"cuda/_cuda/ccuda.pyx\", line 424, in cuda._cuda.ccuda.cuPythonInit\n",
      "RuntimeError: Failed to dlopen libcuda.so\n",
      "Exception ignored in: 'cuda._lib.ccudart.utils.cudaPythonGlobal.lazyInit'\n",
      "Traceback (most recent call last):\n",
      "  File \"cuda/_cuda/ccuda.pyx\", line 3553, in cuda._cuda.ccuda._cuInit\n",
      "  File \"cuda/_cuda/ccuda.pyx\", line 424, in cuda._cuda.ccuda.cuPythonInit\n",
      "RuntimeError: Failed to dlopen libcuda.so\n",
      "/usr/local/lib/python3.8/dist-packages/cudf/utils/gpu_utils.py:62: UserWarning: Function \"cuDeviceGetCount\" not found\n",
      "  warnings.warn(str(e))\n",
      "Traceback (most recent call last):\n",
      "  File \"cuda/_cuda/ccuda.pyx\", line 3556, in cuda._cuda.ccuda._cuInit\n",
      "RuntimeError: Function \"cuInit\" not found\n",
      "Exception ignored in: 'cuda._lib.ccudart.utils.cudaPythonGlobal.lazyInit'\n",
      "Traceback (most recent call last):\n",
      "  File \"cuda/_cuda/ccuda.pyx\", line 3556, in cuda._cuda.ccuda._cuInit\n",
      "RuntimeError: Function \"cuInit\" not found\n",
      "Traceback (most recent call last):\n",
      "  File \"cuda/_cuda/ccuda.pyx\", line 3556, in cuda._cuda.ccuda._cuInit\n",
      "RuntimeError: Function \"cuInit\" not found\n",
      "Exception ignored in: 'cuda._lib.ccudart.utils.cudaPythonGlobal.lazyInit'\n",
      "Traceback (most recent call last):\n",
      "  File \"cuda/_cuda/ccuda.pyx\", line 3556, in cuda._cuda.ccuda._cuInit\n",
      "RuntimeError: Function \"cuInit\" not found\n",
      "Traceback (most recent call last):\n",
      "  File \"cuda/_cuda/ccuda.pyx\", line 3556, in cuda._cuda.ccuda._cuInit\n",
      "RuntimeError: Function \"cuInit\" not found\n",
      "Exception ignored in: 'cuda._lib.ccudart.utils.cudaPythonGlobal.lazyInit'\n",
      "Traceback (most recent call last):\n",
      "  File \"cuda/_cuda/ccuda.pyx\", line 3556, in cuda._cuda.ccuda._cuInit\n",
      "RuntimeError: Function \"cuInit\" not found\n",
      "Traceback (most recent call last):\n",
      "  File \"cuda/_cuda/ccuda.pyx\", line 3556, in cuda._cuda.ccuda._cuInit\n",
      "RuntimeError: Function \"cuInit\" not found\n",
      "Exception ignored in: 'cuda._lib.ccudart.utils.cudaPythonGlobal.lazyInit'\n",
      "Traceback (most recent call last):\n",
      "  File \"cuda/_cuda/ccuda.pyx\", line 3556, in cuda._cuda.ccuda._cuInit\n",
      "RuntimeError: Function \"cuInit\" not found\n",
      "Traceback (most recent call last):\n",
      "  File \"cuda/_cuda/ccuda.pyx\", line 3556, in cuda._cuda.ccuda._cuInit\n",
      "RuntimeError: Function \"cuInit\" not found\n",
      "Exception ignored in: 'cuda._lib.ccudart.utils.cudaPythonGlobal.lazyInit'\n",
      "Traceback (most recent call last):\n",
      "  File \"cuda/_cuda/ccuda.pyx\", line 3556, in cuda._cuda.ccuda._cuInit\n",
      "RuntimeError: Function \"cuInit\" not found\n",
      "Traceback (most recent call last):\n",
      "  File \"cuda/_cuda/ccuda.pyx\", line 3556, in cuda._cuda.ccuda._cuInit\n",
      "RuntimeError: Function \"cuInit\" not found\n",
      "Exception ignored in: 'cuda._lib.ccudart.utils.cudaPythonGlobal.lazyInit'\n",
      "Traceback (most recent call last):\n",
      "  File \"cuda/_cuda/ccuda.pyx\", line 3556, in cuda._cuda.ccuda._cuInit\n",
      "RuntimeError: Function \"cuInit\" not found\n",
      "Traceback (most recent call last):\n",
      "  File \"cuda/_cuda/ccuda.pyx\", line 3556, in cuda._cuda.ccuda._cuInit\n",
      "RuntimeError: Function \"cuInit\" not found\n",
      "Exception ignored in: 'cuda._lib.ccudart.utils.cudaPythonGlobal.lazyInit'\n",
      "Traceback (most recent call last):\n",
      "  File \"cuda/_cuda/ccuda.pyx\", line 3556, in cuda._cuda.ccuda._cuInit\n",
      "RuntimeError: Function \"cuInit\" not found\n",
      "Traceback (most recent call last):\n",
      "  File \"cuda/_cuda/ccuda.pyx\", line 3556, in cuda._cuda.ccuda._cuInit\n",
      "RuntimeError: Function \"cuInit\" not found\n",
      "Exception ignored in: 'cuda._lib.ccudart.utils.cudaPythonGlobal.lazyInit'\n",
      "Traceback (most recent call last):\n",
      "  File \"cuda/_cuda/ccuda.pyx\", line 3556, in cuda._cuda.ccuda._cuInit\n",
      "RuntimeError: Function \"cuInit\" not found\n",
      "2022-10-25 13:58:07.597873: W tensorflow/stream_executor/platform/default/dso_loader.cc:65] Could not load dynamic library 'libcuda.so.1'; dlerror: libcuda.so.1: cannot open shared object file: No such file or directory; LD_LIBRARY_PATH: /usr/local/hugectr/lib:/usr/local/cuda/compat/lib:/usr/local/nvidia/lib:/usr/local/nvidia/lib64:/usr/local/cuda/lib64:/usr/local/cuda/extras/CUPTI/lib64:/usr/local/lib:/repos/dist/lib:/opt/tritonserver/lib\n",
      "2022-10-25 13:58:07.597910: W tensorflow/stream_executor/cuda/cuda_driver.cc:269] failed call to cuInit: UNKNOWN ERROR (303)\n",
      "2022-10-25 13:58:07.597930: I tensorflow/stream_executor/cuda/cuda_diagnostics.cc:163] no NVIDIA GPU device is present: /dev/nvidia0 does not exist\n",
      "2022-10-25 13:58:07.648900: I tensorflow/core/platform/cpu_feature_guard.cc:194] This TensorFlow binary is optimized with oneAPI Deep Neural Network Library (oneDNN) to use the following CPU instructions in performance-critical operations:  SSE3 SSE4.1 SSE4.2 AVX\n",
      "To enable them in other operations, rebuild TensorFlow with the appropriate compiler flags.\n",
      "2022-10-25 13:58:10.930073: W tensorflow/core/framework/cpu_allocator_impl.cc:82] Allocation of 713987200 exceeds 10% of free system memory.\n",
      "2022-10-25 13:58:11.435811: W tensorflow/core/framework/cpu_allocator_impl.cc:82] Allocation of 713987200 exceeds 10% of free system memory.\n",
      "2022-10-25 13:58:11.602429: W tensorflow/core/framework/cpu_allocator_impl.cc:82] Allocation of 713987200 exceeds 10% of free system memory.\n",
      "2022-10-25 13:58:11.829114: W tensorflow/core/framework/cpu_allocator_impl.cc:82] Allocation of 421813152 exceeds 10% of free system memory.\n",
      "2022-10-25 13:58:12.122074: W tensorflow/core/framework/cpu_allocator_impl.cc:82] Allocation of 421813152 exceeds 10% of free system memory.\n",
      "/usr/local/lib/python3.8/dist-packages/merlin/schema/tags.py:148: UserWarning: Compound tags like Tags.USER_ID have been deprecated and will be removed in a future version. Please use the atomic versions of these tags, like [<Tags.USER: 'user'>, <Tags.ID: 'id'>].\n",
      "  warnings.warn(\n",
      "WARNING:tensorflow:No training configuration found in save file, so the model was *not* compiled. Compile it manually.\n",
      "/usr/local/lib/python3.8/dist-packages/nvtabular/workflow/workflow.py:320: UserWarning: Loading workflow generated with nvtabular version 1.5.0+2.g97abf4ea3 - but we are running nvtabular 1.6.0+1.gc0636dead. This might cause issues\n",
      "  warnings.warn(\n",
      "/usr/local/lib/python3.8/dist-packages/nvtabular/workflow/workflow.py:336: UserWarning: Loading workflow generated on GPU\n",
      "  warnings.warn(f\"Loading workflow generated on {expected}\")\n",
      "Traceback (most recent call last):\n",
      "  File \"/usr/local/bin/uvicorn\", line 8, in <module>\n",
      "    sys.exit(main())\n",
      "  File \"/usr/local/lib/python3.8/dist-packages/click/core.py\", line 1130, in __call__\n",
      "    return self.main(*args, **kwargs)\n",
      "  File \"/usr/local/lib/python3.8/dist-packages/click/core.py\", line 1055, in main\n",
      "    rv = self.invoke(ctx)\n",
      "  File \"/usr/local/lib/python3.8/dist-packages/click/core.py\", line 1404, in invoke\n",
      "    return ctx.invoke(self.callback, **ctx.params)\n",
      "  File \"/usr/local/lib/python3.8/dist-packages/click/core.py\", line 760, in invoke\n",
      "    return __callback(*args, **kwargs)\n",
      "  File \"/usr/local/lib/python3.8/dist-packages/uvicorn/main.py\", line 425, in main\n",
      "    run(app, **kwargs)\n",
      "  File \"/usr/local/lib/python3.8/dist-packages/uvicorn/main.py\", line 447, in run\n",
      "    server.run()\n",
      "  File \"/usr/local/lib/python3.8/dist-packages/uvicorn/server.py\", line 68, in run\n",
      "    return asyncio.run(self.serve(sockets=sockets))\n",
      "  File \"/usr/lib/python3.8/asyncio/runners.py\", line 44, in run\n",
      "    return loop.run_until_complete(main)\n",
      "  File \"uvloop/loop.pyx\", line 1517, in uvloop.loop.Loop.run_until_complete\n",
      "  File \"/usr/local/lib/python3.8/dist-packages/uvicorn/server.py\", line 76, in serve\n",
      "    config.load()\n",
      "  File \"/usr/local/lib/python3.8/dist-packages/uvicorn/config.py\", line 448, in load\n",
      "    self.loaded_app = import_from_string(self.app)\n",
      "  File \"/usr/local/lib/python3.8/dist-packages/uvicorn/importer.py\", line 21, in import_from_string\n",
      "    module = importlib.import_module(module_str)\n",
      "  File \"/usr/lib/python3.8/importlib/__init__.py\", line 127, in import_module\n",
      "    return _bootstrap._gcd_import(name[level:], package, level)\n",
      "  File \"<frozen importlib._bootstrap>\", line 1014, in _gcd_import\n",
      "  File \"<frozen importlib._bootstrap>\", line 991, in _find_and_load\n",
      "  File \"<frozen importlib._bootstrap>\", line 975, in _find_and_load_unlocked\n",
      "  File \"<frozen importlib._bootstrap>\", line 671, in _load_unlocked\n",
      "  File \"<frozen importlib._bootstrap_external>\", line 848, in exec_module\n",
      "  File \"<frozen importlib._bootstrap>\", line 219, in _call_with_frames_removed\n",
      "  File \"/app/./main.py\", line 13, in <module>\n",
      "    loaded_predictor = predictor_instance.load(artifacts_uri = os.environ['AIP_STORAGE_URI'])\n",
      "  File \"/app/./predictor.py\", line 31, in load\n",
      "    self._workflow.remove_inputs(['track_pop_can', 'track_uri_can', 'duration_ms_can', \n",
      "  File \"/usr/local/lib/python3.8/dist-packages/nvtabular/workflow/workflow.py\", line 156, in remove_inputs\n",
      "    self.graph.remove_inputs(input_cols)\n",
      "  File \"/usr/local/lib/python3.8/dist-packages/merlin/dag/graph.py\", line 153, in remove_inputs\n",
      "    output_columns_to_remove = node.remove_inputs(columns_to_remove)\n",
      "  File \"/usr/local/lib/python3.8/dist-packages/merlin/dag/node.py\", line 397, in remove_inputs\n",
      "    removed_outputs = _derived_output_cols(input_cols, self.column_mapping)\n",
      "  File \"/usr/local/lib/python3.8/dist-packages/merlin/dag/node.py\", line 456, in column_mapping\n",
      "    selector = self.selector or ColumnSelector(self.input_schema.column_names)\n",
      "  File \"/usr/local/lib/python3.8/dist-packages/merlin/dag/selector.py\", line 151, in __bool__\n",
      "    return bool(self.all or self._names or self.subgroups or self.tags)\n",
      "AttributeError: 'ColumnSelector' object has no attribute 'all'\n"
     ]
    }
   ],
   "source": [
    "! docker stop $SERVER_IMAGE\n",
    "! docker rm $SERVER_IMAGE\n",
    "! docker run -p 80:8080 \\\n",
    "            --name=$SERVER_IMAGE \\\n",
    "            -e AIP_HTTP_PORT=8080 \\\n",
    "            -e AIP_HEALTH_ROUTE=/health \\\n",
    "            -e AIP_PREDICT_ROUTE=/predict \\\n",
    "            -e AIP_STORAGE_URI=$ARTIFACT_URI \\\n",
    "            $REMOTE_IMAGE_NAME"
   ]
  },
  {
   "cell_type": "code",
   "execution_count": null,
   "id": "ae9f6a29-7e69-4bf6-bb22-926578ff1181",
   "metadata": {
    "tags": []
   },
   "outputs": [],
   "source": [
    "! curl localhost/health"
   ]
  },
  {
   "cell_type": "code",
   "execution_count": null,
   "id": "fae134d5-92da-48b5-afdb-7a330c88ace0",
   "metadata": {},
   "outputs": [],
   "source": [
    "## Ground truth candidate:\n",
    "    # 'album_uri_can': 'spotify:album:5l83t3mbVgCrIe1VU9uJZR', \n",
    "    # 'artist_name_can': 'Russ', \n",
    "    # 'track_name_can': 'We Just Havent Met Yet', \n",
    "\n",
    "TEST_INSTANCE = {'collaborative': 'false',\n",
    "                 'album_name_pl': [\"There's Really A Wolf\", 'Late Nights: The Album',\n",
    "                       'American Teen', 'Crazy In Love', 'Pony'], \n",
    "                 'artist_genres_pl': [\"'hawaiian hip hop', 'rap'\",\n",
    "                       \"'chicago rap', 'dance pop', 'pop', 'pop rap', 'r&b', 'southern hip hop', 'trap', 'urban contemporary'\",\n",
    "                       \"'pop', 'pop r&b'\", \"'dance pop', 'pop', 'r&b'\",\n",
    "                       \"'chill r&b', 'pop', 'pop r&b', 'r&b', 'urban contemporary'\"], \n",
    "                 'artist_name_pl': ['Russ', 'Jeremih', 'Khalid', 'Beyonc\\xc3\\xa9',\n",
    "                       'William Singe'], \n",
    "                 'description_pl': '', \n",
    "                 'n_songs_pl': 8.0, \n",
    "                 'name': 'Lit Tunes ', \n",
    "                 'num_albums_pl': 8.0, \n",
    "                 'num_artists_pl': 8.0, \n",
    "                 'track_name_pl': ['Losin Control', 'Paradise', 'Location',\n",
    "                       'Crazy In Love - Remix', 'Pony'], \n",
    "                 'duration_ms_seed_pl': 51023.1,\n",
    "                 'pid': 1,\n",
    "                 'track_uri_pl': ['spotify:track:4cxMGhkinTocPSVVKWIw0d',\n",
    "                       'spotify:track:1wNEBPo3nsbGCZRryI832I',\n",
    "                       'spotify:track:152lZdxL1OR0ZMW6KquMif',\n",
    "                       'spotify:track:2f4IuijXLxYOeBncS60GUD',\n",
    "                       'spotify:track:4Lj8paMFwyKTGfILLELVxt']\n",
    "                     }"
   ]
  },
  {
   "cell_type": "code",
   "execution_count": null,
   "id": "acde41b9-5025-4d57-80a9-b9f0213c2e96",
   "metadata": {},
   "outputs": [],
   "source": [
    "import json\n",
    "json_instance = json.dumps({\"instances\": TEST_INSTANCE})\n",
    "print(json_instance)"
   ]
  },
  {
   "cell_type": "code",
   "execution_count": null,
   "id": "5c9659cb-5e93-4ecf-8553-9058934e090e",
   "metadata": {},
   "outputs": [],
   "source": [
    "%%writefile instances.json\n",
    "{\"instances\": {\"collaborative\": \"false\", \"album_name_pl\": [\"There's Really A Wolf\", \"Late Nights: The Album\", \"American Teen\", \"Crazy In Love\", \"Pony\"], \"artist_genres_pl\": [\"'hawaiian hip hop', 'rap'\", \"'chicago rap', 'dance pop', 'pop', 'pop rap', 'r&b', 'southern hip hop', 'trap', 'urban contemporary'\", \"'pop', 'pop r&b'\", \"'dance pop', 'pop', 'r&b'\", \"'chill r&b', 'pop', 'pop r&b', 'r&b', 'urban contemporary'\"], \"artist_name_pl\": [\"Russ\", \"Jeremih\", \"Khalid\", \"Beyonc\\u00c3\\u00a9\", \"William Singe\"], \"description_pl\": \"\", \"n_songs_pl\": 8.0, \"name\": \"Lit Tunes \", \"num_albums_pl\": 8.0, \"num_artists_pl\": 8.0, \"track_name_pl\": [\"Losin Control\", \"Paradise\", \"Location\", \"Crazy In Love - Remix\", \"Pony\"], \"duration_ms_seed_pl\": 51023.1, \"pid\": 1, \"track_uri_pl\": [\"spotify:track:4cxMGhkinTocPSVVKWIw0d\", \"spotify:track:1wNEBPo3nsbGCZRryI832I\", \"spotify:track:152lZdxL1OR0ZMW6KquMif\", \"spotify:track:2f4IuijXLxYOeBncS60GUD\", \"spotify:track:4Lj8paMFwyKTGfILLELVxt\"]}}"
   ]
  },
  {
   "cell_type": "code",
   "execution_count": null,
   "id": "9ae4376b-01af-4ad9-a649-254a777ba186",
   "metadata": {},
   "outputs": [],
   "source": [
    "! echo $json_instance > json_instance.json"
   ]
  },
  {
   "cell_type": "code",
   "execution_count": null,
   "id": "18ca1d02-548d-4d5d-a09e-9a5a6ddf7f45",
   "metadata": {},
   "outputs": [],
   "source": [
    "! curl -X POST \\\n",
    "      -d @instances.json \\\n",
    "      -H \"Content-Type: application/json; charset=utf-8\" \\\n",
    "      localhost/predict"
   ]
  },
  {
   "cell_type": "markdown",
   "id": "9bd45707-2c87-4148-bf69-25feb40a74a3",
   "metadata": {},
   "source": [
    "### Cloud build"
   ]
  },
  {
   "cell_type": "code",
   "execution_count": null,
   "id": "9efda6bd-b348-455d-807c-c3a8c6ba3082",
   "metadata": {
    "tags": []
   },
   "outputs": [],
   "source": [
    "!gcloud builds submit --region={REGION} --tag=$REMOTE_IMAGE_NAME"
   ]
  },
  {
   "cell_type": "markdown",
   "id": "ff6f4d47-b610-45d7-a916-282efe2fe315",
   "metadata": {},
   "source": [
    "### Create test instances \n",
    "Random selection from BQ validation table"
   ]
  },
  {
   "cell_type": "code",
   "execution_count": null,
   "id": "b9cf27ed-0c42-4cee-8116-44962bb57c13",
   "metadata": {
    "tags": []
   },
   "outputs": [],
   "source": [
    "# ### push the container to registry\n",
    "# !docker push $REMOTE_IMAGE_NAME"
   ]
  },
  {
   "cell_type": "markdown",
   "id": "50a9a707-6965-4b6f-a3fe-7312dfddbf24",
   "metadata": {
    "tags": []
   },
   "source": [
    "### Deploy to Vertex AI"
   ]
  },
  {
   "cell_type": "code",
   "execution_count": null,
   "id": "b166b499-b407-4e3e-99f3-da3f3031a147",
   "metadata": {},
   "outputs": [],
   "source": [
    "MODEL_DISPLAY_NAME = \"Merlin Spotify Query Tower Model\"\n",
    "from google.cloud import aiplatform\n",
    "\n",
    "model = aiplatform.Model.upload(\n",
    "    display_name=MODEL_DISPLAY_NAME,\n",
    "    artifact_uri=ARTIFACT_URI,\n",
    "    serving_container_image_uri=REMOTE_IMAGE_NAME\n",
    ")"
   ]
  },
  {
   "cell_type": "code",
   "execution_count": null,
   "id": "9e80231d-0430-478e-989a-4802adca17ab",
   "metadata": {},
   "outputs": [],
   "source": [
    "endpoint = model.deploy(machine_type=\"n1-standard-4\")"
   ]
  },
  {
   "cell_type": "code",
   "execution_count": null,
   "id": "b8b8fa58-c587-4b5d-9958-8ed904e0c162",
   "metadata": {},
   "outputs": [],
   "source": [
    "endpoint.predict(instances=[TEST_INSTANCE])"
   ]
  },
  {
   "cell_type": "code",
   "execution_count": null,
   "id": "8450d789-86ba-499e-8ff6-de88fc0797d1",
   "metadata": {},
   "outputs": [],
   "source": []
  }
 ],
 "metadata": {
  "environment": {
   "kernel": "python3",
   "name": "tf2-gpu.2-8.m98",
   "type": "gcloud",
   "uri": "gcr.io/deeplearning-platform-release/tf2-gpu.2-8:m98"
  },
  "kernelspec": {
   "display_name": "Python 3",
   "language": "python",
   "name": "python3"
  },
  "language_info": {
   "codemirror_mode": {
    "name": "ipython",
    "version": 3
   },
   "file_extension": ".py",
   "mimetype": "text/x-python",
   "name": "python",
   "nbconvert_exporter": "python",
   "pygments_lexer": "ipython3",
   "version": "3.7.12"
  }
 },
 "nbformat": 4,
 "nbformat_minor": 5
}
