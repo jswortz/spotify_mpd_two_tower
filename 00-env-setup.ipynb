{
 "cells": [
  {
   "cell_type": "markdown",
   "id": "f573eaae-7a82-4a2b-b4c0-4755964fd30b",
   "metadata": {},
   "source": [
    "# Environment Setup for training with TFRS"
   ]
  },
  {
   "cell_type": "markdown",
   "id": "14228645-7fca-40c8-a84d-d8cfe1930af1",
   "metadata": {},
   "source": [
    "## Install Packages\n",
    "Run pip requirements.txt in either (1) the notebook cell below or (2) in a notebook terminal window"
   ]
  },
  {
   "cell_type": "code",
   "execution_count": 1,
   "id": "fe5cd263-3dd3-4653-a53a-78a1d2ab08fd",
   "metadata": {},
   "outputs": [],
   "source": [
    "# !pwd"
   ]
  },
  {
   "cell_type": "code",
   "execution_count": 2,
   "id": "50e3697e-0f1e-415b-bc03-613743f42eb8",
   "metadata": {},
   "outputs": [
    {
     "name": "stdout",
     "output_type": "stream",
     "text": [
      "PREFIX = ndr-v1\n"
     ]
    }
   ],
   "source": [
    "# naming convention for all cloud resources\n",
    "VERSION        = \"v1\"                  # TODO\n",
    "PREFIX         = f'ndr-{VERSION}'      # TODO\n",
    "\n",
    "print(f\"PREFIX = {PREFIX}\")"
   ]
  },
  {
   "cell_type": "markdown",
   "id": "921ebc61-1cc3-4e1f-a298-dacbd8c77051",
   "metadata": {},
   "source": [
    "## GCP project"
   ]
  },
  {
   "cell_type": "code",
   "execution_count": 3,
   "id": "5f0ed6d9-28c1-4342-8664-b0e98526ba07",
   "metadata": {},
   "outputs": [
    {
     "name": "stdout",
     "output_type": "stream",
     "text": [
      "PROJECT_ID       = hybrid-vertex\n",
      "PROJECT_NUM      = 934903580331\n",
      "VPC_NETWORK_NAME = ucaip-haystack-vpc-network\n",
      "LOCATION         = us-central1\n",
      "REGION           = us-central1\n",
      "BQ_LOCATION      = US\n"
     ]
    }
   ],
   "source": [
    "# creds, PROJECT_ID = google.auth.default()\n",
    "GCP_PROJECTS             = !gcloud config get-value project\n",
    "PROJECT_ID               = GCP_PROJECTS[0]\n",
    "\n",
    "PROJECT_NUM              = !gcloud projects describe $PROJECT_ID --format=\"value(projectNumber)\"\n",
    "PROJECT_NUM              = PROJECT_NUM[0]\n",
    "\n",
    "VERTEX_SA                = f'{PROJECT_NUM}-compute@developer.gserviceaccount.com'\n",
    "\n",
    "VPC_NETWORK_NAME         = \"ucaip-haystack-vpc-network\"\n",
    "\n",
    "# locations / regions for cloud resources\n",
    "LOCATION                 = 'us-central1'        \n",
    "REGION                   = LOCATION\n",
    "BQ_LOCATION              = 'US'\n",
    "\n",
    "print(f\"PROJECT_ID       = {PROJECT_ID}\")\n",
    "print(f\"PROJECT_NUM      = {PROJECT_NUM}\")\n",
    "print(f\"VPC_NETWORK_NAME = {VPC_NETWORK_NAME}\")\n",
    "print(f\"LOCATION         = {LOCATION}\")\n",
    "print(f\"REGION           = {REGION}\")\n",
    "print(f\"BQ_LOCATION      = {BQ_LOCATION}\")"
   ]
  },
  {
   "cell_type": "code",
   "execution_count": 5,
   "id": "c9bd35d9-6c0b-40b9-873c-5b137c62db33",
   "metadata": {},
   "outputs": [],
   "source": [
    "APP                      = 'sp'\n",
    "MODEL_TYPE               = '2tower'\n",
    "FRAMEWORK                = 'tfrs'\n",
    "DATA_VERSION             = \"v1\" # version tag for dataflow pipeline | \"v2-0-0\" # v1-0-0\n",
    "TRACK_HISTORY            = 5        # length of playlist tracks to consider"
   ]
  },
  {
   "cell_type": "code",
   "execution_count": 6,
   "id": "b2833324-082c-470d-916a-db133c2ce53d",
   "metadata": {},
   "outputs": [
    {
     "name": "stdout",
     "output_type": "stream",
     "text": [
      "BUCKET_NAME              : ndr-v1-hybrid-vertex-bucket\n",
      "BUCKET_URI               : gs://ndr-v1-hybrid-vertex-bucket\n",
      "SOURCE_BUCKET            : spotify-million-playlist-dataset\n",
      "DATA_GCS_PREFIX          : data\n",
      "DATA_PATH                : gs://ndr-v1-hybrid-vertex-bucket/data\n",
      "VOCAB_SUBDIR             : vocabs\n",
      "VOCAB_FILENAME           : vocab_dict.pkl\n",
      "CANDIDATE_PREFIX         : candidates\n",
      "TRAIN_DIR_PREFIX         : train\n",
      "VALID_DIR_PREFIX         : valid\n",
      "VPC_NETWORK_FULL         : projects/934903580331/global/networks/ucaip-haystack-vpc-network\n",
      "BQ_DATASET               : spotify_e2e_test\n",
      "BQ_TABLE_TRAIN           : v2_train_flatten_last_5\n",
      "BQ_TABLE_VALID           : v2_train_flatten_valid_last_5\n",
      "BQ_TABLE_CANDIDATES      : candidates\n",
      "REPO_SRC                 : src\n",
      "PIPELINES_SUB_DIR        : feature_pipes\n",
      "REPOSITORY               : ndr-v1-spotify\n",
      "IMAGE_NAME               : train-v1\n",
      "REMOTE_IMAGE_NAME        : us-central1-docker.pkg.dev/hybrid-vertex/ndr-v1-spotify/train-v1\n",
      "DOCKERNAME               : tfrs\n",
      "SERVING_IMAGE_URI_CPU    : us-docker.pkg.dev/vertex-ai/prediction/tf2-cpu.2-11:latest\n",
      "SERVING_IMAGE_URI_GPU    : us-docker.pkg.dev/vertex-ai/prediction/tf2-gpu.2-11:latest\n"
     ]
    }
   ],
   "source": [
    "# GCS bucket and paths\n",
    "BUCKET_NAME              = f'{PREFIX}-{PROJECT_ID}-bucket'\n",
    "BUCKET_URI               = f'gs://{BUCKET_NAME}'\n",
    "SOURCE_BUCKET            = 'spotify-million-playlist-dataset'\n",
    "\n",
    "# Location to write TF-Records\n",
    "DATA_GCS_PREFIX          = \"data\"\n",
    "DATA_PATH                = f\"{BUCKET_URI}/{DATA_GCS_PREFIX}\"\n",
    "VOCAB_SUBDIR             = \"vocabs\"\n",
    "VOCAB_FILENAME           = 'vocab_dict.pkl'\n",
    "\n",
    "CANDIDATE_PREFIX         = 'candidates'\n",
    "TRAIN_DIR_PREFIX         = 'train'\n",
    "VALID_DIR_PREFIX         = 'valid'\n",
    "\n",
    "VPC_NETWORK_FULL         = f\"projects/{PROJECT_NUM}/global/networks/{VPC_NETWORK_NAME}\"\n",
    "\n",
    "# BigQuery parameters\n",
    "BQ_DATASET               = 'spotify_e2e_test'\n",
    "BQ_TABLE_TRAIN           = 'v2_train_flatten_last_5'\n",
    "BQ_TABLE_VALID           = 'v2_train_flatten_valid_last_5'\n",
    "BQ_TABLE_CANDIDATES      = 'candidates'\n",
    "\n",
    "# repo\n",
    "REPO_SRC                 = 'src'\n",
    "PIPELINES_SUB_DIR        = 'feature_pipes'\n",
    "\n",
    "# container registry\n",
    "REPOSITORY               = f'{PREFIX}-spotify'\n",
    "IMAGE_NAME               = f'train-{VERSION}'\n",
    "REMOTE_IMAGE_NAME        = f\"{REGION}-docker.pkg.dev/{PROJECT_ID}/{REPOSITORY}/{IMAGE_NAME}\"\n",
    "DOCKERNAME               = f'tfrs'\n",
    "\n",
    "# serving images\n",
    "SERVING_IMAGE_URI_CPU    = 'us-docker.pkg.dev/vertex-ai/prediction/tf2-cpu.2-11:latest'\n",
    "SERVING_IMAGE_URI_GPU    = 'us-docker.pkg.dev/vertex-ai/prediction/tf2-gpu.2-11:latest'\n",
    "\n",
    "print(f\"BUCKET_NAME              : {BUCKET_NAME}\")\n",
    "print(f\"BUCKET_URI               : {BUCKET_URI}\")\n",
    "print(f\"SOURCE_BUCKET            : {SOURCE_BUCKET}\")\n",
    "\n",
    "print(f\"DATA_GCS_PREFIX          : {DATA_GCS_PREFIX}\")\n",
    "print(f\"DATA_PATH                : {DATA_PATH}\")\n",
    "print(f\"VOCAB_SUBDIR             : {VOCAB_SUBDIR}\")\n",
    "print(f\"VOCAB_FILENAME           : {VOCAB_FILENAME}\")\n",
    "\n",
    "print(f\"CANDIDATE_PREFIX         : {CANDIDATE_PREFIX}\")\n",
    "print(f\"TRAIN_DIR_PREFIX         : {TRAIN_DIR_PREFIX}\")\n",
    "print(f\"VALID_DIR_PREFIX         : {VALID_DIR_PREFIX}\")\n",
    "\n",
    "print(f\"VPC_NETWORK_FULL         : {VPC_NETWORK_FULL}\")\n",
    "\n",
    "print(f\"BQ_DATASET               : {BQ_DATASET}\")\n",
    "print(f\"BQ_TABLE_TRAIN           : {BQ_TABLE_TRAIN}\")\n",
    "print(f\"BQ_TABLE_VALID           : {BQ_TABLE_VALID}\")\n",
    "print(f\"BQ_TABLE_CANDIDATES      : {BQ_TABLE_CANDIDATES}\")\n",
    "\n",
    "print(f\"REPO_SRC                 : {REPO_SRC}\")\n",
    "print(f\"PIPELINES_SUB_DIR        : {PIPELINES_SUB_DIR}\")\n",
    "\n",
    "print(f\"REPOSITORY               : {REPOSITORY}\")\n",
    "print(f\"IMAGE_NAME               : {IMAGE_NAME}\")\n",
    "print(f\"REMOTE_IMAGE_NAME        : {REMOTE_IMAGE_NAME}\")\n",
    "print(f\"DOCKERNAME               : {DOCKERNAME}\")\n",
    "\n",
    "print(f\"SERVING_IMAGE_URI_CPU    : {SERVING_IMAGE_URI_CPU}\")\n",
    "print(f\"SERVING_IMAGE_URI_GPU    : {SERVING_IMAGE_URI_GPU}\")"
   ]
  },
  {
   "cell_type": "code",
   "execution_count": 7,
   "id": "3c9aeab8-73aa-4503-b91b-3ab7902596b1",
   "metadata": {},
   "outputs": [
    {
     "name": "stdout",
     "output_type": "stream",
     "text": [
      "Creating gs://ndr-v1-hybrid-vertex-bucket/...\n",
      "ServiceException: 409 A Cloud Storage bucket named 'ndr-v1-hybrid-vertex-bucket' already exists. Try another name. Bucket names must be globally unique across all Google Cloud projects, including those outside of your organization.\n"
     ]
    }
   ],
   "source": [
    "# create bucket\n",
    "! gsutil mb -l $REGION $BUCKET_URI"
   ]
  },
  {
   "cell_type": "code",
   "execution_count": 8,
   "id": "3c69c1a3-ee9a-4b94-b67a-f38b05b60eef",
   "metadata": {},
   "outputs": [],
   "source": [
    "# ! gsutil iam ch serviceAccount:{VERTEX_SA}:roles/storage.objects.get $BUCKET_URI\n",
    "# ! gsutil iam ch serviceAccount:{VERTEX_SA}:roles/storage.objects.get $BUCKET_URI"
   ]
  },
  {
   "cell_type": "markdown",
   "id": "9b568458-212c-49c9-8ac8-0b7443cb6019",
   "metadata": {},
   "source": [
    "## Save Notebook Configuration Data\n",
    "If you want to avoid having to re-enter these across notebooks"
   ]
  },
  {
   "cell_type": "code",
   "execution_count": 9,
   "id": "01b46ec0-998e-42f2-8aa2-ec907ec2838c",
   "metadata": {},
   "outputs": [
    {
     "name": "stdout",
     "output_type": "stream",
     "text": [
      "\n",
      "PROJECT_ID               = \"hybrid-vertex\"\n",
      "PROJECT_NUM              = \"934903580331\"\n",
      "LOCATION                 = \"us-central1\"\n",
      "\n",
      "REGION                   = \"us-central1\"\n",
      "BQ_LOCATION              = \"US\"\n",
      "VPC_NETWORK_NAME         = \"ucaip-haystack-vpc-network\"\n",
      "\n",
      "VERTEX_SA                = \"934903580331-compute@developer.gserviceaccount.com\"\n",
      "\n",
      "PREFIX                   = \"ndr-v1\"\n",
      "VERSION                  = \"v1\"\n",
      "\n",
      "APP                      = \"sp\"\n",
      "MODEL_TYPE               = \"2tower\"\n",
      "FRAMEWORK                = \"tfrs\"\n",
      "DATA_VERSION             = \"v1\"\n",
      "TRACK_HISTORY            = \"5\"\n",
      "\n",
      "BUCKET_NAME              = \"ndr-v1-hybrid-vertex-bucket\"\n",
      "BUCKET_URI               = \"gs://ndr-v1-hybrid-vertex-bucket\"\n",
      "SOURCE_BUCKET            = \"spotify-million-playlist-dataset\"\n",
      "\n",
      "DATA_GCS_PREFIX          = \"data\"\n",
      "DATA_PATH                = \"gs://ndr-v1-hybrid-vertex-bucket/data\"\n",
      "VOCAB_SUBDIR             = \"vocabs\"\n",
      "VOCAB_FILENAME           = \"vocab_dict.pkl\"\n",
      "\n",
      "CANDIDATE_PREFIX         = \"candidates\"\n",
      "TRAIN_DIR_PREFIX         = \"train\"\n",
      "VALID_DIR_PREFIX         = \"valid\"\n",
      "\n",
      "VPC_NETWORK_FULL         = \"projects/934903580331/global/networks/ucaip-haystack-vpc-network\"\n",
      "\n",
      "BQ_DATASET               = \"spotify_e2e_test\"\n",
      "BQ_TABLE_TRAIN           = \"v2_train_flatten_last_5\"\n",
      "BQ_TABLE_VALID           = \"v2_train_flatten_valid_last_5\"\n",
      "BQ_TABLE_CANDIDATES      = \"candidates\"\n",
      "\n",
      "REPO_SRC                 = \"src\"\n",
      "PIPELINES_SUB_DIR        = \"feature_pipes\"\n",
      "\n",
      "REPOSITORY               = \"ndr-v1-spotify\"\n",
      "IMAGE_NAME               = \"train-v1\"\n",
      "REMOTE_IMAGE_NAME        = \"us-central1-docker.pkg.dev/hybrid-vertex/ndr-v1-spotify/train-v1\"\n",
      "DOCKERNAME               = \"tfrs\"\n",
      "\n",
      "SERVING_IMAGE_URI_CPU    = \"us-docker.pkg.dev/vertex-ai/prediction/tf2-cpu.2-11:latest\"\n",
      "SERVING_IMAGE_URI_GPU    = \"us-docker.pkg.dev/vertex-ai/prediction/tf2-gpu.2-11:latest\"\n",
      "\n"
     ]
    }
   ],
   "source": [
    "config = f\"\"\"\n",
    "PROJECT_ID               = \\\"{PROJECT_ID}\\\"\n",
    "PROJECT_NUM              = \\\"{PROJECT_NUM}\\\"\n",
    "LOCATION                 = \\\"{LOCATION}\\\"\n",
    "\n",
    "REGION                   = \\\"{REGION}\\\"\n",
    "BQ_LOCATION              = \\\"{BQ_LOCATION}\\\"\n",
    "VPC_NETWORK_NAME         = \\\"{VPC_NETWORK_NAME}\\\"\n",
    "\n",
    "VERTEX_SA                = \\\"{VERTEX_SA}\\\"\n",
    "\n",
    "PREFIX                   = \\\"{PREFIX}\\\"\n",
    "VERSION                  = \\\"{VERSION}\\\"\n",
    "\n",
    "APP                      = \\\"{APP}\\\"\n",
    "MODEL_TYPE               = \\\"{MODEL_TYPE}\\\"\n",
    "FRAMEWORK                = \\\"{FRAMEWORK}\\\"\n",
    "DATA_VERSION             = \\\"{DATA_VERSION}\\\"\n",
    "TRACK_HISTORY            = \\\"{TRACK_HISTORY}\\\"\n",
    "\n",
    "BUCKET_NAME              = \\\"{BUCKET_NAME}\\\"\n",
    "BUCKET_URI               = \\\"{BUCKET_URI}\\\"\n",
    "SOURCE_BUCKET            = \\\"{SOURCE_BUCKET}\\\"\n",
    "\n",
    "DATA_GCS_PREFIX          = \\\"{DATA_GCS_PREFIX}\\\"\n",
    "DATA_PATH                = \\\"{DATA_PATH}\\\"\n",
    "VOCAB_SUBDIR             = \\\"{VOCAB_SUBDIR}\\\"\n",
    "VOCAB_FILENAME           = \\\"{VOCAB_FILENAME}\\\"\n",
    "\n",
    "CANDIDATE_PREFIX         = \\\"{CANDIDATE_PREFIX}\\\"\n",
    "TRAIN_DIR_PREFIX         = \\\"{TRAIN_DIR_PREFIX}\\\"\n",
    "VALID_DIR_PREFIX         = \\\"{VALID_DIR_PREFIX}\\\"\n",
    "\n",
    "VPC_NETWORK_FULL         = \\\"{VPC_NETWORK_FULL}\\\"\n",
    "\n",
    "BQ_DATASET               = \\\"{BQ_DATASET}\\\"\n",
    "BQ_TABLE_TRAIN           = \\\"{BQ_TABLE_TRAIN}\\\"\n",
    "BQ_TABLE_VALID           = \\\"{BQ_TABLE_VALID}\\\"\n",
    "BQ_TABLE_CANDIDATES      = \\\"{BQ_TABLE_CANDIDATES}\\\"\n",
    "\n",
    "REPO_SRC                 = \\\"{REPO_SRC}\\\"\n",
    "PIPELINES_SUB_DIR        = \\\"{PIPELINES_SUB_DIR}\\\"\n",
    "\n",
    "REPOSITORY               = \\\"{REPOSITORY}\\\"\n",
    "IMAGE_NAME               = \\\"{IMAGE_NAME}\\\"\n",
    "REMOTE_IMAGE_NAME        = \\\"{REMOTE_IMAGE_NAME}\\\"\n",
    "DOCKERNAME               = \\\"{DOCKERNAME}\\\"\n",
    "\n",
    "SERVING_IMAGE_URI_CPU    = \\\"{SERVING_IMAGE_URI_CPU}\\\"\n",
    "SERVING_IMAGE_URI_GPU    = \\\"{SERVING_IMAGE_URI_GPU}\\\"\n",
    "\"\"\"\n",
    "print(config)"
   ]
  },
  {
   "cell_type": "code",
   "execution_count": 10,
   "id": "87901338-bccd-41f0-8aeb-edad2b0a91f7",
   "metadata": {},
   "outputs": [
    {
     "name": "stdout",
     "output_type": "stream",
     "text": [
      "Copying from <STDIN>...\n",
      "/ [1 files][    0.0 B/    0.0 B]                                                \n",
      "Operation completed over 1 objects.                                              \n"
     ]
    }
   ],
   "source": [
    "!echo '{config}' | gsutil cp - {BUCKET_URI}/config/notebook_env.py"
   ]
  },
  {
   "cell_type": "code",
   "execution_count": 11,
   "id": "cad49778-eb36-4b20-9201-3a266a97dbc8",
   "metadata": {},
   "outputs": [
    {
     "name": "stdout",
     "output_type": "stream",
     "text": [
      "gs://ndr-v1-hybrid-vertex-bucket/config/\n",
      "gs://ndr-v1-hybrid-vertex-bucket/data/\n",
      "gs://ndr-v1-hybrid-vertex-bucket/local-train-v1/\n",
      "gs://ndr-v1-hybrid-vertex-bucket/scale-training-v1/\n",
      "gs://ndr-v1-hybrid-vertex-bucket/tfrs-pipe-v1/\n"
     ]
    }
   ],
   "source": [
    "!gsutil ls $BUCKET_URI"
   ]
  },
  {
   "cell_type": "markdown",
   "id": "c481f5a2-7006-41f7-b111-edc4f0d722c3",
   "metadata": {},
   "source": [
    "## Create BigQuery Dataset"
   ]
  },
  {
   "cell_type": "code",
   "execution_count": 11,
   "id": "4bd8fc8c-4965-48bc-96aa-335c8a165ae0",
   "metadata": {},
   "outputs": [],
   "source": [
    "import time\n",
    "from google.cloud import bigquery\n",
    "\n",
    "bigquery_client = bigquery.Client(project=PROJECT_ID, location=BQ_LOCATION)"
   ]
  },
  {
   "cell_type": "code",
   "execution_count": null,
   "id": "0f5db076-2b7c-40c9-826d-da91c53e00a8",
   "metadata": {},
   "outputs": [],
   "source": [
    "# Create a bigquery dataset (one time operation)\n",
    "# Construct a full Dataset object to send to the API.\n",
    "dataset = bigquery.Dataset(f\"`{PROJECT_ID}.{BQ_DATASET}`\")\n",
    "\n",
    "# TODO(developer): Specify the geographic location where the dataset should reside.\n",
    "dataset.location = BQ_LOCATION\n",
    "\n",
    "# Send the dataset to the API for creation, with an explicit timeout.\n",
    "# Raises google.api_core.exceptions.Conflict if the Dataset already\n",
    "# exists within the project.\n",
    "dataset = bigquery_client.create_dataset(BQ_DATASET, timeout=30)  # Make an API request.\n",
    "print(\"Created dataset {}.{}\".format(bigquery_client.project, dataset.dataset_id))"
   ]
  },
  {
   "cell_type": "markdown",
   "id": "66e9ba87-e422-487b-8f81-fbf50aeb53e7",
   "metadata": {},
   "source": [
    "## gitignore"
   ]
  },
  {
   "cell_type": "code",
   "execution_count": 14,
   "id": "de5ce181-7f8a-43c2-b292-7d4a52e22adc",
   "metadata": {},
   "outputs": [
    {
     "name": "stdout",
     "output_type": "stream",
     "text": [
      "Overwriting .gitignore\n"
     ]
    }
   ],
   "source": [
    "%%writefile .gitignore\n",
    "__init__.cpython*\n",
    "candidate_pipeline.cypthon*\n",
    "*.cpython-310.pyc\n",
    "*.cpython-37.pyc\n",
    "*-checkpoint.py*\n",
    "*.ipynb_checkpoints\n",
    "*.ipynb_checkpoints/*\n",
    "*WIP*\n",
    "*ARCHIVED*\n",
    "# .gcloudignore\n",
    "# .git\n",
    "# .github\n",
    "*__pycache__\n",
    "# *cpython-37.pyc\n",
    "# .gitignore\n",
    "# .DS_Store"
   ]
  },
  {
   "cell_type": "markdown",
   "id": "1a9bd126-56db-4821-847b-49b8f4949449",
   "metadata": {},
   "source": [
    "**Finished**"
   ]
  }
 ],
 "metadata": {
  "environment": {
   "kernel": "python3",
   "name": "tf2-gpu.2-10.m103",
   "type": "gcloud",
   "uri": "gcr.io/deeplearning-platform-release/tf2-gpu.2-10:m103"
  },
  "kernelspec": {
   "display_name": "Python 3 (ipykernel)",
   "language": "python",
   "name": "python3"
  },
  "language_info": {
   "codemirror_mode": {
    "name": "ipython",
    "version": 3
   },
   "file_extension": ".py",
   "mimetype": "text/x-python",
   "name": "python",
   "nbconvert_exporter": "python",
   "pygments_lexer": "ipython3",
   "version": "3.7.12"
  }
 },
 "nbformat": 4,
 "nbformat_minor": 5
}
