{
 "cells": [
  {
   "cell_type": "markdown",
   "id": "dcccb56a-9f1b-4306-a7f0-acdb6fd30a03",
   "metadata": {},
   "source": [
    "# Implementing Recommendation Engines with Matching Engine\n",
    "\n",
    "![](img/arch.png)"
   ]
  },
  {
   "cell_type": "markdown",
   "id": "56f6ae7c-76c0-4590-863a-e8dc99761bff",
   "metadata": {},
   "source": [
    "#### VPC Network peering\n",
    "Matching engine is a high performance vector matching service that requires a seperate VPC to ensure performance. \n",
    "\n",
    "Below are the one-time instructions to set up a peering network. Once created, be sure to your notebook instance running this particular notebook is in the subnetwork... https://cloud.google.com/vertex-ai/docs/matching-engine/match-eng-setup\n",
    "\n",
    "![](img/subnetwork2.png) \n",
    "Then select the network from advanced options\n",
    "![](img/subnetwork.png)"
   ]
  },
  {
   "cell_type": "code",
   "execution_count": null,
   "id": "5bcd1ed2-a152-4c29-8b94-574f916ce854",
   "metadata": {},
   "outputs": [],
   "source": [
    "# PROJECT_ID = \"hybrid-vertex\" \n",
    "# NETWORK_NAME = \"ucaip-haystack-vpc-network\"  \n",
    "# PEERING_RANGE_NAME = \"ucaip-haystack-range\"\n",
    "\n",
    "# # Create a VPC network\n",
    "# ! gcloud compute networks create {NETWORK_NAME} --bgp-routing-mode=regional --subnet-mode=auto --project={PROJECT_ID}\n",
    "\n",
    "# # Add necessary firewall rules\n",
    "# ! gcloud compute firewall-rules create {NETWORK_NAME}-allow-icmp --network {NETWORK_NAME} --priority 65534 --project {PROJECT_ID} --allow icmp\n",
    "\n",
    "# ! gcloud compute firewall-rules create {NETWORK_NAME}-allow-internal --network {NETWORK_NAME} --priority 65534 --project {PROJECT_ID} --allow all --source-ranges 10.128.0.0/9\n",
    "\n",
    "# ! gcloud compute firewall-rules create {NETWORK_NAME}-allow-rdp --network {NETWORK_NAME} --priority 65534 --project {PROJECT_ID} --allow tcp:3389\n",
    "\n",
    "# ! gcloud compute firewall-rules create {NETWORK_NAME}-allow-ssh --network {NETWORK_NAME} --priority 65534 --project {PROJECT_ID} --allow tcp:22\n",
    "\n",
    "# # Reserve IP range\n",
    "# ! gcloud compute addresses create {PEERING_RANGE_NAME} --global --prefix-length=16 --network={NETWORK_NAME} --purpose=VPC_PEERING --project={PROJECT_ID} --description=\"peering range for uCAIP Haystack.\"\n",
    "\n",
    "# Set up peering with service networking\n",
    "# ! gcloud services vpc-peerings connect --service=servicenetworking.googleapis.com --network=${NETWORK_NAME} --ranges=${PEERING_RANGE_NAME} --project=${PROJECT_ID}"
   ]
  },
  {
   "cell_type": "markdown",
   "id": "6d04fca0-01f8-48e4-9113-207ffe6c2862",
   "metadata": {
    "tags": []
   },
   "source": [
    "### Deploy Playlist Query Model to a Vertex endpoint\n",
    "This will be the endpoint that a user will query with thier last n songs played "
   ]
  },
  {
   "cell_type": "code",
   "execution_count": 13,
   "id": "9a86c63a-aa13-48e9-927b-add97646eddc",
   "metadata": {},
   "outputs": [],
   "source": [
    "PROJECT_ID = 'hybrid-vertex'  # <--- TODO: CHANGE THIS\n",
    "LOCATION = 'us-central1' \n",
    "DIMENSIONS = 128 # must match output dimensions - embedding dim in two tower code\n",
    "DISPLAY_NAME = \"spotify_song_candidates_v1\"\n",
    "MODEL_PATH = 'gs://two-tower-models' #TODO change to your model directory\n",
    "\n",
    "import os\n",
    "import sys\n",
    "from google.cloud import aiplatform_v1beta1 #needed for matching engine calls\n",
    "\n",
    "\n",
    "from google.cloud import aiplatform\n",
    "\n",
    "aiplatform.init(project=PROJECT_ID, location=LOCATION)\n",
    "\n",
    "EMBEDDINGS_INITIAL_URI = f'{MODEL_PATH}/candidates'"
   ]
  },
  {
   "cell_type": "markdown",
   "id": "d6eff4f4-4159-47e6-80fd-73020ba8b85f",
   "metadata": {},
   "source": [
    "### Create a matching engine index\n",
    "\n",
    "The matching engine loads an index from a file of embeddings created from the last notebook. \n",
    "\n",
    "Many of the optimization options for matching engine are found in the ah tree settings and testing is recommended depending on each use case\n",
    "\n",
    "Recall we saved our two tower models and query embeddings (newline json) in a candidate folder like so:\n",
    "\n",
    "![](img/saved-models.png)"
   ]
  },
  {
   "cell_type": "markdown",
   "id": "475bfb90-a929-413a-a9d7-fb90f39a6c9b",
   "metadata": {},
   "source": [
    "## Set the Nearest Neighbor Options\n",
    "\n",
    "See here for tips on [tuning the index](https://cloud.google.com/vertex-ai/docs/matching-engine/using-matching-engine#tuning_the_index)\n",
    "\n",
    "From the paper - here's the rough idea\n",
    "\n",
    "1. (Initialization Step) Select a dictionary C(m) bysampling from {x(m) 1 , . . . x (m) n }. \n",
    "2. (Partition Assignment Step) For each datapoint xi , update x˜i by using the value of c ∈ C (m) that minimizes the anisotropic loss of ˜xi.\n",
    "3. (Codebook Update Step) Optimize the loss function over all codewords in all dictionaries while keeping every dictionaries partitions constant.\n",
    "4. Repeat Step 2 and Step 3 until convergence to a fixed point or maximum number of iteration is reached.\n",
    "\n",
    "\n",
    "### Relating the algorithm to the parameters:\n",
    "\n",
    "* `leafNodeEmbeddingCount` -> Number of embeddings on each leaf node. The default value is 1000 if not set.\n",
    "* `leafNodesToSearchPercent` -> The default percentage of leaf nodes that any query may be searched. Must be in range 1-100, inclusive. The default value is 10 (means 10%) if not set.\n",
    "* `approximateNeighborsCount` -> The default number of neighbors to find through approximate search before exact reordering is performed. Exact reordering is a procedure where results returned by an approximate search algorithm are reordered via a more expensive distance computation.\n",
    "* `distanceMeasureType` -> DOT_PRODUCT_DISTANCE is default - COSINE, L1 and L2^2 is available\n",
    "\n",
    "Other best practices from our PM team:\n",
    "```\n",
    "Start from leafNodesToSearchPercent=5 and approximateNeighborsCount=10 * k\n",
    "\n",
    "use default values for others.\n",
    "\n",
    "measure performance and recall and change those 2 parameters accordingly.\n",
    "```"
   ]
  },
  {
   "cell_type": "code",
   "execution_count": null,
   "id": "8dfca632-93e5-4c8f-be12-ae5d0769f961",
   "metadata": {
    "tags": []
   },
   "outputs": [
    {
     "name": "stdout",
     "output_type": "stream",
     "text": [
      "Creating MatchingEngineIndex\n",
      "Create MatchingEngineIndex backing LRO: projects/934903580331/locations/us-central1/indexes/1644077746780897280/operations/4123131564362039296\n"
     ]
    }
   ],
   "source": [
    "tree_ah_index = aiplatform.MatchingEngineIndex.create_tree_ah_index(\n",
    "    display_name=DISPLAY_NAME,\n",
    "    contents_delta_uri=EMBEDDINGS_INITIAL_URI,\n",
    "    dimensions=DIMENSIONS,\n",
    "    approximate_neighbors_count=50,\n",
    "    distance_measure_type=\"DOT_PRODUCT_DISTANCE\",\n",
    "    leaf_node_embedding_count=500,\n",
    "    leaf_nodes_to_search_percent=7,\n",
    "    description=\"Songs embeddings from the Spotify million playlist dataset\",\n",
    "    labels={\"label_name\": \"label_value\"},\n",
    ")"
   ]
  },
  {
   "cell_type": "markdown",
   "id": "2f55bfda-bf10-46b0-8abb-905e9c00544f",
   "metadata": {},
   "source": [
    "## This takes 20-30 minutes - here's some reading on what it is doing\n",
    "#### Note on the advantages of the algorithm\n",
    "\n",
    "[link](https://arxiv.org/pdf/1908.10396.pdf)\n",
    "\n",
    "```However, it is easy to see that not all pairs of (x, q) are equally important. The approximation error on the pairs which have a high inner product is far more important since they are likely to be among the top ranked pairs and can greatly affect the search result, while for the pairs whose inner product is low the approximation error matters much less. In other words, for a given datapoint x, we should quantize it with a bigger focus on its error with those queries which have high inner product with x. See Figure 1 for the illustration.```\n",
    "\n",
    "\n",
    "![](img/algo.png)\n"
   ]
  },
  {
   "cell_type": "markdown",
   "id": "f74eebbb-029a-44df-a069-217820d43217",
   "metadata": {},
   "source": [
    "### Create a matching engine endpoint\n",
    "\n",
    "Below we set the variable names for the endpoint along with other key values for resource creation"
   ]
  },
  {
   "cell_type": "code",
   "execution_count": 26,
   "id": "ed83a746-e3e6-491c-9c4b-19da2b8292dc",
   "metadata": {},
   "outputs": [
    {
     "name": "stdout",
     "output_type": "stream",
     "text": [
      "ENDPOINT: us-central1-aiplatform.googleapis.com\n",
      "PROJECT_ID: hybrid-vertex\n",
      "REGION: us-central1\n",
      "Updated property [core/project].\n",
      "Updated property [ai_platform/region].\n"
     ]
    }
   ],
   "source": [
    "ENDPOINT = \"{}-aiplatform.googleapis.com\".format(LOCATION)\n",
    "NETWORK_NAME = \"ucaip-haystack-vpc-network\"  # @param {type:\"string\"}\n",
    "PROJECT_NUMBER = !gcloud projects list --filter=\"PROJECT_ID:'{PROJECT_ID}'\" --format='value(PROJECT_NUMBER)'\n",
    "PROJECT_NUMBER = PROJECT_NUMBER[0]\n",
    "\n",
    "PARENT = \"projects/{}/locations/{}\".format(PROJECT_ID, LOCATION)\n",
    "\n",
    "print(\"ENDPOINT: {}\".format(ENDPOINT))\n",
    "print(\"PROJECT_ID: {}\".format(PROJECT_ID))\n",
    "print(\"REGION: {}\".format(LOCATION))\n",
    "\n",
    "!gcloud config set project {PROJECT_ID}\n",
    "!gcloud config set ai_platform/region {LOCATION}"
   ]
  },
  {
   "cell_type": "code",
   "execution_count": 40,
   "id": "a8ba54ca-0856-4fa4-bb18-64056259d99e",
   "metadata": {},
   "outputs": [],
   "source": [
    "index_endpoint_client = aiplatform_v1beta1.IndexEndpointServiceClient(\n",
    "    client_options=dict(api_endpoint=ENDPOINT)\n",
    ")\n",
    "\n",
    "\n",
    "VPC_NETWORK_NAME = \"projects/{}/global/networks/{}\".format(PROJECT_NUMBER, NETWORK_NAME) #FQN for VPC network name\n",
    "\n",
    "index_client = {\n",
    "    \"display_name\": \"index_endpoint_for_demo\",\n",
    "    \"network\": VPC_NETWORK_NAME,\n",
    "}\n",
    "\n",
    "r = index_endpoint_client.create_index_endpoint(\n",
    "    parent=PARENT, index_endpoint=index_client\n",
    ")"
   ]
  },
  {
   "cell_type": "markdown",
   "id": "3a31a0b7-970b-401c-a453-6bac4c1d0428",
   "metadata": {},
   "source": [
    "## Other quick notes on ME while we wait for deployment\n",
    "\n",
    "[link](https://cloud.google.com/blog/topics/developers-practitioners/find-anything-blazingly-fast-googles-vector-search-technology)\n",
    "\n",
    "Instead of comparing vectors one by one, you could use the approximate nearest neighbor (ANN) approach to improve search times. Many ANN algorithms use vector quantization (VQ), in which you split the vector space into multiple groups, define \"codewords\" to represent each group, and search only for those codewords. This VQ technique dramatically enhances query speeds and is the essential part of many ANN algorithms, just like indexing is the essential part of relational databases and full-text search engines.\n",
    "\n",
    "![](img/vectorQuant.gif)\n",
    "\n",
    "\n",
    "As you may be able to conclude from the diagram above, as the number of groups in the space increases the speed of the search decreases and the accuracy increases.  Managing this trade-off — getting higher accuracy at shorter latency — has been a key challenge with ANN algorithms. \n",
    "\n",
    "Last year, Google Research announced ScaNN, a new solution that provides state-of-the-art results for this challenge. With ScaNN, they introduced a new VQ algorithm called anisotropic vector quantization:\n",
    "\n",
    "![](img/Loss_Types.max-1000x1000.png)\n",
    "\n",
    "Anisotropic vector quantization uses a new loss function to train a model for VQ for an optimal grouping to capture farther data points (i.e. higher inner product) in a single group. With this idea, the new algorithm gives you higher accuracy at lower latency, as you can see in the benchmark result below (the violet line): \n",
    "\n",
    "![](img/speedvsaccuracy.max-1600x1600.png)\n"
   ]
  },
  {
   "cell_type": "code",
   "execution_count": 41,
   "id": "7aa8cf18-3014-4c5b-be82-2797b2059051",
   "metadata": {},
   "outputs": [
    {
     "data": {
      "text/plain": [
       "'projects/934903580331/locations/us-central1/indexEndpoints/1779185735602012160'"
      ]
     },
     "execution_count": 41,
     "metadata": {},
     "output_type": "execute_result"
    }
   ],
   "source": [
    "INDEX_ENDPOINT_NAME = r.result().name\n",
    "INDEX_ENDPOINT_NAME"
   ]
  },
  {
   "cell_type": "code",
   "execution_count": 42,
   "id": "aa66e7ba-5ced-4671-988f-3b86dc473f09",
   "metadata": {},
   "outputs": [
    {
     "data": {
      "text/plain": [
       "'projects/934903580331/locations/us-central1/indexEndpoints/1779185735602012160'"
      ]
     },
     "execution_count": 42,
     "metadata": {},
     "output_type": "execute_result"
    }
   ],
   "source": [
    "INDEX_ENDPOINT_NAME"
   ]
  },
  {
   "cell_type": "markdown",
   "id": "bf49abb5-14a1-4f46-969a-4495e98c175e",
   "metadata": {},
   "source": [
    "### Deploy the index to the endpoint and create and endpoint object"
   ]
  },
  {
   "cell_type": "code",
   "execution_count": 47,
   "id": "cb3b041a-8a4d-4775-b217-b9d56f149010",
   "metadata": {},
   "outputs": [],
   "source": [
    "DEPLOYED_INDEX_ID = \"deployed_spotify_v1\"\n",
    "\n",
    "deploy_ann_index = {\n",
    "    \"id\": DEPLOYED_INDEX_ID,\n",
    "    \"display_name\": DEPLOYED_INDEX_ID,\n",
    "    \"index\": tree_ah_index.resource_name,\n",
    "}\n",
    "\n",
    "s = index_endpoint_client.deploy_index(\n",
    "    index_endpoint=INDEX_ENDPOINT_NAME, deployed_index=deploy_ann_index\n",
    ")"
   ]
  },
  {
   "cell_type": "code",
   "execution_count": 49,
   "id": "85275bd9-776c-4223-b069-f97863a6967e",
   "metadata": {},
   "outputs": [
    {
     "name": "stdout",
     "output_type": "stream",
     "text": [
      "Poll the operation to deploy index...\n",
      "Poll the operation to deploy index...\n",
      "Poll the operation to deploy index...\n",
      "Poll the operation to deploy index...\n"
     ]
    },
    {
     "data": {
      "text/plain": [
       "deployed_index {\n",
       "  id: \"deployed_spotify_v1\"\n",
       "}"
      ]
     },
     "execution_count": 49,
     "metadata": {},
     "output_type": "execute_result"
    }
   ],
   "source": [
    "# Poll the operation until it's done successfullly.\n",
    "import time\n",
    "\n",
    "while True:\n",
    "    if s.done():\n",
    "        break\n",
    "    print(\"Poll the operation to deploy index...\")\n",
    "    time.sleep(60)\n",
    "s.result()"
   ]
  },
  {
   "cell_type": "code",
   "execution_count": 57,
   "id": "70f5b3bf-2dad-440c-930f-94ed1c518097",
   "metadata": {},
   "outputs": [
    {
     "data": {
      "text/plain": [
       "<google.cloud.aiplatform.matching_engine.matching_engine_index_endpoint.MatchingEngineIndexEndpoint object at 0x7f2272b0c910> \n",
       "resource name: projects/934903580331/locations/us-central1/indexEndpoints/1779185735602012160"
      ]
     },
     "execution_count": 57,
     "metadata": {},
     "output_type": "execute_result"
    }
   ],
   "source": [
    "# finally create the endpoint object\n",
    "ME_index_endpoint = aiplatform.MatchingEngineIndexEndpoint(INDEX_ENDPOINT_NAME)\n",
    "ME_index_endpoint"
   ]
  },
  {
   "cell_type": "markdown",
   "id": "c8c47946-81bd-48c4-a9dc-90852ad8def2",
   "metadata": {},
   "source": [
    "### You should now see matching engine resources in your GCP console:\n",
    "\n",
    "![](img/me-resources2.png)"
   ]
  },
  {
   "cell_type": "markdown",
   "id": "6540ccaa-f7e3-43e9-a17f-f2a9f85b7873",
   "metadata": {},
   "source": [
    "### Now instantiate the matching engine endpoint for queries\n",
    "We will use this later to send query results that return in a vector format from the query / playlist endpoint\n",
    "\n",
    "Deploying that endpoint is the next task"
   ]
  },
  {
   "cell_type": "code",
   "execution_count": 52,
   "id": "1765c3c5-4741-414c-943a-46770651ce53",
   "metadata": {},
   "outputs": [
    {
     "name": "stdout",
     "output_type": "stream",
     "text": [
      "Creating Model\n",
      "Create Model backing LRO: projects/934903580331/locations/us-central1/models/1962122480231383040/operations/8645871490148859904\n",
      "Model created. Resource name: projects/934903580331/locations/us-central1/models/1962122480231383040@1\n",
      "To use this Model in another session:\n",
      "model = aiplatform.Model('projects/934903580331/locations/us-central1/models/1962122480231383040@1')\n"
     ]
    }
   ],
   "source": [
    "## Deploy the query endpoint\n",
    "QUERY_MODEL = \"gs://two-tower-models/query_model\"\n",
    "\n",
    "model_gcp = aiplatform.Model.upload(\n",
    "        display_name=\"Spotify Playlist Query Model\",\n",
    "        artifact_uri=QUERY_MODEL,\n",
    "        serving_container_image_uri='us-docker.pkg.dev/vertex-ai/prediction/tf2-cpu.2-8:latest',\n",
    "        description=\"Top of the query tower, meant to return an embedding for each playlist instance\",\n",
    "    )"
   ]
  },
  {
   "cell_type": "markdown",
   "id": "095b9a18-d154-4fde-b2d9-6aa264829623",
   "metadata": {},
   "source": [
    "#### Deploy the uploaded model to an API endpoint"
   ]
  },
  {
   "cell_type": "code",
   "execution_count": 55,
   "id": "627304a6-b514-4316-8ab4-c5e581c0f1b1",
   "metadata": {},
   "outputs": [
    {
     "name": "stdout",
     "output_type": "stream",
     "text": [
      "Creating Endpoint\n",
      "Create Endpoint backing LRO: projects/934903580331/locations/us-central1/endpoints/8751765111422582784/operations/1426601287473954816\n",
      "Endpoint created. Resource name: projects/934903580331/locations/us-central1/endpoints/8751765111422582784\n",
      "To use this Endpoint in another session:\n",
      "endpoint = aiplatform.Endpoint('projects/934903580331/locations/us-central1/endpoints/8751765111422582784')\n"
     ]
    }
   ],
   "source": [
    "endpoint = aiplatform.Endpoint.create(\n",
    "    display_name=\"Spotify Playist Model Endpoint\",\n",
    "    project=PROJECT_ID,\n",
    "    location=LOCATION,\n",
    ")"
   ]
  },
  {
   "cell_type": "code",
   "execution_count": 56,
   "id": "276786e1-e917-4acb-b580-661e85d7d7ad",
   "metadata": {},
   "outputs": [
    {
     "name": "stdout",
     "output_type": "stream",
     "text": [
      "Deploying model to Endpoint : projects/934903580331/locations/us-central1/endpoints/8751765111422582784\n",
      "Deploy Endpoint model backing LRO: projects/934903580331/locations/us-central1/endpoints/8751765111422582784/operations/3083925950346297344\n"
     ]
    }
   ],
   "source": [
    "deployment = model_gcp.deploy(\n",
    "    endpoint=endpoint,\n",
    "    deployed_model_display_name=\"Spotify Playlist Query Model\",\n",
    "    machine_type=\"n1-standard-4\",\n",
    "    min_replica_count=1,\n",
    "    max_replica_count=2,\n",
    "    accelerator_type=None,\n",
    "    accelerator_count=0,\n",
    "    sync=False,\n",
    ")"
   ]
  },
  {
   "cell_type": "markdown",
   "id": "96e6eac6-5fb9-41f3-9b72-d3958cfe9473",
   "metadata": {
    "tags": []
   },
   "source": [
    "## Putting it together: Combine the query endpoint with the matching engine endpoint for state-of the art recommendations\n",
    "\n",
    "You can grab a quick example from training or build yourself by utilizing the returned example structure. Skip is to get to a psuedo-random example\n",
    "\n",
    "\n",
    "```python\n",
    "for tensor_dict in train_dataset.unbatch().skip(12905).take(1):\n",
    "    td_keys = tensor_dict.keys()\n",
    "    list_dict = {}\n",
    "    for k in td_keys:\n",
    "        list_dict.update({k: tensor_dict[k].numpy()})\n",
    "    print(list_dict)\n",
    "```"
   ]
  },
  {
   "cell_type": "code",
   "execution_count": 58,
   "id": "62829660-d30b-4008-b937-729e6d3a2d43",
   "metadata": {},
   "outputs": [
    {
     "name": "stdout",
     "output_type": "stream",
     "text": [
      "Endpoint model deployed. Resource name: projects/934903580331/locations/us-central1/endpoints/8751765111422582784\n"
     ]
    }
   ],
   "source": [
    "## Get some test instances and run through the endpoint and matching engine"
   ]
  },
  {
   "cell_type": "code",
   "execution_count": 106,
   "id": "34c07cd6-ef2e-4956-bc53-494c1eb876d9",
   "metadata": {},
   "outputs": [],
   "source": [
    "TEST_INSTANCE = {'album_name_can': 'We Just Havent Met Yet', \n",
    "                 'album_name_pl': [\"There's Really A Wolf\", 'Late Nights: The Album',\n",
    "                       'American Teen', 'Crazy In Love', 'Pony'], \n",
    "                 'album_uri_can': 'spotify:album:5l83t3mbVgCrIe1VU9uJZR', \n",
    "                 'artist_followers_can': 4339757.0, \n",
    "                 'artist_genres_can': \"'hawaiian hip hop', 'rap'\", \n",
    "                 'artist_genres_pl': [\"'hawaiian hip hop', 'rap'\",\n",
    "                       \"'chicago rap', 'dance pop', 'pop', 'pop rap', 'r&b', 'southern hip hop', 'trap', 'urban contemporary'\",\n",
    "                       \"'pop', 'pop r&b'\", \"'dance pop', 'pop', 'r&b'\",\n",
    "                       \"'chill r&b', 'pop', 'pop r&b', 'r&b', 'urban contemporary'\"], \n",
    "                 'artist_name_can': 'Russ', \n",
    "                 'artist_name_pl': ['Russ', 'Jeremih', 'Khalid', 'Beyonc\\xc3\\xa9',\n",
    "                       'William Singe'], \n",
    "                 'artist_pop_can': 82.0, \n",
    "                 'artist_pop_pl': [82., 80., 90., 87., 65.], \n",
    "                 'artist_uri_can': 'spotify:artist:1z7b1Pr1rSlvWRzsW3HOrS', \n",
    "                 'artists_followers_pl': [ 4339757.,  5611842., 15046756., 30713126.,   603837.], \n",
    "                 'collaborative': 'false', \n",
    "                 'description_pl': '', \n",
    "                 'duration_ms_can': 237322.0, \n",
    "                 'duration_ms_songs_pl': [237506., 217200., 219080., 226400., 121739.], \n",
    "                 'n_songs_pl': 8.0, \n",
    "                 'name': 'Lit Tunes ', \n",
    "                 'num_albums_pl': 8.0, \n",
    "                 'num_artists_pl': 8.0, \n",
    "                 'track_name_can': 'We Just Havent Met Yet', \n",
    "                 'track_name_pl': ['Losin Control', 'Paradise', 'Location',\n",
    "                       'Crazy In Love - Remix', 'Pony'], \n",
    "                 'track_pop_can': 57.0, \n",
    "                 'track_pop_pl': [79., 58., 83., 71., 57.], \n",
    "                 'track_uri_can': 'spotify:track:0VzDv4wiuZsLsNOmfaUy2W', \n",
    "                 'track_uri_pl': ['spotify:track:4cxMGhkinTocPSVVKWIw0d',\n",
    "                       'spotify:track:1wNEBPo3nsbGCZRryI832I',\n",
    "                       'spotify:track:152lZdxL1OR0ZMW6KquMif',\n",
    "                       'spotify:track:2f4IuijXLxYOeBncS60GUD',\n",
    "                       'spotify:track:4Lj8paMFwyKTGfILLELVxt']}"
   ]
  },
  {
   "cell_type": "code",
   "execution_count": 107,
   "id": "09b3e9aa-1dc8-44cd-ba75-d2837c00bc8f",
   "metadata": {},
   "outputs": [
    {
     "data": {
      "text/plain": [
       "Prediction(predictions=[[0.128930748, 0.0758542866, 0.00413669599, 0.197166026, -0.036836, -0.0114861634, -0.0576318167, -0.0876850411, 0.00566330645, -0.18946965, -0.0157357622, 0.123850837, -0.0478837714, 0.0853605419, 0.125071302, 0.122033231, -0.240515724, 0.0300641749, 0.0398616493, -0.0581166968, 0.0642282888, -0.0654038638, -0.100269109, 0.0357381143, 0.13939175, -0.011915, -0.0742983222, 0.0138411354, 0.175804287, -0.0523798652, -0.124861173, 0.155199274, 0.11165259, 0.117280371, 0.107741825, -0.055619996, -0.0987898186, -0.216158062, 0.116651565, 0.112431213, -0.0507447049, 0.0107860491, -0.0911437348, 0.0343702696, 0.0201188028, 0.0386764593, -0.079084076, -0.0200582091, 0.0670733, 0.126340389, 0.191650033, 0.0496708415, 0.0262112785, 0.00953791197, -0.0607018545, -0.00440264679, -0.0947700292, 0.0479996055, 0.0314237513, -0.0266835187, -0.0229043439, 0.0662423447, 0.0380072929, -0.025625119, 0.0943908617, 0.140395716, 0.148006424, -0.0792826712, -0.119296104, -0.0138080716, 0.195364371, 0.0489750318, -0.0635840744, -0.066948548, 0.00461666705, 0.115677215, 0.061909806, -0.0114158494, 0.104693465, -0.0198418703, 0.0686711743, -0.056676168, 0.0357516669, 0.0138624376, 0.0228919238, 0.00643607369, -0.021536326, 0.0188908111, -0.156312138, 0.0925719142, -0.087455608, 0.0354581773, 0.0665748045, -0.153897762, 0.0176389385, -0.071995981, 0.0826660246, -0.111722119, 0.0953452066, 0.126198724, 0.0883267075, 0.0755137, 0.042588912, 0.0794495, 0.0768831149, 0.0116357077, -0.0510183834, -0.116812102, -0.112006277, 0.135326236, 0.0224637426, 0.0939099565, -0.0853278562, 0.0308646057, -0.0025469535, -0.0787903517, -0.0608319379, 0.0843867734, -0.00980992336, 0.0385341533, 0.0304767024, 0.0249107461, 0.0642679483, -0.0905585438, 0.102414101, 0.00846882537, 0.02468854, -0.0911945701]], deployed_model_id='1941671563954749440', model_version_id='1', model_resource_name='projects/934903580331/locations/us-central1/models/1962122480231383040', explanations=None)"
      ]
     },
     "execution_count": 107,
     "metadata": {},
     "output_type": "execute_result"
    }
   ],
   "source": [
    "deployment.predict([TEST_INSTANCE])"
   ]
  },
  {
   "cell_type": "markdown",
   "id": "dc9d7f22-3455-4054-adf2-d4b41f6241c4",
   "metadata": {},
   "source": [
    "### It works - now let's feed the embedding to find the closest neighbors"
   ]
  },
  {
   "cell_type": "code",
   "execution_count": 97,
   "id": "09056695-8641-4e5d-bd22-e99bc8b51a8a",
   "metadata": {},
   "outputs": [],
   "source": [
    "playlist_emb = deployment.predict([TEST_INSTANCE])"
   ]
  },
  {
   "cell_type": "code",
   "execution_count": 99,
   "id": "c74f2b06-ab7a-4026-b116-26d54dcd6090",
   "metadata": {},
   "outputs": [
    {
     "data": {
      "text/plain": [
       "[[MatchNeighbor(id=\"b'spotify:track:00U0pedRUMEzREpyRqbVT6'\", distance=10.376896858215332),\n",
       "  MatchNeighbor(id=\"b'spotify:track:4RPOBjLl5gEGSefwfzAn3o'\", distance=5.326107025146484),\n",
       "  MatchNeighbor(id=\"b'spotify:track:1MzFmVDSl7Vm00f3Hw4Xfx'\", distance=2.450068235397339),\n",
       "  MatchNeighbor(id=\"b'spotify:track:5nnKdN5H0YcmtG1DiH1NCH'\", distance=1.645599126815796),\n",
       "  MatchNeighbor(id=\"b'spotify:track:4mmPrzJgyouQfMpI2ScJOF'\", distance=1.132645845413208),\n",
       "  MatchNeighbor(id=\"b'spotify:track:2Es8ZXN2SONtK73rOp44xz'\", distance=1.0097789764404297),\n",
       "  MatchNeighbor(id=\"b'spotify:track:1RMnFV3jidSADH1ZSF8EAr'\", distance=0.8013637065887451),\n",
       "  MatchNeighbor(id=\"b'spotify:track:2EYm0dpAdIiSeQZirwT9g6'\", distance=0.3175334930419922),\n",
       "  MatchNeighbor(id=\"b'spotify:track:3ILdbGuEUwvvSuq1ZSMPC8'\", distance=-0.03568708896636963),\n",
       "  MatchNeighbor(id=\"b'spotify:track:3HWQ1VCfQWPgTv9BhVyfFd'\", distance=-0.17635869979858398)]]"
      ]
     },
     "execution_count": 99,
     "metadata": {},
     "output_type": "execute_result"
    }
   ],
   "source": [
    "ME_index_endpoint.match(deployed_index_id='deployed_spotify_v1',\n",
    "                       queries=playlist_emb.predictions,\n",
    "                       num_neighbors=10)"
   ]
  },
  {
   "cell_type": "markdown",
   "id": "8f74a515-56a5-4fe6-bf43-8434d2743b5c",
   "metadata": {},
   "source": [
    "#### All of this can better be explored with `spotipy`\n",
    "##### Docs are here, we will use this to parse the data\n",
    "\n",
    "https://spotipy.readthedocs.io/en/master/\n",
    "\n",
    "`!pip install spotipy --user`\n",
    "\n",
    "Also get a dev token for free from Spotify:\n",
    "\n",
    "https://developer.spotify.com/dashboard/\n",
    "\n",
    "As mentioned in the docs, be sure to save your credentials as environment variables via the terminal (do not save these to code!)\n",
    "\n",
    "Example:\n",
    "\n",
    "```\n",
    "export SPOTIPY_CLIENT_ID='your-spotify-client-id'\n",
    "export SPOTIPY_CLIENT_SECRET='your-spotify-client-secret'\n",
    "```"
   ]
  },
  {
   "cell_type": "code",
   "execution_count": 102,
   "id": "5bf4c78e-b5d0-4748-b806-b5898809dff7",
   "metadata": {},
   "outputs": [
    {
     "ename": "ModuleNotFoundError",
     "evalue": "No module named 'spotipy'",
     "output_type": "error",
     "traceback": [
      "\u001b[0;31m---------------------------------------------------------------------------\u001b[0m",
      "\u001b[0;31mModuleNotFoundError\u001b[0m                       Traceback (most recent call last)",
      "\u001b[0;32m/tmp/ipykernel_27710/4221687609.py\u001b[0m in \u001b[0;36m<module>\u001b[0;34m\u001b[0m\n\u001b[0;32m----> 1\u001b[0;31m \u001b[0;32mimport\u001b[0m \u001b[0mspotipy\u001b[0m\u001b[0;34m\u001b[0m\u001b[0;34m\u001b[0m\u001b[0m\n\u001b[0m\u001b[1;32m      2\u001b[0m \u001b[0;32mfrom\u001b[0m \u001b[0mspotipy\u001b[0m\u001b[0;34m.\u001b[0m\u001b[0moauth2\u001b[0m \u001b[0;32mimport\u001b[0m \u001b[0mSpotifyClientCredentials\u001b[0m\u001b[0;34m\u001b[0m\u001b[0;34m\u001b[0m\u001b[0m\n\u001b[1;32m      3\u001b[0m \u001b[0;34m\u001b[0m\u001b[0m\n\u001b[1;32m      4\u001b[0m \u001b[0mauth_manager\u001b[0m \u001b[0;34m=\u001b[0m \u001b[0mSpotifyClientCredentials\u001b[0m\u001b[0;34m(\u001b[0m\u001b[0;34m)\u001b[0m\u001b[0;34m\u001b[0m\u001b[0;34m\u001b[0m\u001b[0m\n\u001b[1;32m      5\u001b[0m \u001b[0msp\u001b[0m \u001b[0;34m=\u001b[0m \u001b[0mspotipy\u001b[0m\u001b[0;34m.\u001b[0m\u001b[0mSpotify\u001b[0m\u001b[0;34m(\u001b[0m\u001b[0mauth_manager\u001b[0m\u001b[0;34m=\u001b[0m\u001b[0mauth_manager\u001b[0m\u001b[0;34m)\u001b[0m\u001b[0;34m\u001b[0m\u001b[0;34m\u001b[0m\u001b[0m\n",
      "\u001b[0;31mModuleNotFoundError\u001b[0m: No module named 'spotipy'"
     ]
    }
   ],
   "source": [
    "import spotipy\n",
    "from spotipy.oauth2 import SpotifyClientCredentials\n",
    "\n",
    "auth_manager = SpotifyClientCredentials()\n",
    "sp = spotipy.Spotify(auth_manager=auth_manager)\n",
    "\n",
    "playlists = sp.user_playlists('spotify')"
   ]
  }
 ],
 "metadata": {
  "environment": {
   "kernel": "python3",
   "name": "tf2-gpu.2-8.m96",
   "type": "gcloud",
   "uri": "gcr.io/deeplearning-platform-release/tf2-gpu.2-8:m96"
  },
  "kernelspec": {
   "display_name": "Python 3",
   "language": "python",
   "name": "python3"
  },
  "language_info": {
   "codemirror_mode": {
    "name": "ipython",
    "version": 3
   },
   "file_extension": ".py",
   "mimetype": "text/x-python",
   "name": "python",
   "nbconvert_exporter": "python",
   "pygments_lexer": "ipython3",
   "version": "3.7.12"
  }
 },
 "nbformat": 4,
 "nbformat_minor": 5
}
