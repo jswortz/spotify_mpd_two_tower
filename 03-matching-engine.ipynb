{
 "cells": [
  {
   "cell_type": "markdown",
   "id": "dcccb56a-9f1b-4306-a7f0-acdb6fd30a03",
   "metadata": {},
   "source": [
    "# Implementing Recommendation Engines with Matching Engine\n",
    "\n",
    "![](img/arch.png)"
   ]
  },
  {
   "cell_type": "markdown",
   "id": "6d04fca0-01f8-48e4-9113-207ffe6c2862",
   "metadata": {
    "tags": []
   },
   "source": [
    "### Deploy Playlist Query Model to a Vertex endpoint\n",
    "This will be the endpoint that a user will query with thier last n songs played "
   ]
  },
  {
   "cell_type": "code",
   "execution_count": 1,
   "id": "9a86c63a-aa13-48e9-927b-add97646eddc",
   "metadata": {
    "tags": []
   },
   "outputs": [],
   "source": [
    "import os\n",
    "\n",
    "PROJECT_ID = 'wortz-project-352116'  # <--- TODO: CHANGE THIS\n",
    "PROJECT = PROJECT_ID\n",
    "LOCATION = 'us-central1'\n",
    "REGION = 'us-central1'\n",
    "DIMENSIONS = 128 # must match output dimensions - embedding dim in two tower code\n",
    "DISPLAY_NAME = \"spotify_merlin_candidates_v1\"\n",
    "OUTPUT_PATH = 'gs://spotify-jsw-mpd-2023'\n",
    "# OUTPUT_PATH = os.path.join(BUCKET, \"merlin-processed\")\n",
    "MODEL_PATH = os.path.join(OUTPUT_PATH, 'query_model_merlin')\n",
    "INDEX_ENDPOINT_ID = 'merlin_spotify_candidate_deployed_index_v1'\n",
    "\n",
    "import sys\n",
    "from google.cloud import aiplatform_v1beta1 #needed for matching engine calls\n",
    "\n",
    "\n",
    "from google.cloud import aiplatform\n",
    "\n",
    "aiplatform.init(project=PROJECT_ID, location=LOCATION)\n",
    "\n",
    "EMBEDDINGS_INITIAL_URI = os.path.join(OUTPUT_PATH, 'merlin-embeddings')"
   ]
  },
  {
   "cell_type": "markdown",
   "id": "d6eff4f4-4159-47e6-80fd-73020ba8b85f",
   "metadata": {},
   "source": [
    "### Create a matching engine index\n",
    "\n",
    "The matching engine loads an index from a file of embeddings created from the last notebook. \n",
    "\n",
    "Many of the optimization options for matching engine are found in the ah tree settings and testing is recommended depending on each use case\n",
    "\n",
    "Recall we saved our two tower models and query embeddings (newline json) in a candidate folder like so:\n",
    "\n",
    "![](img/saved-models.png)"
   ]
  },
  {
   "cell_type": "markdown",
   "id": "475bfb90-a929-413a-a9d7-fb90f39a6c9b",
   "metadata": {},
   "source": [
    "## Set the Nearest Neighbor Options\n",
    "\n",
    "See here for tips on [tuning the index](https://cloud.google.com/vertex-ai/docs/matching-engine/using-matching-engine#tuning_the_index)\n",
    "\n",
    "From the paper - here's the rough idea\n",
    "\n",
    "1. (Initialization Step) Select a dictionary C(m) bysampling from {x(m) 1 , . . . x (m) n }. \n",
    "2. (Partition Assignment Step) For each datapoint xi , update x˜i by using the value of c ∈ C (m) that minimizes the anisotropic loss of ˜xi.\n",
    "3. (Codebook Update Step) Optimize the loss function over all codewords in all dictionaries while keeping every dictionaries partitions constant.\n",
    "4. Repeat Step 2 and Step 3 until convergence to a fixed point or maximum number of iteration is reached.\n",
    "\n",
    "\n",
    "### Relating the algorithm to the parameters:\n",
    "\n",
    "* `leafNodeEmbeddingCount` -> Number of embeddings on each leaf node. The default value is 1000 if not set.\n",
    "* `leafNodesToSearchPercent` -> The default percentage of leaf nodes that any query may be searched. Must be in range 1-100, inclusive. The default value is 10 (means 10%) if not set.\n",
    "* `approximateNeighborsCount` -> The default number of neighbors to find through approximate search before exact reordering is performed. Exact reordering is a procedure where results returned by an approximate search algorithm are reordered via a more expensive distance computation.\n",
    "* `distanceMeasureType` -> DOT_PRODUCT_DISTANCE is default - COSINE, L1 and L2^2 is available\n",
    "\n",
    "Other best practices from our PM team:\n",
    "```\n",
    "Start from leafNodesToSearchPercent=5 and approximateNeighborsCount=10 * k\n",
    "\n",
    "use default values for others.\n",
    "\n",
    "measure performance and recall and change those 2 parameters accordingly.\n",
    "```"
   ]
  },
  {
   "cell_type": "code",
   "execution_count": 5,
   "id": "8dfca632-93e5-4c8f-be12-ae5d0769f961",
   "metadata": {
    "tags": []
   },
   "outputs": [
    {
     "name": "stdout",
     "output_type": "stream",
     "text": [
      "Creating MatchingEngineIndex\n",
      "Create MatchingEngineIndex backing LRO: projects/679926387543/locations/us-central1/indexes/1995121023204196352/operations/182364792424497152\n",
      "MatchingEngineIndex created. Resource name: projects/679926387543/locations/us-central1/indexes/1995121023204196352\n",
      "To use this MatchingEngineIndex in another session:\n",
      "index = aiplatform.MatchingEngineIndex('projects/679926387543/locations/us-central1/indexes/1995121023204196352')\n"
     ]
    }
   ],
   "source": [
    "tree_ah_index = aiplatform.MatchingEngineIndex.create_tree_ah_index(\n",
    "    display_name=DISPLAY_NAME,\n",
    "    contents_delta_uri=EMBEDDINGS_INITIAL_URI,\n",
    "    dimensions=DIMENSIONS,\n",
    "    approximate_neighbors_count=50,\n",
    "    distance_measure_type=\"DOT_PRODUCT_DISTANCE\",\n",
    "    leaf_node_embedding_count=500,\n",
    "    leaf_nodes_to_search_percent=7,\n",
    "    description=\"Songs embeddings from the Spotify million playlist dataset\",\n",
    "    labels={\"label_name\": \"label_value\"},\n",
    ")"
   ]
  },
  {
   "cell_type": "markdown",
   "id": "214cebb6-89da-4391-add2-72f3f7110771",
   "metadata": {},
   "source": [
    "### Public Endpoint Example\n",
    "\n",
    "```\n",
    "POST https://LOCATION-aiplatform.googleapis.com/v1/projects/PROJECT/locations/LOCATION/indexEndpoints\n",
    "{\n",
    "  \"display_name\": \"public-endpoint-test1\", \"publicEndpointEnabled: true\"\n",
    " \n",
    "}\n",
    "```"
   ]
  },
  {
   "cell_type": "code",
   "execution_count": 63,
   "id": "2c59458f-c671-473b-8c81-bde9c8ab8c42",
   "metadata": {},
   "outputs": [],
   "source": [
    "import requests\n",
    "import json\n",
    "import google.auth\n",
    "import google.auth.transport.requests\n",
    "\n",
    "\n",
    "\n",
    "credentials, project = google.auth.default()\n",
    "request = google.auth.transport.requests.Request()\n",
    "credentials.refresh(request)\n",
    "ENDPOINT_NAME = 'public-test-wortz2'\n",
    "\n",
    "endpoint_create_data = {\n",
    "    'display_name': ENDPOINT_NAME,\n",
    "    'publicEndpointEnabled': True\n",
    "}\n",
    "\n",
    "rpc_address = f'https://{LOCATION}-aiplatform.googleapis.com/v1/projects/{PROJECT}/locations/{LOCATION}/indexEndpoints'\n",
    "endpoint_json_data = json.dumps(endpoint_create_data)\n",
    "\n",
    "header = {'Authorization': 'Bearer ' + credentials.token}\n",
    "\n",
    "\n",
    "create_endpoint_response = requests.post(rpc_address, data=endpoint_json_data, headers=header).json()"
   ]
  },
  {
   "cell_type": "code",
   "execution_count": 71,
   "id": "a840696d-231d-4f39-800b-ef1e641da097",
   "metadata": {},
   "outputs": [
    {
     "data": {
      "text/plain": [
       "{'name': 'projects/679926387543/locations/us-central1/indexEndpoints/5619392823330603008/operations/4938500250462584832',\n",
       " 'metadata': {'@type': 'type.googleapis.com/google.cloud.aiplatform.v1.CreateIndexEndpointOperationMetadata',\n",
       "  'genericMetadata': {'createTime': '2023-04-08T20:34:09.727324Z',\n",
       "   'updateTime': '2023-04-08T20:34:09.727324Z'}}}"
      ]
     },
     "execution_count": 71,
     "metadata": {},
     "output_type": "execute_result"
    }
   ],
   "source": [
    "create_endpoint_response"
   ]
  },
  {
   "cell_type": "code",
   "execution_count": 105,
   "id": "ad9a702a-8128-4fda-8112-500303905d6d",
   "metadata": {},
   "outputs": [
    {
     "data": {
      "text/plain": [
       "'projects/679926387543/locations/us-central1/indexEndpoints/5619392823330603008'"
      ]
     },
     "execution_count": 105,
     "metadata": {},
     "output_type": "execute_result"
    }
   ],
   "source": [
    "OPERATION_NAME = create_endpoint_response['name']\n",
    "PUBLIC_ENDPOINT_NAME, _, _ = OPERATION_NAME.partition('/operations')\n",
    "_, _, ENDPOINT_NUM = PUBLIC_ENDPOINT_NAME.partition('indexEndpoints/')\n",
    "\n",
    "\n",
    "#set the deployed index name\n",
    "INDEX_ENDPOINT_ID = 'merlin_spotify_candidate_deployed_index_v1'\n",
    "\n",
    "PUBLIC_ENDPOINT_NAME"
   ]
  },
  {
   "cell_type": "markdown",
   "id": "cdf8c570-c357-4b61-8dc7-a67ca58f7e14",
   "metadata": {},
   "source": [
    "### Create a matching engine endpoint\n",
    "\n",
    "Below we set the variable names for the endpoint along with other key values for resource creation"
   ]
  },
  {
   "cell_type": "code",
   "execution_count": 79,
   "id": "bc1fa94d-1d35-4bb6-a281-e62bdf505087",
   "metadata": {},
   "outputs": [],
   "source": [
    "ENDPOINT = aiplatform.MatchingEngineIndexEndpoint(\n",
    "    index_endpoint_name=PUBLIC_ENDPOINT_NAME,\n",
    "    project=PROJECT,\n",
    "    location=LOCATION,\n",
    ")"
   ]
  },
  {
   "cell_type": "markdown",
   "id": "86599f70-f264-450b-8506-fcc1f26ee72b",
   "metadata": {},
   "source": [
    "### Deploy the index to the endpoint and create and endpoint object"
   ]
  },
  {
   "cell_type": "code",
   "execution_count": null,
   "id": "9021a13f-cfba-4435-ad4b-63fe353afda1",
   "metadata": {},
   "outputs": [],
   "source": [
    "ME_index_endpoint = ENDPOINT.deploy_index(\n",
    "    index=tree_ah_index,\n",
    "    deployed_index_id=INDEX_ENDPOINT_ID,\n",
    "    display_name='Spotify Merlin Deployed Index v1'\n",
    ")"
   ]
  },
  {
   "cell_type": "markdown",
   "id": "2f55bfda-bf10-46b0-8abb-905e9c00544f",
   "metadata": {},
   "source": [
    "## This takes 20-30 minutes - here's some reading on what it is doing\n",
    "#### Note on the advantages of the algorithm\n",
    "\n",
    "[link](https://arxiv.org/pdf/1908.10396.pdf)\n",
    "\n",
    "```However, it is easy to see that not all pairs of (x, q) are equally important. The approximation error on the pairs which have a high inner product is far more important since they are likely to be among the top ranked pairs and can greatly affect the search result, while for the pairs whose inner product is low the approximation error matters much less. In other words, for a given datapoint x, we should quantize it with a bigger focus on its error with those queries which have high inner product with x. See Figure 1 for the illustration.```\n",
    "\n",
    "\n",
    "![](img/algo.png)\n"
   ]
  },
  {
   "cell_type": "markdown",
   "id": "3a31a0b7-970b-401c-a453-6bac4c1d0428",
   "metadata": {},
   "source": [
    "## Other quick notes on ME while we wait for deployment\n",
    "\n",
    "[link](https://cloud.google.com/blog/topics/developers-practitioners/find-anything-blazingly-fast-googles-vector-search-technology)\n",
    "\n",
    "Instead of comparing vectors one by one, you could use the approximate nearest neighbor (ANN) approach to improve search times. Many ANN algorithms use vector quantization (VQ), in which you split the vector space into multiple groups, define \"codewords\" to represent each group, and search only for those codewords. This VQ technique dramatically enhances query speeds and is the essential part of many ANN algorithms, just like indexing is the essential part of relational databases and full-text search engines.\n",
    "\n",
    "![](img/vectorQuant.gif)\n",
    "\n",
    "\n",
    "As you may be able to conclude from the diagram above, as the number of groups in the space increases the speed of the search decreases and the accuracy increases.  Managing this trade-off — getting higher accuracy at shorter latency — has been a key challenge with ANN algorithms. \n",
    "\n",
    "Last year, Google Research announced ScaNN, a new solution that provides state-of-the-art results for this challenge. With ScaNN, they introduced a new VQ algorithm called anisotropic vector quantization:\n",
    "\n",
    "![](img/Loss_Types.max-1000x1000.png)\n",
    "\n",
    "Anisotropic vector quantization uses a new loss function to train a model for VQ for an optimal grouping to capture farther data points (i.e. higher inner product) in a single group. With this idea, the new algorithm gives you higher accuracy at lower latency, as you can see in the benchmark result below (the violet line): \n",
    "\n",
    "![](img/speedvsaccuracy.max-1600x1600.png)\n"
   ]
  },
  {
   "cell_type": "markdown",
   "id": "c8c47946-81bd-48c4-a9dc-90852ad8def2",
   "metadata": {},
   "source": [
    "### You should now see matching engine resources in your GCP console:\n",
    "\n",
    "![](img/me-resources2.png)\n",
    "\n",
    "![](img/me-indexes.png)"
   ]
  },
  {
   "cell_type": "markdown",
   "id": "6540ccaa-f7e3-43e9-a17f-f2a9f85b7873",
   "metadata": {
    "tags": []
   },
   "source": [
    "## Note the endpoint has already been created in the `02-build-custom-query-predictor`\n"
   ]
  },
  {
   "cell_type": "code",
   "execution_count": 2,
   "id": "276786e1-e917-4acb-b580-661e85d7d7ad",
   "metadata": {
    "tags": []
   },
   "outputs": [],
   "source": [
    "# #from the last noteobook copy/paste\n",
    "\n",
    "endpoint = aiplatform.Endpoint('projects/679926387543/locations/us-central1/endpoints/7469831310459011072')"
   ]
  },
  {
   "cell_type": "markdown",
   "id": "96e6eac6-5fb9-41f3-9b72-d3958cfe9473",
   "metadata": {
    "tags": []
   },
   "source": [
    "## Putting it together: Combine the query endpoint with the matching engine endpoint for state-of the art recommendations\n",
    "\n",
    "You can grab a quick example from training or build yourself by utilizing the returned example structure. Skip is to get to a psuedo-random example. The data is the same from training - you can also construct your own test instances using the format provided\n",
    "\n",
    "\n",
    "```python\n",
    "for tensor_dict in train_dataset.unbatch().skip(12905).take(1):\n",
    "    td_keys = tensor_dict.keys()\n",
    "    list_dict = {}\n",
    "    for k in td_keys:\n",
    "        list_dict.update({k: tensor_dict[k].numpy()})\n",
    "    print(list_dict)\n",
    "```"
   ]
  },
  {
   "cell_type": "markdown",
   "id": "455b4179-390d-45da-bc9e-5d4a74d97c8c",
   "metadata": {},
   "source": [
    "## Get some test instances and run through the endpoint and matching engine"
   ]
  },
  {
   "cell_type": "code",
   "execution_count": 20,
   "id": "43512922-dc8a-4e19-8047-710c2ea72d3d",
   "metadata": {
    "tags": []
   },
   "outputs": [],
   "source": [
    "TEST_INSTANCE = {\n",
    "  \"pid\": 1,\n",
    "  \"pl_name_src\": \"Jazz Standards\",\n",
    "  \"pl_collaborative_src\": \"false\",\n",
    "  \"pl_duration_ms_new\": 2968084.0,\n",
    "  \"artist_name_pl\": [\"Miles Davis\", \"Duke Ellington\", \"Charlie Parker\", \"Dianne Reeves\", \"Pat Metheny\"],\n",
    "  \"artist_uri_pl\": [\"spotify:artist:0kbYTNQb4Pb1rPbbaF0pT4\", \"spotify:artist:4F7Q5NV6h5TSwCainz8S5A\", \"spotify:artist:4Ww5mwS7BWYjoZTUIrMHfC\", \"spotify:artist:7nwrblOf59ulOiB6djwPVh\", \"spotify:artist:3t58jfUhoMLYVO14XaUFLA\"],\n",
    "  \"track_uri_pl\": [\"spotify:track:0aWMVrwxPNYkKmFthzmpRi\", \"spotify:track:0PrGgNDwfJPNXADJYROvBw\", \"spotify:track:5rPMbUxXRXvWu89k0n6Sxj\", \"spotify:track:3DRL2sPYVbx87ArfP2TBqD\", \"spotify:track:7rYSSGZShi5Zgde60MQAMx\"],\n",
    "  \"track_name_pl\": [\"Blue in Green\", \"In A Sentimental Mood\", \"April In Paris\", \"How High The Moon\", \"All the Things You Are\"],\n",
    "  \"album_name_pl\": [\"Kind Of Blue (Legacy Edition)\", \"Duke Ellington \\u0026 John Coltrane\", \"The Genius Of Charlie Parker #2: April In Paris\", \"Good Night, And Good Luck\", \"Question and Answer\"],\n",
    "}"
   ]
  },
  {
   "cell_type": "markdown",
   "id": "9706f910-1d1f-48a9-a7e6-6419f3acd9fe",
   "metadata": {},
   "source": [
    "#### Before we submit the prediction to test, we have to call the workflow\n",
    "Ideally this could be implemented with a custom prediction routine so the data is pre-processed ahead of time.\n",
    "\n",
    "More info on how to implement a pre-processer custom model: https://cloud.google.com/vertex-ai/docs/predictions/custom-prediction-routines"
   ]
  },
  {
   "cell_type": "markdown",
   "id": "dc9d7f22-3455-4054-adf2-d4b41f6241c4",
   "metadata": {},
   "source": [
    "# Get our predictions for the next song recommendation - now let's feed the embedding to find the closest neighbors\n",
    "(higher distance score better - this is inner product)"
   ]
  },
  {
   "cell_type": "code",
   "execution_count": 27,
   "id": "09056695-8641-4e5d-bd22-e99bc8b51a8a",
   "metadata": {
    "tags": []
   },
   "outputs": [],
   "source": [
    "playlist_emb = endpoint.predict([TEST_INSTANCE, TEST_INSTANCE])"
   ]
  },
  {
   "cell_type": "code",
   "execution_count": 28,
   "id": "8262b74d-6fce-4527-b4d6-24a482511013",
   "metadata": {
    "tags": []
   },
   "outputs": [
    {
     "data": {
      "text/plain": [
       "Prediction(predictions=[[0.0, 0.0, 0.4922759830951691, 3.138733625411987, 0.5686017274856567, 1.365304350852966, 0.0, 0.0, 1.224401354789734, 0.7344078421592712, 0.0, 0.0, 0.7765825390815735, 0.05535386130213737, 0.0, 0.0, 0.0, 0.6895463466644287, 3.277911424636841, 1.6609787940979, 0.0, 3.363595962524414, 0.0, 2.36107325553894, 0.0, 0.0, 0.408475935459137, 0.4845336079597473, 1.05967390537262, 0.0, 0.0, 0.0, 1.358271241188049, 2.016084671020508, 0.04031898081302643, 0.0, 0.0, 1.558114409446716, 0.0, 0.08912238478660583, 0.4924914836883545, 0.0, 0.0, 2.32361102104187, 0.8849217891693115, 0.0, 1.193393707275391, 0.5141043066978455, 0.2576574087142944, 0.0, 0.0, 0.5713821053504944, 3.878991603851318, 0.5326656103134155, 0.9144375920295715, 0.0, 0.0, 0.213668167591095, 0.0, 0.6621321439743042, 1.690809845924377, 0.0, 0.0, 0.0, 0.0, 0.0, 0.0, 0.5349928736686707, 1.141141653060913, 0.0, 0.0, 0.1994768977165222, 0.0, 0.06651673465967178, 0.0, 0.112617239356041, 2.056260108947754, 2.001875638961792, 0.3434025347232819, 0.5468087792396545, 0.6266900897026062, 1.300193786621094, 0.08063191920518875, 1.877005100250244, 0.1852090656757355, 1.612062573432922, 0.5363885164260864, 0.008791208267211914, 0.1380372643470764, 3.031362295150757, 0.6365888118743896, 2.83107852935791, 1.128841638565063, 2.998222589492798, 0.0, 0.6473562717437744, 4.823501110076904, 0.8748934268951416, 2.042121887207031, 1.011584162712097, 0.9635501503944397, 0.5040227174758911, 0.1941297501325607, 0.0, 0.4650025367736816, 2.375653505325317, 0.4356914460659027, 0.0, 0.0, 1.496222615242004, 0.3436346650123596, 0.0, 0.994027853012085, 0.0, 0.0602339543402195, 0.0, 0.0, 1.141453862190247, 0.0, 1.624291658401489, 0.3072492182254791, 0.0, 0.0, 0.6754260063171387, 3.001095533370972, 0.4715988636016846, 2.158694982528687, 2.686468601226807], [0.0, 0.0, 0.4922759830951691, 3.138733625411987, 0.5686017274856567, 1.365304350852966, 0.0, 0.0, 1.224401354789734, 0.7344078421592712, 0.0, 0.0, 0.7765825390815735, 0.05535386130213737, 0.0, 0.0, 0.0, 0.6895463466644287, 3.277911424636841, 1.6609787940979, 0.0, 3.363595962524414, 0.0, 2.36107325553894, 0.0, 0.0, 0.408475935459137, 0.4845336079597473, 1.05967390537262, 0.0, 0.0, 0.0, 1.358271241188049, 2.016084671020508, 0.04031898081302643, 0.0, 0.0, 1.558114409446716, 0.0, 0.08912238478660583, 0.4924914836883545, 0.0, 0.0, 2.32361102104187, 0.8849217891693115, 0.0, 1.193393707275391, 0.5141043066978455, 0.2576574087142944, 0.0, 0.0, 0.5713821053504944, 3.878991603851318, 0.5326656103134155, 0.9144375920295715, 0.0, 0.0, 0.213668167591095, 0.0, 0.6621321439743042, 1.690809845924377, 0.0, 0.0, 0.0, 0.0, 0.0, 0.0, 0.5349928736686707, 1.141141653060913, 0.0, 0.0, 0.1994768977165222, 0.0, 0.06651673465967178, 0.0, 0.112617239356041, 2.056260108947754, 2.001875638961792, 0.3434025347232819, 0.5468087792396545, 0.6266900897026062, 1.300193786621094, 0.08063191920518875, 1.877005100250244, 0.1852090656757355, 1.612062573432922, 0.5363885164260864, 0.008791208267211914, 0.1380372643470764, 3.031362295150757, 0.6365888118743896, 2.83107852935791, 1.128841638565063, 2.998222589492798, 0.0, 0.6473562717437744, 4.823501110076904, 0.8748934268951416, 2.042121887207031, 1.011584162712097, 0.9635501503944397, 0.5040227174758911, 0.1941297501325607, 0.0, 0.4650025367736816, 2.375653505325317, 0.4356914460659027, 0.0, 0.0, 1.496222615242004, 0.3436346650123596, 0.0, 0.994027853012085, 0.0, 0.0602339543402195, 0.0, 0.0, 1.141453862190247, 0.0, 1.624291658401489, 0.3072492182254791, 0.0, 0.0, 0.6754260063171387, 3.001095533370972, 0.4715988636016846, 2.158694982528687, 2.686468601226807]], deployed_model_id='1920646702608416768', model_version_id='1', model_resource_name='projects/679926387543/locations/us-central1/models/3019815282756550656', explanations=None)"
      ]
     },
     "execution_count": 28,
     "metadata": {},
     "output_type": "execute_result"
    }
   ],
   "source": [
    "playlist_emb"
   ]
  },
  {
   "cell_type": "markdown",
   "id": "119b0c88-5462-4b66-bc26-3b97e57febdd",
   "metadata": {
    "tags": []
   },
   "source": [
    "## Getting the domain of the public endpoint\n",
    "\n",
    "[Context](https://cloud.google.com/vertex-ai/docs/matching-engine/deploy-index-public#get_the_index_domain_name)\n",
    "\n",
    "Following this guide for the [new API](https://cloud.google.com/vertex-ai/docs/matching-engine/query-index-public-endpoint)\n",
    "\n",
    "```\n",
    "$ curl -X POST -H \"Content-Type: application/json\" -H \"Authorization: Bearer `gcloud auth print-access-token`\"  https://1957880287.us-central1-181224308459.vdb.vertexai.goog/v1beta1/projects/181224308459/locations/us-central1/indexEndpoints/3370566089086861312:findNeighbors -d '{deployed_index_id: \"test_index_public1\", queries: [{datapoint: {datapoint_id: \"0\", feature_vector: [1, 1, 1, 1, 1, 1, 1, 1, 1, 1, 1, 1, 1, 1, 1, 1, 1, 1, 1, 1, 1, 1, 1, 1, 1, 1, 1, 1, 1, 1, 1, 1, 1, 1, 1, 1, 1, 1, 1, 1, 1, 1, 1, 1, 1, 1, 1, 1, 1, 1, 1, 1, 1, 1, 1, 1, 1, 1, 1, 1, 1, 1, 1, 1, 1, 1, 1, 1, 1, 1, 1, 1, 1, 1, 1, 1, 1, 1, 1, 1, 1, 1, 1, 1, 1, 1, 1, 1, 1, 1, 1, 1, 1, 1, 1, 1, 1, 1, 1, 1]}, neighbor_count: 5}]}'\n",
    "```"
   ]
  },
  {
   "cell_type": "code",
   "execution_count": 23,
   "id": "8e9aef9b-8d91-471b-84d9-2b757a348c77",
   "metadata": {
    "tags": []
   },
   "outputs": [
    {
     "data": {
      "text/plain": [
       "'1071885379.us-central1-679926387543.vdb.vertexai.goog'"
      ]
     },
     "execution_count": 23,
     "metadata": {},
     "output_type": "execute_result"
    }
   ],
   "source": [
    "endpoint_data = ! gcloud ai index-endpoints list --region {LOCATION} --filter {INDEX_ENDPOINT_ID}\n",
    "endpoint_address = [e for e in endpoint_data if 'publicEndpointDomainName' in e][0].partition(': ')[2] #careful - this is grabbing the first one in the list\n",
    "endpoint_address"
   ]
  },
  {
   "cell_type": "code",
   "execution_count": 29,
   "id": "8211712a-a802-424e-b1f0-2b4c75cfac5f",
   "metadata": {
    "tags": []
   },
   "outputs": [
    {
     "data": {
      "text/plain": [
       "{'nearestNeighbors': [{'id': '0',\n",
       "   'neighbors': [{'datapoint': {'datapointId': 'spotify:track:7dvw0O6JYgJdzM6atK49qO',\n",
       "      'crowdingTag': {'crowdingAttribute': '0'}},\n",
       "     'distance': 85.89031219482422},\n",
       "    {'datapoint': {'datapointId': 'spotify:track:549IVSyUCvitBeygRyN3FQ',\n",
       "      'crowdingTag': {'crowdingAttribute': '0'}},\n",
       "     'distance': 85.86182403564453},\n",
       "    {'datapoint': {'datapointId': 'spotify:track:47xapmNY1CSQrKmvwIIsDt',\n",
       "      'crowdingTag': {'crowdingAttribute': '0'}},\n",
       "     'distance': 85.83961486816406},\n",
       "    {'datapoint': {'datapointId': 'spotify:track:4mWIlN41RfA2cG5YT2dDh6',\n",
       "      'crowdingTag': {'crowdingAttribute': '0'}},\n",
       "     'distance': 85.83741760253906},\n",
       "    {'datapoint': {'datapointId': 'spotify:track:5P0u9rjq2ucW3hnvHPkXwe',\n",
       "      'crowdingTag': {'crowdingAttribute': '0'}},\n",
       "     'distance': 85.83346557617188}]},\n",
       "  {'id': '1',\n",
       "   'neighbors': [{'datapoint': {'datapointId': 'spotify:track:7dvw0O6JYgJdzM6atK49qO',\n",
       "      'crowdingTag': {'crowdingAttribute': '0'}},\n",
       "     'distance': 85.89031219482422},\n",
       "    {'datapoint': {'datapointId': 'spotify:track:549IVSyUCvitBeygRyN3FQ',\n",
       "      'crowdingTag': {'crowdingAttribute': '0'}},\n",
       "     'distance': 85.86182403564453},\n",
       "    {'datapoint': {'datapointId': 'spotify:track:47xapmNY1CSQrKmvwIIsDt',\n",
       "      'crowdingTag': {'crowdingAttribute': '0'}},\n",
       "     'distance': 85.83961486816406},\n",
       "    {'datapoint': {'datapointId': 'spotify:track:4mWIlN41RfA2cG5YT2dDh6',\n",
       "      'crowdingTag': {'crowdingAttribute': '0'}},\n",
       "     'distance': 85.83741760253906},\n",
       "    {'datapoint': {'datapointId': 'spotify:track:5P0u9rjq2ucW3hnvHPkXwe',\n",
       "      'crowdingTag': {'crowdingAttribute': '0'}},\n",
       "     'distance': 85.83346557617188}]}]}"
      ]
     },
     "execution_count": 29,
     "metadata": {},
     "output_type": "execute_result"
    }
   ],
   "source": [
    "import requests\n",
    "import json\n",
    "import google.auth\n",
    "import google.auth.transport.requests\n",
    "from typing import List\n",
    "\n",
    "\n",
    "def get_matches_public_endpoint(embeddings: List[List[float]],\n",
    "                                n_matches: int, \n",
    "                                endpoint_address: str, \n",
    "                                index_endpoint_id: str, \n",
    "                                project: str = PROJECT, \n",
    "                                location: str = LOCATION) -> str:\n",
    "    '''\n",
    "    get matches from matching engine given a vector query\n",
    "    Uses public endpoint\n",
    "    \n",
    "    '''\n",
    "    credentials, project = google.auth.default()\n",
    "    request = google.auth.transport.requests.Request()\n",
    "    credentials.refresh(request)\n",
    "    request_data = {\"deployed_index_id\": index_endpoint_id,\n",
    "                                     'queries': [{'datapoint': {\"datapoint_id\": f\"{i}\", \n",
    "                                                                \"feature_vector\": emb},\n",
    "                                                  'neighbor_count': n_matches} \n",
    "                                                 for i, emb in enumerate(embeddings)]\n",
    "                                    }\n",
    "\n",
    "    rpc_address = f'https://{endpoint_address}/v1beta1/projects/{project}/locations/{location}/indexEndpoints/{index_endpoint_id}:findNeighbors'\n",
    "    endpoint_json_data = json.dumps(request_data)\n",
    "\n",
    "    header = {'Authorization': 'Bearer ' + credentials.token}\n",
    "\n",
    "\n",
    "    return requests.post(rpc_address, data=endpoint_json_data, headers=header).json()\n",
    "                                \n",
    "dict(get_matches_public_endpoint(playlist_emb.predictions,\n",
    "                            5, \n",
    "                            endpoint_address, \n",
    "                            INDEX_ENDPOINT_ID))"
   ]
  },
  {
   "cell_type": "markdown",
   "id": "20a07329-953d-4126-96af-2052d105a3b6",
   "metadata": {},
   "source": [
    "# Here's our Recommendations!\n",
    "\n",
    "  ### Gone wit the wind\n",
    "`{'datapoint': {'datapointId': 'spotify:track:7dvw0O6JYgJdzM6atK49qO',\n",
    "      'crowdingTag': {'crowdingAttribute': '0'}},\n",
    "     'distance': 85.89031219482422}`\n",
    "\n",
    "![](img/spotify/1.png)\n",
    "_______\n"
   ]
  },
  {
   "cell_type": "code",
   "execution_count": null,
   "id": "d41b6881-9892-4fc2-ae55-7a80e12f149e",
   "metadata": {},
   "outputs": [],
   "source": [
    "# From Batch Prediction Table"
   ]
  },
  {
   "cell_type": "code",
   "execution_count": 202,
   "id": "d32f9f91-2c3a-4672-ae10-30dde4b0487b",
   "metadata": {},
   "outputs": [],
   "source": [
    "test_playlist2 = [[0.0, 0.0, 0.11261723935604095, 3.6582555770874023, 0.7231143712997437, 0.0, 0.0, 0.0, 0.06596212089061737, 0.610464870929718, 0.0, 0.0, 0.2943631708621979, 0.37219682335853577, 0.0, 0.0, 0.0, 0.7215844988822937, 3.073551893234253, 0.19929471611976624, 0.0, 2.4727284908294678, 0.0, 0.8978801965713501, 0.0, 0.0, 0.4465973973274231, 0.6361901164054871, 0.6546093821525574, 0.0, 0.1530240774154663, 0.0, 1.2126094102859497, 0.11474587768316269, 0.0, 0.0, 0.0, 0.5329757928848267, 0.11834070831537247, 0.0, 0.0, 0.0, 0.0, 0.49517688155174255, 0.37308937311172485, 0.0, 0.0, 0.7244329452514648, 1.5604287385940552, 0.0, 0.0, 0.849047839641571, 3.346245765686035, 0.9201681017875671, 1.5311988592147827, 0.40950027108192444, 0.0, 0.05821037292480469, 0.0, 0.6386757493019104, 2.4086601734161377, 0.0, 0.0, 0.0, 0.0, 0.04834048077464104, 0.0, 0.5530638098716736, 1.8521811962127686, 0.0, 0.0, 0.4369158148765564, 0.0, 0.1732865273952484, 0.0, 0.07011672854423523, 0.9043356776237488, 0.8143212199211121, 0.22457373142242432, 0.7144923210144043, 0.30752840638160706, 1.4313921928405762, 0.036675311625003815, 1.3362258672714233, 0.037897899746894836, 1.3523902893066406, 0.5329119563102722, 0.2261199653148651, 0.0, 2.044106960296631, 0.4421702027320862, 2.6947712898254395, 1.8096294403076172, 2.98370623588562, 0.0, 0.4754008948802948, 3.8540384769439697, 0.8544381260871887, 0.8371299505233765, 1.0105479955673218, 1.0285321474075317, 0.48182278871536255, 0.7570167183876038, 0.0, 0.27072158455848694, 2.0489559173583984, 0.33231568336486816, 0.0, 0.0, 0.08799964189529419, 0.30721190571784973, 0.0, 0.6217242479324341, 0.0, 0.9204525947570801, 0.0, 0.11418246477842331, 0.21670092642307281, 0.0, 2.011657953262329, 0.0, 0.0, 0.0, 0.5740302801132202, 2.492286443710327, 0.5358629822731018, 2.1077561378479004, 2.0576491355895996]]\n"
   ]
  },
  {
   "cell_type": "markdown",
   "id": "b74f94e4-a231-46a4-8ae4-e1817eda45de",
   "metadata": {},
   "source": [
    "#### Here we do additional testing from the batch prediction table in the prior notebook\n",
    "\n",
    "Copy/paste example embeddings from the table for testing - example seen below:\n",
    "\n",
    "![](img/get_embeddd_bp.png)"
   ]
  },
  {
   "cell_type": "code",
   "execution_count": 203,
   "id": "9402a646-eda0-4a27-b4ee-ccff5e0dfc4e",
   "metadata": {
    "tags": []
   },
   "outputs": [
    {
     "data": {
      "text/plain": [
       "{'nearestNeighbors': [{'id': '0',\n",
       "   'neighbors': [{'datapoint': {'datapointId': 'spotify:track:79YPGYriJOdW3J7rE5cqVW',\n",
       "      'crowdingTag': {'crowdingAttribute': '0'}},\n",
       "     'distance': 76.4923324584961},\n",
       "    {'datapoint': {'datapointId': 'spotify:track:46YS8p5wWLOpwhMM2PuuFs',\n",
       "      'crowdingTag': {'crowdingAttribute': '0'}},\n",
       "     'distance': 76.32144165039062},\n",
       "    {'datapoint': {'datapointId': 'spotify:track:65WpN0fsvPD7MXzwmI42V7',\n",
       "      'crowdingTag': {'crowdingAttribute': '0'}},\n",
       "     'distance': 76.19010925292969},\n",
       "    {'datapoint': {'datapointId': 'spotify:track:24ISA6avNm8tsgDzQsilio',\n",
       "      'crowdingTag': {'crowdingAttribute': '0'}},\n",
       "     'distance': 76.16402435302734},\n",
       "    {'datapoint': {'datapointId': 'spotify:track:6U03i3nfypIQdtgRF89lGr',\n",
       "      'crowdingTag': {'crowdingAttribute': '0'}},\n",
       "     'distance': 76.1233901977539}]}]}"
      ]
     },
     "execution_count": 203,
     "metadata": {},
     "output_type": "execute_result"
    }
   ],
   "source": [
    "get_matches_public_endpoint(test_playlist2,\n",
    "                            5, \n",
    "                            endpoint_address, \n",
    "                            INDEX_ENDPOINT_ID)"
   ]
  },
  {
   "cell_type": "code",
   "execution_count": null,
   "id": "60734373-6401-41b3-a54f-3438cbbbca99",
   "metadata": {},
   "outputs": [],
   "source": [
    "# ## Cleanup\n",
    "# from google.cloud import aiplatform_v1beta1 #needed for matching engine calls\n",
    "\n",
    "# REGION = 'us-central1'\n",
    "# ENDPOINT = \"{}-aiplatform.googleapis.com\".format(REGION)\n",
    "\n",
    "# index_client = aiplatform_v1beta1.IndexServiceClient(\n",
    "#     client_options=dict(api_endpoint=ENDPOINT)\n",
    "# )\n",
    "\n",
    "# index_client.delete_index(name='deployed_spotify_v1')\n",
    "# index_client.delete_index(name=INDEX_BRUTE_FORCE_RESOURCE_NAME)\n",
    "# index_endpoint_client.delete_index_endpoint(name=INDEX_ENDPOINT_NAME)"
   ]
  }
 ],
 "metadata": {
  "environment": {
   "kernel": "python3",
   "name": "tf2-gpu.2-11.m108",
   "type": "gcloud",
   "uri": "gcr.io/deeplearning-platform-release/tf2-gpu.2-11:m108"
  },
  "kernelspec": {
   "display_name": "Python 3 (ipykernel)",
   "language": "python",
   "name": "python3"
  },
  "language_info": {
   "codemirror_mode": {
    "name": "ipython",
    "version": 3
   },
   "file_extension": ".py",
   "mimetype": "text/x-python",
   "name": "python",
   "nbconvert_exporter": "python",
   "pygments_lexer": "ipython3",
   "version": "3.10.10"
  }
 },
 "nbformat": 4,
 "nbformat_minor": 5
}
