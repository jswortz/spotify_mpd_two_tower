{
 "cells": [
  {
   "cell_type": "markdown",
   "id": "dcccb56a-9f1b-4306-a7f0-acdb6fd30a03",
   "metadata": {},
   "source": [
    "# Implementing Recommendation Engines with Matching Engine\n",
    "\n",
    "![](img/arch.png)"
   ]
  },
  {
   "cell_type": "markdown",
   "id": "56f6ae7c-76c0-4590-863a-e8dc99761bff",
   "metadata": {},
   "source": [
    "#### VPC Network peering\n",
    "Matching engine is a high performance vector matching service that requires a seperate VPC to ensure performance. \n",
    "\n",
    "Below are the one-time instructions to set up a peering network. \n",
    "\n",
    "# **Once created, be sure to your notebook instance running this particular notebook is in the subnetwork... https://cloud.google.com/vertex-ai/docs/matching-engine/match-eng-setup **\n",
    "\n",
    "![](img/subnetwork2.png) \n",
    "Then select the network from advanced options\n",
    "![](img/subnetwork.png)"
   ]
  },
  {
   "cell_type": "code",
   "execution_count": 1,
   "id": "5bcd1ed2-a152-4c29-8b94-574f916ce854",
   "metadata": {},
   "outputs": [],
   "source": [
    "# PROJECT_ID = \"hybrid-vertex\" \n",
    "# NETWORK_NAME = \"ucaip-haystack-vpc-network\"  \n",
    "# PEERING_RANGE_NAME = \"ucaip-haystack-range\"\n",
    "\n",
    "# # Create a VPC network\n",
    "# ! gcloud compute networks create {NETWORK_NAME} --bgp-routing-mode=regional --subnet-mode=auto --project={PROJECT_ID}\n",
    "\n",
    "# # Add necessary firewall rules\n",
    "# ! gcloud compute firewall-rules create {NETWORK_NAME}-allow-icmp --network {NETWORK_NAME} --priority 65534 --project {PROJECT_ID} --allow icmp\n",
    "\n",
    "# ! gcloud compute firewall-rules create {NETWORK_NAME}-allow-internal --network {NETWORK_NAME} --priority 65534 --project {PROJECT_ID} --allow all --source-ranges 10.128.0.0/9\n",
    "\n",
    "# ! gcloud compute firewall-rules create {NETWORK_NAME}-allow-rdp --network {NETWORK_NAME} --priority 65534 --project {PROJECT_ID} --allow tcp:3389\n",
    "\n",
    "# ! gcloud compute firewall-rules create {NETWORK_NAME}-allow-ssh --network {NETWORK_NAME} --priority 65534 --project {PROJECT_ID} --allow tcp:22\n",
    "\n",
    "# # Reserve IP range\n",
    "# ! gcloud compute addresses create {PEERING_RANGE_NAME} --global --prefix-length=16 --network={NETWORK_NAME} --purpose=VPC_PEERING --project={PROJECT_ID} --description=\"peering range for uCAIP Haystack.\"\n",
    "\n",
    "# Set up peering with service networking\n",
    "# ! gcloud services vpc-peerings connect --service=servicenetworking.googleapis.com --network=${NETWORK_NAME} --ranges=${PEERING_RANGE_NAME} --project=${PROJECT_ID}"
   ]
  },
  {
   "cell_type": "markdown",
   "id": "6d04fca0-01f8-48e4-9113-207ffe6c2862",
   "metadata": {
    "tags": []
   },
   "source": [
    "### Deploy Playlist Query Model to a Vertex endpoint\n",
    "This will be the endpoint that a user will query with thier last n songs played "
   ]
  },
  {
   "cell_type": "code",
   "execution_count": 4,
   "id": "9a86c63a-aa13-48e9-927b-add97646eddc",
   "metadata": {},
   "outputs": [],
   "source": [
    "import os\n",
    "\n",
    "PROJECT_ID = 'wortz-project-352116'  # <--- TODO: CHANGE THIS\n",
    "PROJECT = PROJECT_ID\n",
    "LOCATION = 'us-central1'\n",
    "REGION = 'us-central1'\n",
    "DIMENSIONS = 128 # must match output dimensions - embedding dim in two tower code\n",
    "DISPLAY_NAME = \"spotify_merlin_candidates_v1\"\n",
    "OUTPUT_PATH = 'gs://spotify-jsw-mpd-2023'\n",
    "# OUTPUT_PATH = os.path.join(BUCKET, \"merlin-processed\")\n",
    "MODEL_PATH = os.path.join(OUTPUT_PATH, 'query_model_merlin')\n",
    "\n",
    "import sys\n",
    "from google.cloud import aiplatform_v1beta1 #needed for matching engine calls\n",
    "\n",
    "\n",
    "from google.cloud import aiplatform\n",
    "\n",
    "aiplatform.init(project=PROJECT_ID, location=LOCATION)\n",
    "\n",
    "EMBEDDINGS_INITIAL_URI = os.path.join(OUTPUT_PATH, 'merlin-embeddings')"
   ]
  },
  {
   "cell_type": "markdown",
   "id": "d6eff4f4-4159-47e6-80fd-73020ba8b85f",
   "metadata": {},
   "source": [
    "### Create a matching engine index\n",
    "\n",
    "The matching engine loads an index from a file of embeddings created from the last notebook. \n",
    "\n",
    "Many of the optimization options for matching engine are found in the ah tree settings and testing is recommended depending on each use case\n",
    "\n",
    "Recall we saved our two tower models and query embeddings (newline json) in a candidate folder like so:\n",
    "\n",
    "![](img/saved-models.png)"
   ]
  },
  {
   "cell_type": "markdown",
   "id": "475bfb90-a929-413a-a9d7-fb90f39a6c9b",
   "metadata": {},
   "source": [
    "## Set the Nearest Neighbor Options\n",
    "\n",
    "See here for tips on [tuning the index](https://cloud.google.com/vertex-ai/docs/matching-engine/using-matching-engine#tuning_the_index)\n",
    "\n",
    "From the paper - here's the rough idea\n",
    "\n",
    "1. (Initialization Step) Select a dictionary C(m) bysampling from {x(m) 1 , . . . x (m) n }. \n",
    "2. (Partition Assignment Step) For each datapoint xi , update x˜i by using the value of c ∈ C (m) that minimizes the anisotropic loss of ˜xi.\n",
    "3. (Codebook Update Step) Optimize the loss function over all codewords in all dictionaries while keeping every dictionaries partitions constant.\n",
    "4. Repeat Step 2 and Step 3 until convergence to a fixed point or maximum number of iteration is reached.\n",
    "\n",
    "\n",
    "### Relating the algorithm to the parameters:\n",
    "\n",
    "* `leafNodeEmbeddingCount` -> Number of embeddings on each leaf node. The default value is 1000 if not set.\n",
    "* `leafNodesToSearchPercent` -> The default percentage of leaf nodes that any query may be searched. Must be in range 1-100, inclusive. The default value is 10 (means 10%) if not set.\n",
    "* `approximateNeighborsCount` -> The default number of neighbors to find through approximate search before exact reordering is performed. Exact reordering is a procedure where results returned by an approximate search algorithm are reordered via a more expensive distance computation.\n",
    "* `distanceMeasureType` -> DOT_PRODUCT_DISTANCE is default - COSINE, L1 and L2^2 is available\n",
    "\n",
    "Other best practices from our PM team:\n",
    "```\n",
    "Start from leafNodesToSearchPercent=5 and approximateNeighborsCount=10 * k\n",
    "\n",
    "use default values for others.\n",
    "\n",
    "measure performance and recall and change those 2 parameters accordingly.\n",
    "```"
   ]
  },
  {
   "cell_type": "code",
   "execution_count": 5,
   "id": "8dfca632-93e5-4c8f-be12-ae5d0769f961",
   "metadata": {
    "tags": []
   },
   "outputs": [
    {
     "name": "stdout",
     "output_type": "stream",
     "text": [
      "Creating MatchingEngineIndex\n",
      "Create MatchingEngineIndex backing LRO: projects/679926387543/locations/us-central1/indexes/1995121023204196352/operations/182364792424497152\n",
      "MatchingEngineIndex created. Resource name: projects/679926387543/locations/us-central1/indexes/1995121023204196352\n",
      "To use this MatchingEngineIndex in another session:\n",
      "index = aiplatform.MatchingEngineIndex('projects/679926387543/locations/us-central1/indexes/1995121023204196352')\n"
     ]
    }
   ],
   "source": [
    "tree_ah_index = aiplatform.MatchingEngineIndex.create_tree_ah_index(\n",
    "    display_name=DISPLAY_NAME,\n",
    "    contents_delta_uri=EMBEDDINGS_INITIAL_URI,\n",
    "    dimensions=DIMENSIONS,\n",
    "    approximate_neighbors_count=50,\n",
    "    distance_measure_type=\"DOT_PRODUCT_DISTANCE\",\n",
    "    leaf_node_embedding_count=500,\n",
    "    leaf_nodes_to_search_percent=7,\n",
    "    description=\"Songs embeddings from the Spotify million playlist dataset\",\n",
    "    labels={\"label_name\": \"label_value\"},\n",
    ")"
   ]
  },
  {
   "cell_type": "markdown",
   "id": "214cebb6-89da-4391-add2-72f3f7110771",
   "metadata": {},
   "source": [
    "### Public Endpoint Example\n",
    "\n",
    "```\n",
    "POST https://LOCATION-aiplatform.googleapis.com/v1/projects/PROJECT/locations/LOCATION/indexEndpoints\n",
    "{\n",
    "  \"display_name\": \"public-endpoint-test1\", \"publicEndpointEnabled: true\"\n",
    " \n",
    "}\n",
    "```"
   ]
  },
  {
   "cell_type": "code",
   "execution_count": 63,
   "id": "2c59458f-c671-473b-8c81-bde9c8ab8c42",
   "metadata": {},
   "outputs": [],
   "source": [
    "import requests\n",
    "import json\n",
    "import google.auth\n",
    "import google.auth.transport.requests\n",
    "\n",
    "\n",
    "\n",
    "credentials, project = google.auth.default()\n",
    "request = google.auth.transport.requests.Request()\n",
    "credentials.refresh(request)\n",
    "ENDPOINT_NAME = 'public-test-wortz2'\n",
    "\n",
    "endpoint_create_data = {\n",
    "    'display_name': ENDPOINT_NAME,\n",
    "    'publicEndpointEnabled': True\n",
    "}\n",
    "\n",
    "rpc_address = f'https://{LOCATION}-aiplatform.googleapis.com/v1/projects/{PROJECT}/locations/{LOCATION}/indexEndpoints'\n",
    "endpoint_json_data = json.dumps(endpoint_create_data)\n",
    "\n",
    "header = {'Authorization': 'Bearer ' + credentials.token}\n",
    "\n",
    "\n",
    "create_endpoint_response = requests.post(rpc_address, data=endpoint_json_data, headers=header).json()"
   ]
  },
  {
   "cell_type": "code",
   "execution_count": 71,
   "id": "a840696d-231d-4f39-800b-ef1e641da097",
   "metadata": {},
   "outputs": [
    {
     "data": {
      "text/plain": [
       "{'name': 'projects/679926387543/locations/us-central1/indexEndpoints/5619392823330603008/operations/4938500250462584832',\n",
       " 'metadata': {'@type': 'type.googleapis.com/google.cloud.aiplatform.v1.CreateIndexEndpointOperationMetadata',\n",
       "  'genericMetadata': {'createTime': '2023-04-08T20:34:09.727324Z',\n",
       "   'updateTime': '2023-04-08T20:34:09.727324Z'}}}"
      ]
     },
     "execution_count": 71,
     "metadata": {},
     "output_type": "execute_result"
    }
   ],
   "source": [
    "create_endpoint_response"
   ]
  },
  {
   "cell_type": "code",
   "execution_count": 105,
   "id": "ad9a702a-8128-4fda-8112-500303905d6d",
   "metadata": {},
   "outputs": [
    {
     "data": {
      "text/plain": [
       "'projects/679926387543/locations/us-central1/indexEndpoints/5619392823330603008'"
      ]
     },
     "execution_count": 105,
     "metadata": {},
     "output_type": "execute_result"
    }
   ],
   "source": [
    "OPERATION_NAME = create_endpoint_response['name']\n",
    "PUBLIC_ENDPOINT_NAME, sep, tail = OPERATION_NAME.partition('/operations')\n",
    "_, _, ENDPOINT_NUM = PUBLIC_ENDPOINT_NAME.partition('indexEndpoints/')\n",
    "\n",
    "\n",
    "#set the deployed index name\n",
    "INDEX_ENDPOINT_ID = 'merlin_spotify_candidate_deployed_index_v1'\n",
    "\n",
    "PUBLIC_ENDPOINT_NAME"
   ]
  },
  {
   "cell_type": "markdown",
   "id": "cdf8c570-c357-4b61-8dc7-a67ca58f7e14",
   "metadata": {},
   "source": [
    "### Create a matching engine endpoint\n",
    "\n",
    "Below we set the variable names for the endpoint along with other key values for resource creation"
   ]
  },
  {
   "cell_type": "code",
   "execution_count": 79,
   "id": "bc1fa94d-1d35-4bb6-a281-e62bdf505087",
   "metadata": {},
   "outputs": [],
   "source": [
    "ENDPOINT = aiplatform.MatchingEngineIndexEndpoint(\n",
    "    index_endpoint_name=PUBLIC_ENDPOINT_NAME,\n",
    "    project=PROJECT,\n",
    "    location=LOCATION,\n",
    ")"
   ]
  },
  {
   "cell_type": "markdown",
   "id": "86599f70-f264-450b-8506-fcc1f26ee72b",
   "metadata": {},
   "source": [
    "### Deploy the index to the endpoint and create and endpoint object"
   ]
  },
  {
   "cell_type": "code",
   "execution_count": null,
   "id": "9021a13f-cfba-4435-ad4b-63fe353afda1",
   "metadata": {},
   "outputs": [],
   "source": [
    "ME_index_endpoint = ENDPOINT.deploy_index(\n",
    "    index=tree_ah_index,\n",
    "    deployed_index_id=INDEX_ENDPOINT_ID,\n",
    "    display_name='Spotify Merlin Deployed Index v1'\n",
    ")"
   ]
  },
  {
   "cell_type": "markdown",
   "id": "2f55bfda-bf10-46b0-8abb-905e9c00544f",
   "metadata": {},
   "source": [
    "## This takes 20-30 minutes - here's some reading on what it is doing\n",
    "#### Note on the advantages of the algorithm\n",
    "\n",
    "[link](https://arxiv.org/pdf/1908.10396.pdf)\n",
    "\n",
    "```However, it is easy to see that not all pairs of (x, q) are equally important. The approximation error on the pairs which have a high inner product is far more important since they are likely to be among the top ranked pairs and can greatly affect the search result, while for the pairs whose inner product is low the approximation error matters much less. In other words, for a given datapoint x, we should quantize it with a bigger focus on its error with those queries which have high inner product with x. See Figure 1 for the illustration.```\n",
    "\n",
    "\n",
    "![](img/algo.png)\n"
   ]
  },
  {
   "cell_type": "markdown",
   "id": "3a31a0b7-970b-401c-a453-6bac4c1d0428",
   "metadata": {},
   "source": [
    "## Other quick notes on ME while we wait for deployment\n",
    "\n",
    "[link](https://cloud.google.com/blog/topics/developers-practitioners/find-anything-blazingly-fast-googles-vector-search-technology)\n",
    "\n",
    "Instead of comparing vectors one by one, you could use the approximate nearest neighbor (ANN) approach to improve search times. Many ANN algorithms use vector quantization (VQ), in which you split the vector space into multiple groups, define \"codewords\" to represent each group, and search only for those codewords. This VQ technique dramatically enhances query speeds and is the essential part of many ANN algorithms, just like indexing is the essential part of relational databases and full-text search engines.\n",
    "\n",
    "![](img/vectorQuant.gif)\n",
    "\n",
    "\n",
    "As you may be able to conclude from the diagram above, as the number of groups in the space increases the speed of the search decreases and the accuracy increases.  Managing this trade-off — getting higher accuracy at shorter latency — has been a key challenge with ANN algorithms. \n",
    "\n",
    "Last year, Google Research announced ScaNN, a new solution that provides state-of-the-art results for this challenge. With ScaNN, they introduced a new VQ algorithm called anisotropic vector quantization:\n",
    "\n",
    "![](img/Loss_Types.max-1000x1000.png)\n",
    "\n",
    "Anisotropic vector quantization uses a new loss function to train a model for VQ for an optimal grouping to capture farther data points (i.e. higher inner product) in a single group. With this idea, the new algorithm gives you higher accuracy at lower latency, as you can see in the benchmark result below (the violet line): \n",
    "\n",
    "![](img/speedvsaccuracy.max-1600x1600.png)\n"
   ]
  },
  {
   "cell_type": "markdown",
   "id": "c8c47946-81bd-48c4-a9dc-90852ad8def2",
   "metadata": {},
   "source": [
    "### You should now see matching engine resources in your GCP console:\n",
    "\n",
    "![](img/me-resources2.png)\n",
    "\n",
    "![](img/me-indexes.png)"
   ]
  },
  {
   "cell_type": "markdown",
   "id": "6540ccaa-f7e3-43e9-a17f-f2a9f85b7873",
   "metadata": {
    "tags": []
   },
   "source": [
    "## Note the endpoint has already been created in the `02-build-custom-query-predictor`\n"
   ]
  },
  {
   "cell_type": "code",
   "execution_count": 86,
   "id": "276786e1-e917-4acb-b580-661e85d7d7ad",
   "metadata": {},
   "outputs": [],
   "source": [
    "# #from the last noteobook copy/paste\n",
    "\n",
    "endpoint = aiplatform.Endpoint('projects/679926387543/locations/us-central1/endpoints/7469831310459011072')"
   ]
  },
  {
   "cell_type": "markdown",
   "id": "96e6eac6-5fb9-41f3-9b72-d3958cfe9473",
   "metadata": {
    "tags": []
   },
   "source": [
    "## Putting it together: Combine the query endpoint with the matching engine endpoint for state-of the art recommendations\n",
    "\n",
    "You can grab a quick example from training or build yourself by utilizing the returned example structure. Skip is to get to a psuedo-random example. The data is the same from training - you can also construct your own test instances using the format provided\n",
    "\n",
    "\n",
    "```python\n",
    "for tensor_dict in train_dataset.unbatch().skip(12905).take(1):\n",
    "    td_keys = tensor_dict.keys()\n",
    "    list_dict = {}\n",
    "    for k in td_keys:\n",
    "        list_dict.update({k: tensor_dict[k].numpy()})\n",
    "    print(list_dict)\n",
    "```"
   ]
  },
  {
   "cell_type": "markdown",
   "id": "455b4179-390d-45da-bc9e-5d4a74d97c8c",
   "metadata": {},
   "source": [
    "## Get some test instances and run through the endpoint and matching engine"
   ]
  },
  {
   "cell_type": "code",
   "execution_count": 87,
   "id": "34c07cd6-ef2e-4956-bc53-494c1eb876d9",
   "metadata": {},
   "outputs": [],
   "source": [
    "## Ground truth candidate:\n",
    "    # 'album_uri_can': 'spotify:album:5l83t3mbVgCrIe1VU9uJZR', \n",
    "    # 'artist_name_can': 'Russ', \n",
    "    # 'track_name_can': 'We Just Havent Met Yet', \n",
    "## TODO - we have to overload with candidate data because of the workflow transform, add overloaded values in the predictor\n",
    "TEST_INSTANCE = { 'pid': 1,\n",
    "                 'pl_name_src': 'Lit Tunes ', \n",
    "                 'pl_collaborative_src': 'false',\n",
    "                 'pl_duration_ms_new': 237506.0, \n",
    "                  'artist_name_pl': ['Russ', 'Jeremih', 'Khalid', 'Beyonc\\xc3\\xa9',\n",
    "                       'William Singe'], \n",
    "                 'track_uri_pl': ['spotify:track:4cxMGhkinTocPSVVKWIw0d',\n",
    "                       'spotify:track:1wNEBPo3nsbGCZRryI832I',\n",
    "                       'spotify:track:152lZdxL1OR0ZMW6KquMif',\n",
    "                       'spotify:track:2f4IuijXLxYOeBncS60GUD',\n",
    "                       'spotify:track:4Lj8paMFwyKTGfILLELVxt'],\n",
    "                 'track_name_pl': ['Losin Control', 'Paradise', 'Location',\n",
    "                       'Crazy In Love - Remix', 'Pony'], \n",
    "                 'album_name_pl': [\"There's Really A Wolf\", 'Late Nights: The Album',\n",
    "                       'American Teen', 'Crazy In Love', 'Pony'], \n",
    "                     }"
   ]
  },
  {
   "cell_type": "markdown",
   "id": "9706f910-1d1f-48a9-a7e6-6419f3acd9fe",
   "metadata": {},
   "source": [
    "#### Before we submit the prediction to test, we have to call the workflow\n",
    "Ideally this could be implemented with a custom prediction routine so the data is pre-processed ahead of time.\n",
    "\n",
    "More info on how to implement a pre-processer custom model: https://cloud.google.com/vertex-ai/docs/predictions/custom-prediction-routines"
   ]
  },
  {
   "cell_type": "markdown",
   "id": "dc9d7f22-3455-4054-adf2-d4b41f6241c4",
   "metadata": {},
   "source": [
    "# Get our predictions for the next song recommendation - now let's feed the embedding to find the closest neighbors\n",
    "(higher distance score better - this is inner product)"
   ]
  },
  {
   "cell_type": "code",
   "execution_count": 88,
   "id": "09056695-8641-4e5d-bd22-e99bc8b51a8a",
   "metadata": {},
   "outputs": [],
   "source": [
    "playlist_emb = endpoint.predict([TEST_INSTANCE])"
   ]
  },
  {
   "cell_type": "markdown",
   "id": "119b0c88-5462-4b66-bc26-3b97e57febdd",
   "metadata": {},
   "source": [
    "## Getting the domain of the public endpoint\n",
    "\n",
    "[Context](https://cloud.google.com/vertex-ai/docs/matching-engine/deploy-index-public#get_the_index_domain_name)\n",
    "\n",
    "Following this guide for the [new API](https://cloud.google.com/vertex-ai/docs/matching-engine/query-index-public-endpoint)\n",
    "\n",
    "```\n",
    "$ curl -X POST -H \"Content-Type: application/json\" -H \"Authorization: Bearer `gcloud auth print-access-token`\"  https://1957880287.us-central1-181224308459.vdb.vertexai.goog/v1beta1/projects/181224308459/locations/us-central1/indexEndpoints/3370566089086861312:findNeighbors -d '{deployed_index_id: \"test_index_public1\", queries: [{datapoint: {datapoint_id: \"0\", feature_vector: [1, 1, 1, 1, 1, 1, 1, 1, 1, 1, 1, 1, 1, 1, 1, 1, 1, 1, 1, 1, 1, 1, 1, 1, 1, 1, 1, 1, 1, 1, 1, 1, 1, 1, 1, 1, 1, 1, 1, 1, 1, 1, 1, 1, 1, 1, 1, 1, 1, 1, 1, 1, 1, 1, 1, 1, 1, 1, 1, 1, 1, 1, 1, 1, 1, 1, 1, 1, 1, 1, 1, 1, 1, 1, 1, 1, 1, 1, 1, 1, 1, 1, 1, 1, 1, 1, 1, 1, 1, 1, 1, 1, 1, 1, 1, 1, 1, 1, 1, 1]}, neighbor_count: 5}]}'\n",
    "```"
   ]
  },
  {
   "cell_type": "code",
   "execution_count": 152,
   "id": "8e9aef9b-8d91-471b-84d9-2b757a348c77",
   "metadata": {},
   "outputs": [
    {
     "data": {
      "text/plain": [
       "'1071885379.us-central1-679926387543.vdb.vertexai.goog'"
      ]
     },
     "execution_count": 152,
     "metadata": {},
     "output_type": "execute_result"
    }
   ],
   "source": [
    "endpoint_data = ! gcloud ai index-endpoints list --region {LOCATION}\n",
    "endpoint_address = [e for e in endpoint_data if 'publicEndpointDomainName' in e][0].partition(': ')[2] #careful - this is grabbing the first one in the list\n",
    "endpoint_address"
   ]
  },
  {
   "cell_type": "code",
   "execution_count": 193,
   "id": "8211712a-a802-424e-b1f0-2b4c75cfac5f",
   "metadata": {},
   "outputs": [
    {
     "data": {
      "text/plain": [
       "{'nearestNeighbors': [{'id': '0',\n",
       "   'neighbors': [{'datapoint': {'datapointId': 'spotify:track:2jLHm0rzlxKonOQPSApDJN',\n",
       "      'crowdingTag': {'crowdingAttribute': '0'}},\n",
       "     'distance': 65.91852569580078},\n",
       "    {'datapoint': {'datapointId': 'spotify:track:2t9Ftn5WjAqUP9LWW8C5wg',\n",
       "      'crowdingTag': {'crowdingAttribute': '0'}},\n",
       "     'distance': 65.82749938964844},\n",
       "    {'datapoint': {'datapointId': 'spotify:track:6k4Flvu1tcz8vWAfcaxEPP',\n",
       "      'crowdingTag': {'crowdingAttribute': '0'}},\n",
       "     'distance': 65.807861328125},\n",
       "    {'datapoint': {'datapointId': 'spotify:track:4d5aAIEtXySFDFxNuYbbZv',\n",
       "      'crowdingTag': {'crowdingAttribute': '0'}},\n",
       "     'distance': 65.78123474121094},\n",
       "    {'datapoint': {'datapointId': 'spotify:track:2M0PF3WQt38vwoKjay5Ioh',\n",
       "      'crowdingTag': {'crowdingAttribute': '0'}},\n",
       "     'distance': 65.74112701416016}]}]}"
      ]
     },
     "execution_count": 193,
     "metadata": {},
     "output_type": "execute_result"
    }
   ],
   "source": [
    "import requests\n",
    "import json\n",
    "import google.auth\n",
    "import google.auth.transport.requests\n",
    "\n",
    "\n",
    "\n",
    "credentials, project = google.auth.default()\n",
    "request = google.auth.transport.requests.Request()\n",
    "credentials.refresh(request)\n",
    "    # 1]}, neighbor_count: 5}]}'\n",
    "request_data = {\"deployed_index_id\": INDEX_ENDPOINT_ID,\n",
    "                                 'queries': [{'datapoint': {\"datapoint_id\": f\"{i}\", \n",
    "                                                            \"feature_vector\": emb},\n",
    "                                              'neighbor_count': 5} \n",
    "                                             for i, emb in enumerate(playlist_emb.predictions)]\n",
    "                                }\n",
    "\n",
    "rpc_address = f'https://{endpoint_address}/v1beta1/projects/{PROJECT}/locations/{LOCATION}/indexEndpoints/{INDEX_ENDPOINT_ID}:findNeighbors'\n",
    "endpoint_json_data = json.dumps(request_data)\n",
    "\n",
    "header = {'Authorization': 'Bearer ' + credentials.token}\n",
    "\n",
    "\n",
    "requests.post(rpc_address, data=endpoint_json_data, headers=header).json()"
   ]
  },
  {
   "cell_type": "markdown",
   "id": "20a07329-953d-4126-96af-2052d105a3b6",
   "metadata": {},
   "source": [
    "# Here's our Recommendations!\n",
    "\n",
    "  ### No Scurbs\n",
    "`[[MatchNeighbor(id='spotify:track:6rvjjyTCbuoIucuI9TvTfX', distance=118.5457992553711),`\n",
    "\n",
    "![](img/spotify/1.png)\n",
    "_______\n",
    "\n",
    "  ### I Know\n",
    "`MatchNeighbor(id='spotify:track:2jNFga2ldTWgXXuu57u6QB', distance=117.87425994873047),`\n",
    "\n",
    "![](img/spotify/2.png)\n",
    "\n",
    "_______\n",
    "\n",
    "  ### Eye 2 Eye\n",
    "`MatchNeighbor(id='spotify:track:5RINSPsc11CjSj9OhBbHeV', distance=117.82361602783203),`\n",
    "\n",
    "![](img/spotify/3.png)\n",
    "\n",
    "_______\n",
    "\n",
    "  ### Just a Friend\n",
    "`MatchNeighbor(id='spotify:track:14yaVE5zyeIZ5OopvQFVtG', distance=117.8228530883789),`\n",
    "\n",
    "![](img/spotify/3.png)\n",
    "\n",
    "\n",
    "_______\n",
    "\n",
    "  ### Mirror \n",
    "`MatchNeighbor(id='spotify:track:5sDKFCwJsnIS31t3IaCoZt', distance=117.7808609008789),`\n",
    "\n",
    "![](img/spotify/4.png)\n",
    "\n",
    "\n",
    "_______\n",
    "\n",
    "   ### Hello\n",
    "`MatchNeighbor(id='spotify:track:3vW77S4JolRGbunmXuJMIV', distance=117.58699035644531),`\n",
    "\n",
    "![](img/spotify/5.png)\n",
    "\n",
    "\n",
    "_______\n",
    "\n",
    "  ### home\n",
    "`MatchNeighbor(id='spotify:track:3gY3fTkff4VmZ2XfvU6N4l', distance=117.57185363769531),`\n",
    "\n",
    "![](img/spotify/6.png)\n",
    "\n",
    "\n",
    "_______\n",
    "\n",
    "  ### Undercover - Coucheron Remix\n",
    "`MatchNeighbor(id='spotify:track:1uE9BkKQtUT03iPPk55oKO', distance=117.54019927978516),`\n",
    "\n",
    "![](img/spotify/7.png)\n",
    "\n",
    "_______\n",
    "\n",
    "  ### Undercover - Devault Remix\n",
    "\n",
    "`MatchNeighbor(id='spotify:track:2csIyFgOxMfxE9yn02Rc2A', distance=117.40080261230469),`\n",
    "\n",
    "\n",
    "\n",
    "\n",
    "![](img/spotify/7.png)\n",
    "\n",
    "_______\n",
    "\n",
    "### Got That Bomb\n",
    "`MatchNeighbor(id='spotify:track:5bxRZTJbd2vApE4ZyakL0h', distance=117.31294250488281)]]`\n",
    "\n",
    "![](img/spotify/3.png)\n"
   ]
  },
  {
   "cell_type": "code",
   "execution_count": null,
   "id": "60734373-6401-41b3-a54f-3438cbbbca99",
   "metadata": {},
   "outputs": [],
   "source": [
    "# ## Cleanup\n",
    "# from google.cloud import aiplatform_v1beta1 #needed for matching engine calls\n",
    "\n",
    "# REGION = 'us-central1'\n",
    "# ENDPOINT = \"{}-aiplatform.googleapis.com\".format(REGION)\n",
    "\n",
    "# index_client = aiplatform_v1beta1.IndexServiceClient(\n",
    "#     client_options=dict(api_endpoint=ENDPOINT)\n",
    "# )\n",
    "\n",
    "# index_client.delete_index(name='deployed_spotify_v1')\n",
    "# index_client.delete_index(name=INDEX_BRUTE_FORCE_RESOURCE_NAME)\n",
    "# index_endpoint_client.delete_index_endpoint(name=INDEX_ENDPOINT_NAME)"
   ]
  }
 ],
 "metadata": {
  "environment": {
   "kernel": "python3",
   "name": "tf2-gpu.2-11.m106",
   "type": "gcloud",
   "uri": "gcr.io/deeplearning-platform-release/tf2-gpu.2-11:m106"
  },
  "kernelspec": {
   "display_name": "Python 3 (ipykernel)",
   "language": "python",
   "name": "python3"
  },
  "language_info": {
   "codemirror_mode": {
    "name": "ipython",
    "version": 3
   },
   "file_extension": ".py",
   "mimetype": "text/x-python",
   "name": "python",
   "nbconvert_exporter": "python",
   "pygments_lexer": "ipython3",
   "version": "3.7.12"
  }
 },
 "nbformat": 4,
 "nbformat_minor": 5
}
