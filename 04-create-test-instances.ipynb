{
 "cells": [
  {
   "cell_type": "markdown",
   "id": "f744f194-0c6c-4764-93d7-70d995ef8235",
   "metadata": {},
   "source": [
    "# Comparing results"
   ]
  },
  {
   "cell_type": "markdown",
   "id": "1de1fdef-05ae-4987-9bae-0314b9820fb8",
   "metadata": {},
   "source": [
    "> Follow instruction [here](https://towardsdatascience.com/extracting-song-data-from-the-spotify-api-using-python-b1e79388d50) for getting your own Spotify Developer API credentials"
   ]
  },
  {
   "cell_type": "code",
   "execution_count": null,
   "id": "4eb19742-23ad-4679-bac3-fccccec03de7",
   "metadata": {},
   "outputs": [],
   "source": [
    "# !pip install spotipy --user"
   ]
  },
  {
   "cell_type": "code",
   "execution_count": 1,
   "id": "bcef6301-7ce1-4bb2-951d-4e796b95c96a",
   "metadata": {},
   "outputs": [
    {
     "name": "stdout",
     "output_type": "stream",
     "text": [
      "PROJECT_ID: hybrid-vertex\n",
      "PROJECT_NUM: 934903580331\n",
      "LOCATION: us-central1\n"
     ]
    }
   ],
   "source": [
    "GCP_PROJECTS = !gcloud config get-value project\n",
    "PROJECT_ID = GCP_PROJECTS[0]\n",
    "PROJECT_NUM = !gcloud projects list --filter=\"$PROJECT_ID\" --format=\"value(PROJECT_NUMBER)\"\n",
    "PROJECT_NUM = PROJECT_NUM[0]\n",
    "LOCATION = 'us-central1'\n",
    "\n",
    "print(f\"PROJECT_ID: {PROJECT_ID}\")\n",
    "print(f\"PROJECT_NUM: {PROJECT_NUM}\")\n",
    "print(f\"LOCATION: {LOCATION}\")"
   ]
  },
  {
   "cell_type": "code",
   "execution_count": 2,
   "id": "a2d2c4d0-58af-4448-8877-571574134231",
   "metadata": {},
   "outputs": [],
   "source": [
    "import spotipy\n",
    "from spotipy.oauth2 import SpotifyClientCredentials, SpotifyOAuth\n",
    "import re\n",
    "from tqdm import tqdm\n",
    "\n",
    "import pandas as pd\n",
    "import json\n",
    "from io import BytesIO\n",
    "from pprint import pprint\n",
    "import os\n",
    "\n",
    "from google.cloud import storage\n",
    "\n",
    "pd.set_option('display.max_columns', 100)"
   ]
  },
  {
   "cell_type": "markdown",
   "id": "e4fb0355-db9f-4d59-854a-5c6b2302ed18",
   "metadata": {},
   "source": [
    "### Setup clients"
   ]
  },
  {
   "cell_type": "code",
   "execution_count": 7,
   "id": "902cf5fe-d4ed-4128-adb5-bddb9fbfbc19",
   "metadata": {},
   "outputs": [],
   "source": [
    "# CURRENT_PATH = !pwd\n",
    "\n",
    "# os.chdir(f'{CURRENT_PATH}')\n",
    "# os.getcwd()"
   ]
  },
  {
   "cell_type": "markdown",
   "id": "c25292a9-d034-4aee-9f26-57845038c35b",
   "metadata": {},
   "source": [
    "* If you registered credentials with the Spotify Web Developer API, easily query your playlists to create your own test examples\n",
    "* see [spotipy docs](https://spotipy.readthedocs.io/en/2.19.0/#welcome-to-spotipy), [github examples](https://github.com/plamere/spotipy/tree/master/examples), and [source code](https://github.com/plamere/spotipy/blob/master/spotipy/client.py#L20)"
   ]
  },
  {
   "cell_type": "code",
   "execution_count": 6,
   "id": "6456fb4e-5f21-4fec-a6a7-ea337ac3b3ec",
   "metadata": {},
   "outputs": [],
   "source": [
    "import spotipy_secret_creds as creds\n",
    "\n",
    "os.environ['GOOGLE_CLOUD_PROJECT'] = PROJECT_ID\n",
    "os.environ['SPOTIPY_CLIENT_ID'] = creds.SPOTIPY_CLIENT_ID\n",
    "os.environ['SPOTIPY_CLIENT_SECRET'] = creds.SPOTIPY_CLIENT_SECRET\n",
    "os.environ['SPOTIFY_USERNAME'] = creds.SPOTIFY_USERNAME\n",
    "\n",
    "SPOTIPY_CLIENT_ID=creds.SPOTIPY_CLIENT_ID\n",
    "SPOTIPY_CLIENT_SECRET=creds.SPOTIPY_CLIENT_SECRET\n",
    "SPOTIFY_USERNAME=creds.SPOTIFY_USERNAME\n",
    "\n",
    "MAX_SEED_LENGTH = 5\n",
    "\n",
    "# print(f\"SPOTIPY_CLIENT_ID: {SPOTIPY_CLIENT_ID}\")\n",
    "# print(f\"SPOTIPY_CLIENT_SECRET: {SPOTIPY_CLIENT_SECRET}\")\n",
    "# print(f\"SPOTIFY_USERNAME: {SPOTIFY_USERNAME}\")"
   ]
  },
  {
   "cell_type": "code",
   "execution_count": 8,
   "id": "62865b3c-55ca-4f89-b073-1fb7abcab320",
   "metadata": {},
   "outputs": [],
   "source": [
    "# Authenticate\n",
    "client_credentials_manager = SpotifyClientCredentials(\n",
    "    client_id=creds.SPOTIPY_CLIENT_ID, \n",
    "    client_secret=creds.SPOTIPY_CLIENT_SECRET\n",
    ")\n",
    "\n",
    "# scope = 'playlist-read-private' # scope=scope\n",
    "sp = spotipy.Spotify(\n",
    "    client_credentials_manager = client_credentials_manager,\n",
    "    # auth_manager=SpotifyOAuth(),\n",
    ")"
   ]
  },
  {
   "cell_type": "markdown",
   "id": "aca4abc6-1770-4811-b546-3aced7b7b259",
   "metadata": {},
   "source": [
    "# Create Test Instances"
   ]
  },
  {
   "cell_type": "markdown",
   "id": "0c1ab5cc-c16f-4eca-b6d0-13046612ed8e",
   "metadata": {},
   "source": [
    "## (1) Use your own Spotify playlists\n",
    "\n",
    "Keep in mind:\n",
    "* it's possible your playlists have tracks that are not present in the Million Playlists Dataset\n",
    "* That's OK - we want the model to generalize to unseen data!\n",
    "* Let's see what the model associates them with..."
   ]
  },
  {
   "cell_type": "markdown",
   "id": "9b20751e-d1b0-4944-9557-e4fac90de0cf",
   "metadata": {},
   "source": [
    "### get user playlists\n",
    "\n",
    "> To connect to you Spotify account, see [Client Credentials Flow](https://spotipy.readthedocs.io/en/2.19.0/#client-credentials-flow) for authentication"
   ]
  },
  {
   "cell_type": "code",
   "execution_count": 12,
   "id": "7072bed7-2bd6-4531-bf82-dbb4195ae4ee",
   "metadata": {},
   "outputs": [],
   "source": [
    "playlists = sp.user_playlists(f'{SPOTIFY_USERNAME}')\n",
    "while playlists:\n",
    "    for i, playlist in enumerate(playlists['items']):\n",
    "        print(\"%4d %s %s\" % (i + 1 + playlists['offset'], playlist['uri'],  playlist['name']))\n",
    "    if playlists['next']:\n",
    "        playlists = sp.next(playlists)\n",
    "    else:\n",
    "        playlists = None"
   ]
  },
  {
   "cell_type": "markdown",
   "id": "e9f61849-10b6-4f18-b027-74872e15dce5",
   "metadata": {},
   "source": [
    "### Test playlist link"
   ]
  },
  {
   "cell_type": "code",
   "execution_count": 13,
   "id": "2764a281-9565-410f-9817-244fa45dbfad",
   "metadata": {},
   "outputs": [
    {
     "name": "stdout",
     "output_type": "stream",
     "text": [
      "playlist_URI: 3GX5FLE0IxHNZtLye0ETgb\n"
     ]
    },
    {
     "data": {
      "text/plain": [
       "['spotify:track:7hqesNgWCx8NZTHl4MXkPF',\n",
       " 'spotify:track:0y2y5zcZr0Ciei8bf41cSS',\n",
       " 'spotify:track:1Hi6XYNirfRidjPo18UUq0',\n",
       " 'spotify:track:5U51nS2N1TDL1HEHEio7mC',\n",
       " 'spotify:track:4euYSSvpQZSAQ4gThyL2QD',\n",
       " 'spotify:track:5CahDIpRZSLStfqNdznMoE',\n",
       " 'spotify:track:6l6ObuVjdZbc900Q2WgO7K',\n",
       " 'spotify:track:3i5m63j2chfkDu3qmcb9m3',\n",
       " 'spotify:track:1MMp1H2Kib2BCDtdL5nL63',\n",
       " 'spotify:track:2l5kuq6JLqCA6Afx8gGh8V',\n",
       " 'spotify:track:1Zxu9r1D4fKGaxBUxmIsWG',\n",
       " 'spotify:track:5n9Ul19Pb8MROfm8eTI7UH',\n",
       " 'spotify:track:1JFdocYRMthec2BNrkOF1b']"
      ]
     },
     "execution_count": 13,
     "metadata": {},
     "output_type": "execute_result"
    }
   ],
   "source": [
    "# muscale shoals\n",
    "playlist_link = 'https://open.spotify.com/playlist/3GX5FLE0IxHNZtLye0ETgb?si=f99fa67315f14bbe'\n",
    "\n",
    "playlist_URI = playlist_link.split(\"/\")[-1].split(\"?\")[0]\n",
    "\n",
    "print(f\"playlist_URI: {playlist_URI}\")\n",
    "\n",
    "track_uris = [x[\"track\"][\"uri\"] for x in sp.playlist_tracks(playlist_URI)[\"items\"]]\n",
    "\n",
    "track_uris"
   ]
  },
  {
   "cell_type": "markdown",
   "id": "e1235b22-459e-46a8-86b2-fbbcd5001ce9",
   "metadata": {},
   "source": [
    "## Loop multiple playlists"
   ]
  },
  {
   "cell_type": "markdown",
   "id": "afb117ef-adb1-41c5-938a-9fce3a94fdf8",
   "metadata": {},
   "source": [
    "### Helper functions"
   ]
  },
  {
   "cell_type": "code",
   "execution_count": 301,
   "id": "67721be1-712a-4f3c-8b56-e2c85789797a",
   "metadata": {},
   "outputs": [],
   "source": [
    "# def get_track_features(track_uri, count, playlist_uri, n_songs_pl):\n",
    "def get_track_features(track_uri, count, playlist_uri):\n",
    "    \n",
    "    feature_dict = {}\n",
    "    \n",
    "    playlist_features = sp.playlist(playlist_uri)\n",
    "    feature_dict['pl_name'] = playlist_features['name']\n",
    "    feature_dict['description_pl'] = playlist_features['description']\n",
    "    feature_dict['collaborative'] = playlist_features['collaborative']\n",
    "    # feature_dict['n_songs_pl'] = n_songs_pl\n",
    "    \n",
    "    track_meta = sp.track(track_uri)\n",
    "    # capture track metadata\n",
    "    feature_dict['track_pos'] = count\n",
    "    feature_dict['track_uri'] = track_uri\n",
    "    feature_dict['track_name'] = track_meta['name']\n",
    "    feature_dict['duration_ms'] = track_meta['duration_ms']\n",
    "    feature_dict['track_pop'] = track_meta['popularity']\n",
    "    feature_dict['album_name'] = track_meta['album']['name']\n",
    "    feature_dict['album_uri'] = track_meta['album']['uri']\n",
    "    feature_dict['album_release_date'] = track_meta['album']['release_date']\n",
    "    feature_dict['artist_name'] = track_meta['album']['artists'][0]['name']\n",
    "    feature_dict['artist_uri'] = track_meta['album']['artists'][0]['uri']\n",
    "\n",
    "    artist_meta = sp.artist(feature_dict['artist_uri'])\n",
    "    # capture artist metadata\n",
    "    feature_dict['artist_followers'] = artist_meta['followers']['total']\n",
    "    feature_dict['artist_popularity'] = artist_meta['popularity']\n",
    "    # artist_genres = artist_meta['genres']\n",
    "    \n",
    "    if artist_meta['genres']:\n",
    "        feature_dict['artist_genres'] = \" \".join([re.sub(' ','_',i) for i in artist_meta['genres']])\n",
    "    else:\n",
    "        feature_dict['artist_genres'] = \"unknown\"\n",
    "    \n",
    "    track_features = sp.audio_features(track_uri)[0]\n",
    "    # capture track audio features\n",
    "    feature_dict['duration'] = track_features['duration_ms']\n",
    "    feature_dict['acousticness'] = track_features['acousticness']\n",
    "    feature_dict['danceability'] = track_features['danceability']\n",
    "    feature_dict['energy'] = track_features['energy']\n",
    "    feature_dict['instrumentalness'] = track_features['instrumentalness']\n",
    "    feature_dict['key'] = track_features['key']\n",
    "    feature_dict['liveness'] = track_features['liveness']\n",
    "    feature_dict['loudness']= track_features['loudness']\n",
    "    feature_dict['mode'] = track_features['mode']\n",
    "    feature_dict['speechiness'] = track_features['speechiness']\n",
    "    feature_dict['tempo'] = track_features['tempo']\n",
    "    feature_dict['time_signature'] = track_features['time_signature']\n",
    "    feature_dict['valence'] = track_features['valence']\n",
    "    \n",
    "    return feature_dict\n",
    "\n",
    "def get_playlist_queries(playlist_uri):\n",
    "    \n",
    "    track_uris = [x[\"track\"][\"uri\"] for x in sp.playlist_tracks(playlist_uri)[\"items\"]]\n",
    "    \n",
    "    # n_songs_pl = len(track_uris)\n",
    "    playlist_featutre_list = []\n",
    "    \n",
    "    for count, track_uri in enumerate(track_uris):\n",
    "        # results = get_track_features(track_uri, count, playlist_uri, n_songs_pl)\n",
    "        results = get_track_features(track_uri, count, playlist_uri)\n",
    "        # results['n_songs_pl'] = len(results)\n",
    "        playlist_featutre_list.append(results)\n",
    "    \n",
    "    return playlist_featutre_list"
   ]
  },
  {
   "cell_type": "code",
   "execution_count": 14,
   "id": "b916b009-f86a-41db-a564-d1d520c02017",
   "metadata": {},
   "outputs": [
    {
     "name": "stdout",
     "output_type": "stream",
     "text": [
      "playlist_uris: ['3GX5FLE0IxHNZtLye0ETgb', '0XPJ39OCBhOw5OZa7udYYP', '6imD2IJOyw3MEKdZ4XZqZ4', '1pGfqRD9CzyO9lOn9Fp09V', '3HeHZi8VGEm6ZNHZ2FVRr6']\n"
     ]
    }
   ],
   "source": [
    "playlist_uris = []\n",
    "\n",
    "playlist_links = [\n",
    "    'https://open.spotify.com/playlist/3GX5FLE0IxHNZtLye0ETgb?si=80db2142bb684516', # muscle shoals\n",
    "    'https://open.spotify.com/playlist/0XPJ39OCBhOw5OZa7udYYP?si=92551fefe7c64eb1', # disco\n",
    "    'https://open.spotify.com/playlist/6imD2IJOyw3MEKdZ4XZqZ4?si=b29779098622481f', # space is the place\n",
    "    # 'https://open.spotify.com/playlist/1E1EwxJyzjt6SYyfnp9mE8?si=0f1cda3332c14290', # all panic\n",
    "    'https://open.spotify.com/playlist/1pGfqRD9CzyO9lOn9Fp09V?si=3f6c8067491a4105', # live panic - small\n",
    "    'https://open.spotify.com/playlist/3HeHZi8VGEm6ZNHZ2FVRr6?si=ca0b107a42e84067', # biebs weeknd\n",
    "]\n",
    "\n",
    "for link in playlist_links:\n",
    "    playlist_uri = link.split(\"/\")[-1].split(\"?\")[0]\n",
    "    playlist_uris.append(playlist_uri)\n",
    "\n",
    "print(f\"playlist_uris: {playlist_uris}\")"
   ]
  },
  {
   "cell_type": "code",
   "execution_count": 303,
   "id": "038a3b13-6caa-44b0-b388-dae745c24fb9",
   "metadata": {},
   "outputs": [
    {
     "data": {
      "text/plain": [
       "5"
      ]
     },
     "execution_count": 303,
     "metadata": {},
     "output_type": "execute_result"
    }
   ],
   "source": [
    "featureLIST = [] \n",
    "\n",
    "for uri in playlist_uris:\n",
    "    results = get_playlist_queries(uri)\n",
    "    featureLIST.append(results)\n",
    "\n",
    "len(featureLIST)"
   ]
  },
  {
   "cell_type": "code",
   "execution_count": 320,
   "id": "9e843742-96eb-4070-8e18-7742e2e9ca12",
   "metadata": {},
   "outputs": [
    {
     "data": {
      "text/plain": [
       "'Amazing Grace (Live at New Temple Missionary Baptist Church, Los Angeles, CA, 01/13/72)'"
      ]
     },
     "execution_count": 320,
     "metadata": {},
     "output_type": "execute_result"
    }
   ],
   "source": [
    "featureLIST[0][0]['album_name']"
   ]
  },
  {
   "cell_type": "markdown",
   "id": "788269b6-8150-471c-8e0e-4275ac8f4f24",
   "metadata": {},
   "source": [
    "#### Let's inspect the first song of the 4th playlist"
   ]
  },
  {
   "cell_type": "code",
   "execution_count": 322,
   "id": "ef7f299f-138d-42a1-8063-c8a91e97c481",
   "metadata": {},
   "outputs": [
    {
     "data": {
      "text/plain": [
       "{'pl_name': 'live panic - small',\n",
       " 'description_pl': 'recent live shows for widespread panic',\n",
       " 'collaborative': False,\n",
       " 'track_pos': 0,\n",
       " 'track_uri': 'spotify:track:6GK8JaPXQ7FPiWww3R7nVH',\n",
       " 'track_name': 'Who Do You Belong To?',\n",
       " 'duration_ms': 297709,\n",
       " 'track_pop': 23,\n",
       " 'album_name': '12/31/17 Fox Theatre, Atlanta, GA',\n",
       " 'album_uri': 'spotify:album:2YI0tPSSIhvx839b2eCeTJ',\n",
       " 'album_release_date': '2018-01-03',\n",
       " 'artist_name': 'Widespread Panic',\n",
       " 'artist_uri': 'spotify:artist:54SHZF2YS3W87xuJKSvOVf',\n",
       " 'artist_followers': 246109,\n",
       " 'artist_popularity': 50,\n",
       " 'artist_genres': 'athens_indie jam_band roots_rock southern_rock',\n",
       " 'duration': 297709,\n",
       " 'acousticness': 0.529,\n",
       " 'danceability': 0.512,\n",
       " 'energy': 0.889,\n",
       " 'instrumentalness': 0.293,\n",
       " 'key': 2,\n",
       " 'liveness': 0.71,\n",
       " 'loudness': -9.173,\n",
       " 'mode': 1,\n",
       " 'speechiness': 0.0511,\n",
       " 'tempo': 108.305,\n",
       " 'time_signature': 4,\n",
       " 'valence': 0.749}"
      ]
     },
     "execution_count": 322,
     "metadata": {},
     "output_type": "execute_result"
    }
   ],
   "source": [
    "featureLIST[3][0]"
   ]
  },
  {
   "cell_type": "code",
   "execution_count": 307,
   "id": "fe511ce9-5e28-449d-890b-a522c53e6409",
   "metadata": {},
   "outputs": [
    {
     "name": "stdout",
     "output_type": "stream",
     "text": [
      "(65, 29)\n"
     ]
    },
    {
     "data": {
      "text/html": [
       "<div>\n",
       "<style scoped>\n",
       "    .dataframe tbody tr th:only-of-type {\n",
       "        vertical-align: middle;\n",
       "    }\n",
       "\n",
       "    .dataframe tbody tr th {\n",
       "        vertical-align: top;\n",
       "    }\n",
       "\n",
       "    .dataframe thead th {\n",
       "        text-align: right;\n",
       "    }\n",
       "</style>\n",
       "<table border=\"1\" class=\"dataframe\">\n",
       "  <thead>\n",
       "    <tr style=\"text-align: right;\">\n",
       "      <th></th>\n",
       "      <th>pl_name</th>\n",
       "      <th>description_pl</th>\n",
       "      <th>collaborative</th>\n",
       "      <th>track_pos</th>\n",
       "      <th>track_uri</th>\n",
       "      <th>track_name</th>\n",
       "      <th>duration_ms</th>\n",
       "      <th>track_pop</th>\n",
       "      <th>album_name</th>\n",
       "      <th>album_uri</th>\n",
       "      <th>album_release_date</th>\n",
       "      <th>artist_name</th>\n",
       "      <th>artist_uri</th>\n",
       "      <th>artist_followers</th>\n",
       "      <th>artist_popularity</th>\n",
       "      <th>artist_genres</th>\n",
       "      <th>duration</th>\n",
       "      <th>acousticness</th>\n",
       "      <th>danceability</th>\n",
       "      <th>energy</th>\n",
       "      <th>instrumentalness</th>\n",
       "      <th>key</th>\n",
       "      <th>liveness</th>\n",
       "      <th>loudness</th>\n",
       "      <th>mode</th>\n",
       "      <th>speechiness</th>\n",
       "      <th>tempo</th>\n",
       "      <th>time_signature</th>\n",
       "      <th>valence</th>\n",
       "    </tr>\n",
       "  </thead>\n",
       "  <tbody>\n",
       "    <tr>\n",
       "      <th>0</th>\n",
       "      <td>Muscle Shoals</td>\n",
       "      <td>a blend of country, gospel and R &amp;amp; B, alab...</td>\n",
       "      <td>False</td>\n",
       "      <td>0</td>\n",
       "      <td>spotify:track:7hqesNgWCx8NZTHl4MXkPF</td>\n",
       "      <td>Mary, Don't You Weep - Live at New Temple Miss...</td>\n",
       "      <td>446506</td>\n",
       "      <td>36</td>\n",
       "      <td>Amazing Grace (Live at New Temple Missionary B...</td>\n",
       "      <td>spotify:album:5pIUimaQ6XePPXbMUi3te0</td>\n",
       "      <td>1972</td>\n",
       "      <td>Aretha Franklin</td>\n",
       "      <td>spotify:artist:7nwUJBm0HE4ZxD3f5cy5ok</td>\n",
       "      <td>2976902</td>\n",
       "      <td>69</td>\n",
       "      <td>classic_soul jazz_blues memphis_soul soul sout...</td>\n",
       "      <td>446507</td>\n",
       "      <td>0.74400</td>\n",
       "      <td>0.572</td>\n",
       "      <td>0.270</td>\n",
       "      <td>0.000185</td>\n",
       "      <td>1</td>\n",
       "      <td>0.8580</td>\n",
       "      <td>-16.201</td>\n",
       "      <td>1</td>\n",
       "      <td>0.0378</td>\n",
       "      <td>81.720</td>\n",
       "      <td>3</td>\n",
       "      <td>0.610</td>\n",
       "    </tr>\n",
       "    <tr>\n",
       "      <th>1</th>\n",
       "      <td>Muscle Shoals</td>\n",
       "      <td>a blend of country, gospel and R &amp;amp; B, alab...</td>\n",
       "      <td>False</td>\n",
       "      <td>1</td>\n",
       "      <td>spotify:track:0y2y5zcZr0Ciei8bf41cSS</td>\n",
       "      <td>Confessions</td>\n",
       "      <td>324760</td>\n",
       "      <td>45</td>\n",
       "      <td>Carolina Confessions</td>\n",
       "      <td>spotify:album:6RVN0MPUbYBiYm2Otf6Li2</td>\n",
       "      <td>2018-10-05</td>\n",
       "      <td>Marcus King</td>\n",
       "      <td>spotify:artist:0FeWKiZSwBRdGzqeCdlH1a</td>\n",
       "      <td>130677</td>\n",
       "      <td>56</td>\n",
       "      <td>modern_blues_rock</td>\n",
       "      <td>324760</td>\n",
       "      <td>0.26900</td>\n",
       "      <td>0.357</td>\n",
       "      <td>0.437</td>\n",
       "      <td>0.000403</td>\n",
       "      <td>5</td>\n",
       "      <td>0.1510</td>\n",
       "      <td>-9.072</td>\n",
       "      <td>0</td>\n",
       "      <td>0.0312</td>\n",
       "      <td>135.730</td>\n",
       "      <td>3</td>\n",
       "      <td>0.447</td>\n",
       "    </tr>\n",
       "    <tr>\n",
       "      <th>2</th>\n",
       "      <td>Muscle Shoals</td>\n",
       "      <td>a blend of country, gospel and R &amp;amp; B, alab...</td>\n",
       "      <td>False</td>\n",
       "      <td>2</td>\n",
       "      <td>spotify:track:1Hi6XYNirfRidjPo18UUq0</td>\n",
       "      <td>Welcome ’Round Here</td>\n",
       "      <td>261546</td>\n",
       "      <td>49</td>\n",
       "      <td>Carolina Confessions</td>\n",
       "      <td>spotify:album:6RVN0MPUbYBiYm2Otf6Li2</td>\n",
       "      <td>2018-10-05</td>\n",
       "      <td>Marcus King</td>\n",
       "      <td>spotify:artist:0FeWKiZSwBRdGzqeCdlH1a</td>\n",
       "      <td>130677</td>\n",
       "      <td>56</td>\n",
       "      <td>modern_blues_rock</td>\n",
       "      <td>261547</td>\n",
       "      <td>0.00904</td>\n",
       "      <td>0.297</td>\n",
       "      <td>0.734</td>\n",
       "      <td>0.004430</td>\n",
       "      <td>0</td>\n",
       "      <td>0.0959</td>\n",
       "      <td>-7.255</td>\n",
       "      <td>1</td>\n",
       "      <td>0.0443</td>\n",
       "      <td>93.259</td>\n",
       "      <td>4</td>\n",
       "      <td>0.252</td>\n",
       "    </tr>\n",
       "    <tr>\n",
       "      <th>3</th>\n",
       "      <td>Muscle Shoals</td>\n",
       "      <td>a blend of country, gospel and R &amp;amp; B, alab...</td>\n",
       "      <td>False</td>\n",
       "      <td>3</td>\n",
       "      <td>spotify:track:5U51nS2N1TDL1HEHEio7mC</td>\n",
       "      <td>Down In the Flood</td>\n",
       "      <td>302306</td>\n",
       "      <td>45</td>\n",
       "      <td>Already Free</td>\n",
       "      <td>spotify:album:1I4Ydy7hVvINSdRHV7n4fS</td>\n",
       "      <td>2009-01-13</td>\n",
       "      <td>The Derek Trucks Band</td>\n",
       "      <td>spotify:artist:1YwfENKEZrowcmtR1nALZn</td>\n",
       "      <td>193616</td>\n",
       "      <td>44</td>\n",
       "      <td>blues blues_rock country_rock electric_blues j...</td>\n",
       "      <td>302307</td>\n",
       "      <td>0.18100</td>\n",
       "      <td>0.551</td>\n",
       "      <td>0.695</td>\n",
       "      <td>0.000154</td>\n",
       "      <td>0</td>\n",
       "      <td>0.1920</td>\n",
       "      <td>-7.111</td>\n",
       "      <td>1</td>\n",
       "      <td>0.0323</td>\n",
       "      <td>114.135</td>\n",
       "      <td>4</td>\n",
       "      <td>0.207</td>\n",
       "    </tr>\n",
       "    <tr>\n",
       "      <th>4</th>\n",
       "      <td>Muscle Shoals</td>\n",
       "      <td>a blend of country, gospel and R &amp;amp; B, alab...</td>\n",
       "      <td>False</td>\n",
       "      <td>4</td>\n",
       "      <td>spotify:track:4euYSSvpQZSAQ4gThyL2QD</td>\n",
       "      <td>Ain't Wastin' Time No More</td>\n",
       "      <td>221890</td>\n",
       "      <td>59</td>\n",
       "      <td>Eat A Peach</td>\n",
       "      <td>spotify:album:6D9I7GZsqc3pwDg3DFrtjs</td>\n",
       "      <td>1972-02-12</td>\n",
       "      <td>Allman Brothers Band</td>\n",
       "      <td>spotify:artist:4wQ3PyMz3WwJGI5uEqHUVR</td>\n",
       "      <td>1367664</td>\n",
       "      <td>63</td>\n",
       "      <td>album_rock blues_rock classic_rock country_roc...</td>\n",
       "      <td>221891</td>\n",
       "      <td>0.33700</td>\n",
       "      <td>0.453</td>\n",
       "      <td>0.607</td>\n",
       "      <td>0.023700</td>\n",
       "      <td>3</td>\n",
       "      <td>0.0998</td>\n",
       "      <td>-13.400</td>\n",
       "      <td>1</td>\n",
       "      <td>0.0345</td>\n",
       "      <td>91.468</td>\n",
       "      <td>4</td>\n",
       "      <td>0.724</td>\n",
       "    </tr>\n",
       "  </tbody>\n",
       "</table>\n",
       "</div>"
      ],
      "text/plain": [
       "         pl_name                                     description_pl  \\\n",
       "0  Muscle Shoals  a blend of country, gospel and R &amp; B, alab...   \n",
       "1  Muscle Shoals  a blend of country, gospel and R &amp; B, alab...   \n",
       "2  Muscle Shoals  a blend of country, gospel and R &amp; B, alab...   \n",
       "3  Muscle Shoals  a blend of country, gospel and R &amp; B, alab...   \n",
       "4  Muscle Shoals  a blend of country, gospel and R &amp; B, alab...   \n",
       "\n",
       "   collaborative  track_pos                             track_uri  \\\n",
       "0          False          0  spotify:track:7hqesNgWCx8NZTHl4MXkPF   \n",
       "1          False          1  spotify:track:0y2y5zcZr0Ciei8bf41cSS   \n",
       "2          False          2  spotify:track:1Hi6XYNirfRidjPo18UUq0   \n",
       "3          False          3  spotify:track:5U51nS2N1TDL1HEHEio7mC   \n",
       "4          False          4  spotify:track:4euYSSvpQZSAQ4gThyL2QD   \n",
       "\n",
       "                                          track_name  duration_ms  track_pop  \\\n",
       "0  Mary, Don't You Weep - Live at New Temple Miss...       446506         36   \n",
       "1                                        Confessions       324760         45   \n",
       "2                                Welcome ’Round Here       261546         49   \n",
       "3                                  Down In the Flood       302306         45   \n",
       "4                         Ain't Wastin' Time No More       221890         59   \n",
       "\n",
       "                                          album_name  \\\n",
       "0  Amazing Grace (Live at New Temple Missionary B...   \n",
       "1                               Carolina Confessions   \n",
       "2                               Carolina Confessions   \n",
       "3                                       Already Free   \n",
       "4                                        Eat A Peach   \n",
       "\n",
       "                              album_uri album_release_date  \\\n",
       "0  spotify:album:5pIUimaQ6XePPXbMUi3te0               1972   \n",
       "1  spotify:album:6RVN0MPUbYBiYm2Otf6Li2         2018-10-05   \n",
       "2  spotify:album:6RVN0MPUbYBiYm2Otf6Li2         2018-10-05   \n",
       "3  spotify:album:1I4Ydy7hVvINSdRHV7n4fS         2009-01-13   \n",
       "4  spotify:album:6D9I7GZsqc3pwDg3DFrtjs         1972-02-12   \n",
       "\n",
       "             artist_name                             artist_uri  \\\n",
       "0        Aretha Franklin  spotify:artist:7nwUJBm0HE4ZxD3f5cy5ok   \n",
       "1            Marcus King  spotify:artist:0FeWKiZSwBRdGzqeCdlH1a   \n",
       "2            Marcus King  spotify:artist:0FeWKiZSwBRdGzqeCdlH1a   \n",
       "3  The Derek Trucks Band  spotify:artist:1YwfENKEZrowcmtR1nALZn   \n",
       "4   Allman Brothers Band  spotify:artist:4wQ3PyMz3WwJGI5uEqHUVR   \n",
       "\n",
       "   artist_followers  artist_popularity  \\\n",
       "0           2976902                 69   \n",
       "1            130677                 56   \n",
       "2            130677                 56   \n",
       "3            193616                 44   \n",
       "4           1367664                 63   \n",
       "\n",
       "                                       artist_genres  duration  acousticness  \\\n",
       "0  classic_soul jazz_blues memphis_soul soul sout...    446507       0.74400   \n",
       "1                                  modern_blues_rock    324760       0.26900   \n",
       "2                                  modern_blues_rock    261547       0.00904   \n",
       "3  blues blues_rock country_rock electric_blues j...    302307       0.18100   \n",
       "4  album_rock blues_rock classic_rock country_roc...    221891       0.33700   \n",
       "\n",
       "   danceability  energy  instrumentalness  key  liveness  loudness  mode  \\\n",
       "0         0.572   0.270          0.000185    1    0.8580   -16.201     1   \n",
       "1         0.357   0.437          0.000403    5    0.1510    -9.072     0   \n",
       "2         0.297   0.734          0.004430    0    0.0959    -7.255     1   \n",
       "3         0.551   0.695          0.000154    0    0.1920    -7.111     1   \n",
       "4         0.453   0.607          0.023700    3    0.0998   -13.400     1   \n",
       "\n",
       "   speechiness    tempo  time_signature  valence  \n",
       "0       0.0378   81.720               3    0.610  \n",
       "1       0.0312  135.730               3    0.447  \n",
       "2       0.0443   93.259               4    0.252  \n",
       "3       0.0323  114.135               4    0.207  \n",
       "4       0.0345   91.468               4    0.724  "
      ]
     },
     "execution_count": 307,
     "metadata": {},
     "output_type": "execute_result"
    }
   ],
   "source": [
    "from itertools import chain\n",
    "\n",
    "test_df = pd.DataFrame(list(chain.from_iterable(featureLIST)))\n",
    "\n",
    "print(test_df.shape)\n",
    "test_df.head()"
   ]
  },
  {
   "cell_type": "markdown",
   "id": "ee0aaf7a-9130-4997-bc34-b3c9124e3a34",
   "metadata": {},
   "source": [
    "# TODO\n",
    "* `n_songs_pl`\n",
    "* `num_artists_pl`\n",
    "* `num_albums_pl`\n",
    "* format ragged columns (<= 5)"
   ]
  },
  {
   "cell_type": "code",
   "execution_count": 323,
   "id": "b6e4aee0-131c-4248-93e3-46dc5285f5d0",
   "metadata": {},
   "outputs": [],
   "source": [
    "# test_df_2 = test_df.copy()\n",
    "\n",
    "# # dfd['new_B'] = dfd.groupby('A')['B'].transform('min')\n",
    "\n",
    "# # test_df_2['n_songs_pl'] = test_df_2.groupby('track_uri')['pl_name'].count()\n",
    "# test_df_2['n_songs_pl'] = test_df_2.groupby('pl_name')['ccc'].count()\n",
    "# # test_df_2['n_songs_pl'] = df[df.A > 0].shape[0]\n",
    "\n",
    "# test_df_2['pl_name'].value_counts()[145]\n",
    "\n",
    "# test_df_2.head()\n",
    "# #aggregate by min\n",
    "# # s = dfd.groupby('A')['B'].min()"
   ]
  },
  {
   "cell_type": "code",
   "execution_count": null,
   "id": "d6a0c719-5d10-425c-b88d-03a4c259113c",
   "metadata": {},
   "outputs": [],
   "source": []
  },
  {
   "cell_type": "code",
   "execution_count": 250,
   "id": "ef57e527-6afb-4c38-8260-38e163c679a9",
   "metadata": {},
   "outputs": [
    {
     "name": "stdout",
     "output_type": "stream",
     "text": [
      "(13, 28)\n"
     ]
    },
    {
     "data": {
      "text/html": [
       "<div>\n",
       "<style scoped>\n",
       "    .dataframe tbody tr th:only-of-type {\n",
       "        vertical-align: middle;\n",
       "    }\n",
       "\n",
       "    .dataframe tbody tr th {\n",
       "        vertical-align: top;\n",
       "    }\n",
       "\n",
       "    .dataframe thead th {\n",
       "        text-align: right;\n",
       "    }\n",
       "</style>\n",
       "<table border=\"1\" class=\"dataframe\">\n",
       "  <thead>\n",
       "    <tr style=\"text-align: right;\">\n",
       "      <th></th>\n",
       "      <th>pl_name</th>\n",
       "      <th>description_pl</th>\n",
       "      <th>collaborative</th>\n",
       "      <th>track_uri</th>\n",
       "      <th>track_name</th>\n",
       "      <th>duration_ms</th>\n",
       "      <th>track_pop</th>\n",
       "      <th>album_name</th>\n",
       "      <th>album_uri</th>\n",
       "      <th>album_release_date</th>\n",
       "      <th>artist_name</th>\n",
       "      <th>artist_uri</th>\n",
       "      <th>artist_followers</th>\n",
       "      <th>artist_popularity</th>\n",
       "      <th>artist_genres</th>\n",
       "      <th>duration</th>\n",
       "      <th>acousticness</th>\n",
       "      <th>danceability</th>\n",
       "      <th>energy</th>\n",
       "      <th>instrumentalness</th>\n",
       "      <th>key</th>\n",
       "      <th>liveness</th>\n",
       "      <th>loudness</th>\n",
       "      <th>mode</th>\n",
       "      <th>speechiness</th>\n",
       "      <th>tempo</th>\n",
       "      <th>time_signature</th>\n",
       "      <th>valence</th>\n",
       "    </tr>\n",
       "  </thead>\n",
       "  <tbody>\n",
       "    <tr>\n",
       "      <th>0</th>\n",
       "      <td>Muscle Shoals</td>\n",
       "      <td>a blend of country, gospel and R &amp;amp; B, alab...</td>\n",
       "      <td>False</td>\n",
       "      <td>spotify:track:7hqesNgWCx8NZTHl4MXkPF</td>\n",
       "      <td>Mary, Don't You Weep - Live at New Temple Miss...</td>\n",
       "      <td>446506</td>\n",
       "      <td>36</td>\n",
       "      <td>Amazing Grace (Live at New Temple Missionary B...</td>\n",
       "      <td>spotify:album:5pIUimaQ6XePPXbMUi3te0</td>\n",
       "      <td>1972</td>\n",
       "      <td>Aretha Franklin</td>\n",
       "      <td>spotify:artist:7nwUJBm0HE4ZxD3f5cy5ok</td>\n",
       "      <td>2976902</td>\n",
       "      <td>69</td>\n",
       "      <td>classic_soul jazz_blues memphis_soul soul sout...</td>\n",
       "      <td>446507</td>\n",
       "      <td>0.744</td>\n",
       "      <td>0.572</td>\n",
       "      <td>0.270</td>\n",
       "      <td>0.000185</td>\n",
       "      <td>1</td>\n",
       "      <td>0.858</td>\n",
       "      <td>-16.201</td>\n",
       "      <td>1</td>\n",
       "      <td>0.0378</td>\n",
       "      <td>81.72</td>\n",
       "      <td>3</td>\n",
       "      <td>0.610</td>\n",
       "    </tr>\n",
       "    <tr>\n",
       "      <th>1</th>\n",
       "      <td>Muscle Shoals</td>\n",
       "      <td>a blend of country, gospel and R &amp;amp; B, alab...</td>\n",
       "      <td>False</td>\n",
       "      <td>spotify:track:0y2y5zcZr0Ciei8bf41cSS</td>\n",
       "      <td>Confessions</td>\n",
       "      <td>324760</td>\n",
       "      <td>45</td>\n",
       "      <td>Carolina Confessions</td>\n",
       "      <td>spotify:album:6RVN0MPUbYBiYm2Otf6Li2</td>\n",
       "      <td>2018-10-05</td>\n",
       "      <td>Marcus King</td>\n",
       "      <td>spotify:artist:0FeWKiZSwBRdGzqeCdlH1a</td>\n",
       "      <td>130677</td>\n",
       "      <td>56</td>\n",
       "      <td>modern_blues_rock</td>\n",
       "      <td>324760</td>\n",
       "      <td>0.269</td>\n",
       "      <td>0.357</td>\n",
       "      <td>0.437</td>\n",
       "      <td>0.000403</td>\n",
       "      <td>5</td>\n",
       "      <td>0.151</td>\n",
       "      <td>-9.072</td>\n",
       "      <td>0</td>\n",
       "      <td>0.0312</td>\n",
       "      <td>135.73</td>\n",
       "      <td>3</td>\n",
       "      <td>0.447</td>\n",
       "    </tr>\n",
       "  </tbody>\n",
       "</table>\n",
       "</div>"
      ],
      "text/plain": [
       "         pl_name                                     description_pl  \\\n",
       "0  Muscle Shoals  a blend of country, gospel and R &amp; B, alab...   \n",
       "1  Muscle Shoals  a blend of country, gospel and R &amp; B, alab...   \n",
       "\n",
       "   collaborative                             track_uri  \\\n",
       "0          False  spotify:track:7hqesNgWCx8NZTHl4MXkPF   \n",
       "1          False  spotify:track:0y2y5zcZr0Ciei8bf41cSS   \n",
       "\n",
       "                                          track_name  duration_ms  track_pop  \\\n",
       "0  Mary, Don't You Weep - Live at New Temple Miss...       446506         36   \n",
       "1                                        Confessions       324760         45   \n",
       "\n",
       "                                          album_name  \\\n",
       "0  Amazing Grace (Live at New Temple Missionary B...   \n",
       "1                               Carolina Confessions   \n",
       "\n",
       "                              album_uri album_release_date      artist_name  \\\n",
       "0  spotify:album:5pIUimaQ6XePPXbMUi3te0               1972  Aretha Franklin   \n",
       "1  spotify:album:6RVN0MPUbYBiYm2Otf6Li2         2018-10-05      Marcus King   \n",
       "\n",
       "                              artist_uri  artist_followers  artist_popularity  \\\n",
       "0  spotify:artist:7nwUJBm0HE4ZxD3f5cy5ok           2976902                 69   \n",
       "1  spotify:artist:0FeWKiZSwBRdGzqeCdlH1a            130677                 56   \n",
       "\n",
       "                                       artist_genres  duration  acousticness  \\\n",
       "0  classic_soul jazz_blues memphis_soul soul sout...    446507         0.744   \n",
       "1                                  modern_blues_rock    324760         0.269   \n",
       "\n",
       "   danceability  energy  instrumentalness  key  liveness  loudness  mode  \\\n",
       "0         0.572   0.270          0.000185    1     0.858   -16.201     1   \n",
       "1         0.357   0.437          0.000403    5     0.151    -9.072     0   \n",
       "\n",
       "   speechiness   tempo  time_signature  valence  \n",
       "0       0.0378   81.72               3    0.610  \n",
       "1       0.0312  135.73               3    0.447  "
      ]
     },
     "execution_count": 250,
     "metadata": {},
     "output_type": "execute_result"
    }
   ],
   "source": [
    "featureDF = pd.DataFrame(playlist_featutre_list)\n",
    "print(featureDF.shape)\n",
    "featureDF.head(2)"
   ]
  },
  {
   "cell_type": "code",
   "execution_count": null,
   "id": "9082bd92-c8fa-4ed8-945f-1e3a0342cd3d",
   "metadata": {},
   "outputs": [],
   "source": []
  },
  {
   "cell_type": "code",
   "execution_count": 244,
   "id": "c5532da1-2cf9-4d66-bc52-87a89a5a5037",
   "metadata": {},
   "outputs": [
    {
     "name": "stdout",
     "output_type": "stream",
     "text": [
      "dict_keys(['external_urls', 'followers', 'genres', 'href', 'id', 'images', 'name', 'popularity', 'type', 'uri'])\n",
      "69\n",
      "2976902\n",
      "['classic soul', 'jazz blues', 'memphis soul', 'soul', 'southern soul']\n",
      "Aretha Franklin\n",
      "69\n"
     ]
    }
   ],
   "source": [
    "artist_uri = '7nwUJBm0HE4ZxD3f5cy5ok'\n",
    "artist_info = sp.artist(artist_uri)\n",
    "pprint(artist_info.keys())\n",
    "\n",
    "print(artist_info['popularity']) #.keys()\n",
    "print(artist_info['followers']['total'])\n",
    "print(artist_info['genres'])\n",
    "print(artist_info['name'])"
   ]
  },
  {
   "cell_type": "code",
   "execution_count": 170,
   "id": "a09d85c2-83e9-4229-bf96-cd209092d06e",
   "metadata": {
    "tags": []
   },
   "outputs": [
    {
     "name": "stdout",
     "output_type": "stream",
     "text": [
      "dict_keys(['album', 'artists', 'available_markets', 'disc_number', 'duration_ms', 'explicit', 'external_ids', 'external_urls', 'href', 'id', 'is_local', 'name', 'popularity', 'preview_url', 'track_number', 'type', 'uri'])\n"
     ]
    },
    {
     "data": {
      "text/plain": [
       "{'external_urls': {'spotify': 'https://open.spotify.com/artist/7nwUJBm0HE4ZxD3f5cy5ok'},\n",
       " 'href': 'https://api.spotify.com/v1/artists/7nwUJBm0HE4ZxD3f5cy5ok',\n",
       " 'id': '7nwUJBm0HE4ZxD3f5cy5ok',\n",
       " 'name': 'Aretha Franklin',\n",
       " 'type': 'artist',\n",
       " 'uri': 'spotify:artist:7nwUJBm0HE4ZxD3f5cy5ok'}"
      ]
     },
     "execution_count": 170,
     "metadata": {},
     "output_type": "execute_result"
    }
   ],
   "source": [
    "track_uri = 'spotify:track:7hqesNgWCx8NZTHl4MXkPF'\n",
    "track = sp.track(track_uri)\n",
    "pprint(track.keys())\n",
    "\n",
    "track['artists'][0]\n",
    "# track['album']['artists'][0]['uri']"
   ]
  },
  {
   "cell_type": "code",
   "execution_count": null,
   "id": "d0fd0406-6d0b-4437-bfad-7f072c62bd86",
   "metadata": {},
   "outputs": [],
   "source": [
    "# for count, item in enumerate(my_list, start=1):\n",
    "#     print(count, item)"
   ]
  },
  {
   "cell_type": "markdown",
   "id": "66eefd02-fa9b-4ffa-86c3-1fe9605a4bb6",
   "metadata": {},
   "source": [
    "### testing"
   ]
  },
  {
   "cell_type": "code",
   "execution_count": 289,
   "id": "9ded6279-af6a-48b5-925f-cac2f28f1dd5",
   "metadata": {},
   "outputs": [
    {
     "name": "stdout",
     "output_type": "stream",
     "text": [
      "playlist_uris: ['3GX5FLE0IxHNZtLye0ETgb', '0XPJ39OCBhOw5OZa7udYYP', '6imD2IJOyw3MEKdZ4XZqZ4', '1pGfqRD9CzyO9lOn9Fp09V']\n"
     ]
    }
   ],
   "source": [
    "playlist_uris = []\n",
    "\n",
    "playlist_links = [\n",
    "    'https://open.spotify.com/playlist/3GX5FLE0IxHNZtLye0ETgb?si=80db2142bb684516', # muscle shoals\n",
    "    'https://open.spotify.com/playlist/0XPJ39OCBhOw5OZa7udYYP?si=92551fefe7c64eb1', # disco\n",
    "    'https://open.spotify.com/playlist/6imD2IJOyw3MEKdZ4XZqZ4?si=b29779098622481f', # space is the place\n",
    "    # 'https://open.spotify.com/playlist/1E1EwxJyzjt6SYyfnp9mE8?si=0f1cda3332c14290', # all panic\n",
    "    'https://open.spotify.com/playlist/1pGfqRD9CzyO9lOn9Fp09V?si=3f6c8067491a4105', # live panic - small\n",
    "    # 'https://open.spotify.com/playlist/3HeHZi8VGEm6ZNHZ2FVRr6?si=ca0b107a42e84067', # biebs weeknd\n",
    "]\n",
    "\n",
    "for link in playlist_links:\n",
    "    playlist_uri = link.split(\"/\")[-1].split(\"?\")[0]\n",
    "    playlist_uris.append(playlist_uri)\n",
    "\n",
    "print(f\"playlist_uris: {playlist_uris}\")"
   ]
  },
  {
   "cell_type": "code",
   "execution_count": 291,
   "id": "d1d98f9a-53fa-426d-a842-0028783e0a17",
   "metadata": {},
   "outputs": [
    {
     "data": {
      "text/plain": [
       "4"
      ]
     },
     "execution_count": 291,
     "metadata": {},
     "output_type": "execute_result"
    }
   ],
   "source": [
    "featureLIST = [] \n",
    "\n",
    "for uri in playlist_uris:\n",
    "    results = get_playlist_queries(uri)\n",
    "    featureLIST.append(results)\n",
    "\n",
    "len(featureLIST)"
   ]
  },
  {
   "cell_type": "code",
   "execution_count": 300,
   "id": "64d74029-2ef2-4d1d-a9c9-d4eaf5b9c6a9",
   "metadata": {},
   "outputs": [
    {
     "name": "stdout",
     "output_type": "stream",
     "text": [
      "13\n",
      "5\n",
      "13\n",
      "14\n"
     ]
    }
   ],
   "source": [
    "print(len(featureLIST[0]))\n",
    "print(len(featureLIST[1]))\n",
    "print(len(featureLIST[2]))\n",
    "print(len(featureLIST[3]))"
   ]
  },
  {
   "cell_type": "markdown",
   "id": "1baed3b9-7040-4443-9bc2-efbb248cf9dc",
   "metadata": {},
   "source": [
    "## Your favorite artists, tracks, and genres"
   ]
  },
  {
   "cell_type": "code",
   "execution_count": null,
   "id": "f85da9e8-f56a-4e92-844e-e202c1b619a1",
   "metadata": {},
   "outputs": [],
   "source": []
  }
 ],
 "metadata": {
  "environment": {
   "kernel": "python3",
   "name": "tf2-gpu.2-8.m97",
   "type": "gcloud",
   "uri": "gcr.io/deeplearning-platform-release/tf2-gpu.2-8:m97"
  },
  "kernelspec": {
   "display_name": "Python 3",
   "language": "python",
   "name": "python3"
  },
  "language_info": {
   "codemirror_mode": {
    "name": "ipython",
    "version": 3
   },
   "file_extension": ".py",
   "mimetype": "text/x-python",
   "name": "python",
   "nbconvert_exporter": "python",
   "pygments_lexer": "ipython3",
   "version": "3.7.12"
  }
 },
 "nbformat": 4,
 "nbformat_minor": 5
}
