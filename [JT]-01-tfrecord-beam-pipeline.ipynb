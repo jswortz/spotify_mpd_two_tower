{
 "cells": [
  {
   "cell_type": "markdown",
   "id": "1df6c870-747a-44c2-854e-bcd5ed14f320",
   "metadata": {
    "tags": []
   },
   "source": [
    "## Beam conversion from Bigquery to TF Records\n",
    "\n",
    "In this notebook we use Apache Beam to convert to tfrecords\n",
    "The applications can be found in `beam_candidates` and `beam_training` for candidate generation and training"
   ]
  },
  {
   "cell_type": "markdown",
   "id": "0e0f365f-5d78-4114-b741-311ffcc64884",
   "metadata": {},
   "source": [
    "`pip install --upgrade 'apache-beam[gcp]'`\n",
    "\n",
    "#### IMPORTANT - make sure you upgrade Dataflow with the above command then restart the notebook"
   ]
  },
  {
   "cell_type": "code",
   "execution_count": null,
   "id": "1bab01ef-6f4f-47fe-8f54-56bae24cae25",
   "metadata": {},
   "outputs": [],
   "source": [
    "# !pip install --upgrade 'apache-beam[gcp]'"
   ]
  },
  {
   "cell_type": "code",
   "execution_count": 1,
   "id": "3148ce99-d7d0-4298-a3d3-4ea5a1aee30b",
   "metadata": {},
   "outputs": [],
   "source": [
    "import tensorflow as tf"
   ]
  },
  {
   "cell_type": "markdown",
   "id": "95a8cfb3-6333-4da6-8747-7706a92841ef",
   "metadata": {},
   "source": [
    "### Create gcs byckets(s)"
   ]
  },
  {
   "cell_type": "raw",
   "id": "758d4549-810d-4d62-a255-1a8ad8b68dba",
   "metadata": {},
   "source": [
    "# # only if bucket doesnt exist...\n",
    "! gsutil mb -l $REGION $BUCKET_URI"
   ]
  },
  {
   "cell_type": "code",
   "execution_count": 9,
   "id": "54e67f5f-2539-407f-8f24-3be640420f9c",
   "metadata": {},
   "outputs": [],
   "source": [
    "#otherwise, \n",
    "! gsutil ls -al $BUCKET_URI"
   ]
  },
  {
   "cell_type": "markdown",
   "id": "6babbe19-0ea7-42cc-ac89-db2705f4ae16",
   "metadata": {},
   "source": [
    "### Run the Dataflow app to convert from BQ to TFrecords\n",
    "\n",
    "Candidate generation can be found in `beam_candidates`\n",
    "Training and Validation generation can be found in `beam_training`\n",
    "\n",
    "Usage:\n",
    "\n",
    "  Candidate generation \n",
    "  \n",
    "  `beam_candidates\\python3 main.py`\n",
    "   \n",
    "  Training generation\n",
    "  \n",
    "  `beam_training\\python3 main-train.py <BQ_table> <gcs data subfolder> <desired partition size MB> <BQ dataset size MB> <version tag>`\n",
    "  \n",
    "  \n",
    "##### Be careful with quotas - running more than two jobs can run into quota issues with defaults\n",
    "\n",
    "Training data generation runs about 1 hour with 10 workers"
   ]
  },
  {
   "cell_type": "code",
   "execution_count": 2,
   "id": "1d2cb50a-b8a7-4b72-bf2e-1ab7290a25bd",
   "metadata": {
    "tags": []
   },
   "outputs": [
    {
     "name": "stdout",
     "output_type": "stream",
     "text": [
      "\u001b[01;34mbeam_candidates\u001b[00m\n",
      "├── README.md\n",
      "├── __init__.py\n",
      "├── \u001b[01;34m__pycache__\u001b[00m\n",
      "│   └── __init__.cpython-37.pyc\n",
      "├── \u001b[01;34mbq_to_tfr\u001b[00m\n",
      "│   ├── __init__.py\n",
      "│   ├── \u001b[01;34m__pycache__\u001b[00m\n",
      "│   │   ├── __init__.cpython-37.pyc\n",
      "│   │   └── candidate_pipeline.cpython-37.pyc\n",
      "│   └── candidate_pipeline.py\n",
      "├── \u001b[01;34mcreate_tfrecords_candidates.egg-info\u001b[00m\n",
      "│   ├── PKG-INFO\n",
      "│   ├── SOURCES.txt\n",
      "│   ├── dependency_links.txt\n",
      "│   ├── requires.txt\n",
      "│   └── top_level.txt\n",
      "├── main.py\n",
      "├── requirements.txt\n",
      "└── setup.py\n",
      "\n",
      "4 directories, 15 files\n"
     ]
    }
   ],
   "source": [
    "!tree beam_candidates"
   ]
  },
  {
   "cell_type": "code",
   "execution_count": 3,
   "id": "e8b0304b-3da3-45f7-831d-413d2d248b48",
   "metadata": {
    "tags": []
   },
   "outputs": [
    {
     "name": "stdout",
     "output_type": "stream",
     "text": [
      "\u001b[01;34mbeam_training\u001b[00m\n",
      "├── README.MD\n",
      "├── __init__.py\n",
      "├── \u001b[01;34mbeam_training\u001b[00m\n",
      "│   ├── __init__.py\n",
      "│   ├── \u001b[01;34mcreate_tfrecords.egg-info\u001b[00m\n",
      "│   │   ├── SOURCES.txt\n",
      "│   │   └── requires.txt\n",
      "│   ├── \u001b[01;34mcreate_tfrecords_training.egg-info\u001b[00m\n",
      "│   │   ├── SOURCES.txt\n",
      "│   │   └── requires.txt\n",
      "│   ├── main-train.py\n",
      "│   ├── main-valid.py\n",
      "│   ├── setup.py\n",
      "│   └── \u001b[01;34mtrain_pipeline\u001b[00m\n",
      "│       ├── __init__.py\n",
      "│       ├── test.py\n",
      "│       ├── train_pipe.py\n",
      "│       └── train_pipe_shape.py\n",
      "├── \u001b[01;34mcreate_tfrecords_training.egg-info\u001b[00m\n",
      "│   ├── PKG-INFO\n",
      "│   ├── SOURCES.txt\n",
      "│   ├── dependency_links.txt\n",
      "│   ├── requires.txt\n",
      "│   └── top_level.txt\n",
      "├── main-train.py\n",
      "├── setup.py\n",
      "└── \u001b[01;34mtrain_pipeline\u001b[00m\n",
      "    ├── __init__.py\n",
      "    ├── \u001b[01;34m__pycache__\u001b[00m\n",
      "    │   ├── __init__.cpython-37.pyc\n",
      "    │   ├── train_pipe.cpython-37.pyc\n",
      "    │   └── train_pipe_shape.cpython-37.pyc\n",
      "    ├── train_pipe.py\n",
      "    └── train_pipe_shape.py\n",
      "\n",
      "7 directories, 27 files\n"
     ]
    }
   ],
   "source": [
    "!tree beam_training"
   ]
  },
  {
   "cell_type": "code",
   "execution_count": 14,
   "id": "3b8fa218-1909-489e-a99d-9864794eecec",
   "metadata": {},
   "outputs": [
    {
     "name": "stdout",
     "output_type": "stream",
     "text": [
      "/home/jupyter/jw-repo/spotify_mpd_two_tower\n"
     ]
    }
   ],
   "source": [
    "!pwd"
   ]
  },
  {
   "cell_type": "code",
   "execution_count": 15,
   "id": "79a764cd-f14b-4f88-8314-4c1e5bf77bf2",
   "metadata": {},
   "outputs": [
    {
     "data": {
      "text/plain": [
       "'/home/jupyter/jw-repo/spotify_mpd_two_tower'"
      ]
     },
     "execution_count": 15,
     "metadata": {},
     "output_type": "execute_result"
    }
   ],
   "source": [
    "import os \n",
    "os.chdir('/home/jupyter/jw-repo/spotify_mpd_two_tower')\n",
    "os.getcwd()"
   ]
  },
  {
   "cell_type": "code",
   "execution_count": 16,
   "id": "81357053-6541-4fd2-8e04-b96474b797b1",
   "metadata": {},
   "outputs": [
    {
     "name": "stdout",
     "output_type": "stream",
     "text": [
      "/home/jupyter/jw-repo/spotify_mpd_two_tower/beam_training\n"
     ]
    }
   ],
   "source": [
    "%cd beam_training"
   ]
  },
  {
   "cell_type": "markdown",
   "id": "9676650b-0caf-47b9-b973-b7c9466fb77f",
   "metadata": {},
   "source": [
    "### BQ Talble sizes (Mb)\n",
    "train_bq_mb = 102780\n",
    "valid_bq_mb = 1040"
   ]
  },
  {
   "cell_type": "code",
   "execution_count": 17,
   "id": "89fec398-6dd2-4417-af8c-c7887bc69407",
   "metadata": {},
   "outputs": [],
   "source": [
    "VERSION=\"jtv5\""
   ]
  },
  {
   "cell_type": "code",
   "execution_count": 8,
   "id": "c85ef22a-7aa2-419d-b9e1-78a13a842489",
   "metadata": {},
   "outputs": [
    {
     "name": "stdout",
     "output_type": "stream",
     "text": [
      "Number of Expected TFRecords: 9\n",
      "GoogleCloudOptions(create_from_snapshot=None, dataflow_endpoint=https://dataflow.googleapis.com, dataflow_kms_key=None, dataflow_service_options=None, enable_artifact_caching=False, enable_hot_key_logging=False, enable_streaming_engine=False, flexrs_goal=None, gcp_oauth_scopes=['https://www.googleapis.com/auth/bigquery', 'https://www.googleapis.com/auth/cloud-platform', 'https://www.googleapis.com/auth/devstorage.full_control', 'https://www.googleapis.com/auth/userinfo.email', 'https://www.googleapis.com/auth/datastore', 'https://www.googleapis.com/auth/spanner.admin', 'https://www.googleapis.com/auth/spanner.data'], impersonate_service_account=None, job_name=spotify-bq-tfrecords-jtv5-221206-112331, labels=None, no_auth=False, project=hybrid-vertex, region=us-central1, service_account_email=None, staging_location=gs://spotify-data-regimes/jtv5/job/staging/, temp_location=gs://spotify-data-regimes/jtv5/job/temp/, template_location=None, transform_name_mapping=None, update=False)\n",
      "/home/jupyter/.local/lib/python3.7/site-packages/apache_beam/io/gcp/bigquery.py:2485: BeamDeprecationWarning: options is deprecated since First stable release. References to <pipeline>.options will not be supported\n",
      "  temp_location = pcoll.pipeline.options.view_as(\n",
      "warning: sdist: standard file not found: should have one of README, README.rst, README.txt, README.md\n",
      "\n",
      "warning: check: missing required meta-data: url\n",
      "\n",
      "warning: check: missing meta-data: either (author and author_email) or (maintainer and maintainer_email) must be supplied\n",
      "\n"
     ]
    }
   ],
   "source": [
    "! python3 main-train.py train_flatten_valid_last_5_feats_v4 valid_last_5_feats_v4 100 940 $VERSION"
   ]
  },
  {
   "cell_type": "code",
   "execution_count": 9,
   "id": "a6d635a3-cdf4-4537-abba-f7a43275ed78",
   "metadata": {},
   "outputs": [
    {
     "name": "stdout",
     "output_type": "stream",
     "text": [
      "Number of Expected TFRecords: 899\n",
      "GoogleCloudOptions(create_from_snapshot=None, dataflow_endpoint=https://dataflow.googleapis.com, dataflow_kms_key=None, dataflow_service_options=None, enable_artifact_caching=False, enable_hot_key_logging=False, enable_streaming_engine=False, flexrs_goal=None, gcp_oauth_scopes=['https://www.googleapis.com/auth/bigquery', 'https://www.googleapis.com/auth/cloud-platform', 'https://www.googleapis.com/auth/devstorage.full_control', 'https://www.googleapis.com/auth/userinfo.email', 'https://www.googleapis.com/auth/datastore', 'https://www.googleapis.com/auth/spanner.admin', 'https://www.googleapis.com/auth/spanner.data'], impersonate_service_account=None, job_name=spotify-bq-tfrecords-jtv5-221206-113232, labels=None, no_auth=False, project=hybrid-vertex, region=us-central1, service_account_email=None, staging_location=gs://spotify-data-regimes/jtv5/job/staging/, temp_location=gs://spotify-data-regimes/jtv5/job/temp/, template_location=None, transform_name_mapping=None, update=False)\n",
      "/home/jupyter/.local/lib/python3.7/site-packages/apache_beam/io/gcp/bigquery.py:2485: BeamDeprecationWarning: options is deprecated since First stable release. References to <pipeline>.options will not be supported\n",
      "  temp_location = pcoll.pipeline.options.view_as(\n",
      "warning: sdist: standard file not found: should have one of README, README.rst, README.txt, README.md\n",
      "\n",
      "warning: check: missing required meta-data: url\n",
      "\n",
      "warning: check: missing meta-data: either (author and author_email) or (maintainer and maintainer_email) must be supplied\n",
      "\n"
     ]
    }
   ],
   "source": [
    "! python3 main-train.py train_flatten_last_5_feats_v4 train_last_5_feats_v4 100 89910 $VERSION"
   ]
  },
  {
   "cell_type": "markdown",
   "id": "7dacf47b-bd83-47e8-804b-b53471d00e5d",
   "metadata": {},
   "source": [
    "# Now export the candidates"
   ]
  },
  {
   "cell_type": "code",
   "execution_count": 18,
   "id": "07d12ea7-be9f-49cb-b7dc-663b7b81a8f6",
   "metadata": {},
   "outputs": [
    {
     "name": "stdout",
     "output_type": "stream",
     "text": [
      "/home/jupyter/jw-repo/spotify_mpd_two_tower/beam_candidates\n"
     ]
    }
   ],
   "source": [
    "%cd ../beam_candidates"
   ]
  },
  {
   "cell_type": "code",
   "execution_count": null,
   "id": "350506bc-dadd-4781-84f6-5544fdfc78b1",
   "metadata": {},
   "outputs": [
    {
     "name": "stdout",
     "output_type": "stream",
     "text": [
      "GoogleCloudOptions(create_from_snapshot=None, dataflow_endpoint=https://dataflow.googleapis.com, dataflow_kms_key=None, dataflow_service_options=None, enable_artifact_caching=False, enable_hot_key_logging=False, enable_streaming_engine=False, flexrs_goal=None, gcp_oauth_scopes=['https://www.googleapis.com/auth/bigquery', 'https://www.googleapis.com/auth/cloud-platform', 'https://www.googleapis.com/auth/devstorage.full_control', 'https://www.googleapis.com/auth/userinfo.email', 'https://www.googleapis.com/auth/datastore', 'https://www.googleapis.com/auth/spanner.admin', 'https://www.googleapis.com/auth/spanner.data'], impersonate_service_account=None, job_name=spotify-bq-tfrecords-jtv5-221206-120202, labels=None, no_auth=False, project=hybrid-vertex, region=us-central1, service_account_email=None, staging_location=gs://spotify-data-regimes/jtv5/candidates/job/staging/, temp_location=gs://spotify-data-regimes/jtv5/candidates/job/temp/, template_location=None, transform_name_mapping=None, update=False)\n",
      "/home/jupyter/.local/lib/python3.7/site-packages/apache_beam/io/gcp/bigquery.py:2485: BeamDeprecationWarning: options is deprecated since First stable release. References to <pipeline>.options will not be supported\n",
      "  temp_location = pcoll.pipeline.options.view_as(\n",
      "warning: check: missing required meta-data: url\n",
      "\n",
      "warning: check: missing meta-data: either (author and author_email) or (maintainer and maintainer_email) must be supplied\n",
      "\n"
     ]
    }
   ],
   "source": [
    "! python3 main.py"
   ]
  },
  {
   "cell_type": "markdown",
   "id": "e2a33f54-c717-4130-b375-3108836e9e04",
   "metadata": {},
   "source": [
    "## Test the output"
   ]
  },
  {
   "cell_type": "markdown",
   "id": "1c9eb2d9-a81a-4c94-bd70-26eb605037ab",
   "metadata": {},
   "source": [
    "### Candidate files"
   ]
  },
  {
   "cell_type": "code",
   "execution_count": 26,
   "id": "5c7c9dd2-7b32-4cb9-a7f9-97a0b1cdd487",
   "metadata": {},
   "outputs": [],
   "source": [
    "## testing output\n",
    "candidate_features = {\n",
    "    \"track_uri_can\":tf.io.FixedLenFeature(dtype=tf.string, shape=()),            \n",
    "    \"track_name_can\":tf.io.FixedLenFeature(dtype=tf.string, shape=()),\n",
    "    \"artist_uri_can\":tf.io.FixedLenFeature(dtype=tf.string, shape=()),\n",
    "    \"artist_name_can\":tf.io.FixedLenFeature(dtype=tf.string, shape=()),\n",
    "    \"album_uri_can\":tf.io.FixedLenFeature(dtype=tf.string, shape=()),           \n",
    "    \"album_name_can\":tf.io.FixedLenFeature(dtype=tf.string, shape=()), \n",
    "    \"duration_ms_can\":tf.io.FixedLenFeature(dtype=tf.float32, shape=()),      \n",
    "    \"track_pop_can\":tf.io.FixedLenFeature(dtype=tf.float32, shape=()),      \n",
    "    \"artist_pop_can\":tf.io.FixedLenFeature(dtype=tf.float32, shape=()),\n",
    "    \"artist_genres_can\":tf.io.FixedLenFeature(dtype=tf.string, shape=()),\n",
    "    \"artist_followers_can\":tf.io.FixedLenFeature(dtype=tf.float32, shape=()),\n",
    "    # new\n",
    "    # \"track_pl_titles_can\":tf.io.FixedLenFeature(dtype=tf.string, shape=()),\n",
    "    \"track_danceability_can\":tf.io.FixedLenFeature(dtype=tf.float32, shape=()),\n",
    "    \"track_energy_can\":tf.io.FixedLenFeature(dtype=tf.float32, shape=()),\n",
    "    \"track_key_can\":tf.io.FixedLenFeature(dtype=tf.string, shape=()),\n",
    "    \"track_loudness_can\":tf.io.FixedLenFeature(dtype=tf.float32, shape=()),\n",
    "    \"track_mode_can\":tf.io.FixedLenFeature(dtype=tf.string, shape=()),\n",
    "    \"track_speechiness_can\":tf.io.FixedLenFeature(dtype=tf.float32, shape=()),\n",
    "    \"track_acousticness_can\":tf.io.FixedLenFeature(dtype=tf.float32, shape=()),\n",
    "    \"track_instrumentalness_can\":tf.io.FixedLenFeature(dtype=tf.float32, shape=()),\n",
    "    \"track_liveness_can\":tf.io.FixedLenFeature(dtype=tf.float32, shape=()),\n",
    "    \"track_valence_can\":tf.io.FixedLenFeature(dtype=tf.float32, shape=()),\n",
    "    \"track_tempo_can\":tf.io.FixedLenFeature(dtype=tf.float32, shape=()),\n",
    "    \"track_time_signature_can\":tf.io.FixedLenFeature(dtype=tf.string, shape=()),\n",
    "}\n",
    "\n",
    "from google.cloud import storage\n",
    "\n",
    "client = storage.Client()\n",
    "# # gs://spotify-beam-v3/v3/candidates/*.tfrecords\n",
    "\n",
    "# gs://spotify-data-regimes/v1/candidates-00000-of-00001.tfrecords\n",
    "\n",
    "# BUCKET = 'spotify-data-regimes'\n",
    "# CANDIDATE_PREFIX = 'jtv1-candidates'\n",
    "\n",
    "# candidate_files = []\n",
    "# for blob in client.list_blobs(f\"{BUCKET}\", prefix=f'{CANDIDATE_PREFIX}', delimiter=\"/\"):\n",
    "#     candidate_files.append(blob.public_url.replace(\"https://storage.googleapis.com/\", \"gs://\"))\n",
    "\n",
    "# candidate_files = 'gs://spotify-data-regimes/jtv4/candidates/candidates-00000-of-00001.tfrecords' # removed track_playlist_titles\n",
    "candidate_files = 'gs://spotify-data-regimes/jtv4/candidates-v4/candidates-00000-of-00001.tfrecords'\n",
    "    \n",
    "candidate_dataset = tf.data.TFRecordDataset(candidate_files)\n",
    "\n",
    "def parse_candidate_tfrecord_fn(example):\n",
    "    example = tf.io.parse_single_example(\n",
    "        example, \n",
    "        features=candidate_features\n",
    "    )\n",
    "    return example\n",
    "\n",
    "# parsed_candidate_dataset = candidate_dataset.map(parse_candidate_tfrecord_fn, num_parallel_calls=-1)\n",
    "\n",
    "parsed_candidate_dataset = candidate_dataset.map(parse_candidate_tfrecord_fn) ### THIS NEEDS TO BE FIXED SO THE UNIQUE PRODUCT DATASET HAS THE SAME FIELD NAMES (goes thru the same model)"
   ]
  },
  {
   "cell_type": "code",
   "execution_count": 27,
   "id": "b57c12cb-6c95-4bac-ba29-4d389babc44c",
   "metadata": {
    "collapsed": true,
    "jupyter": {
     "outputs_hidden": true
    },
    "tags": []
   },
   "outputs": [
    {
     "name": "stdout",
     "output_type": "stream",
     "text": [
      "{'album_name_can': <tf.Tensor: shape=(2,), dtype=string, numpy=array([b'Hail to the Freaks', b'Hail to the Freaks'], dtype=object)>,\n",
      " 'album_uri_can': <tf.Tensor: shape=(2,), dtype=string, numpy=\n",
      "array([b'spotify:album:5c3Osi0L2FpVqndFNP5xDp',\n",
      "       b'spotify:album:5c3Osi0L2FpVqndFNP5xDp'], dtype=object)>,\n",
      " 'artist_followers_can': <tf.Tensor: shape=(2,), dtype=float32, numpy=array([4424., 4424.], dtype=float32)>,\n",
      " 'artist_genres_can': <tf.Tensor: shape=(2,), dtype=string, numpy=array([b'NONE', b'NONE'], dtype=object)>,\n",
      " 'artist_name_can': <tf.Tensor: shape=(2,), dtype=string, numpy=array([b'Jen Kirkman', b'Jen Kirkman'], dtype=object)>,\n",
      " 'artist_pop_can': <tf.Tensor: shape=(2,), dtype=float32, numpy=array([1., 1.], dtype=float32)>,\n",
      " 'artist_uri_can': <tf.Tensor: shape=(2,), dtype=string, numpy=\n",
      "array([b'spotify:artist:4KinRbPZBIZwajxhgmuJbV',\n",
      "       b'spotify:artist:4KinRbPZBIZwajxhgmuJbV'], dtype=object)>,\n",
      " 'duration_ms_can': <tf.Tensor: shape=(2,), dtype=float32, numpy=array([266720., 327986.], dtype=float32)>,\n",
      " 'track_acousticness_can': <tf.Tensor: shape=(2,), dtype=float32, numpy=array([0.921, 0.936], dtype=float32)>,\n",
      " 'track_danceability_can': <tf.Tensor: shape=(2,), dtype=float32, numpy=array([0.699, 0.695], dtype=float32)>,\n",
      " 'track_energy_can': <tf.Tensor: shape=(2,), dtype=float32, numpy=array([0.526, 0.531], dtype=float32)>,\n",
      " 'track_instrumentalness_can': <tf.Tensor: shape=(2,), dtype=float32, numpy=array([0., 0.], dtype=float32)>,\n",
      " 'track_key_can': <tf.Tensor: shape=(2,), dtype=string, numpy=array([b'10', b'10'], dtype=object)>,\n",
      " 'track_liveness_can': <tf.Tensor: shape=(2,), dtype=float32, numpy=array([0.703, 0.89 ], dtype=float32)>,\n",
      " 'track_loudness_can': <tf.Tensor: shape=(2,), dtype=float32, numpy=array([-8.035, -8.171], dtype=float32)>,\n",
      " 'track_mode_can': <tf.Tensor: shape=(2,), dtype=string, numpy=array([b'1', b'0'], dtype=object)>,\n",
      " 'track_name_can': <tf.Tensor: shape=(2,), dtype=string, numpy=array([b'Sensitive Men', b'Teenagers Are Dumb'], dtype=object)>,\n",
      " 'track_pop_can': <tf.Tensor: shape=(2,), dtype=float32, numpy=array([0., 0.], dtype=float32)>,\n",
      " 'track_speechiness_can': <tf.Tensor: shape=(2,), dtype=float32, numpy=array([0.942, 0.935], dtype=float32)>,\n",
      " 'track_tempo_can': <tf.Tensor: shape=(2,), dtype=float32, numpy=array([76.74 , 81.019], dtype=float32)>,\n",
      " 'track_time_signature_can': <tf.Tensor: shape=(2,), dtype=string, numpy=array([b'4', b'5'], dtype=object)>,\n",
      " 'track_uri_can': <tf.Tensor: shape=(2,), dtype=string, numpy=\n",
      "array([b'spotify:track:1hfxerEZmpfFtPiG6a1EFs',\n",
      "       b'spotify:track:0x2470YeRhRmfyAI96BNB9'], dtype=object)>,\n",
      " 'track_valence_can': <tf.Tensor: shape=(2,), dtype=float32, numpy=array([0.601, 0.577], dtype=float32)>}\n"
     ]
    }
   ],
   "source": [
    "from pprint import pprint\n",
    "\n",
    "for x in parsed_candidate_dataset.batch(2).take(1):\n",
    "    pprint(x)"
   ]
  },
  {
   "cell_type": "markdown",
   "id": "973f835e-fb68-4610-92a5-3f4c9547923d",
   "metadata": {},
   "source": [
    "### valid files"
   ]
  },
  {
   "cell_type": "code",
   "execution_count": 3,
   "id": "49445d15-3782-42e3-9820-8494ad67ac7d",
   "metadata": {
    "tags": []
   },
   "outputs": [],
   "source": [
    "MAX_PLAYLIST_LENGTH = 6\n",
    "\n",
    "feats = {\n",
    "    # ===================================================\n",
    "    # candidate track features\n",
    "    # ===================================================\n",
    "    \"track_uri_can\":tf.io.FixedLenFeature(dtype=tf.string, shape=()),            \n",
    "    \"track_name_can\":tf.io.FixedLenFeature(dtype=tf.string, shape=()),\n",
    "    \"artist_uri_can\":tf.io.FixedLenFeature(dtype=tf.string, shape=()),\n",
    "    \"artist_name_can\":tf.io.FixedLenFeature(dtype=tf.string, shape=()),\n",
    "    \"album_uri_can\":tf.io.FixedLenFeature(dtype=tf.string, shape=()),           \n",
    "    \"album_name_can\":tf.io.FixedLenFeature(dtype=tf.string, shape=()), \n",
    "    \"duration_ms_can\":tf.io.FixedLenFeature(dtype=tf.float32, shape=()),      \n",
    "    \"track_pop_can\":tf.io.FixedLenFeature(dtype=tf.float32, shape=()),      \n",
    "    \"artist_pop_can\":tf.io.FixedLenFeature(dtype=tf.float32, shape=()),\n",
    "    \"artist_genres_can\":tf.io.FixedLenFeature(dtype=tf.string, shape=()),\n",
    "    \"artist_followers_can\":tf.io.FixedLenFeature(dtype=tf.float32, shape=()),\n",
    "    # \"track_pl_titles_can\":tf.io.FixedLenFeature(dtype=tf.string, shape=()),\n",
    "    \"track_danceability_can\":tf.io.FixedLenFeature(dtype=tf.float32, shape=()),\n",
    "    \"track_energy_can\":tf.io.FixedLenFeature(dtype=tf.float32, shape=()),\n",
    "    \"track_key_can\":tf.io.FixedLenFeature(dtype=tf.string, shape=()),\n",
    "    \"track_loudness_can\":tf.io.FixedLenFeature(dtype=tf.float32, shape=()),\n",
    "    \"track_mode_can\":tf.io.FixedLenFeature(dtype=tf.string, shape=()),\n",
    "    \"track_speechiness_can\":tf.io.FixedLenFeature(dtype=tf.float32, shape=()),\n",
    "    \"track_acousticness_can\":tf.io.FixedLenFeature(dtype=tf.float32, shape=()),\n",
    "    \"track_instrumentalness_can\":tf.io.FixedLenFeature(dtype=tf.float32, shape=()),\n",
    "    \"track_liveness_can\":tf.io.FixedLenFeature(dtype=tf.float32, shape=()),\n",
    "    \"track_valence_can\":tf.io.FixedLenFeature(dtype=tf.float32, shape=()),\n",
    "    \"track_tempo_can\":tf.io.FixedLenFeature(dtype=tf.float32, shape=()),\n",
    "    \"track_time_signature_can\": tf.io.FixedLenFeature(dtype=tf.string, shape=()),\n",
    "    # ===================================================\n",
    "    # summary playlist features\n",
    "    # ===================================================\n",
    "    \"pl_name_src\" : tf.io.FixedLenFeature(dtype=tf.string, shape=()), \n",
    "    'pl_collaborative_src' : tf.io.FixedLenFeature(dtype=tf.string, shape=()), \n",
    "    'num_pl_followers_src' : tf.io.FixedLenFeature(dtype=tf.float32, shape=()), \n",
    "    'pl_duration_ms_new' : tf.io.FixedLenFeature(dtype=tf.float32, shape=()), \n",
    "    'num_pl_songs_new' : tf.io.FixedLenFeature(dtype=tf.float32, shape=()),  # num_pl_songs_new | n_songs_pl_new\n",
    "    'num_pl_artists_new' : tf.io.FixedLenFeature(dtype=tf.float32, shape=()), \n",
    "    'num_pl_albums_new' : tf.io.FixedLenFeature(dtype=tf.float32, shape=()), \n",
    "    'avg_track_pop_pl_new' : tf.io.FixedLenFeature(dtype=tf.float32, shape=()), \n",
    "    'avg_artist_pop_pl_new' : tf.io.FixedLenFeature(dtype=tf.float32, shape=()),\n",
    "    'avg_art_followers_pl_new' : tf.io.FixedLenFeature(dtype=tf.float32, shape=()),\n",
    "    # ===================================================\n",
    "    # ragged playlist features\n",
    "    # ===================================================\n",
    "    # bytes / string\n",
    "    \"track_uri_pl\": tf.io.FixedLenFeature(dtype=tf.string, shape=(MAX_PLAYLIST_LENGTH,)), \n",
    "    \"track_name_pl\": tf.io.FixedLenFeature(dtype=tf.string, shape=(MAX_PLAYLIST_LENGTH,)), \n",
    "    \"artist_uri_pl\": tf.io.FixedLenFeature(dtype=tf.string, shape=(MAX_PLAYLIST_LENGTH,)), \n",
    "    \"artist_name_pl\": tf.io.FixedLenFeature(dtype=tf.string, shape=(MAX_PLAYLIST_LENGTH,)),\n",
    "    \"album_uri_pl\": tf.io.FixedLenFeature(dtype=tf.string, shape=(MAX_PLAYLIST_LENGTH,)), \n",
    "    \"album_name_pl\": tf.io.FixedLenFeature(dtype=tf.string, shape=(MAX_PLAYLIST_LENGTH,)), \n",
    "    \"artist_genres_pl\": tf.io.FixedLenFeature(dtype=tf.string, shape=(MAX_PLAYLIST_LENGTH,)), \n",
    "    # \"tracks_playlist_titles_pl\": tf.io.FixedLenFeature(dtype=tf.string, shape=(MAX_PLAYLIST_LENGTH,)),\n",
    "    # Float List\n",
    "    \"duration_ms_songs_pl\": tf.io.FixedLenFeature(dtype=tf.float32, shape=(MAX_PLAYLIST_LENGTH,)), \n",
    "    \"track_pop_pl\": tf.io.FixedLenFeature(dtype=tf.float32, shape=(MAX_PLAYLIST_LENGTH,)), \n",
    "    \"artist_pop_pl\": tf.io.FixedLenFeature(dtype=tf.float32, shape=(MAX_PLAYLIST_LENGTH,)), \n",
    "    \"artists_followers_pl\": tf.io.FixedLenFeature(dtype=tf.float32, shape=(MAX_PLAYLIST_LENGTH,)),\n",
    "    \"track_danceability_pl\": tf.io.FixedLenFeature(dtype=tf.float32, shape=(MAX_PLAYLIST_LENGTH,)),\n",
    "    \"track_energy_pl\": tf.io.FixedLenFeature(dtype=tf.float32, shape=(MAX_PLAYLIST_LENGTH,)),\n",
    "    \"track_key_pl\": tf.io.FixedLenFeature(dtype=tf.string, shape=(MAX_PLAYLIST_LENGTH,)), \n",
    "    \"track_loudness_pl\": tf.io.FixedLenFeature(dtype=tf.float32, shape=(MAX_PLAYLIST_LENGTH,)),\n",
    "    \"track_mode_pl\": tf.io.FixedLenFeature(dtype=tf.string, shape=(MAX_PLAYLIST_LENGTH,)),\n",
    "    \"track_speechiness_pl\": tf.io.FixedLenFeature(dtype=tf.float32, shape=(MAX_PLAYLIST_LENGTH,)),\n",
    "    \"track_acousticness_pl\": tf.io.FixedLenFeature(dtype=tf.float32, shape=(MAX_PLAYLIST_LENGTH,)),\n",
    "    \"track_instrumentalness_pl\": tf.io.FixedLenFeature(dtype=tf.float32, shape=(MAX_PLAYLIST_LENGTH,)),\n",
    "    \"track_liveness_pl\": tf.io.FixedLenFeature(dtype=tf.float32, shape=(MAX_PLAYLIST_LENGTH,)), \n",
    "    \"track_valence_pl\": tf.io.FixedLenFeature(dtype=tf.float32, shape=(MAX_PLAYLIST_LENGTH,)),\n",
    "    \"track_tempo_pl\": tf.io.FixedLenFeature(dtype=tf.float32, shape=(MAX_PLAYLIST_LENGTH,)), \n",
    "    \"time_signature_pl\": tf.io.FixedLenFeature(dtype=tf.string, shape=(MAX_PLAYLIST_LENGTH,)), \n",
    "}\n"
   ]
  },
  {
   "cell_type": "code",
   "execution_count": 4,
   "id": "bdad96f5-0e70-427b-9525-081406b9c80f",
   "metadata": {},
   "outputs": [
    {
     "name": "stderr",
     "output_type": "stream",
     "text": [
      "2022-12-06 11:55:08.855837: I tensorflow/core/platform/cpu_feature_guard.cc:151] This TensorFlow binary is optimized with oneAPI Deep Neural Network Library (oneDNN) to use the following CPU instructions in performance-critical operations:  AVX2 AVX512F FMA\n",
      "To enable them in other operations, rebuild TensorFlow with the appropriate compiler flags.\n",
      "2022-12-06 11:55:09.483304: I tensorflow/core/common_runtime/gpu/gpu_device.cc:1525] Created device /job:localhost/replica:0/task:0/device:GPU:0 with 38238 MB memory:  -> device: 0, name: NVIDIA A100-SXM4-40GB, pci bus id: 0000:00:04.0, compute capability: 8.0\n"
     ]
    }
   ],
   "source": [
    "## testing output\n",
    "from google.cloud import storage\n",
    "\n",
    "client = storage.Client()\n",
    "# # gs://spotify-beam-v3/v3/candidates/*.tfrecords\n",
    "\n",
    "train_dir = 'spotify-data-regimes'\n",
    "train_dir_prefix = 'jtv5/valid_last_5_feats_v4/'\n",
    "\n",
    "valid_files = []\n",
    "for blob in client.list_blobs(f\"{train_dir}\", prefix=f'{train_dir_prefix}', delimiter=\"/\"):\n",
    "    valid_files.append(blob.public_url.replace(\"https://storage.googleapis.com/\", \"gs://\"))\n",
    "    \n",
    "valid = tf.data.TFRecordDataset(valid_files)\n",
    "\n",
    "def parse_tfrecord(example):\n",
    "    example = tf.io.parse_single_example(\n",
    "        example, \n",
    "        features=feats\n",
    "    )\n",
    "    return example\n",
    "\n",
    "# parsed_candidate_dataset = candidate_dataset.map(parse_candidate_tfrecord_fn, num_parallel_calls=-1)\n",
    "\n",
    "valid_parsed = valid.map(parse_tfrecord)"
   ]
  },
  {
   "cell_type": "code",
   "execution_count": 5,
   "id": "7b733662-a8d9-4581-9a24-fc02265569e4",
   "metadata": {},
   "outputs": [
    {
     "data": {
      "text/plain": [
       "<MapDataset element_spec={'album_name_can': TensorSpec(shape=(), dtype=tf.string, name=None), 'album_name_pl': TensorSpec(shape=(6,), dtype=tf.string, name=None), 'album_uri_can': TensorSpec(shape=(), dtype=tf.string, name=None), 'album_uri_pl': TensorSpec(shape=(6,), dtype=tf.string, name=None), 'artist_followers_can': TensorSpec(shape=(), dtype=tf.float32, name=None), 'artist_genres_can': TensorSpec(shape=(), dtype=tf.string, name=None), 'artist_genres_pl': TensorSpec(shape=(6,), dtype=tf.string, name=None), 'artist_name_can': TensorSpec(shape=(), dtype=tf.string, name=None), 'artist_name_pl': TensorSpec(shape=(6,), dtype=tf.string, name=None), 'artist_pop_can': TensorSpec(shape=(), dtype=tf.float32, name=None), 'artist_pop_pl': TensorSpec(shape=(6,), dtype=tf.float32, name=None), 'artist_uri_can': TensorSpec(shape=(), dtype=tf.string, name=None), 'artist_uri_pl': TensorSpec(shape=(6,), dtype=tf.string, name=None), 'artists_followers_pl': TensorSpec(shape=(6,), dtype=tf.float32, name=None), 'avg_art_followers_pl_new': TensorSpec(shape=(), dtype=tf.float32, name=None), 'avg_artist_pop_pl_new': TensorSpec(shape=(), dtype=tf.float32, name=None), 'avg_track_pop_pl_new': TensorSpec(shape=(), dtype=tf.float32, name=None), 'duration_ms_can': TensorSpec(shape=(), dtype=tf.float32, name=None), 'duration_ms_songs_pl': TensorSpec(shape=(6,), dtype=tf.float32, name=None), 'num_pl_albums_new': TensorSpec(shape=(), dtype=tf.float32, name=None), 'num_pl_artists_new': TensorSpec(shape=(), dtype=tf.float32, name=None), 'num_pl_followers_src': TensorSpec(shape=(), dtype=tf.float32, name=None), 'num_pl_songs_new': TensorSpec(shape=(), dtype=tf.float32, name=None), 'pl_collaborative_src': TensorSpec(shape=(), dtype=tf.string, name=None), 'pl_duration_ms_new': TensorSpec(shape=(), dtype=tf.float32, name=None), 'pl_name_src': TensorSpec(shape=(), dtype=tf.string, name=None), 'time_signature_pl': TensorSpec(shape=(6,), dtype=tf.string, name=None), 'track_acousticness_can': TensorSpec(shape=(), dtype=tf.float32, name=None), 'track_acousticness_pl': TensorSpec(shape=(6,), dtype=tf.float32, name=None), 'track_danceability_can': TensorSpec(shape=(), dtype=tf.float32, name=None), 'track_danceability_pl': TensorSpec(shape=(6,), dtype=tf.float32, name=None), 'track_energy_can': TensorSpec(shape=(), dtype=tf.float32, name=None), 'track_energy_pl': TensorSpec(shape=(6,), dtype=tf.float32, name=None), 'track_instrumentalness_can': TensorSpec(shape=(), dtype=tf.float32, name=None), 'track_instrumentalness_pl': TensorSpec(shape=(6,), dtype=tf.float32, name=None), 'track_key_can': TensorSpec(shape=(), dtype=tf.string, name=None), 'track_key_pl': TensorSpec(shape=(6,), dtype=tf.string, name=None), 'track_liveness_can': TensorSpec(shape=(), dtype=tf.float32, name=None), 'track_liveness_pl': TensorSpec(shape=(6,), dtype=tf.float32, name=None), 'track_loudness_can': TensorSpec(shape=(), dtype=tf.float32, name=None), 'track_loudness_pl': TensorSpec(shape=(6,), dtype=tf.float32, name=None), 'track_mode_can': TensorSpec(shape=(), dtype=tf.string, name=None), 'track_mode_pl': TensorSpec(shape=(6,), dtype=tf.string, name=None), 'track_name_can': TensorSpec(shape=(), dtype=tf.string, name=None), 'track_name_pl': TensorSpec(shape=(6,), dtype=tf.string, name=None), 'track_pop_can': TensorSpec(shape=(), dtype=tf.float32, name=None), 'track_pop_pl': TensorSpec(shape=(6,), dtype=tf.float32, name=None), 'track_speechiness_can': TensorSpec(shape=(), dtype=tf.float32, name=None), 'track_speechiness_pl': TensorSpec(shape=(6,), dtype=tf.float32, name=None), 'track_tempo_can': TensorSpec(shape=(), dtype=tf.float32, name=None), 'track_tempo_pl': TensorSpec(shape=(6,), dtype=tf.float32, name=None), 'track_time_signature_can': TensorSpec(shape=(), dtype=tf.string, name=None), 'track_uri_can': TensorSpec(shape=(), dtype=tf.string, name=None), 'track_uri_pl': TensorSpec(shape=(6,), dtype=tf.string, name=None), 'track_valence_can': TensorSpec(shape=(), dtype=tf.float32, name=None), 'track_valence_pl': TensorSpec(shape=(6,), dtype=tf.float32, name=None)}>"
      ]
     },
     "execution_count": 5,
     "metadata": {},
     "output_type": "execute_result"
    }
   ],
   "source": [
    "valid_parsed"
   ]
  },
  {
   "cell_type": "code",
   "execution_count": 6,
   "id": "a6b87491-5706-4204-a19e-582612c1b439",
   "metadata": {
    "tags": []
   },
   "outputs": [
    {
     "name": "stdout",
     "output_type": "stream",
     "text": [
      "{'album_name_can': <tf.Tensor: shape=(2,), dtype=string, numpy=array([b'Life Is Good', b'Make Or Break Me'], dtype=object)>, 'album_name_pl': <tf.Tensor: shape=(2, 6), dtype=string, numpy=\n",
      "array([[b'Picture Perfect', b'Life Is Good', b'Pardon My French',\n",
      "        b'Everything In Transit', b'Homesick', b'Can I Get an Outlaw'],\n",
      "       [b'Remedy Club Tour Edition', b'Brokenness Aside EP No. 1',\n",
      "        b'RUN WILD. LIVE FREE. LOVE STRONG. (Deluxe Anniversary Edition)',\n",
      "        b'Make Or Break Me', b'Live',\n",
      "        b'RUN WILD. LIVE FREE. LOVE STRONG. (Deluxe Anniversary Edition)']],\n",
      "      dtype=object)>, 'album_uri_can': <tf.Tensor: shape=(2,), dtype=string, numpy=\n",
      "array([b'spotify:album:05vTTb5QIlT5JsDRdJgQSK',\n",
      "       b'spotify:album:3fn6Mvy7ljNUR246XwaXHP'], dtype=object)>, 'album_uri_pl': <tf.Tensor: shape=(2, 6), dtype=string, numpy=\n",
      "array([[b'spotify:album:0MgL5MkrqC9wqDuiSedJ14',\n",
      "        b'spotify:album:05vTTb5QIlT5JsDRdJgQSK',\n",
      "        b'spotify:album:5PQc2Gjmqk3KGPYtKbXNi0',\n",
      "        b'spotify:album:7gfFEfHxjkmy6sP1fhLaJM',\n",
      "        b'spotify:album:34eR6ev1GGZHmxNTEfRobW',\n",
      "        b'spotify:album:647lxKs8GjylCNbAE32Lyn'],\n",
      "       [b'spotify:album:37GbCRUiM6S1LUA4aJwt1t',\n",
      "        b'spotify:album:4vSGmXFf0i2RVYAj03pKha',\n",
      "        b'spotify:album:3JgsuH1i4ddVP4Ke5zf87I',\n",
      "        b'spotify:album:3fn6Mvy7ljNUR246XwaXHP',\n",
      "        b'spotify:album:1xFAQGLd2GUNK0Ji9ss9TG',\n",
      "        b'spotify:album:3JgsuH1i4ddVP4Ke5zf87I']], dtype=object)>, 'artist_followers_can': <tf.Tensor: shape=(2,), dtype=float32, numpy=array([33354., 75454.], dtype=float32)>, 'artist_genres_can': <tf.Tensor: shape=(2,), dtype=string, numpy=array([b\"'boy band'\", b\"'red dirt', 'texas country'\"], dtype=object)>, 'artist_genres_pl': <tf.Tensor: shape=(2, 6), dtype=string, numpy=\n",
      "array([[b\"'neon pop punk', 'pop emo', 'pop punk'\", b\"'boy band'\",\n",
      "        b\"'anthem emo', 'easycore', 'metalcore', 'pop punk', 'post-screamo'\",\n",
      "        b\"'emo', 'neo mellow', 'neon pop punk', 'piano rock', 'pop emo', 'pop punk', 'pop rock'\",\n",
      "        b\"'metalcore', 'pop punk'\", b\"'contemporary country', 'country'\"],\n",
      "       [b\"'anthem worship', 'ccm', 'christian alternative rock', 'christian music', 'roots worship', 'world worship', 'worship'\",\n",
      "        b\"'anthem worship', 'ccm', 'christian music', 'christian uplift', 'indiecoustica', 'roots worship', 'world worship', 'worship'\",\n",
      "        b\"'ccm', 'christian alternative rock', 'christian indie', 'christian music', 'world worship', 'worship'\",\n",
      "        b\"'red dirt', 'texas country'\",\n",
      "        b\"'anthem worship', 'ccm', 'christian music', 'christian uplift', 'indiecoustica', 'roots worship', 'world worship', 'worship'\",\n",
      "        b\"'ccm', 'christian alternative rock', 'christian indie', 'christian music', 'world worship', 'worship'\"]],\n",
      "      dtype=object)>, 'artist_name_can': <tf.Tensor: shape=(2,), dtype=string, numpy=array([b'LFO', b'Kyle Park'], dtype=object)>, 'artist_name_pl': <tf.Tensor: shape=(2, 6), dtype=string, numpy=\n",
      "array([[b'Every Avenue', b'LFO', b'Chunk! No, Captain Chunk!',\n",
      "        b\"Jack's Mannequin\", b'A Day To Remember', b'Luke Combs'],\n",
      "       [b'David Crowder Band', b'All Sons & Daughters',\n",
      "        b'for KING & COUNTRY', b'Kyle Park', b'All Sons & Daughters',\n",
      "        b'for KING & COUNTRY']], dtype=object)>, 'artist_pop_can': <tf.Tensor: shape=(2,), dtype=float32, numpy=array([48., 43.], dtype=float32)>, 'artist_pop_pl': <tf.Tensor: shape=(2, 6), dtype=float32, numpy=\n",
      "array([[53., 48., 54., 51., 73., 83.],\n",
      "       [53., 57., 69., 43., 57., 69.]], dtype=float32)>, 'artist_uri_can': <tf.Tensor: shape=(2,), dtype=string, numpy=\n",
      "array([b'spotify:artist:1FizW0swe8ODtXvEOHXbHX',\n",
      "       b'spotify:artist:5uZZpd0gd1c36OcQBGxgGC'], dtype=object)>, 'artist_uri_pl': <tf.Tensor: shape=(2, 6), dtype=string, numpy=\n",
      "array([[b'spotify:artist:1IpSmgcN9F3KNa7j9JtAE4',\n",
      "        b'spotify:artist:1FizW0swe8ODtXvEOHXbHX',\n",
      "        b'spotify:artist:03jrbNTeSKP9m161juhm0h',\n",
      "        b'spotify:artist:42aeGx2I3uXINpGqC8L0LD',\n",
      "        b'spotify:artist:4NiJW4q9ichVqL1aUsgGAN',\n",
      "        b'spotify:artist:718COspgdWOnwOFpJHRZHS'],\n",
      "       [b'spotify:artist:7DhP3bGT7dzr1dCkkH5mTS',\n",
      "        b'spotify:artist:44LPOpECjnIlnwH91wo2ir',\n",
      "        b'spotify:artist:3sDbKMebVH2VYcRSl7u1VC',\n",
      "        b'spotify:artist:5uZZpd0gd1c36OcQBGxgGC',\n",
      "        b'spotify:artist:44LPOpECjnIlnwH91wo2ir',\n",
      "        b'spotify:artist:3sDbKMebVH2VYcRSl7u1VC']], dtype=object)>, 'artists_followers_pl': <tf.Tensor: shape=(2, 6), dtype=float32, numpy=\n",
      "array([[ 145428.,   33354.,  148720.,  209804., 2030497., 6353712.],\n",
      "       [ 456786.,  226886.,  917446.,   75454.,  226886.,  917446.]],\n",
      "      dtype=float32)>, 'avg_art_followers_pl_new': <tf.Tensor: shape=(2,), dtype=float32, numpy=array([2194721.8, 8589858. ], dtype=float32)>, 'avg_artist_pop_pl_new': <tf.Tensor: shape=(2,), dtype=float32, numpy=array([66.39561, 71.36585], dtype=float32)>, 'avg_track_pop_pl_new': <tf.Tensor: shape=(2,), dtype=float32, numpy=array([30.516483, 39.390244], dtype=float32)>, 'duration_ms_can': <tf.Tensor: shape=(2,), dtype=float32, numpy=array([247866., 225120.], dtype=float32)>, 'duration_ms_songs_pl': <tf.Tensor: shape=(2, 6), dtype=float32, numpy=\n",
      "array([[219973., 247866., 201240., 251533., 211133., 183160.],\n",
      "       [195000., 342893., 215933., 225120., 245080., 303306.]],\n",
      "      dtype=float32)>, 'num_pl_albums_new': <tf.Tensor: shape=(2,), dtype=float32, numpy=array([75., 27.], dtype=float32)>, 'num_pl_artists_new': <tf.Tensor: shape=(2,), dtype=float32, numpy=array([55., 19.], dtype=float32)>, 'num_pl_followers_src': <tf.Tensor: shape=(2,), dtype=float32, numpy=array([1., 1.], dtype=float32)>, 'num_pl_songs_new': <tf.Tensor: shape=(2,), dtype=float32, numpy=array([91., 41.], dtype=float32)>, 'pl_collaborative_src': <tf.Tensor: shape=(2,), dtype=string, numpy=array([b'false', b'false'], dtype=object)>, 'pl_duration_ms_new': <tf.Tensor: shape=(2,), dtype=float32, numpy=array([19922456., 10307870.], dtype=float32)>, 'pl_name_src': <tf.Tensor: shape=(2,), dtype=string, numpy=array([b'Work', b'Driving Home'], dtype=object)>, 'time_signature_pl': <tf.Tensor: shape=(2, 6), dtype=string, numpy=\n",
      "array([[b'4', b'4', b'4', b'4', b'4', b'4'],\n",
      "       [b'4', b'4', b'4', b'4', b'4', b'4']], dtype=object)>, 'track_acousticness_can': <tf.Tensor: shape=(2,), dtype=float32, numpy=array([0.0143, 0.0963], dtype=float32)>, 'track_acousticness_pl': <tf.Tensor: shape=(2, 6), dtype=float32, numpy=\n",
      "array([[1.88e-03, 1.43e-02, 9.01e-06, 6.56e-03, 2.65e-05, 1.52e-02],\n",
      "       [2.45e-04, 3.89e-01, 5.39e-02, 9.63e-02, 7.88e-02, 1.71e-01]],\n",
      "      dtype=float32)>, 'track_danceability_can': <tf.Tensor: shape=(2,), dtype=float32, numpy=array([0.689, 0.507], dtype=float32)>, 'track_danceability_pl': <tf.Tensor: shape=(2, 6), dtype=float32, numpy=\n",
      "array([[0.578, 0.689, 0.48 , 0.323, 0.489, 0.52 ],\n",
      "       [0.427, 0.363, 0.587, 0.507, 0.241, 0.518]], dtype=float32)>, 'track_energy_can': <tf.Tensor: shape=(2,), dtype=float32, numpy=array([0.922, 0.883], dtype=float32)>, 'track_energy_pl': <tf.Tensor: shape=(2, 6), dtype=float32, numpy=\n",
      "array([[0.76 , 0.922, 0.975, 0.936, 0.86 , 0.745],\n",
      "       [0.955, 0.308, 0.739, 0.883, 0.737, 0.744]], dtype=float32)>, 'track_instrumentalness_can': <tf.Tensor: shape=(2,), dtype=float32, numpy=array([0., 0.], dtype=float32)>, 'track_instrumentalness_pl': <tf.Tensor: shape=(2, 6), dtype=float32, numpy=\n",
      "array([[0.00e+00, 0.00e+00, 1.93e-01, 0.00e+00, 0.00e+00, 0.00e+00],\n",
      "       [1.62e-04, 2.43e-06, 2.08e-06, 0.00e+00, 0.00e+00, 7.63e-06]],\n",
      "      dtype=float32)>, 'track_key_can': <tf.Tensor: shape=(2,), dtype=string, numpy=array([b'11', b'9'], dtype=object)>, 'track_key_pl': <tf.Tensor: shape=(2, 6), dtype=string, numpy=\n",
      "array([[b'5', b'11', b'10', b'3', b'0', b'11'],\n",
      "       [b'8', b'9', b'0', b'9', b'9', b'3']], dtype=object)>, 'track_liveness_can': <tf.Tensor: shape=(2,), dtype=float32, numpy=array([0.335, 0.632], dtype=float32)>, 'track_liveness_pl': <tf.Tensor: shape=(2, 6), dtype=float32, numpy=\n",
      "array([[0.142 , 0.335 , 0.529 , 0.0972, 0.385 , 0.123 ],\n",
      "       [0.655 , 0.0872, 0.049 , 0.632 , 0.171 , 0.109 ]], dtype=float32)>, 'track_loudness_can': <tf.Tensor: shape=(2,), dtype=float32, numpy=array([-4.56 , -4.755], dtype=float32)>, 'track_loudness_pl': <tf.Tensor: shape=(2, 6), dtype=float32, numpy=\n",
      "array([[-2.307, -4.56 , -3.737, -4.505, -5.021, -5.391],\n",
      "       [-7.309, -8.335, -5.762, -4.755, -6.811, -7.106]], dtype=float32)>, 'track_mode_can': <tf.Tensor: shape=(2,), dtype=string, numpy=array([b'1', b'1'], dtype=object)>, 'track_mode_pl': <tf.Tensor: shape=(2, 6), dtype=string, numpy=\n",
      "array([[b'1', b'1', b'1', b'1', b'1', b'1'],\n",
      "       [b'1', b'1', b'1', b'1', b'1', b'1']], dtype=object)>, 'track_name_can': <tf.Tensor: shape=(2,), dtype=string, numpy=\n",
      "array([b'Every Other Time - Radio Edit & Album Version',\n",
      "       b'Make Or Break Me'], dtype=object)>, 'track_name_pl': <tf.Tensor: shape=(2, 6), dtype=string, numpy=\n",
      "array([[b\"Tell Me I'm A Wreck\",\n",
      "        b'Every Other Time - Radio Edit & Album Version',\n",
      "        b'Haters Gonna Hate', b'Dark Blue - 2015 Remastered',\n",
      "        b'NJ Legion Iced Tea', b'She Got the Best of Me'],\n",
      "       [b'... neverending ...', b'All the Poor and Powerless',\n",
      "        b'Fix My Eyes', b'Make Or Break Me', b'Oh How I Need You - Live',\n",
      "        b'Shoulders']], dtype=object)>, 'track_pop_can': <tf.Tensor: shape=(2,), dtype=float32, numpy=array([48.,  0.], dtype=float32)>, 'track_pop_pl': <tf.Tensor: shape=(2, 6), dtype=float32, numpy=\n",
      "array([[68., 48., 43., 57.,  0.,  0.],\n",
      "       [11., 40., 61.,  0., 34., 58.]], dtype=float32)>, 'track_speechiness_can': <tf.Tensor: shape=(2,), dtype=float32, numpy=array([0.0372, 0.0707], dtype=float32)>, 'track_speechiness_pl': <tf.Tensor: shape=(2, 6), dtype=float32, numpy=\n",
      "array([[0.0329, 0.0372, 0.0679, 0.108 , 0.106 , 0.0265],\n",
      "       [0.0579, 0.0304, 0.0365, 0.0707, 0.0483, 0.0351]], dtype=float32)>, 'track_tempo_can': <tf.Tensor: shape=(2,), dtype=float32, numpy=array([103.975, 114.041], dtype=float32)>, 'track_tempo_pl': <tf.Tensor: shape=(2, 6), dtype=float32, numpy=\n",
      "array([[127.904, 103.975, 129.998, 163.124, 148.824,  76.033],\n",
      "       [160.044, 147.635, 100.005, 114.041, 101.125,  98.022]],\n",
      "      dtype=float32)>, 'track_time_signature_can': <tf.Tensor: shape=(2,), dtype=string, numpy=array([b'4', b'4'], dtype=object)>, 'track_uri_can': <tf.Tensor: shape=(2,), dtype=string, numpy=\n",
      "array([b'spotify:track:3uD4aRM8QoEAAhwpOke7QU',\n",
      "       b'spotify:track:7KVQiFRrq9UWYjgsbL8woP'], dtype=object)>, 'track_uri_pl': <tf.Tensor: shape=(2, 6), dtype=string, numpy=\n",
      "array([[b'spotify:track:203zTFd1zbfG0fiOG9OREv',\n",
      "        b'spotify:track:3uD4aRM8QoEAAhwpOke7QU',\n",
      "        b'spotify:track:6r7Pl4njxpio06Amy2fxrA',\n",
      "        b'spotify:track:3tZwKujD64Ad6vlDVxZOrg',\n",
      "        b'spotify:track:6KyOCzf2A2jjROH4ZokTEw',\n",
      "        b'spotify:track:6AwPEpVjrWnJ0Avv5Krvgr'],\n",
      "       [b'spotify:track:1d15QaDMYLlzPGaYWMEw06',\n",
      "        b'spotify:track:23aRQxzv8AbUOAV4czlNmp',\n",
      "        b'spotify:track:7zJg7aNCvTKW9EtG1Dvzkl',\n",
      "        b'spotify:track:7KVQiFRrq9UWYjgsbL8woP',\n",
      "        b'spotify:track:3yvMWXSQs2W5IVNBHkgZom',\n",
      "        b'spotify:track:5MCG4XcVcvCOXWpSg2cfRC']], dtype=object)>, 'track_valence_can': <tf.Tensor: shape=(2,), dtype=float32, numpy=array([0.72 , 0.683], dtype=float32)>, 'track_valence_pl': <tf.Tensor: shape=(2, 6), dtype=float32, numpy=\n",
      "array([[0.7   , 0.72  , 0.533 , 0.326 , 0.666 , 0.581 ],\n",
      "       [0.6   , 0.0761, 0.549 , 0.683 , 0.195 , 0.161 ]], dtype=float32)>}\n"
     ]
    },
    {
     "name": "stderr",
     "output_type": "stream",
     "text": [
      "2022-12-06 11:55:16.339209: W tensorflow/core/framework/op_kernel.cc:1745] OP_REQUIRES failed at example_parsing_ops.cc:94 : INVALID_ARGUMENT: Key: track_valence_pl.  Can't parse serialized Example.\n"
     ]
    }
   ],
   "source": [
    "for x in valid_parsed.batch(2).take(1):\n",
    "    print(x)"
   ]
  },
  {
   "cell_type": "markdown",
   "id": "b6031b7e-fcbb-4139-a6c6-75d8a63e6c54",
   "metadata": {},
   "source": [
    "### train files"
   ]
  },
  {
   "cell_type": "code",
   "execution_count": 7,
   "id": "1f5fc764-c1ca-4346-8fcd-bd9e2939d722",
   "metadata": {},
   "outputs": [],
   "source": [
    "## testing output\n",
    "from google.cloud import storage\n",
    "\n",
    "client = storage.Client()\n",
    "# # gs://spotify-beam-v3/v3/candidates/*.tfrecords\n",
    "\n",
    "# train_dir = 'spotify-data-regimes'\n",
    "# train_dir_prefix = 'jtv1/valid_last_5_feats_v2/'\n",
    "train_dir = 'spotify-data-regimes'\n",
    "train_dir_prefix = 'jtv5/train_last_5_feats_v4/'\n",
    "\n",
    "# gs://spotify-data-regimes/jtv1/train_last_5_feats_v2/-00000-of-01027.tfrecords\n",
    "\n",
    "train_files = []\n",
    "for blob in client.list_blobs(f\"{train_dir}\", prefix=f'{train_dir_prefix}', delimiter=\"/\"):\n",
    "    train_files.append(blob.public_url.replace(\"https://storage.googleapis.com/\", \"gs://\"))\n",
    "    \n",
    "train = tf.data.TFRecordDataset(train_files)\n",
    "\n",
    "def parse_tfrecord(example):\n",
    "    example = tf.io.parse_single_example(\n",
    "        example, \n",
    "        features=feats\n",
    "    )\n",
    "    return example\n",
    "\n",
    "# parsed_candidate_dataset = candidate_dataset.map(parse_candidate_tfrecord_fn, num_parallel_calls=-1)\n",
    "\n",
    "train_parsed = train.map(parse_tfrecord) ### THIS NEEDS TO BE FIXED SO THE UNIQUE PRODUCT DATASET HAS THE SAME FIELD NAMES (goes thru the same model)"
   ]
  },
  {
   "cell_type": "code",
   "execution_count": 8,
   "id": "7f98d42e-4ca6-4e1f-a832-6c0a9b1c44a1",
   "metadata": {},
   "outputs": [
    {
     "data": {
      "text/plain": [
       "<MapDataset element_spec={'album_name_can': TensorSpec(shape=(), dtype=tf.string, name=None), 'album_name_pl': TensorSpec(shape=(6,), dtype=tf.string, name=None), 'album_uri_can': TensorSpec(shape=(), dtype=tf.string, name=None), 'album_uri_pl': TensorSpec(shape=(6,), dtype=tf.string, name=None), 'artist_followers_can': TensorSpec(shape=(), dtype=tf.float32, name=None), 'artist_genres_can': TensorSpec(shape=(), dtype=tf.string, name=None), 'artist_genres_pl': TensorSpec(shape=(6,), dtype=tf.string, name=None), 'artist_name_can': TensorSpec(shape=(), dtype=tf.string, name=None), 'artist_name_pl': TensorSpec(shape=(6,), dtype=tf.string, name=None), 'artist_pop_can': TensorSpec(shape=(), dtype=tf.float32, name=None), 'artist_pop_pl': TensorSpec(shape=(6,), dtype=tf.float32, name=None), 'artist_uri_can': TensorSpec(shape=(), dtype=tf.string, name=None), 'artist_uri_pl': TensorSpec(shape=(6,), dtype=tf.string, name=None), 'artists_followers_pl': TensorSpec(shape=(6,), dtype=tf.float32, name=None), 'avg_art_followers_pl_new': TensorSpec(shape=(), dtype=tf.float32, name=None), 'avg_artist_pop_pl_new': TensorSpec(shape=(), dtype=tf.float32, name=None), 'avg_track_pop_pl_new': TensorSpec(shape=(), dtype=tf.float32, name=None), 'duration_ms_can': TensorSpec(shape=(), dtype=tf.float32, name=None), 'duration_ms_songs_pl': TensorSpec(shape=(6,), dtype=tf.float32, name=None), 'num_pl_albums_new': TensorSpec(shape=(), dtype=tf.float32, name=None), 'num_pl_artists_new': TensorSpec(shape=(), dtype=tf.float32, name=None), 'num_pl_followers_src': TensorSpec(shape=(), dtype=tf.float32, name=None), 'num_pl_songs_new': TensorSpec(shape=(), dtype=tf.float32, name=None), 'pl_collaborative_src': TensorSpec(shape=(), dtype=tf.string, name=None), 'pl_duration_ms_new': TensorSpec(shape=(), dtype=tf.float32, name=None), 'pl_name_src': TensorSpec(shape=(), dtype=tf.string, name=None), 'time_signature_pl': TensorSpec(shape=(6,), dtype=tf.string, name=None), 'track_acousticness_can': TensorSpec(shape=(), dtype=tf.float32, name=None), 'track_acousticness_pl': TensorSpec(shape=(6,), dtype=tf.float32, name=None), 'track_danceability_can': TensorSpec(shape=(), dtype=tf.float32, name=None), 'track_danceability_pl': TensorSpec(shape=(6,), dtype=tf.float32, name=None), 'track_energy_can': TensorSpec(shape=(), dtype=tf.float32, name=None), 'track_energy_pl': TensorSpec(shape=(6,), dtype=tf.float32, name=None), 'track_instrumentalness_can': TensorSpec(shape=(), dtype=tf.float32, name=None), 'track_instrumentalness_pl': TensorSpec(shape=(6,), dtype=tf.float32, name=None), 'track_key_can': TensorSpec(shape=(), dtype=tf.string, name=None), 'track_key_pl': TensorSpec(shape=(6,), dtype=tf.string, name=None), 'track_liveness_can': TensorSpec(shape=(), dtype=tf.float32, name=None), 'track_liveness_pl': TensorSpec(shape=(6,), dtype=tf.float32, name=None), 'track_loudness_can': TensorSpec(shape=(), dtype=tf.float32, name=None), 'track_loudness_pl': TensorSpec(shape=(6,), dtype=tf.float32, name=None), 'track_mode_can': TensorSpec(shape=(), dtype=tf.string, name=None), 'track_mode_pl': TensorSpec(shape=(6,), dtype=tf.string, name=None), 'track_name_can': TensorSpec(shape=(), dtype=tf.string, name=None), 'track_name_pl': TensorSpec(shape=(6,), dtype=tf.string, name=None), 'track_pop_can': TensorSpec(shape=(), dtype=tf.float32, name=None), 'track_pop_pl': TensorSpec(shape=(6,), dtype=tf.float32, name=None), 'track_speechiness_can': TensorSpec(shape=(), dtype=tf.float32, name=None), 'track_speechiness_pl': TensorSpec(shape=(6,), dtype=tf.float32, name=None), 'track_tempo_can': TensorSpec(shape=(), dtype=tf.float32, name=None), 'track_tempo_pl': TensorSpec(shape=(6,), dtype=tf.float32, name=None), 'track_time_signature_can': TensorSpec(shape=(), dtype=tf.string, name=None), 'track_uri_can': TensorSpec(shape=(), dtype=tf.string, name=None), 'track_uri_pl': TensorSpec(shape=(6,), dtype=tf.string, name=None), 'track_valence_can': TensorSpec(shape=(), dtype=tf.float32, name=None), 'track_valence_pl': TensorSpec(shape=(6,), dtype=tf.float32, name=None)}>"
      ]
     },
     "execution_count": 8,
     "metadata": {},
     "output_type": "execute_result"
    }
   ],
   "source": [
    "train_parsed"
   ]
  },
  {
   "cell_type": "code",
   "execution_count": 9,
   "id": "28684f79-edaa-47d8-9fd3-64edb91dba27",
   "metadata": {
    "collapsed": true,
    "jupyter": {
     "outputs_hidden": true
    },
    "tags": []
   },
   "outputs": [
    {
     "name": "stdout",
     "output_type": "stream",
     "text": [
      "{'album_name_can': <tf.Tensor: shape=(2,), dtype=string, numpy=\n",
      "array([b'Alex Goot & Friends, Vol. 3', b'Punk Goes Pop, Vol. 7'],\n",
      "      dtype=object)>, 'album_name_pl': <tf.Tensor: shape=(2, 6), dtype=string, numpy=\n",
      "array([[b'Be Not Nobody', b'Let Go', b'Goodbye Lullaby',\n",
      "        b'The Best Damn Thing', b'Alex Goot & Friends, Vol. 3',\n",
      "        b'Two Lanes Of Freedom'],\n",
      "       [b'Starboy', b'HUMBLE.', b'Shake the Lights When You in Trouble',\n",
      "        b'Punk Goes Pop, Vol. 7', b'Obscure: La Deuxi\\xc3\\xa8me',\n",
      "        b'Problem']], dtype=object)>, 'album_uri_can': <tf.Tensor: shape=(2,), dtype=string, numpy=\n",
      "array([b'spotify:album:0GhppB5IFroTmdP5HxQKE0',\n",
      "       b'spotify:album:0QnLGxrlc61tSudHIZr4Sz'], dtype=object)>, 'album_uri_pl': <tf.Tensor: shape=(2, 6), dtype=string, numpy=\n",
      "array([[b'spotify:album:7D6BFTArx2ajtkKRVXIKO2',\n",
      "        b'spotify:album:7h6XeTzy0SRXDrFJeA9gO7',\n",
      "        b'spotify:album:3WKHuDtWB0Ota02oXE9f9S',\n",
      "        b'spotify:album:0XypvgyeJm4mNjH4QRHmYR',\n",
      "        b'spotify:album:0GhppB5IFroTmdP5HxQKE0',\n",
      "        b'spotify:album:1O3BsjGx9plSOJ036ZY4Fl'],\n",
      "       [b'spotify:album:5raf9Agi3ferPfy54ucXLH',\n",
      "        b'spotify:album:2tFNYmBIB9GWSvKd1LWonP',\n",
      "        b'spotify:album:5E1sktUZIqJO8nYdS04oJ1',\n",
      "        b'spotify:album:0QnLGxrlc61tSudHIZr4Sz',\n",
      "        b'spotify:album:2N4l7qgupa4DNpd0QOyNs4',\n",
      "        b'spotify:album:4vntXpSZba1EPfCjAhnmeb']], dtype=object)>, 'artist_followers_can': <tf.Tensor: shape=(2,), dtype=float32, numpy=array([228756., 577159.], dtype=float32)>, 'artist_genres_can': <tf.Tensor: shape=(2,), dtype=string, numpy=\n",
      "array([b\"'post-teen pop', 'viral pop'\",\n",
      "       b\"'australian metalcore', 'melodic metalcore', 'metalcore'\"],\n",
      "      dtype=object)>, 'artist_genres_pl': <tf.Tensor: shape=(2, 6), dtype=string, numpy=\n",
      "array([[b\"'lilith', 'neo mellow', 'piano rock', 'pop rock', 'post-teen pop'\",\n",
      "        b\"'canadian pop', 'candy pop', 'dance pop', 'pop', 'post-teen pop'\",\n",
      "        b\"'canadian pop', 'candy pop', 'dance pop', 'pop', 'post-teen pop'\",\n",
      "        b\"'canadian pop', 'candy pop', 'dance pop', 'pop', 'post-teen pop'\",\n",
      "        b\"'post-teen pop', 'viral pop'\",\n",
      "        b\"'contemporary country', 'country', 'country road'\"],\n",
      "       [b\"'pixie', 'post-screamo'\", b\"'metalcore', 'modern rock'\",\n",
      "        b\"'post-screamo'\",\n",
      "        b\"'australian metalcore', 'melodic metalcore', 'metalcore'\",\n",
      "        b\"'post-screamo'\", b\"'pixie', 'post-screamo'\"]], dtype=object)>, 'artist_name_can': <tf.Tensor: shape=(2,), dtype=string, numpy=array([b'Alex Goot', b'The Amity Affliction'], dtype=object)>, 'artist_name_pl': <tf.Tensor: shape=(2, 6), dtype=string, numpy=\n",
      "array([[b'Vanessa Carlton', b'Avril Lavigne', b'Avril Lavigne',\n",
      "        b'Avril Lavigne', b'Alex Goot', b'Tim McGraw'],\n",
      "       [b'The Animal In Me', b'Our Last Night', b'Main-De-Gloire',\n",
      "        b'The Amity Affliction', b'SycAmour', b'The Animal In Me']],\n",
      "      dtype=object)>, 'artist_pop_can': <tf.Tensor: shape=(2,), dtype=float32, numpy=array([57., 65.], dtype=float32)>, 'artist_pop_pl': <tf.Tensor: shape=(2, 6), dtype=float32, numpy=\n",
      "array([[67., 82., 82., 82., 57., 75.],\n",
      "       [50., 71., 46., 65., 43., 50.]], dtype=float32)>, 'artist_uri_can': <tf.Tensor: shape=(2,), dtype=string, numpy=\n",
      "array([b'spotify:artist:66Fb5gJ9SX2WGlqDLUpjux',\n",
      "       b'spotify:artist:6kNKUYGn6VNGsRoXmyoDPK'], dtype=object)>, 'artist_uri_pl': <tf.Tensor: shape=(2, 6), dtype=string, numpy=\n",
      "array([[b'spotify:artist:5ILrArfIV0tMURcHJN8Q07',\n",
      "        b'spotify:artist:0p4nmQO2msCgU4IF37Wi3j',\n",
      "        b'spotify:artist:0p4nmQO2msCgU4IF37Wi3j',\n",
      "        b'spotify:artist:0p4nmQO2msCgU4IF37Wi3j',\n",
      "        b'spotify:artist:66Fb5gJ9SX2WGlqDLUpjux',\n",
      "        b'spotify:artist:6roFdX1y5BYSbp60OTJWMd'],\n",
      "       [b'spotify:artist:6hyAYqBdxyramm4W9TB7R0',\n",
      "        b'spotify:artist:00YTqRClk82aMchQQpYMd5',\n",
      "        b'spotify:artist:1YcOnsBEycC9X5OY6kUzmV',\n",
      "        b'spotify:artist:6kNKUYGn6VNGsRoXmyoDPK',\n",
      "        b'spotify:artist:5oo5QQ0oov6jdUk9CECwB7',\n",
      "        b'spotify:artist:6hyAYqBdxyramm4W9TB7R0']], dtype=object)>, 'artists_followers_pl': <tf.Tensor: shape=(2, 6), dtype=float32, numpy=\n",
      "array([[5.271270e+05, 8.536842e+06, 8.536842e+06, 8.536842e+06,\n",
      "        2.287560e+05, 3.924742e+06],\n",
      "       [6.554000e+04, 9.015820e+05, 7.475000e+03, 5.771590e+05,\n",
      "        2.867400e+04, 6.554000e+04]], dtype=float32)>, 'avg_art_followers_pl_new': <tf.Tensor: shape=(2,), dtype=float32, numpy=array([13801767. ,   450187.5], dtype=float32)>, 'avg_artist_pop_pl_new': <tf.Tensor: shape=(2,), dtype=float32, numpy=array([73.8125  , 50.934578], dtype=float32)>, 'avg_track_pop_pl_new': <tf.Tensor: shape=(2,), dtype=float32, numpy=array([37.729168,  8.205607], dtype=float32)>, 'duration_ms_can': <tf.Tensor: shape=(2,), dtype=float32, numpy=array([185893., 201106.], dtype=float32)>, 'duration_ms_songs_pl': <tf.Tensor: shape=(2, 6), dtype=float32, numpy=\n",
      "array([[238440., 204000., 225680., 240866., 185893., 276880.],\n",
      "       [246362., 195566., 234000., 201106., 219130., 198981.]],\n",
      "      dtype=float32)>, 'num_pl_albums_new': <tf.Tensor: shape=(2,), dtype=float32, numpy=array([43., 53.], dtype=float32)>, 'num_pl_artists_new': <tf.Tensor: shape=(2,), dtype=float32, numpy=array([31., 96.], dtype=float32)>, 'num_pl_followers_src': <tf.Tensor: shape=(2,), dtype=float32, numpy=array([1., 1.], dtype=float32)>, 'num_pl_songs_new': <tf.Tensor: shape=(2,), dtype=float32, numpy=array([ 48., 107.], dtype=float32)>, 'pl_collaborative_src': <tf.Tensor: shape=(2,), dtype=string, numpy=array([b'false', b'false'], dtype=object)>, 'pl_duration_ms_new': <tf.Tensor: shape=(2,), dtype=float32, numpy=array([10803409., 25163150.], dtype=float32)>, 'pl_name_src': <tf.Tensor: shape=(2,), dtype=string, numpy=array([b'Twisted', b'Punk Goes'], dtype=object)>, 'time_signature_pl': <tf.Tensor: shape=(2, 6), dtype=string, numpy=\n",
      "array([[b'3', b'4', b'4', b'4', b'4', b'4'],\n",
      "       [b'4', b'4', b'4', b'4', b'4', b'4']], dtype=object)>, 'track_acousticness_can': <tf.Tensor: shape=(2,), dtype=float32, numpy=array([0.827   , 0.000867], dtype=float32)>, 'track_acousticness_pl': <tf.Tensor: shape=(2, 6), dtype=float32, numpy=\n",
      "array([[2.26e-01, 6.79e-05, 3.37e-02, 2.08e-01, 8.27e-01, 2.16e-02],\n",
      "       [1.38e-03, 9.81e-05, 6.01e-04, 8.67e-04, 1.66e-03, 1.46e-02]],\n",
      "      dtype=float32)>, 'track_danceability_can': <tf.Tensor: shape=(2,), dtype=float32, numpy=array([0.583, 0.231], dtype=float32)>, 'track_danceability_pl': <tf.Tensor: shape=(2, 6), dtype=float32, numpy=\n",
      "array([[0.319, 0.487, 0.456, 0.456, 0.583, 0.47 ],\n",
      "       [0.536, 0.539, 0.372, 0.231, 0.553, 0.573]], dtype=float32)>, 'track_energy_can': <tf.Tensor: shape=(2,), dtype=float32, numpy=array([0.454, 0.855], dtype=float32)>, 'track_energy_pl': <tf.Tensor: shape=(2, 6), dtype=float32, numpy=\n",
      "array([[0.671, 0.9  , 0.862, 0.714, 0.454, 0.79 ],\n",
      "       [0.928, 0.903, 0.972, 0.855, 0.886, 0.96 ]], dtype=float32)>, 'track_instrumentalness_can': <tf.Tensor: shape=(2,), dtype=float32, numpy=array([0., 0.], dtype=float32)>, 'track_instrumentalness_pl': <tf.Tensor: shape=(2, 6), dtype=float32, numpy=\n",
      "array([[0.00e+00, 0.00e+00, 0.00e+00, 0.00e+00, 0.00e+00, 0.00e+00],\n",
      "       [0.00e+00, 1.76e-01, 4.53e-04, 0.00e+00, 0.00e+00, 2.95e-05]],\n",
      "      dtype=float32)>, 'track_key_can': <tf.Tensor: shape=(2,), dtype=string, numpy=array([b'3', b'9'], dtype=object)>, 'track_key_pl': <tf.Tensor: shape=(2, 6), dtype=string, numpy=\n",
      "array([[b'0', b'0', b'4', b'4', b'3', b'2'],\n",
      "       [b'9', b'2', b'0', b'9', b'2', b'4']], dtype=object)>, 'track_liveness_can': <tf.Tensor: shape=(2,), dtype=float32, numpy=array([0.0822, 0.289 ], dtype=float32)>, 'track_liveness_pl': <tf.Tensor: shape=(2, 6), dtype=float32, numpy=\n",
      "array([[0.169 , 0.358 , 0.172 , 0.296 , 0.0822, 0.0863],\n",
      "       [0.113 , 0.149 , 0.364 , 0.289 , 0.0655, 0.196 ]], dtype=float32)>, 'track_loudness_can': <tf.Tensor: shape=(2,), dtype=float32, numpy=array([-8.518, -6.288], dtype=float32)>, 'track_loudness_pl': <tf.Tensor: shape=(2, 6), dtype=float32, numpy=\n",
      "array([[-3.323, -4.417, -3.818, -3.98 , -8.518, -5.352],\n",
      "       [-4.923, -6.038, -3.966, -6.288, -4.394, -5.472]], dtype=float32)>, 'track_mode_can': <tf.Tensor: shape=(2,), dtype=string, numpy=array([b'1', b'0'], dtype=object)>, 'track_mode_pl': <tf.Tensor: shape=(2, 6), dtype=string, numpy=\n",
      "array([[b'1', b'1', b'1', b'0', b'1', b'1'],\n",
      "       [b'0', b'1', b'1', b'0', b'0', b'1']], dtype=object)>, 'track_name_can': <tf.Tensor: shape=(2,), dtype=string, numpy=array([b'Clarity', b'Can\\xe2\\x80\\x99t Feel My Face'], dtype=object)>, 'track_name_pl': <tf.Tensor: shape=(2, 6), dtype=string, numpy=\n",
      "array([[b'Ordinary Day', b'Sk8er Boi', b'Wish You Were Here',\n",
      "        b\"When You're Gone\", b'Clarity', b\"Highway Don't Care\"],\n",
      "       [b'Starboy', b'HUMBLE.', b'Shake It Off',\n",
      "        b'Can\\xe2\\x80\\x99t Feel My Face',\n",
      "        b'Set Fire To The Rain (Adele Cover)', b'Problem']], dtype=object)>, 'track_pop_can': <tf.Tensor: shape=(2,), dtype=float32, numpy=array([32.,  0.], dtype=float32)>, 'track_pop_pl': <tf.Tensor: shape=(2, 6), dtype=float32, numpy=\n",
      "array([[ 0.,  0.,  0.,  0., 32., 67.],\n",
      "       [ 0., 59.,  0.,  0.,  0.,  0.]], dtype=float32)>, 'track_speechiness_can': <tf.Tensor: shape=(2,), dtype=float32, numpy=array([0.031 , 0.0589], dtype=float32)>, 'track_speechiness_pl': <tf.Tensor: shape=(2, 6), dtype=float32, numpy=\n",
      "array([[0.0329, 0.0482, 0.05  , 0.0332, 0.031 , 0.039 ],\n",
      "       [0.0494, 0.0389, 0.101 , 0.0589, 0.035 , 0.159 ]], dtype=float32)>, 'track_tempo_can': <tf.Tensor: shape=(2,), dtype=float32, numpy=array([125.052, 108.089], dtype=float32)>, 'track_tempo_pl': <tf.Tensor: shape=(2, 6), dtype=float32, numpy=\n",
      "array([[185.256, 149.937, 165.991, 142.072, 125.052, 158.061],\n",
      "       [ 93.022, 150.028, 160.656, 108.089, 115.04 , 102.536]],\n",
      "      dtype=float32)>, 'track_time_signature_can': <tf.Tensor: shape=(2,), dtype=string, numpy=array([b'4', b'4'], dtype=object)>, 'track_uri_can': <tf.Tensor: shape=(2,), dtype=string, numpy=\n",
      "array([b'spotify:track:6KJcEmFDUHX6zt8Rhuf0AW',\n",
      "       b'spotify:track:4dZEkHDfbTIOWaO5RP3F8e'], dtype=object)>, 'track_uri_pl': <tf.Tensor: shape=(2, 6), dtype=string, numpy=\n",
      "array([[b'spotify:track:0ua956J0x3UIq9xL4qtRcY',\n",
      "        b'spotify:track:4omisSlTk6Dsq2iQD7MA07',\n",
      "        b'spotify:track:3VcaQY2NiZuZEOKNghNhqe',\n",
      "        b'spotify:track:4VdYpmlf6EDmqbAcWc2jt7',\n",
      "        b'spotify:track:6KJcEmFDUHX6zt8Rhuf0AW',\n",
      "        b'spotify:track:4wFUdSCer8bdQsrp1M90sa'],\n",
      "       [b'spotify:track:4LceuFIJXzhCJ9iJsYmf0f',\n",
      "        b'spotify:track:0aLrHZKT7pcszo0e5SiMIG',\n",
      "        b'spotify:track:2VGKjMrBDhuAvUffdnyQQE',\n",
      "        b'spotify:track:4dZEkHDfbTIOWaO5RP3F8e',\n",
      "        b'spotify:track:0j4VpNPPyC8Xa6acNCMe5j',\n",
      "        b'spotify:track:35alfara6BTnNgyFLiWVcC']], dtype=object)>, 'track_valence_can': <tf.Tensor: shape=(2,), dtype=float32, numpy=array([0.647, 0.316], dtype=float32)>, 'track_valence_pl': <tf.Tensor: shape=(2, 6), dtype=float32, numpy=\n",
      "array([[0.409, 0.484, 0.337, 0.155, 0.647, 0.495],\n",
      "       [0.569, 0.445, 0.318, 0.316, 0.32 , 0.431]], dtype=float32)>}\n"
     ]
    }
   ],
   "source": [
    "for x in train_parsed.batch(2).take(1):\n",
    "    print(x)"
   ]
  },
  {
   "cell_type": "code",
   "execution_count": 12,
   "id": "4b4a2ecb-0255-4b67-afe5-13659a6921f0",
   "metadata": {
    "collapsed": true,
    "jupyter": {
     "outputs_hidden": true
    },
    "tags": []
   },
   "outputs": [
    {
     "name": "stdout",
     "output_type": "stream",
     "text": [
      "{'album_name_can': <tf.Tensor: shape=(3,), dtype=string, numpy=\n",
      "array([b'Alex Goot & Friends, Vol. 3', b'Punk Goes Pop, Vol. 7',\n",
      "       b'B.o.B Presents: The Adventures of Bobby Ray'], dtype=object)>, 'album_name_pl': <tf.Tensor: shape=(3, 6), dtype=string, numpy=\n",
      "array([[b'Be Not Nobody', b'Let Go', b'Goodbye Lullaby',\n",
      "        b'The Best Damn Thing', b'Alex Goot & Friends, Vol. 3',\n",
      "        b'Two Lanes Of Freedom'],\n",
      "       [b'Starboy', b'HUMBLE.', b'Shake the Lights When You in Trouble',\n",
      "        b'Punk Goes Pop, Vol. 7', b'Obscure: La Deuxi\\xc3\\xa8me',\n",
      "        b'Problem'],\n",
      "       [b'B.o.B Presents: The Adventures of Bobby Ray',\n",
      "        b'Full Moon Fever', b\"Blowin' Your Mind!\",\n",
      "        b'Camp Rock 2: The Final Jam', b'News Of The World',\n",
      "        b'The Bodyguard - Original Soundtrack Album']], dtype=object)>, 'album_uri_can': <tf.Tensor: shape=(3,), dtype=string, numpy=\n",
      "array([b'spotify:album:0GhppB5IFroTmdP5HxQKE0',\n",
      "       b'spotify:album:0QnLGxrlc61tSudHIZr4Sz',\n",
      "       b'spotify:album:7apLPYT8szV1IqTxyVSy5P'], dtype=object)>, 'album_uri_pl': <tf.Tensor: shape=(3, 6), dtype=string, numpy=\n",
      "array([[b'spotify:album:7D6BFTArx2ajtkKRVXIKO2',\n",
      "        b'spotify:album:7h6XeTzy0SRXDrFJeA9gO7',\n",
      "        b'spotify:album:3WKHuDtWB0Ota02oXE9f9S',\n",
      "        b'spotify:album:0XypvgyeJm4mNjH4QRHmYR',\n",
      "        b'spotify:album:0GhppB5IFroTmdP5HxQKE0',\n",
      "        b'spotify:album:1O3BsjGx9plSOJ036ZY4Fl'],\n",
      "       [b'spotify:album:5raf9Agi3ferPfy54ucXLH',\n",
      "        b'spotify:album:2tFNYmBIB9GWSvKd1LWonP',\n",
      "        b'spotify:album:5E1sktUZIqJO8nYdS04oJ1',\n",
      "        b'spotify:album:0QnLGxrlc61tSudHIZr4Sz',\n",
      "        b'spotify:album:2N4l7qgupa4DNpd0QOyNs4',\n",
      "        b'spotify:album:4vntXpSZba1EPfCjAhnmeb'],\n",
      "       [b'spotify:album:7apLPYT8szV1IqTxyVSy5P',\n",
      "        b'spotify:album:5d71Imt5CIb7LpQwDMQ093',\n",
      "        b'spotify:album:7dsWupQRlFuhG8FGiQAUjC',\n",
      "        b'spotify:album:5iK842b9xnZblgZkRxWCFe',\n",
      "        b'spotify:album:7tB40pGzj6Tg0HePj2jWZt',\n",
      "        b'spotify:album:7JVJlkNNobS0GSoy4tCS96']], dtype=object)>, 'artist_followers_can': <tf.Tensor: shape=(3,), dtype=float32, numpy=array([ 228756.,  577159., 1953136.], dtype=float32)>, 'artist_genres_can': <tf.Tensor: shape=(3,), dtype=string, numpy=\n",
      "array([b\"'post-teen pop', 'viral pop'\",\n",
      "       b\"'australian metalcore', 'melodic metalcore', 'metalcore'\",\n",
      "       b\"'atl hip hop', 'dance pop', 'hip hop', 'pop', 'pop rap', 'pop rock', 'rap', 'southern hip hop'\"],\n",
      "      dtype=object)>, 'artist_genres_pl': <tf.Tensor: shape=(3, 6), dtype=string, numpy=\n",
      "array([[b\"'lilith', 'neo mellow', 'piano rock', 'pop rock', 'post-teen pop'\",\n",
      "        b\"'canadian pop', 'candy pop', 'dance pop', 'pop', 'post-teen pop'\",\n",
      "        b\"'canadian pop', 'candy pop', 'dance pop', 'pop', 'post-teen pop'\",\n",
      "        b\"'canadian pop', 'candy pop', 'dance pop', 'pop', 'post-teen pop'\",\n",
      "        b\"'post-teen pop', 'viral pop'\",\n",
      "        b\"'contemporary country', 'country', 'country road'\"],\n",
      "       [b\"'pixie', 'post-screamo'\", b\"'metalcore', 'modern rock'\",\n",
      "        b\"'post-screamo'\",\n",
      "        b\"'australian metalcore', 'melodic metalcore', 'metalcore'\",\n",
      "        b\"'post-screamo'\", b\"'pixie', 'post-screamo'\"],\n",
      "       [b\"'atl hip hop', 'dance pop', 'hip hop', 'pop', 'pop rap', 'pop rock', 'rap', 'southern hip hop'\",\n",
      "        b\"'album rock', 'classic rock', 'country rock', 'folk rock', 'heartland rock', 'mellow gold', 'pop rock', 'rock', 'singer-songwriter', 'soft rock'\",\n",
      "        b\"'classic rock', 'folk', 'folk rock', 'mellow gold', 'rock', 'roots rock', 'singer-songwriter', 'soft rock'\",\n",
      "        b\"'dance pop', 'pop', 'post-teen pop'\",\n",
      "        b\"'classic rock', 'glam rock', 'rock'\",\n",
      "        b\"'dance pop', 'pop', 'urban contemporary'\"]], dtype=object)>, 'artist_name_can': <tf.Tensor: shape=(3,), dtype=string, numpy=array([b'Alex Goot', b'The Amity Affliction', b'B.o.B'], dtype=object)>, 'artist_name_pl': <tf.Tensor: shape=(3, 6), dtype=string, numpy=\n",
      "array([[b'Vanessa Carlton', b'Avril Lavigne', b'Avril Lavigne',\n",
      "        b'Avril Lavigne', b'Alex Goot', b'Tim McGraw'],\n",
      "       [b'The Animal In Me', b'Our Last Night', b'Main-De-Gloire',\n",
      "        b'The Amity Affliction', b'SycAmour', b'The Animal In Me'],\n",
      "       [b'B.o.B', b'Tom Petty', b'Van Morrison', b'Nick Jonas', b'Queen',\n",
      "        b'Whitney Houston']], dtype=object)>, 'artist_pop_can': <tf.Tensor: shape=(3,), dtype=float32, numpy=array([57., 65., 77.], dtype=float32)>, 'artist_pop_pl': <tf.Tensor: shape=(3, 6), dtype=float32, numpy=\n",
      "array([[67., 82., 82., 82., 57., 75.],\n",
      "       [50., 71., 46., 65., 43., 50.],\n",
      "       [77., 72., 75., 70., 88., 80.]], dtype=float32)>, 'artist_uri_can': <tf.Tensor: shape=(3,), dtype=string, numpy=\n",
      "array([b'spotify:artist:66Fb5gJ9SX2WGlqDLUpjux',\n",
      "       b'spotify:artist:6kNKUYGn6VNGsRoXmyoDPK',\n",
      "       b'spotify:artist:5ndkK3dpZLKtBklKjxNQwT'], dtype=object)>, 'artist_uri_pl': <tf.Tensor: shape=(3, 6), dtype=string, numpy=\n",
      "array([[b'spotify:artist:5ILrArfIV0tMURcHJN8Q07',\n",
      "        b'spotify:artist:0p4nmQO2msCgU4IF37Wi3j',\n",
      "        b'spotify:artist:0p4nmQO2msCgU4IF37Wi3j',\n",
      "        b'spotify:artist:0p4nmQO2msCgU4IF37Wi3j',\n",
      "        b'spotify:artist:66Fb5gJ9SX2WGlqDLUpjux',\n",
      "        b'spotify:artist:6roFdX1y5BYSbp60OTJWMd'],\n",
      "       [b'spotify:artist:6hyAYqBdxyramm4W9TB7R0',\n",
      "        b'spotify:artist:00YTqRClk82aMchQQpYMd5',\n",
      "        b'spotify:artist:1YcOnsBEycC9X5OY6kUzmV',\n",
      "        b'spotify:artist:6kNKUYGn6VNGsRoXmyoDPK',\n",
      "        b'spotify:artist:5oo5QQ0oov6jdUk9CECwB7',\n",
      "        b'spotify:artist:6hyAYqBdxyramm4W9TB7R0'],\n",
      "       [b'spotify:artist:5ndkK3dpZLKtBklKjxNQwT',\n",
      "        b'spotify:artist:2UZMlIwnkgAEDBsw1Rejkn',\n",
      "        b'spotify:artist:44NX2ffIYHr6D4n7RaZF7A',\n",
      "        b'spotify:artist:4Rxn7Im3LGfyRkY2FlHhWi',\n",
      "        b'spotify:artist:1dfeR4HaWDbWqFHLkxsg1d',\n",
      "        b'spotify:artist:6XpaIBNiVzIetEPCWDvAFP']], dtype=object)>, 'artists_followers_pl': <tf.Tensor: shape=(3, 6), dtype=float32, numpy=\n",
      "array([[5.2712700e+05, 8.5368420e+06, 8.5368420e+06, 8.5368420e+06,\n",
      "        2.2875600e+05, 3.9247420e+06],\n",
      "       [6.5540000e+04, 9.0158200e+05, 7.4750000e+03, 5.7715900e+05,\n",
      "        2.8674000e+04, 6.5540000e+04],\n",
      "       [1.9531360e+06, 1.8930470e+06, 2.4155560e+06, 7.9906510e+06,\n",
      "        4.0398084e+07, 7.7655300e+06]], dtype=float32)>, 'avg_art_followers_pl_new': <tf.Tensor: shape=(3,), dtype=float32, numpy=array([13801767. ,   450187.5, 10840016. ], dtype=float32)>, 'avg_artist_pop_pl_new': <tf.Tensor: shape=(3,), dtype=float32, numpy=array([73.8125  , 50.934578, 79.48    ], dtype=float32)>, 'avg_track_pop_pl_new': <tf.Tensor: shape=(3,), dtype=float32, numpy=array([37.729168,  8.205607, 61.1     ], dtype=float32)>, 'duration_ms_can': <tf.Tensor: shape=(3,), dtype=float32, numpy=array([185893., 201106., 268320.], dtype=float32)>, 'duration_ms_songs_pl': <tf.Tensor: shape=(3, 6), dtype=float32, numpy=\n",
      "array([[238440., 204000., 225680., 240866., 185893., 276880.],\n",
      "       [246362., 195566., 234000., 201106., 219130., 198981.],\n",
      "       [268320., 256000., 183306., 186893., 179200., 271093.]],\n",
      "      dtype=float32)>, 'num_pl_albums_new': <tf.Tensor: shape=(3,), dtype=float32, numpy=array([43., 53., 45.], dtype=float32)>, 'num_pl_artists_new': <tf.Tensor: shape=(3,), dtype=float32, numpy=array([31., 96., 34.], dtype=float32)>, 'num_pl_followers_src': <tf.Tensor: shape=(3,), dtype=float32, numpy=array([1., 1., 1.], dtype=float32)>, 'num_pl_songs_new': <tf.Tensor: shape=(3,), dtype=float32, numpy=array([ 48., 107.,  50.], dtype=float32)>, 'pl_collaborative_src': <tf.Tensor: shape=(3,), dtype=string, numpy=array([b'false', b'false', b'false'], dtype=object)>, 'pl_duration_ms_new': <tf.Tensor: shape=(3,), dtype=float32, numpy=array([10803409., 25163150., 11786284.], dtype=float32)>, 'pl_name_src': <tf.Tensor: shape=(3,), dtype=string, numpy=array([b'Twisted', b'Punk Goes', b'tbt'], dtype=object)>, 'time_signature_pl': <tf.Tensor: shape=(3, 6), dtype=string, numpy=\n",
      "array([[b'3', b'4', b'4', b'4', b'4', b'4'],\n",
      "       [b'4', b'4', b'4', b'4', b'4', b'4'],\n",
      "       [b'4', b'4', b'4', b'4', b'4', b'4']], dtype=object)>, 'track_acousticness_can': <tf.Tensor: shape=(3,), dtype=float32, numpy=array([0.827   , 0.000867, 0.386   ], dtype=float32)>, 'track_acousticness_pl': <tf.Tensor: shape=(3, 6), dtype=float32, numpy=\n",
      "array([[2.26e-01, 6.79e-05, 3.37e-02, 2.08e-01, 8.27e-01, 2.16e-02],\n",
      "       [1.38e-03, 9.81e-05, 6.01e-04, 8.67e-04, 1.66e-03, 1.46e-02],\n",
      "       [3.86e-01, 2.12e-01, 1.85e-01, 4.60e-01, 3.78e-01, 8.45e-01]],\n",
      "      dtype=float32)>, 'track_danceability_can': <tf.Tensor: shape=(3,), dtype=float32, numpy=array([0.583, 0.231, 0.688], dtype=float32)>, 'track_danceability_pl': <tf.Tensor: shape=(3, 6), dtype=float32, numpy=\n",
      "array([[0.319, 0.487, 0.456, 0.456, 0.583, 0.47 ],\n",
      "       [0.536, 0.539, 0.372, 0.231, 0.553, 0.573],\n",
      "       [0.688, 0.623, 0.491, 0.513, 0.268, 0.332]], dtype=float32)>, 'track_energy_can': <tf.Tensor: shape=(3,), dtype=float32, numpy=array([0.454, 0.855, 0.853], dtype=float32)>, 'track_energy_pl': <tf.Tensor: shape=(3, 6), dtype=float32, numpy=\n",
      "array([[0.671, 0.9  , 0.862, 0.714, 0.454, 0.79 ],\n",
      "       [0.928, 0.903, 0.972, 0.855, 0.886, 0.96 ],\n",
      "       [0.853, 0.449, 0.583, 0.496, 0.459, 0.214]], dtype=float32)>, 'track_instrumentalness_can': <tf.Tensor: shape=(3,), dtype=float32, numpy=array([0., 0., 0.], dtype=float32)>, 'track_instrumentalness_pl': <tf.Tensor: shape=(3, 6), dtype=float32, numpy=\n",
      "array([[0.00e+00, 0.00e+00, 0.00e+00, 0.00e+00, 0.00e+00, 0.00e+00],\n",
      "       [0.00e+00, 1.76e-01, 4.53e-04, 0.00e+00, 0.00e+00, 2.95e-05],\n",
      "       [0.00e+00, 0.00e+00, 0.00e+00, 0.00e+00, 0.00e+00, 5.62e-06]],\n",
      "      dtype=float32)>, 'track_key_can': <tf.Tensor: shape=(3,), dtype=string, numpy=array([b'3', b'9', b'10'], dtype=object)>, 'track_key_pl': <tf.Tensor: shape=(3, 6), dtype=string, numpy=\n",
      "array([[b'0', b'0', b'4', b'4', b'3', b'2'],\n",
      "       [b'9', b'2', b'0', b'9', b'2', b'4'],\n",
      "       [b'10', b'5', b'7', b'11', b'10', b'4']], dtype=object)>, 'track_liveness_can': <tf.Tensor: shape=(3,), dtype=float32, numpy=array([0.0822, 0.289 , 0.0862], dtype=float32)>, 'track_liveness_pl': <tf.Tensor: shape=(3, 6), dtype=float32, numpy=\n",
      "array([[0.169 , 0.358 , 0.172 , 0.296 , 0.0822, 0.0863],\n",
      "       [0.113 , 0.149 , 0.364 , 0.289 , 0.0655, 0.196 ],\n",
      "       [0.0862, 0.0613, 0.406 , 0.106 , 0.118 , 0.0839]], dtype=float32)>, 'track_loudness_can': <tf.Tensor: shape=(3,), dtype=float32, numpy=array([-8.518, -6.288, -5.814], dtype=float32)>, 'track_loudness_pl': <tf.Tensor: shape=(3, 6), dtype=float32, numpy=\n",
      "array([[ -3.323,  -4.417,  -3.818,  -3.98 ,  -8.518,  -5.352],\n",
      "       [ -4.923,  -6.038,  -3.966,  -6.288,  -4.394,  -5.472],\n",
      "       [ -5.814, -13.333, -10.964,  -6.049,  -6.94 , -12.518]],\n",
      "      dtype=float32)>, 'track_mode_can': <tf.Tensor: shape=(3,), dtype=string, numpy=array([b'1', b'0', b'1'], dtype=object)>, 'track_mode_pl': <tf.Tensor: shape=(3, 6), dtype=string, numpy=\n",
      "array([[b'1', b'1', b'1', b'0', b'1', b'1'],\n",
      "       [b'0', b'1', b'1', b'0', b'0', b'1'],\n",
      "       [b'1', b'1', b'1', b'1', b'1', b'1']], dtype=object)>, 'track_name_can': <tf.Tensor: shape=(3,), dtype=string, numpy=\n",
      "array([b'Clarity', b'Can\\xe2\\x80\\x99t Feel My Face',\n",
      "       b\"Nothin' On You (feat. Bruno Mars)\"], dtype=object)>, 'track_name_pl': <tf.Tensor: shape=(3, 6), dtype=string, numpy=\n",
      "array([[b'Ordinary Day', b'Sk8er Boi', b'Wish You Were Here',\n",
      "        b\"When You're Gone\", b'Clarity', b\"Highway Don't Care\"],\n",
      "       [b'Starboy', b'HUMBLE.', b'Shake It Off',\n",
      "        b'Can\\xe2\\x80\\x99t Feel My Face',\n",
      "        b'Set Fire To The Rain (Adele Cover)', b'Problem'],\n",
      "       [b\"Nothin' On You (feat. Bruno Mars)\", b\"Free Fallin'\",\n",
      "        b'Brown Eyed Girl', b'Introducing Me',\n",
      "        b'We Are The Champions - Remastered 2011',\n",
      "        b'I Will Always Love You']], dtype=object)>, 'track_pop_can': <tf.Tensor: shape=(3,), dtype=float32, numpy=array([32.,  0., 78.], dtype=float32)>, 'track_pop_pl': <tf.Tensor: shape=(3, 6), dtype=float32, numpy=\n",
      "array([[ 0.,  0.,  0.,  0., 32., 67.],\n",
      "       [ 0., 59.,  0.,  0.,  0.,  0.],\n",
      "       [78., 81., 82., 68., 77., 80.]], dtype=float32)>, 'track_speechiness_can': <tf.Tensor: shape=(3,), dtype=float32, numpy=array([0.031 , 0.0589, 0.0493], dtype=float32)>, 'track_speechiness_pl': <tf.Tensor: shape=(3, 6), dtype=float32, numpy=\n",
      "array([[0.0329, 0.0482, 0.05  , 0.0332, 0.031 , 0.039 ],\n",
      "       [0.0494, 0.0389, 0.101 , 0.0589, 0.035 , 0.159 ],\n",
      "       [0.0493, 0.0253, 0.0376, 0.0511, 0.0346, 0.0349]], dtype=float32)>, 'track_tempo_can': <tf.Tensor: shape=(3,), dtype=float32, numpy=array([125.052, 108.089, 103.993], dtype=float32)>, 'track_tempo_pl': <tf.Tensor: shape=(3, 6), dtype=float32, numpy=\n",
      "array([[185.256, 149.937, 165.991, 142.072, 125.052, 158.061],\n",
      "       [ 93.022, 150.028, 160.656, 108.089, 115.04 , 102.536],\n",
      "       [103.993,  84.383, 150.566, 113.072,  64.177,  67.531]],\n",
      "      dtype=float32)>, 'track_time_signature_can': <tf.Tensor: shape=(3,), dtype=string, numpy=array([b'4', b'4', b'4'], dtype=object)>, 'track_uri_can': <tf.Tensor: shape=(3,), dtype=string, numpy=\n",
      "array([b'spotify:track:6KJcEmFDUHX6zt8Rhuf0AW',\n",
      "       b'spotify:track:4dZEkHDfbTIOWaO5RP3F8e',\n",
      "       b'spotify:track:59dLtGBS26x7kc0rHbaPrq'], dtype=object)>, 'track_uri_pl': <tf.Tensor: shape=(3, 6), dtype=string, numpy=\n",
      "array([[b'spotify:track:0ua956J0x3UIq9xL4qtRcY',\n",
      "        b'spotify:track:4omisSlTk6Dsq2iQD7MA07',\n",
      "        b'spotify:track:3VcaQY2NiZuZEOKNghNhqe',\n",
      "        b'spotify:track:4VdYpmlf6EDmqbAcWc2jt7',\n",
      "        b'spotify:track:6KJcEmFDUHX6zt8Rhuf0AW',\n",
      "        b'spotify:track:4wFUdSCer8bdQsrp1M90sa'],\n",
      "       [b'spotify:track:4LceuFIJXzhCJ9iJsYmf0f',\n",
      "        b'spotify:track:0aLrHZKT7pcszo0e5SiMIG',\n",
      "        b'spotify:track:2VGKjMrBDhuAvUffdnyQQE',\n",
      "        b'spotify:track:4dZEkHDfbTIOWaO5RP3F8e',\n",
      "        b'spotify:track:0j4VpNPPyC8Xa6acNCMe5j',\n",
      "        b'spotify:track:35alfara6BTnNgyFLiWVcC'],\n",
      "       [b'spotify:track:59dLtGBS26x7kc0rHbaPrq',\n",
      "        b'spotify:track:5tVA6TkbaAH9QMITTQRrNv',\n",
      "        b'spotify:track:3yrSvpt2l1xhsV9Em88Pul',\n",
      "        b'spotify:track:74tQaH4CxM5Rs9BzerEbHr',\n",
      "        b'spotify:track:1lCRw5FEZ1gPDNPzy1K4zW',\n",
      "        b'spotify:track:4eHbdreAnSOrDDsFfc4Fpm']], dtype=object)>, 'track_valence_can': <tf.Tensor: shape=(3,), dtype=float32, numpy=array([0.647, 0.316, 0.743], dtype=float32)>, 'track_valence_pl': <tf.Tensor: shape=(3, 6), dtype=float32, numpy=\n",
      "array([[0.409, 0.484, 0.337, 0.155, 0.647, 0.495],\n",
      "       [0.569, 0.445, 0.318, 0.316, 0.32 , 0.431],\n",
      "       [0.743, 0.572, 0.908, 0.676, 0.175, 0.11 ]], dtype=float32)>}\n"
     ]
    }
   ],
   "source": [
    "for x in train_parsed.batch(3).take(1):\n",
    "    print(x)"
   ]
  },
  {
   "cell_type": "code",
   "execution_count": null,
   "id": "4fd6a4a3-5177-4c58-b617-bae3cf89cbb0",
   "metadata": {},
   "outputs": [],
   "source": []
  }
 ],
 "metadata": {
  "environment": {
   "kernel": "python3",
   "name": "tf2-gpu.2-8.m97",
   "type": "gcloud",
   "uri": "gcr.io/deeplearning-platform-release/tf2-gpu.2-8:m97"
  },
  "kernelspec": {
   "display_name": "Python 3",
   "language": "python",
   "name": "python3"
  },
  "language_info": {
   "codemirror_mode": {
    "name": "ipython",
    "version": 3
   },
   "file_extension": ".py",
   "mimetype": "text/x-python",
   "name": "python",
   "nbconvert_exporter": "python",
   "pygments_lexer": "ipython3",
   "version": "3.7.12"
  }
 },
 "nbformat": 4,
 "nbformat_minor": 5
}
