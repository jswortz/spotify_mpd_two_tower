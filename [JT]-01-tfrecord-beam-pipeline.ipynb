{
 "cells": [
  {
   "cell_type": "markdown",
   "id": "1df6c870-747a-44c2-854e-bcd5ed14f320",
   "metadata": {
    "tags": []
   },
   "source": [
    "## Beam conversion from Bigquery to TF Records\n",
    "\n",
    "In this notebook we use Apache Beam to convert to tfrecords\n",
    "The applications can be found in `beam_candidates` and `beam_training` for candidate generation and training"
   ]
  },
  {
   "cell_type": "markdown",
   "id": "0e0f365f-5d78-4114-b741-311ffcc64884",
   "metadata": {},
   "source": [
    "`pip install --upgrade 'apache-beam[gcp]'`\n",
    "\n",
    "#### IMPORTANT - make sure you upgrade Dataflow with the above command then restart the notebook"
   ]
  },
  {
   "cell_type": "code",
   "execution_count": 13,
   "id": "1bab01ef-6f4f-47fe-8f54-56bae24cae25",
   "metadata": {
    "tags": []
   },
   "outputs": [],
   "source": [
    "# !pip install --upgrade 'apache-beam[gcp]' --user"
   ]
  },
  {
   "cell_type": "code",
   "execution_count": 2,
   "id": "3148ce99-d7d0-4298-a3d3-4ea5a1aee30b",
   "metadata": {},
   "outputs": [
    {
     "name": "stderr",
     "output_type": "stream",
     "text": [
      "2023-01-03 21:23:20.961872: E tensorflow/stream_executor/cuda/cuda_blas.cc:2981] Unable to register cuBLAS factory: Attempting to register factory for plugin cuBLAS when one has already been registered\n"
     ]
    }
   ],
   "source": [
    "import os \n",
    "\n",
    "os.environ['TF_CPP_MIN_LOG_LEVEL'] = '2' \n",
    "\n",
    "import tensorflow as tf"
   ]
  },
  {
   "cell_type": "code",
   "execution_count": null,
   "id": "a3f2a517-0db0-40c0-8e70-19c6a07a495f",
   "metadata": {},
   "outputs": [],
   "source": [
    "GCP_PROJECTS = !gcloud config get-value project\n",
    "PROJECT_ID = GCP_PROJECTS[0]\n",
    "BUCKET_NAME = f\"{PROJECT_ID}-tfrs-retrieval\"\n",
    "config = !gsutil cat gs://{BUCKET_NAME}/config/notebook_env.py\n",
    "print(config.n)\n",
    "exec(config.n)\n",
    "\n",
    "# setup\n",
    "# PROJECT_ID = 'hybrid-vertex'\n",
    "# BUCKET_NAME = 'spotify-beam-v3' # 'spotify-tfrecords-blog' # Set your Bucket name\n",
    "# REGION = 'us-central1' # Set the region for Dataflow jobs"
   ]
  },
  {
   "cell_type": "code",
   "execution_count": 3,
   "id": "5227d2ae-c04a-4ae7-b61a-d65233a80f14",
   "metadata": {},
   "outputs": [],
   "source": [
    "# TODO - parameterize these?\n",
    "\n",
    "# BUCKET = 'spotify-data-regimes'\n",
    "# CANDIDATE_PREFIX = 'jtv1-candidates'\n",
    "\n",
    "train_dir = 'spotify-data-regimes'\n",
    "train_dir_prefix = 'jtv8/train_flat_valid_last_5_v8/'\n",
    "\n",
    "valid_dir = 'spotify-data-regimes'\n",
    "valid_dir_prefix = 'jtv8/train_flat_last_5_v8/'\n",
    "\n",
    "VERSION=\"jtv10\""
   ]
  },
  {
   "cell_type": "code",
   "execution_count": 3,
   "id": "54e67f5f-2539-407f-8f24-3be640420f9c",
   "metadata": {},
   "outputs": [],
   "source": [
    "! gsutil ls -al gs://$BUCKET_NAME"
   ]
  },
  {
   "cell_type": "markdown",
   "id": "6babbe19-0ea7-42cc-ac89-db2705f4ae16",
   "metadata": {},
   "source": [
    "### Run the Dataflow app to convert from BQ to TFrecords\n",
    "\n",
    "Candidate generation can be found in `beam_candidates`\n",
    "Training and Validation generation can be found in `beam_training`\n",
    "\n",
    "Usage:\n",
    "\n",
    "  Candidate generation \n",
    "  \n",
    "  `beam_candidates\\python3 main.py`\n",
    "   \n",
    "  Training generation\n",
    "  \n",
    "  `beam_training\\python3 main-train.py <BQ_table> <gcs data subfolder> <desired partition size MB> <BQ dataset size MB> <version tag>`\n",
    "  \n",
    "  \n",
    "##### Be careful with quotas - running more than two jobs can run into quota issues with defaults\n",
    "\n",
    "Training data generation runs about 1 hour with 10 workers"
   ]
  },
  {
   "cell_type": "code",
   "execution_count": 8,
   "id": "1d2cb50a-b8a7-4b72-bf2e-1ab7290a25bd",
   "metadata": {
    "tags": []
   },
   "outputs": [],
   "source": [
    "# !tree beam_candidates"
   ]
  },
  {
   "cell_type": "code",
   "execution_count": 5,
   "id": "e8b0304b-3da3-45f7-831d-413d2d248b48",
   "metadata": {
    "tags": []
   },
   "outputs": [
    {
     "name": "stdout",
     "output_type": "stream",
     "text": [
      "\u001b[01;34mbeam_training\u001b[00m\n",
      "├── README.MD\n",
      "├── __init__.py\n",
      "├── \u001b[01;34mbeam_training\u001b[00m\n",
      "├── \u001b[01;34mcreate_tfrecords_training.egg-info\u001b[00m\n",
      "│   ├── PKG-INFO\n",
      "│   ├── SOURCES.txt\n",
      "│   ├── dependency_links.txt\n",
      "│   ├── requires.txt\n",
      "│   └── top_level.txt\n",
      "├── main-train.py\n",
      "├── setup.py\n",
      "└── \u001b[01;34mtrain_pipeline\u001b[00m\n",
      "    ├── __init__.py\n",
      "    ├── \u001b[01;34m__pycache__\u001b[00m\n",
      "    │   ├── __init__.cpython-37.pyc\n",
      "    │   ├── train_pipe.cpython-37.pyc\n",
      "    │   └── train_pipe_shape.cpython-37.pyc\n",
      "    └── train_pipe_shape.py\n",
      "\n",
      "4 directories, 14 files\n"
     ]
    }
   ],
   "source": [
    "!tree beam_training"
   ]
  },
  {
   "cell_type": "code",
   "execution_count": 4,
   "id": "79a764cd-f14b-4f88-8314-4c1e5bf77bf2",
   "metadata": {},
   "outputs": [
    {
     "data": {
      "text/plain": [
       "'/home/jupyter/jw-repo/spotify_mpd_two_tower'"
      ]
     },
     "execution_count": 4,
     "metadata": {},
     "output_type": "execute_result"
    }
   ],
   "source": [
    "import os \n",
    "os.chdir('/home/jupyter/jw-repo/spotify_mpd_two_tower')\n",
    "os.getcwd()"
   ]
  },
  {
   "cell_type": "code",
   "execution_count": 7,
   "id": "81357053-6541-4fd2-8e04-b96474b797b1",
   "metadata": {},
   "outputs": [
    {
     "name": "stdout",
     "output_type": "stream",
     "text": [
      "/home/jupyter/jw-repo/spotify_mpd_two_tower/beam_training\n"
     ]
    }
   ],
   "source": [
    "%cd beam_training"
   ]
  },
  {
   "cell_type": "markdown",
   "id": "9676650b-0caf-47b9-b973-b7c9466fb77f",
   "metadata": {},
   "source": [
    "### BQ Talble sizes (Mb)\n",
    "train_bq_mb = 102780\n",
    "valid_bq_mb = 1040"
   ]
  },
  {
   "cell_type": "code",
   "execution_count": 8,
   "id": "018443bc-4a35-419f-9a0d-f4af66e26ed8",
   "metadata": {},
   "outputs": [],
   "source": [
    "import time"
   ]
  },
  {
   "cell_type": "markdown",
   "id": "dc3af313-e958-4e62-ac0a-8482dc8763c4",
   "metadata": {},
   "source": [
    "### Validation set"
   ]
  },
  {
   "cell_type": "code",
   "execution_count": 9,
   "id": "c23e4e85-b611-42f1-b8e5-023ffb49919e",
   "metadata": {},
   "outputs": [
    {
     "data": {
      "text/plain": [
       "6"
      ]
     },
     "execution_count": 9,
     "metadata": {},
     "output_type": "execute_result"
    }
   ],
   "source": [
    "target_shard_size_mb = 200\n",
    "total_mb_train = 1_280\n",
    "NUM_TF_RECORDS = int(total_mb_train) // int(target_shard_size_mb)\n",
    "NUM_TF_RECORDS"
   ]
  },
  {
   "cell_type": "code",
   "execution_count": 7,
   "id": "c85ef22a-7aa2-419d-b9e1-78a13a842489",
   "metadata": {},
   "outputs": [],
   "source": [
    "start_time = time.time()\n",
    "\n",
    "! python3 main-train.py valid_flat_last_5_v9 valid_v9 200 1_280 $VERSION\n",
    "\n",
    "end_time = time.time()\n",
    "runtime_mins = int((end_time - start_time) / 60)\n",
    "print(f\"total runtime_mins: {runtime_mins}\")"
   ]
  },
  {
   "cell_type": "markdown",
   "id": "9f5c97d0-3518-45b0-a72f-10ac9f8007ff",
   "metadata": {},
   "source": [
    "### Tain set"
   ]
  },
  {
   "cell_type": "code",
   "execution_count": 3,
   "id": "9896f5e7-975c-441c-99a2-2f19fa444910",
   "metadata": {},
   "outputs": [
    {
     "data": {
      "text/plain": [
       "63"
      ]
     },
     "execution_count": 3,
     "metadata": {},
     "output_type": "execute_result"
    }
   ],
   "source": [
    "target_shard_size_mb = 2000\n",
    "total_mb_train = 126_410\n",
    "NUM_TF_RECORDS = int(total_mb_train) // int(target_shard_size_mb)\n",
    "NUM_TF_RECORDS"
   ]
  },
  {
   "cell_type": "code",
   "execution_count": 6,
   "id": "a6d635a3-cdf4-4537-abba-f7a43275ed78",
   "metadata": {},
   "outputs": [],
   "source": [
    "! python3 main-train.py train_flat_last_5_v9 train_v9 2000 126_410 $VERSION"
   ]
  },
  {
   "cell_type": "markdown",
   "id": "7dacf47b-bd83-47e8-804b-b53471d00e5d",
   "metadata": {},
   "source": [
    "# Now export the candidates\n",
    "\n",
    "**TODO:** clean-up section"
   ]
  },
  {
   "cell_type": "code",
   "execution_count": 8,
   "id": "07d12ea7-be9f-49cb-b7dc-663b7b81a8f6",
   "metadata": {},
   "outputs": [
    {
     "name": "stdout",
     "output_type": "stream",
     "text": [
      "/home/jupyter/jw-repo/spotify_mpd_two_tower/beam_candidates\n"
     ]
    }
   ],
   "source": [
    "%cd beam_candidates"
   ]
  },
  {
   "cell_type": "code",
   "execution_count": 5,
   "id": "350506bc-dadd-4781-84f6-5544fdfc78b1",
   "metadata": {},
   "outputs": [],
   "source": [
    "! python3 main.py"
   ]
  },
  {
   "cell_type": "markdown",
   "id": "e2a33f54-c717-4130-b375-3108836e9e04",
   "metadata": {},
   "source": [
    "## Test the output"
   ]
  },
  {
   "cell_type": "markdown",
   "id": "1c9eb2d9-a81a-4c94-bd70-26eb605037ab",
   "metadata": {},
   "source": [
    "### Candidate files"
   ]
  },
  {
   "cell_type": "code",
   "execution_count": 11,
   "id": "5c7c9dd2-7b32-4cb9-a7f9-97a0b1cdd487",
   "metadata": {},
   "outputs": [
    {
     "name": "stderr",
     "output_type": "stream",
     "text": [
      "2022-12-09 16:38:22.028445: I tensorflow/core/platform/cpu_feature_guard.cc:151] This TensorFlow binary is optimized with oneAPI Deep Neural Network Library (oneDNN) to use the following CPU instructions in performance-critical operations:  AVX2 AVX512F FMA\n",
      "To enable them in other operations, rebuild TensorFlow with the appropriate compiler flags.\n",
      "2022-12-09 16:38:23.740482: I tensorflow/core/common_runtime/gpu/gpu_device.cc:1525] Created device /job:localhost/replica:0/task:0/device:GPU:0 with 38238 MB memory:  -> device: 0, name: NVIDIA A100-SXM4-40GB, pci bus id: 0000:00:04.0, compute capability: 8.0\n"
     ]
    }
   ],
   "source": [
    "## testing output\n",
    "candidate_features = {\n",
    "    \"track_uri_can\":tf.io.FixedLenFeature(dtype=tf.string, shape=()),            \n",
    "    \"track_name_can\":tf.io.FixedLenFeature(dtype=tf.string, shape=()),\n",
    "    \"artist_uri_can\":tf.io.FixedLenFeature(dtype=tf.string, shape=()),\n",
    "    \"artist_name_can\":tf.io.FixedLenFeature(dtype=tf.string, shape=()),\n",
    "    \"album_uri_can\":tf.io.FixedLenFeature(dtype=tf.string, shape=()),           \n",
    "    \"album_name_can\":tf.io.FixedLenFeature(dtype=tf.string, shape=()), \n",
    "    \"duration_ms_can\":tf.io.FixedLenFeature(dtype=tf.float32, shape=()),      \n",
    "    \"track_pop_can\":tf.io.FixedLenFeature(dtype=tf.float32, shape=()),      \n",
    "    \"artist_pop_can\":tf.io.FixedLenFeature(dtype=tf.float32, shape=()),\n",
    "    \"artist_genres_can\":tf.io.FixedLenFeature(dtype=tf.string, shape=()),\n",
    "    \"artist_followers_can\":tf.io.FixedLenFeature(dtype=tf.float32, shape=()),\n",
    "    # new\n",
    "    \"track_pl_titles_can\":tf.io.FixedLenFeature(dtype=tf.string, shape=()),\n",
    "    \"track_danceability_can\":tf.io.FixedLenFeature(dtype=tf.float32, shape=()),\n",
    "    \"track_energy_can\":tf.io.FixedLenFeature(dtype=tf.float32, shape=()),\n",
    "    \"track_key_can\":tf.io.FixedLenFeature(dtype=tf.string, shape=()),\n",
    "    \"track_loudness_can\":tf.io.FixedLenFeature(dtype=tf.float32, shape=()),\n",
    "    \"track_mode_can\":tf.io.FixedLenFeature(dtype=tf.string, shape=()),\n",
    "    \"track_speechiness_can\":tf.io.FixedLenFeature(dtype=tf.float32, shape=()),\n",
    "    \"track_acousticness_can\":tf.io.FixedLenFeature(dtype=tf.float32, shape=()),\n",
    "    \"track_instrumentalness_can\":tf.io.FixedLenFeature(dtype=tf.float32, shape=()),\n",
    "    \"track_liveness_can\":tf.io.FixedLenFeature(dtype=tf.float32, shape=()),\n",
    "    \"track_valence_can\":tf.io.FixedLenFeature(dtype=tf.float32, shape=()),\n",
    "    \"track_tempo_can\":tf.io.FixedLenFeature(dtype=tf.float32, shape=()),\n",
    "    \"time_signature_can\":tf.io.FixedLenFeature(dtype=tf.string, shape=()),\n",
    "}\n",
    "\n",
    "from google.cloud import storage\n",
    "\n",
    "client = storage.Client()\n",
    "\n",
    "# BUCKET = 'spotify-data-regimes'\n",
    "# CANDIDATE_PREFIX = 'jtv1-candidates'\n",
    "\n",
    "# candidate_files = []\n",
    "# for blob in client.list_blobs(f\"{BUCKET_NAME}\", prefix=f'{CANDIDATE_PREFIX}', delimiter=\"/\"):\n",
    "#     candidate_files.append(blob.public_url.replace(\"https://storage.googleapis.com/\", \"gs://\"))\n",
    "\n",
    "candidate_files = f'gs://{BUCKET_NAME}/jtv8/candidates/candidates-00000-of-00001.tfrecords'\n",
    "    \n",
    "candidate_dataset = tf.data.TFRecordDataset(candidate_files)\n",
    "\n",
    "def parse_candidate_tfrecord_fn(example):\n",
    "    example = tf.io.parse_single_example(\n",
    "        example, \n",
    "        features=candidate_features\n",
    "    )\n",
    "    return example\n",
    "\n",
    "# parsed_candidate_dataset = candidate_dataset.map(parse_candidate_tfrecord_fn, num_parallel_calls=-1)\n",
    "\n",
    "parsed_candidate_dataset = candidate_dataset.map(parse_candidate_tfrecord_fn) ### THIS NEEDS TO BE FIXED SO THE UNIQUE PRODUCT DATASET HAS THE SAME FIELD NAMES (goes thru the same model)"
   ]
  },
  {
   "cell_type": "code",
   "execution_count": 12,
   "id": "b57c12cb-6c95-4bac-ba29-4d389babc44c",
   "metadata": {
    "tags": []
   },
   "outputs": [
    {
     "name": "stdout",
     "output_type": "stream",
     "text": [
      "{'album_name_can': <tf.Tensor: shape=(2,), dtype=string, numpy=\n",
      "array([b'Memories of a Time to Come - Best Of', b'Beyond The Red Mirror'],\n",
      "      dtype=object)>,\n",
      " 'album_uri_can': <tf.Tensor: shape=(2,), dtype=string, numpy=\n",
      "array([b'spotify:album:16dXyNDHXadRzHld2AAtfT',\n",
      "       b'spotify:album:5bH9q5EMi147oTykVETEZn'], dtype=object)>,\n",
      " 'artist_followers_can': <tf.Tensor: shape=(2,), dtype=float32, numpy=array([588753., 588753.], dtype=float32)>,\n",
      " 'artist_genres_can': <tf.Tensor: shape=(2,), dtype=string, numpy=\n",
      "array([b\"'german metal', 'german power metal', 'hard rock', 'melodic metal', 'metal', 'neo classical metal', 'power metal', 'speed metal'\",\n",
      "       b\"'german metal', 'german power metal', 'hard rock', 'melodic metal', 'metal', 'neo classical metal', 'power metal', 'speed metal'\"],\n",
      "      dtype=object)>,\n",
      " 'artist_name_can': <tf.Tensor: shape=(2,), dtype=string, numpy=array([b'Blind Guardian', b'Blind Guardian'], dtype=object)>,\n",
      " 'artist_pop_can': <tf.Tensor: shape=(2,), dtype=float32, numpy=array([59., 59.], dtype=float32)>,\n",
      " 'artist_uri_can': <tf.Tensor: shape=(2,), dtype=string, numpy=\n",
      "array([b'spotify:artist:7jxJ25p0pPjk0MStloN6o6',\n",
      "       b'spotify:artist:7jxJ25p0pPjk0MStloN6o6'], dtype=object)>,\n",
      " 'duration_ms_can': <tf.Tensor: shape=(2,), dtype=float32, numpy=array([316706., 183693.], dtype=float32)>,\n",
      " 'time_signature_can': <tf.Tensor: shape=(2,), dtype=string, numpy=array([b'4', b'4'], dtype=object)>,\n",
      " 'track_acousticness_can': <tf.Tensor: shape=(2,), dtype=float32, numpy=array([5.06e-05, 9.03e-01], dtype=float32)>,\n",
      " 'track_danceability_can': <tf.Tensor: shape=(2,), dtype=float32, numpy=array([0.375, 0.603], dtype=float32)>,\n",
      " 'track_energy_can': <tf.Tensor: shape=(2,), dtype=float32, numpy=array([0.885, 0.181], dtype=float32)>,\n",
      " 'track_instrumentalness_can': <tf.Tensor: shape=(2,), dtype=float32, numpy=array([0.0991, 0.    ], dtype=float32)>,\n",
      " 'track_key_can': <tf.Tensor: shape=(2,), dtype=string, numpy=array([b'1', b'7'], dtype=object)>,\n",
      " 'track_liveness_can': <tf.Tensor: shape=(2,), dtype=float32, numpy=array([0.408, 0.11 ], dtype=float32)>,\n",
      " 'track_loudness_can': <tf.Tensor: shape=(2,), dtype=float32, numpy=array([ -7.883, -14.916], dtype=float32)>,\n",
      " 'track_mode_can': <tf.Tensor: shape=(2,), dtype=string, numpy=array([b'1', b'1'], dtype=object)>,\n",
      " 'track_name_can': <tf.Tensor: shape=(2,), dtype=string, numpy=array([b'Bright Eyes - Remix 2011', b'Miracle Machine'], dtype=object)>,\n",
      " 'track_pl_titles_can': <tf.Tensor: shape=(2,), dtype=string, numpy=\n",
      "array([b'metal',\n",
      "       b'my favorite music stuff blind guardian work out 2 metal power metal folk metal'],\n",
      "      dtype=object)>,\n",
      " 'track_pop_can': <tf.Tensor: shape=(2,), dtype=float32, numpy=array([0., 0.], dtype=float32)>,\n",
      " 'track_speechiness_can': <tf.Tensor: shape=(2,), dtype=float32, numpy=array([0.04  , 0.0329], dtype=float32)>,\n",
      " 'track_tempo_can': <tf.Tensor: shape=(2,), dtype=float32, numpy=array([ 93.926, 151.644], dtype=float32)>,\n",
      " 'track_uri_can': <tf.Tensor: shape=(2,), dtype=string, numpy=\n",
      "array([b'spotify:track:3ldGsqvPATz4LfXEKXnEoQ',\n",
      "       b'spotify:track:7buanWThOK4hk2DhkBuaKb'], dtype=object)>,\n",
      " 'track_valence_can': <tf.Tensor: shape=(2,), dtype=float32, numpy=array([0.355, 0.315], dtype=float32)>}\n"
     ]
    }
   ],
   "source": [
    "from pprint import pprint\n",
    "\n",
    "for x in parsed_candidate_dataset.batch(2).take(1):\n",
    "    pprint(x)"
   ]
  },
  {
   "cell_type": "markdown",
   "id": "973f835e-fb68-4610-92a5-3f4c9547923d",
   "metadata": {},
   "source": [
    "### valid files"
   ]
  },
  {
   "cell_type": "code",
   "execution_count": 13,
   "id": "49445d15-3782-42e3-9820-8494ad67ac7d",
   "metadata": {
    "tags": []
   },
   "outputs": [],
   "source": [
    "MAX_PLAYLIST_LENGTH = 5\n",
    "\n",
    "feats = {\n",
    "    # ===================================================\n",
    "    # candidate track features\n",
    "    # ===================================================\n",
    "    \"track_uri_can\":tf.io.FixedLenFeature(dtype=tf.string, shape=()),            \n",
    "    \"track_name_can\":tf.io.FixedLenFeature(dtype=tf.string, shape=()),\n",
    "    \"artist_uri_can\":tf.io.FixedLenFeature(dtype=tf.string, shape=()),\n",
    "    \"artist_name_can\":tf.io.FixedLenFeature(dtype=tf.string, shape=()),\n",
    "    \"album_uri_can\":tf.io.FixedLenFeature(dtype=tf.string, shape=()),           \n",
    "    \"album_name_can\":tf.io.FixedLenFeature(dtype=tf.string, shape=()), \n",
    "    \"duration_ms_can\":tf.io.FixedLenFeature(dtype=tf.float32, shape=()),      \n",
    "    \"track_pop_can\":tf.io.FixedLenFeature(dtype=tf.float32, shape=()),      \n",
    "    \"artist_pop_can\":tf.io.FixedLenFeature(dtype=tf.float32, shape=()),\n",
    "    \"artist_genres_can\":tf.io.FixedLenFeature(dtype=tf.string, shape=()),\n",
    "    \"artist_followers_can\":tf.io.FixedLenFeature(dtype=tf.float32, shape=()),\n",
    "    \"track_pl_titles_can\":tf.io.FixedLenFeature(dtype=tf.string, shape=()),\n",
    "    \"track_danceability_can\":tf.io.FixedLenFeature(dtype=tf.float32, shape=()),\n",
    "    \"track_energy_can\":tf.io.FixedLenFeature(dtype=tf.float32, shape=()),\n",
    "    \"track_key_can\":tf.io.FixedLenFeature(dtype=tf.string, shape=()),\n",
    "    \"track_loudness_can\":tf.io.FixedLenFeature(dtype=tf.float32, shape=()),\n",
    "    \"track_mode_can\":tf.io.FixedLenFeature(dtype=tf.string, shape=()),\n",
    "    \"track_speechiness_can\":tf.io.FixedLenFeature(dtype=tf.float32, shape=()),\n",
    "    \"track_acousticness_can\":tf.io.FixedLenFeature(dtype=tf.float32, shape=()),\n",
    "    \"track_instrumentalness_can\":tf.io.FixedLenFeature(dtype=tf.float32, shape=()),\n",
    "    \"track_liveness_can\":tf.io.FixedLenFeature(dtype=tf.float32, shape=()),\n",
    "    \"track_valence_can\":tf.io.FixedLenFeature(dtype=tf.float32, shape=()),\n",
    "    \"track_tempo_can\":tf.io.FixedLenFeature(dtype=tf.float32, shape=()),\n",
    "    \"time_signature_can\": tf.io.FixedLenFeature(dtype=tf.string, shape=()),\n",
    "    # ===================================================\n",
    "    # summary playlist features\n",
    "    # ===================================================\n",
    "    \"pl_name_src\" : tf.io.FixedLenFeature(dtype=tf.string, shape=()), \n",
    "    'pl_collaborative_src' : tf.io.FixedLenFeature(dtype=tf.string, shape=()), \n",
    "    # 'num_pl_followers_src' : tf.io.FixedLenFeature(dtype=tf.float32, shape=()), \n",
    "    'pl_duration_ms_new' : tf.io.FixedLenFeature(dtype=tf.float32, shape=()), \n",
    "    'num_pl_songs_new' : tf.io.FixedLenFeature(dtype=tf.float32, shape=()),  # num_pl_songs_new | n_songs_pl_new\n",
    "    'num_pl_artists_new' : tf.io.FixedLenFeature(dtype=tf.float32, shape=()), \n",
    "    'num_pl_albums_new' : tf.io.FixedLenFeature(dtype=tf.float32, shape=()), \n",
    "    # 'avg_track_pop_pl_new' : tf.io.FixedLenFeature(dtype=tf.float32, shape=()), \n",
    "    # 'avg_artist_pop_pl_new' : tf.io.FixedLenFeature(dtype=tf.float32, shape=()),\n",
    "    # 'avg_art_followers_pl_new' : tf.io.FixedLenFeature(dtype=tf.float32, shape=()),\n",
    "    # ===================================================\n",
    "    # ragged playlist features\n",
    "    # ===================================================\n",
    "    # bytes / string\n",
    "    \"track_uri_pl\": tf.io.FixedLenFeature(dtype=tf.string, shape=(MAX_PLAYLIST_LENGTH,)), \n",
    "    \"track_name_pl\": tf.io.FixedLenFeature(dtype=tf.string, shape=(MAX_PLAYLIST_LENGTH,)), \n",
    "    \"artist_uri_pl\": tf.io.FixedLenFeature(dtype=tf.string, shape=(MAX_PLAYLIST_LENGTH,)), \n",
    "    \"artist_name_pl\": tf.io.FixedLenFeature(dtype=tf.string, shape=(MAX_PLAYLIST_LENGTH,)),\n",
    "    \"album_uri_pl\": tf.io.FixedLenFeature(dtype=tf.string, shape=(MAX_PLAYLIST_LENGTH,)), \n",
    "    \"album_name_pl\": tf.io.FixedLenFeature(dtype=tf.string, shape=(MAX_PLAYLIST_LENGTH,)), \n",
    "    \"artist_genres_pl\": tf.io.FixedLenFeature(dtype=tf.string, shape=(MAX_PLAYLIST_LENGTH,)), \n",
    "    \"tracks_playlist_titles_pl\": tf.io.FixedLenFeature(dtype=tf.string, shape=(MAX_PLAYLIST_LENGTH,)),\n",
    "    # Float List\n",
    "    \"duration_ms_songs_pl\": tf.io.FixedLenFeature(dtype=tf.float32, shape=(MAX_PLAYLIST_LENGTH,)), \n",
    "    \"track_pop_pl\": tf.io.FixedLenFeature(dtype=tf.float32, shape=(MAX_PLAYLIST_LENGTH,)), \n",
    "    \"artist_pop_pl\": tf.io.FixedLenFeature(dtype=tf.float32, shape=(MAX_PLAYLIST_LENGTH,)), \n",
    "    \"artists_followers_pl\": tf.io.FixedLenFeature(dtype=tf.float32, shape=(MAX_PLAYLIST_LENGTH,)),\n",
    "    \"track_danceability_pl\": tf.io.FixedLenFeature(dtype=tf.float32, shape=(MAX_PLAYLIST_LENGTH,)),\n",
    "    \"track_energy_pl\": tf.io.FixedLenFeature(dtype=tf.float32, shape=(MAX_PLAYLIST_LENGTH,)),\n",
    "    \"track_key_pl\": tf.io.FixedLenFeature(dtype=tf.string, shape=(MAX_PLAYLIST_LENGTH,)), \n",
    "    \"track_loudness_pl\": tf.io.FixedLenFeature(dtype=tf.float32, shape=(MAX_PLAYLIST_LENGTH,)),\n",
    "    \"track_mode_pl\": tf.io.FixedLenFeature(dtype=tf.string, shape=(MAX_PLAYLIST_LENGTH,)),\n",
    "    \"track_speechiness_pl\": tf.io.FixedLenFeature(dtype=tf.float32, shape=(MAX_PLAYLIST_LENGTH,)),\n",
    "    \"track_acousticness_pl\": tf.io.FixedLenFeature(dtype=tf.float32, shape=(MAX_PLAYLIST_LENGTH,)),\n",
    "    \"track_instrumentalness_pl\": tf.io.FixedLenFeature(dtype=tf.float32, shape=(MAX_PLAYLIST_LENGTH,)),\n",
    "    \"track_liveness_pl\": tf.io.FixedLenFeature(dtype=tf.float32, shape=(MAX_PLAYLIST_LENGTH,)), \n",
    "    \"track_valence_pl\": tf.io.FixedLenFeature(dtype=tf.float32, shape=(MAX_PLAYLIST_LENGTH,)),\n",
    "    \"track_tempo_pl\": tf.io.FixedLenFeature(dtype=tf.float32, shape=(MAX_PLAYLIST_LENGTH,)), \n",
    "    \"time_signature_pl\": tf.io.FixedLenFeature(dtype=tf.string, shape=(MAX_PLAYLIST_LENGTH,)), \n",
    "}\n"
   ]
  },
  {
   "cell_type": "code",
   "execution_count": 14,
   "id": "bdad96f5-0e70-427b-9525-081406b9c80f",
   "metadata": {},
   "outputs": [],
   "source": [
    "## testing output\n",
    "from google.cloud import storage\n",
    "\n",
    "client = storage.Client()\n",
    "# # gs://spotify-beam-v3/v3/candidates/*.tfrecords\n",
    "\n",
    "train_dir = 'spotify-data-regimes'\n",
    "train_dir_prefix = 'jtv8/train_flat_valid_last_5_v8/'\n",
    "\n",
    "valid_files = []\n",
    "for blob in client.list_blobs(f\"{train_dir}\", prefix=f'{train_dir_prefix}', delimiter=\"/\"):\n",
    "    valid_files.append(blob.public_url.replace(\"https://storage.googleapis.com/\", \"gs://\"))\n",
    "    \n",
    "valid = tf.data.TFRecordDataset(valid_files)\n",
    "\n",
    "def parse_tfrecord(example):\n",
    "    example = tf.io.parse_single_example(\n",
    "        example, \n",
    "        features=feats\n",
    "    )\n",
    "    return example\n",
    "\n",
    "# parsed_candidate_dataset = candidate_dataset.map(parse_candidate_tfrecord_fn, num_parallel_calls=-1)\n",
    "\n",
    "valid_parsed = valid.map(parse_tfrecord)"
   ]
  },
  {
   "cell_type": "code",
   "execution_count": 4,
   "id": "7b733662-a8d9-4581-9a24-fc02265569e4",
   "metadata": {},
   "outputs": [],
   "source": [
    "valid_parsed"
   ]
  },
  {
   "cell_type": "code",
   "execution_count": 3,
   "id": "a6b87491-5706-4204-a19e-582612c1b439",
   "metadata": {
    "tags": []
   },
   "outputs": [],
   "source": [
    "for x in valid_parsed.batch(1).take(1):\n",
    "    print(x)"
   ]
  },
  {
   "cell_type": "markdown",
   "id": "b6031b7e-fcbb-4139-a6c6-75d8a63e6c54",
   "metadata": {},
   "source": [
    "### train files"
   ]
  },
  {
   "cell_type": "code",
   "execution_count": 17,
   "id": "1f5fc764-c1ca-4346-8fcd-bd9e2939d722",
   "metadata": {},
   "outputs": [],
   "source": [
    "## testing output\n",
    "from google.cloud import storage\n",
    "\n",
    "client = storage.Client()\n",
    "\n",
    "train_dir = 'spotify-data-regimes'\n",
    "train_dir_prefix = 'jtv8/train_flat_last_5_v8/'\n",
    "\n",
    "\n",
    "train_files = []\n",
    "for blob in client.list_blobs(f\"{train_dir}\", prefix=f'{train_dir_prefix}', delimiter=\"/\"):\n",
    "    train_files.append(blob.public_url.replace(\"https://storage.googleapis.com/\", \"gs://\"))\n",
    "    \n",
    "train = tf.data.TFRecordDataset(train_files)\n",
    "\n",
    "def parse_tfrecord(example):\n",
    "    example = tf.io.parse_single_example(\n",
    "        example, \n",
    "        features=feats\n",
    "    )\n",
    "    return example\n",
    "\n",
    "# parsed_candidate_dataset = candidate_dataset.map(parse_candidate_tfrecord_fn, num_parallel_calls=-1)\n",
    "\n",
    "train_parsed = train.map(parse_tfrecord) ### THIS NEEDS TO BE FIXED SO THE UNIQUE PRODUCT DATASET HAS THE SAME FIELD NAMES (goes thru the same model)"
   ]
  },
  {
   "cell_type": "code",
   "execution_count": 2,
   "id": "7f98d42e-4ca6-4e1f-a832-6c0a9b1c44a1",
   "metadata": {},
   "outputs": [],
   "source": [
    "train_parsed"
   ]
  },
  {
   "cell_type": "code",
   "execution_count": 12,
   "id": "4b4a2ecb-0255-4b67-afe5-13659a6921f0",
   "metadata": {
    "tags": []
   },
   "outputs": [
    {
     "name": "stdout",
     "output_type": "stream",
     "text": [
      "{'album_name_can': <tf.Tensor: shape=(3,), dtype=string, numpy=\n",
      "array([b'Alex Goot & Friends, Vol. 3', b'Punk Goes Pop, Vol. 7',\n",
      "       b'B.o.B Presents: The Adventures of Bobby Ray'], dtype=object)>, 'album_name_pl': <tf.Tensor: shape=(3, 6), dtype=string, numpy=\n",
      "array([[b'Be Not Nobody', b'Let Go', b'Goodbye Lullaby',\n",
      "        b'The Best Damn Thing', b'Alex Goot & Friends, Vol. 3',\n",
      "        b'Two Lanes Of Freedom'],\n",
      "       [b'Starboy', b'HUMBLE.', b'Shake the Lights When You in Trouble',\n",
      "        b'Punk Goes Pop, Vol. 7', b'Obscure: La Deuxi\\xc3\\xa8me',\n",
      "        b'Problem'],\n",
      "       [b'B.o.B Presents: The Adventures of Bobby Ray',\n",
      "        b'Full Moon Fever', b\"Blowin' Your Mind!\",\n",
      "        b'Camp Rock 2: The Final Jam', b'News Of The World',\n",
      "        b'The Bodyguard - Original Soundtrack Album']], dtype=object)>, 'album_uri_can': <tf.Tensor: shape=(3,), dtype=string, numpy=\n",
      "array([b'spotify:album:0GhppB5IFroTmdP5HxQKE0',\n",
      "       b'spotify:album:0QnLGxrlc61tSudHIZr4Sz',\n",
      "       b'spotify:album:7apLPYT8szV1IqTxyVSy5P'], dtype=object)>, 'album_uri_pl': <tf.Tensor: shape=(3, 6), dtype=string, numpy=\n",
      "array([[b'spotify:album:7D6BFTArx2ajtkKRVXIKO2',\n",
      "        b'spotify:album:7h6XeTzy0SRXDrFJeA9gO7',\n",
      "        b'spotify:album:3WKHuDtWB0Ota02oXE9f9S',\n",
      "        b'spotify:album:0XypvgyeJm4mNjH4QRHmYR',\n",
      "        b'spotify:album:0GhppB5IFroTmdP5HxQKE0',\n",
      "        b'spotify:album:1O3BsjGx9plSOJ036ZY4Fl'],\n",
      "       [b'spotify:album:5raf9Agi3ferPfy54ucXLH',\n",
      "        b'spotify:album:2tFNYmBIB9GWSvKd1LWonP',\n",
      "        b'spotify:album:5E1sktUZIqJO8nYdS04oJ1',\n",
      "        b'spotify:album:0QnLGxrlc61tSudHIZr4Sz',\n",
      "        b'spotify:album:2N4l7qgupa4DNpd0QOyNs4',\n",
      "        b'spotify:album:4vntXpSZba1EPfCjAhnmeb'],\n",
      "       [b'spotify:album:7apLPYT8szV1IqTxyVSy5P',\n",
      "        b'spotify:album:5d71Imt5CIb7LpQwDMQ093',\n",
      "        b'spotify:album:7dsWupQRlFuhG8FGiQAUjC',\n",
      "        b'spotify:album:5iK842b9xnZblgZkRxWCFe',\n",
      "        b'spotify:album:7tB40pGzj6Tg0HePj2jWZt',\n",
      "        b'spotify:album:7JVJlkNNobS0GSoy4tCS96']], dtype=object)>, 'artist_followers_can': <tf.Tensor: shape=(3,), dtype=float32, numpy=array([ 228756.,  577159., 1953136.], dtype=float32)>, 'artist_genres_can': <tf.Tensor: shape=(3,), dtype=string, numpy=\n",
      "array([b\"'post-teen pop', 'viral pop'\",\n",
      "       b\"'australian metalcore', 'melodic metalcore', 'metalcore'\",\n",
      "       b\"'atl hip hop', 'dance pop', 'hip hop', 'pop', 'pop rap', 'pop rock', 'rap', 'southern hip hop'\"],\n",
      "      dtype=object)>, 'artist_genres_pl': <tf.Tensor: shape=(3, 6), dtype=string, numpy=\n",
      "array([[b\"'lilith', 'neo mellow', 'piano rock', 'pop rock', 'post-teen pop'\",\n",
      "        b\"'canadian pop', 'candy pop', 'dance pop', 'pop', 'post-teen pop'\",\n",
      "        b\"'canadian pop', 'candy pop', 'dance pop', 'pop', 'post-teen pop'\",\n",
      "        b\"'canadian pop', 'candy pop', 'dance pop', 'pop', 'post-teen pop'\",\n",
      "        b\"'post-teen pop', 'viral pop'\",\n",
      "        b\"'contemporary country', 'country', 'country road'\"],\n",
      "       [b\"'pixie', 'post-screamo'\", b\"'metalcore', 'modern rock'\",\n",
      "        b\"'post-screamo'\",\n",
      "        b\"'australian metalcore', 'melodic metalcore', 'metalcore'\",\n",
      "        b\"'post-screamo'\", b\"'pixie', 'post-screamo'\"],\n",
      "       [b\"'atl hip hop', 'dance pop', 'hip hop', 'pop', 'pop rap', 'pop rock', 'rap', 'southern hip hop'\",\n",
      "        b\"'album rock', 'classic rock', 'country rock', 'folk rock', 'heartland rock', 'mellow gold', 'pop rock', 'rock', 'singer-songwriter', 'soft rock'\",\n",
      "        b\"'classic rock', 'folk', 'folk rock', 'mellow gold', 'rock', 'roots rock', 'singer-songwriter', 'soft rock'\",\n",
      "        b\"'dance pop', 'pop', 'post-teen pop'\",\n",
      "        b\"'classic rock', 'glam rock', 'rock'\",\n",
      "        b\"'dance pop', 'pop', 'urban contemporary'\"]], dtype=object)>, 'artist_name_can': <tf.Tensor: shape=(3,), dtype=string, numpy=array([b'Alex Goot', b'The Amity Affliction', b'B.o.B'], dtype=object)>, 'artist_name_pl': <tf.Tensor: shape=(3, 6), dtype=string, numpy=\n",
      "array([[b'Vanessa Carlton', b'Avril Lavigne', b'Avril Lavigne',\n",
      "        b'Avril Lavigne', b'Alex Goot', b'Tim McGraw'],\n",
      "       [b'The Animal In Me', b'Our Last Night', b'Main-De-Gloire',\n",
      "        b'The Amity Affliction', b'SycAmour', b'The Animal In Me'],\n",
      "       [b'B.o.B', b'Tom Petty', b'Van Morrison', b'Nick Jonas', b'Queen',\n",
      "        b'Whitney Houston']], dtype=object)>, 'artist_pop_can': <tf.Tensor: shape=(3,), dtype=float32, numpy=array([57., 65., 77.], dtype=float32)>, 'artist_pop_pl': <tf.Tensor: shape=(3, 6), dtype=float32, numpy=\n",
      "array([[67., 82., 82., 82., 57., 75.],\n",
      "       [50., 71., 46., 65., 43., 50.],\n",
      "       [77., 72., 75., 70., 88., 80.]], dtype=float32)>, 'artist_uri_can': <tf.Tensor: shape=(3,), dtype=string, numpy=\n",
      "array([b'spotify:artist:66Fb5gJ9SX2WGlqDLUpjux',\n",
      "       b'spotify:artist:6kNKUYGn6VNGsRoXmyoDPK',\n",
      "       b'spotify:artist:5ndkK3dpZLKtBklKjxNQwT'], dtype=object)>, 'artist_uri_pl': <tf.Tensor: shape=(3, 6), dtype=string, numpy=\n",
      "array([[b'spotify:artist:5ILrArfIV0tMURcHJN8Q07',\n",
      "        b'spotify:artist:0p4nmQO2msCgU4IF37Wi3j',\n",
      "        b'spotify:artist:0p4nmQO2msCgU4IF37Wi3j',\n",
      "        b'spotify:artist:0p4nmQO2msCgU4IF37Wi3j',\n",
      "        b'spotify:artist:66Fb5gJ9SX2WGlqDLUpjux',\n",
      "        b'spotify:artist:6roFdX1y5BYSbp60OTJWMd'],\n",
      "       [b'spotify:artist:6hyAYqBdxyramm4W9TB7R0',\n",
      "        b'spotify:artist:00YTqRClk82aMchQQpYMd5',\n",
      "        b'spotify:artist:1YcOnsBEycC9X5OY6kUzmV',\n",
      "        b'spotify:artist:6kNKUYGn6VNGsRoXmyoDPK',\n",
      "        b'spotify:artist:5oo5QQ0oov6jdUk9CECwB7',\n",
      "        b'spotify:artist:6hyAYqBdxyramm4W9TB7R0'],\n",
      "       [b'spotify:artist:5ndkK3dpZLKtBklKjxNQwT',\n",
      "        b'spotify:artist:2UZMlIwnkgAEDBsw1Rejkn',\n",
      "        b'spotify:artist:44NX2ffIYHr6D4n7RaZF7A',\n",
      "        b'spotify:artist:4Rxn7Im3LGfyRkY2FlHhWi',\n",
      "        b'spotify:artist:1dfeR4HaWDbWqFHLkxsg1d',\n",
      "        b'spotify:artist:6XpaIBNiVzIetEPCWDvAFP']], dtype=object)>, 'artists_followers_pl': <tf.Tensor: shape=(3, 6), dtype=float32, numpy=\n",
      "array([[5.2712700e+05, 8.5368420e+06, 8.5368420e+06, 8.5368420e+06,\n",
      "        2.2875600e+05, 3.9247420e+06],\n",
      "       [6.5540000e+04, 9.0158200e+05, 7.4750000e+03, 5.7715900e+05,\n",
      "        2.8674000e+04, 6.5540000e+04],\n",
      "       [1.9531360e+06, 1.8930470e+06, 2.4155560e+06, 7.9906510e+06,\n",
      "        4.0398084e+07, 7.7655300e+06]], dtype=float32)>, 'avg_art_followers_pl_new': <tf.Tensor: shape=(3,), dtype=float32, numpy=array([13801767. ,   450187.5, 10840016. ], dtype=float32)>, 'avg_artist_pop_pl_new': <tf.Tensor: shape=(3,), dtype=float32, numpy=array([73.8125  , 50.934578, 79.48    ], dtype=float32)>, 'avg_track_pop_pl_new': <tf.Tensor: shape=(3,), dtype=float32, numpy=array([37.729168,  8.205607, 61.1     ], dtype=float32)>, 'duration_ms_can': <tf.Tensor: shape=(3,), dtype=float32, numpy=array([185893., 201106., 268320.], dtype=float32)>, 'duration_ms_songs_pl': <tf.Tensor: shape=(3, 6), dtype=float32, numpy=\n",
      "array([[238440., 204000., 225680., 240866., 185893., 276880.],\n",
      "       [246362., 195566., 234000., 201106., 219130., 198981.],\n",
      "       [268320., 256000., 183306., 186893., 179200., 271093.]],\n",
      "      dtype=float32)>, 'num_pl_albums_new': <tf.Tensor: shape=(3,), dtype=float32, numpy=array([43., 53., 45.], dtype=float32)>, 'num_pl_artists_new': <tf.Tensor: shape=(3,), dtype=float32, numpy=array([31., 96., 34.], dtype=float32)>, 'num_pl_followers_src': <tf.Tensor: shape=(3,), dtype=float32, numpy=array([1., 1., 1.], dtype=float32)>, 'num_pl_songs_new': <tf.Tensor: shape=(3,), dtype=float32, numpy=array([ 48., 107.,  50.], dtype=float32)>, 'pl_collaborative_src': <tf.Tensor: shape=(3,), dtype=string, numpy=array([b'false', b'false', b'false'], dtype=object)>, 'pl_duration_ms_new': <tf.Tensor: shape=(3,), dtype=float32, numpy=array([10803409., 25163150., 11786284.], dtype=float32)>, 'pl_name_src': <tf.Tensor: shape=(3,), dtype=string, numpy=array([b'Twisted', b'Punk Goes', b'tbt'], dtype=object)>, 'time_signature_pl': <tf.Tensor: shape=(3, 6), dtype=string, numpy=\n",
      "array([[b'3', b'4', b'4', b'4', b'4', b'4'],\n",
      "       [b'4', b'4', b'4', b'4', b'4', b'4'],\n",
      "       [b'4', b'4', b'4', b'4', b'4', b'4']], dtype=object)>, 'track_acousticness_can': <tf.Tensor: shape=(3,), dtype=float32, numpy=array([0.827   , 0.000867, 0.386   ], dtype=float32)>, 'track_acousticness_pl': <tf.Tensor: shape=(3, 6), dtype=float32, numpy=\n",
      "array([[2.26e-01, 6.79e-05, 3.37e-02, 2.08e-01, 8.27e-01, 2.16e-02],\n",
      "       [1.38e-03, 9.81e-05, 6.01e-04, 8.67e-04, 1.66e-03, 1.46e-02],\n",
      "       [3.86e-01, 2.12e-01, 1.85e-01, 4.60e-01, 3.78e-01, 8.45e-01]],\n",
      "      dtype=float32)>, 'track_danceability_can': <tf.Tensor: shape=(3,), dtype=float32, numpy=array([0.583, 0.231, 0.688], dtype=float32)>, 'track_danceability_pl': <tf.Tensor: shape=(3, 6), dtype=float32, numpy=\n",
      "array([[0.319, 0.487, 0.456, 0.456, 0.583, 0.47 ],\n",
      "       [0.536, 0.539, 0.372, 0.231, 0.553, 0.573],\n",
      "       [0.688, 0.623, 0.491, 0.513, 0.268, 0.332]], dtype=float32)>, 'track_energy_can': <tf.Tensor: shape=(3,), dtype=float32, numpy=array([0.454, 0.855, 0.853], dtype=float32)>, 'track_energy_pl': <tf.Tensor: shape=(3, 6), dtype=float32, numpy=\n",
      "array([[0.671, 0.9  , 0.862, 0.714, 0.454, 0.79 ],\n",
      "       [0.928, 0.903, 0.972, 0.855, 0.886, 0.96 ],\n",
      "       [0.853, 0.449, 0.583, 0.496, 0.459, 0.214]], dtype=float32)>, 'track_instrumentalness_can': <tf.Tensor: shape=(3,), dtype=float32, numpy=array([0., 0., 0.], dtype=float32)>, 'track_instrumentalness_pl': <tf.Tensor: shape=(3, 6), dtype=float32, numpy=\n",
      "array([[0.00e+00, 0.00e+00, 0.00e+00, 0.00e+00, 0.00e+00, 0.00e+00],\n",
      "       [0.00e+00, 1.76e-01, 4.53e-04, 0.00e+00, 0.00e+00, 2.95e-05],\n",
      "       [0.00e+00, 0.00e+00, 0.00e+00, 0.00e+00, 0.00e+00, 5.62e-06]],\n",
      "      dtype=float32)>, 'track_key_can': <tf.Tensor: shape=(3,), dtype=string, numpy=array([b'3', b'9', b'10'], dtype=object)>, 'track_key_pl': <tf.Tensor: shape=(3, 6), dtype=string, numpy=\n",
      "array([[b'0', b'0', b'4', b'4', b'3', b'2'],\n",
      "       [b'9', b'2', b'0', b'9', b'2', b'4'],\n",
      "       [b'10', b'5', b'7', b'11', b'10', b'4']], dtype=object)>, 'track_liveness_can': <tf.Tensor: shape=(3,), dtype=float32, numpy=array([0.0822, 0.289 , 0.0862], dtype=float32)>, 'track_liveness_pl': <tf.Tensor: shape=(3, 6), dtype=float32, numpy=\n",
      "array([[0.169 , 0.358 , 0.172 , 0.296 , 0.0822, 0.0863],\n",
      "       [0.113 , 0.149 , 0.364 , 0.289 , 0.0655, 0.196 ],\n",
      "       [0.0862, 0.0613, 0.406 , 0.106 , 0.118 , 0.0839]], dtype=float32)>, 'track_loudness_can': <tf.Tensor: shape=(3,), dtype=float32, numpy=array([-8.518, -6.288, -5.814], dtype=float32)>, 'track_loudness_pl': <tf.Tensor: shape=(3, 6), dtype=float32, numpy=\n",
      "array([[ -3.323,  -4.417,  -3.818,  -3.98 ,  -8.518,  -5.352],\n",
      "       [ -4.923,  -6.038,  -3.966,  -6.288,  -4.394,  -5.472],\n",
      "       [ -5.814, -13.333, -10.964,  -6.049,  -6.94 , -12.518]],\n",
      "      dtype=float32)>, 'track_mode_can': <tf.Tensor: shape=(3,), dtype=string, numpy=array([b'1', b'0', b'1'], dtype=object)>, 'track_mode_pl': <tf.Tensor: shape=(3, 6), dtype=string, numpy=\n",
      "array([[b'1', b'1', b'1', b'0', b'1', b'1'],\n",
      "       [b'0', b'1', b'1', b'0', b'0', b'1'],\n",
      "       [b'1', b'1', b'1', b'1', b'1', b'1']], dtype=object)>, 'track_name_can': <tf.Tensor: shape=(3,), dtype=string, numpy=\n",
      "array([b'Clarity', b'Can\\xe2\\x80\\x99t Feel My Face',\n",
      "       b\"Nothin' On You (feat. Bruno Mars)\"], dtype=object)>, 'track_name_pl': <tf.Tensor: shape=(3, 6), dtype=string, numpy=\n",
      "array([[b'Ordinary Day', b'Sk8er Boi', b'Wish You Were Here',\n",
      "        b\"When You're Gone\", b'Clarity', b\"Highway Don't Care\"],\n",
      "       [b'Starboy', b'HUMBLE.', b'Shake It Off',\n",
      "        b'Can\\xe2\\x80\\x99t Feel My Face',\n",
      "        b'Set Fire To The Rain (Adele Cover)', b'Problem'],\n",
      "       [b\"Nothin' On You (feat. Bruno Mars)\", b\"Free Fallin'\",\n",
      "        b'Brown Eyed Girl', b'Introducing Me',\n",
      "        b'We Are The Champions - Remastered 2011',\n",
      "        b'I Will Always Love You']], dtype=object)>, 'track_pop_can': <tf.Tensor: shape=(3,), dtype=float32, numpy=array([32.,  0., 78.], dtype=float32)>, 'track_pop_pl': <tf.Tensor: shape=(3, 6), dtype=float32, numpy=\n",
      "array([[ 0.,  0.,  0.,  0., 32., 67.],\n",
      "       [ 0., 59.,  0.,  0.,  0.,  0.],\n",
      "       [78., 81., 82., 68., 77., 80.]], dtype=float32)>, 'track_speechiness_can': <tf.Tensor: shape=(3,), dtype=float32, numpy=array([0.031 , 0.0589, 0.0493], dtype=float32)>, 'track_speechiness_pl': <tf.Tensor: shape=(3, 6), dtype=float32, numpy=\n",
      "array([[0.0329, 0.0482, 0.05  , 0.0332, 0.031 , 0.039 ],\n",
      "       [0.0494, 0.0389, 0.101 , 0.0589, 0.035 , 0.159 ],\n",
      "       [0.0493, 0.0253, 0.0376, 0.0511, 0.0346, 0.0349]], dtype=float32)>, 'track_tempo_can': <tf.Tensor: shape=(3,), dtype=float32, numpy=array([125.052, 108.089, 103.993], dtype=float32)>, 'track_tempo_pl': <tf.Tensor: shape=(3, 6), dtype=float32, numpy=\n",
      "array([[185.256, 149.937, 165.991, 142.072, 125.052, 158.061],\n",
      "       [ 93.022, 150.028, 160.656, 108.089, 115.04 , 102.536],\n",
      "       [103.993,  84.383, 150.566, 113.072,  64.177,  67.531]],\n",
      "      dtype=float32)>, 'track_time_signature_can': <tf.Tensor: shape=(3,), dtype=string, numpy=array([b'4', b'4', b'4'], dtype=object)>, 'track_uri_can': <tf.Tensor: shape=(3,), dtype=string, numpy=\n",
      "array([b'spotify:track:6KJcEmFDUHX6zt8Rhuf0AW',\n",
      "       b'spotify:track:4dZEkHDfbTIOWaO5RP3F8e',\n",
      "       b'spotify:track:59dLtGBS26x7kc0rHbaPrq'], dtype=object)>, 'track_uri_pl': <tf.Tensor: shape=(3, 6), dtype=string, numpy=\n",
      "array([[b'spotify:track:0ua956J0x3UIq9xL4qtRcY',\n",
      "        b'spotify:track:4omisSlTk6Dsq2iQD7MA07',\n",
      "        b'spotify:track:3VcaQY2NiZuZEOKNghNhqe',\n",
      "        b'spotify:track:4VdYpmlf6EDmqbAcWc2jt7',\n",
      "        b'spotify:track:6KJcEmFDUHX6zt8Rhuf0AW',\n",
      "        b'spotify:track:4wFUdSCer8bdQsrp1M90sa'],\n",
      "       [b'spotify:track:4LceuFIJXzhCJ9iJsYmf0f',\n",
      "        b'spotify:track:0aLrHZKT7pcszo0e5SiMIG',\n",
      "        b'spotify:track:2VGKjMrBDhuAvUffdnyQQE',\n",
      "        b'spotify:track:4dZEkHDfbTIOWaO5RP3F8e',\n",
      "        b'spotify:track:0j4VpNPPyC8Xa6acNCMe5j',\n",
      "        b'spotify:track:35alfara6BTnNgyFLiWVcC'],\n",
      "       [b'spotify:track:59dLtGBS26x7kc0rHbaPrq',\n",
      "        b'spotify:track:5tVA6TkbaAH9QMITTQRrNv',\n",
      "        b'spotify:track:3yrSvpt2l1xhsV9Em88Pul',\n",
      "        b'spotify:track:74tQaH4CxM5Rs9BzerEbHr',\n",
      "        b'spotify:track:1lCRw5FEZ1gPDNPzy1K4zW',\n",
      "        b'spotify:track:4eHbdreAnSOrDDsFfc4Fpm']], dtype=object)>, 'track_valence_can': <tf.Tensor: shape=(3,), dtype=float32, numpy=array([0.647, 0.316, 0.743], dtype=float32)>, 'track_valence_pl': <tf.Tensor: shape=(3, 6), dtype=float32, numpy=\n",
      "array([[0.409, 0.484, 0.337, 0.155, 0.647, 0.495],\n",
      "       [0.569, 0.445, 0.318, 0.316, 0.32 , 0.431],\n",
      "       [0.743, 0.572, 0.908, 0.676, 0.175, 0.11 ]], dtype=float32)>}\n"
     ]
    }
   ],
   "source": [
    "for x in train_parsed.batch(3).take(1):\n",
    "    print(x)"
   ]
  },
  {
   "cell_type": "code",
   "execution_count": null,
   "id": "4fd6a4a3-5177-4c58-b617-bae3cf89cbb0",
   "metadata": {},
   "outputs": [],
   "source": []
  }
 ],
 "metadata": {
  "environment": {
   "kernel": "python3",
   "name": "tf2-gpu.2-8.m97",
   "type": "gcloud",
   "uri": "gcr.io/deeplearning-platform-release/tf2-gpu.2-8:m97"
  },
  "kernelspec": {
   "display_name": "Python 3",
   "language": "python",
   "name": "python3"
  },
  "language_info": {
   "codemirror_mode": {
    "name": "ipython",
    "version": 3
   },
   "file_extension": ".py",
   "mimetype": "text/x-python",
   "name": "python",
   "nbconvert_exporter": "python",
   "pygments_lexer": "ipython3",
   "version": "3.7.12"
  }
 },
 "nbformat": 4,
 "nbformat_minor": 5
}
