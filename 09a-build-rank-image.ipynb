{
 "cells": [
  {
   "cell_type": "markdown",
   "id": "915f56ce-200c-4a50-9c69-613f98d475bc",
   "metadata": {},
   "source": [
    "## Build custom container for Vertex training"
   ]
  },
  {
   "cell_type": "code",
   "execution_count": null,
   "id": "482d2d62-0381-405e-a678-21c3c7a2e952",
   "metadata": {},
   "outputs": [],
   "source": [
    "!pwd"
   ]
  },
  {
   "cell_type": "markdown",
   "id": "4e431a8d-575c-408d-9ab3-367c99c37074",
   "metadata": {},
   "source": [
    "## Load env config"
   ]
  },
  {
   "cell_type": "code",
   "execution_count": null,
   "id": "cfa0e95d-6151-4760-a3b1-1745fc4ce9b4",
   "metadata": {},
   "outputs": [],
   "source": [
    "# naming convention for all cloud resources\n",
    "VERSION        = \"v1\"                  # TODO\n",
    "PREFIX         = f'ndr-{VERSION}'      # TODO\n",
    "\n",
    "print(f\"PREFIX = {PREFIX}\")"
   ]
  },
  {
   "cell_type": "code",
   "execution_count": null,
   "id": "61ec2512-bdf8-4b52-9282-b38386fb538f",
   "metadata": {},
   "outputs": [],
   "source": [
    "# staging GCS\n",
    "GCP_PROJECTS             = !gcloud config get-value project\n",
    "PROJECT_ID               = GCP_PROJECTS[0]\n",
    "\n",
    "# GCS bucket and paths\n",
    "BUCKET_NAME              = f'{PREFIX}-{PROJECT_ID}-bucket'\n",
    "BUCKET_URI               = f'gs://{BUCKET_NAME}'\n",
    "\n",
    "config = !gsutil cat {BUCKET_URI}/config/notebook_env.py\n",
    "print(config.n)\n",
    "exec(config.n)"
   ]
  },
  {
   "cell_type": "code",
   "execution_count": null,
   "id": "eb01196b-d54a-4750-9e92-5b4a555969e7",
   "metadata": {},
   "outputs": [],
   "source": [
    "DOCKERNAME                = 'rank'\n",
    "\n",
    "VERSION                   = \"v11\"\n",
    "# APP                       = 'sp'\n",
    "MODEL_TYPE                = 'rank'\n",
    "# FRAMEWORK                 = 'tfrs'\n",
    "MODEL_ROOT_NAME           = f'{APP}-{MODEL_TYPE}-{FRAMEWORK}-{VERSION}'\n",
    "\n",
    "REPOSITORY                = \"tfrs-ranking\"  # f'{APP}-{FRAMEWORK}'\n",
    "IMAGE_NAME                = f'{MODEL_ROOT_NAME}'\n",
    "REMOTE_IMAGE_NAME         = f\"{REGION}-docker.pkg.dev/{PROJECT_ID}/{REPOSITORY}/{IMAGE_NAME}\"\n",
    "\n",
    "print(f\"DOCKERNAME      : {DOCKERNAME}\")\n",
    "print(f\"MODEL_ROOT_NAME : {MODEL_ROOT_NAME}\")\n",
    "\n",
    "print(f\"REPOSITORY        = {REPOSITORY}\")\n",
    "print(f\"IMAGE_NAME        = {IMAGE_NAME}\")\n",
    "print(f\"REMOTE_IMAGE_NAME = {REMOTE_IMAGE_NAME}\")"
   ]
  },
  {
   "cell_type": "code",
   "execution_count": null,
   "id": "e8fe45ff-a0f5-4f9e-a319-784003ae978a",
   "metadata": {},
   "outputs": [],
   "source": [
    "! gsutil ls $BUCKET_URI"
   ]
  },
  {
   "cell_type": "markdown",
   "id": "b368d079-4e98-4c6b-be73-32cab3386e5f",
   "metadata": {},
   "source": [
    "## Imports"
   ]
  },
  {
   "cell_type": "code",
   "execution_count": null,
   "id": "1e1093e6-4401-4334-b538-806c58fc2bb8",
   "metadata": {},
   "outputs": [],
   "source": [
    "import os\n",
    "os.environ['TF_CPP_MIN_LOG_LEVEL'] = '2'"
   ]
  },
  {
   "cell_type": "markdown",
   "id": "9da773ed-b01c-4998-9e32-5df111422deb",
   "metadata": {},
   "source": [
    "## Create training package"
   ]
  },
  {
   "cell_type": "code",
   "execution_count": null,
   "id": "f2434f88-daf1-4e59-b9f6-c94d4f8ce694",
   "metadata": {},
   "outputs": [],
   "source": [
    "REPO_SRC = 'src'\n",
    "TRAIN_SUBFOLDER = 'ranking'\n",
    "\n",
    "# ! rm -rf $REPO_DOCKER_PATH_PREFIX/$TRAIN_SUBFOLDER\n",
    "# ! mkdir -p $REPO_DOCKER_PATH_PREFIX/$TRAIN_SUBFOLDER\n",
    "# ! touch $REPO_DOCKER_PATH_PREFIX/$TRAIN_SUBFOLDER/__init__.py"
   ]
  },
  {
   "cell_type": "markdown",
   "id": "e3404574-e9bb-454c-8729-be5c1bb405ab",
   "metadata": {},
   "source": [
    "# Build Image"
   ]
  },
  {
   "cell_type": "code",
   "execution_count": null,
   "id": "27c8d4ef-96c1-4fd8-81fe-6efbe9961755",
   "metadata": {},
   "outputs": [],
   "source": [
    "print(f\"DOCKERNAME        = {DOCKERNAME}\")\n",
    "print(f\"REPOSITORY        = {REPOSITORY}\")\n",
    "print(f\"IMAGE_NAME        = {IMAGE_NAME}\")\n",
    "print(f\"REMOTE_IMAGE_NAME = {REMOTE_IMAGE_NAME}\")"
   ]
  },
  {
   "cell_type": "markdown",
   "id": "f21e823c-fb1b-4de7-b240-882860410abc",
   "metadata": {},
   "source": [
    "## Create Artifact Repository\n",
    "If you don't have an existing artifact repository, create one using the gcloud command below"
   ]
  },
  {
   "cell_type": "code",
   "execution_count": null,
   "id": "d3d9ac6d-d50d-40cb-8514-ac3c37b0fa13",
   "metadata": {},
   "outputs": [],
   "source": [
    "! gcloud artifacts repositories create $REPOSITORY --repository-format=docker --location=$LOCATION"
   ]
  },
  {
   "cell_type": "markdown",
   "id": "8c434bce-45d6-4697-96b9-ad9f2a099e77",
   "metadata": {},
   "source": [
    "## Local Docker build\n",
    "Provide a name for your dockerfile and make sure you are authenticated"
   ]
  },
  {
   "cell_type": "code",
   "execution_count": null,
   "id": "43f628c1-cd2a-432a-ac70-398c1ddcb294",
   "metadata": {},
   "outputs": [],
   "source": [
    "! gcloud auth configure-docker $REGION-docker.pkg.dev --quiet"
   ]
  },
  {
   "cell_type": "markdown",
   "id": "317579d9-4f24-4577-9983-25df77a21053",
   "metadata": {},
   "source": [
    "### Requirements & Config files"
   ]
  },
  {
   "cell_type": "code",
   "execution_count": null,
   "id": "8d23cd8f-7d16-4316-afab-2ac7ad2d664f",
   "metadata": {},
   "outputs": [],
   "source": [
    "%%writefile {REPO_SRC}/{TRAIN_SUBFOLDER}/requirements.txt\n",
    "google-cloud-aiplatform[cloud_profiler]>=1.26.1\n",
    "tensorflow-recommenders==0.7.2\n",
    "tensorboard==2.13.0\n",
    "tensorboard-data-server==0.7.1\n",
    "tensorboard-plugin-profile==2.13.1\n",
    "tensorboard-plugin-wit==1.8.1\n",
    "tensorboardX==2.6\n",
    "tensorflow-io==0.27.0\n",
    "protobuf==3.19.6"
   ]
  },
  {
   "cell_type": "code",
   "execution_count": null,
   "id": "b03a56b5-0fba-4454-9ec4-0e498ea41d50",
   "metadata": {},
   "outputs": [],
   "source": [
    "%%writefile {REPO_SRC}/{TRAIN_SUBFOLDER}/train_config.py\n",
    "PROJECT_ID='hybrid-vertex'\n",
    "TRACK_HISTORY = 5"
   ]
  },
  {
   "cell_type": "markdown",
   "id": "99cae6ab-c4b9-4885-baf5-5985621e2c78",
   "metadata": {},
   "source": [
    "## Create Dockerfile"
   ]
  },
  {
   "cell_type": "code",
   "execution_count": null,
   "id": "14d30c9c-8868-4461-bd2d-84248603e85c",
   "metadata": {},
   "outputs": [],
   "source": [
    "%%writefile {REPO_DOCKER_PATH_PREFIX}/{DOCKERNAME}\n",
    "\n",
    "# FROM tensorflow/tensorflow:2.10.1-gpu\n",
    "FROM gcr.io/deeplearning-platform-release/tf-gpu.2-11\n",
    "\n",
    "ENV PYTHONUNBUFFERED True\n",
    "\n",
    "# Copies the trainer code to the docker image.\n",
    "COPY ranking /ranking\n",
    "\n",
    "WORKDIR /ranking\n",
    "\n",
    "RUN pip install --upgrade pip\n",
    "RUN pip install -r ./requirements.txt\n",
    "\n",
    "RUN apt update && apt -y install nvtop\n",
    "\n",
    "# RUN export PYTHONPATH=${PYTHONPATH}:${APP_HOME}/"
   ]
  },
  {
   "cell_type": "markdown",
   "id": "7d1c4768-545d-4ae3-abf8-d42333e4406a",
   "metadata": {},
   "source": [
    "## Build Image Locally\n",
    "run commands in terminal window"
   ]
  },
  {
   "cell_type": "code",
   "execution_count": null,
   "id": "b83f56df-d9f4-40b0-b321-704d22b0d274",
   "metadata": {},
   "outputs": [],
   "source": [
    "# # set variables if running in terminal\n",
    "print(\"copy these commands into terminal:\\n\")\n",
    "print(f\"export REPO_SRC={REPO_SRC}\")\n",
    "print(f\"export REMOTE_IMAGE_NAME={REMOTE_IMAGE_NAME}\")\n",
    "print(f\"export DOCKERNAME={DOCKERNAME}\")\n",
    "print(f\"docker build -t $REMOTE_IMAGE_NAME -f $REPO_SRC/Dockerfile_$DOCKERNAME .\")\n",
    "\n",
    "# !docker build -t $REMOTE_IMAGE_NAME -f $REPO_SRC/Dockerfile_$DOCKERNAME ."
   ]
  },
  {
   "cell_type": "markdown",
   "id": "d3bb088f-26c6-49c3-8098-12a74e8ad13e",
   "metadata": {},
   "source": [
    "## Push container to Registry"
   ]
  },
  {
   "cell_type": "code",
   "execution_count": null,
   "id": "0c805ee2-18dc-4f9e-854a-8e991e8b1765",
   "metadata": {},
   "outputs": [],
   "source": [
    "print(\"copy this command into terminal:\\n\")\n",
    "print(f\"docker push $REMOTE_IMAGE_NAME\")\n",
    "\n",
    "# ! docker push $REMOTE_IMAGE_NAME"
   ]
  },
  {
   "cell_type": "markdown",
   "id": "0cc1674d-bdf8-4961-bf01-a11a868c027b",
   "metadata": {},
   "source": [
    "## (Optional) Build Image with Cloud Build\n",
    "\n",
    "**TODO**"
   ]
  },
  {
   "cell_type": "code",
   "execution_count": null,
   "id": "264323e6-bee8-42f8-8f6a-54c075438dc9",
   "metadata": {},
   "outputs": [],
   "source": [
    "# Docker definitions for training\n",
    "IMAGE_NAME               = f'{MODEL_ROOT_NAME}'\n",
    "IMAGE_URI                = f'gcr.io/{PROJECT_ID}/{IMAGE_NAME}'\n",
    "\n",
    "DOCKERNAME               = 'Dockerfile_rank'\n",
    "MACHINE_TYPE             = 'e2-highcpu-32'\n",
    "FILE_LOCATION            = './src'\n",
    "\n",
    "print(f\"DOCKERNAME       : {DOCKERNAME}\")\n",
    "print(f\"IMAGE_URI        : {IMAGE_URI}\")\n",
    "print(f\"MACHINE_TYPE     : {MACHINE_TYPE}\")\n",
    "print(f\"FILE_LOCATION    : {FILE_LOCATION}\")"
   ]
  },
  {
   "cell_type": "code",
   "execution_count": null,
   "id": "56c01dee-6758-4418-bcb8-b7a79b053c76",
   "metadata": {},
   "outputs": [],
   "source": [
    "# %%writefile {REPO_SRC}/cloudbuild.yaml\n",
    "\n",
    "# steps:\n",
    "# - name: 'gcr.io/cloud-builders/docker'\n",
    "#   args: ['build', '-t', '$_IMAGE_URI', '$_FILE_LOCATION', '-f', '$_FILE_LOCATION/Dockerfile_$_DOCKERNAME']\n",
    "# images:\n",
    "# - '$_IMAGE_URI'"
   ]
  },
  {
   "cell_type": "code",
   "execution_count": null,
   "id": "24cfb989-4ae6-48c1-8f07-22e2c249aded",
   "metadata": {},
   "outputs": [],
   "source": [
    "# print(f\"DOCKERNAME: {DOCKERNAME}\")\n",
    "# print(f\"IMAGE_URI: {IMAGE_URI}\")\n",
    "# print(f\"FILE_LOCATION: {FILE_LOCATION}\")\n",
    "# print(f\"MACHINE_TYPE: {MACHINE_TYPE}\")"
   ]
  },
  {
   "cell_type": "markdown",
   "id": "ad411a7f-9079-4b04-a038-d0a1bf6c96c6",
   "metadata": {},
   "source": [
    "### set gcloudignore"
   ]
  },
  {
   "cell_type": "code",
   "execution_count": null,
   "id": "58aff19b-1ca1-41bc-ad59-91dcbcc74b7e",
   "metadata": {},
   "outputs": [],
   "source": [
    "# ! gcloud config set gcloudignore/enabled true"
   ]
  },
  {
   "cell_type": "code",
   "execution_count": null,
   "id": "a7f4bb7a-6395-49f5-a1d4-0868d633d2eb",
   "metadata": {},
   "outputs": [],
   "source": [
    "# !gcloud meta list-files-for-upload"
   ]
  },
  {
   "cell_type": "code",
   "execution_count": null,
   "id": "af4f14dd-20a9-489e-85cb-4a9b27a99db6",
   "metadata": {},
   "outputs": [],
   "source": [
    "# ! gcloud builds submit --config src/cloudbuild.yaml \\\n",
    "#     --substitutions _DOCKERNAME=$DOCKERNAME,_IMAGE_URI=$IMAGE_URI,_FILE_LOCATION=$FILE_LOCATION \\\n",
    "#     --timeout=2h \\\n",
    "#     --machine-type=$MACHINE_TYPE"
   ]
  },
  {
   "cell_type": "markdown",
   "id": "e233434c-c7ce-4c4b-b3ec-753e4165429e",
   "metadata": {},
   "source": [
    "**Finished**"
   ]
  }
 ],
 "metadata": {
  "environment": {
   "kernel": "python3",
   "name": "tf2-gpu.2-10.m103",
   "type": "gcloud",
   "uri": "gcr.io/deeplearning-platform-release/tf2-gpu.2-10:m103"
  },
  "kernelspec": {
   "display_name": "Python 3 (ipykernel)",
   "language": "python",
   "name": "python3"
  },
  "language_info": {
   "codemirror_mode": {
    "name": "ipython",
    "version": 3
   },
   "file_extension": ".py",
   "mimetype": "text/x-python",
   "name": "python",
   "nbconvert_exporter": "python",
   "pygments_lexer": "ipython3",
   "version": "3.7.12"
  }
 },
 "nbformat": 4,
 "nbformat_minor": 5
}
