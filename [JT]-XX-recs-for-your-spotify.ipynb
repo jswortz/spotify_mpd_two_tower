{
 "cells": [
  {
   "cell_type": "markdown",
   "id": "f8561f75-b484-47a2-966b-3e2190c5f8ff",
   "metadata": {},
   "source": [
    "# Generate recommendations for your Spotify Playlists"
   ]
  },
  {
   "cell_type": "markdown",
   "id": "76b4642f-cfd0-4bc1-81e4-6aff9808c64f",
   "metadata": {},
   "source": [
    "### Connecting to your Spotify account\n",
    "* Follow instruction [here](https://towardsdatascience.com/extracting-song-data-from-the-spotify-api-using-python-b1e79388d50) for getting your own Spotify Developer API credentials\n",
    "* To connect to your Spotify account, see [Client Credentials Flow](https://spotipy.readthedocs.io/en/2.19.0/#client-credentials-flow) for authentication\n",
    "\n",
    "**Note:** when calling the `spotipy` API, if you receive the error message below, re-running the cell should fix\n",
    "\n",
    "`ConnectionError: ('Connection aborted.', ConnectionResetError(104, 'Connection reset by peer'))`"
   ]
  },
  {
   "cell_type": "markdown",
   "id": "7a97c293-fb0b-4528-8fd8-fe53e25dd26b",
   "metadata": {
    "jp-MarkdownHeadingCollapsed": true,
    "tags": []
   },
   "source": [
    "### Spotipy ref\n",
    "* [spotipy docs](https://spotipy.readthedocs.io/en/2.19.0/#welcome-to-spotipy), \n",
    "* [github examples](https://github.com/plamere/spotipy/tree/master/examples),  \n",
    "* [source code](https://github.com/plamere/spotipy/blob/master/spotipy/client.py#L20)"
   ]
  },
  {
   "cell_type": "markdown",
   "id": "2534061a-4886-4ab1-bc65-f42a527d5cea",
   "metadata": {},
   "source": [
    "### REQUIRED:\n",
    "\n",
    "* In your repo, create `spotipy_secret_creds.py`,  \n",
    "* assign file to `.gitignore`\n",
    "* define the variables below,\n",
    "\n",
    "```\n",
    "SPOTIPY_CLIENT_ID='YOUR_CLIENT_ID'\n",
    "SPOTIPY_CLIENT_SECRET='YOUR_CLIENT_SECRET'\n",
    "SPOTIFY_USERNAME='YOUR_USERNAME'\n",
    "```"
   ]
  },
  {
   "cell_type": "markdown",
   "id": "41521936-1e29-4ce2-af60-49fdaea5855c",
   "metadata": {},
   "source": [
    "## TODOs\n",
    "\n",
    "* reformat notebook (e.g., existing endpoints used in notebook defined up front?)"
   ]
  },
  {
   "cell_type": "code",
   "execution_count": 1,
   "id": "25b56bca-527f-4e93-8799-bed2d9f3399d",
   "metadata": {},
   "outputs": [],
   "source": [
    "# !pip install spotipy --user"
   ]
  },
  {
   "cell_type": "code",
   "execution_count": 1,
   "id": "c8480195-9e39-4585-a86f-c649da04fa64",
   "metadata": {},
   "outputs": [
    {
     "name": "stdout",
     "output_type": "stream",
     "text": [
      "PROJECT_ID: hybrid-vertex\n",
      "PROJECT_NUM: 934903580331\n",
      "LOCATION: us-central1\n"
     ]
    }
   ],
   "source": [
    "GCP_PROJECTS = !gcloud config get-value project\n",
    "PROJECT_ID = GCP_PROJECTS[0]\n",
    "PROJECT_NUM = !gcloud projects list --filter=\"$PROJECT_ID\" --format=\"value(PROJECT_NUMBER)\"\n",
    "PROJECT_NUM = PROJECT_NUM[0]\n",
    "LOCATION = 'us-central1'\n",
    "\n",
    "print(f\"PROJECT_ID: {PROJECT_ID}\")\n",
    "print(f\"PROJECT_NUM: {PROJECT_NUM}\")\n",
    "print(f\"LOCATION: {LOCATION}\")"
   ]
  },
  {
   "cell_type": "markdown",
   "id": "af257428-b6f5-4925-a601-abf184c0f3b2",
   "metadata": {},
   "source": [
    "### pip & package"
   ]
  },
  {
   "cell_type": "code",
   "execution_count": 2,
   "id": "74836378-568e-4dfa-941e-b2cb992069fb",
   "metadata": {},
   "outputs": [],
   "source": [
    "import spotipy\n",
    "from spotipy.oauth2 import SpotifyClientCredentials, SpotifyOAuth\n",
    "import re\n",
    "from tqdm import tqdm\n",
    "\n",
    "import pandas as pd\n",
    "import json\n",
    "from io import BytesIO\n",
    "from pprint import pprint\n",
    "import os\n",
    "\n",
    "from google.cloud import storage\n",
    "\n",
    "pd.set_option('display.max_columns', 100)"
   ]
  },
  {
   "cell_type": "markdown",
   "id": "290cc1f7-3233-41eb-a467-214d96c7e01a",
   "metadata": {},
   "source": [
    "### Setup Clients"
   ]
  },
  {
   "cell_type": "code",
   "execution_count": 3,
   "id": "592ea28a-aeb7-40fe-9db6-22455ddb46f7",
   "metadata": {},
   "outputs": [],
   "source": [
    "import spotipy_secret_creds as creds\n",
    "\n",
    "os.environ['GOOGLE_CLOUD_PROJECT'] = PROJECT_ID\n",
    "os.environ['SPOTIPY_CLIENT_ID'] = creds.SPOTIPY_CLIENT_ID\n",
    "os.environ['SPOTIPY_CLIENT_SECRET'] = creds.SPOTIPY_CLIENT_SECRET\n",
    "os.environ['SPOTIFY_USERNAME'] = creds.SPOTIFY_USERNAME\n",
    "\n",
    "SPOTIPY_CLIENT_ID=creds.SPOTIPY_CLIENT_ID\n",
    "SPOTIPY_CLIENT_SECRET=creds.SPOTIPY_CLIENT_SECRET\n",
    "SPOTIFY_USERNAME=creds.SPOTIFY_USERNAME\n",
    "\n",
    "MAX_SEED_LENGTH = 5"
   ]
  },
  {
   "cell_type": "code",
   "execution_count": 4,
   "id": "18960dd9-5a9a-4161-aa1c-6a75479d3a38",
   "metadata": {},
   "outputs": [],
   "source": [
    "# Authenticate\n",
    "client_credentials_manager = SpotifyClientCredentials(\n",
    "    client_id=creds.SPOTIPY_CLIENT_ID, \n",
    "    client_secret=creds.SPOTIPY_CLIENT_SECRET\n",
    ")\n",
    "\n",
    "sp = spotipy.Spotify(\n",
    "    client_credentials_manager = client_credentials_manager,\n",
    "\n",
    ")"
   ]
  },
  {
   "cell_type": "markdown",
   "id": "ffb74e64-bbfc-4762-939e-7dc0de74c9c4",
   "metadata": {},
   "source": [
    "### helper functions\n",
    "\n",
    "TODO - put in utils file?"
   ]
  },
  {
   "cell_type": "code",
   "execution_count": 5,
   "id": "45036d70-1e57-457b-8c25-88e119f979fb",
   "metadata": {},
   "outputs": [],
   "source": [
    "def get_track_features(\n",
    "    track_uri, \n",
    "    count, \n",
    "    playlist_uri, \n",
    "    n_songs_pl, \n",
    "    num_artists_pl, \n",
    "    num_albums_pl,\n",
    "    track_durations\n",
    "):\n",
    "    \n",
    "    # Authenticate\n",
    "    client_credentials_manager = SpotifyClientCredentials(\n",
    "        client_id=creds.SPOTIPY_CLIENT_ID, \n",
    "        client_secret=creds.SPOTIPY_CLIENT_SECRET\n",
    "    )\n",
    "\n",
    "    sp = spotipy.Spotify(\n",
    "        client_credentials_manager = client_credentials_manager,\n",
    "\n",
    "    )\n",
    "    \n",
    "    feature_dict = {}\n",
    "    \n",
    "    feature_dict['num_pl_songs_new'] = float(n_songs_pl)\n",
    "    feature_dict['num_pl_artists_new'] = float(num_artists_pl)\n",
    "    feature_dict['num_pl_albums_new'] = float(num_albums_pl)\n",
    "    feature_dict['duration_ms_songs_pl'] = float(track_durations)\n",
    "    \n",
    "    playlist_features = sp.playlist(playlist_uri)\n",
    "    feature_dict['pl_name_src'] = playlist_features['name']\n",
    "    # feature_dict['description_pl'] = playlist_features['description']\n",
    "    feature_dict['pl_collaborative_src'] = str(playlist_features['collaborative']).lower()\n",
    "    \n",
    "    track_meta = sp.track(track_uri)\n",
    "    # capture track metadata\n",
    "    # feature_dict['track_pos'] = count\n",
    "    feature_dict['track_uri_pl'] = track_uri\n",
    "    feature_dict['track_name_pl'] = track_meta['name']\n",
    "    feature_dict['duration_ms_songs_pl'] = float(track_meta['duration_ms'])\n",
    "    feature_dict['track_pop_pl'] = float(track_meta['popularity'])\n",
    "    feature_dict['album_name_pl'] = track_meta['album']['name']\n",
    "    feature_dict['album_uri_pl'] = track_meta['album']['uri']\n",
    "    # feature_dict['album_release_date'] = track_meta['album']['release_date']\n",
    "    feature_dict['artist_name_pl'] = track_meta['album']['artists'][0]['name']\n",
    "    feature_dict['artist_uri_pl'] = track_meta['album']['artists'][0]['uri']\n",
    "\n",
    "    artist_meta = sp.artist(feature_dict['artist_uri_pl'])\n",
    "    # capture artist metadata\n",
    "    feature_dict['artists_followers_pl'] = float(artist_meta['followers']['total'])\n",
    "    feature_dict['artist_pop_pl'] = float(artist_meta['popularity'])\n",
    "    # artist_genres = artist_meta['genres']\n",
    "    \n",
    "    if artist_meta['genres']:\n",
    "        feature_dict['artist_genres_pl'] = \" \".join([re.sub(' ','_',i) for i in artist_meta['genres']])\n",
    "    else:\n",
    "        feature_dict['artist_genres_pl'] = \"unknown\"\n",
    "    \n",
    "    track_features = sp.audio_features(track_uri)[0]\n",
    "    # capture track audio features\n",
    "    # feature_dict['duration_ms_songs_pl'] = float(track_features['duration_ms'])\n",
    "    feature_dict['track_acousticness_pl'] = track_features['acousticness']\n",
    "    feature_dict['track_danceability_pl'] = track_features['danceability']\n",
    "    feature_dict['track_energy_pl'] = track_features['energy']\n",
    "    feature_dict['track_instrumentalness_pl'] = track_features['instrumentalness']\n",
    "    feature_dict['track_key_pl'] = track_features['key']\n",
    "    feature_dict['track_liveness_pl'] = track_features['liveness']\n",
    "    feature_dict['track_loudness_pl']= track_features['loudness']\n",
    "    feature_dict['track_mode_pl'] = track_features['mode']\n",
    "    feature_dict['track_speechiness_pl'] = track_features['speechiness']\n",
    "    feature_dict['track_tempo_pl'] = track_features['tempo']\n",
    "    feature_dict['time_signature_pl'] = track_features['time_signature']\n",
    "    feature_dict['track_valence_pl'] = track_features['valence']\n",
    "    \n",
    "    # TODO: print artist names for comparison later\n",
    "    \n",
    "    return feature_dict\n",
    "\n",
    "def get_playlist_queries(playlist_uri):\n",
    "    \n",
    "    track_uris = [x[\"track\"][\"uri\"] for x in sp.playlist_tracks(playlist_uri)[\"items\"]]\n",
    "    album_uris = [x[\"track\"]['album']['uri'] for x in sp.playlist_tracks(playlist_uri)[\"items\"]]\n",
    "    artist_uris = [x[\"track\"]['artists'][0]['uri'] for x in sp.playlist_tracks(playlist_uri)[\"items\"]]\n",
    "    track_durations = [x[\"track\"][\"duration_ms\"] for x in sp.playlist_tracks(playlist_uri)[\"items\"]]\n",
    "    \n",
    "    n_songs_pl = len(track_uris)\n",
    "    num_albums_pl = len(set(album_uris))\n",
    "    num_artists_pl = len(set(artist_uris))\n",
    "    track_durations = sum(track_durations)\n",
    "    \n",
    "    # n_songs_pl = len(track_uris)\n",
    "    playlist_featutre_list = []\n",
    "    \n",
    "    for count, track_uri in enumerate(track_uris):\n",
    "        # results = get_track_features(track_uri, count, playlist_uri, n_songs_pl)\n",
    "        results = get_track_features(track_uri, count, playlist_uri, n_songs_pl, num_artists_pl, num_albums_pl,track_durations)\n",
    "        playlist_featutre_list.append(results)\n",
    "    \n",
    "    return playlist_featutre_list"
   ]
  },
  {
   "cell_type": "markdown",
   "id": "0e9cebba-cf93-4a4f-a95b-18a53fdbf115",
   "metadata": {},
   "source": [
    "# Getting your Spotify playlists\n",
    "\n",
    "Keep in mind:\n",
    "* it's possible your playlists have tracks that are not present in the Million Playlists Dataset\n",
    "* That's OK - we want the model to generalize to unseen data!\n",
    "* Let's see what the model associates them with...\n",
    "\n",
    "Note: to retrieve your playlists, make sure they are *added to your profile*"
   ]
  },
  {
   "cell_type": "markdown",
   "id": "2e14b2bb-1707-4087-a534-2abd1b1b94db",
   "metadata": {},
   "source": [
    "### get user playlists"
   ]
  },
  {
   "cell_type": "markdown",
   "id": "c4ecb1f0-d42a-47a0-95a5-0c356ee98197",
   "metadata": {},
   "source": [
    "Option 1: get playlists via `spotipy` API..."
   ]
  },
  {
   "cell_type": "code",
   "execution_count": 6,
   "id": "4df268aa-4363-4b35-8b09-63921a11a642",
   "metadata": {},
   "outputs": [
    {
     "name": "stdout",
     "output_type": "stream",
     "text": [
      "uri: spotify:playlist:5fV3fQ2sXEE8O1dbhmeIdo,  playlist name: sleeping with the phish\n",
      "uri: spotify:playlist:3HeHZi8VGEm6ZNHZ2FVRr6,  playlist name: biebs weeknd\n",
      "uri: spotify:playlist:3GX5FLE0IxHNZtLye0ETgb,  playlist name: Muscle Shoals\n",
      "uri: spotify:playlist:0XPJ39OCBhOw5OZa7udYYP,  playlist name: Disco\n",
      "uri: spotify:playlist:6imD2IJOyw3MEKdZ4XZqZ4,  playlist name: space is the place\n",
      "uri: spotify:playlist:1E1EwxJyzjt6SYyfnp9mE8,  playlist name: all panic\n",
      "uri: spotify:playlist:1pGfqRD9CzyO9lOn9Fp09V,  playlist name: live panic - small\n"
     ]
    }
   ],
   "source": [
    "play_lists = []\n",
    "playlists = sp.user_playlists(user=f'{SPOTIFY_USERNAME}', limit=10)\n",
    "\n",
    "for pl in playlists['items']:\n",
    "    uri = pl['uri']\n",
    "    play_lists.append(uri)\n",
    "    print(f\"uri: {uri},  playlist name: {pl['name']}\")"
   ]
  },
  {
   "cell_type": "markdown",
   "id": "9700c6aa-cf55-4cfe-abed-eaa83930434d",
   "metadata": {},
   "source": [
    "Option 2: using the link provided when \"sharing\" a playlist..."
   ]
  },
  {
   "cell_type": "code",
   "execution_count": 7,
   "id": "3442c0bd-49e4-4e94-bf57-0e4ba08ee2fe",
   "metadata": {},
   "outputs": [
    {
     "name": "stdout",
     "output_type": "stream",
     "text": [
      "playlist_URI: 3GX5FLE0IxHNZtLye0ETgb\n",
      "Track in playlist: spotify:track:7hqesNgWCx8NZTHl4MXkPF\n"
     ]
    }
   ],
   "source": [
    "# link from \"share\" feature\n",
    "playlist_link = 'https://open.spotify.com/playlist/3GX5FLE0IxHNZtLye0ETgb?si=f99fa67315f14bbe'\n",
    "\n",
    "# get the uri part\n",
    "playlist_URI = playlist_link.split(\"/\")[-1].split(\"?\")[0]\n",
    "print(f\"playlist_URI: {playlist_URI}\")\n",
    "\n",
    "# get the tracks from that playlist\n",
    "track_uris = [x[\"track\"][\"uri\"] for x in sp.playlist_tracks(playlist_URI)[\"items\"]]\n",
    "print(f\"Track in playlist: {track_uris[0]}\")"
   ]
  },
  {
   "cell_type": "markdown",
   "id": "cb0dcd5d-a530-4727-9e8d-c5c0a41fd6ea",
   "metadata": {},
   "source": [
    "### Loop over multiple playlists"
   ]
  },
  {
   "cell_type": "code",
   "execution_count": 8,
   "id": "d548e8ba-aaa1-4e35-924a-4f6ff4c3b427",
   "metadata": {},
   "outputs": [
    {
     "data": {
      "text/plain": [
       "7"
      ]
     },
     "execution_count": 8,
     "metadata": {},
     "output_type": "execute_result"
    }
   ],
   "source": [
    "# from sp_utils import get_playlist_queries\n",
    "\n",
    "featureLIST = [] \n",
    "\n",
    "for uri in play_lists:\n",
    "    results = get_playlist_queries(uri)\n",
    "    featureLIST.append(results)\n",
    "\n",
    "len(featureLIST)"
   ]
  },
  {
   "cell_type": "code",
   "execution_count": 9,
   "id": "5942425b-c7b3-4f73-9c21-1cb16808cf1d",
   "metadata": {},
   "outputs": [
    {
     "data": {
      "text/plain": [
       "12"
      ]
     },
     "execution_count": 9,
     "metadata": {},
     "output_type": "execute_result"
    }
   ],
   "source": [
    "len(featureLIST[0])"
   ]
  },
  {
   "cell_type": "code",
   "execution_count": 212,
   "id": "2ba424e6-447f-455f-984e-e577cc9aa1e2",
   "metadata": {
    "tags": []
   },
   "outputs": [],
   "source": [
    "# first playlist\n",
    "# featureLIST[0]"
   ]
  },
  {
   "cell_type": "code",
   "execution_count": 10,
   "id": "2f2a10fb-9ca2-40cd-beb7-6840bad55d89",
   "metadata": {
    "tags": []
   },
   "outputs": [
    {
     "data": {
      "text/plain": [
       "{'num_pl_songs_new': 12.0,\n",
       " 'num_pl_artists_new': 1.0,\n",
       " 'num_pl_albums_new': 3.0,\n",
       " 'duration_ms_songs_pl': 289973.0,\n",
       " 'pl_name_src': 'sleeping with the phish',\n",
       " 'pl_collaborative_src': 'false',\n",
       " 'track_uri_pl': 'spotify:track:6jcO51f5vHa9cJfCnfX1Rf',\n",
       " 'track_name_pl': 'Soul Shakedown Party',\n",
       " 'track_pop_pl': 22.0,\n",
       " 'album_name_pl': 'Amsterdam',\n",
       " 'album_uri_pl': 'spotify:album:709gu2Yj2tfqmNMIEDfOPg',\n",
       " 'artist_name_pl': 'Phish',\n",
       " 'artist_uri_pl': 'spotify:artist:5wbIWUzTPuTxTyG6ouQKqz',\n",
       " 'artists_followers_pl': 469167.0,\n",
       " 'artist_pop_pl': 55.0,\n",
       " 'artist_genres_pl': 'blues_rock jam_band',\n",
       " 'track_acousticness_pl': 0.261,\n",
       " 'track_danceability_pl': 0.65,\n",
       " 'track_energy_pl': 0.756,\n",
       " 'track_instrumentalness_pl': 2e-05,\n",
       " 'track_key_pl': 5,\n",
       " 'track_liveness_pl': 0.466,\n",
       " 'track_loudness_pl': -7.531,\n",
       " 'track_mode_pl': 1,\n",
       " 'track_speechiness_pl': 0.0829,\n",
       " 'track_tempo_pl': 135.869,\n",
       " 'time_signature_pl': 4,\n",
       " 'track_valence_pl': 0.79}"
      ]
     },
     "execution_count": 10,
     "metadata": {},
     "output_type": "execute_result"
    }
   ],
   "source": [
    "# first track of first playlist\n",
    "featureLIST[0][0]"
   ]
  },
  {
   "cell_type": "markdown",
   "id": "cfb67067-d2ba-41f7-b185-43b5bed7923a",
   "metadata": {},
   "source": [
    "### create dataframe of all playlists, tracks, and metadata defined in `get_playlist_queries()`\n",
    "\n",
    "Inspect last `N` songs of playlist..."
   ]
  },
  {
   "cell_type": "code",
   "execution_count": 11,
   "id": "287d4db0-51cd-4758-bb16-4bd46eda08e3",
   "metadata": {},
   "outputs": [
    {
     "name": "stdout",
     "output_type": "stream",
     "text": [
      "(116, 28)\n"
     ]
    },
    {
     "data": {
      "text/html": [
       "<div>\n",
       "<style scoped>\n",
       "    .dataframe tbody tr th:only-of-type {\n",
       "        vertical-align: middle;\n",
       "    }\n",
       "\n",
       "    .dataframe tbody tr th {\n",
       "        vertical-align: top;\n",
       "    }\n",
       "\n",
       "    .dataframe thead th {\n",
       "        text-align: right;\n",
       "    }\n",
       "</style>\n",
       "<table border=\"1\" class=\"dataframe\">\n",
       "  <thead>\n",
       "    <tr style=\"text-align: right;\">\n",
       "      <th></th>\n",
       "      <th>num_pl_songs_new</th>\n",
       "      <th>num_pl_artists_new</th>\n",
       "      <th>num_pl_albums_new</th>\n",
       "      <th>duration_ms_songs_pl</th>\n",
       "      <th>pl_name_src</th>\n",
       "      <th>pl_collaborative_src</th>\n",
       "      <th>track_uri_pl</th>\n",
       "      <th>track_name_pl</th>\n",
       "      <th>track_pop_pl</th>\n",
       "      <th>album_name_pl</th>\n",
       "      <th>album_uri_pl</th>\n",
       "      <th>artist_name_pl</th>\n",
       "      <th>artist_uri_pl</th>\n",
       "      <th>artists_followers_pl</th>\n",
       "      <th>artist_pop_pl</th>\n",
       "      <th>artist_genres_pl</th>\n",
       "      <th>track_acousticness_pl</th>\n",
       "      <th>track_danceability_pl</th>\n",
       "      <th>track_energy_pl</th>\n",
       "      <th>track_instrumentalness_pl</th>\n",
       "      <th>track_key_pl</th>\n",
       "      <th>track_liveness_pl</th>\n",
       "      <th>track_loudness_pl</th>\n",
       "      <th>track_mode_pl</th>\n",
       "      <th>track_speechiness_pl</th>\n",
       "      <th>track_tempo_pl</th>\n",
       "      <th>time_signature_pl</th>\n",
       "      <th>track_valence_pl</th>\n",
       "    </tr>\n",
       "  </thead>\n",
       "  <tbody>\n",
       "    <tr>\n",
       "      <th>0</th>\n",
       "      <td>12.0</td>\n",
       "      <td>1.0</td>\n",
       "      <td>3.0</td>\n",
       "      <td>289973.0</td>\n",
       "      <td>sleeping with the phish</td>\n",
       "      <td>false</td>\n",
       "      <td>spotify:track:6jcO51f5vHa9cJfCnfX1Rf</td>\n",
       "      <td>Soul Shakedown Party</td>\n",
       "      <td>22.0</td>\n",
       "      <td>Amsterdam</td>\n",
       "      <td>spotify:album:709gu2Yj2tfqmNMIEDfOPg</td>\n",
       "      <td>Phish</td>\n",
       "      <td>spotify:artist:5wbIWUzTPuTxTyG6ouQKqz</td>\n",
       "      <td>469167.0</td>\n",
       "      <td>55.0</td>\n",
       "      <td>blues_rock jam_band</td>\n",
       "      <td>0.261</td>\n",
       "      <td>0.650</td>\n",
       "      <td>0.756</td>\n",
       "      <td>0.00002</td>\n",
       "      <td>5</td>\n",
       "      <td>0.466</td>\n",
       "      <td>-7.531</td>\n",
       "      <td>1</td>\n",
       "      <td>0.0829</td>\n",
       "      <td>135.869</td>\n",
       "      <td>4</td>\n",
       "      <td>0.790</td>\n",
       "    </tr>\n",
       "    <tr>\n",
       "      <th>1</th>\n",
       "      <td>12.0</td>\n",
       "      <td>1.0</td>\n",
       "      <td>3.0</td>\n",
       "      <td>812453.0</td>\n",
       "      <td>sleeping with the phish</td>\n",
       "      <td>false</td>\n",
       "      <td>spotify:track:2jT3iJ9w0WD51E2VRDPzOD</td>\n",
       "      <td>Divided Sky</td>\n",
       "      <td>20.0</td>\n",
       "      <td>Amsterdam</td>\n",
       "      <td>spotify:album:709gu2Yj2tfqmNMIEDfOPg</td>\n",
       "      <td>Phish</td>\n",
       "      <td>spotify:artist:5wbIWUzTPuTxTyG6ouQKqz</td>\n",
       "      <td>469167.0</td>\n",
       "      <td>55.0</td>\n",
       "      <td>blues_rock jam_band</td>\n",
       "      <td>0.259</td>\n",
       "      <td>0.240</td>\n",
       "      <td>0.844</td>\n",
       "      <td>0.05820</td>\n",
       "      <td>2</td>\n",
       "      <td>0.956</td>\n",
       "      <td>-6.961</td>\n",
       "      <td>1</td>\n",
       "      <td>0.0505</td>\n",
       "      <td>94.237</td>\n",
       "      <td>4</td>\n",
       "      <td>0.343</td>\n",
       "    </tr>\n",
       "    <tr>\n",
       "      <th>2</th>\n",
       "      <td>12.0</td>\n",
       "      <td>1.0</td>\n",
       "      <td>3.0</td>\n",
       "      <td>783173.0</td>\n",
       "      <td>sleeping with the phish</td>\n",
       "      <td>false</td>\n",
       "      <td>spotify:track:1nZBf3KEHNO1NwVMnCPRWd</td>\n",
       "      <td>Bathtub Gin</td>\n",
       "      <td>17.0</td>\n",
       "      <td>Amsterdam</td>\n",
       "      <td>spotify:album:709gu2Yj2tfqmNMIEDfOPg</td>\n",
       "      <td>Phish</td>\n",
       "      <td>spotify:artist:5wbIWUzTPuTxTyG6ouQKqz</td>\n",
       "      <td>469167.0</td>\n",
       "      <td>55.0</td>\n",
       "      <td>blues_rock jam_band</td>\n",
       "      <td>0.210</td>\n",
       "      <td>0.434</td>\n",
       "      <td>0.834</td>\n",
       "      <td>0.05240</td>\n",
       "      <td>0</td>\n",
       "      <td>0.369</td>\n",
       "      <td>-5.999</td>\n",
       "      <td>1</td>\n",
       "      <td>0.0423</td>\n",
       "      <td>118.021</td>\n",
       "      <td>4</td>\n",
       "      <td>0.822</td>\n",
       "    </tr>\n",
       "    <tr>\n",
       "      <th>3</th>\n",
       "      <td>12.0</td>\n",
       "      <td>1.0</td>\n",
       "      <td>3.0</td>\n",
       "      <td>1098160.0</td>\n",
       "      <td>sleeping with the phish</td>\n",
       "      <td>false</td>\n",
       "      <td>spotify:track:3GgcI3Efpom6Se3xRho66s</td>\n",
       "      <td>Down With Disease</td>\n",
       "      <td>19.0</td>\n",
       "      <td>Amsterdam</td>\n",
       "      <td>spotify:album:709gu2Yj2tfqmNMIEDfOPg</td>\n",
       "      <td>Phish</td>\n",
       "      <td>spotify:artist:5wbIWUzTPuTxTyG6ouQKqz</td>\n",
       "      <td>469167.0</td>\n",
       "      <td>55.0</td>\n",
       "      <td>blues_rock jam_band</td>\n",
       "      <td>0.320</td>\n",
       "      <td>0.496</td>\n",
       "      <td>0.868</td>\n",
       "      <td>0.10900</td>\n",
       "      <td>2</td>\n",
       "      <td>0.355</td>\n",
       "      <td>-6.165</td>\n",
       "      <td>1</td>\n",
       "      <td>0.0515</td>\n",
       "      <td>142.017</td>\n",
       "      <td>4</td>\n",
       "      <td>0.660</td>\n",
       "    </tr>\n",
       "    <tr>\n",
       "      <th>4</th>\n",
       "      <td>12.0</td>\n",
       "      <td>1.0</td>\n",
       "      <td>3.0</td>\n",
       "      <td>763373.0</td>\n",
       "      <td>sleeping with the phish</td>\n",
       "      <td>false</td>\n",
       "      <td>spotify:track:5s5DIVU9rB2npB9cV5JThl</td>\n",
       "      <td>Limb By Limb</td>\n",
       "      <td>13.0</td>\n",
       "      <td>Amsterdam</td>\n",
       "      <td>spotify:album:709gu2Yj2tfqmNMIEDfOPg</td>\n",
       "      <td>Phish</td>\n",
       "      <td>spotify:artist:5wbIWUzTPuTxTyG6ouQKqz</td>\n",
       "      <td>469167.0</td>\n",
       "      <td>55.0</td>\n",
       "      <td>blues_rock jam_band</td>\n",
       "      <td>0.338</td>\n",
       "      <td>0.383</td>\n",
       "      <td>0.761</td>\n",
       "      <td>0.14100</td>\n",
       "      <td>10</td>\n",
       "      <td>0.431</td>\n",
       "      <td>-7.391</td>\n",
       "      <td>1</td>\n",
       "      <td>0.0390</td>\n",
       "      <td>105.575</td>\n",
       "      <td>3</td>\n",
       "      <td>0.412</td>\n",
       "    </tr>\n",
       "  </tbody>\n",
       "</table>\n",
       "</div>"
      ],
      "text/plain": [
       "   num_pl_songs_new  num_pl_artists_new  num_pl_albums_new  \\\n",
       "0              12.0                 1.0                3.0   \n",
       "1              12.0                 1.0                3.0   \n",
       "2              12.0                 1.0                3.0   \n",
       "3              12.0                 1.0                3.0   \n",
       "4              12.0                 1.0                3.0   \n",
       "\n",
       "   duration_ms_songs_pl              pl_name_src pl_collaborative_src  \\\n",
       "0              289973.0  sleeping with the phish                false   \n",
       "1              812453.0  sleeping with the phish                false   \n",
       "2              783173.0  sleeping with the phish                false   \n",
       "3             1098160.0  sleeping with the phish                false   \n",
       "4              763373.0  sleeping with the phish                false   \n",
       "\n",
       "                           track_uri_pl         track_name_pl  track_pop_pl  \\\n",
       "0  spotify:track:6jcO51f5vHa9cJfCnfX1Rf  Soul Shakedown Party          22.0   \n",
       "1  spotify:track:2jT3iJ9w0WD51E2VRDPzOD           Divided Sky          20.0   \n",
       "2  spotify:track:1nZBf3KEHNO1NwVMnCPRWd           Bathtub Gin          17.0   \n",
       "3  spotify:track:3GgcI3Efpom6Se3xRho66s     Down With Disease          19.0   \n",
       "4  spotify:track:5s5DIVU9rB2npB9cV5JThl          Limb By Limb          13.0   \n",
       "\n",
       "  album_name_pl                          album_uri_pl artist_name_pl  \\\n",
       "0     Amsterdam  spotify:album:709gu2Yj2tfqmNMIEDfOPg          Phish   \n",
       "1     Amsterdam  spotify:album:709gu2Yj2tfqmNMIEDfOPg          Phish   \n",
       "2     Amsterdam  spotify:album:709gu2Yj2tfqmNMIEDfOPg          Phish   \n",
       "3     Amsterdam  spotify:album:709gu2Yj2tfqmNMIEDfOPg          Phish   \n",
       "4     Amsterdam  spotify:album:709gu2Yj2tfqmNMIEDfOPg          Phish   \n",
       "\n",
       "                           artist_uri_pl  artists_followers_pl  artist_pop_pl  \\\n",
       "0  spotify:artist:5wbIWUzTPuTxTyG6ouQKqz              469167.0           55.0   \n",
       "1  spotify:artist:5wbIWUzTPuTxTyG6ouQKqz              469167.0           55.0   \n",
       "2  spotify:artist:5wbIWUzTPuTxTyG6ouQKqz              469167.0           55.0   \n",
       "3  spotify:artist:5wbIWUzTPuTxTyG6ouQKqz              469167.0           55.0   \n",
       "4  spotify:artist:5wbIWUzTPuTxTyG6ouQKqz              469167.0           55.0   \n",
       "\n",
       "      artist_genres_pl  track_acousticness_pl  track_danceability_pl  \\\n",
       "0  blues_rock jam_band                  0.261                  0.650   \n",
       "1  blues_rock jam_band                  0.259                  0.240   \n",
       "2  blues_rock jam_band                  0.210                  0.434   \n",
       "3  blues_rock jam_band                  0.320                  0.496   \n",
       "4  blues_rock jam_band                  0.338                  0.383   \n",
       "\n",
       "   track_energy_pl  track_instrumentalness_pl  track_key_pl  \\\n",
       "0            0.756                    0.00002             5   \n",
       "1            0.844                    0.05820             2   \n",
       "2            0.834                    0.05240             0   \n",
       "3            0.868                    0.10900             2   \n",
       "4            0.761                    0.14100            10   \n",
       "\n",
       "   track_liveness_pl  track_loudness_pl  track_mode_pl  track_speechiness_pl  \\\n",
       "0              0.466             -7.531              1                0.0829   \n",
       "1              0.956             -6.961              1                0.0505   \n",
       "2              0.369             -5.999              1                0.0423   \n",
       "3              0.355             -6.165              1                0.0515   \n",
       "4              0.431             -7.391              1                0.0390   \n",
       "\n",
       "   track_tempo_pl  time_signature_pl  track_valence_pl  \n",
       "0         135.869                  4             0.790  \n",
       "1          94.237                  4             0.343  \n",
       "2         118.021                  4             0.822  \n",
       "3         142.017                  4             0.660  \n",
       "4         105.575                  3             0.412  "
      ]
     },
     "execution_count": 11,
     "metadata": {},
     "output_type": "execute_result"
    }
   ],
   "source": [
    "from itertools import chain\n",
    "\n",
    "test_df = pd.DataFrame(list(chain.from_iterable(featureLIST)))\n",
    "\n",
    "print(test_df.shape)\n",
    "test_df.head()"
   ]
  },
  {
   "cell_type": "markdown",
   "id": "a73cfec8-4aac-4de2-8598-32831c5136c6",
   "metadata": {},
   "source": [
    "### albums, artists, and tracks per playlist"
   ]
  },
  {
   "cell_type": "code",
   "execution_count": 12,
   "id": "9221e748-a908-499f-aa5b-384bda392baf",
   "metadata": {},
   "outputs": [
    {
     "name": "stdout",
     "output_type": "stream",
     "text": [
      "unique_albums pl_name_src\n",
      "Disco                       8\n",
      "Muscle Shoals              11\n",
      "all panic                   8\n",
      "biebs weeknd               14\n",
      "live panic - small          1\n",
      "sleeping with the phish     3\n",
      "space is the place          9\n",
      "Name: album_uri_pl, dtype: int64\n",
      "\n",
      "unique_artists pl_name_src\n",
      "Disco                       7\n",
      "Muscle Shoals               9\n",
      "all panic                   1\n",
      "biebs weeknd               11\n",
      "live panic - small          1\n",
      "sleeping with the phish     1\n",
      "space is the place          5\n",
      "Name: artist_uri_pl, dtype: int64\n",
      "\n",
      "n_songs_pl pl_name_src\n",
      "Disco                       8\n",
      "Muscle Shoals              16\n",
      "all panic                  40\n",
      "biebs weeknd               16\n",
      "live panic - small         11\n",
      "sleeping with the phish    12\n",
      "space is the place         13\n",
      "Name: track_uri_pl, dtype: int64\n"
     ]
    }
   ],
   "source": [
    "unique_albums = test_df.groupby('pl_name_src')['album_uri_pl'].nunique()\n",
    "unique_artists = test_df.groupby('pl_name_src')['artist_uri_pl'].nunique()\n",
    "n_songs_pl = test_df.groupby('pl_name_src')['track_uri_pl'].count()\n",
    "\n",
    "print(f\"unique_albums {unique_albums}\\n\")\n",
    "print(f\"unique_artists {unique_artists}\\n\")\n",
    "print(f\"n_songs_pl {n_songs_pl}\")"
   ]
  },
  {
   "cell_type": "code",
   "execution_count": 13,
   "id": "53e122cc-a9e5-43ad-9b4d-bf14ab38ffb7",
   "metadata": {},
   "outputs": [],
   "source": [
    "def get_test_instance(list_dict_test):\n",
    "    '''\n",
    "    create single test instances given a \n",
    "    list of dictionaries representing playlist tracks\n",
    "    '''\n",
    "    \n",
    "    # model serving signature with candidate tower fields\n",
    "    TEST_PL_QUERY = {\n",
    "        # 'album_name_can': '',\n",
    "        'album_name_pl': [],\n",
    "        'artist_uri_pl': [],\n",
    "        'album_uri_pl':[],\n",
    "        # 'album_uri_can': '',\n",
    "        # 'artist_followers_can': 0, \n",
    "        # 'artist_genres_can': \"\", \n",
    "        'artist_genres_pl': [], \n",
    "        # 'artist_name_can': '', \n",
    "        'artist_name_pl': [], \n",
    "        # 'artist_pop_can': 0, \n",
    "        'artist_pop_pl': [], \n",
    "        # 'artist_uri_can': '', \n",
    "        'artists_followers_pl': [], \n",
    "        'pl_collaborative_src': '', \n",
    "        # 'description_pl': '', \n",
    "        # 'duration_ms_seed_pl': 0, \n",
    "        # 'duration_ms_songs_pl': [ ], \n",
    "        'duration_ms_songs_pl':[],\n",
    "        'pl_duration_ms_new': 0.0,\n",
    "        'num_pl_songs_new': 0.0, \n",
    "        'pl_name_src': '', \n",
    "        'num_pl_albums_new': 0.0, \n",
    "        'num_pl_artists_new': 0.0, \n",
    "        # 'track_name_can': '', \n",
    "        'track_name_pl': [ ], \n",
    "        # 'track_pop_can': 0, \n",
    "        'track_pop_pl': [ ], \n",
    "        # 'track_uri_can': '', \n",
    "        'track_uri_pl': [ ],\n",
    "        # 'pid': 1,\n",
    "        'track_acousticness_pl':[],\n",
    "        'track_danceability_pl':[],\n",
    "        'track_energy_pl':[],\n",
    "        'track_instrumentalness_pl':[],\n",
    "        'track_key_pl':[],\n",
    "        'track_liveness_pl':[],\n",
    "        'track_loudness_pl':[],\n",
    "        'track_mode_pl':[],\n",
    "        'track_speechiness_pl':[],\n",
    "        'track_tempo_pl':[],\n",
    "        'time_signature_pl':[],\n",
    "        'track_valence_pl':[],\n",
    "        # candidates\n",
    "        'album_name_can': '',\n",
    "        'album_uri_can': '',\n",
    "        'artist_followers_can': 0.0,\n",
    "        'artist_genres_can': '',\n",
    "        'artist_name_can': '',\n",
    "        'artist_pop_can': 0.0,\n",
    "        'artist_uri_can': '',\n",
    "        'duration_ms_can': 0.0,\n",
    "        'time_signature_can': '',\n",
    "        'track_acousticness_can': 0.0,\n",
    "        'track_danceability_can': 0.0,\n",
    "        'track_energy_can': 0.0,\n",
    "        'track_instrumentalness_can': 0.0,\n",
    "        'track_key_can': '',\n",
    "        'track_liveness_can': 0.0,\n",
    "        'track_loudness_can': 0.0,\n",
    "        'track_mode_can': '',\n",
    "        'track_name_can': '',\n",
    "        'track_pop_can': 0.0,\n",
    "        'track_speechiness_can': 0.0,\n",
    "        'track_tempo_can': 0.0,\n",
    "        'track_uri_can': '',\n",
    "        'track_valence_can': 0.0,\n",
    "    }\n",
    "\n",
    "    counter = 0\n",
    "    for track in list_dict_test:\n",
    "        if counter == 0:\n",
    "            TEST_PL_QUERY['pl_name_src'] = track['pl_name_src']\n",
    "            TEST_PL_QUERY['num_pl_songs_new'] = track['num_pl_songs_new'] \n",
    "            TEST_PL_QUERY['num_pl_albums_new'] = track['num_pl_albums_new']\n",
    "            TEST_PL_QUERY['num_pl_artists_new'] = track['num_pl_artists_new']\n",
    "            # TEST_PL_QUERY['description_pl'] = track['description_pl']\n",
    "            TEST_PL_QUERY['pl_collaborative_src'] = str(track['pl_collaborative_src'])\n",
    "        else:\n",
    "            # do these\n",
    "            TEST_PL_QUERY['track_pop_pl'].append(track['track_pop_pl'])\n",
    "            TEST_PL_QUERY['track_uri_pl'].append(track['track_uri_pl'])\n",
    "            TEST_PL_QUERY['track_name_pl'].append(track['track_name_pl'])\n",
    "            TEST_PL_QUERY['album_name_pl'].append(track['album_name_pl'])\n",
    "            TEST_PL_QUERY['album_uri_pl'].append(track['album_uri_pl'])\n",
    "            TEST_PL_QUERY['artist_name_pl'].append(track['artist_name_pl'])\n",
    "            TEST_PL_QUERY['artist_uri_pl'].append(track['artist_uri_pl'])\n",
    "            TEST_PL_QUERY['artist_genres_pl'].append(track['artist_genres_pl'])\n",
    "            TEST_PL_QUERY['artist_pop_pl'].append(track['artist_pop_pl'])\n",
    "            TEST_PL_QUERY['duration_ms_songs_pl'].append(track['duration_ms_songs_pl'])\n",
    "            TEST_PL_QUERY['artists_followers_pl'].append(track['artists_followers_pl'])\n",
    "            # audio feats\n",
    "            TEST_PL_QUERY['track_acousticness_pl'].append(track['track_acousticness_pl'])\n",
    "            TEST_PL_QUERY['track_danceability_pl'].append(track['track_danceability_pl'])\n",
    "            TEST_PL_QUERY['track_energy_pl'].append(track['track_energy_pl'])\n",
    "            TEST_PL_QUERY['track_instrumentalness_pl'].append(track['track_instrumentalness_pl'])\n",
    "            TEST_PL_QUERY['track_key_pl'].append(str(track['track_key_pl']))\n",
    "            TEST_PL_QUERY['track_liveness_pl'].append(track['track_liveness_pl'])\n",
    "            TEST_PL_QUERY['track_loudness_pl'].append(track['track_loudness_pl'])\n",
    "            TEST_PL_QUERY['track_mode_pl'].append(str(track['track_mode_pl']))\n",
    "            TEST_PL_QUERY['track_speechiness_pl'].append(track['track_speechiness_pl'])\n",
    "            TEST_PL_QUERY['track_tempo_pl'].append(track['track_tempo_pl'])\n",
    "            TEST_PL_QUERY['time_signature_pl'].append(str(track['time_signature_pl']))\n",
    "            TEST_PL_QUERY['track_valence_pl'].append(track['track_valence_pl'])\n",
    "            \n",
    "\n",
    "        counter=+1\n",
    "        \n",
    "    return TEST_PL_QUERY"
   ]
  },
  {
   "cell_type": "code",
   "execution_count": 14,
   "id": "578fad20-1ddb-4b50-8da3-13c5a091af3a",
   "metadata": {},
   "outputs": [
    {
     "name": "stdout",
     "output_type": "stream",
     "text": [
      "{'album_name_can': '',\n",
      " 'album_name_pl': ['Phish: 12/30/2015 Madison Square Garden, New York, NY',\n",
      "                   'LivePhish 04/03/98',\n",
      "                   'LivePhish 04/03/98',\n",
      "                   'LivePhish 04/03/98',\n",
      "                   'LivePhish 04/03/98'],\n",
      " 'album_uri_can': '',\n",
      " 'album_uri_pl': ['spotify:album:4fwquTwetrNGSfHxC3JVC0',\n",
      "                  'spotify:album:251YMVId8YBkTapKyYgExP',\n",
      "                  'spotify:album:251YMVId8YBkTapKyYgExP',\n",
      "                  'spotify:album:251YMVId8YBkTapKyYgExP',\n",
      "                  'spotify:album:251YMVId8YBkTapKyYgExP'],\n",
      " 'artist_followers_can': 0.0,\n",
      " 'artist_genres_can': '',\n",
      " 'artist_genres_pl': ['blues_rock jam_band',\n",
      "                      'blues_rock jam_band',\n",
      "                      'blues_rock jam_band',\n",
      "                      'blues_rock jam_band',\n",
      "                      'blues_rock jam_band'],\n",
      " 'artist_name_can': '',\n",
      " 'artist_name_pl': ['Phish', 'Phish', 'Phish', 'Phish', 'Phish'],\n",
      " 'artist_pop_can': 0.0,\n",
      " 'artist_pop_pl': [55.0, 55.0, 55.0, 55.0, 55.0],\n",
      " 'artist_uri_can': '',\n",
      " 'artist_uri_pl': ['spotify:artist:5wbIWUzTPuTxTyG6ouQKqz',\n",
      "                   'spotify:artist:5wbIWUzTPuTxTyG6ouQKqz',\n",
      "                   'spotify:artist:5wbIWUzTPuTxTyG6ouQKqz',\n",
      "                   'spotify:artist:5wbIWUzTPuTxTyG6ouQKqz',\n",
      "                   'spotify:artist:5wbIWUzTPuTxTyG6ouQKqz'],\n",
      " 'artists_followers_pl': [469167.0, 469167.0, 469167.0, 469167.0, 469167.0],\n",
      " 'duration_ms_can': 0.0,\n",
      " 'duration_ms_songs_pl': [440226.0, 204826.0, 608786.0, 1001853.0, 859400.0],\n",
      " 'num_pl_albums_new': 3.0,\n",
      " 'num_pl_artists_new': 1.0,\n",
      " 'num_pl_songs_new': 12.0,\n",
      " 'pl_collaborative_src': 'false',\n",
      " 'pl_duration_ms_new': 0.0,\n",
      " 'pl_name_src': 'sleeping with the phish',\n",
      " 'time_signature_can': '',\n",
      " 'time_signature_pl': ['4', '4', '4', '4', '4'],\n",
      " 'track_acousticness_can': 0.0,\n",
      " 'track_acousticness_pl': [0.041, 0.594, 0.772, 0.869, 0.527],\n",
      " 'track_danceability_can': 0.0,\n",
      " 'track_danceability_pl': [0.237, 0.276, 0.466, 0.422, 0.38],\n",
      " 'track_energy_can': 0.0,\n",
      " 'track_energy_pl': [0.934, 0.944, 0.893, 0.672, 0.775],\n",
      " 'track_instrumentalness_can': 0.0,\n",
      " 'track_instrumentalness_pl': [0.00172, 0.167, 0.476, 0.0688, 0.679],\n",
      " 'track_key_can': '',\n",
      " 'track_key_pl': ['2', '7', '7', '10', '6'],\n",
      " 'track_liveness_can': 0.0,\n",
      " 'track_liveness_pl': [0.936, 0.829, 0.0818, 0.399, 0.57],\n",
      " 'track_loudness_can': 0.0,\n",
      " 'track_loudness_pl': [-6.262, -5.03, -6.327, -7.039, -6.727],\n",
      " 'track_mode_can': '',\n",
      " 'track_mode_pl': ['1', '1', '0', '1', '0'],\n",
      " 'track_name_can': '',\n",
      " 'track_name_pl': ['Character Zero - Live',\n",
      "                   'Tweezer Reprise',\n",
      "                   'Birds Of A Feather',\n",
      "                   'Reba',\n",
      "                   \"Mike's Song\"],\n",
      " 'track_pop_can': 0.0,\n",
      " 'track_pop_pl': [17.0, 12.0, 10.0, 14.0, 18.0],\n",
      " 'track_speechiness_can': 0.0,\n",
      " 'track_speechiness_pl': [0.0727, 0.0502, 0.0451, 0.031, 0.0292],\n",
      " 'track_tempo_can': 0.0,\n",
      " 'track_tempo_pl': [86.806, 96.06, 88.431, 93.078, 99.717],\n",
      " 'track_uri_can': '',\n",
      " 'track_uri_pl': ['spotify:track:4Wb3YIIOw0sQCqEGks18RM',\n",
      "                  'spotify:track:2JozsL1ayPPjrZsOlQwHuk',\n",
      "                  'spotify:track:01ojsEtmouLnfyVfqPuo6b',\n",
      "                  'spotify:track:4EsuEWMji0V2jMGyfFrkru',\n",
      "                  'spotify:track:4khXbeepla079uBFXvQxsL'],\n",
      " 'track_valence_can': 0.0,\n",
      " 'track_valence_pl': [0.382, 0.585, 0.77, 0.593, 0.56]}\n"
     ]
    }
   ],
   "source": [
    "# list of tracks\n",
    "sample_tracks = featureLIST[0][-MAX_SEED_LENGTH-1:]\n",
    "\n",
    "# get metadata for each track\n",
    "TEST_QUERY = get_test_instance(sample_tracks)\n",
    "pprint(TEST_QUERY)"
   ]
  },
  {
   "cell_type": "markdown",
   "id": "3050062a-231d-49c2-a6dd-a728b2cce8f0",
   "metadata": {},
   "source": [
    "# Query Matching Engine\n",
    "\n",
    "### TODO:\n",
    "* parametrize this section\n",
    "* structure section and notebook for readers"
   ]
  },
  {
   "cell_type": "code",
   "execution_count": 15,
   "id": "5a1f8316-7aea-4ba7-90b7-c91ff1daa0f5",
   "metadata": {},
   "outputs": [],
   "source": [
    "from google.cloud import aiplatform as vertex_ai\n",
    "\n",
    "# Vertex SDK \n",
    "vertex_ai.init(project=PROJECT_ID, location=LOCATION)\n",
    "\n",
    "import time"
   ]
  },
  {
   "cell_type": "markdown",
   "id": "504c7a3b-6cf5-495e-8ddf-03b362226ec9",
   "metadata": {},
   "source": [
    "### Index Endpoint"
   ]
  },
  {
   "cell_type": "code",
   "execution_count": 22,
   "id": "fc0fae76-62cb-414c-91da-83738efc3acc",
   "metadata": {},
   "outputs": [],
   "source": [
    "# INDEX_ENDPOINT_URI = \"projects/934903580331/locations/us-central1/indexEndpoints/5901413157808635904\"\n",
    "# INDEX_ENDPOINT_URI = \"projects/934903580331/locations/us-central1/indexEndpoints/1633126610968248320\" # jw 100 epoch\n",
    "\n",
    "INDEX_ENDPOINT_URI = 'projects/934903580331/locations/us-central1/indexEndpoints/381618495768494080' # ann 50e\n",
    "\n",
    "# INDEX_ENDPOINT_URI = 'projects/934903580331/locations/us-central1/indexEndpoints/1829068379130953728' # last-15 ANN"
   ]
  },
  {
   "cell_type": "code",
   "execution_count": 23,
   "id": "ca4f8969-5ba0-4710-b500-38cbda0471be",
   "metadata": {},
   "outputs": [
    {
     "data": {
      "text/plain": [
       "<google.cloud.aiplatform.matching_engine.matching_engine_index_endpoint.MatchingEngineIndexEndpoint object at 0x7ff3c104bb10> \n",
       "resource name: projects/934903580331/locations/us-central1/indexEndpoints/381618495768494080"
      ]
     },
     "execution_count": 23,
     "metadata": {},
     "output_type": "execute_result"
    }
   ],
   "source": [
    "ME_index_endpoint = vertex_ai.MatchingEngineIndexEndpoint(INDEX_ENDPOINT_URI)\n",
    "ME_index_endpoint"
   ]
  },
  {
   "cell_type": "code",
   "execution_count": 24,
   "id": "397b9bbe-d91e-44b9-9375-3f834c8dae70",
   "metadata": {},
   "outputs": [
    {
     "name": "stdout",
     "output_type": "stream",
     "text": [
      "DEPLOYED_INDEX_ID: deployed_tfrs_32dim_50e_v8\n"
     ]
    },
    {
     "data": {
      "text/plain": [
       "[id: \"deployed_tfrs_32dim_50e_v8\"\n",
       "index: \"projects/934903580331/locations/us-central1/indexes/5123345953436205056\"\n",
       "create_time {\n",
       "  seconds: 1673552056\n",
       "  nanos: 94509000\n",
       "}\n",
       "private_endpoints {\n",
       "  match_grpc_address: \"10.41.2.5\"\n",
       "}\n",
       "index_sync_time {\n",
       "  seconds: 1674674313\n",
       "  nanos: 230862000\n",
       "}\n",
       "automatic_resources {\n",
       "  min_replica_count: 2\n",
       "  max_replica_count: 2\n",
       "}\n",
       "deployment_group: \"default\"\n",
       "]"
      ]
     },
     "execution_count": 24,
     "metadata": {},
     "output_type": "execute_result"
    }
   ],
   "source": [
    "DEPLOYED_INDEX_ID = ME_index_endpoint.deployed_indexes[0].id\n",
    "print(f\"DEPLOYED_INDEX_ID: {DEPLOYED_INDEX_ID}\")\n",
    "\n",
    "ME_index_endpoint.deployed_indexes"
   ]
  },
  {
   "cell_type": "markdown",
   "id": "fd46784f-85b8-4615-a734-0ef6452f0471",
   "metadata": {},
   "source": [
    "### Model Endpoint"
   ]
  },
  {
   "cell_type": "code",
   "execution_count": 25,
   "id": "46fcaf6f-cd9c-49cd-8d61-f78ee3e74edb",
   "metadata": {},
   "outputs": [],
   "source": [
    "# ENDPOINT_URI = 'projects/934903580331/locations/us-central1/endpoints/185144563977945088'\n",
    "# ENDPOINT_URI = \"projects/934903580331/locations/us-central1/endpoints/8515115024753098752\" # jw 100 epoch\n",
    "\n",
    "ENDPOINT_URI = 'projects/934903580331/locations/us-central1/endpoints/4002948002778972160' # 50e\n",
    "# ENDPOINT_URI = 'projects/934903580331/locations/us-central1/endpoints/6383522618309345280' # last-15"
   ]
  },
  {
   "cell_type": "code",
   "execution_count": 26,
   "id": "b1a595f0-8171-4f03-b35c-a2dfa630dfd7",
   "metadata": {},
   "outputs": [
    {
     "data": {
      "text/plain": [
       "<google.cloud.aiplatform.models.Endpoint object at 0x7ff3c104bf10> \n",
       "resource name: projects/934903580331/locations/us-central1/endpoints/4002948002778972160"
      ]
     },
     "execution_count": 26,
     "metadata": {},
     "output_type": "execute_result"
    }
   ],
   "source": [
    "model_endpoint = vertex_ai.Endpoint(ENDPOINT_URI)\n",
    "model_endpoint"
   ]
  },
  {
   "cell_type": "code",
   "execution_count": 27,
   "id": "a3dd99ff-0472-4ada-a89d-aeb394e8eef2",
   "metadata": {},
   "outputs": [
    {
     "name": "stdout",
     "output_type": "stream",
     "text": [
      "id: \"520565979193802752\"\n",
      "model: \"projects/934903580331/locations/us-central1/models/6791535990214230016\"\n",
      "display_name: \"deployed_qmodel_tfrs_32dim_50e_v7\"\n",
      "create_time {\n",
      "  seconds: 1673456208\n",
      "  nanos: 327780000\n",
      "}\n",
      "dedicated_resources {\n",
      "  machine_spec {\n",
      "    machine_type: \"n1-standard-4\"\n",
      "  }\n",
      "  min_replica_count: 1\n",
      "  max_replica_count: 2\n",
      "}\n",
      "model_version_id: \"1\"\n",
      "\n"
     ]
    }
   ],
   "source": [
    "print(model_endpoint.gca_resource.deployed_models[0])"
   ]
  },
  {
   "cell_type": "markdown",
   "id": "450708c8-ec42-4a90-ac08-ece712197abe",
   "metadata": {},
   "source": [
    "### Retrieve nearest neighbors in deployed index\n",
    "\n",
    "**TODO** add Feature Store to this step"
   ]
  },
  {
   "cell_type": "code",
   "execution_count": 28,
   "id": "c61711c9-8655-4407-a93d-12721c135a47",
   "metadata": {},
   "outputs": [],
   "source": [
    "def candidate_retrieval(retrieval_index, query_instance, deployed_index_id, num_neighbs=10):\n",
    "    '''\n",
    "    TODO: some args\n",
    "    '''\n",
    "    # here\n",
    "    start = time.process_time()\n",
    "    playlist_emb = model_endpoint.predict([query_instance])\n",
    "    print(f\"Generate embeddings in {round((time.process_time() - start),2)} seconds\\n\")\n",
    "    \n",
    "    \n",
    "    start = time.process_time()\n",
    "    candidate_tracks = retrieval_index.match(\n",
    "        deployed_index_id=f'{deployed_index_id}',\n",
    "        queries=playlist_emb.predictions,\n",
    "        num_neighbors=10\n",
    "    )\n",
    "    \n",
    "    print(f\"Retrieved nearest neighbors in {round((time.process_time() - start),2)} seconds\\n\")\n",
    "    playlist_name = query_instance['pl_name_src']\n",
    "    # playlist_description = query_instance['description_pl']\n",
    "    \n",
    "    return candidate_tracks, playlist_name # playlist_description\n",
    "\n",
    "def interpret_results(candidate_tracks, playlist_name): # playlist_description\n",
    "    '''\n",
    "    TODO:\n",
    "    '''\n",
    "    # here\n",
    "    results = []\n",
    "    \n",
    "    print(f\"playlist: {playlist_name}\")\n",
    "    # print(f\"description: {playlist_description}\\n\")\n",
    "    \n",
    "    print(f\"Retrieved Candidates:\\n\")\n",
    "    for i, neighbors in enumerate(candidate_tracks[0]):\n",
    "        \n",
    "        track_dict = {}\n",
    "        \n",
    "        track_index_id = str(neighbors.id)\n",
    "        \n",
    "        # print(track_index_id)\n",
    "        # results.append(track_index_id)\n",
    "        # if len(track_index_id) == 36:\n",
    "        \n",
    "        track_meta = sp.track(track_index_id)\n",
    "        track_name = track_meta['name']\n",
    "        artist_name = track_meta['artists'][0]['name']\n",
    "        art_uri = track_meta['artists'][0]['uri']\n",
    "        \n",
    "        art_genres = sp.artist(art_uri)['genres']\n",
    "\n",
    "        # populate dict\n",
    "        track_dict['track_uri'] = track_index_id\n",
    "        track_dict['track_name'] = track_name\n",
    "        track_dict['artist_name'] = artist_name\n",
    "        track_dict['track_genres'] = art_genres\n",
    "        track_dict['track_preview_url'] = track_meta['preview_url']\n",
    "        track_dict['track_spotify_url'] = track_meta['external_urls']['spotify']\n",
    "        track_dict['neighbor_distance'] = neighbors.distance\n",
    "        track_dict['playlist_name'] = playlist_name\n",
    "\n",
    "        print(f\"{i+1}) {track_name} - by {artist_name}; genres: {art_genres}; {track_index_id}\")\n",
    "        \n",
    "        results.append(track_dict)\n",
    "\n",
    "    # print(results)\n",
    "\n",
    "    return results\n"
   ]
  },
  {
   "cell_type": "code",
   "execution_count": 29,
   "id": "2fd0e280-5a91-4f94-9647-bff3d07c3862",
   "metadata": {},
   "outputs": [
    {
     "name": "stdout",
     "output_type": "stream",
     "text": [
      "Generate embeddings in 0.02 seconds\n",
      "\n",
      "Retrieved nearest neighbors in 0.0 seconds\n",
      "\n",
      "playlist: sleeping with the phish\n",
      "Retrieved Candidates:\n",
      "\n",
      "1) Motorhead - by Hawkwind; genres: ['art rock', 'experimental', 'hard rock', 'progressive rock', 'proto-metal', 'protopunk', 'psychedelic rock', 'space rock', 'symphonic rock']; spotify:track:1PqB9tIfRdLNJJBPln3xRh\n",
      "2) Open My Eyes - by The Move; genres: ['beatlesque', 'british blues', 'bubblegum pop', 'classic garage rock', 'classic uk pop', 'folk rock', 'freakbeat', 'merseybeat', 'protopunk', 'psychedelic rock', 'pub rock']; spotify:track:38GhS6VdKqmOI7ayfwSnD8\n",
      "3) Potatoe Chips - by Slim Gaillard; genres: ['jazz blues', 'rhythm and blues', 'stride', 'swing']; spotify:track:0U3LrnGhbIqz6rO8muM0gy\n",
      "4) La linterna - by Banda 20 De Julio De Repelon; genres: ['cumbia', 'porro']; spotify:track:4AJOOAOmIhIeJWe4JppOaQ\n",
      "5) That's It for the Other One - Live in San Francisco, February 27, 1969 - by Grateful Dead; genres: ['classic rock', 'cosmic american', 'country rock', 'double drumming', 'jam band', 'psychedelic rock', 'rock']; spotify:track:44FKqeyePqfAcWfJKJkpGy\n",
      "6) The Paladin - by Garaj Mahal; genres: []; spotify:track:5W5zOBoCcrw2erRm5Fgs4H\n",
      "7) Ethiopia - by Mark Berube; genres: []; spotify:track:0YDQoHpJwX90DhFg5hqMp0\n",
      "8) El Boogaloo Del Perro - by Los Destellos; genres: ['chicha', 'cumbia', 'cumbia amazonica', 'cumbia peruana']; spotify:track:3Lxmi1sXKK9Rgag8YIBBmq\n",
      "9) Dead Flowers - by Townes Van Zandt; genres: ['alternative country', 'cosmic american', 'country rock', 'folk', 'folk rock', 'outlaw country', 'roots rock', 'singer-songwriter', 'texas country']; spotify:track:47bwlUOUckJn3WAlQyzCzi\n",
      "10) Woe Be Gone / Bubba's Reel / Frank's Reel - by Battlefield Band; genres: ['british folk', 'celtic', 'celtic rock', 'irish folk', 'scottish folk']; spotify:track:5gY3TnEFAhoiaoyP77Fsx8\n",
      "--------\n",
      "Generate embeddings in 0.0 seconds\n",
      "\n",
      "Retrieved nearest neighbors in 0.0 seconds\n",
      "\n",
      "playlist: biebs weeknd\n",
      "Retrieved Candidates:\n",
      "\n",
      "1) Desiderate (ASOT 821) - Giuseppe Ottaviani Remix - by Maria Healy; genres: ['tech trance']; spotify:track:3EBZ19dM3kzTFrPdSOd5Ov\n",
      "2) Kes Ke Se - by LOS SANTOS; genres: ['urbano espanol']; spotify:track:5ah0liGeQjfn5pwkE74Ve9\n",
      "3) Wires - by James Plotkin/ Brent Gutzeit; genres: []; spotify:track:4iS4dMqsRIsg0aTYLCAGyb\n",
      "4) Sol Radiante - by Meditación Interna; genres: []; spotify:track:6fKC6okfBfinmU6589DyPV\n",
      "5) Qué Se Pudra - by Emus DJ; genres: ['cumbia pop', 'previa']; spotify:track:6fyfj8dDmpAqEXQyCCPMO1\n",
      "6) Zara Zara - by Estudios Talkback; genres: ['chinese traditional']; spotify:track:0xPw8M1WUKcyszkMAz7xIU\n",
      "7) Se Llamaba No Se - by Primera Generacion; genres: []; spotify:track:0bii14dJXh5y5b114hHMGn\n",
      "8) Nemam Ja Osamnaest Godina - by Dino Merlin; genres: ['turbo folk', 'yugoslav rock']; spotify:track:2tAtXIatqr9U0xECjhZXDZ\n",
      "9) Ora lo so - by Achille Lauro; genres: ['italian hip hop', 'italian indie pop', 'italian pop']; spotify:track:62pKXsRHgqhtGaqTQeDOga\n",
      "10) Ae Ajnabi - by Udit Narayan; genres: ['chutney', 'classic bollywood', 'desi pop', 'filmi']; spotify:track:2uYMygGK4jvIanumCIm0cn\n",
      "--------\n",
      "Generate embeddings in 0.0 seconds\n",
      "\n",
      "Retrieved nearest neighbors in 0.0 seconds\n",
      "\n",
      "playlist: Muscle Shoals\n",
      "Retrieved Candidates:\n",
      "\n",
      "1) Cógele el golpe - Remastered - by Cachao y su ritmo caliente; genres: []; spotify:track:6opvH2KumXhKohNRzkFBpP\n",
      "2) Anabacoa (Guaguancó) - by Conjunto Casino; genres: ['bolero cubano', 'mambo', 'musica tradicional cubana', 'son cubano clasico']; spotify:track:6nSQJvThGFbL1iBEMB5068\n",
      "3) Lamento del Cóndor - by Los Cóndores del Cusco; genres: []; spotify:track:1enNnhohOj0YKNdr6kxpZa\n",
      "4) Shokilla - by Aditya Rao; genres: []; spotify:track:1edRSOwQQgl4ddvvH9bfpb\n",
      "5) Fiesta de Jerez - by Carmen Amaya; genres: ['cante flamenco', 'flamenco']; spotify:track:63HZoA245sjOW0FmwcMLKj\n",
      "6) Lamba Caribe - by Kaoma; genres: ['europop', 'zouk']; spotify:track:0FHisUiWrQBJ8znfgyUnL1\n",
      "7) Mahogany Hall Stomp - by Irakli; genres: ['classic russian pop']; spotify:track:34IEAqQRY31sj5cae2CeOJ\n",
      "8) Resignación - Sevillanas - by Los Morancos; genres: []; spotify:track:1gMks8SPutSUVp4bTncpEA\n",
      "9) Bi Doberman Beltz - by Negu Gorriak; genres: ['euskal rock', 'latin alternative', 'rap euskera', 'spanish punk']; spotify:track:05EXE5AWDyf4WAGcjQXnAq\n",
      "10) Frescura antigua - by Mambotur; genres: []; spotify:track:5MYDAzEqLj0GiQa6HlWXGg\n",
      "--------\n",
      "Generate embeddings in 0.0 seconds\n",
      "\n",
      "Retrieved nearest neighbors in 0.0 seconds\n",
      "\n",
      "playlist: Disco\n",
      "Retrieved Candidates:\n",
      "\n",
      "1) Lollipop - by Various Artists; genres: []; spotify:track:5kHBilEj8zuIbPEJHXItcj\n",
      "2) Disco Inferno - by OR2 Workout; genres: ['workout product']; spotify:track:3GoH0Q9jf31cXmMS3oJF2z\n",
      "3) Better Do It Salsa - by The Gibson Brothers; genres: ['disco', 'vintage french electronic']; spotify:track:6m8RnZ6t55sSYEY9fGfOLq\n",
      "4) Knock On Wood - by La Discothèque; genres: []; spotify:track:3jSRvXWpyQ5TOiZepb4p8n\n",
      "5) Boogie Oogie Oogie - by A Taste Of Honey; genres: ['disco']; spotify:track:2aYMPCJ649cTFaAvWwqnBy\n",
      "6) Zing! Went the Strings of My Heart - by The Hit Co., The Tribute Co.; genres: []; spotify:track:3vHWZ6Nbq4LLMtyhi51Abv\n",
      "7) Romeo & Juliet - by Alec Costandinos; genres: ['deep disco']; spotify:track:4cPiv68OqF1y8UuVHRzxEf\n",
      "8) Lady Marmalade - by Soulxpress; genres: []; spotify:track:1GdHtLSS5033Gk5zPK5e6R\n",
      "9) D.I.S.C.O - by Ottawan; genres: ['disco', 'europop', 'italian disco', 'vintage french electronic']; spotify:track:0VyHB2p6XIPeI82u4QdOdT\n",
      "10) Play That Funky Music - A. R. Remix - by Big Mama; genres: []; spotify:track:17RK2dKjUvcFDBPDi0EC6s\n",
      "--------\n",
      "Generate embeddings in 0.0 seconds\n",
      "\n",
      "Retrieved nearest neighbors in 0.0 seconds\n",
      "\n",
      "playlist: space is the place\n",
      "Retrieved Candidates:\n",
      "\n",
      "1) Brother Where Are You? - Full Version/Bonus Track - by Oscar Brown, Jr.; genres: ['soul jazz']; spotify:track:6ty3N3ZCOvTYXyCBNSswlt\n",
      "2) Summer On A Solitary Beach - 2008 Remaster - by Franco Battiato; genres: ['classic italian pop', 'experimental', 'italian adult pop']; spotify:track:6GVCS3fxlAe5Uyp0irdeS6\n",
      "3) Karma - by Asteroid; genres: ['instrumental stoner rock', 'psychedelic doom', 'retro metal', 'space rock', 'stoner rock', 'swedish stoner rock']; spotify:track:64JcMd8FVJrMjzdXjvCPUL\n",
      "4) Payola Blues - by Neil Young; genres: ['canadian singer-songwriter', 'classic canadian rock', 'classic rock', 'mellow gold', 'permanent wave', 'rock', 'roots rock', 'singer-songwriter']; spotify:track:7moxtly25EYY3L9nr2gyIw\n",
      "5) Pusherman - by Romare; genres: ['deep house', 'electronica', 'indie jazz', 'indie soul']; spotify:track:1JovriJR6FNLlhLnHIVrHE\n",
      "6) Potatoe Chips - by Slim Gaillard; genres: ['jazz blues', 'rhythm and blues', 'stride', 'swing']; spotify:track:0U3LrnGhbIqz6rO8muM0gy\n",
      "7) Dolana Ay Dolana - by Mustafa Özkent; genres: ['anadolu rock', 'turkish psych']; spotify:track:0MPcXdhf91CFStqb3zsXY6\n",
      "8) Mood Rider - by The Jesus and Mary Chain; genres: ['alternative rock', 'new wave', 'noise pop', 'post-punk', 'punk', 'rock', 'scottish indie', 'shoegaze', 'uk post-punk']; spotify:track:3gd11fX46I5pN8uIwQQNVR\n",
      "9) The Pusher - by Nina Simone; genres: ['jazz blues', 'soul', 'soul jazz', 'torch song', 'vocal jazz']; spotify:track:1o5THHBacLMlJIdlg8hB62\n",
      "10) Witches' Song - by Marianne Faithfull; genres: ['art rock', 'british invasion', 'folk', 'folk rock', 'singer-songwriter']; spotify:track:3TtYzuu4lDLFS8UAEtLqdf\n",
      "--------\n",
      "Generate embeddings in 0.0 seconds\n",
      "\n",
      "Retrieved nearest neighbors in 0.0 seconds\n",
      "\n",
      "playlist: all panic\n",
      "Retrieved Candidates:\n",
      "\n",
      "1) Pasea la Salamandria - by Antarctic; genres: ['instrumental math rock', 'jacksonville indie', 'math pop', 'math rock']; spotify:track:5kMCyFaBA9PxGTTcPAbU7j\n",
      "2) Keine Macht - by Terminal Choice; genres: ['aggrotech', 'dark wave', 'ebm', 'electro-industrial', 'industrial metal', 'neue deutsche harte']; spotify:track:1hW58xGhy2dnQiHzk80qek\n",
      "3) Давай вернёмся (Про бухло) - by Chaif; genres: ['classic russian rock', 'russian rock']; spotify:track:1MkL1rfvESrqZh9vJA8zA1\n",
      "4) Ageless Stranger - by Viathyn; genres: ['canadian metal', 'melodic power metal', 'melodic progressive metal']; spotify:track:516WdGjK0UiD6OQarmvi8m\n",
      "5) Riversiderer - by Bob Log III; genres: ['garage punk blues', 'punk blues']; spotify:track:2LZItr48unQJiQOHTfabnQ\n",
      "6) Forbidden Look - by Obskuria; genres: ['deep space rock']; spotify:track:4D51HFrFpfhqL4HQCdpPgX\n",
      "7) Dark City - by Iced Earth; genres: ['hard rock', 'melodic metal', 'metal', 'neo classical metal', 'old school thrash', 'power metal', 'power thrash', 'speed metal', 'us power metal']; spotify:track:6qo2lDHfRmWrgMOVOjvevS\n",
      "8) Sploosh! - by Ozric Tentacles; genres: ['art rock', 'instrumental rock', 'progressive rock', 'space rock', 'symphonic rock']; spotify:track:6jXOffq4LCDlZyRCF6gSUP\n",
      "9) Load - by Taintstick; genres: []; spotify:track:6nE0MkQfAXTs7dfYwYM8pa\n",
      "10) Heroic Deathe - by Stormwarrior; genres: ['german metal', 'german power metal', 'neo classical metal', 'neo-trad metal', 'power metal', 'speed metal', 'symphonic power metal']; spotify:track:5wDPlWw9C4ncfkEqduZztK\n",
      "--------\n",
      "Generate embeddings in 0.0 seconds\n",
      "\n",
      "Retrieved nearest neighbors in 0.0 seconds\n",
      "\n",
      "playlist: live panic - small\n",
      "Retrieved Candidates:\n",
      "\n",
      "1) Descarga Guajira - by Cachao; genres: ['jazz cubano', 'latin jazz', 'mambo', 'musica tradicional cubana']; spotify:track:1ZQD2NCwDE6Ls0dRcKv2Tb\n",
      "2) Set up 707 - by Edge Of Motion; genres: ['acid techno']; spotify:track:4FscTDDe6eFPvsZCkIRdhW\n",
      "3) Essence Of It's Own - by Obskuria; genres: ['deep space rock']; spotify:track:1mi4B3HELheQzVfmAu7HSf\n",
      "4) Breakfast Suite - by Obskuria; genres: ['deep space rock']; spotify:track:5p07Dhh8JVAQneIG1BJ2l4\n",
      "5) Liza - Live - by Stéphane Grappelli; genres: ['french jazz', 'gypsy jazz', 'jazz violin']; spotify:track:6VAh4uly0Xa9Xj4o7qKwi2\n",
      "6) Masked Jackal - by Coroner; genres: ['metal', 'old school thrash', 'speed metal', 'swiss metal', 'technical thrash', 'thrash metal']; spotify:track:5oNFOuJ01iuXWNyvLN8n1N\n",
      "7) Lagrimas Solitarias - by Los Straitjackets; genres: ['instrumental rock', 'instrumental surf', 'surf music']; spotify:track:5mh3rUnln7rzCocTgGLKwn\n",
      "8) Outbreak Of Evil - by Sodom; genres: ['black thrash', 'death metal', 'deathrash', 'german metal', 'german thrash metal', 'hard rock', 'metal', 'old school thrash', 'speed metal', 'thrash metal']; spotify:track:4v7J37aIyRTMT17taR3rP1\n",
      "9) Premature Grave - by FamishGod; genres: ['death doom']; spotify:track:5DuLDPckYcJmGS77mH7cmT\n",
      "10) Neptune Towers - by Darkthrone; genres: [\"black 'n' roll\", 'black metal', 'blackened crust', 'metal', 'norwegian black metal', 'norwegian death metal', 'norwegian metal']; spotify:track:4ymVsoOkUoKhlT86qlwpPI\n",
      "--------\n"
     ]
    }
   ],
   "source": [
    "all_recs = []\n",
    "\n",
    "for playlist in featureLIST:\n",
    "    \n",
    "    seed_tracks = playlist[-MAX_SEED_LENGTH-1:]\n",
    "    \n",
    "    query = get_test_instance(seed_tracks)\n",
    "    \n",
    "    candidates, name = candidate_retrieval( # pl_description\n",
    "        retrieval_index=ME_index_endpoint,\n",
    "        query_instance=query, \n",
    "        deployed_index_id=DEPLOYED_INDEX_ID\n",
    "    )\n",
    "    \n",
    "    results = interpret_results(candidates, name) # pl_description\n",
    "    all_recs.append(results)\n",
    "    print(\"--------\")"
   ]
  },
  {
   "cell_type": "code",
   "execution_count": 30,
   "id": "0a98b7e5-de53-46dd-8aeb-50870d6368cc",
   "metadata": {},
   "outputs": [
    {
     "data": {
      "text/plain": [
       "7"
      ]
     },
     "execution_count": 30,
     "metadata": {},
     "output_type": "execute_result"
    }
   ],
   "source": [
    "len(all_recs)"
   ]
  },
  {
   "cell_type": "code",
   "execution_count": 31,
   "id": "6642796a-8951-4ebd-9320-165c1193930a",
   "metadata": {},
   "outputs": [
    {
     "data": {
      "text/plain": [
       "{'track_uri': 'spotify:track:44FKqeyePqfAcWfJKJkpGy',\n",
       " 'track_name': \"That's It for the Other One - Live in San Francisco, February 27, 1969\",\n",
       " 'artist_name': 'Grateful Dead',\n",
       " 'track_genres': ['classic rock',\n",
       "  'cosmic american',\n",
       "  'country rock',\n",
       "  'double drumming',\n",
       "  'jam band',\n",
       "  'psychedelic rock',\n",
       "  'rock'],\n",
       " 'track_preview_url': 'https://p.scdn.co/mp3-preview/7275129ab1aa03c50b3b1a7ee4152d095a40381b?cid=2dce494e64a74be980138668f4402b97',\n",
       " 'track_spotify_url': 'https://open.spotify.com/track/44FKqeyePqfAcWfJKJkpGy',\n",
       " 'neighbor_distance': 131.3176727294922,\n",
       " 'playlist_name': 'sleeping with the phish'}"
      ]
     },
     "execution_count": 31,
     "metadata": {},
     "output_type": "execute_result"
    }
   ],
   "source": [
    "all_recs[0][4]"
   ]
  },
  {
   "cell_type": "markdown",
   "id": "db74b733-c8f1-43e8-919b-96f8db7aebcd",
   "metadata": {},
   "source": [
    "## Compare Brute Force retrieval"
   ]
  },
  {
   "cell_type": "code",
   "execution_count": 284,
   "id": "c4acf3cd-4f6c-4040-bcbb-d19c035673ee",
   "metadata": {},
   "outputs": [
    {
     "name": "stdout",
     "output_type": "stream",
     "text": [
      "DEPLOYED_INDEX_ID: deployed_tfrs_32dim_50e_v8_bf\n"
     ]
    },
    {
     "data": {
      "text/plain": [
       "[id: \"deployed_tfrs_32dim_50e_v8_bf\"\n",
       "index: \"projects/934903580331/locations/us-central1/indexes/4605994946242019328\"\n",
       "create_time {\n",
       "  seconds: 1673552276\n",
       "  nanos: 416921000\n",
       "}\n",
       "private_endpoints {\n",
       "  match_grpc_address: \"10.41.2.5\"\n",
       "}\n",
       "index_sync_time {\n",
       "  seconds: 1673558195\n",
       "  nanos: 18382000\n",
       "}\n",
       "automatic_resources {\n",
       "  min_replica_count: 2\n",
       "  max_replica_count: 2\n",
       "}\n",
       "deployment_group: \"default\"\n",
       "]"
      ]
     },
     "execution_count": 284,
     "metadata": {},
     "output_type": "execute_result"
    }
   ],
   "source": [
    "# create brute force index\n",
    "\n",
    "bf_INDEX_ENDPOINT_URI = 'projects/934903580331/locations/us-central1/indexEndpoints/6417567896351801344' # bf 50e\n",
    "\n",
    "ME_BF_index_endpoint = vertex_ai.MatchingEngineIndexEndpoint(bf_INDEX_ENDPOINT_URI)\n",
    "ME_BF_index_endpoint\n",
    "\n",
    "DEPLOYED_BF_INDEX_ID = ME_BF_index_endpoint.deployed_indexes[0].id\n",
    "print(f\"DEPLOYED_INDEX_ID: {DEPLOYED_BF_INDEX_ID}\")\n",
    "\n",
    "ME_BF_index_endpoint.deployed_indexes"
   ]
  },
  {
   "cell_type": "code",
   "execution_count": 290,
   "id": "3dc901d7-dc68-491b-9ac5-9c621a8dbcc7",
   "metadata": {},
   "outputs": [
    {
     "name": "stdout",
     "output_type": "stream",
     "text": [
      "Generate embeddings in 0.0 seconds\n",
      "\n",
      "Retrieved nearest neighbors in 0.0 seconds\n",
      "\n",
      "playlist: sleeping with the phish\n",
      "Retrieved Candidates:\n",
      "\n",
      "1) Sabotage - by Maria Isa; genres: []; spotify:track:0Nj0MFkl0s3LGaf0h6d03Q\n",
      "2) Motorhead - by Hawkwind; genres: ['art rock', 'experimental', 'hard rock', 'progressive rock', 'proto-metal', 'protopunk', 'psychedelic rock', 'space rock', 'symphonic rock']; spotify:track:1PqB9tIfRdLNJJBPln3xRh\n",
      "3) In The Desert - Axel Boman Remix - by Dreems; genres: ['float house']; spotify:track:7sm2FKb3fju37zuGbBdo1D\n",
      "4) Open My Eyes - by The Move; genres: ['beatlesque', 'british blues', 'bubblegum pop', 'classic garage rock', 'classic uk pop', 'folk rock', 'freakbeat', 'merseybeat', 'protopunk', 'psychedelic rock', 'pub rock']; spotify:track:38GhS6VdKqmOI7ayfwSnD8\n",
      "5) Swingin' down the lane - by Jerry Wallace; genres: ['deep adult standards']; spotify:track:1WQxjJWQTUQdugmysoANRw\n",
      "6) Potatoe Chips - by Slim Gaillard; genres: ['jazz blues', 'stride', 'swing']; spotify:track:0U3LrnGhbIqz6rO8muM0gy\n",
      "7) Mass in G Minor: Kyrie - by Ralph Vaughan Williams; genres: ['classical', 'early music', 'post-romantic era']; spotify:track:2RciOpWlfc44rndX5w6JU1\n",
      "8) Baby's House - Remastered 1991 - by Steve Miller Band; genres: ['album rock', 'blues rock', 'classic rock', 'country rock', 'folk rock', 'hard rock', 'heartland rock', 'mellow gold', 'psychedelic rock', 'rock', 'singer-songwriter', 'soft rock']; spotify:track:7sHzhPJNggzfReEo4SGmoa\n",
      "9) La linterna - by Banda 20 De Julio De Repelon; genres: ['cumbia', 'porro']; spotify:track:4AJOOAOmIhIeJWe4JppOaQ\n",
      "10) That's It for the Other One - Live in San Francisco, February 27, 1969 - by Grateful Dead; genres: ['classic rock', 'cosmic american', 'country rock', 'double drumming', 'jam band', 'psychedelic rock', 'rock']; spotify:track:44FKqeyePqfAcWfJKJkpGy\n"
     ]
    },
    {
     "data": {
      "text/plain": [
       "[{'track_uri': 'spotify:track:0Nj0MFkl0s3LGaf0h6d03Q',\n",
       "  'track_name': 'Sabotage',\n",
       "  'artist_name': 'Maria Isa',\n",
       "  'track_genres': [],\n",
       "  'track_preview_url': 'https://p.scdn.co/mp3-preview/91d7730d8ca03f9dad620715cd4f50b124ea5c4f?cid=2dce494e64a74be980138668f4402b97',\n",
       "  'track_spotify_url': 'https://open.spotify.com/track/0Nj0MFkl0s3LGaf0h6d03Q',\n",
       "  'neighbor_distance': 133.32156372070312,\n",
       "  'playlist_name': 'sleeping with the phish'},\n",
       " {'track_uri': 'spotify:track:1PqB9tIfRdLNJJBPln3xRh',\n",
       "  'track_name': 'Motorhead',\n",
       "  'artist_name': 'Hawkwind',\n",
       "  'track_genres': ['art rock',\n",
       "   'experimental',\n",
       "   'hard rock',\n",
       "   'progressive rock',\n",
       "   'proto-metal',\n",
       "   'protopunk',\n",
       "   'psychedelic rock',\n",
       "   'space rock',\n",
       "   'symphonic rock'],\n",
       "  'track_preview_url': None,\n",
       "  'track_spotify_url': 'https://open.spotify.com/track/1PqB9tIfRdLNJJBPln3xRh',\n",
       "  'neighbor_distance': 133.00466918945312,\n",
       "  'playlist_name': 'sleeping with the phish'},\n",
       " {'track_uri': 'spotify:track:7sm2FKb3fju37zuGbBdo1D',\n",
       "  'track_name': 'In The Desert - Axel Boman Remix',\n",
       "  'artist_name': 'Dreems',\n",
       "  'track_genres': ['float house'],\n",
       "  'track_preview_url': 'https://p.scdn.co/mp3-preview/2050b83a71e72cbb8ec8bbcee865d4b75592638d?cid=2dce494e64a74be980138668f4402b97',\n",
       "  'track_spotify_url': 'https://open.spotify.com/track/7sm2FKb3fju37zuGbBdo1D',\n",
       "  'neighbor_distance': 132.6801300048828,\n",
       "  'playlist_name': 'sleeping with the phish'},\n",
       " {'track_uri': 'spotify:track:38GhS6VdKqmOI7ayfwSnD8',\n",
       "  'track_name': 'Open My Eyes',\n",
       "  'artist_name': 'The Move',\n",
       "  'track_genres': ['beatlesque',\n",
       "   'british blues',\n",
       "   'bubblegum pop',\n",
       "   'classic garage rock',\n",
       "   'classic uk pop',\n",
       "   'folk rock',\n",
       "   'freakbeat',\n",
       "   'merseybeat',\n",
       "   'protopunk',\n",
       "   'psychedelic rock',\n",
       "   'pub rock'],\n",
       "  'track_preview_url': 'https://p.scdn.co/mp3-preview/92ecb3281d20f3bf622fa6f4233d7e40c73d72b7?cid=2dce494e64a74be980138668f4402b97',\n",
       "  'track_spotify_url': 'https://open.spotify.com/track/38GhS6VdKqmOI7ayfwSnD8',\n",
       "  'neighbor_distance': 132.66470336914062,\n",
       "  'playlist_name': 'sleeping with the phish'},\n",
       " {'track_uri': 'spotify:track:1WQxjJWQTUQdugmysoANRw',\n",
       "  'track_name': \"Swingin' down the lane\",\n",
       "  'artist_name': 'Jerry Wallace',\n",
       "  'track_genres': ['deep adult standards'],\n",
       "  'track_preview_url': 'https://p.scdn.co/mp3-preview/5c596f79caed9d62a03de8b3292621cc5d1370a2?cid=2dce494e64a74be980138668f4402b97',\n",
       "  'track_spotify_url': 'https://open.spotify.com/track/1WQxjJWQTUQdugmysoANRw',\n",
       "  'neighbor_distance': 132.62086486816406,\n",
       "  'playlist_name': 'sleeping with the phish'},\n",
       " {'track_uri': 'spotify:track:0U3LrnGhbIqz6rO8muM0gy',\n",
       "  'track_name': 'Potatoe Chips',\n",
       "  'artist_name': 'Slim Gaillard',\n",
       "  'track_genres': ['jazz blues', 'stride', 'swing'],\n",
       "  'track_preview_url': None,\n",
       "  'track_spotify_url': 'https://open.spotify.com/track/0U3LrnGhbIqz6rO8muM0gy',\n",
       "  'neighbor_distance': 132.60009765625,\n",
       "  'playlist_name': 'sleeping with the phish'},\n",
       " {'track_uri': 'spotify:track:2RciOpWlfc44rndX5w6JU1',\n",
       "  'track_name': 'Mass in G Minor: Kyrie',\n",
       "  'artist_name': 'Ralph Vaughan Williams',\n",
       "  'track_genres': ['classical', 'early music', 'post-romantic era'],\n",
       "  'track_preview_url': 'https://p.scdn.co/mp3-preview/5027ed467fc884da8e68a71fb2cc27cd24a1545a?cid=2dce494e64a74be980138668f4402b97',\n",
       "  'track_spotify_url': 'https://open.spotify.com/track/2RciOpWlfc44rndX5w6JU1',\n",
       "  'neighbor_distance': 131.9114227294922,\n",
       "  'playlist_name': 'sleeping with the phish'},\n",
       " {'track_uri': 'spotify:track:7sHzhPJNggzfReEo4SGmoa',\n",
       "  'track_name': \"Baby's House - Remastered 1991\",\n",
       "  'artist_name': 'Steve Miller Band',\n",
       "  'track_genres': ['album rock',\n",
       "   'blues rock',\n",
       "   'classic rock',\n",
       "   'country rock',\n",
       "   'folk rock',\n",
       "   'hard rock',\n",
       "   'heartland rock',\n",
       "   'mellow gold',\n",
       "   'psychedelic rock',\n",
       "   'rock',\n",
       "   'singer-songwriter',\n",
       "   'soft rock'],\n",
       "  'track_preview_url': 'https://p.scdn.co/mp3-preview/b5bbb886ec656529d9eafb02c93bd8f4cec0dab0?cid=2dce494e64a74be980138668f4402b97',\n",
       "  'track_spotify_url': 'https://open.spotify.com/track/7sHzhPJNggzfReEo4SGmoa',\n",
       "  'neighbor_distance': 131.58016967773438,\n",
       "  'playlist_name': 'sleeping with the phish'},\n",
       " {'track_uri': 'spotify:track:4AJOOAOmIhIeJWe4JppOaQ',\n",
       "  'track_name': 'La linterna',\n",
       "  'artist_name': 'Banda 20 De Julio De Repelon',\n",
       "  'track_genres': ['cumbia', 'porro'],\n",
       "  'track_preview_url': None,\n",
       "  'track_spotify_url': 'https://open.spotify.com/track/4AJOOAOmIhIeJWe4JppOaQ',\n",
       "  'neighbor_distance': 131.36727905273438,\n",
       "  'playlist_name': 'sleeping with the phish'},\n",
       " {'track_uri': 'spotify:track:44FKqeyePqfAcWfJKJkpGy',\n",
       "  'track_name': \"That's It for the Other One - Live in San Francisco, February 27, 1969\",\n",
       "  'artist_name': 'Grateful Dead',\n",
       "  'track_genres': ['classic rock',\n",
       "   'cosmic american',\n",
       "   'country rock',\n",
       "   'double drumming',\n",
       "   'jam band',\n",
       "   'psychedelic rock',\n",
       "   'rock'],\n",
       "  'track_preview_url': 'https://p.scdn.co/mp3-preview/7275129ab1aa03c50b3b1a7ee4152d095a40381b?cid=2dce494e64a74be980138668f4402b97',\n",
       "  'track_spotify_url': 'https://open.spotify.com/track/44FKqeyePqfAcWfJKJkpGy',\n",
       "  'neighbor_distance': 131.3176727294922,\n",
       "  'playlist_name': 'sleeping with the phish'}]"
      ]
     },
     "execution_count": 290,
     "metadata": {},
     "output_type": "execute_result"
    }
   ],
   "source": [
    "candidates, name = candidate_retrieval( # pl_description\n",
    "    retrieval_index=ME_BF_index_endpoint,\n",
    "    query_instance=TEST_QUERY, \n",
    "    deployed_index_id=DEPLOYED_BF_INDEX_ID\n",
    ")\n",
    "\n",
    "results = interpret_results(candidates, name)\n",
    "results"
   ]
  },
  {
   "cell_type": "markdown",
   "id": "401a27aa-4b30-4b32-bfcc-c7fe3f37b1f1",
   "metadata": {},
   "source": [
    "## evaluating recall"
   ]
  },
  {
   "cell_type": "code",
   "execution_count": 291,
   "id": "5974ecc6-6c58-47dd-9c42-7edb38e19e15",
   "metadata": {},
   "outputs": [],
   "source": [
    "# TEST_QUERY\n",
    "\n",
    "playlist_emb = model_endpoint.predict([TEST_QUERY])\n",
    "\n",
    "candidate_tracks_bf = ME_BF_index_endpoint.match(\n",
    "    deployed_index_id=DEPLOYED_BF_INDEX_ID,\n",
    "    queries=playlist_emb.predictions,\n",
    "    num_neighbors=10\n",
    ")\n",
    "\n",
    "candidate_tracks_ann = ME_index_endpoint.match(\n",
    "    deployed_index_id=DEPLOYED_INDEX_ID,\n",
    "    queries=playlist_emb.predictions,\n",
    "    num_neighbors=10\n",
    ")"
   ]
  },
  {
   "cell_type": "code",
   "execution_count": 292,
   "id": "a5641cbb-b59d-4387-bc55-8ac90242d3dd",
   "metadata": {},
   "outputs": [
    {
     "name": "stdout",
     "output_type": "stream",
     "text": [
      "Recall: 0.5\n"
     ]
    }
   ],
   "source": [
    "# Calculate recall by determining how many neighbors were correctly retrieved as compared to the brute-force option.\n",
    "recalled_neighbors = 0\n",
    "for tree_ah_neighbors, brute_force_neighbors in zip(\n",
    "    candidate_tracks_ann, candidate_tracks_bf\n",
    "):\n",
    "    tree_ah_neighbor_ids = [neighbor.id for neighbor in tree_ah_neighbors]\n",
    "    brute_force_neighbor_ids = [neighbor.id for neighbor in brute_force_neighbors]\n",
    "\n",
    "    recalled_neighbors += len(\n",
    "        set(tree_ah_neighbor_ids).intersection(brute_force_neighbor_ids)\n",
    "    )\n",
    "\n",
    "recall = recalled_neighbors / len(\n",
    "    [neighbor for neighbors in candidate_tracks_bf for neighbor in neighbors]\n",
    ")\n",
    "\n",
    "print(\"Recall: {}\".format(recall))"
   ]
  },
  {
   "cell_type": "code",
   "execution_count": 294,
   "id": "3f31711e-c623-406e-b202-f4e7c786b549",
   "metadata": {},
   "outputs": [
    {
     "name": "stdout",
     "output_type": "stream",
     "text": [
      "34.1 ms ± 7.18 ms per loop (mean ± std. dev. of 7 runs, 10 loops each)\n"
     ]
    }
   ],
   "source": [
    "%%timeit\n",
    "model_endpoint.predict([TEST_QUERY])"
   ]
  },
  {
   "cell_type": "markdown",
   "id": "8b01e448-971b-4756-ac11-fb3756dec464",
   "metadata": {},
   "source": [
    "## Plotting \n",
    "\n",
    "* TODO"
   ]
  },
  {
   "cell_type": "code",
   "execution_count": 241,
   "id": "c645ddac-18c0-4591-a1c8-237ee3280ef9",
   "metadata": {},
   "outputs": [],
   "source": [
    "# !pip install bokeh\n",
    "\n",
    "import numpy as np\n",
    "import seaborn as sns\n",
    "# from bokeh.charts import Histogram, Scatter, Donut, show\n",
    "from bokeh.plotting import figure\n",
    "from bokeh.io import output_notebook, show\n",
    "from bokeh.models import HoverTool, ColumnDataSource\n",
    "from bokeh import palettes"
   ]
  },
  {
   "cell_type": "code",
   "execution_count": 297,
   "id": "c45f57f2-8efb-4dc6-8d98-2476927e0051",
   "metadata": {},
   "outputs": [
    {
     "data": {
      "text/plain": [
       "'sleeping with the phish'"
      ]
     },
     "execution_count": 297,
     "metadata": {},
     "output_type": "execute_result"
    }
   ],
   "source": [
    "my_playlist_name = all_recs[0][0]['playlist_name']\n",
    "my_playlist_name"
   ]
  },
  {
   "cell_type": "code",
   "execution_count": 263,
   "id": "2a952799-6f47-4dd5-9136-4c8c18cd76e9",
   "metadata": {},
   "outputs": [],
   "source": [
    "# output_notebook()\n",
    "\n",
    "# tr_pop = test_df[test_df['pl_name_src'] == my_playlist_name]['track_pop_pl'].values\n",
    "\n",
    "# hist, edges = np.histogram(tr_pop, density=True, bins=50)\n",
    "\n",
    "# p = figure()\n",
    "# p.quad(top=hist, bottom=0, left=edges[:-1], right=edges[1:], line_color=\"white\")\n",
    "# show(p)"
   ]
  },
  {
   "cell_type": "markdown",
   "id": "ca89d937-5bbb-4139-a02c-5d308f2eaf15",
   "metadata": {},
   "source": [
    "# Archive - save"
   ]
  },
  {
   "cell_type": "code",
   "execution_count": null,
   "id": "fda148af-6533-4551-bd9b-f63d01c21727",
   "metadata": {},
   "outputs": [],
   "source": [
    "# TEST_INSTANCE = {\n",
    "#  'album_name_can': '',\n",
    "#  'album_name_pl': ['Im An Island Boy',\n",
    "#                    'Might Not',\n",
    "#                    '4REAL 4REAL',\n",
    "#                    'SremmLife',\n",
    "#                    'Peace Is The Mission (Extended)'],\n",
    "#  'album_uri_can': '',\n",
    "#  'album_uri_pl': ['spotify:album:3jcIJzp76JJpcB2NYGahOk',\n",
    "#                   'spotify:album:3P1ZVNT9bnVfTjYqKVr4Oa',\n",
    "#                   'spotify:album:5zuM1EG06X1J7VsIF1omRm',\n",
    "#                   'spotify:album:6eDx949ONWDCN0O22wFZf7',\n",
    "#                   'spotify:album:4pCLlUxlKj3pNVdBtFyhrU'],\n",
    "#  'artist_followers_can': 0.0,\n",
    "#  'artist_genres_can': '',\n",
    "#  'artist_genres_pl': ['unknown',\n",
    "#                       'canadian_hip_hop canadian_trap pop_rap rap trap',\n",
    "#                       'cali_rap gangster_rap hip_hop pop_rap rap '\n",
    "#                       'southern_hip_hop trap',\n",
    "#                       'hip_hop melodic_rap mississippi_hip_hop pop_rap rap '\n",
    "#                       'southern_hip_hop trap',\n",
    "#                       'dance_pop edm electro_house moombahton pop pop_dance '\n",
    "#                       'pop_rap tropical_house'],\n",
    "#  'artist_name_can': '',\n",
    "#  'artist_name_pl': ['Flyysoulja', 'Belly', 'YG', 'Rae Sremmurd', 'Major Lazer'],\n",
    "#  'artist_pop_can': 0.0,\n",
    "#  'artist_pop_pl': [34.0, 63.0, 76.0, 74.0, 75.0],\n",
    "#  'artist_uri_can': '',\n",
    "#  'artist_uri_pl': ['spotify:artist:5SOeefBn30MJhB0bMVtLU1',\n",
    "#                    'spotify:artist:0FOWNUFHPnMy0vOw1siGqi',\n",
    "#                    'spotify:artist:0A0FS04o6zMoto8OKPsDwY',\n",
    "#                    'spotify:artist:7iZtZyCzp3LItcw1wtPI3D',\n",
    "#                    'spotify:artist:738wLrAtLtCtFOLvQBXOXp'],\n",
    "#  'artists_followers_pl': [15861.0, 232071.0, 3005943.0, 7025645.0, 6327219.0],\n",
    "#  'duration_ms_can': 0.0,\n",
    "#  'duration_ms_songs_pl': [147120.0, 224306.0, 299226.0, 206306.0, 176561.0],\n",
    "#  'num_pl_albums_new': 14.0,\n",
    "#  'num_pl_artists_new': 11.0,\n",
    "#  'num_pl_songs_new': 16.0,\n",
    "#  'pl_collaborative_src': 'false',\n",
    "#  'pl_duration_ms_new': 0.0,\n",
    "#  'pl_name_src': 'biebs weeknd',\n",
    "#  'time_signature_can': '',\n",
    "#  'time_signature_pl': ['4', '4', '4', '4', '4'],\n",
    "#  'track_acousticness_can': 0.0,\n",
    "#  'track_acousticness_pl': [0.0545, 0.296, 0.325, 0.291, 0.00346],\n",
    "#  'track_danceability_can': 0.0,\n",
    "#  'track_danceability_pl': [0.809, 0.792, 0.88, 0.732, 0.723],\n",
    "#  'track_energy_can': 0.0,\n",
    "#  'track_energy_pl': [0.641, 0.573, 0.67, 0.69, 0.809],\n",
    "#  'track_instrumentalness_can': 0.0,\n",
    "#  'track_instrumentalness_pl': [3.49e-05, 0, 4.17e-06, 0, 0.00123],\n",
    "#  'track_key_can': '',\n",
    "#  'track_key_pl': ['8', '1', '2', '0', '7'],\n",
    "#  'track_liveness_can': 0.0,\n",
    "#  'track_liveness_pl': [0.083, 0.0778, 0.0662, 0.116, 0.565],\n",
    "#  'track_loudness_can': 0.0,\n",
    "#  'track_loudness_pl': [-7.063, -4.714, -5.177, -4.992, -3.081],\n",
    "#  'track_mode_can': '',\n",
    "#  'track_mode_pl': ['0', '1', '1', '0', '0'],\n",
    "#  'track_name_can': '',\n",
    "#  'track_name_pl': ['Im An Island Boy',\n",
    "#                    'Might Not',\n",
    "#                    'Go Loko (feat. Tyga, Jon Z)',\n",
    "#                    'This Could Be Us',\n",
    "#                    'Lean On'],\n",
    "#  'track_pop_can': 0.0,\n",
    "#  'track_pop_pl': [48.0, 36.0, 66.0, 79.0, 74.0],\n",
    "#  'track_speechiness_can': 0.0,\n",
    "#  'track_speechiness_pl': [0.0755, 0.0861, 0.0468, 0.134, 0.0625],\n",
    "#  'track_tempo_can': 0.0,\n",
    "#  'track_tempo_pl': [99.934, 134.023, 101.008, 143.072, 98.007],\n",
    "#  'track_uri_can': '',\n",
    "#  'track_uri_pl': ['spotify:track:6JNUBfWGs8kNl7k47Hvpgd',\n",
    "#                   'spotify:track:5hSrO8SL1d8x5uuf8tztX7',\n",
    "#                   'spotify:track:1kK6DwzyXJSp58u5HYWwuD',\n",
    "#                   'spotify:track:4jTiyLlOJVJj3mCr7yfPQD',\n",
    "#                   'spotify:track:1Lim1Py7xBgbAkAys3AGAG'],\n",
    "#  'track_valence_can': 0.0,\n",
    "#  'track_valence_pl': [0.759, 0.278, 0.131, 0.758, 0.274]}"
   ]
  },
  {
   "cell_type": "code",
   "execution_count": null,
   "id": "5ec96ccc-d824-4d32-beba-3c393b131561",
   "metadata": {},
   "outputs": [],
   "source": []
  }
 ],
 "metadata": {
  "environment": {
   "kernel": "python3",
   "name": "tf2-gpu.2-8.m97",
   "type": "gcloud",
   "uri": "gcr.io/deeplearning-platform-release/tf2-gpu.2-8:m97"
  },
  "kernelspec": {
   "display_name": "Python 3",
   "language": "python",
   "name": "python3"
  },
  "language_info": {
   "codemirror_mode": {
    "name": "ipython",
    "version": 3
   },
   "file_extension": ".py",
   "mimetype": "text/x-python",
   "name": "python",
   "nbconvert_exporter": "python",
   "pygments_lexer": "ipython3",
   "version": "3.7.12"
  }
 },
 "nbformat": 4,
 "nbformat_minor": 5
}
