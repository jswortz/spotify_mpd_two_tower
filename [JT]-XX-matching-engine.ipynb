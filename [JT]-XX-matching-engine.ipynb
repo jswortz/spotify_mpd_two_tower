{
 "cells": [
  {
   "cell_type": "markdown",
   "id": "f523ce16-b93d-4107-8905-f3e07176174c",
   "metadata": {},
   "source": [
    "# Implementing Recommendation Engines with Matching Engine"
   ]
  },
  {
   "cell_type": "markdown",
   "id": "211c8ed5-f34b-44f8-9028-b8b716165b08",
   "metadata": {},
   "source": [
    "### VPC Network peering\n",
    "Matching engine is a high performance vector matching service that requires a seperate VPC to ensure performance. \n",
    "\n",
    "Below are the one-time instructions to set up a peering network. \n",
    "\n",
    "**Once created, be sure to your notebook instance running this particular notebook is in the subnetwork... https://cloud.google.com/vertex-ai/docs/matching-engine/match-eng-setup**"
   ]
  },
  {
   "cell_type": "markdown",
   "id": "a90079d2-402c-4222-92be-2ad8920e5810",
   "metadata": {},
   "source": [
    "## Setup"
   ]
  },
  {
   "cell_type": "code",
   "execution_count": 29,
   "id": "3a487550-df48-49ee-8efd-39fb1dbe7981",
   "metadata": {},
   "outputs": [
    {
     "name": "stdout",
     "output_type": "stream",
     "text": [
      "PROJECT_ID: hybrid-vertex\n",
      "PROJECT_NUM: 934903580331\n",
      "LOCATION: us-central1\n",
      "BUCKET_URI: gs://jt-tfrs-central\n",
      "RUN_DIR_GCS_PATH: gs://jt-tfrs-central/a50-epoch/run-20221230-160518\n"
     ]
    }
   ],
   "source": [
    "GCP_PROJECTS = !gcloud config get-value project\n",
    "PROJECT_ID = GCP_PROJECTS[0]\n",
    "PROJECT_NUM = !gcloud projects list --filter=\"$PROJECT_ID\" --format=\"value(PROJECT_NUMBER)\"\n",
    "PROJECT_NUM = PROJECT_NUM[0]\n",
    "LOCATION = 'us-central1'\n",
    "\n",
    "BUCKET = 'jt-tfrs-central'\n",
    "BUCKET_URI = f'gs://{BUCKET}'\n",
    "RUN_DIR_PATH = 'a50-epoch/run-20221230-160518'\n",
    "RUN_DIR_GCS_PATH = f'{BUCKET_URI}/{RUN_DIR_PATH}'\n",
    "\n",
    "VERSION = 'v8'\n",
    "\n",
    "print(f\"PROJECT_ID: {PROJECT_ID}\")\n",
    "print(f\"PROJECT_NUM: {PROJECT_NUM}\")\n",
    "print(f\"LOCATION: {LOCATION}\")\n",
    "print(f\"BUCKET_URI: {BUCKET_URI}\")\n",
    "print(f\"RUN_DIR_GCS_PATH: {RUN_DIR_GCS_PATH}\")"
   ]
  },
  {
   "cell_type": "code",
   "execution_count": 30,
   "id": "18bc2342-4c0b-43e0-ac8a-da94d007342e",
   "metadata": {},
   "outputs": [],
   "source": [
    "import os\n",
    "import sys\n",
    "from google.cloud import aiplatform as vertex_ai\n",
    "\n",
    "vertex_ai.init(project=PROJECT_ID, location=LOCATION)"
   ]
  },
  {
   "cell_type": "markdown",
   "id": "e0873449-09f4-4fa3-8683-2d413ce84540",
   "metadata": {},
   "source": [
    "### Create a matching engine index\n",
    "\n",
    "The matching engine loads an index from a file of embeddings created from the last notebook. \n",
    "\n",
    "Many of the optimization options for matching engine are found in the ah tree settings and testing is recommended depending on each use case\n",
    "\n",
    "Recall we saved our two tower models and query embeddings (newline json) in a candidate folder"
   ]
  },
  {
   "cell_type": "code",
   "execution_count": 31,
   "id": "b8b770f6-fffe-453d-8cd4-23a968321091",
   "metadata": {},
   "outputs": [
    {
     "name": "stdout",
     "output_type": "stream",
     "text": [
      "EMBEDDINGS_INITIAL_URI: gs://jt-tfrs-central/a50-epoch/run-20221230-160518/candidates-v8/\n"
     ]
    }
   ],
   "source": [
    "EMBEDDINGS_INITIAL_URI = f'{BUCKET_URI}/{RUN_DIR_PATH}/candidates-v8/'\n",
    "\n",
    "print(f\"EMBEDDINGS_INITIAL_URI: {EMBEDDINGS_INITIAL_URI}\")"
   ]
  },
  {
   "cell_type": "markdown",
   "id": "faf7ee31-24bd-4157-98c0-b7992411df3a",
   "metadata": {},
   "source": [
    "`EMBEDDINGS_INITIAL_URI` should lead to a folder with just the candidate json file..."
   ]
  },
  {
   "cell_type": "code",
   "execution_count": 32,
   "id": "0a286eae-f5fa-45d9-8765-67dc5b71eb25",
   "metadata": {},
   "outputs": [
    {
     "name": "stdout",
     "output_type": "stream",
     "text": [
      "gs://jt-tfrs-central/a50-epoch/run-20221230-160518/candidates-v8/candidate_embs_local_v6_20230112-180944.json\n"
     ]
    }
   ],
   "source": [
    "! gsutil ls $EMBEDDINGS_INITIAL_URI"
   ]
  },
  {
   "cell_type": "markdown",
   "id": "cbe29a0e-5f1c-4c1d-930a-fec71bbc0ef4",
   "metadata": {},
   "source": [
    "### Create ANN index"
   ]
  },
  {
   "cell_type": "code",
   "execution_count": 33,
   "id": "807058c1-ab1f-4cd1-92e2-90b26cb07790",
   "metadata": {},
   "outputs": [],
   "source": [
    "# ANN index config\n",
    "APPROX_NEIGHBORS=50\n",
    "DISTANCE_MEASURE=\"DOT_PRODUCT_DISTANCE\"\n",
    "LEAF_NODE_EMB_COUNT=500\n",
    "LEAF_NODES_SEARCH_PERCENT=7\n",
    "DIMENSIONS = 32  # must match output dimensions\n",
    "\n",
    "DISPLAY_NAME = f\"tfrs_{DIMENSIONS}dim_50e_{VERSION}\"\n",
    "BF_DISPLAY_NAME=f\"{DISPLAY_NAME}_bf\"\n",
    "\n",
    "EXPERIMENT_NAME='a50-epoch'\n",
    "EXPERIMENT_RUN='run-20221230-160518'\n",
    "DATA_REGIME='full'"
   ]
  },
  {
   "cell_type": "markdown",
   "id": "cf48b356-6e35-47ce-9fe9-e0ad4a579615",
   "metadata": {},
   "source": [
    "> *Note: setting `sync=False` will allow us to proceed with the notebook while these operations complete*"
   ]
  },
  {
   "cell_type": "code",
   "execution_count": 34,
   "id": "8a872d85-7651-436d-aa33-6ac6049d0ed7",
   "metadata": {},
   "outputs": [
    {
     "name": "stdout",
     "output_type": "stream",
     "text": [
      "Creating MatchingEngineIndex\n",
      "Create MatchingEngineIndex backing LRO: projects/934903580331/locations/us-central1/indexes/5123345953436205056/operations/6355292451107766272\n"
     ]
    }
   ],
   "source": [
    "tree_ah_index = vertex_ai.MatchingEngineIndex.create_tree_ah_index(\n",
    "    display_name=DISPLAY_NAME,\n",
    "    contents_delta_uri=EMBEDDINGS_INITIAL_URI,\n",
    "    dimensions=DIMENSIONS,\n",
    "    approximate_neighbors_count=APPROX_NEIGHBORS,\n",
    "    distance_measure_type=DISTANCE_MEASURE,\n",
    "    leaf_node_embedding_count=LEAF_NODE_EMB_COUNT,\n",
    "    leaf_nodes_to_search_percent=LEAF_NODES_SEARCH_PERCENT,\n",
    "    description=\"Songs embeddings from the Spotify million playlist dataset\",\n",
    "    sync=False,\n",
    "    labels={\n",
    "        \"experiment_name\": f'{EXPERIMENT_NAME}',\n",
    "        \"experiment_run\": f'{EXPERIMENT_RUN}',\n",
    "        \"data_regime\": f'{DATA_REGIME}',\n",
    "    },\n",
    ")"
   ]
  },
  {
   "cell_type": "markdown",
   "id": "32491d2c-bfb1-45cb-bd5e-6eae5c16abcc",
   "metadata": {},
   "source": [
    "### Create Brute Force index\n",
    "\n",
    "used to evaluate ANN retrieval"
   ]
  },
  {
   "cell_type": "code",
   "execution_count": 35,
   "id": "75924a13-1b2b-4de9-84ab-84f9729c1458",
   "metadata": {},
   "outputs": [
    {
     "name": "stdout",
     "output_type": "stream",
     "text": [
      "Creating MatchingEngineIndex\n",
      "Create MatchingEngineIndex backing LRO: projects/934903580331/locations/us-central1/indexes/4605994946242019328/operations/7893271723854790656\n"
     ]
    }
   ],
   "source": [
    "brute_force_index = vertex_ai.MatchingEngineIndex.create_brute_force_index(\n",
    "    display_name=BF_DISPLAY_NAME,\n",
    "    contents_delta_uri=EMBEDDINGS_INITIAL_URI,\n",
    "    dimensions=DIMENSIONS,\n",
    "    distance_measure_type=DISTANCE_MEASURE,\n",
    "    sync=False,\n",
    "    labels={\n",
    "        \"experiment_name\": f'{EXPERIMENT_NAME}',\n",
    "        \"experiment_run\": f'{EXPERIMENT_RUN}',\n",
    "        \"data_regime\": f'{DATA_REGIME}',\n",
    "    },\n",
    ")"
   ]
  },
  {
   "cell_type": "markdown",
   "id": "6b3545b2-6aab-4be7-8551-3b9bf3152c00",
   "metadata": {},
   "source": [
    "### Create Matching Engine endpoint(s)\n",
    "\n",
    "* both the ANN and brute force indices can be deployed to a single endpoint\n",
    "* alternatively, we can create seperate endpoints, one for each index"
   ]
  },
  {
   "cell_type": "markdown",
   "id": "9f9745a8-6411-465c-b880-da8352696d11",
   "metadata": {},
   "source": [
    "#### index endpoint config: "
   ]
  },
  {
   "cell_type": "code",
   "execution_count": 39,
   "id": "6c46a273-11f9-4aa1-898b-a16749364495",
   "metadata": {},
   "outputs": [
    {
     "name": "stdout",
     "output_type": "stream",
     "text": [
      "VPC_NETWORK_FULL: projects/934903580331/global/networks/ucaip-haystack-vpc-network\n",
      "ANN_ENDPOINT_DISPLAY_NAME: tfrs_32dim_50e_v8_endpoint\n",
      "BF_ENDPOINT_DISPLAY_NAME: tfrs_32dim_50e_v8_bf_endpoint\n"
     ]
    }
   ],
   "source": [
    "VPC_NETWORK = \"ucaip-haystack-vpc-network\" # TODO: update this\n",
    "\n",
    "VPC_NETWORK_FULL = f\"projects/{PROJECT_NUM}/global/networks/{VPC_NETWORK}\"\n",
    "\n",
    "ANN_ENDPOINT_DISPLAY_NAME = f'{DISPLAY_NAME}_endpoint'\n",
    "\n",
    "BF_ENDPOINT_DISPLAY_NAME = f'{BF_DISPLAY_NAME}_endpoint'\n",
    "\n",
    "print(f\"VPC_NETWORK_FULL: {VPC_NETWORK_FULL}\")\n",
    "print(f\"ANN_ENDPOINT_DISPLAY_NAME: {ANN_ENDPOINT_DISPLAY_NAME}\")\n",
    "print(f\"BF_ENDPOINT_DISPLAY_NAME: {BF_ENDPOINT_DISPLAY_NAME}\")"
   ]
  },
  {
   "cell_type": "markdown",
   "id": "a9c04e57-dcfa-48e4-8fdf-221f6ed55cf5",
   "metadata": {},
   "source": [
    "Then create the indices"
   ]
  },
  {
   "cell_type": "code",
   "execution_count": 37,
   "id": "50510544-1d5c-472c-a048-783da39db303",
   "metadata": {},
   "outputs": [
    {
     "name": "stdout",
     "output_type": "stream",
     "text": [
      "Creating MatchingEngineIndexEndpoint\n",
      "Create MatchingEngineIndexEndpoint backing LRO: projects/934903580331/locations/us-central1/indexEndpoints/381618495768494080/operations/4548223100625354752\n",
      "MatchingEngineIndexEndpoint created. Resource name: projects/934903580331/locations/us-central1/indexEndpoints/381618495768494080\n",
      "To use this MatchingEngineIndexEndpoint in another session:\n",
      "index_endpoint = aiplatform.MatchingEngineIndexEndpoint('projects/934903580331/locations/us-central1/indexEndpoints/381618495768494080')\n"
     ]
    }
   ],
   "source": [
    "my_ann_index_endpoint = vertex_ai.MatchingEngineIndexEndpoint.create(\n",
    "    display_name=f'{ANN_ENDPOINT_DISPLAY_NAME}',\n",
    "    description=\"index endpoint for ANN index\",\n",
    "    network=VPC_NETWORK_FULL,\n",
    "    sync=False,\n",
    ")\n",
    "\n",
    "# to use existing\n",
    "# my_ann_index_endpoint = aiplatform.MatchingEngineIndexEndpoint('projects/934903580331/locations/us-central1/indexEndpoints/8097410557360996352')"
   ]
  },
  {
   "cell_type": "code",
   "execution_count": 38,
   "id": "b1e6b5f3-8f53-4f8a-84ee-16790dca6e63",
   "metadata": {},
   "outputs": [
    {
     "name": "stdout",
     "output_type": "stream",
     "text": [
      "Creating MatchingEngineIndexEndpoint\n",
      "Create MatchingEngineIndexEndpoint backing LRO: projects/934903580331/locations/us-central1/indexEndpoints/6417567896351801344/operations/1470012755317620736\n",
      "MatchingEngineIndexEndpoint created. Resource name: projects/934903580331/locations/us-central1/indexEndpoints/6417567896351801344\n",
      "To use this MatchingEngineIndexEndpoint in another session:\n",
      "index_endpoint = aiplatform.MatchingEngineIndexEndpoint('projects/934903580331/locations/us-central1/indexEndpoints/6417567896351801344')\n"
     ]
    }
   ],
   "source": [
    "my_bf_index_endpoint = vertex_ai.MatchingEngineIndexEndpoint.create(\n",
    "    display_name=f'{BF_ENDPOINT_DISPLAY_NAME}',\n",
    "    description=\"index endpoint for ANN index\",\n",
    "    network=VPC_NETWORK_FULL,\n",
    "    sync=False,\n",
    ")\n",
    "# to use existing\n",
    "# my_bf_index_endpoint = aiplatform.MatchingEngineIndexEndpoint('projects/934903580331/locations/us-central1/indexEndpoints/1972515064137121792')"
   ]
  },
  {
   "cell_type": "code",
   "execution_count": 40,
   "id": "b69ed141-785e-4881-9813-7140aa8af0d7",
   "metadata": {},
   "outputs": [
    {
     "name": "stdout",
     "output_type": "stream",
     "text": [
      "ANN_INDEX_ENDPOINT_NAME: projects/934903580331/locations/us-central1/indexEndpoints/381618495768494080\n",
      "BF_INDEX_ENDPOINT_NAME: projects/934903580331/locations/us-central1/indexEndpoints/6417567896351801344\n"
     ]
    }
   ],
   "source": [
    "ANN_INDEX_ENDPOINT_NAME = my_ann_index_endpoint.resource_name\n",
    "BF_INDEX_ENDPOINT_NAME = my_bf_index_endpoint.resource_name\n",
    "\n",
    "print(f\"ANN_INDEX_ENDPOINT_NAME: {ANN_INDEX_ENDPOINT_NAME}\")\n",
    "print(f\"BF_INDEX_ENDPOINT_NAME: {BF_INDEX_ENDPOINT_NAME}\")"
   ]
  },
  {
   "cell_type": "markdown",
   "id": "bf60672d-5e9e-46b7-9873-30ff41add344",
   "metadata": {},
   "source": [
    "## Deploy Indexes to endpoints\n",
    "\n",
    "> *Note: wait for indexes to be created (~40 mins) before deploying to endpoint*"
   ]
  },
  {
   "cell_type": "code",
   "execution_count": 47,
   "id": "7a3373ad-a554-4f5e-9f45-e51d9396972c",
   "metadata": {
    "tags": []
   },
   "outputs": [],
   "source": [
    "# !gcloud ai indexes list \\\n",
    "#   --project=$PROJECT_ID \\\n",
    "#   --region=$LOCATION"
   ]
  },
  {
   "cell_type": "code",
   "execution_count": 46,
   "id": "e9ed14d5-087b-4995-a8b8-2d5a84e4d104",
   "metadata": {},
   "outputs": [],
   "source": [
    "# if neededing to create index obj in session\n",
    "tree_ah_resource_name = f'projects/{PROJECT_NUM}/locations/us-central1/indexes/5123345953436205056'\n",
    "brute_force_index_resource_name = f'projects/{PROJECT_NUM}/locations/us-central1/indexes/4605994946242019328'\n",
    "\n",
    "tree_ah_index = vertex_ai.MatchingEngineIndex(index_name=tree_ah_resource_name)\n",
    "brute_force_index = vertex_ai.MatchingEngineIndex(index_name=brute_force_index_resource_name)"
   ]
  },
  {
   "cell_type": "code",
   "execution_count": 48,
   "id": "6ca771b3-ab13-4661-8f7c-f509db959469",
   "metadata": {},
   "outputs": [
    {
     "name": "stdout",
     "output_type": "stream",
     "text": [
      "ANN_INDEX_NAME: projects/934903580331/locations/us-central1/indexes/5123345953436205056\n",
      "BF_INDEX_NAME: projects/934903580331/locations/us-central1/indexes/4605994946242019328\n",
      "DEPLOYED_ANN_INDEX_ID: deployed_tfrs_32dim_50e_v8\n",
      "DEPLOYED_BF_INDEX_ID: deployed_tfrs_32dim_50e_v8_bf\n"
     ]
    }
   ],
   "source": [
    "ANN_INDEX_NAME = tree_ah_index.resource_name\n",
    "BF_INDEX_NAME = brute_force_index.resource_name\n",
    "\n",
    "print(f\"ANN_INDEX_NAME: {ANN_INDEX_NAME}\")\n",
    "print(f\"BF_INDEX_NAME: {BF_INDEX_NAME}\")\n",
    "\n",
    "DEPLOYED_ANN_INDEX_ID = f\"deployed_{DISPLAY_NAME}\"\n",
    "DEPLOYED_BF_INDEX_ID = f\"deployed_{BF_DISPLAY_NAME}\"\n",
    "\n",
    "print(f\"DEPLOYED_ANN_INDEX_ID: {DEPLOYED_ANN_INDEX_ID}\")\n",
    "print(f\"DEPLOYED_BF_INDEX_ID: {DEPLOYED_BF_INDEX_ID}\")"
   ]
  },
  {
   "cell_type": "markdown",
   "id": "04ce48c9-8907-4fd4-802b-17081d94fdda",
   "metadata": {},
   "source": [
    "#### Deploy ANN index"
   ]
  },
  {
   "cell_type": "code",
   "execution_count": 49,
   "id": "0d8f47dd-de3b-4c63-ab11-a565700bb21e",
   "metadata": {},
   "outputs": [
    {
     "name": "stdout",
     "output_type": "stream",
     "text": [
      "Deploying index MatchingEngineIndexEndpoint index_endpoint: projects/934903580331/locations/us-central1/indexEndpoints/381618495768494080\n",
      "Deploy index MatchingEngineIndexEndpoint index_endpoint backing LRO: projects/934903580331/locations/us-central1/indexEndpoints/381618495768494080/operations/2757760773768871936\n",
      "MatchingEngineIndexEndpoint index_endpoint Deployed index. Resource name: projects/934903580331/locations/us-central1/indexEndpoints/381618495768494080\n"
     ]
    },
    {
     "data": {
      "text/plain": [
       "[id: \"deployed_tfrs_32dim_50e_v8\"\n",
       "index: \"projects/934903580331/locations/us-central1/indexes/5123345953436205056\"\n",
       "create_time {\n",
       "  seconds: 1673552056\n",
       "  nanos: 94509000\n",
       "}\n",
       "private_endpoints {\n",
       "  match_grpc_address: \"10.41.2.5\"\n",
       "}\n",
       "index_sync_time {\n",
       "  seconds: 1673552270\n",
       "  nanos: 729035000\n",
       "}\n",
       "automatic_resources {\n",
       "  min_replica_count: 2\n",
       "  max_replica_count: 2\n",
       "}\n",
       "deployment_group: \"default\"\n",
       "]"
      ]
     },
     "execution_count": 49,
     "metadata": {},
     "output_type": "execute_result"
    }
   ],
   "source": [
    "deployed_ann_index = my_ann_index_endpoint.deploy_index(\n",
    "    index=tree_ah_index, \n",
    "    deployed_index_id=DEPLOYED_ANN_INDEX_ID\n",
    ")\n",
    "deployed_ann_index.deployed_indexes"
   ]
  },
  {
   "cell_type": "markdown",
   "id": "abc818d6-80dc-4d21-9724-7768bb94ba6e",
   "metadata": {},
   "source": [
    "#### Deploy Brute Force index"
   ]
  },
  {
   "cell_type": "code",
   "execution_count": 50,
   "id": "4811e2e7-9c80-4379-971f-911dc81726d2",
   "metadata": {},
   "outputs": [
    {
     "name": "stdout",
     "output_type": "stream",
     "text": [
      "Deploying index MatchingEngineIndexEndpoint index_endpoint: projects/934903580331/locations/us-central1/indexEndpoints/6417567896351801344\n",
      "Deploy index MatchingEngineIndexEndpoint index_endpoint backing LRO: projects/934903580331/locations/us-central1/indexEndpoints/6417567896351801344/operations/8436799903883067392\n",
      "MatchingEngineIndexEndpoint index_endpoint Deployed index. Resource name: projects/934903580331/locations/us-central1/indexEndpoints/6417567896351801344\n"
     ]
    },
    {
     "data": {
      "text/plain": [
       "[id: \"deployed_tfrs_32dim_50e_v8_bf\"\n",
       "index: \"projects/934903580331/locations/us-central1/indexes/4605994946242019328\"\n",
       "create_time {\n",
       "  seconds: 1673552276\n",
       "  nanos: 416921000\n",
       "}\n",
       "private_endpoints {\n",
       "  match_grpc_address: \"10.41.2.5\"\n",
       "}\n",
       "index_sync_time {\n",
       "  seconds: 1673552492\n",
       "  nanos: 130906000\n",
       "}\n",
       "automatic_resources {\n",
       "  min_replica_count: 2\n",
       "  max_replica_count: 2\n",
       "}\n",
       "deployment_group: \"default\"\n",
       "]"
      ]
     },
     "execution_count": 50,
     "metadata": {},
     "output_type": "execute_result"
    }
   ],
   "source": [
    "deployed_bf_index = my_bf_index_endpoint.deploy_index(\n",
    "    index=brute_force_index, \n",
    "    deployed_index_id=DEPLOYED_BF_INDEX_ID\n",
    ")\n",
    "deployed_bf_index.deployed_indexes"
   ]
  },
  {
   "cell_type": "markdown",
   "id": "b81c9a05-7794-40d7-bff2-0ed3cf5a07d7",
   "metadata": {},
   "source": [
    "# Query Model"
   ]
  },
  {
   "cell_type": "markdown",
   "id": "724761b6-697b-4716-bd60-6e95f0702f3e",
   "metadata": {},
   "source": [
    "### Upload Query Model to Vertex Model Registry"
   ]
  },
  {
   "cell_type": "code",
   "execution_count": 51,
   "id": "42779994-fa65-4469-9d3e-e2edf691fe51",
   "metadata": {},
   "outputs": [
    {
     "name": "stdout",
     "output_type": "stream",
     "text": [
      "QUERY_MODEL_DIR: gs://jt-tfrs-central/a50-epoch/run-20221230-160518/model-dir/query_model\n"
     ]
    }
   ],
   "source": [
    "QUERY_MODEL_DIR = f\"{BUCKET_URI}/{RUN_DIR_PATH}/model-dir/query_model\"\n",
    "\n",
    "print(f\"QUERY_MODEL_DIR: {QUERY_MODEL_DIR}\")"
   ]
  },
  {
   "cell_type": "code",
   "execution_count": 52,
   "id": "17b220ea-8c86-4349-9d1f-efa83a8cfd15",
   "metadata": {},
   "outputs": [
    {
     "name": "stdout",
     "output_type": "stream",
     "text": [
      "gs://jt-tfrs-central/a50-epoch/run-20221230-160518/model-dir/query_model/saved_model.pb\n",
      "gs://jt-tfrs-central/a50-epoch/run-20221230-160518/model-dir/query_model/variables/\n"
     ]
    }
   ],
   "source": [
    "! gsutil ls $QUERY_MODEL_DIR"
   ]
  },
  {
   "cell_type": "code",
   "execution_count": 11,
   "id": "3be2fc8e-3679-4f67-9750-b51a7229b8d8",
   "metadata": {},
   "outputs": [],
   "source": [
    "SERVING_CONTAINER_IMAGE_URI = 'us-docker.pkg.dev/vertex-ai/prediction/tf2-cpu.2-10:latest'"
   ]
  },
  {
   "cell_type": "code",
   "execution_count": 21,
   "id": "12da6c87-988d-47a6-8b87-0644edd5a5c3",
   "metadata": {},
   "outputs": [
    {
     "name": "stdout",
     "output_type": "stream",
     "text": [
      "Creating Model\n",
      "Create Model backing LRO: projects/934903580331/locations/us-central1/models/6791535990214230016/operations/914776975476785152\n",
      "Model created. Resource name: projects/934903580331/locations/us-central1/models/6791535990214230016@1\n",
      "To use this Model in another session:\n",
      "model = aiplatform.Model('projects/934903580331/locations/us-central1/models/6791535990214230016@1')\n"
     ]
    }
   ],
   "source": [
    "uploaded_query_model = vertex_ai.Model.upload(\n",
    "    display_name=f'query_model_{DISPLAY_NAME}',\n",
    "    artifact_uri=QUERY_MODEL_DIR,\n",
    "    serving_container_image_uri=SERVING_CONTAINER_IMAGE_URI,\n",
    "    description=\"Top of the query tower, meant to return an embedding for each playlist instance\",\n",
    "    sync=True,\n",
    ")"
   ]
  },
  {
   "cell_type": "markdown",
   "id": "e0aa3fc4-2889-4de4-bb95-d7fe2b9905a2",
   "metadata": {},
   "source": [
    "#### Create model endpoint"
   ]
  },
  {
   "cell_type": "code",
   "execution_count": 22,
   "id": "e0af496a-7ebd-4cc9-ae1a-b29e205c15ae",
   "metadata": {},
   "outputs": [
    {
     "name": "stdout",
     "output_type": "stream",
     "text": [
      "Creating Endpoint\n",
      "Create Endpoint backing LRO: projects/934903580331/locations/us-central1/endpoints/4002948002778972160/operations/160424037892227072\n",
      "Endpoint created. Resource name: projects/934903580331/locations/us-central1/endpoints/4002948002778972160\n",
      "To use this Endpoint in another session:\n",
      "endpoint = aiplatform.Endpoint('projects/934903580331/locations/us-central1/endpoints/4002948002778972160')\n",
      "MatchingEngineIndex created. Resource name: projects/934903580331/locations/us-central1/indexes/2140274150256672768\n",
      "To use this MatchingEngineIndex in another session:\n",
      "index = aiplatform.MatchingEngineIndex('projects/934903580331/locations/us-central1/indexes/2140274150256672768')\n"
     ]
    }
   ],
   "source": [
    "endpoint = vertex_ai.Endpoint.create(\n",
    "    display_name=f'endpoint_{DISPLAY_NAME}',\n",
    "    project=PROJECT_ID,\n",
    "    location=LOCATION,\n",
    "    sync=True,\n",
    ")"
   ]
  },
  {
   "cell_type": "markdown",
   "id": "61e93ad1-b812-491b-8ed2-b2c47fd3a5b9",
   "metadata": {},
   "source": [
    "#### Deploy uploaded model to model endpoint"
   ]
  },
  {
   "cell_type": "code",
   "execution_count": 23,
   "id": "000fe6b3-095c-4473-971f-3e2d71e13f50",
   "metadata": {},
   "outputs": [
    {
     "name": "stdout",
     "output_type": "stream",
     "text": [
      "Deploying model to Endpoint : projects/934903580331/locations/us-central1/endpoints/4002948002778972160\n",
      "Deploy Endpoint model backing LRO: projects/934903580331/locations/us-central1/endpoints/4002948002778972160/operations/3390067920670294016\n",
      "MatchingEngineIndex created. Resource name: projects/934903580331/locations/us-central1/indexes/7417929963581472768\n",
      "To use this MatchingEngineIndex in another session:\n",
      "index = aiplatform.MatchingEngineIndex('projects/934903580331/locations/us-central1/indexes/7417929963581472768')\n",
      "Endpoint model deployed. Resource name: projects/934903580331/locations/us-central1/endpoints/4002948002778972160\n"
     ]
    }
   ],
   "source": [
    "deployed_query_model = uploaded_query_model.deploy(\n",
    "    endpoint=endpoint,\n",
    "    deployed_model_display_name=f'deployed_qmodel_{DISPLAY_NAME}',\n",
    "    machine_type=\"n1-standard-4\",\n",
    "    min_replica_count=1,\n",
    "    max_replica_count=2,\n",
    "    accelerator_type=None,\n",
    "    accelerator_count=0,\n",
    "    sync=True,\n",
    ")"
   ]
  },
  {
   "cell_type": "markdown",
   "id": "413bfbbe-453d-41a5-8c9b-916b08213eb8",
   "metadata": {},
   "source": [
    "# Retrieve nearest neighbors from index\n",
    "\n",
    "* use query_model to convert test instance to embeddings\n",
    "* use embeddings to search for NN in ANN index"
   ]
  },
  {
   "cell_type": "code",
   "execution_count": 53,
   "id": "71853350-5092-4b8d-aa43-ee9dd74711a1",
   "metadata": {},
   "outputs": [],
   "source": [
    "uploaded_query_model = vertex_ai.Model('projects/934903580331/locations/us-central1/models/6791535990214230016@1')\n",
    "deployed_query_model = vertex_ai.Endpoint('projects/934903580331/locations/us-central1/endpoints/4002948002778972160')\n",
    "deployed_ann_index = vertex_ai.MatchingEngineIndexEndpoint('projects/934903580331/locations/us-central1/indexEndpoints/381618495768494080')\n",
    "deployed_bf_index = vertex_ai.MatchingEngineIndexEndpoint('projects/934903580331/locations/us-central1/indexEndpoints/6417567896351801344')"
   ]
  },
  {
   "cell_type": "markdown",
   "id": "2d2a51f2-2bcb-4213-bc4a-c126cd458382",
   "metadata": {},
   "source": [
    "## Create Test Instance(s)\n",
    "\n",
    "* We can create a quick example from the train or valid dataset by returning a structured example like:\n",
    "\n",
    "```\n",
    "for tensor_dict in train_dataset.unbatch().skip(12905).take(1):\n",
    "    td_keys = tensor_dict.keys()\n",
    "    list_dict = {}\n",
    "    for k in td_keys:\n",
    "        list_dict.update({k: tensor_dict[k].numpy()})\n",
    "    print(list_dict)\n",
    "```"
   ]
  },
  {
   "cell_type": "code",
   "execution_count": 54,
   "id": "da7079b8-f6c7-4a56-8ee4-3e301f0e6f20",
   "metadata": {},
   "outputs": [],
   "source": [
    "TEST_INSTANCE = {\n",
    "    'album_name_can': 'Capoeira Electronica',\n",
    "    'album_name_pl': [\n",
    "        'Odilara', 'Capoeira Electronica', 'Capoeira Ultimate','Festa Popular', 'Capoeira Electronica'\n",
    "    ],\n",
    "    'album_uri_can': 'spotify:album:2FsSSHGt8JM0JgRy6ZX3kR',\n",
    "    'album_uri_pl': [\n",
    "        'spotify:album:4Y8RfvZzCiApBCIZswj9Ry',\n",
    "        'spotify:album:2FsSSHGt8JM0JgRy6ZX3kR',\n",
    "        'spotify:album:55HHBqZ2SefPeaENOgWxYK',\n",
    "        'spotify:album:150L1V6UUT7fGUI3PbxpkE',\n",
    "        'spotify:album:2FsSSHGt8JM0JgRy6ZX3kR'\n",
    "    ],\n",
    "    'artist_followers_can': 5170.0,\n",
    "    'artist_genres_can': 'capoeira',\n",
    "    'artist_genres_pl': ['samba moderno', 'capoeira', 'capoeira', 'NONE','capoeira'],\n",
    "    'artist_name_can': 'Capoeira Experience',\n",
    "    'artist_name_pl': ['Odilara', 'Capoeira Experience', 'Denis Porto', 'Zambe','Capoeira Experience'],\n",
    "    'artist_pop_can': 24.0,\n",
    "    'artist_pop_pl':[ 4., 24.,  2.,  0., 24.],\n",
    "    'artist_uri_can': 'spotify:artist:5SKEXbgzIdRl3gQJ23CnUP',\n",
    "    'artist_uri_pl': [\n",
    "        'spotify:artist:72oameojLOPWYB7nB8rl6c',\n",
    "        'spotify:artist:5SKEXbgzIdRl3gQJ23CnUP',\n",
    "        'spotify:artist:67p5GMYQZOgaAfx1YyttQk',\n",
    "        'spotify:artist:4fH3OXCRcPsaHFE5KhgqZS',\n",
    "        'spotify:artist:5SKEXbgzIdRl3gQJ23CnUP'\n",
    "    ],\n",
    "    'artists_followers_pl': [ 316., 5170.,  448.,   19., 5170.],\n",
    "    'duration_ms_can': 192640.0,\n",
    "    'duration_ms_songs_pl': [234612., 226826., 203480., 287946., 271920.],\n",
    "    'num_pl_albums_new': 9.0,\n",
    "    'num_pl_artists_new': 5.0,\n",
    "    'num_pl_songs_new': 85.0,\n",
    "    'pl_collaborative_src': 'false',\n",
    "    'pl_duration_ms_new': 17971314.0,\n",
    "    'pl_name_src': 'Capoeira',\n",
    "    'time_signature_can': '4',\n",
    "    'time_signature_pl': ['4', '4', '4', '4', '4'],\n",
    "    'track_acousticness_can': 0.478,\n",
    "    'track_acousticness_pl': [0.238 , 0.105 , 0.0242, 0.125 , 0.304 ],\n",
    "    'track_danceability_can': 0.709,\n",
    "    'track_danceability_pl': [0.703, 0.712, 0.806, 0.529, 0.821],\n",
    "    'track_energy_can': 0.742,\n",
    "    'track_energy_pl': [0.743, 0.41 , 0.794, 0.776, 0.947],\n",
    "    'track_instrumentalness_can': 0.00297,\n",
    "    'track_instrumentalness_pl': [4.84e-06, 4.30e-01, 7.42e-04, 4.01e-01, 5.07e-03],\n",
    "    'track_key_can': '0',\n",
    "    'track_key_pl': ['5', '0', '1', '10', '10'],\n",
    "    'track_liveness_can': 0.0346,\n",
    "    'track_liveness_pl': [0.128 , 0.0725, 0.191 , 0.105 , 0.0552],\n",
    "    'track_loudness_can': -7.295,\n",
    "    'track_loudness_pl': [-8.638, -8.754, -9.084, -7.04 , -6.694],\n",
    "    'track_mode_can': '1',\n",
    "    'track_mode_pl': ['0', '1', '1', '0', '1'],\n",
    "    'track_name_can': 'Bezouro Preto - Studio',\n",
    "    'track_name_pl': ['O Telefone Tocou Novamente', 'Bem Devagar - Studio','Angola Dream', 'Janaina', 'Louco Berimbau - Studio'],\n",
    "    'track_pop_can': 3.0,\n",
    "    'track_pop_pl': [5., 1., 0., 0., 1.],\n",
    "    'track_speechiness_can': 0.0802,\n",
    "    'track_speechiness_pl':[0.0367, 0.0272, 0.0407, 0.132 , 0.0734],\n",
    "    'track_tempo_can': 172.238,\n",
    "    'track_tempo_pl': [100.039,  89.089, 123.999, 119.963, 119.214],\n",
    "    'track_uri_can': 'spotify:track:0tlhK4OvpHCYpReTABvKFb',\n",
    "    'track_uri_pl': [\n",
    "        'spotify:track:1pQkOdcTDfLr84TDCrmGy7',\n",
    "        'spotify:track:39grEDsAHAjmo2QFo4G8D9',\n",
    "        'spotify:track:5vxSLdJXqbKYH487YO8LSL',\n",
    "        'spotify:track:6T9GbmZ6voDM4aTBsG5VDh',\n",
    "        'spotify:track:7ELt9eslVvWo276pX2garN'\n",
    "    ],\n",
    "    'track_valence_can': 0.844,\n",
    "    'track_valence_pl': [0.966, 0.667, 0.696, 0.876, 0.655],\n",
    "}"
   ]
  },
  {
   "cell_type": "markdown",
   "id": "7819287c-bb3e-4ce6-a216-c53407819720",
   "metadata": {},
   "source": [
    "#### If needing to create model and index objects in session..."
   ]
  },
  {
   "cell_type": "code",
   "execution_count": 55,
   "id": "969f1bca-8505-458c-8267-3ea0325d6ba9",
   "metadata": {},
   "outputs": [
    {
     "data": {
      "text/plain": [
       "Prediction(predictions=[[0.059902925, -0.492682517, 0.146539509, -0.296207726, -2.75934458, 3.86213779, 0.680902481, 1.17066145, -1.72475672, 1.10044408, 0.496523142, -1.07292652, 0.763490498, -1.37628, -0.630429149, 1.04659331, 0.444013417, -0.623084664, -1.07019091, -0.380872279, -1.43623781, 2.77222896, -0.356521338, 0.925348163, -2.93748331, 0.515905, 0.777000666, 1.78092742, 0.343145162, 2.04922, -2.74038124, -0.692501187]], deployed_model_id='520565979193802752', model_version_id='1', model_resource_name='projects/934903580331/locations/us-central1/models/6791535990214230016', explanations=None)"
      ]
     },
     "execution_count": 55,
     "metadata": {},
     "output_type": "execute_result"
    }
   ],
   "source": [
    "playlist_emb = deployed_query_model.predict([TEST_INSTANCE])\n",
    "playlist_emb"
   ]
  },
  {
   "cell_type": "code",
   "execution_count": 56,
   "id": "920e6f4b-d491-4736-9dfb-55f69c2a468a",
   "metadata": {},
   "outputs": [],
   "source": [
    "DEPLOYED_ANN_INDEX_ID = 'deployed_tfrs_32dim_50e_v8'\n",
    "DEPLOYED_BF_INDEX_ID = 'deployed_tfrs_32dim_50e_v8_bf'"
   ]
  },
  {
   "cell_type": "code",
   "execution_count": 57,
   "id": "af6d8787-50a3-487d-8767-2cebaad8c580",
   "metadata": {},
   "outputs": [
    {
     "name": "stdout",
     "output_type": "stream",
     "text": [
      "5.66 ms ± 66.1 µs per loop (mean ± std. dev. of 7 runs, 100 loops each)\n"
     ]
    }
   ],
   "source": [
    "%%timeit \n",
    "ANN_response = deployed_ann_index.match(\n",
    "    deployed_index_id=DEPLOYED_ANN_INDEX_ID,\n",
    "    queries=playlist_emb.predictions,\n",
    "    num_neighbors=10\n",
    ")\n",
    "# ANN_response"
   ]
  },
  {
   "cell_type": "code",
   "execution_count": 58,
   "id": "b2ac51b8-125d-475d-a609-1705428cc20d",
   "metadata": {},
   "outputs": [
    {
     "data": {
      "text/plain": [
       "[[MatchNeighbor(id='spotify:track:5EOCVGLC87l0ltBHPF1PLZ', distance=277.0671691894531),\n",
       "  MatchNeighbor(id='spotify:track:2nRu8GJ4YOOTko2AL6JFHv', distance=276.6213684082031),\n",
       "  MatchNeighbor(id='spotify:track:2y6E5270GWuFOkFT9IDKzp', distance=276.147705078125),\n",
       "  MatchNeighbor(id='spotify:track:6YpVOTOw4tS3Rn3uFOprZW', distance=275.94091796875),\n",
       "  MatchNeighbor(id='spotify:track:1EuEdRsSKW2KfxgjQHKOjB', distance=275.8877868652344),\n",
       "  MatchNeighbor(id='spotify:track:1ylbo5s6dZEUC3Bi57Hxy0', distance=275.6029052734375),\n",
       "  MatchNeighbor(id='spotify:track:3Ouo7onYOiX2R1xTG8jwMV', distance=275.3026428222656),\n",
       "  MatchNeighbor(id='spotify:track:1JznSrEEOdCmVbPDKr1BmN', distance=275.12353515625),\n",
       "  MatchNeighbor(id='spotify:track:4a8o7xDrEB2Emc1pCTBIDl', distance=274.9769592285156),\n",
       "  MatchNeighbor(id='spotify:track:0BEfyNWHdUbzoZ81fOEQGB', distance=274.9180908203125)]]"
      ]
     },
     "execution_count": 58,
     "metadata": {},
     "output_type": "execute_result"
    }
   ],
   "source": [
    "ANN_response"
   ]
  },
  {
   "cell_type": "code",
   "execution_count": 59,
   "id": "d63bf1e5-8893-4c76-9b56-7f557ca2aa91",
   "metadata": {},
   "outputs": [
    {
     "name": "stdout",
     "output_type": "stream",
     "text": [
      "36.1 ms ± 2.17 ms per loop (mean ± std. dev. of 7 runs, 10 loops each)\n"
     ]
    }
   ],
   "source": [
    "%%timeit \n",
    "BF_response = deployed_bf_index.match(\n",
    "    deployed_index_id=DEPLOYED_BF_INDEX_ID,\n",
    "    queries=playlist_emb.predictions,\n",
    "    num_neighbors=10\n",
    ")\n",
    "# BF_response"
   ]
  },
  {
   "cell_type": "code",
   "execution_count": 60,
   "id": "51ba10f9-f2c6-406c-a75c-81cbf4230da9",
   "metadata": {},
   "outputs": [
    {
     "data": {
      "text/plain": [
       "[[MatchNeighbor(id='spotify:track:5EOCVGLC87l0ltBHPF1PLZ', distance=277.0671691894531),\n",
       "  MatchNeighbor(id='spotify:track:2nRu8GJ4YOOTko2AL6JFHv', distance=276.6213684082031),\n",
       "  MatchNeighbor(id='spotify:track:7by9lz7HaaYM5ZMa7gWMhP', distance=276.21881103515625),\n",
       "  MatchNeighbor(id='spotify:track:2y6E5270GWuFOkFT9IDKzp', distance=276.147705078125),\n",
       "  MatchNeighbor(id='spotify:track:6YpVOTOw4tS3Rn3uFOprZW', distance=275.94091796875),\n",
       "  MatchNeighbor(id='spotify:track:1EuEdRsSKW2KfxgjQHKOjB', distance=275.8877868652344),\n",
       "  MatchNeighbor(id='spotify:track:5LzFJYbcTGLZ6c1NsjtAlj', distance=275.7001037597656),\n",
       "  MatchNeighbor(id='spotify:track:12YahMP74oGi4dT8EO2uNu', distance=275.6883239746094),\n",
       "  MatchNeighbor(id='spotify:track:1ylbo5s6dZEUC3Bi57Hxy0', distance=275.6029052734375),\n",
       "  MatchNeighbor(id='spotify:track:3Ouo7onYOiX2R1xTG8jwMV', distance=275.3026428222656)]]"
      ]
     },
     "execution_count": 60,
     "metadata": {},
     "output_type": "execute_result"
    }
   ],
   "source": [
    "BF_response"
   ]
  },
  {
   "cell_type": "markdown",
   "id": "2145e14e-2bd3-4a4d-ab2c-d4f26ad60175",
   "metadata": {},
   "source": [
    "## Compute Recall"
   ]
  },
  {
   "cell_type": "code",
   "execution_count": 61,
   "id": "6dcb3c8e-219f-42bd-a6f0-671b903b4f46",
   "metadata": {},
   "outputs": [
    {
     "name": "stdout",
     "output_type": "stream",
     "text": [
      "Recall: 0.7\n"
     ]
    }
   ],
   "source": [
    "# Calculate recall by determining how many neighbors were correctly retrieved as compared to the brute-force option.\n",
    "recalled_neighbors = 0\n",
    "for tree_ah_neighbors, brute_force_neighbors in zip(\n",
    "    ANN_response, BF_response\n",
    "):\n",
    "    tree_ah_neighbor_ids = [neighbor.id for neighbor in tree_ah_neighbors]\n",
    "    brute_force_neighbor_ids = [neighbor.id for neighbor in brute_force_neighbors]\n",
    "\n",
    "    recalled_neighbors += len(\n",
    "        set(tree_ah_neighbor_ids).intersection(brute_force_neighbor_ids)\n",
    "    )\n",
    "\n",
    "recall = recalled_neighbors / len(\n",
    "    [neighbor for neighbors in BF_response for neighbor in neighbors]\n",
    ")\n",
    "\n",
    "print(\"Recall: {}\".format(recall))"
   ]
  },
  {
   "cell_type": "code",
   "execution_count": null,
   "id": "af8ab10f-6f78-4554-9dd4-807a951d64eb",
   "metadata": {},
   "outputs": [],
   "source": []
  }
 ],
 "metadata": {
  "environment": {
   "kernel": "python3",
   "name": "tf2-gpu.2-8.m97",
   "type": "gcloud",
   "uri": "gcr.io/deeplearning-platform-release/tf2-gpu.2-8:m97"
  },
  "kernelspec": {
   "display_name": "Python 3",
   "language": "python",
   "name": "python3"
  },
  "language_info": {
   "codemirror_mode": {
    "name": "ipython",
    "version": 3
   },
   "file_extension": ".py",
   "mimetype": "text/x-python",
   "name": "python",
   "nbconvert_exporter": "python",
   "pygments_lexer": "ipython3",
   "version": "3.7.12"
  }
 },
 "nbformat": 4,
 "nbformat_minor": 5
}
