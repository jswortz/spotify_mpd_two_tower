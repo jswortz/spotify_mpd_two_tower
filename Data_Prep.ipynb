{
 "cells": [
  {
   "cell_type": "code",
   "execution_count": 1,
   "id": "1e4a70f4-97ae-4eaf-9cc1-285451831432",
   "metadata": {},
   "outputs": [],
   "source": [
    "# We take the tracks as strings to be parsed by tf.data downstream"
   ]
  },
  {
   "cell_type": "markdown",
   "id": "0141e1bc-9a0a-42d4-a5fc-a2b3cf6bd967",
   "metadata": {},
   "source": [
    "## hows table creation from zip files"
   ]
  },
  {
   "cell_type": "code",
   "execution_count": null,
   "id": "b2042f76-7740-4286-9eb8-c36c0f14d760",
   "metadata": {},
   "outputs": [],
   "source": [
    "# import os\n",
    "# import json\n",
    "\n",
    "# data_files = os.listdir('data')\n",
    "# # PROJECT_ID = 'jtotten-project'\n",
    "# bq_dataset = 'mdp_eda'\n",
    "\n",
    "# for filename in data_files:\n",
    "#   with open(f'data/{filename}') as f:\n",
    "#     print(f)\n",
    "#     json_dict = json.load(f)\n",
    "#     df = pd.DataFrame(json_dict['playlists'])\n",
    "#     df.to_gbq(\n",
    "#     destination_table=f'{bq_dataset}.playlists', \n",
    "#     project_id=f'{PROJECT_ID}', # TODO: param\n",
    "#     location='us-central1', \n",
    "#     progress_bar=True, \n",
    "#     reauth=True, \n",
    "#     if_exists='append'\n",
    "#     ) "
   ]
  },
  {
   "cell_type": "code",
   "execution_count": 2,
   "id": "1a5dd5af-5a97-460b-bf2c-2364825d80f2",
   "metadata": {},
   "outputs": [
    {
     "name": "stderr",
     "output_type": "stream",
     "text": [
      "Query complete after 0.01s: 100%|██████████| 3/3 [00:00<00:00, 1462.28query/s]                        \n"
     ]
    },
    {
     "data": {
      "text/html": [
       "<div>\n",
       "<style scoped>\n",
       "    .dataframe tbody tr th:only-of-type {\n",
       "        vertical-align: middle;\n",
       "    }\n",
       "\n",
       "    .dataframe tbody tr th {\n",
       "        vertical-align: top;\n",
       "    }\n",
       "\n",
       "    .dataframe thead th {\n",
       "        text-align: right;\n",
       "    }\n",
       "</style>\n",
       "<table border=\"1\" class=\"dataframe\">\n",
       "  <thead>\n",
       "    <tr style=\"text-align: right;\">\n",
       "      <th></th>\n",
       "    </tr>\n",
       "  </thead>\n",
       "  <tbody>\n",
       "  </tbody>\n",
       "</table>\n",
       "</div>"
      ],
      "text/plain": [
       "Empty DataFrame\n",
       "Columns: []\n",
       "Index: []"
      ]
     },
     "execution_count": 2,
     "metadata": {},
     "output_type": "execute_result"
    }
   ],
   "source": [
    "%%bigquery\n",
    "create or replace table jtotten-project.spotify_mpd.playlists_track_string as \n",
    "(\n",
    "SELECT * EXCEPT(tracks), JSON_EXTRACT_ARRAY(tracks) as tracks FROM `jtotten-project.mdp_eda.playlists`)"
   ]
  },
  {
   "cell_type": "code",
   "execution_count": null,
   "id": "b164df2d-3bb4-4ce2-a8a6-f72e262cc1e8",
   "metadata": {},
   "outputs": [],
   "source": [
    "# %%bigquery\n",
    "# create or replace table jtotten-project.spotify_mpd.playlists_nested_staging as \n",
    "# (\n",
    "# SELECT * EXCEPT(tracks), JSON_EXTRACT_ARRAY(tracks) as tracks FROM `jtotten-project.mdp_eda.playlists`)"
   ]
  },
  {
   "cell_type": "code",
   "execution_count": null,
   "id": "4039bcab-b27d-412e-af7b-663bc1ba8a6d",
   "metadata": {},
   "outputs": [],
   "source": [
    "# %%bigquery\n",
    "# SELECT * EXCEPT(tracks),\n",
    "#     ARRAY(\n",
    "#         SELECT STRUCT(\n",
    "#         JSON_EXTRACT_SCALAR(jsn_ln, \"$.pos\") as pos, \n",
    "#         JSON_EXTRACT_SCALAR(jsn_ln, \"$.artist_name\") as artist_name,\n",
    "#         JSON_EXTRACT_SCALAR(jsn_ln, \"$.track_uri\") as track_uri,\n",
    "#         JSON_EXTRACT_SCALAR(jsn_ln, \"$.artist_uri\") as artist_uri,\n",
    "#         JSON_EXTRACT_SCALAR(jsn_ln, \"$.track_name\") as track_name,\n",
    "#         JSON_EXTRACT_SCALAR(jsn_ln, \"$.album_uri\") as album_uri,\n",
    "#         JSON_EXTRACT_SCALAR(jsn_ln, \"$.duration_ms\") as duration_ms,\n",
    "#         JSON_EXTRACT_SCALAR(jsn_ln, \"$.album_name\") as album_name\n",
    "#  ) as tracks\n",
    "#         from UNNEST(playlists_nested_staging.tracks) as jsn_ln)\n",
    "#  FROM jtotten-project.spotify_mpd.playlists_nested_staging"
   ]
  }
 ],
 "metadata": {
  "environment": {
   "kernel": "python3",
   "name": "tf2-gpu.2-8.m91",
   "type": "gcloud",
   "uri": "gcr.io/deeplearning-platform-release/tf2-gpu.2-8:m91"
  },
  "kernelspec": {
   "display_name": "Python 3",
   "language": "python",
   "name": "python3"
  },
  "language_info": {
   "codemirror_mode": {
    "name": "ipython",
    "version": 3
   },
   "file_extension": ".py",
   "mimetype": "text/x-python",
   "name": "python",
   "nbconvert_exporter": "python",
   "pygments_lexer": "ipython3",
   "version": "3.7.12"
  }
 },
 "nbformat": 4,
 "nbformat_minor": 5
}
